{
 "cells": [
  {
   "cell_type": "markdown",
   "metadata": {
    "lc_cell_meme": {
     "current": "23d79286-7eb8-11ea-86a9-02420a01000c",
     "next": "23d79380-7eb8-11ea-86a9-02420a01000c",
     "previous": null
    }
   },
   "source": [
    "# Jupyter notebookな基本的な使い方"
   ]
  },
  {
   "cell_type": "markdown",
   "metadata": {
    "lc_cell_meme": {
     "current": "23d79380-7eb8-11ea-86a9-02420a01000c",
     "next": "23d79452-7eb8-11ea-86a9-02420a01000c",
     "previous": "23d79286-7eb8-11ea-86a9-02420a01000c"
    }
   },
   "source": [
    "## コマンドモードと編集モード\n"
   ]
  },
  {
   "cell_type": "markdown",
   "metadata": {
    "lc_cell_meme": {
     "current": "23d79452-7eb8-11ea-86a9-02420a01000c",
     "next": "23d79510-7eb8-11ea-86a9-02420a01000c",
     "previous": "23d79380-7eb8-11ea-86a9-02420a01000c"
    }
   },
   "source": [
    "* コマンドモード  \n",
    "  セルの移動、挿入、削除などの操作を行う  \n",
    "  セルの左枠が青の状態\n",
    "* 編集モード  \n",
    "  セルが選択された状態でEnterを押すと編集モードに入る   \n",
    "  shift + Enter を押すと、セルの内容が実行される  \n",
    "  ESCを押すか、セルの外側をクリックすると編集モードに入る\n",
    "  "
   ]
  },
  {
   "cell_type": "markdown",
   "metadata": {
    "lc_cell_meme": {
     "current": "23d79510-7eb8-11ea-86a9-02420a01000c",
     "next": "23d795d8-7eb8-11ea-86a9-02420a01000c",
     "previous": "23d79452-7eb8-11ea-86a9-02420a01000c"
    }
   },
   "source": [
    "# セル内部で shift + Enter を押すと実行されます"
   ]
  },
  {
   "cell_type": "code",
   "execution_count": null,
   "metadata": {
    "lc_cell_meme": {
     "current": "23d795d8-7eb8-11ea-86a9-02420a01000c",
     "next": "23d79696-7eb8-11ea-86a9-02420a01000c",
     "previous": "23d79510-7eb8-11ea-86a9-02420a01000c"
    },
    "lc_wrapper": {
     "log_history": [
      "/home/yoko69d621/textbook/jupyter101/genome-sci/.log/20200415/20200415-012523-0775.log"
     ]
    }
   },
   "outputs": [],
   "source": [
    "# 最後に評価された式の返り値が、自動的に出力されます。\n",
    "a = list(range(10))\n",
    "sorted(a, reverse=True)"
   ]
  },
  {
   "cell_type": "markdown",
   "metadata": {
    "lc_cell_meme": {
     "current": "23d79696-7eb8-11ea-86a9-02420a01000c",
     "next": "23d797cc-7eb8-11ea-86a9-02420a01000c",
     "previous": "23d795d8-7eb8-11ea-86a9-02420a01000c"
    }
   },
   "source": [
    "## ヘルプの参照"
   ]
  },
  {
   "cell_type": "markdown",
   "metadata": {
    "lc_cell_meme": {
     "current": "23d797cc-7eb8-11ea-86a9-02420a01000c",
     "next": "23d79894-7eb8-11ea-86a9-02420a01000c",
     "previous": "23d79696-7eb8-11ea-86a9-02420a01000c"
    }
   },
   "source": [
    "* キーボードショートカットの表示  \n",
    "Help --> Keyboard Shortcuts"
   ]
  },
  {
   "cell_type": "markdown",
   "metadata": {
    "lc_cell_meme": {
     "current": "23d79894-7eb8-11ea-86a9-02420a01000c",
     "next": "23d79952-7eb8-11ea-86a9-02420a01000c",
     "previous": "23d797cc-7eb8-11ea-86a9-02420a01000c"
    }
   },
   "source": [
    "* 関数、メソッドのヘルプ  \n",
    "後に?をつける"
   ]
  },
  {
   "cell_type": "code",
   "execution_count": null,
   "metadata": {
    "lc_cell_meme": {
     "current": "23d79952-7eb8-11ea-86a9-02420a01000c",
     "next": "23d79a10-7eb8-11ea-86a9-02420a01000c",
     "previous": "23d79894-7eb8-11ea-86a9-02420a01000c"
    },
    "lc_wrapper": {
     "log_history": [
      "/home/yoko69d621/textbook/jupyter101/genome-sci/.log/20200415/20200415-012730-0685.log"
     ]
    }
   },
   "outputs": [],
   "source": [
    "sorted?"
   ]
  },
  {
   "cell_type": "code",
   "execution_count": null,
   "metadata": {
    "lc_cell_meme": {
     "current": "23d79a10-7eb8-11ea-86a9-02420a01000c",
     "next": "23d79ace-7eb8-11ea-86a9-02420a01000c",
     "previous": "23d79952-7eb8-11ea-86a9-02420a01000c"
    }
   },
   "outputs": [],
   "source": [
    "# BiopythonパッケージからからSeqIOモジュールをインポート\n",
    "from Bio import SeqIO"
   ]
  },
  {
   "cell_type": "code",
   "execution_count": null,
   "metadata": {
    "lc_cell_meme": {
     "current": "23d79ace-7eb8-11ea-86a9-02420a01000c",
     "next": "23d79b8c-7eb8-11ea-86a9-02420a01000c",
     "previous": "23d79a10-7eb8-11ea-86a9-02420a01000c"
    }
   },
   "outputs": [],
   "source": [
    "SeqIO.parse?"
   ]
  },
  {
   "cell_type": "markdown",
   "metadata": {
    "lc_cell_meme": {
     "current": "23d79b8c-7eb8-11ea-86a9-02420a01000c",
     "next": "23d79c4a-7eb8-11ea-86a9-02420a01000c",
     "previous": "23d79ace-7eb8-11ea-86a9-02420a01000c"
    }
   },
   "source": [
    "## セルの基本操作（絶対に覚えておいた方が良いショートカット）"
   ]
  },
  {
   "cell_type": "markdown",
   "metadata": {
    "lc_cell_meme": {
     "current": "23d79c4a-7eb8-11ea-86a9-02420a01000c",
     "next": "23d79d08-7eb8-11ea-86a9-02420a01000c",
     "previous": "23d79b8c-7eb8-11ea-86a9-02420a01000c"
    }
   },
   "source": [
    "* 上にセルを挿入  \n",
    "  コマンドモードで a を押す(above) \n",
    "* 下にセルを挿入  \n",
    "  コマンドモードで b を押す(below) \n",
    "* セルの挿入  \n",
    "  コマンドモードで d を続けて二回押す。(delete) \n",
    "* セルのカット・コピー・ペースト  \n",
    "  コマンドモードで それぞれx、c、vを押す\n",
    "* セル内容の実行  \n",
    "  shift + Enter (コマンドモード、編集モードどちらでも）"
   ]
  },
  {
   "cell_type": "markdown",
   "metadata": {
    "lc_cell_meme": {
     "current": "23d79d08-7eb8-11ea-86a9-02420a01000c",
     "next": "23d79dc6-7eb8-11ea-86a9-02420a01000c",
     "previous": "23d79c4a-7eb8-11ea-86a9-02420a01000c"
    }
   },
   "source": [
    "## セルの種類"
   ]
  },
  {
   "cell_type": "markdown",
   "metadata": {
    "lc_cell_meme": {
     "current": "23d79dc6-7eb8-11ea-86a9-02420a01000c",
     "next": "23d79e84-7eb8-11ea-86a9-02420a01000c",
     "previous": "23d79d08-7eb8-11ea-86a9-02420a01000c"
    }
   },
   "source": [
    "* マークダウンセル  \n",
    "  このセルは__マークダウン__で記載されています。  \n",
    "  マークダウンを使うと様々な _書式_を指定することができます。  \n",
    "  詳しくは[こちらのリンク先](https://qiita.com/tbpgr/items/989c6badefff69377da7)を参照。  \n",
    "  コードを表示させることもできます。\n",
    "```\n",
    "def func(a):\n",
    "    return str(a).upper()\n",
    "```\n",
    "セルをマークダウンに変更するには、コマンドモードで m を押すか、画面上部のメニューバーで変更します。"
   ]
  },
  {
   "cell_type": "markdown",
   "metadata": {
    "lc_cell_meme": {
     "current": "23d79e84-7eb8-11ea-86a9-02420a01000c",
     "next": "23d79f42-7eb8-11ea-86a9-02420a01000c",
     "previous": "23d79dc6-7eb8-11ea-86a9-02420a01000c"
    }
   },
   "source": [
    "* コードセル"
   ]
  },
  {
   "cell_type": "code",
   "execution_count": null,
   "metadata": {
    "lc_cell_meme": {
     "current": "23d79f42-7eb8-11ea-86a9-02420a01000c",
     "next": "23d7a000-7eb8-11ea-86a9-02420a01000c",
     "previous": "23d79e84-7eb8-11ea-86a9-02420a01000c"
    },
    "lc_wrapper": {
     "log_history": [
      "/home/yoko69d621/textbook/jupyter101/genome-sci/.log/20200415/20200415-013009-0940.log"
     ]
    }
   },
   "outputs": [],
   "source": [
    "print(\"このセルは実行可能なコードを含みます。\")\n",
    "message = \"新規挿入されたセルはデフォルトでコードセルになっています。\"\n",
    "message += \"\\nコマンドモードで y を押すとコードセルに変更できます。\"\n",
    "print(message)"
   ]
  },
  {
   "cell_type": "markdown",
   "metadata": {
    "lc_cell_meme": {
     "current": "23d7a000-7eb8-11ea-86a9-02420a01000c",
     "next": "23d7a0be-7eb8-11ea-86a9-02420a01000c",
     "previous": "23d79f42-7eb8-11ea-86a9-02420a01000c"
    }
   },
   "source": [
    "# 便利な使い方"
   ]
  },
  {
   "cell_type": "markdown",
   "metadata": {
    "lc_cell_meme": {
     "current": "23d7a0be-7eb8-11ea-86a9-02420a01000c",
     "next": "23d7a17c-7eb8-11ea-86a9-02420a01000c",
     "previous": "23d7a000-7eb8-11ea-86a9-02420a01000c"
    }
   },
   "source": [
    "## タブによる補完"
   ]
  },
  {
   "cell_type": "markdown",
   "metadata": {
    "lc_cell_meme": {
     "current": "23d7a17c-7eb8-11ea-86a9-02420a01000c",
     "next": "23d7a23a-7eb8-11ea-86a9-02420a01000c",
     "previous": "23d7a0be-7eb8-11ea-86a9-02420a01000c"
    }
   },
   "source": [
    "入力の途中で TAB を押すと、変数名・関数名・ファイル名などの補完ができます。"
   ]
  },
  {
   "cell_type": "code",
   "execution_count": null,
   "metadata": {
    "lc_cell_meme": {
     "current": "23d7a23a-7eb8-11ea-86a9-02420a01000c",
     "next": "23d7a2f8-7eb8-11ea-86a9-02420a01000c",
     "previous": "23d7a17c-7eb8-11ea-86a9-02420a01000c"
    }
   },
   "outputs": [],
   "source": [
    "import math"
   ]
  },
  {
   "cell_type": "code",
   "execution_count": null,
   "metadata": {
    "lc_cell_meme": {
     "current": "23d7a2f8-7eb8-11ea-86a9-02420a01000c",
     "next": "23d7a3b6-7eb8-11ea-86a9-02420a01000c",
     "previous": "23d7a23a-7eb8-11ea-86a9-02420a01000c"
    }
   },
   "outputs": [],
   "source": [
    "# math. まで打って TAB を押すと候補が表示されることを確認してください\n",
    "math."
   ]
  },
  {
   "cell_type": "code",
   "execution_count": null,
   "metadata": {
    "lc_cell_meme": {
     "current": "23d7a3b6-7eb8-11ea-86a9-02420a01000c",
     "next": "23d7a474-7eb8-11ea-86a9-02420a01000c",
     "previous": "23d7a2f8-7eb8-11ea-86a9-02420a01000c"
    }
   },
   "outputs": [],
   "source": [
    "dir?"
   ]
  },
  {
   "cell_type": "code",
   "execution_count": null,
   "metadata": {
    "lc_cell_meme": {
     "current": "23d7a474-7eb8-11ea-86a9-02420a01000c",
     "next": "23d7a53c-7eb8-11ea-86a9-02420a01000c",
     "previous": "23d7a3b6-7eb8-11ea-86a9-02420a01000c"
    },
    "scrolled": true
   },
   "outputs": [],
   "source": [
    "# dir 関数を使用すると、どのような機能・属性が含まれているかわかります。\n",
    "dir(math)"
   ]
  },
  {
   "cell_type": "code",
   "execution_count": null,
   "metadata": {
    "lc_cell_meme": {
     "current": "23d7a53c-7eb8-11ea-86a9-02420a01000c",
     "next": "23d7a604-7eb8-11ea-86a9-02420a01000c",
     "previous": "23d7a474-7eb8-11ea-86a9-02420a01000c"
    }
   },
   "outputs": [],
   "source": [
    "# 文字列オブジェクトが持つメソッドなどを表示します。\n",
    "a = \"Hello\"\n",
    "dir(a)"
   ]
  },
  {
   "cell_type": "code",
   "execution_count": null,
   "metadata": {
    "lc_cell_meme": {
     "current": "23d7a604-7eb8-11ea-86a9-02420a01000c",
     "next": "23d7a6c2-7eb8-11ea-86a9-02420a01000c",
     "previous": "23d7a53c-7eb8-11ea-86a9-02420a01000c"
    }
   },
   "outputs": [],
   "source": [
    "a.capitalize?"
   ]
  },
  {
   "cell_type": "markdown",
   "metadata": {
    "lc_cell_meme": {
     "current": "23d7a6c2-7eb8-11ea-86a9-02420a01000c",
     "next": "23d7a7b2-7eb8-11ea-86a9-02420a01000c",
     "previous": "23d7a604-7eb8-11ea-86a9-02420a01000c"
    }
   },
   "source": [
    "## 一部のシェルコマンドはそのまま使用可能"
   ]
  },
  {
   "cell_type": "code",
   "execution_count": null,
   "metadata": {
    "lc_cell_meme": {
     "current": "23d7a7b2-7eb8-11ea-86a9-02420a01000c",
     "next": "23d7a87a-7eb8-11ea-86a9-02420a01000c",
     "previous": "23d7a6c2-7eb8-11ea-86a9-02420a01000c"
    }
   },
   "outputs": [],
   "source": [
    "ls"
   ]
  },
  {
   "cell_type": "code",
   "execution_count": null,
   "metadata": {
    "lc_cell_meme": {
     "current": "23d7a87a-7eb8-11ea-86a9-02420a01000c",
     "next": "23d7a942-7eb8-11ea-86a9-02420a01000c",
     "previous": "23d7a7b2-7eb8-11ea-86a9-02420a01000c"
    }
   },
   "outputs": [],
   "source": [
    "pwd"
   ]
  },
  {
   "cell_type": "markdown",
   "metadata": {
    "lc_cell_meme": {
     "current": "23d7a942-7eb8-11ea-86a9-02420a01000c",
     "next": "23d7aa00-7eb8-11ea-86a9-02420a01000c",
     "previous": "23d7a87a-7eb8-11ea-86a9-02420a01000c"
    }
   },
   "source": [
    "## ! をつけるとシェルコマンドの内容をリストとして取得できる"
   ]
  },
  {
   "cell_type": "code",
   "execution_count": null,
   "metadata": {
    "lc_cell_meme": {
     "current": "23d7aa00-7eb8-11ea-86a9-02420a01000c",
     "next": "23d7aabe-7eb8-11ea-86a9-02420a01000c",
     "previous": "23d7a942-7eb8-11ea-86a9-02420a01000c"
    },
    "lc_wrapper": {
     "log_history": [
      "/home/yoko69d621/textbook/jupyter101/genome-sci/.log/20200415/20200415-015637-0947.log"
     ]
    }
   },
   "outputs": [],
   "source": [
    "ret = !cat input/s288c_n20.gff | head -5"
   ]
  },
  {
   "cell_type": "code",
   "execution_count": null,
   "metadata": {
    "lc_cell_meme": {
     "current": "23d7aabe-7eb8-11ea-86a9-02420a01000c",
     "next": "23d7ac30-7eb8-11ea-86a9-02420a01000c",
     "previous": "23d7aa00-7eb8-11ea-86a9-02420a01000c"
    },
    "lc_wrapper": {
     "log_history": [
      "/home/yoko69d621/textbook/jupyter101/genome-sci/.log/20200415/20200415-015640-0183.log"
     ]
    }
   },
   "outputs": [],
   "source": [
    "for line in ret:\n",
    "    print(line)"
   ]
  },
  {
   "cell_type": "markdown",
   "metadata": {
    "lc_cell_meme": {
     "current": "23d7ac30-7eb8-11ea-86a9-02420a01000c",
     "next": "23d7acf8-7eb8-11ea-86a9-02420a01000c",
     "previous": "23d7aabe-7eb8-11ea-86a9-02420a01000c"
    }
   },
   "source": [
    "## マジックコマンド"
   ]
  },
  {
   "cell_type": "markdown",
   "metadata": {
    "lc_cell_meme": {
     "current": "23d7acf8-7eb8-11ea-86a9-02420a01000c",
     "next": "23d7adb6-7eb8-11ea-86a9-02420a01000c",
     "previous": "23d7ac30-7eb8-11ea-86a9-02420a01000c"
    }
   },
   "source": [
    "### 先頭に % をつけられたマジックコマンドは一行を対象にする"
   ]
  },
  {
   "cell_type": "code",
   "execution_count": null,
   "metadata": {
    "lc_cell_meme": {
     "current": "23d7adb6-7eb8-11ea-86a9-02420a01000c",
     "next": "23d7ae7e-7eb8-11ea-86a9-02420a01000c",
     "previous": "23d7acf8-7eb8-11ea-86a9-02420a01000c"
    }
   },
   "outputs": [],
   "source": [
    "# 実行時間を測定\n",
    "%time range(1000000)"
   ]
  },
  {
   "cell_type": "code",
   "execution_count": null,
   "metadata": {
    "lc_cell_meme": {
     "current": "23d7ae7e-7eb8-11ea-86a9-02420a01000c",
     "next": "23d7af46-7eb8-11ea-86a9-02420a01000c",
     "previous": "23d7adb6-7eb8-11ea-86a9-02420a01000c"
    }
   },
   "outputs": [],
   "source": [
    "# 環境変数を表示\n",
    "%env PATH"
   ]
  },
  {
   "cell_type": "code",
   "execution_count": null,
   "metadata": {
    "lc_cell_meme": {
     "current": "23d7af46-7eb8-11ea-86a9-02420a01000c",
     "next": "23d7b004-7eb8-11ea-86a9-02420a01000c",
     "previous": "23d7ae7e-7eb8-11ea-86a9-02420a01000c"
    }
   },
   "outputs": [],
   "source": [
    "# 返り値を取得することも可能\n",
    "path = %env PATH\n",
    "print(path.split(\":\")[0])"
   ]
  },
  {
   "cell_type": "code",
   "execution_count": null,
   "metadata": {
    "lc_cell_meme": {
     "current": "23d7b004-7eb8-11ea-86a9-02420a01000c",
     "next": "23d7b0c2-7eb8-11ea-86a9-02420a01000c",
     "previous": "23d7af46-7eb8-11ea-86a9-02420a01000c"
    }
   },
   "outputs": [],
   "source": [
    "# 変数一覧 %who および　詳細情報 %whos\n",
    "%whos"
   ]
  },
  {
   "cell_type": "code",
   "execution_count": null,
   "metadata": {
    "lc_cell_meme": {
     "current": "23d7b0c2-7eb8-11ea-86a9-02420a01000c",
     "next": "23d7b180-7eb8-11ea-86a9-02420a01000c",
     "previous": "23d7b004-7eb8-11ea-86a9-02420a01000c"
    }
   },
   "outputs": [],
   "source": [
    "# マジックコマンドについてのヘルプを表示\n",
    "%quickref"
   ]
  },
  {
   "cell_type": "markdown",
   "metadata": {
    "lc_cell_meme": {
     "current": "23d7b180-7eb8-11ea-86a9-02420a01000c",
     "next": "23d7b23e-7eb8-11ea-86a9-02420a01000c",
     "previous": "23d7b0c2-7eb8-11ea-86a9-02420a01000c"
    }
   },
   "source": [
    "### 先頭に %% をつけられたマジックコマンドはセル全体を対象にする"
   ]
  },
  {
   "cell_type": "markdown",
   "metadata": {
    "lc_cell_meme": {
     "current": "23d7b23e-7eb8-11ea-86a9-02420a01000c",
     "next": "23d7b306-7eb8-11ea-86a9-02420a01000c",
     "previous": "23d7b180-7eb8-11ea-86a9-02420a01000c"
    }
   },
   "source": [
    "* %%bash  \n",
    "セル全体をシェルスクリプトとして実行"
   ]
  },
  {
   "cell_type": "code",
   "execution_count": null,
   "metadata": {
    "lc_cell_meme": {
     "current": "23d7b306-7eb8-11ea-86a9-02420a01000c",
     "next": "23d7b3c4-7eb8-11ea-86a9-02420a01000c",
     "previous": "23d7b23e-7eb8-11ea-86a9-02420a01000c"
    }
   },
   "outputs": [],
   "source": [
    "%%bash\n",
    "for i in `seq 1 10`\n",
    "do\n",
    "  echo $i\n",
    "done\n"
   ]
  },
  {
   "cell_type": "markdown",
   "metadata": {
    "lc_cell_meme": {
     "current": "23d7b3c4-7eb8-11ea-86a9-02420a01000c",
     "next": "23d7b482-7eb8-11ea-86a9-02420a01000c",
     "previous": "23d7b306-7eb8-11ea-86a9-02420a01000c"
    }
   },
   "source": [
    "* %%time or %%timeit  \n",
    "実行時間を計測"
   ]
  },
  {
   "cell_type": "code",
   "execution_count": null,
   "metadata": {
    "lc_cell_meme": {
     "current": "23d7b482-7eb8-11ea-86a9-02420a01000c",
     "next": "23d7b540-7eb8-11ea-86a9-02420a01000c",
     "previous": "23d7b3c4-7eb8-11ea-86a9-02420a01000c"
    }
   },
   "outputs": [],
   "source": [
    "%%time\n",
    "sum = 0\n",
    "for x in range(100000):\n",
    "    sum += x\n",
    "print(sum)"
   ]
  },
  {
   "cell_type": "code",
   "execution_count": null,
   "metadata": {
    "lc_cell_meme": {
     "current": "23d7b540-7eb8-11ea-86a9-02420a01000c",
     "next": null,
     "previous": "23d7b482-7eb8-11ea-86a9-02420a01000c"
    }
   },
   "outputs": [],
   "source": []
  }
 ],
 "metadata": {
  "kernelspec": {
   "display_name": "Python 3",
   "language": "python",
   "name": "python3"
  },
  "language_info": {
   "file_extension": ".py",
   "mimetype": "text/x-python",
   "name": "python",
   "nbconvert_exporter": "python",
   "pygments_lexer": "ipython3",
   "version": "3.7.3"
  },
  "lc_notebook_meme": {
   "current": "23d7901a-7eb8-11ea-86a9-02420a01000c",
   "lc_server_signature": {
    "current": {
     "notebook_dir": "/home/yoko69d621",
     "notebook_path": "/textbook/jupyter101/genome-sci",
     "server_url": "https://nb03.ecloud.nii.ac.jp/user/yoko69d621/",
     "signature_id": "5e786c6e-5fea-11e9-b810-02420a00005a"
    },
    "history": []
   }
  },
  "toc": {
   "base_numbering": 1,
   "nav_menu": {
    "height": "189px",
    "width": "490px"
   },
   "number_sections": true,
   "sideBar": true,
   "skip_h1_title": false,
   "title_cell": "Table of Contents",
   "title_sidebar": "Contents",
   "toc_cell": false,
   "toc_position": {},
   "toc_section_display": "block",
   "toc_window_display": false
  }
 },
 "nbformat": 4,
 "nbformat_minor": 2
}
