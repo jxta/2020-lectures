{
 "cells": [
  {
   "cell_type": "markdown",
   "metadata": {
    "lc_cell_meme": {
     "current": "22ea28a6-431d-11ea-86a9-02420a01000c",
     "next": "22ea2a36-431d-11ea-86a9-02420a01000c",
     "previous": null
    }
   },
   "source": [
    "### リスト2-2　キャンディを持っているかどうかを判定する"
   ]
  },
  {
   "cell_type": "code",
   "execution_count": 1,
   "metadata": {
    "lc_cell_meme": {
     "current": "22ea2a36-431d-11ea-86a9-02420a01000c",
     "next": "22ea2b12-431d-11ea-86a9-02420a01000c",
     "previous": "22ea28a6-431d-11ea-86a9-02420a01000c"
    }
   },
   "outputs": [],
   "source": [
    "def check_candy(item):\n",
    "    if (item & 0b1000) != 0:   # キャンディフラグが立っているかどうか\n",
    "        print('持っている')\n",
    "    else:\n",
    "        print('持っていない')"
   ]
  },
  {
   "cell_type": "code",
   "execution_count": 2,
   "metadata": {
    "lc_cell_meme": {
     "current": "22ea2b12-431d-11ea-86a9-02420a01000c",
     "next": "22ea2bd0-431d-11ea-86a9-02420a01000c",
     "previous": "22ea2a36-431d-11ea-86a9-02420a01000c"
    }
   },
   "outputs": [
    {
     "name": "stdout",
     "output_type": "stream",
     "text": [
      "持っている\n"
     ]
    }
   ],
   "source": [
    "taro_item = 9\n",
    "check_candy(taro_item)"
   ]
  },
  {
   "cell_type": "markdown",
   "metadata": {
    "lc_cell_meme": {
     "current": "22ea2bd0-431d-11ea-86a9-02420a01000c",
     "next": "22ea2c98-431d-11ea-86a9-02420a01000c",
     "previous": "22ea2b12-431d-11ea-86a9-02420a01000c"
    }
   },
   "source": [
    "### リスト2-3　テストの点数で成績を判定する"
   ]
  },
  {
   "cell_type": "code",
   "execution_count": 3,
   "metadata": {
    "lc_cell_meme": {
     "current": "22ea2c98-431d-11ea-86a9-02420a01000c",
     "next": "22ea2d56-431d-11ea-86a9-02420a01000c",
     "previous": "22ea2bd0-431d-11ea-86a9-02420a01000c"
    }
   },
   "outputs": [],
   "source": [
    "def func_and(score):\n",
    "    if score >= 80:                        # socore が 80以上\n",
    "        rank = 'A'\n",
    "    elif (score >= 60) and (score < 80):  # score が 60～79 の範囲内\n",
    "        rank = 'B'\n",
    "    elif (score >= 40) and (score < 60):  # score が 40～59 の範囲内\n",
    "        rank = 'C'\n",
    "    else:                                  # 上記以外（score が 40未満）\n",
    "        rank = '追試'\n",
    "    return rank"
   ]
  },
  {
   "cell_type": "code",
   "execution_count": 4,
   "metadata": {
    "lc_cell_meme": {
     "current": "22ea2d56-431d-11ea-86a9-02420a01000c",
     "next": "22ea2e14-431d-11ea-86a9-02420a01000c",
     "previous": "22ea2c98-431d-11ea-86a9-02420a01000c"
    }
   },
   "outputs": [
    {
     "data": {
      "text/plain": [
       "'B'"
      ]
     },
     "execution_count": 4,
     "metadata": {},
     "output_type": "execute_result"
    }
   ],
   "source": [
    "rank = func_and(78)\n",
    "rank"
   ]
  },
  {
   "cell_type": "markdown",
   "metadata": {
    "lc_cell_meme": {
     "current": "22ea2e14-431d-11ea-86a9-02420a01000c",
     "next": "22ea2ed2-431d-11ea-86a9-02420a01000c",
     "previous": "22ea2d56-431d-11ea-86a9-02420a01000c"
    }
   },
   "source": [
    "### リスト2-4　Yまたはyが入力されたかどうかを調べる"
   ]
  },
  {
   "cell_type": "code",
   "execution_count": 5,
   "metadata": {
    "lc_cell_meme": {
     "current": "22ea2ed2-431d-11ea-86a9-02420a01000c",
     "next": "22ea2f90-431d-11ea-86a9-02420a01000c",
     "previous": "22ea2e14-431d-11ea-86a9-02420a01000c"
    }
   },
   "outputs": [],
   "source": [
    "def func_or():\n",
    "    a = input('犬は好きですか？（Y/N）... ')   # キー入力を促すメッセージを表示\n",
    "    if (a == 'Y') or (a == 'y'):  # 「Y」または「y」が入力されたとき\n",
    "        print('はい')\n",
    "    else:                         # 上記以外が入力されたとき\n",
    "        print('いいえ')"
   ]
  },
  {
   "cell_type": "code",
   "execution_count": 6,
   "metadata": {
    "lc_cell_meme": {
     "current": "22ea2f90-431d-11ea-86a9-02420a01000c",
     "next": "22ea304e-431d-11ea-86a9-02420a01000c",
     "previous": "22ea2ed2-431d-11ea-86a9-02420a01000c"
    }
   },
   "outputs": [
    {
     "name": "stdout",
     "output_type": "stream",
     "text": [
      "犬は好きですか？（Y/N）... y\n",
      "はい\n"
     ]
    }
   ],
   "source": [
    "func_or()"
   ]
  },
  {
   "cell_type": "code",
   "execution_count": null,
   "metadata": {
    "lc_cell_meme": {
     "current": "22ea304e-431d-11ea-86a9-02420a01000c",
     "next": null,
     "previous": "22ea2f90-431d-11ea-86a9-02420a01000c"
    }
   },
   "outputs": [],
   "source": []
  }
 ],
 "metadata": {
  "kernelspec": {
   "display_name": "Python 3",
   "language": "python",
   "name": "python3"
  },
  "language_info": {
   "file_extension": ".py",
   "mimetype": "text/x-python",
   "name": "python",
   "nbconvert_exporter": "python",
   "pygments_lexer": "ipython3",
   "version": "3.7.3"
  },
  "lc_notebook_meme": {
   "current": "22ea263a-431d-11ea-86a9-02420a01000c",
   "lc_server_signature": {
    "current": {
     "notebook_dir": "/home/yoko69d621",
     "notebook_path": "/9591",
     "server_url": "https://nb03.ecloud.nii.ac.jp/user/yoko69d621/",
     "signature_id": "5e786c6e-5fea-11e9-b810-02420a00005a"
    },
    "history": []
   }
  },
  "toc": {
   "base_numbering": 1,
   "nav_menu": {},
   "number_sections": true,
   "sideBar": true,
   "skip_h1_title": false,
   "title_cell": "Table of Contents",
   "title_sidebar": "Contents",
   "toc_cell": false,
   "toc_position": {},
   "toc_section_display": true,
   "toc_window_display": false
  }
 },
 "nbformat": 4,
 "nbformat_minor": 2
}
