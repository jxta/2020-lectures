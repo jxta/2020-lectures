{
 "cells": [
  {
   "cell_type": "markdown",
   "metadata": {
    "lc_cell_meme": {
     "current": "25727e70-8734-11e9-8556-02420a010127",
     "next": "25727ec0-8734-11e9-8556-02420a010127",
     "previous": null
    }
   },
   "source": [
    "### リスト8-4　棒の太さを変えて面積を求める"
   ]
  },
  {
   "cell_type": "code",
   "execution_count": 1,
   "metadata": {
    "lc_cell_meme": {
     "current": "25727ec0-8734-11e9-8556-02420a010127",
     "next": "25727ef2-8734-11e9-8556-02420a010127",
     "previous": "25727e70-8734-11e9-8556-02420a010127"
    }
   },
   "outputs": [],
   "source": [
    "def calc_area(dx):\n",
    "    h = 0     # 棒の高さ\n",
    "    area = 0  # 面積\n",
    "    cnt = int(10 / dx)  # 棒の数\n",
    "    for i in range(1, cnt+1):\n",
    "        h = i * dx     # 高さ\n",
    "        s = h * dx     # 棒の面積\n",
    "        area += s      # 面積を合計\n",
    "    return area"
   ]
  },
  {
   "cell_type": "code",
   "execution_count": 2,
   "metadata": {
    "lc_cell_meme": {
     "current": "25727ef2-8734-11e9-8556-02420a010127",
     "next": "25727f2e-8734-11e9-8556-02420a010127",
     "previous": "25727ec0-8734-11e9-8556-02420a010127"
    }
   },
   "outputs": [
    {
     "data": {
      "text/plain": [
       "55"
      ]
     },
     "execution_count": 2,
     "metadata": {},
     "output_type": "execute_result"
    }
   ],
   "source": [
    "calc_area(1)"
   ]
  },
  {
   "cell_type": "markdown",
   "metadata": {
    "lc_cell_meme": {
     "current": "25727f2e-8734-11e9-8556-02420a010127",
     "next": "25728000-8734-11e9-8556-02420a010127",
     "previous": "25727ef2-8734-11e9-8556-02420a010127"
    }
   },
   "source": [
    "### 3.5　積分の公式"
   ]
  },
  {
   "cell_type": "code",
   "execution_count": 3,
   "metadata": {
    "lc_cell_meme": {
     "current": "25728000-8734-11e9-8556-02420a010127",
     "next": "25728032-8734-11e9-8556-02420a010127",
     "previous": "25727f2e-8734-11e9-8556-02420a010127"
    }
   },
   "outputs": [
    {
     "data": {
      "text/plain": [
       "48.0"
      ]
     },
     "execution_count": 3,
     "metadata": {},
     "output_type": "execute_result"
    }
   ],
   "source": [
    "# f(x) = x**2 + 2x + 5 の不定積分\n",
    "def F(x):\n",
    "    return 1/3*x**3 + x**2 + 5*x\n",
    "\n",
    "a = F(-3)  # F(a)\n",
    "b = F(3)   # F(b)\n",
    "b-a        # F(b)-F(a)"
   ]
  },
  {
   "cell_type": "markdown",
   "metadata": {
    "lc_cell_meme": {
     "current": "25728032-8734-11e9-8556-02420a010127",
     "next": "25728064-8734-11e9-8556-02420a010127",
     "previous": "25728000-8734-11e9-8556-02420a010127"
    }
   },
   "source": [
    "### SciPy.integrate.quad()関数"
   ]
  },
  {
   "cell_type": "code",
   "execution_count": 4,
   "metadata": {
    "lc_cell_meme": {
     "current": "25728064-8734-11e9-8556-02420a010127",
     "next": "25728096-8734-11e9-8556-02420a010127",
     "previous": "25728032-8734-11e9-8556-02420a010127"
    }
   },
   "outputs": [
    {
     "data": {
      "text/plain": [
       "(47.99999999999999, 5.32907051820075e-13)"
      ]
     },
     "execution_count": 4,
     "metadata": {},
     "output_type": "execute_result"
    }
   ],
   "source": [
    "from scipy import integrate\n",
    "\n",
    "# f(x) = x**2 + 2x + 5\n",
    "def func(x):\n",
    "    return x**2 + 2*x + 5\n",
    "\n",
    "integrate.quad(func, -3, 3)"
   ]
  },
  {
   "cell_type": "code",
   "execution_count": null,
   "metadata": {
    "lc_cell_meme": {
     "current": "25728096-8734-11e9-8556-02420a010127",
     "next": null,
     "previous": "25728064-8734-11e9-8556-02420a010127"
    }
   },
   "outputs": [],
   "source": []
  }
 ],
 "metadata": {
  "kernelspec": {
   "display_name": "Python 3",
   "language": "python",
   "name": "python3"
  },
  "language_info": {
   "codemirror_mode": {
    "name": "ipython",
    "version": 3
   },
   "file_extension": ".py",
   "mimetype": "text/x-python",
   "name": "python",
   "nbconvert_exporter": "python",
   "pygments_lexer": "ipython3",
   "version": "3.7.3"
  },
  "lc_notebook_meme": {
   "current": "25727d58-8734-11e9-8556-02420a010127",
   "lc_server_signature": {
    "current": {
     "notebook_dir": "/home/yoko69d621",
     "notebook_path": "/9591",
     "server_url": "https://nb03.ecloud.nii.ac.jp/user/yoko69d621/",
     "signature_id": "5e786c6e-5fea-11e9-b810-02420a00005a"
    },
    "history": []
   }
  }
 },
 "nbformat": 4,
 "nbformat_minor": 2
}
