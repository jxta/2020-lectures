{
 "cells": [
  {
   "cell_type": "markdown",
   "metadata": {
    "lc_cell_meme": {
     "current": "06fb11f0-8734-11e9-8556-02420a010127",
     "next": "06fb125e-8734-11e9-8556-02420a010127",
     "previous": null
    }
   },
   "source": [
    "### リスト1-4　10進数から2進数に変換する（実数対応版）"
   ]
  },
  {
   "cell_type": "code",
   "execution_count": 1,
   "metadata": {
    "lc_cell_meme": {
     "current": "06fb125e-8734-11e9-8556-02420a010127",
     "next": "06fb12a4-8734-11e9-8556-02420a010127",
     "previous": "06fb11f0-8734-11e9-8556-02420a010127"
    }
   },
   "outputs": [],
   "source": [
    "def dec2bin_ex(target):\n",
    "    # targetを整数部と小数部に分ける\n",
    "    i = int(target)  # 整数部\n",
    "    f = target - i   # 小数部\n",
    "    \n",
    "    # 整数部を2進数に変換\n",
    "    a = []  # 余りを入れるリスト\n",
    "\n",
    "    # 割り算の商が0になるまで\n",
    "    while i != 0:\n",
    "        a.append(i % 2)  # 余り\n",
    "        i = i // 2       # 商\n",
    "\n",
    "    # 要素を逆順にする\n",
    "    a.reverse()\n",
    "    \n",
    "    #小数部を2進数に変換\n",
    "    b = []  # 整数部を入れるリスト\n",
    "    n = 0   # 繰り返した回数\n",
    "\n",
    "    # 2を掛けた後の小数部が0になるまで\n",
    "    while (f != 0):\n",
    "        temp = f * 2          # 小数部×2\n",
    "        b.append(int(temp))   # 整数部\n",
    "        f = temp - int(temp)  # 小数部\n",
    "        n += 1 \n",
    "        if (n >= 10):\n",
    "            break\n",
    "    \n",
    "    # 2進数に変換した値\n",
    "    return a, b"
   ]
  },
  {
   "cell_type": "code",
   "execution_count": 2,
   "metadata": {
    "lc_cell_meme": {
     "current": "06fb12a4-8734-11e9-8556-02420a010127",
     "next": "06fb12d6-8734-11e9-8556-02420a010127",
     "previous": "06fb125e-8734-11e9-8556-02420a010127"
    }
   },
   "outputs": [
    {
     "data": {
      "text/plain": [
       "([1, 0, 1, 0], [1, 0, 1])"
      ]
     },
     "execution_count": 2,
     "metadata": {},
     "output_type": "execute_result"
    }
   ],
   "source": [
    "dec2bin_ex(10.625)"
   ]
  },
  {
   "cell_type": "code",
   "execution_count": null,
   "metadata": {
    "lc_cell_meme": {
     "current": "06fb12d6-8734-11e9-8556-02420a010127",
     "next": null,
     "previous": "06fb12a4-8734-11e9-8556-02420a010127"
    }
   },
   "outputs": [],
   "source": []
  }
 ],
 "metadata": {
  "kernelspec": {
   "display_name": "Python 3",
   "language": "python",
   "name": "python3"
  },
  "language_info": {
   "codemirror_mode": {
    "name": "ipython",
    "version": 3
   },
   "file_extension": ".py",
   "mimetype": "text/x-python",
   "name": "python",
   "nbconvert_exporter": "python",
   "pygments_lexer": "ipython3",
   "version": "3.7.3"
  },
  "lc_notebook_meme": {
   "current": "06fb0e6c-8734-11e9-8556-02420a010127",
   "lc_server_signature": {
    "current": {
     "notebook_dir": "/home/yoko69d621",
     "notebook_path": "/9591",
     "server_url": "https://nb03.ecloud.nii.ac.jp/user/yoko69d621/",
     "signature_id": "5e786c6e-5fea-11e9-b810-02420a00005a"
    },
    "history": []
   }
  }
 },
 "nbformat": 4,
 "nbformat_minor": 2
}
