{
 "cells": [
  {
   "cell_type": "markdown",
   "metadata": {
    "lc_cell_meme": {
     "current": "e0b7dfa0-8733-11e9-8556-02420a010127",
     "next": "e0b7e00e-8733-11e9-8556-02420a010127",
     "previous": null
    }
   },
   "source": [
    "### リスト1-1　10進数から2進数に変換する"
   ]
  },
  {
   "cell_type": "code",
   "execution_count": 1,
   "metadata": {
    "lc_cell_meme": {
     "current": "e0b7e00e-8733-11e9-8556-02420a010127",
     "next": "e0b7e04a-8733-11e9-8556-02420a010127",
     "previous": "e0b7dfa0-8733-11e9-8556-02420a010127"
    }
   },
   "outputs": [],
   "source": [
    "def dec2bin(target):\n",
    "    amari = []   # 余りを入れるリスト\n",
    "\n",
    "    # 割り算の商が0になるまで\n",
    "    while target != 0:\n",
    "        amari.append(target % 2) # 余り\n",
    "        target = target // 2     # 商\n",
    "\n",
    "    # リストの要素を逆順にして返す\n",
    "    amari.reverse()\n",
    "    return amari"
   ]
  },
  {
   "cell_type": "code",
   "execution_count": 4,
   "metadata": {
    "lc_cell_meme": {
     "current": "e0b7e04a-8733-11e9-8556-02420a010127",
     "next": "e0b7e07c-8733-11e9-8556-02420a010127",
     "previous": "e0b7e00e-8733-11e9-8556-02420a010127"
    }
   },
   "outputs": [
    {
     "data": {
      "text/plain": [
       "[1, 1, 1]"
      ]
     },
     "execution_count": 4,
     "metadata": {},
     "output_type": "execute_result"
    }
   ],
   "source": [
    "dec2bin(7)"
   ]
  },
  {
   "cell_type": "markdown",
   "metadata": {
    "lc_cell_meme": {
     "current": "e0b7e07c-8733-11e9-8556-02420a010127",
     "next": "e0b7e0ae-8733-11e9-8556-02420a010127",
     "previous": "e0b7e04a-8733-11e9-8556-02420a010127"
    }
   },
   "source": [
    "### リスト1-2  10進数から16進数に変換する"
   ]
  },
  {
   "cell_type": "code",
   "execution_count": 5,
   "metadata": {
    "lc_cell_meme": {
     "current": "e0b7e0ae-8733-11e9-8556-02420a010127",
     "next": "e0b7e0e0-8733-11e9-8556-02420a010127",
     "previous": "e0b7e07c-8733-11e9-8556-02420a010127"
    }
   },
   "outputs": [],
   "source": [
    "def dec2hex(target):\n",
    "    amari = []  # 余りを入れるリスト\n",
    "\n",
    "    # 割り算の商が0になるまで\n",
    "    while target != 0:\n",
    "        amari.append(target % 16)  # 余り\n",
    "        target = target // 16      # 商\n",
    "\n",
    "    # 余りの10～15をA～Fに置換\n",
    "    for i in range(len(amari)):\n",
    "        if amari[i] == 10:     amari[i] = 'A'\n",
    "        elif amari[i] == 11:   amari[i] = 'B'\n",
    "        elif amari[i] == 12:   amari[i] = 'C'\n",
    "        elif amari[i] == 13:   amari[i] = 'D'\n",
    "        elif amari[i] == 14:   amari[i] = 'E'\n",
    "        elif amari[i] == 15:   amari[i] = 'F'\n",
    "        \n",
    "    # リストの要素を逆順にして返す\n",
    "    amari.reverse()\n",
    "    return amari"
   ]
  },
  {
   "cell_type": "code",
   "execution_count": 7,
   "metadata": {
    "lc_cell_meme": {
     "current": "e0b7e0e0-8733-11e9-8556-02420a010127",
     "next": "e0b7e108-8733-11e9-8556-02420a010127",
     "previous": "e0b7e0ae-8733-11e9-8556-02420a010127"
    }
   },
   "outputs": [
    {
     "data": {
      "text/plain": [
       "[1, 3]"
      ]
     },
     "execution_count": 7,
     "metadata": {},
     "output_type": "execute_result"
    }
   ],
   "source": [
    "dec2hex(19)"
   ]
  },
  {
   "cell_type": "markdown",
   "metadata": {
    "lc_cell_meme": {
     "current": "e0b7e108-8733-11e9-8556-02420a010127",
     "next": "e0b7e13a-8733-11e9-8556-02420a010127",
     "previous": "e0b7e0e0-8733-11e9-8556-02420a010127"
    }
   },
   "source": [
    "### リスト1-3  m進数から10進数に変換する"
   ]
  },
  {
   "cell_type": "code",
   "execution_count": 5,
   "metadata": {
    "lc_cell_meme": {
     "current": "e0b7e13a-8733-11e9-8556-02420a010127",
     "next": "e0b7e16c-8733-11e9-8556-02420a010127",
     "previous": "e0b7e108-8733-11e9-8556-02420a010127"
    }
   },
   "outputs": [],
   "source": [
    "def any2dec(target, m):\n",
    "    n = len(target)-1 # 指数の最大値\n",
    "    sum = 0           # 10進数に変換した値\n",
    "    \n",
    "    # 文字数分の繰り返し\n",
    "    for i in range(len(target)):\n",
    "        if target[i] == 'A':     num = 10\n",
    "        elif target[i] == 'B':   num = 11\n",
    "        elif target[i] == 'C':   num = 12\n",
    "        elif target[i] == 'D':   num = 13\n",
    "        elif target[i] == 'E':   num = 14\n",
    "        elif target[i] == 'F':   num = 15\n",
    "        else:                    num = int(target[i])\n",
    "            \n",
    "        sum += (m ** n) * num  # 「mのn乗×各桁の値」を合計\n",
    "        n -= 1  # 重みを1つ減らす\n",
    "    return sum\n"
   ]
  },
  {
   "cell_type": "code",
   "execution_count": 6,
   "metadata": {
    "lc_cell_meme": {
     "current": "e0b7e16c-8733-11e9-8556-02420a010127",
     "next": "e0b7e19e-8733-11e9-8556-02420a010127",
     "previous": "e0b7e13a-8733-11e9-8556-02420a010127"
    }
   },
   "outputs": [
    {
     "data": {
      "text/plain": [
       "26"
      ]
     },
     "execution_count": 6,
     "metadata": {},
     "output_type": "execute_result"
    }
   ],
   "source": [
    "any2dec('11010', 2)"
   ]
  },
  {
   "cell_type": "code",
   "execution_count": 7,
   "metadata": {
    "lc_cell_meme": {
     "current": "e0b7e19e-8733-11e9-8556-02420a010127",
     "next": "e0b7e1d0-8733-11e9-8556-02420a010127",
     "previous": "e0b7e16c-8733-11e9-8556-02420a010127"
    }
   },
   "outputs": [
    {
     "data": {
      "text/plain": [
       "26"
      ]
     },
     "execution_count": 7,
     "metadata": {},
     "output_type": "execute_result"
    }
   ],
   "source": [
    "any2dec('1A', 16)"
   ]
  },
  {
   "cell_type": "code",
   "execution_count": null,
   "metadata": {
    "lc_cell_meme": {
     "current": "e0b7e1d0-8733-11e9-8556-02420a010127",
     "next": null,
     "previous": "e0b7e19e-8733-11e9-8556-02420a010127"
    }
   },
   "outputs": [],
   "source": []
  }
 ],
 "metadata": {
  "kernelspec": {
   "display_name": "Python 3",
   "language": "python",
   "name": "python3"
  },
  "language_info": {
   "codemirror_mode": {
    "name": "ipython",
    "version": 3
   },
   "file_extension": ".py",
   "mimetype": "text/x-python",
   "name": "python",
   "nbconvert_exporter": "python",
   "pygments_lexer": "ipython3",
   "version": "3.7.3"
  },
  "lc_notebook_meme": {
   "current": "e0b7dd7a-8733-11e9-8556-02420a010127",
   "lc_server_signature": {
    "current": {
     "notebook_dir": "/home/yoko69d621",
     "notebook_path": "/9591",
     "server_url": "https://nb03.ecloud.nii.ac.jp/user/yoko69d621/",
     "signature_id": "5e786c6e-5fea-11e9-b810-02420a00005a"
    },
    "history": []
   }
  }
 },
 "nbformat": 4,
 "nbformat_minor": 2
}
