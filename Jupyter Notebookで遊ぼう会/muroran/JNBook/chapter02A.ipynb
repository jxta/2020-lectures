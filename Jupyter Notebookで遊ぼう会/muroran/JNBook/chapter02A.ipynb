{
 "cells": [
  {
   "cell_type": "markdown",
   "metadata": {
    "lc_cell_meme": {
     "current": "e367a4fc-8830-11ea-86a9-02420a01000c",
     "next": "e367a600-8830-11ea-86a9-02420a01000c",
     "previous": null
    }
   },
   "source": [
    "# Jupyter Notebookで始めるプログラミング2019　演習問題　（２章）"
   ]
  },
  {
   "cell_type": "markdown",
   "metadata": {
    "lc_cell_meme": {
     "current": "e367a600-8830-11ea-86a9-02420a01000c",
     "next": "e367a6d2-8830-11ea-86a9-02420a01000c",
     "previous": "e367a4fc-8830-11ea-86a9-02420a01000c"
    }
   },
   "source": [
    "## 問2-1 分数計算"
   ]
  },
  {
   "cell_type": "markdown",
   "metadata": {
    "lc_cell_meme": {
     "current": "e367a6d2-8830-11ea-86a9-02420a01000c",
     "next": "e367a7a4-8830-11ea-86a9-02420a01000c",
     "previous": "e367a600-8830-11ea-86a9-02420a01000c"
    }
   },
   "source": [
    "Notebookのセルに式を入力して、次の計算をしなさい。\n",
    "\n",
    "$120 + \\frac{23.5 + 312.00}{0.0003 \\cdot 130}$"
   ]
  },
  {
   "cell_type": "code",
   "execution_count": 10,
   "metadata": {
    "lc_cell_meme": {
     "current": "e367a7a4-8830-11ea-86a9-02420a01000c",
     "next": "e367a876-8830-11ea-86a9-02420a01000c",
     "previous": "e367a6d2-8830-11ea-86a9-02420a01000c"
    }
   },
   "outputs": [
    {
     "data": {
      "text/plain": [
       "8722.564102564103"
      ]
     },
     "execution_count": 10,
     "metadata": {},
     "output_type": "execute_result"
    }
   ],
   "source": [
    "120 + (23.5 + 312.0) / (.0003 * 130)"
   ]
  },
  {
   "cell_type": "markdown",
   "metadata": {
    "lc_cell_meme": {
     "current": "e367a876-8830-11ea-86a9-02420a01000c",
     "next": "e367a93e-8830-11ea-86a9-02420a01000c",
     "previous": "e367a7a4-8830-11ea-86a9-02420a01000c"
    }
   },
   "source": [
    "## 問2-2　変数の利用"
   ]
  },
  {
   "cell_type": "markdown",
   "metadata": {
    "lc_cell_meme": {
     "current": "e367a93e-8830-11ea-86a9-02420a01000c",
     "next": "e367aa06-8830-11ea-86a9-02420a01000c",
     "previous": "e367a876-8830-11ea-86a9-02420a01000c"
    }
   },
   "source": [
    "1. １つ目のセルで変数a,bにそれぞれ124.5, 5を代入しなさい\n",
    "2. 次のセルで、$\\frac{a}{b}$を計算しなさい\n",
    "3. 次のセルで、$a \\times b$を計算しなさい\n",
    "4. 次のセルで、$a^b$を計算しなさい"
   ]
  },
  {
   "cell_type": "code",
   "execution_count": 11,
   "metadata": {
    "lc_cell_meme": {
     "current": "e367aa06-8830-11ea-86a9-02420a01000c",
     "next": "e367aad8-8830-11ea-86a9-02420a01000c",
     "previous": "e367a93e-8830-11ea-86a9-02420a01000c"
    }
   },
   "outputs": [],
   "source": [
    "a = 124.5\n",
    "b = 5"
   ]
  },
  {
   "cell_type": "code",
   "execution_count": 12,
   "metadata": {
    "lc_cell_meme": {
     "current": "e367aad8-8830-11ea-86a9-02420a01000c",
     "next": "e367abaa-8830-11ea-86a9-02420a01000c",
     "previous": "e367aa06-8830-11ea-86a9-02420a01000c"
    }
   },
   "outputs": [
    {
     "data": {
      "text/plain": [
       "24.9"
      ]
     },
     "execution_count": 12,
     "metadata": {},
     "output_type": "execute_result"
    }
   ],
   "source": [
    "a / b"
   ]
  },
  {
   "cell_type": "code",
   "execution_count": 13,
   "metadata": {
    "lc_cell_meme": {
     "current": "e367abaa-8830-11ea-86a9-02420a01000c",
     "next": "e367ac72-8830-11ea-86a9-02420a01000c",
     "previous": "e367aad8-8830-11ea-86a9-02420a01000c"
    }
   },
   "outputs": [
    {
     "data": {
      "text/plain": [
       "622.5"
      ]
     },
     "execution_count": 13,
     "metadata": {},
     "output_type": "execute_result"
    }
   ],
   "source": [
    "a * b"
   ]
  },
  {
   "cell_type": "code",
   "execution_count": 14,
   "metadata": {
    "lc_cell_meme": {
     "current": "e367ac72-8830-11ea-86a9-02420a01000c",
     "next": "e367ad3a-8830-11ea-86a9-02420a01000c",
     "previous": "e367abaa-8830-11ea-86a9-02420a01000c"
    }
   },
   "outputs": [
    {
     "data": {
      "text/plain": [
       "29912089882.78125"
      ]
     },
     "execution_count": 14,
     "metadata": {},
     "output_type": "execute_result"
    }
   ],
   "source": [
    "pow(a, b)"
   ]
  },
  {
   "cell_type": "markdown",
   "metadata": {
    "lc_cell_meme": {
     "current": "e367ad3a-8830-11ea-86a9-02420a01000c",
     "next": "e367ae0c-8830-11ea-86a9-02420a01000c",
     "previous": "e367ac72-8830-11ea-86a9-02420a01000c"
    }
   },
   "source": [
    "## 問2-3 print()の活用"
   ]
  },
  {
   "cell_type": "markdown",
   "metadata": {
    "lc_cell_meme": {
     "current": "e367ae0c-8830-11ea-86a9-02420a01000c",
     "next": "e367aed4-8830-11ea-86a9-02420a01000c",
     "previous": "e367ad3a-8830-11ea-86a9-02420a01000c"
    }
   },
   "source": [
    "ptint()を使って、\"こんにちわ、世界\"と出力するプログラムを作成しなさい。"
   ]
  },
  {
   "cell_type": "code",
   "execution_count": 15,
   "metadata": {
    "lc_cell_meme": {
     "current": "e367aed4-8830-11ea-86a9-02420a01000c",
     "next": "e367af9c-8830-11ea-86a9-02420a01000c",
     "previous": "e367ae0c-8830-11ea-86a9-02420a01000c"
    }
   },
   "outputs": [
    {
     "name": "stdout",
     "output_type": "stream",
     "text": [
      "こんにちわ、世界\n"
     ]
    }
   ],
   "source": [
    "print(\"こんにちわ、世界\")"
   ]
  },
  {
   "cell_type": "markdown",
   "metadata": {
    "lc_cell_meme": {
     "current": "e367af9c-8830-11ea-86a9-02420a01000c",
     "next": "e367b06e-8830-11ea-86a9-02420a01000c",
     "previous": "e367aed4-8830-11ea-86a9-02420a01000c"
    }
   },
   "source": [
    "## 問2-4 複雑な式の計算"
   ]
  },
  {
   "cell_type": "markdown",
   "metadata": {
    "lc_cell_meme": {
     "current": "e367b06e-8830-11ea-86a9-02420a01000c",
     "next": "e367b136-8830-11ea-86a9-02420a01000c",
     "previous": "e367af9c-8830-11ea-86a9-02420a01000c"
    }
   },
   "source": [
    "次の式を計算し出力するプログラムを作成しなさい。\n",
    "\n",
    "$t = 5.82 \\times 10^{-1  } + \\frac{2s - s \\times cos{33s}} {s(s+2)}$\n",
    "\n",
    "- $5.82 \\times 10^{-1}$ は 指数付き定数で記述すること\n",
    "- 変数 $s$ ,$t$（数値型）を利用すること\n",
    "- 変数$s$へ数値 $15.6$ を代入すること\n",
    "- 実行結果は\"t=\"という文字、とその右に値のを表示すること\n"
   ]
  },
  {
   "cell_type": "code",
   "execution_count": 16,
   "metadata": {
    "lc_cell_meme": {
     "current": "e367b136-8830-11ea-86a9-02420a01000c",
     "next": "e367b208-8830-11ea-86a9-02420a01000c",
     "previous": "e367b06e-8830-11ea-86a9-02420a01000c"
    }
   },
   "outputs": [
    {
     "name": "stdout",
     "output_type": "stream",
     "text": [
      "t= 0.7470469916173874\n"
     ]
    }
   ],
   "source": [
    "import math\n",
    "s = 15.6\n",
    "t = 5.82e-1 + (2 * s - s * math.cos(math.radians(33 * s))) / (s * (s + 2))\n",
    "print (\"t=\", t)"
   ]
  },
  {
   "cell_type": "markdown",
   "metadata": {
    "lc_cell_meme": {
     "current": "e367b208-8830-11ea-86a9-02420a01000c",
     "next": "e367b3ca-8830-11ea-86a9-02420a01000c",
     "previous": "e367b136-8830-11ea-86a9-02420a01000c"
    }
   },
   "source": [
    "## 問2-5 摂氏から華氏への変換"
   ]
  },
  {
   "cell_type": "markdown",
   "metadata": {
    "lc_cell_meme": {
     "current": "e367b3ca-8830-11ea-86a9-02420a01000c",
     "next": "e367b4ce-8830-11ea-86a9-02420a01000c",
     "previous": "e367b208-8830-11ea-86a9-02420a01000c"
    }
   },
   "source": [
    "次に示す式を使って、温度の変換をしなさい。\n",
    "\n",
    "1. 摂氏18度を華氏に変換しなさい。\n",
    "\n",
    "    $華氏 = 摂氏 \\times 1.8 + 32$\n",
    "    \n",
    "2. 華氏100度を摂氏に変換しなさい。\n",
    "\n",
    "    $摂氏 = (華氏 - 32) \\times \\frac{5}{9}$"
   ]
  },
  {
   "cell_type": "code",
   "execution_count": 17,
   "metadata": {
    "lc_cell_meme": {
     "current": "e367b4ce-8830-11ea-86a9-02420a01000c",
     "next": "e367b5aa-8830-11ea-86a9-02420a01000c",
     "previous": "e367b3ca-8830-11ea-86a9-02420a01000c"
    }
   },
   "outputs": [
    {
     "data": {
      "text/plain": [
       "64.4"
      ]
     },
     "execution_count": 17,
     "metadata": {},
     "output_type": "execute_result"
    }
   ],
   "source": [
    "18 * 1.8 +32"
   ]
  },
  {
   "cell_type": "code",
   "execution_count": 18,
   "metadata": {
    "lc_cell_meme": {
     "current": "e367b5aa-8830-11ea-86a9-02420a01000c",
     "next": "e367b672-8830-11ea-86a9-02420a01000c",
     "previous": "e367b4ce-8830-11ea-86a9-02420a01000c"
    }
   },
   "outputs": [
    {
     "data": {
      "text/plain": [
       "37.77777777777778"
      ]
     },
     "execution_count": 18,
     "metadata": {},
     "output_type": "execute_result"
    }
   ],
   "source": [
    "(100 - 32) * 5 / 9"
   ]
  },
  {
   "cell_type": "code",
   "execution_count": null,
   "metadata": {
    "lc_cell_meme": {
     "current": "e367b672-8830-11ea-86a9-02420a01000c",
     "next": null,
     "previous": "e367b5aa-8830-11ea-86a9-02420a01000c"
    }
   },
   "outputs": [],
   "source": []
  }
 ],
 "metadata": {
  "kernelspec": {
   "display_name": "Python 3",
   "language": "python",
   "name": "python3"
  },
  "language_info": {
   "file_extension": ".py",
   "mimetype": "text/x-python",
   "name": "python",
   "nbconvert_exporter": "python",
   "pygments_lexer": "ipython3",
   "version": "3.7.3"
  },
  "lc_notebook_meme": {
   "current": "e367a272-8830-11ea-86a9-02420a01000c",
   "lc_server_signature": {
    "current": {
     "notebook_dir": "/home/yoko69d621",
     "notebook_path": "/muroran-2/JN/JNBook",
     "server_url": "https://nb03.ecloud.nii.ac.jp/user/yoko69d621/",
     "signature_id": "5e786c6e-5fea-11e9-b810-02420a00005a"
    },
    "history": []
   }
  },
  "toc": {
   "base_numbering": 1,
   "nav_menu": {},
   "number_sections": true,
   "sideBar": true,
   "skip_h1_title": false,
   "title_cell": "Table of Contents",
   "title_sidebar": "Contents",
   "toc_cell": false,
   "toc_position": {},
   "toc_section_display": true,
   "toc_window_display": false
  }
 },
 "nbformat": 4,
 "nbformat_minor": 2
}
