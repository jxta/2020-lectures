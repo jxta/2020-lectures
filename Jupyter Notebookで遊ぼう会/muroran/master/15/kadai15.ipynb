{
 "cells": [
  {
   "cell_type": "markdown",
   "metadata": {
    "lc_cell_meme": {
     "current": "6009c458-40e3-11ea-a1ce-02420a010276",
     "history": [
      {
       "current": "4baeeaaa-96df-11e9-8b94-e0d55ea40caf",
       "next": "4baeeaab-96df-11e9-8b94-e0d55ea40caf",
       "previous": null
      },
      {
       "current": "b38b6c40-96e2-11e9-893e-02420a010063",
       "next": "b38b6de4-96e2-11e9-893e-02420a010063",
       "previous": null
      },
      {
       "current": "224daab6-fae4-11e9-ad73-02420a01004a",
       "next": "224dacdc-fae4-11e9-ad73-02420a01004a",
       "previous": null
      },
      {
       "current": "7daacc66-216f-11ea-8205-02420a0104c6",
       "next": "7daace28-216f-11ea-8205-02420a0104c6",
       "previous": null
      },
      {
       "current": "fc4a93b0-3e86-11ea-9d05-02420a010276",
       "next": "fc4a95ea-3e86-11ea-9d05-02420a010276",
       "previous": null
      },
      {
       "current": "e6e10fee-3e87-11ea-b800-02420a010276",
       "next": "e6e111ec-3e87-11ea-b800-02420a010276",
       "previous": null
      }
     ],
     "next": "6009c606-40e3-11ea-a1ce-02420a010276",
     "previous": null
    }
   },
   "source": [
    "# プログラミング入門\n",
    "  第15回　総合演習4（課題）"
   ]
  },
  {
   "cell_type": "markdown",
   "metadata": {
    "lc_cell_meme": {
     "current": "6009c606-40e3-11ea-a1ce-02420a010276",
     "history": [
      {
       "current": "4baeeaab-96df-11e9-8b94-e0d55ea40caf",
       "next": "4baeeaac-96df-11e9-8b94-e0d55ea40caf",
       "previous": "4baeeaaa-96df-11e9-8b94-e0d55ea40caf"
      },
      {
       "current": "b38b6de4-96e2-11e9-893e-02420a010063",
       "next": "b38b6eca-96e2-11e9-893e-02420a010063",
       "previous": "b38b6c40-96e2-11e9-893e-02420a010063"
      },
      {
       "current": "224dacdc-fae4-11e9-ad73-02420a01004a",
       "next": "224dae9e-fae4-11e9-ad73-02420a01004a",
       "previous": "224daab6-fae4-11e9-ad73-02420a01004a"
      },
      {
       "current": "7daace28-216f-11ea-8205-02420a0104c6",
       "next": "7daacf7c-216f-11ea-8205-02420a0104c6",
       "previous": "7daacc66-216f-11ea-8205-02420a0104c6"
      },
      {
       "current": "fc4a95ea-3e86-11ea-9d05-02420a010276",
       "next": "fc4a97a2-3e86-11ea-9d05-02420a010276",
       "previous": "fc4a93b0-3e86-11ea-9d05-02420a010276"
      },
      {
       "current": "e6e111ec-3e87-11ea-b800-02420a010276",
       "next": "e6e1135e-3e87-11ea-b800-02420a010276",
       "previous": "e6e10fee-3e87-11ea-b800-02420a010276"
      }
     ],
     "next": "6009c76e-40e3-11ea-a1ce-02420a010276",
     "previous": "6009c458-40e3-11ea-a1ce-02420a010276"
    }
   },
   "source": [
    "次のセルに、自分の名前と学籍番号を記入して下さい。"
   ]
  },
  {
   "cell_type": "raw",
   "metadata": {
    "lc_cell_meme": {
     "current": "6009c76e-40e3-11ea-a1ce-02420a010276",
     "history": [
      {
       "current": "4baeeaac-96df-11e9-8b94-e0d55ea40caf",
       "next": "efa662f7-96de-11e9-8b94-e0d55ea40caf",
       "previous": "4baeeaab-96df-11e9-8b94-e0d55ea40caf"
      },
      {
       "current": "4baeeaac-96df-11e9-8b94-e0d55ea40caf",
       "next": "efa662f7-96de-11e9-8b94-e0d55ea40caf",
       "previous": "4baeeaab-96df-11e9-8b94-e0d55ea40caf"
      },
      {
       "current": "4baeeaac-96df-11e9-8b94-e0d55ea40caf",
       "next": "933950fe-96df-11e9-8b94-e0d55ea40caf",
       "previous": "4baeeaac-96df-11e9-8b94-e0d55ea40caf"
      },
      {
       "current": "4baeeaac-96df-11e9-8b94-e0d55ea40caf",
       "next": "933950fe-96df-11e9-8b94-e0d55ea40caf",
       "previous": "4baeeaac-96df-11e9-8b94-e0d55ea40caf"
      },
      {
       "current": "4baeeaac-96df-11e9-8b94-e0d55ea40caf",
       "next": "933950fe-96df-11e9-8b94-e0d55ea40caf",
       "previous": "4baeeaac-96df-11e9-8b94-e0d55ea40caf"
      },
      {
       "current": "4baeeaac-96df-11e9-8b94-e0d55ea40caf",
       "next": "933950fe-96df-11e9-8b94-e0d55ea40caf",
       "previous": "4baeeaac-96df-11e9-8b94-e0d55ea40caf"
      },
      {
       "current": "4baeeaac-96df-11e9-8b94-e0d55ea40caf",
       "next": "933950fe-96df-11e9-8b94-e0d55ea40caf",
       "previous": "4baeeaac-96df-11e9-8b94-e0d55ea40caf"
      },
      {
       "current": "4baeeaac-96df-11e9-8b94-e0d55ea40caf",
       "next": "933950fe-96df-11e9-8b94-e0d55ea40caf",
       "previous": "4baeeaac-96df-11e9-8b94-e0d55ea40caf"
      },
      {
       "current": "4baeeaac-96df-11e9-8b94-e0d55ea40caf",
       "next": "933950fe-96df-11e9-8b94-e0d55ea40caf",
       "previous": "4baeeaac-96df-11e9-8b94-e0d55ea40caf"
      },
      {
       "current": "4baeeaac-96df-11e9-8b94-e0d55ea40caf",
       "next": "933950fe-96df-11e9-8b94-e0d55ea40caf",
       "previous": "4baeeaac-96df-11e9-8b94-e0d55ea40caf"
      },
      {
       "current": "4baeeaac-96df-11e9-8b94-e0d55ea40caf",
       "next": "933950fe-96df-11e9-8b94-e0d55ea40caf",
       "previous": "4baeeaac-96df-11e9-8b94-e0d55ea40caf"
      },
      {
       "current": "4baeeaac-96df-11e9-8b94-e0d55ea40caf",
       "next": "933950fe-96df-11e9-8b94-e0d55ea40caf",
       "previous": "4baeeaac-96df-11e9-8b94-e0d55ea40caf"
      },
      {
       "current": "4baeeaac-96df-11e9-8b94-e0d55ea40caf",
       "next": "4baeeaac-96df-11e9-8b94-e0d55ea40caf",
       "previous": "4baeeaab-96df-11e9-8b94-e0d55ea40caf"
      },
      {
       "current": "b38b6eca-96e2-11e9-893e-02420a010063",
       "next": "b38b6fc4-96e2-11e9-893e-02420a010063",
       "previous": "b38b6de4-96e2-11e9-893e-02420a010063"
      },
      {
       "current": "224dae9e-fae4-11e9-ad73-02420a01004a",
       "next": "224db074-fae4-11e9-ad73-02420a01004a",
       "previous": "224dacdc-fae4-11e9-ad73-02420a01004a"
      },
      {
       "current": "7daacf7c-216f-11ea-8205-02420a0104c6",
       "next": "7daad080-216f-11ea-8205-02420a0104c6",
       "previous": "7daace28-216f-11ea-8205-02420a0104c6"
      },
      {
       "current": "fc4a97a2-3e86-11ea-9d05-02420a010276",
       "next": "fc4a98f6-3e86-11ea-9d05-02420a010276",
       "previous": "fc4a95ea-3e86-11ea-9d05-02420a010276"
      },
      {
       "current": "e6e1135e-3e87-11ea-b800-02420a010276",
       "next": "e6e1148a-3e87-11ea-b800-02420a010276",
       "previous": "e6e111ec-3e87-11ea-b800-02420a010276"
      }
     ],
     "next": "6009c8ae-40e3-11ea-a1ce-02420a010276",
     "previous": "6009c606-40e3-11ea-a1ce-02420a010276"
    }
   },
   "source": [
    "学籍番号：　　　　　　　　　　　氏名："
   ]
  },
  {
   "cell_type": "markdown",
   "metadata": {
    "lc_cell_meme": {
     "current": "6009c8ae-40e3-11ea-a1ce-02420a010276",
     "history": [
      {
       "current": "4baeeaac-96df-11e9-8b94-e0d55ea40caf",
       "next": "efa662f7-96de-11e9-8b94-e0d55ea40caf",
       "previous": "4baeeaab-96df-11e9-8b94-e0d55ea40caf"
      },
      {
       "current": "4baeeaac-96df-11e9-8b94-e0d55ea40caf",
       "next": "efa662f7-96de-11e9-8b94-e0d55ea40caf",
       "previous": "4baeeaab-96df-11e9-8b94-e0d55ea40caf"
      },
      {
       "current": "4baeeaac-96df-11e9-8b94-e0d55ea40caf",
       "next": "933950fe-96df-11e9-8b94-e0d55ea40caf",
       "previous": "4baeeaac-96df-11e9-8b94-e0d55ea40caf"
      },
      {
       "current": "4baeeaac-96df-11e9-8b94-e0d55ea40caf",
       "next": "933950fe-96df-11e9-8b94-e0d55ea40caf",
       "previous": "4baeeaac-96df-11e9-8b94-e0d55ea40caf"
      },
      {
       "current": "4baeeaac-96df-11e9-8b94-e0d55ea40caf",
       "next": "933950fe-96df-11e9-8b94-e0d55ea40caf",
       "previous": "4baeeaac-96df-11e9-8b94-e0d55ea40caf"
      },
      {
       "current": "4baeeaac-96df-11e9-8b94-e0d55ea40caf",
       "next": "933950fe-96df-11e9-8b94-e0d55ea40caf",
       "previous": "4baeeaac-96df-11e9-8b94-e0d55ea40caf"
      },
      {
       "current": "4baeeaac-96df-11e9-8b94-e0d55ea40caf",
       "next": "933950fe-96df-11e9-8b94-e0d55ea40caf",
       "previous": "4baeeaac-96df-11e9-8b94-e0d55ea40caf"
      },
      {
       "current": "4baeeaac-96df-11e9-8b94-e0d55ea40caf",
       "next": "933950fe-96df-11e9-8b94-e0d55ea40caf",
       "previous": "4baeeaac-96df-11e9-8b94-e0d55ea40caf"
      },
      {
       "current": "4baeeaac-96df-11e9-8b94-e0d55ea40caf",
       "next": "933950fe-96df-11e9-8b94-e0d55ea40caf",
       "previous": "4baeeaac-96df-11e9-8b94-e0d55ea40caf"
      },
      {
       "current": "4baeeaac-96df-11e9-8b94-e0d55ea40caf",
       "next": "933950fe-96df-11e9-8b94-e0d55ea40caf",
       "previous": "4baeeaac-96df-11e9-8b94-e0d55ea40caf"
      },
      {
       "current": "4baeeaac-96df-11e9-8b94-e0d55ea40caf",
       "next": "933950fe-96df-11e9-8b94-e0d55ea40caf",
       "previous": "4baeeaac-96df-11e9-8b94-e0d55ea40caf"
      },
      {
       "current": "4baeeaac-96df-11e9-8b94-e0d55ea40caf",
       "next": "933950fe-96df-11e9-8b94-e0d55ea40caf",
       "previous": "4baeeaac-96df-11e9-8b94-e0d55ea40caf"
      },
      {
       "current": "b38b6fc4-96e2-11e9-893e-02420a010063",
       "next": "b38b7118-96e2-11e9-893e-02420a010063",
       "previous": "b38b6eca-96e2-11e9-893e-02420a010063"
      },
      {
       "current": "b38b6fc4-96e2-11e9-893e-02420a010063",
       "next": "b38b730c-96e2-11e9-893e-02420a010063",
       "previous": "b38b6eca-96e2-11e9-893e-02420a010063"
      },
      {
       "current": "224db074-fae4-11e9-ad73-02420a01004a",
       "next": "224db218-fae4-11e9-ad73-02420a01004a",
       "previous": "224dae9e-fae4-11e9-ad73-02420a01004a"
      },
      {
       "current": "7daad080-216f-11ea-8205-02420a0104c6",
       "next": "7daad1de-216f-11ea-8205-02420a0104c6",
       "previous": "7daacf7c-216f-11ea-8205-02420a0104c6"
      },
      {
       "current": "fc4a98f6-3e86-11ea-9d05-02420a010276",
       "next": "fc4a9a40-3e86-11ea-9d05-02420a010276",
       "previous": "fc4a97a2-3e86-11ea-9d05-02420a010276"
      },
      {
       "current": "e6e1148a-3e87-11ea-b800-02420a010276",
       "next": "e6e115f2-3e87-11ea-b800-02420a010276",
       "previous": "e6e1135e-3e87-11ea-b800-02420a010276"
      }
     ],
     "next": "6009ca0c-40e3-11ea-a1ce-02420a010276",
     "previous": "6009c76e-40e3-11ea-a1ce-02420a010276"
    }
   },
   "source": [
    "【進め方の注意】\n",
    "\n",
    "- 文章を読んで、教科書や演習を確認しながら、自分で進めてください。\n",
    "- 回答が終わったら、Notebookを保存してください。\n",
    "\n",
    "【注意事項】\n",
    "- この課題は、単位認定のための点数としてカウントします。また、グループ学習の対象です。\n",
    "- グループ内の全員が課題を終了した場合に限り、提出後に退室して構いません。"
   ]
  },
  {
   "cell_type": "markdown",
   "metadata": {
    "lc_cell_meme": {
     "current": "6009ca0c-40e3-11ea-a1ce-02420a010276",
     "history": [
      {
       "current": "93395100-96df-11e9-8b94-e0d55ea40caf",
       "next": "efa662f7-96de-11e9-8b94-e0d55ea40caf",
       "previous": "933950ff-96df-11e9-8b94-e0d55ea40caf"
      },
      {
       "current": "b38b730c-96e2-11e9-893e-02420a010063",
       "next": "b38b73a2-96e2-11e9-893e-02420a010063",
       "previous": "b38b723a-96e2-11e9-893e-02420a010063"
      },
      {
       "current": "b38b730c-96e2-11e9-893e-02420a010063",
       "next": "b38b730c-96e2-11e9-893e-02420a010063",
       "previous": "b38b6fc4-96e2-11e9-893e-02420a010063"
      },
      {
       "current": "224db218-fae4-11e9-ad73-02420a01004a",
       "next": "224db43e-fae4-11e9-ad73-02420a01004a",
       "previous": "224db074-fae4-11e9-ad73-02420a01004a"
      },
      {
       "current": "224db218-fae4-11e9-ad73-02420a01004a",
       "next": "1770cb40-216e-11ea-8429-02420a0104c6",
       "previous": "224db074-fae4-11e9-ad73-02420a01004a"
      },
      {
       "current": "7daad1de-216f-11ea-8205-02420a0104c6",
       "next": "7daad300-216f-11ea-8205-02420a0104c6",
       "previous": "7daad080-216f-11ea-8205-02420a0104c6"
      },
      {
       "current": "fc4a9a40-3e86-11ea-9d05-02420a010276",
       "next": "fc4a9b76-3e86-11ea-9d05-02420a010276",
       "previous": "fc4a98f6-3e86-11ea-9d05-02420a010276"
      },
      {
       "current": "e6e115f2-3e87-11ea-b800-02420a010276",
       "next": "e6e11804-3e87-11ea-b800-02420a010276",
       "previous": "e6e1148a-3e87-11ea-b800-02420a010276"
      },
      {
       "current": "e6e115f2-3e87-11ea-b800-02420a010276",
       "next": "79c33866-40d9-11ea-9c0f-02420a010276",
       "previous": "e6e1148a-3e87-11ea-b800-02420a010276"
      }
     ],
     "next": "6009cb4c-40e3-11ea-a1ce-02420a010276",
     "previous": "6009c8ae-40e3-11ea-a1ce-02420a010276"
    }
   },
   "source": [
    "## 第15回の課題内容"
   ]
  },
  {
   "cell_type": "markdown",
   "metadata": {
    "lc_cell_meme": {
     "current": "6009cb4c-40e3-11ea-a1ce-02420a010276",
     "history": [
      {
       "current": "79c33866-40d9-11ea-9c0f-02420a010276",
       "next": "79c33ac8-40d9-11ea-9c0f-02420a010276",
       "previous": "e6e115f2-3e87-11ea-b800-02420a010276"
      }
     ],
     "next": "6009cc82-40e3-11ea-a1ce-02420a010276",
     "previous": "6009ca0c-40e3-11ea-a1ce-02420a010276"
    }
   },
   "source": [
    "moodle内の室蘭市の10年間の月別平均気温および月別降水量データを利用して、次のグラフを作成して可視化を行ってください。<BR>\n",
    "\n",
    "(1) 年平均気温の10年間の推移<BR>\n",
    "(2) 月平均気温の一年間の変化<BR>\n",
    "(3) 月平均降水量の年間降水量における割合<BR>"
   ]
  },
  {
   "cell_type": "markdown",
   "metadata": {
    "lc_cell_meme": {
     "current": "6009cc82-40e3-11ea-a1ce-02420a010276",
     "history": [
      {
       "current": "79c33ac8-40d9-11ea-9c0f-02420a010276",
       "next": "e6e11804-3e87-11ea-b800-02420a010276",
       "previous": "79c33866-40d9-11ea-9c0f-02420a010276"
      }
     ],
     "next": "6009cdc2-40e3-11ea-a1ce-02420a010276",
     "previous": "6009cb4c-40e3-11ea-a1ce-02420a010276"
    }
   },
   "source": [
    "## 課題1　年平均気温の10年間の推移"
   ]
  },
  {
   "cell_type": "markdown",
   "metadata": {
    "lc_cell_meme": {
     "current": "6009cdc2-40e3-11ea-a1ce-02420a010276",
     "history": [
      {
       "current": "1770cb40-216e-11ea-8429-02420a0104c6",
       "next": "1770cdb6-216e-11ea-8429-02420a0104c6",
       "previous": "224db218-fae4-11e9-ad73-02420a01004a"
      },
      {
       "current": "7daad300-216f-11ea-8205-02420a0104c6",
       "next": "7daad3fa-216f-11ea-8205-02420a0104c6",
       "previous": "7daad1de-216f-11ea-8205-02420a0104c6"
      },
      {
       "current": "7daad300-216f-11ea-8205-02420a0104c6",
       "next": "8ec28c68-3c23-11ea-967e-02420a010532",
       "previous": "7daad1de-216f-11ea-8205-02420a0104c6"
      },
      {
       "current": "7daad300-216f-11ea-8205-02420a0104c6",
       "next": "922b7b42-3dc9-11ea-9c0f-02420a010276",
       "previous": "7daad1de-216f-11ea-8205-02420a0104c6"
      },
      {
       "current": "fc4a9b76-3e86-11ea-9d05-02420a010276",
       "next": "fc4a9cca-3e86-11ea-9d05-02420a010276",
       "previous": "fc4a9a40-3e86-11ea-9d05-02420a010276"
      },
      {
       "current": "e6e11804-3e87-11ea-b800-02420a010276",
       "next": "e6e1194e-3e87-11ea-b800-02420a010276",
       "previous": "e6e115f2-3e87-11ea-b800-02420a010276"
      },
      {
       "current": "e6e11804-3e87-11ea-b800-02420a010276",
       "next": "e6e1194e-3e87-11ea-b800-02420a010276",
       "previous": "79c33ac8-40d9-11ea-9c0f-02420a010276"
      }
     ],
     "next": "6009ced0-40e3-11ea-a1ce-02420a010276",
     "previous": "6009cc82-40e3-11ea-a1ce-02420a010276"
    }
   },
   "source": [
    "10年間の年別平均気温の折れ線グラフを作成してください。"
   ]
  },
  {
   "cell_type": "markdown",
   "metadata": {
    "lc_cell_meme": {
     "current": "6009ced0-40e3-11ea-a1ce-02420a010276",
     "history": [
      {
       "current": "922b7b42-3dc9-11ea-9c0f-02420a010276",
       "next": "8ec28c68-3c23-11ea-967e-02420a010532",
       "previous": "7daad300-216f-11ea-8205-02420a0104c6"
      },
      {
       "current": "922b7b42-3dc9-11ea-9c0f-02420a010276",
       "next": "21435f20-3dca-11ea-9c0f-02420a010276",
       "previous": "7daad300-216f-11ea-8205-02420a0104c6"
      },
      {
       "current": "922b7b42-3dc9-11ea-9c0f-02420a010276",
       "next": "7ba6add4-3dcd-11ea-9c0f-02420a010276",
       "previous": "7daad300-216f-11ea-8205-02420a0104c6"
      },
      {
       "current": "fc4a9cca-3e86-11ea-9d05-02420a010276",
       "next": "fc4a9df6-3e86-11ea-9d05-02420a010276",
       "previous": "fc4a9b76-3e86-11ea-9d05-02420a010276"
      },
      {
       "current": "e6e1194e-3e87-11ea-b800-02420a010276",
       "next": "e6e11a70-3e87-11ea-b800-02420a010276",
       "previous": "e6e11804-3e87-11ea-b800-02420a010276"
      }
     ],
     "next": "6009d010-40e3-11ea-a1ce-02420a010276",
     "previous": "6009cdc2-40e3-11ea-a1ce-02420a010276"
    }
   },
   "source": [
    "### 手順1：\n",
    "\n",
    "- 行の先頭の年を除いた1年分の12個データを1つのリストとし、10年分のデータでリストのリスト`temp`を作成してください。またリスト`temp`を評価して、値を確認してください。\n",
    "\n",
    "記述例<BR>\n",
    "temp = [ [2010年分の12個のデータ], [2011年分の12個のデータ], ．．．[2019年分の12個のデータ] ]<BR>"
   ]
  },
  {
   "cell_type": "code",
   "execution_count": null,
   "metadata": {
    "lc_cell_meme": {
     "current": "6009d010-40e3-11ea-a1ce-02420a010276",
     "history": [
      {
       "current": "7ba6add4-3dcd-11ea-9c0f-02420a010276",
       "next": "21435f20-3dca-11ea-9c0f-02420a010276",
       "previous": "922b7b42-3dc9-11ea-9c0f-02420a010276"
      },
      {
       "current": "fc4a9df6-3e86-11ea-9d05-02420a010276",
       "next": "fc4a9f0e-3e86-11ea-9d05-02420a010276",
       "previous": "fc4a9cca-3e86-11ea-9d05-02420a010276"
      },
      {
       "current": "e6e11a70-3e87-11ea-b800-02420a010276",
       "next": "e6e11bb0-3e87-11ea-b800-02420a010276",
       "previous": "e6e1194e-3e87-11ea-b800-02420a010276"
      },
      {
       "current": "6009d010-40e3-11ea-a1ce-02420a010276",
       "next": "6009d2ae-40e3-11ea-a1ce-02420a010276",
       "previous": "6009ced0-40e3-11ea-a1ce-02420a010276"
      }
     ],
     "next": "6009d40c-40e3-11ea-a1ce-02420a010276",
     "previous": "6009ced0-40e3-11ea-a1ce-02420a010276"
    }
   },
   "outputs": [],
   "source": [
    "# 演習用入力欄\n"
   ]
  },
  {
   "cell_type": "markdown",
   "metadata": {
    "lc_cell_meme": {
     "current": "6009d40c-40e3-11ea-a1ce-02420a010276",
     "history": [
      {
       "current": "3b82ae96-3e64-11ea-9c0f-02420a010276",
       "next": "7ba6b05e-3dcd-11ea-9c0f-02420a010276",
       "previous": "21435f20-3dca-11ea-9c0f-02420a010276"
      },
      {
       "current": "fc4aa01c-3e86-11ea-9d05-02420a010276",
       "next": "fc4aa166-3e86-11ea-9d05-02420a010276",
       "previous": "fc4a9f0e-3e86-11ea-9d05-02420a010276"
      },
      {
       "current": "e6e11cc8-3e87-11ea-b800-02420a010276",
       "next": "e6e11f84-3e87-11ea-b800-02420a010276",
       "previous": "e6e11bb0-3e87-11ea-b800-02420a010276"
      },
      {
       "current": "6009d40c-40e3-11ea-a1ce-02420a010276",
       "next": "6009d560-40e3-11ea-a1ce-02420a010276",
       "previous": "6009d2ae-40e3-11ea-a1ce-02420a010276"
      }
     ],
     "next": "6009d560-40e3-11ea-a1ce-02420a010276",
     "previous": "6009d010-40e3-11ea-a1ce-02420a010276"
    }
   },
   "source": [
    "作成例：<BR>\n",
    "[ [-1.1, -2.7, -0.1, 4.5, 9.4, 15.6, 20.2, 23, 19.6, 13.2, 7.2, 1.8],<BR>\n",
    " [-3, -0.3, 0.8, 5.8, 9.3, 15.2, 19.4, 21.5, 18.9, 13, 7.1, -0.6],<BR>\n",
    "        ：<BR>\n",
    "        ：<BR>\n",
    " [-1.6, -1.5, 2.6, 6.7, 12.9, 15.1, 18.2, 20.8, 19.1, 14.3, 5.3, 0.8] ]<BR>"
   ]
  },
  {
   "cell_type": "markdown",
   "metadata": {
    "lc_cell_meme": {
     "current": "6009d560-40e3-11ea-a1ce-02420a010276",
     "history": [
      {
       "current": "7ba6b05e-3dcd-11ea-9c0f-02420a010276",
       "next": "8ec28c68-3c23-11ea-967e-02420a010532",
       "previous": "21435f20-3dca-11ea-9c0f-02420a010276"
      },
      {
       "current": "7ba6b05e-3dcd-11ea-9c0f-02420a010276",
       "next": "c3244bc6-3dcd-11ea-9c0f-02420a010276",
       "previous": "21435f20-3dca-11ea-9c0f-02420a010276"
      },
      {
       "current": "7ba6b05e-3dcd-11ea-9c0f-02420a010276",
       "next": "c3244bc6-3dcd-11ea-9c0f-02420a010276",
       "previous": "21435f20-3dca-11ea-9c0f-02420a010276"
      },
      {
       "current": "7ba6b05e-3dcd-11ea-9c0f-02420a010276",
       "next": "c3244bc6-3dcd-11ea-9c0f-02420a010276",
       "previous": "21435f20-3dca-11ea-9c0f-02420a010276"
      },
      {
       "current": "7ba6b05e-3dcd-11ea-9c0f-02420a010276",
       "next": "c3244bc6-3dcd-11ea-9c0f-02420a010276",
       "previous": "21435f20-3dca-11ea-9c0f-02420a010276"
      },
      {
       "current": "7ba6b05e-3dcd-11ea-9c0f-02420a010276",
       "next": "c3244bc6-3dcd-11ea-9c0f-02420a010276",
       "previous": "21435f20-3dca-11ea-9c0f-02420a010276"
      },
      {
       "current": "7ba6b05e-3dcd-11ea-9c0f-02420a010276",
       "next": "c3244bc6-3dcd-11ea-9c0f-02420a010276",
       "previous": "21435f20-3dca-11ea-9c0f-02420a010276"
      },
      {
       "current": "7ba6b05e-3dcd-11ea-9c0f-02420a010276",
       "next": "c3244bc6-3dcd-11ea-9c0f-02420a010276",
       "previous": "21435f20-3dca-11ea-9c0f-02420a010276"
      },
      {
       "current": "7ba6b05e-3dcd-11ea-9c0f-02420a010276",
       "next": "c3244bc6-3dcd-11ea-9c0f-02420a010276",
       "previous": "21435f20-3dca-11ea-9c0f-02420a010276"
      },
      {
       "current": "7ba6b05e-3dcd-11ea-9c0f-02420a010276",
       "next": "c3244bc6-3dcd-11ea-9c0f-02420a010276",
       "previous": "21435f20-3dca-11ea-9c0f-02420a010276"
      },
      {
       "current": "7ba6b05e-3dcd-11ea-9c0f-02420a010276",
       "next": "c3244bc6-3dcd-11ea-9c0f-02420a010276",
       "previous": "21435f20-3dca-11ea-9c0f-02420a010276"
      },
      {
       "current": "7ba6b05e-3dcd-11ea-9c0f-02420a010276",
       "next": "c3244bc6-3dcd-11ea-9c0f-02420a010276",
       "previous": "21435f20-3dca-11ea-9c0f-02420a010276"
      },
      {
       "current": "7ba6b05e-3dcd-11ea-9c0f-02420a010276",
       "next": "c3244bc6-3dcd-11ea-9c0f-02420a010276",
       "previous": "21435f20-3dca-11ea-9c0f-02420a010276"
      },
      {
       "current": "7ba6b05e-3dcd-11ea-9c0f-02420a010276",
       "next": "c3244bc6-3dcd-11ea-9c0f-02420a010276",
       "previous": "21435f20-3dca-11ea-9c0f-02420a010276"
      },
      {
       "current": "7ba6b05e-3dcd-11ea-9c0f-02420a010276",
       "next": "c3244bc6-3dcd-11ea-9c0f-02420a010276",
       "previous": "21435f20-3dca-11ea-9c0f-02420a010276"
      },
      {
       "current": "7ba6b05e-3dcd-11ea-9c0f-02420a010276",
       "next": "c3244bc6-3dcd-11ea-9c0f-02420a010276",
       "previous": "21435f20-3dca-11ea-9c0f-02420a010276"
      },
      {
       "current": "7ba6b05e-3dcd-11ea-9c0f-02420a010276",
       "next": "c3244bc6-3dcd-11ea-9c0f-02420a010276",
       "previous": "21435f20-3dca-11ea-9c0f-02420a010276"
      },
      {
       "current": "7ba6b05e-3dcd-11ea-9c0f-02420a010276",
       "next": "c3244bc6-3dcd-11ea-9c0f-02420a010276",
       "previous": "21435f20-3dca-11ea-9c0f-02420a010276"
      },
      {
       "current": "7ba6b05e-3dcd-11ea-9c0f-02420a010276",
       "next": "c3244bc6-3dcd-11ea-9c0f-02420a010276",
       "previous": "21435f20-3dca-11ea-9c0f-02420a010276"
      },
      {
       "current": "7ba6b05e-3dcd-11ea-9c0f-02420a010276",
       "next": "c3244bc6-3dcd-11ea-9c0f-02420a010276",
       "previous": "21435f20-3dca-11ea-9c0f-02420a010276"
      },
      {
       "current": "7ba6b05e-3dcd-11ea-9c0f-02420a010276",
       "next": "c3244bc6-3dcd-11ea-9c0f-02420a010276",
       "previous": "21435f20-3dca-11ea-9c0f-02420a010276"
      },
      {
       "current": "7ba6b05e-3dcd-11ea-9c0f-02420a010276",
       "next": "c3244bc6-3dcd-11ea-9c0f-02420a010276",
       "previous": "21435f20-3dca-11ea-9c0f-02420a010276"
      },
      {
       "current": "7ba6b05e-3dcd-11ea-9c0f-02420a010276",
       "next": "c3244bc6-3dcd-11ea-9c0f-02420a010276",
       "previous": "21435f20-3dca-11ea-9c0f-02420a010276"
      },
      {
       "current": "7ba6b05e-3dcd-11ea-9c0f-02420a010276",
       "next": "c3244bc6-3dcd-11ea-9c0f-02420a010276",
       "previous": "21435f20-3dca-11ea-9c0f-02420a010276"
      },
      {
       "current": "7ba6b05e-3dcd-11ea-9c0f-02420a010276",
       "next": "c3244bc6-3dcd-11ea-9c0f-02420a010276",
       "previous": "21435f20-3dca-11ea-9c0f-02420a010276"
      },
      {
       "current": "7ba6b05e-3dcd-11ea-9c0f-02420a010276",
       "next": "25d8eb80-3e48-11ea-9c0f-02420a010276",
       "previous": "25d8ea68-3e48-11ea-9c0f-02420a010276"
      },
      {
       "current": "7ba6b05e-3dcd-11ea-9c0f-02420a010276",
       "next": "25d8eb80-3e48-11ea-9c0f-02420a010276",
       "previous": "3b82ae96-3e64-11ea-9c0f-02420a010276"
      },
      {
       "current": "fc4aa166-3e86-11ea-9d05-02420a010276",
       "next": "fc4aa2a6-3e86-11ea-9d05-02420a010276",
       "previous": "fc4aa01c-3e86-11ea-9d05-02420a010276"
      },
      {
       "current": "e6e11f84-3e87-11ea-b800-02420a010276",
       "next": "e6e120f6-3e87-11ea-b800-02420a010276",
       "previous": "e6e11cc8-3e87-11ea-b800-02420a010276"
      }
     ],
     "next": "6009d6aa-40e3-11ea-a1ce-02420a010276",
     "previous": "6009d40c-40e3-11ea-a1ce-02420a010276"
    }
   },
   "source": [
    "### 手順2：\n",
    "- 次に引数として与えた`リスト`の平均値を返す関数`list_ave`を定義してください。"
   ]
  },
  {
   "cell_type": "code",
   "execution_count": null,
   "metadata": {
    "lc_cell_meme": {
     "current": "6009d6aa-40e3-11ea-a1ce-02420a010276",
     "history": [
      {
       "current": "25d8eb80-3e48-11ea-9c0f-02420a010276",
       "next": "c3244bc6-3dcd-11ea-9c0f-02420a010276",
       "previous": "7ba6b05e-3dcd-11ea-9c0f-02420a010276"
      },
      {
       "current": "fc4aa2a6-3e86-11ea-9d05-02420a010276",
       "next": "fc4aa63e-3e86-11ea-9d05-02420a010276",
       "previous": "fc4aa166-3e86-11ea-9d05-02420a010276"
      },
      {
       "current": "e6e120f6-3e87-11ea-b800-02420a010276",
       "next": "e6e1227c-3e87-11ea-b800-02420a010276",
       "previous": "e6e11f84-3e87-11ea-b800-02420a010276"
      },
      {
       "current": "6009d6aa-40e3-11ea-a1ce-02420a010276",
       "next": "6009d81c-40e3-11ea-a1ce-02420a010276",
       "previous": "6009d560-40e3-11ea-a1ce-02420a010276"
      }
     ],
     "next": "6009d966-40e3-11ea-a1ce-02420a010276",
     "previous": "6009d560-40e3-11ea-a1ce-02420a010276"
    }
   },
   "outputs": [],
   "source": [
    "# 演習用入力欄\n"
   ]
  },
  {
   "cell_type": "markdown",
   "metadata": {
    "lc_cell_meme": {
     "current": "6009d966-40e3-11ea-a1ce-02420a010276",
     "history": [
      {
       "current": "7ba6b05e-3dcd-11ea-9c0f-02420a010276",
       "next": "8ec28c68-3c23-11ea-967e-02420a010532",
       "previous": "21435f20-3dca-11ea-9c0f-02420a010276"
      },
      {
       "current": "7ba6b05e-3dcd-11ea-9c0f-02420a010276",
       "next": "c3244bc6-3dcd-11ea-9c0f-02420a010276",
       "previous": "21435f20-3dca-11ea-9c0f-02420a010276"
      },
      {
       "current": "7ba6b05e-3dcd-11ea-9c0f-02420a010276",
       "next": "c3244bc6-3dcd-11ea-9c0f-02420a010276",
       "previous": "21435f20-3dca-11ea-9c0f-02420a010276"
      },
      {
       "current": "7ba6b05e-3dcd-11ea-9c0f-02420a010276",
       "next": "c3244bc6-3dcd-11ea-9c0f-02420a010276",
       "previous": "21435f20-3dca-11ea-9c0f-02420a010276"
      },
      {
       "current": "7ba6b05e-3dcd-11ea-9c0f-02420a010276",
       "next": "c3244bc6-3dcd-11ea-9c0f-02420a010276",
       "previous": "21435f20-3dca-11ea-9c0f-02420a010276"
      },
      {
       "current": "7ba6b05e-3dcd-11ea-9c0f-02420a010276",
       "next": "c3244bc6-3dcd-11ea-9c0f-02420a010276",
       "previous": "21435f20-3dca-11ea-9c0f-02420a010276"
      },
      {
       "current": "7ba6b05e-3dcd-11ea-9c0f-02420a010276",
       "next": "c3244bc6-3dcd-11ea-9c0f-02420a010276",
       "previous": "21435f20-3dca-11ea-9c0f-02420a010276"
      },
      {
       "current": "7ba6b05e-3dcd-11ea-9c0f-02420a010276",
       "next": "c3244bc6-3dcd-11ea-9c0f-02420a010276",
       "previous": "21435f20-3dca-11ea-9c0f-02420a010276"
      },
      {
       "current": "7ba6b05e-3dcd-11ea-9c0f-02420a010276",
       "next": "c3244bc6-3dcd-11ea-9c0f-02420a010276",
       "previous": "21435f20-3dca-11ea-9c0f-02420a010276"
      },
      {
       "current": "7ba6b05e-3dcd-11ea-9c0f-02420a010276",
       "next": "c3244bc6-3dcd-11ea-9c0f-02420a010276",
       "previous": "21435f20-3dca-11ea-9c0f-02420a010276"
      },
      {
       "current": "7ba6b05e-3dcd-11ea-9c0f-02420a010276",
       "next": "c3244bc6-3dcd-11ea-9c0f-02420a010276",
       "previous": "21435f20-3dca-11ea-9c0f-02420a010276"
      },
      {
       "current": "7ba6b05e-3dcd-11ea-9c0f-02420a010276",
       "next": "c3244bc6-3dcd-11ea-9c0f-02420a010276",
       "previous": "21435f20-3dca-11ea-9c0f-02420a010276"
      },
      {
       "current": "7ba6b05e-3dcd-11ea-9c0f-02420a010276",
       "next": "c3244bc6-3dcd-11ea-9c0f-02420a010276",
       "previous": "21435f20-3dca-11ea-9c0f-02420a010276"
      },
      {
       "current": "7ba6b05e-3dcd-11ea-9c0f-02420a010276",
       "next": "c3244bc6-3dcd-11ea-9c0f-02420a010276",
       "previous": "21435f20-3dca-11ea-9c0f-02420a010276"
      },
      {
       "current": "7ba6b05e-3dcd-11ea-9c0f-02420a010276",
       "next": "c3244bc6-3dcd-11ea-9c0f-02420a010276",
       "previous": "21435f20-3dca-11ea-9c0f-02420a010276"
      },
      {
       "current": "7ba6b05e-3dcd-11ea-9c0f-02420a010276",
       "next": "c3244bc6-3dcd-11ea-9c0f-02420a010276",
       "previous": "21435f20-3dca-11ea-9c0f-02420a010276"
      },
      {
       "current": "7ba6b05e-3dcd-11ea-9c0f-02420a010276",
       "next": "c3244bc6-3dcd-11ea-9c0f-02420a010276",
       "previous": "21435f20-3dca-11ea-9c0f-02420a010276"
      },
      {
       "current": "7ba6b05e-3dcd-11ea-9c0f-02420a010276",
       "next": "c3244bc6-3dcd-11ea-9c0f-02420a010276",
       "previous": "21435f20-3dca-11ea-9c0f-02420a010276"
      },
      {
       "current": "7ba6b05e-3dcd-11ea-9c0f-02420a010276",
       "next": "c3244bc6-3dcd-11ea-9c0f-02420a010276",
       "previous": "21435f20-3dca-11ea-9c0f-02420a010276"
      },
      {
       "current": "7ba6b05e-3dcd-11ea-9c0f-02420a010276",
       "next": "c3244bc6-3dcd-11ea-9c0f-02420a010276",
       "previous": "21435f20-3dca-11ea-9c0f-02420a010276"
      },
      {
       "current": "7ba6b05e-3dcd-11ea-9c0f-02420a010276",
       "next": "c3244bc6-3dcd-11ea-9c0f-02420a010276",
       "previous": "21435f20-3dca-11ea-9c0f-02420a010276"
      },
      {
       "current": "7ba6b05e-3dcd-11ea-9c0f-02420a010276",
       "next": "c3244bc6-3dcd-11ea-9c0f-02420a010276",
       "previous": "21435f20-3dca-11ea-9c0f-02420a010276"
      },
      {
       "current": "7ba6b05e-3dcd-11ea-9c0f-02420a010276",
       "next": "c3244bc6-3dcd-11ea-9c0f-02420a010276",
       "previous": "21435f20-3dca-11ea-9c0f-02420a010276"
      },
      {
       "current": "7ba6b05e-3dcd-11ea-9c0f-02420a010276",
       "next": "c3244bc6-3dcd-11ea-9c0f-02420a010276",
       "previous": "21435f20-3dca-11ea-9c0f-02420a010276"
      },
      {
       "current": "7ba6b05e-3dcd-11ea-9c0f-02420a010276",
       "next": "c3244bc6-3dcd-11ea-9c0f-02420a010276",
       "previous": "21435f20-3dca-11ea-9c0f-02420a010276"
      },
      {
       "current": "7ba6b05e-3dcd-11ea-9c0f-02420a010276",
       "next": "25d8eb80-3e48-11ea-9c0f-02420a010276",
       "previous": "25d8ea68-3e48-11ea-9c0f-02420a010276"
      },
      {
       "current": "7ba6b05e-3dcd-11ea-9c0f-02420a010276",
       "next": "25d8eb80-3e48-11ea-9c0f-02420a010276",
       "previous": "c3244bc6-3dcd-11ea-9c0f-02420a010276"
      },
      {
       "current": "fc4aa7e2-3e86-11ea-9d05-02420a010276",
       "next": "fc4aa95e-3e86-11ea-9d05-02420a010276",
       "previous": "fc4aa63e-3e86-11ea-9d05-02420a010276"
      },
      {
       "current": "e6e123d0-3e87-11ea-b800-02420a010276",
       "next": "e6e12538-3e87-11ea-b800-02420a010276",
       "previous": "e6e1227c-3e87-11ea-b800-02420a010276"
      },
      {
       "current": "6009d966-40e3-11ea-a1ce-02420a010276",
       "next": "6009daba-40e3-11ea-a1ce-02420a010276",
       "previous": "6009d81c-40e3-11ea-a1ce-02420a010276"
      }
     ],
     "next": "6009daba-40e3-11ea-a1ce-02420a010276",
     "previous": "6009d6aa-40e3-11ea-a1ce-02420a010276"
    }
   },
   "source": [
    "### 手順3：\n",
    "- 関数`list_ave`が正しく作成できたか、次のセルを評価して確認してください。"
   ]
  },
  {
   "cell_type": "code",
   "execution_count": null,
   "metadata": {
    "lc_cell_meme": {
     "current": "6009daba-40e3-11ea-a1ce-02420a010276",
     "history": [
      {
       "current": "25d8eb80-3e48-11ea-9c0f-02420a010276",
       "next": "c3244bc6-3dcd-11ea-9c0f-02420a010276",
       "previous": "7ba6b05e-3dcd-11ea-9c0f-02420a010276"
      },
      {
       "current": "25d8eb80-3e48-11ea-9c0f-02420a010276",
       "next": "06d223a4-3e67-11ea-9c0f-02420a010276",
       "previous": "7ba6b05e-3dcd-11ea-9c0f-02420a010276"
      },
      {
       "current": "25d8eb80-3e48-11ea-9c0f-02420a010276",
       "next": "7ba6b05e-3dcd-11ea-9c0f-02420a010276",
       "previous": "7ba6b05e-3dcd-11ea-9c0f-02420a010276"
      },
      {
       "current": "fc4aa95e-3e86-11ea-9d05-02420a010276",
       "next": "fc4aaad0-3e86-11ea-9d05-02420a010276",
       "previous": "fc4aa7e2-3e86-11ea-9d05-02420a010276"
      },
      {
       "current": "e6e12538-3e87-11ea-b800-02420a010276",
       "next": "e6e126be-3e87-11ea-b800-02420a010276",
       "previous": "e6e123d0-3e87-11ea-b800-02420a010276"
      },
      {
       "current": "e6e12538-3e87-11ea-b800-02420a010276",
       "next": "e6e13ad2-3e87-11ea-b800-02420a010276",
       "previous": "e6e123d0-3e87-11ea-b800-02420a010276"
      }
     ],
     "next": "6009dc40-40e3-11ea-a1ce-02420a010276",
     "previous": "6009d966-40e3-11ea-a1ce-02420a010276"
    },
    "lc_wrapper": {
     "log_history": [
      "/home/10999542xb8011f/15work/.log/20200124/20200124-153945-0791.log",
      "/home/10999542xb8011f/15work/.log/20200124/20200124-154017-0702.log",
      "/home/10999542xb8011f/15work/.log/20200124/20200124-154726-0999.log",
      "/home/10999542xb8011f/15a/.log/20200124/20200124-175652-0655.log",
      "/home/10999542xb8011f/15a/.log/20200124/20200124-180144-0948.log",
      "/home/10999542xb8011f/15a/.log/20200127/20200127-180119-0874.log"
     ]
    }
   },
   "outputs": [],
   "source": [
    "# 演習用入力欄（このまま評価すること）\n",
    "l = [1, 2, 3, 4]\n",
    "list_ave(l)"
   ]
  },
  {
   "cell_type": "markdown",
   "metadata": {
    "lc_cell_meme": {
     "current": "6009dc40-40e3-11ea-a1ce-02420a010276",
     "history": [
      {
       "current": "7ba6b05e-3dcd-11ea-9c0f-02420a010276",
       "next": "8ec28c68-3c23-11ea-967e-02420a010532",
       "previous": "21435f20-3dca-11ea-9c0f-02420a010276"
      },
      {
       "current": "7ba6b05e-3dcd-11ea-9c0f-02420a010276",
       "next": "c3244bc6-3dcd-11ea-9c0f-02420a010276",
       "previous": "21435f20-3dca-11ea-9c0f-02420a010276"
      },
      {
       "current": "7ba6b05e-3dcd-11ea-9c0f-02420a010276",
       "next": "c3244bc6-3dcd-11ea-9c0f-02420a010276",
       "previous": "21435f20-3dca-11ea-9c0f-02420a010276"
      },
      {
       "current": "7ba6b05e-3dcd-11ea-9c0f-02420a010276",
       "next": "c3244bc6-3dcd-11ea-9c0f-02420a010276",
       "previous": "21435f20-3dca-11ea-9c0f-02420a010276"
      },
      {
       "current": "7ba6b05e-3dcd-11ea-9c0f-02420a010276",
       "next": "c3244bc6-3dcd-11ea-9c0f-02420a010276",
       "previous": "21435f20-3dca-11ea-9c0f-02420a010276"
      },
      {
       "current": "7ba6b05e-3dcd-11ea-9c0f-02420a010276",
       "next": "c3244bc6-3dcd-11ea-9c0f-02420a010276",
       "previous": "21435f20-3dca-11ea-9c0f-02420a010276"
      },
      {
       "current": "7ba6b05e-3dcd-11ea-9c0f-02420a010276",
       "next": "c3244bc6-3dcd-11ea-9c0f-02420a010276",
       "previous": "21435f20-3dca-11ea-9c0f-02420a010276"
      },
      {
       "current": "7ba6b05e-3dcd-11ea-9c0f-02420a010276",
       "next": "c3244bc6-3dcd-11ea-9c0f-02420a010276",
       "previous": "21435f20-3dca-11ea-9c0f-02420a010276"
      },
      {
       "current": "7ba6b05e-3dcd-11ea-9c0f-02420a010276",
       "next": "c3244bc6-3dcd-11ea-9c0f-02420a010276",
       "previous": "21435f20-3dca-11ea-9c0f-02420a010276"
      },
      {
       "current": "7ba6b05e-3dcd-11ea-9c0f-02420a010276",
       "next": "c3244bc6-3dcd-11ea-9c0f-02420a010276",
       "previous": "21435f20-3dca-11ea-9c0f-02420a010276"
      },
      {
       "current": "7ba6b05e-3dcd-11ea-9c0f-02420a010276",
       "next": "c3244bc6-3dcd-11ea-9c0f-02420a010276",
       "previous": "21435f20-3dca-11ea-9c0f-02420a010276"
      },
      {
       "current": "7ba6b05e-3dcd-11ea-9c0f-02420a010276",
       "next": "c3244bc6-3dcd-11ea-9c0f-02420a010276",
       "previous": "21435f20-3dca-11ea-9c0f-02420a010276"
      },
      {
       "current": "7ba6b05e-3dcd-11ea-9c0f-02420a010276",
       "next": "c3244bc6-3dcd-11ea-9c0f-02420a010276",
       "previous": "21435f20-3dca-11ea-9c0f-02420a010276"
      },
      {
       "current": "7ba6b05e-3dcd-11ea-9c0f-02420a010276",
       "next": "c3244bc6-3dcd-11ea-9c0f-02420a010276",
       "previous": "21435f20-3dca-11ea-9c0f-02420a010276"
      },
      {
       "current": "7ba6b05e-3dcd-11ea-9c0f-02420a010276",
       "next": "c3244bc6-3dcd-11ea-9c0f-02420a010276",
       "previous": "21435f20-3dca-11ea-9c0f-02420a010276"
      },
      {
       "current": "7ba6b05e-3dcd-11ea-9c0f-02420a010276",
       "next": "c3244bc6-3dcd-11ea-9c0f-02420a010276",
       "previous": "21435f20-3dca-11ea-9c0f-02420a010276"
      },
      {
       "current": "7ba6b05e-3dcd-11ea-9c0f-02420a010276",
       "next": "c3244bc6-3dcd-11ea-9c0f-02420a010276",
       "previous": "21435f20-3dca-11ea-9c0f-02420a010276"
      },
      {
       "current": "7ba6b05e-3dcd-11ea-9c0f-02420a010276",
       "next": "c3244bc6-3dcd-11ea-9c0f-02420a010276",
       "previous": "21435f20-3dca-11ea-9c0f-02420a010276"
      },
      {
       "current": "7ba6b05e-3dcd-11ea-9c0f-02420a010276",
       "next": "c3244bc6-3dcd-11ea-9c0f-02420a010276",
       "previous": "21435f20-3dca-11ea-9c0f-02420a010276"
      },
      {
       "current": "7ba6b05e-3dcd-11ea-9c0f-02420a010276",
       "next": "c3244bc6-3dcd-11ea-9c0f-02420a010276",
       "previous": "21435f20-3dca-11ea-9c0f-02420a010276"
      },
      {
       "current": "7ba6b05e-3dcd-11ea-9c0f-02420a010276",
       "next": "c3244bc6-3dcd-11ea-9c0f-02420a010276",
       "previous": "21435f20-3dca-11ea-9c0f-02420a010276"
      },
      {
       "current": "7ba6b05e-3dcd-11ea-9c0f-02420a010276",
       "next": "c3244bc6-3dcd-11ea-9c0f-02420a010276",
       "previous": "21435f20-3dca-11ea-9c0f-02420a010276"
      },
      {
       "current": "7ba6b05e-3dcd-11ea-9c0f-02420a010276",
       "next": "c3244bc6-3dcd-11ea-9c0f-02420a010276",
       "previous": "21435f20-3dca-11ea-9c0f-02420a010276"
      },
      {
       "current": "7ba6b05e-3dcd-11ea-9c0f-02420a010276",
       "next": "c3244bc6-3dcd-11ea-9c0f-02420a010276",
       "previous": "21435f20-3dca-11ea-9c0f-02420a010276"
      },
      {
       "current": "7ba6b05e-3dcd-11ea-9c0f-02420a010276",
       "next": "25d8ec70-3e48-11ea-9c0f-02420a010276",
       "previous": "c3244bc6-3dcd-11ea-9c0f-02420a010276"
      },
      {
       "current": "7ba6b05e-3dcd-11ea-9c0f-02420a010276",
       "next": "7ba6b05e-3dcd-11ea-9c0f-02420a010276",
       "previous": "c3244bc6-3dcd-11ea-9c0f-02420a010276"
      },
      {
       "current": "7ba6b05e-3dcd-11ea-9c0f-02420a010276",
       "next": "25d8ec70-3e48-11ea-9c0f-02420a010276",
       "previous": "c3244bc6-3dcd-11ea-9c0f-02420a010276"
      },
      {
       "current": "fc4abe62-3e86-11ea-9d05-02420a010276",
       "next": "fc4abfca-3e86-11ea-9d05-02420a010276",
       "previous": "fc4abd22-3e86-11ea-9d05-02420a010276"
      },
      {
       "current": "e6e13ad2-3e87-11ea-b800-02420a010276",
       "next": "e6e13c1c-3e87-11ea-b800-02420a010276",
       "previous": "e6e1397e-3e87-11ea-b800-02420a010276"
      },
      {
       "current": "e6e13ad2-3e87-11ea-b800-02420a010276",
       "next": "e6e13c1c-3e87-11ea-b800-02420a010276",
       "previous": "e6e12538-3e87-11ea-b800-02420a010276"
      }
     ],
     "next": "6009deac-40e3-11ea-a1ce-02420a010276",
     "previous": "6009daba-40e3-11ea-a1ce-02420a010276"
    }
   },
   "source": [
    "### 手順4：\n",
    "- **次に年ごとの平均気温のグラフを作成します。**\n",
    "- 年ごとのデータはリスト`temp`内でそれぞれリスト化されていますので、関数`list_ave`を利用して年ごとの平均気温をリスト`temp_years`に格納してください。作成後リスト`temp_years`を評価して値を確認してください。"
   ]
  },
  {
   "cell_type": "code",
   "execution_count": null,
   "metadata": {
    "lc_cell_meme": {
     "current": "6009deac-40e3-11ea-a1ce-02420a010276",
     "history": [
      {
       "current": "25d8ec70-3e48-11ea-9c0f-02420a010276",
       "next": "c3244bc6-3dcd-11ea-9c0f-02420a010276",
       "previous": "7ba6b05e-3dcd-11ea-9c0f-02420a010276"
      },
      {
       "current": "fc4abfca-3e86-11ea-9d05-02420a010276",
       "next": "fc4ac11e-3e86-11ea-9d05-02420a010276",
       "previous": "fc4abe62-3e86-11ea-9d05-02420a010276"
      },
      {
       "current": "e6e13c1c-3e87-11ea-b800-02420a010276",
       "next": "e6e13d7a-3e87-11ea-b800-02420a010276",
       "previous": "e6e13ad2-3e87-11ea-b800-02420a010276"
      },
      {
       "current": "6009deac-40e3-11ea-a1ce-02420a010276",
       "next": "6009dff6-40e3-11ea-a1ce-02420a010276",
       "previous": "6009dc40-40e3-11ea-a1ce-02420a010276"
      }
     ],
     "next": "6009e12c-40e3-11ea-a1ce-02420a010276",
     "previous": "6009dc40-40e3-11ea-a1ce-02420a010276"
    }
   },
   "outputs": [],
   "source": [
    "# 演習用入力欄\n"
   ]
  },
  {
   "cell_type": "markdown",
   "metadata": {
    "lc_cell_meme": {
     "current": "6009e12c-40e3-11ea-a1ce-02420a010276",
     "history": [
      {
       "current": "7ba6b05e-3dcd-11ea-9c0f-02420a010276",
       "next": "8ec28c68-3c23-11ea-967e-02420a010532",
       "previous": "21435f20-3dca-11ea-9c0f-02420a010276"
      },
      {
       "current": "7ba6b05e-3dcd-11ea-9c0f-02420a010276",
       "next": "c3244bc6-3dcd-11ea-9c0f-02420a010276",
       "previous": "21435f20-3dca-11ea-9c0f-02420a010276"
      },
      {
       "current": "7ba6b05e-3dcd-11ea-9c0f-02420a010276",
       "next": "c3244bc6-3dcd-11ea-9c0f-02420a010276",
       "previous": "21435f20-3dca-11ea-9c0f-02420a010276"
      },
      {
       "current": "7ba6b05e-3dcd-11ea-9c0f-02420a010276",
       "next": "c3244bc6-3dcd-11ea-9c0f-02420a010276",
       "previous": "21435f20-3dca-11ea-9c0f-02420a010276"
      },
      {
       "current": "7ba6b05e-3dcd-11ea-9c0f-02420a010276",
       "next": "c3244bc6-3dcd-11ea-9c0f-02420a010276",
       "previous": "21435f20-3dca-11ea-9c0f-02420a010276"
      },
      {
       "current": "7ba6b05e-3dcd-11ea-9c0f-02420a010276",
       "next": "c3244bc6-3dcd-11ea-9c0f-02420a010276",
       "previous": "21435f20-3dca-11ea-9c0f-02420a010276"
      },
      {
       "current": "7ba6b05e-3dcd-11ea-9c0f-02420a010276",
       "next": "c3244bc6-3dcd-11ea-9c0f-02420a010276",
       "previous": "21435f20-3dca-11ea-9c0f-02420a010276"
      },
      {
       "current": "7ba6b05e-3dcd-11ea-9c0f-02420a010276",
       "next": "c3244bc6-3dcd-11ea-9c0f-02420a010276",
       "previous": "21435f20-3dca-11ea-9c0f-02420a010276"
      },
      {
       "current": "7ba6b05e-3dcd-11ea-9c0f-02420a010276",
       "next": "c3244bc6-3dcd-11ea-9c0f-02420a010276",
       "previous": "21435f20-3dca-11ea-9c0f-02420a010276"
      },
      {
       "current": "7ba6b05e-3dcd-11ea-9c0f-02420a010276",
       "next": "c3244bc6-3dcd-11ea-9c0f-02420a010276",
       "previous": "21435f20-3dca-11ea-9c0f-02420a010276"
      },
      {
       "current": "7ba6b05e-3dcd-11ea-9c0f-02420a010276",
       "next": "c3244bc6-3dcd-11ea-9c0f-02420a010276",
       "previous": "21435f20-3dca-11ea-9c0f-02420a010276"
      },
      {
       "current": "7ba6b05e-3dcd-11ea-9c0f-02420a010276",
       "next": "c3244bc6-3dcd-11ea-9c0f-02420a010276",
       "previous": "21435f20-3dca-11ea-9c0f-02420a010276"
      },
      {
       "current": "7ba6b05e-3dcd-11ea-9c0f-02420a010276",
       "next": "c3244bc6-3dcd-11ea-9c0f-02420a010276",
       "previous": "21435f20-3dca-11ea-9c0f-02420a010276"
      },
      {
       "current": "7ba6b05e-3dcd-11ea-9c0f-02420a010276",
       "next": "c3244bc6-3dcd-11ea-9c0f-02420a010276",
       "previous": "21435f20-3dca-11ea-9c0f-02420a010276"
      },
      {
       "current": "7ba6b05e-3dcd-11ea-9c0f-02420a010276",
       "next": "c3244bc6-3dcd-11ea-9c0f-02420a010276",
       "previous": "21435f20-3dca-11ea-9c0f-02420a010276"
      },
      {
       "current": "7ba6b05e-3dcd-11ea-9c0f-02420a010276",
       "next": "c3244bc6-3dcd-11ea-9c0f-02420a010276",
       "previous": "21435f20-3dca-11ea-9c0f-02420a010276"
      },
      {
       "current": "7ba6b05e-3dcd-11ea-9c0f-02420a010276",
       "next": "c3244bc6-3dcd-11ea-9c0f-02420a010276",
       "previous": "21435f20-3dca-11ea-9c0f-02420a010276"
      },
      {
       "current": "7ba6b05e-3dcd-11ea-9c0f-02420a010276",
       "next": "c3244bc6-3dcd-11ea-9c0f-02420a010276",
       "previous": "21435f20-3dca-11ea-9c0f-02420a010276"
      },
      {
       "current": "7ba6b05e-3dcd-11ea-9c0f-02420a010276",
       "next": "c3244bc6-3dcd-11ea-9c0f-02420a010276",
       "previous": "21435f20-3dca-11ea-9c0f-02420a010276"
      },
      {
       "current": "7ba6b05e-3dcd-11ea-9c0f-02420a010276",
       "next": "c3244bc6-3dcd-11ea-9c0f-02420a010276",
       "previous": "21435f20-3dca-11ea-9c0f-02420a010276"
      },
      {
       "current": "7ba6b05e-3dcd-11ea-9c0f-02420a010276",
       "next": "c3244bc6-3dcd-11ea-9c0f-02420a010276",
       "previous": "21435f20-3dca-11ea-9c0f-02420a010276"
      },
      {
       "current": "7ba6b05e-3dcd-11ea-9c0f-02420a010276",
       "next": "c3244bc6-3dcd-11ea-9c0f-02420a010276",
       "previous": "21435f20-3dca-11ea-9c0f-02420a010276"
      },
      {
       "current": "7ba6b05e-3dcd-11ea-9c0f-02420a010276",
       "next": "c3244bc6-3dcd-11ea-9c0f-02420a010276",
       "previous": "21435f20-3dca-11ea-9c0f-02420a010276"
      },
      {
       "current": "7ba6b05e-3dcd-11ea-9c0f-02420a010276",
       "next": "c3244bc6-3dcd-11ea-9c0f-02420a010276",
       "previous": "21435f20-3dca-11ea-9c0f-02420a010276"
      },
      {
       "current": "7ba6b05e-3dcd-11ea-9c0f-02420a010276",
       "next": "c3244bc6-3dcd-11ea-9c0f-02420a010276",
       "previous": "c3244bc6-3dcd-11ea-9c0f-02420a010276"
      },
      {
       "current": "fc4ac22c-3e86-11ea-9d05-02420a010276",
       "next": "fc4ac38a-3e86-11ea-9d05-02420a010276",
       "previous": "fc4ac11e-3e86-11ea-9d05-02420a010276"
      },
      {
       "current": "e6e13eb0-3e87-11ea-b800-02420a010276",
       "next": "e6e1400e-3e87-11ea-b800-02420a010276",
       "previous": "e6e13d7a-3e87-11ea-b800-02420a010276"
      },
      {
       "current": "6009e12c-40e3-11ea-a1ce-02420a010276",
       "next": "6009e29e-40e3-11ea-a1ce-02420a010276",
       "previous": "6009dff6-40e3-11ea-a1ce-02420a010276"
      }
     ],
     "next": "6009e29e-40e3-11ea-a1ce-02420a010276",
     "previous": "6009deac-40e3-11ea-a1ce-02420a010276"
    }
   },
   "source": [
    "### 手順5：\n",
    "- 次のセルを評価して、年度名のリスト`yearsl`を作成します。"
   ]
  },
  {
   "cell_type": "code",
   "execution_count": null,
   "metadata": {
    "lc_cell_meme": {
     "current": "6009e29e-40e3-11ea-a1ce-02420a010276",
     "history": [
      {
       "current": "c3244bc6-3dcd-11ea-9c0f-02420a010276",
       "next": "8ec28c68-3c23-11ea-967e-02420a010532",
       "previous": "7ba6b05e-3dcd-11ea-9c0f-02420a010276"
      },
      {
       "current": "c3244bc6-3dcd-11ea-9c0f-02420a010276",
       "next": "8ec28c68-3c23-11ea-967e-02420a010532",
       "previous": "7ba6b05e-3dcd-11ea-9c0f-02420a010276"
      },
      {
       "current": "c3244bc6-3dcd-11ea-9c0f-02420a010276",
       "next": "8ec28c68-3c23-11ea-967e-02420a010532",
       "previous": "7ba6b05e-3dcd-11ea-9c0f-02420a010276"
      },
      {
       "current": "c3244bc6-3dcd-11ea-9c0f-02420a010276",
       "next": "8ec28c68-3c23-11ea-967e-02420a010532",
       "previous": "7ba6b05e-3dcd-11ea-9c0f-02420a010276"
      },
      {
       "current": "c3244bc6-3dcd-11ea-9c0f-02420a010276",
       "next": "8ec28c68-3c23-11ea-967e-02420a010532",
       "previous": "7ba6b05e-3dcd-11ea-9c0f-02420a010276"
      },
      {
       "current": "c3244bc6-3dcd-11ea-9c0f-02420a010276",
       "next": "8ec28c68-3c23-11ea-967e-02420a010532",
       "previous": "7ba6b05e-3dcd-11ea-9c0f-02420a010276"
      },
      {
       "current": "c3244bc6-3dcd-11ea-9c0f-02420a010276",
       "next": "8ec28c68-3c23-11ea-967e-02420a010532",
       "previous": "7ba6b05e-3dcd-11ea-9c0f-02420a010276"
      },
      {
       "current": "c3244bc6-3dcd-11ea-9c0f-02420a010276",
       "next": "8ec28c68-3c23-11ea-967e-02420a010532",
       "previous": "7ba6b05e-3dcd-11ea-9c0f-02420a010276"
      },
      {
       "current": "c3244bc6-3dcd-11ea-9c0f-02420a010276",
       "next": "7ba6b05e-3dcd-11ea-9c0f-02420a010276",
       "previous": "7ba6b05e-3dcd-11ea-9c0f-02420a010276"
      },
      {
       "current": "fc4ac38a-3e86-11ea-9d05-02420a010276",
       "next": "fc4ac4d4-3e86-11ea-9d05-02420a010276",
       "previous": "fc4ac22c-3e86-11ea-9d05-02420a010276"
      },
      {
       "current": "e6e1400e-3e87-11ea-b800-02420a010276",
       "next": "e6e1416c-3e87-11ea-b800-02420a010276",
       "previous": "e6e13eb0-3e87-11ea-b800-02420a010276"
      }
     ],
     "next": "6009e3d4-40e3-11ea-a1ce-02420a010276",
     "previous": "6009e12c-40e3-11ea-a1ce-02420a010276"
    },
    "lc_wrapper": {
     "log_history": [
      "/home/10999542xb8011f/15work/.log/20200123/20200123-195108-0336.log",
      "/home/10999542xb8011f/15work/.log/20200123/20200123-195408-0401.log",
      "/home/10999542xb8011f/15work/.log/20200123/20200123-195458-0951.log",
      "/home/10999542xb8011f/15work/.log/20200123/20200123-195520-0896.log",
      "/home/10999542xb8011f/15work/.log/20200123/20200123-195616-0592.log",
      "/home/10999542xb8011f/15work/.log/20200123/20200123-195647-0812.log",
      "/home/10999542xb8011f/15work/.log/20200123/20200123-195712-0021.log",
      "/home/10999542xb8011f/15work/.log/20200123/20200123-195830-0843.log",
      "/home/10999542xb8011f/15work/.log/20200123/20200123-195852-0906.log",
      "/home/10999542xb8011f/15work/.log/20200123/20200123-195952-0582.log",
      "/home/10999542xb8011f/15work/.log/20200123/20200123-200204-0038.log",
      "/home/10999542xb8011f/15work/.log/20200123/20200123-200217-0196.log",
      "/home/10999542xb8011f/15work/.log/20200123/20200123-200259-0606.log",
      "/home/10999542xb8011f/15work/.log/20200123/20200123-200339-0565.log",
      "/home/10999542xb8011f/15work/.log/20200123/20200123-200403-0084.log",
      "/home/10999542xb8011f/15work/.log/20200123/20200123-200410-0885.log",
      "/home/10999542xb8011f/15work/.log/20200124/20200124-093704-0133.log",
      "/home/10999542xb8011f/15work/.log/20200124/20200124-093726-0194.log",
      "/home/10999542xb8011f/15work/.log/20200124/20200124-094310-0453.log",
      "/home/10999542xb8011f/15work/.log/20200124/20200124-094710-0675.log",
      "/home/10999542xb8011f/15work/.log/20200124/20200124-110500-0283.log",
      "/home/10999542xb8011f/15work/.log/20200124/20200124-171233-0704.log",
      "/home/10999542xb8011f/15a/.log/20200124/20200124-180211-0450.log",
      "/home/10999542xb8011f/15a/.log/20200127/20200127-180125-0626.log"
     ]
    }
   },
   "outputs": [],
   "source": [
    "# 演習用入力欄（このまま評価すること）\n",
    "yearsl = [2010,2011,2012,2013,2014,2015,2016,2017,2018,2019]\n",
    "yearsl"
   ]
  },
  {
   "cell_type": "markdown",
   "metadata": {
    "lc_cell_meme": {
     "current": "6009e3d4-40e3-11ea-a1ce-02420a010276",
     "history": [
      {
       "current": "7ba6b05e-3dcd-11ea-9c0f-02420a010276",
       "next": "8ec28c68-3c23-11ea-967e-02420a010532",
       "previous": "21435f20-3dca-11ea-9c0f-02420a010276"
      },
      {
       "current": "7ba6b05e-3dcd-11ea-9c0f-02420a010276",
       "next": "c3244bc6-3dcd-11ea-9c0f-02420a010276",
       "previous": "21435f20-3dca-11ea-9c0f-02420a010276"
      },
      {
       "current": "7ba6b05e-3dcd-11ea-9c0f-02420a010276",
       "next": "c3244bc6-3dcd-11ea-9c0f-02420a010276",
       "previous": "21435f20-3dca-11ea-9c0f-02420a010276"
      },
      {
       "current": "7ba6b05e-3dcd-11ea-9c0f-02420a010276",
       "next": "c3244bc6-3dcd-11ea-9c0f-02420a010276",
       "previous": "21435f20-3dca-11ea-9c0f-02420a010276"
      },
      {
       "current": "7ba6b05e-3dcd-11ea-9c0f-02420a010276",
       "next": "c3244bc6-3dcd-11ea-9c0f-02420a010276",
       "previous": "21435f20-3dca-11ea-9c0f-02420a010276"
      },
      {
       "current": "7ba6b05e-3dcd-11ea-9c0f-02420a010276",
       "next": "c3244bc6-3dcd-11ea-9c0f-02420a010276",
       "previous": "21435f20-3dca-11ea-9c0f-02420a010276"
      },
      {
       "current": "7ba6b05e-3dcd-11ea-9c0f-02420a010276",
       "next": "c3244bc6-3dcd-11ea-9c0f-02420a010276",
       "previous": "21435f20-3dca-11ea-9c0f-02420a010276"
      },
      {
       "current": "7ba6b05e-3dcd-11ea-9c0f-02420a010276",
       "next": "c3244bc6-3dcd-11ea-9c0f-02420a010276",
       "previous": "21435f20-3dca-11ea-9c0f-02420a010276"
      },
      {
       "current": "7ba6b05e-3dcd-11ea-9c0f-02420a010276",
       "next": "c3244bc6-3dcd-11ea-9c0f-02420a010276",
       "previous": "21435f20-3dca-11ea-9c0f-02420a010276"
      },
      {
       "current": "7ba6b05e-3dcd-11ea-9c0f-02420a010276",
       "next": "c3244bc6-3dcd-11ea-9c0f-02420a010276",
       "previous": "21435f20-3dca-11ea-9c0f-02420a010276"
      },
      {
       "current": "7ba6b05e-3dcd-11ea-9c0f-02420a010276",
       "next": "c3244bc6-3dcd-11ea-9c0f-02420a010276",
       "previous": "21435f20-3dca-11ea-9c0f-02420a010276"
      },
      {
       "current": "7ba6b05e-3dcd-11ea-9c0f-02420a010276",
       "next": "c3244bc6-3dcd-11ea-9c0f-02420a010276",
       "previous": "21435f20-3dca-11ea-9c0f-02420a010276"
      },
      {
       "current": "7ba6b05e-3dcd-11ea-9c0f-02420a010276",
       "next": "c3244bc6-3dcd-11ea-9c0f-02420a010276",
       "previous": "21435f20-3dca-11ea-9c0f-02420a010276"
      },
      {
       "current": "7ba6b05e-3dcd-11ea-9c0f-02420a010276",
       "next": "c3244bc6-3dcd-11ea-9c0f-02420a010276",
       "previous": "21435f20-3dca-11ea-9c0f-02420a010276"
      },
      {
       "current": "7ba6b05e-3dcd-11ea-9c0f-02420a010276",
       "next": "c3244bc6-3dcd-11ea-9c0f-02420a010276",
       "previous": "21435f20-3dca-11ea-9c0f-02420a010276"
      },
      {
       "current": "7ba6b05e-3dcd-11ea-9c0f-02420a010276",
       "next": "c3244bc6-3dcd-11ea-9c0f-02420a010276",
       "previous": "21435f20-3dca-11ea-9c0f-02420a010276"
      },
      {
       "current": "7ba6b05e-3dcd-11ea-9c0f-02420a010276",
       "next": "c3244bc6-3dcd-11ea-9c0f-02420a010276",
       "previous": "21435f20-3dca-11ea-9c0f-02420a010276"
      },
      {
       "current": "7ba6b05e-3dcd-11ea-9c0f-02420a010276",
       "next": "c3244bc6-3dcd-11ea-9c0f-02420a010276",
       "previous": "21435f20-3dca-11ea-9c0f-02420a010276"
      },
      {
       "current": "7ba6b05e-3dcd-11ea-9c0f-02420a010276",
       "next": "c3244bc6-3dcd-11ea-9c0f-02420a010276",
       "previous": "21435f20-3dca-11ea-9c0f-02420a010276"
      },
      {
       "current": "7ba6b05e-3dcd-11ea-9c0f-02420a010276",
       "next": "c3244bc6-3dcd-11ea-9c0f-02420a010276",
       "previous": "21435f20-3dca-11ea-9c0f-02420a010276"
      },
      {
       "current": "7ba6b05e-3dcd-11ea-9c0f-02420a010276",
       "next": "c3244bc6-3dcd-11ea-9c0f-02420a010276",
       "previous": "21435f20-3dca-11ea-9c0f-02420a010276"
      },
      {
       "current": "7ba6b05e-3dcd-11ea-9c0f-02420a010276",
       "next": "c3244bc6-3dcd-11ea-9c0f-02420a010276",
       "previous": "21435f20-3dca-11ea-9c0f-02420a010276"
      },
      {
       "current": "7ba6b05e-3dcd-11ea-9c0f-02420a010276",
       "next": "c3244bc6-3dcd-11ea-9c0f-02420a010276",
       "previous": "21435f20-3dca-11ea-9c0f-02420a010276"
      },
      {
       "current": "7ba6b05e-3dcd-11ea-9c0f-02420a010276",
       "next": "c3244bc6-3dcd-11ea-9c0f-02420a010276",
       "previous": "21435f20-3dca-11ea-9c0f-02420a010276"
      },
      {
       "current": "7ba6b05e-3dcd-11ea-9c0f-02420a010276",
       "next": "25d8ec70-3e48-11ea-9c0f-02420a010276",
       "previous": "c3244bc6-3dcd-11ea-9c0f-02420a010276"
      },
      {
       "current": "fc4ac4d4-3e86-11ea-9d05-02420a010276",
       "next": "fc4ac60a-3e86-11ea-9d05-02420a010276",
       "previous": "fc4ac38a-3e86-11ea-9d05-02420a010276"
      },
      {
       "current": "e6e1416c-3e87-11ea-b800-02420a010276",
       "next": "e6e142ac-3e87-11ea-b800-02420a010276",
       "previous": "e6e1400e-3e87-11ea-b800-02420a010276"
      }
     ],
     "next": "6009e51e-40e3-11ea-a1ce-02420a010276",
     "previous": "6009e29e-40e3-11ea-a1ce-02420a010276"
    }
   },
   "source": [
    "### 手順6：\n",
    "- **年別の平均気温のグラフを作成します。**\n",
    "- `matplotlib`の描画方法の宣言とモジュールインポートを行います。\n",
    "- リスト`yearsl`とリスト`temp_years`を使用して折れ線グラフを作成してください。"
   ]
  },
  {
   "cell_type": "code",
   "execution_count": null,
   "metadata": {
    "lc_cell_meme": {
     "current": "6009e51e-40e3-11ea-a1ce-02420a010276",
     "history": [
      {
       "current": "25d8ec70-3e48-11ea-9c0f-02420a010276",
       "next": "c3244bc6-3dcd-11ea-9c0f-02420a010276",
       "previous": "7ba6b05e-3dcd-11ea-9c0f-02420a010276"
      },
      {
       "current": "fc4ac60a-3e86-11ea-9d05-02420a010276",
       "next": "fc4ac754-3e86-11ea-9d05-02420a010276",
       "previous": "fc4ac4d4-3e86-11ea-9d05-02420a010276"
      },
      {
       "current": "e6e142ac-3e87-11ea-b800-02420a010276",
       "next": "e6e144f0-3e87-11ea-b800-02420a010276",
       "previous": "e6e1416c-3e87-11ea-b800-02420a010276"
      },
      {
       "current": "6009e51e-40e3-11ea-a1ce-02420a010276",
       "next": "6009e668-40e3-11ea-a1ce-02420a010276",
       "previous": "6009e3d4-40e3-11ea-a1ce-02420a010276"
      }
     ],
     "next": "6009e7a8-40e3-11ea-a1ce-02420a010276",
     "previous": "6009e3d4-40e3-11ea-a1ce-02420a010276"
    },
    "lc_wrapper": {
     "log_history": [
      "/home/10999542xb8011f/15work/.log/20200124/20200124-171234-0701.log",
      "/home/10999542xb8011f/15work/.log/20200124/20200124-171341-0041.log"
     ]
    }
   },
   "outputs": [],
   "source": [
    "# 演習用入力欄（要修正）\n",
    "???\n",
    "plt.ylim(ymax=20)    \n",
    "plt.ylim(ymin=0) \n",
    "???"
   ]
  },
  {
   "cell_type": "markdown",
   "metadata": {
    "lc_cell_meme": {
     "current": "6009e7a8-40e3-11ea-a1ce-02420a010276",
     "history": [
      {
       "current": "eab0d976-40d8-11ea-9c0f-02420a010276",
       "next": "e6e126be-3e87-11ea-b800-02420a010276",
       "previous": "e6e144f0-3e87-11ea-b800-02420a010276"
      },
      {
       "current": "eab0d976-40d8-11ea-9c0f-02420a010276",
       "next": "505ae414-40da-11ea-9c0f-02420a010276",
       "previous": "e6e144f0-3e87-11ea-b800-02420a010276"
      },
      {
       "current": "6009e7a8-40e3-11ea-a1ce-02420a010276",
       "next": "6009e988-40e3-11ea-a1ce-02420a010276",
       "previous": "6009e668-40e3-11ea-a1ce-02420a010276"
      }
     ],
     "next": "6009e988-40e3-11ea-a1ce-02420a010276",
     "previous": "6009e51e-40e3-11ea-a1ce-02420a010276"
    }
   },
   "source": [
    "## 課題2　月平均気温の一年間の変化"
   ]
  },
  {
   "cell_type": "markdown",
   "metadata": {
    "lc_cell_meme": {
     "current": "6009e988-40e3-11ea-a1ce-02420a010276",
     "history": [
      {
       "current": "505ae414-40da-11ea-9c0f-02420a010276",
       "next": "e6e126be-3e87-11ea-b800-02420a010276",
       "previous": "eab0d976-40d8-11ea-9c0f-02420a010276"
      }
     ],
     "next": "6009eae6-40e3-11ea-a1ce-02420a010276",
     "previous": "6009e7a8-40e3-11ea-a1ce-02420a010276"
    }
   },
   "source": [
    "10年間の月別平均気温の折れ線グラフを作成してください。"
   ]
  },
  {
   "cell_type": "markdown",
   "metadata": {
    "lc_cell_meme": {
     "current": "6009eae6-40e3-11ea-a1ce-02420a010276",
     "history": [
      {
       "current": "7ba6b05e-3dcd-11ea-9c0f-02420a010276",
       "next": "8ec28c68-3c23-11ea-967e-02420a010532",
       "previous": "21435f20-3dca-11ea-9c0f-02420a010276"
      },
      {
       "current": "7ba6b05e-3dcd-11ea-9c0f-02420a010276",
       "next": "c3244bc6-3dcd-11ea-9c0f-02420a010276",
       "previous": "21435f20-3dca-11ea-9c0f-02420a010276"
      },
      {
       "current": "7ba6b05e-3dcd-11ea-9c0f-02420a010276",
       "next": "c3244bc6-3dcd-11ea-9c0f-02420a010276",
       "previous": "21435f20-3dca-11ea-9c0f-02420a010276"
      },
      {
       "current": "7ba6b05e-3dcd-11ea-9c0f-02420a010276",
       "next": "c3244bc6-3dcd-11ea-9c0f-02420a010276",
       "previous": "21435f20-3dca-11ea-9c0f-02420a010276"
      },
      {
       "current": "7ba6b05e-3dcd-11ea-9c0f-02420a010276",
       "next": "c3244bc6-3dcd-11ea-9c0f-02420a010276",
       "previous": "21435f20-3dca-11ea-9c0f-02420a010276"
      },
      {
       "current": "7ba6b05e-3dcd-11ea-9c0f-02420a010276",
       "next": "c3244bc6-3dcd-11ea-9c0f-02420a010276",
       "previous": "21435f20-3dca-11ea-9c0f-02420a010276"
      },
      {
       "current": "7ba6b05e-3dcd-11ea-9c0f-02420a010276",
       "next": "c3244bc6-3dcd-11ea-9c0f-02420a010276",
       "previous": "21435f20-3dca-11ea-9c0f-02420a010276"
      },
      {
       "current": "7ba6b05e-3dcd-11ea-9c0f-02420a010276",
       "next": "c3244bc6-3dcd-11ea-9c0f-02420a010276",
       "previous": "21435f20-3dca-11ea-9c0f-02420a010276"
      },
      {
       "current": "7ba6b05e-3dcd-11ea-9c0f-02420a010276",
       "next": "c3244bc6-3dcd-11ea-9c0f-02420a010276",
       "previous": "21435f20-3dca-11ea-9c0f-02420a010276"
      },
      {
       "current": "7ba6b05e-3dcd-11ea-9c0f-02420a010276",
       "next": "c3244bc6-3dcd-11ea-9c0f-02420a010276",
       "previous": "21435f20-3dca-11ea-9c0f-02420a010276"
      },
      {
       "current": "7ba6b05e-3dcd-11ea-9c0f-02420a010276",
       "next": "c3244bc6-3dcd-11ea-9c0f-02420a010276",
       "previous": "21435f20-3dca-11ea-9c0f-02420a010276"
      },
      {
       "current": "7ba6b05e-3dcd-11ea-9c0f-02420a010276",
       "next": "c3244bc6-3dcd-11ea-9c0f-02420a010276",
       "previous": "21435f20-3dca-11ea-9c0f-02420a010276"
      },
      {
       "current": "7ba6b05e-3dcd-11ea-9c0f-02420a010276",
       "next": "c3244bc6-3dcd-11ea-9c0f-02420a010276",
       "previous": "21435f20-3dca-11ea-9c0f-02420a010276"
      },
      {
       "current": "7ba6b05e-3dcd-11ea-9c0f-02420a010276",
       "next": "c3244bc6-3dcd-11ea-9c0f-02420a010276",
       "previous": "21435f20-3dca-11ea-9c0f-02420a010276"
      },
      {
       "current": "7ba6b05e-3dcd-11ea-9c0f-02420a010276",
       "next": "c3244bc6-3dcd-11ea-9c0f-02420a010276",
       "previous": "21435f20-3dca-11ea-9c0f-02420a010276"
      },
      {
       "current": "7ba6b05e-3dcd-11ea-9c0f-02420a010276",
       "next": "c3244bc6-3dcd-11ea-9c0f-02420a010276",
       "previous": "21435f20-3dca-11ea-9c0f-02420a010276"
      },
      {
       "current": "7ba6b05e-3dcd-11ea-9c0f-02420a010276",
       "next": "c3244bc6-3dcd-11ea-9c0f-02420a010276",
       "previous": "21435f20-3dca-11ea-9c0f-02420a010276"
      },
      {
       "current": "7ba6b05e-3dcd-11ea-9c0f-02420a010276",
       "next": "c3244bc6-3dcd-11ea-9c0f-02420a010276",
       "previous": "21435f20-3dca-11ea-9c0f-02420a010276"
      },
      {
       "current": "7ba6b05e-3dcd-11ea-9c0f-02420a010276",
       "next": "c3244bc6-3dcd-11ea-9c0f-02420a010276",
       "previous": "21435f20-3dca-11ea-9c0f-02420a010276"
      },
      {
       "current": "7ba6b05e-3dcd-11ea-9c0f-02420a010276",
       "next": "c3244bc6-3dcd-11ea-9c0f-02420a010276",
       "previous": "21435f20-3dca-11ea-9c0f-02420a010276"
      },
      {
       "current": "7ba6b05e-3dcd-11ea-9c0f-02420a010276",
       "next": "c3244bc6-3dcd-11ea-9c0f-02420a010276",
       "previous": "21435f20-3dca-11ea-9c0f-02420a010276"
      },
      {
       "current": "7ba6b05e-3dcd-11ea-9c0f-02420a010276",
       "next": "c3244bc6-3dcd-11ea-9c0f-02420a010276",
       "previous": "21435f20-3dca-11ea-9c0f-02420a010276"
      },
      {
       "current": "7ba6b05e-3dcd-11ea-9c0f-02420a010276",
       "next": "c3244bc6-3dcd-11ea-9c0f-02420a010276",
       "previous": "21435f20-3dca-11ea-9c0f-02420a010276"
      },
      {
       "current": "7ba6b05e-3dcd-11ea-9c0f-02420a010276",
       "next": "c3244bc6-3dcd-11ea-9c0f-02420a010276",
       "previous": "21435f20-3dca-11ea-9c0f-02420a010276"
      },
      {
       "current": "7ba6b05e-3dcd-11ea-9c0f-02420a010276",
       "next": "c3244bc6-3dcd-11ea-9c0f-02420a010276",
       "previous": "21435f20-3dca-11ea-9c0f-02420a010276"
      },
      {
       "current": "7ba6b05e-3dcd-11ea-9c0f-02420a010276",
       "next": "25d8e72a-3e48-11ea-9c0f-02420a010276",
       "previous": "21435f20-3dca-11ea-9c0f-02420a010276"
      },
      {
       "current": "7ba6b05e-3dcd-11ea-9c0f-02420a010276",
       "next": "25d8e72a-3e48-11ea-9c0f-02420a010276",
       "previous": "3b82ae96-3e64-11ea-9c0f-02420a010276"
      },
      {
       "current": "7ba6b05e-3dcd-11ea-9c0f-02420a010276",
       "next": "25d8e72a-3e48-11ea-9c0f-02420a010276",
       "previous": "25d8eb80-3e48-11ea-9c0f-02420a010276"
      },
      {
       "current": "fc4aaad0-3e86-11ea-9d05-02420a010276",
       "next": "fc4aac60-3e86-11ea-9d05-02420a010276",
       "previous": "fc4aa95e-3e86-11ea-9d05-02420a010276"
      },
      {
       "current": "e6e126be-3e87-11ea-b800-02420a010276",
       "next": "e6e127ea-3e87-11ea-b800-02420a010276",
       "previous": "e6e12538-3e87-11ea-b800-02420a010276"
      },
      {
       "current": "e6e126be-3e87-11ea-b800-02420a010276",
       "next": "e6e127ea-3e87-11ea-b800-02420a010276",
       "previous": "e6e144f0-3e87-11ea-b800-02420a010276"
      },
      {
       "current": "e6e126be-3e87-11ea-b800-02420a010276",
       "next": "e6e127ea-3e87-11ea-b800-02420a010276",
       "previous": "eab0d976-40d8-11ea-9c0f-02420a010276"
      },
      {
       "current": "e6e126be-3e87-11ea-b800-02420a010276",
       "next": "e6e127ea-3e87-11ea-b800-02420a010276",
       "previous": "505ae414-40da-11ea-9c0f-02420a010276"
      }
     ],
     "next": "6009ebf4-40e3-11ea-a1ce-02420a010276",
     "previous": "6009e988-40e3-11ea-a1ce-02420a010276"
    }
   },
   "source": [
    "### 手順1：\n",
    "- 10年間の1月の気温の10データをリスト`jan_list`に代入してください。また`jan_list`を評価して値を確認してください。ここではforの繰り返しを使用してリストを作成します。"
   ]
  },
  {
   "cell_type": "code",
   "execution_count": null,
   "metadata": {
    "lc_cell_meme": {
     "current": "6009ebf4-40e3-11ea-a1ce-02420a010276",
     "history": [
      {
       "current": "25d8e72a-3e48-11ea-9c0f-02420a010276",
       "next": "25d8ea68-3e48-11ea-9c0f-02420a010276",
       "previous": "7ba6b05e-3dcd-11ea-9c0f-02420a010276"
      },
      {
       "current": "fc4aac60-3e86-11ea-9d05-02420a010276",
       "next": "fc4aadfa-3e86-11ea-9d05-02420a010276",
       "previous": "fc4aaad0-3e86-11ea-9d05-02420a010276"
      },
      {
       "current": "e6e127ea-3e87-11ea-b800-02420a010276",
       "next": "e6e129fc-3e87-11ea-b800-02420a010276",
       "previous": "e6e126be-3e87-11ea-b800-02420a010276"
      },
      {
       "current": "6009ebf4-40e3-11ea-a1ce-02420a010276",
       "next": "6009ed48-40e3-11ea-a1ce-02420a010276",
       "previous": "6009eae6-40e3-11ea-a1ce-02420a010276"
      }
     ],
     "next": "6009ee88-40e3-11ea-a1ce-02420a010276",
     "previous": "6009eae6-40e3-11ea-a1ce-02420a010276"
    }
   },
   "outputs": [],
   "source": [
    "# 演習用入力欄\n"
   ]
  },
  {
   "cell_type": "markdown",
   "metadata": {
    "lc_cell_meme": {
     "current": "6009ee88-40e3-11ea-a1ce-02420a010276",
     "history": [
      {
       "current": "7ba6b05e-3dcd-11ea-9c0f-02420a010276",
       "next": "8ec28c68-3c23-11ea-967e-02420a010532",
       "previous": "21435f20-3dca-11ea-9c0f-02420a010276"
      },
      {
       "current": "7ba6b05e-3dcd-11ea-9c0f-02420a010276",
       "next": "c3244bc6-3dcd-11ea-9c0f-02420a010276",
       "previous": "21435f20-3dca-11ea-9c0f-02420a010276"
      },
      {
       "current": "7ba6b05e-3dcd-11ea-9c0f-02420a010276",
       "next": "c3244bc6-3dcd-11ea-9c0f-02420a010276",
       "previous": "21435f20-3dca-11ea-9c0f-02420a010276"
      },
      {
       "current": "7ba6b05e-3dcd-11ea-9c0f-02420a010276",
       "next": "c3244bc6-3dcd-11ea-9c0f-02420a010276",
       "previous": "21435f20-3dca-11ea-9c0f-02420a010276"
      },
      {
       "current": "7ba6b05e-3dcd-11ea-9c0f-02420a010276",
       "next": "c3244bc6-3dcd-11ea-9c0f-02420a010276",
       "previous": "21435f20-3dca-11ea-9c0f-02420a010276"
      },
      {
       "current": "7ba6b05e-3dcd-11ea-9c0f-02420a010276",
       "next": "c3244bc6-3dcd-11ea-9c0f-02420a010276",
       "previous": "21435f20-3dca-11ea-9c0f-02420a010276"
      },
      {
       "current": "7ba6b05e-3dcd-11ea-9c0f-02420a010276",
       "next": "c3244bc6-3dcd-11ea-9c0f-02420a010276",
       "previous": "21435f20-3dca-11ea-9c0f-02420a010276"
      },
      {
       "current": "7ba6b05e-3dcd-11ea-9c0f-02420a010276",
       "next": "c3244bc6-3dcd-11ea-9c0f-02420a010276",
       "previous": "21435f20-3dca-11ea-9c0f-02420a010276"
      },
      {
       "current": "7ba6b05e-3dcd-11ea-9c0f-02420a010276",
       "next": "c3244bc6-3dcd-11ea-9c0f-02420a010276",
       "previous": "21435f20-3dca-11ea-9c0f-02420a010276"
      },
      {
       "current": "7ba6b05e-3dcd-11ea-9c0f-02420a010276",
       "next": "c3244bc6-3dcd-11ea-9c0f-02420a010276",
       "previous": "21435f20-3dca-11ea-9c0f-02420a010276"
      },
      {
       "current": "7ba6b05e-3dcd-11ea-9c0f-02420a010276",
       "next": "c3244bc6-3dcd-11ea-9c0f-02420a010276",
       "previous": "21435f20-3dca-11ea-9c0f-02420a010276"
      },
      {
       "current": "7ba6b05e-3dcd-11ea-9c0f-02420a010276",
       "next": "c3244bc6-3dcd-11ea-9c0f-02420a010276",
       "previous": "21435f20-3dca-11ea-9c0f-02420a010276"
      },
      {
       "current": "7ba6b05e-3dcd-11ea-9c0f-02420a010276",
       "next": "c3244bc6-3dcd-11ea-9c0f-02420a010276",
       "previous": "21435f20-3dca-11ea-9c0f-02420a010276"
      },
      {
       "current": "7ba6b05e-3dcd-11ea-9c0f-02420a010276",
       "next": "c3244bc6-3dcd-11ea-9c0f-02420a010276",
       "previous": "21435f20-3dca-11ea-9c0f-02420a010276"
      },
      {
       "current": "7ba6b05e-3dcd-11ea-9c0f-02420a010276",
       "next": "c3244bc6-3dcd-11ea-9c0f-02420a010276",
       "previous": "21435f20-3dca-11ea-9c0f-02420a010276"
      },
      {
       "current": "7ba6b05e-3dcd-11ea-9c0f-02420a010276",
       "next": "c3244bc6-3dcd-11ea-9c0f-02420a010276",
       "previous": "21435f20-3dca-11ea-9c0f-02420a010276"
      },
      {
       "current": "7ba6b05e-3dcd-11ea-9c0f-02420a010276",
       "next": "c3244bc6-3dcd-11ea-9c0f-02420a010276",
       "previous": "21435f20-3dca-11ea-9c0f-02420a010276"
      },
      {
       "current": "7ba6b05e-3dcd-11ea-9c0f-02420a010276",
       "next": "c3244bc6-3dcd-11ea-9c0f-02420a010276",
       "previous": "21435f20-3dca-11ea-9c0f-02420a010276"
      },
      {
       "current": "7ba6b05e-3dcd-11ea-9c0f-02420a010276",
       "next": "c3244bc6-3dcd-11ea-9c0f-02420a010276",
       "previous": "21435f20-3dca-11ea-9c0f-02420a010276"
      },
      {
       "current": "7ba6b05e-3dcd-11ea-9c0f-02420a010276",
       "next": "c3244bc6-3dcd-11ea-9c0f-02420a010276",
       "previous": "21435f20-3dca-11ea-9c0f-02420a010276"
      },
      {
       "current": "7ba6b05e-3dcd-11ea-9c0f-02420a010276",
       "next": "c3244bc6-3dcd-11ea-9c0f-02420a010276",
       "previous": "21435f20-3dca-11ea-9c0f-02420a010276"
      },
      {
       "current": "7ba6b05e-3dcd-11ea-9c0f-02420a010276",
       "next": "c3244bc6-3dcd-11ea-9c0f-02420a010276",
       "previous": "21435f20-3dca-11ea-9c0f-02420a010276"
      },
      {
       "current": "7ba6b05e-3dcd-11ea-9c0f-02420a010276",
       "next": "c3244bc6-3dcd-11ea-9c0f-02420a010276",
       "previous": "21435f20-3dca-11ea-9c0f-02420a010276"
      },
      {
       "current": "7ba6b05e-3dcd-11ea-9c0f-02420a010276",
       "next": "c3244bc6-3dcd-11ea-9c0f-02420a010276",
       "previous": "21435f20-3dca-11ea-9c0f-02420a010276"
      },
      {
       "current": "7ba6b05e-3dcd-11ea-9c0f-02420a010276",
       "next": "c3244bc6-3dcd-11ea-9c0f-02420a010276",
       "previous": "21435f20-3dca-11ea-9c0f-02420a010276"
      },
      {
       "current": "7ba6b05e-3dcd-11ea-9c0f-02420a010276",
       "next": "25d8eb80-3e48-11ea-9c0f-02420a010276",
       "previous": "25d8ea68-3e48-11ea-9c0f-02420a010276"
      },
      {
       "current": "7ba6b05e-3dcd-11ea-9c0f-02420a010276",
       "next": "25d8eb80-3e48-11ea-9c0f-02420a010276",
       "previous": "c3244bc6-3dcd-11ea-9c0f-02420a010276"
      },
      {
       "current": "7ba6b05e-3dcd-11ea-9c0f-02420a010276",
       "next": "06d223a4-3e67-11ea-9c0f-02420a010276",
       "previous": "25d8eb80-3e48-11ea-9c0f-02420a010276"
      },
      {
       "current": "7ba6b05e-3dcd-11ea-9c0f-02420a010276",
       "next": "06d223a4-3e67-11ea-9c0f-02420a010276",
       "previous": "25d8ea68-3e48-11ea-9c0f-02420a010276"
      },
      {
       "current": "7ba6b05e-3dcd-11ea-9c0f-02420a010276",
       "next": "25d8e72a-3e48-11ea-9c0f-02420a010276",
       "previous": "25d8ea68-3e48-11ea-9c0f-02420a010276"
      },
      {
       "current": "fc4aaf3a-3e86-11ea-9d05-02420a010276",
       "next": "fc4ab07a-3e86-11ea-9d05-02420a010276",
       "previous": "fc4aadfa-3e86-11ea-9d05-02420a010276"
      },
      {
       "current": "e6e12c04-3e87-11ea-b800-02420a010276",
       "next": "e6e12d1c-3e87-11ea-b800-02420a010276",
       "previous": "e6e129fc-3e87-11ea-b800-02420a010276"
      },
      {
       "current": "6009ee88-40e3-11ea-a1ce-02420a010276",
       "next": "6009efb4-40e3-11ea-a1ce-02420a010276",
       "previous": "6009ed48-40e3-11ea-a1ce-02420a010276"
      }
     ],
     "next": "6009efb4-40e3-11ea-a1ce-02420a010276",
     "previous": "6009ebf4-40e3-11ea-a1ce-02420a010276"
    }
   },
   "source": [
    "### 手順2：\n",
    "- リスト`jan_list`を引数として関数`list_ave`を実行して、戻り値（1月の平均気温）を確認してください。"
   ]
  },
  {
   "cell_type": "code",
   "execution_count": null,
   "metadata": {
    "lc_cell_meme": {
     "current": "6009efb4-40e3-11ea-a1ce-02420a010276",
     "history": [
      {
       "current": "25d8e72a-3e48-11ea-9c0f-02420a010276",
       "next": "25d8ea68-3e48-11ea-9c0f-02420a010276",
       "previous": "7ba6b05e-3dcd-11ea-9c0f-02420a010276"
      },
      {
       "current": "25d8e72a-3e48-11ea-9c0f-02420a010276",
       "next": "06d223a4-3e67-11ea-9c0f-02420a010276",
       "previous": "7ba6b05e-3dcd-11ea-9c0f-02420a010276"
      },
      {
       "current": "fc4ab07a-3e86-11ea-9d05-02420a010276",
       "next": "fc4ab3c2-3e86-11ea-9d05-02420a010276",
       "previous": "fc4aaf3a-3e86-11ea-9d05-02420a010276"
      },
      {
       "current": "e6e12d1c-3e87-11ea-b800-02420a010276",
       "next": "e6e12e66-3e87-11ea-b800-02420a010276",
       "previous": "e6e12c04-3e87-11ea-b800-02420a010276"
      },
      {
       "current": "6009efb4-40e3-11ea-a1ce-02420a010276",
       "next": "6009f0f4-40e3-11ea-a1ce-02420a010276",
       "previous": "6009ee88-40e3-11ea-a1ce-02420a010276"
      }
     ],
     "next": "6009f248-40e3-11ea-a1ce-02420a010276",
     "previous": "6009ee88-40e3-11ea-a1ce-02420a010276"
    }
   },
   "outputs": [],
   "source": [
    "# 演習用入力欄\n"
   ]
  },
  {
   "cell_type": "markdown",
   "metadata": {
    "lc_cell_meme": {
     "current": "6009f248-40e3-11ea-a1ce-02420a010276",
     "history": [
      {
       "current": "7ba6b05e-3dcd-11ea-9c0f-02420a010276",
       "next": "8ec28c68-3c23-11ea-967e-02420a010532",
       "previous": "21435f20-3dca-11ea-9c0f-02420a010276"
      },
      {
       "current": "7ba6b05e-3dcd-11ea-9c0f-02420a010276",
       "next": "c3244bc6-3dcd-11ea-9c0f-02420a010276",
       "previous": "21435f20-3dca-11ea-9c0f-02420a010276"
      },
      {
       "current": "7ba6b05e-3dcd-11ea-9c0f-02420a010276",
       "next": "c3244bc6-3dcd-11ea-9c0f-02420a010276",
       "previous": "21435f20-3dca-11ea-9c0f-02420a010276"
      },
      {
       "current": "7ba6b05e-3dcd-11ea-9c0f-02420a010276",
       "next": "c3244bc6-3dcd-11ea-9c0f-02420a010276",
       "previous": "21435f20-3dca-11ea-9c0f-02420a010276"
      },
      {
       "current": "7ba6b05e-3dcd-11ea-9c0f-02420a010276",
       "next": "c3244bc6-3dcd-11ea-9c0f-02420a010276",
       "previous": "21435f20-3dca-11ea-9c0f-02420a010276"
      },
      {
       "current": "7ba6b05e-3dcd-11ea-9c0f-02420a010276",
       "next": "c3244bc6-3dcd-11ea-9c0f-02420a010276",
       "previous": "21435f20-3dca-11ea-9c0f-02420a010276"
      },
      {
       "current": "7ba6b05e-3dcd-11ea-9c0f-02420a010276",
       "next": "c3244bc6-3dcd-11ea-9c0f-02420a010276",
       "previous": "21435f20-3dca-11ea-9c0f-02420a010276"
      },
      {
       "current": "7ba6b05e-3dcd-11ea-9c0f-02420a010276",
       "next": "c3244bc6-3dcd-11ea-9c0f-02420a010276",
       "previous": "21435f20-3dca-11ea-9c0f-02420a010276"
      },
      {
       "current": "7ba6b05e-3dcd-11ea-9c0f-02420a010276",
       "next": "c3244bc6-3dcd-11ea-9c0f-02420a010276",
       "previous": "21435f20-3dca-11ea-9c0f-02420a010276"
      },
      {
       "current": "7ba6b05e-3dcd-11ea-9c0f-02420a010276",
       "next": "c3244bc6-3dcd-11ea-9c0f-02420a010276",
       "previous": "21435f20-3dca-11ea-9c0f-02420a010276"
      },
      {
       "current": "7ba6b05e-3dcd-11ea-9c0f-02420a010276",
       "next": "c3244bc6-3dcd-11ea-9c0f-02420a010276",
       "previous": "21435f20-3dca-11ea-9c0f-02420a010276"
      },
      {
       "current": "7ba6b05e-3dcd-11ea-9c0f-02420a010276",
       "next": "c3244bc6-3dcd-11ea-9c0f-02420a010276",
       "previous": "21435f20-3dca-11ea-9c0f-02420a010276"
      },
      {
       "current": "7ba6b05e-3dcd-11ea-9c0f-02420a010276",
       "next": "c3244bc6-3dcd-11ea-9c0f-02420a010276",
       "previous": "21435f20-3dca-11ea-9c0f-02420a010276"
      },
      {
       "current": "7ba6b05e-3dcd-11ea-9c0f-02420a010276",
       "next": "c3244bc6-3dcd-11ea-9c0f-02420a010276",
       "previous": "21435f20-3dca-11ea-9c0f-02420a010276"
      },
      {
       "current": "7ba6b05e-3dcd-11ea-9c0f-02420a010276",
       "next": "c3244bc6-3dcd-11ea-9c0f-02420a010276",
       "previous": "21435f20-3dca-11ea-9c0f-02420a010276"
      },
      {
       "current": "7ba6b05e-3dcd-11ea-9c0f-02420a010276",
       "next": "c3244bc6-3dcd-11ea-9c0f-02420a010276",
       "previous": "21435f20-3dca-11ea-9c0f-02420a010276"
      },
      {
       "current": "7ba6b05e-3dcd-11ea-9c0f-02420a010276",
       "next": "c3244bc6-3dcd-11ea-9c0f-02420a010276",
       "previous": "21435f20-3dca-11ea-9c0f-02420a010276"
      },
      {
       "current": "7ba6b05e-3dcd-11ea-9c0f-02420a010276",
       "next": "c3244bc6-3dcd-11ea-9c0f-02420a010276",
       "previous": "21435f20-3dca-11ea-9c0f-02420a010276"
      },
      {
       "current": "7ba6b05e-3dcd-11ea-9c0f-02420a010276",
       "next": "c3244bc6-3dcd-11ea-9c0f-02420a010276",
       "previous": "21435f20-3dca-11ea-9c0f-02420a010276"
      },
      {
       "current": "7ba6b05e-3dcd-11ea-9c0f-02420a010276",
       "next": "c3244bc6-3dcd-11ea-9c0f-02420a010276",
       "previous": "21435f20-3dca-11ea-9c0f-02420a010276"
      },
      {
       "current": "7ba6b05e-3dcd-11ea-9c0f-02420a010276",
       "next": "c3244bc6-3dcd-11ea-9c0f-02420a010276",
       "previous": "21435f20-3dca-11ea-9c0f-02420a010276"
      },
      {
       "current": "7ba6b05e-3dcd-11ea-9c0f-02420a010276",
       "next": "c3244bc6-3dcd-11ea-9c0f-02420a010276",
       "previous": "21435f20-3dca-11ea-9c0f-02420a010276"
      },
      {
       "current": "7ba6b05e-3dcd-11ea-9c0f-02420a010276",
       "next": "c3244bc6-3dcd-11ea-9c0f-02420a010276",
       "previous": "21435f20-3dca-11ea-9c0f-02420a010276"
      },
      {
       "current": "7ba6b05e-3dcd-11ea-9c0f-02420a010276",
       "next": "c3244bc6-3dcd-11ea-9c0f-02420a010276",
       "previous": "21435f20-3dca-11ea-9c0f-02420a010276"
      },
      {
       "current": "7ba6b05e-3dcd-11ea-9c0f-02420a010276",
       "next": "c3244bc6-3dcd-11ea-9c0f-02420a010276",
       "previous": "21435f20-3dca-11ea-9c0f-02420a010276"
      },
      {
       "current": "7ba6b05e-3dcd-11ea-9c0f-02420a010276",
       "next": "25d8eb80-3e48-11ea-9c0f-02420a010276",
       "previous": "25d8ea68-3e48-11ea-9c0f-02420a010276"
      },
      {
       "current": "7ba6b05e-3dcd-11ea-9c0f-02420a010276",
       "next": "25d8eb80-3e48-11ea-9c0f-02420a010276",
       "previous": "c3244bc6-3dcd-11ea-9c0f-02420a010276"
      },
      {
       "current": "7ba6b05e-3dcd-11ea-9c0f-02420a010276",
       "next": "06d223a4-3e67-11ea-9c0f-02420a010276",
       "previous": "25d8eb80-3e48-11ea-9c0f-02420a010276"
      },
      {
       "current": "7ba6b05e-3dcd-11ea-9c0f-02420a010276",
       "next": "06d223a4-3e67-11ea-9c0f-02420a010276",
       "previous": "25d8ea68-3e48-11ea-9c0f-02420a010276"
      },
      {
       "current": "7ba6b05e-3dcd-11ea-9c0f-02420a010276",
       "next": "06d223a4-3e67-11ea-9c0f-02420a010276",
       "previous": "06d223a4-3e67-11ea-9c0f-02420a010276"
      },
      {
       "current": "fc4ab4ee-3e86-11ea-9d05-02420a010276",
       "next": "fc4ab61a-3e86-11ea-9d05-02420a010276",
       "previous": "fc4ab3c2-3e86-11ea-9d05-02420a010276"
      },
      {
       "current": "fc4ab4ee-3e86-11ea-9d05-02420a010276",
       "next": "fc4ab07a-3e86-11ea-9d05-02420a010276",
       "previous": "fc4ab3c2-3e86-11ea-9d05-02420a010276"
      },
      {
       "current": "e6e12fb0-3e87-11ea-b800-02420a010276",
       "next": "e6e13104-3e87-11ea-b800-02420a010276",
       "previous": "e6e12e66-3e87-11ea-b800-02420a010276"
      },
      {
       "current": "6009f248-40e3-11ea-a1ce-02420a010276",
       "next": "6009f374-40e3-11ea-a1ce-02420a010276",
       "previous": "6009f0f4-40e3-11ea-a1ce-02420a010276"
      }
     ],
     "next": "6009f374-40e3-11ea-a1ce-02420a010276",
     "previous": "6009efb4-40e3-11ea-a1ce-02420a010276"
    }
   },
   "source": [
    "### 手順3：\n",
    "- これまでの手順を参考に、1月から12月までの10年間の平均気温のリスト`temp_month`を作成してください。また最後に`temp_month`\n",
    "を評価して、値を確認してください。\n",
    "- 各月の平均気温は、10年間の10データをリスト`month_list`に保存後、関数`list_ave`を利用して求めます。\n",
    "- リスト`month_list`は各月の平均気温を求める前に初期化する必要があります。（`month_list = []`）"
   ]
  },
  {
   "cell_type": "code",
   "execution_count": null,
   "metadata": {
    "lc_cell_meme": {
     "current": "6009f374-40e3-11ea-a1ce-02420a010276",
     "history": [
      {
       "current": "25d8e72a-3e48-11ea-9c0f-02420a010276",
       "next": "25d8ea68-3e48-11ea-9c0f-02420a010276",
       "previous": "7ba6b05e-3dcd-11ea-9c0f-02420a010276"
      },
      {
       "current": "25d8e72a-3e48-11ea-9c0f-02420a010276",
       "next": "06d223a4-3e67-11ea-9c0f-02420a010276",
       "previous": "7ba6b05e-3dcd-11ea-9c0f-02420a010276"
      },
      {
       "current": "fc4ab07a-3e86-11ea-9d05-02420a010276",
       "next": "fc4ab3c2-3e86-11ea-9d05-02420a010276",
       "previous": "fc4aaf3a-3e86-11ea-9d05-02420a010276"
      },
      {
       "current": "fc4ab07a-3e86-11ea-9d05-02420a010276",
       "next": "fc4ab61a-3e86-11ea-9d05-02420a010276",
       "previous": "fc4ab4ee-3e86-11ea-9d05-02420a010276"
      },
      {
       "current": "e6e13104-3e87-11ea-b800-02420a010276",
       "next": "e6e13262-3e87-11ea-b800-02420a010276",
       "previous": "e6e12fb0-3e87-11ea-b800-02420a010276"
      },
      {
       "current": "6009f374-40e3-11ea-a1ce-02420a010276",
       "next": "6009f4c8-40e3-11ea-a1ce-02420a010276",
       "previous": "6009f248-40e3-11ea-a1ce-02420a010276"
      }
     ],
     "next": "6009f608-40e3-11ea-a1ce-02420a010276",
     "previous": "6009f248-40e3-11ea-a1ce-02420a010276"
    }
   },
   "outputs": [],
   "source": [
    "# 演習用入力欄\n"
   ]
  },
  {
   "cell_type": "markdown",
   "metadata": {
    "lc_cell_meme": {
     "current": "6009f608-40e3-11ea-a1ce-02420a010276",
     "history": [
      {
       "current": "7ba6b05e-3dcd-11ea-9c0f-02420a010276",
       "next": "8ec28c68-3c23-11ea-967e-02420a010532",
       "previous": "21435f20-3dca-11ea-9c0f-02420a010276"
      },
      {
       "current": "7ba6b05e-3dcd-11ea-9c0f-02420a010276",
       "next": "c3244bc6-3dcd-11ea-9c0f-02420a010276",
       "previous": "21435f20-3dca-11ea-9c0f-02420a010276"
      },
      {
       "current": "7ba6b05e-3dcd-11ea-9c0f-02420a010276",
       "next": "c3244bc6-3dcd-11ea-9c0f-02420a010276",
       "previous": "21435f20-3dca-11ea-9c0f-02420a010276"
      },
      {
       "current": "7ba6b05e-3dcd-11ea-9c0f-02420a010276",
       "next": "c3244bc6-3dcd-11ea-9c0f-02420a010276",
       "previous": "21435f20-3dca-11ea-9c0f-02420a010276"
      },
      {
       "current": "7ba6b05e-3dcd-11ea-9c0f-02420a010276",
       "next": "c3244bc6-3dcd-11ea-9c0f-02420a010276",
       "previous": "21435f20-3dca-11ea-9c0f-02420a010276"
      },
      {
       "current": "7ba6b05e-3dcd-11ea-9c0f-02420a010276",
       "next": "c3244bc6-3dcd-11ea-9c0f-02420a010276",
       "previous": "21435f20-3dca-11ea-9c0f-02420a010276"
      },
      {
       "current": "7ba6b05e-3dcd-11ea-9c0f-02420a010276",
       "next": "c3244bc6-3dcd-11ea-9c0f-02420a010276",
       "previous": "21435f20-3dca-11ea-9c0f-02420a010276"
      },
      {
       "current": "7ba6b05e-3dcd-11ea-9c0f-02420a010276",
       "next": "c3244bc6-3dcd-11ea-9c0f-02420a010276",
       "previous": "21435f20-3dca-11ea-9c0f-02420a010276"
      },
      {
       "current": "7ba6b05e-3dcd-11ea-9c0f-02420a010276",
       "next": "c3244bc6-3dcd-11ea-9c0f-02420a010276",
       "previous": "21435f20-3dca-11ea-9c0f-02420a010276"
      },
      {
       "current": "7ba6b05e-3dcd-11ea-9c0f-02420a010276",
       "next": "c3244bc6-3dcd-11ea-9c0f-02420a010276",
       "previous": "21435f20-3dca-11ea-9c0f-02420a010276"
      },
      {
       "current": "7ba6b05e-3dcd-11ea-9c0f-02420a010276",
       "next": "c3244bc6-3dcd-11ea-9c0f-02420a010276",
       "previous": "21435f20-3dca-11ea-9c0f-02420a010276"
      },
      {
       "current": "7ba6b05e-3dcd-11ea-9c0f-02420a010276",
       "next": "c3244bc6-3dcd-11ea-9c0f-02420a010276",
       "previous": "21435f20-3dca-11ea-9c0f-02420a010276"
      },
      {
       "current": "7ba6b05e-3dcd-11ea-9c0f-02420a010276",
       "next": "c3244bc6-3dcd-11ea-9c0f-02420a010276",
       "previous": "21435f20-3dca-11ea-9c0f-02420a010276"
      },
      {
       "current": "7ba6b05e-3dcd-11ea-9c0f-02420a010276",
       "next": "c3244bc6-3dcd-11ea-9c0f-02420a010276",
       "previous": "21435f20-3dca-11ea-9c0f-02420a010276"
      },
      {
       "current": "7ba6b05e-3dcd-11ea-9c0f-02420a010276",
       "next": "c3244bc6-3dcd-11ea-9c0f-02420a010276",
       "previous": "21435f20-3dca-11ea-9c0f-02420a010276"
      },
      {
       "current": "7ba6b05e-3dcd-11ea-9c0f-02420a010276",
       "next": "c3244bc6-3dcd-11ea-9c0f-02420a010276",
       "previous": "21435f20-3dca-11ea-9c0f-02420a010276"
      },
      {
       "current": "7ba6b05e-3dcd-11ea-9c0f-02420a010276",
       "next": "c3244bc6-3dcd-11ea-9c0f-02420a010276",
       "previous": "21435f20-3dca-11ea-9c0f-02420a010276"
      },
      {
       "current": "7ba6b05e-3dcd-11ea-9c0f-02420a010276",
       "next": "c3244bc6-3dcd-11ea-9c0f-02420a010276",
       "previous": "21435f20-3dca-11ea-9c0f-02420a010276"
      },
      {
       "current": "7ba6b05e-3dcd-11ea-9c0f-02420a010276",
       "next": "c3244bc6-3dcd-11ea-9c0f-02420a010276",
       "previous": "21435f20-3dca-11ea-9c0f-02420a010276"
      },
      {
       "current": "7ba6b05e-3dcd-11ea-9c0f-02420a010276",
       "next": "c3244bc6-3dcd-11ea-9c0f-02420a010276",
       "previous": "21435f20-3dca-11ea-9c0f-02420a010276"
      },
      {
       "current": "7ba6b05e-3dcd-11ea-9c0f-02420a010276",
       "next": "c3244bc6-3dcd-11ea-9c0f-02420a010276",
       "previous": "21435f20-3dca-11ea-9c0f-02420a010276"
      },
      {
       "current": "7ba6b05e-3dcd-11ea-9c0f-02420a010276",
       "next": "c3244bc6-3dcd-11ea-9c0f-02420a010276",
       "previous": "21435f20-3dca-11ea-9c0f-02420a010276"
      },
      {
       "current": "7ba6b05e-3dcd-11ea-9c0f-02420a010276",
       "next": "c3244bc6-3dcd-11ea-9c0f-02420a010276",
       "previous": "21435f20-3dca-11ea-9c0f-02420a010276"
      },
      {
       "current": "7ba6b05e-3dcd-11ea-9c0f-02420a010276",
       "next": "c3244bc6-3dcd-11ea-9c0f-02420a010276",
       "previous": "21435f20-3dca-11ea-9c0f-02420a010276"
      },
      {
       "current": "7ba6b05e-3dcd-11ea-9c0f-02420a010276",
       "next": "c3244bc6-3dcd-11ea-9c0f-02420a010276",
       "previous": "21435f20-3dca-11ea-9c0f-02420a010276"
      },
      {
       "current": "7ba6b05e-3dcd-11ea-9c0f-02420a010276",
       "next": "c3244bc6-3dcd-11ea-9c0f-02420a010276",
       "previous": "c3244bc6-3dcd-11ea-9c0f-02420a010276"
      },
      {
       "current": "7ba6b05e-3dcd-11ea-9c0f-02420a010276",
       "next": "c3244bc6-3dcd-11ea-9c0f-02420a010276",
       "previous": "06d223a4-3e67-11ea-9c0f-02420a010276"
      },
      {
       "current": "7ba6b05e-3dcd-11ea-9c0f-02420a010276",
       "next": "19a8b24c-3e6a-11ea-9c0f-02420a010276",
       "previous": "06d223a4-3e67-11ea-9c0f-02420a010276"
      },
      {
       "current": "7ba6b05e-3dcd-11ea-9c0f-02420a010276",
       "next": "c3244bc6-3dcd-11ea-9c0f-02420a010276",
       "previous": "06d223a4-3e67-11ea-9c0f-02420a010276"
      },
      {
       "current": "fc4ab76e-3e86-11ea-9d05-02420a010276",
       "next": "fc4ab8ae-3e86-11ea-9d05-02420a010276",
       "previous": "fc4ab61a-3e86-11ea-9d05-02420a010276"
      },
      {
       "current": "e6e1341a-3e87-11ea-b800-02420a010276",
       "next": "e6e1355a-3e87-11ea-b800-02420a010276",
       "previous": "e6e13262-3e87-11ea-b800-02420a010276"
      },
      {
       "current": "6009f608-40e3-11ea-a1ce-02420a010276",
       "next": "6009f842-40e3-11ea-a1ce-02420a010276",
       "previous": "6009f4c8-40e3-11ea-a1ce-02420a010276"
      }
     ],
     "next": "6009f842-40e3-11ea-a1ce-02420a010276",
     "previous": "6009f374-40e3-11ea-a1ce-02420a010276"
    }
   },
   "source": [
    "### 手順4：\n",
    "- 次のセルを評価して、月名のリスト`monthl`を作成します。"
   ]
  },
  {
   "cell_type": "code",
   "execution_count": null,
   "metadata": {
    "lc_cell_meme": {
     "current": "6009f842-40e3-11ea-a1ce-02420a010276",
     "history": [
      {
       "current": "c3244bc6-3dcd-11ea-9c0f-02420a010276",
       "next": "8ec28c68-3c23-11ea-967e-02420a010532",
       "previous": "7ba6b05e-3dcd-11ea-9c0f-02420a010276"
      },
      {
       "current": "c3244bc6-3dcd-11ea-9c0f-02420a010276",
       "next": "8ec28c68-3c23-11ea-967e-02420a010532",
       "previous": "7ba6b05e-3dcd-11ea-9c0f-02420a010276"
      },
      {
       "current": "c3244bc6-3dcd-11ea-9c0f-02420a010276",
       "next": "8ec28c68-3c23-11ea-967e-02420a010532",
       "previous": "7ba6b05e-3dcd-11ea-9c0f-02420a010276"
      },
      {
       "current": "c3244bc6-3dcd-11ea-9c0f-02420a010276",
       "next": "8ec28c68-3c23-11ea-967e-02420a010532",
       "previous": "7ba6b05e-3dcd-11ea-9c0f-02420a010276"
      },
      {
       "current": "c3244bc6-3dcd-11ea-9c0f-02420a010276",
       "next": "8ec28c68-3c23-11ea-967e-02420a010532",
       "previous": "7ba6b05e-3dcd-11ea-9c0f-02420a010276"
      },
      {
       "current": "c3244bc6-3dcd-11ea-9c0f-02420a010276",
       "next": "8ec28c68-3c23-11ea-967e-02420a010532",
       "previous": "7ba6b05e-3dcd-11ea-9c0f-02420a010276"
      },
      {
       "current": "c3244bc6-3dcd-11ea-9c0f-02420a010276",
       "next": "8ec28c68-3c23-11ea-967e-02420a010532",
       "previous": "7ba6b05e-3dcd-11ea-9c0f-02420a010276"
      },
      {
       "current": "c3244bc6-3dcd-11ea-9c0f-02420a010276",
       "next": "8ec28c68-3c23-11ea-967e-02420a010532",
       "previous": "7ba6b05e-3dcd-11ea-9c0f-02420a010276"
      },
      {
       "current": "c3244bc6-3dcd-11ea-9c0f-02420a010276",
       "next": "8ec28c68-3c23-11ea-967e-02420a010532",
       "previous": "7ba6b05e-3dcd-11ea-9c0f-02420a010276"
      },
      {
       "current": "c3244bc6-3dcd-11ea-9c0f-02420a010276",
       "next": "8ec28c68-3c23-11ea-967e-02420a010532",
       "previous": "7ba6b05e-3dcd-11ea-9c0f-02420a010276"
      },
      {
       "current": "c3244bc6-3dcd-11ea-9c0f-02420a010276",
       "next": "7ba6b05e-3dcd-11ea-9c0f-02420a010276",
       "previous": "7ba6b05e-3dcd-11ea-9c0f-02420a010276"
      },
      {
       "current": "c3244bc6-3dcd-11ea-9c0f-02420a010276",
       "next": "7ba6b05e-3dcd-11ea-9c0f-02420a010276",
       "previous": "19a8b24c-3e6a-11ea-9c0f-02420a010276"
      },
      {
       "current": "c3244bc6-3dcd-11ea-9c0f-02420a010276",
       "next": "7ba6b05e-3dcd-11ea-9c0f-02420a010276",
       "previous": "7ba6b05e-3dcd-11ea-9c0f-02420a010276"
      },
      {
       "current": "fc4ab8ae-3e86-11ea-9d05-02420a010276",
       "next": "fc4aba02-3e86-11ea-9d05-02420a010276",
       "previous": "fc4ab76e-3e86-11ea-9d05-02420a010276"
      },
      {
       "current": "e6e1355a-3e87-11ea-b800-02420a010276",
       "next": "e6e136d6-3e87-11ea-b800-02420a010276",
       "previous": "e6e1341a-3e87-11ea-b800-02420a010276"
      }
     ],
     "next": "6009f9be-40e3-11ea-a1ce-02420a010276",
     "previous": "6009f608-40e3-11ea-a1ce-02420a010276"
    },
    "lc_wrapper": {
     "log_history": [
      "/home/10999542xb8011f/15work/.log/20200123/20200123-195108-0336.log",
      "/home/10999542xb8011f/15work/.log/20200123/20200123-195408-0401.log",
      "/home/10999542xb8011f/15work/.log/20200123/20200123-195458-0951.log",
      "/home/10999542xb8011f/15work/.log/20200123/20200123-195520-0896.log",
      "/home/10999542xb8011f/15work/.log/20200123/20200123-195616-0592.log",
      "/home/10999542xb8011f/15work/.log/20200123/20200123-195647-0812.log",
      "/home/10999542xb8011f/15work/.log/20200123/20200123-195712-0021.log",
      "/home/10999542xb8011f/15work/.log/20200123/20200123-195830-0843.log",
      "/home/10999542xb8011f/15work/.log/20200123/20200123-195852-0906.log",
      "/home/10999542xb8011f/15work/.log/20200123/20200123-195952-0582.log",
      "/home/10999542xb8011f/15work/.log/20200123/20200123-200204-0038.log",
      "/home/10999542xb8011f/15work/.log/20200123/20200123-200217-0196.log",
      "/home/10999542xb8011f/15work/.log/20200123/20200123-200259-0606.log",
      "/home/10999542xb8011f/15work/.log/20200123/20200123-200339-0565.log",
      "/home/10999542xb8011f/15work/.log/20200123/20200123-200403-0084.log",
      "/home/10999542xb8011f/15work/.log/20200123/20200123-200410-0885.log",
      "/home/10999542xb8011f/15work/.log/20200124/20200124-093704-0133.log",
      "/home/10999542xb8011f/15work/.log/20200124/20200124-093726-0194.log",
      "/home/10999542xb8011f/15work/.log/20200124/20200124-094310-0453.log",
      "/home/10999542xb8011f/15work/.log/20200124/20200124-094710-0675.log",
      "/home/10999542xb8011f/15work/.log/20200124/20200124-102412-0355.log",
      "/home/10999542xb8011f/15work/.log/20200124/20200124-102922-0899.log",
      "/home/10999542xb8011f/15work/.log/20200124/20200124-143923-0446.log",
      "/home/10999542xb8011f/15a/.log/20200124/20200124-180159-0155.log",
      "/home/10999542xb8011f/15a/.log/20200127/20200127-180144-0161.log"
     ]
    }
   },
   "outputs": [],
   "source": [
    "# 演習用入力欄（このまま評価すること）\n",
    "monthl = [\"Jan\",\"Feb\",\"Mar\",\"Apr\",\"May\",\"Jun\",\"Jul\",\"Aug\",\"Sep\",\"Oct\",\"Nov\",\"Dec\"]\n",
    "monthl"
   ]
  },
  {
   "cell_type": "markdown",
   "metadata": {
    "lc_cell_meme": {
     "current": "6009f9be-40e3-11ea-a1ce-02420a010276",
     "history": [
      {
       "current": "7ba6b05e-3dcd-11ea-9c0f-02420a010276",
       "next": "8ec28c68-3c23-11ea-967e-02420a010532",
       "previous": "21435f20-3dca-11ea-9c0f-02420a010276"
      },
      {
       "current": "7ba6b05e-3dcd-11ea-9c0f-02420a010276",
       "next": "c3244bc6-3dcd-11ea-9c0f-02420a010276",
       "previous": "21435f20-3dca-11ea-9c0f-02420a010276"
      },
      {
       "current": "7ba6b05e-3dcd-11ea-9c0f-02420a010276",
       "next": "c3244bc6-3dcd-11ea-9c0f-02420a010276",
       "previous": "21435f20-3dca-11ea-9c0f-02420a010276"
      },
      {
       "current": "7ba6b05e-3dcd-11ea-9c0f-02420a010276",
       "next": "c3244bc6-3dcd-11ea-9c0f-02420a010276",
       "previous": "21435f20-3dca-11ea-9c0f-02420a010276"
      },
      {
       "current": "7ba6b05e-3dcd-11ea-9c0f-02420a010276",
       "next": "c3244bc6-3dcd-11ea-9c0f-02420a010276",
       "previous": "21435f20-3dca-11ea-9c0f-02420a010276"
      },
      {
       "current": "7ba6b05e-3dcd-11ea-9c0f-02420a010276",
       "next": "c3244bc6-3dcd-11ea-9c0f-02420a010276",
       "previous": "21435f20-3dca-11ea-9c0f-02420a010276"
      },
      {
       "current": "7ba6b05e-3dcd-11ea-9c0f-02420a010276",
       "next": "c3244bc6-3dcd-11ea-9c0f-02420a010276",
       "previous": "21435f20-3dca-11ea-9c0f-02420a010276"
      },
      {
       "current": "7ba6b05e-3dcd-11ea-9c0f-02420a010276",
       "next": "c3244bc6-3dcd-11ea-9c0f-02420a010276",
       "previous": "21435f20-3dca-11ea-9c0f-02420a010276"
      },
      {
       "current": "7ba6b05e-3dcd-11ea-9c0f-02420a010276",
       "next": "c3244bc6-3dcd-11ea-9c0f-02420a010276",
       "previous": "21435f20-3dca-11ea-9c0f-02420a010276"
      },
      {
       "current": "7ba6b05e-3dcd-11ea-9c0f-02420a010276",
       "next": "c3244bc6-3dcd-11ea-9c0f-02420a010276",
       "previous": "21435f20-3dca-11ea-9c0f-02420a010276"
      },
      {
       "current": "7ba6b05e-3dcd-11ea-9c0f-02420a010276",
       "next": "c3244bc6-3dcd-11ea-9c0f-02420a010276",
       "previous": "21435f20-3dca-11ea-9c0f-02420a010276"
      },
      {
       "current": "7ba6b05e-3dcd-11ea-9c0f-02420a010276",
       "next": "c3244bc6-3dcd-11ea-9c0f-02420a010276",
       "previous": "21435f20-3dca-11ea-9c0f-02420a010276"
      },
      {
       "current": "7ba6b05e-3dcd-11ea-9c0f-02420a010276",
       "next": "c3244bc6-3dcd-11ea-9c0f-02420a010276",
       "previous": "21435f20-3dca-11ea-9c0f-02420a010276"
      },
      {
       "current": "7ba6b05e-3dcd-11ea-9c0f-02420a010276",
       "next": "c3244bc6-3dcd-11ea-9c0f-02420a010276",
       "previous": "21435f20-3dca-11ea-9c0f-02420a010276"
      },
      {
       "current": "7ba6b05e-3dcd-11ea-9c0f-02420a010276",
       "next": "c3244bc6-3dcd-11ea-9c0f-02420a010276",
       "previous": "21435f20-3dca-11ea-9c0f-02420a010276"
      },
      {
       "current": "7ba6b05e-3dcd-11ea-9c0f-02420a010276",
       "next": "c3244bc6-3dcd-11ea-9c0f-02420a010276",
       "previous": "21435f20-3dca-11ea-9c0f-02420a010276"
      },
      {
       "current": "7ba6b05e-3dcd-11ea-9c0f-02420a010276",
       "next": "c3244bc6-3dcd-11ea-9c0f-02420a010276",
       "previous": "21435f20-3dca-11ea-9c0f-02420a010276"
      },
      {
       "current": "7ba6b05e-3dcd-11ea-9c0f-02420a010276",
       "next": "c3244bc6-3dcd-11ea-9c0f-02420a010276",
       "previous": "21435f20-3dca-11ea-9c0f-02420a010276"
      },
      {
       "current": "7ba6b05e-3dcd-11ea-9c0f-02420a010276",
       "next": "c3244bc6-3dcd-11ea-9c0f-02420a010276",
       "previous": "21435f20-3dca-11ea-9c0f-02420a010276"
      },
      {
       "current": "7ba6b05e-3dcd-11ea-9c0f-02420a010276",
       "next": "c3244bc6-3dcd-11ea-9c0f-02420a010276",
       "previous": "21435f20-3dca-11ea-9c0f-02420a010276"
      },
      {
       "current": "7ba6b05e-3dcd-11ea-9c0f-02420a010276",
       "next": "c3244bc6-3dcd-11ea-9c0f-02420a010276",
       "previous": "21435f20-3dca-11ea-9c0f-02420a010276"
      },
      {
       "current": "7ba6b05e-3dcd-11ea-9c0f-02420a010276",
       "next": "c3244bc6-3dcd-11ea-9c0f-02420a010276",
       "previous": "21435f20-3dca-11ea-9c0f-02420a010276"
      },
      {
       "current": "7ba6b05e-3dcd-11ea-9c0f-02420a010276",
       "next": "c3244bc6-3dcd-11ea-9c0f-02420a010276",
       "previous": "21435f20-3dca-11ea-9c0f-02420a010276"
      },
      {
       "current": "7ba6b05e-3dcd-11ea-9c0f-02420a010276",
       "next": "c3244bc6-3dcd-11ea-9c0f-02420a010276",
       "previous": "21435f20-3dca-11ea-9c0f-02420a010276"
      },
      {
       "current": "7ba6b05e-3dcd-11ea-9c0f-02420a010276",
       "next": "25d8ec70-3e48-11ea-9c0f-02420a010276",
       "previous": "c3244bc6-3dcd-11ea-9c0f-02420a010276"
      },
      {
       "current": "fc4aba02-3e86-11ea-9d05-02420a010276",
       "next": "fc4abb4c-3e86-11ea-9d05-02420a010276",
       "previous": "fc4ab8ae-3e86-11ea-9d05-02420a010276"
      },
      {
       "current": "e6e136d6-3e87-11ea-b800-02420a010276",
       "next": "e6e13820-3e87-11ea-b800-02420a010276",
       "previous": "e6e1355a-3e87-11ea-b800-02420a010276"
      }
     ],
     "next": "6009fb26-40e3-11ea-a1ce-02420a010276",
     "previous": "6009f842-40e3-11ea-a1ce-02420a010276"
    }
   },
   "source": [
    "### 手順5：\n",
    "- **10年間の月別の平均気温のグラフを作成します。**\n",
    "- リスト`monthl`とリスト`temp_month`を使用して折れ線グラフを作成してください。"
   ]
  },
  {
   "cell_type": "code",
   "execution_count": null,
   "metadata": {
    "lc_cell_meme": {
     "current": "6009fb26-40e3-11ea-a1ce-02420a010276",
     "history": [
      {
       "current": "25d8ec70-3e48-11ea-9c0f-02420a010276",
       "next": "c3244bc6-3dcd-11ea-9c0f-02420a010276",
       "previous": "7ba6b05e-3dcd-11ea-9c0f-02420a010276"
      },
      {
       "current": "fc4abb4c-3e86-11ea-9d05-02420a010276",
       "next": "fc4abd22-3e86-11ea-9d05-02420a010276",
       "previous": "fc4aba02-3e86-11ea-9d05-02420a010276"
      },
      {
       "current": "e6e13820-3e87-11ea-b800-02420a010276",
       "next": "e6e1397e-3e87-11ea-b800-02420a010276",
       "previous": "e6e136d6-3e87-11ea-b800-02420a010276"
      },
      {
       "current": "6009fb26-40e3-11ea-a1ce-02420a010276",
       "next": "6009fc8e-40e3-11ea-a1ce-02420a010276",
       "previous": "6009f9be-40e3-11ea-a1ce-02420a010276"
      }
     ],
     "next": "6009fdba-40e3-11ea-a1ce-02420a010276",
     "previous": "6009f9be-40e3-11ea-a1ce-02420a010276"
    }
   },
   "outputs": [],
   "source": [
    "# 演習用入力欄\n"
   ]
  },
  {
   "cell_type": "markdown",
   "metadata": {
    "lc_cell_meme": {
     "current": "6009fdba-40e3-11ea-a1ce-02420a010276",
     "history": [
      {
       "current": "93395100-96df-11e9-8b94-e0d55ea40caf",
       "next": "efa662f7-96de-11e9-8b94-e0d55ea40caf",
       "previous": "933950ff-96df-11e9-8b94-e0d55ea40caf"
      },
      {
       "current": "b38b730c-96e2-11e9-893e-02420a010063",
       "next": "b38b73a2-96e2-11e9-893e-02420a010063",
       "previous": "b38b723a-96e2-11e9-893e-02420a010063"
      },
      {
       "current": "b38b730c-96e2-11e9-893e-02420a010063",
       "next": "b38b730c-96e2-11e9-893e-02420a010063",
       "previous": "b38b6fc4-96e2-11e9-893e-02420a010063"
      },
      {
       "current": "224db218-fae4-11e9-ad73-02420a01004a",
       "next": "224db43e-fae4-11e9-ad73-02420a01004a",
       "previous": "224db074-fae4-11e9-ad73-02420a01004a"
      },
      {
       "current": "224db218-fae4-11e9-ad73-02420a01004a",
       "next": "1770cb40-216e-11ea-8429-02420a0104c6",
       "previous": "224db074-fae4-11e9-ad73-02420a01004a"
      },
      {
       "current": "7daad1de-216f-11ea-8205-02420a0104c6",
       "next": "7daad300-216f-11ea-8205-02420a0104c6",
       "previous": "7daad080-216f-11ea-8205-02420a0104c6"
      },
      {
       "current": "7daad1de-216f-11ea-8205-02420a0104c6",
       "next": "7daad300-216f-11ea-8205-02420a0104c6",
       "previous": "c3244bc6-3dcd-11ea-9c0f-02420a010276"
      },
      {
       "current": "fc4ac862-3e86-11ea-9d05-02420a010276",
       "next": "fc4ac998-3e86-11ea-9d05-02420a010276",
       "previous": "fc4ac754-3e86-11ea-9d05-02420a010276"
      },
      {
       "current": "e6e14680-3e87-11ea-b800-02420a010276",
       "next": "e6e147fc-3e87-11ea-b800-02420a010276",
       "previous": "e6e144f0-3e87-11ea-b800-02420a010276"
      },
      {
       "current": "e6e14680-3e87-11ea-b800-02420a010276",
       "next": "e6e147fc-3e87-11ea-b800-02420a010276",
       "previous": "e6e1397e-3e87-11ea-b800-02420a010276"
      },
      {
       "current": "6009fdba-40e3-11ea-a1ce-02420a010276",
       "next": "6009ff22-40e3-11ea-a1ce-02420a010276",
       "previous": "6009fc8e-40e3-11ea-a1ce-02420a010276"
      }
     ],
     "next": "6009ff22-40e3-11ea-a1ce-02420a010276",
     "previous": "6009fb26-40e3-11ea-a1ce-02420a010276"
    }
   },
   "source": [
    "## 課題3　月平均降水量の年間降水量における割合"
   ]
  },
  {
   "cell_type": "markdown",
   "metadata": {
    "lc_cell_meme": {
     "current": "6009ff22-40e3-11ea-a1ce-02420a010276",
     "history": [
      {
       "current": "1770cb40-216e-11ea-8429-02420a0104c6",
       "next": "1770cdb6-216e-11ea-8429-02420a0104c6",
       "previous": "224db218-fae4-11e9-ad73-02420a01004a"
      },
      {
       "current": "7daad300-216f-11ea-8205-02420a0104c6",
       "next": "7daad3fa-216f-11ea-8205-02420a0104c6",
       "previous": "7daad1de-216f-11ea-8205-02420a0104c6"
      },
      {
       "current": "7daad300-216f-11ea-8205-02420a0104c6",
       "next": "8ec28c68-3c23-11ea-967e-02420a010532",
       "previous": "7daad1de-216f-11ea-8205-02420a0104c6"
      },
      {
       "current": "7daad300-216f-11ea-8205-02420a0104c6",
       "next": "922b7b42-3dc9-11ea-9c0f-02420a010276",
       "previous": "7daad1de-216f-11ea-8205-02420a0104c6"
      },
      {
       "current": "fc4ac998-3e86-11ea-9d05-02420a010276",
       "next": "fc4acbaa-3e86-11ea-9d05-02420a010276",
       "previous": "fc4ac862-3e86-11ea-9d05-02420a010276"
      },
      {
       "current": "e6e147fc-3e87-11ea-b800-02420a010276",
       "next": "e6e14932-3e87-11ea-b800-02420a010276",
       "previous": "e6e14680-3e87-11ea-b800-02420a010276"
      }
     ],
     "next": "600a006c-40e3-11ea-a1ce-02420a010276",
     "previous": "6009fdba-40e3-11ea-a1ce-02420a010276"
    }
   },
   "source": [
    "10年間の月別降水量の円グラフを作成してください。"
   ]
  },
  {
   "cell_type": "markdown",
   "metadata": {
    "lc_cell_meme": {
     "current": "600a006c-40e3-11ea-a1ce-02420a010276",
     "history": [
      {
       "current": "922b7b42-3dc9-11ea-9c0f-02420a010276",
       "next": "8ec28c68-3c23-11ea-967e-02420a010532",
       "previous": "7daad300-216f-11ea-8205-02420a0104c6"
      },
      {
       "current": "922b7b42-3dc9-11ea-9c0f-02420a010276",
       "next": "21435f20-3dca-11ea-9c0f-02420a010276",
       "previous": "7daad300-216f-11ea-8205-02420a0104c6"
      },
      {
       "current": "922b7b42-3dc9-11ea-9c0f-02420a010276",
       "next": "7ba6add4-3dcd-11ea-9c0f-02420a010276",
       "previous": "7daad300-216f-11ea-8205-02420a0104c6"
      },
      {
       "current": "fc4acbaa-3e86-11ea-9d05-02420a010276",
       "next": "fc4acd3a-3e86-11ea-9d05-02420a010276",
       "previous": "fc4ac998-3e86-11ea-9d05-02420a010276"
      },
      {
       "current": "e6e14932-3e87-11ea-b800-02420a010276",
       "next": "e6e14afe-3e87-11ea-b800-02420a010276",
       "previous": "e6e147fc-3e87-11ea-b800-02420a010276"
      }
     ],
     "next": "600a01b6-40e3-11ea-a1ce-02420a010276",
     "previous": "6009ff22-40e3-11ea-a1ce-02420a010276"
    }
   },
   "source": [
    "### 手順1：\n",
    "\n",
    "- 1年間の12ヵ月分のデータを1つのリストとし、10年分のデータでリストのリスト`prec`を作成してください。\n",
    "\n",
    "作成例<BR>\n",
    "prec = [ [2010年分の12個のデータ], [2011年分の12個のデータ], ．．．[2019年分の12個のデータ] ]<BR>\n"
   ]
  },
  {
   "cell_type": "code",
   "execution_count": null,
   "metadata": {
    "lc_cell_meme": {
     "current": "600a01b6-40e3-11ea-a1ce-02420a010276",
     "history": [
      {
       "current": "7ba6add4-3dcd-11ea-9c0f-02420a010276",
       "next": "21435f20-3dca-11ea-9c0f-02420a010276",
       "previous": "922b7b42-3dc9-11ea-9c0f-02420a010276"
      },
      {
       "current": "fc4acd3a-3e86-11ea-9d05-02420a010276",
       "next": "fc4aceb6-3e86-11ea-9d05-02420a010276",
       "previous": "fc4acbaa-3e86-11ea-9d05-02420a010276"
      },
      {
       "current": "e6e14afe-3e87-11ea-b800-02420a010276",
       "next": "e6e14c70-3e87-11ea-b800-02420a010276",
       "previous": "e6e14932-3e87-11ea-b800-02420a010276"
      },
      {
       "current": "600a01b6-40e3-11ea-a1ce-02420a010276",
       "next": "600a02e2-40e3-11ea-a1ce-02420a010276",
       "previous": "600a006c-40e3-11ea-a1ce-02420a010276"
      }
     ],
     "next": "600a053a-40e3-11ea-a1ce-02420a010276",
     "previous": "600a006c-40e3-11ea-a1ce-02420a010276"
    }
   },
   "outputs": [],
   "source": [
    "# 演習用入力欄\n"
   ]
  },
  {
   "cell_type": "markdown",
   "metadata": {
    "lc_cell_meme": {
     "current": "600a053a-40e3-11ea-a1ce-02420a010276",
     "history": [
      {
       "current": "7ba6b05e-3dcd-11ea-9c0f-02420a010276",
       "next": "8ec28c68-3c23-11ea-967e-02420a010532",
       "previous": "21435f20-3dca-11ea-9c0f-02420a010276"
      },
      {
       "current": "7ba6b05e-3dcd-11ea-9c0f-02420a010276",
       "next": "c3244bc6-3dcd-11ea-9c0f-02420a010276",
       "previous": "21435f20-3dca-11ea-9c0f-02420a010276"
      },
      {
       "current": "7ba6b05e-3dcd-11ea-9c0f-02420a010276",
       "next": "c3244bc6-3dcd-11ea-9c0f-02420a010276",
       "previous": "21435f20-3dca-11ea-9c0f-02420a010276"
      },
      {
       "current": "7ba6b05e-3dcd-11ea-9c0f-02420a010276",
       "next": "c3244bc6-3dcd-11ea-9c0f-02420a010276",
       "previous": "21435f20-3dca-11ea-9c0f-02420a010276"
      },
      {
       "current": "7ba6b05e-3dcd-11ea-9c0f-02420a010276",
       "next": "c3244bc6-3dcd-11ea-9c0f-02420a010276",
       "previous": "21435f20-3dca-11ea-9c0f-02420a010276"
      },
      {
       "current": "7ba6b05e-3dcd-11ea-9c0f-02420a010276",
       "next": "c3244bc6-3dcd-11ea-9c0f-02420a010276",
       "previous": "21435f20-3dca-11ea-9c0f-02420a010276"
      },
      {
       "current": "7ba6b05e-3dcd-11ea-9c0f-02420a010276",
       "next": "c3244bc6-3dcd-11ea-9c0f-02420a010276",
       "previous": "21435f20-3dca-11ea-9c0f-02420a010276"
      },
      {
       "current": "7ba6b05e-3dcd-11ea-9c0f-02420a010276",
       "next": "c3244bc6-3dcd-11ea-9c0f-02420a010276",
       "previous": "21435f20-3dca-11ea-9c0f-02420a010276"
      },
      {
       "current": "7ba6b05e-3dcd-11ea-9c0f-02420a010276",
       "next": "c3244bc6-3dcd-11ea-9c0f-02420a010276",
       "previous": "21435f20-3dca-11ea-9c0f-02420a010276"
      },
      {
       "current": "7ba6b05e-3dcd-11ea-9c0f-02420a010276",
       "next": "c3244bc6-3dcd-11ea-9c0f-02420a010276",
       "previous": "21435f20-3dca-11ea-9c0f-02420a010276"
      },
      {
       "current": "7ba6b05e-3dcd-11ea-9c0f-02420a010276",
       "next": "c3244bc6-3dcd-11ea-9c0f-02420a010276",
       "previous": "21435f20-3dca-11ea-9c0f-02420a010276"
      },
      {
       "current": "7ba6b05e-3dcd-11ea-9c0f-02420a010276",
       "next": "c3244bc6-3dcd-11ea-9c0f-02420a010276",
       "previous": "21435f20-3dca-11ea-9c0f-02420a010276"
      },
      {
       "current": "7ba6b05e-3dcd-11ea-9c0f-02420a010276",
       "next": "c3244bc6-3dcd-11ea-9c0f-02420a010276",
       "previous": "21435f20-3dca-11ea-9c0f-02420a010276"
      },
      {
       "current": "7ba6b05e-3dcd-11ea-9c0f-02420a010276",
       "next": "c3244bc6-3dcd-11ea-9c0f-02420a010276",
       "previous": "21435f20-3dca-11ea-9c0f-02420a010276"
      },
      {
       "current": "7ba6b05e-3dcd-11ea-9c0f-02420a010276",
       "next": "c3244bc6-3dcd-11ea-9c0f-02420a010276",
       "previous": "21435f20-3dca-11ea-9c0f-02420a010276"
      },
      {
       "current": "7ba6b05e-3dcd-11ea-9c0f-02420a010276",
       "next": "c3244bc6-3dcd-11ea-9c0f-02420a010276",
       "previous": "21435f20-3dca-11ea-9c0f-02420a010276"
      },
      {
       "current": "7ba6b05e-3dcd-11ea-9c0f-02420a010276",
       "next": "c3244bc6-3dcd-11ea-9c0f-02420a010276",
       "previous": "21435f20-3dca-11ea-9c0f-02420a010276"
      },
      {
       "current": "7ba6b05e-3dcd-11ea-9c0f-02420a010276",
       "next": "c3244bc6-3dcd-11ea-9c0f-02420a010276",
       "previous": "21435f20-3dca-11ea-9c0f-02420a010276"
      },
      {
       "current": "7ba6b05e-3dcd-11ea-9c0f-02420a010276",
       "next": "c3244bc6-3dcd-11ea-9c0f-02420a010276",
       "previous": "21435f20-3dca-11ea-9c0f-02420a010276"
      },
      {
       "current": "7ba6b05e-3dcd-11ea-9c0f-02420a010276",
       "next": "c3244bc6-3dcd-11ea-9c0f-02420a010276",
       "previous": "21435f20-3dca-11ea-9c0f-02420a010276"
      },
      {
       "current": "7ba6b05e-3dcd-11ea-9c0f-02420a010276",
       "next": "c3244bc6-3dcd-11ea-9c0f-02420a010276",
       "previous": "21435f20-3dca-11ea-9c0f-02420a010276"
      },
      {
       "current": "7ba6b05e-3dcd-11ea-9c0f-02420a010276",
       "next": "c3244bc6-3dcd-11ea-9c0f-02420a010276",
       "previous": "21435f20-3dca-11ea-9c0f-02420a010276"
      },
      {
       "current": "7ba6b05e-3dcd-11ea-9c0f-02420a010276",
       "next": "c3244bc6-3dcd-11ea-9c0f-02420a010276",
       "previous": "21435f20-3dca-11ea-9c0f-02420a010276"
      },
      {
       "current": "7ba6b05e-3dcd-11ea-9c0f-02420a010276",
       "next": "c3244bc6-3dcd-11ea-9c0f-02420a010276",
       "previous": "21435f20-3dca-11ea-9c0f-02420a010276"
      },
      {
       "current": "7ba6b05e-3dcd-11ea-9c0f-02420a010276",
       "next": "c3244bc6-3dcd-11ea-9c0f-02420a010276",
       "previous": "21435f20-3dca-11ea-9c0f-02420a010276"
      },
      {
       "current": "7ba6b05e-3dcd-11ea-9c0f-02420a010276",
       "next": "25d8e72a-3e48-11ea-9c0f-02420a010276",
       "previous": "21435f20-3dca-11ea-9c0f-02420a010276"
      },
      {
       "current": "fc4acfec-3e86-11ea-9d05-02420a010276",
       "next": "fc4ad118-3e86-11ea-9d05-02420a010276",
       "previous": "fc4aceb6-3e86-11ea-9d05-02420a010276"
      },
      {
       "current": "e6e14dce-3e87-11ea-b800-02420a010276",
       "next": "e6e14f0e-3e87-11ea-b800-02420a010276",
       "previous": "e6e14c70-3e87-11ea-b800-02420a010276"
      },
      {
       "current": "600a053a-40e3-11ea-a1ce-02420a010276",
       "next": "600a0670-40e3-11ea-a1ce-02420a010276",
       "previous": "600a02e2-40e3-11ea-a1ce-02420a010276"
      }
     ],
     "next": "600a0670-40e3-11ea-a1ce-02420a010276",
     "previous": "600a01b6-40e3-11ea-a1ce-02420a010276"
    }
   },
   "source": [
    "### 手順2：\n",
    "- 課題2の手順3を参考にして、10年間の月ごとの平均降水量をリスト`prec_month`に格納し、最後にリスト`prec_month`を評価して値を確認してください。\n",
    "- リスト`prec`と関数`list_ave`を使用します。"
   ]
  },
  {
   "cell_type": "code",
   "execution_count": null,
   "metadata": {
    "lc_cell_meme": {
     "current": "600a0670-40e3-11ea-a1ce-02420a010276",
     "history": [
      {
       "current": "25d8e72a-3e48-11ea-9c0f-02420a010276",
       "next": "25d8ea68-3e48-11ea-9c0f-02420a010276",
       "previous": "7ba6b05e-3dcd-11ea-9c0f-02420a010276"
      },
      {
       "current": "fc4ad118-3e86-11ea-9d05-02420a010276",
       "next": "fc4ad276-3e86-11ea-9d05-02420a010276",
       "previous": "fc4acfec-3e86-11ea-9d05-02420a010276"
      },
      {
       "current": "e6e14f0e-3e87-11ea-b800-02420a010276",
       "next": "e6e1513e-3e87-11ea-b800-02420a010276",
       "previous": "e6e14dce-3e87-11ea-b800-02420a010276"
      },
      {
       "current": "600a0670-40e3-11ea-a1ce-02420a010276",
       "next": "600a07ba-40e3-11ea-a1ce-02420a010276",
       "previous": "600a053a-40e3-11ea-a1ce-02420a010276"
      }
     ],
     "next": "600a08c8-40e3-11ea-a1ce-02420a010276",
     "previous": "600a053a-40e3-11ea-a1ce-02420a010276"
    },
    "lc_wrapper": {
     "log_history": [
      "/home/10999542xb8011f/15work/.log/20200124/20200124-171408-0365.log"
     ]
    }
   },
   "outputs": [],
   "source": [
    "# 演習用入力欄\n"
   ]
  },
  {
   "cell_type": "markdown",
   "metadata": {
    "lc_cell_meme": {
     "current": "600a08c8-40e3-11ea-a1ce-02420a010276",
     "history": [
      {
       "current": "7ba6b05e-3dcd-11ea-9c0f-02420a010276",
       "next": "8ec28c68-3c23-11ea-967e-02420a010532",
       "previous": "21435f20-3dca-11ea-9c0f-02420a010276"
      },
      {
       "current": "7ba6b05e-3dcd-11ea-9c0f-02420a010276",
       "next": "c3244bc6-3dcd-11ea-9c0f-02420a010276",
       "previous": "21435f20-3dca-11ea-9c0f-02420a010276"
      },
      {
       "current": "7ba6b05e-3dcd-11ea-9c0f-02420a010276",
       "next": "c3244bc6-3dcd-11ea-9c0f-02420a010276",
       "previous": "21435f20-3dca-11ea-9c0f-02420a010276"
      },
      {
       "current": "7ba6b05e-3dcd-11ea-9c0f-02420a010276",
       "next": "c3244bc6-3dcd-11ea-9c0f-02420a010276",
       "previous": "21435f20-3dca-11ea-9c0f-02420a010276"
      },
      {
       "current": "7ba6b05e-3dcd-11ea-9c0f-02420a010276",
       "next": "c3244bc6-3dcd-11ea-9c0f-02420a010276",
       "previous": "21435f20-3dca-11ea-9c0f-02420a010276"
      },
      {
       "current": "7ba6b05e-3dcd-11ea-9c0f-02420a010276",
       "next": "c3244bc6-3dcd-11ea-9c0f-02420a010276",
       "previous": "21435f20-3dca-11ea-9c0f-02420a010276"
      },
      {
       "current": "7ba6b05e-3dcd-11ea-9c0f-02420a010276",
       "next": "c3244bc6-3dcd-11ea-9c0f-02420a010276",
       "previous": "21435f20-3dca-11ea-9c0f-02420a010276"
      },
      {
       "current": "7ba6b05e-3dcd-11ea-9c0f-02420a010276",
       "next": "c3244bc6-3dcd-11ea-9c0f-02420a010276",
       "previous": "21435f20-3dca-11ea-9c0f-02420a010276"
      },
      {
       "current": "7ba6b05e-3dcd-11ea-9c0f-02420a010276",
       "next": "c3244bc6-3dcd-11ea-9c0f-02420a010276",
       "previous": "21435f20-3dca-11ea-9c0f-02420a010276"
      },
      {
       "current": "7ba6b05e-3dcd-11ea-9c0f-02420a010276",
       "next": "c3244bc6-3dcd-11ea-9c0f-02420a010276",
       "previous": "21435f20-3dca-11ea-9c0f-02420a010276"
      },
      {
       "current": "7ba6b05e-3dcd-11ea-9c0f-02420a010276",
       "next": "c3244bc6-3dcd-11ea-9c0f-02420a010276",
       "previous": "21435f20-3dca-11ea-9c0f-02420a010276"
      },
      {
       "current": "7ba6b05e-3dcd-11ea-9c0f-02420a010276",
       "next": "c3244bc6-3dcd-11ea-9c0f-02420a010276",
       "previous": "21435f20-3dca-11ea-9c0f-02420a010276"
      },
      {
       "current": "7ba6b05e-3dcd-11ea-9c0f-02420a010276",
       "next": "c3244bc6-3dcd-11ea-9c0f-02420a010276",
       "previous": "21435f20-3dca-11ea-9c0f-02420a010276"
      },
      {
       "current": "7ba6b05e-3dcd-11ea-9c0f-02420a010276",
       "next": "c3244bc6-3dcd-11ea-9c0f-02420a010276",
       "previous": "21435f20-3dca-11ea-9c0f-02420a010276"
      },
      {
       "current": "7ba6b05e-3dcd-11ea-9c0f-02420a010276",
       "next": "c3244bc6-3dcd-11ea-9c0f-02420a010276",
       "previous": "21435f20-3dca-11ea-9c0f-02420a010276"
      },
      {
       "current": "7ba6b05e-3dcd-11ea-9c0f-02420a010276",
       "next": "c3244bc6-3dcd-11ea-9c0f-02420a010276",
       "previous": "21435f20-3dca-11ea-9c0f-02420a010276"
      },
      {
       "current": "7ba6b05e-3dcd-11ea-9c0f-02420a010276",
       "next": "c3244bc6-3dcd-11ea-9c0f-02420a010276",
       "previous": "21435f20-3dca-11ea-9c0f-02420a010276"
      },
      {
       "current": "7ba6b05e-3dcd-11ea-9c0f-02420a010276",
       "next": "c3244bc6-3dcd-11ea-9c0f-02420a010276",
       "previous": "21435f20-3dca-11ea-9c0f-02420a010276"
      },
      {
       "current": "7ba6b05e-3dcd-11ea-9c0f-02420a010276",
       "next": "c3244bc6-3dcd-11ea-9c0f-02420a010276",
       "previous": "21435f20-3dca-11ea-9c0f-02420a010276"
      },
      {
       "current": "7ba6b05e-3dcd-11ea-9c0f-02420a010276",
       "next": "c3244bc6-3dcd-11ea-9c0f-02420a010276",
       "previous": "21435f20-3dca-11ea-9c0f-02420a010276"
      },
      {
       "current": "7ba6b05e-3dcd-11ea-9c0f-02420a010276",
       "next": "c3244bc6-3dcd-11ea-9c0f-02420a010276",
       "previous": "21435f20-3dca-11ea-9c0f-02420a010276"
      },
      {
       "current": "7ba6b05e-3dcd-11ea-9c0f-02420a010276",
       "next": "c3244bc6-3dcd-11ea-9c0f-02420a010276",
       "previous": "21435f20-3dca-11ea-9c0f-02420a010276"
      },
      {
       "current": "7ba6b05e-3dcd-11ea-9c0f-02420a010276",
       "next": "c3244bc6-3dcd-11ea-9c0f-02420a010276",
       "previous": "21435f20-3dca-11ea-9c0f-02420a010276"
      },
      {
       "current": "7ba6b05e-3dcd-11ea-9c0f-02420a010276",
       "next": "c3244bc6-3dcd-11ea-9c0f-02420a010276",
       "previous": "21435f20-3dca-11ea-9c0f-02420a010276"
      },
      {
       "current": "7ba6b05e-3dcd-11ea-9c0f-02420a010276",
       "next": "c3244bc6-3dcd-11ea-9c0f-02420a010276",
       "previous": "21435f20-3dca-11ea-9c0f-02420a010276"
      },
      {
       "current": "7ba6b05e-3dcd-11ea-9c0f-02420a010276",
       "next": "25d8eb80-3e48-11ea-9c0f-02420a010276",
       "previous": "25d8ea68-3e48-11ea-9c0f-02420a010276"
      },
      {
       "current": "7ba6b05e-3dcd-11ea-9c0f-02420a010276",
       "next": "8ec28c68-3c23-11ea-967e-02420a010532",
       "previous": "25d8ea68-3e48-11ea-9c0f-02420a010276"
      },
      {
       "current": "7ba6b05e-3dcd-11ea-9c0f-02420a010276",
       "next": "25d8e72a-3e48-11ea-9c0f-02420a010276",
       "previous": "25d8ea68-3e48-11ea-9c0f-02420a010276"
      },
      {
       "current": "fc4ad3e8-3e86-11ea-9d05-02420a010276",
       "next": "fc4ad514-3e86-11ea-9d05-02420a010276",
       "previous": "fc4ad276-3e86-11ea-9d05-02420a010276"
      },
      {
       "current": "e6e1531e-3e87-11ea-b800-02420a010276",
       "next": "e6e15436-3e87-11ea-b800-02420a010276",
       "previous": "e6e1513e-3e87-11ea-b800-02420a010276"
      },
      {
       "current": "600a08c8-40e3-11ea-a1ce-02420a010276",
       "next": "600a09fe-40e3-11ea-a1ce-02420a010276",
       "previous": "600a07ba-40e3-11ea-a1ce-02420a010276"
      }
     ],
     "next": "600a09fe-40e3-11ea-a1ce-02420a010276",
     "previous": "600a0670-40e3-11ea-a1ce-02420a010276"
    }
   },
   "source": [
    "### 手順3：\n",
    "- **月別の平均降水量のグラフを作成します。**\n",
    "- リスト`monthl`とリスト`prec_month`を使用して、`月名のラベル付きの円グラフ`を作成してください。（教科書77ページ参照）"
   ]
  },
  {
   "cell_type": "code",
   "execution_count": null,
   "metadata": {
    "lc_cell_meme": {
     "current": "600a09fe-40e3-11ea-a1ce-02420a010276",
     "history": [
      {
       "current": "25d8e72a-3e48-11ea-9c0f-02420a010276",
       "next": "25d8ea68-3e48-11ea-9c0f-02420a010276",
       "previous": "7ba6b05e-3dcd-11ea-9c0f-02420a010276"
      },
      {
       "current": "fc4ad514-3e86-11ea-9d05-02420a010276",
       "next": "fc4ad690-3e86-11ea-9d05-02420a010276",
       "previous": "fc4ad3e8-3e86-11ea-9d05-02420a010276"
      },
      {
       "current": "e6e15436-3e87-11ea-b800-02420a010276",
       "next": "e6e15576-3e87-11ea-b800-02420a010276",
       "previous": "e6e1531e-3e87-11ea-b800-02420a010276"
      },
      {
       "current": "600a09fe-40e3-11ea-a1ce-02420a010276",
       "next": "600a0b48-40e3-11ea-a1ce-02420a010276",
       "previous": "600a08c8-40e3-11ea-a1ce-02420a010276"
      }
     ],
     "next": "600a0c4c-40e3-11ea-a1ce-02420a010276",
     "previous": "600a08c8-40e3-11ea-a1ce-02420a010276"
    }
   },
   "outputs": [],
   "source": [
    "# 演習用入力欄（要修正）\n",
    "???\n",
    "plt.show"
   ]
  },
  {
   "cell_type": "markdown",
   "metadata": {
    "lc_cell_meme": {
     "current": "600a0c4c-40e3-11ea-a1ce-02420a010276",
     "history": [
      {
       "current": "179a9196-fa36-11e9-bc54-02420a010e28",
       "next": "179a929a-fa36-11e9-bc54-02420a010e28",
       "previous": "b38b74d8-96e2-11e9-893e-02420a010063"
      },
      {
       "current": "224dcb5e-fae4-11e9-ad73-02420a01004a",
       "next": "224dcca8-fae4-11e9-ad73-02420a01004a",
       "previous": "224dc9e2-fae4-11e9-ad73-02420a01004a"
      },
      {
       "current": "224dcb5e-fae4-11e9-ad73-02420a01004a",
       "next": "224dcca8-fae4-11e9-ad73-02420a01004a",
       "previous": "1770d554-216e-11ea-8429-02420a0104c6"
      },
      {
       "current": "7daaeeb2-216f-11ea-8205-02420a0104c6",
       "next": "7daaefa2-216f-11ea-8205-02420a0104c6",
       "previous": "7daaedc2-216f-11ea-8205-02420a0104c6"
      },
      {
       "current": "7daaeeb2-216f-11ea-8205-02420a0104c6",
       "next": "7daaefa2-216f-11ea-8205-02420a0104c6",
       "previous": "7daad512-216f-11ea-8205-02420a0104c6"
      },
      {
       "current": "7daaeeb2-216f-11ea-8205-02420a0104c6",
       "next": "7daaefa2-216f-11ea-8205-02420a0104c6",
       "previous": "2fdbd99e-3cd6-11ea-967e-02420a010532"
      },
      {
       "current": "7daaeeb2-216f-11ea-8205-02420a0104c6",
       "next": "7daaefa2-216f-11ea-8205-02420a0104c6",
       "previous": "25d8ea68-3e48-11ea-9c0f-02420a010276"
      },
      {
       "current": "fc4ad8e8-3e86-11ea-9d05-02420a010276",
       "next": "fc4ada14-3e86-11ea-9d05-02420a010276",
       "previous": "fc4ad690-3e86-11ea-9d05-02420a010276"
      },
      {
       "current": "e6e1568e-3e87-11ea-b800-02420a010276",
       "next": "e6e157ce-3e87-11ea-b800-02420a010276",
       "previous": "e6e15576-3e87-11ea-b800-02420a010276"
      },
      {
       "current": "600a0c4c-40e3-11ea-a1ce-02420a010276",
       "next": "600a0d82-40e3-11ea-a1ce-02420a010276",
       "previous": "600a0b48-40e3-11ea-a1ce-02420a010276"
      }
     ],
     "next": "600a0d82-40e3-11ea-a1ce-02420a010276",
     "previous": "600a09fe-40e3-11ea-a1ce-02420a010276"
    }
   },
   "source": [
    "# 課題は以上で終わりです。"
   ]
  },
  {
   "cell_type": "markdown",
   "metadata": {
    "lc_cell_meme": {
     "current": "600a0d82-40e3-11ea-a1ce-02420a010276",
     "history": [
      {
       "current": "179a929a-fa36-11e9-bc54-02420a010e28",
       "next": "179a939e-fa36-11e9-bc54-02420a010e28",
       "previous": "179a9196-fa36-11e9-bc54-02420a010e28"
      },
      {
       "current": "224dcca8-fae4-11e9-ad73-02420a01004a",
       "next": "224dcf1e-fae4-11e9-ad73-02420a01004a",
       "previous": "224dcb5e-fae4-11e9-ad73-02420a01004a"
      },
      {
       "current": "7daaefa2-216f-11ea-8205-02420a0104c6",
       "next": "7daaf092-216f-11ea-8205-02420a0104c6",
       "previous": "7daaeeb2-216f-11ea-8205-02420a0104c6"
      },
      {
       "current": "fc4ada14-3e86-11ea-9d05-02420a010276",
       "next": "fc4adb22-3e86-11ea-9d05-02420a010276",
       "previous": "fc4ad8e8-3e86-11ea-9d05-02420a010276"
      },
      {
       "current": "e6e157ce-3e87-11ea-b800-02420a010276",
       "next": "e6e158dc-3e87-11ea-b800-02420a010276",
       "previous": "e6e1568e-3e87-11ea-b800-02420a010276"
      }
     ],
     "next": "600a0e90-40e3-11ea-a1ce-02420a010276",
     "previous": "600a0c4c-40e3-11ea-a1ce-02420a010276"
    }
   },
   "source": [
    "## 評価結果"
   ]
  },
  {
   "cell_type": "code",
   "execution_count": null,
   "metadata": {
    "lc_cell_meme": {
     "current": "600a0e90-40e3-11ea-a1ce-02420a010276",
     "history": [
      {
       "current": "179a939e-fa36-11e9-bc54-02420a010e28",
       "next": "179a9498-fa36-11e9-bc54-02420a010e28",
       "previous": "179a929a-fa36-11e9-bc54-02420a010e28"
      },
      {
       "current": "224dcf1e-fae4-11e9-ad73-02420a01004a",
       "next": "224dd0a4-fae4-11e9-ad73-02420a01004a",
       "previous": "224dcca8-fae4-11e9-ad73-02420a01004a"
      },
      {
       "current": "7daaf092-216f-11ea-8205-02420a0104c6",
       "next": "7daaf182-216f-11ea-8205-02420a0104c6",
       "previous": "7daaefa2-216f-11ea-8205-02420a0104c6"
      },
      {
       "current": "fc4adb22-3e86-11ea-9d05-02420a010276",
       "next": "fc4adc30-3e86-11ea-9d05-02420a010276",
       "previous": "fc4ada14-3e86-11ea-9d05-02420a010276"
      },
      {
       "current": "e6e158dc-3e87-11ea-b800-02420a010276",
       "next": "e6e159f4-3e87-11ea-b800-02420a010276",
       "previous": "e6e157ce-3e87-11ea-b800-02420a010276"
      }
     ],
     "next": "600a100c-40e3-11ea-a1ce-02420a010276",
     "previous": "600a0d82-40e3-11ea-a1ce-02420a010276"
    }
   },
   "outputs": [],
   "source": []
  },
  {
   "cell_type": "markdown",
   "metadata": {
    "lc_cell_meme": {
     "current": "600a100c-40e3-11ea-a1ce-02420a010276",
     "history": [
      {
       "current": "179a9498-fa36-11e9-bc54-02420a010e28",
       "next": "179a9592-fa36-11e9-bc54-02420a010e28",
       "previous": "179a939e-fa36-11e9-bc54-02420a010e28"
      },
      {
       "current": "224dd0a4-fae4-11e9-ad73-02420a01004a",
       "next": "224dd202-fae4-11e9-ad73-02420a01004a",
       "previous": "224dcf1e-fae4-11e9-ad73-02420a01004a"
      },
      {
       "current": "7daaf182-216f-11ea-8205-02420a0104c6",
       "next": "7daaf272-216f-11ea-8205-02420a0104c6",
       "previous": "7daaf092-216f-11ea-8205-02420a0104c6"
      },
      {
       "current": "fc4adc30-3e86-11ea-9d05-02420a010276",
       "next": "fc4add3e-3e86-11ea-9d05-02420a010276",
       "previous": "fc4adb22-3e86-11ea-9d05-02420a010276"
      },
      {
       "current": "e6e159f4-3e87-11ea-b800-02420a010276",
       "next": "e6e15b98-3e87-11ea-b800-02420a010276",
       "previous": "e6e158dc-3e87-11ea-b800-02420a010276"
      }
     ],
     "next": "600a1142-40e3-11ea-a1ce-02420a010276",
     "previous": "600a0e90-40e3-11ea-a1ce-02420a010276"
    }
   },
   "source": [
    "## コメントなど"
   ]
  },
  {
   "cell_type": "code",
   "execution_count": null,
   "metadata": {
    "lc_cell_meme": {
     "current": "600a1142-40e3-11ea-a1ce-02420a010276",
     "history": [
      {
       "current": "179a9592-fa36-11e9-bc54-02420a010e28",
       "next": null,
       "previous": "179a9498-fa36-11e9-bc54-02420a010e28"
      },
      {
       "current": "224dd202-fae4-11e9-ad73-02420a01004a",
       "next": null,
       "previous": "224dd0a4-fae4-11e9-ad73-02420a01004a"
      },
      {
       "current": "7daaf272-216f-11ea-8205-02420a0104c6",
       "next": null,
       "previous": "7daaf182-216f-11ea-8205-02420a0104c6"
      },
      {
       "current": "fc4add3e-3e86-11ea-9d05-02420a010276",
       "next": null,
       "previous": "fc4adc30-3e86-11ea-9d05-02420a010276"
      },
      {
       "current": "e6e15b98-3e87-11ea-b800-02420a010276",
       "next": null,
       "previous": "e6e159f4-3e87-11ea-b800-02420a010276"
      }
     ],
     "next": null,
     "previous": "600a100c-40e3-11ea-a1ce-02420a010276"
    }
   },
   "outputs": [],
   "source": []
  }
 ],
 "metadata": {
  "kernelspec": {
   "display_name": "Python 3",
   "language": "python",
   "name": "python3"
  },
  "language_info": {
   "file_extension": ".py",
   "mimetype": "text/x-python",
   "name": "python",
   "nbconvert_exporter": "python",
   "pygments_lexer": "ipython3",
   "version": "3.7.3"
  },
  "lc_notebook_meme": {
   "current": "6009be68-40e3-11ea-a1ce-02420a010276",
   "history": [
    "efa662f6-96de-11e9-8b94-e0d55ea40caf",
    "b38b6614-96e2-11e9-893e-02420a010063",
    "224da282-fae4-11e9-ad73-02420a01004a",
    "7daac6e4-216f-11ea-8205-02420a0104c6",
    "fc4a8e2e-3e86-11ea-9d05-02420a010276",
    "e6e10922-3e87-11ea-b800-02420a010276"
   ],
   "lc_server_signature": {
    "current": {
     "notebook_dir": "/home/10999542xb8011f",
     "notebook_path": "/15",
     "server_url": "https://nb06.ecloud.nii.ac.jp/user/10999542xb8011f/",
     "signature_id": "1a06912c-df61-11e9-891d-02420a01002c"
    },
    "history": [
     {
      "notebook_dir": "/home/kuwata/notebooks",
      "notebook_path": "/",
      "server_url": "http://157.19.141.8:8000/user/kuwata/",
      "signature_id": "d0abe7ae-153d-11e9-9674-e0d55ea40caf"
     },
     {
      "notebook_dir": "/home/16999405x4b0807",
      "notebook_path": "/06a",
      "server_url": "https://nb06.ecloud.nii.ac.jp/user/16999405x4b0807/",
      "signature_id": "9dd54594-df60-11e9-8bcf-02420a010029"
     },
     {
      "notebook_dir": "/home/16999405x4b0807",
      "notebook_path": "/12a",
      "server_url": "https://nb06.ecloud.nii.ac.jp/user/16999405x4b0807/",
      "signature_id": "9dd54594-df60-11e9-8bcf-02420a010029"
     },
     {
      "notebook_dir": "/home/10999542xb8011f",
      "notebook_path": "/15work",
      "server_url": "https://nb06.ecloud.nii.ac.jp/user/10999542xb8011f/",
      "signature_id": "1a06912c-df61-11e9-891d-02420a01002c"
     },
     {
      "notebook_dir": "/home/10999542xb8011f",
      "notebook_path": "/15a",
      "server_url": "https://nb06.ecloud.nii.ac.jp/user/10999542xb8011f/",
      "signature_id": "1a06912c-df61-11e9-891d-02420a01002c"
     }
    ]
   },
   "root_cells": [
    "6009c458-40e3-11ea-a1ce-02420a010276",
    "6009c606-40e3-11ea-a1ce-02420a010276",
    "6009c76e-40e3-11ea-a1ce-02420a010276",
    "6009c8ae-40e3-11ea-a1ce-02420a010276",
    "6009ca0c-40e3-11ea-a1ce-02420a010276",
    "6009cb4c-40e3-11ea-a1ce-02420a010276",
    "6009cc82-40e3-11ea-a1ce-02420a010276",
    "6009cdc2-40e3-11ea-a1ce-02420a010276",
    "6009ced0-40e3-11ea-a1ce-02420a010276",
    "6009d010-40e3-11ea-a1ce-02420a010276",
    "6009d2ae-40e3-11ea-a1ce-02420a010276",
    "6009d40c-40e3-11ea-a1ce-02420a010276",
    "6009d560-40e3-11ea-a1ce-02420a010276",
    "6009d6aa-40e3-11ea-a1ce-02420a010276",
    "6009d81c-40e3-11ea-a1ce-02420a010276",
    "6009d966-40e3-11ea-a1ce-02420a010276",
    "6009daba-40e3-11ea-a1ce-02420a010276",
    "6009dc40-40e3-11ea-a1ce-02420a010276",
    "6009deac-40e3-11ea-a1ce-02420a010276",
    "6009dff6-40e3-11ea-a1ce-02420a010276",
    "6009e12c-40e3-11ea-a1ce-02420a010276",
    "6009e29e-40e3-11ea-a1ce-02420a010276",
    "6009e3d4-40e3-11ea-a1ce-02420a010276",
    "6009e51e-40e3-11ea-a1ce-02420a010276",
    "6009e668-40e3-11ea-a1ce-02420a010276",
    "6009e7a8-40e3-11ea-a1ce-02420a010276",
    "6009e988-40e3-11ea-a1ce-02420a010276",
    "6009eae6-40e3-11ea-a1ce-02420a010276",
    "6009ebf4-40e3-11ea-a1ce-02420a010276",
    "6009ed48-40e3-11ea-a1ce-02420a010276",
    "6009ee88-40e3-11ea-a1ce-02420a010276",
    "6009efb4-40e3-11ea-a1ce-02420a010276",
    "6009f0f4-40e3-11ea-a1ce-02420a010276",
    "6009f248-40e3-11ea-a1ce-02420a010276",
    "6009f374-40e3-11ea-a1ce-02420a010276",
    "6009f4c8-40e3-11ea-a1ce-02420a010276",
    "6009f608-40e3-11ea-a1ce-02420a010276",
    "6009f842-40e3-11ea-a1ce-02420a010276",
    "6009f9be-40e3-11ea-a1ce-02420a010276",
    "6009fb26-40e3-11ea-a1ce-02420a010276",
    "6009fc8e-40e3-11ea-a1ce-02420a010276",
    "6009fdba-40e3-11ea-a1ce-02420a010276",
    "6009ff22-40e3-11ea-a1ce-02420a010276",
    "600a006c-40e3-11ea-a1ce-02420a010276",
    "600a01b6-40e3-11ea-a1ce-02420a010276",
    "600a02e2-40e3-11ea-a1ce-02420a010276",
    "600a053a-40e3-11ea-a1ce-02420a010276",
    "600a0670-40e3-11ea-a1ce-02420a010276",
    "600a07ba-40e3-11ea-a1ce-02420a010276",
    "600a08c8-40e3-11ea-a1ce-02420a010276",
    "600a09fe-40e3-11ea-a1ce-02420a010276",
    "600a0b48-40e3-11ea-a1ce-02420a010276",
    "600a0c4c-40e3-11ea-a1ce-02420a010276",
    "600a0d82-40e3-11ea-a1ce-02420a010276",
    "600a0e90-40e3-11ea-a1ce-02420a010276",
    "600a100c-40e3-11ea-a1ce-02420a010276",
    "600a1142-40e3-11ea-a1ce-02420a010276"
   ]
  },
  "toc": {
   "base_numbering": 1,
   "nav_menu": {},
   "number_sections": true,
   "sideBar": true,
   "skip_h1_title": false,
   "title_cell": "Table of Contents",
   "title_sidebar": "Contents",
   "toc_cell": false,
   "toc_position": {},
   "toc_section_display": true,
   "toc_window_display": true
  }
 },
 "nbformat": 4,
 "nbformat_minor": 2
}
