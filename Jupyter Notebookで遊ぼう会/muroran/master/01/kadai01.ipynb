{
 "cells": [
  {
   "cell_type": "markdown",
   "metadata": {
    "lc_cell_meme": {
     "current": "07ac249a-e0b7-11e9-8309-02420a010059",
     "history": [
      {
       "current": "07ac249a-e0b7-11e9-8309-02420a010059",
       "next": null,
       "previous": "78979046-e0b6-11e9-8309-02420a010059"
      }
     ],
     "next": "78979046-e0b6-11e9-8309-02420a010059",
     "previous": null
    }
   },
   "source": [
    "# 第一回演習課題"
   ]
  },
  {
   "cell_type": "markdown",
   "metadata": {
    "lc_cell_meme": {
     "current": "78979046-e0b6-11e9-8309-02420a010059",
     "history": [
      {
       "current": "78979046-e0b6-11e9-8309-02420a010059",
       "next": null,
       "previous": null
      },
      {
       "current": "78979046-e0b6-11e9-8309-02420a010059",
       "next": "07ac249a-e0b7-11e9-8309-02420a010059",
       "previous": null
      }
     ],
     "next": "4873f2aa-e0b7-11e9-8309-02420a010059",
     "previous": "07ac249a-e0b7-11e9-8309-02420a010059"
    }
   },
   "source": [
    "学籍番号：19009999\n",
    "氏名：室蘭太郎"
   ]
  },
  {
   "cell_type": "code",
   "execution_count": 1,
   "metadata": {
    "lc_cell_meme": {
     "current": "4873f2aa-e0b7-11e9-8309-02420a010059",
     "execution_end_time": "2019-09-26T23:43:25.604973Z",
     "next": "96b28efe-e0b7-11e9-8309-02420a010059",
     "previous": "78979046-e0b6-11e9-8309-02420a010059"
    },
    "lc_wrapper": {
     "log_history": [
      "/home/14999410x94c69e/.log/20190927/20190927-084242-0938.log",
      "/home/14999410x94c69e/.log/20190927/20190927-084250-0427.log",
      "/home/14999410x94c69e/.log/20190927/20190927-084325-0585.log"
     ]
    }
   },
   "outputs": [
    {
     "data": {
      "text/plain": [
       "8760"
      ]
     },
     "execution_count": 1,
     "metadata": {},
     "output_type": "execute_result"
    }
   ],
   "source": [
    "365 * 24"
   ]
  },
  {
   "cell_type": "code",
   "execution_count": 2,
   "metadata": {
    "lc_cell_meme": {
     "current": "96b28efe-e0b7-11e9-8309-02420a010059",
     "execution_end_time": "2019-09-26T23:43:55.218083Z",
     "next": "96b2930e-e0b7-11e9-8309-02420a010059",
     "previous": "4873f2aa-e0b7-11e9-8309-02420a010059"
    },
    "lc_wrapper": {
     "log_history": [
      "/home/14999410x94c69e/.log/20190927/20190927-084355-0208.log"
     ]
    }
   },
   "outputs": [
    {
     "data": {
      "text/plain": [
       "52.142857142857146"
      ]
     },
     "execution_count": 2,
     "metadata": {},
     "output_type": "execute_result"
    }
   ],
   "source": [
    "365 / 7"
   ]
  },
  {
   "cell_type": "code",
   "execution_count": null,
   "metadata": {
    "lc_cell_meme": {
     "current": "96b2930e-e0b7-11e9-8309-02420a010059",
     "next": null,
     "previous": "96b28efe-e0b7-11e9-8309-02420a010059"
    }
   },
   "outputs": [],
   "source": []
  }
 ],
 "metadata": {
  "kernelspec": {
   "display_name": "Python 3",
   "language": "python",
   "name": "python3"
  },
  "language_info": {
   "file_extension": ".py",
   "mimetype": "text/x-python",
   "name": "python",
   "nbconvert_exporter": "python",
   "pygments_lexer": "ipython3",
   "version": "3.7.3"
  },
  "lc_notebook_meme": {
   "current": "78978c04-e0b6-11e9-8309-02420a010059",
   "lc_server_signature": {
    "current": {
     "notebook_dir": "/home/14999410x94c69e",
     "notebook_path": "/",
     "server_url": "https://nb06.ecloud.nii.ac.jp/user/14999410x94c69e/",
     "signature_id": "360553ae-df66-11e9-8262-02420a010037"
    },
    "history": []
   }
  },
  "toc": {
   "base_numbering": 1,
   "nav_menu": {},
   "number_sections": true,
   "sideBar": true,
   "skip_h1_title": false,
   "title_cell": "Table of Contents",
   "title_sidebar": "Contents",
   "toc_cell": false,
   "toc_position": {},
   "toc_section_display": true,
   "toc_window_display": false
  }
 },
 "nbformat": 4,
 "nbformat_minor": 2
}
