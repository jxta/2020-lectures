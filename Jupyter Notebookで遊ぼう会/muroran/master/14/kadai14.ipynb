{
 "cells": [
  {
   "cell_type": "markdown",
   "metadata": {
    "lc_cell_meme": {
     "current": "a8d4fbbc-3bf2-11ea-b99e-02420a010f96",
     "history": [
      {
       "current": "4baeeaaa-96df-11e9-8b94-e0d55ea40caf",
       "next": "4baeeaab-96df-11e9-8b94-e0d55ea40caf",
       "previous": null
      },
      {
       "current": "b38b6c40-96e2-11e9-893e-02420a010063",
       "next": "b38b6de4-96e2-11e9-893e-02420a010063",
       "previous": null
      },
      {
       "current": "224daab6-fae4-11e9-ad73-02420a01004a",
       "next": "224dacdc-fae4-11e9-ad73-02420a01004a",
       "previous": null
      },
      {
       "current": "4e851f18-37e0-11ea-9644-02420a010db7",
       "next": "4e852102-37e0-11ea-9644-02420a010db7",
       "previous": null
      }
     ],
     "next": "a8d4ff2c-3bf2-11ea-b99e-02420a010f96",
     "previous": null
    }
   },
   "source": [
    "# プログラミング入門\n",
    "  第14回　シミュレーション（2）モンテカルロ法（課題）"
   ]
  },
  {
   "cell_type": "markdown",
   "metadata": {
    "lc_cell_meme": {
     "current": "a8d4ff2c-3bf2-11ea-b99e-02420a010f96",
     "history": [
      {
       "current": "4baeeaab-96df-11e9-8b94-e0d55ea40caf",
       "next": "4baeeaac-96df-11e9-8b94-e0d55ea40caf",
       "previous": "4baeeaaa-96df-11e9-8b94-e0d55ea40caf"
      },
      {
       "current": "b38b6de4-96e2-11e9-893e-02420a010063",
       "next": "b38b6eca-96e2-11e9-893e-02420a010063",
       "previous": "b38b6c40-96e2-11e9-893e-02420a010063"
      },
      {
       "current": "224dacdc-fae4-11e9-ad73-02420a01004a",
       "next": "224dae9e-fae4-11e9-ad73-02420a01004a",
       "previous": "224daab6-fae4-11e9-ad73-02420a01004a"
      },
      {
       "current": "4e852102-37e0-11ea-9644-02420a010db7",
       "next": "4e852256-37e0-11ea-9644-02420a010db7",
       "previous": "4e851f18-37e0-11ea-9644-02420a010db7"
      }
     ],
     "next": "a8d5009e-3bf2-11ea-b99e-02420a010f96",
     "previous": "a8d4fbbc-3bf2-11ea-b99e-02420a010f96"
    }
   },
   "source": [
    "次のセルに、自分の名前と学籍番号を記入して下さい。"
   ]
  },
  {
   "cell_type": "raw",
   "metadata": {
    "lc_cell_meme": {
     "current": "a8d5009e-3bf2-11ea-b99e-02420a010f96",
     "history": [
      {
       "current": "4baeeaac-96df-11e9-8b94-e0d55ea40caf",
       "next": "efa662f7-96de-11e9-8b94-e0d55ea40caf",
       "previous": "4baeeaab-96df-11e9-8b94-e0d55ea40caf"
      },
      {
       "current": "4baeeaac-96df-11e9-8b94-e0d55ea40caf",
       "next": "efa662f7-96de-11e9-8b94-e0d55ea40caf",
       "previous": "4baeeaab-96df-11e9-8b94-e0d55ea40caf"
      },
      {
       "current": "4baeeaac-96df-11e9-8b94-e0d55ea40caf",
       "next": "933950fe-96df-11e9-8b94-e0d55ea40caf",
       "previous": "4baeeaac-96df-11e9-8b94-e0d55ea40caf"
      },
      {
       "current": "4baeeaac-96df-11e9-8b94-e0d55ea40caf",
       "next": "933950fe-96df-11e9-8b94-e0d55ea40caf",
       "previous": "4baeeaac-96df-11e9-8b94-e0d55ea40caf"
      },
      {
       "current": "4baeeaac-96df-11e9-8b94-e0d55ea40caf",
       "next": "933950fe-96df-11e9-8b94-e0d55ea40caf",
       "previous": "4baeeaac-96df-11e9-8b94-e0d55ea40caf"
      },
      {
       "current": "4baeeaac-96df-11e9-8b94-e0d55ea40caf",
       "next": "933950fe-96df-11e9-8b94-e0d55ea40caf",
       "previous": "4baeeaac-96df-11e9-8b94-e0d55ea40caf"
      },
      {
       "current": "4baeeaac-96df-11e9-8b94-e0d55ea40caf",
       "next": "933950fe-96df-11e9-8b94-e0d55ea40caf",
       "previous": "4baeeaac-96df-11e9-8b94-e0d55ea40caf"
      },
      {
       "current": "4baeeaac-96df-11e9-8b94-e0d55ea40caf",
       "next": "933950fe-96df-11e9-8b94-e0d55ea40caf",
       "previous": "4baeeaac-96df-11e9-8b94-e0d55ea40caf"
      },
      {
       "current": "4baeeaac-96df-11e9-8b94-e0d55ea40caf",
       "next": "933950fe-96df-11e9-8b94-e0d55ea40caf",
       "previous": "4baeeaac-96df-11e9-8b94-e0d55ea40caf"
      },
      {
       "current": "4baeeaac-96df-11e9-8b94-e0d55ea40caf",
       "next": "933950fe-96df-11e9-8b94-e0d55ea40caf",
       "previous": "4baeeaac-96df-11e9-8b94-e0d55ea40caf"
      },
      {
       "current": "4baeeaac-96df-11e9-8b94-e0d55ea40caf",
       "next": "933950fe-96df-11e9-8b94-e0d55ea40caf",
       "previous": "4baeeaac-96df-11e9-8b94-e0d55ea40caf"
      },
      {
       "current": "4baeeaac-96df-11e9-8b94-e0d55ea40caf",
       "next": "933950fe-96df-11e9-8b94-e0d55ea40caf",
       "previous": "4baeeaac-96df-11e9-8b94-e0d55ea40caf"
      },
      {
       "current": "4baeeaac-96df-11e9-8b94-e0d55ea40caf",
       "next": "4baeeaac-96df-11e9-8b94-e0d55ea40caf",
       "previous": "4baeeaab-96df-11e9-8b94-e0d55ea40caf"
      },
      {
       "current": "b38b6eca-96e2-11e9-893e-02420a010063",
       "next": "b38b6fc4-96e2-11e9-893e-02420a010063",
       "previous": "b38b6de4-96e2-11e9-893e-02420a010063"
      },
      {
       "current": "224dae9e-fae4-11e9-ad73-02420a01004a",
       "next": "224db074-fae4-11e9-ad73-02420a01004a",
       "previous": "224dacdc-fae4-11e9-ad73-02420a01004a"
      },
      {
       "current": "4e852256-37e0-11ea-9644-02420a010db7",
       "next": "4e852378-37e0-11ea-9644-02420a010db7",
       "previous": "4e852102-37e0-11ea-9644-02420a010db7"
      }
     ],
     "next": "a8d501de-3bf2-11ea-b99e-02420a010f96",
     "previous": "a8d4ff2c-3bf2-11ea-b99e-02420a010f96"
    }
   },
   "source": [
    "学籍番号：　　　　　　　　　　　氏名："
   ]
  },
  {
   "cell_type": "markdown",
   "metadata": {
    "lc_cell_meme": {
     "current": "a8d501de-3bf2-11ea-b99e-02420a010f96",
     "history": [
      {
       "current": "4baeeaac-96df-11e9-8b94-e0d55ea40caf",
       "next": "efa662f7-96de-11e9-8b94-e0d55ea40caf",
       "previous": "4baeeaab-96df-11e9-8b94-e0d55ea40caf"
      },
      {
       "current": "4baeeaac-96df-11e9-8b94-e0d55ea40caf",
       "next": "efa662f7-96de-11e9-8b94-e0d55ea40caf",
       "previous": "4baeeaab-96df-11e9-8b94-e0d55ea40caf"
      },
      {
       "current": "4baeeaac-96df-11e9-8b94-e0d55ea40caf",
       "next": "933950fe-96df-11e9-8b94-e0d55ea40caf",
       "previous": "4baeeaac-96df-11e9-8b94-e0d55ea40caf"
      },
      {
       "current": "4baeeaac-96df-11e9-8b94-e0d55ea40caf",
       "next": "933950fe-96df-11e9-8b94-e0d55ea40caf",
       "previous": "4baeeaac-96df-11e9-8b94-e0d55ea40caf"
      },
      {
       "current": "4baeeaac-96df-11e9-8b94-e0d55ea40caf",
       "next": "933950fe-96df-11e9-8b94-e0d55ea40caf",
       "previous": "4baeeaac-96df-11e9-8b94-e0d55ea40caf"
      },
      {
       "current": "4baeeaac-96df-11e9-8b94-e0d55ea40caf",
       "next": "933950fe-96df-11e9-8b94-e0d55ea40caf",
       "previous": "4baeeaac-96df-11e9-8b94-e0d55ea40caf"
      },
      {
       "current": "4baeeaac-96df-11e9-8b94-e0d55ea40caf",
       "next": "933950fe-96df-11e9-8b94-e0d55ea40caf",
       "previous": "4baeeaac-96df-11e9-8b94-e0d55ea40caf"
      },
      {
       "current": "4baeeaac-96df-11e9-8b94-e0d55ea40caf",
       "next": "933950fe-96df-11e9-8b94-e0d55ea40caf",
       "previous": "4baeeaac-96df-11e9-8b94-e0d55ea40caf"
      },
      {
       "current": "4baeeaac-96df-11e9-8b94-e0d55ea40caf",
       "next": "933950fe-96df-11e9-8b94-e0d55ea40caf",
       "previous": "4baeeaac-96df-11e9-8b94-e0d55ea40caf"
      },
      {
       "current": "4baeeaac-96df-11e9-8b94-e0d55ea40caf",
       "next": "933950fe-96df-11e9-8b94-e0d55ea40caf",
       "previous": "4baeeaac-96df-11e9-8b94-e0d55ea40caf"
      },
      {
       "current": "4baeeaac-96df-11e9-8b94-e0d55ea40caf",
       "next": "933950fe-96df-11e9-8b94-e0d55ea40caf",
       "previous": "4baeeaac-96df-11e9-8b94-e0d55ea40caf"
      },
      {
       "current": "4baeeaac-96df-11e9-8b94-e0d55ea40caf",
       "next": "933950fe-96df-11e9-8b94-e0d55ea40caf",
       "previous": "4baeeaac-96df-11e9-8b94-e0d55ea40caf"
      },
      {
       "current": "b38b6fc4-96e2-11e9-893e-02420a010063",
       "next": "b38b7118-96e2-11e9-893e-02420a010063",
       "previous": "b38b6eca-96e2-11e9-893e-02420a010063"
      },
      {
       "current": "b38b6fc4-96e2-11e9-893e-02420a010063",
       "next": "b38b730c-96e2-11e9-893e-02420a010063",
       "previous": "b38b6eca-96e2-11e9-893e-02420a010063"
      },
      {
       "current": "224db074-fae4-11e9-ad73-02420a01004a",
       "next": "224db218-fae4-11e9-ad73-02420a01004a",
       "previous": "224dae9e-fae4-11e9-ad73-02420a01004a"
      },
      {
       "current": "4e852378-37e0-11ea-9644-02420a010db7",
       "next": "4e8524cc-37e0-11ea-9644-02420a010db7",
       "previous": "4e852256-37e0-11ea-9644-02420a010db7"
      }
     ],
     "next": "a8d50314-3bf2-11ea-b99e-02420a010f96",
     "previous": "a8d5009e-3bf2-11ea-b99e-02420a010f96"
    }
   },
   "source": [
    "【進め方の注意】\n",
    "\n",
    "- 文書を読んで、手順に沿って問いに答えながら進めて下さい。\n",
    "- 課題の回答が終わったらファイルを保存して下さい。 \n",
    "- 途中わからないことがあれば、教員またはTAに質問して下さい。\n",
    "\n",
    "【注意事項】\n",
    "\n",
    "確認課題は、単位認定のための点数としてカウントします。\n",
    "\n",
    "確認課題が終わった人は、提出後に退室して構いません。 \n",
    "\n",
    "終わらなくても終了時刻までに提出してください。"
   ]
  },
  {
   "cell_type": "markdown",
   "metadata": {
    "lc_cell_meme": {
     "current": "a8d50314-3bf2-11ea-b99e-02420a010f96",
     "history": [
      {
       "current": "93395100-96df-11e9-8b94-e0d55ea40caf",
       "next": "efa662f7-96de-11e9-8b94-e0d55ea40caf",
       "previous": "933950ff-96df-11e9-8b94-e0d55ea40caf"
      },
      {
       "current": "b38b730c-96e2-11e9-893e-02420a010063",
       "next": "b38b73a2-96e2-11e9-893e-02420a010063",
       "previous": "b38b723a-96e2-11e9-893e-02420a010063"
      },
      {
       "current": "b38b730c-96e2-11e9-893e-02420a010063",
       "next": "b38b730c-96e2-11e9-893e-02420a010063",
       "previous": "b38b6fc4-96e2-11e9-893e-02420a010063"
      },
      {
       "current": "224db218-fae4-11e9-ad73-02420a01004a",
       "next": "224db43e-fae4-11e9-ad73-02420a01004a",
       "previous": "224db074-fae4-11e9-ad73-02420a01004a"
      },
      {
       "current": "224db218-fae4-11e9-ad73-02420a01004a",
       "next": "54193768-36f8-11ea-9ea4-02420a010a70",
       "previous": "224db074-fae4-11e9-ad73-02420a01004a"
      },
      {
       "current": "4e8524cc-37e0-11ea-9644-02420a010db7",
       "next": "4e8526ca-37e0-11ea-9644-02420a010db7",
       "previous": "4e852378-37e0-11ea-9644-02420a010db7"
      }
     ],
     "next": "a8d50454-3bf2-11ea-b99e-02420a010f96",
     "previous": "a8d501de-3bf2-11ea-b99e-02420a010f96"
    }
   },
   "source": [
    "## 課題：シミュレーション（2）モンテカルロ法"
   ]
  },
  {
   "cell_type": "markdown",
   "metadata": {
    "lc_cell_meme": {
     "current": "a8d50454-3bf2-11ea-b99e-02420a010f96",
     "history": [
      {
       "current": "54193768-36f8-11ea-9ea4-02420a010a70",
       "next": "54193970-36f8-11ea-9ea4-02420a010a70",
       "previous": "224db218-fae4-11e9-ad73-02420a01004a"
      },
      {
       "current": "4e8526ca-37e0-11ea-9644-02420a010db7",
       "next": "4e8527e2-37e0-11ea-9644-02420a010db7",
       "previous": "4e8524cc-37e0-11ea-9644-02420a010db7"
      }
     ],
     "next": "a8d50580-3bf2-11ea-b99e-02420a010f96",
     "previous": "a8d50314-3bf2-11ea-b99e-02420a010f96"
    }
   },
   "source": [
    "$x$、$y$、$z$は、表1に示す確率分布を持つ確率変数です。変数$w$が、\n",
    "\n",
    "$w = 3x + 2y + z$\n",
    "\n",
    "と表されるとします。このとき、以下の手順に従って、モンテカルロ法により$w$の値を100,000回求めヒストグラムに表示し、その平均と標準偏差を求めなさい。"
   ]
  },
  {
   "cell_type": "markdown",
   "metadata": {
    "lc_cell_meme": {
     "current": "a8d50580-3bf2-11ea-b99e-02420a010f96",
     "history": [
      {
       "current": "54193970-36f8-11ea-9ea4-02420a010a70",
       "next": "224dba06-fae4-11e9-ad73-02420a01004a",
       "previous": "54193768-36f8-11ea-9ea4-02420a010a70"
      },
      {
       "current": "4e8527e2-37e0-11ea-9644-02420a010db7",
       "next": "4e8528fa-37e0-11ea-9644-02420a010db7",
       "previous": "4e8526ca-37e0-11ea-9644-02420a010db7"
      }
     ],
     "next": "a8d506b6-3bf2-11ea-b99e-02420a010f96",
     "previous": "a8d50454-3bf2-11ea-b99e-02420a010f96"
    }
   },
   "source": [
    "#### <center>表1　$x$の確率分布</center>\n",
    "|$x$|0|1|2|3|4|5|6|7|\n",
    "|---|---|---|---|---|---|---|---|---|\n",
    "|$P(x)$: 確率|0.05|0.10|0.15|0.20|0.20|0.15|0.10|0.05|\n",
    "\n",
    "#### <center>表2　$y$の確率分布</center>\n",
    "|$y$|2|3|4|5|6|\n",
    "|---|---|---|---|---|---|\n",
    "|$P(y)$: 確率|0.20|0.25|0.25|0.20|0.10|\n",
    "\n",
    "#### <center>表3　$z$の確率分布</center>\n",
    "|$z$|6|7|8|9|\n",
    "|---|---|---|---|---|\n",
    "|$P(z)$: 確率|0.20|0.45|0.25|0.10|"
   ]
  },
  {
   "cell_type": "markdown",
   "metadata": {
    "lc_cell_meme": {
     "current": "a8d506b6-3bf2-11ea-b99e-02420a010f96",
     "history": [
      {
       "current": "93395100-96df-11e9-8b94-e0d55ea40caf",
       "next": "efa662f7-96de-11e9-8b94-e0d55ea40caf",
       "previous": "933950ff-96df-11e9-8b94-e0d55ea40caf"
      },
      {
       "current": "b38b730c-96e2-11e9-893e-02420a010063",
       "next": "b38b73a2-96e2-11e9-893e-02420a010063",
       "previous": "b38b723a-96e2-11e9-893e-02420a010063"
      },
      {
       "current": "b38b730c-96e2-11e9-893e-02420a010063",
       "next": "179a8c8c-fa36-11e9-bc54-02420a010e28",
       "previous": "179a8b74-fa36-11e9-bc54-02420a010e28"
      },
      {
       "current": "224dba06-fae4-11e9-ad73-02420a01004a",
       "next": "224dbb50-fae4-11e9-ad73-02420a01004a",
       "previous": "224db8bc-fae4-11e9-ad73-02420a01004a"
      },
      {
       "current": "224dba06-fae4-11e9-ad73-02420a01004a",
       "next": "54193a88-36f8-11ea-9ea4-02420a010a70",
       "previous": "54193970-36f8-11ea-9ea4-02420a010a70"
      },
      {
       "current": "4e8528fa-37e0-11ea-9644-02420a010db7",
       "next": "4e852aa8-37e0-11ea-9644-02420a010db7",
       "previous": "4e8527e2-37e0-11ea-9644-02420a010db7"
      }
     ],
     "next": "a8d50878-3bf2-11ea-b99e-02420a010f96",
     "previous": "a8d50580-3bf2-11ea-b99e-02420a010f96"
    }
   },
   "source": [
    "### 準備：モジュールのインポート"
   ]
  },
  {
   "cell_type": "markdown",
   "metadata": {
    "lc_cell_meme": {
     "current": "a8d50878-3bf2-11ea-b99e-02420a010f96",
     "history": [
      {
       "current": "54193a88-36f8-11ea-9ea4-02420a010a70",
       "next": "54193b8c-36f8-11ea-9ea4-02420a010a70",
       "previous": "224dba06-fae4-11e9-ad73-02420a01004a"
      },
      {
       "current": "4e852aa8-37e0-11ea-9644-02420a010db7",
       "next": "4e852c6a-37e0-11ea-9644-02420a010db7",
       "previous": "4e8528fa-37e0-11ea-9644-02420a010db7"
      }
     ],
     "next": "a8d50990-3bf2-11ea-b99e-02420a010f96",
     "previous": "a8d506b6-3bf2-11ea-b99e-02420a010f96"
    }
   },
   "source": [
    "確率分布にしたがったサンプルの作成のために、事前に`random`モジュールをインポートしなさい。さらに、グラフ作成に備えて`matplotlib`モジュールをインポートしなさい。"
   ]
  },
  {
   "cell_type": "code",
   "execution_count": null,
   "metadata": {
    "lc_cell_meme": {
     "current": "a8d50990-3bf2-11ea-b99e-02420a010f96",
     "history": [
      {
       "current": "54193b8c-36f8-11ea-9ea4-02420a010a70",
       "next": "54193c7c-36f8-11ea-9ea4-02420a010a70",
       "previous": "54193a88-36f8-11ea-9ea4-02420a010a70"
      },
      {
       "current": "4e852c6a-37e0-11ea-9644-02420a010db7",
       "next": "4e852d64-37e0-11ea-9644-02420a010db7",
       "previous": "4e852aa8-37e0-11ea-9644-02420a010db7"
      }
     ],
     "next": "a8d50a94-3bf2-11ea-b99e-02420a010f96",
     "previous": "a8d50878-3bf2-11ea-b99e-02420a010f96"
    },
    "lc_wrapper": {
     "log_history": [
      "/home/16999405x4b0807/14a/.log/20200116/20200116-061157-0734.log",
      "/home/16999405x4b0807/14a/.log/20200121/20200121-094533-0656.log"
     ]
    }
   },
   "outputs": [],
   "source": [
    "# このセルを評価すること。\n",
    "import random"
   ]
  },
  {
   "cell_type": "code",
   "execution_count": null,
   "metadata": {
    "lc_cell_meme": {
     "current": "a8d50a94-3bf2-11ea-b99e-02420a010f96",
     "history": [
      {
       "current": "54193c7c-36f8-11ea-9ea4-02420a010a70",
       "next": "224dba06-fae4-11e9-ad73-02420a01004a",
       "previous": "54193b8c-36f8-11ea-9ea4-02420a010a70"
      },
      {
       "current": "4e852d64-37e0-11ea-9644-02420a010db7",
       "next": "4e852e90-37e0-11ea-9644-02420a010db7",
       "previous": "4e852c6a-37e0-11ea-9644-02420a010db7"
      }
     ],
     "next": "a8d50bb6-3bf2-11ea-b99e-02420a010f96",
     "previous": "a8d50990-3bf2-11ea-b99e-02420a010f96"
    },
    "lc_wrapper": {
     "log_history": [
      "/home/16999405x4b0807/14a/.log/20200116/20200116-061158-0334.log",
      "/home/16999405x4b0807/14a/.log/20200121/20200121-094534-0264.log"
     ]
    }
   },
   "outputs": [],
   "source": [
    "# このセルを評価すること。\n",
    "%matplotlib inline\n",
    "import matplotlib.pyplot as plt"
   ]
  },
  {
   "cell_type": "markdown",
   "metadata": {
    "lc_cell_meme": {
     "current": "a8d50bb6-3bf2-11ea-b99e-02420a010f96",
     "history": [
      {
       "current": "93395100-96df-11e9-8b94-e0d55ea40caf",
       "next": "efa662f7-96de-11e9-8b94-e0d55ea40caf",
       "previous": "933950ff-96df-11e9-8b94-e0d55ea40caf"
      },
      {
       "current": "b38b730c-96e2-11e9-893e-02420a010063",
       "next": "b38b73a2-96e2-11e9-893e-02420a010063",
       "previous": "b38b723a-96e2-11e9-893e-02420a010063"
      },
      {
       "current": "b38b730c-96e2-11e9-893e-02420a010063",
       "next": "179a8c8c-fa36-11e9-bc54-02420a010e28",
       "previous": "179a8b74-fa36-11e9-bc54-02420a010e28"
      },
      {
       "current": "224dba06-fae4-11e9-ad73-02420a01004a",
       "next": "224dbb50-fae4-11e9-ad73-02420a01004a",
       "previous": "224db8bc-fae4-11e9-ad73-02420a01004a"
      },
      {
       "current": "224dba06-fae4-11e9-ad73-02420a01004a",
       "next": "224dbb50-fae4-11e9-ad73-02420a01004a",
       "previous": "54193c7c-36f8-11ea-9ea4-02420a010a70"
      },
      {
       "current": "4e852e90-37e0-11ea-9644-02420a010db7",
       "next": "4e852f94-37e0-11ea-9644-02420a010db7",
       "previous": "4e852d64-37e0-11ea-9644-02420a010db7"
      }
     ],
     "next": "a8d50cc4-3bf2-11ea-b99e-02420a010f96",
     "previous": "a8d50a94-3bf2-11ea-b99e-02420a010f96"
    }
   },
   "source": [
    "### 課題1：変数$x$、$y$、$z$の確率分布の作成"
   ]
  },
  {
   "cell_type": "markdown",
   "metadata": {
    "lc_cell_meme": {
     "current": "a8d50cc4-3bf2-11ea-b99e-02420a010f96",
     "history": [
      {
       "current": "179a8c8c-fa36-11e9-bc54-02420a010e28",
       "next": "179a8d9a-fa36-11e9-bc54-02420a010e28",
       "previous": "b38b730c-96e2-11e9-893e-02420a010063"
      },
      {
       "current": "224dbb50-fae4-11e9-ad73-02420a01004a",
       "next": "224dbccc-fae4-11e9-ad73-02420a01004a",
       "previous": "224dba06-fae4-11e9-ad73-02420a01004a"
      },
      {
       "current": "224dbb50-fae4-11e9-ad73-02420a01004a",
       "next": "54193d76-36f8-11ea-9ea4-02420a010a70",
       "previous": "224dba06-fae4-11e9-ad73-02420a01004a"
      },
      {
       "current": "4e852f94-37e0-11ea-9644-02420a010db7",
       "next": "4e853098-37e0-11ea-9644-02420a010db7",
       "previous": "4e852e90-37e0-11ea-9644-02420a010db7"
      }
     ],
     "next": "a8d50de6-3bf2-11ea-b99e-02420a010f96",
     "previous": "a8d50bb6-3bf2-11ea-b99e-02420a010f96"
    }
   },
   "source": [
    "各変数の確率分布をリストに格納して、プログラムで扱えるようにします。"
   ]
  },
  {
   "cell_type": "markdown",
   "metadata": {
    "lc_cell_meme": {
     "current": "a8d50de6-3bf2-11ea-b99e-02420a010f96",
     "history": [
      {
       "current": "54193d76-36f8-11ea-9ea4-02420a010a70",
       "next": "54193e66-36f8-11ea-9ea4-02420a010a70",
       "previous": "224dbb50-fae4-11e9-ad73-02420a01004a"
      },
      {
       "current": "4e853098-37e0-11ea-9644-02420a010db7",
       "next": "4e8531b0-37e0-11ea-9644-02420a010db7",
       "previous": "4e852f94-37e0-11ea-9644-02420a010db7"
      }
     ],
     "next": "a8d50eea-3bf2-11ea-b99e-02420a010f96",
     "previous": "a8d50cc4-3bf2-11ea-b99e-02420a010f96"
    }
   },
   "source": [
    "変数`x`に、$x$の値の分布を示すリストを、変数`Px`に、$x$の確率$P(x)$の分布を示すリストをそれぞれ代入しなさい。"
   ]
  },
  {
   "cell_type": "code",
   "execution_count": null,
   "metadata": {
    "lc_cell_meme": {
     "current": "a8d50eea-3bf2-11ea-b99e-02420a010f96",
     "history": [
      {
       "current": "54193e66-36f8-11ea-9ea4-02420a010a70",
       "next": "54193f56-36f8-11ea-9ea4-02420a010a70",
       "previous": "54193d76-36f8-11ea-9ea4-02420a010a70"
      },
      {
       "current": "4e8531b0-37e0-11ea-9644-02420a010db7",
       "next": "4e8532c8-37e0-11ea-9644-02420a010db7",
       "previous": "4e853098-37e0-11ea-9644-02420a010db7"
      },
      {
       "current": "4e8531b0-37e0-11ea-9644-02420a010db7",
       "next": "4e8533e0-37e0-11ea-9644-02420a010db7",
       "previous": "4e853098-37e0-11ea-9644-02420a010db7"
      }
     ],
     "next": "a8d50fe4-3bf2-11ea-b99e-02420a010f96",
     "previous": "a8d50de6-3bf2-11ea-b99e-02420a010f96"
    }
   },
   "outputs": [],
   "source": [
    "# 課題入力欄（?を修正すること）\n",
    "x = ???\n",
    "Px = ???"
   ]
  },
  {
   "cell_type": "markdown",
   "metadata": {
    "lc_cell_meme": {
     "current": "a8d50fe4-3bf2-11ea-b99e-02420a010f96",
     "history": [
      {
       "current": "54194046-36f8-11ea-9ea4-02420a010a70",
       "next": "224dbccc-fae4-11e9-ad73-02420a01004a",
       "previous": "54193f56-36f8-11ea-9ea4-02420a010a70"
      },
      {
       "current": "4e8533e0-37e0-11ea-9644-02420a010db7",
       "next": "4e8534da-37e0-11ea-9644-02420a010db7",
       "previous": "4e8532c8-37e0-11ea-9644-02420a010db7"
      },
      {
       "current": "4e8533e0-37e0-11ea-9644-02420a010db7",
       "next": "4e8534da-37e0-11ea-9644-02420a010db7",
       "previous": "4e8531b0-37e0-11ea-9644-02420a010db7"
      }
     ],
     "next": "a8d5111a-3bf2-11ea-b99e-02420a010f96",
     "previous": "a8d50eea-3bf2-11ea-b99e-02420a010f96"
    }
   },
   "source": [
    "同様に、変数`y`に、$y$の値の分布を示すリストを、変数`Py`に、$y$の確率$P(y)$の分布を示すリストをそれぞれ代入しなさい。"
   ]
  },
  {
   "cell_type": "code",
   "execution_count": null,
   "metadata": {
    "lc_cell_meme": {
     "current": "a8d5111a-3bf2-11ea-b99e-02420a010f96",
     "history": [
      {
       "current": "179a8d9a-fa36-11e9-bc54-02420a010e28",
       "next": "179a8e94-fa36-11e9-bc54-02420a010e28",
       "previous": "179a8c8c-fa36-11e9-bc54-02420a010e28"
      },
      {
       "current": "224dbccc-fae4-11e9-ad73-02420a01004a",
       "next": "224dbe34-fae4-11e9-ad73-02420a01004a",
       "previous": "224dbb50-fae4-11e9-ad73-02420a01004a"
      },
      {
       "current": "224dbccc-fae4-11e9-ad73-02420a01004a",
       "next": "224dbe34-fae4-11e9-ad73-02420a01004a",
       "previous": "54194046-36f8-11ea-9ea4-02420a010a70"
      },
      {
       "current": "4e8534da-37e0-11ea-9644-02420a010db7",
       "next": "4e8535fc-37e0-11ea-9644-02420a010db7",
       "previous": "4e8533e0-37e0-11ea-9644-02420a010db7"
      },
      {
       "current": "4e8534da-37e0-11ea-9644-02420a010db7",
       "next": "4e8536f6-37e0-11ea-9644-02420a010db7",
       "previous": "4e8533e0-37e0-11ea-9644-02420a010db7"
      }
     ],
     "next": "a8d51250-3bf2-11ea-b99e-02420a010f96",
     "previous": "a8d50fe4-3bf2-11ea-b99e-02420a010f96"
    }
   },
   "outputs": [],
   "source": [
    "# 課題入力欄（?を修正すること）\n",
    "y = ???\n",
    "Py = ???"
   ]
  },
  {
   "cell_type": "markdown",
   "metadata": {
    "lc_cell_meme": {
     "current": "a8d51250-3bf2-11ea-b99e-02420a010f96",
     "history": [
      {
       "current": "179a8c8c-fa36-11e9-bc54-02420a010e28",
       "next": "179a8d9a-fa36-11e9-bc54-02420a010e28",
       "previous": "b38b730c-96e2-11e9-893e-02420a010063"
      },
      {
       "current": "224dbb50-fae4-11e9-ad73-02420a01004a",
       "next": "224dbccc-fae4-11e9-ad73-02420a01004a",
       "previous": "224dba06-fae4-11e9-ad73-02420a01004a"
      },
      {
       "current": "224dbb50-fae4-11e9-ad73-02420a01004a",
       "next": "224dbccc-fae4-11e9-ad73-02420a01004a",
       "previous": "224dbe34-fae4-11e9-ad73-02420a01004a"
      },
      {
       "current": "4e8536f6-37e0-11ea-9644-02420a010db7",
       "next": "4e853818-37e0-11ea-9644-02420a010db7",
       "previous": "4e8535fc-37e0-11ea-9644-02420a010db7"
      },
      {
       "current": "4e8536f6-37e0-11ea-9644-02420a010db7",
       "next": "4e853818-37e0-11ea-9644-02420a010db7",
       "previous": "4e8534da-37e0-11ea-9644-02420a010db7"
      }
     ],
     "next": "a8d51354-3bf2-11ea-b99e-02420a010f96",
     "previous": "a8d5111a-3bf2-11ea-b99e-02420a010f96"
    }
   },
   "source": [
    "同様に、変数`z`に、$z$の値の分布を示すリストを、変数`Pz`に、$z$の確率$P(z)$の分布を示すリストをそれぞれ代入しなさい。"
   ]
  },
  {
   "cell_type": "code",
   "execution_count": null,
   "metadata": {
    "lc_cell_meme": {
     "current": "a8d51354-3bf2-11ea-b99e-02420a010f96",
     "history": [
      {
       "current": "179a8d9a-fa36-11e9-bc54-02420a010e28",
       "next": "179a8e94-fa36-11e9-bc54-02420a010e28",
       "previous": "179a8c8c-fa36-11e9-bc54-02420a010e28"
      },
      {
       "current": "224dbccc-fae4-11e9-ad73-02420a01004a",
       "next": "224dbe34-fae4-11e9-ad73-02420a01004a",
       "previous": "224dbb50-fae4-11e9-ad73-02420a01004a"
      },
      {
       "current": "4e853818-37e0-11ea-9644-02420a010db7",
       "next": "4e853912-37e0-11ea-9644-02420a010db7",
       "previous": "4e8536f6-37e0-11ea-9644-02420a010db7"
      },
      {
       "current": "4e853818-37e0-11ea-9644-02420a010db7",
       "next": "4e853a0c-37e0-11ea-9644-02420a010db7",
       "previous": "4e8536f6-37e0-11ea-9644-02420a010db7"
      }
     ],
     "next": "a8d5144e-3bf2-11ea-b99e-02420a010f96",
     "previous": "a8d51250-3bf2-11ea-b99e-02420a010f96"
    }
   },
   "outputs": [],
   "source": [
    "# 課題入力欄（?を修正すること）\n",
    "z = ???\n",
    "Pz = ???"
   ]
  },
  {
   "cell_type": "markdown",
   "metadata": {
    "lc_cell_meme": {
     "current": "a8d5144e-3bf2-11ea-b99e-02420a010f96",
     "history": [
      {
       "current": "93395100-96df-11e9-8b94-e0d55ea40caf",
       "next": "efa662f7-96de-11e9-8b94-e0d55ea40caf",
       "previous": "933950ff-96df-11e9-8b94-e0d55ea40caf"
      },
      {
       "current": "b38b730c-96e2-11e9-893e-02420a010063",
       "next": "b38b73a2-96e2-11e9-893e-02420a010063",
       "previous": "b38b723a-96e2-11e9-893e-02420a010063"
      },
      {
       "current": "b38b730c-96e2-11e9-893e-02420a010063",
       "next": "179a8c8c-fa36-11e9-bc54-02420a010e28",
       "previous": "179a8b74-fa36-11e9-bc54-02420a010e28"
      },
      {
       "current": "224dba06-fae4-11e9-ad73-02420a01004a",
       "next": "224dbb50-fae4-11e9-ad73-02420a01004a",
       "previous": "224db8bc-fae4-11e9-ad73-02420a01004a"
      },
      {
       "current": "224dba06-fae4-11e9-ad73-02420a01004a",
       "next": "224dbb50-fae4-11e9-ad73-02420a01004a",
       "previous": "224dbe34-fae4-11e9-ad73-02420a01004a"
      },
      {
       "current": "4e853a0c-37e0-11ea-9644-02420a010db7",
       "next": "4e853b06-37e0-11ea-9644-02420a010db7",
       "previous": "4e853912-37e0-11ea-9644-02420a010db7"
      },
      {
       "current": "4e853a0c-37e0-11ea-9644-02420a010db7",
       "next": "4e853b06-37e0-11ea-9644-02420a010db7",
       "previous": "4e853818-37e0-11ea-9644-02420a010db7"
      }
     ],
     "next": "a8d51570-3bf2-11ea-b99e-02420a010f96",
     "previous": "a8d51354-3bf2-11ea-b99e-02420a010f96"
    }
   },
   "source": [
    "### 課題2：変数$w$を算出する関数の作成"
   ]
  },
  {
   "cell_type": "markdown",
   "metadata": {
    "lc_cell_meme": {
     "current": "a8d51570-3bf2-11ea-b99e-02420a010f96",
     "history": [
      {
       "current": "179a8c8c-fa36-11e9-bc54-02420a010e28",
       "next": "179a8d9a-fa36-11e9-bc54-02420a010e28",
       "previous": "b38b730c-96e2-11e9-893e-02420a010063"
      },
      {
       "current": "224dbb50-fae4-11e9-ad73-02420a01004a",
       "next": "224dbccc-fae4-11e9-ad73-02420a01004a",
       "previous": "224dba06-fae4-11e9-ad73-02420a01004a"
      },
      {
       "current": "4e853b06-37e0-11ea-9644-02420a010db7",
       "next": "4e853c32-37e0-11ea-9644-02420a010db7",
       "previous": "4e853a0c-37e0-11ea-9644-02420a010db7"
      }
     ],
     "next": "a8d51692-3bf2-11ea-b99e-02420a010f96",
     "previous": "a8d5144e-3bf2-11ea-b99e-02420a010f96"
    }
   },
   "source": [
    "$x$、$y$、$z$の値の分布および確率分布を示す変数`x`、`Px`、`y`、`Py`、`z`、`Pz`を入力すると、$w$のサンプル`wi`を出力する関数`f`を定義しなさい。"
   ]
  },
  {
   "cell_type": "code",
   "execution_count": null,
   "metadata": {
    "lc_cell_meme": {
     "current": "a8d51692-3bf2-11ea-b99e-02420a010f96",
     "history": [
      {
       "current": "179a8d9a-fa36-11e9-bc54-02420a010e28",
       "next": "179a8e94-fa36-11e9-bc54-02420a010e28",
       "previous": "179a8c8c-fa36-11e9-bc54-02420a010e28"
      },
      {
       "current": "224dbccc-fae4-11e9-ad73-02420a01004a",
       "next": "224dbe34-fae4-11e9-ad73-02420a01004a",
       "previous": "224dbb50-fae4-11e9-ad73-02420a01004a"
      },
      {
       "current": "4e853c32-37e0-11ea-9644-02420a010db7",
       "next": "4e853d5e-37e0-11ea-9644-02420a010db7",
       "previous": "4e853b06-37e0-11ea-9644-02420a010db7"
      },
      {
       "current": "4e853c32-37e0-11ea-9644-02420a010db7",
       "next": "4e853e62-37e0-11ea-9644-02420a010db7",
       "previous": "4e853b06-37e0-11ea-9644-02420a010db7"
      }
     ],
     "next": "a8d5178c-3bf2-11ea-b99e-02420a010f96",
     "previous": "a8d51570-3bf2-11ea-b99e-02420a010f96"
    }
   },
   "outputs": [],
   "source": [
    "# 課題入力欄（?を修正すること）\n",
    "def f(x,Px,y,Py,z,Pz): \n",
    "    x_samples = ???\n",
    "    xi = ???\n",
    "\n",
    "    y_samples = ???\n",
    "    yi = ???\n",
    "\n",
    "    z_samples = ???\n",
    "    zi = ???\n",
    "\n",
    "    wi = ???\n",
    "    return wi"
   ]
  },
  {
   "cell_type": "markdown",
   "metadata": {
    "lc_cell_meme": {
     "current": "a8d5178c-3bf2-11ea-b99e-02420a010f96",
     "history": [
      {
       "current": "54194136-36f8-11ea-9ea4-02420a010a70",
       "next": "224dbb50-fae4-11e9-ad73-02420a01004a",
       "previous": "224dbe34-fae4-11e9-ad73-02420a01004a"
      },
      {
       "current": "4e853e62-37e0-11ea-9644-02420a010db7",
       "next": "4e853f84-37e0-11ea-9644-02420a010db7",
       "previous": "4e853d5e-37e0-11ea-9644-02420a010db7"
      },
      {
       "current": "4e853e62-37e0-11ea-9644-02420a010db7",
       "next": "4e853a0c-37e0-11ea-9644-02420a010db7",
       "previous": "4e853d5e-37e0-11ea-9644-02420a010db7"
      },
      {
       "current": "4e853e62-37e0-11ea-9644-02420a010db7",
       "next": "4e853a0c-37e0-11ea-9644-02420a010db7",
       "previous": "4e853c32-37e0-11ea-9644-02420a010db7"
      }
     ],
     "next": "a8d518ae-3bf2-11ea-b99e-02420a010f96",
     "previous": "a8d51692-3bf2-11ea-b99e-02420a010f96"
    }
   },
   "source": [
    "<font size=\"2\" color=\"blue\">ヒント：演習で作成した関数`CurryCost()`を参考にして作成しなさい。</font>"
   ]
  },
  {
   "cell_type": "markdown",
   "metadata": {
    "lc_cell_meme": {
     "current": "a8d518ae-3bf2-11ea-b99e-02420a010f96",
     "history": [
      {
       "current": "93395100-96df-11e9-8b94-e0d55ea40caf",
       "next": "efa662f7-96de-11e9-8b94-e0d55ea40caf",
       "previous": "933950ff-96df-11e9-8b94-e0d55ea40caf"
      },
      {
       "current": "b38b730c-96e2-11e9-893e-02420a010063",
       "next": "b38b73a2-96e2-11e9-893e-02420a010063",
       "previous": "b38b723a-96e2-11e9-893e-02420a010063"
      },
      {
       "current": "b38b730c-96e2-11e9-893e-02420a010063",
       "next": "179a8c8c-fa36-11e9-bc54-02420a010e28",
       "previous": "179a8b74-fa36-11e9-bc54-02420a010e28"
      },
      {
       "current": "224dba06-fae4-11e9-ad73-02420a01004a",
       "next": "224dbb50-fae4-11e9-ad73-02420a01004a",
       "previous": "224db8bc-fae4-11e9-ad73-02420a01004a"
      },
      {
       "current": "224dba06-fae4-11e9-ad73-02420a01004a",
       "next": "224dbb50-fae4-11e9-ad73-02420a01004a",
       "previous": "224dbe34-fae4-11e9-ad73-02420a01004a"
      },
      {
       "current": "4e853a0c-37e0-11ea-9644-02420a010db7",
       "next": "4e853b06-37e0-11ea-9644-02420a010db7",
       "previous": "4e853912-37e0-11ea-9644-02420a010db7"
      },
      {
       "current": "4e853a0c-37e0-11ea-9644-02420a010db7",
       "next": "4e853f84-37e0-11ea-9644-02420a010db7",
       "previous": "4e853e62-37e0-11ea-9644-02420a010db7"
      }
     ],
     "next": "a8d519d0-3bf2-11ea-b99e-02420a010f96",
     "previous": "a8d5178c-3bf2-11ea-b99e-02420a010f96"
    }
   },
   "source": [
    "### 課題3：変数$w$の分布の確認"
   ]
  },
  {
   "cell_type": "markdown",
   "metadata": {
    "lc_cell_meme": {
     "current": "a8d519d0-3bf2-11ea-b99e-02420a010f96",
     "history": [
      {
       "current": "179a8c8c-fa36-11e9-bc54-02420a010e28",
       "next": "179a8d9a-fa36-11e9-bc54-02420a010e28",
       "previous": "b38b730c-96e2-11e9-893e-02420a010063"
      },
      {
       "current": "224dbb50-fae4-11e9-ad73-02420a01004a",
       "next": "224dbccc-fae4-11e9-ad73-02420a01004a",
       "previous": "224dba06-fae4-11e9-ad73-02420a01004a"
      },
      {
       "current": "224dbb50-fae4-11e9-ad73-02420a01004a",
       "next": "224dbccc-fae4-11e9-ad73-02420a01004a",
       "previous": "54194136-36f8-11ea-9ea4-02420a010a70"
      },
      {
       "current": "4e853f84-37e0-11ea-9644-02420a010db7",
       "next": "4e85407e-37e0-11ea-9644-02420a010db7",
       "previous": "4e853e62-37e0-11ea-9644-02420a010db7"
      },
      {
       "current": "4e853f84-37e0-11ea-9644-02420a010db7",
       "next": "4e85407e-37e0-11ea-9644-02420a010db7",
       "previous": "4e853a0c-37e0-11ea-9644-02420a010db7"
      }
     ],
     "next": "a8d51af2-3bf2-11ea-b99e-02420a010f96",
     "previous": "a8d518ae-3bf2-11ea-b99e-02420a010f96"
    }
   },
   "source": [
    "関数`f()`を100,000回繰り返し実行し、wのサンプル`wi`の分布を確認しなさい。\n",
    "\n",
    "100,000個の`wi`を格納するリストを`w`として、関数`f`を100,000回呼び出して`wi`を記録しなさい。"
   ]
  },
  {
   "cell_type": "code",
   "execution_count": null,
   "metadata": {
    "lc_cell_meme": {
     "current": "a8d51af2-3bf2-11ea-b99e-02420a010f96",
     "history": [
      {
       "current": "179a8d9a-fa36-11e9-bc54-02420a010e28",
       "next": "179a8e94-fa36-11e9-bc54-02420a010e28",
       "previous": "179a8c8c-fa36-11e9-bc54-02420a010e28"
      },
      {
       "current": "224dbccc-fae4-11e9-ad73-02420a01004a",
       "next": "224dbe34-fae4-11e9-ad73-02420a01004a",
       "previous": "224dbb50-fae4-11e9-ad73-02420a01004a"
      },
      {
       "current": "4e85407e-37e0-11ea-9644-02420a010db7",
       "next": "4e854182-37e0-11ea-9644-02420a010db7",
       "previous": "4e853f84-37e0-11ea-9644-02420a010db7"
      },
      {
       "current": "4e85407e-37e0-11ea-9644-02420a010db7",
       "next": "4e85433a-37e0-11ea-9644-02420a010db7",
       "previous": "4e853f84-37e0-11ea-9644-02420a010db7"
      }
     ],
     "next": "a8d51bf6-3bf2-11ea-b99e-02420a010f96",
     "previous": "a8d519d0-3bf2-11ea-b99e-02420a010f96"
    }
   },
   "outputs": [],
   "source": [
    "# 課題入力欄\n"
   ]
  },
  {
   "cell_type": "markdown",
   "metadata": {
    "lc_cell_meme": {
     "current": "a8d51bf6-3bf2-11ea-b99e-02420a010f96",
     "history": [
      {
       "current": "54194136-36f8-11ea-9ea4-02420a010a70",
       "next": "224dbb50-fae4-11e9-ad73-02420a01004a",
       "previous": "224dbe34-fae4-11e9-ad73-02420a01004a"
      },
      {
       "current": "54194136-36f8-11ea-9ea4-02420a010a70",
       "next": "54194226-36f8-11ea-9ea4-02420a010a70",
       "previous": "224dbe34-fae4-11e9-ad73-02420a01004a"
      },
      {
       "current": "4e85433a-37e0-11ea-9644-02420a010db7",
       "next": "4e854448-37e0-11ea-9644-02420a010db7",
       "previous": "4e854182-37e0-11ea-9644-02420a010db7"
      },
      {
       "current": "4e85433a-37e0-11ea-9644-02420a010db7",
       "next": "4e854448-37e0-11ea-9644-02420a010db7",
       "previous": "4e85407e-37e0-11ea-9644-02420a010db7"
      }
     ],
     "next": "a8d51d0e-3bf2-11ea-b99e-02420a010f96",
     "previous": "a8d51af2-3bf2-11ea-b99e-02420a010f96"
    }
   },
   "source": [
    "<font size=\"2\" color=\"blue\">ヒント：演習の関数`CurryCost()`の呼び出しを参考に作成しなさい。</font>"
   ]
  },
  {
   "cell_type": "markdown",
   "metadata": {
    "lc_cell_meme": {
     "current": "a8d51d0e-3bf2-11ea-b99e-02420a010f96",
     "history": [
      {
       "current": "54194226-36f8-11ea-9ea4-02420a010a70",
       "next": "54194316-36f8-11ea-9ea4-02420a010a70",
       "previous": "224dbe34-fae4-11e9-ad73-02420a01004a"
      },
      {
       "current": "54194226-36f8-11ea-9ea4-02420a010a70",
       "next": "54194316-36f8-11ea-9ea4-02420a010a70",
       "previous": "54194136-36f8-11ea-9ea4-02420a010a70"
      },
      {
       "current": "4e854448-37e0-11ea-9644-02420a010db7",
       "next": "4e85466e-37e0-11ea-9644-02420a010db7",
       "previous": "4e85433a-37e0-11ea-9644-02420a010db7"
      }
     ],
     "next": "a8d51e8a-3bf2-11ea-b99e-02420a010f96",
     "previous": "a8d51bf6-3bf2-11ea-b99e-02420a010f96"
    }
   },
   "source": [
    "100,000個の`wi`を格納した`w`をヒストグラムで表示して、分布の様子を確認しなさい。"
   ]
  },
  {
   "cell_type": "code",
   "execution_count": null,
   "metadata": {
    "lc_cell_meme": {
     "current": "a8d51e8a-3bf2-11ea-b99e-02420a010f96",
     "history": [
      {
       "current": "54194316-36f8-11ea-9ea4-02420a010a70",
       "next": "54194406-36f8-11ea-9ea4-02420a010a70",
       "previous": "54194226-36f8-11ea-9ea4-02420a010a70"
      },
      {
       "current": "4e85466e-37e0-11ea-9644-02420a010db7",
       "next": "4e8547a4-37e0-11ea-9644-02420a010db7",
       "previous": "4e854448-37e0-11ea-9644-02420a010db7"
      },
      {
       "current": "4e85466e-37e0-11ea-9644-02420a010db7",
       "next": "4e853a0c-37e0-11ea-9644-02420a010db7",
       "previous": "4e854448-37e0-11ea-9644-02420a010db7"
      }
     ],
     "next": "a8d51fb6-3bf2-11ea-b99e-02420a010f96",
     "previous": "a8d51d0e-3bf2-11ea-b99e-02420a010f96"
    },
    "lc_wrapper": {
     "log_history": [
      "/home/16999405x4b0807/14a/.log/20200116/20200116-062306-0128.log",
      "/home/16999405x4b0807/14a/.log/20200121/20200121-094557-0249.log"
     ]
    }
   },
   "outputs": [],
   "source": [
    "#このセルを評価すること。\n",
    "plt.hist(w)"
   ]
  },
  {
   "cell_type": "markdown",
   "metadata": {
    "lc_cell_meme": {
     "current": "a8d51fb6-3bf2-11ea-b99e-02420a010f96",
     "history": [
      {
       "current": "93395100-96df-11e9-8b94-e0d55ea40caf",
       "next": "efa662f7-96de-11e9-8b94-e0d55ea40caf",
       "previous": "933950ff-96df-11e9-8b94-e0d55ea40caf"
      },
      {
       "current": "b38b730c-96e2-11e9-893e-02420a010063",
       "next": "b38b73a2-96e2-11e9-893e-02420a010063",
       "previous": "b38b723a-96e2-11e9-893e-02420a010063"
      },
      {
       "current": "b38b730c-96e2-11e9-893e-02420a010063",
       "next": "179a8c8c-fa36-11e9-bc54-02420a010e28",
       "previous": "179a8b74-fa36-11e9-bc54-02420a010e28"
      },
      {
       "current": "224dba06-fae4-11e9-ad73-02420a01004a",
       "next": "224dbb50-fae4-11e9-ad73-02420a01004a",
       "previous": "224db8bc-fae4-11e9-ad73-02420a01004a"
      },
      {
       "current": "224dba06-fae4-11e9-ad73-02420a01004a",
       "next": "224dbb50-fae4-11e9-ad73-02420a01004a",
       "previous": "224dbe34-fae4-11e9-ad73-02420a01004a"
      },
      {
       "current": "4e853a0c-37e0-11ea-9644-02420a010db7",
       "next": "4e853b06-37e0-11ea-9644-02420a010db7",
       "previous": "4e853912-37e0-11ea-9644-02420a010db7"
      },
      {
       "current": "4e853a0c-37e0-11ea-9644-02420a010db7",
       "next": "4e8547a4-37e0-11ea-9644-02420a010db7",
       "previous": "4e85466e-37e0-11ea-9644-02420a010db7"
      }
     ],
     "next": "a8d520ba-3bf2-11ea-b99e-02420a010f96",
     "previous": "a8d51e8a-3bf2-11ea-b99e-02420a010f96"
    }
   },
   "source": [
    "### 課題4：変数$w$の平均値と標準偏差の算出"
   ]
  },
  {
   "cell_type": "markdown",
   "metadata": {
    "lc_cell_meme": {
     "current": "a8d520ba-3bf2-11ea-b99e-02420a010f96",
     "history": [
      {
       "current": "54194406-36f8-11ea-9ea4-02420a010a70",
       "next": "541944f6-36f8-11ea-9ea4-02420a010a70",
       "previous": "54194316-36f8-11ea-9ea4-02420a010a70"
      },
      {
       "current": "4e8547a4-37e0-11ea-9644-02420a010db7",
       "next": "4e8548ee-37e0-11ea-9644-02420a010db7",
       "previous": "4e85466e-37e0-11ea-9644-02420a010db7"
      },
      {
       "current": "4e8547a4-37e0-11ea-9644-02420a010db7",
       "next": "4e8548ee-37e0-11ea-9644-02420a010db7",
       "previous": "4e853a0c-37e0-11ea-9644-02420a010db7"
      }
     ],
     "next": "a8d522ea-3bf2-11ea-b99e-02420a010f96",
     "previous": "a8d51fb6-3bf2-11ea-b99e-02420a010f96"
    }
   },
   "source": [
    "100,000個の`wi`の平均値を求めなさい。"
   ]
  },
  {
   "cell_type": "code",
   "execution_count": null,
   "metadata": {
    "lc_cell_meme": {
     "current": "a8d522ea-3bf2-11ea-b99e-02420a010f96",
     "history": [
      {
       "current": "541944f6-36f8-11ea-9ea4-02420a010a70",
       "next": "541945e6-36f8-11ea-9ea4-02420a010a70",
       "previous": "54194406-36f8-11ea-9ea4-02420a010a70"
      },
      {
       "current": "4e8548ee-37e0-11ea-9644-02420a010db7",
       "next": "4e8549f2-37e0-11ea-9644-02420a010db7",
       "previous": "4e8547a4-37e0-11ea-9644-02420a010db7"
      },
      {
       "current": "4e8548ee-37e0-11ea-9644-02420a010db7",
       "next": "4e854d4e-37e0-11ea-9644-02420a010db7",
       "previous": "4e8547a4-37e0-11ea-9644-02420a010db7"
      }
     ],
     "next": "a8d5242a-3bf2-11ea-b99e-02420a010f96",
     "previous": "a8d520ba-3bf2-11ea-b99e-02420a010f96"
    }
   },
   "outputs": [],
   "source": [
    "#課題入力欄\n"
   ]
  },
  {
   "cell_type": "markdown",
   "metadata": {
    "lc_cell_meme": {
     "current": "a8d5242a-3bf2-11ea-b99e-02420a010f96",
     "history": [
      {
       "current": "541946d6-36f8-11ea-9ea4-02420a010a70",
       "next": "224dcb5e-fae4-11e9-ad73-02420a01004a",
       "previous": "541945e6-36f8-11ea-9ea4-02420a010a70"
      },
      {
       "current": "541946d6-36f8-11ea-9ea4-02420a010a70",
       "next": "54194406-36f8-11ea-9ea4-02420a010a70",
       "previous": "541945e6-36f8-11ea-9ea4-02420a010a70"
      },
      {
       "current": "541946d6-36f8-11ea-9ea4-02420a010a70",
       "next": "54194406-36f8-11ea-9ea4-02420a010a70",
       "previous": "1ba0dec2-37de-11ea-a014-02420a010db7"
      },
      {
       "current": "4e854d4e-37e0-11ea-9644-02420a010db7",
       "next": "4e854e8e-37e0-11ea-9644-02420a010db7",
       "previous": "4e854c18-37e0-11ea-9644-02420a010db7"
      },
      {
       "current": "4e854d4e-37e0-11ea-9644-02420a010db7",
       "next": "4e854e8e-37e0-11ea-9644-02420a010db7",
       "previous": "4e8548ee-37e0-11ea-9644-02420a010db7"
      }
     ],
     "next": "a8d5256a-3bf2-11ea-b99e-02420a010f96",
     "previous": "a8d522ea-3bf2-11ea-b99e-02420a010f96"
    }
   },
   "source": [
    "<font size=\"2\" color=\"blue\">ヒント：ヒストグラムと比較して値があっていることを確認しなさい。</font>"
   ]
  },
  {
   "cell_type": "markdown",
   "metadata": {
    "lc_cell_meme": {
     "current": "a8d5256a-3bf2-11ea-b99e-02420a010f96",
     "history": [
      {
       "current": "54194406-36f8-11ea-9ea4-02420a010a70",
       "next": "541944f6-36f8-11ea-9ea4-02420a010a70",
       "previous": "54194316-36f8-11ea-9ea4-02420a010a70"
      },
      {
       "current": "54194406-36f8-11ea-9ea4-02420a010a70",
       "next": "541944f6-36f8-11ea-9ea4-02420a010a70",
       "previous": "541946d6-36f8-11ea-9ea4-02420a010a70"
      },
      {
       "current": "4e854e8e-37e0-11ea-9644-02420a010db7",
       "next": "4e854f92-37e0-11ea-9644-02420a010db7",
       "previous": "4e854d4e-37e0-11ea-9644-02420a010db7"
      }
     ],
     "next": "a8d526a0-3bf2-11ea-b99e-02420a010f96",
     "previous": "a8d5242a-3bf2-11ea-b99e-02420a010f96"
    }
   },
   "source": [
    "100,000個の`wi`の標準偏差を求めなさい。平方根を求める関数については、`math`モジュールの`sqrt()`を利用しなさい。"
   ]
  },
  {
   "cell_type": "code",
   "execution_count": null,
   "metadata": {
    "lc_cell_meme": {
     "current": "a8d526a0-3bf2-11ea-b99e-02420a010f96",
     "history": [
      {
       "current": "541944f6-36f8-11ea-9ea4-02420a010a70",
       "next": "541945e6-36f8-11ea-9ea4-02420a010a70",
       "previous": "54194406-36f8-11ea-9ea4-02420a010a70"
      },
      {
       "current": "4e854f92-37e0-11ea-9644-02420a010db7",
       "next": "4e8550a0-37e0-11ea-9644-02420a010db7",
       "previous": "4e854e8e-37e0-11ea-9644-02420a010db7"
      },
      {
       "current": "4e854f92-37e0-11ea-9644-02420a010db7",
       "next": "4e85523a-37e0-11ea-9644-02420a010db7",
       "previous": "4e854e8e-37e0-11ea-9644-02420a010db7"
      },
      {
       "current": "4e854f92-37e0-11ea-9644-02420a010db7",
       "next": "4e855460-37e0-11ea-9644-02420a010db7",
       "previous": "4e854e8e-37e0-11ea-9644-02420a010db7"
      }
     ],
     "next": "a8d527ae-3bf2-11ea-b99e-02420a010f96",
     "previous": "a8d5256a-3bf2-11ea-b99e-02420a010f96"
    }
   },
   "outputs": [],
   "source": [
    "#課題入力欄\n"
   ]
  },
  {
   "cell_type": "markdown",
   "metadata": {
    "lc_cell_meme": {
     "current": "a8d527ae-3bf2-11ea-b99e-02420a010f96",
     "history": [
      {
       "current": "541946d6-36f8-11ea-9ea4-02420a010a70",
       "next": "224dcb5e-fae4-11e9-ad73-02420a01004a",
       "previous": "541945e6-36f8-11ea-9ea4-02420a010a70"
      },
      {
       "current": "541946d6-36f8-11ea-9ea4-02420a010a70",
       "next": "224dcb5e-fae4-11e9-ad73-02420a01004a",
       "previous": "1ba0dec2-37de-11ea-a014-02420a010db7"
      },
      {
       "current": "4e855460-37e0-11ea-9644-02420a010db7",
       "next": "4e85555a-37e0-11ea-9644-02420a010db7",
       "previous": "4e85533e-37e0-11ea-9644-02420a010db7"
      },
      {
       "current": "4e855460-37e0-11ea-9644-02420a010db7",
       "next": "4e85555a-37e0-11ea-9644-02420a010db7",
       "previous": "4e854f92-37e0-11ea-9644-02420a010db7"
      }
     ],
     "next": "a8d528bc-3bf2-11ea-b99e-02420a010f96",
     "previous": "a8d526a0-3bf2-11ea-b99e-02420a010f96"
    }
   },
   "source": [
    "<font size=\"2\" color=\"blue\">ヒント：ヒストグラムと比較して値が大きく違っていないことを確認しなさい。サンプル全体の約7割が、「平均値±標準偏差」の範囲に含まれます。</font>"
   ]
  },
  {
   "cell_type": "markdown",
   "metadata": {
    "lc_cell_meme": {
     "current": "a8d528bc-3bf2-11ea-b99e-02420a010f96",
     "history": [
      {
       "current": "179a9196-fa36-11e9-bc54-02420a010e28",
       "next": "179a929a-fa36-11e9-bc54-02420a010e28",
       "previous": "b38b74d8-96e2-11e9-893e-02420a010063"
      },
      {
       "current": "224dcb5e-fae4-11e9-ad73-02420a01004a",
       "next": "224dcca8-fae4-11e9-ad73-02420a01004a",
       "previous": "224dc9e2-fae4-11e9-ad73-02420a01004a"
      },
      {
       "current": "224dcb5e-fae4-11e9-ad73-02420a01004a",
       "next": "224dcca8-fae4-11e9-ad73-02420a01004a",
       "previous": "541946d6-36f8-11ea-9ea4-02420a010a70"
      },
      {
       "current": "4e85555a-37e0-11ea-9644-02420a010db7",
       "next": "4e855654-37e0-11ea-9644-02420a010db7",
       "previous": "4e855460-37e0-11ea-9644-02420a010db7"
      }
     ],
     "next": "a8d529c0-3bf2-11ea-b99e-02420a010f96",
     "previous": "a8d527ae-3bf2-11ea-b99e-02420a010f96"
    }
   },
   "source": [
    "# 課題は以上で終わりです。"
   ]
  },
  {
   "cell_type": "markdown",
   "metadata": {
    "lc_cell_meme": {
     "current": "a8d529c0-3bf2-11ea-b99e-02420a010f96",
     "history": [
      {
       "current": "179a929a-fa36-11e9-bc54-02420a010e28",
       "next": "179a939e-fa36-11e9-bc54-02420a010e28",
       "previous": "179a9196-fa36-11e9-bc54-02420a010e28"
      },
      {
       "current": "224dcca8-fae4-11e9-ad73-02420a01004a",
       "next": "224dcf1e-fae4-11e9-ad73-02420a01004a",
       "previous": "224dcb5e-fae4-11e9-ad73-02420a01004a"
      },
      {
       "current": "4e855654-37e0-11ea-9644-02420a010db7",
       "next": "4e855758-37e0-11ea-9644-02420a010db7",
       "previous": "4e85555a-37e0-11ea-9644-02420a010db7"
      }
     ],
     "next": "a8d52ace-3bf2-11ea-b99e-02420a010f96",
     "previous": "a8d528bc-3bf2-11ea-b99e-02420a010f96"
    }
   },
   "source": [
    "## 評価結果"
   ]
  },
  {
   "cell_type": "code",
   "execution_count": null,
   "metadata": {
    "lc_cell_meme": {
     "current": "a8d52ace-3bf2-11ea-b99e-02420a010f96",
     "history": [
      {
       "current": "179a939e-fa36-11e9-bc54-02420a010e28",
       "next": "179a9498-fa36-11e9-bc54-02420a010e28",
       "previous": "179a929a-fa36-11e9-bc54-02420a010e28"
      },
      {
       "current": "224dcf1e-fae4-11e9-ad73-02420a01004a",
       "next": "224dd0a4-fae4-11e9-ad73-02420a01004a",
       "previous": "224dcca8-fae4-11e9-ad73-02420a01004a"
      },
      {
       "current": "4e855758-37e0-11ea-9644-02420a010db7",
       "next": "4e855852-37e0-11ea-9644-02420a010db7",
       "previous": "4e855654-37e0-11ea-9644-02420a010db7"
      }
     ],
     "next": "a8d52bd2-3bf2-11ea-b99e-02420a010f96",
     "previous": "a8d529c0-3bf2-11ea-b99e-02420a010f96"
    }
   },
   "outputs": [],
   "source": []
  },
  {
   "cell_type": "markdown",
   "metadata": {
    "lc_cell_meme": {
     "current": "a8d52bd2-3bf2-11ea-b99e-02420a010f96",
     "history": [
      {
       "current": "179a9498-fa36-11e9-bc54-02420a010e28",
       "next": "179a9592-fa36-11e9-bc54-02420a010e28",
       "previous": "179a939e-fa36-11e9-bc54-02420a010e28"
      },
      {
       "current": "224dd0a4-fae4-11e9-ad73-02420a01004a",
       "next": "224dd202-fae4-11e9-ad73-02420a01004a",
       "previous": "224dcf1e-fae4-11e9-ad73-02420a01004a"
      },
      {
       "current": "4e855852-37e0-11ea-9644-02420a010db7",
       "next": "4e85594c-37e0-11ea-9644-02420a010db7",
       "previous": "4e855758-37e0-11ea-9644-02420a010db7"
      }
     ],
     "next": "a8d52ce0-3bf2-11ea-b99e-02420a010f96",
     "previous": "a8d52ace-3bf2-11ea-b99e-02420a010f96"
    }
   },
   "source": [
    "## コメントなど"
   ]
  },
  {
   "cell_type": "code",
   "execution_count": null,
   "metadata": {
    "lc_cell_meme": {
     "current": "a8d52ce0-3bf2-11ea-b99e-02420a010f96",
     "history": [
      {
       "current": "179a9592-fa36-11e9-bc54-02420a010e28",
       "next": null,
       "previous": "179a9498-fa36-11e9-bc54-02420a010e28"
      },
      {
       "current": "224dd202-fae4-11e9-ad73-02420a01004a",
       "next": null,
       "previous": "224dd0a4-fae4-11e9-ad73-02420a01004a"
      },
      {
       "current": "4e85594c-37e0-11ea-9644-02420a010db7",
       "next": null,
       "previous": "4e855852-37e0-11ea-9644-02420a010db7"
      }
     ],
     "next": null,
     "previous": "a8d52bd2-3bf2-11ea-b99e-02420a010f96"
    }
   },
   "outputs": [],
   "source": []
  }
 ],
 "metadata": {
  "kernelspec": {
   "display_name": "Python 3",
   "language": "python",
   "name": "python3"
  },
  "language_info": {
   "file_extension": ".py",
   "mimetype": "text/x-python",
   "name": "python",
   "nbconvert_exporter": "python",
   "pygments_lexer": "ipython3",
   "version": "3.7.3"
  },
  "lc_notebook_meme": {
   "current": "a8d4f57c-3bf2-11ea-b99e-02420a010f96",
   "history": [
    "efa662f6-96de-11e9-8b94-e0d55ea40caf",
    "b38b6614-96e2-11e9-893e-02420a010063",
    "224da282-fae4-11e9-ad73-02420a01004a",
    "4e851810-37e0-11ea-9644-02420a010db7"
   ],
   "lc_server_signature": {
    "current": {
     "notebook_dir": "/home/16999405x4b0807",
     "notebook_path": "/14",
     "server_url": "https://nb06.ecloud.nii.ac.jp/user/16999405x4b0807/",
     "signature_id": "9dd54594-df60-11e9-8bcf-02420a010029"
    },
    "history": [
     {
      "notebook_dir": "/home/kuwata/notebooks",
      "notebook_path": "/",
      "server_url": "http://157.19.141.8:8000/user/kuwata/",
      "signature_id": "d0abe7ae-153d-11e9-9674-e0d55ea40caf"
     },
     {
      "notebook_dir": "/home/16999405x4b0807",
      "notebook_path": "/06a",
      "server_url": "https://nb06.ecloud.nii.ac.jp/user/16999405x4b0807/",
      "signature_id": "9dd54594-df60-11e9-8bcf-02420a010029"
     },
     {
      "notebook_dir": "/home/16999405x4b0807",
      "notebook_path": "/14a",
      "server_url": "https://nb06.ecloud.nii.ac.jp/user/16999405x4b0807/",
      "signature_id": "9dd54594-df60-11e9-8bcf-02420a010029"
     }
    ]
   },
   "root_cells": [
    "a8d4fbbc-3bf2-11ea-b99e-02420a010f96",
    "a8d4ff2c-3bf2-11ea-b99e-02420a010f96",
    "a8d5009e-3bf2-11ea-b99e-02420a010f96",
    "a8d501de-3bf2-11ea-b99e-02420a010f96",
    "a8d50314-3bf2-11ea-b99e-02420a010f96",
    "a8d50454-3bf2-11ea-b99e-02420a010f96",
    "a8d50580-3bf2-11ea-b99e-02420a010f96",
    "a8d506b6-3bf2-11ea-b99e-02420a010f96",
    "a8d50878-3bf2-11ea-b99e-02420a010f96",
    "a8d50990-3bf2-11ea-b99e-02420a010f96",
    "a8d50a94-3bf2-11ea-b99e-02420a010f96",
    "a8d50bb6-3bf2-11ea-b99e-02420a010f96",
    "a8d50cc4-3bf2-11ea-b99e-02420a010f96",
    "a8d50de6-3bf2-11ea-b99e-02420a010f96",
    "a8d50eea-3bf2-11ea-b99e-02420a010f96",
    "a8d50fe4-3bf2-11ea-b99e-02420a010f96",
    "a8d5111a-3bf2-11ea-b99e-02420a010f96",
    "a8d51250-3bf2-11ea-b99e-02420a010f96",
    "a8d51354-3bf2-11ea-b99e-02420a010f96",
    "a8d5144e-3bf2-11ea-b99e-02420a010f96",
    "a8d51570-3bf2-11ea-b99e-02420a010f96",
    "a8d51692-3bf2-11ea-b99e-02420a010f96",
    "a8d5178c-3bf2-11ea-b99e-02420a010f96",
    "a8d518ae-3bf2-11ea-b99e-02420a010f96",
    "a8d519d0-3bf2-11ea-b99e-02420a010f96",
    "a8d51af2-3bf2-11ea-b99e-02420a010f96",
    "a8d51bf6-3bf2-11ea-b99e-02420a010f96",
    "a8d51d0e-3bf2-11ea-b99e-02420a010f96",
    "a8d51e8a-3bf2-11ea-b99e-02420a010f96",
    "a8d51fb6-3bf2-11ea-b99e-02420a010f96",
    "a8d520ba-3bf2-11ea-b99e-02420a010f96",
    "a8d522ea-3bf2-11ea-b99e-02420a010f96",
    "a8d5242a-3bf2-11ea-b99e-02420a010f96",
    "a8d5256a-3bf2-11ea-b99e-02420a010f96",
    "a8d526a0-3bf2-11ea-b99e-02420a010f96",
    "a8d527ae-3bf2-11ea-b99e-02420a010f96",
    "a8d528bc-3bf2-11ea-b99e-02420a010f96",
    "a8d529c0-3bf2-11ea-b99e-02420a010f96",
    "a8d52ace-3bf2-11ea-b99e-02420a010f96",
    "a8d52bd2-3bf2-11ea-b99e-02420a010f96",
    "a8d52ce0-3bf2-11ea-b99e-02420a010f96"
   ]
  },
  "toc": {
   "base_numbering": 1,
   "nav_menu": {},
   "number_sections": true,
   "sideBar": true,
   "skip_h1_title": false,
   "title_cell": "Table of Contents",
   "title_sidebar": "Contents",
   "toc_cell": false,
   "toc_position": {},
   "toc_section_display": true,
   "toc_window_display": false
  }
 },
 "nbformat": 4,
 "nbformat_minor": 2
}
