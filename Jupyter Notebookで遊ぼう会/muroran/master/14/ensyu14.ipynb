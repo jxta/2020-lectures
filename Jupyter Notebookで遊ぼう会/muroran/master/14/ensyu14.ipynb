{
 "cells": [
  {
   "cell_type": "markdown",
   "metadata": {
    "lc_cell_meme": {
     "current": "9a7cf056-3bf2-11ea-9663-02420a010f96",
     "history": [
      {
       "current": "cebf3c91-2391-11e9-a9f8-e0d55ea40caf",
       "next": "cebf3c92-2391-11e9-a9f8-e0d55ea40caf",
       "previous": null
      },
      {
       "current": "aa7bf804-96e2-11e9-8e94-02420a010063",
       "next": "aa7bfa48-96e2-11e9-8e94-02420a010063",
       "previous": null
      },
      {
       "current": "16350e86-fae4-11e9-956e-02420a01004a",
       "next": "1635108e-fae4-11e9-956e-02420a01004a",
       "previous": null
      },
      {
       "current": "42f2ad0a-37e0-11ea-ab82-02420a010db7",
       "next": "42f2aef4-37e0-11ea-ab82-02420a010db7",
       "previous": null
      }
     ],
     "next": "9a7cf25e-3bf2-11ea-9663-02420a010f96",
     "previous": null
    }
   },
   "source": [
    "# プログラミング入門\n",
    " 第14回　シミュレーション（2）モンテカルロ法"
   ]
  },
  {
   "cell_type": "markdown",
   "metadata": {
    "collapsed": true,
    "lc_cell_meme": {
     "current": "9a7cf25e-3bf2-11ea-9663-02420a010f96",
     "history": [
      {
       "current": "cebf3c92-2391-11e9-a9f8-e0d55ea40caf",
       "next": "cebf3c93-2391-11e9-a9f8-e0d55ea40caf",
       "previous": "cebf3c91-2391-11e9-a9f8-e0d55ea40caf"
      },
      {
       "current": "aa7bfa48-96e2-11e9-8e94-02420a010063",
       "next": "aa7bfb7e-96e2-11e9-8e94-02420a010063",
       "previous": "aa7bf804-96e2-11e9-8e94-02420a010063"
      },
      {
       "current": "1635108e-fae4-11e9-956e-02420a01004a",
       "next": "1635121e-fae4-11e9-956e-02420a01004a",
       "previous": "16350e86-fae4-11e9-956e-02420a01004a"
      },
      {
       "current": "42f2aef4-37e0-11ea-ab82-02420a010db7",
       "next": "42f2b0a2-37e0-11ea-ab82-02420a010db7",
       "previous": "42f2ad0a-37e0-11ea-ab82-02420a010db7"
      }
     ],
     "next": "9a7cf448-3bf2-11ea-9663-02420a010f96",
     "previous": "9a7cf056-3bf2-11ea-9663-02420a010f96"
    }
   },
   "source": [
    "次のセルに、自分の名前と学籍番号を記入して下さい。"
   ]
  },
  {
   "cell_type": "markdown",
   "metadata": {
    "lc_cell_meme": {
     "current": "9a7cf448-3bf2-11ea-9663-02420a010f96",
     "history": [
      {
       "current": "cebf3c93-2391-11e9-a9f8-e0d55ea40caf",
       "next": "cebf3c94-2391-11e9-a9f8-e0d55ea40caf",
       "previous": "cebf3c92-2391-11e9-a9f8-e0d55ea40caf"
      },
      {
       "current": "aa7bfb7e-96e2-11e9-8e94-02420a010063",
       "next": "aa7bfd18-96e2-11e9-8e94-02420a010063",
       "previous": "aa7bfa48-96e2-11e9-8e94-02420a010063"
      },
      {
       "current": "1635121e-fae4-11e9-956e-02420a01004a",
       "next": "163513a4-fae4-11e9-956e-02420a01004a",
       "previous": "1635108e-fae4-11e9-956e-02420a01004a"
      },
      {
       "current": "42f2b0a2-37e0-11ea-ab82-02420a010db7",
       "next": "42f2b228-37e0-11ea-ab82-02420a010db7",
       "previous": "42f2aef4-37e0-11ea-ab82-02420a010db7"
      }
     ],
     "next": "9a7cf5c4-3bf2-11ea-9663-02420a010f96",
     "previous": "9a7cf25e-3bf2-11ea-9663-02420a010f96"
    },
    "raw_mimetype": "text/markdown"
   },
   "source": [
    "学籍番号：　　　　　　　　　　　氏名："
   ]
  },
  {
   "cell_type": "markdown",
   "metadata": {
    "lc_cell_meme": {
     "current": "9a7cf5c4-3bf2-11ea-9663-02420a010f96",
     "history": [
      {
       "current": "cebf3c94-2391-11e9-a9f8-e0d55ea40caf",
       "next": "cebf3c95-2391-11e9-a9f8-e0d55ea40caf",
       "previous": "cebf3c93-2391-11e9-a9f8-e0d55ea40caf"
      },
      {
       "current": "aa7bfd18-96e2-11e9-8e94-02420a010063",
       "next": "aa7bfe30-96e2-11e9-8e94-02420a010063",
       "previous": "aa7bfb7e-96e2-11e9-8e94-02420a010063"
      },
      {
       "current": "aa7bfd18-96e2-11e9-8e94-02420a010063",
       "next": "8c75964c-fa35-11e9-bc54-02420a010e28",
       "previous": "aa7bfb7e-96e2-11e9-8e94-02420a010063"
      },
      {
       "current": "aa7bfd18-96e2-11e9-8e94-02420a010063",
       "next": "aa7bfe30-96e2-11e9-8e94-02420a010063",
       "previous": "aa7bfb7e-96e2-11e9-8e94-02420a010063"
      },
      {
       "current": "163513a4-fae4-11e9-956e-02420a01004a",
       "next": "16351520-fae4-11e9-956e-02420a01004a",
       "previous": "1635121e-fae4-11e9-956e-02420a01004a"
      },
      {
       "current": "42f2b228-37e0-11ea-ab82-02420a010db7",
       "next": "42f2b37c-37e0-11ea-ab82-02420a010db7",
       "previous": "42f2b0a2-37e0-11ea-ab82-02420a010db7"
      }
     ],
     "next": "9a7cf722-3bf2-11ea-9663-02420a010f96",
     "previous": "9a7cf448-3bf2-11ea-9663-02420a010f96"
    }
   },
   "source": [
    "【進め方の注意】\n",
    "\n",
    "- 文書を読んで、進めてください。\n",
    "- 教科書の対応箇所を確認してください。\n",
    "- 最後の確認問題を解いて、ファイルを保存して下さい。\n",
    "- 途中わからないことがあれば、教員またはTAに質問して下さい。"
   ]
  },
  {
   "cell_type": "markdown",
   "metadata": {
    "lc_cell_meme": {
     "current": "9a7cf722-3bf2-11ea-9663-02420a010f96",
     "history": [
      {
       "current": "cebf3c95-2391-11e9-a9f8-e0d55ea40caf",
       "next": "cebf3c96-2391-11e9-a9f8-e0d55ea40caf",
       "previous": "cebf3c94-2391-11e9-a9f8-e0d55ea40caf"
      },
      {
       "current": "aa7bfe30-96e2-11e9-8e94-02420a010063",
       "next": "aa7bff5c-96e2-11e9-8e94-02420a010063",
       "previous": "aa7bfd18-96e2-11e9-8e94-02420a010063"
      },
      {
       "current": "aa7bfe30-96e2-11e9-8e94-02420a010063",
       "next": "aa7c0254-96e2-11e9-8e94-02420a010063",
       "previous": "8c75964c-fa35-11e9-bc54-02420a010e28"
      },
      {
       "current": "aa7bfe30-96e2-11e9-8e94-02420a010063",
       "next": "aa7c0254-96e2-11e9-8e94-02420a010063",
       "previous": "aa7bfd18-96e2-11e9-8e94-02420a010063"
      },
      {
       "current": "16351520-fae4-11e9-956e-02420a01004a",
       "next": "16351660-fae4-11e9-956e-02420a01004a",
       "previous": "163513a4-fae4-11e9-956e-02420a01004a"
      },
      {
       "current": "16351520-fae4-11e9-956e-02420a01004a",
       "next": "19121612-36f8-11ea-9ea4-02420a010a70",
       "previous": "163513a4-fae4-11e9-956e-02420a01004a"
      },
      {
       "current": "42f2b37c-37e0-11ea-ab82-02420a010db7",
       "next": "42f2b4c6-37e0-11ea-ab82-02420a010db7",
       "previous": "42f2b228-37e0-11ea-ab82-02420a010db7"
      }
     ],
     "next": "9a7cf844-3bf2-11ea-9663-02420a010f96",
     "previous": "9a7cf5c4-3bf2-11ea-9663-02420a010f96"
    }
   },
   "source": [
    "## モンテカルロ法の応用例：カレーライス費用の見積もり（教科書P115）"
   ]
  },
  {
   "cell_type": "markdown",
   "metadata": {
    "lc_cell_meme": {
     "current": "9a7cf844-3bf2-11ea-9663-02420a010f96",
     "history": [
      {
       "current": "19121612-36f8-11ea-9ea4-02420a010a70",
       "next": "191219fa-36f8-11ea-9ea4-02420a010a70",
       "previous": "16351520-fae4-11e9-956e-02420a01004a"
      },
      {
       "current": "42f2b4c6-37e0-11ea-ab82-02420a010db7",
       "next": "42f2b64c-37e0-11ea-ab82-02420a010db7",
       "previous": "42f2b37c-37e0-11ea-ab82-02420a010db7"
      }
     ],
     "next": "9a7cf984-3bf2-11ea-9663-02420a010f96",
     "previous": "9a7cf722-3bf2-11ea-9663-02420a010f96"
    }
   },
   "source": [
    "花子さんは、カレーライスを作ろうとしています。スーパーマーケットまで材料の買い物に出かける予定ですが、手持ちのお金が不足しないように材料すべての費用としてどれくらい準備すれば良いか、事前に見積もりたいと考えています。"
   ]
  },
  {
   "cell_type": "markdown",
   "metadata": {
    "lc_cell_meme": {
     "current": "9a7cf984-3bf2-11ea-9663-02420a010f96",
     "history": [
      {
       "current": "191219fa-36f8-11ea-9ea4-02420a010a70",
       "next": "19121b44-36f8-11ea-9ea4-02420a010a70",
       "previous": "19121612-36f8-11ea-9ea4-02420a010a70"
      },
      {
       "current": "42f2b64c-37e0-11ea-ab82-02420a010db7",
       "next": "42f2b796-37e0-11ea-ab82-02420a010db7",
       "previous": "42f2b4c6-37e0-11ea-ab82-02420a010db7"
      }
     ],
     "next": "9a7cfac4-3bf2-11ea-9663-02420a010f96",
     "previous": "9a7cf844-3bf2-11ea-9663-02420a010f96"
    }
   },
   "source": [
    "カレーライスを作るための材料とそれぞれの値段は、表1に示されている通りです。材料のうち、スーパーマーケットで買う必要があるのは、カレールー、肉、玉ねぎ、じゃがいも、にんじんです。肉、玉ねぎ、じゃがいものそれぞれの値段は確率的に振舞うと仮定し、肉100グラムの値段を`x`円、玉ねぎ1個の値段を`y`円、じゃがいも1個の値段を`z`円と変数で表しています。\n",
    "\n",
    "#### <center>表1　カレーライス（12皿分）の材料費の内訳</center>\n",
    "\n",
    "|材料|数量|単価(円)|値段(円)|\n",
    "|---|---|---|---|\n",
    "|カレールー|1箱|300|300|\n",
    "|肉|500グラム|x(100グラム)|5x|\n",
    "|玉ねぎ|4個|y|4y|\n",
    "|じゃがいも|3個|z|3z|\n",
    "|にんじん|1個|70|70|\n",
    "|サラダ油|大さじ2|-|-|\n",
    "|水|1400ml|-|-|-|"
   ]
  },
  {
   "cell_type": "markdown",
   "metadata": {
    "lc_cell_meme": {
     "current": "9a7cfac4-3bf2-11ea-9663-02420a010f96",
     "history": [
      {
       "current": "19121b44-36f8-11ea-9ea4-02420a010a70",
       "next": "19121c5c-36f8-11ea-9ea4-02420a010a70",
       "previous": "191219fa-36f8-11ea-9ea4-02420a010a70"
      },
      {
       "current": "42f2b796-37e0-11ea-ab82-02420a010db7",
       "next": "42f2b8e0-37e0-11ea-ab82-02420a010db7",
       "previous": "42f2b64c-37e0-11ea-ab82-02420a010db7"
      }
     ],
     "next": "9a7cfc04-3bf2-11ea-9663-02420a010f96",
     "previous": "9a7cf984-3bf2-11ea-9663-02420a010f96"
    }
   },
   "source": [
    "カレーライスの費用を`w`円とすると、`w`は次の式で計算できます。`370`円は、カレールーとにんじんの値段の合計です。\n",
    "\n",
    "`w = 5x + 4y + 3z + 370`"
   ]
  },
  {
   "cell_type": "markdown",
   "metadata": {
    "lc_cell_meme": {
     "current": "9a7cfc04-3bf2-11ea-9663-02420a010f96",
     "history": [
      {
       "current": "19121c5c-36f8-11ea-9ea4-02420a010a70",
       "next": "16351660-fae4-11e9-956e-02420a01004a",
       "previous": "19121b44-36f8-11ea-9ea4-02420a010a70"
      },
      {
       "current": "42f2b8e0-37e0-11ea-ab82-02420a010db7",
       "next": "42f2ba66-37e0-11ea-ab82-02420a010db7",
       "previous": "42f2b796-37e0-11ea-ab82-02420a010db7"
      }
     ],
     "next": "9a7cfd1c-3bf2-11ea-9663-02420a010f96",
     "previous": "9a7cfac4-3bf2-11ea-9663-02420a010f96"
    }
   },
   "source": [
    "スーパマーケットで肉、玉ねぎ、じゃがいもが販売されるときの値段の確率分布を表2から表4に示します。\n",
    "\n",
    "#### <center>表2　肉100グラムの値段の確率分布</center>\n",
    "|$x$: 肉100グラムの値段（円）|250|260|270|280|290|300|\n",
    "|---|---|---|---|---|---|---|\n",
    "|$P(x)$: 確率|0.23|0.32|0.21|0.14|0.07|0.03|\n",
    "\n",
    "#### <center>表3　玉ねぎ1個の価格の確率分布</center>\n",
    "\n",
    "|$y$: 玉ねぎ1個の値段（円）|30|40|50|60|70|80|\n",
    "|---|---|---|---|---|---|---|\n",
    "|$P(y)$: 確率|0.23|0.32|0.28|0.11|0.04|0.02|\n",
    "\n",
    "#### <center>表4　じゃがいも1個の値段の確率分布</center>\n",
    "\n",
    "|$z$: じゃがいも1個の値段（円）|20|30|40|50|60|70|\n",
    "|---|---|---|---|---|---|---|\n",
    "|$P(z)$: 確率|0.10|0.25|0.30|0.25|0.08|0.02|"
   ]
  },
  {
   "cell_type": "markdown",
   "metadata": {
    "lc_cell_meme": {
     "current": "9a7cfd1c-3bf2-11ea-9663-02420a010f96",
     "history": [
      {
       "current": "cebf3c98-2391-11e9-a9f8-e0d55ea40caf",
       "next": "cebf3c99-2391-11e9-a9f8-e0d55ea40caf",
       "previous": "cebf3c97-2391-11e9-a9f8-e0d55ea40caf"
      },
      {
       "current": "aa7c0254-96e2-11e9-8e94-02420a010063",
       "next": "aa7c04f2-96e2-11e9-8e94-02420a010063",
       "previous": "aa7c00ba-96e2-11e9-8e94-02420a010063"
      },
      {
       "current": "aa7c0254-96e2-11e9-8e94-02420a010063",
       "next": "8c759c6e-fa35-11e9-bc54-02420a010e28",
       "previous": "aa7bfe30-96e2-11e9-8e94-02420a010063"
      },
      {
       "current": "16351660-fae4-11e9-956e-02420a01004a",
       "next": "163517b4-fae4-11e9-956e-02420a01004a",
       "previous": "16351520-fae4-11e9-956e-02420a01004a"
      },
      {
       "current": "16351660-fae4-11e9-956e-02420a01004a",
       "next": "16351d68-fae4-11e9-956e-02420a01004a",
       "previous": "19121c5c-36f8-11ea-9ea4-02420a010a70"
      },
      {
       "current": "42f2ba66-37e0-11ea-ab82-02420a010db7",
       "next": "42f2bbe2-37e0-11ea-ab82-02420a010db7",
       "previous": "42f2b8e0-37e0-11ea-ab82-02420a010db7"
      }
     ],
     "next": "9a7cfe34-3bf2-11ea-9663-02420a010f96",
     "previous": "9a7cfc04-3bf2-11ea-9663-02420a010f96"
    }
   },
   "source": [
    "### 材料費の確率分布の作成"
   ]
  },
  {
   "cell_type": "markdown",
   "metadata": {
    "lc_cell_meme": {
     "current": "9a7cfe34-3bf2-11ea-9663-02420a010f96",
     "history": [
      {
       "current": "8c75a042-fa35-11e9-bc54-02420a010e28",
       "next": "aa7c063c-96e2-11e9-8e94-02420a010063",
       "previous": "8c759ef8-fa35-11e9-bc54-02420a010e28"
      },
      {
       "current": "16351d68-fae4-11e9-956e-02420a01004a",
       "next": "16351ebc-fae4-11e9-956e-02420a01004a",
       "previous": "16351c1e-fae4-11e9-956e-02420a01004a"
      },
      {
       "current": "16351d68-fae4-11e9-956e-02420a01004a",
       "next": "16351aac-fae4-11e9-956e-02420a01004a",
       "previous": "16351660-fae4-11e9-956e-02420a01004a"
      },
      {
       "current": "42f2bbe2-37e0-11ea-ab82-02420a010db7",
       "next": "42f2bd5e-37e0-11ea-ab82-02420a010db7",
       "previous": "42f2ba66-37e0-11ea-ab82-02420a010db7"
      }
     ],
     "next": "9a7cff92-3bf2-11ea-9663-02420a010f96",
     "previous": "9a7cfd1c-3bf2-11ea-9663-02420a010f96"
    }
   },
   "source": [
    "#### 演習"
   ]
  },
  {
   "cell_type": "markdown",
   "metadata": {
    "lc_cell_meme": {
     "current": "9a7cff92-3bf2-11ea-9663-02420a010f96",
     "history": [
      {
       "current": "8c759dd6-fa35-11e9-bc54-02420a010e28",
       "next": "8c759ef8-fa35-11e9-bc54-02420a010e28",
       "previous": "aa7c04f2-96e2-11e9-8e94-02420a010063"
      },
      {
       "current": "16351aac-fae4-11e9-956e-02420a01004a",
       "next": "16351c1e-fae4-11e9-956e-02420a01004a",
       "previous": "16351958-fae4-11e9-956e-02420a01004a"
      },
      {
       "current": "16351aac-fae4-11e9-956e-02420a01004a",
       "next": "163521c8-fae4-11e9-956e-02420a01004a",
       "previous": "16351d68-fae4-11e9-956e-02420a01004a"
      },
      {
       "current": "42f2bd5e-37e0-11ea-ab82-02420a010db7",
       "next": "42f2beda-37e0-11ea-ab82-02420a010db7",
       "previous": "42f2bbe2-37e0-11ea-ab82-02420a010db7"
      }
     ],
     "next": "9a7d00e6-3bf2-11ea-9663-02420a010f96",
     "previous": "9a7cfe34-3bf2-11ea-9663-02420a010f96"
    }
   },
   "source": [
    "各材料費の確率分布をリストに格納して、プログラムで扱えるようにします。\n",
    "変数`x`に、肉の100グラムの値段の分布を示すリストを代入します。また、変数`Px`に、100グラムの値段の確率分布を示すリストを代入します。"
   ]
  },
  {
   "cell_type": "code",
   "execution_count": null,
   "metadata": {
    "lc_cell_meme": {
     "current": "9a7d00e6-3bf2-11ea-9663-02420a010f96",
     "history": [
      {
       "current": "cebf3c9b-2391-11e9-a9f8-e0d55ea40caf",
       "next": "cebf3c9c-2391-11e9-a9f8-e0d55ea40caf",
       "previous": "cebf3c9a-2391-11e9-a9f8-e0d55ea40caf"
      },
      {
       "current": "cebf3c9b-2391-11e9-a9f8-e0d55ea40caf",
       "next": "cebf3c9b-2391-11e9-a9f8-e0d55ea40caf",
       "previous": "cebf3c9a-2391-11e9-a9f8-e0d55ea40caf"
      },
      {
       "current": "cebf3c9b-2391-11e9-a9f8-e0d55ea40caf",
       "next": "a55591b5-2392-11e9-a9f8-e0d55ea40caf",
       "previous": "a55591b4-2392-11e9-a9f8-e0d55ea40caf"
      },
      {
       "current": "aa7c08ee-96e2-11e9-8e94-02420a010063",
       "next": "aa7c09c0-96e2-11e9-8e94-02420a010063",
       "previous": "aa7c0790-96e2-11e9-8e94-02420a010063"
      },
      {
       "current": "aa7c08ee-96e2-11e9-8e94-02420a010063",
       "next": "aa7c08ee-96e2-11e9-8e94-02420a010063",
       "previous": "8c75a15a-fa35-11e9-bc54-02420a010e28"
      },
      {
       "current": "163521c8-fae4-11e9-956e-02420a01004a",
       "next": "16352362-fae4-11e9-956e-02420a01004a",
       "previous": "16352006-fae4-11e9-956e-02420a01004a"
      },
      {
       "current": "163521c8-fae4-11e9-956e-02420a01004a",
       "next": "16351aac-fae4-11e9-956e-02420a01004a",
       "previous": "16351aac-fae4-11e9-956e-02420a01004a"
      },
      {
       "current": "42f2beda-37e0-11ea-ab82-02420a010db7",
       "next": "42f2c04c-37e0-11ea-ab82-02420a010db7",
       "previous": "42f2bd5e-37e0-11ea-ab82-02420a010db7"
      },
      {
       "current": "42f2beda-37e0-11ea-ab82-02420a010db7",
       "next": "42f2bbe2-37e0-11ea-ab82-02420a010db7",
       "previous": "42f2bd5e-37e0-11ea-ab82-02420a010db7"
      }
     ],
     "next": "9a7d0208-3bf2-11ea-9663-02420a010f96",
     "previous": "9a7cff92-3bf2-11ea-9663-02420a010f96"
    },
    "lc_wrapper": {
     "log_history": [
      "/home/kuwata/notebooks/.log/20190129/20190129-164833-0253.log",
      "/home/16999405x4b0807/14a/.log/20200116/20200116-054226-0451.log",
      "/home/16999405x4b0807/14a/.log/20200116/20200116-064752-0257.log",
      "/home/16999405x4b0807/14a/.log/20200121/20200121-094307-0320.log"
     ]
    }
   },
   "outputs": [],
   "source": [
    "# このセルを評価すること \n",
    "x = [250, 260, 270, 280, 290, 300]\n",
    "Px = [0.23, 0.32, 0.21, 0.14, 0.07, 0.03]"
   ]
  },
  {
   "cell_type": "markdown",
   "metadata": {
    "lc_cell_meme": {
     "current": "9a7d0208-3bf2-11ea-9663-02420a010f96",
     "history": [
      {
       "current": "8c75a042-fa35-11e9-bc54-02420a010e28",
       "next": "aa7c063c-96e2-11e9-8e94-02420a010063",
       "previous": "8c759ef8-fa35-11e9-bc54-02420a010e28"
      },
      {
       "current": "16351d68-fae4-11e9-956e-02420a01004a",
       "next": "16351ebc-fae4-11e9-956e-02420a01004a",
       "previous": "16351c1e-fae4-11e9-956e-02420a01004a"
      },
      {
       "current": "16351d68-fae4-11e9-956e-02420a01004a",
       "next": "16351aac-fae4-11e9-956e-02420a01004a",
       "previous": "16351660-fae4-11e9-956e-02420a01004a"
      },
      {
       "current": "42f2bbe2-37e0-11ea-ab82-02420a010db7",
       "next": "42f2bd5e-37e0-11ea-ab82-02420a010db7",
       "previous": "42f2ba66-37e0-11ea-ab82-02420a010db7"
      },
      {
       "current": "42f2bbe2-37e0-11ea-ab82-02420a010db7",
       "next": "42f2bd5e-37e0-11ea-ab82-02420a010db7",
       "previous": "42f2ba66-37e0-11ea-ab82-02420a010db7"
      },
      {
       "current": "42f2bbe2-37e0-11ea-ab82-02420a010db7",
       "next": "42f2c5b0-37e0-11ea-ab82-02420a010db7",
       "previous": "42f2c2ea-37e0-11ea-ab82-02420a010db7"
      },
      {
       "current": "42f2bbe2-37e0-11ea-ab82-02420a010db7",
       "next": "42f2c5b0-37e0-11ea-ab82-02420a010db7",
       "previous": "42f2c2ea-37e0-11ea-ab82-02420a010db7"
      },
      {
       "current": "42f2bbe2-37e0-11ea-ab82-02420a010db7",
       "next": "42f2c5b0-37e0-11ea-ab82-02420a010db7",
       "previous": "42f2c2ea-37e0-11ea-ab82-02420a010db7"
      },
      {
       "current": "42f2bbe2-37e0-11ea-ab82-02420a010db7",
       "next": "42f2c5b0-37e0-11ea-ab82-02420a010db7",
       "previous": "42f2c2ea-37e0-11ea-ab82-02420a010db7"
      },
      {
       "current": "42f2bbe2-37e0-11ea-ab82-02420a010db7",
       "next": "42f2c04c-37e0-11ea-ab82-02420a010db7",
       "previous": "42f2beda-37e0-11ea-ab82-02420a010db7"
      }
     ],
     "next": "9a7d0348-3bf2-11ea-9663-02420a010f96",
     "previous": "9a7d00e6-3bf2-11ea-9663-02420a010f96"
    }
   },
   "source": [
    "#### 演習"
   ]
  },
  {
   "cell_type": "markdown",
   "metadata": {
    "lc_cell_meme": {
     "current": "9a7d0348-3bf2-11ea-9663-02420a010f96",
     "history": [
      {
       "current": "8c759dd6-fa35-11e9-bc54-02420a010e28",
       "next": "8c759ef8-fa35-11e9-bc54-02420a010e28",
       "previous": "aa7c04f2-96e2-11e9-8e94-02420a010063"
      },
      {
       "current": "16351aac-fae4-11e9-956e-02420a01004a",
       "next": "16351c1e-fae4-11e9-956e-02420a01004a",
       "previous": "16351958-fae4-11e9-956e-02420a01004a"
      },
      {
       "current": "16351aac-fae4-11e9-956e-02420a01004a",
       "next": "19121d6a-36f8-11ea-9ea4-02420a010a70",
       "previous": "163521c8-fae4-11e9-956e-02420a01004a"
      },
      {
       "current": "42f2c04c-37e0-11ea-ab82-02420a010db7",
       "next": "42f2c1a0-37e0-11ea-ab82-02420a010db7",
       "previous": "42f2beda-37e0-11ea-ab82-02420a010db7"
      },
      {
       "current": "42f2c04c-37e0-11ea-ab82-02420a010db7",
       "next": "42f2c1a0-37e0-11ea-ab82-02420a010db7",
       "previous": "42f2bbe2-37e0-11ea-ab82-02420a010db7"
      }
     ],
     "next": "9a7d0492-3bf2-11ea-9663-02420a010f96",
     "previous": "9a7d0208-3bf2-11ea-9663-02420a010f96"
    }
   },
   "source": [
    "同様に、変数`y`と変数`Py`に，玉ねぎ1個の値段の分布を示すリストとその確率分布を示すリストを、それぞれ代入しなさい。"
   ]
  },
  {
   "cell_type": "code",
   "execution_count": null,
   "metadata": {
    "lc_cell_meme": {
     "current": "9a7d0492-3bf2-11ea-9663-02420a010f96",
     "history": [
      {
       "current": "19121d6a-36f8-11ea-9ea4-02420a010a70",
       "next": "16352362-fae4-11e9-956e-02420a01004a",
       "previous": "16351aac-fae4-11e9-956e-02420a01004a"
      },
      {
       "current": "42f2c1a0-37e0-11ea-ab82-02420a010db7",
       "next": "42f2c2ea-37e0-11ea-ab82-02420a010db7",
       "previous": "42f2c04c-37e0-11ea-ab82-02420a010db7"
      },
      {
       "current": "42f2c1a0-37e0-11ea-ab82-02420a010db7",
       "next": "42f2bbe2-37e0-11ea-ab82-02420a010db7",
       "previous": "42f2c04c-37e0-11ea-ab82-02420a010db7"
      }
     ],
     "next": "9a7d05aa-3bf2-11ea-9663-02420a010f96",
     "previous": "9a7d0348-3bf2-11ea-9663-02420a010f96"
    }
   },
   "outputs": [],
   "source": [
    "# 演習用入力欄（?を修正すること）\n",
    "y = ???\n",
    "Py = ???"
   ]
  },
  {
   "cell_type": "markdown",
   "metadata": {
    "lc_cell_meme": {
     "current": "9a7d05aa-3bf2-11ea-9663-02420a010f96",
     "history": [
      {
       "current": "8c75a042-fa35-11e9-bc54-02420a010e28",
       "next": "aa7c063c-96e2-11e9-8e94-02420a010063",
       "previous": "8c759ef8-fa35-11e9-bc54-02420a010e28"
      },
      {
       "current": "16351d68-fae4-11e9-956e-02420a01004a",
       "next": "16351ebc-fae4-11e9-956e-02420a01004a",
       "previous": "16351c1e-fae4-11e9-956e-02420a01004a"
      },
      {
       "current": "16351d68-fae4-11e9-956e-02420a01004a",
       "next": "16351aac-fae4-11e9-956e-02420a01004a",
       "previous": "16351660-fae4-11e9-956e-02420a01004a"
      },
      {
       "current": "42f2bbe2-37e0-11ea-ab82-02420a010db7",
       "next": "42f2bd5e-37e0-11ea-ab82-02420a010db7",
       "previous": "42f2ba66-37e0-11ea-ab82-02420a010db7"
      },
      {
       "current": "42f2bbe2-37e0-11ea-ab82-02420a010db7",
       "next": "42f2bd5e-37e0-11ea-ab82-02420a010db7",
       "previous": "42f2ba66-37e0-11ea-ab82-02420a010db7"
      },
      {
       "current": "42f2bbe2-37e0-11ea-ab82-02420a010db7",
       "next": "42f2c5b0-37e0-11ea-ab82-02420a010db7",
       "previous": "42f2c2ea-37e0-11ea-ab82-02420a010db7"
      },
      {
       "current": "42f2bbe2-37e0-11ea-ab82-02420a010db7",
       "next": "42f2c5b0-37e0-11ea-ab82-02420a010db7",
       "previous": "42f2c2ea-37e0-11ea-ab82-02420a010db7"
      },
      {
       "current": "42f2bbe2-37e0-11ea-ab82-02420a010db7",
       "next": "42f2c5b0-37e0-11ea-ab82-02420a010db7",
       "previous": "42f2c2ea-37e0-11ea-ab82-02420a010db7"
      },
      {
       "current": "42f2bbe2-37e0-11ea-ab82-02420a010db7",
       "next": "42f2c5b0-37e0-11ea-ab82-02420a010db7",
       "previous": "42f2c2ea-37e0-11ea-ab82-02420a010db7"
      },
      {
       "current": "42f2bbe2-37e0-11ea-ab82-02420a010db7",
       "next": "42f2c5b0-37e0-11ea-ab82-02420a010db7",
       "previous": "42f2c1a0-37e0-11ea-ab82-02420a010db7"
      }
     ],
     "next": "9a7d06fe-3bf2-11ea-9663-02420a010f96",
     "previous": "9a7d0492-3bf2-11ea-9663-02420a010f96"
    }
   },
   "source": [
    "#### 演習"
   ]
  },
  {
   "cell_type": "markdown",
   "metadata": {
    "lc_cell_meme": {
     "current": "9a7d06fe-3bf2-11ea-9663-02420a010f96",
     "history": [
      {
       "current": "8c759ef8-fa35-11e9-bc54-02420a010e28",
       "next": "8c75a042-fa35-11e9-bc54-02420a010e28",
       "previous": "8c759dd6-fa35-11e9-bc54-02420a010e28"
      },
      {
       "current": "16351c1e-fae4-11e9-956e-02420a01004a",
       "next": "16351d68-fae4-11e9-956e-02420a01004a",
       "previous": "16351aac-fae4-11e9-956e-02420a01004a"
      },
      {
       "current": "16351c1e-fae4-11e9-956e-02420a01004a",
       "next": "19121e78-36f8-11ea-9ea4-02420a010a70",
       "previous": "16352362-fae4-11e9-956e-02420a01004a"
      },
      {
       "current": "42f2c5b0-37e0-11ea-ab82-02420a010db7",
       "next": "42f2c858-37e0-11ea-ab82-02420a010db7",
       "previous": "42f2c2ea-37e0-11ea-ab82-02420a010db7"
      },
      {
       "current": "42f2c5b0-37e0-11ea-ab82-02420a010db7",
       "next": "42f2c858-37e0-11ea-ab82-02420a010db7",
       "previous": "42f2bbe2-37e0-11ea-ab82-02420a010db7"
      }
     ],
     "next": "9a7d0848-3bf2-11ea-9663-02420a010f96",
     "previous": "9a7d05aa-3bf2-11ea-9663-02420a010f96"
    }
   },
   "source": [
    "同様に、変数`z`と変数`Pz`に、じゃがいも1個の値段の分布を示すリストとその確率分布を示すリストを、それぞれ代入しなさい。"
   ]
  },
  {
   "cell_type": "code",
   "execution_count": null,
   "metadata": {
    "lc_cell_meme": {
     "current": "9a7d0848-3bf2-11ea-9663-02420a010f96",
     "history": [
      {
       "current": "19121e78-36f8-11ea-9ea4-02420a010a70",
       "next": "16352362-fae4-11e9-956e-02420a01004a",
       "previous": "16351c1e-fae4-11e9-956e-02420a01004a"
      },
      {
       "current": "42f2c858-37e0-11ea-ab82-02420a010db7",
       "next": "42f2ca1a-37e0-11ea-ab82-02420a010db7",
       "previous": "42f2c5b0-37e0-11ea-ab82-02420a010db7"
      },
      {
       "current": "42f2c858-37e0-11ea-ab82-02420a010db7",
       "next": "42f2ba66-37e0-11ea-ab82-02420a010db7",
       "previous": "42f2c5b0-37e0-11ea-ab82-02420a010db7"
      }
     ],
     "next": "9a7d0992-3bf2-11ea-9663-02420a010f96",
     "previous": "9a7d06fe-3bf2-11ea-9663-02420a010f96"
    }
   },
   "outputs": [],
   "source": [
    "# 演習用入力欄（?を修正すること）\n",
    "z = ???\n",
    "Pz = ???"
   ]
  },
  {
   "cell_type": "markdown",
   "metadata": {
    "lc_cell_meme": {
     "current": "9a7d0992-3bf2-11ea-9663-02420a010f96",
     "history": [
      {
       "current": "cebf3c98-2391-11e9-a9f8-e0d55ea40caf",
       "next": "cebf3c99-2391-11e9-a9f8-e0d55ea40caf",
       "previous": "cebf3c97-2391-11e9-a9f8-e0d55ea40caf"
      },
      {
       "current": "aa7c0254-96e2-11e9-8e94-02420a010063",
       "next": "aa7c04f2-96e2-11e9-8e94-02420a010063",
       "previous": "aa7c00ba-96e2-11e9-8e94-02420a010063"
      },
      {
       "current": "aa7c0254-96e2-11e9-8e94-02420a010063",
       "next": "8c759c6e-fa35-11e9-bc54-02420a010e28",
       "previous": "aa7bfe30-96e2-11e9-8e94-02420a010063"
      },
      {
       "current": "16351660-fae4-11e9-956e-02420a01004a",
       "next": "163517b4-fae4-11e9-956e-02420a01004a",
       "previous": "16351520-fae4-11e9-956e-02420a01004a"
      },
      {
       "current": "16351660-fae4-11e9-956e-02420a01004a",
       "next": "16351d68-fae4-11e9-956e-02420a01004a",
       "previous": "19121c5c-36f8-11ea-9ea4-02420a010a70"
      },
      {
       "current": "42f2ba66-37e0-11ea-ab82-02420a010db7",
       "next": "42f2bbe2-37e0-11ea-ab82-02420a010db7",
       "previous": "42f2b8e0-37e0-11ea-ab82-02420a010db7"
      },
      {
       "current": "42f2ba66-37e0-11ea-ab82-02420a010db7",
       "next": "42f2bbe2-37e0-11ea-ab82-02420a010db7",
       "previous": "42f2ca1a-37e0-11ea-ab82-02420a010db7"
      },
      {
       "current": "42f2ba66-37e0-11ea-ab82-02420a010db7",
       "next": "42f2cb82-37e0-11ea-ab82-02420a010db7",
       "previous": "42f2ca1a-37e0-11ea-ab82-02420a010db7"
      },
      {
       "current": "42f2ba66-37e0-11ea-ab82-02420a010db7",
       "next": "42f2cb82-37e0-11ea-ab82-02420a010db7",
       "previous": "42f2c858-37e0-11ea-ab82-02420a010db7"
      }
     ],
     "next": "9a7d0aaa-3bf2-11ea-9663-02420a010f96",
     "previous": "9a7d0848-3bf2-11ea-9663-02420a010f96"
    }
   },
   "source": [
    "### 材料費の確率分布の確認"
   ]
  },
  {
   "cell_type": "markdown",
   "metadata": {
    "lc_cell_meme": {
     "current": "9a7d0aaa-3bf2-11ea-9663-02420a010f96",
     "history": [
      {
       "current": "19121f86-36f8-11ea-9ea4-02420a010a70",
       "next": "19122120-36f8-11ea-9ea4-02420a010a70",
       "previous": "16352362-fae4-11e9-956e-02420a01004a"
      },
      {
       "current": "42f2cb82-37e0-11ea-ab82-02420a010db7",
       "next": "42f2cd76-37e0-11ea-ab82-02420a010db7",
       "previous": "42f2ca1a-37e0-11ea-ab82-02420a010db7"
      },
      {
       "current": "42f2cb82-37e0-11ea-ab82-02420a010db7",
       "next": "42f2cd76-37e0-11ea-ab82-02420a010db7",
       "previous": "42f2bbe2-37e0-11ea-ab82-02420a010db7"
      },
      {
       "current": "42f2cb82-37e0-11ea-ab82-02420a010db7",
       "next": "42f2cd76-37e0-11ea-ab82-02420a010db7",
       "previous": "42f2ba66-37e0-11ea-ab82-02420a010db7"
      }
     ],
     "next": "9a7d0c12-3bf2-11ea-9663-02420a010f96",
     "previous": "9a7d0992-3bf2-11ea-9663-02420a010f96"
    }
   },
   "source": [
    "それぞれの材料費の確率分布をグラフで表示して、値を確認します。まず、グラフ表示の準備として，matplotlib パッケージをインポートしなさい。"
   ]
  },
  {
   "cell_type": "code",
   "execution_count": null,
   "metadata": {
    "lc_cell_meme": {
     "current": "9a7d0c12-3bf2-11ea-9663-02420a010f96",
     "history": [
      {
       "current": "19122120-36f8-11ea-9ea4-02420a010a70",
       "next": "191222b0-36f8-11ea-9ea4-02420a010a70",
       "previous": "19121f86-36f8-11ea-9ea4-02420a010a70"
      },
      {
       "current": "42f2cd76-37e0-11ea-ab82-02420a010db7",
       "next": "42f2cf74-37e0-11ea-ab82-02420a010db7",
       "previous": "42f2cb82-37e0-11ea-ab82-02420a010db7"
      },
      {
       "current": "42f2cd76-37e0-11ea-ab82-02420a010db7",
       "next": "42f2bbe2-37e0-11ea-ab82-02420a010db7",
       "previous": "42f2cb82-37e0-11ea-ab82-02420a010db7"
      }
     ],
     "next": "9a7d0d52-3bf2-11ea-9663-02420a010f96",
     "previous": "9a7d0aaa-3bf2-11ea-9663-02420a010f96"
    },
    "lc_wrapper": {
     "log_history": [
      "/home/16999405x4b0807/14a/.log/20200116/20200116-054235-0208.log",
      "/home/16999405x4b0807/14a/.log/20200116/20200116-064759-0083.log",
      "/home/16999405x4b0807/14a/.log/20200121/20200121-094314-0518.log"
     ]
    }
   },
   "outputs": [],
   "source": [
    "# このセルを評価すること \n",
    "%matplotlib inline\n",
    "import matplotlib.pyplot as plt"
   ]
  },
  {
   "cell_type": "markdown",
   "metadata": {
    "lc_cell_meme": {
     "current": "9a7d0d52-3bf2-11ea-9663-02420a010f96",
     "history": [
      {
       "current": "8c75a042-fa35-11e9-bc54-02420a010e28",
       "next": "aa7c063c-96e2-11e9-8e94-02420a010063",
       "previous": "8c759ef8-fa35-11e9-bc54-02420a010e28"
      },
      {
       "current": "16351d68-fae4-11e9-956e-02420a01004a",
       "next": "16351ebc-fae4-11e9-956e-02420a01004a",
       "previous": "16351c1e-fae4-11e9-956e-02420a01004a"
      },
      {
       "current": "16351d68-fae4-11e9-956e-02420a01004a",
       "next": "16351aac-fae4-11e9-956e-02420a01004a",
       "previous": "16351660-fae4-11e9-956e-02420a01004a"
      },
      {
       "current": "42f2bbe2-37e0-11ea-ab82-02420a010db7",
       "next": "42f2bd5e-37e0-11ea-ab82-02420a010db7",
       "previous": "42f2ba66-37e0-11ea-ab82-02420a010db7"
      },
      {
       "current": "42f2bbe2-37e0-11ea-ab82-02420a010db7",
       "next": "42f2cb82-37e0-11ea-ab82-02420a010db7",
       "previous": "42f2ca1a-37e0-11ea-ab82-02420a010db7"
      },
      {
       "current": "42f2bbe2-37e0-11ea-ab82-02420a010db7",
       "next": "42f2cb82-37e0-11ea-ab82-02420a010db7",
       "previous": "42f2ca1a-37e0-11ea-ab82-02420a010db7"
      },
      {
       "current": "42f2bbe2-37e0-11ea-ab82-02420a010db7",
       "next": "42f2cb82-37e0-11ea-ab82-02420a010db7",
       "previous": "42f2ca1a-37e0-11ea-ab82-02420a010db7"
      },
      {
       "current": "42f2bbe2-37e0-11ea-ab82-02420a010db7",
       "next": "42f30e58-37e0-11ea-ab82-02420a010db7",
       "previous": "42f30cdc-37e0-11ea-ab82-02420a010db7"
      },
      {
       "current": "42f2bbe2-37e0-11ea-ab82-02420a010db7",
       "next": "42f30e58-37e0-11ea-ab82-02420a010db7",
       "previous": "42f30cdc-37e0-11ea-ab82-02420a010db7"
      },
      {
       "current": "42f2bbe2-37e0-11ea-ab82-02420a010db7",
       "next": "42f30e58-37e0-11ea-ab82-02420a010db7",
       "previous": "42f30cdc-37e0-11ea-ab82-02420a010db7"
      },
      {
       "current": "42f2bbe2-37e0-11ea-ab82-02420a010db7",
       "next": "42f30e58-37e0-11ea-ab82-02420a010db7",
       "previous": "42f30cdc-37e0-11ea-ab82-02420a010db7"
      },
      {
       "current": "42f2bbe2-37e0-11ea-ab82-02420a010db7",
       "next": "42f30e58-37e0-11ea-ab82-02420a010db7",
       "previous": "42f30cdc-37e0-11ea-ab82-02420a010db7"
      },
      {
       "current": "42f2bbe2-37e0-11ea-ab82-02420a010db7",
       "next": "42f30e58-37e0-11ea-ab82-02420a010db7",
       "previous": "42f30cdc-37e0-11ea-ab82-02420a010db7"
      },
      {
       "current": "42f2bbe2-37e0-11ea-ab82-02420a010db7",
       "next": "42f30e58-37e0-11ea-ab82-02420a010db7",
       "previous": "42f30cdc-37e0-11ea-ab82-02420a010db7"
      },
      {
       "current": "42f2bbe2-37e0-11ea-ab82-02420a010db7",
       "next": "42f30e58-37e0-11ea-ab82-02420a010db7",
       "previous": "42f30cdc-37e0-11ea-ab82-02420a010db7"
      },
      {
       "current": "42f2bbe2-37e0-11ea-ab82-02420a010db7",
       "next": "42f30e58-37e0-11ea-ab82-02420a010db7",
       "previous": "42f30cdc-37e0-11ea-ab82-02420a010db7"
      },
      {
       "current": "42f2bbe2-37e0-11ea-ab82-02420a010db7",
       "next": "42f30e58-37e0-11ea-ab82-02420a010db7",
       "previous": "42f30cdc-37e0-11ea-ab82-02420a010db7"
      },
      {
       "current": "42f2bbe2-37e0-11ea-ab82-02420a010db7",
       "next": "42f30e58-37e0-11ea-ab82-02420a010db7",
       "previous": "42f30cdc-37e0-11ea-ab82-02420a010db7"
      },
      {
       "current": "42f2bbe2-37e0-11ea-ab82-02420a010db7",
       "next": "42f30e58-37e0-11ea-ab82-02420a010db7",
       "previous": "42f30cdc-37e0-11ea-ab82-02420a010db7"
      },
      {
       "current": "42f2bbe2-37e0-11ea-ab82-02420a010db7",
       "next": "42f30e58-37e0-11ea-ab82-02420a010db7",
       "previous": "42f30cdc-37e0-11ea-ab82-02420a010db7"
      },
      {
       "current": "42f2bbe2-37e0-11ea-ab82-02420a010db7",
       "next": "42f30e58-37e0-11ea-ab82-02420a010db7",
       "previous": "42f30cdc-37e0-11ea-ab82-02420a010db7"
      },
      {
       "current": "42f2bbe2-37e0-11ea-ab82-02420a010db7",
       "next": "42f30e58-37e0-11ea-ab82-02420a010db7",
       "previous": "42f30cdc-37e0-11ea-ab82-02420a010db7"
      },
      {
       "current": "42f2bbe2-37e0-11ea-ab82-02420a010db7",
       "next": "42f30e58-37e0-11ea-ab82-02420a010db7",
       "previous": "42f30cdc-37e0-11ea-ab82-02420a010db7"
      },
      {
       "current": "42f2bbe2-37e0-11ea-ab82-02420a010db7",
       "next": "42f2cf74-37e0-11ea-ab82-02420a010db7",
       "previous": "42f2cd76-37e0-11ea-ab82-02420a010db7"
      }
     ],
     "next": "9a7d0e6a-3bf2-11ea-9663-02420a010f96",
     "previous": "9a7d0c12-3bf2-11ea-9663-02420a010f96"
    }
   },
   "source": [
    "#### 演習"
   ]
  },
  {
   "cell_type": "markdown",
   "metadata": {
    "lc_cell_meme": {
     "current": "9a7d0e6a-3bf2-11ea-9663-02420a010f96",
     "history": [
      {
       "current": "191222b0-36f8-11ea-9ea4-02420a010a70",
       "next": "191223a0-36f8-11ea-9ea4-02420a010a70",
       "previous": "19122120-36f8-11ea-9ea4-02420a010a70"
      },
      {
       "current": "42f2cf74-37e0-11ea-ab82-02420a010db7",
       "next": "42f2d0be-37e0-11ea-ab82-02420a010db7",
       "previous": "42f2cd76-37e0-11ea-ab82-02420a010db7"
      },
      {
       "current": "42f2cf74-37e0-11ea-ab82-02420a010db7",
       "next": "42f2d0be-37e0-11ea-ab82-02420a010db7",
       "previous": "42f2bbe2-37e0-11ea-ab82-02420a010db7"
      }
     ],
     "next": "9a7d0fd2-3bf2-11ea-9663-02420a010f96",
     "previous": "9a7d0d52-3bf2-11ea-9663-02420a010f96"
    }
   },
   "source": [
    "肉の100グラムの値段の確率分布について、横軸を`x`、縦軸を`Px`としたグラフを表示しなさい。"
   ]
  },
  {
   "cell_type": "code",
   "execution_count": null,
   "metadata": {
    "lc_cell_meme": {
     "current": "9a7d0fd2-3bf2-11ea-9663-02420a010f96",
     "history": [
      {
       "current": "191223a0-36f8-11ea-9ea4-02420a010a70",
       "next": "16351660-fae4-11e9-956e-02420a01004a",
       "previous": "191222b0-36f8-11ea-9ea4-02420a010a70"
      },
      {
       "current": "42f2d0be-37e0-11ea-ab82-02420a010db7",
       "next": "42f2d208-37e0-11ea-ab82-02420a010db7",
       "previous": "42f2cf74-37e0-11ea-ab82-02420a010db7"
      },
      {
       "current": "42f2d0be-37e0-11ea-ab82-02420a010db7",
       "next": "42f2bbe2-37e0-11ea-ab82-02420a010db7",
       "previous": "42f2cf74-37e0-11ea-ab82-02420a010db7"
      }
     ],
     "next": "9a7d1112-3bf2-11ea-9663-02420a010f96",
     "previous": "9a7d0e6a-3bf2-11ea-9663-02420a010f96"
    },
    "lc_wrapper": {
     "log_history": [
      "/home/16999405x4b0807/14a/.log/20200116/20200116-054240-0003.log",
      "/home/16999405x4b0807/14a/.log/20200116/20200116-064801-0165.log",
      "/home/16999405x4b0807/14a/.log/20200121/20200121-094316-0925.log"
     ]
    }
   },
   "outputs": [],
   "source": [
    "# このセルを評価すること \n",
    "plt.plot(x, Px)"
   ]
  },
  {
   "cell_type": "markdown",
   "metadata": {
    "lc_cell_meme": {
     "current": "9a7d1112-3bf2-11ea-9663-02420a010f96",
     "history": [
      {
       "current": "8c75a042-fa35-11e9-bc54-02420a010e28",
       "next": "aa7c063c-96e2-11e9-8e94-02420a010063",
       "previous": "8c759ef8-fa35-11e9-bc54-02420a010e28"
      },
      {
       "current": "16351d68-fae4-11e9-956e-02420a01004a",
       "next": "16351ebc-fae4-11e9-956e-02420a01004a",
       "previous": "16351c1e-fae4-11e9-956e-02420a01004a"
      },
      {
       "current": "16351d68-fae4-11e9-956e-02420a01004a",
       "next": "16351aac-fae4-11e9-956e-02420a01004a",
       "previous": "16351660-fae4-11e9-956e-02420a01004a"
      },
      {
       "current": "42f2bbe2-37e0-11ea-ab82-02420a010db7",
       "next": "42f2bd5e-37e0-11ea-ab82-02420a010db7",
       "previous": "42f2ba66-37e0-11ea-ab82-02420a010db7"
      },
      {
       "current": "42f2bbe2-37e0-11ea-ab82-02420a010db7",
       "next": "42f2cb82-37e0-11ea-ab82-02420a010db7",
       "previous": "42f2ca1a-37e0-11ea-ab82-02420a010db7"
      },
      {
       "current": "42f2bbe2-37e0-11ea-ab82-02420a010db7",
       "next": "42f2cb82-37e0-11ea-ab82-02420a010db7",
       "previous": "42f2ca1a-37e0-11ea-ab82-02420a010db7"
      },
      {
       "current": "42f2bbe2-37e0-11ea-ab82-02420a010db7",
       "next": "42f2cb82-37e0-11ea-ab82-02420a010db7",
       "previous": "42f2ca1a-37e0-11ea-ab82-02420a010db7"
      },
      {
       "current": "42f2bbe2-37e0-11ea-ab82-02420a010db7",
       "next": "42f30e58-37e0-11ea-ab82-02420a010db7",
       "previous": "42f30cdc-37e0-11ea-ab82-02420a010db7"
      },
      {
       "current": "42f2bbe2-37e0-11ea-ab82-02420a010db7",
       "next": "42f30e58-37e0-11ea-ab82-02420a010db7",
       "previous": "42f30cdc-37e0-11ea-ab82-02420a010db7"
      },
      {
       "current": "42f2bbe2-37e0-11ea-ab82-02420a010db7",
       "next": "42f30e58-37e0-11ea-ab82-02420a010db7",
       "previous": "42f30cdc-37e0-11ea-ab82-02420a010db7"
      },
      {
       "current": "42f2bbe2-37e0-11ea-ab82-02420a010db7",
       "next": "42f30e58-37e0-11ea-ab82-02420a010db7",
       "previous": "42f30cdc-37e0-11ea-ab82-02420a010db7"
      },
      {
       "current": "42f2bbe2-37e0-11ea-ab82-02420a010db7",
       "next": "42f30e58-37e0-11ea-ab82-02420a010db7",
       "previous": "42f30cdc-37e0-11ea-ab82-02420a010db7"
      },
      {
       "current": "42f2bbe2-37e0-11ea-ab82-02420a010db7",
       "next": "42f2d7f8-37e0-11ea-ab82-02420a010db7",
       "previous": "42f2d65e-37e0-11ea-ab82-02420a010db7"
      },
      {
       "current": "42f2bbe2-37e0-11ea-ab82-02420a010db7",
       "next": "42f2d7f8-37e0-11ea-ab82-02420a010db7",
       "previous": "42f2d65e-37e0-11ea-ab82-02420a010db7"
      },
      {
       "current": "42f2bbe2-37e0-11ea-ab82-02420a010db7",
       "next": "42f2d7f8-37e0-11ea-ab82-02420a010db7",
       "previous": "42f2d65e-37e0-11ea-ab82-02420a010db7"
      },
      {
       "current": "42f2bbe2-37e0-11ea-ab82-02420a010db7",
       "next": "42f2d7f8-37e0-11ea-ab82-02420a010db7",
       "previous": "42f2d65e-37e0-11ea-ab82-02420a010db7"
      },
      {
       "current": "42f2bbe2-37e0-11ea-ab82-02420a010db7",
       "next": "42f2d208-37e0-11ea-ab82-02420a010db7",
       "previous": "42f2d0be-37e0-11ea-ab82-02420a010db7"
      }
     ],
     "next": "9a7d1248-3bf2-11ea-9663-02420a010f96",
     "previous": "9a7d0fd2-3bf2-11ea-9663-02420a010f96"
    }
   },
   "source": [
    "#### 演習"
   ]
  },
  {
   "cell_type": "markdown",
   "metadata": {
    "lc_cell_meme": {
     "current": "9a7d1248-3bf2-11ea-9663-02420a010f96",
     "history": [
      {
       "current": "cebf3c98-2391-11e9-a9f8-e0d55ea40caf",
       "next": "cebf3c99-2391-11e9-a9f8-e0d55ea40caf",
       "previous": "cebf3c97-2391-11e9-a9f8-e0d55ea40caf"
      },
      {
       "current": "aa7c0254-96e2-11e9-8e94-02420a010063",
       "next": "aa7c04f2-96e2-11e9-8e94-02420a010063",
       "previous": "aa7c00ba-96e2-11e9-8e94-02420a010063"
      },
      {
       "current": "aa7c0254-96e2-11e9-8e94-02420a010063",
       "next": "8c759c6e-fa35-11e9-bc54-02420a010e28",
       "previous": "aa7bfe30-96e2-11e9-8e94-02420a010063"
      },
      {
       "current": "16351660-fae4-11e9-956e-02420a01004a",
       "next": "163517b4-fae4-11e9-956e-02420a01004a",
       "previous": "16351520-fae4-11e9-956e-02420a01004a"
      },
      {
       "current": "16351660-fae4-11e9-956e-02420a01004a",
       "next": "1635293e-fae4-11e9-956e-02420a01004a",
       "previous": "191223a0-36f8-11ea-9ea4-02420a010a70"
      },
      {
       "current": "42f2d208-37e0-11ea-ab82-02420a010db7",
       "next": "42f2d352-37e0-11ea-ab82-02420a010db7",
       "previous": "42f2d0be-37e0-11ea-ab82-02420a010db7"
      },
      {
       "current": "42f2d208-37e0-11ea-ab82-02420a010db7",
       "next": "42f2d352-37e0-11ea-ab82-02420a010db7",
       "previous": "42f2bbe2-37e0-11ea-ab82-02420a010db7"
      }
     ],
     "next": "9a7d13a6-3bf2-11ea-9663-02420a010f96",
     "previous": "9a7d1112-3bf2-11ea-9663-02420a010f96"
    }
   },
   "source": [
    "同様に、玉ねぎ1個の値段の確率分布について、横軸を`y`、縦軸を`Py`としたグラフを表示しなさい。"
   ]
  },
  {
   "cell_type": "code",
   "execution_count": null,
   "metadata": {
    "lc_cell_meme": {
     "current": "9a7d13a6-3bf2-11ea-9663-02420a010f96",
     "history": [
      {
       "current": "cebf3c9b-2391-11e9-a9f8-e0d55ea40caf",
       "next": "cebf3c9c-2391-11e9-a9f8-e0d55ea40caf",
       "previous": "cebf3c9a-2391-11e9-a9f8-e0d55ea40caf"
      },
      {
       "current": "cebf3c9b-2391-11e9-a9f8-e0d55ea40caf",
       "next": "cebf3c9b-2391-11e9-a9f8-e0d55ea40caf",
       "previous": "cebf3c9b-2391-11e9-a9f8-e0d55ea40caf"
      },
      {
       "current": "cebf3c9b-2391-11e9-a9f8-e0d55ea40caf",
       "next": "a55591b7-2392-11e9-a9f8-e0d55ea40caf",
       "previous": "a55591b6-2392-11e9-a9f8-e0d55ea40caf"
      },
      {
       "current": "aa7c0d08-96e2-11e9-8e94-02420a010063",
       "next": "aa7c0e02-96e2-11e9-8e94-02420a010063",
       "previous": "aa7c0baa-96e2-11e9-8e94-02420a010063"
      },
      {
       "current": "aa7c0d08-96e2-11e9-8e94-02420a010063",
       "next": "aa7c0d08-96e2-11e9-8e94-02420a010063",
       "previous": "aa7c0baa-96e2-11e9-8e94-02420a010063"
      },
      {
       "current": "1635293e-fae4-11e9-956e-02420a01004a",
       "next": "16352a88-fae4-11e9-956e-02420a01004a",
       "previous": "163527cc-fae4-11e9-956e-02420a01004a"
      },
      {
       "current": "1635293e-fae4-11e9-956e-02420a01004a",
       "next": "16352a88-fae4-11e9-956e-02420a01004a",
       "previous": "16351660-fae4-11e9-956e-02420a01004a"
      },
      {
       "current": "42f2d352-37e0-11ea-ab82-02420a010db7",
       "next": "42f2d4d8-37e0-11ea-ab82-02420a010db7",
       "previous": "42f2d208-37e0-11ea-ab82-02420a010db7"
      },
      {
       "current": "42f2d352-37e0-11ea-ab82-02420a010db7",
       "next": "42f2d65e-37e0-11ea-ab82-02420a010db7",
       "previous": "42f2d208-37e0-11ea-ab82-02420a010db7"
      }
     ],
     "next": "9a7d14be-3bf2-11ea-9663-02420a010f96",
     "previous": "9a7d1248-3bf2-11ea-9663-02420a010f96"
    },
    "lc_wrapper": {
     "log_history": [
      "/home/kuwata/notebooks/.log/20190129/20190129-164902-0210.log"
     ]
    }
   },
   "outputs": [],
   "source": [
    "# 演習用入力欄\n"
   ]
  },
  {
   "cell_type": "markdown",
   "metadata": {
    "lc_cell_meme": {
     "current": "9a7d14be-3bf2-11ea-9663-02420a010f96",
     "history": [
      {
       "current": "8c75a376-fa35-11e9-bc54-02420a010e28",
       "next": "aa7c101e-96e2-11e9-8e94-02420a010063",
       "previous": "aa7c0d08-96e2-11e9-8e94-02420a010063"
      },
      {
       "current": "16352bfa-fae4-11e9-956e-02420a01004a",
       "next": "16352d6c-fae4-11e9-956e-02420a01004a",
       "previous": "16352a88-fae4-11e9-956e-02420a01004a"
      },
      {
       "current": "16352bfa-fae4-11e9-956e-02420a01004a",
       "next": "16351660-fae4-11e9-956e-02420a01004a",
       "previous": "16352a88-fae4-11e9-956e-02420a01004a"
      },
      {
       "current": "42f2d65e-37e0-11ea-ab82-02420a010db7",
       "next": "42f2d7f8-37e0-11ea-ab82-02420a010db7",
       "previous": "42f2d4d8-37e0-11ea-ab82-02420a010db7"
      },
      {
       "current": "42f2d65e-37e0-11ea-ab82-02420a010db7",
       "next": "42f2bbe2-37e0-11ea-ab82-02420a010db7",
       "previous": "42f2d4d8-37e0-11ea-ab82-02420a010db7"
      },
      {
       "current": "42f2d65e-37e0-11ea-ab82-02420a010db7",
       "next": "42f2bbe2-37e0-11ea-ab82-02420a010db7",
       "previous": "42f2d352-37e0-11ea-ab82-02420a010db7"
      }
     ],
     "next": "9a7d15fe-3bf2-11ea-9663-02420a010f96",
     "previous": "9a7d13a6-3bf2-11ea-9663-02420a010f96"
    }
   },
   "source": [
    "<font size=\"2\" color=\"blue\">ヒント：教科書P119のOut[6]のグラフと同じであることを確認しなさい。</font>"
   ]
  },
  {
   "cell_type": "markdown",
   "metadata": {
    "lc_cell_meme": {
     "current": "9a7d15fe-3bf2-11ea-9663-02420a010f96",
     "history": [
      {
       "current": "8c75a042-fa35-11e9-bc54-02420a010e28",
       "next": "aa7c063c-96e2-11e9-8e94-02420a010063",
       "previous": "8c759ef8-fa35-11e9-bc54-02420a010e28"
      },
      {
       "current": "16351d68-fae4-11e9-956e-02420a01004a",
       "next": "16351ebc-fae4-11e9-956e-02420a01004a",
       "previous": "16351c1e-fae4-11e9-956e-02420a01004a"
      },
      {
       "current": "16351d68-fae4-11e9-956e-02420a01004a",
       "next": "16351aac-fae4-11e9-956e-02420a01004a",
       "previous": "16351660-fae4-11e9-956e-02420a01004a"
      },
      {
       "current": "42f2bbe2-37e0-11ea-ab82-02420a010db7",
       "next": "42f2bd5e-37e0-11ea-ab82-02420a010db7",
       "previous": "42f2ba66-37e0-11ea-ab82-02420a010db7"
      },
      {
       "current": "42f2bbe2-37e0-11ea-ab82-02420a010db7",
       "next": "42f2cb82-37e0-11ea-ab82-02420a010db7",
       "previous": "42f2ca1a-37e0-11ea-ab82-02420a010db7"
      },
      {
       "current": "42f2bbe2-37e0-11ea-ab82-02420a010db7",
       "next": "42f2cb82-37e0-11ea-ab82-02420a010db7",
       "previous": "42f2ca1a-37e0-11ea-ab82-02420a010db7"
      },
      {
       "current": "42f2bbe2-37e0-11ea-ab82-02420a010db7",
       "next": "42f2cb82-37e0-11ea-ab82-02420a010db7",
       "previous": "42f2ca1a-37e0-11ea-ab82-02420a010db7"
      },
      {
       "current": "42f2bbe2-37e0-11ea-ab82-02420a010db7",
       "next": "42f30e58-37e0-11ea-ab82-02420a010db7",
       "previous": "42f30cdc-37e0-11ea-ab82-02420a010db7"
      },
      {
       "current": "42f2bbe2-37e0-11ea-ab82-02420a010db7",
       "next": "42f30e58-37e0-11ea-ab82-02420a010db7",
       "previous": "42f30cdc-37e0-11ea-ab82-02420a010db7"
      },
      {
       "current": "42f2bbe2-37e0-11ea-ab82-02420a010db7",
       "next": "42f30e58-37e0-11ea-ab82-02420a010db7",
       "previous": "42f30cdc-37e0-11ea-ab82-02420a010db7"
      },
      {
       "current": "42f2bbe2-37e0-11ea-ab82-02420a010db7",
       "next": "42f30e58-37e0-11ea-ab82-02420a010db7",
       "previous": "42f30cdc-37e0-11ea-ab82-02420a010db7"
      },
      {
       "current": "42f2bbe2-37e0-11ea-ab82-02420a010db7",
       "next": "42f30e58-37e0-11ea-ab82-02420a010db7",
       "previous": "42f30cdc-37e0-11ea-ab82-02420a010db7"
      },
      {
       "current": "42f2bbe2-37e0-11ea-ab82-02420a010db7",
       "next": "42f2d7f8-37e0-11ea-ab82-02420a010db7",
       "previous": "42f2d65e-37e0-11ea-ab82-02420a010db7"
      },
      {
       "current": "42f2bbe2-37e0-11ea-ab82-02420a010db7",
       "next": "42f2d7f8-37e0-11ea-ab82-02420a010db7",
       "previous": "42f2d65e-37e0-11ea-ab82-02420a010db7"
      },
      {
       "current": "42f2bbe2-37e0-11ea-ab82-02420a010db7",
       "next": "42f2d7f8-37e0-11ea-ab82-02420a010db7",
       "previous": "42f2d65e-37e0-11ea-ab82-02420a010db7"
      },
      {
       "current": "42f2bbe2-37e0-11ea-ab82-02420a010db7",
       "next": "42f2d7f8-37e0-11ea-ab82-02420a010db7",
       "previous": "42f2d65e-37e0-11ea-ab82-02420a010db7"
      }
     ],
     "next": "9a7d17fc-3bf2-11ea-9663-02420a010f96",
     "previous": "9a7d14be-3bf2-11ea-9663-02420a010f96"
    }
   },
   "source": [
    "#### 演習"
   ]
  },
  {
   "cell_type": "markdown",
   "metadata": {
    "lc_cell_meme": {
     "current": "9a7d17fc-3bf2-11ea-9663-02420a010f96",
     "history": [
      {
       "current": "cebf3c98-2391-11e9-a9f8-e0d55ea40caf",
       "next": "cebf3c99-2391-11e9-a9f8-e0d55ea40caf",
       "previous": "cebf3c97-2391-11e9-a9f8-e0d55ea40caf"
      },
      {
       "current": "aa7c0254-96e2-11e9-8e94-02420a010063",
       "next": "aa7c04f2-96e2-11e9-8e94-02420a010063",
       "previous": "aa7c00ba-96e2-11e9-8e94-02420a010063"
      },
      {
       "current": "aa7c0254-96e2-11e9-8e94-02420a010063",
       "next": "8c759c6e-fa35-11e9-bc54-02420a010e28",
       "previous": "aa7bfe30-96e2-11e9-8e94-02420a010063"
      },
      {
       "current": "16351660-fae4-11e9-956e-02420a01004a",
       "next": "163517b4-fae4-11e9-956e-02420a01004a",
       "previous": "16351520-fae4-11e9-956e-02420a01004a"
      },
      {
       "current": "16351660-fae4-11e9-956e-02420a01004a",
       "next": "1635293e-fae4-11e9-956e-02420a01004a",
       "previous": "16352bfa-fae4-11e9-956e-02420a01004a"
      },
      {
       "current": "42f2d7f8-37e0-11ea-ab82-02420a010db7",
       "next": "42f2d974-37e0-11ea-ab82-02420a010db7",
       "previous": "42f2d65e-37e0-11ea-ab82-02420a010db7"
      },
      {
       "current": "42f2d7f8-37e0-11ea-ab82-02420a010db7",
       "next": "42f2d974-37e0-11ea-ab82-02420a010db7",
       "previous": "42f2bbe2-37e0-11ea-ab82-02420a010db7"
      }
     ],
     "next": "9a7d195a-3bf2-11ea-9663-02420a010f96",
     "previous": "9a7d15fe-3bf2-11ea-9663-02420a010f96"
    }
   },
   "source": [
    "同様に、じゃがいも1個の値段の確率分布について、横軸を`z`、縦軸を`Pz`としたグラフを表示しなさい。"
   ]
  },
  {
   "cell_type": "code",
   "execution_count": null,
   "metadata": {
    "lc_cell_meme": {
     "current": "9a7d195a-3bf2-11ea-9663-02420a010f96",
     "history": [
      {
       "current": "cebf3c9b-2391-11e9-a9f8-e0d55ea40caf",
       "next": "cebf3c9c-2391-11e9-a9f8-e0d55ea40caf",
       "previous": "cebf3c9a-2391-11e9-a9f8-e0d55ea40caf"
      },
      {
       "current": "cebf3c9b-2391-11e9-a9f8-e0d55ea40caf",
       "next": "cebf3c9b-2391-11e9-a9f8-e0d55ea40caf",
       "previous": "cebf3c9b-2391-11e9-a9f8-e0d55ea40caf"
      },
      {
       "current": "cebf3c9b-2391-11e9-a9f8-e0d55ea40caf",
       "next": "a55591b7-2392-11e9-a9f8-e0d55ea40caf",
       "previous": "a55591b6-2392-11e9-a9f8-e0d55ea40caf"
      },
      {
       "current": "aa7c0d08-96e2-11e9-8e94-02420a010063",
       "next": "aa7c0e02-96e2-11e9-8e94-02420a010063",
       "previous": "aa7c0baa-96e2-11e9-8e94-02420a010063"
      },
      {
       "current": "aa7c0d08-96e2-11e9-8e94-02420a010063",
       "next": "aa7c0d08-96e2-11e9-8e94-02420a010063",
       "previous": "aa7c0baa-96e2-11e9-8e94-02420a010063"
      },
      {
       "current": "1635293e-fae4-11e9-956e-02420a01004a",
       "next": "16352a88-fae4-11e9-956e-02420a01004a",
       "previous": "163527cc-fae4-11e9-956e-02420a01004a"
      },
      {
       "current": "1635293e-fae4-11e9-956e-02420a01004a",
       "next": "16352a88-fae4-11e9-956e-02420a01004a",
       "previous": "16351660-fae4-11e9-956e-02420a01004a"
      },
      {
       "current": "42f2d974-37e0-11ea-ab82-02420a010db7",
       "next": "42f2daf0-37e0-11ea-ab82-02420a010db7",
       "previous": "42f2d7f8-37e0-11ea-ab82-02420a010db7"
      },
      {
       "current": "42f2d974-37e0-11ea-ab82-02420a010db7",
       "next": "42f2dc80-37e0-11ea-ab82-02420a010db7",
       "previous": "42f2d7f8-37e0-11ea-ab82-02420a010db7"
      }
     ],
     "next": "9a7d1a7c-3bf2-11ea-9663-02420a010f96",
     "previous": "9a7d17fc-3bf2-11ea-9663-02420a010f96"
    },
    "lc_wrapper": {
     "log_history": [
      "/home/kuwata/notebooks/.log/20190129/20190129-164902-0210.log",
      "/home/16999405x4b0807/14a/.log/20200121/20200121-092935-0821.log"
     ]
    }
   },
   "outputs": [],
   "source": [
    "# 演習用入力欄\n"
   ]
  },
  {
   "cell_type": "markdown",
   "metadata": {
    "lc_cell_meme": {
     "current": "9a7d1a7c-3bf2-11ea-9663-02420a010f96",
     "history": [
      {
       "current": "8c75a376-fa35-11e9-bc54-02420a010e28",
       "next": "aa7c101e-96e2-11e9-8e94-02420a010063",
       "previous": "aa7c0d08-96e2-11e9-8e94-02420a010063"
      },
      {
       "current": "16352bfa-fae4-11e9-956e-02420a01004a",
       "next": "16352d6c-fae4-11e9-956e-02420a01004a",
       "previous": "16352a88-fae4-11e9-956e-02420a01004a"
      },
      {
       "current": "16352bfa-fae4-11e9-956e-02420a01004a",
       "next": "16351660-fae4-11e9-956e-02420a01004a",
       "previous": "16352a88-fae4-11e9-956e-02420a01004a"
      },
      {
       "current": "42f2dc80-37e0-11ea-ab82-02420a010db7",
       "next": "42f2ddca-37e0-11ea-ab82-02420a010db7",
       "previous": "42f2daf0-37e0-11ea-ab82-02420a010db7"
      },
      {
       "current": "42f2dc80-37e0-11ea-ab82-02420a010db7",
       "next": "42f2ddca-37e0-11ea-ab82-02420a010db7",
       "previous": "42f2d974-37e0-11ea-ab82-02420a010db7"
      }
     ],
     "next": "9a7d1c66-3bf2-11ea-9663-02420a010f96",
     "previous": "9a7d195a-3bf2-11ea-9663-02420a010f96"
    }
   },
   "source": [
    "<font size=\"2\" color=\"blue\">ヒント：教科書P119のOut[7]のグラフと同じであることを確認しなさい。</font>"
   ]
  },
  {
   "cell_type": "markdown",
   "metadata": {
    "lc_cell_meme": {
     "current": "9a7d1c66-3bf2-11ea-9663-02420a010f96",
     "history": [
      {
       "current": "cebf3c98-2391-11e9-a9f8-e0d55ea40caf",
       "next": "cebf3c99-2391-11e9-a9f8-e0d55ea40caf",
       "previous": "cebf3c97-2391-11e9-a9f8-e0d55ea40caf"
      },
      {
       "current": "aa7c0254-96e2-11e9-8e94-02420a010063",
       "next": "aa7c04f2-96e2-11e9-8e94-02420a010063",
       "previous": "aa7c00ba-96e2-11e9-8e94-02420a010063"
      },
      {
       "current": "aa7c0254-96e2-11e9-8e94-02420a010063",
       "next": "8c759c6e-fa35-11e9-bc54-02420a010e28",
       "previous": "aa7bfe30-96e2-11e9-8e94-02420a010063"
      },
      {
       "current": "16351660-fae4-11e9-956e-02420a01004a",
       "next": "163517b4-fae4-11e9-956e-02420a01004a",
       "previous": "16351520-fae4-11e9-956e-02420a01004a"
      },
      {
       "current": "16351660-fae4-11e9-956e-02420a01004a",
       "next": "19122486-36f8-11ea-9ea4-02420a010a70",
       "previous": "16352bfa-fae4-11e9-956e-02420a01004a"
      },
      {
       "current": "42f2ddca-37e0-11ea-ab82-02420a010db7",
       "next": "42f2df50-37e0-11ea-ab82-02420a010db7",
       "previous": "42f2dc80-37e0-11ea-ab82-02420a010db7"
      }
     ],
     "next": "9a7d1db0-3bf2-11ea-9663-02420a010f96",
     "previous": "9a7d1a7c-3bf2-11ea-9663-02420a010f96"
    }
   },
   "source": [
    "### 材料費のサンプルの作成"
   ]
  },
  {
   "cell_type": "markdown",
   "metadata": {
    "lc_cell_meme": {
     "current": "9a7d1db0-3bf2-11ea-9663-02420a010f96",
     "history": [
      {
       "current": "19122486-36f8-11ea-9ea4-02420a010a70",
       "next": "16351d68-fae4-11e9-956e-02420a01004a",
       "previous": "16351660-fae4-11e9-956e-02420a01004a"
      },
      {
       "current": "42f2df50-37e0-11ea-ab82-02420a010db7",
       "next": "42f2e0cc-37e0-11ea-ab82-02420a010db7",
       "previous": "42f2ddca-37e0-11ea-ab82-02420a010db7"
      },
      {
       "current": "42f2df50-37e0-11ea-ab82-02420a010db7",
       "next": "42f2e216-37e0-11ea-ab82-02420a010db7",
       "previous": "42f2ddca-37e0-11ea-ab82-02420a010db7"
      }
     ],
     "next": "9a7d1efa-3bf2-11ea-9663-02420a010f96",
     "previous": "9a7d1c66-3bf2-11ea-9663-02420a010f96"
    }
   },
   "source": [
    "カレーライスの材料費は確率的に決まると仮定したので、乱数を使って材料費のサンプルを作成します。"
   ]
  },
  {
   "cell_type": "markdown",
   "metadata": {
    "lc_cell_meme": {
     "current": "9a7d1efa-3bf2-11ea-9663-02420a010f96",
     "history": [
      {
       "current": "19122576-36f8-11ea-9ea4-02420a010a70",
       "next": "163534a6-fae4-11e9-956e-02420a01004a",
       "previous": "16351d68-fae4-11e9-956e-02420a01004a"
      },
      {
       "current": "42f2e216-37e0-11ea-ab82-02420a010db7",
       "next": "42f2e392-37e0-11ea-ab82-02420a010db7",
       "previous": "42f2e0cc-37e0-11ea-ab82-02420a010db7"
      },
      {
       "current": "42f2e216-37e0-11ea-ab82-02420a010db7",
       "next": "42f2e392-37e0-11ea-ab82-02420a010db7",
       "previous": "42f2df50-37e0-11ea-ab82-02420a010db7"
      }
     ],
     "next": "9a7d203a-3bf2-11ea-9663-02420a010f96",
     "previous": "9a7d1db0-3bf2-11ea-9663-02420a010f96"
    }
   },
   "source": [
    "表2の確率分布に従って肉の値段のサンプルを作成するためには、`random`モジュールに含まれる`random.choices()`を利用します。まず、`random`モジュールをインポートしなさい。"
   ]
  },
  {
   "cell_type": "code",
   "execution_count": null,
   "metadata": {
    "lc_cell_meme": {
     "current": "9a7d203a-3bf2-11ea-9663-02420a010f96",
     "history": [
      {
       "current": "8c75a628-fa35-11e9-bc54-02420a010e28",
       "next": "8c75a72c-fa35-11e9-bc54-02420a010e28",
       "previous": "aa7c0baa-96e2-11e9-8e94-02420a010063"
      },
      {
       "current": "163534a6-fae4-11e9-956e-02420a01004a",
       "next": "16353618-fae4-11e9-956e-02420a01004a",
       "previous": "1635335c-fae4-11e9-956e-02420a01004a"
      },
      {
       "current": "163534a6-fae4-11e9-956e-02420a01004a",
       "next": "163539f6-fae4-11e9-956e-02420a01004a",
       "previous": "19122576-36f8-11ea-9ea4-02420a010a70"
      },
      {
       "current": "42f2e392-37e0-11ea-ab82-02420a010db7",
       "next": "42f2e4dc-37e0-11ea-ab82-02420a010db7",
       "previous": "42f2e216-37e0-11ea-ab82-02420a010db7"
      },
      {
       "current": "42f2e392-37e0-11ea-ab82-02420a010db7",
       "next": "42f2e0cc-37e0-11ea-ab82-02420a010db7",
       "previous": "42f2e216-37e0-11ea-ab82-02420a010db7"
      }
     ],
     "next": "9a7d2170-3bf2-11ea-9663-02420a010f96",
     "previous": "9a7d1efa-3bf2-11ea-9663-02420a010f96"
    },
    "lc_wrapper": {
     "log_history": [
      "/home/16999405x4b0807/14a/.log/20200116/20200116-054335-0714.log",
      "/home/16999405x4b0807/14a/.log/20200116/20200116-064813-0480.log",
      "/home/16999405x4b0807/14a/.log/20200121/20200121-094327-0455.log"
     ]
    }
   },
   "outputs": [],
   "source": [
    "# このセルを評価すること \n",
    "import random"
   ]
  },
  {
   "cell_type": "markdown",
   "metadata": {
    "lc_cell_meme": {
     "current": "9a7d2170-3bf2-11ea-9663-02420a010f96",
     "history": [
      {
       "current": "8c75a042-fa35-11e9-bc54-02420a010e28",
       "next": "aa7c063c-96e2-11e9-8e94-02420a010063",
       "previous": "8c759ef8-fa35-11e9-bc54-02420a010e28"
      },
      {
       "current": "16351d68-fae4-11e9-956e-02420a01004a",
       "next": "16351ebc-fae4-11e9-956e-02420a01004a",
       "previous": "16351c1e-fae4-11e9-956e-02420a01004a"
      },
      {
       "current": "16351d68-fae4-11e9-956e-02420a01004a",
       "next": "19122576-36f8-11ea-9ea4-02420a010a70",
       "previous": "19122486-36f8-11ea-9ea4-02420a010a70"
      },
      {
       "current": "42f2e0cc-37e0-11ea-ab82-02420a010db7",
       "next": "42f2e216-37e0-11ea-ab82-02420a010db7",
       "previous": "42f2df50-37e0-11ea-ab82-02420a010db7"
      },
      {
       "current": "42f2e0cc-37e0-11ea-ab82-02420a010db7",
       "next": "42f2e662-37e0-11ea-ab82-02420a010db7",
       "previous": "42f2e4dc-37e0-11ea-ab82-02420a010db7"
      },
      {
       "current": "42f2e0cc-37e0-11ea-ab82-02420a010db7",
       "next": "42f2e4dc-37e0-11ea-ab82-02420a010db7",
       "previous": "42f2e392-37e0-11ea-ab82-02420a010db7"
      }
     ],
     "next": "9a7d22b0-3bf2-11ea-9663-02420a010f96",
     "previous": "9a7d203a-3bf2-11ea-9663-02420a010f96"
    }
   },
   "source": [
    "#### 演習"
   ]
  },
  {
   "cell_type": "markdown",
   "metadata": {
    "lc_cell_meme": {
     "current": "9a7d22b0-3bf2-11ea-9663-02420a010f96",
     "history": [
      {
       "current": "8c75a92a-fa35-11e9-bc54-02420a010e28",
       "next": "aa7c0d08-96e2-11e9-8e94-02420a010063",
       "previous": "aa7c0baa-96e2-11e9-8e94-02420a010063"
      },
      {
       "current": "163539f6-fae4-11e9-956e-02420a01004a",
       "next": "16353b4a-fae4-11e9-956e-02420a01004a",
       "previous": "163538ac-fae4-11e9-956e-02420a01004a"
      },
      {
       "current": "163539f6-fae4-11e9-956e-02420a01004a",
       "next": "16353b4a-fae4-11e9-956e-02420a01004a",
       "previous": "163534a6-fae4-11e9-956e-02420a01004a"
      },
      {
       "current": "163539f6-fae4-11e9-956e-02420a01004a",
       "next": "99f78060-37d8-11ea-a014-02420a010db7",
       "previous": "163534a6-fae4-11e9-956e-02420a01004a"
      },
      {
       "current": "42f2e4dc-37e0-11ea-ab82-02420a010db7",
       "next": "42f2e662-37e0-11ea-ab82-02420a010db7",
       "previous": "42f2e392-37e0-11ea-ab82-02420a010db7"
      },
      {
       "current": "42f2e4dc-37e0-11ea-ab82-02420a010db7",
       "next": "42f2e0cc-37e0-11ea-ab82-02420a010db7",
       "previous": "42f2e392-37e0-11ea-ab82-02420a010db7"
      },
      {
       "current": "42f2e4dc-37e0-11ea-ab82-02420a010db7",
       "next": "42f2e662-37e0-11ea-ab82-02420a010db7",
       "previous": "42f2e0cc-37e0-11ea-ab82-02420a010db7"
      }
     ],
     "next": "9a7d23e6-3bf2-11ea-9663-02420a010f96",
     "previous": "9a7d2170-3bf2-11ea-9663-02420a010f96"
    }
   },
   "source": [
    "`random.choices(’サンプル’, weight=’確率分布’, k=’サンプル数’)`は、指定した”サンプル”の中から”確率分布”に従って”サンプル数”個の値を取り出す関数です。肉100グラムのサンプル値段は、肉の値段分布`x`、それぞれの値段が選ばれる確率`Px`、サンプル数=`1`を指定して計算します。\n",
    "\n",
    "`random.choices()`は、引数`k`で指定した個数のサンプルをリストに入れて返すので、そのリストをいったん`x_samples`に代入し、その後、リストのインデックス0の要素を`xi`に代入しています。"
   ]
  },
  {
   "cell_type": "markdown",
   "metadata": {
    "lc_cell_meme": {
     "current": "9a7d23e6-3bf2-11ea-9663-02420a010f96",
     "history": [
      {
       "current": "99f78060-37d8-11ea-a014-02420a010db7",
       "next": "16353b4a-fae4-11e9-956e-02420a01004a",
       "previous": "163539f6-fae4-11e9-956e-02420a01004a"
      },
      {
       "current": "42f2e662-37e0-11ea-ab82-02420a010db7",
       "next": "42f2e7d4-37e0-11ea-ab82-02420a010db7",
       "previous": "42f2e4dc-37e0-11ea-ab82-02420a010db7"
      },
      {
       "current": "42f2e662-37e0-11ea-ab82-02420a010db7",
       "next": "42f2e7d4-37e0-11ea-ab82-02420a010db7",
       "previous": "42f2e0cc-37e0-11ea-ab82-02420a010db7"
      },
      {
       "current": "42f2e662-37e0-11ea-ab82-02420a010db7",
       "next": "42f2e7d4-37e0-11ea-ab82-02420a010db7",
       "previous": "42f2e4dc-37e0-11ea-ab82-02420a010db7"
      }
     ],
     "next": "9a7d24fe-3bf2-11ea-9663-02420a010f96",
     "previous": "9a7d22b0-3bf2-11ea-9663-02420a010f96"
    }
   },
   "source": [
    "次のセルを評価し、肉100グラムの値段のサンプルを1個作成しなさい。"
   ]
  },
  {
   "cell_type": "code",
   "execution_count": null,
   "metadata": {
    "lc_cell_meme": {
     "current": "9a7d24fe-3bf2-11ea-9663-02420a010f96",
     "history": [
      {
       "current": "cebf3c9b-2391-11e9-a9f8-e0d55ea40caf",
       "next": "cebf3c9c-2391-11e9-a9f8-e0d55ea40caf",
       "previous": "cebf3c9a-2391-11e9-a9f8-e0d55ea40caf"
      },
      {
       "current": "cebf3c9b-2391-11e9-a9f8-e0d55ea40caf",
       "next": "cebf3c9b-2391-11e9-a9f8-e0d55ea40caf",
       "previous": "cebf3c9b-2391-11e9-a9f8-e0d55ea40caf"
      },
      {
       "current": "cebf3c9b-2391-11e9-a9f8-e0d55ea40caf",
       "next": "a55591b7-2392-11e9-a9f8-e0d55ea40caf",
       "previous": "a55591b6-2392-11e9-a9f8-e0d55ea40caf"
      },
      {
       "current": "aa7c0d08-96e2-11e9-8e94-02420a010063",
       "next": "aa7c0e02-96e2-11e9-8e94-02420a010063",
       "previous": "aa7c0baa-96e2-11e9-8e94-02420a010063"
      },
      {
       "current": "aa7c0d08-96e2-11e9-8e94-02420a010063",
       "next": "8c75aa2e-fa35-11e9-bc54-02420a010e28",
       "previous": "8c75a92a-fa35-11e9-bc54-02420a010e28"
      },
      {
       "current": "16353b4a-fae4-11e9-956e-02420a01004a",
       "next": "16353cd0-fae4-11e9-956e-02420a01004a",
       "previous": "163539f6-fae4-11e9-956e-02420a01004a"
      },
      {
       "current": "16353b4a-fae4-11e9-956e-02420a01004a",
       "next": "163543c4-fae4-11e9-956e-02420a01004a",
       "previous": "163539f6-fae4-11e9-956e-02420a01004a"
      },
      {
       "current": "16353b4a-fae4-11e9-956e-02420a01004a",
       "next": "163543c4-fae4-11e9-956e-02420a01004a",
       "previous": "99f78060-37d8-11ea-a014-02420a010db7"
      },
      {
       "current": "42f2e7d4-37e0-11ea-ab82-02420a010db7",
       "next": "42f2e91e-37e0-11ea-ab82-02420a010db7",
       "previous": "42f2e662-37e0-11ea-ab82-02420a010db7"
      },
      {
       "current": "42f2e7d4-37e0-11ea-ab82-02420a010db7",
       "next": "42f2e0cc-37e0-11ea-ab82-02420a010db7",
       "previous": "42f2e662-37e0-11ea-ab82-02420a010db7"
      }
     ],
     "next": "9a7d2666-3bf2-11ea-9663-02420a010f96",
     "previous": "9a7d23e6-3bf2-11ea-9663-02420a010f96"
    },
    "lc_wrapper": {
     "log_history": [
      "/home/kuwata/notebooks/.log/20190129/20190129-164902-0210.log",
      "/home/16999405x4b0807/14a/.log/20200116/20200116-055026-0298.log",
      "/home/16999405x4b0807/14a/.log/20200116/20200116-055047-0674.log",
      "/home/16999405x4b0807/14a/.log/20200116/20200116-064821-0318.log",
      "/home/16999405x4b0807/14a/.log/20200121/20200121-094405-0560.log"
     ]
    }
   },
   "outputs": [],
   "source": [
    "# このセルを評価すること\n",
    "x_samples = random.choices(x, weights=Px, k=1)\n",
    "xi = x_samples[0]\n",
    "print(\"肉100グラムの値段のサンプルは\", xi, \"円です。\")"
   ]
  },
  {
   "cell_type": "markdown",
   "metadata": {
    "lc_cell_meme": {
     "current": "9a7d2666-3bf2-11ea-9663-02420a010f96",
     "history": [
      {
       "current": "8c75a042-fa35-11e9-bc54-02420a010e28",
       "next": "aa7c063c-96e2-11e9-8e94-02420a010063",
       "previous": "8c759ef8-fa35-11e9-bc54-02420a010e28"
      },
      {
       "current": "16351d68-fae4-11e9-956e-02420a01004a",
       "next": "16351ebc-fae4-11e9-956e-02420a01004a",
       "previous": "16351c1e-fae4-11e9-956e-02420a01004a"
      },
      {
       "current": "16351d68-fae4-11e9-956e-02420a01004a",
       "next": "19122576-36f8-11ea-9ea4-02420a010a70",
       "previous": "19122486-36f8-11ea-9ea4-02420a010a70"
      },
      {
       "current": "42f2e0cc-37e0-11ea-ab82-02420a010db7",
       "next": "42f2e216-37e0-11ea-ab82-02420a010db7",
       "previous": "42f2df50-37e0-11ea-ab82-02420a010db7"
      },
      {
       "current": "42f2e0cc-37e0-11ea-ab82-02420a010db7",
       "next": "42f2e216-37e0-11ea-ab82-02420a010db7",
       "previous": "42f2df50-37e0-11ea-ab82-02420a010db7"
      },
      {
       "current": "42f2e0cc-37e0-11ea-ab82-02420a010db7",
       "next": "42f2f026-37e0-11ea-ab82-02420a010db7",
       "previous": "42f2ed9c-37e0-11ea-ab82-02420a010db7"
      },
      {
       "current": "42f2e0cc-37e0-11ea-ab82-02420a010db7",
       "next": "42f2f026-37e0-11ea-ab82-02420a010db7",
       "previous": "42f2ed9c-37e0-11ea-ab82-02420a010db7"
      },
      {
       "current": "42f2e0cc-37e0-11ea-ab82-02420a010db7",
       "next": "42f2f026-37e0-11ea-ab82-02420a010db7",
       "previous": "42f2ed9c-37e0-11ea-ab82-02420a010db7"
      },
      {
       "current": "42f2e0cc-37e0-11ea-ab82-02420a010db7",
       "next": "42f2e91e-37e0-11ea-ab82-02420a010db7",
       "previous": "42f2e7d4-37e0-11ea-ab82-02420a010db7"
      }
     ],
     "next": "9a7d279c-3bf2-11ea-9663-02420a010f96",
     "previous": "9a7d24fe-3bf2-11ea-9663-02420a010f96"
    }
   },
   "source": [
    "#### 演習"
   ]
  },
  {
   "cell_type": "markdown",
   "metadata": {
    "lc_cell_meme": {
     "current": "9a7d279c-3bf2-11ea-9663-02420a010f96",
     "history": [
      {
       "current": "8c75ad58-fa35-11e9-bc54-02420a010e28",
       "next": "aa7c0d08-96e2-11e9-8e94-02420a010063",
       "previous": "aa7c0baa-96e2-11e9-8e94-02420a010063"
      },
      {
       "current": "163543c4-fae4-11e9-956e-02420a01004a",
       "next": "16354590-fae4-11e9-956e-02420a01004a",
       "previous": "163541bc-fae4-11e9-956e-02420a01004a"
      },
      {
       "current": "163543c4-fae4-11e9-956e-02420a01004a",
       "next": "16354590-fae4-11e9-956e-02420a01004a",
       "previous": "16353b4a-fae4-11e9-956e-02420a01004a"
      },
      {
       "current": "42f2e91e-37e0-11ea-ab82-02420a010db7",
       "next": "42f2eb80-37e0-11ea-ab82-02420a010db7",
       "previous": "42f2e7d4-37e0-11ea-ab82-02420a010db7"
      },
      {
       "current": "42f2e91e-37e0-11ea-ab82-02420a010db7",
       "next": "42f2eb80-37e0-11ea-ab82-02420a010db7",
       "previous": "42f2e0cc-37e0-11ea-ab82-02420a010db7"
      }
     ],
     "next": "9a7d28fa-3bf2-11ea-9663-02420a010f96",
     "previous": "9a7d2666-3bf2-11ea-9663-02420a010f96"
    }
   },
   "source": [
    "同様に、`random.choices()`を使って、玉ねぎ1個の値段のサンプルを1個作成しなさい。数回、評価を繰り返し、値段が変化することを確認しなさい。"
   ]
  },
  {
   "cell_type": "code",
   "execution_count": null,
   "metadata": {
    "lc_cell_meme": {
     "current": "9a7d28fa-3bf2-11ea-9663-02420a010f96",
     "history": [
      {
       "current": "cebf3c9b-2391-11e9-a9f8-e0d55ea40caf",
       "next": "cebf3c9c-2391-11e9-a9f8-e0d55ea40caf",
       "previous": "cebf3c9a-2391-11e9-a9f8-e0d55ea40caf"
      },
      {
       "current": "cebf3c9b-2391-11e9-a9f8-e0d55ea40caf",
       "next": "cebf3c9b-2391-11e9-a9f8-e0d55ea40caf",
       "previous": "cebf3c9b-2391-11e9-a9f8-e0d55ea40caf"
      },
      {
       "current": "cebf3c9b-2391-11e9-a9f8-e0d55ea40caf",
       "next": "a55591b7-2392-11e9-a9f8-e0d55ea40caf",
       "previous": "a55591b6-2392-11e9-a9f8-e0d55ea40caf"
      },
      {
       "current": "aa7c0d08-96e2-11e9-8e94-02420a010063",
       "next": "aa7c0e02-96e2-11e9-8e94-02420a010063",
       "previous": "aa7c0baa-96e2-11e9-8e94-02420a010063"
      },
      {
       "current": "aa7c0d08-96e2-11e9-8e94-02420a010063",
       "next": "8c75ae52-fa35-11e9-bc54-02420a010e28",
       "previous": "8c75ad58-fa35-11e9-bc54-02420a010e28"
      },
      {
       "current": "16354590-fae4-11e9-956e-02420a01004a",
       "next": "163546ee-fae4-11e9-956e-02420a01004a",
       "previous": "163543c4-fae4-11e9-956e-02420a01004a"
      },
      {
       "current": "42f2eb80-37e0-11ea-ab82-02420a010db7",
       "next": "42f2ed9c-37e0-11ea-ab82-02420a010db7",
       "previous": "42f2e91e-37e0-11ea-ab82-02420a010db7"
      },
      {
       "current": "42f2eb80-37e0-11ea-ab82-02420a010db7",
       "next": "42f2e0cc-37e0-11ea-ab82-02420a010db7",
       "previous": "42f2e91e-37e0-11ea-ab82-02420a010db7"
      }
     ],
     "next": "9a7d2a1c-3bf2-11ea-9663-02420a010f96",
     "previous": "9a7d279c-3bf2-11ea-9663-02420a010f96"
    },
    "lc_wrapper": {
     "log_history": [
      "/home/kuwata/notebooks/.log/20190129/20190129-164902-0210.log"
     ]
    }
   },
   "outputs": [],
   "source": [
    "# 演習用入力欄（?を修正すること）\n",
    "y_samples = ???\n",
    "yi = ???\n",
    "print(\"玉ねぎ1個の値段のサンプルは\", yi, \"円です。\")"
   ]
  },
  {
   "cell_type": "markdown",
   "metadata": {
    "lc_cell_meme": {
     "current": "9a7d2a1c-3bf2-11ea-9663-02420a010f96",
     "history": [
      {
       "current": "8c75a042-fa35-11e9-bc54-02420a010e28",
       "next": "aa7c063c-96e2-11e9-8e94-02420a010063",
       "previous": "8c759ef8-fa35-11e9-bc54-02420a010e28"
      },
      {
       "current": "16351d68-fae4-11e9-956e-02420a01004a",
       "next": "16351ebc-fae4-11e9-956e-02420a01004a",
       "previous": "16351c1e-fae4-11e9-956e-02420a01004a"
      },
      {
       "current": "16351d68-fae4-11e9-956e-02420a01004a",
       "next": "19122576-36f8-11ea-9ea4-02420a010a70",
       "previous": "19122486-36f8-11ea-9ea4-02420a010a70"
      },
      {
       "current": "42f2e0cc-37e0-11ea-ab82-02420a010db7",
       "next": "42f2e216-37e0-11ea-ab82-02420a010db7",
       "previous": "42f2df50-37e0-11ea-ab82-02420a010db7"
      },
      {
       "current": "42f2e0cc-37e0-11ea-ab82-02420a010db7",
       "next": "42f2e216-37e0-11ea-ab82-02420a010db7",
       "previous": "42f2df50-37e0-11ea-ab82-02420a010db7"
      },
      {
       "current": "42f2e0cc-37e0-11ea-ab82-02420a010db7",
       "next": "42f2f026-37e0-11ea-ab82-02420a010db7",
       "previous": "42f2ed9c-37e0-11ea-ab82-02420a010db7"
      },
      {
       "current": "42f2e0cc-37e0-11ea-ab82-02420a010db7",
       "next": "42f2f026-37e0-11ea-ab82-02420a010db7",
       "previous": "42f2ed9c-37e0-11ea-ab82-02420a010db7"
      },
      {
       "current": "42f2e0cc-37e0-11ea-ab82-02420a010db7",
       "next": "42f2f026-37e0-11ea-ab82-02420a010db7",
       "previous": "42f2ed9c-37e0-11ea-ab82-02420a010db7"
      },
      {
       "current": "42f2e0cc-37e0-11ea-ab82-02420a010db7",
       "next": "42f2f026-37e0-11ea-ab82-02420a010db7",
       "previous": "42f2eb80-37e0-11ea-ab82-02420a010db7"
      }
     ],
     "next": "9a7d2b52-3bf2-11ea-9663-02420a010f96",
     "previous": "9a7d28fa-3bf2-11ea-9663-02420a010f96"
    }
   },
   "source": [
    "#### 演習"
   ]
  },
  {
   "cell_type": "markdown",
   "metadata": {
    "lc_cell_meme": {
     "current": "9a7d2b52-3bf2-11ea-9663-02420a010f96",
     "history": [
      {
       "current": "8c75ad58-fa35-11e9-bc54-02420a010e28",
       "next": "aa7c0d08-96e2-11e9-8e94-02420a010063",
       "previous": "aa7c0baa-96e2-11e9-8e94-02420a010063"
      },
      {
       "current": "163543c4-fae4-11e9-956e-02420a01004a",
       "next": "16354590-fae4-11e9-956e-02420a01004a",
       "previous": "163541bc-fae4-11e9-956e-02420a01004a"
      },
      {
       "current": "163543c4-fae4-11e9-956e-02420a01004a",
       "next": "16354590-fae4-11e9-956e-02420a01004a",
       "previous": "163546ee-fae4-11e9-956e-02420a01004a"
      },
      {
       "current": "42f2f026-37e0-11ea-ab82-02420a010db7",
       "next": "42f2f198-37e0-11ea-ab82-02420a010db7",
       "previous": "42f2ed9c-37e0-11ea-ab82-02420a010db7"
      },
      {
       "current": "42f2f026-37e0-11ea-ab82-02420a010db7",
       "next": "42f2f198-37e0-11ea-ab82-02420a010db7",
       "previous": "42f2e0cc-37e0-11ea-ab82-02420a010db7"
      }
     ],
     "next": "9a7d2c9c-3bf2-11ea-9663-02420a010f96",
     "previous": "9a7d2a1c-3bf2-11ea-9663-02420a010f96"
    }
   },
   "source": [
    "同様に、`random.choices()`を使って、じゃがいも1個の値段のサンプルを1個作成しなさい。数回、評価を繰り返し、値段が変化することを確認しなさい。"
   ]
  },
  {
   "cell_type": "code",
   "execution_count": null,
   "metadata": {
    "lc_cell_meme": {
     "current": "9a7d2c9c-3bf2-11ea-9663-02420a010f96",
     "history": [
      {
       "current": "cebf3c9b-2391-11e9-a9f8-e0d55ea40caf",
       "next": "cebf3c9c-2391-11e9-a9f8-e0d55ea40caf",
       "previous": "cebf3c9a-2391-11e9-a9f8-e0d55ea40caf"
      },
      {
       "current": "cebf3c9b-2391-11e9-a9f8-e0d55ea40caf",
       "next": "cebf3c9b-2391-11e9-a9f8-e0d55ea40caf",
       "previous": "cebf3c9b-2391-11e9-a9f8-e0d55ea40caf"
      },
      {
       "current": "cebf3c9b-2391-11e9-a9f8-e0d55ea40caf",
       "next": "a55591b7-2392-11e9-a9f8-e0d55ea40caf",
       "previous": "a55591b6-2392-11e9-a9f8-e0d55ea40caf"
      },
      {
       "current": "aa7c0d08-96e2-11e9-8e94-02420a010063",
       "next": "aa7c0e02-96e2-11e9-8e94-02420a010063",
       "previous": "aa7c0baa-96e2-11e9-8e94-02420a010063"
      },
      {
       "current": "aa7c0d08-96e2-11e9-8e94-02420a010063",
       "next": "8c75ae52-fa35-11e9-bc54-02420a010e28",
       "previous": "8c75ad58-fa35-11e9-bc54-02420a010e28"
      },
      {
       "current": "16354590-fae4-11e9-956e-02420a01004a",
       "next": "163546ee-fae4-11e9-956e-02420a01004a",
       "previous": "163543c4-fae4-11e9-956e-02420a01004a"
      },
      {
       "current": "42f2f198-37e0-11ea-ab82-02420a010db7",
       "next": "42f2f364-37e0-11ea-ab82-02420a010db7",
       "previous": "42f2f026-37e0-11ea-ab82-02420a010db7"
      },
      {
       "current": "42f2f198-37e0-11ea-ab82-02420a010db7",
       "next": "42f2ddca-37e0-11ea-ab82-02420a010db7",
       "previous": "42f2f026-37e0-11ea-ab82-02420a010db7"
      }
     ],
     "next": "9a7d2db4-3bf2-11ea-9663-02420a010f96",
     "previous": "9a7d2b52-3bf2-11ea-9663-02420a010f96"
    },
    "lc_wrapper": {
     "log_history": [
      "/home/kuwata/notebooks/.log/20190129/20190129-164902-0210.log"
     ]
    }
   },
   "outputs": [],
   "source": [
    "# 演習用入力欄（?を修正すること）\n",
    "z_samples = ???\n",
    "zi = ???\n",
    "print(\"じゃがいも1個のサンプルの値段は\", zi, \"円です。\")"
   ]
  },
  {
   "cell_type": "markdown",
   "metadata": {
    "lc_cell_meme": {
     "current": "9a7d2db4-3bf2-11ea-9663-02420a010f96",
     "history": [
      {
       "current": "cebf3c98-2391-11e9-a9f8-e0d55ea40caf",
       "next": "cebf3c99-2391-11e9-a9f8-e0d55ea40caf",
       "previous": "cebf3c97-2391-11e9-a9f8-e0d55ea40caf"
      },
      {
       "current": "aa7c0254-96e2-11e9-8e94-02420a010063",
       "next": "aa7c04f2-96e2-11e9-8e94-02420a010063",
       "previous": "aa7c00ba-96e2-11e9-8e94-02420a010063"
      },
      {
       "current": "aa7c0254-96e2-11e9-8e94-02420a010063",
       "next": "8c759c6e-fa35-11e9-bc54-02420a010e28",
       "previous": "aa7bfe30-96e2-11e9-8e94-02420a010063"
      },
      {
       "current": "16351660-fae4-11e9-956e-02420a01004a",
       "next": "163517b4-fae4-11e9-956e-02420a01004a",
       "previous": "16351520-fae4-11e9-956e-02420a01004a"
      },
      {
       "current": "16351660-fae4-11e9-956e-02420a01004a",
       "next": "19122486-36f8-11ea-9ea4-02420a010a70",
       "previous": "16352bfa-fae4-11e9-956e-02420a01004a"
      },
      {
       "current": "42f2ddca-37e0-11ea-ab82-02420a010db7",
       "next": "42f2df50-37e0-11ea-ab82-02420a010db7",
       "previous": "42f2dc80-37e0-11ea-ab82-02420a010db7"
      },
      {
       "current": "42f2ddca-37e0-11ea-ab82-02420a010db7",
       "next": "42f2bbe2-37e0-11ea-ab82-02420a010db7",
       "previous": "42f2f364-37e0-11ea-ab82-02420a010db7"
      },
      {
       "current": "42f2ddca-37e0-11ea-ab82-02420a010db7",
       "next": "42f2bbe2-37e0-11ea-ab82-02420a010db7",
       "previous": "42f2f198-37e0-11ea-ab82-02420a010db7"
      }
     ],
     "next": "9a7d2f08-3bf2-11ea-9663-02420a010f96",
     "previous": "9a7d2c9c-3bf2-11ea-9663-02420a010f96"
    }
   },
   "source": [
    "### カレーライス費用の試算"
   ]
  },
  {
   "cell_type": "markdown",
   "metadata": {
    "lc_cell_meme": {
     "current": "9a7d2f08-3bf2-11ea-9663-02420a010f96",
     "history": [
      {
       "current": "8c75a042-fa35-11e9-bc54-02420a010e28",
       "next": "aa7c063c-96e2-11e9-8e94-02420a010063",
       "previous": "8c759ef8-fa35-11e9-bc54-02420a010e28"
      },
      {
       "current": "16351d68-fae4-11e9-956e-02420a01004a",
       "next": "16351ebc-fae4-11e9-956e-02420a01004a",
       "previous": "16351c1e-fae4-11e9-956e-02420a01004a"
      },
      {
       "current": "16351d68-fae4-11e9-956e-02420a01004a",
       "next": "16351aac-fae4-11e9-956e-02420a01004a",
       "previous": "16351660-fae4-11e9-956e-02420a01004a"
      },
      {
       "current": "42f2bbe2-37e0-11ea-ab82-02420a010db7",
       "next": "42f2bd5e-37e0-11ea-ab82-02420a010db7",
       "previous": "42f2ba66-37e0-11ea-ab82-02420a010db7"
      },
      {
       "current": "42f2bbe2-37e0-11ea-ab82-02420a010db7",
       "next": "42f2cb82-37e0-11ea-ab82-02420a010db7",
       "previous": "42f2ca1a-37e0-11ea-ab82-02420a010db7"
      },
      {
       "current": "42f2bbe2-37e0-11ea-ab82-02420a010db7",
       "next": "42f2cb82-37e0-11ea-ab82-02420a010db7",
       "previous": "42f2ca1a-37e0-11ea-ab82-02420a010db7"
      },
      {
       "current": "42f2bbe2-37e0-11ea-ab82-02420a010db7",
       "next": "42f2cb82-37e0-11ea-ab82-02420a010db7",
       "previous": "42f2ca1a-37e0-11ea-ab82-02420a010db7"
      },
      {
       "current": "42f2bbe2-37e0-11ea-ab82-02420a010db7",
       "next": "42f30e58-37e0-11ea-ab82-02420a010db7",
       "previous": "42f30cdc-37e0-11ea-ab82-02420a010db7"
      },
      {
       "current": "42f2bbe2-37e0-11ea-ab82-02420a010db7",
       "next": "42f30e58-37e0-11ea-ab82-02420a010db7",
       "previous": "42f30cdc-37e0-11ea-ab82-02420a010db7"
      },
      {
       "current": "42f2bbe2-37e0-11ea-ab82-02420a010db7",
       "next": "42f30e58-37e0-11ea-ab82-02420a010db7",
       "previous": "42f30cdc-37e0-11ea-ab82-02420a010db7"
      },
      {
       "current": "42f2bbe2-37e0-11ea-ab82-02420a010db7",
       "next": "42f30e58-37e0-11ea-ab82-02420a010db7",
       "previous": "42f30cdc-37e0-11ea-ab82-02420a010db7"
      },
      {
       "current": "42f2bbe2-37e0-11ea-ab82-02420a010db7",
       "next": "42f30e58-37e0-11ea-ab82-02420a010db7",
       "previous": "42f30cdc-37e0-11ea-ab82-02420a010db7"
      },
      {
       "current": "42f2bbe2-37e0-11ea-ab82-02420a010db7",
       "next": "42f30e58-37e0-11ea-ab82-02420a010db7",
       "previous": "42f30cdc-37e0-11ea-ab82-02420a010db7"
      },
      {
       "current": "42f2bbe2-37e0-11ea-ab82-02420a010db7",
       "next": "42f30e58-37e0-11ea-ab82-02420a010db7",
       "previous": "42f30cdc-37e0-11ea-ab82-02420a010db7"
      },
      {
       "current": "42f2bbe2-37e0-11ea-ab82-02420a010db7",
       "next": "42f30e58-37e0-11ea-ab82-02420a010db7",
       "previous": "42f30cdc-37e0-11ea-ab82-02420a010db7"
      },
      {
       "current": "42f2bbe2-37e0-11ea-ab82-02420a010db7",
       "next": "42f30e58-37e0-11ea-ab82-02420a010db7",
       "previous": "42f30cdc-37e0-11ea-ab82-02420a010db7"
      },
      {
       "current": "42f2bbe2-37e0-11ea-ab82-02420a010db7",
       "next": "42f30e58-37e0-11ea-ab82-02420a010db7",
       "previous": "42f30cdc-37e0-11ea-ab82-02420a010db7"
      },
      {
       "current": "42f2bbe2-37e0-11ea-ab82-02420a010db7",
       "next": "42f30e58-37e0-11ea-ab82-02420a010db7",
       "previous": "42f30cdc-37e0-11ea-ab82-02420a010db7"
      },
      {
       "current": "42f2bbe2-37e0-11ea-ab82-02420a010db7",
       "next": "42f30e58-37e0-11ea-ab82-02420a010db7",
       "previous": "42f30cdc-37e0-11ea-ab82-02420a010db7"
      },
      {
       "current": "42f2bbe2-37e0-11ea-ab82-02420a010db7",
       "next": "42f30e58-37e0-11ea-ab82-02420a010db7",
       "previous": "42f30cdc-37e0-11ea-ab82-02420a010db7"
      },
      {
       "current": "42f2bbe2-37e0-11ea-ab82-02420a010db7",
       "next": "42f30e58-37e0-11ea-ab82-02420a010db7",
       "previous": "42f30cdc-37e0-11ea-ab82-02420a010db7"
      },
      {
       "current": "42f2bbe2-37e0-11ea-ab82-02420a010db7",
       "next": "42f30e58-37e0-11ea-ab82-02420a010db7",
       "previous": "42f30cdc-37e0-11ea-ab82-02420a010db7"
      },
      {
       "current": "42f2bbe2-37e0-11ea-ab82-02420a010db7",
       "next": "42f30e58-37e0-11ea-ab82-02420a010db7",
       "previous": "42f30cdc-37e0-11ea-ab82-02420a010db7"
      },
      {
       "current": "42f2bbe2-37e0-11ea-ab82-02420a010db7",
       "next": "42f2f4fe-37e0-11ea-ab82-02420a010db7",
       "previous": "42f2ddca-37e0-11ea-ab82-02420a010db7"
      }
     ],
     "next": "9a7d303e-3bf2-11ea-9663-02420a010f96",
     "previous": "9a7d2db4-3bf2-11ea-9663-02420a010f96"
    }
   },
   "source": [
    "#### 演習"
   ]
  },
  {
   "cell_type": "markdown",
   "metadata": {
    "lc_cell_meme": {
     "current": "9a7d303e-3bf2-11ea-9663-02420a010f96",
     "history": [
      {
       "current": "19122666-36f8-11ea-9ea4-02420a010a70",
       "next": "16354590-fae4-11e9-956e-02420a01004a",
       "previous": "163546ee-fae4-11e9-956e-02420a01004a"
      },
      {
       "current": "42f2f4fe-37e0-11ea-ab82-02420a010db7",
       "next": "42f2f706-37e0-11ea-ab82-02420a010db7",
       "previous": "42f2f364-37e0-11ea-ab82-02420a010db7"
      },
      {
       "current": "42f2f4fe-37e0-11ea-ab82-02420a010db7",
       "next": "42f2f706-37e0-11ea-ab82-02420a010db7",
       "previous": "42f2bbe2-37e0-11ea-ab82-02420a010db7"
      }
     ],
     "next": "9a7d3174-3bf2-11ea-9663-02420a010f96",
     "previous": "9a7d2f08-3bf2-11ea-9663-02420a010f96"
    }
   },
   "source": [
    "次に、各材料の値段のサンプルを利用して、カレーライスの費用を試算しなさい。\n",
    "\n",
    "材料費のサンプル`xi`、`yi`、`zi`を使って計算されるカレーライス（12皿分）の費用を`wi`とすると、最初に説明したように、`wi`は次式で計算されます。\n",
    "\n",
    "`wi = 5xi + 4yi + 3zi + 370`"
   ]
  },
  {
   "cell_type": "code",
   "execution_count": null,
   "metadata": {
    "lc_cell_meme": {
     "current": "9a7d3174-3bf2-11ea-9663-02420a010f96",
     "history": [
      {
       "current": "cebf3c9b-2391-11e9-a9f8-e0d55ea40caf",
       "next": "cebf3c9c-2391-11e9-a9f8-e0d55ea40caf",
       "previous": "cebf3c9a-2391-11e9-a9f8-e0d55ea40caf"
      },
      {
       "current": "cebf3c9b-2391-11e9-a9f8-e0d55ea40caf",
       "next": "cebf3c9b-2391-11e9-a9f8-e0d55ea40caf",
       "previous": "cebf3c9b-2391-11e9-a9f8-e0d55ea40caf"
      },
      {
       "current": "cebf3c9b-2391-11e9-a9f8-e0d55ea40caf",
       "next": "a55591b7-2392-11e9-a9f8-e0d55ea40caf",
       "previous": "a55591b6-2392-11e9-a9f8-e0d55ea40caf"
      },
      {
       "current": "aa7c0d08-96e2-11e9-8e94-02420a010063",
       "next": "aa7c0e02-96e2-11e9-8e94-02420a010063",
       "previous": "aa7c0baa-96e2-11e9-8e94-02420a010063"
      },
      {
       "current": "aa7c0d08-96e2-11e9-8e94-02420a010063",
       "next": "8c75ae52-fa35-11e9-bc54-02420a010e28",
       "previous": "8c75ad58-fa35-11e9-bc54-02420a010e28"
      },
      {
       "current": "16354590-fae4-11e9-956e-02420a01004a",
       "next": "163546ee-fae4-11e9-956e-02420a01004a",
       "previous": "163543c4-fae4-11e9-956e-02420a01004a"
      },
      {
       "current": "16354590-fae4-11e9-956e-02420a01004a",
       "next": "163546ee-fae4-11e9-956e-02420a01004a",
       "previous": "19122666-36f8-11ea-9ea4-02420a010a70"
      },
      {
       "current": "42f2f706-37e0-11ea-ab82-02420a010db7",
       "next": "42f2f850-37e0-11ea-ab82-02420a010db7",
       "previous": "42f2f4fe-37e0-11ea-ab82-02420a010db7"
      },
      {
       "current": "42f2f706-37e0-11ea-ab82-02420a010db7",
       "next": "42f2f9d6-37e0-11ea-ab82-02420a010db7",
       "previous": "42f2f4fe-37e0-11ea-ab82-02420a010db7"
      }
     ],
     "next": "9a7d328c-3bf2-11ea-9663-02420a010f96",
     "previous": "9a7d303e-3bf2-11ea-9663-02420a010f96"
    },
    "lc_wrapper": {
     "log_history": [
      "/home/kuwata/notebooks/.log/20190129/20190129-164902-0210.log"
     ]
    }
   },
   "outputs": [],
   "source": [
    "# 演習用入力欄（?を修正すること）\n",
    "wi = ???\n",
    "print(\"カレーライス（12皿分）の材料費のサンプルは\", wi, \"円です。\")"
   ]
  },
  {
   "cell_type": "markdown",
   "metadata": {
    "lc_cell_meme": {
     "current": "9a7d328c-3bf2-11ea-9663-02420a010f96",
     "history": [
      {
       "current": "cebf3c98-2391-11e9-a9f8-e0d55ea40caf",
       "next": "cebf3c99-2391-11e9-a9f8-e0d55ea40caf",
       "previous": "cebf3c97-2391-11e9-a9f8-e0d55ea40caf"
      },
      {
       "current": "aa7c0254-96e2-11e9-8e94-02420a010063",
       "next": "aa7c04f2-96e2-11e9-8e94-02420a010063",
       "previous": "aa7c00ba-96e2-11e9-8e94-02420a010063"
      },
      {
       "current": "aa7c0254-96e2-11e9-8e94-02420a010063",
       "next": "8c759c6e-fa35-11e9-bc54-02420a010e28",
       "previous": "aa7bfe30-96e2-11e9-8e94-02420a010063"
      },
      {
       "current": "16351660-fae4-11e9-956e-02420a01004a",
       "next": "163517b4-fae4-11e9-956e-02420a01004a",
       "previous": "16351520-fae4-11e9-956e-02420a01004a"
      },
      {
       "current": "16351660-fae4-11e9-956e-02420a01004a",
       "next": "19122756-36f8-11ea-9ea4-02420a010a70",
       "previous": "163546ee-fae4-11e9-956e-02420a01004a"
      },
      {
       "current": "42f2f9d6-37e0-11ea-ab82-02420a010db7",
       "next": "42f2fb20-37e0-11ea-ab82-02420a010db7",
       "previous": "42f2f850-37e0-11ea-ab82-02420a010db7"
      },
      {
       "current": "42f2f9d6-37e0-11ea-ab82-02420a010db7",
       "next": "42f2fb20-37e0-11ea-ab82-02420a010db7",
       "previous": "42f2f706-37e0-11ea-ab82-02420a010db7"
      }
     ],
     "next": "9a7d33e0-3bf2-11ea-9663-02420a010f96",
     "previous": "9a7d3174-3bf2-11ea-9663-02420a010f96"
    }
   },
   "source": [
    "### 試行の繰り返しによるカレーライス費用の確認"
   ]
  },
  {
   "cell_type": "markdown",
   "metadata": {
    "lc_cell_meme": {
     "current": "9a7d33e0-3bf2-11ea-9663-02420a010f96",
     "history": [
      {
       "current": "19122756-36f8-11ea-9ea4-02420a010a70",
       "next": "16351d68-fae4-11e9-956e-02420a01004a",
       "previous": "16351660-fae4-11e9-956e-02420a01004a"
      },
      {
       "current": "42f2fb20-37e0-11ea-ab82-02420a010db7",
       "next": "42f2fc6a-37e0-11ea-ab82-02420a010db7",
       "previous": "42f2f9d6-37e0-11ea-ab82-02420a010db7"
      }
     ],
     "next": "9a7d34f8-3bf2-11ea-9663-02420a010f96",
     "previous": "9a7d328c-3bf2-11ea-9663-02420a010f96"
    }
   },
   "source": [
    "カレーライス費用の試算を繰り返し行い、カレーライス費用の分布を求めその特徴を確認します。"
   ]
  },
  {
   "cell_type": "markdown",
   "metadata": {
    "lc_cell_meme": {
     "current": "9a7d34f8-3bf2-11ea-9663-02420a010f96",
     "history": [
      {
       "current": "8c75a042-fa35-11e9-bc54-02420a010e28",
       "next": "aa7c063c-96e2-11e9-8e94-02420a010063",
       "previous": "8c759ef8-fa35-11e9-bc54-02420a010e28"
      },
      {
       "current": "16351d68-fae4-11e9-956e-02420a01004a",
       "next": "16351ebc-fae4-11e9-956e-02420a01004a",
       "previous": "16351c1e-fae4-11e9-956e-02420a01004a"
      },
      {
       "current": "16351d68-fae4-11e9-956e-02420a01004a",
       "next": "163527cc-fae4-11e9-956e-02420a01004a",
       "previous": "19122756-36f8-11ea-9ea4-02420a010a70"
      },
      {
       "current": "42f2fc6a-37e0-11ea-ab82-02420a010db7",
       "next": "42f2fdaa-37e0-11ea-ab82-02420a010db7",
       "previous": "42f2fb20-37e0-11ea-ab82-02420a010db7"
      }
     ],
     "next": "9a7d3610-3bf2-11ea-9663-02420a010f96",
     "previous": "9a7d33e0-3bf2-11ea-9663-02420a010f96"
    }
   },
   "source": [
    "#### 演習"
   ]
  },
  {
   "cell_type": "markdown",
   "metadata": {
    "lc_cell_meme": {
     "current": "9a7d3610-3bf2-11ea-9663-02420a010f96",
     "history": [
      {
       "current": "a55591b6-2392-11e9-a9f8-e0d55ea40caf",
       "next": "cebf3c9b-2391-11e9-a9f8-e0d55ea40caf",
       "previous": "cebf3c9b-2391-11e9-a9f8-e0d55ea40caf"
      },
      {
       "current": "aa7c0baa-96e2-11e9-8e94-02420a010063",
       "next": "aa7c0d08-96e2-11e9-8e94-02420a010063",
       "previous": "aa7c0a7e-96e2-11e9-8e94-02420a010063"
      },
      {
       "current": "aa7c0baa-96e2-11e9-8e94-02420a010063",
       "next": "aa7c0d08-96e2-11e9-8e94-02420a010063",
       "previous": "aa7c0baa-96e2-11e9-8e94-02420a010063"
      },
      {
       "current": "163527cc-fae4-11e9-956e-02420a01004a",
       "next": "1635293e-fae4-11e9-956e-02420a01004a",
       "previous": "16352682-fae4-11e9-956e-02420a01004a"
      },
      {
       "current": "163527cc-fae4-11e9-956e-02420a01004a",
       "next": "1635293e-fae4-11e9-956e-02420a01004a",
       "previous": "16351d68-fae4-11e9-956e-02420a01004a"
      },
      {
       "current": "42f2fdaa-37e0-11ea-ab82-02420a010db7",
       "next": "42f2ff3a-37e0-11ea-ab82-02420a010db7",
       "previous": "42f2fc6a-37e0-11ea-ab82-02420a010db7"
      }
     ],
     "next": "9a7d375a-3bf2-11ea-9663-02420a010f96",
     "previous": "9a7d34f8-3bf2-11ea-9663-02420a010f96"
    }
   },
   "source": [
    "上記で作ったカレーライス費用の計算プログラムを使いやすくするために、すべての材料の値段の分布とその確率分布`x`、`Px`、`y`、`Py`、`z`、`Pz`を入力すると、カレーライスの費用のサンプル`wi`を出力する関数`CurryCost()`を定義しなさい。"
   ]
  },
  {
   "cell_type": "code",
   "execution_count": null,
   "metadata": {
    "lc_cell_meme": {
     "current": "9a7d375a-3bf2-11ea-9663-02420a010f96",
     "history": [
      {
       "current": "cebf3c9b-2391-11e9-a9f8-e0d55ea40caf",
       "next": "cebf3c9c-2391-11e9-a9f8-e0d55ea40caf",
       "previous": "cebf3c9a-2391-11e9-a9f8-e0d55ea40caf"
      },
      {
       "current": "cebf3c9b-2391-11e9-a9f8-e0d55ea40caf",
       "next": "cebf3c9b-2391-11e9-a9f8-e0d55ea40caf",
       "previous": "cebf3c9b-2391-11e9-a9f8-e0d55ea40caf"
      },
      {
       "current": "cebf3c9b-2391-11e9-a9f8-e0d55ea40caf",
       "next": "a55591b7-2392-11e9-a9f8-e0d55ea40caf",
       "previous": "a55591b6-2392-11e9-a9f8-e0d55ea40caf"
      },
      {
       "current": "aa7c0d08-96e2-11e9-8e94-02420a010063",
       "next": "aa7c0e02-96e2-11e9-8e94-02420a010063",
       "previous": "aa7c0baa-96e2-11e9-8e94-02420a010063"
      },
      {
       "current": "aa7c0d08-96e2-11e9-8e94-02420a010063",
       "next": "aa7c0d08-96e2-11e9-8e94-02420a010063",
       "previous": "aa7c0baa-96e2-11e9-8e94-02420a010063"
      },
      {
       "current": "1635293e-fae4-11e9-956e-02420a01004a",
       "next": "16352a88-fae4-11e9-956e-02420a01004a",
       "previous": "163527cc-fae4-11e9-956e-02420a01004a"
      },
      {
       "current": "42f2ff3a-37e0-11ea-ab82-02420a010db7",
       "next": "42f300b6-37e0-11ea-ab82-02420a010db7",
       "previous": "42f2fdaa-37e0-11ea-ab82-02420a010db7"
      },
      {
       "current": "42f2ff3a-37e0-11ea-ab82-02420a010db7",
       "next": "42f30200-37e0-11ea-ab82-02420a010db7",
       "previous": "42f2fdaa-37e0-11ea-ab82-02420a010db7"
      }
     ],
     "next": "9a7d3872-3bf2-11ea-9663-02420a010f96",
     "previous": "9a7d3610-3bf2-11ea-9663-02420a010f96"
    },
    "lc_wrapper": {
     "log_history": [
      "/home/kuwata/notebooks/.log/20190129/20190129-164902-0210.log"
     ]
    }
   },
   "outputs": [],
   "source": [
    "# 演習用入力欄（?を修正すること）\n",
    "def CurryCost(x, Px, y, Py, z, Pz):\n",
    "    x_samples = random.choices(x, weights=Px, k=1) \n",
    "    xi = x_samples[0]\n",
    "    \n",
    "    y_samples = ???\n",
    "    yi = ???\n",
    "    \n",
    "    z_samples = ???\n",
    "    zi = ???\n",
    "    \n",
    "    wi = ???\n",
    "    \n",
    "    return wi"
   ]
  },
  {
   "cell_type": "markdown",
   "metadata": {
    "lc_cell_meme": {
     "current": "9a7d3872-3bf2-11ea-9663-02420a010f96",
     "history": [
      {
       "current": "8c75c824-fa35-11e9-bc54-02420a010e28",
       "next": "8c75c928-fa35-11e9-bc54-02420a010e28",
       "previous": "8c75c716-fa35-11e9-bc54-02420a010e28"
      },
      {
       "current": "16356fe8-fae4-11e9-956e-02420a01004a",
       "next": "163571aa-fae4-11e9-956e-02420a01004a",
       "previous": "16356dfe-fae4-11e9-956e-02420a01004a"
      },
      {
       "current": "16356fe8-fae4-11e9-956e-02420a01004a",
       "next": "163576a0-fae4-11e9-956e-02420a01004a",
       "previous": "16352a88-fae4-11e9-956e-02420a01004a"
      },
      {
       "current": "42f30200-37e0-11ea-ab82-02420a010db7",
       "next": "42f30372-37e0-11ea-ab82-02420a010db7",
       "previous": "42f300b6-37e0-11ea-ab82-02420a010db7"
      },
      {
       "current": "42f30200-37e0-11ea-ab82-02420a010db7",
       "next": "42f30372-37e0-11ea-ab82-02420a010db7",
       "previous": "42f2ff3a-37e0-11ea-ab82-02420a010db7"
      }
     ],
     "next": "9a7d398a-3bf2-11ea-9663-02420a010f96",
     "previous": "9a7d375a-3bf2-11ea-9663-02420a010f96"
    }
   },
   "source": [
    "関数`CurryCost()`の動作を確認しなさい。"
   ]
  },
  {
   "cell_type": "code",
   "execution_count": null,
   "metadata": {
    "lc_cell_meme": {
     "current": "9a7d398a-3bf2-11ea-9663-02420a010f96",
     "history": [
      {
       "current": "8c75ccd4-fa35-11e9-bc54-02420a010e28",
       "next": "8c75cdd8-fa35-11e9-bc54-02420a010e28",
       "previous": "8c75cbda-fa35-11e9-bc54-02420a010e28"
      },
      {
       "current": "163576a0-fae4-11e9-956e-02420a01004a",
       "next": "16357826-fae4-11e9-956e-02420a01004a",
       "previous": "16357542-fae4-11e9-956e-02420a01004a"
      },
      {
       "current": "163576a0-fae4-11e9-956e-02420a01004a",
       "next": "163586b8-fae4-11e9-956e-02420a01004a",
       "previous": "16356fe8-fae4-11e9-956e-02420a01004a"
      },
      {
       "current": "42f30372-37e0-11ea-ab82-02420a010db7",
       "next": "42f304b2-37e0-11ea-ab82-02420a010db7",
       "previous": "42f30200-37e0-11ea-ab82-02420a010db7"
      }
     ],
     "next": "9a7d3aca-3bf2-11ea-9663-02420a010f96",
     "previous": "9a7d3872-3bf2-11ea-9663-02420a010f96"
    },
    "lc_wrapper": {
     "log_history": [
      "/home/16999405x4b0807/14a/.log/20200116/20200116-060927-0588.log",
      "/home/16999405x4b0807/14a/.log/20200116/20200116-064928-0477.log",
      "/home/16999405x4b0807/14a/.log/20200121/20200121-094423-0250.log"
     ]
    }
   },
   "outputs": [],
   "source": [
    "# 演習用入力欄（このまま評価すること）\n",
    "wi = CurryCost(x, Px, y, Py, z, Pz) \n",
    "print(\"カレーライス（12皿分）の費用のサンプルは\", wi, \"円です。\")"
   ]
  },
  {
   "cell_type": "markdown",
   "metadata": {
    "lc_cell_meme": {
     "current": "9a7d3aca-3bf2-11ea-9663-02420a010f96",
     "history": [
      {
       "current": "8c75d760-fa35-11e9-bc54-02420a010e28",
       "next": "8c75d85a-fa35-11e9-bc54-02420a010e28",
       "previous": "8c75d666-fa35-11e9-bc54-02420a010e28"
      },
      {
       "current": "163586b8-fae4-11e9-956e-02420a01004a",
       "next": "1635882a-fae4-11e9-956e-02420a01004a",
       "previous": "1635856e-fae4-11e9-956e-02420a01004a"
      },
      {
       "current": "163586b8-fae4-11e9-956e-02420a01004a",
       "next": "163527cc-fae4-11e9-956e-02420a01004a",
       "previous": "163576a0-fae4-11e9-956e-02420a01004a"
      },
      {
       "current": "42f304b2-37e0-11ea-ab82-02420a010db7",
       "next": "42f305fc-37e0-11ea-ab82-02420a010db7",
       "previous": "42f30372-37e0-11ea-ab82-02420a010db7"
      },
      {
       "current": "42f304b2-37e0-11ea-ab82-02420a010db7",
       "next": "42f2bbe2-37e0-11ea-ab82-02420a010db7",
       "previous": "42f30372-37e0-11ea-ab82-02420a010db7"
      }
     ],
     "next": "9a7d3c00-3bf2-11ea-9663-02420a010f96",
     "previous": "9a7d398a-3bf2-11ea-9663-02420a010f96"
    }
   },
   "source": [
    "<font size=\"2\" color=\"blue\">ヒント：カレーライスのサンプルの費用は1800円から2400円の間の値になります。</font>"
   ]
  },
  {
   "cell_type": "markdown",
   "metadata": {
    "lc_cell_meme": {
     "current": "9a7d3c00-3bf2-11ea-9663-02420a010f96",
     "history": [
      {
       "current": "8c75a042-fa35-11e9-bc54-02420a010e28",
       "next": "aa7c063c-96e2-11e9-8e94-02420a010063",
       "previous": "8c759ef8-fa35-11e9-bc54-02420a010e28"
      },
      {
       "current": "16351d68-fae4-11e9-956e-02420a01004a",
       "next": "16351ebc-fae4-11e9-956e-02420a01004a",
       "previous": "16351c1e-fae4-11e9-956e-02420a01004a"
      },
      {
       "current": "16351d68-fae4-11e9-956e-02420a01004a",
       "next": "16351aac-fae4-11e9-956e-02420a01004a",
       "previous": "16351660-fae4-11e9-956e-02420a01004a"
      },
      {
       "current": "42f2bbe2-37e0-11ea-ab82-02420a010db7",
       "next": "42f2bd5e-37e0-11ea-ab82-02420a010db7",
       "previous": "42f2ba66-37e0-11ea-ab82-02420a010db7"
      },
      {
       "current": "42f2bbe2-37e0-11ea-ab82-02420a010db7",
       "next": "42f2cb82-37e0-11ea-ab82-02420a010db7",
       "previous": "42f2ca1a-37e0-11ea-ab82-02420a010db7"
      },
      {
       "current": "42f2bbe2-37e0-11ea-ab82-02420a010db7",
       "next": "42f2cb82-37e0-11ea-ab82-02420a010db7",
       "previous": "42f2ca1a-37e0-11ea-ab82-02420a010db7"
      },
      {
       "current": "42f2bbe2-37e0-11ea-ab82-02420a010db7",
       "next": "42f2cb82-37e0-11ea-ab82-02420a010db7",
       "previous": "42f2ca1a-37e0-11ea-ab82-02420a010db7"
      },
      {
       "current": "42f2bbe2-37e0-11ea-ab82-02420a010db7",
       "next": "42f30e58-37e0-11ea-ab82-02420a010db7",
       "previous": "42f30cdc-37e0-11ea-ab82-02420a010db7"
      },
      {
       "current": "42f2bbe2-37e0-11ea-ab82-02420a010db7",
       "next": "42f30e58-37e0-11ea-ab82-02420a010db7",
       "previous": "42f30cdc-37e0-11ea-ab82-02420a010db7"
      },
      {
       "current": "42f2bbe2-37e0-11ea-ab82-02420a010db7",
       "next": "42f30e58-37e0-11ea-ab82-02420a010db7",
       "previous": "42f30cdc-37e0-11ea-ab82-02420a010db7"
      },
      {
       "current": "42f2bbe2-37e0-11ea-ab82-02420a010db7",
       "next": "42f30e58-37e0-11ea-ab82-02420a010db7",
       "previous": "42f30cdc-37e0-11ea-ab82-02420a010db7"
      },
      {
       "current": "42f2bbe2-37e0-11ea-ab82-02420a010db7",
       "next": "42f30e58-37e0-11ea-ab82-02420a010db7",
       "previous": "42f30cdc-37e0-11ea-ab82-02420a010db7"
      },
      {
       "current": "42f2bbe2-37e0-11ea-ab82-02420a010db7",
       "next": "42f30e58-37e0-11ea-ab82-02420a010db7",
       "previous": "42f30cdc-37e0-11ea-ab82-02420a010db7"
      },
      {
       "current": "42f2bbe2-37e0-11ea-ab82-02420a010db7",
       "next": "42f30e58-37e0-11ea-ab82-02420a010db7",
       "previous": "42f30cdc-37e0-11ea-ab82-02420a010db7"
      },
      {
       "current": "42f2bbe2-37e0-11ea-ab82-02420a010db7",
       "next": "42f30e58-37e0-11ea-ab82-02420a010db7",
       "previous": "42f30cdc-37e0-11ea-ab82-02420a010db7"
      },
      {
       "current": "42f2bbe2-37e0-11ea-ab82-02420a010db7",
       "next": "42f30e58-37e0-11ea-ab82-02420a010db7",
       "previous": "42f30cdc-37e0-11ea-ab82-02420a010db7"
      },
      {
       "current": "42f2bbe2-37e0-11ea-ab82-02420a010db7",
       "next": "42f30e58-37e0-11ea-ab82-02420a010db7",
       "previous": "42f30cdc-37e0-11ea-ab82-02420a010db7"
      },
      {
       "current": "42f2bbe2-37e0-11ea-ab82-02420a010db7",
       "next": "42f30e58-37e0-11ea-ab82-02420a010db7",
       "previous": "42f30cdc-37e0-11ea-ab82-02420a010db7"
      },
      {
       "current": "42f2bbe2-37e0-11ea-ab82-02420a010db7",
       "next": "42f30e58-37e0-11ea-ab82-02420a010db7",
       "previous": "42f30cdc-37e0-11ea-ab82-02420a010db7"
      },
      {
       "current": "42f2bbe2-37e0-11ea-ab82-02420a010db7",
       "next": "42f30e58-37e0-11ea-ab82-02420a010db7",
       "previous": "42f30cdc-37e0-11ea-ab82-02420a010db7"
      },
      {
       "current": "42f2bbe2-37e0-11ea-ab82-02420a010db7",
       "next": "42f30e58-37e0-11ea-ab82-02420a010db7",
       "previous": "42f30cdc-37e0-11ea-ab82-02420a010db7"
      },
      {
       "current": "42f2bbe2-37e0-11ea-ab82-02420a010db7",
       "next": "42f30e58-37e0-11ea-ab82-02420a010db7",
       "previous": "42f30cdc-37e0-11ea-ab82-02420a010db7"
      },
      {
       "current": "42f2bbe2-37e0-11ea-ab82-02420a010db7",
       "next": "42f30e58-37e0-11ea-ab82-02420a010db7",
       "previous": "42f30cdc-37e0-11ea-ab82-02420a010db7"
      },
      {
       "current": "42f2bbe2-37e0-11ea-ab82-02420a010db7",
       "next": "42f305fc-37e0-11ea-ab82-02420a010db7",
       "previous": "42f304b2-37e0-11ea-ab82-02420a010db7"
      }
     ],
     "next": "9a7d3d36-3bf2-11ea-9663-02420a010f96",
     "previous": "9a7d3aca-3bf2-11ea-9663-02420a010f96"
    }
   },
   "source": [
    "#### 演習"
   ]
  },
  {
   "cell_type": "markdown",
   "metadata": {
    "lc_cell_meme": {
     "current": "9a7d3d36-3bf2-11ea-9663-02420a010f96",
     "history": [
      {
       "current": "a55591b6-2392-11e9-a9f8-e0d55ea40caf",
       "next": "cebf3c9b-2391-11e9-a9f8-e0d55ea40caf",
       "previous": "cebf3c9b-2391-11e9-a9f8-e0d55ea40caf"
      },
      {
       "current": "aa7c0baa-96e2-11e9-8e94-02420a010063",
       "next": "aa7c0d08-96e2-11e9-8e94-02420a010063",
       "previous": "aa7c0a7e-96e2-11e9-8e94-02420a010063"
      },
      {
       "current": "aa7c0baa-96e2-11e9-8e94-02420a010063",
       "next": "aa7c0d08-96e2-11e9-8e94-02420a010063",
       "previous": "aa7c0baa-96e2-11e9-8e94-02420a010063"
      },
      {
       "current": "163527cc-fae4-11e9-956e-02420a01004a",
       "next": "1635293e-fae4-11e9-956e-02420a01004a",
       "previous": "16352682-fae4-11e9-956e-02420a01004a"
      },
      {
       "current": "163527cc-fae4-11e9-956e-02420a01004a",
       "next": "163576a0-fae4-11e9-956e-02420a01004a",
       "previous": "163586b8-fae4-11e9-956e-02420a01004a"
      },
      {
       "current": "42f305fc-37e0-11ea-ab82-02420a010db7",
       "next": "42f3073c-37e0-11ea-ab82-02420a010db7",
       "previous": "42f304b2-37e0-11ea-ab82-02420a010db7"
      },
      {
       "current": "42f305fc-37e0-11ea-ab82-02420a010db7",
       "next": "42f3073c-37e0-11ea-ab82-02420a010db7",
       "previous": "42f2bbe2-37e0-11ea-ab82-02420a010db7"
      }
     ],
     "next": "9a7d3eee-3bf2-11ea-9663-02420a010f96",
     "previous": "9a7d3c00-3bf2-11ea-9663-02420a010f96"
    }
   },
   "source": [
    "関数`CurryCost()`を100,000回繰り返し実行し、カレーライスのサンプルの費用`wi`の分布を確認します。\n",
    "\n",
    "カレーライスのサンプルの費用を記録するリストを`costs`として、関数`CurryCost()`を100,000回呼び出して`wi`を記録しなさい。また，後でシミュレーションの結果を確認しやすいように関数`sort()`を使って、リスト`costs`に格納された費用を小さい値の順に並べ替えなさい。"
   ]
  },
  {
   "cell_type": "code",
   "execution_count": null,
   "metadata": {
    "lc_cell_meme": {
     "current": "9a7d3eee-3bf2-11ea-9663-02420a010f96",
     "history": [
      {
       "current": "8c75ccd4-fa35-11e9-bc54-02420a010e28",
       "next": "8c75cdd8-fa35-11e9-bc54-02420a010e28",
       "previous": "8c75cbda-fa35-11e9-bc54-02420a010e28"
      },
      {
       "current": "163576a0-fae4-11e9-956e-02420a01004a",
       "next": "16357826-fae4-11e9-956e-02420a01004a",
       "previous": "16357542-fae4-11e9-956e-02420a01004a"
      },
      {
       "current": "163576a0-fae4-11e9-956e-02420a01004a",
       "next": "19122846-36f8-11ea-9ea4-02420a010a70",
       "previous": "163527cc-fae4-11e9-956e-02420a01004a"
      },
      {
       "current": "42f3073c-37e0-11ea-ab82-02420a010db7",
       "next": "42f308b8-37e0-11ea-ab82-02420a010db7",
       "previous": "42f305fc-37e0-11ea-ab82-02420a010db7"
      },
      {
       "current": "42f3073c-37e0-11ea-ab82-02420a010db7",
       "next": "42f30a2a-37e0-11ea-ab82-02420a010db7",
       "previous": "42f305fc-37e0-11ea-ab82-02420a010db7"
      }
     ],
     "next": "9a7d4038-3bf2-11ea-9663-02420a010f96",
     "previous": "9a7d3d36-3bf2-11ea-9663-02420a010f96"
    }
   },
   "outputs": [],
   "source": [
    "#演習用入力欄（関数CurryCost()を呼び出して返り値をwiに入力するように?を修正すること）\n",
    "costs = []\n",
    "for i in range(100000):\n",
    "    wi = ???\n",
    "    costs.append(wi) \n",
    "costs.sort()"
   ]
  },
  {
   "cell_type": "markdown",
   "metadata": {
    "lc_cell_meme": {
     "current": "9a7d4038-3bf2-11ea-9663-02420a010f96",
     "history": [
      {
       "current": "8c75ced2-fa35-11e9-bc54-02420a010e28",
       "next": "8c75cfd6-fa35-11e9-bc54-02420a010e28",
       "previous": "8c75cdd8-fa35-11e9-bc54-02420a010e28"
      },
      {
       "current": "16357984-fae4-11e9-956e-02420a01004a",
       "next": "16357b78-fae4-11e9-956e-02420a01004a",
       "previous": "16357826-fae4-11e9-956e-02420a01004a"
      },
      {
       "current": "16357984-fae4-11e9-956e-02420a01004a",
       "next": "163576a0-fae4-11e9-956e-02420a01004a",
       "previous": "19122846-36f8-11ea-9ea4-02420a010a70"
      },
      {
       "current": "42f30a2a-37e0-11ea-ab82-02420a010db7",
       "next": "42f30b9c-37e0-11ea-ab82-02420a010db7",
       "previous": "42f308b8-37e0-11ea-ab82-02420a010db7"
      },
      {
       "current": "42f30a2a-37e0-11ea-ab82-02420a010db7",
       "next": "42f30b9c-37e0-11ea-ab82-02420a010db7",
       "previous": "42f3073c-37e0-11ea-ab82-02420a010db7"
      }
     ],
     "next": "9a7d415a-3bf2-11ea-9663-02420a010f96",
     "previous": "9a7d3eee-3bf2-11ea-9663-02420a010f96"
    }
   },
   "source": [
    "100,000回計算したカレーライス費用をヒストグラムで表示して、分布の様子を確認しなさい。ヒストグラムを作成するためには、`plt.hist()`を呼び出しなさい。"
   ]
  },
  {
   "cell_type": "code",
   "execution_count": null,
   "metadata": {
    "lc_cell_meme": {
     "current": "9a7d415a-3bf2-11ea-9663-02420a010f96",
     "history": [
      {
       "current": "8c75ccd4-fa35-11e9-bc54-02420a010e28",
       "next": "8c75cdd8-fa35-11e9-bc54-02420a010e28",
       "previous": "8c75cbda-fa35-11e9-bc54-02420a010e28"
      },
      {
       "current": "163576a0-fae4-11e9-956e-02420a01004a",
       "next": "16357826-fae4-11e9-956e-02420a01004a",
       "previous": "16357542-fae4-11e9-956e-02420a01004a"
      },
      {
       "current": "163576a0-fae4-11e9-956e-02420a01004a",
       "next": "163586b8-fae4-11e9-956e-02420a01004a",
       "previous": "16357984-fae4-11e9-956e-02420a01004a"
      },
      {
       "current": "42f30b9c-37e0-11ea-ab82-02420a010db7",
       "next": "42f30cdc-37e0-11ea-ab82-02420a010db7",
       "previous": "42f30a2a-37e0-11ea-ab82-02420a010db7"
      }
     ],
     "next": "9a7d4308-3bf2-11ea-9663-02420a010f96",
     "previous": "9a7d4038-3bf2-11ea-9663-02420a010f96"
    },
    "lc_wrapper": {
     "log_history": [
      "/home/16999405x4b0807/14a/.log/20200116/20200116-061047-0828.log",
      "/home/16999405x4b0807/14a/.log/20200116/20200116-064948-0479.log",
      "/home/16999405x4b0807/14a/.log/20200121/20200121-094430-0248.log"
     ]
    }
   },
   "outputs": [],
   "source": [
    "#このセルを評価すること\n",
    "plt.hist(costs)"
   ]
  },
  {
   "cell_type": "markdown",
   "metadata": {
    "lc_cell_meme": {
     "current": "9a7d4308-3bf2-11ea-9663-02420a010f96",
     "history": [
      {
       "current": "8c75d760-fa35-11e9-bc54-02420a010e28",
       "next": "8c75d85a-fa35-11e9-bc54-02420a010e28",
       "previous": "8c75d666-fa35-11e9-bc54-02420a010e28"
      },
      {
       "current": "163586b8-fae4-11e9-956e-02420a01004a",
       "next": "1635882a-fae4-11e9-956e-02420a01004a",
       "previous": "1635856e-fae4-11e9-956e-02420a01004a"
      },
      {
       "current": "163586b8-fae4-11e9-956e-02420a01004a",
       "next": "16357312-fae4-11e9-956e-02420a01004a",
       "previous": "163576a0-fae4-11e9-956e-02420a01004a"
      },
      {
       "current": "42f30cdc-37e0-11ea-ab82-02420a010db7",
       "next": "42f30e58-37e0-11ea-ab82-02420a010db7",
       "previous": "42f30b9c-37e0-11ea-ab82-02420a010db7"
      },
      {
       "current": "42f30cdc-37e0-11ea-ab82-02420a010db7",
       "next": "42f2bbe2-37e0-11ea-ab82-02420a010db7",
       "previous": "42f30b9c-37e0-11ea-ab82-02420a010db7"
      }
     ],
     "next": "9a7d447a-3bf2-11ea-9663-02420a010f96",
     "previous": "9a7d415a-3bf2-11ea-9663-02420a010f96"
    }
   },
   "source": [
    "<font size=\"2\" color=\"blue\">ヒント：分布の最小値は1800円、最大値は2400円、1950円から2000円付近が頂点となる凸型の分布になります。なお、分布の形はシミュレーション毎に変化します。</font>"
   ]
  },
  {
   "cell_type": "markdown",
   "metadata": {
    "lc_cell_meme": {
     "current": "9a7d447a-3bf2-11ea-9663-02420a010f96",
     "history": [
      {
       "current": "8c75a042-fa35-11e9-bc54-02420a010e28",
       "next": "aa7c063c-96e2-11e9-8e94-02420a010063",
       "previous": "8c759ef8-fa35-11e9-bc54-02420a010e28"
      },
      {
       "current": "16351d68-fae4-11e9-956e-02420a01004a",
       "next": "16351ebc-fae4-11e9-956e-02420a01004a",
       "previous": "16351c1e-fae4-11e9-956e-02420a01004a"
      },
      {
       "current": "16351d68-fae4-11e9-956e-02420a01004a",
       "next": "16351aac-fae4-11e9-956e-02420a01004a",
       "previous": "16351660-fae4-11e9-956e-02420a01004a"
      },
      {
       "current": "42f2bbe2-37e0-11ea-ab82-02420a010db7",
       "next": "42f2bd5e-37e0-11ea-ab82-02420a010db7",
       "previous": "42f2ba66-37e0-11ea-ab82-02420a010db7"
      },
      {
       "current": "42f2bbe2-37e0-11ea-ab82-02420a010db7",
       "next": "42f2cb82-37e0-11ea-ab82-02420a010db7",
       "previous": "42f2ca1a-37e0-11ea-ab82-02420a010db7"
      },
      {
       "current": "42f2bbe2-37e0-11ea-ab82-02420a010db7",
       "next": "42f2cb82-37e0-11ea-ab82-02420a010db7",
       "previous": "42f2ca1a-37e0-11ea-ab82-02420a010db7"
      },
      {
       "current": "42f2bbe2-37e0-11ea-ab82-02420a010db7",
       "next": "42f2cb82-37e0-11ea-ab82-02420a010db7",
       "previous": "42f2ca1a-37e0-11ea-ab82-02420a010db7"
      },
      {
       "current": "42f2bbe2-37e0-11ea-ab82-02420a010db7",
       "next": "42f30e58-37e0-11ea-ab82-02420a010db7",
       "previous": "42f30cdc-37e0-11ea-ab82-02420a010db7"
      },
      {
       "current": "42f2bbe2-37e0-11ea-ab82-02420a010db7",
       "next": "42f30e58-37e0-11ea-ab82-02420a010db7",
       "previous": "42f30cdc-37e0-11ea-ab82-02420a010db7"
      },
      {
       "current": "42f2bbe2-37e0-11ea-ab82-02420a010db7",
       "next": "42f30e58-37e0-11ea-ab82-02420a010db7",
       "previous": "42f30cdc-37e0-11ea-ab82-02420a010db7"
      },
      {
       "current": "42f2bbe2-37e0-11ea-ab82-02420a010db7",
       "next": "42f30e58-37e0-11ea-ab82-02420a010db7",
       "previous": "42f30cdc-37e0-11ea-ab82-02420a010db7"
      },
      {
       "current": "42f2bbe2-37e0-11ea-ab82-02420a010db7",
       "next": "42f30e58-37e0-11ea-ab82-02420a010db7",
       "previous": "42f30cdc-37e0-11ea-ab82-02420a010db7"
      },
      {
       "current": "42f2bbe2-37e0-11ea-ab82-02420a010db7",
       "next": "42f30e58-37e0-11ea-ab82-02420a010db7",
       "previous": "42f30cdc-37e0-11ea-ab82-02420a010db7"
      },
      {
       "current": "42f2bbe2-37e0-11ea-ab82-02420a010db7",
       "next": "42f30e58-37e0-11ea-ab82-02420a010db7",
       "previous": "42f30cdc-37e0-11ea-ab82-02420a010db7"
      },
      {
       "current": "42f2bbe2-37e0-11ea-ab82-02420a010db7",
       "next": "42f30e58-37e0-11ea-ab82-02420a010db7",
       "previous": "42f30cdc-37e0-11ea-ab82-02420a010db7"
      },
      {
       "current": "42f2bbe2-37e0-11ea-ab82-02420a010db7",
       "next": "42f30e58-37e0-11ea-ab82-02420a010db7",
       "previous": "42f30cdc-37e0-11ea-ab82-02420a010db7"
      },
      {
       "current": "42f2bbe2-37e0-11ea-ab82-02420a010db7",
       "next": "42f30e58-37e0-11ea-ab82-02420a010db7",
       "previous": "42f30cdc-37e0-11ea-ab82-02420a010db7"
      },
      {
       "current": "42f2bbe2-37e0-11ea-ab82-02420a010db7",
       "next": "42f30e58-37e0-11ea-ab82-02420a010db7",
       "previous": "42f30cdc-37e0-11ea-ab82-02420a010db7"
      },
      {
       "current": "42f2bbe2-37e0-11ea-ab82-02420a010db7",
       "next": "42f30e58-37e0-11ea-ab82-02420a010db7",
       "previous": "42f30cdc-37e0-11ea-ab82-02420a010db7"
      },
      {
       "current": "42f2bbe2-37e0-11ea-ab82-02420a010db7",
       "next": "42f30e58-37e0-11ea-ab82-02420a010db7",
       "previous": "42f30cdc-37e0-11ea-ab82-02420a010db7"
      },
      {
       "current": "42f2bbe2-37e0-11ea-ab82-02420a010db7",
       "next": "42f30e58-37e0-11ea-ab82-02420a010db7",
       "previous": "42f30cdc-37e0-11ea-ab82-02420a010db7"
      },
      {
       "current": "42f2bbe2-37e0-11ea-ab82-02420a010db7",
       "next": "42f30e58-37e0-11ea-ab82-02420a010db7",
       "previous": "42f30cdc-37e0-11ea-ab82-02420a010db7"
      },
      {
       "current": "42f2bbe2-37e0-11ea-ab82-02420a010db7",
       "next": "42f30e58-37e0-11ea-ab82-02420a010db7",
       "previous": "42f30cdc-37e0-11ea-ab82-02420a010db7"
      }
     ],
     "next": "9a7d4592-3bf2-11ea-9663-02420a010f96",
     "previous": "9a7d4308-3bf2-11ea-9663-02420a010f96"
    }
   },
   "source": [
    "#### 演習"
   ]
  },
  {
   "cell_type": "markdown",
   "metadata": {
    "lc_cell_meme": {
     "current": "9a7d4592-3bf2-11ea-9663-02420a010f96",
     "history": [
      {
       "current": "8c75ca36-fa35-11e9-bc54-02420a010e28",
       "next": "8c75cbda-fa35-11e9-bc54-02420a010e28",
       "previous": "8c75c928-fa35-11e9-bc54-02420a010e28"
      },
      {
       "current": "16357312-fae4-11e9-956e-02420a01004a",
       "next": "16357542-fae4-11e9-956e-02420a01004a",
       "previous": "163571aa-fae4-11e9-956e-02420a01004a"
      },
      {
       "current": "16357312-fae4-11e9-956e-02420a01004a",
       "next": "1912292c-36f8-11ea-9ea4-02420a010a70",
       "previous": "163586b8-fae4-11e9-956e-02420a01004a"
      },
      {
       "current": "42f30e58-37e0-11ea-ab82-02420a010db7",
       "next": "42f30fa2-37e0-11ea-ab82-02420a010db7",
       "previous": "42f30cdc-37e0-11ea-ab82-02420a010db7"
      },
      {
       "current": "42f30e58-37e0-11ea-ab82-02420a010db7",
       "next": "42f30fa2-37e0-11ea-ab82-02420a010db7",
       "previous": "42f2bbe2-37e0-11ea-ab82-02420a010db7"
      }
     ],
     "next": "9a7d46c8-3bf2-11ea-9663-02420a010f96",
     "previous": "9a7d447a-3bf2-11ea-9663-02420a010f96"
    }
   },
   "source": [
    "今回のシミュレーションの目的は、カレーライスの材料の買い物に出かけるときに、どれくらいお金を準備すれば不足することがないか、事前に見積もることでした。\n",
    "\n",
    "シミュレーションでは100,000回試行を行いましたが、その試行結果において、大きな値の上位1%を除き残り99%を含む集合の最大値であれば、99%の確率でカレーライス費用は不足することはないと言えます。これは、小さい順に並べたリスト`costs`においてインデックス99,000の要素の値に相当します。"
   ]
  },
  {
   "cell_type": "markdown",
   "metadata": {
    "lc_cell_meme": {
     "current": "9a7d46c8-3bf2-11ea-9663-02420a010f96",
     "history": [
      {
       "current": "1912292c-36f8-11ea-9ea4-02420a010a70",
       "next": "16357e98-fae4-11e9-956e-02420a01004a",
       "previous": "16357312-fae4-11e9-956e-02420a01004a"
      },
      {
       "current": "42f30fa2-37e0-11ea-ab82-02420a010db7",
       "next": "42f310e2-37e0-11ea-ab82-02420a010db7",
       "previous": "42f30e58-37e0-11ea-ab82-02420a010db7"
      }
     ],
     "next": "9a7d47ea-3bf2-11ea-9663-02420a010f96",
     "previous": "9a7d4592-3bf2-11ea-9663-02420a010f96"
    }
   },
   "source": [
    "99%の確率で不足することがないカレーライス費用を求めなさい。（リスト`costs`のインデックス99,000の要素を評価しなさい。）"
   ]
  },
  {
   "cell_type": "code",
   "execution_count": null,
   "metadata": {
    "lc_cell_meme": {
     "current": "9a7d47ea-3bf2-11ea-9663-02420a010f96",
     "history": [
      {
       "current": "8c75d26a-fa35-11e9-bc54-02420a010e28",
       "next": "8c75d36e-fa35-11e9-bc54-02420a010e28",
       "previous": "8c75d13e-fa35-11e9-bc54-02420a010e28"
      },
      {
       "current": "16357e98-fae4-11e9-956e-02420a01004a",
       "next": "16358186-fae4-11e9-956e-02420a01004a",
       "previous": "16357ccc-fae4-11e9-956e-02420a01004a"
      },
      {
       "current": "16357e98-fae4-11e9-956e-02420a01004a",
       "next": "19122a12-36f8-11ea-9ea4-02420a010a70",
       "previous": "1912292c-36f8-11ea-9ea4-02420a010a70"
      },
      {
       "current": "42f310e2-37e0-11ea-ab82-02420a010db7",
       "next": "42f3139e-37e0-11ea-ab82-02420a010db7",
       "previous": "42f30fa2-37e0-11ea-ab82-02420a010db7"
      },
      {
       "current": "42f310e2-37e0-11ea-ab82-02420a010db7",
       "next": "42f3157e-37e0-11ea-ab82-02420a010db7",
       "previous": "42f30fa2-37e0-11ea-ab82-02420a010db7"
      }
     ],
     "next": "9a7d48f8-3bf2-11ea-9663-02420a010f96",
     "previous": "9a7d46c8-3bf2-11ea-9663-02420a010f96"
    }
   },
   "outputs": [],
   "source": [
    "# 演習用入力欄\n"
   ]
  },
  {
   "cell_type": "markdown",
   "metadata": {
    "lc_cell_meme": {
     "current": "9a7d48f8-3bf2-11ea-9663-02420a010f96",
     "history": [
      {
       "current": "8c75d760-fa35-11e9-bc54-02420a010e28",
       "next": "8c75d85a-fa35-11e9-bc54-02420a010e28",
       "previous": "8c75d666-fa35-11e9-bc54-02420a010e28"
      },
      {
       "current": "163586b8-fae4-11e9-956e-02420a01004a",
       "next": "1635882a-fae4-11e9-956e-02420a01004a",
       "previous": "1635856e-fae4-11e9-956e-02420a01004a"
      },
      {
       "current": "163586b8-fae4-11e9-956e-02420a01004a",
       "next": "1635c416-fae4-11e9-956e-02420a01004a",
       "previous": "19122a12-36f8-11ea-9ea4-02420a010a70"
      },
      {
       "current": "42f3157e-37e0-11ea-ab82-02420a010db7",
       "next": "42f31718-37e0-11ea-ab82-02420a010db7",
       "previous": "42f3139e-37e0-11ea-ab82-02420a010db7"
      },
      {
       "current": "42f3157e-37e0-11ea-ab82-02420a010db7",
       "next": "42f31718-37e0-11ea-ab82-02420a010db7",
       "previous": "42f310e2-37e0-11ea-ab82-02420a010db7"
      }
     ],
     "next": "9a7d4a10-3bf2-11ea-9663-02420a010f96",
     "previous": "9a7d47ea-3bf2-11ea-9663-02420a010f96"
    }
   },
   "source": [
    "<font size=\"2\" color=\"blue\">ヒント：2200円程度の値になります。</font>"
   ]
  },
  {
   "cell_type": "markdown",
   "metadata": {
    "lc_cell_meme": {
     "current": "9a7d4a10-3bf2-11ea-9663-02420a010f96",
     "history": [
      {
       "current": "8c76021c-fa35-11e9-bc54-02420a010e28",
       "next": "8c760316-fa35-11e9-bc54-02420a010e28",
       "previous": "8c760122-fa35-11e9-bc54-02420a010e28"
      },
      {
       "current": "1635c416-fae4-11e9-956e-02420a01004a",
       "next": "1635c574-fae4-11e9-956e-02420a01004a",
       "previous": "1635c2c2-fae4-11e9-956e-02420a01004a"
      },
      {
       "current": "1635c416-fae4-11e9-956e-02420a01004a",
       "next": "1635c574-fae4-11e9-956e-02420a01004a",
       "previous": "163586b8-fae4-11e9-956e-02420a01004a"
      },
      {
       "current": "42f31718-37e0-11ea-ab82-02420a010db7",
       "next": "42f31934-37e0-11ea-ab82-02420a010db7",
       "previous": "42f3157e-37e0-11ea-ab82-02420a010db7"
      }
     ],
     "next": "9a7d4b28-3bf2-11ea-9663-02420a010f96",
     "previous": "9a7d48f8-3bf2-11ea-9663-02420a010f96"
    }
   },
   "source": [
    "# __演習はこれで終了です。課題に進んでください。__"
   ]
  },
  {
   "cell_type": "code",
   "execution_count": null,
   "metadata": {
    "lc_cell_meme": {
     "current": "9a7d4b28-3bf2-11ea-9663-02420a010f96",
     "history": [
      {
       "current": "8c760316-fa35-11e9-bc54-02420a010e28",
       "next": null,
       "previous": "8c76021c-fa35-11e9-bc54-02420a010e28"
      },
      {
       "current": "1635c574-fae4-11e9-956e-02420a01004a",
       "next": null,
       "previous": "1635c416-fae4-11e9-956e-02420a01004a"
      },
      {
       "current": "42f31934-37e0-11ea-ab82-02420a010db7",
       "next": null,
       "previous": "42f31718-37e0-11ea-ab82-02420a010db7"
      }
     ],
     "next": null,
     "previous": "9a7d4a10-3bf2-11ea-9663-02420a010f96"
    }
   },
   "outputs": [],
   "source": []
  }
 ],
 "metadata": {
  "celltoolbar": "Raw Cell Format",
  "kernelspec": {
   "display_name": "Python 3",
   "language": "python",
   "name": "python3"
  },
  "language_info": {
   "file_extension": ".py",
   "mimetype": "text/x-python",
   "name": "python",
   "nbconvert_exporter": "python",
   "pygments_lexer": "ipython3",
   "version": "3.7.3"
  },
  "lc_notebook_meme": {
   "current": "9a7ce9d0-3bf2-11ea-9663-02420a010f96",
   "history": [
    "cebf3c90-2391-11e9-a9f8-e0d55ea40caf",
    "aa7bef44-96e2-11e9-8e94-02420a010063",
    "163507ba-fae4-11e9-956e-02420a01004a",
    "42f2a4ea-37e0-11ea-ab82-02420a010db7"
   ],
   "lc_server_signature": {
    "current": {
     "notebook_dir": "/home/16999405x4b0807",
     "notebook_path": "/14",
     "server_url": "https://nb06.ecloud.nii.ac.jp/user/16999405x4b0807/",
     "signature_id": "9dd54594-df60-11e9-8bcf-02420a010029"
    },
    "history": [
     {
      "notebook_dir": "/home/kuwata/notebooks",
      "notebook_path": "/",
      "server_url": "http://157.19.141.8:8000/user/kuwata/",
      "signature_id": "d0abe7ae-153d-11e9-9674-e0d55ea40caf"
     },
     {
      "notebook_dir": "/home/kuwataa25e07",
      "notebook_path": "/03",
      "server_url": "https://nb02.ecloud.nii.ac.jp/user/kuwataa25e07/",
      "signature_id": "8e0bfa62-88ae-11e9-b239-02420a010019"
     },
     {
      "notebook_dir": "/home/16999405x4b0807",
      "notebook_path": "/06a",
      "server_url": "https://nb06.ecloud.nii.ac.jp/user/16999405x4b0807/",
      "signature_id": "9dd54594-df60-11e9-8bcf-02420a010029"
     },
     {
      "notebook_dir": "/home/16999405x4b0807",
      "notebook_path": "/14a",
      "server_url": "https://nb06.ecloud.nii.ac.jp/user/16999405x4b0807/",
      "signature_id": "9dd54594-df60-11e9-8bcf-02420a010029"
     }
    ]
   },
   "root_cells": [
    "9a7cf056-3bf2-11ea-9663-02420a010f96",
    "9a7cf25e-3bf2-11ea-9663-02420a010f96",
    "9a7cf448-3bf2-11ea-9663-02420a010f96",
    "9a7cf5c4-3bf2-11ea-9663-02420a010f96",
    "9a7cf722-3bf2-11ea-9663-02420a010f96",
    "9a7cf844-3bf2-11ea-9663-02420a010f96",
    "9a7cf984-3bf2-11ea-9663-02420a010f96",
    "9a7cfac4-3bf2-11ea-9663-02420a010f96",
    "9a7cfc04-3bf2-11ea-9663-02420a010f96",
    "9a7cfd1c-3bf2-11ea-9663-02420a010f96",
    "9a7cfe34-3bf2-11ea-9663-02420a010f96",
    "9a7cff92-3bf2-11ea-9663-02420a010f96",
    "9a7d00e6-3bf2-11ea-9663-02420a010f96",
    "9a7d0208-3bf2-11ea-9663-02420a010f96",
    "9a7d0348-3bf2-11ea-9663-02420a010f96",
    "9a7d0492-3bf2-11ea-9663-02420a010f96",
    "9a7d05aa-3bf2-11ea-9663-02420a010f96",
    "9a7d06fe-3bf2-11ea-9663-02420a010f96",
    "9a7d0848-3bf2-11ea-9663-02420a010f96",
    "9a7d0992-3bf2-11ea-9663-02420a010f96",
    "9a7d0aaa-3bf2-11ea-9663-02420a010f96",
    "9a7d0c12-3bf2-11ea-9663-02420a010f96",
    "9a7d0d52-3bf2-11ea-9663-02420a010f96",
    "9a7d0e6a-3bf2-11ea-9663-02420a010f96",
    "9a7d0fd2-3bf2-11ea-9663-02420a010f96",
    "9a7d1112-3bf2-11ea-9663-02420a010f96",
    "9a7d1248-3bf2-11ea-9663-02420a010f96",
    "9a7d13a6-3bf2-11ea-9663-02420a010f96",
    "9a7d14be-3bf2-11ea-9663-02420a010f96",
    "9a7d15fe-3bf2-11ea-9663-02420a010f96",
    "9a7d17fc-3bf2-11ea-9663-02420a010f96",
    "9a7d195a-3bf2-11ea-9663-02420a010f96",
    "9a7d1a7c-3bf2-11ea-9663-02420a010f96",
    "9a7d1c66-3bf2-11ea-9663-02420a010f96",
    "9a7d1db0-3bf2-11ea-9663-02420a010f96",
    "9a7d1efa-3bf2-11ea-9663-02420a010f96",
    "9a7d203a-3bf2-11ea-9663-02420a010f96",
    "9a7d2170-3bf2-11ea-9663-02420a010f96",
    "9a7d22b0-3bf2-11ea-9663-02420a010f96",
    "9a7d23e6-3bf2-11ea-9663-02420a010f96",
    "9a7d24fe-3bf2-11ea-9663-02420a010f96",
    "9a7d2666-3bf2-11ea-9663-02420a010f96",
    "9a7d279c-3bf2-11ea-9663-02420a010f96",
    "9a7d28fa-3bf2-11ea-9663-02420a010f96",
    "9a7d2a1c-3bf2-11ea-9663-02420a010f96",
    "9a7d2b52-3bf2-11ea-9663-02420a010f96",
    "9a7d2c9c-3bf2-11ea-9663-02420a010f96",
    "9a7d2db4-3bf2-11ea-9663-02420a010f96",
    "9a7d2f08-3bf2-11ea-9663-02420a010f96",
    "9a7d303e-3bf2-11ea-9663-02420a010f96",
    "9a7d3174-3bf2-11ea-9663-02420a010f96",
    "9a7d328c-3bf2-11ea-9663-02420a010f96",
    "9a7d33e0-3bf2-11ea-9663-02420a010f96",
    "9a7d34f8-3bf2-11ea-9663-02420a010f96",
    "9a7d3610-3bf2-11ea-9663-02420a010f96",
    "9a7d375a-3bf2-11ea-9663-02420a010f96",
    "9a7d3872-3bf2-11ea-9663-02420a010f96",
    "9a7d398a-3bf2-11ea-9663-02420a010f96",
    "9a7d3aca-3bf2-11ea-9663-02420a010f96",
    "9a7d3c00-3bf2-11ea-9663-02420a010f96",
    "9a7d3d36-3bf2-11ea-9663-02420a010f96",
    "9a7d3eee-3bf2-11ea-9663-02420a010f96",
    "9a7d4038-3bf2-11ea-9663-02420a010f96",
    "9a7d415a-3bf2-11ea-9663-02420a010f96",
    "9a7d4308-3bf2-11ea-9663-02420a010f96",
    "9a7d447a-3bf2-11ea-9663-02420a010f96",
    "9a7d4592-3bf2-11ea-9663-02420a010f96",
    "9a7d46c8-3bf2-11ea-9663-02420a010f96",
    "9a7d47ea-3bf2-11ea-9663-02420a010f96",
    "9a7d48f8-3bf2-11ea-9663-02420a010f96",
    "9a7d4a10-3bf2-11ea-9663-02420a010f96",
    "9a7d4b28-3bf2-11ea-9663-02420a010f96"
   ]
  },
  "toc": {
   "base_numbering": 1,
   "nav_menu": {},
   "number_sections": true,
   "sideBar": true,
   "skip_h1_title": false,
   "title_cell": "Table of Contents",
   "title_sidebar": "Contents",
   "toc_cell": false,
   "toc_position": {
    "height": "calc(100% - 180px)",
    "left": "10px",
    "top": "150px",
    "width": "237px"
   },
   "toc_section_display": true,
   "toc_window_display": true
  }
 },
 "nbformat": 4,
 "nbformat_minor": 2
}
