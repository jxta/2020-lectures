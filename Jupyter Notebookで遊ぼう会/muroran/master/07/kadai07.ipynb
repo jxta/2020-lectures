{
 "cells": [
  {
   "cell_type": "markdown",
   "metadata": {
    "lc_cell_meme": {
     "current": "3babaed0-04f4-11ea-a0d1-02420a0100a0",
     "history": [
      {
       "current": "55951774-9eeb-11e9-9f4c-02420a010067",
       "next": "559518d2-9eeb-11e9-9f4c-02420a010067",
       "previous": null
      }
     ],
     "next": "3babb11e-04f4-11ea-a0d1-02420a0100a0",
     "previous": null
    }
   },
   "source": [
    "# プログラミング入門\n",
    " 第7回　関数"
   ]
  },
  {
   "cell_type": "markdown",
   "metadata": {
    "lc_cell_meme": {
     "current": "3babb11e-04f4-11ea-a0d1-02420a0100a0",
     "history": [
      {
       "current": "559518d2-9eeb-11e9-9f4c-02420a010067",
       "next": "559519a4-9eeb-11e9-9f4c-02420a010067",
       "previous": "55951774-9eeb-11e9-9f4c-02420a010067"
      }
     ],
     "next": "3babb2cc-04f4-11ea-a0d1-02420a0100a0",
     "previous": "3babaed0-04f4-11ea-a0d1-02420a0100a0"
    }
   },
   "source": [
    "次のセルに、自分の名前と学籍番号を記入して下さい。"
   ]
  },
  {
   "cell_type": "raw",
   "metadata": {
    "lc_cell_meme": {
     "current": "3babb2cc-04f4-11ea-a0d1-02420a0100a0",
     "history": [
      {
       "current": "559519a4-9eeb-11e9-9f4c-02420a010067",
       "next": "55951a6c-9eeb-11e9-9f4c-02420a010067",
       "previous": "559518d2-9eeb-11e9-9f4c-02420a010067"
      }
     ],
     "next": "3babb45c-04f4-11ea-a0d1-02420a0100a0",
     "previous": "3babb11e-04f4-11ea-a0d1-02420a0100a0"
    }
   },
   "source": [
    "学籍番号：　　　　　　　　　　　氏名："
   ]
  },
  {
   "cell_type": "markdown",
   "metadata": {
    "lc_cell_meme": {
     "current": "3babb45c-04f4-11ea-a0d1-02420a0100a0",
     "history": [
      {
       "current": "55951a6c-9eeb-11e9-9f4c-02420a010067",
       "next": "55951b2a-9eeb-11e9-9f4c-02420a010067",
       "previous": "559519a4-9eeb-11e9-9f4c-02420a010067"
      }
     ],
     "next": "3babb5a6-04f4-11ea-a0d1-02420a0100a0",
     "previous": "3babb2cc-04f4-11ea-a0d1-02420a0100a0"
    }
   },
   "source": [
    "【進め方の注意】\n",
    "\n",
    "- 文書を読んで、手順に沿って問いに答えながら進めて下さい。\n",
    "- 最後の確認問題を解いて、ファイルを提出して下さい。\n",
    "- 途中わからないことがあれば、教員またはTAに質問して下さい。"
   ]
  },
  {
   "cell_type": "markdown",
   "metadata": {
    "lc_cell_meme": {
     "current": "3babb5a6-04f4-11ea-a0d1-02420a0100a0",
     "history": [
      {
       "current": "55951b2a-9eeb-11e9-9f4c-02420a010067",
       "next": "55951cba-9eeb-11e9-9f4c-02420a010067",
       "previous": "55951a6c-9eeb-11e9-9f4c-02420a010067"
      }
     ],
     "next": "3babb72c-04f4-11ea-a0d1-02420a0100a0",
     "previous": "3babb45c-04f4-11ea-a0d1-02420a0100a0"
    }
   },
   "source": [
    "## 注意事項"
   ]
  },
  {
   "cell_type": "markdown",
   "metadata": {
    "lc_cell_meme": {
     "current": "3babb72c-04f4-11ea-a0d1-02420a0100a0",
     "history": [
      {
       "current": "55951cba-9eeb-11e9-9f4c-02420a010067",
       "next": "55951da0-9eeb-11e9-9f4c-02420a010067",
       "previous": "55951b2a-9eeb-11e9-9f4c-02420a010067"
      }
     ],
     "next": "3babb876-04f4-11ea-a0d1-02420a0100a0",
     "previous": "3babb5a6-04f4-11ea-a0d1-02420a0100a0"
    }
   },
   "source": [
    "確認課題は、単位認定のための点数としてカウントします。\n",
    "\n",
    "友達と相談せず、自分だけでやってください。\n",
    "\n",
    "確認課題が終わった人は、提出後に退室して構いません。\n",
    "\n",
    "終わらなくても終了時刻までに提出してください。"
   ]
  },
  {
   "cell_type": "markdown",
   "metadata": {
    "collapsed": true,
    "lc_cell_meme": {
     "current": "3babb876-04f4-11ea-a0d1-02420a0100a0",
     "history": [
      {
       "current": "55951da0-9eeb-11e9-9f4c-02420a010067",
       "next": "55951eea-9eeb-11e9-9f4c-02420a010067",
       "previous": "55951cba-9eeb-11e9-9f4c-02420a010067"
      },
      {
       "current": "55951da0-9eeb-11e9-9f4c-02420a010067",
       "next": "55952340-9eeb-11e9-9f4c-02420a010067",
       "previous": "55951cba-9eeb-11e9-9f4c-02420a010067"
      }
     ],
     "next": "3babba92-04f4-11ea-a0d1-02420a0100a0",
     "previous": "3babb72c-04f4-11ea-a0d1-02420a0100a0"
    }
   },
   "source": [
    "# 課題"
   ]
  },
  {
   "cell_type": "markdown",
   "metadata": {
    "lc_cell_meme": {
     "current": "3babba92-04f4-11ea-a0d1-02420a0100a0",
     "history": [
      {
       "current": "55952340-9eeb-11e9-9f4c-02420a010067",
       "next": "559523f4-9eeb-11e9-9f4c-02420a010067",
       "previous": "5595228c-9eeb-11e9-9f4c-02420a010067"
      },
      {
       "current": "55952340-9eeb-11e9-9f4c-02420a010067",
       "next": "559523f4-9eeb-11e9-9f4c-02420a010067",
       "previous": "5595228c-9eeb-11e9-9f4c-02420a010067"
      },
      {
       "current": "55952340-9eeb-11e9-9f4c-02420a010067",
       "next": "559523f4-9eeb-11e9-9f4c-02420a010067",
       "previous": "5595228c-9eeb-11e9-9f4c-02420a010067"
      },
      {
       "current": "55952340-9eeb-11e9-9f4c-02420a010067",
       "next": "559523f4-9eeb-11e9-9f4c-02420a010067",
       "previous": "5595228c-9eeb-11e9-9f4c-02420a010067"
      },
      {
       "current": "55952340-9eeb-11e9-9f4c-02420a010067",
       "next": "559523f4-9eeb-11e9-9f4c-02420a010067",
       "previous": "5595228c-9eeb-11e9-9f4c-02420a010067"
      },
      {
       "current": "55952340-9eeb-11e9-9f4c-02420a010067",
       "next": "559523f4-9eeb-11e9-9f4c-02420a010067",
       "previous": "5595228c-9eeb-11e9-9f4c-02420a010067"
      },
      {
       "current": "55952340-9eeb-11e9-9f4c-02420a010067",
       "next": "559523f4-9eeb-11e9-9f4c-02420a010067",
       "previous": "5595228c-9eeb-11e9-9f4c-02420a010067"
      },
      {
       "current": "55952340-9eeb-11e9-9f4c-02420a010067",
       "next": "ca26595a-005b-11ea-a9f8-02420a0100a0",
       "previous": "5595228c-9eeb-11e9-9f4c-02420a010067"
      },
      {
       "current": "55952340-9eeb-11e9-9f4c-02420a010067",
       "next": "ca26595a-005b-11ea-a9f8-02420a0100a0",
       "previous": "55952098-9eeb-11e9-9f4c-02420a010067"
      },
      {
       "current": "55952340-9eeb-11e9-9f4c-02420a010067",
       "next": "ca26595a-005b-11ea-a9f8-02420a0100a0",
       "previous": "55951da0-9eeb-11e9-9f4c-02420a010067"
      }
     ],
     "next": "3babbc2c-04f4-11ea-a0d1-02420a0100a0",
     "previous": "3babb876-04f4-11ea-a0d1-02420a0100a0"
    }
   },
   "source": [
    "## 課題1 関数の定義(1)\n",
    "引数として半径r、高さhで与えた円柱の体積を求める関数cylin() を定義してください。ただし、print()による表示は行わずに、\"return\"で終了時に値（体積）を返すこと。<br>\n",
    "<br>\n",
    "円柱の体積は次の式で求めます。\n",
    "$$\n",
    "  v = \\pi r^2h\n",
    "$$\n",
    "\n",
    "【作成のヒント】<BR>\n",
    "　mathモジュールを利用します。<BR>\n",
    "　"
   ]
  },
  {
   "cell_type": "code",
   "execution_count": null,
   "metadata": {
    "lc_cell_meme": {
     "current": "3babbc2c-04f4-11ea-a0d1-02420a0100a0",
     "history": [
      {
       "current": "ca26595a-005b-11ea-a9f8-02420a0100a0",
       "next": "559523f4-9eeb-11e9-9f4c-02420a010067",
       "previous": "55952340-9eeb-11e9-9f4c-02420a010067"
      },
      {
       "current": "3babbc2c-04f4-11ea-a0d1-02420a0100a0",
       "next": "3babbdd0-04f4-11ea-a0d1-02420a0100a0",
       "previous": "3babba92-04f4-11ea-a0d1-02420a0100a0"
      }
     ],
     "next": "3babbf56-04f4-11ea-a0d1-02420a0100a0",
     "previous": "3babba92-04f4-11ea-a0d1-02420a0100a0"
    },
    "lc_wrapper": {
     "log_history": [
      "/home/10999542xb8011f/07a/.log/20191106/20191106-110813-0579.log",
      "/home/10999542xb8011f/07a/.log/20191110/20191110-175934-0469.log"
     ]
    }
   },
   "outputs": [],
   "source": [
    "# 演習用入力欄\n",
    "???\n",
    "def ???\n",
    "    v = ???\n",
    "    ???"
   ]
  },
  {
   "cell_type": "markdown",
   "metadata": {
    "lc_cell_meme": {
     "current": "3babbf56-04f4-11ea-a0d1-02420a0100a0",
     "history": [
      {
       "current": "559524b2-9eeb-11e9-9f4c-02420a010067",
       "next": "55952570-9eeb-11e9-9f4c-02420a010067",
       "previous": "559523f4-9eeb-11e9-9f4c-02420a010067"
      },
      {
       "current": "559524b2-9eeb-11e9-9f4c-02420a010067",
       "next": "55952570-9eeb-11e9-9f4c-02420a010067",
       "previous": "559523f4-9eeb-11e9-9f4c-02420a010067"
      },
      {
       "current": "559524b2-9eeb-11e9-9f4c-02420a010067",
       "next": "55952570-9eeb-11e9-9f4c-02420a010067",
       "previous": "559523f4-9eeb-11e9-9f4c-02420a010067"
      },
      {
       "current": "559524b2-9eeb-11e9-9f4c-02420a010067",
       "next": "55952570-9eeb-11e9-9f4c-02420a010067",
       "previous": "559523f4-9eeb-11e9-9f4c-02420a010067"
      },
      {
       "current": "559524b2-9eeb-11e9-9f4c-02420a010067",
       "next": "55952570-9eeb-11e9-9f4c-02420a010067",
       "previous": "559523f4-9eeb-11e9-9f4c-02420a010067"
      },
      {
       "current": "559524b2-9eeb-11e9-9f4c-02420a010067",
       "next": "55952570-9eeb-11e9-9f4c-02420a010067",
       "previous": "559523f4-9eeb-11e9-9f4c-02420a010067"
      },
      {
       "current": "559524b2-9eeb-11e9-9f4c-02420a010067",
       "next": "ca265ac2-005b-11ea-a9f8-02420a0100a0",
       "previous": "559523f4-9eeb-11e9-9f4c-02420a010067"
      },
      {
       "current": "3babbf56-04f4-11ea-a0d1-02420a0100a0",
       "next": "3babc0e6-04f4-11ea-a0d1-02420a0100a0",
       "previous": "3babbdd0-04f4-11ea-a0d1-02420a0100a0"
      }
     ],
     "next": "3babc0e6-04f4-11ea-a0d1-02420a0100a0",
     "previous": "3babbc2c-04f4-11ea-a0d1-02420a0100a0"
    }
   },
   "source": [
    "関数cylin()を評価して、正しい値がかえされることを確認してください。"
   ]
  },
  {
   "cell_type": "code",
   "execution_count": null,
   "metadata": {
    "lc_cell_meme": {
     "current": "3babc0e6-04f4-11ea-a0d1-02420a0100a0",
     "history": [
      {
       "current": "ca265ac2-005b-11ea-a9f8-02420a0100a0",
       "next": "55952570-9eeb-11e9-9f4c-02420a010067",
       "previous": "559524b2-9eeb-11e9-9f4c-02420a010067"
      },
      {
       "current": "3babc0e6-04f4-11ea-a0d1-02420a0100a0",
       "next": "3babc26c-04f4-11ea-a0d1-02420a0100a0",
       "previous": "3babbf56-04f4-11ea-a0d1-02420a0100a0"
      }
     ],
     "next": "3babc3b6-04f4-11ea-a0d1-02420a0100a0",
     "previous": "3babbf56-04f4-11ea-a0d1-02420a0100a0"
    },
    "lc_wrapper": {
     "log_history": [
      "/home/10999542xb8011f/07a/.log/20191110/20191110-175939-0042.log",
      "/home/10999542xb8011f/07a/.log/20191110/20191110-181648-0903.log",
      "/home/10999542xb8011f/07a/.log/20191110/20191110-184609-0588.log"
     ]
    }
   },
   "outputs": [],
   "source": [
    "# 演習用入力欄\n"
   ]
  },
  {
   "cell_type": "markdown",
   "metadata": {
    "lc_cell_meme": {
     "current": "3babc3b6-04f4-11ea-a0d1-02420a0100a0",
     "history": [
      {
       "current": "55952624-9eeb-11e9-9f4c-02420a010067",
       "next": "559526d8-9eeb-11e9-9f4c-02420a010067",
       "previous": "55952570-9eeb-11e9-9f4c-02420a010067"
      },
      {
       "current": "55952624-9eeb-11e9-9f4c-02420a010067",
       "next": "55951f80-9eeb-11e9-9f4c-02420a010067",
       "previous": "55952570-9eeb-11e9-9f4c-02420a010067"
      },
      {
       "current": "3babc3b6-04f4-11ea-a0d1-02420a0100a0",
       "next": "3babc528-04f4-11ea-a0d1-02420a0100a0",
       "previous": "3babc26c-04f4-11ea-a0d1-02420a0100a0"
      }
     ],
     "next": "3babc528-04f4-11ea-a0d1-02420a0100a0",
     "previous": "3babc0e6-04f4-11ea-a0d1-02420a0100a0"
    }
   },
   "source": [
    "ヒント：引数として半径1、高さ10を指定した場合は\"31.4159．．．\"が返ってきます。"
   ]
  },
  {
   "cell_type": "markdown",
   "metadata": {
    "lc_cell_meme": {
     "current": "3babc528-04f4-11ea-a0d1-02420a0100a0",
     "history": [
      {
       "current": "55951f80-9eeb-11e9-9f4c-02420a010067",
       "next": "5595200c-9eeb-11e9-9f4c-02420a010067",
       "previous": "55951eea-9eeb-11e9-9f4c-02420a010067"
      },
      {
       "current": "55951f80-9eeb-11e9-9f4c-02420a010067",
       "next": "fd2fed20-fc69-11e9-a9f8-02420a0100a0",
       "previous": "55951eea-9eeb-11e9-9f4c-02420a010067"
      },
      {
       "current": "55951f80-9eeb-11e9-9f4c-02420a010067",
       "next": "fd2fed20-fc69-11e9-a9f8-02420a0100a0",
       "previous": "55952624-9eeb-11e9-9f4c-02420a010067"
      }
     ],
     "next": "3babc672-04f4-11ea-a0d1-02420a0100a0",
     "previous": "3babc3b6-04f4-11ea-a0d1-02420a0100a0"
    }
   },
   "source": [
    "## 課題2 関数の定義(2)\n",
    "初速度40m/sでボールを真上に投げ上げたときのボールの高さをn秒後まで１秒毎に計算する関数height()を定義してください。引数は秒数nを渡します。<br>\n",
    "また計算結果はprint()を使用して、秒数ごとに「t=」の後に秒数とボールの高さを表示してください。<br>\n",
    "t= 1 : 35.1<br>\n",
    "t= 2 : 60.4<br>\n",
    "t= 3 : 75.9<br>\n",
    "  ：<br>\n",
    "<br>\n",
    "ボールの高さhは、次の式で求めます。ただし、v=40、t=1、2、3．．．とします。\n",
    "$$  h = vt - 9.8t^2 /2$$"
   ]
  },
  {
   "cell_type": "code",
   "execution_count": null,
   "metadata": {
    "lc_cell_meme": {
     "current": "3babc672-04f4-11ea-a0d1-02420a0100a0",
     "history": [
      {
       "current": "fd2fed20-fc69-11e9-a9f8-02420a0100a0",
       "next": "5595200c-9eeb-11e9-9f4c-02420a010067",
       "previous": "55951f80-9eeb-11e9-9f4c-02420a010067"
      },
      {
       "current": "3babc672-04f4-11ea-a0d1-02420a0100a0",
       "next": "3babc7f8-04f4-11ea-a0d1-02420a0100a0",
       "previous": "3babc528-04f4-11ea-a0d1-02420a0100a0"
      }
     ],
     "next": "3babc938-04f4-11ea-a0d1-02420a0100a0",
     "previous": "3babc528-04f4-11ea-a0d1-02420a0100a0"
    },
    "lc_wrapper": {
     "log_history": [
      "/home/10999542xb8011f/07a/.log/20191110/20191110-181803-0081.log"
     ]
    }
   },
   "outputs": [],
   "source": [
    "# 演習用入力欄 （要修正）\n",
    "???\n",
    "    v = ???\n",
    "    for ???\n",
    "        h = ???\n",
    "        print(???)"
   ]
  },
  {
   "cell_type": "markdown",
   "metadata": {
    "lc_cell_meme": {
     "current": "3babc938-04f4-11ea-a0d1-02420a0100a0",
     "history": [
      {
       "current": "fd4cadae-0392-11ea-a9f8-02420a0100a0",
       "next": "13dca956-038f-11ea-a9f8-02420a0100a0",
       "previous": "5595200c-9eeb-11e9-9f4c-02420a010067"
      },
      {
       "current": "fd4cadae-0392-11ea-a9f8-02420a0100a0",
       "next": "ca2652f2-005b-11ea-a9f8-02420a0100a0",
       "previous": "5595200c-9eeb-11e9-9f4c-02420a010067"
      },
      {
       "current": "3babc938-04f4-11ea-a0d1-02420a0100a0",
       "next": "3babcaaa-04f4-11ea-a0d1-02420a0100a0",
       "previous": "3babc7f8-04f4-11ea-a0d1-02420a0100a0"
      }
     ],
     "next": "3babcaaa-04f4-11ea-a0d1-02420a0100a0",
     "previous": "3babc672-04f4-11ea-a0d1-02420a0100a0"
    }
   },
   "source": [
    "次のセルで引数として10を指定し、関数height()を評価して表示結果を確認してください。"
   ]
  },
  {
   "cell_type": "code",
   "execution_count": null,
   "metadata": {
    "lc_cell_meme": {
     "current": "3babcaaa-04f4-11ea-a0d1-02420a0100a0",
     "history": [
      {
       "current": "ca2652f2-005b-11ea-a9f8-02420a0100a0",
       "next": "559521ce-9eeb-11e9-9f4c-02420a010067",
       "previous": "55952098-9eeb-11e9-9f4c-02420a010067"
      },
      {
       "current": "ca2652f2-005b-11ea-a9f8-02420a0100a0",
       "next": "13dca956-038f-11ea-a9f8-02420a0100a0",
       "previous": "fd4cadae-0392-11ea-a9f8-02420a0100a0"
      },
      {
       "current": "3babcaaa-04f4-11ea-a0d1-02420a0100a0",
       "next": "3babcbf4-04f4-11ea-a0d1-02420a0100a0",
       "previous": "3babc938-04f4-11ea-a0d1-02420a0100a0"
      }
     ],
     "next": "3babcd3e-04f4-11ea-a0d1-02420a0100a0",
     "previous": "3babc938-04f4-11ea-a0d1-02420a0100a0"
    },
    "lc_wrapper": {
     "log_history": [
      "/home/10999542xb8011f/07a/.log/20191110/20191110-172342-0377.log",
      "/home/10999542xb8011f/07a/.log/20191111/20191111-091840-0383.log"
     ]
    }
   },
   "outputs": [],
   "source": [
    "# 演習用入力欄\n"
   ]
  },
  {
   "cell_type": "markdown",
   "metadata": {
    "lc_cell_meme": {
     "current": "3babcd3e-04f4-11ea-a0d1-02420a0100a0",
     "history": [
      {
       "current": "55952098-9eeb-11e9-9f4c-02420a010067",
       "next": "559521ce-9eeb-11e9-9f4c-02420a010067",
       "previous": "5595200c-9eeb-11e9-9f4c-02420a010067"
      },
      {
       "current": "55952098-9eeb-11e9-9f4c-02420a010067",
       "next": "559521ce-9eeb-11e9-9f4c-02420a010067",
       "previous": "5595200c-9eeb-11e9-9f4c-02420a010067"
      },
      {
       "current": "55952098-9eeb-11e9-9f4c-02420a010067",
       "next": "559521ce-9eeb-11e9-9f4c-02420a010067",
       "previous": "5595200c-9eeb-11e9-9f4c-02420a010067"
      },
      {
       "current": "55952098-9eeb-11e9-9f4c-02420a010067",
       "next": "559521ce-9eeb-11e9-9f4c-02420a010067",
       "previous": "5595200c-9eeb-11e9-9f4c-02420a010067"
      },
      {
       "current": "55952098-9eeb-11e9-9f4c-02420a010067",
       "next": "559521ce-9eeb-11e9-9f4c-02420a010067",
       "previous": "5595200c-9eeb-11e9-9f4c-02420a010067"
      },
      {
       "current": "55952098-9eeb-11e9-9f4c-02420a010067",
       "next": "559521ce-9eeb-11e9-9f4c-02420a010067",
       "previous": "5595200c-9eeb-11e9-9f4c-02420a010067"
      },
      {
       "current": "55952098-9eeb-11e9-9f4c-02420a010067",
       "next": "ca2652f2-005b-11ea-a9f8-02420a0100a0",
       "previous": "5595200c-9eeb-11e9-9f4c-02420a010067"
      },
      {
       "current": "55952098-9eeb-11e9-9f4c-02420a010067",
       "next": "ca2652f2-005b-11ea-a9f8-02420a0100a0",
       "previous": "13dca956-038f-11ea-a9f8-02420a0100a0"
      },
      {
       "current": "55952098-9eeb-11e9-9f4c-02420a010067",
       "next": "55952340-9eeb-11e9-9f4c-02420a010067",
       "previous": "13dca956-038f-11ea-a9f8-02420a0100a0"
      },
      {
       "current": "55952098-9eeb-11e9-9f4c-02420a010067",
       "next": "559526d8-9eeb-11e9-9f4c-02420a010067",
       "previous": "13dca956-038f-11ea-a9f8-02420a0100a0"
      },
      {
       "current": "3babcd3e-04f4-11ea-a0d1-02420a0100a0",
       "next": "3babceb0-04f4-11ea-a0d1-02420a0100a0",
       "previous": "3babcbf4-04f4-11ea-a0d1-02420a0100a0"
      }
     ],
     "next": "3babceb0-04f4-11ea-a0d1-02420a0100a0",
     "previous": "3babcaaa-04f4-11ea-a0d1-02420a0100a0"
    }
   },
   "source": [
    "ヒント：次のように表示されます。<br>\n",
    "t= 1 : 35.1<br>\n",
    "t= 2 : 60.4<br>\n",
    "t= 3 : 75.9<br>\n",
    "t= 4 : 81.6<br>\n",
    "t= 5 : 77.4999...<br>\n",
    "t= 6 : 63.5999...<br>\n",
    "t= 7 : 39.8999...<br>\n",
    "t= 8 : 6.3999...<br>\n",
    "t= 9 : -36.9000...<br>\n",
    "t= 10 : -90.0000...<br>"
   ]
  },
  {
   "cell_type": "markdown",
   "metadata": {
    "lc_cell_meme": {
     "current": "3babceb0-04f4-11ea-a0d1-02420a0100a0",
     "history": [
      {
       "current": "559526d8-9eeb-11e9-9f4c-02420a010067",
       "next": "55952796-9eeb-11e9-9f4c-02420a010067",
       "previous": "55952624-9eeb-11e9-9f4c-02420a010067"
      },
      {
       "current": "559526d8-9eeb-11e9-9f4c-02420a010067",
       "next": "55952796-9eeb-11e9-9f4c-02420a010067",
       "previous": "55952624-9eeb-11e9-9f4c-02420a010067"
      },
      {
       "current": "559526d8-9eeb-11e9-9f4c-02420a010067",
       "next": "55952796-9eeb-11e9-9f4c-02420a010067",
       "previous": "55952624-9eeb-11e9-9f4c-02420a010067"
      },
      {
       "current": "559526d8-9eeb-11e9-9f4c-02420a010067",
       "next": "55952796-9eeb-11e9-9f4c-02420a010067",
       "previous": "55952624-9eeb-11e9-9f4c-02420a010067"
      },
      {
       "current": "559526d8-9eeb-11e9-9f4c-02420a010067",
       "next": "55952796-9eeb-11e9-9f4c-02420a010067",
       "previous": "55952624-9eeb-11e9-9f4c-02420a010067"
      },
      {
       "current": "559526d8-9eeb-11e9-9f4c-02420a010067",
       "next": "ca265bee-005b-11ea-a9f8-02420a0100a0",
       "previous": "55952624-9eeb-11e9-9f4c-02420a010067"
      },
      {
       "current": "559526d8-9eeb-11e9-9f4c-02420a010067",
       "next": "ca265bee-005b-11ea-a9f8-02420a0100a0",
       "previous": "55952098-9eeb-11e9-9f4c-02420a010067"
      },
      {
       "current": "559526d8-9eeb-11e9-9f4c-02420a010067",
       "next": "3b31011a-041a-11ea-a9f8-02420a0100a0",
       "previous": "55952098-9eeb-11e9-9f4c-02420a010067"
      }
     ],
     "next": "3babd04a-04f4-11ea-a0d1-02420a0100a0",
     "previous": "3babcd3e-04f4-11ea-a0d1-02420a0100a0"
    }
   },
   "source": [
    "## 課題3 関数の定義(3)"
   ]
  },
  {
   "cell_type": "markdown",
   "metadata": {
    "lc_cell_meme": {
     "current": "3babd04a-04f4-11ea-a0d1-02420a0100a0",
     "execution_end_time": "2019-11-11T00:31:53.253295Z",
     "history": [
      {
       "current": "3b31011a-041a-11ea-a9f8-02420a0100a0",
       "next": "ca265bee-005b-11ea-a9f8-02420a0100a0",
       "previous": "559526d8-9eeb-11e9-9f4c-02420a010067"
      }
     ],
     "next": "3babd194-04f4-11ea-a0d1-02420a0100a0",
     "previous": "3babceb0-04f4-11ea-a0d1-02420a0100a0"
    },
    "lc_wrapper": {
     "log_history": [
      "/home/10999542xb8011f/07a/.log/20191111/20191111-093153-0233.log"
     ]
    }
   },
   "source": [
    "上記の課題2で作成した関数height()をボールの高さが$0$より小さくなったら、秒数と高さの表示をせずに終了するように修正した関数height2()を定義してください。\n",
    "\n",
    "【修正のヒント】<br>\n",
    "　繰り返し処理内でボールの高さを求めた後で、条件判定を行い$0$より小さければ「return」で関数を終了します。<BR>\n",
    "　"
   ]
  },
  {
   "cell_type": "code",
   "execution_count": null,
   "metadata": {
    "lc_cell_meme": {
     "current": "3babd194-04f4-11ea-a0d1-02420a0100a0",
     "history": [
      {
       "current": "ca265bee-005b-11ea-a9f8-02420a0100a0",
       "next": "55952796-9eeb-11e9-9f4c-02420a010067",
       "previous": "559526d8-9eeb-11e9-9f4c-02420a010067"
      },
      {
       "current": "ca265bee-005b-11ea-a9f8-02420a0100a0",
       "next": "55952796-9eeb-11e9-9f4c-02420a010067",
       "previous": "3b31011a-041a-11ea-a9f8-02420a0100a0"
      },
      {
       "current": "3babd194-04f4-11ea-a0d1-02420a0100a0",
       "next": "3babd392-04f4-11ea-a0d1-02420a0100a0",
       "previous": "3babd04a-04f4-11ea-a0d1-02420a0100a0"
      }
     ],
     "next": "3babd50e-04f4-11ea-a0d1-02420a0100a0",
     "previous": "3babd04a-04f4-11ea-a0d1-02420a0100a0"
    }
   },
   "outputs": [],
   "source": [
    "# 演習用入力欄\n"
   ]
  },
  {
   "cell_type": "markdown",
   "metadata": {
    "lc_cell_meme": {
     "current": "3babd50e-04f4-11ea-a0d1-02420a0100a0",
     "history": [
      {
       "current": "d7bc8cf0-04f3-11ea-a9f8-02420a0100a0",
       "next": "013773e8-039f-11ea-a9f8-02420a0100a0",
       "previous": "55952796-9eeb-11e9-9f4c-02420a010067"
      },
      {
       "current": "3babd50e-04f4-11ea-a0d1-02420a0100a0",
       "next": "3babd658-04f4-11ea-a0d1-02420a0100a0",
       "previous": "3babd392-04f4-11ea-a0d1-02420a0100a0"
      }
     ],
     "next": "3babd658-04f4-11ea-a0d1-02420a0100a0",
     "previous": "3babd194-04f4-11ea-a0d1-02420a0100a0"
    }
   },
   "source": [
    "次のセルで引数として10を指定し、関数height2()を評価して表示結果を確認してください。"
   ]
  },
  {
   "cell_type": "code",
   "execution_count": null,
   "metadata": {
    "lc_cell_meme": {
     "current": "3babd658-04f4-11ea-a0d1-02420a0100a0",
     "history": [
      {
       "current": "013773e8-039f-11ea-a9f8-02420a0100a0",
       "next": "55952854-9eeb-11e9-9f4c-02420a010067",
       "previous": "55952796-9eeb-11e9-9f4c-02420a010067"
      },
      {
       "current": "013773e8-039f-11ea-a9f8-02420a0100a0",
       "next": "48ca0c20-039f-11ea-a9f8-02420a0100a0",
       "previous": "55952796-9eeb-11e9-9f4c-02420a010067"
      },
      {
       "current": "013773e8-039f-11ea-a9f8-02420a0100a0",
       "next": "48ca0c20-039f-11ea-a9f8-02420a0100a0",
       "previous": "d7bc8cf0-04f3-11ea-a9f8-02420a0100a0"
      },
      {
       "current": "3babd658-04f4-11ea-a0d1-02420a0100a0",
       "next": "3babd798-04f4-11ea-a0d1-02420a0100a0",
       "previous": "3babd50e-04f4-11ea-a0d1-02420a0100a0"
      }
     ],
     "next": "3babd8e2-04f4-11ea-a0d1-02420a0100a0",
     "previous": "3babd50e-04f4-11ea-a0d1-02420a0100a0"
    },
    "lc_wrapper": {
     "log_history": [
      "/home/10999542xb8011f/07a/.log/20191111/20191111-092304-0826.log",
      "/home/10999542xb8011f/07a/.log/20191111/20191111-092325-0921.log",
      "/home/10999542xb8011f/07a/.log/20191111/20191111-092351-0571.log",
      "/home/10999542xb8011f/07a/.log/20191112/20191112-112742-0226.log"
     ]
    }
   },
   "outputs": [],
   "source": [
    "# 演習用入力欄\n"
   ]
  },
  {
   "cell_type": "markdown",
   "metadata": {
    "lc_cell_meme": {
     "current": "3babd8e2-04f4-11ea-a0d1-02420a0100a0",
     "history": [
      {
       "current": "1f3d288c-04f4-11ea-a9f8-02420a0100a0",
       "next": "55952854-9eeb-11e9-9f4c-02420a010067",
       "previous": "48ca0c20-039f-11ea-a9f8-02420a0100a0"
      },
      {
       "current": "3babd8e2-04f4-11ea-a0d1-02420a0100a0",
       "next": "3babda54-04f4-11ea-a0d1-02420a0100a0",
       "previous": "3babd798-04f4-11ea-a0d1-02420a0100a0"
      }
     ],
     "next": "3babda54-04f4-11ea-a0d1-02420a0100a0",
     "previous": "3babd658-04f4-11ea-a0d1-02420a0100a0"
    }
   },
   "source": [
    "ヒント：次のように表示されます。<br>\n",
    "t= 1 : 35.1<br>\n",
    "t= 2 : 60.4<br>\n",
    "t= 3 : 75.9<br>\n",
    "t= 4 : 81.6<br>\n",
    "t= 5 : 77.4999...<br>\n",
    "t= 6 : 63.5999...<br>\n",
    "t= 7 : 39.8999...<br>\n",
    "t= 8 : 6.3999...<br>"
   ]
  },
  {
   "cell_type": "markdown",
   "metadata": {
    "lc_cell_meme": {
     "current": "3babda54-04f4-11ea-a0d1-02420a0100a0",
     "history": [
      {
       "current": "55952854-9eeb-11e9-9f4c-02420a010067",
       "next": "55952912-9eeb-11e9-9f4c-02420a010067",
       "previous": "55952796-9eeb-11e9-9f4c-02420a010067"
      },
      {
       "current": "55952854-9eeb-11e9-9f4c-02420a010067",
       "next": "55952912-9eeb-11e9-9f4c-02420a010067",
       "previous": "55952796-9eeb-11e9-9f4c-02420a010067"
      },
      {
       "current": "55952854-9eeb-11e9-9f4c-02420a010067",
       "next": "fd2ff202-fc69-11e9-a9f8-02420a0100a0",
       "previous": "55952796-9eeb-11e9-9f4c-02420a010067"
      },
      {
       "current": "55952854-9eeb-11e9-9f4c-02420a010067",
       "next": "fd2ff202-fc69-11e9-a9f8-02420a0100a0",
       "previous": "013773e8-039f-11ea-a9f8-02420a0100a0"
      },
      {
       "current": "55952854-9eeb-11e9-9f4c-02420a010067",
       "next": "fd2ff202-fc69-11e9-a9f8-02420a0100a0",
       "previous": "48ca0c20-039f-11ea-a9f8-02420a0100a0"
      },
      {
       "current": "55952854-9eeb-11e9-9f4c-02420a010067",
       "next": "fd2ff202-fc69-11e9-a9f8-02420a0100a0",
       "previous": "1f3d288c-04f4-11ea-a9f8-02420a0100a0"
      }
     ],
     "next": "3babdb9e-04f4-11ea-a0d1-02420a0100a0",
     "previous": "3babd8e2-04f4-11ea-a0d1-02420a0100a0"
    }
   },
   "source": [
    "# 課題は以上です。お疲れさまでした"
   ]
  },
  {
   "cell_type": "markdown",
   "metadata": {
    "lc_cell_meme": {
     "current": "3babdb9e-04f4-11ea-a0d1-02420a0100a0",
     "history": [
      {
       "current": "fd2ff202-fc69-11e9-a9f8-02420a0100a0",
       "next": "fd2ff374-fc69-11e9-a9f8-02420a0100a0",
       "previous": "55952854-9eeb-11e9-9f4c-02420a010067"
      }
     ],
     "next": "3babdce8-04f4-11ea-a0d1-02420a0100a0",
     "previous": "3babda54-04f4-11ea-a0d1-02420a0100a0"
    }
   },
   "source": [
    "## 評価結果"
   ]
  },
  {
   "cell_type": "code",
   "execution_count": null,
   "metadata": {
    "lc_cell_meme": {
     "current": "3babdce8-04f4-11ea-a0d1-02420a0100a0",
     "history": [
      {
       "current": "fd2ff374-fc69-11e9-a9f8-02420a0100a0",
       "next": "fd2ff4a0-fc69-11e9-a9f8-02420a0100a0",
       "previous": "fd2ff202-fc69-11e9-a9f8-02420a0100a0"
      }
     ],
     "next": "3babde28-04f4-11ea-a0d1-02420a0100a0",
     "previous": "3babdb9e-04f4-11ea-a0d1-02420a0100a0"
    }
   },
   "outputs": [],
   "source": []
  },
  {
   "cell_type": "markdown",
   "metadata": {
    "lc_cell_meme": {
     "current": "3babde28-04f4-11ea-a0d1-02420a0100a0",
     "history": [
      {
       "current": "fd2ff4a0-fc69-11e9-a9f8-02420a0100a0",
       "next": "fd2ff5cc-fc69-11e9-a9f8-02420a0100a0",
       "previous": "fd2ff374-fc69-11e9-a9f8-02420a0100a0"
      }
     ],
     "next": "3babdf72-04f4-11ea-a0d1-02420a0100a0",
     "previous": "3babdce8-04f4-11ea-a0d1-02420a0100a0"
    }
   },
   "source": [
    "## コメント等"
   ]
  },
  {
   "cell_type": "code",
   "execution_count": null,
   "metadata": {
    "lc_cell_meme": {
     "current": "3babdf72-04f4-11ea-a0d1-02420a0100a0",
     "history": [
      {
       "current": "fd2ff5cc-fc69-11e9-a9f8-02420a0100a0",
       "next": "55952912-9eeb-11e9-9f4c-02420a010067",
       "previous": "fd2ff4a0-fc69-11e9-a9f8-02420a0100a0"
      }
     ],
     "next": "3babe152-04f4-11ea-a0d1-02420a0100a0",
     "previous": "3babde28-04f4-11ea-a0d1-02420a0100a0"
    }
   },
   "outputs": [],
   "source": []
  },
  {
   "cell_type": "markdown",
   "metadata": {
    "lc_cell_meme": {
     "current": "3babe152-04f4-11ea-a0d1-02420a0100a0",
     "history": [
      {
       "current": "55952912-9eeb-11e9-9f4c-02420a010067",
       "next": null,
       "previous": "55952854-9eeb-11e9-9f4c-02420a010067"
      },
      {
       "current": "55952912-9eeb-11e9-9f4c-02420a010067",
       "next": null,
       "previous": "55952854-9eeb-11e9-9f4c-02420a010067"
      },
      {
       "current": "55952912-9eeb-11e9-9f4c-02420a010067",
       "next": null,
       "previous": "fd2ff5cc-fc69-11e9-a9f8-02420a0100a0"
      }
     ],
     "next": null,
     "previous": "3babdf72-04f4-11ea-a0d1-02420a0100a0"
    }
   },
   "source": []
  }
 ],
 "metadata": {
  "kernelspec": {
   "display_name": "Python 3",
   "language": "python",
   "name": "python3"
  },
  "language_info": {
   "file_extension": ".py",
   "mimetype": "text/x-python",
   "name": "python",
   "nbconvert_exporter": "python",
   "pygments_lexer": "ipython3",
   "version": "3.7.3"
  },
  "lc_notebook_meme": {
   "current": "3baba7a0-04f4-11ea-a0d1-02420a0100a0",
   "history": [
    "55950f7c-9eeb-11e9-9f4c-02420a010067"
   ],
   "lc_server_signature": {
    "current": {
     "notebook_dir": "/home/10999542xb8011f",
     "notebook_path": "/07",
     "server_url": "https://nb06.ecloud.nii.ac.jp/user/10999542xb8011f/",
     "signature_id": "1a06912c-df61-11e9-891d-02420a01002c"
    },
    "history": [
     {
      "notebook_dir": "/home/hayasakabe5305",
      "notebook_path": "/",
      "server_url": "https://nb02.ecloud.nii.ac.jp/user/hayasakabe5305/",
      "signature_id": "d7c71be2-8d85-11e9-94e8-02420a010065"
     },
     {
      "notebook_dir": "/home/10999542xb8011f",
      "notebook_path": "/07a",
      "server_url": "https://nb06.ecloud.nii.ac.jp/user/10999542xb8011f/",
      "signature_id": "1a06912c-df61-11e9-891d-02420a01002c"
     }
    ]
   },
   "root_cells": [
    "3babaed0-04f4-11ea-a0d1-02420a0100a0",
    "3babb11e-04f4-11ea-a0d1-02420a0100a0",
    "3babb2cc-04f4-11ea-a0d1-02420a0100a0",
    "3babb45c-04f4-11ea-a0d1-02420a0100a0",
    "3babb5a6-04f4-11ea-a0d1-02420a0100a0",
    "3babb72c-04f4-11ea-a0d1-02420a0100a0",
    "3babb876-04f4-11ea-a0d1-02420a0100a0",
    "3babba92-04f4-11ea-a0d1-02420a0100a0",
    "3babbc2c-04f4-11ea-a0d1-02420a0100a0",
    "3babbdd0-04f4-11ea-a0d1-02420a0100a0",
    "3babbf56-04f4-11ea-a0d1-02420a0100a0",
    "3babc0e6-04f4-11ea-a0d1-02420a0100a0",
    "3babc26c-04f4-11ea-a0d1-02420a0100a0",
    "3babc3b6-04f4-11ea-a0d1-02420a0100a0",
    "3babc528-04f4-11ea-a0d1-02420a0100a0",
    "3babc672-04f4-11ea-a0d1-02420a0100a0",
    "3babc7f8-04f4-11ea-a0d1-02420a0100a0",
    "3babc938-04f4-11ea-a0d1-02420a0100a0",
    "3babcaaa-04f4-11ea-a0d1-02420a0100a0",
    "3babcbf4-04f4-11ea-a0d1-02420a0100a0",
    "3babcd3e-04f4-11ea-a0d1-02420a0100a0",
    "3babceb0-04f4-11ea-a0d1-02420a0100a0",
    "3babd04a-04f4-11ea-a0d1-02420a0100a0",
    "3babd194-04f4-11ea-a0d1-02420a0100a0",
    "3babd392-04f4-11ea-a0d1-02420a0100a0",
    "3babd50e-04f4-11ea-a0d1-02420a0100a0",
    "3babd658-04f4-11ea-a0d1-02420a0100a0",
    "3babd798-04f4-11ea-a0d1-02420a0100a0",
    "3babd8e2-04f4-11ea-a0d1-02420a0100a0",
    "3babda54-04f4-11ea-a0d1-02420a0100a0",
    "3babdb9e-04f4-11ea-a0d1-02420a0100a0",
    "3babdce8-04f4-11ea-a0d1-02420a0100a0",
    "3babde28-04f4-11ea-a0d1-02420a0100a0",
    "3babdf72-04f4-11ea-a0d1-02420a0100a0",
    "3babe152-04f4-11ea-a0d1-02420a0100a0"
   ]
  },
  "toc": {
   "base_numbering": 1,
   "nav_menu": {},
   "number_sections": true,
   "sideBar": true,
   "skip_h1_title": false,
   "title_cell": "Table of Contents",
   "title_sidebar": "Contents",
   "toc_cell": false,
   "toc_position": {},
   "toc_section_display": true,
   "toc_window_display": false
  }
 },
 "nbformat": 4,
 "nbformat_minor": 2
}
