{
 "cells": [
  {
   "cell_type": "markdown",
   "metadata": {
    "lc_cell_meme": {
     "current": "37a7fd0c-04f4-11ea-84d4-02420a0100a0",
     "history": [
      {
       "current": "8bf64eec-9e22-11e9-9f4c-02420a010067",
       "next": "8bf64f8c-9e22-11e9-9f4c-02420a010067",
       "previous": null
      }
     ],
     "next": "37a7ff50-04f4-11ea-84d4-02420a0100a0",
     "previous": null
    }
   },
   "source": [
    "# プログラミング入門\n",
    "\n",
    "第7回　関数"
   ]
  },
  {
   "cell_type": "markdown",
   "metadata": {
    "lc_cell_meme": {
     "current": "37a7ff50-04f4-11ea-84d4-02420a0100a0",
     "history": [
      {
       "current": "8bf64f8c-9e22-11e9-9f4c-02420a010067",
       "next": "8bf64ffa-9e22-11e9-9f4c-02420a010067",
       "previous": "8bf64eec-9e22-11e9-9f4c-02420a010067"
      }
     ],
     "next": "37a800fe-04f4-11ea-84d4-02420a0100a0",
     "previous": "37a7fd0c-04f4-11ea-84d4-02420a0100a0"
    }
   },
   "source": [
    "次のセルに、自分の名前と学籍番号を記入して下さい。"
   ]
  },
  {
   "cell_type": "raw",
   "metadata": {
    "lc_cell_meme": {
     "current": "37a800fe-04f4-11ea-84d4-02420a0100a0",
     "history": [
      {
       "current": "8bf64ffa-9e22-11e9-9f4c-02420a010067",
       "next": "8bf6505e-9e22-11e9-9f4c-02420a010067",
       "previous": "8bf64f8c-9e22-11e9-9f4c-02420a010067"
      }
     ],
     "next": "37a8028e-04f4-11ea-84d4-02420a0100a0",
     "previous": "37a7ff50-04f4-11ea-84d4-02420a0100a0"
    }
   },
   "source": [
    "学籍番号：　　　　　　　　　　　氏名："
   ]
  },
  {
   "cell_type": "markdown",
   "metadata": {
    "lc_cell_meme": {
     "current": "37a8028e-04f4-11ea-84d4-02420a0100a0",
     "history": [
      {
       "current": "8bf6505e-9e22-11e9-9f4c-02420a010067",
       "next": "8bf650c2-9e22-11e9-9f4c-02420a010067",
       "previous": "8bf64ffa-9e22-11e9-9f4c-02420a010067"
      }
     ],
     "next": "37a803ec-04f4-11ea-84d4-02420a0100a0",
     "previous": "37a800fe-04f4-11ea-84d4-02420a0100a0"
    }
   },
   "source": [
    "【進め方の注意】\n",
    "\n",
    "- 文書を読んで、手順に沿って問いに答えながら進めて下さい。\n",
    "- 最後まで問題を解いたら、ファイルを保存して課題に進んで下さい。\n",
    "- 途中わからないことがあれば、教員またはTAに質問して下さい。"
   ]
  },
  {
   "cell_type": "markdown",
   "metadata": {
    "lc_cell_meme": {
     "current": "37a803ec-04f4-11ea-84d4-02420a0100a0",
     "history": [
      {
       "current": "8bf650c2-9e22-11e9-9f4c-02420a010067",
       "next": "8bf65126-9e22-11e9-9f4c-02420a010067",
       "previous": "8bf6505e-9e22-11e9-9f4c-02420a010067"
      }
     ],
     "next": "37a8054a-04f4-11ea-84d4-02420a0100a0",
     "previous": "37a8028e-04f4-11ea-84d4-02420a0100a0"
    }
   },
   "source": [
    "# 関数\n",
    "\n",
    "例えば、奇数かどうかを返す関数isodd()を定義する場合は、次のように記述します。まずは評価してみてください。"
   ]
  },
  {
   "cell_type": "code",
   "execution_count": null,
   "metadata": {
    "lc_cell_meme": {
     "current": "37a8054a-04f4-11ea-84d4-02420a0100a0",
     "history": [
      {
       "current": "8bf65126-9e22-11e9-9f4c-02420a010067",
       "next": "8bf6518a-9e22-11e9-9f4c-02420a010067",
       "previous": "8bf650c2-9e22-11e9-9f4c-02420a010067"
      }
     ],
     "next": "37a806ee-04f4-11ea-84d4-02420a0100a0",
     "previous": "37a803ec-04f4-11ea-84d4-02420a0100a0"
    },
    "lc_wrapper": {
     "log_history": [
      "/home/10999542xb8011f/07a/.log/20191108/20191108-143938-0792.log"
     ]
    }
   },
   "outputs": [],
   "source": [
    "# このセルを評価すること\n",
    "def isodd(x):\n",
    "    if ((x % 2) == 1):\n",
    "        return True\n",
    "    else:\n",
    "        return False"
   ]
  },
  {
   "cell_type": "markdown",
   "metadata": {
    "lc_cell_meme": {
     "current": "37a806ee-04f4-11ea-84d4-02420a0100a0",
     "history": [
      {
       "current": "8bf6518a-9e22-11e9-9f4c-02420a010067",
       "next": "8bf651ee-9e22-11e9-9f4c-02420a010067",
       "previous": "8bf65126-9e22-11e9-9f4c-02420a010067"
      },
      {
       "current": "8bf6518a-9e22-11e9-9f4c-02420a010067",
       "next": "5c79b2e6-f6e0-11e9-8b8b-02420a0103fb",
       "previous": "8bf65126-9e22-11e9-9f4c-02420a010067"
      },
      {
       "current": "8bf6518a-9e22-11e9-9f4c-02420a010067",
       "next": "338a1004-0457-11ea-a9f8-02420a0100a0",
       "previous": "8bf65126-9e22-11e9-9f4c-02420a010067"
      }
     ],
     "next": "37a8084c-04f4-11ea-84d4-02420a0100a0",
     "previous": "37a8054a-04f4-11ea-84d4-02420a0100a0"
    }
   },
   "source": [
    "ヒント：　関数isodd()を定義しただけなので、まだ評価されていないため何も値が返されません。"
   ]
  },
  {
   "cell_type": "markdown",
   "metadata": {
    "lc_cell_meme": {
     "current": "37a8084c-04f4-11ea-84d4-02420a0100a0",
     "history": [
      {
       "current": "338a1004-0457-11ea-a9f8-02420a0100a0",
       "next": "338a15ae-0457-11ea-a9f8-02420a0100a0",
       "previous": "8bf6518a-9e22-11e9-9f4c-02420a010067"
      }
     ],
     "next": "37a809aa-04f4-11ea-84d4-02420a0100a0",
     "previous": "37a806ee-04f4-11ea-84d4-02420a0100a0"
    }
   },
   "source": [
    "教科書では上記のようにif文の条件式で括弧を利用していますが、次のセルのように条件式では括弧は無くても構いません。"
   ]
  },
  {
   "cell_type": "code",
   "execution_count": null,
   "metadata": {
    "lc_cell_meme": {
     "current": "37a809aa-04f4-11ea-84d4-02420a0100a0",
     "history": [
      {
       "current": "338a15ae-0457-11ea-a9f8-02420a0100a0",
       "next": "5c79b2e6-f6e0-11e9-8b8b-02420a0103fb",
       "previous": "338a1004-0457-11ea-a9f8-02420a0100a0"
      }
     ],
     "next": "37a80afe-04f4-11ea-84d4-02420a0100a0",
     "previous": "37a8084c-04f4-11ea-84d4-02420a0100a0"
    },
    "lc_wrapper": {
     "log_history": [
      "/home/10999542xb8011f/07a/.log/20191111/20191111-164658-0648.log",
      "/home/10999542xb8011f/07a/.log/20191111/20191111-181210-0958.log"
     ]
    }
   },
   "outputs": [],
   "source": [
    "# このセルを評価すること\n",
    "def isodd(x):\n",
    "    if x % 2 == 1:\n",
    "        return True\n",
    "    else:\n",
    "        return False"
   ]
  },
  {
   "cell_type": "markdown",
   "metadata": {
    "lc_cell_meme": {
     "current": "37a80afe-04f4-11ea-84d4-02420a0100a0",
     "history": [
      {
       "current": "5c79b2e6-f6e0-11e9-8b8b-02420a0103fb",
       "next": "8bf651ee-9e22-11e9-9f4c-02420a010067",
       "previous": "8bf6518a-9e22-11e9-9f4c-02420a010067"
      },
      {
       "current": "5c79b2e6-f6e0-11e9-8b8b-02420a0103fb",
       "next": "8bf651ee-9e22-11e9-9f4c-02420a010067",
       "previous": "338a15ae-0457-11ea-a9f8-02420a0100a0"
      }
     ],
     "next": "37a80dce-04f4-11ea-84d4-02420a0100a0",
     "previous": "37a809aa-04f4-11ea-84d4-02420a0100a0"
    }
   },
   "source": [
    "## 関数の呼び出しと評価"
   ]
  },
  {
   "cell_type": "markdown",
   "metadata": {
    "lc_cell_meme": {
     "current": "37a80dce-04f4-11ea-84d4-02420a0100a0",
     "history": [
      {
       "current": "8bf651ee-9e22-11e9-9f4c-02420a010067",
       "next": "8bf65248-9e22-11e9-9f4c-02420a010067",
       "previous": "8bf6518a-9e22-11e9-9f4c-02420a010067"
      },
      {
       "current": "8bf651ee-9e22-11e9-9f4c-02420a010067",
       "next": "8bf65248-9e22-11e9-9f4c-02420a010067",
       "previous": "5c79b2e6-f6e0-11e9-8b8b-02420a0103fb"
      },
      {
       "current": "8bf651ee-9e22-11e9-9f4c-02420a010067",
       "next": "55d9abf8-fc3f-11e9-a9f8-02420a0100a0",
       "previous": "5c79b2e6-f6e0-11e9-8b8b-02420a0103fb"
      }
     ],
     "next": "37a80f36-04f4-11ea-84d4-02420a0100a0",
     "previous": "37a80afe-04f4-11ea-84d4-02420a0100a0"
    }
   },
   "source": [
    "定義した関数isodd()は「isodd(1)」などと引数を指定して呼び出して評価します。以下の3つのセルにそれぞれ引数を1、3、6を指定して関数isodd()を評価してください。"
   ]
  },
  {
   "cell_type": "code",
   "execution_count": null,
   "metadata": {
    "lc_cell_meme": {
     "current": "37a80f36-04f4-11ea-84d4-02420a0100a0",
     "history": [
      {
       "current": "55d9abf8-fc3f-11e9-a9f8-02420a0100a0",
       "next": "8bf65248-9e22-11e9-9f4c-02420a010067",
       "previous": "8bf651ee-9e22-11e9-9f4c-02420a010067"
      },
      {
       "current": "55d9abf8-fc3f-11e9-a9f8-02420a0100a0",
       "next": "2c787324-fc40-11e9-a9f8-02420a0100a0",
       "previous": "8bf651ee-9e22-11e9-9f4c-02420a010067"
      }
     ],
     "next": "37a810e4-04f4-11ea-84d4-02420a0100a0",
     "previous": "37a80dce-04f4-11ea-84d4-02420a0100a0"
    },
    "lc_wrapper": {
     "log_history": [
      "/home/10999542xb8011f/07a/.log/20191101/20191101-093518-0646.log",
      "/home/10999542xb8011f/07a/.log/20191111/20191111-164703-0485.log",
      "/home/10999542xb8011f/07a/.log/20191111/20191111-181213-0602.log",
      "/home/10999542xb8011f/07a/.log/20191111/20191111-182546-0179.log"
     ]
    }
   },
   "outputs": [],
   "source": [
    "# このセルを評価すること\n",
    "# 引数を１で関数isodd()を評価する。\n",
    "isodd(1)"
   ]
  },
  {
   "cell_type": "markdown",
   "metadata": {
    "lc_cell_meme": {
     "current": "37a810e4-04f4-11ea-84d4-02420a0100a0",
     "history": [
      {
       "current": "2c787324-fc40-11e9-a9f8-02420a0100a0",
       "next": "9d62ddaa-fc3f-11e9-a9f8-02420a0100a0",
       "previous": "8bf65248-9e22-11e9-9f4c-02420a010067"
      },
      {
       "current": "2c787324-fc40-11e9-a9f8-02420a0100a0",
       "next": "9d62ddaa-fc3f-11e9-a9f8-02420a0100a0",
       "previous": "55d9abf8-fc3f-11e9-a9f8-02420a0100a0"
      }
     ],
     "next": "37a8127e-04f4-11ea-84d4-02420a0100a0",
     "previous": "37a80f36-04f4-11ea-84d4-02420a0100a0"
    }
   },
   "source": [
    "ヒント：　Trueが返ってきます。"
   ]
  },
  {
   "cell_type": "code",
   "execution_count": null,
   "metadata": {
    "lc_cell_meme": {
     "current": "37a8127e-04f4-11ea-84d4-02420a0100a0",
     "history": [
      {
       "current": "9d62ddaa-fc3f-11e9-a9f8-02420a0100a0",
       "next": "8bf652ac-9e22-11e9-9f4c-02420a010067",
       "previous": "8bf65248-9e22-11e9-9f4c-02420a010067"
      },
      {
       "current": "9d62ddaa-fc3f-11e9-a9f8-02420a0100a0",
       "next": "8bf652ac-9e22-11e9-9f4c-02420a010067",
       "previous": "2c787324-fc40-11e9-a9f8-02420a0100a0"
      },
      {
       "current": "37a8127e-04f4-11ea-84d4-02420a0100a0",
       "next": "37a813dc-04f4-11ea-84d4-02420a0100a0",
       "previous": "37a810e4-04f4-11ea-84d4-02420a0100a0"
      }
     ],
     "next": "37a8156c-04f4-11ea-84d4-02420a0100a0",
     "previous": "37a810e4-04f4-11ea-84d4-02420a0100a0"
    },
    "lc_wrapper": {
     "log_history": [
      "/home/10999542xb8011f/07a/.log/20191101/20191101-093959-0514.log",
      "/home/10999542xb8011f/07a/.log/20191111/20191111-181348-0474.log",
      "/home/10999542xb8011f/07a/.log/20191111/20191111-182555-0148.log"
     ]
    }
   },
   "outputs": [],
   "source": [
    "# 演習用入力欄\n",
    "# 引数を３で関数isodd()を評価する。\n"
   ]
  },
  {
   "cell_type": "markdown",
   "metadata": {
    "lc_cell_meme": {
     "current": "37a8156c-04f4-11ea-84d4-02420a0100a0",
     "history": [
      {
       "current": "2c7875f4-fc40-11e9-a9f8-02420a0100a0",
       "next": "9d62e1b0-fc3f-11e9-a9f8-02420a0100a0",
       "previous": "8bf652ac-9e22-11e9-9f4c-02420a010067"
      },
      {
       "current": "37a8156c-04f4-11ea-84d4-02420a0100a0",
       "next": "37a816d4-04f4-11ea-84d4-02420a0100a0",
       "previous": "37a813dc-04f4-11ea-84d4-02420a0100a0"
      }
     ],
     "next": "37a816d4-04f4-11ea-84d4-02420a0100a0",
     "previous": "37a8127e-04f4-11ea-84d4-02420a0100a0"
    }
   },
   "source": [
    "ヒント：　Trueが返ってきます。"
   ]
  },
  {
   "cell_type": "code",
   "execution_count": null,
   "metadata": {
    "lc_cell_meme": {
     "current": "37a816d4-04f4-11ea-84d4-02420a0100a0",
     "history": [
      {
       "current": "9d62e1b0-fc3f-11e9-a9f8-02420a0100a0",
       "next": "8bf65310-9e22-11e9-9f4c-02420a010067",
       "previous": "8bf652ac-9e22-11e9-9f4c-02420a010067"
      },
      {
       "current": "9d62e1b0-fc3f-11e9-a9f8-02420a0100a0",
       "next": "8bf65310-9e22-11e9-9f4c-02420a010067",
       "previous": "2c7875f4-fc40-11e9-a9f8-02420a0100a0"
      },
      {
       "current": "37a816d4-04f4-11ea-84d4-02420a0100a0",
       "next": "37a818f0-04f4-11ea-84d4-02420a0100a0",
       "previous": "37a8156c-04f4-11ea-84d4-02420a0100a0"
      }
     ],
     "next": "37a81a44-04f4-11ea-84d4-02420a0100a0",
     "previous": "37a8156c-04f4-11ea-84d4-02420a0100a0"
    },
    "lc_wrapper": {
     "log_history": [
      "/home/10999542xb8011f/07a/.log/20191101/20191101-094020-0753.log",
      "/home/10999542xb8011f/07a/.log/20191111/20191111-134153-0831.log",
      "/home/10999542xb8011f/07a/.log/20191111/20191111-182603-0736.log"
     ]
    }
   },
   "outputs": [],
   "source": [
    "# 演習用入力欄\n",
    "# 引数を６で関数isodd()を評価する。\n"
   ]
  },
  {
   "cell_type": "markdown",
   "metadata": {
    "lc_cell_meme": {
     "current": "37a81a44-04f4-11ea-84d4-02420a0100a0",
     "history": [
      {
       "current": "74012aa6-fc40-11e9-a9f8-02420a0100a0",
       "next": "32ed2786-f6e1-11e9-8b8b-02420a0103fb",
       "previous": "8bf65310-9e22-11e9-9f4c-02420a010067"
      },
      {
       "current": "74012aa6-fc40-11e9-a9f8-02420a0100a0",
       "next": "a3dd5cbe-f6e0-11e9-8b8b-02420a0103fb",
       "previous": "8bf65310-9e22-11e9-9f4c-02420a010067"
      },
      {
       "current": "37a81a44-04f4-11ea-84d4-02420a0100a0",
       "next": "37a81bca-04f4-11ea-84d4-02420a0100a0",
       "previous": "37a818f0-04f4-11ea-84d4-02420a0100a0"
      }
     ],
     "next": "37a81bca-04f4-11ea-84d4-02420a0100a0",
     "previous": "37a816d4-04f4-11ea-84d4-02420a0100a0"
    }
   },
   "source": [
    "ヒント：　Falseが返ってきます。"
   ]
  },
  {
   "cell_type": "markdown",
   "metadata": {
    "lc_cell_meme": {
     "current": "37a81bca-04f4-11ea-84d4-02420a0100a0",
     "history": [
      {
       "current": "a3dd5cbe-f6e0-11e9-8b8b-02420a0103fb",
       "next": "8bf653ce-9e22-11e9-9f4c-02420a010067",
       "previous": "8bf65374-9e22-11e9-9f4c-02420a010067"
      },
      {
       "current": "a3dd5cbe-f6e0-11e9-8b8b-02420a0103fb",
       "next": "8bf653ce-9e22-11e9-9f4c-02420a010067",
       "previous": "32ed2786-f6e1-11e9-8b8b-02420a0103fb"
      },
      {
       "current": "a3dd5cbe-f6e0-11e9-8b8b-02420a0103fb",
       "next": "8bf653ce-9e22-11e9-9f4c-02420a010067",
       "previous": "0986a1dc-f6e2-11e9-8b8b-02420a0103fb"
      },
      {
       "current": "a3dd5cbe-f6e0-11e9-8b8b-02420a0103fb",
       "next": "8bf653ce-9e22-11e9-9f4c-02420a010067",
       "previous": "32ed2786-f6e1-11e9-8b8b-02420a0103fb"
      },
      {
       "current": "a3dd5cbe-f6e0-11e9-8b8b-02420a0103fb",
       "next": "32ed2786-f6e1-11e9-8b8b-02420a0103fb",
       "previous": "74012aa6-fc40-11e9-a9f8-02420a0100a0"
      },
      {
       "current": "a3dd5cbe-f6e0-11e9-8b8b-02420a0103fb",
       "next": "8bf653ce-9e22-11e9-9f4c-02420a010067",
       "previous": "74012aa6-fc40-11e9-a9f8-02420a0100a0"
      },
      {
       "current": "a3dd5cbe-f6e0-11e9-8b8b-02420a0103fb",
       "next": "dc3929da-0202-11ea-a9f8-02420a0100a0",
       "previous": "74012aa6-fc40-11e9-a9f8-02420a0100a0"
      }
     ],
     "next": "37a81d46-04f4-11ea-84d4-02420a0100a0",
     "previous": "37a81a44-04f4-11ea-84d4-02420a0100a0"
    }
   },
   "source": [
    "## 関数の定義と注意点\n",
    "### 値を返す関数1"
   ]
  },
  {
   "cell_type": "markdown",
   "metadata": {
    "lc_cell_meme": {
     "current": "37a81d46-04f4-11ea-84d4-02420a0100a0",
     "history": [
      {
       "current": "dc3929da-0202-11ea-a9f8-02420a0100a0",
       "next": "8bf653ce-9e22-11e9-9f4c-02420a010067",
       "previous": "a3dd5cbe-f6e0-11e9-8b8b-02420a0103fb"
      }
     ],
     "next": "37a81ecc-04f4-11ea-84d4-02420a0100a0",
     "previous": "37a81bca-04f4-11ea-84d4-02420a0100a0"
    }
   },
   "source": [
    "関数は関数本体の全ての処理が終了するか、returnを実行すると終了となります。関数終了時に値を返す場合は、returnの後に変数等を指定します。"
   ]
  },
  {
   "cell_type": "markdown",
   "metadata": {
    "lc_cell_meme": {
     "current": "37a81ecc-04f4-11ea-84d4-02420a0100a0",
     "history": [
      {
       "current": "8bf653ce-9e22-11e9-9f4c-02420a010067",
       "next": "8bf65432-9e22-11e9-9f4c-02420a010067",
       "previous": "8bf65374-9e22-11e9-9f4c-02420a010067"
      },
      {
       "current": "8bf653ce-9e22-11e9-9f4c-02420a010067",
       "next": "8bf65432-9e22-11e9-9f4c-02420a010067",
       "previous": "a3dd5cbe-f6e0-11e9-8b8b-02420a0103fb"
      },
      {
       "current": "8bf653ce-9e22-11e9-9f4c-02420a010067",
       "next": "bb871930-fc40-11e9-a9f8-02420a0100a0",
       "previous": "a3dd5cbe-f6e0-11e9-8b8b-02420a0103fb"
      },
      {
       "current": "8bf653ce-9e22-11e9-9f4c-02420a010067",
       "next": "bb871930-fc40-11e9-a9f8-02420a0100a0",
       "previous": "32ed2786-f6e1-11e9-8b8b-02420a0103fb"
      },
      {
       "current": "8bf653ce-9e22-11e9-9f4c-02420a010067",
       "next": "bb871930-fc40-11e9-a9f8-02420a0100a0",
       "previous": "a3dd5cbe-f6e0-11e9-8b8b-02420a0103fb"
      },
      {
       "current": "8bf653ce-9e22-11e9-9f4c-02420a010067",
       "next": "bb871930-fc40-11e9-a9f8-02420a0100a0",
       "previous": "dc3929da-0202-11ea-a9f8-02420a0100a0"
      }
     ],
     "next": "37a82020-04f4-11ea-84d4-02420a0100a0",
     "previous": "37a81d46-04f4-11ea-84d4-02420a0100a0"
    }
   },
   "source": [
    "演習：　偶数かどうかを判定し、偶数ならTrueを奇数ならFalesを返す関数iseven()を定義して評価してください。"
   ]
  },
  {
   "cell_type": "code",
   "execution_count": null,
   "metadata": {
    "lc_cell_meme": {
     "current": "37a82020-04f4-11ea-84d4-02420a0100a0",
     "history": [
      {
       "current": "bb871930-fc40-11e9-a9f8-02420a0100a0",
       "next": "8bf65432-9e22-11e9-9f4c-02420a010067",
       "previous": "8bf653ce-9e22-11e9-9f4c-02420a010067"
      },
      {
       "current": "37a82020-04f4-11ea-84d4-02420a0100a0",
       "next": "37a8219c-04f4-11ea-84d4-02420a0100a0",
       "previous": "37a81ecc-04f4-11ea-84d4-02420a0100a0"
      }
     ],
     "next": "37a822fa-04f4-11ea-84d4-02420a0100a0",
     "previous": "37a81ecc-04f4-11ea-84d4-02420a0100a0"
    },
    "lc_wrapper": {
     "log_history": [
      "/home/10999542xb8011f/07a/.log/20191101/20191101-094417-0368.log"
     ]
    }
   },
   "outputs": [],
   "source": [
    "# 演習用入力欄 （要修正）\n",
    "??? iseven(x):\n",
    "    if ((x % 2) == 0):\n",
    "        ??? True\n",
    "    else:\n",
    "        ??? False"
   ]
  },
  {
   "cell_type": "markdown",
   "metadata": {
    "lc_cell_meme": {
     "current": "37a822fa-04f4-11ea-84d4-02420a0100a0",
     "history": [
      {
       "current": "94e52c92-f6e9-11e9-8b8b-02420a0103fb",
       "next": "8bf6548c-9e22-11e9-9f4c-02420a010067",
       "previous": "8bf65432-9e22-11e9-9f4c-02420a010067"
      },
      {
       "current": "94e52c92-f6e9-11e9-8b8b-02420a0103fb",
       "next": "8bf654e6-9e22-11e9-9f4c-02420a010067",
       "previous": "8bf65432-9e22-11e9-9f4c-02420a010067"
      },
      {
       "current": "94e52c92-f6e9-11e9-8b8b-02420a0103fb",
       "next": "030bf6a4-fc41-11e9-a9f8-02420a0100a0",
       "previous": "8bf65432-9e22-11e9-9f4c-02420a010067"
      },
      {
       "current": "37a822fa-04f4-11ea-84d4-02420a0100a0",
       "next": "37a82516-04f4-11ea-84d4-02420a0100a0",
       "previous": "37a8219c-04f4-11ea-84d4-02420a0100a0"
      }
     ],
     "next": "37a82516-04f4-11ea-84d4-02420a0100a0",
     "previous": "37a82020-04f4-11ea-84d4-02420a0100a0"
    }
   },
   "source": [
    "ヒント：　まだ呼び出して評価していませんので、何も値は返されません。<br>\n",
    "次のセルで引数に数値を指定して関数iseven()を呼び出して評価してください。"
   ]
  },
  {
   "cell_type": "code",
   "execution_count": null,
   "metadata": {
    "lc_cell_meme": {
     "current": "37a82516-04f4-11ea-84d4-02420a0100a0",
     "history": [
      {
       "current": "030bf6a4-fc41-11e9-a9f8-02420a0100a0",
       "next": "8bf654e6-9e22-11e9-9f4c-02420a010067",
       "previous": "94e52c92-f6e9-11e9-8b8b-02420a0103fb"
      },
      {
       "current": "37a82516-04f4-11ea-84d4-02420a0100a0",
       "next": "37a82688-04f4-11ea-84d4-02420a0100a0",
       "previous": "37a822fa-04f4-11ea-84d4-02420a0100a0"
      }
     ],
     "next": "37a827dc-04f4-11ea-84d4-02420a0100a0",
     "previous": "37a822fa-04f4-11ea-84d4-02420a0100a0"
    },
    "lc_wrapper": {
     "log_history": [
      "/home/10999542xb8011f/07a/.log/20191101/20191101-140519-0807.log"
     ]
    }
   },
   "outputs": [],
   "source": [
    "# 演習用入力欄\n"
   ]
  },
  {
   "cell_type": "markdown",
   "metadata": {
    "lc_cell_meme": {
     "current": "37a827dc-04f4-11ea-84d4-02420a0100a0",
     "history": [
      {
       "current": "8bf6548c-9e22-11e9-9f4c-02420a010067",
       "next": "8bf654e6-9e22-11e9-9f4c-02420a010067",
       "previous": "8bf65432-9e22-11e9-9f4c-02420a010067"
      },
      {
       "current": "8bf6548c-9e22-11e9-9f4c-02420a010067",
       "next": "8bf654e6-9e22-11e9-9f4c-02420a010067",
       "previous": "32ed2b32-f6e1-11e9-8b8b-02420a0103fb"
      },
      {
       "current": "8bf6548c-9e22-11e9-9f4c-02420a010067",
       "next": "8bf654e6-9e22-11e9-9f4c-02420a010067",
       "previous": "8bf65432-9e22-11e9-9f4c-02420a010067"
      },
      {
       "current": "8bf6548c-9e22-11e9-9f4c-02420a010067",
       "next": "8bf654e6-9e22-11e9-9f4c-02420a010067",
       "previous": "94e52c92-f6e9-11e9-8b8b-02420a0103fb"
      },
      {
       "current": "8bf6548c-9e22-11e9-9f4c-02420a010067",
       "next": "a032dede-f6e7-11e9-8b8b-02420a0103fb",
       "previous": "8bf654e6-9e22-11e9-9f4c-02420a010067"
      },
      {
       "current": "37a827dc-04f4-11ea-84d4-02420a0100a0",
       "next": "37a82930-04f4-11ea-84d4-02420a0100a0",
       "previous": "37a82688-04f4-11ea-84d4-02420a0100a0"
      }
     ],
     "next": "37a82930-04f4-11ea-84d4-02420a0100a0",
     "previous": "37a82516-04f4-11ea-84d4-02420a0100a0"
    }
   },
   "source": [
    "ヒント：　TrueまたはFalesが返ってきます。"
   ]
  },
  {
   "cell_type": "markdown",
   "metadata": {
    "lc_cell_meme": {
     "current": "37a82930-04f4-11ea-84d4-02420a0100a0",
     "history": [
      {
       "current": "a032dede-f6e7-11e9-8b8b-02420a0103fb",
       "next": "8bf6554a-9e22-11e9-9f4c-02420a010067",
       "previous": "8bf654e6-9e22-11e9-9f4c-02420a010067"
      },
      {
       "current": "a032dede-f6e7-11e9-8b8b-02420a0103fb",
       "next": "8bf6554a-9e22-11e9-9f4c-02420a010067",
       "previous": "8bf6548c-9e22-11e9-9f4c-02420a010067"
      }
     ],
     "next": "37a82ac0-04f4-11ea-84d4-02420a0100a0",
     "previous": "37a827dc-04f4-11ea-84d4-02420a0100a0"
    }
   },
   "source": [
    "### 値を返す関数2"
   ]
  },
  {
   "cell_type": "markdown",
   "metadata": {
    "lc_cell_meme": {
     "current": "37a82ac0-04f4-11ea-84d4-02420a0100a0",
     "history": [
      {
       "current": "8bf6554a-9e22-11e9-9f4c-02420a010067",
       "next": "8bf655ae-9e22-11e9-9f4c-02420a010067",
       "previous": "8bf654e6-9e22-11e9-9f4c-02420a010067"
      },
      {
       "current": "8bf6554a-9e22-11e9-9f4c-02420a010067",
       "next": "8bf655ae-9e22-11e9-9f4c-02420a010067",
       "previous": "a032dede-f6e7-11e9-8b8b-02420a0103fb"
      },
      {
       "current": "8bf6554a-9e22-11e9-9f4c-02420a010067",
       "next": "4aa16620-fc41-11e9-a9f8-02420a0100a0",
       "previous": "a032dede-f6e7-11e9-8b8b-02420a0103fb"
      }
     ],
     "next": "37a82c46-04f4-11ea-84d4-02420a0100a0",
     "previous": "37a82930-04f4-11ea-84d4-02420a0100a0"
    }
   },
   "source": [
    "演習：　偶数の場合はその引数の値を、奇数の場合は1を足して偶数を返す関数seteven()を定義して評価してください。"
   ]
  },
  {
   "cell_type": "code",
   "execution_count": null,
   "metadata": {
    "lc_cell_meme": {
     "current": "37a82c46-04f4-11ea-84d4-02420a0100a0",
     "history": [
      {
       "current": "4aa16620-fc41-11e9-a9f8-02420a0100a0",
       "next": "8bf655ae-9e22-11e9-9f4c-02420a010067",
       "previous": "8bf6554a-9e22-11e9-9f4c-02420a010067"
      },
      {
       "current": "37a82c46-04f4-11ea-84d4-02420a0100a0",
       "next": "37a82d9a-04f4-11ea-84d4-02420a0100a0",
       "previous": "37a82ac0-04f4-11ea-84d4-02420a0100a0"
      }
     ],
     "next": "37a82eee-04f4-11ea-84d4-02420a0100a0",
     "previous": "37a82ac0-04f4-11ea-84d4-02420a0100a0"
    }
   },
   "outputs": [],
   "source": [
    "# 演習用入力欄 （要修正）\n",
    "??? ???(x):\n",
    "    if ((x % 2) == 0):\n",
    "        ??? x\n",
    "    else:\n",
    "        ??? x + 1"
   ]
  },
  {
   "cell_type": "markdown",
   "metadata": {
    "lc_cell_meme": {
     "current": "37a82eee-04f4-11ea-84d4-02420a0100a0",
     "history": [
      {
       "current": "8bf65608-9e22-11e9-9f4c-02420a010067",
       "next": "8bf6566c-9e22-11e9-9f4c-02420a010067",
       "previous": "8bf655ae-9e22-11e9-9f4c-02420a010067"
      },
      {
       "current": "8bf65608-9e22-11e9-9f4c-02420a010067",
       "next": "4aa16922-fc41-11e9-a9f8-02420a0100a0",
       "previous": "8bf655ae-9e22-11e9-9f4c-02420a010067"
      },
      {
       "current": "37a82eee-04f4-11ea-84d4-02420a0100a0",
       "next": "37a830a6-04f4-11ea-84d4-02420a0100a0",
       "previous": "37a82d9a-04f4-11ea-84d4-02420a0100a0"
      }
     ],
     "next": "37a830a6-04f4-11ea-84d4-02420a0100a0",
     "previous": "37a82c46-04f4-11ea-84d4-02420a0100a0"
    }
   },
   "source": [
    "引数に4を指定して関数seteven()を評価し、正しい結果（4）が返ってくることを確認してください。"
   ]
  },
  {
   "cell_type": "code",
   "execution_count": null,
   "metadata": {
    "lc_cell_meme": {
     "current": "37a830a6-04f4-11ea-84d4-02420a0100a0",
     "history": [
      {
       "current": "4aa16922-fc41-11e9-a9f8-02420a0100a0",
       "next": "8bf6566c-9e22-11e9-9f4c-02420a010067",
       "previous": "8bf65608-9e22-11e9-9f4c-02420a010067"
      },
      {
       "current": "37a830a6-04f4-11ea-84d4-02420a0100a0",
       "next": "37a8334e-04f4-11ea-84d4-02420a0100a0",
       "previous": "37a82eee-04f4-11ea-84d4-02420a0100a0"
      }
     ],
     "next": "37a83574-04f4-11ea-84d4-02420a0100a0",
     "previous": "37a82eee-04f4-11ea-84d4-02420a0100a0"
    },
    "lc_wrapper": {
     "log_history": [
      "/home/10999542xb8011f/07a/.log/20191111/20191111-182812-0088.log",
      "/home/10999542xb8011f/07a/.log/20191111/20191111-182823-0242.log"
     ]
    }
   },
   "outputs": [],
   "source": [
    "# 演習用入力欄\n"
   ]
  },
  {
   "cell_type": "markdown",
   "metadata": {
    "lc_cell_meme": {
     "current": "37a83574-04f4-11ea-84d4-02420a0100a0",
     "history": [
      {
       "current": "2378fe00-01f0-11ea-a9f8-02420a0100a0",
       "next": "8bf656c6-9e22-11e9-9f4c-02420a010067",
       "previous": "8bf6566c-9e22-11e9-9f4c-02420a010067"
      },
      {
       "current": "37a83574-04f4-11ea-84d4-02420a0100a0",
       "next": "37a8374a-04f4-11ea-84d4-02420a0100a0",
       "previous": "37a8334e-04f4-11ea-84d4-02420a0100a0"
      }
     ],
     "next": "37a8374a-04f4-11ea-84d4-02420a0100a0",
     "previous": "37a830a6-04f4-11ea-84d4-02420a0100a0"
    }
   },
   "source": [
    "ヒント：　4が返ってきます。"
   ]
  },
  {
   "cell_type": "markdown",
   "metadata": {
    "lc_cell_meme": {
     "current": "37a8374a-04f4-11ea-84d4-02420a0100a0",
     "history": [
      {
       "current": "8bf656c6-9e22-11e9-9f4c-02420a010067",
       "next": "8bf6572a-9e22-11e9-9f4c-02420a010067",
       "previous": "8bf6566c-9e22-11e9-9f4c-02420a010067"
      },
      {
       "current": "8bf656c6-9e22-11e9-9f4c-02420a010067",
       "next": "921cb41e-fc41-11e9-a9f8-02420a0100a0",
       "previous": "8bf6566c-9e22-11e9-9f4c-02420a010067"
      },
      {
       "current": "8bf656c6-9e22-11e9-9f4c-02420a010067",
       "next": "921cb41e-fc41-11e9-a9f8-02420a0100a0",
       "previous": "8bf6566c-9e22-11e9-9f4c-02420a010067"
      },
      {
       "current": "8bf656c6-9e22-11e9-9f4c-02420a010067",
       "next": "921cb41e-fc41-11e9-a9f8-02420a0100a0",
       "previous": "2378fe00-01f0-11ea-a9f8-02420a0100a0"
      }
     ],
     "next": "37a838da-04f4-11ea-84d4-02420a0100a0",
     "previous": "37a83574-04f4-11ea-84d4-02420a0100a0"
    }
   },
   "source": [
    "同様に、引数に5を指定して関数seteven()を評価し、正しい結果（6）が返されることを確認してください。"
   ]
  },
  {
   "cell_type": "code",
   "execution_count": null,
   "metadata": {
    "lc_cell_meme": {
     "current": "37a838da-04f4-11ea-84d4-02420a0100a0",
     "history": [
      {
       "current": "921cb41e-fc41-11e9-a9f8-02420a0100a0",
       "next": "8bf6572a-9e22-11e9-9f4c-02420a010067",
       "previous": "8bf656c6-9e22-11e9-9f4c-02420a010067"
      },
      {
       "current": "37a838da-04f4-11ea-84d4-02420a0100a0",
       "next": "37a83a42-04f4-11ea-84d4-02420a0100a0",
       "previous": "37a8374a-04f4-11ea-84d4-02420a0100a0"
      }
     ],
     "next": "37a83be6-04f4-11ea-84d4-02420a0100a0",
     "previous": "37a8374a-04f4-11ea-84d4-02420a0100a0"
    }
   },
   "outputs": [],
   "source": [
    "# 演習用入力欄\n"
   ]
  },
  {
   "cell_type": "markdown",
   "metadata": {
    "lc_cell_meme": {
     "current": "37a83be6-04f4-11ea-84d4-02420a0100a0",
     "history": [
      {
       "current": "23790562-01f0-11ea-a9f8-02420a0100a0",
       "next": "8bf65784-9e22-11e9-9f4c-02420a010067",
       "previous": "8bf6572a-9e22-11e9-9f4c-02420a010067"
      },
      {
       "current": "23790562-01f0-11ea-a9f8-02420a0100a0",
       "next": "493fe102-01f6-11ea-a9f8-02420a0100a0",
       "previous": "8bf6572a-9e22-11e9-9f4c-02420a010067"
      },
      {
       "current": "23790562-01f0-11ea-a9f8-02420a0100a0",
       "next": "3a4846ea-01ff-11ea-a9f8-02420a0100a0",
       "previous": "8bf6572a-9e22-11e9-9f4c-02420a010067"
      },
      {
       "current": "23790562-01f0-11ea-a9f8-02420a0100a0",
       "next": "8bf65784-9e22-11e9-9f4c-02420a010067",
       "previous": "8bf6572a-9e22-11e9-9f4c-02420a010067"
      },
      {
       "current": "23790562-01f0-11ea-a9f8-02420a0100a0",
       "next": "8bf65784-9e22-11e9-9f4c-02420a010067",
       "previous": "8bf6572a-9e22-11e9-9f4c-02420a010067"
      },
      {
       "current": "23790562-01f0-11ea-a9f8-02420a0100a0",
       "next": "8bf65784-9e22-11e9-9f4c-02420a010067",
       "previous": "8bf6572a-9e22-11e9-9f4c-02420a010067"
      },
      {
       "current": "23790562-01f0-11ea-a9f8-02420a0100a0",
       "next": "4a5e9eda-0420-11ea-a9f8-02420a0100a0",
       "previous": "8bf6572a-9e22-11e9-9f4c-02420a010067"
      },
      {
       "current": "23790562-01f0-11ea-a9f8-02420a0100a0",
       "next": "d5d816ec-0427-11ea-a9f8-02420a0100a0",
       "previous": "8bf6572a-9e22-11e9-9f4c-02420a010067"
      },
      {
       "current": "37a83be6-04f4-11ea-84d4-02420a0100a0",
       "next": "37a83d76-04f4-11ea-84d4-02420a0100a0",
       "previous": "37a83a42-04f4-11ea-84d4-02420a0100a0"
      }
     ],
     "next": "37a83d76-04f4-11ea-84d4-02420a0100a0",
     "previous": "37a838da-04f4-11ea-84d4-02420a0100a0"
    }
   },
   "source": [
    "ヒント：　6が返ってきます。"
   ]
  },
  {
   "cell_type": "markdown",
   "metadata": {
    "lc_cell_meme": {
     "current": "37a83d76-04f4-11ea-84d4-02420a0100a0",
     "history": [
      {
       "current": "d5d816ec-0427-11ea-a9f8-02420a0100a0",
       "next": "d5d81ae8-0427-11ea-a9f8-02420a0100a0",
       "previous": "5d353408-0423-11ea-a9f8-02420a0100a0"
      },
      {
       "current": "d5d816ec-0427-11ea-a9f8-02420a0100a0",
       "next": "d5d81ae8-0427-11ea-a9f8-02420a0100a0",
       "previous": "23790562-01f0-11ea-a9f8-02420a0100a0"
      }
     ],
     "next": "37a83f9c-04f4-11ea-84d4-02420a0100a0",
     "previous": "37a83be6-04f4-11ea-84d4-02420a0100a0"
    }
   },
   "source": [
    "### 値を返す関数3"
   ]
  },
  {
   "cell_type": "markdown",
   "metadata": {
    "lc_cell_meme": {
     "current": "37a83f9c-04f4-11ea-84d4-02420a0100a0",
     "history": [
      {
       "current": "d5d81ae8-0427-11ea-a9f8-02420a0100a0",
       "next": "d5d81c46-0427-11ea-a9f8-02420a0100a0",
       "previous": "d5d816ec-0427-11ea-a9f8-02420a0100a0"
      }
     ],
     "next": "37a840f0-04f4-11ea-84d4-02420a0100a0",
     "previous": "37a83d76-04f4-11ea-84d4-02420a0100a0"
    }
   },
   "source": [
    "演習：　キーボードから入力された文字列を返す関数k_inを定義して評価してください。"
   ]
  },
  {
   "cell_type": "code",
   "execution_count": null,
   "metadata": {
    "lc_cell_meme": {
     "current": "37a840f0-04f4-11ea-84d4-02420a0100a0",
     "history": [
      {
       "current": "d5d81c46-0427-11ea-a9f8-02420a0100a0",
       "next": "d5d81d72-0427-11ea-a9f8-02420a0100a0",
       "previous": "d5d81ae8-0427-11ea-a9f8-02420a0100a0"
      },
      {
       "current": "37a840f0-04f4-11ea-84d4-02420a0100a0",
       "next": "37a8424e-04f4-11ea-84d4-02420a0100a0",
       "previous": "37a83f9c-04f4-11ea-84d4-02420a0100a0"
      }
     ],
     "next": "37a843a2-04f4-11ea-84d4-02420a0100a0",
     "previous": "37a83f9c-04f4-11ea-84d4-02420a0100a0"
    }
   },
   "outputs": [],
   "source": [
    "# 演習用入力欄 （要修正）\n",
    "??? ???():\n",
    "    a = input(\"文字列を入力してください\")\n",
    "    ??? ???"
   ]
  },
  {
   "cell_type": "markdown",
   "metadata": {
    "lc_cell_meme": {
     "current": "37a843a2-04f4-11ea-84d4-02420a0100a0",
     "history": [
      {
       "current": "d5d81e80-0427-11ea-a9f8-02420a0100a0",
       "next": "d5d81f98-0427-11ea-a9f8-02420a0100a0",
       "previous": "d5d81d72-0427-11ea-a9f8-02420a0100a0"
      },
      {
       "current": "37a843a2-04f4-11ea-84d4-02420a0100a0",
       "next": "37a8451e-04f4-11ea-84d4-02420a0100a0",
       "previous": "37a8424e-04f4-11ea-84d4-02420a0100a0"
      }
     ],
     "next": "37a8451e-04f4-11ea-84d4-02420a0100a0",
     "previous": "37a840f0-04f4-11ea-84d4-02420a0100a0"
    }
   },
   "source": [
    "関数k_in()を評価して、正しい値が返ってくることを確認してください。"
   ]
  },
  {
   "cell_type": "code",
   "execution_count": null,
   "metadata": {
    "lc_cell_meme": {
     "current": "37a8451e-04f4-11ea-84d4-02420a0100a0",
     "history": [
      {
       "current": "d5d81f98-0427-11ea-a9f8-02420a0100a0",
       "next": "8bf65784-9e22-11e9-9f4c-02420a010067",
       "previous": "d5d81e80-0427-11ea-a9f8-02420a0100a0"
      },
      {
       "current": "d5d81f98-0427-11ea-a9f8-02420a0100a0",
       "next": "3b640b46-0429-11ea-a9f8-02420a0100a0",
       "previous": "d5d81e80-0427-11ea-a9f8-02420a0100a0"
      },
      {
       "current": "37a8451e-04f4-11ea-84d4-02420a0100a0",
       "next": "37a84672-04f4-11ea-84d4-02420a0100a0",
       "previous": "37a843a2-04f4-11ea-84d4-02420a0100a0"
      }
     ],
     "next": "37a847d0-04f4-11ea-84d4-02420a0100a0",
     "previous": "37a843a2-04f4-11ea-84d4-02420a0100a0"
    },
    "lc_wrapper": {
     "log_history": [
      "/home/10999542xb8011f/07a/.log/20191111/20191111-111714-0739.log"
     ]
    }
   },
   "outputs": [],
   "source": [
    "# 演習用入力欄\n"
   ]
  },
  {
   "cell_type": "markdown",
   "metadata": {
    "lc_cell_meme": {
     "current": "37a847d0-04f4-11ea-84d4-02420a0100a0",
     "history": [
      {
       "current": "ca789892-0429-11ea-a9f8-02420a0100a0",
       "next": "4a5e9eda-0420-11ea-a9f8-02420a0100a0",
       "previous": "3b640b46-0429-11ea-a9f8-02420a0100a0"
      },
      {
       "current": "37a847d0-04f4-11ea-84d4-02420a0100a0",
       "next": "37a8494c-04f4-11ea-84d4-02420a0100a0",
       "previous": "37a84672-04f4-11ea-84d4-02420a0100a0"
      }
     ],
     "next": "37a8494c-04f4-11ea-84d4-02420a0100a0",
     "previous": "37a8451e-04f4-11ea-84d4-02420a0100a0"
    }
   },
   "source": [
    "ヒント：　キーボードから入力した文字列が返ってきます。"
   ]
  },
  {
   "cell_type": "markdown",
   "metadata": {
    "lc_cell_meme": {
     "current": "37a8494c-04f4-11ea-84d4-02420a0100a0",
     "history": [
      {
       "current": "4a5e9eda-0420-11ea-a9f8-02420a0100a0",
       "next": "4a5ea358-0420-11ea-a9f8-02420a0100a0",
       "previous": "23790562-01f0-11ea-a9f8-02420a0100a0"
      },
      {
       "current": "4a5e9eda-0420-11ea-a9f8-02420a0100a0",
       "next": "4a5ea358-0420-11ea-a9f8-02420a0100a0",
       "previous": "ca789892-0429-11ea-a9f8-02420a0100a0"
      }
     ],
     "next": "37a84b22-04f4-11ea-84d4-02420a0100a0",
     "previous": "37a847d0-04f4-11ea-84d4-02420a0100a0"
    }
   },
   "source": [
    "### 値を返す関数4"
   ]
  },
  {
   "cell_type": "markdown",
   "metadata": {
    "lc_cell_meme": {
     "current": "37a84b22-04f4-11ea-84d4-02420a0100a0",
     "history": [
      {
       "current": "4a5ea358-0420-11ea-a9f8-02420a0100a0",
       "next": "4a5ea542-0420-11ea-a9f8-02420a0100a0",
       "previous": "4a5e9eda-0420-11ea-a9f8-02420a0100a0"
      }
     ],
     "next": "37a84cda-04f4-11ea-84d4-02420a0100a0",
     "previous": "37a8494c-04f4-11ea-84d4-02420a0100a0"
    }
   },
   "source": [
    "演習：　引数の数値の二乗を返す関数square()を定義して評価してください。"
   ]
  },
  {
   "cell_type": "code",
   "execution_count": null,
   "metadata": {
    "lc_cell_meme": {
     "current": "37a84cda-04f4-11ea-84d4-02420a0100a0",
     "history": [
      {
       "current": "4a5ea542-0420-11ea-a9f8-02420a0100a0",
       "next": "4a5ea6b4-0420-11ea-a9f8-02420a0100a0",
       "previous": "4a5ea358-0420-11ea-a9f8-02420a0100a0"
      },
      {
       "current": "37a84cda-04f4-11ea-84d4-02420a0100a0",
       "next": "37a84e60-04f4-11ea-84d4-02420a0100a0",
       "previous": "37a84b22-04f4-11ea-84d4-02420a0100a0"
      }
     ],
     "next": "37a8500e-04f4-11ea-84d4-02420a0100a0",
     "previous": "37a84b22-04f4-11ea-84d4-02420a0100a0"
    },
    "lc_wrapper": {
     "log_history": [
      "/home/10999542xb8011f/07a/.log/20191111/20191111-104355-0800.log"
     ]
    }
   },
   "outputs": [],
   "source": [
    "# 演習用入力欄 （要修正）\n"
   ]
  },
  {
   "cell_type": "markdown",
   "metadata": {
    "lc_cell_meme": {
     "current": "37a8500e-04f4-11ea-84d4-02420a0100a0",
     "execution_end_time": "2019-11-11T01:32:50.170530Z",
     "history": [
      {
       "current": "15c7d7ec-0423-11ea-a9f8-02420a0100a0",
       "next": "15c7db70-0423-11ea-a9f8-02420a0100a0",
       "previous": "4a5ea6b4-0420-11ea-a9f8-02420a0100a0"
      },
      {
       "current": "37a8500e-04f4-11ea-84d4-02420a0100a0",
       "next": "37a8519e-04f4-11ea-84d4-02420a0100a0",
       "previous": "37a84e60-04f4-11ea-84d4-02420a0100a0"
      }
     ],
     "next": "37a8519e-04f4-11ea-84d4-02420a0100a0",
     "previous": "37a84cda-04f4-11ea-84d4-02420a0100a0"
    },
    "lc_wrapper": {
     "log_history": [
      "/home/10999542xb8011f/07a/.log/20191111/20191111-103250-0155.log"
     ]
    }
   },
   "source": [
    "引数に5を指定して関数square()を評価し、正しい結果が返されることを確認してください。"
   ]
  },
  {
   "cell_type": "code",
   "execution_count": null,
   "metadata": {
    "lc_cell_meme": {
     "current": "37a8519e-04f4-11ea-84d4-02420a0100a0",
     "history": [
      {
       "current": "15c7db70-0423-11ea-a9f8-02420a0100a0",
       "next": "15c7dcce-0423-11ea-a9f8-02420a0100a0",
       "previous": "15c7d7ec-0423-11ea-a9f8-02420a0100a0"
      },
      {
       "current": "37a8519e-04f4-11ea-84d4-02420a0100a0",
       "next": "37a85356-04f4-11ea-84d4-02420a0100a0",
       "previous": "37a8500e-04f4-11ea-84d4-02420a0100a0"
      }
     ],
     "next": "37a8550e-04f4-11ea-84d4-02420a0100a0",
     "previous": "37a8500e-04f4-11ea-84d4-02420a0100a0"
    },
    "lc_wrapper": {
     "log_history": [
      "/home/10999542xb8011f/07a/.log/20191111/20191111-104352-0815.log",
      "/home/10999542xb8011f/07a/.log/20191111/20191111-104356-0802.log"
     ]
    }
   },
   "outputs": [],
   "source": [
    "# 演習用入力欄\n"
   ]
  },
  {
   "cell_type": "markdown",
   "metadata": {
    "lc_cell_meme": {
     "current": "37a8550e-04f4-11ea-84d4-02420a0100a0",
     "history": [
      {
       "current": "5d353408-0423-11ea-a9f8-02420a0100a0",
       "next": "8bf65784-9e22-11e9-9f4c-02420a010067",
       "previous": "15c7dcce-0423-11ea-a9f8-02420a0100a0"
      },
      {
       "current": "5d353408-0423-11ea-a9f8-02420a0100a0",
       "next": "d5d816ec-0427-11ea-a9f8-02420a0100a0",
       "previous": "15c7dcce-0423-11ea-a9f8-02420a0100a0"
      },
      {
       "current": "5d353408-0423-11ea-a9f8-02420a0100a0",
       "next": "8bf65784-9e22-11e9-9f4c-02420a010067",
       "previous": "15c7dcce-0423-11ea-a9f8-02420a0100a0"
      },
      {
       "current": "37a8550e-04f4-11ea-84d4-02420a0100a0",
       "next": "37a85694-04f4-11ea-84d4-02420a0100a0",
       "previous": "37a85356-04f4-11ea-84d4-02420a0100a0"
      }
     ],
     "next": "37a85694-04f4-11ea-84d4-02420a0100a0",
     "previous": "37a8519e-04f4-11ea-84d4-02420a0100a0"
    }
   },
   "source": [
    "ヒント：　25が返ってきます。"
   ]
  },
  {
   "cell_type": "markdown",
   "metadata": {
    "lc_cell_meme": {
     "current": "37a85694-04f4-11ea-84d4-02420a0100a0",
     "history": [
      {
       "current": "8bf65784-9e22-11e9-9f4c-02420a010067",
       "next": "8bf657e8-9e22-11e9-9f4c-02420a010067",
       "previous": "8bf6572a-9e22-11e9-9f4c-02420a010067"
      },
      {
       "current": "8bf65784-9e22-11e9-9f4c-02420a010067",
       "next": "8bf657e8-9e22-11e9-9f4c-02420a010067",
       "previous": "23790562-01f0-11ea-a9f8-02420a0100a0"
      },
      {
       "current": "8bf65784-9e22-11e9-9f4c-02420a010067",
       "next": "8bf657e8-9e22-11e9-9f4c-02420a010067",
       "previous": "493fe102-01f6-11ea-a9f8-02420a0100a0"
      },
      {
       "current": "8bf65784-9e22-11e9-9f4c-02420a010067",
       "next": "8bf657e8-9e22-11e9-9f4c-02420a010067",
       "previous": "90c2f4c4-01f6-11ea-a9f8-02420a0100a0"
      },
      {
       "current": "8bf65784-9e22-11e9-9f4c-02420a010067",
       "next": "8bf657e8-9e22-11e9-9f4c-02420a010067",
       "previous": "149cdb50-01f9-11ea-a9f8-02420a0100a0"
      },
      {
       "current": "8bf65784-9e22-11e9-9f4c-02420a010067",
       "next": "8bf657e8-9e22-11e9-9f4c-02420a010067",
       "previous": "eb2a36a4-01f9-11ea-a9f8-02420a0100a0"
      },
      {
       "current": "8bf65784-9e22-11e9-9f4c-02420a010067",
       "next": "8bf657e8-9e22-11e9-9f4c-02420a010067",
       "previous": "32b95040-01fa-11ea-a9f8-02420a0100a0"
      },
      {
       "current": "8bf65784-9e22-11e9-9f4c-02420a010067",
       "next": "8bf657e8-9e22-11e9-9f4c-02420a010067",
       "previous": "7a4e537e-01fa-11ea-a9f8-02420a0100a0"
      },
      {
       "current": "8bf65784-9e22-11e9-9f4c-02420a010067",
       "next": "8bf657e8-9e22-11e9-9f4c-02420a010067",
       "previous": "3a4846ea-01ff-11ea-a9f8-02420a0100a0"
      },
      {
       "current": "8bf65784-9e22-11e9-9f4c-02420a010067",
       "next": "8bf657e8-9e22-11e9-9f4c-02420a010067",
       "previous": "5a181e0a-01ff-11ea-a9f8-02420a0100a0"
      },
      {
       "current": "8bf65784-9e22-11e9-9f4c-02420a010067",
       "next": "8bf657e8-9e22-11e9-9f4c-02420a010067",
       "previous": "23790562-01f0-11ea-a9f8-02420a0100a0"
      },
      {
       "current": "8bf65784-9e22-11e9-9f4c-02420a010067",
       "next": "8bf657e8-9e22-11e9-9f4c-02420a010067",
       "previous": "23790562-01f0-11ea-a9f8-02420a0100a0"
      },
      {
       "current": "8bf65784-9e22-11e9-9f4c-02420a010067",
       "next": "8bf657e8-9e22-11e9-9f4c-02420a010067",
       "previous": "23790562-01f0-11ea-a9f8-02420a0100a0"
      },
      {
       "current": "8bf65784-9e22-11e9-9f4c-02420a010067",
       "next": "8bf657e8-9e22-11e9-9f4c-02420a010067",
       "previous": "4a5ea6b4-0420-11ea-a9f8-02420a0100a0"
      },
      {
       "current": "8bf65784-9e22-11e9-9f4c-02420a010067",
       "next": "8bf657e8-9e22-11e9-9f4c-02420a010067",
       "previous": "15c7dcce-0423-11ea-a9f8-02420a0100a0"
      },
      {
       "current": "8bf65784-9e22-11e9-9f4c-02420a010067",
       "next": "8bf657e8-9e22-11e9-9f4c-02420a010067",
       "previous": "5d353408-0423-11ea-a9f8-02420a0100a0"
      },
      {
       "current": "8bf65784-9e22-11e9-9f4c-02420a010067",
       "next": "8bf657e8-9e22-11e9-9f4c-02420a010067",
       "previous": "d5d81f98-0427-11ea-a9f8-02420a0100a0"
      },
      {
       "current": "8bf65784-9e22-11e9-9f4c-02420a010067",
       "next": "8bf657e8-9e22-11e9-9f4c-02420a010067",
       "previous": "3b640b46-0429-11ea-a9f8-02420a0100a0"
      },
      {
       "current": "8bf65784-9e22-11e9-9f4c-02420a010067",
       "next": "8bf657e8-9e22-11e9-9f4c-02420a010067",
       "previous": "5d353408-0423-11ea-a9f8-02420a0100a0"
      }
     ],
     "next": "37a8581a-04f4-11ea-84d4-02420a0100a0",
     "previous": "37a8550e-04f4-11ea-84d4-02420a0100a0"
    }
   },
   "source": [
    "### 値を返さない関数1\n",
    "値を返さない関数を定義することもできます。\n",
    "\n",
    "引数の前後に説明をつけて表示する関数myprint()は次のようになります。この関数はprint()を利用して文字列等を表示していますが、関数終了時は値を返しません。"
   ]
  },
  {
   "cell_type": "code",
   "execution_count": null,
   "metadata": {
    "lc_cell_meme": {
     "current": "37a8581a-04f4-11ea-84d4-02420a0100a0",
     "history": [
      {
       "current": "8bf657e8-9e22-11e9-9f4c-02420a010067",
       "next": "8bf65842-9e22-11e9-9f4c-02420a010067",
       "previous": "8bf65784-9e22-11e9-9f4c-02420a010067"
      },
      {
       "current": "8bf657e8-9e22-11e9-9f4c-02420a010067",
       "next": "8bf65842-9e22-11e9-9f4c-02420a010067",
       "previous": "8bf65784-9e22-11e9-9f4c-02420a010067"
      },
      {
       "current": "8bf657e8-9e22-11e9-9f4c-02420a010067",
       "next": "8bf65842-9e22-11e9-9f4c-02420a010067",
       "previous": "8bf65784-9e22-11e9-9f4c-02420a010067"
      },
      {
       "current": "8bf657e8-9e22-11e9-9f4c-02420a010067",
       "next": "8bf65842-9e22-11e9-9f4c-02420a010067",
       "previous": "8bf65784-9e22-11e9-9f4c-02420a010067"
      },
      {
       "current": "8bf657e8-9e22-11e9-9f4c-02420a010067",
       "next": "8bf65842-9e22-11e9-9f4c-02420a010067",
       "previous": "8bf65784-9e22-11e9-9f4c-02420a010067"
      },
      {
       "current": "8bf657e8-9e22-11e9-9f4c-02420a010067",
       "next": "0e5908d2-fc3f-11e9-a9f8-02420a0100a0",
       "previous": "8bf65784-9e22-11e9-9f4c-02420a010067"
      },
      {
       "current": "37a8581a-04f4-11ea-84d4-02420a0100a0",
       "next": "37a85ae0-04f4-11ea-84d4-02420a0100a0",
       "previous": "37a85694-04f4-11ea-84d4-02420a0100a0"
      }
     ],
     "next": "37a85c70-04f4-11ea-84d4-02420a0100a0",
     "previous": "37a85694-04f4-11ea-84d4-02420a0100a0"
    },
    "lc_wrapper": {
     "log_history": [
      "/home/10999542xb8011f/07a/.log/20191025/20191025-145043-0158.log",
      "/home/10999542xb8011f/07a/.log/20191101/20191101-090809-0085.log",
      "/home/10999542xb8011f/07a/.log/20191101/20191101-095321-0823.log",
      "/home/10999542xb8011f/07a/.log/20191106/20191106-173923-0709.log"
     ]
    }
   },
   "outputs": [],
   "source": [
    "# このセルを評価すること\n",
    "def myprint(x):\n",
    "    print(\"点数は\", x, \"です\")"
   ]
  },
  {
   "cell_type": "markdown",
   "metadata": {
    "lc_cell_meme": {
     "current": "37a85c70-04f4-11ea-84d4-02420a0100a0",
     "history": [
      {
       "current": "c1cc88ba-01fa-11ea-a9f8-02420a0100a0",
       "next": "213b9e80-fc42-11e9-a9f8-02420a0100a0",
       "previous": "0e5908d2-fc3f-11e9-a9f8-02420a0100a0"
      },
      {
       "current": "c1cc88ba-01fa-11ea-a9f8-02420a0100a0",
       "next": "4e405c12-042c-11ea-a9f8-02420a0100a0",
       "previous": "0e5908d2-fc3f-11e9-a9f8-02420a0100a0"
      },
      {
       "current": "c1cc88ba-01fa-11ea-a9f8-02420a0100a0",
       "next": "213b9e80-fc42-11e9-a9f8-02420a0100a0",
       "previous": "0e5908d2-fc3f-11e9-a9f8-02420a0100a0"
      },
      {
       "current": "37a85c70-04f4-11ea-84d4-02420a0100a0",
       "next": "37a85dd8-04f4-11ea-84d4-02420a0100a0",
       "previous": "37a85ae0-04f4-11ea-84d4-02420a0100a0"
      }
     ],
     "next": "37a85dd8-04f4-11ea-84d4-02420a0100a0",
     "previous": "37a8581a-04f4-11ea-84d4-02420a0100a0"
    }
   },
   "source": [
    "### 値を返さない関数2"
   ]
  },
  {
   "cell_type": "markdown",
   "metadata": {
    "lc_cell_meme": {
     "current": "37a85dd8-04f4-11ea-84d4-02420a0100a0",
     "execution_end_time": "2019-11-06T09:57:20.496355Z",
     "history": [
      {
       "current": "213b9e80-fc42-11e9-a9f8-02420a0100a0",
       "next": "8bf65842-9e22-11e9-9f4c-02420a010067",
       "previous": "0e5908d2-fc3f-11e9-a9f8-02420a0100a0"
      },
      {
       "current": "213b9e80-fc42-11e9-a9f8-02420a0100a0",
       "next": "8bf65842-9e22-11e9-9f4c-02420a010067",
       "previous": "c1cc88ba-01fa-11ea-a9f8-02420a0100a0"
      },
      {
       "current": "213b9e80-fc42-11e9-a9f8-02420a0100a0",
       "next": "8bf65842-9e22-11e9-9f4c-02420a010067",
       "previous": "4e405c12-042c-11ea-a9f8-02420a0100a0"
      },
      {
       "current": "213b9e80-fc42-11e9-a9f8-02420a0100a0",
       "next": "8bf65842-9e22-11e9-9f4c-02420a010067",
       "previous": "c1cc88ba-01fa-11ea-a9f8-02420a0100a0"
      }
     ],
     "next": "37a85f72-04f4-11ea-84d4-02420a0100a0",
     "previous": "37a85c70-04f4-11ea-84d4-02420a0100a0"
    },
    "lc_wrapper": {
     "log_history": [
      "/home/10999542xb8011f/07a/.log/20191106/20191106-185720-0474.log"
     ]
    }
   },
   "source": [
    "演習：　上記の関数myprint()で点数が100点の場合に「満点です」と表示する関数に修正してください。"
   ]
  },
  {
   "cell_type": "code",
   "execution_count": null,
   "metadata": {
    "lc_cell_meme": {
     "current": "37a85f72-04f4-11ea-84d4-02420a0100a0",
     "history": [
      {
       "current": "8bf65842-9e22-11e9-9f4c-02420a010067",
       "next": "8bf658a6-9e22-11e9-9f4c-02420a010067",
       "previous": "8bf657e8-9e22-11e9-9f4c-02420a010067"
      },
      {
       "current": "8bf65842-9e22-11e9-9f4c-02420a010067",
       "next": "8bf658a6-9e22-11e9-9f4c-02420a010067",
       "previous": "8bf657e8-9e22-11e9-9f4c-02420a010067"
      },
      {
       "current": "8bf65842-9e22-11e9-9f4c-02420a010067",
       "next": "8bf658a6-9e22-11e9-9f4c-02420a010067",
       "previous": "8bf657e8-9e22-11e9-9f4c-02420a010067"
      },
      {
       "current": "8bf65842-9e22-11e9-9f4c-02420a010067",
       "next": "8bf658a6-9e22-11e9-9f4c-02420a010067",
       "previous": "8bf657e8-9e22-11e9-9f4c-02420a010067"
      },
      {
       "current": "8bf65842-9e22-11e9-9f4c-02420a010067",
       "next": "8bf658a6-9e22-11e9-9f4c-02420a010067",
       "previous": "8bf657e8-9e22-11e9-9f4c-02420a010067"
      },
      {
       "current": "8bf65842-9e22-11e9-9f4c-02420a010067",
       "next": "0e590d82-fc3f-11e9-a9f8-02420a0100a0",
       "previous": "0e5908d2-fc3f-11e9-a9f8-02420a0100a0"
      },
      {
       "current": "8bf65842-9e22-11e9-9f4c-02420a010067",
       "next": "0e590d82-fc3f-11e9-a9f8-02420a0100a0",
       "previous": "213b9e80-fc42-11e9-a9f8-02420a0100a0"
      },
      {
       "current": "8bf65842-9e22-11e9-9f4c-02420a010067",
       "next": "fa53fbce-0203-11ea-a9f8-02420a0100a0",
       "previous": "213b9e80-fc42-11e9-a9f8-02420a0100a0"
      },
      {
       "current": "37a85f72-04f4-11ea-84d4-02420a0100a0",
       "next": "37a86102-04f4-11ea-84d4-02420a0100a0",
       "previous": "37a85dd8-04f4-11ea-84d4-02420a0100a0"
      }
     ],
     "next": "37a86288-04f4-11ea-84d4-02420a0100a0",
     "previous": "37a85dd8-04f4-11ea-84d4-02420a0100a0"
    },
    "lc_wrapper": {
     "log_history": [
      "/home/10999542xb8011f/07a/.log/20191025/20191025-145044-0808.log",
      "/home/10999542xb8011f/07a/.log/20191101/20191101-090913-0439.log",
      "/home/10999542xb8011f/07a/.log/20191101/20191101-095323-0692.log",
      "/home/10999542xb8011f/07a/.log/20191108/20191108-174404-0755.log"
     ]
    }
   },
   "outputs": [],
   "source": [
    "# 演習用入力欄 （要修正）\n",
    "??? ???(x):\n",
    "    print(\"点数は\", x, \"です\")\n",
    "    if x ??? ???:\n",
    "        print(\"満点です\")"
   ]
  },
  {
   "cell_type": "markdown",
   "metadata": {
    "lc_cell_meme": {
     "current": "37a86288-04f4-11ea-84d4-02420a0100a0",
     "history": [
      {
       "current": "896946ca-0204-11ea-a9f8-02420a0100a0",
       "next": "0e590d82-fc3f-11e9-a9f8-02420a0100a0",
       "previous": "fa53fbce-0203-11ea-a9f8-02420a0100a0"
      },
      {
       "current": "37a86288-04f4-11ea-84d4-02420a0100a0",
       "next": "37a86418-04f4-11ea-84d4-02420a0100a0",
       "previous": "37a86102-04f4-11ea-84d4-02420a0100a0"
      }
     ],
     "next": "37a86418-04f4-11ea-84d4-02420a0100a0",
     "previous": "37a85f72-04f4-11ea-84d4-02420a0100a0"
    }
   },
   "source": [
    "引数として95を指定して関数myprint()を評価して「点数は 95 です」と表示することを確認してください。"
   ]
  },
  {
   "cell_type": "code",
   "execution_count": null,
   "metadata": {
    "lc_cell_meme": {
     "current": "37a86418-04f4-11ea-84d4-02420a0100a0",
     "history": [
      {
       "current": "0e590d82-fc3f-11e9-a9f8-02420a0100a0",
       "next": "8bf658a6-9e22-11e9-9f4c-02420a010067",
       "previous": "8bf65842-9e22-11e9-9f4c-02420a010067"
      },
      {
       "current": "0e590d82-fc3f-11e9-a9f8-02420a0100a0",
       "next": "213ba150-fc42-11e9-a9f8-02420a0100a0",
       "previous": "8bf65842-9e22-11e9-9f4c-02420a010067"
      },
      {
       "current": "0e590d82-fc3f-11e9-a9f8-02420a0100a0",
       "next": "213ba150-fc42-11e9-a9f8-02420a0100a0",
       "previous": "fa53fbce-0203-11ea-a9f8-02420a0100a0"
      },
      {
       "current": "0e590d82-fc3f-11e9-a9f8-02420a0100a0",
       "next": "213ba150-fc42-11e9-a9f8-02420a0100a0",
       "previous": "896946ca-0204-11ea-a9f8-02420a0100a0"
      },
      {
       "current": "0e590d82-fc3f-11e9-a9f8-02420a0100a0",
       "next": "d0ed30f6-0204-11ea-a9f8-02420a0100a0",
       "previous": "896946ca-0204-11ea-a9f8-02420a0100a0"
      },
      {
       "current": "0e590d82-fc3f-11e9-a9f8-02420a0100a0",
       "next": "497d1ba4-0209-11ea-a9f8-02420a0100a0",
       "previous": "896946ca-0204-11ea-a9f8-02420a0100a0"
      },
      {
       "current": "0e590d82-fc3f-11e9-a9f8-02420a0100a0",
       "next": "d0ed30f6-0204-11ea-a9f8-02420a0100a0",
       "previous": "896946ca-0204-11ea-a9f8-02420a0100a0"
      },
      {
       "current": "37a86418-04f4-11ea-84d4-02420a0100a0",
       "next": "37a86580-04f4-11ea-84d4-02420a0100a0",
       "previous": "37a86288-04f4-11ea-84d4-02420a0100a0"
      }
     ],
     "next": "37a867ba-04f4-11ea-84d4-02420a0100a0",
     "previous": "37a86288-04f4-11ea-84d4-02420a0100a0"
    },
    "lc_wrapper": {
     "log_history": [
      "/home/10999542xb8011f/07a/.log/20191101/20191101-090914-0105.log",
      "/home/10999542xb8011f/07a/.log/20191101/20191101-095324-0513.log",
      "/home/10999542xb8011f/07a/.log/20191108/20191108-174340-0858.log",
      "/home/10999542xb8011f/07a/.log/20191108/20191108-174401-0285.log",
      "/home/10999542xb8011f/07a/.log/20191108/20191108-174546-0763.log",
      "/home/10999542xb8011f/07a/.log/20191108/20191108-174635-0478.log",
      "/home/10999542xb8011f/07a/.log/20191108/20191108-174642-0033.log"
     ]
    }
   },
   "outputs": [],
   "source": [
    "# 演習用入力欄 （要修正）\n",
    "???(??)"
   ]
  },
  {
   "cell_type": "markdown",
   "metadata": {
    "lc_cell_meme": {
     "current": "37a867ba-04f4-11ea-84d4-02420a0100a0",
     "execution_end_time": "2019-11-01T00:55:28.307923Z",
     "history": [
      {
       "current": "213ba150-fc42-11e9-a9f8-02420a0100a0",
       "next": "8bf658a6-9e22-11e9-9f4c-02420a010067",
       "previous": "0e590d82-fc3f-11e9-a9f8-02420a0100a0"
      },
      {
       "current": "213ba150-fc42-11e9-a9f8-02420a0100a0",
       "next": "493fe102-01f6-11ea-a9f8-02420a0100a0",
       "previous": "0e590d82-fc3f-11e9-a9f8-02420a0100a0"
      },
      {
       "current": "213ba150-fc42-11e9-a9f8-02420a0100a0",
       "next": "493fe102-01f6-11ea-a9f8-02420a0100a0",
       "previous": "d0ed30f6-0204-11ea-a9f8-02420a0100a0"
      },
      {
       "current": "37a867ba-04f4-11ea-84d4-02420a0100a0",
       "next": "37a86904-04f4-11ea-84d4-02420a0100a0",
       "previous": "37a86580-04f4-11ea-84d4-02420a0100a0"
      }
     ],
     "next": "37a86904-04f4-11ea-84d4-02420a0100a0",
     "previous": "37a86418-04f4-11ea-84d4-02420a0100a0"
    },
    "lc_wrapper": {
     "log_history": [
      "/home/10999542xb8011f/07a/.log/20191101/20191101-095528-0293.log"
     ]
    }
   },
   "source": [
    "ヒント：　100点以外の場合にはprint()で点数の表示だけが行われます。"
   ]
  },
  {
   "cell_type": "markdown",
   "metadata": {
    "lc_cell_meme": {
     "current": "37a86904-04f4-11ea-84d4-02420a0100a0",
     "history": [
      {
       "current": "493fe102-01f6-11ea-a9f8-02420a0100a0",
       "next": "8bf65784-9e22-11e9-9f4c-02420a010067",
       "previous": "23790562-01f0-11ea-a9f8-02420a0100a0"
      },
      {
       "current": "493fe102-01f6-11ea-a9f8-02420a0100a0",
       "next": "90c2f4c4-01f6-11ea-a9f8-02420a0100a0",
       "previous": "23790562-01f0-11ea-a9f8-02420a0100a0"
      },
      {
       "current": "493fe102-01f6-11ea-a9f8-02420a0100a0",
       "next": "90c2f4c4-01f6-11ea-a9f8-02420a0100a0",
       "previous": "213ba150-fc42-11e9-a9f8-02420a0100a0"
      }
     ],
     "next": "37a86a62-04f4-11ea-84d4-02420a0100a0",
     "previous": "37a867ba-04f4-11ea-84d4-02420a0100a0"
    }
   },
   "source": [
    "### 値を返さない関数3"
   ]
  },
  {
   "cell_type": "markdown",
   "metadata": {
    "lc_cell_meme": {
     "current": "37a86a62-04f4-11ea-84d4-02420a0100a0",
     "history": [
      {
       "current": "90c2f4c4-01f6-11ea-a9f8-02420a0100a0",
       "next": "8bf65784-9e22-11e9-9f4c-02420a010067",
       "previous": "493fe102-01f6-11ea-a9f8-02420a0100a0"
      },
      {
       "current": "90c2f4c4-01f6-11ea-a9f8-02420a0100a0",
       "next": "149cdb50-01f9-11ea-a9f8-02420a0100a0",
       "previous": "493fe102-01f6-11ea-a9f8-02420a0100a0"
      }
     ],
     "next": "37a86be8-04f4-11ea-84d4-02420a0100a0",
     "previous": "37a86904-04f4-11ea-84d4-02420a0100a0"
    }
   },
   "source": [
    "演習：　1からnまでの総和を返す関数sum()定義してください。"
   ]
  },
  {
   "cell_type": "code",
   "execution_count": null,
   "metadata": {
    "lc_cell_meme": {
     "current": "37a86be8-04f4-11ea-84d4-02420a0100a0",
     "history": [
      {
       "current": "149cdb50-01f9-11ea-a9f8-02420a0100a0",
       "next": "8bf65784-9e22-11e9-9f4c-02420a010067",
       "previous": "90c2f4c4-01f6-11ea-a9f8-02420a0100a0"
      },
      {
       "current": "149cdb50-01f9-11ea-a9f8-02420a0100a0",
       "next": "eb2a36a4-01f9-11ea-a9f8-02420a0100a0",
       "previous": "90c2f4c4-01f6-11ea-a9f8-02420a0100a0"
      },
      {
       "current": "37a86be8-04f4-11ea-84d4-02420a0100a0",
       "next": "37a86d46-04f4-11ea-84d4-02420a0100a0",
       "previous": "37a86a62-04f4-11ea-84d4-02420a0100a0"
      }
     ],
     "next": "37a86e9a-04f4-11ea-84d4-02420a0100a0",
     "previous": "37a86a62-04f4-11ea-84d4-02420a0100a0"
    }
   },
   "outputs": [],
   "source": [
    "# 演習用入力欄 （要修正）\n",
    "def ???(n):\n",
    "    a = 0\n",
    "    for i in range(???,???):\n",
    "        a = a + ???\n",
    "    print(???)"
   ]
  },
  {
   "cell_type": "markdown",
   "metadata": {
    "lc_cell_meme": {
     "current": "37a86e9a-04f4-11ea-84d4-02420a0100a0",
     "history": [
      {
       "current": "32b95040-01fa-11ea-a9f8-02420a0100a0",
       "next": "8bf65784-9e22-11e9-9f4c-02420a010067",
       "previous": "eb2a36a4-01f9-11ea-a9f8-02420a0100a0"
      },
      {
       "current": "32b95040-01fa-11ea-a9f8-02420a0100a0",
       "next": "7a4e5072-01fa-11ea-a9f8-02420a0100a0",
       "previous": "eb2a36a4-01f9-11ea-a9f8-02420a0100a0"
      },
      {
       "current": "37a86e9a-04f4-11ea-84d4-02420a0100a0",
       "next": "37a87016-04f4-11ea-84d4-02420a0100a0",
       "previous": "37a86d46-04f4-11ea-84d4-02420a0100a0"
      }
     ],
     "next": "37a87016-04f4-11ea-84d4-02420a0100a0",
     "previous": "37a86be8-04f4-11ea-84d4-02420a0100a0"
    }
   },
   "source": [
    "引数に10を指定して関数sum()を評価し、正しい結果（55）と表示することを確認してください。"
   ]
  },
  {
   "cell_type": "code",
   "execution_count": null,
   "metadata": {
    "lc_cell_meme": {
     "current": "37a87016-04f4-11ea-84d4-02420a0100a0",
     "history": [
      {
       "current": "7a4e5072-01fa-11ea-a9f8-02420a0100a0",
       "next": "7a4e537e-01fa-11ea-a9f8-02420a0100a0",
       "previous": "32b95040-01fa-11ea-a9f8-02420a0100a0"
      },
      {
       "current": "37a87016-04f4-11ea-84d4-02420a0100a0",
       "next": "37a8716a-04f4-11ea-84d4-02420a0100a0",
       "previous": "37a86e9a-04f4-11ea-84d4-02420a0100a0"
      }
     ],
     "next": "37a8734a-04f4-11ea-84d4-02420a0100a0",
     "previous": "37a86e9a-04f4-11ea-84d4-02420a0100a0"
    }
   },
   "outputs": [],
   "source": [
    "# 演習用入力欄\n"
   ]
  },
  {
   "cell_type": "markdown",
   "metadata": {
    "lc_cell_meme": {
     "current": "37a8734a-04f4-11ea-84d4-02420a0100a0",
     "history": [
      {
       "current": "449b3a98-037c-11ea-a9f8-02420a0100a0",
       "next": "8bf658a6-9e22-11e9-9f4c-02420a010067",
       "previous": "7a4e537e-01fa-11ea-a9f8-02420a0100a0"
      },
      {
       "current": "37a8734a-04f4-11ea-84d4-02420a0100a0",
       "next": "37a87502-04f4-11ea-84d4-02420a0100a0",
       "previous": "37a8716a-04f4-11ea-84d4-02420a0100a0"
      }
     ],
     "next": "37a87502-04f4-11ea-84d4-02420a0100a0",
     "previous": "37a87016-04f4-11ea-84d4-02420a0100a0"
    }
   },
   "source": [
    "ヒント：　\"55\"が返されます。"
   ]
  },
  {
   "cell_type": "markdown",
   "metadata": {
    "lc_cell_meme": {
     "current": "37a87502-04f4-11ea-84d4-02420a0100a0",
     "history": [
      {
       "current": "8bf658a6-9e22-11e9-9f4c-02420a010067",
       "next": "8bf6590a-9e22-11e9-9f4c-02420a010067",
       "previous": "8bf65842-9e22-11e9-9f4c-02420a010067"
      },
      {
       "current": "8bf658a6-9e22-11e9-9f4c-02420a010067",
       "next": "8bf6590a-9e22-11e9-9f4c-02420a010067",
       "previous": "8bf65842-9e22-11e9-9f4c-02420a010067"
      },
      {
       "current": "8bf658a6-9e22-11e9-9f4c-02420a010067",
       "next": "8bf6590a-9e22-11e9-9f4c-02420a010067",
       "previous": "8bf65842-9e22-11e9-9f4c-02420a010067"
      },
      {
       "current": "8bf658a6-9e22-11e9-9f4c-02420a010067",
       "next": "8bf6590a-9e22-11e9-9f4c-02420a010067",
       "previous": "8bf65842-9e22-11e9-9f4c-02420a010067"
      },
      {
       "current": "8bf658a6-9e22-11e9-9f4c-02420a010067",
       "next": "8bf6590a-9e22-11e9-9f4c-02420a010067",
       "previous": "0e590d82-fc3f-11e9-a9f8-02420a0100a0"
      },
      {
       "current": "8bf658a6-9e22-11e9-9f4c-02420a010067",
       "next": "8bf6590a-9e22-11e9-9f4c-02420a010067",
       "previous": "213ba150-fc42-11e9-a9f8-02420a0100a0"
      },
      {
       "current": "8bf658a6-9e22-11e9-9f4c-02420a010067",
       "next": "8bf6590a-9e22-11e9-9f4c-02420a010067",
       "previous": "7a4e537e-01fa-11ea-a9f8-02420a0100a0"
      },
      {
       "current": "8bf658a6-9e22-11e9-9f4c-02420a010067",
       "next": "8bf6590a-9e22-11e9-9f4c-02420a010067",
       "previous": "449b3a98-037c-11ea-a9f8-02420a0100a0"
      }
     ],
     "next": "37a8767e-04f4-11ea-84d4-02420a0100a0",
     "previous": "37a8734a-04f4-11ea-84d4-02420a0100a0"
    }
   },
   "source": [
    "### 引数が複数の関数1"
   ]
  },
  {
   "cell_type": "markdown",
   "metadata": {
    "lc_cell_meme": {
     "current": "37a8767e-04f4-11ea-84d4-02420a0100a0",
     "history": [
      {
       "current": "8bf6590a-9e22-11e9-9f4c-02420a010067",
       "next": "8bf65964-9e22-11e9-9f4c-02420a010067",
       "previous": "8bf658a6-9e22-11e9-9f4c-02420a010067"
      },
      {
       "current": "8bf6590a-9e22-11e9-9f4c-02420a010067",
       "next": "f7c9265c-fc42-11e9-a9f8-02420a0100a0",
       "previous": "8bf658a6-9e22-11e9-9f4c-02420a010067"
      }
     ],
     "next": "37a877fa-04f4-11ea-84d4-02420a0100a0",
     "previous": "37a87502-04f4-11ea-84d4-02420a0100a0"
    }
   },
   "source": [
    "引数が2つ以上ある関数では、カンマ(，)区切りで引数を指定します。\n",
    "\n",
    "演習：　入力された二つの数字x、yを比較して大きな数字を返す関数max()を定義し、評価してください。"
   ]
  },
  {
   "cell_type": "code",
   "execution_count": null,
   "metadata": {
    "lc_cell_meme": {
     "current": "37a877fa-04f4-11ea-84d4-02420a0100a0",
     "history": [
      {
       "current": "f7c9265c-fc42-11e9-a9f8-02420a0100a0",
       "next": "8bf65964-9e22-11e9-9f4c-02420a010067",
       "previous": "8bf6590a-9e22-11e9-9f4c-02420a010067"
      },
      {
       "current": "37a877fa-04f4-11ea-84d4-02420a0100a0",
       "next": "37a8794e-04f4-11ea-84d4-02420a0100a0",
       "previous": "37a8767e-04f4-11ea-84d4-02420a0100a0"
      }
     ],
     "next": "37a87aa2-04f4-11ea-84d4-02420a0100a0",
     "previous": "37a8767e-04f4-11ea-84d4-02420a0100a0"
    }
   },
   "outputs": [],
   "source": [
    "# 演習用入力欄 （要修正）\n",
    "def max(x, y):\n",
    "    if (? > ?):\n",
    "        return ?\n",
    "    else:\n",
    "        return ?"
   ]
  },
  {
   "cell_type": "markdown",
   "metadata": {
    "lc_cell_meme": {
     "current": "37a87aa2-04f4-11ea-84d4-02420a0100a0",
     "history": [
      {
       "current": "8bf659c8-9e22-11e9-9f4c-02420a010067",
       "next": "8bf65a22-9e22-11e9-9f4c-02420a010067",
       "previous": "8bf65964-9e22-11e9-9f4c-02420a010067"
      },
      {
       "current": "8bf659c8-9e22-11e9-9f4c-02420a010067",
       "next": "3f502ec6-fc43-11e9-a9f8-02420a0100a0",
       "previous": "8bf65964-9e22-11e9-9f4c-02420a010067"
      },
      {
       "current": "37a87aa2-04f4-11ea-84d4-02420a0100a0",
       "next": "37a87c28-04f4-11ea-84d4-02420a0100a0",
       "previous": "37a8794e-04f4-11ea-84d4-02420a0100a0"
      }
     ],
     "next": "37a87c28-04f4-11ea-84d4-02420a0100a0",
     "previous": "37a877fa-04f4-11ea-84d4-02420a0100a0"
    }
   },
   "source": [
    "引数に50と75を指定して、関数max()を評価してください。"
   ]
  },
  {
   "cell_type": "code",
   "execution_count": null,
   "metadata": {
    "lc_cell_meme": {
     "current": "37a87c28-04f4-11ea-84d4-02420a0100a0",
     "history": [
      {
       "current": "3f502ec6-fc43-11e9-a9f8-02420a0100a0",
       "next": "8bf65a22-9e22-11e9-9f4c-02420a010067",
       "previous": "8bf659c8-9e22-11e9-9f4c-02420a010067"
      },
      {
       "current": "37a87c28-04f4-11ea-84d4-02420a0100a0",
       "next": "37a87da4-04f4-11ea-84d4-02420a0100a0",
       "previous": "37a87aa2-04f4-11ea-84d4-02420a0100a0"
      }
     ],
     "next": "37a87f16-04f4-11ea-84d4-02420a0100a0",
     "previous": "37a87aa2-04f4-11ea-84d4-02420a0100a0"
    }
   },
   "outputs": [],
   "source": [
    "# 演習用入力欄\n"
   ]
  },
  {
   "cell_type": "markdown",
   "metadata": {
    "lc_cell_meme": {
     "current": "37a87f16-04f4-11ea-84d4-02420a0100a0",
     "history": [
      {
       "current": "8bf65a7c-9e22-11e9-9f4c-02420a010067",
       "next": "8bf65ae0-9e22-11e9-9f4c-02420a010067",
       "previous": "8bf65a22-9e22-11e9-9f4c-02420a010067"
      },
      {
       "current": "37a87f16-04f4-11ea-84d4-02420a0100a0",
       "next": "37a8806a-04f4-11ea-84d4-02420a0100a0",
       "previous": "37a87da4-04f4-11ea-84d4-02420a0100a0"
      }
     ],
     "next": "37a8806a-04f4-11ea-84d4-02420a0100a0",
     "previous": "37a87c28-04f4-11ea-84d4-02420a0100a0"
    }
   },
   "source": [
    "ヒント：　75が返されます。"
   ]
  },
  {
   "cell_type": "markdown",
   "metadata": {
    "lc_cell_meme": {
     "current": "37a8806a-04f4-11ea-84d4-02420a0100a0",
     "history": [
      {
       "current": "8bf65ae0-9e22-11e9-9f4c-02420a010067",
       "next": "8bf65b3a-9e22-11e9-9f4c-02420a010067",
       "previous": "8bf65a7c-9e22-11e9-9f4c-02420a010067"
      },
      {
       "current": "8bf65ae0-9e22-11e9-9f4c-02420a010067",
       "next": "86d57d1e-fc43-11e9-a9f8-02420a0100a0",
       "previous": "8bf65a7c-9e22-11e9-9f4c-02420a010067"
      }
     ],
     "next": "37a88268-04f4-11ea-84d4-02420a0100a0",
     "previous": "37a87f16-04f4-11ea-84d4-02420a0100a0"
    }
   },
   "source": [
    "同様に、引数に-23と-39.8を指定して、関数max()を評価してください。"
   ]
  },
  {
   "cell_type": "code",
   "execution_count": null,
   "metadata": {
    "lc_cell_meme": {
     "current": "37a88268-04f4-11ea-84d4-02420a0100a0",
     "history": [
      {
       "current": "86d57d1e-fc43-11e9-a9f8-02420a0100a0",
       "next": "8bf65b3a-9e22-11e9-9f4c-02420a010067",
       "previous": "8bf65ae0-9e22-11e9-9f4c-02420a010067"
      },
      {
       "current": "37a88268-04f4-11ea-84d4-02420a0100a0",
       "next": "37a883d0-04f4-11ea-84d4-02420a0100a0",
       "previous": "37a8806a-04f4-11ea-84d4-02420a0100a0"
      }
     ],
     "next": "37a88556-04f4-11ea-84d4-02420a0100a0",
     "previous": "37a8806a-04f4-11ea-84d4-02420a0100a0"
    }
   },
   "outputs": [],
   "source": [
    "# 演習用入力欄\n"
   ]
  },
  {
   "cell_type": "markdown",
   "metadata": {
    "lc_cell_meme": {
     "current": "37a88556-04f4-11ea-84d4-02420a0100a0",
     "history": [
      {
       "current": "8bf65b94-9e22-11e9-9f4c-02420a010067",
       "next": "8bf65bf8-9e22-11e9-9f4c-02420a010067",
       "previous": "8bf65b3a-9e22-11e9-9f4c-02420a010067"
      },
      {
       "current": "8bf65b94-9e22-11e9-9f4c-02420a010067",
       "next": "cc6907d8-fc43-11e9-a9f8-02420a0100a0",
       "previous": "8bf65b3a-9e22-11e9-9f4c-02420a010067"
      },
      {
       "current": "37a88556-04f4-11ea-84d4-02420a0100a0",
       "next": "37a886aa-04f4-11ea-84d4-02420a0100a0",
       "previous": "37a883d0-04f4-11ea-84d4-02420a0100a0"
      }
     ],
     "next": "37a886aa-04f4-11ea-84d4-02420a0100a0",
     "previous": "37a88268-04f4-11ea-84d4-02420a0100a0"
    }
   },
   "source": [
    "ヒント：　-23が返されます。"
   ]
  },
  {
   "cell_type": "markdown",
   "metadata": {
    "lc_cell_meme": {
     "current": "37a886aa-04f4-11ea-84d4-02420a0100a0",
     "history": [
      {
       "current": "cc6907d8-fc43-11e9-a9f8-02420a0100a0",
       "next": "cc690a62-fc43-11e9-a9f8-02420a0100a0",
       "previous": "8bf65b94-9e22-11e9-9f4c-02420a010067"
      }
     ],
     "next": "37a88808-04f4-11ea-84d4-02420a0100a0",
     "previous": "37a88556-04f4-11ea-84d4-02420a0100a0"
    }
   },
   "source": [
    "### 引数が複数の関数2"
   ]
  },
  {
   "cell_type": "markdown",
   "metadata": {
    "lc_cell_meme": {
     "current": "37a88808-04f4-11ea-84d4-02420a0100a0",
     "history": [
      {
       "current": "cc690a62-fc43-11e9-a9f8-02420a0100a0",
       "next": "8bf65bf8-9e22-11e9-9f4c-02420a010067",
       "previous": "cc6907d8-fc43-11e9-a9f8-02420a0100a0"
      },
      {
       "current": "cc690a62-fc43-11e9-a9f8-02420a0100a0",
       "next": "15ec4aaa-fc44-11e9-a9f8-02420a0100a0",
       "previous": "cc6907d8-fc43-11e9-a9f8-02420a0100a0"
      }
     ],
     "next": "37a8895c-04f4-11ea-84d4-02420a0100a0",
     "previous": "37a886aa-04f4-11ea-84d4-02420a0100a0"
    }
   },
   "source": [
    "演習：　入力された二つの数字x、yを比較して小さい数字を返す関数min()を定義し、評価してください。"
   ]
  },
  {
   "cell_type": "code",
   "execution_count": null,
   "metadata": {
    "lc_cell_meme": {
     "current": "37a8895c-04f4-11ea-84d4-02420a0100a0",
     "history": [
      {
       "current": "15ec4aaa-fc44-11e9-a9f8-02420a0100a0",
       "next": "15ec4cee-fc44-11e9-a9f8-02420a0100a0",
       "previous": "cc690a62-fc43-11e9-a9f8-02420a0100a0"
      },
      {
       "current": "37a8895c-04f4-11ea-84d4-02420a0100a0",
       "next": "37a88ae2-04f4-11ea-84d4-02420a0100a0",
       "previous": "37a88808-04f4-11ea-84d4-02420a0100a0"
      }
     ],
     "next": "37a88c36-04f4-11ea-84d4-02420a0100a0",
     "previous": "37a88808-04f4-11ea-84d4-02420a0100a0"
    }
   },
   "outputs": [],
   "source": [
    "# 演習用入力欄\n"
   ]
  },
  {
   "cell_type": "markdown",
   "metadata": {
    "lc_cell_meme": {
     "current": "37a88c36-04f4-11ea-84d4-02420a0100a0",
     "history": [
      {
       "current": "15ec4e38-fc44-11e9-a9f8-02420a0100a0",
       "next": "8bf65bf8-9e22-11e9-9f4c-02420a010067",
       "previous": "15ec4cee-fc44-11e9-a9f8-02420a0100a0"
      },
      {
       "current": "15ec4e38-fc44-11e9-a9f8-02420a0100a0",
       "next": "5d76abcc-fc44-11e9-a9f8-02420a0100a0",
       "previous": "15ec4cee-fc44-11e9-a9f8-02420a0100a0"
      },
      {
       "current": "15ec4e38-fc44-11e9-a9f8-02420a0100a0",
       "next": "5d76abcc-fc44-11e9-a9f8-02420a0100a0",
       "previous": "b4f5cac2-0054-11ea-a9f8-02420a0100a0"
      },
      {
       "current": "15ec4e38-fc44-11e9-a9f8-02420a0100a0",
       "next": "82285cd4-007e-11ea-a9f8-02420a0100a0",
       "previous": "15ec4cee-fc44-11e9-a9f8-02420a0100a0"
      },
      {
       "current": "37a88c36-04f4-11ea-84d4-02420a0100a0",
       "next": "37a88dc6-04f4-11ea-84d4-02420a0100a0",
       "previous": "37a88ae2-04f4-11ea-84d4-02420a0100a0"
      }
     ],
     "next": "37a88dc6-04f4-11ea-84d4-02420a0100a0",
     "previous": "37a8895c-04f4-11ea-84d4-02420a0100a0"
    }
   },
   "source": [
    "引数に26と53を指定して、関数min()を評価してください。"
   ]
  },
  {
   "cell_type": "code",
   "execution_count": null,
   "metadata": {
    "lc_cell_meme": {
     "current": "37a88dc6-04f4-11ea-84d4-02420a0100a0",
     "history": [
      {
       "current": "82285cd4-007e-11ea-a9f8-02420a0100a0",
       "next": "82285fcc-007e-11ea-a9f8-02420a0100a0",
       "previous": "15ec4e38-fc44-11e9-a9f8-02420a0100a0"
      },
      {
       "current": "37a88dc6-04f4-11ea-84d4-02420a0100a0",
       "next": "37a88f42-04f4-11ea-84d4-02420a0100a0",
       "previous": "37a88c36-04f4-11ea-84d4-02420a0100a0"
      }
     ],
     "next": "37a890a0-04f4-11ea-84d4-02420a0100a0",
     "previous": "37a88c36-04f4-11ea-84d4-02420a0100a0"
    },
    "lc_wrapper": {
     "log_history": [
      "/home/10999542xb8011f/07a/.log/20191111/20191111-183643-0391.log"
     ]
    }
   },
   "outputs": [],
   "source": [
    "# 演習用入力欄\n"
   ]
  },
  {
   "cell_type": "markdown",
   "metadata": {
    "lc_cell_meme": {
     "current": "37a890a0-04f4-11ea-84d4-02420a0100a0",
     "history": [
      {
       "current": "82286134-007e-11ea-a9f8-02420a0100a0",
       "next": "5d76abcc-fc44-11e9-a9f8-02420a0100a0",
       "previous": "82285fcc-007e-11ea-a9f8-02420a0100a0"
      },
      {
       "current": "37a890a0-04f4-11ea-84d4-02420a0100a0",
       "next": "37a89226-04f4-11ea-84d4-02420a0100a0",
       "previous": "37a88f42-04f4-11ea-84d4-02420a0100a0"
      }
     ],
     "next": "37a89226-04f4-11ea-84d4-02420a0100a0",
     "previous": "37a88dc6-04f4-11ea-84d4-02420a0100a0"
    }
   },
   "source": [
    "ヒント：　小さい数字の26が返されます。"
   ]
  },
  {
   "cell_type": "markdown",
   "metadata": {
    "lc_cell_meme": {
     "current": "37a89226-04f4-11ea-84d4-02420a0100a0",
     "history": [
      {
       "current": "5d76abcc-fc44-11e9-a9f8-02420a0100a0",
       "next": "8bf65bf8-9e22-11e9-9f4c-02420a010067",
       "previous": "15ec4e38-fc44-11e9-a9f8-02420a0100a0"
      },
      {
       "current": "5d76abcc-fc44-11e9-a9f8-02420a0100a0",
       "next": "8bf65bf8-9e22-11e9-9f4c-02420a010067",
       "previous": "82286134-007e-11ea-a9f8-02420a0100a0"
      }
     ],
     "next": "37a8937a-04f4-11ea-84d4-02420a0100a0",
     "previous": "37a890a0-04f4-11ea-84d4-02420a0100a0"
    }
   },
   "source": [
    "### 引数が複数の関数3"
   ]
  },
  {
   "cell_type": "markdown",
   "metadata": {
    "lc_cell_meme": {
     "current": "37a8937a-04f4-11ea-84d4-02420a0100a0",
     "history": [
      {
       "current": "8bf65bf8-9e22-11e9-9f4c-02420a010067",
       "next": "8bf65c5c-9e22-11e9-9f4c-02420a010067",
       "previous": "8bf65b94-9e22-11e9-9f4c-02420a010067"
      },
      {
       "current": "8bf65bf8-9e22-11e9-9f4c-02420a010067",
       "next": "8bf65c5c-9e22-11e9-9f4c-02420a010067",
       "previous": "cc690a62-fc43-11e9-a9f8-02420a0100a0"
      },
      {
       "current": "8bf65bf8-9e22-11e9-9f4c-02420a010067",
       "next": "8bf65c5c-9e22-11e9-9f4c-02420a010067",
       "previous": "15ec4e38-fc44-11e9-a9f8-02420a0100a0"
      },
      {
       "current": "8bf65bf8-9e22-11e9-9f4c-02420a010067",
       "next": "8bf65c5c-9e22-11e9-9f4c-02420a010067",
       "previous": "5d76abcc-fc44-11e9-a9f8-02420a0100a0"
      },
      {
       "current": "8bf65bf8-9e22-11e9-9f4c-02420a010067",
       "next": "ec807c80-fc44-11e9-a9f8-02420a0100a0",
       "previous": "5d76abcc-fc44-11e9-a9f8-02420a0100a0"
      }
     ],
     "next": "37a89500-04f4-11ea-84d4-02420a0100a0",
     "previous": "37a89226-04f4-11ea-84d4-02420a0100a0"
    }
   },
   "source": [
    "演習：　三科目の得点を3つの引数a、b、cとし、その平均点を返す関数ave()を定義し、評価してください。"
   ]
  },
  {
   "cell_type": "code",
   "execution_count": null,
   "metadata": {
    "lc_cell_meme": {
     "current": "37a89500-04f4-11ea-84d4-02420a0100a0",
     "history": [
      {
       "current": "ec807c80-fc44-11e9-a9f8-02420a0100a0",
       "next": "8bf65c5c-9e22-11e9-9f4c-02420a010067",
       "previous": "8bf65bf8-9e22-11e9-9f4c-02420a010067"
      },
      {
       "current": "37a89500-04f4-11ea-84d4-02420a0100a0",
       "next": "37a89686-04f4-11ea-84d4-02420a0100a0",
       "previous": "37a8937a-04f4-11ea-84d4-02420a0100a0"
      }
     ],
     "next": "37a897da-04f4-11ea-84d4-02420a0100a0",
     "previous": "37a8937a-04f4-11ea-84d4-02420a0100a0"
    }
   },
   "outputs": [],
   "source": [
    "# 演習用入力欄\n"
   ]
  },
  {
   "cell_type": "markdown",
   "metadata": {
    "lc_cell_meme": {
     "current": "37a897da-04f4-11ea-84d4-02420a0100a0",
     "history": [
      {
       "current": "abb35b72-007d-11ea-a9f8-02420a0100a0",
       "next": "8bf65cb6-9e22-11e9-9f4c-02420a010067",
       "previous": "8bf65c5c-9e22-11e9-9f4c-02420a010067"
      },
      {
       "current": "abb35b72-007d-11ea-a9f8-02420a0100a0",
       "next": "f3ab786a-007d-11ea-a9f8-02420a0100a0",
       "previous": "8bf65c5c-9e22-11e9-9f4c-02420a010067"
      },
      {
       "current": "37a897da-04f4-11ea-84d4-02420a0100a0",
       "next": "37a89992-04f4-11ea-84d4-02420a0100a0",
       "previous": "37a89686-04f4-11ea-84d4-02420a0100a0"
      }
     ],
     "next": "37a89992-04f4-11ea-84d4-02420a0100a0",
     "previous": "37a89500-04f4-11ea-84d4-02420a0100a0"
    }
   },
   "source": [
    "作成した関数ave()を評価してください。"
   ]
  },
  {
   "cell_type": "code",
   "execution_count": null,
   "metadata": {
    "lc_cell_meme": {
     "current": "37a89992-04f4-11ea-84d4-02420a0100a0",
     "history": [
      {
       "current": "f3ab786a-007d-11ea-a9f8-02420a0100a0",
       "next": "8bf65d10-9e22-11e9-9f4c-02420a010067",
       "previous": "abb35b72-007d-11ea-a9f8-02420a0100a0"
      },
      {
       "current": "37a89992-04f4-11ea-84d4-02420a0100a0",
       "next": "37a89b22-04f4-11ea-84d4-02420a0100a0",
       "previous": "37a897da-04f4-11ea-84d4-02420a0100a0"
      }
     ],
     "next": "37a89cb2-04f4-11ea-84d4-02420a0100a0",
     "previous": "37a897da-04f4-11ea-84d4-02420a0100a0"
    },
    "lc_wrapper": {
     "log_history": [
      "/home/10999542xb8011f/07a/.log/20191110/20191110-162212-0228.log"
     ]
    }
   },
   "outputs": [],
   "source": [
    "# 演習用入力欄\n"
   ]
  },
  {
   "cell_type": "markdown",
   "metadata": {
    "lc_cell_meme": {
     "current": "37a89cb2-04f4-11ea-84d4-02420a0100a0",
     "history": [
      {
       "current": "8bf65df6-9e22-11e9-9f4c-02420a010067",
       "next": "8bf65f72-9e22-11e9-9f4c-02420a010067",
       "previous": "8bf65d10-9e22-11e9-9f4c-02420a010067"
      },
      {
       "current": "8bf65df6-9e22-11e9-9f4c-02420a010067",
       "next": "58c6b812-007f-11ea-a9f8-02420a0100a0",
       "previous": "8bf65d10-9e22-11e9-9f4c-02420a010067"
      },
      {
       "current": "8bf65df6-9e22-11e9-9f4c-02420a010067",
       "next": "58c6b812-007f-11ea-a9f8-02420a0100a0",
       "previous": "8bf65d10-9e22-11e9-9f4c-02420a010067"
      },
      {
       "current": "8bf65df6-9e22-11e9-9f4c-02420a010067",
       "next": "33ccb630-0424-11ea-a9f8-02420a0100a0",
       "previous": "8bf65d10-9e22-11e9-9f4c-02420a010067"
      },
      {
       "current": "37a89cb2-04f4-11ea-84d4-02420a0100a0",
       "next": "37a89e2e-04f4-11ea-84d4-02420a0100a0",
       "previous": "37a89b22-04f4-11ea-84d4-02420a0100a0"
      }
     ],
     "next": "37a89e2e-04f4-11ea-84d4-02420a0100a0",
     "previous": "37a89992-04f4-11ea-84d4-02420a0100a0"
    }
   },
   "source": [
    "ヒント：三科目の平均点が正しいことを確認してください。"
   ]
  },
  {
   "cell_type": "markdown",
   "metadata": {
    "lc_cell_meme": {
     "current": "37a89e2e-04f4-11ea-84d4-02420a0100a0",
     "history": [
      {
       "current": "33ccb630-0424-11ea-a9f8-02420a0100a0",
       "next": "33ccba86-0424-11ea-a9f8-02420a0100a0",
       "previous": "8bf65df6-9e22-11e9-9f4c-02420a010067"
      }
     ],
     "next": "37a89fbe-04f4-11ea-84d4-02420a0100a0",
     "previous": "37a89cb2-04f4-11ea-84d4-02420a0100a0"
    }
   },
   "source": [
    "### 引数が複数の関数4"
   ]
  },
  {
   "cell_type": "markdown",
   "metadata": {
    "lc_cell_meme": {
     "current": "37a89fbe-04f4-11ea-84d4-02420a0100a0",
     "execution_end_time": "2019-11-11T05:17:27.556935Z",
     "history": [
      {
       "current": "33ccba86-0424-11ea-a9f8-02420a0100a0",
       "next": "33ccbbee-0424-11ea-a9f8-02420a0100a0",
       "previous": "33ccb630-0424-11ea-a9f8-02420a0100a0"
      }
     ],
     "next": "37a8a112-04f4-11ea-84d4-02420a0100a0",
     "previous": "37a89e2e-04f4-11ea-84d4-02420a0100a0"
    },
    "lc_wrapper": {
     "log_history": [
      "/home/10999542xb8011f/07a/.log/20191111/20191111-141727-0533.log"
     ]
    }
   },
   "source": [
    "演習：　2つの引数x、yのどちらかが正の数なら、xのy乗の値を返す関数mypower()を定義して評価してください。mathモジュールを利用します。"
   ]
  },
  {
   "cell_type": "code",
   "execution_count": null,
   "metadata": {
    "lc_cell_meme": {
     "current": "37a8a112-04f4-11ea-84d4-02420a0100a0",
     "history": [
      {
       "current": "33ccbbee-0424-11ea-a9f8-02420a0100a0",
       "next": "33ccbd10-0424-11ea-a9f8-02420a0100a0",
       "previous": "33ccba86-0424-11ea-a9f8-02420a0100a0"
      },
      {
       "current": "37a8a112-04f4-11ea-84d4-02420a0100a0",
       "next": "37a8a2ca-04f4-11ea-84d4-02420a0100a0",
       "previous": "37a89fbe-04f4-11ea-84d4-02420a0100a0"
      }
     ],
     "next": "37a8a464-04f4-11ea-84d4-02420a0100a0",
     "previous": "37a89fbe-04f4-11ea-84d4-02420a0100a0"
    },
    "lc_wrapper": {
     "log_history": [
      "/home/10999542xb8011f/07a/.log/20191111/20191111-141727-0808.log"
     ]
    }
   },
   "outputs": [],
   "source": [
    "# 演習用入力欄\n"
   ]
  },
  {
   "cell_type": "markdown",
   "metadata": {
    "lc_cell_meme": {
     "current": "37a8a464-04f4-11ea-84d4-02420a0100a0",
     "history": [
      {
       "current": "997bc07e-0425-11ea-a9f8-02420a0100a0",
       "next": "33ccbe28-0424-11ea-a9f8-02420a0100a0",
       "previous": "33ccbd10-0424-11ea-a9f8-02420a0100a0"
      },
      {
       "current": "37a8a464-04f4-11ea-84d4-02420a0100a0",
       "next": "37a8a5f4-04f4-11ea-84d4-02420a0100a0",
       "previous": "37a8a2ca-04f4-11ea-84d4-02420a0100a0"
      }
     ],
     "next": "37a8a5f4-04f4-11ea-84d4-02420a0100a0",
     "previous": "37a8a112-04f4-11ea-84d4-02420a0100a0"
    }
   },
   "source": [
    "引数に3と4および-3と-4を指定して、関数mypower()を評価してください。"
   ]
  },
  {
   "cell_type": "code",
   "execution_count": null,
   "metadata": {
    "lc_cell_meme": {
     "current": "37a8a5f4-04f4-11ea-84d4-02420a0100a0",
     "history": [
      {
       "current": "33ccbe28-0424-11ea-a9f8-02420a0100a0",
       "next": "33ccbf40-0424-11ea-a9f8-02420a0100a0",
       "previous": "33ccbd10-0424-11ea-a9f8-02420a0100a0"
      },
      {
       "current": "33ccbe28-0424-11ea-a9f8-02420a0100a0",
       "next": "33ccbf40-0424-11ea-a9f8-02420a0100a0",
       "previous": "997bc07e-0425-11ea-a9f8-02420a0100a0"
      },
      {
       "current": "37a8a5f4-04f4-11ea-84d4-02420a0100a0",
       "next": "37a8a748-04f4-11ea-84d4-02420a0100a0",
       "previous": "37a8a464-04f4-11ea-84d4-02420a0100a0"
      }
     ],
     "next": "37a8a9fa-04f4-11ea-84d4-02420a0100a0",
     "previous": "37a8a464-04f4-11ea-84d4-02420a0100a0"
    },
    "lc_wrapper": {
     "log_history": [
      "/home/10999542xb8011f/07a/.log/20191111/20191111-104822-0369.log"
     ]
    }
   },
   "outputs": [],
   "source": [
    "# 演習用入力欄\n"
   ]
  },
  {
   "cell_type": "markdown",
   "metadata": {
    "lc_cell_meme": {
     "current": "37a8a9fa-04f4-11ea-84d4-02420a0100a0",
     "execution_end_time": "2019-11-11T01:50:07.789507Z",
     "history": [
      {
       "current": "997bc376-0425-11ea-a9f8-02420a0100a0",
       "next": "58c6b812-007f-11ea-a9f8-02420a0100a0",
       "previous": "33ccbf40-0424-11ea-a9f8-02420a0100a0"
      },
      {
       "current": "37a8a9fa-04f4-11ea-84d4-02420a0100a0",
       "next": "37a8ab62-04f4-11ea-84d4-02420a0100a0",
       "previous": "37a8a748-04f4-11ea-84d4-02420a0100a0"
      }
     ],
     "next": "37a8ab62-04f4-11ea-84d4-02420a0100a0",
     "previous": "37a8a5f4-04f4-11ea-84d4-02420a0100a0"
    },
    "lc_wrapper": {
     "log_history": [
      "/home/10999542xb8011f/07a/.log/20191111/20191111-105007-0771.log"
     ]
    }
   },
   "source": [
    "ヒント：　引数が3と4の場合は81が返ってきます。"
   ]
  },
  {
   "cell_type": "markdown",
   "metadata": {
    "lc_cell_meme": {
     "current": "37a8ab62-04f4-11ea-84d4-02420a0100a0",
     "history": [
      {
       "current": "58c6b812-007f-11ea-a9f8-02420a0100a0",
       "next": "58c6bc90-007f-11ea-a9f8-02420a0100a0",
       "previous": "8bf65df6-9e22-11e9-9f4c-02420a010067"
      },
      {
       "current": "58c6b812-007f-11ea-a9f8-02420a0100a0",
       "next": "58c6bc90-007f-11ea-a9f8-02420a0100a0",
       "previous": "8bf65df6-9e22-11e9-9f4c-02420a010067"
      },
      {
       "current": "58c6b812-007f-11ea-a9f8-02420a0100a0",
       "next": "58c6bc90-007f-11ea-a9f8-02420a0100a0",
       "previous": "33ccbf40-0424-11ea-a9f8-02420a0100a0"
      },
      {
       "current": "58c6b812-007f-11ea-a9f8-02420a0100a0",
       "next": "58c6bc90-007f-11ea-a9f8-02420a0100a0",
       "previous": "997bc376-0425-11ea-a9f8-02420a0100a0"
      }
     ],
     "next": "37a8acca-04f4-11ea-84d4-02420a0100a0",
     "previous": "37a8a9fa-04f4-11ea-84d4-02420a0100a0"
    }
   },
   "source": [
    "### ローカル変数とグローバル変数（ローカル変数への代入あり）"
   ]
  },
  {
   "cell_type": "markdown",
   "metadata": {
    "lc_cell_meme": {
     "current": "37a8acca-04f4-11ea-84d4-02420a0100a0",
     "history": [
      {
       "current": "58c6bc90-007f-11ea-a9f8-02420a0100a0",
       "next": "8bf65f72-9e22-11e9-9f4c-02420a010067",
       "previous": "58c6b812-007f-11ea-a9f8-02420a0100a0"
      },
      {
       "current": "58c6bc90-007f-11ea-a9f8-02420a0100a0",
       "next": "e7c112ce-007f-11ea-a9f8-02420a0100a0",
       "previous": "58c6b812-007f-11ea-a9f8-02420a0100a0"
      }
     ],
     "next": "37a8ae8c-04f4-11ea-84d4-02420a0100a0",
     "previous": "37a8ab62-04f4-11ea-84d4-02420a0100a0"
    }
   },
   "source": [
    "ローカル変数は、関数の中で定義されている変数で、関数の中のみで利用可能です。<br>\n",
    "グローバル変数は、ローカル変数以外のこれまで利用してきた変数であり、notebook内のどこでも有効な変数です。"
   ]
  },
  {
   "cell_type": "markdown",
   "metadata": {
    "lc_cell_meme": {
     "current": "37a8ae8c-04f4-11ea-84d4-02420a0100a0",
     "history": [
      {
       "current": "e7c112ce-007f-11ea-a9f8-02420a0100a0",
       "next": "8bf65f72-9e22-11e9-9f4c-02420a010067",
       "previous": "58c6bc90-007f-11ea-a9f8-02420a0100a0"
      },
      {
       "current": "e7c112ce-007f-11ea-a9f8-02420a0100a0",
       "next": "be5a64b6-0080-11ea-a9f8-02420a0100a0",
       "previous": "58c6bc90-007f-11ea-a9f8-02420a0100a0"
      }
     ],
     "next": "37a8aff4-04f4-11ea-84d4-02420a0100a0",
     "previous": "37a8acca-04f4-11ea-84d4-02420a0100a0"
    }
   },
   "source": [
    "以下の例では、グローバル変数xとローカル変数xは別の変数として扱われます。プログラム内のコメントを全て読みながら、各セルを評価してみてください。"
   ]
  },
  {
   "cell_type": "code",
   "execution_count": null,
   "metadata": {
    "lc_cell_meme": {
     "current": "37a8aff4-04f4-11ea-84d4-02420a0100a0",
     "history": [
      {
       "current": "be5a64b6-0080-11ea-a9f8-02420a0100a0",
       "next": "be5a6826-0080-11ea-a9f8-02420a0100a0",
       "previous": "e7c112ce-007f-11ea-a9f8-02420a0100a0"
      }
     ],
     "next": "37a8b152-04f4-11ea-84d4-02420a0100a0",
     "previous": "37a8ae8c-04f4-11ea-84d4-02420a0100a0"
    },
    "lc_wrapper": {
     "log_history": [
      "/home/10999542xb8011f/07a/.log/20191106/20191106-194715-0262.log",
      "/home/10999542xb8011f/07a/.log/20191108/20191108-164608-0125.log",
      "/home/10999542xb8011f/07a/.log/20191110/20191110-144115-0454.log",
      "/home/10999542xb8011f/07a/.log/20191111/20191111-180130-0060.log"
     ]
    }
   },
   "outputs": [],
   "source": [
    "# このセルを評価すること\n",
    "x = 100  # グローバル変数xへの代入\n",
    "def setX(a):    # 関数setX() を定義\n",
    "    x = a  # 変数xはローカル変数で上のxとは別の変数\n",
    "    print(x)"
   ]
  },
  {
   "cell_type": "markdown",
   "metadata": {
    "lc_cell_meme": {
     "current": "37a8b152-04f4-11ea-84d4-02420a0100a0",
     "history": [
      {
       "current": "be5a6826-0080-11ea-a9f8-02420a0100a0",
       "next": "8bf65f72-9e22-11e9-9f4c-02420a010067",
       "previous": "be5a64b6-0080-11ea-a9f8-02420a0100a0"
      },
      {
       "current": "be5a6826-0080-11ea-a9f8-02420a0100a0",
       "next": "6b94cad0-0082-11ea-a9f8-02420a0100a0",
       "previous": "be5a64b6-0080-11ea-a9f8-02420a0100a0"
      },
      {
       "current": "be5a6826-0080-11ea-a9f8-02420a0100a0",
       "next": "f4750324-0082-11ea-a9f8-02420a0100a0",
       "previous": "be5a64b6-0080-11ea-a9f8-02420a0100a0"
      }
     ],
     "next": "37a8b2e2-04f4-11ea-84d4-02420a0100a0",
     "previous": "37a8aff4-04f4-11ea-84d4-02420a0100a0"
    }
   },
   "source": [
    "次のセルを評価し関数setX()を評価して、引数の数値がローカル変数xに代入されていることを確認してください。"
   ]
  },
  {
   "cell_type": "code",
   "execution_count": null,
   "metadata": {
    "lc_cell_meme": {
     "current": "37a8b2e2-04f4-11ea-84d4-02420a0100a0",
     "history": [
      {
       "current": "f4750324-0082-11ea-a9f8-02420a0100a0",
       "next": "f4750752-0082-11ea-a9f8-02420a0100a0",
       "previous": "be5a6826-0080-11ea-a9f8-02420a0100a0"
      },
      {
       "current": "f4750324-0082-11ea-a9f8-02420a0100a0",
       "next": "b673cf58-01fc-11ea-a9f8-02420a0100a0",
       "previous": "be5a6826-0080-11ea-a9f8-02420a0100a0"
      }
     ],
     "next": "37a8b4e0-04f4-11ea-84d4-02420a0100a0",
     "previous": "37a8b152-04f4-11ea-84d4-02420a0100a0"
    },
    "lc_wrapper": {
     "log_history": [
      "/home/10999542xb8011f/07a/.log/20191106/20191106-194712-0364.log",
      "/home/10999542xb8011f/07a/.log/20191106/20191106-194716-0330.log",
      "/home/10999542xb8011f/07a/.log/20191108/20191108-164557-0260.log",
      "/home/10999542xb8011f/07a/.log/20191108/20191108-164609-0264.log",
      "/home/10999542xb8011f/07a/.log/20191110/20191110-144116-0725.log",
      "/home/10999542xb8011f/07a/.log/20191111/20191111-180126-0949.log",
      "/home/10999542xb8011f/07a/.log/20191111/20191111-180130-0803.log"
     ]
    }
   },
   "outputs": [],
   "source": [
    "# このセルを評価すること\n",
    "setX(5)  # 関数setX()を評価"
   ]
  },
  {
   "cell_type": "markdown",
   "metadata": {
    "lc_cell_meme": {
     "current": "37a8b4e0-04f4-11ea-84d4-02420a0100a0",
     "execution_end_time": "2019-11-08T07:52:47.929389Z",
     "history": [
      {
       "current": "b673cf58-01fc-11ea-a9f8-02420a0100a0",
       "next": "f4750752-0082-11ea-a9f8-02420a0100a0",
       "previous": "f4750324-0082-11ea-a9f8-02420a0100a0"
      }
     ],
     "next": "37a8b666-04f4-11ea-84d4-02420a0100a0",
     "previous": "37a8b2e2-04f4-11ea-84d4-02420a0100a0"
    },
    "lc_wrapper": {
     "log_history": [
      "/home/10999542xb8011f/07a/.log/20191108/20191108-165247-0894.log"
     ]
    }
   },
   "source": [
    "最後に次のセルを評価し、グローバル変数xには”100”が代入されていることを確認してください。"
   ]
  },
  {
   "cell_type": "code",
   "execution_count": null,
   "metadata": {
    "lc_cell_meme": {
     "current": "37a8b666-04f4-11ea-84d4-02420a0100a0",
     "history": [
      {
       "current": "f4750752-0082-11ea-a9f8-02420a0100a0",
       "next": "6b94cad0-0082-11ea-a9f8-02420a0100a0",
       "previous": "f4750324-0082-11ea-a9f8-02420a0100a0"
      },
      {
       "current": "f4750752-0082-11ea-a9f8-02420a0100a0",
       "next": "6b94cad0-0082-11ea-a9f8-02420a0100a0",
       "previous": "b673cf58-01fc-11ea-a9f8-02420a0100a0"
      },
      {
       "current": "f4750752-0082-11ea-a9f8-02420a0100a0",
       "next": "fdfd73f6-01fc-11ea-a9f8-02420a0100a0",
       "previous": "b673cf58-01fc-11ea-a9f8-02420a0100a0"
      }
     ],
     "next": "37a8b7ba-04f4-11ea-84d4-02420a0100a0",
     "previous": "37a8b4e0-04f4-11ea-84d4-02420a0100a0"
    },
    "lc_wrapper": {
     "log_history": [
      "/home/10999542xb8011f/07a/.log/20191106/20191106-194730-0677.log",
      "/home/10999542xb8011f/07a/.log/20191110/20191110-144105-0660.log",
      "/home/10999542xb8011f/07a/.log/20191110/20191110-144109-0124.log",
      "/home/10999542xb8011f/07a/.log/20191110/20191110-144112-0002.log",
      "/home/10999542xb8011f/07a/.log/20191110/20191110-144117-0749.log",
      "/home/10999542xb8011f/07a/.log/20191111/20191111-180140-0876.log"
     ]
    }
   },
   "outputs": [],
   "source": [
    "# このセルを評価すること\n",
    "x  # グローバル変数を参照"
   ]
  },
  {
   "cell_type": "markdown",
   "metadata": {
    "lc_cell_meme": {
     "current": "37a8b7ba-04f4-11ea-84d4-02420a0100a0",
     "history": [
      {
       "current": "fdfd73f6-01fc-11ea-a9f8-02420a0100a0",
       "next": "6b94cad0-0082-11ea-a9f8-02420a0100a0",
       "previous": "f4750752-0082-11ea-a9f8-02420a0100a0"
      },
      {
       "current": "fdfd73f6-01fc-11ea-a9f8-02420a0100a0",
       "next": "62bfa71a-037d-11ea-a9f8-02420a0100a0",
       "previous": "f4750752-0082-11ea-a9f8-02420a0100a0"
      }
     ],
     "next": "37a8b918-04f4-11ea-84d4-02420a0100a0",
     "previous": "37a8b666-04f4-11ea-84d4-02420a0100a0"
    }
   },
   "source": [
    "以上のようにローカル変数とグローバル変数に同じ変数名を使用した場合は、どちらが参照されているか注意が必要です。<br>\n",
    "誤りを起こさないためにも、同じ変数名の使用は推奨しません。"
   ]
  },
  {
   "cell_type": "markdown",
   "metadata": {
    "lc_cell_meme": {
     "current": "37a8b918-04f4-11ea-84d4-02420a0100a0",
     "history": [
      {
       "current": "62bfa71a-037d-11ea-a9f8-02420a0100a0",
       "next": "6b94cad0-0082-11ea-a9f8-02420a0100a0",
       "previous": "fdfd73f6-01fc-11ea-a9f8-02420a0100a0"
      },
      {
       "current": "62bfa71a-037d-11ea-a9f8-02420a0100a0",
       "next": "aa41381a-037d-11ea-a9f8-02420a0100a0",
       "previous": "fdfd73f6-01fc-11ea-a9f8-02420a0100a0"
      }
     ],
     "next": "37a8ba76-04f4-11ea-84d4-02420a0100a0",
     "previous": "37a8b7ba-04f4-11ea-84d4-02420a0100a0"
    }
   },
   "source": [
    "### ローカル変数とグローバル変数（ローカル変数への代入なし）"
   ]
  },
  {
   "cell_type": "markdown",
   "metadata": {
    "lc_cell_meme": {
     "current": "37a8ba76-04f4-11ea-84d4-02420a0100a0",
     "history": [
      {
       "current": "aa41381a-037d-11ea-a9f8-02420a0100a0",
       "next": "6b94cad0-0082-11ea-a9f8-02420a0100a0",
       "previous": "62bfa71a-037d-11ea-a9f8-02420a0100a0"
      },
      {
       "current": "aa41381a-037d-11ea-a9f8-02420a0100a0",
       "next": "9f00dce2-037f-11ea-a9f8-02420a0100a0",
       "previous": "62bfa71a-037d-11ea-a9f8-02420a0100a0"
      }
     ],
     "next": "37a8bbd4-04f4-11ea-84d4-02420a0100a0",
     "previous": "37a8b918-04f4-11ea-84d4-02420a0100a0"
    }
   },
   "source": [
    "上の例では、グローバル変数xへの代入と関数setX()内でローカル変数xへの代入が行われていました。<br>\n",
    "次の例のようにグローバル変数xへの代入だけ（ローカル変数xへの代入が無い）場合は、関数printX()内の変数xはグローバル変数xが参照されます。"
   ]
  },
  {
   "cell_type": "markdown",
   "metadata": {
    "lc_cell_meme": {
     "current": "37a8bbd4-04f4-11ea-84d4-02420a0100a0",
     "history": [
      {
       "current": "9f00dce2-037f-11ea-a9f8-02420a0100a0",
       "next": "9f00e052-037f-11ea-a9f8-02420a0100a0",
       "previous": "aa41381a-037d-11ea-a9f8-02420a0100a0"
      }
     ],
     "next": "37a8bd32-04f4-11ea-84d4-02420a0100a0",
     "previous": "37a8ba76-04f4-11ea-84d4-02420a0100a0"
    }
   },
   "source": [
    "プログラム内のコメントを全て読みながら、セルを評価して演習を進めてください。"
   ]
  },
  {
   "cell_type": "code",
   "execution_count": null,
   "metadata": {
    "lc_cell_meme": {
     "current": "37a8bd32-04f4-11ea-84d4-02420a0100a0",
     "history": [
      {
       "current": "9f00e052-037f-11ea-a9f8-02420a0100a0",
       "next": "9f00e1ba-037f-11ea-a9f8-02420a0100a0",
       "previous": "9f00dce2-037f-11ea-a9f8-02420a0100a0"
      }
     ],
     "next": "37a8bec2-04f4-11ea-84d4-02420a0100a0",
     "previous": "37a8bbd4-04f4-11ea-84d4-02420a0100a0"
    },
    "lc_wrapper": {
     "log_history": [
      "/home/10999542xb8011f/07a/.log/20191110/20191110-150751-0221.log",
      "/home/10999542xb8011f/07a/.log/20191111/20191111-112632-0439.log",
      "/home/10999542xb8011f/07a/.log/20191111/20191111-112643-0662.log",
      "/home/10999542xb8011f/07a/.log/20191111/20191111-112702-0912.log"
     ]
    }
   },
   "outputs": [],
   "source": [
    "# このセルを評価すること\n",
    "x = 100  # グローバル変数xへの代入\n",
    "def printX():    # 関数printX() を定義\n",
    "#    x = a      # 変数xへの代入処理をコメントアウトし、代入をしない\n",
    "    print(x)"
   ]
  },
  {
   "cell_type": "markdown",
   "metadata": {
    "lc_cell_meme": {
     "current": "37a8bec2-04f4-11ea-84d4-02420a0100a0",
     "history": [
      {
       "current": "9f00e1ba-037f-11ea-a9f8-02420a0100a0",
       "next": "9f00e2e6-037f-11ea-a9f8-02420a0100a0",
       "previous": "9f00e052-037f-11ea-a9f8-02420a0100a0"
      }
     ],
     "next": "37a8c070-04f4-11ea-84d4-02420a0100a0",
     "previous": "37a8bd32-04f4-11ea-84d4-02420a0100a0"
    }
   },
   "source": [
    "次のセルで関数printX()を評価して、戻り値を確認してください。"
   ]
  },
  {
   "cell_type": "code",
   "execution_count": null,
   "metadata": {
    "lc_cell_meme": {
     "current": "37a8c070-04f4-11ea-84d4-02420a0100a0",
     "history": [
      {
       "current": "9f00e2e6-037f-11ea-a9f8-02420a0100a0",
       "next": "9f00e3fe-037f-11ea-a9f8-02420a0100a0",
       "previous": "9f00e1ba-037f-11ea-a9f8-02420a0100a0"
      },
      {
       "current": "37a8c070-04f4-11ea-84d4-02420a0100a0",
       "next": "37a8c20a-04f4-11ea-84d4-02420a0100a0",
       "previous": "37a8bec2-04f4-11ea-84d4-02420a0100a0"
      }
     ],
     "next": "37a8c368-04f4-11ea-84d4-02420a0100a0",
     "previous": "37a8bec2-04f4-11ea-84d4-02420a0100a0"
    },
    "lc_wrapper": {
     "log_history": [
      "/home/10999542xb8011f/07a/.log/20191110/20191110-150916-0624.log"
     ]
    }
   },
   "outputs": [],
   "source": [
    "# 演習用入力欄\n"
   ]
  },
  {
   "cell_type": "markdown",
   "metadata": {
    "lc_cell_meme": {
     "current": "37a8c368-04f4-11ea-84d4-02420a0100a0",
     "history": [
      {
       "current": "9f00e520-037f-11ea-a9f8-02420a0100a0",
       "next": "6b94cad0-0082-11ea-a9f8-02420a0100a0",
       "previous": "9f00e3fe-037f-11ea-a9f8-02420a0100a0"
      },
      {
       "current": "9f00e520-037f-11ea-a9f8-02420a0100a0",
       "next": "4c2e635c-0381-11ea-a9f8-02420a0100a0",
       "previous": "9f00e3fe-037f-11ea-a9f8-02420a0100a0"
      },
      {
       "current": "9f00e520-037f-11ea-a9f8-02420a0100a0",
       "next": "93bd226c-0381-11ea-a9f8-02420a0100a0",
       "previous": "9f00e3fe-037f-11ea-a9f8-02420a0100a0"
      },
      {
       "current": "37a8c368-04f4-11ea-84d4-02420a0100a0",
       "next": "37a8c4c6-04f4-11ea-84d4-02420a0100a0",
       "previous": "37a8c20a-04f4-11ea-84d4-02420a0100a0"
      }
     ],
     "next": "37a8c4c6-04f4-11ea-84d4-02420a0100a0",
     "previous": "37a8c070-04f4-11ea-84d4-02420a0100a0"
    }
   },
   "source": [
    "ヒント：　100が返ってきます。"
   ]
  },
  {
   "cell_type": "markdown",
   "metadata": {
    "lc_cell_meme": {
     "current": "37a8c4c6-04f4-11ea-84d4-02420a0100a0",
     "history": [
      {
       "current": "93bd226c-0381-11ea-a9f8-02420a0100a0",
       "next": "4c2e635c-0381-11ea-a9f8-02420a0100a0",
       "previous": "9f00e520-037f-11ea-a9f8-02420a0100a0"
      }
     ],
     "next": "37a8c61a-04f4-11ea-84d4-02420a0100a0",
     "previous": "37a8c368-04f4-11ea-84d4-02420a0100a0"
    }
   },
   "source": [
    "このように、関数内で変数への代入の有無によって、変数の取り扱いが変わります。"
   ]
  },
  {
   "cell_type": "markdown",
   "metadata": {
    "lc_cell_meme": {
     "current": "37a8c61a-04f4-11ea-84d4-02420a0100a0",
     "history": [
      {
       "current": "4c2e635c-0381-11ea-a9f8-02420a0100a0",
       "next": "4c2e6686-0381-11ea-a9f8-02420a0100a0",
       "previous": "9f00e520-037f-11ea-a9f8-02420a0100a0"
      },
      {
       "current": "4c2e635c-0381-11ea-a9f8-02420a0100a0",
       "next": "4c2e6686-0381-11ea-a9f8-02420a0100a0",
       "previous": "93bd226c-0381-11ea-a9f8-02420a0100a0"
      }
     ],
     "next": "37a8c7b4-04f4-11ea-84d4-02420a0100a0",
     "previous": "37a8c4c6-04f4-11ea-84d4-02420a0100a0"
    }
   },
   "source": [
    "### ローカル変数とグローバル変数（グローバル宣言の利用）"
   ]
  },
  {
   "cell_type": "markdown",
   "metadata": {
    "lc_cell_meme": {
     "current": "37a8c7b4-04f4-11ea-84d4-02420a0100a0",
     "history": [
      {
       "current": "4c2e6686-0381-11ea-a9f8-02420a0100a0",
       "next": "4c2e67ee-0381-11ea-a9f8-02420a0100a0",
       "previous": "4c2e635c-0381-11ea-a9f8-02420a0100a0"
      }
     ],
     "next": "37a8c908-04f4-11ea-84d4-02420a0100a0",
     "previous": "37a8c61a-04f4-11ea-84d4-02420a0100a0"
    }
   },
   "source": [
    "関数内でグローバル変数を書き換える場合は、次のように関数内でglobal宣言を行ってから変数を利用します。"
   ]
  },
  {
   "cell_type": "markdown",
   "metadata": {
    "lc_cell_meme": {
     "current": "37a8c908-04f4-11ea-84d4-02420a0100a0",
     "history": [
      {
       "current": "4c2e67ee-0381-11ea-a9f8-02420a0100a0",
       "next": "4c2e691a-0381-11ea-a9f8-02420a0100a0",
       "previous": "4c2e6686-0381-11ea-a9f8-02420a0100a0"
      }
     ],
     "next": "37a8ca66-04f4-11ea-84d4-02420a0100a0",
     "previous": "37a8c7b4-04f4-11ea-84d4-02420a0100a0"
    }
   },
   "source": [
    "プログラム内のコメントを全て読みながら、演習を進めてください。"
   ]
  },
  {
   "cell_type": "code",
   "execution_count": null,
   "metadata": {
    "lc_cell_meme": {
     "current": "37a8ca66-04f4-11ea-84d4-02420a0100a0",
     "history": [
      {
       "current": "4c2e691a-0381-11ea-a9f8-02420a0100a0",
       "next": "4c2e6a32-0381-11ea-a9f8-02420a0100a0",
       "previous": "4c2e67ee-0381-11ea-a9f8-02420a0100a0"
      },
      {
       "current": "4c2e691a-0381-11ea-a9f8-02420a0100a0",
       "next": "f962e542-0382-11ea-a9f8-02420a0100a0",
       "previous": "4c2e67ee-0381-11ea-a9f8-02420a0100a0"
      }
     ],
     "next": "37a8cbba-04f4-11ea-84d4-02420a0100a0",
     "previous": "37a8c908-04f4-11ea-84d4-02420a0100a0"
    },
    "lc_wrapper": {
     "log_history": [
      "/home/10999542xb8011f/07a/.log/20191110/20191110-152301-0937.log"
     ]
    }
   },
   "outputs": [],
   "source": [
    "# このセルを評価すること\n",
    "x = 100  # グローバル変数xへの代入\n",
    "def setX(a):    # 関数setX() を定義\n",
    "    global x    # 変数xをグローバル変数と宣言\n",
    "    x = a  \n",
    "    print(x)"
   ]
  },
  {
   "cell_type": "markdown",
   "metadata": {
    "lc_cell_meme": {
     "current": "37a8cbba-04f4-11ea-84d4-02420a0100a0",
     "history": [
      {
       "current": "f962e542-0382-11ea-a9f8-02420a0100a0",
       "next": "f962e826-0382-11ea-a9f8-02420a0100a0",
       "previous": "4c2e691a-0381-11ea-a9f8-02420a0100a0"
      }
     ],
     "next": "37a8cd0e-04f4-11ea-84d4-02420a0100a0",
     "previous": "37a8ca66-04f4-11ea-84d4-02420a0100a0"
    }
   },
   "source": [
    "引数に整数を指定して、関数setX()を評価してください。"
   ]
  },
  {
   "cell_type": "code",
   "execution_count": null,
   "metadata": {
    "lc_cell_meme": {
     "current": "37a8cd0e-04f4-11ea-84d4-02420a0100a0",
     "history": [
      {
       "current": "f962e826-0382-11ea-a9f8-02420a0100a0",
       "next": "4c2e6a32-0381-11ea-a9f8-02420a0100a0",
       "previous": "f962e542-0382-11ea-a9f8-02420a0100a0"
      },
      {
       "current": "37a8cd0e-04f4-11ea-84d4-02420a0100a0",
       "next": "37a8ce62-04f4-11ea-84d4-02420a0100a0",
       "previous": "37a8cbba-04f4-11ea-84d4-02420a0100a0"
      }
     ],
     "next": "37a8d0c4-04f4-11ea-84d4-02420a0100a0",
     "previous": "37a8cbba-04f4-11ea-84d4-02420a0100a0"
    },
    "lc_wrapper": {
     "log_history": [
      "/home/10999542xb8011f/07a/.log/20191110/20191110-152842-0962.log"
     ]
    }
   },
   "outputs": [],
   "source": [
    "# 演習用入力欄\n"
   ]
  },
  {
   "cell_type": "markdown",
   "metadata": {
    "lc_cell_meme": {
     "current": "37a8d0c4-04f4-11ea-84d4-02420a0100a0",
     "history": [
      {
       "current": "8875404a-0383-11ea-a9f8-02420a0100a0",
       "next": "f962e97a-0382-11ea-a9f8-02420a0100a0",
       "previous": "4c2e6a32-0381-11ea-a9f8-02420a0100a0"
      },
      {
       "current": "37a8d0c4-04f4-11ea-84d4-02420a0100a0",
       "next": "37a8d268-04f4-11ea-84d4-02420a0100a0",
       "previous": "37a8ce62-04f4-11ea-84d4-02420a0100a0"
      }
     ],
     "next": "37a8d268-04f4-11ea-84d4-02420a0100a0",
     "previous": "37a8cd0e-04f4-11ea-84d4-02420a0100a0"
    }
   },
   "source": [
    "ヒント：　関数setX()の評価時に引数として指定した整数が表示されます。"
   ]
  },
  {
   "cell_type": "markdown",
   "metadata": {
    "lc_cell_meme": {
     "current": "37a8d268-04f4-11ea-84d4-02420a0100a0",
     "history": [
      {
       "current": "f962e97a-0382-11ea-a9f8-02420a0100a0",
       "next": "f962eb3c-0382-11ea-a9f8-02420a0100a0",
       "previous": "4c2e6a32-0381-11ea-a9f8-02420a0100a0"
      },
      {
       "current": "f962e97a-0382-11ea-a9f8-02420a0100a0",
       "next": "f962eb3c-0382-11ea-a9f8-02420a0100a0",
       "previous": "8875404a-0383-11ea-a9f8-02420a0100a0"
      }
     ],
     "next": "37a8d3c6-04f4-11ea-84d4-02420a0100a0",
     "previous": "37a8d0c4-04f4-11ea-84d4-02420a0100a0"
    }
   },
   "source": [
    "最後に次のセル内の変数xを評価し、グローバル変数xには引数の数値が代入されていることを確認してください。"
   ]
  },
  {
   "cell_type": "code",
   "execution_count": null,
   "metadata": {
    "lc_cell_meme": {
     "current": "37a8d3c6-04f4-11ea-84d4-02420a0100a0",
     "history": [
      {
       "current": "f962eb3c-0382-11ea-a9f8-02420a0100a0",
       "next": "6b94cad0-0082-11ea-a9f8-02420a0100a0",
       "previous": "f962e97a-0382-11ea-a9f8-02420a0100a0"
      },
      {
       "current": "f962eb3c-0382-11ea-a9f8-02420a0100a0",
       "next": "4be2bb60-0448-11ea-a9f8-02420a0100a0",
       "previous": "f962e97a-0382-11ea-a9f8-02420a0100a0"
      }
     ],
     "next": "37a8d524-04f4-11ea-84d4-02420a0100a0",
     "previous": "37a8d268-04f4-11ea-84d4-02420a0100a0"
    },
    "lc_wrapper": {
     "log_history": [
      "/home/10999542xb8011f/07a/.log/20191110/20191110-152527-0817.log"
     ]
    }
   },
   "outputs": [],
   "source": [
    "# このセルを評価すること\n",
    "x"
   ]
  },
  {
   "cell_type": "markdown",
   "metadata": {
    "lc_cell_meme": {
     "current": "37a8d524-04f4-11ea-84d4-02420a0100a0",
     "history": [
      {
       "current": "4be2bb60-0448-11ea-a9f8-02420a0100a0",
       "next": "6b94cad0-0082-11ea-a9f8-02420a0100a0",
       "previous": "f962eb3c-0382-11ea-a9f8-02420a0100a0"
      },
      {
       "current": "4be2bb60-0448-11ea-a9f8-02420a0100a0",
       "next": "51b50aba-0458-11ea-a9f8-02420a0100a0",
       "previous": "f962eb3c-0382-11ea-a9f8-02420a0100a0"
      }
     ],
     "next": "37a8d678-04f4-11ea-84d4-02420a0100a0",
     "previous": "37a8d3c6-04f4-11ea-84d4-02420a0100a0"
    }
   },
   "source": [
    "### ローカル変数とグローバル変数（利用例）"
   ]
  },
  {
   "cell_type": "markdown",
   "metadata": {
    "lc_cell_meme": {
     "current": "37a8d678-04f4-11ea-84d4-02420a0100a0",
     "history": [
      {
       "current": "51b50aba-0458-11ea-a9f8-02420a0100a0",
       "next": "51b50cf4-0458-11ea-a9f8-02420a0100a0",
       "previous": "4be2bb60-0448-11ea-a9f8-02420a0100a0"
      }
     ],
     "next": "37a8d7cc-04f4-11ea-84d4-02420a0100a0",
     "previous": "37a8d524-04f4-11ea-84d4-02420a0100a0"
    }
   },
   "source": [
    "演習：　消費税を代入する変数rateを使用し、グローバル変数とローカル変数の違いを確認します。"
   ]
  },
  {
   "cell_type": "markdown",
   "metadata": {
    "lc_cell_meme": {
     "current": "37a8d7cc-04f4-11ea-84d4-02420a0100a0",
     "history": [
      {
       "current": "51b50cf4-0458-11ea-a9f8-02420a0100a0",
       "next": "51b50e48-0458-11ea-a9f8-02420a0100a0",
       "previous": "51b50aba-0458-11ea-a9f8-02420a0100a0"
      },
      {
       "current": "51b50cf4-0458-11ea-a9f8-02420a0100a0",
       "next": "e0bd6ca2-0458-11ea-a9f8-02420a0100a0",
       "previous": "51b50aba-0458-11ea-a9f8-02420a0100a0"
      }
     ],
     "next": "37a8d952-04f4-11ea-84d4-02420a0100a0",
     "previous": "37a8d678-04f4-11ea-84d4-02420a0100a0"
    }
   },
   "source": [
    "次のセルで変数rateに1.08を代入してください。"
   ]
  },
  {
   "cell_type": "code",
   "execution_count": null,
   "metadata": {
    "lc_cell_meme": {
     "current": "37a8d952-04f4-11ea-84d4-02420a0100a0",
     "history": [
      {
       "current": "e0bd6ca2-0458-11ea-a9f8-02420a0100a0",
       "next": "e0bd6edc-0458-11ea-a9f8-02420a0100a0",
       "previous": "51b50cf4-0458-11ea-a9f8-02420a0100a0"
      },
      {
       "current": "37a8d952-04f4-11ea-84d4-02420a0100a0",
       "next": "37a8daa6-04f4-11ea-84d4-02420a0100a0",
       "previous": "37a8d7cc-04f4-11ea-84d4-02420a0100a0"
      }
     ],
     "next": "37a8dc2c-04f4-11ea-84d4-02420a0100a0",
     "previous": "37a8d7cc-04f4-11ea-84d4-02420a0100a0"
    }
   },
   "outputs": [],
   "source": [
    "# 演習用入力欄\n"
   ]
  },
  {
   "cell_type": "markdown",
   "metadata": {
    "lc_cell_meme": {
     "current": "37a8dc2c-04f4-11ea-84d4-02420a0100a0",
     "history": [
      {
       "current": "e0bd7026-0458-11ea-a9f8-02420a0100a0",
       "next": "51b50e48-0458-11ea-a9f8-02420a0100a0",
       "previous": "e0bd6edc-0458-11ea-a9f8-02420a0100a0"
      },
      {
       "current": "e0bd7026-0458-11ea-a9f8-02420a0100a0",
       "next": "284ecf02-0459-11ea-a9f8-02420a0100a0",
       "previous": "e0bd6edc-0458-11ea-a9f8-02420a0100a0"
      },
      {
       "current": "37a8dc2c-04f4-11ea-84d4-02420a0100a0",
       "next": "37a8dd80-04f4-11ea-84d4-02420a0100a0",
       "previous": "37a8daa6-04f4-11ea-84d4-02420a0100a0"
      }
     ],
     "next": "37a8dd80-04f4-11ea-84d4-02420a0100a0",
     "previous": "37a8d952-04f4-11ea-84d4-02420a0100a0"
    }
   },
   "source": [
    "次に関数rate10()を定義してください。関数rate10()は引数で商品の価格を与えると、10%の税込価格を返します。"
   ]
  },
  {
   "cell_type": "code",
   "execution_count": null,
   "metadata": {
    "lc_cell_meme": {
     "current": "37a8dd80-04f4-11ea-84d4-02420a0100a0",
     "history": [
      {
       "current": "284ecf02-0459-11ea-a9f8-02420a0100a0",
       "next": "284ed13c-0459-11ea-a9f8-02420a0100a0",
       "previous": "e0bd7026-0458-11ea-a9f8-02420a0100a0"
      },
      {
       "current": "37a8dd80-04f4-11ea-84d4-02420a0100a0",
       "next": "37a8ded4-04f4-11ea-84d4-02420a0100a0",
       "previous": "37a8dc2c-04f4-11ea-84d4-02420a0100a0"
      }
     ],
     "next": "37a8e028-04f4-11ea-84d4-02420a0100a0",
     "previous": "37a8dc2c-04f4-11ea-84d4-02420a0100a0"
    }
   },
   "outputs": [],
   "source": [
    "# 演習用入力欄 （要修正）\n",
    "def rate10(x):\n",
    "    rate = 1.1\n",
    "    return ? * rate"
   ]
  },
  {
   "cell_type": "markdown",
   "metadata": {
    "lc_cell_meme": {
     "current": "37a8e028-04f4-11ea-84d4-02420a0100a0",
     "history": [
      {
       "current": "284ed2a4-0459-11ea-a9f8-02420a0100a0",
       "next": "51b50e48-0458-11ea-a9f8-02420a0100a0",
       "previous": "284ed13c-0459-11ea-a9f8-02420a0100a0"
      },
      {
       "current": "284ed2a4-0459-11ea-a9f8-02420a0100a0",
       "next": "4666d556-045a-11ea-a9f8-02420a0100a0",
       "previous": "284ed13c-0459-11ea-a9f8-02420a0100a0"
      },
      {
       "current": "37a8e028-04f4-11ea-84d4-02420a0100a0",
       "next": "37a8e1a4-04f4-11ea-84d4-02420a0100a0",
       "previous": "37a8ded4-04f4-11ea-84d4-02420a0100a0"
      }
     ],
     "next": "37a8e1a4-04f4-11ea-84d4-02420a0100a0",
     "previous": "37a8dd80-04f4-11ea-84d4-02420a0100a0"
    }
   },
   "source": [
    "引数100で関数rate10()を評価して、110が値として返ってくることを確認してください。"
   ]
  },
  {
   "cell_type": "code",
   "execution_count": null,
   "metadata": {
    "lc_cell_meme": {
     "current": "37a8e1a4-04f4-11ea-84d4-02420a0100a0",
     "history": [
      {
       "current": "4666d556-045a-11ea-a9f8-02420a0100a0",
       "next": "4666d9a2-045a-11ea-a9f8-02420a0100a0",
       "previous": "284ed2a4-0459-11ea-a9f8-02420a0100a0"
      },
      {
       "current": "37a8e1a4-04f4-11ea-84d4-02420a0100a0",
       "next": "37a8e320-04f4-11ea-84d4-02420a0100a0",
       "previous": "37a8e028-04f4-11ea-84d4-02420a0100a0"
      }
     ],
     "next": "37a8e474-04f4-11ea-84d4-02420a0100a0",
     "previous": "37a8e028-04f4-11ea-84d4-02420a0100a0"
    }
   },
   "outputs": [],
   "source": [
    "# 演習用入力欄\n"
   ]
  },
  {
   "cell_type": "markdown",
   "metadata": {
    "lc_cell_meme": {
     "current": "37a8e474-04f4-11ea-84d4-02420a0100a0",
     "history": [
      {
       "current": "4666db14-045a-11ea-a9f8-02420a0100a0",
       "next": "51b50e48-0458-11ea-a9f8-02420a0100a0",
       "previous": "4666d9a2-045a-11ea-a9f8-02420a0100a0"
      },
      {
       "current": "37a8e474-04f4-11ea-84d4-02420a0100a0",
       "next": "37a8e5c8-04f4-11ea-84d4-02420a0100a0",
       "previous": "37a8e320-04f4-11ea-84d4-02420a0100a0"
      }
     ],
     "next": "37a8e5c8-04f4-11ea-84d4-02420a0100a0",
     "previous": "37a8e1a4-04f4-11ea-84d4-02420a0100a0"
    }
   },
   "source": [
    "ヒント：　110.0000...が返ってきます。"
   ]
  },
  {
   "cell_type": "markdown",
   "metadata": {
    "lc_cell_meme": {
     "current": "37a8e5c8-04f4-11ea-84d4-02420a0100a0",
     "history": [
      {
       "current": "51b50e48-0458-11ea-a9f8-02420a0100a0",
       "next": "6b94cad0-0082-11ea-a9f8-02420a0100a0",
       "previous": "51b50cf4-0458-11ea-a9f8-02420a0100a0"
      },
      {
       "current": "51b50e48-0458-11ea-a9f8-02420a0100a0",
       "next": "6b94cad0-0082-11ea-a9f8-02420a0100a0",
       "previous": "e0bd7026-0458-11ea-a9f8-02420a0100a0"
      },
      {
       "current": "51b50e48-0458-11ea-a9f8-02420a0100a0",
       "next": "6b94cad0-0082-11ea-a9f8-02420a0100a0",
       "previous": "284ed2a4-0459-11ea-a9f8-02420a0100a0"
      },
      {
       "current": "51b50e48-0458-11ea-a9f8-02420a0100a0",
       "next": "6b94cad0-0082-11ea-a9f8-02420a0100a0",
       "previous": "4666db14-045a-11ea-a9f8-02420a0100a0"
      },
      {
       "current": "51b50e48-0458-11ea-a9f8-02420a0100a0",
       "next": "d580dbb0-045a-11ea-a9f8-02420a0100a0",
       "previous": "4666db14-045a-11ea-a9f8-02420a0100a0"
      }
     ],
     "next": "37a8e780-04f4-11ea-84d4-02420a0100a0",
     "previous": "37a8e474-04f4-11ea-84d4-02420a0100a0"
    }
   },
   "source": [
    "関数rate10()では、変数rateに1.1を代入し、計算式「x * rate」は110となりました。<br>"
   ]
  },
  {
   "cell_type": "markdown",
   "metadata": {
    "lc_cell_meme": {
     "current": "37a8e780-04f4-11ea-84d4-02420a0100a0",
     "history": [
      {
       "current": "d580dbb0-045a-11ea-a9f8-02420a0100a0",
       "next": "d580deda-045a-11ea-a9f8-02420a0100a0",
       "previous": "51b50e48-0458-11ea-a9f8-02420a0100a0"
      }
     ],
     "next": "37a8e906-04f4-11ea-84d4-02420a0100a0",
     "previous": "37a8e5c8-04f4-11ea-84d4-02420a0100a0"
    }
   },
   "source": [
    "最後に変数rateを評価してください。"
   ]
  },
  {
   "cell_type": "code",
   "execution_count": null,
   "metadata": {
    "lc_cell_meme": {
     "current": "37a8e906-04f4-11ea-84d4-02420a0100a0",
     "history": [
      {
       "current": "d580deda-045a-11ea-a9f8-02420a0100a0",
       "next": "d580e038-045a-11ea-a9f8-02420a0100a0",
       "previous": "d580dbb0-045a-11ea-a9f8-02420a0100a0"
      },
      {
       "current": "d580deda-045a-11ea-a9f8-02420a0100a0",
       "next": "11b814de-045d-11ea-a9f8-02420a0100a0",
       "previous": "d580dbb0-045a-11ea-a9f8-02420a0100a0"
      }
     ],
     "next": "37a8ea64-04f4-11ea-84d4-02420a0100a0",
     "previous": "37a8e780-04f4-11ea-84d4-02420a0100a0"
    },
    "lc_wrapper": {
     "log_history": [
      "/home/10999542xb8011f/07a/.log/20191111/20191111-172613-0177.log"
     ]
    }
   },
   "outputs": [],
   "source": [
    "# このセルを評価すること\n",
    "rate"
   ]
  },
  {
   "cell_type": "markdown",
   "metadata": {
    "lc_cell_meme": {
     "current": "37a8ea64-04f4-11ea-84d4-02420a0100a0",
     "history": [
      {
       "current": "11b814de-045d-11ea-a9f8-02420a0100a0",
       "next": "d580e038-045a-11ea-a9f8-02420a0100a0",
       "previous": "d580deda-045a-11ea-a9f8-02420a0100a0"
      },
      {
       "current": "11b814de-045d-11ea-a9f8-02420a0100a0",
       "next": "6b94cad0-0082-11ea-a9f8-02420a0100a0",
       "previous": "d580deda-045a-11ea-a9f8-02420a0100a0"
      }
     ],
     "next": "37a8ebea-04f4-11ea-84d4-02420a0100a0",
     "previous": "37a8e906-04f4-11ea-84d4-02420a0100a0"
    }
   },
   "source": [
    "1.08の値が返ってきます。この節の最初のセルで変数rateに1.08を代入しており、この変数rateはグローバル変数だと分かります。また関数rate10()内で利用している変数rateの値は1.1であり、ローカル変数だと分かります。"
   ]
  },
  {
   "cell_type": "markdown",
   "metadata": {
    "lc_cell_meme": {
     "current": "37a8ebea-04f4-11ea-84d4-02420a0100a0",
     "history": [
      {
       "current": "6b94cad0-0082-11ea-a9f8-02420a0100a0",
       "next": "8bf65f72-9e22-11e9-9f4c-02420a010067",
       "previous": "be5a6826-0080-11ea-a9f8-02420a0100a0"
      },
      {
       "current": "6b94cad0-0082-11ea-a9f8-02420a0100a0",
       "next": "8bf65f72-9e22-11e9-9f4c-02420a010067",
       "previous": "f4750752-0082-11ea-a9f8-02420a0100a0"
      },
      {
       "current": "6b94cad0-0082-11ea-a9f8-02420a0100a0",
       "next": "8bf65f72-9e22-11e9-9f4c-02420a010067",
       "previous": "fdfd73f6-01fc-11ea-a9f8-02420a0100a0"
      },
      {
       "current": "6b94cad0-0082-11ea-a9f8-02420a0100a0",
       "next": "8bf65f72-9e22-11e9-9f4c-02420a010067",
       "previous": "62bfa71a-037d-11ea-a9f8-02420a0100a0"
      },
      {
       "current": "6b94cad0-0082-11ea-a9f8-02420a0100a0",
       "next": "8bf65f72-9e22-11e9-9f4c-02420a010067",
       "previous": "aa41381a-037d-11ea-a9f8-02420a0100a0"
      },
      {
       "current": "6b94cad0-0082-11ea-a9f8-02420a0100a0",
       "next": "8bf65f72-9e22-11e9-9f4c-02420a010067",
       "previous": "9f00e520-037f-11ea-a9f8-02420a0100a0"
      },
      {
       "current": "6b94cad0-0082-11ea-a9f8-02420a0100a0",
       "next": "8bf65f72-9e22-11e9-9f4c-02420a010067",
       "previous": "4c2e6a32-0381-11ea-a9f8-02420a0100a0"
      },
      {
       "current": "6b94cad0-0082-11ea-a9f8-02420a0100a0",
       "next": "8bf65f72-9e22-11e9-9f4c-02420a010067",
       "previous": "f962eb3c-0382-11ea-a9f8-02420a0100a0"
      },
      {
       "current": "6b94cad0-0082-11ea-a9f8-02420a0100a0",
       "next": "8bf65f72-9e22-11e9-9f4c-02420a010067",
       "previous": "4be2bb60-0448-11ea-a9f8-02420a0100a0"
      },
      {
       "current": "6b94cad0-0082-11ea-a9f8-02420a0100a0",
       "next": "8bf65f72-9e22-11e9-9f4c-02420a010067",
       "previous": "51b50e48-0458-11ea-a9f8-02420a0100a0"
      },
      {
       "current": "6b94cad0-0082-11ea-a9f8-02420a0100a0",
       "next": "8bf65f72-9e22-11e9-9f4c-02420a010067",
       "previous": "d580e15a-045a-11ea-a9f8-02420a0100a0"
      },
      {
       "current": "6b94cad0-0082-11ea-a9f8-02420a0100a0",
       "next": "8bf65f72-9e22-11e9-9f4c-02420a010067",
       "previous": "11b814de-045d-11ea-a9f8-02420a0100a0"
      }
     ],
     "next": "37a8ed5c-04f4-11ea-84d4-02420a0100a0",
     "previous": "37a8ea64-04f4-11ea-84d4-02420a0100a0"
    }
   },
   "source": [
    "### 再帰関数1"
   ]
  },
  {
   "cell_type": "markdown",
   "metadata": {
    "lc_cell_meme": {
     "current": "37a8ed5c-04f4-11ea-84d4-02420a0100a0",
     "history": [
      {
       "current": "8bf65f72-9e22-11e9-9f4c-02420a010067",
       "next": "8bf66008-9e22-11e9-9f4c-02420a010067",
       "previous": "8bf65df6-9e22-11e9-9f4c-02420a010067"
      },
      {
       "current": "8bf65f72-9e22-11e9-9f4c-02420a010067",
       "next": "8bf66008-9e22-11e9-9f4c-02420a010067",
       "previous": "58c6bc90-007f-11ea-a9f8-02420a0100a0"
      },
      {
       "current": "8bf65f72-9e22-11e9-9f4c-02420a010067",
       "next": "8bf66008-9e22-11e9-9f4c-02420a010067",
       "previous": "e7c112ce-007f-11ea-a9f8-02420a0100a0"
      },
      {
       "current": "8bf65f72-9e22-11e9-9f4c-02420a010067",
       "next": "8bf66008-9e22-11e9-9f4c-02420a010067",
       "previous": "be5a6826-0080-11ea-a9f8-02420a0100a0"
      },
      {
       "current": "8bf65f72-9e22-11e9-9f4c-02420a010067",
       "next": "8bf66008-9e22-11e9-9f4c-02420a010067",
       "previous": "6b94cad0-0082-11ea-a9f8-02420a0100a0"
      },
      {
       "current": "8bf65f72-9e22-11e9-9f4c-02420a010067",
       "next": "0c3fb50c-0386-11ea-a9f8-02420a0100a0",
       "previous": "6b94cad0-0082-11ea-a9f8-02420a0100a0"
      }
     ],
     "next": "37a8eed8-04f4-11ea-84d4-02420a0100a0",
     "previous": "37a8ebea-04f4-11ea-84d4-02420a0100a0"
    }
   },
   "source": [
    "関数内から自分自身を呼び出す関数を再帰関数と呼びます。たとえば、再帰的に定義された式などを記述する場合に利用します。"
   ]
  },
  {
   "cell_type": "markdown",
   "metadata": {
    "lc_cell_meme": {
     "current": "37a8eed8-04f4-11ea-84d4-02420a0100a0",
     "execution_end_time": "2019-11-10T06:48:49.682704Z",
     "history": [
      {
       "current": "0c3fb50c-0386-11ea-a9f8-02420a0100a0",
       "next": "0c3fb7e6-0386-11ea-a9f8-02420a0100a0",
       "previous": "8bf65f72-9e22-11e9-9f4c-02420a010067"
      }
     ],
     "next": "37a8f054-04f4-11ea-84d4-02420a0100a0",
     "previous": "37a8ed5c-04f4-11ea-84d4-02420a0100a0"
    },
    "lc_wrapper": {
     "log_history": [
      "/home/10999542xb8011f/07a/.log/20191110/20191110-154849-0666.log"
     ]
    }
   },
   "source": [
    "例：　階乗(n!)を計算する関数fact()を作成します。"
   ]
  },
  {
   "cell_type": "markdown",
   "metadata": {
    "lc_cell_meme": {
     "current": "37a8f054-04f4-11ea-84d4-02420a0100a0",
     "history": [
      {
       "current": "0c3fb7e6-0386-11ea-a9f8-02420a0100a0",
       "next": "8bf66008-9e22-11e9-9f4c-02420a010067",
       "previous": "0c3fb50c-0386-11ea-a9f8-02420a0100a0"
      },
      {
       "current": "0c3fb7e6-0386-11ea-a9f8-02420a0100a0",
       "next": "9b5650c0-0386-11ea-a9f8-02420a0100a0",
       "previous": "0c3fb50c-0386-11ea-a9f8-02420a0100a0"
      }
     ],
     "next": "37a8f19e-04f4-11ea-84d4-02420a0100a0",
     "previous": "37a8eed8-04f4-11ea-84d4-02420a0100a0"
    }
   },
   "source": [
    "階乗の定義は次のようになります。"
   ]
  },
  {
   "cell_type": "markdown",
   "metadata": {
    "lc_cell_meme": {
     "current": "37a8f19e-04f4-11ea-84d4-02420a0100a0",
     "history": [
      {
       "current": "9b5650c0-0386-11ea-a9f8-02420a0100a0",
       "next": "9b56555c-0386-11ea-a9f8-02420a0100a0",
       "previous": "0c3fb7e6-0386-11ea-a9f8-02420a0100a0"
      }
     ],
     "next": "37a8f2f2-04f4-11ea-84d4-02420a0100a0",
     "previous": "37a8f054-04f4-11ea-84d4-02420a0100a0"
    }
   },
   "source": [
    "$$\n",
    "%\\begin{align*}\n",
    "  \\left\\{\n",
    "  \\begin{array}{l} \n",
    "    {0}! = 1 \\\\\n",
    "    {n}! = n \\cdot {(n - 1)} \\cdot {(n - 2)} \\cdot \\cdot \\cdot 2 \\cdot 1 \\\\\n",
    "  \\end{array}\n",
    "  \\right.\n",
    "%\\end{align*}\n",
    "$$"
   ]
  },
  {
   "cell_type": "markdown",
   "metadata": {
    "lc_cell_meme": {
     "current": "37a8f2f2-04f4-11ea-84d4-02420a0100a0",
     "history": [
      {
       "current": "9b56555c-0386-11ea-a9f8-02420a0100a0",
       "next": "8bf66008-9e22-11e9-9f4c-02420a010067",
       "previous": "9b5650c0-0386-11ea-a9f8-02420a0100a0"
      }
     ],
     "next": "37a8f450-04f4-11ea-84d4-02420a0100a0",
     "previous": "37a8f19e-04f4-11ea-84d4-02420a0100a0"
    }
   },
   "source": [
    "上記の式は、1つ前の計算結果を利用して計算する漸化（ぜんか）式になっています。<br>\n",
    "次のfact()は再帰関数を使って、以下の式で計算することができます。"
   ]
  },
  {
   "cell_type": "markdown",
   "metadata": {
    "lc_cell_meme": {
     "current": "37a8f450-04f4-11ea-84d4-02420a0100a0",
     "history": [
      {
       "current": "8bf66008-9e22-11e9-9f4c-02420a010067",
       "next": "8bf660e4-9e22-11e9-9f4c-02420a010067",
       "previous": "8bf65f72-9e22-11e9-9f4c-02420a010067"
      },
      {
       "current": "8bf66008-9e22-11e9-9f4c-02420a010067",
       "next": "8bf660e4-9e22-11e9-9f4c-02420a010067",
       "previous": "0c3fb7e6-0386-11ea-a9f8-02420a0100a0"
      },
      {
       "current": "8bf66008-9e22-11e9-9f4c-02420a010067",
       "next": "8bf660e4-9e22-11e9-9f4c-02420a010067",
       "previous": "9b56555c-0386-11ea-a9f8-02420a0100a0"
      }
     ],
     "next": "37a8f612-04f4-11ea-84d4-02420a0100a0",
     "previous": "37a8f2f2-04f4-11ea-84d4-02420a0100a0"
    }
   },
   "source": [
    "$$\n",
    "\\left\\{\n",
    "\\begin{array}{l} \n",
    "  fact({0}) = 1 \\\\\n",
    "  fact(n) = n \\ast fact(n - 1) , for\\ n\\ \\ge 1\\\\\n",
    "\\end{array}\n",
    "\\right.\n",
    "$$"
   ]
  },
  {
   "cell_type": "markdown",
   "metadata": {
    "lc_cell_meme": {
     "current": "37a8f612-04f4-11ea-84d4-02420a0100a0",
     "execution_end_time": "2019-10-25T07:07:21.692223Z",
     "history": [
      {
       "current": "8bf660e4-9e22-11e9-9f4c-02420a010067",
       "next": "8bf66148-9e22-11e9-9f4c-02420a010067",
       "previous": "8bf66008-9e22-11e9-9f4c-02420a010067"
      }
     ],
     "next": "37a8f7b6-04f4-11ea-84d4-02420a0100a0",
     "previous": "37a8f450-04f4-11ea-84d4-02420a0100a0"
    },
    "lc_wrapper": {
     "log_history": [
      "/home/10999542xb8011f/07a/.log/20191025/20191025-160706-0168.log"
     ]
    }
   },
   "source": [
    "上記の式を関数で記述すると次のようになります。評価してみてください。"
   ]
  },
  {
   "cell_type": "code",
   "execution_count": null,
   "metadata": {
    "lc_cell_meme": {
     "current": "37a8f7b6-04f4-11ea-84d4-02420a0100a0",
     "history": [
      {
       "current": "8bf66148-9e22-11e9-9f4c-02420a010067",
       "next": "8bf661a2-9e22-11e9-9f4c-02420a010067",
       "previous": "8bf660e4-9e22-11e9-9f4c-02420a010067"
      },
      {
       "current": "8bf66148-9e22-11e9-9f4c-02420a010067",
       "next": "f422c92a-fc49-11e9-a9f8-02420a0100a0",
       "previous": "8bf660e4-9e22-11e9-9f4c-02420a010067"
      }
     ],
     "next": "37a8f914-04f4-11ea-84d4-02420a0100a0",
     "previous": "37a8f612-04f4-11ea-84d4-02420a0100a0"
    },
    "lc_wrapper": {
     "log_history": [
      "/home/10999542xb8011f/07a/.log/20191110/20191110-160042-0057.log",
      "/home/10999542xb8011f/07a/.log/20191110/20191110-160059-0906.log"
     ]
    }
   },
   "outputs": [],
   "source": [
    "# このセルを評価すること\n",
    "def fact(n):\n",
    "    if (n == 0):\n",
    "        return 1\n",
    "    else:\n",
    "        return n * fact(n-1)"
   ]
  },
  {
   "cell_type": "markdown",
   "metadata": {
    "lc_cell_meme": {
     "current": "37a8f914-04f4-11ea-84d4-02420a0100a0",
     "history": [
      {
       "current": "f422c92a-fc49-11e9-a9f8-02420a0100a0",
       "next": "8bf661a2-9e22-11e9-9f4c-02420a010067",
       "previous": "8bf66148-9e22-11e9-9f4c-02420a010067"
      },
      {
       "current": "f422c92a-fc49-11e9-a9f8-02420a0100a0",
       "next": "ae2ad736-0389-11ea-a9f8-02420a0100a0",
       "previous": "8bf66148-9e22-11e9-9f4c-02420a010067"
      }
     ],
     "next": "37a8fa68-04f4-11ea-84d4-02420a0100a0",
     "previous": "37a8f7b6-04f4-11ea-84d4-02420a0100a0"
    }
   },
   "source": [
    "以下のセルで引数に$0$と1と4を指定して関数fact()を評価し、$0!$、1!、4!の結果を確認してください。"
   ]
  },
  {
   "cell_type": "code",
   "execution_count": null,
   "metadata": {
    "lc_cell_meme": {
     "current": "37a8fa68-04f4-11ea-84d4-02420a0100a0",
     "history": [
      {
       "current": "ae2ad736-0389-11ea-a9f8-02420a0100a0",
       "next": "b7e6f9ec-fc47-11e9-a9f8-02420a0100a0",
       "previous": "8bf661a2-9e22-11e9-9f4c-02420a010067"
      },
      {
       "current": "ae2ad736-0389-11ea-a9f8-02420a0100a0",
       "next": "f5b95dca-0389-11ea-a9f8-02420a0100a0",
       "previous": "f422c92a-fc49-11e9-a9f8-02420a0100a0"
      },
      {
       "current": "37a8fa68-04f4-11ea-84d4-02420a0100a0",
       "next": "37a8fbc6-04f4-11ea-84d4-02420a0100a0",
       "previous": "37a8f914-04f4-11ea-84d4-02420a0100a0"
      }
     ],
     "next": "37a8fd42-04f4-11ea-84d4-02420a0100a0",
     "previous": "37a8f914-04f4-11ea-84d4-02420a0100a0"
    },
    "lc_wrapper": {
     "log_history": [
      "/home/10999542xb8011f/07a/.log/20191110/20191110-161540-0504.log",
      "/home/10999542xb8011f/07a/.log/20191110/20191110-161543-0922.log"
     ]
    }
   },
   "outputs": [],
   "source": [
    "# 演習用入力欄\n"
   ]
  },
  {
   "cell_type": "markdown",
   "metadata": {
    "lc_cell_meme": {
     "current": "37a8fd42-04f4-11ea-84d4-02420a0100a0",
     "history": [
      {
       "current": "8bf661a2-9e22-11e9-9f4c-02420a010067",
       "next": "8bf66206-9e22-11e9-9f4c-02420a010067",
       "previous": "8bf66148-9e22-11e9-9f4c-02420a010067"
      },
      {
       "current": "8bf661a2-9e22-11e9-9f4c-02420a010067",
       "next": "b7e6f9ec-fc47-11e9-a9f8-02420a0100a0",
       "previous": "8bf66148-9e22-11e9-9f4c-02420a010067"
      },
      {
       "current": "8bf661a2-9e22-11e9-9f4c-02420a010067",
       "next": "b7e6f9ec-fc47-11e9-a9f8-02420a0100a0",
       "previous": "f422c92a-fc49-11e9-a9f8-02420a0100a0"
      },
      {
       "current": "8bf661a2-9e22-11e9-9f4c-02420a010067",
       "next": "ae2ad736-0389-11ea-a9f8-02420a0100a0",
       "previous": "f422c92a-fc49-11e9-a9f8-02420a0100a0"
      },
      {
       "current": "8bf661a2-9e22-11e9-9f4c-02420a010067",
       "next": "b7e6f9ec-fc47-11e9-a9f8-02420a0100a0",
       "previous": "f5b95dca-0389-11ea-a9f8-02420a0100a0"
      },
      {
       "current": "8bf661a2-9e22-11e9-9f4c-02420a010067",
       "next": "8bf662c4-9e22-11e9-9f4c-02420a010067",
       "previous": "f5b95dca-0389-11ea-a9f8-02420a0100a0"
      },
      {
       "current": "8bf661a2-9e22-11e9-9f4c-02420a010067",
       "next": "f422cd26-fc49-11e9-a9f8-02420a0100a0",
       "previous": "f5b95dca-0389-11ea-a9f8-02420a0100a0"
      },
      {
       "current": "8bf661a2-9e22-11e9-9f4c-02420a010067",
       "next": "f90a1f12-0449-11ea-a9f8-02420a0100a0",
       "previous": "f5b95dca-0389-11ea-a9f8-02420a0100a0"
      },
      {
       "current": "37a8fd42-04f4-11ea-84d4-02420a0100a0",
       "next": "37a8fe96-04f4-11ea-84d4-02420a0100a0",
       "previous": "37a8fbc6-04f4-11ea-84d4-02420a0100a0"
      }
     ],
     "next": "37a8fe96-04f4-11ea-84d4-02420a0100a0",
     "previous": "37a8fa68-04f4-11ea-84d4-02420a0100a0"
    }
   },
   "source": [
    "$0!$は1、1!は1、4!は24が返ってきます。"
   ]
  },
  {
   "cell_type": "markdown",
   "metadata": {
    "lc_cell_meme": {
     "current": "37a8fe96-04f4-11ea-84d4-02420a0100a0",
     "execution_end_time": "2019-11-11T06:10:42.872836Z",
     "history": [
      {
       "current": "f90a1f12-0449-11ea-a9f8-02420a0100a0",
       "next": "f422cd26-fc49-11e9-a9f8-02420a0100a0",
       "previous": "8bf661a2-9e22-11e9-9f4c-02420a010067"
      },
      {
       "current": "f90a1f12-0449-11ea-a9f8-02420a0100a0",
       "next": "7768e140-045e-11ea-a9f8-02420a0100a0",
       "previous": "8bf661a2-9e22-11e9-9f4c-02420a010067"
      }
     ],
     "next": "37a90012-04f4-11ea-84d4-02420a0100a0",
     "previous": "37a8fd42-04f4-11ea-84d4-02420a0100a0"
    },
    "lc_wrapper": {
     "log_history": [
      "/home/10999542xb8011f/07a/.log/20191111/20191111-151042-0844.log"
     ]
    }
   },
   "source": [
    "### 再帰関数2"
   ]
  },
  {
   "cell_type": "markdown",
   "metadata": {
    "lc_cell_meme": {
     "current": "37a90012-04f4-11ea-84d4-02420a0100a0",
     "history": [
      {
       "current": "7768e140-045e-11ea-a9f8-02420a0100a0",
       "next": "7768e488-045e-11ea-a9f8-02420a0100a0",
       "previous": "f90a1f12-0449-11ea-a9f8-02420a0100a0"
      }
     ],
     "next": "37a90166-04f4-11ea-84d4-02420a0100a0",
     "previous": "37a8fe96-04f4-11ea-84d4-02420a0100a0"
    }
   },
   "source": [
    "1から引数（整数）の値の総和を求める再帰関数fact2()を定義して、評価してください。"
   ]
  },
  {
   "cell_type": "code",
   "execution_count": null,
   "metadata": {
    "lc_cell_meme": {
     "current": "37a90166-04f4-11ea-84d4-02420a0100a0",
     "history": [
      {
       "current": "7768e488-045e-11ea-a9f8-02420a0100a0",
       "next": "7768e5fa-045e-11ea-a9f8-02420a0100a0",
       "previous": "7768e140-045e-11ea-a9f8-02420a0100a0"
      },
      {
       "current": "37a90166-04f4-11ea-84d4-02420a0100a0",
       "next": "37a902ba-04f4-11ea-84d4-02420a0100a0",
       "previous": "37a90012-04f4-11ea-84d4-02420a0100a0"
      }
     ],
     "next": "37a90418-04f4-11ea-84d4-02420a0100a0",
     "previous": "37a90012-04f4-11ea-84d4-02420a0100a0"
    },
    "lc_wrapper": {
     "log_history": [
      "/home/10999542xb8011f/07a/.log/20191111/20191111-175551-0771.log",
      "/home/10999542xb8011f/07a/.log/20191111/20191111-175554-0733.log"
     ]
    }
   },
   "outputs": [],
   "source": [
    "# 演習用入力欄\n"
   ]
  },
  {
   "cell_type": "markdown",
   "metadata": {
    "lc_cell_meme": {
     "current": "37a90418-04f4-11ea-84d4-02420a0100a0",
     "history": [
      {
       "current": "7768e71c-045e-11ea-a9f8-02420a0100a0",
       "next": "7768e834-045e-11ea-a9f8-02420a0100a0",
       "previous": "7768e5fa-045e-11ea-a9f8-02420a0100a0"
      },
      {
       "current": "7768e71c-045e-11ea-a9f8-02420a0100a0",
       "next": "68dbfd20-04f3-11ea-a9f8-02420a0100a0",
       "previous": "7768e5fa-045e-11ea-a9f8-02420a0100a0"
      },
      {
       "current": "37a90418-04f4-11ea-84d4-02420a0100a0",
       "next": "37a905f8-04f4-11ea-84d4-02420a0100a0",
       "previous": "37a902ba-04f4-11ea-84d4-02420a0100a0"
      }
     ],
     "next": "37a905f8-04f4-11ea-84d4-02420a0100a0",
     "previous": "37a90166-04f4-11ea-84d4-02420a0100a0"
    }
   },
   "source": [
    "引数として10を指定して、55が帰ってくることを確認してください。"
   ]
  },
  {
   "cell_type": "code",
   "execution_count": null,
   "metadata": {
    "lc_cell_meme": {
     "current": "37a905f8-04f4-11ea-84d4-02420a0100a0",
     "history": [
      {
       "current": "68dbfd20-04f3-11ea-a9f8-02420a0100a0",
       "next": "7768e834-045e-11ea-a9f8-02420a0100a0",
       "previous": "7768e71c-045e-11ea-a9f8-02420a0100a0"
      },
      {
       "current": "37a905f8-04f4-11ea-84d4-02420a0100a0",
       "next": "37a90788-04f4-11ea-84d4-02420a0100a0",
       "previous": "37a90418-04f4-11ea-84d4-02420a0100a0"
      }
     ],
     "next": "37a908e6-04f4-11ea-84d4-02420a0100a0",
     "previous": "37a90418-04f4-11ea-84d4-02420a0100a0"
    }
   },
   "outputs": [],
   "source": [
    "# 演習用入力欄\n"
   ]
  },
  {
   "cell_type": "markdown",
   "metadata": {
    "lc_cell_meme": {
     "current": "37a908e6-04f4-11ea-84d4-02420a0100a0",
     "history": [
      {
       "current": "8a43d8c6-0461-11ea-a9f8-02420a0100a0",
       "next": "f422cd26-fc49-11e9-a9f8-02420a0100a0",
       "previous": "7768e834-045e-11ea-a9f8-02420a0100a0"
      },
      {
       "current": "37a908e6-04f4-11ea-84d4-02420a0100a0",
       "next": "37a90a3a-04f4-11ea-84d4-02420a0100a0",
       "previous": "37a90788-04f4-11ea-84d4-02420a0100a0"
      }
     ],
     "next": "37a90a3a-04f4-11ea-84d4-02420a0100a0",
     "previous": "37a905f8-04f4-11ea-84d4-02420a0100a0"
    }
   },
   "source": [
    "ヒント：　55が帰ってきます。"
   ]
  },
  {
   "cell_type": "markdown",
   "metadata": {
    "lc_cell_meme": {
     "current": "37a90a3a-04f4-11ea-84d4-02420a0100a0",
     "history": [
      {
       "current": "f422cd26-fc49-11e9-a9f8-02420a0100a0",
       "next": "8bf668aa-9e22-11e9-9f4c-02420a010067",
       "previous": "8bf66850-9e22-11e9-9f4c-02420a010067"
      },
      {
       "current": "f422cd26-fc49-11e9-a9f8-02420a0100a0",
       "next": null,
       "previous": "8bf662c4-9e22-11e9-9f4c-02420a010067"
      },
      {
       "current": "f422cd26-fc49-11e9-a9f8-02420a0100a0",
       "next": null,
       "previous": "8bf661a2-9e22-11e9-9f4c-02420a010067"
      },
      {
       "current": "f422cd26-fc49-11e9-a9f8-02420a0100a0",
       "next": null,
       "previous": "f90a1f12-0449-11ea-a9f8-02420a0100a0"
      },
      {
       "current": "f422cd26-fc49-11e9-a9f8-02420a0100a0",
       "next": null,
       "previous": "7768e834-045e-11ea-a9f8-02420a0100a0"
      },
      {
       "current": "f422cd26-fc49-11e9-a9f8-02420a0100a0",
       "next": null,
       "previous": "8a43d8c6-0461-11ea-a9f8-02420a0100a0"
      },
      {
       "current": "f422cd26-fc49-11e9-a9f8-02420a0100a0",
       "next": "861e9fdc-04f3-11ea-a9f8-02420a0100a0",
       "previous": "8a43d8c6-0461-11ea-a9f8-02420a0100a0"
      }
     ],
     "next": "37a90b98-04f4-11ea-84d4-02420a0100a0",
     "previous": "37a908e6-04f4-11ea-84d4-02420a0100a0"
    }
   },
   "source": [
    "# 演習はこれで終了です。課題に進んでください。"
   ]
  },
  {
   "cell_type": "code",
   "execution_count": null,
   "metadata": {
    "lc_cell_meme": {
     "current": "37a90b98-04f4-11ea-84d4-02420a0100a0",
     "history": [
      {
       "current": "861e9fdc-04f3-11ea-a9f8-02420a0100a0",
       "next": null,
       "previous": "f422cd26-fc49-11e9-a9f8-02420a0100a0"
      }
     ],
     "next": null,
     "previous": "37a90a3a-04f4-11ea-84d4-02420a0100a0"
    }
   },
   "outputs": [],
   "source": []
  }
 ],
 "metadata": {
  "kernelspec": {
   "display_name": "Python 3",
   "language": "python",
   "name": "python3"
  },
  "language_info": {
   "file_extension": ".py",
   "mimetype": "text/x-python",
   "name": "python",
   "nbconvert_exporter": "python",
   "pygments_lexer": "ipython3",
   "version": "3.7.3"
  },
  "lc_notebook_meme": {
   "current": "37a7f640-04f4-11ea-84d4-02420a0100a0",
   "history": [
    "8bf64c30-9e22-11e9-9f4c-02420a010067"
   ],
   "lc_server_signature": {
    "current": {
     "notebook_dir": "/home/10999542xb8011f",
     "notebook_path": "/07",
     "server_url": "https://nb06.ecloud.nii.ac.jp/user/10999542xb8011f/",
     "signature_id": "1a06912c-df61-11e9-891d-02420a01002c"
    },
    "history": [
     {
      "notebook_dir": "/home/hayasakabe5305",
      "notebook_path": "/",
      "server_url": "https://nb02.ecloud.nii.ac.jp/user/hayasakabe5305/",
      "signature_id": "d7c71be2-8d85-11e9-94e8-02420a010065"
     },
     {
      "notebook_dir": "/home/hayasakabe5305",
      "notebook_path": "/06a",
      "server_url": "https://nb02.ecloud.nii.ac.jp/user/hayasakabe5305/",
      "signature_id": "d7c71be2-8d85-11e9-94e8-02420a010065"
     },
     {
      "notebook_dir": "/home/10999542xb8011f",
      "notebook_path": "/07a",
      "server_url": "https://nb06.ecloud.nii.ac.jp/user/10999542xb8011f/",
      "signature_id": "1a06912c-df61-11e9-891d-02420a01002c"
     }
    ]
   },
   "root_cells": [
    "37a7fd0c-04f4-11ea-84d4-02420a0100a0",
    "37a7ff50-04f4-11ea-84d4-02420a0100a0",
    "37a800fe-04f4-11ea-84d4-02420a0100a0",
    "37a8028e-04f4-11ea-84d4-02420a0100a0",
    "37a803ec-04f4-11ea-84d4-02420a0100a0",
    "37a8054a-04f4-11ea-84d4-02420a0100a0",
    "37a806ee-04f4-11ea-84d4-02420a0100a0",
    "37a8084c-04f4-11ea-84d4-02420a0100a0",
    "37a809aa-04f4-11ea-84d4-02420a0100a0",
    "37a80afe-04f4-11ea-84d4-02420a0100a0",
    "37a80dce-04f4-11ea-84d4-02420a0100a0",
    "37a80f36-04f4-11ea-84d4-02420a0100a0",
    "37a810e4-04f4-11ea-84d4-02420a0100a0",
    "37a8127e-04f4-11ea-84d4-02420a0100a0",
    "37a813dc-04f4-11ea-84d4-02420a0100a0",
    "37a8156c-04f4-11ea-84d4-02420a0100a0",
    "37a816d4-04f4-11ea-84d4-02420a0100a0",
    "37a818f0-04f4-11ea-84d4-02420a0100a0",
    "37a81a44-04f4-11ea-84d4-02420a0100a0",
    "37a81bca-04f4-11ea-84d4-02420a0100a0",
    "37a81d46-04f4-11ea-84d4-02420a0100a0",
    "37a81ecc-04f4-11ea-84d4-02420a0100a0",
    "37a82020-04f4-11ea-84d4-02420a0100a0",
    "37a8219c-04f4-11ea-84d4-02420a0100a0",
    "37a822fa-04f4-11ea-84d4-02420a0100a0",
    "37a82516-04f4-11ea-84d4-02420a0100a0",
    "37a82688-04f4-11ea-84d4-02420a0100a0",
    "37a827dc-04f4-11ea-84d4-02420a0100a0",
    "37a82930-04f4-11ea-84d4-02420a0100a0",
    "37a82ac0-04f4-11ea-84d4-02420a0100a0",
    "37a82c46-04f4-11ea-84d4-02420a0100a0",
    "37a82d9a-04f4-11ea-84d4-02420a0100a0",
    "37a82eee-04f4-11ea-84d4-02420a0100a0",
    "37a830a6-04f4-11ea-84d4-02420a0100a0",
    "37a8334e-04f4-11ea-84d4-02420a0100a0",
    "37a83574-04f4-11ea-84d4-02420a0100a0",
    "37a8374a-04f4-11ea-84d4-02420a0100a0",
    "37a838da-04f4-11ea-84d4-02420a0100a0",
    "37a83a42-04f4-11ea-84d4-02420a0100a0",
    "37a83be6-04f4-11ea-84d4-02420a0100a0",
    "37a83d76-04f4-11ea-84d4-02420a0100a0",
    "37a83f9c-04f4-11ea-84d4-02420a0100a0",
    "37a840f0-04f4-11ea-84d4-02420a0100a0",
    "37a8424e-04f4-11ea-84d4-02420a0100a0",
    "37a843a2-04f4-11ea-84d4-02420a0100a0",
    "37a8451e-04f4-11ea-84d4-02420a0100a0",
    "37a84672-04f4-11ea-84d4-02420a0100a0",
    "37a847d0-04f4-11ea-84d4-02420a0100a0",
    "37a8494c-04f4-11ea-84d4-02420a0100a0",
    "37a84b22-04f4-11ea-84d4-02420a0100a0",
    "37a84cda-04f4-11ea-84d4-02420a0100a0",
    "37a84e60-04f4-11ea-84d4-02420a0100a0",
    "37a8500e-04f4-11ea-84d4-02420a0100a0",
    "37a8519e-04f4-11ea-84d4-02420a0100a0",
    "37a85356-04f4-11ea-84d4-02420a0100a0",
    "37a8550e-04f4-11ea-84d4-02420a0100a0",
    "37a85694-04f4-11ea-84d4-02420a0100a0",
    "37a8581a-04f4-11ea-84d4-02420a0100a0",
    "37a85ae0-04f4-11ea-84d4-02420a0100a0",
    "37a85c70-04f4-11ea-84d4-02420a0100a0",
    "37a85dd8-04f4-11ea-84d4-02420a0100a0",
    "37a85f72-04f4-11ea-84d4-02420a0100a0",
    "37a86102-04f4-11ea-84d4-02420a0100a0",
    "37a86288-04f4-11ea-84d4-02420a0100a0",
    "37a86418-04f4-11ea-84d4-02420a0100a0",
    "37a86580-04f4-11ea-84d4-02420a0100a0",
    "37a867ba-04f4-11ea-84d4-02420a0100a0",
    "37a86904-04f4-11ea-84d4-02420a0100a0",
    "37a86a62-04f4-11ea-84d4-02420a0100a0",
    "37a86be8-04f4-11ea-84d4-02420a0100a0",
    "37a86d46-04f4-11ea-84d4-02420a0100a0",
    "37a86e9a-04f4-11ea-84d4-02420a0100a0",
    "37a87016-04f4-11ea-84d4-02420a0100a0",
    "37a8716a-04f4-11ea-84d4-02420a0100a0",
    "37a8734a-04f4-11ea-84d4-02420a0100a0",
    "37a87502-04f4-11ea-84d4-02420a0100a0",
    "37a8767e-04f4-11ea-84d4-02420a0100a0",
    "37a877fa-04f4-11ea-84d4-02420a0100a0",
    "37a8794e-04f4-11ea-84d4-02420a0100a0",
    "37a87aa2-04f4-11ea-84d4-02420a0100a0",
    "37a87c28-04f4-11ea-84d4-02420a0100a0",
    "37a87da4-04f4-11ea-84d4-02420a0100a0",
    "37a87f16-04f4-11ea-84d4-02420a0100a0",
    "37a8806a-04f4-11ea-84d4-02420a0100a0",
    "37a88268-04f4-11ea-84d4-02420a0100a0",
    "37a883d0-04f4-11ea-84d4-02420a0100a0",
    "37a88556-04f4-11ea-84d4-02420a0100a0",
    "37a886aa-04f4-11ea-84d4-02420a0100a0",
    "37a88808-04f4-11ea-84d4-02420a0100a0",
    "37a8895c-04f4-11ea-84d4-02420a0100a0",
    "37a88ae2-04f4-11ea-84d4-02420a0100a0",
    "37a88c36-04f4-11ea-84d4-02420a0100a0",
    "37a88dc6-04f4-11ea-84d4-02420a0100a0",
    "37a88f42-04f4-11ea-84d4-02420a0100a0",
    "37a890a0-04f4-11ea-84d4-02420a0100a0",
    "37a89226-04f4-11ea-84d4-02420a0100a0",
    "37a8937a-04f4-11ea-84d4-02420a0100a0",
    "37a89500-04f4-11ea-84d4-02420a0100a0",
    "37a89686-04f4-11ea-84d4-02420a0100a0",
    "37a897da-04f4-11ea-84d4-02420a0100a0",
    "37a89992-04f4-11ea-84d4-02420a0100a0",
    "37a89b22-04f4-11ea-84d4-02420a0100a0",
    "37a89cb2-04f4-11ea-84d4-02420a0100a0",
    "37a89e2e-04f4-11ea-84d4-02420a0100a0",
    "37a89fbe-04f4-11ea-84d4-02420a0100a0",
    "37a8a112-04f4-11ea-84d4-02420a0100a0",
    "37a8a2ca-04f4-11ea-84d4-02420a0100a0",
    "37a8a464-04f4-11ea-84d4-02420a0100a0",
    "37a8a5f4-04f4-11ea-84d4-02420a0100a0",
    "37a8a748-04f4-11ea-84d4-02420a0100a0",
    "37a8a9fa-04f4-11ea-84d4-02420a0100a0",
    "37a8ab62-04f4-11ea-84d4-02420a0100a0",
    "37a8acca-04f4-11ea-84d4-02420a0100a0",
    "37a8ae8c-04f4-11ea-84d4-02420a0100a0",
    "37a8aff4-04f4-11ea-84d4-02420a0100a0",
    "37a8b152-04f4-11ea-84d4-02420a0100a0",
    "37a8b2e2-04f4-11ea-84d4-02420a0100a0",
    "37a8b4e0-04f4-11ea-84d4-02420a0100a0",
    "37a8b666-04f4-11ea-84d4-02420a0100a0",
    "37a8b7ba-04f4-11ea-84d4-02420a0100a0",
    "37a8b918-04f4-11ea-84d4-02420a0100a0",
    "37a8ba76-04f4-11ea-84d4-02420a0100a0",
    "37a8bbd4-04f4-11ea-84d4-02420a0100a0",
    "37a8bd32-04f4-11ea-84d4-02420a0100a0",
    "37a8bec2-04f4-11ea-84d4-02420a0100a0",
    "37a8c070-04f4-11ea-84d4-02420a0100a0",
    "37a8c20a-04f4-11ea-84d4-02420a0100a0",
    "37a8c368-04f4-11ea-84d4-02420a0100a0",
    "37a8c4c6-04f4-11ea-84d4-02420a0100a0",
    "37a8c61a-04f4-11ea-84d4-02420a0100a0",
    "37a8c7b4-04f4-11ea-84d4-02420a0100a0",
    "37a8c908-04f4-11ea-84d4-02420a0100a0",
    "37a8ca66-04f4-11ea-84d4-02420a0100a0",
    "37a8cbba-04f4-11ea-84d4-02420a0100a0",
    "37a8cd0e-04f4-11ea-84d4-02420a0100a0",
    "37a8ce62-04f4-11ea-84d4-02420a0100a0",
    "37a8d0c4-04f4-11ea-84d4-02420a0100a0",
    "37a8d268-04f4-11ea-84d4-02420a0100a0",
    "37a8d3c6-04f4-11ea-84d4-02420a0100a0",
    "37a8d524-04f4-11ea-84d4-02420a0100a0",
    "37a8d678-04f4-11ea-84d4-02420a0100a0",
    "37a8d7cc-04f4-11ea-84d4-02420a0100a0",
    "37a8d952-04f4-11ea-84d4-02420a0100a0",
    "37a8daa6-04f4-11ea-84d4-02420a0100a0",
    "37a8dc2c-04f4-11ea-84d4-02420a0100a0",
    "37a8dd80-04f4-11ea-84d4-02420a0100a0",
    "37a8ded4-04f4-11ea-84d4-02420a0100a0",
    "37a8e028-04f4-11ea-84d4-02420a0100a0",
    "37a8e1a4-04f4-11ea-84d4-02420a0100a0",
    "37a8e320-04f4-11ea-84d4-02420a0100a0",
    "37a8e474-04f4-11ea-84d4-02420a0100a0",
    "37a8e5c8-04f4-11ea-84d4-02420a0100a0",
    "37a8e780-04f4-11ea-84d4-02420a0100a0",
    "37a8e906-04f4-11ea-84d4-02420a0100a0",
    "37a8ea64-04f4-11ea-84d4-02420a0100a0",
    "37a8ebea-04f4-11ea-84d4-02420a0100a0",
    "37a8ed5c-04f4-11ea-84d4-02420a0100a0",
    "37a8eed8-04f4-11ea-84d4-02420a0100a0",
    "37a8f054-04f4-11ea-84d4-02420a0100a0",
    "37a8f19e-04f4-11ea-84d4-02420a0100a0",
    "37a8f2f2-04f4-11ea-84d4-02420a0100a0",
    "37a8f450-04f4-11ea-84d4-02420a0100a0",
    "37a8f612-04f4-11ea-84d4-02420a0100a0",
    "37a8f7b6-04f4-11ea-84d4-02420a0100a0",
    "37a8f914-04f4-11ea-84d4-02420a0100a0",
    "37a8fa68-04f4-11ea-84d4-02420a0100a0",
    "37a8fbc6-04f4-11ea-84d4-02420a0100a0",
    "37a8fd42-04f4-11ea-84d4-02420a0100a0",
    "37a8fe96-04f4-11ea-84d4-02420a0100a0",
    "37a90012-04f4-11ea-84d4-02420a0100a0",
    "37a90166-04f4-11ea-84d4-02420a0100a0",
    "37a902ba-04f4-11ea-84d4-02420a0100a0",
    "37a90418-04f4-11ea-84d4-02420a0100a0",
    "37a905f8-04f4-11ea-84d4-02420a0100a0",
    "37a90788-04f4-11ea-84d4-02420a0100a0",
    "37a908e6-04f4-11ea-84d4-02420a0100a0",
    "37a90a3a-04f4-11ea-84d4-02420a0100a0",
    "37a90b98-04f4-11ea-84d4-02420a0100a0"
   ]
  },
  "toc": {
   "base_numbering": 1,
   "nav_menu": {},
   "number_sections": true,
   "sideBar": true,
   "skip_h1_title": false,
   "title_cell": "Table of Contents",
   "title_sidebar": "Contents",
   "toc_cell": false,
   "toc_position": {
    "height": "calc(100% - 180px)",
    "left": "10px",
    "top": "150px",
    "width": "230.4px"
   },
   "toc_section_display": true,
   "toc_window_display": true
  }
 },
 "nbformat": 4,
 "nbformat_minor": 2
}
