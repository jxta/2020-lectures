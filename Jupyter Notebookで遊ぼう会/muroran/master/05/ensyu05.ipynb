{
 "cells": [
  {
   "cell_type": "markdown",
   "metadata": {
    "lc_cell_meme": {
     "current": "e2b27860-faba-11e9-8686-02420a010844",
     "history": [
      {
       "current": "964ddd46-f143-11e9-a8bb-02420a010068",
       "next": "964ddee0-f143-11e9-a8bb-02420a010068",
       "previous": null
      },
      {
       "current": "fb6053e2-f5eb-11e9-a374-02420a010068",
       "next": "fb605612-f5eb-11e9-a374-02420a010068",
       "previous": null
      }
     ],
     "next": "e2b27a36-faba-11e9-8686-02420a010844",
     "previous": null
    }
   },
   "source": [
    "# プログラミング入門\n",
    "## 第5回　総合演習（1）"
   ]
  },
  {
   "cell_type": "markdown",
   "metadata": {
    "lc_cell_meme": {
     "current": "e2b27a36-faba-11e9-8686-02420a010844",
     "history": [
      {
       "current": "964ddee0-f143-11e9-a8bb-02420a010068",
       "next": null,
       "previous": "964ddd46-f143-11e9-a8bb-02420a010068"
      },
      {
       "current": "964ddee0-f143-11e9-a8bb-02420a010068",
       "next": "c4df73c2-f143-11e9-a8bb-02420a010068",
       "previous": "964ddd46-f143-11e9-a8bb-02420a010068"
      },
      {
       "current": "fb605612-f5eb-11e9-a374-02420a010068",
       "next": "fb6057ac-f5eb-11e9-a374-02420a010068",
       "previous": "fb6053e2-f5eb-11e9-a374-02420a010068"
      }
     ],
     "next": "e2b27be4-faba-11e9-8686-02420a010844",
     "previous": "e2b27860-faba-11e9-8686-02420a010844"
    }
   },
   "source": [
    "次のセルに、自分の名前と学籍番号を記入して下さい。"
   ]
  },
  {
   "cell_type": "markdown",
   "metadata": {
    "lc_cell_meme": {
     "current": "e2b27be4-faba-11e9-8686-02420a010844",
     "history": [
      {
       "current": "c4df73c2-f143-11e9-a8bb-02420a010068",
       "next": "c4df7660-f143-11e9-a8bb-02420a010068",
       "previous": "964ddee0-f143-11e9-a8bb-02420a010068"
      },
      {
       "current": "fb6057ac-f5eb-11e9-a374-02420a010068",
       "next": "fb605928-f5eb-11e9-a374-02420a010068",
       "previous": "fb605612-f5eb-11e9-a374-02420a010068"
      }
     ],
     "next": "e2b27d6a-faba-11e9-8686-02420a010844",
     "previous": "e2b27a36-faba-11e9-8686-02420a010844"
    }
   },
   "source": [
    "学籍番号：　　　　　　　　　　　氏名："
   ]
  },
  {
   "cell_type": "markdown",
   "metadata": {
    "lc_cell_meme": {
     "current": "e2b27d6a-faba-11e9-8686-02420a010844",
     "history": [
      {
       "current": "c4df7660-f143-11e9-a8bb-02420a010068",
       "next": null,
       "previous": "c4df73c2-f143-11e9-a8bb-02420a010068"
      },
      {
       "current": "c4df7660-f143-11e9-a8bb-02420a010068",
       "next": "0c6cad18-f144-11e9-a8bb-02420a010068",
       "previous": "c4df73c2-f143-11e9-a8bb-02420a010068"
      },
      {
       "current": "fb605928-f5eb-11e9-a374-02420a010068",
       "next": "fb605a9a-f5eb-11e9-a374-02420a010068",
       "previous": "fb6057ac-f5eb-11e9-a374-02420a010068"
      }
     ],
     "next": "e2b27ebe-faba-11e9-8686-02420a010844",
     "previous": "e2b27be4-faba-11e9-8686-02420a010844"
    }
   },
   "source": [
    "【進め方の注意】\n",
    "\n",
    "- 文書を読んで、手順に沿って問いに答えながら進めて下さい。\n",
    "- 最後まで問題を解いて、ファイルを保存して下さい。\n",
    "- 途中わからないことがあれば、教員またはTAに質問して下さい。"
   ]
  },
  {
   "cell_type": "markdown",
   "metadata": {
    "lc_cell_meme": {
     "current": "e2b27ebe-faba-11e9-8686-02420a010844",
     "history": [
      {
       "current": "0c6cad18-f144-11e9-a8bb-02420a010068",
       "next": "0c6caf52-f144-11e9-a8bb-02420a010068",
       "previous": "c4df7660-f143-11e9-a8bb-02420a010068"
      },
      {
       "current": "0c6cad18-f144-11e9-a8bb-02420a010068",
       "next": "53eef7fe-f144-11e9-a8bb-02420a010068",
       "previous": "c4df7660-f143-11e9-a8bb-02420a010068"
      },
      {
       "current": "0c6cad18-f144-11e9-a8bb-02420a010068",
       "next": "9b752f3a-f144-11e9-a8bb-02420a010068",
       "previous": "c4df7660-f143-11e9-a8bb-02420a010068"
      },
      {
       "current": "fb605a9a-f5eb-11e9-a374-02420a010068",
       "next": "fb605c34-f5eb-11e9-a374-02420a010068",
       "previous": "fb605928-f5eb-11e9-a374-02420a010068"
      }
     ],
     "next": "e2b28116-faba-11e9-8686-02420a010844",
     "previous": "e2b27d6a-faba-11e9-8686-02420a010844"
    }
   },
   "source": [
    "# 計算をしてみよう"
   ]
  },
  {
   "cell_type": "markdown",
   "metadata": {
    "lc_cell_meme": {
     "current": "e2b28116-faba-11e9-8686-02420a010844",
     "history": [
      {
       "current": "9b752f3a-f144-11e9-a8bb-02420a010068",
       "next": "9b753200-f144-11e9-a8bb-02420a010068",
       "previous": "0c6cad18-f144-11e9-a8bb-02420a010068"
      },
      {
       "current": "9b752f3a-f144-11e9-a8bb-02420a010068",
       "next": "e305d6e2-f144-11e9-a8bb-02420a010068",
       "previous": "0c6cad18-f144-11e9-a8bb-02420a010068"
      },
      {
       "current": "9b752f3a-f144-11e9-a8bb-02420a010068",
       "next": "9b752f3a-f144-11e9-a8bb-02420a010068",
       "previous": "0c6cad18-f144-11e9-a8bb-02420a010068"
      },
      {
       "current": "fb605c34-f5eb-11e9-a374-02420a010068",
       "next": "fb605d7e-f5eb-11e9-a374-02420a010068",
       "previous": "fb605a9a-f5eb-11e9-a374-02420a010068"
      }
     ],
     "next": "e2b282d8-faba-11e9-8686-02420a010844",
     "previous": "e2b27ebe-faba-11e9-8686-02420a010844"
    }
   },
   "source": [
    "## Jupyter Notebookでの計算"
   ]
  },
  {
   "cell_type": "markdown",
   "metadata": {
    "lc_cell_meme": {
     "current": "e2b282d8-faba-11e9-8686-02420a010844",
     "history": [
      {
       "current": "9b752f3a-f144-11e9-a8bb-02420a010068",
       "next": "9b753200-f144-11e9-a8bb-02420a010068",
       "previous": "0c6cad18-f144-11e9-a8bb-02420a010068"
      },
      {
       "current": "9b752f3a-f144-11e9-a8bb-02420a010068",
       "next": "e305d6e2-f144-11e9-a8bb-02420a010068",
       "previous": "0c6cad18-f144-11e9-a8bb-02420a010068"
      },
      {
       "current": "9b752f3a-f144-11e9-a8bb-02420a010068",
       "next": "e305d6e2-f144-11e9-a8bb-02420a010068",
       "previous": "9b752f3a-f144-11e9-a8bb-02420a010068"
      },
      {
       "current": "fb605d7e-f5eb-11e9-a374-02420a010068",
       "next": "fb605ec8-f5eb-11e9-a374-02420a010068",
       "previous": "fb605c34-f5eb-11e9-a374-02420a010068"
      }
     ],
     "next": "e2b28486-faba-11e9-8686-02420a010844",
     "previous": "e2b28116-faba-11e9-8686-02420a010844"
    }
   },
   "source": [
    "### 計算の優先順位"
   ]
  },
  {
   "cell_type": "markdown",
   "metadata": {
    "lc_cell_meme": {
     "current": "e2b28486-faba-11e9-8686-02420a010844",
     "execution_end_time": "2019-10-18T01:16:45.811366Z",
     "history": [
      {
       "current": "e305d6e2-f144-11e9-a8bb-02420a010068",
       "next": "e305da02-f144-11e9-a8bb-02420a010068",
       "previous": "9b752f3a-f144-11e9-a8bb-02420a010068"
      },
      {
       "current": "e305d6e2-f144-11e9-a8bb-02420a010068",
       "next": "bae43b1a-f3c7-11e9-a8bb-02420a010068",
       "previous": "9b752f3a-f144-11e9-a8bb-02420a010068"
      },
      {
       "current": "e305d6e2-f144-11e9-a8bb-02420a010068",
       "next": "bae43b1a-f3c7-11e9-a8bb-02420a010068",
       "previous": "e305d6e2-f144-11e9-a8bb-02420a010068"
      },
      {
       "current": "e305d6e2-f144-11e9-a8bb-02420a010068",
       "next": "bae43b1a-f3c7-11e9-a8bb-02420a010068",
       "previous": "9b752f3a-f144-11e9-a8bb-02420a010068"
      },
      {
       "current": "e305d6e2-f144-11e9-a8bb-02420a010068",
       "next": "73fd7d78-f5e9-11e9-a8bb-02420a010068",
       "previous": "9b752f3a-f144-11e9-a8bb-02420a010068"
      },
      {
       "current": "fb605ec8-f5eb-11e9-a374-02420a010068",
       "next": "fb606012-f5eb-11e9-a374-02420a010068",
       "previous": "fb605d7e-f5eb-11e9-a374-02420a010068"
      }
     ],
     "next": "e2b285da-faba-11e9-8686-02420a010844",
     "previous": "e2b282d8-faba-11e9-8686-02420a010844"
    },
    "lc_wrapper": {
     "log_history": [
      "/home/14999410x94c69e/05a/.log/20191018/20191018-101645-0786.log"
     ]
    }
   },
   "source": [
    "○演習：次のセルで、「$\\large 3 + \\frac{15} {2} - \\frac{16 - 36} {12.4} \\cdot \\frac{3} {57 + 10}$」を計算しなさい。"
   ]
  },
  {
   "cell_type": "code",
   "execution_count": 7,
   "metadata": {
    "lc_cell_meme": {
     "current": "e2b285da-faba-11e9-8686-02420a010844",
     "execution_end_time": "2019-11-01T07:43:13.688903Z",
     "history": [
      {
       "current": "73fd7d78-f5e9-11e9-a8bb-02420a010068",
       "next": "bae43b1a-f3c7-11e9-a8bb-02420a010068",
       "previous": "e305d6e2-f144-11e9-a8bb-02420a010068"
      },
      {
       "current": "73fd7d78-f5e9-11e9-a8bb-02420a010068",
       "next": "bae43db8-f3c7-11e9-a8bb-02420a010068",
       "previous": "e305d6e2-f144-11e9-a8bb-02420a010068"
      },
      {
       "current": "fb606012-f5eb-11e9-a374-02420a010068",
       "next": "fb606184-f5eb-11e9-a374-02420a010068",
       "previous": "fb605ec8-f5eb-11e9-a374-02420a010068"
      }
     ],
     "next": "e2b287ce-faba-11e9-8686-02420a010844",
     "previous": "e2b28486-faba-11e9-8686-02420a010844"
    },
    "lc_wrapper": {
     "log_history": [
      "/home/10999408x8b656d/05/.log/20191101/20191101-163700-0489.log",
      "/home/10999408x8b656d/05/.log/20191101/20191101-163945-0606.log",
      "/home/10999408x8b656d/05/.log/20191101/20191101-163959-0418.log",
      "/home/10999408x8b656d/05/.log/20191101/20191101-164305-0640.log",
      "/home/10999408x8b656d/05/.log/20191101/20191101-164313-0677.log"
     ]
    }
   },
   "outputs": [
    {
     "data": {
      "text/plain": [
       "10.427780452575831"
      ]
     },
     "execution_count": 7,
     "metadata": {},
     "output_type": "execute_result"
    }
   ],
   "source": [
    "# 演習用入力欄\n",
    "3 + 15 / 2 +(16 - 36)/12.4 * 3 / (57 + 10)"
   ]
  },
  {
   "cell_type": "markdown",
   "metadata": {
    "lc_cell_meme": {
     "current": "e2b287ce-faba-11e9-8686-02420a010844",
     "history": [
      {
       "current": "bae43db8-f3c7-11e9-a8bb-02420a010068",
       "next": "bae43ef8-f3c7-11e9-a8bb-02420a010068",
       "previous": "bae43b1a-f3c7-11e9-a8bb-02420a010068"
      },
      {
       "current": "bae43db8-f3c7-11e9-a8bb-02420a010068",
       "next": "9b753200-f144-11e9-a8bb-02420a010068",
       "previous": "bae43b1a-f3c7-11e9-a8bb-02420a010068"
      },
      {
       "current": "bae43db8-f3c7-11e9-a8bb-02420a010068",
       "next": "9b753200-f144-11e9-a8bb-02420a010068",
       "previous": "73fd7d78-f5e9-11e9-a8bb-02420a010068"
      },
      {
       "current": "fb606184-f5eb-11e9-a374-02420a010068",
       "next": "fb6062f6-f5eb-11e9-a374-02420a010068",
       "previous": "fb606012-f5eb-11e9-a374-02420a010068"
      }
     ],
     "next": "e2b28972-faba-11e9-8686-02420a010844",
     "previous": "e2b285da-faba-11e9-8686-02420a010844"
    }
   },
   "source": [
    "10.572219547424169  になれば正解"
   ]
  },
  {
   "cell_type": "markdown",
   "metadata": {
    "lc_cell_meme": {
     "current": "e2b28972-faba-11e9-8686-02420a010844",
     "history": [
      {
       "current": "9b753200-f144-11e9-a8bb-02420a010068",
       "next": "53eef7fe-f144-11e9-a8bb-02420a010068",
       "previous": "9b752f3a-f144-11e9-a8bb-02420a010068"
      },
      {
       "current": "9b753200-f144-11e9-a8bb-02420a010068",
       "next": "53eef7fe-f144-11e9-a8bb-02420a010068",
       "previous": "e305da02-f144-11e9-a8bb-02420a010068"
      },
      {
       "current": "9b753200-f144-11e9-a8bb-02420a010068",
       "next": "53eef7fe-f144-11e9-a8bb-02420a010068",
       "previous": "73647cfa-f3c7-11e9-a8bb-02420a010068"
      },
      {
       "current": "9b753200-f144-11e9-a8bb-02420a010068",
       "next": "e305d6e2-f144-11e9-a8bb-02420a010068",
       "previous": "bae43ef8-f3c7-11e9-a8bb-02420a010068"
      },
      {
       "current": "9b753200-f144-11e9-a8bb-02420a010068",
       "next": "e305d6e2-f144-11e9-a8bb-02420a010068",
       "previous": "bae43db8-f3c7-11e9-a8bb-02420a010068"
      },
      {
       "current": "fb6062f6-f5eb-11e9-a374-02420a010068",
       "next": "fb606468-f5eb-11e9-a374-02420a010068",
       "previous": "fb606184-f5eb-11e9-a374-02420a010068"
      }
     ],
     "next": "e2b28af8-faba-11e9-8686-02420a010844",
     "previous": "e2b287ce-faba-11e9-8686-02420a010844"
    }
   },
   "source": [
    "### 指数付き定数の表現1"
   ]
  },
  {
   "cell_type": "markdown",
   "metadata": {
    "lc_cell_meme": {
     "current": "e2b28af8-faba-11e9-8686-02420a010844",
     "execution_end_time": "2019-10-18T01:16:45.811366Z",
     "history": [
      {
       "current": "e305d6e2-f144-11e9-a8bb-02420a010068",
       "next": "e305da02-f144-11e9-a8bb-02420a010068",
       "previous": "9b752f3a-f144-11e9-a8bb-02420a010068"
      },
      {
       "current": "e305d6e2-f144-11e9-a8bb-02420a010068",
       "next": "e305da02-f144-11e9-a8bb-02420a010068",
       "previous": "9b753200-f144-11e9-a8bb-02420a010068"
      },
      {
       "current": "e305d6e2-f144-11e9-a8bb-02420a010068",
       "next": "73fd80d4-f5e9-11e9-a8bb-02420a010068",
       "previous": "9b753200-f144-11e9-a8bb-02420a010068"
      },
      {
       "current": "fb606468-f5eb-11e9-a374-02420a010068",
       "next": "fb6065da-f5eb-11e9-a374-02420a010068",
       "previous": "fb6062f6-f5eb-11e9-a374-02420a010068"
      }
     ],
     "next": "e2b28cce-faba-11e9-8686-02420a010844",
     "previous": "e2b28972-faba-11e9-8686-02420a010844"
    },
    "lc_wrapper": {
     "log_history": [
      "/home/14999410x94c69e/05a/.log/20191018/20191018-101645-0786.log"
     ]
    }
   },
   "source": [
    "○演習：次のセルで、「$\\large \\frac{1.23×10^{5}} {2.34×10^{4}}$　」を計算しなさい。"
   ]
  },
  {
   "cell_type": "code",
   "execution_count": null,
   "metadata": {
    "lc_cell_meme": {
     "current": "e2b28cce-faba-11e9-8686-02420a010844",
     "history": [
      {
       "current": "73fd80d4-f5e9-11e9-a8bb-02420a010068",
       "next": "e305da02-f144-11e9-a8bb-02420a010068",
       "previous": "e305d6e2-f144-11e9-a8bb-02420a010068"
      },
      {
       "current": "73fd80d4-f5e9-11e9-a8bb-02420a010068",
       "next": "73647cfa-f3c7-11e9-a8bb-02420a010068",
       "previous": "e305d6e2-f144-11e9-a8bb-02420a010068"
      },
      {
       "current": "fb6065da-f5eb-11e9-a374-02420a010068",
       "next": "fb60674c-f5eb-11e9-a374-02420a010068",
       "previous": "fb606468-f5eb-11e9-a374-02420a010068"
      }
     ],
     "next": "e2b28e22-faba-11e9-8686-02420a010844",
     "previous": "e2b28af8-faba-11e9-8686-02420a010844"
    }
   },
   "outputs": [],
   "source": [
    "# 演習用入力欄\n"
   ]
  },
  {
   "cell_type": "markdown",
   "metadata": {
    "lc_cell_meme": {
     "current": "e2b28e22-faba-11e9-8686-02420a010844",
     "history": [
      {
       "current": "73647cfa-f3c7-11e9-a8bb-02420a010068",
       "next": "9b753200-f144-11e9-a8bb-02420a010068",
       "previous": "e305da02-f144-11e9-a8bb-02420a010068"
      },
      {
       "current": "73647cfa-f3c7-11e9-a8bb-02420a010068",
       "next": "9b753200-f144-11e9-a8bb-02420a010068",
       "previous": "73fd80d4-f5e9-11e9-a8bb-02420a010068"
      },
      {
       "current": "fb60674c-f5eb-11e9-a374-02420a010068",
       "next": "fb6068c8-f5eb-11e9-a374-02420a010068",
       "previous": "fb6065da-f5eb-11e9-a374-02420a010068"
      }
     ],
     "next": "e2b28fa8-faba-11e9-8686-02420a010844",
     "previous": "e2b28cce-faba-11e9-8686-02420a010844"
    }
   },
   "source": [
    "5.256410256410256 になれば正解"
   ]
  },
  {
   "cell_type": "markdown",
   "metadata": {
    "lc_cell_meme": {
     "current": "e2b28fa8-faba-11e9-8686-02420a010844",
     "history": [
      {
       "current": "9b753200-f144-11e9-a8bb-02420a010068",
       "next": "53eef7fe-f144-11e9-a8bb-02420a010068",
       "previous": "9b752f3a-f144-11e9-a8bb-02420a010068"
      },
      {
       "current": "9b753200-f144-11e9-a8bb-02420a010068",
       "next": "53eef7fe-f144-11e9-a8bb-02420a010068",
       "previous": "e305da02-f144-11e9-a8bb-02420a010068"
      },
      {
       "current": "9b753200-f144-11e9-a8bb-02420a010068",
       "next": "53eef7fe-f144-11e9-a8bb-02420a010068",
       "previous": "73647cfa-f3c7-11e9-a8bb-02420a010068"
      },
      {
       "current": "fb6068c8-f5eb-11e9-a374-02420a010068",
       "next": "fb606a44-f5eb-11e9-a374-02420a010068",
       "previous": "fb60674c-f5eb-11e9-a374-02420a010068"
      }
     ],
     "next": "e2b2911a-faba-11e9-8686-02420a010844",
     "previous": "e2b28e22-faba-11e9-8686-02420a010844"
    }
   },
   "source": [
    "### 指数付き定数の表現2"
   ]
  },
  {
   "cell_type": "markdown",
   "metadata": {
    "lc_cell_meme": {
     "current": "e2b2911a-faba-11e9-8686-02420a010844",
     "history": [
      {
       "current": "53eef7fe-f144-11e9-a8bb-02420a010068",
       "next": "53eefb28-f144-11e9-a8bb-02420a010068",
       "previous": "0c6cad18-f144-11e9-a8bb-02420a010068"
      },
      {
       "current": "53eef7fe-f144-11e9-a8bb-02420a010068",
       "next": "53eefb28-f144-11e9-a8bb-02420a010068",
       "previous": "9b753200-f144-11e9-a8bb-02420a010068"
      },
      {
       "current": "53eef7fe-f144-11e9-a8bb-02420a010068",
       "next": "c11274b8-f145-11e9-a8bb-02420a010068",
       "previous": "9b753200-f144-11e9-a8bb-02420a010068"
      },
      {
       "current": "53eef7fe-f144-11e9-a8bb-02420a010068",
       "next": "73fd8214-f5e9-11e9-a8bb-02420a010068",
       "previous": "9b753200-f144-11e9-a8bb-02420a010068"
      },
      {
       "current": "fb606a44-f5eb-11e9-a374-02420a010068",
       "next": "fb606cf6-f5eb-11e9-a374-02420a010068",
       "previous": "fb6068c8-f5eb-11e9-a374-02420a010068"
      }
     ],
     "next": "e2b2928c-faba-11e9-8686-02420a010844",
     "previous": "e2b28fa8-faba-11e9-8686-02420a010844"
    }
   },
   "source": [
    "\n",
    "○演習：次のセルで、指数付き定数を使って、「$\\large \\frac{1.23×10^{7} }{2.34×10^{4}+ 3.14}$　」を計算しなさい。"
   ]
  },
  {
   "cell_type": "code",
   "execution_count": null,
   "metadata": {
    "lc_cell_meme": {
     "current": "e2b2928c-faba-11e9-8686-02420a010844",
     "history": [
      {
       "current": "73fd8214-f5e9-11e9-a8bb-02420a010068",
       "next": "c11274b8-f145-11e9-a8bb-02420a010068",
       "previous": "53eef7fe-f144-11e9-a8bb-02420a010068"
      },
      {
       "current": "73fd8214-f5e9-11e9-a8bb-02420a010068",
       "next": "53eefb28-f144-11e9-a8bb-02420a010068",
       "previous": "53eef7fe-f144-11e9-a8bb-02420a010068"
      },
      {
       "current": "fb606cf6-f5eb-11e9-a374-02420a010068",
       "next": "fb606f08-f5eb-11e9-a374-02420a010068",
       "previous": "fb606a44-f5eb-11e9-a374-02420a010068"
      }
     ],
     "next": "e2b293e0-faba-11e9-8686-02420a010844",
     "previous": "e2b2911a-faba-11e9-8686-02420a010844"
    }
   },
   "outputs": [],
   "source": [
    "# 演習用入力欄\n"
   ]
  },
  {
   "cell_type": "markdown",
   "metadata": {
    "lc_cell_meme": {
     "current": "e2b293e0-faba-11e9-8686-02420a010844",
     "history": [
      {
       "current": "53eefb28-f144-11e9-a8bb-02420a010068",
       "next": "53eefc90-f144-11e9-a8bb-02420a010068",
       "previous": "53eef7fe-f144-11e9-a8bb-02420a010068"
      },
      {
       "current": "53eefb28-f144-11e9-a8bb-02420a010068",
       "next": "9b75334a-f144-11e9-a8bb-02420a010068",
       "previous": "53eef7fe-f144-11e9-a8bb-02420a010068"
      },
      {
       "current": "53eefb28-f144-11e9-a8bb-02420a010068",
       "next": "9b75334a-f144-11e9-a8bb-02420a010068",
       "previous": "c11274b8-f145-11e9-a8bb-02420a010068"
      },
      {
       "current": "53eefb28-f144-11e9-a8bb-02420a010068",
       "next": "9b75334a-f144-11e9-a8bb-02420a010068",
       "previous": "73fd8214-f5e9-11e9-a8bb-02420a010068"
      },
      {
       "current": "fb606f08-f5eb-11e9-a374-02420a010068",
       "next": "fb60707a-f5eb-11e9-a374-02420a010068",
       "previous": "fb606cf6-f5eb-11e9-a374-02420a010068"
      }
     ],
     "next": "e2b2955c-faba-11e9-8686-02420a010844",
     "previous": "e2b2928c-faba-11e9-8686-02420a010844"
    }
   },
   "source": [
    "525.570500368754 になれば正解"
   ]
  },
  {
   "cell_type": "markdown",
   "metadata": {
    "lc_cell_meme": {
     "current": "e2b2955c-faba-11e9-8686-02420a010844",
     "history": [
      {
       "current": "9b75334a-f144-11e9-a8bb-02420a010068",
       "next": "53eefc90-f144-11e9-a8bb-02420a010068",
       "previous": "53eefb28-f144-11e9-a8bb-02420a010068"
      },
      {
       "current": "9b75334a-f144-11e9-a8bb-02420a010068",
       "next": "9b75334a-f144-11e9-a8bb-02420a010068",
       "previous": "53eefb28-f144-11e9-a8bb-02420a010068"
      },
      {
       "current": "9b75334a-f144-11e9-a8bb-02420a010068",
       "next": "1f3a817e-f147-11e9-a8bb-02420a010068",
       "previous": "53eefb28-f144-11e9-a8bb-02420a010068"
      },
      {
       "current": "9b75334a-f144-11e9-a8bb-02420a010068",
       "next": "f5cc2a12-f147-11e9-a8bb-02420a010068",
       "previous": "53eefb28-f144-11e9-a8bb-02420a010068"
      },
      {
       "current": "9b75334a-f144-11e9-a8bb-02420a010068",
       "next": "3d50ebd4-f148-11e9-a8bb-02420a010068",
       "previous": "53eefb28-f144-11e9-a8bb-02420a010068"
      },
      {
       "current": "fb60707a-f5eb-11e9-a374-02420a010068",
       "next": "fb607214-f5eb-11e9-a374-02420a010068",
       "previous": "fb606f08-f5eb-11e9-a374-02420a010068"
      }
     ],
     "next": "e2b296ce-faba-11e9-8686-02420a010844",
     "previous": "e2b293e0-faba-11e9-8686-02420a010844"
    }
   },
   "source": [
    "## 数学関数の利用"
   ]
  },
  {
   "cell_type": "markdown",
   "metadata": {
    "lc_cell_meme": {
     "current": "e2b296ce-faba-11e9-8686-02420a010844",
     "history": [
      {
       "current": "3d50ebd4-f148-11e9-a8bb-02420a010068",
       "next": "f5cc2a12-f147-11e9-a8bb-02420a010068",
       "previous": "9b75334a-f144-11e9-a8bb-02420a010068"
      },
      {
       "current": "fb607214-f5eb-11e9-a374-02420a010068",
       "next": "fb607372-f5eb-11e9-a374-02420a010068",
       "previous": "fb60707a-f5eb-11e9-a374-02420a010068"
      }
     ],
     "next": "e2b29840-faba-11e9-8686-02420a010844",
     "previous": "e2b2955c-faba-11e9-8686-02420a010844"
    }
   },
   "source": [
    "次のセルを評価して、mathモジュールを読み込みなさい。"
   ]
  },
  {
   "cell_type": "code",
   "execution_count": null,
   "metadata": {
    "lc_cell_meme": {
     "current": "e2b29840-faba-11e9-8686-02420a010844",
     "history": [
      {
       "current": "f5cc2a12-f147-11e9-a8bb-02420a010068",
       "next": "1f3a817e-f147-11e9-a8bb-02420a010068",
       "previous": "9b75334a-f144-11e9-a8bb-02420a010068"
      },
      {
       "current": "f5cc2a12-f147-11e9-a8bb-02420a010068",
       "next": "1f3a817e-f147-11e9-a8bb-02420a010068",
       "previous": "3d50ebd4-f148-11e9-a8bb-02420a010068"
      },
      {
       "current": "f5cc2a12-f147-11e9-a8bb-02420a010068",
       "next": "84e22fe4-f148-11e9-a8bb-02420a010068",
       "previous": "3d50ebd4-f148-11e9-a8bb-02420a010068"
      },
      {
       "current": "fb607372-f5eb-11e9-a374-02420a010068",
       "next": "fb6074c6-f5eb-11e9-a374-02420a010068",
       "previous": "fb607214-f5eb-11e9-a374-02420a010068"
      }
     ],
     "next": "e2b29a2a-faba-11e9-8686-02420a010844",
     "previous": "e2b296ce-faba-11e9-8686-02420a010844"
    },
    "lc_wrapper": {
     "log_history": [
      "/home/14999410x94c69e/05a/.log/20191018/20191018-103859-0677.log",
      "/home/14999410x94c69e/05a/.log/20191018/20191018-173543-0193.log"
     ]
    }
   },
   "outputs": [],
   "source": [
    "# そのまま評価すること\n",
    "import math"
   ]
  },
  {
   "cell_type": "markdown",
   "metadata": {
    "lc_cell_meme": {
     "current": "e2b29a2a-faba-11e9-8686-02420a010844",
     "history": [
      {
       "current": "84e22fe4-f148-11e9-a8bb-02420a010068",
       "next": "1f3a817e-f147-11e9-a8bb-02420a010068",
       "previous": "f5cc2a12-f147-11e9-a8bb-02420a010068"
      },
      {
       "current": "fb6074c6-f5eb-11e9-a374-02420a010068",
       "next": "fb607642-f5eb-11e9-a374-02420a010068",
       "previous": "fb607372-f5eb-11e9-a374-02420a010068"
      }
     ],
     "next": "e2b29bce-faba-11e9-8686-02420a010844",
     "previous": "e2b29840-faba-11e9-8686-02420a010844"
    }
   },
   "source": [
    "### べき乗"
   ]
  },
  {
   "cell_type": "markdown",
   "metadata": {
    "lc_cell_meme": {
     "current": "e2b29bce-faba-11e9-8686-02420a010844",
     "history": [
      {
       "current": "1f3a817e-f147-11e9-a8bb-02420a010068",
       "next": "1f3a8534-f147-11e9-a8bb-02420a010068",
       "previous": "9b75334a-f144-11e9-a8bb-02420a010068"
      },
      {
       "current": "1f3a817e-f147-11e9-a8bb-02420a010068",
       "next": "1f3a8534-f147-11e9-a8bb-02420a010068",
       "previous": "f5cc2a12-f147-11e9-a8bb-02420a010068"
      },
      {
       "current": "1f3a817e-f147-11e9-a8bb-02420a010068",
       "next": "1f3a8534-f147-11e9-a8bb-02420a010068",
       "previous": "84e22fe4-f148-11e9-a8bb-02420a010068"
      },
      {
       "current": "1f3a817e-f147-11e9-a8bb-02420a010068",
       "next": "cc5736bc-f148-11e9-a8bb-02420a010068",
       "previous": "84e22fe4-f148-11e9-a8bb-02420a010068"
      },
      {
       "current": "1f3a817e-f147-11e9-a8bb-02420a010068",
       "next": "73fd832c-f5e9-11e9-a8bb-02420a010068",
       "previous": "84e22fe4-f148-11e9-a8bb-02420a010068"
      },
      {
       "current": "fb607642-f5eb-11e9-a374-02420a010068",
       "next": "fb60787c-f5eb-11e9-a374-02420a010068",
       "previous": "fb6074c6-f5eb-11e9-a374-02420a010068"
      }
     ],
     "next": "e2b29d22-faba-11e9-8686-02420a010844",
     "previous": "e2b29a2a-faba-11e9-8686-02420a010844"
    }
   },
   "source": [
    "○演習：次のセルで、以下の式を計算しなさい。\n",
    "\n",
    " $\\LARGE {123.4}^{3}$"
   ]
  },
  {
   "cell_type": "code",
   "execution_count": null,
   "metadata": {
    "lc_cell_meme": {
     "current": "e2b29d22-faba-11e9-8686-02420a010844",
     "history": [
      {
       "current": "73fd832c-f5e9-11e9-a8bb-02420a010068",
       "next": "cc5736bc-f148-11e9-a8bb-02420a010068",
       "previous": "1f3a817e-f147-11e9-a8bb-02420a010068"
      },
      {
       "current": "73fd832c-f5e9-11e9-a8bb-02420a010068",
       "next": "84e2328c-f148-11e9-a8bb-02420a010068",
       "previous": "1f3a817e-f147-11e9-a8bb-02420a010068"
      },
      {
       "current": "fb60787c-f5eb-11e9-a374-02420a010068",
       "next": "fb607a16-f5eb-11e9-a374-02420a010068",
       "previous": "fb607642-f5eb-11e9-a374-02420a010068"
      }
     ],
     "next": "e2b29e94-faba-11e9-8686-02420a010844",
     "previous": "e2b29bce-faba-11e9-8686-02420a010844"
    }
   },
   "outputs": [],
   "source": [
    "# 演習用入力欄\n"
   ]
  },
  {
   "cell_type": "markdown",
   "metadata": {
    "lc_cell_meme": {
     "current": "e2b29e94-faba-11e9-8686-02420a010844",
     "history": [
      {
       "current": "84e2328c-f148-11e9-a8bb-02420a010068",
       "next": "1f3a817e-f147-11e9-a8bb-02420a010068",
       "previous": "1f3a8534-f147-11e9-a8bb-02420a010068"
      },
      {
       "current": "84e2328c-f148-11e9-a8bb-02420a010068",
       "next": "84e22fe4-f148-11e9-a8bb-02420a010068",
       "previous": "cc5736bc-f148-11e9-a8bb-02420a010068"
      },
      {
       "current": "84e2328c-f148-11e9-a8bb-02420a010068",
       "next": "84e22fe4-f148-11e9-a8bb-02420a010068",
       "previous": "73fd832c-f5e9-11e9-a8bb-02420a010068"
      },
      {
       "current": "fb607a16-f5eb-11e9-a374-02420a010068",
       "next": "fb607b60-f5eb-11e9-a374-02420a010068",
       "previous": "fb60787c-f5eb-11e9-a374-02420a010068"
      }
     ],
     "next": "e2b29fde-faba-11e9-8686-02420a010844",
     "previous": "e2b29d22-faba-11e9-8686-02420a010844"
    }
   },
   "source": [
    "ヒント：答えは、1879080.9040000003になります。"
   ]
  },
  {
   "cell_type": "markdown",
   "metadata": {
    "lc_cell_meme": {
     "current": "e2b29fde-faba-11e9-8686-02420a010844",
     "history": [
      {
       "current": "84e22fe4-f148-11e9-a8bb-02420a010068",
       "next": "1f3a817e-f147-11e9-a8bb-02420a010068",
       "previous": "f5cc2a12-f147-11e9-a8bb-02420a010068"
      },
      {
       "current": "84e22fe4-f148-11e9-a8bb-02420a010068",
       "next": "84e22fe4-f148-11e9-a8bb-02420a010068",
       "previous": "cc5736bc-f148-11e9-a8bb-02420a010068"
      },
      {
       "current": "84e22fe4-f148-11e9-a8bb-02420a010068",
       "next": "1f3a817e-f147-11e9-a8bb-02420a010068",
       "previous": "cc5736bc-f148-11e9-a8bb-02420a010068"
      },
      {
       "current": "84e22fe4-f148-11e9-a8bb-02420a010068",
       "next": "1f3a817e-f147-11e9-a8bb-02420a010068",
       "previous": "84e2328c-f148-11e9-a8bb-02420a010068"
      },
      {
       "current": "fb607b60-f5eb-11e9-a374-02420a010068",
       "next": "fb607caa-f5eb-11e9-a374-02420a010068",
       "previous": "fb607a16-f5eb-11e9-a374-02420a010068"
      }
     ],
     "next": "e2b2a16e-faba-11e9-8686-02420a010844",
     "previous": "e2b29e94-faba-11e9-8686-02420a010844"
    }
   },
   "source": [
    "### 平方根"
   ]
  },
  {
   "cell_type": "markdown",
   "metadata": {
    "lc_cell_meme": {
     "current": "e2b2a16e-faba-11e9-8686-02420a010844",
     "history": [
      {
       "current": "1f3a817e-f147-11e9-a8bb-02420a010068",
       "next": "1f3a8534-f147-11e9-a8bb-02420a010068",
       "previous": "9b75334a-f144-11e9-a8bb-02420a010068"
      },
      {
       "current": "1f3a817e-f147-11e9-a8bb-02420a010068",
       "next": "1f3a8534-f147-11e9-a8bb-02420a010068",
       "previous": "f5cc2a12-f147-11e9-a8bb-02420a010068"
      },
      {
       "current": "1f3a817e-f147-11e9-a8bb-02420a010068",
       "next": "1f3a8534-f147-11e9-a8bb-02420a010068",
       "previous": "84e22fe4-f148-11e9-a8bb-02420a010068"
      },
      {
       "current": "1f3a817e-f147-11e9-a8bb-02420a010068",
       "next": "cc5736bc-f148-11e9-a8bb-02420a010068",
       "previous": "84e22fe4-f148-11e9-a8bb-02420a010068"
      },
      {
       "current": "1f3a817e-f147-11e9-a8bb-02420a010068",
       "next": "84e22fe4-f148-11e9-a8bb-02420a010068",
       "previous": "84e22fe4-f148-11e9-a8bb-02420a010068"
      },
      {
       "current": "1f3a817e-f147-11e9-a8bb-02420a010068",
       "next": "a2edbade-f149-11e9-a8bb-02420a010068",
       "previous": "84e22fe4-f148-11e9-a8bb-02420a010068"
      },
      {
       "current": "1f3a817e-f147-11e9-a8bb-02420a010068",
       "next": "73fd8426-f5e9-11e9-a8bb-02420a010068",
       "previous": "84e22fe4-f148-11e9-a8bb-02420a010068"
      },
      {
       "current": "fb607caa-f5eb-11e9-a374-02420a010068",
       "next": "fb607df4-f5eb-11e9-a374-02420a010068",
       "previous": "fb607b60-f5eb-11e9-a374-02420a010068"
      }
     ],
     "next": "e2b2a2b8-faba-11e9-8686-02420a010844",
     "previous": "e2b29fde-faba-11e9-8686-02420a010844"
    }
   },
   "source": [
    "○演習：次のセルで、以下の式を計算しなさい。\n",
    "\n",
    " $\\LARGE \\sqrt{86.1}$"
   ]
  },
  {
   "cell_type": "code",
   "execution_count": null,
   "metadata": {
    "lc_cell_meme": {
     "current": "e2b2a2b8-faba-11e9-8686-02420a010844",
     "history": [
      {
       "current": "73fd8426-f5e9-11e9-a8bb-02420a010068",
       "next": "a2edbade-f149-11e9-a8bb-02420a010068",
       "previous": "1f3a817e-f147-11e9-a8bb-02420a010068"
      },
      {
       "current": "73fd8426-f5e9-11e9-a8bb-02420a010068",
       "next": "84e2328c-f148-11e9-a8bb-02420a010068",
       "previous": "1f3a817e-f147-11e9-a8bb-02420a010068"
      },
      {
       "current": "fb607df4-f5eb-11e9-a374-02420a010068",
       "next": "fb607f70-f5eb-11e9-a374-02420a010068",
       "previous": "fb607caa-f5eb-11e9-a374-02420a010068"
      }
     ],
     "next": "e2b2a448-faba-11e9-8686-02420a010844",
     "previous": "e2b2a16e-faba-11e9-8686-02420a010844"
    }
   },
   "outputs": [],
   "source": [
    "# 演習用入力欄\n"
   ]
  },
  {
   "cell_type": "markdown",
   "metadata": {
    "lc_cell_meme": {
     "current": "e2b2a448-faba-11e9-8686-02420a010844",
     "history": [
      {
       "current": "84e2328c-f148-11e9-a8bb-02420a010068",
       "next": "1f3a817e-f147-11e9-a8bb-02420a010068",
       "previous": "1f3a8534-f147-11e9-a8bb-02420a010068"
      },
      {
       "current": "84e2328c-f148-11e9-a8bb-02420a010068",
       "next": "84e22fe4-f148-11e9-a8bb-02420a010068",
       "previous": "a2edbade-f149-11e9-a8bb-02420a010068"
      },
      {
       "current": "84e2328c-f148-11e9-a8bb-02420a010068",
       "next": "84e22fe4-f148-11e9-a8bb-02420a010068",
       "previous": "73fd8426-f5e9-11e9-a8bb-02420a010068"
      },
      {
       "current": "fb607f70-f5eb-11e9-a374-02420a010068",
       "next": "fb6080ba-f5eb-11e9-a374-02420a010068",
       "previous": "fb607df4-f5eb-11e9-a374-02420a010068"
      }
     ],
     "next": "e2b2a592-faba-11e9-8686-02420a010844",
     "previous": "e2b2a2b8-faba-11e9-8686-02420a010844"
    }
   },
   "source": [
    "ヒント：答えは、9.279008567729637になります。"
   ]
  },
  {
   "cell_type": "markdown",
   "metadata": {
    "lc_cell_meme": {
     "current": "e2b2a592-faba-11e9-8686-02420a010844",
     "history": [
      {
       "current": "84e22fe4-f148-11e9-a8bb-02420a010068",
       "next": "1f3a817e-f147-11e9-a8bb-02420a010068",
       "previous": "f5cc2a12-f147-11e9-a8bb-02420a010068"
      },
      {
       "current": "84e22fe4-f148-11e9-a8bb-02420a010068",
       "next": "84e22fe4-f148-11e9-a8bb-02420a010068",
       "previous": "cc5736bc-f148-11e9-a8bb-02420a010068"
      },
      {
       "current": "84e22fe4-f148-11e9-a8bb-02420a010068",
       "next": "1f3a817e-f147-11e9-a8bb-02420a010068",
       "previous": "1f3a817e-f147-11e9-a8bb-02420a010068"
      },
      {
       "current": "84e22fe4-f148-11e9-a8bb-02420a010068",
       "next": "1f3a817e-f147-11e9-a8bb-02420a010068",
       "previous": "a2edbade-f149-11e9-a8bb-02420a010068"
      },
      {
       "current": "84e22fe4-f148-11e9-a8bb-02420a010068",
       "next": "1f3a817e-f147-11e9-a8bb-02420a010068",
       "previous": "84e2328c-f148-11e9-a8bb-02420a010068"
      },
      {
       "current": "fb6080ba-f5eb-11e9-a374-02420a010068",
       "next": "fb60822c-f5eb-11e9-a374-02420a010068",
       "previous": "fb607f70-f5eb-11e9-a374-02420a010068"
      }
     ],
     "next": "e2b2a7c2-faba-11e9-8686-02420a010844",
     "previous": "e2b2a448-faba-11e9-8686-02420a010844"
    }
   },
   "source": [
    "###  三角関数"
   ]
  },
  {
   "cell_type": "markdown",
   "metadata": {
    "lc_cell_meme": {
     "current": "e2b2a7c2-faba-11e9-8686-02420a010844",
     "history": [
      {
       "current": "1f3a817e-f147-11e9-a8bb-02420a010068",
       "next": "1f3a8534-f147-11e9-a8bb-02420a010068",
       "previous": "9b75334a-f144-11e9-a8bb-02420a010068"
      },
      {
       "current": "1f3a817e-f147-11e9-a8bb-02420a010068",
       "next": "1f3a8534-f147-11e9-a8bb-02420a010068",
       "previous": "f5cc2a12-f147-11e9-a8bb-02420a010068"
      },
      {
       "current": "1f3a817e-f147-11e9-a8bb-02420a010068",
       "next": "1f3a8534-f147-11e9-a8bb-02420a010068",
       "previous": "84e22fe4-f148-11e9-a8bb-02420a010068"
      },
      {
       "current": "1f3a817e-f147-11e9-a8bb-02420a010068",
       "next": "cc5736bc-f148-11e9-a8bb-02420a010068",
       "previous": "84e22fe4-f148-11e9-a8bb-02420a010068"
      },
      {
       "current": "1f3a817e-f147-11e9-a8bb-02420a010068",
       "next": "84e22fe4-f148-11e9-a8bb-02420a010068",
       "previous": "84e22fe4-f148-11e9-a8bb-02420a010068"
      },
      {
       "current": "1f3a817e-f147-11e9-a8bb-02420a010068",
       "next": "a2edbe9e-f149-11e9-a8bb-02420a010068",
       "previous": "84e22fe4-f148-11e9-a8bb-02420a010068"
      },
      {
       "current": "1f3a817e-f147-11e9-a8bb-02420a010068",
       "next": "73fd852a-f5e9-11e9-a8bb-02420a010068",
       "previous": "84e22fe4-f148-11e9-a8bb-02420a010068"
      },
      {
       "current": "fb60822c-f5eb-11e9-a374-02420a010068",
       "next": "fb60839e-f5eb-11e9-a374-02420a010068",
       "previous": "fb6080ba-f5eb-11e9-a374-02420a010068"
      }
     ],
     "next": "e2b2a948-faba-11e9-8686-02420a010844",
     "previous": "e2b2a592-faba-11e9-8686-02420a010844"
    }
   },
   "source": [
    "○演習：次のセルで、以下の式を計算しなさい。\n",
    "\n",
    " $\\LARGE tan 60°$"
   ]
  },
  {
   "cell_type": "code",
   "execution_count": null,
   "metadata": {
    "lc_cell_meme": {
     "current": "e2b2a948-faba-11e9-8686-02420a010844",
     "history": [
      {
       "current": "73fd852a-f5e9-11e9-a8bb-02420a010068",
       "next": "a2edbe9e-f149-11e9-a8bb-02420a010068",
       "previous": "1f3a817e-f147-11e9-a8bb-02420a010068"
      },
      {
       "current": "73fd852a-f5e9-11e9-a8bb-02420a010068",
       "next": "84e2328c-f148-11e9-a8bb-02420a010068",
       "previous": "1f3a817e-f147-11e9-a8bb-02420a010068"
      },
      {
       "current": "fb60839e-f5eb-11e9-a374-02420a010068",
       "next": "fb60851a-f5eb-11e9-a374-02420a010068",
       "previous": "fb60822c-f5eb-11e9-a374-02420a010068"
      }
     ],
     "next": "e2b2aab0-faba-11e9-8686-02420a010844",
     "previous": "e2b2a7c2-faba-11e9-8686-02420a010844"
    }
   },
   "outputs": [],
   "source": [
    "# 演習用入力欄\n"
   ]
  },
  {
   "cell_type": "markdown",
   "metadata": {
    "lc_cell_meme": {
     "current": "e2b2aab0-faba-11e9-8686-02420a010844",
     "history": [
      {
       "current": "84e2328c-f148-11e9-a8bb-02420a010068",
       "next": "1f3a817e-f147-11e9-a8bb-02420a010068",
       "previous": "1f3a8534-f147-11e9-a8bb-02420a010068"
      },
      {
       "current": "84e2328c-f148-11e9-a8bb-02420a010068",
       "next": "84e22fe4-f148-11e9-a8bb-02420a010068",
       "previous": "a2edbade-f149-11e9-a8bb-02420a010068"
      },
      {
       "current": "84e2328c-f148-11e9-a8bb-02420a010068",
       "next": "84e22fe4-f148-11e9-a8bb-02420a010068",
       "previous": "a2edbe9e-f149-11e9-a8bb-02420a010068"
      },
      {
       "current": "84e2328c-f148-11e9-a8bb-02420a010068",
       "next": "84e22fe4-f148-11e9-a8bb-02420a010068",
       "previous": "73fd852a-f5e9-11e9-a8bb-02420a010068"
      },
      {
       "current": "fb60851a-f5eb-11e9-a374-02420a010068",
       "next": "fb60868c-f5eb-11e9-a374-02420a010068",
       "previous": "fb60839e-f5eb-11e9-a374-02420a010068"
      }
     ],
     "next": "e2b2abfa-faba-11e9-8686-02420a010844",
     "previous": "e2b2a948-faba-11e9-8686-02420a010844"
    }
   },
   "source": [
    "ヒント：答えは、1.7320508075688767になります。"
   ]
  },
  {
   "cell_type": "markdown",
   "metadata": {
    "lc_cell_meme": {
     "current": "e2b2abfa-faba-11e9-8686-02420a010844",
     "history": [
      {
       "current": "84e22fe4-f148-11e9-a8bb-02420a010068",
       "next": "1f3a817e-f147-11e9-a8bb-02420a010068",
       "previous": "f5cc2a12-f147-11e9-a8bb-02420a010068"
      },
      {
       "current": "84e22fe4-f148-11e9-a8bb-02420a010068",
       "next": "1f3a817e-f147-11e9-a8bb-02420a010068",
       "previous": "84e22fe4-f148-11e9-a8bb-02420a010068"
      },
      {
       "current": "84e22fe4-f148-11e9-a8bb-02420a010068",
       "next": "1f3a817e-f147-11e9-a8bb-02420a010068",
       "previous": "1f3a817e-f147-11e9-a8bb-02420a010068"
      },
      {
       "current": "84e22fe4-f148-11e9-a8bb-02420a010068",
       "next": "1f3a817e-f147-11e9-a8bb-02420a010068",
       "previous": "a2edbe9e-f149-11e9-a8bb-02420a010068"
      },
      {
       "current": "84e22fe4-f148-11e9-a8bb-02420a010068",
       "next": "1f3a817e-f147-11e9-a8bb-02420a010068",
       "previous": "84e2328c-f148-11e9-a8bb-02420a010068"
      },
      {
       "current": "fb60868c-f5eb-11e9-a374-02420a010068",
       "next": "fb6087d6-f5eb-11e9-a374-02420a010068",
       "previous": "fb60851a-f5eb-11e9-a374-02420a010068"
      }
     ],
     "next": "e2b2ad80-faba-11e9-8686-02420a010844",
     "previous": "e2b2aab0-faba-11e9-8686-02420a010844"
    }
   },
   "source": [
    "### 自然対数"
   ]
  },
  {
   "cell_type": "markdown",
   "metadata": {
    "lc_cell_meme": {
     "current": "e2b2ad80-faba-11e9-8686-02420a010844",
     "history": [
      {
       "current": "1f3a817e-f147-11e9-a8bb-02420a010068",
       "next": "1f3a8534-f147-11e9-a8bb-02420a010068",
       "previous": "9b75334a-f144-11e9-a8bb-02420a010068"
      },
      {
       "current": "1f3a817e-f147-11e9-a8bb-02420a010068",
       "next": "1f3a8534-f147-11e9-a8bb-02420a010068",
       "previous": "f5cc2a12-f147-11e9-a8bb-02420a010068"
      },
      {
       "current": "1f3a817e-f147-11e9-a8bb-02420a010068",
       "next": "1f3a8692-f147-11e9-a8bb-02420a010068",
       "previous": "1f3a8534-f147-11e9-a8bb-02420a010068"
      },
      {
       "current": "1f3a817e-f147-11e9-a8bb-02420a010068",
       "next": "1f3a8692-f147-11e9-a8bb-02420a010068",
       "previous": "84e2328c-f148-11e9-a8bb-02420a010068"
      },
      {
       "current": "1f3a817e-f147-11e9-a8bb-02420a010068",
       "next": "1f3a8692-f147-11e9-a8bb-02420a010068",
       "previous": "84e22fe4-f148-11e9-a8bb-02420a010068"
      },
      {
       "current": "1f3a817e-f147-11e9-a8bb-02420a010068",
       "next": "73fd86ce-f5e9-11e9-a8bb-02420a010068",
       "previous": "84e22fe4-f148-11e9-a8bb-02420a010068"
      },
      {
       "current": "fb6087d6-f5eb-11e9-a374-02420a010068",
       "next": "fb608920-f5eb-11e9-a374-02420a010068",
       "previous": "fb60868c-f5eb-11e9-a374-02420a010068"
      }
     ],
     "next": "e2b2afb0-faba-11e9-8686-02420a010844",
     "previous": "e2b2abfa-faba-11e9-8686-02420a010844"
    }
   },
   "source": [
    "○演習：次のセルで、以下の式を計算しなさい。\n",
    "\n",
    " $\\LARGE \\log {64.3}$"
   ]
  },
  {
   "cell_type": "code",
   "execution_count": null,
   "metadata": {
    "lc_cell_meme": {
     "current": "e2b2afb0-faba-11e9-8686-02420a010844",
     "history": [
      {
       "current": "73fd86ce-f5e9-11e9-a8bb-02420a010068",
       "next": "1f3a8692-f147-11e9-a8bb-02420a010068",
       "previous": "1f3a817e-f147-11e9-a8bb-02420a010068"
      },
      {
       "current": "73fd86ce-f5e9-11e9-a8bb-02420a010068",
       "next": "84e2328c-f148-11e9-a8bb-02420a010068",
       "previous": "1f3a817e-f147-11e9-a8bb-02420a010068"
      },
      {
       "current": "fb608920-f5eb-11e9-a374-02420a010068",
       "next": "fb608aa6-f5eb-11e9-a374-02420a010068",
       "previous": "fb6087d6-f5eb-11e9-a374-02420a010068"
      }
     ],
     "next": "e2b2b140-faba-11e9-8686-02420a010844",
     "previous": "e2b2ad80-faba-11e9-8686-02420a010844"
    }
   },
   "outputs": [],
   "source": [
    "# 演習用入力欄\n"
   ]
  },
  {
   "cell_type": "markdown",
   "metadata": {
    "lc_cell_meme": {
     "current": "e2b2b140-faba-11e9-8686-02420a010844",
     "history": [
      {
       "current": "84e2328c-f148-11e9-a8bb-02420a010068",
       "next": "1f3a817e-f147-11e9-a8bb-02420a010068",
       "previous": "1f3a8534-f147-11e9-a8bb-02420a010068"
      },
      {
       "current": "84e2328c-f148-11e9-a8bb-02420a010068",
       "next": "ea78fc88-f149-11e9-a8bb-02420a010068",
       "previous": "1f3a8692-f147-11e9-a8bb-02420a010068"
      },
      {
       "current": "84e2328c-f148-11e9-a8bb-02420a010068",
       "next": "84e22fe4-f148-11e9-a8bb-02420a010068",
       "previous": "1f3a8692-f147-11e9-a8bb-02420a010068"
      },
      {
       "current": "84e2328c-f148-11e9-a8bb-02420a010068",
       "next": "84e22fe4-f148-11e9-a8bb-02420a010068",
       "previous": "73fd86ce-f5e9-11e9-a8bb-02420a010068"
      },
      {
       "current": "fb608aa6-f5eb-11e9-a374-02420a010068",
       "next": "fb608c0e-f5eb-11e9-a374-02420a010068",
       "previous": "fb608920-f5eb-11e9-a374-02420a010068"
      }
     ],
     "next": "e2b2b2b2-faba-11e9-8686-02420a010844",
     "previous": "e2b2afb0-faba-11e9-8686-02420a010844"
    }
   },
   "source": [
    "ヒント：答えは、4.163559631243574になります。"
   ]
  },
  {
   "cell_type": "markdown",
   "metadata": {
    "lc_cell_meme": {
     "current": "e2b2b2b2-faba-11e9-8686-02420a010844",
     "history": [
      {
       "current": "84e22fe4-f148-11e9-a8bb-02420a010068",
       "next": "1f3a817e-f147-11e9-a8bb-02420a010068",
       "previous": "f5cc2a12-f147-11e9-a8bb-02420a010068"
      },
      {
       "current": "84e22fe4-f148-11e9-a8bb-02420a010068",
       "next": "1f3a817e-f147-11e9-a8bb-02420a010068",
       "previous": "84e22fe4-f148-11e9-a8bb-02420a010068"
      },
      {
       "current": "84e22fe4-f148-11e9-a8bb-02420a010068",
       "next": "1f3a817e-f147-11e9-a8bb-02420a010068",
       "previous": "1f3a817e-f147-11e9-a8bb-02420a010068"
      },
      {
       "current": "84e22fe4-f148-11e9-a8bb-02420a010068",
       "next": "1f3a817e-f147-11e9-a8bb-02420a010068",
       "previous": "a2edbe9e-f149-11e9-a8bb-02420a010068"
      },
      {
       "current": "84e22fe4-f148-11e9-a8bb-02420a010068",
       "next": "1f3a817e-f147-11e9-a8bb-02420a010068",
       "previous": "84e2328c-f148-11e9-a8bb-02420a010068"
      },
      {
       "current": "fb608c0e-f5eb-11e9-a374-02420a010068",
       "next": "fb608d58-f5eb-11e9-a374-02420a010068",
       "previous": "fb608aa6-f5eb-11e9-a374-02420a010068"
      }
     ],
     "next": "e2b2b42e-faba-11e9-8686-02420a010844",
     "previous": "e2b2b140-faba-11e9-8686-02420a010844"
    }
   },
   "source": [
    "### 常用対数"
   ]
  },
  {
   "cell_type": "markdown",
   "metadata": {
    "lc_cell_meme": {
     "current": "e2b2b42e-faba-11e9-8686-02420a010844",
     "history": [
      {
       "current": "1f3a817e-f147-11e9-a8bb-02420a010068",
       "next": "1f3a8534-f147-11e9-a8bb-02420a010068",
       "previous": "9b75334a-f144-11e9-a8bb-02420a010068"
      },
      {
       "current": "1f3a817e-f147-11e9-a8bb-02420a010068",
       "next": "1f3a8534-f147-11e9-a8bb-02420a010068",
       "previous": "f5cc2a12-f147-11e9-a8bb-02420a010068"
      },
      {
       "current": "1f3a817e-f147-11e9-a8bb-02420a010068",
       "next": "1f3a8534-f147-11e9-a8bb-02420a010068",
       "previous": "84e22fe4-f148-11e9-a8bb-02420a010068"
      },
      {
       "current": "1f3a817e-f147-11e9-a8bb-02420a010068",
       "next": "1f3a817e-f147-11e9-a8bb-02420a010068",
       "previous": "84e22fe4-f148-11e9-a8bb-02420a010068"
      },
      {
       "current": "1f3a817e-f147-11e9-a8bb-02420a010068",
       "next": "1f3a8534-f147-11e9-a8bb-02420a010068",
       "previous": "84e22fe4-f148-11e9-a8bb-02420a010068"
      },
      {
       "current": "1f3a817e-f147-11e9-a8bb-02420a010068",
       "next": "73fd87dc-f5e9-11e9-a8bb-02420a010068",
       "previous": "84e22fe4-f148-11e9-a8bb-02420a010068"
      },
      {
       "current": "fb608d58-f5eb-11e9-a374-02420a010068",
       "next": "fb608eca-f5eb-11e9-a374-02420a010068",
       "previous": "fb608c0e-f5eb-11e9-a374-02420a010068"
      }
     ],
     "next": "e2b2b578-faba-11e9-8686-02420a010844",
     "previous": "e2b2b2b2-faba-11e9-8686-02420a010844"
    }
   },
   "source": [
    "○演習：次のセルで、以下の式を計算しなさい。\n",
    "\n",
    " $\\LARGE \\log_{10} {6}$"
   ]
  },
  {
   "cell_type": "code",
   "execution_count": null,
   "metadata": {
    "lc_cell_meme": {
     "current": "e2b2b578-faba-11e9-8686-02420a010844",
     "history": [
      {
       "current": "73fd87dc-f5e9-11e9-a8bb-02420a010068",
       "next": "1f3a8534-f147-11e9-a8bb-02420a010068",
       "previous": "1f3a817e-f147-11e9-a8bb-02420a010068"
      },
      {
       "current": "73fd87dc-f5e9-11e9-a8bb-02420a010068",
       "next": "84e2328c-f148-11e9-a8bb-02420a010068",
       "previous": "1f3a817e-f147-11e9-a8bb-02420a010068"
      },
      {
       "current": "fb608eca-f5eb-11e9-a374-02420a010068",
       "next": "fb609032-f5eb-11e9-a374-02420a010068",
       "previous": "fb608d58-f5eb-11e9-a374-02420a010068"
      }
     ],
     "next": "e2b2b6f4-faba-11e9-8686-02420a010844",
     "previous": "e2b2b42e-faba-11e9-8686-02420a010844"
    }
   },
   "outputs": [],
   "source": [
    "# 演習用入力欄\n"
   ]
  },
  {
   "cell_type": "markdown",
   "metadata": {
    "lc_cell_meme": {
     "current": "e2b2b6f4-faba-11e9-8686-02420a010844",
     "history": [
      {
       "current": "84e2328c-f148-11e9-a8bb-02420a010068",
       "next": "1f3a817e-f147-11e9-a8bb-02420a010068",
       "previous": "1f3a8534-f147-11e9-a8bb-02420a010068"
      },
      {
       "current": "84e2328c-f148-11e9-a8bb-02420a010068",
       "next": "ea78fc88-f149-11e9-a8bb-02420a010068",
       "previous": "1f3a8534-f147-11e9-a8bb-02420a010068"
      },
      {
       "current": "84e2328c-f148-11e9-a8bb-02420a010068",
       "next": "ea78fc88-f149-11e9-a8bb-02420a010068",
       "previous": "73fd87dc-f5e9-11e9-a8bb-02420a010068"
      },
      {
       "current": "fb609032-f5eb-11e9-a374-02420a010068",
       "next": "fb60917c-f5eb-11e9-a374-02420a010068",
       "previous": "fb608eca-f5eb-11e9-a374-02420a010068"
      }
     ],
     "next": "e2b2b870-faba-11e9-8686-02420a010844",
     "previous": "e2b2b578-faba-11e9-8686-02420a010844"
    }
   },
   "source": [
    "ヒント：答えは、0.7781512503836436になります。"
   ]
  },
  {
   "cell_type": "markdown",
   "metadata": {
    "lc_cell_meme": {
     "current": "e2b2b870-faba-11e9-8686-02420a010844",
     "history": [
      {
       "current": "ea78fc88-f149-11e9-a8bb-02420a010068",
       "next": "1f3a817e-f147-11e9-a8bb-02420a010068",
       "previous": "1f3a8692-f147-11e9-a8bb-02420a010068"
      },
      {
       "current": "ea78fc88-f149-11e9-a8bb-02420a010068",
       "next": "1f3a817e-f147-11e9-a8bb-02420a010068",
       "previous": "84e2328c-f148-11e9-a8bb-02420a010068"
      },
      {
       "current": "fb60917c-f5eb-11e9-a374-02420a010068",
       "next": "fb6093d4-f5eb-11e9-a374-02420a010068",
       "previous": "fb609032-f5eb-11e9-a374-02420a010068"
      }
     ],
     "next": "e2b2ba00-faba-11e9-8686-02420a010844",
     "previous": "e2b2b6f4-faba-11e9-8686-02420a010844"
    }
   },
   "source": [
    "### 円周率"
   ]
  },
  {
   "cell_type": "markdown",
   "metadata": {
    "lc_cell_meme": {
     "current": "e2b2ba00-faba-11e9-8686-02420a010844",
     "history": [
      {
       "current": "1f3a817e-f147-11e9-a8bb-02420a010068",
       "next": "1f3a8534-f147-11e9-a8bb-02420a010068",
       "previous": "9b75334a-f144-11e9-a8bb-02420a010068"
      },
      {
       "current": "1f3a817e-f147-11e9-a8bb-02420a010068",
       "next": "1f3a8534-f147-11e9-a8bb-02420a010068",
       "previous": "f5cc2a12-f147-11e9-a8bb-02420a010068"
      },
      {
       "current": "1f3a817e-f147-11e9-a8bb-02420a010068",
       "next": "1f3a8692-f147-11e9-a8bb-02420a010068",
       "previous": "1f3a8534-f147-11e9-a8bb-02420a010068"
      },
      {
       "current": "1f3a817e-f147-11e9-a8bb-02420a010068",
       "next": "1f3a8692-f147-11e9-a8bb-02420a010068",
       "previous": "1f3a8534-f147-11e9-a8bb-02420a010068"
      },
      {
       "current": "1f3a817e-f147-11e9-a8bb-02420a010068",
       "next": "9b75334a-f144-11e9-a8bb-02420a010068",
       "previous": "1f3a817e-f147-11e9-a8bb-02420a010068"
      },
      {
       "current": "1f3a817e-f147-11e9-a8bb-02420a010068",
       "next": "9b75334a-f144-11e9-a8bb-02420a010068",
       "previous": "1f3a817e-f147-11e9-a8bb-02420a010068"
      },
      {
       "current": "1f3a817e-f147-11e9-a8bb-02420a010068",
       "next": "9b75334a-f144-11e9-a8bb-02420a010068",
       "previous": "1f3a817e-f147-11e9-a8bb-02420a010068"
      },
      {
       "current": "1f3a817e-f147-11e9-a8bb-02420a010068",
       "next": "9b75334a-f144-11e9-a8bb-02420a010068",
       "previous": "1f3a817e-f147-11e9-a8bb-02420a010068"
      },
      {
       "current": "1f3a817e-f147-11e9-a8bb-02420a010068",
       "next": "9b75334a-f144-11e9-a8bb-02420a010068",
       "previous": "1f3a817e-f147-11e9-a8bb-02420a010068"
      },
      {
       "current": "1f3a817e-f147-11e9-a8bb-02420a010068",
       "next": "9b75334a-f144-11e9-a8bb-02420a010068",
       "previous": "1f3a817e-f147-11e9-a8bb-02420a010068"
      },
      {
       "current": "1f3a817e-f147-11e9-a8bb-02420a010068",
       "next": "9b75334a-f144-11e9-a8bb-02420a010068",
       "previous": "1f3a817e-f147-11e9-a8bb-02420a010068"
      },
      {
       "current": "1f3a817e-f147-11e9-a8bb-02420a010068",
       "next": "9b75334a-f144-11e9-a8bb-02420a010068",
       "previous": "3205dfe4-f14a-11e9-a8bb-02420a010068"
      },
      {
       "current": "1f3a817e-f147-11e9-a8bb-02420a010068",
       "next": "9b75334a-f144-11e9-a8bb-02420a010068",
       "previous": "3205dfe4-f14a-11e9-a8bb-02420a010068"
      },
      {
       "current": "1f3a817e-f147-11e9-a8bb-02420a010068",
       "next": "9b75334a-f144-11e9-a8bb-02420a010068",
       "previous": "798640ca-f14a-11e9-a8bb-02420a010068"
      },
      {
       "current": "1f3a817e-f147-11e9-a8bb-02420a010068",
       "next": "9b75334a-f144-11e9-a8bb-02420a010068",
       "previous": "798640ca-f14a-11e9-a8bb-02420a010068"
      },
      {
       "current": "1f3a817e-f147-11e9-a8bb-02420a010068",
       "next": "9b75334a-f144-11e9-a8bb-02420a010068",
       "previous": "798640ca-f14a-11e9-a8bb-02420a010068"
      },
      {
       "current": "1f3a817e-f147-11e9-a8bb-02420a010068",
       "next": "9b75334a-f144-11e9-a8bb-02420a010068",
       "previous": "798640ca-f14a-11e9-a8bb-02420a010068"
      },
      {
       "current": "1f3a817e-f147-11e9-a8bb-02420a010068",
       "next": "501fda9c-f14b-11e9-a8bb-02420a010068",
       "previous": "798640ca-f14a-11e9-a8bb-02420a010068"
      },
      {
       "current": "1f3a817e-f147-11e9-a8bb-02420a010068",
       "next": "501fda9c-f14b-11e9-a8bb-02420a010068",
       "previous": "798640ca-f14a-11e9-a8bb-02420a010068"
      },
      {
       "current": "1f3a817e-f147-11e9-a8bb-02420a010068",
       "next": "501fda9c-f14b-11e9-a8bb-02420a010068",
       "previous": "798640ca-f14a-11e9-a8bb-02420a010068"
      },
      {
       "current": "1f3a817e-f147-11e9-a8bb-02420a010068",
       "next": "501fda9c-f14b-11e9-a8bb-02420a010068",
       "previous": "798640ca-f14a-11e9-a8bb-02420a010068"
      },
      {
       "current": "1f3a817e-f147-11e9-a8bb-02420a010068",
       "next": "501fda9c-f14b-11e9-a8bb-02420a010068",
       "previous": "798640ca-f14a-11e9-a8bb-02420a010068"
      },
      {
       "current": "1f3a817e-f147-11e9-a8bb-02420a010068",
       "next": "501fda9c-f14b-11e9-a8bb-02420a010068",
       "previous": "798640ca-f14a-11e9-a8bb-02420a010068"
      },
      {
       "current": "1f3a817e-f147-11e9-a8bb-02420a010068",
       "next": "501fda9c-f14b-11e9-a8bb-02420a010068",
       "previous": "798640ca-f14a-11e9-a8bb-02420a010068"
      },
      {
       "current": "1f3a817e-f147-11e9-a8bb-02420a010068",
       "next": "501fda9c-f14b-11e9-a8bb-02420a010068",
       "previous": "798640ca-f14a-11e9-a8bb-02420a010068"
      },
      {
       "current": "1f3a817e-f147-11e9-a8bb-02420a010068",
       "next": "501fda9c-f14b-11e9-a8bb-02420a010068",
       "previous": "798640ca-f14a-11e9-a8bb-02420a010068"
      },
      {
       "current": "1f3a817e-f147-11e9-a8bb-02420a010068",
       "next": "501fda9c-f14b-11e9-a8bb-02420a010068",
       "previous": "798640ca-f14a-11e9-a8bb-02420a010068"
      },
      {
       "current": "1f3a817e-f147-11e9-a8bb-02420a010068",
       "next": "501fda9c-f14b-11e9-a8bb-02420a010068",
       "previous": "798640ca-f14a-11e9-a8bb-02420a010068"
      },
      {
       "current": "1f3a817e-f147-11e9-a8bb-02420a010068",
       "next": "501fda9c-f14b-11e9-a8bb-02420a010068",
       "previous": "798640ca-f14a-11e9-a8bb-02420a010068"
      },
      {
       "current": "1f3a817e-f147-11e9-a8bb-02420a010068",
       "next": "501fda9c-f14b-11e9-a8bb-02420a010068",
       "previous": "798640ca-f14a-11e9-a8bb-02420a010068"
      },
      {
       "current": "1f3a817e-f147-11e9-a8bb-02420a010068",
       "next": "501fda9c-f14b-11e9-a8bb-02420a010068",
       "previous": "798640ca-f14a-11e9-a8bb-02420a010068"
      },
      {
       "current": "1f3a817e-f147-11e9-a8bb-02420a010068",
       "next": "501fda9c-f14b-11e9-a8bb-02420a010068",
       "previous": "798640ca-f14a-11e9-a8bb-02420a010068"
      },
      {
       "current": "1f3a817e-f147-11e9-a8bb-02420a010068",
       "next": "501fda9c-f14b-11e9-a8bb-02420a010068",
       "previous": "798640ca-f14a-11e9-a8bb-02420a010068"
      },
      {
       "current": "1f3a817e-f147-11e9-a8bb-02420a010068",
       "next": "501fda9c-f14b-11e9-a8bb-02420a010068",
       "previous": "798640ca-f14a-11e9-a8bb-02420a010068"
      },
      {
       "current": "1f3a817e-f147-11e9-a8bb-02420a010068",
       "next": "501fda9c-f14b-11e9-a8bb-02420a010068",
       "previous": "798640ca-f14a-11e9-a8bb-02420a010068"
      },
      {
       "current": "1f3a817e-f147-11e9-a8bb-02420a010068",
       "next": "501fda9c-f14b-11e9-a8bb-02420a010068",
       "previous": "798640ca-f14a-11e9-a8bb-02420a010068"
      },
      {
       "current": "1f3a817e-f147-11e9-a8bb-02420a010068",
       "next": "501fda9c-f14b-11e9-a8bb-02420a010068",
       "previous": "798640ca-f14a-11e9-a8bb-02420a010068"
      },
      {
       "current": "1f3a817e-f147-11e9-a8bb-02420a010068",
       "next": "501fda9c-f14b-11e9-a8bb-02420a010068",
       "previous": "798640ca-f14a-11e9-a8bb-02420a010068"
      },
      {
       "current": "1f3a817e-f147-11e9-a8bb-02420a010068",
       "next": "501fda9c-f14b-11e9-a8bb-02420a010068",
       "previous": "798640ca-f14a-11e9-a8bb-02420a010068"
      },
      {
       "current": "1f3a817e-f147-11e9-a8bb-02420a010068",
       "next": "501fda9c-f14b-11e9-a8bb-02420a010068",
       "previous": "798640ca-f14a-11e9-a8bb-02420a010068"
      },
      {
       "current": "1f3a817e-f147-11e9-a8bb-02420a010068",
       "next": "501fda9c-f14b-11e9-a8bb-02420a010068",
       "previous": "798640ca-f14a-11e9-a8bb-02420a010068"
      },
      {
       "current": "1f3a817e-f147-11e9-a8bb-02420a010068",
       "next": "501fda9c-f14b-11e9-a8bb-02420a010068",
       "previous": "798640ca-f14a-11e9-a8bb-02420a010068"
      },
      {
       "current": "1f3a817e-f147-11e9-a8bb-02420a010068",
       "next": "501fda9c-f14b-11e9-a8bb-02420a010068",
       "previous": "798640ca-f14a-11e9-a8bb-02420a010068"
      },
      {
       "current": "1f3a817e-f147-11e9-a8bb-02420a010068",
       "next": "501fda9c-f14b-11e9-a8bb-02420a010068",
       "previous": "798640ca-f14a-11e9-a8bb-02420a010068"
      },
      {
       "current": "1f3a817e-f147-11e9-a8bb-02420a010068",
       "next": "501fda9c-f14b-11e9-a8bb-02420a010068",
       "previous": "798640ca-f14a-11e9-a8bb-02420a010068"
      },
      {
       "current": "1f3a817e-f147-11e9-a8bb-02420a010068",
       "next": "501fda9c-f14b-11e9-a8bb-02420a010068",
       "previous": "798640ca-f14a-11e9-a8bb-02420a010068"
      },
      {
       "current": "1f3a817e-f147-11e9-a8bb-02420a010068",
       "next": "501fda9c-f14b-11e9-a8bb-02420a010068",
       "previous": "798640ca-f14a-11e9-a8bb-02420a010068"
      },
      {
       "current": "1f3a817e-f147-11e9-a8bb-02420a010068",
       "next": "501fda9c-f14b-11e9-a8bb-02420a010068",
       "previous": "798640ca-f14a-11e9-a8bb-02420a010068"
      },
      {
       "current": "1f3a817e-f147-11e9-a8bb-02420a010068",
       "next": "501fda9c-f14b-11e9-a8bb-02420a010068",
       "previous": "798640ca-f14a-11e9-a8bb-02420a010068"
      },
      {
       "current": "1f3a817e-f147-11e9-a8bb-02420a010068",
       "next": "501fda9c-f14b-11e9-a8bb-02420a010068",
       "previous": "798640ca-f14a-11e9-a8bb-02420a010068"
      },
      {
       "current": "1f3a817e-f147-11e9-a8bb-02420a010068",
       "next": "501fda9c-f14b-11e9-a8bb-02420a010068",
       "previous": "798640ca-f14a-11e9-a8bb-02420a010068"
      },
      {
       "current": "1f3a817e-f147-11e9-a8bb-02420a010068",
       "next": "501fda9c-f14b-11e9-a8bb-02420a010068",
       "previous": "798640ca-f14a-11e9-a8bb-02420a010068"
      },
      {
       "current": "1f3a817e-f147-11e9-a8bb-02420a010068",
       "next": "501fda9c-f14b-11e9-a8bb-02420a010068",
       "previous": "798640ca-f14a-11e9-a8bb-02420a010068"
      },
      {
       "current": "1f3a817e-f147-11e9-a8bb-02420a010068",
       "next": "501fda9c-f14b-11e9-a8bb-02420a010068",
       "previous": "798640ca-f14a-11e9-a8bb-02420a010068"
      },
      {
       "current": "1f3a817e-f147-11e9-a8bb-02420a010068",
       "next": "501fda9c-f14b-11e9-a8bb-02420a010068",
       "previous": "798640ca-f14a-11e9-a8bb-02420a010068"
      },
      {
       "current": "1f3a817e-f147-11e9-a8bb-02420a010068",
       "next": "3205dfe4-f14a-11e9-a8bb-02420a010068",
       "previous": "ea78fc88-f149-11e9-a8bb-02420a010068"
      },
      {
       "current": "1f3a817e-f147-11e9-a8bb-02420a010068",
       "next": "73fd88d6-f5e9-11e9-a8bb-02420a010068",
       "previous": "ea78fc88-f149-11e9-a8bb-02420a010068"
      },
      {
       "current": "fb6093d4-f5eb-11e9-a374-02420a010068",
       "next": "fb609618-f5eb-11e9-a374-02420a010068",
       "previous": "fb60917c-f5eb-11e9-a374-02420a010068"
      }
     ],
     "next": "e2b2bb54-faba-11e9-8686-02420a010844",
     "previous": "e2b2b870-faba-11e9-8686-02420a010844"
    }
   },
   "source": [
    "○演習：次のセルで、半径$3m$の円の面積を計算しなさい。\n",
    "\n",
    "ただし、半径$r$の円の面積$s$は次の式で求まります。\n",
    "\n",
    " $\\LARGE s = \\pi r^{2}$"
   ]
  },
  {
   "cell_type": "code",
   "execution_count": null,
   "metadata": {
    "lc_cell_meme": {
     "current": "e2b2bb54-faba-11e9-8686-02420a010844",
     "history": [
      {
       "current": "73fd88d6-f5e9-11e9-a8bb-02420a010068",
       "next": "3205dfe4-f14a-11e9-a8bb-02420a010068",
       "previous": "1f3a817e-f147-11e9-a8bb-02420a010068"
      },
      {
       "current": "73fd88d6-f5e9-11e9-a8bb-02420a010068",
       "next": "84e2328c-f148-11e9-a8bb-02420a010068",
       "previous": "1f3a817e-f147-11e9-a8bb-02420a010068"
      },
      {
       "current": "fb609618-f5eb-11e9-a374-02420a010068",
       "next": "fb6097c6-f5eb-11e9-a374-02420a010068",
       "previous": "fb6093d4-f5eb-11e9-a374-02420a010068"
      }
     ],
     "next": "e2b2bcf8-faba-11e9-8686-02420a010844",
     "previous": "e2b2ba00-faba-11e9-8686-02420a010844"
    }
   },
   "outputs": [],
   "source": [
    "# 演習用入力欄\n"
   ]
  },
  {
   "cell_type": "markdown",
   "metadata": {
    "lc_cell_meme": {
     "current": "e2b2bcf8-faba-11e9-8686-02420a010844",
     "history": [
      {
       "current": "84e2328c-f148-11e9-a8bb-02420a010068",
       "next": "1f3a817e-f147-11e9-a8bb-02420a010068",
       "previous": "1f3a8534-f147-11e9-a8bb-02420a010068"
      },
      {
       "current": "84e2328c-f148-11e9-a8bb-02420a010068",
       "next": "798640ca-f14a-11e9-a8bb-02420a010068",
       "previous": "3205dfe4-f14a-11e9-a8bb-02420a010068"
      },
      {
       "current": "84e2328c-f148-11e9-a8bb-02420a010068",
       "next": "798640ca-f14a-11e9-a8bb-02420a010068",
       "previous": "73fd88d6-f5e9-11e9-a8bb-02420a010068"
      },
      {
       "current": "fb6097c6-f5eb-11e9-a374-02420a010068",
       "next": "fb609938-f5eb-11e9-a374-02420a010068",
       "previous": "fb609618-f5eb-11e9-a374-02420a010068"
      }
     ],
     "next": "e2b2be42-faba-11e9-8686-02420a010844",
     "previous": "e2b2bb54-faba-11e9-8686-02420a010844"
    }
   },
   "source": [
    "ヒント：答えは、$28.274333882308138 m^{2}$になります。"
   ]
  },
  {
   "cell_type": "markdown",
   "metadata": {
    "lc_cell_meme": {
     "current": "e2b2be42-faba-11e9-8686-02420a010844",
     "history": [
      {
       "current": "798640ca-f14a-11e9-a8bb-02420a010068",
       "next": "1f3a817e-f147-11e9-a8bb-02420a010068",
       "previous": "3205dfe4-f14a-11e9-a8bb-02420a010068"
      },
      {
       "current": "798640ca-f14a-11e9-a8bb-02420a010068",
       "next": "1f3a817e-f147-11e9-a8bb-02420a010068",
       "previous": "84e2328c-f148-11e9-a8bb-02420a010068"
      },
      {
       "current": "fb609938-f5eb-11e9-a374-02420a010068",
       "next": "fb609aa0-f5eb-11e9-a374-02420a010068",
       "previous": "fb6097c6-f5eb-11e9-a374-02420a010068"
      }
     ],
     "next": "e2b2bfc8-faba-11e9-8686-02420a010844",
     "previous": "e2b2bcf8-faba-11e9-8686-02420a010844"
    }
   },
   "source": [
    "### 指数関数"
   ]
  },
  {
   "cell_type": "markdown",
   "metadata": {
    "lc_cell_meme": {
     "current": "e2b2bfc8-faba-11e9-8686-02420a010844",
     "history": [
      {
       "current": "1f3a817e-f147-11e9-a8bb-02420a010068",
       "next": "1f3a8534-f147-11e9-a8bb-02420a010068",
       "previous": "9b75334a-f144-11e9-a8bb-02420a010068"
      },
      {
       "current": "1f3a817e-f147-11e9-a8bb-02420a010068",
       "next": "1f3a8534-f147-11e9-a8bb-02420a010068",
       "previous": "f5cc2a12-f147-11e9-a8bb-02420a010068"
      },
      {
       "current": "1f3a817e-f147-11e9-a8bb-02420a010068",
       "next": "1f3a8692-f147-11e9-a8bb-02420a010068",
       "previous": "1f3a8534-f147-11e9-a8bb-02420a010068"
      },
      {
       "current": "1f3a817e-f147-11e9-a8bb-02420a010068",
       "next": "1f3a8692-f147-11e9-a8bb-02420a010068",
       "previous": "1f3a8534-f147-11e9-a8bb-02420a010068"
      },
      {
       "current": "1f3a817e-f147-11e9-a8bb-02420a010068",
       "next": "9b75334a-f144-11e9-a8bb-02420a010068",
       "previous": "1f3a817e-f147-11e9-a8bb-02420a010068"
      },
      {
       "current": "1f3a817e-f147-11e9-a8bb-02420a010068",
       "next": "9b75334a-f144-11e9-a8bb-02420a010068",
       "previous": "1f3a817e-f147-11e9-a8bb-02420a010068"
      },
      {
       "current": "1f3a817e-f147-11e9-a8bb-02420a010068",
       "next": "9b75334a-f144-11e9-a8bb-02420a010068",
       "previous": "1f3a817e-f147-11e9-a8bb-02420a010068"
      },
      {
       "current": "1f3a817e-f147-11e9-a8bb-02420a010068",
       "next": "9b75334a-f144-11e9-a8bb-02420a010068",
       "previous": "1f3a817e-f147-11e9-a8bb-02420a010068"
      },
      {
       "current": "1f3a817e-f147-11e9-a8bb-02420a010068",
       "next": "9b75334a-f144-11e9-a8bb-02420a010068",
       "previous": "1f3a817e-f147-11e9-a8bb-02420a010068"
      },
      {
       "current": "1f3a817e-f147-11e9-a8bb-02420a010068",
       "next": "9b75334a-f144-11e9-a8bb-02420a010068",
       "previous": "1f3a817e-f147-11e9-a8bb-02420a010068"
      },
      {
       "current": "1f3a817e-f147-11e9-a8bb-02420a010068",
       "next": "9b75334a-f144-11e9-a8bb-02420a010068",
       "previous": "1f3a817e-f147-11e9-a8bb-02420a010068"
      },
      {
       "current": "1f3a817e-f147-11e9-a8bb-02420a010068",
       "next": "9b75334a-f144-11e9-a8bb-02420a010068",
       "previous": "3205dfe4-f14a-11e9-a8bb-02420a010068"
      },
      {
       "current": "1f3a817e-f147-11e9-a8bb-02420a010068",
       "next": "9b75334a-f144-11e9-a8bb-02420a010068",
       "previous": "3205dfe4-f14a-11e9-a8bb-02420a010068"
      },
      {
       "current": "1f3a817e-f147-11e9-a8bb-02420a010068",
       "next": "9b75334a-f144-11e9-a8bb-02420a010068",
       "previous": "798640ca-f14a-11e9-a8bb-02420a010068"
      },
      {
       "current": "1f3a817e-f147-11e9-a8bb-02420a010068",
       "next": "9b75334a-f144-11e9-a8bb-02420a010068",
       "previous": "798640ca-f14a-11e9-a8bb-02420a010068"
      },
      {
       "current": "1f3a817e-f147-11e9-a8bb-02420a010068",
       "next": "9b75334a-f144-11e9-a8bb-02420a010068",
       "previous": "798640ca-f14a-11e9-a8bb-02420a010068"
      },
      {
       "current": "1f3a817e-f147-11e9-a8bb-02420a010068",
       "next": "9b75334a-f144-11e9-a8bb-02420a010068",
       "previous": "798640ca-f14a-11e9-a8bb-02420a010068"
      },
      {
       "current": "1f3a817e-f147-11e9-a8bb-02420a010068",
       "next": "501fda9c-f14b-11e9-a8bb-02420a010068",
       "previous": "798640ca-f14a-11e9-a8bb-02420a010068"
      },
      {
       "current": "1f3a817e-f147-11e9-a8bb-02420a010068",
       "next": "501fda9c-f14b-11e9-a8bb-02420a010068",
       "previous": "798640ca-f14a-11e9-a8bb-02420a010068"
      },
      {
       "current": "1f3a817e-f147-11e9-a8bb-02420a010068",
       "next": "501fda9c-f14b-11e9-a8bb-02420a010068",
       "previous": "798640ca-f14a-11e9-a8bb-02420a010068"
      },
      {
       "current": "1f3a817e-f147-11e9-a8bb-02420a010068",
       "next": "501fda9c-f14b-11e9-a8bb-02420a010068",
       "previous": "798640ca-f14a-11e9-a8bb-02420a010068"
      },
      {
       "current": "1f3a817e-f147-11e9-a8bb-02420a010068",
       "next": "501fda9c-f14b-11e9-a8bb-02420a010068",
       "previous": "798640ca-f14a-11e9-a8bb-02420a010068"
      },
      {
       "current": "1f3a817e-f147-11e9-a8bb-02420a010068",
       "next": "501fda9c-f14b-11e9-a8bb-02420a010068",
       "previous": "798640ca-f14a-11e9-a8bb-02420a010068"
      },
      {
       "current": "1f3a817e-f147-11e9-a8bb-02420a010068",
       "next": "501fda9c-f14b-11e9-a8bb-02420a010068",
       "previous": "798640ca-f14a-11e9-a8bb-02420a010068"
      },
      {
       "current": "1f3a817e-f147-11e9-a8bb-02420a010068",
       "next": "501fda9c-f14b-11e9-a8bb-02420a010068",
       "previous": "798640ca-f14a-11e9-a8bb-02420a010068"
      },
      {
       "current": "1f3a817e-f147-11e9-a8bb-02420a010068",
       "next": "501fda9c-f14b-11e9-a8bb-02420a010068",
       "previous": "798640ca-f14a-11e9-a8bb-02420a010068"
      },
      {
       "current": "1f3a817e-f147-11e9-a8bb-02420a010068",
       "next": "501fda9c-f14b-11e9-a8bb-02420a010068",
       "previous": "798640ca-f14a-11e9-a8bb-02420a010068"
      },
      {
       "current": "1f3a817e-f147-11e9-a8bb-02420a010068",
       "next": "501fda9c-f14b-11e9-a8bb-02420a010068",
       "previous": "798640ca-f14a-11e9-a8bb-02420a010068"
      },
      {
       "current": "1f3a817e-f147-11e9-a8bb-02420a010068",
       "next": "501fda9c-f14b-11e9-a8bb-02420a010068",
       "previous": "798640ca-f14a-11e9-a8bb-02420a010068"
      },
      {
       "current": "1f3a817e-f147-11e9-a8bb-02420a010068",
       "next": "501fda9c-f14b-11e9-a8bb-02420a010068",
       "previous": "798640ca-f14a-11e9-a8bb-02420a010068"
      },
      {
       "current": "1f3a817e-f147-11e9-a8bb-02420a010068",
       "next": "501fda9c-f14b-11e9-a8bb-02420a010068",
       "previous": "798640ca-f14a-11e9-a8bb-02420a010068"
      },
      {
       "current": "1f3a817e-f147-11e9-a8bb-02420a010068",
       "next": "501fda9c-f14b-11e9-a8bb-02420a010068",
       "previous": "798640ca-f14a-11e9-a8bb-02420a010068"
      },
      {
       "current": "1f3a817e-f147-11e9-a8bb-02420a010068",
       "next": "501fda9c-f14b-11e9-a8bb-02420a010068",
       "previous": "798640ca-f14a-11e9-a8bb-02420a010068"
      },
      {
       "current": "1f3a817e-f147-11e9-a8bb-02420a010068",
       "next": "501fda9c-f14b-11e9-a8bb-02420a010068",
       "previous": "798640ca-f14a-11e9-a8bb-02420a010068"
      },
      {
       "current": "1f3a817e-f147-11e9-a8bb-02420a010068",
       "next": "501fda9c-f14b-11e9-a8bb-02420a010068",
       "previous": "798640ca-f14a-11e9-a8bb-02420a010068"
      },
      {
       "current": "1f3a817e-f147-11e9-a8bb-02420a010068",
       "next": "501fda9c-f14b-11e9-a8bb-02420a010068",
       "previous": "798640ca-f14a-11e9-a8bb-02420a010068"
      },
      {
       "current": "1f3a817e-f147-11e9-a8bb-02420a010068",
       "next": "501fda9c-f14b-11e9-a8bb-02420a010068",
       "previous": "798640ca-f14a-11e9-a8bb-02420a010068"
      },
      {
       "current": "1f3a817e-f147-11e9-a8bb-02420a010068",
       "next": "501fda9c-f14b-11e9-a8bb-02420a010068",
       "previous": "798640ca-f14a-11e9-a8bb-02420a010068"
      },
      {
       "current": "1f3a817e-f147-11e9-a8bb-02420a010068",
       "next": "501fda9c-f14b-11e9-a8bb-02420a010068",
       "previous": "798640ca-f14a-11e9-a8bb-02420a010068"
      },
      {
       "current": "1f3a817e-f147-11e9-a8bb-02420a010068",
       "next": "501fda9c-f14b-11e9-a8bb-02420a010068",
       "previous": "798640ca-f14a-11e9-a8bb-02420a010068"
      },
      {
       "current": "1f3a817e-f147-11e9-a8bb-02420a010068",
       "next": "501fda9c-f14b-11e9-a8bb-02420a010068",
       "previous": "798640ca-f14a-11e9-a8bb-02420a010068"
      },
      {
       "current": "1f3a817e-f147-11e9-a8bb-02420a010068",
       "next": "501fda9c-f14b-11e9-a8bb-02420a010068",
       "previous": "798640ca-f14a-11e9-a8bb-02420a010068"
      },
      {
       "current": "1f3a817e-f147-11e9-a8bb-02420a010068",
       "next": "501fda9c-f14b-11e9-a8bb-02420a010068",
       "previous": "798640ca-f14a-11e9-a8bb-02420a010068"
      },
      {
       "current": "1f3a817e-f147-11e9-a8bb-02420a010068",
       "next": "501fda9c-f14b-11e9-a8bb-02420a010068",
       "previous": "798640ca-f14a-11e9-a8bb-02420a010068"
      },
      {
       "current": "1f3a817e-f147-11e9-a8bb-02420a010068",
       "next": "501fda9c-f14b-11e9-a8bb-02420a010068",
       "previous": "798640ca-f14a-11e9-a8bb-02420a010068"
      },
      {
       "current": "1f3a817e-f147-11e9-a8bb-02420a010068",
       "next": "501fda9c-f14b-11e9-a8bb-02420a010068",
       "previous": "798640ca-f14a-11e9-a8bb-02420a010068"
      },
      {
       "current": "1f3a817e-f147-11e9-a8bb-02420a010068",
       "next": "501fda9c-f14b-11e9-a8bb-02420a010068",
       "previous": "798640ca-f14a-11e9-a8bb-02420a010068"
      },
      {
       "current": "1f3a817e-f147-11e9-a8bb-02420a010068",
       "next": "501fda9c-f14b-11e9-a8bb-02420a010068",
       "previous": "798640ca-f14a-11e9-a8bb-02420a010068"
      },
      {
       "current": "1f3a817e-f147-11e9-a8bb-02420a010068",
       "next": "501fda9c-f14b-11e9-a8bb-02420a010068",
       "previous": "798640ca-f14a-11e9-a8bb-02420a010068"
      },
      {
       "current": "1f3a817e-f147-11e9-a8bb-02420a010068",
       "next": "501fda9c-f14b-11e9-a8bb-02420a010068",
       "previous": "798640ca-f14a-11e9-a8bb-02420a010068"
      },
      {
       "current": "1f3a817e-f147-11e9-a8bb-02420a010068",
       "next": "501fda9c-f14b-11e9-a8bb-02420a010068",
       "previous": "798640ca-f14a-11e9-a8bb-02420a010068"
      },
      {
       "current": "1f3a817e-f147-11e9-a8bb-02420a010068",
       "next": "501fda9c-f14b-11e9-a8bb-02420a010068",
       "previous": "798640ca-f14a-11e9-a8bb-02420a010068"
      },
      {
       "current": "1f3a817e-f147-11e9-a8bb-02420a010068",
       "next": "501fda9c-f14b-11e9-a8bb-02420a010068",
       "previous": "798640ca-f14a-11e9-a8bb-02420a010068"
      },
      {
       "current": "1f3a817e-f147-11e9-a8bb-02420a010068",
       "next": "501fda9c-f14b-11e9-a8bb-02420a010068",
       "previous": "798640ca-f14a-11e9-a8bb-02420a010068"
      },
      {
       "current": "1f3a817e-f147-11e9-a8bb-02420a010068",
       "next": "501fda9c-f14b-11e9-a8bb-02420a010068",
       "previous": "798640ca-f14a-11e9-a8bb-02420a010068"
      },
      {
       "current": "1f3a817e-f147-11e9-a8bb-02420a010068",
       "next": "bb7f4140-f5e9-11e9-a8bb-02420a010068",
       "previous": "798640ca-f14a-11e9-a8bb-02420a010068"
      },
      {
       "current": "fb609aa0-f5eb-11e9-a374-02420a010068",
       "next": "fb609c08-f5eb-11e9-a374-02420a010068",
       "previous": "fb609938-f5eb-11e9-a374-02420a010068"
      }
     ],
     "next": "e2b2c144-faba-11e9-8686-02420a010844",
     "previous": "e2b2be42-faba-11e9-8686-02420a010844"
    }
   },
   "source": [
    "○演習：次のセルで、以下の式を計算しなさい。\n",
    "\n",
    " $\\LARGE e ^{32.5}$"
   ]
  },
  {
   "cell_type": "code",
   "execution_count": null,
   "metadata": {
    "lc_cell_meme": {
     "current": "e2b2c144-faba-11e9-8686-02420a010844",
     "history": [
      {
       "current": "bb7f4140-f5e9-11e9-a8bb-02420a010068",
       "next": "501fda9c-f14b-11e9-a8bb-02420a010068",
       "previous": "1f3a817e-f147-11e9-a8bb-02420a010068"
      },
      {
       "current": "bb7f4140-f5e9-11e9-a8bb-02420a010068",
       "next": "84e2328c-f148-11e9-a8bb-02420a010068",
       "previous": "1f3a817e-f147-11e9-a8bb-02420a010068"
      },
      {
       "current": "fb609c08-f5eb-11e9-a374-02420a010068",
       "next": "fb609d98-f5eb-11e9-a374-02420a010068",
       "previous": "fb609aa0-f5eb-11e9-a374-02420a010068"
      }
     ],
     "next": "e2b2c2de-faba-11e9-8686-02420a010844",
     "previous": "e2b2bfc8-faba-11e9-8686-02420a010844"
    }
   },
   "outputs": [],
   "source": [
    "# 演習用入力欄\n"
   ]
  },
  {
   "cell_type": "markdown",
   "metadata": {
    "lc_cell_meme": {
     "current": "e2b2c2de-faba-11e9-8686-02420a010844",
     "history": [
      {
       "current": "84e2328c-f148-11e9-a8bb-02420a010068",
       "next": "1f3a817e-f147-11e9-a8bb-02420a010068",
       "previous": "1f3a8534-f147-11e9-a8bb-02420a010068"
      },
      {
       "current": "84e2328c-f148-11e9-a8bb-02420a010068",
       "next": "798640ca-f14a-11e9-a8bb-02420a010068",
       "previous": "3205dfe4-f14a-11e9-a8bb-02420a010068"
      },
      {
       "current": "84e2328c-f148-11e9-a8bb-02420a010068",
       "next": "9b75334a-f144-11e9-a8bb-02420a010068",
       "previous": "501fda9c-f14b-11e9-a8bb-02420a010068"
      },
      {
       "current": "84e2328c-f148-11e9-a8bb-02420a010068",
       "next": "9b75334a-f144-11e9-a8bb-02420a010068",
       "previous": "bb7f4140-f5e9-11e9-a8bb-02420a010068"
      },
      {
       "current": "fb609d98-f5eb-11e9-a374-02420a010068",
       "next": "fb609f00-f5eb-11e9-a374-02420a010068",
       "previous": "fb609c08-f5eb-11e9-a374-02420a010068"
      }
     ],
     "next": "e2b2c464-faba-11e9-8686-02420a010844",
     "previous": "e2b2c144-faba-11e9-8686-02420a010844"
    }
   },
   "source": [
    "ヒント：答えは、130187912050632.94になります。"
   ]
  },
  {
   "cell_type": "markdown",
   "metadata": {
    "lc_cell_meme": {
     "current": "e2b2c464-faba-11e9-8686-02420a010844",
     "history": [
      {
       "current": "9b75334a-f144-11e9-a8bb-02420a010068",
       "next": "53eefc90-f144-11e9-a8bb-02420a010068",
       "previous": "53eefb28-f144-11e9-a8bb-02420a010068"
      },
      {
       "current": "9b75334a-f144-11e9-a8bb-02420a010068",
       "next": "53eefc90-f144-11e9-a8bb-02420a010068",
       "previous": "9b75334a-f144-11e9-a8bb-02420a010068"
      },
      {
       "current": "9b75334a-f144-11e9-a8bb-02420a010068",
       "next": "53eefc90-f144-11e9-a8bb-02420a010068",
       "previous": "1f3a8692-f147-11e9-a8bb-02420a010068"
      },
      {
       "current": "9b75334a-f144-11e9-a8bb-02420a010068",
       "next": "53eefc90-f144-11e9-a8bb-02420a010068",
       "previous": "1f3a817e-f147-11e9-a8bb-02420a010068"
      },
      {
       "current": "9b75334a-f144-11e9-a8bb-02420a010068",
       "next": "53eefc90-f144-11e9-a8bb-02420a010068",
       "previous": "84e2328c-f148-11e9-a8bb-02420a010068"
      },
      {
       "current": "9b75334a-f144-11e9-a8bb-02420a010068",
       "next": "af9f146c-f3c9-11e9-a8bb-02420a010068",
       "previous": "84e2328c-f148-11e9-a8bb-02420a010068"
      },
      {
       "current": "fb609f00-f5eb-11e9-a374-02420a010068",
       "next": "fb60a072-f5eb-11e9-a374-02420a010068",
       "previous": "fb609d98-f5eb-11e9-a374-02420a010068"
      }
     ],
     "next": "e2b2c5b8-faba-11e9-8686-02420a010844",
     "previous": "e2b2c2de-faba-11e9-8686-02420a010844"
    }
   },
   "source": [
    "## 文字列"
   ]
  },
  {
   "cell_type": "markdown",
   "metadata": {
    "lc_cell_meme": {
     "current": "e2b2c5b8-faba-11e9-8686-02420a010844",
     "history": [
      {
       "current": "af9f146c-f3c9-11e9-a8bb-02420a010068",
       "next": "53eefc90-f144-11e9-a8bb-02420a010068",
       "previous": "9b75334a-f144-11e9-a8bb-02420a010068"
      },
      {
       "current": "fb60a072-f5eb-11e9-a374-02420a010068",
       "next": "fb60a1da-f5eb-11e9-a374-02420a010068",
       "previous": "fb609f00-f5eb-11e9-a374-02420a010068"
      }
     ],
     "next": "e2b2c73e-faba-11e9-8686-02420a010844",
     "previous": "e2b2c464-faba-11e9-8686-02420a010844"
    }
   },
   "source": [
    "### 文字列の計算1"
   ]
  },
  {
   "cell_type": "markdown",
   "metadata": {
    "lc_cell_meme": {
     "current": "e2b2c73e-faba-11e9-8686-02420a010844",
     "history": [
      {
       "current": "53eefc90-f144-11e9-a8bb-02420a010068",
       "next": "0c6caf52-f144-11e9-a8bb-02420a010068",
       "previous": "53eefb28-f144-11e9-a8bb-02420a010068"
      },
      {
       "current": "53eefc90-f144-11e9-a8bb-02420a010068",
       "next": "0c6caf52-f144-11e9-a8bb-02420a010068",
       "previous": "9b75334a-f144-11e9-a8bb-02420a010068"
      },
      {
       "current": "53eefc90-f144-11e9-a8bb-02420a010068",
       "next": "e305db60-f144-11e9-a8bb-02420a010068",
       "previous": "9b75334a-f144-11e9-a8bb-02420a010068"
      },
      {
       "current": "53eefc90-f144-11e9-a8bb-02420a010068",
       "next": "e305db60-f144-11e9-a8bb-02420a010068",
       "previous": "af9f146c-f3c9-11e9-a8bb-02420a010068"
      },
      {
       "current": "53eefc90-f144-11e9-a8bb-02420a010068",
       "next": "bb7f4492-f5e9-11e9-a8bb-02420a010068",
       "previous": "af9f146c-f3c9-11e9-a8bb-02420a010068"
      },
      {
       "current": "fb60a1da-f5eb-11e9-a374-02420a010068",
       "next": "fb60a342-f5eb-11e9-a374-02420a010068",
       "previous": "fb60a072-f5eb-11e9-a374-02420a010068"
      }
     ],
     "next": "e2b2c8b0-faba-11e9-8686-02420a010844",
     "previous": "e2b2c5b8-faba-11e9-8686-02420a010844"
    }
   },
   "source": [
    "○演習：次のセルで、変数a,b,cを使って、以下の計算をしなさい。\n",
    "\n",
    "- aに数字として学籍番号を入れる\n",
    "- bに自分の名前をいれる\n",
    "- cにaとbを文字列として連結し、cに代入する\n",
    "- cを評価する\n"
   ]
  },
  {
   "cell_type": "code",
   "execution_count": null,
   "metadata": {
    "lc_cell_meme": {
     "current": "e2b2c8b0-faba-11e9-8686-02420a010844",
     "history": [
      {
       "current": "bb7f4492-f5e9-11e9-a8bb-02420a010068",
       "next": "e305db60-f144-11e9-a8bb-02420a010068",
       "previous": "53eefc90-f144-11e9-a8bb-02420a010068"
      },
      {
       "current": "bb7f4492-f5e9-11e9-a8bb-02420a010068",
       "next": "f71e8c46-f3c9-11e9-a8bb-02420a010068",
       "previous": "53eefc90-f144-11e9-a8bb-02420a010068"
      },
      {
       "current": "fb60a342-f5eb-11e9-a374-02420a010068",
       "next": "fb60a4b4-f5eb-11e9-a374-02420a010068",
       "previous": "fb60a1da-f5eb-11e9-a374-02420a010068"
      }
     ],
     "next": "e2b2ca22-faba-11e9-8686-02420a010844",
     "previous": "e2b2c73e-faba-11e9-8686-02420a010844"
    }
   },
   "outputs": [],
   "source": [
    "# 演習用入力欄\n"
   ]
  },
  {
   "cell_type": "markdown",
   "metadata": {
    "lc_cell_meme": {
     "current": "e2b2ca22-faba-11e9-8686-02420a010844",
     "history": [
      {
       "current": "f71e8c46-f3c9-11e9-a8bb-02420a010068",
       "next": "af9f1822-f3c9-11e9-a8bb-02420a010068",
       "previous": "e305db60-f144-11e9-a8bb-02420a010068"
      },
      {
       "current": "f71e8c46-f3c9-11e9-a8bb-02420a010068",
       "next": "af9f1822-f3c9-11e9-a8bb-02420a010068",
       "previous": "bb7f4492-f5e9-11e9-a8bb-02420a010068"
      },
      {
       "current": "fb60a4b4-f5eb-11e9-a374-02420a010068",
       "next": "fb60a626-f5eb-11e9-a374-02420a010068",
       "previous": "fb60a342-f5eb-11e9-a374-02420a010068"
      }
     ],
     "next": "e2b2cb9e-faba-11e9-8686-02420a010844",
     "previous": "e2b2c8b0-faba-11e9-8686-02420a010844"
    }
   },
   "source": [
    "ヒント：aは数字なので、文字列に変換してからbと連結すること"
   ]
  },
  {
   "cell_type": "markdown",
   "metadata": {
    "lc_cell_meme": {
     "current": "e2b2cb9e-faba-11e9-8686-02420a010844",
     "history": [
      {
       "current": "af9f1822-f3c9-11e9-a8bb-02420a010068",
       "next": "53eefc90-f144-11e9-a8bb-02420a010068",
       "previous": "e305db60-f144-11e9-a8bb-02420a010068"
      },
      {
       "current": "af9f1822-f3c9-11e9-a8bb-02420a010068",
       "next": "53eefc90-f144-11e9-a8bb-02420a010068",
       "previous": "f71e8c46-f3c9-11e9-a8bb-02420a010068"
      },
      {
       "current": "fb60a626-f5eb-11e9-a374-02420a010068",
       "next": "fb60a78e-f5eb-11e9-a374-02420a010068",
       "previous": "fb60a4b4-f5eb-11e9-a374-02420a010068"
      }
     ],
     "next": "e2b2ce46-faba-11e9-8686-02420a010844",
     "previous": "e2b2ca22-faba-11e9-8686-02420a010844"
    }
   },
   "source": [
    "## 文字列の計算2"
   ]
  },
  {
   "cell_type": "markdown",
   "metadata": {
    "lc_cell_meme": {
     "current": "e2b2ce46-faba-11e9-8686-02420a010844",
     "history": [
      {
       "current": "53eefc90-f144-11e9-a8bb-02420a010068",
       "next": "0c6caf52-f144-11e9-a8bb-02420a010068",
       "previous": "53eefb28-f144-11e9-a8bb-02420a010068"
      },
      {
       "current": "53eefc90-f144-11e9-a8bb-02420a010068",
       "next": "0c6caf52-f144-11e9-a8bb-02420a010068",
       "previous": "9b75334a-f144-11e9-a8bb-02420a010068"
      },
      {
       "current": "53eefc90-f144-11e9-a8bb-02420a010068",
       "next": "e305db60-f144-11e9-a8bb-02420a010068",
       "previous": "9b75334a-f144-11e9-a8bb-02420a010068"
      },
      {
       "current": "53eefc90-f144-11e9-a8bb-02420a010068",
       "next": "e305db60-f144-11e9-a8bb-02420a010068",
       "previous": "af9f1822-f3c9-11e9-a8bb-02420a010068"
      },
      {
       "current": "53eefc90-f144-11e9-a8bb-02420a010068",
       "next": "bb7f45c8-f5e9-11e9-a8bb-02420a010068",
       "previous": "af9f1822-f3c9-11e9-a8bb-02420a010068"
      },
      {
       "current": "fb60a78e-f5eb-11e9-a374-02420a010068",
       "next": "fb60a8ce-f5eb-11e9-a374-02420a010068",
       "previous": "fb60a626-f5eb-11e9-a374-02420a010068"
      }
     ],
     "next": "e2b2cffe-faba-11e9-8686-02420a010844",
     "previous": "e2b2cb9e-faba-11e9-8686-02420a010844"
    }
   },
   "source": [
    "○演習：次のセルで、変数a,b,cを使って、以下の計算をしなさい。\n",
    "\n",
    "- aに文字列として学籍番号を入れる\n",
    "- bに自分の名前をいれる\n",
    "- cにaとbを文字列としてつなげて、cに代入する\n",
    "- cを評価する\n"
   ]
  },
  {
   "cell_type": "code",
   "execution_count": null,
   "metadata": {
    "lc_cell_meme": {
     "current": "e2b2cffe-faba-11e9-8686-02420a010844",
     "history": [
      {
       "current": "bb7f45c8-f5e9-11e9-a8bb-02420a010068",
       "next": "e305db60-f144-11e9-a8bb-02420a010068",
       "previous": "53eefc90-f144-11e9-a8bb-02420a010068"
      },
      {
       "current": "bb7f45c8-f5e9-11e9-a8bb-02420a010068",
       "next": "f71e8c46-f3c9-11e9-a8bb-02420a010068",
       "previous": "53eefc90-f144-11e9-a8bb-02420a010068"
      },
      {
       "current": "fb60a8ce-f5eb-11e9-a374-02420a010068",
       "next": "fb60aa40-f5eb-11e9-a374-02420a010068",
       "previous": "fb60a78e-f5eb-11e9-a374-02420a010068"
      }
     ],
     "next": "e2b2d2e2-faba-11e9-8686-02420a010844",
     "previous": "e2b2ce46-faba-11e9-8686-02420a010844"
    }
   },
   "outputs": [],
   "source": [
    "# 演習用入力欄\n"
   ]
  },
  {
   "cell_type": "markdown",
   "metadata": {
    "lc_cell_meme": {
     "current": "e2b2d2e2-faba-11e9-8686-02420a010844",
     "history": [
      {
       "current": "f71e8c46-f3c9-11e9-a8bb-02420a010068",
       "next": "af9f1822-f3c9-11e9-a8bb-02420a010068",
       "previous": "e305db60-f144-11e9-a8bb-02420a010068"
      },
      {
       "current": "f71e8c46-f3c9-11e9-a8bb-02420a010068",
       "next": "9b75334a-f144-11e9-a8bb-02420a010068",
       "previous": "e305db60-f144-11e9-a8bb-02420a010068"
      },
      {
       "current": "f71e8c46-f3c9-11e9-a8bb-02420a010068",
       "next": "9b75334a-f144-11e9-a8bb-02420a010068",
       "previous": "bb7f45c8-f5e9-11e9-a8bb-02420a010068"
      },
      {
       "current": "fb60aa40-f5eb-11e9-a374-02420a010068",
       "next": "fb60ab80-f5eb-11e9-a374-02420a010068",
       "previous": "fb60a8ce-f5eb-11e9-a374-02420a010068"
      }
     ],
     "next": "e2b2d440-faba-11e9-8686-02420a010844",
     "previous": "e2b2cffe-faba-11e9-8686-02420a010844"
    }
   },
   "source": [
    "ヒント：aは文字列なので、変換せずにそのままbと連結すること"
   ]
  },
  {
   "cell_type": "markdown",
   "metadata": {
    "lc_cell_meme": {
     "current": "e2b2d440-faba-11e9-8686-02420a010844",
     "history": [
      {
       "current": "9b75334a-f144-11e9-a8bb-02420a010068",
       "next": "53eefc90-f144-11e9-a8bb-02420a010068",
       "previous": "53eefb28-f144-11e9-a8bb-02420a010068"
      },
      {
       "current": "9b75334a-f144-11e9-a8bb-02420a010068",
       "next": "e305dc8c-f144-11e9-a8bb-02420a010068",
       "previous": "e305db60-f144-11e9-a8bb-02420a010068"
      },
      {
       "current": "9b75334a-f144-11e9-a8bb-02420a010068",
       "next": "9b75334a-f144-11e9-a8bb-02420a010068",
       "previous": "e305db60-f144-11e9-a8bb-02420a010068"
      },
      {
       "current": "9b75334a-f144-11e9-a8bb-02420a010068",
       "next": "9b75334a-f144-11e9-a8bb-02420a010068",
       "previous": "f71e8c46-f3c9-11e9-a8bb-02420a010068"
      },
      {
       "current": "9b75334a-f144-11e9-a8bb-02420a010068",
       "next": "1337a826-f182-11e9-a8bb-02420a010068",
       "previous": "f71e8c46-f3c9-11e9-a8bb-02420a010068"
      },
      {
       "current": "fb60ab80-f5eb-11e9-a374-02420a010068",
       "next": "fb60ace8-f5eb-11e9-a374-02420a010068",
       "previous": "fb60aa40-f5eb-11e9-a374-02420a010068"
      }
     ],
     "next": "e2b2d738-faba-11e9-8686-02420a010844",
     "previous": "e2b2d2e2-faba-11e9-8686-02420a010844"
    }
   },
   "source": [
    "## 変数"
   ]
  },
  {
   "cell_type": "markdown",
   "metadata": {
    "lc_cell_meme": {
     "current": "e2b2d738-faba-11e9-8686-02420a010844",
     "history": [
      {
       "current": "1337a826-f182-11e9-a8bb-02420a010068",
       "next": "9b75334a-f144-11e9-a8bb-02420a010068",
       "previous": "9b75334a-f144-11e9-a8bb-02420a010068"
      },
      {
       "current": "1337a826-f182-11e9-a8bb-02420a010068",
       "next": "0c6caf52-f144-11e9-a8bb-02420a010068",
       "previous": "9b75334a-f144-11e9-a8bb-02420a010068"
      },
      {
       "current": "1337a826-f182-11e9-a8bb-02420a010068",
       "next": "0c6caf52-f144-11e9-a8bb-02420a010068",
       "previous": "9b75334a-f144-11e9-a8bb-02420a010068"
      },
      {
       "current": "1337a826-f182-11e9-a8bb-02420a010068",
       "next": "0c6caf52-f144-11e9-a8bb-02420a010068",
       "previous": "9b75334a-f144-11e9-a8bb-02420a010068"
      },
      {
       "current": "1337a826-f182-11e9-a8bb-02420a010068",
       "next": "0c6caf52-f144-11e9-a8bb-02420a010068",
       "previous": "9b75334a-f144-11e9-a8bb-02420a010068"
      },
      {
       "current": "1337a826-f182-11e9-a8bb-02420a010068",
       "next": "0c6caf52-f144-11e9-a8bb-02420a010068",
       "previous": "9b75334a-f144-11e9-a8bb-02420a010068"
      },
      {
       "current": "1337a826-f182-11e9-a8bb-02420a010068",
       "next": "0c6caf52-f144-11e9-a8bb-02420a010068",
       "previous": "9b75334a-f144-11e9-a8bb-02420a010068"
      },
      {
       "current": "1337a826-f182-11e9-a8bb-02420a010068",
       "next": "0c6caf52-f144-11e9-a8bb-02420a010068",
       "previous": "9b75334a-f144-11e9-a8bb-02420a010068"
      },
      {
       "current": "1337a826-f182-11e9-a8bb-02420a010068",
       "next": "0c6caf52-f144-11e9-a8bb-02420a010068",
       "previous": "9b75334a-f144-11e9-a8bb-02420a010068"
      },
      {
       "current": "1337a826-f182-11e9-a8bb-02420a010068",
       "next": "0c6caf52-f144-11e9-a8bb-02420a010068",
       "previous": "9b75334a-f144-11e9-a8bb-02420a010068"
      },
      {
       "current": "1337a826-f182-11e9-a8bb-02420a010068",
       "next": "0c6caf52-f144-11e9-a8bb-02420a010068",
       "previous": "9b75334a-f144-11e9-a8bb-02420a010068"
      },
      {
       "current": "1337a826-f182-11e9-a8bb-02420a010068",
       "next": "0c6caf52-f144-11e9-a8bb-02420a010068",
       "previous": "9b75334a-f144-11e9-a8bb-02420a010068"
      },
      {
       "current": "1337a826-f182-11e9-a8bb-02420a010068",
       "next": "9b75334a-f144-11e9-a8bb-02420a010068",
       "previous": "9b75334a-f144-11e9-a8bb-02420a010068"
      },
      {
       "current": "fb60ace8-f5eb-11e9-a374-02420a010068",
       "next": "fb60ae50-f5eb-11e9-a374-02420a010068",
       "previous": "fb60ab80-f5eb-11e9-a374-02420a010068"
      }
     ],
     "next": "e2b2d918-faba-11e9-8686-02420a010844",
     "previous": "e2b2d440-faba-11e9-8686-02420a010844"
    }
   },
   "source": [
    "略"
   ]
  },
  {
   "cell_type": "markdown",
   "metadata": {
    "lc_cell_meme": {
     "current": "e2b2d918-faba-11e9-8686-02420a010844",
     "history": [
      {
       "current": "9b75334a-f144-11e9-a8bb-02420a010068",
       "next": "53eefc90-f144-11e9-a8bb-02420a010068",
       "previous": "53eefb28-f144-11e9-a8bb-02420a010068"
      },
      {
       "current": "9b75334a-f144-11e9-a8bb-02420a010068",
       "next": "e305dc8c-f144-11e9-a8bb-02420a010068",
       "previous": "e305db60-f144-11e9-a8bb-02420a010068"
      },
      {
       "current": "9b75334a-f144-11e9-a8bb-02420a010068",
       "next": "e305dc8c-f144-11e9-a8bb-02420a010068",
       "previous": "9b75334a-f144-11e9-a8bb-02420a010068"
      },
      {
       "current": "9b75334a-f144-11e9-a8bb-02420a010068",
       "next": "1337a826-f182-11e9-a8bb-02420a010068",
       "previous": "1337a826-f182-11e9-a8bb-02420a010068"
      },
      {
       "current": "fb60ae50-f5eb-11e9-a374-02420a010068",
       "next": "fb60afea-f5eb-11e9-a374-02420a010068",
       "previous": "fb60ace8-f5eb-11e9-a374-02420a010068"
      }
     ],
     "next": "e2b2db66-faba-11e9-8686-02420a010844",
     "previous": "e2b2d738-faba-11e9-8686-02420a010844"
    }
   },
   "source": [
    "## 表示関数"
   ]
  },
  {
   "cell_type": "markdown",
   "metadata": {
    "lc_cell_meme": {
     "current": "e2b2db66-faba-11e9-8686-02420a010844",
     "history": [
      {
       "current": "1337a826-f182-11e9-a8bb-02420a010068",
       "next": "9b75334a-f144-11e9-a8bb-02420a010068",
       "previous": "9b75334a-f144-11e9-a8bb-02420a010068"
      },
      {
       "current": "1337a826-f182-11e9-a8bb-02420a010068",
       "next": "0c6caf52-f144-11e9-a8bb-02420a010068",
       "previous": "9b75334a-f144-11e9-a8bb-02420a010068"
      },
      {
       "current": "1337a826-f182-11e9-a8bb-02420a010068",
       "next": "0c6caf52-f144-11e9-a8bb-02420a010068",
       "previous": "9b75334a-f144-11e9-a8bb-02420a010068"
      },
      {
       "current": "1337a826-f182-11e9-a8bb-02420a010068",
       "next": "0c6caf52-f144-11e9-a8bb-02420a010068",
       "previous": "9b75334a-f144-11e9-a8bb-02420a010068"
      },
      {
       "current": "1337a826-f182-11e9-a8bb-02420a010068",
       "next": "0c6caf52-f144-11e9-a8bb-02420a010068",
       "previous": "9b75334a-f144-11e9-a8bb-02420a010068"
      },
      {
       "current": "1337a826-f182-11e9-a8bb-02420a010068",
       "next": "0c6caf52-f144-11e9-a8bb-02420a010068",
       "previous": "9b75334a-f144-11e9-a8bb-02420a010068"
      },
      {
       "current": "1337a826-f182-11e9-a8bb-02420a010068",
       "next": "0c6caf52-f144-11e9-a8bb-02420a010068",
       "previous": "9b75334a-f144-11e9-a8bb-02420a010068"
      },
      {
       "current": "1337a826-f182-11e9-a8bb-02420a010068",
       "next": "0c6caf52-f144-11e9-a8bb-02420a010068",
       "previous": "9b75334a-f144-11e9-a8bb-02420a010068"
      },
      {
       "current": "1337a826-f182-11e9-a8bb-02420a010068",
       "next": "0c6caf52-f144-11e9-a8bb-02420a010068",
       "previous": "9b75334a-f144-11e9-a8bb-02420a010068"
      },
      {
       "current": "1337a826-f182-11e9-a8bb-02420a010068",
       "next": "0c6caf52-f144-11e9-a8bb-02420a010068",
       "previous": "9b75334a-f144-11e9-a8bb-02420a010068"
      },
      {
       "current": "1337a826-f182-11e9-a8bb-02420a010068",
       "next": "0c6caf52-f144-11e9-a8bb-02420a010068",
       "previous": "9b75334a-f144-11e9-a8bb-02420a010068"
      },
      {
       "current": "1337a826-f182-11e9-a8bb-02420a010068",
       "next": "0c6caf52-f144-11e9-a8bb-02420a010068",
       "previous": "9b75334a-f144-11e9-a8bb-02420a010068"
      },
      {
       "current": "fb60afea-f5eb-11e9-a374-02420a010068",
       "next": "fb60b134-f5eb-11e9-a374-02420a010068",
       "previous": "fb60ae50-f5eb-11e9-a374-02420a010068"
      }
     ],
     "next": "e2b2dce2-faba-11e9-8686-02420a010844",
     "previous": "e2b2d918-faba-11e9-8686-02420a010844"
    }
   },
   "source": [
    "略"
   ]
  },
  {
   "cell_type": "markdown",
   "metadata": {
    "lc_cell_meme": {
     "current": "e2b2dce2-faba-11e9-8686-02420a010844",
     "history": [
      {
       "current": "0c6caf52-f144-11e9-a8bb-02420a010068",
       "next": "0c6cb11e-f144-11e9-a8bb-02420a010068",
       "previous": "0c6cad18-f144-11e9-a8bb-02420a010068"
      },
      {
       "current": "0c6caf52-f144-11e9-a8bb-02420a010068",
       "next": "0c6cb11e-f144-11e9-a8bb-02420a010068",
       "previous": "53eefc90-f144-11e9-a8bb-02420a010068"
      },
      {
       "current": "0c6caf52-f144-11e9-a8bb-02420a010068",
       "next": "0c6cb11e-f144-11e9-a8bb-02420a010068",
       "previous": "e305dc8c-f144-11e9-a8bb-02420a010068"
      },
      {
       "current": "0c6caf52-f144-11e9-a8bb-02420a010068",
       "next": "9b75334a-f144-11e9-a8bb-02420a010068",
       "previous": "e305dc8c-f144-11e9-a8bb-02420a010068"
      },
      {
       "current": "0c6caf52-f144-11e9-a8bb-02420a010068",
       "next": "9b75334a-f144-11e9-a8bb-02420a010068",
       "previous": "1337a826-f182-11e9-a8bb-02420a010068"
      },
      {
       "current": "fb60b134-f5eb-11e9-a374-02420a010068",
       "next": "fb60b2c4-f5eb-11e9-a374-02420a010068",
       "previous": "fb60afea-f5eb-11e9-a374-02420a010068"
      }
     ],
     "next": "e2b2de7c-faba-11e9-8686-02420a010844",
     "previous": "e2b2db66-faba-11e9-8686-02420a010844"
    }
   },
   "source": [
    "# 条件判断"
   ]
  },
  {
   "cell_type": "markdown",
   "metadata": {
    "lc_cell_meme": {
     "current": "e2b2de7c-faba-11e9-8686-02420a010844",
     "history": [
      {
       "current": "9b75334a-f144-11e9-a8bb-02420a010068",
       "next": "53eefc90-f144-11e9-a8bb-02420a010068",
       "previous": "53eefb28-f144-11e9-a8bb-02420a010068"
      },
      {
       "current": "9b75334a-f144-11e9-a8bb-02420a010068",
       "next": "e305dc8c-f144-11e9-a8bb-02420a010068",
       "previous": "e305db60-f144-11e9-a8bb-02420a010068"
      },
      {
       "current": "9b75334a-f144-11e9-a8bb-02420a010068",
       "next": "9b75334a-f144-11e9-a8bb-02420a010068",
       "previous": "0c6caf52-f144-11e9-a8bb-02420a010068"
      },
      {
       "current": "9b75334a-f144-11e9-a8bb-02420a010068",
       "next": "9b75334a-f144-11e9-a8bb-02420a010068",
       "previous": "9b75334a-f144-11e9-a8bb-02420a010068"
      },
      {
       "current": "9b75334a-f144-11e9-a8bb-02420a010068",
       "next": "9b75334a-f144-11e9-a8bb-02420a010068",
       "previous": "0c6caf52-f144-11e9-a8bb-02420a010068"
      },
      {
       "current": "9b75334a-f144-11e9-a8bb-02420a010068",
       "next": "1337a826-f182-11e9-a8bb-02420a010068",
       "previous": "0c6caf52-f144-11e9-a8bb-02420a010068"
      },
      {
       "current": "fb60b2c4-f5eb-11e9-a374-02420a010068",
       "next": "fb60b40e-f5eb-11e9-a374-02420a010068",
       "previous": "fb60b134-f5eb-11e9-a374-02420a010068"
      }
     ],
     "next": "e2b2dff8-faba-11e9-8686-02420a010844",
     "previous": "e2b2dce2-faba-11e9-8686-02420a010844"
    }
   },
   "source": [
    "## プログラムの基本構造"
   ]
  },
  {
   "cell_type": "markdown",
   "metadata": {
    "lc_cell_meme": {
     "current": "e2b2dff8-faba-11e9-8686-02420a010844",
     "history": [
      {
       "current": "1337a826-f182-11e9-a8bb-02420a010068",
       "next": "9b75334a-f144-11e9-a8bb-02420a010068",
       "previous": "9b75334a-f144-11e9-a8bb-02420a010068"
      },
      {
       "current": "fb60b40e-f5eb-11e9-a374-02420a010068",
       "next": "fb60b576-f5eb-11e9-a374-02420a010068",
       "previous": "fb60b2c4-f5eb-11e9-a374-02420a010068"
      }
     ],
     "next": "e2b2e21e-faba-11e9-8686-02420a010844",
     "previous": "e2b2de7c-faba-11e9-8686-02420a010844"
    }
   },
   "source": [
    "略"
   ]
  },
  {
   "cell_type": "markdown",
   "metadata": {
    "lc_cell_meme": {
     "current": "e2b2e21e-faba-11e9-8686-02420a010844",
     "history": [
      {
       "current": "9b75334a-f144-11e9-a8bb-02420a010068",
       "next": "53eefc90-f144-11e9-a8bb-02420a010068",
       "previous": "53eefb28-f144-11e9-a8bb-02420a010068"
      },
      {
       "current": "9b75334a-f144-11e9-a8bb-02420a010068",
       "next": "e305dc8c-f144-11e9-a8bb-02420a010068",
       "previous": "e305db60-f144-11e9-a8bb-02420a010068"
      },
      {
       "current": "9b75334a-f144-11e9-a8bb-02420a010068",
       "next": "9b75334a-f144-11e9-a8bb-02420a010068",
       "previous": "0c6caf52-f144-11e9-a8bb-02420a010068"
      },
      {
       "current": "9b75334a-f144-11e9-a8bb-02420a010068",
       "next": "9b75334a-f144-11e9-a8bb-02420a010068",
       "previous": "9b75334a-f144-11e9-a8bb-02420a010068"
      },
      {
       "current": "9b75334a-f144-11e9-a8bb-02420a010068",
       "next": "1337aa56-f182-11e9-a8bb-02420a010068",
       "previous": "1337a826-f182-11e9-a8bb-02420a010068"
      },
      {
       "current": "fb60b576-f5eb-11e9-a374-02420a010068",
       "next": "fb60b6e8-f5eb-11e9-a374-02420a010068",
       "previous": "fb60b40e-f5eb-11e9-a374-02420a010068"
      }
     ],
     "next": "e2b2e368-faba-11e9-8686-02420a010844",
     "previous": "e2b2dff8-faba-11e9-8686-02420a010844"
    }
   },
   "source": [
    "## 逐次実行"
   ]
  },
  {
   "cell_type": "markdown",
   "metadata": {
    "lc_cell_meme": {
     "current": "e2b2e368-faba-11e9-8686-02420a010844",
     "history": [
      {
       "current": "1337aa56-f182-11e9-a8bb-02420a010068",
       "next": "9b75334a-f144-11e9-a8bb-02420a010068",
       "previous": "9b75334a-f144-11e9-a8bb-02420a010068"
      },
      {
       "current": "fb60b6e8-f5eb-11e9-a374-02420a010068",
       "next": "fb60b85a-f5eb-11e9-a374-02420a010068",
       "previous": "fb60b576-f5eb-11e9-a374-02420a010068"
      }
     ],
     "next": "e2b2e4da-faba-11e9-8686-02420a010844",
     "previous": "e2b2e21e-faba-11e9-8686-02420a010844"
    }
   },
   "source": [
    "略"
   ]
  },
  {
   "cell_type": "markdown",
   "metadata": {
    "lc_cell_meme": {
     "current": "e2b2e4da-faba-11e9-8686-02420a010844",
     "history": [
      {
       "current": "9b75334a-f144-11e9-a8bb-02420a010068",
       "next": "53eefc90-f144-11e9-a8bb-02420a010068",
       "previous": "53eefb28-f144-11e9-a8bb-02420a010068"
      },
      {
       "current": "9b75334a-f144-11e9-a8bb-02420a010068",
       "next": "e305dc8c-f144-11e9-a8bb-02420a010068",
       "previous": "e305db60-f144-11e9-a8bb-02420a010068"
      },
      {
       "current": "9b75334a-f144-11e9-a8bb-02420a010068",
       "next": "9b75334a-f144-11e9-a8bb-02420a010068",
       "previous": "0c6caf52-f144-11e9-a8bb-02420a010068"
      },
      {
       "current": "9b75334a-f144-11e9-a8bb-02420a010068",
       "next": "9b75334a-f144-11e9-a8bb-02420a010068",
       "previous": "9b75334a-f144-11e9-a8bb-02420a010068"
      },
      {
       "current": "9b75334a-f144-11e9-a8bb-02420a010068",
       "next": "9b75334a-f144-11e9-a8bb-02420a010068",
       "previous": "1337aa56-f182-11e9-a8bb-02420a010068"
      },
      {
       "current": "9b75334a-f144-11e9-a8bb-02420a010068",
       "next": "1337aa56-f182-11e9-a8bb-02420a010068",
       "previous": "1337aa56-f182-11e9-a8bb-02420a010068"
      },
      {
       "current": "fb60b85a-f5eb-11e9-a374-02420a010068",
       "next": "fb60ba4e-f5eb-11e9-a374-02420a010068",
       "previous": "fb60b6e8-f5eb-11e9-a374-02420a010068"
      }
     ],
     "next": "e2b2e624-faba-11e9-8686-02420a010844",
     "previous": "e2b2e368-faba-11e9-8686-02420a010844"
    }
   },
   "source": [
    "## セルの評価の順序"
   ]
  },
  {
   "cell_type": "markdown",
   "metadata": {
    "lc_cell_meme": {
     "current": "e2b2e624-faba-11e9-8686-02420a010844",
     "history": [
      {
       "current": "1337aa56-f182-11e9-a8bb-02420a010068",
       "next": "9b75334a-f144-11e9-a8bb-02420a010068",
       "previous": "9b75334a-f144-11e9-a8bb-02420a010068"
      },
      {
       "current": "fb60ba4e-f5eb-11e9-a374-02420a010068",
       "next": "fb60bc4c-f5eb-11e9-a374-02420a010068",
       "previous": "fb60b85a-f5eb-11e9-a374-02420a010068"
      }
     ],
     "next": "e2b2e7b4-faba-11e9-8686-02420a010844",
     "previous": "e2b2e4da-faba-11e9-8686-02420a010844"
    }
   },
   "source": [
    "略"
   ]
  },
  {
   "cell_type": "markdown",
   "metadata": {
    "lc_cell_meme": {
     "current": "e2b2e7b4-faba-11e9-8686-02420a010844",
     "history": [
      {
       "current": "9b75334a-f144-11e9-a8bb-02420a010068",
       "next": "53eefc90-f144-11e9-a8bb-02420a010068",
       "previous": "53eefb28-f144-11e9-a8bb-02420a010068"
      },
      {
       "current": "9b75334a-f144-11e9-a8bb-02420a010068",
       "next": "e305dc8c-f144-11e9-a8bb-02420a010068",
       "previous": "e305db60-f144-11e9-a8bb-02420a010068"
      },
      {
       "current": "9b75334a-f144-11e9-a8bb-02420a010068",
       "next": "9b75334a-f144-11e9-a8bb-02420a010068",
       "previous": "0c6caf52-f144-11e9-a8bb-02420a010068"
      },
      {
       "current": "9b75334a-f144-11e9-a8bb-02420a010068",
       "next": "9b75334a-f144-11e9-a8bb-02420a010068",
       "previous": "9b75334a-f144-11e9-a8bb-02420a010068"
      },
      {
       "current": "9b75334a-f144-11e9-a8bb-02420a010068",
       "next": "1337ab96-f182-11e9-a8bb-02420a010068",
       "previous": "9b75334a-f144-11e9-a8bb-02420a010068"
      },
      {
       "current": "9b75334a-f144-11e9-a8bb-02420a010068",
       "next": "1337ab96-f182-11e9-a8bb-02420a010068",
       "previous": "1337aa56-f182-11e9-a8bb-02420a010068"
      },
      {
       "current": "9b75334a-f144-11e9-a8bb-02420a010068",
       "next": "2607a41c-f185-11e9-a8bb-02420a010068",
       "previous": "1337aa56-f182-11e9-a8bb-02420a010068"
      },
      {
       "current": "fb60bc4c-f5eb-11e9-a374-02420a010068",
       "next": "fb60bdc8-f5eb-11e9-a374-02420a010068",
       "previous": "fb60ba4e-f5eb-11e9-a374-02420a010068"
      }
     ],
     "next": "e2b2e8fe-faba-11e9-8686-02420a010844",
     "previous": "e2b2e624-faba-11e9-8686-02420a010844"
    }
   },
   "source": [
    "## 入力関数"
   ]
  },
  {
   "cell_type": "markdown",
   "metadata": {
    "lc_cell_meme": {
     "current": "e2b2e8fe-faba-11e9-8686-02420a010844",
     "history": [
      {
       "current": "2607a41c-f185-11e9-a8bb-02420a010068",
       "next": "1337ab96-f182-11e9-a8bb-02420a010068",
       "previous": "9b75334a-f144-11e9-a8bb-02420a010068"
      },
      {
       "current": "fb60bdc8-f5eb-11e9-a374-02420a010068",
       "next": "fb60bf62-f5eb-11e9-a374-02420a010068",
       "previous": "fb60bc4c-f5eb-11e9-a374-02420a010068"
      }
     ],
     "next": "e2b2ea98-faba-11e9-8686-02420a010844",
     "previous": "e2b2e7b4-faba-11e9-8686-02420a010844"
    }
   },
   "source": [
    "###  入力関数1"
   ]
  },
  {
   "cell_type": "markdown",
   "metadata": {
    "lc_cell_meme": {
     "current": "e2b2ea98-faba-11e9-8686-02420a010844",
     "history": [
      {
       "current": "1337ab96-f182-11e9-a8bb-02420a010068",
       "next": "1337acb8-f182-11e9-a8bb-02420a010068",
       "previous": "9b75334a-f144-11e9-a8bb-02420a010068"
      },
      {
       "current": "1337ab96-f182-11e9-a8bb-02420a010068",
       "next": "1337acb8-f182-11e9-a8bb-02420a010068",
       "previous": "2607a41c-f185-11e9-a8bb-02420a010068"
      },
      {
       "current": "1337ab96-f182-11e9-a8bb-02420a010068",
       "next": "bb7f46d6-f5e9-11e9-a8bb-02420a010068",
       "previous": "2607a41c-f185-11e9-a8bb-02420a010068"
      },
      {
       "current": "fb60bf62-f5eb-11e9-a374-02420a010068",
       "next": "fb60c0ac-f5eb-11e9-a374-02420a010068",
       "previous": "fb60bdc8-f5eb-11e9-a374-02420a010068"
      }
     ],
     "next": "e2b2ebe2-faba-11e9-8686-02420a010844",
     "previous": "e2b2e8fe-faba-11e9-8686-02420a010844"
    }
   },
   "source": [
    "○演習：次のセルで、以下の計算をしなさい。\n",
    "- input()を使って、 \"整数を入力してください\"と表示し、変数aに整数を入力する\n",
    "- aの平方根を計算し、print()を使って出力する\n"
   ]
  },
  {
   "cell_type": "code",
   "execution_count": null,
   "metadata": {
    "lc_cell_meme": {
     "current": "e2b2ebe2-faba-11e9-8686-02420a010844",
     "history": [
      {
       "current": "bb7f46d6-f5e9-11e9-a8bb-02420a010068",
       "next": "1337acb8-f182-11e9-a8bb-02420a010068",
       "previous": "1337ab96-f182-11e9-a8bb-02420a010068"
      },
      {
       "current": "bb7f46d6-f5e9-11e9-a8bb-02420a010068",
       "next": "1337adbc-f182-11e9-a8bb-02420a010068",
       "previous": "1337ab96-f182-11e9-a8bb-02420a010068"
      },
      {
       "current": "fb60c0ac-f5eb-11e9-a374-02420a010068",
       "next": "fb60c21e-f5eb-11e9-a374-02420a010068",
       "previous": "fb60bf62-f5eb-11e9-a374-02420a010068"
      }
     ],
     "next": "e2b2ed72-faba-11e9-8686-02420a010844",
     "previous": "e2b2ea98-faba-11e9-8686-02420a010844"
    }
   },
   "outputs": [],
   "source": [
    "# 演習用入力欄\n"
   ]
  },
  {
   "cell_type": "markdown",
   "metadata": {
    "lc_cell_meme": {
     "current": "e2b2ed72-faba-11e9-8686-02420a010844",
     "history": [
      {
       "current": "1337adbc-f182-11e9-a8bb-02420a010068",
       "next": "9b75334a-f144-11e9-a8bb-02420a010068",
       "previous": "1337acb8-f182-11e9-a8bb-02420a010068"
      },
      {
       "current": "1337adbc-f182-11e9-a8bb-02420a010068",
       "next": "1337ab96-f182-11e9-a8bb-02420a010068",
       "previous": "1337acb8-f182-11e9-a8bb-02420a010068"
      },
      {
       "current": "1337adbc-f182-11e9-a8bb-02420a010068",
       "next": "2607a82c-f185-11e9-a8bb-02420a010068",
       "previous": "1337acb8-f182-11e9-a8bb-02420a010068"
      },
      {
       "current": "1337adbc-f182-11e9-a8bb-02420a010068",
       "next": "2607a82c-f185-11e9-a8bb-02420a010068",
       "previous": "bb7f46d6-f5e9-11e9-a8bb-02420a010068"
      },
      {
       "current": "fb60c21e-f5eb-11e9-a374-02420a010068",
       "next": "fb60c35e-f5eb-11e9-a374-02420a010068",
       "previous": "fb60c0ac-f5eb-11e9-a374-02420a010068"
      }
     ],
     "next": "e2b2eec6-faba-11e9-8686-02420a010844",
     "previous": "e2b2ebe2-faba-11e9-8686-02420a010844"
    }
   },
   "source": [
    "ヒント：16を入力して4が出力されることを確認しなさい。"
   ]
  },
  {
   "cell_type": "markdown",
   "metadata": {
    "lc_cell_meme": {
     "current": "e2b2eec6-faba-11e9-8686-02420a010844",
     "history": [
      {
       "current": "2607a82c-f185-11e9-a8bb-02420a010068",
       "next": "1337ab96-f182-11e9-a8bb-02420a010068",
       "previous": "1337adbc-f182-11e9-a8bb-02420a010068"
      },
      {
       "current": "fb60c35e-f5eb-11e9-a374-02420a010068",
       "next": "fb60c4ee-f5eb-11e9-a374-02420a010068",
       "previous": "fb60c21e-f5eb-11e9-a374-02420a010068"
      }
     ],
     "next": "e2b2f04c-faba-11e9-8686-02420a010844",
     "previous": "e2b2ed72-faba-11e9-8686-02420a010844"
    }
   },
   "source": [
    "###  入力関数2"
   ]
  },
  {
   "cell_type": "markdown",
   "metadata": {
    "lc_cell_meme": {
     "current": "e2b2f04c-faba-11e9-8686-02420a010844",
     "history": [
      {
       "current": "1337ab96-f182-11e9-a8bb-02420a010068",
       "next": "1337acb8-f182-11e9-a8bb-02420a010068",
       "previous": "9b75334a-f144-11e9-a8bb-02420a010068"
      },
      {
       "current": "1337ab96-f182-11e9-a8bb-02420a010068",
       "next": "1337acb8-f182-11e9-a8bb-02420a010068",
       "previous": "1337adbc-f182-11e9-a8bb-02420a010068"
      },
      {
       "current": "1337ab96-f182-11e9-a8bb-02420a010068",
       "next": "1337acb8-f182-11e9-a8bb-02420a010068",
       "previous": "2607a82c-f185-11e9-a8bb-02420a010068"
      },
      {
       "current": "1337ab96-f182-11e9-a8bb-02420a010068",
       "next": "bb7f47d0-f5e9-11e9-a8bb-02420a010068",
       "previous": "2607a82c-f185-11e9-a8bb-02420a010068"
      },
      {
       "current": "fb60c4ee-f5eb-11e9-a374-02420a010068",
       "next": "fb60c624-f5eb-11e9-a374-02420a010068",
       "previous": "fb60c35e-f5eb-11e9-a374-02420a010068"
      }
     ],
     "next": "e2b2f18c-faba-11e9-8686-02420a010844",
     "previous": "e2b2eec6-faba-11e9-8686-02420a010844"
    }
   },
   "source": [
    "○演習：次のセルで、 以下の計算をしなさい。\n",
    "- input()を使って、 \"名前を入力してください？\"と表示し、変数aに名前（文字）を入力する\n",
    "- print()を使って、「aさん、こんにちは」と表示する\n"
   ]
  },
  {
   "cell_type": "code",
   "execution_count": null,
   "metadata": {
    "lc_cell_meme": {
     "current": "e2b2f18c-faba-11e9-8686-02420a010844",
     "history": [
      {
       "current": "bb7f47d0-f5e9-11e9-a8bb-02420a010068",
       "next": "1337acb8-f182-11e9-a8bb-02420a010068",
       "previous": "1337ab96-f182-11e9-a8bb-02420a010068"
      },
      {
       "current": "bb7f47d0-f5e9-11e9-a8bb-02420a010068",
       "next": "1337adbc-f182-11e9-a8bb-02420a010068",
       "previous": "1337ab96-f182-11e9-a8bb-02420a010068"
      },
      {
       "current": "fb60c624-f5eb-11e9-a374-02420a010068",
       "next": "fb60c76e-f5eb-11e9-a374-02420a010068",
       "previous": "fb60c4ee-f5eb-11e9-a374-02420a010068"
      }
     ],
     "next": "e2b2f2d6-faba-11e9-8686-02420a010844",
     "previous": "e2b2f04c-faba-11e9-8686-02420a010844"
    }
   },
   "outputs": [],
   "source": [
    "# 演習用入力欄\n"
   ]
  },
  {
   "cell_type": "markdown",
   "metadata": {
    "lc_cell_meme": {
     "current": "e2b2f2d6-faba-11e9-8686-02420a010844",
     "history": [
      {
       "current": "1337adbc-f182-11e9-a8bb-02420a010068",
       "next": "9b75334a-f144-11e9-a8bb-02420a010068",
       "previous": "1337acb8-f182-11e9-a8bb-02420a010068"
      },
      {
       "current": "1337adbc-f182-11e9-a8bb-02420a010068",
       "next": "2607a82c-f185-11e9-a8bb-02420a010068",
       "previous": "1337acb8-f182-11e9-a8bb-02420a010068"
      },
      {
       "current": "1337adbc-f182-11e9-a8bb-02420a010068",
       "next": "2607a82c-f185-11e9-a8bb-02420a010068",
       "previous": "bb7f47d0-f5e9-11e9-a8bb-02420a010068"
      },
      {
       "current": "fb60c76e-f5eb-11e9-a374-02420a010068",
       "next": "fb60c8b8-f5eb-11e9-a374-02420a010068",
       "previous": "fb60c624-f5eb-11e9-a374-02420a010068"
      }
     ],
     "next": "e2b2f420-faba-11e9-8686-02420a010844",
     "previous": "e2b2f18c-faba-11e9-8686-02420a010844"
    }
   },
   "source": [
    "ヒント：例：\n",
    "```\n",
    "名前を入力してください？ はなこ\n",
    "はなこさん、こんにちは\n",
    "```"
   ]
  },
  {
   "cell_type": "markdown",
   "metadata": {
    "lc_cell_meme": {
     "current": "e2b2f420-faba-11e9-8686-02420a010844",
     "history": [
      {
       "current": "2607a82c-f185-11e9-a8bb-02420a010068",
       "next": "1337ab96-f182-11e9-a8bb-02420a010068",
       "previous": "1337adbc-f182-11e9-a8bb-02420a010068"
      },
      {
       "current": "fb60c8b8-f5eb-11e9-a374-02420a010068",
       "next": "fb60c9f8-f5eb-11e9-a374-02420a010068",
       "previous": "fb60c76e-f5eb-11e9-a374-02420a010068"
      }
     ],
     "next": "e2b2f650-faba-11e9-8686-02420a010844",
     "previous": "e2b2f2d6-faba-11e9-8686-02420a010844"
    }
   },
   "source": [
    "###  入力関数3"
   ]
  },
  {
   "cell_type": "markdown",
   "metadata": {
    "lc_cell_meme": {
     "current": "e2b2f650-faba-11e9-8686-02420a010844",
     "history": [
      {
       "current": "1337ab96-f182-11e9-a8bb-02420a010068",
       "next": "1337acb8-f182-11e9-a8bb-02420a010068",
       "previous": "9b75334a-f144-11e9-a8bb-02420a010068"
      },
      {
       "current": "1337ab96-f182-11e9-a8bb-02420a010068",
       "next": "1337acb8-f182-11e9-a8bb-02420a010068",
       "previous": "1337adbc-f182-11e9-a8bb-02420a010068"
      },
      {
       "current": "1337ab96-f182-11e9-a8bb-02420a010068",
       "next": "1337acb8-f182-11e9-a8bb-02420a010068",
       "previous": "2607a82c-f185-11e9-a8bb-02420a010068"
      },
      {
       "current": "1337ab96-f182-11e9-a8bb-02420a010068",
       "next": "bb7f48d4-f5e9-11e9-a8bb-02420a010068",
       "previous": "2607a82c-f185-11e9-a8bb-02420a010068"
      },
      {
       "current": "fb60c9f8-f5eb-11e9-a374-02420a010068",
       "next": "fb60cb42-f5eb-11e9-a374-02420a010068",
       "previous": "fb60c8b8-f5eb-11e9-a374-02420a010068"
      }
     ],
     "next": "e2b2f7f4-faba-11e9-8686-02420a010844",
     "previous": "e2b2f420-faba-11e9-8686-02420a010844"
    }
   },
   "source": [
    "○演習：次のセルで、 以下の計算をしなさい。\n",
    "- input()を使って、 ”整数を入力して下さい？”と表示し、変数aに整数を入力する\n",
    "- input()を使って、 ”整数を入力して下さい？”と表示し、変数bに整数を入力する\n",
    "- $a^b$を計算してprint()で出力しなさい"
   ]
  },
  {
   "cell_type": "code",
   "execution_count": null,
   "metadata": {
    "lc_cell_meme": {
     "current": "e2b2f7f4-faba-11e9-8686-02420a010844",
     "history": [
      {
       "current": "bb7f48d4-f5e9-11e9-a8bb-02420a010068",
       "next": "1337acb8-f182-11e9-a8bb-02420a010068",
       "previous": "1337ab96-f182-11e9-a8bb-02420a010068"
      },
      {
       "current": "bb7f48d4-f5e9-11e9-a8bb-02420a010068",
       "next": "86393fb6-f3ca-11e9-a8bb-02420a010068",
       "previous": "1337ab96-f182-11e9-a8bb-02420a010068"
      },
      {
       "current": "fb60cb42-f5eb-11e9-a374-02420a010068",
       "next": "fb60ccdc-f5eb-11e9-a374-02420a010068",
       "previous": "fb60c9f8-f5eb-11e9-a374-02420a010068"
      }
     ],
     "next": "e2b2f966-faba-11e9-8686-02420a010844",
     "previous": "e2b2f650-faba-11e9-8686-02420a010844"
    }
   },
   "outputs": [],
   "source": [
    "# 演習用入力欄\n"
   ]
  },
  {
   "cell_type": "markdown",
   "metadata": {
    "lc_cell_meme": {
     "current": "e2b2f966-faba-11e9-8686-02420a010844",
     "history": [
      {
       "current": "86393fb6-f3ca-11e9-a8bb-02420a010068",
       "next": "1337adbc-f182-11e9-a8bb-02420a010068",
       "previous": "1337acb8-f182-11e9-a8bb-02420a010068"
      },
      {
       "current": "86393fb6-f3ca-11e9-a8bb-02420a010068",
       "next": "1337adbc-f182-11e9-a8bb-02420a010068",
       "previous": "bb7f48d4-f5e9-11e9-a8bb-02420a010068"
      },
      {
       "current": "fb60ccdc-f5eb-11e9-a374-02420a010068",
       "next": "fb60ce1c-f5eb-11e9-a374-02420a010068",
       "previous": "fb60cb42-f5eb-11e9-a374-02420a010068"
      }
     ],
     "next": "e2b2fab0-faba-11e9-8686-02420a010844",
     "previous": "e2b2f7f4-faba-11e9-8686-02420a010844"
    }
   },
   "source": [
    "ヒント：input()で入力された値は文字列なので、数値に変換してから計算すること。"
   ]
  },
  {
   "cell_type": "markdown",
   "metadata": {
    "lc_cell_meme": {
     "current": "e2b2fab0-faba-11e9-8686-02420a010844",
     "history": [
      {
       "current": "1337adbc-f182-11e9-a8bb-02420a010068",
       "next": "9b75334a-f144-11e9-a8bb-02420a010068",
       "previous": "1337acb8-f182-11e9-a8bb-02420a010068"
      },
      {
       "current": "1337adbc-f182-11e9-a8bb-02420a010068",
       "next": "9b75334a-f144-11e9-a8bb-02420a010068",
       "previous": "86393fb6-f3ca-11e9-a8bb-02420a010068"
      },
      {
       "current": "fb60ce1c-f5eb-11e9-a374-02420a010068",
       "next": "fb60cf5c-f5eb-11e9-a374-02420a010068",
       "previous": "fb60ccdc-f5eb-11e9-a374-02420a010068"
      }
     ],
     "next": "e2b2fbfa-faba-11e9-8686-02420a010844",
     "previous": "e2b2f966-faba-11e9-8686-02420a010844"
    }
   },
   "source": [
    "ヒント：例：\n",
    "```\n",
    "整数を入力して下さい？3\n",
    "整数を入力して下さい？3\n",
    "27\n",
    "```"
   ]
  },
  {
   "cell_type": "markdown",
   "metadata": {
    "lc_cell_meme": {
     "current": "e2b2fbfa-faba-11e9-8686-02420a010844",
     "history": [
      {
       "current": "9b75334a-f144-11e9-a8bb-02420a010068",
       "next": "53eefc90-f144-11e9-a8bb-02420a010068",
       "previous": "53eefb28-f144-11e9-a8bb-02420a010068"
      },
      {
       "current": "9b75334a-f144-11e9-a8bb-02420a010068",
       "next": "e305dc8c-f144-11e9-a8bb-02420a010068",
       "previous": "e305db60-f144-11e9-a8bb-02420a010068"
      },
      {
       "current": "9b75334a-f144-11e9-a8bb-02420a010068",
       "next": "9b75334a-f144-11e9-a8bb-02420a010068",
       "previous": "0c6caf52-f144-11e9-a8bb-02420a010068"
      },
      {
       "current": "9b75334a-f144-11e9-a8bb-02420a010068",
       "next": "9b75334a-f144-11e9-a8bb-02420a010068",
       "previous": "9b75334a-f144-11e9-a8bb-02420a010068"
      },
      {
       "current": "9b75334a-f144-11e9-a8bb-02420a010068",
       "next": "cbbad34c-f181-11e9-a8bb-02420a010068",
       "previous": "9b75334a-f144-11e9-a8bb-02420a010068"
      },
      {
       "current": "9b75334a-f144-11e9-a8bb-02420a010068",
       "next": "cbbad34c-f181-11e9-a8bb-02420a010068",
       "previous": "1337adbc-f182-11e9-a8bb-02420a010068"
      },
      {
       "current": "9b75334a-f144-11e9-a8bb-02420a010068",
       "next": "2607a82c-f185-11e9-a8bb-02420a010068",
       "previous": "1337adbc-f182-11e9-a8bb-02420a010068"
      },
      {
       "current": "fb60cf5c-f5eb-11e9-a374-02420a010068",
       "next": "fb60d0e2-f5eb-11e9-a374-02420a010068",
       "previous": "fb60ce1c-f5eb-11e9-a374-02420a010068"
      }
     ],
     "next": "e2b2fe20-faba-11e9-8686-02420a010844",
     "previous": "e2b2fab0-faba-11e9-8686-02420a010844"
    }
   },
   "source": [
    "## 条件分岐"
   ]
  },
  {
   "cell_type": "markdown",
   "metadata": {
    "lc_cell_meme": {
     "current": "e2b2fe20-faba-11e9-8686-02420a010844",
     "history": [
      {
       "current": "2607a82c-f185-11e9-a8bb-02420a010068",
       "next": "1337ab96-f182-11e9-a8bb-02420a010068",
       "previous": "1337adbc-f182-11e9-a8bb-02420a010068"
      },
      {
       "current": "2607a82c-f185-11e9-a8bb-02420a010068",
       "next": "1337ab96-f182-11e9-a8bb-02420a010068",
       "previous": "9b75334a-f144-11e9-a8bb-02420a010068"
      },
      {
       "current": "fb60d0e2-f5eb-11e9-a374-02420a010068",
       "next": "fb60d24a-f5eb-11e9-a374-02420a010068",
       "previous": "fb60cf5c-f5eb-11e9-a374-02420a010068"
      }
     ],
     "next": "e2b2ff9c-faba-11e9-8686-02420a010844",
     "previous": "e2b2fbfa-faba-11e9-8686-02420a010844"
    }
   },
   "source": [
    "###  条件分岐1"
   ]
  },
  {
   "cell_type": "markdown",
   "metadata": {
    "lc_cell_meme": {
     "current": "e2b2ff9c-faba-11e9-8686-02420a010844",
     "history": [
      {
       "current": "1337ab96-f182-11e9-a8bb-02420a010068",
       "next": "1337acb8-f182-11e9-a8bb-02420a010068",
       "previous": "9b75334a-f144-11e9-a8bb-02420a010068"
      },
      {
       "current": "1337ab96-f182-11e9-a8bb-02420a010068",
       "next": "1337acb8-f182-11e9-a8bb-02420a010068",
       "previous": "1337adbc-f182-11e9-a8bb-02420a010068"
      },
      {
       "current": "1337ab96-f182-11e9-a8bb-02420a010068",
       "next": "1337acb8-f182-11e9-a8bb-02420a010068",
       "previous": "2607a82c-f185-11e9-a8bb-02420a010068"
      },
      {
       "current": "1337ab96-f182-11e9-a8bb-02420a010068",
       "next": "bb7f49ce-f5e9-11e9-a8bb-02420a010068",
       "previous": "2607a82c-f185-11e9-a8bb-02420a010068"
      },
      {
       "current": "fb60d24a-f5eb-11e9-a374-02420a010068",
       "next": "fb60d3b2-f5eb-11e9-a374-02420a010068",
       "previous": "fb60d0e2-f5eb-11e9-a374-02420a010068"
      }
     ],
     "next": "e2b300f0-faba-11e9-8686-02420a010844",
     "previous": "e2b2fe20-faba-11e9-8686-02420a010844"
    }
   },
   "source": [
    "○演習：次のセルで、 input()を使って、 変数aに整数を入力しなさい。\n",
    "\n",
    "- a が 60以上であれば、「合格」\n",
    "- それ以外は「不合格」と表示しなさい。"
   ]
  },
  {
   "cell_type": "code",
   "execution_count": null,
   "metadata": {
    "lc_cell_meme": {
     "current": "e2b300f0-faba-11e9-8686-02420a010844",
     "history": [
      {
       "current": "bb7f49ce-f5e9-11e9-a8bb-02420a010068",
       "next": "1337acb8-f182-11e9-a8bb-02420a010068",
       "previous": "1337ab96-f182-11e9-a8bb-02420a010068"
      },
      {
       "current": "bb7f49ce-f5e9-11e9-a8bb-02420a010068",
       "next": "1337adbc-f182-11e9-a8bb-02420a010068",
       "previous": "1337ab96-f182-11e9-a8bb-02420a010068"
      },
      {
       "current": "fb60d3b2-f5eb-11e9-a374-02420a010068",
       "next": "fb60d524-f5eb-11e9-a374-02420a010068",
       "previous": "fb60d24a-f5eb-11e9-a374-02420a010068"
      }
     ],
     "next": "e2b30276-faba-11e9-8686-02420a010844",
     "previous": "e2b2ff9c-faba-11e9-8686-02420a010844"
    }
   },
   "outputs": [],
   "source": [
    "# 演習用入力欄\n"
   ]
  },
  {
   "cell_type": "markdown",
   "metadata": {
    "lc_cell_meme": {
     "current": "e2b30276-faba-11e9-8686-02420a010844",
     "history": [
      {
       "current": "1337adbc-f182-11e9-a8bb-02420a010068",
       "next": "9b75334a-f144-11e9-a8bb-02420a010068",
       "previous": "1337acb8-f182-11e9-a8bb-02420a010068"
      },
      {
       "current": "1337adbc-f182-11e9-a8bb-02420a010068",
       "next": "cbbad842-f181-11e9-a8bb-02420a010068",
       "previous": "1337acb8-f182-11e9-a8bb-02420a010068"
      },
      {
       "current": "1337adbc-f182-11e9-a8bb-02420a010068",
       "next": "9b75334a-f144-11e9-a8bb-02420a010068",
       "previous": "1337acb8-f182-11e9-a8bb-02420a010068"
      },
      {
       "current": "1337adbc-f182-11e9-a8bb-02420a010068",
       "next": "2607a82c-f185-11e9-a8bb-02420a010068",
       "previous": "1337acb8-f182-11e9-a8bb-02420a010068"
      },
      {
       "current": "1337adbc-f182-11e9-a8bb-02420a010068",
       "next": "2607a82c-f185-11e9-a8bb-02420a010068",
       "previous": "bb7f49ce-f5e9-11e9-a8bb-02420a010068"
      },
      {
       "current": "fb60d524-f5eb-11e9-a374-02420a010068",
       "next": "fb60d66e-f5eb-11e9-a374-02420a010068",
       "previous": "fb60d3b2-f5eb-11e9-a374-02420a010068"
      }
     ],
     "next": "e2b303de-faba-11e9-8686-02420a010844",
     "previous": "e2b300f0-faba-11e9-8686-02420a010844"
    }
   },
   "source": [
    "ヒント：例：\n",
    "```\n",
    "点数を入力して下さい？70\n",
    "合格\n",
    "```"
   ]
  },
  {
   "cell_type": "markdown",
   "metadata": {
    "heading_collapsed": true,
    "lc_cell_meme": {
     "current": "e2b303de-faba-11e9-8686-02420a010844",
     "history": [
      {
       "current": "2607a82c-f185-11e9-a8bb-02420a010068",
       "next": "1337ab96-f182-11e9-a8bb-02420a010068",
       "previous": "1337adbc-f182-11e9-a8bb-02420a010068"
      },
      {
       "current": "2607a82c-f185-11e9-a8bb-02420a010068",
       "next": "1337ab96-f182-11e9-a8bb-02420a010068",
       "previous": "9b75334a-f144-11e9-a8bb-02420a010068"
      },
      {
       "current": "2607a82c-f185-11e9-a8bb-02420a010068",
       "next": "1337ab96-f182-11e9-a8bb-02420a010068",
       "previous": "1337adbc-f182-11e9-a8bb-02420a010068"
      },
      {
       "current": "fb60d66e-f5eb-11e9-a374-02420a010068",
       "next": "fb60d7b8-f5eb-11e9-a374-02420a010068",
       "previous": "fb60d524-f5eb-11e9-a374-02420a010068"
      }
     ],
     "next": "e2b3056e-faba-11e9-8686-02420a010844",
     "previous": "e2b30276-faba-11e9-8686-02420a010844"
    }
   },
   "source": [
    "###  条件分岐2"
   ]
  },
  {
   "cell_type": "markdown",
   "metadata": {
    "hidden": true,
    "lc_cell_meme": {
     "current": "e2b3056e-faba-11e9-8686-02420a010844",
     "history": [
      {
       "current": "1337ab96-f182-11e9-a8bb-02420a010068",
       "next": "1337acb8-f182-11e9-a8bb-02420a010068",
       "previous": "9b75334a-f144-11e9-a8bb-02420a010068"
      },
      {
       "current": "1337ab96-f182-11e9-a8bb-02420a010068",
       "next": "1337acb8-f182-11e9-a8bb-02420a010068",
       "previous": "1337adbc-f182-11e9-a8bb-02420a010068"
      },
      {
       "current": "1337ab96-f182-11e9-a8bb-02420a010068",
       "next": "1337acb8-f182-11e9-a8bb-02420a010068",
       "previous": "2607a82c-f185-11e9-a8bb-02420a010068"
      },
      {
       "current": "fb60d7b8-f5eb-11e9-a374-02420a010068",
       "next": "fb60d934-f5eb-11e9-a374-02420a010068",
       "previous": "fb60d66e-f5eb-11e9-a374-02420a010068"
      }
     ],
     "next": "e2b306ae-faba-11e9-8686-02420a010844",
     "previous": "e2b303de-faba-11e9-8686-02420a010844"
    }
   },
   "source": [
    "○演習：次のセルで、 input()を使って、 変数aに点数を入力しなさい。\n",
    "\n",
    "- a が 90以上であれば、「A」、\n",
    "- a が 80以上であれば、「B」、\n",
    "- a が 60以上であれば、「C」\n",
    "- それ以外は「D」と表示しなさい。"
   ]
  },
  {
   "cell_type": "code",
   "execution_count": null,
   "metadata": {
    "hidden": true,
    "lc_cell_meme": {
     "current": "e2b306ae-faba-11e9-8686-02420a010844",
     "history": [
      {
       "current": "1337acb8-f182-11e9-a8bb-02420a010068",
       "next": "1337adbc-f182-11e9-a8bb-02420a010068",
       "previous": "1337ab96-f182-11e9-a8bb-02420a010068"
      },
      {
       "current": "fb60d934-f5eb-11e9-a374-02420a010068",
       "next": "fb60da7e-f5eb-11e9-a374-02420a010068",
       "previous": "fb60d7b8-f5eb-11e9-a374-02420a010068"
      }
     ],
     "next": "e2b30834-faba-11e9-8686-02420a010844",
     "previous": "e2b3056e-faba-11e9-8686-02420a010844"
    },
    "lc_wrapper": {
     "log_history": [
      "/home/14999410x94c69e/05a/.log/20191018/20191018-173532-0891.log",
      "/home/14999410x94c69e/05a/.log/20191018/20191018-173556-0978.log",
      "/home/14999410x94c69e/05a/.log/20191018/20191018-175257-0189.log",
      "/home/14999410x94c69e/05a/.log/20191018/20191018-175424-0347.log",
      "/home/14999410x94c69e/05a/.log/20191018/20191018-175453-0924.log",
      "/home/14999410x94c69e/05a/.log/20191018/20191018-175926-0760.log",
      "/home/14999410x94c69e/05a/.log/20191018/20191018-180313-0216.log",
      "/home/14999410x94c69e/05a/.log/20191018/20191018-180341-0902.log",
      "/home/14999410x94c69e/05a/.log/20191018/20191018-181349-0430.log"
     ]
    }
   },
   "outputs": [],
   "source": [
    "a = int(input(\"点数を入力して下さい？\"))\n",
    "if a >= 90:\n",
    "    print(\"A\")\n",
    "elif a >= 80:\n",
    "    print(\"B\")\n",
    "elif a >= 60:\n",
    "    print(\"C\")\n",
    "else:\n",
    "    print(\"D\")"
   ]
  },
  {
   "cell_type": "markdown",
   "metadata": {
    "hidden": true,
    "lc_cell_meme": {
     "current": "e2b30834-faba-11e9-8686-02420a010844",
     "history": [
      {
       "current": "1337adbc-f182-11e9-a8bb-02420a010068",
       "next": "9b75334a-f144-11e9-a8bb-02420a010068",
       "previous": "1337acb8-f182-11e9-a8bb-02420a010068"
      },
      {
       "current": "1337adbc-f182-11e9-a8bb-02420a010068",
       "next": "cbbad842-f181-11e9-a8bb-02420a010068",
       "previous": "1337acb8-f182-11e9-a8bb-02420a010068"
      },
      {
       "current": "1337adbc-f182-11e9-a8bb-02420a010068",
       "next": "9b75334a-f144-11e9-a8bb-02420a010068",
       "previous": "1337acb8-f182-11e9-a8bb-02420a010068"
      },
      {
       "current": "fb60da7e-f5eb-11e9-a374-02420a010068",
       "next": "fb60dbe6-f5eb-11e9-a374-02420a010068",
       "previous": "fb60d934-f5eb-11e9-a374-02420a010068"
      }
     ],
     "next": "e2b3097e-faba-11e9-8686-02420a010844",
     "previous": "e2b306ae-faba-11e9-8686-02420a010844"
    }
   },
   "source": [
    "ヒント：例：\n",
    "```\n",
    "点数を入力して下さい？70\n",
    "C\n",
    "```"
   ]
  },
  {
   "cell_type": "markdown",
   "metadata": {
    "lc_cell_meme": {
     "current": "e2b3097e-faba-11e9-8686-02420a010844",
     "history": [
      {
       "current": "9b75334a-f144-11e9-a8bb-02420a010068",
       "next": "53eefc90-f144-11e9-a8bb-02420a010068",
       "previous": "53eefb28-f144-11e9-a8bb-02420a010068"
      },
      {
       "current": "9b75334a-f144-11e9-a8bb-02420a010068",
       "next": "e305dc8c-f144-11e9-a8bb-02420a010068",
       "previous": "e305db60-f144-11e9-a8bb-02420a010068"
      },
      {
       "current": "9b75334a-f144-11e9-a8bb-02420a010068",
       "next": "0c6cb11e-f144-11e9-a8bb-02420a010068",
       "previous": "9b75334a-f144-11e9-a8bb-02420a010068"
      },
      {
       "current": "9b75334a-f144-11e9-a8bb-02420a010068",
       "next": "0c6cb11e-f144-11e9-a8bb-02420a010068",
       "previous": "cbbad9a0-f181-11e9-a8bb-02420a010068"
      },
      {
       "current": "9b75334a-f144-11e9-a8bb-02420a010068",
       "next": "0c6cb11e-f144-11e9-a8bb-02420a010068",
       "previous": "1337adbc-f182-11e9-a8bb-02420a010068"
      },
      {
       "current": "9b75334a-f144-11e9-a8bb-02420a010068",
       "next": "1337ab96-f182-11e9-a8bb-02420a010068",
       "previous": "1337adbc-f182-11e9-a8bb-02420a010068"
      },
      {
       "current": "9b75334a-f144-11e9-a8bb-02420a010068",
       "next": "9b75334a-f144-11e9-a8bb-02420a010068",
       "previous": "1337adbc-f182-11e9-a8bb-02420a010068"
      },
      {
       "current": "9b75334a-f144-11e9-a8bb-02420a010068",
       "next": "1337ab96-f182-11e9-a8bb-02420a010068",
       "previous": "1337adbc-f182-11e9-a8bb-02420a010068"
      },
      {
       "current": "fb60dbe6-f5eb-11e9-a374-02420a010068",
       "next": "fb60dd30-f5eb-11e9-a374-02420a010068",
       "previous": "fb60da7e-f5eb-11e9-a374-02420a010068"
      }
     ],
     "next": "e2b30ad2-faba-11e9-8686-02420a010844",
     "previous": "e2b30834-faba-11e9-8686-02420a010844"
    }
   },
   "source": [
    "## 条件式の書き方1"
   ]
  },
  {
   "cell_type": "markdown",
   "metadata": {
    "lc_cell_meme": {
     "current": "e2b30ad2-faba-11e9-8686-02420a010844",
     "history": [
      {
       "current": "1337ab96-f182-11e9-a8bb-02420a010068",
       "next": "1337acb8-f182-11e9-a8bb-02420a010068",
       "previous": "9b75334a-f144-11e9-a8bb-02420a010068"
      },
      {
       "current": "1337ab96-f182-11e9-a8bb-02420a010068",
       "next": "1337acb8-f182-11e9-a8bb-02420a010068",
       "previous": "1337adbc-f182-11e9-a8bb-02420a010068"
      },
      {
       "current": "1337ab96-f182-11e9-a8bb-02420a010068",
       "next": "1337acb8-f182-11e9-a8bb-02420a010068",
       "previous": "2607a82c-f185-11e9-a8bb-02420a010068"
      },
      {
       "current": "1337ab96-f182-11e9-a8bb-02420a010068",
       "next": "1337acb8-f182-11e9-a8bb-02420a010068",
       "previous": "9b75334a-f144-11e9-a8bb-02420a010068"
      },
      {
       "current": "1337ab96-f182-11e9-a8bb-02420a010068",
       "next": "bb7f4ad2-f5e9-11e9-a8bb-02420a010068",
       "previous": "9b75334a-f144-11e9-a8bb-02420a010068"
      },
      {
       "current": "fb60dd30-f5eb-11e9-a374-02420a010068",
       "next": "fb60deb6-f5eb-11e9-a374-02420a010068",
       "previous": "fb60dbe6-f5eb-11e9-a374-02420a010068"
      }
     ],
     "next": "e2b30c44-faba-11e9-8686-02420a010844",
     "previous": "e2b3097e-faba-11e9-8686-02420a010844"
    }
   },
   "source": [
    "○演習：次のセルで、 input()を使って、 変数aに点数を入力しなさい。\n",
    "  更に、input()を使って、 変数bに出席回数を入力しなさい。\n",
    "\n",
    "- a が 90以上、かつbが12以上であれば、「A」\n",
    "- a が 80以上、かつbが12以上であれば、「B」\n",
    "- a が 60以上、かつbが12以上であれば、「C」\n",
    "- それ以外は「D」と表示しなさい"
   ]
  },
  {
   "cell_type": "code",
   "execution_count": null,
   "metadata": {
    "lc_cell_meme": {
     "current": "e2b30c44-faba-11e9-8686-02420a010844",
     "history": [
      {
       "current": "bb7f4ad2-f5e9-11e9-a8bb-02420a010068",
       "next": "1337acb8-f182-11e9-a8bb-02420a010068",
       "previous": "1337ab96-f182-11e9-a8bb-02420a010068"
      },
      {
       "current": "bb7f4ad2-f5e9-11e9-a8bb-02420a010068",
       "next": "1337adbc-f182-11e9-a8bb-02420a010068",
       "previous": "1337ab96-f182-11e9-a8bb-02420a010068"
      },
      {
       "current": "fb60deb6-f5eb-11e9-a374-02420a010068",
       "next": "fb60dff6-f5eb-11e9-a374-02420a010068",
       "previous": "fb60dd30-f5eb-11e9-a374-02420a010068"
      }
     ],
     "next": "e2b30dac-faba-11e9-8686-02420a010844",
     "previous": "e2b30ad2-faba-11e9-8686-02420a010844"
    }
   },
   "outputs": [],
   "source": [
    "# 演習用入力欄\n"
   ]
  },
  {
   "cell_type": "markdown",
   "metadata": {
    "lc_cell_meme": {
     "current": "e2b30dac-faba-11e9-8686-02420a010844",
     "history": [
      {
       "current": "1337adbc-f182-11e9-a8bb-02420a010068",
       "next": "9b75334a-f144-11e9-a8bb-02420a010068",
       "previous": "1337acb8-f182-11e9-a8bb-02420a010068"
      },
      {
       "current": "1337adbc-f182-11e9-a8bb-02420a010068",
       "next": "cbbad842-f181-11e9-a8bb-02420a010068",
       "previous": "1337acb8-f182-11e9-a8bb-02420a010068"
      },
      {
       "current": "1337adbc-f182-11e9-a8bb-02420a010068",
       "next": "9b75334a-f144-11e9-a8bb-02420a010068",
       "previous": "1337acb8-f182-11e9-a8bb-02420a010068"
      },
      {
       "current": "1337adbc-f182-11e9-a8bb-02420a010068",
       "next": "0c6cb11e-f144-11e9-a8bb-02420a010068",
       "previous": "1337acb8-f182-11e9-a8bb-02420a010068"
      },
      {
       "current": "1337adbc-f182-11e9-a8bb-02420a010068",
       "next": "9b75334a-f144-11e9-a8bb-02420a010068",
       "previous": "1337acb8-f182-11e9-a8bb-02420a010068"
      },
      {
       "current": "1337adbc-f182-11e9-a8bb-02420a010068",
       "next": "9b75334a-f144-11e9-a8bb-02420a010068",
       "previous": "bb7f4ad2-f5e9-11e9-a8bb-02420a010068"
      },
      {
       "current": "fb60dff6-f5eb-11e9-a374-02420a010068",
       "next": "fb60e1fe-f5eb-11e9-a374-02420a010068",
       "previous": "fb60deb6-f5eb-11e9-a374-02420a010068"
      }
     ],
     "next": "e2b30ef6-faba-11e9-8686-02420a010844",
     "previous": "e2b30c44-faba-11e9-8686-02420a010844"
    }
   },
   "source": [
    "ヒント：例：\n",
    "```\n",
    "点数を入力して下さい？70\n",
    "出席回数を入力して下さい？10\n",
    "D\n",
    "\n",
    "```"
   ]
  },
  {
   "cell_type": "markdown",
   "metadata": {
    "lc_cell_meme": {
     "current": "e2b30ef6-faba-11e9-8686-02420a010844",
     "history": [
      {
       "current": "9b75334a-f144-11e9-a8bb-02420a010068",
       "next": "53eefc90-f144-11e9-a8bb-02420a010068",
       "previous": "53eefb28-f144-11e9-a8bb-02420a010068"
      },
      {
       "current": "9b75334a-f144-11e9-a8bb-02420a010068",
       "next": "e305dc8c-f144-11e9-a8bb-02420a010068",
       "previous": "e305db60-f144-11e9-a8bb-02420a010068"
      },
      {
       "current": "9b75334a-f144-11e9-a8bb-02420a010068",
       "next": "0c6cb11e-f144-11e9-a8bb-02420a010068",
       "previous": "9b75334a-f144-11e9-a8bb-02420a010068"
      },
      {
       "current": "9b75334a-f144-11e9-a8bb-02420a010068",
       "next": "0c6cb11e-f144-11e9-a8bb-02420a010068",
       "previous": "cbbad9a0-f181-11e9-a8bb-02420a010068"
      },
      {
       "current": "9b75334a-f144-11e9-a8bb-02420a010068",
       "next": "0c6cb11e-f144-11e9-a8bb-02420a010068",
       "previous": "1337adbc-f182-11e9-a8bb-02420a010068"
      },
      {
       "current": "9b75334a-f144-11e9-a8bb-02420a010068",
       "next": "1337ab96-f182-11e9-a8bb-02420a010068",
       "previous": "1337adbc-f182-11e9-a8bb-02420a010068"
      },
      {
       "current": "9b75334a-f144-11e9-a8bb-02420a010068",
       "next": "1337ab96-f182-11e9-a8bb-02420a010068",
       "previous": "9b75334a-f144-11e9-a8bb-02420a010068"
      },
      {
       "current": "9b75334a-f144-11e9-a8bb-02420a010068",
       "next": "1337ab96-f182-11e9-a8bb-02420a010068",
       "previous": "1337adbc-f182-11e9-a8bb-02420a010068"
      },
      {
       "current": "fb60e1fe-f5eb-11e9-a374-02420a010068",
       "next": "fb60e3ca-f5eb-11e9-a374-02420a010068",
       "previous": "fb60dff6-f5eb-11e9-a374-02420a010068"
      }
     ],
     "next": "e2b31072-faba-11e9-8686-02420a010844",
     "previous": "e2b30dac-faba-11e9-8686-02420a010844"
    }
   },
   "source": [
    "## 条件式の書き方2"
   ]
  },
  {
   "cell_type": "markdown",
   "metadata": {
    "lc_cell_meme": {
     "current": "e2b31072-faba-11e9-8686-02420a010844",
     "history": [
      {
       "current": "1337ab96-f182-11e9-a8bb-02420a010068",
       "next": "1337acb8-f182-11e9-a8bb-02420a010068",
       "previous": "9b75334a-f144-11e9-a8bb-02420a010068"
      },
      {
       "current": "1337ab96-f182-11e9-a8bb-02420a010068",
       "next": "1337acb8-f182-11e9-a8bb-02420a010068",
       "previous": "1337adbc-f182-11e9-a8bb-02420a010068"
      },
      {
       "current": "1337ab96-f182-11e9-a8bb-02420a010068",
       "next": "1337acb8-f182-11e9-a8bb-02420a010068",
       "previous": "2607a82c-f185-11e9-a8bb-02420a010068"
      },
      {
       "current": "1337ab96-f182-11e9-a8bb-02420a010068",
       "next": "1337acb8-f182-11e9-a8bb-02420a010068",
       "previous": "9b75334a-f144-11e9-a8bb-02420a010068"
      },
      {
       "current": "1337ab96-f182-11e9-a8bb-02420a010068",
       "next": "bb7f4bc2-f5e9-11e9-a8bb-02420a010068",
       "previous": "9b75334a-f144-11e9-a8bb-02420a010068"
      },
      {
       "current": "fb60e3ca-f5eb-11e9-a374-02420a010068",
       "next": "fb60e564-f5eb-11e9-a374-02420a010068",
       "previous": "fb60e1fe-f5eb-11e9-a374-02420a010068"
      }
     ],
     "next": "e2b311e4-faba-11e9-8686-02420a010844",
     "previous": "e2b30ef6-faba-11e9-8686-02420a010844"
    }
   },
   "source": [
    "○演習：次のセルで、 input()を使って、 変数aに点数を入力しなさい。\n",
    "  更に、input()を使って、 変数bに出席回数を入力しなさい。\n",
    "\n",
    "- b が 12以上であれば以下を判断する\n",
    "    - a が 90以上であれば、「A」\n",
    "    - a が 80以上であれば、「B」\n",
    "    - a が 60以上であれば、「C」\n",
    "    -  それ以外は「D」\n",
    "- bがそれ以外の場合には「出席不足」と表示しなさい。\n",
    "\n",
    "ヒント：\n",
    "\n",
    "if文を入れ子にすることで、複雑な条件を書くことができます。"
   ]
  },
  {
   "cell_type": "code",
   "execution_count": null,
   "metadata": {
    "lc_cell_meme": {
     "current": "e2b311e4-faba-11e9-8686-02420a010844",
     "history": [
      {
       "current": "bb7f4bc2-f5e9-11e9-a8bb-02420a010068",
       "next": "1337acb8-f182-11e9-a8bb-02420a010068",
       "previous": "1337ab96-f182-11e9-a8bb-02420a010068"
      },
      {
       "current": "bb7f4bc2-f5e9-11e9-a8bb-02420a010068",
       "next": "1337adbc-f182-11e9-a8bb-02420a010068",
       "previous": "1337ab96-f182-11e9-a8bb-02420a010068"
      },
      {
       "current": "fb60e564-f5eb-11e9-a374-02420a010068",
       "next": "fb60e6d6-f5eb-11e9-a374-02420a010068",
       "previous": "fb60e3ca-f5eb-11e9-a374-02420a010068"
      }
     ],
     "next": "e2b31324-faba-11e9-8686-02420a010844",
     "previous": "e2b31072-faba-11e9-8686-02420a010844"
    }
   },
   "outputs": [],
   "source": [
    "# 演習用入力欄\n"
   ]
  },
  {
   "cell_type": "markdown",
   "metadata": {
    "lc_cell_meme": {
     "current": "e2b31324-faba-11e9-8686-02420a010844",
     "history": [
      {
       "current": "1337adbc-f182-11e9-a8bb-02420a010068",
       "next": "9b75334a-f144-11e9-a8bb-02420a010068",
       "previous": "1337acb8-f182-11e9-a8bb-02420a010068"
      },
      {
       "current": "1337adbc-f182-11e9-a8bb-02420a010068",
       "next": "cbbad842-f181-11e9-a8bb-02420a010068",
       "previous": "1337acb8-f182-11e9-a8bb-02420a010068"
      },
      {
       "current": "1337adbc-f182-11e9-a8bb-02420a010068",
       "next": "9b75334a-f144-11e9-a8bb-02420a010068",
       "previous": "1337acb8-f182-11e9-a8bb-02420a010068"
      },
      {
       "current": "1337adbc-f182-11e9-a8bb-02420a010068",
       "next": "0c6cb11e-f144-11e9-a8bb-02420a010068",
       "previous": "1337acb8-f182-11e9-a8bb-02420a010068"
      },
      {
       "current": "1337adbc-f182-11e9-a8bb-02420a010068",
       "next": "0c6cb11e-f144-11e9-a8bb-02420a010068",
       "previous": "bb7f4bc2-f5e9-11e9-a8bb-02420a010068"
      },
      {
       "current": "fb60e6d6-f5eb-11e9-a374-02420a010068",
       "next": "fb60e816-f5eb-11e9-a374-02420a010068",
       "previous": "fb60e564-f5eb-11e9-a374-02420a010068"
      }
     ],
     "next": "e2b31478-faba-11e9-8686-02420a010844",
     "previous": "e2b311e4-faba-11e9-8686-02420a010844"
    }
   },
   "source": [
    "ヒント：例：\n",
    "```\n",
    "点数を入力して下さい？90\n",
    "出席回数を入力して下さい？10\n",
    "出席不足\n",
    "\n",
    "```"
   ]
  },
  {
   "cell_type": "markdown",
   "metadata": {
    "lc_cell_meme": {
     "current": "e2b31478-faba-11e9-8686-02420a010844",
     "history": [
      {
       "current": "0c6cb11e-f144-11e9-a8bb-02420a010068",
       "next": "0c6cb2d6-f144-11e9-a8bb-02420a010068",
       "previous": "0c6caf52-f144-11e9-a8bb-02420a010068"
      },
      {
       "current": "0c6cb11e-f144-11e9-a8bb-02420a010068",
       "next": "0c6cb2d6-f144-11e9-a8bb-02420a010068",
       "previous": "9b75334a-f144-11e9-a8bb-02420a010068"
      },
      {
       "current": "0c6cb11e-f144-11e9-a8bb-02420a010068",
       "next": "9b75334a-f144-11e9-a8bb-02420a010068",
       "previous": "9b75334a-f144-11e9-a8bb-02420a010068"
      },
      {
       "current": "0c6cb11e-f144-11e9-a8bb-02420a010068",
       "next": "9b75334a-f144-11e9-a8bb-02420a010068",
       "previous": "1337adbc-f182-11e9-a8bb-02420a010068"
      },
      {
       "current": "fb60e816-f5eb-11e9-a374-02420a010068",
       "next": "fb60e988-f5eb-11e9-a374-02420a010068",
       "previous": "fb60e6d6-f5eb-11e9-a374-02420a010068"
      }
     ],
     "next": "e2b315fe-faba-11e9-8686-02420a010844",
     "previous": "e2b31324-faba-11e9-8686-02420a010844"
    }
   },
   "source": [
    "# 繰り返し"
   ]
  },
  {
   "cell_type": "markdown",
   "metadata": {
    "lc_cell_meme": {
     "current": "e2b315fe-faba-11e9-8686-02420a010844",
     "history": [
      {
       "current": "9b75334a-f144-11e9-a8bb-02420a010068",
       "next": "53eefc90-f144-11e9-a8bb-02420a010068",
       "previous": "53eefb28-f144-11e9-a8bb-02420a010068"
      },
      {
       "current": "9b75334a-f144-11e9-a8bb-02420a010068",
       "next": "e305dc8c-f144-11e9-a8bb-02420a010068",
       "previous": "e305db60-f144-11e9-a8bb-02420a010068"
      },
      {
       "current": "9b75334a-f144-11e9-a8bb-02420a010068",
       "next": "0c6cb11e-f144-11e9-a8bb-02420a010068",
       "previous": "9b75334a-f144-11e9-a8bb-02420a010068"
      },
      {
       "current": "9b75334a-f144-11e9-a8bb-02420a010068",
       "next": "9b75334a-f144-11e9-a8bb-02420a010068",
       "previous": "0c6cb11e-f144-11e9-a8bb-02420a010068"
      },
      {
       "current": "9b75334a-f144-11e9-a8bb-02420a010068",
       "next": "df2e4296-f14b-11e9-a8bb-02420a010068",
       "previous": "0c6cb11e-f144-11e9-a8bb-02420a010068"
      },
      {
       "current": "9b75334a-f144-11e9-a8bb-02420a010068",
       "next": "1b6d3832-f14e-11e9-a8bb-02420a010068",
       "previous": "0c6cb11e-f144-11e9-a8bb-02420a010068"
      },
      {
       "current": "fb60e988-f5eb-11e9-a374-02420a010068",
       "next": "fb60eafa-f5eb-11e9-a374-02420a010068",
       "previous": "fb60e816-f5eb-11e9-a374-02420a010068"
      }
     ],
     "next": "e2b31748-faba-11e9-8686-02420a010844",
     "previous": "e2b31478-faba-11e9-8686-02420a010844"
    }
   },
   "source": [
    "## while文を使った繰り返し"
   ]
  },
  {
   "cell_type": "markdown",
   "metadata": {
    "lc_cell_meme": {
     "current": "e2b31748-faba-11e9-8686-02420a010844",
     "history": [
      {
       "current": "1b6d3832-f14e-11e9-a8bb-02420a010068",
       "next": "df2e4296-f14b-11e9-a8bb-02420a010068",
       "previous": "9b75334a-f144-11e9-a8bb-02420a010068"
      },
      {
       "current": "fb60eafa-f5eb-11e9-a374-02420a010068",
       "next": "fb60ed84-f5eb-11e9-a374-02420a010068",
       "previous": "fb60e988-f5eb-11e9-a374-02420a010068"
      }
     ],
     "next": "e2b31892-faba-11e9-8686-02420a010844",
     "previous": "e2b315fe-faba-11e9-8686-02420a010844"
    }
   },
   "source": [
    "### while文演習1"
   ]
  },
  {
   "cell_type": "markdown",
   "metadata": {
    "lc_cell_meme": {
     "current": "e2b31892-faba-11e9-8686-02420a010844",
     "history": [
      {
       "current": "df2e4296-f14b-11e9-a8bb-02420a010068",
       "next": "df2e45d4-f14b-11e9-a8bb-02420a010068",
       "previous": "9b75334a-f144-11e9-a8bb-02420a010068"
      },
      {
       "current": "df2e4296-f14b-11e9-a8bb-02420a010068",
       "next": "df2e45d4-f14b-11e9-a8bb-02420a010068",
       "previous": "1b6d3832-f14e-11e9-a8bb-02420a010068"
      },
      {
       "current": "df2e4296-f14b-11e9-a8bb-02420a010068",
       "next": "bb7f4cc6-f5e9-11e9-a8bb-02420a010068",
       "previous": "1b6d3832-f14e-11e9-a8bb-02420a010068"
      },
      {
       "current": "fb60ed84-f5eb-11e9-a374-02420a010068",
       "next": "fb60ef32-f5eb-11e9-a374-02420a010068",
       "previous": "fb60eafa-f5eb-11e9-a374-02420a010068"
      }
     ],
     "next": "e2b31a0e-faba-11e9-8686-02420a010844",
     "previous": "e2b31748-faba-11e9-8686-02420a010844"
    }
   },
   "source": [
    "○演習：次のセルで、while文を使って、「北海道」と5回表示しなさい。"
   ]
  },
  {
   "cell_type": "code",
   "execution_count": null,
   "metadata": {
    "lc_cell_meme": {
     "current": "e2b31a0e-faba-11e9-8686-02420a010844",
     "history": [
      {
       "current": "bb7f4cc6-f5e9-11e9-a8bb-02420a010068",
       "next": "df2e45d4-f14b-11e9-a8bb-02420a010068",
       "previous": "df2e4296-f14b-11e9-a8bb-02420a010068"
      },
      {
       "current": "bb7f4cc6-f5e9-11e9-a8bb-02420a010068",
       "next": "102262c0-f150-11e9-a8bb-02420a010068",
       "previous": "df2e4296-f14b-11e9-a8bb-02420a010068"
      },
      {
       "current": "fb60ef32-f5eb-11e9-a374-02420a010068",
       "next": "fb60f0ea-f5eb-11e9-a374-02420a010068",
       "previous": "fb60ed84-f5eb-11e9-a374-02420a010068"
      }
     ],
     "next": "e2b31c20-faba-11e9-8686-02420a010844",
     "previous": "e2b31892-faba-11e9-8686-02420a010844"
    }
   },
   "outputs": [],
   "source": [
    "# 演習用入力欄\n"
   ]
  },
  {
   "cell_type": "markdown",
   "metadata": {
    "lc_cell_meme": {
     "current": "e2b31c20-faba-11e9-8686-02420a010844",
     "history": [
      {
       "current": "102262c0-f150-11e9-a8bb-02420a010068",
       "next": "1b6d3d32-f14e-11e9-a8bb-02420a010068",
       "previous": "d3dcde32-f14d-11e9-a8bb-02420a010068"
      },
      {
       "current": "102262c0-f150-11e9-a8bb-02420a010068",
       "next": "1b6d3d32-f14e-11e9-a8bb-02420a010068",
       "previous": "d3dcde32-f14d-11e9-a8bb-02420a010068"
      },
      {
       "current": "102262c0-f150-11e9-a8bb-02420a010068",
       "next": "1b6d3d32-f14e-11e9-a8bb-02420a010068",
       "previous": "d3dcde32-f14d-11e9-a8bb-02420a010068"
      },
      {
       "current": "102262c0-f150-11e9-a8bb-02420a010068",
       "next": "9b75334a-f144-11e9-a8bb-02420a010068",
       "previous": "6e376d96-f14c-11e9-a8bb-02420a010068"
      },
      {
       "current": "102262c0-f150-11e9-a8bb-02420a010068",
       "next": "9b75334a-f144-11e9-a8bb-02420a010068",
       "previous": "6e376d96-f14c-11e9-a8bb-02420a010068"
      },
      {
       "current": "102262c0-f150-11e9-a8bb-02420a010068",
       "next": "9b75334a-f144-11e9-a8bb-02420a010068",
       "previous": "6e376d96-f14c-11e9-a8bb-02420a010068"
      },
      {
       "current": "102262c0-f150-11e9-a8bb-02420a010068",
       "next": "9b75334a-f144-11e9-a8bb-02420a010068",
       "previous": "6e376d96-f14c-11e9-a8bb-02420a010068"
      },
      {
       "current": "102262c0-f150-11e9-a8bb-02420a010068",
       "next": "9b75334a-f144-11e9-a8bb-02420a010068",
       "previous": "6e376d96-f14c-11e9-a8bb-02420a010068"
      },
      {
       "current": "102262c0-f150-11e9-a8bb-02420a010068",
       "next": "9b75334a-f144-11e9-a8bb-02420a010068",
       "previous": "6e376d96-f14c-11e9-a8bb-02420a010068"
      },
      {
       "current": "102262c0-f150-11e9-a8bb-02420a010068",
       "next": "9b75334a-f144-11e9-a8bb-02420a010068",
       "previous": "6e376d96-f14c-11e9-a8bb-02420a010068"
      },
      {
       "current": "102262c0-f150-11e9-a8bb-02420a010068",
       "next": "9b75334a-f144-11e9-a8bb-02420a010068",
       "previous": "6e376d96-f14c-11e9-a8bb-02420a010068"
      },
      {
       "current": "102262c0-f150-11e9-a8bb-02420a010068",
       "next": "9b75334a-f144-11e9-a8bb-02420a010068",
       "previous": "6e376d96-f14c-11e9-a8bb-02420a010068"
      },
      {
       "current": "102262c0-f150-11e9-a8bb-02420a010068",
       "next": "9b75334a-f144-11e9-a8bb-02420a010068",
       "previous": "6e376d96-f14c-11e9-a8bb-02420a010068"
      },
      {
       "current": "102262c0-f150-11e9-a8bb-02420a010068",
       "next": "9b75334a-f144-11e9-a8bb-02420a010068",
       "previous": "6e376d96-f14c-11e9-a8bb-02420a010068"
      },
      {
       "current": "102262c0-f150-11e9-a8bb-02420a010068",
       "next": "9b75334a-f144-11e9-a8bb-02420a010068",
       "previous": "6e376d96-f14c-11e9-a8bb-02420a010068"
      },
      {
       "current": "102262c0-f150-11e9-a8bb-02420a010068",
       "next": "9b75334a-f144-11e9-a8bb-02420a010068",
       "previous": "6e376d96-f14c-11e9-a8bb-02420a010068"
      },
      {
       "current": "102262c0-f150-11e9-a8bb-02420a010068",
       "next": "9b75334a-f144-11e9-a8bb-02420a010068",
       "previous": "6e376d96-f14c-11e9-a8bb-02420a010068"
      },
      {
       "current": "102262c0-f150-11e9-a8bb-02420a010068",
       "next": "9b75334a-f144-11e9-a8bb-02420a010068",
       "previous": "6e376d96-f14c-11e9-a8bb-02420a010068"
      },
      {
       "current": "102262c0-f150-11e9-a8bb-02420a010068",
       "next": "9b75334a-f144-11e9-a8bb-02420a010068",
       "previous": "6e376d96-f14c-11e9-a8bb-02420a010068"
      },
      {
       "current": "102262c0-f150-11e9-a8bb-02420a010068",
       "next": "9b75334a-f144-11e9-a8bb-02420a010068",
       "previous": "6e376d96-f14c-11e9-a8bb-02420a010068"
      },
      {
       "current": "102262c0-f150-11e9-a8bb-02420a010068",
       "next": "9b75334a-f144-11e9-a8bb-02420a010068",
       "previous": "6e376d96-f14c-11e9-a8bb-02420a010068"
      },
      {
       "current": "102262c0-f150-11e9-a8bb-02420a010068",
       "next": "9b75334a-f144-11e9-a8bb-02420a010068",
       "previous": "6e376d96-f14c-11e9-a8bb-02420a010068"
      },
      {
       "current": "102262c0-f150-11e9-a8bb-02420a010068",
       "next": "9b75334a-f144-11e9-a8bb-02420a010068",
       "previous": "6e376d96-f14c-11e9-a8bb-02420a010068"
      },
      {
       "current": "102262c0-f150-11e9-a8bb-02420a010068",
       "next": "9b75334a-f144-11e9-a8bb-02420a010068",
       "previous": "6e376d96-f14c-11e9-a8bb-02420a010068"
      },
      {
       "current": "102262c0-f150-11e9-a8bb-02420a010068",
       "next": "9b75334a-f144-11e9-a8bb-02420a010068",
       "previous": "6e376d96-f14c-11e9-a8bb-02420a010068"
      },
      {
       "current": "102262c0-f150-11e9-a8bb-02420a010068",
       "next": "9b75334a-f144-11e9-a8bb-02420a010068",
       "previous": "6e376d96-f14c-11e9-a8bb-02420a010068"
      },
      {
       "current": "102262c0-f150-11e9-a8bb-02420a010068",
       "next": "9b75334a-f144-11e9-a8bb-02420a010068",
       "previous": "6e376d96-f14c-11e9-a8bb-02420a010068"
      },
      {
       "current": "102262c0-f150-11e9-a8bb-02420a010068",
       "next": "9b75334a-f144-11e9-a8bb-02420a010068",
       "previous": "6e376d96-f14c-11e9-a8bb-02420a010068"
      },
      {
       "current": "102262c0-f150-11e9-a8bb-02420a010068",
       "next": "9b75334a-f144-11e9-a8bb-02420a010068",
       "previous": "6e376d96-f14c-11e9-a8bb-02420a010068"
      },
      {
       "current": "102262c0-f150-11e9-a8bb-02420a010068",
       "next": "9b75334a-f144-11e9-a8bb-02420a010068",
       "previous": "6e376d96-f14c-11e9-a8bb-02420a010068"
      },
      {
       "current": "102262c0-f150-11e9-a8bb-02420a010068",
       "next": "9b75334a-f144-11e9-a8bb-02420a010068",
       "previous": "6e376d96-f14c-11e9-a8bb-02420a010068"
      },
      {
       "current": "102262c0-f150-11e9-a8bb-02420a010068",
       "next": "9b75334a-f144-11e9-a8bb-02420a010068",
       "previous": "6e376d96-f14c-11e9-a8bb-02420a010068"
      },
      {
       "current": "102262c0-f150-11e9-a8bb-02420a010068",
       "next": "9b75334a-f144-11e9-a8bb-02420a010068",
       "previous": "6e376d96-f14c-11e9-a8bb-02420a010068"
      },
      {
       "current": "102262c0-f150-11e9-a8bb-02420a010068",
       "next": "9b75334a-f144-11e9-a8bb-02420a010068",
       "previous": "6e376d96-f14c-11e9-a8bb-02420a010068"
      },
      {
       "current": "102262c0-f150-11e9-a8bb-02420a010068",
       "next": "9b75334a-f144-11e9-a8bb-02420a010068",
       "previous": "6e376d96-f14c-11e9-a8bb-02420a010068"
      },
      {
       "current": "102262c0-f150-11e9-a8bb-02420a010068",
       "next": "9b75334a-f144-11e9-a8bb-02420a010068",
       "previous": "6e376d96-f14c-11e9-a8bb-02420a010068"
      },
      {
       "current": "102262c0-f150-11e9-a8bb-02420a010068",
       "next": "9b75334a-f144-11e9-a8bb-02420a010068",
       "previous": "6e376d96-f14c-11e9-a8bb-02420a010068"
      },
      {
       "current": "102262c0-f150-11e9-a8bb-02420a010068",
       "next": "9b75334a-f144-11e9-a8bb-02420a010068",
       "previous": "6e376d96-f14c-11e9-a8bb-02420a010068"
      },
      {
       "current": "102262c0-f150-11e9-a8bb-02420a010068",
       "next": "9b75334a-f144-11e9-a8bb-02420a010068",
       "previous": "6e376d96-f14c-11e9-a8bb-02420a010068"
      },
      {
       "current": "102262c0-f150-11e9-a8bb-02420a010068",
       "next": "9b75334a-f144-11e9-a8bb-02420a010068",
       "previous": "6e376d96-f14c-11e9-a8bb-02420a010068"
      },
      {
       "current": "102262c0-f150-11e9-a8bb-02420a010068",
       "next": "9b75334a-f144-11e9-a8bb-02420a010068",
       "previous": "6e376d96-f14c-11e9-a8bb-02420a010068"
      },
      {
       "current": "102262c0-f150-11e9-a8bb-02420a010068",
       "next": "9b75334a-f144-11e9-a8bb-02420a010068",
       "previous": "6e376d96-f14c-11e9-a8bb-02420a010068"
      },
      {
       "current": "102262c0-f150-11e9-a8bb-02420a010068",
       "next": "9b75334a-f144-11e9-a8bb-02420a010068",
       "previous": "6e376d96-f14c-11e9-a8bb-02420a010068"
      },
      {
       "current": "102262c0-f150-11e9-a8bb-02420a010068",
       "next": "9b75334a-f144-11e9-a8bb-02420a010068",
       "previous": "6e376d96-f14c-11e9-a8bb-02420a010068"
      },
      {
       "current": "102262c0-f150-11e9-a8bb-02420a010068",
       "next": "9b75334a-f144-11e9-a8bb-02420a010068",
       "previous": "6e376d96-f14c-11e9-a8bb-02420a010068"
      },
      {
       "current": "102262c0-f150-11e9-a8bb-02420a010068",
       "next": "9b75334a-f144-11e9-a8bb-02420a010068",
       "previous": "6e376d96-f14c-11e9-a8bb-02420a010068"
      },
      {
       "current": "102262c0-f150-11e9-a8bb-02420a010068",
       "next": "9b75334a-f144-11e9-a8bb-02420a010068",
       "previous": "6e376d96-f14c-11e9-a8bb-02420a010068"
      },
      {
       "current": "102262c0-f150-11e9-a8bb-02420a010068",
       "next": "9b75334a-f144-11e9-a8bb-02420a010068",
       "previous": "6e376d96-f14c-11e9-a8bb-02420a010068"
      },
      {
       "current": "102262c0-f150-11e9-a8bb-02420a010068",
       "next": "9b75334a-f144-11e9-a8bb-02420a010068",
       "previous": "6e376d96-f14c-11e9-a8bb-02420a010068"
      },
      {
       "current": "102262c0-f150-11e9-a8bb-02420a010068",
       "next": "9b75334a-f144-11e9-a8bb-02420a010068",
       "previous": "6e376d96-f14c-11e9-a8bb-02420a010068"
      },
      {
       "current": "102262c0-f150-11e9-a8bb-02420a010068",
       "next": "9b75334a-f144-11e9-a8bb-02420a010068",
       "previous": "6e376d96-f14c-11e9-a8bb-02420a010068"
      },
      {
       "current": "102262c0-f150-11e9-a8bb-02420a010068",
       "next": "9b75334a-f144-11e9-a8bb-02420a010068",
       "previous": "6e376d96-f14c-11e9-a8bb-02420a010068"
      },
      {
       "current": "102262c0-f150-11e9-a8bb-02420a010068",
       "next": "9b75334a-f144-11e9-a8bb-02420a010068",
       "previous": "6e376d96-f14c-11e9-a8bb-02420a010068"
      },
      {
       "current": "102262c0-f150-11e9-a8bb-02420a010068",
       "next": "9b75334a-f144-11e9-a8bb-02420a010068",
       "previous": "6e376d96-f14c-11e9-a8bb-02420a010068"
      },
      {
       "current": "102262c0-f150-11e9-a8bb-02420a010068",
       "next": "1b6d3be8-f14e-11e9-a8bb-02420a010068",
       "previous": "df2e45d4-f14b-11e9-a8bb-02420a010068"
      },
      {
       "current": "102262c0-f150-11e9-a8bb-02420a010068",
       "next": "1b6d3be8-f14e-11e9-a8bb-02420a010068",
       "previous": "bb7f4cc6-f5e9-11e9-a8bb-02420a010068"
      },
      {
       "current": "fb60f0ea-f5eb-11e9-a374-02420a010068",
       "next": "fb60f234-f5eb-11e9-a374-02420a010068",
       "previous": "fb60ef32-f5eb-11e9-a374-02420a010068"
      }
     ],
     "next": "e2b31d92-faba-11e9-8686-02420a010844",
     "previous": "e2b31a0e-faba-11e9-8686-02420a010844"
    }
   },
   "source": [
    "ヒント：出力例\n",
    "```\n",
    "北海道\n",
    "北海道\n",
    "北海道\n",
    "北海道\n",
    "北海道\n",
    "```"
   ]
  },
  {
   "cell_type": "markdown",
   "metadata": {
    "lc_cell_meme": {
     "current": "e2b31d92-faba-11e9-8686-02420a010844",
     "history": [
      {
       "current": "1b6d3be8-f14e-11e9-a8bb-02420a010068",
       "next": "df2e4296-f14b-11e9-a8bb-02420a010068",
       "previous": "df2e45d4-f14b-11e9-a8bb-02420a010068"
      },
      {
       "current": "1b6d3be8-f14e-11e9-a8bb-02420a010068",
       "next": "df2e4296-f14b-11e9-a8bb-02420a010068",
       "previous": "102262c0-f150-11e9-a8bb-02420a010068"
      },
      {
       "current": "fb60f234-f5eb-11e9-a374-02420a010068",
       "next": "fb60f3ce-f5eb-11e9-a374-02420a010068",
       "previous": "fb60f0ea-f5eb-11e9-a374-02420a010068"
      }
     ],
     "next": "e2b31f2c-faba-11e9-8686-02420a010844",
     "previous": "e2b31c20-faba-11e9-8686-02420a010844"
    }
   },
   "source": [
    "### while文演習2"
   ]
  },
  {
   "cell_type": "markdown",
   "metadata": {
    "lc_cell_meme": {
     "current": "e2b31f2c-faba-11e9-8686-02420a010844",
     "history": [
      {
       "current": "df2e4296-f14b-11e9-a8bb-02420a010068",
       "next": "df2e45d4-f14b-11e9-a8bb-02420a010068",
       "previous": "9b75334a-f144-11e9-a8bb-02420a010068"
      },
      {
       "current": "df2e4296-f14b-11e9-a8bb-02420a010068",
       "next": "df2e45d4-f14b-11e9-a8bb-02420a010068",
       "previous": "df2e45d4-f14b-11e9-a8bb-02420a010068"
      },
      {
       "current": "df2e4296-f14b-11e9-a8bb-02420a010068",
       "next": "df2e45d4-f14b-11e9-a8bb-02420a010068",
       "previous": "1b6d3be8-f14e-11e9-a8bb-02420a010068"
      },
      {
       "current": "df2e4296-f14b-11e9-a8bb-02420a010068",
       "next": "bb7f4dc0-f5e9-11e9-a8bb-02420a010068",
       "previous": "1b6d3be8-f14e-11e9-a8bb-02420a010068"
      },
      {
       "current": "fb60f3ce-f5eb-11e9-a374-02420a010068",
       "next": "fb60f50e-f5eb-11e9-a374-02420a010068",
       "previous": "fb60f234-f5eb-11e9-a374-02420a010068"
      }
     ],
     "next": "e2b32076-faba-11e9-8686-02420a010844",
     "previous": "e2b31d92-faba-11e9-8686-02420a010844"
    }
   },
   "source": [
    "○演習：次のセルで、while文を使って、1から5までの数字を表示しなさい。"
   ]
  },
  {
   "cell_type": "code",
   "execution_count": null,
   "metadata": {
    "lc_cell_meme": {
     "current": "e2b32076-faba-11e9-8686-02420a010844",
     "history": [
      {
       "current": "bb7f4dc0-f5e9-11e9-a8bb-02420a010068",
       "next": "df2e45d4-f14b-11e9-a8bb-02420a010068",
       "previous": "df2e4296-f14b-11e9-a8bb-02420a010068"
      },
      {
       "current": "bb7f4dc0-f5e9-11e9-a8bb-02420a010068",
       "next": "102262c0-f150-11e9-a8bb-02420a010068",
       "previous": "df2e4296-f14b-11e9-a8bb-02420a010068"
      },
      {
       "current": "fb60f50e-f5eb-11e9-a374-02420a010068",
       "next": "fb60f694-f5eb-11e9-a374-02420a010068",
       "previous": "fb60f3ce-f5eb-11e9-a374-02420a010068"
      }
     ],
     "next": "e2b321e8-faba-11e9-8686-02420a010844",
     "previous": "e2b31f2c-faba-11e9-8686-02420a010844"
    }
   },
   "outputs": [],
   "source": [
    "# 演習用入力欄\n"
   ]
  },
  {
   "cell_type": "markdown",
   "metadata": {
    "lc_cell_meme": {
     "current": "e2b321e8-faba-11e9-8686-02420a010844",
     "history": [
      {
       "current": "102262c0-f150-11e9-a8bb-02420a010068",
       "next": "1b6d3d32-f14e-11e9-a8bb-02420a010068",
       "previous": "d3dcde32-f14d-11e9-a8bb-02420a010068"
      },
      {
       "current": "102262c0-f150-11e9-a8bb-02420a010068",
       "next": "1b6d3d32-f14e-11e9-a8bb-02420a010068",
       "previous": "d3dcde32-f14d-11e9-a8bb-02420a010068"
      },
      {
       "current": "102262c0-f150-11e9-a8bb-02420a010068",
       "next": "1b6d3d32-f14e-11e9-a8bb-02420a010068",
       "previous": "d3dcde32-f14d-11e9-a8bb-02420a010068"
      },
      {
       "current": "102262c0-f150-11e9-a8bb-02420a010068",
       "next": "9b75334a-f144-11e9-a8bb-02420a010068",
       "previous": "6e376d96-f14c-11e9-a8bb-02420a010068"
      },
      {
       "current": "102262c0-f150-11e9-a8bb-02420a010068",
       "next": "9b75334a-f144-11e9-a8bb-02420a010068",
       "previous": "6e376d96-f14c-11e9-a8bb-02420a010068"
      },
      {
       "current": "102262c0-f150-11e9-a8bb-02420a010068",
       "next": "9b75334a-f144-11e9-a8bb-02420a010068",
       "previous": "6e376d96-f14c-11e9-a8bb-02420a010068"
      },
      {
       "current": "102262c0-f150-11e9-a8bb-02420a010068",
       "next": "9b75334a-f144-11e9-a8bb-02420a010068",
       "previous": "6e376d96-f14c-11e9-a8bb-02420a010068"
      },
      {
       "current": "102262c0-f150-11e9-a8bb-02420a010068",
       "next": "9b75334a-f144-11e9-a8bb-02420a010068",
       "previous": "6e376d96-f14c-11e9-a8bb-02420a010068"
      },
      {
       "current": "102262c0-f150-11e9-a8bb-02420a010068",
       "next": "9b75334a-f144-11e9-a8bb-02420a010068",
       "previous": "6e376d96-f14c-11e9-a8bb-02420a010068"
      },
      {
       "current": "102262c0-f150-11e9-a8bb-02420a010068",
       "next": "9b75334a-f144-11e9-a8bb-02420a010068",
       "previous": "6e376d96-f14c-11e9-a8bb-02420a010068"
      },
      {
       "current": "102262c0-f150-11e9-a8bb-02420a010068",
       "next": "9b75334a-f144-11e9-a8bb-02420a010068",
       "previous": "6e376d96-f14c-11e9-a8bb-02420a010068"
      },
      {
       "current": "102262c0-f150-11e9-a8bb-02420a010068",
       "next": "9b75334a-f144-11e9-a8bb-02420a010068",
       "previous": "6e376d96-f14c-11e9-a8bb-02420a010068"
      },
      {
       "current": "102262c0-f150-11e9-a8bb-02420a010068",
       "next": "9b75334a-f144-11e9-a8bb-02420a010068",
       "previous": "6e376d96-f14c-11e9-a8bb-02420a010068"
      },
      {
       "current": "102262c0-f150-11e9-a8bb-02420a010068",
       "next": "9b75334a-f144-11e9-a8bb-02420a010068",
       "previous": "6e376d96-f14c-11e9-a8bb-02420a010068"
      },
      {
       "current": "102262c0-f150-11e9-a8bb-02420a010068",
       "next": "9b75334a-f144-11e9-a8bb-02420a010068",
       "previous": "6e376d96-f14c-11e9-a8bb-02420a010068"
      },
      {
       "current": "102262c0-f150-11e9-a8bb-02420a010068",
       "next": "9b75334a-f144-11e9-a8bb-02420a010068",
       "previous": "6e376d96-f14c-11e9-a8bb-02420a010068"
      },
      {
       "current": "102262c0-f150-11e9-a8bb-02420a010068",
       "next": "9b75334a-f144-11e9-a8bb-02420a010068",
       "previous": "6e376d96-f14c-11e9-a8bb-02420a010068"
      },
      {
       "current": "102262c0-f150-11e9-a8bb-02420a010068",
       "next": "9b75334a-f144-11e9-a8bb-02420a010068",
       "previous": "6e376d96-f14c-11e9-a8bb-02420a010068"
      },
      {
       "current": "102262c0-f150-11e9-a8bb-02420a010068",
       "next": "9b75334a-f144-11e9-a8bb-02420a010068",
       "previous": "6e376d96-f14c-11e9-a8bb-02420a010068"
      },
      {
       "current": "102262c0-f150-11e9-a8bb-02420a010068",
       "next": "9b75334a-f144-11e9-a8bb-02420a010068",
       "previous": "6e376d96-f14c-11e9-a8bb-02420a010068"
      },
      {
       "current": "102262c0-f150-11e9-a8bb-02420a010068",
       "next": "9b75334a-f144-11e9-a8bb-02420a010068",
       "previous": "6e376d96-f14c-11e9-a8bb-02420a010068"
      },
      {
       "current": "102262c0-f150-11e9-a8bb-02420a010068",
       "next": "9b75334a-f144-11e9-a8bb-02420a010068",
       "previous": "6e376d96-f14c-11e9-a8bb-02420a010068"
      },
      {
       "current": "102262c0-f150-11e9-a8bb-02420a010068",
       "next": "9b75334a-f144-11e9-a8bb-02420a010068",
       "previous": "6e376d96-f14c-11e9-a8bb-02420a010068"
      },
      {
       "current": "102262c0-f150-11e9-a8bb-02420a010068",
       "next": "9b75334a-f144-11e9-a8bb-02420a010068",
       "previous": "6e376d96-f14c-11e9-a8bb-02420a010068"
      },
      {
       "current": "102262c0-f150-11e9-a8bb-02420a010068",
       "next": "9b75334a-f144-11e9-a8bb-02420a010068",
       "previous": "6e376d96-f14c-11e9-a8bb-02420a010068"
      },
      {
       "current": "102262c0-f150-11e9-a8bb-02420a010068",
       "next": "9b75334a-f144-11e9-a8bb-02420a010068",
       "previous": "6e376d96-f14c-11e9-a8bb-02420a010068"
      },
      {
       "current": "102262c0-f150-11e9-a8bb-02420a010068",
       "next": "9b75334a-f144-11e9-a8bb-02420a010068",
       "previous": "6e376d96-f14c-11e9-a8bb-02420a010068"
      },
      {
       "current": "102262c0-f150-11e9-a8bb-02420a010068",
       "next": "9b75334a-f144-11e9-a8bb-02420a010068",
       "previous": "6e376d96-f14c-11e9-a8bb-02420a010068"
      },
      {
       "current": "102262c0-f150-11e9-a8bb-02420a010068",
       "next": "9b75334a-f144-11e9-a8bb-02420a010068",
       "previous": "6e376d96-f14c-11e9-a8bb-02420a010068"
      },
      {
       "current": "102262c0-f150-11e9-a8bb-02420a010068",
       "next": "9b75334a-f144-11e9-a8bb-02420a010068",
       "previous": "6e376d96-f14c-11e9-a8bb-02420a010068"
      },
      {
       "current": "102262c0-f150-11e9-a8bb-02420a010068",
       "next": "9b75334a-f144-11e9-a8bb-02420a010068",
       "previous": "6e376d96-f14c-11e9-a8bb-02420a010068"
      },
      {
       "current": "102262c0-f150-11e9-a8bb-02420a010068",
       "next": "9b75334a-f144-11e9-a8bb-02420a010068",
       "previous": "6e376d96-f14c-11e9-a8bb-02420a010068"
      },
      {
       "current": "102262c0-f150-11e9-a8bb-02420a010068",
       "next": "9b75334a-f144-11e9-a8bb-02420a010068",
       "previous": "6e376d96-f14c-11e9-a8bb-02420a010068"
      },
      {
       "current": "102262c0-f150-11e9-a8bb-02420a010068",
       "next": "9b75334a-f144-11e9-a8bb-02420a010068",
       "previous": "6e376d96-f14c-11e9-a8bb-02420a010068"
      },
      {
       "current": "102262c0-f150-11e9-a8bb-02420a010068",
       "next": "9b75334a-f144-11e9-a8bb-02420a010068",
       "previous": "6e376d96-f14c-11e9-a8bb-02420a010068"
      },
      {
       "current": "102262c0-f150-11e9-a8bb-02420a010068",
       "next": "9b75334a-f144-11e9-a8bb-02420a010068",
       "previous": "6e376d96-f14c-11e9-a8bb-02420a010068"
      },
      {
       "current": "102262c0-f150-11e9-a8bb-02420a010068",
       "next": "9b75334a-f144-11e9-a8bb-02420a010068",
       "previous": "6e376d96-f14c-11e9-a8bb-02420a010068"
      },
      {
       "current": "102262c0-f150-11e9-a8bb-02420a010068",
       "next": "9b75334a-f144-11e9-a8bb-02420a010068",
       "previous": "6e376d96-f14c-11e9-a8bb-02420a010068"
      },
      {
       "current": "102262c0-f150-11e9-a8bb-02420a010068",
       "next": "9b75334a-f144-11e9-a8bb-02420a010068",
       "previous": "6e376d96-f14c-11e9-a8bb-02420a010068"
      },
      {
       "current": "102262c0-f150-11e9-a8bb-02420a010068",
       "next": "9b75334a-f144-11e9-a8bb-02420a010068",
       "previous": "6e376d96-f14c-11e9-a8bb-02420a010068"
      },
      {
       "current": "102262c0-f150-11e9-a8bb-02420a010068",
       "next": "9b75334a-f144-11e9-a8bb-02420a010068",
       "previous": "6e376d96-f14c-11e9-a8bb-02420a010068"
      },
      {
       "current": "102262c0-f150-11e9-a8bb-02420a010068",
       "next": "9b75334a-f144-11e9-a8bb-02420a010068",
       "previous": "6e376d96-f14c-11e9-a8bb-02420a010068"
      },
      {
       "current": "102262c0-f150-11e9-a8bb-02420a010068",
       "next": "9b75334a-f144-11e9-a8bb-02420a010068",
       "previous": "6e376d96-f14c-11e9-a8bb-02420a010068"
      },
      {
       "current": "102262c0-f150-11e9-a8bb-02420a010068",
       "next": "9b75334a-f144-11e9-a8bb-02420a010068",
       "previous": "6e376d96-f14c-11e9-a8bb-02420a010068"
      },
      {
       "current": "102262c0-f150-11e9-a8bb-02420a010068",
       "next": "9b75334a-f144-11e9-a8bb-02420a010068",
       "previous": "6e376d96-f14c-11e9-a8bb-02420a010068"
      },
      {
       "current": "102262c0-f150-11e9-a8bb-02420a010068",
       "next": "9b75334a-f144-11e9-a8bb-02420a010068",
       "previous": "6e376d96-f14c-11e9-a8bb-02420a010068"
      },
      {
       "current": "102262c0-f150-11e9-a8bb-02420a010068",
       "next": "9b75334a-f144-11e9-a8bb-02420a010068",
       "previous": "6e376d96-f14c-11e9-a8bb-02420a010068"
      },
      {
       "current": "102262c0-f150-11e9-a8bb-02420a010068",
       "next": "9b75334a-f144-11e9-a8bb-02420a010068",
       "previous": "6e376d96-f14c-11e9-a8bb-02420a010068"
      },
      {
       "current": "102262c0-f150-11e9-a8bb-02420a010068",
       "next": "9b75334a-f144-11e9-a8bb-02420a010068",
       "previous": "6e376d96-f14c-11e9-a8bb-02420a010068"
      },
      {
       "current": "102262c0-f150-11e9-a8bb-02420a010068",
       "next": "9b75334a-f144-11e9-a8bb-02420a010068",
       "previous": "6e376d96-f14c-11e9-a8bb-02420a010068"
      },
      {
       "current": "102262c0-f150-11e9-a8bb-02420a010068",
       "next": "9b75334a-f144-11e9-a8bb-02420a010068",
       "previous": "6e376d96-f14c-11e9-a8bb-02420a010068"
      },
      {
       "current": "102262c0-f150-11e9-a8bb-02420a010068",
       "next": "9b75334a-f144-11e9-a8bb-02420a010068",
       "previous": "6e376d96-f14c-11e9-a8bb-02420a010068"
      },
      {
       "current": "102262c0-f150-11e9-a8bb-02420a010068",
       "next": "9b75334a-f144-11e9-a8bb-02420a010068",
       "previous": "6e376d96-f14c-11e9-a8bb-02420a010068"
      },
      {
       "current": "102262c0-f150-11e9-a8bb-02420a010068",
       "next": "9b75334a-f144-11e9-a8bb-02420a010068",
       "previous": "6e376d96-f14c-11e9-a8bb-02420a010068"
      },
      {
       "current": "102262c0-f150-11e9-a8bb-02420a010068",
       "next": "1b6d3d32-f14e-11e9-a8bb-02420a010068",
       "previous": "df2e45d4-f14b-11e9-a8bb-02420a010068"
      },
      {
       "current": "102262c0-f150-11e9-a8bb-02420a010068",
       "next": "1b6d3d32-f14e-11e9-a8bb-02420a010068",
       "previous": "bb7f4dc0-f5e9-11e9-a8bb-02420a010068"
      },
      {
       "current": "fb60f694-f5eb-11e9-a374-02420a010068",
       "next": "fb60f7de-f5eb-11e9-a374-02420a010068",
       "previous": "fb60f50e-f5eb-11e9-a374-02420a010068"
      }
     ],
     "next": "e2b3238c-faba-11e9-8686-02420a010844",
     "previous": "e2b32076-faba-11e9-8686-02420a010844"
    }
   },
   "source": [
    "ヒント：出力例\n",
    "```\n",
    "1\n",
    "2\n",
    "3\n",
    "4\n",
    "5\n",
    "```"
   ]
  },
  {
   "cell_type": "markdown",
   "metadata": {
    "lc_cell_meme": {
     "current": "e2b3238c-faba-11e9-8686-02420a010844",
     "history": [
      {
       "current": "1b6d3d32-f14e-11e9-a8bb-02420a010068",
       "next": "df2e47aa-f14b-11e9-a8bb-02420a010068",
       "previous": "df2e45d4-f14b-11e9-a8bb-02420a010068"
      },
      {
       "current": "1b6d3d32-f14e-11e9-a8bb-02420a010068",
       "next": "df2e47aa-f14b-11e9-a8bb-02420a010068",
       "previous": "102262c0-f150-11e9-a8bb-02420a010068"
      },
      {
       "current": "fb60f7de-f5eb-11e9-a374-02420a010068",
       "next": "fb60f964-f5eb-11e9-a374-02420a010068",
       "previous": "fb60f694-f5eb-11e9-a374-02420a010068"
      }
     ],
     "next": "e2b32558-faba-11e9-8686-02420a010844",
     "previous": "e2b321e8-faba-11e9-8686-02420a010844"
    }
   },
   "source": [
    "### while文演習3"
   ]
  },
  {
   "cell_type": "markdown",
   "metadata": {
    "lc_cell_meme": {
     "current": "e2b32558-faba-11e9-8686-02420a010844",
     "execution_end_time": "2019-10-18T02:09:09.462119Z",
     "history": [
      {
       "current": "df2e47aa-f14b-11e9-a8bb-02420a010068",
       "next": "9b75334a-f144-11e9-a8bb-02420a010068",
       "previous": "df2e45d4-f14b-11e9-a8bb-02420a010068"
      },
      {
       "current": "df2e47aa-f14b-11e9-a8bb-02420a010068",
       "next": "6e376d96-f14c-11e9-a8bb-02420a010068",
       "previous": "df2e45d4-f14b-11e9-a8bb-02420a010068"
      },
      {
       "current": "df2e47aa-f14b-11e9-a8bb-02420a010068",
       "next": "6e376d96-f14c-11e9-a8bb-02420a010068",
       "previous": "1b6d3d32-f14e-11e9-a8bb-02420a010068"
      },
      {
       "current": "df2e47aa-f14b-11e9-a8bb-02420a010068",
       "next": "bb7f4eba-f5e9-11e9-a8bb-02420a010068",
       "previous": "1b6d3d32-f14e-11e9-a8bb-02420a010068"
      },
      {
       "current": "fb60f964-f5eb-11e9-a374-02420a010068",
       "next": "fb60faa4-f5eb-11e9-a374-02420a010068",
       "previous": "fb60f7de-f5eb-11e9-a374-02420a010068"
      }
     ],
     "next": "e2b326ac-faba-11e9-8686-02420a010844",
     "previous": "e2b3238c-faba-11e9-8686-02420a010844"
    },
    "lc_wrapper": {
     "log_history": [
      "/home/14999410x94c69e/05a/.log/20191018/20191018-110909-0438.log"
     ]
    }
   },
   "source": [
    "○演習：**(クッキーモンスター）** **難易度高**\n",
    "\n",
    "次のセルで、while文とinput()を使って、COOKIEと入力するまで入力を繰り返すプログラムを作成しなさい。"
   ]
  },
  {
   "cell_type": "code",
   "execution_count": null,
   "metadata": {
    "lc_cell_meme": {
     "current": "e2b326ac-faba-11e9-8686-02420a010844",
     "history": [
      {
       "current": "bb7f4eba-f5e9-11e9-a8bb-02420a010068",
       "next": "6e376d96-f14c-11e9-a8bb-02420a010068",
       "previous": "df2e47aa-f14b-11e9-a8bb-02420a010068"
      },
      {
       "current": "bb7f4eba-f5e9-11e9-a8bb-02420a010068",
       "next": "102262c0-f150-11e9-a8bb-02420a010068",
       "previous": "df2e47aa-f14b-11e9-a8bb-02420a010068"
      },
      {
       "current": "fb60faa4-f5eb-11e9-a374-02420a010068",
       "next": "fb60fc2a-f5eb-11e9-a374-02420a010068",
       "previous": "fb60f964-f5eb-11e9-a374-02420a010068"
      }
     ],
     "next": "e2b32814-faba-11e9-8686-02420a010844",
     "previous": "e2b32558-faba-11e9-8686-02420a010844"
    }
   },
   "outputs": [],
   "source": [
    "# 演習用入力欄（要修正）\n",
    "while input(\"COOKIEと入れてください?\") ??? \"COOKIE\":\n",
    "    print()\n",
    "    \n",
    "print (\"COOKIE YUMMY!\")"
   ]
  },
  {
   "cell_type": "markdown",
   "metadata": {
    "lc_cell_meme": {
     "current": "e2b32814-faba-11e9-8686-02420a010844",
     "history": [
      {
       "current": "102262c0-f150-11e9-a8bb-02420a010068",
       "next": "1b6d3d32-f14e-11e9-a8bb-02420a010068",
       "previous": "d3dcde32-f14d-11e9-a8bb-02420a010068"
      },
      {
       "current": "102262c0-f150-11e9-a8bb-02420a010068",
       "next": "1b6d3d32-f14e-11e9-a8bb-02420a010068",
       "previous": "d3dcde32-f14d-11e9-a8bb-02420a010068"
      },
      {
       "current": "102262c0-f150-11e9-a8bb-02420a010068",
       "next": "1b6d3d32-f14e-11e9-a8bb-02420a010068",
       "previous": "d3dcde32-f14d-11e9-a8bb-02420a010068"
      },
      {
       "current": "102262c0-f150-11e9-a8bb-02420a010068",
       "next": "9b75334a-f144-11e9-a8bb-02420a010068",
       "previous": "6e376d96-f14c-11e9-a8bb-02420a010068"
      },
      {
       "current": "102262c0-f150-11e9-a8bb-02420a010068",
       "next": "9b75334a-f144-11e9-a8bb-02420a010068",
       "previous": "6e376d96-f14c-11e9-a8bb-02420a010068"
      },
      {
       "current": "102262c0-f150-11e9-a8bb-02420a010068",
       "next": "9b75334a-f144-11e9-a8bb-02420a010068",
       "previous": "6e376d96-f14c-11e9-a8bb-02420a010068"
      },
      {
       "current": "102262c0-f150-11e9-a8bb-02420a010068",
       "next": "9b75334a-f144-11e9-a8bb-02420a010068",
       "previous": "6e376d96-f14c-11e9-a8bb-02420a010068"
      },
      {
       "current": "102262c0-f150-11e9-a8bb-02420a010068",
       "next": "9b75334a-f144-11e9-a8bb-02420a010068",
       "previous": "6e376d96-f14c-11e9-a8bb-02420a010068"
      },
      {
       "current": "102262c0-f150-11e9-a8bb-02420a010068",
       "next": "9b75334a-f144-11e9-a8bb-02420a010068",
       "previous": "6e376d96-f14c-11e9-a8bb-02420a010068"
      },
      {
       "current": "102262c0-f150-11e9-a8bb-02420a010068",
       "next": "9b75334a-f144-11e9-a8bb-02420a010068",
       "previous": "6e376d96-f14c-11e9-a8bb-02420a010068"
      },
      {
       "current": "102262c0-f150-11e9-a8bb-02420a010068",
       "next": "9b75334a-f144-11e9-a8bb-02420a010068",
       "previous": "6e376d96-f14c-11e9-a8bb-02420a010068"
      },
      {
       "current": "102262c0-f150-11e9-a8bb-02420a010068",
       "next": "9b75334a-f144-11e9-a8bb-02420a010068",
       "previous": "6e376d96-f14c-11e9-a8bb-02420a010068"
      },
      {
       "current": "102262c0-f150-11e9-a8bb-02420a010068",
       "next": "9b75334a-f144-11e9-a8bb-02420a010068",
       "previous": "6e376d96-f14c-11e9-a8bb-02420a010068"
      },
      {
       "current": "102262c0-f150-11e9-a8bb-02420a010068",
       "next": "9b75334a-f144-11e9-a8bb-02420a010068",
       "previous": "6e376d96-f14c-11e9-a8bb-02420a010068"
      },
      {
       "current": "102262c0-f150-11e9-a8bb-02420a010068",
       "next": "9b75334a-f144-11e9-a8bb-02420a010068",
       "previous": "6e376d96-f14c-11e9-a8bb-02420a010068"
      },
      {
       "current": "102262c0-f150-11e9-a8bb-02420a010068",
       "next": "9b75334a-f144-11e9-a8bb-02420a010068",
       "previous": "6e376d96-f14c-11e9-a8bb-02420a010068"
      },
      {
       "current": "102262c0-f150-11e9-a8bb-02420a010068",
       "next": "9b75334a-f144-11e9-a8bb-02420a010068",
       "previous": "6e376d96-f14c-11e9-a8bb-02420a010068"
      },
      {
       "current": "102262c0-f150-11e9-a8bb-02420a010068",
       "next": "9b75334a-f144-11e9-a8bb-02420a010068",
       "previous": "6e376d96-f14c-11e9-a8bb-02420a010068"
      },
      {
       "current": "102262c0-f150-11e9-a8bb-02420a010068",
       "next": "9b75334a-f144-11e9-a8bb-02420a010068",
       "previous": "6e376d96-f14c-11e9-a8bb-02420a010068"
      },
      {
       "current": "102262c0-f150-11e9-a8bb-02420a010068",
       "next": "9b75334a-f144-11e9-a8bb-02420a010068",
       "previous": "6e376d96-f14c-11e9-a8bb-02420a010068"
      },
      {
       "current": "102262c0-f150-11e9-a8bb-02420a010068",
       "next": "9b75334a-f144-11e9-a8bb-02420a010068",
       "previous": "6e376d96-f14c-11e9-a8bb-02420a010068"
      },
      {
       "current": "102262c0-f150-11e9-a8bb-02420a010068",
       "next": "9b75334a-f144-11e9-a8bb-02420a010068",
       "previous": "6e376d96-f14c-11e9-a8bb-02420a010068"
      },
      {
       "current": "102262c0-f150-11e9-a8bb-02420a010068",
       "next": "9b75334a-f144-11e9-a8bb-02420a010068",
       "previous": "6e376d96-f14c-11e9-a8bb-02420a010068"
      },
      {
       "current": "102262c0-f150-11e9-a8bb-02420a010068",
       "next": "9b75334a-f144-11e9-a8bb-02420a010068",
       "previous": "6e376d96-f14c-11e9-a8bb-02420a010068"
      },
      {
       "current": "102262c0-f150-11e9-a8bb-02420a010068",
       "next": "9b75334a-f144-11e9-a8bb-02420a010068",
       "previous": "6e376d96-f14c-11e9-a8bb-02420a010068"
      },
      {
       "current": "102262c0-f150-11e9-a8bb-02420a010068",
       "next": "9b75334a-f144-11e9-a8bb-02420a010068",
       "previous": "6e376d96-f14c-11e9-a8bb-02420a010068"
      },
      {
       "current": "102262c0-f150-11e9-a8bb-02420a010068",
       "next": "9b75334a-f144-11e9-a8bb-02420a010068",
       "previous": "6e376d96-f14c-11e9-a8bb-02420a010068"
      },
      {
       "current": "102262c0-f150-11e9-a8bb-02420a010068",
       "next": "9b75334a-f144-11e9-a8bb-02420a010068",
       "previous": "6e376d96-f14c-11e9-a8bb-02420a010068"
      },
      {
       "current": "102262c0-f150-11e9-a8bb-02420a010068",
       "next": "9b75334a-f144-11e9-a8bb-02420a010068",
       "previous": "6e376d96-f14c-11e9-a8bb-02420a010068"
      },
      {
       "current": "102262c0-f150-11e9-a8bb-02420a010068",
       "next": "9b75334a-f144-11e9-a8bb-02420a010068",
       "previous": "6e376d96-f14c-11e9-a8bb-02420a010068"
      },
      {
       "current": "102262c0-f150-11e9-a8bb-02420a010068",
       "next": "9b75334a-f144-11e9-a8bb-02420a010068",
       "previous": "6e376d96-f14c-11e9-a8bb-02420a010068"
      },
      {
       "current": "102262c0-f150-11e9-a8bb-02420a010068",
       "next": "9b75334a-f144-11e9-a8bb-02420a010068",
       "previous": "6e376d96-f14c-11e9-a8bb-02420a010068"
      },
      {
       "current": "102262c0-f150-11e9-a8bb-02420a010068",
       "next": "9b75334a-f144-11e9-a8bb-02420a010068",
       "previous": "6e376d96-f14c-11e9-a8bb-02420a010068"
      },
      {
       "current": "102262c0-f150-11e9-a8bb-02420a010068",
       "next": "9b75334a-f144-11e9-a8bb-02420a010068",
       "previous": "6e376d96-f14c-11e9-a8bb-02420a010068"
      },
      {
       "current": "102262c0-f150-11e9-a8bb-02420a010068",
       "next": "9b75334a-f144-11e9-a8bb-02420a010068",
       "previous": "6e376d96-f14c-11e9-a8bb-02420a010068"
      },
      {
       "current": "102262c0-f150-11e9-a8bb-02420a010068",
       "next": "9b75334a-f144-11e9-a8bb-02420a010068",
       "previous": "6e376d96-f14c-11e9-a8bb-02420a010068"
      },
      {
       "current": "102262c0-f150-11e9-a8bb-02420a010068",
       "next": "9b75334a-f144-11e9-a8bb-02420a010068",
       "previous": "6e376d96-f14c-11e9-a8bb-02420a010068"
      },
      {
       "current": "102262c0-f150-11e9-a8bb-02420a010068",
       "next": "9b75334a-f144-11e9-a8bb-02420a010068",
       "previous": "6e376d96-f14c-11e9-a8bb-02420a010068"
      },
      {
       "current": "102262c0-f150-11e9-a8bb-02420a010068",
       "next": "9b75334a-f144-11e9-a8bb-02420a010068",
       "previous": "6e376d96-f14c-11e9-a8bb-02420a010068"
      },
      {
       "current": "102262c0-f150-11e9-a8bb-02420a010068",
       "next": "9b75334a-f144-11e9-a8bb-02420a010068",
       "previous": "6e376d96-f14c-11e9-a8bb-02420a010068"
      },
      {
       "current": "102262c0-f150-11e9-a8bb-02420a010068",
       "next": "9b75334a-f144-11e9-a8bb-02420a010068",
       "previous": "6e376d96-f14c-11e9-a8bb-02420a010068"
      },
      {
       "current": "102262c0-f150-11e9-a8bb-02420a010068",
       "next": "9b75334a-f144-11e9-a8bb-02420a010068",
       "previous": "6e376d96-f14c-11e9-a8bb-02420a010068"
      },
      {
       "current": "102262c0-f150-11e9-a8bb-02420a010068",
       "next": "9b75334a-f144-11e9-a8bb-02420a010068",
       "previous": "6e376d96-f14c-11e9-a8bb-02420a010068"
      },
      {
       "current": "102262c0-f150-11e9-a8bb-02420a010068",
       "next": "9b75334a-f144-11e9-a8bb-02420a010068",
       "previous": "6e376d96-f14c-11e9-a8bb-02420a010068"
      },
      {
       "current": "102262c0-f150-11e9-a8bb-02420a010068",
       "next": "9b75334a-f144-11e9-a8bb-02420a010068",
       "previous": "6e376d96-f14c-11e9-a8bb-02420a010068"
      },
      {
       "current": "102262c0-f150-11e9-a8bb-02420a010068",
       "next": "9b75334a-f144-11e9-a8bb-02420a010068",
       "previous": "6e376d96-f14c-11e9-a8bb-02420a010068"
      },
      {
       "current": "102262c0-f150-11e9-a8bb-02420a010068",
       "next": "9b75334a-f144-11e9-a8bb-02420a010068",
       "previous": "6e376d96-f14c-11e9-a8bb-02420a010068"
      },
      {
       "current": "102262c0-f150-11e9-a8bb-02420a010068",
       "next": "9b75334a-f144-11e9-a8bb-02420a010068",
       "previous": "6e376d96-f14c-11e9-a8bb-02420a010068"
      },
      {
       "current": "102262c0-f150-11e9-a8bb-02420a010068",
       "next": "9b75334a-f144-11e9-a8bb-02420a010068",
       "previous": "6e376d96-f14c-11e9-a8bb-02420a010068"
      },
      {
       "current": "102262c0-f150-11e9-a8bb-02420a010068",
       "next": "9b75334a-f144-11e9-a8bb-02420a010068",
       "previous": "6e376d96-f14c-11e9-a8bb-02420a010068"
      },
      {
       "current": "102262c0-f150-11e9-a8bb-02420a010068",
       "next": "9b75334a-f144-11e9-a8bb-02420a010068",
       "previous": "6e376d96-f14c-11e9-a8bb-02420a010068"
      },
      {
       "current": "102262c0-f150-11e9-a8bb-02420a010068",
       "next": "9b75334a-f144-11e9-a8bb-02420a010068",
       "previous": "6e376d96-f14c-11e9-a8bb-02420a010068"
      },
      {
       "current": "102262c0-f150-11e9-a8bb-02420a010068",
       "next": "9b75334a-f144-11e9-a8bb-02420a010068",
       "previous": "6e376d96-f14c-11e9-a8bb-02420a010068"
      },
      {
       "current": "102262c0-f150-11e9-a8bb-02420a010068",
       "next": "9b75334a-f144-11e9-a8bb-02420a010068",
       "previous": "6e376d96-f14c-11e9-a8bb-02420a010068"
      },
      {
       "current": "102262c0-f150-11e9-a8bb-02420a010068",
       "next": "335c3418-f3cc-11e9-a8bb-02420a010068",
       "previous": "6e376d96-f14c-11e9-a8bb-02420a010068"
      },
      {
       "current": "102262c0-f150-11e9-a8bb-02420a010068",
       "next": "335c3418-f3cc-11e9-a8bb-02420a010068",
       "previous": "bb7f4eba-f5e9-11e9-a8bb-02420a010068"
      },
      {
       "current": "fb60fc2a-f5eb-11e9-a374-02420a010068",
       "next": "fb60fd92-f5eb-11e9-a374-02420a010068",
       "previous": "fb60faa4-f5eb-11e9-a374-02420a010068"
      }
     ],
     "next": "e2b3295e-faba-11e9-8686-02420a010844",
     "previous": "e2b326ac-faba-11e9-8686-02420a010844"
    }
   },
   "source": [
    "ヒント：出力例\n",
    "```\n",
    "COOKIEと入れてください?CHOCOLATE\n",
    "\n",
    "COOKIEと入れてください?CANDY\n",
    "\n",
    "COOKIEと入れてください?COOKIE\n",
    "COOKIE YUMMY!\n",
    "\n",
    "```"
   ]
  },
  {
   "cell_type": "markdown",
   "metadata": {
    "lc_cell_meme": {
     "current": "e2b3295e-faba-11e9-8686-02420a010844",
     "history": [
      {
       "current": "335c3418-f3cc-11e9-a8bb-02420a010068",
       "next": "9b75334a-f144-11e9-a8bb-02420a010068",
       "previous": "102262c0-f150-11e9-a8bb-02420a010068"
      },
      {
       "current": "fb60fd92-f5eb-11e9-a374-02420a010068",
       "next": "fb60ff40-f5eb-11e9-a374-02420a010068",
       "previous": "fb60fc2a-f5eb-11e9-a374-02420a010068"
      }
     ],
     "next": "e2b32af8-faba-11e9-8686-02420a010844",
     "previous": "e2b32814-faba-11e9-8686-02420a010844"
    }
   },
   "source": [
    "ヒント： COOKIEと入力してプロいグラムを終了してから次の演習に進むこと。\n",
    "\n",
    "**プロブラムを停止しないと、他のセルは評価できないので注意すること。**"
   ]
  },
  {
   "cell_type": "markdown",
   "metadata": {
    "lc_cell_meme": {
     "current": "e2b32af8-faba-11e9-8686-02420a010844",
     "history": [
      {
       "current": "9b75334a-f144-11e9-a8bb-02420a010068",
       "next": "53eefc90-f144-11e9-a8bb-02420a010068",
       "previous": "53eefb28-f144-11e9-a8bb-02420a010068"
      },
      {
       "current": "9b75334a-f144-11e9-a8bb-02420a010068",
       "next": "e305dc8c-f144-11e9-a8bb-02420a010068",
       "previous": "e305db60-f144-11e9-a8bb-02420a010068"
      },
      {
       "current": "9b75334a-f144-11e9-a8bb-02420a010068",
       "next": "0c6cb11e-f144-11e9-a8bb-02420a010068",
       "previous": "9b75334a-f144-11e9-a8bb-02420a010068"
      },
      {
       "current": "9b75334a-f144-11e9-a8bb-02420a010068",
       "next": "0c6cb11e-f144-11e9-a8bb-02420a010068",
       "previous": "9b75334a-f144-11e9-a8bb-02420a010068"
      },
      {
       "current": "9b75334a-f144-11e9-a8bb-02420a010068",
       "next": "0c6cb2d6-f144-11e9-a8bb-02420a010068",
       "previous": "9b75334a-f144-11e9-a8bb-02420a010068"
      },
      {
       "current": "9b75334a-f144-11e9-a8bb-02420a010068",
       "next": "0c6cb2d6-f144-11e9-a8bb-02420a010068",
       "previous": "9b75334a-f144-11e9-a8bb-02420a010068"
      },
      {
       "current": "9b75334a-f144-11e9-a8bb-02420a010068",
       "next": "0c6cb2d6-f144-11e9-a8bb-02420a010068",
       "previous": "9b75334a-f144-11e9-a8bb-02420a010068"
      },
      {
       "current": "9b75334a-f144-11e9-a8bb-02420a010068",
       "next": "0c6cb2d6-f144-11e9-a8bb-02420a010068",
       "previous": "9b75334a-f144-11e9-a8bb-02420a010068"
      },
      {
       "current": "9b75334a-f144-11e9-a8bb-02420a010068",
       "next": "0c6cb2d6-f144-11e9-a8bb-02420a010068",
       "previous": "9b75334a-f144-11e9-a8bb-02420a010068"
      },
      {
       "current": "9b75334a-f144-11e9-a8bb-02420a010068",
       "next": "0c6cb2d6-f144-11e9-a8bb-02420a010068",
       "previous": "9b75334a-f144-11e9-a8bb-02420a010068"
      },
      {
       "current": "9b75334a-f144-11e9-a8bb-02420a010068",
       "next": "0c6cb2d6-f144-11e9-a8bb-02420a010068",
       "previous": "9b75334a-f144-11e9-a8bb-02420a010068"
      },
      {
       "current": "9b75334a-f144-11e9-a8bb-02420a010068",
       "next": "0c6cb2d6-f144-11e9-a8bb-02420a010068",
       "previous": "9b75334a-f144-11e9-a8bb-02420a010068"
      },
      {
       "current": "9b75334a-f144-11e9-a8bb-02420a010068",
       "next": "0c6cb2d6-f144-11e9-a8bb-02420a010068",
       "previous": "9b75334a-f144-11e9-a8bb-02420a010068"
      },
      {
       "current": "9b75334a-f144-11e9-a8bb-02420a010068",
       "next": "0c6cb2d6-f144-11e9-a8bb-02420a010068",
       "previous": "9b75334a-f144-11e9-a8bb-02420a010068"
      },
      {
       "current": "9b75334a-f144-11e9-a8bb-02420a010068",
       "next": "0c6cb2d6-f144-11e9-a8bb-02420a010068",
       "previous": "9b75334a-f144-11e9-a8bb-02420a010068"
      },
      {
       "current": "9b75334a-f144-11e9-a8bb-02420a010068",
       "next": "0c6cb2d6-f144-11e9-a8bb-02420a010068",
       "previous": "9b75334a-f144-11e9-a8bb-02420a010068"
      },
      {
       "current": "9b75334a-f144-11e9-a8bb-02420a010068",
       "next": "0c6cb2d6-f144-11e9-a8bb-02420a010068",
       "previous": "9b75334a-f144-11e9-a8bb-02420a010068"
      },
      {
       "current": "9b75334a-f144-11e9-a8bb-02420a010068",
       "next": "0c6cb2d6-f144-11e9-a8bb-02420a010068",
       "previous": "9b75334a-f144-11e9-a8bb-02420a010068"
      },
      {
       "current": "9b75334a-f144-11e9-a8bb-02420a010068",
       "next": "0c6cb2d6-f144-11e9-a8bb-02420a010068",
       "previous": "9b75334a-f144-11e9-a8bb-02420a010068"
      },
      {
       "current": "9b75334a-f144-11e9-a8bb-02420a010068",
       "next": "0c6cb2d6-f144-11e9-a8bb-02420a010068",
       "previous": "9b75334a-f144-11e9-a8bb-02420a010068"
      },
      {
       "current": "9b75334a-f144-11e9-a8bb-02420a010068",
       "next": "0c6cb2d6-f144-11e9-a8bb-02420a010068",
       "previous": "9b75334a-f144-11e9-a8bb-02420a010068"
      },
      {
       "current": "9b75334a-f144-11e9-a8bb-02420a010068",
       "next": "0c6cb2d6-f144-11e9-a8bb-02420a010068",
       "previous": "9b75334a-f144-11e9-a8bb-02420a010068"
      },
      {
       "current": "9b75334a-f144-11e9-a8bb-02420a010068",
       "next": "0c6cb2d6-f144-11e9-a8bb-02420a010068",
       "previous": "9b75334a-f144-11e9-a8bb-02420a010068"
      },
      {
       "current": "9b75334a-f144-11e9-a8bb-02420a010068",
       "next": "0c6cb2d6-f144-11e9-a8bb-02420a010068",
       "previous": "9b75334a-f144-11e9-a8bb-02420a010068"
      },
      {
       "current": "9b75334a-f144-11e9-a8bb-02420a010068",
       "next": "0c6cb2d6-f144-11e9-a8bb-02420a010068",
       "previous": "9b75334a-f144-11e9-a8bb-02420a010068"
      },
      {
       "current": "9b75334a-f144-11e9-a8bb-02420a010068",
       "next": "0c6cb2d6-f144-11e9-a8bb-02420a010068",
       "previous": "9b75334a-f144-11e9-a8bb-02420a010068"
      },
      {
       "current": "9b75334a-f144-11e9-a8bb-02420a010068",
       "next": "0c6cb2d6-f144-11e9-a8bb-02420a010068",
       "previous": "9b75334a-f144-11e9-a8bb-02420a010068"
      },
      {
       "current": "9b75334a-f144-11e9-a8bb-02420a010068",
       "next": "0c6cb2d6-f144-11e9-a8bb-02420a010068",
       "previous": "d3dce0da-f14d-11e9-a8bb-02420a010068"
      },
      {
       "current": "9b75334a-f144-11e9-a8bb-02420a010068",
       "next": "0c6cb2d6-f144-11e9-a8bb-02420a010068",
       "previous": "d3dce0da-f14d-11e9-a8bb-02420a010068"
      },
      {
       "current": "9b75334a-f144-11e9-a8bb-02420a010068",
       "next": "0c6cb2d6-f144-11e9-a8bb-02420a010068",
       "previous": "d3dce0da-f14d-11e9-a8bb-02420a010068"
      },
      {
       "current": "9b75334a-f144-11e9-a8bb-02420a010068",
       "next": "0c6cb2d6-f144-11e9-a8bb-02420a010068",
       "previous": "d3dce0da-f14d-11e9-a8bb-02420a010068"
      },
      {
       "current": "9b75334a-f144-11e9-a8bb-02420a010068",
       "next": "0c6cb2d6-f144-11e9-a8bb-02420a010068",
       "previous": "d3dce0da-f14d-11e9-a8bb-02420a010068"
      },
      {
       "current": "9b75334a-f144-11e9-a8bb-02420a010068",
       "next": "0c6cb2d6-f144-11e9-a8bb-02420a010068",
       "previous": "d3dce0da-f14d-11e9-a8bb-02420a010068"
      },
      {
       "current": "9b75334a-f144-11e9-a8bb-02420a010068",
       "next": "0c6cb2d6-f144-11e9-a8bb-02420a010068",
       "previous": "d3dce0da-f14d-11e9-a8bb-02420a010068"
      },
      {
       "current": "9b75334a-f144-11e9-a8bb-02420a010068",
       "next": "0c6cb2d6-f144-11e9-a8bb-02420a010068",
       "previous": "57aae5c2-f150-11e9-a8bb-02420a010068"
      },
      {
       "current": "9b75334a-f144-11e9-a8bb-02420a010068",
       "next": "0c6cb2d6-f144-11e9-a8bb-02420a010068",
       "previous": "57aae5c2-f150-11e9-a8bb-02420a010068"
      },
      {
       "current": "9b75334a-f144-11e9-a8bb-02420a010068",
       "next": "0c6cb2d6-f144-11e9-a8bb-02420a010068",
       "previous": "57aae5c2-f150-11e9-a8bb-02420a010068"
      },
      {
       "current": "9b75334a-f144-11e9-a8bb-02420a010068",
       "next": "d3dcdfa4-f14d-11e9-a8bb-02420a010068",
       "previous": "57aae5c2-f150-11e9-a8bb-02420a010068"
      },
      {
       "current": "9b75334a-f144-11e9-a8bb-02420a010068",
       "next": "d3dcdfa4-f14d-11e9-a8bb-02420a010068",
       "previous": "57aae5c2-f150-11e9-a8bb-02420a010068"
      },
      {
       "current": "9b75334a-f144-11e9-a8bb-02420a010068",
       "next": "d3dcdfa4-f14d-11e9-a8bb-02420a010068",
       "previous": "57aae5c2-f150-11e9-a8bb-02420a010068"
      },
      {
       "current": "9b75334a-f144-11e9-a8bb-02420a010068",
       "next": "d3dcdfa4-f14d-11e9-a8bb-02420a010068",
       "previous": "57aae5c2-f150-11e9-a8bb-02420a010068"
      },
      {
       "current": "9b75334a-f144-11e9-a8bb-02420a010068",
       "next": "d3dcdfa4-f14d-11e9-a8bb-02420a010068",
       "previous": "57aae5c2-f150-11e9-a8bb-02420a010068"
      },
      {
       "current": "9b75334a-f144-11e9-a8bb-02420a010068",
       "next": "d3dcdfa4-f14d-11e9-a8bb-02420a010068",
       "previous": "57aae5c2-f150-11e9-a8bb-02420a010068"
      },
      {
       "current": "9b75334a-f144-11e9-a8bb-02420a010068",
       "next": "1b6d3d32-f14e-11e9-a8bb-02420a010068",
       "previous": "57aae5c2-f150-11e9-a8bb-02420a010068"
      },
      {
       "current": "9b75334a-f144-11e9-a8bb-02420a010068",
       "next": "1b6d3d32-f14e-11e9-a8bb-02420a010068",
       "previous": "57aae5c2-f150-11e9-a8bb-02420a010068"
      },
      {
       "current": "9b75334a-f144-11e9-a8bb-02420a010068",
       "next": "1b6d3d32-f14e-11e9-a8bb-02420a010068",
       "previous": "57aae5c2-f150-11e9-a8bb-02420a010068"
      },
      {
       "current": "9b75334a-f144-11e9-a8bb-02420a010068",
       "next": "1b6d3d32-f14e-11e9-a8bb-02420a010068",
       "previous": "57aae5c2-f150-11e9-a8bb-02420a010068"
      },
      {
       "current": "9b75334a-f144-11e9-a8bb-02420a010068",
       "next": "1b6d3d32-f14e-11e9-a8bb-02420a010068",
       "previous": "57aae5c2-f150-11e9-a8bb-02420a010068"
      },
      {
       "current": "9b75334a-f144-11e9-a8bb-02420a010068",
       "next": "1b6d3d32-f14e-11e9-a8bb-02420a010068",
       "previous": "57aae5c2-f150-11e9-a8bb-02420a010068"
      },
      {
       "current": "9b75334a-f144-11e9-a8bb-02420a010068",
       "next": "1b6d3d32-f14e-11e9-a8bb-02420a010068",
       "previous": "57aae5c2-f150-11e9-a8bb-02420a010068"
      },
      {
       "current": "9b75334a-f144-11e9-a8bb-02420a010068",
       "next": "1b6d3d32-f14e-11e9-a8bb-02420a010068",
       "previous": "57aae5c2-f150-11e9-a8bb-02420a010068"
      },
      {
       "current": "9b75334a-f144-11e9-a8bb-02420a010068",
       "next": "1b6d3d32-f14e-11e9-a8bb-02420a010068",
       "previous": "57aae5c2-f150-11e9-a8bb-02420a010068"
      },
      {
       "current": "9b75334a-f144-11e9-a8bb-02420a010068",
       "next": "1b6d3d32-f14e-11e9-a8bb-02420a010068",
       "previous": "57aae5c2-f150-11e9-a8bb-02420a010068"
      },
      {
       "current": "9b75334a-f144-11e9-a8bb-02420a010068",
       "next": "1b6d3d32-f14e-11e9-a8bb-02420a010068",
       "previous": "57aae5c2-f150-11e9-a8bb-02420a010068"
      },
      {
       "current": "9b75334a-f144-11e9-a8bb-02420a010068",
       "next": "1b6d3d32-f14e-11e9-a8bb-02420a010068",
       "previous": "57aae5c2-f150-11e9-a8bb-02420a010068"
      },
      {
       "current": "9b75334a-f144-11e9-a8bb-02420a010068",
       "next": "1b6d3d32-f14e-11e9-a8bb-02420a010068",
       "previous": "57aae5c2-f150-11e9-a8bb-02420a010068"
      },
      {
       "current": "9b75334a-f144-11e9-a8bb-02420a010068",
       "next": "1b6d3d32-f14e-11e9-a8bb-02420a010068",
       "previous": "57aae5c2-f150-11e9-a8bb-02420a010068"
      },
      {
       "current": "9b75334a-f144-11e9-a8bb-02420a010068",
       "next": "1b6d3d32-f14e-11e9-a8bb-02420a010068",
       "previous": "57aae5c2-f150-11e9-a8bb-02420a010068"
      },
      {
       "current": "9b75334a-f144-11e9-a8bb-02420a010068",
       "next": "1b6d3d32-f14e-11e9-a8bb-02420a010068",
       "previous": "57aae5c2-f150-11e9-a8bb-02420a010068"
      },
      {
       "current": "9b75334a-f144-11e9-a8bb-02420a010068",
       "next": "1b6d3d32-f14e-11e9-a8bb-02420a010068",
       "previous": "57aae5c2-f150-11e9-a8bb-02420a010068"
      },
      {
       "current": "9b75334a-f144-11e9-a8bb-02420a010068",
       "next": "1b6d3d32-f14e-11e9-a8bb-02420a010068",
       "previous": "57aae5c2-f150-11e9-a8bb-02420a010068"
      },
      {
       "current": "9b75334a-f144-11e9-a8bb-02420a010068",
       "next": "1b6d3d32-f14e-11e9-a8bb-02420a010068",
       "previous": "57aae5c2-f150-11e9-a8bb-02420a010068"
      },
      {
       "current": "9b75334a-f144-11e9-a8bb-02420a010068",
       "next": "1b6d3d32-f14e-11e9-a8bb-02420a010068",
       "previous": "102262c0-f150-11e9-a8bb-02420a010068"
      },
      {
       "current": "9b75334a-f144-11e9-a8bb-02420a010068",
       "next": "1b6d3d32-f14e-11e9-a8bb-02420a010068",
       "previous": "335c3418-f3cc-11e9-a8bb-02420a010068"
      },
      {
       "current": "fb60ff40-f5eb-11e9-a374-02420a010068",
       "next": "fb610080-f5eb-11e9-a374-02420a010068",
       "previous": "fb60fd92-f5eb-11e9-a374-02420a010068"
      }
     ],
     "next": "e2b32c6a-faba-11e9-8686-02420a010844",
     "previous": "e2b3295e-faba-11e9-8686-02420a010844"
    }
   },
   "source": [
    "## for文を使った繰り返し"
   ]
  },
  {
   "cell_type": "markdown",
   "metadata": {
    "lc_cell_meme": {
     "current": "e2b32c6a-faba-11e9-8686-02420a010844",
     "history": [
      {
       "current": "1b6d3d32-f14e-11e9-a8bb-02420a010068",
       "next": "df2e47aa-f14b-11e9-a8bb-02420a010068",
       "previous": "df2e45d4-f14b-11e9-a8bb-02420a010068"
      },
      {
       "current": "1b6d3d32-f14e-11e9-a8bb-02420a010068",
       "next": "d3dcd838-f14d-11e9-a8bb-02420a010068",
       "previous": "9b75334a-f144-11e9-a8bb-02420a010068"
      },
      {
       "current": "fb610080-f5eb-11e9-a374-02420a010068",
       "next": "fb610206-f5eb-11e9-a374-02420a010068",
       "previous": "fb60ff40-f5eb-11e9-a374-02420a010068"
      }
     ],
     "next": "e2b32df0-faba-11e9-8686-02420a010844",
     "previous": "e2b32af8-faba-11e9-8686-02420a010844"
    }
   },
   "source": [
    "### for文演習1"
   ]
  },
  {
   "cell_type": "markdown",
   "metadata": {
    "lc_cell_meme": {
     "current": "e2b32df0-faba-11e9-8686-02420a010844",
     "history": [
      {
       "current": "d3dcd838-f14d-11e9-a8bb-02420a010068",
       "next": "d3dcde32-f14d-11e9-a8bb-02420a010068",
       "previous": "9b75334a-f144-11e9-a8bb-02420a010068"
      },
      {
       "current": "d3dcd838-f14d-11e9-a8bb-02420a010068",
       "next": "d3dcde32-f14d-11e9-a8bb-02420a010068",
       "previous": "1b6d3d32-f14e-11e9-a8bb-02420a010068"
      },
      {
       "current": "d3dcd838-f14d-11e9-a8bb-02420a010068",
       "next": "4a8285be-f5ea-11e9-a8bb-02420a010068",
       "previous": "1b6d3d32-f14e-11e9-a8bb-02420a010068"
      },
      {
       "current": "fb610206-f5eb-11e9-a374-02420a010068",
       "next": "fb610346-f5eb-11e9-a374-02420a010068",
       "previous": "fb610080-f5eb-11e9-a374-02420a010068"
      }
     ],
     "next": "e2b32fc6-faba-11e9-8686-02420a010844",
     "previous": "e2b32c6a-faba-11e9-8686-02420a010844"
    }
   },
   "source": [
    "○演習：次のセルで、for文を使って、「北海道」と5回表示しなさい。"
   ]
  },
  {
   "cell_type": "code",
   "execution_count": null,
   "metadata": {
    "lc_cell_meme": {
     "current": "e2b32fc6-faba-11e9-8686-02420a010844",
     "history": [
      {
       "current": "4a8285be-f5ea-11e9-a8bb-02420a010068",
       "next": "d3dcde32-f14d-11e9-a8bb-02420a010068",
       "previous": "d3dcd838-f14d-11e9-a8bb-02420a010068"
      },
      {
       "current": "4a8285be-f5ea-11e9-a8bb-02420a010068",
       "next": "102262c0-f150-11e9-a8bb-02420a010068",
       "previous": "d3dcd838-f14d-11e9-a8bb-02420a010068"
      },
      {
       "current": "fb610346-f5eb-11e9-a374-02420a010068",
       "next": "fb610490-f5eb-11e9-a374-02420a010068",
       "previous": "fb610206-f5eb-11e9-a374-02420a010068"
      }
     ],
     "next": "e2b33142-faba-11e9-8686-02420a010844",
     "previous": "e2b32df0-faba-11e9-8686-02420a010844"
    }
   },
   "outputs": [],
   "source": [
    "# 演習用入力欄\n"
   ]
  },
  {
   "cell_type": "markdown",
   "metadata": {
    "lc_cell_meme": {
     "current": "e2b33142-faba-11e9-8686-02420a010844",
     "history": [
      {
       "current": "102262c0-f150-11e9-a8bb-02420a010068",
       "next": "1b6d3d32-f14e-11e9-a8bb-02420a010068",
       "previous": "d3dcde32-f14d-11e9-a8bb-02420a010068"
      },
      {
       "current": "102262c0-f150-11e9-a8bb-02420a010068",
       "next": "1b6d3d32-f14e-11e9-a8bb-02420a010068",
       "previous": "4a8285be-f5ea-11e9-a8bb-02420a010068"
      },
      {
       "current": "fb610490-f5eb-11e9-a374-02420a010068",
       "next": "fb61060c-f5eb-11e9-a374-02420a010068",
       "previous": "fb610346-f5eb-11e9-a374-02420a010068"
      }
     ],
     "next": "e2b332c8-faba-11e9-8686-02420a010844",
     "previous": "e2b32fc6-faba-11e9-8686-02420a010844"
    }
   },
   "source": [
    "ヒント：出力例\n",
    "```\n",
    "北海道\n",
    "北海道\n",
    "北海道\n",
    "北海道\n",
    "北海道\n",
    "```"
   ]
  },
  {
   "cell_type": "markdown",
   "metadata": {
    "lc_cell_meme": {
     "current": "e2b332c8-faba-11e9-8686-02420a010844",
     "history": [
      {
       "current": "1b6d3d32-f14e-11e9-a8bb-02420a010068",
       "next": "df2e47aa-f14b-11e9-a8bb-02420a010068",
       "previous": "df2e45d4-f14b-11e9-a8bb-02420a010068"
      },
      {
       "current": "1b6d3d32-f14e-11e9-a8bb-02420a010068",
       "next": "d3dcdfa4-f14d-11e9-a8bb-02420a010068",
       "previous": "d3dcde32-f14d-11e9-a8bb-02420a010068"
      },
      {
       "current": "1b6d3d32-f14e-11e9-a8bb-02420a010068",
       "next": "d3dcdfa4-f14d-11e9-a8bb-02420a010068",
       "previous": "102262c0-f150-11e9-a8bb-02420a010068"
      },
      {
       "current": "fb61060c-f5eb-11e9-a374-02420a010068",
       "next": "fb6107ba-f5eb-11e9-a374-02420a010068",
       "previous": "fb610490-f5eb-11e9-a374-02420a010068"
      }
     ],
     "next": "e2b33412-faba-11e9-8686-02420a010844",
     "previous": "e2b33142-faba-11e9-8686-02420a010844"
    }
   },
   "source": [
    "### for文演習2"
   ]
  },
  {
   "cell_type": "markdown",
   "metadata": {
    "lc_cell_meme": {
     "current": "e2b33412-faba-11e9-8686-02420a010844",
     "history": [
      {
       "current": "d3dcdfa4-f14d-11e9-a8bb-02420a010068",
       "next": "d3dce0da-f14d-11e9-a8bb-02420a010068",
       "previous": "d3dcde32-f14d-11e9-a8bb-02420a010068"
      },
      {
       "current": "d3dcdfa4-f14d-11e9-a8bb-02420a010068",
       "next": "d3dce0da-f14d-11e9-a8bb-02420a010068",
       "previous": "1b6d3d32-f14e-11e9-a8bb-02420a010068"
      },
      {
       "current": "d3dcdfa4-f14d-11e9-a8bb-02420a010068",
       "next": "0346b454-f5ea-11e9-a8bb-02420a010068",
       "previous": "1b6d3d32-f14e-11e9-a8bb-02420a010068"
      },
      {
       "current": "fb6107ba-f5eb-11e9-a374-02420a010068",
       "next": "fb61092c-f5eb-11e9-a374-02420a010068",
       "previous": "fb61060c-f5eb-11e9-a374-02420a010068"
      }
     ],
     "next": "e2b33566-faba-11e9-8686-02420a010844",
     "previous": "e2b332c8-faba-11e9-8686-02420a010844"
    }
   },
   "source": [
    "○演習：次のセルで、for文を使って、10から20までの合計を求めなさい。"
   ]
  },
  {
   "cell_type": "code",
   "execution_count": null,
   "metadata": {
    "lc_cell_meme": {
     "current": "e2b33566-faba-11e9-8686-02420a010844",
     "history": [
      {
       "current": "0346b454-f5ea-11e9-a8bb-02420a010068",
       "next": "d3dce0da-f14d-11e9-a8bb-02420a010068",
       "previous": "d3dcdfa4-f14d-11e9-a8bb-02420a010068"
      },
      {
       "current": "0346b454-f5ea-11e9-a8bb-02420a010068",
       "next": "57aae23e-f150-11e9-a8bb-02420a010068",
       "previous": "d3dcdfa4-f14d-11e9-a8bb-02420a010068"
      },
      {
       "current": "fb61092c-f5eb-11e9-a374-02420a010068",
       "next": "fb610b0c-f5eb-11e9-a374-02420a010068",
       "previous": "fb6107ba-f5eb-11e9-a374-02420a010068"
      }
     ],
     "next": "e2b336b0-faba-11e9-8686-02420a010844",
     "previous": "e2b33412-faba-11e9-8686-02420a010844"
    }
   },
   "outputs": [],
   "source": [
    "# 演習用入力欄\n"
   ]
  },
  {
   "cell_type": "markdown",
   "metadata": {
    "lc_cell_meme": {
     "current": "e2b336b0-faba-11e9-8686-02420a010844",
     "history": [
      {
       "current": "57aae23e-f150-11e9-a8bb-02420a010068",
       "next": "1b6d3d32-f14e-11e9-a8bb-02420a010068",
       "previous": "d3dce0da-f14d-11e9-a8bb-02420a010068"
      },
      {
       "current": "57aae23e-f150-11e9-a8bb-02420a010068",
       "next": "1b6d3d32-f14e-11e9-a8bb-02420a010068",
       "previous": "0346b454-f5ea-11e9-a8bb-02420a010068"
      },
      {
       "current": "fb610b0c-f5eb-11e9-a374-02420a010068",
       "next": "fb610c6a-f5eb-11e9-a374-02420a010068",
       "previous": "fb61092c-f5eb-11e9-a374-02420a010068"
      }
     ],
     "next": "e2b33804-faba-11e9-8686-02420a010844",
     "previous": "e2b33566-faba-11e9-8686-02420a010844"
    }
   },
   "source": [
    "ヒント：165になれば正解"
   ]
  },
  {
   "cell_type": "markdown",
   "metadata": {
    "lc_cell_meme": {
     "current": "e2b33804-faba-11e9-8686-02420a010844",
     "history": [
      {
       "current": "1b6d3d32-f14e-11e9-a8bb-02420a010068",
       "next": "df2e47aa-f14b-11e9-a8bb-02420a010068",
       "previous": "df2e45d4-f14b-11e9-a8bb-02420a010068"
      },
      {
       "current": "1b6d3d32-f14e-11e9-a8bb-02420a010068",
       "next": "d3dcdfa4-f14d-11e9-a8bb-02420a010068",
       "previous": "d3dcde32-f14d-11e9-a8bb-02420a010068"
      },
      {
       "current": "1b6d3d32-f14e-11e9-a8bb-02420a010068",
       "next": "d3dcdfa4-f14d-11e9-a8bb-02420a010068",
       "previous": "d3dce0da-f14d-11e9-a8bb-02420a010068"
      },
      {
       "current": "1b6d3d32-f14e-11e9-a8bb-02420a010068",
       "next": "d3dcdfa4-f14d-11e9-a8bb-02420a010068",
       "previous": "57aae23e-f150-11e9-a8bb-02420a010068"
      },
      {
       "current": "fb610c6a-f5eb-11e9-a374-02420a010068",
       "next": "fb610de6-f5eb-11e9-a374-02420a010068",
       "previous": "fb610b0c-f5eb-11e9-a374-02420a010068"
      }
     ],
     "next": "e2b33976-faba-11e9-8686-02420a010844",
     "previous": "e2b336b0-faba-11e9-8686-02420a010844"
    }
   },
   "source": [
    "### for文演習3"
   ]
  },
  {
   "cell_type": "markdown",
   "metadata": {
    "lc_cell_meme": {
     "current": "e2b33976-faba-11e9-8686-02420a010844",
     "history": [
      {
       "current": "d3dcdfa4-f14d-11e9-a8bb-02420a010068",
       "next": "d3dce0da-f14d-11e9-a8bb-02420a010068",
       "previous": "d3dcde32-f14d-11e9-a8bb-02420a010068"
      },
      {
       "current": "d3dcdfa4-f14d-11e9-a8bb-02420a010068",
       "next": "d3dce0da-f14d-11e9-a8bb-02420a010068",
       "previous": "1b6d3d32-f14e-11e9-a8bb-02420a010068"
      },
      {
       "current": "d3dcdfa4-f14d-11e9-a8bb-02420a010068",
       "next": "0346b72e-f5ea-11e9-a8bb-02420a010068",
       "previous": "1b6d3d32-f14e-11e9-a8bb-02420a010068"
      },
      {
       "current": "fb610de6-f5eb-11e9-a374-02420a010068",
       "next": "fb610f26-f5eb-11e9-a374-02420a010068",
       "previous": "fb610c6a-f5eb-11e9-a374-02420a010068"
      }
     ],
     "next": "e2b33ae8-faba-11e9-8686-02420a010844",
     "previous": "e2b33804-faba-11e9-8686-02420a010844"
    }
   },
   "source": [
    "○演習：次のセルで、for文を使って、10から0までカウントダウンしなさい。"
   ]
  },
  {
   "cell_type": "code",
   "execution_count": null,
   "metadata": {
    "lc_cell_meme": {
     "current": "e2b33ae8-faba-11e9-8686-02420a010844",
     "history": [
      {
       "current": "0346b72e-f5ea-11e9-a8bb-02420a010068",
       "next": "d3dce0da-f14d-11e9-a8bb-02420a010068",
       "previous": "d3dcdfa4-f14d-11e9-a8bb-02420a010068"
      },
      {
       "current": "0346b72e-f5ea-11e9-a8bb-02420a010068",
       "next": "102262c0-f150-11e9-a8bb-02420a010068",
       "previous": "d3dcdfa4-f14d-11e9-a8bb-02420a010068"
      },
      {
       "current": "fb610f26-f5eb-11e9-a374-02420a010068",
       "next": "fb611098-f5eb-11e9-a374-02420a010068",
       "previous": "fb610de6-f5eb-11e9-a374-02420a010068"
      }
     ],
     "next": "e2b33c50-faba-11e9-8686-02420a010844",
     "previous": "e2b33976-faba-11e9-8686-02420a010844"
    }
   },
   "outputs": [],
   "source": [
    "# 演習用入力欄\n"
   ]
  },
  {
   "cell_type": "markdown",
   "metadata": {
    "lc_cell_meme": {
     "current": "e2b33c50-faba-11e9-8686-02420a010844",
     "history": [
      {
       "current": "102262c0-f150-11e9-a8bb-02420a010068",
       "next": "1b6d3d32-f14e-11e9-a8bb-02420a010068",
       "previous": "d3dcde32-f14d-11e9-a8bb-02420a010068"
      },
      {
       "current": "102262c0-f150-11e9-a8bb-02420a010068",
       "next": "1b6d3d32-f14e-11e9-a8bb-02420a010068",
       "previous": "d3dce0da-f14d-11e9-a8bb-02420a010068"
      },
      {
       "current": "102262c0-f150-11e9-a8bb-02420a010068",
       "next": "1b6d3d32-f14e-11e9-a8bb-02420a010068",
       "previous": "0346b72e-f5ea-11e9-a8bb-02420a010068"
      },
      {
       "current": "fb611098-f5eb-11e9-a374-02420a010068",
       "next": "fb6111d8-f5eb-11e9-a374-02420a010068",
       "previous": "fb610f26-f5eb-11e9-a374-02420a010068"
      }
     ],
     "next": "e2b33d9a-faba-11e9-8686-02420a010844",
     "previous": "e2b33ae8-faba-11e9-8686-02420a010844"
    }
   },
   "source": [
    "ヒント：出力例\n",
    "```\n",
    "10\n",
    "9\n",
    "8\n",
    "7\n",
    "6\n",
    "5\n",
    "4\n",
    "3\n",
    "2\n",
    "1\n",
    "0\n",
    "```"
   ]
  },
  {
   "cell_type": "markdown",
   "metadata": {
    "lc_cell_meme": {
     "current": "e2b33d9a-faba-11e9-8686-02420a010844",
     "history": [
      {
       "current": "1b6d3d32-f14e-11e9-a8bb-02420a010068",
       "next": "df2e47aa-f14b-11e9-a8bb-02420a010068",
       "previous": "df2e45d4-f14b-11e9-a8bb-02420a010068"
      },
      {
       "current": "1b6d3d32-f14e-11e9-a8bb-02420a010068",
       "next": "d3dcdfa4-f14d-11e9-a8bb-02420a010068",
       "previous": "d3dcde32-f14d-11e9-a8bb-02420a010068"
      },
      {
       "current": "1b6d3d32-f14e-11e9-a8bb-02420a010068",
       "next": "d3dcdfa4-f14d-11e9-a8bb-02420a010068",
       "previous": "d3dce0da-f14d-11e9-a8bb-02420a010068"
      },
      {
       "current": "1b6d3d32-f14e-11e9-a8bb-02420a010068",
       "next": "d3dcdfa4-f14d-11e9-a8bb-02420a010068",
       "previous": "102262c0-f150-11e9-a8bb-02420a010068"
      },
      {
       "current": "fb6111d8-f5eb-11e9-a374-02420a010068",
       "next": "fb611318-f5eb-11e9-a374-02420a010068",
       "previous": "fb611098-f5eb-11e9-a374-02420a010068"
      }
     ],
     "next": "e2b33f0c-faba-11e9-8686-02420a010844",
     "previous": "e2b33c50-faba-11e9-8686-02420a010844"
    }
   },
   "source": [
    "### for文演習4"
   ]
  },
  {
   "cell_type": "markdown",
   "metadata": {
    "lc_cell_meme": {
     "current": "e2b33f0c-faba-11e9-8686-02420a010844",
     "history": [
      {
       "current": "d3dcdfa4-f14d-11e9-a8bb-02420a010068",
       "next": "d3dce0da-f14d-11e9-a8bb-02420a010068",
       "previous": "d3dcde32-f14d-11e9-a8bb-02420a010068"
      },
      {
       "current": "d3dcdfa4-f14d-11e9-a8bb-02420a010068",
       "next": "d3dce0da-f14d-11e9-a8bb-02420a010068",
       "previous": "1b6d3d32-f14e-11e9-a8bb-02420a010068"
      },
      {
       "current": "d3dcdfa4-f14d-11e9-a8bb-02420a010068",
       "next": "0346b882-f5ea-11e9-a8bb-02420a010068",
       "previous": "1b6d3d32-f14e-11e9-a8bb-02420a010068"
      },
      {
       "current": "fb611318-f5eb-11e9-a374-02420a010068",
       "next": "fb611494-f5eb-11e9-a374-02420a010068",
       "previous": "fb6111d8-f5eb-11e9-a374-02420a010068"
      }
     ],
     "next": "e2b340ba-faba-11e9-8686-02420a010844",
     "previous": "e2b33d9a-faba-11e9-8686-02420a010844"
    }
   },
   "source": [
    "○演習：次のセルで、for文を使って、100から1000まで100おきの数字の合計を求めなさい。"
   ]
  },
  {
   "cell_type": "code",
   "execution_count": null,
   "metadata": {
    "lc_cell_meme": {
     "current": "e2b340ba-faba-11e9-8686-02420a010844",
     "history": [
      {
       "current": "0346b882-f5ea-11e9-a8bb-02420a010068",
       "next": "d3dce0da-f14d-11e9-a8bb-02420a010068",
       "previous": "d3dcdfa4-f14d-11e9-a8bb-02420a010068"
      },
      {
       "current": "0346b882-f5ea-11e9-a8bb-02420a010068",
       "next": "57aae5c2-f150-11e9-a8bb-02420a010068",
       "previous": "d3dcdfa4-f14d-11e9-a8bb-02420a010068"
      },
      {
       "current": "fb611494-f5eb-11e9-a374-02420a010068",
       "next": "fb6115d4-f5eb-11e9-a374-02420a010068",
       "previous": "fb611318-f5eb-11e9-a374-02420a010068"
      }
     ],
     "next": "e2b342fe-faba-11e9-8686-02420a010844",
     "previous": "e2b33f0c-faba-11e9-8686-02420a010844"
    }
   },
   "outputs": [],
   "source": [
    "# 演習用入力欄\n"
   ]
  },
  {
   "cell_type": "markdown",
   "metadata": {
    "lc_cell_meme": {
     "current": "e2b342fe-faba-11e9-8686-02420a010844",
     "history": [
      {
       "current": "57aae5c2-f150-11e9-a8bb-02420a010068",
       "next": "9b75334a-f144-11e9-a8bb-02420a010068",
       "previous": "d3dce0da-f14d-11e9-a8bb-02420a010068"
      },
      {
       "current": "57aae5c2-f150-11e9-a8bb-02420a010068",
       "next": "9b75334a-f144-11e9-a8bb-02420a010068",
       "previous": "0346b882-f5ea-11e9-a8bb-02420a010068"
      },
      {
       "current": "fb6115d4-f5eb-11e9-a374-02420a010068",
       "next": "fb611746-f5eb-11e9-a374-02420a010068",
       "previous": "fb611494-f5eb-11e9-a374-02420a010068"
      }
     ],
     "next": "e2b344ac-faba-11e9-8686-02420a010844",
     "previous": "e2b340ba-faba-11e9-8686-02420a010844"
    }
   },
   "source": [
    "ヒント：\n",
    "5500になれば正解"
   ]
  },
  {
   "cell_type": "markdown",
   "metadata": {
    "lc_cell_meme": {
     "current": "e2b344ac-faba-11e9-8686-02420a010844",
     "history": [
      {
       "current": "9b75334a-f144-11e9-a8bb-02420a010068",
       "next": "53eefc90-f144-11e9-a8bb-02420a010068",
       "previous": "53eefb28-f144-11e9-a8bb-02420a010068"
      },
      {
       "current": "9b75334a-f144-11e9-a8bb-02420a010068",
       "next": "e305dc8c-f144-11e9-a8bb-02420a010068",
       "previous": "e305db60-f144-11e9-a8bb-02420a010068"
      },
      {
       "current": "9b75334a-f144-11e9-a8bb-02420a010068",
       "next": "0c6cb11e-f144-11e9-a8bb-02420a010068",
       "previous": "9b75334a-f144-11e9-a8bb-02420a010068"
      },
      {
       "current": "9b75334a-f144-11e9-a8bb-02420a010068",
       "next": "0c6cb11e-f144-11e9-a8bb-02420a010068",
       "previous": "9b75334a-f144-11e9-a8bb-02420a010068"
      },
      {
       "current": "9b75334a-f144-11e9-a8bb-02420a010068",
       "next": "0c6cb2d6-f144-11e9-a8bb-02420a010068",
       "previous": "9b75334a-f144-11e9-a8bb-02420a010068"
      },
      {
       "current": "9b75334a-f144-11e9-a8bb-02420a010068",
       "next": "0c6cb2d6-f144-11e9-a8bb-02420a010068",
       "previous": "9b75334a-f144-11e9-a8bb-02420a010068"
      },
      {
       "current": "9b75334a-f144-11e9-a8bb-02420a010068",
       "next": "0c6cb2d6-f144-11e9-a8bb-02420a010068",
       "previous": "9b75334a-f144-11e9-a8bb-02420a010068"
      },
      {
       "current": "9b75334a-f144-11e9-a8bb-02420a010068",
       "next": "0c6cb2d6-f144-11e9-a8bb-02420a010068",
       "previous": "9b75334a-f144-11e9-a8bb-02420a010068"
      },
      {
       "current": "9b75334a-f144-11e9-a8bb-02420a010068",
       "next": "0c6cb2d6-f144-11e9-a8bb-02420a010068",
       "previous": "9b75334a-f144-11e9-a8bb-02420a010068"
      },
      {
       "current": "9b75334a-f144-11e9-a8bb-02420a010068",
       "next": "0c6cb2d6-f144-11e9-a8bb-02420a010068",
       "previous": "9b75334a-f144-11e9-a8bb-02420a010068"
      },
      {
       "current": "9b75334a-f144-11e9-a8bb-02420a010068",
       "next": "0c6cb2d6-f144-11e9-a8bb-02420a010068",
       "previous": "9b75334a-f144-11e9-a8bb-02420a010068"
      },
      {
       "current": "9b75334a-f144-11e9-a8bb-02420a010068",
       "next": "0c6cb2d6-f144-11e9-a8bb-02420a010068",
       "previous": "9b75334a-f144-11e9-a8bb-02420a010068"
      },
      {
       "current": "9b75334a-f144-11e9-a8bb-02420a010068",
       "next": "0c6cb2d6-f144-11e9-a8bb-02420a010068",
       "previous": "9b75334a-f144-11e9-a8bb-02420a010068"
      },
      {
       "current": "9b75334a-f144-11e9-a8bb-02420a010068",
       "next": "0c6cb2d6-f144-11e9-a8bb-02420a010068",
       "previous": "9b75334a-f144-11e9-a8bb-02420a010068"
      },
      {
       "current": "9b75334a-f144-11e9-a8bb-02420a010068",
       "next": "0c6cb2d6-f144-11e9-a8bb-02420a010068",
       "previous": "9b75334a-f144-11e9-a8bb-02420a010068"
      },
      {
       "current": "9b75334a-f144-11e9-a8bb-02420a010068",
       "next": "0c6cb2d6-f144-11e9-a8bb-02420a010068",
       "previous": "9b75334a-f144-11e9-a8bb-02420a010068"
      },
      {
       "current": "9b75334a-f144-11e9-a8bb-02420a010068",
       "next": "0c6cb2d6-f144-11e9-a8bb-02420a010068",
       "previous": "9b75334a-f144-11e9-a8bb-02420a010068"
      },
      {
       "current": "9b75334a-f144-11e9-a8bb-02420a010068",
       "next": "0c6cb2d6-f144-11e9-a8bb-02420a010068",
       "previous": "9b75334a-f144-11e9-a8bb-02420a010068"
      },
      {
       "current": "9b75334a-f144-11e9-a8bb-02420a010068",
       "next": "0c6cb2d6-f144-11e9-a8bb-02420a010068",
       "previous": "9b75334a-f144-11e9-a8bb-02420a010068"
      },
      {
       "current": "9b75334a-f144-11e9-a8bb-02420a010068",
       "next": "0c6cb2d6-f144-11e9-a8bb-02420a010068",
       "previous": "9b75334a-f144-11e9-a8bb-02420a010068"
      },
      {
       "current": "9b75334a-f144-11e9-a8bb-02420a010068",
       "next": "0c6cb2d6-f144-11e9-a8bb-02420a010068",
       "previous": "9b75334a-f144-11e9-a8bb-02420a010068"
      },
      {
       "current": "9b75334a-f144-11e9-a8bb-02420a010068",
       "next": "0c6cb2d6-f144-11e9-a8bb-02420a010068",
       "previous": "9b75334a-f144-11e9-a8bb-02420a010068"
      },
      {
       "current": "9b75334a-f144-11e9-a8bb-02420a010068",
       "next": "0c6cb2d6-f144-11e9-a8bb-02420a010068",
       "previous": "9b75334a-f144-11e9-a8bb-02420a010068"
      },
      {
       "current": "9b75334a-f144-11e9-a8bb-02420a010068",
       "next": "0c6cb2d6-f144-11e9-a8bb-02420a010068",
       "previous": "9b75334a-f144-11e9-a8bb-02420a010068"
      },
      {
       "current": "9b75334a-f144-11e9-a8bb-02420a010068",
       "next": "0c6cb2d6-f144-11e9-a8bb-02420a010068",
       "previous": "9b75334a-f144-11e9-a8bb-02420a010068"
      },
      {
       "current": "9b75334a-f144-11e9-a8bb-02420a010068",
       "next": "0c6cb2d6-f144-11e9-a8bb-02420a010068",
       "previous": "9b75334a-f144-11e9-a8bb-02420a010068"
      },
      {
       "current": "9b75334a-f144-11e9-a8bb-02420a010068",
       "next": "0c6cb2d6-f144-11e9-a8bb-02420a010068",
       "previous": "9b75334a-f144-11e9-a8bb-02420a010068"
      },
      {
       "current": "9b75334a-f144-11e9-a8bb-02420a010068",
       "next": "0c6cb2d6-f144-11e9-a8bb-02420a010068",
       "previous": "d3dce0da-f14d-11e9-a8bb-02420a010068"
      },
      {
       "current": "9b75334a-f144-11e9-a8bb-02420a010068",
       "next": "0c6cb2d6-f144-11e9-a8bb-02420a010068",
       "previous": "d3dce0da-f14d-11e9-a8bb-02420a010068"
      },
      {
       "current": "9b75334a-f144-11e9-a8bb-02420a010068",
       "next": "0c6cb2d6-f144-11e9-a8bb-02420a010068",
       "previous": "d3dce0da-f14d-11e9-a8bb-02420a010068"
      },
      {
       "current": "9b75334a-f144-11e9-a8bb-02420a010068",
       "next": "0c6cb2d6-f144-11e9-a8bb-02420a010068",
       "previous": "d3dce0da-f14d-11e9-a8bb-02420a010068"
      },
      {
       "current": "9b75334a-f144-11e9-a8bb-02420a010068",
       "next": "0c6cb2d6-f144-11e9-a8bb-02420a010068",
       "previous": "d3dce0da-f14d-11e9-a8bb-02420a010068"
      },
      {
       "current": "9b75334a-f144-11e9-a8bb-02420a010068",
       "next": "0c6cb2d6-f144-11e9-a8bb-02420a010068",
       "previous": "d3dce0da-f14d-11e9-a8bb-02420a010068"
      },
      {
       "current": "9b75334a-f144-11e9-a8bb-02420a010068",
       "next": "0c6cb2d6-f144-11e9-a8bb-02420a010068",
       "previous": "d3dce0da-f14d-11e9-a8bb-02420a010068"
      },
      {
       "current": "9b75334a-f144-11e9-a8bb-02420a010068",
       "next": "0c6cb2d6-f144-11e9-a8bb-02420a010068",
       "previous": "57aae5c2-f150-11e9-a8bb-02420a010068"
      },
      {
       "current": "9b75334a-f144-11e9-a8bb-02420a010068",
       "next": "0c6cb2d6-f144-11e9-a8bb-02420a010068",
       "previous": "57aae5c2-f150-11e9-a8bb-02420a010068"
      },
      {
       "current": "9b75334a-f144-11e9-a8bb-02420a010068",
       "next": "0c6cb2d6-f144-11e9-a8bb-02420a010068",
       "previous": "57aae5c2-f150-11e9-a8bb-02420a010068"
      },
      {
       "current": "9b75334a-f144-11e9-a8bb-02420a010068",
       "next": "d3dcdfa4-f14d-11e9-a8bb-02420a010068",
       "previous": "57aae5c2-f150-11e9-a8bb-02420a010068"
      },
      {
       "current": "9b75334a-f144-11e9-a8bb-02420a010068",
       "next": "d3dcdfa4-f14d-11e9-a8bb-02420a010068",
       "previous": "57aae5c2-f150-11e9-a8bb-02420a010068"
      },
      {
       "current": "9b75334a-f144-11e9-a8bb-02420a010068",
       "next": "d3dcdfa4-f14d-11e9-a8bb-02420a010068",
       "previous": "57aae5c2-f150-11e9-a8bb-02420a010068"
      },
      {
       "current": "9b75334a-f144-11e9-a8bb-02420a010068",
       "next": "d3dcdfa4-f14d-11e9-a8bb-02420a010068",
       "previous": "57aae5c2-f150-11e9-a8bb-02420a010068"
      },
      {
       "current": "9b75334a-f144-11e9-a8bb-02420a010068",
       "next": "d3dcdfa4-f14d-11e9-a8bb-02420a010068",
       "previous": "57aae5c2-f150-11e9-a8bb-02420a010068"
      },
      {
       "current": "9b75334a-f144-11e9-a8bb-02420a010068",
       "next": "d3dcdfa4-f14d-11e9-a8bb-02420a010068",
       "previous": "57aae5c2-f150-11e9-a8bb-02420a010068"
      },
      {
       "current": "9b75334a-f144-11e9-a8bb-02420a010068",
       "next": "1b6d3d32-f14e-11e9-a8bb-02420a010068",
       "previous": "57aae5c2-f150-11e9-a8bb-02420a010068"
      },
      {
       "current": "9b75334a-f144-11e9-a8bb-02420a010068",
       "next": "1b6d3d32-f14e-11e9-a8bb-02420a010068",
       "previous": "57aae5c2-f150-11e9-a8bb-02420a010068"
      },
      {
       "current": "9b75334a-f144-11e9-a8bb-02420a010068",
       "next": "1b6d3d32-f14e-11e9-a8bb-02420a010068",
       "previous": "57aae5c2-f150-11e9-a8bb-02420a010068"
      },
      {
       "current": "9b75334a-f144-11e9-a8bb-02420a010068",
       "next": "1b6d3d32-f14e-11e9-a8bb-02420a010068",
       "previous": "57aae5c2-f150-11e9-a8bb-02420a010068"
      },
      {
       "current": "9b75334a-f144-11e9-a8bb-02420a010068",
       "next": "1b6d3d32-f14e-11e9-a8bb-02420a010068",
       "previous": "57aae5c2-f150-11e9-a8bb-02420a010068"
      },
      {
       "current": "9b75334a-f144-11e9-a8bb-02420a010068",
       "next": "1b6d3d32-f14e-11e9-a8bb-02420a010068",
       "previous": "57aae5c2-f150-11e9-a8bb-02420a010068"
      },
      {
       "current": "9b75334a-f144-11e9-a8bb-02420a010068",
       "next": "1b6d3d32-f14e-11e9-a8bb-02420a010068",
       "previous": "57aae5c2-f150-11e9-a8bb-02420a010068"
      },
      {
       "current": "9b75334a-f144-11e9-a8bb-02420a010068",
       "next": "1b6d3d32-f14e-11e9-a8bb-02420a010068",
       "previous": "57aae5c2-f150-11e9-a8bb-02420a010068"
      },
      {
       "current": "9b75334a-f144-11e9-a8bb-02420a010068",
       "next": "1b6d3d32-f14e-11e9-a8bb-02420a010068",
       "previous": "57aae5c2-f150-11e9-a8bb-02420a010068"
      },
      {
       "current": "9b75334a-f144-11e9-a8bb-02420a010068",
       "next": "1b6d3d32-f14e-11e9-a8bb-02420a010068",
       "previous": "57aae5c2-f150-11e9-a8bb-02420a010068"
      },
      {
       "current": "9b75334a-f144-11e9-a8bb-02420a010068",
       "next": "1b6d3d32-f14e-11e9-a8bb-02420a010068",
       "previous": "57aae5c2-f150-11e9-a8bb-02420a010068"
      },
      {
       "current": "9b75334a-f144-11e9-a8bb-02420a010068",
       "next": "1b6d3d32-f14e-11e9-a8bb-02420a010068",
       "previous": "57aae5c2-f150-11e9-a8bb-02420a010068"
      },
      {
       "current": "9b75334a-f144-11e9-a8bb-02420a010068",
       "next": "1b6d3d32-f14e-11e9-a8bb-02420a010068",
       "previous": "57aae5c2-f150-11e9-a8bb-02420a010068"
      },
      {
       "current": "9b75334a-f144-11e9-a8bb-02420a010068",
       "next": "1b6d3d32-f14e-11e9-a8bb-02420a010068",
       "previous": "57aae5c2-f150-11e9-a8bb-02420a010068"
      },
      {
       "current": "9b75334a-f144-11e9-a8bb-02420a010068",
       "next": "1b6d3d32-f14e-11e9-a8bb-02420a010068",
       "previous": "57aae5c2-f150-11e9-a8bb-02420a010068"
      },
      {
       "current": "9b75334a-f144-11e9-a8bb-02420a010068",
       "next": "1b6d3d32-f14e-11e9-a8bb-02420a010068",
       "previous": "57aae5c2-f150-11e9-a8bb-02420a010068"
      },
      {
       "current": "9b75334a-f144-11e9-a8bb-02420a010068",
       "next": "1b6d3d32-f14e-11e9-a8bb-02420a010068",
       "previous": "57aae5c2-f150-11e9-a8bb-02420a010068"
      },
      {
       "current": "9b75334a-f144-11e9-a8bb-02420a010068",
       "next": "1b6d3d32-f14e-11e9-a8bb-02420a010068",
       "previous": "57aae5c2-f150-11e9-a8bb-02420a010068"
      },
      {
       "current": "9b75334a-f144-11e9-a8bb-02420a010068",
       "next": "1b6d3d32-f14e-11e9-a8bb-02420a010068",
       "previous": "57aae5c2-f150-11e9-a8bb-02420a010068"
      },
      {
       "current": "fb611746-f5eb-11e9-a374-02420a010068",
       "next": "fb611886-f5eb-11e9-a374-02420a010068",
       "previous": "fb6115d4-f5eb-11e9-a374-02420a010068"
      }
     ],
     "next": "e2b3463c-faba-11e9-8686-02420a010844",
     "previous": "e2b342fe-faba-11e9-8686-02420a010844"
    }
   },
   "source": [
    "## 繰り返しを使った数値演算"
   ]
  },
  {
   "cell_type": "markdown",
   "metadata": {
    "lc_cell_meme": {
     "current": "e2b3463c-faba-11e9-8686-02420a010844",
     "history": [
      {
       "current": "1b6d3d32-f14e-11e9-a8bb-02420a010068",
       "next": "df2e47aa-f14b-11e9-a8bb-02420a010068",
       "previous": "df2e45d4-f14b-11e9-a8bb-02420a010068"
      },
      {
       "current": "1b6d3d32-f14e-11e9-a8bb-02420a010068",
       "next": "d3dcdfa4-f14d-11e9-a8bb-02420a010068",
       "previous": "d3dcde32-f14d-11e9-a8bb-02420a010068"
      },
      {
       "current": "1b6d3d32-f14e-11e9-a8bb-02420a010068",
       "next": "d3dcdfa4-f14d-11e9-a8bb-02420a010068",
       "previous": "d3dce0da-f14d-11e9-a8bb-02420a010068"
      },
      {
       "current": "1b6d3d32-f14e-11e9-a8bb-02420a010068",
       "next": "d3dcdfa4-f14d-11e9-a8bb-02420a010068",
       "previous": "102262c0-f150-11e9-a8bb-02420a010068"
      },
      {
       "current": "1b6d3d32-f14e-11e9-a8bb-02420a010068",
       "next": "d3dcdfa4-f14d-11e9-a8bb-02420a010068",
       "previous": "9b75334a-f144-11e9-a8bb-02420a010068"
      },
      {
       "current": "fb611886-f5eb-11e9-a374-02420a010068",
       "next": "fb611a70-f5eb-11e9-a374-02420a010068",
       "previous": "fb611746-f5eb-11e9-a374-02420a010068"
      }
     ],
     "next": "e2b347c2-faba-11e9-8686-02420a010844",
     "previous": "e2b344ac-faba-11e9-8686-02420a010844"
    }
   },
   "source": [
    "### $tan$の計算"
   ]
  },
  {
   "cell_type": "markdown",
   "metadata": {
    "lc_cell_meme": {
     "current": "e2b347c2-faba-11e9-8686-02420a010844",
     "history": [
      {
       "current": "d3dcdfa4-f14d-11e9-a8bb-02420a010068",
       "next": "d3dce0da-f14d-11e9-a8bb-02420a010068",
       "previous": "d3dcde32-f14d-11e9-a8bb-02420a010068"
      },
      {
       "current": "d3dcdfa4-f14d-11e9-a8bb-02420a010068",
       "next": "d3dce0da-f14d-11e9-a8bb-02420a010068",
       "previous": "1b6d3d32-f14e-11e9-a8bb-02420a010068"
      },
      {
       "current": "d3dcdfa4-f14d-11e9-a8bb-02420a010068",
       "next": "d3dce0da-f14d-11e9-a8bb-02420a010068",
       "previous": "9b75334a-f144-11e9-a8bb-02420a010068"
      },
      {
       "current": "d3dcdfa4-f14d-11e9-a8bb-02420a010068",
       "next": "d3dce0da-f14d-11e9-a8bb-02420a010068",
       "previous": "1b6d3d32-f14e-11e9-a8bb-02420a010068"
      },
      {
       "current": "d3dcdfa4-f14d-11e9-a8bb-02420a010068",
       "next": "0346b9a4-f5ea-11e9-a8bb-02420a010068",
       "previous": "1b6d3d32-f14e-11e9-a8bb-02420a010068"
      },
      {
       "current": "fb611a70-f5eb-11e9-a374-02420a010068",
       "next": "fb611bec-f5eb-11e9-a374-02420a010068",
       "previous": "fb611886-f5eb-11e9-a374-02420a010068"
      }
     ],
     "next": "e2b34948-faba-11e9-8686-02420a010844",
     "previous": "e2b3463c-faba-11e9-8686-02420a010844"
    }
   },
   "source": [
    "○演習：次のセルで、for文を使って$x$が0度から90度まで10度おきに$tan x$を計算し、$x$と$tan x$を表示しなさい。"
   ]
  },
  {
   "cell_type": "code",
   "execution_count": null,
   "metadata": {
    "lc_cell_meme": {
     "current": "e2b34948-faba-11e9-8686-02420a010844",
     "history": [
      {
       "current": "0346b9a4-f5ea-11e9-a8bb-02420a010068",
       "next": "d3dce0da-f14d-11e9-a8bb-02420a010068",
       "previous": "d3dcdfa4-f14d-11e9-a8bb-02420a010068"
      },
      {
       "current": "0346b9a4-f5ea-11e9-a8bb-02420a010068",
       "next": "102262c0-f150-11e9-a8bb-02420a010068",
       "previous": "d3dcdfa4-f14d-11e9-a8bb-02420a010068"
      },
      {
       "current": "fb611bec-f5eb-11e9-a374-02420a010068",
       "next": "fb611d68-f5eb-11e9-a374-02420a010068",
       "previous": "fb611a70-f5eb-11e9-a374-02420a010068"
      }
     ],
     "next": "e2b34b00-faba-11e9-8686-02420a010844",
     "previous": "e2b347c2-faba-11e9-8686-02420a010844"
    }
   },
   "outputs": [],
   "source": [
    "# 演習用入力欄\n"
   ]
  },
  {
   "cell_type": "markdown",
   "metadata": {
    "lc_cell_meme": {
     "current": "e2b34b00-faba-11e9-8686-02420a010844",
     "history": [
      {
       "current": "102262c0-f150-11e9-a8bb-02420a010068",
       "next": "1b6d3d32-f14e-11e9-a8bb-02420a010068",
       "previous": "d3dcde32-f14d-11e9-a8bb-02420a010068"
      },
      {
       "current": "102262c0-f150-11e9-a8bb-02420a010068",
       "next": null,
       "previous": "d3dce0da-f14d-11e9-a8bb-02420a010068"
      },
      {
       "current": "102262c0-f150-11e9-a8bb-02420a010068",
       "next": "75bbd5b6-f151-11e9-a8bb-02420a010068",
       "previous": "d3dce0da-f14d-11e9-a8bb-02420a010068"
      },
      {
       "current": "102262c0-f150-11e9-a8bb-02420a010068",
       "next": "d3dcdfa4-f14d-11e9-a8bb-02420a010068",
       "previous": "d3dce0da-f14d-11e9-a8bb-02420a010068"
      },
      {
       "current": "102262c0-f150-11e9-a8bb-02420a010068",
       "next": "9b75334a-f144-11e9-a8bb-02420a010068",
       "previous": "d3dce0da-f14d-11e9-a8bb-02420a010068"
      },
      {
       "current": "102262c0-f150-11e9-a8bb-02420a010068",
       "next": "9b75334a-f144-11e9-a8bb-02420a010068",
       "previous": "0346b9a4-f5ea-11e9-a8bb-02420a010068"
      },
      {
       "current": "fb611d68-f5eb-11e9-a374-02420a010068",
       "next": "fb611eee-f5eb-11e9-a374-02420a010068",
       "previous": "fb611bec-f5eb-11e9-a374-02420a010068"
      }
     ],
     "next": "e2b34c9a-faba-11e9-8686-02420a010844",
     "previous": "e2b34948-faba-11e9-8686-02420a010844"
    }
   },
   "source": [
    "ヒント：出力例\n",
    "```\n",
    "0 0.0\n",
    "10 0.17632698070846498\n",
    "20 0.36397023426620234\n",
    "30 0.5773502691896257\n",
    "40 0.8390996311772799\n",
    "50 1.19175359259421\n",
    "60 1.7320508075688767\n",
    "70 2.7474774194546216\n",
    "80 5.671281819617707\n",
    "90 1.633123935319537e+16\n",
    "```"
   ]
  },
  {
   "cell_type": "markdown",
   "metadata": {
    "lc_cell_meme": {
     "current": "e2b34c9a-faba-11e9-8686-02420a010844",
     "history": [
      {
       "current": "9b75334a-f144-11e9-a8bb-02420a010068",
       "next": "53eefc90-f144-11e9-a8bb-02420a010068",
       "previous": "53eefb28-f144-11e9-a8bb-02420a010068"
      },
      {
       "current": "9b75334a-f144-11e9-a8bb-02420a010068",
       "next": "e305dc8c-f144-11e9-a8bb-02420a010068",
       "previous": "e305db60-f144-11e9-a8bb-02420a010068"
      },
      {
       "current": "9b75334a-f144-11e9-a8bb-02420a010068",
       "next": "0c6cb11e-f144-11e9-a8bb-02420a010068",
       "previous": "9b75334a-f144-11e9-a8bb-02420a010068"
      },
      {
       "current": "9b75334a-f144-11e9-a8bb-02420a010068",
       "next": "0c6cb11e-f144-11e9-a8bb-02420a010068",
       "previous": "9b75334a-f144-11e9-a8bb-02420a010068"
      },
      {
       "current": "9b75334a-f144-11e9-a8bb-02420a010068",
       "next": "0c6cb2d6-f144-11e9-a8bb-02420a010068",
       "previous": "9b75334a-f144-11e9-a8bb-02420a010068"
      },
      {
       "current": "9b75334a-f144-11e9-a8bb-02420a010068",
       "next": "0c6cb2d6-f144-11e9-a8bb-02420a010068",
       "previous": "9b75334a-f144-11e9-a8bb-02420a010068"
      },
      {
       "current": "9b75334a-f144-11e9-a8bb-02420a010068",
       "next": "0c6cb2d6-f144-11e9-a8bb-02420a010068",
       "previous": "9b75334a-f144-11e9-a8bb-02420a010068"
      },
      {
       "current": "9b75334a-f144-11e9-a8bb-02420a010068",
       "next": "0c6cb2d6-f144-11e9-a8bb-02420a010068",
       "previous": "9b75334a-f144-11e9-a8bb-02420a010068"
      },
      {
       "current": "9b75334a-f144-11e9-a8bb-02420a010068",
       "next": "0c6cb2d6-f144-11e9-a8bb-02420a010068",
       "previous": "9b75334a-f144-11e9-a8bb-02420a010068"
      },
      {
       "current": "9b75334a-f144-11e9-a8bb-02420a010068",
       "next": "0c6cb2d6-f144-11e9-a8bb-02420a010068",
       "previous": "9b75334a-f144-11e9-a8bb-02420a010068"
      },
      {
       "current": "9b75334a-f144-11e9-a8bb-02420a010068",
       "next": "0c6cb2d6-f144-11e9-a8bb-02420a010068",
       "previous": "9b75334a-f144-11e9-a8bb-02420a010068"
      },
      {
       "current": "9b75334a-f144-11e9-a8bb-02420a010068",
       "next": "0c6cb2d6-f144-11e9-a8bb-02420a010068",
       "previous": "9b75334a-f144-11e9-a8bb-02420a010068"
      },
      {
       "current": "9b75334a-f144-11e9-a8bb-02420a010068",
       "next": "0c6cb2d6-f144-11e9-a8bb-02420a010068",
       "previous": "9b75334a-f144-11e9-a8bb-02420a010068"
      },
      {
       "current": "9b75334a-f144-11e9-a8bb-02420a010068",
       "next": "0c6cb2d6-f144-11e9-a8bb-02420a010068",
       "previous": "9b75334a-f144-11e9-a8bb-02420a010068"
      },
      {
       "current": "9b75334a-f144-11e9-a8bb-02420a010068",
       "next": "0c6cb2d6-f144-11e9-a8bb-02420a010068",
       "previous": "9b75334a-f144-11e9-a8bb-02420a010068"
      },
      {
       "current": "9b75334a-f144-11e9-a8bb-02420a010068",
       "next": "0c6cb2d6-f144-11e9-a8bb-02420a010068",
       "previous": "9b75334a-f144-11e9-a8bb-02420a010068"
      },
      {
       "current": "9b75334a-f144-11e9-a8bb-02420a010068",
       "next": "0c6cb2d6-f144-11e9-a8bb-02420a010068",
       "previous": "9b75334a-f144-11e9-a8bb-02420a010068"
      },
      {
       "current": "9b75334a-f144-11e9-a8bb-02420a010068",
       "next": "0c6cb2d6-f144-11e9-a8bb-02420a010068",
       "previous": "9b75334a-f144-11e9-a8bb-02420a010068"
      },
      {
       "current": "9b75334a-f144-11e9-a8bb-02420a010068",
       "next": "0c6cb2d6-f144-11e9-a8bb-02420a010068",
       "previous": "9b75334a-f144-11e9-a8bb-02420a010068"
      },
      {
       "current": "9b75334a-f144-11e9-a8bb-02420a010068",
       "next": "0c6cb2d6-f144-11e9-a8bb-02420a010068",
       "previous": "9b75334a-f144-11e9-a8bb-02420a010068"
      },
      {
       "current": "9b75334a-f144-11e9-a8bb-02420a010068",
       "next": "0c6cb2d6-f144-11e9-a8bb-02420a010068",
       "previous": "9b75334a-f144-11e9-a8bb-02420a010068"
      },
      {
       "current": "9b75334a-f144-11e9-a8bb-02420a010068",
       "next": "0c6cb2d6-f144-11e9-a8bb-02420a010068",
       "previous": "9b75334a-f144-11e9-a8bb-02420a010068"
      },
      {
       "current": "9b75334a-f144-11e9-a8bb-02420a010068",
       "next": "0c6cb2d6-f144-11e9-a8bb-02420a010068",
       "previous": "9b75334a-f144-11e9-a8bb-02420a010068"
      },
      {
       "current": "9b75334a-f144-11e9-a8bb-02420a010068",
       "next": "0c6cb2d6-f144-11e9-a8bb-02420a010068",
       "previous": "9b75334a-f144-11e9-a8bb-02420a010068"
      },
      {
       "current": "9b75334a-f144-11e9-a8bb-02420a010068",
       "next": "0c6cb2d6-f144-11e9-a8bb-02420a010068",
       "previous": "9b75334a-f144-11e9-a8bb-02420a010068"
      },
      {
       "current": "9b75334a-f144-11e9-a8bb-02420a010068",
       "next": "0c6cb2d6-f144-11e9-a8bb-02420a010068",
       "previous": "9b75334a-f144-11e9-a8bb-02420a010068"
      },
      {
       "current": "9b75334a-f144-11e9-a8bb-02420a010068",
       "next": "0c6cb2d6-f144-11e9-a8bb-02420a010068",
       "previous": "9b75334a-f144-11e9-a8bb-02420a010068"
      },
      {
       "current": "9b75334a-f144-11e9-a8bb-02420a010068",
       "next": "0c6cb2d6-f144-11e9-a8bb-02420a010068",
       "previous": "d3dce0da-f14d-11e9-a8bb-02420a010068"
      },
      {
       "current": "9b75334a-f144-11e9-a8bb-02420a010068",
       "next": "0c6cb2d6-f144-11e9-a8bb-02420a010068",
       "previous": "d3dce0da-f14d-11e9-a8bb-02420a010068"
      },
      {
       "current": "9b75334a-f144-11e9-a8bb-02420a010068",
       "next": "0c6cb2d6-f144-11e9-a8bb-02420a010068",
       "previous": "d3dce0da-f14d-11e9-a8bb-02420a010068"
      },
      {
       "current": "9b75334a-f144-11e9-a8bb-02420a010068",
       "next": "0c6cb2d6-f144-11e9-a8bb-02420a010068",
       "previous": "d3dce0da-f14d-11e9-a8bb-02420a010068"
      },
      {
       "current": "9b75334a-f144-11e9-a8bb-02420a010068",
       "next": "0c6cb2d6-f144-11e9-a8bb-02420a010068",
       "previous": "d3dce0da-f14d-11e9-a8bb-02420a010068"
      },
      {
       "current": "9b75334a-f144-11e9-a8bb-02420a010068",
       "next": "0c6cb2d6-f144-11e9-a8bb-02420a010068",
       "previous": "d3dce0da-f14d-11e9-a8bb-02420a010068"
      },
      {
       "current": "9b75334a-f144-11e9-a8bb-02420a010068",
       "next": "0c6cb2d6-f144-11e9-a8bb-02420a010068",
       "previous": "d3dce0da-f14d-11e9-a8bb-02420a010068"
      },
      {
       "current": "9b75334a-f144-11e9-a8bb-02420a010068",
       "next": "0c6cb2d6-f144-11e9-a8bb-02420a010068",
       "previous": "57aae5c2-f150-11e9-a8bb-02420a010068"
      },
      {
       "current": "9b75334a-f144-11e9-a8bb-02420a010068",
       "next": "0c6cb2d6-f144-11e9-a8bb-02420a010068",
       "previous": "57aae5c2-f150-11e9-a8bb-02420a010068"
      },
      {
       "current": "9b75334a-f144-11e9-a8bb-02420a010068",
       "next": "0c6cb2d6-f144-11e9-a8bb-02420a010068",
       "previous": "57aae5c2-f150-11e9-a8bb-02420a010068"
      },
      {
       "current": "9b75334a-f144-11e9-a8bb-02420a010068",
       "next": "d3dcdfa4-f14d-11e9-a8bb-02420a010068",
       "previous": "57aae5c2-f150-11e9-a8bb-02420a010068"
      },
      {
       "current": "9b75334a-f144-11e9-a8bb-02420a010068",
       "next": "d3dcdfa4-f14d-11e9-a8bb-02420a010068",
       "previous": "57aae5c2-f150-11e9-a8bb-02420a010068"
      },
      {
       "current": "9b75334a-f144-11e9-a8bb-02420a010068",
       "next": "d3dcdfa4-f14d-11e9-a8bb-02420a010068",
       "previous": "57aae5c2-f150-11e9-a8bb-02420a010068"
      },
      {
       "current": "9b75334a-f144-11e9-a8bb-02420a010068",
       "next": "d3dcdfa4-f14d-11e9-a8bb-02420a010068",
       "previous": "57aae5c2-f150-11e9-a8bb-02420a010068"
      },
      {
       "current": "9b75334a-f144-11e9-a8bb-02420a010068",
       "next": "d3dcdfa4-f14d-11e9-a8bb-02420a010068",
       "previous": "57aae5c2-f150-11e9-a8bb-02420a010068"
      },
      {
       "current": "9b75334a-f144-11e9-a8bb-02420a010068",
       "next": "d3dcdfa4-f14d-11e9-a8bb-02420a010068",
       "previous": "102262c0-f150-11e9-a8bb-02420a010068"
      },
      {
       "current": "fb611eee-f5eb-11e9-a374-02420a010068",
       "next": "fb61202e-f5eb-11e9-a374-02420a010068",
       "previous": "fb611d68-f5eb-11e9-a374-02420a010068"
      }
     ],
     "next": "e2b34e16-faba-11e9-8686-02420a010844",
     "previous": "e2b34b00-faba-11e9-8686-02420a010844"
    }
   },
   "source": [
    "###  平方根の計算"
   ]
  },
  {
   "cell_type": "markdown",
   "metadata": {
    "lc_cell_meme": {
     "current": "e2b34e16-faba-11e9-8686-02420a010844",
     "history": [
      {
       "current": "d3dcdfa4-f14d-11e9-a8bb-02420a010068",
       "next": "d3dce0da-f14d-11e9-a8bb-02420a010068",
       "previous": "d3dcde32-f14d-11e9-a8bb-02420a010068"
      },
      {
       "current": "d3dcdfa4-f14d-11e9-a8bb-02420a010068",
       "next": "d3dce0da-f14d-11e9-a8bb-02420a010068",
       "previous": "1b6d3d32-f14e-11e9-a8bb-02420a010068"
      },
      {
       "current": "d3dcdfa4-f14d-11e9-a8bb-02420a010068",
       "next": "d3dce0da-f14d-11e9-a8bb-02420a010068",
       "previous": "9b75334a-f144-11e9-a8bb-02420a010068"
      },
      {
       "current": "d3dcdfa4-f14d-11e9-a8bb-02420a010068",
       "next": "d3dce0da-f14d-11e9-a8bb-02420a010068",
       "previous": "102262c0-f150-11e9-a8bb-02420a010068"
      },
      {
       "current": "d3dcdfa4-f14d-11e9-a8bb-02420a010068",
       "next": "d3dce0da-f14d-11e9-a8bb-02420a010068",
       "previous": "9b75334a-f144-11e9-a8bb-02420a010068"
      },
      {
       "current": "d3dcdfa4-f14d-11e9-a8bb-02420a010068",
       "next": "0346babc-f5ea-11e9-a8bb-02420a010068",
       "previous": "9b75334a-f144-11e9-a8bb-02420a010068"
      },
      {
       "current": "fb61202e-f5eb-11e9-a374-02420a010068",
       "next": "fb6121a0-f5eb-11e9-a374-02420a010068",
       "previous": "fb611eee-f5eb-11e9-a374-02420a010068"
      }
     ],
     "next": "e2b34f7e-faba-11e9-8686-02420a010844",
     "previous": "e2b34c9a-faba-11e9-8686-02420a010844"
    }
   },
   "source": [
    "○演習：次のセルで、for文を使って$x$が15から30まで1おきに$\\sqrt{x}$を計算し、$x$と$\\sqrt{x}$を表示しなさい。"
   ]
  },
  {
   "cell_type": "code",
   "execution_count": null,
   "metadata": {
    "lc_cell_meme": {
     "current": "e2b34f7e-faba-11e9-8686-02420a010844",
     "history": [
      {
       "current": "0346babc-f5ea-11e9-a8bb-02420a010068",
       "next": "d3dce0da-f14d-11e9-a8bb-02420a010068",
       "previous": "d3dcdfa4-f14d-11e9-a8bb-02420a010068"
      },
      {
       "current": "0346babc-f5ea-11e9-a8bb-02420a010068",
       "next": "102262c0-f150-11e9-a8bb-02420a010068",
       "previous": "d3dcdfa4-f14d-11e9-a8bb-02420a010068"
      },
      {
       "current": "fb6121a0-f5eb-11e9-a374-02420a010068",
       "next": "fb6122e0-f5eb-11e9-a374-02420a010068",
       "previous": "fb61202e-f5eb-11e9-a374-02420a010068"
      }
     ],
     "next": "e2b350c8-faba-11e9-8686-02420a010844",
     "previous": "e2b34e16-faba-11e9-8686-02420a010844"
    }
   },
   "outputs": [],
   "source": [
    "# 演習用入力欄\n"
   ]
  },
  {
   "cell_type": "markdown",
   "metadata": {
    "lc_cell_meme": {
     "current": "e2b350c8-faba-11e9-8686-02420a010844",
     "history": [
      {
       "current": "102262c0-f150-11e9-a8bb-02420a010068",
       "next": "1b6d3d32-f14e-11e9-a8bb-02420a010068",
       "previous": "d3dcde32-f14d-11e9-a8bb-02420a010068"
      },
      {
       "current": "102262c0-f150-11e9-a8bb-02420a010068",
       "next": null,
       "previous": "d3dce0da-f14d-11e9-a8bb-02420a010068"
      },
      {
       "current": "102262c0-f150-11e9-a8bb-02420a010068",
       "next": "75bbd5b6-f151-11e9-a8bb-02420a010068",
       "previous": "d3dce0da-f14d-11e9-a8bb-02420a010068"
      },
      {
       "current": "102262c0-f150-11e9-a8bb-02420a010068",
       "next": "f52926a8-f180-11e9-a8bb-02420a010068",
       "previous": "d3dce0da-f14d-11e9-a8bb-02420a010068"
      },
      {
       "current": "102262c0-f150-11e9-a8bb-02420a010068",
       "next": "f52926a8-f180-11e9-a8bb-02420a010068",
       "previous": "0346babc-f5ea-11e9-a8bb-02420a010068"
      },
      {
       "current": "fb6122e0-f5eb-11e9-a374-02420a010068",
       "next": "fb612420-f5eb-11e9-a374-02420a010068",
       "previous": "fb6121a0-f5eb-11e9-a374-02420a010068"
      }
     ],
     "next": "e2b35226-faba-11e9-8686-02420a010844",
     "previous": "e2b34f7e-faba-11e9-8686-02420a010844"
    }
   },
   "source": [
    "ヒント：出力例\n",
    "```\n",
    "15 3.872983346207417\n",
    "16 4.0\n",
    "17 4.123105625617661\n",
    "18 4.242640687119285\n",
    "19 4.358898943540674\n",
    "20 4.47213595499958\n",
    "21 4.58257569495584\n",
    "22 4.69041575982343\n",
    "23 4.795831523312719\n",
    "24 4.898979485566356\n",
    "25 5.0\n",
    "26 5.0990195135927845\n",
    "27 5.196152422706632\n",
    "28 5.291502622129181\n",
    "29 5.385164807134504\n",
    "30 5.477225575051661\n",
    "```"
   ]
  },
  {
   "cell_type": "markdown",
   "metadata": {
    "lc_cell_meme": {
     "current": "e2b35226-faba-11e9-8686-02420a010844",
     "history": [
      {
       "current": "f52926a8-f180-11e9-a8bb-02420a010068",
       "next": null,
       "previous": "75bbd5b6-f151-11e9-a8bb-02420a010068"
      },
      {
       "current": "f52926a8-f180-11e9-a8bb-02420a010068",
       "next": null,
       "previous": "102262c0-f150-11e9-a8bb-02420a010068"
      },
      {
       "current": "f52926a8-f180-11e9-a8bb-02420a010068",
       "next": "ebc3b478-f3cb-11e9-a8bb-02420a010068",
       "previous": "102262c0-f150-11e9-a8bb-02420a010068"
      },
      {
       "current": "fb612420-f5eb-11e9-a374-02420a010068",
       "next": "fb61256a-f5eb-11e9-a374-02420a010068",
       "previous": "fb6122e0-f5eb-11e9-a374-02420a010068"
      }
     ],
     "next": "e2b35370-faba-11e9-8686-02420a010844",
     "previous": "e2b350c8-faba-11e9-8686-02420a010844"
    }
   },
   "source": [
    "#  以上で演習は終わりです。課題に進んでください。"
   ]
  },
  {
   "cell_type": "code",
   "execution_count": null,
   "metadata": {
    "lc_cell_meme": {
     "current": "e2b35370-faba-11e9-8686-02420a010844",
     "history": [
      {
       "current": "ebc3b478-f3cb-11e9-a8bb-02420a010068",
       "next": null,
       "previous": "f52926a8-f180-11e9-a8bb-02420a010068"
      },
      {
       "current": "fb61256a-f5eb-11e9-a374-02420a010068",
       "next": null,
       "previous": "fb612420-f5eb-11e9-a374-02420a010068"
      }
     ],
     "next": null,
     "previous": "e2b35226-faba-11e9-8686-02420a010844"
    }
   },
   "outputs": [],
   "source": []
  }
 ],
 "metadata": {
  "kernelspec": {
   "display_name": "Python 3",
   "language": "python",
   "name": "python3"
  },
  "language_info": {
   "file_extension": ".py",
   "mimetype": "text/x-python",
   "name": "python",
   "nbconvert_exporter": "python",
   "pygments_lexer": "ipython3",
   "version": "3.7.3"
  },
  "lc_notebook_meme": {
   "current": "e2b27144-faba-11e9-8686-02420a010844",
   "history": [
    "964dd774-f143-11e9-a8bb-02420a010068",
    "fb604dac-f5eb-11e9-a374-02420a010068"
   ],
   "lc_server_signature": {
    "current": {
     "notebook_dir": "/home/10999408x8b656d",
     "notebook_path": "/05",
     "server_url": "https://nb06.ecloud.nii.ac.jp/user/10999408x8b656d/",
     "signature_id": "d393819a-dea3-11e9-afca-02420a010023"
    },
    "history": [
     {
      "notebook_dir": "/home/14999410x94c69e",
      "notebook_path": "/05a",
      "server_url": "https://nb06.ecloud.nii.ac.jp/user/14999410x94c69e/",
      "signature_id": "360553ae-df66-11e9-8262-02420a010037"
     },
     {
      "notebook_dir": "/home/14999410x94c69e",
      "notebook_path": "/05",
      "server_url": "https://nb06.ecloud.nii.ac.jp/user/14999410x94c69e/",
      "signature_id": "360553ae-df66-11e9-8262-02420a010037"
     },
     {
      "notebook_dir": "/home/10999408x8b656d",
      "notebook_path": "/05e",
      "server_url": "https://nb06.ecloud.nii.ac.jp/user/10999408x8b656d/",
      "signature_id": "d393819a-dea3-11e9-afca-02420a010023"
     }
    ]
   },
   "root_cells": [
    "e2b27860-faba-11e9-8686-02420a010844",
    "e2b27a36-faba-11e9-8686-02420a010844",
    "e2b27be4-faba-11e9-8686-02420a010844",
    "e2b27d6a-faba-11e9-8686-02420a010844",
    "e2b27ebe-faba-11e9-8686-02420a010844",
    "e2b28116-faba-11e9-8686-02420a010844",
    "e2b282d8-faba-11e9-8686-02420a010844",
    "e2b28486-faba-11e9-8686-02420a010844",
    "e2b285da-faba-11e9-8686-02420a010844",
    "e2b287ce-faba-11e9-8686-02420a010844",
    "e2b28972-faba-11e9-8686-02420a010844",
    "e2b28af8-faba-11e9-8686-02420a010844",
    "e2b28cce-faba-11e9-8686-02420a010844",
    "e2b28e22-faba-11e9-8686-02420a010844",
    "e2b28fa8-faba-11e9-8686-02420a010844",
    "e2b2911a-faba-11e9-8686-02420a010844",
    "e2b2928c-faba-11e9-8686-02420a010844",
    "e2b293e0-faba-11e9-8686-02420a010844",
    "e2b2955c-faba-11e9-8686-02420a010844",
    "e2b296ce-faba-11e9-8686-02420a010844",
    "e2b29840-faba-11e9-8686-02420a010844",
    "e2b29a2a-faba-11e9-8686-02420a010844",
    "e2b29bce-faba-11e9-8686-02420a010844",
    "e2b29d22-faba-11e9-8686-02420a010844",
    "e2b29e94-faba-11e9-8686-02420a010844",
    "e2b29fde-faba-11e9-8686-02420a010844",
    "e2b2a16e-faba-11e9-8686-02420a010844",
    "e2b2a2b8-faba-11e9-8686-02420a010844",
    "e2b2a448-faba-11e9-8686-02420a010844",
    "e2b2a592-faba-11e9-8686-02420a010844",
    "e2b2a7c2-faba-11e9-8686-02420a010844",
    "e2b2a948-faba-11e9-8686-02420a010844",
    "e2b2aab0-faba-11e9-8686-02420a010844",
    "e2b2abfa-faba-11e9-8686-02420a010844",
    "e2b2ad80-faba-11e9-8686-02420a010844",
    "e2b2afb0-faba-11e9-8686-02420a010844",
    "e2b2b140-faba-11e9-8686-02420a010844",
    "e2b2b2b2-faba-11e9-8686-02420a010844",
    "e2b2b42e-faba-11e9-8686-02420a010844",
    "e2b2b578-faba-11e9-8686-02420a010844",
    "e2b2b6f4-faba-11e9-8686-02420a010844",
    "e2b2b870-faba-11e9-8686-02420a010844",
    "e2b2ba00-faba-11e9-8686-02420a010844",
    "e2b2bb54-faba-11e9-8686-02420a010844",
    "e2b2bcf8-faba-11e9-8686-02420a010844",
    "e2b2be42-faba-11e9-8686-02420a010844",
    "e2b2bfc8-faba-11e9-8686-02420a010844",
    "e2b2c144-faba-11e9-8686-02420a010844",
    "e2b2c2de-faba-11e9-8686-02420a010844",
    "e2b2c464-faba-11e9-8686-02420a010844",
    "e2b2c5b8-faba-11e9-8686-02420a010844",
    "e2b2c73e-faba-11e9-8686-02420a010844",
    "e2b2c8b0-faba-11e9-8686-02420a010844",
    "e2b2ca22-faba-11e9-8686-02420a010844",
    "e2b2cb9e-faba-11e9-8686-02420a010844",
    "e2b2ce46-faba-11e9-8686-02420a010844",
    "e2b2cffe-faba-11e9-8686-02420a010844",
    "e2b2d2e2-faba-11e9-8686-02420a010844",
    "e2b2d440-faba-11e9-8686-02420a010844",
    "e2b2d738-faba-11e9-8686-02420a010844",
    "e2b2d918-faba-11e9-8686-02420a010844",
    "e2b2db66-faba-11e9-8686-02420a010844",
    "e2b2dce2-faba-11e9-8686-02420a010844",
    "e2b2de7c-faba-11e9-8686-02420a010844",
    "e2b2dff8-faba-11e9-8686-02420a010844",
    "e2b2e21e-faba-11e9-8686-02420a010844",
    "e2b2e368-faba-11e9-8686-02420a010844",
    "e2b2e4da-faba-11e9-8686-02420a010844",
    "e2b2e624-faba-11e9-8686-02420a010844",
    "e2b2e7b4-faba-11e9-8686-02420a010844",
    "e2b2e8fe-faba-11e9-8686-02420a010844",
    "e2b2ea98-faba-11e9-8686-02420a010844",
    "e2b2ebe2-faba-11e9-8686-02420a010844",
    "e2b2ed72-faba-11e9-8686-02420a010844",
    "e2b2eec6-faba-11e9-8686-02420a010844",
    "e2b2f04c-faba-11e9-8686-02420a010844",
    "e2b2f18c-faba-11e9-8686-02420a010844",
    "e2b2f2d6-faba-11e9-8686-02420a010844",
    "e2b2f420-faba-11e9-8686-02420a010844",
    "e2b2f650-faba-11e9-8686-02420a010844",
    "e2b2f7f4-faba-11e9-8686-02420a010844",
    "e2b2f966-faba-11e9-8686-02420a010844",
    "e2b2fab0-faba-11e9-8686-02420a010844",
    "e2b2fbfa-faba-11e9-8686-02420a010844",
    "e2b2fe20-faba-11e9-8686-02420a010844",
    "e2b2ff9c-faba-11e9-8686-02420a010844",
    "e2b300f0-faba-11e9-8686-02420a010844",
    "e2b30276-faba-11e9-8686-02420a010844",
    "e2b303de-faba-11e9-8686-02420a010844",
    "e2b3056e-faba-11e9-8686-02420a010844",
    "e2b306ae-faba-11e9-8686-02420a010844",
    "e2b30834-faba-11e9-8686-02420a010844",
    "e2b3097e-faba-11e9-8686-02420a010844",
    "e2b30ad2-faba-11e9-8686-02420a010844",
    "e2b30c44-faba-11e9-8686-02420a010844",
    "e2b30dac-faba-11e9-8686-02420a010844",
    "e2b30ef6-faba-11e9-8686-02420a010844",
    "e2b31072-faba-11e9-8686-02420a010844",
    "e2b311e4-faba-11e9-8686-02420a010844",
    "e2b31324-faba-11e9-8686-02420a010844",
    "e2b31478-faba-11e9-8686-02420a010844",
    "e2b315fe-faba-11e9-8686-02420a010844",
    "e2b31748-faba-11e9-8686-02420a010844",
    "e2b31892-faba-11e9-8686-02420a010844",
    "e2b31a0e-faba-11e9-8686-02420a010844",
    "e2b31c20-faba-11e9-8686-02420a010844",
    "e2b31d92-faba-11e9-8686-02420a010844",
    "e2b31f2c-faba-11e9-8686-02420a010844",
    "e2b32076-faba-11e9-8686-02420a010844",
    "e2b321e8-faba-11e9-8686-02420a010844",
    "e2b3238c-faba-11e9-8686-02420a010844",
    "e2b32558-faba-11e9-8686-02420a010844",
    "e2b326ac-faba-11e9-8686-02420a010844",
    "e2b32814-faba-11e9-8686-02420a010844",
    "e2b3295e-faba-11e9-8686-02420a010844",
    "e2b32af8-faba-11e9-8686-02420a010844",
    "e2b32c6a-faba-11e9-8686-02420a010844",
    "e2b32df0-faba-11e9-8686-02420a010844",
    "e2b32fc6-faba-11e9-8686-02420a010844",
    "e2b33142-faba-11e9-8686-02420a010844",
    "e2b332c8-faba-11e9-8686-02420a010844",
    "e2b33412-faba-11e9-8686-02420a010844",
    "e2b33566-faba-11e9-8686-02420a010844",
    "e2b336b0-faba-11e9-8686-02420a010844",
    "e2b33804-faba-11e9-8686-02420a010844",
    "e2b33976-faba-11e9-8686-02420a010844",
    "e2b33ae8-faba-11e9-8686-02420a010844",
    "e2b33c50-faba-11e9-8686-02420a010844",
    "e2b33d9a-faba-11e9-8686-02420a010844",
    "e2b33f0c-faba-11e9-8686-02420a010844",
    "e2b340ba-faba-11e9-8686-02420a010844",
    "e2b342fe-faba-11e9-8686-02420a010844",
    "e2b344ac-faba-11e9-8686-02420a010844",
    "e2b3463c-faba-11e9-8686-02420a010844",
    "e2b347c2-faba-11e9-8686-02420a010844",
    "e2b34948-faba-11e9-8686-02420a010844",
    "e2b34b00-faba-11e9-8686-02420a010844",
    "e2b34c9a-faba-11e9-8686-02420a010844",
    "e2b34e16-faba-11e9-8686-02420a010844",
    "e2b34f7e-faba-11e9-8686-02420a010844",
    "e2b350c8-faba-11e9-8686-02420a010844",
    "e2b35226-faba-11e9-8686-02420a010844",
    "e2b35370-faba-11e9-8686-02420a010844"
   ]
  },
  "toc": {
   "base_numbering": 1,
   "nav_menu": {
    "height": "478px",
    "width": "338px"
   },
   "number_sections": true,
   "sideBar": true,
   "skip_h1_title": false,
   "title_cell": "Table of Contents",
   "title_sidebar": "Contents",
   "toc_cell": false,
   "toc_position": {},
   "toc_section_display": true,
   "toc_window_display": false
  }
 },
 "nbformat": 4,
 "nbformat_minor": 2
}
