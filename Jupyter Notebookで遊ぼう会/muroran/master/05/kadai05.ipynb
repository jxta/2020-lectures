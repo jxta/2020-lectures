{
 "cells": [
  {
   "cell_type": "markdown",
   "metadata": {
    "lc_cell_meme": {
     "current": "e30e584c-faba-11e9-8f7d-02420a010844",
     "history": [
      {
       "current": "4baeeaaa-96df-11e9-8b94-e0d55ea40caf",
       "next": "4baeeaab-96df-11e9-8b94-e0d55ea40caf",
       "previous": null
      },
      {
       "current": "4baeeaaa-96df-11e9-8b94-e0d55ea40caf",
       "next": "d3724eee-ef2e-11e9-a8bb-02420a010068",
       "previous": null
      },
      {
       "current": "4ae249d8-f3c2-11e9-a610-02420a010068",
       "next": "4ae24bb8-f3c2-11e9-a610-02420a010068",
       "previous": null
      }
     ],
     "next": "e30e5a4a-faba-11e9-8f7d-02420a010844",
     "previous": null
    }
   },
   "source": [
    "##### プログラミング入門\n",
    "# 第5回　総合演習1（課題）"
   ]
  },
  {
   "cell_type": "markdown",
   "metadata": {
    "lc_cell_meme": {
     "current": "e30e5a4a-faba-11e9-8f7d-02420a010844",
     "history": [
      {
       "current": "d3724eee-ef2e-11e9-a8bb-02420a010068",
       "next": "4baeeaab-96df-11e9-8b94-e0d55ea40caf",
       "previous": "4baeeaaa-96df-11e9-8b94-e0d55ea40caf"
      },
      {
       "current": "4ae24bb8-f3c2-11e9-a610-02420a010068",
       "next": "4ae24e06-f3c2-11e9-a610-02420a010068",
       "previous": "4ae249d8-f3c2-11e9-a610-02420a010068"
      }
     ],
     "next": "e30e5cca-faba-11e9-8f7d-02420a010844",
     "previous": "e30e584c-faba-11e9-8f7d-02420a010844"
    }
   },
   "source": [
    "## 氏名"
   ]
  },
  {
   "cell_type": "markdown",
   "metadata": {
    "lc_cell_meme": {
     "current": "e30e5cca-faba-11e9-8f7d-02420a010844",
     "history": [
      {
       "current": "4baeeaab-96df-11e9-8b94-e0d55ea40caf",
       "next": "4baeeaac-96df-11e9-8b94-e0d55ea40caf",
       "previous": "4baeeaaa-96df-11e9-8b94-e0d55ea40caf"
      },
      {
       "current": "4baeeaab-96df-11e9-8b94-e0d55ea40caf",
       "next": "4baeeaac-96df-11e9-8b94-e0d55ea40caf",
       "previous": "d3724eee-ef2e-11e9-a8bb-02420a010068"
      },
      {
       "current": "4ae24e06-f3c2-11e9-a610-02420a010068",
       "next": "4ae24fa0-f3c2-11e9-a610-02420a010068",
       "previous": "4ae24bb8-f3c2-11e9-a610-02420a010068"
      }
     ],
     "next": "e30e5e5a-faba-11e9-8f7d-02420a010844",
     "previous": "e30e5a4a-faba-11e9-8f7d-02420a010844"
    }
   },
   "source": [
    "次のセルに、自分の名前と学籍番号を記入して下さい。"
   ]
  },
  {
   "cell_type": "raw",
   "metadata": {
    "lc_cell_meme": {
     "current": "e30e5e5a-faba-11e9-8f7d-02420a010844",
     "history": [
      {
       "current": "4baeeaac-96df-11e9-8b94-e0d55ea40caf",
       "next": "efa662f7-96de-11e9-8b94-e0d55ea40caf",
       "previous": "4baeeaab-96df-11e9-8b94-e0d55ea40caf"
      },
      {
       "current": "4baeeaac-96df-11e9-8b94-e0d55ea40caf",
       "next": "efa662f7-96de-11e9-8b94-e0d55ea40caf",
       "previous": "4baeeaab-96df-11e9-8b94-e0d55ea40caf"
      },
      {
       "current": "4baeeaac-96df-11e9-8b94-e0d55ea40caf",
       "next": "933950fe-96df-11e9-8b94-e0d55ea40caf",
       "previous": "4baeeaac-96df-11e9-8b94-e0d55ea40caf"
      },
      {
       "current": "4baeeaac-96df-11e9-8b94-e0d55ea40caf",
       "next": "933950fe-96df-11e9-8b94-e0d55ea40caf",
       "previous": "4baeeaac-96df-11e9-8b94-e0d55ea40caf"
      },
      {
       "current": "4baeeaac-96df-11e9-8b94-e0d55ea40caf",
       "next": "933950fe-96df-11e9-8b94-e0d55ea40caf",
       "previous": "4baeeaac-96df-11e9-8b94-e0d55ea40caf"
      },
      {
       "current": "4baeeaac-96df-11e9-8b94-e0d55ea40caf",
       "next": "933950fe-96df-11e9-8b94-e0d55ea40caf",
       "previous": "4baeeaac-96df-11e9-8b94-e0d55ea40caf"
      },
      {
       "current": "4baeeaac-96df-11e9-8b94-e0d55ea40caf",
       "next": "933950fe-96df-11e9-8b94-e0d55ea40caf",
       "previous": "4baeeaac-96df-11e9-8b94-e0d55ea40caf"
      },
      {
       "current": "4baeeaac-96df-11e9-8b94-e0d55ea40caf",
       "next": "933950fe-96df-11e9-8b94-e0d55ea40caf",
       "previous": "4baeeaac-96df-11e9-8b94-e0d55ea40caf"
      },
      {
       "current": "4baeeaac-96df-11e9-8b94-e0d55ea40caf",
       "next": "933950fe-96df-11e9-8b94-e0d55ea40caf",
       "previous": "4baeeaac-96df-11e9-8b94-e0d55ea40caf"
      },
      {
       "current": "4baeeaac-96df-11e9-8b94-e0d55ea40caf",
       "next": "933950fe-96df-11e9-8b94-e0d55ea40caf",
       "previous": "4baeeaac-96df-11e9-8b94-e0d55ea40caf"
      },
      {
       "current": "4baeeaac-96df-11e9-8b94-e0d55ea40caf",
       "next": "933950fe-96df-11e9-8b94-e0d55ea40caf",
       "previous": "4baeeaac-96df-11e9-8b94-e0d55ea40caf"
      },
      {
       "current": "4baeeaac-96df-11e9-8b94-e0d55ea40caf",
       "next": "933950fe-96df-11e9-8b94-e0d55ea40caf",
       "previous": "4baeeaac-96df-11e9-8b94-e0d55ea40caf"
      },
      {
       "current": "4baeeaac-96df-11e9-8b94-e0d55ea40caf",
       "next": "4baeeaac-96df-11e9-8b94-e0d55ea40caf",
       "previous": "4baeeaab-96df-11e9-8b94-e0d55ea40caf"
      },
      {
       "current": "4ae24fa0-f3c2-11e9-a610-02420a010068",
       "next": "4ae251b2-f3c2-11e9-a610-02420a010068",
       "previous": "4ae24e06-f3c2-11e9-a610-02420a010068"
      }
     ],
     "next": "e30e5fea-faba-11e9-8f7d-02420a010844",
     "previous": "e30e5cca-faba-11e9-8f7d-02420a010844"
    }
   },
   "source": [
    "学籍番号：　  　　　　　　　　　　氏名："
   ]
  },
  {
   "cell_type": "markdown",
   "metadata": {
    "lc_cell_meme": {
     "current": "e30e5fea-faba-11e9-8f7d-02420a010844",
     "history": [
      {
       "current": "4baeeaac-96df-11e9-8b94-e0d55ea40caf",
       "next": "efa662f7-96de-11e9-8b94-e0d55ea40caf",
       "previous": "4baeeaab-96df-11e9-8b94-e0d55ea40caf"
      },
      {
       "current": "4baeeaac-96df-11e9-8b94-e0d55ea40caf",
       "next": "efa662f7-96de-11e9-8b94-e0d55ea40caf",
       "previous": "4baeeaab-96df-11e9-8b94-e0d55ea40caf"
      },
      {
       "current": "4baeeaac-96df-11e9-8b94-e0d55ea40caf",
       "next": "933950fe-96df-11e9-8b94-e0d55ea40caf",
       "previous": "4baeeaac-96df-11e9-8b94-e0d55ea40caf"
      },
      {
       "current": "4baeeaac-96df-11e9-8b94-e0d55ea40caf",
       "next": "933950fe-96df-11e9-8b94-e0d55ea40caf",
       "previous": "4baeeaac-96df-11e9-8b94-e0d55ea40caf"
      },
      {
       "current": "4baeeaac-96df-11e9-8b94-e0d55ea40caf",
       "next": "933950fe-96df-11e9-8b94-e0d55ea40caf",
       "previous": "4baeeaac-96df-11e9-8b94-e0d55ea40caf"
      },
      {
       "current": "4baeeaac-96df-11e9-8b94-e0d55ea40caf",
       "next": "933950fe-96df-11e9-8b94-e0d55ea40caf",
       "previous": "4baeeaac-96df-11e9-8b94-e0d55ea40caf"
      },
      {
       "current": "4baeeaac-96df-11e9-8b94-e0d55ea40caf",
       "next": "933950fe-96df-11e9-8b94-e0d55ea40caf",
       "previous": "4baeeaac-96df-11e9-8b94-e0d55ea40caf"
      },
      {
       "current": "4baeeaac-96df-11e9-8b94-e0d55ea40caf",
       "next": "933950fe-96df-11e9-8b94-e0d55ea40caf",
       "previous": "4baeeaac-96df-11e9-8b94-e0d55ea40caf"
      },
      {
       "current": "4baeeaac-96df-11e9-8b94-e0d55ea40caf",
       "next": "933950fe-96df-11e9-8b94-e0d55ea40caf",
       "previous": "4baeeaac-96df-11e9-8b94-e0d55ea40caf"
      },
      {
       "current": "4baeeaac-96df-11e9-8b94-e0d55ea40caf",
       "next": "933950fe-96df-11e9-8b94-e0d55ea40caf",
       "previous": "4baeeaac-96df-11e9-8b94-e0d55ea40caf"
      },
      {
       "current": "4baeeaac-96df-11e9-8b94-e0d55ea40caf",
       "next": "933950fe-96df-11e9-8b94-e0d55ea40caf",
       "previous": "4baeeaac-96df-11e9-8b94-e0d55ea40caf"
      },
      {
       "current": "4baeeaac-96df-11e9-8b94-e0d55ea40caf",
       "next": "933950fe-96df-11e9-8b94-e0d55ea40caf",
       "previous": "4baeeaac-96df-11e9-8b94-e0d55ea40caf"
      },
      {
       "current": "4ae251b2-f3c2-11e9-a610-02420a010068",
       "next": "4ae2536a-f3c2-11e9-a610-02420a010068",
       "previous": "4ae24fa0-f3c2-11e9-a610-02420a010068"
      }
     ],
     "next": "e30e6166-faba-11e9-8f7d-02420a010844",
     "previous": "e30e5e5a-faba-11e9-8f7d-02420a010844"
    }
   },
   "source": [
    "【進め方の注意】\n",
    "\n",
    "- 文書を読んで、手順に沿って問いに答えながら進めて下さい。\n",
    "- 課題の回答が終わったらファイルを保存して下さい。\n",
    "- 途中わからないことがあれば、教員またはTAに質問して下さい。"
   ]
  },
  {
   "cell_type": "markdown",
   "metadata": {
    "lc_cell_meme": {
     "current": "e30e6166-faba-11e9-8f7d-02420a010844",
     "history": [
      {
       "current": "933950fe-96df-11e9-8b94-e0d55ea40caf",
       "next": "933950ff-96df-11e9-8b94-e0d55ea40caf",
       "previous": "4baeeaac-96df-11e9-8b94-e0d55ea40caf"
      },
      {
       "current": "4ae2536a-f3c2-11e9-a610-02420a010068",
       "next": "4ae2550e-f3c2-11e9-a610-02420a010068",
       "previous": "4ae251b2-f3c2-11e9-a610-02420a010068"
      }
     ],
     "next": "e30e6364-faba-11e9-8f7d-02420a010844",
     "previous": "e30e5fea-faba-11e9-8f7d-02420a010844"
    }
   },
   "source": [
    "### 注意事項"
   ]
  },
  {
   "cell_type": "markdown",
   "metadata": {
    "lc_cell_meme": {
     "current": "e30e6364-faba-11e9-8f7d-02420a010844",
     "history": [
      {
       "current": "933950ff-96df-11e9-8b94-e0d55ea40caf",
       "next": "93395100-96df-11e9-8b94-e0d55ea40caf",
       "previous": "933950fe-96df-11e9-8b94-e0d55ea40caf"
      },
      {
       "current": "4ae2550e-f3c2-11e9-a610-02420a010068",
       "next": "4ae2564e-f3c2-11e9-a610-02420a010068",
       "previous": "4ae2536a-f3c2-11e9-a610-02420a010068"
      }
     ],
     "next": "e30e64e0-faba-11e9-8f7d-02420a010844",
     "previous": "e30e6166-faba-11e9-8f7d-02420a010844"
    }
   },
   "source": [
    "確認課題は、単位認定のための点数としてカウントします。\n",
    "\n",
    "グループ学習の対象の課題です。グループで\n",
    "\n",
    "確認課題が終わった人は、提出後に退室して構いません。\n",
    "\n",
    "終わらなくても終了時刻までに提出してください。"
   ]
  },
  {
   "cell_type": "markdown",
   "metadata": {
    "lc_cell_meme": {
     "current": "e30e64e0-faba-11e9-8f7d-02420a010844",
     "history": [
      {
       "current": "93395100-96df-11e9-8b94-e0d55ea40caf",
       "next": "efa662f7-96de-11e9-8b94-e0d55ea40caf",
       "previous": "933950ff-96df-11e9-8b94-e0d55ea40caf"
      },
      {
       "current": "4ae2564e-f3c2-11e9-a610-02420a010068",
       "next": "4ae257ca-f3c2-11e9-a610-02420a010068",
       "previous": "4ae2550e-f3c2-11e9-a610-02420a010068"
      }
     ],
     "next": "e30e6620-faba-11e9-8f7d-02420a010844",
     "previous": "e30e6364-faba-11e9-8f7d-02420a010844"
    }
   },
   "source": [
    " # 課題"
   ]
  },
  {
   "cell_type": "markdown",
   "metadata": {
    "lc_cell_meme": {
     "current": "e30e6620-faba-11e9-8f7d-02420a010844",
     "history": [
      {
       "current": "efa662f7-96de-11e9-8b94-e0d55ea40caf",
       "next": "efa662f8-96de-11e9-8b94-e0d55ea40caf",
       "previous": null
      },
      {
       "current": "efa662f7-96de-11e9-8b94-e0d55ea40caf",
       "next": "efa662f8-96de-11e9-8b94-e0d55ea40caf",
       "previous": "4baeeaac-96df-11e9-8b94-e0d55ea40caf"
      },
      {
       "current": "efa662f7-96de-11e9-8b94-e0d55ea40caf",
       "next": "efa662f8-96de-11e9-8b94-e0d55ea40caf",
       "previous": "93395100-96df-11e9-8b94-e0d55ea40caf"
      },
      {
       "current": "efa662f7-96de-11e9-8b94-e0d55ea40caf",
       "next": "f8da5718-96e0-11e9-8b94-e0d55ea40caf",
       "previous": "93395100-96df-11e9-8b94-e0d55ea40caf"
      },
      {
       "current": "4ae257ca-f3c2-11e9-a610-02420a010068",
       "next": "4ae25950-f3c2-11e9-a610-02420a010068",
       "previous": "4ae2564e-f3c2-11e9-a610-02420a010068"
      }
     ],
     "next": "e30e67ba-faba-11e9-8f7d-02420a010844",
     "previous": "e30e64e0-faba-11e9-8f7d-02420a010844"
    }
   },
   "source": [
    "$ sin(x) $の文字によるプロット\n",
    "\n",
    "\n",
    "sin(x) の値をx が0◦ から360◦ まで計算し，下に示すように，アスタリスク（”*”）でプロットしなさい．\n",
    "```\n",
    "0                      *\n",
    "10                         *\n",
    "20<---------- 空白 --------->  *\n",
    "30                                *\n",
    "40                                  *\n",
    "50                                     *\n",
    "60                                       *\n",
    "70                                        *\n",
    "80                                         *\n",
    "90                                          *\n",
    "100                                         *\n",
    "110                                        *\n",
    "120                                       *\n",
    "130                                     *\n",
    "140                                  *\n",
    "150                                *\n",
    "160                            *\n",
    "170                         *\n",
    "180                      *\n",
    "190                  *\n",
    "200               *\n",
    "210           *\n",
    "220         *\n",
    "230      *\n",
    "240    *\n",
    "250   *\n",
    "260  *\n",
    "270  *\n",
    "280  *\n",
    "290   *\n",
    "300    *\n",
    "310      *\n",
    "320         *\n",
    "330           *\n",
    "340               *\n",
    "350                  *\n",
    "360                     *\n",
    "\n",
    "```\n",
    "\n",
    "ステップ１からステップ４までで構成されています。\n",
    "\n",
    "最終的な答えはステップ４に記述してください。\n",
    "\n",
    "（答えがわかれば、ステップ１～ステップ３はとばしてもかまいません）"
   ]
  },
  {
   "cell_type": "markdown",
   "metadata": {
    "lc_cell_meme": {
     "current": "e30e67ba-faba-11e9-8f7d-02420a010844",
     "history": [
      {
       "current": "f8da5718-96e0-11e9-8b94-e0d55ea40caf",
       "next": "efa662f8-96de-11e9-8b94-e0d55ea40caf",
       "previous": "efa662f7-96de-11e9-8b94-e0d55ea40caf"
      },
      {
       "current": "4ae25950-f3c2-11e9-a610-02420a010068",
       "next": "4ae25ac2-f3c2-11e9-a610-02420a010068",
       "previous": "4ae257ca-f3c2-11e9-a610-02420a010068"
      }
     ],
     "next": "e30e6936-faba-11e9-8f7d-02420a010844",
     "previous": "e30e6620-faba-11e9-8f7d-02420a010844"
    }
   },
   "source": [
    "## ●ステップ１\n",
    "for文で変数 i を 0◦ から 360◦ まで 10◦ 刻みで変化させ、print()でiの値を表示しなさい\n"
   ]
  },
  {
   "cell_type": "code",
   "execution_count": null,
   "metadata": {
    "lc_cell_meme": {
     "current": "e30e6936-faba-11e9-8f7d-02420a010844",
     "history": [
      {
       "current": "efa662f8-96de-11e9-8b94-e0d55ea40caf",
       "next": null,
       "previous": "efa662f7-96de-11e9-8b94-e0d55ea40caf"
      },
      {
       "current": "efa662f8-96de-11e9-8b94-e0d55ea40caf",
       "next": "f8da5719-96e0-11e9-8b94-e0d55ea40caf",
       "previous": "f8da5718-96e0-11e9-8b94-e0d55ea40caf"
      },
      {
       "current": "efa662f8-96de-11e9-8b94-e0d55ea40caf",
       "next": "29133c88-9c81-11e9-8b94-e0d55ea40caf",
       "previous": "f8da5718-96e0-11e9-8b94-e0d55ea40caf"
      },
      {
       "current": "efa662f8-96de-11e9-8b94-e0d55ea40caf",
       "next": "f8da5719-96e0-11e9-8b94-e0d55ea40caf",
       "previous": "f8da5718-96e0-11e9-8b94-e0d55ea40caf"
      },
      {
       "current": "4ae25ac2-f3c2-11e9-a610-02420a010068",
       "next": "4ae25c0c-f3c2-11e9-a610-02420a010068",
       "previous": "4ae25950-f3c2-11e9-a610-02420a010068"
      },
      {
       "current": "4ae25ac2-f3c2-11e9-a610-02420a010068",
       "next": "4ae25d88-f3c2-11e9-a610-02420a010068",
       "previous": "4ae25950-f3c2-11e9-a610-02420a010068"
      },
      {
       "current": "4ae25ac2-f3c2-11e9-a610-02420a010068",
       "next": "dcf92510-fa13-11e9-b2c7-02420a010844",
       "previous": "4ae25950-f3c2-11e9-a610-02420a010068"
      }
     ],
     "next": "e30e6aa8-faba-11e9-8f7d-02420a010844",
     "previous": "e30e67ba-faba-11e9-8f7d-02420a010844"
    },
    "lc_wrapper": {
     "log_history": [
      "/home/kuwata/notebooks/.log/20190702/20190702-151800-0725.log",
      "/home/10999408x8b656d/04/.log/20191023/20191023-165033-0684.log",
      "/home/10999408x8b656d/04/.log/20191023/20191023-165110-0385.log",
      "/home/10999408x8b656d/04/.log/20191023/20191023-165126-0777.log",
      "/home/10999408x8b656d/04/.log/20191023/20191023-165243-0721.log",
      "/home/10999408x8b656d/04/.log/20191023/20191023-171923-0405.log",
      "/home/10999408x8b656d/.log/20191028/20191028-154143-0516.log",
      "/home/10999408x8b656d/.log/20191028/20191028-154150-0336.log",
      "/home/10999408x8b656d/.log/20191028/20191028-192227-0121.log",
      "/home/10999408x8b656d/.log/20191028/20191028-192235-0171.log"
     ]
    }
   },
   "outputs": [],
   "source": [
    "# 演習用入力欄（要修正）\n",
    "for i in range(???, ???, ???):\n",
    "    ?????"
   ]
  },
  {
   "cell_type": "markdown",
   "metadata": {
    "lc_cell_meme": {
     "current": "e30e6aa8-faba-11e9-8f7d-02420a010844",
     "history": [
      {
       "current": "dcf92510-fa13-11e9-b2c7-02420a010844",
       "next": "4ae26062-f3c2-11e9-a610-02420a010068",
       "previous": "4ae25ef0-f3c2-11e9-a610-02420a010068"
      },
      {
       "current": "dcf92510-fa13-11e9-b2c7-02420a010844",
       "next": "4ae25d88-f3c2-11e9-a610-02420a010068",
       "previous": "4ae25ac2-f3c2-11e9-a610-02420a010068"
      },
      {
       "current": "dcf92510-fa13-11e9-b2c7-02420a010844",
       "next": "4ae26062-f3c2-11e9-a610-02420a010068",
       "previous": "4ae261d4-f3c2-11e9-a610-02420a010068"
      },
      {
       "current": "dcf92510-fa13-11e9-b2c7-02420a010844",
       "next": "4ae26062-f3c2-11e9-a610-02420a010068",
       "previous": "4ae261d4-f3c2-11e9-a610-02420a010068"
      },
      {
       "current": "dcf92510-fa13-11e9-b2c7-02420a010844",
       "next": "4ae26062-f3c2-11e9-a610-02420a010068",
       "previous": "4ae261d4-f3c2-11e9-a610-02420a010068"
      },
      {
       "current": "dcf92510-fa13-11e9-b2c7-02420a010844",
       "next": "4ae26062-f3c2-11e9-a610-02420a010068",
       "previous": "4ae261d4-f3c2-11e9-a610-02420a010068"
      },
      {
       "current": "dcf92510-fa13-11e9-b2c7-02420a010844",
       "next": "4ae25d88-f3c2-11e9-a610-02420a010068",
       "previous": "4ae25ac2-f3c2-11e9-a610-02420a010068"
      }
     ],
     "next": "e30e6c10-faba-11e9-8f7d-02420a010844",
     "previous": "e30e6936-faba-11e9-8f7d-02420a010844"
    }
   },
   "source": [
    "出力結果\n",
    "\n",
    "```\n",
    "0\n",
    "10\n",
    "20\n",
    "30\n",
    "40\n",
    "50\n",
    " :       \n",
    "```"
   ]
  },
  {
   "cell_type": "markdown",
   "metadata": {
    "lc_cell_meme": {
     "current": "e30e6c10-faba-11e9-8f7d-02420a010844",
     "history": [
      {
       "current": "a2f70548-9c81-11e9-8b94-e0d55ea40caf",
       "next": "4060f3da-96e1-11e9-8b94-e0d55ea40caf",
       "previous": "f8da5719-96e0-11e9-8b94-e0d55ea40caf"
      },
      {
       "current": "a2f70548-9c81-11e9-8b94-e0d55ea40caf",
       "next": "b8213ca4-9c81-11e9-8b94-e0d55ea40caf",
       "previous": "f8da5719-96e0-11e9-8b94-e0d55ea40caf"
      },
      {
       "current": "4ae25d88-f3c2-11e9-a610-02420a010068",
       "next": "4ae25ef0-f3c2-11e9-a610-02420a010068",
       "previous": "4ae25c0c-f3c2-11e9-a610-02420a010068"
      },
      {
       "current": "4ae25d88-f3c2-11e9-a610-02420a010068",
       "next": "4ae25ef0-f3c2-11e9-a610-02420a010068",
       "previous": "4ae25ac2-f3c2-11e9-a610-02420a010068"
      },
      {
       "current": "4ae25d88-f3c2-11e9-a610-02420a010068",
       "next": "4ae25ef0-f3c2-11e9-a610-02420a010068",
       "previous": "dcf92510-fa13-11e9-b2c7-02420a010844"
      }
     ],
     "next": "e30e6d8c-faba-11e9-8f7d-02420a010844",
     "previous": "e30e6aa8-faba-11e9-8f7d-02420a010844"
    }
   },
   "source": [
    "## ●ステップ２\n",
    "$ sin() $ の値を計算して、変数 s に代入しなさい。ただし、i は度数表示なので、弧度法に変換してから計算すること。\n",
    "\n",
    "さらにprint()で i と s の値を表示しなさい。\n",
    "\n",
    "*ヒント*：$sin()$と弧度法の変換には数学モジュールが必要です。"
   ]
  },
  {
   "cell_type": "code",
   "execution_count": null,
   "metadata": {
    "lc_cell_meme": {
     "current": "e30e6d8c-faba-11e9-8f7d-02420a010844",
     "history": [
      {
       "current": "b8213ca4-9c81-11e9-8b94-e0d55ea40caf",
       "next": "4060f3da-96e1-11e9-8b94-e0d55ea40caf",
       "previous": "a2f70548-9c81-11e9-8b94-e0d55ea40caf"
      },
      {
       "current": "b8213ca4-9c81-11e9-8b94-e0d55ea40caf",
       "next": "b8213ca4-9c81-11e9-8b94-e0d55ea40caf",
       "previous": "a2f70548-9c81-11e9-8b94-e0d55ea40caf"
      },
      {
       "current": "b8213ca4-9c81-11e9-8b94-e0d55ea40caf",
       "next": "3faf9d92-9c90-11e9-8b94-e0d55ea40caf",
       "previous": "a2f70548-9c81-11e9-8b94-e0d55ea40caf"
      },
      {
       "current": "4ae25ef0-f3c2-11e9-a610-02420a010068",
       "next": "4ae26062-f3c2-11e9-a610-02420a010068",
       "previous": "4ae25d88-f3c2-11e9-a610-02420a010068"
      },
      {
       "current": "4ae25ef0-f3c2-11e9-a610-02420a010068",
       "next": "acc93eb8-f61f-11e9-b2c7-02420a010844",
       "previous": "4ae25d88-f3c2-11e9-a610-02420a010068"
      },
      {
       "current": "4ae25ef0-f3c2-11e9-a610-02420a010068",
       "next": "4ae261d4-f3c2-11e9-a610-02420a010068",
       "previous": "4ae25d88-f3c2-11e9-a610-02420a010068"
      },
      {
       "current": "4ae25ef0-f3c2-11e9-a610-02420a010068",
       "next": "4ae26062-f3c2-11e9-a610-02420a010068",
       "previous": "4ae25d88-f3c2-11e9-a610-02420a010068"
      },
      {
       "current": "4ae25ef0-f3c2-11e9-a610-02420a010068",
       "next": "dcf92510-fa13-11e9-b2c7-02420a010844",
       "previous": "4ae25d88-f3c2-11e9-a610-02420a010068"
      }
     ],
     "next": "e30e6ecc-faba-11e9-8f7d-02420a010844",
     "previous": "e30e6c10-faba-11e9-8f7d-02420a010844"
    },
    "lc_wrapper": {
     "log_history": [
      "/home/10999408x8b656d/04/.log/20191023/20191023-165501-0603.log",
      "/home/10999408x8b656d/04/.log/20191023/20191023-165513-0041.log",
      "/home/10999408x8b656d/04/.log/20191023/20191023-165536-0064.log",
      "/home/10999408x8b656d/04/.log/20191023/20191023-165541-0546.log",
      "/home/10999408x8b656d/04/.log/20191023/20191023-165730-0506.log",
      "/home/10999408x8b656d/04/.log/20191023/20191023-165737-0530.log",
      "/home/10999408x8b656d/04/.log/20191023/20191023-165741-0768.log",
      "/home/10999408x8b656d/04/.log/20191023/20191023-165752-0278.log",
      "/home/10999408x8b656d/04/.log/20191023/20191023-165815-0647.log",
      "/home/10999408x8b656d/04/.log/20191023/20191023-165820-0801.log",
      "/home/10999408x8b656d/04/.log/20191023/20191023-165845-0383.log",
      "/home/10999408x8b656d/04/.log/20191023/20191023-165852-0907.log",
      "/home/10999408x8b656d/04/.log/20191023/20191023-165855-0522.log",
      "/home/10999408x8b656d/04/.log/20191023/20191023-171146-0251.log",
      "/home/10999408x8b656d/04/.log/20191023/20191023-171333-0935.log",
      "/home/10999408x8b656d/.log/20191024/20191024-143409-0695.log",
      "/home/10999408x8b656d/.log/20191028/20191028-193010-0397.log"
     ]
    }
   },
   "outputs": [],
   "source": [
    "# 演習用入力欄（要修正）\n",
    "# ステップ1のセルをコピーして修正する\n"
   ]
  },
  {
   "cell_type": "markdown",
   "metadata": {
    "lc_cell_meme": {
     "current": "e30e6ecc-faba-11e9-8f7d-02420a010844",
     "history": [
      {
       "current": "dcf92510-fa13-11e9-b2c7-02420a010844",
       "next": "4ae26062-f3c2-11e9-a610-02420a010068",
       "previous": "4ae25ef0-f3c2-11e9-a610-02420a010068"
      }
     ],
     "next": "e30e7034-faba-11e9-8f7d-02420a010844",
     "previous": "e30e6d8c-faba-11e9-8f7d-02420a010844"
    }
   },
   "source": [
    "出力結果\n",
    "\n",
    "```\n",
    "0 0.0\n",
    "10 0.17364817766693033\n",
    "20 0.3420201433256687\n",
    "30 0.49999999999999994\n",
    "40 0.6427876096865393\n",
    "50 0.766044443118978\n",
    " :           :\n",
    "```"
   ]
  },
  {
   "cell_type": "markdown",
   "metadata": {
    "lc_cell_meme": {
     "current": "e30e7034-faba-11e9-8f7d-02420a010844",
     "history": [
      {
       "current": "3faf9d92-9c90-11e9-8b94-e0d55ea40caf",
       "next": "f8286684-9c8f-11e9-8b94-e0d55ea40caf",
       "previous": "b8213ca4-9c81-11e9-8b94-e0d55ea40caf"
      },
      {
       "current": "4ae26062-f3c2-11e9-a610-02420a010068",
       "next": "4ae261d4-f3c2-11e9-a610-02420a010068",
       "previous": "4ae25ef0-f3c2-11e9-a610-02420a010068"
      },
      {
       "current": "4ae26062-f3c2-11e9-a610-02420a010068",
       "next": "4ae261d4-f3c2-11e9-a610-02420a010068",
       "previous": "acc93eb8-f61f-11e9-b2c7-02420a010844"
      },
      {
       "current": "4ae26062-f3c2-11e9-a610-02420a010068",
       "next": "4ae261d4-f3c2-11e9-a610-02420a010068",
       "previous": "4ae261d4-f3c2-11e9-a610-02420a010068"
      },
      {
       "current": "4ae26062-f3c2-11e9-a610-02420a010068",
       "next": "4ae261d4-f3c2-11e9-a610-02420a010068",
       "previous": "4ae25ef0-f3c2-11e9-a610-02420a010068"
      },
      {
       "current": "4ae26062-f3c2-11e9-a610-02420a010068",
       "next": "4ae261d4-f3c2-11e9-a610-02420a010068",
       "previous": "dcf92510-fa13-11e9-b2c7-02420a010844"
      }
     ],
     "next": "e30e719c-faba-11e9-8f7d-02420a010844",
     "previous": "e30e6ecc-faba-11e9-8f7d-02420a010844"
    }
   },
   "source": [
    "## ●ステップ３\n",
    "出力するべき空白の数 ns を次の式で計算し、print()で i と ns の値を表示しなさい。\n",
    "```\n",
    " 20 ∗ (1 + s)\n",
    "```"
   ]
  },
  {
   "cell_type": "code",
   "execution_count": null,
   "metadata": {
    "lc_cell_meme": {
     "current": "e30e719c-faba-11e9-8f7d-02420a010844",
     "history": [
      {
       "current": "f8286684-9c8f-11e9-8b94-e0d55ea40caf",
       "next": "f8286685-9c8f-11e9-8b94-e0d55ea40caf",
       "previous": "b8213ca4-9c81-11e9-8b94-e0d55ea40caf"
      },
      {
       "current": "f8286684-9c8f-11e9-8b94-e0d55ea40caf",
       "next": "4060f3da-96e1-11e9-8b94-e0d55ea40caf",
       "previous": "3faf9d92-9c90-11e9-8b94-e0d55ea40caf"
      },
      {
       "current": "f8286684-9c8f-11e9-8b94-e0d55ea40caf",
       "next": "1aff667a-ef2f-11e9-a8bb-02420a010068",
       "previous": "3faf9d92-9c90-11e9-8b94-e0d55ea40caf"
      },
      {
       "current": "4ae261d4-f3c2-11e9-a610-02420a010068",
       "next": "4ae26314-f3c2-11e9-a610-02420a010068",
       "previous": "4ae26062-f3c2-11e9-a610-02420a010068"
      },
      {
       "current": "4ae261d4-f3c2-11e9-a610-02420a010068",
       "next": "4ae26062-f3c2-11e9-a610-02420a010068",
       "previous": "4ae26062-f3c2-11e9-a610-02420a010068"
      },
      {
       "current": "4ae261d4-f3c2-11e9-a610-02420a010068",
       "next": "dcf92510-fa13-11e9-b2c7-02420a010844",
       "previous": "4ae26062-f3c2-11e9-a610-02420a010068"
      }
     ],
     "next": "e30e72dc-faba-11e9-8f7d-02420a010844",
     "previous": "e30e7034-faba-11e9-8f7d-02420a010844"
    },
    "lc_wrapper": {
     "log_history": [
      "/home/10999408x8b656d/04/.log/20191023/20191023-170237-0409.log",
      "/home/10999408x8b656d/04/.log/20191023/20191023-170241-0853.log",
      "/home/10999408x8b656d/04/.log/20191023/20191023-170244-0566.log",
      "/home/10999408x8b656d/04/.log/20191023/20191023-171247-0695.log",
      "/home/10999408x8b656d/04/.log/20191023/20191023-171345-0238.log",
      "/home/10999408x8b656d/04/.log/20191023/20191023-171641-0645.log",
      "/home/10999408x8b656d/.log/20191024/20191024-143356-0616.log",
      "/home/10999408x8b656d/.log/20191024/20191024-143410-0265.log",
      "/home/10999408x8b656d/.log/20191028/20191028-192856-0251.log",
      "/home/10999408x8b656d/.log/20191028/20191028-192937-0343.log"
     ]
    }
   },
   "outputs": [],
   "source": [
    "# 演習用入力欄\n",
    "# ステップ2のセルをコピーして修正する\n"
   ]
  },
  {
   "cell_type": "markdown",
   "metadata": {
    "lc_cell_meme": {
     "current": "e30e72dc-faba-11e9-8f7d-02420a010844",
     "history": [
      {
       "current": "dcf92510-fa13-11e9-b2c7-02420a010844",
       "next": "4ae26062-f3c2-11e9-a610-02420a010068",
       "previous": "4ae25ef0-f3c2-11e9-a610-02420a010068"
      },
      {
       "current": "dcf92510-fa13-11e9-b2c7-02420a010844",
       "next": "4ae25d88-f3c2-11e9-a610-02420a010068",
       "previous": "4ae25ac2-f3c2-11e9-a610-02420a010068"
      },
      {
       "current": "dcf92510-fa13-11e9-b2c7-02420a010844",
       "next": "4ae26062-f3c2-11e9-a610-02420a010068",
       "previous": "4ae261d4-f3c2-11e9-a610-02420a010068"
      },
      {
       "current": "dcf92510-fa13-11e9-b2c7-02420a010844",
       "next": "4ae26062-f3c2-11e9-a610-02420a010068",
       "previous": "4ae261d4-f3c2-11e9-a610-02420a010068"
      },
      {
       "current": "dcf92510-fa13-11e9-b2c7-02420a010844",
       "next": "4ae26062-f3c2-11e9-a610-02420a010068",
       "previous": "4ae261d4-f3c2-11e9-a610-02420a010068"
      },
      {
       "current": "dcf92510-fa13-11e9-b2c7-02420a010844",
       "next": "4ae26062-f3c2-11e9-a610-02420a010068",
       "previous": "4ae261d4-f3c2-11e9-a610-02420a010068"
      }
     ],
     "next": "e30e741c-faba-11e9-8f7d-02420a010844",
     "previous": "e30e719c-faba-11e9-8f7d-02420a010844"
    }
   },
   "source": [
    "ヒント：出力結果\n",
    "\n",
    "```\n",
    "0 20.0\n",
    "10 23.472963553338605\n",
    "20 26.840402866513372\n",
    "30 30.0\n",
    "40 32.85575219373079\n",
    "50 35.32088886237956\n",
    " :           :\n",
    "```"
   ]
  },
  {
   "cell_type": "markdown",
   "metadata": {
    "lc_cell_meme": {
     "current": "e30e741c-faba-11e9-8f7d-02420a010844",
     "history": [
      {
       "current": "3faf9d92-9c90-11e9-8b94-e0d55ea40caf",
       "next": "f8286684-9c8f-11e9-8b94-e0d55ea40caf",
       "previous": "b8213ca4-9c81-11e9-8b94-e0d55ea40caf"
      },
      {
       "current": "4ae26062-f3c2-11e9-a610-02420a010068",
       "next": "4ae261d4-f3c2-11e9-a610-02420a010068",
       "previous": "4ae25ef0-f3c2-11e9-a610-02420a010068"
      },
      {
       "current": "4ae26062-f3c2-11e9-a610-02420a010068",
       "next": "4ae261d4-f3c2-11e9-a610-02420a010068",
       "previous": "4ae261d4-f3c2-11e9-a610-02420a010068"
      },
      {
       "current": "4ae26062-f3c2-11e9-a610-02420a010068",
       "next": "4ae261d4-f3c2-11e9-a610-02420a010068",
       "previous": "dcf92510-fa13-11e9-b2c7-02420a010844"
      }
     ],
     "next": "e30e7598-faba-11e9-8f7d-02420a010844",
     "previous": "e30e72dc-faba-11e9-8f7d-02420a010844"
    }
   },
   "source": [
    "## ●ステップ4\n",
    "出力する空白文字ns を整数化した数だけ繰り返した空白文字(\" \")  を変数 sp に代入し、\n",
    "print()でi, sp, アスタリスク\"*\"を表示しなさい。\n",
    "\n",
    "*ヒント*：  \n",
    "- 少数の値を整数化するには int()を使います。  \n",
    "- 文字列の繰り返しについては、教科書2.3.4節参照  "
   ]
  },
  {
   "cell_type": "code",
   "execution_count": null,
   "metadata": {
    "lc_cell_meme": {
     "current": "e30e7598-faba-11e9-8f7d-02420a010844",
     "history": [
      {
       "current": "f8286684-9c8f-11e9-8b94-e0d55ea40caf",
       "next": "f8286685-9c8f-11e9-8b94-e0d55ea40caf",
       "previous": "b8213ca4-9c81-11e9-8b94-e0d55ea40caf"
      },
      {
       "current": "f8286684-9c8f-11e9-8b94-e0d55ea40caf",
       "next": "4060f3da-96e1-11e9-8b94-e0d55ea40caf",
       "previous": "3faf9d92-9c90-11e9-8b94-e0d55ea40caf"
      },
      {
       "current": "f8286684-9c8f-11e9-8b94-e0d55ea40caf",
       "next": "1aff667a-ef2f-11e9-a8bb-02420a010068",
       "previous": "3faf9d92-9c90-11e9-8b94-e0d55ea40caf"
      },
      {
       "current": "4ae261d4-f3c2-11e9-a610-02420a010068",
       "next": "4ae26314-f3c2-11e9-a610-02420a010068",
       "previous": "4ae26062-f3c2-11e9-a610-02420a010068"
      }
     ],
     "next": "e30e76d8-faba-11e9-8f7d-02420a010844",
     "previous": "e30e741c-faba-11e9-8f7d-02420a010844"
    },
    "lc_wrapper": {
     "log_history": [
      "/home/10999408x8b656d/04/.log/20191023/20191023-170237-0409.log",
      "/home/10999408x8b656d/04/.log/20191023/20191023-170241-0853.log",
      "/home/10999408x8b656d/04/.log/20191023/20191023-170244-0566.log",
      "/home/10999408x8b656d/04/.log/20191023/20191023-170628-0356.log",
      "/home/10999408x8b656d/04/.log/20191023/20191023-170651-0043.log",
      "/home/10999408x8b656d/04/.log/20191023/20191023-170724-0198.log",
      "/home/10999408x8b656d/04/.log/20191023/20191023-170749-0459.log",
      "/home/10999408x8b656d/04/.log/20191023/20191023-170757-0470.log",
      "/home/10999408x8b656d/04/.log/20191023/20191023-171240-0665.log",
      "/home/10999408x8b656d/.log/20191024/20191024-143358-0642.log",
      "/home/10999408x8b656d/.log/20191024/20191024-143411-0216.log",
      "/home/10999408x8b656d/.log/20191028/20191028-193044-0760.log",
      "/home/10999408x8b656d/.log/20191028/20191028-193651-0611.log",
      "/home/10999408x8b656d/.log/20191028/20191028-193658-0887.log"
     ]
    }
   },
   "outputs": [],
   "source": [
    "# 演習用入力欄\n",
    "# ステップ3のセルをコピーして修正する"
   ]
  },
  {
   "cell_type": "markdown",
   "metadata": {
    "lc_cell_meme": {
     "current": "e30e76d8-faba-11e9-8f7d-02420a010844",
     "history": [
      {
       "current": "1aff667a-ef2f-11e9-a8bb-02420a010068",
       "next": "8c720b22-e012-11e9-9819-02420a01003b",
       "previous": "4060f3da-96e1-11e9-8b94-e0d55ea40caf"
      },
      {
       "current": "1aff667a-ef2f-11e9-a8bb-02420a010068",
       "next": "8c720b22-e012-11e9-9819-02420a01003b",
       "previous": "f8286684-9c8f-11e9-8b94-e0d55ea40caf"
      },
      {
       "current": "4ae26314-f3c2-11e9-a610-02420a010068",
       "next": "4ae2645e-f3c2-11e9-a610-02420a010068",
       "previous": "4ae261d4-f3c2-11e9-a610-02420a010068"
      }
     ],
     "next": "e30e7818-faba-11e9-8f7d-02420a010844",
     "previous": "e30e7598-faba-11e9-8f7d-02420a010844"
    }
   },
   "source": [
    "# 課題は以上です。お疲れさまでした"
   ]
  },
  {
   "cell_type": "markdown",
   "metadata": {
    "lc_cell_meme": {
     "current": "e30e7818-faba-11e9-8f7d-02420a010844",
     "history": [
      {
       "current": "8c720b22-e012-11e9-9819-02420a01003b",
       "next": "8c720ee2-e012-11e9-9819-02420a01003b",
       "previous": "4060f3da-96e1-11e9-8b94-e0d55ea40caf"
      },
      {
       "current": "8c720b22-e012-11e9-9819-02420a01003b",
       "next": "8c720ee2-e012-11e9-9819-02420a01003b",
       "previous": "1aff667a-ef2f-11e9-a8bb-02420a010068"
      },
      {
       "current": "4ae2645e-f3c2-11e9-a610-02420a010068",
       "next": "4ae2659e-f3c2-11e9-a610-02420a010068",
       "previous": "4ae26314-f3c2-11e9-a610-02420a010068"
      }
     ],
     "next": "e30e7958-faba-11e9-8f7d-02420a010844",
     "previous": "e30e76d8-faba-11e9-8f7d-02420a010844"
    }
   },
   "source": [
    "## 評価結果"
   ]
  },
  {
   "cell_type": "code",
   "execution_count": null,
   "metadata": {
    "lc_cell_meme": {
     "current": "e30e7958-faba-11e9-8f7d-02420a010844",
     "history": [
      {
       "current": "8c720ee2-e012-11e9-9819-02420a01003b",
       "next": "8c721022-e012-11e9-9819-02420a01003b",
       "previous": "8c720b22-e012-11e9-9819-02420a01003b"
      },
      {
       "current": "4ae2659e-f3c2-11e9-a610-02420a010068",
       "next": "4ae266e8-f3c2-11e9-a610-02420a010068",
       "previous": "4ae2645e-f3c2-11e9-a610-02420a010068"
      }
     ],
     "next": "e30e7a98-faba-11e9-8f7d-02420a010844",
     "previous": "e30e7818-faba-11e9-8f7d-02420a010844"
    }
   },
   "outputs": [],
   "source": []
  },
  {
   "cell_type": "markdown",
   "metadata": {
    "lc_cell_meme": {
     "current": "e30e7a98-faba-11e9-8f7d-02420a010844",
     "history": [
      {
       "current": "8c721022-e012-11e9-9819-02420a01003b",
       "next": "8c721130-e012-11e9-9819-02420a01003b",
       "previous": "8c720ee2-e012-11e9-9819-02420a01003b"
      },
      {
       "current": "4ae266e8-f3c2-11e9-a610-02420a010068",
       "next": "4ae2685a-f3c2-11e9-a610-02420a010068",
       "previous": "4ae2659e-f3c2-11e9-a610-02420a010068"
      }
     ],
     "next": "e30e7be2-faba-11e9-8f7d-02420a010844",
     "previous": "e30e7958-faba-11e9-8f7d-02420a010844"
    }
   },
   "source": [
    "## コメント等"
   ]
  },
  {
   "cell_type": "code",
   "execution_count": null,
   "metadata": {
    "lc_cell_meme": {
     "current": "e30e7be2-faba-11e9-8f7d-02420a010844",
     "history": [
      {
       "current": "8c721130-e012-11e9-9819-02420a01003b",
       "next": "4060f3db-96e1-11e9-8b94-e0d55ea40caf",
       "previous": "8c721022-e012-11e9-9819-02420a01003b"
      },
      {
       "current": "4ae2685a-f3c2-11e9-a610-02420a010068",
       "next": "4ae2699a-f3c2-11e9-a610-02420a010068",
       "previous": "4ae266e8-f3c2-11e9-a610-02420a010068"
      }
     ],
     "next": "e30e7d22-faba-11e9-8f7d-02420a010844",
     "previous": "e30e7a98-faba-11e9-8f7d-02420a010844"
    }
   },
   "outputs": [],
   "source": []
  },
  {
   "cell_type": "markdown",
   "metadata": {
    "lc_cell_meme": {
     "current": "e30e7d22-faba-11e9-8f7d-02420a010844",
     "history": [
      {
       "current": "4060f3db-96e1-11e9-8b94-e0d55ea40caf",
       "next": null,
       "previous": "4060f3da-96e1-11e9-8b94-e0d55ea40caf"
      },
      {
       "current": "4060f3db-96e1-11e9-8b94-e0d55ea40caf",
       "next": null,
       "previous": "8c721130-e012-11e9-9819-02420a01003b"
      },
      {
       "current": "4ae2699a-f3c2-11e9-a610-02420a010068",
       "next": null,
       "previous": "4ae2685a-f3c2-11e9-a610-02420a010068"
      }
     ],
     "next": null,
     "previous": "e30e7be2-faba-11e9-8f7d-02420a010844"
    }
   },
   "source": []
  }
 ],
 "metadata": {
  "kernelspec": {
   "display_name": "Python 3",
   "language": "python",
   "name": "python3"
  },
  "language_info": {
   "file_extension": ".py",
   "mimetype": "text/x-python",
   "name": "python",
   "nbconvert_exporter": "python",
   "pygments_lexer": "ipython3",
   "version": "3.7.3"
  },
  "lc_notebook_meme": {
   "current": "e30e520c-faba-11e9-8f7d-02420a010844",
   "history": [
    "efa662f6-96de-11e9-8b94-e0d55ea40caf",
    "4ae243e8-f3c2-11e9-a610-02420a010068"
   ],
   "lc_server_signature": {
    "current": {
     "notebook_dir": "/home/10999408x8b656d",
     "notebook_path": "/05",
     "server_url": "https://nb06.ecloud.nii.ac.jp/user/10999408x8b656d/",
     "signature_id": "d393819a-dea3-11e9-afca-02420a010023"
    },
    "history": [
     {
      "notebook_dir": "/home/kuwata/notebooks",
      "notebook_path": "/",
      "server_url": "http://157.19.141.8:8000/user/kuwata/",
      "signature_id": "d0abe7ae-153d-11e9-9674-e0d55ea40caf"
     },
     {
      "notebook_dir": "/home/14999410x94c69e",
      "notebook_path": "/",
      "server_url": "https://nb06.ecloud.nii.ac.jp/user/14999410x94c69e/",
      "signature_id": "360553ae-df66-11e9-8262-02420a010037"
     },
     {
      "notebook_dir": "/home/14999410x94c69e",
      "notebook_path": "/04a",
      "server_url": "https://nb06.ecloud.nii.ac.jp/user/14999410x94c69e/",
      "signature_id": "360553ae-df66-11e9-8262-02420a010037"
     },
     {
      "notebook_dir": "/home/14999410x94c69e",
      "notebook_path": "/04",
      "server_url": "https://nb06.ecloud.nii.ac.jp/user/14999410x94c69e/",
      "signature_id": "360553ae-df66-11e9-8262-02420a010037"
     },
     {
      "notebook_dir": "/home/10999408x8b656d",
      "notebook_path": "/",
      "server_url": "https://nb06.ecloud.nii.ac.jp/user/10999408x8b656d/",
      "signature_id": "d393819a-dea3-11e9-afca-02420a010023"
     },
     {
      "notebook_dir": "/home/10999408x8b656d",
      "notebook_path": "/05a",
      "server_url": "https://nb06.ecloud.nii.ac.jp/user/10999408x8b656d/",
      "signature_id": "d393819a-dea3-11e9-afca-02420a010023"
     }
    ]
   },
   "root_cells": [
    "e30e584c-faba-11e9-8f7d-02420a010844",
    "e30e5a4a-faba-11e9-8f7d-02420a010844",
    "e30e5cca-faba-11e9-8f7d-02420a010844",
    "e30e5e5a-faba-11e9-8f7d-02420a010844",
    "e30e5fea-faba-11e9-8f7d-02420a010844",
    "e30e6166-faba-11e9-8f7d-02420a010844",
    "e30e6364-faba-11e9-8f7d-02420a010844",
    "e30e64e0-faba-11e9-8f7d-02420a010844",
    "e30e6620-faba-11e9-8f7d-02420a010844",
    "e30e67ba-faba-11e9-8f7d-02420a010844",
    "e30e6936-faba-11e9-8f7d-02420a010844",
    "e30e6aa8-faba-11e9-8f7d-02420a010844",
    "e30e6c10-faba-11e9-8f7d-02420a010844",
    "e30e6d8c-faba-11e9-8f7d-02420a010844",
    "e30e6ecc-faba-11e9-8f7d-02420a010844",
    "e30e7034-faba-11e9-8f7d-02420a010844",
    "e30e719c-faba-11e9-8f7d-02420a010844",
    "e30e72dc-faba-11e9-8f7d-02420a010844",
    "e30e741c-faba-11e9-8f7d-02420a010844",
    "e30e7598-faba-11e9-8f7d-02420a010844",
    "e30e76d8-faba-11e9-8f7d-02420a010844",
    "e30e7818-faba-11e9-8f7d-02420a010844",
    "e30e7958-faba-11e9-8f7d-02420a010844",
    "e30e7a98-faba-11e9-8f7d-02420a010844",
    "e30e7be2-faba-11e9-8f7d-02420a010844",
    "e30e7d22-faba-11e9-8f7d-02420a010844"
   ]
  },
  "toc": {
   "base_numbering": 1,
   "nav_menu": {},
   "number_sections": true,
   "sideBar": true,
   "skip_h1_title": false,
   "title_cell": "Table of Contents",
   "title_sidebar": "Contents",
   "toc_cell": false,
   "toc_position": {},
   "toc_section_display": true,
   "toc_window_display": false
  }
 },
 "nbformat": 4,
 "nbformat_minor": 2
}
