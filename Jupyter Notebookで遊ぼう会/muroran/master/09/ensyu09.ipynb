{
 "cells": [
  {
   "cell_type": "markdown",
   "metadata": {
    "lc_cell_meme": {
     "current": "dfb20440-1244-11ea-8453-02420a010844",
     "history": [
      {
       "current": "8bf64eec-9e22-11e9-9f4c-02420a010067",
       "next": "8bf64f8c-9e22-11e9-9f4c-02420a010067",
       "previous": null
      },
      {
       "current": "37a7fd0c-04f4-11ea-84d4-02420a0100a0",
       "next": "37a7ff50-04f4-11ea-84d4-02420a0100a0",
       "previous": null
      }
     ],
     "next": "dfb2067a-1244-11ea-8453-02420a010844",
     "previous": null
    }
   },
   "source": [
    "# プログラミング入門\n",
    "\n",
    "第9回　グラフの利用"
   ]
  },
  {
   "cell_type": "markdown",
   "metadata": {
    "lc_cell_meme": {
     "current": "dfb2067a-1244-11ea-8453-02420a010844",
     "history": [
      {
       "current": "8bf64f8c-9e22-11e9-9f4c-02420a010067",
       "next": "8bf64ffa-9e22-11e9-9f4c-02420a010067",
       "previous": "8bf64eec-9e22-11e9-9f4c-02420a010067"
      },
      {
       "current": "37a7ff50-04f4-11ea-84d4-02420a0100a0",
       "next": "37a800fe-04f4-11ea-84d4-02420a0100a0",
       "previous": "37a7fd0c-04f4-11ea-84d4-02420a0100a0"
      }
     ],
     "next": "dfb20828-1244-11ea-8453-02420a010844",
     "previous": "dfb20440-1244-11ea-8453-02420a010844"
    }
   },
   "source": [
    "次のセルに、自分の名前と学籍番号を記入して下さい。"
   ]
  },
  {
   "cell_type": "raw",
   "metadata": {
    "lc_cell_meme": {
     "current": "dfb20828-1244-11ea-8453-02420a010844",
     "history": [
      {
       "current": "8bf64ffa-9e22-11e9-9f4c-02420a010067",
       "next": "8bf6505e-9e22-11e9-9f4c-02420a010067",
       "previous": "8bf64f8c-9e22-11e9-9f4c-02420a010067"
      },
      {
       "current": "37a800fe-04f4-11ea-84d4-02420a0100a0",
       "next": "37a8028e-04f4-11ea-84d4-02420a0100a0",
       "previous": "37a7ff50-04f4-11ea-84d4-02420a0100a0"
      }
     ],
     "next": "dfb209e0-1244-11ea-8453-02420a010844",
     "previous": "dfb2067a-1244-11ea-8453-02420a010844"
    }
   },
   "source": [
    "学籍番号：　　　　　　　　　　　氏名："
   ]
  },
  {
   "cell_type": "markdown",
   "metadata": {
    "lc_cell_meme": {
     "current": "dfb209e0-1244-11ea-8453-02420a010844",
     "history": [
      {
       "current": "8bf6505e-9e22-11e9-9f4c-02420a010067",
       "next": "8bf650c2-9e22-11e9-9f4c-02420a010067",
       "previous": "8bf64ffa-9e22-11e9-9f4c-02420a010067"
      },
      {
       "current": "37a8028e-04f4-11ea-84d4-02420a0100a0",
       "next": "37a803ec-04f4-11ea-84d4-02420a0100a0",
       "previous": "37a800fe-04f4-11ea-84d4-02420a0100a0"
      }
     ],
     "next": "dfb20b3e-1244-11ea-8453-02420a010844",
     "previous": "dfb20828-1244-11ea-8453-02420a010844"
    }
   },
   "source": [
    "【進め方の注意】\n",
    "\n",
    "- 文書を読んで、手順に沿って問いに答えながら進めて下さい。\n",
    "- 最後まで問題を解いたら、ファイルを保存して課題に進んで下さい。\n",
    "- 途中わからないことがあれば、教員またはTAに質問して下さい。"
   ]
  },
  {
   "cell_type": "markdown",
   "metadata": {
    "lc_cell_meme": {
     "current": "dfb20b3e-1244-11ea-8453-02420a010844",
     "history": [
      {
       "current": "8bf650c2-9e22-11e9-9f4c-02420a010067",
       "next": "8bf65126-9e22-11e9-9f4c-02420a010067",
       "previous": "8bf6505e-9e22-11e9-9f4c-02420a010067"
      },
      {
       "current": "37a803ec-04f4-11ea-84d4-02420a0100a0",
       "next": "37a8054a-04f4-11ea-84d4-02420a0100a0",
       "previous": "37a8028e-04f4-11ea-84d4-02420a0100a0"
      }
     ],
     "next": "dfb20c9c-1244-11ea-8453-02420a010844",
     "previous": "dfb209e0-1244-11ea-8453-02420a010844"
    }
   },
   "source": [
    "# matplotlib(教科書P73)\n",
    "## 準備(教科書P73)\n",
    "```matplotlib```を使ってグラフを作成するには、以下の2行を記述して実行する必要があります。"
   ]
  },
  {
   "cell_type": "code",
   "execution_count": null,
   "metadata": {
    "lc_cell_meme": {
     "current": "dfb20c9c-1244-11ea-8453-02420a010844",
     "history": [
      {
       "current": "8bf65126-9e22-11e9-9f4c-02420a010067",
       "next": "8bf6518a-9e22-11e9-9f4c-02420a010067",
       "previous": "8bf650c2-9e22-11e9-9f4c-02420a010067"
      },
      {
       "current": "37a8054a-04f4-11ea-84d4-02420a0100a0",
       "next": "37a806ee-04f4-11ea-84d4-02420a0100a0",
       "previous": "37a803ec-04f4-11ea-84d4-02420a0100a0"
      }
     ],
     "next": "dfb20dfa-1244-11ea-8453-02420a010844",
     "previous": "dfb20b3e-1244-11ea-8453-02420a010844"
    },
    "lc_wrapper": {
     "log_history": [
      "/home/10999542xb8011f/07a/.log/20191108/20191108-143938-0792.log",
      "/home/10999408x8b656d/.log/20191125/20191125-165136-0494.log",
      "/home/10999408x8b656d/.log/20191125/20191125-165958-0090.log",
      "/home/10999408x8b656d/.log/20191125/20191125-170604-0642.log",
      "/home/10999408x8b656d/09a/.log/20191127/20191127-093108-0648.log",
      "/home/10999408x8b656d/09a/.log/20191128/20191128-172028-0364.log"
     ]
    }
   },
   "outputs": [],
   "source": [
    "# このセルを評価すること\n",
    "%matplotlib inline\n",
    "import matplotlib.pyplot as plt"
   ]
  },
  {
   "cell_type": "markdown",
   "metadata": {
    "lc_cell_meme": {
     "current": "dfb20dfa-1244-11ea-8453-02420a010844",
     "history": [
      {
       "current": "8bf6518a-9e22-11e9-9f4c-02420a010067",
       "next": "8bf651ee-9e22-11e9-9f4c-02420a010067",
       "previous": "8bf65126-9e22-11e9-9f4c-02420a010067"
      },
      {
       "current": "8bf6518a-9e22-11e9-9f4c-02420a010067",
       "next": "5c79b2e6-f6e0-11e9-8b8b-02420a0103fb",
       "previous": "8bf65126-9e22-11e9-9f4c-02420a010067"
      },
      {
       "current": "8bf6518a-9e22-11e9-9f4c-02420a010067",
       "next": "338a1004-0457-11ea-a9f8-02420a0100a0",
       "previous": "8bf65126-9e22-11e9-9f4c-02420a010067"
      },
      {
       "current": "37a806ee-04f4-11ea-84d4-02420a0100a0",
       "next": "37a8084c-04f4-11ea-84d4-02420a0100a0",
       "previous": "37a8054a-04f4-11ea-84d4-02420a0100a0"
      },
      {
       "current": "37a806ee-04f4-11ea-84d4-02420a0100a0",
       "next": "bb743e3a-1042-11ea-b2c7-02420a010844",
       "previous": "37a8054a-04f4-11ea-84d4-02420a0100a0"
      }
     ],
     "next": "dfb20f58-1244-11ea-8453-02420a010844",
     "previous": "dfb20c9c-1244-11ea-8453-02420a010844"
    }
   },
   "source": [
    "説明：\n",
    "- ```%maplotlib inline```: グラフをinlineで描く（notebookのOut[]に表示する）  \n",
    "- ```import matplotlib.pyplot```: matplotlibの一つの機能(サブモジュール)であるpyplotを```plt```という別名でインポートする。  \n",
    "> これによって、プロットするための関数は```plt.```を先頭につけることで利用できる。（例：plt.plot(), plt.bar()）"
   ]
  },
  {
   "cell_type": "markdown",
   "metadata": {
    "lc_cell_meme": {
     "current": "dfb20f58-1244-11ea-8453-02420a010844",
     "history": [
      {
       "current": "bb743e3a-1042-11ea-b2c7-02420a010844",
       "next": "37a809aa-04f4-11ea-84d4-02420a0100a0",
       "previous": "37a806ee-04f4-11ea-84d4-02420a0100a0"
      }
     ],
     "next": "dfb210e8-1244-11ea-8453-02420a010844",
     "previous": "dfb20dfa-1244-11ea-8453-02420a010844"
    }
   },
   "source": [
    "## 折れ線グラフ(教科書P74)\n",
    "### リストデータのグラフ\n",
    "グラフにするデータをリストで用意します。下のセルを評価してください。"
   ]
  },
  {
   "cell_type": "code",
   "execution_count": null,
   "metadata": {
    "lc_cell_meme": {
     "current": "dfb210e8-1244-11ea-8453-02420a010844",
     "history": [
      {
       "current": "338a15ae-0457-11ea-a9f8-02420a0100a0",
       "next": "5c79b2e6-f6e0-11e9-8b8b-02420a0103fb",
       "previous": "338a1004-0457-11ea-a9f8-02420a0100a0"
      },
      {
       "current": "37a809aa-04f4-11ea-84d4-02420a0100a0",
       "next": "37a80afe-04f4-11ea-84d4-02420a0100a0",
       "previous": "37a8084c-04f4-11ea-84d4-02420a0100a0"
      },
      {
       "current": "37a809aa-04f4-11ea-84d4-02420a0100a0",
       "next": "bb744132-1042-11ea-b2c7-02420a010844",
       "previous": "bb743e3a-1042-11ea-b2c7-02420a010844"
      }
     ],
     "next": "dfb21264-1244-11ea-8453-02420a010844",
     "previous": "dfb20f58-1244-11ea-8453-02420a010844"
    },
    "lc_wrapper": {
     "log_history": [
      "/home/10999542xb8011f/07a/.log/20191111/20191111-164658-0648.log",
      "/home/10999542xb8011f/07a/.log/20191111/20191111-181210-0958.log",
      "/home/10999408x8b656d/.log/20191125/20191125-165212-0258.log",
      "/home/10999408x8b656d/.log/20191125/20191125-165406-0450.log",
      "/home/10999408x8b656d/.log/20191125/20191125-165428-0478.log",
      "/home/10999408x8b656d/.log/20191125/20191125-165450-0931.log",
      "/home/10999408x8b656d/.log/20191125/20191125-165502-0219.log",
      "/home/10999408x8b656d/.log/20191125/20191125-165540-0435.log",
      "/home/10999408x8b656d/.log/20191125/20191125-165555-0940.log",
      "/home/10999408x8b656d/.log/20191125/20191125-165608-0087.log",
      "/home/10999408x8b656d/.log/20191125/20191125-165611-0987.log",
      "/home/10999408x8b656d/.log/20191125/20191125-170011-0398.log",
      "/home/10999408x8b656d/.log/20191125/20191125-170015-0671.log",
      "/home/10999408x8b656d/.log/20191125/20191125-170024-0604.log",
      "/home/10999408x8b656d/.log/20191125/20191125-170028-0385.log",
      "/home/10999408x8b656d/.log/20191125/20191125-170042-0186.log",
      "/home/10999408x8b656d/.log/20191125/20191125-170044-0849.log",
      "/home/10999408x8b656d/.log/20191125/20191125-170047-0737.log",
      "/home/10999408x8b656d/.log/20191125/20191125-170052-0343.log",
      "/home/10999408x8b656d/.log/20191125/20191125-170055-0133.log",
      "/home/10999408x8b656d/.log/20191125/20191125-170126-0161.log",
      "/home/10999408x8b656d/.log/20191125/20191125-170141-0056.log",
      "/home/10999408x8b656d/.log/20191125/20191125-170209-0857.log",
      "/home/10999408x8b656d/.log/20191125/20191125-170214-0134.log",
      "/home/10999408x8b656d/.log/20191125/20191125-170218-0624.log",
      "/home/10999408x8b656d/.log/20191125/20191125-170222-0662.log",
      "/home/10999408x8b656d/.log/20191125/20191125-170230-0370.log",
      "/home/10999408x8b656d/.log/20191125/20191125-170318-0603.log",
      "/home/10999408x8b656d/.log/20191125/20191125-170332-0107.log",
      "/home/10999408x8b656d/.log/20191125/20191125-171159-0429.log",
      "/home/10999408x8b656d/.log/20191125/20191125-194658-0441.log",
      "/home/10999408x8b656d/.log/20191125/20191125-194721-0392.log",
      "/home/10999408x8b656d/09a/.log/20191127/20191127-093103-0302.log",
      "/home/10999408x8b656d/09a/.log/20191128/20191128-172030-0000.log"
     ]
    }
   },
   "outputs": [],
   "source": [
    "# このセルを評価すること\n",
    "a=[1, 2, 4, 5, 10, 20]"
   ]
  },
  {
   "cell_type": "markdown",
   "metadata": {
    "lc_cell_meme": {
     "current": "dfb21264-1244-11ea-8453-02420a010844",
     "history": [
      {
       "current": "bb744132-1042-11ea-b2c7-02420a010844",
       "next": "bb744286-1042-11ea-b2c7-02420a010844",
       "previous": "37a809aa-04f4-11ea-84d4-02420a0100a0"
      }
     ],
     "next": "dfb213b8-1244-11ea-8453-02420a010844",
     "previous": "dfb210e8-1244-11ea-8453-02420a010844"
    }
   },
   "source": [
    "リストを折れ線グラフ(Line Graph)で表すには、plt.plot()関数に```a```を引数として与えて実行します。"
   ]
  },
  {
   "cell_type": "code",
   "execution_count": null,
   "metadata": {
    "lc_cell_meme": {
     "current": "dfb213b8-1244-11ea-8453-02420a010844",
     "history": [
      {
       "current": "bb744286-1042-11ea-b2c7-02420a010844",
       "next": "bb7443bc-1042-11ea-b2c7-02420a010844",
       "previous": "bb744132-1042-11ea-b2c7-02420a010844"
      },
      {
       "current": "bb744286-1042-11ea-b2c7-02420a010844",
       "next": "37a80dce-04f4-11ea-84d4-02420a0100a0",
       "previous": "bb744132-1042-11ea-b2c7-02420a010844"
      }
     ],
     "next": "dfb2153e-1244-11ea-8453-02420a010844",
     "previous": "dfb21264-1244-11ea-8453-02420a010844"
    },
    "lc_wrapper": {
     "log_history": [
      "/home/10999408x8b656d/.log/20191125/20191125-194659-0076.log",
      "/home/10999408x8b656d/09a/.log/20191128/20191128-172030-0663.log"
     ]
    }
   },
   "outputs": [],
   "source": [
    "# 演習用入力欄\n",
    "# 引数をaで関数plt.plot()を評価する。\n"
   ]
  },
  {
   "cell_type": "markdown",
   "metadata": {
    "lc_cell_meme": {
     "current": "dfb2153e-1244-11ea-8453-02420a010844",
     "history": [
      {
       "current": "8bf651ee-9e22-11e9-9f4c-02420a010067",
       "next": "8bf65248-9e22-11e9-9f4c-02420a010067",
       "previous": "8bf6518a-9e22-11e9-9f4c-02420a010067"
      },
      {
       "current": "8bf651ee-9e22-11e9-9f4c-02420a010067",
       "next": "8bf65248-9e22-11e9-9f4c-02420a010067",
       "previous": "5c79b2e6-f6e0-11e9-8b8b-02420a0103fb"
      },
      {
       "current": "8bf651ee-9e22-11e9-9f4c-02420a010067",
       "next": "55d9abf8-fc3f-11e9-a9f8-02420a0100a0",
       "previous": "5c79b2e6-f6e0-11e9-8b8b-02420a0103fb"
      },
      {
       "current": "37a80dce-04f4-11ea-84d4-02420a0100a0",
       "next": "37a80f36-04f4-11ea-84d4-02420a0100a0",
       "previous": "37a80afe-04f4-11ea-84d4-02420a0100a0"
      },
      {
       "current": "37a80dce-04f4-11ea-84d4-02420a0100a0",
       "next": "bb7444e8-1042-11ea-b2c7-02420a010844",
       "previous": "bb7443bc-1042-11ea-b2c7-02420a010844"
      },
      {
       "current": "37a80dce-04f4-11ea-84d4-02420a0100a0",
       "next": "bb7444e8-1042-11ea-b2c7-02420a010844",
       "previous": "bb744286-1042-11ea-b2c7-02420a010844"
      }
     ],
     "next": "dfb21688-1244-11ea-8453-02420a010844",
     "previous": "dfb213b8-1244-11ea-8453-02420a010844"
    }
   },
   "source": [
    "### オプション\n",
    "plot.plt()でオプションを指定するとグラフの描き方を変えることができます。  \n",
    "次のセルで、plt.plotに```a```と```\"-rx\"```を与えてグラフを表示してください。"
   ]
  },
  {
   "cell_type": "code",
   "execution_count": null,
   "metadata": {
    "lc_cell_meme": {
     "current": "dfb21688-1244-11ea-8453-02420a010844",
     "history": [
      {
       "current": "bb7444e8-1042-11ea-b2c7-02420a010844",
       "next": "37a80f36-04f4-11ea-84d4-02420a0100a0",
       "previous": "37a80dce-04f4-11ea-84d4-02420a0100a0"
      },
      {
       "current": "bb7444e8-1042-11ea-b2c7-02420a010844",
       "next": "37a810e4-04f4-11ea-84d4-02420a0100a0",
       "previous": "37a80dce-04f4-11ea-84d4-02420a0100a0"
      }
     ],
     "next": "dfb21822-1244-11ea-8453-02420a010844",
     "previous": "dfb2153e-1244-11ea-8453-02420a010844"
    },
    "lc_wrapper": {
     "log_history": [
      "/home/10999408x8b656d/.log/20191125/20191125-173641-0966.log"
     ]
    }
   },
   "outputs": [],
   "source": [
    "# 演習用入力欄\n",
    "# 関数plt.plot()にa, \"-rx\"を与えてを評価する。\n"
   ]
  },
  {
   "cell_type": "markdown",
   "metadata": {
    "lc_cell_meme": {
     "current": "dfb21822-1244-11ea-8453-02420a010844",
     "history": [
      {
       "current": "2c787324-fc40-11e9-a9f8-02420a0100a0",
       "next": "9d62ddaa-fc3f-11e9-a9f8-02420a0100a0",
       "previous": "8bf65248-9e22-11e9-9f4c-02420a010067"
      },
      {
       "current": "2c787324-fc40-11e9-a9f8-02420a0100a0",
       "next": "9d62ddaa-fc3f-11e9-a9f8-02420a0100a0",
       "previous": "55d9abf8-fc3f-11e9-a9f8-02420a0100a0"
      },
      {
       "current": "37a810e4-04f4-11ea-84d4-02420a0100a0",
       "next": "37a8127e-04f4-11ea-84d4-02420a0100a0",
       "previous": "37a80f36-04f4-11ea-84d4-02420a0100a0"
      },
      {
       "current": "37a810e4-04f4-11ea-84d4-02420a0100a0",
       "next": "bb744682-1042-11ea-b2c7-02420a010844",
       "previous": "37a80f36-04f4-11ea-84d4-02420a0100a0"
      },
      {
       "current": "37a810e4-04f4-11ea-84d4-02420a0100a0",
       "next": "bb744682-1042-11ea-b2c7-02420a010844",
       "previous": "bb7444e8-1042-11ea-b2c7-02420a010844"
      }
     ],
     "next": "dfb21976-1244-11ea-8453-02420a010844",
     "previous": "dfb21688-1244-11ea-8453-02420a010844"
    }
   },
   "source": [
    "ヒント：　赤の×でマーキングされた折れ線グラフになります。\n",
    "\n",
    "オプションの例:\n",
    "\n",
    "|オプション|意味|\n",
    "|:-:|:-|\n",
    "|\"b\"|青(b)の実線|\n",
    "|\"or\" |赤(r)で円(o)のマーキング|\n",
    "|\"-g\"|  緑(g)の実線(-)|\n",
    "|\"--\" | 鎖線(--)|\n",
    "| \"^k:\" | 黒(k)の三角形(^)でマーキングされた点線(:)|"
   ]
  },
  {
   "cell_type": "markdown",
   "metadata": {
    "lc_cell_meme": {
     "current": "dfb21976-1244-11ea-8453-02420a010844",
     "history": [
      {
       "current": "bb744682-1042-11ea-b2c7-02420a010844",
       "next": "37a8127e-04f4-11ea-84d4-02420a0100a0",
       "previous": "37a810e4-04f4-11ea-84d4-02420a0100a0"
      }
     ],
     "next": "dfb21ad4-1244-11ea-8453-02420a010844",
     "previous": "dfb21822-1244-11ea-8453-02420a010844"
    }
   },
   "source": [
    "### x軸の指定\n",
    "リストデータをひとつplt.plot()に与えて実行すると、$x$軸はリストのインデックスになります。  \n",
    "$x$に別の値を用いる場合は、$x$軸の値となるリストを与えます。\n",
    "次のセルを評価すると、`x=[1, 2, 3, 4, 5, 6]`のリストを作成することができます。"
   ]
  },
  {
   "cell_type": "code",
   "execution_count": null,
   "metadata": {
    "lc_cell_meme": {
     "current": "dfb21ad4-1244-11ea-8453-02420a010844",
     "history": [
      {
       "current": "9d62ddaa-fc3f-11e9-a9f8-02420a0100a0",
       "next": "8bf652ac-9e22-11e9-9f4c-02420a010067",
       "previous": "8bf65248-9e22-11e9-9f4c-02420a010067"
      },
      {
       "current": "9d62ddaa-fc3f-11e9-a9f8-02420a0100a0",
       "next": "8bf652ac-9e22-11e9-9f4c-02420a010067",
       "previous": "2c787324-fc40-11e9-a9f8-02420a0100a0"
      },
      {
       "current": "37a8127e-04f4-11ea-84d4-02420a0100a0",
       "next": "37a813dc-04f4-11ea-84d4-02420a0100a0",
       "previous": "37a810e4-04f4-11ea-84d4-02420a0100a0"
      },
      {
       "current": "37a8127e-04f4-11ea-84d4-02420a0100a0",
       "next": "bb744790-1042-11ea-b2c7-02420a010844",
       "previous": "bb744682-1042-11ea-b2c7-02420a010844"
      }
     ],
     "next": "dfb21c28-1244-11ea-8453-02420a010844",
     "previous": "dfb21976-1244-11ea-8453-02420a010844"
    },
    "lc_wrapper": {
     "log_history": [
      "/home/10999542xb8011f/07a/.log/20191101/20191101-093959-0514.log",
      "/home/10999542xb8011f/07a/.log/20191111/20191111-181348-0474.log",
      "/home/10999542xb8011f/07a/.log/20191111/20191111-182555-0148.log",
      "/home/10999408x8b656d/.log/20191125/20191125-195052-0943.log",
      "/home/10999408x8b656d/.log/20191125/20191125-195554-0138.log",
      "/home/10999408x8b656d/09a/.log/20191127/20191127-094135-0185.log",
      "/home/10999408x8b656d/09a/.log/20191128/20191128-172014-0333.log",
      "/home/10999408x8b656d/09a/.log/20191128/20191128-172117-0632.log"
     ]
    }
   },
   "outputs": [],
   "source": [
    "# このセルを評価すること\n",
    "x=list(range(1,7))\n",
    "x"
   ]
  },
  {
   "cell_type": "markdown",
   "metadata": {
    "lc_cell_meme": {
     "current": "dfb21c28-1244-11ea-8453-02420a010844",
     "execution_end_time": "2019-11-25T10:52:52.875190Z",
     "history": [
      {
       "current": "bb744790-1042-11ea-b2c7-02420a010844",
       "next": "37a8127e-04f4-11ea-84d4-02420a0100a0",
       "previous": "37a8127e-04f4-11ea-84d4-02420a0100a0"
      }
     ],
     "next": "dfb21da4-1244-11ea-8453-02420a010844",
     "previous": "dfb21ad4-1244-11ea-8453-02420a010844"
    },
    "lc_wrapper": {
     "log_history": [
      "/home/10999408x8b656d/.log/20191125/20191125-195252-0856.log"
     ]
    }
   },
   "source": [
    " _解説_   \n",
    "list() ： 引数にrange()を与えると、rangeで指定した範囲のリストが返される関数\n",
    " _注意_\n",
    "\n",
    "plt.plot()に二つのリストを与えることで、$x$軸、$y$軸データを指定できます。\n",
    "以下のセルで、plt.plot()に`x`, `a`を引数で渡して、折れ線グラフを描いてください。"
   ]
  },
  {
   "cell_type": "code",
   "execution_count": null,
   "metadata": {
    "lc_cell_meme": {
     "current": "dfb21da4-1244-11ea-8453-02420a010844",
     "history": [
      {
       "current": "9d62ddaa-fc3f-11e9-a9f8-02420a0100a0",
       "next": "8bf652ac-9e22-11e9-9f4c-02420a010067",
       "previous": "8bf65248-9e22-11e9-9f4c-02420a010067"
      },
      {
       "current": "9d62ddaa-fc3f-11e9-a9f8-02420a0100a0",
       "next": "8bf652ac-9e22-11e9-9f4c-02420a010067",
       "previous": "2c787324-fc40-11e9-a9f8-02420a0100a0"
      },
      {
       "current": "37a8127e-04f4-11ea-84d4-02420a0100a0",
       "next": "37a813dc-04f4-11ea-84d4-02420a0100a0",
       "previous": "37a810e4-04f4-11ea-84d4-02420a0100a0"
      },
      {
       "current": "37a8127e-04f4-11ea-84d4-02420a0100a0",
       "next": "37a8127e-04f4-11ea-84d4-02420a0100a0",
       "previous": "bb744790-1042-11ea-b2c7-02420a010844"
      },
      {
       "current": "37a8127e-04f4-11ea-84d4-02420a0100a0",
       "next": "bb74489e-1042-11ea-b2c7-02420a010844",
       "previous": "bb744790-1042-11ea-b2c7-02420a010844"
      }
     ],
     "next": "dfb21f20-1244-11ea-8453-02420a010844",
     "previous": "dfb21c28-1244-11ea-8453-02420a010844"
    },
    "lc_wrapper": {
     "log_history": [
      "/home/10999542xb8011f/07a/.log/20191101/20191101-093959-0514.log",
      "/home/10999542xb8011f/07a/.log/20191111/20191111-181348-0474.log",
      "/home/10999542xb8011f/07a/.log/20191111/20191111-182555-0148.log",
      "/home/10999408x8b656d/.log/20191125/20191125-195052-0943.log",
      "/home/10999408x8b656d/.log/20191125/20191125-195554-0138.log",
      "/home/10999408x8b656d/.log/20191125/20191125-195857-0689.log",
      "/home/10999408x8b656d/09a/.log/20191128/20191128-172204-0194.log"
     ]
    }
   },
   "outputs": [],
   "source": [
    "# 演習用入力欄\n"
   ]
  },
  {
   "cell_type": "markdown",
   "metadata": {
    "lc_cell_meme": {
     "current": "dfb21f20-1244-11ea-8453-02420a010844",
     "history": [
      {
       "current": "bb74489e-1042-11ea-b2c7-02420a010844",
       "next": "bb7449a2-1042-11ea-b2c7-02420a010844",
       "previous": "37a8127e-04f4-11ea-84d4-02420a0100a0"
      }
     ],
     "next": "dfb22196-1244-11ea-8453-02420a010844",
     "previous": "dfb21da4-1244-11ea-8453-02420a010844"
    }
   },
   "source": [
    "ヒント：$x$軸が1, 2, ..6で表示される。"
   ]
  },
  {
   "cell_type": "markdown",
   "metadata": {
    "lc_cell_meme": {
     "current": "dfb22196-1244-11ea-8453-02420a010844",
     "history": [
      {
       "current": "bb7449a2-1042-11ea-b2c7-02420a010844",
       "next": "37a8127e-04f4-11ea-84d4-02420a0100a0",
       "previous": "bb74489e-1042-11ea-b2c7-02420a010844"
      }
     ],
     "next": "dfb2233a-1244-11ea-8453-02420a010844",
     "previous": "dfb21f20-1244-11ea-8453-02420a010844"
    }
   },
   "source": [
    "## 棒グラフ(教科書P75)\n",
    "### 縦棒グラフ\n",
    "棒グラフ(Bar Graph)を描くには、plt.bar()関数を使用します。  \n",
    "\n",
    "棒グラフには、$x$軸と$y$軸のデータがセットで必要になります。上でplt.plot()で作成した折れ線グラフをplt.bar()を使って棒グラフで描いてみましょう。"
   ]
  },
  {
   "cell_type": "code",
   "execution_count": null,
   "metadata": {
    "lc_cell_meme": {
     "current": "dfb2233a-1244-11ea-8453-02420a010844",
     "history": [
      {
       "current": "9d62ddaa-fc3f-11e9-a9f8-02420a0100a0",
       "next": "8bf652ac-9e22-11e9-9f4c-02420a010067",
       "previous": "8bf65248-9e22-11e9-9f4c-02420a010067"
      },
      {
       "current": "9d62ddaa-fc3f-11e9-a9f8-02420a0100a0",
       "next": "8bf652ac-9e22-11e9-9f4c-02420a010067",
       "previous": "2c787324-fc40-11e9-a9f8-02420a0100a0"
      },
      {
       "current": "37a8127e-04f4-11ea-84d4-02420a0100a0",
       "next": "37a813dc-04f4-11ea-84d4-02420a0100a0",
       "previous": "37a810e4-04f4-11ea-84d4-02420a0100a0"
      },
      {
       "current": "37a8127e-04f4-11ea-84d4-02420a0100a0",
       "next": "bb744ab0-1042-11ea-b2c7-02420a010844",
       "previous": "bb7449a2-1042-11ea-b2c7-02420a010844"
      },
      {
       "current": "37a8127e-04f4-11ea-84d4-02420a0100a0",
       "next": "37a8127e-04f4-11ea-84d4-02420a0100a0",
       "previous": "bb7449a2-1042-11ea-b2c7-02420a010844"
      },
      {
       "current": "37a8127e-04f4-11ea-84d4-02420a0100a0",
       "next": "bb744ab0-1042-11ea-b2c7-02420a010844",
       "previous": "bb7449a2-1042-11ea-b2c7-02420a010844"
      }
     ],
     "next": "dfb224a2-1244-11ea-8453-02420a010844",
     "previous": "dfb22196-1244-11ea-8453-02420a010844"
    },
    "lc_wrapper": {
     "log_history": [
      "/home/10999542xb8011f/07a/.log/20191101/20191101-093959-0514.log",
      "/home/10999542xb8011f/07a/.log/20191111/20191111-181348-0474.log",
      "/home/10999542xb8011f/07a/.log/20191111/20191111-182555-0148.log",
      "/home/10999408x8b656d/.log/20191125/20191125-200151-0128.log"
     ]
    }
   },
   "outputs": [],
   "source": [
    "# 演習用入力欄\n",
    "# 引数x, aで関数plt.bar()を評価する。\n"
   ]
  },
  {
   "cell_type": "markdown",
   "metadata": {
    "lc_cell_meme": {
     "current": "dfb224a2-1244-11ea-8453-02420a010844",
     "history": [
      {
       "current": "bb744ab0-1042-11ea-b2c7-02420a010844",
       "next": "37a8127e-04f4-11ea-84d4-02420a0100a0",
       "previous": "37a8127e-04f4-11ea-84d4-02420a0100a0"
      }
     ],
     "next": "dfb2261e-1244-11ea-8453-02420a010844",
     "previous": "dfb2233a-1244-11ea-8453-02420a010844"
    }
   },
   "source": [
    "ヒント：plt.bar()の引数には、`x`と`a`を与えます。\n",
    "### 横棒グラフ\n",
    "plt.barh()を使うと、横棒グラフを作成することができます。  \n",
    "下のセルでplt.barh()に`x, a`を引数として与えて、横棒グラフを表示してください。"
   ]
  },
  {
   "cell_type": "code",
   "execution_count": null,
   "metadata": {
    "lc_cell_meme": {
     "current": "dfb2261e-1244-11ea-8453-02420a010844",
     "history": [
      {
       "current": "9d62ddaa-fc3f-11e9-a9f8-02420a0100a0",
       "next": "8bf652ac-9e22-11e9-9f4c-02420a010067",
       "previous": "8bf65248-9e22-11e9-9f4c-02420a010067"
      },
      {
       "current": "9d62ddaa-fc3f-11e9-a9f8-02420a0100a0",
       "next": "8bf652ac-9e22-11e9-9f4c-02420a010067",
       "previous": "2c787324-fc40-11e9-a9f8-02420a0100a0"
      },
      {
       "current": "37a8127e-04f4-11ea-84d4-02420a0100a0",
       "next": "37a813dc-04f4-11ea-84d4-02420a0100a0",
       "previous": "37a810e4-04f4-11ea-84d4-02420a0100a0"
      },
      {
       "current": "37a8127e-04f4-11ea-84d4-02420a0100a0",
       "next": "bb744bb4-1042-11ea-b2c7-02420a010844",
       "previous": "bb744ab0-1042-11ea-b2c7-02420a010844"
      },
      {
       "current": "37a8127e-04f4-11ea-84d4-02420a0100a0",
       "next": "37a8127e-04f4-11ea-84d4-02420a0100a0",
       "previous": "bb744ab0-1042-11ea-b2c7-02420a010844"
      },
      {
       "current": "37a8127e-04f4-11ea-84d4-02420a0100a0",
       "next": "bb744bb4-1042-11ea-b2c7-02420a010844",
       "previous": "bb744ab0-1042-11ea-b2c7-02420a010844"
      }
     ],
     "next": "dfb22772-1244-11ea-8453-02420a010844",
     "previous": "dfb224a2-1244-11ea-8453-02420a010844"
    },
    "lc_wrapper": {
     "log_history": [
      "/home/10999542xb8011f/07a/.log/20191101/20191101-093959-0514.log",
      "/home/10999542xb8011f/07a/.log/20191111/20191111-181348-0474.log",
      "/home/10999542xb8011f/07a/.log/20191111/20191111-182555-0148.log",
      "/home/10999408x8b656d/.log/20191125/20191125-200151-0128.log",
      "/home/10999408x8b656d/.log/20191126/20191126-192946-0802.log"
     ]
    }
   },
   "outputs": [],
   "source": [
    "# 演習用入力欄\n",
    "# 引数x, aで関数plt.barh()を評価する。\n"
   ]
  },
  {
   "cell_type": "markdown",
   "metadata": {
    "lc_cell_meme": {
     "current": "dfb22772-1244-11ea-8453-02420a010844",
     "history": [
      {
       "current": "bb744bb4-1042-11ea-b2c7-02420a010844",
       "next": "37a8127e-04f4-11ea-84d4-02420a0100a0",
       "previous": "37a8127e-04f4-11ea-84d4-02420a0100a0"
      }
     ],
     "next": "dfb228ee-1244-11ea-8453-02420a010844",
     "previous": "dfb2261e-1244-11ea-8453-02420a010844"
    }
   },
   "source": [
    "## 散布図(教科書P76)\n",
    "散布図（Scatter Graph)は２種類のデータ（たとえば$x$と$y$があったときに$(x, y)$の点をプロットしたグラフです。\n",
    "\n",
    "作成するにはplt.scatter()を使います。\n",
    "\n",
    "上記のplt.scatter()使って、`x, a`の散布図を作成してみてください。"
   ]
  },
  {
   "cell_type": "code",
   "execution_count": null,
   "metadata": {
    "lc_cell_meme": {
     "current": "dfb228ee-1244-11ea-8453-02420a010844",
     "history": [
      {
       "current": "9d62ddaa-fc3f-11e9-a9f8-02420a0100a0",
       "next": "8bf652ac-9e22-11e9-9f4c-02420a010067",
       "previous": "8bf65248-9e22-11e9-9f4c-02420a010067"
      },
      {
       "current": "9d62ddaa-fc3f-11e9-a9f8-02420a0100a0",
       "next": "8bf652ac-9e22-11e9-9f4c-02420a010067",
       "previous": "2c787324-fc40-11e9-a9f8-02420a0100a0"
      },
      {
       "current": "37a8127e-04f4-11ea-84d4-02420a0100a0",
       "next": "37a813dc-04f4-11ea-84d4-02420a0100a0",
       "previous": "37a810e4-04f4-11ea-84d4-02420a0100a0"
      },
      {
       "current": "37a8127e-04f4-11ea-84d4-02420a0100a0",
       "next": "bb744cb8-1042-11ea-b2c7-02420a010844",
       "previous": "bb744bb4-1042-11ea-b2c7-02420a010844"
      },
      {
       "current": "37a8127e-04f4-11ea-84d4-02420a0100a0",
       "next": "37a8127e-04f4-11ea-84d4-02420a0100a0",
       "previous": "bb744bb4-1042-11ea-b2c7-02420a010844"
      },
      {
       "current": "37a8127e-04f4-11ea-84d4-02420a0100a0",
       "next": "bb744cb8-1042-11ea-b2c7-02420a010844",
       "previous": "bb744bb4-1042-11ea-b2c7-02420a010844"
      }
     ],
     "next": "dfb22a42-1244-11ea-8453-02420a010844",
     "previous": "dfb22772-1244-11ea-8453-02420a010844"
    },
    "lc_wrapper": {
     "log_history": [
      "/home/10999542xb8011f/07a/.log/20191101/20191101-093959-0514.log",
      "/home/10999542xb8011f/07a/.log/20191111/20191111-181348-0474.log",
      "/home/10999542xb8011f/07a/.log/20191111/20191111-182555-0148.log",
      "/home/10999408x8b656d/.log/20191125/20191125-200151-0128.log",
      "/home/10999408x8b656d/.log/20191126/20191126-192946-0802.log"
     ]
    }
   },
   "outputs": [],
   "source": [
    "# 演習用入力欄\n",
    "# 引数をaで関数plt.scatter()を評価する。\n"
   ]
  },
  {
   "cell_type": "markdown",
   "metadata": {
    "lc_cell_meme": {
     "current": "dfb22a42-1244-11ea-8453-02420a010844",
     "history": [
      {
       "current": "bb744cb8-1042-11ea-b2c7-02420a010844",
       "next": "37a813dc-04f4-11ea-84d4-02420a0100a0",
       "previous": "37a8127e-04f4-11ea-84d4-02420a0100a0"
      }
     ],
     "next": "dfb22bd2-1244-11ea-8453-02420a010844",
     "previous": "dfb228ee-1244-11ea-8453-02420a010844"
    }
   },
   "source": [
    "## 円グラフ(教科書P77)\n",
    "円グラフ(Pie Chart)を描くためには、plt.pie()を使います。\n",
    "### 単純な円グラフ\n",
    "データとして、`[15, 30, 50]`のリストを作成して、plt.pie()の引数に渡して円グラフが作成してください。"
   ]
  },
  {
   "cell_type": "code",
   "execution_count": null,
   "metadata": {
    "lc_cell_meme": {
     "current": "dfb22bd2-1244-11ea-8453-02420a010844",
     "history": [
      {
       "current": "8bf652ac-9e22-11e9-9f4c-02420a010067",
       "next": "8bf65310-9e22-11e9-9f4c-02420a010067",
       "previous": "8bf65248-9e22-11e9-9f4c-02420a010067"
      },
      {
       "current": "8bf652ac-9e22-11e9-9f4c-02420a010067",
       "next": "9d62e1b0-fc3f-11e9-a9f8-02420a0100a0",
       "previous": "9d62ddaa-fc3f-11e9-a9f8-02420a0100a0"
      },
      {
       "current": "8bf652ac-9e22-11e9-9f4c-02420a010067",
       "next": "2c7875f4-fc40-11e9-a9f8-02420a0100a0",
       "previous": "9d62ddaa-fc3f-11e9-a9f8-02420a0100a0"
      },
      {
       "current": "37a813dc-04f4-11ea-84d4-02420a0100a0",
       "next": "37a8156c-04f4-11ea-84d4-02420a0100a0",
       "previous": "37a8127e-04f4-11ea-84d4-02420a0100a0"
      },
      {
       "current": "37a813dc-04f4-11ea-84d4-02420a0100a0",
       "next": "37a813dc-04f4-11ea-84d4-02420a0100a0",
       "previous": "bb744cb8-1042-11ea-b2c7-02420a010844"
      }
     ],
     "next": "dfb22d1c-1244-11ea-8453-02420a010844",
     "previous": "dfb22a42-1244-11ea-8453-02420a010844"
    },
    "lc_wrapper": {
     "log_history": [
      "/home/10999542xb8011f/07a/.log/20191108/20191108-144021-0766.log",
      "/home/10999542xb8011f/07a/.log/20191111/20191111-181351-0561.log",
      "/home/10999408x8b656d/.log/20191126/20191126-192947-0373.log",
      "/home/10999408x8b656d/.log/20191126/20191126-193411-0767.log",
      "/home/10999408x8b656d/.log/20191126/20191126-193432-0978.log",
      "/home/10999408x8b656d/.log/20191126/20191126-193610-0579.log",
      "/home/10999408x8b656d/.log/20191126/20191126-193827-0068.log"
     ]
    }
   },
   "outputs": [],
   "source": [
    "# 演習用入力欄 （要修正）\n",
    "plt.axis('equal')  # 円グラフを真円で描くための指定\n",
    "data=[???, ???, ???]\n",
    "plt.pie(???)"
   ]
  },
  {
   "cell_type": "markdown",
   "metadata": {
    "lc_cell_meme": {
     "current": "dfb22d1c-1244-11ea-8453-02420a010844",
     "execution_end_time": "2019-11-26T10:39:00.378980Z",
     "history": [
      {
       "current": "8bf652ac-9e22-11e9-9f4c-02420a010067",
       "next": "8bf65310-9e22-11e9-9f4c-02420a010067",
       "previous": "8bf65248-9e22-11e9-9f4c-02420a010067"
      },
      {
       "current": "8bf652ac-9e22-11e9-9f4c-02420a010067",
       "next": "9d62e1b0-fc3f-11e9-a9f8-02420a0100a0",
       "previous": "9d62ddaa-fc3f-11e9-a9f8-02420a0100a0"
      },
      {
       "current": "8bf652ac-9e22-11e9-9f4c-02420a010067",
       "next": "2c7875f4-fc40-11e9-a9f8-02420a0100a0",
       "previous": "9d62ddaa-fc3f-11e9-a9f8-02420a0100a0"
      },
      {
       "current": "37a813dc-04f4-11ea-84d4-02420a0100a0",
       "next": "37a8156c-04f4-11ea-84d4-02420a0100a0",
       "previous": "37a8127e-04f4-11ea-84d4-02420a0100a0"
      },
      {
       "current": "37a813dc-04f4-11ea-84d4-02420a0100a0",
       "next": "37a813dc-04f4-11ea-84d4-02420a0100a0",
       "previous": "37a813dc-04f4-11ea-84d4-02420a0100a0"
      }
     ],
     "next": "dfb22e98-1244-11ea-8453-02420a010844",
     "previous": "dfb22bd2-1244-11ea-8453-02420a010844"
    },
    "lc_wrapper": {
     "log_history": [
      "/home/10999542xb8011f/07a/.log/20191108/20191108-144021-0766.log",
      "/home/10999542xb8011f/07a/.log/20191111/20191111-181351-0561.log",
      "/home/10999408x8b656d/.log/20191126/20191126-192947-0373.log",
      "/home/10999408x8b656d/.log/20191126/20191126-193411-0767.log",
      "/home/10999408x8b656d/.log/20191126/20191126-193432-0978.log",
      "/home/10999408x8b656d/.log/20191126/20191126-193610-0579.log",
      "/home/10999408x8b656d/.log/20191126/20191126-193827-0068.log",
      "/home/10999408x8b656d/.log/20191126/20191126-193900-0320.log"
     ]
    }
   },
   "source": [
    "### ラベルの指定\n",
    "上の状態だと、各色が何を示しているのかわからないので、ラベルを指定します。  \n",
    "円グラフにラベルを指定するには、ラベルとなるリストを作成して、`plt.pie()`の第２引数に`labels=`に続けてラベルとなるリストを指定します。"
   ]
  },
  {
   "cell_type": "code",
   "execution_count": null,
   "metadata": {
    "lc_cell_meme": {
     "current": "dfb22e98-1244-11ea-8453-02420a010844",
     "history": [
      {
       "current": "8bf652ac-9e22-11e9-9f4c-02420a010067",
       "next": "8bf65310-9e22-11e9-9f4c-02420a010067",
       "previous": "8bf65248-9e22-11e9-9f4c-02420a010067"
      },
      {
       "current": "8bf652ac-9e22-11e9-9f4c-02420a010067",
       "next": "9d62e1b0-fc3f-11e9-a9f8-02420a0100a0",
       "previous": "9d62ddaa-fc3f-11e9-a9f8-02420a0100a0"
      },
      {
       "current": "8bf652ac-9e22-11e9-9f4c-02420a010067",
       "next": "2c7875f4-fc40-11e9-a9f8-02420a0100a0",
       "previous": "9d62ddaa-fc3f-11e9-a9f8-02420a0100a0"
      },
      {
       "current": "37a813dc-04f4-11ea-84d4-02420a0100a0",
       "next": "37a8156c-04f4-11ea-84d4-02420a0100a0",
       "previous": "37a8127e-04f4-11ea-84d4-02420a0100a0"
      },
      {
       "current": "37a813dc-04f4-11ea-84d4-02420a0100a0",
       "next": "bb744dc6-1042-11ea-b2c7-02420a010844",
       "previous": "37a813dc-04f4-11ea-84d4-02420a0100a0"
      },
      {
       "current": "37a813dc-04f4-11ea-84d4-02420a0100a0",
       "next": "37a813dc-04f4-11ea-84d4-02420a0100a0",
       "previous": "37a813dc-04f4-11ea-84d4-02420a0100a0"
      },
      {
       "current": "37a813dc-04f4-11ea-84d4-02420a0100a0",
       "next": "bb744dc6-1042-11ea-b2c7-02420a010844",
       "previous": "37a813dc-04f4-11ea-84d4-02420a0100a0"
      }
     ],
     "next": "dfb23014-1244-11ea-8453-02420a010844",
     "previous": "dfb22d1c-1244-11ea-8453-02420a010844"
    },
    "lc_wrapper": {
     "log_history": [
      "/home/10999542xb8011f/07a/.log/20191108/20191108-144021-0766.log",
      "/home/10999542xb8011f/07a/.log/20191111/20191111-181351-0561.log",
      "/home/10999408x8b656d/.log/20191126/20191126-192947-0373.log",
      "/home/10999408x8b656d/.log/20191126/20191126-193411-0767.log",
      "/home/10999408x8b656d/.log/20191126/20191126-193432-0978.log",
      "/home/10999408x8b656d/.log/20191126/20191126-193610-0579.log",
      "/home/10999408x8b656d/.log/20191126/20191126-193827-0068.log",
      "/home/10999408x8b656d/.log/20191126/20191126-193900-0320.log",
      "/home/10999408x8b656d/.log/20191126/20191126-194046-0022.log",
      "/home/10999408x8b656d/.log/20191126/20191126-194052-0387.log",
      "/home/10999408x8b656d/.log/20191126/20191126-194518-0101.log",
      "/home/10999408x8b656d/.log/20191126/20191126-194558-0508.log",
      "/home/10999408x8b656d/.log/20191126/20191126-194607-0534.log",
      "/home/10999408x8b656d/.log/20191126/20191126-194621-0624.log",
      "/home/10999408x8b656d/.log/20191126/20191126-194650-0005.log",
      "/home/10999408x8b656d/.log/20191126/20191126-194703-0928.log",
      "/home/10999408x8b656d/.log/20191126/20191126-194708-0109.log",
      "/home/10999408x8b656d/.log/20191126/20191126-194728-0913.log",
      "/home/10999408x8b656d/.log/20191126/20191126-194920-0568.log",
      "/home/10999408x8b656d/.log/20191126/20191126-194930-0466.log",
      "/home/10999408x8b656d/.log/20191126/20191126-194940-0574.log",
      "/home/10999408x8b656d/.log/20191126/20191126-194943-0439.log",
      "/home/10999408x8b656d/.log/20191126/20191126-194948-0203.log",
      "/home/10999408x8b656d/.log/20191126/20191126-195017-0444.log",
      "/home/10999408x8b656d/.log/20191126/20191126-195241-0211.log",
      "/home/10999408x8b656d/09a/.log/20191128/20191128-172511-0098.log"
     ]
    }
   },
   "outputs": [],
   "source": [
    "# 演習用入力欄\n",
    "label=[\"yes\", \"no\", \"Unknown\"] # ラベル用リスト\n",
    "plt.pie(???, labels=???)"
   ]
  },
  {
   "cell_type": "markdown",
   "metadata": {
    "lc_cell_meme": {
     "current": "dfb23014-1244-11ea-8453-02420a010844",
     "history": [
      {
       "current": "bb744dc6-1042-11ea-b2c7-02420a010844",
       "next": "bb744ed4-1042-11ea-b2c7-02420a010844",
       "previous": "37a813dc-04f4-11ea-84d4-02420a0100a0"
      }
     ],
     "next": "dfb23190-1244-11ea-8453-02420a010844",
     "previous": "dfb22e98-1244-11ea-8453-02420a010844"
    }
   },
   "source": [
    "`label=[\"yes\", \"no\", \"Unknown\"]` は円グラフのデータ`[15, 30, 50]`にそれぞれ対応します。\n",
    "\n",
    "## 計算結果を元にグラフを描く(教科書P78)\n",
    "### 関数のグラフを描く\n",
    "$x^2$の値をxが-10から10まで計算し、折れ線グラフにします。  \n",
    "まず、list()とrange()を組み合わせて、$x$軸にあたる値のリストを作成します。"
   ]
  },
  {
   "cell_type": "code",
   "execution_count": null,
   "metadata": {
    "lc_cell_meme": {
     "current": "dfb23190-1244-11ea-8453-02420a010844",
     "history": [
      {
       "current": "bb744ed4-1042-11ea-b2c7-02420a010844",
       "next": "bb744fd8-1042-11ea-b2c7-02420a010844",
       "previous": "bb744dc6-1042-11ea-b2c7-02420a010844"
      },
      {
       "current": "bb744ed4-1042-11ea-b2c7-02420a010844",
       "next": "bb7450dc-1042-11ea-b2c7-02420a010844",
       "previous": "bb744dc6-1042-11ea-b2c7-02420a010844"
      }
     ],
     "next": "dfb232e4-1244-11ea-8453-02420a010844",
     "previous": "dfb23014-1244-11ea-8453-02420a010844"
    },
    "lc_wrapper": {
     "log_history": [
      "/home/10999408x8b656d/.log/20191126/20191126-195720-0491.log"
     ]
    }
   },
   "outputs": [],
   "source": [
    "# 演習用入力欄 （要修正）\n",
    "x=list(range(???, ???))\n",
    "x"
   ]
  },
  {
   "cell_type": "markdown",
   "metadata": {
    "lc_cell_meme": {
     "current": "dfb232e4-1244-11ea-8453-02420a010844",
     "history": [
      {
       "current": "bb7450dc-1042-11ea-b2c7-02420a010844",
       "next": "bb7451ea-1042-11ea-b2c7-02420a010844",
       "previous": "bb744fd8-1042-11ea-b2c7-02420a010844"
      },
      {
       "current": "bb7450dc-1042-11ea-b2c7-02420a010844",
       "next": "bb7451ea-1042-11ea-b2c7-02420a010844",
       "previous": "bb744ed4-1042-11ea-b2c7-02420a010844"
      }
     ],
     "next": "dfb234a6-1244-11ea-8453-02420a010844",
     "previous": "dfb23190-1244-11ea-8453-02420a010844"
    }
   },
   "source": [
    "```\n",
    "[-10\n",
    " -9\n",
    " -8\n",
    "  :\n",
    " 10]\n",
    " ```\n",
    " と表示されます。\n",
    " \n",
    "続いて、$x^2$を求める関数x2()を定義します。"
   ]
  },
  {
   "cell_type": "code",
   "execution_count": null,
   "metadata": {
    "lc_cell_meme": {
     "current": "dfb234a6-1244-11ea-8453-02420a010844",
     "history": [
      {
       "current": "bb7451ea-1042-11ea-b2c7-02420a010844",
       "next": "bb7452f8-1042-11ea-b2c7-02420a010844",
       "previous": "bb7450dc-1042-11ea-b2c7-02420a010844"
      },
      {
       "current": "bb7451ea-1042-11ea-b2c7-02420a010844",
       "next": "bb745406-1042-11ea-b2c7-02420a010844",
       "previous": "bb7450dc-1042-11ea-b2c7-02420a010844"
      }
     ],
     "next": "dfb2362c-1244-11ea-8453-02420a010844",
     "previous": "dfb232e4-1244-11ea-8453-02420a010844"
    }
   },
   "outputs": [],
   "source": [
    "# 演習用入力欄 （要修正）\n",
    "def x2(x):\n",
    "    return ????"
   ]
  },
  {
   "cell_type": "code",
   "execution_count": null,
   "metadata": {
    "lc_cell_meme": {
     "current": "dfb2362c-1244-11ea-8453-02420a010844",
     "history": [
      {
       "current": "bb745406-1042-11ea-b2c7-02420a010844",
       "next": "bb745672-1042-11ea-b2c7-02420a010844",
       "previous": "bb7452f8-1042-11ea-b2c7-02420a010844"
      },
      {
       "current": "bb745406-1042-11ea-b2c7-02420a010844",
       "next": "bb745672-1042-11ea-b2c7-02420a010844",
       "previous": "bb7451ea-1042-11ea-b2c7-02420a010844"
      }
     ],
     "next": "dfb2380c-1244-11ea-8453-02420a010844",
     "previous": "dfb234a6-1244-11ea-8453-02420a010844"
    },
    "lc_wrapper": {
     "log_history": [
      "/home/10999408x8b656d/.log/20191126/20191126-195953-0691.log",
      "/home/10999408x8b656d/.log/20191126/20191126-200005-0813.log",
      "/home/10999408x8b656d/09a/.log/20191128/20191128-172541-0386.log"
     ]
    }
   },
   "outputs": [],
   "source": [
    "# 関数x2()の定義確認用\n",
    "x2(4)"
   ]
  },
  {
   "cell_type": "markdown",
   "metadata": {
    "lc_cell_meme": {
     "current": "dfb2380c-1244-11ea-8453-02420a010844",
     "history": [
      {
       "current": "bb745672-1042-11ea-b2c7-02420a010844",
       "next": "bb7457c6-1042-11ea-b2c7-02420a010844",
       "previous": "bb745406-1042-11ea-b2c7-02420a010844"
      }
     ],
     "next": "dfb239ba-1244-11ea-8453-02420a010844",
     "previous": "dfb2362c-1244-11ea-8453-02420a010844"
    }
   },
   "source": [
    "16が表示されるのを確認すること。\n",
    "\n",
    "今度は、リスト$x$に対して、map()を適用します。map()は一つ目の引数に*関数名*、二つ目の引数に*リストやレンジ* を与えることで、その結果を集めたオブジェクトを返します。さらにlist()を適用することで、オブジェクトをリスト化します。\n",
    "![map-image](map_image.png)\n",
    "\n",
    "下のセルで、map()関数に関数名x2と$x$軸となるリストxを与えて、$y$の値となるリストを作成してください。\n"
   ]
  },
  {
   "cell_type": "code",
   "execution_count": null,
   "metadata": {
    "lc_cell_meme": {
     "current": "dfb239ba-1244-11ea-8453-02420a010844",
     "history": [
      {
       "current": "bb7457c6-1042-11ea-b2c7-02420a010844",
       "next": "bb7458e8-1042-11ea-b2c7-02420a010844",
       "previous": "bb745672-1042-11ea-b2c7-02420a010844"
      },
      {
       "current": "bb7457c6-1042-11ea-b2c7-02420a010844",
       "next": "bb745a0a-1042-11ea-b2c7-02420a010844",
       "previous": "bb745672-1042-11ea-b2c7-02420a010844"
      }
     ],
     "next": "dfb23b0e-1244-11ea-8453-02420a010844",
     "previous": "dfb2380c-1244-11ea-8453-02420a010844"
    },
    "lc_wrapper": {
     "log_history": [
      "/home/10999408x8b656d/.log/20191126/20191126-200445-0736.log",
      "/home/10999408x8b656d/.log/20191126/20191126-200458-0298.log",
      "/home/10999408x8b656d/.log/20191126/20191126-200515-0985.log",
      "/home/10999408x8b656d/.log/20191126/20191126-200519-0055.log",
      "/home/10999408x8b656d/.log/20191126/20191126-200531-0851.log"
     ]
    }
   },
   "outputs": [],
   "source": [
    "y=list(map(???, ???))\n",
    "y"
   ]
  },
  {
   "cell_type": "markdown",
   "metadata": {
    "lc_cell_meme": {
     "current": "dfb23b0e-1244-11ea-8453-02420a010844",
     "history": [
      {
       "current": "bb745a0a-1042-11ea-b2c7-02420a010844",
       "next": "bb745b22-1042-11ea-b2c7-02420a010844",
       "previous": "bb7458e8-1042-11ea-b2c7-02420a010844"
      },
      {
       "current": "bb745a0a-1042-11ea-b2c7-02420a010844",
       "next": "bb745b22-1042-11ea-b2c7-02420a010844",
       "previous": "bb7457c6-1042-11ea-b2c7-02420a010844"
      }
     ],
     "next": "dfb23c6c-1244-11ea-8453-02420a010844",
     "previous": "dfb239ba-1244-11ea-8453-02420a010844"
    }
   },
   "source": [
    "ヒント:map()の第一引数は\"関数名\"であることに注意。 正しく作成されていれば\n",
    "```\n",
    "[100,\n",
    " 81,\n",
    " 64,\n",
    " 49,\n",
    "  :\n",
    "  ```\n",
    "  が表示されます。  \n",
    "x=[-10, -9,...,-10]というリストの要素それぞれに関数x2()が適用されたリスト[100, 81, ...,100]がyに代入されます。  \n",
    "では、このリスト`x`と`y`を使って、plt.plot()で折れ線グラフを作成してください。"
   ]
  },
  {
   "cell_type": "code",
   "execution_count": null,
   "metadata": {
    "lc_cell_meme": {
     "current": "dfb23c6c-1244-11ea-8453-02420a010844",
     "history": [
      {
       "current": "bb745b22-1042-11ea-b2c7-02420a010844",
       "next": "bb745cbc-1042-11ea-b2c7-02420a010844",
       "previous": "bb745a0a-1042-11ea-b2c7-02420a010844"
      },
      {
       "current": "bb745b22-1042-11ea-b2c7-02420a010844",
       "next": "bb745e10-1042-11ea-b2c7-02420a010844",
       "previous": "bb745a0a-1042-11ea-b2c7-02420a010844"
      }
     ],
     "next": "dfb23dc0-1244-11ea-8453-02420a010844",
     "previous": "dfb23b0e-1244-11ea-8453-02420a010844"
    }
   },
   "outputs": [],
   "source": [
    "# 演習用入力欄\n"
   ]
  },
  {
   "cell_type": "markdown",
   "metadata": {
    "lc_cell_meme": {
     "current": "dfb23dc0-1244-11ea-8453-02420a010844",
     "history": [
      {
       "current": "bb745e10-1042-11ea-b2c7-02420a010844",
       "next": "bb745f3c-1042-11ea-b2c7-02420a010844",
       "previous": "bb745cbc-1042-11ea-b2c7-02420a010844"
      },
      {
       "current": "bb745e10-1042-11ea-b2c7-02420a010844",
       "next": "bb745f3c-1042-11ea-b2c7-02420a010844",
       "previous": "bb745b22-1042-11ea-b2c7-02420a010844"
      }
     ],
     "next": "dfb23f46-1244-11ea-8453-02420a010844",
     "previous": "dfb23c6c-1244-11ea-8453-02420a010844"
    }
   },
   "source": [
    "\n",
    "\n",
    "## 乱数を使ってグラフを描く(教科書P79)\n",
    "### random モジュールの利用\n",
    "乱数を発生させ、グラフにプロットしてみます。乱数を発生する関数として、`random`モジュールのrandom()関数を使用します。このrandom()関数は0から1までのランダムな数値を返す関数です。\n",
    "import 文を使って`random`モジュールをインポートします。"
   ]
  },
  {
   "cell_type": "code",
   "execution_count": null,
   "metadata": {
    "lc_cell_meme": {
     "current": "dfb23f46-1244-11ea-8453-02420a010844",
     "history": [
      {
       "current": "bb745f3c-1042-11ea-b2c7-02420a010844",
       "next": "bb746112-1042-11ea-b2c7-02420a010844",
       "previous": "bb745e10-1042-11ea-b2c7-02420a010844"
      },
      {
       "current": "bb745f3c-1042-11ea-b2c7-02420a010844",
       "next": "bb7462b6-1042-11ea-b2c7-02420a010844",
       "previous": "bb745e10-1042-11ea-b2c7-02420a010844"
      }
     ],
     "next": "dfb240b8-1244-11ea-8453-02420a010844",
     "previous": "dfb23dc0-1244-11ea-8453-02420a010844"
    }
   },
   "outputs": [],
   "source": [
    "# 演習用入力欄 （要修正）\n",
    "import ??? #random モジュールのインポート"
   ]
  },
  {
   "cell_type": "markdown",
   "metadata": {
    "lc_cell_meme": {
     "current": "dfb240b8-1244-11ea-8453-02420a010844",
     "history": [
      {
       "current": "bb7462b6-1042-11ea-b2c7-02420a010844",
       "next": "bb7463ba-1042-11ea-b2c7-02420a010844",
       "previous": "bb746112-1042-11ea-b2c7-02420a010844"
      },
      {
       "current": "bb7462b6-1042-11ea-b2c7-02420a010844",
       "next": "bb7463ba-1042-11ea-b2c7-02420a010844",
       "previous": "bb745f3c-1042-11ea-b2c7-02420a010844"
      }
     ],
     "next": "dfb24234-1244-11ea-8453-02420a010844",
     "previous": "dfb23f46-1244-11ea-8453-02420a010844"
    }
   },
   "source": [
    "### 乱数を返す関数の定義\n",
    "次に、乱数を発生させてその値を返す、関数rnd()を定義します。このrnd()は一つ引数を持つ関数として定義します。  \n",
    "関数の中では引数の値は使用しません。これは、map()関数が引数をひとつ与えてマッピングを行うという動作を行うため、それにあわせた定義にしています。"
   ]
  },
  {
   "cell_type": "code",
   "execution_count": null,
   "metadata": {
    "lc_cell_meme": {
     "current": "dfb24234-1244-11ea-8453-02420a010844",
     "history": [
      {
       "current": "bb7463ba-1042-11ea-b2c7-02420a010844",
       "next": "bb7464be-1042-11ea-b2c7-02420a010844",
       "previous": "bb7462b6-1042-11ea-b2c7-02420a010844"
      },
      {
       "current": "bb7463ba-1042-11ea-b2c7-02420a010844",
       "next": "bb7465c2-1042-11ea-b2c7-02420a010844",
       "previous": "bb7462b6-1042-11ea-b2c7-02420a010844"
      }
     ],
     "next": "dfb24392-1244-11ea-8453-02420a010844",
     "previous": "dfb240b8-1244-11ea-8453-02420a010844"
    },
    "lc_wrapper": {
     "log_history": [
      "/home/10999408x8b656d/.log/20191126/20191126-201622-0174.log",
      "/home/10999408x8b656d/.log/20191126/20191126-201643-0132.log",
      "/home/10999408x8b656d/.log/20191126/20191126-201654-0250.log"
     ]
    }
   },
   "outputs": [],
   "source": [
    "# 演習用入力欄 （要修正）\n",
    "def rnd(x):\n",
    "    return ???()"
   ]
  },
  {
   "cell_type": "code",
   "execution_count": null,
   "metadata": {
    "lc_cell_meme": {
     "current": "dfb24392-1244-11ea-8453-02420a010844",
     "history": [
      {
       "current": "bb7465c2-1042-11ea-b2c7-02420a010844",
       "next": "bb7466c6-1042-11ea-b2c7-02420a010844",
       "previous": "bb7464be-1042-11ea-b2c7-02420a010844"
      },
      {
       "current": "bb7465c2-1042-11ea-b2c7-02420a010844",
       "next": "bb7466c6-1042-11ea-b2c7-02420a010844",
       "previous": "bb7463ba-1042-11ea-b2c7-02420a010844"
      }
     ],
     "next": "dfb244e6-1244-11ea-8453-02420a010844",
     "previous": "dfb24234-1244-11ea-8453-02420a010844"
    },
    "lc_wrapper": {
     "log_history": [
      "/home/10999408x8b656d/.log/20191126/20191126-202518-0502.log",
      "/home/10999408x8b656d/.log/20191126/20191126-202521-0736.log",
      "/home/10999408x8b656d/.log/20191126/20191126-202525-0005.log",
      "/home/10999408x8b656d/09a/.log/20191127/20191127-112452-0809.log"
     ]
    }
   },
   "outputs": [],
   "source": [
    "# 関数rnd()の定義確認用\n",
    "rnd(4)"
   ]
  },
  {
   "cell_type": "markdown",
   "metadata": {
    "lc_cell_meme": {
     "current": "dfb244e6-1244-11ea-8453-02420a010844",
     "history": [
      {
       "current": "bb7466c6-1042-11ea-b2c7-02420a010844",
       "next": "bb7467d4-1042-11ea-b2c7-02420a010844",
       "previous": "bb7465c2-1042-11ea-b2c7-02420a010844"
      }
     ],
     "next": "dfb2463a-1244-11ea-8453-02420a010844",
     "previous": "dfb24392-1244-11ea-8453-02420a010844"
    }
   },
   "source": [
    "rndは乱数なので、同じ値を引数で与えても異なる値が返ってきます。\n",
    "\n",
    "### データとしてmap()関数でリスト作成\n",
    "、list()とmap()を組み合わせて100個の乱数のデータを作成します。"
   ]
  },
  {
   "cell_type": "code",
   "execution_count": null,
   "metadata": {
    "lc_cell_meme": {
     "current": "dfb2463a-1244-11ea-8453-02420a010844",
     "history": [
      {
       "current": "bb7467d4-1042-11ea-b2c7-02420a010844",
       "next": "bb7468ce-1042-11ea-b2c7-02420a010844",
       "previous": "bb7466c6-1042-11ea-b2c7-02420a010844"
      },
      {
       "current": "bb7467d4-1042-11ea-b2c7-02420a010844",
       "next": "bb7469d2-1042-11ea-b2c7-02420a010844",
       "previous": "bb7466c6-1042-11ea-b2c7-02420a010844"
      }
     ],
     "next": "dfb247b6-1244-11ea-8453-02420a010844",
     "previous": "dfb244e6-1244-11ea-8453-02420a010844"
    },
    "lc_wrapper": {
     "log_history": [
      "/home/10999408x8b656d/.log/20191126/20191126-201634-0281.log",
      "/home/10999408x8b656d/.log/20191126/20191126-201654-0891.log"
     ]
    }
   },
   "outputs": [],
   "source": [
    "# 演習用入力欄 （要修正）\n",
    "sample=list(map(???, range(100)))"
   ]
  },
  {
   "cell_type": "markdown",
   "metadata": {
    "lc_cell_meme": {
     "current": "dfb247b6-1244-11ea-8453-02420a010844",
     "history": [
      {
       "current": "bb7469d2-1042-11ea-b2c7-02420a010844",
       "next": "bb746ae0-1042-11ea-b2c7-02420a010844",
       "previous": "bb7468ce-1042-11ea-b2c7-02420a010844"
      },
      {
       "current": "bb7469d2-1042-11ea-b2c7-02420a010844",
       "next": "bb746ae0-1042-11ea-b2c7-02420a010844",
       "previous": "bb7467d4-1042-11ea-b2c7-02420a010844"
      }
     ],
     "next": "dfb24a9a-1244-11ea-8453-02420a010844",
     "previous": "dfb2463a-1244-11ea-8453-02420a010844"
    }
   },
   "source": [
    "ここでは、map()の第２引数にレンジオブジェクトを与えている。\n",
    "最後に、上で作成したリスト`sample`を折れ線グラフ($x$軸は無指定）でプロットしてください。"
   ]
  },
  {
   "cell_type": "code",
   "execution_count": null,
   "metadata": {
    "lc_cell_meme": {
     "current": "dfb24a9a-1244-11ea-8453-02420a010844",
     "history": [
      {
       "current": "bb746ae0-1042-11ea-b2c7-02420a010844",
       "next": "bb746be4-1042-11ea-b2c7-02420a010844",
       "previous": "bb7469d2-1042-11ea-b2c7-02420a010844"
      },
      {
       "current": "bb746ae0-1042-11ea-b2c7-02420a010844",
       "next": "bb746ce8-1042-11ea-b2c7-02420a010844",
       "previous": "bb7469d2-1042-11ea-b2c7-02420a010844"
      }
     ],
     "next": "dfb24c02-1244-11ea-8453-02420a010844",
     "previous": "dfb247b6-1244-11ea-8453-02420a010844"
    },
    "lc_wrapper": {
     "log_history": [
      "/home/10999408x8b656d/09a/.log/20191127/20191127-112502-0803.log"
     ]
    }
   },
   "outputs": [],
   "source": [
    "# 演習用入力欄 \n"
   ]
  },
  {
   "cell_type": "markdown",
   "metadata": {
    "lc_cell_meme": {
     "current": "dfb24c02-1244-11ea-8453-02420a010844",
     "history": [
      {
       "current": "bb746ce8-1042-11ea-b2c7-02420a010844",
       "next": "bb746dec-1042-11ea-b2c7-02420a010844",
       "previous": "bb746be4-1042-11ea-b2c7-02420a010844"
      },
      {
       "current": "bb746ce8-1042-11ea-b2c7-02420a010844",
       "next": "bb746dec-1042-11ea-b2c7-02420a010844",
       "previous": "bb746ae0-1042-11ea-b2c7-02420a010844"
      }
     ],
     "next": "dfb24d56-1244-11ea-8453-02420a010844",
     "previous": "dfb24a9a-1244-11ea-8453-02420a010844"
    }
   },
   "source": [
    "乱数を使用しているため、実行のたびに異なる結果になります。\n",
    "次にもう一つ乱数のリストを作成して、これを$(x, y)$の組として散布図を作成してみてください。"
   ]
  },
  {
   "cell_type": "code",
   "execution_count": null,
   "metadata": {
    "lc_cell_meme": {
     "current": "dfb24d56-1244-11ea-8453-02420a010844",
     "history": [
      {
       "current": "bb746dec-1042-11ea-b2c7-02420a010844",
       "next": "bb746efa-1042-11ea-b2c7-02420a010844",
       "previous": "bb746ce8-1042-11ea-b2c7-02420a010844"
      },
      {
       "current": "bb746dec-1042-11ea-b2c7-02420a010844",
       "next": "bb746dec-1042-11ea-b2c7-02420a010844",
       "previous": "bb746ce8-1042-11ea-b2c7-02420a010844"
      },
      {
       "current": "bb746dec-1042-11ea-b2c7-02420a010844",
       "next": "bb746efa-1042-11ea-b2c7-02420a010844",
       "previous": "bb746ce8-1042-11ea-b2c7-02420a010844"
      }
     ],
     "next": "dfb24eb4-1244-11ea-8453-02420a010844",
     "previous": "dfb24c02-1244-11ea-8453-02420a010844"
    },
    "lc_wrapper": {
     "log_history": [
      "/home/10999408x8b656d/.log/20191126/20191126-203651-0675.log"
     ]
    }
   },
   "outputs": [],
   "source": [
    "# 演習用入力欄 （要修正）\n",
    "sample2=???\n",
    "plt.scatter(sample, sample2)"
   ]
  },
  {
   "cell_type": "markdown",
   "metadata": {
    "lc_cell_meme": {
     "current": "dfb24eb4-1244-11ea-8453-02420a010844",
     "history": [
      {
       "current": "bb746efa-1042-11ea-b2c7-02420a010844",
       "next": "bb746ffe-1042-11ea-b2c7-02420a010844",
       "previous": "bb746dec-1042-11ea-b2c7-02420a010844"
      },
      {
       "current": "bb746efa-1042-11ea-b2c7-02420a010844",
       "next": "37a90a3a-04f4-11ea-84d4-02420a0100a0",
       "previous": "bb746dec-1042-11ea-b2c7-02420a010844"
      }
     ],
     "next": "dfb24ffe-1244-11ea-8453-02420a010844",
     "previous": "dfb24d56-1244-11ea-8453-02420a010844"
    }
   },
   "source": [
    "このグラフも乱数を使っているため、セルを評価するたびに結果は異なります。  \n",
    "今回使ったrandom()関数は0から1までの*一様乱数* を発生させる関数です。何度かセルを評価して、点の分布に偏りが無いことを確認してみましょう。乱数はシミュレーションの際にしばしば利用されます。"
   ]
  },
  {
   "cell_type": "markdown",
   "metadata": {
    "lc_cell_meme": {
     "current": "dfb24ffe-1244-11ea-8453-02420a010844",
     "history": [
      {
       "current": "f422cd26-fc49-11e9-a9f8-02420a0100a0",
       "next": "8bf668aa-9e22-11e9-9f4c-02420a010067",
       "previous": "8bf66850-9e22-11e9-9f4c-02420a010067"
      },
      {
       "current": "f422cd26-fc49-11e9-a9f8-02420a0100a0",
       "next": null,
       "previous": "8bf662c4-9e22-11e9-9f4c-02420a010067"
      },
      {
       "current": "f422cd26-fc49-11e9-a9f8-02420a0100a0",
       "next": null,
       "previous": "8bf661a2-9e22-11e9-9f4c-02420a010067"
      },
      {
       "current": "f422cd26-fc49-11e9-a9f8-02420a0100a0",
       "next": null,
       "previous": "f90a1f12-0449-11ea-a9f8-02420a0100a0"
      },
      {
       "current": "f422cd26-fc49-11e9-a9f8-02420a0100a0",
       "next": null,
       "previous": "7768e834-045e-11ea-a9f8-02420a0100a0"
      },
      {
       "current": "f422cd26-fc49-11e9-a9f8-02420a0100a0",
       "next": null,
       "previous": "8a43d8c6-0461-11ea-a9f8-02420a0100a0"
      },
      {
       "current": "f422cd26-fc49-11e9-a9f8-02420a0100a0",
       "next": "861e9fdc-04f3-11ea-a9f8-02420a0100a0",
       "previous": "8a43d8c6-0461-11ea-a9f8-02420a0100a0"
      },
      {
       "current": "37a90a3a-04f4-11ea-84d4-02420a0100a0",
       "next": "37a90b98-04f4-11ea-84d4-02420a0100a0",
       "previous": "37a908e6-04f4-11ea-84d4-02420a0100a0"
      },
      {
       "current": "37a90a3a-04f4-11ea-84d4-02420a0100a0",
       "next": "37a90b98-04f4-11ea-84d4-02420a0100a0",
       "previous": "37a81a44-04f4-11ea-84d4-02420a0100a0"
      },
      {
       "current": "37a90a3a-04f4-11ea-84d4-02420a0100a0",
       "next": "37a90b98-04f4-11ea-84d4-02420a0100a0",
       "previous": "bb746efa-1042-11ea-b2c7-02420a010844"
      }
     ],
     "next": "dfb25152-1244-11ea-8453-02420a010844",
     "previous": "dfb24eb4-1244-11ea-8453-02420a010844"
    }
   },
   "source": [
    "# 演習はこれで終了です。課題に進んでください。"
   ]
  },
  {
   "cell_type": "code",
   "execution_count": null,
   "metadata": {
    "lc_cell_meme": {
     "current": "dfb25152-1244-11ea-8453-02420a010844",
     "history": [
      {
       "current": "861e9fdc-04f3-11ea-a9f8-02420a0100a0",
       "next": null,
       "previous": "f422cd26-fc49-11e9-a9f8-02420a0100a0"
      },
      {
       "current": "37a90b98-04f4-11ea-84d4-02420a0100a0",
       "next": null,
       "previous": "37a90a3a-04f4-11ea-84d4-02420a0100a0"
      }
     ],
     "next": null,
     "previous": "dfb24ffe-1244-11ea-8453-02420a010844"
    }
   },
   "outputs": [],
   "source": []
  }
 ],
 "metadata": {
  "kernelspec": {
   "display_name": "Python 3",
   "language": "python",
   "name": "python3"
  },
  "language_info": {
   "file_extension": ".py",
   "mimetype": "text/x-python",
   "name": "python",
   "nbconvert_exporter": "python",
   "pygments_lexer": "ipython3",
   "version": "3.7.3"
  },
  "lc_notebook_meme": {
   "current": "dfb1fde2-1244-11ea-8453-02420a010844",
   "history": [
    "8bf64c30-9e22-11e9-9f4c-02420a010067",
    "37a7f640-04f4-11ea-84d4-02420a0100a0"
   ],
   "lc_server_signature": {
    "current": {
     "notebook_dir": "/home/10999408x8b656d",
     "notebook_path": "/09",
     "server_url": "https://nb06.ecloud.nii.ac.jp/user/10999408x8b656d/",
     "signature_id": "d393819a-dea3-11e9-afca-02420a010023"
    },
    "history": [
     {
      "notebook_dir": "/home/hayasakabe5305",
      "notebook_path": "/",
      "server_url": "https://nb02.ecloud.nii.ac.jp/user/hayasakabe5305/",
      "signature_id": "d7c71be2-8d85-11e9-94e8-02420a010065"
     },
     {
      "notebook_dir": "/home/hayasakabe5305",
      "notebook_path": "/06a",
      "server_url": "https://nb02.ecloud.nii.ac.jp/user/hayasakabe5305/",
      "signature_id": "d7c71be2-8d85-11e9-94e8-02420a010065"
     },
     {
      "notebook_dir": "/home/10999542xb8011f",
      "notebook_path": "/07a",
      "server_url": "https://nb06.ecloud.nii.ac.jp/user/10999542xb8011f/",
      "signature_id": "1a06912c-df61-11e9-891d-02420a01002c"
     },
     {
      "notebook_dir": "/home/10999408x8b656d",
      "notebook_path": "/09a",
      "server_url": "https://nb06.ecloud.nii.ac.jp/user/10999408x8b656d/",
      "signature_id": "d393819a-dea3-11e9-afca-02420a010023"
     }
    ]
   },
   "root_cells": [
    "dfb20440-1244-11ea-8453-02420a010844",
    "dfb2067a-1244-11ea-8453-02420a010844",
    "dfb20828-1244-11ea-8453-02420a010844",
    "dfb209e0-1244-11ea-8453-02420a010844",
    "dfb20b3e-1244-11ea-8453-02420a010844",
    "dfb20c9c-1244-11ea-8453-02420a010844",
    "dfb20dfa-1244-11ea-8453-02420a010844",
    "dfb20f58-1244-11ea-8453-02420a010844",
    "dfb210e8-1244-11ea-8453-02420a010844",
    "dfb21264-1244-11ea-8453-02420a010844",
    "dfb213b8-1244-11ea-8453-02420a010844",
    "dfb2153e-1244-11ea-8453-02420a010844",
    "dfb21688-1244-11ea-8453-02420a010844",
    "dfb21822-1244-11ea-8453-02420a010844",
    "dfb21976-1244-11ea-8453-02420a010844",
    "dfb21ad4-1244-11ea-8453-02420a010844",
    "dfb21c28-1244-11ea-8453-02420a010844",
    "dfb21da4-1244-11ea-8453-02420a010844",
    "dfb21f20-1244-11ea-8453-02420a010844",
    "dfb22196-1244-11ea-8453-02420a010844",
    "dfb2233a-1244-11ea-8453-02420a010844",
    "dfb224a2-1244-11ea-8453-02420a010844",
    "dfb2261e-1244-11ea-8453-02420a010844",
    "dfb22772-1244-11ea-8453-02420a010844",
    "dfb228ee-1244-11ea-8453-02420a010844",
    "dfb22a42-1244-11ea-8453-02420a010844",
    "dfb22bd2-1244-11ea-8453-02420a010844",
    "dfb22d1c-1244-11ea-8453-02420a010844",
    "dfb22e98-1244-11ea-8453-02420a010844",
    "dfb23014-1244-11ea-8453-02420a010844",
    "dfb23190-1244-11ea-8453-02420a010844",
    "dfb232e4-1244-11ea-8453-02420a010844",
    "dfb234a6-1244-11ea-8453-02420a010844",
    "dfb2362c-1244-11ea-8453-02420a010844",
    "dfb2380c-1244-11ea-8453-02420a010844",
    "dfb239ba-1244-11ea-8453-02420a010844",
    "dfb23b0e-1244-11ea-8453-02420a010844",
    "dfb23c6c-1244-11ea-8453-02420a010844",
    "dfb23dc0-1244-11ea-8453-02420a010844",
    "dfb23f46-1244-11ea-8453-02420a010844",
    "dfb240b8-1244-11ea-8453-02420a010844",
    "dfb24234-1244-11ea-8453-02420a010844",
    "dfb24392-1244-11ea-8453-02420a010844",
    "dfb244e6-1244-11ea-8453-02420a010844",
    "dfb2463a-1244-11ea-8453-02420a010844",
    "dfb247b6-1244-11ea-8453-02420a010844",
    "dfb24a9a-1244-11ea-8453-02420a010844",
    "dfb24c02-1244-11ea-8453-02420a010844",
    "dfb24d56-1244-11ea-8453-02420a010844",
    "dfb24eb4-1244-11ea-8453-02420a010844",
    "dfb24ffe-1244-11ea-8453-02420a010844",
    "dfb25152-1244-11ea-8453-02420a010844"
   ]
  },
  "toc": {
   "base_numbering": 1,
   "nav_menu": {},
   "number_sections": true,
   "sideBar": true,
   "skip_h1_title": false,
   "title_cell": "Table of Contents",
   "title_sidebar": "Contents",
   "toc_cell": false,
   "toc_position": {
    "height": "calc(100% - 180px)",
    "left": "10px",
    "top": "150px",
    "width": "230.4px"
   },
   "toc_section_display": true,
   "toc_window_display": true
  }
 },
 "nbformat": 4,
 "nbformat_minor": 2
}
