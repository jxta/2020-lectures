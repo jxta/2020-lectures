{
 "cells": [
  {
   "cell_type": "markdown",
   "metadata": {
    "lc_cell_meme": {
     "current": "e00362ae-1244-11ea-a2b6-02420a010844",
     "history": [
      {
       "current": "55951774-9eeb-11e9-9f4c-02420a010067",
       "next": "559518d2-9eeb-11e9-9f4c-02420a010067",
       "previous": null
      },
      {
       "current": "3babaed0-04f4-11ea-a0d1-02420a0100a0",
       "next": "3babb11e-04f4-11ea-a0d1-02420a0100a0",
       "previous": null
      }
     ],
     "next": "e00364a2-1244-11ea-a2b6-02420a010844",
     "previous": null
    }
   },
   "source": [
    "# プログラミング入門\n",
    " 第9回　グラフを描く"
   ]
  },
  {
   "cell_type": "markdown",
   "metadata": {
    "lc_cell_meme": {
     "current": "e00364a2-1244-11ea-a2b6-02420a010844",
     "history": [
      {
       "current": "559518d2-9eeb-11e9-9f4c-02420a010067",
       "next": "559519a4-9eeb-11e9-9f4c-02420a010067",
       "previous": "55951774-9eeb-11e9-9f4c-02420a010067"
      },
      {
       "current": "3babb11e-04f4-11ea-a0d1-02420a0100a0",
       "next": "3babb2cc-04f4-11ea-a0d1-02420a0100a0",
       "previous": "3babaed0-04f4-11ea-a0d1-02420a0100a0"
      }
     ],
     "next": "e0036650-1244-11ea-a2b6-02420a010844",
     "previous": "e00362ae-1244-11ea-a2b6-02420a010844"
    }
   },
   "source": [
    "次のセルに、自分の名前と学籍番号を記入して下さい。"
   ]
  },
  {
   "cell_type": "raw",
   "metadata": {
    "lc_cell_meme": {
     "current": "e0036650-1244-11ea-a2b6-02420a010844",
     "history": [
      {
       "current": "559519a4-9eeb-11e9-9f4c-02420a010067",
       "next": "55951a6c-9eeb-11e9-9f4c-02420a010067",
       "previous": "559518d2-9eeb-11e9-9f4c-02420a010067"
      },
      {
       "current": "3babb2cc-04f4-11ea-a0d1-02420a0100a0",
       "next": "3babb45c-04f4-11ea-a0d1-02420a0100a0",
       "previous": "3babb11e-04f4-11ea-a0d1-02420a0100a0"
      }
     ],
     "next": "e00367a4-1244-11ea-a2b6-02420a010844",
     "previous": "e00364a2-1244-11ea-a2b6-02420a010844"
    }
   },
   "source": [
    "学籍番号：　　　　　　　　　　　氏名："
   ]
  },
  {
   "cell_type": "markdown",
   "metadata": {
    "lc_cell_meme": {
     "current": "e00367a4-1244-11ea-a2b6-02420a010844",
     "history": [
      {
       "current": "55951a6c-9eeb-11e9-9f4c-02420a010067",
       "next": "55951b2a-9eeb-11e9-9f4c-02420a010067",
       "previous": "559519a4-9eeb-11e9-9f4c-02420a010067"
      },
      {
       "current": "3babb45c-04f4-11ea-a0d1-02420a0100a0",
       "next": "3babb5a6-04f4-11ea-a0d1-02420a0100a0",
       "previous": "3babb2cc-04f4-11ea-a0d1-02420a0100a0"
      }
     ],
     "next": "e00368ee-1244-11ea-a2b6-02420a010844",
     "previous": "e0036650-1244-11ea-a2b6-02420a010844"
    }
   },
   "source": [
    "【進め方の注意】\n",
    "\n",
    "- 文書を読んで、手順に沿って問いに答えながら進めて下さい。\n",
    "- 最後の確認問題を解いて、ファイルを提出して下さい。\n",
    "- 途中わからないことがあれば、教員またはTAに質問して下さい。"
   ]
  },
  {
   "cell_type": "markdown",
   "metadata": {
    "lc_cell_meme": {
     "current": "e00368ee-1244-11ea-a2b6-02420a010844",
     "history": [
      {
       "current": "55951b2a-9eeb-11e9-9f4c-02420a010067",
       "next": "55951cba-9eeb-11e9-9f4c-02420a010067",
       "previous": "55951a6c-9eeb-11e9-9f4c-02420a010067"
      },
      {
       "current": "3babb5a6-04f4-11ea-a0d1-02420a0100a0",
       "next": "3babb72c-04f4-11ea-a0d1-02420a0100a0",
       "previous": "3babb45c-04f4-11ea-a0d1-02420a0100a0"
      }
     ],
     "next": "e0036a60-1244-11ea-a2b6-02420a010844",
     "previous": "e00367a4-1244-11ea-a2b6-02420a010844"
    }
   },
   "source": [
    "## 注意事項"
   ]
  },
  {
   "cell_type": "markdown",
   "metadata": {
    "lc_cell_meme": {
     "current": "e0036a60-1244-11ea-a2b6-02420a010844",
     "history": [
      {
       "current": "55951cba-9eeb-11e9-9f4c-02420a010067",
       "next": "55951da0-9eeb-11e9-9f4c-02420a010067",
       "previous": "55951b2a-9eeb-11e9-9f4c-02420a010067"
      },
      {
       "current": "3babb72c-04f4-11ea-a0d1-02420a0100a0",
       "next": "3babb876-04f4-11ea-a0d1-02420a0100a0",
       "previous": "3babb5a6-04f4-11ea-a0d1-02420a0100a0"
      }
     ],
     "next": "e0036baa-1244-11ea-a2b6-02420a010844",
     "previous": "e00368ee-1244-11ea-a2b6-02420a010844"
    }
   },
   "source": [
    "確認課題は、単位認定のための点数としてカウントします。\n",
    "\n",
    "友達と相談せず、自分だけでやってください。\n",
    "\n",
    "確認課題が終わった人は、提出後に退室して構いません。\n",
    "\n",
    "終わらなくても終了時刻までに提出してください。"
   ]
  },
  {
   "cell_type": "markdown",
   "metadata": {
    "collapsed": true,
    "lc_cell_meme": {
     "current": "e0036baa-1244-11ea-a2b6-02420a010844",
     "history": [
      {
       "current": "55951da0-9eeb-11e9-9f4c-02420a010067",
       "next": "55951eea-9eeb-11e9-9f4c-02420a010067",
       "previous": "55951cba-9eeb-11e9-9f4c-02420a010067"
      },
      {
       "current": "55951da0-9eeb-11e9-9f4c-02420a010067",
       "next": "55952340-9eeb-11e9-9f4c-02420a010067",
       "previous": "55951cba-9eeb-11e9-9f4c-02420a010067"
      },
      {
       "current": "3babb876-04f4-11ea-a0d1-02420a0100a0",
       "next": "3babba92-04f4-11ea-a0d1-02420a0100a0",
       "previous": "3babb72c-04f4-11ea-a0d1-02420a0100a0"
      }
     ],
     "next": "e0036d3a-1244-11ea-a2b6-02420a010844",
     "previous": "e0036a60-1244-11ea-a2b6-02420a010844"
    }
   },
   "source": [
    "# 課題"
   ]
  },
  {
   "cell_type": "markdown",
   "metadata": {
    "lc_cell_meme": {
     "current": "e0036d3a-1244-11ea-a2b6-02420a010844",
     "history": [
      {
       "current": "55952340-9eeb-11e9-9f4c-02420a010067",
       "next": "559523f4-9eeb-11e9-9f4c-02420a010067",
       "previous": "5595228c-9eeb-11e9-9f4c-02420a010067"
      },
      {
       "current": "55952340-9eeb-11e9-9f4c-02420a010067",
       "next": "559523f4-9eeb-11e9-9f4c-02420a010067",
       "previous": "5595228c-9eeb-11e9-9f4c-02420a010067"
      },
      {
       "current": "55952340-9eeb-11e9-9f4c-02420a010067",
       "next": "559523f4-9eeb-11e9-9f4c-02420a010067",
       "previous": "5595228c-9eeb-11e9-9f4c-02420a010067"
      },
      {
       "current": "55952340-9eeb-11e9-9f4c-02420a010067",
       "next": "559523f4-9eeb-11e9-9f4c-02420a010067",
       "previous": "5595228c-9eeb-11e9-9f4c-02420a010067"
      },
      {
       "current": "55952340-9eeb-11e9-9f4c-02420a010067",
       "next": "559523f4-9eeb-11e9-9f4c-02420a010067",
       "previous": "5595228c-9eeb-11e9-9f4c-02420a010067"
      },
      {
       "current": "55952340-9eeb-11e9-9f4c-02420a010067",
       "next": "559523f4-9eeb-11e9-9f4c-02420a010067",
       "previous": "5595228c-9eeb-11e9-9f4c-02420a010067"
      },
      {
       "current": "55952340-9eeb-11e9-9f4c-02420a010067",
       "next": "559523f4-9eeb-11e9-9f4c-02420a010067",
       "previous": "5595228c-9eeb-11e9-9f4c-02420a010067"
      },
      {
       "current": "55952340-9eeb-11e9-9f4c-02420a010067",
       "next": "ca26595a-005b-11ea-a9f8-02420a0100a0",
       "previous": "5595228c-9eeb-11e9-9f4c-02420a010067"
      },
      {
       "current": "55952340-9eeb-11e9-9f4c-02420a010067",
       "next": "ca26595a-005b-11ea-a9f8-02420a0100a0",
       "previous": "55952098-9eeb-11e9-9f4c-02420a010067"
      },
      {
       "current": "55952340-9eeb-11e9-9f4c-02420a010067",
       "next": "ca26595a-005b-11ea-a9f8-02420a0100a0",
       "previous": "55951da0-9eeb-11e9-9f4c-02420a010067"
      },
      {
       "current": "3babba92-04f4-11ea-a0d1-02420a0100a0",
       "next": "3babbc2c-04f4-11ea-a0d1-02420a0100a0",
       "previous": "3babb876-04f4-11ea-a0d1-02420a0100a0"
      },
      {
       "current": "3babba92-04f4-11ea-a0d1-02420a0100a0",
       "next": "ade1575c-1043-11ea-b2c7-02420a010844",
       "previous": "3babb876-04f4-11ea-a0d1-02420a0100a0"
      }
     ],
     "next": "e0036ee8-1244-11ea-a2b6-02420a010844",
     "previous": "e0036baa-1244-11ea-a2b6-02420a010844"
    }
   },
   "source": [
    "$\\LARGE y=e^{-x^2}$**<span style=\"font-size:180%\">のグラフを描く</span>**\n",
    "\n",
    "以下の手順に従って$e^{-x^2}$の値を$x$が-2.0から2.0まで0.1刻みで計算し、折れ線グラフにしなさい。\n",
    "\n",
    "## x軸の値となるデータを作成する\n",
    "range()は整数しか扱えないので、整数を元にして小数のリストを作成します。  \n",
    "### 引数で与えられた数値を10で割った値を返す関数 `div10() `を定義しなさい。\n",
    "ただし、`div10()`は`a` という引数を持つものとする。"
   ]
  },
  {
   "cell_type": "code",
   "execution_count": null,
   "metadata": {
    "lc_cell_meme": {
     "current": "e0036ee8-1244-11ea-a2b6-02420a010844",
     "history": [
      {
       "current": "ade1575c-1043-11ea-b2c7-02420a010844",
       "next": "ade15a2c-1043-11ea-b2c7-02420a010844",
       "previous": "3babba92-04f4-11ea-a0d1-02420a0100a0"
      },
      {
       "current": "ade1575c-1043-11ea-b2c7-02420a010844",
       "next": "ade1575c-1043-11ea-b2c7-02420a010844",
       "previous": "3babba92-04f4-11ea-a0d1-02420a0100a0"
      },
      {
       "current": "ade1575c-1043-11ea-b2c7-02420a010844",
       "next": "ade15a2c-1043-11ea-b2c7-02420a010844",
       "previous": "3babba92-04f4-11ea-a0d1-02420a0100a0"
      }
     ],
     "next": "e003705a-1244-11ea-a2b6-02420a010844",
     "previous": "e0036d3a-1244-11ea-a2b6-02420a010844"
    }
   },
   "outputs": [],
   "source": [
    "# 演習用入力欄\n",
    "def ???\n",
    "    return ???"
   ]
  },
  {
   "cell_type": "markdown",
   "metadata": {
    "lc_cell_meme": {
     "current": "e003705a-1244-11ea-a2b6-02420a010844",
     "history": [
      {
       "current": "ade15a2c-1043-11ea-b2c7-02420a010844",
       "next": "3babbc2c-04f4-11ea-a0d1-02420a0100a0",
       "previous": "ade1575c-1043-11ea-b2c7-02420a010844"
      },
      {
       "current": "ade15a2c-1043-11ea-b2c7-02420a010844",
       "next": "5b6a15d4-11bc-11ea-b2c7-02420a010844",
       "previous": "ade1575c-1043-11ea-b2c7-02420a010844"
      }
     ],
     "next": "e00371f4-1244-11ea-a2b6-02420a010844",
     "previous": "e0036ee8-1244-11ea-a2b6-02420a010844"
    }
   },
   "source": [
    "### map()を使って、range(-20,21)に`div10`を適用したものをリスト化し、`x`に代入しなさい。"
   ]
  },
  {
   "cell_type": "code",
   "execution_count": null,
   "metadata": {
    "lc_cell_meme": {
     "current": "e00371f4-1244-11ea-a2b6-02420a010844",
     "history": [
      {
       "current": "5b6a15d4-11bc-11ea-b2c7-02420a010844",
       "next": "3babbc2c-04f4-11ea-a0d1-02420a0100a0",
       "previous": "ade15a2c-1043-11ea-b2c7-02420a010844"
      },
      {
       "current": "5b6a15d4-11bc-11ea-b2c7-02420a010844",
       "next": "a2ebf74c-11bc-11ea-b2c7-02420a010844",
       "previous": "ade15a2c-1043-11ea-b2c7-02420a010844"
      },
      {
       "current": "5b6a15d4-11bc-11ea-b2c7-02420a010844",
       "next": "5b6a15d4-11bc-11ea-b2c7-02420a010844",
       "previous": "ade15a2c-1043-11ea-b2c7-02420a010844"
      },
      {
       "current": "5b6a15d4-11bc-11ea-b2c7-02420a010844",
       "next": "a2ebf74c-11bc-11ea-b2c7-02420a010844",
       "previous": "ade15a2c-1043-11ea-b2c7-02420a010844"
      }
     ],
     "next": "e0037366-1244-11ea-a2b6-02420a010844",
     "previous": "e003705a-1244-11ea-a2b6-02420a010844"
    },
    "lc_wrapper": {
     "log_history": [
      "/home/10999408x8b656d/09a/.log/20191128/20191128-175522-0664.log"
     ]
    }
   },
   "outputs": [],
   "source": [
    "# 演習用入力欄\n",
    "x=list(map(???, ???))\n",
    "x"
   ]
  },
  {
   "cell_type": "markdown",
   "metadata": {
    "lc_cell_meme": {
     "current": "e0037366-1244-11ea-a2b6-02420a010844",
     "history": [
      {
       "current": "a2ebf74c-11bc-11ea-b2c7-02420a010844",
       "next": "3babbc2c-04f4-11ea-a0d1-02420a0100a0",
       "previous": "5b6a15d4-11bc-11ea-b2c7-02420a010844"
      }
     ],
     "next": "e00374a6-1244-11ea-a2b6-02420a010844",
     "previous": "e00371f4-1244-11ea-a2b6-02420a010844"
    }
   },
   "source": [
    "ヒント：\n",
    "```\n",
    "[-2.0,  \n",
    " -1.9,\n",
    " -1.8,\n",
    " -1.7,\n",
    "   :\n",
    "```\n",
    " が表示される。\n",
    "## y軸の値となるデータを作成する\n",
    "### $e^{-x^2}$ を計算する関数expx2() を定義しなさい．\n",
    "ただし、`expx2()`はaという引数を持つものとする。\n",
    "指数関数の計算には *math* モジュールを使用する必要がある。（教科書P.19)"
   ]
  },
  {
   "cell_type": "code",
   "execution_count": null,
   "metadata": {
    "lc_cell_meme": {
     "current": "e00374a6-1244-11ea-a2b6-02420a010844",
     "history": [
      {
       "current": "ca26595a-005b-11ea-a9f8-02420a0100a0",
       "next": "559523f4-9eeb-11e9-9f4c-02420a010067",
       "previous": "55952340-9eeb-11e9-9f4c-02420a010067"
      },
      {
       "current": "3babbc2c-04f4-11ea-a0d1-02420a0100a0",
       "next": "3babbdd0-04f4-11ea-a0d1-02420a0100a0",
       "previous": "3babba92-04f4-11ea-a0d1-02420a0100a0"
      },
      {
       "current": "3babbc2c-04f4-11ea-a0d1-02420a0100a0",
       "next": "3babbf56-04f4-11ea-a0d1-02420a0100a0",
       "previous": "3babba92-04f4-11ea-a0d1-02420a0100a0"
      },
      {
       "current": "3babbc2c-04f4-11ea-a0d1-02420a0100a0",
       "next": "3babbf56-04f4-11ea-a0d1-02420a0100a0",
       "previous": "ade15a2c-1043-11ea-b2c7-02420a010844"
      },
      {
       "current": "3babbc2c-04f4-11ea-a0d1-02420a0100a0",
       "next": "3babbf56-04f4-11ea-a0d1-02420a0100a0",
       "previous": "5b6a15d4-11bc-11ea-b2c7-02420a010844"
      },
      {
       "current": "3babbc2c-04f4-11ea-a0d1-02420a0100a0",
       "next": "3babbf56-04f4-11ea-a0d1-02420a0100a0",
       "previous": "a2ebf74c-11bc-11ea-b2c7-02420a010844"
      },
      {
       "current": "3babbc2c-04f4-11ea-a0d1-02420a0100a0",
       "next": "3babbc2c-04f4-11ea-a0d1-02420a0100a0",
       "previous": "a2ebf74c-11bc-11ea-b2c7-02420a010844"
      },
      {
       "current": "3babbc2c-04f4-11ea-a0d1-02420a0100a0",
       "next": "3babbf56-04f4-11ea-a0d1-02420a0100a0",
       "previous": "a2ebf74c-11bc-11ea-b2c7-02420a010844"
      }
     ],
     "next": "e00378ac-1244-11ea-a2b6-02420a010844",
     "previous": "e0037366-1244-11ea-a2b6-02420a010844"
    },
    "lc_wrapper": {
     "log_history": [
      "/home/10999542xb8011f/07a/.log/20191106/20191106-110813-0579.log",
      "/home/10999542xb8011f/07a/.log/20191110/20191110-175934-0469.log",
      "/home/10999408x8b656d/09a/.log/20191126/20191126-212407-0336.log"
     ]
    }
   },
   "outputs": [],
   "source": [
    "# 演習用入力欄\n",
    "import ???\n",
    "def ???\n",
    "    return ???"
   ]
  },
  {
   "cell_type": "markdown",
   "metadata": {
    "lc_cell_meme": {
     "current": "e00378ac-1244-11ea-a2b6-02420a010844",
     "history": [
      {
       "current": "559524b2-9eeb-11e9-9f4c-02420a010067",
       "next": "55952570-9eeb-11e9-9f4c-02420a010067",
       "previous": "559523f4-9eeb-11e9-9f4c-02420a010067"
      },
      {
       "current": "559524b2-9eeb-11e9-9f4c-02420a010067",
       "next": "55952570-9eeb-11e9-9f4c-02420a010067",
       "previous": "559523f4-9eeb-11e9-9f4c-02420a010067"
      },
      {
       "current": "559524b2-9eeb-11e9-9f4c-02420a010067",
       "next": "55952570-9eeb-11e9-9f4c-02420a010067",
       "previous": "559523f4-9eeb-11e9-9f4c-02420a010067"
      },
      {
       "current": "559524b2-9eeb-11e9-9f4c-02420a010067",
       "next": "55952570-9eeb-11e9-9f4c-02420a010067",
       "previous": "559523f4-9eeb-11e9-9f4c-02420a010067"
      },
      {
       "current": "559524b2-9eeb-11e9-9f4c-02420a010067",
       "next": "55952570-9eeb-11e9-9f4c-02420a010067",
       "previous": "559523f4-9eeb-11e9-9f4c-02420a010067"
      },
      {
       "current": "559524b2-9eeb-11e9-9f4c-02420a010067",
       "next": "55952570-9eeb-11e9-9f4c-02420a010067",
       "previous": "559523f4-9eeb-11e9-9f4c-02420a010067"
      },
      {
       "current": "559524b2-9eeb-11e9-9f4c-02420a010067",
       "next": "ca265ac2-005b-11ea-a9f8-02420a0100a0",
       "previous": "559523f4-9eeb-11e9-9f4c-02420a010067"
      },
      {
       "current": "3babbf56-04f4-11ea-a0d1-02420a0100a0",
       "next": "3babc0e6-04f4-11ea-a0d1-02420a0100a0",
       "previous": "3babbdd0-04f4-11ea-a0d1-02420a0100a0"
      },
      {
       "current": "3babbf56-04f4-11ea-a0d1-02420a0100a0",
       "next": "3babc0e6-04f4-11ea-a0d1-02420a0100a0",
       "previous": "3babbc2c-04f4-11ea-a0d1-02420a0100a0"
      }
     ],
     "next": "e0037a46-1244-11ea-a2b6-02420a010844",
     "previous": "e00374a6-1244-11ea-a2b6-02420a010844"
    }
   },
   "source": [
    "### map()を使って、$x$の値に`expx2`を適用したものをリスト化し、`y`に代入しなさい。 \n"
   ]
  },
  {
   "cell_type": "code",
   "execution_count": null,
   "metadata": {
    "lc_cell_meme": {
     "current": "e0037a46-1244-11ea-a2b6-02420a010844",
     "history": [
      {
       "current": "ca265ac2-005b-11ea-a9f8-02420a0100a0",
       "next": "55952570-9eeb-11e9-9f4c-02420a010067",
       "previous": "559524b2-9eeb-11e9-9f4c-02420a010067"
      },
      {
       "current": "3babc0e6-04f4-11ea-a0d1-02420a0100a0",
       "next": "3babc26c-04f4-11ea-a0d1-02420a0100a0",
       "previous": "3babbf56-04f4-11ea-a0d1-02420a0100a0"
      },
      {
       "current": "3babc0e6-04f4-11ea-a0d1-02420a0100a0",
       "next": "3babc3b6-04f4-11ea-a0d1-02420a0100a0",
       "previous": "3babbf56-04f4-11ea-a0d1-02420a0100a0"
      },
      {
       "current": "3babc0e6-04f4-11ea-a0d1-02420a0100a0",
       "next": "5b149cee-1045-11ea-b2c7-02420a010844",
       "previous": "3babbf56-04f4-11ea-a0d1-02420a0100a0"
      },
      {
       "current": "3babc0e6-04f4-11ea-a0d1-02420a0100a0",
       "next": "3babc3b6-04f4-11ea-a0d1-02420a0100a0",
       "previous": "3babbf56-04f4-11ea-a0d1-02420a0100a0"
      },
      {
       "current": "3babc0e6-04f4-11ea-a0d1-02420a0100a0",
       "next": "a29b5300-1045-11ea-b2c7-02420a010844",
       "previous": "3babbf56-04f4-11ea-a0d1-02420a0100a0"
      }
     ],
     "next": "e0037bf4-1244-11ea-a2b6-02420a010844",
     "previous": "e00378ac-1244-11ea-a2b6-02420a010844"
    },
    "lc_wrapper": {
     "log_history": [
      "/home/10999542xb8011f/07a/.log/20191110/20191110-175939-0042.log",
      "/home/10999542xb8011f/07a/.log/20191110/20191110-181648-0903.log",
      "/home/10999542xb8011f/07a/.log/20191110/20191110-184609-0588.log"
     ]
    }
   },
   "outputs": [],
   "source": [
    "# 演習用入力欄\n",
    "y=???"
   ]
  },
  {
   "cell_type": "markdown",
   "metadata": {
    "lc_cell_meme": {
     "current": "e0037bf4-1244-11ea-a2b6-02420a010844",
     "execution_end_time": "2019-11-26T12:09:12.477838Z",
     "history": [
      {
       "current": "a29b5300-1045-11ea-b2c7-02420a010844",
       "next": "a29b55bc-1045-11ea-b2c7-02420a010844",
       "previous": "3babc3b6-04f4-11ea-a0d1-02420a0100a0"
      },
      {
       "current": "a29b5300-1045-11ea-b2c7-02420a010844",
       "next": "a29b55bc-1045-11ea-b2c7-02420a010844",
       "previous": "3babc0e6-04f4-11ea-a0d1-02420a0100a0"
      }
     ],
     "next": "e0037d48-1244-11ea-a2b6-02420a010844",
     "previous": "e0037a46-1244-11ea-a2b6-02420a010844"
    },
    "lc_wrapper": {
     "log_history": [
      "/home/10999408x8b656d/09a/.log/20191126/20191126-210912-0451.log"
     ]
    }
   },
   "source": [
    "ヒント\n",
    "```\n",
    "[0.01831563888873418,\n",
    " 0.027051846866350416,\n",
    " 0.039163895098987066,\n",
    " 0.055576212611483086,\n",
    " 0.07730474044329971,\n",
    "    :\n",
    "```\n",
    "が表示される。\n",
    "\n",
    "## 折れ線グラフで リスト`x`と`y`をプロットしなさい。"
   ]
  },
  {
   "cell_type": "code",
   "execution_count": null,
   "metadata": {
    "lc_cell_meme": {
     "current": "e0037d48-1244-11ea-a2b6-02420a010844",
     "history": [
      {
       "current": "a29b55bc-1045-11ea-b2c7-02420a010844",
       "next": "3babc528-04f4-11ea-a0d1-02420a0100a0",
       "previous": "a29b5300-1045-11ea-b2c7-02420a010844"
      },
      {
       "current": "a29b55bc-1045-11ea-b2c7-02420a010844",
       "next": "3babc672-04f4-11ea-a0d1-02420a0100a0",
       "previous": "a29b5300-1045-11ea-b2c7-02420a010844"
      },
      {
       "current": "a29b55bc-1045-11ea-b2c7-02420a010844",
       "next": "df358dba-11be-11ea-b2c7-02420a010844",
       "previous": "a29b5300-1045-11ea-b2c7-02420a010844"
      }
     ],
     "next": "e0037f00-1244-11ea-a2b6-02420a010844",
     "previous": "e0037bf4-1244-11ea-a2b6-02420a010844"
    },
    "lc_wrapper": {
     "log_history": [
      "/home/10999408x8b656d/09a/.log/20191126/20191126-211247-0198.log",
      "/home/10999408x8b656d/09a/.log/20191127/20191127-141020-0753.log",
      "/home/10999408x8b656d/09a/.log/20191127/20191127-141052-0051.log"
     ]
    }
   },
   "outputs": [],
   "source": [
    "# 演習用入力欄\n"
   ]
  },
  {
   "cell_type": "markdown",
   "metadata": {
    "lc_cell_meme": {
     "current": "e0037f00-1244-11ea-a2b6-02420a010844",
     "history": [
      {
       "current": "df358dba-11be-11ea-b2c7-02420a010844",
       "next": "4fcf39b4-1047-11ea-b2c7-02420a010844",
       "previous": "3babc672-04f4-11ea-a0d1-02420a0100a0"
      },
      {
       "current": "df358dba-11be-11ea-b2c7-02420a010844",
       "next": "3babdb9e-04f4-11ea-a0d1-02420a0100a0",
       "previous": "a29b55bc-1045-11ea-b2c7-02420a010844"
      }
     ],
     "next": "e0038090-1244-11ea-a2b6-02420a010844",
     "previous": "e0037d48-1244-11ea-a2b6-02420a010844"
    }
   },
   "source": [
    "ヒント：\n",
    "プロットするための関数を利用するには、matplotlibの描画方法の宣言とモジュールインポートが必要。(教科書P.73）"
   ]
  },
  {
   "cell_type": "markdown",
   "metadata": {
    "lc_cell_meme": {
     "current": "e0038090-1244-11ea-a2b6-02420a010844",
     "history": [
      {
       "current": "fd2ff202-fc69-11e9-a9f8-02420a0100a0",
       "next": "fd2ff374-fc69-11e9-a9f8-02420a0100a0",
       "previous": "55952854-9eeb-11e9-9f4c-02420a010067"
      },
      {
       "current": "3babdb9e-04f4-11ea-a0d1-02420a0100a0",
       "next": "3babdce8-04f4-11ea-a0d1-02420a0100a0",
       "previous": "3babda54-04f4-11ea-a0d1-02420a0100a0"
      },
      {
       "current": "3babdb9e-04f4-11ea-a0d1-02420a0100a0",
       "next": "3babdce8-04f4-11ea-a0d1-02420a0100a0",
       "previous": "4fcf39b4-1047-11ea-b2c7-02420a010844"
      },
      {
       "current": "3babdb9e-04f4-11ea-a0d1-02420a0100a0",
       "next": "3babdce8-04f4-11ea-a0d1-02420a0100a0",
       "previous": "df358dba-11be-11ea-b2c7-02420a010844"
      }
     ],
     "next": "e003828e-1244-11ea-a2b6-02420a010844",
     "previous": "e0037f00-1244-11ea-a2b6-02420a010844"
    }
   },
   "source": [
    "# 課題は以上です。お疲れ様でした。\n",
    "## 評価結果"
   ]
  },
  {
   "cell_type": "code",
   "execution_count": null,
   "metadata": {
    "lc_cell_meme": {
     "current": "e003828e-1244-11ea-a2b6-02420a010844",
     "history": [
      {
       "current": "fd2ff374-fc69-11e9-a9f8-02420a0100a0",
       "next": "fd2ff4a0-fc69-11e9-a9f8-02420a0100a0",
       "previous": "fd2ff202-fc69-11e9-a9f8-02420a0100a0"
      },
      {
       "current": "3babdce8-04f4-11ea-a0d1-02420a0100a0",
       "next": "3babde28-04f4-11ea-a0d1-02420a0100a0",
       "previous": "3babdb9e-04f4-11ea-a0d1-02420a0100a0"
      }
     ],
     "next": "e00383d8-1244-11ea-a2b6-02420a010844",
     "previous": "e0038090-1244-11ea-a2b6-02420a010844"
    }
   },
   "outputs": [],
   "source": []
  },
  {
   "cell_type": "markdown",
   "metadata": {
    "lc_cell_meme": {
     "current": "e00383d8-1244-11ea-a2b6-02420a010844",
     "history": [
      {
       "current": "fd2ff4a0-fc69-11e9-a9f8-02420a0100a0",
       "next": "fd2ff5cc-fc69-11e9-a9f8-02420a0100a0",
       "previous": "fd2ff374-fc69-11e9-a9f8-02420a0100a0"
      },
      {
       "current": "3babde28-04f4-11ea-a0d1-02420a0100a0",
       "next": "3babdf72-04f4-11ea-a0d1-02420a0100a0",
       "previous": "3babdce8-04f4-11ea-a0d1-02420a0100a0"
      }
     ],
     "next": "e0038522-1244-11ea-a2b6-02420a010844",
     "previous": "e003828e-1244-11ea-a2b6-02420a010844"
    }
   },
   "source": [
    "## コメント等"
   ]
  },
  {
   "cell_type": "code",
   "execution_count": null,
   "metadata": {
    "lc_cell_meme": {
     "current": "e0038522-1244-11ea-a2b6-02420a010844",
     "history": [
      {
       "current": "fd2ff5cc-fc69-11e9-a9f8-02420a0100a0",
       "next": "55952912-9eeb-11e9-9f4c-02420a010067",
       "previous": "fd2ff4a0-fc69-11e9-a9f8-02420a0100a0"
      },
      {
       "current": "3babdf72-04f4-11ea-a0d1-02420a0100a0",
       "next": null,
       "previous": "3babde28-04f4-11ea-a0d1-02420a0100a0"
      }
     ],
     "next": null,
     "previous": "e00383d8-1244-11ea-a2b6-02420a010844"
    }
   },
   "outputs": [],
   "source": []
  }
 ],
 "metadata": {
  "kernelspec": {
   "display_name": "Python 3",
   "language": "python",
   "name": "python3"
  },
  "language_info": {
   "file_extension": ".py",
   "mimetype": "text/x-python",
   "name": "python",
   "nbconvert_exporter": "python",
   "pygments_lexer": "ipython3",
   "version": "3.7.3"
  },
  "lc_notebook_meme": {
   "current": "e0035c82-1244-11ea-a2b6-02420a010844",
   "history": [
    "55950f7c-9eeb-11e9-9f4c-02420a010067",
    "3baba7a0-04f4-11ea-a0d1-02420a0100a0"
   ],
   "lc_server_signature": {
    "current": {
     "notebook_dir": "/home/10999408x8b656d",
     "notebook_path": "/09",
     "server_url": "https://nb06.ecloud.nii.ac.jp/user/10999408x8b656d/",
     "signature_id": "d393819a-dea3-11e9-afca-02420a010023"
    },
    "history": [
     {
      "notebook_dir": "/home/hayasakabe5305",
      "notebook_path": "/",
      "server_url": "https://nb02.ecloud.nii.ac.jp/user/hayasakabe5305/",
      "signature_id": "d7c71be2-8d85-11e9-94e8-02420a010065"
     },
     {
      "notebook_dir": "/home/10999542xb8011f",
      "notebook_path": "/07a",
      "server_url": "https://nb06.ecloud.nii.ac.jp/user/10999542xb8011f/",
      "signature_id": "1a06912c-df61-11e9-891d-02420a01002c"
     },
     {
      "notebook_dir": "/home/10999542xb8011f",
      "notebook_path": "/07",
      "server_url": "https://nb06.ecloud.nii.ac.jp/user/10999542xb8011f/",
      "signature_id": "1a06912c-df61-11e9-891d-02420a01002c"
     },
     {
      "notebook_dir": "/home/10999408x8b656d",
      "notebook_path": "/09a",
      "server_url": "https://nb06.ecloud.nii.ac.jp/user/10999408x8b656d/",
      "signature_id": "d393819a-dea3-11e9-afca-02420a010023"
     }
    ]
   },
   "root_cells": [
    "e00362ae-1244-11ea-a2b6-02420a010844",
    "e00364a2-1244-11ea-a2b6-02420a010844",
    "e0036650-1244-11ea-a2b6-02420a010844",
    "e00367a4-1244-11ea-a2b6-02420a010844",
    "e00368ee-1244-11ea-a2b6-02420a010844",
    "e0036a60-1244-11ea-a2b6-02420a010844",
    "e0036baa-1244-11ea-a2b6-02420a010844",
    "e0036d3a-1244-11ea-a2b6-02420a010844",
    "e0036ee8-1244-11ea-a2b6-02420a010844",
    "e003705a-1244-11ea-a2b6-02420a010844",
    "e00371f4-1244-11ea-a2b6-02420a010844",
    "e0037366-1244-11ea-a2b6-02420a010844",
    "e00374a6-1244-11ea-a2b6-02420a010844",
    "e00378ac-1244-11ea-a2b6-02420a010844",
    "e0037a46-1244-11ea-a2b6-02420a010844",
    "e0037bf4-1244-11ea-a2b6-02420a010844",
    "e0037d48-1244-11ea-a2b6-02420a010844",
    "e0037f00-1244-11ea-a2b6-02420a010844",
    "e0038090-1244-11ea-a2b6-02420a010844",
    "e003828e-1244-11ea-a2b6-02420a010844",
    "e00383d8-1244-11ea-a2b6-02420a010844",
    "e0038522-1244-11ea-a2b6-02420a010844"
   ]
  },
  "toc": {
   "base_numbering": 1,
   "nav_menu": {},
   "number_sections": true,
   "sideBar": true,
   "skip_h1_title": false,
   "title_cell": "Table of Contents",
   "title_sidebar": "Contents",
   "toc_cell": false,
   "toc_position": {},
   "toc_section_display": true,
   "toc_window_display": true
  }
 },
 "nbformat": 4,
 "nbformat_minor": 2
}
