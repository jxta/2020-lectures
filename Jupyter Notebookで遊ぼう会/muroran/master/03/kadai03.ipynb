{
 "cells": [
  {
   "cell_type": "markdown",
   "metadata": {
    "lc_cell_meme": {
     "current": "acb2d784-ef19-11e9-a436-02420a010068",
     "history": [
      {
       "current": "4baeeaaa-96df-11e9-8b94-e0d55ea40caf",
       "next": "4baeeaab-96df-11e9-8b94-e0d55ea40caf",
       "previous": null
      },
      {
       "current": "b38b6c40-96e2-11e9-893e-02420a010063",
       "next": "b38b6de4-96e2-11e9-893e-02420a010063",
       "previous": null
      },
      {
       "current": "b38b6c40-96e2-11e9-893e-02420a010063",
       "next": "41fdef3c-eedd-11e9-a8bb-02420a010068",
       "previous": null
      }
     ],
     "next": "acb2da54-ef19-11e9-a436-02420a010068",
     "previous": null
    }
   },
   "source": [
    "# 第3回　プログラミングの基本概念（課題）"
   ]
  },
  {
   "cell_type": "markdown",
   "metadata": {
    "lc_cell_meme": {
     "current": "acb2da54-ef19-11e9-a436-02420a010068",
     "history": [
      {
       "current": "41fdef3c-eedd-11e9-a8bb-02420a010068",
       "next": "b38b6de4-96e2-11e9-893e-02420a010063",
       "previous": "b38b6c40-96e2-11e9-893e-02420a010063"
      }
     ],
     "next": "acb2dbee-ef19-11e9-a436-02420a010068",
     "previous": "acb2d784-ef19-11e9-a436-02420a010068"
    }
   },
   "source": [
    "## 氏名"
   ]
  },
  {
   "cell_type": "markdown",
   "metadata": {
    "lc_cell_meme": {
     "current": "acb2dbee-ef19-11e9-a436-02420a010068",
     "history": [
      {
       "current": "4baeeaab-96df-11e9-8b94-e0d55ea40caf",
       "next": "4baeeaac-96df-11e9-8b94-e0d55ea40caf",
       "previous": "4baeeaaa-96df-11e9-8b94-e0d55ea40caf"
      },
      {
       "current": "b38b6de4-96e2-11e9-893e-02420a010063",
       "next": "b38b6eca-96e2-11e9-893e-02420a010063",
       "previous": "b38b6c40-96e2-11e9-893e-02420a010063"
      },
      {
       "current": "b38b6de4-96e2-11e9-893e-02420a010063",
       "next": "b38b6eca-96e2-11e9-893e-02420a010063",
       "previous": "41fdef3c-eedd-11e9-a8bb-02420a010068"
      }
     ],
     "next": "acb2dd6a-ef19-11e9-a436-02420a010068",
     "previous": "acb2da54-ef19-11e9-a436-02420a010068"
    }
   },
   "source": [
    "次のセルに、自分の名前と学籍番号を記入して下さい。"
   ]
  },
  {
   "cell_type": "raw",
   "metadata": {
    "lc_cell_meme": {
     "current": "acb2dd6a-ef19-11e9-a436-02420a010068",
     "history": [
      {
       "current": "4baeeaac-96df-11e9-8b94-e0d55ea40caf",
       "next": "efa662f7-96de-11e9-8b94-e0d55ea40caf",
       "previous": "4baeeaab-96df-11e9-8b94-e0d55ea40caf"
      },
      {
       "current": "4baeeaac-96df-11e9-8b94-e0d55ea40caf",
       "next": "efa662f7-96de-11e9-8b94-e0d55ea40caf",
       "previous": "4baeeaab-96df-11e9-8b94-e0d55ea40caf"
      },
      {
       "current": "4baeeaac-96df-11e9-8b94-e0d55ea40caf",
       "next": "933950fe-96df-11e9-8b94-e0d55ea40caf",
       "previous": "4baeeaac-96df-11e9-8b94-e0d55ea40caf"
      },
      {
       "current": "4baeeaac-96df-11e9-8b94-e0d55ea40caf",
       "next": "933950fe-96df-11e9-8b94-e0d55ea40caf",
       "previous": "4baeeaac-96df-11e9-8b94-e0d55ea40caf"
      },
      {
       "current": "4baeeaac-96df-11e9-8b94-e0d55ea40caf",
       "next": "933950fe-96df-11e9-8b94-e0d55ea40caf",
       "previous": "4baeeaac-96df-11e9-8b94-e0d55ea40caf"
      },
      {
       "current": "4baeeaac-96df-11e9-8b94-e0d55ea40caf",
       "next": "933950fe-96df-11e9-8b94-e0d55ea40caf",
       "previous": "4baeeaac-96df-11e9-8b94-e0d55ea40caf"
      },
      {
       "current": "4baeeaac-96df-11e9-8b94-e0d55ea40caf",
       "next": "933950fe-96df-11e9-8b94-e0d55ea40caf",
       "previous": "4baeeaac-96df-11e9-8b94-e0d55ea40caf"
      },
      {
       "current": "4baeeaac-96df-11e9-8b94-e0d55ea40caf",
       "next": "933950fe-96df-11e9-8b94-e0d55ea40caf",
       "previous": "4baeeaac-96df-11e9-8b94-e0d55ea40caf"
      },
      {
       "current": "4baeeaac-96df-11e9-8b94-e0d55ea40caf",
       "next": "933950fe-96df-11e9-8b94-e0d55ea40caf",
       "previous": "4baeeaac-96df-11e9-8b94-e0d55ea40caf"
      },
      {
       "current": "4baeeaac-96df-11e9-8b94-e0d55ea40caf",
       "next": "933950fe-96df-11e9-8b94-e0d55ea40caf",
       "previous": "4baeeaac-96df-11e9-8b94-e0d55ea40caf"
      },
      {
       "current": "4baeeaac-96df-11e9-8b94-e0d55ea40caf",
       "next": "933950fe-96df-11e9-8b94-e0d55ea40caf",
       "previous": "4baeeaac-96df-11e9-8b94-e0d55ea40caf"
      },
      {
       "current": "4baeeaac-96df-11e9-8b94-e0d55ea40caf",
       "next": "933950fe-96df-11e9-8b94-e0d55ea40caf",
       "previous": "4baeeaac-96df-11e9-8b94-e0d55ea40caf"
      },
      {
       "current": "4baeeaac-96df-11e9-8b94-e0d55ea40caf",
       "next": "4baeeaac-96df-11e9-8b94-e0d55ea40caf",
       "previous": "4baeeaab-96df-11e9-8b94-e0d55ea40caf"
      },
      {
       "current": "b38b6eca-96e2-11e9-893e-02420a010063",
       "next": "b38b6fc4-96e2-11e9-893e-02420a010063",
       "previous": "b38b6de4-96e2-11e9-893e-02420a010063"
      }
     ],
     "next": "acb2deb4-ef19-11e9-a436-02420a010068",
     "previous": "acb2dbee-ef19-11e9-a436-02420a010068"
    }
   },
   "source": [
    "学籍番号：　　　　　　　　　　　氏名："
   ]
  },
  {
   "cell_type": "markdown",
   "metadata": {
    "lc_cell_meme": {
     "current": "acb2deb4-ef19-11e9-a436-02420a010068",
     "history": [
      {
       "current": "4baeeaac-96df-11e9-8b94-e0d55ea40caf",
       "next": "efa662f7-96de-11e9-8b94-e0d55ea40caf",
       "previous": "4baeeaab-96df-11e9-8b94-e0d55ea40caf"
      },
      {
       "current": "4baeeaac-96df-11e9-8b94-e0d55ea40caf",
       "next": "efa662f7-96de-11e9-8b94-e0d55ea40caf",
       "previous": "4baeeaab-96df-11e9-8b94-e0d55ea40caf"
      },
      {
       "current": "4baeeaac-96df-11e9-8b94-e0d55ea40caf",
       "next": "933950fe-96df-11e9-8b94-e0d55ea40caf",
       "previous": "4baeeaac-96df-11e9-8b94-e0d55ea40caf"
      },
      {
       "current": "4baeeaac-96df-11e9-8b94-e0d55ea40caf",
       "next": "933950fe-96df-11e9-8b94-e0d55ea40caf",
       "previous": "4baeeaac-96df-11e9-8b94-e0d55ea40caf"
      },
      {
       "current": "4baeeaac-96df-11e9-8b94-e0d55ea40caf",
       "next": "933950fe-96df-11e9-8b94-e0d55ea40caf",
       "previous": "4baeeaac-96df-11e9-8b94-e0d55ea40caf"
      },
      {
       "current": "4baeeaac-96df-11e9-8b94-e0d55ea40caf",
       "next": "933950fe-96df-11e9-8b94-e0d55ea40caf",
       "previous": "4baeeaac-96df-11e9-8b94-e0d55ea40caf"
      },
      {
       "current": "4baeeaac-96df-11e9-8b94-e0d55ea40caf",
       "next": "933950fe-96df-11e9-8b94-e0d55ea40caf",
       "previous": "4baeeaac-96df-11e9-8b94-e0d55ea40caf"
      },
      {
       "current": "4baeeaac-96df-11e9-8b94-e0d55ea40caf",
       "next": "933950fe-96df-11e9-8b94-e0d55ea40caf",
       "previous": "4baeeaac-96df-11e9-8b94-e0d55ea40caf"
      },
      {
       "current": "4baeeaac-96df-11e9-8b94-e0d55ea40caf",
       "next": "933950fe-96df-11e9-8b94-e0d55ea40caf",
       "previous": "4baeeaac-96df-11e9-8b94-e0d55ea40caf"
      },
      {
       "current": "4baeeaac-96df-11e9-8b94-e0d55ea40caf",
       "next": "933950fe-96df-11e9-8b94-e0d55ea40caf",
       "previous": "4baeeaac-96df-11e9-8b94-e0d55ea40caf"
      },
      {
       "current": "4baeeaac-96df-11e9-8b94-e0d55ea40caf",
       "next": "933950fe-96df-11e9-8b94-e0d55ea40caf",
       "previous": "4baeeaac-96df-11e9-8b94-e0d55ea40caf"
      },
      {
       "current": "4baeeaac-96df-11e9-8b94-e0d55ea40caf",
       "next": "933950fe-96df-11e9-8b94-e0d55ea40caf",
       "previous": "4baeeaac-96df-11e9-8b94-e0d55ea40caf"
      },
      {
       "current": "b38b6fc4-96e2-11e9-893e-02420a010063",
       "next": "b38b7118-96e2-11e9-893e-02420a010063",
       "previous": "b38b6eca-96e2-11e9-893e-02420a010063"
      }
     ],
     "next": "acb2e044-ef19-11e9-a436-02420a010068",
     "previous": "acb2dd6a-ef19-11e9-a436-02420a010068"
    }
   },
   "source": [
    "【進め方の注意】\n",
    "\n",
    "- 文書を読んで、手順に沿って問いに答えながら進めて下さい。\n",
    "- 課題の回答が終わったらファイルを保存して下さい。\n",
    "- 途中わからないことがあれば、教員またはTAに質問して下さい。"
   ]
  },
  {
   "cell_type": "markdown",
   "metadata": {
    "lc_cell_meme": {
     "current": "acb2e044-ef19-11e9-a436-02420a010068",
     "history": [
      {
       "current": "933950fe-96df-11e9-8b94-e0d55ea40caf",
       "next": "933950ff-96df-11e9-8b94-e0d55ea40caf",
       "previous": "4baeeaac-96df-11e9-8b94-e0d55ea40caf"
      },
      {
       "current": "b38b7118-96e2-11e9-893e-02420a010063",
       "next": "b38b723a-96e2-11e9-893e-02420a010063",
       "previous": "b38b6fc4-96e2-11e9-893e-02420a010063"
      }
     ],
     "next": "acb2e1fc-ef19-11e9-a436-02420a010068",
     "previous": "acb2deb4-ef19-11e9-a436-02420a010068"
    }
   },
   "source": [
    "## 注意事項"
   ]
  },
  {
   "cell_type": "markdown",
   "metadata": {
    "lc_cell_meme": {
     "current": "acb2e1fc-ef19-11e9-a436-02420a010068",
     "history": [
      {
       "current": "933950ff-96df-11e9-8b94-e0d55ea40caf",
       "next": "93395100-96df-11e9-8b94-e0d55ea40caf",
       "previous": "933950fe-96df-11e9-8b94-e0d55ea40caf"
      },
      {
       "current": "b38b723a-96e2-11e9-893e-02420a010063",
       "next": "b38b730c-96e2-11e9-893e-02420a010063",
       "previous": "b38b7118-96e2-11e9-893e-02420a010063"
      }
     ],
     "next": "acb2e36e-ef19-11e9-a436-02420a010068",
     "previous": "acb2e044-ef19-11e9-a436-02420a010068"
    }
   },
   "source": [
    "確認課題は、単位認定のための点数としてカウントします。\n",
    "\n",
    "友達と相談せず、自分だけでやってください。\n",
    "\n",
    "確認課題が終わった人は、提出後に退室して構いません。\n",
    "\n",
    "終わらなくても終了時刻までに提出してください。"
   ]
  },
  {
   "cell_type": "markdown",
   "metadata": {
    "lc_cell_meme": {
     "current": "acb2e36e-ef19-11e9-a436-02420a010068",
     "history": [
      {
       "current": "93395100-96df-11e9-8b94-e0d55ea40caf",
       "next": "efa662f7-96de-11e9-8b94-e0d55ea40caf",
       "previous": "933950ff-96df-11e9-8b94-e0d55ea40caf"
      },
      {
       "current": "b38b730c-96e2-11e9-893e-02420a010063",
       "next": "b38b73a2-96e2-11e9-893e-02420a010063",
       "previous": "b38b723a-96e2-11e9-893e-02420a010063"
      },
      {
       "current": "b38b730c-96e2-11e9-893e-02420a010063",
       "next": "89853540-eedd-11e9-a8bb-02420a010068",
       "previous": "b38b723a-96e2-11e9-893e-02420a010063"
      }
     ],
     "next": "acb2e4e0-ef19-11e9-a436-02420a010068",
     "previous": "acb2e1fc-ef19-11e9-a436-02420a010068"
    }
   },
   "source": [
    " # 課題"
   ]
  },
  {
   "cell_type": "markdown",
   "metadata": {
    "lc_cell_meme": {
     "current": "acb2e4e0-ef19-11e9-a436-02420a010068",
     "history": [
      {
       "current": "89853540-eedd-11e9-a8bb-02420a010068",
       "next": "b38b73a2-96e2-11e9-893e-02420a010063",
       "previous": "b38b730c-96e2-11e9-893e-02420a010063"
      }
     ],
     "next": "acb2e62a-ef19-11e9-a436-02420a010068",
     "previous": "acb2e36e-ef19-11e9-a436-02420a010068"
    }
   },
   "source": [
    "## BMIおよび適正体重の判断"
   ]
  },
  {
   "cell_type": "markdown",
   "metadata": {
    "lc_cell_meme": {
     "current": "acb2e62a-ef19-11e9-a436-02420a010068",
     "history": [
      {
       "current": "efa662f7-96de-11e9-8b94-e0d55ea40caf",
       "next": "efa662f8-96de-11e9-8b94-e0d55ea40caf",
       "previous": null
      },
      {
       "current": "efa662f7-96de-11e9-8b94-e0d55ea40caf",
       "next": "efa662f8-96de-11e9-8b94-e0d55ea40caf",
       "previous": "4baeeaac-96df-11e9-8b94-e0d55ea40caf"
      },
      {
       "current": "efa662f7-96de-11e9-8b94-e0d55ea40caf",
       "next": "efa662f8-96de-11e9-8b94-e0d55ea40caf",
       "previous": "93395100-96df-11e9-8b94-e0d55ea40caf"
      },
      {
       "current": "efa662f7-96de-11e9-8b94-e0d55ea40caf",
       "next": "f8da5718-96e0-11e9-8b94-e0d55ea40caf",
       "previous": "93395100-96df-11e9-8b94-e0d55ea40caf"
      },
      {
       "current": "b38b73a2-96e2-11e9-893e-02420a010063",
       "next": "b38b7442-96e2-11e9-893e-02420a010063",
       "previous": "b38b730c-96e2-11e9-893e-02420a010063"
      },
      {
       "current": "b38b73a2-96e2-11e9-893e-02420a010063",
       "next": "89853784-eedd-11e9-a8bb-02420a010068",
       "previous": "89853540-eedd-11e9-a8bb-02420a010068"
      }
     ],
     "next": "acb2e774-ef19-11e9-a436-02420a010068",
     "previous": "acb2e4e0-ef19-11e9-a436-02420a010068"
    }
   },
   "source": [
    "BMIと適正体重の判断\n",
    "\n",
    "以下の手順で、身長と体重からBMIと適正体重を計算するプログラムを作成しなさい。\n",
    "    \n",
    "1. 身長h (m)と体重w(kg)を入力する\n",
    "    \n",
    "1. 以下の式からBMI ($bmi$)を計算する\n",
    "\n",
    "      $bmi = \\frac{w}{h^2}$\n",
    "\n",
    "1. 以下の式から適正体重 ($sw$)を計算する\n",
    "\n",
    "      $sw = h^2 \\times 22$\n",
    "\n",
    "1. BMIをもとに以下の表から肥満の判断を行なう\n",
    "      \n",
    "1. 判定結果と標準体重を表示する\n",
    "      \n",
    "1. 体重と標準体重の差を表示する\n",
    "\n",
    "肥満の判定基準\n",
    "\n",
    "| 判定 | 条件 |\n",
    "| :--: | :--: |\n",
    "| 低体重 | BMIが18.5より小さい場合 |\n",
    "| 普通体重 | BMIが18.5以上、かつ25より小さい場合 |\n",
    "| 肥満度１ | BMIが25以上、かつ30より小さい場合 |\n",
    "| 肥満度２ | BMIが30以上、かつ35より小さい場合 |\n",
    "| 肥満度３ | BMIが35以上、かつ40より小さい場合 |\n",
    "| 肥満度４ | BMIが40以上の場合 |"
   ]
  },
  {
   "cell_type": "markdown",
   "metadata": {
    "lc_cell_meme": {
     "current": "acb2e774-ef19-11e9-a436-02420a010068",
     "history": [
      {
       "current": "89853784-eedd-11e9-a8bb-02420a010068",
       "next": "b38b7442-96e2-11e9-893e-02420a010063",
       "previous": "b38b73a2-96e2-11e9-893e-02420a010063"
      }
     ],
     "next": "acb2e8e6-ef19-11e9-a436-02420a010068",
     "previous": "acb2e62a-ef19-11e9-a436-02420a010068"
    }
   },
   "source": [
    "## 解答"
   ]
  },
  {
   "cell_type": "markdown",
   "metadata": {
    "lc_cell_meme": {
     "current": "acb2e8e6-ef19-11e9-a436-02420a010068",
     "history": [
      {
       "current": "f8da5718-96e0-11e9-8b94-e0d55ea40caf",
       "next": "efa662f8-96de-11e9-8b94-e0d55ea40caf",
       "previous": "efa662f7-96de-11e9-8b94-e0d55ea40caf"
      },
      {
       "current": "b38b7442-96e2-11e9-893e-02420a010063",
       "next": "b38b74d8-96e2-11e9-893e-02420a010063",
       "previous": "b38b73a2-96e2-11e9-893e-02420a010063"
      },
      {
       "current": "b38b7442-96e2-11e9-893e-02420a010063",
       "next": "b38b74d8-96e2-11e9-893e-02420a010063",
       "previous": "89853784-eedd-11e9-a8bb-02420a010068"
      }
     ],
     "next": "acb2ea6c-ef19-11e9-a436-02420a010068",
     "previous": "acb2e774-ef19-11e9-a436-02420a010068"
    }
   },
   "source": [
    "解答欄：以下のプログラムを完成しなさい。"
   ]
  },
  {
   "cell_type": "code",
   "execution_count": null,
   "metadata": {
    "lc_cell_meme": {
     "current": "acb2ea6c-ef19-11e9-a436-02420a010068",
     "history": [
      {
       "current": "efa662f8-96de-11e9-8b94-e0d55ea40caf",
       "next": null,
       "previous": "efa662f7-96de-11e9-8b94-e0d55ea40caf"
      },
      {
       "current": "efa662f8-96de-11e9-8b94-e0d55ea40caf",
       "next": "f8da5719-96e0-11e9-8b94-e0d55ea40caf",
       "previous": "f8da5718-96e0-11e9-8b94-e0d55ea40caf"
      },
      {
       "current": "b38b74d8-96e2-11e9-893e-02420a010063",
       "next": "b38b756e-96e2-11e9-893e-02420a010063",
       "previous": "b38b7442-96e2-11e9-893e-02420a010063"
      }
     ],
     "next": "acb2ebf2-ef19-11e9-a436-02420a010068",
     "previous": "acb2e8e6-ef19-11e9-a436-02420a010068"
    }
   },
   "outputs": [],
   "source": [
    "h = float(input(\"身長(m)？\"))\n",
    "w = float(input(\"体重(Kg)？\"))\n",
    "bmi = ???\n",
    "sw = ???\n",
    "\n",
    "## 以下に条件式を入れる\n",
    "if ???\n",
    "    print(\"低体重\")\n",
    "elif ???\n",
    "    print(\"普通体重\")\n",
    "elif ???\n",
    "    print(\"肥満度１\")\n",
    "elif ???\n",
    "    print(\"肥満度２\")\n",
    "elif ???\n",
    "    print(\"肥満度３\")\n",
    "else:\n",
    "    print(\"肥満度４\")\n",
    "\n",
    "print(\"標準体重\", sw )\n",
    "print(\"標準体重との差\", w - sw)"
   ]
  },
  {
   "cell_type": "markdown",
   "metadata": {
    "lc_cell_meme": {
     "current": "acb2ebf2-ef19-11e9-a436-02420a010068",
     "history": [
      {
       "current": "f8da5719-96e0-11e9-8b94-e0d55ea40caf",
       "next": null,
       "previous": "efa662f8-96de-11e9-8b94-e0d55ea40caf"
      },
      {
       "current": "f8da5719-96e0-11e9-8b94-e0d55ea40caf",
       "next": "4060f3da-96e1-11e9-8b94-e0d55ea40caf",
       "previous": "efa662f8-96de-11e9-8b94-e0d55ea40caf"
      },
      {
       "current": "f8da5719-96e0-11e9-8b94-e0d55ea40caf",
       "next": "4060f3db-96e1-11e9-8b94-e0d55ea40caf",
       "previous": "efa662f8-96de-11e9-8b94-e0d55ea40caf"
      },
      {
       "current": "b38b756e-96e2-11e9-893e-02420a010063",
       "next": "b38b7604-96e2-11e9-893e-02420a010063",
       "previous": "b38b74d8-96e2-11e9-893e-02420a010063"
      }
     ],
     "next": "acb2ed3c-ef19-11e9-a436-02420a010068",
     "previous": "acb2ea6c-ef19-11e9-a436-02420a010068"
    }
   },
   "source": [
    "確認：\n",
    "\n",
    "身長1.68m 体重87.5kgの人は「肥満度２」、標準体重との差 25.40720000000001\n",
    "\n",
    "身長1.57m, 体重 67.5kgの人は「肥満度１」、標準体重との差 13.272199999999998\n"
   ]
  },
  {
   "cell_type": "markdown",
   "metadata": {
    "heading_collapsed": true,
    "lc_cell_meme": {
     "current": "acb2ed3c-ef19-11e9-a436-02420a010068",
     "history": [
      {
       "current": "4060f3db-96e1-11e9-8b94-e0d55ea40caf",
       "next": null,
       "previous": "4060f3da-96e1-11e9-8b94-e0d55ea40caf"
      },
      {
       "current": "4060f3db-96e1-11e9-8b94-e0d55ea40caf",
       "next": null,
       "previous": "f8da5719-96e0-11e9-8b94-e0d55ea40caf"
      },
      {
       "current": "b38b7604-96e2-11e9-893e-02420a010063",
       "next": null,
       "previous": "b38b756e-96e2-11e9-893e-02420a010063"
      },
      {
       "current": "b38b7604-96e2-11e9-893e-02420a010063",
       "next": "41fdf2de-eedd-11e9-a8bb-02420a010068",
       "previous": "b38b756e-96e2-11e9-893e-02420a010063"
      }
     ],
     "next": "acb2ee90-ef19-11e9-a436-02420a010068",
     "previous": "acb2ebf2-ef19-11e9-a436-02420a010068"
    }
   },
   "source": [
    "# 課題は以上です。お疲れさまでした"
   ]
  },
  {
   "cell_type": "markdown",
   "metadata": {
    "hidden": true,
    "lc_cell_meme": {
     "current": "acb2ee90-ef19-11e9-a436-02420a010068",
     "history": [
      {
       "current": "41fdf2de-eedd-11e9-a8bb-02420a010068",
       "next": "41fdf428-eedd-11e9-a8bb-02420a010068",
       "previous": "b38b7604-96e2-11e9-893e-02420a010063"
      }
     ],
     "next": "acb2efda-ef19-11e9-a436-02420a010068",
     "previous": "acb2ed3c-ef19-11e9-a436-02420a010068"
    }
   },
   "source": [
    "## 評価結果"
   ]
  },
  {
   "cell_type": "code",
   "execution_count": null,
   "metadata": {
    "hidden": true,
    "lc_cell_meme": {
     "current": "acb2efda-ef19-11e9-a436-02420a010068",
     "history": [
      {
       "current": "41fdf428-eedd-11e9-a8bb-02420a010068",
       "next": "41fdf536-eedd-11e9-a8bb-02420a010068",
       "previous": "41fdf2de-eedd-11e9-a8bb-02420a010068"
      }
     ],
     "next": "acb2f124-ef19-11e9-a436-02420a010068",
     "previous": "acb2ee90-ef19-11e9-a436-02420a010068"
    }
   },
   "outputs": [],
   "source": []
  },
  {
   "cell_type": "markdown",
   "metadata": {
    "hidden": true,
    "lc_cell_meme": {
     "current": "acb2f124-ef19-11e9-a436-02420a010068",
     "history": [
      {
       "current": "41fdf536-eedd-11e9-a8bb-02420a010068",
       "next": null,
       "previous": "41fdf428-eedd-11e9-a8bb-02420a010068"
      },
      {
       "current": "41fdf536-eedd-11e9-a8bb-02420a010068",
       "next": "898538ba-eedd-11e9-a8bb-02420a010068",
       "previous": "41fdf428-eedd-11e9-a8bb-02420a010068"
      }
     ],
     "next": "acb2f26e-ef19-11e9-a436-02420a010068",
     "previous": "acb2efda-ef19-11e9-a436-02420a010068"
    }
   },
   "source": [
    "## コメント等"
   ]
  },
  {
   "cell_type": "code",
   "execution_count": null,
   "metadata": {
    "hidden": true,
    "lc_cell_meme": {
     "current": "acb2f26e-ef19-11e9-a436-02420a010068",
     "history": [
      {
       "current": "898538ba-eedd-11e9-a8bb-02420a010068",
       "next": null,
       "previous": "41fdf536-eedd-11e9-a8bb-02420a010068"
      }
     ],
     "next": null,
     "previous": "acb2f124-ef19-11e9-a436-02420a010068"
    }
   },
   "outputs": [],
   "source": []
  }
 ],
 "metadata": {
  "kernelspec": {
   "display_name": "Python 3",
   "language": "python",
   "name": "python3"
  },
  "language_info": {
   "file_extension": ".py",
   "mimetype": "text/x-python",
   "name": "python",
   "nbconvert_exporter": "python",
   "pygments_lexer": "ipython3",
   "version": "3.7.3"
  },
  "lc_notebook_meme": {
   "current": "acb2d040-ef19-11e9-a436-02420a010068",
   "history": [
    "efa662f6-96de-11e9-8b94-e0d55ea40caf",
    "b38b6614-96e2-11e9-893e-02420a010063"
   ],
   "lc_server_signature": {
    "current": {
     "notebook_dir": "/home/14999410x94c69e",
     "notebook_path": "/03",
     "server_url": "https://nb06.ecloud.nii.ac.jp/user/14999410x94c69e/",
     "signature_id": "360553ae-df66-11e9-8262-02420a010037"
    },
    "history": [
     {
      "notebook_dir": "/home/kuwata/notebooks",
      "notebook_path": "/",
      "server_url": "http://157.19.141.8:8000/user/kuwata/",
      "signature_id": "d0abe7ae-153d-11e9-9674-e0d55ea40caf"
     },
     {
      "notebook_dir": "/home/14999410x94c69e",
      "notebook_path": "/03a",
      "server_url": "https://nb06.ecloud.nii.ac.jp/user/14999410x94c69e/",
      "signature_id": "360553ae-df66-11e9-8262-02420a010037"
     }
    ]
   },
   "root_cells": [
    "acb2d784-ef19-11e9-a436-02420a010068",
    "acb2da54-ef19-11e9-a436-02420a010068",
    "acb2dbee-ef19-11e9-a436-02420a010068",
    "acb2dd6a-ef19-11e9-a436-02420a010068",
    "acb2deb4-ef19-11e9-a436-02420a010068",
    "acb2e044-ef19-11e9-a436-02420a010068",
    "acb2e1fc-ef19-11e9-a436-02420a010068",
    "acb2e36e-ef19-11e9-a436-02420a010068",
    "acb2e4e0-ef19-11e9-a436-02420a010068",
    "acb2e62a-ef19-11e9-a436-02420a010068",
    "acb2e774-ef19-11e9-a436-02420a010068",
    "acb2e8e6-ef19-11e9-a436-02420a010068",
    "acb2ea6c-ef19-11e9-a436-02420a010068",
    "acb2ebf2-ef19-11e9-a436-02420a010068",
    "acb2ed3c-ef19-11e9-a436-02420a010068",
    "acb2ee90-ef19-11e9-a436-02420a010068",
    "acb2efda-ef19-11e9-a436-02420a010068",
    "acb2f124-ef19-11e9-a436-02420a010068",
    "acb2f26e-ef19-11e9-a436-02420a010068"
   ]
  },
  "toc": {
   "base_numbering": 1,
   "nav_menu": {},
   "number_sections": true,
   "sideBar": true,
   "skip_h1_title": false,
   "title_cell": "Table of Contents",
   "title_sidebar": "Contents",
   "toc_cell": false,
   "toc_position": {},
   "toc_section_display": true,
   "toc_window_display": false
  }
 },
 "nbformat": 4,
 "nbformat_minor": 2
}
