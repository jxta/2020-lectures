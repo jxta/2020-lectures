{
 "cells": [
  {
   "cell_type": "markdown",
   "metadata": {
    "lc_cell_meme": {
     "current": "a7ac0904-ef19-11e9-b53a-02420a010068",
     "history": [
      {
       "current": "cebf3c91-2391-11e9-a9f8-e0d55ea40caf",
       "next": "cebf3c92-2391-11e9-a9f8-e0d55ea40caf",
       "previous": null
      },
      {
       "current": "aa7bf804-96e2-11e9-8e94-02420a010063",
       "next": "aa7bfa48-96e2-11e9-8e94-02420a010063",
       "previous": null
      }
     ],
     "next": "a7ac0b3e-ef19-11e9-b53a-02420a010068",
     "previous": null
    }
   },
   "source": [
    "# プログラミング入門\n",
    "第3回　条件判断"
   ]
  },
  {
   "cell_type": "markdown",
   "metadata": {
    "collapsed": true,
    "lc_cell_meme": {
     "current": "a7ac0b3e-ef19-11e9-b53a-02420a010068",
     "history": [
      {
       "current": "cebf3c92-2391-11e9-a9f8-e0d55ea40caf",
       "next": "cebf3c93-2391-11e9-a9f8-e0d55ea40caf",
       "previous": "cebf3c91-2391-11e9-a9f8-e0d55ea40caf"
      },
      {
       "current": "aa7bfa48-96e2-11e9-8e94-02420a010063",
       "next": "aa7bfb7e-96e2-11e9-8e94-02420a010063",
       "previous": "aa7bf804-96e2-11e9-8e94-02420a010063"
      }
     ],
     "next": "a7ac0cf6-ef19-11e9-b53a-02420a010068",
     "previous": "a7ac0904-ef19-11e9-b53a-02420a010068"
    }
   },
   "source": [
    "次のセルに、自分の名前と学籍番号を記入して下さい。"
   ]
  },
  {
   "cell_type": "raw",
   "metadata": {
    "lc_cell_meme": {
     "current": "a7ac0cf6-ef19-11e9-b53a-02420a010068",
     "history": [
      {
       "current": "cebf3c93-2391-11e9-a9f8-e0d55ea40caf",
       "next": "cebf3c94-2391-11e9-a9f8-e0d55ea40caf",
       "previous": "cebf3c92-2391-11e9-a9f8-e0d55ea40caf"
      },
      {
       "current": "aa7bfb7e-96e2-11e9-8e94-02420a010063",
       "next": "aa7bfd18-96e2-11e9-8e94-02420a010063",
       "previous": "aa7bfa48-96e2-11e9-8e94-02420a010063"
      }
     ],
     "next": "a7ac0e90-ef19-11e9-b53a-02420a010068",
     "previous": "a7ac0b3e-ef19-11e9-b53a-02420a010068"
    }
   },
   "source": [
    "学籍番号：　　　　　　　　　　　氏名："
   ]
  },
  {
   "cell_type": "markdown",
   "metadata": {
    "lc_cell_meme": {
     "current": "a7ac0e90-ef19-11e9-b53a-02420a010068",
     "history": [
      {
       "current": "cebf3c94-2391-11e9-a9f8-e0d55ea40caf",
       "next": "cebf3c95-2391-11e9-a9f8-e0d55ea40caf",
       "previous": "cebf3c93-2391-11e9-a9f8-e0d55ea40caf"
      },
      {
       "current": "aa7bfd18-96e2-11e9-8e94-02420a010063",
       "next": "aa7bfe30-96e2-11e9-8e94-02420a010063",
       "previous": "aa7bfb7e-96e2-11e9-8e94-02420a010063"
      }
     ],
     "next": "a7ac10a2-ef19-11e9-b53a-02420a010068",
     "previous": "a7ac0cf6-ef19-11e9-b53a-02420a010068"
    }
   },
   "source": [
    "【進め方の注意】\n",
    "\n",
    "- 文書を読んで、手順に沿って問いに答えながら進めて下さい。\n",
    "- 最後まで問題を解いたら、ファイルを保存して課題に進んで下さい。\n",
    "- 途中わからないことがあれば、教員またはTAに質問して下さい。"
   ]
  },
  {
   "cell_type": "markdown",
   "metadata": {
    "lc_cell_meme": {
     "current": "a7ac10a2-ef19-11e9-b53a-02420a010068",
     "history": [
      {
       "current": "cebf3c95-2391-11e9-a9f8-e0d55ea40caf",
       "next": "cebf3c96-2391-11e9-a9f8-e0d55ea40caf",
       "previous": "cebf3c94-2391-11e9-a9f8-e0d55ea40caf"
      },
      {
       "current": "aa7bfe30-96e2-11e9-8e94-02420a010063",
       "next": "aa7bff5c-96e2-11e9-8e94-02420a010063",
       "previous": "aa7bfd18-96e2-11e9-8e94-02420a010063"
      }
     ],
     "next": "a7ac1250-ef19-11e9-b53a-02420a010068",
     "previous": "a7ac0e90-ef19-11e9-b53a-02420a010068"
    }
   },
   "source": [
    "# プログラムの構造"
   ]
  },
  {
   "cell_type": "markdown",
   "metadata": {
    "lc_cell_meme": {
     "current": "a7ac1250-ef19-11e9-b53a-02420a010068",
     "history": [
      {
       "current": "cebf3c96-2391-11e9-a9f8-e0d55ea40caf",
       "next": "cebf3c97-2391-11e9-a9f8-e0d55ea40caf",
       "previous": "cebf3c95-2391-11e9-a9f8-e0d55ea40caf"
      },
      {
       "current": "aa7bff5c-96e2-11e9-8e94-02420a010063",
       "next": "aa7c00ba-96e2-11e9-8e94-02420a010063",
       "previous": "aa7bfe30-96e2-11e9-8e94-02420a010063"
      }
     ],
     "next": "a7ac14da-ef19-11e9-b53a-02420a010068",
     "previous": "a7ac10a2-ef19-11e9-b53a-02420a010068"
    }
   },
   "source": [
    "本章では、以下を学びます\n",
    "- 逐次実行\n",
    "- 条件分岐\n",
    "- 繰り返し　（第4回）"
   ]
  },
  {
   "cell_type": "markdown",
   "metadata": {
    "lc_cell_meme": {
     "current": "a7ac14da-ef19-11e9-b53a-02420a010068",
     "history": [
      {
       "current": "cebf3c97-2391-11e9-a9f8-e0d55ea40caf",
       "next": "cebf3c98-2391-11e9-a9f8-e0d55ea40caf",
       "previous": "cebf3c96-2391-11e9-a9f8-e0d55ea40caf"
      },
      {
       "current": "aa7c00ba-96e2-11e9-8e94-02420a010063",
       "next": "aa7c0254-96e2-11e9-8e94-02420a010063",
       "previous": "aa7bff5c-96e2-11e9-8e94-02420a010063"
      }
     ],
     "next": "a7ac1656-ef19-11e9-b53a-02420a010068",
     "previous": "a7ac1250-ef19-11e9-b53a-02420a010068"
    }
   },
   "source": [
    "詳しくは、教科書の28ページを参照してください。"
   ]
  },
  {
   "cell_type": "markdown",
   "metadata": {
    "lc_cell_meme": {
     "current": "a7ac1656-ef19-11e9-b53a-02420a010068",
     "history": [
      {
       "current": "cebf3c98-2391-11e9-a9f8-e0d55ea40caf",
       "next": "cebf3c99-2391-11e9-a9f8-e0d55ea40caf",
       "previous": "cebf3c97-2391-11e9-a9f8-e0d55ea40caf"
      },
      {
       "current": "aa7c0254-96e2-11e9-8e94-02420a010063",
       "next": "aa7c04f2-96e2-11e9-8e94-02420a010063",
       "previous": "aa7c00ba-96e2-11e9-8e94-02420a010063"
      }
     ],
     "next": "a7ac1796-ef19-11e9-b53a-02420a010068",
     "previous": "a7ac14da-ef19-11e9-b53a-02420a010068"
    }
   },
   "source": [
    "# 逐次実行"
   ]
  },
  {
   "cell_type": "markdown",
   "metadata": {
    "lc_cell_meme": {
     "current": "a7ac1796-ef19-11e9-b53a-02420a010068",
     "history": [
      {
       "current": "cebf3c99-2391-11e9-a9f8-e0d55ea40caf",
       "next": "cebf3c9a-2391-11e9-a9f8-e0d55ea40caf",
       "previous": "cebf3c98-2391-11e9-a9f8-e0d55ea40caf"
      },
      {
       "current": "aa7c04f2-96e2-11e9-8e94-02420a010063",
       "next": "aa7c063c-96e2-11e9-8e94-02420a010063",
       "previous": "aa7c0254-96e2-11e9-8e94-02420a010063"
      }
     ],
     "next": "a7ac18d6-ef19-11e9-b53a-02420a010068",
     "previous": "a7ac1656-ef19-11e9-b53a-02420a010068"
    }
   },
   "source": [
    "プログラムは上から順番に実行されます。"
   ]
  },
  {
   "cell_type": "markdown",
   "metadata": {
    "lc_cell_meme": {
     "current": "a7ac18d6-ef19-11e9-b53a-02420a010068",
     "history": [
      {
       "current": "cebf3c9a-2391-11e9-a9f8-e0d55ea40caf",
       "next": "cebf3c9b-2391-11e9-a9f8-e0d55ea40caf",
       "previous": "cebf3c99-2391-11e9-a9f8-e0d55ea40caf"
      },
      {
       "current": "cebf3c9a-2391-11e9-a9f8-e0d55ea40caf",
       "next": "a55591b4-2392-11e9-a9f8-e0d55ea40caf",
       "previous": "cebf3c99-2391-11e9-a9f8-e0d55ea40caf"
      },
      {
       "current": "aa7c063c-96e2-11e9-8e94-02420a010063",
       "next": "aa7c0790-96e2-11e9-8e94-02420a010063",
       "previous": "aa7c04f2-96e2-11e9-8e94-02420a010063"
      }
     ],
     "next": "a7ac1a3e-ef19-11e9-b53a-02420a010068",
     "previous": "a7ac1796-ef19-11e9-b53a-02420a010068"
    }
   },
   "source": [
    "例１：　変数に値を代入しながら、aとbの合計を順番に求めるプログラム\n",
    "\n",
    "以下のセルを※１、※２、※３、※４の順番に評価し結果を確認してください。"
   ]
  },
  {
   "cell_type": "markdown",
   "metadata": {
    "lc_cell_meme": {
     "current": "a7ac1a3e-ef19-11e9-b53a-02420a010068",
     "history": [
      {
       "current": "a55591b4-2392-11e9-a9f8-e0d55ea40caf",
       "next": "cebf3c9b-2391-11e9-a9f8-e0d55ea40caf",
       "previous": "cebf3c9a-2391-11e9-a9f8-e0d55ea40caf"
      },
      {
       "current": "aa7c0790-96e2-11e9-8e94-02420a010063",
       "next": "aa7c08ee-96e2-11e9-8e94-02420a010063",
       "previous": "aa7c063c-96e2-11e9-8e94-02420a010063"
      }
     ],
     "next": "a7ac1ba6-ef19-11e9-b53a-02420a010068",
     "previous": "a7ac18d6-ef19-11e9-b53a-02420a010068"
    }
   },
   "source": [
    "※１"
   ]
  },
  {
   "cell_type": "code",
   "execution_count": 1,
   "metadata": {
    "lc_cell_meme": {
     "current": "a7ac1ba6-ef19-11e9-b53a-02420a010068",
     "execution_end_time": "2019-10-16T02:01:34.848763Z",
     "history": [
      {
       "current": "cebf3c9b-2391-11e9-a9f8-e0d55ea40caf",
       "next": "cebf3c9c-2391-11e9-a9f8-e0d55ea40caf",
       "previous": "cebf3c9a-2391-11e9-a9f8-e0d55ea40caf"
      },
      {
       "current": "cebf3c9b-2391-11e9-a9f8-e0d55ea40caf",
       "next": "cebf3c9b-2391-11e9-a9f8-e0d55ea40caf",
       "previous": "cebf3c9a-2391-11e9-a9f8-e0d55ea40caf"
      },
      {
       "current": "cebf3c9b-2391-11e9-a9f8-e0d55ea40caf",
       "next": "a55591b5-2392-11e9-a9f8-e0d55ea40caf",
       "previous": "a55591b4-2392-11e9-a9f8-e0d55ea40caf"
      },
      {
       "current": "aa7c08ee-96e2-11e9-8e94-02420a010063",
       "next": "aa7c09c0-96e2-11e9-8e94-02420a010063",
       "previous": "aa7c0790-96e2-11e9-8e94-02420a010063"
      }
     ],
     "next": "a7ac1d04-ef19-11e9-b53a-02420a010068",
     "previous": "a7ac1a3e-ef19-11e9-b53a-02420a010068"
    },
    "lc_wrapper": {
     "log_history": [
      "/home/kuwata/notebooks/.log/20190129/20190129-164833-0253.log",
      "/home/14999410x94c69e/03/.log/20191016/20191016-110134-0825.log"
     ]
    }
   },
   "outputs": [
    {
     "name": "stdout",
     "output_type": "stream",
     "text": [
      "30\n"
     ]
    }
   ],
   "source": [
    "# このセルを評価すること\n",
    "a = 10\n",
    "b = 20\n",
    "print (a + b)"
   ]
  },
  {
   "cell_type": "markdown",
   "metadata": {
    "lc_cell_meme": {
     "current": "a7ac1d04-ef19-11e9-b53a-02420a010068",
     "history": [
      {
       "current": "a55591b5-2392-11e9-a9f8-e0d55ea40caf",
       "next": "cebf3c9b-2391-11e9-a9f8-e0d55ea40caf",
       "previous": "cebf3c9b-2391-11e9-a9f8-e0d55ea40caf"
      },
      {
       "current": "aa7c09c0-96e2-11e9-8e94-02420a010063",
       "next": "aa7c0a7e-96e2-11e9-8e94-02420a010063",
       "previous": "aa7c08ee-96e2-11e9-8e94-02420a010063"
      }
     ],
     "next": "a7ac1e3a-ef19-11e9-b53a-02420a010068",
     "previous": "a7ac1ba6-ef19-11e9-b53a-02420a010068"
    }
   },
   "source": [
    "※２"
   ]
  },
  {
   "cell_type": "code",
   "execution_count": 5,
   "metadata": {
    "lc_cell_meme": {
     "current": "a7ac1e3a-ef19-11e9-b53a-02420a010068",
     "execution_end_time": "2019-10-16T02:02:23.382492Z",
     "history": [
      {
       "current": "cebf3c9b-2391-11e9-a9f8-e0d55ea40caf",
       "next": "cebf3c9c-2391-11e9-a9f8-e0d55ea40caf",
       "previous": "cebf3c9a-2391-11e9-a9f8-e0d55ea40caf"
      },
      {
       "current": "cebf3c9b-2391-11e9-a9f8-e0d55ea40caf",
       "next": "cebf3c9b-2391-11e9-a9f8-e0d55ea40caf",
       "previous": "cebf3c9b-2391-11e9-a9f8-e0d55ea40caf"
      },
      {
       "current": "cebf3c9b-2391-11e9-a9f8-e0d55ea40caf",
       "next": "a55591b6-2392-11e9-a9f8-e0d55ea40caf",
       "previous": "a55591b5-2392-11e9-a9f8-e0d55ea40caf"
      },
      {
       "current": "aa7c0a7e-96e2-11e9-8e94-02420a010063",
       "next": "aa7c0baa-96e2-11e9-8e94-02420a010063",
       "previous": "aa7c09c0-96e2-11e9-8e94-02420a010063"
      }
     ],
     "next": "a7ac1f7a-ef19-11e9-b53a-02420a010068",
     "previous": "a7ac1d04-ef19-11e9-b53a-02420a010068"
    },
    "lc_wrapper": {
     "log_history": [
      "/home/kuwata/notebooks/.log/20190129/20190129-164859-0152.log",
      "/home/kuwata/notebooks/.log/20190129/20190129-164909-0151.log",
      "/home/14999410x94c69e/03/.log/20191016/20191016-110138-0008.log",
      "/home/14999410x94c69e/03/.log/20191016/20191016-110223-0372.log"
     ]
    }
   },
   "outputs": [
    {
     "name": "stdout",
     "output_type": "stream",
     "text": [
      "4\n"
     ]
    }
   ],
   "source": [
    "# このセルを評価すること\n",
    "a = 5\n",
    "print (a + b)"
   ]
  },
  {
   "cell_type": "markdown",
   "metadata": {
    "lc_cell_meme": {
     "current": "a7ac1f7a-ef19-11e9-b53a-02420a010068",
     "history": [
      {
       "current": "a55591b6-2392-11e9-a9f8-e0d55ea40caf",
       "next": "cebf3c9b-2391-11e9-a9f8-e0d55ea40caf",
       "previous": "cebf3c9b-2391-11e9-a9f8-e0d55ea40caf"
      },
      {
       "current": "aa7c0baa-96e2-11e9-8e94-02420a010063",
       "next": "aa7c0d08-96e2-11e9-8e94-02420a010063",
       "previous": "aa7c0a7e-96e2-11e9-8e94-02420a010063"
      }
     ],
     "next": "a7ac210a-ef19-11e9-b53a-02420a010068",
     "previous": "a7ac1e3a-ef19-11e9-b53a-02420a010068"
    }
   },
   "source": [
    "※３"
   ]
  },
  {
   "cell_type": "code",
   "execution_count": 3,
   "metadata": {
    "lc_cell_meme": {
     "current": "a7ac210a-ef19-11e9-b53a-02420a010068",
     "execution_end_time": "2019-10-16T02:01:43.674148Z",
     "history": [
      {
       "current": "cebf3c9b-2391-11e9-a9f8-e0d55ea40caf",
       "next": "cebf3c9c-2391-11e9-a9f8-e0d55ea40caf",
       "previous": "cebf3c9a-2391-11e9-a9f8-e0d55ea40caf"
      },
      {
       "current": "cebf3c9b-2391-11e9-a9f8-e0d55ea40caf",
       "next": "cebf3c9b-2391-11e9-a9f8-e0d55ea40caf",
       "previous": "cebf3c9b-2391-11e9-a9f8-e0d55ea40caf"
      },
      {
       "current": "cebf3c9b-2391-11e9-a9f8-e0d55ea40caf",
       "next": "a55591b7-2392-11e9-a9f8-e0d55ea40caf",
       "previous": "a55591b6-2392-11e9-a9f8-e0d55ea40caf"
      },
      {
       "current": "aa7c0d08-96e2-11e9-8e94-02420a010063",
       "next": "aa7c0e02-96e2-11e9-8e94-02420a010063",
       "previous": "aa7c0baa-96e2-11e9-8e94-02420a010063"
      }
     ],
     "next": "a7ac2272-ef19-11e9-b53a-02420a010068",
     "previous": "a7ac1f7a-ef19-11e9-b53a-02420a010068"
    },
    "lc_wrapper": {
     "log_history": [
      "/home/kuwata/notebooks/.log/20190129/20190129-164902-0210.log",
      "/home/14999410x94c69e/03/.log/20191016/20191016-110143-0665.log"
     ]
    }
   },
   "outputs": [
    {
     "name": "stdout",
     "output_type": "stream",
     "text": [
      "28\n"
     ]
    }
   ],
   "source": [
    "# このセルを評価すること\n",
    "a = 8\n",
    "print (a + b)"
   ]
  },
  {
   "cell_type": "markdown",
   "metadata": {
    "lc_cell_meme": {
     "current": "a7ac2272-ef19-11e9-b53a-02420a010068",
     "history": [
      {
       "current": "a55591b7-2392-11e9-a9f8-e0d55ea40caf",
       "next": "cebf3c9b-2391-11e9-a9f8-e0d55ea40caf",
       "previous": "cebf3c9b-2391-11e9-a9f8-e0d55ea40caf"
      },
      {
       "current": "aa7c0e02-96e2-11e9-8e94-02420a010063",
       "next": "aa7c0f1a-96e2-11e9-8e94-02420a010063",
       "previous": "aa7c0d08-96e2-11e9-8e94-02420a010063"
      }
     ],
     "next": "a7ac23a8-ef19-11e9-b53a-02420a010068",
     "previous": "a7ac210a-ef19-11e9-b53a-02420a010068"
    }
   },
   "source": [
    "※４"
   ]
  },
  {
   "cell_type": "code",
   "execution_count": 4,
   "metadata": {
    "lc_cell_meme": {
     "current": "a7ac23a8-ef19-11e9-b53a-02420a010068",
     "execution_end_time": "2019-10-16T02:01:49.202987Z",
     "history": [
      {
       "current": "cebf3c9b-2391-11e9-a9f8-e0d55ea40caf",
       "next": "cebf3c9c-2391-11e9-a9f8-e0d55ea40caf",
       "previous": "cebf3c9a-2391-11e9-a9f8-e0d55ea40caf"
      },
      {
       "current": "cebf3c9b-2391-11e9-a9f8-e0d55ea40caf",
       "next": "cebf3c9c-2391-11e9-a9f8-e0d55ea40caf",
       "previous": "cebf3c9b-2391-11e9-a9f8-e0d55ea40caf"
      },
      {
       "current": "cebf3c9b-2391-11e9-a9f8-e0d55ea40caf",
       "next": "cebf3c9c-2391-11e9-a9f8-e0d55ea40caf",
       "previous": "a55591b7-2392-11e9-a9f8-e0d55ea40caf"
      },
      {
       "current": "aa7c0f1a-96e2-11e9-8e94-02420a010063",
       "next": "aa7c101e-96e2-11e9-8e94-02420a010063",
       "previous": "aa7c0e02-96e2-11e9-8e94-02420a010063"
      }
     ],
     "next": "a7ac24e8-ef19-11e9-b53a-02420a010068",
     "previous": "a7ac2272-ef19-11e9-b53a-02420a010068"
    },
    "lc_wrapper": {
     "log_history": [
      "/home/kuwata/notebooks/.log/20190129/20190129-164905-0011.log",
      "/home/14999410x94c69e/03/.log/20191016/20191016-110149-0193.log"
     ]
    }
   },
   "outputs": [
    {
     "name": "stdout",
     "output_type": "stream",
     "text": [
      "7\n"
     ]
    }
   ],
   "source": [
    "# このセルを評価すること\n",
    "b = -1\n",
    "print (a + b)"
   ]
  },
  {
   "cell_type": "markdown",
   "metadata": {
    "lc_cell_meme": {
     "current": "a7ac24e8-ef19-11e9-b53a-02420a010068",
     "history": [
      {
       "current": "cebf3c9c-2391-11e9-a9f8-e0d55ea40caf",
       "next": "cebf3c9d-2391-11e9-a9f8-e0d55ea40caf",
       "previous": "cebf3c9b-2391-11e9-a9f8-e0d55ea40caf"
      },
      {
       "current": "cebf3c9c-2391-11e9-a9f8-e0d55ea40caf",
       "next": "cebf3ca1-2391-11e9-a9f8-e0d55ea40caf",
       "previous": "cebf3c9b-2391-11e9-a9f8-e0d55ea40caf"
      },
      {
       "current": "cebf3c9c-2391-11e9-a9f8-e0d55ea40caf",
       "next": "644b607c-2397-11e9-a9f8-e0d55ea40caf",
       "previous": "cebf3c9b-2391-11e9-a9f8-e0d55ea40caf"
      },
      {
       "current": "cebf3c9c-2391-11e9-a9f8-e0d55ea40caf",
       "next": "cafa4d1e-2398-11e9-a9f8-e0d55ea40caf",
       "previous": "cebf3c9b-2391-11e9-a9f8-e0d55ea40caf"
      },
      {
       "current": "aa7c101e-96e2-11e9-8e94-02420a010063",
       "next": "aa7c1190-96e2-11e9-8e94-02420a010063",
       "previous": "aa7c0f1a-96e2-11e9-8e94-02420a010063"
      }
     ],
     "next": "a7ac2628-ef19-11e9-b53a-02420a010068",
     "previous": "a7ac23a8-ef19-11e9-b53a-02420a010068"
    }
   },
   "source": [
    "次に、※２のセルだけを再度評価して、最初の結果と２度目の評価を次のセルに記述しなさい。"
   ]
  },
  {
   "cell_type": "markdown",
   "metadata": {
    "lc_cell_meme": {
     "current": "a7ac2628-ef19-11e9-b53a-02420a010068",
     "history": [
      {
       "current": "cafa4d1e-2398-11e9-a9f8-e0d55ea40caf",
       "next": "644b607c-2397-11e9-a9f8-e0d55ea40caf",
       "previous": "cebf3c9c-2391-11e9-a9f8-e0d55ea40caf"
      },
      {
       "current": "aa7c1190-96e2-11e9-8e94-02420a010063",
       "next": "aa7c12e4-96e2-11e9-8e94-02420a010063",
       "previous": "aa7c101e-96e2-11e9-8e94-02420a010063"
      },
      {
       "current": "aa7c1190-96e2-11e9-8e94-02420a010063",
       "next": "6a3d3774-eedc-11e9-a8bb-02420a010068",
       "previous": "aa7c101e-96e2-11e9-8e94-02420a010063"
      }
     ],
     "next": "a7ac279a-ef19-11e9-b53a-02420a010068",
     "previous": "a7ac24e8-ef19-11e9-b53a-02420a010068"
    }
   },
   "source": [
    "１回目の※２の値"
   ]
  },
  {
   "cell_type": "code",
   "execution_count": null,
   "metadata": {
    "lc_cell_meme": {
     "current": "a7ac279a-ef19-11e9-b53a-02420a010068",
     "history": [
      {
       "current": "6a3d3774-eedc-11e9-a8bb-02420a010068",
       "next": "aa7c12e4-96e2-11e9-8e94-02420a010063",
       "previous": "aa7c1190-96e2-11e9-8e94-02420a010063"
      },
      {
       "current": "6a3d3774-eedc-11e9-a8bb-02420a010068",
       "next": "aa7c13de-96e2-11e9-8e94-02420a010063",
       "previous": "aa7c1190-96e2-11e9-8e94-02420a010063"
      }
     ],
     "next": "a7ac28f8-ef19-11e9-b53a-02420a010068",
     "previous": "a7ac2628-ef19-11e9-b53a-02420a010068"
    }
   },
   "outputs": [],
   "source": [
    "# 演習用入力欄\n"
   ]
  },
  {
   "cell_type": "markdown",
   "metadata": {
    "lc_cell_meme": {
     "current": "a7ac28f8-ef19-11e9-b53a-02420a010068",
     "history": [
      {
       "current": "cafa4d1f-2398-11e9-a9f8-e0d55ea40caf",
       "next": "644b607c-2397-11e9-a9f8-e0d55ea40caf",
       "previous": "644b607c-2397-11e9-a9f8-e0d55ea40caf"
      },
      {
       "current": "aa7c13de-96e2-11e9-8e94-02420a010063",
       "next": "aa7c14f6-96e2-11e9-8e94-02420a010063",
       "previous": "aa7c12e4-96e2-11e9-8e94-02420a010063"
      },
      {
       "current": "aa7c13de-96e2-11e9-8e94-02420a010063",
       "next": "6a3d3774-eedc-11e9-a8bb-02420a010068",
       "previous": "aa7c12e4-96e2-11e9-8e94-02420a010063"
      },
      {
       "current": "aa7c13de-96e2-11e9-8e94-02420a010063",
       "next": "6a3d3774-eedc-11e9-a8bb-02420a010068",
       "previous": "6a3d3774-eedc-11e9-a8bb-02420a010068"
      }
     ],
     "next": "a7ac2a60-ef19-11e9-b53a-02420a010068",
     "previous": "a7ac279a-ef19-11e9-b53a-02420a010068"
    }
   },
   "source": [
    "２回目の※２の値"
   ]
  },
  {
   "cell_type": "code",
   "execution_count": null,
   "metadata": {
    "lc_cell_meme": {
     "current": "a7ac2a60-ef19-11e9-b53a-02420a010068",
     "history": [
      {
       "current": "6a3d3774-eedc-11e9-a8bb-02420a010068",
       "next": "aa7c12e4-96e2-11e9-8e94-02420a010063",
       "previous": "aa7c1190-96e2-11e9-8e94-02420a010063"
      },
      {
       "current": "6a3d3774-eedc-11e9-a8bb-02420a010068",
       "next": "aa7c14f6-96e2-11e9-8e94-02420a010063",
       "previous": "aa7c13de-96e2-11e9-8e94-02420a010063"
      },
      {
       "current": "6a3d3774-eedc-11e9-a8bb-02420a010068",
       "next": "aa7c15f0-96e2-11e9-8e94-02420a010063",
       "previous": "aa7c13de-96e2-11e9-8e94-02420a010063"
      }
     ],
     "next": "a7ac2ba0-ef19-11e9-b53a-02420a010068",
     "previous": "a7ac28f8-ef19-11e9-b53a-02420a010068"
    }
   },
   "outputs": [],
   "source": [
    "# 演習用入力欄\n"
   ]
  },
  {
   "cell_type": "markdown",
   "metadata": {
    "lc_cell_meme": {
     "current": "a7ac2ba0-ef19-11e9-b53a-02420a010068",
     "history": [
      {
       "current": "cebf3ca1-2391-11e9-a9f8-e0d55ea40caf",
       "next": "cebf3ca2-2391-11e9-a9f8-e0d55ea40caf",
       "previous": "cebf3ca0-2391-11e9-a9f8-e0d55ea40caf"
      },
      {
       "current": "cebf3ca1-2391-11e9-a9f8-e0d55ea40caf",
       "next": "cebf3ca2-2391-11e9-a9f8-e0d55ea40caf",
       "previous": "cebf3c9c-2391-11e9-a9f8-e0d55ea40caf"
      },
      {
       "current": "cebf3ca1-2391-11e9-a9f8-e0d55ea40caf",
       "next": "cebf3ca2-2391-11e9-a9f8-e0d55ea40caf",
       "previous": "644b607c-2397-11e9-a9f8-e0d55ea40caf"
      },
      {
       "current": "aa7c15f0-96e2-11e9-8e94-02420a010063",
       "next": "aa7c16ae-96e2-11e9-8e94-02420a010063",
       "previous": "aa7c14f6-96e2-11e9-8e94-02420a010063"
      },
      {
       "current": "aa7c15f0-96e2-11e9-8e94-02420a010063",
       "next": "aa7c16ae-96e2-11e9-8e94-02420a010063",
       "previous": "6a3d3774-eedc-11e9-a8bb-02420a010068"
      }
     ],
     "next": "a7ac2d12-ef19-11e9-b53a-02420a010068",
     "previous": "a7ac2a60-ef19-11e9-b53a-02420a010068"
    }
   },
   "source": [
    "ヒント：\n",
    "\n",
    "Jupyter Notebookの場合、セルの評価の順番によって結果が異なることに注意して下さい。\n",
    "\n",
    "a とbの値はセルを評価した履歴によって変わります。\n",
    "\n",
    "例えば、途中の評価を省略したり、順番を変えて評価すると結果が異なります。"
   ]
  },
  {
   "cell_type": "markdown",
   "metadata": {
    "lc_cell_meme": {
     "current": "a7ac2d12-ef19-11e9-b53a-02420a010068",
     "history": [
      {
       "current": "cebf3ca2-2391-11e9-a9f8-e0d55ea40caf",
       "next": "cebf3ca3-2391-11e9-a9f8-e0d55ea40caf",
       "previous": "cebf3ca1-2391-11e9-a9f8-e0d55ea40caf"
      },
      {
       "current": "aa7c16ae-96e2-11e9-8e94-02420a010063",
       "next": "aa7c17d0-96e2-11e9-8e94-02420a010063",
       "previous": "aa7c15f0-96e2-11e9-8e94-02420a010063"
      },
      {
       "current": "aa7c16ae-96e2-11e9-8e94-02420a010063",
       "next": "aa5ce926-eed7-11e9-a8bb-02420a010068",
       "previous": "aa7c15f0-96e2-11e9-8e94-02420a010063"
      }
     ],
     "next": "a7ac2f2e-ef19-11e9-b53a-02420a010068",
     "previous": "a7ac2ba0-ef19-11e9-b53a-02420a010068"
    }
   },
   "source": [
    "# 入力関数"
   ]
  },
  {
   "cell_type": "markdown",
   "metadata": {
    "lc_cell_meme": {
     "current": "a7ac2f2e-ef19-11e9-b53a-02420a010068",
     "history": [
      {
       "current": "aa5ce926-eed7-11e9-a8bb-02420a010068",
       "next": "aa7c17d0-96e2-11e9-8e94-02420a010063",
       "previous": "aa7c16ae-96e2-11e9-8e94-02420a010063"
      }
     ],
     "next": "a7ac3136-ef19-11e9-b53a-02420a010068",
     "previous": "a7ac2d12-ef19-11e9-b53a-02420a010068"
    }
   },
   "source": [
    "## 入力関数を使ってみる"
   ]
  },
  {
   "cell_type": "markdown",
   "metadata": {
    "lc_cell_meme": {
     "current": "a7ac3136-ef19-11e9-b53a-02420a010068",
     "history": [
      {
       "current": "cebf3ca3-2391-11e9-a9f8-e0d55ea40caf",
       "next": "cebf3ca4-2391-11e9-a9f8-e0d55ea40caf",
       "previous": "cebf3ca2-2391-11e9-a9f8-e0d55ea40caf"
      },
      {
       "current": "cebf3ca3-2391-11e9-a9f8-e0d55ea40caf",
       "next": "7bedfaf4-2393-11e9-a9f8-e0d55ea40caf",
       "previous": "cebf3ca2-2391-11e9-a9f8-e0d55ea40caf"
      },
      {
       "current": "aa7c17d0-96e2-11e9-8e94-02420a010063",
       "next": "aa7c18ca-96e2-11e9-8e94-02420a010063",
       "previous": "aa7c16ae-96e2-11e9-8e94-02420a010063"
      },
      {
       "current": "aa7c17d0-96e2-11e9-8e94-02420a010063",
       "next": "aa7c18ca-96e2-11e9-8e94-02420a010063",
       "previous": "aa5ce926-eed7-11e9-a8bb-02420a010068"
      }
     ],
     "next": "a7ac32a8-ef19-11e9-b53a-02420a010068",
     "previous": "a7ac2f2e-ef19-11e9-b53a-02420a010068"
    }
   },
   "source": [
    "プログラムの途中で、キーボードから値を入力したい場合があります。\n",
    "\n",
    "input()関数を使うと、プログラムの下に入力ボックスが現れ、キーボードから値（文字列）を入力することができます。\n",
    "\n",
    "     a=input(\"何か文字を入力してください\")"
   ]
  },
  {
   "cell_type": "markdown",
   "metadata": {
    "lc_cell_meme": {
     "current": "a7ac32a8-ef19-11e9-b53a-02420a010068",
     "history": [
      {
       "current": "7bedfaf4-2393-11e9-a9f8-e0d55ea40caf",
       "next": "cebf3ca4-2391-11e9-a9f8-e0d55ea40caf",
       "previous": "cebf3ca3-2391-11e9-a9f8-e0d55ea40caf"
      },
      {
       "current": "aa7c18ca-96e2-11e9-8e94-02420a010063",
       "next": "aa7c1988-96e2-11e9-8e94-02420a010063",
       "previous": "aa7c17d0-96e2-11e9-8e94-02420a010063"
      },
      {
       "current": "aa7c18ca-96e2-11e9-8e94-02420a010063",
       "next": "22c4e018-eedc-11e9-a8bb-02420a010068",
       "previous": "aa7c17d0-96e2-11e9-8e94-02420a010063"
      }
     ],
     "next": "a7ac3406-ef19-11e9-b53a-02420a010068",
     "previous": "a7ac3136-ef19-11e9-b53a-02420a010068"
    }
   },
   "source": [
    "演習：以下のセルに\"何か文字を入れて下さい\"と表示し、入力結果をaに代入し最後にaを評価するプログラムを書きなさい。"
   ]
  },
  {
   "cell_type": "code",
   "execution_count": 7,
   "metadata": {
    "lc_cell_meme": {
     "current": "a7ac3406-ef19-11e9-b53a-02420a010068",
     "execution_end_time": "2019-10-16T02:07:33.397724Z",
     "history": [
      {
       "current": "22c4e018-eedc-11e9-a8bb-02420a010068",
       "next": "aa7c1988-96e2-11e9-8e94-02420a010063",
       "previous": "aa7c18ca-96e2-11e9-8e94-02420a010063"
      },
      {
       "current": "22c4e018-eedc-11e9-a8bb-02420a010068",
       "next": "aa5ced54-eed7-11e9-a8bb-02420a010068",
       "previous": "aa7c18ca-96e2-11e9-8e94-02420a010063"
      }
     ],
     "next": "a7ac35b4-ef19-11e9-b53a-02420a010068",
     "previous": "a7ac32a8-ef19-11e9-b53a-02420a010068"
    },
    "lc_wrapper": {
     "log_history": [
      "/home/14999410x94c69e/03/.log/20191016/20191016-110645-0684.log",
      "/home/14999410x94c69e/03/.log/20191016/20191016-110730-0111.log"
     ]
    }
   },
   "outputs": [
    {
     "name": "stdout",
     "output_type": "stream",
     "text": [
      "何か文字を入力してくださいhhhfgghgh\n"
     ]
    },
    {
     "data": {
      "text/plain": [
       "'hhhfgghgh'"
      ]
     },
     "execution_count": 7,
     "metadata": {},
     "output_type": "execute_result"
    }
   ],
   "source": [
    "# 演習用入力欄\n",
    "a=input(\"何か文字を入力してください\")\n",
    "a"
   ]
  },
  {
   "cell_type": "markdown",
   "metadata": {
    "lc_cell_meme": {
     "current": "a7ac35b4-ef19-11e9-b53a-02420a010068",
     "history": [
      {
       "current": "aa5ced54-eed7-11e9-a8bb-02420a010068",
       "next": "aa5cee9e-eed7-11e9-a8bb-02420a010068",
       "previous": "aa7c1988-96e2-11e9-8e94-02420a010063"
      },
      {
       "current": "aa5ced54-eed7-11e9-a8bb-02420a010068",
       "next": "aa5cee9e-eed7-11e9-a8bb-02420a010068",
       "previous": "22c4e018-eedc-11e9-a8bb-02420a010068"
      }
     ],
     "next": "a7ac379e-ef19-11e9-b53a-02420a010068",
     "previous": "a7ac3406-ef19-11e9-b53a-02420a010068"
    }
   },
   "source": [
    "ヒント：\n",
    "Out[]で入力した文字列が出力されれば正解です。"
   ]
  },
  {
   "cell_type": "markdown",
   "metadata": {
    "lc_cell_meme": {
     "current": "a7ac379e-ef19-11e9-b53a-02420a010068",
     "history": [
      {
       "current": "aa5cee9e-eed7-11e9-a8bb-02420a010068",
       "next": "aa7c1a50-96e2-11e9-8e94-02420a010063",
       "previous": "aa5ced54-eed7-11e9-a8bb-02420a010068"
      }
     ],
     "next": "a7ac3906-ef19-11e9-b53a-02420a010068",
     "previous": "a7ac35b4-ef19-11e9-b53a-02420a010068"
    }
   },
   "source": [
    "## 入力結果の処理"
   ]
  },
  {
   "cell_type": "markdown",
   "metadata": {
    "lc_cell_meme": {
     "current": "a7ac3906-ef19-11e9-b53a-02420a010068",
     "history": [
      {
       "current": "cebf3ca5-2391-11e9-a9f8-e0d55ea40caf",
       "next": "cebf3ca6-2391-11e9-a9f8-e0d55ea40caf",
       "previous": "cebf3ca4-2391-11e9-a9f8-e0d55ea40caf"
      },
      {
       "current": "cebf3ca5-2391-11e9-a9f8-e0d55ea40caf",
       "next": "cebf3ca7-2391-11e9-a9f8-e0d55ea40caf",
       "previous": "cebf3ca4-2391-11e9-a9f8-e0d55ea40caf"
      },
      {
       "current": "aa7c1a50-96e2-11e9-8e94-02420a010063",
       "next": "aa7c1b68-96e2-11e9-8e94-02420a010063",
       "previous": "aa7c1988-96e2-11e9-8e94-02420a010063"
      },
      {
       "current": "aa7c1a50-96e2-11e9-8e94-02420a010063",
       "next": "aa7c1b68-96e2-11e9-8e94-02420a010063",
       "previous": "aa5cee9e-eed7-11e9-a8bb-02420a010068"
      }
     ],
     "next": "a7ac3ae6-ef19-11e9-b53a-02420a010068",
     "previous": "a7ac379e-ef19-11e9-b53a-02420a010068"
    }
   },
   "source": [
    "input()は文字列を返す関数であるため、そのままでは数値の計算は行えません。\n",
    "\n",
    "以下はエラーになります。\n",
    "\n",
    "    a = input(\"何か文字を入力して下さい \")\n",
    "    a+1\n",
    "\n",
    "aを整数に変換するためには、int()を利用します。\n",
    "\n",
    "    a = input(\"整数を入力して下さい \")\n",
    "    int(a) + 1\n",
    "    \n",
    "aを実数に変換するためには、float()を利用します。\n",
    "\n",
    "    a = input(\"実数を入力して下さい \")\n",
    "    float(a) + 12.3\n"
   ]
  },
  {
   "cell_type": "markdown",
   "metadata": {
    "lc_cell_meme": {
     "current": "a7ac3ae6-ef19-11e9-b53a-02420a010068",
     "history": [
      {
       "current": "cebf3ca7-2391-11e9-a9f8-e0d55ea40caf",
       "next": "cebf3ca8-2391-11e9-a9f8-e0d55ea40caf",
       "previous": "cebf3ca6-2391-11e9-a9f8-e0d55ea40caf"
      },
      {
       "current": "cebf3ca7-2391-11e9-a9f8-e0d55ea40caf",
       "next": "cebf3ca8-2391-11e9-a9f8-e0d55ea40caf",
       "previous": "cebf3ca5-2391-11e9-a9f8-e0d55ea40caf"
      },
      {
       "current": "aa7c1b68-96e2-11e9-8e94-02420a010063",
       "next": "aa7c1cbc-96e2-11e9-8e94-02420a010063",
       "previous": "aa7c1a50-96e2-11e9-8e94-02420a010063"
      },
      {
       "current": "aa7c1b68-96e2-11e9-8e94-02420a010063",
       "next": "22c4e446-eedc-11e9-a8bb-02420a010068",
       "previous": "aa7c1a50-96e2-11e9-8e94-02420a010063"
      }
     ],
     "next": "a7ac3c4e-ef19-11e9-b53a-02420a010068",
     "previous": "a7ac3906-ef19-11e9-b53a-02420a010068"
    }
   },
   "source": [
    "演習：以下のセルで、input()文を使い、整数を入力し、その数字から1024を引いた値を、print()を使い表示するプログラムを書きなさい。"
   ]
  },
  {
   "cell_type": "code",
   "execution_count": null,
   "metadata": {
    "lc_cell_meme": {
     "current": "a7ac3c4e-ef19-11e9-b53a-02420a010068",
     "history": [
      {
       "current": "22c4e446-eedc-11e9-a8bb-02420a010068",
       "next": "aa7c1cbc-96e2-11e9-8e94-02420a010063",
       "previous": "aa7c1b68-96e2-11e9-8e94-02420a010063"
      },
      {
       "current": "22c4e446-eedc-11e9-a8bb-02420a010068",
       "next": "aa7c1e06-96e2-11e9-8e94-02420a010063",
       "previous": "aa7c1b68-96e2-11e9-8e94-02420a010063"
      }
     ],
     "next": "a7ac3db6-ef19-11e9-b53a-02420a010068",
     "previous": "a7ac3ae6-ef19-11e9-b53a-02420a010068"
    }
   },
   "outputs": [],
   "source": [
    "# 演習用入力欄\n"
   ]
  },
  {
   "cell_type": "markdown",
   "metadata": {
    "lc_cell_meme": {
     "current": "a7ac3db6-ef19-11e9-b53a-02420a010068",
     "history": [
      {
       "current": "cebf3ca7-2391-11e9-a9f8-e0d55ea40caf",
       "next": "cebf3ca8-2391-11e9-a9f8-e0d55ea40caf",
       "previous": "cebf3ca6-2391-11e9-a9f8-e0d55ea40caf"
      },
      {
       "current": "cebf3ca7-2391-11e9-a9f8-e0d55ea40caf",
       "next": "cebf3ca8-2391-11e9-a9f8-e0d55ea40caf",
       "previous": "cebf3ca5-2391-11e9-a9f8-e0d55ea40caf"
      },
      {
       "current": "cebf3ca7-2391-11e9-a9f8-e0d55ea40caf",
       "next": "cebf3ca8-2391-11e9-a9f8-e0d55ea40caf",
       "previous": "cebf3ca8-2391-11e9-a9f8-e0d55ea40caf"
      },
      {
       "current": "aa7c1e06-96e2-11e9-8e94-02420a010063",
       "next": "aa7c1f14-96e2-11e9-8e94-02420a010063",
       "previous": "aa7c1cbc-96e2-11e9-8e94-02420a010063"
      },
      {
       "current": "aa7c1e06-96e2-11e9-8e94-02420a010063",
       "next": "22c4e590-eedc-11e9-a8bb-02420a010068",
       "previous": "aa7c1cbc-96e2-11e9-8e94-02420a010063"
      },
      {
       "current": "aa7c1e06-96e2-11e9-8e94-02420a010063",
       "next": "22c4e590-eedc-11e9-a8bb-02420a010068",
       "previous": "22c4e446-eedc-11e9-a8bb-02420a010068"
      }
     ],
     "next": "a7ac3f14-ef19-11e9-b53a-02420a010068",
     "previous": "a7ac3c4e-ef19-11e9-b53a-02420a010068"
    }
   },
   "source": [
    "演習：以下のセルで、input()文を使い、実数を入力し、その数字を0.843で割った値に4.3を加えた値を、print()を使い表示するプログラムを書きなさい。"
   ]
  },
  {
   "cell_type": "code",
   "execution_count": null,
   "metadata": {
    "lc_cell_meme": {
     "current": "a7ac3f14-ef19-11e9-b53a-02420a010068",
     "history": [
      {
       "current": "22c4e590-eedc-11e9-a8bb-02420a010068",
       "next": "aa7c1f14-96e2-11e9-8e94-02420a010063",
       "previous": "aa7c1e06-96e2-11e9-8e94-02420a010063"
      },
      {
       "current": "22c4e590-eedc-11e9-a8bb-02420a010068",
       "next": "aa7c2054-96e2-11e9-8e94-02420a010063",
       "previous": "aa7c1e06-96e2-11e9-8e94-02420a010063"
      }
     ],
     "next": "a7ac404a-ef19-11e9-b53a-02420a010068",
     "previous": "a7ac3db6-ef19-11e9-b53a-02420a010068"
    }
   },
   "outputs": [],
   "source": [
    "# 演習用入力欄\n"
   ]
  },
  {
   "cell_type": "markdown",
   "metadata": {
    "lc_cell_meme": {
     "current": "a7ac404a-ef19-11e9-b53a-02420a010068",
     "history": [
      {
       "current": "cebf3cab-2391-11e9-a9f8-e0d55ea40caf",
       "next": "cebf3cac-2391-11e9-a9f8-e0d55ea40caf",
       "previous": "cebf3caa-2391-11e9-a9f8-e0d55ea40caf"
      },
      {
       "current": "cebf3cab-2391-11e9-a9f8-e0d55ea40caf",
       "next": "cebf3cac-2391-11e9-a9f8-e0d55ea40caf",
       "previous": "cebf3ca8-2391-11e9-a9f8-e0d55ea40caf"
      },
      {
       "current": "aa7c2054-96e2-11e9-8e94-02420a010063",
       "next": "aa7c2194-96e2-11e9-8e94-02420a010063",
       "previous": "aa7c1f14-96e2-11e9-8e94-02420a010063"
      },
      {
       "current": "aa7c2054-96e2-11e9-8e94-02420a010063",
       "next": "f1ec7504-eed7-11e9-a8bb-02420a010068",
       "previous": "aa7c1f14-96e2-11e9-8e94-02420a010063"
      },
      {
       "current": "aa7c2054-96e2-11e9-8e94-02420a010063",
       "next": "f1ec7504-eed7-11e9-a8bb-02420a010068",
       "previous": "22c4e590-eedc-11e9-a8bb-02420a010068"
      }
     ],
     "next": "a7ac41bc-ef19-11e9-b53a-02420a010068",
     "previous": "a7ac3f14-ef19-11e9-b53a-02420a010068"
    }
   },
   "source": [
    "# 条件分岐"
   ]
  },
  {
   "cell_type": "markdown",
   "metadata": {
    "lc_cell_meme": {
     "current": "a7ac41bc-ef19-11e9-b53a-02420a010068",
     "history": [
      {
       "current": "f1ec7504-eed7-11e9-a8bb-02420a010068",
       "next": "aa7c2194-96e2-11e9-8e94-02420a010063",
       "previous": "aa7c2054-96e2-11e9-8e94-02420a010063"
      }
     ],
     "next": "a7ac431a-ef19-11e9-b53a-02420a010068",
     "previous": "a7ac404a-ef19-11e9-b53a-02420a010068"
    }
   },
   "source": [
    "## 分岐の記述方法"
   ]
  },
  {
   "cell_type": "markdown",
   "metadata": {
    "lc_cell_meme": {
     "current": "a7ac431a-ef19-11e9-b53a-02420a010068",
     "history": [
      {
       "current": "cebf3cac-2391-11e9-a9f8-e0d55ea40caf",
       "next": "cebf3cad-2391-11e9-a9f8-e0d55ea40caf",
       "previous": "cebf3cab-2391-11e9-a9f8-e0d55ea40caf"
      },
      {
       "current": "aa7c2194-96e2-11e9-8e94-02420a010063",
       "next": "aa7c22f2-96e2-11e9-8e94-02420a010063",
       "previous": "aa7c2054-96e2-11e9-8e94-02420a010063"
      },
      {
       "current": "aa7c2194-96e2-11e9-8e94-02420a010063",
       "next": "f1ec7766-eed7-11e9-a8bb-02420a010068",
       "previous": "f1ec7504-eed7-11e9-a8bb-02420a010068"
      }
     ],
     "next": "a7ac4450-ef19-11e9-b53a-02420a010068",
     "previous": "a7ac41bc-ef19-11e9-b53a-02420a010068"
    }
   },
   "source": [
    "計算結果などの条件によって処理の流れを変えたい場合、条件分岐のためにif文が使われます。\n",
    "\n",
    "Pythonのif文は次の書式をとります。\n",
    "\n",
    "```\n",
    "if 条件式1:\n",
    "    条件式1が満たされた場合に実行する処理\n",
    "elif 条件式2:\n",
    "    条件式2が満たされた場合に実行する処理\n",
    "else:\n",
    "    それ以外の場合に実行する処理\n",
    "```\n",
    "\n",
    "注意点：\n",
    "\n",
    "- if(イフ）、elif(エルスイフ）、else（エルス）と読みます。\n",
    "- 条件式の後に「:」（コロン）が必要です。\n",
    "- 条件が満たされた場合に実行する処理は段付け（インデント）が必要です。\n",
    "   -  タブキー(TAB)やスペースを用いて、段付けします。\n",
    "- 必要がなければ、elsif やelseの句は省略できます。"
   ]
  },
  {
   "cell_type": "markdown",
   "metadata": {
    "lc_cell_meme": {
     "current": "a7ac4450-ef19-11e9-b53a-02420a010068",
     "history": [
      {
       "current": "f1ec7766-eed7-11e9-a8bb-02420a010068",
       "next": "aa7c22f2-96e2-11e9-8e94-02420a010063",
       "previous": "aa7c2194-96e2-11e9-8e94-02420a010063"
      }
     ],
     "next": "a7ac45ae-ef19-11e9-b53a-02420a010068",
     "previous": "a7ac431a-ef19-11e9-b53a-02420a010068"
    }
   },
   "source": [
    "## 分岐の例"
   ]
  },
  {
   "cell_type": "markdown",
   "metadata": {
    "lc_cell_meme": {
     "current": "a7ac45ae-ef19-11e9-b53a-02420a010068",
     "history": [
      {
       "current": "cebf3cad-2391-11e9-a9f8-e0d55ea40caf",
       "next": "cebf3cae-2391-11e9-a9f8-e0d55ea40caf",
       "previous": "cebf3cac-2391-11e9-a9f8-e0d55ea40caf"
      },
      {
       "current": "cebf3cad-2391-11e9-a9f8-e0d55ea40caf",
       "next": "cebf3caf-2391-11e9-a9f8-e0d55ea40caf",
       "previous": "cebf3cac-2391-11e9-a9f8-e0d55ea40caf"
      },
      {
       "current": "aa7c22f2-96e2-11e9-8e94-02420a010063",
       "next": "aa7c23d8-96e2-11e9-8e94-02420a010063",
       "previous": "aa7c2194-96e2-11e9-8e94-02420a010063"
      },
      {
       "current": "aa7c22f2-96e2-11e9-8e94-02420a010063",
       "next": "aa7c23d8-96e2-11e9-8e94-02420a010063",
       "previous": "f1ec7766-eed7-11e9-a8bb-02420a010068"
      }
     ],
     "next": "a7ac46e4-ef19-11e9-b53a-02420a010068",
     "previous": "a7ac4450-ef19-11e9-b53a-02420a010068"
    }
   },
   "source": [
    "例１：　点数a が60以上の場合に「合格です」と表示するプログラム\n",
    "\n",
    "```\n",
    "s = input (\"点数を入力して下さい \")\n",
    "a = int(s)\n",
    "if a >= 60:\n",
    "    print(\"合格です\")\n",
    "```\n",
    "\n",
    "ヒント：　段付け（インデント）が正しくないとエラーになります。"
   ]
  },
  {
   "cell_type": "markdown",
   "metadata": {
    "lc_cell_meme": {
     "current": "a7ac46e4-ef19-11e9-b53a-02420a010068",
     "history": [
      {
       "current": "cebf3caf-2391-11e9-a9f8-e0d55ea40caf",
       "next": "cebf3cb0-2391-11e9-a9f8-e0d55ea40caf",
       "previous": "cebf3cae-2391-11e9-a9f8-e0d55ea40caf"
      },
      {
       "current": "cebf3caf-2391-11e9-a9f8-e0d55ea40caf",
       "next": "cebf3cb1-2391-11e9-a9f8-e0d55ea40caf",
       "previous": "cebf3cad-2391-11e9-a9f8-e0d55ea40caf"
      },
      {
       "current": "cebf3caf-2391-11e9-a9f8-e0d55ea40caf",
       "next": "306b40fe-96da-11e9-8b94-e0d55ea40caf",
       "previous": "cebf3cad-2391-11e9-a9f8-e0d55ea40caf"
      },
      {
       "current": "aa7c23d8-96e2-11e9-8e94-02420a010063",
       "next": "aa7c2504-96e2-11e9-8e94-02420a010063",
       "previous": "aa7c22f2-96e2-11e9-8e94-02420a010063"
      }
     ],
     "next": "a7ac4842-ef19-11e9-b53a-02420a010068",
     "previous": "a7ac45ae-ef19-11e9-b53a-02420a010068"
    }
   },
   "source": [
    "以下の例では``IndentationError: expected an indented block``というエラーになります。\n",
    "\n",
    "```\n",
    "s = input (\"点数を入力して下さい \")\n",
    "a = int(s)\n",
    "if a >= 60:\n",
    "print(\"合格です\")\n",
    "```\n",
    "\n",
    "以下のセル評価してエラーを確認してください。"
   ]
  },
  {
   "cell_type": "code",
   "execution_count": null,
   "metadata": {
    "lc_cell_meme": {
     "current": "a7ac4842-ef19-11e9-b53a-02420a010068",
     "history": [
      {
       "current": "306b40fe-96da-11e9-8b94-e0d55ea40caf",
       "next": "cebf3cb1-2391-11e9-a9f8-e0d55ea40caf",
       "previous": "cebf3caf-2391-11e9-a9f8-e0d55ea40caf"
      },
      {
       "current": "aa7c2504-96e2-11e9-8e94-02420a010063",
       "next": "aa7c25fe-96e2-11e9-8e94-02420a010063",
       "previous": "aa7c23d8-96e2-11e9-8e94-02420a010063"
      },
      {
       "current": "aa7c2504-96e2-11e9-8e94-02420a010063",
       "next": "39668ab4-eed8-11e9-a8bb-02420a010068",
       "previous": "aa7c23d8-96e2-11e9-8e94-02420a010063"
      },
      {
       "current": "aa7c2504-96e2-11e9-8e94-02420a010063",
       "next": "aa7c2504-96e2-11e9-8e94-02420a010063",
       "previous": "aa7c23d8-96e2-11e9-8e94-02420a010063"
      },
      {
       "current": "aa7c2504-96e2-11e9-8e94-02420a010063",
       "next": "39668ab4-eed8-11e9-a8bb-02420a010068",
       "previous": "aa7c23d8-96e2-11e9-8e94-02420a010063"
      }
     ],
     "next": "a7ac49c8-ef19-11e9-b53a-02420a010068",
     "previous": "a7ac46e4-ef19-11e9-b53a-02420a010068"
    }
   },
   "outputs": [],
   "source": [
    "# 演習用入力欄 （要修正）\n",
    "s = input (\"点数を入力して下さい \")\n",
    "a = int(s)\n",
    "if a >= 60:\n",
    "print(\"合格です\")"
   ]
  },
  {
   "cell_type": "markdown",
   "metadata": {
    "lc_cell_meme": {
     "current": "a7ac49c8-ef19-11e9-b53a-02420a010068",
     "history": [
      {
       "current": "39668ab4-eed8-11e9-a8bb-02420a010068",
       "next": "f1ec7766-eed7-11e9-a8bb-02420a010068",
       "previous": "aa7c2504-96e2-11e9-8e94-02420a010063"
      }
     ],
     "next": "a7ac4b44-ef19-11e9-b53a-02420a010068",
     "previous": "a7ac4842-ef19-11e9-b53a-02420a010068"
    }
   },
   "source": [
    "ヒント：上記のセルはエラーになります。修正してエラーが出なくなるようにしなさい。"
   ]
  },
  {
   "cell_type": "markdown",
   "metadata": {
    "lc_cell_meme": {
     "current": "a7ac4b44-ef19-11e9-b53a-02420a010068",
     "history": [
      {
       "current": "f1ec7766-eed7-11e9-a8bb-02420a010068",
       "next": "aa7c22f2-96e2-11e9-8e94-02420a010063",
       "previous": "aa7c2194-96e2-11e9-8e94-02420a010063"
      },
      {
       "current": "f1ec7766-eed7-11e9-a8bb-02420a010068",
       "next": "aa7c25fe-96e2-11e9-8e94-02420a010063",
       "previous": "39668ab4-eed8-11e9-a8bb-02420a010068"
      }
     ],
     "next": "a7ac4c7a-ef19-11e9-b53a-02420a010068",
     "previous": "a7ac49c8-ef19-11e9-b53a-02420a010068"
    }
   },
   "source": [
    "## 分岐の例2 (else)"
   ]
  },
  {
   "cell_type": "markdown",
   "metadata": {
    "lc_cell_meme": {
     "current": "a7ac4c7a-ef19-11e9-b53a-02420a010068",
     "history": [
      {
       "current": "cebf3cb1-2391-11e9-a9f8-e0d55ea40caf",
       "next": "cebf3cb2-2391-11e9-a9f8-e0d55ea40caf",
       "previous": "cebf3cb0-2391-11e9-a9f8-e0d55ea40caf"
      },
      {
       "current": "cebf3cb1-2391-11e9-a9f8-e0d55ea40caf",
       "next": "cebf3cb3-2391-11e9-a9f8-e0d55ea40caf",
       "previous": "cebf3caf-2391-11e9-a9f8-e0d55ea40caf"
      },
      {
       "current": "cebf3cb1-2391-11e9-a9f8-e0d55ea40caf",
       "next": "709f8a94-2395-11e9-a9f8-e0d55ea40caf",
       "previous": "cebf3caf-2391-11e9-a9f8-e0d55ea40caf"
      },
      {
       "current": "cebf3cb1-2391-11e9-a9f8-e0d55ea40caf",
       "next": "cebf3cb3-2391-11e9-a9f8-e0d55ea40caf",
       "previous": "cebf3caf-2391-11e9-a9f8-e0d55ea40caf"
      },
      {
       "current": "cebf3cb1-2391-11e9-a9f8-e0d55ea40caf",
       "next": "421cab7a-239a-11e9-a9f8-e0d55ea40caf",
       "previous": "cebf3caf-2391-11e9-a9f8-e0d55ea40caf"
      },
      {
       "current": "cebf3cb1-2391-11e9-a9f8-e0d55ea40caf",
       "next": "421cab7a-239a-11e9-a9f8-e0d55ea40caf",
       "previous": "306b40fe-96da-11e9-8b94-e0d55ea40caf"
      },
      {
       "current": "aa7c25fe-96e2-11e9-8e94-02420a010063",
       "next": "aa7c270c-96e2-11e9-8e94-02420a010063",
       "previous": "aa7c2504-96e2-11e9-8e94-02420a010063"
      },
      {
       "current": "aa7c25fe-96e2-11e9-8e94-02420a010063",
       "next": "aa7c270c-96e2-11e9-8e94-02420a010063",
       "previous": "f1ec7766-eed7-11e9-a8bb-02420a010068"
      },
      {
       "current": "aa7c25fe-96e2-11e9-8e94-02420a010063",
       "next": "577cee98-eed9-11e9-a8bb-02420a010068",
       "previous": "f1ec7766-eed7-11e9-a8bb-02420a010068"
      }
     ],
     "next": "a7ac4db0-ef19-11e9-b53a-02420a010068",
     "previous": "a7ac4b44-ef19-11e9-b53a-02420a010068"
    }
   },
   "source": [
    "例２：　点数aが60以上の場合に「合格です」、それ以外の場合に「不合格です」と表示するプログラム\n",
    "\n",
    "```\n",
    "s = input (\"点数を入力して下さい \")\n",
    "a = int(s)\n",
    "if a >= 60:\n",
    "    print(\"合格です\")\n",
    "else:\n",
    "    print(\"不合格です\")\n",
    "```"
   ]
  },
  {
   "cell_type": "markdown",
   "metadata": {
    "lc_cell_meme": {
     "current": "a7ac4db0-ef19-11e9-b53a-02420a010068",
     "history": [
      {
       "current": "577cee98-eed9-11e9-a8bb-02420a010068",
       "next": "aa7c270c-96e2-11e9-8e94-02420a010063",
       "previous": "aa7c25fe-96e2-11e9-8e94-02420a010063"
      }
     ],
     "next": "a7ac4f18-ef19-11e9-b53a-02420a010068",
     "previous": "a7ac4c7a-ef19-11e9-b53a-02420a010068"
    }
   },
   "source": [
    "ヒント：\n",
    "上記の入力部分は以下のように書いても同じです。\n",
    "\n",
    "```\n",
    "a = int(input (\"点数を入力して下さい \"))\n",
    "```"
   ]
  },
  {
   "cell_type": "markdown",
   "metadata": {
    "lc_cell_meme": {
     "current": "a7ac4f18-ef19-11e9-b53a-02420a010068",
     "history": [
      {
       "current": "421cab7a-239a-11e9-a9f8-e0d55ea40caf",
       "next": "421cab7b-239a-11e9-a9f8-e0d55ea40caf",
       "previous": "cebf3cb1-2391-11e9-a9f8-e0d55ea40caf"
      },
      {
       "current": "aa7c270c-96e2-11e9-8e94-02420a010063",
       "next": "aa7c2810-96e2-11e9-8e94-02420a010063",
       "previous": "aa7c25fe-96e2-11e9-8e94-02420a010063"
      },
      {
       "current": "aa7c270c-96e2-11e9-8e94-02420a010063",
       "next": "aa7c2810-96e2-11e9-8e94-02420a010063",
       "previous": "577cee98-eed9-11e9-a8bb-02420a010068"
      },
      {
       "current": "aa7c270c-96e2-11e9-8e94-02420a010063",
       "next": "04a4c46e-eedb-11e9-a8bb-02420a010068",
       "previous": "577cee98-eed9-11e9-a8bb-02420a010068"
      }
     ],
     "next": "a7ac504e-ef19-11e9-b53a-02420a010068",
     "previous": "a7ac4db0-ef19-11e9-b53a-02420a010068"
    }
   },
   "source": [
    "演習：次のセルで、点数aを入力し65点以上の場合に「合格です」、それ以外の場合に「不合格です」と表示するプログラムを作成しなさい"
   ]
  },
  {
   "cell_type": "code",
   "execution_count": null,
   "metadata": {
    "lc_cell_meme": {
     "current": "a7ac504e-ef19-11e9-b53a-02420a010068",
     "history": [
      {
       "current": "04a4c46e-eedb-11e9-a8bb-02420a010068",
       "next": "aa7c2810-96e2-11e9-8e94-02420a010063",
       "previous": "aa7c270c-96e2-11e9-8e94-02420a010063"
      },
      {
       "current": "04a4c46e-eedb-11e9-a8bb-02420a010068",
       "next": "aa7c28ce-96e2-11e9-8e94-02420a010063",
       "previous": "aa7c270c-96e2-11e9-8e94-02420a010063"
      }
     ],
     "next": "a7ac51d4-ef19-11e9-b53a-02420a010068",
     "previous": "a7ac4f18-ef19-11e9-b53a-02420a010068"
    }
   },
   "outputs": [],
   "source": [
    "# 演習用入力欄\n"
   ]
  },
  {
   "cell_type": "markdown",
   "metadata": {
    "lc_cell_meme": {
     "current": "a7ac51d4-ef19-11e9-b53a-02420a010068",
     "history": [
      {
       "current": "77f28590-96da-11e9-8b94-e0d55ea40caf",
       "next": "cebf3cb3-2391-11e9-a9f8-e0d55ea40caf",
       "previous": "421cab7b-239a-11e9-a9f8-e0d55ea40caf"
      },
      {
       "current": "aa7c28ce-96e2-11e9-8e94-02420a010063",
       "next": "aa7c2b58-96e2-11e9-8e94-02420a010063",
       "previous": "aa7c2810-96e2-11e9-8e94-02420a010063"
      },
      {
       "current": "aa7c28ce-96e2-11e9-8e94-02420a010063",
       "next": "80ec871c-eed8-11e9-a8bb-02420a010068",
       "previous": "aa7c2810-96e2-11e9-8e94-02420a010063"
      },
      {
       "current": "aa7c28ce-96e2-11e9-8e94-02420a010063",
       "next": "80ec871c-eed8-11e9-a8bb-02420a010068",
       "previous": "04a4c46e-eedb-11e9-a8bb-02420a010068"
      }
     ],
     "next": "a7ac5300-ef19-11e9-b53a-02420a010068",
     "previous": "a7ac504e-ef19-11e9-b53a-02420a010068"
    },
    "lc_wrapper": {
     "log_history": [
      "/home/kuwata/notebooks/.log/20190625/20190625-084841-0687.log"
     ]
    }
   },
   "source": [
    "ヒント：input文で、50点、80点を入力し、期待通りの表示が出るか確認しなさい。"
   ]
  },
  {
   "cell_type": "markdown",
   "metadata": {
    "lc_cell_meme": {
     "current": "a7ac5300-ef19-11e9-b53a-02420a010068",
     "history": [
      {
       "current": "80ec871c-eed8-11e9-a8bb-02420a010068",
       "next": "aa7c2b58-96e2-11e9-8e94-02420a010063",
       "previous": "aa7c28ce-96e2-11e9-8e94-02420a010063"
      }
     ],
     "next": "a7ac545e-ef19-11e9-b53a-02420a010068",
     "previous": "a7ac51d4-ef19-11e9-b53a-02420a010068"
    }
   },
   "source": [
    "## 分岐の例3 (elif)"
   ]
  },
  {
   "cell_type": "markdown",
   "metadata": {
    "lc_cell_meme": {
     "current": "a7ac545e-ef19-11e9-b53a-02420a010068",
     "history": [
      {
       "current": "cebf3cb3-2391-11e9-a9f8-e0d55ea40caf",
       "next": "cebf3cb4-2391-11e9-a9f8-e0d55ea40caf",
       "previous": "cebf3cb2-2391-11e9-a9f8-e0d55ea40caf"
      },
      {
       "current": "cebf3cb3-2391-11e9-a9f8-e0d55ea40caf",
       "next": "cebf3cb4-2391-11e9-a9f8-e0d55ea40caf",
       "previous": "cebf3cb1-2391-11e9-a9f8-e0d55ea40caf"
      },
      {
       "current": "cebf3cb3-2391-11e9-a9f8-e0d55ea40caf",
       "next": "cebf3cb5-2391-11e9-a9f8-e0d55ea40caf",
       "previous": "cebf3cb1-2391-11e9-a9f8-e0d55ea40caf"
      },
      {
       "current": "cebf3cb3-2391-11e9-a9f8-e0d55ea40caf",
       "next": "cebf3cb5-2391-11e9-a9f8-e0d55ea40caf",
       "previous": "709f8a94-2395-11e9-a9f8-e0d55ea40caf"
      },
      {
       "current": "cebf3cb3-2391-11e9-a9f8-e0d55ea40caf",
       "next": "cebf3cb5-2391-11e9-a9f8-e0d55ea40caf",
       "previous": "cebf3cb1-2391-11e9-a9f8-e0d55ea40caf"
      },
      {
       "current": "cebf3cb3-2391-11e9-a9f8-e0d55ea40caf",
       "next": "cebf3cb5-2391-11e9-a9f8-e0d55ea40caf",
       "previous": "421cab7b-239a-11e9-a9f8-e0d55ea40caf"
      },
      {
       "current": "cebf3cb3-2391-11e9-a9f8-e0d55ea40caf",
       "next": "cebf3cb5-2391-11e9-a9f8-e0d55ea40caf",
       "previous": "77f28590-96da-11e9-8b94-e0d55ea40caf"
      },
      {
       "current": "cebf3cb3-2391-11e9-a9f8-e0d55ea40caf",
       "next": "0701b9a4-96db-11e9-8b94-e0d55ea40caf",
       "previous": "77f28590-96da-11e9-8b94-e0d55ea40caf"
      },
      {
       "current": "aa7c2b58-96e2-11e9-8e94-02420a010063",
       "next": "aa7c2c52-96e2-11e9-8e94-02420a010063",
       "previous": "aa7c28ce-96e2-11e9-8e94-02420a010063"
      },
      {
       "current": "aa7c2b58-96e2-11e9-8e94-02420a010063",
       "next": "aa7c2c52-96e2-11e9-8e94-02420a010063",
       "previous": "80ec871c-eed8-11e9-a8bb-02420a010068"
      }
     ],
     "next": "a7ac5710-ef19-11e9-b53a-02420a010068",
     "previous": "a7ac5300-ef19-11e9-b53a-02420a010068"
    }
   },
   "source": [
    "演習：次のセルで、???を埋めて以下のプログラムを完成しなさい。\n",
    "- 点数aが60より大きい場合に「合格です」と表示\n",
    "- 60点の場合、「ボーダーライン」と表示\n",
    "- それ以外の場合に「不合格です」と表示"
   ]
  },
  {
   "cell_type": "code",
   "execution_count": null,
   "metadata": {
    "lc_cell_meme": {
     "current": "a7ac5710-ef19-11e9-b53a-02420a010068",
     "history": [
      {
       "current": "0701b9a4-96db-11e9-8b94-e0d55ea40caf",
       "next": "cebf3cb5-2391-11e9-a9f8-e0d55ea40caf",
       "previous": "cebf3cb3-2391-11e9-a9f8-e0d55ea40caf"
      },
      {
       "current": "aa7c2c52-96e2-11e9-8e94-02420a010063",
       "next": "aa7c2e6e-96e2-11e9-8e94-02420a010063",
       "previous": "aa7c2b58-96e2-11e9-8e94-02420a010063"
      },
      {
       "current": "aa7c2c52-96e2-11e9-8e94-02420a010063",
       "next": "aa7c2c52-96e2-11e9-8e94-02420a010063",
       "previous": "aa7c2b58-96e2-11e9-8e94-02420a010063"
      },
      {
       "current": "aa7c2c52-96e2-11e9-8e94-02420a010063",
       "next": "aa7c2e6e-96e2-11e9-8e94-02420a010063",
       "previous": "aa7c2b58-96e2-11e9-8e94-02420a010063"
      }
     ],
     "next": "a7ac58be-ef19-11e9-b53a-02420a010068",
     "previous": "a7ac545e-ef19-11e9-b53a-02420a010068"
    }
   },
   "outputs": [],
   "source": [
    "# 演習用入力欄 （要修正）\n",
    "a = int(input (\"点数を入力して下さい \"))\n",
    "\n",
    "???\n",
    "    print(\"合格です\")\n",
    "???\n",
    "    print(\"60点ボーラーライン\")\n",
    "???\n",
    "    print(\"60点未満で不合格です\")"
   ]
  },
  {
   "cell_type": "markdown",
   "metadata": {
    "lc_cell_meme": {
     "current": "a7ac58be-ef19-11e9-b53a-02420a010068",
     "history": [
      {
       "current": "cebf3cb5-2391-11e9-a9f8-e0d55ea40caf",
       "next": "cebf3cb6-2391-11e9-a9f8-e0d55ea40caf",
       "previous": "cebf3cb4-2391-11e9-a9f8-e0d55ea40caf"
      },
      {
       "current": "cebf3cb5-2391-11e9-a9f8-e0d55ea40caf",
       "next": "cebf3cb6-2391-11e9-a9f8-e0d55ea40caf",
       "previous": "cebf3cb3-2391-11e9-a9f8-e0d55ea40caf"
      },
      {
       "current": "cebf3cb5-2391-11e9-a9f8-e0d55ea40caf",
       "next": "cebf3cb6-2391-11e9-a9f8-e0d55ea40caf",
       "previous": "0701b9a4-96db-11e9-8b94-e0d55ea40caf"
      },
      {
       "current": "aa7c2e6e-96e2-11e9-8e94-02420a010063",
       "next": "aa7c2f90-96e2-11e9-8e94-02420a010063",
       "previous": "aa7c2c52-96e2-11e9-8e94-02420a010063"
      }
     ],
     "next": "a7ac5a08-ef19-11e9-b53a-02420a010068",
     "previous": "a7ac5710-ef19-11e9-b53a-02420a010068"
    }
   },
   "source": [
    "演習：　以下のセルで、???を埋めて、「変数yにinput()で生年を入力し、２０世紀生まれかどうか判断するプログラム」を完成しなさい。\n",
    "\n",
    "- ２０世紀生まれの場合、「20世紀生まれ」と表示しなさい。\n",
    "- それ以外の場合、「21世紀生まれ」と表示しなさい。\n"
   ]
  },
  {
   "cell_type": "code",
   "execution_count": null,
   "metadata": {
    "lc_cell_meme": {
     "current": "a7ac5a08-ef19-11e9-b53a-02420a010068",
     "history": [
      {
       "current": "cebf3cb6-2391-11e9-a9f8-e0d55ea40caf",
       "next": "cebf3cb7-2391-11e9-a9f8-e0d55ea40caf",
       "previous": "cebf3cb5-2391-11e9-a9f8-e0d55ea40caf"
      },
      {
       "current": "aa7c2f90-96e2-11e9-8e94-02420a010063",
       "next": "aa7c30bc-96e2-11e9-8e94-02420a010063",
       "previous": "aa7c2e6e-96e2-11e9-8e94-02420a010063"
      },
      {
       "current": "aa7c2f90-96e2-11e9-8e94-02420a010063",
       "next": "aa7c2f90-96e2-11e9-8e94-02420a010063",
       "previous": "aa7c2e6e-96e2-11e9-8e94-02420a010063"
      },
      {
       "current": "aa7c2f90-96e2-11e9-8e94-02420a010063",
       "next": "aa7c30bc-96e2-11e9-8e94-02420a010063",
       "previous": "aa7c2e6e-96e2-11e9-8e94-02420a010063"
      }
     ],
     "next": "a7ac5b84-ef19-11e9-b53a-02420a010068",
     "previous": "a7ac58be-ef19-11e9-b53a-02420a010068"
    }
   },
   "outputs": [],
   "source": [
    "# 演習用入力欄 （要修正）\n",
    "y = int(input (\"生年を入力して下さい \"))\n",
    "\n",
    "???\n",
    "    print(\"20世紀生まれ\")\n",
    "???\n",
    "    print(\"21世紀生まれ\")"
   ]
  },
  {
   "cell_type": "markdown",
   "metadata": {
    "lc_cell_meme": {
     "current": "a7ac5b84-ef19-11e9-b53a-02420a010068",
     "history": [
      {
       "current": "cebf3cb7-2391-11e9-a9f8-e0d55ea40caf",
       "next": "cebf3cb8-2391-11e9-a9f8-e0d55ea40caf",
       "previous": "cebf3cb6-2391-11e9-a9f8-e0d55ea40caf"
      },
      {
       "current": "cebf3cb7-2391-11e9-a9f8-e0d55ea40caf",
       "next": "709f8a94-2395-11e9-a9f8-e0d55ea40caf",
       "previous": "cebf3cb6-2391-11e9-a9f8-e0d55ea40caf"
      },
      {
       "current": "aa7c30bc-96e2-11e9-8e94-02420a010063",
       "next": "aa7c321a-96e2-11e9-8e94-02420a010063",
       "previous": "aa7c2f90-96e2-11e9-8e94-02420a010063"
      }
     ],
     "next": "a7ac5d00-ef19-11e9-b53a-02420a010068",
     "previous": "a7ac5a08-ef19-11e9-b53a-02420a010068"
    }
   },
   "source": [
    "ヒント：　20世紀は2000年までです。"
   ]
  },
  {
   "cell_type": "markdown",
   "metadata": {
    "lc_cell_meme": {
     "current": "a7ac5d00-ef19-11e9-b53a-02420a010068",
     "history": [
      {
       "current": "709f8a94-2395-11e9-a9f8-e0d55ea40caf",
       "next": "cebf3cb3-2391-11e9-a9f8-e0d55ea40caf",
       "previous": "cebf3cb1-2391-11e9-a9f8-e0d55ea40caf"
      },
      {
       "current": "709f8a94-2395-11e9-a9f8-e0d55ea40caf",
       "next": "cebf3cb8-2391-11e9-a9f8-e0d55ea40caf",
       "previous": "cebf3cb7-2391-11e9-a9f8-e0d55ea40caf"
      },
      {
       "current": "709f8a94-2395-11e9-a9f8-e0d55ea40caf",
       "next": "1dcbd014-2397-11e9-a9f8-e0d55ea40caf",
       "previous": "cebf3cb7-2391-11e9-a9f8-e0d55ea40caf"
      },
      {
       "current": "aa7c321a-96e2-11e9-8e94-02420a010063",
       "next": "aa7c336e-96e2-11e9-8e94-02420a010063",
       "previous": "aa7c30bc-96e2-11e9-8e94-02420a010063"
      },
      {
       "current": "aa7c321a-96e2-11e9-8e94-02420a010063",
       "next": "b1cd4700-eedc-11e9-a8bb-02420a010068",
       "previous": "aa7c30bc-96e2-11e9-8e94-02420a010063"
      }
     ],
     "next": "a7ac5ef4-ef19-11e9-b53a-02420a010068",
     "previous": "a7ac5b84-ef19-11e9-b53a-02420a010068"
    }
   },
   "source": [
    "演習：次のセルで、実数を２つ（２回）入力して、それぞれ、a,bに代入し、aとbの合計をprint()で表示するプログラムを作成しなさい。"
   ]
  },
  {
   "cell_type": "code",
   "execution_count": null,
   "metadata": {
    "lc_cell_meme": {
     "current": "a7ac5ef4-ef19-11e9-b53a-02420a010068",
     "history": [
      {
       "current": "b1cd4700-eedc-11e9-a8bb-02420a010068",
       "next": "aa7c336e-96e2-11e9-8e94-02420a010063",
       "previous": "aa7c321a-96e2-11e9-8e94-02420a010063"
      },
      {
       "current": "b1cd4700-eedc-11e9-a8bb-02420a010068",
       "next": "aa7c34b8-96e2-11e9-8e94-02420a010063",
       "previous": "aa7c321a-96e2-11e9-8e94-02420a010063"
      }
     ],
     "next": "a7ac607a-ef19-11e9-b53a-02420a010068",
     "previous": "a7ac5d00-ef19-11e9-b53a-02420a010068"
    }
   },
   "outputs": [],
   "source": [
    "# 演習用入力欄\n"
   ]
  },
  {
   "cell_type": "markdown",
   "metadata": {
    "lc_cell_meme": {
     "current": "a7ac607a-ef19-11e9-b53a-02420a010068",
     "history": [
      {
       "current": "cebf3cb8-2391-11e9-a9f8-e0d55ea40caf",
       "next": "cebf3cb9-2391-11e9-a9f8-e0d55ea40caf",
       "previous": "cebf3cb7-2391-11e9-a9f8-e0d55ea40caf"
      },
      {
       "current": "cebf3cb8-2391-11e9-a9f8-e0d55ea40caf",
       "next": "cebf3cb9-2391-11e9-a9f8-e0d55ea40caf",
       "previous": "709f8a94-2395-11e9-a9f8-e0d55ea40caf"
      },
      {
       "current": "cebf3cb8-2391-11e9-a9f8-e0d55ea40caf",
       "next": "cebf3cb9-2391-11e9-a9f8-e0d55ea40caf",
       "previous": "1dcbd014-2397-11e9-a9f8-e0d55ea40caf"
      },
      {
       "current": "aa7c34b8-96e2-11e9-8e94-02420a010063",
       "next": "aa7c35bc-96e2-11e9-8e94-02420a010063",
       "previous": "aa7c336e-96e2-11e9-8e94-02420a010063"
      },
      {
       "current": "aa7c34b8-96e2-11e9-8e94-02420a010063",
       "next": "aa7c35bc-96e2-11e9-8e94-02420a010063",
       "previous": "b1cd4700-eedc-11e9-a8bb-02420a010068"
      }
     ],
     "next": "a7ac630e-ef19-11e9-b53a-02420a010068",
     "previous": "a7ac5ef4-ef19-11e9-b53a-02420a010068"
    }
   },
   "source": [
    "## 条件式の書き方"
   ]
  },
  {
   "cell_type": "markdown",
   "metadata": {
    "lc_cell_meme": {
     "current": "a7ac630e-ef19-11e9-b53a-02420a010068",
     "history": [
      {
       "current": "cebf3cb9-2391-11e9-a9f8-e0d55ea40caf",
       "next": "cebf3cba-2391-11e9-a9f8-e0d55ea40caf",
       "previous": "cebf3cb8-2391-11e9-a9f8-e0d55ea40caf"
      },
      {
       "current": "aa7c35bc-96e2-11e9-8e94-02420a010063",
       "next": "aa7c367a-96e2-11e9-8e94-02420a010063",
       "previous": "aa7c34b8-96e2-11e9-8e94-02420a010063"
      }
     ],
     "next": "a7ac6476-ef19-11e9-b53a-02420a010068",
     "previous": "a7ac607a-ef19-11e9-b53a-02420a010068"
    }
   },
   "source": [
    "if 文の条件式には、比較演算子を記述しています。\n",
    "\n",
    "数値の比較では、以下の条件式が用いられます。\n",
    "\n",
    "| 比較演算子 | 例 | 意味 | 備考 |\n",
    "|:--: | :--: | :--: | :-- |\n",
    "| > | a > b | a がb より大きい ||\n",
    "| < | a < b | a がb より小さい ||\n",
    "| >= | a >= b | a がb 以上||\n",
    "| <= | a <= b | a がb 以下||\n",
    "| == | a == b | a とb が等しい| イコールを２つ記述すること |\n",
    "| != | a != b | a と bが等しくない| エクスクラメーションマーク(!) + イコール(=)|\n",
    "\n",
    "どの演算子でも、真の場合には「True」が、偽の場合には「False」が返ります。"
   ]
  },
  {
   "cell_type": "markdown",
   "metadata": {
    "collapsed": true,
    "lc_cell_meme": {
     "current": "a7ac6476-ef19-11e9-b53a-02420a010068",
     "history": [
      {
       "current": "cebf3cba-2391-11e9-a9f8-e0d55ea40caf",
       "next": "cebf3cbb-2391-11e9-a9f8-e0d55ea40caf",
       "previous": "cebf3cb9-2391-11e9-a9f8-e0d55ea40caf"
      },
      {
       "current": "aa7c367a-96e2-11e9-8e94-02420a010063",
       "next": "aa7c3738-96e2-11e9-8e94-02420a010063",
       "previous": "aa7c35bc-96e2-11e9-8e94-02420a010063"
      },
      {
       "current": "aa7c367a-96e2-11e9-8e94-02420a010063",
       "next": "2e10a38c-eeda-11e9-a8bb-02420a010068",
       "previous": "aa7c35bc-96e2-11e9-8e94-02420a010063"
      }
     ],
     "next": "a7ac65a2-ef19-11e9-b53a-02420a010068",
     "previous": "a7ac630e-ef19-11e9-b53a-02420a010068"
    }
   },
   "source": [
    "例：　数値の比較式の例\n",
    "\n",
    "```\n",
    "1 > 3\n",
    "```\n",
    "Falseになります。\n",
    "\n",
    "```\n",
    "55.5 > 3.33\n",
    "```\n",
    "Trueになります。\n",
    "\n",
    "```\n",
    "3 == 3.0\n",
    "```\n",
    "Trueになります。（整数と実数の違いがありますが、値は同じため）\n",
    "```\n",
    "3 != 3.0\n",
    "```\n",
    "Flaseになります。"
   ]
  },
  {
   "cell_type": "markdown",
   "metadata": {
    "lc_cell_meme": {
     "current": "a7ac65a2-ef19-11e9-b53a-02420a010068",
     "history": [
      {
       "current": "2e10a38c-eeda-11e9-a8bb-02420a010068",
       "next": "aa7c3738-96e2-11e9-8e94-02420a010063",
       "previous": "aa7c367a-96e2-11e9-8e94-02420a010063"
      }
     ],
     "next": "a7ac66e2-ef19-11e9-b53a-02420a010068",
     "previous": "a7ac6476-ef19-11e9-b53a-02420a010068"
    }
   },
   "source": [
    "## 比較演算子"
   ]
  },
  {
   "cell_type": "markdown",
   "metadata": {
    "lc_cell_meme": {
     "current": "a7ac66e2-ef19-11e9-b53a-02420a010068",
     "history": [
      {
       "current": "cebf3cbb-2391-11e9-a9f8-e0d55ea40caf",
       "next": "cebf3cbc-2391-11e9-a9f8-e0d55ea40caf",
       "previous": "cebf3cba-2391-11e9-a9f8-e0d55ea40caf"
      },
      {
       "current": "cebf3cbb-2391-11e9-a9f8-e0d55ea40caf",
       "next": "cebf3cbb-2391-11e9-a9f8-e0d55ea40caf",
       "previous": "cebf3cba-2391-11e9-a9f8-e0d55ea40caf"
      },
      {
       "current": "aa7c3738-96e2-11e9-8e94-02420a010063",
       "next": "aa7c3850-96e2-11e9-8e94-02420a010063",
       "previous": "aa7c367a-96e2-11e9-8e94-02420a010063"
      },
      {
       "current": "aa7c3738-96e2-11e9-8e94-02420a010063",
       "next": "aa7c3850-96e2-11e9-8e94-02420a010063",
       "previous": "2e10a38c-eeda-11e9-a8bb-02420a010068"
      }
     ],
     "next": "a7ac680e-ef19-11e9-b53a-02420a010068",
     "previous": "a7ac65a2-ef19-11e9-b53a-02420a010068"
    }
   },
   "source": [
    "演習：以下のセルで、次の式の値を求めなさい\n",
    "```\n",
    "1 > 3\n",
    "```"
   ]
  },
  {
   "cell_type": "code",
   "execution_count": null,
   "metadata": {
    "lc_cell_meme": {
     "current": "a7ac680e-ef19-11e9-b53a-02420a010068",
     "history": [
      {
       "current": "cebf3cbb-2391-11e9-a9f8-e0d55ea40caf",
       "next": "cebf3cbc-2391-11e9-a9f8-e0d55ea40caf",
       "previous": "cebf3cba-2391-11e9-a9f8-e0d55ea40caf"
      },
      {
       "current": "cebf3cbb-2391-11e9-a9f8-e0d55ea40caf",
       "next": "cebf3cbc-2391-11e9-a9f8-e0d55ea40caf",
       "previous": "cebf3cbb-2391-11e9-a9f8-e0d55ea40caf"
      },
      {
       "current": "aa7c3850-96e2-11e9-8e94-02420a010063",
       "next": "aa7c394a-96e2-11e9-8e94-02420a010063",
       "previous": "aa7c3738-96e2-11e9-8e94-02420a010063"
      },
      {
       "current": "aa7c3850-96e2-11e9-8e94-02420a010063",
       "next": "93b062b2-eedb-11e9-a8bb-02420a010068",
       "previous": "aa7c3738-96e2-11e9-8e94-02420a010063"
      },
      {
       "current": "aa7c3850-96e2-11e9-8e94-02420a010063",
       "next": "aa7c394a-96e2-11e9-8e94-02420a010063",
       "previous": "aa7c3738-96e2-11e9-8e94-02420a010063"
      }
     ],
     "next": "a7ac698a-ef19-11e9-b53a-02420a010068",
     "previous": "a7ac66e2-ef19-11e9-b53a-02420a010068"
    }
   },
   "outputs": [],
   "source": [
    "# 演習用入力欄\n"
   ]
  },
  {
   "cell_type": "markdown",
   "metadata": {
    "lc_cell_meme": {
     "current": "a7ac698a-ef19-11e9-b53a-02420a010068",
     "history": [
      {
       "current": "cebf3cbc-2391-11e9-a9f8-e0d55ea40caf",
       "next": "cebf3cbd-2391-11e9-a9f8-e0d55ea40caf",
       "previous": "cebf3cbb-2391-11e9-a9f8-e0d55ea40caf"
      },
      {
       "current": "cebf3cbc-2391-11e9-a9f8-e0d55ea40caf",
       "next": "cebf3cbc-2391-11e9-a9f8-e0d55ea40caf",
       "previous": "cebf3cbb-2391-11e9-a9f8-e0d55ea40caf"
      },
      {
       "current": "cebf3cbc-2391-11e9-a9f8-e0d55ea40caf",
       "next": "8ebdea10-2396-11e9-a9f8-e0d55ea40caf",
       "previous": "cebf3cbb-2391-11e9-a9f8-e0d55ea40caf"
      },
      {
       "current": "aa7c394a-96e2-11e9-8e94-02420a010063",
       "next": "aa7c3a08-96e2-11e9-8e94-02420a010063",
       "previous": "aa7c3850-96e2-11e9-8e94-02420a010063"
      },
      {
       "current": "aa7c394a-96e2-11e9-8e94-02420a010063",
       "next": "aa7c3a08-96e2-11e9-8e94-02420a010063",
       "previous": "93b062b2-eedb-11e9-a8bb-02420a010068"
      },
      {
       "current": "aa7c394a-96e2-11e9-8e94-02420a010063",
       "next": "aa7c3a08-96e2-11e9-8e94-02420a010063",
       "previous": "aa7c3850-96e2-11e9-8e94-02420a010063"
      }
     ],
     "next": "a7ac6ac0-ef19-11e9-b53a-02420a010068",
     "previous": "a7ac680e-ef19-11e9-b53a-02420a010068"
    }
   },
   "source": [
    "演習：以下のセルで、次の式の値を求めなさい\n",
    "```\n",
    "55.5 > 3.33\n",
    "```"
   ]
  },
  {
   "cell_type": "code",
   "execution_count": null,
   "metadata": {
    "lc_cell_meme": {
     "current": "a7ac6ac0-ef19-11e9-b53a-02420a010068",
     "history": [
      {
       "current": "8ebdea10-2396-11e9-a9f8-e0d55ea40caf",
       "next": "cebf3cbc-2391-11e9-a9f8-e0d55ea40caf",
       "previous": "cebf3cbc-2391-11e9-a9f8-e0d55ea40caf"
      },
      {
       "current": "aa7c3a08-96e2-11e9-8e94-02420a010063",
       "next": "aa7c3ac6-96e2-11e9-8e94-02420a010063",
       "previous": "aa7c394a-96e2-11e9-8e94-02420a010063"
      },
      {
       "current": "aa7c3a08-96e2-11e9-8e94-02420a010063",
       "next": "93b065a0-eedb-11e9-a8bb-02420a010068",
       "previous": "aa7c394a-96e2-11e9-8e94-02420a010063"
      },
      {
       "current": "aa7c3a08-96e2-11e9-8e94-02420a010063",
       "next": "aa7c3ac6-96e2-11e9-8e94-02420a010063",
       "previous": "aa7c394a-96e2-11e9-8e94-02420a010063"
      }
     ],
     "next": "a7ac6c1e-ef19-11e9-b53a-02420a010068",
     "previous": "a7ac698a-ef19-11e9-b53a-02420a010068"
    }
   },
   "outputs": [],
   "source": [
    "# 演習用入力欄\n"
   ]
  },
  {
   "cell_type": "markdown",
   "metadata": {
    "lc_cell_meme": {
     "current": "a7ac6c1e-ef19-11e9-b53a-02420a010068",
     "history": [
      {
       "current": "cebf3cbc-2391-11e9-a9f8-e0d55ea40caf",
       "next": "cebf3cbd-2391-11e9-a9f8-e0d55ea40caf",
       "previous": "cebf3cbb-2391-11e9-a9f8-e0d55ea40caf"
      },
      {
       "current": "cebf3cbc-2391-11e9-a9f8-e0d55ea40caf",
       "next": "cebf3cbd-2391-11e9-a9f8-e0d55ea40caf",
       "previous": "cebf3cbc-2391-11e9-a9f8-e0d55ea40caf"
      },
      {
       "current": "cebf3cbc-2391-11e9-a9f8-e0d55ea40caf",
       "next": "cebf3cbc-2391-11e9-a9f8-e0d55ea40caf",
       "previous": "8ebdea10-2396-11e9-a9f8-e0d55ea40caf"
      },
      {
       "current": "aa7c3ac6-96e2-11e9-8e94-02420a010063",
       "next": "aa7c3b84-96e2-11e9-8e94-02420a010063",
       "previous": "aa7c3a08-96e2-11e9-8e94-02420a010063"
      },
      {
       "current": "aa7c3ac6-96e2-11e9-8e94-02420a010063",
       "next": "aa7c3b84-96e2-11e9-8e94-02420a010063",
       "previous": "93b065a0-eedb-11e9-a8bb-02420a010068"
      },
      {
       "current": "aa7c3ac6-96e2-11e9-8e94-02420a010063",
       "next": "aa7c3b84-96e2-11e9-8e94-02420a010063",
       "previous": "aa7c3a08-96e2-11e9-8e94-02420a010063"
      }
     ],
     "next": "a7ac6d4a-ef19-11e9-b53a-02420a010068",
     "previous": "a7ac6ac0-ef19-11e9-b53a-02420a010068"
    }
   },
   "source": [
    "演習：以下のセルで、次の式の値を求めなさい。\n",
    "```\n",
    "13.5 >= -333.3\n",
    "```"
   ]
  },
  {
   "cell_type": "code",
   "execution_count": null,
   "metadata": {
    "lc_cell_meme": {
     "current": "a7ac6d4a-ef19-11e9-b53a-02420a010068",
     "history": [
      {
       "current": "cebf3cbc-2391-11e9-a9f8-e0d55ea40caf",
       "next": "cebf3cbd-2391-11e9-a9f8-e0d55ea40caf",
       "previous": "cebf3cbb-2391-11e9-a9f8-e0d55ea40caf"
      },
      {
       "current": "cebf3cbc-2391-11e9-a9f8-e0d55ea40caf",
       "next": "cebf3cbd-2391-11e9-a9f8-e0d55ea40caf",
       "previous": "cebf3cbc-2391-11e9-a9f8-e0d55ea40caf"
      },
      {
       "current": "aa7c3b84-96e2-11e9-8e94-02420a010063",
       "next": "aa7c3c42-96e2-11e9-8e94-02420a010063",
       "previous": "aa7c3ac6-96e2-11e9-8e94-02420a010063"
      },
      {
       "current": "aa7c3b84-96e2-11e9-8e94-02420a010063",
       "next": "93b0679e-eedb-11e9-a8bb-02420a010068",
       "previous": "aa7c3ac6-96e2-11e9-8e94-02420a010063"
      },
      {
       "current": "aa7c3b84-96e2-11e9-8e94-02420a010063",
       "next": "aa7c3c42-96e2-11e9-8e94-02420a010063",
       "previous": "aa7c3ac6-96e2-11e9-8e94-02420a010063"
      }
     ],
     "next": "a7ac6eb2-ef19-11e9-b53a-02420a010068",
     "previous": "a7ac6c1e-ef19-11e9-b53a-02420a010068"
    }
   },
   "outputs": [],
   "source": [
    "# 演習用入力欄\n"
   ]
  },
  {
   "cell_type": "markdown",
   "metadata": {
    "lc_cell_meme": {
     "current": "a7ac6eb2-ef19-11e9-b53a-02420a010068",
     "history": [
      {
       "current": "cebf3cbd-2391-11e9-a9f8-e0d55ea40caf",
       "next": "cebf3cbe-2391-11e9-a9f8-e0d55ea40caf",
       "previous": "cebf3cbc-2391-11e9-a9f8-e0d55ea40caf"
      },
      {
       "current": "cebf3cbd-2391-11e9-a9f8-e0d55ea40caf",
       "next": "cebf3cbd-2391-11e9-a9f8-e0d55ea40caf",
       "previous": "cebf3cbc-2391-11e9-a9f8-e0d55ea40caf"
      },
      {
       "current": "aa7c3c42-96e2-11e9-8e94-02420a010063",
       "next": "aa7c3d5a-96e2-11e9-8e94-02420a010063",
       "previous": "aa7c3b84-96e2-11e9-8e94-02420a010063"
      },
      {
       "current": "aa7c3c42-96e2-11e9-8e94-02420a010063",
       "next": "aa7c3d5a-96e2-11e9-8e94-02420a010063",
       "previous": "93b0679e-eedb-11e9-a8bb-02420a010068"
      },
      {
       "current": "aa7c3c42-96e2-11e9-8e94-02420a010063",
       "next": "aa7c3d5a-96e2-11e9-8e94-02420a010063",
       "previous": "aa7c3b84-96e2-11e9-8e94-02420a010063"
      }
     ],
     "next": "a7ac6fe8-ef19-11e9-b53a-02420a010068",
     "previous": "a7ac6d4a-ef19-11e9-b53a-02420a010068"
    }
   },
   "source": [
    "演習：以下のセルで、次の式の値を求めなさい\n",
    "```\n",
    "3 == 2 + 1\n",
    "```"
   ]
  },
  {
   "cell_type": "code",
   "execution_count": null,
   "metadata": {
    "lc_cell_meme": {
     "current": "a7ac6fe8-ef19-11e9-b53a-02420a010068",
     "history": [
      {
       "current": "cebf3cbd-2391-11e9-a9f8-e0d55ea40caf",
       "next": "cebf3cbe-2391-11e9-a9f8-e0d55ea40caf",
       "previous": "cebf3cbc-2391-11e9-a9f8-e0d55ea40caf"
      },
      {
       "current": "cebf3cbd-2391-11e9-a9f8-e0d55ea40caf",
       "next": "cebf3cbe-2391-11e9-a9f8-e0d55ea40caf",
       "previous": "cebf3cbd-2391-11e9-a9f8-e0d55ea40caf"
      },
      {
       "current": "aa7c3d5a-96e2-11e9-8e94-02420a010063",
       "next": "aa7c3eae-96e2-11e9-8e94-02420a010063",
       "previous": "aa7c3c42-96e2-11e9-8e94-02420a010063"
      },
      {
       "current": "aa7c3d5a-96e2-11e9-8e94-02420a010063",
       "next": "93b068c0-eedb-11e9-a8bb-02420a010068",
       "previous": "aa7c3c42-96e2-11e9-8e94-02420a010063"
      },
      {
       "current": "aa7c3d5a-96e2-11e9-8e94-02420a010063",
       "next": "aa7c3eae-96e2-11e9-8e94-02420a010063",
       "previous": "aa7c3c42-96e2-11e9-8e94-02420a010063"
      }
     ],
     "next": "a7ac711e-ef19-11e9-b53a-02420a010068",
     "previous": "a7ac6eb2-ef19-11e9-b53a-02420a010068"
    }
   },
   "outputs": [],
   "source": [
    "# 演習用入力欄\n"
   ]
  },
  {
   "cell_type": "markdown",
   "metadata": {
    "lc_cell_meme": {
     "current": "a7ac711e-ef19-11e9-b53a-02420a010068",
     "history": [
      {
       "current": "cebf3cbe-2391-11e9-a9f8-e0d55ea40caf",
       "next": "cebf3cbf-2391-11e9-a9f8-e0d55ea40caf",
       "previous": "cebf3cbd-2391-11e9-a9f8-e0d55ea40caf"
      },
      {
       "current": "cebf3cbe-2391-11e9-a9f8-e0d55ea40caf",
       "next": "cebf3cbe-2391-11e9-a9f8-e0d55ea40caf",
       "previous": "cebf3cbd-2391-11e9-a9f8-e0d55ea40caf"
      },
      {
       "current": "aa7c3eae-96e2-11e9-8e94-02420a010063",
       "next": "aa7c3ff8-96e2-11e9-8e94-02420a010063",
       "previous": "aa7c3d5a-96e2-11e9-8e94-02420a010063"
      },
      {
       "current": "aa7c3eae-96e2-11e9-8e94-02420a010063",
       "next": "aa7c3ff8-96e2-11e9-8e94-02420a010063",
       "previous": "93b068c0-eedb-11e9-a8bb-02420a010068"
      },
      {
       "current": "aa7c3eae-96e2-11e9-8e94-02420a010063",
       "next": "aa7c3ff8-96e2-11e9-8e94-02420a010063",
       "previous": "aa7c3d5a-96e2-11e9-8e94-02420a010063"
      }
     ],
     "next": "a7ac727c-ef19-11e9-b53a-02420a010068",
     "previous": "a7ac6fe8-ef19-11e9-b53a-02420a010068"
    }
   },
   "source": [
    "演習：以下のセルで、次の式の値を求めなさい\n",
    "```\n",
    "3 != 5\n",
    "```"
   ]
  },
  {
   "cell_type": "code",
   "execution_count": null,
   "metadata": {
    "lc_cell_meme": {
     "current": "a7ac727c-ef19-11e9-b53a-02420a010068",
     "history": [
      {
       "current": "cebf3cbe-2391-11e9-a9f8-e0d55ea40caf",
       "next": "cebf3cbf-2391-11e9-a9f8-e0d55ea40caf",
       "previous": "cebf3cbd-2391-11e9-a9f8-e0d55ea40caf"
      },
      {
       "current": "cebf3cbe-2391-11e9-a9f8-e0d55ea40caf",
       "next": "cebf3cbf-2391-11e9-a9f8-e0d55ea40caf",
       "previous": "cebf3cbe-2391-11e9-a9f8-e0d55ea40caf"
      },
      {
       "current": "aa7c3ff8-96e2-11e9-8e94-02420a010063",
       "next": "aa7c40f2-96e2-11e9-8e94-02420a010063",
       "previous": "aa7c3eae-96e2-11e9-8e94-02420a010063"
      },
      {
       "current": "aa7c3ff8-96e2-11e9-8e94-02420a010063",
       "next": "93b068c0-eedb-11e9-a8bb-02420a010068",
       "previous": "aa7c3eae-96e2-11e9-8e94-02420a010063"
      },
      {
       "current": "aa7c3ff8-96e2-11e9-8e94-02420a010063",
       "next": "aa7c40f2-96e2-11e9-8e94-02420a010063",
       "previous": "aa7c3eae-96e2-11e9-8e94-02420a010063"
      }
     ],
     "next": "a7ac73d0-ef19-11e9-b53a-02420a010068",
     "previous": "a7ac711e-ef19-11e9-b53a-02420a010068"
    }
   },
   "outputs": [],
   "source": [
    "# 演習用入力欄\n"
   ]
  },
  {
   "cell_type": "markdown",
   "metadata": {
    "lc_cell_meme": {
     "current": "a7ac73d0-ef19-11e9-b53a-02420a010068",
     "history": [
      {
       "current": "cebf3cbf-2391-11e9-a9f8-e0d55ea40caf",
       "next": "cebf3cc0-2391-11e9-a9f8-e0d55ea40caf",
       "previous": "cebf3cbe-2391-11e9-a9f8-e0d55ea40caf"
      },
      {
       "current": "aa7c40f2-96e2-11e9-8e94-02420a010063",
       "next": "aa7c41ba-96e2-11e9-8e94-02420a010063",
       "previous": "aa7c3ff8-96e2-11e9-8e94-02420a010063"
      },
      {
       "current": "aa7c40f2-96e2-11e9-8e94-02420a010063",
       "next": "aa7c41ba-96e2-11e9-8e94-02420a010063",
       "previous": "93b068c0-eedb-11e9-a8bb-02420a010068"
      },
      {
       "current": "aa7c40f2-96e2-11e9-8e94-02420a010063",
       "next": "aa7c41ba-96e2-11e9-8e94-02420a010063",
       "previous": "aa7c3ff8-96e2-11e9-8e94-02420a010063"
      }
     ],
     "next": "a7ac752e-ef19-11e9-b53a-02420a010068",
     "previous": "a7ac727c-ef19-11e9-b53a-02420a010068"
    }
   },
   "source": [
    "演習：　次のセルで、「192 が52以上かどうか」計算しなさい。"
   ]
  },
  {
   "cell_type": "code",
   "execution_count": null,
   "metadata": {
    "lc_cell_meme": {
     "current": "a7ac752e-ef19-11e9-b53a-02420a010068",
     "history": [
      {
       "current": "cebf3cc0-2391-11e9-a9f8-e0d55ea40caf",
       "next": "cebf3cc1-2391-11e9-a9f8-e0d55ea40caf",
       "previous": "cebf3cbf-2391-11e9-a9f8-e0d55ea40caf"
      },
      {
       "current": "aa7c41ba-96e2-11e9-8e94-02420a010063",
       "next": "aa7c426e-96e2-11e9-8e94-02420a010063",
       "previous": "aa7c40f2-96e2-11e9-8e94-02420a010063"
      },
      {
       "current": "aa7c41ba-96e2-11e9-8e94-02420a010063",
       "next": "2e10a706-eeda-11e9-a8bb-02420a010068",
       "previous": "aa7c40f2-96e2-11e9-8e94-02420a010063"
      },
      {
       "current": "aa7c41ba-96e2-11e9-8e94-02420a010063",
       "next": "93b068c0-eedb-11e9-a8bb-02420a010068",
       "previous": "aa7c40f2-96e2-11e9-8e94-02420a010063"
      },
      {
       "current": "aa7c41ba-96e2-11e9-8e94-02420a010063",
       "next": "2e10a706-eeda-11e9-a8bb-02420a010068",
       "previous": "aa7c40f2-96e2-11e9-8e94-02420a010063"
      }
     ],
     "next": "a7ac7664-ef19-11e9-b53a-02420a010068",
     "previous": "a7ac73d0-ef19-11e9-b53a-02420a010068"
    }
   },
   "outputs": [],
   "source": [
    "# 演習用入力欄\n"
   ]
  },
  {
   "cell_type": "markdown",
   "metadata": {
    "lc_cell_meme": {
     "current": "a7ac7664-ef19-11e9-b53a-02420a010068",
     "history": [
      {
       "current": "2e10a706-eeda-11e9-a8bb-02420a010068",
       "next": "aa7c426e-96e2-11e9-8e94-02420a010063",
       "previous": "aa7c41ba-96e2-11e9-8e94-02420a010063"
      },
      {
       "current": "2e10a706-eeda-11e9-a8bb-02420a010068",
       "next": "aa7c426e-96e2-11e9-8e94-02420a010063",
       "previous": "93b068c0-eedb-11e9-a8bb-02420a010068"
      },
      {
       "current": "2e10a706-eeda-11e9-a8bb-02420a010068",
       "next": "aa7c426e-96e2-11e9-8e94-02420a010063",
       "previous": "aa7c41ba-96e2-11e9-8e94-02420a010063"
      }
     ],
     "next": "a7ac77c2-ef19-11e9-b53a-02420a010068",
     "previous": "a7ac752e-ef19-11e9-b53a-02420a010068"
    }
   },
   "source": [
    "## 論理演算子"
   ]
  },
  {
   "cell_type": "markdown",
   "metadata": {
    "lc_cell_meme": {
     "current": "a7ac77c2-ef19-11e9-b53a-02420a010068",
     "history": [
      {
       "current": "cebf3cc1-2391-11e9-a9f8-e0d55ea40caf",
       "next": "cebf3cc2-2391-11e9-a9f8-e0d55ea40caf",
       "previous": "cebf3cc0-2391-11e9-a9f8-e0d55ea40caf"
      },
      {
       "current": "aa7c426e-96e2-11e9-8e94-02420a010063",
       "next": "aa7c4390-96e2-11e9-8e94-02420a010063",
       "previous": "aa7c41ba-96e2-11e9-8e94-02420a010063"
      },
      {
       "current": "aa7c426e-96e2-11e9-8e94-02420a010063",
       "next": "aa7c4390-96e2-11e9-8e94-02420a010063",
       "previous": "2e10a706-eeda-11e9-a8bb-02420a010068"
      }
     ],
     "next": "a7ac78f8-ef19-11e9-b53a-02420a010068",
     "previous": "a7ac7664-ef19-11e9-b53a-02420a010068"
    }
   },
   "source": [
    "論理演算子を使うと複雑な条件を記述出来ます。\n",
    "\n",
    "| 論理演算子 | 例 | 意味 | 備考 |\n",
    "|:--: | :--: | :--: | :-- |\n",
    "| not| not a | a ではない ||\n",
    "| and | a and b | a かつ b ||\n",
    "| or | a or b | a または b ||\n"
   ]
  },
  {
   "cell_type": "markdown",
   "metadata": {
    "lc_cell_meme": {
     "current": "a7ac78f8-ef19-11e9-b53a-02420a010068",
     "history": [
      {
       "current": "cebf3cc2-2391-11e9-a9f8-e0d55ea40caf",
       "next": "cebf3cc3-2391-11e9-a9f8-e0d55ea40caf",
       "previous": "cebf3cc1-2391-11e9-a9f8-e0d55ea40caf"
      },
      {
       "current": "aa7c4390-96e2-11e9-8e94-02420a010063",
       "next": "aa7c448a-96e2-11e9-8e94-02420a010063",
       "previous": "aa7c426e-96e2-11e9-8e94-02420a010063"
      }
     ],
     "next": "a7ac7a2e-ef19-11e9-b53a-02420a010068",
     "previous": "a7ac77c2-ef19-11e9-b53a-02420a010068"
    }
   },
   "source": [
    "演習：　複雑な条件の記述例\n",
    "\n",
    "以下のセルで、次の式の値を求めなさい。\n",
    "```\n",
    "3 > 1 and 5 > 3\n",
    "```"
   ]
  },
  {
   "cell_type": "code",
   "execution_count": null,
   "metadata": {
    "lc_cell_meme": {
     "current": "a7ac7a2e-ef19-11e9-b53a-02420a010068",
     "history": [
      {
       "current": "cebf3cc3-2391-11e9-a9f8-e0d55ea40caf",
       "next": "cebf3cc4-2391-11e9-a9f8-e0d55ea40caf",
       "previous": "cebf3cc2-2391-11e9-a9f8-e0d55ea40caf"
      },
      {
       "current": "cebf3cc3-2391-11e9-a9f8-e0d55ea40caf",
       "next": "ffb3b11a-2395-11e9-a9f8-e0d55ea40caf",
       "previous": "cebf3cc2-2391-11e9-a9f8-e0d55ea40caf"
      },
      {
       "current": "aa7c448a-96e2-11e9-8e94-02420a010063",
       "next": "aa7c4552-96e2-11e9-8e94-02420a010063",
       "previous": "aa7c4390-96e2-11e9-8e94-02420a010063"
      },
      {
       "current": "aa7c448a-96e2-11e9-8e94-02420a010063",
       "next": "93b068c0-eedb-11e9-a8bb-02420a010068",
       "previous": "aa7c4390-96e2-11e9-8e94-02420a010063"
      },
      {
       "current": "aa7c448a-96e2-11e9-8e94-02420a010063",
       "next": "aa7c4552-96e2-11e9-8e94-02420a010063",
       "previous": "aa7c4390-96e2-11e9-8e94-02420a010063"
      }
     ],
     "next": "a7ac7b5a-ef19-11e9-b53a-02420a010068",
     "previous": "a7ac78f8-ef19-11e9-b53a-02420a010068"
    }
   },
   "outputs": [],
   "source": [
    "# 演習用入力欄\n"
   ]
  },
  {
   "cell_type": "markdown",
   "metadata": {
    "lc_cell_meme": {
     "current": "a7ac7b5a-ef19-11e9-b53a-02420a010068",
     "history": [
      {
       "current": "ffb3b11a-2395-11e9-a9f8-e0d55ea40caf",
       "next": "cebf3cc4-2391-11e9-a9f8-e0d55ea40caf",
       "previous": "cebf3cc3-2391-11e9-a9f8-e0d55ea40caf"
      },
      {
       "current": "aa7c4552-96e2-11e9-8e94-02420a010063",
       "next": "aa7c4606-96e2-11e9-8e94-02420a010063",
       "previous": "aa7c448a-96e2-11e9-8e94-02420a010063"
      },
      {
       "current": "aa7c4552-96e2-11e9-8e94-02420a010063",
       "next": "aa7c4606-96e2-11e9-8e94-02420a010063",
       "previous": "93b068c0-eedb-11e9-a8bb-02420a010068"
      },
      {
       "current": "aa7c4552-96e2-11e9-8e94-02420a010063",
       "next": "aa7c4606-96e2-11e9-8e94-02420a010063",
       "previous": "aa7c448a-96e2-11e9-8e94-02420a010063"
      }
     ],
     "next": "a7ac7df8-ef19-11e9-b53a-02420a010068",
     "previous": "a7ac7a2e-ef19-11e9-b53a-02420a010068"
    }
   },
   "source": [
    "演習：以下のセルで、次の式の値を求めなさい。\n",
    "```\n",
    "not 1 > 3\n",
    "```"
   ]
  },
  {
   "cell_type": "code",
   "execution_count": null,
   "metadata": {
    "lc_cell_meme": {
     "current": "a7ac7df8-ef19-11e9-b53a-02420a010068",
     "history": [
      {
       "current": "cebf3cc4-2391-11e9-a9f8-e0d55ea40caf",
       "next": "cebf3cc5-2391-11e9-a9f8-e0d55ea40caf",
       "previous": "cebf3cc3-2391-11e9-a9f8-e0d55ea40caf"
      },
      {
       "current": "cebf3cc4-2391-11e9-a9f8-e0d55ea40caf",
       "next": "cebf3cc5-2391-11e9-a9f8-e0d55ea40caf",
       "previous": "ffb3b11a-2395-11e9-a9f8-e0d55ea40caf"
      },
      {
       "current": "aa7c4606-96e2-11e9-8e94-02420a010063",
       "next": "aa7c46c4-96e2-11e9-8e94-02420a010063",
       "previous": "aa7c4552-96e2-11e9-8e94-02420a010063"
      },
      {
       "current": "aa7c4606-96e2-11e9-8e94-02420a010063",
       "next": "93b068c0-eedb-11e9-a8bb-02420a010068",
       "previous": "aa7c4552-96e2-11e9-8e94-02420a010063"
      },
      {
       "current": "aa7c4606-96e2-11e9-8e94-02420a010063",
       "next": "aa7c46c4-96e2-11e9-8e94-02420a010063",
       "previous": "aa7c4552-96e2-11e9-8e94-02420a010063"
      }
     ],
     "next": "a7ac7f7e-ef19-11e9-b53a-02420a010068",
     "previous": "a7ac7b5a-ef19-11e9-b53a-02420a010068"
    }
   },
   "outputs": [],
   "source": [
    "# 演習用入力欄\n"
   ]
  },
  {
   "cell_type": "markdown",
   "metadata": {
    "lc_cell_meme": {
     "current": "a7ac7f7e-ef19-11e9-b53a-02420a010068",
     "history": [
      {
       "current": "cebf3cc5-2391-11e9-a9f8-e0d55ea40caf",
       "next": "cebf3cc6-2391-11e9-a9f8-e0d55ea40caf",
       "previous": "cebf3cc4-2391-11e9-a9f8-e0d55ea40caf"
      },
      {
       "current": "cebf3cc5-2391-11e9-a9f8-e0d55ea40caf",
       "next": "cebf3cc5-2391-11e9-a9f8-e0d55ea40caf",
       "previous": "cebf3cc4-2391-11e9-a9f8-e0d55ea40caf"
      },
      {
       "current": "aa7c46c4-96e2-11e9-8e94-02420a010063",
       "next": "aa7c4782-96e2-11e9-8e94-02420a010063",
       "previous": "aa7c4606-96e2-11e9-8e94-02420a010063"
      },
      {
       "current": "aa7c46c4-96e2-11e9-8e94-02420a010063",
       "next": "aa7c4782-96e2-11e9-8e94-02420a010063",
       "previous": "93b068c0-eedb-11e9-a8bb-02420a010068"
      },
      {
       "current": "aa7c46c4-96e2-11e9-8e94-02420a010063",
       "next": "aa7c4782-96e2-11e9-8e94-02420a010063",
       "previous": "aa7c4606-96e2-11e9-8e94-02420a010063"
      }
     ],
     "next": "a7ac8118-ef19-11e9-b53a-02420a010068",
     "previous": "a7ac7df8-ef19-11e9-b53a-02420a010068"
    }
   },
   "source": [
    "演習：以下のセルで、次の一連の式の値を求めなさい\n",
    "```\n",
    "a = 1\n",
    "b = 3\n",
    "c = 5\n",
    "a > b or c > b\n",
    "```"
   ]
  },
  {
   "cell_type": "code",
   "execution_count": null,
   "metadata": {
    "lc_cell_meme": {
     "current": "a7ac8118-ef19-11e9-b53a-02420a010068",
     "history": [
      {
       "current": "cebf3cc5-2391-11e9-a9f8-e0d55ea40caf",
       "next": "cebf3cc6-2391-11e9-a9f8-e0d55ea40caf",
       "previous": "cebf3cc4-2391-11e9-a9f8-e0d55ea40caf"
      },
      {
       "current": "cebf3cc5-2391-11e9-a9f8-e0d55ea40caf",
       "next": "cebf3cc6-2391-11e9-a9f8-e0d55ea40caf",
       "previous": "cebf3cc5-2391-11e9-a9f8-e0d55ea40caf"
      },
      {
       "current": "cebf3cc5-2391-11e9-a9f8-e0d55ea40caf",
       "next": "251fcc22-96dc-11e9-8b94-e0d55ea40caf",
       "previous": "cebf3cc5-2391-11e9-a9f8-e0d55ea40caf"
      },
      {
       "current": "aa7c4782-96e2-11e9-8e94-02420a010063",
       "next": "aa7c4840-96e2-11e9-8e94-02420a010063",
       "previous": "aa7c46c4-96e2-11e9-8e94-02420a010063"
      },
      {
       "current": "aa7c4782-96e2-11e9-8e94-02420a010063",
       "next": "93b068c0-eedb-11e9-a8bb-02420a010068",
       "previous": "aa7c46c4-96e2-11e9-8e94-02420a010063"
      },
      {
       "current": "aa7c4782-96e2-11e9-8e94-02420a010063",
       "next": "aa7c4840-96e2-11e9-8e94-02420a010063",
       "previous": "aa7c46c4-96e2-11e9-8e94-02420a010063"
      }
     ],
     "next": "a7ac826c-ef19-11e9-b53a-02420a010068",
     "previous": "a7ac7f7e-ef19-11e9-b53a-02420a010068"
    },
    "lc_wrapper": {
     "log_history": [
      "/home/kuwata/notebooks/.log/20190625/20190625-085936-0375.log"
     ]
    }
   },
   "outputs": [],
   "source": [
    "# 演習用入力欄\n"
   ]
  },
  {
   "cell_type": "markdown",
   "metadata": {
    "lc_cell_meme": {
     "current": "a7ac826c-ef19-11e9-b53a-02420a010068",
     "history": [
      {
       "current": "251fcc22-96dc-11e9-8b94-e0d55ea40caf",
       "next": "cebf3cc6-2391-11e9-a9f8-e0d55ea40caf",
       "previous": "cebf3cc5-2391-11e9-a9f8-e0d55ea40caf"
      },
      {
       "current": "aa7c4840-96e2-11e9-8e94-02420a010063",
       "next": "aa7c4962-96e2-11e9-8e94-02420a010063",
       "previous": "aa7c4782-96e2-11e9-8e94-02420a010063"
      },
      {
       "current": "aa7c4840-96e2-11e9-8e94-02420a010063",
       "next": "2e10a85a-eeda-11e9-a8bb-02420a010068",
       "previous": "aa7c4782-96e2-11e9-8e94-02420a010063"
      },
      {
       "current": "aa7c4840-96e2-11e9-8e94-02420a010063",
       "next": "2e10a85a-eeda-11e9-a8bb-02420a010068",
       "previous": "93b068c0-eedb-11e9-a8bb-02420a010068"
      },
      {
       "current": "aa7c4840-96e2-11e9-8e94-02420a010063",
       "next": "2e10a85a-eeda-11e9-a8bb-02420a010068",
       "previous": "aa7c4782-96e2-11e9-8e94-02420a010063"
      }
     ],
     "next": "a7ac83e8-ef19-11e9-b53a-02420a010068",
     "previous": "a7ac8118-ef19-11e9-b53a-02420a010068"
    }
   },
   "source": [
    "ヒント：結果はTrueになります。"
   ]
  },
  {
   "cell_type": "markdown",
   "metadata": {
    "lc_cell_meme": {
     "current": "a7ac83e8-ef19-11e9-b53a-02420a010068",
     "history": [
      {
       "current": "2e10a85a-eeda-11e9-a8bb-02420a010068",
       "next": "aa7c4962-96e2-11e9-8e94-02420a010063",
       "previous": "aa7c4840-96e2-11e9-8e94-02420a010063"
      }
     ],
     "next": "a7ac85dc-ef19-11e9-b53a-02420a010068",
     "previous": "a7ac826c-ef19-11e9-b53a-02420a010068"
    }
   },
   "source": [
    "## 複雑な条件式の記述1"
   ]
  },
  {
   "cell_type": "markdown",
   "metadata": {
    "lc_cell_meme": {
     "current": "a7ac85dc-ef19-11e9-b53a-02420a010068",
     "history": [
      {
       "current": "cebf3cc6-2391-11e9-a9f8-e0d55ea40caf",
       "next": "cebf3cc7-2391-11e9-a9f8-e0d55ea40caf",
       "previous": "cebf3cc5-2391-11e9-a9f8-e0d55ea40caf"
      },
      {
       "current": "cebf3cc6-2391-11e9-a9f8-e0d55ea40caf",
       "next": "cebf3cc7-2391-11e9-a9f8-e0d55ea40caf",
       "previous": "251fcc22-96dc-11e9-8b94-e0d55ea40caf"
      },
      {
       "current": "aa7c4962-96e2-11e9-8e94-02420a010063",
       "next": "aa7c4a5c-96e2-11e9-8e94-02420a010063",
       "previous": "aa7c4840-96e2-11e9-8e94-02420a010063"
      },
      {
       "current": "aa7c4962-96e2-11e9-8e94-02420a010063",
       "next": "aa7c4a5c-96e2-11e9-8e94-02420a010063",
       "previous": "2e10a85a-eeda-11e9-a8bb-02420a010068"
      }
     ],
     "next": "a7ac873a-ef19-11e9-b53a-02420a010068",
     "previous": "a7ac83e8-ef19-11e9-b53a-02420a010068"
    }
   },
   "source": [
    "演習：　以下のセルで、a とbの合計sを求めるプログラムを完成し、合計sが60以上なら合格と表示するプログラムを書きなさい。"
   ]
  },
  {
   "cell_type": "code",
   "execution_count": null,
   "metadata": {
    "lc_cell_meme": {
     "current": "a7ac873a-ef19-11e9-b53a-02420a010068",
     "history": [
      {
       "current": "cebf3cc7-2391-11e9-a9f8-e0d55ea40caf",
       "next": "cebf3cc8-2391-11e9-a9f8-e0d55ea40caf",
       "previous": "cebf3cc6-2391-11e9-a9f8-e0d55ea40caf"
      },
      {
       "current": "cebf3cc7-2391-11e9-a9f8-e0d55ea40caf",
       "next": "cebf3cc9-2391-11e9-a9f8-e0d55ea40caf",
       "previous": "cebf3cc6-2391-11e9-a9f8-e0d55ea40caf"
      },
      {
       "current": "aa7c4a5c-96e2-11e9-8e94-02420a010063",
       "next": "aa7c4b1a-96e2-11e9-8e94-02420a010063",
       "previous": "aa7c4962-96e2-11e9-8e94-02420a010063"
      },
      {
       "current": "aa7c4a5c-96e2-11e9-8e94-02420a010063",
       "next": "2e10a85a-eeda-11e9-a8bb-02420a010068",
       "previous": "aa7c4962-96e2-11e9-8e94-02420a010063"
      },
      {
       "current": "aa7c4a5c-96e2-11e9-8e94-02420a010063",
       "next": "aa7c4a5c-96e2-11e9-8e94-02420a010063",
       "previous": "aa7c4962-96e2-11e9-8e94-02420a010063"
      },
      {
       "current": "aa7c4a5c-96e2-11e9-8e94-02420a010063",
       "next": "2e10a85a-eeda-11e9-a8bb-02420a010068",
       "previous": "aa7c4962-96e2-11e9-8e94-02420a010063"
      }
     ],
     "next": "a7ac89ce-ef19-11e9-b53a-02420a010068",
     "previous": "a7ac85dc-ef19-11e9-b53a-02420a010068"
    }
   },
   "outputs": [],
   "source": [
    "# 演習用入力欄 （要修正）\n",
    "s = input(\"a = ? \")\n",
    "a = int(s)\n",
    "s = input(\"b = ? \")\n",
    "b = int(s)\n",
    "\n",
    "# 以下を変更すること\n",
    "s = ???\n",
    "if ???\n",
    "    print (\"合格\")"
   ]
  },
  {
   "cell_type": "markdown",
   "metadata": {
    "lc_cell_meme": {
     "current": "a7ac89ce-ef19-11e9-b53a-02420a010068",
     "history": [
      {
       "current": "2e10a85a-eeda-11e9-a8bb-02420a010068",
       "next": "aa7c4962-96e2-11e9-8e94-02420a010063",
       "previous": "aa7c4840-96e2-11e9-8e94-02420a010063"
      },
      {
       "current": "2e10a85a-eeda-11e9-a8bb-02420a010068",
       "next": "aa7c4b1a-96e2-11e9-8e94-02420a010063",
       "previous": "aa7c4a5c-96e2-11e9-8e94-02420a010063"
      }
     ],
     "next": "a7ac8b2c-ef19-11e9-b53a-02420a010068",
     "previous": "a7ac873a-ef19-11e9-b53a-02420a010068"
    }
   },
   "source": [
    "## 複雑な条件式の記述2"
   ]
  },
  {
   "cell_type": "markdown",
   "metadata": {
    "lc_cell_meme": {
     "current": "a7ac8b2c-ef19-11e9-b53a-02420a010068",
     "history": [
      {
       "current": "cebf3cc9-2391-11e9-a9f8-e0d55ea40caf",
       "next": "cebf3cca-2391-11e9-a9f8-e0d55ea40caf",
       "previous": "cebf3cc8-2391-11e9-a9f8-e0d55ea40caf"
      },
      {
       "current": "cebf3cc9-2391-11e9-a9f8-e0d55ea40caf",
       "next": "cebf3cca-2391-11e9-a9f8-e0d55ea40caf",
       "previous": "cebf3cc7-2391-11e9-a9f8-e0d55ea40caf"
      },
      {
       "current": "aa7c4b1a-96e2-11e9-8e94-02420a010063",
       "next": "aa7c4bd8-96e2-11e9-8e94-02420a010063",
       "previous": "aa7c4a5c-96e2-11e9-8e94-02420a010063"
      },
      {
       "current": "aa7c4b1a-96e2-11e9-8e94-02420a010063",
       "next": "aa7c4bd8-96e2-11e9-8e94-02420a010063",
       "previous": "2e10a85a-eeda-11e9-a8bb-02420a010068"
      }
     ],
     "next": "a7ac8c6c-ef19-11e9-b53a-02420a010068",
     "previous": "a7ac89ce-ef19-11e9-b53a-02420a010068"
    }
   },
   "source": [
    "演習：次のセルで、以下を満たすプログラムを完成しなさい。\n",
    "\n",
    "- aとbの平均を求めhとする。\n",
    "- 「a,b とも50点以上」かつ「平均60点以上」の場合に\"合格\"と平均点を表示する。\n",
    "- それ以外の場合には、\"不合格\"と表示する。"
   ]
  },
  {
   "cell_type": "code",
   "execution_count": null,
   "metadata": {
    "lc_cell_meme": {
     "current": "a7ac8c6c-ef19-11e9-b53a-02420a010068",
     "history": [
      {
       "current": "cebf3cca-2391-11e9-a9f8-e0d55ea40caf",
       "next": "cebf3ccb-2391-11e9-a9f8-e0d55ea40caf",
       "previous": "cebf3cc9-2391-11e9-a9f8-e0d55ea40caf"
      },
      {
       "current": "cebf3cca-2391-11e9-a9f8-e0d55ea40caf",
       "next": "dd97726a-96db-11e9-8b94-e0d55ea40caf",
       "previous": "cebf3cc9-2391-11e9-a9f8-e0d55ea40caf"
      },
      {
       "current": "aa7c4bd8-96e2-11e9-8e94-02420a010063",
       "next": "aa7c4c96-96e2-11e9-8e94-02420a010063",
       "previous": "aa7c4b1a-96e2-11e9-8e94-02420a010063"
      },
      {
       "current": "aa7c4bd8-96e2-11e9-8e94-02420a010063",
       "next": "aa7c4bd8-96e2-11e9-8e94-02420a010063",
       "previous": "aa7c4b1a-96e2-11e9-8e94-02420a010063"
      },
      {
       "current": "aa7c4bd8-96e2-11e9-8e94-02420a010063",
       "next": "aa7c4c96-96e2-11e9-8e94-02420a010063",
       "previous": "aa7c4b1a-96e2-11e9-8e94-02420a010063"
      }
     ],
     "next": "a7ac8dac-ef19-11e9-b53a-02420a010068",
     "previous": "a7ac8b2c-ef19-11e9-b53a-02420a010068"
    }
   },
   "outputs": [],
   "source": [
    "# 演習用入力欄 （要修正）\n",
    "s = input(\"a = ? \")\n",
    "a = int(s)\n",
    "s = input(\"b = ? \")\n",
    "b = int(s)\n",
    "\n",
    "# 以下を変更すること\n",
    "h = \n",
    "if ???\n",
    "    print (\"合格\")\n",
    "else:\n",
    "    print(\"不合格\")"
   ]
  },
  {
   "cell_type": "markdown",
   "metadata": {
    "lc_cell_meme": {
     "current": "a7ac8dac-ef19-11e9-b53a-02420a010068",
     "history": [
      {
       "current": "dd97726a-96db-11e9-8b94-e0d55ea40caf",
       "next": "cebf3ccb-2391-11e9-a9f8-e0d55ea40caf",
       "previous": "cebf3cca-2391-11e9-a9f8-e0d55ea40caf"
      },
      {
       "current": "aa7c4c96-96e2-11e9-8e94-02420a010063",
       "next": "aa7c4d54-96e2-11e9-8e94-02420a010063",
       "previous": "aa7c4bd8-96e2-11e9-8e94-02420a010063"
      }
     ],
     "next": "a7ac8ee2-ef19-11e9-b53a-02420a010068",
     "previous": "a7ac8c6c-ef19-11e9-b53a-02420a010068"
    }
   },
   "source": [
    "ヒント：a=50,b=75を入れて結果を確認しなさい。"
   ]
  },
  {
   "cell_type": "markdown",
   "metadata": {
    "lc_cell_meme": {
     "current": "a7ac8ee2-ef19-11e9-b53a-02420a010068",
     "history": [
      {
       "current": "cebf3ccb-2391-11e9-a9f8-e0d55ea40caf",
       "next": null,
       "previous": "cebf3cca-2391-11e9-a9f8-e0d55ea40caf"
      },
      {
       "current": "cebf3ccb-2391-11e9-a9f8-e0d55ea40caf",
       "next": null,
       "previous": "dd97726a-96db-11e9-8b94-e0d55ea40caf"
      },
      {
       "current": "aa7c4d54-96e2-11e9-8e94-02420a010063",
       "next": null,
       "previous": "aa7c4c96-96e2-11e9-8e94-02420a010063"
      }
     ],
     "next": null,
     "previous": "a7ac8dac-ef19-11e9-b53a-02420a010068"
    }
   },
   "source": [
    "演習はこれで終了です。課題に進んでください。"
   ]
  }
 ],
 "metadata": {
  "kernelspec": {
   "display_name": "Python 3",
   "language": "python",
   "name": "python3"
  },
  "language_info": {
   "file_extension": ".py",
   "mimetype": "text/x-python",
   "name": "python",
   "nbconvert_exporter": "python",
   "pygments_lexer": "ipython3",
   "version": "3.7.3"
  },
  "lc_notebook_meme": {
   "current": "a7ac0148-ef19-11e9-b53a-02420a010068",
   "history": [
    "cebf3c90-2391-11e9-a9f8-e0d55ea40caf",
    "aa7bef44-96e2-11e9-8e94-02420a010063"
   ],
   "lc_server_signature": {
    "current": {
     "notebook_dir": "/home/14999410x94c69e",
     "notebook_path": "/03",
     "server_url": "https://nb06.ecloud.nii.ac.jp/user/14999410x94c69e/",
     "signature_id": "360553ae-df66-11e9-8262-02420a010037"
    },
    "history": [
     {
      "notebook_dir": "/home/kuwata/notebooks",
      "notebook_path": "/",
      "server_url": "http://157.19.141.8:8000/user/kuwata/",
      "signature_id": "d0abe7ae-153d-11e9-9674-e0d55ea40caf"
     },
     {
      "notebook_dir": "/home/kuwataa25e07",
      "notebook_path": "/03",
      "server_url": "https://nb02.ecloud.nii.ac.jp/user/kuwataa25e07/",
      "signature_id": "8e0bfa62-88ae-11e9-b239-02420a010019"
     },
     {
      "notebook_dir": "/home/14999410x94c69e",
      "notebook_path": "/03a",
      "server_url": "https://nb06.ecloud.nii.ac.jp/user/14999410x94c69e/",
      "signature_id": "360553ae-df66-11e9-8262-02420a010037"
     }
    ]
   },
   "root_cells": [
    "a7ac0904-ef19-11e9-b53a-02420a010068",
    "a7ac0b3e-ef19-11e9-b53a-02420a010068",
    "a7ac0cf6-ef19-11e9-b53a-02420a010068",
    "a7ac0e90-ef19-11e9-b53a-02420a010068",
    "a7ac10a2-ef19-11e9-b53a-02420a010068",
    "a7ac1250-ef19-11e9-b53a-02420a010068",
    "a7ac14da-ef19-11e9-b53a-02420a010068",
    "a7ac1656-ef19-11e9-b53a-02420a010068",
    "a7ac1796-ef19-11e9-b53a-02420a010068",
    "a7ac18d6-ef19-11e9-b53a-02420a010068",
    "a7ac1a3e-ef19-11e9-b53a-02420a010068",
    "a7ac1ba6-ef19-11e9-b53a-02420a010068",
    "a7ac1d04-ef19-11e9-b53a-02420a010068",
    "a7ac1e3a-ef19-11e9-b53a-02420a010068",
    "a7ac1f7a-ef19-11e9-b53a-02420a010068",
    "a7ac210a-ef19-11e9-b53a-02420a010068",
    "a7ac2272-ef19-11e9-b53a-02420a010068",
    "a7ac23a8-ef19-11e9-b53a-02420a010068",
    "a7ac24e8-ef19-11e9-b53a-02420a010068",
    "a7ac2628-ef19-11e9-b53a-02420a010068",
    "a7ac279a-ef19-11e9-b53a-02420a010068",
    "a7ac28f8-ef19-11e9-b53a-02420a010068",
    "a7ac2a60-ef19-11e9-b53a-02420a010068",
    "a7ac2ba0-ef19-11e9-b53a-02420a010068",
    "a7ac2d12-ef19-11e9-b53a-02420a010068",
    "a7ac2f2e-ef19-11e9-b53a-02420a010068",
    "a7ac3136-ef19-11e9-b53a-02420a010068",
    "a7ac32a8-ef19-11e9-b53a-02420a010068",
    "a7ac3406-ef19-11e9-b53a-02420a010068",
    "a7ac35b4-ef19-11e9-b53a-02420a010068",
    "a7ac379e-ef19-11e9-b53a-02420a010068",
    "a7ac3906-ef19-11e9-b53a-02420a010068",
    "a7ac3ae6-ef19-11e9-b53a-02420a010068",
    "a7ac3c4e-ef19-11e9-b53a-02420a010068",
    "a7ac3db6-ef19-11e9-b53a-02420a010068",
    "a7ac3f14-ef19-11e9-b53a-02420a010068",
    "a7ac404a-ef19-11e9-b53a-02420a010068",
    "a7ac41bc-ef19-11e9-b53a-02420a010068",
    "a7ac431a-ef19-11e9-b53a-02420a010068",
    "a7ac4450-ef19-11e9-b53a-02420a010068",
    "a7ac45ae-ef19-11e9-b53a-02420a010068",
    "a7ac46e4-ef19-11e9-b53a-02420a010068",
    "a7ac4842-ef19-11e9-b53a-02420a010068",
    "a7ac49c8-ef19-11e9-b53a-02420a010068",
    "a7ac4b44-ef19-11e9-b53a-02420a010068",
    "a7ac4c7a-ef19-11e9-b53a-02420a010068",
    "a7ac4db0-ef19-11e9-b53a-02420a010068",
    "a7ac4f18-ef19-11e9-b53a-02420a010068",
    "a7ac504e-ef19-11e9-b53a-02420a010068",
    "a7ac51d4-ef19-11e9-b53a-02420a010068",
    "a7ac5300-ef19-11e9-b53a-02420a010068",
    "a7ac545e-ef19-11e9-b53a-02420a010068",
    "a7ac5710-ef19-11e9-b53a-02420a010068",
    "a7ac58be-ef19-11e9-b53a-02420a010068",
    "a7ac5a08-ef19-11e9-b53a-02420a010068",
    "a7ac5b84-ef19-11e9-b53a-02420a010068",
    "a7ac5d00-ef19-11e9-b53a-02420a010068",
    "a7ac5ef4-ef19-11e9-b53a-02420a010068",
    "a7ac607a-ef19-11e9-b53a-02420a010068",
    "a7ac630e-ef19-11e9-b53a-02420a010068",
    "a7ac6476-ef19-11e9-b53a-02420a010068",
    "a7ac65a2-ef19-11e9-b53a-02420a010068",
    "a7ac66e2-ef19-11e9-b53a-02420a010068",
    "a7ac680e-ef19-11e9-b53a-02420a010068",
    "a7ac698a-ef19-11e9-b53a-02420a010068",
    "a7ac6ac0-ef19-11e9-b53a-02420a010068",
    "a7ac6c1e-ef19-11e9-b53a-02420a010068",
    "a7ac6d4a-ef19-11e9-b53a-02420a010068",
    "a7ac6eb2-ef19-11e9-b53a-02420a010068",
    "a7ac6fe8-ef19-11e9-b53a-02420a010068",
    "a7ac711e-ef19-11e9-b53a-02420a010068",
    "a7ac727c-ef19-11e9-b53a-02420a010068",
    "a7ac73d0-ef19-11e9-b53a-02420a010068",
    "a7ac752e-ef19-11e9-b53a-02420a010068",
    "a7ac7664-ef19-11e9-b53a-02420a010068",
    "a7ac77c2-ef19-11e9-b53a-02420a010068",
    "a7ac78f8-ef19-11e9-b53a-02420a010068",
    "a7ac7a2e-ef19-11e9-b53a-02420a010068",
    "a7ac7b5a-ef19-11e9-b53a-02420a010068",
    "a7ac7df8-ef19-11e9-b53a-02420a010068",
    "a7ac7f7e-ef19-11e9-b53a-02420a010068",
    "a7ac8118-ef19-11e9-b53a-02420a010068",
    "a7ac826c-ef19-11e9-b53a-02420a010068",
    "a7ac83e8-ef19-11e9-b53a-02420a010068",
    "a7ac85dc-ef19-11e9-b53a-02420a010068",
    "a7ac873a-ef19-11e9-b53a-02420a010068",
    "a7ac89ce-ef19-11e9-b53a-02420a010068",
    "a7ac8b2c-ef19-11e9-b53a-02420a010068",
    "a7ac8c6c-ef19-11e9-b53a-02420a010068",
    "a7ac8dac-ef19-11e9-b53a-02420a010068",
    "a7ac8ee2-ef19-11e9-b53a-02420a010068"
   ]
  },
  "toc": {
   "base_numbering": 1,
   "nav_menu": {},
   "number_sections": true,
   "sideBar": true,
   "skip_h1_title": false,
   "title_cell": "Table of Contents",
   "title_sidebar": "Contents",
   "toc_cell": false,
   "toc_position": {},
   "toc_section_display": true,
   "toc_window_display": true
  }
 },
 "nbformat": 4,
 "nbformat_minor": 2
}
