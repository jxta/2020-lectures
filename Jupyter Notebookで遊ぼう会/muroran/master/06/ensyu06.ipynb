{
 "cells": [
  {
   "cell_type": "markdown",
   "metadata": {
    "lc_cell_meme": {
     "current": "16350e86-fae4-11e9-956e-02420a01004a",
     "history": [
      {
       "current": "cebf3c91-2391-11e9-a9f8-e0d55ea40caf",
       "next": "cebf3c92-2391-11e9-a9f8-e0d55ea40caf",
       "previous": null
      },
      {
       "current": "aa7bf804-96e2-11e9-8e94-02420a010063",
       "next": "aa7bfa48-96e2-11e9-8e94-02420a010063",
       "previous": null
      }
     ],
     "next": "1635108e-fae4-11e9-956e-02420a01004a",
     "previous": null
    }
   },
   "source": [
    "# プログラミング入門\n",
    " 第6回　データ型（リスト、辞書）"
   ]
  },
  {
   "cell_type": "markdown",
   "metadata": {
    "collapsed": true,
    "lc_cell_meme": {
     "current": "1635108e-fae4-11e9-956e-02420a01004a",
     "history": [
      {
       "current": "cebf3c92-2391-11e9-a9f8-e0d55ea40caf",
       "next": "cebf3c93-2391-11e9-a9f8-e0d55ea40caf",
       "previous": "cebf3c91-2391-11e9-a9f8-e0d55ea40caf"
      },
      {
       "current": "aa7bfa48-96e2-11e9-8e94-02420a010063",
       "next": "aa7bfb7e-96e2-11e9-8e94-02420a010063",
       "previous": "aa7bf804-96e2-11e9-8e94-02420a010063"
      }
     ],
     "next": "1635121e-fae4-11e9-956e-02420a01004a",
     "previous": "16350e86-fae4-11e9-956e-02420a01004a"
    }
   },
   "source": [
    "次のセルに、自分の名前と学籍番号を記入して下さい。"
   ]
  },
  {
   "cell_type": "markdown",
   "metadata": {
    "lc_cell_meme": {
     "current": "1635121e-fae4-11e9-956e-02420a01004a",
     "history": [
      {
       "current": "cebf3c93-2391-11e9-a9f8-e0d55ea40caf",
       "next": "cebf3c94-2391-11e9-a9f8-e0d55ea40caf",
       "previous": "cebf3c92-2391-11e9-a9f8-e0d55ea40caf"
      },
      {
       "current": "aa7bfb7e-96e2-11e9-8e94-02420a010063",
       "next": "aa7bfd18-96e2-11e9-8e94-02420a010063",
       "previous": "aa7bfa48-96e2-11e9-8e94-02420a010063"
      }
     ],
     "next": "163513a4-fae4-11e9-956e-02420a01004a",
     "previous": "1635108e-fae4-11e9-956e-02420a01004a"
    },
    "raw_mimetype": "text/markdown"
   },
   "source": [
    "学籍番号：　　　　　　　　　　　氏名："
   ]
  },
  {
   "cell_type": "markdown",
   "metadata": {
    "lc_cell_meme": {
     "current": "163513a4-fae4-11e9-956e-02420a01004a",
     "history": [
      {
       "current": "cebf3c94-2391-11e9-a9f8-e0d55ea40caf",
       "next": "cebf3c95-2391-11e9-a9f8-e0d55ea40caf",
       "previous": "cebf3c93-2391-11e9-a9f8-e0d55ea40caf"
      },
      {
       "current": "aa7bfd18-96e2-11e9-8e94-02420a010063",
       "next": "aa7bfe30-96e2-11e9-8e94-02420a010063",
       "previous": "aa7bfb7e-96e2-11e9-8e94-02420a010063"
      },
      {
       "current": "aa7bfd18-96e2-11e9-8e94-02420a010063",
       "next": "8c75964c-fa35-11e9-bc54-02420a010e28",
       "previous": "aa7bfb7e-96e2-11e9-8e94-02420a010063"
      },
      {
       "current": "aa7bfd18-96e2-11e9-8e94-02420a010063",
       "next": "aa7bfe30-96e2-11e9-8e94-02420a010063",
       "previous": "aa7bfb7e-96e2-11e9-8e94-02420a010063"
      }
     ],
     "next": "16351520-fae4-11e9-956e-02420a01004a",
     "previous": "1635121e-fae4-11e9-956e-02420a01004a"
    }
   },
   "source": [
    "【進め方の注意】\n",
    "\n",
    "- 文書を読んで、進めてください。\n",
    "- <font color='red'>__教科書の対応箇所を確認してください。__</font>\n",
    "- 最後の確認問題を解いて、ファイルを保存して下さい。\n",
    "- 途中わからないことがあれば、教員またはTAに質問して下さい。"
   ]
  },
  {
   "cell_type": "markdown",
   "metadata": {
    "lc_cell_meme": {
     "current": "16351520-fae4-11e9-956e-02420a01004a",
     "history": [
      {
       "current": "cebf3c95-2391-11e9-a9f8-e0d55ea40caf",
       "next": "cebf3c96-2391-11e9-a9f8-e0d55ea40caf",
       "previous": "cebf3c94-2391-11e9-a9f8-e0d55ea40caf"
      },
      {
       "current": "aa7bfe30-96e2-11e9-8e94-02420a010063",
       "next": "aa7bff5c-96e2-11e9-8e94-02420a010063",
       "previous": "aa7bfd18-96e2-11e9-8e94-02420a010063"
      },
      {
       "current": "aa7bfe30-96e2-11e9-8e94-02420a010063",
       "next": "aa7c0254-96e2-11e9-8e94-02420a010063",
       "previous": "8c75964c-fa35-11e9-bc54-02420a010e28"
      },
      {
       "current": "aa7bfe30-96e2-11e9-8e94-02420a010063",
       "next": "aa7c0254-96e2-11e9-8e94-02420a010063",
       "previous": "aa7bfd18-96e2-11e9-8e94-02420a010063"
      }
     ],
     "next": "16351660-fae4-11e9-956e-02420a01004a",
     "previous": "163513a4-fae4-11e9-956e-02420a01004a"
    }
   },
   "source": [
    "## データ型"
   ]
  },
  {
   "cell_type": "markdown",
   "metadata": {
    "lc_cell_meme": {
     "current": "16351660-fae4-11e9-956e-02420a01004a",
     "history": [
      {
       "current": "cebf3c98-2391-11e9-a9f8-e0d55ea40caf",
       "next": "cebf3c99-2391-11e9-a9f8-e0d55ea40caf",
       "previous": "cebf3c97-2391-11e9-a9f8-e0d55ea40caf"
      },
      {
       "current": "aa7c0254-96e2-11e9-8e94-02420a010063",
       "next": "aa7c04f2-96e2-11e9-8e94-02420a010063",
       "previous": "aa7c00ba-96e2-11e9-8e94-02420a010063"
      },
      {
       "current": "aa7c0254-96e2-11e9-8e94-02420a010063",
       "next": "8c759c6e-fa35-11e9-bc54-02420a010e28",
       "previous": "aa7bfe30-96e2-11e9-8e94-02420a010063"
      }
     ],
     "next": "163517b4-fae4-11e9-956e-02420a01004a",
     "previous": "16351520-fae4-11e9-956e-02420a01004a"
    }
   },
   "source": [
    "## リスト"
   ]
  },
  {
   "cell_type": "markdown",
   "metadata": {
    "lc_cell_meme": {
     "current": "163517b4-fae4-11e9-956e-02420a01004a",
     "history": [
      {
       "current": "8c759c6e-fa35-11e9-bc54-02420a010e28",
       "next": "aa7c04f2-96e2-11e9-8e94-02420a010063",
       "previous": "aa7c0254-96e2-11e9-8e94-02420a010063"
      }
     ],
     "next": "16351958-fae4-11e9-956e-02420a01004a",
     "previous": "16351660-fae4-11e9-956e-02420a01004a"
    }
   },
   "source": [
    "数値や文字などの複数のデータを順番に並べたものを「リスト」と呼びます。\n",
    "リストでは要素の順番が維持されます。"
   ]
  },
  {
   "cell_type": "markdown",
   "metadata": {
    "lc_cell_meme": {
     "current": "16351958-fae4-11e9-956e-02420a01004a",
     "history": [
      {
       "current": "cebf3c99-2391-11e9-a9f8-e0d55ea40caf",
       "next": "cebf3c9a-2391-11e9-a9f8-e0d55ea40caf",
       "previous": "cebf3c98-2391-11e9-a9f8-e0d55ea40caf"
      },
      {
       "current": "aa7c04f2-96e2-11e9-8e94-02420a010063",
       "next": "aa7c063c-96e2-11e9-8e94-02420a010063",
       "previous": "aa7c0254-96e2-11e9-8e94-02420a010063"
      },
      {
       "current": "aa7c04f2-96e2-11e9-8e94-02420a010063",
       "next": "8c759dd6-fa35-11e9-bc54-02420a010e28",
       "previous": "8c759c6e-fa35-11e9-bc54-02420a010e28"
      }
     ],
     "next": "16351aac-fae4-11e9-956e-02420a01004a",
     "previous": "163517b4-fae4-11e9-956e-02420a01004a"
    }
   },
   "source": [
    "### リストの作成"
   ]
  },
  {
   "cell_type": "markdown",
   "metadata": {
    "lc_cell_meme": {
     "current": "16351aac-fae4-11e9-956e-02420a01004a",
     "history": [
      {
       "current": "8c759dd6-fa35-11e9-bc54-02420a010e28",
       "next": "8c759ef8-fa35-11e9-bc54-02420a010e28",
       "previous": "aa7c04f2-96e2-11e9-8e94-02420a010063"
      }
     ],
     "next": "16351c1e-fae4-11e9-956e-02420a01004a",
     "previous": "16351958-fae4-11e9-956e-02420a01004a"
    }
   },
   "source": [
    "リストは、カギかっこ(`[ ]` )とカンマ(`,`)を用いて表されます。"
   ]
  },
  {
   "cell_type": "markdown",
   "metadata": {
    "lc_cell_meme": {
     "current": "16351c1e-fae4-11e9-956e-02420a01004a",
     "history": [
      {
       "current": "8c759ef8-fa35-11e9-bc54-02420a010e28",
       "next": "8c75a042-fa35-11e9-bc54-02420a010e28",
       "previous": "8c759dd6-fa35-11e9-bc54-02420a010e28"
      }
     ],
     "next": "16351d68-fae4-11e9-956e-02420a01004a",
     "previous": "16351aac-fae4-11e9-956e-02420a01004a"
    }
   },
   "source": [
    "```python\n",
    "[要素1, 要素2, 要素3, ....]\n",
    "```"
   ]
  },
  {
   "cell_type": "markdown",
   "metadata": {
    "lc_cell_meme": {
     "current": "16351d68-fae4-11e9-956e-02420a01004a",
     "history": [
      {
       "current": "8c75a042-fa35-11e9-bc54-02420a010e28",
       "next": "aa7c063c-96e2-11e9-8e94-02420a010063",
       "previous": "8c759ef8-fa35-11e9-bc54-02420a010e28"
      }
     ],
     "next": "16351ebc-fae4-11e9-956e-02420a01004a",
     "previous": "16351c1e-fae4-11e9-956e-02420a01004a"
    }
   },
   "source": [
    "#### 例題（教科書P50）"
   ]
  },
  {
   "cell_type": "markdown",
   "metadata": {
    "lc_cell_meme": {
     "current": "16351ebc-fae4-11e9-956e-02420a01004a",
     "history": [
      {
       "current": "cebf3c9a-2391-11e9-a9f8-e0d55ea40caf",
       "next": "cebf3c9b-2391-11e9-a9f8-e0d55ea40caf",
       "previous": "cebf3c99-2391-11e9-a9f8-e0d55ea40caf"
      },
      {
       "current": "cebf3c9a-2391-11e9-a9f8-e0d55ea40caf",
       "next": "a55591b4-2392-11e9-a9f8-e0d55ea40caf",
       "previous": "cebf3c99-2391-11e9-a9f8-e0d55ea40caf"
      },
      {
       "current": "aa7c063c-96e2-11e9-8e94-02420a010063",
       "next": "aa7c0790-96e2-11e9-8e94-02420a010063",
       "previous": "aa7c04f2-96e2-11e9-8e94-02420a010063"
      },
      {
       "current": "aa7c063c-96e2-11e9-8e94-02420a010063",
       "next": "8c75a15a-fa35-11e9-bc54-02420a010e28",
       "previous": "8c75a042-fa35-11e9-bc54-02420a010e28"
      }
     ],
     "next": "16352006-fae4-11e9-956e-02420a01004a",
     "previous": "16351d68-fae4-11e9-956e-02420a01004a"
    }
   },
   "source": [
    "次のように、都市のリストを作成し、変数`cities`に代入してください。その後、変数`cities`の値を確認してください。リスト`cities`の要素は、`\"Sapporo\"`, `\"Tokyo\"`,`\"Osaka\"`, `\"Fukuoka\"`とします。"
   ]
  },
  {
   "cell_type": "markdown",
   "metadata": {
    "lc_cell_meme": {
     "current": "16352006-fae4-11e9-956e-02420a01004a",
     "history": [
      {
       "current": "8c75a15a-fa35-11e9-bc54-02420a010e28",
       "next": "aa7c08ee-96e2-11e9-8e94-02420a010063",
       "previous": "aa7c063c-96e2-11e9-8e94-02420a010063"
      }
     ],
     "next": "163521c8-fae4-11e9-956e-02420a01004a",
     "previous": "16351ebc-fae4-11e9-956e-02420a01004a"
    }
   },
   "source": [
    "<font size=\"2\" color=\"red\">注意：教科書は`\"札幌\"`,…,`\"東京\"`,…（全角文字）ですが、入力の手間を省くために`\"Sapporo\"`,`\"Tokyo\"`,…（半角文字）とし、要素数を減らしています。</font>"
   ]
  },
  {
   "cell_type": "code",
   "execution_count": null,
   "metadata": {
    "lc_cell_meme": {
     "current": "163521c8-fae4-11e9-956e-02420a01004a",
     "history": [
      {
       "current": "cebf3c9b-2391-11e9-a9f8-e0d55ea40caf",
       "next": "cebf3c9c-2391-11e9-a9f8-e0d55ea40caf",
       "previous": "cebf3c9a-2391-11e9-a9f8-e0d55ea40caf"
      },
      {
       "current": "cebf3c9b-2391-11e9-a9f8-e0d55ea40caf",
       "next": "cebf3c9b-2391-11e9-a9f8-e0d55ea40caf",
       "previous": "cebf3c9a-2391-11e9-a9f8-e0d55ea40caf"
      },
      {
       "current": "cebf3c9b-2391-11e9-a9f8-e0d55ea40caf",
       "next": "a55591b5-2392-11e9-a9f8-e0d55ea40caf",
       "previous": "a55591b4-2392-11e9-a9f8-e0d55ea40caf"
      },
      {
       "current": "aa7c08ee-96e2-11e9-8e94-02420a010063",
       "next": "aa7c09c0-96e2-11e9-8e94-02420a010063",
       "previous": "aa7c0790-96e2-11e9-8e94-02420a010063"
      },
      {
       "current": "aa7c08ee-96e2-11e9-8e94-02420a010063",
       "next": "aa7c08ee-96e2-11e9-8e94-02420a010063",
       "previous": "8c75a15a-fa35-11e9-bc54-02420a010e28"
      },
      {
       "current": "163521c8-fae4-11e9-956e-02420a01004a",
       "next": "16352362-fae4-11e9-956e-02420a01004a",
       "previous": "16352006-fae4-11e9-956e-02420a01004a"
      }
     ],
     "next": "16352510-fae4-11e9-956e-02420a01004a",
     "previous": "16352006-fae4-11e9-956e-02420a01004a"
    },
    "lc_wrapper": {
     "log_history": [
      "/home/kuwata/notebooks/.log/20190129/20190129-164833-0253.log"
     ]
    }
   },
   "outputs": [],
   "source": [
    "# 演習用入力欄（リストを作成するために、?を修正すること）\n",
    "cities =  ?\"Sapporo\"? \"Tokyo\"? \"Osaka\"? \"Fukuoka\"?\n",
    "cities"
   ]
  },
  {
   "cell_type": "markdown",
   "metadata": {
    "lc_cell_meme": {
     "current": "16352510-fae4-11e9-956e-02420a01004a",
     "history": [
      {
       "current": "8c75a268-fa35-11e9-bc54-02420a010e28",
       "next": "aa7c0baa-96e2-11e9-8e94-02420a010063",
       "previous": "aa7c08ee-96e2-11e9-8e94-02420a010063"
      },
      {
       "current": "16352510-fae4-11e9-956e-02420a01004a",
       "next": "16352682-fae4-11e9-956e-02420a01004a",
       "previous": "16352362-fae4-11e9-956e-02420a01004a"
      }
     ],
     "next": "16352682-fae4-11e9-956e-02420a01004a",
     "previous": "163521c8-fae4-11e9-956e-02420a01004a"
    }
   },
   "source": [
    "<font size=\"2\" color=\"blue\">ヒント：`Out[#]: ['Sapporo', 'Tokyo', 'Osaka', 'Fukuoka']`と出力されます。（`#`：評価した回数を表す数字が入ります。）</font>"
   ]
  },
  {
   "cell_type": "markdown",
   "metadata": {
    "lc_cell_meme": {
     "current": "16352682-fae4-11e9-956e-02420a01004a",
     "history": [
      {
       "current": "a55591b6-2392-11e9-a9f8-e0d55ea40caf",
       "next": "cebf3c9b-2391-11e9-a9f8-e0d55ea40caf",
       "previous": "cebf3c9b-2391-11e9-a9f8-e0d55ea40caf"
      },
      {
       "current": "aa7c0baa-96e2-11e9-8e94-02420a010063",
       "next": "aa7c0d08-96e2-11e9-8e94-02420a010063",
       "previous": "aa7c0a7e-96e2-11e9-8e94-02420a010063"
      },
      {
       "current": "aa7c0baa-96e2-11e9-8e94-02420a010063",
       "next": "aa7c0baa-96e2-11e9-8e94-02420a010063",
       "previous": "8c75a268-fa35-11e9-bc54-02420a010e28"
      }
     ],
     "next": "163527cc-fae4-11e9-956e-02420a01004a",
     "previous": "16352510-fae4-11e9-956e-02420a01004a"
    }
   },
   "source": [
    "#### 例題（教科書P51）"
   ]
  },
  {
   "cell_type": "markdown",
   "metadata": {
    "lc_cell_meme": {
     "current": "163527cc-fae4-11e9-956e-02420a01004a",
     "history": [
      {
       "current": "a55591b6-2392-11e9-a9f8-e0d55ea40caf",
       "next": "cebf3c9b-2391-11e9-a9f8-e0d55ea40caf",
       "previous": "cebf3c9b-2391-11e9-a9f8-e0d55ea40caf"
      },
      {
       "current": "aa7c0baa-96e2-11e9-8e94-02420a010063",
       "next": "aa7c0d08-96e2-11e9-8e94-02420a010063",
       "previous": "aa7c0a7e-96e2-11e9-8e94-02420a010063"
      },
      {
       "current": "aa7c0baa-96e2-11e9-8e94-02420a010063",
       "next": "aa7c0d08-96e2-11e9-8e94-02420a010063",
       "previous": "aa7c0baa-96e2-11e9-8e94-02420a010063"
      }
     ],
     "next": "1635293e-fae4-11e9-956e-02420a01004a",
     "previous": "16352682-fae4-11e9-956e-02420a01004a"
    }
   },
   "source": [
    "都市の平均気温のリストを作成し、変数`temps`に代入してください。その後、変数`temps`の値を確認してください。リスト`temps`の要素は、`8.0`, `15.3`, `16.2`, `16.0`（全て数値）とします。"
   ]
  },
  {
   "cell_type": "code",
   "execution_count": null,
   "metadata": {
    "lc_cell_meme": {
     "current": "1635293e-fae4-11e9-956e-02420a01004a",
     "history": [
      {
       "current": "cebf3c9b-2391-11e9-a9f8-e0d55ea40caf",
       "next": "cebf3c9c-2391-11e9-a9f8-e0d55ea40caf",
       "previous": "cebf3c9a-2391-11e9-a9f8-e0d55ea40caf"
      },
      {
       "current": "cebf3c9b-2391-11e9-a9f8-e0d55ea40caf",
       "next": "cebf3c9b-2391-11e9-a9f8-e0d55ea40caf",
       "previous": "cebf3c9b-2391-11e9-a9f8-e0d55ea40caf"
      },
      {
       "current": "cebf3c9b-2391-11e9-a9f8-e0d55ea40caf",
       "next": "a55591b7-2392-11e9-a9f8-e0d55ea40caf",
       "previous": "a55591b6-2392-11e9-a9f8-e0d55ea40caf"
      },
      {
       "current": "aa7c0d08-96e2-11e9-8e94-02420a010063",
       "next": "aa7c0e02-96e2-11e9-8e94-02420a010063",
       "previous": "aa7c0baa-96e2-11e9-8e94-02420a010063"
      },
      {
       "current": "aa7c0d08-96e2-11e9-8e94-02420a010063",
       "next": "aa7c0d08-96e2-11e9-8e94-02420a010063",
       "previous": "aa7c0baa-96e2-11e9-8e94-02420a010063"
      },
      {
       "current": "1635293e-fae4-11e9-956e-02420a01004a",
       "next": "16352a88-fae4-11e9-956e-02420a01004a",
       "previous": "163527cc-fae4-11e9-956e-02420a01004a"
      }
     ],
     "next": "16352bfa-fae4-11e9-956e-02420a01004a",
     "previous": "163527cc-fae4-11e9-956e-02420a01004a"
    },
    "lc_wrapper": {
     "log_history": [
      "/home/kuwata/notebooks/.log/20190129/20190129-164902-0210.log"
     ]
    }
   },
   "outputs": [],
   "source": [
    "# 演習用入力欄（リストを作成するために、?を修正すること）\n",
    "temps = ?8.0? 15.3? 16.2? 16.0?\n",
    "temps"
   ]
  },
  {
   "cell_type": "markdown",
   "metadata": {
    "lc_cell_meme": {
     "current": "16352bfa-fae4-11e9-956e-02420a01004a",
     "history": [
      {
       "current": "8c75a376-fa35-11e9-bc54-02420a010e28",
       "next": "aa7c101e-96e2-11e9-8e94-02420a010063",
       "previous": "aa7c0d08-96e2-11e9-8e94-02420a010063"
      },
      {
       "current": "16352bfa-fae4-11e9-956e-02420a01004a",
       "next": "16352d6c-fae4-11e9-956e-02420a01004a",
       "previous": "16352a88-fae4-11e9-956e-02420a01004a"
      }
     ],
     "next": "16352d6c-fae4-11e9-956e-02420a01004a",
     "previous": "1635293e-fae4-11e9-956e-02420a01004a"
    }
   },
   "source": [
    "<font size=\"2\" color=\"blue\">ヒント：`Out[#]: [8.0, 15.3, 16.2, 16.0]`と出力されます。</font>"
   ]
  },
  {
   "cell_type": "markdown",
   "metadata": {
    "lc_cell_meme": {
     "current": "16352d6c-fae4-11e9-956e-02420a01004a",
     "history": [
      {
       "current": "cebf3c9c-2391-11e9-a9f8-e0d55ea40caf",
       "next": "cebf3c9d-2391-11e9-a9f8-e0d55ea40caf",
       "previous": "cebf3c9b-2391-11e9-a9f8-e0d55ea40caf"
      },
      {
       "current": "cebf3c9c-2391-11e9-a9f8-e0d55ea40caf",
       "next": "cebf3ca1-2391-11e9-a9f8-e0d55ea40caf",
       "previous": "cebf3c9b-2391-11e9-a9f8-e0d55ea40caf"
      },
      {
       "current": "cebf3c9c-2391-11e9-a9f8-e0d55ea40caf",
       "next": "644b607c-2397-11e9-a9f8-e0d55ea40caf",
       "previous": "cebf3c9b-2391-11e9-a9f8-e0d55ea40caf"
      },
      {
       "current": "cebf3c9c-2391-11e9-a9f8-e0d55ea40caf",
       "next": "cafa4d1e-2398-11e9-a9f8-e0d55ea40caf",
       "previous": "cebf3c9b-2391-11e9-a9f8-e0d55ea40caf"
      },
      {
       "current": "aa7c101e-96e2-11e9-8e94-02420a010063",
       "next": "aa7c1190-96e2-11e9-8e94-02420a010063",
       "previous": "aa7c0f1a-96e2-11e9-8e94-02420a010063"
      },
      {
       "current": "aa7c101e-96e2-11e9-8e94-02420a010063",
       "next": "aa7c1190-96e2-11e9-8e94-02420a010063",
       "previous": "8c75a376-fa35-11e9-bc54-02420a010e28"
      }
     ],
     "next": "16352eb6-fae4-11e9-956e-02420a01004a",
     "previous": "16352bfa-fae4-11e9-956e-02420a01004a"
    }
   },
   "source": [
    "###  リストの要素の取り出し"
   ]
  },
  {
   "cell_type": "markdown",
   "metadata": {
    "lc_cell_meme": {
     "current": "16352eb6-fae4-11e9-956e-02420a01004a",
     "history": [
      {
       "current": "cafa4d1e-2398-11e9-a9f8-e0d55ea40caf",
       "next": "644b607c-2397-11e9-a9f8-e0d55ea40caf",
       "previous": "cebf3c9c-2391-11e9-a9f8-e0d55ea40caf"
      },
      {
       "current": "aa7c1190-96e2-11e9-8e94-02420a010063",
       "next": "aa7c12e4-96e2-11e9-8e94-02420a010063",
       "previous": "aa7c101e-96e2-11e9-8e94-02420a010063"
      },
      {
       "current": "aa7c1190-96e2-11e9-8e94-02420a010063",
       "next": "8c75a484-fa35-11e9-bc54-02420a010e28",
       "previous": "aa7c101e-96e2-11e9-8e94-02420a010063"
      }
     ],
     "next": "163531d6-fae4-11e9-956e-02420a01004a",
     "previous": "16352d6c-fae4-11e9-956e-02420a01004a"
    }
   },
   "source": [
    "リストの各要素は、インデックス（先頭からの位置、オフセット）で参照します。"
   ]
  },
  {
   "cell_type": "markdown",
   "metadata": {
    "lc_cell_meme": {
     "current": "163531d6-fae4-11e9-956e-02420a01004a",
     "history": [
      {
       "current": "8c75a484-fa35-11e9-bc54-02420a010e28",
       "next": "aa7c0baa-96e2-11e9-8e94-02420a010063",
       "previous": "aa7c1190-96e2-11e9-8e94-02420a010063"
      }
     ],
     "next": "1635335c-fae4-11e9-956e-02420a01004a",
     "previous": "16352eb6-fae4-11e9-956e-02420a01004a"
    }
   },
   "source": [
    "リスト`cities`の最初の要素（インデックス0の要素）を参照してください。__インデックスは0から始まることに注意して下さい。__"
   ]
  },
  {
   "cell_type": "markdown",
   "metadata": {
    "lc_cell_meme": {
     "current": "1635335c-fae4-11e9-956e-02420a01004a",
     "history": [
      {
       "current": "a55591b6-2392-11e9-a9f8-e0d55ea40caf",
       "next": "cebf3c9b-2391-11e9-a9f8-e0d55ea40caf",
       "previous": "cebf3c9b-2391-11e9-a9f8-e0d55ea40caf"
      },
      {
       "current": "aa7c0baa-96e2-11e9-8e94-02420a010063",
       "next": "aa7c0d08-96e2-11e9-8e94-02420a010063",
       "previous": "aa7c0a7e-96e2-11e9-8e94-02420a010063"
      },
      {
       "current": "aa7c0baa-96e2-11e9-8e94-02420a010063",
       "next": "8c75a628-fa35-11e9-bc54-02420a010e28",
       "previous": "8c75a484-fa35-11e9-bc54-02420a010e28"
      }
     ],
     "next": "163534a6-fae4-11e9-956e-02420a01004a",
     "previous": "163531d6-fae4-11e9-956e-02420a01004a"
    }
   },
   "source": [
    "#### 例題（教科書P51）"
   ]
  },
  {
   "cell_type": "code",
   "execution_count": null,
   "metadata": {
    "lc_cell_meme": {
     "current": "163534a6-fae4-11e9-956e-02420a01004a",
     "history": [
      {
       "current": "8c75a628-fa35-11e9-bc54-02420a010e28",
       "next": "8c75a72c-fa35-11e9-bc54-02420a010e28",
       "previous": "aa7c0baa-96e2-11e9-8e94-02420a010063"
      },
      {
       "current": "163534a6-fae4-11e9-956e-02420a01004a",
       "next": "16353618-fae4-11e9-956e-02420a01004a",
       "previous": "1635335c-fae4-11e9-956e-02420a01004a"
      }
     ],
     "next": "16353762-fae4-11e9-956e-02420a01004a",
     "previous": "1635335c-fae4-11e9-956e-02420a01004a"
    }
   },
   "outputs": [],
   "source": [
    "# 演習用入力欄（最初の要素を指定するために、?を修正すること）\n",
    "cities[?]"
   ]
  },
  {
   "cell_type": "markdown",
   "metadata": {
    "lc_cell_meme": {
     "current": "16353762-fae4-11e9-956e-02420a01004a",
     "history": [
      {
       "current": "8c75a830-fa35-11e9-bc54-02420a010e28",
       "next": "aa7c0baa-96e2-11e9-8e94-02420a010063",
       "previous": "8c75a72c-fa35-11e9-bc54-02420a010e28"
      },
      {
       "current": "16353762-fae4-11e9-956e-02420a01004a",
       "next": "163538ac-fae4-11e9-956e-02420a01004a",
       "previous": "16353618-fae4-11e9-956e-02420a01004a"
      }
     ],
     "next": "163538ac-fae4-11e9-956e-02420a01004a",
     "previous": "163534a6-fae4-11e9-956e-02420a01004a"
    }
   },
   "source": [
    "<font size=\"2\" color=\"blue\">ヒント：`Out[#]: 'Sapporo'`と出力されます。</font>"
   ]
  },
  {
   "cell_type": "markdown",
   "metadata": {
    "lc_cell_meme": {
     "current": "163538ac-fae4-11e9-956e-02420a01004a",
     "history": [
      {
       "current": "a55591b6-2392-11e9-a9f8-e0d55ea40caf",
       "next": "cebf3c9b-2391-11e9-a9f8-e0d55ea40caf",
       "previous": "cebf3c9b-2391-11e9-a9f8-e0d55ea40caf"
      },
      {
       "current": "aa7c0baa-96e2-11e9-8e94-02420a010063",
       "next": "aa7c0d08-96e2-11e9-8e94-02420a010063",
       "previous": "aa7c0a7e-96e2-11e9-8e94-02420a010063"
      },
      {
       "current": "aa7c0baa-96e2-11e9-8e94-02420a010063",
       "next": "8c75a92a-fa35-11e9-bc54-02420a010e28",
       "previous": "8c75a830-fa35-11e9-bc54-02420a010e28"
      }
     ],
     "next": "163539f6-fae4-11e9-956e-02420a01004a",
     "previous": "16353762-fae4-11e9-956e-02420a01004a"
    }
   },
   "source": [
    "#### 例題（教科書P52）"
   ]
  },
  {
   "cell_type": "markdown",
   "metadata": {
    "lc_cell_meme": {
     "current": "163539f6-fae4-11e9-956e-02420a01004a",
     "history": [
      {
       "current": "8c75a92a-fa35-11e9-bc54-02420a010e28",
       "next": "aa7c0d08-96e2-11e9-8e94-02420a010063",
       "previous": "aa7c0baa-96e2-11e9-8e94-02420a010063"
      }
     ],
     "next": "16353b4a-fae4-11e9-956e-02420a01004a",
     "previous": "163538ac-fae4-11e9-956e-02420a01004a"
    }
   },
   "source": [
    "同様に、リスト`cities`の3番目の要素（インデックス2の要素）を参照してください。"
   ]
  },
  {
   "cell_type": "code",
   "execution_count": null,
   "metadata": {
    "lc_cell_meme": {
     "current": "16353b4a-fae4-11e9-956e-02420a01004a",
     "history": [
      {
       "current": "cebf3c9b-2391-11e9-a9f8-e0d55ea40caf",
       "next": "cebf3c9c-2391-11e9-a9f8-e0d55ea40caf",
       "previous": "cebf3c9a-2391-11e9-a9f8-e0d55ea40caf"
      },
      {
       "current": "cebf3c9b-2391-11e9-a9f8-e0d55ea40caf",
       "next": "cebf3c9b-2391-11e9-a9f8-e0d55ea40caf",
       "previous": "cebf3c9b-2391-11e9-a9f8-e0d55ea40caf"
      },
      {
       "current": "cebf3c9b-2391-11e9-a9f8-e0d55ea40caf",
       "next": "a55591b7-2392-11e9-a9f8-e0d55ea40caf",
       "previous": "a55591b6-2392-11e9-a9f8-e0d55ea40caf"
      },
      {
       "current": "aa7c0d08-96e2-11e9-8e94-02420a010063",
       "next": "aa7c0e02-96e2-11e9-8e94-02420a010063",
       "previous": "aa7c0baa-96e2-11e9-8e94-02420a010063"
      },
      {
       "current": "aa7c0d08-96e2-11e9-8e94-02420a010063",
       "next": "8c75aa2e-fa35-11e9-bc54-02420a010e28",
       "previous": "8c75a92a-fa35-11e9-bc54-02420a010e28"
      },
      {
       "current": "16353b4a-fae4-11e9-956e-02420a01004a",
       "next": "16353cd0-fae4-11e9-956e-02420a01004a",
       "previous": "163539f6-fae4-11e9-956e-02420a01004a"
      }
     ],
     "next": "16353e42-fae4-11e9-956e-02420a01004a",
     "previous": "163539f6-fae4-11e9-956e-02420a01004a"
    },
    "lc_wrapper": {
     "log_history": [
      "/home/kuwata/notebooks/.log/20190129/20190129-164902-0210.log"
     ]
    }
   },
   "outputs": [],
   "source": [
    "# 演習用入力欄（3番目の要素を指定するために、?を修正すること）\n",
    "cities[?]"
   ]
  },
  {
   "cell_type": "markdown",
   "metadata": {
    "lc_cell_meme": {
     "current": "16353e42-fae4-11e9-956e-02420a01004a",
     "history": [
      {
       "current": "8c75ab50-fa35-11e9-bc54-02420a010e28",
       "next": "8c75ac54-fa35-11e9-bc54-02420a010e28",
       "previous": "8c75aa2e-fa35-11e9-bc54-02420a010e28"
      },
      {
       "current": "16353e42-fae4-11e9-956e-02420a01004a",
       "next": "16353f96-fae4-11e9-956e-02420a01004a",
       "previous": "16353cd0-fae4-11e9-956e-02420a01004a"
      }
     ],
     "next": "16353f96-fae4-11e9-956e-02420a01004a",
     "previous": "16353b4a-fae4-11e9-956e-02420a01004a"
    }
   },
   "source": [
    "<font size=\"2\" color=\"blue\">ヒント：`Out[#]: 'Osaka'`と出力されます。</font>"
   ]
  },
  {
   "cell_type": "markdown",
   "metadata": {
    "lc_cell_meme": {
     "current": "16353f96-fae4-11e9-956e-02420a01004a",
     "history": [
      {
       "current": "8c75ac54-fa35-11e9-bc54-02420a010e28",
       "next": "aa7c0baa-96e2-11e9-8e94-02420a010063",
       "previous": "8c75ab50-fa35-11e9-bc54-02420a010e28"
      }
     ],
     "next": "163541bc-fae4-11e9-956e-02420a01004a",
     "previous": "16353e42-fae4-11e9-956e-02420a01004a"
    }
   },
   "source": [
    "リストに含まれる要素の数を、リストの長さと呼びます。リストの長さを確認するためには`len()`を使います。例えば、リスト`list`の長さを確認するには、`len(list)`とします。"
   ]
  },
  {
   "cell_type": "markdown",
   "metadata": {
    "lc_cell_meme": {
     "current": "163541bc-fae4-11e9-956e-02420a01004a",
     "history": [
      {
       "current": "a55591b6-2392-11e9-a9f8-e0d55ea40caf",
       "next": "cebf3c9b-2391-11e9-a9f8-e0d55ea40caf",
       "previous": "cebf3c9b-2391-11e9-a9f8-e0d55ea40caf"
      },
      {
       "current": "aa7c0baa-96e2-11e9-8e94-02420a010063",
       "next": "aa7c0d08-96e2-11e9-8e94-02420a010063",
       "previous": "aa7c0a7e-96e2-11e9-8e94-02420a010063"
      },
      {
       "current": "aa7c0baa-96e2-11e9-8e94-02420a010063",
       "next": "8c75ad58-fa35-11e9-bc54-02420a010e28",
       "previous": "8c75ac54-fa35-11e9-bc54-02420a010e28"
      }
     ],
     "next": "163543c4-fae4-11e9-956e-02420a01004a",
     "previous": "16353f96-fae4-11e9-956e-02420a01004a"
    }
   },
   "source": [
    "#### 例題（教科書P52）"
   ]
  },
  {
   "cell_type": "markdown",
   "metadata": {
    "lc_cell_meme": {
     "current": "163543c4-fae4-11e9-956e-02420a01004a",
     "history": [
      {
       "current": "8c75ad58-fa35-11e9-bc54-02420a010e28",
       "next": "aa7c0d08-96e2-11e9-8e94-02420a010063",
       "previous": "aa7c0baa-96e2-11e9-8e94-02420a010063"
      }
     ],
     "next": "16354590-fae4-11e9-956e-02420a01004a",
     "previous": "163541bc-fae4-11e9-956e-02420a01004a"
    }
   },
   "source": [
    "`len()`を使って、リスト`cities`の長さを確認してください。"
   ]
  },
  {
   "cell_type": "code",
   "execution_count": null,
   "metadata": {
    "lc_cell_meme": {
     "current": "16354590-fae4-11e9-956e-02420a01004a",
     "history": [
      {
       "current": "cebf3c9b-2391-11e9-a9f8-e0d55ea40caf",
       "next": "cebf3c9c-2391-11e9-a9f8-e0d55ea40caf",
       "previous": "cebf3c9a-2391-11e9-a9f8-e0d55ea40caf"
      },
      {
       "current": "cebf3c9b-2391-11e9-a9f8-e0d55ea40caf",
       "next": "cebf3c9b-2391-11e9-a9f8-e0d55ea40caf",
       "previous": "cebf3c9b-2391-11e9-a9f8-e0d55ea40caf"
      },
      {
       "current": "cebf3c9b-2391-11e9-a9f8-e0d55ea40caf",
       "next": "a55591b7-2392-11e9-a9f8-e0d55ea40caf",
       "previous": "a55591b6-2392-11e9-a9f8-e0d55ea40caf"
      },
      {
       "current": "aa7c0d08-96e2-11e9-8e94-02420a010063",
       "next": "aa7c0e02-96e2-11e9-8e94-02420a010063",
       "previous": "aa7c0baa-96e2-11e9-8e94-02420a010063"
      },
      {
       "current": "aa7c0d08-96e2-11e9-8e94-02420a010063",
       "next": "8c75ae52-fa35-11e9-bc54-02420a010e28",
       "previous": "8c75ad58-fa35-11e9-bc54-02420a010e28"
      },
      {
       "current": "16354590-fae4-11e9-956e-02420a01004a",
       "next": "163546ee-fae4-11e9-956e-02420a01004a",
       "previous": "163543c4-fae4-11e9-956e-02420a01004a"
      }
     ],
     "next": "163548f6-fae4-11e9-956e-02420a01004a",
     "previous": "163543c4-fae4-11e9-956e-02420a01004a"
    },
    "lc_wrapper": {
     "log_history": [
      "/home/kuwata/notebooks/.log/20190129/20190129-164902-0210.log"
     ]
    }
   },
   "outputs": [],
   "source": [
    "# 演習用入力欄（関数len()を使うように、?を修正すること）\n",
    "????cities?"
   ]
  },
  {
   "cell_type": "markdown",
   "metadata": {
    "lc_cell_meme": {
     "current": "163548f6-fae4-11e9-956e-02420a01004a",
     "history": [
      {
       "current": "8c75af56-fa35-11e9-bc54-02420a010e28",
       "next": "8c75b050-fa35-11e9-bc54-02420a010e28",
       "previous": "8c75ae52-fa35-11e9-bc54-02420a010e28"
      },
      {
       "current": "163548f6-fae4-11e9-956e-02420a01004a",
       "next": "16354a90-fae4-11e9-956e-02420a01004a",
       "previous": "163546ee-fae4-11e9-956e-02420a01004a"
      }
     ],
     "next": "16354a90-fae4-11e9-956e-02420a01004a",
     "previous": "16354590-fae4-11e9-956e-02420a01004a"
    }
   },
   "source": [
    "<font size=\"2\" color=\"blue\">ヒント：`Out[#]: 4`と出力されます。（リスト`cities`の長さは`4`です。）</font>"
   ]
  },
  {
   "cell_type": "markdown",
   "metadata": {
    "lc_cell_meme": {
     "current": "16354a90-fae4-11e9-956e-02420a01004a",
     "history": [
      {
       "current": "8c75b050-fa35-11e9-bc54-02420a010e28",
       "next": "8c75b14a-fa35-11e9-bc54-02420a010e28",
       "previous": "8c75af56-fa35-11e9-bc54-02420a010e28"
      }
     ],
     "next": "16354c02-fae4-11e9-956e-02420a01004a",
     "previous": "163548f6-fae4-11e9-956e-02420a01004a"
    }
   },
   "source": [
    "### リストを使った処理の例\n"
   ]
  },
  {
   "cell_type": "markdown",
   "metadata": {
    "lc_cell_meme": {
     "current": "16354c02-fae4-11e9-956e-02420a01004a",
     "history": [
      {
       "current": "8c75b14a-fa35-11e9-bc54-02420a010e28",
       "next": "aa7c0baa-96e2-11e9-8e94-02420a010063",
       "previous": "8c75b050-fa35-11e9-bc54-02420a010e28"
      }
     ],
     "next": "16354d88-fae4-11e9-956e-02420a01004a",
     "previous": "16354a90-fae4-11e9-956e-02420a01004a"
    }
   },
   "source": [
    "`for`文を使うとリストの要素を順番に取り出して、処理を行うことができます。リストは、そのまま`for`文の変数の範囲として利用できます。"
   ]
  },
  {
   "cell_type": "markdown",
   "metadata": {
    "lc_cell_meme": {
     "current": "16354d88-fae4-11e9-956e-02420a01004a",
     "history": [
      {
       "current": "a55591b6-2392-11e9-a9f8-e0d55ea40caf",
       "next": "cebf3c9b-2391-11e9-a9f8-e0d55ea40caf",
       "previous": "cebf3c9b-2391-11e9-a9f8-e0d55ea40caf"
      },
      {
       "current": "aa7c0baa-96e2-11e9-8e94-02420a010063",
       "next": "aa7c0d08-96e2-11e9-8e94-02420a010063",
       "previous": "aa7c0a7e-96e2-11e9-8e94-02420a010063"
      },
      {
       "current": "aa7c0baa-96e2-11e9-8e94-02420a010063",
       "next": "8c75b244-fa35-11e9-bc54-02420a010e28",
       "previous": "8c75b14a-fa35-11e9-bc54-02420a010e28"
      }
     ],
     "next": "16354ee6-fae4-11e9-956e-02420a01004a",
     "previous": "16354c02-fae4-11e9-956e-02420a01004a"
    }
   },
   "source": [
    "#### 例題（教科書P52）"
   ]
  },
  {
   "cell_type": "markdown",
   "metadata": {
    "lc_cell_meme": {
     "current": "16354ee6-fae4-11e9-956e-02420a01004a",
     "history": [
      {
       "current": "8c75b244-fa35-11e9-bc54-02420a010e28",
       "next": "8c75b33e-fa35-11e9-bc54-02420a010e28",
       "previous": "aa7c0baa-96e2-11e9-8e94-02420a010063"
      }
     ],
     "next": "16355044-fae4-11e9-956e-02420a01004a",
     "previous": "16354d88-fae4-11e9-956e-02420a01004a"
    }
   },
   "source": [
    "リスト`cities`の要素を全て印字するプログラムを作成してください。\n",
    "\n",
    "`for`文を使って、リスト`cities`から順に要素を取り出して変数`city`に代入し、関数`print()`を使って、変数`city`を表示してください。"
   ]
  },
  {
   "cell_type": "code",
   "execution_count": null,
   "metadata": {
    "lc_cell_meme": {
     "current": "16355044-fae4-11e9-956e-02420a01004a",
     "history": [
      {
       "current": "8c75b33e-fa35-11e9-bc54-02420a010e28",
       "next": "8c75b438-fa35-11e9-bc54-02420a010e28",
       "previous": "8c75b244-fa35-11e9-bc54-02420a010e28"
      },
      {
       "current": "16355044-fae4-11e9-956e-02420a01004a",
       "next": "163551ca-fae4-11e9-956e-02420a01004a",
       "previous": "16354ee6-fae4-11e9-956e-02420a01004a"
      }
     ],
     "next": "16355328-fae4-11e9-956e-02420a01004a",
     "previous": "16354ee6-fae4-11e9-956e-02420a01004a"
    }
   },
   "outputs": [],
   "source": [
    "# 演習用入力欄 （for文を使って要素を取り出すように、?を修正すること）\n",
    "??? city ?? cities:\n",
    "    print(city)"
   ]
  },
  {
   "cell_type": "markdown",
   "metadata": {
    "lc_cell_meme": {
     "current": "16355328-fae4-11e9-956e-02420a01004a",
     "history": [
      {
       "current": "8c75b532-fa35-11e9-bc54-02420a010e28",
       "next": "aa7c0baa-96e2-11e9-8e94-02420a010063",
       "previous": "8c75b438-fa35-11e9-bc54-02420a010e28"
      },
      {
       "current": "16355328-fae4-11e9-956e-02420a01004a",
       "next": "16355486-fae4-11e9-956e-02420a01004a",
       "previous": "163551ca-fae4-11e9-956e-02420a01004a"
      }
     ],
     "next": "16355486-fae4-11e9-956e-02420a01004a",
     "previous": "16355044-fae4-11e9-956e-02420a01004a"
    }
   },
   "source": [
    "<font size=\"2\" color=\"blue\">ヒント：次のように出力されます。\n",
    "    \n",
    "```\n",
    "Sapporo\n",
    "Tokyo\n",
    "  :\n",
    "Fukuoka\n",
    "```\n",
    "</font>      "
   ]
  },
  {
   "cell_type": "markdown",
   "metadata": {
    "lc_cell_meme": {
     "current": "16355486-fae4-11e9-956e-02420a01004a",
     "history": [
      {
       "current": "a55591b6-2392-11e9-a9f8-e0d55ea40caf",
       "next": "cebf3c9b-2391-11e9-a9f8-e0d55ea40caf",
       "previous": "cebf3c9b-2391-11e9-a9f8-e0d55ea40caf"
      },
      {
       "current": "aa7c0baa-96e2-11e9-8e94-02420a010063",
       "next": "aa7c0d08-96e2-11e9-8e94-02420a010063",
       "previous": "aa7c0a7e-96e2-11e9-8e94-02420a010063"
      },
      {
       "current": "aa7c0baa-96e2-11e9-8e94-02420a010063",
       "next": "8c75b69a-fa35-11e9-bc54-02420a010e28",
       "previous": "8c75b532-fa35-11e9-bc54-02420a010e28"
      }
     ],
     "next": "16355710-fae4-11e9-956e-02420a01004a",
     "previous": "16355328-fae4-11e9-956e-02420a01004a"
    }
   },
   "source": [
    "#### 例題（教科書P53）"
   ]
  },
  {
   "cell_type": "markdown",
   "metadata": {
    "lc_cell_meme": {
     "current": "16355710-fae4-11e9-956e-02420a01004a",
     "history": [
      {
       "current": "8c75b69a-fa35-11e9-bc54-02420a010e28",
       "next": "8c75b870-fa35-11e9-bc54-02420a010e28",
       "previous": "aa7c0baa-96e2-11e9-8e94-02420a010063"
      }
     ],
     "next": "16355904-fae4-11e9-956e-02420a01004a",
     "previous": "16355486-fae4-11e9-956e-02420a01004a"
    }
   },
   "source": [
    "リスト`temps`を使って、全ての都市の気温の平均値を求めるプログラムを作成してください。"
   ]
  },
  {
   "cell_type": "code",
   "execution_count": null,
   "metadata": {
    "lc_cell_meme": {
     "current": "16355904-fae4-11e9-956e-02420a01004a",
     "history": [
      {
       "current": "8c75b870-fa35-11e9-bc54-02420a010e28",
       "next": "8c75b988-fa35-11e9-bc54-02420a010e28",
       "previous": "8c75b69a-fa35-11e9-bc54-02420a010e28"
      },
      {
       "current": "16355904-fae4-11e9-956e-02420a01004a",
       "next": "16355a9e-fae4-11e9-956e-02420a01004a",
       "previous": "16355710-fae4-11e9-956e-02420a01004a"
      }
     ],
     "next": "16355bf2-fae4-11e9-956e-02420a01004a",
     "previous": "16355710-fae4-11e9-956e-02420a01004a"
    }
   },
   "outputs": [],
   "source": [
    "# 演習用入力欄 （?を修正すること）\n",
    "total = 0\n",
    "??? temp ?? temps: # for文を使いリストから要素を取り出すように、?を修正すること\n",
    "    total ?? temp    # totalにtempを足し込んでいくように、?を修正すること\n",
    "print(total/???temps?)　\n",
    "# 関数len()を使い、totalをtempsの要素数で割るように、?を修正すること"
   ]
  },
  {
   "cell_type": "markdown",
   "metadata": {
    "lc_cell_meme": {
     "current": "16355bf2-fae4-11e9-956e-02420a01004a",
     "history": [
      {
       "current": "8c75ba82-fa35-11e9-bc54-02420a010e28",
       "next": "8c75bb7c-fa35-11e9-bc54-02420a010e28",
       "previous": "8c75b988-fa35-11e9-bc54-02420a010e28"
      },
      {
       "current": "16355bf2-fae4-11e9-956e-02420a01004a",
       "next": "16355d46-fae4-11e9-956e-02420a01004a",
       "previous": "16355a9e-fae4-11e9-956e-02420a01004a"
      }
     ],
     "next": "16355d46-fae4-11e9-956e-02420a01004a",
     "previous": "16355904-fae4-11e9-956e-02420a01004a"
    }
   },
   "source": [
    "<font size=\"2\" color=\"blue\">ヒント：答えは、`13.8....`となります。</font>"
   ]
  },
  {
   "cell_type": "markdown",
   "metadata": {
    "lc_cell_meme": {
     "current": "16355d46-fae4-11e9-956e-02420a01004a",
     "history": [
      {
       "current": "8c75bb7c-fa35-11e9-bc54-02420a010e28",
       "next": "8c75bc76-fa35-11e9-bc54-02420a010e28",
       "previous": "8c75ba82-fa35-11e9-bc54-02420a010e28"
      }
     ],
     "next": "16355e90-fae4-11e9-956e-02420a01004a",
     "previous": "16355bf2-fae4-11e9-956e-02420a01004a"
    }
   },
   "source": [
    "### リスト要素の追加削除"
   ]
  },
  {
   "cell_type": "markdown",
   "metadata": {
    "lc_cell_meme": {
     "current": "16355e90-fae4-11e9-956e-02420a01004a",
     "history": [
      {
       "current": "8c75bc76-fa35-11e9-bc54-02420a010e28",
       "next": "aa7c0baa-96e2-11e9-8e94-02420a010063",
       "previous": "8c75bb7c-fa35-11e9-bc54-02420a010e28"
      }
     ],
     "next": "16355fda-fae4-11e9-956e-02420a01004a",
     "previous": "16355d46-fae4-11e9-956e-02420a01004a"
    }
   },
   "source": [
    "`append()`を使うと、リストの最後に要素を追加することができます。\n",
    "\n",
    "`リスト`.`append`(`追加要素`)"
   ]
  },
  {
   "cell_type": "markdown",
   "metadata": {
    "lc_cell_meme": {
     "current": "16355fda-fae4-11e9-956e-02420a01004a",
     "history": [
      {
       "current": "a55591b6-2392-11e9-a9f8-e0d55ea40caf",
       "next": "cebf3c9b-2391-11e9-a9f8-e0d55ea40caf",
       "previous": "cebf3c9b-2391-11e9-a9f8-e0d55ea40caf"
      },
      {
       "current": "aa7c0baa-96e2-11e9-8e94-02420a010063",
       "next": "aa7c0d08-96e2-11e9-8e94-02420a010063",
       "previous": "aa7c0a7e-96e2-11e9-8e94-02420a010063"
      },
      {
       "current": "aa7c0baa-96e2-11e9-8e94-02420a010063",
       "next": "8c75bd7a-fa35-11e9-bc54-02420a010e28",
       "previous": "8c75bc76-fa35-11e9-bc54-02420a010e28"
      }
     ],
     "next": "16356124-fae4-11e9-956e-02420a01004a",
     "previous": "16355e90-fae4-11e9-956e-02420a01004a"
    }
   },
   "source": [
    "#### 例題（教科書P53）"
   ]
  },
  {
   "cell_type": "markdown",
   "metadata": {
    "lc_cell_meme": {
     "current": "16356124-fae4-11e9-956e-02420a01004a",
     "history": [
      {
       "current": "8c75bd7a-fa35-11e9-bc54-02420a010e28",
       "next": "8c75be74-fa35-11e9-bc54-02420a010e28",
       "previous": "aa7c0baa-96e2-11e9-8e94-02420a010063"
      }
     ],
     "next": "16356296-fae4-11e9-956e-02420a01004a",
     "previous": "16355fda-fae4-11e9-956e-02420a01004a"
    }
   },
   "source": [
    "リスト`cities`の最後に、`\"Muroran\"`を追加してセルを評価し、要素が追加されていることを確認してください。"
   ]
  },
  {
   "cell_type": "code",
   "execution_count": null,
   "metadata": {
    "lc_cell_meme": {
     "current": "16356296-fae4-11e9-956e-02420a01004a",
     "history": [
      {
       "current": "8c75be74-fa35-11e9-bc54-02420a010e28",
       "next": "8c75c018-fa35-11e9-bc54-02420a010e28",
       "previous": "8c75bd7a-fa35-11e9-bc54-02420a010e28"
      },
      {
       "current": "16356296-fae4-11e9-956e-02420a01004a",
       "next": "16356408-fae4-11e9-956e-02420a01004a",
       "previous": "16356124-fae4-11e9-956e-02420a01004a"
      }
     ],
     "next": "16356548-fae4-11e9-956e-02420a01004a",
     "previous": "16356124-fae4-11e9-956e-02420a01004a"
    }
   },
   "outputs": [],
   "source": [
    "# 演習用入力欄 （リストcitiesに\"Muroran\"を追加するように、?を修正すること）\n",
    "cities??????\"Muroran\"?\n",
    "cities"
   ]
  },
  {
   "cell_type": "markdown",
   "metadata": {
    "lc_cell_meme": {
     "current": "16356548-fae4-11e9-956e-02420a01004a",
     "history": [
      {
       "current": "8c75c1c6-fa35-11e9-bc54-02420a010e28",
       "next": "8c75c2d4-fa35-11e9-bc54-02420a010e28",
       "previous": "8c75c018-fa35-11e9-bc54-02420a010e28"
      },
      {
       "current": "16356548-fae4-11e9-956e-02420a01004a",
       "next": "16356692-fae4-11e9-956e-02420a01004a",
       "previous": "16356408-fae4-11e9-956e-02420a01004a"
      }
     ],
     "next": "16356692-fae4-11e9-956e-02420a01004a",
     "previous": "16356296-fae4-11e9-956e-02420a01004a"
    }
   },
   "source": [
    "<font size=\"2\" color=\"blue\">ヒント：出力は、最後に`'Muroran'`が追加されて、`Out[#]: ['Sapporo', …, 'Fukuoka', 'Muroran']`となります。</font>"
   ]
  },
  {
   "cell_type": "markdown",
   "metadata": {
    "lc_cell_meme": {
     "current": "16356692-fae4-11e9-956e-02420a01004a",
     "history": [
      {
       "current": "8c75c2d4-fa35-11e9-bc54-02420a010e28",
       "next": "aa7c0baa-96e2-11e9-8e94-02420a010063",
       "previous": "8c75c1c6-fa35-11e9-bc54-02420a010e28"
      }
     ],
     "next": "163567dc-fae4-11e9-956e-02420a01004a",
     "previous": "16356548-fae4-11e9-956e-02420a01004a"
    }
   },
   "source": [
    "リストの要素を書き換えるには、インデックスを使って書き換える要素を指定して代入します。"
   ]
  },
  {
   "cell_type": "markdown",
   "metadata": {
    "lc_cell_meme": {
     "current": "163567dc-fae4-11e9-956e-02420a01004a",
     "history": [
      {
       "current": "a55591b6-2392-11e9-a9f8-e0d55ea40caf",
       "next": "cebf3c9b-2391-11e9-a9f8-e0d55ea40caf",
       "previous": "cebf3c9b-2391-11e9-a9f8-e0d55ea40caf"
      },
      {
       "current": "aa7c0baa-96e2-11e9-8e94-02420a010063",
       "next": "aa7c0d08-96e2-11e9-8e94-02420a010063",
       "previous": "aa7c0a7e-96e2-11e9-8e94-02420a010063"
      },
      {
       "current": "aa7c0baa-96e2-11e9-8e94-02420a010063",
       "next": "8c75c3ec-fa35-11e9-bc54-02420a010e28",
       "previous": "8c75c2d4-fa35-11e9-bc54-02420a010e28"
      }
     ],
     "next": "16356944-fae4-11e9-956e-02420a01004a",
     "previous": "16356692-fae4-11e9-956e-02420a01004a"
    }
   },
   "source": [
    "#### 例題（教科書P53）"
   ]
  },
  {
   "cell_type": "markdown",
   "metadata": {
    "lc_cell_meme": {
     "current": "16356944-fae4-11e9-956e-02420a01004a",
     "history": [
      {
       "current": "8c75c3ec-fa35-11e9-bc54-02420a010e28",
       "next": "8c75c4fa-fa35-11e9-bc54-02420a010e28",
       "previous": "aa7c0baa-96e2-11e9-8e94-02420a010063"
      }
     ],
     "next": "16356ab6-fae4-11e9-956e-02420a01004a",
     "previous": "163567dc-fae4-11e9-956e-02420a01004a"
    }
   },
   "source": [
    "`cities`の3番目の要素（インデックス2の要素）を`\"Gunma\"`に書き換えて、その要素が書き換えられていることを確認してください。"
   ]
  },
  {
   "cell_type": "code",
   "execution_count": null,
   "metadata": {
    "lc_cell_meme": {
     "current": "16356ab6-fae4-11e9-956e-02420a01004a",
     "history": [
      {
       "current": "8c75c4fa-fa35-11e9-bc54-02420a010e28",
       "next": "8c75c608-fa35-11e9-bc54-02420a010e28",
       "previous": "8c75c3ec-fa35-11e9-bc54-02420a010e28"
      },
      {
       "current": "16356ab6-fae4-11e9-956e-02420a01004a",
       "next": "16356c00-fae4-11e9-956e-02420a01004a",
       "previous": "16356944-fae4-11e9-956e-02420a01004a"
      }
     ],
     "next": "16356dfe-fae4-11e9-956e-02420a01004a",
     "previous": "16356944-fae4-11e9-956e-02420a01004a"
    }
   },
   "outputs": [],
   "source": [
    "# 演習用入力欄（?を修正し、3番目の要素を指定して\"Gunma\"を代入すること）\n",
    "cities[?] = \"Gunma\"\n",
    "cities"
   ]
  },
  {
   "cell_type": "markdown",
   "metadata": {
    "lc_cell_meme": {
     "current": "16356dfe-fae4-11e9-956e-02420a01004a",
     "history": [
      {
       "current": "8c75c716-fa35-11e9-bc54-02420a010e28",
       "next": "8c75c824-fa35-11e9-bc54-02420a010e28",
       "previous": "8c75c608-fa35-11e9-bc54-02420a010e28"
      },
      {
       "current": "16356dfe-fae4-11e9-956e-02420a01004a",
       "next": "16356fe8-fae4-11e9-956e-02420a01004a",
       "previous": "16356c00-fae4-11e9-956e-02420a01004a"
      }
     ],
     "next": "16356fe8-fae4-11e9-956e-02420a01004a",
     "previous": "16356ab6-fae4-11e9-956e-02420a01004a"
    }
   },
   "source": [
    "<font size=\"2\" color=\"blue\">ヒント：`Out[#]: ['Sapporo', 'Tokyo', 'Gunma', 'Fukuoka', 'Muroran']`のように出力されます。`'Gunma'`は、`'Tokyo'`と`'Fukuoka'`の間にあります。</font>      "
   ]
  },
  {
   "cell_type": "markdown",
   "metadata": {
    "lc_cell_meme": {
     "current": "16356fe8-fae4-11e9-956e-02420a01004a",
     "history": [
      {
       "current": "8c75c824-fa35-11e9-bc54-02420a010e28",
       "next": "8c75c928-fa35-11e9-bc54-02420a010e28",
       "previous": "8c75c716-fa35-11e9-bc54-02420a010e28"
      }
     ],
     "next": "163571aa-fae4-11e9-956e-02420a01004a",
     "previous": "16356dfe-fae4-11e9-956e-02420a01004a"
    }
   },
   "source": [
    "### リストのリスト（リストを要素にもつリスト）"
   ]
  },
  {
   "cell_type": "markdown",
   "metadata": {
    "lc_cell_meme": {
     "current": "163571aa-fae4-11e9-956e-02420a01004a",
     "history": [
      {
       "current": "8c75c928-fa35-11e9-bc54-02420a010e28",
       "next": "8c75ca36-fa35-11e9-bc54-02420a010e28",
       "previous": "8c75c824-fa35-11e9-bc54-02420a010e28"
      }
     ],
     "next": "16357312-fae4-11e9-956e-02420a01004a",
     "previous": "16356fe8-fae4-11e9-956e-02420a01004a"
    }
   },
   "source": [
    "リストの要素としてリストを入れることができます。"
   ]
  },
  {
   "cell_type": "markdown",
   "metadata": {
    "lc_cell_meme": {
     "current": "16357312-fae4-11e9-956e-02420a01004a",
     "history": [
      {
       "current": "8c75ca36-fa35-11e9-bc54-02420a010e28",
       "next": "8c75cbda-fa35-11e9-bc54-02420a010e28",
       "previous": "8c75c928-fa35-11e9-bc54-02420a010e28"
      }
     ],
     "next": "16357542-fae4-11e9-956e-02420a01004a",
     "previous": "163571aa-fae4-11e9-956e-02420a01004a"
    }
   },
   "source": [
    "#### 例題（教科書P55）"
   ]
  },
  {
   "cell_type": "markdown",
   "metadata": {
    "lc_cell_meme": {
     "current": "16357542-fae4-11e9-956e-02420a01004a",
     "history": [
      {
       "current": "8c75cbda-fa35-11e9-bc54-02420a010e28",
       "next": "8c75ccd4-fa35-11e9-bc54-02420a010e28",
       "previous": "8c75ca36-fa35-11e9-bc54-02420a010e28"
      }
     ],
     "next": "163576a0-fae4-11e9-956e-02420a01004a",
     "previous": "16357312-fae4-11e9-956e-02420a01004a"
    }
   },
   "source": [
    "次の表に示す都市名と平均気温のリストを要素としたリスト（変数名`cityinfo`）を作成し、内容を表示してください。\n",
    "\n",
    "|都市名|平均気温|\n",
    "|-|-|\n",
    "|\"Sapporo\"|8.0|\n",
    "|\"Tokyo\"|15.3|\n",
    "|\"Osaka\"|16.2|\n",
    "|\"Fukuoka\"|16.0|"
   ]
  },
  {
   "cell_type": "code",
   "execution_count": null,
   "metadata": {
    "lc_cell_meme": {
     "current": "163576a0-fae4-11e9-956e-02420a01004a",
     "history": [
      {
       "current": "8c75ccd4-fa35-11e9-bc54-02420a010e28",
       "next": "8c75cdd8-fa35-11e9-bc54-02420a010e28",
       "previous": "8c75cbda-fa35-11e9-bc54-02420a010e28"
      },
      {
       "current": "163576a0-fae4-11e9-956e-02420a01004a",
       "next": "16357826-fae4-11e9-956e-02420a01004a",
       "previous": "16357542-fae4-11e9-956e-02420a01004a"
      }
     ],
     "next": "16357984-fae4-11e9-956e-02420a01004a",
     "previous": "16357542-fae4-11e9-956e-02420a01004a"
    }
   },
   "outputs": [],
   "source": [
    "# 演習用入力欄（リストを作成するために、?を修正すること）\n",
    "cityinfo = ?[ \"Sapporo\", 8.0]? [\"Tokyo\", 15.3]? [\"Osaka\", 16.2]? [\"Fukuoka\", 16.0]?\n",
    "cityinfo"
   ]
  },
  {
   "cell_type": "markdown",
   "metadata": {
    "lc_cell_meme": {
     "current": "16357984-fae4-11e9-956e-02420a01004a",
     "history": [
      {
       "current": "8c75ced2-fa35-11e9-bc54-02420a010e28",
       "next": "8c75cfd6-fa35-11e9-bc54-02420a010e28",
       "previous": "8c75cdd8-fa35-11e9-bc54-02420a010e28"
      },
      {
       "current": "16357984-fae4-11e9-956e-02420a01004a",
       "next": "16357b78-fae4-11e9-956e-02420a01004a",
       "previous": "16357826-fae4-11e9-956e-02420a01004a"
      }
     ],
     "next": "16357b78-fae4-11e9-956e-02420a01004a",
     "previous": "163576a0-fae4-11e9-956e-02420a01004a"
    }
   },
   "source": [
    "<font size=\"2\" color=\"blue\">ヒント：`Out[#]: [['Sapporo', 8.0], ['Tokyo', 15.3], ['Osaka', 16.2], ['Fukuoka', 16.0]]`のように出力されます。\n",
    "</font>  \n",
    "    "
   ]
  },
  {
   "cell_type": "markdown",
   "metadata": {
    "lc_cell_meme": {
     "current": "16357b78-fae4-11e9-956e-02420a01004a",
     "history": [
      {
       "current": "8c75cfd6-fa35-11e9-bc54-02420a010e28",
       "next": "8c75d13e-fa35-11e9-bc54-02420a010e28",
       "previous": "8c75ced2-fa35-11e9-bc54-02420a010e28"
      }
     ],
     "next": "16357ccc-fae4-11e9-956e-02420a01004a",
     "previous": "16357984-fae4-11e9-956e-02420a01004a"
    }
   },
   "source": [
    "#### 例題（教科書P55）"
   ]
  },
  {
   "cell_type": "markdown",
   "metadata": {
    "lc_cell_meme": {
     "current": "16357ccc-fae4-11e9-956e-02420a01004a",
     "history": [
      {
       "current": "8c75d13e-fa35-11e9-bc54-02420a010e28",
       "next": "8c75d26a-fa35-11e9-bc54-02420a010e28",
       "previous": "8c75cfd6-fa35-11e9-bc54-02420a010e28"
      }
     ],
     "next": "16357e98-fae4-11e9-956e-02420a01004a",
     "previous": "16357b78-fae4-11e9-956e-02420a01004a"
    }
   },
   "source": [
    "変数`ctiy`は、リスト`['都市名', 平均気温]`ですので、`city[0]`のようにインデックス0を指定すると、都市名だけを取り出すことができます。"
   ]
  },
  {
   "cell_type": "code",
   "execution_count": null,
   "metadata": {
    "lc_cell_meme": {
     "current": "16357e98-fae4-11e9-956e-02420a01004a",
     "history": [
      {
       "current": "8c75d26a-fa35-11e9-bc54-02420a010e28",
       "next": "8c75d36e-fa35-11e9-bc54-02420a010e28",
       "previous": "8c75d13e-fa35-11e9-bc54-02420a010e28"
      },
      {
       "current": "16357e98-fae4-11e9-956e-02420a01004a",
       "next": "16358186-fae4-11e9-956e-02420a01004a",
       "previous": "16357ccc-fae4-11e9-956e-02420a01004a"
      }
     ],
     "next": "163582da-fae4-11e9-956e-02420a01004a",
     "previous": "16357ccc-fae4-11e9-956e-02420a01004a"
    }
   },
   "outputs": [],
   "source": [
    "# 演習用入力欄 （?を修正すること）\n",
    "??? city ?? cityinfo:　# for文を使って要素を取り出すように、?を修正すること\n",
    "    print(city???)   # ?を修正し、都市名だけを表示すること"
   ]
  },
  {
   "cell_type": "markdown",
   "metadata": {
    "lc_cell_meme": {
     "current": "163582da-fae4-11e9-956e-02420a01004a",
     "history": [
      {
       "current": "8c75d468-fa35-11e9-bc54-02420a010e28",
       "next": "8c75d562-fa35-11e9-bc54-02420a010e28",
       "previous": "8c75d36e-fa35-11e9-bc54-02420a010e28"
      },
      {
       "current": "163582da-fae4-11e9-956e-02420a01004a",
       "next": "16358424-fae4-11e9-956e-02420a01004a",
       "previous": "16358186-fae4-11e9-956e-02420a01004a"
      }
     ],
     "next": "16358424-fae4-11e9-956e-02420a01004a",
     "previous": "16357e98-fae4-11e9-956e-02420a01004a"
    }
   },
   "source": [
    "<font size='2' color='blue'>ヒント：次のように出力されます。\n",
    "\n",
    "```\n",
    "Sapporo\n",
    "Tokyo\n",
    "  :\n",
    "Fukuoka\n",
    "```\n",
    "</font>"
   ]
  },
  {
   "cell_type": "markdown",
   "metadata": {
    "lc_cell_meme": {
     "current": "16358424-fae4-11e9-956e-02420a01004a",
     "history": [
      {
       "current": "8c75d562-fa35-11e9-bc54-02420a010e28",
       "next": "8c75d666-fa35-11e9-bc54-02420a010e28",
       "previous": "8c75d468-fa35-11e9-bc54-02420a010e28"
      }
     ],
     "next": "1635856e-fae4-11e9-956e-02420a01004a",
     "previous": "163582da-fae4-11e9-956e-02420a01004a"
    }
   },
   "source": [
    "## 辞書"
   ]
  },
  {
   "cell_type": "markdown",
   "metadata": {
    "lc_cell_meme": {
     "current": "1635856e-fae4-11e9-956e-02420a01004a",
     "history": [
      {
       "current": "8c75d666-fa35-11e9-bc54-02420a010e28",
       "next": "8c75d760-fa35-11e9-bc54-02420a010e28",
       "previous": "8c75d562-fa35-11e9-bc54-02420a010e28"
      }
     ],
     "next": "163586b8-fae4-11e9-956e-02420a01004a",
     "previous": "16358424-fae4-11e9-956e-02420a01004a"
    }
   },
   "source": [
    "リストでは、インデックスを利用して要素を取り出すことができました。辞書では、インデックスの代わりに、キーを使って要素を取り出すことができます。"
   ]
  },
  {
   "cell_type": "markdown",
   "metadata": {
    "lc_cell_meme": {
     "current": "163586b8-fae4-11e9-956e-02420a01004a",
     "history": [
      {
       "current": "8c75d760-fa35-11e9-bc54-02420a010e28",
       "next": "8c75d85a-fa35-11e9-bc54-02420a010e28",
       "previous": "8c75d666-fa35-11e9-bc54-02420a010e28"
      }
     ],
     "next": "1635882a-fae4-11e9-956e-02420a01004a",
     "previous": "1635856e-fae4-11e9-956e-02420a01004a"
    }
   },
   "source": [
    "### 作成方法"
   ]
  },
  {
   "cell_type": "markdown",
   "metadata": {
    "lc_cell_meme": {
     "current": "1635882a-fae4-11e9-956e-02420a01004a",
     "history": [
      {
       "current": "8c75d85a-fa35-11e9-bc54-02420a010e28",
       "next": "8c75d954-fa35-11e9-bc54-02420a010e28",
       "previous": "8c75d760-fa35-11e9-bc54-02420a010e28"
      }
     ],
     "next": "1635896a-fae4-11e9-956e-02420a01004a",
     "previous": "163586b8-fae4-11e9-956e-02420a01004a"
    }
   },
   "source": [
    "辞書は中かっこ（`{ }`）を使って作成します。"
   ]
  },
  {
   "cell_type": "markdown",
   "metadata": {
    "lc_cell_meme": {
     "current": "1635896a-fae4-11e9-956e-02420a01004a",
     "history": [
      {
       "current": "8c75d954-fa35-11e9-bc54-02420a010e28",
       "next": "8c75da4e-fa35-11e9-bc54-02420a010e28",
       "previous": "8c75d85a-fa35-11e9-bc54-02420a010e28"
      }
     ],
     "next": "16358ae6-fae4-11e9-956e-02420a01004a",
     "previous": "1635882a-fae4-11e9-956e-02420a01004a"
    }
   },
   "source": [
    "```python\n",
    "{ キー1:値1, キー2:値2, ....}\n",
    "```"
   ]
  },
  {
   "cell_type": "markdown",
   "metadata": {
    "lc_cell_meme": {
     "current": "16358ae6-fae4-11e9-956e-02420a01004a",
     "history": [
      {
       "current": "8c75da4e-fa35-11e9-bc54-02420a010e28",
       "next": "8c75db7a-fa35-11e9-bc54-02420a010e28",
       "previous": "8c75d954-fa35-11e9-bc54-02420a010e28"
      }
     ],
     "next": "16358c30-fae4-11e9-956e-02420a01004a",
     "previous": "1635896a-fae4-11e9-956e-02420a01004a"
    }
   },
   "source": [
    "#### 例題（教科書P56）"
   ]
  },
  {
   "cell_type": "markdown",
   "metadata": {
    "lc_cell_meme": {
     "current": "16358c30-fae4-11e9-956e-02420a01004a",
     "history": [
      {
       "current": "8c75db7a-fa35-11e9-bc54-02420a010e28",
       "next": "8c75dc7e-fa35-11e9-bc54-02420a010e28",
       "previous": "8c75da4e-fa35-11e9-bc54-02420a010e28"
      }
     ],
     "next": "16358da2-fae4-11e9-956e-02420a01004a",
     "previous": "16358ae6-fae4-11e9-956e-02420a01004a"
    }
   },
   "source": [
    "都市名をキー、平均気温をその値とする辞書（変数名`temperature`）を作成し、内容を表示してください。"
   ]
  },
  {
   "cell_type": "code",
   "execution_count": null,
   "metadata": {
    "lc_cell_meme": {
     "current": "16358da2-fae4-11e9-956e-02420a01004a",
     "history": [
      {
       "current": "8c75dc7e-fa35-11e9-bc54-02420a010e28",
       "next": "8c75dd78-fa35-11e9-bc54-02420a010e28",
       "previous": "8c75db7a-fa35-11e9-bc54-02420a010e28"
      },
      {
       "current": "16358da2-fae4-11e9-956e-02420a01004a",
       "next": "16358eec-fae4-11e9-956e-02420a01004a",
       "previous": "16358c30-fae4-11e9-956e-02420a01004a"
      }
     ],
     "next": "1635902c-fae4-11e9-956e-02420a01004a",
     "previous": "16358c30-fae4-11e9-956e-02420a01004a"
    }
   },
   "outputs": [],
   "source": [
    "# 演習用入力欄（辞書を作成するために、?を修正すること）\n",
    "temperature = ?\"Sapporo\"?8.0? \"Tokyo\"?15.3? \"Osaka\"?16.2? \"Fukuoka\"?16.0?\n",
    "temperature"
   ]
  },
  {
   "cell_type": "markdown",
   "metadata": {
    "lc_cell_meme": {
     "current": "1635902c-fae4-11e9-956e-02420a01004a",
     "history": [
      {
       "current": "8c75df30-fa35-11e9-bc54-02420a010e28",
       "next": "8c75e052-fa35-11e9-bc54-02420a010e28",
       "previous": "8c75dd78-fa35-11e9-bc54-02420a010e28"
      },
      {
       "current": "1635902c-fae4-11e9-956e-02420a01004a",
       "next": "16359176-fae4-11e9-956e-02420a01004a",
       "previous": "16358eec-fae4-11e9-956e-02420a01004a"
      }
     ],
     "next": "16359176-fae4-11e9-956e-02420a01004a",
     "previous": "16358da2-fae4-11e9-956e-02420a01004a"
    }
   },
   "source": [
    "<font size='2' color='blue'>ヒント：`Out[#]: {'Sapporo': 8.0, 'Tokyo': 15.3, 'Osaka': 16.2, 'Fukuoka': 16.0}`のように出力されます。\n",
    "</font>"
   ]
  },
  {
   "cell_type": "markdown",
   "metadata": {
    "lc_cell_meme": {
     "current": "16359176-fae4-11e9-956e-02420a01004a",
     "history": [
      {
       "current": "8c75e052-fa35-11e9-bc54-02420a010e28",
       "next": "8c75e14c-fa35-11e9-bc54-02420a010e28",
       "previous": "8c75df30-fa35-11e9-bc54-02420a010e28"
      }
     ],
     "next": "163592e8-fae4-11e9-956e-02420a01004a",
     "previous": "1635902c-fae4-11e9-956e-02420a01004a"
    }
   },
   "source": [
    "### 要素の参照"
   ]
  },
  {
   "cell_type": "markdown",
   "metadata": {
    "lc_cell_meme": {
     "current": "163592e8-fae4-11e9-956e-02420a01004a",
     "history": [
      {
       "current": "8c75e14c-fa35-11e9-bc54-02420a010e28",
       "next": "8c75e250-fa35-11e9-bc54-02420a010e28",
       "previous": "8c75e052-fa35-11e9-bc54-02420a010e28"
      }
     ],
     "next": "16359428-fae4-11e9-956e-02420a01004a",
     "previous": "16359176-fae4-11e9-956e-02420a01004a"
    }
   },
   "source": [
    "辞書では、キーを使って要素を取り出すことができます。"
   ]
  },
  {
   "cell_type": "markdown",
   "metadata": {
    "lc_cell_meme": {
     "current": "16359428-fae4-11e9-956e-02420a01004a",
     "history": [
      {
       "current": "8c75e250-fa35-11e9-bc54-02420a010e28",
       "next": "8c75e34a-fa35-11e9-bc54-02420a010e28",
       "previous": "8c75e14c-fa35-11e9-bc54-02420a010e28"
      }
     ],
     "next": "16359568-fae4-11e9-956e-02420a01004a",
     "previous": "163592e8-fae4-11e9-956e-02420a01004a"
    }
   },
   "source": [
    "#### 例題（教科書P57）"
   ]
  },
  {
   "cell_type": "markdown",
   "metadata": {
    "lc_cell_meme": {
     "current": "16359568-fae4-11e9-956e-02420a01004a",
     "history": [
      {
       "current": "8c75e34a-fa35-11e9-bc54-02420a010e28",
       "next": "8c75e44e-fa35-11e9-bc54-02420a010e28",
       "previous": "8c75e250-fa35-11e9-bc54-02420a010e28"
      }
     ],
     "next": "163597b6-fae4-11e9-956e-02420a01004a",
     "previous": "16359428-fae4-11e9-956e-02420a01004a"
    }
   },
   "source": [
    "辞書`temperture`について、次のようにキー`\"Sapporo\"`を指定して値を参照してください。"
   ]
  },
  {
   "cell_type": "code",
   "execution_count": null,
   "metadata": {
    "lc_cell_meme": {
     "current": "163597b6-fae4-11e9-956e-02420a01004a",
     "history": [
      {
       "current": "8c75e44e-fa35-11e9-bc54-02420a010e28",
       "next": "8c75e552-fa35-11e9-bc54-02420a010e28",
       "previous": "8c75e34a-fa35-11e9-bc54-02420a010e28"
      },
      {
       "current": "163597b6-fae4-11e9-956e-02420a01004a",
       "next": "16359950-fae4-11e9-956e-02420a01004a",
       "previous": "16359568-fae4-11e9-956e-02420a01004a"
      }
     ],
     "next": "16359aae-fae4-11e9-956e-02420a01004a",
     "previous": "16359568-fae4-11e9-956e-02420a01004a"
    }
   },
   "outputs": [],
   "source": [
    "# 演習用入力欄（?部分を修正して、キー\"Sapporo\"を指定すること）\n",
    "temperature[??????]"
   ]
  },
  {
   "cell_type": "markdown",
   "metadata": {
    "lc_cell_meme": {
     "current": "16359aae-fae4-11e9-956e-02420a01004a",
     "history": [
      {
       "current": "8c75e6b0-fa35-11e9-bc54-02420a010e28",
       "next": "8c75e7dc-fa35-11e9-bc54-02420a010e28",
       "previous": "8c75e552-fa35-11e9-bc54-02420a010e28"
      },
      {
       "current": "16359aae-fae4-11e9-956e-02420a01004a",
       "next": "16359c02-fae4-11e9-956e-02420a01004a",
       "previous": "16359950-fae4-11e9-956e-02420a01004a"
      }
     ],
     "next": "16359c02-fae4-11e9-956e-02420a01004a",
     "previous": "163597b6-fae4-11e9-956e-02420a01004a"
    }
   },
   "source": [
    "<font size=\"2\" color=\"blue\">ヒント：出力は、`Out[#]: 8.0`となります。</font>"
   ]
  },
  {
   "cell_type": "markdown",
   "metadata": {
    "lc_cell_meme": {
     "current": "16359c02-fae4-11e9-956e-02420a01004a",
     "history": [
      {
       "current": "8c75e7dc-fa35-11e9-bc54-02420a010e28",
       "next": "8c75e8e0-fa35-11e9-bc54-02420a010e28",
       "previous": "8c75e6b0-fa35-11e9-bc54-02420a010e28"
      }
     ],
     "next": "16359d88-fae4-11e9-956e-02420a01004a",
     "previous": "16359aae-fae4-11e9-956e-02420a01004a"
    }
   },
   "source": [
    "同様に、辞書`temperture`について、キー’`\"Fukuoka\"`を指定して値を参照してください。"
   ]
  },
  {
   "cell_type": "code",
   "execution_count": null,
   "metadata": {
    "lc_cell_meme": {
     "current": "16359d88-fae4-11e9-956e-02420a01004a",
     "history": [
      {
       "current": "8c75e8e0-fa35-11e9-bc54-02420a010e28",
       "next": "8c75e9da-fa35-11e9-bc54-02420a010e28",
       "previous": "8c75e7dc-fa35-11e9-bc54-02420a010e28"
      },
      {
       "current": "16359d88-fae4-11e9-956e-02420a01004a",
       "next": "16359f22-fae4-11e9-956e-02420a01004a",
       "previous": "16359c02-fae4-11e9-956e-02420a01004a"
      }
     ],
     "next": "1635a076-fae4-11e9-956e-02420a01004a",
     "previous": "16359c02-fae4-11e9-956e-02420a01004a"
    }
   },
   "outputs": [],
   "source": [
    "# 演習用入力欄\n"
   ]
  },
  {
   "cell_type": "markdown",
   "metadata": {
    "lc_cell_meme": {
     "current": "1635a076-fae4-11e9-956e-02420a01004a",
     "history": [
      {
       "current": "8c75eade-fa35-11e9-bc54-02420a010e28",
       "next": "8c75ebf6-fa35-11e9-bc54-02420a010e28",
       "previous": "8c75e9da-fa35-11e9-bc54-02420a010e28"
      },
      {
       "current": "1635a076-fae4-11e9-956e-02420a01004a",
       "next": "1635a260-fae4-11e9-956e-02420a01004a",
       "previous": "16359f22-fae4-11e9-956e-02420a01004a"
      }
     ],
     "next": "1635a260-fae4-11e9-956e-02420a01004a",
     "previous": "16359d88-fae4-11e9-956e-02420a01004a"
    }
   },
   "source": [
    "<font size=\"2\" color=\"blue\">ヒント：出力は、`Out[#]: 16.0`となります。</font>"
   ]
  },
  {
   "cell_type": "markdown",
   "metadata": {
    "lc_cell_meme": {
     "current": "1635a260-fae4-11e9-956e-02420a01004a",
     "history": [
      {
       "current": "8c75ebf6-fa35-11e9-bc54-02420a010e28",
       "next": "8c75ecfa-fa35-11e9-bc54-02420a010e28",
       "previous": "8c75eade-fa35-11e9-bc54-02420a010e28"
      }
     ],
     "next": "1635a3aa-fae4-11e9-956e-02420a01004a",
     "previous": "1635a076-fae4-11e9-956e-02420a01004a"
    }
   },
   "source": [
    "### 要素の追加"
   ]
  },
  {
   "cell_type": "markdown",
   "metadata": {
    "lc_cell_meme": {
     "current": "1635a3aa-fae4-11e9-956e-02420a01004a",
     "history": [
      {
       "current": "8c75ecfa-fa35-11e9-bc54-02420a010e28",
       "next": "8c75edf4-fa35-11e9-bc54-02420a010e28",
       "previous": "8c75ebf6-fa35-11e9-bc54-02420a010e28"
      }
     ],
     "next": "1635a4fe-fae4-11e9-956e-02420a01004a",
     "previous": "1635a260-fae4-11e9-956e-02420a01004a"
    }
   },
   "source": [
    "辞書に含まれていないキーを指定して値を代入することで、新たに要素を追加することができます。"
   ]
  },
  {
   "cell_type": "markdown",
   "metadata": {
    "lc_cell_meme": {
     "current": "1635a4fe-fae4-11e9-956e-02420a01004a",
     "history": [
      {
       "current": "8c75edf4-fa35-11e9-bc54-02420a010e28",
       "next": "8c75eeee-fa35-11e9-bc54-02420a010e28",
       "previous": "8c75ecfa-fa35-11e9-bc54-02420a010e28"
      }
     ],
     "next": "1635a86e-fae4-11e9-956e-02420a01004a",
     "previous": "1635a3aa-fae4-11e9-956e-02420a01004a"
    }
   },
   "source": [
    "#### 例題（教科書P57）"
   ]
  },
  {
   "cell_type": "markdown",
   "metadata": {
    "lc_cell_meme": {
     "current": "1635a86e-fae4-11e9-956e-02420a01004a",
     "history": [
      {
       "current": "8c75eeee-fa35-11e9-bc54-02420a010e28",
       "next": "8c75eff2-fa35-11e9-bc54-02420a010e28",
       "previous": "8c75edf4-fa35-11e9-bc54-02420a010e28"
      }
     ],
     "next": "1635aa12-fae4-11e9-956e-02420a01004a",
     "previous": "1635a4fe-fae4-11e9-956e-02420a01004a"
    }
   },
   "source": [
    "辞書`temperature`に、新しくキー`\"Nagasaki\"`とその値`21.4`を追加し、辞書`temperature`の内容を確認してください。"
   ]
  },
  {
   "cell_type": "code",
   "execution_count": null,
   "metadata": {
    "lc_cell_meme": {
     "current": "1635aa12-fae4-11e9-956e-02420a01004a",
     "history": [
      {
       "current": "8c75eff2-fa35-11e9-bc54-02420a010e28",
       "next": "8c75f0ec-fa35-11e9-bc54-02420a010e28",
       "previous": "8c75eeee-fa35-11e9-bc54-02420a010e28"
      },
      {
       "current": "1635aa12-fae4-11e9-956e-02420a01004a",
       "next": "1635ab66-fae4-11e9-956e-02420a01004a",
       "previous": "1635a86e-fae4-11e9-956e-02420a01004a"
      }
     ],
     "next": "1635acc4-fae4-11e9-956e-02420a01004a",
     "previous": "1635a86e-fae4-11e9-956e-02420a01004a"
    }
   },
   "outputs": [],
   "source": [
    "# 演習入力欄（?を修正して、キー\"Nagasaki\"と値21.4を指定すること）\n",
    "temperature[????????] = ????\n",
    "temperature"
   ]
  },
  {
   "cell_type": "markdown",
   "metadata": {
    "lc_cell_meme": {
     "current": "1635acc4-fae4-11e9-956e-02420a01004a",
     "history": [
      {
       "current": "8c75f1e6-fa35-11e9-bc54-02420a010e28",
       "next": "8c75f2ea-fa35-11e9-bc54-02420a010e28",
       "previous": "8c75f0ec-fa35-11e9-bc54-02420a010e28"
      },
      {
       "current": "1635acc4-fae4-11e9-956e-02420a01004a",
       "next": "1635ae18-fae4-11e9-956e-02420a01004a",
       "previous": "1635ab66-fae4-11e9-956e-02420a01004a"
      }
     ],
     "next": "1635ae18-fae4-11e9-956e-02420a01004a",
     "previous": "1635aa12-fae4-11e9-956e-02420a01004a"
    }
   },
   "source": [
    "<font size='2' color='blue'>ヒント：次のように、`'Nagasaki': 21.4`が追加されて出力されます。\n",
    "\n",
    "```\n",
    "Out [#]: {'Sapporo': 8.0,\n",
    "          'Tokyo': 15.3,\n",
    "             :\n",
    "          'Fukuoka': 16.0,\n",
    "          'Nagasaki': 21.4}\n",
    "```\n",
    "</font>"
   ]
  },
  {
   "cell_type": "markdown",
   "metadata": {
    "lc_cell_meme": {
     "current": "1635ae18-fae4-11e9-956e-02420a01004a",
     "history": [
      {
       "current": "8c75f2ea-fa35-11e9-bc54-02420a010e28",
       "next": "8c75f416-fa35-11e9-bc54-02420a010e28",
       "previous": "8c75f1e6-fa35-11e9-bc54-02420a010e28"
      }
     ],
     "next": "1635af6c-fae4-11e9-956e-02420a01004a",
     "previous": "1635acc4-fae4-11e9-956e-02420a01004a"
    }
   },
   "source": [
    "### 辞書の検索"
   ]
  },
  {
   "cell_type": "markdown",
   "metadata": {
    "lc_cell_meme": {
     "current": "1635af6c-fae4-11e9-956e-02420a01004a",
     "history": [
      {
       "current": "8c75f416-fa35-11e9-bc54-02420a010e28",
       "next": "8c75f510-fa35-11e9-bc54-02420a010e28",
       "previous": "8c75f2ea-fa35-11e9-bc54-02420a010e28"
      }
     ],
     "next": "1635b0ca-fae4-11e9-956e-02420a01004a",
     "previous": "1635ae18-fae4-11e9-956e-02420a01004a"
    }
   },
   "source": [
    "辞書に対して演算子 `in`を使うことで、辞書にキーが含まれているかどうかを調べることができます。"
   ]
  },
  {
   "cell_type": "markdown",
   "metadata": {
    "lc_cell_meme": {
     "current": "1635b0ca-fae4-11e9-956e-02420a01004a",
     "history": [
      {
       "current": "8c75f510-fa35-11e9-bc54-02420a010e28",
       "next": "8c75f60a-fa35-11e9-bc54-02420a010e28",
       "previous": "8c75f416-fa35-11e9-bc54-02420a010e28"
      }
     ],
     "next": "1635b2f0-fae4-11e9-956e-02420a01004a",
     "previous": "1635af6c-fae4-11e9-956e-02420a01004a"
    }
   },
   "source": [
    "#### 例題（教科書P58）"
   ]
  },
  {
   "cell_type": "markdown",
   "metadata": {
    "lc_cell_meme": {
     "current": "1635b2f0-fae4-11e9-956e-02420a01004a",
     "history": [
      {
       "current": "8c75f60a-fa35-11e9-bc54-02420a010e28",
       "next": "8c75f736-fa35-11e9-bc54-02420a010e28",
       "previous": "8c75f510-fa35-11e9-bc54-02420a010e28"
      }
     ],
     "next": "1635b458-fae4-11e9-956e-02420a01004a",
     "previous": "1635b0ca-fae4-11e9-956e-02420a01004a"
    }
   },
   "source": [
    "辞書`tempearture`に対して、キー`\"Osaka\"`または`\"Yamagata\"`を指定し、それらが含まれているかどうかを調べてください。"
   ]
  },
  {
   "cell_type": "code",
   "execution_count": null,
   "metadata": {
    "lc_cell_meme": {
     "current": "1635b458-fae4-11e9-956e-02420a01004a",
     "history": [
      {
       "current": "8c75f736-fa35-11e9-bc54-02420a010e28",
       "next": "8c75f830-fa35-11e9-bc54-02420a010e28",
       "previous": "8c75f60a-fa35-11e9-bc54-02420a010e28"
      },
      {
       "current": "1635b458-fae4-11e9-956e-02420a01004a",
       "next": "1635b5a2-fae4-11e9-956e-02420a01004a",
       "previous": "1635b2f0-fae4-11e9-956e-02420a01004a"
      }
     ],
     "next": "1635b836-fae4-11e9-956e-02420a01004a",
     "previous": "1635b2f0-fae4-11e9-956e-02420a01004a"
    }
   },
   "outputs": [],
   "source": [
    "# 演習入力欄（???を修正してキー\"Osaka\"または\"Yamagata\"を指定すること）\n",
    "????? in temperature"
   ]
  },
  {
   "cell_type": "markdown",
   "metadata": {
    "lc_cell_meme": {
     "current": "1635b836-fae4-11e9-956e-02420a01004a",
     "history": [
      {
       "current": "8c75fa2e-fa35-11e9-bc54-02420a010e28",
       "next": "8c75fb28-fa35-11e9-bc54-02420a010e28",
       "previous": "8c75f934-fa35-11e9-bc54-02420a010e28"
      },
      {
       "current": "1635b836-fae4-11e9-956e-02420a01004a",
       "next": "1635b976-fae4-11e9-956e-02420a01004a",
       "previous": "1635b6ec-fae4-11e9-956e-02420a01004a"
      }
     ],
     "next": "1635b976-fae4-11e9-956e-02420a01004a",
     "previous": "1635b458-fae4-11e9-956e-02420a01004a"
    }
   },
   "source": [
    "<font size='2' color='blue'>ヒント：`\"Osaka\"`を指定したときは`Out[#]: True`、`\"Yamagata`\"を指定したときは`Out[#]: False`と出力されます。</font>"
   ]
  },
  {
   "cell_type": "markdown",
   "metadata": {
    "lc_cell_meme": {
     "current": "1635b976-fae4-11e9-956e-02420a01004a",
     "history": [
      {
       "current": "8c75fb28-fa35-11e9-bc54-02420a010e28",
       "next": "8c75fc36-fa35-11e9-bc54-02420a010e28",
       "previous": "8c75fa2e-fa35-11e9-bc54-02420a010e28"
      }
     ],
     "next": "1635bae8-fae4-11e9-956e-02420a01004a",
     "previous": "1635b836-fae4-11e9-956e-02420a01004a"
    }
   },
   "source": [
    "#### 例題（教科書P59）"
   ]
  },
  {
   "cell_type": "markdown",
   "metadata": {
    "lc_cell_meme": {
     "current": "1635bae8-fae4-11e9-956e-02420a01004a",
     "history": [
      {
       "current": "8c75fc36-fa35-11e9-bc54-02420a010e28",
       "next": "8c75fd30-fa35-11e9-bc54-02420a010e28",
       "previous": "8c75fb28-fa35-11e9-bc54-02420a010e28"
      }
     ],
     "next": "1635bc32-fae4-11e9-956e-02420a01004a",
     "previous": "1635b976-fae4-11e9-956e-02420a01004a"
    }
   },
   "source": [
    "辞書`tempearture`に対して、キー`\"Osaka\"`または`\"Yamagata\"`を指定し、キーが含まれているときはその平均気温を表示し、含まれていないときは、「`都市名`が見つかりません」と表示するプログラムを作成してください。"
   ]
  },
  {
   "cell_type": "markdown",
   "metadata": {
    "lc_cell_meme": {
     "current": "1635bc32-fae4-11e9-956e-02420a01004a",
     "history": [
      {
       "current": "8c75fd30-fa35-11e9-bc54-02420a010e28",
       "next": "8c75fe2a-fa35-11e9-bc54-02420a010e28",
       "previous": "8c75fc36-fa35-11e9-bc54-02420a010e28"
      }
     ],
     "next": "1635be76-fae4-11e9-956e-02420a01004a",
     "previous": "1635bae8-fae4-11e9-956e-02420a01004a"
    }
   },
   "source": [
    "<font size=\"2\" color=\"red\">注意：教科書は`k = input(\"都市名 = ?\")`ですが、入力簡略化のために`k = \"Osaka\"`のように直接キーを指定しています。</font>"
   ]
  },
  {
   "cell_type": "code",
   "execution_count": null,
   "metadata": {
    "lc_cell_meme": {
     "current": "1635be76-fae4-11e9-956e-02420a01004a",
     "history": [
      {
       "current": "8c75fe2a-fa35-11e9-bc54-02420a010e28",
       "next": "8c75ff2e-fa35-11e9-bc54-02420a010e28",
       "previous": "8c75fd30-fa35-11e9-bc54-02420a010e28"
      },
      {
       "current": "1635be76-fae4-11e9-956e-02420a01004a",
       "next": "1635c006-fae4-11e9-956e-02420a01004a",
       "previous": "1635bc32-fae4-11e9-956e-02420a01004a"
      }
     ],
     "next": "1635c2c2-fae4-11e9-956e-02420a01004a",
     "previous": "1635bc32-fae4-11e9-956e-02420a01004a"
    },
    "lc_wrapper": {
     "log_history": [
      "/home/16999405x4b0807/06a/.log/20191029/20191029-192916-0248.log"
     ]
    }
   },
   "outputs": [],
   "source": [
    "# 演習用入力欄 （???の部分を修正すること）\n",
    "k = ?????? # ???にキー`\"Osaka\"`または`\"Yamagata\"`を指定すること\n",
    "?? k ?? temperature:　#temperatureのキーにkが含まれるか？\n",
    "    print(\"The average temperature in\", k, \"is\", temperature[k], \"degree.\")\n",
    "?????\n",
    "    print(k, \"is not found.\" )"
   ]
  },
  {
   "cell_type": "markdown",
   "metadata": {
    "lc_cell_meme": {
     "current": "1635c2c2-fae4-11e9-956e-02420a01004a",
     "history": [
      {
       "current": "8c760122-fa35-11e9-bc54-02420a010e28",
       "next": "8c76021c-fa35-11e9-bc54-02420a010e28",
       "previous": "8c760028-fa35-11e9-bc54-02420a010e28"
      },
      {
       "current": "1635c2c2-fae4-11e9-956e-02420a01004a",
       "next": "1635c416-fae4-11e9-956e-02420a01004a",
       "previous": "1635c164-fae4-11e9-956e-02420a01004a"
      }
     ],
     "next": "1635c416-fae4-11e9-956e-02420a01004a",
     "previous": "1635be76-fae4-11e9-956e-02420a01004a"
    }
   },
   "source": [
    "<font size='2' color='blue'>ヒント：`k = \"Osaka\"`としたときは`The average temperature in Osaka is 16.2 degree.`、`k = \"Yamagata\"`としたときは`Yamagata is not found.`と表示されます。</font>"
   ]
  },
  {
   "cell_type": "markdown",
   "metadata": {
    "lc_cell_meme": {
     "current": "1635c416-fae4-11e9-956e-02420a01004a",
     "history": [
      {
       "current": "8c76021c-fa35-11e9-bc54-02420a010e28",
       "next": "8c760316-fa35-11e9-bc54-02420a010e28",
       "previous": "8c760122-fa35-11e9-bc54-02420a010e28"
      }
     ],
     "next": "1635c574-fae4-11e9-956e-02420a01004a",
     "previous": "1635c2c2-fae4-11e9-956e-02420a01004a"
    }
   },
   "source": [
    "# __演習はこれで終了です。課題に進んでください。__"
   ]
  },
  {
   "cell_type": "code",
   "execution_count": null,
   "metadata": {
    "lc_cell_meme": {
     "current": "1635c574-fae4-11e9-956e-02420a01004a",
     "history": [
      {
       "current": "8c760316-fa35-11e9-bc54-02420a010e28",
       "next": null,
       "previous": "8c76021c-fa35-11e9-bc54-02420a010e28"
      }
     ],
     "next": null,
     "previous": "1635c416-fae4-11e9-956e-02420a01004a"
    }
   },
   "outputs": [],
   "source": []
  }
 ],
 "metadata": {
  "celltoolbar": "Raw Cell Format",
  "kernelspec": {
   "display_name": "Python 3",
   "language": "python",
   "name": "python3"
  },
  "language_info": {
   "file_extension": ".py",
   "mimetype": "text/x-python",
   "name": "python",
   "nbconvert_exporter": "python",
   "pygments_lexer": "ipython3",
   "version": "3.7.3"
  },
  "lc_notebook_meme": {
   "current": "163507ba-fae4-11e9-956e-02420a01004a",
   "history": [
    "cebf3c90-2391-11e9-a9f8-e0d55ea40caf",
    "aa7bef44-96e2-11e9-8e94-02420a010063"
   ],
   "lc_server_signature": {
    "current": {
     "notebook_dir": "/home/16999405x4b0807",
     "notebook_path": "/06",
     "server_url": "https://nb06.ecloud.nii.ac.jp/user/16999405x4b0807/",
     "signature_id": "9dd54594-df60-11e9-8bcf-02420a010029"
    },
    "history": [
     {
      "notebook_dir": "/home/kuwata/notebooks",
      "notebook_path": "/",
      "server_url": "http://157.19.141.8:8000/user/kuwata/",
      "signature_id": "d0abe7ae-153d-11e9-9674-e0d55ea40caf"
     },
     {
      "notebook_dir": "/home/kuwataa25e07",
      "notebook_path": "/03",
      "server_url": "https://nb02.ecloud.nii.ac.jp/user/kuwataa25e07/",
      "signature_id": "8e0bfa62-88ae-11e9-b239-02420a010019"
     },
     {
      "notebook_dir": "/home/16999405x4b0807",
      "notebook_path": "/06a",
      "server_url": "https://nb06.ecloud.nii.ac.jp/user/16999405x4b0807/",
      "signature_id": "9dd54594-df60-11e9-8bcf-02420a010029"
     }
    ]
   },
   "root_cells": [
    "16350e86-fae4-11e9-956e-02420a01004a",
    "1635108e-fae4-11e9-956e-02420a01004a",
    "1635121e-fae4-11e9-956e-02420a01004a",
    "163513a4-fae4-11e9-956e-02420a01004a",
    "16351520-fae4-11e9-956e-02420a01004a",
    "16351660-fae4-11e9-956e-02420a01004a",
    "163517b4-fae4-11e9-956e-02420a01004a",
    "16351958-fae4-11e9-956e-02420a01004a",
    "16351aac-fae4-11e9-956e-02420a01004a",
    "16351c1e-fae4-11e9-956e-02420a01004a",
    "16351d68-fae4-11e9-956e-02420a01004a",
    "16351ebc-fae4-11e9-956e-02420a01004a",
    "16352006-fae4-11e9-956e-02420a01004a",
    "163521c8-fae4-11e9-956e-02420a01004a",
    "16352362-fae4-11e9-956e-02420a01004a",
    "16352510-fae4-11e9-956e-02420a01004a",
    "16352682-fae4-11e9-956e-02420a01004a",
    "163527cc-fae4-11e9-956e-02420a01004a",
    "1635293e-fae4-11e9-956e-02420a01004a",
    "16352a88-fae4-11e9-956e-02420a01004a",
    "16352bfa-fae4-11e9-956e-02420a01004a",
    "16352d6c-fae4-11e9-956e-02420a01004a",
    "16352eb6-fae4-11e9-956e-02420a01004a",
    "163531d6-fae4-11e9-956e-02420a01004a",
    "1635335c-fae4-11e9-956e-02420a01004a",
    "163534a6-fae4-11e9-956e-02420a01004a",
    "16353618-fae4-11e9-956e-02420a01004a",
    "16353762-fae4-11e9-956e-02420a01004a",
    "163538ac-fae4-11e9-956e-02420a01004a",
    "163539f6-fae4-11e9-956e-02420a01004a",
    "16353b4a-fae4-11e9-956e-02420a01004a",
    "16353cd0-fae4-11e9-956e-02420a01004a",
    "16353e42-fae4-11e9-956e-02420a01004a",
    "16353f96-fae4-11e9-956e-02420a01004a",
    "163541bc-fae4-11e9-956e-02420a01004a",
    "163543c4-fae4-11e9-956e-02420a01004a",
    "16354590-fae4-11e9-956e-02420a01004a",
    "163546ee-fae4-11e9-956e-02420a01004a",
    "163548f6-fae4-11e9-956e-02420a01004a",
    "16354a90-fae4-11e9-956e-02420a01004a",
    "16354c02-fae4-11e9-956e-02420a01004a",
    "16354d88-fae4-11e9-956e-02420a01004a",
    "16354ee6-fae4-11e9-956e-02420a01004a",
    "16355044-fae4-11e9-956e-02420a01004a",
    "163551ca-fae4-11e9-956e-02420a01004a",
    "16355328-fae4-11e9-956e-02420a01004a",
    "16355486-fae4-11e9-956e-02420a01004a",
    "16355710-fae4-11e9-956e-02420a01004a",
    "16355904-fae4-11e9-956e-02420a01004a",
    "16355a9e-fae4-11e9-956e-02420a01004a",
    "16355bf2-fae4-11e9-956e-02420a01004a",
    "16355d46-fae4-11e9-956e-02420a01004a",
    "16355e90-fae4-11e9-956e-02420a01004a",
    "16355fda-fae4-11e9-956e-02420a01004a",
    "16356124-fae4-11e9-956e-02420a01004a",
    "16356296-fae4-11e9-956e-02420a01004a",
    "16356408-fae4-11e9-956e-02420a01004a",
    "16356548-fae4-11e9-956e-02420a01004a",
    "16356692-fae4-11e9-956e-02420a01004a",
    "163567dc-fae4-11e9-956e-02420a01004a",
    "16356944-fae4-11e9-956e-02420a01004a",
    "16356ab6-fae4-11e9-956e-02420a01004a",
    "16356c00-fae4-11e9-956e-02420a01004a",
    "16356dfe-fae4-11e9-956e-02420a01004a",
    "16356fe8-fae4-11e9-956e-02420a01004a",
    "163571aa-fae4-11e9-956e-02420a01004a",
    "16357312-fae4-11e9-956e-02420a01004a",
    "16357542-fae4-11e9-956e-02420a01004a",
    "163576a0-fae4-11e9-956e-02420a01004a",
    "16357826-fae4-11e9-956e-02420a01004a",
    "16357984-fae4-11e9-956e-02420a01004a",
    "16357b78-fae4-11e9-956e-02420a01004a",
    "16357ccc-fae4-11e9-956e-02420a01004a",
    "16357e98-fae4-11e9-956e-02420a01004a",
    "16358186-fae4-11e9-956e-02420a01004a",
    "163582da-fae4-11e9-956e-02420a01004a",
    "16358424-fae4-11e9-956e-02420a01004a",
    "1635856e-fae4-11e9-956e-02420a01004a",
    "163586b8-fae4-11e9-956e-02420a01004a",
    "1635882a-fae4-11e9-956e-02420a01004a",
    "1635896a-fae4-11e9-956e-02420a01004a",
    "16358ae6-fae4-11e9-956e-02420a01004a",
    "16358c30-fae4-11e9-956e-02420a01004a",
    "16358da2-fae4-11e9-956e-02420a01004a",
    "16358eec-fae4-11e9-956e-02420a01004a",
    "1635902c-fae4-11e9-956e-02420a01004a",
    "16359176-fae4-11e9-956e-02420a01004a",
    "163592e8-fae4-11e9-956e-02420a01004a",
    "16359428-fae4-11e9-956e-02420a01004a",
    "16359568-fae4-11e9-956e-02420a01004a",
    "163597b6-fae4-11e9-956e-02420a01004a",
    "16359950-fae4-11e9-956e-02420a01004a",
    "16359aae-fae4-11e9-956e-02420a01004a",
    "16359c02-fae4-11e9-956e-02420a01004a",
    "16359d88-fae4-11e9-956e-02420a01004a",
    "16359f22-fae4-11e9-956e-02420a01004a",
    "1635a076-fae4-11e9-956e-02420a01004a",
    "1635a260-fae4-11e9-956e-02420a01004a",
    "1635a3aa-fae4-11e9-956e-02420a01004a",
    "1635a4fe-fae4-11e9-956e-02420a01004a",
    "1635a86e-fae4-11e9-956e-02420a01004a",
    "1635aa12-fae4-11e9-956e-02420a01004a",
    "1635ab66-fae4-11e9-956e-02420a01004a",
    "1635acc4-fae4-11e9-956e-02420a01004a",
    "1635ae18-fae4-11e9-956e-02420a01004a",
    "1635af6c-fae4-11e9-956e-02420a01004a",
    "1635b0ca-fae4-11e9-956e-02420a01004a",
    "1635b2f0-fae4-11e9-956e-02420a01004a",
    "1635b458-fae4-11e9-956e-02420a01004a",
    "1635b5a2-fae4-11e9-956e-02420a01004a",
    "1635b6ec-fae4-11e9-956e-02420a01004a",
    "1635b836-fae4-11e9-956e-02420a01004a",
    "1635b976-fae4-11e9-956e-02420a01004a",
    "1635bae8-fae4-11e9-956e-02420a01004a",
    "1635bc32-fae4-11e9-956e-02420a01004a",
    "1635be76-fae4-11e9-956e-02420a01004a",
    "1635c006-fae4-11e9-956e-02420a01004a",
    "1635c164-fae4-11e9-956e-02420a01004a",
    "1635c2c2-fae4-11e9-956e-02420a01004a",
    "1635c416-fae4-11e9-956e-02420a01004a",
    "1635c574-fae4-11e9-956e-02420a01004a"
   ]
  },
  "toc": {
   "base_numbering": 1,
   "nav_menu": {},
   "number_sections": true,
   "sideBar": true,
   "skip_h1_title": false,
   "title_cell": "Table of Contents",
   "title_sidebar": "Contents",
   "toc_cell": false,
   "toc_position": {},
   "toc_section_display": true,
   "toc_window_display": true
  }
 },
 "nbformat": 4,
 "nbformat_minor": 2
}
