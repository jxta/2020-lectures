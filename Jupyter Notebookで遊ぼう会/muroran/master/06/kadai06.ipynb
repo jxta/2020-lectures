{
 "cells": [
  {
   "cell_type": "markdown",
   "metadata": {
    "lc_cell_meme": {
     "current": "224daab6-fae4-11e9-ad73-02420a01004a",
     "history": [
      {
       "current": "4baeeaaa-96df-11e9-8b94-e0d55ea40caf",
       "next": "4baeeaab-96df-11e9-8b94-e0d55ea40caf",
       "previous": null
      },
      {
       "current": "b38b6c40-96e2-11e9-893e-02420a010063",
       "next": "b38b6de4-96e2-11e9-893e-02420a010063",
       "previous": null
      }
     ],
     "next": "224dacdc-fae4-11e9-ad73-02420a01004a",
     "previous": null
    }
   },
   "source": [
    "# プログラミング入門\n",
    "  第6回　データ型（リスト、辞書）（課題）"
   ]
  },
  {
   "cell_type": "markdown",
   "metadata": {
    "lc_cell_meme": {
     "current": "224dacdc-fae4-11e9-ad73-02420a01004a",
     "history": [
      {
       "current": "4baeeaab-96df-11e9-8b94-e0d55ea40caf",
       "next": "4baeeaac-96df-11e9-8b94-e0d55ea40caf",
       "previous": "4baeeaaa-96df-11e9-8b94-e0d55ea40caf"
      },
      {
       "current": "b38b6de4-96e2-11e9-893e-02420a010063",
       "next": "b38b6eca-96e2-11e9-893e-02420a010063",
       "previous": "b38b6c40-96e2-11e9-893e-02420a010063"
      }
     ],
     "next": "224dae9e-fae4-11e9-ad73-02420a01004a",
     "previous": "224daab6-fae4-11e9-ad73-02420a01004a"
    }
   },
   "source": [
    "次のセルに、自分の名前と学籍番号を記入して下さい。"
   ]
  },
  {
   "cell_type": "raw",
   "metadata": {
    "lc_cell_meme": {
     "current": "224dae9e-fae4-11e9-ad73-02420a01004a",
     "history": [
      {
       "current": "4baeeaac-96df-11e9-8b94-e0d55ea40caf",
       "next": "efa662f7-96de-11e9-8b94-e0d55ea40caf",
       "previous": "4baeeaab-96df-11e9-8b94-e0d55ea40caf"
      },
      {
       "current": "4baeeaac-96df-11e9-8b94-e0d55ea40caf",
       "next": "efa662f7-96de-11e9-8b94-e0d55ea40caf",
       "previous": "4baeeaab-96df-11e9-8b94-e0d55ea40caf"
      },
      {
       "current": "4baeeaac-96df-11e9-8b94-e0d55ea40caf",
       "next": "933950fe-96df-11e9-8b94-e0d55ea40caf",
       "previous": "4baeeaac-96df-11e9-8b94-e0d55ea40caf"
      },
      {
       "current": "4baeeaac-96df-11e9-8b94-e0d55ea40caf",
       "next": "933950fe-96df-11e9-8b94-e0d55ea40caf",
       "previous": "4baeeaac-96df-11e9-8b94-e0d55ea40caf"
      },
      {
       "current": "4baeeaac-96df-11e9-8b94-e0d55ea40caf",
       "next": "933950fe-96df-11e9-8b94-e0d55ea40caf",
       "previous": "4baeeaac-96df-11e9-8b94-e0d55ea40caf"
      },
      {
       "current": "4baeeaac-96df-11e9-8b94-e0d55ea40caf",
       "next": "933950fe-96df-11e9-8b94-e0d55ea40caf",
       "previous": "4baeeaac-96df-11e9-8b94-e0d55ea40caf"
      },
      {
       "current": "4baeeaac-96df-11e9-8b94-e0d55ea40caf",
       "next": "933950fe-96df-11e9-8b94-e0d55ea40caf",
       "previous": "4baeeaac-96df-11e9-8b94-e0d55ea40caf"
      },
      {
       "current": "4baeeaac-96df-11e9-8b94-e0d55ea40caf",
       "next": "933950fe-96df-11e9-8b94-e0d55ea40caf",
       "previous": "4baeeaac-96df-11e9-8b94-e0d55ea40caf"
      },
      {
       "current": "4baeeaac-96df-11e9-8b94-e0d55ea40caf",
       "next": "933950fe-96df-11e9-8b94-e0d55ea40caf",
       "previous": "4baeeaac-96df-11e9-8b94-e0d55ea40caf"
      },
      {
       "current": "4baeeaac-96df-11e9-8b94-e0d55ea40caf",
       "next": "933950fe-96df-11e9-8b94-e0d55ea40caf",
       "previous": "4baeeaac-96df-11e9-8b94-e0d55ea40caf"
      },
      {
       "current": "4baeeaac-96df-11e9-8b94-e0d55ea40caf",
       "next": "933950fe-96df-11e9-8b94-e0d55ea40caf",
       "previous": "4baeeaac-96df-11e9-8b94-e0d55ea40caf"
      },
      {
       "current": "4baeeaac-96df-11e9-8b94-e0d55ea40caf",
       "next": "933950fe-96df-11e9-8b94-e0d55ea40caf",
       "previous": "4baeeaac-96df-11e9-8b94-e0d55ea40caf"
      },
      {
       "current": "4baeeaac-96df-11e9-8b94-e0d55ea40caf",
       "next": "4baeeaac-96df-11e9-8b94-e0d55ea40caf",
       "previous": "4baeeaab-96df-11e9-8b94-e0d55ea40caf"
      },
      {
       "current": "b38b6eca-96e2-11e9-893e-02420a010063",
       "next": "b38b6fc4-96e2-11e9-893e-02420a010063",
       "previous": "b38b6de4-96e2-11e9-893e-02420a010063"
      }
     ],
     "next": "224db074-fae4-11e9-ad73-02420a01004a",
     "previous": "224dacdc-fae4-11e9-ad73-02420a01004a"
    }
   },
   "source": [
    "学籍番号：　　　　　　　　　　　氏名："
   ]
  },
  {
   "cell_type": "markdown",
   "metadata": {
    "lc_cell_meme": {
     "current": "224db074-fae4-11e9-ad73-02420a01004a",
     "history": [
      {
       "current": "4baeeaac-96df-11e9-8b94-e0d55ea40caf",
       "next": "efa662f7-96de-11e9-8b94-e0d55ea40caf",
       "previous": "4baeeaab-96df-11e9-8b94-e0d55ea40caf"
      },
      {
       "current": "4baeeaac-96df-11e9-8b94-e0d55ea40caf",
       "next": "efa662f7-96de-11e9-8b94-e0d55ea40caf",
       "previous": "4baeeaab-96df-11e9-8b94-e0d55ea40caf"
      },
      {
       "current": "4baeeaac-96df-11e9-8b94-e0d55ea40caf",
       "next": "933950fe-96df-11e9-8b94-e0d55ea40caf",
       "previous": "4baeeaac-96df-11e9-8b94-e0d55ea40caf"
      },
      {
       "current": "4baeeaac-96df-11e9-8b94-e0d55ea40caf",
       "next": "933950fe-96df-11e9-8b94-e0d55ea40caf",
       "previous": "4baeeaac-96df-11e9-8b94-e0d55ea40caf"
      },
      {
       "current": "4baeeaac-96df-11e9-8b94-e0d55ea40caf",
       "next": "933950fe-96df-11e9-8b94-e0d55ea40caf",
       "previous": "4baeeaac-96df-11e9-8b94-e0d55ea40caf"
      },
      {
       "current": "4baeeaac-96df-11e9-8b94-e0d55ea40caf",
       "next": "933950fe-96df-11e9-8b94-e0d55ea40caf",
       "previous": "4baeeaac-96df-11e9-8b94-e0d55ea40caf"
      },
      {
       "current": "4baeeaac-96df-11e9-8b94-e0d55ea40caf",
       "next": "933950fe-96df-11e9-8b94-e0d55ea40caf",
       "previous": "4baeeaac-96df-11e9-8b94-e0d55ea40caf"
      },
      {
       "current": "4baeeaac-96df-11e9-8b94-e0d55ea40caf",
       "next": "933950fe-96df-11e9-8b94-e0d55ea40caf",
       "previous": "4baeeaac-96df-11e9-8b94-e0d55ea40caf"
      },
      {
       "current": "4baeeaac-96df-11e9-8b94-e0d55ea40caf",
       "next": "933950fe-96df-11e9-8b94-e0d55ea40caf",
       "previous": "4baeeaac-96df-11e9-8b94-e0d55ea40caf"
      },
      {
       "current": "4baeeaac-96df-11e9-8b94-e0d55ea40caf",
       "next": "933950fe-96df-11e9-8b94-e0d55ea40caf",
       "previous": "4baeeaac-96df-11e9-8b94-e0d55ea40caf"
      },
      {
       "current": "4baeeaac-96df-11e9-8b94-e0d55ea40caf",
       "next": "933950fe-96df-11e9-8b94-e0d55ea40caf",
       "previous": "4baeeaac-96df-11e9-8b94-e0d55ea40caf"
      },
      {
       "current": "4baeeaac-96df-11e9-8b94-e0d55ea40caf",
       "next": "933950fe-96df-11e9-8b94-e0d55ea40caf",
       "previous": "4baeeaac-96df-11e9-8b94-e0d55ea40caf"
      },
      {
       "current": "b38b6fc4-96e2-11e9-893e-02420a010063",
       "next": "b38b7118-96e2-11e9-893e-02420a010063",
       "previous": "b38b6eca-96e2-11e9-893e-02420a010063"
      },
      {
       "current": "b38b6fc4-96e2-11e9-893e-02420a010063",
       "next": "b38b730c-96e2-11e9-893e-02420a010063",
       "previous": "b38b6eca-96e2-11e9-893e-02420a010063"
      }
     ],
     "next": "224db218-fae4-11e9-ad73-02420a01004a",
     "previous": "224dae9e-fae4-11e9-ad73-02420a01004a"
    }
   },
   "source": [
    "【進め方の注意】\n",
    "\n",
    "- 文章を読んで、教科書や演習を確認しながら、自分で進めてください。\n",
    "- 回答が終わったら、Notebookを保存してください。\n",
    "- 授業時間終了前に回答が済んだ人は退出して構いません。\n",
    "\n",
    "【注意事項】\n",
    "- 点数を付けますので、必ず提出してください。"
   ]
  },
  {
   "cell_type": "markdown",
   "metadata": {
    "lc_cell_meme": {
     "current": "224db218-fae4-11e9-ad73-02420a01004a",
     "history": [
      {
       "current": "93395100-96df-11e9-8b94-e0d55ea40caf",
       "next": "efa662f7-96de-11e9-8b94-e0d55ea40caf",
       "previous": "933950ff-96df-11e9-8b94-e0d55ea40caf"
      },
      {
       "current": "b38b730c-96e2-11e9-893e-02420a010063",
       "next": "b38b73a2-96e2-11e9-893e-02420a010063",
       "previous": "b38b723a-96e2-11e9-893e-02420a010063"
      },
      {
       "current": "b38b730c-96e2-11e9-893e-02420a010063",
       "next": "b38b730c-96e2-11e9-893e-02420a010063",
       "previous": "b38b6fc4-96e2-11e9-893e-02420a010063"
      }
     ],
     "next": "224db43e-fae4-11e9-ad73-02420a01004a",
     "previous": "224db074-fae4-11e9-ad73-02420a01004a"
    }
   },
   "source": [
    "## 課題：リストを要素に持つリスト"
   ]
  },
  {
   "cell_type": "markdown",
   "metadata": {
    "lc_cell_meme": {
     "current": "224db43e-fae4-11e9-ad73-02420a01004a",
     "history": [
      {
       "current": "93395100-96df-11e9-8b94-e0d55ea40caf",
       "next": "efa662f7-96de-11e9-8b94-e0d55ea40caf",
       "previous": "933950ff-96df-11e9-8b94-e0d55ea40caf"
      },
      {
       "current": "b38b730c-96e2-11e9-893e-02420a010063",
       "next": "b38b73a2-96e2-11e9-893e-02420a010063",
       "previous": "b38b723a-96e2-11e9-893e-02420a010063"
      },
      {
       "current": "b38b730c-96e2-11e9-893e-02420a010063",
       "next": "179a8732-fa36-11e9-bc54-02420a010e28",
       "previous": "b38b730c-96e2-11e9-893e-02420a010063"
      }
     ],
     "next": "224db5ce-fae4-11e9-ad73-02420a01004a",
     "previous": "224db218-fae4-11e9-ad73-02420a01004a"
    }
   },
   "source": [
    "### 課題1：リスト作成（教科書P55）"
   ]
  },
  {
   "cell_type": "markdown",
   "metadata": {
    "lc_cell_meme": {
     "current": "224db5ce-fae4-11e9-ad73-02420a01004a",
     "history": [
      {
       "current": "179a8732-fa36-11e9-bc54-02420a010e28",
       "next": "179a8a3e-fa36-11e9-bc54-02420a010e28",
       "previous": "b38b730c-96e2-11e9-893e-02420a010063"
      }
     ],
     "next": "224db74a-fae4-11e9-ad73-02420a01004a",
     "previous": "224db43e-fae4-11e9-ad73-02420a01004a"
    }
   },
   "source": [
    "次の表のリスト[\"都市名\"、平均気温]を要素にもつリストを作成し、変数`citiyinfo`に代入しなさい。その後、変数`citiyinfo`の値を確認しなさい。\n",
    "\n",
    "|都市名|平均気温|\n",
    "|-|-|\n",
    "|\"Sapporo\"|8.0|\n",
    "|\"Tokyo\"|15.3|\n",
    "|\"Osaka\"|16.2|\n",
    "|\"Fukuoka\"|16.0|"
   ]
  },
  {
   "cell_type": "code",
   "execution_count": null,
   "metadata": {
    "lc_cell_meme": {
     "current": "224db74a-fae4-11e9-ad73-02420a01004a",
     "history": [
      {
       "current": "179a8a3e-fa36-11e9-bc54-02420a010e28",
       "next": "179a8b74-fa36-11e9-bc54-02420a010e28",
       "previous": "179a8732-fa36-11e9-bc54-02420a010e28"
      },
      {
       "current": "224db74a-fae4-11e9-ad73-02420a01004a",
       "next": "224db8bc-fae4-11e9-ad73-02420a01004a",
       "previous": "224db5ce-fae4-11e9-ad73-02420a01004a"
      }
     ],
     "next": "224dba06-fae4-11e9-ad73-02420a01004a",
     "previous": "224db5ce-fae4-11e9-ad73-02420a01004a"
    }
   },
   "outputs": [],
   "source": [
    "# 課題用入力欄 (?を修正してリストを作成すること)\n",
    "cityinfo = ?????????\n",
    "cityinfo"
   ]
  },
  {
   "cell_type": "markdown",
   "metadata": {
    "lc_cell_meme": {
     "current": "224dba06-fae4-11e9-ad73-02420a01004a",
     "history": [
      {
       "current": "93395100-96df-11e9-8b94-e0d55ea40caf",
       "next": "efa662f7-96de-11e9-8b94-e0d55ea40caf",
       "previous": "933950ff-96df-11e9-8b94-e0d55ea40caf"
      },
      {
       "current": "b38b730c-96e2-11e9-893e-02420a010063",
       "next": "b38b73a2-96e2-11e9-893e-02420a010063",
       "previous": "b38b723a-96e2-11e9-893e-02420a010063"
      },
      {
       "current": "b38b730c-96e2-11e9-893e-02420a010063",
       "next": "179a8c8c-fa36-11e9-bc54-02420a010e28",
       "previous": "179a8b74-fa36-11e9-bc54-02420a010e28"
      },
      {
       "current": "224dba06-fae4-11e9-ad73-02420a01004a",
       "next": "224dbb50-fae4-11e9-ad73-02420a01004a",
       "previous": "224db8bc-fae4-11e9-ad73-02420a01004a"
      }
     ],
     "next": "224dbb50-fae4-11e9-ad73-02420a01004a",
     "previous": "224db74a-fae4-11e9-ad73-02420a01004a"
    }
   },
   "source": [
    "### 課題2：リストの要素の出力（教科書P55）"
   ]
  },
  {
   "cell_type": "markdown",
   "metadata": {
    "lc_cell_meme": {
     "current": "224dbb50-fae4-11e9-ad73-02420a01004a",
     "history": [
      {
       "current": "179a8c8c-fa36-11e9-bc54-02420a010e28",
       "next": "179a8d9a-fa36-11e9-bc54-02420a010e28",
       "previous": "b38b730c-96e2-11e9-893e-02420a010063"
      }
     ],
     "next": "224dbccc-fae4-11e9-ad73-02420a01004a",
     "previous": "224dba06-fae4-11e9-ad73-02420a01004a"
    }
   },
   "source": [
    "`city[1]`のようにインデックス1を指定し、平均気温だけを取り出して表示してください。"
   ]
  },
  {
   "cell_type": "code",
   "execution_count": null,
   "metadata": {
    "lc_cell_meme": {
     "current": "224dbccc-fae4-11e9-ad73-02420a01004a",
     "history": [
      {
       "current": "179a8d9a-fa36-11e9-bc54-02420a010e28",
       "next": "179a8e94-fa36-11e9-bc54-02420a010e28",
       "previous": "179a8c8c-fa36-11e9-bc54-02420a010e28"
      },
      {
       "current": "224dbccc-fae4-11e9-ad73-02420a01004a",
       "next": "224dbe34-fae4-11e9-ad73-02420a01004a",
       "previous": "224dbb50-fae4-11e9-ad73-02420a01004a"
      }
     ],
     "next": "224dc03c-fae4-11e9-ad73-02420a01004a",
     "previous": "224dbb50-fae4-11e9-ad73-02420a01004a"
    }
   },
   "outputs": [],
   "source": [
    "# 課題入力欄 （?を修正すること）\n",
    "??? city ?? cityinfo:　# for文を使って要素を取り出すように、?を修正すること\n",
    "    print(city???)   # ?を修正し、平均気温だけを表示すること"
   ]
  },
  {
   "cell_type": "markdown",
   "metadata": {
    "lc_cell_meme": {
     "current": "224dc03c-fae4-11e9-ad73-02420a01004a",
     "history": [
      {
       "current": "efa662f7-96de-11e9-8b94-e0d55ea40caf",
       "next": "efa662f8-96de-11e9-8b94-e0d55ea40caf",
       "previous": null
      },
      {
       "current": "efa662f7-96de-11e9-8b94-e0d55ea40caf",
       "next": "efa662f8-96de-11e9-8b94-e0d55ea40caf",
       "previous": "4baeeaac-96df-11e9-8b94-e0d55ea40caf"
      },
      {
       "current": "efa662f7-96de-11e9-8b94-e0d55ea40caf",
       "next": "efa662f8-96de-11e9-8b94-e0d55ea40caf",
       "previous": "93395100-96df-11e9-8b94-e0d55ea40caf"
      },
      {
       "current": "efa662f7-96de-11e9-8b94-e0d55ea40caf",
       "next": "f8da5718-96e0-11e9-8b94-e0d55ea40caf",
       "previous": "93395100-96df-11e9-8b94-e0d55ea40caf"
      },
      {
       "current": "b38b73a2-96e2-11e9-893e-02420a010063",
       "next": "b38b7442-96e2-11e9-893e-02420a010063",
       "previous": "b38b730c-96e2-11e9-893e-02420a010063"
      },
      {
       "current": "b38b73a2-96e2-11e9-893e-02420a010063",
       "next": "b38b7442-96e2-11e9-893e-02420a010063",
       "previous": "179a8e94-fa36-11e9-bc54-02420a010e28"
      },
      {
       "current": "224dc03c-fae4-11e9-ad73-02420a01004a",
       "next": "224dc1c2-fae4-11e9-ad73-02420a01004a",
       "previous": "224dbe34-fae4-11e9-ad73-02420a01004a"
      }
     ],
     "next": "224dc1c2-fae4-11e9-ad73-02420a01004a",
     "previous": "224dbccc-fae4-11e9-ad73-02420a01004a"
    }
   },
   "source": [
    "### 課題3：リストのリストを使った計算1"
   ]
  },
  {
   "cell_type": "markdown",
   "metadata": {
    "lc_cell_meme": {
     "current": "224dc1c2-fae4-11e9-ad73-02420a01004a",
     "history": [
      {
       "current": "f8da5718-96e0-11e9-8b94-e0d55ea40caf",
       "next": "efa662f8-96de-11e9-8b94-e0d55ea40caf",
       "previous": "efa662f7-96de-11e9-8b94-e0d55ea40caf"
      },
      {
       "current": "b38b7442-96e2-11e9-893e-02420a010063",
       "next": "b38b74d8-96e2-11e9-893e-02420a010063",
       "previous": "b38b73a2-96e2-11e9-893e-02420a010063"
      },
      {
       "current": "b38b7442-96e2-11e9-893e-02420a010063",
       "next": "179a8f98-fa36-11e9-bc54-02420a010e28",
       "previous": "b38b73a2-96e2-11e9-893e-02420a010063"
      }
     ],
     "next": "224dc316-fae4-11e9-ad73-02420a01004a",
     "previous": "224dc03c-fae4-11e9-ad73-02420a01004a"
    }
   },
   "source": [
    "リスト`cityinfo`の要素のうち平均気温の一番低い都市とその平均気温を表示するプログラムを、作成しなさい。"
   ]
  },
  {
   "cell_type": "code",
   "execution_count": null,
   "metadata": {
    "lc_cell_meme": {
     "current": "224dc316-fae4-11e9-ad73-02420a01004a",
     "history": [
      {
       "current": "179a8f98-fa36-11e9-bc54-02420a010e28",
       "next": "179a9092-fa36-11e9-bc54-02420a010e28",
       "previous": "b38b7442-96e2-11e9-893e-02420a010063"
      },
      {
       "current": "224dc316-fae4-11e9-ad73-02420a01004a",
       "next": "224dc492-fae4-11e9-ad73-02420a01004a",
       "previous": "224dc1c2-fae4-11e9-ad73-02420a01004a"
      }
     ],
     "next": "224dc604-fae4-11e9-ad73-02420a01004a",
     "previous": "224dc1c2-fae4-11e9-ad73-02420a01004a"
    }
   },
   "outputs": [],
   "source": [
    "# 課題用入力欄　（?を修正すること）\n",
    "md = 100  # 最小値mdの初期値を設定\n",
    "c = \"\"    # 都市名を記録する変数c\n",
    "??? city ?? cityinfo:  # for文を使って要素を取り出すように、?を修正すること\n",
    "    ?? md ? city[1]:   # if文を使って「もし最小値mdが平均気温より大きいならば」となるように、?を修正すること\n",
    "        md = city[1]   # 最小値mdに平均気温を格納する。\n",
    "        c = city[0]    # 変数cに都市名を記録する。\n",
    "        \n",
    "print(\"The average temperature in\", c, \"is\", md, \"degree.\") \n",
    "# 都市名と平均気温を表示する。"
   ]
  },
  {
   "cell_type": "markdown",
   "metadata": {
    "lc_cell_meme": {
     "current": "224dc604-fae4-11e9-ad73-02420a01004a",
     "history": [
      {
       "current": "efa662f7-96de-11e9-8b94-e0d55ea40caf",
       "next": "efa662f8-96de-11e9-8b94-e0d55ea40caf",
       "previous": null
      },
      {
       "current": "efa662f7-96de-11e9-8b94-e0d55ea40caf",
       "next": "efa662f8-96de-11e9-8b94-e0d55ea40caf",
       "previous": "4baeeaac-96df-11e9-8b94-e0d55ea40caf"
      },
      {
       "current": "efa662f7-96de-11e9-8b94-e0d55ea40caf",
       "next": "efa662f8-96de-11e9-8b94-e0d55ea40caf",
       "previous": "93395100-96df-11e9-8b94-e0d55ea40caf"
      },
      {
       "current": "efa662f7-96de-11e9-8b94-e0d55ea40caf",
       "next": "f8da5718-96e0-11e9-8b94-e0d55ea40caf",
       "previous": "93395100-96df-11e9-8b94-e0d55ea40caf"
      },
      {
       "current": "b38b73a2-96e2-11e9-893e-02420a010063",
       "next": "b38b7442-96e2-11e9-893e-02420a010063",
       "previous": "b38b730c-96e2-11e9-893e-02420a010063"
      },
      {
       "current": "b38b73a2-96e2-11e9-893e-02420a010063",
       "next": "b38b7442-96e2-11e9-893e-02420a010063",
       "previous": "179a9092-fa36-11e9-bc54-02420a010e28"
      },
      {
       "current": "224dc604-fae4-11e9-ad73-02420a01004a",
       "next": "224dc74e-fae4-11e9-ad73-02420a01004a",
       "previous": "224dc492-fae4-11e9-ad73-02420a01004a"
      }
     ],
     "next": "224dc74e-fae4-11e9-ad73-02420a01004a",
     "previous": "224dc316-fae4-11e9-ad73-02420a01004a"
    }
   },
   "source": [
    "### 課題4：リストのリストを使った計算2"
   ]
  },
  {
   "cell_type": "markdown",
   "metadata": {
    "lc_cell_meme": {
     "current": "224dc74e-fae4-11e9-ad73-02420a01004a",
     "history": [
      {
       "current": "f8da5718-96e0-11e9-8b94-e0d55ea40caf",
       "next": "efa662f8-96de-11e9-8b94-e0d55ea40caf",
       "previous": "efa662f7-96de-11e9-8b94-e0d55ea40caf"
      },
      {
       "current": "b38b7442-96e2-11e9-893e-02420a010063",
       "next": "b38b74d8-96e2-11e9-893e-02420a010063",
       "previous": "b38b73a2-96e2-11e9-893e-02420a010063"
      }
     ],
     "next": "224dc898-fae4-11e9-ad73-02420a01004a",
     "previous": "224dc604-fae4-11e9-ad73-02420a01004a"
    }
   },
   "source": [
    "リスト`cityinfo`の要素のうち平均気温の一番高い都市とその平均気温を表示するプログラムを作成しなさい。"
   ]
  },
  {
   "cell_type": "code",
   "execution_count": null,
   "metadata": {
    "lc_cell_meme": {
     "current": "224dc898-fae4-11e9-ad73-02420a01004a",
     "history": [
      {
       "current": "efa662f8-96de-11e9-8b94-e0d55ea40caf",
       "next": null,
       "previous": "efa662f7-96de-11e9-8b94-e0d55ea40caf"
      },
      {
       "current": "efa662f8-96de-11e9-8b94-e0d55ea40caf",
       "next": "f8da5719-96e0-11e9-8b94-e0d55ea40caf",
       "previous": "f8da5718-96e0-11e9-8b94-e0d55ea40caf"
      },
      {
       "current": "b38b74d8-96e2-11e9-893e-02420a010063",
       "next": "b38b756e-96e2-11e9-893e-02420a010063",
       "previous": "b38b7442-96e2-11e9-893e-02420a010063"
      },
      {
       "current": "b38b74d8-96e2-11e9-893e-02420a010063",
       "next": "b38b74d8-96e2-11e9-893e-02420a010063",
       "previous": "b38b7442-96e2-11e9-893e-02420a010063"
      },
      {
       "current": "224dc898-fae4-11e9-ad73-02420a01004a",
       "next": "224dc9e2-fae4-11e9-ad73-02420a01004a",
       "previous": "224dc74e-fae4-11e9-ad73-02420a01004a"
      }
     ],
     "next": "224dcb5e-fae4-11e9-ad73-02420a01004a",
     "previous": "224dc74e-fae4-11e9-ad73-02420a01004a"
    }
   },
   "outputs": [],
   "source": [
    "# 課題入力欄\n"
   ]
  },
  {
   "cell_type": "markdown",
   "metadata": {
    "lc_cell_meme": {
     "current": "224dcb5e-fae4-11e9-ad73-02420a01004a",
     "history": [
      {
       "current": "179a9196-fa36-11e9-bc54-02420a010e28",
       "next": "179a929a-fa36-11e9-bc54-02420a010e28",
       "previous": "b38b74d8-96e2-11e9-893e-02420a010063"
      },
      {
       "current": "224dcb5e-fae4-11e9-ad73-02420a01004a",
       "next": "224dcca8-fae4-11e9-ad73-02420a01004a",
       "previous": "224dc9e2-fae4-11e9-ad73-02420a01004a"
      }
     ],
     "next": "224dcca8-fae4-11e9-ad73-02420a01004a",
     "previous": "224dc898-fae4-11e9-ad73-02420a01004a"
    }
   },
   "source": [
    "# 課題は以上で終わりです。"
   ]
  },
  {
   "cell_type": "markdown",
   "metadata": {
    "lc_cell_meme": {
     "current": "224dcca8-fae4-11e9-ad73-02420a01004a",
     "history": [
      {
       "current": "179a929a-fa36-11e9-bc54-02420a010e28",
       "next": "179a939e-fa36-11e9-bc54-02420a010e28",
       "previous": "179a9196-fa36-11e9-bc54-02420a010e28"
      }
     ],
     "next": "224dcf1e-fae4-11e9-ad73-02420a01004a",
     "previous": "224dcb5e-fae4-11e9-ad73-02420a01004a"
    }
   },
   "source": [
    "## 評価結果"
   ]
  },
  {
   "cell_type": "code",
   "execution_count": null,
   "metadata": {
    "lc_cell_meme": {
     "current": "224dcf1e-fae4-11e9-ad73-02420a01004a",
     "history": [
      {
       "current": "179a939e-fa36-11e9-bc54-02420a010e28",
       "next": "179a9498-fa36-11e9-bc54-02420a010e28",
       "previous": "179a929a-fa36-11e9-bc54-02420a010e28"
      }
     ],
     "next": "224dd0a4-fae4-11e9-ad73-02420a01004a",
     "previous": "224dcca8-fae4-11e9-ad73-02420a01004a"
    }
   },
   "outputs": [],
   "source": []
  },
  {
   "cell_type": "markdown",
   "metadata": {
    "lc_cell_meme": {
     "current": "224dd0a4-fae4-11e9-ad73-02420a01004a",
     "history": [
      {
       "current": "179a9498-fa36-11e9-bc54-02420a010e28",
       "next": "179a9592-fa36-11e9-bc54-02420a010e28",
       "previous": "179a939e-fa36-11e9-bc54-02420a010e28"
      }
     ],
     "next": "224dd202-fae4-11e9-ad73-02420a01004a",
     "previous": "224dcf1e-fae4-11e9-ad73-02420a01004a"
    }
   },
   "source": [
    "## コメントなど"
   ]
  },
  {
   "cell_type": "code",
   "execution_count": null,
   "metadata": {
    "lc_cell_meme": {
     "current": "224dd202-fae4-11e9-ad73-02420a01004a",
     "history": [
      {
       "current": "179a9592-fa36-11e9-bc54-02420a010e28",
       "next": null,
       "previous": "179a9498-fa36-11e9-bc54-02420a010e28"
      }
     ],
     "next": null,
     "previous": "224dd0a4-fae4-11e9-ad73-02420a01004a"
    }
   },
   "outputs": [],
   "source": []
  }
 ],
 "metadata": {
  "kernelspec": {
   "display_name": "Python 3",
   "language": "python",
   "name": "python3"
  },
  "language_info": {
   "file_extension": ".py",
   "mimetype": "text/x-python",
   "name": "python",
   "nbconvert_exporter": "python",
   "pygments_lexer": "ipython3",
   "version": "3.7.3"
  },
  "lc_notebook_meme": {
   "current": "224da282-fae4-11e9-ad73-02420a01004a",
   "history": [
    "efa662f6-96de-11e9-8b94-e0d55ea40caf",
    "b38b6614-96e2-11e9-893e-02420a010063"
   ],
   "lc_server_signature": {
    "current": {
     "notebook_dir": "/home/16999405x4b0807",
     "notebook_path": "/06",
     "server_url": "https://nb06.ecloud.nii.ac.jp/user/16999405x4b0807/",
     "signature_id": "9dd54594-df60-11e9-8bcf-02420a010029"
    },
    "history": [
     {
      "notebook_dir": "/home/kuwata/notebooks",
      "notebook_path": "/",
      "server_url": "http://157.19.141.8:8000/user/kuwata/",
      "signature_id": "d0abe7ae-153d-11e9-9674-e0d55ea40caf"
     },
     {
      "notebook_dir": "/home/16999405x4b0807",
      "notebook_path": "/06a",
      "server_url": "https://nb06.ecloud.nii.ac.jp/user/16999405x4b0807/",
      "signature_id": "9dd54594-df60-11e9-8bcf-02420a010029"
     }
    ]
   },
   "root_cells": [
    "224daab6-fae4-11e9-ad73-02420a01004a",
    "224dacdc-fae4-11e9-ad73-02420a01004a",
    "224dae9e-fae4-11e9-ad73-02420a01004a",
    "224db074-fae4-11e9-ad73-02420a01004a",
    "224db218-fae4-11e9-ad73-02420a01004a",
    "224db43e-fae4-11e9-ad73-02420a01004a",
    "224db5ce-fae4-11e9-ad73-02420a01004a",
    "224db74a-fae4-11e9-ad73-02420a01004a",
    "224db8bc-fae4-11e9-ad73-02420a01004a",
    "224dba06-fae4-11e9-ad73-02420a01004a",
    "224dbb50-fae4-11e9-ad73-02420a01004a",
    "224dbccc-fae4-11e9-ad73-02420a01004a",
    "224dbe34-fae4-11e9-ad73-02420a01004a",
    "224dc03c-fae4-11e9-ad73-02420a01004a",
    "224dc1c2-fae4-11e9-ad73-02420a01004a",
    "224dc316-fae4-11e9-ad73-02420a01004a",
    "224dc492-fae4-11e9-ad73-02420a01004a",
    "224dc604-fae4-11e9-ad73-02420a01004a",
    "224dc74e-fae4-11e9-ad73-02420a01004a",
    "224dc898-fae4-11e9-ad73-02420a01004a",
    "224dc9e2-fae4-11e9-ad73-02420a01004a",
    "224dcb5e-fae4-11e9-ad73-02420a01004a",
    "224dcca8-fae4-11e9-ad73-02420a01004a",
    "224dcf1e-fae4-11e9-ad73-02420a01004a",
    "224dd0a4-fae4-11e9-ad73-02420a01004a",
    "224dd202-fae4-11e9-ad73-02420a01004a"
   ]
  },
  "toc": {
   "base_numbering": 1,
   "nav_menu": {},
   "number_sections": true,
   "sideBar": true,
   "skip_h1_title": false,
   "title_cell": "Table of Contents",
   "title_sidebar": "Contents",
   "toc_cell": false,
   "toc_position": {},
   "toc_section_display": true,
   "toc_window_display": false
  }
 },
 "nbformat": 4,
 "nbformat_minor": 2
}
