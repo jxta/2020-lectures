{
 "cells": [
  {
   "cell_type": "markdown",
   "metadata": {
    "lc_cell_meme": {
     "current": "6cb27dc6-173f-11ea-8821-02420a010445",
     "history": [
      {
       "current": "4baeeaaa-96df-11e9-8b94-e0d55ea40caf",
       "next": "4baeeaab-96df-11e9-8b94-e0d55ea40caf",
       "previous": null
      },
      {
       "current": "b38b6c40-96e2-11e9-893e-02420a010063",
       "next": "b38b6de4-96e2-11e9-893e-02420a010063",
       "previous": null
      }
     ],
     "next": "6cb2808c-173f-11ea-8821-02420a010445",
     "previous": null
    }
   },
   "source": [
    "# プログラミング入門\n",
    "第10回　アルゴリズム（１）（課題）"
   ]
  },
  {
   "cell_type": "markdown",
   "metadata": {
    "lc_cell_meme": {
     "current": "6cb2808c-173f-11ea-8821-02420a010445",
     "history": [
      {
       "current": "4baeeaab-96df-11e9-8b94-e0d55ea40caf",
       "next": "4baeeaac-96df-11e9-8b94-e0d55ea40caf",
       "previous": "4baeeaaa-96df-11e9-8b94-e0d55ea40caf"
      },
      {
       "current": "b38b6de4-96e2-11e9-893e-02420a010063",
       "next": "b38b6eca-96e2-11e9-893e-02420a010063",
       "previous": "b38b6c40-96e2-11e9-893e-02420a010063"
      }
     ],
     "next": "6cb2823a-173f-11ea-8821-02420a010445",
     "previous": "6cb27dc6-173f-11ea-8821-02420a010445"
    }
   },
   "source": [
    "次のセルに、自分の名前と学籍番号を記入して下さい。"
   ]
  },
  {
   "cell_type": "raw",
   "metadata": {
    "lc_cell_meme": {
     "current": "6cb2823a-173f-11ea-8821-02420a010445",
     "history": [
      {
       "current": "4baeeaac-96df-11e9-8b94-e0d55ea40caf",
       "next": "efa662f7-96de-11e9-8b94-e0d55ea40caf",
       "previous": "4baeeaab-96df-11e9-8b94-e0d55ea40caf"
      },
      {
       "current": "4baeeaac-96df-11e9-8b94-e0d55ea40caf",
       "next": "efa662f7-96de-11e9-8b94-e0d55ea40caf",
       "previous": "4baeeaab-96df-11e9-8b94-e0d55ea40caf"
      },
      {
       "current": "4baeeaac-96df-11e9-8b94-e0d55ea40caf",
       "next": "933950fe-96df-11e9-8b94-e0d55ea40caf",
       "previous": "4baeeaac-96df-11e9-8b94-e0d55ea40caf"
      },
      {
       "current": "4baeeaac-96df-11e9-8b94-e0d55ea40caf",
       "next": "933950fe-96df-11e9-8b94-e0d55ea40caf",
       "previous": "4baeeaac-96df-11e9-8b94-e0d55ea40caf"
      },
      {
       "current": "4baeeaac-96df-11e9-8b94-e0d55ea40caf",
       "next": "933950fe-96df-11e9-8b94-e0d55ea40caf",
       "previous": "4baeeaac-96df-11e9-8b94-e0d55ea40caf"
      },
      {
       "current": "4baeeaac-96df-11e9-8b94-e0d55ea40caf",
       "next": "933950fe-96df-11e9-8b94-e0d55ea40caf",
       "previous": "4baeeaac-96df-11e9-8b94-e0d55ea40caf"
      },
      {
       "current": "4baeeaac-96df-11e9-8b94-e0d55ea40caf",
       "next": "933950fe-96df-11e9-8b94-e0d55ea40caf",
       "previous": "4baeeaac-96df-11e9-8b94-e0d55ea40caf"
      },
      {
       "current": "4baeeaac-96df-11e9-8b94-e0d55ea40caf",
       "next": "933950fe-96df-11e9-8b94-e0d55ea40caf",
       "previous": "4baeeaac-96df-11e9-8b94-e0d55ea40caf"
      },
      {
       "current": "4baeeaac-96df-11e9-8b94-e0d55ea40caf",
       "next": "933950fe-96df-11e9-8b94-e0d55ea40caf",
       "previous": "4baeeaac-96df-11e9-8b94-e0d55ea40caf"
      },
      {
       "current": "4baeeaac-96df-11e9-8b94-e0d55ea40caf",
       "next": "933950fe-96df-11e9-8b94-e0d55ea40caf",
       "previous": "4baeeaac-96df-11e9-8b94-e0d55ea40caf"
      },
      {
       "current": "4baeeaac-96df-11e9-8b94-e0d55ea40caf",
       "next": "933950fe-96df-11e9-8b94-e0d55ea40caf",
       "previous": "4baeeaac-96df-11e9-8b94-e0d55ea40caf"
      },
      {
       "current": "4baeeaac-96df-11e9-8b94-e0d55ea40caf",
       "next": "933950fe-96df-11e9-8b94-e0d55ea40caf",
       "previous": "4baeeaac-96df-11e9-8b94-e0d55ea40caf"
      },
      {
       "current": "4baeeaac-96df-11e9-8b94-e0d55ea40caf",
       "next": "4baeeaac-96df-11e9-8b94-e0d55ea40caf",
       "previous": "4baeeaab-96df-11e9-8b94-e0d55ea40caf"
      },
      {
       "current": "b38b6eca-96e2-11e9-893e-02420a010063",
       "next": "b38b6fc4-96e2-11e9-893e-02420a010063",
       "previous": "b38b6de4-96e2-11e9-893e-02420a010063"
      }
     ],
     "next": "6cb283c0-173f-11ea-8821-02420a010445",
     "previous": "6cb2808c-173f-11ea-8821-02420a010445"
    }
   },
   "source": [
    "学籍番号：　　　　　　　　　　　氏名："
   ]
  },
  {
   "cell_type": "markdown",
   "metadata": {
    "lc_cell_meme": {
     "current": "6cb283c0-173f-11ea-8821-02420a010445",
     "history": [
      {
       "current": "4baeeaac-96df-11e9-8b94-e0d55ea40caf",
       "next": "efa662f7-96de-11e9-8b94-e0d55ea40caf",
       "previous": "4baeeaab-96df-11e9-8b94-e0d55ea40caf"
      },
      {
       "current": "4baeeaac-96df-11e9-8b94-e0d55ea40caf",
       "next": "efa662f7-96de-11e9-8b94-e0d55ea40caf",
       "previous": "4baeeaab-96df-11e9-8b94-e0d55ea40caf"
      },
      {
       "current": "4baeeaac-96df-11e9-8b94-e0d55ea40caf",
       "next": "933950fe-96df-11e9-8b94-e0d55ea40caf",
       "previous": "4baeeaac-96df-11e9-8b94-e0d55ea40caf"
      },
      {
       "current": "4baeeaac-96df-11e9-8b94-e0d55ea40caf",
       "next": "933950fe-96df-11e9-8b94-e0d55ea40caf",
       "previous": "4baeeaac-96df-11e9-8b94-e0d55ea40caf"
      },
      {
       "current": "4baeeaac-96df-11e9-8b94-e0d55ea40caf",
       "next": "933950fe-96df-11e9-8b94-e0d55ea40caf",
       "previous": "4baeeaac-96df-11e9-8b94-e0d55ea40caf"
      },
      {
       "current": "4baeeaac-96df-11e9-8b94-e0d55ea40caf",
       "next": "933950fe-96df-11e9-8b94-e0d55ea40caf",
       "previous": "4baeeaac-96df-11e9-8b94-e0d55ea40caf"
      },
      {
       "current": "4baeeaac-96df-11e9-8b94-e0d55ea40caf",
       "next": "933950fe-96df-11e9-8b94-e0d55ea40caf",
       "previous": "4baeeaac-96df-11e9-8b94-e0d55ea40caf"
      },
      {
       "current": "4baeeaac-96df-11e9-8b94-e0d55ea40caf",
       "next": "933950fe-96df-11e9-8b94-e0d55ea40caf",
       "previous": "4baeeaac-96df-11e9-8b94-e0d55ea40caf"
      },
      {
       "current": "4baeeaac-96df-11e9-8b94-e0d55ea40caf",
       "next": "933950fe-96df-11e9-8b94-e0d55ea40caf",
       "previous": "4baeeaac-96df-11e9-8b94-e0d55ea40caf"
      },
      {
       "current": "4baeeaac-96df-11e9-8b94-e0d55ea40caf",
       "next": "933950fe-96df-11e9-8b94-e0d55ea40caf",
       "previous": "4baeeaac-96df-11e9-8b94-e0d55ea40caf"
      },
      {
       "current": "4baeeaac-96df-11e9-8b94-e0d55ea40caf",
       "next": "933950fe-96df-11e9-8b94-e0d55ea40caf",
       "previous": "4baeeaac-96df-11e9-8b94-e0d55ea40caf"
      },
      {
       "current": "4baeeaac-96df-11e9-8b94-e0d55ea40caf",
       "next": "933950fe-96df-11e9-8b94-e0d55ea40caf",
       "previous": "4baeeaac-96df-11e9-8b94-e0d55ea40caf"
      },
      {
       "current": "b38b6fc4-96e2-11e9-893e-02420a010063",
       "next": "b38b7118-96e2-11e9-893e-02420a010063",
       "previous": "b38b6eca-96e2-11e9-893e-02420a010063"
      }
     ],
     "next": "6cb2855a-173f-11ea-8821-02420a010445",
     "previous": "6cb2823a-173f-11ea-8821-02420a010445"
    }
   },
   "source": [
    "【進め方の注意】\n",
    "\n",
    "- 文書を読んで、手順に沿って問いに答えながら進めて下さい。\n",
    "- 最後の確認問題を解いて、ファイルを提出して下さい。\n",
    "- 途中わからないことがあれば、教員またはTAに質問して下さい。"
   ]
  },
  {
   "cell_type": "markdown",
   "metadata": {
    "lc_cell_meme": {
     "current": "6cb2855a-173f-11ea-8821-02420a010445",
     "history": [
      {
       "current": "933950fe-96df-11e9-8b94-e0d55ea40caf",
       "next": "933950ff-96df-11e9-8b94-e0d55ea40caf",
       "previous": "4baeeaac-96df-11e9-8b94-e0d55ea40caf"
      },
      {
       "current": "b38b7118-96e2-11e9-893e-02420a010063",
       "next": "b38b723a-96e2-11e9-893e-02420a010063",
       "previous": "b38b6fc4-96e2-11e9-893e-02420a010063"
      }
     ],
     "next": "6cb286f4-173f-11ea-8821-02420a010445",
     "previous": "6cb283c0-173f-11ea-8821-02420a010445"
    }
   },
   "source": [
    "## 注意事項"
   ]
  },
  {
   "cell_type": "markdown",
   "metadata": {
    "lc_cell_meme": {
     "current": "6cb286f4-173f-11ea-8821-02420a010445",
     "history": [
      {
       "current": "933950ff-96df-11e9-8b94-e0d55ea40caf",
       "next": "93395100-96df-11e9-8b94-e0d55ea40caf",
       "previous": "933950fe-96df-11e9-8b94-e0d55ea40caf"
      },
      {
       "current": "b38b723a-96e2-11e9-893e-02420a010063",
       "next": "b38b730c-96e2-11e9-893e-02420a010063",
       "previous": "b38b7118-96e2-11e9-893e-02420a010063"
      }
     ],
     "next": "6cb28866-173f-11ea-8821-02420a010445",
     "previous": "6cb2855a-173f-11ea-8821-02420a010445"
    }
   },
   "source": [
    "確認課題は、単位認定のための点数としてカウントします。\n",
    "\n",
    "友達と相談せず、自分だけでやってください。\n",
    "\n",
    "確認課題が終わった人は、提出後に退室して構いません。\n",
    "\n",
    "終わらなくても終了時刻までに提出してください。"
   ]
  },
  {
   "cell_type": "markdown",
   "metadata": {
    "lc_cell_meme": {
     "current": "6cb28866-173f-11ea-8821-02420a010445",
     "history": [
      {
       "current": "93395100-96df-11e9-8b94-e0d55ea40caf",
       "next": "efa662f7-96de-11e9-8b94-e0d55ea40caf",
       "previous": "933950ff-96df-11e9-8b94-e0d55ea40caf"
      },
      {
       "current": "b38b730c-96e2-11e9-893e-02420a010063",
       "next": "b38b73a2-96e2-11e9-893e-02420a010063",
       "previous": "b38b723a-96e2-11e9-893e-02420a010063"
      }
     ],
     "next": "6cb289b0-173f-11ea-8821-02420a010445",
     "previous": "6cb286f4-173f-11ea-8821-02420a010445"
    }
   },
   "source": [
    " # 課題"
   ]
  },
  {
   "cell_type": "markdown",
   "metadata": {
    "lc_cell_meme": {
     "current": "6cb289b0-173f-11ea-8821-02420a010445",
     "history": [
      {
       "current": "efa662f7-96de-11e9-8b94-e0d55ea40caf",
       "next": "efa662f8-96de-11e9-8b94-e0d55ea40caf",
       "previous": null
      },
      {
       "current": "efa662f7-96de-11e9-8b94-e0d55ea40caf",
       "next": "efa662f8-96de-11e9-8b94-e0d55ea40caf",
       "previous": "4baeeaac-96df-11e9-8b94-e0d55ea40caf"
      },
      {
       "current": "efa662f7-96de-11e9-8b94-e0d55ea40caf",
       "next": "efa662f8-96de-11e9-8b94-e0d55ea40caf",
       "previous": "93395100-96df-11e9-8b94-e0d55ea40caf"
      },
      {
       "current": "efa662f7-96de-11e9-8b94-e0d55ea40caf",
       "next": "f8da5718-96e0-11e9-8b94-e0d55ea40caf",
       "previous": "93395100-96df-11e9-8b94-e0d55ea40caf"
      },
      {
       "current": "b38b73a2-96e2-11e9-893e-02420a010063",
       "next": "b38b7442-96e2-11e9-893e-02420a010063",
       "previous": "b38b730c-96e2-11e9-893e-02420a010063"
      }
     ],
     "next": "6cb28b22-173f-11ea-8821-02420a010445",
     "previous": "6cb28866-173f-11ea-8821-02420a010445"
    }
   },
   "source": [
    "**都市の人口のソート**\n",
    "\n",
    "以下の手順で、与えられた都市の人口データを人口の大きい順にソートするプログラムを作成しなさい。\n",
    "    \n",
    "1. 与えられた都市データをリスト化する  \n",
    "\n",
    "1. 都市データの人口データの最大値の場所を返す関数、`max_pop_idx(l, s, e)`を定義する  \n",
    "  ここで、引数`l, s, e`はそれぞれ、リスト、リストの先頭の、リストの末尾のインデックスを与えるものとする。\n",
    "\n",
    "1. 2.で定義した`max_pop_idx(l, s, e)`を使って、1で与えられたデータを人口の多い順に選択ソートする関数、`selection_sort_pop(l)`を定義する。  \n",
    "　ここで、引数`l`はリストを与えるものとする。\n",
    "\n",
    "都市データ（参考：国勢調査(2015年10月1日））\n",
    "\n",
    "| 都市名 | 人口(千人）|\n",
    "| --:-- | :--: |\n",
    "| 札幌 | 1952 |\n",
    "| 仙台 | 1082 |\n",
    "| 東京23区 | 9273 |\n",
    "| 横浜 | 3725 |\n",
    "|名古屋| 2295 |\n",
    "| 大阪 | 2691 |\n",
    "| 広島 | 1194 |\n",
    "| 福岡 | 1538 |\n",
    "\n"
   ]
  },
  {
   "cell_type": "markdown",
   "metadata": {
    "lc_cell_meme": {
     "current": "6cb28b22-173f-11ea-8821-02420a010445",
     "history": [
      {
       "current": "f8da5718-96e0-11e9-8b94-e0d55ea40caf",
       "next": "efa662f8-96de-11e9-8b94-e0d55ea40caf",
       "previous": "efa662f7-96de-11e9-8b94-e0d55ea40caf"
      },
      {
       "current": "b38b7442-96e2-11e9-893e-02420a010063",
       "next": "b38b74d8-96e2-11e9-893e-02420a010063",
       "previous": "b38b73a2-96e2-11e9-893e-02420a010063"
      }
     ],
     "next": "6cb28c8a-173f-11ea-8821-02420a010445",
     "previous": "6cb289b0-173f-11ea-8821-02420a010445"
    }
   },
   "source": [
    "## 手順１ \n",
    "都市データを変数名``city_population``としてリスト化しなさい。都市データは2次元データの、```リストのリスト```として作成される。(P.55参照）"
   ]
  },
  {
   "cell_type": "code",
   "execution_count": null,
   "metadata": {
    "lc_cell_meme": {
     "current": "6cb28c8a-173f-11ea-8821-02420a010445",
     "history": [
      {
       "current": "efa662f8-96de-11e9-8b94-e0d55ea40caf",
       "next": null,
       "previous": "efa662f7-96de-11e9-8b94-e0d55ea40caf"
      },
      {
       "current": "efa662f8-96de-11e9-8b94-e0d55ea40caf",
       "next": "f8da5719-96e0-11e9-8b94-e0d55ea40caf",
       "previous": "f8da5718-96e0-11e9-8b94-e0d55ea40caf"
      },
      {
       "current": "b38b74d8-96e2-11e9-893e-02420a010063",
       "next": "b38b756e-96e2-11e9-893e-02420a010063",
       "previous": "b38b7442-96e2-11e9-893e-02420a010063"
      },
      {
       "current": "b38b74d8-96e2-11e9-893e-02420a010063",
       "next": "31d6dc30-9d26-11e9-a4a9-02420a010061",
       "previous": "b38b7442-96e2-11e9-893e-02420a010063"
      },
      {
       "current": "b38b74d8-96e2-11e9-893e-02420a010063",
       "next": "fd1cd5e6-9d28-11e9-a4a9-02420a010061",
       "previous": "b38b7442-96e2-11e9-893e-02420a010063"
      },
      {
       "current": "b38b74d8-96e2-11e9-893e-02420a010063",
       "next": "b38b756e-96e2-11e9-893e-02420a010063",
       "previous": "b38b7442-96e2-11e9-893e-02420a010063"
      }
     ],
     "next": "6cb28dd4-173f-11ea-8821-02420a010445",
     "previous": "6cb28b22-173f-11ea-8821-02420a010445"
    },
    "lc_wrapper": {
     "log_history": [
      "/home/ishizaka47c8ac/07/.log/20190703/20190703-091548-0255.log",
      "/home/10999408x8b656d/10a/.log/20191204/20191204-153910-0766.log",
      "/home/10999408x8b656d/10a/.log/20191204/20191204-154406-0540.log"
     ]
    }
   },
   "outputs": [],
   "source": [
    "# そのまま評価すること\n",
    "city_population = [\n",
    "    ['札幌',  1952],\n",
    "    ['仙台', 1082],\n",
    "    ['東京23区', 9273],\n",
    "    ['横浜',3725],\n",
    "    ['名古屋',2295],\n",
    "    ['大阪',2691],\n",
    "    ['広島',1194],\n",
    "    ['福岡',1538]]\n",
    "city_population"
   ]
  },
  {
   "cell_type": "markdown",
   "metadata": {
    "lc_cell_meme": {
     "current": "6cb28dd4-173f-11ea-8821-02420a010445",
     "history": [
      {
       "current": "f8da5719-96e0-11e9-8b94-e0d55ea40caf",
       "next": null,
       "previous": "efa662f8-96de-11e9-8b94-e0d55ea40caf"
      },
      {
       "current": "f8da5719-96e0-11e9-8b94-e0d55ea40caf",
       "next": "4060f3da-96e1-11e9-8b94-e0d55ea40caf",
       "previous": "efa662f8-96de-11e9-8b94-e0d55ea40caf"
      },
      {
       "current": "f8da5719-96e0-11e9-8b94-e0d55ea40caf",
       "next": "4060f3db-96e1-11e9-8b94-e0d55ea40caf",
       "previous": "efa662f8-96de-11e9-8b94-e0d55ea40caf"
      },
      {
       "current": "b38b756e-96e2-11e9-893e-02420a010063",
       "next": "b38b7604-96e2-11e9-893e-02420a010063",
       "previous": "b38b74d8-96e2-11e9-893e-02420a010063"
      },
      {
       "current": "b38b756e-96e2-11e9-893e-02420a010063",
       "next": "b38b7604-96e2-11e9-893e-02420a010063",
       "previous": "31d6dc30-9d26-11e9-a4a9-02420a010061"
      },
      {
       "current": "b38b756e-96e2-11e9-893e-02420a010063",
       "next": "fd1cd82a-9d28-11e9-a4a9-02420a010061",
       "previous": "31d6dc30-9d26-11e9-a4a9-02420a010061"
      },
      {
       "current": "b38b756e-96e2-11e9-893e-02420a010063",
       "next": "fd1cd82a-9d28-11e9-a4a9-02420a010061",
       "previous": "fd1cd5e6-9d28-11e9-a4a9-02420a010061"
      },
      {
       "current": "b38b756e-96e2-11e9-893e-02420a010063",
       "next": "fd1cd82a-9d28-11e9-a4a9-02420a010061",
       "previous": "b38b74d8-96e2-11e9-893e-02420a010063"
      }
     ],
     "next": "6cb28f6e-173f-11ea-8821-02420a010445",
     "previous": "6cb28c8a-173f-11ea-8821-02420a010445"
    }
   },
   "source": [
    "確認：\n",
    "```\n",
    "[['札幌', 1952],  \n",
    " ['仙台', 1082],  \n",
    " ['東京23区', 9273],  \n",
    " ['横浜', 3725],  \n",
    " ['名古屋', 2295],  \n",
    " ['大阪', 2691],  \n",
    " ['広島', 1194],  \n",
    " ['福岡', 1538]]  \n",
    "```"
   ]
  },
  {
   "cell_type": "markdown",
   "metadata": {
    "lc_cell_meme": {
     "current": "6cb28f6e-173f-11ea-8821-02420a010445",
     "history": [
      {
       "current": "fd1cd82a-9d28-11e9-a4a9-02420a010061",
       "next": "4ff1d44e-9d27-11e9-a4a9-02420a010061",
       "previous": "b38b7604-96e2-11e9-893e-02420a010063"
      },
      {
       "current": "fd1cd82a-9d28-11e9-a4a9-02420a010061",
       "next": "b38b7604-96e2-11e9-893e-02420a010063",
       "previous": "b38b756e-96e2-11e9-893e-02420a010063"
      }
     ],
     "next": "6cb290d6-173f-11ea-8821-02420a010445",
     "previous": "6cb28dd4-173f-11ea-8821-02420a010445"
    },
    "lc_wrapper": {
     "log_history": [
      "/home/ishizaka47c8ac/07/.log/20190703/20190703-092450-0052.log"
     ]
    }
   },
   "source": [
    "## 手順２ \n",
    "都市データの人口データの最大値の場所を返す関数、`max_pop_idx(l, s, e)`を定義しなさい。  \n",
    "- 引数：  \n",
    " `l`: 手順1で定義される形式のリスト型データ  \n",
    " `s`: ソート対象の先頭インデックス  \n",
    " `e`: ソート対象の末尾インデックス  \n",
    "- 戻り値：  \n",
    " 人口が最大の都市データが格納されている場所（インデックス） \n",
    "\n",
    "- ポイント：  \n",
    "  - 与えられるリストの何を比較するのか  \n",
    "    ヒント：`city_population`は*リストのリスト* で与えられていることに注意する。  \n",
    "     ソート前時点の`city_population[4]`は`['名古屋', 2295]`というリストである。  \n",
    "     先頭から4個目の都市名（`\"横浜\"`）のデータは `city_population[3][0]`である。\n",
    "  \n",
    "  - 比較方法は何か\n"
   ]
  },
  {
   "cell_type": "code",
   "execution_count": null,
   "metadata": {
    "lc_cell_meme": {
     "current": "6cb290d6-173f-11ea-8821-02420a010445",
     "history": [
      {
       "current": "4060f3db-96e1-11e9-8b94-e0d55ea40caf",
       "next": null,
       "previous": "4060f3da-96e1-11e9-8b94-e0d55ea40caf"
      },
      {
       "current": "4060f3db-96e1-11e9-8b94-e0d55ea40caf",
       "next": null,
       "previous": "f8da5719-96e0-11e9-8b94-e0d55ea40caf"
      },
      {
       "current": "b38b7604-96e2-11e9-893e-02420a010063",
       "next": null,
       "previous": "b38b756e-96e2-11e9-893e-02420a010063"
      },
      {
       "current": "b38b7604-96e2-11e9-893e-02420a010063",
       "next": "4ff1d44e-9d27-11e9-a4a9-02420a010061",
       "previous": "b38b756e-96e2-11e9-893e-02420a010063"
      },
      {
       "current": "b38b7604-96e2-11e9-893e-02420a010063",
       "next": "fd1cd82a-9d28-11e9-a4a9-02420a010061",
       "previous": "b38b756e-96e2-11e9-893e-02420a010063"
      },
      {
       "current": "b38b7604-96e2-11e9-893e-02420a010063",
       "next": "4ff1d44e-9d27-11e9-a4a9-02420a010061",
       "previous": "fd1cd82a-9d28-11e9-a4a9-02420a010061"
      },
      {
       "current": "b38b7604-96e2-11e9-893e-02420a010063",
       "next": "d3b37434-9d29-11e9-a4a9-02420a010061",
       "previous": "fd1cd82a-9d28-11e9-a4a9-02420a010061"
      },
      {
       "current": "b38b7604-96e2-11e9-893e-02420a010063",
       "next": "cac23ce2-14a8-11ea-b2c7-02420a010844",
       "previous": "fd1cd82a-9d28-11e9-a4a9-02420a010061"
      },
      {
       "current": "b38b7604-96e2-11e9-893e-02420a010063",
       "next": "a2a01f6c-1661-11ea-b866-02420a010445",
       "previous": "fd1cd82a-9d28-11e9-a4a9-02420a010061"
      },
      {
       "current": "b38b7604-96e2-11e9-893e-02420a010063",
       "next": "cac23ce2-14a8-11ea-b2c7-02420a010844",
       "previous": "fd1cd82a-9d28-11e9-a4a9-02420a010061"
      }
     ],
     "next": "6cb29216-173f-11ea-8821-02420a010445",
     "previous": "6cb28f6e-173f-11ea-8821-02420a010445"
    },
    "lc_wrapper": {
     "log_history": [
      "/home/ishizaka47c8ac/07/.log/20190703/20190703-091239-0309.log",
      "/home/ishizaka47c8ac/07/.log/20190703/20190703-091333-0722.log",
      "/home/ishizaka47c8ac/07/.log/20190703/20190703-093610-0178.log"
     ]
    }
   },
   "outputs": [],
   "source": [
    "def max_pop_idx(l, s, e):\n"
   ]
  },
  {
   "cell_type": "markdown",
   "metadata": {
    "lc_cell_meme": {
     "current": "6cb29216-173f-11ea-8821-02420a010445",
     "history": [
      {
       "current": "cac23ce2-14a8-11ea-b2c7-02420a010844",
       "next": "d3b37434-9d29-11e9-a4a9-02420a010061",
       "previous": "b38b7604-96e2-11e9-893e-02420a010063"
      },
      {
       "current": "cac23ce2-14a8-11ea-b2c7-02420a010844",
       "next": "d3b37434-9d29-11e9-a4a9-02420a010061",
       "previous": "a2a01f6c-1661-11ea-b866-02420a010445"
      },
      {
       "current": "cac23ce2-14a8-11ea-b2c7-02420a010844",
       "next": "d3b37434-9d29-11e9-a4a9-02420a010061",
       "previous": "b38b7604-96e2-11e9-893e-02420a010063"
      }
     ],
     "next": "6cb29388-173f-11ea-8821-02420a010445",
     "previous": "6cb290d6-173f-11ea-8821-02420a010445"
    }
   },
   "source": [
    "参考：教科書 P.85参照"
   ]
  },
  {
   "cell_type": "markdown",
   "metadata": {
    "lc_cell_meme": {
     "current": "6cb29388-173f-11ea-8821-02420a010445",
     "history": [
      {
       "current": "d3b37434-9d29-11e9-a4a9-02420a010061",
       "next": "4ff1d44e-9d27-11e9-a4a9-02420a010061",
       "previous": "b38b7604-96e2-11e9-893e-02420a010063"
      },
      {
       "current": "d3b37434-9d29-11e9-a4a9-02420a010061",
       "next": "4ff1d44e-9d27-11e9-a4a9-02420a010061",
       "previous": "cac23ce2-14a8-11ea-b2c7-02420a010844"
      }
     ],
     "next": "6cb294c8-173f-11ea-8821-02420a010445",
     "previous": "6cb29216-173f-11ea-8821-02420a010445"
    },
    "lc_wrapper": {
     "log_history": [
      "/home/ishizaka47c8ac/07/.log/20190703/20190703-093016-0149.log"
     ]
    }
   },
   "source": [
    "### 手順２の確認  \n",
    "手順２で定義した max_pop_idx()に、都市データ`city_population`と先頭のインデックスと末尾のインデックスを与えて、動作を検証しなさい。"
   ]
  },
  {
   "cell_type": "code",
   "execution_count": null,
   "metadata": {
    "lc_cell_meme": {
     "current": "6cb294c8-173f-11ea-8821-02420a010445",
     "history": [
      {
       "current": "4ff1d44e-9d27-11e9-a4a9-02420a010061",
       "next": "4ff1dd36-9d27-11e9-a4a9-02420a010061",
       "previous": "b38b7604-96e2-11e9-893e-02420a010063"
      },
      {
       "current": "4ff1d44e-9d27-11e9-a4a9-02420a010061",
       "next": "4ff1dd36-9d27-11e9-a4a9-02420a010061",
       "previous": "fd1cd82a-9d28-11e9-a4a9-02420a010061"
      },
      {
       "current": "4ff1d44e-9d27-11e9-a4a9-02420a010061",
       "next": "4ff1dd36-9d27-11e9-a4a9-02420a010061",
       "previous": "b38b7604-96e2-11e9-893e-02420a010063"
      },
      {
       "current": "4ff1d44e-9d27-11e9-a4a9-02420a010061",
       "next": "d3b37c40-9d29-11e9-a4a9-02420a010061",
       "previous": "d3b37434-9d29-11e9-a4a9-02420a010061"
      },
      {
       "current": "4ff1d44e-9d27-11e9-a4a9-02420a010061",
       "next": "f428a338-14a7-11ea-b2c7-02420a010844",
       "previous": "d3b37434-9d29-11e9-a4a9-02420a010061"
      },
      {
       "current": "4ff1d44e-9d27-11e9-a4a9-02420a010061",
       "next": "4ff1d44e-9d27-11e9-a4a9-02420a010061",
       "previous": "d3b37434-9d29-11e9-a4a9-02420a010061"
      },
      {
       "current": "4ff1d44e-9d27-11e9-a4a9-02420a010061",
       "next": "f428a338-14a7-11ea-b2c7-02420a010844",
       "previous": "d3b37434-9d29-11e9-a4a9-02420a010061"
      }
     ],
     "next": "6cb2963a-173f-11ea-8821-02420a010445",
     "previous": "6cb29388-173f-11ea-8821-02420a010445"
    },
    "lc_wrapper": {
     "log_history": [
      "/home/ishizaka47c8ac/07/.log/20190703/20190703-091256-0748.log",
      "/home/ishizaka47c8ac/07/.log/20190703/20190703-091302-0232.log",
      "/home/ishizaka47c8ac/07/.log/20190703/20190703-091336-0071.log",
      "/home/ishizaka47c8ac/07/.log/20190703/20190703-092909-0148.log",
      "/home/ishizaka47c8ac/07/.log/20190703/20190703-092921-0567.log"
     ]
    }
   },
   "outputs": [],
   "source": []
  },
  {
   "cell_type": "markdown",
   "metadata": {
    "lc_cell_meme": {
     "current": "6cb2963a-173f-11ea-8821-02420a010445",
     "history": [
      {
       "current": "f428a338-14a7-11ea-b2c7-02420a010844",
       "next": "d3b37c40-9d29-11e9-a4a9-02420a010061",
       "previous": "4ff1d44e-9d27-11e9-a4a9-02420a010061"
      }
     ],
     "next": "6cb29856-173f-11ea-8821-02420a010445",
     "previous": "6cb294c8-173f-11ea-8821-02420a010445"
    }
   },
   "source": [
    "ヒント：　”東京23区”が格納されているリストのインデックスが出力されれば正解です。"
   ]
  },
  {
   "cell_type": "markdown",
   "metadata": {
    "lc_cell_meme": {
     "current": "6cb29856-173f-11ea-8821-02420a010445",
     "history": [
      {
       "current": "d3b37c40-9d29-11e9-a4a9-02420a010061",
       "next": "4ff1dd36-9d27-11e9-a4a9-02420a010061",
       "previous": "4ff1d44e-9d27-11e9-a4a9-02420a010061"
      },
      {
       "current": "d3b37c40-9d29-11e9-a4a9-02420a010061",
       "next": "4ff1dd36-9d27-11e9-a4a9-02420a010061",
       "previous": "f428a338-14a7-11ea-b2c7-02420a010844"
      }
     ],
     "next": "6cb29a9a-173f-11ea-8821-02420a010445",
     "previous": "6cb2963a-173f-11ea-8821-02420a010445"
    }
   },
   "source": [
    "## 手順３\n",
    "定義した`max_pop_idx(l, s, e)`を使って、手順1で与えられたデータを*選択ソート*する関数、`selection_sort_pop(l)`を定義しなさい。"
   ]
  },
  {
   "cell_type": "code",
   "execution_count": null,
   "metadata": {
    "lc_cell_meme": {
     "current": "6cb29a9a-173f-11ea-8821-02420a010445",
     "history": [
      {
       "current": "4ff1dd36-9d27-11e9-a4a9-02420a010061",
       "next": null,
       "previous": "4ff1d44e-9d27-11e9-a4a9-02420a010061"
      },
      {
       "current": "4ff1dd36-9d27-11e9-a4a9-02420a010061",
       "next": "b59e3156-9d28-11e9-a4a9-02420a010061",
       "previous": "4ff1d44e-9d27-11e9-a4a9-02420a010061"
      },
      {
       "current": "4ff1dd36-9d27-11e9-a4a9-02420a010061",
       "next": "b59e3156-9d28-11e9-a4a9-02420a010061",
       "previous": "d3b37c40-9d29-11e9-a4a9-02420a010061"
      },
      {
       "current": "4ff1dd36-9d27-11e9-a4a9-02420a010061",
       "next": "62b7b6d6-9d2a-11e9-a4a9-02420a010061",
       "previous": "d3b37c40-9d29-11e9-a4a9-02420a010061"
      },
      {
       "current": "4ff1dd36-9d27-11e9-a4a9-02420a010061",
       "next": "833ba99e-14a8-11ea-b2c7-02420a010844",
       "previous": "d3b37c40-9d29-11e9-a4a9-02420a010061"
      },
      {
       "current": "4ff1dd36-9d27-11e9-a4a9-02420a010061",
       "next": "4ff1dd36-9d27-11e9-a4a9-02420a010061",
       "previous": "d3b37c40-9d29-11e9-a4a9-02420a010061"
      },
      {
       "current": "4ff1dd36-9d27-11e9-a4a9-02420a010061",
       "next": "833ba99e-14a8-11ea-b2c7-02420a010844",
       "previous": "d3b37c40-9d29-11e9-a4a9-02420a010061"
      }
     ],
     "next": "6cb29c66-173f-11ea-8821-02420a010445",
     "previous": "6cb29856-173f-11ea-8821-02420a010445"
    },
    "lc_wrapper": {
     "log_history": [
      "/home/ishizaka47c8ac/07/.log/20190703/20190703-092252-0116.log",
      "/home/ishizaka47c8ac/07/.log/20190703/20190703-092326-0466.log",
      "/home/ishizaka47c8ac/07/.log/20190703/20190703-092338-0310.log",
      "/home/ishizaka47c8ac/07/.log/20190703/20190703-094126-0345.log",
      "/home/ishizaka47c8ac/07/.log/20190703/20190703-094126-0608.log",
      "/home/10999408x8b656d/10a/.log/20191204/20191204-154945-0841.log"
     ]
    }
   },
   "outputs": [],
   "source": [
    "# 課題入力欄\n",
    "def selection_sort_pop(l):\n"
   ]
  },
  {
   "cell_type": "markdown",
   "metadata": {
    "lc_cell_meme": {
     "current": "6cb29c66-173f-11ea-8821-02420a010445",
     "history": [
      {
       "current": "833ba99e-14a8-11ea-b2c7-02420a010844",
       "next": "62b7b6d6-9d2a-11e9-a4a9-02420a010061",
       "previous": "4ff1dd36-9d27-11e9-a4a9-02420a010061"
      }
     ],
     "next": "6cb29e46-173f-11ea-8821-02420a010445",
     "previous": "6cb29a9a-173f-11ea-8821-02420a010445"
    }
   },
   "source": [
    "演習　教科書P.88 参照  \n",
    "この関数は与えられた引数のリストを直接並べ替えるので、関数の定義が間違っていると、`city_population`のリストは破壊される。初期状態に戻すには、2.1手順１のセルを再度評価すること。"
   ]
  },
  {
   "cell_type": "markdown",
   "metadata": {
    "lc_cell_meme": {
     "current": "6cb29e46-173f-11ea-8821-02420a010445",
     "history": [
      {
       "current": "62b7b6d6-9d2a-11e9-a4a9-02420a010061",
       "next": "b59e3156-9d28-11e9-a4a9-02420a010061",
       "previous": "4ff1dd36-9d27-11e9-a4a9-02420a010061"
      },
      {
       "current": "62b7b6d6-9d2a-11e9-a4a9-02420a010061",
       "next": "b59e3156-9d28-11e9-a4a9-02420a010061",
       "previous": "833ba99e-14a8-11ea-b2c7-02420a010844"
      }
     ],
     "next": "6cb29f9a-173f-11ea-8821-02420a010445",
     "previous": "6cb29c66-173f-11ea-8821-02420a010445"
    },
    "lc_wrapper": {
     "log_history": [
      "/home/ishizaka47c8ac/07/.log/20190703/20190703-093454-0899.log"
     ]
    }
   },
   "source": [
    "### 手順3の確認：  \n",
    "手順3-1:\n",
    "`city_population`を評価して、内容を確認しなさい。  "
   ]
  },
  {
   "cell_type": "code",
   "execution_count": null,
   "metadata": {
    "lc_cell_meme": {
     "current": "6cb29f9a-173f-11ea-8821-02420a010445",
     "history": [
      {
       "current": "b59e3156-9d28-11e9-a4a9-02420a010061",
       "next": null,
       "previous": "4ff1dd36-9d27-11e9-a4a9-02420a010061"
      },
      {
       "current": "b59e3156-9d28-11e9-a4a9-02420a010061",
       "next": "fd1cd91a-9d28-11e9-a4a9-02420a010061",
       "previous": "4ff1dd36-9d27-11e9-a4a9-02420a010061"
      },
      {
       "current": "b59e3156-9d28-11e9-a4a9-02420a010061",
       "next": "1b3338e4-9d2a-11e9-a4a9-02420a010061",
       "previous": "4ff1dd36-9d27-11e9-a4a9-02420a010061"
      },
      {
       "current": "b59e3156-9d28-11e9-a4a9-02420a010061",
       "next": "1b3338e4-9d2a-11e9-a4a9-02420a010061",
       "previous": "62b7b6d6-9d2a-11e9-a4a9-02420a010061"
      },
      {
       "current": "b59e3156-9d28-11e9-a4a9-02420a010061",
       "next": "62b7b6d6-9d2a-11e9-a4a9-02420a010061",
       "previous": "62b7b6d6-9d2a-11e9-a4a9-02420a010061"
      }
     ],
     "next": "6cb2a0ee-173f-11ea-8821-02420a010445",
     "previous": "6cb29e46-173f-11ea-8821-02420a010445"
    },
    "lc_wrapper": {
     "log_history": [
      "/home/ishizaka47c8ac/07/.log/20190703/20190703-092307-0073.log",
      "/home/ishizaka47c8ac/07/.log/20190703/20190703-092329-0782.log",
      "/home/ishizaka47c8ac/07/.log/20190703/20190703-092340-0300.log",
      "/home/10999408x8b656d/10a/.log/20191204/20191204-155017-0144.log",
      "/home/10999408x8b656d/10a/.log/20191204/20191204-155104-0713.log",
      "/home/10999408x8b656d/10a/.log/20191204/20191204-155628-0023.log",
      "/home/10999408x8b656d/10a/.log/20191204/20191204-155710-0954.log"
     ]
    }
   },
   "outputs": [],
   "source": [
    "# そのまま評価すること\n",
    "city_population"
   ]
  },
  {
   "cell_type": "markdown",
   "metadata": {
    "lc_cell_meme": {
     "current": "6cb2a0ee-173f-11ea-8821-02420a010445",
     "history": [
      {
       "current": "62b7b6d6-9d2a-11e9-a4a9-02420a010061",
       "next": "b59e3156-9d28-11e9-a4a9-02420a010061",
       "previous": "4ff1dd36-9d27-11e9-a4a9-02420a010061"
      },
      {
       "current": "62b7b6d6-9d2a-11e9-a4a9-02420a010061",
       "next": "b59e3156-9d28-11e9-a4a9-02420a010061",
       "previous": "833ba99e-14a8-11ea-b2c7-02420a010844"
      },
      {
       "current": "62b7b6d6-9d2a-11e9-a4a9-02420a010061",
       "next": "e8d683a4-14a9-11ea-b2c7-02420a010844",
       "previous": "b59e3156-9d28-11e9-a4a9-02420a010061"
      }
     ],
     "next": "6cb2a242-173f-11ea-8821-02420a010445",
     "previous": "6cb29f9a-173f-11ea-8821-02420a010445"
    },
    "lc_wrapper": {
     "log_history": [
      "/home/ishizaka47c8ac/07/.log/20190703/20190703-093454-0899.log"
     ]
    }
   },
   "source": [
    "手順3-2： 定義した selection_sort_pop()に、都市データ（`city_population`)を渡してソートしなさい。  "
   ]
  },
  {
   "cell_type": "code",
   "execution_count": null,
   "metadata": {
    "lc_cell_meme": {
     "current": "6cb2a242-173f-11ea-8821-02420a010445",
     "history": [
      {
       "current": "e8d683a4-14a9-11ea-b2c7-02420a010844",
       "next": "1b3338e4-9d2a-11e9-a4a9-02420a010061",
       "previous": "62b7b6d6-9d2a-11e9-a4a9-02420a010061"
      },
      {
       "current": "e8d683a4-14a9-11ea-b2c7-02420a010844",
       "next": "3064ffde-14aa-11ea-b2c7-02420a010844",
       "previous": "62b7b6d6-9d2a-11e9-a4a9-02420a010061"
      },
      {
       "current": "e8d683a4-14a9-11ea-b2c7-02420a010844",
       "next": "e8d683a4-14a9-11ea-b2c7-02420a010844",
       "previous": "62b7b6d6-9d2a-11e9-a4a9-02420a010061"
      },
      {
       "current": "e8d683a4-14a9-11ea-b2c7-02420a010844",
       "next": "3064ffde-14aa-11ea-b2c7-02420a010844",
       "previous": "62b7b6d6-9d2a-11e9-a4a9-02420a010061"
      }
     ],
     "next": "6cb2a468-173f-11ea-8821-02420a010445",
     "previous": "6cb2a0ee-173f-11ea-8821-02420a010445"
    }
   },
   "outputs": [],
   "source": [
    "# 課題入力欄\n"
   ]
  },
  {
   "cell_type": "markdown",
   "metadata": {
    "lc_cell_meme": {
     "current": "6cb2a468-173f-11ea-8821-02420a010445",
     "history": [
      {
       "current": "3064ffde-14aa-11ea-b2c7-02420a010844",
       "next": "306501fa-14aa-11ea-b2c7-02420a010844",
       "previous": "e8d683a4-14a9-11ea-b2c7-02420a010844"
      }
     ],
     "next": "6cb2a5a8-173f-11ea-8821-02420a010445",
     "previous": "6cb2a242-173f-11ea-8821-02420a010445"
    }
   },
   "source": [
    "手順3-3： `city_population`を評価し、ソートが正しく実行されていることを確認しなさい。"
   ]
  },
  {
   "cell_type": "code",
   "execution_count": null,
   "metadata": {
    "lc_cell_meme": {
     "current": "6cb2a5a8-173f-11ea-8821-02420a010445",
     "history": [
      {
       "current": "306501fa-14aa-11ea-b2c7-02420a010844",
       "next": "1b3338e4-9d2a-11e9-a4a9-02420a010061",
       "previous": "3064ffde-14aa-11ea-b2c7-02420a010844"
      }
     ],
     "next": "6cb2a6e8-173f-11ea-8821-02420a010445",
     "previous": "6cb2a468-173f-11ea-8821-02420a010445"
    },
    "lc_wrapper": {
     "log_history": [
      "/home/10999408x8b656d/10a/.log/20191204/20191204-155048-0748.log",
      "/home/10999408x8b656d/10a/.log/20191204/20191204-155721-0125.log"
     ]
    }
   },
   "outputs": [],
   "source": [
    "# そのまま評価すること\n",
    "city_population"
   ]
  },
  {
   "cell_type": "markdown",
   "metadata": {
    "lc_cell_meme": {
     "current": "6cb2a6e8-173f-11ea-8821-02420a010445",
     "history": [
      {
       "current": "1b3338e4-9d2a-11e9-a4a9-02420a010061",
       "next": "fd1cd91a-9d28-11e9-a4a9-02420a010061",
       "previous": "b59e3156-9d28-11e9-a4a9-02420a010061"
      },
      {
       "current": "1b3338e4-9d2a-11e9-a4a9-02420a010061",
       "next": "aa4a6ff2-9d2a-11e9-a4a9-02420a010061",
       "previous": "b59e3156-9d28-11e9-a4a9-02420a010061"
      },
      {
       "current": "1b3338e4-9d2a-11e9-a4a9-02420a010061",
       "next": "aa4a6ff2-9d2a-11e9-a4a9-02420a010061",
       "previous": "e8d683a4-14a9-11ea-b2c7-02420a010844"
      },
      {
       "current": "1b3338e4-9d2a-11e9-a4a9-02420a010061",
       "next": "aa4a6ff2-9d2a-11e9-a4a9-02420a010061",
       "previous": "306501fa-14aa-11ea-b2c7-02420a010844"
      }
     ],
     "next": "6cb2a832-173f-11ea-8821-02420a010445",
     "previous": "6cb2a5a8-173f-11ea-8821-02420a010445"
    },
    "lc_wrapper": {
     "log_history": [
      "/home/ishizaka47c8ac/07/.log/20190703/20190703-093155-0014.log"
     ]
    }
   },
   "source": [
    "正解出力：\n",
    "```\n",
    "[['東京23区', 9273],\n",
    " ['横浜', 3725],\n",
    " ['大阪', 2691],\n",
    " ['名古屋', 2295],\n",
    " ['札幌', 1952],\n",
    " ['福岡', 1538],\n",
    " ['広島', 1194],\n",
    " ['仙台', 1082]]\n",
    "```"
   ]
  },
  {
   "cell_type": "markdown",
   "metadata": {
    "lc_cell_meme": {
     "current": "6cb2a832-173f-11ea-8821-02420a010445",
     "history": [
      {
       "current": "aa4a6ff2-9d2a-11e9-a4a9-02420a010061",
       "next": null,
       "previous": "1b3338e4-9d2a-11e9-a4a9-02420a010061"
      },
      {
       "current": "aa4a6ff2-9d2a-11e9-a4a9-02420a010061",
       "next": "1d93f020-14a7-11ea-b2c7-02420a010844",
       "previous": "1b3338e4-9d2a-11e9-a4a9-02420a010061"
      },
      {
       "current": "aa4a6ff2-9d2a-11e9-a4a9-02420a010061",
       "next": "651d7ac4-14a7-11ea-b2c7-02420a010844",
       "previous": "1b3338e4-9d2a-11e9-a4a9-02420a010061"
      }
     ],
     "next": "6cb2a97c-173f-11ea-8821-02420a010445",
     "previous": "6cb2a6e8-173f-11ea-8821-02420a010445"
    }
   },
   "source": [
    "# 課題は以上です。お疲れ様でした。"
   ]
  },
  {
   "cell_type": "markdown",
   "metadata": {
    "lc_cell_meme": {
     "current": "6cb2a97c-173f-11ea-8821-02420a010445",
     "history": [
      {
       "current": "651d7ac4-14a7-11ea-b2c7-02420a010844",
       "next": "1d93f020-14a7-11ea-b2c7-02420a010844",
       "previous": "aa4a6ff2-9d2a-11e9-a4a9-02420a010061"
      }
     ],
     "next": "6cb2aabc-173f-11ea-8821-02420a010445",
     "previous": "6cb2a832-173f-11ea-8821-02420a010445"
    }
   },
   "source": [
    "## 評価結果"
   ]
  },
  {
   "cell_type": "code",
   "execution_count": null,
   "metadata": {
    "lc_cell_meme": {
     "current": "6cb2aabc-173f-11ea-8821-02420a010445",
     "history": [
      {
       "current": "1d93f020-14a7-11ea-b2c7-02420a010844",
       "next": "1d93f82c-14a7-11ea-b2c7-02420a010844",
       "previous": "aa4a6ff2-9d2a-11e9-a4a9-02420a010061"
      },
      {
       "current": "1d93f020-14a7-11ea-b2c7-02420a010844",
       "next": "651d7d08-14a7-11ea-b2c7-02420a010844",
       "previous": "651d7ac4-14a7-11ea-b2c7-02420a010844"
      }
     ],
     "next": "6cb2abfc-173f-11ea-8821-02420a010445",
     "previous": "6cb2a97c-173f-11ea-8821-02420a010445"
    }
   },
   "outputs": [],
   "source": []
  },
  {
   "cell_type": "markdown",
   "metadata": {
    "lc_cell_meme": {
     "current": "6cb2abfc-173f-11ea-8821-02420a010445",
     "history": [
      {
       "current": "651d7d08-14a7-11ea-b2c7-02420a010844",
       "next": "1d93f82c-14a7-11ea-b2c7-02420a010844",
       "previous": "1d93f020-14a7-11ea-b2c7-02420a010844"
      }
     ],
     "next": "6cb2ad46-173f-11ea-8821-02420a010445",
     "previous": "6cb2aabc-173f-11ea-8821-02420a010445"
    }
   },
   "source": [
    "## コメント等"
   ]
  },
  {
   "cell_type": "code",
   "execution_count": null,
   "metadata": {
    "lc_cell_meme": {
     "current": "6cb2ad46-173f-11ea-8821-02420a010445",
     "history": [
      {
       "current": "1d93f82c-14a7-11ea-b2c7-02420a010844",
       "next": null,
       "previous": "1d93f020-14a7-11ea-b2c7-02420a010844"
      },
      {
       "current": "1d93f82c-14a7-11ea-b2c7-02420a010844",
       "next": null,
       "previous": "651d7d08-14a7-11ea-b2c7-02420a010844"
      }
     ],
     "next": null,
     "previous": "6cb2abfc-173f-11ea-8821-02420a010445"
    }
   },
   "outputs": [],
   "source": []
  }
 ],
 "metadata": {
  "kernelspec": {
   "display_name": "Python 3",
   "language": "python",
   "name": "python3"
  },
  "language_info": {
   "file_extension": ".py",
   "mimetype": "text/x-python",
   "name": "python",
   "nbconvert_exporter": "python",
   "pygments_lexer": "ipython3",
   "version": "3.7.3"
  },
  "lc_notebook_meme": {
   "current": "6cb276b4-173f-11ea-8821-02420a010445",
   "history": [
    "efa662f6-96de-11e9-8b94-e0d55ea40caf",
    "b38b6614-96e2-11e9-893e-02420a010063"
   ],
   "lc_server_signature": {
    "current": {
     "notebook_dir": "/home/10999408x8b656d",
     "notebook_path": "/10e",
     "server_url": "https://nb06.ecloud.nii.ac.jp/user/10999408x8b656d/",
     "signature_id": "d393819a-dea3-11e9-afca-02420a010023"
    },
    "history": [
     {
      "notebook_dir": "/home/kuwata/notebooks",
      "notebook_path": "/",
      "server_url": "http://157.19.141.8:8000/user/kuwata/",
      "signature_id": "d0abe7ae-153d-11e9-9674-e0d55ea40caf"
     },
     {
      "notebook_dir": "/home/ishizaka47c8ac",
      "notebook_path": "/03",
      "server_url": "https://nb02.ecloud.nii.ac.jp/user/ishizaka47c8ac/",
      "signature_id": "c6d8f84c-88e8-11e9-b21e-02420a01001b"
     },
     {
      "notebook_dir": "/home/ishizaka47c8ac",
      "notebook_path": "/07",
      "server_url": "https://nb02.ecloud.nii.ac.jp/user/ishizaka47c8ac/",
      "signature_id": "c6d8f84c-88e8-11e9-b21e-02420a01001b"
     },
     {
      "notebook_dir": "/home/10999408x8b656d",
      "notebook_path": "/10a",
      "server_url": "https://nb06.ecloud.nii.ac.jp/user/10999408x8b656d/",
      "signature_id": "d393819a-dea3-11e9-afca-02420a010023"
     }
    ]
   },
   "root_cells": [
    "6cb27dc6-173f-11ea-8821-02420a010445",
    "6cb2808c-173f-11ea-8821-02420a010445",
    "6cb2823a-173f-11ea-8821-02420a010445",
    "6cb283c0-173f-11ea-8821-02420a010445",
    "6cb2855a-173f-11ea-8821-02420a010445",
    "6cb286f4-173f-11ea-8821-02420a010445",
    "6cb28866-173f-11ea-8821-02420a010445",
    "6cb289b0-173f-11ea-8821-02420a010445",
    "6cb28b22-173f-11ea-8821-02420a010445",
    "6cb28c8a-173f-11ea-8821-02420a010445",
    "6cb28dd4-173f-11ea-8821-02420a010445",
    "6cb28f6e-173f-11ea-8821-02420a010445",
    "6cb290d6-173f-11ea-8821-02420a010445",
    "6cb29216-173f-11ea-8821-02420a010445",
    "6cb29388-173f-11ea-8821-02420a010445",
    "6cb294c8-173f-11ea-8821-02420a010445",
    "6cb2963a-173f-11ea-8821-02420a010445",
    "6cb29856-173f-11ea-8821-02420a010445",
    "6cb29a9a-173f-11ea-8821-02420a010445",
    "6cb29c66-173f-11ea-8821-02420a010445",
    "6cb29e46-173f-11ea-8821-02420a010445",
    "6cb29f9a-173f-11ea-8821-02420a010445",
    "6cb2a0ee-173f-11ea-8821-02420a010445",
    "6cb2a242-173f-11ea-8821-02420a010445",
    "6cb2a468-173f-11ea-8821-02420a010445",
    "6cb2a5a8-173f-11ea-8821-02420a010445",
    "6cb2a6e8-173f-11ea-8821-02420a010445",
    "6cb2a832-173f-11ea-8821-02420a010445",
    "6cb2a97c-173f-11ea-8821-02420a010445",
    "6cb2aabc-173f-11ea-8821-02420a010445",
    "6cb2abfc-173f-11ea-8821-02420a010445",
    "6cb2ad46-173f-11ea-8821-02420a010445"
   ]
  },
  "toc": {
   "base_numbering": 1,
   "nav_menu": {},
   "number_sections": true,
   "sideBar": true,
   "skip_h1_title": false,
   "title_cell": "Table of Contents",
   "title_sidebar": "Contents",
   "toc_cell": false,
   "toc_position": {},
   "toc_section_display": true,
   "toc_window_display": false
  }
 },
 "nbformat": 4,
 "nbformat_minor": 2
}
