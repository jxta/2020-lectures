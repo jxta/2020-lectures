{
 "cells": [
  {
   "cell_type": "markdown",
   "metadata": {
    "lc_cell_meme": {
     "current": "6c5a4890-173f-11ea-a18a-02420a010445",
     "history": [
      {
       "current": "cebf3c91-2391-11e9-a9f8-e0d55ea40caf",
       "next": "cebf3c92-2391-11e9-a9f8-e0d55ea40caf",
       "previous": null
      },
      {
       "current": "aa7bf804-96e2-11e9-8e94-02420a010063",
       "next": "aa7bfa48-96e2-11e9-8e94-02420a010063",
       "previous": null
      }
     ],
     "next": "6c5a4ae8-173f-11ea-a18a-02420a010445",
     "previous": null
    }
   },
   "source": [
    "プログラミング入門\n",
    "第10回　アルゴリズム（１）"
   ]
  },
  {
   "cell_type": "markdown",
   "metadata": {
    "collapsed": true,
    "lc_cell_meme": {
     "current": "6c5a4ae8-173f-11ea-a18a-02420a010445",
     "history": [
      {
       "current": "cebf3c92-2391-11e9-a9f8-e0d55ea40caf",
       "next": "cebf3c93-2391-11e9-a9f8-e0d55ea40caf",
       "previous": "cebf3c91-2391-11e9-a9f8-e0d55ea40caf"
      },
      {
       "current": "aa7bfa48-96e2-11e9-8e94-02420a010063",
       "next": "aa7bfb7e-96e2-11e9-8e94-02420a010063",
       "previous": "aa7bf804-96e2-11e9-8e94-02420a010063"
      }
     ],
     "next": "6c5a4caa-173f-11ea-a18a-02420a010445",
     "previous": "6c5a4890-173f-11ea-a18a-02420a010445"
    }
   },
   "source": [
    "次のセルに、自分の名前と学籍番号を記入して下さい。"
   ]
  },
  {
   "cell_type": "raw",
   "metadata": {
    "lc_cell_meme": {
     "current": "6c5a4caa-173f-11ea-a18a-02420a010445",
     "history": [
      {
       "current": "cebf3c93-2391-11e9-a9f8-e0d55ea40caf",
       "next": "cebf3c94-2391-11e9-a9f8-e0d55ea40caf",
       "previous": "cebf3c92-2391-11e9-a9f8-e0d55ea40caf"
      },
      {
       "current": "aa7bfb7e-96e2-11e9-8e94-02420a010063",
       "next": "aa7bfd18-96e2-11e9-8e94-02420a010063",
       "previous": "aa7bfa48-96e2-11e9-8e94-02420a010063"
      }
     ],
     "next": "6c5a4e1c-173f-11ea-a18a-02420a010445",
     "previous": "6c5a4ae8-173f-11ea-a18a-02420a010445"
    }
   },
   "source": [
    "学籍番号：　　　　　　　　　　　氏名："
   ]
  },
  {
   "cell_type": "markdown",
   "metadata": {
    "lc_cell_meme": {
     "current": "6c5a4e1c-173f-11ea-a18a-02420a010445",
     "history": [
      {
       "current": "cebf3c94-2391-11e9-a9f8-e0d55ea40caf",
       "next": "cebf3c95-2391-11e9-a9f8-e0d55ea40caf",
       "previous": "cebf3c93-2391-11e9-a9f8-e0d55ea40caf"
      },
      {
       "current": "aa7bfd18-96e2-11e9-8e94-02420a010063",
       "next": "aa7bfe30-96e2-11e9-8e94-02420a010063",
       "previous": "aa7bfb7e-96e2-11e9-8e94-02420a010063"
      }
     ],
     "next": "6c5a4f84-173f-11ea-a18a-02420a010445",
     "previous": "6c5a4caa-173f-11ea-a18a-02420a010445"
    }
   },
   "source": [
    "【進め方の注意】\n",
    "\n",
    "- 文書を読んで、手順に沿って問いに答えながら進めて下さい。\n",
    "- 最後の確認問題を解いて、ファイルを提出して下さい。\n",
    "- 途中わからないことがあれば、教員またはTAに質問して下さい。"
   ]
  },
  {
   "cell_type": "markdown",
   "metadata": {
    "lc_cell_meme": {
     "current": "6c5a4f84-173f-11ea-a18a-02420a010445",
     "history": [
      {
       "current": "cebf3c95-2391-11e9-a9f8-e0d55ea40caf",
       "next": "cebf3c96-2391-11e9-a9f8-e0d55ea40caf",
       "previous": "cebf3c94-2391-11e9-a9f8-e0d55ea40caf"
      },
      {
       "current": "aa7bfe30-96e2-11e9-8e94-02420a010063",
       "next": "aa7bff5c-96e2-11e9-8e94-02420a010063",
       "previous": "aa7bfd18-96e2-11e9-8e94-02420a010063"
      }
     ],
     "next": "6c5a511e-173f-11ea-a18a-02420a010445",
     "previous": "6c5a4e1c-173f-11ea-a18a-02420a010445"
    }
   },
   "source": [
    "# アルゴリズム（１）"
   ]
  },
  {
   "cell_type": "markdown",
   "metadata": {
    "lc_cell_meme": {
     "current": "6c5a511e-173f-11ea-a18a-02420a010445",
     "history": [
      {
       "current": "cebf3c96-2391-11e9-a9f8-e0d55ea40caf",
       "next": "cebf3c97-2391-11e9-a9f8-e0d55ea40caf",
       "previous": "cebf3c95-2391-11e9-a9f8-e0d55ea40caf"
      },
      {
       "current": "aa7bff5c-96e2-11e9-8e94-02420a010063",
       "next": "aa7c00ba-96e2-11e9-8e94-02420a010063",
       "previous": "aa7bfe30-96e2-11e9-8e94-02420a010063"
      }
     ],
     "next": "6c5a527c-173f-11ea-a18a-02420a010445",
     "previous": "6c5a4f84-173f-11ea-a18a-02420a010445"
    }
   },
   "source": [
    "本章では、以下を学びます\n",
    "- アルゴリズムとは\n",
    "- 選択ソート\n",
    "- 選択ソートの実行時間"
   ]
  },
  {
   "cell_type": "markdown",
   "metadata": {
    "lc_cell_meme": {
     "current": "6c5a527c-173f-11ea-a18a-02420a010445",
     "history": [
      {
       "current": "cebf3c97-2391-11e9-a9f8-e0d55ea40caf",
       "next": "cebf3c98-2391-11e9-a9f8-e0d55ea40caf",
       "previous": "cebf3c96-2391-11e9-a9f8-e0d55ea40caf"
      },
      {
       "current": "aa7c00ba-96e2-11e9-8e94-02420a010063",
       "next": "aa7c0254-96e2-11e9-8e94-02420a010063",
       "previous": "aa7bff5c-96e2-11e9-8e94-02420a010063"
      }
     ],
     "next": "6c5a5416-173f-11ea-a18a-02420a010445",
     "previous": "6c5a511e-173f-11ea-a18a-02420a010445"
    }
   },
   "source": [
    "詳しくは、教科書の87ページを参照してください。"
   ]
  },
  {
   "cell_type": "markdown",
   "metadata": {
    "lc_cell_meme": {
     "current": "6c5a5416-173f-11ea-a18a-02420a010445",
     "history": [
      {
       "current": "cebf3c98-2391-11e9-a9f8-e0d55ea40caf",
       "next": "cebf3c99-2391-11e9-a9f8-e0d55ea40caf",
       "previous": "cebf3c97-2391-11e9-a9f8-e0d55ea40caf"
      },
      {
       "current": "aa7c0254-96e2-11e9-8e94-02420a010063",
       "next": "aa7c04f2-96e2-11e9-8e94-02420a010063",
       "previous": "aa7c00ba-96e2-11e9-8e94-02420a010063"
      }
     ],
     "next": "6c5a55a6-173f-11ea-a18a-02420a010445",
     "previous": "6c5a527c-173f-11ea-a18a-02420a010445"
    }
   },
   "source": [
    "## アルゴリズムとは"
   ]
  },
  {
   "cell_type": "markdown",
   "metadata": {
    "lc_cell_meme": {
     "current": "6c5a55a6-173f-11ea-a18a-02420a010445",
     "history": [
      {
       "current": "cebf3c99-2391-11e9-a9f8-e0d55ea40caf",
       "next": "cebf3c9a-2391-11e9-a9f8-e0d55ea40caf",
       "previous": "cebf3c98-2391-11e9-a9f8-e0d55ea40caf"
      },
      {
       "current": "aa7c04f2-96e2-11e9-8e94-02420a010063",
       "next": "aa7c063c-96e2-11e9-8e94-02420a010063",
       "previous": "aa7c0254-96e2-11e9-8e94-02420a010063"
      }
     ],
     "next": "6c5a572c-173f-11ea-a18a-02420a010445",
     "previous": "6c5a5416-173f-11ea-a18a-02420a010445"
    }
   },
   "source": [
    "アルゴリズム(algorithm) とは、ある処理をおこなうための、一連の「手順」のことをいう。\n",
    "料理に例えると「レシピ」のようなもの\n",
    "。"
   ]
  },
  {
   "cell_type": "markdown",
   "metadata": {
    "lc_cell_meme": {
     "current": "6c5a572c-173f-11ea-a18a-02420a010445",
     "history": [
      {
       "current": "cebf3c9a-2391-11e9-a9f8-e0d55ea40caf",
       "next": "cebf3c9b-2391-11e9-a9f8-e0d55ea40caf",
       "previous": "cebf3c99-2391-11e9-a9f8-e0d55ea40caf"
      },
      {
       "current": "cebf3c9a-2391-11e9-a9f8-e0d55ea40caf",
       "next": "a55591b4-2392-11e9-a9f8-e0d55ea40caf",
       "previous": "cebf3c99-2391-11e9-a9f8-e0d55ea40caf"
      },
      {
       "current": "aa7c063c-96e2-11e9-8e94-02420a010063",
       "next": "aa7c0790-96e2-11e9-8e94-02420a010063",
       "previous": "aa7c04f2-96e2-11e9-8e94-02420a010063"
      }
     ],
     "next": "6c5a588a-173f-11ea-a18a-02420a010445",
     "previous": "6c5a55a6-173f-11ea-a18a-02420a010445"
    }
   },
   "source": [
    "アルゴリズムの例\n",
    " - 最大値の計算\n",
    " - 文字列の検索\n",
    " - 画像認識\n"
   ]
  },
  {
   "cell_type": "markdown",
   "metadata": {
    "lc_cell_meme": {
     "current": "6c5a588a-173f-11ea-a18a-02420a010445",
     "history": [
      {
       "current": "a55591b4-2392-11e9-a9f8-e0d55ea40caf",
       "next": "cebf3c9b-2391-11e9-a9f8-e0d55ea40caf",
       "previous": "cebf3c9a-2391-11e9-a9f8-e0d55ea40caf"
      },
      {
       "current": "aa7c0790-96e2-11e9-8e94-02420a010063",
       "next": "aa7c08ee-96e2-11e9-8e94-02420a010063",
       "previous": "aa7c063c-96e2-11e9-8e94-02420a010063"
      },
      {
       "current": "aa7c0790-96e2-11e9-8e94-02420a010063",
       "next": "42b9f216-9d2c-11e9-a4a9-02420a010061",
       "previous": "aa7c063c-96e2-11e9-8e94-02420a010063"
      }
     ],
     "next": "6c5a59f2-173f-11ea-a18a-02420a010445",
     "previous": "6c5a572c-173f-11ea-a18a-02420a010445"
    }
   },
   "source": [
    "アルゴリズムと効率\n",
    "- 同じ処理を行うためのアルゴリズムでも、実現の方法は必ずしも一通りではない。\n",
    "- 計算処理の要求条件や対象のデータの特性に対して、アルゴリズムによって効率が変わる。\n",
    "- 使用する前提条件を誤ると、正しい結果が出ないなどの不具合が生じる。\n",
    "\n",
    "**最適なアルゴリズムを選択してプログラムを作成することが必要。**\n"
   ]
  },
  {
   "cell_type": "markdown",
   "metadata": {
    "lc_cell_meme": {
     "current": "6c5a59f2-173f-11ea-a18a-02420a010445",
     "history": [
      {
       "current": "42b9f216-9d2c-11e9-a4a9-02420a010061",
       "next": "aa7c08ee-96e2-11e9-8e94-02420a010063",
       "previous": "aa7c0790-96e2-11e9-8e94-02420a010063"
      },
      {
       "current": "42b9f216-9d2c-11e9-a4a9-02420a010061",
       "next": "8a8e3944-9d2c-11e9-a4a9-02420a010061",
       "previous": "aa7c0790-96e2-11e9-8e94-02420a010063"
      }
     ],
     "next": "6c5a5b78-173f-11ea-a18a-02420a010445",
     "previous": "6c5a588a-173f-11ea-a18a-02420a010445"
    }
   },
   "source": [
    "## ソート(sort)\n",
    "- データ群を対象に、数字の大小などの、ある決まった規則の順に並べ替えること。\n",
    "- Pythonでは、リストに対してソートをする関数が予め用意されているが、ここではソートの仕組みを理解するために、単純な「**選択ソート**」を１から作ってみる。\n"
   ]
  },
  {
   "cell_type": "markdown",
   "metadata": {
    "lc_cell_meme": {
     "current": "6c5a5b78-173f-11ea-a18a-02420a010445",
     "history": [
      {
       "current": "8a8e3944-9d2c-11e9-a4a9-02420a010061",
       "next": "aa7c08ee-96e2-11e9-8e94-02420a010063",
       "previous": "42b9f216-9d2c-11e9-a4a9-02420a010061"
      },
      {
       "current": "8a8e3944-9d2c-11e9-a4a9-02420a010061",
       "next": "d1c670ba-9d2c-11e9-a4a9-02420a010061",
       "previous": "42b9f216-9d2c-11e9-a4a9-02420a010061"
      }
     ],
     "next": "6c5a5d08-173f-11ea-a18a-02420a010445",
     "previous": "6c5a59f2-173f-11ea-a18a-02420a010445"
    },
    "lc_wrapper": {
     "log_history": [
      "/home/ishizaka47c8ac/07/.log/20190703/20190703-095101-0251.log"
     ]
    }
   },
   "source": [
    "### 選択ソートのアルゴリズム（小さい順（昇順）に並べ替える場合）\n",
    "![選択ソート](ssort_flow.png)\n",
    "1. ソート対象を特定する\n",
    "1. 3から5をソート対象がなくなるまで**繰り返す**。（なくなったら終了）\n",
    "3. ソート対象の中からから**最も小さな要素を見つける**\n",
    "4. ソート対象の最初の項目と**入れ替える**\n",
    "5. ソート対象から最初の項目をひとつ後ろにずらす。\n"
   ]
  },
  {
   "cell_type": "markdown",
   "metadata": {
    "lc_cell_meme": {
     "current": "6c5a5d08-173f-11ea-a18a-02420a010445",
     "history": [
      {
       "current": "d1c670ba-9d2c-11e9-a4a9-02420a010061",
       "next": "aa7c08ee-96e2-11e9-8e94-02420a010063",
       "previous": "8a8e3944-9d2c-11e9-a4a9-02420a010061"
      }
     ],
     "next": "6c5a5e8e-173f-11ea-a18a-02420a010445",
     "previous": "6c5a5b78-173f-11ea-a18a-02420a010445"
    }
   },
   "source": [
    "以下を評価して、ソート対象の初期状態を定義しなさい。"
   ]
  },
  {
   "cell_type": "code",
   "execution_count": null,
   "metadata": {
    "lc_cell_meme": {
     "current": "6c5a5e8e-173f-11ea-a18a-02420a010445",
     "history": [
      {
       "current": "cebf3c9b-2391-11e9-a9f8-e0d55ea40caf",
       "next": "cebf3c9c-2391-11e9-a9f8-e0d55ea40caf",
       "previous": "cebf3c9a-2391-11e9-a9f8-e0d55ea40caf"
      },
      {
       "current": "cebf3c9b-2391-11e9-a9f8-e0d55ea40caf",
       "next": "cebf3c9b-2391-11e9-a9f8-e0d55ea40caf",
       "previous": "cebf3c9a-2391-11e9-a9f8-e0d55ea40caf"
      },
      {
       "current": "cebf3c9b-2391-11e9-a9f8-e0d55ea40caf",
       "next": "a55591b5-2392-11e9-a9f8-e0d55ea40caf",
       "previous": "a55591b4-2392-11e9-a9f8-e0d55ea40caf"
      },
      {
       "current": "aa7c08ee-96e2-11e9-8e94-02420a010063",
       "next": "aa7c09c0-96e2-11e9-8e94-02420a010063",
       "previous": "aa7c0790-96e2-11e9-8e94-02420a010063"
      },
      {
       "current": "aa7c08ee-96e2-11e9-8e94-02420a010063",
       "next": "aa7c09c0-96e2-11e9-8e94-02420a010063",
       "previous": "42b9f216-9d2c-11e9-a4a9-02420a010061"
      },
      {
       "current": "aa7c08ee-96e2-11e9-8e94-02420a010063",
       "next": "aa7c09c0-96e2-11e9-8e94-02420a010063",
       "previous": "8a8e3944-9d2c-11e9-a4a9-02420a010061"
      },
      {
       "current": "aa7c08ee-96e2-11e9-8e94-02420a010063",
       "next": "aa7c09c0-96e2-11e9-8e94-02420a010063",
       "previous": "d1c670ba-9d2c-11e9-a4a9-02420a010061"
      },
      {
       "current": "aa7c08ee-96e2-11e9-8e94-02420a010063",
       "next": "194fae74-9d2d-11e9-a4a9-02420a010061",
       "previous": "d1c670ba-9d2c-11e9-a4a9-02420a010061"
      }
     ],
     "next": "6c5a5fec-173f-11ea-a18a-02420a010445",
     "previous": "6c5a5d08-173f-11ea-a18a-02420a010445"
    },
    "lc_wrapper": {
     "log_history": [
      "/home/kuwata/notebooks/.log/20190129/20190129-164833-0253.log",
      "/home/ishizaka47c8ac/07/.log/20190703/20190703-095200-0733.log",
      "/home/ishizaka47c8ac/07/.log/20190703/20190703-114152-0564.log",
      "/home/10999408x8b656d/10a/.log/20191204/20191204-150834-0094.log"
     ]
    }
   },
   "outputs": [],
   "source": [
    "# このセルを評価すること\n",
    "ls = [3, 6, 1, 9, 2]"
   ]
  },
  {
   "cell_type": "markdown",
   "metadata": {
    "lc_cell_meme": {
     "current": "6c5a5fec-173f-11ea-a18a-02420a010445",
     "history": [
      {
       "current": "194fae74-9d2d-11e9-a4a9-02420a010061",
       "next": "aa7c0a7e-96e2-11e9-8e94-02420a010063",
       "previous": "aa7c09c0-96e2-11e9-8e94-02420a010063"
      },
      {
       "current": "194fae74-9d2d-11e9-a4a9-02420a010061",
       "next": "7eead938-9d2e-11e9-a4a9-02420a010061",
       "previous": "aa7c09c0-96e2-11e9-8e94-02420a010063"
      },
      {
       "current": "194fae74-9d2d-11e9-a4a9-02420a010061",
       "next": "7eead938-9d2e-11e9-a4a9-02420a010061",
       "previous": "aa7c08ee-96e2-11e9-8e94-02420a010063"
      }
     ],
     "next": "6c5a617c-173f-11ea-a18a-02420a010445",
     "previous": "6c5a5e8e-173f-11ea-a18a-02420a010445"
    },
    "lc_wrapper": {
     "log_history": [
      "/home/ishizaka47c8ac/07/.log/20190703/20190703-095443-0028.log"
     ]
    }
   },
   "source": [
    "### ソート対象から最も小さな要素を見つける\n",
    "リストの項目の最小値が格納されている場所を求めるアルゴリズム\n",
    "1. 仮に最小値を最初の要素とする\n",
    "1. 最初の要素のインデックスを記憶する。\n",
    "1. 4,5を対象の項目がリストの末尾まで繰り返す\n",
    "1. 最小値と対象の項目の値を比較する。\n",
    "1. 最小値よりも小さい場合、対象の項目の値を最小値として、そのインデックスを記憶する。"
   ]
  },
  {
   "cell_type": "markdown",
   "metadata": {
    "lc_cell_meme": {
     "current": "6c5a617c-173f-11ea-a18a-02420a010445",
     "history": [
      {
       "current": "7eead938-9d2e-11e9-a4a9-02420a010061",
       "next": "aa7c0a7e-96e2-11e9-8e94-02420a010063",
       "previous": "194fae74-9d2d-11e9-a4a9-02420a010061"
      }
     ],
     "next": "6c5a6302-173f-11ea-a18a-02420a010445",
     "previous": "6c5a5fec-173f-11ea-a18a-02420a010445"
    }
   },
   "source": [
    "以下は、`l`:リスト形式、`s`：リストの先頭のインデックス、`e`：リストの末尾のインデックスを引数とし、戻り値を最小値が格納されているインデックスとする関数``min_idx``である。  \n",
    "???を埋めて、\n",
    "関数を完成させなさい。なお、コメントマーク(#)の後ろの番号は上記のアルゴリズムの番号を示している。"
   ]
  },
  {
   "cell_type": "code",
   "execution_count": null,
   "metadata": {
    "lc_cell_meme": {
     "current": "6c5a6302-173f-11ea-a18a-02420a010445",
     "history": [
      {
       "current": "cebf3c9b-2391-11e9-a9f8-e0d55ea40caf",
       "next": "cebf3c9c-2391-11e9-a9f8-e0d55ea40caf",
       "previous": "cebf3c9a-2391-11e9-a9f8-e0d55ea40caf"
      },
      {
       "current": "cebf3c9b-2391-11e9-a9f8-e0d55ea40caf",
       "next": "cebf3c9b-2391-11e9-a9f8-e0d55ea40caf",
       "previous": "cebf3c9b-2391-11e9-a9f8-e0d55ea40caf"
      },
      {
       "current": "cebf3c9b-2391-11e9-a9f8-e0d55ea40caf",
       "next": "a55591b6-2392-11e9-a9f8-e0d55ea40caf",
       "previous": "a55591b5-2392-11e9-a9f8-e0d55ea40caf"
      },
      {
       "current": "aa7c0a7e-96e2-11e9-8e94-02420a010063",
       "next": "aa7c0baa-96e2-11e9-8e94-02420a010063",
       "previous": "aa7c09c0-96e2-11e9-8e94-02420a010063"
      },
      {
       "current": "aa7c0a7e-96e2-11e9-8e94-02420a010063",
       "next": "aa7c0baa-96e2-11e9-8e94-02420a010063",
       "previous": "194fae74-9d2d-11e9-a4a9-02420a010061"
      },
      {
       "current": "aa7c0a7e-96e2-11e9-8e94-02420a010063",
       "next": "aa7c0baa-96e2-11e9-8e94-02420a010063",
       "previous": "7eead938-9d2e-11e9-a4a9-02420a010061"
      },
      {
       "current": "aa7c0a7e-96e2-11e9-8e94-02420a010063",
       "next": "0e03e312-9d2f-11e9-a4a9-02420a010061",
       "previous": "7eead938-9d2e-11e9-a4a9-02420a010061"
      },
      {
       "current": "aa7c0a7e-96e2-11e9-8e94-02420a010063",
       "next": "aa7c0a7e-96e2-11e9-8e94-02420a010063",
       "previous": "7eead938-9d2e-11e9-a4a9-02420a010061"
      },
      {
       "current": "aa7c0a7e-96e2-11e9-8e94-02420a010063",
       "next": "0e03e312-9d2f-11e9-a4a9-02420a010061",
       "previous": "7eead938-9d2e-11e9-a4a9-02420a010061"
      }
     ],
     "next": "6c5a6460-173f-11ea-a18a-02420a010445",
     "previous": "6c5a617c-173f-11ea-a18a-02420a010445"
    },
    "lc_wrapper": {
     "log_history": [
      "/home/kuwata/notebooks/.log/20190129/20190129-164859-0152.log",
      "/home/kuwata/notebooks/.log/20190129/20190129-164909-0151.log",
      "/home/ishizaka47c8ac/07/.log/20190703/20190703-100303-0280.log",
      "/home/10999408x8b656d/10a/.log/20191204/20191204-144147-0852.log",
      "/home/10999408x8b656d/10a/.log/20191204/20191204-144301-0143.log"
     ]
    }
   },
   "outputs": [],
   "source": [
    "# 演習用入力欄（要修正）\n",
    "def min_idx(l, s, e):\n",
    "    m = ???     # 1.\n",
    "    m_idx = ???  # 2.\n",
    "    for i in ???: # 3.\n",
    "        if ???:  # 4.\n",
    "            m = ???    # 5.\n",
    "            m_idx = ??? # 5.\n",
    "    return m_idx"
   ]
  },
  {
   "cell_type": "markdown",
   "metadata": {
    "lc_cell_meme": {
     "current": "6c5a6460-173f-11ea-a18a-02420a010445",
     "history": [
      {
       "current": "0e03e312-9d2f-11e9-a4a9-02420a010061",
       "next": "aa7c0d08-96e2-11e9-8e94-02420a010063",
       "previous": "aa7c0baa-96e2-11e9-8e94-02420a010063"
      },
      {
       "current": "0e03e312-9d2f-11e9-a4a9-02420a010061",
       "next": "aa7c0d08-96e2-11e9-8e94-02420a010063",
       "previous": "aa7c0a7e-96e2-11e9-8e94-02420a010063"
      }
     ],
     "next": "6c5a66ae-173f-11ea-a18a-02420a010445",
     "previous": "6c5a6302-173f-11ea-a18a-02420a010445"
    }
   },
   "source": [
    "ヒント：\n",
    " - `m`: 最小値を記憶するための変数  \n",
    " - `m_idx`: 最小値の場所(*インデックス*)を記憶するための変数  \n",
    " \n",
    "注意：教科書P.85には間違いがあります。  \n",
    "\n",
    "以下を評価して、定義した`min_idx()`に上で定義したリスト`ls`と` 0, 4`を渡して、正しく動作しているか検証しなさい。"
   ]
  },
  {
   "cell_type": "code",
   "execution_count": null,
   "metadata": {
    "lc_cell_meme": {
     "current": "6c5a66ae-173f-11ea-a18a-02420a010445",
     "history": [
      {
       "current": "cebf3c9b-2391-11e9-a9f8-e0d55ea40caf",
       "next": "cebf3c9c-2391-11e9-a9f8-e0d55ea40caf",
       "previous": "cebf3c9a-2391-11e9-a9f8-e0d55ea40caf"
      },
      {
       "current": "cebf3c9b-2391-11e9-a9f8-e0d55ea40caf",
       "next": "cebf3c9b-2391-11e9-a9f8-e0d55ea40caf",
       "previous": "cebf3c9b-2391-11e9-a9f8-e0d55ea40caf"
      },
      {
       "current": "cebf3c9b-2391-11e9-a9f8-e0d55ea40caf",
       "next": "a55591b7-2392-11e9-a9f8-e0d55ea40caf",
       "previous": "a55591b6-2392-11e9-a9f8-e0d55ea40caf"
      },
      {
       "current": "aa7c0d08-96e2-11e9-8e94-02420a010063",
       "next": "aa7c0e02-96e2-11e9-8e94-02420a010063",
       "previous": "aa7c0baa-96e2-11e9-8e94-02420a010063"
      },
      {
       "current": "aa7c0d08-96e2-11e9-8e94-02420a010063",
       "next": "aa7c0e02-96e2-11e9-8e94-02420a010063",
       "previous": "0e03e312-9d2f-11e9-a4a9-02420a010061"
      },
      {
       "current": "aa7c0d08-96e2-11e9-8e94-02420a010063",
       "next": "558644b4-9d2f-11e9-a4a9-02420a010061",
       "previous": "0e03e312-9d2f-11e9-a4a9-02420a010061"
      }
     ],
     "next": "6c5a6820-173f-11ea-a18a-02420a010445",
     "previous": "6c5a6460-173f-11ea-a18a-02420a010445"
    },
    "lc_wrapper": {
     "log_history": [
      "/home/kuwata/notebooks/.log/20190129/20190129-164902-0210.log",
      "/home/ishizaka47c8ac/07/.log/20190703/20190703-101145-0014.log",
      "/home/ishizaka47c8ac/07/.log/20190703/20190703-101156-0169.log",
      "/home/10999408x8b656d/10a/.log/20191204/20191204-150921-0426.log",
      "/home/10999408x8b656d/10a/.log/20191204/20191204-151038-0848.log",
      "/home/10999408x8b656d/10a/.log/20191204/20191204-151044-0554.log",
      "/home/10999408x8b656d/10a/.log/20191204/20191204-151214-0396.log",
      "/home/10999408x8b656d/10a/.log/20191204/20191204-151350-0678.log",
      "/home/10999408x8b656d/10a/.log/20191204/20191204-151628-0991.log",
      "/home/10999408x8b656d/10a/.log/20191204/20191204-151719-0506.log",
      "/home/10999408x8b656d/10a/.log/20191204/20191204-151728-0518.log",
      "/home/10999408x8b656d/10a/.log/20191204/20191204-151746-0279.log"
     ]
    }
   },
   "outputs": [],
   "source": [
    "# 演習用入力欄\n"
   ]
  },
  {
   "cell_type": "markdown",
   "metadata": {
    "lc_cell_meme": {
     "current": "6c5a6820-173f-11ea-a18a-02420a010445",
     "history": [
      {
       "current": "558644b4-9d2f-11e9-a4a9-02420a010061",
       "next": "aa7c0f1a-96e2-11e9-8e94-02420a010063",
       "previous": "aa7c0e02-96e2-11e9-8e94-02420a010063"
      },
      {
       "current": "558644b4-9d2f-11e9-a4a9-02420a010061",
       "next": "73a646be-9d30-11e9-a4a9-02420a010061",
       "previous": "aa7c0e02-96e2-11e9-8e94-02420a010063"
      },
      {
       "current": "558644b4-9d2f-11e9-a4a9-02420a010061",
       "next": "73a646be-9d30-11e9-a4a9-02420a010061",
       "previous": "aa7c0d08-96e2-11e9-8e94-02420a010063"
      }
     ],
     "next": "6c5a6a64-173f-11ea-a18a-02420a010445",
     "previous": "6c5a66ae-173f-11ea-a18a-02420a010445"
    }
   },
   "source": [
    "ヒント：最小値である`1`が格納されている、リストのインデックス `2` が表示されれば正しく動作している。\n",
    "\n",
    "###  変数同士の値を入れ替える\n",
    "入れ換え処理のアルゴリズム(変数`a`と`b`を入れ替える場合）\n",
    "1. 変数`a`の値を退避用の変数に代入する\n",
    "1. 変数`a`に変数`b`の値を代入する\n",
    "1. 変数`b`に退避用の変数の値を代入する\n",
    "\n",
    "\n",
    "- 退避用の変数は何でもよい"
   ]
  },
  {
   "cell_type": "markdown",
   "metadata": {
    "lc_cell_meme": {
     "current": "6c5a6a64-173f-11ea-a18a-02420a010445",
     "history": [
      {
       "current": "73a646be-9d30-11e9-a4a9-02420a010061",
       "next": "aa7c0f1a-96e2-11e9-8e94-02420a010063",
       "previous": "558644b4-9d2f-11e9-a4a9-02420a010061"
      }
     ],
     "next": "6c5a6c26-173f-11ea-a18a-02420a010445",
     "previous": "6c5a6820-173f-11ea-a18a-02420a010445"
    }
   },
   "source": [
    "練習：変数`x=3`, `y=7`が代入されている。????を埋めて変数`x,y`の値を入れ換えなさい。"
   ]
  },
  {
   "cell_type": "code",
   "execution_count": null,
   "metadata": {
    "lc_cell_meme": {
     "current": "6c5a6c26-173f-11ea-a18a-02420a010445",
     "history": [
      {
       "current": "cebf3c9b-2391-11e9-a9f8-e0d55ea40caf",
       "next": "cebf3c9c-2391-11e9-a9f8-e0d55ea40caf",
       "previous": "cebf3c9a-2391-11e9-a9f8-e0d55ea40caf"
      },
      {
       "current": "cebf3c9b-2391-11e9-a9f8-e0d55ea40caf",
       "next": "cebf3c9c-2391-11e9-a9f8-e0d55ea40caf",
       "previous": "cebf3c9b-2391-11e9-a9f8-e0d55ea40caf"
      },
      {
       "current": "cebf3c9b-2391-11e9-a9f8-e0d55ea40caf",
       "next": "cebf3c9c-2391-11e9-a9f8-e0d55ea40caf",
       "previous": "a55591b7-2392-11e9-a9f8-e0d55ea40caf"
      },
      {
       "current": "aa7c0f1a-96e2-11e9-8e94-02420a010063",
       "next": "aa7c101e-96e2-11e9-8e94-02420a010063",
       "previous": "aa7c0e02-96e2-11e9-8e94-02420a010063"
      },
      {
       "current": "aa7c0f1a-96e2-11e9-8e94-02420a010063",
       "next": "aa7c101e-96e2-11e9-8e94-02420a010063",
       "previous": "558644b4-9d2f-11e9-a4a9-02420a010061"
      },
      {
       "current": "aa7c0f1a-96e2-11e9-8e94-02420a010063",
       "next": "aa7c101e-96e2-11e9-8e94-02420a010063",
       "previous": "73a646be-9d30-11e9-a4a9-02420a010061"
      },
      {
       "current": "aa7c0f1a-96e2-11e9-8e94-02420a010063",
       "next": "aa7c0f1a-96e2-11e9-8e94-02420a010063",
       "previous": "73a646be-9d30-11e9-a4a9-02420a010061"
      },
      {
       "current": "aa7c0f1a-96e2-11e9-8e94-02420a010063",
       "next": "aa7c101e-96e2-11e9-8e94-02420a010063",
       "previous": "73a646be-9d30-11e9-a4a9-02420a010061"
      }
     ],
     "next": "6c5a6db6-173f-11ea-a18a-02420a010445",
     "previous": "6c5a6a64-173f-11ea-a18a-02420a010445"
    },
    "lc_wrapper": {
     "log_history": [
      "/home/kuwata/notebooks/.log/20190129/20190129-164905-0011.log",
      "/home/ishizaka47c8ac/07/.log/20190703/20190703-102345-0037.log",
      "/home/ishizaka47c8ac/07/.log/20190703/20190703-102351-0135.log",
      "/home/ishizaka47c8ac/07/.log/20190703/20190703-102400-0967.log",
      "/home/ishizaka47c8ac/07/.log/20190703/20190703-102406-0810.log"
     ]
    }
   },
   "outputs": [],
   "source": [
    "# 演習用入力欄（要修正）\n",
    "x = 3\n",
    "y = 7\n",
    "???? # 1.\n",
    "???? # 2.\n",
    "???? # 3.\n",
    "print(x,y)"
   ]
  },
  {
   "cell_type": "markdown",
   "metadata": {
    "lc_cell_meme": {
     "current": "6c5a6db6-173f-11ea-a18a-02420a010445",
     "history": [
      {
       "current": "cebf3c9c-2391-11e9-a9f8-e0d55ea40caf",
       "next": "cebf3c9d-2391-11e9-a9f8-e0d55ea40caf",
       "previous": "cebf3c9b-2391-11e9-a9f8-e0d55ea40caf"
      },
      {
       "current": "cebf3c9c-2391-11e9-a9f8-e0d55ea40caf",
       "next": "cebf3ca1-2391-11e9-a9f8-e0d55ea40caf",
       "previous": "cebf3c9b-2391-11e9-a9f8-e0d55ea40caf"
      },
      {
       "current": "cebf3c9c-2391-11e9-a9f8-e0d55ea40caf",
       "next": "644b607c-2397-11e9-a9f8-e0d55ea40caf",
       "previous": "cebf3c9b-2391-11e9-a9f8-e0d55ea40caf"
      },
      {
       "current": "cebf3c9c-2391-11e9-a9f8-e0d55ea40caf",
       "next": "cafa4d1e-2398-11e9-a9f8-e0d55ea40caf",
       "previous": "cebf3c9b-2391-11e9-a9f8-e0d55ea40caf"
      },
      {
       "current": "aa7c101e-96e2-11e9-8e94-02420a010063",
       "next": "aa7c1190-96e2-11e9-8e94-02420a010063",
       "previous": "aa7c0f1a-96e2-11e9-8e94-02420a010063"
      },
      {
       "current": "aa7c101e-96e2-11e9-8e94-02420a010063",
       "next": "d94f21a6-9d31-11e9-a4a9-02420a010061",
       "previous": "aa7c0f1a-96e2-11e9-8e94-02420a010063"
      }
     ],
     "next": "6c5a6f46-173f-11ea-a18a-02420a010445",
     "previous": "6c5a6c26-173f-11ea-a18a-02420a010445"
    }
   },
   "source": [
    "ヒント：`x`と`y`の値が入れ替えられて、`7 3`と表示されれば正しく動作している。"
   ]
  },
  {
   "cell_type": "markdown",
   "metadata": {
    "lc_cell_meme": {
     "current": "6c5a6f46-173f-11ea-a18a-02420a010445",
     "history": [
      {
       "current": "d94f21a6-9d31-11e9-a4a9-02420a010061",
       "next": "aa7c1190-96e2-11e9-8e94-02420a010063",
       "previous": "aa7c101e-96e2-11e9-8e94-02420a010063"
      },
      {
       "current": "d94f21a6-9d31-11e9-a4a9-02420a010061",
       "next": "f7621864-9d32-11e9-a4a9-02420a010061",
       "previous": "aa7c101e-96e2-11e9-8e94-02420a010063"
      }
     ],
     "next": "6c5a70a4-173f-11ea-a18a-02420a010445",
     "previous": "6c5a6db6-173f-11ea-a18a-02420a010445"
    }
   },
   "source": [
    "### 先頭を除外して繰り返す\n",
    "- while文を使って繰り返し処理を記述する(4.1 whileを使った繰り返し(P.39)を参照）\n",
    "- 最小値の位置を探すときの最初のインデックスは0,末尾は4(`=len(ls)-1`)である。  \n",
    "先頭を除外して繰り返すには、繰り返すには先頭のmin_idxに渡す先頭のインデックスを`　+1`する。\n",
    "- 繰り返しの`終了条件`は`先頭＝末尾`となったときである。したがって、繰り返すための条件は`先頭＜＝末尾`である。\n",
    "- whileのループカウンタは先頭のインデックス\n",
    "\n",
    "練習：以下の???を埋めて、`s`の値が`0～4`まで変化しているのを確認しなさい。  \n",
    "\n",
    "> **注意**  \n",
    ">  評価(実行)したときに `In[*]`で動作がとまってしまった場合は、停止する（上部ツールバーの■）してみる。  \n",
    ">  原因：\n",
    ">  - 繰り返し条件が間違っている\n",
    ">  - ループカウンタ（教科書P.40)の処理が正しくない"
   ]
  },
  {
   "cell_type": "code",
   "execution_count": null,
   "metadata": {
    "lc_cell_meme": {
     "current": "6c5a70a4-173f-11ea-a18a-02420a010445",
     "history": [
      {
       "current": "f7621864-9d32-11e9-a4a9-02420a010061",
       "next": "aa7c1190-96e2-11e9-8e94-02420a010063",
       "previous": "d94f21a6-9d31-11e9-a4a9-02420a010061"
      },
      {
       "current": "f7621864-9d32-11e9-a4a9-02420a010061",
       "next": "aa7c1190-96e2-11e9-8e94-02420a010063",
       "previous": "d94f21a6-9d31-11e9-a4a9-02420a010061"
      },
      {
       "current": "f7621864-9d32-11e9-a4a9-02420a010061",
       "next": "aa7c1190-96e2-11e9-8e94-02420a010063",
       "previous": "d94f21a6-9d31-11e9-a4a9-02420a010061"
      },
      {
       "current": "f7621864-9d32-11e9-a4a9-02420a010061",
       "next": "aa7c1190-96e2-11e9-8e94-02420a010063",
       "previous": "d94f21a6-9d31-11e9-a4a9-02420a010061"
      },
      {
       "current": "f7621864-9d32-11e9-a4a9-02420a010061",
       "next": "aa7c1190-96e2-11e9-8e94-02420a010063",
       "previous": "d94f21a6-9d31-11e9-a4a9-02420a010061"
      },
      {
       "current": "f7621864-9d32-11e9-a4a9-02420a010061",
       "next": "aa7c1190-96e2-11e9-8e94-02420a010063",
       "previous": "d94f21a6-9d31-11e9-a4a9-02420a010061"
      },
      {
       "current": "f7621864-9d32-11e9-a4a9-02420a010061",
       "next": "82b4ccf6-14a0-11ea-b2c7-02420a010844",
       "previous": "d94f21a6-9d31-11e9-a4a9-02420a010061"
      },
      {
       "current": "f7621864-9d32-11e9-a4a9-02420a010061",
       "next": "f7621864-9d32-11e9-a4a9-02420a010061",
       "previous": "d94f21a6-9d31-11e9-a4a9-02420a010061"
      },
      {
       "current": "f7621864-9d32-11e9-a4a9-02420a010061",
       "next": "82b4ccf6-14a0-11ea-b2c7-02420a010844",
       "previous": "d94f21a6-9d31-11e9-a4a9-02420a010061"
      }
     ],
     "next": "6c5a722a-173f-11ea-a18a-02420a010445",
     "previous": "6c5a6f46-173f-11ea-a18a-02420a010445"
    },
    "lc_wrapper": {
     "log_history": [
      "/home/ishizaka47c8ac/07/.log/20190703/20190703-103700-0836.log",
      "/home/ishizaka47c8ac/07/.log/20190703/20190703-103704-0743.log",
      "/home/ishizaka47c8ac/07/.log/20190703/20190703-103720-0747.log",
      "/home/ishizaka47c8ac/07/.log/20190703/20190703-103731-0099.log",
      "/home/ishizaka47c8ac/07/.log/20190703/20190703-103808-0972.log",
      "/home/ishizaka47c8ac/07/.log/20190703/20190703-103842-0560.log",
      "/home/ishizaka47c8ac/07/.log/20190703/20190703-103853-0521.log",
      "/home/ishizaka47c8ac/07/.log/20190703/20190703-103858-0950.log",
      "/home/ishizaka47c8ac/07/.log/20190703/20190703-103917-0350.log",
      "/home/ishizaka47c8ac/07/.log/20190703/20190703-103928-0871.log",
      "/home/ishizaka47c8ac/07/.log/20190703/20190703-103936-0560.log"
     ]
    }
   },
   "outputs": [],
   "source": [
    "# 演習用入力欄（要修正）\n",
    "s=0  # 先頭のインデックス\n",
    "e=len(ls)-1 # 末尾のインデックス\n",
    "while ??? :\n",
    "    print(s)\n",
    "    ???"
   ]
  },
  {
   "cell_type": "markdown",
   "metadata": {
    "lc_cell_meme": {
     "current": "6c5a722a-173f-11ea-a18a-02420a010445",
     "history": [
      {
       "current": "82b4ccf6-14a0-11ea-b2c7-02420a010844",
       "next": "aa7c1190-96e2-11e9-8e94-02420a010063",
       "previous": "f7621864-9d32-11e9-a4a9-02420a010061"
      }
     ],
     "next": "6c5a73c4-173f-11ea-a18a-02420a010445",
     "previous": "6c5a70a4-173f-11ea-a18a-02420a010445"
    }
   },
   "source": [
    "ヒント：\n",
    "```\n",
    "0\n",
    "1\n",
    "2\n",
    "3\n",
    "4\n",
    "```\n",
    "と表示されれば正しく動作している。"
   ]
  },
  {
   "cell_type": "markdown",
   "metadata": {
    "lc_cell_meme": {
     "current": "6c5a73c4-173f-11ea-a18a-02420a010445",
     "history": [
      {
       "current": "cafa4d1e-2398-11e9-a9f8-e0d55ea40caf",
       "next": "644b607c-2397-11e9-a9f8-e0d55ea40caf",
       "previous": "cebf3c9c-2391-11e9-a9f8-e0d55ea40caf"
      },
      {
       "current": "aa7c1190-96e2-11e9-8e94-02420a010063",
       "next": "aa7c12e4-96e2-11e9-8e94-02420a010063",
       "previous": "aa7c101e-96e2-11e9-8e94-02420a010063"
      },
      {
       "current": "aa7c1190-96e2-11e9-8e94-02420a010063",
       "next": "aa7c12e4-96e2-11e9-8e94-02420a010063",
       "previous": "d94f21a6-9d31-11e9-a4a9-02420a010061"
      },
      {
       "current": "aa7c1190-96e2-11e9-8e94-02420a010063",
       "next": "aa7c12e4-96e2-11e9-8e94-02420a010063",
       "previous": "f7621864-9d32-11e9-a4a9-02420a010061"
      },
      {
       "current": "aa7c1190-96e2-11e9-8e94-02420a010063",
       "next": "aa7c12e4-96e2-11e9-8e94-02420a010063",
       "previous": "f7621864-9d32-11e9-a4a9-02420a010061"
      },
      {
       "current": "aa7c1190-96e2-11e9-8e94-02420a010063",
       "next": "aa7c12e4-96e2-11e9-8e94-02420a010063",
       "previous": "f7621864-9d32-11e9-a4a9-02420a010061"
      },
      {
       "current": "aa7c1190-96e2-11e9-8e94-02420a010063",
       "next": "aa7c12e4-96e2-11e9-8e94-02420a010063",
       "previous": "f7621864-9d32-11e9-a4a9-02420a010061"
      },
      {
       "current": "aa7c1190-96e2-11e9-8e94-02420a010063",
       "next": "aa7c12e4-96e2-11e9-8e94-02420a010063",
       "previous": "f7621864-9d32-11e9-a4a9-02420a010061"
      },
      {
       "current": "aa7c1190-96e2-11e9-8e94-02420a010063",
       "next": "aa7c12e4-96e2-11e9-8e94-02420a010063",
       "previous": "f7621864-9d32-11e9-a4a9-02420a010061"
      },
      {
       "current": "aa7c1190-96e2-11e9-8e94-02420a010063",
       "next": "aa7c12e4-96e2-11e9-8e94-02420a010063",
       "previous": "82b4ccf6-14a0-11ea-b2c7-02420a010844"
      }
     ],
     "next": "6c5a7522-173f-11ea-a18a-02420a010445",
     "previous": "6c5a722a-173f-11ea-a18a-02420a010445"
    }
   },
   "source": [
    "### 選択ソートを実行する関数\n",
    "*min_idx*と*入れ換え処理*を*繰り返す*、**「選択ソート」**　を行う関数`selection_sort()`を定義しなさい。引数はリスト`l` とする。"
   ]
  },
  {
   "cell_type": "code",
   "execution_count": null,
   "metadata": {
    "lc_cell_meme": {
     "current": "6c5a7522-173f-11ea-a18a-02420a010445",
     "history": [
      {
       "current": "644b607c-2397-11e9-a9f8-e0d55ea40caf",
       "next": "cebf3ca1-2391-11e9-a9f8-e0d55ea40caf",
       "previous": "cebf3c9c-2391-11e9-a9f8-e0d55ea40caf"
      },
      {
       "current": "644b607c-2397-11e9-a9f8-e0d55ea40caf",
       "next": "cafa4d1f-2398-11e9-a9f8-e0d55ea40caf",
       "previous": "cafa4d1e-2398-11e9-a9f8-e0d55ea40caf"
      },
      {
       "current": "aa7c12e4-96e2-11e9-8e94-02420a010063",
       "next": "aa7c13de-96e2-11e9-8e94-02420a010063",
       "previous": "aa7c1190-96e2-11e9-8e94-02420a010063"
      },
      {
       "current": "aa7c12e4-96e2-11e9-8e94-02420a010063",
       "next": "aa7c13de-96e2-11e9-8e94-02420a010063",
       "previous": "aa7c1190-96e2-11e9-8e94-02420a010063"
      },
      {
       "current": "aa7c12e4-96e2-11e9-8e94-02420a010063",
       "next": "aa7c13de-96e2-11e9-8e94-02420a010063",
       "previous": "aa7c1190-96e2-11e9-8e94-02420a010063"
      },
      {
       "current": "aa7c12e4-96e2-11e9-8e94-02420a010063",
       "next": "aa7c13de-96e2-11e9-8e94-02420a010063",
       "previous": "aa7c1190-96e2-11e9-8e94-02420a010063"
      },
      {
       "current": "aa7c12e4-96e2-11e9-8e94-02420a010063",
       "next": "aa7c13de-96e2-11e9-8e94-02420a010063",
       "previous": "aa7c1190-96e2-11e9-8e94-02420a010063"
      },
      {
       "current": "aa7c12e4-96e2-11e9-8e94-02420a010063",
       "next": "82b4d30e-14a0-11ea-b2c7-02420a010844",
       "previous": "aa7c1190-96e2-11e9-8e94-02420a010063"
      },
      {
       "current": "aa7c12e4-96e2-11e9-8e94-02420a010063",
       "next": "aa7c12e4-96e2-11e9-8e94-02420a010063",
       "previous": "aa7c1190-96e2-11e9-8e94-02420a010063"
      },
      {
       "current": "aa7c12e4-96e2-11e9-8e94-02420a010063",
       "next": "82b4d30e-14a0-11ea-b2c7-02420a010844",
       "previous": "aa7c1190-96e2-11e9-8e94-02420a010063"
      }
     ],
     "next": "6c5a76d0-173f-11ea-a18a-02420a010445",
     "previous": "6c5a73c4-173f-11ea-a18a-02420a010445"
    }
   },
   "outputs": [],
   "source": [
    "# 演習用入力欄（要修正）\n",
    "def selection_sort(l):\n",
    "    sort_start = 0 # 先頭（初期状態）のインデックス\n",
    "    sort_end = len(l)-1 # 末尾のインデックス  教科書P.86,87,88間違い\n",
    "    while ????:\n",
    "        mi = min_idx(l, sort_start, sort_end)\n",
    "        # 最小値のものと最初の要素を入れ替える\n",
    "        ????\n",
    "        ????\n",
    "        ????\n",
    "        # ソート対象の先頭のインデックスを変更する\n",
    "        ????\n",
    "        "
   ]
  },
  {
   "cell_type": "markdown",
   "metadata": {
    "lc_cell_meme": {
     "current": "6c5a76d0-173f-11ea-a18a-02420a010445",
     "history": [
      {
       "current": "82b4d30e-14a0-11ea-b2c7-02420a010844",
       "next": "aa7c13de-96e2-11e9-8e94-02420a010063",
       "previous": "aa7c12e4-96e2-11e9-8e94-02420a010063"
      }
     ],
     "next": "6c5a7860-173f-11ea-a18a-02420a010445",
     "previous": "6c5a7522-173f-11ea-a18a-02420a010445"
    }
   },
   "source": [
    "ヒント：　変数`mi`は関数`min_idx()`から返される最小値が格納されている場所(*インデックス*)  \n",
    "注意： 教科書P.87には間違いがあります。"
   ]
  },
  {
   "cell_type": "markdown",
   "metadata": {
    "lc_cell_meme": {
     "current": "6c5a7860-173f-11ea-a18a-02420a010445",
     "history": [
      {
       "current": "cafa4d1f-2398-11e9-a9f8-e0d55ea40caf",
       "next": "644b607c-2397-11e9-a9f8-e0d55ea40caf",
       "previous": "644b607c-2397-11e9-a9f8-e0d55ea40caf"
      },
      {
       "current": "aa7c13de-96e2-11e9-8e94-02420a010063",
       "next": "aa7c14f6-96e2-11e9-8e94-02420a010063",
       "previous": "aa7c12e4-96e2-11e9-8e94-02420a010063"
      },
      {
       "current": "aa7c13de-96e2-11e9-8e94-02420a010063",
       "next": "aa7c14f6-96e2-11e9-8e94-02420a010063",
       "previous": "aa7c12e4-96e2-11e9-8e94-02420a010063"
      },
      {
       "current": "aa7c13de-96e2-11e9-8e94-02420a010063",
       "next": "aa7c14f6-96e2-11e9-8e94-02420a010063",
       "previous": "aa7c12e4-96e2-11e9-8e94-02420a010063"
      },
      {
       "current": "aa7c13de-96e2-11e9-8e94-02420a010063",
       "next": "aa7c14f6-96e2-11e9-8e94-02420a010063",
       "previous": "aa7c12e4-96e2-11e9-8e94-02420a010063"
      },
      {
       "current": "aa7c13de-96e2-11e9-8e94-02420a010063",
       "next": "aa7c14f6-96e2-11e9-8e94-02420a010063",
       "previous": "aa7c12e4-96e2-11e9-8e94-02420a010063"
      },
      {
       "current": "aa7c13de-96e2-11e9-8e94-02420a010063",
       "next": "aa7c14f6-96e2-11e9-8e94-02420a010063",
       "previous": "82b4d30e-14a0-11ea-b2c7-02420a010844"
      }
     ],
     "next": "6c5a79b4-173f-11ea-a18a-02420a010445",
     "previous": "6c5a76d0-173f-11ea-a18a-02420a010445"
    }
   },
   "source": [
    "以下を評価し、上で定義したselection_sort()が正しく動作しているか確認しなさい。  \n",
    "※プログラムに間違いがあった場合リスト`ls`の内容が破壊されることもあるため、リスト`ls`を再定義している。"
   ]
  },
  {
   "cell_type": "code",
   "execution_count": null,
   "metadata": {
    "lc_cell_meme": {
     "current": "6c5a79b4-173f-11ea-a18a-02420a010445",
     "history": [
      {
       "current": "644b607c-2397-11e9-a9f8-e0d55ea40caf",
       "next": "cebf3ca1-2391-11e9-a9f8-e0d55ea40caf",
       "previous": "cebf3c9c-2391-11e9-a9f8-e0d55ea40caf"
      },
      {
       "current": "644b607c-2397-11e9-a9f8-e0d55ea40caf",
       "next": "cebf3ca1-2391-11e9-a9f8-e0d55ea40caf",
       "previous": "cafa4d1f-2398-11e9-a9f8-e0d55ea40caf"
      },
      {
       "current": "aa7c14f6-96e2-11e9-8e94-02420a010063",
       "next": "aa7c15f0-96e2-11e9-8e94-02420a010063",
       "previous": "aa7c13de-96e2-11e9-8e94-02420a010063"
      }
     ],
     "next": "6c5a7b1c-173f-11ea-a18a-02420a010445",
     "previous": "6c5a7860-173f-11ea-a18a-02420a010445"
    },
    "lc_wrapper": {
     "log_history": [
      "/home/10999408x8b656d/10a/.log/20191204/20191204-152600-0435.log",
      "/home/10999408x8b656d/10a/.log/20191204/20191204-152846-0065.log",
      "/home/10999408x8b656d/10a/.log/20191204/20191204-153107-0214.log",
      "/home/10999408x8b656d/10a/.log/20191204/20191204-153207-0548.log",
      "/home/10999408x8b656d/10a/.log/20191204/20191204-153220-0284.log",
      "/home/10999408x8b656d/10a/.log/20191204/20191204-153334-0402.log"
     ]
    }
   },
   "outputs": [],
   "source": [
    "# このセルを評価すること\n",
    "ls = [3, 6, 1, 9, 2]\n",
    "selection_sort(ls)\n",
    "ls"
   ]
  },
  {
   "cell_type": "markdown",
   "metadata": {
    "lc_cell_meme": {
     "current": "6c5a7b1c-173f-11ea-a18a-02420a010445",
     "history": [
      {
       "current": "cebf3ca1-2391-11e9-a9f8-e0d55ea40caf",
       "next": "cebf3ca2-2391-11e9-a9f8-e0d55ea40caf",
       "previous": "cebf3ca0-2391-11e9-a9f8-e0d55ea40caf"
      },
      {
       "current": "cebf3ca1-2391-11e9-a9f8-e0d55ea40caf",
       "next": "cebf3ca2-2391-11e9-a9f8-e0d55ea40caf",
       "previous": "cebf3c9c-2391-11e9-a9f8-e0d55ea40caf"
      },
      {
       "current": "cebf3ca1-2391-11e9-a9f8-e0d55ea40caf",
       "next": "cebf3ca2-2391-11e9-a9f8-e0d55ea40caf",
       "previous": "644b607c-2397-11e9-a9f8-e0d55ea40caf"
      },
      {
       "current": "aa7c15f0-96e2-11e9-8e94-02420a010063",
       "next": "aa7c16ae-96e2-11e9-8e94-02420a010063",
       "previous": "aa7c14f6-96e2-11e9-8e94-02420a010063"
      }
     ],
     "next": "6c5a7c7a-173f-11ea-a18a-02420a010445",
     "previous": "6c5a79b4-173f-11ea-a18a-02420a010445"
    }
   },
   "source": [
    "ヒント：`[1, 2, 3, 6, 9]`と表示されれば正しく動作している。"
   ]
  },
  {
   "cell_type": "markdown",
   "metadata": {
    "lc_cell_meme": {
     "current": "6c5a7c7a-173f-11ea-a18a-02420a010445",
     "history": [
      {
       "current": "cebf3ca2-2391-11e9-a9f8-e0d55ea40caf",
       "next": "cebf3ca3-2391-11e9-a9f8-e0d55ea40caf",
       "previous": "cebf3ca1-2391-11e9-a9f8-e0d55ea40caf"
      },
      {
       "current": "aa7c16ae-96e2-11e9-8e94-02420a010063",
       "next": "aa7c17d0-96e2-11e9-8e94-02420a010063",
       "previous": "aa7c15f0-96e2-11e9-8e94-02420a010063"
      },
      {
       "current": "aa7c16ae-96e2-11e9-8e94-02420a010063",
       "next": "a48ecf36-9d34-11e9-a4a9-02420a010061",
       "previous": "aa7c15f0-96e2-11e9-8e94-02420a010063"
      }
     ],
     "next": "6c5a7e14-173f-11ea-a18a-02420a010445",
     "previous": "6c5a7b1c-173f-11ea-a18a-02420a010445"
    }
   },
   "source": [
    "## 実行時間の計測"
   ]
  },
  {
   "cell_type": "markdown",
   "metadata": {
    "lc_cell_meme": {
     "current": "6c5a7e14-173f-11ea-a18a-02420a010445",
     "history": [
      {
       "current": "a48ecf36-9d34-11e9-a4a9-02420a010061",
       "next": "a48ed94a-9d34-11e9-a4a9-02420a010061",
       "previous": "aa7c16ae-96e2-11e9-8e94-02420a010063"
      }
     ],
     "next": "6c5a7f72-173f-11ea-a18a-02420a010445",
     "previous": "6c5a7c7a-173f-11ea-a18a-02420a010445"
    }
   },
   "source": [
    "### ランダムデータでの検証\n",
    "下のセルを評価して、0～999までの**1000**個の数値が、ランダムに並んだリスト`l`を作成しなさい。"
   ]
  },
  {
   "cell_type": "code",
   "execution_count": null,
   "metadata": {
    "lc_cell_meme": {
     "current": "6c5a7f72-173f-11ea-a18a-02420a010445",
     "history": [
      {
       "current": "a48ed94a-9d34-11e9-a4a9-02420a010061",
       "next": "aa7c17d0-96e2-11e9-8e94-02420a010063",
       "previous": "a48ecf36-9d34-11e9-a4a9-02420a010061"
      }
     ],
     "next": "6c5a80d0-173f-11ea-a18a-02420a010445",
     "previous": "6c5a7e14-173f-11ea-a18a-02420a010445"
    },
    "lc_wrapper": {
     "log_history": [
      "/home/ishizaka47c8ac/07/.log/20190703/20190703-114521-0046.log",
      "/home/ishizaka47c8ac/07/.log/20190703/20190703-114526-0741.log",
      "/home/ishizaka47c8ac/07/.log/20190703/20190703-114550-0737.log",
      "/home/ishizaka47c8ac/07/.log/20190703/20190703-115047-0171.log",
      "/home/10999408x8b656d/10a/.log/20191204/20191204-150414-0417.log",
      "/home/10999408x8b656d/10a/.log/20191204/20191204-153406-0514.log",
      "/home/10999408x8b656d/10a/.log/20191204/20191204-153509-0307.log"
     ]
    }
   },
   "outputs": [],
   "source": [
    "import random\n",
    "l = random.sample(list(range(1000)), k = 1000)\n",
    "l[0:10] # l[0]～l[9]まで表示してみる"
   ]
  },
  {
   "cell_type": "markdown",
   "metadata": {
    "lc_cell_meme": {
     "current": "6c5a80d0-173f-11ea-a18a-02420a010445",
     "history": [
      {
       "current": "cebf3ca3-2391-11e9-a9f8-e0d55ea40caf",
       "next": "cebf3ca4-2391-11e9-a9f8-e0d55ea40caf",
       "previous": "cebf3ca2-2391-11e9-a9f8-e0d55ea40caf"
      },
      {
       "current": "cebf3ca3-2391-11e9-a9f8-e0d55ea40caf",
       "next": "7bedfaf4-2393-11e9-a9f8-e0d55ea40caf",
       "previous": "cebf3ca2-2391-11e9-a9f8-e0d55ea40caf"
      },
      {
       "current": "aa7c17d0-96e2-11e9-8e94-02420a010063",
       "next": "aa7c18ca-96e2-11e9-8e94-02420a010063",
       "previous": "aa7c16ae-96e2-11e9-8e94-02420a010063"
      },
      {
       "current": "aa7c17d0-96e2-11e9-8e94-02420a010063",
       "next": "aa7c18ca-96e2-11e9-8e94-02420a010063",
       "previous": "a48ed94a-9d34-11e9-a4a9-02420a010061"
      }
     ],
     "next": "6c5a8260-173f-11ea-a18a-02420a010445",
     "previous": "6c5a7f72-173f-11ea-a18a-02420a010445"
    }
   },
   "source": [
    "【参考】  \n",
    "` randdom.sample`関数： **母集団**のシーケンスまたは集合から選ばれた*長さ k* の一意な要素からなるリストを返します。重複無しのランダムサンプリングに用いられます。https://docs.python.org/ja/3/library/random.html  \n",
    " 母集団`list(range(1000))`：0-999までの範囲(rangeオブジェクト)をリスト化したもの"
   ]
  },
  {
   "cell_type": "markdown",
   "metadata": {
    "lc_cell_meme": {
     "current": "6c5a8260-173f-11ea-a18a-02420a010445",
     "history": [
      {
       "current": "7bedfaf4-2393-11e9-a9f8-e0d55ea40caf",
       "next": "cebf3ca4-2391-11e9-a9f8-e0d55ea40caf",
       "previous": "cebf3ca3-2391-11e9-a9f8-e0d55ea40caf"
      },
      {
       "current": "aa7c18ca-96e2-11e9-8e94-02420a010063",
       "next": "aa7c1988-96e2-11e9-8e94-02420a010063",
       "previous": "aa7c17d0-96e2-11e9-8e94-02420a010063"
      }
     ],
     "next": "6c5a83f0-173f-11ea-a18a-02420a010445",
     "previous": "6c5a80d0-173f-11ea-a18a-02420a010445"
    }
   },
   "source": [
    "次のセルを評価して、`selection_sort(l)`の実行時間を計測しなさい。  \n",
    "**注意**: `%%time`はセルの1行目に記述する必要があります。2行目以降に書くとエラーになることがあります。"
   ]
  },
  {
   "cell_type": "code",
   "execution_count": null,
   "metadata": {
    "lc_cell_meme": {
     "current": "6c5a83f0-173f-11ea-a18a-02420a010445",
     "history": [
      {
       "current": "cebf3ca4-2391-11e9-a9f8-e0d55ea40caf",
       "next": "cebf3ca5-2391-11e9-a9f8-e0d55ea40caf",
       "previous": "cebf3ca3-2391-11e9-a9f8-e0d55ea40caf"
      },
      {
       "current": "cebf3ca4-2391-11e9-a9f8-e0d55ea40caf",
       "next": "cebf3ca5-2391-11e9-a9f8-e0d55ea40caf",
       "previous": "7bedfaf4-2393-11e9-a9f8-e0d55ea40caf"
      },
      {
       "current": "aa7c1988-96e2-11e9-8e94-02420a010063",
       "next": "aa7c1a50-96e2-11e9-8e94-02420a010063",
       "previous": "aa7c18ca-96e2-11e9-8e94-02420a010063"
      }
     ],
     "next": "6c5a8576-173f-11ea-a18a-02420a010445",
     "previous": "6c5a8260-173f-11ea-a18a-02420a010445"
    },
    "lc_wrapper": {
     "log_history": [
      "/home/kuwata/notebooks/.log/20190201/20190201-101455-0157.log",
      "/home/10999408x8b656d/10a/.log/20191204/20191204-153408-0818.log",
      "/home/10999408x8b656d/10a/.log/20191204/20191204-153441-0475.log",
      "/home/10999408x8b656d/10a/.log/20191204/20191204-153510-0517.log",
      "/home/10999408x8b656d/10/.log/20191206/20191206-114207-0676.log",
      "/home/10999408x8b656d/10/.log/20191206/20191206-114346-0666.log",
      "/home/10999408x8b656d/10/.log/20191206/20191206-114352-0211.log",
      "/home/10999408x8b656d/10/.log/20191206/20191206-114356-0563.log",
      "/home/10999408x8b656d/10/.log/20191206/20191206-114536-0760.log"
     ]
    }
   },
   "outputs": [],
   "source": [
    "%%time\n",
    "# このセルを評価すること\n",
    "selection_sort(l)"
   ]
  },
  {
   "cell_type": "markdown",
   "metadata": {
    "lc_cell_meme": {
     "current": "6c5a8576-173f-11ea-a18a-02420a010445",
     "history": [
      {
       "current": "cebf3ca5-2391-11e9-a9f8-e0d55ea40caf",
       "next": "cebf3ca6-2391-11e9-a9f8-e0d55ea40caf",
       "previous": "cebf3ca4-2391-11e9-a9f8-e0d55ea40caf"
      },
      {
       "current": "cebf3ca5-2391-11e9-a9f8-e0d55ea40caf",
       "next": "cebf3ca7-2391-11e9-a9f8-e0d55ea40caf",
       "previous": "cebf3ca4-2391-11e9-a9f8-e0d55ea40caf"
      },
      {
       "current": "aa7c1a50-96e2-11e9-8e94-02420a010063",
       "next": "aa7c1b68-96e2-11e9-8e94-02420a010063",
       "previous": "aa7c1988-96e2-11e9-8e94-02420a010063"
      }
     ],
     "next": "6c5a86d4-173f-11ea-a18a-02420a010445",
     "previous": "6c5a83f0-173f-11ea-a18a-02420a010445"
    }
   },
   "source": [
    "結果は30～40ms(ミリ秒）程度である。"
   ]
  },
  {
   "cell_type": "markdown",
   "metadata": {
    "lc_cell_meme": {
     "current": "6c5a86d4-173f-11ea-a18a-02420a010445",
     "history": [
      {
       "current": "cebf3ca7-2391-11e9-a9f8-e0d55ea40caf",
       "next": "cebf3ca8-2391-11e9-a9f8-e0d55ea40caf",
       "previous": "cebf3ca6-2391-11e9-a9f8-e0d55ea40caf"
      },
      {
       "current": "cebf3ca7-2391-11e9-a9f8-e0d55ea40caf",
       "next": "cebf3ca8-2391-11e9-a9f8-e0d55ea40caf",
       "previous": "cebf3ca5-2391-11e9-a9f8-e0d55ea40caf"
      },
      {
       "current": "aa7c1b68-96e2-11e9-8e94-02420a010063",
       "next": "aa7c1cbc-96e2-11e9-8e94-02420a010063",
       "previous": "aa7c1a50-96e2-11e9-8e94-02420a010063"
      }
     ],
     "next": "6c5a8832-173f-11ea-a18a-02420a010445",
     "previous": "6c5a8576-173f-11ea-a18a-02420a010445"
    }
   },
   "source": [
    "下のセルを評価して、次に`l`の大きさを10倍の**10000**にしたリストを作成しなさい。"
   ]
  },
  {
   "cell_type": "code",
   "execution_count": null,
   "metadata": {
    "lc_cell_meme": {
     "current": "6c5a8832-173f-11ea-a18a-02420a010445",
     "history": [
      {
       "current": "cebf3ca8-2391-11e9-a9f8-e0d55ea40caf",
       "next": "cebf3ca9-2391-11e9-a9f8-e0d55ea40caf",
       "previous": "cebf3ca7-2391-11e9-a9f8-e0d55ea40caf"
      },
      {
       "current": "cebf3ca8-2391-11e9-a9f8-e0d55ea40caf",
       "next": "cebf3cab-2391-11e9-a9f8-e0d55ea40caf",
       "previous": "cebf3ca7-2391-11e9-a9f8-e0d55ea40caf"
      },
      {
       "current": "cebf3ca8-2391-11e9-a9f8-e0d55ea40caf",
       "next": "cebf3ca7-2391-11e9-a9f8-e0d55ea40caf",
       "previous": "cebf3ca7-2391-11e9-a9f8-e0d55ea40caf"
      },
      {
       "current": "aa7c1cbc-96e2-11e9-8e94-02420a010063",
       "next": "aa7c1e06-96e2-11e9-8e94-02420a010063",
       "previous": "aa7c1b68-96e2-11e9-8e94-02420a010063"
      }
     ],
     "next": "6c5a8990-173f-11ea-a18a-02420a010445",
     "previous": "6c5a86d4-173f-11ea-a18a-02420a010445"
    },
    "lc_wrapper": {
     "log_history": [
      "/home/10999408x8b656d/10a/.log/20191204/20191204-153413-0485.log",
      "/home/10999408x8b656d/10a/.log/20191204/20191204-153452-0604.log",
      "/home/10999408x8b656d/10a/.log/20191204/20191204-153512-0999.log",
      "/home/10999408x8b656d/10a/.log/20191204/20191204-153606-0527.log"
     ]
    }
   },
   "outputs": [],
   "source": [
    "# このセルを評価すること\n",
    "l = random.sample(list(range(10000)), k = 10000)"
   ]
  },
  {
   "cell_type": "markdown",
   "metadata": {
    "lc_cell_meme": {
     "current": "6c5a8990-173f-11ea-a18a-02420a010445",
     "history": [
      {
       "current": "cebf3ca7-2391-11e9-a9f8-e0d55ea40caf",
       "next": "cebf3ca8-2391-11e9-a9f8-e0d55ea40caf",
       "previous": "cebf3ca6-2391-11e9-a9f8-e0d55ea40caf"
      },
      {
       "current": "cebf3ca7-2391-11e9-a9f8-e0d55ea40caf",
       "next": "cebf3ca8-2391-11e9-a9f8-e0d55ea40caf",
       "previous": "cebf3ca5-2391-11e9-a9f8-e0d55ea40caf"
      },
      {
       "current": "cebf3ca7-2391-11e9-a9f8-e0d55ea40caf",
       "next": "cebf3ca8-2391-11e9-a9f8-e0d55ea40caf",
       "previous": "cebf3ca8-2391-11e9-a9f8-e0d55ea40caf"
      },
      {
       "current": "aa7c1e06-96e2-11e9-8e94-02420a010063",
       "next": "aa7c1f14-96e2-11e9-8e94-02420a010063",
       "previous": "aa7c1cbc-96e2-11e9-8e94-02420a010063"
      }
     ],
     "next": "6c5a8b20-173f-11ea-a18a-02420a010445",
     "previous": "6c5a8832-173f-11ea-a18a-02420a010445"
    }
   },
   "source": [
    "`selection_sort(l)`の実行時間を計測しなさい。"
   ]
  },
  {
   "cell_type": "code",
   "execution_count": null,
   "metadata": {
    "lc_cell_meme": {
     "current": "6c5a8b20-173f-11ea-a18a-02420a010445",
     "history": [
      {
       "current": "cebf3ca8-2391-11e9-a9f8-e0d55ea40caf",
       "next": "cebf3ca9-2391-11e9-a9f8-e0d55ea40caf",
       "previous": "cebf3ca7-2391-11e9-a9f8-e0d55ea40caf"
      },
      {
       "current": "cebf3ca8-2391-11e9-a9f8-e0d55ea40caf",
       "next": "cebf3cab-2391-11e9-a9f8-e0d55ea40caf",
       "previous": "cebf3ca7-2391-11e9-a9f8-e0d55ea40caf"
      },
      {
       "current": "aa7c1f14-96e2-11e9-8e94-02420a010063",
       "next": "aa7c2054-96e2-11e9-8e94-02420a010063",
       "previous": "aa7c1e06-96e2-11e9-8e94-02420a010063"
      },
      {
       "current": "aa7c1f14-96e2-11e9-8e94-02420a010063",
       "next": "0a317af4-9d36-11e9-a4a9-02420a010061",
       "previous": "aa7c1e06-96e2-11e9-8e94-02420a010063"
      },
      {
       "current": "aa7c1f14-96e2-11e9-8e94-02420a010063",
       "next": "6fdcc74a-9d37-11e9-a4a9-02420a010061",
       "previous": "aa7c1e06-96e2-11e9-8e94-02420a010063"
      }
     ],
     "next": "6c5a8ddc-173f-11ea-a18a-02420a010445",
     "previous": "6c5a8990-173f-11ea-a18a-02420a010445"
    },
    "lc_wrapper": {
     "log_history": [
      "/home/10999408x8b656d/10a/.log/20191204/20191204-153414-0687.log",
      "/home/10999408x8b656d/10a/.log/20191204/20191204-153453-0498.log",
      "/home/10999408x8b656d/10a/.log/20191204/20191204-153513-0787.log",
      "/home/10999408x8b656d/10e/.log/20191205/20191205-181217-0785.log"
     ]
    }
   },
   "outputs": [],
   "source": [
    "%%time\n",
    "# このセルを評価すること\n",
    "selection_sort(l)"
   ]
  },
  {
   "cell_type": "markdown",
   "metadata": {
    "lc_cell_meme": {
     "current": "6c5a8ddc-173f-11ea-a18a-02420a010445",
     "history": [
      {
       "current": "6fdcc74a-9d37-11e9-a4a9-02420a010061",
       "next": "aa7c4d54-96e2-11e9-8e94-02420a010063",
       "previous": "0a317af4-9d36-11e9-a4a9-02420a010061"
      },
      {
       "current": "6fdcc74a-9d37-11e9-a4a9-02420a010061",
       "next": "b75c2958-9d37-11e9-a4a9-02420a010061",
       "previous": "0a317af4-9d36-11e9-a4a9-02420a010061"
      },
      {
       "current": "6fdcc74a-9d37-11e9-a4a9-02420a010061",
       "next": "aa7c4d54-96e2-11e9-8e94-02420a010063",
       "previous": "aa7c1f14-96e2-11e9-8e94-02420a010063"
      }
     ],
     "next": "6c5a8f62-173f-11ea-a18a-02420a010445",
     "previous": "6c5a8b20-173f-11ea-a18a-02420a010445"
    },
    "lc_wrapper": {
     "log_history": [
      "/home/ishizaka47c8ac/07/.log/20190703/20190703-110827-0926.log"
     ]
    }
   },
   "source": [
    "lの大きさが1000の場合と10000の場合の時間を比較して考察してみましょう。\n",
    "- データが１０倍だが、実行時間は？？？倍\n",
    "\n"
   ]
  },
  {
   "cell_type": "markdown",
   "metadata": {
    "lc_cell_meme": {
     "current": "6c5a8f62-173f-11ea-a18a-02420a010445",
     "history": [
      {
       "current": "cebf3ccb-2391-11e9-a9f8-e0d55ea40caf",
       "next": null,
       "previous": "cebf3cca-2391-11e9-a9f8-e0d55ea40caf"
      },
      {
       "current": "cebf3ccb-2391-11e9-a9f8-e0d55ea40caf",
       "next": null,
       "previous": "dd97726a-96db-11e9-8b94-e0d55ea40caf"
      },
      {
       "current": "aa7c4d54-96e2-11e9-8e94-02420a010063",
       "next": null,
       "previous": "aa7c4c96-96e2-11e9-8e94-02420a010063"
      },
      {
       "current": "aa7c4d54-96e2-11e9-8e94-02420a010063",
       "next": null,
       "previous": "0a317af4-9d36-11e9-a4a9-02420a010061"
      },
      {
       "current": "aa7c4d54-96e2-11e9-8e94-02420a010063",
       "next": null,
       "previous": "6fdcc74a-9d37-11e9-a4a9-02420a010061"
      },
      {
       "current": "aa7c4d54-96e2-11e9-8e94-02420a010063",
       "next": null,
       "previous": "b75c2958-9d37-11e9-a4a9-02420a010061"
      },
      {
       "current": "aa7c4d54-96e2-11e9-8e94-02420a010063",
       "next": null,
       "previous": "6fdcc74a-9d37-11e9-a4a9-02420a010061"
      }
     ],
     "next": null,
     "previous": "6c5a8ddc-173f-11ea-a18a-02420a010445"
    }
   },
   "source": [
    "演習はこれで終了です。課題に進んでください。"
   ]
  }
 ],
 "metadata": {
  "kernelspec": {
   "display_name": "Python 3",
   "language": "python",
   "name": "python3"
  },
  "language_info": {
   "file_extension": ".py",
   "mimetype": "text/x-python",
   "name": "python",
   "nbconvert_exporter": "python",
   "pygments_lexer": "ipython3",
   "version": "3.7.3"
  },
  "lc_notebook_meme": {
   "current": "6c5a4228-173f-11ea-a18a-02420a010445",
   "history": [
    "cebf3c90-2391-11e9-a9f8-e0d55ea40caf",
    "aa7bef44-96e2-11e9-8e94-02420a010063"
   ],
   "lc_server_signature": {
    "current": {
     "notebook_dir": "/home/10999408x8b656d",
     "notebook_path": "/10",
     "server_url": "https://nb06.ecloud.nii.ac.jp/user/10999408x8b656d/",
     "signature_id": "d393819a-dea3-11e9-afca-02420a010023"
    },
    "history": [
     {
      "notebook_dir": "/home/kuwata/notebooks",
      "notebook_path": "/",
      "server_url": "http://157.19.141.8:8000/user/kuwata/",
      "signature_id": "d0abe7ae-153d-11e9-9674-e0d55ea40caf"
     },
     {
      "notebook_dir": "/home/kuwataa25e07",
      "notebook_path": "/03",
      "server_url": "https://nb02.ecloud.nii.ac.jp/user/kuwataa25e07/",
      "signature_id": "8e0bfa62-88ae-11e9-b239-02420a010019"
     },
     {
      "notebook_dir": "/home/ishizaka47c8ac",
      "notebook_path": "/07",
      "server_url": "https://nb02.ecloud.nii.ac.jp/user/ishizaka47c8ac/",
      "signature_id": "c6d8f84c-88e8-11e9-b21e-02420a01001b"
     },
     {
      "notebook_dir": "/home/10999408x8b656d",
      "notebook_path": "/10a",
      "server_url": "https://nb06.ecloud.nii.ac.jp/user/10999408x8b656d/",
      "signature_id": "d393819a-dea3-11e9-afca-02420a010023"
     },
     {
      "notebook_dir": "/home/10999408x8b656d",
      "notebook_path": "/10e",
      "server_url": "https://nb06.ecloud.nii.ac.jp/user/10999408x8b656d/",
      "signature_id": "d393819a-dea3-11e9-afca-02420a010023"
     }
    ]
   },
   "root_cells": [
    "6c5a4890-173f-11ea-a18a-02420a010445",
    "6c5a4ae8-173f-11ea-a18a-02420a010445",
    "6c5a4caa-173f-11ea-a18a-02420a010445",
    "6c5a4e1c-173f-11ea-a18a-02420a010445",
    "6c5a4f84-173f-11ea-a18a-02420a010445",
    "6c5a511e-173f-11ea-a18a-02420a010445",
    "6c5a527c-173f-11ea-a18a-02420a010445",
    "6c5a5416-173f-11ea-a18a-02420a010445",
    "6c5a55a6-173f-11ea-a18a-02420a010445",
    "6c5a572c-173f-11ea-a18a-02420a010445",
    "6c5a588a-173f-11ea-a18a-02420a010445",
    "6c5a59f2-173f-11ea-a18a-02420a010445",
    "6c5a5b78-173f-11ea-a18a-02420a010445",
    "6c5a5d08-173f-11ea-a18a-02420a010445",
    "6c5a5e8e-173f-11ea-a18a-02420a010445",
    "6c5a5fec-173f-11ea-a18a-02420a010445",
    "6c5a617c-173f-11ea-a18a-02420a010445",
    "6c5a6302-173f-11ea-a18a-02420a010445",
    "6c5a6460-173f-11ea-a18a-02420a010445",
    "6c5a66ae-173f-11ea-a18a-02420a010445",
    "6c5a6820-173f-11ea-a18a-02420a010445",
    "6c5a6a64-173f-11ea-a18a-02420a010445",
    "6c5a6c26-173f-11ea-a18a-02420a010445",
    "6c5a6db6-173f-11ea-a18a-02420a010445",
    "6c5a6f46-173f-11ea-a18a-02420a010445",
    "6c5a70a4-173f-11ea-a18a-02420a010445",
    "6c5a722a-173f-11ea-a18a-02420a010445",
    "6c5a73c4-173f-11ea-a18a-02420a010445",
    "6c5a7522-173f-11ea-a18a-02420a010445",
    "6c5a76d0-173f-11ea-a18a-02420a010445",
    "6c5a7860-173f-11ea-a18a-02420a010445",
    "6c5a79b4-173f-11ea-a18a-02420a010445",
    "6c5a7b1c-173f-11ea-a18a-02420a010445",
    "6c5a7c7a-173f-11ea-a18a-02420a010445",
    "6c5a7e14-173f-11ea-a18a-02420a010445",
    "6c5a7f72-173f-11ea-a18a-02420a010445",
    "6c5a80d0-173f-11ea-a18a-02420a010445",
    "6c5a8260-173f-11ea-a18a-02420a010445",
    "6c5a83f0-173f-11ea-a18a-02420a010445",
    "6c5a8576-173f-11ea-a18a-02420a010445",
    "6c5a86d4-173f-11ea-a18a-02420a010445",
    "6c5a8832-173f-11ea-a18a-02420a010445",
    "6c5a8990-173f-11ea-a18a-02420a010445",
    "6c5a8b20-173f-11ea-a18a-02420a010445",
    "6c5a8ddc-173f-11ea-a18a-02420a010445",
    "6c5a8f62-173f-11ea-a18a-02420a010445"
   ]
  },
  "toc": {
   "base_numbering": 1,
   "nav_menu": {},
   "number_sections": true,
   "sideBar": true,
   "skip_h1_title": false,
   "title_cell": "Table of Contents",
   "title_sidebar": "Contents",
   "toc_cell": false,
   "toc_position": {
    "height": "calc(100% - 180px)",
    "left": "10px",
    "top": "150px",
    "width": "284.383px"
   },
   "toc_section_display": true,
   "toc_window_display": true
  }
 },
 "nbformat": 4,
 "nbformat_minor": 2
}
