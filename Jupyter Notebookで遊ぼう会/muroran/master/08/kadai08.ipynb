{
 "cells": [
  {
   "cell_type": "markdown",
   "metadata": {
    "lc_cell_meme": {
     "current": "5480dc22-0c16-11ea-9e29-02420a010068",
     "history": [
      {
       "current": "4baeeaaa-96df-11e9-8b94-e0d55ea40caf",
       "next": "4baeeaab-96df-11e9-8b94-e0d55ea40caf",
       "previous": null
      },
      {
       "current": "4baeeaaa-96df-11e9-8b94-e0d55ea40caf",
       "next": "d3724eee-ef2e-11e9-a8bb-02420a010068",
       "previous": null
      },
      {
       "current": "4ae249d8-f3c2-11e9-a610-02420a010068",
       "next": "4ae24bb8-f3c2-11e9-a610-02420a010068",
       "previous": null
      },
      {
       "current": "29622828-0a97-11ea-94e6-02420a010068",
       "next": "29622af8-0a97-11ea-94e6-02420a010068",
       "previous": null
      }
     ],
     "next": "5480de3e-0c16-11ea-9e29-02420a010068",
     "previous": null
    }
   },
   "source": [
    "プログラミング入門\n",
    "# 第8回　総合演習2（課題）"
   ]
  },
  {
   "cell_type": "markdown",
   "metadata": {
    "lc_cell_meme": {
     "current": "5480de3e-0c16-11ea-9e29-02420a010068",
     "history": [
      {
       "current": "d3724eee-ef2e-11e9-a8bb-02420a010068",
       "next": "4baeeaab-96df-11e9-8b94-e0d55ea40caf",
       "previous": "4baeeaaa-96df-11e9-8b94-e0d55ea40caf"
      },
      {
       "current": "4ae24bb8-f3c2-11e9-a610-02420a010068",
       "next": "4ae24e06-f3c2-11e9-a610-02420a010068",
       "previous": "4ae249d8-f3c2-11e9-a610-02420a010068"
      },
      {
       "current": "29622af8-0a97-11ea-94e6-02420a010068",
       "next": "29622f12-0a97-11ea-94e6-02420a010068",
       "previous": "29622828-0a97-11ea-94e6-02420a010068"
      }
     ],
     "next": "5480dfec-0c16-11ea-9e29-02420a010068",
     "previous": "5480dc22-0c16-11ea-9e29-02420a010068"
    }
   },
   "source": [
    "## 氏名"
   ]
  },
  {
   "cell_type": "markdown",
   "metadata": {
    "lc_cell_meme": {
     "current": "5480dfec-0c16-11ea-9e29-02420a010068",
     "history": [
      {
       "current": "4baeeaab-96df-11e9-8b94-e0d55ea40caf",
       "next": "4baeeaac-96df-11e9-8b94-e0d55ea40caf",
       "previous": "4baeeaaa-96df-11e9-8b94-e0d55ea40caf"
      },
      {
       "current": "4baeeaab-96df-11e9-8b94-e0d55ea40caf",
       "next": "4baeeaac-96df-11e9-8b94-e0d55ea40caf",
       "previous": "d3724eee-ef2e-11e9-a8bb-02420a010068"
      },
      {
       "current": "4ae24e06-f3c2-11e9-a610-02420a010068",
       "next": "4ae24fa0-f3c2-11e9-a610-02420a010068",
       "previous": "4ae24bb8-f3c2-11e9-a610-02420a010068"
      },
      {
       "current": "29622f12-0a97-11ea-94e6-02420a010068",
       "next": "29623106-0a97-11ea-94e6-02420a010068",
       "previous": "29622af8-0a97-11ea-94e6-02420a010068"
      }
     ],
     "next": "5480e186-0c16-11ea-9e29-02420a010068",
     "previous": "5480de3e-0c16-11ea-9e29-02420a010068"
    }
   },
   "source": [
    "次のセルに、自分の名前と学籍番号を記入して下さい。"
   ]
  },
  {
   "cell_type": "raw",
   "metadata": {
    "lc_cell_meme": {
     "current": "5480e186-0c16-11ea-9e29-02420a010068",
     "history": [
      {
       "current": "4baeeaac-96df-11e9-8b94-e0d55ea40caf",
       "next": "efa662f7-96de-11e9-8b94-e0d55ea40caf",
       "previous": "4baeeaab-96df-11e9-8b94-e0d55ea40caf"
      },
      {
       "current": "4baeeaac-96df-11e9-8b94-e0d55ea40caf",
       "next": "efa662f7-96de-11e9-8b94-e0d55ea40caf",
       "previous": "4baeeaab-96df-11e9-8b94-e0d55ea40caf"
      },
      {
       "current": "4baeeaac-96df-11e9-8b94-e0d55ea40caf",
       "next": "933950fe-96df-11e9-8b94-e0d55ea40caf",
       "previous": "4baeeaac-96df-11e9-8b94-e0d55ea40caf"
      },
      {
       "current": "4baeeaac-96df-11e9-8b94-e0d55ea40caf",
       "next": "933950fe-96df-11e9-8b94-e0d55ea40caf",
       "previous": "4baeeaac-96df-11e9-8b94-e0d55ea40caf"
      },
      {
       "current": "4baeeaac-96df-11e9-8b94-e0d55ea40caf",
       "next": "933950fe-96df-11e9-8b94-e0d55ea40caf",
       "previous": "4baeeaac-96df-11e9-8b94-e0d55ea40caf"
      },
      {
       "current": "4baeeaac-96df-11e9-8b94-e0d55ea40caf",
       "next": "933950fe-96df-11e9-8b94-e0d55ea40caf",
       "previous": "4baeeaac-96df-11e9-8b94-e0d55ea40caf"
      },
      {
       "current": "4baeeaac-96df-11e9-8b94-e0d55ea40caf",
       "next": "933950fe-96df-11e9-8b94-e0d55ea40caf",
       "previous": "4baeeaac-96df-11e9-8b94-e0d55ea40caf"
      },
      {
       "current": "4baeeaac-96df-11e9-8b94-e0d55ea40caf",
       "next": "933950fe-96df-11e9-8b94-e0d55ea40caf",
       "previous": "4baeeaac-96df-11e9-8b94-e0d55ea40caf"
      },
      {
       "current": "4baeeaac-96df-11e9-8b94-e0d55ea40caf",
       "next": "933950fe-96df-11e9-8b94-e0d55ea40caf",
       "previous": "4baeeaac-96df-11e9-8b94-e0d55ea40caf"
      },
      {
       "current": "4baeeaac-96df-11e9-8b94-e0d55ea40caf",
       "next": "933950fe-96df-11e9-8b94-e0d55ea40caf",
       "previous": "4baeeaac-96df-11e9-8b94-e0d55ea40caf"
      },
      {
       "current": "4baeeaac-96df-11e9-8b94-e0d55ea40caf",
       "next": "933950fe-96df-11e9-8b94-e0d55ea40caf",
       "previous": "4baeeaac-96df-11e9-8b94-e0d55ea40caf"
      },
      {
       "current": "4baeeaac-96df-11e9-8b94-e0d55ea40caf",
       "next": "933950fe-96df-11e9-8b94-e0d55ea40caf",
       "previous": "4baeeaac-96df-11e9-8b94-e0d55ea40caf"
      },
      {
       "current": "4baeeaac-96df-11e9-8b94-e0d55ea40caf",
       "next": "4baeeaac-96df-11e9-8b94-e0d55ea40caf",
       "previous": "4baeeaab-96df-11e9-8b94-e0d55ea40caf"
      },
      {
       "current": "4ae24fa0-f3c2-11e9-a610-02420a010068",
       "next": "4ae251b2-f3c2-11e9-a610-02420a010068",
       "previous": "4ae24e06-f3c2-11e9-a610-02420a010068"
      },
      {
       "current": "29623106-0a97-11ea-94e6-02420a010068",
       "next": "29623318-0a97-11ea-94e6-02420a010068",
       "previous": "29622f12-0a97-11ea-94e6-02420a010068"
      }
     ],
     "next": "5480e2da-0c16-11ea-9e29-02420a010068",
     "previous": "5480dfec-0c16-11ea-9e29-02420a010068"
    }
   },
   "source": [
    "学籍番号：　  　　　　　　　　　　氏名："
   ]
  },
  {
   "cell_type": "markdown",
   "metadata": {
    "lc_cell_meme": {
     "current": "5480e2da-0c16-11ea-9e29-02420a010068",
     "history": [
      {
       "current": "4baeeaac-96df-11e9-8b94-e0d55ea40caf",
       "next": "efa662f7-96de-11e9-8b94-e0d55ea40caf",
       "previous": "4baeeaab-96df-11e9-8b94-e0d55ea40caf"
      },
      {
       "current": "4baeeaac-96df-11e9-8b94-e0d55ea40caf",
       "next": "efa662f7-96de-11e9-8b94-e0d55ea40caf",
       "previous": "4baeeaab-96df-11e9-8b94-e0d55ea40caf"
      },
      {
       "current": "4baeeaac-96df-11e9-8b94-e0d55ea40caf",
       "next": "933950fe-96df-11e9-8b94-e0d55ea40caf",
       "previous": "4baeeaac-96df-11e9-8b94-e0d55ea40caf"
      },
      {
       "current": "4baeeaac-96df-11e9-8b94-e0d55ea40caf",
       "next": "933950fe-96df-11e9-8b94-e0d55ea40caf",
       "previous": "4baeeaac-96df-11e9-8b94-e0d55ea40caf"
      },
      {
       "current": "4baeeaac-96df-11e9-8b94-e0d55ea40caf",
       "next": "933950fe-96df-11e9-8b94-e0d55ea40caf",
       "previous": "4baeeaac-96df-11e9-8b94-e0d55ea40caf"
      },
      {
       "current": "4baeeaac-96df-11e9-8b94-e0d55ea40caf",
       "next": "933950fe-96df-11e9-8b94-e0d55ea40caf",
       "previous": "4baeeaac-96df-11e9-8b94-e0d55ea40caf"
      },
      {
       "current": "4baeeaac-96df-11e9-8b94-e0d55ea40caf",
       "next": "933950fe-96df-11e9-8b94-e0d55ea40caf",
       "previous": "4baeeaac-96df-11e9-8b94-e0d55ea40caf"
      },
      {
       "current": "4baeeaac-96df-11e9-8b94-e0d55ea40caf",
       "next": "933950fe-96df-11e9-8b94-e0d55ea40caf",
       "previous": "4baeeaac-96df-11e9-8b94-e0d55ea40caf"
      },
      {
       "current": "4baeeaac-96df-11e9-8b94-e0d55ea40caf",
       "next": "933950fe-96df-11e9-8b94-e0d55ea40caf",
       "previous": "4baeeaac-96df-11e9-8b94-e0d55ea40caf"
      },
      {
       "current": "4baeeaac-96df-11e9-8b94-e0d55ea40caf",
       "next": "933950fe-96df-11e9-8b94-e0d55ea40caf",
       "previous": "4baeeaac-96df-11e9-8b94-e0d55ea40caf"
      },
      {
       "current": "4baeeaac-96df-11e9-8b94-e0d55ea40caf",
       "next": "933950fe-96df-11e9-8b94-e0d55ea40caf",
       "previous": "4baeeaac-96df-11e9-8b94-e0d55ea40caf"
      },
      {
       "current": "4baeeaac-96df-11e9-8b94-e0d55ea40caf",
       "next": "933950fe-96df-11e9-8b94-e0d55ea40caf",
       "previous": "4baeeaac-96df-11e9-8b94-e0d55ea40caf"
      },
      {
       "current": "4ae251b2-f3c2-11e9-a610-02420a010068",
       "next": "4ae2536a-f3c2-11e9-a610-02420a010068",
       "previous": "4ae24fa0-f3c2-11e9-a610-02420a010068"
      },
      {
       "current": "29623318-0a97-11ea-94e6-02420a010068",
       "next": "296235fc-0a97-11ea-94e6-02420a010068",
       "previous": "29623106-0a97-11ea-94e6-02420a010068"
      }
     ],
     "next": "5480e488-0c16-11ea-9e29-02420a010068",
     "previous": "5480e186-0c16-11ea-9e29-02420a010068"
    }
   },
   "source": [
    "【進め方の注意】\n",
    "\n",
    "- 文書を読んで、手順に沿って問いに答えながら進めて下さい。\n",
    "- 課題の回答が終わったらファイルを保存して下さい。\n",
    "- 途中わからないことがあれば、教員またはTAに質問して下さい。"
   ]
  },
  {
   "cell_type": "markdown",
   "metadata": {
    "lc_cell_meme": {
     "current": "5480e488-0c16-11ea-9e29-02420a010068",
     "history": [
      {
       "current": "933950fe-96df-11e9-8b94-e0d55ea40caf",
       "next": "933950ff-96df-11e9-8b94-e0d55ea40caf",
       "previous": "4baeeaac-96df-11e9-8b94-e0d55ea40caf"
      },
      {
       "current": "4ae2536a-f3c2-11e9-a610-02420a010068",
       "next": "4ae2550e-f3c2-11e9-a610-02420a010068",
       "previous": "4ae251b2-f3c2-11e9-a610-02420a010068"
      },
      {
       "current": "296235fc-0a97-11ea-94e6-02420a010068",
       "next": "2962385e-0a97-11ea-94e6-02420a010068",
       "previous": "29623318-0a97-11ea-94e6-02420a010068"
      }
     ],
     "next": "5480e60e-0c16-11ea-9e29-02420a010068",
     "previous": "5480e2da-0c16-11ea-9e29-02420a010068"
    }
   },
   "source": [
    "### 注意事項"
   ]
  },
  {
   "cell_type": "markdown",
   "metadata": {
    "lc_cell_meme": {
     "current": "5480e60e-0c16-11ea-9e29-02420a010068",
     "history": [
      {
       "current": "933950ff-96df-11e9-8b94-e0d55ea40caf",
       "next": "93395100-96df-11e9-8b94-e0d55ea40caf",
       "previous": "933950fe-96df-11e9-8b94-e0d55ea40caf"
      },
      {
       "current": "4ae2550e-f3c2-11e9-a610-02420a010068",
       "next": "4ae2564e-f3c2-11e9-a610-02420a010068",
       "previous": "4ae2536a-f3c2-11e9-a610-02420a010068"
      },
      {
       "current": "2962385e-0a97-11ea-94e6-02420a010068",
       "next": "29623b60-0a97-11ea-94e6-02420a010068",
       "previous": "296235fc-0a97-11ea-94e6-02420a010068"
      }
     ],
     "next": "5480e780-0c16-11ea-9e29-02420a010068",
     "previous": "5480e488-0c16-11ea-9e29-02420a010068"
    }
   },
   "source": [
    "確認課題は、単位認定のための点数としてカウントします。\n",
    "\n",
    "グループ学習の対象の課題です。\n",
    "\n",
    "確認課題が終わったグループは、提出後に退室して構いません。\n",
    "\n",
    "終わらなくても終了時刻までに提出してください。"
   ]
  },
  {
   "cell_type": "markdown",
   "metadata": {
    "lc_cell_meme": {
     "current": "5480e780-0c16-11ea-9e29-02420a010068",
     "history": [
      {
       "current": "93395100-96df-11e9-8b94-e0d55ea40caf",
       "next": "efa662f7-96de-11e9-8b94-e0d55ea40caf",
       "previous": "933950ff-96df-11e9-8b94-e0d55ea40caf"
      },
      {
       "current": "4ae2564e-f3c2-11e9-a610-02420a010068",
       "next": "4ae257ca-f3c2-11e9-a610-02420a010068",
       "previous": "4ae2550e-f3c2-11e9-a610-02420a010068"
      },
      {
       "current": "4ae2564e-f3c2-11e9-a610-02420a010068",
       "next": "82aa9d94-09c4-11ea-a8bb-02420a010068",
       "previous": "4ae2550e-f3c2-11e9-a610-02420a010068"
      },
      {
       "current": "29623b60-0a97-11ea-94e6-02420a010068",
       "next": "29623d04-0a97-11ea-94e6-02420a010068",
       "previous": "2962385e-0a97-11ea-94e6-02420a010068"
      }
     ],
     "next": "5480e8ca-0c16-11ea-9e29-02420a010068",
     "previous": "5480e60e-0c16-11ea-9e29-02420a010068"
    }
   },
   "source": [
    " # 課題"
   ]
  },
  {
   "cell_type": "markdown",
   "metadata": {
    "lc_cell_meme": {
     "current": "5480e8ca-0c16-11ea-9e29-02420a010068",
     "history": [
      {
       "current": "82aa9d94-09c4-11ea-a8bb-02420a010068",
       "next": "4ae257ca-f3c2-11e9-a610-02420a010068",
       "previous": "4ae2564e-f3c2-11e9-a610-02420a010068"
      },
      {
       "current": "29623d04-0a97-11ea-94e6-02420a010068",
       "next": "29623f20-0a97-11ea-94e6-02420a010068",
       "previous": "29623b60-0a97-11ea-94e6-02420a010068"
      }
     ],
     "next": "5480ea64-0c16-11ea-9e29-02420a010068",
     "previous": "5480e780-0c16-11ea-9e29-02420a010068"
    }
   },
   "source": [
    "## フィボナッチ数 (教科書P.69)"
   ]
  },
  {
   "cell_type": "markdown",
   "metadata": {
    "lc_cell_meme": {
     "current": "5480ea64-0c16-11ea-9e29-02420a010068",
     "history": [
      {
       "current": "efa662f7-96de-11e9-8b94-e0d55ea40caf",
       "next": "efa662f8-96de-11e9-8b94-e0d55ea40caf",
       "previous": null
      },
      {
       "current": "efa662f7-96de-11e9-8b94-e0d55ea40caf",
       "next": "efa662f8-96de-11e9-8b94-e0d55ea40caf",
       "previous": "4baeeaac-96df-11e9-8b94-e0d55ea40caf"
      },
      {
       "current": "efa662f7-96de-11e9-8b94-e0d55ea40caf",
       "next": "efa662f8-96de-11e9-8b94-e0d55ea40caf",
       "previous": "93395100-96df-11e9-8b94-e0d55ea40caf"
      },
      {
       "current": "efa662f7-96de-11e9-8b94-e0d55ea40caf",
       "next": "f8da5718-96e0-11e9-8b94-e0d55ea40caf",
       "previous": "93395100-96df-11e9-8b94-e0d55ea40caf"
      },
      {
       "current": "4ae257ca-f3c2-11e9-a610-02420a010068",
       "next": "4ae25950-f3c2-11e9-a610-02420a010068",
       "previous": "4ae2564e-f3c2-11e9-a610-02420a010068"
      },
      {
       "current": "4ae257ca-f3c2-11e9-a610-02420a010068",
       "next": "4ae25d88-f3c2-11e9-a610-02420a010068",
       "previous": "4ae2564e-f3c2-11e9-a610-02420a010068"
      },
      {
       "current": "4ae257ca-f3c2-11e9-a610-02420a010068",
       "next": "ac197b6a-09c3-11ea-a8bb-02420a010068",
       "previous": "4ae2564e-f3c2-11e9-a610-02420a010068"
      },
      {
       "current": "4ae257ca-f3c2-11e9-a610-02420a010068",
       "next": "ac197b6a-09c3-11ea-a8bb-02420a010068",
       "previous": "82aa9d94-09c4-11ea-a8bb-02420a010068"
      },
      {
       "current": "29623f20-0a97-11ea-94e6-02420a010068",
       "next": "2962410a-0a97-11ea-94e6-02420a010068",
       "previous": "29623d04-0a97-11ea-94e6-02420a010068"
      }
     ],
     "next": "5480ecee-0c16-11ea-9e29-02420a010068",
     "previous": "5480e8ca-0c16-11ea-9e29-02420a010068"
    }
   },
   "source": [
    "以下の式で定義されるフィボナッチ数を求める関数$fib()$を定義しなさい\n",
    "\n",
    "$$\n",
    "        \\begin{cases}\n",
    "            fib(0) = 0\\\\\n",
    "            fib(1) = 1\\\\\n",
    "            fib(x) = fib(x-1) + fib(x-2), \\quad  x \\ge 2 \\\\\n",
    "        \\end{cases}\n",
    "$$\n"
   ]
  },
  {
   "cell_type": "code",
   "execution_count": null,
   "metadata": {
    "lc_cell_meme": {
     "current": "5480ecee-0c16-11ea-9e29-02420a010068",
     "history": [
      {
       "current": "ac197b6a-09c3-11ea-a8bb-02420a010068",
       "next": "ac197e30-09c3-11ea-a8bb-02420a010068",
       "previous": "4ae257ca-f3c2-11e9-a610-02420a010068"
      },
      {
       "current": "2962410a-0a97-11ea-94e6-02420a010068",
       "next": "29624312-0a97-11ea-94e6-02420a010068",
       "previous": "29623f20-0a97-11ea-94e6-02420a010068"
      },
      {
       "current": "2962410a-0a97-11ea-94e6-02420a010068",
       "next": "296244b6-0a97-11ea-94e6-02420a010068",
       "previous": "29623f20-0a97-11ea-94e6-02420a010068"
      }
     ],
     "next": "5480eed8-0c16-11ea-9e29-02420a010068",
     "previous": "5480ea64-0c16-11ea-9e29-02420a010068"
    }
   },
   "outputs": [],
   "source": [
    "# 演習用入力欄"
   ]
  },
  {
   "cell_type": "markdown",
   "metadata": {
    "lc_cell_meme": {
     "current": "5480eed8-0c16-11ea-9e29-02420a010068",
     "history": [
      {
       "current": "82aaa0fa-09c4-11ea-a8bb-02420a010068",
       "next": "82aaa23a-09c4-11ea-a8bb-02420a010068",
       "previous": "ac197e30-09c3-11ea-a8bb-02420a010068"
      },
      {
       "current": "82aaa0fa-09c4-11ea-a8bb-02420a010068",
       "next": "ac197b6a-09c3-11ea-a8bb-02420a010068",
       "previous": "ac197e30-09c3-11ea-a8bb-02420a010068"
      },
      {
       "current": "296244b6-0a97-11ea-94e6-02420a010068",
       "next": "29624704-0a97-11ea-94e6-02420a010068",
       "previous": "29624312-0a97-11ea-94e6-02420a010068"
      },
      {
       "current": "296244b6-0a97-11ea-94e6-02420a010068",
       "next": "29624704-0a97-11ea-94e6-02420a010068",
       "previous": "2962410a-0a97-11ea-94e6-02420a010068"
      }
     ],
     "next": "5480f054-0c16-11ea-9e29-02420a010068",
     "previous": "5480ecee-0c16-11ea-9e29-02420a010068"
    }
   },
   "source": [
    "以下のセルで$fib(20)$を計算しなさい"
   ]
  },
  {
   "cell_type": "code",
   "execution_count": null,
   "metadata": {
    "lc_cell_meme": {
     "current": "5480f054-0c16-11ea-9e29-02420a010068",
     "history": [
      {
       "current": "ac197b6a-09c3-11ea-a8bb-02420a010068",
       "next": "ac197e30-09c3-11ea-a8bb-02420a010068",
       "previous": "4ae257ca-f3c2-11e9-a610-02420a010068"
      },
      {
       "current": "ac197b6a-09c3-11ea-a8bb-02420a010068",
       "next": "82aaa23a-09c4-11ea-a8bb-02420a010068",
       "previous": "82aaa0fa-09c4-11ea-a8bb-02420a010068"
      },
      {
       "current": "29624704-0a97-11ea-94e6-02420a010068",
       "next": "2962490c-0a97-11ea-94e6-02420a010068",
       "previous": "296244b6-0a97-11ea-94e6-02420a010068"
      },
      {
       "current": "29624704-0a97-11ea-94e6-02420a010068",
       "next": "29624b78-0a97-11ea-94e6-02420a010068",
       "previous": "296244b6-0a97-11ea-94e6-02420a010068"
      }
     ],
     "next": "5480f1c6-0c16-11ea-9e29-02420a010068",
     "previous": "5480eed8-0c16-11ea-9e29-02420a010068"
    }
   },
   "outputs": [],
   "source": [
    "# 演習用入力欄"
   ]
  },
  {
   "cell_type": "markdown",
   "metadata": {
    "lc_cell_meme": {
     "current": "5480f1c6-0c16-11ea-9e29-02420a010068",
     "history": [
      {
       "current": "11c154fa-09c5-11ea-a8bb-02420a010068",
       "next": "4ae26314-f3c2-11e9-a610-02420a010068",
       "previous": "82aaa23a-09c4-11ea-a8bb-02420a010068"
      },
      {
       "current": "11c154fa-09c5-11ea-a8bb-02420a010068",
       "next": "82aaa0fa-09c4-11ea-a8bb-02420a010068",
       "previous": "82aaa23a-09c4-11ea-a8bb-02420a010068"
      },
      {
       "current": "29624b78-0a97-11ea-94e6-02420a010068",
       "next": "29624d30-0a97-11ea-94e6-02420a010068",
       "previous": "2962490c-0a97-11ea-94e6-02420a010068"
      },
      {
       "current": "29624b78-0a97-11ea-94e6-02420a010068",
       "next": "29624d30-0a97-11ea-94e6-02420a010068",
       "previous": "29624704-0a97-11ea-94e6-02420a010068"
      }
     ],
     "next": "5480f450-0c16-11ea-9e29-02420a010068",
     "previous": "5480f054-0c16-11ea-9e29-02420a010068"
    }
   },
   "source": [
    "$6765$になれば正解"
   ]
  },
  {
   "cell_type": "markdown",
   "metadata": {
    "lc_cell_meme": {
     "current": "5480f450-0c16-11ea-9e29-02420a010068",
     "history": [
      {
       "current": "82aaa0fa-09c4-11ea-a8bb-02420a010068",
       "next": "82aaa23a-09c4-11ea-a8bb-02420a010068",
       "previous": "ac197e30-09c3-11ea-a8bb-02420a010068"
      },
      {
       "current": "82aaa0fa-09c4-11ea-a8bb-02420a010068",
       "next": "ac197b6a-09c3-11ea-a8bb-02420a010068",
       "previous": "ac197e30-09c3-11ea-a8bb-02420a010068"
      },
      {
       "current": "82aaa0fa-09c4-11ea-a8bb-02420a010068",
       "next": "ac197b6a-09c3-11ea-a8bb-02420a010068",
       "previous": "11c154fa-09c5-11ea-a8bb-02420a010068"
      },
      {
       "current": "29624d30-0a97-11ea-94e6-02420a010068",
       "next": "29624ee8-0a97-11ea-94e6-02420a010068",
       "previous": "29624b78-0a97-11ea-94e6-02420a010068"
      }
     ],
     "next": "5480f5ae-0c16-11ea-9e29-02420a010068",
     "previous": "5480f1c6-0c16-11ea-9e29-02420a010068"
    }
   },
   "source": [
    "以下のセルで$fib(33)$を計算しなさい"
   ]
  },
  {
   "cell_type": "code",
   "execution_count": null,
   "metadata": {
    "lc_cell_meme": {
     "current": "5480f5ae-0c16-11ea-9e29-02420a010068",
     "history": [
      {
       "current": "ac197b6a-09c3-11ea-a8bb-02420a010068",
       "next": "ac197e30-09c3-11ea-a8bb-02420a010068",
       "previous": "4ae257ca-f3c2-11e9-a610-02420a010068"
      },
      {
       "current": "ac197b6a-09c3-11ea-a8bb-02420a010068",
       "next": "82aaa23a-09c4-11ea-a8bb-02420a010068",
       "previous": "82aaa0fa-09c4-11ea-a8bb-02420a010068"
      },
      {
       "current": "29624ee8-0a97-11ea-94e6-02420a010068",
       "next": "296250dc-0a97-11ea-94e6-02420a010068",
       "previous": "29624d30-0a97-11ea-94e6-02420a010068"
      },
      {
       "current": "29624ee8-0a97-11ea-94e6-02420a010068",
       "next": "29625294-0a97-11ea-94e6-02420a010068",
       "previous": "29624d30-0a97-11ea-94e6-02420a010068"
      }
     ],
     "next": "5480f6f8-0c16-11ea-9e29-02420a010068",
     "previous": "5480f450-0c16-11ea-9e29-02420a010068"
    }
   },
   "outputs": [],
   "source": [
    "# 演習用入力欄"
   ]
  },
  {
   "cell_type": "markdown",
   "metadata": {
    "lc_cell_meme": {
     "current": "5480f6f8-0c16-11ea-9e29-02420a010068",
     "history": [
      {
       "current": "11c154fa-09c5-11ea-a8bb-02420a010068",
       "next": "4ae26314-f3c2-11e9-a610-02420a010068",
       "previous": "82aaa23a-09c4-11ea-a8bb-02420a010068"
      },
      {
       "current": "11c154fa-09c5-11ea-a8bb-02420a010068",
       "next": "5945218a-09c5-11ea-a8bb-02420a010068",
       "previous": "82aaa23a-09c4-11ea-a8bb-02420a010068"
      },
      {
       "current": "29625294-0a97-11ea-94e6-02420a010068",
       "next": "2962544c-0a97-11ea-94e6-02420a010068",
       "previous": "296250dc-0a97-11ea-94e6-02420a010068"
      },
      {
       "current": "29625294-0a97-11ea-94e6-02420a010068",
       "next": "2962544c-0a97-11ea-94e6-02420a010068",
       "previous": "29624ee8-0a97-11ea-94e6-02420a010068"
      }
     ],
     "next": "5480f838-0c16-11ea-9e29-02420a010068",
     "previous": "5480f5ae-0c16-11ea-9e29-02420a010068"
    }
   },
   "source": [
    "$3524578$になれば正解"
   ]
  },
  {
   "cell_type": "markdown",
   "metadata": {
    "lc_cell_meme": {
     "current": "5480f838-0c16-11ea-9e29-02420a010068",
     "history": [
      {
       "current": "5945218a-09c5-11ea-a8bb-02420a010068",
       "next": "82aaa0fa-09c4-11ea-a8bb-02420a010068",
       "previous": "11c154fa-09c5-11ea-a8bb-02420a010068"
      },
      {
       "current": "2962544c-0a97-11ea-94e6-02420a010068",
       "next": "29625726-0a97-11ea-94e6-02420a010068",
       "previous": "29625294-0a97-11ea-94e6-02420a010068"
      }
     ],
     "next": "5480f9b4-0c16-11ea-9e29-02420a010068",
     "previous": "5480f6f8-0c16-11ea-9e29-02420a010068"
    }
   },
   "source": [
    "## 実行時間 (教科書P.69)"
   ]
  },
  {
   "cell_type": "markdown",
   "metadata": {
    "lc_cell_meme": {
     "current": "5480f9b4-0c16-11ea-9e29-02420a010068",
     "history": [
      {
       "current": "82aaa0fa-09c4-11ea-a8bb-02420a010068",
       "next": "82aaa23a-09c4-11ea-a8bb-02420a010068",
       "previous": "ac197e30-09c3-11ea-a8bb-02420a010068"
      },
      {
       "current": "82aaa0fa-09c4-11ea-a8bb-02420a010068",
       "next": "ac197b6a-09c3-11ea-a8bb-02420a010068",
       "previous": "ac197e30-09c3-11ea-a8bb-02420a010068"
      },
      {
       "current": "82aaa0fa-09c4-11ea-a8bb-02420a010068",
       "next": "ac197b6a-09c3-11ea-a8bb-02420a010068",
       "previous": "5945218a-09c5-11ea-a8bb-02420a010068"
      },
      {
       "current": "29625726-0a97-11ea-94e6-02420a010068",
       "next": "2962599c-0a97-11ea-94e6-02420a010068",
       "previous": "2962544c-0a97-11ea-94e6-02420a010068"
      }
     ],
     "next": "5480fafe-0c16-11ea-9e29-02420a010068",
     "previous": "5480f838-0c16-11ea-9e29-02420a010068"
    }
   },
   "source": [
    "以下のセルを評価し、$fib(35)$の実行時間を測定しなさい"
   ]
  },
  {
   "cell_type": "code",
   "execution_count": null,
   "metadata": {
    "lc_cell_meme": {
     "current": "5480fafe-0c16-11ea-9e29-02420a010068",
     "history": [
      {
       "current": "ac197b6a-09c3-11ea-a8bb-02420a010068",
       "next": "ac197e30-09c3-11ea-a8bb-02420a010068",
       "previous": "4ae257ca-f3c2-11e9-a610-02420a010068"
      },
      {
       "current": "ac197b6a-09c3-11ea-a8bb-02420a010068",
       "next": "82aaa23a-09c4-11ea-a8bb-02420a010068",
       "previous": "82aaa0fa-09c4-11ea-a8bb-02420a010068"
      },
      {
       "current": "ac197b6a-09c3-11ea-a8bb-02420a010068",
       "next": "11c154fa-09c5-11ea-a8bb-02420a010068",
       "previous": "82aaa0fa-09c4-11ea-a8bb-02420a010068"
      },
      {
       "current": "2962599c-0a97-11ea-94e6-02420a010068",
       "next": "29625c12-0a97-11ea-94e6-02420a010068",
       "previous": "29625726-0a97-11ea-94e6-02420a010068"
      }
     ],
     "next": "5480fc48-0c16-11ea-9e29-02420a010068",
     "previous": "5480f9b4-0c16-11ea-9e29-02420a010068"
    },
    "lc_wrapper": {
     "log_history": [
      "/home/14999410x94c69e/08a/.log/20191118/20191118-143651-0788.log",
      "/home/14999410x94c69e/08a/.log/20191118/20191118-143705-0116.log",
      "/home/14999410x94c69e/08a/.log/20191118/20191118-143708-0452.log",
      "/home/14999410x94c69e/08a/.log/20191118/20191118-143714-0513.log",
      "/home/14999410x94c69e/08a/.log/20191118/20191118-143751-0479.log",
      "/home/14999410x94c69e/08a/.log/20191118/20191118-143804-0913.log",
      "/home/14999410x94c69e/08a/.log/20191118/20191118-143844-0008.log",
      "/home/14999410x94c69e/08a/.log/20191118/20191118-143920-0065.log",
      "/home/14999410x94c69e/08a/.log/20191118/20191118-143932-0154.log"
     ]
    }
   },
   "outputs": [],
   "source": [
    "# 演習用入力欄（そのまま評価）\n",
    "\n",
    "%time\n",
    "fib(35)"
   ]
  },
  {
   "cell_type": "markdown",
   "metadata": {
    "lc_cell_meme": {
     "current": "5480fc48-0c16-11ea-9e29-02420a010068",
     "history": [
      {
       "current": "11c154fa-09c5-11ea-a8bb-02420a010068",
       "next": "4ae26314-f3c2-11e9-a610-02420a010068",
       "previous": "82aaa23a-09c4-11ea-a8bb-02420a010068"
      },
      {
       "current": "11c154fa-09c5-11ea-a8bb-02420a010068",
       "next": "4ae26314-f3c2-11e9-a610-02420a010068",
       "previous": "ac197b6a-09c3-11ea-a8bb-02420a010068"
      },
      {
       "current": "29625c12-0a97-11ea-94e6-02420a010068",
       "next": "29625dd4-0a97-11ea-94e6-02420a010068",
       "previous": "2962599c-0a97-11ea-94e6-02420a010068"
      }
     ],
     "next": "5480fd92-0c16-11ea-9e29-02420a010068",
     "previous": "5480fafe-0c16-11ea-9e29-02420a010068"
    }
   },
   "source": [
    "結果が出るのに時間がかかることを確認しなさい。\n",
    "\n",
    "$9227465$になれば正解\n"
   ]
  },
  {
   "cell_type": "markdown",
   "metadata": {
    "lc_cell_meme": {
     "current": "5480fd92-0c16-11ea-9e29-02420a010068",
     "history": [
      {
       "current": "1aff667a-ef2f-11e9-a8bb-02420a010068",
       "next": "8c720b22-e012-11e9-9819-02420a01003b",
       "previous": "4060f3da-96e1-11e9-8b94-e0d55ea40caf"
      },
      {
       "current": "1aff667a-ef2f-11e9-a8bb-02420a010068",
       "next": "8c720b22-e012-11e9-9819-02420a01003b",
       "previous": "f8286684-9c8f-11e9-8b94-e0d55ea40caf"
      },
      {
       "current": "4ae26314-f3c2-11e9-a610-02420a010068",
       "next": "4ae2645e-f3c2-11e9-a610-02420a010068",
       "previous": "4ae261d4-f3c2-11e9-a610-02420a010068"
      },
      {
       "current": "4ae26314-f3c2-11e9-a610-02420a010068",
       "next": "4ae2645e-f3c2-11e9-a610-02420a010068",
       "previous": "4ae26062-f3c2-11e9-a610-02420a010068"
      },
      {
       "current": "4ae26314-f3c2-11e9-a610-02420a010068",
       "next": "4ae2645e-f3c2-11e9-a610-02420a010068",
       "previous": "ac197e30-09c3-11ea-a8bb-02420a010068"
      },
      {
       "current": "4ae26314-f3c2-11e9-a610-02420a010068",
       "next": "4ae2645e-f3c2-11e9-a610-02420a010068",
       "previous": "82aaa23a-09c4-11ea-a8bb-02420a010068"
      },
      {
       "current": "4ae26314-f3c2-11e9-a610-02420a010068",
       "next": "4ae2645e-f3c2-11e9-a610-02420a010068",
       "previous": "11c154fa-09c5-11ea-a8bb-02420a010068"
      },
      {
       "current": "29625dd4-0a97-11ea-94e6-02420a010068",
       "next": "29625f78-0a97-11ea-94e6-02420a010068",
       "previous": "29625c12-0a97-11ea-94e6-02420a010068"
      }
     ],
     "next": "5480ff04-0c16-11ea-9e29-02420a010068",
     "previous": "5480fc48-0c16-11ea-9e29-02420a010068"
    }
   },
   "source": [
    "# 課題は以上です。お疲れさまでした"
   ]
  },
  {
   "cell_type": "markdown",
   "metadata": {
    "lc_cell_meme": {
     "current": "5480ff04-0c16-11ea-9e29-02420a010068",
     "history": [
      {
       "current": "8c720b22-e012-11e9-9819-02420a01003b",
       "next": "8c720ee2-e012-11e9-9819-02420a01003b",
       "previous": "4060f3da-96e1-11e9-8b94-e0d55ea40caf"
      },
      {
       "current": "8c720b22-e012-11e9-9819-02420a01003b",
       "next": "8c720ee2-e012-11e9-9819-02420a01003b",
       "previous": "1aff667a-ef2f-11e9-a8bb-02420a010068"
      },
      {
       "current": "4ae2645e-f3c2-11e9-a610-02420a010068",
       "next": "4ae2659e-f3c2-11e9-a610-02420a010068",
       "previous": "4ae26314-f3c2-11e9-a610-02420a010068"
      },
      {
       "current": "29625f78-0a97-11ea-94e6-02420a010068",
       "next": "2962611c-0a97-11ea-94e6-02420a010068",
       "previous": "29625dd4-0a97-11ea-94e6-02420a010068"
      }
     ],
     "next": "5481004e-0c16-11ea-9e29-02420a010068",
     "previous": "5480fd92-0c16-11ea-9e29-02420a010068"
    }
   },
   "source": [
    "## 評価結果"
   ]
  },
  {
   "cell_type": "code",
   "execution_count": null,
   "metadata": {
    "lc_cell_meme": {
     "current": "5481004e-0c16-11ea-9e29-02420a010068",
     "history": [
      {
       "current": "8c720ee2-e012-11e9-9819-02420a01003b",
       "next": "8c721022-e012-11e9-9819-02420a01003b",
       "previous": "8c720b22-e012-11e9-9819-02420a01003b"
      },
      {
       "current": "4ae2659e-f3c2-11e9-a610-02420a010068",
       "next": "4ae266e8-f3c2-11e9-a610-02420a010068",
       "previous": "4ae2645e-f3c2-11e9-a610-02420a010068"
      },
      {
       "current": "2962611c-0a97-11ea-94e6-02420a010068",
       "next": "296262c0-0a97-11ea-94e6-02420a010068",
       "previous": "29625f78-0a97-11ea-94e6-02420a010068"
      }
     ],
     "next": "5481018e-0c16-11ea-9e29-02420a010068",
     "previous": "5480ff04-0c16-11ea-9e29-02420a010068"
    }
   },
   "outputs": [],
   "source": []
  },
  {
   "cell_type": "markdown",
   "metadata": {
    "lc_cell_meme": {
     "current": "5481018e-0c16-11ea-9e29-02420a010068",
     "history": [
      {
       "current": "8c721022-e012-11e9-9819-02420a01003b",
       "next": "8c721130-e012-11e9-9819-02420a01003b",
       "previous": "8c720ee2-e012-11e9-9819-02420a01003b"
      },
      {
       "current": "4ae266e8-f3c2-11e9-a610-02420a010068",
       "next": "4ae2685a-f3c2-11e9-a610-02420a010068",
       "previous": "4ae2659e-f3c2-11e9-a610-02420a010068"
      },
      {
       "current": "296262c0-0a97-11ea-94e6-02420a010068",
       "next": "29626464-0a97-11ea-94e6-02420a010068",
       "previous": "2962611c-0a97-11ea-94e6-02420a010068"
      }
     ],
     "next": "548102d8-0c16-11ea-9e29-02420a010068",
     "previous": "5481004e-0c16-11ea-9e29-02420a010068"
    }
   },
   "source": [
    "## コメント等"
   ]
  },
  {
   "cell_type": "code",
   "execution_count": null,
   "metadata": {
    "lc_cell_meme": {
     "current": "548102d8-0c16-11ea-9e29-02420a010068",
     "history": [
      {
       "current": "8c721130-e012-11e9-9819-02420a01003b",
       "next": "4060f3db-96e1-11e9-8b94-e0d55ea40caf",
       "previous": "8c721022-e012-11e9-9819-02420a01003b"
      },
      {
       "current": "4ae2685a-f3c2-11e9-a610-02420a010068",
       "next": "4ae2699a-f3c2-11e9-a610-02420a010068",
       "previous": "4ae266e8-f3c2-11e9-a610-02420a010068"
      },
      {
       "current": "29626464-0a97-11ea-94e6-02420a010068",
       "next": "29626612-0a97-11ea-94e6-02420a010068",
       "previous": "296262c0-0a97-11ea-94e6-02420a010068"
      }
     ],
     "next": "54810422-0c16-11ea-9e29-02420a010068",
     "previous": "5481018e-0c16-11ea-9e29-02420a010068"
    }
   },
   "outputs": [],
   "source": []
  },
  {
   "cell_type": "markdown",
   "metadata": {
    "lc_cell_meme": {
     "current": "54810422-0c16-11ea-9e29-02420a010068",
     "history": [
      {
       "current": "4060f3db-96e1-11e9-8b94-e0d55ea40caf",
       "next": null,
       "previous": "4060f3da-96e1-11e9-8b94-e0d55ea40caf"
      },
      {
       "current": "4060f3db-96e1-11e9-8b94-e0d55ea40caf",
       "next": null,
       "previous": "8c721130-e012-11e9-9819-02420a01003b"
      },
      {
       "current": "4ae2699a-f3c2-11e9-a610-02420a010068",
       "next": null,
       "previous": "4ae2685a-f3c2-11e9-a610-02420a010068"
      },
      {
       "current": "29626612-0a97-11ea-94e6-02420a010068",
       "next": null,
       "previous": "29626464-0a97-11ea-94e6-02420a010068"
      }
     ],
     "next": null,
     "previous": "548102d8-0c16-11ea-9e29-02420a010068"
    }
   },
   "source": []
  }
 ],
 "metadata": {
  "kernelspec": {
   "display_name": "Python 3",
   "language": "python",
   "name": "python3"
  },
  "language_info": {
   "file_extension": ".py",
   "mimetype": "text/x-python",
   "name": "python",
   "nbconvert_exporter": "python",
   "pygments_lexer": "ipython3",
   "version": "3.7.3"
  },
  "lc_notebook_meme": {
   "current": "5480d5a6-0c16-11ea-9e29-02420a010068",
   "history": [
    "efa662f6-96de-11e9-8b94-e0d55ea40caf",
    "4ae243e8-f3c2-11e9-a610-02420a010068",
    "29621fa4-0a97-11ea-94e6-02420a010068"
   ],
   "lc_server_signature": {
    "current": {
     "notebook_dir": "/home/14999410x94c69e",
     "notebook_path": "/08",
     "server_url": "https://nb06.ecloud.nii.ac.jp/user/14999410x94c69e/",
     "signature_id": "360553ae-df66-11e9-8262-02420a010037"
    },
    "history": [
     {
      "notebook_dir": "/home/kuwata/notebooks",
      "notebook_path": "/",
      "server_url": "http://157.19.141.8:8000/user/kuwata/",
      "signature_id": "d0abe7ae-153d-11e9-9674-e0d55ea40caf"
     },
     {
      "notebook_dir": "/home/14999410x94c69e",
      "notebook_path": "/",
      "server_url": "https://nb06.ecloud.nii.ac.jp/user/14999410x94c69e/",
      "signature_id": "360553ae-df66-11e9-8262-02420a010037"
     },
     {
      "notebook_dir": "/home/14999410x94c69e",
      "notebook_path": "/04a",
      "server_url": "https://nb06.ecloud.nii.ac.jp/user/14999410x94c69e/",
      "signature_id": "360553ae-df66-11e9-8262-02420a010037"
     },
     {
      "notebook_dir": "/home/14999410x94c69e",
      "notebook_path": "/04",
      "server_url": "https://nb06.ecloud.nii.ac.jp/user/14999410x94c69e/",
      "signature_id": "360553ae-df66-11e9-8262-02420a010037"
     },
     {
      "notebook_dir": "/home/10999408x8b656d",
      "notebook_path": "/",
      "server_url": "https://nb06.ecloud.nii.ac.jp/user/10999408x8b656d/",
      "signature_id": "d393819a-dea3-11e9-afca-02420a010023"
     },
     {
      "notebook_dir": "/home/14999410x94c69e",
      "notebook_path": "/08a",
      "server_url": "https://nb06.ecloud.nii.ac.jp/user/14999410x94c69e/",
      "signature_id": "360553ae-df66-11e9-8262-02420a010037"
     }
    ]
   },
   "root_cells": [
    "5480dc22-0c16-11ea-9e29-02420a010068",
    "5480de3e-0c16-11ea-9e29-02420a010068",
    "5480dfec-0c16-11ea-9e29-02420a010068",
    "5480e186-0c16-11ea-9e29-02420a010068",
    "5480e2da-0c16-11ea-9e29-02420a010068",
    "5480e488-0c16-11ea-9e29-02420a010068",
    "5480e60e-0c16-11ea-9e29-02420a010068",
    "5480e780-0c16-11ea-9e29-02420a010068",
    "5480e8ca-0c16-11ea-9e29-02420a010068",
    "5480ea64-0c16-11ea-9e29-02420a010068",
    "5480ecee-0c16-11ea-9e29-02420a010068",
    "5480eed8-0c16-11ea-9e29-02420a010068",
    "5480f054-0c16-11ea-9e29-02420a010068",
    "5480f1c6-0c16-11ea-9e29-02420a010068",
    "5480f450-0c16-11ea-9e29-02420a010068",
    "5480f5ae-0c16-11ea-9e29-02420a010068",
    "5480f6f8-0c16-11ea-9e29-02420a010068",
    "5480f838-0c16-11ea-9e29-02420a010068",
    "5480f9b4-0c16-11ea-9e29-02420a010068",
    "5480fafe-0c16-11ea-9e29-02420a010068",
    "5480fc48-0c16-11ea-9e29-02420a010068",
    "5480fd92-0c16-11ea-9e29-02420a010068",
    "5480ff04-0c16-11ea-9e29-02420a010068",
    "5481004e-0c16-11ea-9e29-02420a010068",
    "5481018e-0c16-11ea-9e29-02420a010068",
    "548102d8-0c16-11ea-9e29-02420a010068",
    "54810422-0c16-11ea-9e29-02420a010068"
   ]
  },
  "toc": {
   "base_numbering": 1,
   "nav_menu": {},
   "number_sections": true,
   "sideBar": true,
   "skip_h1_title": false,
   "title_cell": "Table of Contents",
   "title_sidebar": "Contents",
   "toc_cell": false,
   "toc_position": {},
   "toc_section_display": true,
   "toc_window_display": false
  }
 },
 "nbformat": 4,
 "nbformat_minor": 2
}
