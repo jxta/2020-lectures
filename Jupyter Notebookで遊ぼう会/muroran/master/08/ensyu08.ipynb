{
 "cells": [
  {
   "cell_type": "markdown",
   "metadata": {
    "lc_cell_meme": {
     "current": "5b2b0d7c-0c16-11ea-aa17-02420a010068",
     "history": [
      {
       "current": "964ddd46-f143-11e9-a8bb-02420a010068",
       "next": "964ddee0-f143-11e9-a8bb-02420a010068",
       "previous": null
      },
      {
       "current": "1d09eb42-0a97-11ea-896e-02420a010068",
       "next": "1d09ee3a-0a97-11ea-896e-02420a010068",
       "previous": null
      }
     ],
     "next": "5b2b104c-0c16-11ea-aa17-02420a010068",
     "previous": null
    }
   },
   "source": [
    "# プログラミング入門\n",
    "## 第8回　総合演習（2）"
   ]
  },
  {
   "cell_type": "markdown",
   "metadata": {
    "lc_cell_meme": {
     "current": "5b2b104c-0c16-11ea-aa17-02420a010068",
     "history": [
      {
       "current": "964ddee0-f143-11e9-a8bb-02420a010068",
       "next": null,
       "previous": "964ddd46-f143-11e9-a8bb-02420a010068"
      },
      {
       "current": "964ddee0-f143-11e9-a8bb-02420a010068",
       "next": "c4df73c2-f143-11e9-a8bb-02420a010068",
       "previous": "964ddd46-f143-11e9-a8bb-02420a010068"
      },
      {
       "current": "1d09ee3a-0a97-11ea-896e-02420a010068",
       "next": "1d09eff2-0a97-11ea-896e-02420a010068",
       "previous": "1d09eb42-0a97-11ea-896e-02420a010068"
      }
     ],
     "next": "5b2b11fa-0c16-11ea-aa17-02420a010068",
     "previous": "5b2b0d7c-0c16-11ea-aa17-02420a010068"
    }
   },
   "source": [
    "次のセルに、自分の名前と学籍番号を記入して下さい。"
   ]
  },
  {
   "cell_type": "markdown",
   "metadata": {
    "lc_cell_meme": {
     "current": "5b2b11fa-0c16-11ea-aa17-02420a010068",
     "history": [
      {
       "current": "c4df73c2-f143-11e9-a8bb-02420a010068",
       "next": "c4df7660-f143-11e9-a8bb-02420a010068",
       "previous": "964ddee0-f143-11e9-a8bb-02420a010068"
      },
      {
       "current": "1d09eff2-0a97-11ea-896e-02420a010068",
       "next": "1d09f182-0a97-11ea-896e-02420a010068",
       "previous": "1d09ee3a-0a97-11ea-896e-02420a010068"
      }
     ],
     "next": "5b2b1380-0c16-11ea-aa17-02420a010068",
     "previous": "5b2b104c-0c16-11ea-aa17-02420a010068"
    }
   },
   "source": [
    "学籍番号：　　　　　　　　　　　氏名："
   ]
  },
  {
   "cell_type": "markdown",
   "metadata": {
    "lc_cell_meme": {
     "current": "5b2b1380-0c16-11ea-aa17-02420a010068",
     "history": [
      {
       "current": "c4df7660-f143-11e9-a8bb-02420a010068",
       "next": null,
       "previous": "c4df73c2-f143-11e9-a8bb-02420a010068"
      },
      {
       "current": "c4df7660-f143-11e9-a8bb-02420a010068",
       "next": "0c6cad18-f144-11e9-a8bb-02420a010068",
       "previous": "c4df73c2-f143-11e9-a8bb-02420a010068"
      },
      {
       "current": "1d09f182-0a97-11ea-896e-02420a010068",
       "next": "1d09f308-0a97-11ea-896e-02420a010068",
       "previous": "1d09eff2-0a97-11ea-896e-02420a010068"
      }
     ],
     "next": "5b2b1506-0c16-11ea-aa17-02420a010068",
     "previous": "5b2b11fa-0c16-11ea-aa17-02420a010068"
    }
   },
   "source": [
    "【進め方の注意】\n",
    "\n",
    "- 文書を読んで、手順に沿って問いに答えながら進めて下さい。\n",
    "- 最後まで問題を解いて、ファイルを保存して下さい。\n",
    "- 途中わからないことがあれば、教員またはTAに質問して下さい。"
   ]
  },
  {
   "cell_type": "markdown",
   "metadata": {
    "lc_cell_meme": {
     "current": "5b2b1506-0c16-11ea-aa17-02420a010068",
     "history": [
      {
       "current": "0c6cad18-f144-11e9-a8bb-02420a010068",
       "next": "0c6caf52-f144-11e9-a8bb-02420a010068",
       "previous": "c4df7660-f143-11e9-a8bb-02420a010068"
      },
      {
       "current": "0c6cad18-f144-11e9-a8bb-02420a010068",
       "next": "53eef7fe-f144-11e9-a8bb-02420a010068",
       "previous": "c4df7660-f143-11e9-a8bb-02420a010068"
      },
      {
       "current": "0c6cad18-f144-11e9-a8bb-02420a010068",
       "next": "9b752f3a-f144-11e9-a8bb-02420a010068",
       "previous": "c4df7660-f143-11e9-a8bb-02420a010068"
      },
      {
       "current": "1d09f308-0a97-11ea-896e-02420a010068",
       "next": "1d09f4d4-0a97-11ea-896e-02420a010068",
       "previous": "1d09f182-0a97-11ea-896e-02420a010068"
      }
     ],
     "next": "5b2b165a-0c16-11ea-aa17-02420a010068",
     "previous": "5b2b1380-0c16-11ea-aa17-02420a010068"
    }
   },
   "source": [
    "# データ型"
   ]
  },
  {
   "cell_type": "markdown",
   "metadata": {
    "lc_cell_meme": {
     "current": "5b2b165a-0c16-11ea-aa17-02420a010068",
     "history": [
      {
       "current": "9b752f3a-f144-11e9-a8bb-02420a010068",
       "next": "9b753200-f144-11e9-a8bb-02420a010068",
       "previous": "0c6cad18-f144-11e9-a8bb-02420a010068"
      },
      {
       "current": "9b752f3a-f144-11e9-a8bb-02420a010068",
       "next": "e305d6e2-f144-11e9-a8bb-02420a010068",
       "previous": "0c6cad18-f144-11e9-a8bb-02420a010068"
      },
      {
       "current": "9b752f3a-f144-11e9-a8bb-02420a010068",
       "next": "9b752f3a-f144-11e9-a8bb-02420a010068",
       "previous": "0c6cad18-f144-11e9-a8bb-02420a010068"
      },
      {
       "current": "1d09f4d4-0a97-11ea-896e-02420a010068",
       "next": "1d09f6a0-0a97-11ea-896e-02420a010068",
       "previous": "1d09f308-0a97-11ea-896e-02420a010068"
      }
     ],
     "next": "5b2b17cc-0c16-11ea-aa17-02420a010068",
     "previous": "5b2b1506-0c16-11ea-aa17-02420a010068"
    }
   },
   "source": [
    "## リスト"
   ]
  },
  {
   "cell_type": "markdown",
   "metadata": {
    "lc_cell_meme": {
     "current": "5b2b17cc-0c16-11ea-aa17-02420a010068",
     "history": [
      {
       "current": "9b752f3a-f144-11e9-a8bb-02420a010068",
       "next": "9b753200-f144-11e9-a8bb-02420a010068",
       "previous": "0c6cad18-f144-11e9-a8bb-02420a010068"
      },
      {
       "current": "9b752f3a-f144-11e9-a8bb-02420a010068",
       "next": "e305d6e2-f144-11e9-a8bb-02420a010068",
       "previous": "0c6cad18-f144-11e9-a8bb-02420a010068"
      },
      {
       "current": "9b752f3a-f144-11e9-a8bb-02420a010068",
       "next": "e305d6e2-f144-11e9-a8bb-02420a010068",
       "previous": "9b752f3a-f144-11e9-a8bb-02420a010068"
      },
      {
       "current": "9b752f3a-f144-11e9-a8bb-02420a010068",
       "next": "d8f12422-06b6-11ea-a8bb-02420a010068",
       "previous": "9b752f3a-f144-11e9-a8bb-02420a010068"
      },
      {
       "current": "1d09f6a0-0a97-11ea-896e-02420a010068",
       "next": "1d09f7ea-0a97-11ea-896e-02420a010068",
       "previous": "1d09f4d4-0a97-11ea-896e-02420a010068"
      }
     ],
     "next": "5b2b1970-0c16-11ea-aa17-02420a010068",
     "previous": "5b2b165a-0c16-11ea-aa17-02420a010068"
    }
   },
   "source": [
    "### リストの作成（教科書P50）"
   ]
  },
  {
   "cell_type": "markdown",
   "metadata": {
    "lc_cell_meme": {
     "current": "5b2b1970-0c16-11ea-aa17-02420a010068",
     "history": [
      {
       "current": "d8f12422-06b6-11ea-a8bb-02420a010068",
       "next": "d8f1281e-06b6-11ea-a8bb-02420a010068",
       "previous": "9b752f3a-f144-11e9-a8bb-02420a010068"
      },
      {
       "current": "1d09f7ea-0a97-11ea-896e-02420a010068",
       "next": "1d09f934-0a97-11ea-896e-02420a010068",
       "previous": "1d09f6a0-0a97-11ea-896e-02420a010068"
      }
     ],
     "next": "5b2b1aba-0c16-11ea-aa17-02420a010068",
     "previous": "5b2b17cc-0c16-11ea-aa17-02420a010068"
    }
   },
   "source": [
    "○演習：\n",
    "\n",
    "1 次のセルで、 以下の7個の要素を持つ、曜日のリスト$week$を作成しなさい。\n",
    "\n",
    "\n",
    "   ['Sun', 'Mon', 'Tue', 'Wed', 'Thu', 'Fri', 'Sat']\n",
    "\n",
    "\n",
    "2 同じセルで$week$を評価しなさい。"
   ]
  },
  {
   "cell_type": "code",
   "execution_count": 4,
   "metadata": {
    "lc_cell_meme": {
     "current": "5b2b1aba-0c16-11ea-aa17-02420a010068",
     "execution_end_time": "2019-11-27T02:03:23.831412Z",
     "history": [
      {
       "current": "d8f1281e-06b6-11ea-a8bb-02420a010068",
       "next": "d8f12968-06b6-11ea-a8bb-02420a010068",
       "previous": "d8f12422-06b6-11ea-a8bb-02420a010068"
      },
      {
       "current": "1d09f934-0a97-11ea-896e-02420a010068",
       "next": "1d09fa7e-0a97-11ea-896e-02420a010068",
       "previous": "1d09f7ea-0a97-11ea-896e-02420a010068"
      },
      {
       "current": "1d09f934-0a97-11ea-896e-02420a010068",
       "next": "1d09fbf0-0a97-11ea-896e-02420a010068",
       "previous": "1d09f7ea-0a97-11ea-896e-02420a010068"
      }
     ],
     "next": "5b2b1c04-0c16-11ea-aa17-02420a010068",
     "previous": "5b2b1970-0c16-11ea-aa17-02420a010068"
    },
    "lc_wrapper": {
     "log_history": [
      "/home/14999410x94c69e/08/.log/20191127/20191127-110300-0826.log",
      "/home/14999410x94c69e/08/.log/20191127/20191127-110323-0820.log"
     ]
    }
   },
   "outputs": [
    {
     "data": {
      "text/plain": [
       "['Sun', 'Mon', 'Tue', 'Wed', 'Thu', 'Fri', 'Sat']"
      ]
     },
     "execution_count": 4,
     "metadata": {},
     "output_type": "execute_result"
    }
   ],
   "source": [
    "# 演習用入力欄(そのまま評価すること)\n",
    "week = ['Sun', 'Mon', 'Tue', 'Wed', 'Thu', 'Fri', 'Sat']\n",
    "week"
   ]
  },
  {
   "cell_type": "markdown",
   "metadata": {
    "lc_cell_meme": {
     "current": "5b2b1c04-0c16-11ea-aa17-02420a010068",
     "history": [
      {
       "current": "20715b6e-06b7-11ea-a8bb-02420a010068",
       "next": "9b753200-f144-11e9-a8bb-02420a010068",
       "previous": "d8f12968-06b6-11ea-a8bb-02420a010068"
      },
      {
       "current": "1d09fbf0-0a97-11ea-896e-02420a010068",
       "next": "1d09fd62-0a97-11ea-896e-02420a010068",
       "previous": "1d09fa7e-0a97-11ea-896e-02420a010068"
      },
      {
       "current": "1d09fbf0-0a97-11ea-896e-02420a010068",
       "next": "1d09fd62-0a97-11ea-896e-02420a010068",
       "previous": "1d09f934-0a97-11ea-896e-02420a010068"
      }
     ],
     "next": "5b2b1d58-0c16-11ea-aa17-02420a010068",
     "previous": "5b2b1aba-0c16-11ea-aa17-02420a010068"
    }
   },
   "source": [
    "ヒント：以下が返されます。\n",
    "\n",
    "['Sun', 'Mon', 'Tue', 'Wed', 'Thu', 'Fri', 'Sat']"
   ]
  },
  {
   "cell_type": "markdown",
   "metadata": {
    "lc_cell_meme": {
     "current": "5b2b1d58-0c16-11ea-aa17-02420a010068",
     "history": [
      {
       "current": "9b753200-f144-11e9-a8bb-02420a010068",
       "next": "53eef7fe-f144-11e9-a8bb-02420a010068",
       "previous": "9b752f3a-f144-11e9-a8bb-02420a010068"
      },
      {
       "current": "9b753200-f144-11e9-a8bb-02420a010068",
       "next": "53eef7fe-f144-11e9-a8bb-02420a010068",
       "previous": "e305da02-f144-11e9-a8bb-02420a010068"
      },
      {
       "current": "9b753200-f144-11e9-a8bb-02420a010068",
       "next": "53eef7fe-f144-11e9-a8bb-02420a010068",
       "previous": "73647cfa-f3c7-11e9-a8bb-02420a010068"
      },
      {
       "current": "9b753200-f144-11e9-a8bb-02420a010068",
       "next": "53eef7fe-f144-11e9-a8bb-02420a010068",
       "previous": "20715b6e-06b7-11ea-a8bb-02420a010068"
      },
      {
       "current": "1d09fd62-0a97-11ea-896e-02420a010068",
       "next": "1d09feca-0a97-11ea-896e-02420a010068",
       "previous": "1d09fbf0-0a97-11ea-896e-02420a010068"
      }
     ],
     "next": "5b2b1ed4-0c16-11ea-aa17-02420a010068",
     "previous": "5b2b1c04-0c16-11ea-aa17-02420a010068"
    }
   },
   "source": [
    "### リストからの要素の取り出し（教科書P52）"
   ]
  },
  {
   "cell_type": "markdown",
   "metadata": {
    "lc_cell_meme": {
     "current": "5b2b1ed4-0c16-11ea-aa17-02420a010068",
     "history": [
      {
       "current": "53eef7fe-f144-11e9-a8bb-02420a010068",
       "next": "53eefb28-f144-11e9-a8bb-02420a010068",
       "previous": "0c6cad18-f144-11e9-a8bb-02420a010068"
      },
      {
       "current": "53eef7fe-f144-11e9-a8bb-02420a010068",
       "next": "53eefb28-f144-11e9-a8bb-02420a010068",
       "previous": "9b753200-f144-11e9-a8bb-02420a010068"
      },
      {
       "current": "53eef7fe-f144-11e9-a8bb-02420a010068",
       "next": "c11274b8-f145-11e9-a8bb-02420a010068",
       "previous": "9b753200-f144-11e9-a8bb-02420a010068"
      },
      {
       "current": "53eef7fe-f144-11e9-a8bb-02420a010068",
       "next": "73fd8214-f5e9-11e9-a8bb-02420a010068",
       "previous": "9b753200-f144-11e9-a8bb-02420a010068"
      },
      {
       "current": "1d09feca-0a97-11ea-896e-02420a010068",
       "next": "1d0a000a-0a97-11ea-896e-02420a010068",
       "previous": "1d09fd62-0a97-11ea-896e-02420a010068"
      }
     ],
     "next": "5b2b2046-0c16-11ea-aa17-02420a010068",
     "previous": "5b2b1d58-0c16-11ea-aa17-02420a010068"
    }
   },
   "source": [
    "\n",
    "○演習：for文を使い、$week$から順番に要素を取り出して表示しなさい。"
   ]
  },
  {
   "cell_type": "code",
   "execution_count": 5,
   "metadata": {
    "lc_cell_meme": {
     "current": "5b2b2046-0c16-11ea-aa17-02420a010068",
     "execution_end_time": "2019-11-27T02:03:29.055712Z",
     "history": [
      {
       "current": "73fd8214-f5e9-11e9-a8bb-02420a010068",
       "next": "c11274b8-f145-11e9-a8bb-02420a010068",
       "previous": "53eef7fe-f144-11e9-a8bb-02420a010068"
      },
      {
       "current": "1d0a000a-0a97-11ea-896e-02420a010068",
       "next": "1d0a0154-0a97-11ea-896e-02420a010068",
       "previous": "1d09feca-0a97-11ea-896e-02420a010068"
      },
      {
       "current": "1d0a000a-0a97-11ea-896e-02420a010068",
       "next": "1d0a02c6-0a97-11ea-896e-02420a010068",
       "previous": "1d09feca-0a97-11ea-896e-02420a010068"
      }
     ],
     "next": "5b2b21cc-0c16-11ea-aa17-02420a010068",
     "previous": "5b2b1ed4-0c16-11ea-aa17-02420a010068"
    },
    "lc_wrapper": {
     "log_history": [
      "/home/14999410x94c69e/08/.log/20191127/20191127-110305-0740.log",
      "/home/14999410x94c69e/08/.log/20191127/20191127-110317-0979.log",
      "/home/14999410x94c69e/08/.log/20191127/20191127-110329-0044.log"
     ]
    }
   },
   "outputs": [
    {
     "name": "stdout",
     "output_type": "stream",
     "text": [
      "Sun\n",
      "Mon\n",
      "Tue\n",
      "Wed\n",
      "Thu\n",
      "Fri\n",
      "Sat\n"
     ]
    },
    {
     "data": {
      "text/plain": [
       "'Sat'"
      ]
     },
     "execution_count": 5,
     "metadata": {},
     "output_type": "execute_result"
    }
   ],
   "source": [
    "# 演習用入力欄\n",
    "for week in week:\n",
    "    print (week)\n",
    "week"
   ]
  },
  {
   "cell_type": "markdown",
   "metadata": {
    "lc_cell_meme": {
     "current": "5b2b21cc-0c16-11ea-aa17-02420a010068",
     "history": [
      {
       "current": "53eefb28-f144-11e9-a8bb-02420a010068",
       "next": "53eefc90-f144-11e9-a8bb-02420a010068",
       "previous": "53eef7fe-f144-11e9-a8bb-02420a010068"
      },
      {
       "current": "53eefb28-f144-11e9-a8bb-02420a010068",
       "next": "9b75334a-f144-11e9-a8bb-02420a010068",
       "previous": "53eef7fe-f144-11e9-a8bb-02420a010068"
      },
      {
       "current": "53eefb28-f144-11e9-a8bb-02420a010068",
       "next": "9b75334a-f144-11e9-a8bb-02420a010068",
       "previous": "c11274b8-f145-11e9-a8bb-02420a010068"
      },
      {
       "current": "53eefb28-f144-11e9-a8bb-02420a010068",
       "next": "9b753200-f144-11e9-a8bb-02420a010068",
       "previous": "c11274b8-f145-11e9-a8bb-02420a010068"
      },
      {
       "current": "1d0a02c6-0a97-11ea-896e-02420a010068",
       "next": "1d0a044c-0a97-11ea-896e-02420a010068",
       "previous": "1d0a0154-0a97-11ea-896e-02420a010068"
      },
      {
       "current": "1d0a02c6-0a97-11ea-896e-02420a010068",
       "next": "1d0a044c-0a97-11ea-896e-02420a010068",
       "previous": "1d0a000a-0a97-11ea-896e-02420a010068"
      }
     ],
     "next": "5b2b233e-0c16-11ea-aa17-02420a010068",
     "previous": "5b2b2046-0c16-11ea-aa17-02420a010068"
    }
   },
   "source": [
    "ヒント：以下が表示されれば正解\n",
    "\n",
    "Sun<BR>\n",
    "Mon<BR>\n",
    "Tue<BR>\n",
    "Wed<BR>\n",
    "Thu<BR>\n",
    "Fri<BR>\n",
    "Sat<BR>"
   ]
  },
  {
   "cell_type": "markdown",
   "metadata": {
    "lc_cell_meme": {
     "current": "5b2b233e-0c16-11ea-aa17-02420a010068",
     "history": [
      {
       "current": "9b753200-f144-11e9-a8bb-02420a010068",
       "next": "53eef7fe-f144-11e9-a8bb-02420a010068",
       "previous": "9b752f3a-f144-11e9-a8bb-02420a010068"
      },
      {
       "current": "9b753200-f144-11e9-a8bb-02420a010068",
       "next": "53eef7fe-f144-11e9-a8bb-02420a010068",
       "previous": "e305da02-f144-11e9-a8bb-02420a010068"
      },
      {
       "current": "9b753200-f144-11e9-a8bb-02420a010068",
       "next": "53eef7fe-f144-11e9-a8bb-02420a010068",
       "previous": "73647cfa-f3c7-11e9-a8bb-02420a010068"
      },
      {
       "current": "9b753200-f144-11e9-a8bb-02420a010068",
       "next": "e305d6e2-f144-11e9-a8bb-02420a010068",
       "previous": "bae43ef8-f3c7-11e9-a8bb-02420a010068"
      },
      {
       "current": "9b753200-f144-11e9-a8bb-02420a010068",
       "next": "e305d6e2-f144-11e9-a8bb-02420a010068",
       "previous": "bae43db8-f3c7-11e9-a8bb-02420a010068"
      },
      {
       "current": "9b753200-f144-11e9-a8bb-02420a010068",
       "next": "e305d6e2-f144-11e9-a8bb-02420a010068",
       "previous": "d8f12968-06b6-11ea-a8bb-02420a010068"
      },
      {
       "current": "9b753200-f144-11e9-a8bb-02420a010068",
       "next": "e305d6e2-f144-11e9-a8bb-02420a010068",
       "previous": "20715b6e-06b7-11ea-a8bb-02420a010068"
      },
      {
       "current": "9b753200-f144-11e9-a8bb-02420a010068",
       "next": "e305d6e2-f144-11e9-a8bb-02420a010068",
       "previous": "53eefb28-f144-11e9-a8bb-02420a010068"
      },
      {
       "current": "1d0a044c-0a97-11ea-896e-02420a010068",
       "next": "1d0a05b4-0a97-11ea-896e-02420a010068",
       "previous": "1d0a02c6-0a97-11ea-896e-02420a010068"
      }
     ],
     "next": "5b2b24c4-0c16-11ea-aa17-02420a010068",
     "previous": "5b2b21cc-0c16-11ea-aa17-02420a010068"
    }
   },
   "source": [
    "### リストへの要素の変更（教科書P53）"
   ]
  },
  {
   "cell_type": "markdown",
   "metadata": {
    "lc_cell_meme": {
     "current": "5b2b24c4-0c16-11ea-aa17-02420a010068",
     "execution_end_time": "2019-10-18T01:16:45.811366Z",
     "history": [
      {
       "current": "e305d6e2-f144-11e9-a8bb-02420a010068",
       "next": "e305da02-f144-11e9-a8bb-02420a010068",
       "previous": "9b752f3a-f144-11e9-a8bb-02420a010068"
      },
      {
       "current": "e305d6e2-f144-11e9-a8bb-02420a010068",
       "next": "e305da02-f144-11e9-a8bb-02420a010068",
       "previous": "9b753200-f144-11e9-a8bb-02420a010068"
      },
      {
       "current": "e305d6e2-f144-11e9-a8bb-02420a010068",
       "next": "73fd80d4-f5e9-11e9-a8bb-02420a010068",
       "previous": "9b753200-f144-11e9-a8bb-02420a010068"
      },
      {
       "current": "1d0a05b4-0a97-11ea-896e-02420a010068",
       "next": "1d0a06f4-0a97-11ea-896e-02420a010068",
       "previous": "1d0a044c-0a97-11ea-896e-02420a010068"
      }
     ],
     "next": "5b2b260e-0c16-11ea-aa17-02420a010068",
     "previous": "5b2b233e-0c16-11ea-aa17-02420a010068"
    },
    "lc_wrapper": {
     "log_history": [
      "/home/14999410x94c69e/05a/.log/20191018/20191018-101645-0786.log"
     ]
    }
   },
   "source": [
    "○演習：次のセルで、$week$の最初の要素を$'Mon'$に書き換えなさい。\n",
    "\n",
    "同じセルで$week$を評価して内容を確認しなさい。"
   ]
  },
  {
   "cell_type": "code",
   "execution_count": null,
   "metadata": {
    "lc_cell_meme": {
     "current": "5b2b260e-0c16-11ea-aa17-02420a010068",
     "history": [
      {
       "current": "73fd80d4-f5e9-11e9-a8bb-02420a010068",
       "next": "e305da02-f144-11e9-a8bb-02420a010068",
       "previous": "e305d6e2-f144-11e9-a8bb-02420a010068"
      },
      {
       "current": "1d0a06f4-0a97-11ea-896e-02420a010068",
       "next": "1d0a0866-0a97-11ea-896e-02420a010068",
       "previous": "1d0a05b4-0a97-11ea-896e-02420a010068"
      },
      {
       "current": "1d0a06f4-0a97-11ea-896e-02420a010068",
       "next": "1d0a09e2-0a97-11ea-896e-02420a010068",
       "previous": "1d0a05b4-0a97-11ea-896e-02420a010068"
      }
     ],
     "next": "5b2b2794-0c16-11ea-aa17-02420a010068",
     "previous": "5b2b24c4-0c16-11ea-aa17-02420a010068"
    }
   },
   "outputs": [],
   "source": [
    "# 演習用入力欄\n"
   ]
  },
  {
   "cell_type": "markdown",
   "metadata": {
    "lc_cell_meme": {
     "current": "5b2b2794-0c16-11ea-aa17-02420a010068",
     "history": [
      {
       "current": "73647cfa-f3c7-11e9-a8bb-02420a010068",
       "next": "9b753200-f144-11e9-a8bb-02420a010068",
       "previous": "e305da02-f144-11e9-a8bb-02420a010068"
      },
      {
       "current": "1d0a09e2-0a97-11ea-896e-02420a010068",
       "next": "1d0a0b4a-0a97-11ea-896e-02420a010068",
       "previous": "1d0a0866-0a97-11ea-896e-02420a010068"
      },
      {
       "current": "1d0a09e2-0a97-11ea-896e-02420a010068",
       "next": "1d0a12a2-0a97-11ea-896e-02420a010068",
       "previous": "1d0a0866-0a97-11ea-896e-02420a010068"
      },
      {
       "current": "1d0a09e2-0a97-11ea-896e-02420a010068",
       "next": "1d0a12a2-0a97-11ea-896e-02420a010068",
       "previous": "1d0a06f4-0a97-11ea-896e-02420a010068"
      }
     ],
     "next": "5b2b2910-0c16-11ea-aa17-02420a010068",
     "previous": "5b2b260e-0c16-11ea-aa17-02420a010068"
    }
   },
   "source": [
    "ヒント\n",
    "\n",
    "['Mon', 'Mon', 'Tue', 'Wed', 'Thu', 'Fri', 'Sat']\n",
    "\n",
    "になれば正解"
   ]
  },
  {
   "cell_type": "markdown",
   "metadata": {
    "lc_cell_meme": {
     "current": "5b2b2910-0c16-11ea-aa17-02420a010068",
     "history": [
      {
       "current": "9b753200-f144-11e9-a8bb-02420a010068",
       "next": "53eef7fe-f144-11e9-a8bb-02420a010068",
       "previous": "9b752f3a-f144-11e9-a8bb-02420a010068"
      },
      {
       "current": "9b753200-f144-11e9-a8bb-02420a010068",
       "next": "53eef7fe-f144-11e9-a8bb-02420a010068",
       "previous": "e305da02-f144-11e9-a8bb-02420a010068"
      },
      {
       "current": "9b753200-f144-11e9-a8bb-02420a010068",
       "next": "53eef7fe-f144-11e9-a8bb-02420a010068",
       "previous": "73647cfa-f3c7-11e9-a8bb-02420a010068"
      },
      {
       "current": "9b753200-f144-11e9-a8bb-02420a010068",
       "next": "e305d6e2-f144-11e9-a8bb-02420a010068",
       "previous": "bae43ef8-f3c7-11e9-a8bb-02420a010068"
      },
      {
       "current": "9b753200-f144-11e9-a8bb-02420a010068",
       "next": "e305d6e2-f144-11e9-a8bb-02420a010068",
       "previous": "bae43db8-f3c7-11e9-a8bb-02420a010068"
      },
      {
       "current": "9b753200-f144-11e9-a8bb-02420a010068",
       "next": "e305d6e2-f144-11e9-a8bb-02420a010068",
       "previous": "d8f12968-06b6-11ea-a8bb-02420a010068"
      },
      {
       "current": "9b753200-f144-11e9-a8bb-02420a010068",
       "next": "e305d6e2-f144-11e9-a8bb-02420a010068",
       "previous": "20715b6e-06b7-11ea-a8bb-02420a010068"
      },
      {
       "current": "9b753200-f144-11e9-a8bb-02420a010068",
       "next": "e305d6e2-f144-11e9-a8bb-02420a010068",
       "previous": "53eefb28-f144-11e9-a8bb-02420a010068"
      },
      {
       "current": "9b753200-f144-11e9-a8bb-02420a010068",
       "next": "e305d6e2-f144-11e9-a8bb-02420a010068",
       "previous": "73647cfa-f3c7-11e9-a8bb-02420a010068"
      },
      {
       "current": "1d0a12a2-0a97-11ea-896e-02420a010068",
       "next": "1d0a1518-0a97-11ea-896e-02420a010068",
       "previous": "1d0a10f4-0a97-11ea-896e-02420a010068"
      },
      {
       "current": "1d0a12a2-0a97-11ea-896e-02420a010068",
       "next": "1d0a1518-0a97-11ea-896e-02420a010068",
       "previous": "1d0a09e2-0a97-11ea-896e-02420a010068"
      }
     ],
     "next": "5b2b2bf4-0c16-11ea-aa17-02420a010068",
     "previous": "5b2b2794-0c16-11ea-aa17-02420a010068"
    }
   },
   "source": [
    "### リストへの要素の追加（教科書P53）"
   ]
  },
  {
   "cell_type": "markdown",
   "metadata": {
    "lc_cell_meme": {
     "current": "5b2b2bf4-0c16-11ea-aa17-02420a010068",
     "execution_end_time": "2019-10-18T01:16:45.811366Z",
     "history": [
      {
       "current": "e305d6e2-f144-11e9-a8bb-02420a010068",
       "next": "e305da02-f144-11e9-a8bb-02420a010068",
       "previous": "9b752f3a-f144-11e9-a8bb-02420a010068"
      },
      {
       "current": "e305d6e2-f144-11e9-a8bb-02420a010068",
       "next": "e305da02-f144-11e9-a8bb-02420a010068",
       "previous": "9b753200-f144-11e9-a8bb-02420a010068"
      },
      {
       "current": "e305d6e2-f144-11e9-a8bb-02420a010068",
       "next": "73fd80d4-f5e9-11e9-a8bb-02420a010068",
       "previous": "9b753200-f144-11e9-a8bb-02420a010068"
      },
      {
       "current": "1d0a1518-0a97-11ea-896e-02420a010068",
       "next": "1d0a16e4-0a97-11ea-896e-02420a010068",
       "previous": "1d0a12a2-0a97-11ea-896e-02420a010068"
      }
     ],
     "next": "5b2b2dac-0c16-11ea-aa17-02420a010068",
     "previous": "5b2b2910-0c16-11ea-aa17-02420a010068"
    },
    "lc_wrapper": {
     "log_history": [
      "/home/14999410x94c69e/05a/.log/20191018/20191018-101645-0786.log"
     ]
    }
   },
   "source": [
    "○演習：次のセルで、$week$の最後に'Holiday' を追加しなさい。\n",
    "\n",
    "同じセルで$week$を評価して内容を確認しなさい。"
   ]
  },
  {
   "cell_type": "code",
   "execution_count": null,
   "metadata": {
    "lc_cell_meme": {
     "current": "5b2b2dac-0c16-11ea-aa17-02420a010068",
     "history": [
      {
       "current": "73fd80d4-f5e9-11e9-a8bb-02420a010068",
       "next": "e305da02-f144-11e9-a8bb-02420a010068",
       "previous": "e305d6e2-f144-11e9-a8bb-02420a010068"
      },
      {
       "current": "1d0a16e4-0a97-11ea-896e-02420a010068",
       "next": "1d0a182e-0a97-11ea-896e-02420a010068",
       "previous": "1d0a1518-0a97-11ea-896e-02420a010068"
      },
      {
       "current": "1d0a16e4-0a97-11ea-896e-02420a010068",
       "next": "1d0a196e-0a97-11ea-896e-02420a010068",
       "previous": "1d0a1518-0a97-11ea-896e-02420a010068"
      }
     ],
     "next": "5b2b3004-0c16-11ea-aa17-02420a010068",
     "previous": "5b2b2bf4-0c16-11ea-aa17-02420a010068"
    }
   },
   "outputs": [],
   "source": [
    "# 演習用入力欄\n"
   ]
  },
  {
   "cell_type": "markdown",
   "metadata": {
    "lc_cell_meme": {
     "current": "5b2b3004-0c16-11ea-aa17-02420a010068",
     "history": [
      {
       "current": "73647cfa-f3c7-11e9-a8bb-02420a010068",
       "next": "9b753200-f144-11e9-a8bb-02420a010068",
       "previous": "e305da02-f144-11e9-a8bb-02420a010068"
      },
      {
       "current": "1d0a196e-0a97-11ea-896e-02420a010068",
       "next": "1d0a1b44-0a97-11ea-896e-02420a010068",
       "previous": "1d0a182e-0a97-11ea-896e-02420a010068"
      },
      {
       "current": "1d0a196e-0a97-11ea-896e-02420a010068",
       "next": "1d0a1b44-0a97-11ea-896e-02420a010068",
       "previous": "1d0a16e4-0a97-11ea-896e-02420a010068"
      }
     ],
     "next": "5b2b3176-0c16-11ea-aa17-02420a010068",
     "previous": "5b2b2dac-0c16-11ea-aa17-02420a010068"
    }
   },
   "source": [
    "ヒント\n",
    "\n",
    "['Mon', 'Mon', 'Tue', 'Wed', 'Thu', 'Fri', 'Sat', 'Holiday']\n",
    "\n",
    "になれば正解"
   ]
  },
  {
   "cell_type": "markdown",
   "metadata": {
    "lc_cell_meme": {
     "current": "5b2b3176-0c16-11ea-aa17-02420a010068",
     "history": [
      {
       "current": "9b753200-f144-11e9-a8bb-02420a010068",
       "next": "53eef7fe-f144-11e9-a8bb-02420a010068",
       "previous": "9b752f3a-f144-11e9-a8bb-02420a010068"
      },
      {
       "current": "9b753200-f144-11e9-a8bb-02420a010068",
       "next": "53eef7fe-f144-11e9-a8bb-02420a010068",
       "previous": "e305da02-f144-11e9-a8bb-02420a010068"
      },
      {
       "current": "9b753200-f144-11e9-a8bb-02420a010068",
       "next": "53eef7fe-f144-11e9-a8bb-02420a010068",
       "previous": "73647cfa-f3c7-11e9-a8bb-02420a010068"
      },
      {
       "current": "9b753200-f144-11e9-a8bb-02420a010068",
       "next": "e305d6e2-f144-11e9-a8bb-02420a010068",
       "previous": "bae43ef8-f3c7-11e9-a8bb-02420a010068"
      },
      {
       "current": "9b753200-f144-11e9-a8bb-02420a010068",
       "next": "e305d6e2-f144-11e9-a8bb-02420a010068",
       "previous": "bae43db8-f3c7-11e9-a8bb-02420a010068"
      },
      {
       "current": "9b753200-f144-11e9-a8bb-02420a010068",
       "next": "e305d6e2-f144-11e9-a8bb-02420a010068",
       "previous": "d8f12968-06b6-11ea-a8bb-02420a010068"
      },
      {
       "current": "9b753200-f144-11e9-a8bb-02420a010068",
       "next": "e305d6e2-f144-11e9-a8bb-02420a010068",
       "previous": "20715b6e-06b7-11ea-a8bb-02420a010068"
      },
      {
       "current": "9b753200-f144-11e9-a8bb-02420a010068",
       "next": "e305d6e2-f144-11e9-a8bb-02420a010068",
       "previous": "73647cfa-f3c7-11e9-a8bb-02420a010068"
      },
      {
       "current": "1d0a1b44-0a97-11ea-896e-02420a010068",
       "next": "1d0a1cca-0a97-11ea-896e-02420a010068",
       "previous": "1d0a196e-0a97-11ea-896e-02420a010068"
      }
     ],
     "next": "5b2b3310-0c16-11ea-aa17-02420a010068",
     "previous": "5b2b3004-0c16-11ea-aa17-02420a010068"
    }
   },
   "source": [
    "### リストから要素の削除（教科書P53）"
   ]
  },
  {
   "cell_type": "markdown",
   "metadata": {
    "lc_cell_meme": {
     "current": "5b2b3310-0c16-11ea-aa17-02420a010068",
     "execution_end_time": "2019-10-18T01:16:45.811366Z",
     "history": [
      {
       "current": "e305d6e2-f144-11e9-a8bb-02420a010068",
       "next": "e305da02-f144-11e9-a8bb-02420a010068",
       "previous": "9b752f3a-f144-11e9-a8bb-02420a010068"
      },
      {
       "current": "e305d6e2-f144-11e9-a8bb-02420a010068",
       "next": "e305da02-f144-11e9-a8bb-02420a010068",
       "previous": "9b753200-f144-11e9-a8bb-02420a010068"
      },
      {
       "current": "e305d6e2-f144-11e9-a8bb-02420a010068",
       "next": "73fd80d4-f5e9-11e9-a8bb-02420a010068",
       "previous": "9b753200-f144-11e9-a8bb-02420a010068"
      },
      {
       "current": "1d0a1cca-0a97-11ea-896e-02420a010068",
       "next": "1d0a1e46-0a97-11ea-896e-02420a010068",
       "previous": "1d0a1b44-0a97-11ea-896e-02420a010068"
      }
     ],
     "next": "5b2b34b4-0c16-11ea-aa17-02420a010068",
     "previous": "5b2b3176-0c16-11ea-aa17-02420a010068"
    },
    "lc_wrapper": {
     "log_history": [
      "/home/14999410x94c69e/05a/.log/20191018/20191018-101645-0786.log"
     ]
    }
   },
   "source": [
    "○演習：次のセルで、$week$の3番目のセルを削除しなさい。\n",
    "\n",
    "同じセルで$week$を評価して内容を確認しなさい。"
   ]
  },
  {
   "cell_type": "code",
   "execution_count": null,
   "metadata": {
    "lc_cell_meme": {
     "current": "5b2b34b4-0c16-11ea-aa17-02420a010068",
     "history": [
      {
       "current": "73fd80d4-f5e9-11e9-a8bb-02420a010068",
       "next": "e305da02-f144-11e9-a8bb-02420a010068",
       "previous": "e305d6e2-f144-11e9-a8bb-02420a010068"
      },
      {
       "current": "1d0a1e46-0a97-11ea-896e-02420a010068",
       "next": "1d0a1fcc-0a97-11ea-896e-02420a010068",
       "previous": "1d0a1cca-0a97-11ea-896e-02420a010068"
      },
      {
       "current": "1d0a1e46-0a97-11ea-896e-02420a010068",
       "next": "1d0a2134-0a97-11ea-896e-02420a010068",
       "previous": "1d0a1cca-0a97-11ea-896e-02420a010068"
      }
     ],
     "next": "5b2b3770-0c16-11ea-aa17-02420a010068",
     "previous": "5b2b3310-0c16-11ea-aa17-02420a010068"
    }
   },
   "outputs": [],
   "source": [
    "# 演習用入力欄\n"
   ]
  },
  {
   "cell_type": "markdown",
   "metadata": {
    "lc_cell_meme": {
     "current": "5b2b3770-0c16-11ea-aa17-02420a010068",
     "history": [
      {
       "current": "73647cfa-f3c7-11e9-a8bb-02420a010068",
       "next": "9b753200-f144-11e9-a8bb-02420a010068",
       "previous": "e305da02-f144-11e9-a8bb-02420a010068"
      },
      {
       "current": "73647cfa-f3c7-11e9-a8bb-02420a010068",
       "next": "9b75334a-f144-11e9-a8bb-02420a010068",
       "previous": "e305da02-f144-11e9-a8bb-02420a010068"
      },
      {
       "current": "73647cfa-f3c7-11e9-a8bb-02420a010068",
       "next": "9b753200-f144-11e9-a8bb-02420a010068",
       "previous": "e305da02-f144-11e9-a8bb-02420a010068"
      },
      {
       "current": "1d0a2134-0a97-11ea-896e-02420a010068",
       "next": "1d0a2274-0a97-11ea-896e-02420a010068",
       "previous": "1d0a1fcc-0a97-11ea-896e-02420a010068"
      },
      {
       "current": "1d0a2134-0a97-11ea-896e-02420a010068",
       "next": "1d0a2274-0a97-11ea-896e-02420a010068",
       "previous": "1d0a1e46-0a97-11ea-896e-02420a010068"
      }
     ],
     "next": "5b2b38e2-0c16-11ea-aa17-02420a010068",
     "previous": "5b2b34b4-0c16-11ea-aa17-02420a010068"
    }
   },
   "source": [
    "ヒント\n",
    "\n",
    "要素の削除にはdel を使います。\n",
    "\n",
    "['Mon', 'Mon', 'Wed', 'Thu', 'Fri', 'Sat', 'Holiday']\n",
    "\n",
    "になれば正解"
   ]
  },
  {
   "cell_type": "markdown",
   "metadata": {
    "lc_cell_meme": {
     "current": "5b2b38e2-0c16-11ea-aa17-02420a010068",
     "history": [
      {
       "current": "9b753200-f144-11e9-a8bb-02420a010068",
       "next": "53eef7fe-f144-11e9-a8bb-02420a010068",
       "previous": "9b752f3a-f144-11e9-a8bb-02420a010068"
      },
      {
       "current": "9b753200-f144-11e9-a8bb-02420a010068",
       "next": "53eef7fe-f144-11e9-a8bb-02420a010068",
       "previous": "e305da02-f144-11e9-a8bb-02420a010068"
      },
      {
       "current": "9b753200-f144-11e9-a8bb-02420a010068",
       "next": "53eef7fe-f144-11e9-a8bb-02420a010068",
       "previous": "73647cfa-f3c7-11e9-a8bb-02420a010068"
      },
      {
       "current": "9b753200-f144-11e9-a8bb-02420a010068",
       "next": "e305d6e2-f144-11e9-a8bb-02420a010068",
       "previous": "bae43ef8-f3c7-11e9-a8bb-02420a010068"
      },
      {
       "current": "9b753200-f144-11e9-a8bb-02420a010068",
       "next": "e305d6e2-f144-11e9-a8bb-02420a010068",
       "previous": "bae43db8-f3c7-11e9-a8bb-02420a010068"
      },
      {
       "current": "9b753200-f144-11e9-a8bb-02420a010068",
       "next": "e305d6e2-f144-11e9-a8bb-02420a010068",
       "previous": "d8f12968-06b6-11ea-a8bb-02420a010068"
      },
      {
       "current": "9b753200-f144-11e9-a8bb-02420a010068",
       "next": "e305d6e2-f144-11e9-a8bb-02420a010068",
       "previous": "20715b6e-06b7-11ea-a8bb-02420a010068"
      },
      {
       "current": "9b753200-f144-11e9-a8bb-02420a010068",
       "next": "e305d6e2-f144-11e9-a8bb-02420a010068",
       "previous": "73647cfa-f3c7-11e9-a8bb-02420a010068"
      },
      {
       "current": "1d0a2274-0a97-11ea-896e-02420a010068",
       "next": "1d0a23e6-0a97-11ea-896e-02420a010068",
       "previous": "1d0a2134-0a97-11ea-896e-02420a010068"
      }
     ],
     "next": "5b2b3a54-0c16-11ea-aa17-02420a010068",
     "previous": "5b2b3770-0c16-11ea-aa17-02420a010068"
    }
   },
   "source": [
    "### リストのリストの作成（教科書P55）"
   ]
  },
  {
   "cell_type": "markdown",
   "metadata": {
    "lc_cell_meme": {
     "current": "5b2b3a54-0c16-11ea-aa17-02420a010068",
     "execution_end_time": "2019-10-18T01:16:45.811366Z",
     "history": [
      {
       "current": "e305d6e2-f144-11e9-a8bb-02420a010068",
       "next": "e305da02-f144-11e9-a8bb-02420a010068",
       "previous": "9b752f3a-f144-11e9-a8bb-02420a010068"
      },
      {
       "current": "e305d6e2-f144-11e9-a8bb-02420a010068",
       "next": "e305da02-f144-11e9-a8bb-02420a010068",
       "previous": "9b753200-f144-11e9-a8bb-02420a010068"
      },
      {
       "current": "e305d6e2-f144-11e9-a8bb-02420a010068",
       "next": "73fd80d4-f5e9-11e9-a8bb-02420a010068",
       "previous": "9b753200-f144-11e9-a8bb-02420a010068"
      },
      {
       "current": "1d0a23e6-0a97-11ea-896e-02420a010068",
       "next": "1d0a2558-0a97-11ea-896e-02420a010068",
       "previous": "1d0a2274-0a97-11ea-896e-02420a010068"
      }
     ],
     "next": "5b2b3bc6-0c16-11ea-aa17-02420a010068",
     "previous": "5b2b38e2-0c16-11ea-aa17-02420a010068"
    },
    "lc_wrapper": {
     "log_history": [
      "/home/14999410x94c69e/05a/.log/20191018/20191018-101645-0786.log"
     ]
    }
   },
   "source": [
    "○演習：次のセルで、月の名前(文字列)と日数（数字）のリストを要素とするリスト$month$を作成しなさい。\n",
    "\n",
    "| 月の名前 | 日数  |\n",
    "|------|------|\n",
    "|  Jan  | 31 |\n",
    "|  Feb  | 28 |\n",
    "|  Mar  | 31 |\n",
    "|  Apr  | 30 |\n",
    "|  May  | 31 |\n",
    "|  Jun  | 30 |\n",
    "|  Jul  | 31 |\n",
    "|  Aug  | 31 |\n",
    "|  Sep  | 30 |\n",
    "|  Oct  | 31 |\n",
    "|  Nov  | 30 |\n",
    "|  Dec  | 31 |\n",
    "\n",
    "\n",
    "同じセルで$month$を評価して内容を確認しなさい。"
   ]
  },
  {
   "cell_type": "code",
   "execution_count": null,
   "metadata": {
    "lc_cell_meme": {
     "current": "5b2b3bc6-0c16-11ea-aa17-02420a010068",
     "history": [
      {
       "current": "73fd80d4-f5e9-11e9-a8bb-02420a010068",
       "next": "e305da02-f144-11e9-a8bb-02420a010068",
       "previous": "e305d6e2-f144-11e9-a8bb-02420a010068"
      },
      {
       "current": "1d0a2558-0a97-11ea-896e-02420a010068",
       "next": "1d0a2698-0a97-11ea-896e-02420a010068",
       "previous": "1d0a23e6-0a97-11ea-896e-02420a010068"
      },
      {
       "current": "1d0a2558-0a97-11ea-896e-02420a010068",
       "next": "1d0a27e2-0a97-11ea-896e-02420a010068",
       "previous": "1d0a23e6-0a97-11ea-896e-02420a010068"
      }
     ],
     "next": "5b2b3d6a-0c16-11ea-aa17-02420a010068",
     "previous": "5b2b3a54-0c16-11ea-aa17-02420a010068"
    }
   },
   "outputs": [],
   "source": [
    "# 演習用入力欄（そのまま評価すること）\n",
    "month = [['Jan', 31], ['Feb', 28], ['Mar', 31], ['Apr', 30],['May', 31],['Jun', 30],['Jul', 31],['Aug', 31],['Sep', 30], ['Oct', 31], ['Nov', 30], ['Dec', 31]]\n",
    "month"
   ]
  },
  {
   "cell_type": "markdown",
   "metadata": {
    "lc_cell_meme": {
     "current": "5b2b3d6a-0c16-11ea-aa17-02420a010068",
     "history": [
      {
       "current": "73647cfa-f3c7-11e9-a8bb-02420a010068",
       "next": "9b753200-f144-11e9-a8bb-02420a010068",
       "previous": "e305da02-f144-11e9-a8bb-02420a010068"
      },
      {
       "current": "73647cfa-f3c7-11e9-a8bb-02420a010068",
       "next": "9b75334a-f144-11e9-a8bb-02420a010068",
       "previous": "e305da02-f144-11e9-a8bb-02420a010068"
      },
      {
       "current": "73647cfa-f3c7-11e9-a8bb-02420a010068",
       "next": "9b753200-f144-11e9-a8bb-02420a010068",
       "previous": "e305da02-f144-11e9-a8bb-02420a010068"
      },
      {
       "current": "1d0a27e2-0a97-11ea-896e-02420a010068",
       "next": "1d0a294a-0a97-11ea-896e-02420a010068",
       "previous": "1d0a2698-0a97-11ea-896e-02420a010068"
      },
      {
       "current": "1d0a27e2-0a97-11ea-896e-02420a010068",
       "next": "1d0a294a-0a97-11ea-896e-02420a010068",
       "previous": "1d0a2558-0a97-11ea-896e-02420a010068"
      }
     ],
     "next": "5b2b3eb4-0c16-11ea-aa17-02420a010068",
     "previous": "5b2b3bc6-0c16-11ea-aa17-02420a010068"
    }
   },
   "source": [
    "ヒント\n",
    "\n",
    "リストのリスト作成は、教科書P55を参照してく下さい。\n",
    "\n",
    "[['Jan', 31], <BR>\n",
    " ['Feb', 28],<BR>\n",
    " ['Mar', 31],<BR>\n",
    " ['Apr', 30],<BR>\n",
    " ['May', 31],<BR>\n",
    " ['Jun', 30],<BR>\n",
    " ['Jul', 31],<BR>\n",
    " ['Aug', 31],<BR>\n",
    " ['Sep', 30],<BR>\n",
    " ['Oct', 31],<BR>\n",
    " ['Nov', 30],<BR>\n",
    " ['Dec', 31]]<BR>\n",
    " \n",
    "になれば正解"
   ]
  },
  {
   "cell_type": "markdown",
   "metadata": {
    "lc_cell_meme": {
     "current": "5b2b3eb4-0c16-11ea-aa17-02420a010068",
     "history": [
      {
       "current": "9b753200-f144-11e9-a8bb-02420a010068",
       "next": "53eef7fe-f144-11e9-a8bb-02420a010068",
       "previous": "9b752f3a-f144-11e9-a8bb-02420a010068"
      },
      {
       "current": "9b753200-f144-11e9-a8bb-02420a010068",
       "next": "53eef7fe-f144-11e9-a8bb-02420a010068",
       "previous": "e305da02-f144-11e9-a8bb-02420a010068"
      },
      {
       "current": "9b753200-f144-11e9-a8bb-02420a010068",
       "next": "53eef7fe-f144-11e9-a8bb-02420a010068",
       "previous": "73647cfa-f3c7-11e9-a8bb-02420a010068"
      },
      {
       "current": "9b753200-f144-11e9-a8bb-02420a010068",
       "next": "e305d6e2-f144-11e9-a8bb-02420a010068",
       "previous": "bae43ef8-f3c7-11e9-a8bb-02420a010068"
      },
      {
       "current": "9b753200-f144-11e9-a8bb-02420a010068",
       "next": "e305d6e2-f144-11e9-a8bb-02420a010068",
       "previous": "bae43db8-f3c7-11e9-a8bb-02420a010068"
      },
      {
       "current": "9b753200-f144-11e9-a8bb-02420a010068",
       "next": "e305d6e2-f144-11e9-a8bb-02420a010068",
       "previous": "d8f12968-06b6-11ea-a8bb-02420a010068"
      },
      {
       "current": "9b753200-f144-11e9-a8bb-02420a010068",
       "next": "e305d6e2-f144-11e9-a8bb-02420a010068",
       "previous": "20715b6e-06b7-11ea-a8bb-02420a010068"
      },
      {
       "current": "9b753200-f144-11e9-a8bb-02420a010068",
       "next": "e305d6e2-f144-11e9-a8bb-02420a010068",
       "previous": "73647cfa-f3c7-11e9-a8bb-02420a010068"
      },
      {
       "current": "1d0a294a-0a97-11ea-896e-02420a010068",
       "next": "1d0a2ac6-0a97-11ea-896e-02420a010068",
       "previous": "1d0a27e2-0a97-11ea-896e-02420a010068"
      }
     ],
     "next": "5b2b40bc-0c16-11ea-aa17-02420a010068",
     "previous": "5b2b3d6a-0c16-11ea-aa17-02420a010068"
    }
   },
   "source": [
    "### リストのリストの表示（教科書P55）"
   ]
  },
  {
   "cell_type": "markdown",
   "metadata": {
    "lc_cell_meme": {
     "current": "5b2b40bc-0c16-11ea-aa17-02420a010068",
     "execution_end_time": "2019-10-18T01:16:45.811366Z",
     "history": [
      {
       "current": "e305d6e2-f144-11e9-a8bb-02420a010068",
       "next": "e305da02-f144-11e9-a8bb-02420a010068",
       "previous": "9b752f3a-f144-11e9-a8bb-02420a010068"
      },
      {
       "current": "e305d6e2-f144-11e9-a8bb-02420a010068",
       "next": "e305da02-f144-11e9-a8bb-02420a010068",
       "previous": "9b753200-f144-11e9-a8bb-02420a010068"
      },
      {
       "current": "e305d6e2-f144-11e9-a8bb-02420a010068",
       "next": "73fd80d4-f5e9-11e9-a8bb-02420a010068",
       "previous": "9b753200-f144-11e9-a8bb-02420a010068"
      },
      {
       "current": "1d0a2ac6-0a97-11ea-896e-02420a010068",
       "next": "1d0a2c38-0a97-11ea-896e-02420a010068",
       "previous": "1d0a294a-0a97-11ea-896e-02420a010068"
      }
     ],
     "next": "5b2b426a-0c16-11ea-aa17-02420a010068",
     "previous": "5b2b3eb4-0c16-11ea-aa17-02420a010068"
    },
    "lc_wrapper": {
     "log_history": [
      "/home/14999410x94c69e/05a/.log/20191018/20191018-101645-0786.log"
     ]
    }
   },
   "source": [
    "○演習：次のセルで、リストのリスト$month$を使って、月の名前を順番に表示しなさい。\n",
    "\n",
    "\n"
   ]
  },
  {
   "cell_type": "code",
   "execution_count": null,
   "metadata": {
    "lc_cell_meme": {
     "current": "5b2b426a-0c16-11ea-aa17-02420a010068",
     "history": [
      {
       "current": "73fd80d4-f5e9-11e9-a8bb-02420a010068",
       "next": "e305da02-f144-11e9-a8bb-02420a010068",
       "previous": "e305d6e2-f144-11e9-a8bb-02420a010068"
      },
      {
       "current": "1d0a2c38-0a97-11ea-896e-02420a010068",
       "next": "1d0a2d78-0a97-11ea-896e-02420a010068",
       "previous": "1d0a2ac6-0a97-11ea-896e-02420a010068"
      },
      {
       "current": "1d0a2c38-0a97-11ea-896e-02420a010068",
       "next": "1d0a2ec2-0a97-11ea-896e-02420a010068",
       "previous": "1d0a2ac6-0a97-11ea-896e-02420a010068"
      }
     ],
     "next": "5b2b43e6-0c16-11ea-aa17-02420a010068",
     "previous": "5b2b40bc-0c16-11ea-aa17-02420a010068"
    }
   },
   "outputs": [],
   "source": [
    "# 演習用入力欄\n"
   ]
  },
  {
   "cell_type": "markdown",
   "metadata": {
    "lc_cell_meme": {
     "current": "5b2b43e6-0c16-11ea-aa17-02420a010068",
     "history": [
      {
       "current": "73647cfa-f3c7-11e9-a8bb-02420a010068",
       "next": "9b753200-f144-11e9-a8bb-02420a010068",
       "previous": "e305da02-f144-11e9-a8bb-02420a010068"
      },
      {
       "current": "73647cfa-f3c7-11e9-a8bb-02420a010068",
       "next": "9b75334a-f144-11e9-a8bb-02420a010068",
       "previous": "e305da02-f144-11e9-a8bb-02420a010068"
      },
      {
       "current": "73647cfa-f3c7-11e9-a8bb-02420a010068",
       "next": "9b753200-f144-11e9-a8bb-02420a010068",
       "previous": "e305da02-f144-11e9-a8bb-02420a010068"
      },
      {
       "current": "1d0a2ec2-0a97-11ea-896e-02420a010068",
       "next": "1d0a3034-0a97-11ea-896e-02420a010068",
       "previous": "1d0a2d78-0a97-11ea-896e-02420a010068"
      },
      {
       "current": "1d0a2ec2-0a97-11ea-896e-02420a010068",
       "next": "1d0a3034-0a97-11ea-896e-02420a010068",
       "previous": "1d0a2c38-0a97-11ea-896e-02420a010068"
      }
     ],
     "next": "5b2b4558-0c16-11ea-aa17-02420a010068",
     "previous": "5b2b426a-0c16-11ea-aa17-02420a010068"
    }
   },
   "source": [
    "ヒント\n",
    "\n",
    "Jan<BR>\n",
    "Feb<BR>\n",
    "Mar<BR>\n",
    "Apr<BR>\n",
    "May<BR>\n",
    "Jun<BR>\n",
    "Jul<BR>\n",
    "Aug<BR>\n",
    "Sep<BR>\n",
    "Oct<BR>\n",
    "Nov<BR>\n",
    "Dec<BR>\n",
    "\n",
    "と出力されれば正解"
   ]
  },
  {
   "cell_type": "markdown",
   "metadata": {
    "lc_cell_meme": {
     "current": "5b2b4558-0c16-11ea-aa17-02420a010068",
     "history": [
      {
       "current": "9b753200-f144-11e9-a8bb-02420a010068",
       "next": "53eef7fe-f144-11e9-a8bb-02420a010068",
       "previous": "9b752f3a-f144-11e9-a8bb-02420a010068"
      },
      {
       "current": "9b753200-f144-11e9-a8bb-02420a010068",
       "next": "53eef7fe-f144-11e9-a8bb-02420a010068",
       "previous": "e305da02-f144-11e9-a8bb-02420a010068"
      },
      {
       "current": "9b753200-f144-11e9-a8bb-02420a010068",
       "next": "53eef7fe-f144-11e9-a8bb-02420a010068",
       "previous": "73647cfa-f3c7-11e9-a8bb-02420a010068"
      },
      {
       "current": "9b753200-f144-11e9-a8bb-02420a010068",
       "next": "e305d6e2-f144-11e9-a8bb-02420a010068",
       "previous": "bae43ef8-f3c7-11e9-a8bb-02420a010068"
      },
      {
       "current": "9b753200-f144-11e9-a8bb-02420a010068",
       "next": "e305d6e2-f144-11e9-a8bb-02420a010068",
       "previous": "bae43db8-f3c7-11e9-a8bb-02420a010068"
      },
      {
       "current": "9b753200-f144-11e9-a8bb-02420a010068",
       "next": "e305d6e2-f144-11e9-a8bb-02420a010068",
       "previous": "d8f12968-06b6-11ea-a8bb-02420a010068"
      },
      {
       "current": "9b753200-f144-11e9-a8bb-02420a010068",
       "next": "e305d6e2-f144-11e9-a8bb-02420a010068",
       "previous": "20715b6e-06b7-11ea-a8bb-02420a010068"
      },
      {
       "current": "9b753200-f144-11e9-a8bb-02420a010068",
       "next": "e305d6e2-f144-11e9-a8bb-02420a010068",
       "previous": "73647cfa-f3c7-11e9-a8bb-02420a010068"
      },
      {
       "current": "1d0a3034-0a97-11ea-896e-02420a010068",
       "next": "1d0a317e-0a97-11ea-896e-02420a010068",
       "previous": "1d0a2ec2-0a97-11ea-896e-02420a010068"
      }
     ],
     "next": "5b2b46ca-0c16-11ea-aa17-02420a010068",
     "previous": "5b2b43e6-0c16-11ea-aa17-02420a010068"
    }
   },
   "source": [
    "### リストのリストを使った計算（教科書P55）"
   ]
  },
  {
   "cell_type": "markdown",
   "metadata": {
    "lc_cell_meme": {
     "current": "5b2b46ca-0c16-11ea-aa17-02420a010068",
     "execution_end_time": "2019-10-18T01:16:45.811366Z",
     "history": [
      {
       "current": "e305d6e2-f144-11e9-a8bb-02420a010068",
       "next": "e305da02-f144-11e9-a8bb-02420a010068",
       "previous": "9b752f3a-f144-11e9-a8bb-02420a010068"
      },
      {
       "current": "e305d6e2-f144-11e9-a8bb-02420a010068",
       "next": "e305da02-f144-11e9-a8bb-02420a010068",
       "previous": "9b753200-f144-11e9-a8bb-02420a010068"
      },
      {
       "current": "e305d6e2-f144-11e9-a8bb-02420a010068",
       "next": "73fd80d4-f5e9-11e9-a8bb-02420a010068",
       "previous": "9b753200-f144-11e9-a8bb-02420a010068"
      },
      {
       "current": "1d0a317e-0a97-11ea-896e-02420a010068",
       "next": "1d0a32be-0a97-11ea-896e-02420a010068",
       "previous": "1d0a3034-0a97-11ea-896e-02420a010068"
      }
     ],
     "next": "5b2b4846-0c16-11ea-aa17-02420a010068",
     "previous": "5b2b4558-0c16-11ea-aa17-02420a010068"
    },
    "lc_wrapper": {
     "log_history": [
      "/home/14999410x94c69e/05a/.log/20191018/20191018-101645-0786.log"
     ]
    }
   },
   "source": [
    "○演習：次のセルで、リストのリスト$month$を使って、日数の合計を計算することで、一年の曜日を計算しなさい。\n",
    "\n",
    "1. 合計を求める変数$s$に$0$を代入する\n",
    "1. for文を使い、リストのリスト$month$から順番に要素を取り出し、リスト$mon$とする<BR>\n",
    "    $s$にリストの2番目の要素$mon[1]$を足す\n",
    "1. $s$を表示する\n"
   ]
  },
  {
   "cell_type": "code",
   "execution_count": null,
   "metadata": {
    "lc_cell_meme": {
     "current": "5b2b4846-0c16-11ea-aa17-02420a010068",
     "history": [
      {
       "current": "73fd80d4-f5e9-11e9-a8bb-02420a010068",
       "next": "e305da02-f144-11e9-a8bb-02420a010068",
       "previous": "e305d6e2-f144-11e9-a8bb-02420a010068"
      },
      {
       "current": "1d0a32be-0a97-11ea-896e-02420a010068",
       "next": "1d0a3458-0a97-11ea-896e-02420a010068",
       "previous": "1d0a317e-0a97-11ea-896e-02420a010068"
      },
      {
       "current": "1d0a32be-0a97-11ea-896e-02420a010068",
       "next": "1d0a35ca-0a97-11ea-896e-02420a010068",
       "previous": "1d0a317e-0a97-11ea-896e-02420a010068"
      }
     ],
     "next": "5b2b49b8-0c16-11ea-aa17-02420a010068",
     "previous": "5b2b46ca-0c16-11ea-aa17-02420a010068"
    },
    "lc_wrapper": {
     "log_history": [
      "/home/14999410x94c69e/08a/.log/20191120/20191120-165100-0633.log"
     ]
    }
   },
   "outputs": [],
   "source": [
    "# 演習用入力欄(要変更)\n",
    "s = 0\n",
    "for mon in ???:\n",
    "    s = s + ???\n",
    "\n",
    "print(s)"
   ]
  },
  {
   "cell_type": "markdown",
   "metadata": {
    "lc_cell_meme": {
     "current": "5b2b49b8-0c16-11ea-aa17-02420a010068",
     "history": [
      {
       "current": "73647cfa-f3c7-11e9-a8bb-02420a010068",
       "next": "9b753200-f144-11e9-a8bb-02420a010068",
       "previous": "e305da02-f144-11e9-a8bb-02420a010068"
      },
      {
       "current": "73647cfa-f3c7-11e9-a8bb-02420a010068",
       "next": "9b75334a-f144-11e9-a8bb-02420a010068",
       "previous": "e305da02-f144-11e9-a8bb-02420a010068"
      },
      {
       "current": "1d0a35ca-0a97-11ea-896e-02420a010068",
       "next": "1d0a370a-0a97-11ea-896e-02420a010068",
       "previous": "1d0a3458-0a97-11ea-896e-02420a010068"
      },
      {
       "current": "1d0a35ca-0a97-11ea-896e-02420a010068",
       "next": "1d0a370a-0a97-11ea-896e-02420a010068",
       "previous": "1d0a32be-0a97-11ea-896e-02420a010068"
      }
     ],
     "next": "5b2b4b48-0c16-11ea-aa17-02420a010068",
     "previous": "5b2b4846-0c16-11ea-aa17-02420a010068"
    }
   },
   "source": [
    "ヒント\n",
    "\n",
    "365 になれば正解"
   ]
  },
  {
   "cell_type": "markdown",
   "metadata": {
    "lc_cell_meme": {
     "current": "5b2b4b48-0c16-11ea-aa17-02420a010068",
     "history": [
      {
       "current": "9b75334a-f144-11e9-a8bb-02420a010068",
       "next": "53eefc90-f144-11e9-a8bb-02420a010068",
       "previous": "53eefb28-f144-11e9-a8bb-02420a010068"
      },
      {
       "current": "9b75334a-f144-11e9-a8bb-02420a010068",
       "next": "9b75334a-f144-11e9-a8bb-02420a010068",
       "previous": "53eefb28-f144-11e9-a8bb-02420a010068"
      },
      {
       "current": "9b75334a-f144-11e9-a8bb-02420a010068",
       "next": "1f3a817e-f147-11e9-a8bb-02420a010068",
       "previous": "53eefb28-f144-11e9-a8bb-02420a010068"
      },
      {
       "current": "9b75334a-f144-11e9-a8bb-02420a010068",
       "next": "f5cc2a12-f147-11e9-a8bb-02420a010068",
       "previous": "53eefb28-f144-11e9-a8bb-02420a010068"
      },
      {
       "current": "9b75334a-f144-11e9-a8bb-02420a010068",
       "next": "3d50ebd4-f148-11e9-a8bb-02420a010068",
       "previous": "53eefb28-f144-11e9-a8bb-02420a010068"
      },
      {
       "current": "9b75334a-f144-11e9-a8bb-02420a010068",
       "next": "3d50ebd4-f148-11e9-a8bb-02420a010068",
       "previous": "73647cfa-f3c7-11e9-a8bb-02420a010068"
      },
      {
       "current": "9b75334a-f144-11e9-a8bb-02420a010068",
       "next": "84e22fe4-f148-11e9-a8bb-02420a010068",
       "previous": "73647cfa-f3c7-11e9-a8bb-02420a010068"
      },
      {
       "current": "1d0a370a-0a97-11ea-896e-02420a010068",
       "next": "1d0a387c-0a97-11ea-896e-02420a010068",
       "previous": "1d0a35ca-0a97-11ea-896e-02420a010068"
      }
     ],
     "next": "5b2b4cba-0c16-11ea-aa17-02420a010068",
     "previous": "5b2b49b8-0c16-11ea-aa17-02420a010068"
    }
   },
   "source": [
    "## 辞書"
   ]
  },
  {
   "cell_type": "markdown",
   "metadata": {
    "lc_cell_meme": {
     "current": "5b2b4cba-0c16-11ea-aa17-02420a010068",
     "history": [
      {
       "current": "84e22fe4-f148-11e9-a8bb-02420a010068",
       "next": "1f3a817e-f147-11e9-a8bb-02420a010068",
       "previous": "f5cc2a12-f147-11e9-a8bb-02420a010068"
      },
      {
       "current": "84e22fe4-f148-11e9-a8bb-02420a010068",
       "next": "84e22fe4-f148-11e9-a8bb-02420a010068",
       "previous": "9b75334a-f144-11e9-a8bb-02420a010068"
      },
      {
       "current": "84e22fe4-f148-11e9-a8bb-02420a010068",
       "next": "e305d6e2-f144-11e9-a8bb-02420a010068",
       "previous": "9b75334a-f144-11e9-a8bb-02420a010068"
      },
      {
       "current": "1d0a387c-0a97-11ea-896e-02420a010068",
       "next": "1d0a39ee-0a97-11ea-896e-02420a010068",
       "previous": "1d0a370a-0a97-11ea-896e-02420a010068"
      }
     ],
     "next": "5b2b4e2c-0c16-11ea-aa17-02420a010068",
     "previous": "5b2b4b48-0c16-11ea-aa17-02420a010068"
    }
   },
   "source": [
    "### 辞書の作成（教科書P56）"
   ]
  },
  {
   "cell_type": "markdown",
   "metadata": {
    "lc_cell_meme": {
     "current": "5b2b4e2c-0c16-11ea-aa17-02420a010068",
     "execution_end_time": "2019-10-18T01:16:45.811366Z",
     "history": [
      {
       "current": "e305d6e2-f144-11e9-a8bb-02420a010068",
       "next": "e305da02-f144-11e9-a8bb-02420a010068",
       "previous": "9b752f3a-f144-11e9-a8bb-02420a010068"
      },
      {
       "current": "e305d6e2-f144-11e9-a8bb-02420a010068",
       "next": "e305da02-f144-11e9-a8bb-02420a010068",
       "previous": "9b753200-f144-11e9-a8bb-02420a010068"
      },
      {
       "current": "e305d6e2-f144-11e9-a8bb-02420a010068",
       "next": "73fd80d4-f5e9-11e9-a8bb-02420a010068",
       "previous": "9b753200-f144-11e9-a8bb-02420a010068"
      },
      {
       "current": "e305d6e2-f144-11e9-a8bb-02420a010068",
       "next": "73fd80d4-f5e9-11e9-a8bb-02420a010068",
       "previous": "84e22fe4-f148-11e9-a8bb-02420a010068"
      },
      {
       "current": "1d0a39ee-0a97-11ea-896e-02420a010068",
       "next": "1d0a3bf6-0a97-11ea-896e-02420a010068",
       "previous": "1d0a387c-0a97-11ea-896e-02420a010068"
      }
     ],
     "next": "5b2b4fa8-0c16-11ea-aa17-02420a010068",
     "previous": "5b2b4cba-0c16-11ea-aa17-02420a010068"
    },
    "lc_wrapper": {
     "log_history": [
      "/home/14999410x94c69e/05a/.log/20191018/20191018-101645-0786.log"
     ]
    }
   },
   "source": [
    "○演習：次のセルで定義されている、「都道府県」と「都道府県庁所在地」の辞書$p\\_cap$を評価しなさい。\n"
   ]
  },
  {
   "cell_type": "code",
   "execution_count": null,
   "metadata": {
    "lc_cell_meme": {
     "current": "5b2b4fa8-0c16-11ea-aa17-02420a010068",
     "history": [
      {
       "current": "73fd80d4-f5e9-11e9-a8bb-02420a010068",
       "next": "e305da02-f144-11e9-a8bb-02420a010068",
       "previous": "e305d6e2-f144-11e9-a8bb-02420a010068"
      },
      {
       "current": "73fd80d4-f5e9-11e9-a8bb-02420a010068",
       "next": "e305d6e2-f144-11e9-a8bb-02420a010068",
       "previous": "e305d6e2-f144-11e9-a8bb-02420a010068"
      },
      {
       "current": "1d0a3bf6-0a97-11ea-896e-02420a010068",
       "next": "1d0a3d54-0a97-11ea-896e-02420a010068",
       "previous": "1d0a39ee-0a97-11ea-896e-02420a010068"
      }
     ],
     "next": "5b2b526e-0c16-11ea-aa17-02420a010068",
     "previous": "5b2b4e2c-0c16-11ea-aa17-02420a010068"
    },
    "lc_wrapper": {
     "log_history": [
      "/home/14999410x94c69e/08a/.log/20191118/20191118-133451-0117.log",
      "/home/14999410x94c69e/08a/.log/20191118/20191118-133457-0972.log",
      "/home/14999410x94c69e/08a/.log/20191118/20191118-133608-0304.log",
      "/home/14999410x94c69e/08a/.log/20191120/20191120-161646-0011.log"
     ]
    }
   },
   "outputs": [],
   "source": [
    "# 演習用入力欄（そのまま評価）\n",
    "p_cap = {'Hokkaido': 'Sapporo', 'Miyagi': 'Sendai',\n",
    "         'Fukushima': 'Fukushima', 'Ishikawa': 'Kanazawa',\n",
    "         'Tokyo': 'Shinjyuku', 'Aichi': 'Nagoya',\n",
    "         'Osaka': 'Osaka', 'Shimane': 'Matsue', \n",
    "         'Nagasaki': 'Nagasaki','Okinawa': 'Naha'}\n"
   ]
  },
  {
   "cell_type": "markdown",
   "metadata": {
    "lc_cell_meme": {
     "current": "5b2b526e-0c16-11ea-aa17-02420a010068",
     "execution_end_time": "2019-10-18T01:16:45.811366Z",
     "history": [
      {
       "current": "e305d6e2-f144-11e9-a8bb-02420a010068",
       "next": "e305da02-f144-11e9-a8bb-02420a010068",
       "previous": "9b752f3a-f144-11e9-a8bb-02420a010068"
      },
      {
       "current": "e305d6e2-f144-11e9-a8bb-02420a010068",
       "next": "e305da02-f144-11e9-a8bb-02420a010068",
       "previous": "9b753200-f144-11e9-a8bb-02420a010068"
      },
      {
       "current": "e305d6e2-f144-11e9-a8bb-02420a010068",
       "next": "73fd80d4-f5e9-11e9-a8bb-02420a010068",
       "previous": "9b753200-f144-11e9-a8bb-02420a010068"
      },
      {
       "current": "e305d6e2-f144-11e9-a8bb-02420a010068",
       "next": "73fd80d4-f5e9-11e9-a8bb-02420a010068",
       "previous": "84e22fe4-f148-11e9-a8bb-02420a010068"
      },
      {
       "current": "e305d6e2-f144-11e9-a8bb-02420a010068",
       "next": "e305da02-f144-11e9-a8bb-02420a010068",
       "previous": "73fd80d4-f5e9-11e9-a8bb-02420a010068"
      },
      {
       "current": "e305d6e2-f144-11e9-a8bb-02420a010068",
       "next": "73fd80d4-f5e9-11e9-a8bb-02420a010068",
       "previous": "73fd80d4-f5e9-11e9-a8bb-02420a010068"
      },
      {
       "current": "1d0a3d54-0a97-11ea-896e-02420a010068",
       "next": "1d0a3e9e-0a97-11ea-896e-02420a010068",
       "previous": "1d0a3bf6-0a97-11ea-896e-02420a010068"
      }
     ],
     "next": "5b2b5412-0c16-11ea-aa17-02420a010068",
     "previous": "5b2b4fa8-0c16-11ea-aa17-02420a010068"
    },
    "lc_wrapper": {
     "log_history": [
      "/home/14999410x94c69e/05a/.log/20191018/20191018-101645-0786.log"
     ]
    }
   },
   "source": [
    "○演習：次のセルで辞書$p\\_cap$を評価して内容を確認しなさい。\n"
   ]
  },
  {
   "cell_type": "code",
   "execution_count": null,
   "metadata": {
    "lc_cell_meme": {
     "current": "5b2b5412-0c16-11ea-aa17-02420a010068",
     "history": [
      {
       "current": "73fd80d4-f5e9-11e9-a8bb-02420a010068",
       "next": "e305da02-f144-11e9-a8bb-02420a010068",
       "previous": "e305d6e2-f144-11e9-a8bb-02420a010068"
      },
      {
       "current": "1d0a3e9e-0a97-11ea-896e-02420a010068",
       "next": "1d0a4056-0a97-11ea-896e-02420a010068",
       "previous": "1d0a3d54-0a97-11ea-896e-02420a010068"
      },
      {
       "current": "1d0a3e9e-0a97-11ea-896e-02420a010068",
       "next": "1d0a4254-0a97-11ea-896e-02420a010068",
       "previous": "1d0a3d54-0a97-11ea-896e-02420a010068"
      }
     ],
     "next": "5b2b5656-0c16-11ea-aa17-02420a010068",
     "previous": "5b2b526e-0c16-11ea-aa17-02420a010068"
    }
   },
   "outputs": [],
   "source": [
    "# 演習用入力欄\n"
   ]
  },
  {
   "cell_type": "markdown",
   "metadata": {
    "lc_cell_meme": {
     "current": "5b2b5656-0c16-11ea-aa17-02420a010068",
     "history": [
      {
       "current": "73647cfa-f3c7-11e9-a8bb-02420a010068",
       "next": "9b753200-f144-11e9-a8bb-02420a010068",
       "previous": "e305da02-f144-11e9-a8bb-02420a010068"
      },
      {
       "current": "73647cfa-f3c7-11e9-a8bb-02420a010068",
       "next": "9b75334a-f144-11e9-a8bb-02420a010068",
       "previous": "e305da02-f144-11e9-a8bb-02420a010068"
      },
      {
       "current": "73647cfa-f3c7-11e9-a8bb-02420a010068",
       "next": "84e22fe4-f148-11e9-a8bb-02420a010068",
       "previous": "e305da02-f144-11e9-a8bb-02420a010068"
      },
      {
       "current": "1d0a4254-0a97-11ea-896e-02420a010068",
       "next": "1d0a43e4-0a97-11ea-896e-02420a010068",
       "previous": "1d0a4056-0a97-11ea-896e-02420a010068"
      },
      {
       "current": "1d0a4254-0a97-11ea-896e-02420a010068",
       "next": "1d0a43e4-0a97-11ea-896e-02420a010068",
       "previous": "1d0a3e9e-0a97-11ea-896e-02420a010068"
      }
     ],
     "next": "5b2b57d2-0c16-11ea-aa17-02420a010068",
     "previous": "5b2b5412-0c16-11ea-aa17-02420a010068"
    }
   },
   "source": [
    "ヒント:  以下になれば正解\n",
    "\n",
    "{'Hokkaido': 'Sapporo', <BR>\n",
    " 'Miyagi': 'Sendai',<BR>\n",
    " 'Fukushima': 'Fukushima',<BR>\n",
    " 'Ishikawa': 'Kanazawa',<BR>\n",
    " 'Tokyo': 'Shinjyuku',<BR>\n",
    " 'Aichi': 'Nagoya',<BR>\n",
    " 'Osaka': 'Osaka',<BR>\n",
    " 'Shimane': 'Matsue',<BR>\n",
    " 'Nagasaki': 'Nagasaki',<BR>\n",
    " 'Okinawa': 'Naha'}<BR>"
   ]
  },
  {
   "cell_type": "markdown",
   "metadata": {
    "lc_cell_meme": {
     "current": "5b2b57d2-0c16-11ea-aa17-02420a010068",
     "history": [
      {
       "current": "84e22fe4-f148-11e9-a8bb-02420a010068",
       "next": "1f3a817e-f147-11e9-a8bb-02420a010068",
       "previous": "f5cc2a12-f147-11e9-a8bb-02420a010068"
      },
      {
       "current": "84e22fe4-f148-11e9-a8bb-02420a010068",
       "next": "84e22fe4-f148-11e9-a8bb-02420a010068",
       "previous": "cc5736bc-f148-11e9-a8bb-02420a010068"
      },
      {
       "current": "84e22fe4-f148-11e9-a8bb-02420a010068",
       "next": "1f3a817e-f147-11e9-a8bb-02420a010068",
       "previous": "cc5736bc-f148-11e9-a8bb-02420a010068"
      },
      {
       "current": "84e22fe4-f148-11e9-a8bb-02420a010068",
       "next": "1f3a817e-f147-11e9-a8bb-02420a010068",
       "previous": "84e2328c-f148-11e9-a8bb-02420a010068"
      },
      {
       "current": "84e22fe4-f148-11e9-a8bb-02420a010068",
       "next": "84e22fe4-f148-11e9-a8bb-02420a010068",
       "previous": "84e22fe4-f148-11e9-a8bb-02420a010068"
      },
      {
       "current": "84e22fe4-f148-11e9-a8bb-02420a010068",
       "next": "84e22fe4-f148-11e9-a8bb-02420a010068",
       "previous": "73647cfa-f3c7-11e9-a8bb-02420a010068"
      },
      {
       "current": "84e22fe4-f148-11e9-a8bb-02420a010068",
       "next": "e305d6e2-f144-11e9-a8bb-02420a010068",
       "previous": "73647cfa-f3c7-11e9-a8bb-02420a010068"
      },
      {
       "current": "84e22fe4-f148-11e9-a8bb-02420a010068",
       "next": "84e22fe4-f148-11e9-a8bb-02420a010068",
       "previous": "73647cfa-f3c7-11e9-a8bb-02420a010068"
      },
      {
       "current": "84e22fe4-f148-11e9-a8bb-02420a010068",
       "next": "e305d6e2-f144-11e9-a8bb-02420a010068",
       "previous": "73647cfa-f3c7-11e9-a8bb-02420a010068"
      },
      {
       "current": "1d0a43e4-0a97-11ea-896e-02420a010068",
       "next": "1d0a45e2-0a97-11ea-896e-02420a010068",
       "previous": "1d0a4254-0a97-11ea-896e-02420a010068"
      }
     ],
     "next": "5b2b5930-0c16-11ea-aa17-02420a010068",
     "previous": "5b2b5656-0c16-11ea-aa17-02420a010068"
    }
   },
   "source": [
    "### 辞書の参照（教科書P57）"
   ]
  },
  {
   "cell_type": "markdown",
   "metadata": {
    "lc_cell_meme": {
     "current": "5b2b5930-0c16-11ea-aa17-02420a010068",
     "execution_end_time": "2019-10-18T01:16:45.811366Z",
     "history": [
      {
       "current": "e305d6e2-f144-11e9-a8bb-02420a010068",
       "next": "e305da02-f144-11e9-a8bb-02420a010068",
       "previous": "9b752f3a-f144-11e9-a8bb-02420a010068"
      },
      {
       "current": "e305d6e2-f144-11e9-a8bb-02420a010068",
       "next": "e305da02-f144-11e9-a8bb-02420a010068",
       "previous": "9b753200-f144-11e9-a8bb-02420a010068"
      },
      {
       "current": "e305d6e2-f144-11e9-a8bb-02420a010068",
       "next": "73fd80d4-f5e9-11e9-a8bb-02420a010068",
       "previous": "9b753200-f144-11e9-a8bb-02420a010068"
      },
      {
       "current": "e305d6e2-f144-11e9-a8bb-02420a010068",
       "next": "73fd80d4-f5e9-11e9-a8bb-02420a010068",
       "previous": "84e22fe4-f148-11e9-a8bb-02420a010068"
      },
      {
       "current": "e305d6e2-f144-11e9-a8bb-02420a010068",
       "next": "e305da02-f144-11e9-a8bb-02420a010068",
       "previous": "73fd80d4-f5e9-11e9-a8bb-02420a010068"
      },
      {
       "current": "e305d6e2-f144-11e9-a8bb-02420a010068",
       "next": "73fd80d4-f5e9-11e9-a8bb-02420a010068",
       "previous": "73fd80d4-f5e9-11e9-a8bb-02420a010068"
      },
      {
       "current": "e305d6e2-f144-11e9-a8bb-02420a010068",
       "next": "73fd80d4-f5e9-11e9-a8bb-02420a010068",
       "previous": "84e22fe4-f148-11e9-a8bb-02420a010068"
      },
      {
       "current": "1d0a45e2-0a97-11ea-896e-02420a010068",
       "next": "1d0a4826-0a97-11ea-896e-02420a010068",
       "previous": "1d0a43e4-0a97-11ea-896e-02420a010068"
      }
     ],
     "next": "5b2b5ad4-0c16-11ea-aa17-02420a010068",
     "previous": "5b2b57d2-0c16-11ea-aa17-02420a010068"
    },
    "lc_wrapper": {
     "log_history": [
      "/home/14999410x94c69e/05a/.log/20191018/20191018-101645-0786.log"
     ]
    }
   },
   "source": [
    "○演習：次のセルで辞書$p\\_cap$から福島県('Fukushima')の県庁所在地を表示しなさい。\n"
   ]
  },
  {
   "cell_type": "code",
   "execution_count": null,
   "metadata": {
    "lc_cell_meme": {
     "current": "5b2b5ad4-0c16-11ea-aa17-02420a010068",
     "history": [
      {
       "current": "73fd80d4-f5e9-11e9-a8bb-02420a010068",
       "next": "e305da02-f144-11e9-a8bb-02420a010068",
       "previous": "e305d6e2-f144-11e9-a8bb-02420a010068"
      },
      {
       "current": "1d0a4826-0a97-11ea-896e-02420a010068",
       "next": "1d0a4998-0a97-11ea-896e-02420a010068",
       "previous": "1d0a45e2-0a97-11ea-896e-02420a010068"
      },
      {
       "current": "1d0a4826-0a97-11ea-896e-02420a010068",
       "next": "1d0a4ad8-0a97-11ea-896e-02420a010068",
       "previous": "1d0a45e2-0a97-11ea-896e-02420a010068"
      }
     ],
     "next": "5b2b5c28-0c16-11ea-aa17-02420a010068",
     "previous": "5b2b5930-0c16-11ea-aa17-02420a010068"
    }
   },
   "outputs": [],
   "source": [
    "# 演習用入力欄\n"
   ]
  },
  {
   "cell_type": "markdown",
   "metadata": {
    "lc_cell_meme": {
     "current": "5b2b5c28-0c16-11ea-aa17-02420a010068",
     "history": [
      {
       "current": "73647cfa-f3c7-11e9-a8bb-02420a010068",
       "next": "9b753200-f144-11e9-a8bb-02420a010068",
       "previous": "e305da02-f144-11e9-a8bb-02420a010068"
      },
      {
       "current": "73647cfa-f3c7-11e9-a8bb-02420a010068",
       "next": "9b75334a-f144-11e9-a8bb-02420a010068",
       "previous": "e305da02-f144-11e9-a8bb-02420a010068"
      },
      {
       "current": "73647cfa-f3c7-11e9-a8bb-02420a010068",
       "next": "84e22fe4-f148-11e9-a8bb-02420a010068",
       "previous": "e305da02-f144-11e9-a8bb-02420a010068"
      },
      {
       "current": "1d0a4ad8-0a97-11ea-896e-02420a010068",
       "next": "1d0a4c5e-0a97-11ea-896e-02420a010068",
       "previous": "1d0a4998-0a97-11ea-896e-02420a010068"
      },
      {
       "current": "1d0a4ad8-0a97-11ea-896e-02420a010068",
       "next": "1d0a4c5e-0a97-11ea-896e-02420a010068",
       "previous": "1d0a4826-0a97-11ea-896e-02420a010068"
      }
     ],
     "next": "5b2b5e58-0c16-11ea-aa17-02420a010068",
     "previous": "5b2b5ad4-0c16-11ea-aa17-02420a010068"
    }
   },
   "source": [
    "ヒント:  以下になれば正解\n",
    "\n",
    "'Fukushima'"
   ]
  },
  {
   "cell_type": "markdown",
   "metadata": {
    "lc_cell_meme": {
     "current": "5b2b5e58-0c16-11ea-aa17-02420a010068",
     "history": [
      {
       "current": "84e22fe4-f148-11e9-a8bb-02420a010068",
       "next": "1f3a817e-f147-11e9-a8bb-02420a010068",
       "previous": "f5cc2a12-f147-11e9-a8bb-02420a010068"
      },
      {
       "current": "84e22fe4-f148-11e9-a8bb-02420a010068",
       "next": "84e22fe4-f148-11e9-a8bb-02420a010068",
       "previous": "cc5736bc-f148-11e9-a8bb-02420a010068"
      },
      {
       "current": "84e22fe4-f148-11e9-a8bb-02420a010068",
       "next": "1f3a817e-f147-11e9-a8bb-02420a010068",
       "previous": "1f3a817e-f147-11e9-a8bb-02420a010068"
      },
      {
       "current": "84e22fe4-f148-11e9-a8bb-02420a010068",
       "next": "1f3a817e-f147-11e9-a8bb-02420a010068",
       "previous": "a2edbade-f149-11e9-a8bb-02420a010068"
      },
      {
       "current": "84e22fe4-f148-11e9-a8bb-02420a010068",
       "next": "1f3a817e-f147-11e9-a8bb-02420a010068",
       "previous": "84e2328c-f148-11e9-a8bb-02420a010068"
      },
      {
       "current": "84e22fe4-f148-11e9-a8bb-02420a010068",
       "next": "84e22fe4-f148-11e9-a8bb-02420a010068",
       "previous": "84e22fe4-f148-11e9-a8bb-02420a010068"
      },
      {
       "current": "84e22fe4-f148-11e9-a8bb-02420a010068",
       "next": "84e22fe4-f148-11e9-a8bb-02420a010068",
       "previous": "73647cfa-f3c7-11e9-a8bb-02420a010068"
      },
      {
       "current": "84e22fe4-f148-11e9-a8bb-02420a010068",
       "next": "84e22fe4-f148-11e9-a8bb-02420a010068",
       "previous": "84e22fe4-f148-11e9-a8bb-02420a010068"
      },
      {
       "current": "84e22fe4-f148-11e9-a8bb-02420a010068",
       "next": "e305d6e2-f144-11e9-a8bb-02420a010068",
       "previous": "73647cfa-f3c7-11e9-a8bb-02420a010068"
      },
      {
       "current": "1d0a4c5e-0a97-11ea-896e-02420a010068",
       "next": "1d0a4e52-0a97-11ea-896e-02420a010068",
       "previous": "1d0a4ad8-0a97-11ea-896e-02420a010068"
      }
     ],
     "next": "5b2b5fca-0c16-11ea-aa17-02420a010068",
     "previous": "5b2b5c28-0c16-11ea-aa17-02420a010068"
    }
   },
   "source": [
    "###  辞書への要素の追加（教科書P57）"
   ]
  },
  {
   "cell_type": "markdown",
   "metadata": {
    "lc_cell_meme": {
     "current": "5b2b5fca-0c16-11ea-aa17-02420a010068",
     "execution_end_time": "2019-10-18T01:16:45.811366Z",
     "history": [
      {
       "current": "e305d6e2-f144-11e9-a8bb-02420a010068",
       "next": "e305da02-f144-11e9-a8bb-02420a010068",
       "previous": "9b752f3a-f144-11e9-a8bb-02420a010068"
      },
      {
       "current": "e305d6e2-f144-11e9-a8bb-02420a010068",
       "next": "e305da02-f144-11e9-a8bb-02420a010068",
       "previous": "9b753200-f144-11e9-a8bb-02420a010068"
      },
      {
       "current": "e305d6e2-f144-11e9-a8bb-02420a010068",
       "next": "73fd80d4-f5e9-11e9-a8bb-02420a010068",
       "previous": "9b753200-f144-11e9-a8bb-02420a010068"
      },
      {
       "current": "e305d6e2-f144-11e9-a8bb-02420a010068",
       "next": "73fd80d4-f5e9-11e9-a8bb-02420a010068",
       "previous": "84e22fe4-f148-11e9-a8bb-02420a010068"
      },
      {
       "current": "e305d6e2-f144-11e9-a8bb-02420a010068",
       "next": "e305da02-f144-11e9-a8bb-02420a010068",
       "previous": "73fd80d4-f5e9-11e9-a8bb-02420a010068"
      },
      {
       "current": "e305d6e2-f144-11e9-a8bb-02420a010068",
       "next": "73fd80d4-f5e9-11e9-a8bb-02420a010068",
       "previous": "73fd80d4-f5e9-11e9-a8bb-02420a010068"
      },
      {
       "current": "e305d6e2-f144-11e9-a8bb-02420a010068",
       "next": "73fd80d4-f5e9-11e9-a8bb-02420a010068",
       "previous": "84e22fe4-f148-11e9-a8bb-02420a010068"
      },
      {
       "current": "1d0a4e52-0a97-11ea-896e-02420a010068",
       "next": "1d0a4fa6-0a97-11ea-896e-02420a010068",
       "previous": "1d0a4c5e-0a97-11ea-896e-02420a010068"
      }
     ],
     "next": "5b2b616e-0c16-11ea-aa17-02420a010068",
     "previous": "5b2b5e58-0c16-11ea-aa17-02420a010068"
    },
    "lc_wrapper": {
     "log_history": [
      "/home/14999410x94c69e/05a/.log/20191018/20191018-101645-0786.log"
     ]
    }
   },
   "source": [
    "○演習：次のセルで辞書$p\\_cap$に広島県('Hiroshima')の県庁所在地('Hiroshima')を追加しなさい。\n"
   ]
  },
  {
   "cell_type": "code",
   "execution_count": null,
   "metadata": {
    "lc_cell_meme": {
     "current": "5b2b616e-0c16-11ea-aa17-02420a010068",
     "history": [
      {
       "current": "73fd80d4-f5e9-11e9-a8bb-02420a010068",
       "next": "e305da02-f144-11e9-a8bb-02420a010068",
       "previous": "e305d6e2-f144-11e9-a8bb-02420a010068"
      },
      {
       "current": "1d0a4fa6-0a97-11ea-896e-02420a010068",
       "next": "1d0a514a-0a97-11ea-896e-02420a010068",
       "previous": "1d0a4e52-0a97-11ea-896e-02420a010068"
      },
      {
       "current": "1d0a4fa6-0a97-11ea-896e-02420a010068",
       "next": "1d0a5366-0a97-11ea-896e-02420a010068",
       "previous": "1d0a4e52-0a97-11ea-896e-02420a010068"
      }
     ],
     "next": "5b2b62e0-0c16-11ea-aa17-02420a010068",
     "previous": "5b2b5fca-0c16-11ea-aa17-02420a010068"
    }
   },
   "outputs": [],
   "source": [
    "# 演習用入力欄\n"
   ]
  },
  {
   "cell_type": "markdown",
   "metadata": {
    "lc_cell_meme": {
     "current": "5b2b62e0-0c16-11ea-aa17-02420a010068",
     "execution_end_time": "2019-10-18T01:16:45.811366Z",
     "history": [
      {
       "current": "e305d6e2-f144-11e9-a8bb-02420a010068",
       "next": "e305da02-f144-11e9-a8bb-02420a010068",
       "previous": "9b752f3a-f144-11e9-a8bb-02420a010068"
      },
      {
       "current": "e305d6e2-f144-11e9-a8bb-02420a010068",
       "next": "e305da02-f144-11e9-a8bb-02420a010068",
       "previous": "9b753200-f144-11e9-a8bb-02420a010068"
      },
      {
       "current": "e305d6e2-f144-11e9-a8bb-02420a010068",
       "next": "73fd80d4-f5e9-11e9-a8bb-02420a010068",
       "previous": "9b753200-f144-11e9-a8bb-02420a010068"
      },
      {
       "current": "e305d6e2-f144-11e9-a8bb-02420a010068",
       "next": "73fd80d4-f5e9-11e9-a8bb-02420a010068",
       "previous": "84e22fe4-f148-11e9-a8bb-02420a010068"
      },
      {
       "current": "e305d6e2-f144-11e9-a8bb-02420a010068",
       "next": "e305da02-f144-11e9-a8bb-02420a010068",
       "previous": "73fd80d4-f5e9-11e9-a8bb-02420a010068"
      },
      {
       "current": "e305d6e2-f144-11e9-a8bb-02420a010068",
       "next": "73fd80d4-f5e9-11e9-a8bb-02420a010068",
       "previous": "73fd80d4-f5e9-11e9-a8bb-02420a010068"
      },
      {
       "current": "e305d6e2-f144-11e9-a8bb-02420a010068",
       "next": "73fd80d4-f5e9-11e9-a8bb-02420a010068",
       "previous": "84e22fe4-f148-11e9-a8bb-02420a010068"
      },
      {
       "current": "e305d6e2-f144-11e9-a8bb-02420a010068",
       "next": "73fd80d4-f5e9-11e9-a8bb-02420a010068",
       "previous": "e305da02-f144-11e9-a8bb-02420a010068"
      },
      {
       "current": "1d0a5366-0a97-11ea-896e-02420a010068",
       "next": "1d0a54d8-0a97-11ea-896e-02420a010068",
       "previous": "1d0a514a-0a97-11ea-896e-02420a010068"
      },
      {
       "current": "1d0a5366-0a97-11ea-896e-02420a010068",
       "next": "1d0a54d8-0a97-11ea-896e-02420a010068",
       "previous": "1d0a4fa6-0a97-11ea-896e-02420a010068"
      }
     ],
     "next": "5b2b6434-0c16-11ea-aa17-02420a010068",
     "previous": "5b2b616e-0c16-11ea-aa17-02420a010068"
    },
    "lc_wrapper": {
     "log_history": [
      "/home/14999410x94c69e/05a/.log/20191018/20191018-101645-0786.log"
     ]
    }
   },
   "source": [
    "○演習：次のセルで辞書$p\\_cap$ を評価して、上記が追加されているか確認しなさい。"
   ]
  },
  {
   "cell_type": "code",
   "execution_count": null,
   "metadata": {
    "lc_cell_meme": {
     "current": "5b2b6434-0c16-11ea-aa17-02420a010068",
     "history": [
      {
       "current": "73fd80d4-f5e9-11e9-a8bb-02420a010068",
       "next": "e305da02-f144-11e9-a8bb-02420a010068",
       "previous": "e305d6e2-f144-11e9-a8bb-02420a010068"
      },
      {
       "current": "1d0a54d8-0a97-11ea-896e-02420a010068",
       "next": "1d0a5654-0a97-11ea-896e-02420a010068",
       "previous": "1d0a5366-0a97-11ea-896e-02420a010068"
      },
      {
       "current": "1d0a54d8-0a97-11ea-896e-02420a010068",
       "next": "1d0a579e-0a97-11ea-896e-02420a010068",
       "previous": "1d0a5366-0a97-11ea-896e-02420a010068"
      }
     ],
     "next": "5b2b65b0-0c16-11ea-aa17-02420a010068",
     "previous": "5b2b62e0-0c16-11ea-aa17-02420a010068"
    }
   },
   "outputs": [],
   "source": [
    "# 演習用入力欄\n"
   ]
  },
  {
   "cell_type": "markdown",
   "metadata": {
    "lc_cell_meme": {
     "current": "5b2b65b0-0c16-11ea-aa17-02420a010068",
     "history": [
      {
       "current": "73647cfa-f3c7-11e9-a8bb-02420a010068",
       "next": "9b753200-f144-11e9-a8bb-02420a010068",
       "previous": "e305da02-f144-11e9-a8bb-02420a010068"
      },
      {
       "current": "73647cfa-f3c7-11e9-a8bb-02420a010068",
       "next": "9b75334a-f144-11e9-a8bb-02420a010068",
       "previous": "e305da02-f144-11e9-a8bb-02420a010068"
      },
      {
       "current": "73647cfa-f3c7-11e9-a8bb-02420a010068",
       "next": "84e22fe4-f148-11e9-a8bb-02420a010068",
       "previous": "e305da02-f144-11e9-a8bb-02420a010068"
      },
      {
       "current": "1d0a579e-0a97-11ea-896e-02420a010068",
       "next": "1d0a58de-0a97-11ea-896e-02420a010068",
       "previous": "1d0a5654-0a97-11ea-896e-02420a010068"
      },
      {
       "current": "1d0a579e-0a97-11ea-896e-02420a010068",
       "next": "1d0a60cc-0a97-11ea-896e-02420a010068",
       "previous": "1d0a5654-0a97-11ea-896e-02420a010068"
      },
      {
       "current": "1d0a579e-0a97-11ea-896e-02420a010068",
       "next": "1d0a60cc-0a97-11ea-896e-02420a010068",
       "previous": "1d0a54d8-0a97-11ea-896e-02420a010068"
      }
     ],
     "next": "5b2b6736-0c16-11ea-aa17-02420a010068",
     "previous": "5b2b6434-0c16-11ea-aa17-02420a010068"
    }
   },
   "source": [
    "ヒント:  以下になれば正解\n",
    "\n",
    "{'Hokkaido': 'Sapporo', <BR>\n",
    " 'Miyagi': 'Sendai',<BR>\n",
    " 'Fukushima': 'Fukushima',<BR>\n",
    " 'Ishikawa': 'Kanazawa',<BR>\n",
    " 'Tokyo': 'Shinjyuku',<BR>\n",
    " 'Aichi': 'Nagoya',<BR>\n",
    " 'Osaka': 'Osaka',<BR>\n",
    " 'Shimane': 'Matsue',<BR>\n",
    " 'Nagasaki': 'Nagasaki',<BR>\n",
    " 'Okinawa': 'Naha',<BR>\n",
    " 'Hiroshima': 'Hiroshima'}<BR>"
   ]
  },
  {
   "cell_type": "markdown",
   "metadata": {
    "lc_cell_meme": {
     "current": "5b2b6736-0c16-11ea-aa17-02420a010068",
     "history": [
      {
       "current": "84e22fe4-f148-11e9-a8bb-02420a010068",
       "next": "1f3a817e-f147-11e9-a8bb-02420a010068",
       "previous": "f5cc2a12-f147-11e9-a8bb-02420a010068"
      },
      {
       "current": "84e22fe4-f148-11e9-a8bb-02420a010068",
       "next": "84e22fe4-f148-11e9-a8bb-02420a010068",
       "previous": "cc5736bc-f148-11e9-a8bb-02420a010068"
      },
      {
       "current": "84e22fe4-f148-11e9-a8bb-02420a010068",
       "next": "1f3a817e-f147-11e9-a8bb-02420a010068",
       "previous": "1f3a817e-f147-11e9-a8bb-02420a010068"
      },
      {
       "current": "84e22fe4-f148-11e9-a8bb-02420a010068",
       "next": "1f3a817e-f147-11e9-a8bb-02420a010068",
       "previous": "a2edbade-f149-11e9-a8bb-02420a010068"
      },
      {
       "current": "84e22fe4-f148-11e9-a8bb-02420a010068",
       "next": "1f3a817e-f147-11e9-a8bb-02420a010068",
       "previous": "84e2328c-f148-11e9-a8bb-02420a010068"
      },
      {
       "current": "84e22fe4-f148-11e9-a8bb-02420a010068",
       "next": "0c6caf52-f144-11e9-a8bb-02420a010068",
       "previous": "84e22fe4-f148-11e9-a8bb-02420a010068"
      },
      {
       "current": "84e22fe4-f148-11e9-a8bb-02420a010068",
       "next": "e305d6e2-f144-11e9-a8bb-02420a010068",
       "previous": "84e22fe4-f148-11e9-a8bb-02420a010068"
      },
      {
       "current": "84e22fe4-f148-11e9-a8bb-02420a010068",
       "next": "e305d6e2-f144-11e9-a8bb-02420a010068",
       "previous": "73647cfa-f3c7-11e9-a8bb-02420a010068"
      },
      {
       "current": "1d0a60cc-0a97-11ea-896e-02420a010068",
       "next": "1d0a62a2-0a97-11ea-896e-02420a010068",
       "previous": "1d0a5f46-0a97-11ea-896e-02420a010068"
      },
      {
       "current": "1d0a60cc-0a97-11ea-896e-02420a010068",
       "next": "1d0a62a2-0a97-11ea-896e-02420a010068",
       "previous": "1d0a579e-0a97-11ea-896e-02420a010068"
      }
     ],
     "next": "5b2b68b2-0c16-11ea-aa17-02420a010068",
     "previous": "5b2b65b0-0c16-11ea-aa17-02420a010068"
    }
   },
   "source": [
    "###  辞書を使った繰り返し（教科書P59）"
   ]
  },
  {
   "cell_type": "markdown",
   "metadata": {
    "lc_cell_meme": {
     "current": "5b2b68b2-0c16-11ea-aa17-02420a010068",
     "execution_end_time": "2019-10-18T01:16:45.811366Z",
     "history": [
      {
       "current": "e305d6e2-f144-11e9-a8bb-02420a010068",
       "next": "e305da02-f144-11e9-a8bb-02420a010068",
       "previous": "9b752f3a-f144-11e9-a8bb-02420a010068"
      },
      {
       "current": "e305d6e2-f144-11e9-a8bb-02420a010068",
       "next": "e305da02-f144-11e9-a8bb-02420a010068",
       "previous": "9b753200-f144-11e9-a8bb-02420a010068"
      },
      {
       "current": "e305d6e2-f144-11e9-a8bb-02420a010068",
       "next": "73fd80d4-f5e9-11e9-a8bb-02420a010068",
       "previous": "9b753200-f144-11e9-a8bb-02420a010068"
      },
      {
       "current": "e305d6e2-f144-11e9-a8bb-02420a010068",
       "next": "73fd80d4-f5e9-11e9-a8bb-02420a010068",
       "previous": "84e22fe4-f148-11e9-a8bb-02420a010068"
      },
      {
       "current": "e305d6e2-f144-11e9-a8bb-02420a010068",
       "next": "e305da02-f144-11e9-a8bb-02420a010068",
       "previous": "73fd80d4-f5e9-11e9-a8bb-02420a010068"
      },
      {
       "current": "e305d6e2-f144-11e9-a8bb-02420a010068",
       "next": "73fd80d4-f5e9-11e9-a8bb-02420a010068",
       "previous": "84e22fe4-f148-11e9-a8bb-02420a010068"
      },
      {
       "current": "1d0a62a2-0a97-11ea-896e-02420a010068",
       "next": "1d0a648c-0a97-11ea-896e-02420a010068",
       "previous": "1d0a60cc-0a97-11ea-896e-02420a010068"
      }
     ],
     "next": "5b2b6a24-0c16-11ea-aa17-02420a010068",
     "previous": "5b2b6736-0c16-11ea-aa17-02420a010068"
    },
    "lc_wrapper": {
     "log_history": [
      "/home/14999410x94c69e/05a/.log/20191018/20191018-101645-0786.log"
     ]
    }
   },
   "source": [
    "○演習：次のセルで辞書$p\\_cap$で、「都道府県」と「都道府県庁所在地」が同じ都道府県を「都市名、都道府県名」の形式で全て表示しなさい。\n",
    "\n",
    "\n"
   ]
  },
  {
   "cell_type": "code",
   "execution_count": null,
   "metadata": {
    "lc_cell_meme": {
     "current": "5b2b6a24-0c16-11ea-aa17-02420a010068",
     "history": [
      {
       "current": "73fd80d4-f5e9-11e9-a8bb-02420a010068",
       "next": "e305da02-f144-11e9-a8bb-02420a010068",
       "previous": "e305d6e2-f144-11e9-a8bb-02420a010068"
      },
      {
       "current": "1d0a648c-0a97-11ea-896e-02420a010068",
       "next": "1d0a65fe-0a97-11ea-896e-02420a010068",
       "previous": "1d0a62a2-0a97-11ea-896e-02420a010068"
      },
      {
       "current": "1d0a648c-0a97-11ea-896e-02420a010068",
       "next": "1d0a6748-0a97-11ea-896e-02420a010068",
       "previous": "1d0a62a2-0a97-11ea-896e-02420a010068"
      }
     ],
     "next": "5b2b6baa-0c16-11ea-aa17-02420a010068",
     "previous": "5b2b68b2-0c16-11ea-aa17-02420a010068"
    }
   },
   "outputs": [],
   "source": [
    "# 演習用入力欄(要修正)\n",
    "for pref in ???:\n",
    "    if pref == ???[???]:\n",
    "        print (???[???] , ??? )"
   ]
  },
  {
   "cell_type": "markdown",
   "metadata": {
    "lc_cell_meme": {
     "current": "5b2b6baa-0c16-11ea-aa17-02420a010068",
     "history": [
      {
       "current": "73647cfa-f3c7-11e9-a8bb-02420a010068",
       "next": "9b753200-f144-11e9-a8bb-02420a010068",
       "previous": "e305da02-f144-11e9-a8bb-02420a010068"
      },
      {
       "current": "73647cfa-f3c7-11e9-a8bb-02420a010068",
       "next": "9b75334a-f144-11e9-a8bb-02420a010068",
       "previous": "e305da02-f144-11e9-a8bb-02420a010068"
      },
      {
       "current": "73647cfa-f3c7-11e9-a8bb-02420a010068",
       "next": "84e22fe4-f148-11e9-a8bb-02420a010068",
       "previous": "e305da02-f144-11e9-a8bb-02420a010068"
      },
      {
       "current": "73647cfa-f3c7-11e9-a8bb-02420a010068",
       "next": "0c6caf52-f144-11e9-a8bb-02420a010068",
       "previous": "e305da02-f144-11e9-a8bb-02420a010068"
      },
      {
       "current": "1d0a6748-0a97-11ea-896e-02420a010068",
       "next": "1d0a68ba-0a97-11ea-896e-02420a010068",
       "previous": "1d0a65fe-0a97-11ea-896e-02420a010068"
      },
      {
       "current": "1d0a6748-0a97-11ea-896e-02420a010068",
       "next": "1d0a68ba-0a97-11ea-896e-02420a010068",
       "previous": "1d0a648c-0a97-11ea-896e-02420a010068"
      }
     ],
     "next": "5b2b6d3a-0c16-11ea-aa17-02420a010068",
     "previous": "5b2b6a24-0c16-11ea-aa17-02420a010068"
    }
   },
   "source": [
    "ヒント:  以下になれば正解\n",
    "\n",
    "Fukushima Fukushima<BR>\n",
    "Osaka Osaka<BR>\n",
    "Nagasaki Nagasaki<BR>\n",
    "Hiroshima Hiroshima<BR>\n"
   ]
  },
  {
   "cell_type": "markdown",
   "metadata": {
    "lc_cell_meme": {
     "current": "5b2b6d3a-0c16-11ea-aa17-02420a010068",
     "history": [
      {
       "current": "0c6caf52-f144-11e9-a8bb-02420a010068",
       "next": "0c6cb11e-f144-11e9-a8bb-02420a010068",
       "previous": "0c6cad18-f144-11e9-a8bb-02420a010068"
      },
      {
       "current": "0c6caf52-f144-11e9-a8bb-02420a010068",
       "next": "0c6cb11e-f144-11e9-a8bb-02420a010068",
       "previous": "53eefc90-f144-11e9-a8bb-02420a010068"
      },
      {
       "current": "0c6caf52-f144-11e9-a8bb-02420a010068",
       "next": "0c6cb11e-f144-11e9-a8bb-02420a010068",
       "previous": "e305dc8c-f144-11e9-a8bb-02420a010068"
      },
      {
       "current": "0c6caf52-f144-11e9-a8bb-02420a010068",
       "next": "9b75334a-f144-11e9-a8bb-02420a010068",
       "previous": "e305dc8c-f144-11e9-a8bb-02420a010068"
      },
      {
       "current": "0c6caf52-f144-11e9-a8bb-02420a010068",
       "next": "9b75334a-f144-11e9-a8bb-02420a010068",
       "previous": "1337a826-f182-11e9-a8bb-02420a010068"
      },
      {
       "current": "0c6caf52-f144-11e9-a8bb-02420a010068",
       "next": "9b75334a-f144-11e9-a8bb-02420a010068",
       "previous": "f71e8c46-f3c9-11e9-a8bb-02420a010068"
      },
      {
       "current": "0c6caf52-f144-11e9-a8bb-02420a010068",
       "next": "9b75334a-f144-11e9-a8bb-02420a010068",
       "previous": "84e2328c-f148-11e9-a8bb-02420a010068"
      },
      {
       "current": "0c6caf52-f144-11e9-a8bb-02420a010068",
       "next": "9b75334a-f144-11e9-a8bb-02420a010068",
       "previous": "84e22fe4-f148-11e9-a8bb-02420a010068"
      },
      {
       "current": "0c6caf52-f144-11e9-a8bb-02420a010068",
       "next": "9b75334a-f144-11e9-a8bb-02420a010068",
       "previous": "73647cfa-f3c7-11e9-a8bb-02420a010068"
      },
      {
       "current": "1d0a68ba-0a97-11ea-896e-02420a010068",
       "next": "1d0a6ac2-0a97-11ea-896e-02420a010068",
       "previous": "1d0a6748-0a97-11ea-896e-02420a010068"
      }
     ],
     "next": "5b2b6e84-0c16-11ea-aa17-02420a010068",
     "previous": "5b2b6baa-0c16-11ea-aa17-02420a010068"
    }
   },
   "source": [
    "# 関数"
   ]
  },
  {
   "cell_type": "markdown",
   "metadata": {
    "lc_cell_meme": {
     "current": "5b2b6e84-0c16-11ea-aa17-02420a010068",
     "history": [
      {
       "current": "9b75334a-f144-11e9-a8bb-02420a010068",
       "next": "53eefc90-f144-11e9-a8bb-02420a010068",
       "previous": "53eefb28-f144-11e9-a8bb-02420a010068"
      },
      {
       "current": "9b75334a-f144-11e9-a8bb-02420a010068",
       "next": "e305dc8c-f144-11e9-a8bb-02420a010068",
       "previous": "e305db60-f144-11e9-a8bb-02420a010068"
      },
      {
       "current": "9b75334a-f144-11e9-a8bb-02420a010068",
       "next": "9b75334a-f144-11e9-a8bb-02420a010068",
       "previous": "0c6caf52-f144-11e9-a8bb-02420a010068"
      },
      {
       "current": "9b75334a-f144-11e9-a8bb-02420a010068",
       "next": "9b75334a-f144-11e9-a8bb-02420a010068",
       "previous": "9b75334a-f144-11e9-a8bb-02420a010068"
      },
      {
       "current": "9b75334a-f144-11e9-a8bb-02420a010068",
       "next": "9b75334a-f144-11e9-a8bb-02420a010068",
       "previous": "0c6caf52-f144-11e9-a8bb-02420a010068"
      },
      {
       "current": "9b75334a-f144-11e9-a8bb-02420a010068",
       "next": "1337a826-f182-11e9-a8bb-02420a010068",
       "previous": "0c6caf52-f144-11e9-a8bb-02420a010068"
      },
      {
       "current": "9b75334a-f144-11e9-a8bb-02420a010068",
       "next": "e305d6e2-f144-11e9-a8bb-02420a010068",
       "previous": "0c6caf52-f144-11e9-a8bb-02420a010068"
      },
      {
       "current": "9b75334a-f144-11e9-a8bb-02420a010068",
       "next": "628b53dc-0780-11ea-a8bb-02420a010068",
       "previous": "0c6caf52-f144-11e9-a8bb-02420a010068"
      },
      {
       "current": "1d0a6ac2-0a97-11ea-896e-02420a010068",
       "next": "1d0a6c16-0a97-11ea-896e-02420a010068",
       "previous": "1d0a68ba-0a97-11ea-896e-02420a010068"
      }
     ],
     "next": "5b2b7000-0c16-11ea-aa17-02420a010068",
     "previous": "5b2b6d3a-0c16-11ea-aa17-02420a010068"
    }
   },
   "source": [
    "## 関数の定義"
   ]
  },
  {
   "cell_type": "markdown",
   "metadata": {
    "lc_cell_meme": {
     "current": "5b2b7000-0c16-11ea-aa17-02420a010068",
     "history": [
      {
       "current": "628b53dc-0780-11ea-a8bb-02420a010068",
       "next": "e305d6e2-f144-11e9-a8bb-02420a010068",
       "previous": "9b75334a-f144-11e9-a8bb-02420a010068"
      },
      {
       "current": "1d0a6c16-0a97-11ea-896e-02420a010068",
       "next": "1d0a6d7e-0a97-11ea-896e-02420a010068",
       "previous": "1d0a6ac2-0a97-11ea-896e-02420a010068"
      }
     ],
     "next": "5b2b714a-0c16-11ea-aa17-02420a010068",
     "previous": "5b2b6e84-0c16-11ea-aa17-02420a010068"
    }
   },
   "source": [
    "### 簡単な関数定義（教科書P63-）"
   ]
  },
  {
   "cell_type": "markdown",
   "metadata": {
    "lc_cell_meme": {
     "current": "5b2b714a-0c16-11ea-aa17-02420a010068",
     "execution_end_time": "2019-10-18T01:16:45.811366Z",
     "history": [
      {
       "current": "e305d6e2-f144-11e9-a8bb-02420a010068",
       "next": "e305da02-f144-11e9-a8bb-02420a010068",
       "previous": "9b752f3a-f144-11e9-a8bb-02420a010068"
      },
      {
       "current": "e305d6e2-f144-11e9-a8bb-02420a010068",
       "next": "e305da02-f144-11e9-a8bb-02420a010068",
       "previous": "9b753200-f144-11e9-a8bb-02420a010068"
      },
      {
       "current": "e305d6e2-f144-11e9-a8bb-02420a010068",
       "next": "73fd80d4-f5e9-11e9-a8bb-02420a010068",
       "previous": "9b753200-f144-11e9-a8bb-02420a010068"
      },
      {
       "current": "e305d6e2-f144-11e9-a8bb-02420a010068",
       "next": "73fd80d4-f5e9-11e9-a8bb-02420a010068",
       "previous": "9b75334a-f144-11e9-a8bb-02420a010068"
      },
      {
       "current": "e305d6e2-f144-11e9-a8bb-02420a010068",
       "next": "73fd80d4-f5e9-11e9-a8bb-02420a010068",
       "previous": "628b53dc-0780-11ea-a8bb-02420a010068"
      },
      {
       "current": "1d0a6d7e-0a97-11ea-896e-02420a010068",
       "next": "1d0a6ec8-0a97-11ea-896e-02420a010068",
       "previous": "1d0a6c16-0a97-11ea-896e-02420a010068"
      }
     ],
     "next": "5b2b72da-0c16-11ea-aa17-02420a010068",
     "previous": "5b2b7000-0c16-11ea-aa17-02420a010068"
    },
    "lc_wrapper": {
     "log_history": [
      "/home/14999410x94c69e/05a/.log/20191018/20191018-101645-0786.log"
     ]
    }
   },
   "source": [
    "○演習：次のセルで、以下の式を満す関数$func1()$を定義しなさい。\n",
    "\n",
    "1. 引数$x$が正の数ならば、$x^3$を返す\n",
    "1. それ以外なら、$x^2$を返す\n"
   ]
  },
  {
   "cell_type": "code",
   "execution_count": null,
   "metadata": {
    "lc_cell_meme": {
     "current": "5b2b72da-0c16-11ea-aa17-02420a010068",
     "history": [
      {
       "current": "73fd80d4-f5e9-11e9-a8bb-02420a010068",
       "next": "e305da02-f144-11e9-a8bb-02420a010068",
       "previous": "e305d6e2-f144-11e9-a8bb-02420a010068"
      },
      {
       "current": "1d0a6ec8-0a97-11ea-896e-02420a010068",
       "next": "1d0a703a-0a97-11ea-896e-02420a010068",
       "previous": "1d0a6d7e-0a97-11ea-896e-02420a010068"
      },
      {
       "current": "1d0a6ec8-0a97-11ea-896e-02420a010068",
       "next": "1d0a717a-0a97-11ea-896e-02420a010068",
       "previous": "1d0a6d7e-0a97-11ea-896e-02420a010068"
      }
     ],
     "next": "5b2b742e-0c16-11ea-aa17-02420a010068",
     "previous": "5b2b714a-0c16-11ea-aa17-02420a010068"
    }
   },
   "outputs": [],
   "source": [
    "# 演習用入力欄\n",
    "def func1(x):\n",
    "    ???\n",
    "    ???\n",
    "    ???\n",
    "    ???\n",
    "    ???"
   ]
  },
  {
   "cell_type": "markdown",
   "metadata": {
    "lc_cell_meme": {
     "current": "5b2b742e-0c16-11ea-aa17-02420a010068",
     "history": [
      {
       "current": "628b567a-0780-11ea-a8bb-02420a010068",
       "next": "1aeaa834-0780-11ea-a8bb-02420a010068",
       "previous": "e305da02-f144-11e9-a8bb-02420a010068"
      },
      {
       "current": "1d0a717a-0a97-11ea-896e-02420a010068",
       "next": "1d0a72f6-0a97-11ea-896e-02420a010068",
       "previous": "1d0a703a-0a97-11ea-896e-02420a010068"
      },
      {
       "current": "1d0a717a-0a97-11ea-896e-02420a010068",
       "next": "1d0a72f6-0a97-11ea-896e-02420a010068",
       "previous": "1d0a6ec8-0a97-11ea-896e-02420a010068"
      }
     ],
     "next": "5b2b7578-0c16-11ea-aa17-02420a010068",
     "previous": "5b2b72da-0c16-11ea-aa17-02420a010068"
    }
   },
   "source": [
    "$func1(20)$を計算しなさい"
   ]
  },
  {
   "cell_type": "code",
   "execution_count": null,
   "metadata": {
    "lc_cell_meme": {
     "current": "5b2b7578-0c16-11ea-aa17-02420a010068",
     "history": [
      {
       "current": "1aeaa834-0780-11ea-a8bb-02420a010068",
       "next": "d35e5a24-077f-11ea-a8bb-02420a010068",
       "previous": "e305da02-f144-11e9-a8bb-02420a010068"
      },
      {
       "current": "1aeaa834-0780-11ea-a8bb-02420a010068",
       "next": "d35e5a24-077f-11ea-a8bb-02420a010068",
       "previous": "628b567a-0780-11ea-a8bb-02420a010068"
      },
      {
       "current": "1d0a72f6-0a97-11ea-896e-02420a010068",
       "next": "1d0a7436-0a97-11ea-896e-02420a010068",
       "previous": "1d0a717a-0a97-11ea-896e-02420a010068"
      },
      {
       "current": "1d0a72f6-0a97-11ea-896e-02420a010068",
       "next": "1d0a75a8-0a97-11ea-896e-02420a010068",
       "previous": "1d0a717a-0a97-11ea-896e-02420a010068"
      }
     ],
     "next": "5b2b76f4-0c16-11ea-aa17-02420a010068",
     "previous": "5b2b742e-0c16-11ea-aa17-02420a010068"
    }
   },
   "outputs": [],
   "source": [
    "# 演習用入力欄\n"
   ]
  },
  {
   "cell_type": "markdown",
   "metadata": {
    "lc_cell_meme": {
     "current": "5b2b76f4-0c16-11ea-aa17-02420a010068",
     "history": [
      {
       "current": "73647cfa-f3c7-11e9-a8bb-02420a010068",
       "next": "9b753200-f144-11e9-a8bb-02420a010068",
       "previous": "e305da02-f144-11e9-a8bb-02420a010068"
      },
      {
       "current": "73647cfa-f3c7-11e9-a8bb-02420a010068",
       "next": "9b75334a-f144-11e9-a8bb-02420a010068",
       "previous": "e305da02-f144-11e9-a8bb-02420a010068"
      },
      {
       "current": "73647cfa-f3c7-11e9-a8bb-02420a010068",
       "next": "d8f12a80-06b6-11ea-a8bb-02420a010068",
       "previous": "e305da02-f144-11e9-a8bb-02420a010068"
      },
      {
       "current": "73647cfa-f3c7-11e9-a8bb-02420a010068",
       "next": "d8f12a80-06b6-11ea-a8bb-02420a010068",
       "previous": "d35e5a24-077f-11ea-a8bb-02420a010068"
      },
      {
       "current": "73647cfa-f3c7-11e9-a8bb-02420a010068",
       "next": "628b57ba-0780-11ea-a8bb-02420a010068",
       "previous": "d35e5a24-077f-11ea-a8bb-02420a010068"
      },
      {
       "current": "1d0a75a8-0a97-11ea-896e-02420a010068",
       "next": "1d0a76e8-0a97-11ea-896e-02420a010068",
       "previous": "1d0a7436-0a97-11ea-896e-02420a010068"
      },
      {
       "current": "1d0a75a8-0a97-11ea-896e-02420a010068",
       "next": "1d0a76e8-0a97-11ea-896e-02420a010068",
       "previous": "1d0a72f6-0a97-11ea-896e-02420a010068"
      }
     ],
     "next": "5b2b799c-0c16-11ea-aa17-02420a010068",
     "previous": "5b2b7578-0c16-11ea-aa17-02420a010068"
    }
   },
   "source": [
    "ヒント\n",
    "\n",
    "$8000 $になれば正解"
   ]
  },
  {
   "cell_type": "markdown",
   "metadata": {
    "lc_cell_meme": {
     "current": "5b2b799c-0c16-11ea-aa17-02420a010068",
     "history": [
      {
       "current": "628b57ba-0780-11ea-a8bb-02420a010068",
       "next": "1aeaa834-0780-11ea-a8bb-02420a010068",
       "previous": "73647cfa-f3c7-11e9-a8bb-02420a010068"
      },
      {
       "current": "1d0a76e8-0a97-11ea-896e-02420a010068",
       "next": "1d0a7828-0a97-11ea-896e-02420a010068",
       "previous": "1d0a75a8-0a97-11ea-896e-02420a010068"
      }
     ],
     "next": "5b2b7b22-0c16-11ea-aa17-02420a010068",
     "previous": "5b2b76f4-0c16-11ea-aa17-02420a010068"
    }
   },
   "source": [
    "$func1(-6)$を計算しなさい"
   ]
  },
  {
   "cell_type": "code",
   "execution_count": null,
   "metadata": {
    "lc_cell_meme": {
     "current": "5b2b7b22-0c16-11ea-aa17-02420a010068",
     "history": [
      {
       "current": "1aeaa834-0780-11ea-a8bb-02420a010068",
       "next": "d35e5a24-077f-11ea-a8bb-02420a010068",
       "previous": "e305da02-f144-11e9-a8bb-02420a010068"
      },
      {
       "current": "1aeaa834-0780-11ea-a8bb-02420a010068",
       "next": "d35e5a24-077f-11ea-a8bb-02420a010068",
       "previous": "628b57ba-0780-11ea-a8bb-02420a010068"
      },
      {
       "current": "1d0a7828-0a97-11ea-896e-02420a010068",
       "next": "1d0a799a-0a97-11ea-896e-02420a010068",
       "previous": "1d0a76e8-0a97-11ea-896e-02420a010068"
      },
      {
       "current": "1d0a7828-0a97-11ea-896e-02420a010068",
       "next": "1d0a7b0c-0a97-11ea-896e-02420a010068",
       "previous": "1d0a76e8-0a97-11ea-896e-02420a010068"
      }
     ],
     "next": "5b2b7cee-0c16-11ea-aa17-02420a010068",
     "previous": "5b2b799c-0c16-11ea-aa17-02420a010068"
    }
   },
   "outputs": [],
   "source": [
    "# 演習用入力欄\n"
   ]
  },
  {
   "cell_type": "markdown",
   "metadata": {
    "lc_cell_meme": {
     "current": "5b2b7cee-0c16-11ea-aa17-02420a010068",
     "history": [
      {
       "current": "73647cfa-f3c7-11e9-a8bb-02420a010068",
       "next": "9b753200-f144-11e9-a8bb-02420a010068",
       "previous": "e305da02-f144-11e9-a8bb-02420a010068"
      },
      {
       "current": "73647cfa-f3c7-11e9-a8bb-02420a010068",
       "next": "9b75334a-f144-11e9-a8bb-02420a010068",
       "previous": "e305da02-f144-11e9-a8bb-02420a010068"
      },
      {
       "current": "73647cfa-f3c7-11e9-a8bb-02420a010068",
       "next": "d8f12a80-06b6-11ea-a8bb-02420a010068",
       "previous": "e305da02-f144-11e9-a8bb-02420a010068"
      },
      {
       "current": "73647cfa-f3c7-11e9-a8bb-02420a010068",
       "next": "d8f12a80-06b6-11ea-a8bb-02420a010068",
       "previous": "d35e5a24-077f-11ea-a8bb-02420a010068"
      },
      {
       "current": "73647cfa-f3c7-11e9-a8bb-02420a010068",
       "next": "628b53dc-0780-11ea-a8bb-02420a010068",
       "previous": "d35e5a24-077f-11ea-a8bb-02420a010068"
      },
      {
       "current": "1d0a7b0c-0a97-11ea-896e-02420a010068",
       "next": "1d0a7c56-0a97-11ea-896e-02420a010068",
       "previous": "1d0a799a-0a97-11ea-896e-02420a010068"
      },
      {
       "current": "1d0a7b0c-0a97-11ea-896e-02420a010068",
       "next": "1d0a7c56-0a97-11ea-896e-02420a010068",
       "previous": "1d0a7828-0a97-11ea-896e-02420a010068"
      }
     ],
     "next": "5b2b7e7e-0c16-11ea-aa17-02420a010068",
     "previous": "5b2b7b22-0c16-11ea-aa17-02420a010068"
    }
   },
   "source": [
    "ヒント\n",
    "\n",
    "$36$になれば正解"
   ]
  },
  {
   "cell_type": "markdown",
   "metadata": {
    "lc_cell_meme": {
     "current": "5b2b7e7e-0c16-11ea-aa17-02420a010068",
     "history": [
      {
       "current": "628b53dc-0780-11ea-a8bb-02420a010068",
       "next": "e305d6e2-f144-11e9-a8bb-02420a010068",
       "previous": "9b75334a-f144-11e9-a8bb-02420a010068"
      },
      {
       "current": "628b53dc-0780-11ea-a8bb-02420a010068",
       "next": "e305d6e2-f144-11e9-a8bb-02420a010068",
       "previous": "73647cfa-f3c7-11e9-a8bb-02420a010068"
      },
      {
       "current": "1d0a7c56-0a97-11ea-896e-02420a010068",
       "next": "1d0a7d96-0a97-11ea-896e-02420a010068",
       "previous": "1d0a7b0c-0a97-11ea-896e-02420a010068"
      }
     ],
     "next": "5b2b800e-0c16-11ea-aa17-02420a010068",
     "previous": "5b2b7cee-0c16-11ea-aa17-02420a010068"
    }
   },
   "source": [
    "### ユークリッド距離の計算（関数定義については教科書P63-）"
   ]
  },
  {
   "cell_type": "markdown",
   "metadata": {
    "lc_cell_meme": {
     "current": "5b2b800e-0c16-11ea-aa17-02420a010068",
     "execution_end_time": "2019-10-18T01:16:45.811366Z",
     "history": [
      {
       "current": "e305d6e2-f144-11e9-a8bb-02420a010068",
       "next": "e305da02-f144-11e9-a8bb-02420a010068",
       "previous": "9b752f3a-f144-11e9-a8bb-02420a010068"
      },
      {
       "current": "e305d6e2-f144-11e9-a8bb-02420a010068",
       "next": "e305da02-f144-11e9-a8bb-02420a010068",
       "previous": "9b753200-f144-11e9-a8bb-02420a010068"
      },
      {
       "current": "e305d6e2-f144-11e9-a8bb-02420a010068",
       "next": "73fd80d4-f5e9-11e9-a8bb-02420a010068",
       "previous": "9b753200-f144-11e9-a8bb-02420a010068"
      },
      {
       "current": "e305d6e2-f144-11e9-a8bb-02420a010068",
       "next": "73fd80d4-f5e9-11e9-a8bb-02420a010068",
       "previous": "9b75334a-f144-11e9-a8bb-02420a010068"
      },
      {
       "current": "e305d6e2-f144-11e9-a8bb-02420a010068",
       "next": "73fd80d4-f5e9-11e9-a8bb-02420a010068",
       "previous": "628b53dc-0780-11ea-a8bb-02420a010068"
      },
      {
       "current": "1d0a7d96-0a97-11ea-896e-02420a010068",
       "next": "1d0a7efe-0a97-11ea-896e-02420a010068",
       "previous": "1d0a7c56-0a97-11ea-896e-02420a010068"
      }
     ],
     "next": "5b2b8194-0c16-11ea-aa17-02420a010068",
     "previous": "5b2b7e7e-0c16-11ea-aa17-02420a010068"
    },
    "lc_wrapper": {
     "log_history": [
      "/home/14999410x94c69e/05a/.log/20191018/20191018-101645-0786.log"
     ]
    }
   },
   "source": [
    "○演習：次のセルで、座標$p1$と座標$p2$のユークリッド距離を求める関数$distance(x1, y1, x2, y2)$を定義しなさい。\n",
    "\n",
    "ただし、引数としてp1の座標($x_1$, $y_1$),およびp2の座標($x_2$, $y_2$)が与えられるとものとします。\n",
    "\n",
    "また、座標$(x_1, y_1)$と座標$(x_2, y_2)$のユークリッド距離$d$は次の式で求められるものとします。\n",
    "\n",
    "$$\n",
    "  d = \\sqrt{(x_1 - x_2)^2 + (y_1 - y_2)^2}\n",
    "$$\n",
    "\n",
    "![title](fig01.png)"
   ]
  },
  {
   "cell_type": "code",
   "execution_count": null,
   "metadata": {
    "lc_cell_meme": {
     "current": "5b2b8194-0c16-11ea-aa17-02420a010068",
     "history": [
      {
       "current": "73fd80d4-f5e9-11e9-a8bb-02420a010068",
       "next": "e305da02-f144-11e9-a8bb-02420a010068",
       "previous": "e305d6e2-f144-11e9-a8bb-02420a010068"
      },
      {
       "current": "1d0a7efe-0a97-11ea-896e-02420a010068",
       "next": "1d0a8070-0a97-11ea-896e-02420a010068",
       "previous": "1d0a7d96-0a97-11ea-896e-02420a010068"
      },
      {
       "current": "1d0a7efe-0a97-11ea-896e-02420a010068",
       "next": "39880f0e-0b6b-11ea-a8bb-02420a010068",
       "previous": "1d0a7d96-0a97-11ea-896e-02420a010068"
      }
     ],
     "next": "5b2b831a-0c16-11ea-aa17-02420a010068",
     "previous": "5b2b800e-0c16-11ea-aa17-02420a010068"
    },
    "lc_wrapper": {
     "log_history": [
      "/home/14999410x94c69e/08a/.log/20191120/20191120-162810-0584.log"
     ]
    }
   },
   "outputs": [],
   "source": [
    "# 演習用入力欄(要修正)\n",
    "\n",
    "import math\n",
    "def distance(x1, y1, x2, y2):\n",
    "    d = ????\n",
    "    return d"
   ]
  },
  {
   "cell_type": "markdown",
   "metadata": {
    "lc_cell_meme": {
     "current": "5b2b831a-0c16-11ea-aa17-02420a010068",
     "history": [
      {
       "current": "39880f0e-0b6b-11ea-a8bb-02420a010068",
       "next": "1d0a8070-0a97-11ea-896e-02420a010068",
       "previous": "1d0a7efe-0a97-11ea-896e-02420a010068"
      },
      {
       "current": "39880f0e-0b6b-11ea-a8bb-02420a010068",
       "next": "1d0a81b0-0a97-11ea-896e-02420a010068",
       "previous": "1d0a7efe-0a97-11ea-896e-02420a010068"
      }
     ],
     "next": "5b2b855e-0c16-11ea-aa17-02420a010068",
     "previous": "5b2b8194-0c16-11ea-aa17-02420a010068"
    }
   },
   "source": [
    "ヒント：平方根を求める関数は教科書P.19を参照すること。"
   ]
  },
  {
   "cell_type": "markdown",
   "metadata": {
    "lc_cell_meme": {
     "current": "5b2b855e-0c16-11ea-aa17-02420a010068",
     "history": [
      {
       "current": "628b567a-0780-11ea-a8bb-02420a010068",
       "next": "1aeaa834-0780-11ea-a8bb-02420a010068",
       "previous": "e305da02-f144-11e9-a8bb-02420a010068"
      },
      {
       "current": "1d0a81b0-0a97-11ea-896e-02420a010068",
       "next": "1d0a8322-0a97-11ea-896e-02420a010068",
       "previous": "1d0a8070-0a97-11ea-896e-02420a010068"
      },
      {
       "current": "1d0a81b0-0a97-11ea-896e-02420a010068",
       "next": "1d0a8322-0a97-11ea-896e-02420a010068",
       "previous": "39880f0e-0b6b-11ea-a8bb-02420a010068"
      }
     ],
     "next": "5b2b86a8-0c16-11ea-aa17-02420a010068",
     "previous": "5b2b831a-0c16-11ea-aa17-02420a010068"
    }
   },
   "source": [
    "$distance()$を使って、座標$(0,0)$と座標$(10,10)$のユークリッド距離を計算しなさい"
   ]
  },
  {
   "cell_type": "code",
   "execution_count": null,
   "metadata": {
    "lc_cell_meme": {
     "current": "5b2b86a8-0c16-11ea-aa17-02420a010068",
     "history": [
      {
       "current": "1aeaa834-0780-11ea-a8bb-02420a010068",
       "next": "d35e5a24-077f-11ea-a8bb-02420a010068",
       "previous": "e305da02-f144-11e9-a8bb-02420a010068"
      },
      {
       "current": "1aeaa834-0780-11ea-a8bb-02420a010068",
       "next": "d35e5a24-077f-11ea-a8bb-02420a010068",
       "previous": "628b567a-0780-11ea-a8bb-02420a010068"
      },
      {
       "current": "1d0a8322-0a97-11ea-896e-02420a010068",
       "next": "1d0a8494-0a97-11ea-896e-02420a010068",
       "previous": "1d0a81b0-0a97-11ea-896e-02420a010068"
      },
      {
       "current": "1d0a8322-0a97-11ea-896e-02420a010068",
       "next": "1d0a85fc-0a97-11ea-896e-02420a010068",
       "previous": "1d0a81b0-0a97-11ea-896e-02420a010068"
      }
     ],
     "next": "5b2b87fc-0c16-11ea-aa17-02420a010068",
     "previous": "5b2b855e-0c16-11ea-aa17-02420a010068"
    }
   },
   "outputs": [],
   "source": [
    "# 演習用入力欄\n"
   ]
  },
  {
   "cell_type": "markdown",
   "metadata": {
    "lc_cell_meme": {
     "current": "5b2b87fc-0c16-11ea-aa17-02420a010068",
     "history": [
      {
       "current": "73647cfa-f3c7-11e9-a8bb-02420a010068",
       "next": "9b753200-f144-11e9-a8bb-02420a010068",
       "previous": "e305da02-f144-11e9-a8bb-02420a010068"
      },
      {
       "current": "73647cfa-f3c7-11e9-a8bb-02420a010068",
       "next": "9b75334a-f144-11e9-a8bb-02420a010068",
       "previous": "e305da02-f144-11e9-a8bb-02420a010068"
      },
      {
       "current": "73647cfa-f3c7-11e9-a8bb-02420a010068",
       "next": "d8f12a80-06b6-11ea-a8bb-02420a010068",
       "previous": "e305da02-f144-11e9-a8bb-02420a010068"
      },
      {
       "current": "73647cfa-f3c7-11e9-a8bb-02420a010068",
       "next": "d8f12a80-06b6-11ea-a8bb-02420a010068",
       "previous": "d35e5a24-077f-11ea-a8bb-02420a010068"
      },
      {
       "current": "73647cfa-f3c7-11e9-a8bb-02420a010068",
       "next": "628b57ba-0780-11ea-a8bb-02420a010068",
       "previous": "d35e5a24-077f-11ea-a8bb-02420a010068"
      },
      {
       "current": "1d0a85fc-0a97-11ea-896e-02420a010068",
       "next": "1d0a873c-0a97-11ea-896e-02420a010068",
       "previous": "1d0a8494-0a97-11ea-896e-02420a010068"
      },
      {
       "current": "1d0a85fc-0a97-11ea-896e-02420a010068",
       "next": "1d0a873c-0a97-11ea-896e-02420a010068",
       "previous": "1d0a8322-0a97-11ea-896e-02420a010068"
      }
     ],
     "next": "5b2b89aa-0c16-11ea-aa17-02420a010068",
     "previous": "5b2b86a8-0c16-11ea-aa17-02420a010068"
    }
   },
   "source": [
    "ヒント\n",
    "\n",
    "$14.142135623730951$になれば正解"
   ]
  },
  {
   "cell_type": "markdown",
   "metadata": {
    "lc_cell_meme": {
     "current": "5b2b89aa-0c16-11ea-aa17-02420a010068",
     "history": [
      {
       "current": "628b57ba-0780-11ea-a8bb-02420a010068",
       "next": "1aeaa834-0780-11ea-a8bb-02420a010068",
       "previous": "73647cfa-f3c7-11e9-a8bb-02420a010068"
      },
      {
       "current": "1d0a873c-0a97-11ea-896e-02420a010068",
       "next": "1d0a891c-0a97-11ea-896e-02420a010068",
       "previous": "1d0a85fc-0a97-11ea-896e-02420a010068"
      }
     ],
     "next": "5b2b8b58-0c16-11ea-aa17-02420a010068",
     "previous": "5b2b87fc-0c16-11ea-aa17-02420a010068"
    }
   },
   "source": [
    "$distance()$を使って、座標$(-1,5)$と座標$(12.5,-8.3)$のユークリッド距離を計算しなさい"
   ]
  },
  {
   "cell_type": "code",
   "execution_count": null,
   "metadata": {
    "lc_cell_meme": {
     "current": "5b2b8b58-0c16-11ea-aa17-02420a010068",
     "history": [
      {
       "current": "1aeaa834-0780-11ea-a8bb-02420a010068",
       "next": "d35e5a24-077f-11ea-a8bb-02420a010068",
       "previous": "e305da02-f144-11e9-a8bb-02420a010068"
      },
      {
       "current": "1aeaa834-0780-11ea-a8bb-02420a010068",
       "next": "d35e5a24-077f-11ea-a8bb-02420a010068",
       "previous": "628b57ba-0780-11ea-a8bb-02420a010068"
      },
      {
       "current": "1d0a891c-0a97-11ea-896e-02420a010068",
       "next": "1d0a8a98-0a97-11ea-896e-02420a010068",
       "previous": "1d0a873c-0a97-11ea-896e-02420a010068"
      },
      {
       "current": "1d0a891c-0a97-11ea-896e-02420a010068",
       "next": "1d0a8c1e-0a97-11ea-896e-02420a010068",
       "previous": "1d0a873c-0a97-11ea-896e-02420a010068"
      }
     ],
     "next": "5b2b8cac-0c16-11ea-aa17-02420a010068",
     "previous": "5b2b89aa-0c16-11ea-aa17-02420a010068"
    }
   },
   "outputs": [],
   "source": [
    "# 演習用入力欄\n"
   ]
  },
  {
   "cell_type": "markdown",
   "metadata": {
    "lc_cell_meme": {
     "current": "5b2b8cac-0c16-11ea-aa17-02420a010068",
     "history": [
      {
       "current": "73647cfa-f3c7-11e9-a8bb-02420a010068",
       "next": "9b753200-f144-11e9-a8bb-02420a010068",
       "previous": "e305da02-f144-11e9-a8bb-02420a010068"
      },
      {
       "current": "73647cfa-f3c7-11e9-a8bb-02420a010068",
       "next": "9b75334a-f144-11e9-a8bb-02420a010068",
       "previous": "e305da02-f144-11e9-a8bb-02420a010068"
      },
      {
       "current": "73647cfa-f3c7-11e9-a8bb-02420a010068",
       "next": "d8f12a80-06b6-11ea-a8bb-02420a010068",
       "previous": "e305da02-f144-11e9-a8bb-02420a010068"
      },
      {
       "current": "73647cfa-f3c7-11e9-a8bb-02420a010068",
       "next": "d8f12a80-06b6-11ea-a8bb-02420a010068",
       "previous": "d35e5a24-077f-11ea-a8bb-02420a010068"
      },
      {
       "current": "73647cfa-f3c7-11e9-a8bb-02420a010068",
       "next": "628b53dc-0780-11ea-a8bb-02420a010068",
       "previous": "d35e5a24-077f-11ea-a8bb-02420a010068"
      },
      {
       "current": "1d0a8c1e-0a97-11ea-896e-02420a010068",
       "next": "1d0a8dc2-0a97-11ea-896e-02420a010068",
       "previous": "1d0a8a98-0a97-11ea-896e-02420a010068"
      },
      {
       "current": "1d0a8c1e-0a97-11ea-896e-02420a010068",
       "next": "1d0a9ee8-0a97-11ea-896e-02420a010068",
       "previous": "1d0a8a98-0a97-11ea-896e-02420a010068"
      },
      {
       "current": "1d0a8c1e-0a97-11ea-896e-02420a010068",
       "next": "1d0a9ee8-0a97-11ea-896e-02420a010068",
       "previous": "1d0a891c-0a97-11ea-896e-02420a010068"
      }
     ],
     "next": "5b2b8e28-0c16-11ea-aa17-02420a010068",
     "previous": "5b2b8b58-0c16-11ea-aa17-02420a010068"
    }
   },
   "source": [
    "ヒント\n",
    "\n",
    "$18.95098942008042$になれば正解"
   ]
  },
  {
   "cell_type": "markdown",
   "metadata": {
    "lc_cell_meme": {
     "current": "5b2b8e28-0c16-11ea-aa17-02420a010068",
     "history": [
      {
       "current": "9b75334a-f144-11e9-a8bb-02420a010068",
       "next": "53eefc90-f144-11e9-a8bb-02420a010068",
       "previous": "53eefb28-f144-11e9-a8bb-02420a010068"
      },
      {
       "current": "9b75334a-f144-11e9-a8bb-02420a010068",
       "next": "e305dc8c-f144-11e9-a8bb-02420a010068",
       "previous": "e305db60-f144-11e9-a8bb-02420a010068"
      },
      {
       "current": "9b75334a-f144-11e9-a8bb-02420a010068",
       "next": "9b75334a-f144-11e9-a8bb-02420a010068",
       "previous": "0c6caf52-f144-11e9-a8bb-02420a010068"
      },
      {
       "current": "9b75334a-f144-11e9-a8bb-02420a010068",
       "next": "9b75334a-f144-11e9-a8bb-02420a010068",
       "previous": "9b75334a-f144-11e9-a8bb-02420a010068"
      },
      {
       "current": "9b75334a-f144-11e9-a8bb-02420a010068",
       "next": "1337aa56-f182-11e9-a8bb-02420a010068",
       "previous": "1337a826-f182-11e9-a8bb-02420a010068"
      },
      {
       "current": "9b75334a-f144-11e9-a8bb-02420a010068",
       "next": "1337aa56-f182-11e9-a8bb-02420a010068",
       "previous": "d8f12a80-06b6-11ea-a8bb-02420a010068"
      },
      {
       "current": "9b75334a-f144-11e9-a8bb-02420a010068",
       "next": "1337aa56-f182-11e9-a8bb-02420a010068",
       "previous": "73647cfa-f3c7-11e9-a8bb-02420a010068"
      },
      {
       "current": "1d0a9ee8-0a97-11ea-896e-02420a010068",
       "next": "1d0aa028-0a97-11ea-896e-02420a010068",
       "previous": "1d0a9d6c-0a97-11ea-896e-02420a010068"
      },
      {
       "current": "1d0a9ee8-0a97-11ea-896e-02420a010068",
       "next": "1d0aa028-0a97-11ea-896e-02420a010068",
       "previous": "1d0a8c1e-0a97-11ea-896e-02420a010068"
      }
     ],
     "next": "5b2b8f9a-0c16-11ea-aa17-02420a010068",
     "previous": "5b2b8cac-0c16-11ea-aa17-02420a010068"
    }
   },
   "source": [
    "## ローカル変数とグローバル変数"
   ]
  },
  {
   "cell_type": "markdown",
   "metadata": {
    "lc_cell_meme": {
     "current": "5b2b8f9a-0c16-11ea-aa17-02420a010068",
     "history": [
      {
       "current": "1337aa56-f182-11e9-a8bb-02420a010068",
       "next": "9b75334a-f144-11e9-a8bb-02420a010068",
       "previous": "9b75334a-f144-11e9-a8bb-02420a010068"
      },
      {
       "current": "1d0aa028-0a97-11ea-896e-02420a010068",
       "next": "1d0aa172-0a97-11ea-896e-02420a010068",
       "previous": "1d0a9ee8-0a97-11ea-896e-02420a010068"
      }
     ],
     "next": "5b2b9116-0c16-11ea-aa17-02420a010068",
     "previous": "5b2b8e28-0c16-11ea-aa17-02420a010068"
    }
   },
   "source": [
    "略"
   ]
  },
  {
   "cell_type": "markdown",
   "metadata": {
    "lc_cell_meme": {
     "current": "5b2b9116-0c16-11ea-aa17-02420a010068",
     "history": [
      {
       "current": "9b75334a-f144-11e9-a8bb-02420a010068",
       "next": "53eefc90-f144-11e9-a8bb-02420a010068",
       "previous": "53eefb28-f144-11e9-a8bb-02420a010068"
      },
      {
       "current": "9b75334a-f144-11e9-a8bb-02420a010068",
       "next": "e305dc8c-f144-11e9-a8bb-02420a010068",
       "previous": "e305db60-f144-11e9-a8bb-02420a010068"
      },
      {
       "current": "9b75334a-f144-11e9-a8bb-02420a010068",
       "next": "9b75334a-f144-11e9-a8bb-02420a010068",
       "previous": "0c6caf52-f144-11e9-a8bb-02420a010068"
      },
      {
       "current": "9b75334a-f144-11e9-a8bb-02420a010068",
       "next": "9b75334a-f144-11e9-a8bb-02420a010068",
       "previous": "9b75334a-f144-11e9-a8bb-02420a010068"
      },
      {
       "current": "9b75334a-f144-11e9-a8bb-02420a010068",
       "next": "9b75334a-f144-11e9-a8bb-02420a010068",
       "previous": "1337aa56-f182-11e9-a8bb-02420a010068"
      },
      {
       "current": "9b75334a-f144-11e9-a8bb-02420a010068",
       "next": "1337aa56-f182-11e9-a8bb-02420a010068",
       "previous": "1337aa56-f182-11e9-a8bb-02420a010068"
      },
      {
       "current": "9b75334a-f144-11e9-a8bb-02420a010068",
       "next": "628b53dc-0780-11ea-a8bb-02420a010068",
       "previous": "1337aa56-f182-11e9-a8bb-02420a010068"
      },
      {
       "current": "1d0aa172-0a97-11ea-896e-02420a010068",
       "next": "1d0aa2e4-0a97-11ea-896e-02420a010068",
       "previous": "1d0aa028-0a97-11ea-896e-02420a010068"
      }
     ],
     "next": "5b2b9260-0c16-11ea-aa17-02420a010068",
     "previous": "5b2b8f9a-0c16-11ea-aa17-02420a010068"
    }
   },
   "source": [
    "## 再帰関数（教科書P67）"
   ]
  },
  {
   "cell_type": "markdown",
   "metadata": {
    "lc_cell_meme": {
     "current": "5b2b9260-0c16-11ea-aa17-02420a010068",
     "history": [
      {
       "current": "628b53dc-0780-11ea-a8bb-02420a010068",
       "next": "e305d6e2-f144-11e9-a8bb-02420a010068",
       "previous": "9b75334a-f144-11e9-a8bb-02420a010068"
      },
      {
       "current": "628b53dc-0780-11ea-a8bb-02420a010068",
       "next": "e305d6e2-f144-11e9-a8bb-02420a010068",
       "previous": "73647cfa-f3c7-11e9-a8bb-02420a010068"
      },
      {
       "current": "628b53dc-0780-11ea-a8bb-02420a010068",
       "next": "e305d6e2-f144-11e9-a8bb-02420a010068",
       "previous": "1337aa56-f182-11e9-a8bb-02420a010068"
      },
      {
       "current": "628b53dc-0780-11ea-a8bb-02420a010068",
       "next": "e305d6e2-f144-11e9-a8bb-02420a010068",
       "previous": "9b75334a-f144-11e9-a8bb-02420a010068"
      },
      {
       "current": "1d0aa2e4-0a97-11ea-896e-02420a010068",
       "next": "1d0aa42e-0a97-11ea-896e-02420a010068",
       "previous": "1d0aa172-0a97-11ea-896e-02420a010068"
      }
     ],
     "next": "5b2b93b4-0c16-11ea-aa17-02420a010068",
     "previous": "5b2b9116-0c16-11ea-aa17-02420a010068"
    }
   },
   "source": [
    "### 負の数の合計を求める"
   ]
  },
  {
   "cell_type": "markdown",
   "metadata": {
    "lc_cell_meme": {
     "current": "5b2b93b4-0c16-11ea-aa17-02420a010068",
     "execution_end_time": "2019-10-18T01:16:45.811366Z",
     "history": [
      {
       "current": "e305d6e2-f144-11e9-a8bb-02420a010068",
       "next": "e305da02-f144-11e9-a8bb-02420a010068",
       "previous": "9b752f3a-f144-11e9-a8bb-02420a010068"
      },
      {
       "current": "e305d6e2-f144-11e9-a8bb-02420a010068",
       "next": "e305da02-f144-11e9-a8bb-02420a010068",
       "previous": "9b753200-f144-11e9-a8bb-02420a010068"
      },
      {
       "current": "e305d6e2-f144-11e9-a8bb-02420a010068",
       "next": "73fd80d4-f5e9-11e9-a8bb-02420a010068",
       "previous": "9b753200-f144-11e9-a8bb-02420a010068"
      },
      {
       "current": "e305d6e2-f144-11e9-a8bb-02420a010068",
       "next": "73fd80d4-f5e9-11e9-a8bb-02420a010068",
       "previous": "9b75334a-f144-11e9-a8bb-02420a010068"
      },
      {
       "current": "e305d6e2-f144-11e9-a8bb-02420a010068",
       "next": "73fd80d4-f5e9-11e9-a8bb-02420a010068",
       "previous": "628b53dc-0780-11ea-a8bb-02420a010068"
      },
      {
       "current": "e305d6e2-f144-11e9-a8bb-02420a010068",
       "next": "5415b0b0-09c2-11ea-a8bb-02420a010068",
       "previous": "628b53dc-0780-11ea-a8bb-02420a010068"
      },
      {
       "current": "e305d6e2-f144-11e9-a8bb-02420a010068",
       "next": "73fd80d4-f5e9-11e9-a8bb-02420a010068",
       "previous": "628b53dc-0780-11ea-a8bb-02420a010068"
      },
      {
       "current": "1d0aa42e-0a97-11ea-896e-02420a010068",
       "next": "1d0aa578-0a97-11ea-896e-02420a010068",
       "previous": "1d0aa2e4-0a97-11ea-896e-02420a010068"
      }
     ],
     "next": "5b2b9530-0c16-11ea-aa17-02420a010068",
     "previous": "5b2b9260-0c16-11ea-aa17-02420a010068"
    },
    "lc_wrapper": {
     "log_history": [
      "/home/14999410x94c69e/05a/.log/20191018/20191018-101645-0786.log"
     ]
    }
   },
   "source": [
    "○演習：次の式を使って、負の整数$x$に対して、$x$から$0$までの合計を再帰的に求める関数$r\\_sum()$を、定義しなさい。\n",
    "\n",
    "$$\n",
    "    r\\_sum(x)=\n",
    "        \\begin{cases}\n",
    "            x \\quad ,  x \\ge 0 \\\\\n",
    "            x + r\\_sum(x+1) , \\quad  otherwise \\\\\n",
    "        \\end{cases}\n",
    "$$\n"
   ]
  },
  {
   "cell_type": "code",
   "execution_count": null,
   "metadata": {
    "lc_cell_meme": {
     "current": "5b2b9530-0c16-11ea-aa17-02420a010068",
     "history": [
      {
       "current": "73fd80d4-f5e9-11e9-a8bb-02420a010068",
       "next": "e305da02-f144-11e9-a8bb-02420a010068",
       "previous": "e305d6e2-f144-11e9-a8bb-02420a010068"
      },
      {
       "current": "73fd80d4-f5e9-11e9-a8bb-02420a010068",
       "next": "e305da02-f144-11e9-a8bb-02420a010068",
       "previous": "5415b0b0-09c2-11ea-a8bb-02420a010068"
      },
      {
       "current": "73fd80d4-f5e9-11e9-a8bb-02420a010068",
       "next": "e305da02-f144-11e9-a8bb-02420a010068",
       "previous": "e305d6e2-f144-11e9-a8bb-02420a010068"
      },
      {
       "current": "1d0aa578-0a97-11ea-896e-02420a010068",
       "next": "1d0aa6f4-0a97-11ea-896e-02420a010068",
       "previous": "1d0aa42e-0a97-11ea-896e-02420a010068"
      },
      {
       "current": "1d0aa578-0a97-11ea-896e-02420a010068",
       "next": "1d0aa83e-0a97-11ea-896e-02420a010068",
       "previous": "1d0aa42e-0a97-11ea-896e-02420a010068"
      }
     ],
     "next": "5b2b96a2-0c16-11ea-aa17-02420a010068",
     "previous": "5b2b93b4-0c16-11ea-aa17-02420a010068"
    }
   },
   "outputs": [],
   "source": [
    "# 演習用入力欄\n"
   ]
  },
  {
   "cell_type": "markdown",
   "metadata": {
    "lc_cell_meme": {
     "current": "5b2b96a2-0c16-11ea-aa17-02420a010068",
     "history": [
      {
       "current": "628b567a-0780-11ea-a8bb-02420a010068",
       "next": "1aeaa834-0780-11ea-a8bb-02420a010068",
       "previous": "e305da02-f144-11e9-a8bb-02420a010068"
      },
      {
       "current": "1d0aa83e-0a97-11ea-896e-02420a010068",
       "next": "1d0aa9a6-0a97-11ea-896e-02420a010068",
       "previous": "1d0aa6f4-0a97-11ea-896e-02420a010068"
      },
      {
       "current": "1d0aa83e-0a97-11ea-896e-02420a010068",
       "next": "1d0aa9a6-0a97-11ea-896e-02420a010068",
       "previous": "1d0aa578-0a97-11ea-896e-02420a010068"
      }
     ],
     "next": "5b2b9832-0c16-11ea-aa17-02420a010068",
     "previous": "5b2b9530-0c16-11ea-aa17-02420a010068"
    }
   },
   "source": [
    "以下のセルで、$r\\_sum()$を使って、-10から0までの合計を求めなさい"
   ]
  },
  {
   "cell_type": "code",
   "execution_count": null,
   "metadata": {
    "lc_cell_meme": {
     "current": "5b2b9832-0c16-11ea-aa17-02420a010068",
     "history": [
      {
       "current": "1aeaa834-0780-11ea-a8bb-02420a010068",
       "next": "d35e5a24-077f-11ea-a8bb-02420a010068",
       "previous": "e305da02-f144-11e9-a8bb-02420a010068"
      },
      {
       "current": "1aeaa834-0780-11ea-a8bb-02420a010068",
       "next": "d35e5a24-077f-11ea-a8bb-02420a010068",
       "previous": "628b567a-0780-11ea-a8bb-02420a010068"
      },
      {
       "current": "1d0aa9a6-0a97-11ea-896e-02420a010068",
       "next": "1d0aaaf0-0a97-11ea-896e-02420a010068",
       "previous": "1d0aa83e-0a97-11ea-896e-02420a010068"
      },
      {
       "current": "1d0aa9a6-0a97-11ea-896e-02420a010068",
       "next": "1d0aac30-0a97-11ea-896e-02420a010068",
       "previous": "1d0aa83e-0a97-11ea-896e-02420a010068"
      }
     ],
     "next": "5b2b997c-0c16-11ea-aa17-02420a010068",
     "previous": "5b2b96a2-0c16-11ea-aa17-02420a010068"
    }
   },
   "outputs": [],
   "source": [
    "# 演習用入力欄\n"
   ]
  },
  {
   "cell_type": "markdown",
   "metadata": {
    "lc_cell_meme": {
     "current": "5b2b997c-0c16-11ea-aa17-02420a010068",
     "history": [
      {
       "current": "73647cfa-f3c7-11e9-a8bb-02420a010068",
       "next": "9b753200-f144-11e9-a8bb-02420a010068",
       "previous": "e305da02-f144-11e9-a8bb-02420a010068"
      },
      {
       "current": "73647cfa-f3c7-11e9-a8bb-02420a010068",
       "next": "9b75334a-f144-11e9-a8bb-02420a010068",
       "previous": "e305da02-f144-11e9-a8bb-02420a010068"
      },
      {
       "current": "73647cfa-f3c7-11e9-a8bb-02420a010068",
       "next": "d8f12a80-06b6-11ea-a8bb-02420a010068",
       "previous": "e305da02-f144-11e9-a8bb-02420a010068"
      },
      {
       "current": "73647cfa-f3c7-11e9-a8bb-02420a010068",
       "next": "d8f12a80-06b6-11ea-a8bb-02420a010068",
       "previous": "d35e5a24-077f-11ea-a8bb-02420a010068"
      },
      {
       "current": "73647cfa-f3c7-11e9-a8bb-02420a010068",
       "next": "628b57ba-0780-11ea-a8bb-02420a010068",
       "previous": "d35e5a24-077f-11ea-a8bb-02420a010068"
      },
      {
       "current": "73647cfa-f3c7-11e9-a8bb-02420a010068",
       "next": "628b567a-0780-11ea-a8bb-02420a010068",
       "previous": "d35e5a24-077f-11ea-a8bb-02420a010068"
      },
      {
       "current": "1d0aac30-0a97-11ea-896e-02420a010068",
       "next": "1d0aada2-0a97-11ea-896e-02420a010068",
       "previous": "1d0aaaf0-0a97-11ea-896e-02420a010068"
      },
      {
       "current": "1d0aac30-0a97-11ea-896e-02420a010068",
       "next": "1d0aada2-0a97-11ea-896e-02420a010068",
       "previous": "1d0aa9a6-0a97-11ea-896e-02420a010068"
      }
     ],
     "next": "5b2b9ad0-0c16-11ea-aa17-02420a010068",
     "previous": "5b2b9832-0c16-11ea-aa17-02420a010068"
    }
   },
   "source": [
    "ヒント\n",
    "\n",
    "$-55$になれば正解"
   ]
  },
  {
   "cell_type": "markdown",
   "metadata": {
    "lc_cell_meme": {
     "current": "5b2b9ad0-0c16-11ea-aa17-02420a010068",
     "history": [
      {
       "current": "628b567a-0780-11ea-a8bb-02420a010068",
       "next": "1aeaa834-0780-11ea-a8bb-02420a010068",
       "previous": "e305da02-f144-11e9-a8bb-02420a010068"
      },
      {
       "current": "628b567a-0780-11ea-a8bb-02420a010068",
       "next": "1aeaa834-0780-11ea-a8bb-02420a010068",
       "previous": "628b57ba-0780-11ea-a8bb-02420a010068"
      },
      {
       "current": "628b567a-0780-11ea-a8bb-02420a010068",
       "next": "1aeaa834-0780-11ea-a8bb-02420a010068",
       "previous": "73647cfa-f3c7-11e9-a8bb-02420a010068"
      },
      {
       "current": "1d0aada2-0a97-11ea-896e-02420a010068",
       "next": "1d0aaeec-0a97-11ea-896e-02420a010068",
       "previous": "1d0aac30-0a97-11ea-896e-02420a010068"
      }
     ],
     "next": "5b2b9c1a-0c16-11ea-aa17-02420a010068",
     "previous": "5b2b997c-0c16-11ea-aa17-02420a010068"
    }
   },
   "source": [
    "以下のセルで、$r\\_sum()$を使って、-100から0までの合計を求めなさい"
   ]
  },
  {
   "cell_type": "code",
   "execution_count": null,
   "metadata": {
    "lc_cell_meme": {
     "current": "5b2b9c1a-0c16-11ea-aa17-02420a010068",
     "history": [
      {
       "current": "1aeaa834-0780-11ea-a8bb-02420a010068",
       "next": "d35e5a24-077f-11ea-a8bb-02420a010068",
       "previous": "e305da02-f144-11e9-a8bb-02420a010068"
      },
      {
       "current": "1aeaa834-0780-11ea-a8bb-02420a010068",
       "next": "d35e5a24-077f-11ea-a8bb-02420a010068",
       "previous": "628b57ba-0780-11ea-a8bb-02420a010068"
      },
      {
       "current": "1aeaa834-0780-11ea-a8bb-02420a010068",
       "next": "d35e5a24-077f-11ea-a8bb-02420a010068",
       "previous": "628b567a-0780-11ea-a8bb-02420a010068"
      },
      {
       "current": "1d0aaeec-0a97-11ea-896e-02420a010068",
       "next": "1d0ab0ae-0a97-11ea-896e-02420a010068",
       "previous": "1d0aada2-0a97-11ea-896e-02420a010068"
      },
      {
       "current": "1d0aaeec-0a97-11ea-896e-02420a010068",
       "next": "1d0ab248-0a97-11ea-896e-02420a010068",
       "previous": "1d0aada2-0a97-11ea-896e-02420a010068"
      }
     ],
     "next": "5b2b9d96-0c16-11ea-aa17-02420a010068",
     "previous": "5b2b9ad0-0c16-11ea-aa17-02420a010068"
    }
   },
   "outputs": [],
   "source": [
    "# 演習用入力欄\n"
   ]
  },
  {
   "cell_type": "markdown",
   "metadata": {
    "lc_cell_meme": {
     "current": "5b2b9d96-0c16-11ea-aa17-02420a010068",
     "history": [
      {
       "current": "73647cfa-f3c7-11e9-a8bb-02420a010068",
       "next": "9b753200-f144-11e9-a8bb-02420a010068",
       "previous": "e305da02-f144-11e9-a8bb-02420a010068"
      },
      {
       "current": "73647cfa-f3c7-11e9-a8bb-02420a010068",
       "next": "9b75334a-f144-11e9-a8bb-02420a010068",
       "previous": "e305da02-f144-11e9-a8bb-02420a010068"
      },
      {
       "current": "73647cfa-f3c7-11e9-a8bb-02420a010068",
       "next": "d8f12a80-06b6-11ea-a8bb-02420a010068",
       "previous": "e305da02-f144-11e9-a8bb-02420a010068"
      },
      {
       "current": "73647cfa-f3c7-11e9-a8bb-02420a010068",
       "next": "d8f12a80-06b6-11ea-a8bb-02420a010068",
       "previous": "d35e5a24-077f-11ea-a8bb-02420a010068"
      },
      {
       "current": "73647cfa-f3c7-11e9-a8bb-02420a010068",
       "next": "f52926a8-f180-11e9-a8bb-02420a010068",
       "previous": "d35e5a24-077f-11ea-a8bb-02420a010068"
      },
      {
       "current": "1d0ab248-0a97-11ea-896e-02420a010068",
       "next": "1d0ab392-0a97-11ea-896e-02420a010068",
       "previous": "1d0ab0ae-0a97-11ea-896e-02420a010068"
      },
      {
       "current": "1d0ab248-0a97-11ea-896e-02420a010068",
       "next": "1d0ab392-0a97-11ea-896e-02420a010068",
       "previous": "1d0aaeec-0a97-11ea-896e-02420a010068"
      }
     ],
     "next": "5b2ba016-0c16-11ea-aa17-02420a010068",
     "previous": "5b2b9c1a-0c16-11ea-aa17-02420a010068"
    }
   },
   "source": [
    "ヒント\n",
    "\n",
    "$-5050$になれば正解"
   ]
  },
  {
   "cell_type": "markdown",
   "metadata": {
    "lc_cell_meme": {
     "current": "5b2ba016-0c16-11ea-aa17-02420a010068",
     "history": [
      {
       "current": "f52926a8-f180-11e9-a8bb-02420a010068",
       "next": null,
       "previous": "75bbd5b6-f151-11e9-a8bb-02420a010068"
      },
      {
       "current": "f52926a8-f180-11e9-a8bb-02420a010068",
       "next": null,
       "previous": "102262c0-f150-11e9-a8bb-02420a010068"
      },
      {
       "current": "f52926a8-f180-11e9-a8bb-02420a010068",
       "next": "ebc3b478-f3cb-11e9-a8bb-02420a010068",
       "previous": "102262c0-f150-11e9-a8bb-02420a010068"
      },
      {
       "current": "f52926a8-f180-11e9-a8bb-02420a010068",
       "next": "ebc3b478-f3cb-11e9-a8bb-02420a010068",
       "previous": "1337adbc-f182-11e9-a8bb-02420a010068"
      },
      {
       "current": "f52926a8-f180-11e9-a8bb-02420a010068",
       "next": "ebc3b478-f3cb-11e9-a8bb-02420a010068",
       "previous": "1337aa56-f182-11e9-a8bb-02420a010068"
      },
      {
       "current": "f52926a8-f180-11e9-a8bb-02420a010068",
       "next": "ebc3b478-f3cb-11e9-a8bb-02420a010068",
       "previous": "73647cfa-f3c7-11e9-a8bb-02420a010068"
      },
      {
       "current": "1d0ab392-0a97-11ea-896e-02420a010068",
       "next": "1d0ab4dc-0a97-11ea-896e-02420a010068",
       "previous": "1d0ab248-0a97-11ea-896e-02420a010068"
      }
     ],
     "next": "5b2ba19c-0c16-11ea-aa17-02420a010068",
     "previous": "5b2b9d96-0c16-11ea-aa17-02420a010068"
    }
   },
   "source": [
    "#  以上で演習は終わりです。課題に進んでください。"
   ]
  },
  {
   "cell_type": "code",
   "execution_count": null,
   "metadata": {
    "lc_cell_meme": {
     "current": "5b2ba19c-0c16-11ea-aa17-02420a010068",
     "history": [
      {
       "current": "ebc3b478-f3cb-11e9-a8bb-02420a010068",
       "next": null,
       "previous": "f52926a8-f180-11e9-a8bb-02420a010068"
      },
      {
       "current": "1d0ab4dc-0a97-11ea-896e-02420a010068",
       "next": null,
       "previous": "1d0ab392-0a97-11ea-896e-02420a010068"
      }
     ],
     "next": null,
     "previous": "5b2ba016-0c16-11ea-aa17-02420a010068"
    }
   },
   "outputs": [],
   "source": []
  }
 ],
 "metadata": {
  "kernelspec": {
   "display_name": "Python 3",
   "language": "python",
   "name": "python3"
  },
  "language_info": {
   "file_extension": ".py",
   "mimetype": "text/x-python",
   "name": "python",
   "nbconvert_exporter": "python",
   "pygments_lexer": "ipython3",
   "version": "3.7.3"
  },
  "lc_notebook_meme": {
   "current": "5b2b0638-0c16-11ea-aa17-02420a010068",
   "history": [
    "964dd774-f143-11e9-a8bb-02420a010068",
    "1d09e50c-0a97-11ea-896e-02420a010068"
   ],
   "lc_server_signature": {
    "current": {
     "notebook_dir": "/home/14999410x94c69e",
     "notebook_path": "/08",
     "server_url": "https://nb06.ecloud.nii.ac.jp/user/14999410x94c69e/",
     "signature_id": "360553ae-df66-11e9-8262-02420a010037"
    },
    "history": [
     {
      "notebook_dir": "/home/14999410x94c69e",
      "notebook_path": "/05a",
      "server_url": "https://nb06.ecloud.nii.ac.jp/user/14999410x94c69e/",
      "signature_id": "360553ae-df66-11e9-8262-02420a010037"
     },
     {
      "notebook_dir": "/home/14999410x94c69e",
      "notebook_path": "/08a",
      "server_url": "https://nb06.ecloud.nii.ac.jp/user/14999410x94c69e/",
      "signature_id": "360553ae-df66-11e9-8262-02420a010037"
     }
    ]
   },
   "root_cells": [
    "5b2b0d7c-0c16-11ea-aa17-02420a010068",
    "5b2b104c-0c16-11ea-aa17-02420a010068",
    "5b2b11fa-0c16-11ea-aa17-02420a010068",
    "5b2b1380-0c16-11ea-aa17-02420a010068",
    "5b2b1506-0c16-11ea-aa17-02420a010068",
    "5b2b165a-0c16-11ea-aa17-02420a010068",
    "5b2b17cc-0c16-11ea-aa17-02420a010068",
    "5b2b1970-0c16-11ea-aa17-02420a010068",
    "5b2b1aba-0c16-11ea-aa17-02420a010068",
    "5b2b1c04-0c16-11ea-aa17-02420a010068",
    "5b2b1d58-0c16-11ea-aa17-02420a010068",
    "5b2b1ed4-0c16-11ea-aa17-02420a010068",
    "5b2b2046-0c16-11ea-aa17-02420a010068",
    "5b2b21cc-0c16-11ea-aa17-02420a010068",
    "5b2b233e-0c16-11ea-aa17-02420a010068",
    "5b2b24c4-0c16-11ea-aa17-02420a010068",
    "5b2b260e-0c16-11ea-aa17-02420a010068",
    "5b2b2794-0c16-11ea-aa17-02420a010068",
    "5b2b2910-0c16-11ea-aa17-02420a010068",
    "5b2b2bf4-0c16-11ea-aa17-02420a010068",
    "5b2b2dac-0c16-11ea-aa17-02420a010068",
    "5b2b3004-0c16-11ea-aa17-02420a010068",
    "5b2b3176-0c16-11ea-aa17-02420a010068",
    "5b2b3310-0c16-11ea-aa17-02420a010068",
    "5b2b34b4-0c16-11ea-aa17-02420a010068",
    "5b2b3770-0c16-11ea-aa17-02420a010068",
    "5b2b38e2-0c16-11ea-aa17-02420a010068",
    "5b2b3a54-0c16-11ea-aa17-02420a010068",
    "5b2b3bc6-0c16-11ea-aa17-02420a010068",
    "5b2b3d6a-0c16-11ea-aa17-02420a010068",
    "5b2b3eb4-0c16-11ea-aa17-02420a010068",
    "5b2b40bc-0c16-11ea-aa17-02420a010068",
    "5b2b426a-0c16-11ea-aa17-02420a010068",
    "5b2b43e6-0c16-11ea-aa17-02420a010068",
    "5b2b4558-0c16-11ea-aa17-02420a010068",
    "5b2b46ca-0c16-11ea-aa17-02420a010068",
    "5b2b4846-0c16-11ea-aa17-02420a010068",
    "5b2b49b8-0c16-11ea-aa17-02420a010068",
    "5b2b4b48-0c16-11ea-aa17-02420a010068",
    "5b2b4cba-0c16-11ea-aa17-02420a010068",
    "5b2b4e2c-0c16-11ea-aa17-02420a010068",
    "5b2b4fa8-0c16-11ea-aa17-02420a010068",
    "5b2b526e-0c16-11ea-aa17-02420a010068",
    "5b2b5412-0c16-11ea-aa17-02420a010068",
    "5b2b5656-0c16-11ea-aa17-02420a010068",
    "5b2b57d2-0c16-11ea-aa17-02420a010068",
    "5b2b5930-0c16-11ea-aa17-02420a010068",
    "5b2b5ad4-0c16-11ea-aa17-02420a010068",
    "5b2b5c28-0c16-11ea-aa17-02420a010068",
    "5b2b5e58-0c16-11ea-aa17-02420a010068",
    "5b2b5fca-0c16-11ea-aa17-02420a010068",
    "5b2b616e-0c16-11ea-aa17-02420a010068",
    "5b2b62e0-0c16-11ea-aa17-02420a010068",
    "5b2b6434-0c16-11ea-aa17-02420a010068",
    "5b2b65b0-0c16-11ea-aa17-02420a010068",
    "5b2b6736-0c16-11ea-aa17-02420a010068",
    "5b2b68b2-0c16-11ea-aa17-02420a010068",
    "5b2b6a24-0c16-11ea-aa17-02420a010068",
    "5b2b6baa-0c16-11ea-aa17-02420a010068",
    "5b2b6d3a-0c16-11ea-aa17-02420a010068",
    "5b2b6e84-0c16-11ea-aa17-02420a010068",
    "5b2b7000-0c16-11ea-aa17-02420a010068",
    "5b2b714a-0c16-11ea-aa17-02420a010068",
    "5b2b72da-0c16-11ea-aa17-02420a010068",
    "5b2b742e-0c16-11ea-aa17-02420a010068",
    "5b2b7578-0c16-11ea-aa17-02420a010068",
    "5b2b76f4-0c16-11ea-aa17-02420a010068",
    "5b2b799c-0c16-11ea-aa17-02420a010068",
    "5b2b7b22-0c16-11ea-aa17-02420a010068",
    "5b2b7cee-0c16-11ea-aa17-02420a010068",
    "5b2b7e7e-0c16-11ea-aa17-02420a010068",
    "5b2b800e-0c16-11ea-aa17-02420a010068",
    "5b2b8194-0c16-11ea-aa17-02420a010068",
    "5b2b831a-0c16-11ea-aa17-02420a010068",
    "5b2b855e-0c16-11ea-aa17-02420a010068",
    "5b2b86a8-0c16-11ea-aa17-02420a010068",
    "5b2b87fc-0c16-11ea-aa17-02420a010068",
    "5b2b89aa-0c16-11ea-aa17-02420a010068",
    "5b2b8b58-0c16-11ea-aa17-02420a010068",
    "5b2b8cac-0c16-11ea-aa17-02420a010068",
    "5b2b8e28-0c16-11ea-aa17-02420a010068",
    "5b2b8f9a-0c16-11ea-aa17-02420a010068",
    "5b2b9116-0c16-11ea-aa17-02420a010068",
    "5b2b9260-0c16-11ea-aa17-02420a010068",
    "5b2b93b4-0c16-11ea-aa17-02420a010068",
    "5b2b9530-0c16-11ea-aa17-02420a010068",
    "5b2b96a2-0c16-11ea-aa17-02420a010068",
    "5b2b9832-0c16-11ea-aa17-02420a010068",
    "5b2b997c-0c16-11ea-aa17-02420a010068",
    "5b2b9ad0-0c16-11ea-aa17-02420a010068",
    "5b2b9c1a-0c16-11ea-aa17-02420a010068",
    "5b2b9d96-0c16-11ea-aa17-02420a010068",
    "5b2ba016-0c16-11ea-aa17-02420a010068",
    "5b2ba19c-0c16-11ea-aa17-02420a010068"
   ]
  },
  "toc": {
   "base_numbering": 1,
   "nav_menu": {},
   "number_sections": true,
   "sideBar": true,
   "skip_h1_title": false,
   "title_cell": "Table of Contents",
   "title_sidebar": "Contents",
   "toc_cell": false,
   "toc_position": {
    "height": "calc(100% - 180px)",
    "left": "10px",
    "top": "150px",
    "width": "395.8px"
   },
   "toc_section_display": true,
   "toc_window_display": true
  }
 },
 "nbformat": 4,
 "nbformat_minor": 2
}
