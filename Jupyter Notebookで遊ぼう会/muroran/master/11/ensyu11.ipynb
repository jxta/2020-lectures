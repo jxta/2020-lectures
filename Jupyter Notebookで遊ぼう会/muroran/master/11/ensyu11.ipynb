{
 "cells": [
  {
   "cell_type": "markdown",
   "metadata": {
    "lc_cell_meme": {
     "current": "df4de434-1fe5-11ea-9c7d-02420a0101eb",
     "history": [
      {
       "current": "8bf64eec-9e22-11e9-9f4c-02420a010067",
       "next": "8bf64f8c-9e22-11e9-9f4c-02420a010067",
       "previous": null
      },
      {
       "current": "37a7fd0c-04f4-11ea-84d4-02420a0100a0",
       "next": "37a7ff50-04f4-11ea-84d4-02420a0100a0",
       "previous": null
      }
     ],
     "next": "df4de5d8-1fe5-11ea-9c7d-02420a0101eb",
     "previous": null
    }
   },
   "source": [
    "# プログラミング入門\n",
    "\n",
    "第11回　アルゴリズム(2)　線形探索と二分探索"
   ]
  },
  {
   "cell_type": "markdown",
   "metadata": {
    "lc_cell_meme": {
     "current": "df4de5d8-1fe5-11ea-9c7d-02420a0101eb",
     "history": [
      {
       "current": "8bf64f8c-9e22-11e9-9f4c-02420a010067",
       "next": "8bf64ffa-9e22-11e9-9f4c-02420a010067",
       "previous": "8bf64eec-9e22-11e9-9f4c-02420a010067"
      },
      {
       "current": "37a7ff50-04f4-11ea-84d4-02420a0100a0",
       "next": "37a800fe-04f4-11ea-84d4-02420a0100a0",
       "previous": "37a7fd0c-04f4-11ea-84d4-02420a0100a0"
      }
     ],
     "next": "df4de704-1fe5-11ea-9c7d-02420a0101eb",
     "previous": "df4de434-1fe5-11ea-9c7d-02420a0101eb"
    }
   },
   "source": [
    "次のセルに、自分の名前と学籍番号を記入して下さい。"
   ]
  },
  {
   "cell_type": "raw",
   "metadata": {
    "lc_cell_meme": {
     "current": "df4de704-1fe5-11ea-9c7d-02420a0101eb",
     "history": [
      {
       "current": "8bf64ffa-9e22-11e9-9f4c-02420a010067",
       "next": "8bf6505e-9e22-11e9-9f4c-02420a010067",
       "previous": "8bf64f8c-9e22-11e9-9f4c-02420a010067"
      },
      {
       "current": "37a800fe-04f4-11ea-84d4-02420a0100a0",
       "next": "37a8028e-04f4-11ea-84d4-02420a0100a0",
       "previous": "37a7ff50-04f4-11ea-84d4-02420a0100a0"
      }
     ],
     "next": "df4de812-1fe5-11ea-9c7d-02420a0101eb",
     "previous": "df4de5d8-1fe5-11ea-9c7d-02420a0101eb"
    }
   },
   "source": [
    "学籍番号：　　　　　　　　　　　氏名："
   ]
  },
  {
   "cell_type": "markdown",
   "metadata": {
    "lc_cell_meme": {
     "current": "df4de812-1fe5-11ea-9c7d-02420a0101eb",
     "history": [
      {
       "current": "8bf6505e-9e22-11e9-9f4c-02420a010067",
       "next": "8bf650c2-9e22-11e9-9f4c-02420a010067",
       "previous": "8bf64ffa-9e22-11e9-9f4c-02420a010067"
      },
      {
       "current": "37a8028e-04f4-11ea-84d4-02420a0100a0",
       "next": "37a803ec-04f4-11ea-84d4-02420a0100a0",
       "previous": "37a800fe-04f4-11ea-84d4-02420a0100a0"
      },
      {
       "current": "37a8028e-04f4-11ea-84d4-02420a0100a0",
       "next": "8429b7d0-17c1-11ea-b53e-02420a010f43",
       "previous": "37a800fe-04f4-11ea-84d4-02420a0100a0"
      }
     ],
     "next": "df4de902-1fe5-11ea-9c7d-02420a0101eb",
     "previous": "df4de704-1fe5-11ea-9c7d-02420a0101eb"
    }
   },
   "source": [
    "【進め方の注意】\n",
    "\n",
    "- 文書を読んで、手順に沿って問いに答えながら進めて下さい。\n",
    "- 最後まで問題を解いたら、ファイルを保存して課題に進んで下さい。\n",
    "- 途中わからないことがあれば、教員またはTAに質問して下さい。"
   ]
  },
  {
   "cell_type": "markdown",
   "metadata": {
    "lc_cell_meme": {
     "current": "df4de902-1fe5-11ea-9c7d-02420a0101eb",
     "history": [
      {
       "current": "8429b7d0-17c1-11ea-b53e-02420a010f43",
       "next": "37a803ec-04f4-11ea-84d4-02420a0100a0",
       "previous": "37a8028e-04f4-11ea-84d4-02420a0100a0"
      },
      {
       "current": "8429b7d0-17c1-11ea-b53e-02420a010f43",
       "next": "cbaeeac6-17c1-11ea-b53e-02420a010f43",
       "previous": "37a8028e-04f4-11ea-84d4-02420a0100a0"
      }
     ],
     "next": "df4dea10-1fe5-11ea-9c7d-02420a0101eb",
     "previous": "df4de812-1fe5-11ea-9c7d-02420a0101eb"
    }
   },
   "source": [
    "## 探索とは"
   ]
  },
  {
   "cell_type": "markdown",
   "metadata": {
    "lc_cell_meme": {
     "current": "df4dea10-1fe5-11ea-9c7d-02420a0101eb",
     "history": [
      {
       "current": "cbaeeac6-17c1-11ea-b53e-02420a010f43",
       "next": "37a803ec-04f4-11ea-84d4-02420a0100a0",
       "previous": "8429b7d0-17c1-11ea-b53e-02420a010f43"
      },
      {
       "current": "cbaeeac6-17c1-11ea-b53e-02420a010f43",
       "next": "315dea24-17c3-11ea-b53e-02420a010f43",
       "previous": "8429b7d0-17c1-11ea-b53e-02420a010f43"
      }
     ],
     "next": "df4deb28-1fe5-11ea-9c7d-02420a0101eb",
     "previous": "df4de902-1fe5-11ea-9c7d-02420a0101eb"
    }
   },
   "source": [
    "探索とは数多くのデータの中から条件に合致するデータを探し出す行為です。ここでの探索対象とするデータは構造化されたデータのみとし、数値や文字など計算機で扱いやすい形式のものとします。<BR>\n",
    "また探索する方法はたくさんあり、それぞれに特徴とメリット・デメリットがあります。"
   ]
  },
  {
   "cell_type": "markdown",
   "metadata": {
    "lc_cell_meme": {
     "current": "df4deb28-1fe5-11ea-9c7d-02420a0101eb",
     "history": [
      {
       "current": "315dea24-17c3-11ea-b53e-02420a010f43",
       "next": "37a803ec-04f4-11ea-84d4-02420a0100a0",
       "previous": "cbaeeac6-17c1-11ea-b53e-02420a010f43"
      }
     ],
     "next": "df4dec2c-1fe5-11ea-9c7d-02420a0101eb",
     "previous": "df4dea10-1fe5-11ea-9c7d-02420a0101eb"
    }
   },
   "source": [
    "ここでは、もっとも単純な「線形探索」とより効率的な「二分探索」を学習します。"
   ]
  },
  {
   "cell_type": "markdown",
   "metadata": {
    "lc_cell_meme": {
     "current": "df4dec2c-1fe5-11ea-9c7d-02420a0101eb",
     "history": [
      {
       "current": "8bf650c2-9e22-11e9-9f4c-02420a010067",
       "next": "8bf65126-9e22-11e9-9f4c-02420a010067",
       "previous": "8bf6505e-9e22-11e9-9f4c-02420a010067"
      },
      {
       "current": "37a803ec-04f4-11ea-84d4-02420a0100a0",
       "next": "37a8054a-04f4-11ea-84d4-02420a0100a0",
       "previous": "37a8028e-04f4-11ea-84d4-02420a0100a0"
      },
      {
       "current": "37a803ec-04f4-11ea-84d4-02420a0100a0",
       "next": "37a806ee-04f4-11ea-84d4-02420a0100a0",
       "previous": "37a8028e-04f4-11ea-84d4-02420a0100a0"
      },
      {
       "current": "37a803ec-04f4-11ea-84d4-02420a0100a0",
       "next": "37a806ee-04f4-11ea-84d4-02420a0100a0",
       "previous": "8429b7d0-17c1-11ea-b53e-02420a010f43"
      },
      {
       "current": "37a803ec-04f4-11ea-84d4-02420a0100a0",
       "next": "37a806ee-04f4-11ea-84d4-02420a0100a0",
       "previous": "cbaeeac6-17c1-11ea-b53e-02420a010f43"
      },
      {
       "current": "37a803ec-04f4-11ea-84d4-02420a0100a0",
       "next": "37a806ee-04f4-11ea-84d4-02420a0100a0",
       "previous": "315dea24-17c3-11ea-b53e-02420a010f43"
      },
      {
       "current": "37a803ec-04f4-11ea-84d4-02420a0100a0",
       "next": "83110a24-1a28-11ea-b53e-02420a010f43",
       "previous": "315dea24-17c3-11ea-b53e-02420a010f43"
      },
      {
       "current": "37a803ec-04f4-11ea-84d4-02420a0100a0",
       "next": "37a806ee-04f4-11ea-84d4-02420a0100a0",
       "previous": "315dea24-17c3-11ea-b53e-02420a010f43"
      }
     ],
     "next": "df4ded12-1fe5-11ea-9c7d-02420a0101eb",
     "previous": "df4deb28-1fe5-11ea-9c7d-02420a0101eb"
    }
   },
   "source": [
    "## 線形探索\n",
    "### トランプカードのデータ構造\n",
    "\n",
    "ここでは探索例としてトランプのカードを扱います。<br>\n",
    "トランプはハート、スペード、クラブ、ダイヤからなるスート各13 枚に加え、ジョーカー1枚を含む53 枚で構成します。<BR>\n",
    "トランプのカードは次のように表現することにします。教科書の記述ルールを少し修正しています。\n",
    "\n",
    "| インデックス/ スート | ハート | スペード | クラブ | ダイヤ |\n",
    "|:--: | :--: | :--: | :-- ||\n",
    "| エース | H01 | S01 | C01 | D01 |\n",
    "| 2 | H02 | S02 | C02 | D02 |\n",
    "| 3 | H03 | S03 | C03 | D03 |\n",
    "| 4 | H04 | S04 | C04 | D04 |\n",
    "| 5 | H05 | S05 | C05 | D05 |\n",
    "| 6 | H06 | S06 | C06 | D06 |\n",
    "| 7 | H07 | S07 | C07 | D07 |\n",
    "| 8 | H08 | S08 | C08 | D08 |\n",
    "| 9 | H09 | S09 | C09 | D09 |\n",
    "| 10 | H10 | S10 | C10 | D10 |\n",
    "| ジャック | H11 | S11 | C11 | D11 |\n",
    "| クイーン | H12 | S12 | C12 | D12 |\n",
    "| キング | H13 | S13| C13 | D13 |\n",
    "| ジョーカー | J ||||"
   ]
  },
  {
   "cell_type": "markdown",
   "metadata": {
    "lc_cell_meme": {
     "current": "df4ded12-1fe5-11ea-9c7d-02420a0101eb",
     "history": [
      {
       "current": "8bf6518a-9e22-11e9-9f4c-02420a010067",
       "next": "8bf651ee-9e22-11e9-9f4c-02420a010067",
       "previous": "8bf65126-9e22-11e9-9f4c-02420a010067"
      },
      {
       "current": "8bf6518a-9e22-11e9-9f4c-02420a010067",
       "next": "5c79b2e6-f6e0-11e9-8b8b-02420a0103fb",
       "previous": "8bf65126-9e22-11e9-9f4c-02420a010067"
      },
      {
       "current": "8bf6518a-9e22-11e9-9f4c-02420a010067",
       "next": "338a1004-0457-11ea-a9f8-02420a0100a0",
       "previous": "8bf65126-9e22-11e9-9f4c-02420a010067"
      },
      {
       "current": "37a806ee-04f4-11ea-84d4-02420a0100a0",
       "next": "37a8084c-04f4-11ea-84d4-02420a0100a0",
       "previous": "37a8054a-04f4-11ea-84d4-02420a0100a0"
      },
      {
       "current": "37a806ee-04f4-11ea-84d4-02420a0100a0",
       "next": "37a8084c-04f4-11ea-84d4-02420a0100a0",
       "previous": "37a803ec-04f4-11ea-84d4-02420a0100a0"
      },
      {
       "current": "37a806ee-04f4-11ea-84d4-02420a0100a0",
       "next": "73d505e4-074d-11ea-a9f8-02420a0100a0",
       "previous": "37a803ec-04f4-11ea-84d4-02420a0100a0"
      },
      {
       "current": "37a806ee-04f4-11ea-84d4-02420a0100a0",
       "next": "9203a06a-074e-11ea-a9f8-02420a0100a0",
       "previous": "37a803ec-04f4-11ea-84d4-02420a0100a0"
      },
      {
       "current": "37a806ee-04f4-11ea-84d4-02420a0100a0",
       "next": "9203a06a-074e-11ea-a9f8-02420a0100a0",
       "previous": "83110cae-1a28-11ea-b53e-02420a010f43"
      },
      {
       "current": "37a806ee-04f4-11ea-84d4-02420a0100a0",
       "next": "9203a06a-074e-11ea-a9f8-02420a0100a0",
       "previous": "37a803ec-04f4-11ea-84d4-02420a0100a0"
      }
     ],
     "next": "df4dee20-1fe5-11ea-9c7d-02420a0101eb",
     "previous": "df4dec2c-1fe5-11ea-9c7d-02420a0101eb"
    }
   },
   "source": [
    "たとえば、ハートのエースは\"H01\"、スペードの7は\"S07\"になります。"
   ]
  },
  {
   "cell_type": "markdown",
   "metadata": {
    "lc_cell_meme": {
     "current": "df4dee20-1fe5-11ea-9c7d-02420a0101eb",
     "history": [
      {
       "current": "9203a06a-074e-11ea-a9f8-02420a0100a0",
       "next": "73d505e4-074d-11ea-a9f8-02420a0100a0",
       "previous": "37a806ee-04f4-11ea-84d4-02420a0100a0"
      }
     ],
     "next": "df4def06-1fe5-11ea-9c7d-02420a0101eb",
     "previous": "df4ded12-1fe5-11ea-9c7d-02420a0101eb"
    }
   },
   "source": [
    "### 全カードのリスト作成"
   ]
  },
  {
   "cell_type": "markdown",
   "metadata": {
    "lc_cell_meme": {
     "current": "df4def06-1fe5-11ea-9c7d-02420a0101eb",
     "history": [
      {
       "current": "73d505e4-074d-11ea-a9f8-02420a0100a0",
       "next": "37a809aa-04f4-11ea-84d4-02420a0100a0",
       "previous": "37a8084c-04f4-11ea-84d4-02420a0100a0"
      },
      {
       "current": "73d505e4-074d-11ea-a9f8-02420a0100a0",
       "next": "37a809aa-04f4-11ea-84d4-02420a0100a0",
       "previous": "37a806ee-04f4-11ea-84d4-02420a0100a0"
      },
      {
       "current": "73d505e4-074d-11ea-a9f8-02420a0100a0",
       "next": "37a809aa-04f4-11ea-84d4-02420a0100a0",
       "previous": "9203a06a-074e-11ea-a9f8-02420a0100a0"
      },
      {
       "current": "73d505e4-074d-11ea-a9f8-02420a0100a0",
       "next": "4a5d6222-1a64-11ea-b53e-02420a010f43",
       "previous": "9203a06a-074e-11ea-a9f8-02420a0100a0"
      }
     ],
     "next": "df4defec-1fe5-11ea-9c7d-02420a0101eb",
     "previous": "df4dee20-1fe5-11ea-9c7d-02420a0101eb"
    }
   },
   "source": [
    "まずは全てのカードを扱えるように、ジョーカー\"J\"を含む全カードのリストcardsを作成します。評価してください。"
   ]
  },
  {
   "cell_type": "code",
   "execution_count": null,
   "metadata": {
    "lc_cell_meme": {
     "current": "df4defec-1fe5-11ea-9c7d-02420a0101eb",
     "history": [
      {
       "current": "4a5d6222-1a64-11ea-b53e-02420a010f43",
       "next": "37a80afe-04f4-11ea-84d4-02420a0100a0",
       "previous": "37a809aa-04f4-11ea-84d4-02420a0100a0"
      },
      {
       "current": "4a5d6222-1a64-11ea-b53e-02420a010f43",
       "next": "37a80afe-04f4-11ea-84d4-02420a0100a0",
       "previous": "73d505e4-074d-11ea-a9f8-02420a0100a0"
      }
     ],
     "next": "df4df0f0-1fe5-11ea-9c7d-02420a0101eb",
     "previous": "df4def06-1fe5-11ea-9c7d-02420a0101eb"
    },
    "lc_wrapper": {
     "log_history": [
      "/home/10999542xb8011f/11work/.log/20191209/20191209-175621-0329.log",
      "/home/10999542xb8011f/11work/.log/20191209/20191209-190110-0807.log",
      "/home/10999542xb8011f/11work/.log/20191210/20191210-091053-0592.log",
      "/home/10999542xb8011f/11a/.log/20191216/20191216-182749-0418.log",
      "/home/10999542xb8011f/11a/.log/20191216/20191216-182822-0221.log"
     ]
    }
   },
   "outputs": [],
   "source": [
    "# このセルを評価すること\n",
    "cards = [\"H01\", \"H02\", \"H03\", \"H04\", \"H05\", \"H06\", \"H07\",\n",
    "\"H08\", \"H09\", \"H10\", \"H11\", \"H12\", \"H13\",\n",
    "\"S01\", \"S02\", \"S03\", \"S04\", \"S05\", \"S06\", \"S07\",\n",
    "\"S08\", \"S09\", \"S10\", \"S11\", \"S12\", \"S13\",\n",
    "\"C01\", \"C02\", \"C03\", \"C04\", \"C05\", \"C06\", \"C07\",\n",
    "\"C08\", \"C09\", \"C10\", \"C11\", \"C12\", \"C13\",\n",
    "\"D01\", \"D02\", \"D03\", \"D04\", \"D05\", \"D06\", \"D07\",\n",
    "\"D08\", \"D09\", \"D10\", \"D11\", \"D12\", \"D13\",\n",
    "\"J\"]"
   ]
  },
  {
   "cell_type": "markdown",
   "metadata": {
    "lc_cell_meme": {
     "current": "df4df0f0-1fe5-11ea-9c7d-02420a0101eb",
     "history": [
      {
       "current": "5c79b2e6-f6e0-11e9-8b8b-02420a0103fb",
       "next": "8bf651ee-9e22-11e9-9f4c-02420a010067",
       "previous": "8bf6518a-9e22-11e9-9f4c-02420a010067"
      },
      {
       "current": "5c79b2e6-f6e0-11e9-8b8b-02420a0103fb",
       "next": "8bf651ee-9e22-11e9-9f4c-02420a010067",
       "previous": "338a15ae-0457-11ea-a9f8-02420a0100a0"
      },
      {
       "current": "37a80afe-04f4-11ea-84d4-02420a0100a0",
       "next": "37a80dce-04f4-11ea-84d4-02420a0100a0",
       "previous": "37a809aa-04f4-11ea-84d4-02420a0100a0"
      },
      {
       "current": "37a80afe-04f4-11ea-84d4-02420a0100a0",
       "next": "37a80dce-04f4-11ea-84d4-02420a0100a0",
       "previous": "37a809aa-04f4-11ea-84d4-02420a0100a0"
      },
      {
       "current": "37a80afe-04f4-11ea-84d4-02420a0100a0",
       "next": "37a80dce-04f4-11ea-84d4-02420a0100a0",
       "previous": "37a809aa-04f4-11ea-84d4-02420a0100a0"
      },
      {
       "current": "37a80afe-04f4-11ea-84d4-02420a0100a0",
       "next": "37a80dce-04f4-11ea-84d4-02420a0100a0",
       "previous": "37a809aa-04f4-11ea-84d4-02420a0100a0"
      },
      {
       "current": "37a80afe-04f4-11ea-84d4-02420a0100a0",
       "next": "37a80dce-04f4-11ea-84d4-02420a0100a0",
       "previous": "37a809aa-04f4-11ea-84d4-02420a0100a0"
      },
      {
       "current": "37a80afe-04f4-11ea-84d4-02420a0100a0",
       "next": "37a80dce-04f4-11ea-84d4-02420a0100a0",
       "previous": "37a809aa-04f4-11ea-84d4-02420a0100a0"
      },
      {
       "current": "37a80afe-04f4-11ea-84d4-02420a0100a0",
       "next": "37a80dce-04f4-11ea-84d4-02420a0100a0",
       "previous": "37a809aa-04f4-11ea-84d4-02420a0100a0"
      },
      {
       "current": "37a80afe-04f4-11ea-84d4-02420a0100a0",
       "next": "37a80dce-04f4-11ea-84d4-02420a0100a0",
       "previous": "4a5d6222-1a64-11ea-b53e-02420a010f43"
      }
     ],
     "next": "df4df208-1fe5-11ea-9c7d-02420a0101eb",
     "previous": "df4defec-1fe5-11ea-9c7d-02420a0101eb"
    }
   },
   "source": [
    "### randomモジュールの利用"
   ]
  },
  {
   "cell_type": "markdown",
   "metadata": {
    "lc_cell_meme": {
     "current": "df4df208-1fe5-11ea-9c7d-02420a0101eb",
     "history": [
      {
       "current": "8bf651ee-9e22-11e9-9f4c-02420a010067",
       "next": "8bf65248-9e22-11e9-9f4c-02420a010067",
       "previous": "8bf6518a-9e22-11e9-9f4c-02420a010067"
      },
      {
       "current": "8bf651ee-9e22-11e9-9f4c-02420a010067",
       "next": "8bf65248-9e22-11e9-9f4c-02420a010067",
       "previous": "5c79b2e6-f6e0-11e9-8b8b-02420a0103fb"
      },
      {
       "current": "8bf651ee-9e22-11e9-9f4c-02420a010067",
       "next": "55d9abf8-fc3f-11e9-a9f8-02420a0100a0",
       "previous": "5c79b2e6-f6e0-11e9-8b8b-02420a0103fb"
      },
      {
       "current": "37a80dce-04f4-11ea-84d4-02420a0100a0",
       "next": "37a80f36-04f4-11ea-84d4-02420a0100a0",
       "previous": "37a80afe-04f4-11ea-84d4-02420a0100a0"
      }
     ],
     "next": "df4df320-1fe5-11ea-9c7d-02420a0101eb",
     "previous": "df4df0f0-1fe5-11ea-9c7d-02420a0101eb"
    }
   },
   "source": [
    "randomモジュールを利用するので、importを行います。<br>\n",
    "リストcardsからランダムに13枚のカードを抽出し、リストfirstを作成します。<BR>\n",
    "リストfirst作成後、print()でリストfirstに抽出された13枚のカードを表示してください。"
   ]
  },
  {
   "cell_type": "code",
   "execution_count": null,
   "metadata": {
    "lc_cell_meme": {
     "current": "df4df320-1fe5-11ea-9c7d-02420a0101eb",
     "history": [
      {
       "current": "55d9abf8-fc3f-11e9-a9f8-02420a0100a0",
       "next": "8bf65248-9e22-11e9-9f4c-02420a010067",
       "previous": "8bf651ee-9e22-11e9-9f4c-02420a010067"
      },
      {
       "current": "55d9abf8-fc3f-11e9-a9f8-02420a0100a0",
       "next": "2c787324-fc40-11e9-a9f8-02420a0100a0",
       "previous": "8bf651ee-9e22-11e9-9f4c-02420a010067"
      },
      {
       "current": "37a80f36-04f4-11ea-84d4-02420a0100a0",
       "next": "37a810e4-04f4-11ea-84d4-02420a0100a0",
       "previous": "37a80dce-04f4-11ea-84d4-02420a0100a0"
      },
      {
       "current": "37a80f36-04f4-11ea-84d4-02420a0100a0",
       "next": "82b463d8-1595-11ea-b53e-02420a010f43",
       "previous": "37a80dce-04f4-11ea-84d4-02420a0100a0"
      },
      {
       "current": "df4df320-1fe5-11ea-9c7d-02420a0101eb",
       "next": "df4df5b4-1fe5-11ea-9c7d-02420a0101eb",
       "previous": "df4df208-1fe5-11ea-9c7d-02420a0101eb"
      }
     ],
     "next": "df4df726-1fe5-11ea-9c7d-02420a0101eb",
     "previous": "df4df208-1fe5-11ea-9c7d-02420a0101eb"
    },
    "lc_wrapper": {
     "log_history": [
      "/home/10999542xb8011f/07a/.log/20191101/20191101-093518-0646.log",
      "/home/10999542xb8011f/07a/.log/20191111/20191111-164703-0485.log",
      "/home/10999542xb8011f/07a/.log/20191111/20191111-181213-0602.log",
      "/home/10999542xb8011f/07a/.log/20191111/20191111-182546-0179.log",
      "/home/10999542xb8011f/11work/.log/20191115/20191115-112611-0084.log",
      "/home/10999542xb8011f/11work/.log/20191203/20191203-152329-0233.log",
      "/home/10999542xb8011f/11work/.log/20191205/20191205-163914-0189.log",
      "/home/10999542xb8011f/11work/.log/20191207/20191207-162249-0536.log"
     ]
    }
   },
   "outputs": [],
   "source": [
    "# 演習用入力欄 （要修正）\n",
    "import random\n",
    "first = random.sample(cards, 13) #リストcardsからランダムに13枚を抽出する\n",
    "print(???)"
   ]
  },
  {
   "cell_type": "markdown",
   "metadata": {
    "lc_cell_meme": {
     "current": "df4df726-1fe5-11ea-9c7d-02420a0101eb",
     "history": [
      {
       "current": "2c787324-fc40-11e9-a9f8-02420a0100a0",
       "next": "9d62ddaa-fc3f-11e9-a9f8-02420a0100a0",
       "previous": "8bf65248-9e22-11e9-9f4c-02420a010067"
      },
      {
       "current": "2c787324-fc40-11e9-a9f8-02420a0100a0",
       "next": "9d62ddaa-fc3f-11e9-a9f8-02420a0100a0",
       "previous": "55d9abf8-fc3f-11e9-a9f8-02420a0100a0"
      },
      {
       "current": "37a810e4-04f4-11ea-84d4-02420a0100a0",
       "next": "37a8127e-04f4-11ea-84d4-02420a0100a0",
       "previous": "37a80f36-04f4-11ea-84d4-02420a0100a0"
      },
      {
       "current": "37a810e4-04f4-11ea-84d4-02420a0100a0",
       "next": "15c6d7c6-0751-11ea-a9f8-02420a0100a0",
       "previous": "37a80f36-04f4-11ea-84d4-02420a0100a0"
      },
      {
       "current": "37a810e4-04f4-11ea-84d4-02420a0100a0",
       "next": "15c6d7c6-0751-11ea-a9f8-02420a0100a0",
       "previous": "82b463d8-1595-11ea-b53e-02420a010f43"
      },
      {
       "current": "df4df726-1fe5-11ea-9c7d-02420a0101eb",
       "next": "df4df820-1fe5-11ea-9c7d-02420a0101eb",
       "previous": "df4df5b4-1fe5-11ea-9c7d-02420a0101eb"
      }
     ],
     "next": "df4df820-1fe5-11ea-9c7d-02420a0101eb",
     "previous": "df4df320-1fe5-11ea-9c7d-02420a0101eb"
    }
   },
   "source": [
    "ヒント：　リストfirstに格納されている13枚のカードが表示されます。ランダムにカードを抽出しているため、実行するたびにカードが入れ替わります。<BR>\n",
    "**リストfirstにジョーカー\"J\"が含まれるまで、何度か再評価してみてください。**"
   ]
  },
  {
   "cell_type": "markdown",
   "metadata": {
    "lc_cell_meme": {
     "current": "df4df820-1fe5-11ea-9c7d-02420a0101eb",
     "history": [
      {
       "current": "15c6d7c6-0751-11ea-a9f8-02420a0100a0",
       "next": "15c6db90-0751-11ea-a9f8-02420a0100a0",
       "previous": "37a810e4-04f4-11ea-84d4-02420a0100a0"
      },
      {
       "current": "15c6d7c6-0751-11ea-a9f8-02420a0100a0",
       "next": "15c6db90-0751-11ea-a9f8-02420a0100a0",
       "previous": "37a810e4-04f4-11ea-84d4-02420a0100a0"
      },
      {
       "current": "15c6d7c6-0751-11ea-a9f8-02420a0100a0",
       "next": "15c6db90-0751-11ea-a9f8-02420a0100a0",
       "previous": "37a810e4-04f4-11ea-84d4-02420a0100a0"
      },
      {
       "current": "15c6d7c6-0751-11ea-a9f8-02420a0100a0",
       "next": "15c6db90-0751-11ea-a9f8-02420a0100a0",
       "previous": "37a810e4-04f4-11ea-84d4-02420a0100a0"
      },
      {
       "current": "15c6d7c6-0751-11ea-a9f8-02420a0100a0",
       "next": "15c6db90-0751-11ea-a9f8-02420a0100a0",
       "previous": "37a810e4-04f4-11ea-84d4-02420a0100a0"
      },
      {
       "current": "15c6d7c6-0751-11ea-a9f8-02420a0100a0",
       "next": "15c6db90-0751-11ea-a9f8-02420a0100a0",
       "previous": "37a810e4-04f4-11ea-84d4-02420a0100a0"
      },
      {
       "current": "15c6d7c6-0751-11ea-a9f8-02420a0100a0",
       "next": "15c6db90-0751-11ea-a9f8-02420a0100a0",
       "previous": "37a810e4-04f4-11ea-84d4-02420a0100a0"
      },
      {
       "current": "15c6d7c6-0751-11ea-a9f8-02420a0100a0",
       "next": "15c6db90-0751-11ea-a9f8-02420a0100a0",
       "previous": "37a810e4-04f4-11ea-84d4-02420a0100a0"
      },
      {
       "current": "15c6d7c6-0751-11ea-a9f8-02420a0100a0",
       "next": "15c6db90-0751-11ea-a9f8-02420a0100a0",
       "previous": "37a810e4-04f4-11ea-84d4-02420a0100a0"
      },
      {
       "current": "15c6d7c6-0751-11ea-a9f8-02420a0100a0",
       "next": "15c6db90-0751-11ea-a9f8-02420a0100a0",
       "previous": "37a810e4-04f4-11ea-84d4-02420a0100a0"
      },
      {
       "current": "15c6d7c6-0751-11ea-a9f8-02420a0100a0",
       "next": "15c6db90-0751-11ea-a9f8-02420a0100a0",
       "previous": "37a810e4-04f4-11ea-84d4-02420a0100a0"
      },
      {
       "current": "15c6d7c6-0751-11ea-a9f8-02420a0100a0",
       "next": "15c6db90-0751-11ea-a9f8-02420a0100a0",
       "previous": "37a810e4-04f4-11ea-84d4-02420a0100a0"
      },
      {
       "current": "15c6d7c6-0751-11ea-a9f8-02420a0100a0",
       "next": "15c6db90-0751-11ea-a9f8-02420a0100a0",
       "previous": "37a810e4-04f4-11ea-84d4-02420a0100a0"
      },
      {
       "current": "15c6d7c6-0751-11ea-a9f8-02420a0100a0",
       "next": "15c6db90-0751-11ea-a9f8-02420a0100a0",
       "previous": "37a810e4-04f4-11ea-84d4-02420a0100a0"
      },
      {
       "current": "15c6d7c6-0751-11ea-a9f8-02420a0100a0",
       "next": "4a5d6678-1a64-11ea-b53e-02420a010f43",
       "previous": "37a810e4-04f4-11ea-84d4-02420a0100a0"
      }
     ],
     "next": "df4df92e-1fe5-11ea-9c7d-02420a0101eb",
     "previous": "df4df726-1fe5-11ea-9c7d-02420a0101eb"
    }
   },
   "source": [
    "### 文字列の大小比較"
   ]
  },
  {
   "cell_type": "markdown",
   "metadata": {
    "lc_cell_meme": {
     "current": "df4df92e-1fe5-11ea-9c7d-02420a0101eb",
     "history": [
      {
       "current": "4a5d6678-1a64-11ea-b53e-02420a010f43",
       "next": "4a5d6862-1a64-11ea-b53e-02420a010f43",
       "previous": "15c6d7c6-0751-11ea-a9f8-02420a0100a0"
      }
     ],
     "next": "df4dfa5a-1fe5-11ea-9c7d-02420a0101eb",
     "previous": "df4df820-1fe5-11ea-9c7d-02420a0101eb"
    }
   },
   "source": [
    "文字列も数字と同様にアルファベットの並びで大小を比較することができます。1文字目が同じ場合は2文字目、3文字目を順番に比較することになります。"
   ]
  },
  {
   "cell_type": "code",
   "execution_count": null,
   "metadata": {
    "lc_cell_meme": {
     "current": "df4dfa5a-1fe5-11ea-9c7d-02420a0101eb",
     "history": [
      {
       "current": "4a5d6862-1a64-11ea-b53e-02420a010f43",
       "next": "4a5d6998-1a64-11ea-b53e-02420a010f43",
       "previous": "4a5d6678-1a64-11ea-b53e-02420a010f43"
      },
      {
       "current": "4a5d6862-1a64-11ea-b53e-02420a010f43",
       "next": "4197aae6-1b25-11ea-b53e-02420a010f43",
       "previous": "4a5d6678-1a64-11ea-b53e-02420a010f43"
      }
     ],
     "next": "df4dfb4a-1fe5-11ea-9c7d-02420a0101eb",
     "previous": "df4df92e-1fe5-11ea-9c7d-02420a0101eb"
    },
    "lc_wrapper": {
     "log_history": [
      "/home/10999542xb8011f/11work/.log/20191209/20191209-174003-0506.log",
      "/home/10999542xb8011f/11work/.log/20191209/20191209-174033-0935.log",
      "/home/10999542xb8011f/11work/.log/20191209/20191209-174135-0183.log",
      "/home/10999542xb8011f/11work/.log/20191209/20191209-174208-0287.log",
      "/home/10999542xb8011f/11work/.log/20191209/20191209-174432-0916.log",
      "/home/10999542xb8011f/11work/.log/20191209/20191209-175203-0353.log",
      "/home/10999542xb8011f/11work/.log/20191209/20191209-175640-0191.log",
      "/home/10999542xb8011f/11a/.log/20191216/20191216-182831-0664.log"
     ]
    }
   },
   "outputs": [],
   "source": [
    "# このセルを評価すること\n",
    "'H10'<'S04'"
   ]
  },
  {
   "cell_type": "markdown",
   "metadata": {
    "lc_cell_meme": {
     "current": "df4dfb4a-1fe5-11ea-9c7d-02420a0101eb",
     "history": [
      {
       "current": "4197aae6-1b25-11ea-b53e-02420a010f43",
       "next": "4a5d6998-1a64-11ea-b53e-02420a010f43",
       "previous": "4a5d6862-1a64-11ea-b53e-02420a010f43"
      }
     ],
     "next": "df4dfc4e-1fe5-11ea-9c7d-02420a0101eb",
     "previous": "df4dfa5a-1fe5-11ea-9c7d-02420a0101eb"
    }
   },
   "source": [
    "ヒント：　アルファベット順であることを確認してください。"
   ]
  },
  {
   "cell_type": "code",
   "execution_count": null,
   "metadata": {
    "lc_cell_meme": {
     "current": "df4dfc4e-1fe5-11ea-9c7d-02420a0101eb",
     "history": [
      {
       "current": "4a5d6998-1a64-11ea-b53e-02420a010f43",
       "next": "4a5d6ab0-1a64-11ea-b53e-02420a010f43",
       "previous": "4a5d6862-1a64-11ea-b53e-02420a010f43"
      },
      {
       "current": "4a5d6998-1a64-11ea-b53e-02420a010f43",
       "next": "4197af46-1b25-11ea-b53e-02420a010f43",
       "previous": "4197aae6-1b25-11ea-b53e-02420a010f43"
      }
     ],
     "next": "df4dfd5c-1fe5-11ea-9c7d-02420a0101eb",
     "previous": "df4dfb4a-1fe5-11ea-9c7d-02420a0101eb"
    },
    "lc_wrapper": {
     "log_history": [
      "/home/10999542xb8011f/11work/.log/20191209/20191209-174651-0216.log",
      "/home/10999542xb8011f/11work/.log/20191209/20191209-175200-0364.log",
      "/home/10999542xb8011f/11work/.log/20191209/20191209-175204-0061.log",
      "/home/10999542xb8011f/11work/.log/20191209/20191209-175640-0774.log",
      "/home/10999542xb8011f/11a/.log/20191216/20191216-182832-0830.log"
     ]
    }
   },
   "outputs": [],
   "source": [
    "# このセルを評価すること\n",
    "'H10'<'H09'"
   ]
  },
  {
   "cell_type": "markdown",
   "metadata": {
    "lc_cell_meme": {
     "current": "df4dfd5c-1fe5-11ea-9c7d-02420a0101eb",
     "history": [
      {
       "current": "4197af46-1b25-11ea-b53e-02420a010f43",
       "next": "4a5d6ab0-1a64-11ea-b53e-02420a010f43",
       "previous": "4a5d6998-1a64-11ea-b53e-02420a010f43"
      }
     ],
     "next": "df4dff1e-1fe5-11ea-9c7d-02420a0101eb",
     "previous": "df4dfc4e-1fe5-11ea-9c7d-02420a0101eb"
    }
   },
   "source": [
    "1文字目が同じ場合は2文字目を比較していることを確認してください。"
   ]
  },
  {
   "cell_type": "markdown",
   "metadata": {
    "lc_cell_meme": {
     "current": "df4dff1e-1fe5-11ea-9c7d-02420a0101eb",
     "history": [
      {
       "current": "4a5d6ab0-1a64-11ea-b53e-02420a010f43",
       "next": "15c6db90-0751-11ea-a9f8-02420a0100a0",
       "previous": "4a5d6998-1a64-11ea-b53e-02420a010f43"
      },
      {
       "current": "4a5d6ab0-1a64-11ea-b53e-02420a010f43",
       "next": "15c6db90-0751-11ea-a9f8-02420a0100a0",
       "previous": "4197af46-1b25-11ea-b53e-02420a010f43"
      }
     ],
     "next": "df4e002c-1fe5-11ea-9c7d-02420a0101eb",
     "previous": "df4dfd5c-1fe5-11ea-9c7d-02420a0101eb"
    }
   },
   "source": [
    "### カードの探索"
   ]
  },
  {
   "cell_type": "markdown",
   "metadata": {
    "lc_cell_meme": {
     "current": "df4e002c-1fe5-11ea-9c7d-02420a0101eb",
     "history": [
      {
       "current": "15c6db90-0751-11ea-a9f8-02420a0100a0",
       "next": "37a8127e-04f4-11ea-84d4-02420a0100a0",
       "previous": "15c6d7c6-0751-11ea-a9f8-02420a0100a0"
      },
      {
       "current": "15c6db90-0751-11ea-a9f8-02420a0100a0",
       "next": "37a8156c-04f4-11ea-84d4-02420a0100a0",
       "previous": "15c6d7c6-0751-11ea-a9f8-02420a0100a0"
      },
      {
       "current": "15c6db90-0751-11ea-a9f8-02420a0100a0",
       "next": "e499f2e0-159d-11ea-b53e-02420a010f43",
       "previous": "15c6d7c6-0751-11ea-a9f8-02420a0100a0"
      },
      {
       "current": "15c6db90-0751-11ea-a9f8-02420a0100a0",
       "next": "1e79ef8c-17c0-11ea-b53e-02420a010f43",
       "previous": "15c6d7c6-0751-11ea-a9f8-02420a0100a0"
      },
      {
       "current": "15c6db90-0751-11ea-a9f8-02420a0100a0",
       "next": "1e79ef8c-17c0-11ea-b53e-02420a010f43",
       "previous": "15c6d7c6-0751-11ea-a9f8-02420a0100a0"
      },
      {
       "current": "15c6db90-0751-11ea-a9f8-02420a0100a0",
       "next": "1e79ef8c-17c0-11ea-b53e-02420a010f43",
       "previous": "15c6d7c6-0751-11ea-a9f8-02420a0100a0"
      },
      {
       "current": "15c6db90-0751-11ea-a9f8-02420a0100a0",
       "next": "1e79ef8c-17c0-11ea-b53e-02420a010f43",
       "previous": "15c6d7c6-0751-11ea-a9f8-02420a0100a0"
      },
      {
       "current": "15c6db90-0751-11ea-a9f8-02420a0100a0",
       "next": "1e79ef8c-17c0-11ea-b53e-02420a010f43",
       "previous": "15c6d7c6-0751-11ea-a9f8-02420a0100a0"
      },
      {
       "current": "15c6db90-0751-11ea-a9f8-02420a0100a0",
       "next": "1e79ef8c-17c0-11ea-b53e-02420a010f43",
       "previous": "15c6d7c6-0751-11ea-a9f8-02420a0100a0"
      },
      {
       "current": "15c6db90-0751-11ea-a9f8-02420a0100a0",
       "next": "1e79ef8c-17c0-11ea-b53e-02420a010f43",
       "previous": "15c6d7c6-0751-11ea-a9f8-02420a0100a0"
      },
      {
       "current": "15c6db90-0751-11ea-a9f8-02420a0100a0",
       "next": "1e79ef8c-17c0-11ea-b53e-02420a010f43",
       "previous": "15c6d7c6-0751-11ea-a9f8-02420a0100a0"
      },
      {
       "current": "15c6db90-0751-11ea-a9f8-02420a0100a0",
       "next": "1e79ef8c-17c0-11ea-b53e-02420a010f43",
       "previous": "15c6d7c6-0751-11ea-a9f8-02420a0100a0"
      },
      {
       "current": "15c6db90-0751-11ea-a9f8-02420a0100a0",
       "next": "1e79ef8c-17c0-11ea-b53e-02420a010f43",
       "previous": "15c6d7c6-0751-11ea-a9f8-02420a0100a0"
      },
      {
       "current": "15c6db90-0751-11ea-a9f8-02420a0100a0",
       "next": "1e79ef8c-17c0-11ea-b53e-02420a010f43",
       "previous": "15c6d7c6-0751-11ea-a9f8-02420a0100a0"
      },
      {
       "current": "15c6db90-0751-11ea-a9f8-02420a0100a0",
       "next": "1e79ef8c-17c0-11ea-b53e-02420a010f43",
       "previous": "15c6d7c6-0751-11ea-a9f8-02420a0100a0"
      },
      {
       "current": "15c6db90-0751-11ea-a9f8-02420a0100a0",
       "next": "1e79ef8c-17c0-11ea-b53e-02420a010f43",
       "previous": "15c6d7c6-0751-11ea-a9f8-02420a0100a0"
      },
      {
       "current": "15c6db90-0751-11ea-a9f8-02420a0100a0",
       "next": "1e79ef8c-17c0-11ea-b53e-02420a010f43",
       "previous": "15c6d7c6-0751-11ea-a9f8-02420a0100a0"
      },
      {
       "current": "15c6db90-0751-11ea-a9f8-02420a0100a0",
       "next": "1e79ef8c-17c0-11ea-b53e-02420a010f43",
       "previous": "4a5d6ab0-1a64-11ea-b53e-02420a010f43"
      }
     ],
     "next": "df4e01d0-1fe5-11ea-9c7d-02420a0101eb",
     "previous": "df4dff1e-1fe5-11ea-9c7d-02420a0101eb"
    }
   },
   "source": [
    "リストfirstにジョーカー\"J\"が含まれているか、次の線形探索アルゴリズムを使用して調べます。\n",
    "<img src=\"fig_09_032.png\">"
   ]
  },
  {
   "cell_type": "markdown",
   "metadata": {
    "lc_cell_meme": {
     "current": "df4e01d0-1fe5-11ea-9c7d-02420a0101eb",
     "history": [
      {
       "current": "1e79ef8c-17c0-11ea-b53e-02420a010f43",
       "next": "e499f2e0-159d-11ea-b53e-02420a010f43",
       "previous": "15c6db90-0751-11ea-a9f8-02420a0100a0"
      }
     ],
     "next": "df4e02e8-1fe5-11ea-9c7d-02420a0101eb",
     "previous": "df4e002c-1fe5-11ea-9c7d-02420a0101eb"
    }
   },
   "source": [
    "このアルゴリズム（ジョーカーを探す）の探索手順は次のようになります。<BR>\n",
    "- 探索するリストからカードデータを1つ取り出します。\n",
    "- 取り出したカードとジョーカーを比較し、ジョーカーだったら「発見」とし探索を終了します。\n",
    "- 違ったら次のカードを取り出して探索を繰り返す。カードが無くなった「未発見」で終了します。"
   ]
  },
  {
   "cell_type": "markdown",
   "metadata": {
    "lc_cell_meme": {
     "current": "df4e02e8-1fe5-11ea-9c7d-02420a0101eb",
     "history": [
      {
       "current": "e499f2e0-159d-11ea-b53e-02420a010f43",
       "next": "37a8156c-04f4-11ea-84d4-02420a0100a0",
       "previous": "15c6db90-0751-11ea-a9f8-02420a0100a0"
      },
      {
       "current": "e499f2e0-159d-11ea-b53e-02420a010f43",
       "next": "37a8156c-04f4-11ea-84d4-02420a0100a0",
       "previous": "1e79ef8c-17c0-11ea-b53e-02420a010f43"
      }
     ],
     "next": "df4e03ce-1fe5-11ea-9c7d-02420a0101eb",
     "previous": "df4e01d0-1fe5-11ea-9c7d-02420a0101eb"
    }
   },
   "source": [
    "### 関数findJ()の定義"
   ]
  },
  {
   "cell_type": "markdown",
   "metadata": {
    "lc_cell_meme": {
     "current": "df4e03ce-1fe5-11ea-9c7d-02420a0101eb",
     "history": [
      {
       "current": "2c7875f4-fc40-11e9-a9f8-02420a0100a0",
       "next": "9d62e1b0-fc3f-11e9-a9f8-02420a0100a0",
       "previous": "8bf652ac-9e22-11e9-9f4c-02420a010067"
      },
      {
       "current": "37a8156c-04f4-11ea-84d4-02420a0100a0",
       "next": "37a816d4-04f4-11ea-84d4-02420a0100a0",
       "previous": "37a813dc-04f4-11ea-84d4-02420a0100a0"
      },
      {
       "current": "37a8156c-04f4-11ea-84d4-02420a0100a0",
       "next": "37a816d4-04f4-11ea-84d4-02420a0100a0",
       "previous": "37a8127e-04f4-11ea-84d4-02420a0100a0"
      },
      {
       "current": "37a8156c-04f4-11ea-84d4-02420a0100a0",
       "next": "37a816d4-04f4-11ea-84d4-02420a0100a0",
       "previous": "15c6db90-0751-11ea-a9f8-02420a0100a0"
      },
      {
       "current": "37a8156c-04f4-11ea-84d4-02420a0100a0",
       "next": "37a816d4-04f4-11ea-84d4-02420a0100a0",
       "previous": "e499f2e0-159d-11ea-b53e-02420a010f43"
      }
     ],
     "next": "df4e04be-1fe5-11ea-9c7d-02420a0101eb",
     "previous": "df4e02e8-1fe5-11ea-9c7d-02420a0101eb"
    }
   },
   "source": [
    "1.2.5の探索処理を関数findJ()で定義してください。<br>\n",
    "<br>\n",
    "教科書p.96の解説\n",
    "- 手札を探索する例では、ジョーカーが見つかったら繰り返し処理を終了するために、「break」を使用しています。<br>\n",
    "- breakの代わりにreturnを利用することもできます。"
   ]
  },
  {
   "cell_type": "code",
   "execution_count": null,
   "metadata": {
    "lc_cell_meme": {
     "current": "df4e04be-1fe5-11ea-9c7d-02420a0101eb",
     "history": [
      {
       "current": "9d62e1b0-fc3f-11e9-a9f8-02420a0100a0",
       "next": "8bf65310-9e22-11e9-9f4c-02420a010067",
       "previous": "8bf652ac-9e22-11e9-9f4c-02420a010067"
      },
      {
       "current": "9d62e1b0-fc3f-11e9-a9f8-02420a0100a0",
       "next": "8bf65310-9e22-11e9-9f4c-02420a010067",
       "previous": "2c7875f4-fc40-11e9-a9f8-02420a0100a0"
      },
      {
       "current": "37a816d4-04f4-11ea-84d4-02420a0100a0",
       "next": "37a818f0-04f4-11ea-84d4-02420a0100a0",
       "previous": "37a8156c-04f4-11ea-84d4-02420a0100a0"
      },
      {
       "current": "37a816d4-04f4-11ea-84d4-02420a0100a0",
       "next": "37a81a44-04f4-11ea-84d4-02420a0100a0",
       "previous": "37a8156c-04f4-11ea-84d4-02420a0100a0"
      },
      {
       "current": "37a816d4-04f4-11ea-84d4-02420a0100a0",
       "next": "37a81a44-04f4-11ea-84d4-02420a0100a0",
       "previous": "37a8156c-04f4-11ea-84d4-02420a0100a0"
      },
      {
       "current": "37a816d4-04f4-11ea-84d4-02420a0100a0",
       "next": "c8a4f2b0-1589-11ea-b53e-02420a010f43",
       "previous": "37a8156c-04f4-11ea-84d4-02420a0100a0"
      },
      {
       "current": "df4e04be-1fe5-11ea-9c7d-02420a0101eb",
       "next": "df4e05c2-1fe5-11ea-9c7d-02420a0101eb",
       "previous": "df4e03ce-1fe5-11ea-9c7d-02420a0101eb"
      }
     ],
     "next": "df4e06da-1fe5-11ea-9c7d-02420a0101eb",
     "previous": "df4e03ce-1fe5-11ea-9c7d-02420a0101eb"
    },
    "lc_wrapper": {
     "log_history": [
      "/home/10999542xb8011f/07a/.log/20191101/20191101-094020-0753.log",
      "/home/10999542xb8011f/07a/.log/20191111/20191111-134153-0831.log",
      "/home/10999542xb8011f/07a/.log/20191111/20191111-182603-0736.log",
      "/home/10999542xb8011f/11work/.log/20191115/20191115-174208-0208.log"
     ]
    }
   },
   "outputs": [],
   "source": [
    "# 演習用入力欄\n"
   ]
  },
  {
   "cell_type": "markdown",
   "metadata": {
    "lc_cell_meme": {
     "current": "df4e06da-1fe5-11ea-9c7d-02420a0101eb",
     "history": [
      {
       "current": "e499f68c-159d-11ea-b53e-02420a010f43",
       "next": "37a81a44-04f4-11ea-84d4-02420a0100a0",
       "previous": "c8a4f2b0-1589-11ea-b53e-02420a010f43"
      },
      {
       "current": "df4e06da-1fe5-11ea-9c7d-02420a0101eb",
       "next": "df4e07de-1fe5-11ea-9c7d-02420a0101eb",
       "previous": "df4e05c2-1fe5-11ea-9c7d-02420a0101eb"
      }
     ],
     "next": "df4e07de-1fe5-11ea-9c7d-02420a0101eb",
     "previous": "df4e04be-1fe5-11ea-9c7d-02420a0101eb"
    }
   },
   "source": [
    "### 関数findJ()の呼び出し"
   ]
  },
  {
   "cell_type": "markdown",
   "metadata": {
    "lc_cell_meme": {
     "current": "df4e07de-1fe5-11ea-9c7d-02420a0101eb",
     "history": [
      {
       "current": "74012aa6-fc40-11e9-a9f8-02420a0100a0",
       "next": "32ed2786-f6e1-11e9-8b8b-02420a0103fb",
       "previous": "8bf65310-9e22-11e9-9f4c-02420a010067"
      },
      {
       "current": "74012aa6-fc40-11e9-a9f8-02420a0100a0",
       "next": "a3dd5cbe-f6e0-11e9-8b8b-02420a0103fb",
       "previous": "8bf65310-9e22-11e9-9f4c-02420a010067"
      },
      {
       "current": "37a81a44-04f4-11ea-84d4-02420a0100a0",
       "next": "37a81bca-04f4-11ea-84d4-02420a0100a0",
       "previous": "37a818f0-04f4-11ea-84d4-02420a0100a0"
      },
      {
       "current": "37a81a44-04f4-11ea-84d4-02420a0100a0",
       "next": "37a81bca-04f4-11ea-84d4-02420a0100a0",
       "previous": "37a816d4-04f4-11ea-84d4-02420a0100a0"
      },
      {
       "current": "37a81a44-04f4-11ea-84d4-02420a0100a0",
       "next": "37a81bca-04f4-11ea-84d4-02420a0100a0",
       "previous": "37a816d4-04f4-11ea-84d4-02420a0100a0"
      },
      {
       "current": "37a81a44-04f4-11ea-84d4-02420a0100a0",
       "next": "37a81bca-04f4-11ea-84d4-02420a0100a0",
       "previous": "37a816d4-04f4-11ea-84d4-02420a0100a0"
      },
      {
       "current": "37a81a44-04f4-11ea-84d4-02420a0100a0",
       "next": "37a81bca-04f4-11ea-84d4-02420a0100a0",
       "previous": "37a816d4-04f4-11ea-84d4-02420a0100a0"
      },
      {
       "current": "37a81a44-04f4-11ea-84d4-02420a0100a0",
       "next": "37a81bca-04f4-11ea-84d4-02420a0100a0",
       "previous": "37a816d4-04f4-11ea-84d4-02420a0100a0"
      },
      {
       "current": "37a81a44-04f4-11ea-84d4-02420a0100a0",
       "next": "37a81bca-04f4-11ea-84d4-02420a0100a0",
       "previous": "37a816d4-04f4-11ea-84d4-02420a0100a0"
      },
      {
       "current": "37a81a44-04f4-11ea-84d4-02420a0100a0",
       "next": "37a81bca-04f4-11ea-84d4-02420a0100a0",
       "previous": "37a816d4-04f4-11ea-84d4-02420a0100a0"
      },
      {
       "current": "37a81a44-04f4-11ea-84d4-02420a0100a0",
       "next": "37a81bca-04f4-11ea-84d4-02420a0100a0",
       "previous": "37a816d4-04f4-11ea-84d4-02420a0100a0"
      },
      {
       "current": "37a81a44-04f4-11ea-84d4-02420a0100a0",
       "next": "37a81bca-04f4-11ea-84d4-02420a0100a0",
       "previous": "37a816d4-04f4-11ea-84d4-02420a0100a0"
      },
      {
       "current": "37a81a44-04f4-11ea-84d4-02420a0100a0",
       "next": "37a81bca-04f4-11ea-84d4-02420a0100a0",
       "previous": "37a816d4-04f4-11ea-84d4-02420a0100a0"
      },
      {
       "current": "37a81a44-04f4-11ea-84d4-02420a0100a0",
       "next": "37a81bca-04f4-11ea-84d4-02420a0100a0",
       "previous": "37a816d4-04f4-11ea-84d4-02420a0100a0"
      },
      {
       "current": "37a81a44-04f4-11ea-84d4-02420a0100a0",
       "next": "c8a4f878-1589-11ea-b53e-02420a010f43",
       "previous": "c8a4f2b0-1589-11ea-b53e-02420a010f43"
      },
      {
       "current": "37a81a44-04f4-11ea-84d4-02420a0100a0",
       "next": "c8a4f878-1589-11ea-b53e-02420a010f43",
       "previous": "e499f68c-159d-11ea-b53e-02420a010f43"
      },
      {
       "current": "37a81a44-04f4-11ea-84d4-02420a0100a0",
       "next": "700c4c76-1a6a-11ea-b53e-02420a010f43",
       "previous": "e499f68c-159d-11ea-b53e-02420a010f43"
      }
     ],
     "next": "df4e08ec-1fe5-11ea-9c7d-02420a0101eb",
     "previous": "df4e06da-1fe5-11ea-9c7d-02420a0101eb"
    }
   },
   "source": [
    "まずは全てのトランプカードを格納したリストcardsを利用して\"ジョーカー\"を探索してみます。評価してください。"
   ]
  },
  {
   "cell_type": "code",
   "execution_count": null,
   "metadata": {
    "lc_cell_meme": {
     "current": "df4e08ec-1fe5-11ea-9c7d-02420a0101eb",
     "history": [
      {
       "current": "700c4c76-1a6a-11ea-b53e-02420a010f43",
       "next": "700c50f4-1a6a-11ea-b53e-02420a010f43",
       "previous": "37a81a44-04f4-11ea-84d4-02420a0100a0"
      }
     ],
     "next": "df4e0a9a-1fe5-11ea-9c7d-02420a0101eb",
     "previous": "df4e07de-1fe5-11ea-9c7d-02420a0101eb"
    },
    "lc_wrapper": {
     "log_history": [
      "/home/10999542xb8011f/11work/.log/20191209/20191209-190059-0985.log",
      "/home/10999542xb8011f/11work/.log/20191209/20191209-190141-0204.log",
      "/home/10999542xb8011f/11work/.log/20191209/20191209-190217-0016.log",
      "/home/10999542xb8011f/11work/.log/20191209/20191209-190443-0242.log",
      "/home/10999542xb8011f/11work/.log/20191210/20191210-091115-0169.log",
      "/home/10999542xb8011f/11a/.log/20191216/20191216-182839-0701.log"
     ]
    }
   },
   "outputs": [],
   "source": [
    "# このセルを評価すること\n",
    "findJ(cards)"
   ]
  },
  {
   "cell_type": "markdown",
   "metadata": {
    "lc_cell_meme": {
     "current": "df4e0a9a-1fe5-11ea-9c7d-02420a0101eb",
     "history": [
      {
       "current": "700c50f4-1a6a-11ea-b53e-02420a010f43",
       "next": "c8a4f878-1589-11ea-b53e-02420a010f43",
       "previous": "700c4c76-1a6a-11ea-b53e-02420a010f43"
      },
      {
       "current": "700c50f4-1a6a-11ea-b53e-02420a010f43",
       "next": "b7933aaa-1a6a-11ea-b53e-02420a010f43",
       "previous": "700c4c76-1a6a-11ea-b53e-02420a010f43"
      },
      {
       "current": "700c50f4-1a6a-11ea-b53e-02420a010f43",
       "next": "46a54b34-1a6b-11ea-b53e-02420a010f43",
       "previous": "700c4c76-1a6a-11ea-b53e-02420a010f43"
      }
     ],
     "next": "df4e0b9e-1fe5-11ea-9c7d-02420a0101eb",
     "previous": "df4e08ec-1fe5-11ea-9c7d-02420a0101eb"
    }
   },
   "source": [
    "つぎにもう一度リストfirstを評価して、要素を確認してみます、評価してください。"
   ]
  },
  {
   "cell_type": "code",
   "execution_count": null,
   "metadata": {
    "lc_cell_meme": {
     "current": "df4e0b9e-1fe5-11ea-9c7d-02420a0101eb",
     "history": [
      {
       "current": "46a54b34-1a6b-11ea-b53e-02420a010f43",
       "next": "b7933aaa-1a6a-11ea-b53e-02420a010f43",
       "previous": "700c50f4-1a6a-11ea-b53e-02420a010f43"
      }
     ],
     "next": "df4e0ca2-1fe5-11ea-9c7d-02420a0101eb",
     "previous": "df4e0a9a-1fe5-11ea-9c7d-02420a0101eb"
    },
    "lc_wrapper": {
     "log_history": [
      "/home/10999542xb8011f/11work/.log/20191209/20191209-190408-0114.log",
      "/home/10999542xb8011f/11work/.log/20191209/20191209-190450-0203.log",
      "/home/10999542xb8011f/11work/.log/20191210/20191210-091120-0097.log",
      "/home/10999542xb8011f/11a/.log/20191216/20191216-182840-0707.log"
     ]
    }
   },
   "outputs": [],
   "source": [
    "# このセルを評価すること\n",
    "first"
   ]
  },
  {
   "cell_type": "markdown",
   "metadata": {
    "lc_cell_meme": {
     "current": "df4e0ca2-1fe5-11ea-9c7d-02420a0101eb",
     "history": [
      {
       "current": "b7933aaa-1a6a-11ea-b53e-02420a010f43",
       "next": "c8a4f878-1589-11ea-b53e-02420a010f43",
       "previous": "700c50f4-1a6a-11ea-b53e-02420a010f43"
      },
      {
       "current": "b7933aaa-1a6a-11ea-b53e-02420a010f43",
       "next": "c8a4f878-1589-11ea-b53e-02420a010f43",
       "previous": "46a54b34-1a6b-11ea-b53e-02420a010f43"
      }
     ],
     "next": "df4e0d9c-1fe5-11ea-9c7d-02420a0101eb",
     "previous": "df4e0b9e-1fe5-11ea-9c7d-02420a0101eb"
    }
   },
   "source": [
    "引数としてリストfirstを指定して関数findJ()を評価してください"
   ]
  },
  {
   "cell_type": "code",
   "execution_count": null,
   "metadata": {
    "lc_cell_meme": {
     "current": "df4e0d9c-1fe5-11ea-9c7d-02420a0101eb",
     "history": [
      {
       "current": "c8a4f878-1589-11ea-b53e-02420a010f43",
       "next": "c8a4f9e0-1589-11ea-b53e-02420a010f43",
       "previous": "37a81a44-04f4-11ea-84d4-02420a0100a0"
      },
      {
       "current": "c8a4f878-1589-11ea-b53e-02420a010f43",
       "next": "c8a4f9e0-1589-11ea-b53e-02420a010f43",
       "previous": "700c50f4-1a6a-11ea-b53e-02420a010f43"
      },
      {
       "current": "c8a4f878-1589-11ea-b53e-02420a010f43",
       "next": "c8a4f9e0-1589-11ea-b53e-02420a010f43",
       "previous": "b7933aaa-1a6a-11ea-b53e-02420a010f43"
      },
      {
       "current": "df4e0d9c-1fe5-11ea-9c7d-02420a0101eb",
       "next": "df4e0e8c-1fe5-11ea-9c7d-02420a0101eb",
       "previous": "df4e0ca2-1fe5-11ea-9c7d-02420a0101eb"
      }
     ],
     "next": "df4e0f86-1fe5-11ea-9c7d-02420a0101eb",
     "previous": "df4e0ca2-1fe5-11ea-9c7d-02420a0101eb"
    },
    "lc_wrapper": {
     "log_history": [
      "/home/10999542xb8011f/11work/.log/20191115/20191115-174631-0590.log",
      "/home/10999542xb8011f/11work/.log/20191207/20191207-162312-0376.log"
     ]
    }
   },
   "outputs": [],
   "source": [
    "# 演習用入力欄\n"
   ]
  },
  {
   "cell_type": "markdown",
   "metadata": {
    "lc_cell_meme": {
     "current": "df4e0f86-1fe5-11ea-9c7d-02420a0101eb",
     "history": [
      {
       "current": "c8a4faf8-1589-11ea-b53e-02420a010f43",
       "next": "37a81bca-04f4-11ea-84d4-02420a0100a0",
       "previous": "c8a4f9e0-1589-11ea-b53e-02420a010f43"
      },
      {
       "current": "df4e0f86-1fe5-11ea-9c7d-02420a0101eb",
       "next": "df4e1080-1fe5-11ea-9c7d-02420a0101eb",
       "previous": "df4e0e8c-1fe5-11ea-9c7d-02420a0101eb"
      }
     ],
     "next": "df4e1080-1fe5-11ea-9c7d-02420a0101eb",
     "previous": "df4e0d9c-1fe5-11ea-9c7d-02420a0101eb"
    }
   },
   "source": [
    "ヒント：　リストfirst内にジョーカー\"J\"が含まれていた場合は、「発見」が表示されます。<BR>\n",
    "**「発見」が表示されない場合は、「1.2.3  randomモジュールの利用」に戻り、ジョーカーが含まれているか確認をしてください。**"
   ]
  },
  {
   "cell_type": "markdown",
   "metadata": {
    "lc_cell_meme": {
     "current": "df4e1080-1fe5-11ea-9c7d-02420a0101eb",
     "history": [
      {
       "current": "a3dd5cbe-f6e0-11e9-8b8b-02420a0103fb",
       "next": "8bf653ce-9e22-11e9-9f4c-02420a010067",
       "previous": "8bf65374-9e22-11e9-9f4c-02420a010067"
      },
      {
       "current": "a3dd5cbe-f6e0-11e9-8b8b-02420a0103fb",
       "next": "8bf653ce-9e22-11e9-9f4c-02420a010067",
       "previous": "32ed2786-f6e1-11e9-8b8b-02420a0103fb"
      },
      {
       "current": "a3dd5cbe-f6e0-11e9-8b8b-02420a0103fb",
       "next": "8bf653ce-9e22-11e9-9f4c-02420a010067",
       "previous": "0986a1dc-f6e2-11e9-8b8b-02420a0103fb"
      },
      {
       "current": "a3dd5cbe-f6e0-11e9-8b8b-02420a0103fb",
       "next": "8bf653ce-9e22-11e9-9f4c-02420a010067",
       "previous": "32ed2786-f6e1-11e9-8b8b-02420a0103fb"
      },
      {
       "current": "a3dd5cbe-f6e0-11e9-8b8b-02420a0103fb",
       "next": "32ed2786-f6e1-11e9-8b8b-02420a0103fb",
       "previous": "74012aa6-fc40-11e9-a9f8-02420a0100a0"
      },
      {
       "current": "a3dd5cbe-f6e0-11e9-8b8b-02420a0103fb",
       "next": "8bf653ce-9e22-11e9-9f4c-02420a010067",
       "previous": "74012aa6-fc40-11e9-a9f8-02420a0100a0"
      },
      {
       "current": "a3dd5cbe-f6e0-11e9-8b8b-02420a0103fb",
       "next": "dc3929da-0202-11ea-a9f8-02420a0100a0",
       "previous": "74012aa6-fc40-11e9-a9f8-02420a0100a0"
      },
      {
       "current": "37a81bca-04f4-11ea-84d4-02420a0100a0",
       "next": "37a81d46-04f4-11ea-84d4-02420a0100a0",
       "previous": "37a81a44-04f4-11ea-84d4-02420a0100a0"
      },
      {
       "current": "37a81bca-04f4-11ea-84d4-02420a0100a0",
       "next": "37a81d46-04f4-11ea-84d4-02420a0100a0",
       "previous": "37a81a44-04f4-11ea-84d4-02420a0100a0"
      },
      {
       "current": "37a81bca-04f4-11ea-84d4-02420a0100a0",
       "next": "37a81d46-04f4-11ea-84d4-02420a0100a0",
       "previous": "37a81a44-04f4-11ea-84d4-02420a0100a0"
      },
      {
       "current": "37a81bca-04f4-11ea-84d4-02420a0100a0",
       "next": "37a81d46-04f4-11ea-84d4-02420a0100a0",
       "previous": "37a81a44-04f4-11ea-84d4-02420a0100a0"
      },
      {
       "current": "37a81bca-04f4-11ea-84d4-02420a0100a0",
       "next": "37a81d46-04f4-11ea-84d4-02420a0100a0",
       "previous": "37a81a44-04f4-11ea-84d4-02420a0100a0"
      },
      {
       "current": "37a81bca-04f4-11ea-84d4-02420a0100a0",
       "next": "37a81d46-04f4-11ea-84d4-02420a0100a0",
       "previous": "37a81a44-04f4-11ea-84d4-02420a0100a0"
      },
      {
       "current": "37a81bca-04f4-11ea-84d4-02420a0100a0",
       "next": "37a81d46-04f4-11ea-84d4-02420a0100a0",
       "previous": "37a81a44-04f4-11ea-84d4-02420a0100a0"
      },
      {
       "current": "37a81bca-04f4-11ea-84d4-02420a0100a0",
       "next": "37a81d46-04f4-11ea-84d4-02420a0100a0",
       "previous": "37a81a44-04f4-11ea-84d4-02420a0100a0"
      },
      {
       "current": "37a81bca-04f4-11ea-84d4-02420a0100a0",
       "next": "37a81d46-04f4-11ea-84d4-02420a0100a0",
       "previous": "37a81a44-04f4-11ea-84d4-02420a0100a0"
      },
      {
       "current": "37a81bca-04f4-11ea-84d4-02420a0100a0",
       "next": "37a81d46-04f4-11ea-84d4-02420a0100a0",
       "previous": "37a81a44-04f4-11ea-84d4-02420a0100a0"
      },
      {
       "current": "37a81bca-04f4-11ea-84d4-02420a0100a0",
       "next": "37a81d46-04f4-11ea-84d4-02420a0100a0",
       "previous": "37a81a44-04f4-11ea-84d4-02420a0100a0"
      },
      {
       "current": "37a81bca-04f4-11ea-84d4-02420a0100a0",
       "next": "37a81d46-04f4-11ea-84d4-02420a0100a0",
       "previous": "c8a4faf8-1589-11ea-b53e-02420a010f43"
      }
     ],
     "next": "df4e1184-1fe5-11ea-9c7d-02420a0101eb",
     "previous": "df4e0f86-1fe5-11ea-9c7d-02420a0101eb"
    }
   },
   "source": [
    "### 線形探索アルゴリズムの処理時間"
   ]
  },
  {
   "cell_type": "markdown",
   "metadata": {
    "lc_cell_meme": {
     "current": "df4e1184-1fe5-11ea-9c7d-02420a0101eb",
     "history": [
      {
       "current": "dc3929da-0202-11ea-a9f8-02420a0100a0",
       "next": "8bf653ce-9e22-11e9-9f4c-02420a010067",
       "previous": "a3dd5cbe-f6e0-11e9-8b8b-02420a0103fb"
      },
      {
       "current": "37a81d46-04f4-11ea-84d4-02420a0100a0",
       "next": "37a81ecc-04f4-11ea-84d4-02420a0100a0",
       "previous": "37a81bca-04f4-11ea-84d4-02420a0100a0"
      },
      {
       "current": "37a81d46-04f4-11ea-84d4-02420a0100a0",
       "next": "37a82020-04f4-11ea-84d4-02420a0100a0",
       "previous": "37a81bca-04f4-11ea-84d4-02420a0100a0"
      },
      {
       "current": "37a81d46-04f4-11ea-84d4-02420a0100a0",
       "next": "dd11d092-1598-11ea-b53e-02420a010f43",
       "previous": "37a81bca-04f4-11ea-84d4-02420a0100a0"
      }
     ],
     "next": "df4e1292-1fe5-11ea-9c7d-02420a0101eb",
     "previous": "df4e1080-1fe5-11ea-9c7d-02420a0101eb"
    }
   },
   "source": [
    "以下の手順で、13枚のカードをランダムに抽出し、ジョーカーが含まれているかどうかを100000回調べて処理時間の測定を行います。<br>"
   ]
  },
  {
   "cell_type": "markdown",
   "metadata": {
    "lc_cell_meme": {
     "current": "df4e1292-1fe5-11ea-9c7d-02420a0101eb",
     "history": [
      {
       "current": "dd11d092-1598-11ea-b53e-02420a010f43",
       "next": "37a82020-04f4-11ea-84d4-02420a0100a0",
       "previous": "37a81d46-04f4-11ea-84d4-02420a0100a0"
      },
      {
       "current": "dd11d092-1598-11ea-b53e-02420a010f43",
       "next": "2497401e-1599-11ea-b53e-02420a010f43",
       "previous": "37a81d46-04f4-11ea-84d4-02420a0100a0"
      }
     ],
     "next": "df4e13a0-1fe5-11ea-9c7d-02420a0101eb",
     "previous": "df4e1184-1fe5-11ea-9c7d-02420a0101eb"
    }
   },
   "source": [
    "#### 手順1　関数findJ()の改造"
   ]
  },
  {
   "cell_type": "markdown",
   "metadata": {
    "lc_cell_meme": {
     "current": "df4e13a0-1fe5-11ea-9c7d-02420a0101eb",
     "history": [
      {
       "current": "2497401e-1599-11ea-b53e-02420a010f43",
       "next": "37a82020-04f4-11ea-84d4-02420a0100a0",
       "previous": "dd11d092-1598-11ea-b53e-02420a010f43"
      }
     ],
     "next": "df4e1486-1fe5-11ea-9c7d-02420a0101eb",
     "previous": "df4e1292-1fe5-11ea-9c7d-02420a0101eb"
    }
   },
   "source": [
    "発見した回数を集計するため、関数findJ()を改造し、発見したら1を返し、未発見では0を返すように修正してください。"
   ]
  },
  {
   "cell_type": "code",
   "execution_count": null,
   "metadata": {
    "lc_cell_meme": {
     "current": "df4e1486-1fe5-11ea-9c7d-02420a0101eb",
     "history": [
      {
       "current": "bb871930-fc40-11e9-a9f8-02420a0100a0",
       "next": "8bf65432-9e22-11e9-9f4c-02420a010067",
       "previous": "8bf653ce-9e22-11e9-9f4c-02420a010067"
      },
      {
       "current": "37a82020-04f4-11ea-84d4-02420a0100a0",
       "next": "37a8219c-04f4-11ea-84d4-02420a0100a0",
       "previous": "37a81ecc-04f4-11ea-84d4-02420a0100a0"
      },
      {
       "current": "37a82020-04f4-11ea-84d4-02420a0100a0",
       "next": "37a822fa-04f4-11ea-84d4-02420a0100a0",
       "previous": "37a81ecc-04f4-11ea-84d4-02420a0100a0"
      },
      {
       "current": "37a82020-04f4-11ea-84d4-02420a0100a0",
       "next": "37a822fa-04f4-11ea-84d4-02420a0100a0",
       "previous": "37a81d46-04f4-11ea-84d4-02420a0100a0"
      },
      {
       "current": "37a82020-04f4-11ea-84d4-02420a0100a0",
       "next": "37a82516-04f4-11ea-84d4-02420a0100a0",
       "previous": "37a81d46-04f4-11ea-84d4-02420a0100a0"
      },
      {
       "current": "37a82020-04f4-11ea-84d4-02420a0100a0",
       "next": "37a82516-04f4-11ea-84d4-02420a0100a0",
       "previous": "dd11d092-1598-11ea-b53e-02420a010f43"
      },
      {
       "current": "37a82020-04f4-11ea-84d4-02420a0100a0",
       "next": "37a82516-04f4-11ea-84d4-02420a0100a0",
       "previous": "2497401e-1599-11ea-b53e-02420a010f43"
      },
      {
       "current": "df4e1486-1fe5-11ea-9c7d-02420a0101eb",
       "next": "df4e156c-1fe5-11ea-9c7d-02420a0101eb",
       "previous": "df4e13a0-1fe5-11ea-9c7d-02420a0101eb"
      }
     ],
     "next": "df4e1670-1fe5-11ea-9c7d-02420a0101eb",
     "previous": "df4e13a0-1fe5-11ea-9c7d-02420a0101eb"
    },
    "lc_wrapper": {
     "log_history": [
      "/home/10999542xb8011f/07a/.log/20191101/20191101-094417-0368.log"
     ]
    }
   },
   "outputs": [],
   "source": [
    "# 演習用入力欄\n"
   ]
  },
  {
   "cell_type": "markdown",
   "metadata": {
    "lc_cell_meme": {
     "current": "df4e1670-1fe5-11ea-9c7d-02420a0101eb",
     "history": [
      {
       "current": "94e52c92-f6e9-11e9-8b8b-02420a0103fb",
       "next": "8bf6548c-9e22-11e9-9f4c-02420a010067",
       "previous": "8bf65432-9e22-11e9-9f4c-02420a010067"
      },
      {
       "current": "94e52c92-f6e9-11e9-8b8b-02420a0103fb",
       "next": "8bf654e6-9e22-11e9-9f4c-02420a010067",
       "previous": "8bf65432-9e22-11e9-9f4c-02420a010067"
      },
      {
       "current": "94e52c92-f6e9-11e9-8b8b-02420a0103fb",
       "next": "030bf6a4-fc41-11e9-a9f8-02420a0100a0",
       "previous": "8bf65432-9e22-11e9-9f4c-02420a010067"
      },
      {
       "current": "37a822fa-04f4-11ea-84d4-02420a0100a0",
       "next": "37a82516-04f4-11ea-84d4-02420a0100a0",
       "previous": "37a8219c-04f4-11ea-84d4-02420a0100a0"
      },
      {
       "current": "37a822fa-04f4-11ea-84d4-02420a0100a0",
       "next": "37a82516-04f4-11ea-84d4-02420a0100a0",
       "previous": "37a82020-04f4-11ea-84d4-02420a0100a0"
      },
      {
       "current": "37a822fa-04f4-11ea-84d4-02420a0100a0",
       "next": "37a82930-04f4-11ea-84d4-02420a0100a0",
       "previous": "37a82516-04f4-11ea-84d4-02420a0100a0"
      },
      {
       "current": "df4e1670-1fe5-11ea-9c7d-02420a0101eb",
       "next": "df4e1792-1fe5-11ea-9c7d-02420a0101eb",
       "previous": "df4e156c-1fe5-11ea-9c7d-02420a0101eb"
      }
     ],
     "next": "df4e1792-1fe5-11ea-9c7d-02420a0101eb",
     "previous": "df4e1486-1fe5-11ea-9c7d-02420a0101eb"
    }
   },
   "source": [
    "ヒント：　まだ関数を定義しただけで呼び出して評価していませんので、何も値は返されません。<br>"
   ]
  },
  {
   "cell_type": "markdown",
   "metadata": {
    "lc_cell_meme": {
     "current": "df4e1792-1fe5-11ea-9c7d-02420a0101eb",
     "history": [
      {
       "current": "a032dede-f6e7-11e9-8b8b-02420a0103fb",
       "next": "8bf6554a-9e22-11e9-9f4c-02420a010067",
       "previous": "8bf654e6-9e22-11e9-9f4c-02420a010067"
      },
      {
       "current": "a032dede-f6e7-11e9-8b8b-02420a0103fb",
       "next": "8bf6554a-9e22-11e9-9f4c-02420a010067",
       "previous": "8bf6548c-9e22-11e9-9f4c-02420a010067"
      },
      {
       "current": "37a82930-04f4-11ea-84d4-02420a0100a0",
       "next": "37a82ac0-04f4-11ea-84d4-02420a0100a0",
       "previous": "37a827dc-04f4-11ea-84d4-02420a0100a0"
      },
      {
       "current": "37a82930-04f4-11ea-84d4-02420a0100a0",
       "next": "37a82ac0-04f4-11ea-84d4-02420a0100a0",
       "previous": "37a822fa-04f4-11ea-84d4-02420a0100a0"
      }
     ],
     "next": "df4e1878-1fe5-11ea-9c7d-02420a0101eb",
     "previous": "df4e1670-1fe5-11ea-9c7d-02420a0101eb"
    }
   },
   "source": [
    "#### 手順2　10万回の実行"
   ]
  },
  {
   "cell_type": "markdown",
   "metadata": {
    "lc_cell_meme": {
     "current": "df4e1878-1fe5-11ea-9c7d-02420a0101eb",
     "history": [
      {
       "current": "8bf6554a-9e22-11e9-9f4c-02420a010067",
       "next": "8bf655ae-9e22-11e9-9f4c-02420a010067",
       "previous": "8bf654e6-9e22-11e9-9f4c-02420a010067"
      },
      {
       "current": "8bf6554a-9e22-11e9-9f4c-02420a010067",
       "next": "8bf655ae-9e22-11e9-9f4c-02420a010067",
       "previous": "a032dede-f6e7-11e9-8b8b-02420a0103fb"
      },
      {
       "current": "8bf6554a-9e22-11e9-9f4c-02420a010067",
       "next": "4aa16620-fc41-11e9-a9f8-02420a0100a0",
       "previous": "a032dede-f6e7-11e9-8b8b-02420a0103fb"
      },
      {
       "current": "37a82ac0-04f4-11ea-84d4-02420a0100a0",
       "next": "37a82c46-04f4-11ea-84d4-02420a0100a0",
       "previous": "37a82930-04f4-11ea-84d4-02420a0100a0"
      },
      {
       "current": "37a82ac0-04f4-11ea-84d4-02420a0100a0",
       "next": "37a830a6-04f4-11ea-84d4-02420a0100a0",
       "previous": "37a82930-04f4-11ea-84d4-02420a0100a0"
      }
     ],
     "next": "df4e197c-1fe5-11ea-9c7d-02420a0101eb",
     "previous": "df4e1792-1fe5-11ea-9c7d-02420a0101eb"
    }
   },
   "source": [
    "関数findJ()を100000回呼び出して実行してください、"
   ]
  },
  {
   "cell_type": "code",
   "execution_count": null,
   "metadata": {
    "lc_cell_meme": {
     "current": "df4e197c-1fe5-11ea-9c7d-02420a0101eb",
     "history": [
      {
       "current": "4aa16922-fc41-11e9-a9f8-02420a0100a0",
       "next": "8bf6566c-9e22-11e9-9f4c-02420a010067",
       "previous": "8bf65608-9e22-11e9-9f4c-02420a010067"
      },
      {
       "current": "37a830a6-04f4-11ea-84d4-02420a0100a0",
       "next": "37a8334e-04f4-11ea-84d4-02420a0100a0",
       "previous": "37a82eee-04f4-11ea-84d4-02420a0100a0"
      },
      {
       "current": "37a830a6-04f4-11ea-84d4-02420a0100a0",
       "next": "37a83574-04f4-11ea-84d4-02420a0100a0",
       "previous": "37a82eee-04f4-11ea-84d4-02420a0100a0"
      },
      {
       "current": "37a830a6-04f4-11ea-84d4-02420a0100a0",
       "next": "37a82c46-04f4-11ea-84d4-02420a0100a0",
       "previous": "37a82ac0-04f4-11ea-84d4-02420a0100a0"
      },
      {
       "current": "df4e197c-1fe5-11ea-9c7d-02420a0101eb",
       "next": "df4e1a76-1fe5-11ea-9c7d-02420a0101eb",
       "previous": "df4e1878-1fe5-11ea-9c7d-02420a0101eb"
      }
     ],
     "next": "df4e1d28-1fe5-11ea-9c7d-02420a0101eb",
     "previous": "df4e1878-1fe5-11ea-9c7d-02420a0101eb"
    },
    "lc_wrapper": {
     "log_history": [
      "/home/10999542xb8011f/07a/.log/20191111/20191111-182812-0088.log",
      "/home/10999542xb8011f/07a/.log/20191111/20191111-182823-0242.log"
     ]
    }
   },
   "outputs": [],
   "source": [
    "# 演習用入力欄 （要修正）\n",
    "sum = 0\n",
    "for i in range(???): # 100000回の繰り返し\n",
    "    first = random.sample(cards, 13)\n",
    "    sum += ???(???) # findJ()を呼び出して、発見されたらカウントアップする\n",
    "print(sum)"
   ]
  },
  {
   "cell_type": "markdown",
   "metadata": {
    "lc_cell_meme": {
     "current": "df4e1d28-1fe5-11ea-9c7d-02420a0101eb",
     "history": [
      {
       "current": "2378fe00-01f0-11ea-a9f8-02420a0100a0",
       "next": "8bf656c6-9e22-11e9-9f4c-02420a010067",
       "previous": "8bf6566c-9e22-11e9-9f4c-02420a010067"
      },
      {
       "current": "37a83574-04f4-11ea-84d4-02420a0100a0",
       "next": "37a8374a-04f4-11ea-84d4-02420a0100a0",
       "previous": "37a8334e-04f4-11ea-84d4-02420a0100a0"
      },
      {
       "current": "37a83574-04f4-11ea-84d4-02420a0100a0",
       "next": "37a8374a-04f4-11ea-84d4-02420a0100a0",
       "previous": "37a830a6-04f4-11ea-84d4-02420a0100a0"
      },
      {
       "current": "37a83574-04f4-11ea-84d4-02420a0100a0",
       "next": "37a8374a-04f4-11ea-84d4-02420a0100a0",
       "previous": "37a82eee-04f4-11ea-84d4-02420a0100a0"
      },
      {
       "current": "37a83574-04f4-11ea-84d4-02420a0100a0",
       "next": "37a8374a-04f4-11ea-84d4-02420a0100a0",
       "previous": "37a82c46-04f4-11ea-84d4-02420a0100a0"
      },
      {
       "current": "37a83574-04f4-11ea-84d4-02420a0100a0",
       "next": "37a83d76-04f4-11ea-84d4-02420a0100a0",
       "previous": "37a82c46-04f4-11ea-84d4-02420a0100a0"
      },
      {
       "current": "df4e1d28-1fe5-11ea-9c7d-02420a0101eb",
       "next": "df4e1f08-1fe5-11ea-9c7d-02420a0101eb",
       "previous": "df4e1a76-1fe5-11ea-9c7d-02420a0101eb"
      }
     ],
     "next": "df4e1f08-1fe5-11ea-9c7d-02420a0101eb",
     "previous": "df4e197c-1fe5-11ea-9c7d-02420a0101eb"
    }
   },
   "source": [
    "ヒント：　10万回中に発見された回数が表示されます。"
   ]
  },
  {
   "cell_type": "markdown",
   "metadata": {
    "lc_cell_meme": {
     "current": "df4e1f08-1fe5-11ea-9c7d-02420a0101eb",
     "history": [
      {
       "current": "d5d816ec-0427-11ea-a9f8-02420a0100a0",
       "next": "d5d81ae8-0427-11ea-a9f8-02420a0100a0",
       "previous": "5d353408-0423-11ea-a9f8-02420a0100a0"
      },
      {
       "current": "d5d816ec-0427-11ea-a9f8-02420a0100a0",
       "next": "d5d81ae8-0427-11ea-a9f8-02420a0100a0",
       "previous": "23790562-01f0-11ea-a9f8-02420a0100a0"
      },
      {
       "current": "37a83d76-04f4-11ea-84d4-02420a0100a0",
       "next": "37a83f9c-04f4-11ea-84d4-02420a0100a0",
       "previous": "37a83be6-04f4-11ea-84d4-02420a0100a0"
      },
      {
       "current": "37a83d76-04f4-11ea-84d4-02420a0100a0",
       "next": "37a83f9c-04f4-11ea-84d4-02420a0100a0",
       "previous": "37a83574-04f4-11ea-84d4-02420a0100a0"
      }
     ],
     "next": "df4e2020-1fe5-11ea-9c7d-02420a0101eb",
     "previous": "df4e1d28-1fe5-11ea-9c7d-02420a0101eb"
    }
   },
   "source": [
    "#### 手順3　時間の測定"
   ]
  },
  {
   "cell_type": "markdown",
   "metadata": {
    "lc_cell_meme": {
     "current": "df4e2020-1fe5-11ea-9c7d-02420a0101eb",
     "history": [
      {
       "current": "d5d81ae8-0427-11ea-a9f8-02420a0100a0",
       "next": "d5d81c46-0427-11ea-a9f8-02420a0100a0",
       "previous": "d5d816ec-0427-11ea-a9f8-02420a0100a0"
      },
      {
       "current": "37a83f9c-04f4-11ea-84d4-02420a0100a0",
       "next": "37a840f0-04f4-11ea-84d4-02420a0100a0",
       "previous": "37a83d76-04f4-11ea-84d4-02420a0100a0"
      }
     ],
     "next": "df4e2138-1fe5-11ea-9c7d-02420a0101eb",
     "previous": "df4e1f08-1fe5-11ea-9c7d-02420a0101eb"
    }
   },
   "source": [
    "「%%time」を使用して実行時間を測定します。次のセルの2行目に上のセルの内容を打ち込んで評価してください。<BR>\n",
    " **※ %%timeの上のコメント「# 演習用入力欄 （要修正）」を削除すること。コメントがあるとエラーとなる。**"
   ]
  },
  {
   "cell_type": "code",
   "execution_count": null,
   "metadata": {
    "lc_cell_meme": {
     "current": "df4e2138-1fe5-11ea-9c7d-02420a0101eb",
     "history": [
      {
       "current": "d5d81c46-0427-11ea-a9f8-02420a0100a0",
       "next": "d5d81d72-0427-11ea-a9f8-02420a0100a0",
       "previous": "d5d81ae8-0427-11ea-a9f8-02420a0100a0"
      },
      {
       "current": "37a840f0-04f4-11ea-84d4-02420a0100a0",
       "next": "37a8424e-04f4-11ea-84d4-02420a0100a0",
       "previous": "37a83f9c-04f4-11ea-84d4-02420a0100a0"
      },
      {
       "current": "37a840f0-04f4-11ea-84d4-02420a0100a0",
       "next": "37a843a2-04f4-11ea-84d4-02420a0100a0",
       "previous": "37a83f9c-04f4-11ea-84d4-02420a0100a0"
      },
      {
       "current": "37a840f0-04f4-11ea-84d4-02420a0100a0",
       "next": "37a8451e-04f4-11ea-84d4-02420a0100a0",
       "previous": "37a83f9c-04f4-11ea-84d4-02420a0100a0"
      },
      {
       "current": "df4e2138-1fe5-11ea-9c7d-02420a0101eb",
       "next": "df4e225a-1fe5-11ea-9c7d-02420a0101eb",
       "previous": "df4e2020-1fe5-11ea-9c7d-02420a0101eb"
      }
     ],
     "next": "df4e2354-1fe5-11ea-9c7d-02420a0101eb",
     "previous": "df4e2020-1fe5-11ea-9c7d-02420a0101eb"
    }
   },
   "outputs": [],
   "source": [
    "# 演習用入力欄 （要修正）評価するときは、このコメントを削除すること\n",
    "%%time\n",
    "???"
   ]
  },
  {
   "cell_type": "markdown",
   "metadata": {
    "lc_cell_meme": {
     "current": "df4e2354-1fe5-11ea-9c7d-02420a0101eb",
     "history": [
      {
       "current": "ca789892-0429-11ea-a9f8-02420a0100a0",
       "next": "4a5e9eda-0420-11ea-a9f8-02420a0100a0",
       "previous": "3b640b46-0429-11ea-a9f8-02420a0100a0"
      },
      {
       "current": "37a847d0-04f4-11ea-84d4-02420a0100a0",
       "next": "37a8494c-04f4-11ea-84d4-02420a0100a0",
       "previous": "37a84672-04f4-11ea-84d4-02420a0100a0"
      },
      {
       "current": "37a847d0-04f4-11ea-84d4-02420a0100a0",
       "next": "37a8494c-04f4-11ea-84d4-02420a0100a0",
       "previous": "37a8451e-04f4-11ea-84d4-02420a0100a0"
      },
      {
       "current": "df4e2354-1fe5-11ea-9c7d-02420a0101eb",
       "next": "df4e2462-1fe5-11ea-9c7d-02420a0101eb",
       "previous": "df4e225a-1fe5-11ea-9c7d-02420a0101eb"
      }
     ],
     "next": "df4e2462-1fe5-11ea-9c7d-02420a0101eb",
     "previous": "df4e2138-1fe5-11ea-9c7d-02420a0101eb"
    }
   },
   "source": [
    "ヒント：　Wall timeなどが表示されます。"
   ]
  },
  {
   "cell_type": "markdown",
   "metadata": {
    "lc_cell_meme": {
     "current": "df4e2462-1fe5-11ea-9c7d-02420a0101eb",
     "history": [
      {
       "current": "4a5e9eda-0420-11ea-a9f8-02420a0100a0",
       "next": "4a5ea358-0420-11ea-a9f8-02420a0100a0",
       "previous": "23790562-01f0-11ea-a9f8-02420a0100a0"
      },
      {
       "current": "4a5e9eda-0420-11ea-a9f8-02420a0100a0",
       "next": "4a5ea358-0420-11ea-a9f8-02420a0100a0",
       "previous": "ca789892-0429-11ea-a9f8-02420a0100a0"
      },
      {
       "current": "37a8494c-04f4-11ea-84d4-02420a0100a0",
       "next": "37a84b22-04f4-11ea-84d4-02420a0100a0",
       "previous": "37a847d0-04f4-11ea-84d4-02420a0100a0"
      }
     ],
     "next": "df4e2570-1fe5-11ea-9c7d-02420a0101eb",
     "previous": "df4e2354-1fe5-11ea-9c7d-02420a0101eb"
    }
   },
   "source": [
    "## 二分探索アルゴリズム"
   ]
  },
  {
   "cell_type": "markdown",
   "metadata": {
    "lc_cell_meme": {
     "current": "df4e2570-1fe5-11ea-9c7d-02420a0101eb",
     "history": [
      {
       "current": "4a5ea358-0420-11ea-a9f8-02420a0100a0",
       "next": "4a5ea542-0420-11ea-a9f8-02420a0100a0",
       "previous": "4a5e9eda-0420-11ea-a9f8-02420a0100a0"
      },
      {
       "current": "37a84b22-04f4-11ea-84d4-02420a0100a0",
       "next": "37a84cda-04f4-11ea-84d4-02420a0100a0",
       "previous": "37a8494c-04f4-11ea-84d4-02420a0100a0"
      },
      {
       "current": "37a84b22-04f4-11ea-84d4-02420a0100a0",
       "next": "37a84b22-04f4-11ea-84d4-02420a0100a0",
       "previous": "37a8494c-04f4-11ea-84d4-02420a0100a0"
      },
      {
       "current": "37a84b22-04f4-11ea-84d4-02420a0100a0",
       "next": "7f153a30-15af-11ea-b53e-02420a010f43",
       "previous": "37a8494c-04f4-11ea-84d4-02420a0100a0"
      },
      {
       "current": "37a84b22-04f4-11ea-84d4-02420a0100a0",
       "next": "37a8519e-04f4-11ea-84d4-02420a0100a0",
       "previous": "37a8494c-04f4-11ea-84d4-02420a0100a0"
      }
     ],
     "next": "df4e2688-1fe5-11ea-9c7d-02420a0101eb",
     "previous": "df4e2462-1fe5-11ea-9c7d-02420a0101eb"
    }
   },
   "source": [
    "二分探索アルゴリズムは、探索する領域を絞り込みながら探索する方法です。<BR>"
   ]
  },
  {
   "cell_type": "markdown",
   "metadata": {
    "lc_cell_meme": {
     "current": "df4e2688-1fe5-11ea-9c7d-02420a0101eb",
     "history": [
      {
       "current": "15c7db70-0423-11ea-a9f8-02420a0100a0",
       "next": "15c7dcce-0423-11ea-a9f8-02420a0100a0",
       "previous": "15c7d7ec-0423-11ea-a9f8-02420a0100a0"
      },
      {
       "current": "37a8519e-04f4-11ea-84d4-02420a0100a0",
       "next": "37a85356-04f4-11ea-84d4-02420a0100a0",
       "previous": "37a8500e-04f4-11ea-84d4-02420a0100a0"
      },
      {
       "current": "37a8519e-04f4-11ea-84d4-02420a0100a0",
       "next": "37a8550e-04f4-11ea-84d4-02420a0100a0",
       "previous": "37a8500e-04f4-11ea-84d4-02420a0100a0"
      },
      {
       "current": "37a8519e-04f4-11ea-84d4-02420a0100a0",
       "next": "37a8550e-04f4-11ea-84d4-02420a0100a0",
       "previous": "c2e77eba-15b6-11ea-b53e-02420a010f43"
      },
      {
       "current": "37a8519e-04f4-11ea-84d4-02420a0100a0",
       "next": "37a8550e-04f4-11ea-84d4-02420a0100a0",
       "previous": "0a6869f2-15b7-11ea-b53e-02420a010f43"
      },
      {
       "current": "37a8519e-04f4-11ea-84d4-02420a0100a0",
       "next": "37a8550e-04f4-11ea-84d4-02420a0100a0",
       "previous": "42efaae6-1a72-11ea-b53e-02420a010f43"
      },
      {
       "current": "37a8519e-04f4-11ea-84d4-02420a0100a0",
       "next": "37a8550e-04f4-11ea-84d4-02420a0100a0",
       "previous": "37a84b22-04f4-11ea-84d4-02420a0100a0"
      }
     ],
     "next": "df4e2778-1fe5-11ea-9c7d-02420a0101eb",
     "previous": "df4e2570-1fe5-11ea-9c7d-02420a0101eb"
    },
    "lc_wrapper": {
     "log_history": [
      "/home/10999542xb8011f/07a/.log/20191111/20191111-104352-0815.log",
      "/home/10999542xb8011f/07a/.log/20191111/20191111-104356-0802.log"
     ]
    }
   },
   "source": [
    "### 二分探索によるカードの探索"
   ]
  },
  {
   "cell_type": "markdown",
   "metadata": {
    "lc_cell_meme": {
     "current": "df4e2778-1fe5-11ea-9c7d-02420a0101eb",
     "history": [
      {
       "current": "5d353408-0423-11ea-a9f8-02420a0100a0",
       "next": "8bf65784-9e22-11e9-9f4c-02420a010067",
       "previous": "15c7dcce-0423-11ea-a9f8-02420a0100a0"
      },
      {
       "current": "5d353408-0423-11ea-a9f8-02420a0100a0",
       "next": "d5d816ec-0427-11ea-a9f8-02420a0100a0",
       "previous": "15c7dcce-0423-11ea-a9f8-02420a0100a0"
      },
      {
       "current": "5d353408-0423-11ea-a9f8-02420a0100a0",
       "next": "8bf65784-9e22-11e9-9f4c-02420a010067",
       "previous": "15c7dcce-0423-11ea-a9f8-02420a0100a0"
      },
      {
       "current": "37a8550e-04f4-11ea-84d4-02420a0100a0",
       "next": "37a85694-04f4-11ea-84d4-02420a0100a0",
       "previous": "37a85356-04f4-11ea-84d4-02420a0100a0"
      },
      {
       "current": "37a8550e-04f4-11ea-84d4-02420a0100a0",
       "next": "37a85694-04f4-11ea-84d4-02420a0100a0",
       "previous": "37a8519e-04f4-11ea-84d4-02420a0100a0"
      },
      {
       "current": "37a8550e-04f4-11ea-84d4-02420a0100a0",
       "next": "46a81d70-15b9-11ea-b53e-02420a010f43",
       "previous": "37a8519e-04f4-11ea-84d4-02420a0100a0"
      }
     ],
     "next": "df4e29d0-1fe5-11ea-9c7d-02420a0101eb",
     "previous": "df4e2688-1fe5-11ea-9c7d-02420a0101eb"
    }
   },
   "source": [
    "二分探索アルゴリズムを用いて、線形探索で使用したリストfirstに\"J\" が含まれているかどうかを調べるます。<BR>\n",
    "まず、リストfirstをソートするために、sort() 関数を利用します。"
   ]
  },
  {
   "cell_type": "markdown",
   "metadata": {
    "lc_cell_meme": {
     "current": "df4e29d0-1fe5-11ea-9c7d-02420a0101eb",
     "history": [
      {
       "current": "46a81d70-15b9-11ea-b53e-02420a010f43",
       "next": "46a82130-15b9-11ea-b53e-02420a010f43",
       "previous": "37a8550e-04f4-11ea-84d4-02420a0100a0"
      }
     ],
     "next": "df4e2c0a-1fe5-11ea-9c7d-02420a0101eb",
     "previous": "df4e2778-1fe5-11ea-9c7d-02420a0101eb"
    }
   },
   "source": [
    "#### 手順1　リストfistの評価"
   ]
  },
  {
   "cell_type": "markdown",
   "metadata": {
    "lc_cell_meme": {
     "current": "df4e2c0a-1fe5-11ea-9c7d-02420a0101eb",
     "history": [
      {
       "current": "46a82130-15b9-11ea-b53e-02420a010f43",
       "next": "46a82284-15b9-11ea-b53e-02420a010f43",
       "previous": "46a81d70-15b9-11ea-b53e-02420a010f43"
      }
     ],
     "next": "df4e2d18-1fe5-11ea-9c7d-02420a0101eb",
     "previous": "df4e29d0-1fe5-11ea-9c7d-02420a0101eb"
    }
   },
   "source": [
    "リストfirstを評価して、要素を確認してください。"
   ]
  },
  {
   "cell_type": "code",
   "execution_count": null,
   "metadata": {
    "lc_cell_meme": {
     "current": "df4e2d18-1fe5-11ea-9c7d-02420a0101eb",
     "history": [
      {
       "current": "46a82284-15b9-11ea-b53e-02420a010f43",
       "next": "37a85694-04f4-11ea-84d4-02420a0100a0",
       "previous": "46a82130-15b9-11ea-b53e-02420a010f43"
      }
     ],
     "next": "df4e2e08-1fe5-11ea-9c7d-02420a0101eb",
     "previous": "df4e2c0a-1fe5-11ea-9c7d-02420a0101eb"
    },
    "lc_wrapper": {
     "log_history": [
      "/home/10999542xb8011f/11work/.log/20191203/20191203-194032-0798.log",
      "/home/10999542xb8011f/11work/.log/20191203/20191203-194044-0043.log",
      "/home/10999542xb8011f/11work/.log/20191206/20191206-103244-0505.log",
      "/home/10999542xb8011f/11work/.log/20191207/20191207-163252-0693.log",
      "/home/10999542xb8011f/11work/.log/20191207/20191207-163318-0127.log",
      "/home/10999542xb8011f/11work/.log/20191207/20191207-163322-0112.log",
      "/home/10999542xb8011f/11work/.log/20191207/20191207-163403-0828.log",
      "/home/10999542xb8011f/11work/.log/20191210/20191210-085759-0729.log",
      "/home/10999542xb8011f/11work/.log/20191210/20191210-085816-0230.log",
      "/home/10999542xb8011f/11a/.log/20191216/20191216-182958-0425.log"
     ]
    }
   },
   "outputs": [],
   "source": [
    "# このセルを評価すること\n",
    "first"
   ]
  },
  {
   "cell_type": "markdown",
   "metadata": {
    "lc_cell_meme": {
     "current": "df4e2e08-1fe5-11ea-9c7d-02420a0101eb",
     "history": [
      {
       "current": "8bf65784-9e22-11e9-9f4c-02420a010067",
       "next": "8bf657e8-9e22-11e9-9f4c-02420a010067",
       "previous": "8bf6572a-9e22-11e9-9f4c-02420a010067"
      },
      {
       "current": "8bf65784-9e22-11e9-9f4c-02420a010067",
       "next": "8bf657e8-9e22-11e9-9f4c-02420a010067",
       "previous": "23790562-01f0-11ea-a9f8-02420a0100a0"
      },
      {
       "current": "8bf65784-9e22-11e9-9f4c-02420a010067",
       "next": "8bf657e8-9e22-11e9-9f4c-02420a010067",
       "previous": "493fe102-01f6-11ea-a9f8-02420a0100a0"
      },
      {
       "current": "8bf65784-9e22-11e9-9f4c-02420a010067",
       "next": "8bf657e8-9e22-11e9-9f4c-02420a010067",
       "previous": "90c2f4c4-01f6-11ea-a9f8-02420a0100a0"
      },
      {
       "current": "8bf65784-9e22-11e9-9f4c-02420a010067",
       "next": "8bf657e8-9e22-11e9-9f4c-02420a010067",
       "previous": "149cdb50-01f9-11ea-a9f8-02420a0100a0"
      },
      {
       "current": "8bf65784-9e22-11e9-9f4c-02420a010067",
       "next": "8bf657e8-9e22-11e9-9f4c-02420a010067",
       "previous": "eb2a36a4-01f9-11ea-a9f8-02420a0100a0"
      },
      {
       "current": "8bf65784-9e22-11e9-9f4c-02420a010067",
       "next": "8bf657e8-9e22-11e9-9f4c-02420a010067",
       "previous": "32b95040-01fa-11ea-a9f8-02420a0100a0"
      },
      {
       "current": "8bf65784-9e22-11e9-9f4c-02420a010067",
       "next": "8bf657e8-9e22-11e9-9f4c-02420a010067",
       "previous": "7a4e537e-01fa-11ea-a9f8-02420a0100a0"
      },
      {
       "current": "8bf65784-9e22-11e9-9f4c-02420a010067",
       "next": "8bf657e8-9e22-11e9-9f4c-02420a010067",
       "previous": "3a4846ea-01ff-11ea-a9f8-02420a0100a0"
      },
      {
       "current": "8bf65784-9e22-11e9-9f4c-02420a010067",
       "next": "8bf657e8-9e22-11e9-9f4c-02420a010067",
       "previous": "5a181e0a-01ff-11ea-a9f8-02420a0100a0"
      },
      {
       "current": "8bf65784-9e22-11e9-9f4c-02420a010067",
       "next": "8bf657e8-9e22-11e9-9f4c-02420a010067",
       "previous": "23790562-01f0-11ea-a9f8-02420a0100a0"
      },
      {
       "current": "8bf65784-9e22-11e9-9f4c-02420a010067",
       "next": "8bf657e8-9e22-11e9-9f4c-02420a010067",
       "previous": "23790562-01f0-11ea-a9f8-02420a0100a0"
      },
      {
       "current": "8bf65784-9e22-11e9-9f4c-02420a010067",
       "next": "8bf657e8-9e22-11e9-9f4c-02420a010067",
       "previous": "23790562-01f0-11ea-a9f8-02420a0100a0"
      },
      {
       "current": "8bf65784-9e22-11e9-9f4c-02420a010067",
       "next": "8bf657e8-9e22-11e9-9f4c-02420a010067",
       "previous": "4a5ea6b4-0420-11ea-a9f8-02420a0100a0"
      },
      {
       "current": "8bf65784-9e22-11e9-9f4c-02420a010067",
       "next": "8bf657e8-9e22-11e9-9f4c-02420a010067",
       "previous": "15c7dcce-0423-11ea-a9f8-02420a0100a0"
      },
      {
       "current": "8bf65784-9e22-11e9-9f4c-02420a010067",
       "next": "8bf657e8-9e22-11e9-9f4c-02420a010067",
       "previous": "5d353408-0423-11ea-a9f8-02420a0100a0"
      },
      {
       "current": "8bf65784-9e22-11e9-9f4c-02420a010067",
       "next": "8bf657e8-9e22-11e9-9f4c-02420a010067",
       "previous": "d5d81f98-0427-11ea-a9f8-02420a0100a0"
      },
      {
       "current": "8bf65784-9e22-11e9-9f4c-02420a010067",
       "next": "8bf657e8-9e22-11e9-9f4c-02420a010067",
       "previous": "3b640b46-0429-11ea-a9f8-02420a0100a0"
      },
      {
       "current": "8bf65784-9e22-11e9-9f4c-02420a010067",
       "next": "8bf657e8-9e22-11e9-9f4c-02420a010067",
       "previous": "5d353408-0423-11ea-a9f8-02420a0100a0"
      },
      {
       "current": "37a85694-04f4-11ea-84d4-02420a0100a0",
       "next": "37a8581a-04f4-11ea-84d4-02420a0100a0",
       "previous": "37a8550e-04f4-11ea-84d4-02420a0100a0"
      },
      {
       "current": "37a85694-04f4-11ea-84d4-02420a0100a0",
       "next": "37a8581a-04f4-11ea-84d4-02420a0100a0",
       "previous": "46a82284-15b9-11ea-b53e-02420a010f43"
      },
      {
       "current": "37a85694-04f4-11ea-84d4-02420a0100a0",
       "next": "37a85dd8-04f4-11ea-84d4-02420a0100a0",
       "previous": "46a82284-15b9-11ea-b53e-02420a010f43"
      }
     ],
     "next": "df4e2fa2-1fe5-11ea-9c7d-02420a0101eb",
     "previous": "df4e2d18-1fe5-11ea-9c7d-02420a0101eb"
    }
   },
   "source": [
    "#### 手順2　sort()関数でソートする"
   ]
  },
  {
   "cell_type": "markdown",
   "metadata": {
    "lc_cell_meme": {
     "current": "df4e2fa2-1fe5-11ea-9c7d-02420a0101eb",
     "execution_end_time": "2019-11-06T09:57:20.496355Z",
     "history": [
      {
       "current": "213b9e80-fc42-11e9-a9f8-02420a0100a0",
       "next": "8bf65842-9e22-11e9-9f4c-02420a010067",
       "previous": "0e5908d2-fc3f-11e9-a9f8-02420a0100a0"
      },
      {
       "current": "213b9e80-fc42-11e9-a9f8-02420a0100a0",
       "next": "8bf65842-9e22-11e9-9f4c-02420a010067",
       "previous": "c1cc88ba-01fa-11ea-a9f8-02420a0100a0"
      },
      {
       "current": "213b9e80-fc42-11e9-a9f8-02420a0100a0",
       "next": "8bf65842-9e22-11e9-9f4c-02420a010067",
       "previous": "4e405c12-042c-11ea-a9f8-02420a0100a0"
      },
      {
       "current": "213b9e80-fc42-11e9-a9f8-02420a0100a0",
       "next": "8bf65842-9e22-11e9-9f4c-02420a010067",
       "previous": "c1cc88ba-01fa-11ea-a9f8-02420a0100a0"
      },
      {
       "current": "37a85dd8-04f4-11ea-84d4-02420a0100a0",
       "next": "37a85f72-04f4-11ea-84d4-02420a0100a0",
       "previous": "37a85c70-04f4-11ea-84d4-02420a0100a0"
      },
      {
       "current": "37a85dd8-04f4-11ea-84d4-02420a0100a0",
       "next": "37a85f72-04f4-11ea-84d4-02420a0100a0",
       "previous": "37a85694-04f4-11ea-84d4-02420a0100a0"
      },
      {
       "current": "37a85dd8-04f4-11ea-84d4-02420a0100a0",
       "next": "37a86418-04f4-11ea-84d4-02420a0100a0",
       "previous": "37a85694-04f4-11ea-84d4-02420a0100a0"
      },
      {
       "current": "37a85dd8-04f4-11ea-84d4-02420a0100a0",
       "next": "3950f574-1a42-11ea-b53e-02420a010f43",
       "previous": "37a85694-04f4-11ea-84d4-02420a0100a0"
      },
      {
       "current": "37a85dd8-04f4-11ea-84d4-02420a0100a0",
       "next": "37a86418-04f4-11ea-84d4-02420a0100a0",
       "previous": "37a85694-04f4-11ea-84d4-02420a0100a0"
      }
     ],
     "next": "df4e30a6-1fe5-11ea-9c7d-02420a0101eb",
     "previous": "df4e2e08-1fe5-11ea-9c7d-02420a0101eb"
    },
    "lc_wrapper": {
     "log_history": [
      "/home/10999542xb8011f/07a/.log/20191106/20191106-185720-0474.log"
     ]
    }
   },
   "source": [
    "sort()関数を使用して、リストfirstの要素をソートします。またリストfirstを評価して要素がソートされていることを確認してください。"
   ]
  },
  {
   "cell_type": "code",
   "execution_count": null,
   "metadata": {
    "lc_cell_meme": {
     "current": "df4e30a6-1fe5-11ea-9c7d-02420a0101eb",
     "history": [
      {
       "current": "0e590d82-fc3f-11e9-a9f8-02420a0100a0",
       "next": "8bf658a6-9e22-11e9-9f4c-02420a010067",
       "previous": "8bf65842-9e22-11e9-9f4c-02420a010067"
      },
      {
       "current": "0e590d82-fc3f-11e9-a9f8-02420a0100a0",
       "next": "213ba150-fc42-11e9-a9f8-02420a0100a0",
       "previous": "8bf65842-9e22-11e9-9f4c-02420a010067"
      },
      {
       "current": "0e590d82-fc3f-11e9-a9f8-02420a0100a0",
       "next": "213ba150-fc42-11e9-a9f8-02420a0100a0",
       "previous": "fa53fbce-0203-11ea-a9f8-02420a0100a0"
      },
      {
       "current": "0e590d82-fc3f-11e9-a9f8-02420a0100a0",
       "next": "213ba150-fc42-11e9-a9f8-02420a0100a0",
       "previous": "896946ca-0204-11ea-a9f8-02420a0100a0"
      },
      {
       "current": "0e590d82-fc3f-11e9-a9f8-02420a0100a0",
       "next": "d0ed30f6-0204-11ea-a9f8-02420a0100a0",
       "previous": "896946ca-0204-11ea-a9f8-02420a0100a0"
      },
      {
       "current": "0e590d82-fc3f-11e9-a9f8-02420a0100a0",
       "next": "497d1ba4-0209-11ea-a9f8-02420a0100a0",
       "previous": "896946ca-0204-11ea-a9f8-02420a0100a0"
      },
      {
       "current": "0e590d82-fc3f-11e9-a9f8-02420a0100a0",
       "next": "d0ed30f6-0204-11ea-a9f8-02420a0100a0",
       "previous": "896946ca-0204-11ea-a9f8-02420a0100a0"
      },
      {
       "current": "37a86418-04f4-11ea-84d4-02420a0100a0",
       "next": "37a86580-04f4-11ea-84d4-02420a0100a0",
       "previous": "37a86288-04f4-11ea-84d4-02420a0100a0"
      },
      {
       "current": "37a86418-04f4-11ea-84d4-02420a0100a0",
       "next": "37a867ba-04f4-11ea-84d4-02420a0100a0",
       "previous": "37a86288-04f4-11ea-84d4-02420a0100a0"
      },
      {
       "current": "37a86418-04f4-11ea-84d4-02420a0100a0",
       "next": "37a867ba-04f4-11ea-84d4-02420a0100a0",
       "previous": "37a85f72-04f4-11ea-84d4-02420a0100a0"
      },
      {
       "current": "37a86418-04f4-11ea-84d4-02420a0100a0",
       "next": "37a867ba-04f4-11ea-84d4-02420a0100a0",
       "previous": "37a85dd8-04f4-11ea-84d4-02420a0100a0"
      },
      {
       "current": "37a86418-04f4-11ea-84d4-02420a0100a0",
       "next": "37a867ba-04f4-11ea-84d4-02420a0100a0",
       "previous": "3950f574-1a42-11ea-b53e-02420a010f43"
      },
      {
       "current": "37a86418-04f4-11ea-84d4-02420a0100a0",
       "next": "37a867ba-04f4-11ea-84d4-02420a0100a0",
       "previous": "37a85dd8-04f4-11ea-84d4-02420a0100a0"
      }
     ],
     "next": "df4e31aa-1fe5-11ea-9c7d-02420a0101eb",
     "previous": "df4e2fa2-1fe5-11ea-9c7d-02420a0101eb"
    },
    "lc_wrapper": {
     "log_history": [
      "/home/10999542xb8011f/07a/.log/20191101/20191101-090914-0105.log",
      "/home/10999542xb8011f/07a/.log/20191101/20191101-095324-0513.log",
      "/home/10999542xb8011f/07a/.log/20191108/20191108-174340-0858.log",
      "/home/10999542xb8011f/07a/.log/20191108/20191108-174401-0285.log",
      "/home/10999542xb8011f/07a/.log/20191108/20191108-174546-0763.log",
      "/home/10999542xb8011f/07a/.log/20191108/20191108-174635-0478.log",
      "/home/10999542xb8011f/07a/.log/20191108/20191108-174642-0033.log",
      "/home/10999542xb8011f/11work/.log/20191203/20191203-194600-0834.log",
      "/home/10999542xb8011f/11work/.log/20191206/20191206-103327-0257.log",
      "/home/10999542xb8011f/11work/.log/20191207/20191207-163445-0734.log",
      "/home/10999542xb8011f/11work/.log/20191209/20191209-102031-0796.log",
      "/home/10999542xb8011f/11work/.log/20191210/20191210-085910-0589.log",
      "/home/10999542xb8011f/11a/.log/20191216/20191216-183001-0800.log"
     ]
    }
   },
   "outputs": [],
   "source": [
    "# このセルを評価すること\n",
    "first.sort()\n",
    "first"
   ]
  },
  {
   "cell_type": "markdown",
   "metadata": {
    "lc_cell_meme": {
     "current": "df4e31aa-1fe5-11ea-9c7d-02420a0101eb",
     "execution_end_time": "2019-11-01T00:55:28.307923Z",
     "history": [
      {
       "current": "213ba150-fc42-11e9-a9f8-02420a0100a0",
       "next": "8bf658a6-9e22-11e9-9f4c-02420a010067",
       "previous": "0e590d82-fc3f-11e9-a9f8-02420a0100a0"
      },
      {
       "current": "213ba150-fc42-11e9-a9f8-02420a0100a0",
       "next": "493fe102-01f6-11ea-a9f8-02420a0100a0",
       "previous": "0e590d82-fc3f-11e9-a9f8-02420a0100a0"
      },
      {
       "current": "213ba150-fc42-11e9-a9f8-02420a0100a0",
       "next": "493fe102-01f6-11ea-a9f8-02420a0100a0",
       "previous": "d0ed30f6-0204-11ea-a9f8-02420a0100a0"
      },
      {
       "current": "37a867ba-04f4-11ea-84d4-02420a0100a0",
       "next": "37a86904-04f4-11ea-84d4-02420a0100a0",
       "previous": "37a86580-04f4-11ea-84d4-02420a0100a0"
      },
      {
       "current": "37a867ba-04f4-11ea-84d4-02420a0100a0",
       "next": "37a86904-04f4-11ea-84d4-02420a0100a0",
       "previous": "37a86418-04f4-11ea-84d4-02420a0100a0"
      }
     ],
     "next": "df4e32c2-1fe5-11ea-9c7d-02420a0101eb",
     "previous": "df4e30a6-1fe5-11ea-9c7d-02420a0101eb"
    },
    "lc_wrapper": {
     "log_history": [
      "/home/10999542xb8011f/07a/.log/20191101/20191101-095528-0293.log"
     ]
    }
   },
   "source": [
    "ヒント：　アルファベット順にカードが並び変わります。"
   ]
  },
  {
   "cell_type": "markdown",
   "metadata": {
    "lc_cell_meme": {
     "current": "df4e32c2-1fe5-11ea-9c7d-02420a0101eb",
     "history": [
      {
       "current": "493fe102-01f6-11ea-a9f8-02420a0100a0",
       "next": "8bf65784-9e22-11e9-9f4c-02420a010067",
       "previous": "23790562-01f0-11ea-a9f8-02420a0100a0"
      },
      {
       "current": "493fe102-01f6-11ea-a9f8-02420a0100a0",
       "next": "90c2f4c4-01f6-11ea-a9f8-02420a0100a0",
       "previous": "23790562-01f0-11ea-a9f8-02420a0100a0"
      },
      {
       "current": "493fe102-01f6-11ea-a9f8-02420a0100a0",
       "next": "90c2f4c4-01f6-11ea-a9f8-02420a0100a0",
       "previous": "213ba150-fc42-11e9-a9f8-02420a0100a0"
      },
      {
       "current": "37a86904-04f4-11ea-84d4-02420a0100a0",
       "next": "37a86a62-04f4-11ea-84d4-02420a0100a0",
       "previous": "37a867ba-04f4-11ea-84d4-02420a0100a0"
      }
     ],
     "next": "df4e33bc-1fe5-11ea-9c7d-02420a0101eb",
     "previous": "df4e31aa-1fe5-11ea-9c7d-02420a0101eb"
    }
   },
   "source": [
    "#### アルゴリズムのプログラム化"
   ]
  },
  {
   "cell_type": "markdown",
   "metadata": {
    "lc_cell_meme": {
     "current": "df4e33bc-1fe5-11ea-9c7d-02420a0101eb",
     "history": [
      {
       "current": "90c2f4c4-01f6-11ea-a9f8-02420a0100a0",
       "next": "8bf65784-9e22-11e9-9f4c-02420a010067",
       "previous": "493fe102-01f6-11ea-a9f8-02420a0100a0"
      },
      {
       "current": "90c2f4c4-01f6-11ea-a9f8-02420a0100a0",
       "next": "149cdb50-01f9-11ea-a9f8-02420a0100a0",
       "previous": "493fe102-01f6-11ea-a9f8-02420a0100a0"
      },
      {
       "current": "37a86a62-04f4-11ea-84d4-02420a0100a0",
       "next": "37a86be8-04f4-11ea-84d4-02420a0100a0",
       "previous": "37a86904-04f4-11ea-84d4-02420a0100a0"
      }
     ],
     "next": "df4e34ac-1fe5-11ea-9c7d-02420a0101eb",
     "previous": "df4e32c2-1fe5-11ea-9c7d-02420a0101eb"
    }
   },
   "source": [
    "二分探索アルゴリズムを使用して、ジョーカー\"J\"を探索する関数findJ2を定義してください。"
   ]
  },
  {
   "cell_type": "code",
   "execution_count": null,
   "metadata": {
    "lc_cell_meme": {
     "current": "df4e34ac-1fe5-11ea-9c7d-02420a0101eb",
     "history": [
      {
       "current": "149cdb50-01f9-11ea-a9f8-02420a0100a0",
       "next": "8bf65784-9e22-11e9-9f4c-02420a010067",
       "previous": "90c2f4c4-01f6-11ea-a9f8-02420a0100a0"
      },
      {
       "current": "149cdb50-01f9-11ea-a9f8-02420a0100a0",
       "next": "eb2a36a4-01f9-11ea-a9f8-02420a0100a0",
       "previous": "90c2f4c4-01f6-11ea-a9f8-02420a0100a0"
      },
      {
       "current": "37a86be8-04f4-11ea-84d4-02420a0100a0",
       "next": "37a86d46-04f4-11ea-84d4-02420a0100a0",
       "previous": "37a86a62-04f4-11ea-84d4-02420a0100a0"
      },
      {
       "current": "37a86be8-04f4-11ea-84d4-02420a0100a0",
       "next": "37a86e9a-04f4-11ea-84d4-02420a0100a0",
       "previous": "37a86a62-04f4-11ea-84d4-02420a0100a0"
      },
      {
       "current": "37a86be8-04f4-11ea-84d4-02420a0100a0",
       "next": "37a87016-04f4-11ea-84d4-02420a0100a0",
       "previous": "37a86a62-04f4-11ea-84d4-02420a0100a0"
      },
      {
       "current": "df4e34ac-1fe5-11ea-9c7d-02420a0101eb",
       "next": "df4e35b0-1fe5-11ea-9c7d-02420a0101eb",
       "previous": "df4e33bc-1fe5-11ea-9c7d-02420a0101eb"
      }
     ],
     "next": "df4e3696-1fe5-11ea-9c7d-02420a0101eb",
     "previous": "df4e33bc-1fe5-11ea-9c7d-02420a0101eb"
    }
   },
   "outputs": [],
   "source": [
    "# 演習用入力欄 （要修正）\n",
    "def findJ2(l):\n",
    "    ???"
   ]
  },
  {
   "cell_type": "markdown",
   "metadata": {
    "lc_cell_meme": {
     "current": "df4e3696-1fe5-11ea-9c7d-02420a0101eb",
     "history": [
      {
       "current": "449b3a98-037c-11ea-a9f8-02420a0100a0",
       "next": "8bf658a6-9e22-11e9-9f4c-02420a010067",
       "previous": "7a4e537e-01fa-11ea-a9f8-02420a0100a0"
      },
      {
       "current": "37a8734a-04f4-11ea-84d4-02420a0100a0",
       "next": "37a87502-04f4-11ea-84d4-02420a0100a0",
       "previous": "37a8716a-04f4-11ea-84d4-02420a0100a0"
      },
      {
       "current": "37a8734a-04f4-11ea-84d4-02420a0100a0",
       "next": "37a87502-04f4-11ea-84d4-02420a0100a0",
       "previous": "37a87016-04f4-11ea-84d4-02420a0100a0"
      },
      {
       "current": "df4e3696-1fe5-11ea-9c7d-02420a0101eb",
       "next": "df4e377c-1fe5-11ea-9c7d-02420a0101eb",
       "previous": "df4e35b0-1fe5-11ea-9c7d-02420a0101eb"
      }
     ],
     "next": "df4e377c-1fe5-11ea-9c7d-02420a0101eb",
     "previous": "df4e34ac-1fe5-11ea-9c7d-02420a0101eb"
    }
   },
   "source": [
    "ヒント：　まだ関数を定義しただけで呼び出して評価していませんので、何も値は返されません"
   ]
  },
  {
   "cell_type": "markdown",
   "metadata": {
    "lc_cell_meme": {
     "current": "df4e377c-1fe5-11ea-9c7d-02420a0101eb",
     "history": [
      {
       "current": "8bf658a6-9e22-11e9-9f4c-02420a010067",
       "next": "8bf6590a-9e22-11e9-9f4c-02420a010067",
       "previous": "8bf65842-9e22-11e9-9f4c-02420a010067"
      },
      {
       "current": "8bf658a6-9e22-11e9-9f4c-02420a010067",
       "next": "8bf6590a-9e22-11e9-9f4c-02420a010067",
       "previous": "8bf65842-9e22-11e9-9f4c-02420a010067"
      },
      {
       "current": "8bf658a6-9e22-11e9-9f4c-02420a010067",
       "next": "8bf6590a-9e22-11e9-9f4c-02420a010067",
       "previous": "8bf65842-9e22-11e9-9f4c-02420a010067"
      },
      {
       "current": "8bf658a6-9e22-11e9-9f4c-02420a010067",
       "next": "8bf6590a-9e22-11e9-9f4c-02420a010067",
       "previous": "8bf65842-9e22-11e9-9f4c-02420a010067"
      },
      {
       "current": "8bf658a6-9e22-11e9-9f4c-02420a010067",
       "next": "8bf6590a-9e22-11e9-9f4c-02420a010067",
       "previous": "0e590d82-fc3f-11e9-a9f8-02420a0100a0"
      },
      {
       "current": "8bf658a6-9e22-11e9-9f4c-02420a010067",
       "next": "8bf6590a-9e22-11e9-9f4c-02420a010067",
       "previous": "213ba150-fc42-11e9-a9f8-02420a0100a0"
      },
      {
       "current": "8bf658a6-9e22-11e9-9f4c-02420a010067",
       "next": "8bf6590a-9e22-11e9-9f4c-02420a010067",
       "previous": "7a4e537e-01fa-11ea-a9f8-02420a0100a0"
      },
      {
       "current": "8bf658a6-9e22-11e9-9f4c-02420a010067",
       "next": "8bf6590a-9e22-11e9-9f4c-02420a010067",
       "previous": "449b3a98-037c-11ea-a9f8-02420a0100a0"
      },
      {
       "current": "37a87502-04f4-11ea-84d4-02420a0100a0",
       "next": "37a8767e-04f4-11ea-84d4-02420a0100a0",
       "previous": "37a8734a-04f4-11ea-84d4-02420a0100a0"
      }
     ],
     "next": "df4e3862-1fe5-11ea-9c7d-02420a0101eb",
     "previous": "df4e3696-1fe5-11ea-9c7d-02420a0101eb"
    }
   },
   "source": [
    "#### 10回繰り返して関数findJ2を呼び出す"
   ]
  },
  {
   "cell_type": "markdown",
   "metadata": {
    "lc_cell_meme": {
     "current": "df4e3862-1fe5-11ea-9c7d-02420a0101eb",
     "history": [
      {
       "current": "8bf6590a-9e22-11e9-9f4c-02420a010067",
       "next": "8bf65964-9e22-11e9-9f4c-02420a010067",
       "previous": "8bf658a6-9e22-11e9-9f4c-02420a010067"
      },
      {
       "current": "8bf6590a-9e22-11e9-9f4c-02420a010067",
       "next": "f7c9265c-fc42-11e9-a9f8-02420a0100a0",
       "previous": "8bf658a6-9e22-11e9-9f4c-02420a010067"
      },
      {
       "current": "37a8767e-04f4-11ea-84d4-02420a0100a0",
       "next": "37a877fa-04f4-11ea-84d4-02420a0100a0",
       "previous": "37a87502-04f4-11ea-84d4-02420a0100a0"
      }
     ],
     "next": "df4e3970-1fe5-11ea-9c7d-02420a0101eb",
     "previous": "df4e377c-1fe5-11ea-9c7d-02420a0101eb"
    }
   },
   "source": [
    "関数findJ2の動作確認をするため、10回繰り返して実行してみます。<BR>\n",
    "for文による10回の繰り返し内で、次の処理を行うプログラムを作成してください。\n",
    "- リストcardsからランダムにカード13枚を抽出してリストfirstを作成する\n",
    "- sort()関数を使用してリストfirstをソートする\n",
    "- 関数findJ2を呼び出し、ジョーカーが含まれていたら「発見」を表示する"
   ]
  },
  {
   "cell_type": "code",
   "execution_count": null,
   "metadata": {
    "lc_cell_meme": {
     "current": "df4e3970-1fe5-11ea-9c7d-02420a0101eb",
     "history": [
      {
       "current": "f7c9265c-fc42-11e9-a9f8-02420a0100a0",
       "next": "8bf65964-9e22-11e9-9f4c-02420a010067",
       "previous": "8bf6590a-9e22-11e9-9f4c-02420a010067"
      },
      {
       "current": "37a877fa-04f4-11ea-84d4-02420a0100a0",
       "next": "37a8794e-04f4-11ea-84d4-02420a0100a0",
       "previous": "37a8767e-04f4-11ea-84d4-02420a0100a0"
      },
      {
       "current": "37a877fa-04f4-11ea-84d4-02420a0100a0",
       "next": "37a87aa2-04f4-11ea-84d4-02420a0100a0",
       "previous": "37a8767e-04f4-11ea-84d4-02420a0100a0"
      },
      {
       "current": "37a877fa-04f4-11ea-84d4-02420a0100a0",
       "next": "37a87c28-04f4-11ea-84d4-02420a0100a0",
       "previous": "37a8767e-04f4-11ea-84d4-02420a0100a0"
      },
      {
       "current": "df4e3970-1fe5-11ea-9c7d-02420a0101eb",
       "next": "df4e3a74-1fe5-11ea-9c7d-02420a0101eb",
       "previous": "df4e3862-1fe5-11ea-9c7d-02420a0101eb"
      }
     ],
     "next": "df4e3bfa-1fe5-11ea-9c7d-02420a0101eb",
     "previous": "df4e3862-1fe5-11ea-9c7d-02420a0101eb"
    }
   },
   "outputs": [],
   "source": [
    "# 演習用入力欄\n"
   ]
  },
  {
   "cell_type": "markdown",
   "metadata": {
    "lc_cell_meme": {
     "current": "df4e3bfa-1fe5-11ea-9c7d-02420a0101eb",
     "history": [
      {
       "current": "8bf65a7c-9e22-11e9-9f4c-02420a010067",
       "next": "8bf65ae0-9e22-11e9-9f4c-02420a010067",
       "previous": "8bf65a22-9e22-11e9-9f4c-02420a010067"
      },
      {
       "current": "37a87f16-04f4-11ea-84d4-02420a0100a0",
       "next": "37a8806a-04f4-11ea-84d4-02420a0100a0",
       "previous": "37a87da4-04f4-11ea-84d4-02420a0100a0"
      },
      {
       "current": "37a87f16-04f4-11ea-84d4-02420a0100a0",
       "next": "37a8806a-04f4-11ea-84d4-02420a0100a0",
       "previous": "37a87c28-04f4-11ea-84d4-02420a0100a0"
      },
      {
       "current": "37a87f16-04f4-11ea-84d4-02420a0100a0",
       "next": "37a886aa-04f4-11ea-84d4-02420a0100a0",
       "previous": "37a87c28-04f4-11ea-84d4-02420a0100a0"
      },
      {
       "current": "df4e3bfa-1fe5-11ea-9c7d-02420a0101eb",
       "next": "df4e3cea-1fe5-11ea-9c7d-02420a0101eb",
       "previous": "df4e3a74-1fe5-11ea-9c7d-02420a0101eb"
      }
     ],
     "next": "df4e3cea-1fe5-11ea-9c7d-02420a0101eb",
     "previous": "df4e3970-1fe5-11ea-9c7d-02420a0101eb"
    }
   },
   "source": [
    "ヒント：　ジョーカーが含まれていた回数だけ、「発見」が表示されます。"
   ]
  },
  {
   "cell_type": "markdown",
   "metadata": {
    "lc_cell_meme": {
     "current": "df4e3cea-1fe5-11ea-9c7d-02420a0101eb",
     "history": [
      {
       "current": "cc6907d8-fc43-11e9-a9f8-02420a0100a0",
       "next": "cc690a62-fc43-11e9-a9f8-02420a0100a0",
       "previous": "8bf65b94-9e22-11e9-9f4c-02420a010067"
      },
      {
       "current": "37a886aa-04f4-11ea-84d4-02420a0100a0",
       "next": "37a88808-04f4-11ea-84d4-02420a0100a0",
       "previous": "37a88556-04f4-11ea-84d4-02420a0100a0"
      },
      {
       "current": "37a886aa-04f4-11ea-84d4-02420a0100a0",
       "next": "37a88808-04f4-11ea-84d4-02420a0100a0",
       "previous": "37a87f16-04f4-11ea-84d4-02420a0100a0"
      }
     ],
     "next": "df4e3dc6-1fe5-11ea-9c7d-02420a0101eb",
     "previous": "df4e3bfa-1fe5-11ea-9c7d-02420a0101eb"
    }
   },
   "source": [
    "###  二分探索アルゴリズムの処理時間"
   ]
  },
  {
   "cell_type": "markdown",
   "metadata": {
    "lc_cell_meme": {
     "current": "df4e3dc6-1fe5-11ea-9c7d-02420a0101eb",
     "history": [
      {
       "current": "cc690a62-fc43-11e9-a9f8-02420a0100a0",
       "next": "8bf65bf8-9e22-11e9-9f4c-02420a010067",
       "previous": "cc6907d8-fc43-11e9-a9f8-02420a0100a0"
      },
      {
       "current": "cc690a62-fc43-11e9-a9f8-02420a0100a0",
       "next": "15ec4aaa-fc44-11e9-a9f8-02420a0100a0",
       "previous": "cc6907d8-fc43-11e9-a9f8-02420a0100a0"
      },
      {
       "current": "37a88808-04f4-11ea-84d4-02420a0100a0",
       "next": "37a8895c-04f4-11ea-84d4-02420a0100a0",
       "previous": "37a886aa-04f4-11ea-84d4-02420a0100a0"
      },
      {
       "current": "37a88808-04f4-11ea-84d4-02420a0100a0",
       "next": "30df7982-1642-11ea-b53e-02420a010f43",
       "previous": "37a886aa-04f4-11ea-84d4-02420a0100a0"
      }
     ],
     "next": "df4e3ea2-1fe5-11ea-9c7d-02420a0101eb",
     "previous": "df4e3cea-1fe5-11ea-9c7d-02420a0101eb"
    }
   },
   "source": [
    "演習：　「1.2.8 線形探索アルゴリズムの処理時間」と同様に二分探索アルゴリズムを使用して、13枚のカードをランダムに抽出し、ジョーカーが含まれているかどうかを10万回調べてください。"
   ]
  },
  {
   "cell_type": "markdown",
   "metadata": {
    "lc_cell_meme": {
     "current": "df4e3ea2-1fe5-11ea-9c7d-02420a0101eb",
     "history": [
      {
       "current": "30df7982-1642-11ea-b53e-02420a010f43",
       "next": "37a8895c-04f4-11ea-84d4-02420a0100a0",
       "previous": "37a88808-04f4-11ea-84d4-02420a0100a0"
      },
      {
       "current": "30df7982-1642-11ea-b53e-02420a010f43",
       "next": "7858af5e-1642-11ea-b53e-02420a010f43",
       "previous": "37a88808-04f4-11ea-84d4-02420a0100a0"
      }
     ],
     "next": "df4e3f7e-1fe5-11ea-9c7d-02420a0101eb",
     "previous": "df4e3dc6-1fe5-11ea-9c7d-02420a0101eb"
    }
   },
   "source": [
    "#### 手順1　findJ2の改造"
   ]
  },
  {
   "cell_type": "markdown",
   "metadata": {
    "lc_cell_meme": {
     "current": "df4e3f7e-1fe5-11ea-9c7d-02420a0101eb",
     "history": [
      {
       "current": "7858af5e-1642-11ea-b53e-02420a010f43",
       "next": "37a8895c-04f4-11ea-84d4-02420a0100a0",
       "previous": "30df7982-1642-11ea-b53e-02420a010f43"
      }
     ],
     "next": "df4e405a-1fe5-11ea-9c7d-02420a0101eb",
     "previous": "df4e3ea2-1fe5-11ea-9c7d-02420a0101eb"
    }
   },
   "source": [
    "発見した回数を集計するために、発見したら1を返し、未発見では0を返すように関数findJ2()を改造してしてください。"
   ]
  },
  {
   "cell_type": "code",
   "execution_count": null,
   "metadata": {
    "lc_cell_meme": {
     "current": "df4e405a-1fe5-11ea-9c7d-02420a0101eb",
     "history": [
      {
       "current": "15ec4aaa-fc44-11e9-a9f8-02420a0100a0",
       "next": "15ec4cee-fc44-11e9-a9f8-02420a0100a0",
       "previous": "cc690a62-fc43-11e9-a9f8-02420a0100a0"
      },
      {
       "current": "37a8895c-04f4-11ea-84d4-02420a0100a0",
       "next": "37a88ae2-04f4-11ea-84d4-02420a0100a0",
       "previous": "37a88808-04f4-11ea-84d4-02420a0100a0"
      },
      {
       "current": "37a8895c-04f4-11ea-84d4-02420a0100a0",
       "next": "37a88c36-04f4-11ea-84d4-02420a0100a0",
       "previous": "37a88808-04f4-11ea-84d4-02420a0100a0"
      },
      {
       "current": "37a8895c-04f4-11ea-84d4-02420a0100a0",
       "next": "37a88c36-04f4-11ea-84d4-02420a0100a0",
       "previous": "30df7982-1642-11ea-b53e-02420a010f43"
      },
      {
       "current": "37a8895c-04f4-11ea-84d4-02420a0100a0",
       "next": "37a88c36-04f4-11ea-84d4-02420a0100a0",
       "previous": "7858af5e-1642-11ea-b53e-02420a010f43"
      },
      {
       "current": "37a8895c-04f4-11ea-84d4-02420a0100a0",
       "next": "37a88dc6-04f4-11ea-84d4-02420a0100a0",
       "previous": "7858af5e-1642-11ea-b53e-02420a010f43"
      },
      {
       "current": "df4e405a-1fe5-11ea-9c7d-02420a0101eb",
       "next": "df4e4154-1fe5-11ea-9c7d-02420a0101eb",
       "previous": "df4e3f7e-1fe5-11ea-9c7d-02420a0101eb"
      }
     ],
     "next": "df4e43b6-1fe5-11ea-9c7d-02420a0101eb",
     "previous": "df4e3f7e-1fe5-11ea-9c7d-02420a0101eb"
    }
   },
   "outputs": [],
   "source": [
    "# 演習用入力欄\n"
   ]
  },
  {
   "cell_type": "markdown",
   "metadata": {
    "lc_cell_meme": {
     "current": "df4e43b6-1fe5-11ea-9c7d-02420a0101eb",
     "history": [
      {
       "current": "82286134-007e-11ea-a9f8-02420a0100a0",
       "next": "5d76abcc-fc44-11e9-a9f8-02420a0100a0",
       "previous": "82285fcc-007e-11ea-a9f8-02420a0100a0"
      },
      {
       "current": "37a890a0-04f4-11ea-84d4-02420a0100a0",
       "next": "37a89226-04f4-11ea-84d4-02420a0100a0",
       "previous": "37a88f42-04f4-11ea-84d4-02420a0100a0"
      },
      {
       "current": "37a890a0-04f4-11ea-84d4-02420a0100a0",
       "next": "37a89226-04f4-11ea-84d4-02420a0100a0",
       "previous": "37a88dc6-04f4-11ea-84d4-02420a0100a0"
      },
      {
       "current": "df4e43b6-1fe5-11ea-9c7d-02420a0101eb",
       "next": "df4e450a-1fe5-11ea-9c7d-02420a0101eb",
       "previous": "df4e4154-1fe5-11ea-9c7d-02420a0101eb"
      }
     ],
     "next": "df4e450a-1fe5-11ea-9c7d-02420a0101eb",
     "previous": "df4e405a-1fe5-11ea-9c7d-02420a0101eb"
    }
   },
   "source": [
    "ヒント：　まだ関数を定義しただけで呼び出して評価していませんので、何も値は返されません"
   ]
  },
  {
   "cell_type": "markdown",
   "metadata": {
    "lc_cell_meme": {
     "current": "df4e450a-1fe5-11ea-9c7d-02420a0101eb",
     "history": [
      {
       "current": "5d76abcc-fc44-11e9-a9f8-02420a0100a0",
       "next": "8bf65bf8-9e22-11e9-9f4c-02420a010067",
       "previous": "15ec4e38-fc44-11e9-a9f8-02420a0100a0"
      },
      {
       "current": "5d76abcc-fc44-11e9-a9f8-02420a0100a0",
       "next": "8bf65bf8-9e22-11e9-9f4c-02420a010067",
       "previous": "82286134-007e-11ea-a9f8-02420a0100a0"
      },
      {
       "current": "37a89226-04f4-11ea-84d4-02420a0100a0",
       "next": "37a8937a-04f4-11ea-84d4-02420a0100a0",
       "previous": "37a890a0-04f4-11ea-84d4-02420a0100a0"
      }
     ],
     "next": "df4e45fa-1fe5-11ea-9c7d-02420a0101eb",
     "previous": "df4e43b6-1fe5-11ea-9c7d-02420a0101eb"
    }
   },
   "source": [
    "#### 手順2　100000回の実行"
   ]
  },
  {
   "cell_type": "markdown",
   "metadata": {
    "lc_cell_meme": {
     "current": "df4e45fa-1fe5-11ea-9c7d-02420a0101eb",
     "history": [
      {
       "current": "8bf65bf8-9e22-11e9-9f4c-02420a010067",
       "next": "8bf65c5c-9e22-11e9-9f4c-02420a010067",
       "previous": "8bf65b94-9e22-11e9-9f4c-02420a010067"
      },
      {
       "current": "8bf65bf8-9e22-11e9-9f4c-02420a010067",
       "next": "8bf65c5c-9e22-11e9-9f4c-02420a010067",
       "previous": "cc690a62-fc43-11e9-a9f8-02420a0100a0"
      },
      {
       "current": "8bf65bf8-9e22-11e9-9f4c-02420a010067",
       "next": "8bf65c5c-9e22-11e9-9f4c-02420a010067",
       "previous": "15ec4e38-fc44-11e9-a9f8-02420a0100a0"
      },
      {
       "current": "8bf65bf8-9e22-11e9-9f4c-02420a010067",
       "next": "8bf65c5c-9e22-11e9-9f4c-02420a010067",
       "previous": "5d76abcc-fc44-11e9-a9f8-02420a0100a0"
      },
      {
       "current": "8bf65bf8-9e22-11e9-9f4c-02420a010067",
       "next": "ec807c80-fc44-11e9-a9f8-02420a0100a0",
       "previous": "5d76abcc-fc44-11e9-a9f8-02420a0100a0"
      },
      {
       "current": "37a8937a-04f4-11ea-84d4-02420a0100a0",
       "next": "37a89500-04f4-11ea-84d4-02420a0100a0",
       "previous": "37a89226-04f4-11ea-84d4-02420a0100a0"
      }
     ],
     "next": "df4e47a8-1fe5-11ea-9c7d-02420a0101eb",
     "previous": "df4e450a-1fe5-11ea-9c7d-02420a0101eb"
    }
   },
   "source": [
    "「1.1.7.2 手順2　100000回の実行」を参考に関数findJ2を100000回実行してください。"
   ]
  },
  {
   "cell_type": "code",
   "execution_count": null,
   "metadata": {
    "lc_cell_meme": {
     "current": "df4e47a8-1fe5-11ea-9c7d-02420a0101eb",
     "history": [
      {
       "current": "ec807c80-fc44-11e9-a9f8-02420a0100a0",
       "next": "8bf65c5c-9e22-11e9-9f4c-02420a010067",
       "previous": "8bf65bf8-9e22-11e9-9f4c-02420a010067"
      },
      {
       "current": "37a89500-04f4-11ea-84d4-02420a0100a0",
       "next": "37a89686-04f4-11ea-84d4-02420a0100a0",
       "previous": "37a8937a-04f4-11ea-84d4-02420a0100a0"
      },
      {
       "current": "37a89500-04f4-11ea-84d4-02420a0100a0",
       "next": "37a897da-04f4-11ea-84d4-02420a0100a0",
       "previous": "37a8937a-04f4-11ea-84d4-02420a0100a0"
      },
      {
       "current": "37a89500-04f4-11ea-84d4-02420a0100a0",
       "next": "37a89992-04f4-11ea-84d4-02420a0100a0",
       "previous": "37a8937a-04f4-11ea-84d4-02420a0100a0"
      },
      {
       "current": "df4e47a8-1fe5-11ea-9c7d-02420a0101eb",
       "next": "df4e4898-1fe5-11ea-9c7d-02420a0101eb",
       "previous": "df4e45fa-1fe5-11ea-9c7d-02420a0101eb"
      }
     ],
     "next": "df4e4988-1fe5-11ea-9c7d-02420a0101eb",
     "previous": "df4e45fa-1fe5-11ea-9c7d-02420a0101eb"
    },
    "lc_wrapper": {
     "log_history": [
      "/home/10999542xb8011f/11work/.log/20191204/20191204-132907-0931.log"
     ]
    }
   },
   "outputs": [],
   "source": [
    "# 演習用入力欄\n"
   ]
  },
  {
   "cell_type": "markdown",
   "metadata": {
    "lc_cell_meme": {
     "current": "df4e4988-1fe5-11ea-9c7d-02420a0101eb",
     "history": [
      {
       "current": "8bf65df6-9e22-11e9-9f4c-02420a010067",
       "next": "8bf65f72-9e22-11e9-9f4c-02420a010067",
       "previous": "8bf65d10-9e22-11e9-9f4c-02420a010067"
      },
      {
       "current": "8bf65df6-9e22-11e9-9f4c-02420a010067",
       "next": "58c6b812-007f-11ea-a9f8-02420a0100a0",
       "previous": "8bf65d10-9e22-11e9-9f4c-02420a010067"
      },
      {
       "current": "8bf65df6-9e22-11e9-9f4c-02420a010067",
       "next": "58c6b812-007f-11ea-a9f8-02420a0100a0",
       "previous": "8bf65d10-9e22-11e9-9f4c-02420a010067"
      },
      {
       "current": "8bf65df6-9e22-11e9-9f4c-02420a010067",
       "next": "33ccb630-0424-11ea-a9f8-02420a0100a0",
       "previous": "8bf65d10-9e22-11e9-9f4c-02420a010067"
      },
      {
       "current": "37a89cb2-04f4-11ea-84d4-02420a0100a0",
       "next": "37a89e2e-04f4-11ea-84d4-02420a0100a0",
       "previous": "37a89b22-04f4-11ea-84d4-02420a0100a0"
      },
      {
       "current": "37a89cb2-04f4-11ea-84d4-02420a0100a0",
       "next": "37a89e2e-04f4-11ea-84d4-02420a0100a0",
       "previous": "37a89992-04f4-11ea-84d4-02420a0100a0"
      },
      {
       "current": "df4e4988-1fe5-11ea-9c7d-02420a0101eb",
       "next": "df4e4a96-1fe5-11ea-9c7d-02420a0101eb",
       "previous": "df4e4898-1fe5-11ea-9c7d-02420a0101eb"
      }
     ],
     "next": "df4e4a96-1fe5-11ea-9c7d-02420a0101eb",
     "previous": "df4e47a8-1fe5-11ea-9c7d-02420a0101eb"
    }
   },
   "source": [
    "ヒント：　10万回中に発見された回数が表示されます。"
   ]
  },
  {
   "cell_type": "markdown",
   "metadata": {
    "lc_cell_meme": {
     "current": "df4e4a96-1fe5-11ea-9c7d-02420a0101eb",
     "history": [
      {
       "current": "33ccb630-0424-11ea-a9f8-02420a0100a0",
       "next": "33ccba86-0424-11ea-a9f8-02420a0100a0",
       "previous": "8bf65df6-9e22-11e9-9f4c-02420a010067"
      },
      {
       "current": "37a89e2e-04f4-11ea-84d4-02420a0100a0",
       "next": "37a89fbe-04f4-11ea-84d4-02420a0100a0",
       "previous": "37a89cb2-04f4-11ea-84d4-02420a0100a0"
      },
      {
       "current": "37a89e2e-04f4-11ea-84d4-02420a0100a0",
       "next": "30bada98-1ae1-11ea-b53e-02420a010f43",
       "previous": "37a89cb2-04f4-11ea-84d4-02420a0100a0"
      }
     ],
     "next": "df4e4b90-1fe5-11ea-9c7d-02420a0101eb",
     "previous": "df4e4988-1fe5-11ea-9c7d-02420a0101eb"
    }
   },
   "source": [
    "#### 実行時間の測定"
   ]
  },
  {
   "cell_type": "markdown",
   "metadata": {
    "lc_cell_meme": {
     "current": "df4e4b90-1fe5-11ea-9c7d-02420a0101eb",
     "history": [
      {
       "current": "30bada98-1ae1-11ea-b53e-02420a010f43",
       "next": "30badf02-1ae1-11ea-b53e-02420a010f43",
       "previous": "37a89e2e-04f4-11ea-84d4-02420a0100a0"
      }
     ],
     "next": "df4e4c76-1fe5-11ea-9c7d-02420a0101eb",
     "previous": "df4e4a96-1fe5-11ea-9c7d-02420a0101eb"
    }
   },
   "source": [
    "線形探索と二分探索の実行時間を比較できるように、最初に線形探索を10万回実施します。次のセルを評価し、実行時間を確認してください。"
   ]
  },
  {
   "cell_type": "code",
   "execution_count": null,
   "metadata": {
    "lc_cell_meme": {
     "current": "df4e4c76-1fe5-11ea-9c7d-02420a0101eb",
     "history": [
      {
       "current": "30badf02-1ae1-11ea-b53e-02420a010f43",
       "next": "30bae06a-1ae1-11ea-b53e-02420a010f43",
       "previous": "30bada98-1ae1-11ea-b53e-02420a010f43"
      }
     ],
     "next": "df4e4e10-1fe5-11ea-9c7d-02420a0101eb",
     "previous": "df4e4b90-1fe5-11ea-9c7d-02420a0101eb"
    },
    "lc_wrapper": {
     "log_history": [
      "/home/10999542xb8011f/11work/.log/20191210/20191210-091030-0633.log",
      "/home/10999542xb8011f/11work/.log/20191210/20191210-092745-0318.log",
      "/home/10999542xb8011f/11work/.log/20191210/20191210-093039-0357.log",
      "/home/10999542xb8011f/11work/.log/20191210/20191210-093514-0842.log",
      "/home/10999542xb8011f/11a/.log/20191216/20191216-183032-0182.log"
     ]
    }
   },
   "outputs": [],
   "source": [
    "%%time\n",
    "sum = 0\n",
    "for i in range(100000):\n",
    "    first = random.sample(cards, 13)\n",
    "    sum += findJ(first)\n",
    "print(sum)"
   ]
  },
  {
   "cell_type": "markdown",
   "metadata": {
    "lc_cell_meme": {
     "current": "df4e4e10-1fe5-11ea-9c7d-02420a0101eb",
     "history": [
      {
       "current": "30bae06a-1ae1-11ea-b53e-02420a010f43",
       "next": "30bae18c-1ae1-11ea-b53e-02420a010f43",
       "previous": "30badf02-1ae1-11ea-b53e-02420a010f43"
      },
      {
       "current": "30bae06a-1ae1-11ea-b53e-02420a010f43",
       "next": "37a89fbe-04f4-11ea-84d4-02420a0100a0",
       "previous": "30badf02-1ae1-11ea-b53e-02420a010f43"
      }
     ],
     "next": "df4e4f96-1fe5-11ea-9c7d-02420a0101eb",
     "previous": "df4e4c76-1fe5-11ea-9c7d-02420a0101eb"
    }
   },
   "source": [
    "ヒント：　実行時間として、Wall timeなどが表示されます。"
   ]
  },
  {
   "cell_type": "markdown",
   "metadata": {
    "lc_cell_meme": {
     "current": "df4e4f96-1fe5-11ea-9c7d-02420a0101eb",
     "execution_end_time": "2019-11-11T05:17:27.556935Z",
     "history": [
      {
       "current": "33ccba86-0424-11ea-a9f8-02420a0100a0",
       "next": "33ccbbee-0424-11ea-a9f8-02420a0100a0",
       "previous": "33ccb630-0424-11ea-a9f8-02420a0100a0"
      },
      {
       "current": "37a89fbe-04f4-11ea-84d4-02420a0100a0",
       "next": "37a8a112-04f4-11ea-84d4-02420a0100a0",
       "previous": "37a89e2e-04f4-11ea-84d4-02420a0100a0"
      },
      {
       "current": "37a89fbe-04f4-11ea-84d4-02420a0100a0",
       "next": "37a8a112-04f4-11ea-84d4-02420a0100a0",
       "previous": "30bae18c-1ae1-11ea-b53e-02420a010f43"
      },
      {
       "current": "37a89fbe-04f4-11ea-84d4-02420a0100a0",
       "next": "37a8a112-04f4-11ea-84d4-02420a0100a0",
       "previous": "30bae06a-1ae1-11ea-b53e-02420a010f43"
      }
     ],
     "next": "df4e509a-1fe5-11ea-9c7d-02420a0101eb",
     "previous": "df4e4e10-1fe5-11ea-9c7d-02420a0101eb"
    },
    "lc_wrapper": {
     "log_history": [
      "/home/10999542xb8011f/07a/.log/20191111/20191111-141727-0533.log"
     ]
    }
   },
   "source": [
    "最後に「%%time」と「1.3.2.2で作成したプログラム」を再度打ち込んで評価し、線形探索と二分探索の実行時間を比較してください。"
   ]
  },
  {
   "cell_type": "code",
   "execution_count": null,
   "metadata": {
    "lc_cell_meme": {
     "current": "df4e509a-1fe5-11ea-9c7d-02420a0101eb",
     "history": [
      {
       "current": "33ccbbee-0424-11ea-a9f8-02420a0100a0",
       "next": "33ccbd10-0424-11ea-a9f8-02420a0100a0",
       "previous": "33ccba86-0424-11ea-a9f8-02420a0100a0"
      },
      {
       "current": "37a8a112-04f4-11ea-84d4-02420a0100a0",
       "next": "37a8a2ca-04f4-11ea-84d4-02420a0100a0",
       "previous": "37a89fbe-04f4-11ea-84d4-02420a0100a0"
      },
      {
       "current": "37a8a112-04f4-11ea-84d4-02420a0100a0",
       "next": "37a8a464-04f4-11ea-84d4-02420a0100a0",
       "previous": "37a89fbe-04f4-11ea-84d4-02420a0100a0"
      },
      {
       "current": "37a8a112-04f4-11ea-84d4-02420a0100a0",
       "next": "37a8a5f4-04f4-11ea-84d4-02420a0100a0",
       "previous": "37a89fbe-04f4-11ea-84d4-02420a0100a0"
      },
      {
       "current": "df4e509a-1fe5-11ea-9c7d-02420a0101eb",
       "next": "df4e518a-1fe5-11ea-9c7d-02420a0101eb",
       "previous": "df4e4f96-1fe5-11ea-9c7d-02420a0101eb"
      }
     ],
     "next": "df4e527a-1fe5-11ea-9c7d-02420a0101eb",
     "previous": "df4e4f96-1fe5-11ea-9c7d-02420a0101eb"
    },
    "lc_wrapper": {
     "log_history": [
      "/home/10999542xb8011f/07a/.log/20191111/20191111-141727-0808.log",
      "/home/10999542xb8011f/11work/.log/20191205/20191205-180646-0232.log"
     ]
    }
   },
   "outputs": [],
   "source": [
    "# 演習用入力欄　このコメント行も削除してから評価してください。\n"
   ]
  },
  {
   "cell_type": "markdown",
   "metadata": {
    "lc_cell_meme": {
     "current": "df4e527a-1fe5-11ea-9c7d-02420a0101eb",
     "execution_end_time": "2019-11-11T01:50:07.789507Z",
     "history": [
      {
       "current": "997bc376-0425-11ea-a9f8-02420a0100a0",
       "next": "58c6b812-007f-11ea-a9f8-02420a0100a0",
       "previous": "33ccbf40-0424-11ea-a9f8-02420a0100a0"
      },
      {
       "current": "37a8a9fa-04f4-11ea-84d4-02420a0100a0",
       "next": "37a8ab62-04f4-11ea-84d4-02420a0100a0",
       "previous": "37a8a748-04f4-11ea-84d4-02420a0100a0"
      },
      {
       "current": "37a8a9fa-04f4-11ea-84d4-02420a0100a0",
       "next": "37a8ab62-04f4-11ea-84d4-02420a0100a0",
       "previous": "37a8a5f4-04f4-11ea-84d4-02420a0100a0"
      },
      {
       "current": "37a8a9fa-04f4-11ea-84d4-02420a0100a0",
       "next": "37a90a3a-04f4-11ea-84d4-02420a0100a0",
       "previous": "37a8a5f4-04f4-11ea-84d4-02420a0100a0"
      },
      {
       "current": "df4e527a-1fe5-11ea-9c7d-02420a0101eb",
       "next": "df4e53f6-1fe5-11ea-9c7d-02420a0101eb",
       "previous": "df4e518a-1fe5-11ea-9c7d-02420a0101eb"
      }
     ],
     "next": "df4e53f6-1fe5-11ea-9c7d-02420a0101eb",
     "previous": "df4e509a-1fe5-11ea-9c7d-02420a0101eb"
    },
    "lc_wrapper": {
     "log_history": [
      "/home/10999542xb8011f/07a/.log/20191111/20191111-105007-0771.log"
     ]
    }
   },
   "source": [
    "ヒント：　線形探索も二分探索も同程度の実行時間となりました。<BR>\n",
    "二分探索の処理ではトランプカードを抽出後、ソート処理$𝑂(𝑛^2)$も行っているため処理時間が長くなっています。"
   ]
  },
  {
   "cell_type": "markdown",
   "metadata": {
    "lc_cell_meme": {
     "current": "df4e53f6-1fe5-11ea-9c7d-02420a0101eb",
     "history": [
      {
       "current": "f422cd26-fc49-11e9-a9f8-02420a0100a0",
       "next": "8bf668aa-9e22-11e9-9f4c-02420a010067",
       "previous": "8bf66850-9e22-11e9-9f4c-02420a010067"
      },
      {
       "current": "f422cd26-fc49-11e9-a9f8-02420a0100a0",
       "next": null,
       "previous": "8bf662c4-9e22-11e9-9f4c-02420a010067"
      },
      {
       "current": "f422cd26-fc49-11e9-a9f8-02420a0100a0",
       "next": null,
       "previous": "8bf661a2-9e22-11e9-9f4c-02420a010067"
      },
      {
       "current": "f422cd26-fc49-11e9-a9f8-02420a0100a0",
       "next": null,
       "previous": "f90a1f12-0449-11ea-a9f8-02420a0100a0"
      },
      {
       "current": "f422cd26-fc49-11e9-a9f8-02420a0100a0",
       "next": null,
       "previous": "7768e834-045e-11ea-a9f8-02420a0100a0"
      },
      {
       "current": "f422cd26-fc49-11e9-a9f8-02420a0100a0",
       "next": null,
       "previous": "8a43d8c6-0461-11ea-a9f8-02420a0100a0"
      },
      {
       "current": "f422cd26-fc49-11e9-a9f8-02420a0100a0",
       "next": "861e9fdc-04f3-11ea-a9f8-02420a0100a0",
       "previous": "8a43d8c6-0461-11ea-a9f8-02420a0100a0"
      },
      {
       "current": "37a90a3a-04f4-11ea-84d4-02420a0100a0",
       "next": "37a90b98-04f4-11ea-84d4-02420a0100a0",
       "previous": "37a908e6-04f4-11ea-84d4-02420a0100a0"
      },
      {
       "current": "37a90a3a-04f4-11ea-84d4-02420a0100a0",
       "next": "37a90b98-04f4-11ea-84d4-02420a0100a0",
       "previous": "37a8b7ba-04f4-11ea-84d4-02420a0100a0"
      },
      {
       "current": "37a90a3a-04f4-11ea-84d4-02420a0100a0",
       "next": "37a90b98-04f4-11ea-84d4-02420a0100a0",
       "previous": "37a8a9fa-04f4-11ea-84d4-02420a0100a0"
      }
     ],
     "next": "df4e54dc-1fe5-11ea-9c7d-02420a0101eb",
     "previous": "df4e527a-1fe5-11ea-9c7d-02420a0101eb"
    }
   },
   "source": [
    "# 演習はこれで終了です。課題に進んでください。"
   ]
  },
  {
   "cell_type": "code",
   "execution_count": null,
   "metadata": {
    "lc_cell_meme": {
     "current": "df4e54dc-1fe5-11ea-9c7d-02420a0101eb",
     "history": [
      {
       "current": "861e9fdc-04f3-11ea-a9f8-02420a0100a0",
       "next": null,
       "previous": "f422cd26-fc49-11e9-a9f8-02420a0100a0"
      },
      {
       "current": "37a90b98-04f4-11ea-84d4-02420a0100a0",
       "next": null,
       "previous": "37a90a3a-04f4-11ea-84d4-02420a0100a0"
      }
     ],
     "next": null,
     "previous": "df4e53f6-1fe5-11ea-9c7d-02420a0101eb"
    }
   },
   "outputs": [],
   "source": []
  }
 ],
 "metadata": {
  "kernelspec": {
   "display_name": "Python 3",
   "language": "python",
   "name": "python3"
  },
  "language_info": {
   "file_extension": ".py",
   "mimetype": "text/x-python",
   "name": "python",
   "nbconvert_exporter": "python",
   "pygments_lexer": "ipython3",
   "version": "3.7.3"
  },
  "lc_notebook_meme": {
   "current": "df4ddf16-1fe5-11ea-9c7d-02420a0101eb",
   "history": [
    "8bf64c30-9e22-11e9-9f4c-02420a010067",
    "37a7f640-04f4-11ea-84d4-02420a0100a0"
   ],
   "lc_server_signature": {
    "current": {
     "notebook_dir": "/home/10999542xb8011f",
     "notebook_path": "/11",
     "server_url": "https://nb06.ecloud.nii.ac.jp/user/10999542xb8011f/",
     "signature_id": "1a06912c-df61-11e9-891d-02420a01002c"
    },
    "history": [
     {
      "notebook_dir": "/home/hayasakabe5305",
      "notebook_path": "/",
      "server_url": "https://nb02.ecloud.nii.ac.jp/user/hayasakabe5305/",
      "signature_id": "d7c71be2-8d85-11e9-94e8-02420a010065"
     },
     {
      "notebook_dir": "/home/hayasakabe5305",
      "notebook_path": "/06a",
      "server_url": "https://nb02.ecloud.nii.ac.jp/user/hayasakabe5305/",
      "signature_id": "d7c71be2-8d85-11e9-94e8-02420a010065"
     },
     {
      "notebook_dir": "/home/10999542xb8011f",
      "notebook_path": "/07a",
      "server_url": "https://nb06.ecloud.nii.ac.jp/user/10999542xb8011f/",
      "signature_id": "1a06912c-df61-11e9-891d-02420a01002c"
     },
     {
      "notebook_dir": "/home/10999542xb8011f",
      "notebook_path": "/07",
      "server_url": "https://nb06.ecloud.nii.ac.jp/user/10999542xb8011f/",
      "signature_id": "1a06912c-df61-11e9-891d-02420a01002c"
     },
     {
      "notebook_dir": "/home/10999542xb8011f",
      "notebook_path": "/11work",
      "server_url": "https://nb06.ecloud.nii.ac.jp/user/10999542xb8011f/",
      "signature_id": "1a06912c-df61-11e9-891d-02420a01002c"
     },
     {
      "notebook_dir": "/home/10999542xb8011f",
      "notebook_path": "/11a",
      "server_url": "https://nb06.ecloud.nii.ac.jp/user/10999542xb8011f/",
      "signature_id": "1a06912c-df61-11e9-891d-02420a01002c"
     }
    ]
   },
   "root_cells": [
    "df4de434-1fe5-11ea-9c7d-02420a0101eb",
    "df4de5d8-1fe5-11ea-9c7d-02420a0101eb",
    "df4de704-1fe5-11ea-9c7d-02420a0101eb",
    "df4de812-1fe5-11ea-9c7d-02420a0101eb",
    "df4de902-1fe5-11ea-9c7d-02420a0101eb",
    "df4dea10-1fe5-11ea-9c7d-02420a0101eb",
    "df4deb28-1fe5-11ea-9c7d-02420a0101eb",
    "df4dec2c-1fe5-11ea-9c7d-02420a0101eb",
    "df4ded12-1fe5-11ea-9c7d-02420a0101eb",
    "df4dee20-1fe5-11ea-9c7d-02420a0101eb",
    "df4def06-1fe5-11ea-9c7d-02420a0101eb",
    "df4defec-1fe5-11ea-9c7d-02420a0101eb",
    "df4df0f0-1fe5-11ea-9c7d-02420a0101eb",
    "df4df208-1fe5-11ea-9c7d-02420a0101eb",
    "df4df320-1fe5-11ea-9c7d-02420a0101eb",
    "df4df5b4-1fe5-11ea-9c7d-02420a0101eb",
    "df4df726-1fe5-11ea-9c7d-02420a0101eb",
    "df4df820-1fe5-11ea-9c7d-02420a0101eb",
    "df4df92e-1fe5-11ea-9c7d-02420a0101eb",
    "df4dfa5a-1fe5-11ea-9c7d-02420a0101eb",
    "df4dfb4a-1fe5-11ea-9c7d-02420a0101eb",
    "df4dfc4e-1fe5-11ea-9c7d-02420a0101eb",
    "df4dfd5c-1fe5-11ea-9c7d-02420a0101eb",
    "df4dff1e-1fe5-11ea-9c7d-02420a0101eb",
    "df4e002c-1fe5-11ea-9c7d-02420a0101eb",
    "df4e01d0-1fe5-11ea-9c7d-02420a0101eb",
    "df4e02e8-1fe5-11ea-9c7d-02420a0101eb",
    "df4e03ce-1fe5-11ea-9c7d-02420a0101eb",
    "df4e04be-1fe5-11ea-9c7d-02420a0101eb",
    "df4e05c2-1fe5-11ea-9c7d-02420a0101eb",
    "df4e06da-1fe5-11ea-9c7d-02420a0101eb",
    "df4e07de-1fe5-11ea-9c7d-02420a0101eb",
    "df4e08ec-1fe5-11ea-9c7d-02420a0101eb",
    "df4e0a9a-1fe5-11ea-9c7d-02420a0101eb",
    "df4e0b9e-1fe5-11ea-9c7d-02420a0101eb",
    "df4e0ca2-1fe5-11ea-9c7d-02420a0101eb",
    "df4e0d9c-1fe5-11ea-9c7d-02420a0101eb",
    "df4e0e8c-1fe5-11ea-9c7d-02420a0101eb",
    "df4e0f86-1fe5-11ea-9c7d-02420a0101eb",
    "df4e1080-1fe5-11ea-9c7d-02420a0101eb",
    "df4e1184-1fe5-11ea-9c7d-02420a0101eb",
    "df4e1292-1fe5-11ea-9c7d-02420a0101eb",
    "df4e13a0-1fe5-11ea-9c7d-02420a0101eb",
    "df4e1486-1fe5-11ea-9c7d-02420a0101eb",
    "df4e156c-1fe5-11ea-9c7d-02420a0101eb",
    "df4e1670-1fe5-11ea-9c7d-02420a0101eb",
    "df4e1792-1fe5-11ea-9c7d-02420a0101eb",
    "df4e1878-1fe5-11ea-9c7d-02420a0101eb",
    "df4e197c-1fe5-11ea-9c7d-02420a0101eb",
    "df4e1a76-1fe5-11ea-9c7d-02420a0101eb",
    "df4e1d28-1fe5-11ea-9c7d-02420a0101eb",
    "df4e1f08-1fe5-11ea-9c7d-02420a0101eb",
    "df4e2020-1fe5-11ea-9c7d-02420a0101eb",
    "df4e2138-1fe5-11ea-9c7d-02420a0101eb",
    "df4e225a-1fe5-11ea-9c7d-02420a0101eb",
    "df4e2354-1fe5-11ea-9c7d-02420a0101eb",
    "df4e2462-1fe5-11ea-9c7d-02420a0101eb",
    "df4e2570-1fe5-11ea-9c7d-02420a0101eb",
    "df4e2688-1fe5-11ea-9c7d-02420a0101eb",
    "df4e2778-1fe5-11ea-9c7d-02420a0101eb",
    "df4e29d0-1fe5-11ea-9c7d-02420a0101eb",
    "df4e2c0a-1fe5-11ea-9c7d-02420a0101eb",
    "df4e2d18-1fe5-11ea-9c7d-02420a0101eb",
    "df4e2e08-1fe5-11ea-9c7d-02420a0101eb",
    "df4e2fa2-1fe5-11ea-9c7d-02420a0101eb",
    "df4e30a6-1fe5-11ea-9c7d-02420a0101eb",
    "df4e31aa-1fe5-11ea-9c7d-02420a0101eb",
    "df4e32c2-1fe5-11ea-9c7d-02420a0101eb",
    "df4e33bc-1fe5-11ea-9c7d-02420a0101eb",
    "df4e34ac-1fe5-11ea-9c7d-02420a0101eb",
    "df4e35b0-1fe5-11ea-9c7d-02420a0101eb",
    "df4e3696-1fe5-11ea-9c7d-02420a0101eb",
    "df4e377c-1fe5-11ea-9c7d-02420a0101eb",
    "df4e3862-1fe5-11ea-9c7d-02420a0101eb",
    "df4e3970-1fe5-11ea-9c7d-02420a0101eb",
    "df4e3a74-1fe5-11ea-9c7d-02420a0101eb",
    "df4e3bfa-1fe5-11ea-9c7d-02420a0101eb",
    "df4e3cea-1fe5-11ea-9c7d-02420a0101eb",
    "df4e3dc6-1fe5-11ea-9c7d-02420a0101eb",
    "df4e3ea2-1fe5-11ea-9c7d-02420a0101eb",
    "df4e3f7e-1fe5-11ea-9c7d-02420a0101eb",
    "df4e405a-1fe5-11ea-9c7d-02420a0101eb",
    "df4e4154-1fe5-11ea-9c7d-02420a0101eb",
    "df4e43b6-1fe5-11ea-9c7d-02420a0101eb",
    "df4e450a-1fe5-11ea-9c7d-02420a0101eb",
    "df4e45fa-1fe5-11ea-9c7d-02420a0101eb",
    "df4e47a8-1fe5-11ea-9c7d-02420a0101eb",
    "df4e4898-1fe5-11ea-9c7d-02420a0101eb",
    "df4e4988-1fe5-11ea-9c7d-02420a0101eb",
    "df4e4a96-1fe5-11ea-9c7d-02420a0101eb",
    "df4e4b90-1fe5-11ea-9c7d-02420a0101eb",
    "df4e4c76-1fe5-11ea-9c7d-02420a0101eb",
    "df4e4e10-1fe5-11ea-9c7d-02420a0101eb",
    "df4e4f96-1fe5-11ea-9c7d-02420a0101eb",
    "df4e509a-1fe5-11ea-9c7d-02420a0101eb",
    "df4e518a-1fe5-11ea-9c7d-02420a0101eb",
    "df4e527a-1fe5-11ea-9c7d-02420a0101eb",
    "df4e53f6-1fe5-11ea-9c7d-02420a0101eb",
    "df4e54dc-1fe5-11ea-9c7d-02420a0101eb"
   ]
  },
  "toc": {
   "base_numbering": 1,
   "nav_menu": {},
   "number_sections": true,
   "sideBar": true,
   "skip_h1_title": false,
   "title_cell": "Table of Contents",
   "title_sidebar": "Contents",
   "toc_cell": false,
   "toc_position": {
    "height": "calc(100% - 180px)",
    "left": "10px",
    "top": "150px",
    "width": "217.9px"
   },
   "toc_section_display": true,
   "toc_window_display": true
  }
 },
 "nbformat": 4,
 "nbformat_minor": 2
}
