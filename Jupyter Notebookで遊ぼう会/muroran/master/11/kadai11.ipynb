{
 "cells": [
  {
   "cell_type": "markdown",
   "metadata": {
    "lc_cell_meme": {
     "current": "81ca3a54-1b28-11ea-a177-02420a010f43",
     "history": [
      {
       "current": "55951774-9eeb-11e9-9f4c-02420a010067",
       "next": "559518d2-9eeb-11e9-9f4c-02420a010067",
       "previous": null
      },
      {
       "current": "3babaed0-04f4-11ea-a0d1-02420a0100a0",
       "next": "3babb11e-04f4-11ea-a0d1-02420a0100a0",
       "previous": null
      }
     ],
     "next": "81ca3ce8-1b28-11ea-a177-02420a010f43",
     "previous": null
    }
   },
   "source": [
    "# プログラミング入門\n",
    "第11回　アルゴリズム(2)　線形探索と二分探索"
   ]
  },
  {
   "cell_type": "markdown",
   "metadata": {
    "lc_cell_meme": {
     "current": "81ca3ce8-1b28-11ea-a177-02420a010f43",
     "history": [
      {
       "current": "559518d2-9eeb-11e9-9f4c-02420a010067",
       "next": "559519a4-9eeb-11e9-9f4c-02420a010067",
       "previous": "55951774-9eeb-11e9-9f4c-02420a010067"
      },
      {
       "current": "3babb11e-04f4-11ea-a0d1-02420a0100a0",
       "next": "3babb2cc-04f4-11ea-a0d1-02420a0100a0",
       "previous": "3babaed0-04f4-11ea-a0d1-02420a0100a0"
      }
     ],
     "next": "81ca3edc-1b28-11ea-a177-02420a010f43",
     "previous": "81ca3a54-1b28-11ea-a177-02420a010f43"
    }
   },
   "source": [
    "次のセルに、自分の名前と学籍番号を記入して下さい。"
   ]
  },
  {
   "cell_type": "raw",
   "metadata": {
    "lc_cell_meme": {
     "current": "81ca3edc-1b28-11ea-a177-02420a010f43",
     "history": [
      {
       "current": "559519a4-9eeb-11e9-9f4c-02420a010067",
       "next": "55951a6c-9eeb-11e9-9f4c-02420a010067",
       "previous": "559518d2-9eeb-11e9-9f4c-02420a010067"
      },
      {
       "current": "3babb2cc-04f4-11ea-a0d1-02420a0100a0",
       "next": "3babb45c-04f4-11ea-a0d1-02420a0100a0",
       "previous": "3babb11e-04f4-11ea-a0d1-02420a0100a0"
      }
     ],
     "next": "81ca40d0-1b28-11ea-a177-02420a010f43",
     "previous": "81ca3ce8-1b28-11ea-a177-02420a010f43"
    }
   },
   "source": [
    "学籍番号：　　　　　　　　　　　氏名："
   ]
  },
  {
   "cell_type": "markdown",
   "metadata": {
    "lc_cell_meme": {
     "current": "81ca40d0-1b28-11ea-a177-02420a010f43",
     "history": [
      {
       "current": "55951a6c-9eeb-11e9-9f4c-02420a010067",
       "next": "55951b2a-9eeb-11e9-9f4c-02420a010067",
       "previous": "559519a4-9eeb-11e9-9f4c-02420a010067"
      },
      {
       "current": "3babb45c-04f4-11ea-a0d1-02420a0100a0",
       "next": "3babb5a6-04f4-11ea-a0d1-02420a0100a0",
       "previous": "3babb2cc-04f4-11ea-a0d1-02420a0100a0"
      }
     ],
     "next": "81ca42a6-1b28-11ea-a177-02420a010f43",
     "previous": "81ca3edc-1b28-11ea-a177-02420a010f43"
    }
   },
   "source": [
    "【進め方の注意】\n",
    "\n",
    "- 文書を読んで、手順に沿って問いに答えながら進めて下さい。\n",
    "- 最後の確認問題を解いて、ファイルを提出して下さい。\n",
    "- 途中わからないことがあれば、教員またはTAに質問して下さい。"
   ]
  },
  {
   "cell_type": "markdown",
   "metadata": {
    "lc_cell_meme": {
     "current": "81ca42a6-1b28-11ea-a177-02420a010f43",
     "history": [
      {
       "current": "55951b2a-9eeb-11e9-9f4c-02420a010067",
       "next": "55951cba-9eeb-11e9-9f4c-02420a010067",
       "previous": "55951a6c-9eeb-11e9-9f4c-02420a010067"
      },
      {
       "current": "3babb5a6-04f4-11ea-a0d1-02420a0100a0",
       "next": "3babb72c-04f4-11ea-a0d1-02420a0100a0",
       "previous": "3babb45c-04f4-11ea-a0d1-02420a0100a0"
      }
     ],
     "next": "81ca4486-1b28-11ea-a177-02420a010f43",
     "previous": "81ca40d0-1b28-11ea-a177-02420a010f43"
    }
   },
   "source": [
    "## 注意事項"
   ]
  },
  {
   "cell_type": "markdown",
   "metadata": {
    "lc_cell_meme": {
     "current": "81ca4486-1b28-11ea-a177-02420a010f43",
     "history": [
      {
       "current": "55951cba-9eeb-11e9-9f4c-02420a010067",
       "next": "55951da0-9eeb-11e9-9f4c-02420a010067",
       "previous": "55951b2a-9eeb-11e9-9f4c-02420a010067"
      },
      {
       "current": "3babb72c-04f4-11ea-a0d1-02420a0100a0",
       "next": "3babb876-04f4-11ea-a0d1-02420a0100a0",
       "previous": "3babb5a6-04f4-11ea-a0d1-02420a0100a0"
      },
      {
       "current": "3babb72c-04f4-11ea-a0d1-02420a0100a0",
       "next": "d6f9587a-1a1a-11ea-b53e-02420a010f43",
       "previous": "3babb5a6-04f4-11ea-a0d1-02420a0100a0"
      },
      {
       "current": "3babb72c-04f4-11ea-a0d1-02420a0100a0",
       "next": "3babb876-04f4-11ea-a0d1-02420a0100a0",
       "previous": "3babb5a6-04f4-11ea-a0d1-02420a0100a0"
      }
     ],
     "next": "81ca46e8-1b28-11ea-a177-02420a010f43",
     "previous": "81ca42a6-1b28-11ea-a177-02420a010f43"
    }
   },
   "source": [
    "確認課題は、単位認定のための点数としてカウントします。\n",
    "\n",
    "友達と相談せず、自分だけでやってください。\n",
    "\n",
    "確認課題が終わった人は、提出後に退室して構いません。\n",
    "\n",
    "終わらなくても終了時刻までに提出してください。"
   ]
  },
  {
   "cell_type": "markdown",
   "metadata": {
    "collapsed": true,
    "lc_cell_meme": {
     "current": "81ca46e8-1b28-11ea-a177-02420a010f43",
     "history": [
      {
       "current": "55951da0-9eeb-11e9-9f4c-02420a010067",
       "next": "55951eea-9eeb-11e9-9f4c-02420a010067",
       "previous": "55951cba-9eeb-11e9-9f4c-02420a010067"
      },
      {
       "current": "55951da0-9eeb-11e9-9f4c-02420a010067",
       "next": "55952340-9eeb-11e9-9f4c-02420a010067",
       "previous": "55951cba-9eeb-11e9-9f4c-02420a010067"
      },
      {
       "current": "3babb876-04f4-11ea-a0d1-02420a0100a0",
       "next": "3babba92-04f4-11ea-a0d1-02420a0100a0",
       "previous": "3babb72c-04f4-11ea-a0d1-02420a0100a0"
      },
      {
       "current": "3babb876-04f4-11ea-a0d1-02420a0100a0",
       "next": "3babba92-04f4-11ea-a0d1-02420a0100a0",
       "previous": "d6f9587a-1a1a-11ea-b53e-02420a010f43"
      },
      {
       "current": "3babb876-04f4-11ea-a0d1-02420a0100a0",
       "next": "3babba92-04f4-11ea-a0d1-02420a0100a0",
       "previous": "3babb72c-04f4-11ea-a0d1-02420a0100a0"
      }
     ],
     "next": "81ca48e6-1b28-11ea-a177-02420a010f43",
     "previous": "81ca4486-1b28-11ea-a177-02420a010f43"
    }
   },
   "source": [
    "# 課題"
   ]
  },
  {
   "cell_type": "markdown",
   "metadata": {
    "lc_cell_meme": {
     "current": "81ca48e6-1b28-11ea-a177-02420a010f43",
     "history": [
      {
       "current": "55952340-9eeb-11e9-9f4c-02420a010067",
       "next": "559523f4-9eeb-11e9-9f4c-02420a010067",
       "previous": "5595228c-9eeb-11e9-9f4c-02420a010067"
      },
      {
       "current": "55952340-9eeb-11e9-9f4c-02420a010067",
       "next": "559523f4-9eeb-11e9-9f4c-02420a010067",
       "previous": "5595228c-9eeb-11e9-9f4c-02420a010067"
      },
      {
       "current": "55952340-9eeb-11e9-9f4c-02420a010067",
       "next": "559523f4-9eeb-11e9-9f4c-02420a010067",
       "previous": "5595228c-9eeb-11e9-9f4c-02420a010067"
      },
      {
       "current": "55952340-9eeb-11e9-9f4c-02420a010067",
       "next": "559523f4-9eeb-11e9-9f4c-02420a010067",
       "previous": "5595228c-9eeb-11e9-9f4c-02420a010067"
      },
      {
       "current": "55952340-9eeb-11e9-9f4c-02420a010067",
       "next": "559523f4-9eeb-11e9-9f4c-02420a010067",
       "previous": "5595228c-9eeb-11e9-9f4c-02420a010067"
      },
      {
       "current": "55952340-9eeb-11e9-9f4c-02420a010067",
       "next": "559523f4-9eeb-11e9-9f4c-02420a010067",
       "previous": "5595228c-9eeb-11e9-9f4c-02420a010067"
      },
      {
       "current": "55952340-9eeb-11e9-9f4c-02420a010067",
       "next": "559523f4-9eeb-11e9-9f4c-02420a010067",
       "previous": "5595228c-9eeb-11e9-9f4c-02420a010067"
      },
      {
       "current": "55952340-9eeb-11e9-9f4c-02420a010067",
       "next": "ca26595a-005b-11ea-a9f8-02420a0100a0",
       "previous": "5595228c-9eeb-11e9-9f4c-02420a010067"
      },
      {
       "current": "55952340-9eeb-11e9-9f4c-02420a010067",
       "next": "ca26595a-005b-11ea-a9f8-02420a0100a0",
       "previous": "55952098-9eeb-11e9-9f4c-02420a010067"
      },
      {
       "current": "55952340-9eeb-11e9-9f4c-02420a010067",
       "next": "ca26595a-005b-11ea-a9f8-02420a0100a0",
       "previous": "55951da0-9eeb-11e9-9f4c-02420a010067"
      },
      {
       "current": "3babba92-04f4-11ea-a0d1-02420a0100a0",
       "next": "3babbc2c-04f4-11ea-a0d1-02420a0100a0",
       "previous": "3babb876-04f4-11ea-a0d1-02420a0100a0"
      },
      {
       "current": "3babba92-04f4-11ea-a0d1-02420a0100a0",
       "next": "a1a13fca-1a1b-11ea-b53e-02420a010f43",
       "previous": "3babb876-04f4-11ea-a0d1-02420a0100a0"
      },
      {
       "current": "3babba92-04f4-11ea-a0d1-02420a0100a0",
       "next": "f461a3e0-1ae7-11ea-b53e-02420a010f43",
       "previous": "3babb876-04f4-11ea-a0d1-02420a0100a0"
      }
     ],
     "next": "81ca4ac6-1b28-11ea-a177-02420a010f43",
     "previous": "81ca46e8-1b28-11ea-a177-02420a010f43"
    }
   },
   "source": [
    "## 課題1 線形探索"
   ]
  },
  {
   "cell_type": "markdown",
   "metadata": {
    "lc_cell_meme": {
     "current": "81ca4ac6-1b28-11ea-a177-02420a010f43",
     "history": [
      {
       "current": "f461a3e0-1ae7-11ea-b53e-02420a010f43",
       "next": "a1a13fca-1a1b-11ea-b53e-02420a010f43",
       "previous": "3babba92-04f4-11ea-a0d1-02420a0100a0"
      }
     ],
     "next": "81ca4ca6-1b28-11ea-a177-02420a010f43",
     "previous": "81ca48e6-1b28-11ea-a177-02420a010f43"
    }
   },
   "source": [
    "53枚のトランプカードからランダムに20枚のカードを抽出し、その抽出したリスト内に探索するカードが含まれているか線形探索し、含まれていた場合は「発見」を表示する関数findCを作成してください。<BR>\n",
    "    ただし、第1引数を抽出した20枚のリスト、第2引数を探索するカードをすること。"
   ]
  },
  {
   "cell_type": "markdown",
   "metadata": {
    "lc_cell_meme": {
     "current": "81ca4ca6-1b28-11ea-a177-02420a010f43",
     "history": [
      {
       "current": "a1a13fca-1a1b-11ea-b53e-02420a010f43",
       "next": "3babbc2c-04f4-11ea-a0d1-02420a0100a0",
       "previous": "3babba92-04f4-11ea-a0d1-02420a0100a0"
      },
      {
       "current": "a1a13fca-1a1b-11ea-b53e-02420a010f43",
       "next": "3babbc2c-04f4-11ea-a0d1-02420a0100a0",
       "previous": "f461a3e0-1ae7-11ea-b53e-02420a010f43"
      }
     ],
     "next": "81ca4eae-1b28-11ea-a177-02420a010f43",
     "previous": "81ca4ac6-1b28-11ea-a177-02420a010f43"
    }
   },
   "source": [
    "まずは、次のセルを評価して、リストcardsにトランプカードをセットします。"
   ]
  },
  {
   "cell_type": "code",
   "execution_count": null,
   "metadata": {
    "lc_cell_meme": {
     "current": "81ca4eae-1b28-11ea-a177-02420a010f43",
     "history": [
      {
       "current": "ca26595a-005b-11ea-a9f8-02420a0100a0",
       "next": "559523f4-9eeb-11e9-9f4c-02420a010067",
       "previous": "55952340-9eeb-11e9-9f4c-02420a010067"
      },
      {
       "current": "3babbc2c-04f4-11ea-a0d1-02420a0100a0",
       "next": "3babbdd0-04f4-11ea-a0d1-02420a0100a0",
       "previous": "3babba92-04f4-11ea-a0d1-02420a0100a0"
      },
      {
       "current": "3babbc2c-04f4-11ea-a0d1-02420a0100a0",
       "next": "3babbf56-04f4-11ea-a0d1-02420a0100a0",
       "previous": "3babba92-04f4-11ea-a0d1-02420a0100a0"
      },
      {
       "current": "3babbc2c-04f4-11ea-a0d1-02420a0100a0",
       "next": "3babbf56-04f4-11ea-a0d1-02420a0100a0",
       "previous": "a1a13fca-1a1b-11ea-b53e-02420a010f43"
      },
      {
       "current": "3babbc2c-04f4-11ea-a0d1-02420a0100a0",
       "next": "3babbf56-04f4-11ea-a0d1-02420a0100a0",
       "previous": "a1a13fca-1a1b-11ea-b53e-02420a010f43"
      },
      {
       "current": "3babbc2c-04f4-11ea-a0d1-02420a0100a0",
       "next": "3babbf56-04f4-11ea-a0d1-02420a0100a0",
       "previous": "a1a13fca-1a1b-11ea-b53e-02420a010f43"
      },
      {
       "current": "3babbc2c-04f4-11ea-a0d1-02420a0100a0",
       "next": "3babbf56-04f4-11ea-a0d1-02420a0100a0",
       "previous": "a1a13fca-1a1b-11ea-b53e-02420a010f43"
      },
      {
       "current": "3babbc2c-04f4-11ea-a0d1-02420a0100a0",
       "next": "3babbf56-04f4-11ea-a0d1-02420a0100a0",
       "previous": "a1a13fca-1a1b-11ea-b53e-02420a010f43"
      },
      {
       "current": "3babbc2c-04f4-11ea-a0d1-02420a0100a0",
       "next": "3babbf56-04f4-11ea-a0d1-02420a0100a0",
       "previous": "a1a13fca-1a1b-11ea-b53e-02420a010f43"
      },
      {
       "current": "3babbc2c-04f4-11ea-a0d1-02420a0100a0",
       "next": "3babbf56-04f4-11ea-a0d1-02420a0100a0",
       "previous": "a1a13fca-1a1b-11ea-b53e-02420a010f43"
      },
      {
       "current": "3babbc2c-04f4-11ea-a0d1-02420a0100a0",
       "next": "3babbf56-04f4-11ea-a0d1-02420a0100a0",
       "previous": "a1a13fca-1a1b-11ea-b53e-02420a010f43"
      },
      {
       "current": "3babbc2c-04f4-11ea-a0d1-02420a0100a0",
       "next": "3babbf56-04f4-11ea-a0d1-02420a0100a0",
       "previous": "a1a13fca-1a1b-11ea-b53e-02420a010f43"
      },
      {
       "current": "3babbc2c-04f4-11ea-a0d1-02420a0100a0",
       "next": "3babbf56-04f4-11ea-a0d1-02420a0100a0",
       "previous": "a1a13fca-1a1b-11ea-b53e-02420a010f43"
      },
      {
       "current": "3babbc2c-04f4-11ea-a0d1-02420a0100a0",
       "next": "3babbf56-04f4-11ea-a0d1-02420a0100a0",
       "previous": "a1a13fca-1a1b-11ea-b53e-02420a010f43"
      },
      {
       "current": "3babbc2c-04f4-11ea-a0d1-02420a0100a0",
       "next": "3babbf56-04f4-11ea-a0d1-02420a0100a0",
       "previous": "a1a13fca-1a1b-11ea-b53e-02420a010f43"
      },
      {
       "current": "3babbc2c-04f4-11ea-a0d1-02420a0100a0",
       "next": "3babbf56-04f4-11ea-a0d1-02420a0100a0",
       "previous": "a1a13fca-1a1b-11ea-b53e-02420a010f43"
      },
      {
       "current": "3babbc2c-04f4-11ea-a0d1-02420a0100a0",
       "next": "3babbf56-04f4-11ea-a0d1-02420a0100a0",
       "previous": "a1a13fca-1a1b-11ea-b53e-02420a010f43"
      },
      {
       "current": "3babbc2c-04f4-11ea-a0d1-02420a0100a0",
       "next": "e96f2f3a-1b22-11ea-b53e-02420a010f43",
       "previous": "a1a13fca-1a1b-11ea-b53e-02420a010f43"
      }
     ],
     "next": "81ca521e-1b28-11ea-a177-02420a010f43",
     "previous": "81ca4ca6-1b28-11ea-a177-02420a010f43"
    },
    "lc_wrapper": {
     "log_history": [
      "/home/10999542xb8011f/07a/.log/20191106/20191106-110813-0579.log",
      "/home/10999542xb8011f/07a/.log/20191110/20191110-175934-0469.log",
      "/home/10999542xb8011f/11work/.log/20191208/20191208-124032-0716.log",
      "/home/10999542xb8011f/11work/.log/20191209/20191209-093048-0583.log",
      "/home/10999542xb8011f/11work/.log/20191209/20191209-101911-0884.log",
      "/home/10999542xb8011f/11work/.log/20191209/20191209-102003-0249.log",
      "/home/10999542xb8011f/11work/.log/20191209/20191209-104644-0257.log",
      "/home/10999542xb8011f/11work/.log/20191210/20191210-095343-0976.log",
      "/home/10999542xb8011f/11work/.log/20191210/20191210-153923-0886.log",
      "/home/10999542xb8011f/11work/.log/20191210/20191210-154420-0911.log",
      "/home/10999542xb8011f/11work/.log/20191210/20191210-165808-0904.log",
      "/home/10999542xb8011f/11a/.log/20191216/20191216-183150-0887.log"
     ]
    }
   },
   "outputs": [],
   "source": [
    "# このセルを評価すること\n",
    "cards = [\"H01\", \"H02\", \"H03\", \"H04\", \"H05\", \"H06\", \"H07\",\n",
    "\"H08\", \"H09\", \"H10\", \"H11\", \"H12\", \"H13\",\n",
    "\"S01\", \"S02\", \"S03\", \"S04\", \"S05\", \"S06\", \"S07\",\n",
    "\"S08\", \"S09\", \"S10\", \"S11\", \"S12\", \"S13\",\n",
    "\"C01\", \"C02\", \"C03\", \"C04\", \"C05\", \"C06\", \"C07\",\n",
    "\"C08\", \"C09\", \"C10\", \"C11\", \"C12\", \"C13\",\n",
    "\"D01\", \"D02\", \"D03\", \"D04\", \"D05\", \"D06\", \"D07\",\n",
    "\"D08\", \"D09\", \"D10\", \"D11\", \"D12\", \"D13\",\n",
    "\"J\"]"
   ]
  },
  {
   "cell_type": "markdown",
   "metadata": {
    "lc_cell_meme": {
     "current": "81ca521e-1b28-11ea-a177-02420a010f43",
     "history": [
      {
       "current": "e96f2f3a-1b22-11ea-b53e-02420a010f43",
       "next": "3babbf56-04f4-11ea-a0d1-02420a0100a0",
       "previous": "3babbc2c-04f4-11ea-a0d1-02420a0100a0"
      }
     ],
     "next": "81ca5430-1b28-11ea-a177-02420a010f43",
     "previous": "81ca4eae-1b28-11ea-a177-02420a010f43"
    }
   },
   "source": [
    "### 手順1"
   ]
  },
  {
   "cell_type": "markdown",
   "metadata": {
    "lc_cell_meme": {
     "current": "81ca5430-1b28-11ea-a177-02420a010f43",
     "history": [
      {
       "current": "559524b2-9eeb-11e9-9f4c-02420a010067",
       "next": "55952570-9eeb-11e9-9f4c-02420a010067",
       "previous": "559523f4-9eeb-11e9-9f4c-02420a010067"
      },
      {
       "current": "559524b2-9eeb-11e9-9f4c-02420a010067",
       "next": "55952570-9eeb-11e9-9f4c-02420a010067",
       "previous": "559523f4-9eeb-11e9-9f4c-02420a010067"
      },
      {
       "current": "559524b2-9eeb-11e9-9f4c-02420a010067",
       "next": "55952570-9eeb-11e9-9f4c-02420a010067",
       "previous": "559523f4-9eeb-11e9-9f4c-02420a010067"
      },
      {
       "current": "559524b2-9eeb-11e9-9f4c-02420a010067",
       "next": "55952570-9eeb-11e9-9f4c-02420a010067",
       "previous": "559523f4-9eeb-11e9-9f4c-02420a010067"
      },
      {
       "current": "559524b2-9eeb-11e9-9f4c-02420a010067",
       "next": "55952570-9eeb-11e9-9f4c-02420a010067",
       "previous": "559523f4-9eeb-11e9-9f4c-02420a010067"
      },
      {
       "current": "559524b2-9eeb-11e9-9f4c-02420a010067",
       "next": "55952570-9eeb-11e9-9f4c-02420a010067",
       "previous": "559523f4-9eeb-11e9-9f4c-02420a010067"
      },
      {
       "current": "559524b2-9eeb-11e9-9f4c-02420a010067",
       "next": "ca265ac2-005b-11ea-a9f8-02420a0100a0",
       "previous": "559523f4-9eeb-11e9-9f4c-02420a010067"
      },
      {
       "current": "3babbf56-04f4-11ea-a0d1-02420a0100a0",
       "next": "3babc0e6-04f4-11ea-a0d1-02420a0100a0",
       "previous": "3babbdd0-04f4-11ea-a0d1-02420a0100a0"
      },
      {
       "current": "3babbf56-04f4-11ea-a0d1-02420a0100a0",
       "next": "3babc0e6-04f4-11ea-a0d1-02420a0100a0",
       "previous": "3babbc2c-04f4-11ea-a0d1-02420a0100a0"
      },
      {
       "current": "3babbf56-04f4-11ea-a0d1-02420a0100a0",
       "next": "5a1ffe8e-1a1b-11ea-b53e-02420a010f43",
       "previous": "3babbc2c-04f4-11ea-a0d1-02420a0100a0"
      },
      {
       "current": "3babbf56-04f4-11ea-a0d1-02420a0100a0",
       "next": "7fc7d912-1a21-11ea-b53e-02420a010f43",
       "previous": "3babbc2c-04f4-11ea-a0d1-02420a0100a0"
      },
      {
       "current": "3babbf56-04f4-11ea-a0d1-02420a0100a0",
       "next": "7fc7d912-1a21-11ea-b53e-02420a010f43",
       "previous": "3babbc2c-04f4-11ea-a0d1-02420a0100a0"
      },
      {
       "current": "3babbf56-04f4-11ea-a0d1-02420a0100a0",
       "next": "7fc7d912-1a21-11ea-b53e-02420a010f43",
       "previous": "3babbc2c-04f4-11ea-a0d1-02420a0100a0"
      },
      {
       "current": "3babbf56-04f4-11ea-a0d1-02420a0100a0",
       "next": "7fc7d912-1a21-11ea-b53e-02420a010f43",
       "previous": "3babbc2c-04f4-11ea-a0d1-02420a0100a0"
      },
      {
       "current": "3babbf56-04f4-11ea-a0d1-02420a0100a0",
       "next": "7fc7d912-1a21-11ea-b53e-02420a010f43",
       "previous": "3babbc2c-04f4-11ea-a0d1-02420a0100a0"
      },
      {
       "current": "3babbf56-04f4-11ea-a0d1-02420a0100a0",
       "next": "7fc7d912-1a21-11ea-b53e-02420a010f43",
       "previous": "3babbc2c-04f4-11ea-a0d1-02420a0100a0"
      },
      {
       "current": "3babbf56-04f4-11ea-a0d1-02420a0100a0",
       "next": "7fc7d912-1a21-11ea-b53e-02420a010f43",
       "previous": "3babbc2c-04f4-11ea-a0d1-02420a0100a0"
      },
      {
       "current": "3babbf56-04f4-11ea-a0d1-02420a0100a0",
       "next": "7fc7d912-1a21-11ea-b53e-02420a010f43",
       "previous": "3babbc2c-04f4-11ea-a0d1-02420a0100a0"
      },
      {
       "current": "3babbf56-04f4-11ea-a0d1-02420a0100a0",
       "next": "7fc7d912-1a21-11ea-b53e-02420a010f43",
       "previous": "3babbc2c-04f4-11ea-a0d1-02420a0100a0"
      },
      {
       "current": "3babbf56-04f4-11ea-a0d1-02420a0100a0",
       "next": "7fc7d912-1a21-11ea-b53e-02420a010f43",
       "previous": "3babbc2c-04f4-11ea-a0d1-02420a0100a0"
      },
      {
       "current": "3babbf56-04f4-11ea-a0d1-02420a0100a0",
       "next": "7fc7d912-1a21-11ea-b53e-02420a010f43",
       "previous": "3babbc2c-04f4-11ea-a0d1-02420a0100a0"
      },
      {
       "current": "3babbf56-04f4-11ea-a0d1-02420a0100a0",
       "next": "7fc7d912-1a21-11ea-b53e-02420a010f43",
       "previous": "3babbc2c-04f4-11ea-a0d1-02420a0100a0"
      },
      {
       "current": "3babbf56-04f4-11ea-a0d1-02420a0100a0",
       "next": "7fc7d912-1a21-11ea-b53e-02420a010f43",
       "previous": "3babbc2c-04f4-11ea-a0d1-02420a0100a0"
      },
      {
       "current": "3babbf56-04f4-11ea-a0d1-02420a0100a0",
       "next": "7fc7d912-1a21-11ea-b53e-02420a010f43",
       "previous": "3babbc2c-04f4-11ea-a0d1-02420a0100a0"
      },
      {
       "current": "3babbf56-04f4-11ea-a0d1-02420a0100a0",
       "next": "e96f33a4-1b22-11ea-b53e-02420a010f43",
       "previous": "e96f2f3a-1b22-11ea-b53e-02420a010f43"
      }
     ],
     "next": "81ca564c-1b28-11ea-a177-02420a010f43",
     "previous": "81ca521e-1b28-11ea-a177-02420a010f43"
    }
   },
   "source": [
    "次のセルで以下を行ってください。\n",
    "- randomモジュールをインポートします。\n",
    "- random.sampleを使用して、リストfirstにトランプカードを20枚抽出します。\n",
    "- リストfirstを評価して抽出したカードを確認します。"
   ]
  },
  {
   "cell_type": "code",
   "execution_count": null,
   "metadata": {
    "lc_cell_meme": {
     "current": "81ca564c-1b28-11ea-a177-02420a010f43",
     "history": [
      {
       "current": "e96f33a4-1b22-11ea-b53e-02420a010f43",
       "next": "e96f34f8-1b22-11ea-b53e-02420a010f43",
       "previous": "3babbf56-04f4-11ea-a0d1-02420a0100a0"
      }
     ],
     "next": "81ca5854-1b28-11ea-a177-02420a010f43",
     "previous": "81ca5430-1b28-11ea-a177-02420a010f43"
    },
    "lc_wrapper": {
     "log_history": [
      "/home/10999542xb8011f/11work/.log/20191210/20191210-155315-0841.log",
      "/home/10999542xb8011f/11work/.log/20191210/20191210-155517-0365.log",
      "/home/10999542xb8011f/11work/.log/20191210/20191210-165632-0444.log",
      "/home/10999542xb8011f/11work/.log/20191210/20191210-165812-0632.log",
      "/home/10999542xb8011f/11a/.log/20191216/20191216-183202-0321.log"
     ]
    }
   },
   "outputs": [],
   "source": [
    "# 演習用入力欄\n"
   ]
  },
  {
   "cell_type": "markdown",
   "metadata": {
    "lc_cell_meme": {
     "current": "81ca5854-1b28-11ea-a177-02420a010f43",
     "history": [
      {
       "current": "e96f34f8-1b22-11ea-b53e-02420a010f43",
       "next": "7fc7d912-1a21-11ea-b53e-02420a010f43",
       "previous": "e96f33a4-1b22-11ea-b53e-02420a010f43"
      }
     ],
     "next": "81ca5a3e-1b28-11ea-a177-02420a010f43",
     "previous": "81ca564c-1b28-11ea-a177-02420a010f43"
    }
   },
   "source": [
    "### 手順2"
   ]
  },
  {
   "cell_type": "markdown",
   "metadata": {
    "lc_cell_meme": {
     "current": "81ca5a3e-1b28-11ea-a177-02420a010f43",
     "history": [
      {
       "current": "7fc7d912-1a21-11ea-b53e-02420a010f43",
       "next": "5a1ffe8e-1a1b-11ea-b53e-02420a010f43",
       "previous": "3babbf56-04f4-11ea-a0d1-02420a0100a0"
      },
      {
       "current": "7fc7d912-1a21-11ea-b53e-02420a010f43",
       "next": "5a1ffe8e-1a1b-11ea-b53e-02420a010f43",
       "previous": "3babbf56-04f4-11ea-a0d1-02420a0100a0"
      },
      {
       "current": "7fc7d912-1a21-11ea-b53e-02420a010f43",
       "next": "5a1ffe8e-1a1b-11ea-b53e-02420a010f43",
       "previous": "3babbf56-04f4-11ea-a0d1-02420a0100a0"
      },
      {
       "current": "7fc7d912-1a21-11ea-b53e-02420a010f43",
       "next": "5a1ffe8e-1a1b-11ea-b53e-02420a010f43",
       "previous": "3babbf56-04f4-11ea-a0d1-02420a0100a0"
      },
      {
       "current": "7fc7d912-1a21-11ea-b53e-02420a010f43",
       "next": "5a1ffe8e-1a1b-11ea-b53e-02420a010f43",
       "previous": "3babbf56-04f4-11ea-a0d1-02420a0100a0"
      },
      {
       "current": "7fc7d912-1a21-11ea-b53e-02420a010f43",
       "next": "5a1ffe8e-1a1b-11ea-b53e-02420a010f43",
       "previous": "3babbf56-04f4-11ea-a0d1-02420a0100a0"
      },
      {
       "current": "7fc7d912-1a21-11ea-b53e-02420a010f43",
       "next": "5a1ffe8e-1a1b-11ea-b53e-02420a010f43",
       "previous": "3babbf56-04f4-11ea-a0d1-02420a0100a0"
      },
      {
       "current": "7fc7d912-1a21-11ea-b53e-02420a010f43",
       "next": "5a1ffe8e-1a1b-11ea-b53e-02420a010f43",
       "previous": "3babbf56-04f4-11ea-a0d1-02420a0100a0"
      },
      {
       "current": "7fc7d912-1a21-11ea-b53e-02420a010f43",
       "next": "5a1ffe8e-1a1b-11ea-b53e-02420a010f43",
       "previous": "3babbf56-04f4-11ea-a0d1-02420a0100a0"
      },
      {
       "current": "7fc7d912-1a21-11ea-b53e-02420a010f43",
       "next": "5a1ffe8e-1a1b-11ea-b53e-02420a010f43",
       "previous": "3babbf56-04f4-11ea-a0d1-02420a0100a0"
      },
      {
       "current": "7fc7d912-1a21-11ea-b53e-02420a010f43",
       "next": "5a1ffe8e-1a1b-11ea-b53e-02420a010f43",
       "previous": "3babbf56-04f4-11ea-a0d1-02420a0100a0"
      },
      {
       "current": "7fc7d912-1a21-11ea-b53e-02420a010f43",
       "next": "5a1ffe8e-1a1b-11ea-b53e-02420a010f43",
       "previous": "3babbf56-04f4-11ea-a0d1-02420a0100a0"
      },
      {
       "current": "7fc7d912-1a21-11ea-b53e-02420a010f43",
       "next": "5a1ffe8e-1a1b-11ea-b53e-02420a010f43",
       "previous": "e96f34f8-1b22-11ea-b53e-02420a010f43"
      }
     ],
     "next": "81ca5cbe-1b28-11ea-a177-02420a010f43",
     "previous": "81ca5854-1b28-11ea-a177-02420a010f43"
    }
   },
   "source": [
    "次のセルに関数findCを作成してください。\n",
    "- 引数を2つもつ関数を作成します。\n",
    "- 第1引数はカード20枚を抽出したリスト、第2引数は探索するカードです。\n"
   ]
  },
  {
   "cell_type": "code",
   "execution_count": null,
   "metadata": {
    "lc_cell_meme": {
     "current": "81ca5cbe-1b28-11ea-a177-02420a010f43",
     "history": [
      {
       "current": "5a1ffe8e-1a1b-11ea-b53e-02420a010f43",
       "next": "3babc0e6-04f4-11ea-a0d1-02420a0100a0",
       "previous": "3babbf56-04f4-11ea-a0d1-02420a0100a0"
      },
      {
       "current": "5a1ffe8e-1a1b-11ea-b53e-02420a010f43",
       "next": "3babc0e6-04f4-11ea-a0d1-02420a0100a0",
       "previous": "7fc7d912-1a21-11ea-b53e-02420a010f43"
      },
      {
       "current": "81ca5cbe-1b28-11ea-a177-02420a010f43",
       "next": "81ca5ec6-1b28-11ea-a177-02420a010f43",
       "previous": "81ca5a3e-1b28-11ea-a177-02420a010f43"
      }
     ],
     "next": "81ca6060-1b28-11ea-a177-02420a010f43",
     "previous": "81ca5a3e-1b28-11ea-a177-02420a010f43"
    }
   },
   "outputs": [],
   "source": [
    "# 演習用入力欄（要修正）\n",
    "???\n",
    "        print(\"発見\")\n",
    "???"
   ]
  },
  {
   "cell_type": "markdown",
   "metadata": {
    "lc_cell_meme": {
     "current": "81ca6060-1b28-11ea-a177-02420a010f43",
     "history": [
      {
       "current": "55952624-9eeb-11e9-9f4c-02420a010067",
       "next": "559526d8-9eeb-11e9-9f4c-02420a010067",
       "previous": "55952570-9eeb-11e9-9f4c-02420a010067"
      },
      {
       "current": "55952624-9eeb-11e9-9f4c-02420a010067",
       "next": "55951f80-9eeb-11e9-9f4c-02420a010067",
       "previous": "55952570-9eeb-11e9-9f4c-02420a010067"
      },
      {
       "current": "3babc3b6-04f4-11ea-a0d1-02420a0100a0",
       "next": "3babc528-04f4-11ea-a0d1-02420a0100a0",
       "previous": "3babc26c-04f4-11ea-a0d1-02420a0100a0"
      },
      {
       "current": "3babc3b6-04f4-11ea-a0d1-02420a0100a0",
       "next": "3babc528-04f4-11ea-a0d1-02420a0100a0",
       "previous": "3babc0e6-04f4-11ea-a0d1-02420a0100a0"
      },
      {
       "current": "3babc3b6-04f4-11ea-a0d1-02420a0100a0",
       "next": "3babc528-04f4-11ea-a0d1-02420a0100a0",
       "previous": "b482caac-1a1e-11ea-b53e-02420a010f43"
      },
      {
       "current": "3babc3b6-04f4-11ea-a0d1-02420a0100a0",
       "next": "3babc528-04f4-11ea-a0d1-02420a0100a0",
       "previous": "b482caac-1a1e-11ea-b53e-02420a010f43"
      },
      {
       "current": "3babc3b6-04f4-11ea-a0d1-02420a0100a0",
       "next": "3babc528-04f4-11ea-a0d1-02420a0100a0",
       "previous": "b482caac-1a1e-11ea-b53e-02420a010f43"
      },
      {
       "current": "3babc3b6-04f4-11ea-a0d1-02420a0100a0",
       "next": "3babc528-04f4-11ea-a0d1-02420a0100a0",
       "previous": "b482caac-1a1e-11ea-b53e-02420a010f43"
      },
      {
       "current": "3babc3b6-04f4-11ea-a0d1-02420a0100a0",
       "next": "3babc528-04f4-11ea-a0d1-02420a0100a0",
       "previous": "b482caac-1a1e-11ea-b53e-02420a010f43"
      },
      {
       "current": "3babc3b6-04f4-11ea-a0d1-02420a0100a0",
       "next": "3babc528-04f4-11ea-a0d1-02420a0100a0",
       "previous": "b482caac-1a1e-11ea-b53e-02420a010f43"
      },
      {
       "current": "3babc3b6-04f4-11ea-a0d1-02420a0100a0",
       "next": "3babc528-04f4-11ea-a0d1-02420a0100a0",
       "previous": "b482caac-1a1e-11ea-b53e-02420a010f43"
      },
      {
       "current": "3babc3b6-04f4-11ea-a0d1-02420a0100a0",
       "next": "3babc528-04f4-11ea-a0d1-02420a0100a0",
       "previous": "b482caac-1a1e-11ea-b53e-02420a010f43"
      },
      {
       "current": "3babc3b6-04f4-11ea-a0d1-02420a0100a0",
       "next": "3babc528-04f4-11ea-a0d1-02420a0100a0",
       "previous": "b482caac-1a1e-11ea-b53e-02420a010f43"
      },
      {
       "current": "3babc3b6-04f4-11ea-a0d1-02420a0100a0",
       "next": "3babc528-04f4-11ea-a0d1-02420a0100a0",
       "previous": "b482caac-1a1e-11ea-b53e-02420a010f43"
      },
      {
       "current": "3babc3b6-04f4-11ea-a0d1-02420a0100a0",
       "next": "3babc528-04f4-11ea-a0d1-02420a0100a0",
       "previous": "b482caac-1a1e-11ea-b53e-02420a010f43"
      },
      {
       "current": "3babc3b6-04f4-11ea-a0d1-02420a0100a0",
       "next": "3babc528-04f4-11ea-a0d1-02420a0100a0",
       "previous": "b482caac-1a1e-11ea-b53e-02420a010f43"
      },
      {
       "current": "3babc3b6-04f4-11ea-a0d1-02420a0100a0",
       "next": "3babc528-04f4-11ea-a0d1-02420a0100a0",
       "previous": "b482caac-1a1e-11ea-b53e-02420a010f43"
      },
      {
       "current": "3babc3b6-04f4-11ea-a0d1-02420a0100a0",
       "next": "3babc528-04f4-11ea-a0d1-02420a0100a0",
       "previous": "b482caac-1a1e-11ea-b53e-02420a010f43"
      },
      {
       "current": "3babc3b6-04f4-11ea-a0d1-02420a0100a0",
       "next": "3babc528-04f4-11ea-a0d1-02420a0100a0",
       "previous": "b482caac-1a1e-11ea-b53e-02420a010f43"
      },
      {
       "current": "3babc3b6-04f4-11ea-a0d1-02420a0100a0",
       "next": "3babc528-04f4-11ea-a0d1-02420a0100a0",
       "previous": "b482caac-1a1e-11ea-b53e-02420a010f43"
      },
      {
       "current": "3babc3b6-04f4-11ea-a0d1-02420a0100a0",
       "next": "e96f3610-1b22-11ea-b53e-02420a010f43",
       "previous": "3babc0e6-04f4-11ea-a0d1-02420a0100a0"
      },
      {
       "current": "81ca6060-1b28-11ea-a177-02420a010f43",
       "next": "81ca624a-1b28-11ea-a177-02420a010f43",
       "previous": "81ca5ec6-1b28-11ea-a177-02420a010f43"
      }
     ],
     "next": "81ca624a-1b28-11ea-a177-02420a010f43",
     "previous": "81ca5cbe-1b28-11ea-a177-02420a010f43"
    }
   },
   "source": [
    "ヒント：関数を定義しただけですので、まだ実行していません。"
   ]
  },
  {
   "cell_type": "markdown",
   "metadata": {
    "lc_cell_meme": {
     "current": "81ca624a-1b28-11ea-a177-02420a010f43",
     "history": [
      {
       "current": "e96f3610-1b22-11ea-b53e-02420a010f43",
       "next": "e96f371e-1b22-11ea-b53e-02420a010f43",
       "previous": "3babc3b6-04f4-11ea-a0d1-02420a0100a0"
      }
     ],
     "next": "81ca645c-1b28-11ea-a177-02420a010f43",
     "previous": "81ca6060-1b28-11ea-a177-02420a010f43"
    }
   },
   "source": [
    "### 手順3"
   ]
  },
  {
   "cell_type": "markdown",
   "metadata": {
    "lc_cell_meme": {
     "current": "81ca645c-1b28-11ea-a177-02420a010f43",
     "history": [
      {
       "current": "e96f371e-1b22-11ea-b53e-02420a010f43",
       "next": "e96f3822-1b22-11ea-b53e-02420a010f43",
       "previous": "e96f3610-1b22-11ea-b53e-02420a010f43"
      }
     ],
     "next": "81ca6632-1b28-11ea-a177-02420a010f43",
     "previous": "81ca624a-1b28-11ea-a177-02420a010f43"
    }
   },
   "source": [
    "次のセルで関数findCを呼び出して実行し、動作を確認してください。\n",
    "- 第1引数にはカード20枚を抽出したリスト、第2引数には手順1で抽出された20枚のカードのどれかを文字列として与えます。"
   ]
  },
  {
   "cell_type": "code",
   "execution_count": null,
   "metadata": {
    "lc_cell_meme": {
     "current": "81ca6632-1b28-11ea-a177-02420a010f43",
     "history": [
      {
       "current": "e96f3822-1b22-11ea-b53e-02420a010f43",
       "next": "3babc528-04f4-11ea-a0d1-02420a0100a0",
       "previous": "e96f371e-1b22-11ea-b53e-02420a010f43"
      }
     ],
     "next": "81ca67fe-1b28-11ea-a177-02420a010f43",
     "previous": "81ca645c-1b28-11ea-a177-02420a010f43"
    },
    "lc_wrapper": {
     "log_history": [
      "/home/10999542xb8011f/11work/.log/20191210/20191210-155424-0442.log",
      "/home/10999542xb8011f/11work/.log/20191210/20191210-155445-0810.log",
      "/home/10999542xb8011f/11work/.log/20191210/20191210-155447-0920.log",
      "/home/10999542xb8011f/11work/.log/20191210/20191210-155451-0241.log",
      "/home/10999542xb8011f/11work/.log/20191210/20191210-155452-0906.log",
      "/home/10999542xb8011f/11work/.log/20191210/20191210-165555-0652.log",
      "/home/10999542xb8011f/11work/.log/20191210/20191210-165614-0890.log",
      "/home/10999542xb8011f/11work/.log/20191210/20191210-165647-0736.log",
      "/home/10999542xb8011f/11work/.log/20191210/20191210-165828-0745.log",
      "/home/10999542xb8011f/11a/.log/20191216/20191216-183212-0911.log"
     ]
    }
   },
   "outputs": [],
   "source": [
    "# 演習用入力欄\n"
   ]
  },
  {
   "cell_type": "markdown",
   "metadata": {
    "lc_cell_meme": {
     "current": "81ca67fe-1b28-11ea-a177-02420a010f43",
     "history": [
      {
       "current": "55951f80-9eeb-11e9-9f4c-02420a010067",
       "next": "5595200c-9eeb-11e9-9f4c-02420a010067",
       "previous": "55951eea-9eeb-11e9-9f4c-02420a010067"
      },
      {
       "current": "55951f80-9eeb-11e9-9f4c-02420a010067",
       "next": "fd2fed20-fc69-11e9-a9f8-02420a0100a0",
       "previous": "55951eea-9eeb-11e9-9f4c-02420a010067"
      },
      {
       "current": "55951f80-9eeb-11e9-9f4c-02420a010067",
       "next": "fd2fed20-fc69-11e9-a9f8-02420a0100a0",
       "previous": "55952624-9eeb-11e9-9f4c-02420a010067"
      },
      {
       "current": "3babc528-04f4-11ea-a0d1-02420a0100a0",
       "next": "3babc672-04f4-11ea-a0d1-02420a0100a0",
       "previous": "3babc3b6-04f4-11ea-a0d1-02420a0100a0"
      },
      {
       "current": "3babc528-04f4-11ea-a0d1-02420a0100a0",
       "next": "1a1885ea-1a20-11ea-b53e-02420a010f43",
       "previous": "3babc3b6-04f4-11ea-a0d1-02420a0100a0"
      },
      {
       "current": "3babc528-04f4-11ea-a0d1-02420a0100a0",
       "next": "1a1885ea-1a20-11ea-b53e-02420a010f43",
       "previous": "3babc3b6-04f4-11ea-a0d1-02420a0100a0"
      },
      {
       "current": "3babc528-04f4-11ea-a0d1-02420a0100a0",
       "next": "1a1885ea-1a20-11ea-b53e-02420a010f43",
       "previous": "3babc3b6-04f4-11ea-a0d1-02420a0100a0"
      },
      {
       "current": "3babc528-04f4-11ea-a0d1-02420a0100a0",
       "next": "1a1885ea-1a20-11ea-b53e-02420a010f43",
       "previous": "3babc3b6-04f4-11ea-a0d1-02420a0100a0"
      },
      {
       "current": "3babc528-04f4-11ea-a0d1-02420a0100a0",
       "next": "1a1885ea-1a20-11ea-b53e-02420a010f43",
       "previous": "3babc3b6-04f4-11ea-a0d1-02420a0100a0"
      },
      {
       "current": "3babc528-04f4-11ea-a0d1-02420a0100a0",
       "next": "1a1885ea-1a20-11ea-b53e-02420a010f43",
       "previous": "3babc3b6-04f4-11ea-a0d1-02420a0100a0"
      },
      {
       "current": "3babc528-04f4-11ea-a0d1-02420a0100a0",
       "next": "1a1885ea-1a20-11ea-b53e-02420a010f43",
       "previous": "3babc3b6-04f4-11ea-a0d1-02420a0100a0"
      },
      {
       "current": "3babc528-04f4-11ea-a0d1-02420a0100a0",
       "next": "1a1885ea-1a20-11ea-b53e-02420a010f43",
       "previous": "3babc3b6-04f4-11ea-a0d1-02420a0100a0"
      },
      {
       "current": "3babc528-04f4-11ea-a0d1-02420a0100a0",
       "next": "1a1885ea-1a20-11ea-b53e-02420a010f43",
       "previous": "3babc3b6-04f4-11ea-a0d1-02420a0100a0"
      },
      {
       "current": "3babc528-04f4-11ea-a0d1-02420a0100a0",
       "next": "1a1885ea-1a20-11ea-b53e-02420a010f43",
       "previous": "3babc3b6-04f4-11ea-a0d1-02420a0100a0"
      },
      {
       "current": "3babc528-04f4-11ea-a0d1-02420a0100a0",
       "next": "1a1885ea-1a20-11ea-b53e-02420a010f43",
       "previous": "3babc3b6-04f4-11ea-a0d1-02420a0100a0"
      },
      {
       "current": "3babc528-04f4-11ea-a0d1-02420a0100a0",
       "next": "1a1885ea-1a20-11ea-b53e-02420a010f43",
       "previous": "3babc3b6-04f4-11ea-a0d1-02420a0100a0"
      },
      {
       "current": "3babc528-04f4-11ea-a0d1-02420a0100a0",
       "next": "1a1885ea-1a20-11ea-b53e-02420a010f43",
       "previous": "3babc3b6-04f4-11ea-a0d1-02420a0100a0"
      },
      {
       "current": "3babc528-04f4-11ea-a0d1-02420a0100a0",
       "next": "1a1885ea-1a20-11ea-b53e-02420a010f43",
       "previous": "3babc3b6-04f4-11ea-a0d1-02420a0100a0"
      },
      {
       "current": "3babc528-04f4-11ea-a0d1-02420a0100a0",
       "next": "1a1885ea-1a20-11ea-b53e-02420a010f43",
       "previous": "3babc3b6-04f4-11ea-a0d1-02420a0100a0"
      },
      {
       "current": "3babc528-04f4-11ea-a0d1-02420a0100a0",
       "next": "1a1885ea-1a20-11ea-b53e-02420a010f43",
       "previous": "3babc3b6-04f4-11ea-a0d1-02420a0100a0"
      },
      {
       "current": "3babc528-04f4-11ea-a0d1-02420a0100a0",
       "next": "1a1885ea-1a20-11ea-b53e-02420a010f43",
       "previous": "e96f3822-1b22-11ea-b53e-02420a010f43"
      }
     ],
     "next": "81ca69d4-1b28-11ea-a177-02420a010f43",
     "previous": "81ca6632-1b28-11ea-a177-02420a010f43"
    }
   },
   "source": [
    "## 課題2 二分探索\n",
    "課題1の線形探索のプログラムを二分探索するプログラムに修正してください。"
   ]
  },
  {
   "cell_type": "markdown",
   "metadata": {
    "lc_cell_meme": {
     "current": "81ca69d4-1b28-11ea-a177-02420a010f43",
     "history": [
      {
       "current": "1a1885ea-1a20-11ea-b53e-02420a010f43",
       "next": "3babc672-04f4-11ea-a0d1-02420a0100a0",
       "previous": "3babc528-04f4-11ea-a0d1-02420a0100a0"
      },
      {
       "current": "1a1885ea-1a20-11ea-b53e-02420a010f43",
       "next": "61b1b480-1a20-11ea-b53e-02420a010f43",
       "previous": "3babc528-04f4-11ea-a0d1-02420a0100a0"
      }
     ],
     "next": "81ca6bbe-1b28-11ea-a177-02420a010f43",
     "previous": "81ca67fe-1b28-11ea-a177-02420a010f43"
    }
   },
   "source": [
    "### 手順1"
   ]
  },
  {
   "cell_type": "markdown",
   "metadata": {
    "lc_cell_meme": {
     "current": "81ca6bbe-1b28-11ea-a177-02420a010f43",
     "history": [
      {
       "current": "61b1b480-1a20-11ea-b53e-02420a010f43",
       "next": "3babc672-04f4-11ea-a0d1-02420a0100a0",
       "previous": "1a1885ea-1a20-11ea-b53e-02420a010f43"
      },
      {
       "current": "61b1b480-1a20-11ea-b53e-02420a010f43",
       "next": "c74fdbf4-1a21-11ea-b53e-02420a010f43",
       "previous": "1a1885ea-1a20-11ea-b53e-02420a010f43"
      },
      {
       "current": "61b1b480-1a20-11ea-b53e-02420a010f43",
       "next": "3fdefa74-1a26-11ea-b53e-02420a010f43",
       "previous": "1a1885ea-1a20-11ea-b53e-02420a010f43"
      }
     ],
     "next": "81ca6e52-1b28-11ea-a177-02420a010f43",
     "previous": "81ca69d4-1b28-11ea-a177-02420a010f43"
    }
   },
   "source": [
    "次のセルで以下を行ってください。\n",
    "- random.sampleを使用して、リストfirstにトランプカードを20枚抽出します。\n",
    "- 抽出した20枚のカードをソートします。\n",
    "- リストfirstを評価して抽出したカードを確認します。"
   ]
  },
  {
   "cell_type": "code",
   "execution_count": null,
   "metadata": {
    "lc_cell_meme": {
     "current": "81ca6e52-1b28-11ea-a177-02420a010f43",
     "history": [
      {
       "current": "3fdefa74-1a26-11ea-b53e-02420a010f43",
       "next": "c74fdbf4-1a21-11ea-b53e-02420a010f43",
       "previous": "61b1b480-1a20-11ea-b53e-02420a010f43"
      },
      {
       "current": "81ca6e52-1b28-11ea-a177-02420a010f43",
       "next": "81ca6ff6-1b28-11ea-a177-02420a010f43",
       "previous": "81ca6bbe-1b28-11ea-a177-02420a010f43"
      }
     ],
     "next": "81ca719a-1b28-11ea-a177-02420a010f43",
     "previous": "81ca6bbe-1b28-11ea-a177-02420a010f43"
    }
   },
   "outputs": [],
   "source": [
    "# 演習用入力欄\n"
   ]
  },
  {
   "cell_type": "markdown",
   "metadata": {
    "lc_cell_meme": {
     "current": "81ca719a-1b28-11ea-a177-02420a010f43",
     "history": [
      {
       "current": "9deb4d88-1a22-11ea-b53e-02420a010f43",
       "next": "3babc672-04f4-11ea-a0d1-02420a0100a0",
       "previous": "c74fdbf4-1a21-11ea-b53e-02420a010f43"
      },
      {
       "current": "9deb4d88-1a22-11ea-b53e-02420a010f43",
       "next": "e578a54c-1a22-11ea-b53e-02420a010f43",
       "previous": "c74fdbf4-1a21-11ea-b53e-02420a010f43"
      },
      {
       "current": "81ca719a-1b28-11ea-a177-02420a010f43",
       "next": "81ca737a-1b28-11ea-a177-02420a010f43",
       "previous": "81ca6ff6-1b28-11ea-a177-02420a010f43"
      }
     ],
     "next": "81ca737a-1b28-11ea-a177-02420a010f43",
     "previous": "81ca6e52-1b28-11ea-a177-02420a010f43"
    }
   },
   "source": [
    "### 手順2"
   ]
  },
  {
   "cell_type": "markdown",
   "metadata": {
    "lc_cell_meme": {
     "current": "81ca737a-1b28-11ea-a177-02420a010f43",
     "history": [
      {
       "current": "e578a54c-1a22-11ea-b53e-02420a010f43",
       "next": "3babc672-04f4-11ea-a0d1-02420a0100a0",
       "previous": "9deb4d88-1a22-11ea-b53e-02420a010f43"
      },
      {
       "current": "e578a54c-1a22-11ea-b53e-02420a010f43",
       "next": "7480a136-1a23-11ea-b53e-02420a010f43",
       "previous": "9deb4d88-1a22-11ea-b53e-02420a010f43"
      },
      {
       "current": "e578a54c-1a22-11ea-b53e-02420a010f43",
       "next": "3fdefccc-1a26-11ea-b53e-02420a010f43",
       "previous": "9deb4d88-1a22-11ea-b53e-02420a010f43"
      }
     ],
     "next": "81ca7550-1b28-11ea-a177-02420a010f43",
     "previous": "81ca719a-1b28-11ea-a177-02420a010f43"
    }
   },
   "source": [
    "次のセルに関数findC2を作成してください。\n",
    "- 引数を2つもつ関数を作成します。\n",
    "- 第1引数はカード20枚を抽出したリスト、第2引数は探索するカードです。"
   ]
  },
  {
   "cell_type": "code",
   "execution_count": null,
   "metadata": {
    "lc_cell_meme": {
     "current": "81ca7550-1b28-11ea-a177-02420a010f43",
     "history": [
      {
       "current": "3fdefccc-1a26-11ea-b53e-02420a010f43",
       "next": "7480a136-1a23-11ea-b53e-02420a010f43",
       "previous": "e578a54c-1a22-11ea-b53e-02420a010f43"
      },
      {
       "current": "81ca7550-1b28-11ea-a177-02420a010f43",
       "next": "81ca7898-1b28-11ea-a177-02420a010f43",
       "previous": "81ca737a-1b28-11ea-a177-02420a010f43"
      }
     ],
     "next": "81ca7a5a-1b28-11ea-a177-02420a010f43",
     "previous": "81ca737a-1b28-11ea-a177-02420a010f43"
    }
   },
   "outputs": [],
   "source": [
    "# 演習用入力欄\n",
    "???\n",
    "            print(\"発見\")\n",
    "???"
   ]
  },
  {
   "cell_type": "markdown",
   "metadata": {
    "lc_cell_meme": {
     "current": "81ca7a5a-1b28-11ea-a177-02420a010f43",
     "history": [
      {
       "current": "4b18a46e-1a24-11ea-b53e-02420a010f43",
       "next": "4b18a7ca-1a24-11ea-b53e-02420a010f43",
       "previous": "7480a136-1a23-11ea-b53e-02420a010f43"
      },
      {
       "current": "81ca7a5a-1b28-11ea-a177-02420a010f43",
       "next": "81ca7c12-1b28-11ea-a177-02420a010f43",
       "previous": "81ca7898-1b28-11ea-a177-02420a010f43"
      }
     ],
     "next": "81ca7c12-1b28-11ea-a177-02420a010f43",
     "previous": "81ca7550-1b28-11ea-a177-02420a010f43"
    }
   },
   "source": [
    "### 手順3"
   ]
  },
  {
   "cell_type": "markdown",
   "metadata": {
    "lc_cell_meme": {
     "current": "81ca7c12-1b28-11ea-a177-02420a010f43",
     "history": [
      {
       "current": "4b18a7ca-1a24-11ea-b53e-02420a010f43",
       "next": "3babc672-04f4-11ea-a0d1-02420a0100a0",
       "previous": "4b18a46e-1a24-11ea-b53e-02420a010f43"
      },
      {
       "current": "4b18a7ca-1a24-11ea-b53e-02420a010f43",
       "next": "3babcaaa-04f4-11ea-a0d1-02420a0100a0",
       "previous": "4b18a46e-1a24-11ea-b53e-02420a010f43"
      }
     ],
     "next": "81ca7dc0-1b28-11ea-a177-02420a010f43",
     "previous": "81ca7a5a-1b28-11ea-a177-02420a010f43"
    }
   },
   "source": [
    "次のセルで関数findC2を呼び出して実行し、動作を確認してください。\n",
    "- 第1引数にはカード20枚を抽出したリスト、第2引数には手順1で抽出された20枚のカードのどれかを文字列として与えます。"
   ]
  },
  {
   "cell_type": "code",
   "execution_count": null,
   "metadata": {
    "lc_cell_meme": {
     "current": "81ca7dc0-1b28-11ea-a177-02420a010f43",
     "history": [
      {
       "current": "ca2652f2-005b-11ea-a9f8-02420a0100a0",
       "next": "559521ce-9eeb-11e9-9f4c-02420a010067",
       "previous": "55952098-9eeb-11e9-9f4c-02420a010067"
      },
      {
       "current": "ca2652f2-005b-11ea-a9f8-02420a0100a0",
       "next": "13dca956-038f-11ea-a9f8-02420a0100a0",
       "previous": "fd4cadae-0392-11ea-a9f8-02420a0100a0"
      },
      {
       "current": "3babcaaa-04f4-11ea-a0d1-02420a0100a0",
       "next": "3babcbf4-04f4-11ea-a0d1-02420a0100a0",
       "previous": "3babc938-04f4-11ea-a0d1-02420a0100a0"
      },
      {
       "current": "3babcaaa-04f4-11ea-a0d1-02420a0100a0",
       "next": "3babcd3e-04f4-11ea-a0d1-02420a0100a0",
       "previous": "3babc938-04f4-11ea-a0d1-02420a0100a0"
      },
      {
       "current": "3babcaaa-04f4-11ea-a0d1-02420a0100a0",
       "next": "3babc672-04f4-11ea-a0d1-02420a0100a0",
       "previous": "4b18a7ca-1a24-11ea-b53e-02420a010f43"
      },
      {
       "current": "81ca7dc0-1b28-11ea-a177-02420a010f43",
       "next": "81ca7f6e-1b28-11ea-a177-02420a010f43",
       "previous": "81ca7c12-1b28-11ea-a177-02420a010f43"
      }
     ],
     "next": "81ca8162-1b28-11ea-a177-02420a010f43",
     "previous": "81ca7c12-1b28-11ea-a177-02420a010f43"
    },
    "lc_wrapper": {
     "log_history": [
      "/home/10999542xb8011f/07a/.log/20191110/20191110-172342-0377.log",
      "/home/10999542xb8011f/07a/.log/20191111/20191111-091840-0383.log"
     ]
    }
   },
   "outputs": [],
   "source": [
    "# 演習用入力欄\n"
   ]
  },
  {
   "cell_type": "markdown",
   "metadata": {
    "lc_cell_meme": {
     "current": "81ca8162-1b28-11ea-a177-02420a010f43",
     "history": [
      {
       "current": "fd4cadae-0392-11ea-a9f8-02420a0100a0",
       "next": "13dca956-038f-11ea-a9f8-02420a0100a0",
       "previous": "5595200c-9eeb-11e9-9f4c-02420a010067"
      },
      {
       "current": "fd4cadae-0392-11ea-a9f8-02420a0100a0",
       "next": "ca2652f2-005b-11ea-a9f8-02420a0100a0",
       "previous": "5595200c-9eeb-11e9-9f4c-02420a010067"
      },
      {
       "current": "3babc938-04f4-11ea-a0d1-02420a0100a0",
       "next": "3babcaaa-04f4-11ea-a0d1-02420a0100a0",
       "previous": "3babc7f8-04f4-11ea-a0d1-02420a0100a0"
      },
      {
       "current": "3babc938-04f4-11ea-a0d1-02420a0100a0",
       "next": "3babcaaa-04f4-11ea-a0d1-02420a0100a0",
       "previous": "3babc672-04f4-11ea-a0d1-02420a0100a0"
      },
      {
       "current": "3babc938-04f4-11ea-a0d1-02420a0100a0",
       "next": "f84d2d0c-1a25-11ea-b53e-02420a010f43",
       "previous": "3babc672-04f4-11ea-a0d1-02420a0100a0"
      },
      {
       "current": "3babc938-04f4-11ea-a0d1-02420a0100a0",
       "next": "3babda54-04f4-11ea-a0d1-02420a0100a0",
       "previous": "3babc672-04f4-11ea-a0d1-02420a0100a0"
      },
      {
       "current": "81ca8162-1b28-11ea-a177-02420a010f43",
       "next": "81ca83a6-1b28-11ea-a177-02420a010f43",
       "previous": "81ca7f6e-1b28-11ea-a177-02420a010f43"
      }
     ],
     "next": "81ca83a6-1b28-11ea-a177-02420a010f43",
     "previous": "81ca7dc0-1b28-11ea-a177-02420a010f43"
    }
   },
   "source": [
    "ヒント：　「発見」が表示されることを確認してください。"
   ]
  },
  {
   "cell_type": "markdown",
   "metadata": {
    "lc_cell_meme": {
     "current": "81ca83a6-1b28-11ea-a177-02420a010f43",
     "history": [
      {
       "current": "55952854-9eeb-11e9-9f4c-02420a010067",
       "next": "55952912-9eeb-11e9-9f4c-02420a010067",
       "previous": "55952796-9eeb-11e9-9f4c-02420a010067"
      },
      {
       "current": "55952854-9eeb-11e9-9f4c-02420a010067",
       "next": "55952912-9eeb-11e9-9f4c-02420a010067",
       "previous": "55952796-9eeb-11e9-9f4c-02420a010067"
      },
      {
       "current": "55952854-9eeb-11e9-9f4c-02420a010067",
       "next": "fd2ff202-fc69-11e9-a9f8-02420a0100a0",
       "previous": "55952796-9eeb-11e9-9f4c-02420a010067"
      },
      {
       "current": "55952854-9eeb-11e9-9f4c-02420a010067",
       "next": "fd2ff202-fc69-11e9-a9f8-02420a0100a0",
       "previous": "013773e8-039f-11ea-a9f8-02420a0100a0"
      },
      {
       "current": "55952854-9eeb-11e9-9f4c-02420a010067",
       "next": "fd2ff202-fc69-11e9-a9f8-02420a0100a0",
       "previous": "48ca0c20-039f-11ea-a9f8-02420a0100a0"
      },
      {
       "current": "55952854-9eeb-11e9-9f4c-02420a010067",
       "next": "fd2ff202-fc69-11e9-a9f8-02420a0100a0",
       "previous": "1f3d288c-04f4-11ea-a9f8-02420a0100a0"
      },
      {
       "current": "3babda54-04f4-11ea-a0d1-02420a0100a0",
       "next": "3babdb9e-04f4-11ea-a0d1-02420a0100a0",
       "previous": "3babd8e2-04f4-11ea-a0d1-02420a0100a0"
      },
      {
       "current": "3babda54-04f4-11ea-a0d1-02420a0100a0",
       "next": "3babdb9e-04f4-11ea-a0d1-02420a0100a0",
       "previous": "3babc938-04f4-11ea-a0d1-02420a0100a0"
      }
     ],
     "next": "81ca8586-1b28-11ea-a177-02420a010f43",
     "previous": "81ca8162-1b28-11ea-a177-02420a010f43"
    }
   },
   "source": [
    "# 課題は以上です。お疲れさまでした"
   ]
  },
  {
   "cell_type": "markdown",
   "metadata": {
    "lc_cell_meme": {
     "current": "81ca8586-1b28-11ea-a177-02420a010f43",
     "history": [
      {
       "current": "fd2ff202-fc69-11e9-a9f8-02420a0100a0",
       "next": "fd2ff374-fc69-11e9-a9f8-02420a0100a0",
       "previous": "55952854-9eeb-11e9-9f4c-02420a010067"
      },
      {
       "current": "3babdb9e-04f4-11ea-a0d1-02420a0100a0",
       "next": "3babdce8-04f4-11ea-a0d1-02420a0100a0",
       "previous": "3babda54-04f4-11ea-a0d1-02420a0100a0"
      }
     ],
     "next": "81ca8716-1b28-11ea-a177-02420a010f43",
     "previous": "81ca83a6-1b28-11ea-a177-02420a010f43"
    }
   },
   "source": [
    "## 評価結果"
   ]
  },
  {
   "cell_type": "code",
   "execution_count": null,
   "metadata": {
    "lc_cell_meme": {
     "current": "81ca8716-1b28-11ea-a177-02420a010f43",
     "history": [
      {
       "current": "fd2ff374-fc69-11e9-a9f8-02420a0100a0",
       "next": "fd2ff4a0-fc69-11e9-a9f8-02420a0100a0",
       "previous": "fd2ff202-fc69-11e9-a9f8-02420a0100a0"
      },
      {
       "current": "3babdce8-04f4-11ea-a0d1-02420a0100a0",
       "next": "3babde28-04f4-11ea-a0d1-02420a0100a0",
       "previous": "3babdb9e-04f4-11ea-a0d1-02420a0100a0"
      }
     ],
     "next": "81ca88b0-1b28-11ea-a177-02420a010f43",
     "previous": "81ca8586-1b28-11ea-a177-02420a010f43"
    }
   },
   "outputs": [],
   "source": []
  },
  {
   "cell_type": "markdown",
   "metadata": {
    "lc_cell_meme": {
     "current": "81ca88b0-1b28-11ea-a177-02420a010f43",
     "history": [
      {
       "current": "fd2ff4a0-fc69-11e9-a9f8-02420a0100a0",
       "next": "fd2ff5cc-fc69-11e9-a9f8-02420a0100a0",
       "previous": "fd2ff374-fc69-11e9-a9f8-02420a0100a0"
      },
      {
       "current": "3babde28-04f4-11ea-a0d1-02420a0100a0",
       "next": "3babdf72-04f4-11ea-a0d1-02420a0100a0",
       "previous": "3babdce8-04f4-11ea-a0d1-02420a0100a0"
      }
     ],
     "next": "81ca8a4a-1b28-11ea-a177-02420a010f43",
     "previous": "81ca8716-1b28-11ea-a177-02420a010f43"
    }
   },
   "source": [
    "## コメント等"
   ]
  },
  {
   "cell_type": "code",
   "execution_count": null,
   "metadata": {
    "lc_cell_meme": {
     "current": "81ca8a4a-1b28-11ea-a177-02420a010f43",
     "history": [
      {
       "current": "fd2ff5cc-fc69-11e9-a9f8-02420a0100a0",
       "next": "55952912-9eeb-11e9-9f4c-02420a010067",
       "previous": "fd2ff4a0-fc69-11e9-a9f8-02420a0100a0"
      },
      {
       "current": "3babdf72-04f4-11ea-a0d1-02420a0100a0",
       "next": "3babe152-04f4-11ea-a0d1-02420a0100a0",
       "previous": "3babde28-04f4-11ea-a0d1-02420a0100a0"
      }
     ],
     "next": "81ca8be4-1b28-11ea-a177-02420a010f43",
     "previous": "81ca88b0-1b28-11ea-a177-02420a010f43"
    }
   },
   "outputs": [],
   "source": []
  },
  {
   "cell_type": "markdown",
   "metadata": {
    "lc_cell_meme": {
     "current": "81ca8be4-1b28-11ea-a177-02420a010f43",
     "history": [
      {
       "current": "55952912-9eeb-11e9-9f4c-02420a010067",
       "next": null,
       "previous": "55952854-9eeb-11e9-9f4c-02420a010067"
      },
      {
       "current": "55952912-9eeb-11e9-9f4c-02420a010067",
       "next": null,
       "previous": "55952854-9eeb-11e9-9f4c-02420a010067"
      },
      {
       "current": "55952912-9eeb-11e9-9f4c-02420a010067",
       "next": null,
       "previous": "fd2ff5cc-fc69-11e9-a9f8-02420a0100a0"
      },
      {
       "current": "3babe152-04f4-11ea-a0d1-02420a0100a0",
       "next": null,
       "previous": "3babdf72-04f4-11ea-a0d1-02420a0100a0"
      }
     ],
     "next": null,
     "previous": "81ca8a4a-1b28-11ea-a177-02420a010f43"
    }
   },
   "source": []
  }
 ],
 "metadata": {
  "kernelspec": {
   "display_name": "Python 3",
   "language": "python",
   "name": "python3"
  },
  "language_info": {
   "file_extension": ".py",
   "mimetype": "text/x-python",
   "name": "python",
   "nbconvert_exporter": "python",
   "pygments_lexer": "ipython3",
   "version": "3.7.3"
  },
  "lc_notebook_meme": {
   "current": "81ca31c6-1b28-11ea-a177-02420a010f43",
   "history": [
    "55950f7c-9eeb-11e9-9f4c-02420a010067",
    "3baba7a0-04f4-11ea-a0d1-02420a0100a0"
   ],
   "lc_server_signature": {
    "current": {
     "notebook_dir": "/home/10999542xb8011f",
     "notebook_path": "/11",
     "server_url": "https://nb06.ecloud.nii.ac.jp/user/10999542xb8011f/",
     "signature_id": "1a06912c-df61-11e9-891d-02420a01002c"
    },
    "history": [
     {
      "notebook_dir": "/home/hayasakabe5305",
      "notebook_path": "/",
      "server_url": "https://nb02.ecloud.nii.ac.jp/user/hayasakabe5305/",
      "signature_id": "d7c71be2-8d85-11e9-94e8-02420a010065"
     },
     {
      "notebook_dir": "/home/10999542xb8011f",
      "notebook_path": "/07a",
      "server_url": "https://nb06.ecloud.nii.ac.jp/user/10999542xb8011f/",
      "signature_id": "1a06912c-df61-11e9-891d-02420a01002c"
     },
     {
      "notebook_dir": "/home/10999542xb8011f",
      "notebook_path": "/07",
      "server_url": "https://nb06.ecloud.nii.ac.jp/user/10999542xb8011f/",
      "signature_id": "1a06912c-df61-11e9-891d-02420a01002c"
     },
     {
      "notebook_dir": "/home/10999542xb8011f",
      "notebook_path": "/11work",
      "server_url": "https://nb06.ecloud.nii.ac.jp/user/10999542xb8011f/",
      "signature_id": "1a06912c-df61-11e9-891d-02420a01002c"
     },
     {
      "notebook_dir": "/home/10999542xb8011f",
      "notebook_path": "/11a",
      "server_url": "https://nb06.ecloud.nii.ac.jp/user/10999542xb8011f/",
      "signature_id": "1a06912c-df61-11e9-891d-02420a01002c"
     }
    ]
   },
   "root_cells": [
    "81ca3a54-1b28-11ea-a177-02420a010f43",
    "81ca3ce8-1b28-11ea-a177-02420a010f43",
    "81ca3edc-1b28-11ea-a177-02420a010f43",
    "81ca40d0-1b28-11ea-a177-02420a010f43",
    "81ca42a6-1b28-11ea-a177-02420a010f43",
    "81ca4486-1b28-11ea-a177-02420a010f43",
    "81ca46e8-1b28-11ea-a177-02420a010f43",
    "81ca48e6-1b28-11ea-a177-02420a010f43",
    "81ca4ac6-1b28-11ea-a177-02420a010f43",
    "81ca4ca6-1b28-11ea-a177-02420a010f43",
    "81ca4eae-1b28-11ea-a177-02420a010f43",
    "81ca521e-1b28-11ea-a177-02420a010f43",
    "81ca5430-1b28-11ea-a177-02420a010f43",
    "81ca564c-1b28-11ea-a177-02420a010f43",
    "81ca5854-1b28-11ea-a177-02420a010f43",
    "81ca5a3e-1b28-11ea-a177-02420a010f43",
    "81ca5cbe-1b28-11ea-a177-02420a010f43",
    "81ca5ec6-1b28-11ea-a177-02420a010f43",
    "81ca6060-1b28-11ea-a177-02420a010f43",
    "81ca624a-1b28-11ea-a177-02420a010f43",
    "81ca645c-1b28-11ea-a177-02420a010f43",
    "81ca6632-1b28-11ea-a177-02420a010f43",
    "81ca67fe-1b28-11ea-a177-02420a010f43",
    "81ca69d4-1b28-11ea-a177-02420a010f43",
    "81ca6bbe-1b28-11ea-a177-02420a010f43",
    "81ca6e52-1b28-11ea-a177-02420a010f43",
    "81ca6ff6-1b28-11ea-a177-02420a010f43",
    "81ca719a-1b28-11ea-a177-02420a010f43",
    "81ca737a-1b28-11ea-a177-02420a010f43",
    "81ca7550-1b28-11ea-a177-02420a010f43",
    "81ca7898-1b28-11ea-a177-02420a010f43",
    "81ca7a5a-1b28-11ea-a177-02420a010f43",
    "81ca7c12-1b28-11ea-a177-02420a010f43",
    "81ca7dc0-1b28-11ea-a177-02420a010f43",
    "81ca7f6e-1b28-11ea-a177-02420a010f43",
    "81ca8162-1b28-11ea-a177-02420a010f43",
    "81ca83a6-1b28-11ea-a177-02420a010f43",
    "81ca8586-1b28-11ea-a177-02420a010f43",
    "81ca8716-1b28-11ea-a177-02420a010f43",
    "81ca88b0-1b28-11ea-a177-02420a010f43",
    "81ca8a4a-1b28-11ea-a177-02420a010f43",
    "81ca8be4-1b28-11ea-a177-02420a010f43"
   ]
  },
  "toc": {
   "base_numbering": 1,
   "nav_menu": {},
   "number_sections": true,
   "sideBar": true,
   "skip_h1_title": false,
   "title_cell": "Table of Contents",
   "title_sidebar": "Contents",
   "toc_cell": false,
   "toc_position": {},
   "toc_section_display": true,
   "toc_window_display": false
  }
 },
 "nbformat": 4,
 "nbformat_minor": 2
}
