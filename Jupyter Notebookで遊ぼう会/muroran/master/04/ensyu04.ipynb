{
 "cells": [
  {
   "cell_type": "markdown",
   "metadata": {
    "lc_cell_meme": {
     "current": "438997fe-f3c2-11e9-a476-02420a010068",
     "history": [
      {
       "current": "942a62a9-25df-11e9-a9f8-e0d55ea40caf",
       "next": "942a62aa-25df-11e9-a9f8-e0d55ea40caf",
       "previous": null
      }
     ],
     "next": "43899a24-f3c2-11e9-a476-02420a010068",
     "previous": null
    }
   },
   "source": [
    "# プログラミング入門\n",
    "　　第４回　繰り返し"
   ]
  },
  {
   "cell_type": "markdown",
   "metadata": {
    "lc_cell_meme": {
     "current": "43899a24-f3c2-11e9-a476-02420a010068",
     "history": [
      {
       "current": "942a62aa-25df-11e9-a9f8-e0d55ea40caf",
       "next": "942a62ab-25df-11e9-a9f8-e0d55ea40caf",
       "previous": "942a62a9-25df-11e9-a9f8-e0d55ea40caf"
      }
     ],
     "next": "43899bd2-f3c2-11e9-a476-02420a010068",
     "previous": "438997fe-f3c2-11e9-a476-02420a010068"
    }
   },
   "source": [
    "次のセルに、自分の名前と学籍番号を記入して下さい。"
   ]
  },
  {
   "cell_type": "raw",
   "metadata": {
    "lc_cell_meme": {
     "current": "43899bd2-f3c2-11e9-a476-02420a010068",
     "history": [
      {
       "current": "942a62ab-25df-11e9-a9f8-e0d55ea40caf",
       "next": "942a62ac-25df-11e9-a9f8-e0d55ea40caf",
       "previous": "942a62aa-25df-11e9-a9f8-e0d55ea40caf"
      }
     ],
     "next": "43899d80-f3c2-11e9-a476-02420a010068",
     "previous": "43899a24-f3c2-11e9-a476-02420a010068"
    }
   },
   "source": [
    "学籍番号：　　　　　　　　　　　氏名："
   ]
  },
  {
   "cell_type": "markdown",
   "metadata": {
    "lc_cell_meme": {
     "current": "43899d80-f3c2-11e9-a476-02420a010068",
     "history": [
      {
       "current": "942a62ac-25df-11e9-a9f8-e0d55ea40caf",
       "next": "942a62ad-25df-11e9-a9f8-e0d55ea40caf",
       "previous": "942a62ab-25df-11e9-a9f8-e0d55ea40caf"
      },
      {
       "current": "942a62ac-25df-11e9-a9f8-e0d55ea40caf",
       "next": "790de4d2-9c62-11e9-8b94-e0d55ea40caf",
       "previous": "942a62ab-25df-11e9-a9f8-e0d55ea40caf"
      }
     ],
     "next": "43899efc-f3c2-11e9-a476-02420a010068",
     "previous": "43899bd2-f3c2-11e9-a476-02420a010068"
    }
   },
   "source": [
    "【進め方の注意】\n",
    "\n",
    "- 文書を読んで、手順に沿って問いに答えながら進めて下さい。\n",
    "- 最後まで問題を解いて、ファイルを保存して下さい。\n",
    "- 途中わからないことがあれば、教員またはTAに質問して下さい。"
   ]
  },
  {
   "cell_type": "markdown",
   "metadata": {
    "lc_cell_meme": {
     "current": "43899efc-f3c2-11e9-a476-02420a010068",
     "history": [
      {
       "current": "790de4d2-9c62-11e9-8b94-e0d55ea40caf",
       "next": "942a62c2-25df-11e9-a9f8-e0d55ea40caf",
       "previous": "942a62ac-25df-11e9-a9f8-e0d55ea40caf"
      },
      {
       "current": "790de4d2-9c62-11e9-8b94-e0d55ea40caf",
       "next": "c09522c0-9c62-11e9-8b94-e0d55ea40caf",
       "previous": "942a62ac-25df-11e9-a9f8-e0d55ea40caf"
      }
     ],
     "next": "4389a046-f3c2-11e9-a476-02420a010068",
     "previous": "43899d80-f3c2-11e9-a476-02420a010068"
    }
   },
   "source": [
    "# while文を使った繰り返し"
   ]
  },
  {
   "cell_type": "markdown",
   "metadata": {
    "lc_cell_meme": {
     "current": "4389a046-f3c2-11e9-a476-02420a010068",
     "history": [
      {
       "current": "c09522c0-9c62-11e9-8b94-e0d55ea40caf",
       "next": "c09522c1-9c62-11e9-8b94-e0d55ea40caf",
       "previous": "790de4d2-9c62-11e9-8b94-e0d55ea40caf"
      },
      {
       "current": "c09522c0-9c62-11e9-8b94-e0d55ea40caf",
       "next": "bccc312e-eef6-11e9-a8bb-02420a010068",
       "previous": "790de4d2-9c62-11e9-8b94-e0d55ea40caf"
      }
     ],
     "next": "4389a190-f3c2-11e9-a476-02420a010068",
     "previous": "43899efc-f3c2-11e9-a476-02420a010068"
    }
   },
   "source": [
    "while　文を使うと処理を繰り返して実行することができます。\n",
    "\n",
    "次の書式を用います。\n",
    "\n",
    "```\n",
    "while 条件式:\n",
    "    実行する命令1\n",
    "    実行する命令2\n",
    "```    \n",
    "\n",
    "- 条件式の後ろには「:」（コロン）を付けます、\n",
    "- 実行する命令は必ず字下げ（インデント）して記述します。\n",
    "- (インデントされている行は繰り返し実行されます。)"
   ]
  },
  {
   "cell_type": "markdown",
   "metadata": {
    "lc_cell_meme": {
     "current": "4389a190-f3c2-11e9-a476-02420a010068",
     "history": [
      {
       "current": "bccc312e-eef6-11e9-a8bb-02420a010068",
       "next": "c09522c1-9c62-11e9-8b94-e0d55ea40caf",
       "previous": "c09522c0-9c62-11e9-8b94-e0d55ea40caf"
      }
     ],
     "next": "4389a30c-f3c2-11e9-a476-02420a010068",
     "previous": "4389a046-f3c2-11e9-a476-02420a010068"
    }
   },
   "source": [
    "## while文の例題"
   ]
  },
  {
   "cell_type": "markdown",
   "metadata": {
    "lc_cell_meme": {
     "current": "4389a30c-f3c2-11e9-a476-02420a010068",
     "history": [
      {
       "current": "c09522c1-9c62-11e9-8b94-e0d55ea40caf",
       "next": "c09522c2-9c62-11e9-8b94-e0d55ea40caf",
       "previous": "c09522c0-9c62-11e9-8b94-e0d55ea40caf"
      },
      {
       "current": "c09522c1-9c62-11e9-8b94-e0d55ea40caf",
       "next": "c09522c2-9c62-11e9-8b94-e0d55ea40caf",
       "previous": "bccc312e-eef6-11e9-a8bb-02420a010068"
      }
     ],
     "next": "4389a456-f3c2-11e9-a476-02420a010068",
     "previous": "4389a190-f3c2-11e9-a476-02420a010068"
    }
   },
   "source": [
    "例題：\n",
    "１から５まで表示するプログラムは次のようになります。\n",
    "\n",
    "次のセルを評価して、動作を確認しなさい。"
   ]
  },
  {
   "cell_type": "code",
   "execution_count": null,
   "metadata": {
    "lc_cell_meme": {
     "current": "4389a456-f3c2-11e9-a476-02420a010068",
     "history": [
      {
       "current": "c09522c2-9c62-11e9-8b94-e0d55ea40caf",
       "next": "c09522c3-9c62-11e9-8b94-e0d55ea40caf",
       "previous": "c09522c1-9c62-11e9-8b94-e0d55ea40caf"
      },
      {
       "current": "c09522c2-9c62-11e9-8b94-e0d55ea40caf",
       "next": "044db57c-eef7-11e9-a8bb-02420a010068",
       "previous": "c09522c1-9c62-11e9-8b94-e0d55ea40caf"
      }
     ],
     "next": "4389a5e6-f3c2-11e9-a476-02420a010068",
     "previous": "4389a30c-f3c2-11e9-a476-02420a010068"
    },
    "lc_wrapper": {
     "log_history": [
      "/home/kuwata/notebooks/.log/20190702/20190702-111333-0360.log",
      "/home/kuwata/notebooks/.log/20190702/20190702-111341-0050.log",
      "/home/kuwata/notebooks/.log/20190702/20190702-111711-0741.log",
      "/home/14999410x94c69e/04a/.log/20191018/20191018-094253-0903.log"
     ]
    }
   },
   "outputs": [],
   "source": [
    "# このセルを評価すること\n",
    "i=1 # 変数iを初期化\n",
    "while i <= 5: # 変数が5以下の間くりかえす。\n",
    "    print(i)\n",
    "    i=i+1 # 変数を+1する"
   ]
  },
  {
   "cell_type": "markdown",
   "metadata": {
    "lc_cell_meme": {
     "current": "4389a5e6-f3c2-11e9-a476-02420a010068",
     "history": [
      {
       "current": "044db57c-eef7-11e9-a8bb-02420a010068",
       "next": "c09522c3-9c62-11e9-8b94-e0d55ea40caf",
       "previous": "c09522c2-9c62-11e9-8b94-e0d55ea40caf"
      }
     ],
     "next": "4389a730-f3c2-11e9-a476-02420a010068",
     "previous": "4389a456-f3c2-11e9-a476-02420a010068"
    }
   },
   "source": [
    "## while文の演習1"
   ]
  },
  {
   "cell_type": "markdown",
   "metadata": {
    "lc_cell_meme": {
     "current": "4389a730-f3c2-11e9-a476-02420a010068",
     "history": [
      {
       "current": "c09522c3-9c62-11e9-8b94-e0d55ea40caf",
       "next": "942a62c2-25df-11e9-a9f8-e0d55ea40caf",
       "previous": "c09522c2-9c62-11e9-8b94-e0d55ea40caf"
      },
      {
       "current": "c09522c3-9c62-11e9-8b94-e0d55ea40caf",
       "next": "53746bd0-9c6f-11e9-8b94-e0d55ea40caf",
       "previous": "c09522c2-9c62-11e9-8b94-e0d55ea40caf"
      },
      {
       "current": "c09522c3-9c62-11e9-8b94-e0d55ea40caf",
       "next": "044db842-eef7-11e9-a8bb-02420a010068",
       "previous": "044db57c-eef7-11e9-a8bb-02420a010068"
      }
     ],
     "next": "4389aa14-f3c2-11e9-a476-02420a010068",
     "previous": "4389a5e6-f3c2-11e9-a476-02420a010068"
    }
   },
   "source": [
    "演習：上のプログラムを改造し、次のセルで「3」から「11」まで表示するプログラムを作成しなさい。\n",
    "\n",
    "```\n",
    "3\n",
    "4\n",
    "5\n",
    "6\n",
    "7\n",
    "8\n",
    "9\n",
    "10\n",
    "11\n",
    "```"
   ]
  },
  {
   "cell_type": "code",
   "execution_count": null,
   "metadata": {
    "lc_cell_meme": {
     "current": "4389aa14-f3c2-11e9-a476-02420a010068",
     "history": [
      {
       "current": "044db842-eef7-11e9-a8bb-02420a010068",
       "next": "53746bd0-9c6f-11e9-8b94-e0d55ea40caf",
       "previous": "c09522c3-9c62-11e9-8b94-e0d55ea40caf"
      },
      {
       "current": "044db842-eef7-11e9-a8bb-02420a010068",
       "next": "4bd69a6c-eef7-11e9-a8bb-02420a010068",
       "previous": "c09522c3-9c62-11e9-8b94-e0d55ea40caf"
      }
     ],
     "next": "4389abae-f3c2-11e9-a476-02420a010068",
     "previous": "4389a730-f3c2-11e9-a476-02420a010068"
    }
   },
   "outputs": [],
   "source": [
    "# 演習用入力欄\n"
   ]
  },
  {
   "cell_type": "markdown",
   "metadata": {
    "lc_cell_meme": {
     "current": "4389abae-f3c2-11e9-a476-02420a010068",
     "history": [
      {
       "current": "4bd69a6c-eef7-11e9-a8bb-02420a010068",
       "next": "9afbe05a-9c6f-11e9-8b94-e0d55ea40caf",
       "previous": "53746bd0-9c6f-11e9-8b94-e0d55ea40caf"
      },
      {
       "current": "4bd69a6c-eef7-11e9-a8bb-02420a010068",
       "next": "9afbe05a-9c6f-11e9-8b94-e0d55ea40caf",
       "previous": "044db842-eef7-11e9-a8bb-02420a010068"
      }
     ],
     "next": "4389ae24-f3c2-11e9-a476-02420a010068",
     "previous": "4389aa14-f3c2-11e9-a476-02420a010068"
    }
   },
   "source": [
    "## while文の演習2"
   ]
  },
  {
   "cell_type": "markdown",
   "metadata": {
    "lc_cell_meme": {
     "current": "4389ae24-f3c2-11e9-a476-02420a010068",
     "history": [
      {
       "current": "9afbe05a-9c6f-11e9-8b94-e0d55ea40caf",
       "next": "9afbe05b-9c6f-11e9-8b94-e0d55ea40caf",
       "previous": "53746bd0-9c6f-11e9-8b94-e0d55ea40caf"
      },
      {
       "current": "9afbe05a-9c6f-11e9-8b94-e0d55ea40caf",
       "next": "4bd69c9c-eef7-11e9-a8bb-02420a010068",
       "previous": "4bd69a6c-eef7-11e9-a8bb-02420a010068"
      }
     ],
     "next": "4389afbe-f3c2-11e9-a476-02420a010068",
     "previous": "4389abae-f3c2-11e9-a476-02420a010068"
    }
   },
   "source": [
    "演習：while文を使って、\"Hello World\"と5回表示するプログラムを作成しなさい。\n",
    "\n",
    "```\n",
    "Hello World\n",
    "Hello World\n",
    "Hello World\n",
    "Hello World\n",
    "Hello World\n",
    "```"
   ]
  },
  {
   "cell_type": "code",
   "execution_count": null,
   "metadata": {
    "lc_cell_meme": {
     "current": "4389afbe-f3c2-11e9-a476-02420a010068",
     "history": [
      {
       "current": "4bd69c9c-eef7-11e9-a8bb-02420a010068",
       "next": "9afbe05b-9c6f-11e9-8b94-e0d55ea40caf",
       "previous": "9afbe05a-9c6f-11e9-8b94-e0d55ea40caf"
      },
      {
       "current": "4bd69c9c-eef7-11e9-a8bb-02420a010068",
       "next": "942a62c2-25df-11e9-a9f8-e0d55ea40caf",
       "previous": "9afbe05a-9c6f-11e9-8b94-e0d55ea40caf"
      }
     ],
     "next": "4389b16c-f3c2-11e9-a476-02420a010068",
     "previous": "4389ae24-f3c2-11e9-a476-02420a010068"
    }
   },
   "outputs": [],
   "source": [
    "# 演習用入力欄\n"
   ]
  },
  {
   "cell_type": "markdown",
   "metadata": {
    "lc_cell_meme": {
     "current": "4389b16c-f3c2-11e9-a476-02420a010068",
     "history": [
      {
       "current": "942a62c2-25df-11e9-a9f8-e0d55ea40caf",
       "next": "942a62c3-25df-11e9-a9f8-e0d55ea40caf",
       "previous": "942a62c1-25df-11e9-a9f8-e0d55ea40caf"
      },
      {
       "current": "942a62c2-25df-11e9-a9f8-e0d55ea40caf",
       "next": "942a62c3-25df-11e9-a9f8-e0d55ea40caf",
       "previous": "790de4d2-9c62-11e9-8b94-e0d55ea40caf"
      },
      {
       "current": "942a62c2-25df-11e9-a9f8-e0d55ea40caf",
       "next": "942a62c3-25df-11e9-a9f8-e0d55ea40caf",
       "previous": "c09522c3-9c62-11e9-8b94-e0d55ea40caf"
      },
      {
       "current": "942a62c2-25df-11e9-a9f8-e0d55ea40caf",
       "next": "942a62c3-25df-11e9-a9f8-e0d55ea40caf",
       "previous": "53746bd0-9c6f-11e9-8b94-e0d55ea40caf"
      },
      {
       "current": "942a62c2-25df-11e9-a9f8-e0d55ea40caf",
       "next": "942a62c3-25df-11e9-a9f8-e0d55ea40caf",
       "previous": "9afbe05b-9c6f-11e9-8b94-e0d55ea40caf"
      },
      {
       "current": "942a62c2-25df-11e9-a9f8-e0d55ea40caf",
       "next": "942a62c3-25df-11e9-a9f8-e0d55ea40caf",
       "previous": "4bd69c9c-eef7-11e9-a8bb-02420a010068"
      }
     ],
     "next": "4389b2c0-f3c2-11e9-a476-02420a010068",
     "previous": "4389afbe-f3c2-11e9-a476-02420a010068"
    }
   },
   "source": [
    "# range関数"
   ]
  },
  {
   "cell_type": "markdown",
   "metadata": {
    "lc_cell_meme": {
     "current": "4389b2c0-f3c2-11e9-a476-02420a010068",
     "history": [
      {
       "current": "942a62c3-25df-11e9-a9f8-e0d55ea40caf",
       "next": "942a62c4-25df-11e9-a9f8-e0d55ea40caf",
       "previous": "942a62c2-25df-11e9-a9f8-e0d55ea40caf"
      }
     ],
     "next": "4389b4e6-f3c2-11e9-a476-02420a010068",
     "previous": "4389b16c-f3c2-11e9-a476-02420a010068"
    }
   },
   "source": [
    "range()関数を使うと、繰り返しが簡単に記述できます。\n",
    "\n",
    "range()は数字などの順番を表す「シーケンス」を生成します。"
   ]
  },
  {
   "cell_type": "markdown",
   "metadata": {
    "lc_cell_meme": {
     "current": "4389b4e6-f3c2-11e9-a476-02420a010068",
     "history": [
      {
       "current": "942a62c4-25df-11e9-a9f8-e0d55ea40caf",
       "next": "942a62c5-25df-11e9-a9f8-e0d55ea40caf",
       "previous": "942a62c3-25df-11e9-a9f8-e0d55ea40caf"
      },
      {
       "current": "942a62c4-25df-11e9-a9f8-e0d55ea40caf",
       "next": "c4032e82-25e0-11e9-a9f8-e0d55ea40caf",
       "previous": "942a62c3-25df-11e9-a9f8-e0d55ea40caf"
      },
      {
       "current": "942a62c4-25df-11e9-a9f8-e0d55ea40caf",
       "next": "4bd69dc8-eef7-11e9-a8bb-02420a010068",
       "previous": "942a62c3-25df-11e9-a9f8-e0d55ea40caf"
      }
     ],
     "next": "4389b662-f3c2-11e9-a476-02420a010068",
     "previous": "4389b2c0-f3c2-11e9-a476-02420a010068"
    }
   },
   "source": [
    "range(10)は0から9までの数字の並びを示す「シーケンス」です。\n",
    "\n",
    "最後の「10」はシーケンスに含まれないことに注意して下さい。"
   ]
  },
  {
   "cell_type": "markdown",
   "metadata": {
    "lc_cell_meme": {
     "current": "4389b662-f3c2-11e9-a476-02420a010068",
     "history": [
      {
       "current": "4bd69dc8-eef7-11e9-a8bb-02420a010068",
       "next": "c4032e82-25e0-11e9-a9f8-e0d55ea40caf",
       "previous": "942a62c4-25df-11e9-a9f8-e0d55ea40caf"
      }
     ],
     "next": "4389b7d4-f3c2-11e9-a476-02420a010068",
     "previous": "4389b4e6-f3c2-11e9-a476-02420a010068"
    }
   },
   "source": [
    "## rangeの演習1"
   ]
  },
  {
   "cell_type": "markdown",
   "metadata": {
    "lc_cell_meme": {
     "current": "4389b7d4-f3c2-11e9-a476-02420a010068",
     "history": [
      {
       "current": "c4032e82-25e0-11e9-a9f8-e0d55ea40caf",
       "next": "942a62c5-25df-11e9-a9f8-e0d55ea40caf",
       "previous": "942a62c4-25df-11e9-a9f8-e0d55ea40caf"
      },
      {
       "current": "c4032e82-25e0-11e9-a9f8-e0d55ea40caf",
       "next": "4bd69ed6-eef7-11e9-a8bb-02420a010068",
       "previous": "4bd69dc8-eef7-11e9-a8bb-02420a010068"
      }
     ],
     "next": "4389b964-f3c2-11e9-a476-02420a010068",
     "previous": "4389b662-f3c2-11e9-a476-02420a010068"
    }
   },
   "source": [
    "演習：次のセルで、0から9までのシーケンスを作成しなさい。"
   ]
  },
  {
   "cell_type": "code",
   "execution_count": null,
   "metadata": {
    "lc_cell_meme": {
     "current": "4389b964-f3c2-11e9-a476-02420a010068",
     "history": [
      {
       "current": "4bd69ed6-eef7-11e9-a8bb-02420a010068",
       "next": "942a62c5-25df-11e9-a9f8-e0d55ea40caf",
       "previous": "c4032e82-25e0-11e9-a9f8-e0d55ea40caf"
      },
      {
       "current": "4bd69ed6-eef7-11e9-a8bb-02420a010068",
       "next": "942a62c6-25df-11e9-a9f8-e0d55ea40caf",
       "previous": "c4032e82-25e0-11e9-a9f8-e0d55ea40caf"
      }
     ],
     "next": "4389baae-f3c2-11e9-a476-02420a010068",
     "previous": "4389b7d4-f3c2-11e9-a476-02420a010068"
    }
   },
   "outputs": [],
   "source": [
    "# 演習用入力欄\n"
   ]
  },
  {
   "cell_type": "markdown",
   "metadata": {
    "lc_cell_meme": {
     "current": "4389baae-f3c2-11e9-a476-02420a010068",
     "history": [
      {
       "current": "942a62c6-25df-11e9-a9f8-e0d55ea40caf",
       "next": "942a62c7-25df-11e9-a9f8-e0d55ea40caf",
       "previous": "942a62c5-25df-11e9-a9f8-e0d55ea40caf"
      },
      {
       "current": "942a62c6-25df-11e9-a9f8-e0d55ea40caf",
       "next": "4bd69dc8-eef7-11e9-a8bb-02420a010068",
       "previous": "942a62c5-25df-11e9-a9f8-e0d55ea40caf"
      },
      {
       "current": "942a62c6-25df-11e9-a9f8-e0d55ea40caf",
       "next": "4bd69dc8-eef7-11e9-a8bb-02420a010068",
       "previous": "4bd69ed6-eef7-11e9-a8bb-02420a010068"
      }
     ],
     "next": "4389bbf8-f3c2-11e9-a476-02420a010068",
     "previous": "4389b964-f3c2-11e9-a476-02420a010068"
    }
   },
   "source": [
    "次のように表示されます。\n",
    "```\n",
    "range(0, 10)\n",
    "```"
   ]
  },
  {
   "cell_type": "markdown",
   "metadata": {
    "lc_cell_meme": {
     "current": "4389bbf8-f3c2-11e9-a476-02420a010068",
     "history": [
      {
       "current": "4bd69dc8-eef7-11e9-a8bb-02420a010068",
       "next": "c4032e82-25e0-11e9-a9f8-e0d55ea40caf",
       "previous": "942a62c4-25df-11e9-a9f8-e0d55ea40caf"
      },
      {
       "current": "4bd69dc8-eef7-11e9-a8bb-02420a010068",
       "next": "942a62c6-25df-11e9-a9f8-e0d55ea40caf",
       "previous": "942a62c6-25df-11e9-a9f8-e0d55ea40caf"
      }
     ],
     "next": "4389bd42-f3c2-11e9-a476-02420a010068",
     "previous": "4389baae-f3c2-11e9-a476-02420a010068"
    }
   },
   "source": [
    "## rangeの演習2（list表示）"
   ]
  },
  {
   "cell_type": "markdown",
   "metadata": {
    "lc_cell_meme": {
     "current": "4389bd42-f3c2-11e9-a476-02420a010068",
     "history": [
      {
       "current": "942a62c6-25df-11e9-a9f8-e0d55ea40caf",
       "next": "942a62c7-25df-11e9-a9f8-e0d55ea40caf",
       "previous": "942a62c5-25df-11e9-a9f8-e0d55ea40caf"
      },
      {
       "current": "942a62c6-25df-11e9-a9f8-e0d55ea40caf",
       "next": "4bd69ed6-eef7-11e9-a8bb-02420a010068",
       "previous": "4bd69dc8-eef7-11e9-a8bb-02420a010068"
      }
     ],
     "next": "4389be8c-f3c2-11e9-a476-02420a010068",
     "previous": "4389bbf8-f3c2-11e9-a476-02420a010068"
    }
   },
   "source": [
    "「list()関数」を使うと、「シーケンス」を展開してリストにすることができます。\n",
    "\n",
    "演習：次のセルで、以下の式を使い、シーケンスをリストに展開しなさい。\n",
    "```\n",
    "list(range(10))\n",
    "-> [0, 1, 2, 3, 4, 5, 6. 7, 8, 9]\n",
    "```"
   ]
  },
  {
   "cell_type": "code",
   "execution_count": null,
   "metadata": {
    "lc_cell_meme": {
     "current": "4389be8c-f3c2-11e9-a476-02420a010068",
     "history": [
      {
       "current": "4bd69ed6-eef7-11e9-a8bb-02420a010068",
       "next": "942a62c5-25df-11e9-a9f8-e0d55ea40caf",
       "previous": "c4032e82-25e0-11e9-a9f8-e0d55ea40caf"
      },
      {
       "current": "4bd69ed6-eef7-11e9-a8bb-02420a010068",
       "next": "942a62c7-25df-11e9-a9f8-e0d55ea40caf",
       "previous": "942a62c6-25df-11e9-a9f8-e0d55ea40caf"
      },
      {
       "current": "4bd69ed6-eef7-11e9-a8bb-02420a010068",
       "next": "942a62c8-25df-11e9-a9f8-e0d55ea40caf",
       "previous": "942a62c6-25df-11e9-a9f8-e0d55ea40caf"
      }
     ],
     "next": "4389c01c-f3c2-11e9-a476-02420a010068",
     "previous": "4389bd42-f3c2-11e9-a476-02420a010068"
    }
   },
   "outputs": [],
   "source": [
    "# 演習用入力欄\n"
   ]
  },
  {
   "cell_type": "markdown",
   "metadata": {
    "lc_cell_meme": {
     "current": "4389c01c-f3c2-11e9-a476-02420a010068",
     "history": [
      {
       "current": "942a62c8-25df-11e9-a9f8-e0d55ea40caf",
       "next": "942a62c9-25df-11e9-a9f8-e0d55ea40caf",
       "previous": "942a62c7-25df-11e9-a9f8-e0d55ea40caf"
      },
      {
       "current": "942a62c8-25df-11e9-a9f8-e0d55ea40caf",
       "next": "4bd69dc8-eef7-11e9-a8bb-02420a010068",
       "previous": "942a62c7-25df-11e9-a9f8-e0d55ea40caf"
      },
      {
       "current": "942a62c8-25df-11e9-a9f8-e0d55ea40caf",
       "next": "4bd69dc8-eef7-11e9-a8bb-02420a010068",
       "previous": "4bd69ed6-eef7-11e9-a8bb-02420a010068"
      }
     ],
     "next": "4389c18e-f3c2-11e9-a476-02420a010068",
     "previous": "4389be8c-f3c2-11e9-a476-02420a010068"
    }
   },
   "source": [
    "以降、list関数を使い、range()の動作を説明します。\n",
    "\n",
    "注意：0からはじまり、9で終わります。最後の「10」はシーケンスに含まれないことに注意すること。"
   ]
  },
  {
   "cell_type": "markdown",
   "metadata": {
    "lc_cell_meme": {
     "current": "4389c18e-f3c2-11e9-a476-02420a010068",
     "history": [
      {
       "current": "4bd69dc8-eef7-11e9-a8bb-02420a010068",
       "next": "c4032e82-25e0-11e9-a9f8-e0d55ea40caf",
       "previous": "942a62c4-25df-11e9-a9f8-e0d55ea40caf"
      },
      {
       "current": "4bd69dc8-eef7-11e9-a8bb-02420a010068",
       "next": "942a62c9-25df-11e9-a9f8-e0d55ea40caf",
       "previous": "942a62c8-25df-11e9-a9f8-e0d55ea40caf"
      }
     ],
     "next": "4389c30a-f3c2-11e9-a476-02420a010068",
     "previous": "4389c01c-f3c2-11e9-a476-02420a010068"
    }
   },
   "source": [
    "## rangeの演習3（2引数）"
   ]
  },
  {
   "cell_type": "markdown",
   "metadata": {
    "lc_cell_meme": {
     "current": "4389c30a-f3c2-11e9-a476-02420a010068",
     "history": [
      {
       "current": "942a62c9-25df-11e9-a9f8-e0d55ea40caf",
       "next": "942a62ca-25df-11e9-a9f8-e0d55ea40caf",
       "previous": "942a62c8-25df-11e9-a9f8-e0d55ea40caf"
      },
      {
       "current": "942a62c9-25df-11e9-a9f8-e0d55ea40caf",
       "next": "942a62ca-25df-11e9-a9f8-e0d55ea40caf",
       "previous": "4bd69dc8-eef7-11e9-a8bb-02420a010068"
      },
      {
       "current": "942a62c9-25df-11e9-a9f8-e0d55ea40caf",
       "next": "4bd69ed6-eef7-11e9-a8bb-02420a010068",
       "previous": "4bd69dc8-eef7-11e9-a8bb-02420a010068"
      }
     ],
     "next": "4389c45e-f3c2-11e9-a476-02420a010068",
     "previous": "4389c18e-f3c2-11e9-a476-02420a010068"
    }
   },
   "source": [
    "range()に引数を２個与えることで、初期値と終了条件を指定できます。\n",
    "\n",
    "以下の形式を取ります。\n",
    "\n",
    "range(初期値, 終了条件)\n",
    "\n",
    "演習：次のセルで、5から15までのリストを作成しなさい。\n",
    "```\n",
    "[5, 6, 7, 8, 9, 10, 11, 12, 13, 14, 15]\n",
    "```"
   ]
  },
  {
   "cell_type": "code",
   "execution_count": null,
   "metadata": {
    "lc_cell_meme": {
     "current": "4389c45e-f3c2-11e9-a476-02420a010068",
     "history": [
      {
       "current": "4bd69ed6-eef7-11e9-a8bb-02420a010068",
       "next": "942a62c5-25df-11e9-a9f8-e0d55ea40caf",
       "previous": "c4032e82-25e0-11e9-a9f8-e0d55ea40caf"
      },
      {
       "current": "4bd69ed6-eef7-11e9-a8bb-02420a010068",
       "next": "942a62c7-25df-11e9-a9f8-e0d55ea40caf",
       "previous": "942a62c6-25df-11e9-a9f8-e0d55ea40caf"
      },
      {
       "current": "4bd69ed6-eef7-11e9-a8bb-02420a010068",
       "next": "942a62ca-25df-11e9-a9f8-e0d55ea40caf",
       "previous": "942a62c9-25df-11e9-a9f8-e0d55ea40caf"
      },
      {
       "current": "4bd69ed6-eef7-11e9-a8bb-02420a010068",
       "next": "4bd69dc8-eef7-11e9-a8bb-02420a010068",
       "previous": "942a62c9-25df-11e9-a9f8-e0d55ea40caf"
      }
     ],
     "next": "4389c5a8-f3c2-11e9-a476-02420a010068",
     "previous": "4389c30a-f3c2-11e9-a476-02420a010068"
    }
   },
   "outputs": [],
   "source": [
    "# 演習用入力欄\n"
   ]
  },
  {
   "cell_type": "markdown",
   "metadata": {
    "lc_cell_meme": {
     "current": "4389c5a8-f3c2-11e9-a476-02420a010068",
     "history": [
      {
       "current": "4bd69dc8-eef7-11e9-a8bb-02420a010068",
       "next": "c4032e82-25e0-11e9-a9f8-e0d55ea40caf",
       "previous": "942a62c4-25df-11e9-a9f8-e0d55ea40caf"
      },
      {
       "current": "4bd69dc8-eef7-11e9-a8bb-02420a010068",
       "next": "942a62c9-25df-11e9-a9f8-e0d55ea40caf",
       "previous": "942a62c8-25df-11e9-a9f8-e0d55ea40caf"
      },
      {
       "current": "4bd69dc8-eef7-11e9-a8bb-02420a010068",
       "next": "942a62cb-25df-11e9-a9f8-e0d55ea40caf",
       "previous": "942a62ca-25df-11e9-a9f8-e0d55ea40caf"
      },
      {
       "current": "4bd69dc8-eef7-11e9-a8bb-02420a010068",
       "next": "942a62cb-25df-11e9-a9f8-e0d55ea40caf",
       "previous": "4bd69ed6-eef7-11e9-a8bb-02420a010068"
      }
     ],
     "next": "4389c71a-f3c2-11e9-a476-02420a010068",
     "previous": "4389c45e-f3c2-11e9-a476-02420a010068"
    }
   },
   "source": [
    "## rangeの演習4（3引数）"
   ]
  },
  {
   "cell_type": "markdown",
   "metadata": {
    "lc_cell_meme": {
     "current": "4389c71a-f3c2-11e9-a476-02420a010068",
     "history": [
      {
       "current": "942a62cb-25df-11e9-a9f8-e0d55ea40caf",
       "next": "942a62cc-25df-11e9-a9f8-e0d55ea40caf",
       "previous": "942a62ca-25df-11e9-a9f8-e0d55ea40caf"
      },
      {
       "current": "942a62cb-25df-11e9-a9f8-e0d55ea40caf",
       "next": "4bd69ed6-eef7-11e9-a8bb-02420a010068",
       "previous": "4bd69dc8-eef7-11e9-a8bb-02420a010068"
      }
     ],
     "next": "4389c88c-f3c2-11e9-a476-02420a010068",
     "previous": "4389c5a8-f3c2-11e9-a476-02420a010068"
    }
   },
   "source": [
    "range()に引数を３個与えることで、初期値と終了条件、刻み値を指定できます。\n",
    "\n",
    "以下の形式を取ります。\n",
    "\n",
    "range(初期値, 終了条件, 刻み値)\n",
    "\n",
    "例：\n",
    "```\n",
    "list(range(1, 10, 3))\n",
    "-> [1, 4, 7]\n",
    "```\n",
    "演習：次のセルで、0から8まで一つおきのリストを作成しなさい。\n",
    "```\n",
    "[0, 2, 4, 6, 8]\n",
    "```"
   ]
  },
  {
   "cell_type": "code",
   "execution_count": null,
   "metadata": {
    "lc_cell_meme": {
     "current": "4389c88c-f3c2-11e9-a476-02420a010068",
     "history": [
      {
       "current": "4bd69ed6-eef7-11e9-a8bb-02420a010068",
       "next": "942a62c5-25df-11e9-a9f8-e0d55ea40caf",
       "previous": "c4032e82-25e0-11e9-a9f8-e0d55ea40caf"
      },
      {
       "current": "4bd69ed6-eef7-11e9-a8bb-02420a010068",
       "next": "942a62c7-25df-11e9-a9f8-e0d55ea40caf",
       "previous": "942a62c6-25df-11e9-a9f8-e0d55ea40caf"
      },
      {
       "current": "4bd69ed6-eef7-11e9-a8bb-02420a010068",
       "next": "942a62cc-25df-11e9-a9f8-e0d55ea40caf",
       "previous": "942a62cb-25df-11e9-a9f8-e0d55ea40caf"
      },
      {
       "current": "4bd69ed6-eef7-11e9-a8bb-02420a010068",
       "next": "4bd69dc8-eef7-11e9-a8bb-02420a010068",
       "previous": "942a62cb-25df-11e9-a9f8-e0d55ea40caf"
      }
     ],
     "next": "4389c9fe-f3c2-11e9-a476-02420a010068",
     "previous": "4389c71a-f3c2-11e9-a476-02420a010068"
    }
   },
   "outputs": [],
   "source": [
    "# 演習用入力欄\n"
   ]
  },
  {
   "cell_type": "markdown",
   "metadata": {
    "lc_cell_meme": {
     "current": "4389c9fe-f3c2-11e9-a476-02420a010068",
     "history": [
      {
       "current": "4bd69dc8-eef7-11e9-a8bb-02420a010068",
       "next": "c4032e82-25e0-11e9-a9f8-e0d55ea40caf",
       "previous": "942a62c4-25df-11e9-a9f8-e0d55ea40caf"
      },
      {
       "current": "4bd69dc8-eef7-11e9-a8bb-02420a010068",
       "next": "942a62c9-25df-11e9-a9f8-e0d55ea40caf",
       "previous": "942a62c8-25df-11e9-a9f8-e0d55ea40caf"
      },
      {
       "current": "4bd69dc8-eef7-11e9-a8bb-02420a010068",
       "next": "942a62cd-25df-11e9-a9f8-e0d55ea40caf",
       "previous": "942a62cc-25df-11e9-a9f8-e0d55ea40caf"
      },
      {
       "current": "4bd69dc8-eef7-11e9-a8bb-02420a010068",
       "next": "942a62cd-25df-11e9-a9f8-e0d55ea40caf",
       "previous": "4bd69ed6-eef7-11e9-a8bb-02420a010068"
      }
     ],
     "next": "4389cb70-f3c2-11e9-a476-02420a010068",
     "previous": "4389c88c-f3c2-11e9-a476-02420a010068"
    }
   },
   "source": [
    "## rangeの演習5（負の増分）"
   ]
  },
  {
   "cell_type": "markdown",
   "metadata": {
    "lc_cell_meme": {
     "current": "4389cb70-f3c2-11e9-a476-02420a010068",
     "history": [
      {
       "current": "942a62cd-25df-11e9-a9f8-e0d55ea40caf",
       "next": "942a62ce-25df-11e9-a9f8-e0d55ea40caf",
       "previous": "942a62cc-25df-11e9-a9f8-e0d55ea40caf"
      },
      {
       "current": "942a62cd-25df-11e9-a9f8-e0d55ea40caf",
       "next": "4bd69ed6-eef7-11e9-a8bb-02420a010068",
       "previous": "4bd69dc8-eef7-11e9-a8bb-02420a010068"
      }
     ],
     "next": "4389cce2-f3c2-11e9-a476-02420a010068",
     "previous": "4389c9fe-f3c2-11e9-a476-02420a010068"
    }
   },
   "source": [
    "range()の引数は負の値を取ることもできます。\n",
    "\n",
    "逆順でシーケンスを作る場合には、刻み値にマイナスを与えます。\n",
    "\n",
    "例：\n",
    "```\n",
    "list(range(5, 0, -1))\n",
    "-> [5, 4, 3, 2, 1]\n",
    "```\n",
    "\n",
    "演習：次のセルで、100から0まで10おきのリストを作成しなさい。\n",
    "```\n",
    "[100, 90, 80, 70, 60, 50, 40, 30, 20, 10, 0]\n",
    "```"
   ]
  },
  {
   "cell_type": "code",
   "execution_count": null,
   "metadata": {
    "lc_cell_meme": {
     "current": "4389cce2-f3c2-11e9-a476-02420a010068",
     "history": [
      {
       "current": "4bd69ed6-eef7-11e9-a8bb-02420a010068",
       "next": "942a62c5-25df-11e9-a9f8-e0d55ea40caf",
       "previous": "c4032e82-25e0-11e9-a9f8-e0d55ea40caf"
      },
      {
       "current": "4bd69ed6-eef7-11e9-a8bb-02420a010068",
       "next": "942a62c7-25df-11e9-a9f8-e0d55ea40caf",
       "previous": "942a62c6-25df-11e9-a9f8-e0d55ea40caf"
      },
      {
       "current": "4bd69ed6-eef7-11e9-a8bb-02420a010068",
       "next": "942a62ce-25df-11e9-a9f8-e0d55ea40caf",
       "previous": "942a62cd-25df-11e9-a9f8-e0d55ea40caf"
      },
      {
       "current": "4bd69ed6-eef7-11e9-a8bb-02420a010068",
       "next": "4bd69dc8-eef7-11e9-a8bb-02420a010068",
       "previous": "942a62cd-25df-11e9-a9f8-e0d55ea40caf"
      }
     ],
     "next": "4389ce5e-f3c2-11e9-a476-02420a010068",
     "previous": "4389cb70-f3c2-11e9-a476-02420a010068"
    }
   },
   "outputs": [],
   "source": [
    "# 演習用入力欄\n"
   ]
  },
  {
   "cell_type": "markdown",
   "metadata": {
    "lc_cell_meme": {
     "current": "4389ce5e-f3c2-11e9-a476-02420a010068",
     "history": [
      {
       "current": "4bd69dc8-eef7-11e9-a8bb-02420a010068",
       "next": "c4032e82-25e0-11e9-a9f8-e0d55ea40caf",
       "previous": "942a62c4-25df-11e9-a9f8-e0d55ea40caf"
      },
      {
       "current": "4bd69dc8-eef7-11e9-a8bb-02420a010068",
       "next": "942a62c9-25df-11e9-a9f8-e0d55ea40caf",
       "previous": "942a62c8-25df-11e9-a9f8-e0d55ea40caf"
      },
      {
       "current": "4bd69dc8-eef7-11e9-a8bb-02420a010068",
       "next": "942a62cf-25df-11e9-a9f8-e0d55ea40caf",
       "previous": "942a62ce-25df-11e9-a9f8-e0d55ea40caf"
      },
      {
       "current": "4bd69dc8-eef7-11e9-a8bb-02420a010068",
       "next": "942a62cf-25df-11e9-a9f8-e0d55ea40caf",
       "previous": "4bd69ed6-eef7-11e9-a8bb-02420a010068"
      }
     ],
     "next": "4389d066-f3c2-11e9-a476-02420a010068",
     "previous": "4389cce2-f3c2-11e9-a476-02420a010068"
    }
   },
   "source": [
    "## rangeの演習6 （実数のエラー）"
   ]
  },
  {
   "cell_type": "markdown",
   "metadata": {
    "lc_cell_meme": {
     "current": "4389d066-f3c2-11e9-a476-02420a010068",
     "history": [
      {
       "current": "942a62cf-25df-11e9-a9f8-e0d55ea40caf",
       "next": "942a62d0-25df-11e9-a9f8-e0d55ea40caf",
       "previous": "942a62ce-25df-11e9-a9f8-e0d55ea40caf"
      },
      {
       "current": "942a62cf-25df-11e9-a9f8-e0d55ea40caf",
       "next": "942a62d0-25df-11e9-a9f8-e0d55ea40caf",
       "previous": "4bd69dc8-eef7-11e9-a8bb-02420a010068"
      },
      {
       "current": "942a62cf-25df-11e9-a9f8-e0d55ea40caf",
       "next": "4bd69ed6-eef7-11e9-a8bb-02420a010068",
       "previous": "4bd69dc8-eef7-11e9-a8bb-02420a010068"
      }
     ],
     "next": "4389d2be-f3c2-11e9-a476-02420a010068",
     "previous": "4389ce5e-f3c2-11e9-a476-02420a010068"
    }
   },
   "source": [
    "range()の引数は整数のみしか与えることはできません。\n",
    "\n",
    "整数以外の数値を与えるとエラーになります。\n",
    "\n",
    "演習：次のセルで、以下の式を評価し、どんなエラーが出るか確認しなさい。\n",
    "```\n",
    "list(range(0, 10, 0.5))\n",
    "```"
   ]
  },
  {
   "cell_type": "code",
   "execution_count": null,
   "metadata": {
    "lc_cell_meme": {
     "current": "4389d2be-f3c2-11e9-a476-02420a010068",
     "history": [
      {
       "current": "4bd69ed6-eef7-11e9-a8bb-02420a010068",
       "next": "942a62c5-25df-11e9-a9f8-e0d55ea40caf",
       "previous": "c4032e82-25e0-11e9-a9f8-e0d55ea40caf"
      },
      {
       "current": "4bd69ed6-eef7-11e9-a8bb-02420a010068",
       "next": "942a62c7-25df-11e9-a9f8-e0d55ea40caf",
       "previous": "942a62c6-25df-11e9-a9f8-e0d55ea40caf"
      },
      {
       "current": "4bd69ed6-eef7-11e9-a8bb-02420a010068",
       "next": "942a62ce-25df-11e9-a9f8-e0d55ea40caf",
       "previous": "942a62cd-25df-11e9-a9f8-e0d55ea40caf"
      },
      {
       "current": "4bd69ed6-eef7-11e9-a8bb-02420a010068",
       "next": "942a62d0-25df-11e9-a9f8-e0d55ea40caf",
       "previous": "942a62cf-25df-11e9-a9f8-e0d55ea40caf"
      },
      {
       "current": "4bd69ed6-eef7-11e9-a8bb-02420a010068",
       "next": "4bd69dc8-eef7-11e9-a8bb-02420a010068",
       "previous": "942a62cf-25df-11e9-a9f8-e0d55ea40caf"
      }
     ],
     "next": "4389d494-f3c2-11e9-a476-02420a010068",
     "previous": "4389d066-f3c2-11e9-a476-02420a010068"
    }
   },
   "outputs": [],
   "source": [
    "# 演習用入力欄\n"
   ]
  },
  {
   "cell_type": "markdown",
   "metadata": {
    "lc_cell_meme": {
     "current": "4389d494-f3c2-11e9-a476-02420a010068",
     "history": [
      {
       "current": "4bd69dc8-eef7-11e9-a8bb-02420a010068",
       "next": "c4032e82-25e0-11e9-a9f8-e0d55ea40caf",
       "previous": "942a62c4-25df-11e9-a9f8-e0d55ea40caf"
      },
      {
       "current": "4bd69dc8-eef7-11e9-a8bb-02420a010068",
       "next": "942a62c9-25df-11e9-a9f8-e0d55ea40caf",
       "previous": "942a62c8-25df-11e9-a9f8-e0d55ea40caf"
      },
      {
       "current": "4bd69dc8-eef7-11e9-a8bb-02420a010068",
       "next": "942a62cf-25df-11e9-a9f8-e0d55ea40caf",
       "previous": "942a62ce-25df-11e9-a9f8-e0d55ea40caf"
      },
      {
       "current": "4bd69dc8-eef7-11e9-a8bb-02420a010068",
       "next": "942a62d1-25df-11e9-a9f8-e0d55ea40caf",
       "previous": "942a62d0-25df-11e9-a9f8-e0d55ea40caf"
      },
      {
       "current": "4bd69dc8-eef7-11e9-a8bb-02420a010068",
       "next": "942a62d1-25df-11e9-a9f8-e0d55ea40caf",
       "previous": "4bd69ed6-eef7-11e9-a8bb-02420a010068"
      }
     ],
     "next": "4389d66a-f3c2-11e9-a476-02420a010068",
     "previous": "4389d2be-f3c2-11e9-a476-02420a010068"
    }
   },
   "source": [
    "## rangeの演習7（文字引数のエラー）"
   ]
  },
  {
   "cell_type": "markdown",
   "metadata": {
    "lc_cell_meme": {
     "current": "4389d66a-f3c2-11e9-a476-02420a010068",
     "history": [
      {
       "current": "942a62d1-25df-11e9-a9f8-e0d55ea40caf",
       "next": "942a62d2-25df-11e9-a9f8-e0d55ea40caf",
       "previous": "942a62d0-25df-11e9-a9f8-e0d55ea40caf"
      },
      {
       "current": "942a62d1-25df-11e9-a9f8-e0d55ea40caf",
       "next": "942a62d2-25df-11e9-a9f8-e0d55ea40caf",
       "previous": "4bd69dc8-eef7-11e9-a8bb-02420a010068"
      },
      {
       "current": "942a62d1-25df-11e9-a9f8-e0d55ea40caf",
       "next": "4bd69ed6-eef7-11e9-a8bb-02420a010068",
       "previous": "4bd69dc8-eef7-11e9-a8bb-02420a010068"
      }
     ],
     "next": "4389d7c8-f3c2-11e9-a476-02420a010068",
     "previous": "4389d494-f3c2-11e9-a476-02420a010068"
    }
   },
   "source": [
    "range()の引数に整数以外の文字を入れるとエラーになります。\n",
    "\n",
    "演習：次のセルで、以下の式を評価し、どんなエラーが出るか確認しなさい。\n",
    "```\n",
    "list(range('a', 'z'))\n",
    "```"
   ]
  },
  {
   "cell_type": "code",
   "execution_count": null,
   "metadata": {
    "lc_cell_meme": {
     "current": "4389d7c8-f3c2-11e9-a476-02420a010068",
     "history": [
      {
       "current": "4bd69ed6-eef7-11e9-a8bb-02420a010068",
       "next": "942a62c5-25df-11e9-a9f8-e0d55ea40caf",
       "previous": "c4032e82-25e0-11e9-a9f8-e0d55ea40caf"
      },
      {
       "current": "4bd69ed6-eef7-11e9-a8bb-02420a010068",
       "next": "942a62c7-25df-11e9-a9f8-e0d55ea40caf",
       "previous": "942a62c6-25df-11e9-a9f8-e0d55ea40caf"
      },
      {
       "current": "4bd69ed6-eef7-11e9-a8bb-02420a010068",
       "next": "942a62ce-25df-11e9-a9f8-e0d55ea40caf",
       "previous": "942a62cd-25df-11e9-a9f8-e0d55ea40caf"
      },
      {
       "current": "4bd69ed6-eef7-11e9-a8bb-02420a010068",
       "next": "942a62d2-25df-11e9-a9f8-e0d55ea40caf",
       "previous": "942a62d1-25df-11e9-a9f8-e0d55ea40caf"
      },
      {
       "current": "4bd69ed6-eef7-11e9-a8bb-02420a010068",
       "next": "942a62d3-25df-11e9-a9f8-e0d55ea40caf",
       "previous": "942a62d1-25df-11e9-a9f8-e0d55ea40caf"
      }
     ],
     "next": "4389d926-f3c2-11e9-a476-02420a010068",
     "previous": "4389d66a-f3c2-11e9-a476-02420a010068"
    }
   },
   "outputs": [],
   "source": [
    "# 演習用入力欄\n"
   ]
  },
  {
   "cell_type": "markdown",
   "metadata": {
    "lc_cell_meme": {
     "current": "4389d926-f3c2-11e9-a476-02420a010068",
     "history": [
      {
       "current": "942a62d3-25df-11e9-a9f8-e0d55ea40caf",
       "next": "942a62d4-25df-11e9-a9f8-e0d55ea40caf",
       "previous": "942a62d2-25df-11e9-a9f8-e0d55ea40caf"
      },
      {
       "current": "942a62d3-25df-11e9-a9f8-e0d55ea40caf",
       "next": "942a62d4-25df-11e9-a9f8-e0d55ea40caf",
       "previous": "4bd69ed6-eef7-11e9-a8bb-02420a010068"
      }
     ],
     "next": "4389daca-f3c2-11e9-a476-02420a010068",
     "previous": "4389d7c8-f3c2-11e9-a476-02420a010068"
    }
   },
   "source": [
    "# for 文を使った繰り返し"
   ]
  },
  {
   "cell_type": "markdown",
   "metadata": {
    "lc_cell_meme": {
     "current": "4389daca-f3c2-11e9-a476-02420a010068",
     "history": [
      {
       "current": "942a62d4-25df-11e9-a9f8-e0d55ea40caf",
       "next": "942a62d5-25df-11e9-a9f8-e0d55ea40caf",
       "previous": "942a62d3-25df-11e9-a9f8-e0d55ea40caf"
      },
      {
       "current": "942a62d4-25df-11e9-a9f8-e0d55ea40caf",
       "next": "4bd69dc8-eef7-11e9-a8bb-02420a010068",
       "previous": "942a62d3-25df-11e9-a9f8-e0d55ea40caf"
      }
     ],
     "next": "4389dd04-f3c2-11e9-a476-02420a010068",
     "previous": "4389d926-f3c2-11e9-a476-02420a010068"
    }
   },
   "source": [
    "for　文を使うと処理を繰り返して実行することができます。\n",
    "\n",
    "次の書式を用います。\n",
    "\n",
    "```\n",
    "for 変数 in シーケンス:\n",
    "    実行する命令1\n",
    "    実行する命令2\n",
    "```    \n",
    "\n",
    "- 繰り返しで使用する変数を指定します。\n",
    "- 変数とシーケンスの間に 「in」というキーワードを入れます。\n",
    "- シーケンスの後ろには「:」（コロン）を付けます、\n",
    "- 実行する命令は必ず字下げ（インデント）して記述します。\n",
    "- (インデントされている行は繰り返し実行されます。)\n",
    "- シーケンスの生成には、range()が使えます。\n"
   ]
  },
  {
   "cell_type": "markdown",
   "metadata": {
    "lc_cell_meme": {
     "current": "4389dd04-f3c2-11e9-a476-02420a010068",
     "history": [
      {
       "current": "4bd69dc8-eef7-11e9-a8bb-02420a010068",
       "next": "c4032e82-25e0-11e9-a9f8-e0d55ea40caf",
       "previous": "942a62c4-25df-11e9-a9f8-e0d55ea40caf"
      },
      {
       "current": "4bd69dc8-eef7-11e9-a8bb-02420a010068",
       "next": "942a62c9-25df-11e9-a9f8-e0d55ea40caf",
       "previous": "942a62c8-25df-11e9-a9f8-e0d55ea40caf"
      },
      {
       "current": "4bd69dc8-eef7-11e9-a8bb-02420a010068",
       "next": "942a62cf-25df-11e9-a9f8-e0d55ea40caf",
       "previous": "942a62ce-25df-11e9-a9f8-e0d55ea40caf"
      },
      {
       "current": "4bd69dc8-eef7-11e9-a8bb-02420a010068",
       "next": "942a62d1-25df-11e9-a9f8-e0d55ea40caf",
       "previous": "942a62d0-25df-11e9-a9f8-e0d55ea40caf"
      },
      {
       "current": "4bd69dc8-eef7-11e9-a8bb-02420a010068",
       "next": "942a62d5-25df-11e9-a9f8-e0d55ea40caf",
       "previous": "942a62d4-25df-11e9-a9f8-e0d55ea40caf"
      }
     ],
     "next": "4389de76-f3c2-11e9-a476-02420a010068",
     "previous": "4389daca-f3c2-11e9-a476-02420a010068"
    }
   },
   "source": [
    "## for 文の例"
   ]
  },
  {
   "cell_type": "markdown",
   "metadata": {
    "lc_cell_meme": {
     "current": "4389de76-f3c2-11e9-a476-02420a010068",
     "history": [
      {
       "current": "942a62d5-25df-11e9-a9f8-e0d55ea40caf",
       "next": "942a62d6-25df-11e9-a9f8-e0d55ea40caf",
       "previous": "942a62d4-25df-11e9-a9f8-e0d55ea40caf"
      },
      {
       "current": "942a62d5-25df-11e9-a9f8-e0d55ea40caf",
       "next": "942a62d7-25df-11e9-a9f8-e0d55ea40caf",
       "previous": "942a62d4-25df-11e9-a9f8-e0d55ea40caf"
      },
      {
       "current": "942a62d5-25df-11e9-a9f8-e0d55ea40caf",
       "next": "942a62d7-25df-11e9-a9f8-e0d55ea40caf",
       "previous": "4bd69dc8-eef7-11e9-a8bb-02420a010068"
      }
     ],
     "next": "4389dfc0-f3c2-11e9-a476-02420a010068",
     "previous": "4389dd04-f3c2-11e9-a476-02420a010068"
    }
   },
   "source": [
    "例：　0から9までの数字を表示します。\n",
    "```\n",
    "for i in range(10):\n",
    "    print (i)\n",
    "```\n"
   ]
  },
  {
   "cell_type": "markdown",
   "metadata": {
    "lc_cell_meme": {
     "current": "4389dfc0-f3c2-11e9-a476-02420a010068",
     "history": [
      {
       "current": "942a62d7-25df-11e9-a9f8-e0d55ea40caf",
       "next": "942a62d8-25df-11e9-a9f8-e0d55ea40caf",
       "previous": "942a62d6-25df-11e9-a9f8-e0d55ea40caf"
      },
      {
       "current": "942a62d7-25df-11e9-a9f8-e0d55ea40caf",
       "next": "942a62d8-25df-11e9-a9f8-e0d55ea40caf",
       "previous": "942a62d5-25df-11e9-a9f8-e0d55ea40caf"
      },
      {
       "current": "942a62d7-25df-11e9-a9f8-e0d55ea40caf",
       "next": "4bd69ed6-eef7-11e9-a8bb-02420a010068",
       "previous": "942a62d5-25df-11e9-a9f8-e0d55ea40caf"
      }
     ],
     "next": "4389e10a-f3c2-11e9-a476-02420a010068",
     "previous": "4389de76-f3c2-11e9-a476-02420a010068"
    }
   },
   "source": [
    "演習： 次セルで、1から10までの数字を表示するプログラムをfor文を使って書きなさい。\n",
    "```\n",
    "1\n",
    "2\n",
    "3\n",
    "4\n",
    "5\n",
    "6\n",
    "7\n",
    "8\n",
    "9\n",
    "10\n",
    "```"
   ]
  },
  {
   "cell_type": "code",
   "execution_count": null,
   "metadata": {
    "lc_cell_meme": {
     "current": "4389e10a-f3c2-11e9-a476-02420a010068",
     "history": [
      {
       "current": "4bd69ed6-eef7-11e9-a8bb-02420a010068",
       "next": "942a62c5-25df-11e9-a9f8-e0d55ea40caf",
       "previous": "c4032e82-25e0-11e9-a9f8-e0d55ea40caf"
      },
      {
       "current": "4bd69ed6-eef7-11e9-a8bb-02420a010068",
       "next": "942a62c7-25df-11e9-a9f8-e0d55ea40caf",
       "previous": "942a62c6-25df-11e9-a9f8-e0d55ea40caf"
      },
      {
       "current": "4bd69ed6-eef7-11e9-a8bb-02420a010068",
       "next": "942a62ce-25df-11e9-a9f8-e0d55ea40caf",
       "previous": "942a62cd-25df-11e9-a9f8-e0d55ea40caf"
      },
      {
       "current": "4bd69ed6-eef7-11e9-a8bb-02420a010068",
       "next": "942a62d2-25df-11e9-a9f8-e0d55ea40caf",
       "previous": "942a62d1-25df-11e9-a9f8-e0d55ea40caf"
      },
      {
       "current": "4bd69ed6-eef7-11e9-a8bb-02420a010068",
       "next": "942a62d8-25df-11e9-a9f8-e0d55ea40caf",
       "previous": "942a62d7-25df-11e9-a9f8-e0d55ea40caf"
      },
      {
       "current": "4bd69ed6-eef7-11e9-a8bb-02420a010068",
       "next": "942a62d9-25df-11e9-a9f8-e0d55ea40caf",
       "previous": "942a62d7-25df-11e9-a9f8-e0d55ea40caf"
      }
     ],
     "next": "4389e254-f3c2-11e9-a476-02420a010068",
     "previous": "4389dfc0-f3c2-11e9-a476-02420a010068"
    }
   },
   "outputs": [],
   "source": [
    "# 演習用入力欄\n"
   ]
  },
  {
   "cell_type": "markdown",
   "metadata": {
    "lc_cell_meme": {
     "current": "4389e254-f3c2-11e9-a476-02420a010068",
     "history": [
      {
       "current": "942a62d9-25df-11e9-a9f8-e0d55ea40caf",
       "next": "942a62da-25df-11e9-a9f8-e0d55ea40caf",
       "previous": "942a62d8-25df-11e9-a9f8-e0d55ea40caf"
      },
      {
       "current": "942a62d9-25df-11e9-a9f8-e0d55ea40caf",
       "next": "4bd69dc8-eef7-11e9-a8bb-02420a010068",
       "previous": "942a62d8-25df-11e9-a9f8-e0d55ea40caf"
      },
      {
       "current": "942a62d9-25df-11e9-a9f8-e0d55ea40caf",
       "next": "4bd69dc8-eef7-11e9-a8bb-02420a010068",
       "previous": "4bd69ed6-eef7-11e9-a8bb-02420a010068"
      }
     ],
     "next": "4389e3da-f3c2-11e9-a476-02420a010068",
     "previous": "4389e10a-f3c2-11e9-a476-02420a010068"
    }
   },
   "source": [
    "ヒント：　range()の後に「:」を忘れるとエラーになります"
   ]
  },
  {
   "cell_type": "markdown",
   "metadata": {
    "lc_cell_meme": {
     "current": "4389e3da-f3c2-11e9-a476-02420a010068",
     "history": [
      {
       "current": "4bd69dc8-eef7-11e9-a8bb-02420a010068",
       "next": "c4032e82-25e0-11e9-a9f8-e0d55ea40caf",
       "previous": "942a62c4-25df-11e9-a9f8-e0d55ea40caf"
      },
      {
       "current": "4bd69dc8-eef7-11e9-a8bb-02420a010068",
       "next": "942a62c9-25df-11e9-a9f8-e0d55ea40caf",
       "previous": "942a62c8-25df-11e9-a9f8-e0d55ea40caf"
      },
      {
       "current": "4bd69dc8-eef7-11e9-a8bb-02420a010068",
       "next": "942a62cf-25df-11e9-a9f8-e0d55ea40caf",
       "previous": "942a62ce-25df-11e9-a9f8-e0d55ea40caf"
      },
      {
       "current": "4bd69dc8-eef7-11e9-a8bb-02420a010068",
       "next": "942a62d1-25df-11e9-a9f8-e0d55ea40caf",
       "previous": "942a62d0-25df-11e9-a9f8-e0d55ea40caf"
      },
      {
       "current": "4bd69dc8-eef7-11e9-a8bb-02420a010068",
       "next": "942a62d5-25df-11e9-a9f8-e0d55ea40caf",
       "previous": "942a62d4-25df-11e9-a9f8-e0d55ea40caf"
      },
      {
       "current": "4bd69dc8-eef7-11e9-a8bb-02420a010068",
       "next": "942a62da-25df-11e9-a9f8-e0d55ea40caf",
       "previous": "942a62d9-25df-11e9-a9f8-e0d55ea40caf"
      }
     ],
     "next": "4389e54c-f3c2-11e9-a476-02420a010068",
     "previous": "4389e254-f3c2-11e9-a476-02420a010068"
    }
   },
   "source": [
    "## for 文の演習1"
   ]
  },
  {
   "cell_type": "markdown",
   "metadata": {
    "lc_cell_meme": {
     "current": "4389e54c-f3c2-11e9-a476-02420a010068",
     "history": [
      {
       "current": "942a62da-25df-11e9-a9f8-e0d55ea40caf",
       "next": "942a62db-25df-11e9-a9f8-e0d55ea40caf",
       "previous": "942a62d9-25df-11e9-a9f8-e0d55ea40caf"
      },
      {
       "current": "942a62da-25df-11e9-a9f8-e0d55ea40caf",
       "next": "4bd69ed6-eef7-11e9-a8bb-02420a010068",
       "previous": "4bd69dc8-eef7-11e9-a8bb-02420a010068"
      }
     ],
     "next": "4389e6b4-f3c2-11e9-a476-02420a010068",
     "previous": "4389e3da-f3c2-11e9-a476-02420a010068"
    }
   },
   "source": [
    "演習： 次のセルで、0から8までを2おきに表示するプログラムをfor文を使って書きなさい。\n",
    "```\n",
    "0\n",
    "2\n",
    "4\n",
    "6\n",
    "8\n",
    "```"
   ]
  },
  {
   "cell_type": "code",
   "execution_count": null,
   "metadata": {
    "lc_cell_meme": {
     "current": "4389e6b4-f3c2-11e9-a476-02420a010068",
     "history": [
      {
       "current": "4bd69ed6-eef7-11e9-a8bb-02420a010068",
       "next": "942a62c5-25df-11e9-a9f8-e0d55ea40caf",
       "previous": "c4032e82-25e0-11e9-a9f8-e0d55ea40caf"
      },
      {
       "current": "4bd69ed6-eef7-11e9-a8bb-02420a010068",
       "next": "942a62c7-25df-11e9-a9f8-e0d55ea40caf",
       "previous": "942a62c6-25df-11e9-a9f8-e0d55ea40caf"
      },
      {
       "current": "4bd69ed6-eef7-11e9-a8bb-02420a010068",
       "next": "942a62ce-25df-11e9-a9f8-e0d55ea40caf",
       "previous": "942a62cd-25df-11e9-a9f8-e0d55ea40caf"
      },
      {
       "current": "4bd69ed6-eef7-11e9-a8bb-02420a010068",
       "next": "942a62d2-25df-11e9-a9f8-e0d55ea40caf",
       "previous": "942a62d1-25df-11e9-a9f8-e0d55ea40caf"
      },
      {
       "current": "4bd69ed6-eef7-11e9-a8bb-02420a010068",
       "next": "942a62d8-25df-11e9-a9f8-e0d55ea40caf",
       "previous": "942a62d7-25df-11e9-a9f8-e0d55ea40caf"
      },
      {
       "current": "4bd69ed6-eef7-11e9-a8bb-02420a010068",
       "next": "942a62db-25df-11e9-a9f8-e0d55ea40caf",
       "previous": "942a62da-25df-11e9-a9f8-e0d55ea40caf"
      },
      {
       "current": "4bd69ed6-eef7-11e9-a8bb-02420a010068",
       "next": "4bd69dc8-eef7-11e9-a8bb-02420a010068",
       "previous": "942a62da-25df-11e9-a9f8-e0d55ea40caf"
      }
     ],
     "next": "4389e826-f3c2-11e9-a476-02420a010068",
     "previous": "4389e54c-f3c2-11e9-a476-02420a010068"
    }
   },
   "outputs": [],
   "source": [
    "# 演習用入力欄\n"
   ]
  },
  {
   "cell_type": "markdown",
   "metadata": {
    "lc_cell_meme": {
     "current": "4389e826-f3c2-11e9-a476-02420a010068",
     "history": [
      {
       "current": "4bd69dc8-eef7-11e9-a8bb-02420a010068",
       "next": "c4032e82-25e0-11e9-a9f8-e0d55ea40caf",
       "previous": "942a62c4-25df-11e9-a9f8-e0d55ea40caf"
      },
      {
       "current": "4bd69dc8-eef7-11e9-a8bb-02420a010068",
       "next": "942a62c9-25df-11e9-a9f8-e0d55ea40caf",
       "previous": "942a62c8-25df-11e9-a9f8-e0d55ea40caf"
      },
      {
       "current": "4bd69dc8-eef7-11e9-a8bb-02420a010068",
       "next": "942a62cf-25df-11e9-a9f8-e0d55ea40caf",
       "previous": "942a62ce-25df-11e9-a9f8-e0d55ea40caf"
      },
      {
       "current": "4bd69dc8-eef7-11e9-a8bb-02420a010068",
       "next": "942a62d1-25df-11e9-a9f8-e0d55ea40caf",
       "previous": "942a62d0-25df-11e9-a9f8-e0d55ea40caf"
      },
      {
       "current": "4bd69dc8-eef7-11e9-a8bb-02420a010068",
       "next": "942a62d5-25df-11e9-a9f8-e0d55ea40caf",
       "previous": "942a62d4-25df-11e9-a9f8-e0d55ea40caf"
      },
      {
       "current": "4bd69dc8-eef7-11e9-a8bb-02420a010068",
       "next": "942a62dc-25df-11e9-a9f8-e0d55ea40caf",
       "previous": "942a62db-25df-11e9-a9f8-e0d55ea40caf"
      },
      {
       "current": "4bd69dc8-eef7-11e9-a8bb-02420a010068",
       "next": "942a62dc-25df-11e9-a9f8-e0d55ea40caf",
       "previous": "4bd69ed6-eef7-11e9-a8bb-02420a010068"
      }
     ],
     "next": "4389e9ac-f3c2-11e9-a476-02420a010068",
     "previous": "4389e6b4-f3c2-11e9-a476-02420a010068"
    }
   },
   "source": [
    "## for 文の演習2"
   ]
  },
  {
   "cell_type": "markdown",
   "metadata": {
    "lc_cell_meme": {
     "current": "4389e9ac-f3c2-11e9-a476-02420a010068",
     "history": [
      {
       "current": "942a62dc-25df-11e9-a9f8-e0d55ea40caf",
       "next": "942a62dd-25df-11e9-a9f8-e0d55ea40caf",
       "previous": "942a62db-25df-11e9-a9f8-e0d55ea40caf"
      },
      {
       "current": "942a62dc-25df-11e9-a9f8-e0d55ea40caf",
       "next": "4bd69ed6-eef7-11e9-a8bb-02420a010068",
       "previous": "4bd69dc8-eef7-11e9-a8bb-02420a010068"
      }
     ],
     "next": "4389eaec-f3c2-11e9-a476-02420a010068",
     "previous": "4389e826-f3c2-11e9-a476-02420a010068"
    }
   },
   "source": [
    "演習： 次のセルで、\"Hello World\"を10回表示するプログラムをfor文を使って書きなさい。\n",
    "```\n",
    "Hello World\n",
    "Hello World\n",
    "Hello World\n",
    "Hello World\n",
    "Hello World\n",
    "Hello World\n",
    "Hello World\n",
    "Hello World\n",
    "Hello World\n",
    "Hello World\n",
    "```"
   ]
  },
  {
   "cell_type": "code",
   "execution_count": null,
   "metadata": {
    "lc_cell_meme": {
     "current": "4389eaec-f3c2-11e9-a476-02420a010068",
     "history": [
      {
       "current": "4bd69ed6-eef7-11e9-a8bb-02420a010068",
       "next": "942a62c5-25df-11e9-a9f8-e0d55ea40caf",
       "previous": "c4032e82-25e0-11e9-a9f8-e0d55ea40caf"
      },
      {
       "current": "4bd69ed6-eef7-11e9-a8bb-02420a010068",
       "next": "942a62c7-25df-11e9-a9f8-e0d55ea40caf",
       "previous": "942a62c6-25df-11e9-a9f8-e0d55ea40caf"
      },
      {
       "current": "4bd69ed6-eef7-11e9-a8bb-02420a010068",
       "next": "942a62ce-25df-11e9-a9f8-e0d55ea40caf",
       "previous": "942a62cd-25df-11e9-a9f8-e0d55ea40caf"
      },
      {
       "current": "4bd69ed6-eef7-11e9-a8bb-02420a010068",
       "next": "942a62d2-25df-11e9-a9f8-e0d55ea40caf",
       "previous": "942a62d1-25df-11e9-a9f8-e0d55ea40caf"
      },
      {
       "current": "4bd69ed6-eef7-11e9-a8bb-02420a010068",
       "next": "942a62d8-25df-11e9-a9f8-e0d55ea40caf",
       "previous": "942a62d7-25df-11e9-a9f8-e0d55ea40caf"
      },
      {
       "current": "4bd69ed6-eef7-11e9-a8bb-02420a010068",
       "next": "942a62dd-25df-11e9-a9f8-e0d55ea40caf",
       "previous": "942a62dc-25df-11e9-a9f8-e0d55ea40caf"
      },
      {
       "current": "4bd69ed6-eef7-11e9-a8bb-02420a010068",
       "next": "942a62de-25df-11e9-a9f8-e0d55ea40caf",
       "previous": "942a62dc-25df-11e9-a9f8-e0d55ea40caf"
      }
     ],
     "next": "4389ec36-f3c2-11e9-a476-02420a010068",
     "previous": "4389e9ac-f3c2-11e9-a476-02420a010068"
    }
   },
   "outputs": [],
   "source": [
    "# 演習用入力欄\n"
   ]
  },
  {
   "cell_type": "markdown",
   "metadata": {
    "lc_cell_meme": {
     "current": "4389ec36-f3c2-11e9-a476-02420a010068",
     "history": [
      {
       "current": "942a62de-25df-11e9-a9f8-e0d55ea40caf",
       "next": "942a62df-25df-11e9-a9f8-e0d55ea40caf",
       "previous": "942a62dd-25df-11e9-a9f8-e0d55ea40caf"
      },
      {
       "current": "942a62de-25df-11e9-a9f8-e0d55ea40caf",
       "next": "4bd69dc8-eef7-11e9-a8bb-02420a010068",
       "previous": "942a62dd-25df-11e9-a9f8-e0d55ea40caf"
      },
      {
       "current": "942a62de-25df-11e9-a9f8-e0d55ea40caf",
       "next": "4bd69dc8-eef7-11e9-a8bb-02420a010068",
       "previous": "4bd69ed6-eef7-11e9-a8bb-02420a010068"
      }
     ],
     "next": "4389edb2-f3c2-11e9-a476-02420a010068",
     "previous": "4389eaec-f3c2-11e9-a476-02420a010068"
    }
   },
   "source": [
    "ヒント： 字下げを忘れないこと！"
   ]
  },
  {
   "cell_type": "markdown",
   "metadata": {
    "lc_cell_meme": {
     "current": "4389edb2-f3c2-11e9-a476-02420a010068",
     "history": [
      {
       "current": "4bd69dc8-eef7-11e9-a8bb-02420a010068",
       "next": "c4032e82-25e0-11e9-a9f8-e0d55ea40caf",
       "previous": "942a62c4-25df-11e9-a9f8-e0d55ea40caf"
      },
      {
       "current": "4bd69dc8-eef7-11e9-a8bb-02420a010068",
       "next": "942a62c9-25df-11e9-a9f8-e0d55ea40caf",
       "previous": "942a62c8-25df-11e9-a9f8-e0d55ea40caf"
      },
      {
       "current": "4bd69dc8-eef7-11e9-a8bb-02420a010068",
       "next": "942a62cf-25df-11e9-a9f8-e0d55ea40caf",
       "previous": "942a62ce-25df-11e9-a9f8-e0d55ea40caf"
      },
      {
       "current": "4bd69dc8-eef7-11e9-a8bb-02420a010068",
       "next": "942a62d1-25df-11e9-a9f8-e0d55ea40caf",
       "previous": "942a62d0-25df-11e9-a9f8-e0d55ea40caf"
      },
      {
       "current": "4bd69dc8-eef7-11e9-a8bb-02420a010068",
       "next": "942a62d5-25df-11e9-a9f8-e0d55ea40caf",
       "previous": "942a62d4-25df-11e9-a9f8-e0d55ea40caf"
      },
      {
       "current": "4bd69dc8-eef7-11e9-a8bb-02420a010068",
       "next": "942a62df-25df-11e9-a9f8-e0d55ea40caf",
       "previous": "942a62de-25df-11e9-a9f8-e0d55ea40caf"
      }
     ],
     "next": "4389eef2-f3c2-11e9-a476-02420a010068",
     "previous": "4389ec36-f3c2-11e9-a476-02420a010068"
    }
   },
   "source": [
    "## for 文の演習3"
   ]
  },
  {
   "cell_type": "markdown",
   "metadata": {
    "lc_cell_meme": {
     "current": "4389eef2-f3c2-11e9-a476-02420a010068",
     "history": [
      {
       "current": "942a62df-25df-11e9-a9f8-e0d55ea40caf",
       "next": "942a62e0-25df-11e9-a9f8-e0d55ea40caf",
       "previous": "942a62de-25df-11e9-a9f8-e0d55ea40caf"
      },
      {
       "current": "942a62df-25df-11e9-a9f8-e0d55ea40caf",
       "next": "4bd69ed6-eef7-11e9-a8bb-02420a010068",
       "previous": "4bd69dc8-eef7-11e9-a8bb-02420a010068"
      }
     ],
     "next": "4389f06e-f3c2-11e9-a476-02420a010068",
     "previous": "4389edb2-f3c2-11e9-a476-02420a010068"
    }
   },
   "source": [
    "print()で改行したくない場合には、最後の引数で「end=' '」をつけます。\n",
    "\n",
    "例：\n",
    "```\n",
    "print (\"test\", end=' ')\n",
    "```\n",
    "\n",
    "演習：次のセルで、for文を使い、0から100までの数字を改行せずに表示しなさい。\n",
    "```\n",
    "0 1 2 3 4 5 6 7 8 9 10 11 12 13 14 15 16 17 18 19 20 21 22 23 24 25 26 27 28 29 30 31 32 33 34 35 36 37 38 39 40 41 42 43 44 45 46 47 48 49 50 51 52 53 54 55 56 57 58 59 60 61 62 63 64 65 66 67 68 69 70 71 72 73 74 75 76 77 78 79 80 81 82 83 84 85 86 87 88 89 90 91 92 93 94 95 96 97 98 99 100\n",
    "```"
   ]
  },
  {
   "cell_type": "code",
   "execution_count": null,
   "metadata": {
    "lc_cell_meme": {
     "current": "4389f06e-f3c2-11e9-a476-02420a010068",
     "history": [
      {
       "current": "4bd69ed6-eef7-11e9-a8bb-02420a010068",
       "next": "942a62c5-25df-11e9-a9f8-e0d55ea40caf",
       "previous": "c4032e82-25e0-11e9-a9f8-e0d55ea40caf"
      },
      {
       "current": "4bd69ed6-eef7-11e9-a8bb-02420a010068",
       "next": "942a62c7-25df-11e9-a9f8-e0d55ea40caf",
       "previous": "942a62c6-25df-11e9-a9f8-e0d55ea40caf"
      },
      {
       "current": "4bd69ed6-eef7-11e9-a8bb-02420a010068",
       "next": "942a62ce-25df-11e9-a9f8-e0d55ea40caf",
       "previous": "942a62cd-25df-11e9-a9f8-e0d55ea40caf"
      },
      {
       "current": "4bd69ed6-eef7-11e9-a8bb-02420a010068",
       "next": "942a62d2-25df-11e9-a9f8-e0d55ea40caf",
       "previous": "942a62d1-25df-11e9-a9f8-e0d55ea40caf"
      },
      {
       "current": "4bd69ed6-eef7-11e9-a8bb-02420a010068",
       "next": "942a62d8-25df-11e9-a9f8-e0d55ea40caf",
       "previous": "942a62d7-25df-11e9-a9f8-e0d55ea40caf"
      },
      {
       "current": "4bd69ed6-eef7-11e9-a8bb-02420a010068",
       "next": "942a62e0-25df-11e9-a9f8-e0d55ea40caf",
       "previous": "942a62df-25df-11e9-a9f8-e0d55ea40caf"
      },
      {
       "current": "4bd69ed6-eef7-11e9-a8bb-02420a010068",
       "next": "4bd69dc8-eef7-11e9-a8bb-02420a010068",
       "previous": "942a62df-25df-11e9-a9f8-e0d55ea40caf"
      }
     ],
     "next": "4389f1b8-f3c2-11e9-a476-02420a010068",
     "previous": "4389eef2-f3c2-11e9-a476-02420a010068"
    },
    "lc_wrapper": {
     "log_history": [
      "/home/14999410x94c69e/04/.log/20191023/20191023-112249-0567.log",
      "/home/14999410x94c69e/04/.log/20191023/20191023-112311-0973.log"
     ]
    }
   },
   "outputs": [],
   "source": [
    "# 演習用入力欄\n"
   ]
  },
  {
   "cell_type": "markdown",
   "metadata": {
    "lc_cell_meme": {
     "current": "4389f1b8-f3c2-11e9-a476-02420a010068",
     "history": [
      {
       "current": "4bd69dc8-eef7-11e9-a8bb-02420a010068",
       "next": "c4032e82-25e0-11e9-a9f8-e0d55ea40caf",
       "previous": "942a62c4-25df-11e9-a9f8-e0d55ea40caf"
      },
      {
       "current": "4bd69dc8-eef7-11e9-a8bb-02420a010068",
       "next": "942a62c9-25df-11e9-a9f8-e0d55ea40caf",
       "previous": "942a62c8-25df-11e9-a9f8-e0d55ea40caf"
      },
      {
       "current": "4bd69dc8-eef7-11e9-a8bb-02420a010068",
       "next": "942a62cf-25df-11e9-a9f8-e0d55ea40caf",
       "previous": "942a62ce-25df-11e9-a9f8-e0d55ea40caf"
      },
      {
       "current": "4bd69dc8-eef7-11e9-a8bb-02420a010068",
       "next": "942a62d1-25df-11e9-a9f8-e0d55ea40caf",
       "previous": "942a62d0-25df-11e9-a9f8-e0d55ea40caf"
      },
      {
       "current": "4bd69dc8-eef7-11e9-a8bb-02420a010068",
       "next": "942a62d5-25df-11e9-a9f8-e0d55ea40caf",
       "previous": "942a62d4-25df-11e9-a9f8-e0d55ea40caf"
      },
      {
       "current": "4bd69dc8-eef7-11e9-a8bb-02420a010068",
       "next": "942a62df-25df-11e9-a9f8-e0d55ea40caf",
       "previous": "942a62de-25df-11e9-a9f8-e0d55ea40caf"
      },
      {
       "current": "4bd69dc8-eef7-11e9-a8bb-02420a010068",
       "next": "942a62e1-25df-11e9-a9f8-e0d55ea40caf",
       "previous": "942a62e0-25df-11e9-a9f8-e0d55ea40caf"
      },
      {
       "current": "4bd69dc8-eef7-11e9-a8bb-02420a010068",
       "next": "942a62e1-25df-11e9-a9f8-e0d55ea40caf",
       "previous": "4bd69ed6-eef7-11e9-a8bb-02420a010068"
      }
     ],
     "next": "4389f3a2-f3c2-11e9-a476-02420a010068",
     "previous": "4389f06e-f3c2-11e9-a476-02420a010068"
    }
   },
   "source": [
    "## for 文を使った計算1"
   ]
  },
  {
   "cell_type": "markdown",
   "metadata": {
    "lc_cell_meme": {
     "current": "4389f3a2-f3c2-11e9-a476-02420a010068",
     "history": [
      {
       "current": "942a62e1-25df-11e9-a9f8-e0d55ea40caf",
       "next": "942a62e2-25df-11e9-a9f8-e0d55ea40caf",
       "previous": "942a62e0-25df-11e9-a9f8-e0d55ea40caf"
      },
      {
       "current": "942a62e1-25df-11e9-a9f8-e0d55ea40caf",
       "next": "8f547404-25e3-11e9-a9f8-e0d55ea40caf",
       "previous": "942a62e0-25df-11e9-a9f8-e0d55ea40caf"
      },
      {
       "current": "942a62e1-25df-11e9-a9f8-e0d55ea40caf",
       "next": "4bd69ed6-eef7-11e9-a8bb-02420a010068",
       "previous": "4bd69dc8-eef7-11e9-a8bb-02420a010068"
      }
     ],
     "next": "4389f550-f3c2-11e9-a476-02420a010068",
     "previous": "4389f1b8-f3c2-11e9-a476-02420a010068"
    }
   },
   "source": [
    "for 文を使うと、数字の合計などの計算をすることができます。\n",
    "\n",
    "例：1から10までの合計を求めるプログラム\n",
    "\n",
    "```\n",
    "s = 0\n",
    "for i in range(1, 11):\n",
    "    s = s + i\n",
    "print (s)\n",
    "```\n",
    "\n",
    "この例では、変数sを使って合計値を計算します。\n",
    "\n",
    "まず最初に、sに0を代入しておきます。\n",
    "for文の中でsにiを加えることで、合計を求めています。\n",
    "\n",
    "演習：　次のセルで、for文を使って、1から10までの合計を計算するプログラムを書きなさい。\n",
    "\n",
    "（答えは55になります。）"
   ]
  },
  {
   "cell_type": "code",
   "execution_count": null,
   "metadata": {
    "lc_cell_meme": {
     "current": "4389f550-f3c2-11e9-a476-02420a010068",
     "history": [
      {
       "current": "4bd69ed6-eef7-11e9-a8bb-02420a010068",
       "next": "942a62c5-25df-11e9-a9f8-e0d55ea40caf",
       "previous": "c4032e82-25e0-11e9-a9f8-e0d55ea40caf"
      },
      {
       "current": "4bd69ed6-eef7-11e9-a8bb-02420a010068",
       "next": "942a62c7-25df-11e9-a9f8-e0d55ea40caf",
       "previous": "942a62c6-25df-11e9-a9f8-e0d55ea40caf"
      },
      {
       "current": "4bd69ed6-eef7-11e9-a8bb-02420a010068",
       "next": "942a62ce-25df-11e9-a9f8-e0d55ea40caf",
       "previous": "942a62cd-25df-11e9-a9f8-e0d55ea40caf"
      },
      {
       "current": "4bd69ed6-eef7-11e9-a8bb-02420a010068",
       "next": "942a62d2-25df-11e9-a9f8-e0d55ea40caf",
       "previous": "942a62d1-25df-11e9-a9f8-e0d55ea40caf"
      },
      {
       "current": "4bd69ed6-eef7-11e9-a8bb-02420a010068",
       "next": "942a62d8-25df-11e9-a9f8-e0d55ea40caf",
       "previous": "942a62d7-25df-11e9-a9f8-e0d55ea40caf"
      },
      {
       "current": "4bd69ed6-eef7-11e9-a8bb-02420a010068",
       "next": "942a62e0-25df-11e9-a9f8-e0d55ea40caf",
       "previous": "942a62df-25df-11e9-a9f8-e0d55ea40caf"
      },
      {
       "current": "4bd69ed6-eef7-11e9-a8bb-02420a010068",
       "next": "8f547404-25e3-11e9-a9f8-e0d55ea40caf",
       "previous": "942a62e1-25df-11e9-a9f8-e0d55ea40caf"
      },
      {
       "current": "4bd69ed6-eef7-11e9-a8bb-02420a010068",
       "next": "4bd69dc8-eef7-11e9-a8bb-02420a010068",
       "previous": "942a62e1-25df-11e9-a9f8-e0d55ea40caf"
      }
     ],
     "next": "4389f74e-f3c2-11e9-a476-02420a010068",
     "previous": "4389f3a2-f3c2-11e9-a476-02420a010068"
    }
   },
   "outputs": [],
   "source": [
    "# 演習用入力欄\n"
   ]
  },
  {
   "cell_type": "markdown",
   "metadata": {
    "lc_cell_meme": {
     "current": "4389f74e-f3c2-11e9-a476-02420a010068",
     "history": [
      {
       "current": "4bd69dc8-eef7-11e9-a8bb-02420a010068",
       "next": "c4032e82-25e0-11e9-a9f8-e0d55ea40caf",
       "previous": "942a62c4-25df-11e9-a9f8-e0d55ea40caf"
      },
      {
       "current": "4bd69dc8-eef7-11e9-a8bb-02420a010068",
       "next": "942a62c9-25df-11e9-a9f8-e0d55ea40caf",
       "previous": "942a62c8-25df-11e9-a9f8-e0d55ea40caf"
      },
      {
       "current": "4bd69dc8-eef7-11e9-a8bb-02420a010068",
       "next": "942a62cf-25df-11e9-a9f8-e0d55ea40caf",
       "previous": "942a62ce-25df-11e9-a9f8-e0d55ea40caf"
      },
      {
       "current": "4bd69dc8-eef7-11e9-a8bb-02420a010068",
       "next": "942a62d1-25df-11e9-a9f8-e0d55ea40caf",
       "previous": "942a62d0-25df-11e9-a9f8-e0d55ea40caf"
      },
      {
       "current": "4bd69dc8-eef7-11e9-a8bb-02420a010068",
       "next": "942a62d5-25df-11e9-a9f8-e0d55ea40caf",
       "previous": "942a62d4-25df-11e9-a9f8-e0d55ea40caf"
      },
      {
       "current": "4bd69dc8-eef7-11e9-a8bb-02420a010068",
       "next": "942a62df-25df-11e9-a9f8-e0d55ea40caf",
       "previous": "942a62de-25df-11e9-a9f8-e0d55ea40caf"
      },
      {
       "current": "4bd69dc8-eef7-11e9-a8bb-02420a010068",
       "next": "942a62e1-25df-11e9-a9f8-e0d55ea40caf",
       "previous": "8f547404-25e3-11e9-a9f8-e0d55ea40caf"
      },
      {
       "current": "4bd69dc8-eef7-11e9-a8bb-02420a010068",
       "next": "942a62e1-25df-11e9-a9f8-e0d55ea40caf",
       "previous": "4bd69ed6-eef7-11e9-a8bb-02420a010068"
      }
     ],
     "next": "4389f8de-f3c2-11e9-a476-02420a010068",
     "previous": "4389f550-f3c2-11e9-a476-02420a010068"
    }
   },
   "source": [
    "## for 文を使った計算2"
   ]
  },
  {
   "cell_type": "markdown",
   "metadata": {
    "lc_cell_meme": {
     "current": "4389f8de-f3c2-11e9-a476-02420a010068",
     "history": [
      {
       "current": "942a62e1-25df-11e9-a9f8-e0d55ea40caf",
       "next": "942a62e2-25df-11e9-a9f8-e0d55ea40caf",
       "previous": "942a62e0-25df-11e9-a9f8-e0d55ea40caf"
      },
      {
       "current": "942a62e1-25df-11e9-a9f8-e0d55ea40caf",
       "next": "942a62e2-25df-11e9-a9f8-e0d55ea40caf",
       "previous": "8f547404-25e3-11e9-a9f8-e0d55ea40caf"
      },
      {
       "current": "942a62e1-25df-11e9-a9f8-e0d55ea40caf",
       "next": "4bd69ed6-eef7-11e9-a8bb-02420a010068",
       "previous": "4bd69dc8-eef7-11e9-a8bb-02420a010068"
      }
     ],
     "next": "4389fa28-f3c2-11e9-a476-02420a010068",
     "previous": "4389f74e-f3c2-11e9-a476-02420a010068"
    }
   },
   "source": [
    "演習：　次のセルで、for文を使って、1から100までの合計を計算するプログラムを書きなさい。"
   ]
  },
  {
   "cell_type": "code",
   "execution_count": null,
   "metadata": {
    "lc_cell_meme": {
     "current": "4389fa28-f3c2-11e9-a476-02420a010068",
     "history": [
      {
       "current": "4bd69ed6-eef7-11e9-a8bb-02420a010068",
       "next": "942a62c5-25df-11e9-a9f8-e0d55ea40caf",
       "previous": "c4032e82-25e0-11e9-a9f8-e0d55ea40caf"
      },
      {
       "current": "4bd69ed6-eef7-11e9-a8bb-02420a010068",
       "next": "942a62c7-25df-11e9-a9f8-e0d55ea40caf",
       "previous": "942a62c6-25df-11e9-a9f8-e0d55ea40caf"
      },
      {
       "current": "4bd69ed6-eef7-11e9-a8bb-02420a010068",
       "next": "942a62ce-25df-11e9-a9f8-e0d55ea40caf",
       "previous": "942a62cd-25df-11e9-a9f8-e0d55ea40caf"
      },
      {
       "current": "4bd69ed6-eef7-11e9-a8bb-02420a010068",
       "next": "942a62d2-25df-11e9-a9f8-e0d55ea40caf",
       "previous": "942a62d1-25df-11e9-a9f8-e0d55ea40caf"
      },
      {
       "current": "4bd69ed6-eef7-11e9-a8bb-02420a010068",
       "next": "942a62d8-25df-11e9-a9f8-e0d55ea40caf",
       "previous": "942a62d7-25df-11e9-a9f8-e0d55ea40caf"
      },
      {
       "current": "4bd69ed6-eef7-11e9-a8bb-02420a010068",
       "next": "942a62e0-25df-11e9-a9f8-e0d55ea40caf",
       "previous": "942a62df-25df-11e9-a9f8-e0d55ea40caf"
      },
      {
       "current": "4bd69ed6-eef7-11e9-a8bb-02420a010068",
       "next": "942a62e2-25df-11e9-a9f8-e0d55ea40caf",
       "previous": "942a62e1-25df-11e9-a9f8-e0d55ea40caf"
      },
      {
       "current": "4bd69ed6-eef7-11e9-a8bb-02420a010068",
       "next": "942a62e3-25df-11e9-a9f8-e0d55ea40caf",
       "previous": "942a62e1-25df-11e9-a9f8-e0d55ea40caf"
      }
     ],
     "next": "4389fc08-f3c2-11e9-a476-02420a010068",
     "previous": "4389f8de-f3c2-11e9-a476-02420a010068"
    }
   },
   "outputs": [],
   "source": [
    "# 演習用入力欄\n"
   ]
  },
  {
   "cell_type": "markdown",
   "metadata": {
    "lc_cell_meme": {
     "current": "4389fc08-f3c2-11e9-a476-02420a010068",
     "history": [
      {
       "current": "942a62e3-25df-11e9-a9f8-e0d55ea40caf",
       "next": "942a62e4-25df-11e9-a9f8-e0d55ea40caf",
       "previous": "942a62e2-25df-11e9-a9f8-e0d55ea40caf"
      },
      {
       "current": "942a62e3-25df-11e9-a9f8-e0d55ea40caf",
       "next": "942a62e1-25df-11e9-a9f8-e0d55ea40caf",
       "previous": "942a62e2-25df-11e9-a9f8-e0d55ea40caf"
      },
      {
       "current": "942a62e3-25df-11e9-a9f8-e0d55ea40caf",
       "next": "4bd69dc8-eef7-11e9-a8bb-02420a010068",
       "previous": "942a62e2-25df-11e9-a9f8-e0d55ea40caf"
      },
      {
       "current": "942a62e3-25df-11e9-a9f8-e0d55ea40caf",
       "next": "4bd69dc8-eef7-11e9-a8bb-02420a010068",
       "previous": "4bd69ed6-eef7-11e9-a8bb-02420a010068"
      }
     ],
     "next": "4389fdac-f3c2-11e9-a476-02420a010068",
     "previous": "4389fa28-f3c2-11e9-a476-02420a010068"
    }
   },
   "source": [
    "ヒント：　合計は5050になります。\n",
    "\n",
    "5050にならない場合には、range()の引数が違っていることが考えられます。\n",
    "\n",
    "range()の生成するシーケンスは、２つ目の引数を含まないことに注意しなさい。"
   ]
  },
  {
   "cell_type": "markdown",
   "metadata": {
    "lc_cell_meme": {
     "current": "4389fdac-f3c2-11e9-a476-02420a010068",
     "history": [
      {
       "current": "4bd69dc8-eef7-11e9-a8bb-02420a010068",
       "next": "c4032e82-25e0-11e9-a9f8-e0d55ea40caf",
       "previous": "942a62c4-25df-11e9-a9f8-e0d55ea40caf"
      },
      {
       "current": "4bd69dc8-eef7-11e9-a8bb-02420a010068",
       "next": "942a62c9-25df-11e9-a9f8-e0d55ea40caf",
       "previous": "942a62c8-25df-11e9-a9f8-e0d55ea40caf"
      },
      {
       "current": "4bd69dc8-eef7-11e9-a8bb-02420a010068",
       "next": "942a62cf-25df-11e9-a9f8-e0d55ea40caf",
       "previous": "942a62ce-25df-11e9-a9f8-e0d55ea40caf"
      },
      {
       "current": "4bd69dc8-eef7-11e9-a8bb-02420a010068",
       "next": "942a62d1-25df-11e9-a9f8-e0d55ea40caf",
       "previous": "942a62d0-25df-11e9-a9f8-e0d55ea40caf"
      },
      {
       "current": "4bd69dc8-eef7-11e9-a8bb-02420a010068",
       "next": "942a62d5-25df-11e9-a9f8-e0d55ea40caf",
       "previous": "942a62d4-25df-11e9-a9f8-e0d55ea40caf"
      },
      {
       "current": "4bd69dc8-eef7-11e9-a8bb-02420a010068",
       "next": "942a62df-25df-11e9-a9f8-e0d55ea40caf",
       "previous": "942a62de-25df-11e9-a9f8-e0d55ea40caf"
      },
      {
       "current": "4bd69dc8-eef7-11e9-a8bb-02420a010068",
       "next": "942a62e1-25df-11e9-a9f8-e0d55ea40caf",
       "previous": "942a62e3-25df-11e9-a9f8-e0d55ea40caf"
      }
     ],
     "next": "4389fef6-f3c2-11e9-a476-02420a010068",
     "previous": "4389fc08-f3c2-11e9-a476-02420a010068"
    }
   },
   "source": [
    "## for 文を使った計算3"
   ]
  },
  {
   "cell_type": "markdown",
   "metadata": {
    "lc_cell_meme": {
     "current": "4389fef6-f3c2-11e9-a476-02420a010068",
     "history": [
      {
       "current": "942a62e1-25df-11e9-a9f8-e0d55ea40caf",
       "next": "942a62e2-25df-11e9-a9f8-e0d55ea40caf",
       "previous": "942a62e0-25df-11e9-a9f8-e0d55ea40caf"
      },
      {
       "current": "942a62e1-25df-11e9-a9f8-e0d55ea40caf",
       "next": "942a62e2-25df-11e9-a9f8-e0d55ea40caf",
       "previous": "8f547404-25e3-11e9-a9f8-e0d55ea40caf"
      },
      {
       "current": "942a62e1-25df-11e9-a9f8-e0d55ea40caf",
       "next": "d6d93ce2-25e3-11e9-a9f8-e0d55ea40caf",
       "previous": "942a62e3-25df-11e9-a9f8-e0d55ea40caf"
      },
      {
       "current": "942a62e1-25df-11e9-a9f8-e0d55ea40caf",
       "next": "4bd69ed6-eef7-11e9-a8bb-02420a010068",
       "previous": "4bd69dc8-eef7-11e9-a8bb-02420a010068"
      }
     ],
     "next": "438a0086-f3c2-11e9-a476-02420a010068",
     "previous": "4389fdac-f3c2-11e9-a476-02420a010068"
    }
   },
   "source": [
    "演習：　次のセルで、for文を使って、1から10までの積を計算するプログラムを書きなさい。"
   ]
  },
  {
   "cell_type": "code",
   "execution_count": null,
   "metadata": {
    "lc_cell_meme": {
     "current": "438a0086-f3c2-11e9-a476-02420a010068",
     "history": [
      {
       "current": "4bd69ed6-eef7-11e9-a8bb-02420a010068",
       "next": "942a62c5-25df-11e9-a9f8-e0d55ea40caf",
       "previous": "c4032e82-25e0-11e9-a9f8-e0d55ea40caf"
      },
      {
       "current": "4bd69ed6-eef7-11e9-a8bb-02420a010068",
       "next": "942a62c7-25df-11e9-a9f8-e0d55ea40caf",
       "previous": "942a62c6-25df-11e9-a9f8-e0d55ea40caf"
      },
      {
       "current": "4bd69ed6-eef7-11e9-a8bb-02420a010068",
       "next": "942a62ce-25df-11e9-a9f8-e0d55ea40caf",
       "previous": "942a62cd-25df-11e9-a9f8-e0d55ea40caf"
      },
      {
       "current": "4bd69ed6-eef7-11e9-a8bb-02420a010068",
       "next": "942a62d2-25df-11e9-a9f8-e0d55ea40caf",
       "previous": "942a62d1-25df-11e9-a9f8-e0d55ea40caf"
      },
      {
       "current": "4bd69ed6-eef7-11e9-a8bb-02420a010068",
       "next": "942a62d8-25df-11e9-a9f8-e0d55ea40caf",
       "previous": "942a62d7-25df-11e9-a9f8-e0d55ea40caf"
      },
      {
       "current": "4bd69ed6-eef7-11e9-a8bb-02420a010068",
       "next": "942a62e0-25df-11e9-a9f8-e0d55ea40caf",
       "previous": "942a62df-25df-11e9-a9f8-e0d55ea40caf"
      },
      {
       "current": "4bd69ed6-eef7-11e9-a8bb-02420a010068",
       "next": "d6d93ce2-25e3-11e9-a9f8-e0d55ea40caf",
       "previous": "942a62e1-25df-11e9-a9f8-e0d55ea40caf"
      },
      {
       "current": "4bd69ed6-eef7-11e9-a8bb-02420a010068",
       "next": "d6d93ce3-25e3-11e9-a9f8-e0d55ea40caf",
       "previous": "942a62e1-25df-11e9-a9f8-e0d55ea40caf"
      }
     ],
     "next": "438a01f8-f3c2-11e9-a476-02420a010068",
     "previous": "4389fef6-f3c2-11e9-a476-02420a010068"
    }
   },
   "outputs": [],
   "source": [
    "# 演習用入力欄\n"
   ]
  },
  {
   "cell_type": "markdown",
   "metadata": {
    "lc_cell_meme": {
     "current": "438a01f8-f3c2-11e9-a476-02420a010068",
     "history": [
      {
       "current": "d6d93ce3-25e3-11e9-a9f8-e0d55ea40caf",
       "next": "942a62e9-25df-11e9-a9f8-e0d55ea40caf",
       "previous": "d6d93ce2-25e3-11e9-a9f8-e0d55ea40caf"
      },
      {
       "current": "d6d93ce3-25e3-11e9-a9f8-e0d55ea40caf",
       "next": "942a62e9-25df-11e9-a9f8-e0d55ea40caf",
       "previous": "4bd69ed6-eef7-11e9-a8bb-02420a010068"
      }
     ],
     "next": "438a0338-f3c2-11e9-a476-02420a010068",
     "previous": "438a0086-f3c2-11e9-a476-02420a010068"
    }
   },
   "source": [
    "ヒント：　変数sの初期値に、「1」を代入すること。\n",
    "\n",
    "結果は、3628800になります。"
   ]
  },
  {
   "cell_type": "markdown",
   "metadata": {
    "lc_cell_meme": {
     "current": "438a0338-f3c2-11e9-a476-02420a010068",
     "history": [
      {
       "current": "942a62e9-25df-11e9-a9f8-e0d55ea40caf",
       "next": "942a62ea-25df-11e9-a9f8-e0d55ea40caf",
       "previous": "942a62e8-25df-11e9-a9f8-e0d55ea40caf"
      },
      {
       "current": "942a62e9-25df-11e9-a9f8-e0d55ea40caf",
       "next": "942a62ea-25df-11e9-a9f8-e0d55ea40caf",
       "previous": "d6d93ce3-25e3-11e9-a9f8-e0d55ea40caf"
      }
     ],
     "next": "438a0482-f3c2-11e9-a476-02420a010068",
     "previous": "438a01f8-f3c2-11e9-a476-02420a010068"
    }
   },
   "source": [
    "# 繰り返しを使った数値計算"
   ]
  },
  {
   "cell_type": "markdown",
   "metadata": {
    "lc_cell_meme": {
     "current": "438a0482-f3c2-11e9-a476-02420a010068",
     "history": [
      {
       "current": "942a62ea-25df-11e9-a9f8-e0d55ea40caf",
       "next": "942a62eb-25df-11e9-a9f8-e0d55ea40caf",
       "previous": "942a62e9-25df-11e9-a9f8-e0d55ea40caf"
      },
      {
       "current": "942a62ea-25df-11e9-a9f8-e0d55ea40caf",
       "next": "942a62ea-25df-11e9-a9f8-e0d55ea40caf",
       "previous": "942a62e9-25df-11e9-a9f8-e0d55ea40caf"
      },
      {
       "current": "942a62ea-25df-11e9-a9f8-e0d55ea40caf",
       "next": "4bd69dc8-eef7-11e9-a8bb-02420a010068",
       "previous": "942a62e9-25df-11e9-a9f8-e0d55ea40caf"
      }
     ],
     "next": "438a05f4-f3c2-11e9-a476-02420a010068",
     "previous": "438a0338-f3c2-11e9-a476-02420a010068"
    }
   },
   "source": [
    "前回出てきた数値演算を、連続して計算してみます。\n",
    "\n",
    "例：\n",
    "forを使って、$x^2$ を$x$が0から5まで計算し、$x$と$x^2$の表示を行う。\n",
    "```\n",
    "for x in range(6):\n",
    "    print (x, x**2)\n",
    "```\n",
    "\n",
    "```\n",
    "0 0\n",
    "1 1\n",
    "2 4\n",
    "3 9\n",
    "4 16\n",
    "5 25\n",
    "```"
   ]
  },
  {
   "cell_type": "markdown",
   "metadata": {
    "lc_cell_meme": {
     "current": "438a05f4-f3c2-11e9-a476-02420a010068",
     "history": [
      {
       "current": "4bd69dc8-eef7-11e9-a8bb-02420a010068",
       "next": "c4032e82-25e0-11e9-a9f8-e0d55ea40caf",
       "previous": "942a62c4-25df-11e9-a9f8-e0d55ea40caf"
      },
      {
       "current": "4bd69dc8-eef7-11e9-a8bb-02420a010068",
       "next": "942a62c9-25df-11e9-a9f8-e0d55ea40caf",
       "previous": "942a62c8-25df-11e9-a9f8-e0d55ea40caf"
      },
      {
       "current": "4bd69dc8-eef7-11e9-a8bb-02420a010068",
       "next": "942a62cf-25df-11e9-a9f8-e0d55ea40caf",
       "previous": "942a62ce-25df-11e9-a9f8-e0d55ea40caf"
      },
      {
       "current": "4bd69dc8-eef7-11e9-a8bb-02420a010068",
       "next": "942a62d1-25df-11e9-a9f8-e0d55ea40caf",
       "previous": "942a62d0-25df-11e9-a9f8-e0d55ea40caf"
      },
      {
       "current": "4bd69dc8-eef7-11e9-a8bb-02420a010068",
       "next": "942a62d5-25df-11e9-a9f8-e0d55ea40caf",
       "previous": "942a62d4-25df-11e9-a9f8-e0d55ea40caf"
      },
      {
       "current": "4bd69dc8-eef7-11e9-a8bb-02420a010068",
       "next": "942a62df-25df-11e9-a9f8-e0d55ea40caf",
       "previous": "942a62de-25df-11e9-a9f8-e0d55ea40caf"
      },
      {
       "current": "4bd69dc8-eef7-11e9-a8bb-02420a010068",
       "next": "942a62ea-25df-11e9-a9f8-e0d55ea40caf",
       "previous": "942a62ea-25df-11e9-a9f8-e0d55ea40caf"
      }
     ],
     "next": "438a073e-f3c2-11e9-a476-02420a010068",
     "previous": "438a0482-f3c2-11e9-a476-02420a010068"
    }
   },
   "source": [
    "## for 文を使った数値計算1"
   ]
  },
  {
   "cell_type": "markdown",
   "metadata": {
    "lc_cell_meme": {
     "current": "438a073e-f3c2-11e9-a476-02420a010068",
     "history": [
      {
       "current": "942a62ea-25df-11e9-a9f8-e0d55ea40caf",
       "next": "942a62eb-25df-11e9-a9f8-e0d55ea40caf",
       "previous": "942a62e9-25df-11e9-a9f8-e0d55ea40caf"
      },
      {
       "current": "942a62ea-25df-11e9-a9f8-e0d55ea40caf",
       "next": "942a62eb-25df-11e9-a9f8-e0d55ea40caf",
       "previous": "942a62ea-25df-11e9-a9f8-e0d55ea40caf"
      },
      {
       "current": "942a62ea-25df-11e9-a9f8-e0d55ea40caf",
       "next": "942a62eb-25df-11e9-a9f8-e0d55ea40caf",
       "previous": "4bd69dc8-eef7-11e9-a8bb-02420a010068"
      },
      {
       "current": "942a62ea-25df-11e9-a9f8-e0d55ea40caf",
       "next": "4bd69ed6-eef7-11e9-a8bb-02420a010068",
       "previous": "4bd69dc8-eef7-11e9-a8bb-02420a010068"
      }
     ],
     "next": "438a0892-f3c2-11e9-a476-02420a010068",
     "previous": "438a05f4-f3c2-11e9-a476-02420a010068"
    }
   },
   "source": [
    "演習：次のセルで、for文を使って、$x^2$ を$x$が0から10まで計算し、$x$と$x^2$を表示しなさい。\n",
    "```\n",
    "0 0\n",
    "1 1\n",
    "2 4\n",
    "3 9\n",
    "4 16\n",
    "5 25\n",
    "6 36\n",
    "7 49\n",
    "8 64\n",
    "9 81\n",
    "10 100\n",
    "```"
   ]
  },
  {
   "cell_type": "code",
   "execution_count": null,
   "metadata": {
    "lc_cell_meme": {
     "current": "438a0892-f3c2-11e9-a476-02420a010068",
     "history": [
      {
       "current": "4bd69ed6-eef7-11e9-a8bb-02420a010068",
       "next": "942a62c5-25df-11e9-a9f8-e0d55ea40caf",
       "previous": "c4032e82-25e0-11e9-a9f8-e0d55ea40caf"
      },
      {
       "current": "4bd69ed6-eef7-11e9-a8bb-02420a010068",
       "next": "942a62c7-25df-11e9-a9f8-e0d55ea40caf",
       "previous": "942a62c6-25df-11e9-a9f8-e0d55ea40caf"
      },
      {
       "current": "4bd69ed6-eef7-11e9-a8bb-02420a010068",
       "next": "942a62ce-25df-11e9-a9f8-e0d55ea40caf",
       "previous": "942a62cd-25df-11e9-a9f8-e0d55ea40caf"
      },
      {
       "current": "4bd69ed6-eef7-11e9-a8bb-02420a010068",
       "next": "942a62d2-25df-11e9-a9f8-e0d55ea40caf",
       "previous": "942a62d1-25df-11e9-a9f8-e0d55ea40caf"
      },
      {
       "current": "4bd69ed6-eef7-11e9-a8bb-02420a010068",
       "next": "942a62d8-25df-11e9-a9f8-e0d55ea40caf",
       "previous": "942a62d7-25df-11e9-a9f8-e0d55ea40caf"
      },
      {
       "current": "4bd69ed6-eef7-11e9-a8bb-02420a010068",
       "next": "942a62e0-25df-11e9-a9f8-e0d55ea40caf",
       "previous": "942a62df-25df-11e9-a9f8-e0d55ea40caf"
      },
      {
       "current": "4bd69ed6-eef7-11e9-a8bb-02420a010068",
       "next": "d6d93ce2-25e3-11e9-a9f8-e0d55ea40caf",
       "previous": "942a62e1-25df-11e9-a9f8-e0d55ea40caf"
      },
      {
       "current": "4bd69ed6-eef7-11e9-a8bb-02420a010068",
       "next": "942a62eb-25df-11e9-a9f8-e0d55ea40caf",
       "previous": "942a62ea-25df-11e9-a9f8-e0d55ea40caf"
      },
      {
       "current": "4bd69ed6-eef7-11e9-a8bb-02420a010068",
       "next": "4bd69dc8-eef7-11e9-a8bb-02420a010068",
       "previous": "942a62ea-25df-11e9-a9f8-e0d55ea40caf"
      }
     ],
     "next": "438a09fa-f3c2-11e9-a476-02420a010068",
     "previous": "438a073e-f3c2-11e9-a476-02420a010068"
    }
   },
   "outputs": [],
   "source": [
    "# 演習用入力欄\n"
   ]
  },
  {
   "cell_type": "markdown",
   "metadata": {
    "lc_cell_meme": {
     "current": "438a09fa-f3c2-11e9-a476-02420a010068",
     "history": [
      {
       "current": "4bd69dc8-eef7-11e9-a8bb-02420a010068",
       "next": "c4032e82-25e0-11e9-a9f8-e0d55ea40caf",
       "previous": "942a62c4-25df-11e9-a9f8-e0d55ea40caf"
      },
      {
       "current": "4bd69dc8-eef7-11e9-a8bb-02420a010068",
       "next": "942a62c9-25df-11e9-a9f8-e0d55ea40caf",
       "previous": "942a62c8-25df-11e9-a9f8-e0d55ea40caf"
      },
      {
       "current": "4bd69dc8-eef7-11e9-a8bb-02420a010068",
       "next": "942a62cf-25df-11e9-a9f8-e0d55ea40caf",
       "previous": "942a62ce-25df-11e9-a9f8-e0d55ea40caf"
      },
      {
       "current": "4bd69dc8-eef7-11e9-a8bb-02420a010068",
       "next": "942a62d1-25df-11e9-a9f8-e0d55ea40caf",
       "previous": "942a62d0-25df-11e9-a9f8-e0d55ea40caf"
      },
      {
       "current": "4bd69dc8-eef7-11e9-a8bb-02420a010068",
       "next": "942a62d5-25df-11e9-a9f8-e0d55ea40caf",
       "previous": "942a62d4-25df-11e9-a9f8-e0d55ea40caf"
      },
      {
       "current": "4bd69dc8-eef7-11e9-a8bb-02420a010068",
       "next": "942a62df-25df-11e9-a9f8-e0d55ea40caf",
       "previous": "942a62de-25df-11e9-a9f8-e0d55ea40caf"
      },
      {
       "current": "4bd69dc8-eef7-11e9-a8bb-02420a010068",
       "next": "942a62ea-25df-11e9-a9f8-e0d55ea40caf",
       "previous": "942a62ea-25df-11e9-a9f8-e0d55ea40caf"
      },
      {
       "current": "4bd69dc8-eef7-11e9-a8bb-02420a010068",
       "next": "942a62ec-25df-11e9-a9f8-e0d55ea40caf",
       "previous": "942a62eb-25df-11e9-a9f8-e0d55ea40caf"
      },
      {
       "current": "4bd69dc8-eef7-11e9-a8bb-02420a010068",
       "next": "942a62ec-25df-11e9-a9f8-e0d55ea40caf",
       "previous": "4bd69ed6-eef7-11e9-a8bb-02420a010068"
      }
     ],
     "next": "438a0b8a-f3c2-11e9-a476-02420a010068",
     "previous": "438a0892-f3c2-11e9-a476-02420a010068"
    }
   },
   "source": [
    "## for 文を使った数値計算2"
   ]
  },
  {
   "cell_type": "markdown",
   "metadata": {
    "lc_cell_meme": {
     "current": "438a0b8a-f3c2-11e9-a476-02420a010068",
     "history": [
      {
       "current": "942a62ec-25df-11e9-a9f8-e0d55ea40caf",
       "next": "942a62ed-25df-11e9-a9f8-e0d55ea40caf",
       "previous": "942a62eb-25df-11e9-a9f8-e0d55ea40caf"
      },
      {
       "current": "942a62ec-25df-11e9-a9f8-e0d55ea40caf",
       "next": "4bd69ed6-eef7-11e9-a8bb-02420a010068",
       "previous": "4bd69dc8-eef7-11e9-a8bb-02420a010068"
      }
     ],
     "next": "438a0cca-f3c2-11e9-a476-02420a010068",
     "previous": "438a09fa-f3c2-11e9-a476-02420a010068"
    }
   },
   "source": [
    "演習：次のセルで、繰り返しを使って、$\\sqrt{x}$の値をxが1から20まで計算し、x と$\\sqrt{x}$を表示しなさい。\n",
    "\n",
    "ヒント：$\\sqrt{x}$の計算には、math.sqrt(x)を使います。\n",
    "\n",
    "ヒント：math.sqrt(x)を使うためには、import mathが必要です。"
   ]
  },
  {
   "cell_type": "code",
   "execution_count": null,
   "metadata": {
    "lc_cell_meme": {
     "current": "438a0cca-f3c2-11e9-a476-02420a010068",
     "history": [
      {
       "current": "4bd69ed6-eef7-11e9-a8bb-02420a010068",
       "next": "942a62c5-25df-11e9-a9f8-e0d55ea40caf",
       "previous": "c4032e82-25e0-11e9-a9f8-e0d55ea40caf"
      },
      {
       "current": "4bd69ed6-eef7-11e9-a8bb-02420a010068",
       "next": "942a62c7-25df-11e9-a9f8-e0d55ea40caf",
       "previous": "942a62c6-25df-11e9-a9f8-e0d55ea40caf"
      },
      {
       "current": "4bd69ed6-eef7-11e9-a8bb-02420a010068",
       "next": "942a62ce-25df-11e9-a9f8-e0d55ea40caf",
       "previous": "942a62cd-25df-11e9-a9f8-e0d55ea40caf"
      },
      {
       "current": "4bd69ed6-eef7-11e9-a8bb-02420a010068",
       "next": "942a62d2-25df-11e9-a9f8-e0d55ea40caf",
       "previous": "942a62d1-25df-11e9-a9f8-e0d55ea40caf"
      },
      {
       "current": "4bd69ed6-eef7-11e9-a8bb-02420a010068",
       "next": "942a62d8-25df-11e9-a9f8-e0d55ea40caf",
       "previous": "942a62d7-25df-11e9-a9f8-e0d55ea40caf"
      },
      {
       "current": "4bd69ed6-eef7-11e9-a8bb-02420a010068",
       "next": "942a62e0-25df-11e9-a9f8-e0d55ea40caf",
       "previous": "942a62df-25df-11e9-a9f8-e0d55ea40caf"
      },
      {
       "current": "4bd69ed6-eef7-11e9-a8bb-02420a010068",
       "next": "d6d93ce2-25e3-11e9-a9f8-e0d55ea40caf",
       "previous": "942a62e1-25df-11e9-a9f8-e0d55ea40caf"
      },
      {
       "current": "4bd69ed6-eef7-11e9-a8bb-02420a010068",
       "next": "942a62ed-25df-11e9-a9f8-e0d55ea40caf",
       "previous": "942a62ec-25df-11e9-a9f8-e0d55ea40caf"
      },
      {
       "current": "4bd69ed6-eef7-11e9-a8bb-02420a010068",
       "next": "66491514-9c72-11e9-8b94-e0d55ea40caf",
       "previous": "942a62ec-25df-11e9-a9f8-e0d55ea40caf"
      }
     ],
     "next": "438a0e14-f3c2-11e9-a476-02420a010068",
     "previous": "438a0b8a-f3c2-11e9-a476-02420a010068"
    }
   },
   "outputs": [],
   "source": [
    "# 演習用入力欄\n"
   ]
  },
  {
   "cell_type": "markdown",
   "metadata": {
    "lc_cell_meme": {
     "current": "438a0e14-f3c2-11e9-a476-02420a010068",
     "history": [
      {
       "current": "66491514-9c72-11e9-8b94-e0d55ea40caf",
       "next": "942a62ee-25df-11e9-a9f8-e0d55ea40caf",
       "previous": "942a62ed-25df-11e9-a9f8-e0d55ea40caf"
      },
      {
       "current": "66491514-9c72-11e9-8b94-e0d55ea40caf",
       "next": "4bd69dc8-eef7-11e9-a8bb-02420a010068",
       "previous": "942a62ed-25df-11e9-a9f8-e0d55ea40caf"
      },
      {
       "current": "66491514-9c72-11e9-8b94-e0d55ea40caf",
       "next": "4bd69dc8-eef7-11e9-a8bb-02420a010068",
       "previous": "4bd69ed6-eef7-11e9-a8bb-02420a010068"
      }
     ],
     "next": "438a0f90-f3c2-11e9-a476-02420a010068",
     "previous": "438a0cca-f3c2-11e9-a476-02420a010068"
    }
   },
   "source": [
    "結果は次のようになります。\n",
    "```\n",
    "1 1.0\n",
    "2 1.4142135623730951\n",
    "3 1.7320508075688772\n",
    "4 2.0\n",
    "5 2.23606797749979\n",
    "6 2.449489742783178\n",
    "7 2.6457513110645907\n",
    "8 2.8284271247461903\n",
    "9 3.0\n",
    "10 3.1622776601683795\n",
    "11 3.3166247903554\n",
    "12 3.4641016151377544\n",
    "13 3.605551275463989\n",
    "14 3.7416573867739413\n",
    "15 3.872983346207417\n",
    "16 4.0\n",
    "17 4.123105625617661\n",
    "18 4.242640687119285\n",
    "19 4.358898943540674\n",
    "20 4.47213595499958\n",
    "```"
   ]
  },
  {
   "cell_type": "markdown",
   "metadata": {
    "lc_cell_meme": {
     "current": "438a0f90-f3c2-11e9-a476-02420a010068",
     "history": [
      {
       "current": "4bd69dc8-eef7-11e9-a8bb-02420a010068",
       "next": "c4032e82-25e0-11e9-a9f8-e0d55ea40caf",
       "previous": "942a62c4-25df-11e9-a9f8-e0d55ea40caf"
      },
      {
       "current": "4bd69dc8-eef7-11e9-a8bb-02420a010068",
       "next": "942a62c9-25df-11e9-a9f8-e0d55ea40caf",
       "previous": "942a62c8-25df-11e9-a9f8-e0d55ea40caf"
      },
      {
       "current": "4bd69dc8-eef7-11e9-a8bb-02420a010068",
       "next": "942a62cf-25df-11e9-a9f8-e0d55ea40caf",
       "previous": "942a62ce-25df-11e9-a9f8-e0d55ea40caf"
      },
      {
       "current": "4bd69dc8-eef7-11e9-a8bb-02420a010068",
       "next": "942a62d1-25df-11e9-a9f8-e0d55ea40caf",
       "previous": "942a62d0-25df-11e9-a9f8-e0d55ea40caf"
      },
      {
       "current": "4bd69dc8-eef7-11e9-a8bb-02420a010068",
       "next": "942a62d5-25df-11e9-a9f8-e0d55ea40caf",
       "previous": "942a62d4-25df-11e9-a9f8-e0d55ea40caf"
      },
      {
       "current": "4bd69dc8-eef7-11e9-a8bb-02420a010068",
       "next": "942a62df-25df-11e9-a9f8-e0d55ea40caf",
       "previous": "942a62de-25df-11e9-a9f8-e0d55ea40caf"
      },
      {
       "current": "4bd69dc8-eef7-11e9-a8bb-02420a010068",
       "next": "942a62ea-25df-11e9-a9f8-e0d55ea40caf",
       "previous": "942a62ea-25df-11e9-a9f8-e0d55ea40caf"
      },
      {
       "current": "4bd69dc8-eef7-11e9-a8bb-02420a010068",
       "next": "942a62ee-25df-11e9-a9f8-e0d55ea40caf",
       "previous": "66491514-9c72-11e9-8b94-e0d55ea40caf"
      }
     ],
     "next": "438a10d0-f3c2-11e9-a476-02420a010068",
     "previous": "438a0e14-f3c2-11e9-a476-02420a010068"
    }
   },
   "source": [
    "## for 文を使った数値計算2"
   ]
  },
  {
   "cell_type": "markdown",
   "metadata": {
    "lc_cell_meme": {
     "current": "438a10d0-f3c2-11e9-a476-02420a010068",
     "history": [
      {
       "current": "942a62ee-25df-11e9-a9f8-e0d55ea40caf",
       "next": "942a62ef-25df-11e9-a9f8-e0d55ea40caf",
       "previous": "942a62ed-25df-11e9-a9f8-e0d55ea40caf"
      },
      {
       "current": "942a62ee-25df-11e9-a9f8-e0d55ea40caf",
       "next": "942a62ef-25df-11e9-a9f8-e0d55ea40caf",
       "previous": "66491514-9c72-11e9-8b94-e0d55ea40caf"
      },
      {
       "current": "942a62ee-25df-11e9-a9f8-e0d55ea40caf",
       "next": "4bd69ed6-eef7-11e9-a8bb-02420a010068",
       "previous": "4bd69dc8-eef7-11e9-a8bb-02420a010068"
      }
     ],
     "next": "438a124c-f3c2-11e9-a476-02420a010068",
     "previous": "438a0f90-f3c2-11e9-a476-02420a010068"
    }
   },
   "source": [
    "演習：次のセルで、繰り返しを使って、$\\sin{x}$の値を$x$が0°から90°まで5°刻みで計算し、$x$ と$\\sin{x}$を表示しなさい。"
   ]
  },
  {
   "cell_type": "code",
   "execution_count": null,
   "metadata": {
    "lc_cell_meme": {
     "current": "438a124c-f3c2-11e9-a476-02420a010068",
     "history": [
      {
       "current": "4bd69ed6-eef7-11e9-a8bb-02420a010068",
       "next": "942a62c5-25df-11e9-a9f8-e0d55ea40caf",
       "previous": "c4032e82-25e0-11e9-a9f8-e0d55ea40caf"
      },
      {
       "current": "4bd69ed6-eef7-11e9-a8bb-02420a010068",
       "next": "942a62c7-25df-11e9-a9f8-e0d55ea40caf",
       "previous": "942a62c6-25df-11e9-a9f8-e0d55ea40caf"
      },
      {
       "current": "4bd69ed6-eef7-11e9-a8bb-02420a010068",
       "next": "942a62ce-25df-11e9-a9f8-e0d55ea40caf",
       "previous": "942a62cd-25df-11e9-a9f8-e0d55ea40caf"
      },
      {
       "current": "4bd69ed6-eef7-11e9-a8bb-02420a010068",
       "next": "942a62d2-25df-11e9-a9f8-e0d55ea40caf",
       "previous": "942a62d1-25df-11e9-a9f8-e0d55ea40caf"
      },
      {
       "current": "4bd69ed6-eef7-11e9-a8bb-02420a010068",
       "next": "942a62d8-25df-11e9-a9f8-e0d55ea40caf",
       "previous": "942a62d7-25df-11e9-a9f8-e0d55ea40caf"
      },
      {
       "current": "4bd69ed6-eef7-11e9-a8bb-02420a010068",
       "next": "942a62e0-25df-11e9-a9f8-e0d55ea40caf",
       "previous": "942a62df-25df-11e9-a9f8-e0d55ea40caf"
      },
      {
       "current": "4bd69ed6-eef7-11e9-a8bb-02420a010068",
       "next": "d6d93ce2-25e3-11e9-a9f8-e0d55ea40caf",
       "previous": "942a62e1-25df-11e9-a9f8-e0d55ea40caf"
      },
      {
       "current": "4bd69ed6-eef7-11e9-a8bb-02420a010068",
       "next": "942a62ef-25df-11e9-a9f8-e0d55ea40caf",
       "previous": "942a62ee-25df-11e9-a9f8-e0d55ea40caf"
      },
      {
       "current": "4bd69ed6-eef7-11e9-a8bb-02420a010068",
       "next": "942a62f0-25df-11e9-a9f8-e0d55ea40caf",
       "previous": "942a62ee-25df-11e9-a9f8-e0d55ea40caf"
      }
     ],
     "next": "438a1396-f3c2-11e9-a476-02420a010068",
     "previous": "438a10d0-f3c2-11e9-a476-02420a010068"
    }
   },
   "outputs": [],
   "source": [
    "# 演習用入力欄\n"
   ]
  },
  {
   "cell_type": "markdown",
   "metadata": {
    "lc_cell_meme": {
     "current": "438a1396-f3c2-11e9-a476-02420a010068",
     "history": [
      {
       "current": "942a62f0-25df-11e9-a9f8-e0d55ea40caf",
       "next": "942a62f1-25df-11e9-a9f8-e0d55ea40caf",
       "previous": "942a62ef-25df-11e9-a9f8-e0d55ea40caf"
      },
      {
       "current": "942a62f0-25df-11e9-a9f8-e0d55ea40caf",
       "next": "e9b1a389-25e6-11e9-a9f8-e0d55ea40caf",
       "previous": "942a62ef-25df-11e9-a9f8-e0d55ea40caf"
      },
      {
       "current": "942a62f0-25df-11e9-a9f8-e0d55ea40caf",
       "next": "e9b1a389-25e6-11e9-a9f8-e0d55ea40caf",
       "previous": "4bd69ed6-eef7-11e9-a8bb-02420a010068"
      }
     ],
     "next": "438a14d6-f3c2-11e9-a476-02420a010068",
     "previous": "438a124c-f3c2-11e9-a476-02420a010068"
    }
   },
   "source": [
    "ヒント：sinの計算は、math.sin()　\n",
    "\n",
    "利用する前に、math モジュールをimportすること。弧度法からラジアンへの変換を忘れないこと。\n",
    "\n",
    "ヒント２：　$sin{ 0°} = 0$ , $sin{90°} = 1.0$になるので確認すること。\n",
    "```\n",
    "0 0.0\n",
    "5 0.08715574274765817\n",
    "10 0.17364817766693033\n",
    "15 0.25881904510252074\n",
    "20 0.3420201433256687\n",
    "25 0.42261826174069944\n",
    "30 0.49999999999999994\n",
    "35 0.573576436351046\n",
    "40 0.6427876096865393\n",
    "45 0.7071067811865475\n",
    "50 0.766044443118978\n",
    "55 0.8191520442889918\n",
    "60 0.8660254037844386\n",
    "65 0.9063077870366499\n",
    "70 0.9396926207859083\n",
    "75 0.9659258262890683\n",
    "80 0.984807753012208\n",
    "85 0.9961946980917455\n",
    "90 1.0\n",
    "```\n",
    "（詳細は第２回資料を参照）"
   ]
  },
  {
   "cell_type": "markdown",
   "metadata": {
    "lc_cell_meme": {
     "current": "438a14d6-f3c2-11e9-a476-02420a010068",
     "history": [
      {
       "current": "e9b1a389-25e6-11e9-a9f8-e0d55ea40caf",
       "next": null,
       "previous": "e9b1a388-25e6-11e9-a9f8-e0d55ea40caf"
      },
      {
       "current": "e9b1a389-25e6-11e9-a9f8-e0d55ea40caf",
       "next": "3133ae9a-25e7-11e9-a9f8-e0d55ea40caf",
       "previous": "e9b1a388-25e6-11e9-a9f8-e0d55ea40caf"
      },
      {
       "current": "e9b1a389-25e6-11e9-a9f8-e0d55ea40caf",
       "next": null,
       "previous": "942a62f0-25df-11e9-a9f8-e0d55ea40caf"
      }
     ],
     "next": null,
     "previous": "438a1396-f3c2-11e9-a476-02420a010068"
    }
   },
   "source": [
    "# 演習はこれで終了です。　課題に移ってください。"
   ]
  }
 ],
 "metadata": {
  "kernelspec": {
   "display_name": "Python 3",
   "language": "python",
   "name": "python3"
  },
  "language_info": {
   "file_extension": ".py",
   "mimetype": "text/x-python",
   "name": "python",
   "nbconvert_exporter": "python",
   "pygments_lexer": "ipython3",
   "version": "3.7.3"
  },
  "lc_notebook_meme": {
   "current": "438991fa-f3c2-11e9-a476-02420a010068",
   "history": [
    "942a62a8-25df-11e9-a9f8-e0d55ea40caf"
   ],
   "lc_server_signature": {
    "current": {
     "notebook_dir": "/home/14999410x94c69e",
     "notebook_path": "/04",
     "server_url": "https://nb06.ecloud.nii.ac.jp/user/14999410x94c69e/",
     "signature_id": "360553ae-df66-11e9-8262-02420a010037"
    },
    "history": [
     {
      "notebook_dir": "/home/kuwata/notebooks",
      "notebook_path": "/",
      "server_url": "http://157.19.141.8:8000/user/kuwata/",
      "signature_id": "d0abe7ae-153d-11e9-9674-e0d55ea40caf"
     },
     {
      "notebook_dir": "/home/14999410x94c69e",
      "notebook_path": "/04a",
      "server_url": "https://nb06.ecloud.nii.ac.jp/user/14999410x94c69e/",
      "signature_id": "360553ae-df66-11e9-8262-02420a010037"
     }
    ]
   },
   "root_cells": [
    "438997fe-f3c2-11e9-a476-02420a010068",
    "43899a24-f3c2-11e9-a476-02420a010068",
    "43899bd2-f3c2-11e9-a476-02420a010068",
    "43899d80-f3c2-11e9-a476-02420a010068",
    "43899efc-f3c2-11e9-a476-02420a010068",
    "4389a046-f3c2-11e9-a476-02420a010068",
    "4389a190-f3c2-11e9-a476-02420a010068",
    "4389a30c-f3c2-11e9-a476-02420a010068",
    "4389a456-f3c2-11e9-a476-02420a010068",
    "4389a5e6-f3c2-11e9-a476-02420a010068",
    "4389a730-f3c2-11e9-a476-02420a010068",
    "4389aa14-f3c2-11e9-a476-02420a010068",
    "4389abae-f3c2-11e9-a476-02420a010068",
    "4389ae24-f3c2-11e9-a476-02420a010068",
    "4389afbe-f3c2-11e9-a476-02420a010068",
    "4389b16c-f3c2-11e9-a476-02420a010068",
    "4389b2c0-f3c2-11e9-a476-02420a010068",
    "4389b4e6-f3c2-11e9-a476-02420a010068",
    "4389b662-f3c2-11e9-a476-02420a010068",
    "4389b7d4-f3c2-11e9-a476-02420a010068",
    "4389b964-f3c2-11e9-a476-02420a010068",
    "4389baae-f3c2-11e9-a476-02420a010068",
    "4389bbf8-f3c2-11e9-a476-02420a010068",
    "4389bd42-f3c2-11e9-a476-02420a010068",
    "4389be8c-f3c2-11e9-a476-02420a010068",
    "4389c01c-f3c2-11e9-a476-02420a010068",
    "4389c18e-f3c2-11e9-a476-02420a010068",
    "4389c30a-f3c2-11e9-a476-02420a010068",
    "4389c45e-f3c2-11e9-a476-02420a010068",
    "4389c5a8-f3c2-11e9-a476-02420a010068",
    "4389c71a-f3c2-11e9-a476-02420a010068",
    "4389c88c-f3c2-11e9-a476-02420a010068",
    "4389c9fe-f3c2-11e9-a476-02420a010068",
    "4389cb70-f3c2-11e9-a476-02420a010068",
    "4389cce2-f3c2-11e9-a476-02420a010068",
    "4389ce5e-f3c2-11e9-a476-02420a010068",
    "4389d066-f3c2-11e9-a476-02420a010068",
    "4389d2be-f3c2-11e9-a476-02420a010068",
    "4389d494-f3c2-11e9-a476-02420a010068",
    "4389d66a-f3c2-11e9-a476-02420a010068",
    "4389d7c8-f3c2-11e9-a476-02420a010068",
    "4389d926-f3c2-11e9-a476-02420a010068",
    "4389daca-f3c2-11e9-a476-02420a010068",
    "4389dd04-f3c2-11e9-a476-02420a010068",
    "4389de76-f3c2-11e9-a476-02420a010068",
    "4389dfc0-f3c2-11e9-a476-02420a010068",
    "4389e10a-f3c2-11e9-a476-02420a010068",
    "4389e254-f3c2-11e9-a476-02420a010068",
    "4389e3da-f3c2-11e9-a476-02420a010068",
    "4389e54c-f3c2-11e9-a476-02420a010068",
    "4389e6b4-f3c2-11e9-a476-02420a010068",
    "4389e826-f3c2-11e9-a476-02420a010068",
    "4389e9ac-f3c2-11e9-a476-02420a010068",
    "4389eaec-f3c2-11e9-a476-02420a010068",
    "4389ec36-f3c2-11e9-a476-02420a010068",
    "4389edb2-f3c2-11e9-a476-02420a010068",
    "4389eef2-f3c2-11e9-a476-02420a010068",
    "4389f06e-f3c2-11e9-a476-02420a010068",
    "4389f1b8-f3c2-11e9-a476-02420a010068",
    "4389f3a2-f3c2-11e9-a476-02420a010068",
    "4389f550-f3c2-11e9-a476-02420a010068",
    "4389f74e-f3c2-11e9-a476-02420a010068",
    "4389f8de-f3c2-11e9-a476-02420a010068",
    "4389fa28-f3c2-11e9-a476-02420a010068",
    "4389fc08-f3c2-11e9-a476-02420a010068",
    "4389fdac-f3c2-11e9-a476-02420a010068",
    "4389fef6-f3c2-11e9-a476-02420a010068",
    "438a0086-f3c2-11e9-a476-02420a010068",
    "438a01f8-f3c2-11e9-a476-02420a010068",
    "438a0338-f3c2-11e9-a476-02420a010068",
    "438a0482-f3c2-11e9-a476-02420a010068",
    "438a05f4-f3c2-11e9-a476-02420a010068",
    "438a073e-f3c2-11e9-a476-02420a010068",
    "438a0892-f3c2-11e9-a476-02420a010068",
    "438a09fa-f3c2-11e9-a476-02420a010068",
    "438a0b8a-f3c2-11e9-a476-02420a010068",
    "438a0cca-f3c2-11e9-a476-02420a010068",
    "438a0e14-f3c2-11e9-a476-02420a010068",
    "438a0f90-f3c2-11e9-a476-02420a010068",
    "438a10d0-f3c2-11e9-a476-02420a010068",
    "438a124c-f3c2-11e9-a476-02420a010068",
    "438a1396-f3c2-11e9-a476-02420a010068",
    "438a14d6-f3c2-11e9-a476-02420a010068"
   ]
  },
  "toc": {
   "base_numbering": 1,
   "nav_menu": {},
   "number_sections": true,
   "sideBar": true,
   "skip_h1_title": false,
   "title_cell": "Table of Contents",
   "title_sidebar": "Contents",
   "toc_cell": false,
   "toc_position": {},
   "toc_section_display": true,
   "toc_window_display": true
  }
 },
 "nbformat": 4,
 "nbformat_minor": 2
}
