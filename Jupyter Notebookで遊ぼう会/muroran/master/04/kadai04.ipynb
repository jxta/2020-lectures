{
 "cells": [
  {
   "cell_type": "markdown",
   "metadata": {
    "lc_cell_meme": {
     "current": "4ae249d8-f3c2-11e9-a610-02420a010068",
     "history": [
      {
       "current": "4baeeaaa-96df-11e9-8b94-e0d55ea40caf",
       "next": "4baeeaab-96df-11e9-8b94-e0d55ea40caf",
       "previous": null
      },
      {
       "current": "4baeeaaa-96df-11e9-8b94-e0d55ea40caf",
       "next": "d3724eee-ef2e-11e9-a8bb-02420a010068",
       "previous": null
      }
     ],
     "next": "4ae24bb8-f3c2-11e9-a610-02420a010068",
     "previous": null
    }
   },
   "source": [
    "プログラミング入門\n",
    "# 第4回　繰り返し（課題）"
   ]
  },
  {
   "cell_type": "markdown",
   "metadata": {
    "lc_cell_meme": {
     "current": "4ae24bb8-f3c2-11e9-a610-02420a010068",
     "history": [
      {
       "current": "d3724eee-ef2e-11e9-a8bb-02420a010068",
       "next": "4baeeaab-96df-11e9-8b94-e0d55ea40caf",
       "previous": "4baeeaaa-96df-11e9-8b94-e0d55ea40caf"
      }
     ],
     "next": "4ae24e06-f3c2-11e9-a610-02420a010068",
     "previous": "4ae249d8-f3c2-11e9-a610-02420a010068"
    }
   },
   "source": [
    "## 氏名"
   ]
  },
  {
   "cell_type": "markdown",
   "metadata": {
    "lc_cell_meme": {
     "current": "4ae24e06-f3c2-11e9-a610-02420a010068",
     "history": [
      {
       "current": "4baeeaab-96df-11e9-8b94-e0d55ea40caf",
       "next": "4baeeaac-96df-11e9-8b94-e0d55ea40caf",
       "previous": "4baeeaaa-96df-11e9-8b94-e0d55ea40caf"
      },
      {
       "current": "4baeeaab-96df-11e9-8b94-e0d55ea40caf",
       "next": "4baeeaac-96df-11e9-8b94-e0d55ea40caf",
       "previous": "d3724eee-ef2e-11e9-a8bb-02420a010068"
      }
     ],
     "next": "4ae24fa0-f3c2-11e9-a610-02420a010068",
     "previous": "4ae24bb8-f3c2-11e9-a610-02420a010068"
    }
   },
   "source": [
    "次のセルに、自分の名前と学籍番号を記入して下さい。"
   ]
  },
  {
   "cell_type": "raw",
   "metadata": {
    "lc_cell_meme": {
     "current": "4ae24fa0-f3c2-11e9-a610-02420a010068",
     "history": [
      {
       "current": "4baeeaac-96df-11e9-8b94-e0d55ea40caf",
       "next": "efa662f7-96de-11e9-8b94-e0d55ea40caf",
       "previous": "4baeeaab-96df-11e9-8b94-e0d55ea40caf"
      },
      {
       "current": "4baeeaac-96df-11e9-8b94-e0d55ea40caf",
       "next": "efa662f7-96de-11e9-8b94-e0d55ea40caf",
       "previous": "4baeeaab-96df-11e9-8b94-e0d55ea40caf"
      },
      {
       "current": "4baeeaac-96df-11e9-8b94-e0d55ea40caf",
       "next": "933950fe-96df-11e9-8b94-e0d55ea40caf",
       "previous": "4baeeaac-96df-11e9-8b94-e0d55ea40caf"
      },
      {
       "current": "4baeeaac-96df-11e9-8b94-e0d55ea40caf",
       "next": "933950fe-96df-11e9-8b94-e0d55ea40caf",
       "previous": "4baeeaac-96df-11e9-8b94-e0d55ea40caf"
      },
      {
       "current": "4baeeaac-96df-11e9-8b94-e0d55ea40caf",
       "next": "933950fe-96df-11e9-8b94-e0d55ea40caf",
       "previous": "4baeeaac-96df-11e9-8b94-e0d55ea40caf"
      },
      {
       "current": "4baeeaac-96df-11e9-8b94-e0d55ea40caf",
       "next": "933950fe-96df-11e9-8b94-e0d55ea40caf",
       "previous": "4baeeaac-96df-11e9-8b94-e0d55ea40caf"
      },
      {
       "current": "4baeeaac-96df-11e9-8b94-e0d55ea40caf",
       "next": "933950fe-96df-11e9-8b94-e0d55ea40caf",
       "previous": "4baeeaac-96df-11e9-8b94-e0d55ea40caf"
      },
      {
       "current": "4baeeaac-96df-11e9-8b94-e0d55ea40caf",
       "next": "933950fe-96df-11e9-8b94-e0d55ea40caf",
       "previous": "4baeeaac-96df-11e9-8b94-e0d55ea40caf"
      },
      {
       "current": "4baeeaac-96df-11e9-8b94-e0d55ea40caf",
       "next": "933950fe-96df-11e9-8b94-e0d55ea40caf",
       "previous": "4baeeaac-96df-11e9-8b94-e0d55ea40caf"
      },
      {
       "current": "4baeeaac-96df-11e9-8b94-e0d55ea40caf",
       "next": "933950fe-96df-11e9-8b94-e0d55ea40caf",
       "previous": "4baeeaac-96df-11e9-8b94-e0d55ea40caf"
      },
      {
       "current": "4baeeaac-96df-11e9-8b94-e0d55ea40caf",
       "next": "933950fe-96df-11e9-8b94-e0d55ea40caf",
       "previous": "4baeeaac-96df-11e9-8b94-e0d55ea40caf"
      },
      {
       "current": "4baeeaac-96df-11e9-8b94-e0d55ea40caf",
       "next": "933950fe-96df-11e9-8b94-e0d55ea40caf",
       "previous": "4baeeaac-96df-11e9-8b94-e0d55ea40caf"
      },
      {
       "current": "4baeeaac-96df-11e9-8b94-e0d55ea40caf",
       "next": "4baeeaac-96df-11e9-8b94-e0d55ea40caf",
       "previous": "4baeeaab-96df-11e9-8b94-e0d55ea40caf"
      }
     ],
     "next": "4ae251b2-f3c2-11e9-a610-02420a010068",
     "previous": "4ae24e06-f3c2-11e9-a610-02420a010068"
    }
   },
   "source": [
    "学籍番号：　  　　　　　　　　　　氏名："
   ]
  },
  {
   "cell_type": "markdown",
   "metadata": {
    "lc_cell_meme": {
     "current": "4ae251b2-f3c2-11e9-a610-02420a010068",
     "history": [
      {
       "current": "4baeeaac-96df-11e9-8b94-e0d55ea40caf",
       "next": "efa662f7-96de-11e9-8b94-e0d55ea40caf",
       "previous": "4baeeaab-96df-11e9-8b94-e0d55ea40caf"
      },
      {
       "current": "4baeeaac-96df-11e9-8b94-e0d55ea40caf",
       "next": "efa662f7-96de-11e9-8b94-e0d55ea40caf",
       "previous": "4baeeaab-96df-11e9-8b94-e0d55ea40caf"
      },
      {
       "current": "4baeeaac-96df-11e9-8b94-e0d55ea40caf",
       "next": "933950fe-96df-11e9-8b94-e0d55ea40caf",
       "previous": "4baeeaac-96df-11e9-8b94-e0d55ea40caf"
      },
      {
       "current": "4baeeaac-96df-11e9-8b94-e0d55ea40caf",
       "next": "933950fe-96df-11e9-8b94-e0d55ea40caf",
       "previous": "4baeeaac-96df-11e9-8b94-e0d55ea40caf"
      },
      {
       "current": "4baeeaac-96df-11e9-8b94-e0d55ea40caf",
       "next": "933950fe-96df-11e9-8b94-e0d55ea40caf",
       "previous": "4baeeaac-96df-11e9-8b94-e0d55ea40caf"
      },
      {
       "current": "4baeeaac-96df-11e9-8b94-e0d55ea40caf",
       "next": "933950fe-96df-11e9-8b94-e0d55ea40caf",
       "previous": "4baeeaac-96df-11e9-8b94-e0d55ea40caf"
      },
      {
       "current": "4baeeaac-96df-11e9-8b94-e0d55ea40caf",
       "next": "933950fe-96df-11e9-8b94-e0d55ea40caf",
       "previous": "4baeeaac-96df-11e9-8b94-e0d55ea40caf"
      },
      {
       "current": "4baeeaac-96df-11e9-8b94-e0d55ea40caf",
       "next": "933950fe-96df-11e9-8b94-e0d55ea40caf",
       "previous": "4baeeaac-96df-11e9-8b94-e0d55ea40caf"
      },
      {
       "current": "4baeeaac-96df-11e9-8b94-e0d55ea40caf",
       "next": "933950fe-96df-11e9-8b94-e0d55ea40caf",
       "previous": "4baeeaac-96df-11e9-8b94-e0d55ea40caf"
      },
      {
       "current": "4baeeaac-96df-11e9-8b94-e0d55ea40caf",
       "next": "933950fe-96df-11e9-8b94-e0d55ea40caf",
       "previous": "4baeeaac-96df-11e9-8b94-e0d55ea40caf"
      },
      {
       "current": "4baeeaac-96df-11e9-8b94-e0d55ea40caf",
       "next": "933950fe-96df-11e9-8b94-e0d55ea40caf",
       "previous": "4baeeaac-96df-11e9-8b94-e0d55ea40caf"
      },
      {
       "current": "4baeeaac-96df-11e9-8b94-e0d55ea40caf",
       "next": "933950fe-96df-11e9-8b94-e0d55ea40caf",
       "previous": "4baeeaac-96df-11e9-8b94-e0d55ea40caf"
      }
     ],
     "next": "4ae2536a-f3c2-11e9-a610-02420a010068",
     "previous": "4ae24fa0-f3c2-11e9-a610-02420a010068"
    }
   },
   "source": [
    "【進め方の注意】\n",
    "\n",
    "- 文書を読んで、手順に沿って問いに答えながら進めて下さい。\n",
    "- 課題の回答が終わったらファイルを保存して下さい。\n",
    "- 途中わからないことがあれば、教員またはTAに質問して下さい。"
   ]
  },
  {
   "cell_type": "markdown",
   "metadata": {
    "lc_cell_meme": {
     "current": "4ae2536a-f3c2-11e9-a610-02420a010068",
     "history": [
      {
       "current": "933950fe-96df-11e9-8b94-e0d55ea40caf",
       "next": "933950ff-96df-11e9-8b94-e0d55ea40caf",
       "previous": "4baeeaac-96df-11e9-8b94-e0d55ea40caf"
      }
     ],
     "next": "4ae2550e-f3c2-11e9-a610-02420a010068",
     "previous": "4ae251b2-f3c2-11e9-a610-02420a010068"
    }
   },
   "source": [
    "### 注意事項"
   ]
  },
  {
   "cell_type": "markdown",
   "metadata": {
    "lc_cell_meme": {
     "current": "4ae2550e-f3c2-11e9-a610-02420a010068",
     "history": [
      {
       "current": "933950ff-96df-11e9-8b94-e0d55ea40caf",
       "next": "93395100-96df-11e9-8b94-e0d55ea40caf",
       "previous": "933950fe-96df-11e9-8b94-e0d55ea40caf"
      }
     ],
     "next": "4ae2564e-f3c2-11e9-a610-02420a010068",
     "previous": "4ae2536a-f3c2-11e9-a610-02420a010068"
    }
   },
   "source": [
    "確認課題は、単位認定のための点数としてカウントします。\n",
    "\n",
    "友達と相談せず、自分だけでやってください。\n",
    "\n",
    "確認課題が終わった人は、提出後に退室して構いません。\n",
    "\n",
    "終わらなくても終了時刻までに提出してください。"
   ]
  },
  {
   "cell_type": "markdown",
   "metadata": {
    "lc_cell_meme": {
     "current": "4ae2564e-f3c2-11e9-a610-02420a010068",
     "history": [
      {
       "current": "93395100-96df-11e9-8b94-e0d55ea40caf",
       "next": "efa662f7-96de-11e9-8b94-e0d55ea40caf",
       "previous": "933950ff-96df-11e9-8b94-e0d55ea40caf"
      }
     ],
     "next": "4ae257ca-f3c2-11e9-a610-02420a010068",
     "previous": "4ae2550e-f3c2-11e9-a610-02420a010068"
    }
   },
   "source": [
    " # 課題"
   ]
  },
  {
   "cell_type": "markdown",
   "metadata": {
    "lc_cell_meme": {
     "current": "4ae257ca-f3c2-11e9-a610-02420a010068",
     "history": [
      {
       "current": "efa662f7-96de-11e9-8b94-e0d55ea40caf",
       "next": "efa662f8-96de-11e9-8b94-e0d55ea40caf",
       "previous": null
      },
      {
       "current": "efa662f7-96de-11e9-8b94-e0d55ea40caf",
       "next": "efa662f8-96de-11e9-8b94-e0d55ea40caf",
       "previous": "4baeeaac-96df-11e9-8b94-e0d55ea40caf"
      },
      {
       "current": "efa662f7-96de-11e9-8b94-e0d55ea40caf",
       "next": "efa662f8-96de-11e9-8b94-e0d55ea40caf",
       "previous": "93395100-96df-11e9-8b94-e0d55ea40caf"
      },
      {
       "current": "efa662f7-96de-11e9-8b94-e0d55ea40caf",
       "next": "f8da5718-96e0-11e9-8b94-e0d55ea40caf",
       "previous": "93395100-96df-11e9-8b94-e0d55ea40caf"
      }
     ],
     "next": "4ae25950-f3c2-11e9-a610-02420a010068",
     "previous": "4ae2564e-f3c2-11e9-a610-02420a010068"
    }
   },
   "source": [
    "二重ループ処理\n",
    "\n",
    "\n",
    "変数x,yを使ったfor文の二重ループで、次に示す市松模様を書きなさい。\n",
    "```\n",
    "* - * - * - * - * -\n",
    "- * - * - * - * - *\n",
    "* - * - * - * - * -\n",
    "- * - * - * - * - *\n",
    "* - * - * - * - * -\n",
    "- * - * - * - * - *\n",
    "* - * - * - * - * -\n",
    "- * - * - * - * - *\n",
    "* - * - * - * - * -\n",
    "- * - * - * - * - *\n",
    "```\n",
    "\n",
    "ステップ１からステップ３までで構成されています。\n",
    "\n",
    "最終的な答えはステップ３に記述してください。\n",
    "\n",
    "（答えがわかれば、ステップ１、ステップ２はとばしてもかまいません）"
   ]
  },
  {
   "cell_type": "markdown",
   "metadata": {
    "lc_cell_meme": {
     "current": "4ae25950-f3c2-11e9-a610-02420a010068",
     "history": [
      {
       "current": "f8da5718-96e0-11e9-8b94-e0d55ea40caf",
       "next": "efa662f8-96de-11e9-8b94-e0d55ea40caf",
       "previous": "efa662f7-96de-11e9-8b94-e0d55ea40caf"
      }
     ],
     "next": "4ae25ac2-f3c2-11e9-a610-02420a010068",
     "previous": "4ae257ca-f3c2-11e9-a610-02420a010068"
    }
   },
   "source": [
    "## ●ステップ１\n",
    "横方向に'*'と'-'を交互に表示するプログラムを完成しなさい。\n",
    "```\n",
    "* - * - * - * - * - \n",
    "```\n",
    "ヒント：yが偶数の時に\"*\"を表示します。"
   ]
  },
  {
   "cell_type": "code",
   "execution_count": null,
   "metadata": {
    "lc_cell_meme": {
     "current": "4ae25ac2-f3c2-11e9-a610-02420a010068",
     "history": [
      {
       "current": "efa662f8-96de-11e9-8b94-e0d55ea40caf",
       "next": null,
       "previous": "efa662f7-96de-11e9-8b94-e0d55ea40caf"
      },
      {
       "current": "efa662f8-96de-11e9-8b94-e0d55ea40caf",
       "next": "f8da5719-96e0-11e9-8b94-e0d55ea40caf",
       "previous": "f8da5718-96e0-11e9-8b94-e0d55ea40caf"
      },
      {
       "current": "efa662f8-96de-11e9-8b94-e0d55ea40caf",
       "next": "29133c88-9c81-11e9-8b94-e0d55ea40caf",
       "previous": "f8da5718-96e0-11e9-8b94-e0d55ea40caf"
      },
      {
       "current": "efa662f8-96de-11e9-8b94-e0d55ea40caf",
       "next": "f8da5719-96e0-11e9-8b94-e0d55ea40caf",
       "previous": "f8da5718-96e0-11e9-8b94-e0d55ea40caf"
      }
     ],
     "next": "4ae25c0c-f3c2-11e9-a610-02420a010068",
     "previous": "4ae25950-f3c2-11e9-a610-02420a010068"
    },
    "lc_wrapper": {
     "log_history": [
      "/home/kuwata/notebooks/.log/20190702/20190702-151800-0725.log"
     ]
    }
   },
   "outputs": [],
   "source": [
    "# 演習用入力欄（要修正）\n",
    "\n",
    "for y in range(10):\n",
    "    if ???:\n",
    "        print (\"*\",end=\" \") # yが偶数の時\n",
    "    else:\n",
    "        print (\"-\", end=\" \") # yが奇数の時"
   ]
  },
  {
   "cell_type": "markdown",
   "metadata": {
    "lc_cell_meme": {
     "current": "4ae25c0c-f3c2-11e9-a610-02420a010068",
     "history": [
      {
       "current": "f8da5719-96e0-11e9-8b94-e0d55ea40caf",
       "next": null,
       "previous": "efa662f8-96de-11e9-8b94-e0d55ea40caf"
      },
      {
       "current": "f8da5719-96e0-11e9-8b94-e0d55ea40caf",
       "next": "4060f3da-96e1-11e9-8b94-e0d55ea40caf",
       "previous": "efa662f8-96de-11e9-8b94-e0d55ea40caf"
      },
      {
       "current": "f8da5719-96e0-11e9-8b94-e0d55ea40caf",
       "next": "4060f3da-96e1-11e9-8b94-e0d55ea40caf",
       "previous": "29133c88-9c81-11e9-8b94-e0d55ea40caf"
      },
      {
       "current": "f8da5719-96e0-11e9-8b94-e0d55ea40caf",
       "next": "a2f70548-9c81-11e9-8b94-e0d55ea40caf",
       "previous": "29133c88-9c81-11e9-8b94-e0d55ea40caf"
      },
      {
       "current": "f8da5719-96e0-11e9-8b94-e0d55ea40caf",
       "next": "a2f70548-9c81-11e9-8b94-e0d55ea40caf",
       "previous": "efa662f8-96de-11e9-8b94-e0d55ea40caf"
      }
     ],
     "next": "4ae25d88-f3c2-11e9-a610-02420a010068",
     "previous": "4ae25ac2-f3c2-11e9-a610-02420a010068"
    }
   },
   "source": [
    "ヒント：\n",
    "偶数は2で割った残りが0になります。剰余をもとめる演算子\"%\"を使います。"
   ]
  },
  {
   "cell_type": "markdown",
   "metadata": {
    "lc_cell_meme": {
     "current": "4ae25d88-f3c2-11e9-a610-02420a010068",
     "history": [
      {
       "current": "a2f70548-9c81-11e9-8b94-e0d55ea40caf",
       "next": "4060f3da-96e1-11e9-8b94-e0d55ea40caf",
       "previous": "f8da5719-96e0-11e9-8b94-e0d55ea40caf"
      },
      {
       "current": "a2f70548-9c81-11e9-8b94-e0d55ea40caf",
       "next": "b8213ca4-9c81-11e9-8b94-e0d55ea40caf",
       "previous": "f8da5719-96e0-11e9-8b94-e0d55ea40caf"
      }
     ],
     "next": "4ae25ef0-f3c2-11e9-a610-02420a010068",
     "previous": "4ae25c0c-f3c2-11e9-a610-02420a010068"
    }
   },
   "source": [
    "## ●ステップ２\n",
    "ステップ１で作成したfor文を入れ子にして、縦方向に10回同じ表示をするプログラムを作成します。\n",
    "\n",
    "ヒント：一行表示した後に改行するため、print()を入れます。\n",
    "```\n",
    "* - * - * - * - * - \n",
    "* - * - * - * - * - \n",
    "* - * - * - * - * - \n",
    "* - * - * - * - * - \n",
    "* - * - * - * - * - \n",
    "* - * - * - * - * - \n",
    "* - * - * - * - * - \n",
    "* - * - * - * - * - \n",
    "* - * - * - * - * - \n",
    "* - * - * - * - * - \n",
    "```"
   ]
  },
  {
   "cell_type": "code",
   "execution_count": null,
   "metadata": {
    "lc_cell_meme": {
     "current": "4ae25ef0-f3c2-11e9-a610-02420a010068",
     "history": [
      {
       "current": "b8213ca4-9c81-11e9-8b94-e0d55ea40caf",
       "next": "4060f3da-96e1-11e9-8b94-e0d55ea40caf",
       "previous": "a2f70548-9c81-11e9-8b94-e0d55ea40caf"
      },
      {
       "current": "b8213ca4-9c81-11e9-8b94-e0d55ea40caf",
       "next": "b8213ca4-9c81-11e9-8b94-e0d55ea40caf",
       "previous": "a2f70548-9c81-11e9-8b94-e0d55ea40caf"
      },
      {
       "current": "b8213ca4-9c81-11e9-8b94-e0d55ea40caf",
       "next": "3faf9d92-9c90-11e9-8b94-e0d55ea40caf",
       "previous": "a2f70548-9c81-11e9-8b94-e0d55ea40caf"
      }
     ],
     "next": "4ae26062-f3c2-11e9-a610-02420a010068",
     "previous": "4ae25d88-f3c2-11e9-a610-02420a010068"
    }
   },
   "outputs": [],
   "source": [
    "# 演習用入力欄（要修正）\n",
    "\n",
    "for x in range(10): # 追加\n",
    "    # (ステップ１のプログラムを入れる)\n",
    "    print() # 改行"
   ]
  },
  {
   "cell_type": "markdown",
   "metadata": {
    "lc_cell_meme": {
     "current": "4ae26062-f3c2-11e9-a610-02420a010068",
     "history": [
      {
       "current": "3faf9d92-9c90-11e9-8b94-e0d55ea40caf",
       "next": "f8286684-9c8f-11e9-8b94-e0d55ea40caf",
       "previous": "b8213ca4-9c81-11e9-8b94-e0d55ea40caf"
      }
     ],
     "next": "4ae261d4-f3c2-11e9-a610-02420a010068",
     "previous": "4ae25ef0-f3c2-11e9-a610-02420a010068"
    }
   },
   "source": [
    "## ●ステップ３\n",
    "市松模様にするため、ステップ１で作成したif文の条件式を変更します。\n",
    "\n",
    "ヒント：「xとyの合計が偶数」の場合に\"*\"を表示します。"
   ]
  },
  {
   "cell_type": "code",
   "execution_count": null,
   "metadata": {
    "lc_cell_meme": {
     "current": "4ae261d4-f3c2-11e9-a610-02420a010068",
     "history": [
      {
       "current": "f8286684-9c8f-11e9-8b94-e0d55ea40caf",
       "next": "f8286685-9c8f-11e9-8b94-e0d55ea40caf",
       "previous": "b8213ca4-9c81-11e9-8b94-e0d55ea40caf"
      },
      {
       "current": "f8286684-9c8f-11e9-8b94-e0d55ea40caf",
       "next": "4060f3da-96e1-11e9-8b94-e0d55ea40caf",
       "previous": "3faf9d92-9c90-11e9-8b94-e0d55ea40caf"
      },
      {
       "current": "f8286684-9c8f-11e9-8b94-e0d55ea40caf",
       "next": "1aff667a-ef2f-11e9-a8bb-02420a010068",
       "previous": "3faf9d92-9c90-11e9-8b94-e0d55ea40caf"
      }
     ],
     "next": "4ae26314-f3c2-11e9-a610-02420a010068",
     "previous": "4ae26062-f3c2-11e9-a610-02420a010068"
    }
   },
   "outputs": [],
   "source": [
    "# 演習用入力欄\n",
    "\n",
    "# ステップ２のセルをコピーして修正する"
   ]
  },
  {
   "cell_type": "markdown",
   "metadata": {
    "heading_collapsed": true,
    "lc_cell_meme": {
     "current": "4ae26314-f3c2-11e9-a610-02420a010068",
     "history": [
      {
       "current": "1aff667a-ef2f-11e9-a8bb-02420a010068",
       "next": "8c720b22-e012-11e9-9819-02420a01003b",
       "previous": "4060f3da-96e1-11e9-8b94-e0d55ea40caf"
      },
      {
       "current": "1aff667a-ef2f-11e9-a8bb-02420a010068",
       "next": "8c720b22-e012-11e9-9819-02420a01003b",
       "previous": "f8286684-9c8f-11e9-8b94-e0d55ea40caf"
      }
     ],
     "next": "4ae2645e-f3c2-11e9-a610-02420a010068",
     "previous": "4ae261d4-f3c2-11e9-a610-02420a010068"
    }
   },
   "source": [
    "# 課題は以上です。お疲れさまでした"
   ]
  },
  {
   "cell_type": "markdown",
   "metadata": {
    "hidden": true,
    "lc_cell_meme": {
     "current": "4ae2645e-f3c2-11e9-a610-02420a010068",
     "history": [
      {
       "current": "8c720b22-e012-11e9-9819-02420a01003b",
       "next": "8c720ee2-e012-11e9-9819-02420a01003b",
       "previous": "4060f3da-96e1-11e9-8b94-e0d55ea40caf"
      },
      {
       "current": "8c720b22-e012-11e9-9819-02420a01003b",
       "next": "8c720ee2-e012-11e9-9819-02420a01003b",
       "previous": "1aff667a-ef2f-11e9-a8bb-02420a010068"
      }
     ],
     "next": "4ae2659e-f3c2-11e9-a610-02420a010068",
     "previous": "4ae26314-f3c2-11e9-a610-02420a010068"
    }
   },
   "source": [
    "## 評価結果"
   ]
  },
  {
   "cell_type": "code",
   "execution_count": null,
   "metadata": {
    "hidden": true,
    "lc_cell_meme": {
     "current": "4ae2659e-f3c2-11e9-a610-02420a010068",
     "history": [
      {
       "current": "8c720ee2-e012-11e9-9819-02420a01003b",
       "next": "8c721022-e012-11e9-9819-02420a01003b",
       "previous": "8c720b22-e012-11e9-9819-02420a01003b"
      }
     ],
     "next": "4ae266e8-f3c2-11e9-a610-02420a010068",
     "previous": "4ae2645e-f3c2-11e9-a610-02420a010068"
    }
   },
   "outputs": [],
   "source": []
  },
  {
   "cell_type": "markdown",
   "metadata": {
    "hidden": true,
    "lc_cell_meme": {
     "current": "4ae266e8-f3c2-11e9-a610-02420a010068",
     "history": [
      {
       "current": "8c721022-e012-11e9-9819-02420a01003b",
       "next": "8c721130-e012-11e9-9819-02420a01003b",
       "previous": "8c720ee2-e012-11e9-9819-02420a01003b"
      }
     ],
     "next": "4ae2685a-f3c2-11e9-a610-02420a010068",
     "previous": "4ae2659e-f3c2-11e9-a610-02420a010068"
    }
   },
   "source": [
    "## コメント等"
   ]
  },
  {
   "cell_type": "code",
   "execution_count": null,
   "metadata": {
    "hidden": true,
    "lc_cell_meme": {
     "current": "4ae2685a-f3c2-11e9-a610-02420a010068",
     "history": [
      {
       "current": "8c721130-e012-11e9-9819-02420a01003b",
       "next": "4060f3db-96e1-11e9-8b94-e0d55ea40caf",
       "previous": "8c721022-e012-11e9-9819-02420a01003b"
      }
     ],
     "next": "4ae2699a-f3c2-11e9-a610-02420a010068",
     "previous": "4ae266e8-f3c2-11e9-a610-02420a010068"
    }
   },
   "outputs": [],
   "source": []
  },
  {
   "cell_type": "markdown",
   "metadata": {
    "hidden": true,
    "lc_cell_meme": {
     "current": "4ae2699a-f3c2-11e9-a610-02420a010068",
     "history": [
      {
       "current": "4060f3db-96e1-11e9-8b94-e0d55ea40caf",
       "next": null,
       "previous": "4060f3da-96e1-11e9-8b94-e0d55ea40caf"
      },
      {
       "current": "4060f3db-96e1-11e9-8b94-e0d55ea40caf",
       "next": null,
       "previous": "8c721130-e012-11e9-9819-02420a01003b"
      }
     ],
     "next": null,
     "previous": "4ae2685a-f3c2-11e9-a610-02420a010068"
    }
   },
   "source": []
  }
 ],
 "metadata": {
  "kernelspec": {
   "display_name": "Python 3",
   "language": "python",
   "name": "python3"
  },
  "language_info": {
   "file_extension": ".py",
   "mimetype": "text/x-python",
   "name": "python",
   "nbconvert_exporter": "python",
   "pygments_lexer": "ipython3",
   "version": "3.7.3"
  },
  "lc_notebook_meme": {
   "current": "4ae243e8-f3c2-11e9-a610-02420a010068",
   "history": [
    "efa662f6-96de-11e9-8b94-e0d55ea40caf"
   ],
   "lc_server_signature": {
    "current": {
     "notebook_dir": "/home/14999410x94c69e",
     "notebook_path": "/04",
     "server_url": "https://nb06.ecloud.nii.ac.jp/user/14999410x94c69e/",
     "signature_id": "360553ae-df66-11e9-8262-02420a010037"
    },
    "history": [
     {
      "notebook_dir": "/home/kuwata/notebooks",
      "notebook_path": "/",
      "server_url": "http://157.19.141.8:8000/user/kuwata/",
      "signature_id": "d0abe7ae-153d-11e9-9674-e0d55ea40caf"
     },
     {
      "notebook_dir": "/home/14999410x94c69e",
      "notebook_path": "/",
      "server_url": "https://nb06.ecloud.nii.ac.jp/user/14999410x94c69e/",
      "signature_id": "360553ae-df66-11e9-8262-02420a010037"
     },
     {
      "notebook_dir": "/home/14999410x94c69e",
      "notebook_path": "/04a",
      "server_url": "https://nb06.ecloud.nii.ac.jp/user/14999410x94c69e/",
      "signature_id": "360553ae-df66-11e9-8262-02420a010037"
     }
    ]
   },
   "root_cells": [
    "4ae249d8-f3c2-11e9-a610-02420a010068",
    "4ae24bb8-f3c2-11e9-a610-02420a010068",
    "4ae24e06-f3c2-11e9-a610-02420a010068",
    "4ae24fa0-f3c2-11e9-a610-02420a010068",
    "4ae251b2-f3c2-11e9-a610-02420a010068",
    "4ae2536a-f3c2-11e9-a610-02420a010068",
    "4ae2550e-f3c2-11e9-a610-02420a010068",
    "4ae2564e-f3c2-11e9-a610-02420a010068",
    "4ae257ca-f3c2-11e9-a610-02420a010068",
    "4ae25950-f3c2-11e9-a610-02420a010068",
    "4ae25ac2-f3c2-11e9-a610-02420a010068",
    "4ae25c0c-f3c2-11e9-a610-02420a010068",
    "4ae25d88-f3c2-11e9-a610-02420a010068",
    "4ae25ef0-f3c2-11e9-a610-02420a010068",
    "4ae26062-f3c2-11e9-a610-02420a010068",
    "4ae261d4-f3c2-11e9-a610-02420a010068",
    "4ae26314-f3c2-11e9-a610-02420a010068",
    "4ae2645e-f3c2-11e9-a610-02420a010068",
    "4ae2659e-f3c2-11e9-a610-02420a010068",
    "4ae266e8-f3c2-11e9-a610-02420a010068",
    "4ae2685a-f3c2-11e9-a610-02420a010068",
    "4ae2699a-f3c2-11e9-a610-02420a010068"
   ]
  },
  "toc": {
   "base_numbering": 1,
   "nav_menu": {},
   "number_sections": true,
   "sideBar": true,
   "skip_h1_title": false,
   "title_cell": "Table of Contents",
   "title_sidebar": "Contents",
   "toc_cell": false,
   "toc_position": {},
   "toc_section_display": true,
   "toc_window_display": false
  }
 },
 "nbformat": 4,
 "nbformat_minor": 2
}
