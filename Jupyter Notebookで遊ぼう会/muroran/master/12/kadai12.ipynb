{
 "cells": [
  {
   "cell_type": "markdown",
   "metadata": {
    "lc_cell_meme": {
     "current": "7daacc66-216f-11ea-8205-02420a0104c6",
     "history": [
      {
       "current": "4baeeaaa-96df-11e9-8b94-e0d55ea40caf",
       "next": "4baeeaab-96df-11e9-8b94-e0d55ea40caf",
       "previous": null
      },
      {
       "current": "b38b6c40-96e2-11e9-893e-02420a010063",
       "next": "b38b6de4-96e2-11e9-893e-02420a010063",
       "previous": null
      },
      {
       "current": "224daab6-fae4-11e9-ad73-02420a01004a",
       "next": "224dacdc-fae4-11e9-ad73-02420a01004a",
       "previous": null
      }
     ],
     "next": "7daace28-216f-11ea-8205-02420a0104c6",
     "previous": null
    }
   },
   "source": [
    "# プログラミング入門\n",
    "  第12回　総合演習3（課題）"
   ]
  },
  {
   "cell_type": "markdown",
   "metadata": {
    "lc_cell_meme": {
     "current": "7daace28-216f-11ea-8205-02420a0104c6",
     "history": [
      {
       "current": "4baeeaab-96df-11e9-8b94-e0d55ea40caf",
       "next": "4baeeaac-96df-11e9-8b94-e0d55ea40caf",
       "previous": "4baeeaaa-96df-11e9-8b94-e0d55ea40caf"
      },
      {
       "current": "b38b6de4-96e2-11e9-893e-02420a010063",
       "next": "b38b6eca-96e2-11e9-893e-02420a010063",
       "previous": "b38b6c40-96e2-11e9-893e-02420a010063"
      },
      {
       "current": "224dacdc-fae4-11e9-ad73-02420a01004a",
       "next": "224dae9e-fae4-11e9-ad73-02420a01004a",
       "previous": "224daab6-fae4-11e9-ad73-02420a01004a"
      }
     ],
     "next": "7daacf7c-216f-11ea-8205-02420a0104c6",
     "previous": "7daacc66-216f-11ea-8205-02420a0104c6"
    }
   },
   "source": [
    "次のセルに、自分の名前と学籍番号を記入して下さい。"
   ]
  },
  {
   "cell_type": "raw",
   "metadata": {
    "lc_cell_meme": {
     "current": "7daacf7c-216f-11ea-8205-02420a0104c6",
     "history": [
      {
       "current": "4baeeaac-96df-11e9-8b94-e0d55ea40caf",
       "next": "efa662f7-96de-11e9-8b94-e0d55ea40caf",
       "previous": "4baeeaab-96df-11e9-8b94-e0d55ea40caf"
      },
      {
       "current": "4baeeaac-96df-11e9-8b94-e0d55ea40caf",
       "next": "efa662f7-96de-11e9-8b94-e0d55ea40caf",
       "previous": "4baeeaab-96df-11e9-8b94-e0d55ea40caf"
      },
      {
       "current": "4baeeaac-96df-11e9-8b94-e0d55ea40caf",
       "next": "933950fe-96df-11e9-8b94-e0d55ea40caf",
       "previous": "4baeeaac-96df-11e9-8b94-e0d55ea40caf"
      },
      {
       "current": "4baeeaac-96df-11e9-8b94-e0d55ea40caf",
       "next": "933950fe-96df-11e9-8b94-e0d55ea40caf",
       "previous": "4baeeaac-96df-11e9-8b94-e0d55ea40caf"
      },
      {
       "current": "4baeeaac-96df-11e9-8b94-e0d55ea40caf",
       "next": "933950fe-96df-11e9-8b94-e0d55ea40caf",
       "previous": "4baeeaac-96df-11e9-8b94-e0d55ea40caf"
      },
      {
       "current": "4baeeaac-96df-11e9-8b94-e0d55ea40caf",
       "next": "933950fe-96df-11e9-8b94-e0d55ea40caf",
       "previous": "4baeeaac-96df-11e9-8b94-e0d55ea40caf"
      },
      {
       "current": "4baeeaac-96df-11e9-8b94-e0d55ea40caf",
       "next": "933950fe-96df-11e9-8b94-e0d55ea40caf",
       "previous": "4baeeaac-96df-11e9-8b94-e0d55ea40caf"
      },
      {
       "current": "4baeeaac-96df-11e9-8b94-e0d55ea40caf",
       "next": "933950fe-96df-11e9-8b94-e0d55ea40caf",
       "previous": "4baeeaac-96df-11e9-8b94-e0d55ea40caf"
      },
      {
       "current": "4baeeaac-96df-11e9-8b94-e0d55ea40caf",
       "next": "933950fe-96df-11e9-8b94-e0d55ea40caf",
       "previous": "4baeeaac-96df-11e9-8b94-e0d55ea40caf"
      },
      {
       "current": "4baeeaac-96df-11e9-8b94-e0d55ea40caf",
       "next": "933950fe-96df-11e9-8b94-e0d55ea40caf",
       "previous": "4baeeaac-96df-11e9-8b94-e0d55ea40caf"
      },
      {
       "current": "4baeeaac-96df-11e9-8b94-e0d55ea40caf",
       "next": "933950fe-96df-11e9-8b94-e0d55ea40caf",
       "previous": "4baeeaac-96df-11e9-8b94-e0d55ea40caf"
      },
      {
       "current": "4baeeaac-96df-11e9-8b94-e0d55ea40caf",
       "next": "933950fe-96df-11e9-8b94-e0d55ea40caf",
       "previous": "4baeeaac-96df-11e9-8b94-e0d55ea40caf"
      },
      {
       "current": "4baeeaac-96df-11e9-8b94-e0d55ea40caf",
       "next": "4baeeaac-96df-11e9-8b94-e0d55ea40caf",
       "previous": "4baeeaab-96df-11e9-8b94-e0d55ea40caf"
      },
      {
       "current": "b38b6eca-96e2-11e9-893e-02420a010063",
       "next": "b38b6fc4-96e2-11e9-893e-02420a010063",
       "previous": "b38b6de4-96e2-11e9-893e-02420a010063"
      },
      {
       "current": "224dae9e-fae4-11e9-ad73-02420a01004a",
       "next": "224db074-fae4-11e9-ad73-02420a01004a",
       "previous": "224dacdc-fae4-11e9-ad73-02420a01004a"
      }
     ],
     "next": "7daad080-216f-11ea-8205-02420a0104c6",
     "previous": "7daace28-216f-11ea-8205-02420a0104c6"
    }
   },
   "source": [
    "学籍番号：　　　　　　　　　　　氏名："
   ]
  },
  {
   "cell_type": "markdown",
   "metadata": {
    "lc_cell_meme": {
     "current": "7daad080-216f-11ea-8205-02420a0104c6",
     "history": [
      {
       "current": "4baeeaac-96df-11e9-8b94-e0d55ea40caf",
       "next": "efa662f7-96de-11e9-8b94-e0d55ea40caf",
       "previous": "4baeeaab-96df-11e9-8b94-e0d55ea40caf"
      },
      {
       "current": "4baeeaac-96df-11e9-8b94-e0d55ea40caf",
       "next": "efa662f7-96de-11e9-8b94-e0d55ea40caf",
       "previous": "4baeeaab-96df-11e9-8b94-e0d55ea40caf"
      },
      {
       "current": "4baeeaac-96df-11e9-8b94-e0d55ea40caf",
       "next": "933950fe-96df-11e9-8b94-e0d55ea40caf",
       "previous": "4baeeaac-96df-11e9-8b94-e0d55ea40caf"
      },
      {
       "current": "4baeeaac-96df-11e9-8b94-e0d55ea40caf",
       "next": "933950fe-96df-11e9-8b94-e0d55ea40caf",
       "previous": "4baeeaac-96df-11e9-8b94-e0d55ea40caf"
      },
      {
       "current": "4baeeaac-96df-11e9-8b94-e0d55ea40caf",
       "next": "933950fe-96df-11e9-8b94-e0d55ea40caf",
       "previous": "4baeeaac-96df-11e9-8b94-e0d55ea40caf"
      },
      {
       "current": "4baeeaac-96df-11e9-8b94-e0d55ea40caf",
       "next": "933950fe-96df-11e9-8b94-e0d55ea40caf",
       "previous": "4baeeaac-96df-11e9-8b94-e0d55ea40caf"
      },
      {
       "current": "4baeeaac-96df-11e9-8b94-e0d55ea40caf",
       "next": "933950fe-96df-11e9-8b94-e0d55ea40caf",
       "previous": "4baeeaac-96df-11e9-8b94-e0d55ea40caf"
      },
      {
       "current": "4baeeaac-96df-11e9-8b94-e0d55ea40caf",
       "next": "933950fe-96df-11e9-8b94-e0d55ea40caf",
       "previous": "4baeeaac-96df-11e9-8b94-e0d55ea40caf"
      },
      {
       "current": "4baeeaac-96df-11e9-8b94-e0d55ea40caf",
       "next": "933950fe-96df-11e9-8b94-e0d55ea40caf",
       "previous": "4baeeaac-96df-11e9-8b94-e0d55ea40caf"
      },
      {
       "current": "4baeeaac-96df-11e9-8b94-e0d55ea40caf",
       "next": "933950fe-96df-11e9-8b94-e0d55ea40caf",
       "previous": "4baeeaac-96df-11e9-8b94-e0d55ea40caf"
      },
      {
       "current": "4baeeaac-96df-11e9-8b94-e0d55ea40caf",
       "next": "933950fe-96df-11e9-8b94-e0d55ea40caf",
       "previous": "4baeeaac-96df-11e9-8b94-e0d55ea40caf"
      },
      {
       "current": "4baeeaac-96df-11e9-8b94-e0d55ea40caf",
       "next": "933950fe-96df-11e9-8b94-e0d55ea40caf",
       "previous": "4baeeaac-96df-11e9-8b94-e0d55ea40caf"
      },
      {
       "current": "b38b6fc4-96e2-11e9-893e-02420a010063",
       "next": "b38b7118-96e2-11e9-893e-02420a010063",
       "previous": "b38b6eca-96e2-11e9-893e-02420a010063"
      },
      {
       "current": "b38b6fc4-96e2-11e9-893e-02420a010063",
       "next": "b38b730c-96e2-11e9-893e-02420a010063",
       "previous": "b38b6eca-96e2-11e9-893e-02420a010063"
      },
      {
       "current": "224db074-fae4-11e9-ad73-02420a01004a",
       "next": "224db218-fae4-11e9-ad73-02420a01004a",
       "previous": "224dae9e-fae4-11e9-ad73-02420a01004a"
      }
     ],
     "next": "7daad1de-216f-11ea-8205-02420a0104c6",
     "previous": "7daacf7c-216f-11ea-8205-02420a0104c6"
    }
   },
   "source": [
    "【進め方の注意】\n",
    "\n",
    "- 文章を読んで、教科書や演習を確認しながら、自分で進めてください。\n",
    "- 回答が終わったら、Notebookを保存してください。\n",
    "\n",
    "【注意事項】\n",
    "- この課題は、単位認定のための点数としてカウントします。また、グループ学習の対象です。\n",
    "- グループ内の全員が課題を終了した場合に限り、提出後に退室して構いません。"
   ]
  },
  {
   "cell_type": "markdown",
   "metadata": {
    "lc_cell_meme": {
     "current": "7daad1de-216f-11ea-8205-02420a0104c6",
     "history": [
      {
       "current": "93395100-96df-11e9-8b94-e0d55ea40caf",
       "next": "efa662f7-96de-11e9-8b94-e0d55ea40caf",
       "previous": "933950ff-96df-11e9-8b94-e0d55ea40caf"
      },
      {
       "current": "b38b730c-96e2-11e9-893e-02420a010063",
       "next": "b38b73a2-96e2-11e9-893e-02420a010063",
       "previous": "b38b723a-96e2-11e9-893e-02420a010063"
      },
      {
       "current": "b38b730c-96e2-11e9-893e-02420a010063",
       "next": "b38b730c-96e2-11e9-893e-02420a010063",
       "previous": "b38b6fc4-96e2-11e9-893e-02420a010063"
      },
      {
       "current": "224db218-fae4-11e9-ad73-02420a01004a",
       "next": "224db43e-fae4-11e9-ad73-02420a01004a",
       "previous": "224db074-fae4-11e9-ad73-02420a01004a"
      },
      {
       "current": "224db218-fae4-11e9-ad73-02420a01004a",
       "next": "1770cb40-216e-11ea-8429-02420a0104c6",
       "previous": "224db074-fae4-11e9-ad73-02420a01004a"
      }
     ],
     "next": "7daad300-216f-11ea-8205-02420a0104c6",
     "previous": "7daad080-216f-11ea-8205-02420a0104c6"
    }
   },
   "source": [
    "## 課題：探索"
   ]
  },
  {
   "cell_type": "markdown",
   "metadata": {
    "lc_cell_meme": {
     "current": "7daad300-216f-11ea-8205-02420a0104c6",
     "history": [
      {
       "current": "1770cb40-216e-11ea-8429-02420a0104c6",
       "next": "1770cdb6-216e-11ea-8429-02420a0104c6",
       "previous": "224db218-fae4-11e9-ad73-02420a01004a"
      }
     ],
     "next": "7daad3fa-216f-11ea-8205-02420a0104c6",
     "previous": "7daad1de-216f-11ea-8205-02420a0104c6"
    }
   },
   "source": [
    "53枚のトランプカードを作成します。"
   ]
  },
  {
   "cell_type": "code",
   "execution_count": null,
   "metadata": {
    "lc_cell_meme": {
     "current": "7daad3fa-216f-11ea-8205-02420a0104c6",
     "history": [
      {
       "current": "1770cdb6-216e-11ea-8429-02420a0104c6",
       "next": "224db43e-fae4-11e9-ad73-02420a01004a",
       "previous": "1770cb40-216e-11ea-8429-02420a0104c6"
      }
     ],
     "next": "7daad512-216f-11ea-8205-02420a0104c6",
     "previous": "7daad300-216f-11ea-8205-02420a0104c6"
    },
    "lc_wrapper": {
     "log_history": [
      "/home/16999405x4b0807/12a/.log/20191218/20191218-171043-0887.log",
      "/home/16999405x4b0807/12a/.log/20191220/20191220-213010-0781.log",
      "/home/16999405x4b0807/12a/.log/20191220/20191220-213016-0724.log",
      "/home/16999405x4b0807/12a/.log/20191220/20191220-213031-0773.log",
      "/home/16999405x4b0807/12a/.log/20191220/20191220-213601-0547.log"
     ]
    }
   },
   "outputs": [],
   "source": [
    "# このセルを評価すること\n",
    "cards = [\n",
    "    \"H01\", \"H02\", \"H03\", \"H04\", \"H05\", \"H06\", \"H07\", \"H08\", \"H09\", \"H10\", \"H11\", \"H12\", \"H13\",\n",
    "    \"S01\", \"S02\", \"S03\", \"S04\", \"S05\", \"S06\", \"S07\", \"S08\", \"S09\", \"S10\", \"S11\", \"S12\", \"S13\",\n",
    "    \"C01\", \"C02\", \"C03\", \"C04\", \"C05\", \"C06\", \"C07\", \"C08\", \"C09\", \"C10\", \"C11\", \"C12\", \"C13\",\n",
    "    \"D01\", \"D02\", \"D03\", \"D04\", \"D05\", \"D06\", \"D07\", \"D08\", \"D09\", \"D10\", \"D11\", \"D12\", \"D13\",\n",
    "    \"J\"\n",
    "]"
   ]
  },
  {
   "cell_type": "markdown",
   "metadata": {
    "lc_cell_meme": {
     "current": "7daad512-216f-11ea-8205-02420a0104c6",
     "history": [
      {
       "current": "93395100-96df-11e9-8b94-e0d55ea40caf",
       "next": "efa662f7-96de-11e9-8b94-e0d55ea40caf",
       "previous": "933950ff-96df-11e9-8b94-e0d55ea40caf"
      },
      {
       "current": "b38b730c-96e2-11e9-893e-02420a010063",
       "next": "b38b73a2-96e2-11e9-893e-02420a010063",
       "previous": "b38b723a-96e2-11e9-893e-02420a010063"
      },
      {
       "current": "b38b730c-96e2-11e9-893e-02420a010063",
       "next": "179a8732-fa36-11e9-bc54-02420a010e28",
       "previous": "b38b730c-96e2-11e9-893e-02420a010063"
      },
      {
       "current": "224db43e-fae4-11e9-ad73-02420a01004a",
       "next": "224db5ce-fae4-11e9-ad73-02420a01004a",
       "previous": "224db218-fae4-11e9-ad73-02420a01004a"
      },
      {
       "current": "224db43e-fae4-11e9-ad73-02420a01004a",
       "next": "1770ce9c-216e-11ea-8429-02420a0104c6",
       "previous": "1770cdb6-216e-11ea-8429-02420a0104c6"
      }
     ],
     "next": "7daad60c-216f-11ea-8205-02420a0104c6",
     "previous": "7daad3fa-216f-11ea-8205-02420a0104c6"
    }
   },
   "source": [
    "### 準備：カードリストの作成"
   ]
  },
  {
   "cell_type": "markdown",
   "metadata": {
    "lc_cell_meme": {
     "current": "7daad60c-216f-11ea-8205-02420a0104c6",
     "history": [
      {
       "current": "1770ce9c-216e-11ea-8429-02420a0104c6",
       "next": "224db74a-fae4-11e9-ad73-02420a01004a",
       "previous": "224db43e-fae4-11e9-ad73-02420a01004a"
      }
     ],
     "next": "7daad72e-216f-11ea-8205-02420a0104c6",
     "previous": "7daad512-216f-11ea-8205-02420a0104c6"
    }
   },
   "source": [
    "まず、`ramdom`モジュールをインポートしなさい。そして、関数`random.sample( )`を使って25枚のカードからなるカードのリスト`l`を作成し、関数`print( )`を用いて`l`を表示しなさい。"
   ]
  },
  {
   "cell_type": "code",
   "execution_count": null,
   "metadata": {
    "lc_cell_meme": {
     "current": "7daad72e-216f-11ea-8205-02420a0104c6",
     "history": [
      {
       "current": "179a8a3e-fa36-11e9-bc54-02420a010e28",
       "next": "179a8b74-fa36-11e9-bc54-02420a010e28",
       "previous": "179a8732-fa36-11e9-bc54-02420a010e28"
      },
      {
       "current": "224db74a-fae4-11e9-ad73-02420a01004a",
       "next": "224db8bc-fae4-11e9-ad73-02420a01004a",
       "previous": "224db5ce-fae4-11e9-ad73-02420a01004a"
      },
      {
       "current": "224db74a-fae4-11e9-ad73-02420a01004a",
       "next": "224db8bc-fae4-11e9-ad73-02420a01004a",
       "previous": "1770ce9c-216e-11ea-8429-02420a0104c6"
      },
      {
       "current": "7daad72e-216f-11ea-8205-02420a0104c6",
       "next": "7daad8f0-216f-11ea-8205-02420a0104c6",
       "previous": "7daad60c-216f-11ea-8205-02420a0104c6"
      }
     ],
     "next": "7daada12-216f-11ea-8205-02420a0104c6",
     "previous": "7daad60c-216f-11ea-8205-02420a0104c6"
    }
   },
   "outputs": [],
   "source": [
    "# 課題用入力欄\n"
   ]
  },
  {
   "cell_type": "markdown",
   "metadata": {
    "lc_cell_meme": {
     "current": "7daada12-216f-11ea-8205-02420a0104c6",
     "history": [
      {
       "current": "1770cf64-216e-11ea-8429-02420a0104c6",
       "next": "1770d018-216e-11ea-8429-02420a0104c6",
       "previous": "224db8bc-fae4-11e9-ad73-02420a01004a"
      },
      {
       "current": "7daada12-216f-11ea-8205-02420a0104c6",
       "next": "7daadb0c-216f-11ea-8205-02420a0104c6",
       "previous": "7daad8f0-216f-11ea-8205-02420a0104c6"
      }
     ],
     "next": "7daadb0c-216f-11ea-8205-02420a0104c6",
     "previous": "7daad72e-216f-11ea-8205-02420a0104c6"
    }
   },
   "source": [
    "<font size=\"2\" color=\"blue\">ヒント：リスト`l`にジョーカー`\"J\"`が含まれているかどうかをを確認しなさい。</font>"
   ]
  },
  {
   "cell_type": "markdown",
   "metadata": {
    "lc_cell_meme": {
     "current": "7daadb0c-216f-11ea-8205-02420a0104c6",
     "history": [
      {
       "current": "1770d018-216e-11ea-8429-02420a0104c6",
       "next": "1770d0d6-216e-11ea-8429-02420a0104c6",
       "previous": "1770cf64-216e-11ea-8429-02420a0104c6"
      }
     ],
     "next": "7daadc24-216f-11ea-8205-02420a0104c6",
     "previous": "7daada12-216f-11ea-8205-02420a0104c6"
    }
   },
   "source": [
    "`sort( )`を用いてリスト`l`をソートし、関数`print( )`を使って表示しなさい。\n",
    "\n",
    "`index( )`を用いると、`'J'`のインデックスを調べることができます。なお、リスト`l`に`'J'`が含まれていない場合は、エラー（`ValueError: 'J' is not in list`）が発生します。"
   ]
  },
  {
   "cell_type": "code",
   "execution_count": null,
   "metadata": {
    "lc_cell_meme": {
     "current": "7daadc24-216f-11ea-8205-02420a0104c6",
     "history": [
      {
       "current": "1770d0d6-216e-11ea-8429-02420a0104c6",
       "next": "1770d3b0-216e-11ea-8429-02420a0104c6",
       "previous": "1770d018-216e-11ea-8429-02420a0104c6"
      }
     ],
     "next": "7daadd1e-216f-11ea-8205-02420a0104c6",
     "previous": "7daadb0c-216f-11ea-8205-02420a0104c6"
    },
    "lc_wrapper": {
     "log_history": [
      "/home/16999405x4b0807/12a/.log/20191218/20191218-171134-0456.log",
      "/home/16999405x4b0807/12a/.log/20191220/20191220-213037-0991.log",
      "/home/16999405x4b0807/12a/.log/20191220/20191220-213056-0972.log",
      "/home/16999405x4b0807/12a/.log/20191220/20191220-213613-0815.log"
     ]
    },
    "scrolled": true
   },
   "outputs": [],
   "source": [
    "# このセルを評価すること\n",
    "l.sort()\n",
    "print(l)\n",
    "l.index('J')"
   ]
  },
  {
   "cell_type": "markdown",
   "metadata": {
    "lc_cell_meme": {
     "current": "7daadd1e-216f-11ea-8205-02420a0104c6",
     "history": [
      {
       "current": "1770d3b0-216e-11ea-8429-02420a0104c6",
       "next": "224dba06-fae4-11e9-ad73-02420a01004a",
       "previous": "1770d0d6-216e-11ea-8429-02420a0104c6"
      }
     ],
     "next": "7daade2c-216f-11ea-8205-02420a0104c6",
     "previous": "7daadc24-216f-11ea-8205-02420a0104c6"
    }
   },
   "source": [
    "<font size=\"2\" color=\"blue\">ヒント：リスト`l`と照らし合わして、ジョーカー`\"J\"`のインデックス、あるいは、`ValueError: 'J' is not in list`が出力されることを確認しなさい。</font>"
   ]
  },
  {
   "cell_type": "markdown",
   "metadata": {
    "lc_cell_meme": {
     "current": "7daade2c-216f-11ea-8205-02420a0104c6",
     "history": [
      {
       "current": "93395100-96df-11e9-8b94-e0d55ea40caf",
       "next": "efa662f7-96de-11e9-8b94-e0d55ea40caf",
       "previous": "933950ff-96df-11e9-8b94-e0d55ea40caf"
      },
      {
       "current": "b38b730c-96e2-11e9-893e-02420a010063",
       "next": "b38b73a2-96e2-11e9-893e-02420a010063",
       "previous": "b38b723a-96e2-11e9-893e-02420a010063"
      },
      {
       "current": "b38b730c-96e2-11e9-893e-02420a010063",
       "next": "179a8c8c-fa36-11e9-bc54-02420a010e28",
       "previous": "179a8b74-fa36-11e9-bc54-02420a010e28"
      },
      {
       "current": "224dba06-fae4-11e9-ad73-02420a01004a",
       "next": "224dbb50-fae4-11e9-ad73-02420a01004a",
       "previous": "224db8bc-fae4-11e9-ad73-02420a01004a"
      },
      {
       "current": "224dba06-fae4-11e9-ad73-02420a01004a",
       "next": "224dbb50-fae4-11e9-ad73-02420a01004a",
       "previous": "1770d3b0-216e-11ea-8429-02420a0104c6"
      }
     ],
     "next": "7daadf26-216f-11ea-8205-02420a0104c6",
     "previous": "7daadd1e-216f-11ea-8205-02420a0104c6"
    }
   },
   "source": [
    "### 課題1：線形探索"
   ]
  },
  {
   "cell_type": "markdown",
   "metadata": {
    "lc_cell_meme": {
     "current": "7daadf26-216f-11ea-8205-02420a0104c6",
     "history": [
      {
       "current": "179a8c8c-fa36-11e9-bc54-02420a010e28",
       "next": "179a8d9a-fa36-11e9-bc54-02420a010e28",
       "previous": "b38b730c-96e2-11e9-893e-02420a010063"
      },
      {
       "current": "224dbb50-fae4-11e9-ad73-02420a01004a",
       "next": "224dbccc-fae4-11e9-ad73-02420a01004a",
       "previous": "224dba06-fae4-11e9-ad73-02420a01004a"
      }
     ],
     "next": "7daae034-216f-11ea-8205-02420a0104c6",
     "previous": "7daade2c-216f-11ea-8205-02420a0104c6"
    }
   },
   "source": [
    "線形探索によってリスト`l`からジョーカー`\"J\"`を探し、`\"J\"`が見つかったときは`\"J\"`のインデックスを、`\"J\"`が見つからないときは`-1`を返す関数を作成しなさい。"
   ]
  },
  {
   "cell_type": "code",
   "execution_count": null,
   "metadata": {
    "lc_cell_meme": {
     "current": "7daae034-216f-11ea-8205-02420a0104c6",
     "history": [
      {
       "current": "179a8d9a-fa36-11e9-bc54-02420a010e28",
       "next": "179a8e94-fa36-11e9-bc54-02420a010e28",
       "previous": "179a8c8c-fa36-11e9-bc54-02420a010e28"
      },
      {
       "current": "224dbccc-fae4-11e9-ad73-02420a01004a",
       "next": "224dbe34-fae4-11e9-ad73-02420a01004a",
       "previous": "224dbb50-fae4-11e9-ad73-02420a01004a"
      },
      {
       "current": "7daae034-216f-11ea-8205-02420a0104c6",
       "next": "7daae12e-216f-11ea-8205-02420a0104c6",
       "previous": "7daadf26-216f-11ea-8205-02420a0104c6"
      }
     ],
     "next": "7daae246-216f-11ea-8205-02420a0104c6",
     "previous": "7daadf26-216f-11ea-8205-02420a0104c6"
    }
   },
   "outputs": [],
   "source": [
    "# 課題入力欄\n"
   ]
  },
  {
   "cell_type": "markdown",
   "metadata": {
    "lc_cell_meme": {
     "current": "7daae246-216f-11ea-8205-02420a0104c6",
     "history": [
      {
       "current": "179a8c8c-fa36-11e9-bc54-02420a010e28",
       "next": "179a8d9a-fa36-11e9-bc54-02420a010e28",
       "previous": "b38b730c-96e2-11e9-893e-02420a010063"
      },
      {
       "current": "224dbb50-fae4-11e9-ad73-02420a01004a",
       "next": "224dbccc-fae4-11e9-ad73-02420a01004a",
       "previous": "224dba06-fae4-11e9-ad73-02420a01004a"
      },
      {
       "current": "224dbb50-fae4-11e9-ad73-02420a01004a",
       "next": "224dbccc-fae4-11e9-ad73-02420a01004a",
       "previous": "224dbe34-fae4-11e9-ad73-02420a01004a"
      },
      {
       "current": "7daae246-216f-11ea-8205-02420a0104c6",
       "next": "7daae340-216f-11ea-8205-02420a0104c6",
       "previous": "7daae12e-216f-11ea-8205-02420a0104c6"
      }
     ],
     "next": "7daae340-216f-11ea-8205-02420a0104c6",
     "previous": "7daae034-216f-11ea-8205-02420a0104c6"
    }
   },
   "source": [
    "作成した関数を呼び出して戻り値を表示し、その値がジョーカー`\"J\"`のインデックス、あるいは、`-1`であることを確認しなさい。"
   ]
  },
  {
   "cell_type": "code",
   "execution_count": null,
   "metadata": {
    "lc_cell_meme": {
     "current": "7daae340-216f-11ea-8205-02420a0104c6",
     "history": [
      {
       "current": "179a8d9a-fa36-11e9-bc54-02420a010e28",
       "next": "179a8e94-fa36-11e9-bc54-02420a010e28",
       "previous": "179a8c8c-fa36-11e9-bc54-02420a010e28"
      },
      {
       "current": "224dbccc-fae4-11e9-ad73-02420a01004a",
       "next": "224dbe34-fae4-11e9-ad73-02420a01004a",
       "previous": "224dbb50-fae4-11e9-ad73-02420a01004a"
      },
      {
       "current": "7daae340-216f-11ea-8205-02420a0104c6",
       "next": "7daae430-216f-11ea-8205-02420a0104c6",
       "previous": "7daae246-216f-11ea-8205-02420a0104c6"
      }
     ],
     "next": "7daae52a-216f-11ea-8205-02420a0104c6",
     "previous": "7daae246-216f-11ea-8205-02420a0104c6"
    }
   },
   "outputs": [],
   "source": [
    "# 課題入力欄\n"
   ]
  },
  {
   "cell_type": "markdown",
   "metadata": {
    "lc_cell_meme": {
     "current": "7daae52a-216f-11ea-8205-02420a0104c6",
     "history": [
      {
       "current": "1770d48c-216e-11ea-8429-02420a0104c6",
       "next": "224dba06-fae4-11e9-ad73-02420a01004a",
       "previous": "224dbe34-fae4-11e9-ad73-02420a01004a"
      },
      {
       "current": "7daae52a-216f-11ea-8205-02420a0104c6",
       "next": "7daae656-216f-11ea-8205-02420a0104c6",
       "previous": "7daae430-216f-11ea-8205-02420a0104c6"
      }
     ],
     "next": "7daae656-216f-11ea-8205-02420a0104c6",
     "previous": "7daae340-216f-11ea-8205-02420a0104c6"
    }
   },
   "source": [
    "<font size=\"2\" color=\"blue\">ヒント：準備での`l.index('J')`の出力と合致している（`\"J\"`のインデックス、または、`-1`である）ことを確認しなさい。</font>"
   ]
  },
  {
   "cell_type": "markdown",
   "metadata": {
    "lc_cell_meme": {
     "current": "7daae656-216f-11ea-8205-02420a0104c6",
     "history": [
      {
       "current": "93395100-96df-11e9-8b94-e0d55ea40caf",
       "next": "efa662f7-96de-11e9-8b94-e0d55ea40caf",
       "previous": "933950ff-96df-11e9-8b94-e0d55ea40caf"
      },
      {
       "current": "b38b730c-96e2-11e9-893e-02420a010063",
       "next": "b38b73a2-96e2-11e9-893e-02420a010063",
       "previous": "b38b723a-96e2-11e9-893e-02420a010063"
      },
      {
       "current": "b38b730c-96e2-11e9-893e-02420a010063",
       "next": "179a8c8c-fa36-11e9-bc54-02420a010e28",
       "previous": "179a8b74-fa36-11e9-bc54-02420a010e28"
      },
      {
       "current": "224dba06-fae4-11e9-ad73-02420a01004a",
       "next": "224dbb50-fae4-11e9-ad73-02420a01004a",
       "previous": "224db8bc-fae4-11e9-ad73-02420a01004a"
      },
      {
       "current": "224dba06-fae4-11e9-ad73-02420a01004a",
       "next": "224dbb50-fae4-11e9-ad73-02420a01004a",
       "previous": "1770d48c-216e-11ea-8429-02420a0104c6"
      }
     ],
     "next": "7daae7dc-216f-11ea-8205-02420a0104c6",
     "previous": "7daae52a-216f-11ea-8205-02420a0104c6"
    }
   },
   "source": [
    "### 課題2：二分探索"
   ]
  },
  {
   "cell_type": "markdown",
   "metadata": {
    "lc_cell_meme": {
     "current": "7daae7dc-216f-11ea-8205-02420a0104c6",
     "history": [
      {
       "current": "179a8c8c-fa36-11e9-bc54-02420a010e28",
       "next": "179a8d9a-fa36-11e9-bc54-02420a010e28",
       "previous": "b38b730c-96e2-11e9-893e-02420a010063"
      },
      {
       "current": "224dbb50-fae4-11e9-ad73-02420a01004a",
       "next": "224dbccc-fae4-11e9-ad73-02420a01004a",
       "previous": "224dba06-fae4-11e9-ad73-02420a01004a"
      }
     ],
     "next": "7daae8e0-216f-11ea-8205-02420a0104c6",
     "previous": "7daae656-216f-11ea-8205-02420a0104c6"
    }
   },
   "source": [
    "二分探索によってリスト`l`からジョーカー`\"J\"`を探し、`\"J\"`が見つかったときは`\"J\"`のインデックスを、`\"J\"`が見つからないときは`-1`を返す関数を作成しなさい。"
   ]
  },
  {
   "cell_type": "code",
   "execution_count": null,
   "metadata": {
    "lc_cell_meme": {
     "current": "7daae8e0-216f-11ea-8205-02420a0104c6",
     "history": [
      {
       "current": "179a8d9a-fa36-11e9-bc54-02420a010e28",
       "next": "179a8e94-fa36-11e9-bc54-02420a010e28",
       "previous": "179a8c8c-fa36-11e9-bc54-02420a010e28"
      },
      {
       "current": "224dbccc-fae4-11e9-ad73-02420a01004a",
       "next": "224dbe34-fae4-11e9-ad73-02420a01004a",
       "previous": "224dbb50-fae4-11e9-ad73-02420a01004a"
      },
      {
       "current": "7daae8e0-216f-11ea-8205-02420a0104c6",
       "next": "7daae9da-216f-11ea-8205-02420a0104c6",
       "previous": "7daae7dc-216f-11ea-8205-02420a0104c6"
      }
     ],
     "next": "7daaeaca-216f-11ea-8205-02420a0104c6",
     "previous": "7daae7dc-216f-11ea-8205-02420a0104c6"
    }
   },
   "outputs": [],
   "source": [
    "# 課題入力欄\n"
   ]
  },
  {
   "cell_type": "markdown",
   "metadata": {
    "lc_cell_meme": {
     "current": "7daaeaca-216f-11ea-8205-02420a0104c6",
     "history": [
      {
       "current": "179a8c8c-fa36-11e9-bc54-02420a010e28",
       "next": "179a8d9a-fa36-11e9-bc54-02420a010e28",
       "previous": "b38b730c-96e2-11e9-893e-02420a010063"
      },
      {
       "current": "224dbb50-fae4-11e9-ad73-02420a01004a",
       "next": "224dbccc-fae4-11e9-ad73-02420a01004a",
       "previous": "224dba06-fae4-11e9-ad73-02420a01004a"
      },
      {
       "current": "224dbb50-fae4-11e9-ad73-02420a01004a",
       "next": "224dbccc-fae4-11e9-ad73-02420a01004a",
       "previous": "224dbe34-fae4-11e9-ad73-02420a01004a"
      },
      {
       "current": "7daaeaca-216f-11ea-8205-02420a0104c6",
       "next": "7daaebe2-216f-11ea-8205-02420a0104c6",
       "previous": "7daae9da-216f-11ea-8205-02420a0104c6"
      }
     ],
     "next": "7daaebe2-216f-11ea-8205-02420a0104c6",
     "previous": "7daae8e0-216f-11ea-8205-02420a0104c6"
    }
   },
   "source": [
    "作成した関数を呼び出して戻り値を表示し、その値がジョーカー`\"J\"`のインデックス、あるいは、`-1`であることを確認しなさい。"
   ]
  },
  {
   "cell_type": "code",
   "execution_count": null,
   "metadata": {
    "lc_cell_meme": {
     "current": "7daaebe2-216f-11ea-8205-02420a0104c6",
     "history": [
      {
       "current": "179a8d9a-fa36-11e9-bc54-02420a010e28",
       "next": "179a8e94-fa36-11e9-bc54-02420a010e28",
       "previous": "179a8c8c-fa36-11e9-bc54-02420a010e28"
      },
      {
       "current": "224dbccc-fae4-11e9-ad73-02420a01004a",
       "next": "224dbe34-fae4-11e9-ad73-02420a01004a",
       "previous": "224dbb50-fae4-11e9-ad73-02420a01004a"
      },
      {
       "current": "7daaebe2-216f-11ea-8205-02420a0104c6",
       "next": "7daaecd2-216f-11ea-8205-02420a0104c6",
       "previous": "7daaeaca-216f-11ea-8205-02420a0104c6"
      }
     ],
     "next": "7daaedc2-216f-11ea-8205-02420a0104c6",
     "previous": "7daaeaca-216f-11ea-8205-02420a0104c6"
    }
   },
   "outputs": [],
   "source": [
    "# 課題入力欄\n"
   ]
  },
  {
   "cell_type": "markdown",
   "metadata": {
    "lc_cell_meme": {
     "current": "7daaedc2-216f-11ea-8205-02420a0104c6",
     "history": [
      {
       "current": "1770d554-216e-11ea-8429-02420a0104c6",
       "next": "224dcb5e-fae4-11e9-ad73-02420a01004a",
       "previous": "224dbe34-fae4-11e9-ad73-02420a01004a"
      },
      {
       "current": "7daaedc2-216f-11ea-8205-02420a0104c6",
       "next": "7daaeeb2-216f-11ea-8205-02420a0104c6",
       "previous": "7daaecd2-216f-11ea-8205-02420a0104c6"
      }
     ],
     "next": "7daaeeb2-216f-11ea-8205-02420a0104c6",
     "previous": "7daaebe2-216f-11ea-8205-02420a0104c6"
    }
   },
   "source": [
    "<font size=\"2\" color=\"blue\">ヒント：準備での`l.index('J')`の出力と合致している（`\"J\"`のインデックス、または、`-1`である）ことを確認しなさい。</font>"
   ]
  },
  {
   "cell_type": "markdown",
   "metadata": {
    "lc_cell_meme": {
     "current": "7daaeeb2-216f-11ea-8205-02420a0104c6",
     "history": [
      {
       "current": "179a9196-fa36-11e9-bc54-02420a010e28",
       "next": "179a929a-fa36-11e9-bc54-02420a010e28",
       "previous": "b38b74d8-96e2-11e9-893e-02420a010063"
      },
      {
       "current": "224dcb5e-fae4-11e9-ad73-02420a01004a",
       "next": "224dcca8-fae4-11e9-ad73-02420a01004a",
       "previous": "224dc9e2-fae4-11e9-ad73-02420a01004a"
      },
      {
       "current": "224dcb5e-fae4-11e9-ad73-02420a01004a",
       "next": "224dcca8-fae4-11e9-ad73-02420a01004a",
       "previous": "1770d554-216e-11ea-8429-02420a0104c6"
      }
     ],
     "next": "7daaefa2-216f-11ea-8205-02420a0104c6",
     "previous": "7daaedc2-216f-11ea-8205-02420a0104c6"
    }
   },
   "source": [
    "# 課題は以上で終わりです。"
   ]
  },
  {
   "cell_type": "markdown",
   "metadata": {
    "lc_cell_meme": {
     "current": "7daaefa2-216f-11ea-8205-02420a0104c6",
     "history": [
      {
       "current": "179a929a-fa36-11e9-bc54-02420a010e28",
       "next": "179a939e-fa36-11e9-bc54-02420a010e28",
       "previous": "179a9196-fa36-11e9-bc54-02420a010e28"
      },
      {
       "current": "224dcca8-fae4-11e9-ad73-02420a01004a",
       "next": "224dcf1e-fae4-11e9-ad73-02420a01004a",
       "previous": "224dcb5e-fae4-11e9-ad73-02420a01004a"
      }
     ],
     "next": "7daaf092-216f-11ea-8205-02420a0104c6",
     "previous": "7daaeeb2-216f-11ea-8205-02420a0104c6"
    }
   },
   "source": [
    "## 評価結果"
   ]
  },
  {
   "cell_type": "code",
   "execution_count": null,
   "metadata": {
    "lc_cell_meme": {
     "current": "7daaf092-216f-11ea-8205-02420a0104c6",
     "history": [
      {
       "current": "179a939e-fa36-11e9-bc54-02420a010e28",
       "next": "179a9498-fa36-11e9-bc54-02420a010e28",
       "previous": "179a929a-fa36-11e9-bc54-02420a010e28"
      },
      {
       "current": "224dcf1e-fae4-11e9-ad73-02420a01004a",
       "next": "224dd0a4-fae4-11e9-ad73-02420a01004a",
       "previous": "224dcca8-fae4-11e9-ad73-02420a01004a"
      }
     ],
     "next": "7daaf182-216f-11ea-8205-02420a0104c6",
     "previous": "7daaefa2-216f-11ea-8205-02420a0104c6"
    }
   },
   "outputs": [],
   "source": []
  },
  {
   "cell_type": "markdown",
   "metadata": {
    "lc_cell_meme": {
     "current": "7daaf182-216f-11ea-8205-02420a0104c6",
     "history": [
      {
       "current": "179a9498-fa36-11e9-bc54-02420a010e28",
       "next": "179a9592-fa36-11e9-bc54-02420a010e28",
       "previous": "179a939e-fa36-11e9-bc54-02420a010e28"
      },
      {
       "current": "224dd0a4-fae4-11e9-ad73-02420a01004a",
       "next": "224dd202-fae4-11e9-ad73-02420a01004a",
       "previous": "224dcf1e-fae4-11e9-ad73-02420a01004a"
      }
     ],
     "next": "7daaf272-216f-11ea-8205-02420a0104c6",
     "previous": "7daaf092-216f-11ea-8205-02420a0104c6"
    }
   },
   "source": [
    "## コメントなど"
   ]
  },
  {
   "cell_type": "code",
   "execution_count": null,
   "metadata": {
    "lc_cell_meme": {
     "current": "7daaf272-216f-11ea-8205-02420a0104c6",
     "history": [
      {
       "current": "179a9592-fa36-11e9-bc54-02420a010e28",
       "next": null,
       "previous": "179a9498-fa36-11e9-bc54-02420a010e28"
      },
      {
       "current": "224dd202-fae4-11e9-ad73-02420a01004a",
       "next": null,
       "previous": "224dd0a4-fae4-11e9-ad73-02420a01004a"
      }
     ],
     "next": null,
     "previous": "7daaf182-216f-11ea-8205-02420a0104c6"
    }
   },
   "outputs": [],
   "source": []
  }
 ],
 "metadata": {
  "kernelspec": {
   "display_name": "Python 3",
   "language": "python",
   "name": "python3"
  },
  "language_info": {
   "file_extension": ".py",
   "mimetype": "text/x-python",
   "name": "python",
   "nbconvert_exporter": "python",
   "pygments_lexer": "ipython3",
   "version": "3.7.3"
  },
  "lc_notebook_meme": {
   "current": "7daac6e4-216f-11ea-8205-02420a0104c6",
   "history": [
    "efa662f6-96de-11e9-8b94-e0d55ea40caf",
    "b38b6614-96e2-11e9-893e-02420a010063",
    "224da282-fae4-11e9-ad73-02420a01004a"
   ],
   "lc_server_signature": {
    "current": {
     "notebook_dir": "/home/16999405x4b0807",
     "notebook_path": "/12",
     "server_url": "https://nb06.ecloud.nii.ac.jp/user/16999405x4b0807/",
     "signature_id": "9dd54594-df60-11e9-8bcf-02420a010029"
    },
    "history": [
     {
      "notebook_dir": "/home/kuwata/notebooks",
      "notebook_path": "/",
      "server_url": "http://157.19.141.8:8000/user/kuwata/",
      "signature_id": "d0abe7ae-153d-11e9-9674-e0d55ea40caf"
     },
     {
      "notebook_dir": "/home/16999405x4b0807",
      "notebook_path": "/06a",
      "server_url": "https://nb06.ecloud.nii.ac.jp/user/16999405x4b0807/",
      "signature_id": "9dd54594-df60-11e9-8bcf-02420a010029"
     },
     {
      "notebook_dir": "/home/16999405x4b0807",
      "notebook_path": "/12a",
      "server_url": "https://nb06.ecloud.nii.ac.jp/user/16999405x4b0807/",
      "signature_id": "9dd54594-df60-11e9-8bcf-02420a010029"
     }
    ]
   },
   "root_cells": [
    "7daacc66-216f-11ea-8205-02420a0104c6",
    "7daace28-216f-11ea-8205-02420a0104c6",
    "7daacf7c-216f-11ea-8205-02420a0104c6",
    "7daad080-216f-11ea-8205-02420a0104c6",
    "7daad1de-216f-11ea-8205-02420a0104c6",
    "7daad300-216f-11ea-8205-02420a0104c6",
    "7daad3fa-216f-11ea-8205-02420a0104c6",
    "7daad512-216f-11ea-8205-02420a0104c6",
    "7daad60c-216f-11ea-8205-02420a0104c6",
    "7daad72e-216f-11ea-8205-02420a0104c6",
    "7daad8f0-216f-11ea-8205-02420a0104c6",
    "7daada12-216f-11ea-8205-02420a0104c6",
    "7daadb0c-216f-11ea-8205-02420a0104c6",
    "7daadc24-216f-11ea-8205-02420a0104c6",
    "7daadd1e-216f-11ea-8205-02420a0104c6",
    "7daade2c-216f-11ea-8205-02420a0104c6",
    "7daadf26-216f-11ea-8205-02420a0104c6",
    "7daae034-216f-11ea-8205-02420a0104c6",
    "7daae12e-216f-11ea-8205-02420a0104c6",
    "7daae246-216f-11ea-8205-02420a0104c6",
    "7daae340-216f-11ea-8205-02420a0104c6",
    "7daae430-216f-11ea-8205-02420a0104c6",
    "7daae52a-216f-11ea-8205-02420a0104c6",
    "7daae656-216f-11ea-8205-02420a0104c6",
    "7daae7dc-216f-11ea-8205-02420a0104c6",
    "7daae8e0-216f-11ea-8205-02420a0104c6",
    "7daae9da-216f-11ea-8205-02420a0104c6",
    "7daaeaca-216f-11ea-8205-02420a0104c6",
    "7daaebe2-216f-11ea-8205-02420a0104c6",
    "7daaecd2-216f-11ea-8205-02420a0104c6",
    "7daaedc2-216f-11ea-8205-02420a0104c6",
    "7daaeeb2-216f-11ea-8205-02420a0104c6",
    "7daaefa2-216f-11ea-8205-02420a0104c6",
    "7daaf092-216f-11ea-8205-02420a0104c6",
    "7daaf182-216f-11ea-8205-02420a0104c6",
    "7daaf272-216f-11ea-8205-02420a0104c6"
   ]
  },
  "toc": {
   "base_numbering": 1,
   "nav_menu": {},
   "number_sections": true,
   "sideBar": true,
   "skip_h1_title": false,
   "title_cell": "Table of Contents",
   "title_sidebar": "Contents",
   "toc_cell": false,
   "toc_position": {},
   "toc_section_display": true,
   "toc_window_display": false
  }
 },
 "nbformat": 4,
 "nbformat_minor": 2
}
