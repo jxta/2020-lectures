{
 "cells": [
  {
   "cell_type": "markdown",
   "metadata": {
    "lc_cell_meme": {
     "current": "6eebdd64-216f-11ea-8ff8-02420a0104c6",
     "history": [
      {
       "current": "cebf3c91-2391-11e9-a9f8-e0d55ea40caf",
       "next": "cebf3c92-2391-11e9-a9f8-e0d55ea40caf",
       "previous": null
      },
      {
       "current": "aa7bf804-96e2-11e9-8e94-02420a010063",
       "next": "aa7bfa48-96e2-11e9-8e94-02420a010063",
       "previous": null
      },
      {
       "current": "16350e86-fae4-11e9-956e-02420a01004a",
       "next": "1635108e-fae4-11e9-956e-02420a01004a",
       "previous": null
      }
     ],
     "next": "6eebdf1c-216f-11ea-8ff8-02420a0104c6",
     "previous": null
    }
   },
   "source": [
    "# プログラミング入門\n",
    " 第12回　総合演習（3）"
   ]
  },
  {
   "cell_type": "markdown",
   "metadata": {
    "collapsed": true,
    "lc_cell_meme": {
     "current": "6eebdf1c-216f-11ea-8ff8-02420a0104c6",
     "history": [
      {
       "current": "cebf3c92-2391-11e9-a9f8-e0d55ea40caf",
       "next": "cebf3c93-2391-11e9-a9f8-e0d55ea40caf",
       "previous": "cebf3c91-2391-11e9-a9f8-e0d55ea40caf"
      },
      {
       "current": "aa7bfa48-96e2-11e9-8e94-02420a010063",
       "next": "aa7bfb7e-96e2-11e9-8e94-02420a010063",
       "previous": "aa7bf804-96e2-11e9-8e94-02420a010063"
      },
      {
       "current": "1635108e-fae4-11e9-956e-02420a01004a",
       "next": "1635121e-fae4-11e9-956e-02420a01004a",
       "previous": "16350e86-fae4-11e9-956e-02420a01004a"
      }
     ],
     "next": "6eebe052-216f-11ea-8ff8-02420a0104c6",
     "previous": "6eebdd64-216f-11ea-8ff8-02420a0104c6"
    }
   },
   "source": [
    "次のセルに、自分の名前と学籍番号を記入して下さい。"
   ]
  },
  {
   "cell_type": "markdown",
   "metadata": {
    "lc_cell_meme": {
     "current": "6eebe052-216f-11ea-8ff8-02420a0104c6",
     "history": [
      {
       "current": "cebf3c93-2391-11e9-a9f8-e0d55ea40caf",
       "next": "cebf3c94-2391-11e9-a9f8-e0d55ea40caf",
       "previous": "cebf3c92-2391-11e9-a9f8-e0d55ea40caf"
      },
      {
       "current": "aa7bfb7e-96e2-11e9-8e94-02420a010063",
       "next": "aa7bfd18-96e2-11e9-8e94-02420a010063",
       "previous": "aa7bfa48-96e2-11e9-8e94-02420a010063"
      },
      {
       "current": "1635121e-fae4-11e9-956e-02420a01004a",
       "next": "163513a4-fae4-11e9-956e-02420a01004a",
       "previous": "1635108e-fae4-11e9-956e-02420a01004a"
      }
     ],
     "next": "6eebe232-216f-11ea-8ff8-02420a0104c6",
     "previous": "6eebdf1c-216f-11ea-8ff8-02420a0104c6"
    },
    "raw_mimetype": "text/markdown"
   },
   "source": [
    "学籍番号：　　　　　　　　　　　氏名："
   ]
  },
  {
   "cell_type": "markdown",
   "metadata": {
    "lc_cell_meme": {
     "current": "6eebe232-216f-11ea-8ff8-02420a0104c6",
     "history": [
      {
       "current": "cebf3c94-2391-11e9-a9f8-e0d55ea40caf",
       "next": "cebf3c95-2391-11e9-a9f8-e0d55ea40caf",
       "previous": "cebf3c93-2391-11e9-a9f8-e0d55ea40caf"
      },
      {
       "current": "aa7bfd18-96e2-11e9-8e94-02420a010063",
       "next": "aa7bfe30-96e2-11e9-8e94-02420a010063",
       "previous": "aa7bfb7e-96e2-11e9-8e94-02420a010063"
      },
      {
       "current": "aa7bfd18-96e2-11e9-8e94-02420a010063",
       "next": "8c75964c-fa35-11e9-bc54-02420a010e28",
       "previous": "aa7bfb7e-96e2-11e9-8e94-02420a010063"
      },
      {
       "current": "aa7bfd18-96e2-11e9-8e94-02420a010063",
       "next": "aa7bfe30-96e2-11e9-8e94-02420a010063",
       "previous": "aa7bfb7e-96e2-11e9-8e94-02420a010063"
      },
      {
       "current": "163513a4-fae4-11e9-956e-02420a01004a",
       "next": "16351520-fae4-11e9-956e-02420a01004a",
       "previous": "1635121e-fae4-11e9-956e-02420a01004a"
      }
     ],
     "next": "6eebe35e-216f-11ea-8ff8-02420a0104c6",
     "previous": "6eebe052-216f-11ea-8ff8-02420a0104c6"
    }
   },
   "source": [
    "【進め方の注意】\n",
    "\n",
    "- 文書を読んで、進めてください。\n",
    "- 教科書の対応箇所を確認してください。\n",
    "- 最後の確認問題を解いて、ファイルを保存して下さい。\n",
    "- 途中わからないことがあれば、教員またはTAに質問して下さい。"
   ]
  },
  {
   "cell_type": "markdown",
   "metadata": {
    "lc_cell_meme": {
     "current": "6eebe35e-216f-11ea-8ff8-02420a0104c6",
     "history": [
      {
       "current": "cebf3c95-2391-11e9-a9f8-e0d55ea40caf",
       "next": "cebf3c96-2391-11e9-a9f8-e0d55ea40caf",
       "previous": "cebf3c94-2391-11e9-a9f8-e0d55ea40caf"
      },
      {
       "current": "aa7bfe30-96e2-11e9-8e94-02420a010063",
       "next": "aa7bff5c-96e2-11e9-8e94-02420a010063",
       "previous": "aa7bfd18-96e2-11e9-8e94-02420a010063"
      },
      {
       "current": "aa7bfe30-96e2-11e9-8e94-02420a010063",
       "next": "aa7c0254-96e2-11e9-8e94-02420a010063",
       "previous": "8c75964c-fa35-11e9-bc54-02420a010e28"
      },
      {
       "current": "aa7bfe30-96e2-11e9-8e94-02420a010063",
       "next": "aa7c0254-96e2-11e9-8e94-02420a010063",
       "previous": "aa7bfd18-96e2-11e9-8e94-02420a010063"
      },
      {
       "current": "16351520-fae4-11e9-956e-02420a01004a",
       "next": "16351660-fae4-11e9-956e-02420a01004a",
       "previous": "163513a4-fae4-11e9-956e-02420a01004a"
      }
     ],
     "next": "6eebe462-216f-11ea-8ff8-02420a0104c6",
     "previous": "6eebe232-216f-11ea-8ff8-02420a0104c6"
    }
   },
   "source": [
    "## アルゴリズム（1）ソート"
   ]
  },
  {
   "cell_type": "markdown",
   "metadata": {
    "lc_cell_meme": {
     "current": "6eebe462-216f-11ea-8ff8-02420a0104c6",
     "history": [
      {
       "current": "cebf3c98-2391-11e9-a9f8-e0d55ea40caf",
       "next": "cebf3c99-2391-11e9-a9f8-e0d55ea40caf",
       "previous": "cebf3c97-2391-11e9-a9f8-e0d55ea40caf"
      },
      {
       "current": "aa7c0254-96e2-11e9-8e94-02420a010063",
       "next": "aa7c04f2-96e2-11e9-8e94-02420a010063",
       "previous": "aa7c00ba-96e2-11e9-8e94-02420a010063"
      },
      {
       "current": "aa7c0254-96e2-11e9-8e94-02420a010063",
       "next": "8c759c6e-fa35-11e9-bc54-02420a010e28",
       "previous": "aa7bfe30-96e2-11e9-8e94-02420a010063"
      },
      {
       "current": "16351660-fae4-11e9-956e-02420a01004a",
       "next": "163517b4-fae4-11e9-956e-02420a01004a",
       "previous": "16351520-fae4-11e9-956e-02420a01004a"
      },
      {
       "current": "16351660-fae4-11e9-956e-02420a01004a",
       "next": "16351d68-fae4-11e9-956e-02420a01004a",
       "previous": "16351520-fae4-11e9-956e-02420a01004a"
      }
     ],
     "next": "6eebe584-216f-11ea-8ff8-02420a0104c6",
     "previous": "6eebe35e-216f-11ea-8ff8-02420a0104c6"
    }
   },
   "source": [
    "### 乱数1000個からなるリストの作成（教科書P88）"
   ]
  },
  {
   "cell_type": "markdown",
   "metadata": {
    "lc_cell_meme": {
     "current": "6eebe584-216f-11ea-8ff8-02420a0104c6",
     "history": [
      {
       "current": "8c75a042-fa35-11e9-bc54-02420a010e28",
       "next": "aa7c063c-96e2-11e9-8e94-02420a010063",
       "previous": "8c759ef8-fa35-11e9-bc54-02420a010e28"
      },
      {
       "current": "16351d68-fae4-11e9-956e-02420a01004a",
       "next": "16351ebc-fae4-11e9-956e-02420a01004a",
       "previous": "16351c1e-fae4-11e9-956e-02420a01004a"
      },
      {
       "current": "16351d68-fae4-11e9-956e-02420a01004a",
       "next": "16351aac-fae4-11e9-956e-02420a01004a",
       "previous": "16351660-fae4-11e9-956e-02420a01004a"
      }
     ],
     "next": "6eebe69c-216f-11ea-8ff8-02420a0104c6",
     "previous": "6eebe462-216f-11ea-8ff8-02420a0104c6"
    }
   },
   "source": [
    "#### 演習"
   ]
  },
  {
   "cell_type": "markdown",
   "metadata": {
    "lc_cell_meme": {
     "current": "6eebe69c-216f-11ea-8ff8-02420a0104c6",
     "history": [
      {
       "current": "8c759dd6-fa35-11e9-bc54-02420a010e28",
       "next": "8c759ef8-fa35-11e9-bc54-02420a010e28",
       "previous": "aa7c04f2-96e2-11e9-8e94-02420a010063"
      },
      {
       "current": "16351aac-fae4-11e9-956e-02420a01004a",
       "next": "16351c1e-fae4-11e9-956e-02420a01004a",
       "previous": "16351958-fae4-11e9-956e-02420a01004a"
      },
      {
       "current": "16351aac-fae4-11e9-956e-02420a01004a",
       "next": "163521c8-fae4-11e9-956e-02420a01004a",
       "previous": "16351d68-fae4-11e9-956e-02420a01004a"
      }
     ],
     "next": "6eebe7aa-216f-11ea-8ff8-02420a0104c6",
     "previous": "6eebe584-216f-11ea-8ff8-02420a0104c6"
    }
   },
   "source": [
    "まず、`ramdom`モジュールをインポートしなさい。そして、関数`random.sample( )`を使って0から999までの数値のリストから重複なく1000個の要素をランダムに選択し、リスト`x`を作成しなさい。その後、`x`を評価しなさい。"
   ]
  },
  {
   "cell_type": "code",
   "execution_count": null,
   "metadata": {
    "lc_cell_meme": {
     "current": "6eebe7aa-216f-11ea-8ff8-02420a0104c6",
     "history": [
      {
       "current": "cebf3c9b-2391-11e9-a9f8-e0d55ea40caf",
       "next": "cebf3c9c-2391-11e9-a9f8-e0d55ea40caf",
       "previous": "cebf3c9a-2391-11e9-a9f8-e0d55ea40caf"
      },
      {
       "current": "cebf3c9b-2391-11e9-a9f8-e0d55ea40caf",
       "next": "cebf3c9b-2391-11e9-a9f8-e0d55ea40caf",
       "previous": "cebf3c9a-2391-11e9-a9f8-e0d55ea40caf"
      },
      {
       "current": "cebf3c9b-2391-11e9-a9f8-e0d55ea40caf",
       "next": "a55591b5-2392-11e9-a9f8-e0d55ea40caf",
       "previous": "a55591b4-2392-11e9-a9f8-e0d55ea40caf"
      },
      {
       "current": "aa7c08ee-96e2-11e9-8e94-02420a010063",
       "next": "aa7c09c0-96e2-11e9-8e94-02420a010063",
       "previous": "aa7c0790-96e2-11e9-8e94-02420a010063"
      },
      {
       "current": "aa7c08ee-96e2-11e9-8e94-02420a010063",
       "next": "aa7c08ee-96e2-11e9-8e94-02420a010063",
       "previous": "8c75a15a-fa35-11e9-bc54-02420a010e28"
      },
      {
       "current": "163521c8-fae4-11e9-956e-02420a01004a",
       "next": "16352362-fae4-11e9-956e-02420a01004a",
       "previous": "16352006-fae4-11e9-956e-02420a01004a"
      },
      {
       "current": "163521c8-fae4-11e9-956e-02420a01004a",
       "next": "18595528-216d-11ea-8429-02420a0104c6",
       "previous": "16351aac-fae4-11e9-956e-02420a01004a"
      }
     ],
     "next": "6eebe8c2-216f-11ea-8ff8-02420a0104c6",
     "previous": "6eebe69c-216f-11ea-8ff8-02420a0104c6"
    },
    "lc_wrapper": {
     "log_history": [
      "/home/kuwata/notebooks/.log/20190129/20190129-164833-0253.log",
      "/home/16999405x4b0807/12a/.log/20191218/20191218-170346-0988.log",
      "/home/16999405x4b0807/12a/.log/20191220/20191220-213701-0887.log"
     ]
    }
   },
   "outputs": [],
   "source": [
    "# このセルを評価すること \n",
    "import random"
   ]
  },
  {
   "cell_type": "code",
   "execution_count": null,
   "metadata": {
    "lc_cell_meme": {
     "current": "6eebe8c2-216f-11ea-8ff8-02420a0104c6",
     "history": [
      {
       "current": "18595528-216d-11ea-8429-02420a0104c6",
       "next": "16352362-fae4-11e9-956e-02420a01004a",
       "previous": "163521c8-fae4-11e9-956e-02420a01004a"
      },
      {
       "current": "6eebe8c2-216f-11ea-8ff8-02420a0104c6",
       "next": "6eebe9ee-216f-11ea-8ff8-02420a0104c6",
       "previous": "6eebe7aa-216f-11ea-8ff8-02420a0104c6"
      }
     ],
     "next": "6eebeae8-216f-11ea-8ff8-02420a0104c6",
     "previous": "6eebe7aa-216f-11ea-8ff8-02420a0104c6"
    }
   },
   "outputs": [],
   "source": [
    "# 演習用入力欄\n"
   ]
  },
  {
   "cell_type": "markdown",
   "metadata": {
    "lc_cell_meme": {
     "current": "6eebeae8-216f-11ea-8ff8-02420a0104c6",
     "history": [
      {
       "current": "8c759ef8-fa35-11e9-bc54-02420a010e28",
       "next": "8c75a042-fa35-11e9-bc54-02420a010e28",
       "previous": "8c759dd6-fa35-11e9-bc54-02420a010e28"
      },
      {
       "current": "16351c1e-fae4-11e9-956e-02420a01004a",
       "next": "16351d68-fae4-11e9-956e-02420a01004a",
       "previous": "16351aac-fae4-11e9-956e-02420a01004a"
      },
      {
       "current": "16351c1e-fae4-11e9-956e-02420a01004a",
       "next": "163521c8-fae4-11e9-956e-02420a01004a",
       "previous": "16352362-fae4-11e9-956e-02420a01004a"
      },
      {
       "current": "6eebeae8-216f-11ea-8ff8-02420a0104c6",
       "next": "6eebec0a-216f-11ea-8ff8-02420a0104c6",
       "previous": "6eebe9ee-216f-11ea-8ff8-02420a0104c6"
      }
     ],
     "next": "6eebec0a-216f-11ea-8ff8-02420a0104c6",
     "previous": "6eebe8c2-216f-11ea-8ff8-02420a0104c6"
    }
   },
   "source": [
    "同様に、関数`random.sample( )`を使って0から999までの数値のリストから重複なく1000個の要素をランダムに選択してリスト`y`を作成しなさい。その後、`y`を評価しなさい。"
   ]
  },
  {
   "cell_type": "code",
   "execution_count": null,
   "metadata": {
    "lc_cell_meme": {
     "current": "6eebec0a-216f-11ea-8ff8-02420a0104c6",
     "history": [
      {
       "current": "cebf3c9b-2391-11e9-a9f8-e0d55ea40caf",
       "next": "cebf3c9c-2391-11e9-a9f8-e0d55ea40caf",
       "previous": "cebf3c9a-2391-11e9-a9f8-e0d55ea40caf"
      },
      {
       "current": "cebf3c9b-2391-11e9-a9f8-e0d55ea40caf",
       "next": "cebf3c9b-2391-11e9-a9f8-e0d55ea40caf",
       "previous": "cebf3c9a-2391-11e9-a9f8-e0d55ea40caf"
      },
      {
       "current": "cebf3c9b-2391-11e9-a9f8-e0d55ea40caf",
       "next": "a55591b5-2392-11e9-a9f8-e0d55ea40caf",
       "previous": "a55591b4-2392-11e9-a9f8-e0d55ea40caf"
      },
      {
       "current": "aa7c08ee-96e2-11e9-8e94-02420a010063",
       "next": "aa7c09c0-96e2-11e9-8e94-02420a010063",
       "previous": "aa7c0790-96e2-11e9-8e94-02420a010063"
      },
      {
       "current": "aa7c08ee-96e2-11e9-8e94-02420a010063",
       "next": "aa7c08ee-96e2-11e9-8e94-02420a010063",
       "previous": "8c75a15a-fa35-11e9-bc54-02420a010e28"
      },
      {
       "current": "163521c8-fae4-11e9-956e-02420a01004a",
       "next": "16352362-fae4-11e9-956e-02420a01004a",
       "previous": "16352006-fae4-11e9-956e-02420a01004a"
      },
      {
       "current": "163521c8-fae4-11e9-956e-02420a01004a",
       "next": "16352362-fae4-11e9-956e-02420a01004a",
       "previous": "16351c1e-fae4-11e9-956e-02420a01004a"
      },
      {
       "current": "6eebec0a-216f-11ea-8ff8-02420a0104c6",
       "next": "6eebed2c-216f-11ea-8ff8-02420a0104c6",
       "previous": "6eebeae8-216f-11ea-8ff8-02420a0104c6"
      }
     ],
     "next": "6eebee44-216f-11ea-8ff8-02420a0104c6",
     "previous": "6eebeae8-216f-11ea-8ff8-02420a0104c6"
    },
    "lc_wrapper": {
     "log_history": [
      "/home/kuwata/notebooks/.log/20190129/20190129-164833-0253.log"
     ]
    }
   },
   "outputs": [],
   "source": [
    "# 演習用入力欄\n"
   ]
  },
  {
   "cell_type": "markdown",
   "metadata": {
    "lc_cell_meme": {
     "current": "6eebee44-216f-11ea-8ff8-02420a0104c6",
     "history": [
      {
       "current": "cebf3c98-2391-11e9-a9f8-e0d55ea40caf",
       "next": "cebf3c99-2391-11e9-a9f8-e0d55ea40caf",
       "previous": "cebf3c97-2391-11e9-a9f8-e0d55ea40caf"
      },
      {
       "current": "aa7c0254-96e2-11e9-8e94-02420a010063",
       "next": "aa7c04f2-96e2-11e9-8e94-02420a010063",
       "previous": "aa7c00ba-96e2-11e9-8e94-02420a010063"
      },
      {
       "current": "aa7c0254-96e2-11e9-8e94-02420a010063",
       "next": "8c759c6e-fa35-11e9-bc54-02420a010e28",
       "previous": "aa7bfe30-96e2-11e9-8e94-02420a010063"
      },
      {
       "current": "16351660-fae4-11e9-956e-02420a01004a",
       "next": "163517b4-fae4-11e9-956e-02420a01004a",
       "previous": "16351520-fae4-11e9-956e-02420a01004a"
      },
      {
       "current": "16351660-fae4-11e9-956e-02420a01004a",
       "next": "16351d68-fae4-11e9-956e-02420a01004a",
       "previous": "16352362-fae4-11e9-956e-02420a01004a"
      },
      {
       "current": "6eebee44-216f-11ea-8ff8-02420a0104c6",
       "next": "6eebef3e-216f-11ea-8ff8-02420a0104c6",
       "previous": "6eebed2c-216f-11ea-8ff8-02420a0104c6"
      }
     ],
     "next": "6eebef3e-216f-11ea-8ff8-02420a0104c6",
     "previous": "6eebec0a-216f-11ea-8ff8-02420a0104c6"
    }
   },
   "source": [
    "### 散布図によるソート前乱数リストの可視化（教科書P80）"
   ]
  },
  {
   "cell_type": "markdown",
   "metadata": {
    "lc_cell_meme": {
     "current": "6eebef3e-216f-11ea-8ff8-02420a0104c6",
     "history": [
      {
       "current": "8c75a042-fa35-11e9-bc54-02420a010e28",
       "next": "aa7c063c-96e2-11e9-8e94-02420a010063",
       "previous": "8c759ef8-fa35-11e9-bc54-02420a010e28"
      },
      {
       "current": "16351d68-fae4-11e9-956e-02420a01004a",
       "next": "16351ebc-fae4-11e9-956e-02420a01004a",
       "previous": "16351c1e-fae4-11e9-956e-02420a01004a"
      },
      {
       "current": "16351d68-fae4-11e9-956e-02420a01004a",
       "next": "163527cc-fae4-11e9-956e-02420a01004a",
       "previous": "16351660-fae4-11e9-956e-02420a01004a"
      }
     ],
     "next": "6eebf06a-216f-11ea-8ff8-02420a0104c6",
     "previous": "6eebee44-216f-11ea-8ff8-02420a0104c6"
    }
   },
   "source": [
    "#### 演習"
   ]
  },
  {
   "cell_type": "markdown",
   "metadata": {
    "lc_cell_meme": {
     "current": "6eebf06a-216f-11ea-8ff8-02420a0104c6",
     "history": [
      {
       "current": "a55591b6-2392-11e9-a9f8-e0d55ea40caf",
       "next": "cebf3c9b-2391-11e9-a9f8-e0d55ea40caf",
       "previous": "cebf3c9b-2391-11e9-a9f8-e0d55ea40caf"
      },
      {
       "current": "aa7c0baa-96e2-11e9-8e94-02420a010063",
       "next": "aa7c0d08-96e2-11e9-8e94-02420a010063",
       "previous": "aa7c0a7e-96e2-11e9-8e94-02420a010063"
      },
      {
       "current": "aa7c0baa-96e2-11e9-8e94-02420a010063",
       "next": "aa7c0d08-96e2-11e9-8e94-02420a010063",
       "previous": "aa7c0baa-96e2-11e9-8e94-02420a010063"
      },
      {
       "current": "163527cc-fae4-11e9-956e-02420a01004a",
       "next": "1635293e-fae4-11e9-956e-02420a01004a",
       "previous": "16352682-fae4-11e9-956e-02420a01004a"
      },
      {
       "current": "163527cc-fae4-11e9-956e-02420a01004a",
       "next": "185958a2-216d-11ea-8429-02420a0104c6",
       "previous": "16351d68-fae4-11e9-956e-02420a01004a"
      }
     ],
     "next": "6eebf164-216f-11ea-8ff8-02420a0104c6",
     "previous": "6eebef3e-216f-11ea-8ff8-02420a0104c6"
    }
   },
   "source": [
    "まず、`matplotlib`パッケージの`pyplot`モジュールを`plt`という別名でインポートしなさい。そして、関数`plt.scatter( )`を使って、上記で作成したリスト`x`の要素がx座標、リスト`y`の要素がy座標である1000個の点を散布図上に描きなさい。"
   ]
  },
  {
   "cell_type": "code",
   "execution_count": null,
   "metadata": {
    "lc_cell_meme": {
     "current": "6eebf164-216f-11ea-8ff8-02420a0104c6",
     "history": [
      {
       "current": "185958a2-216d-11ea-8429-02420a0104c6",
       "next": "1635293e-fae4-11e9-956e-02420a01004a",
       "previous": "163527cc-fae4-11e9-956e-02420a01004a"
      }
     ],
     "next": "6eebf25e-216f-11ea-8ff8-02420a0104c6",
     "previous": "6eebf06a-216f-11ea-8ff8-02420a0104c6"
    },
    "lc_wrapper": {
     "log_history": [
      "/home/16999405x4b0807/12a/.log/20191218/20191218-170639-0257.log",
      "/home/16999405x4b0807/12a/.log/20191220/20191220-213712-0640.log"
     ]
    }
   },
   "outputs": [],
   "source": [
    "# このセルを評価すること \n",
    "%matplotlib inline\n",
    "import matplotlib.pyplot as plt"
   ]
  },
  {
   "cell_type": "code",
   "execution_count": null,
   "metadata": {
    "lc_cell_meme": {
     "current": "6eebf25e-216f-11ea-8ff8-02420a0104c6",
     "history": [
      {
       "current": "cebf3c9b-2391-11e9-a9f8-e0d55ea40caf",
       "next": "cebf3c9c-2391-11e9-a9f8-e0d55ea40caf",
       "previous": "cebf3c9a-2391-11e9-a9f8-e0d55ea40caf"
      },
      {
       "current": "cebf3c9b-2391-11e9-a9f8-e0d55ea40caf",
       "next": "cebf3c9b-2391-11e9-a9f8-e0d55ea40caf",
       "previous": "cebf3c9b-2391-11e9-a9f8-e0d55ea40caf"
      },
      {
       "current": "cebf3c9b-2391-11e9-a9f8-e0d55ea40caf",
       "next": "a55591b7-2392-11e9-a9f8-e0d55ea40caf",
       "previous": "a55591b6-2392-11e9-a9f8-e0d55ea40caf"
      },
      {
       "current": "aa7c0d08-96e2-11e9-8e94-02420a010063",
       "next": "aa7c0e02-96e2-11e9-8e94-02420a010063",
       "previous": "aa7c0baa-96e2-11e9-8e94-02420a010063"
      },
      {
       "current": "aa7c0d08-96e2-11e9-8e94-02420a010063",
       "next": "aa7c0d08-96e2-11e9-8e94-02420a010063",
       "previous": "aa7c0baa-96e2-11e9-8e94-02420a010063"
      },
      {
       "current": "1635293e-fae4-11e9-956e-02420a01004a",
       "next": "16352a88-fae4-11e9-956e-02420a01004a",
       "previous": "163527cc-fae4-11e9-956e-02420a01004a"
      },
      {
       "current": "1635293e-fae4-11e9-956e-02420a01004a",
       "next": "16352a88-fae4-11e9-956e-02420a01004a",
       "previous": "185958a2-216d-11ea-8429-02420a0104c6"
      },
      {
       "current": "6eebf25e-216f-11ea-8ff8-02420a0104c6",
       "next": "6eebf380-216f-11ea-8ff8-02420a0104c6",
       "previous": "6eebf164-216f-11ea-8ff8-02420a0104c6"
      }
     ],
     "next": "6eebf4ac-216f-11ea-8ff8-02420a0104c6",
     "previous": "6eebf164-216f-11ea-8ff8-02420a0104c6"
    },
    "lc_wrapper": {
     "log_history": [
      "/home/kuwata/notebooks/.log/20190129/20190129-164902-0210.log"
     ]
    }
   },
   "outputs": [],
   "source": [
    "# 演習用入力欄\n"
   ]
  },
  {
   "cell_type": "markdown",
   "metadata": {
    "lc_cell_meme": {
     "current": "6eebf4ac-216f-11ea-8ff8-02420a0104c6",
     "history": [
      {
       "current": "8c75a376-fa35-11e9-bc54-02420a010e28",
       "next": "aa7c101e-96e2-11e9-8e94-02420a010063",
       "previous": "aa7c0d08-96e2-11e9-8e94-02420a010063"
      },
      {
       "current": "16352bfa-fae4-11e9-956e-02420a01004a",
       "next": "16352d6c-fae4-11e9-956e-02420a01004a",
       "previous": "16352a88-fae4-11e9-956e-02420a01004a"
      },
      {
       "current": "6eebf4ac-216f-11ea-8ff8-02420a0104c6",
       "next": "6eebf5c4-216f-11ea-8ff8-02420a0104c6",
       "previous": "6eebf380-216f-11ea-8ff8-02420a0104c6"
      }
     ],
     "next": "6eebf5c4-216f-11ea-8ff8-02420a0104c6",
     "previous": "6eebf25e-216f-11ea-8ff8-02420a0104c6"
    }
   },
   "source": [
    "<font size=\"2\" color=\"blue\">ヒント：x,y軸共に0から999の範囲のx-y平面上に、1000個の点が偏りなく分布します。</font>"
   ]
  },
  {
   "cell_type": "markdown",
   "metadata": {
    "lc_cell_meme": {
     "current": "6eebf5c4-216f-11ea-8ff8-02420a0104c6",
     "history": [
      {
       "current": "cebf3c9c-2391-11e9-a9f8-e0d55ea40caf",
       "next": "cebf3c9d-2391-11e9-a9f8-e0d55ea40caf",
       "previous": "cebf3c9b-2391-11e9-a9f8-e0d55ea40caf"
      },
      {
       "current": "cebf3c9c-2391-11e9-a9f8-e0d55ea40caf",
       "next": "cebf3ca1-2391-11e9-a9f8-e0d55ea40caf",
       "previous": "cebf3c9b-2391-11e9-a9f8-e0d55ea40caf"
      },
      {
       "current": "cebf3c9c-2391-11e9-a9f8-e0d55ea40caf",
       "next": "644b607c-2397-11e9-a9f8-e0d55ea40caf",
       "previous": "cebf3c9b-2391-11e9-a9f8-e0d55ea40caf"
      },
      {
       "current": "cebf3c9c-2391-11e9-a9f8-e0d55ea40caf",
       "next": "cafa4d1e-2398-11e9-a9f8-e0d55ea40caf",
       "previous": "cebf3c9b-2391-11e9-a9f8-e0d55ea40caf"
      },
      {
       "current": "aa7c101e-96e2-11e9-8e94-02420a010063",
       "next": "aa7c1190-96e2-11e9-8e94-02420a010063",
       "previous": "aa7c0f1a-96e2-11e9-8e94-02420a010063"
      },
      {
       "current": "aa7c101e-96e2-11e9-8e94-02420a010063",
       "next": "aa7c1190-96e2-11e9-8e94-02420a010063",
       "previous": "8c75a376-fa35-11e9-bc54-02420a010e28"
      },
      {
       "current": "16352d6c-fae4-11e9-956e-02420a01004a",
       "next": "16352eb6-fae4-11e9-956e-02420a01004a",
       "previous": "16352bfa-fae4-11e9-956e-02420a01004a"
      },
      {
       "current": "16352d6c-fae4-11e9-956e-02420a01004a",
       "next": "1635335c-fae4-11e9-956e-02420a01004a",
       "previous": "16352bfa-fae4-11e9-956e-02420a01004a"
      }
     ],
     "next": "6eebf6dc-216f-11ea-8ff8-02420a0104c6",
     "previous": "6eebf4ac-216f-11ea-8ff8-02420a0104c6"
    }
   },
   "source": [
    "###  選択ソートを行う関数の作成（教科書P84）"
   ]
  },
  {
   "cell_type": "markdown",
   "metadata": {
    "lc_cell_meme": {
     "current": "6eebf6dc-216f-11ea-8ff8-02420a0104c6",
     "history": [
      {
       "current": "a55591b6-2392-11e9-a9f8-e0d55ea40caf",
       "next": "cebf3c9b-2391-11e9-a9f8-e0d55ea40caf",
       "previous": "cebf3c9b-2391-11e9-a9f8-e0d55ea40caf"
      },
      {
       "current": "aa7c0baa-96e2-11e9-8e94-02420a010063",
       "next": "aa7c0d08-96e2-11e9-8e94-02420a010063",
       "previous": "aa7c0a7e-96e2-11e9-8e94-02420a010063"
      },
      {
       "current": "aa7c0baa-96e2-11e9-8e94-02420a010063",
       "next": "8c75a628-fa35-11e9-bc54-02420a010e28",
       "previous": "8c75a484-fa35-11e9-bc54-02420a010e28"
      },
      {
       "current": "1635335c-fae4-11e9-956e-02420a01004a",
       "next": "163534a6-fae4-11e9-956e-02420a01004a",
       "previous": "163531d6-fae4-11e9-956e-02420a01004a"
      },
      {
       "current": "1635335c-fae4-11e9-956e-02420a01004a",
       "next": "185959b0-216d-11ea-8429-02420a0104c6",
       "previous": "16352d6c-fae4-11e9-956e-02420a01004a"
      }
     ],
     "next": "6eebf7f4-216f-11ea-8ff8-02420a0104c6",
     "previous": "6eebf5c4-216f-11ea-8ff8-02420a0104c6"
    }
   },
   "source": [
    "#### 演習（教科書P85）"
   ]
  },
  {
   "cell_type": "markdown",
   "metadata": {
    "lc_cell_meme": {
     "current": "6eebf7f4-216f-11ea-8ff8-02420a0104c6",
     "history": [
      {
       "current": "185959b0-216d-11ea-8429-02420a0104c6",
       "next": "163534a6-fae4-11e9-956e-02420a01004a",
       "previous": "1635335c-fae4-11e9-956e-02420a01004a"
      }
     ],
     "next": "6eebf998-216f-11ea-8ff8-02420a0104c6",
     "previous": "6eebf6dc-216f-11ea-8ff8-02420a0104c6"
    }
   },
   "source": [
    "リスト`l`のソート範囲`(s,e)`から最小値の要素番号を返す関数`min_idx(l,s,e)`を定義しなさい。"
   ]
  },
  {
   "cell_type": "code",
   "execution_count": null,
   "metadata": {
    "lc_cell_meme": {
     "current": "6eebf998-216f-11ea-8ff8-02420a0104c6",
     "history": [
      {
       "current": "8c75a628-fa35-11e9-bc54-02420a010e28",
       "next": "8c75a72c-fa35-11e9-bc54-02420a010e28",
       "previous": "aa7c0baa-96e2-11e9-8e94-02420a010063"
      },
      {
       "current": "163534a6-fae4-11e9-956e-02420a01004a",
       "next": "16353618-fae4-11e9-956e-02420a01004a",
       "previous": "1635335c-fae4-11e9-956e-02420a01004a"
      },
      {
       "current": "163534a6-fae4-11e9-956e-02420a01004a",
       "next": "16353618-fae4-11e9-956e-02420a01004a",
       "previous": "185959b0-216d-11ea-8429-02420a0104c6"
      },
      {
       "current": "6eebf998-216f-11ea-8ff8-02420a0104c6",
       "next": "6eebfa9c-216f-11ea-8ff8-02420a0104c6",
       "previous": "6eebf7f4-216f-11ea-8ff8-02420a0104c6"
      }
     ],
     "next": "6eebfbd2-216f-11ea-8ff8-02420a0104c6",
     "previous": "6eebf7f4-216f-11ea-8ff8-02420a0104c6"
    }
   },
   "outputs": [],
   "source": [
    "# 演習用入力欄\n"
   ]
  },
  {
   "cell_type": "markdown",
   "metadata": {
    "lc_cell_meme": {
     "current": "6eebfbd2-216f-11ea-8ff8-02420a0104c6",
     "history": [
      {
       "current": "a55591b6-2392-11e9-a9f8-e0d55ea40caf",
       "next": "cebf3c9b-2391-11e9-a9f8-e0d55ea40caf",
       "previous": "cebf3c9b-2391-11e9-a9f8-e0d55ea40caf"
      },
      {
       "current": "aa7c0baa-96e2-11e9-8e94-02420a010063",
       "next": "aa7c0d08-96e2-11e9-8e94-02420a010063",
       "previous": "aa7c0a7e-96e2-11e9-8e94-02420a010063"
      },
      {
       "current": "aa7c0baa-96e2-11e9-8e94-02420a010063",
       "next": "8c75a92a-fa35-11e9-bc54-02420a010e28",
       "previous": "8c75a830-fa35-11e9-bc54-02420a010e28"
      },
      {
       "current": "163538ac-fae4-11e9-956e-02420a01004a",
       "next": "163539f6-fae4-11e9-956e-02420a01004a",
       "previous": "16353762-fae4-11e9-956e-02420a01004a"
      },
      {
       "current": "163538ac-fae4-11e9-956e-02420a01004a",
       "next": "163539f6-fae4-11e9-956e-02420a01004a",
       "previous": "16353618-fae4-11e9-956e-02420a01004a"
      },
      {
       "current": "6eebfbd2-216f-11ea-8ff8-02420a0104c6",
       "next": "6eebfcea-216f-11ea-8ff8-02420a0104c6",
       "previous": "6eebfa9c-216f-11ea-8ff8-02420a0104c6"
      }
     ],
     "next": "6eebfcea-216f-11ea-8ff8-02420a0104c6",
     "previous": "6eebf998-216f-11ea-8ff8-02420a0104c6"
    }
   },
   "source": [
    "#### 演習（教科書P88）"
   ]
  },
  {
   "cell_type": "markdown",
   "metadata": {
    "lc_cell_meme": {
     "current": "6eebfcea-216f-11ea-8ff8-02420a0104c6",
     "history": [
      {
       "current": "8c75a92a-fa35-11e9-bc54-02420a010e28",
       "next": "aa7c0d08-96e2-11e9-8e94-02420a010063",
       "previous": "aa7c0baa-96e2-11e9-8e94-02420a010063"
      },
      {
       "current": "163539f6-fae4-11e9-956e-02420a01004a",
       "next": "16353b4a-fae4-11e9-956e-02420a01004a",
       "previous": "163538ac-fae4-11e9-956e-02420a01004a"
      }
     ],
     "next": "6eebfde4-216f-11ea-8ff8-02420a0104c6",
     "previous": "6eebfbd2-216f-11ea-8ff8-02420a0104c6"
    }
   },
   "source": [
    "関数`min_idx(l,s,e)`を利用して、リスト`l`の選択ソートを行う関数`selection_sort(l)`を定義しなさい。"
   ]
  },
  {
   "cell_type": "code",
   "execution_count": null,
   "metadata": {
    "lc_cell_meme": {
     "current": "6eebfde4-216f-11ea-8ff8-02420a0104c6",
     "history": [
      {
       "current": "cebf3c9b-2391-11e9-a9f8-e0d55ea40caf",
       "next": "cebf3c9c-2391-11e9-a9f8-e0d55ea40caf",
       "previous": "cebf3c9a-2391-11e9-a9f8-e0d55ea40caf"
      },
      {
       "current": "cebf3c9b-2391-11e9-a9f8-e0d55ea40caf",
       "next": "cebf3c9b-2391-11e9-a9f8-e0d55ea40caf",
       "previous": "cebf3c9b-2391-11e9-a9f8-e0d55ea40caf"
      },
      {
       "current": "cebf3c9b-2391-11e9-a9f8-e0d55ea40caf",
       "next": "a55591b7-2392-11e9-a9f8-e0d55ea40caf",
       "previous": "a55591b6-2392-11e9-a9f8-e0d55ea40caf"
      },
      {
       "current": "aa7c0d08-96e2-11e9-8e94-02420a010063",
       "next": "aa7c0e02-96e2-11e9-8e94-02420a010063",
       "previous": "aa7c0baa-96e2-11e9-8e94-02420a010063"
      },
      {
       "current": "aa7c0d08-96e2-11e9-8e94-02420a010063",
       "next": "8c75aa2e-fa35-11e9-bc54-02420a010e28",
       "previous": "8c75a92a-fa35-11e9-bc54-02420a010e28"
      },
      {
       "current": "16353b4a-fae4-11e9-956e-02420a01004a",
       "next": "16353cd0-fae4-11e9-956e-02420a01004a",
       "previous": "163539f6-fae4-11e9-956e-02420a01004a"
      },
      {
       "current": "6eebfde4-216f-11ea-8ff8-02420a0104c6",
       "next": "6eebfede-216f-11ea-8ff8-02420a0104c6",
       "previous": "6eebfcea-216f-11ea-8ff8-02420a0104c6"
      }
     ],
     "next": "6eec0000-216f-11ea-8ff8-02420a0104c6",
     "previous": "6eebfcea-216f-11ea-8ff8-02420a0104c6"
    },
    "lc_wrapper": {
     "log_history": [
      "/home/kuwata/notebooks/.log/20190129/20190129-164902-0210.log"
     ]
    }
   },
   "outputs": [],
   "source": [
    "# 演習用入力欄\n"
   ]
  },
  {
   "cell_type": "markdown",
   "metadata": {
    "lc_cell_meme": {
     "current": "6eec0000-216f-11ea-8ff8-02420a0104c6",
     "history": [
      {
       "current": "a55591b6-2392-11e9-a9f8-e0d55ea40caf",
       "next": "cebf3c9b-2391-11e9-a9f8-e0d55ea40caf",
       "previous": "cebf3c9b-2391-11e9-a9f8-e0d55ea40caf"
      },
      {
       "current": "aa7c0baa-96e2-11e9-8e94-02420a010063",
       "next": "aa7c0d08-96e2-11e9-8e94-02420a010063",
       "previous": "aa7c0a7e-96e2-11e9-8e94-02420a010063"
      },
      {
       "current": "aa7c0baa-96e2-11e9-8e94-02420a010063",
       "next": "8c75ad58-fa35-11e9-bc54-02420a010e28",
       "previous": "8c75ac54-fa35-11e9-bc54-02420a010e28"
      },
      {
       "current": "163541bc-fae4-11e9-956e-02420a01004a",
       "next": "163543c4-fae4-11e9-956e-02420a01004a",
       "previous": "16353f96-fae4-11e9-956e-02420a01004a"
      },
      {
       "current": "163541bc-fae4-11e9-956e-02420a01004a",
       "next": "163543c4-fae4-11e9-956e-02420a01004a",
       "previous": "16353cd0-fae4-11e9-956e-02420a01004a"
      },
      {
       "current": "6eec0000-216f-11ea-8ff8-02420a0104c6",
       "next": "6eec0136-216f-11ea-8ff8-02420a0104c6",
       "previous": "6eebfede-216f-11ea-8ff8-02420a0104c6"
      }
     ],
     "next": "6eec0136-216f-11ea-8ff8-02420a0104c6",
     "previous": "6eebfde4-216f-11ea-8ff8-02420a0104c6"
    }
   },
   "source": [
    "#### 演習"
   ]
  },
  {
   "cell_type": "markdown",
   "metadata": {
    "lc_cell_meme": {
     "current": "6eec0136-216f-11ea-8ff8-02420a0104c6",
     "history": [
      {
       "current": "8c75ad58-fa35-11e9-bc54-02420a010e28",
       "next": "aa7c0d08-96e2-11e9-8e94-02420a010063",
       "previous": "aa7c0baa-96e2-11e9-8e94-02420a010063"
      },
      {
       "current": "163543c4-fae4-11e9-956e-02420a01004a",
       "next": "16354590-fae4-11e9-956e-02420a01004a",
       "previous": "163541bc-fae4-11e9-956e-02420a01004a"
      }
     ],
     "next": "6eec0230-216f-11ea-8ff8-02420a0104c6",
     "previous": "6eec0000-216f-11ea-8ff8-02420a0104c6"
    }
   },
   "source": [
    "関数`selection_sort( )`を使って、リスト`x`をソートしなさい。その後、`x`を評価しなさい。"
   ]
  },
  {
   "cell_type": "code",
   "execution_count": null,
   "metadata": {
    "lc_cell_meme": {
     "current": "6eec0230-216f-11ea-8ff8-02420a0104c6",
     "history": [
      {
       "current": "cebf3c9b-2391-11e9-a9f8-e0d55ea40caf",
       "next": "cebf3c9c-2391-11e9-a9f8-e0d55ea40caf",
       "previous": "cebf3c9a-2391-11e9-a9f8-e0d55ea40caf"
      },
      {
       "current": "cebf3c9b-2391-11e9-a9f8-e0d55ea40caf",
       "next": "cebf3c9b-2391-11e9-a9f8-e0d55ea40caf",
       "previous": "cebf3c9b-2391-11e9-a9f8-e0d55ea40caf"
      },
      {
       "current": "cebf3c9b-2391-11e9-a9f8-e0d55ea40caf",
       "next": "a55591b7-2392-11e9-a9f8-e0d55ea40caf",
       "previous": "a55591b6-2392-11e9-a9f8-e0d55ea40caf"
      },
      {
       "current": "aa7c0d08-96e2-11e9-8e94-02420a010063",
       "next": "aa7c0e02-96e2-11e9-8e94-02420a010063",
       "previous": "aa7c0baa-96e2-11e9-8e94-02420a010063"
      },
      {
       "current": "aa7c0d08-96e2-11e9-8e94-02420a010063",
       "next": "8c75ae52-fa35-11e9-bc54-02420a010e28",
       "previous": "8c75ad58-fa35-11e9-bc54-02420a010e28"
      },
      {
       "current": "16354590-fae4-11e9-956e-02420a01004a",
       "next": "163546ee-fae4-11e9-956e-02420a01004a",
       "previous": "163543c4-fae4-11e9-956e-02420a01004a"
      },
      {
       "current": "6eec0230-216f-11ea-8ff8-02420a0104c6",
       "next": "6eec0348-216f-11ea-8ff8-02420a0104c6",
       "previous": "6eec0136-216f-11ea-8ff8-02420a0104c6"
      }
     ],
     "next": "6eec046a-216f-11ea-8ff8-02420a0104c6",
     "previous": "6eec0136-216f-11ea-8ff8-02420a0104c6"
    },
    "lc_wrapper": {
     "log_history": [
      "/home/kuwata/notebooks/.log/20190129/20190129-164902-0210.log"
     ]
    }
   },
   "outputs": [],
   "source": [
    "# 演習用入力欄\n"
   ]
  },
  {
   "cell_type": "markdown",
   "metadata": {
    "lc_cell_meme": {
     "current": "6eec046a-216f-11ea-8ff8-02420a0104c6",
     "history": [
      {
       "current": "8c75ad58-fa35-11e9-bc54-02420a010e28",
       "next": "aa7c0d08-96e2-11e9-8e94-02420a010063",
       "previous": "aa7c0baa-96e2-11e9-8e94-02420a010063"
      },
      {
       "current": "163543c4-fae4-11e9-956e-02420a01004a",
       "next": "16354590-fae4-11e9-956e-02420a01004a",
       "previous": "163541bc-fae4-11e9-956e-02420a01004a"
      },
      {
       "current": "163543c4-fae4-11e9-956e-02420a01004a",
       "next": "16354590-fae4-11e9-956e-02420a01004a",
       "previous": "163546ee-fae4-11e9-956e-02420a01004a"
      },
      {
       "current": "6eec046a-216f-11ea-8ff8-02420a0104c6",
       "next": "6eec058c-216f-11ea-8ff8-02420a0104c6",
       "previous": "6eec0348-216f-11ea-8ff8-02420a0104c6"
      }
     ],
     "next": "6eec058c-216f-11ea-8ff8-02420a0104c6",
     "previous": "6eec0230-216f-11ea-8ff8-02420a0104c6"
    }
   },
   "source": [
    "同様に、関数`selection_sort( )`を使って、リスト`y`をソートしなさい。その後、`y`を評価しなさい。"
   ]
  },
  {
   "cell_type": "code",
   "execution_count": null,
   "metadata": {
    "lc_cell_meme": {
     "current": "6eec058c-216f-11ea-8ff8-02420a0104c6",
     "history": [
      {
       "current": "cebf3c9b-2391-11e9-a9f8-e0d55ea40caf",
       "next": "cebf3c9c-2391-11e9-a9f8-e0d55ea40caf",
       "previous": "cebf3c9a-2391-11e9-a9f8-e0d55ea40caf"
      },
      {
       "current": "cebf3c9b-2391-11e9-a9f8-e0d55ea40caf",
       "next": "cebf3c9b-2391-11e9-a9f8-e0d55ea40caf",
       "previous": "cebf3c9b-2391-11e9-a9f8-e0d55ea40caf"
      },
      {
       "current": "cebf3c9b-2391-11e9-a9f8-e0d55ea40caf",
       "next": "a55591b7-2392-11e9-a9f8-e0d55ea40caf",
       "previous": "a55591b6-2392-11e9-a9f8-e0d55ea40caf"
      },
      {
       "current": "aa7c0d08-96e2-11e9-8e94-02420a010063",
       "next": "aa7c0e02-96e2-11e9-8e94-02420a010063",
       "previous": "aa7c0baa-96e2-11e9-8e94-02420a010063"
      },
      {
       "current": "aa7c0d08-96e2-11e9-8e94-02420a010063",
       "next": "8c75ae52-fa35-11e9-bc54-02420a010e28",
       "previous": "8c75ad58-fa35-11e9-bc54-02420a010e28"
      },
      {
       "current": "16354590-fae4-11e9-956e-02420a01004a",
       "next": "163546ee-fae4-11e9-956e-02420a01004a",
       "previous": "163543c4-fae4-11e9-956e-02420a01004a"
      },
      {
       "current": "6eec058c-216f-11ea-8ff8-02420a0104c6",
       "next": "6eec0686-216f-11ea-8ff8-02420a0104c6",
       "previous": "6eec046a-216f-11ea-8ff8-02420a0104c6"
      }
     ],
     "next": "6eec0802-216f-11ea-8ff8-02420a0104c6",
     "previous": "6eec046a-216f-11ea-8ff8-02420a0104c6"
    },
    "lc_wrapper": {
     "log_history": [
      "/home/kuwata/notebooks/.log/20190129/20190129-164902-0210.log"
     ]
    }
   },
   "outputs": [],
   "source": [
    "# 演習用入力欄\n"
   ]
  },
  {
   "cell_type": "markdown",
   "metadata": {
    "lc_cell_meme": {
     "current": "6eec0802-216f-11ea-8ff8-02420a0104c6",
     "history": [
      {
       "current": "cebf3c98-2391-11e9-a9f8-e0d55ea40caf",
       "next": "cebf3c99-2391-11e9-a9f8-e0d55ea40caf",
       "previous": "cebf3c97-2391-11e9-a9f8-e0d55ea40caf"
      },
      {
       "current": "aa7c0254-96e2-11e9-8e94-02420a010063",
       "next": "aa7c04f2-96e2-11e9-8e94-02420a010063",
       "previous": "aa7c00ba-96e2-11e9-8e94-02420a010063"
      },
      {
       "current": "aa7c0254-96e2-11e9-8e94-02420a010063",
       "next": "8c759c6e-fa35-11e9-bc54-02420a010e28",
       "previous": "aa7bfe30-96e2-11e9-8e94-02420a010063"
      },
      {
       "current": "16351660-fae4-11e9-956e-02420a01004a",
       "next": "163517b4-fae4-11e9-956e-02420a01004a",
       "previous": "16351520-fae4-11e9-956e-02420a01004a"
      },
      {
       "current": "16351660-fae4-11e9-956e-02420a01004a",
       "next": "16351d68-fae4-11e9-956e-02420a01004a",
       "previous": "163546ee-fae4-11e9-956e-02420a01004a"
      },
      {
       "current": "6eec0802-216f-11ea-8ff8-02420a0104c6",
       "next": "6eec0956-216f-11ea-8ff8-02420a0104c6",
       "previous": "6eec0686-216f-11ea-8ff8-02420a0104c6"
      }
     ],
     "next": "6eec0956-216f-11ea-8ff8-02420a0104c6",
     "previous": "6eec058c-216f-11ea-8ff8-02420a0104c6"
    }
   },
   "source": [
    "### 散布図によるソート後乱数リストの可視化（教科書P80）"
   ]
  },
  {
   "cell_type": "markdown",
   "metadata": {
    "lc_cell_meme": {
     "current": "6eec0956-216f-11ea-8ff8-02420a0104c6",
     "history": [
      {
       "current": "8c75a042-fa35-11e9-bc54-02420a010e28",
       "next": "aa7c063c-96e2-11e9-8e94-02420a010063",
       "previous": "8c759ef8-fa35-11e9-bc54-02420a010e28"
      },
      {
       "current": "16351d68-fae4-11e9-956e-02420a01004a",
       "next": "16351ebc-fae4-11e9-956e-02420a01004a",
       "previous": "16351c1e-fae4-11e9-956e-02420a01004a"
      },
      {
       "current": "16351d68-fae4-11e9-956e-02420a01004a",
       "next": "163527cc-fae4-11e9-956e-02420a01004a",
       "previous": "16351660-fae4-11e9-956e-02420a01004a"
      }
     ],
     "next": "6eec0a6e-216f-11ea-8ff8-02420a0104c6",
     "previous": "6eec0802-216f-11ea-8ff8-02420a0104c6"
    }
   },
   "source": [
    "#### 演習"
   ]
  },
  {
   "cell_type": "markdown",
   "metadata": {
    "lc_cell_meme": {
     "current": "6eec0a6e-216f-11ea-8ff8-02420a0104c6",
     "history": [
      {
       "current": "a55591b6-2392-11e9-a9f8-e0d55ea40caf",
       "next": "cebf3c9b-2391-11e9-a9f8-e0d55ea40caf",
       "previous": "cebf3c9b-2391-11e9-a9f8-e0d55ea40caf"
      },
      {
       "current": "aa7c0baa-96e2-11e9-8e94-02420a010063",
       "next": "aa7c0d08-96e2-11e9-8e94-02420a010063",
       "previous": "aa7c0a7e-96e2-11e9-8e94-02420a010063"
      },
      {
       "current": "aa7c0baa-96e2-11e9-8e94-02420a010063",
       "next": "aa7c0d08-96e2-11e9-8e94-02420a010063",
       "previous": "aa7c0baa-96e2-11e9-8e94-02420a010063"
      },
      {
       "current": "163527cc-fae4-11e9-956e-02420a01004a",
       "next": "1635293e-fae4-11e9-956e-02420a01004a",
       "previous": "16352682-fae4-11e9-956e-02420a01004a"
      },
      {
       "current": "163527cc-fae4-11e9-956e-02420a01004a",
       "next": "1635293e-fae4-11e9-956e-02420a01004a",
       "previous": "16351d68-fae4-11e9-956e-02420a01004a"
      }
     ],
     "next": "6eec0b86-216f-11ea-8ff8-02420a0104c6",
     "previous": "6eec0956-216f-11ea-8ff8-02420a0104c6"
    }
   },
   "source": [
    "関数`plt.scatter( )`を使って、上記でソートしたリスト`x`の要素がx座標、リスト`y`の要素がy座標である1000個の点を散布図上にに描きなさい。"
   ]
  },
  {
   "cell_type": "code",
   "execution_count": null,
   "metadata": {
    "lc_cell_meme": {
     "current": "6eec0b86-216f-11ea-8ff8-02420a0104c6",
     "history": [
      {
       "current": "cebf3c9b-2391-11e9-a9f8-e0d55ea40caf",
       "next": "cebf3c9c-2391-11e9-a9f8-e0d55ea40caf",
       "previous": "cebf3c9a-2391-11e9-a9f8-e0d55ea40caf"
      },
      {
       "current": "cebf3c9b-2391-11e9-a9f8-e0d55ea40caf",
       "next": "cebf3c9b-2391-11e9-a9f8-e0d55ea40caf",
       "previous": "cebf3c9b-2391-11e9-a9f8-e0d55ea40caf"
      },
      {
       "current": "cebf3c9b-2391-11e9-a9f8-e0d55ea40caf",
       "next": "a55591b7-2392-11e9-a9f8-e0d55ea40caf",
       "previous": "a55591b6-2392-11e9-a9f8-e0d55ea40caf"
      },
      {
       "current": "aa7c0d08-96e2-11e9-8e94-02420a010063",
       "next": "aa7c0e02-96e2-11e9-8e94-02420a010063",
       "previous": "aa7c0baa-96e2-11e9-8e94-02420a010063"
      },
      {
       "current": "aa7c0d08-96e2-11e9-8e94-02420a010063",
       "next": "aa7c0d08-96e2-11e9-8e94-02420a010063",
       "previous": "aa7c0baa-96e2-11e9-8e94-02420a010063"
      },
      {
       "current": "1635293e-fae4-11e9-956e-02420a01004a",
       "next": "16352a88-fae4-11e9-956e-02420a01004a",
       "previous": "163527cc-fae4-11e9-956e-02420a01004a"
      },
      {
       "current": "6eec0b86-216f-11ea-8ff8-02420a0104c6",
       "next": "6eec0c9e-216f-11ea-8ff8-02420a0104c6",
       "previous": "6eec0a6e-216f-11ea-8ff8-02420a0104c6"
      }
     ],
     "next": "6eec0db6-216f-11ea-8ff8-02420a0104c6",
     "previous": "6eec0a6e-216f-11ea-8ff8-02420a0104c6"
    },
    "lc_wrapper": {
     "log_history": [
      "/home/kuwata/notebooks/.log/20190129/20190129-164902-0210.log"
     ]
    }
   },
   "outputs": [],
   "source": [
    "# 演習用入力欄\n"
   ]
  },
  {
   "cell_type": "markdown",
   "metadata": {
    "lc_cell_meme": {
     "current": "6eec0db6-216f-11ea-8ff8-02420a0104c6",
     "history": [
      {
       "current": "8c75a376-fa35-11e9-bc54-02420a010e28",
       "next": "aa7c101e-96e2-11e9-8e94-02420a010063",
       "previous": "aa7c0d08-96e2-11e9-8e94-02420a010063"
      },
      {
       "current": "16352bfa-fae4-11e9-956e-02420a01004a",
       "next": "16352d6c-fae4-11e9-956e-02420a01004a",
       "previous": "16352a88-fae4-11e9-956e-02420a01004a"
      },
      {
       "current": "16352bfa-fae4-11e9-956e-02420a01004a",
       "next": "16356fe8-fae4-11e9-956e-02420a01004a",
       "previous": "16352a88-fae4-11e9-956e-02420a01004a"
      },
      {
       "current": "6eec0db6-216f-11ea-8ff8-02420a0104c6",
       "next": "6eec0ee2-216f-11ea-8ff8-02420a0104c6",
       "previous": "6eec0c9e-216f-11ea-8ff8-02420a0104c6"
      }
     ],
     "next": "6eec0ee2-216f-11ea-8ff8-02420a0104c6",
     "previous": "6eec0b86-216f-11ea-8ff8-02420a0104c6"
    }
   },
   "source": [
    "<font size=\"2\" color=\"blue\">ヒント：(x,y)=(0,0)と(x,y)=(999,999)を結ぶ直線状に、1000個の点が分布します。</font>"
   ]
  },
  {
   "cell_type": "markdown",
   "metadata": {
    "lc_cell_meme": {
     "current": "6eec0ee2-216f-11ea-8ff8-02420a0104c6",
     "history": [
      {
       "current": "8c75c824-fa35-11e9-bc54-02420a010e28",
       "next": "8c75c928-fa35-11e9-bc54-02420a010e28",
       "previous": "8c75c716-fa35-11e9-bc54-02420a010e28"
      },
      {
       "current": "16356fe8-fae4-11e9-956e-02420a01004a",
       "next": "163571aa-fae4-11e9-956e-02420a01004a",
       "previous": "16356dfe-fae4-11e9-956e-02420a01004a"
      },
      {
       "current": "16356fe8-fae4-11e9-956e-02420a01004a",
       "next": "16357312-fae4-11e9-956e-02420a01004a",
       "previous": "16352bfa-fae4-11e9-956e-02420a01004a"
      }
     ],
     "next": "6eec0fe6-216f-11ea-8ff8-02420a0104c6",
     "previous": "6eec0db6-216f-11ea-8ff8-02420a0104c6"
    }
   },
   "source": [
    "### リストのリスト（リストを要素にもつリスト）のソート"
   ]
  },
  {
   "cell_type": "markdown",
   "metadata": {
    "lc_cell_meme": {
     "current": "6eec0fe6-216f-11ea-8ff8-02420a0104c6",
     "history": [
      {
       "current": "8c75ca36-fa35-11e9-bc54-02420a010e28",
       "next": "8c75cbda-fa35-11e9-bc54-02420a010e28",
       "previous": "8c75c928-fa35-11e9-bc54-02420a010e28"
      },
      {
       "current": "16357312-fae4-11e9-956e-02420a01004a",
       "next": "16357542-fae4-11e9-956e-02420a01004a",
       "previous": "163571aa-fae4-11e9-956e-02420a01004a"
      },
      {
       "current": "16357312-fae4-11e9-956e-02420a01004a",
       "next": "16357542-fae4-11e9-956e-02420a01004a",
       "previous": "16356fe8-fae4-11e9-956e-02420a01004a"
      }
     ],
     "next": "6eec10ea-216f-11ea-8ff8-02420a0104c6",
     "previous": "6eec0ee2-216f-11ea-8ff8-02420a0104c6"
    }
   },
   "source": [
    "#### 演習（手順1）"
   ]
  },
  {
   "cell_type": "markdown",
   "metadata": {
    "lc_cell_meme": {
     "current": "6eec10ea-216f-11ea-8ff8-02420a0104c6",
     "history": [
      {
       "current": "8c75cbda-fa35-11e9-bc54-02420a010e28",
       "next": "8c75ccd4-fa35-11e9-bc54-02420a010e28",
       "previous": "8c75ca36-fa35-11e9-bc54-02420a010e28"
      },
      {
       "current": "16357542-fae4-11e9-956e-02420a01004a",
       "next": "163576a0-fae4-11e9-956e-02420a01004a",
       "previous": "16357312-fae4-11e9-956e-02420a01004a"
      }
     ],
     "next": "6eec11f8-216f-11ea-8ff8-02420a0104c6",
     "previous": "6eec0fe6-216f-11ea-8ff8-02420a0104c6"
    }
   },
   "source": [
    "次の表に示す月の略称と順番のリストを要素としたリスト`manthl`を作成し、`manthl`を評価しなさい。\n",
    "\n",
    "|月の略称|月の順番|\n",
    "|-|-|\n",
    "|\"Jan\"|1|\n",
    "|\"Feb\"|2|\n",
    "|\"Mar\"|3|\n",
    "|\"Apr\"|4|\n",
    "|\"May\"|5|\n",
    "|\"Jun\"|6|\n",
    "|\"Jul\"|7|\n",
    "|\"Aug\"|8|\n",
    "|\"Sep\"|9|\n",
    "|\"Oct\"|10|\n",
    "|\"Nov\"|11|\n",
    "|\"Dec\"|12|"
   ]
  },
  {
   "cell_type": "code",
   "execution_count": null,
   "metadata": {
    "lc_cell_meme": {
     "current": "6eec11f8-216f-11ea-8ff8-02420a0104c6",
     "history": [
      {
       "current": "8c75ccd4-fa35-11e9-bc54-02420a010e28",
       "next": "8c75cdd8-fa35-11e9-bc54-02420a010e28",
       "previous": "8c75cbda-fa35-11e9-bc54-02420a010e28"
      },
      {
       "current": "163576a0-fae4-11e9-956e-02420a01004a",
       "next": "16357826-fae4-11e9-956e-02420a01004a",
       "previous": "16357542-fae4-11e9-956e-02420a01004a"
      },
      {
       "current": "6eec11f8-216f-11ea-8ff8-02420a0104c6",
       "next": "6eec1310-216f-11ea-8ff8-02420a0104c6",
       "previous": "6eec10ea-216f-11ea-8ff8-02420a0104c6"
      }
     ],
     "next": "6eec1414-216f-11ea-8ff8-02420a0104c6",
     "previous": "6eec10ea-216f-11ea-8ff8-02420a0104c6"
    }
   },
   "outputs": [],
   "source": [
    "# 演習用入力欄（リストを作成するために、?を修正すること）\n",
    "monthl = ?[\"Jan\",1]?[\"Feb\",2]?[\"Mar\",3]?[\"Apr\",4]?[\"Mar\",5]?[\"Jun\",6]?[\"Jul\",7]?[\"Aug\",8]?[\"Sep\",9]?[\"Oct\",10]?[\"Nov\",11]?[\"Dec\",12]?\n",
    "monthl"
   ]
  },
  {
   "cell_type": "markdown",
   "metadata": {
    "lc_cell_meme": {
     "current": "6eec1414-216f-11ea-8ff8-02420a0104c6",
     "history": [
      {
       "current": "8c75ced2-fa35-11e9-bc54-02420a010e28",
       "next": "8c75cfd6-fa35-11e9-bc54-02420a010e28",
       "previous": "8c75cdd8-fa35-11e9-bc54-02420a010e28"
      },
      {
       "current": "16357984-fae4-11e9-956e-02420a01004a",
       "next": "16357b78-fae4-11e9-956e-02420a01004a",
       "previous": "16357826-fae4-11e9-956e-02420a01004a"
      },
      {
       "current": "16357984-fae4-11e9-956e-02420a01004a",
       "next": "163576a0-fae4-11e9-956e-02420a01004a",
       "previous": "16357826-fae4-11e9-956e-02420a01004a"
      },
      {
       "current": "6eec1414-216f-11ea-8ff8-02420a0104c6",
       "next": "6eec150e-216f-11ea-8ff8-02420a0104c6",
       "previous": "6eec1310-216f-11ea-8ff8-02420a0104c6"
      }
     ],
     "next": "6eec150e-216f-11ea-8ff8-02420a0104c6",
     "previous": "6eec11f8-216f-11ea-8ff8-02420a0104c6"
    }
   },
   "source": [
    "後でソートを行うための事前準備として`monthl`をランダムに並び替えます。\n",
    "関数`random.sample( )`を使って`monthl`をランダムに並び替えたリスト`l`を作成し、`l`を評価しなさい。    "
   ]
  },
  {
   "cell_type": "code",
   "execution_count": null,
   "metadata": {
    "lc_cell_meme": {
     "current": "6eec150e-216f-11ea-8ff8-02420a0104c6",
     "history": [
      {
       "current": "8c75ccd4-fa35-11e9-bc54-02420a010e28",
       "next": "8c75cdd8-fa35-11e9-bc54-02420a010e28",
       "previous": "8c75cbda-fa35-11e9-bc54-02420a010e28"
      },
      {
       "current": "163576a0-fae4-11e9-956e-02420a01004a",
       "next": "16357826-fae4-11e9-956e-02420a01004a",
       "previous": "16357542-fae4-11e9-956e-02420a01004a"
      },
      {
       "current": "163576a0-fae4-11e9-956e-02420a01004a",
       "next": "163586b8-fae4-11e9-956e-02420a01004a",
       "previous": "16357984-fae4-11e9-956e-02420a01004a"
      }
     ],
     "next": "6eec1608-216f-11ea-8ff8-02420a0104c6",
     "previous": "6eec1414-216f-11ea-8ff8-02420a0104c6"
    },
    "lc_wrapper": {
     "log_history": [
      "/home/16999405x4b0807/12a/.log/20191218/20191218-170814-0010.log",
      "/home/16999405x4b0807/12a/.log/20191220/20191220-213859-0122.log"
     ]
    }
   },
   "outputs": [],
   "source": [
    "# 演習用入力欄（このまま評価すること）\n",
    "l = random.sample(monthl, 12)\n",
    "l"
   ]
  },
  {
   "cell_type": "markdown",
   "metadata": {
    "lc_cell_meme": {
     "current": "6eec1608-216f-11ea-8ff8-02420a0104c6",
     "history": [
      {
       "current": "8c75d760-fa35-11e9-bc54-02420a010e28",
       "next": "8c75d85a-fa35-11e9-bc54-02420a010e28",
       "previous": "8c75d666-fa35-11e9-bc54-02420a010e28"
      },
      {
       "current": "163586b8-fae4-11e9-956e-02420a01004a",
       "next": "1635882a-fae4-11e9-956e-02420a01004a",
       "previous": "1635856e-fae4-11e9-956e-02420a01004a"
      },
      {
       "current": "163586b8-fae4-11e9-956e-02420a01004a",
       "next": "16357312-fae4-11e9-956e-02420a01004a",
       "previous": "163576a0-fae4-11e9-956e-02420a01004a"
      }
     ],
     "next": "6eec1734-216f-11ea-8ff8-02420a0104c6",
     "previous": "6eec150e-216f-11ea-8ff8-02420a0104c6"
    }
   },
   "source": [
    "<font size=\"2\" color=\"blue\">ヒント：リスト`l`の各要素がランダムに並んでいることを確認しなさい。</font>"
   ]
  },
  {
   "cell_type": "markdown",
   "metadata": {
    "lc_cell_meme": {
     "current": "6eec1734-216f-11ea-8ff8-02420a0104c6",
     "history": [
      {
       "current": "8c75ca36-fa35-11e9-bc54-02420a010e28",
       "next": "8c75cbda-fa35-11e9-bc54-02420a010e28",
       "previous": "8c75c928-fa35-11e9-bc54-02420a010e28"
      },
      {
       "current": "16357312-fae4-11e9-956e-02420a01004a",
       "next": "16357542-fae4-11e9-956e-02420a01004a",
       "previous": "163571aa-fae4-11e9-956e-02420a01004a"
      },
      {
       "current": "16357312-fae4-11e9-956e-02420a01004a",
       "next": "16357ccc-fae4-11e9-956e-02420a01004a",
       "previous": "163586b8-fae4-11e9-956e-02420a01004a"
      }
     ],
     "next": "6eec182e-216f-11ea-8ff8-02420a0104c6",
     "previous": "6eec1608-216f-11ea-8ff8-02420a0104c6"
    }
   },
   "source": [
    "#### 演習（手順2）"
   ]
  },
  {
   "cell_type": "markdown",
   "metadata": {
    "lc_cell_meme": {
     "current": "6eec182e-216f-11ea-8ff8-02420a0104c6",
     "history": [
      {
       "current": "8c75d13e-fa35-11e9-bc54-02420a010e28",
       "next": "8c75d26a-fa35-11e9-bc54-02420a010e28",
       "previous": "8c75cfd6-fa35-11e9-bc54-02420a010e28"
      },
      {
       "current": "16357ccc-fae4-11e9-956e-02420a01004a",
       "next": "16357e98-fae4-11e9-956e-02420a01004a",
       "previous": "16357b78-fae4-11e9-956e-02420a01004a"
      },
      {
       "current": "16357ccc-fae4-11e9-956e-02420a01004a",
       "next": "18595a82-216d-11ea-8429-02420a0104c6",
       "previous": "16357312-fae4-11e9-956e-02420a01004a"
      }
     ],
     "next": "6eec191e-216f-11ea-8ff8-02420a0104c6",
     "previous": "6eec1734-216f-11ea-8ff8-02420a0104c6"
    }
   },
   "source": [
    "月名リストの月の順番の最小値の場所を返す関数`min_idx_l(l, s, e)`を定義しなさい。"
   ]
  },
  {
   "cell_type": "markdown",
   "metadata": {
    "lc_cell_meme": {
     "current": "6eec191e-216f-11ea-8ff8-02420a0104c6",
     "history": [
      {
       "current": "18595a82-216d-11ea-8429-02420a0104c6",
       "next": "16357e98-fae4-11e9-956e-02420a01004a",
       "previous": "16357ccc-fae4-11e9-956e-02420a01004a"
      }
     ],
     "next": "6eec1a36-216f-11ea-8ff8-02420a0104c6",
     "previous": "6eec182e-216f-11ea-8ff8-02420a0104c6"
    }
   },
   "source": [
    "- 引数<br>\n",
    "`l` : 上記で定義されたを要素に持つリスト型データ<br>\n",
    "`s` : ソート対象の先頭インデックス<br>\n",
    "`e` : ソート対象の末尾インデックス\n",
    "- 戻り値<br>\n",
    "月の順番の最小値の場所(インデックス)"
   ]
  },
  {
   "cell_type": "code",
   "execution_count": null,
   "metadata": {
    "lc_cell_meme": {
     "current": "6eec1a36-216f-11ea-8ff8-02420a0104c6",
     "history": [
      {
       "current": "8c75d26a-fa35-11e9-bc54-02420a010e28",
       "next": "8c75d36e-fa35-11e9-bc54-02420a010e28",
       "previous": "8c75d13e-fa35-11e9-bc54-02420a010e28"
      },
      {
       "current": "16357e98-fae4-11e9-956e-02420a01004a",
       "next": "16358186-fae4-11e9-956e-02420a01004a",
       "previous": "16357ccc-fae4-11e9-956e-02420a01004a"
      },
      {
       "current": "16357e98-fae4-11e9-956e-02420a01004a",
       "next": "16358186-fae4-11e9-956e-02420a01004a",
       "previous": "18595a82-216d-11ea-8429-02420a0104c6"
      },
      {
       "current": "6eec1a36-216f-11ea-8ff8-02420a0104c6",
       "next": "6eec1b30-216f-11ea-8ff8-02420a0104c6",
       "previous": "6eec191e-216f-11ea-8ff8-02420a0104c6"
      }
     ],
     "next": "6eec1c3e-216f-11ea-8ff8-02420a0104c6",
     "previous": "6eec191e-216f-11ea-8ff8-02420a0104c6"
    }
   },
   "outputs": [],
   "source": [
    "# 演習用入力欄\n"
   ]
  },
  {
   "cell_type": "markdown",
   "metadata": {
    "lc_cell_meme": {
     "current": "6eec1c3e-216f-11ea-8ff8-02420a0104c6",
     "history": [
      {
       "current": "8c75ca36-fa35-11e9-bc54-02420a010e28",
       "next": "8c75cbda-fa35-11e9-bc54-02420a010e28",
       "previous": "8c75c928-fa35-11e9-bc54-02420a010e28"
      },
      {
       "current": "16357312-fae4-11e9-956e-02420a01004a",
       "next": "16357542-fae4-11e9-956e-02420a01004a",
       "previous": "163571aa-fae4-11e9-956e-02420a01004a"
      },
      {
       "current": "16357312-fae4-11e9-956e-02420a01004a",
       "next": "1635856e-fae4-11e9-956e-02420a01004a",
       "previous": "16358186-fae4-11e9-956e-02420a01004a"
      },
      {
       "current": "6eec1c3e-216f-11ea-8ff8-02420a0104c6",
       "next": "6eec1d38-216f-11ea-8ff8-02420a0104c6",
       "previous": "6eec1b30-216f-11ea-8ff8-02420a0104c6"
      }
     ],
     "next": "6eec1d38-216f-11ea-8ff8-02420a0104c6",
     "previous": "6eec1a36-216f-11ea-8ff8-02420a0104c6"
    }
   },
   "source": [
    "#### 演習（手順2の確認）"
   ]
  },
  {
   "cell_type": "markdown",
   "metadata": {
    "lc_cell_meme": {
     "current": "6eec1d38-216f-11ea-8ff8-02420a0104c6",
     "history": [
      {
       "current": "8c75d666-fa35-11e9-bc54-02420a010e28",
       "next": "8c75d760-fa35-11e9-bc54-02420a010e28",
       "previous": "8c75d562-fa35-11e9-bc54-02420a010e28"
      },
      {
       "current": "1635856e-fae4-11e9-956e-02420a01004a",
       "next": "163586b8-fae4-11e9-956e-02420a01004a",
       "previous": "16358424-fae4-11e9-956e-02420a01004a"
      },
      {
       "current": "1635856e-fae4-11e9-956e-02420a01004a",
       "next": "16357e98-fae4-11e9-956e-02420a01004a",
       "previous": "16357312-fae4-11e9-956e-02420a01004a"
      }
     ],
     "next": "6eec1e32-216f-11ea-8ff8-02420a0104c6",
     "previous": "6eec1c3e-216f-11ea-8ff8-02420a0104c6"
    }
   },
   "source": [
    "手順2で定義した`min_idx_l(l, s, e)`に、リスト`l`と、その先頭および末尾のインデックスを与えて、動作を検証しなさい。"
   ]
  },
  {
   "cell_type": "code",
   "execution_count": null,
   "metadata": {
    "lc_cell_meme": {
     "current": "6eec1e32-216f-11ea-8ff8-02420a0104c6",
     "history": [
      {
       "current": "8c75d26a-fa35-11e9-bc54-02420a010e28",
       "next": "8c75d36e-fa35-11e9-bc54-02420a010e28",
       "previous": "8c75d13e-fa35-11e9-bc54-02420a010e28"
      },
      {
       "current": "16357e98-fae4-11e9-956e-02420a01004a",
       "next": "16358186-fae4-11e9-956e-02420a01004a",
       "previous": "16357ccc-fae4-11e9-956e-02420a01004a"
      },
      {
       "current": "16357e98-fae4-11e9-956e-02420a01004a",
       "next": "16358186-fae4-11e9-956e-02420a01004a",
       "previous": "1635856e-fae4-11e9-956e-02420a01004a"
      },
      {
       "current": "6eec1e32-216f-11ea-8ff8-02420a0104c6",
       "next": "6eec1f86-216f-11ea-8ff8-02420a0104c6",
       "previous": "6eec1d38-216f-11ea-8ff8-02420a0104c6"
      }
     ],
     "next": "6eec20da-216f-11ea-8ff8-02420a0104c6",
     "previous": "6eec1d38-216f-11ea-8ff8-02420a0104c6"
    }
   },
   "outputs": [],
   "source": [
    "# 演習用入力欄\n"
   ]
  },
  {
   "cell_type": "markdown",
   "metadata": {
    "lc_cell_meme": {
     "current": "6eec20da-216f-11ea-8ff8-02420a0104c6",
     "history": [
      {
       "current": "8c75d760-fa35-11e9-bc54-02420a010e28",
       "next": "8c75d85a-fa35-11e9-bc54-02420a010e28",
       "previous": "8c75d666-fa35-11e9-bc54-02420a010e28"
      },
      {
       "current": "163586b8-fae4-11e9-956e-02420a01004a",
       "next": "1635882a-fae4-11e9-956e-02420a01004a",
       "previous": "1635856e-fae4-11e9-956e-02420a01004a"
      },
      {
       "current": "163586b8-fae4-11e9-956e-02420a01004a",
       "next": "16358ae6-fae4-11e9-956e-02420a01004a",
       "previous": "16358186-fae4-11e9-956e-02420a01004a"
      },
      {
       "current": "6eec20da-216f-11ea-8ff8-02420a0104c6",
       "next": "6eec21de-216f-11ea-8ff8-02420a0104c6",
       "previous": "6eec1f86-216f-11ea-8ff8-02420a0104c6"
      }
     ],
     "next": "6eec21de-216f-11ea-8ff8-02420a0104c6",
     "previous": "6eec1e32-216f-11ea-8ff8-02420a0104c6"
    }
   },
   "source": [
    "<font size=\"2\" color=\"blue\">ヒント：手順1で作成したリスト`l`の['Jan',1]のインデックスが出力されることを確認しなさい。</font>"
   ]
  },
  {
   "cell_type": "markdown",
   "metadata": {
    "lc_cell_meme": {
     "current": "6eec21de-216f-11ea-8ff8-02420a0104c6",
     "history": [
      {
       "current": "8c75da4e-fa35-11e9-bc54-02420a010e28",
       "next": "8c75db7a-fa35-11e9-bc54-02420a010e28",
       "previous": "8c75d954-fa35-11e9-bc54-02420a010e28"
      },
      {
       "current": "16358ae6-fae4-11e9-956e-02420a01004a",
       "next": "16358c30-fae4-11e9-956e-02420a01004a",
       "previous": "1635896a-fae4-11e9-956e-02420a01004a"
      },
      {
       "current": "16358ae6-fae4-11e9-956e-02420a01004a",
       "next": "16358c30-fae4-11e9-956e-02420a01004a",
       "previous": "163586b8-fae4-11e9-956e-02420a01004a"
      }
     ],
     "next": "6eec22f6-216f-11ea-8ff8-02420a0104c6",
     "previous": "6eec20da-216f-11ea-8ff8-02420a0104c6"
    }
   },
   "source": [
    "#### 演習（手順3）"
   ]
  },
  {
   "cell_type": "markdown",
   "metadata": {
    "lc_cell_meme": {
     "current": "6eec22f6-216f-11ea-8ff8-02420a0104c6",
     "history": [
      {
       "current": "8c75db7a-fa35-11e9-bc54-02420a010e28",
       "next": "8c75dc7e-fa35-11e9-bc54-02420a010e28",
       "previous": "8c75da4e-fa35-11e9-bc54-02420a010e28"
      },
      {
       "current": "16358c30-fae4-11e9-956e-02420a01004a",
       "next": "16358da2-fae4-11e9-956e-02420a01004a",
       "previous": "16358ae6-fae4-11e9-956e-02420a01004a"
      }
     ],
     "next": "6eec24b8-216f-11ea-8ff8-02420a0104c6",
     "previous": "6eec21de-216f-11ea-8ff8-02420a0104c6"
    }
   },
   "source": [
    "手順2で定義した`min_idx_l(l,s,e)`を使って、手順1で与えられたリスト`l`を選択ソートする関数`selection_sort_l(l)`を定義しなさい。"
   ]
  },
  {
   "cell_type": "code",
   "execution_count": null,
   "metadata": {
    "lc_cell_meme": {
     "current": "6eec24b8-216f-11ea-8ff8-02420a0104c6",
     "history": [
      {
       "current": "8c75dc7e-fa35-11e9-bc54-02420a010e28",
       "next": "8c75dd78-fa35-11e9-bc54-02420a010e28",
       "previous": "8c75db7a-fa35-11e9-bc54-02420a010e28"
      },
      {
       "current": "16358da2-fae4-11e9-956e-02420a01004a",
       "next": "16358eec-fae4-11e9-956e-02420a01004a",
       "previous": "16358c30-fae4-11e9-956e-02420a01004a"
      },
      {
       "current": "6eec24b8-216f-11ea-8ff8-02420a0104c6",
       "next": "6eec25da-216f-11ea-8ff8-02420a0104c6",
       "previous": "6eec22f6-216f-11ea-8ff8-02420a0104c6"
      }
     ],
     "next": "6eec26e8-216f-11ea-8ff8-02420a0104c6",
     "previous": "6eec22f6-216f-11ea-8ff8-02420a0104c6"
    }
   },
   "outputs": [],
   "source": [
    "# 演習用入力欄\n"
   ]
  },
  {
   "cell_type": "markdown",
   "metadata": {
    "lc_cell_meme": {
     "current": "6eec26e8-216f-11ea-8ff8-02420a0104c6",
     "history": [
      {
       "current": "8c75e250-fa35-11e9-bc54-02420a010e28",
       "next": "8c75e34a-fa35-11e9-bc54-02420a010e28",
       "previous": "8c75e14c-fa35-11e9-bc54-02420a010e28"
      },
      {
       "current": "16359428-fae4-11e9-956e-02420a01004a",
       "next": "16359568-fae4-11e9-956e-02420a01004a",
       "previous": "163592e8-fae4-11e9-956e-02420a01004a"
      },
      {
       "current": "16359428-fae4-11e9-956e-02420a01004a",
       "next": "16359568-fae4-11e9-956e-02420a01004a",
       "previous": "16358eec-fae4-11e9-956e-02420a01004a"
      },
      {
       "current": "6eec26e8-216f-11ea-8ff8-02420a0104c6",
       "next": "6eec27ec-216f-11ea-8ff8-02420a0104c6",
       "previous": "6eec25da-216f-11ea-8ff8-02420a0104c6"
      }
     ],
     "next": "6eec27ec-216f-11ea-8ff8-02420a0104c6",
     "previous": "6eec24b8-216f-11ea-8ff8-02420a0104c6"
    }
   },
   "source": [
    "#### 演習（手順3の確認）"
   ]
  },
  {
   "cell_type": "markdown",
   "metadata": {
    "lc_cell_meme": {
     "current": "6eec27ec-216f-11ea-8ff8-02420a0104c6",
     "history": [
      {
       "current": "8c75e34a-fa35-11e9-bc54-02420a010e28",
       "next": "8c75e44e-fa35-11e9-bc54-02420a010e28",
       "previous": "8c75e250-fa35-11e9-bc54-02420a010e28"
      },
      {
       "current": "16359568-fae4-11e9-956e-02420a01004a",
       "next": "163597b6-fae4-11e9-956e-02420a01004a",
       "previous": "16359428-fae4-11e9-956e-02420a01004a"
      }
     ],
     "next": "6eec28e6-216f-11ea-8ff8-02420a0104c6",
     "previous": "6eec26e8-216f-11ea-8ff8-02420a0104c6"
    }
   },
   "source": [
    "手順3で定義した関数`selection_sort_l( )`にリスト`l`を渡してソートしなさい。その後、`l`を評価してソートされていることを確認しなさい。"
   ]
  },
  {
   "cell_type": "code",
   "execution_count": null,
   "metadata": {
    "lc_cell_meme": {
     "current": "6eec28e6-216f-11ea-8ff8-02420a0104c6",
     "history": [
      {
       "current": "8c75e44e-fa35-11e9-bc54-02420a010e28",
       "next": "8c75e552-fa35-11e9-bc54-02420a010e28",
       "previous": "8c75e34a-fa35-11e9-bc54-02420a010e28"
      },
      {
       "current": "163597b6-fae4-11e9-956e-02420a01004a",
       "next": "16359950-fae4-11e9-956e-02420a01004a",
       "previous": "16359568-fae4-11e9-956e-02420a01004a"
      },
      {
       "current": "6eec28e6-216f-11ea-8ff8-02420a0104c6",
       "next": "6eec2a94-216f-11ea-8ff8-02420a0104c6",
       "previous": "6eec27ec-216f-11ea-8ff8-02420a0104c6"
      }
     ],
     "next": "6eec2ba2-216f-11ea-8ff8-02420a0104c6",
     "previous": "6eec27ec-216f-11ea-8ff8-02420a0104c6"
    }
   },
   "outputs": [],
   "source": [
    "# 演習用入力欄\n"
   ]
  },
  {
   "cell_type": "markdown",
   "metadata": {
    "lc_cell_meme": {
     "current": "6eec2ba2-216f-11ea-8ff8-02420a0104c6",
     "history": [
      {
       "current": "8c75d760-fa35-11e9-bc54-02420a010e28",
       "next": "8c75d85a-fa35-11e9-bc54-02420a010e28",
       "previous": "8c75d666-fa35-11e9-bc54-02420a010e28"
      },
      {
       "current": "163586b8-fae4-11e9-956e-02420a01004a",
       "next": "1635882a-fae4-11e9-956e-02420a01004a",
       "previous": "1635856e-fae4-11e9-956e-02420a01004a"
      },
      {
       "current": "163586b8-fae4-11e9-956e-02420a01004a",
       "next": "1635c416-fae4-11e9-956e-02420a01004a",
       "previous": "16359950-fae4-11e9-956e-02420a01004a"
      },
      {
       "current": "6eec2ba2-216f-11ea-8ff8-02420a0104c6",
       "next": "6eec2ca6-216f-11ea-8ff8-02420a0104c6",
       "previous": "6eec2a94-216f-11ea-8ff8-02420a0104c6"
      }
     ],
     "next": "6eec2ca6-216f-11ea-8ff8-02420a0104c6",
     "previous": "6eec28e6-216f-11ea-8ff8-02420a0104c6"
    }
   },
   "source": [
    "<font size=\"2\" color=\"blue\">ヒント：リスト`l`の各要素が昇順に並んでいることを確認しなさい。</font>"
   ]
  },
  {
   "cell_type": "markdown",
   "metadata": {
    "lc_cell_meme": {
     "current": "6eec2ca6-216f-11ea-8ff8-02420a0104c6",
     "history": [
      {
       "current": "8c76021c-fa35-11e9-bc54-02420a010e28",
       "next": "8c760316-fa35-11e9-bc54-02420a010e28",
       "previous": "8c760122-fa35-11e9-bc54-02420a010e28"
      },
      {
       "current": "1635c416-fae4-11e9-956e-02420a01004a",
       "next": "1635c574-fae4-11e9-956e-02420a01004a",
       "previous": "1635c2c2-fae4-11e9-956e-02420a01004a"
      },
      {
       "current": "1635c416-fae4-11e9-956e-02420a01004a",
       "next": "1635c574-fae4-11e9-956e-02420a01004a",
       "previous": "163586b8-fae4-11e9-956e-02420a01004a"
      }
     ],
     "next": "6eec2daa-216f-11ea-8ff8-02420a0104c6",
     "previous": "6eec2ba2-216f-11ea-8ff8-02420a0104c6"
    }
   },
   "source": [
    "# __演習はこれで終了です。課題に進んでください。__"
   ]
  },
  {
   "cell_type": "code",
   "execution_count": null,
   "metadata": {
    "lc_cell_meme": {
     "current": "6eec2daa-216f-11ea-8ff8-02420a0104c6",
     "history": [
      {
       "current": "8c760316-fa35-11e9-bc54-02420a010e28",
       "next": null,
       "previous": "8c76021c-fa35-11e9-bc54-02420a010e28"
      },
      {
       "current": "1635c574-fae4-11e9-956e-02420a01004a",
       "next": null,
       "previous": "1635c416-fae4-11e9-956e-02420a01004a"
      }
     ],
     "next": null,
     "previous": "6eec2ca6-216f-11ea-8ff8-02420a0104c6"
    }
   },
   "outputs": [],
   "source": []
  }
 ],
 "metadata": {
  "celltoolbar": "Raw Cell Format",
  "kernelspec": {
   "display_name": "Python 3",
   "language": "python",
   "name": "python3"
  },
  "language_info": {
   "file_extension": ".py",
   "mimetype": "text/x-python",
   "name": "python",
   "nbconvert_exporter": "python",
   "pygments_lexer": "ipython3",
   "version": "3.7.3"
  },
  "lc_notebook_meme": {
   "current": "6eebd788-216f-11ea-8ff8-02420a0104c6",
   "history": [
    "cebf3c90-2391-11e9-a9f8-e0d55ea40caf",
    "aa7bef44-96e2-11e9-8e94-02420a010063",
    "163507ba-fae4-11e9-956e-02420a01004a"
   ],
   "lc_server_signature": {
    "current": {
     "notebook_dir": "/home/16999405x4b0807",
     "notebook_path": "/12",
     "server_url": "https://nb06.ecloud.nii.ac.jp/user/16999405x4b0807/",
     "signature_id": "9dd54594-df60-11e9-8bcf-02420a010029"
    },
    "history": [
     {
      "notebook_dir": "/home/kuwata/notebooks",
      "notebook_path": "/",
      "server_url": "http://157.19.141.8:8000/user/kuwata/",
      "signature_id": "d0abe7ae-153d-11e9-9674-e0d55ea40caf"
     },
     {
      "notebook_dir": "/home/kuwataa25e07",
      "notebook_path": "/03",
      "server_url": "https://nb02.ecloud.nii.ac.jp/user/kuwataa25e07/",
      "signature_id": "8e0bfa62-88ae-11e9-b239-02420a010019"
     },
     {
      "notebook_dir": "/home/16999405x4b0807",
      "notebook_path": "/06a",
      "server_url": "https://nb06.ecloud.nii.ac.jp/user/16999405x4b0807/",
      "signature_id": "9dd54594-df60-11e9-8bcf-02420a010029"
     },
     {
      "notebook_dir": "/home/16999405x4b0807",
      "notebook_path": "/12a",
      "server_url": "https://nb06.ecloud.nii.ac.jp/user/16999405x4b0807/",
      "signature_id": "9dd54594-df60-11e9-8bcf-02420a010029"
     }
    ]
   },
   "root_cells": [
    "6eebdd64-216f-11ea-8ff8-02420a0104c6",
    "6eebdf1c-216f-11ea-8ff8-02420a0104c6",
    "6eebe052-216f-11ea-8ff8-02420a0104c6",
    "6eebe232-216f-11ea-8ff8-02420a0104c6",
    "6eebe35e-216f-11ea-8ff8-02420a0104c6",
    "6eebe462-216f-11ea-8ff8-02420a0104c6",
    "6eebe584-216f-11ea-8ff8-02420a0104c6",
    "6eebe69c-216f-11ea-8ff8-02420a0104c6",
    "6eebe7aa-216f-11ea-8ff8-02420a0104c6",
    "6eebe8c2-216f-11ea-8ff8-02420a0104c6",
    "6eebe9ee-216f-11ea-8ff8-02420a0104c6",
    "6eebeae8-216f-11ea-8ff8-02420a0104c6",
    "6eebec0a-216f-11ea-8ff8-02420a0104c6",
    "6eebed2c-216f-11ea-8ff8-02420a0104c6",
    "6eebee44-216f-11ea-8ff8-02420a0104c6",
    "6eebef3e-216f-11ea-8ff8-02420a0104c6",
    "6eebf06a-216f-11ea-8ff8-02420a0104c6",
    "6eebf164-216f-11ea-8ff8-02420a0104c6",
    "6eebf25e-216f-11ea-8ff8-02420a0104c6",
    "6eebf380-216f-11ea-8ff8-02420a0104c6",
    "6eebf4ac-216f-11ea-8ff8-02420a0104c6",
    "6eebf5c4-216f-11ea-8ff8-02420a0104c6",
    "6eebf6dc-216f-11ea-8ff8-02420a0104c6",
    "6eebf7f4-216f-11ea-8ff8-02420a0104c6",
    "6eebf998-216f-11ea-8ff8-02420a0104c6",
    "6eebfa9c-216f-11ea-8ff8-02420a0104c6",
    "6eebfbd2-216f-11ea-8ff8-02420a0104c6",
    "6eebfcea-216f-11ea-8ff8-02420a0104c6",
    "6eebfde4-216f-11ea-8ff8-02420a0104c6",
    "6eebfede-216f-11ea-8ff8-02420a0104c6",
    "6eec0000-216f-11ea-8ff8-02420a0104c6",
    "6eec0136-216f-11ea-8ff8-02420a0104c6",
    "6eec0230-216f-11ea-8ff8-02420a0104c6",
    "6eec0348-216f-11ea-8ff8-02420a0104c6",
    "6eec046a-216f-11ea-8ff8-02420a0104c6",
    "6eec058c-216f-11ea-8ff8-02420a0104c6",
    "6eec0686-216f-11ea-8ff8-02420a0104c6",
    "6eec0802-216f-11ea-8ff8-02420a0104c6",
    "6eec0956-216f-11ea-8ff8-02420a0104c6",
    "6eec0a6e-216f-11ea-8ff8-02420a0104c6",
    "6eec0b86-216f-11ea-8ff8-02420a0104c6",
    "6eec0c9e-216f-11ea-8ff8-02420a0104c6",
    "6eec0db6-216f-11ea-8ff8-02420a0104c6",
    "6eec0ee2-216f-11ea-8ff8-02420a0104c6",
    "6eec0fe6-216f-11ea-8ff8-02420a0104c6",
    "6eec10ea-216f-11ea-8ff8-02420a0104c6",
    "6eec11f8-216f-11ea-8ff8-02420a0104c6",
    "6eec1310-216f-11ea-8ff8-02420a0104c6",
    "6eec1414-216f-11ea-8ff8-02420a0104c6",
    "6eec150e-216f-11ea-8ff8-02420a0104c6",
    "6eec1608-216f-11ea-8ff8-02420a0104c6",
    "6eec1734-216f-11ea-8ff8-02420a0104c6",
    "6eec182e-216f-11ea-8ff8-02420a0104c6",
    "6eec191e-216f-11ea-8ff8-02420a0104c6",
    "6eec1a36-216f-11ea-8ff8-02420a0104c6",
    "6eec1b30-216f-11ea-8ff8-02420a0104c6",
    "6eec1c3e-216f-11ea-8ff8-02420a0104c6",
    "6eec1d38-216f-11ea-8ff8-02420a0104c6",
    "6eec1e32-216f-11ea-8ff8-02420a0104c6",
    "6eec1f86-216f-11ea-8ff8-02420a0104c6",
    "6eec20da-216f-11ea-8ff8-02420a0104c6",
    "6eec21de-216f-11ea-8ff8-02420a0104c6",
    "6eec22f6-216f-11ea-8ff8-02420a0104c6",
    "6eec24b8-216f-11ea-8ff8-02420a0104c6",
    "6eec25da-216f-11ea-8ff8-02420a0104c6",
    "6eec26e8-216f-11ea-8ff8-02420a0104c6",
    "6eec27ec-216f-11ea-8ff8-02420a0104c6",
    "6eec28e6-216f-11ea-8ff8-02420a0104c6",
    "6eec2a94-216f-11ea-8ff8-02420a0104c6",
    "6eec2ba2-216f-11ea-8ff8-02420a0104c6",
    "6eec2ca6-216f-11ea-8ff8-02420a0104c6",
    "6eec2daa-216f-11ea-8ff8-02420a0104c6"
   ]
  },
  "toc": {
   "base_numbering": 1,
   "nav_menu": {},
   "number_sections": true,
   "sideBar": true,
   "skip_h1_title": false,
   "title_cell": "Table of Contents",
   "title_sidebar": "Contents",
   "toc_cell": false,
   "toc_position": {},
   "toc_section_display": true,
   "toc_window_display": true
  }
 },
 "nbformat": 4,
 "nbformat_minor": 2
}
