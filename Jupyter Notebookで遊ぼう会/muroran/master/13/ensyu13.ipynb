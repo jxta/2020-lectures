{
 "cells": [
  {
   "cell_type": "markdown",
   "metadata": {
    "lc_cell_meme": {
     "current": "17f98c1a-30db-11ea-984f-02420a0101cc",
     "history": [
      {
       "current": "964ddd46-f143-11e9-a8bb-02420a010068",
       "next": "964ddee0-f143-11e9-a8bb-02420a010068",
       "previous": null
      },
      {
       "current": "1d09eb42-0a97-11ea-896e-02420a010068",
       "next": "1d09ee3a-0a97-11ea-896e-02420a010068",
       "previous": null
      }
     ],
     "next": "17f98dfa-30db-11ea-984f-02420a0101cc",
     "previous": null
    }
   },
   "source": [
    "# プログラミング入門\n",
    "## 第13回　シミュレーション（1）"
   ]
  },
  {
   "cell_type": "markdown",
   "metadata": {
    "lc_cell_meme": {
     "current": "17f98dfa-30db-11ea-984f-02420a0101cc",
     "history": [
      {
       "current": "964ddee0-f143-11e9-a8bb-02420a010068",
       "next": null,
       "previous": "964ddd46-f143-11e9-a8bb-02420a010068"
      },
      {
       "current": "964ddee0-f143-11e9-a8bb-02420a010068",
       "next": "c4df73c2-f143-11e9-a8bb-02420a010068",
       "previous": "964ddd46-f143-11e9-a8bb-02420a010068"
      },
      {
       "current": "1d09ee3a-0a97-11ea-896e-02420a010068",
       "next": "1d09eff2-0a97-11ea-896e-02420a010068",
       "previous": "1d09eb42-0a97-11ea-896e-02420a010068"
      }
     ],
     "next": "17f98fe4-30db-11ea-984f-02420a0101cc",
     "previous": "17f98c1a-30db-11ea-984f-02420a0101cc"
    }
   },
   "source": [
    "次のセルに、自分の名前と学籍番号を記入して下さい。"
   ]
  },
  {
   "cell_type": "markdown",
   "metadata": {
    "lc_cell_meme": {
     "current": "17f98fe4-30db-11ea-984f-02420a0101cc",
     "history": [
      {
       "current": "c4df73c2-f143-11e9-a8bb-02420a010068",
       "next": "c4df7660-f143-11e9-a8bb-02420a010068",
       "previous": "964ddee0-f143-11e9-a8bb-02420a010068"
      },
      {
       "current": "1d09eff2-0a97-11ea-896e-02420a010068",
       "next": "1d09f182-0a97-11ea-896e-02420a010068",
       "previous": "1d09ee3a-0a97-11ea-896e-02420a010068"
      }
     ],
     "next": "17f9914c-30db-11ea-984f-02420a0101cc",
     "previous": "17f98dfa-30db-11ea-984f-02420a0101cc"
    }
   },
   "source": [
    "学籍番号：　　　　　　　　　　　氏名："
   ]
  },
  {
   "cell_type": "markdown",
   "metadata": {
    "lc_cell_meme": {
     "current": "17f9914c-30db-11ea-984f-02420a0101cc",
     "history": [
      {
       "current": "c4df7660-f143-11e9-a8bb-02420a010068",
       "next": null,
       "previous": "c4df73c2-f143-11e9-a8bb-02420a010068"
      },
      {
       "current": "c4df7660-f143-11e9-a8bb-02420a010068",
       "next": "0c6cad18-f144-11e9-a8bb-02420a010068",
       "previous": "c4df73c2-f143-11e9-a8bb-02420a010068"
      },
      {
       "current": "1d09f182-0a97-11ea-896e-02420a010068",
       "next": "1d09f308-0a97-11ea-896e-02420a010068",
       "previous": "1d09eff2-0a97-11ea-896e-02420a010068"
      }
     ],
     "next": "17f9925a-30db-11ea-984f-02420a0101cc",
     "previous": "17f98fe4-30db-11ea-984f-02420a0101cc"
    }
   },
   "source": [
    "【進め方の注意】\n",
    "\n",
    "- 文書を読んで、手順に沿って問いに答えながら進めて下さい。\n",
    "- 最後まで問題を解いて、ファイルを保存して下さい。\n",
    "- 途中わからないことがあれば、教員またはTAに質問して下さい。"
   ]
  },
  {
   "cell_type": "markdown",
   "metadata": {
    "lc_cell_meme": {
     "current": "17f9925a-30db-11ea-984f-02420a0101cc",
     "history": [
      {
       "current": "0c6cad18-f144-11e9-a8bb-02420a010068",
       "next": "0c6caf52-f144-11e9-a8bb-02420a010068",
       "previous": "c4df7660-f143-11e9-a8bb-02420a010068"
      },
      {
       "current": "0c6cad18-f144-11e9-a8bb-02420a010068",
       "next": "53eef7fe-f144-11e9-a8bb-02420a010068",
       "previous": "c4df7660-f143-11e9-a8bb-02420a010068"
      },
      {
       "current": "0c6cad18-f144-11e9-a8bb-02420a010068",
       "next": "9b752f3a-f144-11e9-a8bb-02420a010068",
       "previous": "c4df7660-f143-11e9-a8bb-02420a010068"
      },
      {
       "current": "1d09f308-0a97-11ea-896e-02420a010068",
       "next": "1d09f4d4-0a97-11ea-896e-02420a010068",
       "previous": "1d09f182-0a97-11ea-896e-02420a010068"
      }
     ],
     "next": "17f993a4-30db-11ea-984f-02420a0101cc",
     "previous": "17f9914c-30db-11ea-984f-02420a0101cc"
    }
   },
   "source": [
    "# 1次元の酔歩問題 (教科書 P.105)"
   ]
  },
  {
   "cell_type": "markdown",
   "metadata": {
    "lc_cell_meme": {
     "current": "17f993a4-30db-11ea-984f-02420a0101cc",
     "history": [
      {
       "current": "9b752f3a-f144-11e9-a8bb-02420a010068",
       "next": "9b753200-f144-11e9-a8bb-02420a010068",
       "previous": "0c6cad18-f144-11e9-a8bb-02420a010068"
      },
      {
       "current": "9b752f3a-f144-11e9-a8bb-02420a010068",
       "next": "e305d6e2-f144-11e9-a8bb-02420a010068",
       "previous": "0c6cad18-f144-11e9-a8bb-02420a010068"
      },
      {
       "current": "9b752f3a-f144-11e9-a8bb-02420a010068",
       "next": "9b752f3a-f144-11e9-a8bb-02420a010068",
       "previous": "0c6cad18-f144-11e9-a8bb-02420a010068"
      },
      {
       "current": "1d09f4d4-0a97-11ea-896e-02420a010068",
       "next": "1d09f6a0-0a97-11ea-896e-02420a010068",
       "previous": "1d09f308-0a97-11ea-896e-02420a010068"
      },
      {
       "current": "1d09f4d4-0a97-11ea-896e-02420a010068",
       "next": "1d09f7ea-0a97-11ea-896e-02420a010068",
       "previous": "1d09f308-0a97-11ea-896e-02420a010068"
      }
     ],
     "next": "17f994b2-30db-11ea-984f-02420a0101cc",
     "previous": "17f9925a-30db-11ea-984f-02420a0101cc"
    }
   },
   "source": [
    "## 移動方向を決める関数"
   ]
  },
  {
   "cell_type": "markdown",
   "metadata": {
    "lc_cell_meme": {
     "current": "17f994b2-30db-11ea-984f-02420a0101cc",
     "history": [
      {
       "current": "d8f12422-06b6-11ea-a8bb-02420a010068",
       "next": "d8f1281e-06b6-11ea-a8bb-02420a010068",
       "previous": "9b752f3a-f144-11e9-a8bb-02420a010068"
      },
      {
       "current": "1d09f7ea-0a97-11ea-896e-02420a010068",
       "next": "1d09f934-0a97-11ea-896e-02420a010068",
       "previous": "1d09f6a0-0a97-11ea-896e-02420a010068"
      },
      {
       "current": "1d09f7ea-0a97-11ea-896e-02420a010068",
       "next": "1d09f934-0a97-11ea-896e-02420a010068",
       "previous": "1d09f4d4-0a97-11ea-896e-02420a010068"
      }
     ],
     "next": "17f995f2-30db-11ea-984f-02420a0101cc",
     "previous": "17f993a4-30db-11ea-984f-02420a0101cc"
    }
   },
   "source": [
    "○演習：\n",
    "\n",
    "次のセルで、 乱数を使い$+1$または$-1$だけ移動する関数$next\\_step()$を定義しなさい。\n",
    "\n",
    "1. 乱数の値が$0.5$より大きければ右に移動（$+1$を返す）\n",
    "2. それ以外の場合には、左に移動($-1$を返す）"
   ]
  },
  {
   "cell_type": "code",
   "execution_count": null,
   "metadata": {
    "lc_cell_meme": {
     "current": "17f995f2-30db-11ea-984f-02420a0101cc",
     "history": [
      {
       "current": "d8f1281e-06b6-11ea-a8bb-02420a010068",
       "next": "d8f12968-06b6-11ea-a8bb-02420a010068",
       "previous": "d8f12422-06b6-11ea-a8bb-02420a010068"
      },
      {
       "current": "1d09f934-0a97-11ea-896e-02420a010068",
       "next": "1d09fa7e-0a97-11ea-896e-02420a010068",
       "previous": "1d09f7ea-0a97-11ea-896e-02420a010068"
      },
      {
       "current": "1d09f934-0a97-11ea-896e-02420a010068",
       "next": "1d09fbf0-0a97-11ea-896e-02420a010068",
       "previous": "1d09f7ea-0a97-11ea-896e-02420a010068"
      }
     ],
     "next": "17f996f6-30db-11ea-984f-02420a0101cc",
     "previous": "17f994b2-30db-11ea-984f-02420a0101cc"
    }
   },
   "outputs": [],
   "source": [
    "# 演習用入力欄\n",
    "import random\n",
    "def next_step():\n",
    "    ???"
   ]
  },
  {
   "cell_type": "markdown",
   "metadata": {
    "lc_cell_meme": {
     "current": "17f996f6-30db-11ea-984f-02420a0101cc",
     "history": [
      {
       "current": "20715b6e-06b7-11ea-a8bb-02420a010068",
       "next": "9b753200-f144-11e9-a8bb-02420a010068",
       "previous": "d8f12968-06b6-11ea-a8bb-02420a010068"
      },
      {
       "current": "1d09fbf0-0a97-11ea-896e-02420a010068",
       "next": "1d09fd62-0a97-11ea-896e-02420a010068",
       "previous": "1d09fa7e-0a97-11ea-896e-02420a010068"
      },
      {
       "current": "1d09fbf0-0a97-11ea-896e-02420a010068",
       "next": "15837b8e-251a-11ea-ad6d-02420a0101f7",
       "previous": "1d09fa7e-0a97-11ea-896e-02420a010068"
      },
      {
       "current": "1d09fbf0-0a97-11ea-896e-02420a010068",
       "next": "15837b8e-251a-11ea-ad6d-02420a0101f7",
       "previous": "1d09f934-0a97-11ea-896e-02420a010068"
      }
     ],
     "next": "17f99822-30db-11ea-984f-02420a0101cc",
     "previous": "17f995f2-30db-11ea-984f-02420a0101cc"
    }
   },
   "source": [
    "以下のセルで、定義した$next\\_step()$を何回か実行し、$+1$または$-1$が返されることを確認しなさい。"
   ]
  },
  {
   "cell_type": "code",
   "execution_count": null,
   "metadata": {
    "lc_cell_meme": {
     "current": "17f99822-30db-11ea-984f-02420a0101cc",
     "history": [
      {
       "current": "15837b8e-251a-11ea-ad6d-02420a0101f7",
       "next": "1d0a370a-0a97-11ea-896e-02420a010068",
       "previous": "1d09fbf0-0a97-11ea-896e-02420a010068"
      }
     ],
     "next": "17f99944-30db-11ea-984f-02420a0101cc",
     "previous": "17f996f6-30db-11ea-984f-02420a0101cc"
    },
    "lc_wrapper": {
     "log_history": [
      "/home/14999410x94c69e/13a/.log/20191223/20191223-135748-0705.log",
      "/home/14999410x94c69e/13a/.log/20191223/20191223-135750-0937.log",
      "/home/14999410x94c69e/13a/.log/20191223/20191223-135753-0377.log",
      "/home/14999410x94c69e/13a/.log/20191224/20191224-165449-0835.log"
     ]
    }
   },
   "outputs": [],
   "source": [
    "# 演習用入力欄(そのまま、何度か評価すること)\n",
    "next_step()"
   ]
  },
  {
   "cell_type": "markdown",
   "metadata": {
    "lc_cell_meme": {
     "current": "17f99944-30db-11ea-984f-02420a0101cc",
     "history": [
      {
       "current": "9b75334a-f144-11e9-a8bb-02420a010068",
       "next": "53eefc90-f144-11e9-a8bb-02420a010068",
       "previous": "53eefb28-f144-11e9-a8bb-02420a010068"
      },
      {
       "current": "9b75334a-f144-11e9-a8bb-02420a010068",
       "next": "9b75334a-f144-11e9-a8bb-02420a010068",
       "previous": "53eefb28-f144-11e9-a8bb-02420a010068"
      },
      {
       "current": "9b75334a-f144-11e9-a8bb-02420a010068",
       "next": "1f3a817e-f147-11e9-a8bb-02420a010068",
       "previous": "53eefb28-f144-11e9-a8bb-02420a010068"
      },
      {
       "current": "9b75334a-f144-11e9-a8bb-02420a010068",
       "next": "f5cc2a12-f147-11e9-a8bb-02420a010068",
       "previous": "53eefb28-f144-11e9-a8bb-02420a010068"
      },
      {
       "current": "9b75334a-f144-11e9-a8bb-02420a010068",
       "next": "3d50ebd4-f148-11e9-a8bb-02420a010068",
       "previous": "53eefb28-f144-11e9-a8bb-02420a010068"
      },
      {
       "current": "9b75334a-f144-11e9-a8bb-02420a010068",
       "next": "3d50ebd4-f148-11e9-a8bb-02420a010068",
       "previous": "73647cfa-f3c7-11e9-a8bb-02420a010068"
      },
      {
       "current": "9b75334a-f144-11e9-a8bb-02420a010068",
       "next": "84e22fe4-f148-11e9-a8bb-02420a010068",
       "previous": "73647cfa-f3c7-11e9-a8bb-02420a010068"
      },
      {
       "current": "1d0a370a-0a97-11ea-896e-02420a010068",
       "next": "1d0a387c-0a97-11ea-896e-02420a010068",
       "previous": "1d0a35ca-0a97-11ea-896e-02420a010068"
      },
      {
       "current": "1d0a370a-0a97-11ea-896e-02420a010068",
       "next": "1d0a68ba-0a97-11ea-896e-02420a010068",
       "previous": "15837b8e-251a-11ea-ad6d-02420a0101f7"
      },
      {
       "current": "1d0a370a-0a97-11ea-896e-02420a010068",
       "next": "1d09f7ea-0a97-11ea-896e-02420a010068",
       "previous": "15837b8e-251a-11ea-ad6d-02420a0101f7"
      }
     ],
     "next": "17f99a66-30db-11ea-984f-02420a0101cc",
     "previous": "17f99822-30db-11ea-984f-02420a0101cc"
    }
   },
   "source": [
    "## シミュレーションの計算"
   ]
  },
  {
   "cell_type": "markdown",
   "metadata": {
    "lc_cell_meme": {
     "current": "17f99a66-30db-11ea-984f-02420a0101cc",
     "history": [
      {
       "current": "d8f12422-06b6-11ea-a8bb-02420a010068",
       "next": "d8f1281e-06b6-11ea-a8bb-02420a010068",
       "previous": "9b752f3a-f144-11e9-a8bb-02420a010068"
      },
      {
       "current": "1d09f7ea-0a97-11ea-896e-02420a010068",
       "next": "1d09f934-0a97-11ea-896e-02420a010068",
       "previous": "1d09f6a0-0a97-11ea-896e-02420a010068"
      },
      {
       "current": "1d09f7ea-0a97-11ea-896e-02420a010068",
       "next": "1d09f934-0a97-11ea-896e-02420a010068",
       "previous": "1d09f4d4-0a97-11ea-896e-02420a010068"
      },
      {
       "current": "1d09f7ea-0a97-11ea-896e-02420a010068",
       "next": "1d09f934-0a97-11ea-896e-02420a010068",
       "previous": "1d0a370a-0a97-11ea-896e-02420a010068"
      }
     ],
     "next": "17f99b9c-30db-11ea-984f-02420a0101cc",
     "previous": "17f99944-30db-11ea-984f-02420a0101cc"
    }
   },
   "source": [
    "○演習：\n",
    "\n",
    "次のセルで、$next\\_step()$を使いステップごとに位置$pos$を表示するプログラムを作成しなさい。\n",
    "\n",
    "1. $pos$を$0$とする\n",
    "2. 以下を$5$回繰り返す\n",
    "3. $next\\_step()$を使い、移動距離を求めて、位置を計算する"
   ]
  },
  {
   "cell_type": "code",
   "execution_count": null,
   "metadata": {
    "lc_cell_meme": {
     "current": "17f99b9c-30db-11ea-984f-02420a0101cc",
     "history": [
      {
       "current": "d8f1281e-06b6-11ea-a8bb-02420a010068",
       "next": "d8f12968-06b6-11ea-a8bb-02420a010068",
       "previous": "d8f12422-06b6-11ea-a8bb-02420a010068"
      },
      {
       "current": "1d09f934-0a97-11ea-896e-02420a010068",
       "next": "1d09fa7e-0a97-11ea-896e-02420a010068",
       "previous": "1d09f7ea-0a97-11ea-896e-02420a010068"
      },
      {
       "current": "1d09f934-0a97-11ea-896e-02420a010068",
       "next": "33a47d06-251b-11ea-ad6d-02420a0101f7",
       "previous": "1d09f7ea-0a97-11ea-896e-02420a010068"
      }
     ],
     "next": "17f99ca0-30db-11ea-984f-02420a0101cc",
     "previous": "17f99a66-30db-11ea-984f-02420a0101cc"
    }
   },
   "outputs": [],
   "source": [
    "# 演習用入力欄\n",
    "pos = 0\n",
    "???"
   ]
  },
  {
   "cell_type": "markdown",
   "metadata": {
    "lc_cell_meme": {
     "current": "17f99ca0-30db-11ea-984f-02420a0101cc",
     "history": [
      {
       "current": "33a47d06-251b-11ea-ad6d-02420a0101f7",
       "next": "33a47f72-251b-11ea-ad6d-02420a0101f7",
       "previous": "1d09fa7e-0a97-11ea-896e-02420a010068"
      },
      {
       "current": "33a47d06-251b-11ea-ad6d-02420a0101f7",
       "next": "1d09f934-0a97-11ea-896e-02420a010068",
       "previous": "1d09fa7e-0a97-11ea-896e-02420a010068"
      },
      {
       "current": "33a47d06-251b-11ea-ad6d-02420a0101f7",
       "next": "1d09f934-0a97-11ea-896e-02420a010068",
       "previous": "1d09f934-0a97-11ea-896e-02420a010068"
      }
     ],
     "next": "17f99dc2-30db-11ea-984f-02420a0101cc",
     "previous": "17f99b9c-30db-11ea-984f-02420a0101cc"
    }
   },
   "source": [
    "次のセルで、$100$ステップ分の計算を実施しなさい"
   ]
  },
  {
   "cell_type": "code",
   "execution_count": null,
   "metadata": {
    "lc_cell_meme": {
     "current": "17f99dc2-30db-11ea-984f-02420a0101cc",
     "history": [
      {
       "current": "d8f1281e-06b6-11ea-a8bb-02420a010068",
       "next": "d8f12968-06b6-11ea-a8bb-02420a010068",
       "previous": "d8f12422-06b6-11ea-a8bb-02420a010068"
      },
      {
       "current": "1d09f934-0a97-11ea-896e-02420a010068",
       "next": "1d09fa7e-0a97-11ea-896e-02420a010068",
       "previous": "1d09f7ea-0a97-11ea-896e-02420a010068"
      },
      {
       "current": "1d09f934-0a97-11ea-896e-02420a010068",
       "next": "1d09fa7e-0a97-11ea-896e-02420a010068",
       "previous": "33a47d06-251b-11ea-ad6d-02420a0101f7"
      },
      {
       "current": "1d09f934-0a97-11ea-896e-02420a010068",
       "next": "1d0a370a-0a97-11ea-896e-02420a010068",
       "previous": "33a47d06-251b-11ea-ad6d-02420a0101f7"
      }
     ],
     "next": "17f99ee4-30db-11ea-984f-02420a0101cc",
     "previous": "17f99ca0-30db-11ea-984f-02420a0101cc"
    }
   },
   "outputs": [],
   "source": [
    "# 演習用入力欄\n",
    "pos = 0\n",
    "???"
   ]
  },
  {
   "cell_type": "markdown",
   "metadata": {
    "lc_cell_meme": {
     "current": "17f99ee4-30db-11ea-984f-02420a0101cc",
     "history": [
      {
       "current": "9b75334a-f144-11e9-a8bb-02420a010068",
       "next": "53eefc90-f144-11e9-a8bb-02420a010068",
       "previous": "53eefb28-f144-11e9-a8bb-02420a010068"
      },
      {
       "current": "9b75334a-f144-11e9-a8bb-02420a010068",
       "next": "9b75334a-f144-11e9-a8bb-02420a010068",
       "previous": "53eefb28-f144-11e9-a8bb-02420a010068"
      },
      {
       "current": "9b75334a-f144-11e9-a8bb-02420a010068",
       "next": "1f3a817e-f147-11e9-a8bb-02420a010068",
       "previous": "53eefb28-f144-11e9-a8bb-02420a010068"
      },
      {
       "current": "9b75334a-f144-11e9-a8bb-02420a010068",
       "next": "f5cc2a12-f147-11e9-a8bb-02420a010068",
       "previous": "53eefb28-f144-11e9-a8bb-02420a010068"
      },
      {
       "current": "9b75334a-f144-11e9-a8bb-02420a010068",
       "next": "3d50ebd4-f148-11e9-a8bb-02420a010068",
       "previous": "53eefb28-f144-11e9-a8bb-02420a010068"
      },
      {
       "current": "9b75334a-f144-11e9-a8bb-02420a010068",
       "next": "3d50ebd4-f148-11e9-a8bb-02420a010068",
       "previous": "73647cfa-f3c7-11e9-a8bb-02420a010068"
      },
      {
       "current": "9b75334a-f144-11e9-a8bb-02420a010068",
       "next": "84e22fe4-f148-11e9-a8bb-02420a010068",
       "previous": "73647cfa-f3c7-11e9-a8bb-02420a010068"
      },
      {
       "current": "1d0a370a-0a97-11ea-896e-02420a010068",
       "next": "1d0a387c-0a97-11ea-896e-02420a010068",
       "previous": "1d0a35ca-0a97-11ea-896e-02420a010068"
      },
      {
       "current": "1d0a370a-0a97-11ea-896e-02420a010068",
       "next": "1d0a68ba-0a97-11ea-896e-02420a010068",
       "previous": "15837b8e-251a-11ea-ad6d-02420a0101f7"
      },
      {
       "current": "1d0a370a-0a97-11ea-896e-02420a010068",
       "next": "1d09f7ea-0a97-11ea-896e-02420a010068",
       "previous": "15837b8e-251a-11ea-ad6d-02420a0101f7"
      },
      {
       "current": "1d0a370a-0a97-11ea-896e-02420a010068",
       "next": "1d09fbf0-0a97-11ea-896e-02420a010068",
       "previous": "1d09fa7e-0a97-11ea-896e-02420a010068"
      },
      {
       "current": "1d0a370a-0a97-11ea-896e-02420a010068",
       "next": "1d09fbf0-0a97-11ea-896e-02420a010068",
       "previous": "33a47f72-251b-11ea-ad6d-02420a0101f7"
      },
      {
       "current": "1d0a370a-0a97-11ea-896e-02420a010068",
       "next": "1d09fbf0-0a97-11ea-896e-02420a010068",
       "previous": "1d09fa7e-0a97-11ea-896e-02420a010068"
      },
      {
       "current": "1d0a370a-0a97-11ea-896e-02420a010068",
       "next": "1d09fbf0-0a97-11ea-896e-02420a010068",
       "previous": "1d09f934-0a97-11ea-896e-02420a010068"
      }
     ],
     "next": "17f99ffc-30db-11ea-984f-02420a0101cc",
     "previous": "17f99dc2-30db-11ea-984f-02420a0101cc"
    }
   },
   "source": [
    "## シミュレーション結果の可視化"
   ]
  },
  {
   "cell_type": "markdown",
   "metadata": {
    "lc_cell_meme": {
     "current": "17f99ffc-30db-11ea-984f-02420a0101cc",
     "history": [
      {
       "current": "20715b6e-06b7-11ea-a8bb-02420a010068",
       "next": "9b753200-f144-11e9-a8bb-02420a010068",
       "previous": "d8f12968-06b6-11ea-a8bb-02420a010068"
      },
      {
       "current": "1d09fbf0-0a97-11ea-896e-02420a010068",
       "next": "1d09fd62-0a97-11ea-896e-02420a010068",
       "previous": "1d09fa7e-0a97-11ea-896e-02420a010068"
      },
      {
       "current": "1d09fbf0-0a97-11ea-896e-02420a010068",
       "next": "15837b8e-251a-11ea-ad6d-02420a0101f7",
       "previous": "1d09fa7e-0a97-11ea-896e-02420a010068"
      },
      {
       "current": "1d09fbf0-0a97-11ea-896e-02420a010068",
       "next": "15837b8e-251a-11ea-ad6d-02420a0101f7",
       "previous": "1d0a370a-0a97-11ea-896e-02420a010068"
      },
      {
       "current": "1d09fbf0-0a97-11ea-896e-02420a010068",
       "next": "1d09f934-0a97-11ea-896e-02420a010068",
       "previous": "1d0a370a-0a97-11ea-896e-02420a010068"
      }
     ],
     "next": "17f9a132-30db-11ea-984f-02420a0101cc",
     "previous": "17f99ee4-30db-11ea-984f-02420a0101cc"
    }
   },
   "source": [
    "以下のセルで、$matplotlib$を使い$100$ステップの酔歩計算結果を視覚化しなさい。\n",
    "\n",
    "手順の概要：\n",
    "1. 位置を記録するために、リスト$pos\\_history$を使用しなさい。\n",
    "2. 位置を計算するたびに、$pos\\_history.append()$でデータを追加しなさい。\n",
    "3. $100$ステップの計算が終了したら、最後に、$pos\\_history$をプロットしなさい。"
   ]
  },
  {
   "cell_type": "code",
   "execution_count": null,
   "metadata": {
    "lc_cell_meme": {
     "current": "17f9a132-30db-11ea-984f-02420a0101cc",
     "history": [
      {
       "current": "d8f1281e-06b6-11ea-a8bb-02420a010068",
       "next": "d8f12968-06b6-11ea-a8bb-02420a010068",
       "previous": "d8f12422-06b6-11ea-a8bb-02420a010068"
      },
      {
       "current": "1d09f934-0a97-11ea-896e-02420a010068",
       "next": "1d09fa7e-0a97-11ea-896e-02420a010068",
       "previous": "1d09f7ea-0a97-11ea-896e-02420a010068"
      },
      {
       "current": "1d09f934-0a97-11ea-896e-02420a010068",
       "next": "1d09fa7e-0a97-11ea-896e-02420a010068",
       "previous": "1d09fbf0-0a97-11ea-896e-02420a010068"
      },
      {
       "current": "1d09f934-0a97-11ea-896e-02420a010068",
       "next": "1d0a68ba-0a97-11ea-896e-02420a010068",
       "previous": "1d09fbf0-0a97-11ea-896e-02420a010068"
      }
     ],
     "next": "17f9a22c-30db-11ea-984f-02420a0101cc",
     "previous": "17f99ffc-30db-11ea-984f-02420a0101cc"
    }
   },
   "outputs": [],
   "source": [
    "# 演習用入力欄\n",
    "%matplotlib inline\n",
    "import matplotlib.pyplot as plt\n",
    "pos = 0\n",
    "pos_history = [] # 歩みを記録するリスト\n",
    "???\n"
   ]
  },
  {
   "cell_type": "markdown",
   "metadata": {
    "lc_cell_meme": {
     "current": "17f9a22c-30db-11ea-984f-02420a0101cc",
     "history": [
      {
       "current": "0c6caf52-f144-11e9-a8bb-02420a010068",
       "next": "0c6cb11e-f144-11e9-a8bb-02420a010068",
       "previous": "0c6cad18-f144-11e9-a8bb-02420a010068"
      },
      {
       "current": "0c6caf52-f144-11e9-a8bb-02420a010068",
       "next": "0c6cb11e-f144-11e9-a8bb-02420a010068",
       "previous": "53eefc90-f144-11e9-a8bb-02420a010068"
      },
      {
       "current": "0c6caf52-f144-11e9-a8bb-02420a010068",
       "next": "0c6cb11e-f144-11e9-a8bb-02420a010068",
       "previous": "e305dc8c-f144-11e9-a8bb-02420a010068"
      },
      {
       "current": "0c6caf52-f144-11e9-a8bb-02420a010068",
       "next": "9b75334a-f144-11e9-a8bb-02420a010068",
       "previous": "e305dc8c-f144-11e9-a8bb-02420a010068"
      },
      {
       "current": "0c6caf52-f144-11e9-a8bb-02420a010068",
       "next": "9b75334a-f144-11e9-a8bb-02420a010068",
       "previous": "1337a826-f182-11e9-a8bb-02420a010068"
      },
      {
       "current": "0c6caf52-f144-11e9-a8bb-02420a010068",
       "next": "9b75334a-f144-11e9-a8bb-02420a010068",
       "previous": "f71e8c46-f3c9-11e9-a8bb-02420a010068"
      },
      {
       "current": "0c6caf52-f144-11e9-a8bb-02420a010068",
       "next": "9b75334a-f144-11e9-a8bb-02420a010068",
       "previous": "84e2328c-f148-11e9-a8bb-02420a010068"
      },
      {
       "current": "0c6caf52-f144-11e9-a8bb-02420a010068",
       "next": "9b75334a-f144-11e9-a8bb-02420a010068",
       "previous": "84e22fe4-f148-11e9-a8bb-02420a010068"
      },
      {
       "current": "0c6caf52-f144-11e9-a8bb-02420a010068",
       "next": "9b75334a-f144-11e9-a8bb-02420a010068",
       "previous": "73647cfa-f3c7-11e9-a8bb-02420a010068"
      },
      {
       "current": "1d0a68ba-0a97-11ea-896e-02420a010068",
       "next": "1d0a6ac2-0a97-11ea-896e-02420a010068",
       "previous": "1d0a6748-0a97-11ea-896e-02420a010068"
      },
      {
       "current": "1d0a68ba-0a97-11ea-896e-02420a010068",
       "next": "1d0a6ac2-0a97-11ea-896e-02420a010068",
       "previous": "1d0a370a-0a97-11ea-896e-02420a010068"
      },
      {
       "current": "1d0a68ba-0a97-11ea-896e-02420a010068",
       "next": "1d0a6ac2-0a97-11ea-896e-02420a010068",
       "previous": "15837b8e-251a-11ea-ad6d-02420a0101f7"
      },
      {
       "current": "1d0a68ba-0a97-11ea-896e-02420a010068",
       "next": "1d0a6ac2-0a97-11ea-896e-02420a010068",
       "previous": "1d09fa7e-0a97-11ea-896e-02420a010068"
      },
      {
       "current": "1d0a68ba-0a97-11ea-896e-02420a010068",
       "next": "1d0a6ac2-0a97-11ea-896e-02420a010068",
       "previous": "1d09f934-0a97-11ea-896e-02420a010068"
      }
     ],
     "next": "17f9a36c-30db-11ea-984f-02420a0101cc",
     "previous": "17f9a132-30db-11ea-984f-02420a0101cc"
    }
   },
   "source": [
    "# 2次元の酔歩問題(教科書 P.107)"
   ]
  },
  {
   "cell_type": "markdown",
   "metadata": {
    "lc_cell_meme": {
     "current": "17f9a36c-30db-11ea-984f-02420a0101cc",
     "history": [
      {
       "current": "9b75334a-f144-11e9-a8bb-02420a010068",
       "next": "53eefc90-f144-11e9-a8bb-02420a010068",
       "previous": "53eefb28-f144-11e9-a8bb-02420a010068"
      },
      {
       "current": "9b75334a-f144-11e9-a8bb-02420a010068",
       "next": "e305dc8c-f144-11e9-a8bb-02420a010068",
       "previous": "e305db60-f144-11e9-a8bb-02420a010068"
      },
      {
       "current": "9b75334a-f144-11e9-a8bb-02420a010068",
       "next": "9b75334a-f144-11e9-a8bb-02420a010068",
       "previous": "0c6caf52-f144-11e9-a8bb-02420a010068"
      },
      {
       "current": "9b75334a-f144-11e9-a8bb-02420a010068",
       "next": "9b75334a-f144-11e9-a8bb-02420a010068",
       "previous": "9b75334a-f144-11e9-a8bb-02420a010068"
      },
      {
       "current": "9b75334a-f144-11e9-a8bb-02420a010068",
       "next": "9b75334a-f144-11e9-a8bb-02420a010068",
       "previous": "0c6caf52-f144-11e9-a8bb-02420a010068"
      },
      {
       "current": "9b75334a-f144-11e9-a8bb-02420a010068",
       "next": "1337a826-f182-11e9-a8bb-02420a010068",
       "previous": "0c6caf52-f144-11e9-a8bb-02420a010068"
      },
      {
       "current": "9b75334a-f144-11e9-a8bb-02420a010068",
       "next": "e305d6e2-f144-11e9-a8bb-02420a010068",
       "previous": "0c6caf52-f144-11e9-a8bb-02420a010068"
      },
      {
       "current": "9b75334a-f144-11e9-a8bb-02420a010068",
       "next": "628b53dc-0780-11ea-a8bb-02420a010068",
       "previous": "0c6caf52-f144-11e9-a8bb-02420a010068"
      },
      {
       "current": "1d0a6ac2-0a97-11ea-896e-02420a010068",
       "next": "1d0a6c16-0a97-11ea-896e-02420a010068",
       "previous": "1d0a68ba-0a97-11ea-896e-02420a010068"
      },
      {
       "current": "1d0a6ac2-0a97-11ea-896e-02420a010068",
       "next": "1d0a6ac2-0a97-11ea-896e-02420a010068",
       "previous": "1d0a68ba-0a97-11ea-896e-02420a010068"
      },
      {
       "current": "1d0a6ac2-0a97-11ea-896e-02420a010068",
       "next": "1d0aac30-0a97-11ea-896e-02420a010068",
       "previous": "1d0a68ba-0a97-11ea-896e-02420a010068"
      }
     ],
     "next": "17f9a4ac-30db-11ea-984f-02420a0101cc",
     "previous": "17f9a22c-30db-11ea-984f-02420a0101cc"
    }
   },
   "source": [
    "## 2つの値を返す関数"
   ]
  },
  {
   "cell_type": "markdown",
   "metadata": {
    "lc_cell_meme": {
     "current": "17f9a4ac-30db-11ea-984f-02420a0101cc",
     "history": [
      {
       "current": "73647cfa-f3c7-11e9-a8bb-02420a010068",
       "next": "9b753200-f144-11e9-a8bb-02420a010068",
       "previous": "e305da02-f144-11e9-a8bb-02420a010068"
      },
      {
       "current": "73647cfa-f3c7-11e9-a8bb-02420a010068",
       "next": "9b75334a-f144-11e9-a8bb-02420a010068",
       "previous": "e305da02-f144-11e9-a8bb-02420a010068"
      },
      {
       "current": "73647cfa-f3c7-11e9-a8bb-02420a010068",
       "next": "d8f12a80-06b6-11ea-a8bb-02420a010068",
       "previous": "e305da02-f144-11e9-a8bb-02420a010068"
      },
      {
       "current": "73647cfa-f3c7-11e9-a8bb-02420a010068",
       "next": "d8f12a80-06b6-11ea-a8bb-02420a010068",
       "previous": "d35e5a24-077f-11ea-a8bb-02420a010068"
      },
      {
       "current": "73647cfa-f3c7-11e9-a8bb-02420a010068",
       "next": "628b57ba-0780-11ea-a8bb-02420a010068",
       "previous": "d35e5a24-077f-11ea-a8bb-02420a010068"
      },
      {
       "current": "73647cfa-f3c7-11e9-a8bb-02420a010068",
       "next": "628b567a-0780-11ea-a8bb-02420a010068",
       "previous": "d35e5a24-077f-11ea-a8bb-02420a010068"
      },
      {
       "current": "1d0aac30-0a97-11ea-896e-02420a010068",
       "next": "1d0aada2-0a97-11ea-896e-02420a010068",
       "previous": "1d0aaaf0-0a97-11ea-896e-02420a010068"
      },
      {
       "current": "1d0aac30-0a97-11ea-896e-02420a010068",
       "next": "9945bdb8-251c-11ea-ad6d-02420a0101f7",
       "previous": "1d0a6ac2-0a97-11ea-896e-02420a010068"
      }
     ],
     "next": "17f9a5d8-30db-11ea-984f-02420a0101cc",
     "previous": "17f9a36c-30db-11ea-984f-02420a0101cc"
    }
   },
   "source": [
    "これまで、関数から値を1つ返すため$return$文を使いました。\n",
    "\n",
    "$return$文では複数の値を返すことができます。\n",
    "\n",
    "次の例では、商と余りを返します。"
   ]
  },
  {
   "cell_type": "code",
   "execution_count": null,
   "metadata": {
    "lc_cell_meme": {
     "current": "17f9a5d8-30db-11ea-984f-02420a0101cc",
     "history": [
      {
       "current": "9945bdb8-251c-11ea-ad6d-02420a0101f7",
       "next": "1d0aa9a6-0a97-11ea-896e-02420a010068",
       "previous": "1d0aac30-0a97-11ea-896e-02420a010068"
      },
      {
       "current": "9945bdb8-251c-11ea-ad6d-02420a0101f7",
       "next": "e0ccd04a-251c-11ea-ad6d-02420a0101f7",
       "previous": "1d0aac30-0a97-11ea-896e-02420a010068"
      },
      {
       "current": "9945bdb8-251c-11ea-ad6d-02420a0101f7",
       "next": "284e0010-251d-11ea-ad6d-02420a0101f7",
       "previous": "1d0aac30-0a97-11ea-896e-02420a010068"
      }
     ],
     "next": "17f9a6f0-30db-11ea-984f-02420a0101cc",
     "previous": "17f9a4ac-30db-11ea-984f-02420a0101cc"
    },
    "lc_wrapper": {
     "log_history": [
      "/home/14999410x94c69e/13a/.log/20191223/20191223-093933-0118.log",
      "/home/14999410x94c69e/13a/.log/20191223/20191223-094034-0192.log",
      "/home/14999410x94c69e/13a/.log/20191223/20191223-094336-0669.log",
      "/home/14999410x94c69e/13a/.log/20191224/20191224-165518-0058.log"
     ]
    }
   },
   "outputs": [],
   "source": [
    "#例（そのまま評価すること）\n",
    "def mde(x,y):\n",
    "    return int(x / y), x % y"
   ]
  },
  {
   "cell_type": "markdown",
   "metadata": {
    "lc_cell_meme": {
     "current": "17f9a6f0-30db-11ea-984f-02420a0101cc",
     "history": [
      {
       "current": "284e0010-251d-11ea-ad6d-02420a0101f7",
       "next": "e0ccd04a-251c-11ea-ad6d-02420a0101f7",
       "previous": "9945bdb8-251c-11ea-ad6d-02420a0101f7"
      }
     ],
     "next": "17f9a812-30db-11ea-984f-02420a0101cc",
     "previous": "17f9a5d8-30db-11ea-984f-02420a0101cc"
    }
   },
   "source": [
    "試しに、$9/2$を計算してみます。"
   ]
  },
  {
   "cell_type": "code",
   "execution_count": null,
   "metadata": {
    "lc_cell_meme": {
     "current": "17f9a812-30db-11ea-984f-02420a0101cc",
     "history": [
      {
       "current": "e0ccd04a-251c-11ea-ad6d-02420a0101f7",
       "next": "1d0aa9a6-0a97-11ea-896e-02420a010068",
       "previous": "9945bdb8-251c-11ea-ad6d-02420a0101f7"
      },
      {
       "current": "e0ccd04a-251c-11ea-ad6d-02420a0101f7",
       "next": "284e01be-251d-11ea-ad6d-02420a0101f7",
       "previous": "284e0010-251d-11ea-ad6d-02420a0101f7"
      }
     ],
     "next": "17f9a9c0-30db-11ea-984f-02420a0101cc",
     "previous": "17f9a6f0-30db-11ea-984f-02420a0101cc"
    },
    "lc_wrapper": {
     "log_history": [
      "/home/14999410x94c69e/13a/.log/20191223/20191223-093947-0506.log",
      "/home/14999410x94c69e/13a/.log/20191223/20191223-094035-0197.log",
      "/home/14999410x94c69e/13a/.log/20191223/20191223-094039-0759.log",
      "/home/14999410x94c69e/13a/.log/20191223/20191223-094338-0781.log",
      "/home/14999410x94c69e/13a/.log/20191224/20191224-165520-0624.log"
     ]
    }
   },
   "outputs": [],
   "source": [
    "#例（そのまま評価すること）\n",
    "mde(9,2)"
   ]
  },
  {
   "cell_type": "markdown",
   "metadata": {
    "lc_cell_meme": {
     "current": "17f9a9c0-30db-11ea-984f-02420a0101cc",
     "history": [
      {
       "current": "284e01be-251d-11ea-ad6d-02420a0101f7",
       "next": "e0ccd04a-251c-11ea-ad6d-02420a0101f7",
       "previous": "e0ccd04a-251c-11ea-ad6d-02420a0101f7"
      }
     ],
     "next": "17f9ab8c-30db-11ea-984f-02420a0101cc",
     "previous": "17f9a812-30db-11ea-984f-02420a0101cc"
    }
   },
   "source": [
    "演算子$=$を使うと、同時に代入することができます。"
   ]
  },
  {
   "cell_type": "code",
   "execution_count": null,
   "metadata": {
    "lc_cell_meme": {
     "current": "17f9ab8c-30db-11ea-984f-02420a0101cc",
     "history": [
      {
       "current": "e0ccd04a-251c-11ea-ad6d-02420a0101f7",
       "next": "1d0aa9a6-0a97-11ea-896e-02420a010068",
       "previous": "9945bdb8-251c-11ea-ad6d-02420a0101f7"
      },
      {
       "current": "e0ccd04a-251c-11ea-ad6d-02420a0101f7",
       "next": "284e02a4-251d-11ea-ad6d-02420a0101f7",
       "previous": "284e01be-251d-11ea-ad6d-02420a0101f7"
      },
      {
       "current": "e0ccd04a-251c-11ea-ad6d-02420a0101f7",
       "next": "1d0a6ac2-0a97-11ea-896e-02420a010068",
       "previous": "284e01be-251d-11ea-ad6d-02420a0101f7"
      }
     ],
     "next": "17f9acae-30db-11ea-984f-02420a0101cc",
     "previous": "17f9a9c0-30db-11ea-984f-02420a0101cc"
    },
    "lc_wrapper": {
     "log_history": [
      "/home/14999410x94c69e/13a/.log/20191223/20191223-093947-0506.log",
      "/home/14999410x94c69e/13a/.log/20191223/20191223-094035-0197.log",
      "/home/14999410x94c69e/13a/.log/20191223/20191223-094039-0759.log",
      "/home/14999410x94c69e/13a/.log/20191223/20191223-094330-0702.log",
      "/home/14999410x94c69e/13a/.log/20191223/20191223-094340-0565.log",
      "/home/14999410x94c69e/13a/.log/20191223/20191223-094409-0729.log",
      "/home/14999410x94c69e/13a/.log/20191224/20191224-165522-0806.log"
     ]
    }
   },
   "outputs": [],
   "source": [
    "#例（そのまま評価すること）\n",
    "a,b = mde(9,2)\n",
    "print (\"商\", a, \"余り\",b)"
   ]
  },
  {
   "cell_type": "markdown",
   "metadata": {
    "lc_cell_meme": {
     "current": "17f9acae-30db-11ea-984f-02420a0101cc",
     "history": [
      {
       "current": "9b75334a-f144-11e9-a8bb-02420a010068",
       "next": "53eefc90-f144-11e9-a8bb-02420a010068",
       "previous": "53eefb28-f144-11e9-a8bb-02420a010068"
      },
      {
       "current": "9b75334a-f144-11e9-a8bb-02420a010068",
       "next": "e305dc8c-f144-11e9-a8bb-02420a010068",
       "previous": "e305db60-f144-11e9-a8bb-02420a010068"
      },
      {
       "current": "9b75334a-f144-11e9-a8bb-02420a010068",
       "next": "9b75334a-f144-11e9-a8bb-02420a010068",
       "previous": "0c6caf52-f144-11e9-a8bb-02420a010068"
      },
      {
       "current": "9b75334a-f144-11e9-a8bb-02420a010068",
       "next": "9b75334a-f144-11e9-a8bb-02420a010068",
       "previous": "9b75334a-f144-11e9-a8bb-02420a010068"
      },
      {
       "current": "9b75334a-f144-11e9-a8bb-02420a010068",
       "next": "9b75334a-f144-11e9-a8bb-02420a010068",
       "previous": "0c6caf52-f144-11e9-a8bb-02420a010068"
      },
      {
       "current": "9b75334a-f144-11e9-a8bb-02420a010068",
       "next": "1337a826-f182-11e9-a8bb-02420a010068",
       "previous": "0c6caf52-f144-11e9-a8bb-02420a010068"
      },
      {
       "current": "9b75334a-f144-11e9-a8bb-02420a010068",
       "next": "e305d6e2-f144-11e9-a8bb-02420a010068",
       "previous": "0c6caf52-f144-11e9-a8bb-02420a010068"
      },
      {
       "current": "9b75334a-f144-11e9-a8bb-02420a010068",
       "next": "628b53dc-0780-11ea-a8bb-02420a010068",
       "previous": "0c6caf52-f144-11e9-a8bb-02420a010068"
      },
      {
       "current": "1d0a6ac2-0a97-11ea-896e-02420a010068",
       "next": "1d0a6c16-0a97-11ea-896e-02420a010068",
       "previous": "1d0a68ba-0a97-11ea-896e-02420a010068"
      },
      {
       "current": "1d0a6ac2-0a97-11ea-896e-02420a010068",
       "next": "1d0aa9a6-0a97-11ea-896e-02420a010068",
       "previous": "1d0a6ac2-0a97-11ea-896e-02420a010068"
      },
      {
       "current": "1d0a6ac2-0a97-11ea-896e-02420a010068",
       "next": "1d0aa9a6-0a97-11ea-896e-02420a010068",
       "previous": "1d0aa9a6-0a97-11ea-896e-02420a010068"
      },
      {
       "current": "1d0a6ac2-0a97-11ea-896e-02420a010068",
       "next": "1d0aa9a6-0a97-11ea-896e-02420a010068",
       "previous": "e0ccd04a-251c-11ea-ad6d-02420a0101f7"
      },
      {
       "current": "1d0a6ac2-0a97-11ea-896e-02420a010068",
       "next": "1d09f7ea-0a97-11ea-896e-02420a010068",
       "previous": "e0ccd04a-251c-11ea-ad6d-02420a0101f7"
      }
     ],
     "next": "17f9adc6-30db-11ea-984f-02420a0101cc",
     "previous": "17f9ab8c-30db-11ea-984f-02420a0101cc"
    }
   },
   "source": [
    "## 2次元の移動距離を求める関数(教科書P108)"
   ]
  },
  {
   "cell_type": "markdown",
   "metadata": {
    "lc_cell_meme": {
     "current": "17f9adc6-30db-11ea-984f-02420a0101cc",
     "history": [
      {
       "current": "d8f12422-06b6-11ea-a8bb-02420a010068",
       "next": "d8f1281e-06b6-11ea-a8bb-02420a010068",
       "previous": "9b752f3a-f144-11e9-a8bb-02420a010068"
      },
      {
       "current": "1d09f7ea-0a97-11ea-896e-02420a010068",
       "next": "1d09f934-0a97-11ea-896e-02420a010068",
       "previous": "1d09f6a0-0a97-11ea-896e-02420a010068"
      },
      {
       "current": "1d09f7ea-0a97-11ea-896e-02420a010068",
       "next": "1d09f934-0a97-11ea-896e-02420a010068",
       "previous": "1d09f4d4-0a97-11ea-896e-02420a010068"
      },
      {
       "current": "1d09f7ea-0a97-11ea-896e-02420a010068",
       "next": "1d09f934-0a97-11ea-896e-02420a010068",
       "previous": "1d0a6ac2-0a97-11ea-896e-02420a010068"
      }
     ],
     "next": "17f9af24-30db-11ea-984f-02420a0101cc",
     "previous": "17f9acae-30db-11ea-984f-02420a0101cc"
    }
   },
   "source": [
    "○演習：\n",
    "\n",
    "この2次元の酔歩では、ランダムな方向に1単位移動することとします。<br>\n",
    "方向を$\\theta$としたとき、$x$, $y$方向の移動距離はそれぞれ、$cos(\\theta), sin(\\theta)$で与えられます。<br>\n",
    "\n",
    "次のセルで、 乱数を使い角度$\\theta$で1単位移動する関数$next\\_step2()$を定義しなさい。<br>\n",
    "\n",
    "ただし、$0$から$2\\pi$までの乱数は次の式で計算できます。<br>\n",
    "$$\n",
    "th = random.random() * math.pi * 2\n",
    "$$"
   ]
  },
  {
   "cell_type": "code",
   "execution_count": null,
   "metadata": {
    "lc_cell_meme": {
     "current": "17f9af24-30db-11ea-984f-02420a0101cc",
     "history": [
      {
       "current": "d8f1281e-06b6-11ea-a8bb-02420a010068",
       "next": "d8f12968-06b6-11ea-a8bb-02420a010068",
       "previous": "d8f12422-06b6-11ea-a8bb-02420a010068"
      },
      {
       "current": "1d09f934-0a97-11ea-896e-02420a010068",
       "next": "1d09fa7e-0a97-11ea-896e-02420a010068",
       "previous": "1d09f7ea-0a97-11ea-896e-02420a010068"
      },
      {
       "current": "1d09f934-0a97-11ea-896e-02420a010068",
       "next": "8df37110-251e-11ea-ad6d-02420a0101f7",
       "previous": "1d09f7ea-0a97-11ea-896e-02420a010068"
      }
     ],
     "next": "17f9b03c-30db-11ea-984f-02420a0101cc",
     "previous": "17f9adc6-30db-11ea-984f-02420a0101cc"
    }
   },
   "outputs": [],
   "source": [
    "# 演習用入力欄\n",
    "import math\n",
    "def next_step2():\n",
    "    ???"
   ]
  },
  {
   "cell_type": "markdown",
   "metadata": {
    "lc_cell_meme": {
     "current": "17f9b03c-30db-11ea-984f-02420a0101cc",
     "history": [
      {
       "current": "8df37110-251e-11ea-ad6d-02420a0101f7",
       "next": "1d0aaaf0-0a97-11ea-896e-02420a010068",
       "previous": "1d09fa7e-0a97-11ea-896e-02420a010068"
      },
      {
       "current": "8df37110-251e-11ea-ad6d-02420a0101f7",
       "next": "1d0aaaf0-0a97-11ea-896e-02420a010068",
       "previous": "1d09f934-0a97-11ea-896e-02420a010068"
      }
     ],
     "next": "17f9b1b8-30db-11ea-984f-02420a0101cc",
     "previous": "17f9af24-30db-11ea-984f-02420a0101cc"
    }
   },
   "source": [
    "次のセルを評価し、$next\\_step2()$を$10$回実行し、ランダムになっていることを確認しなさい"
   ]
  },
  {
   "cell_type": "code",
   "execution_count": null,
   "metadata": {
    "lc_cell_meme": {
     "current": "17f9b1b8-30db-11ea-984f-02420a0101cc",
     "history": [
      {
       "current": "d35e5a24-077f-11ea-a8bb-02420a010068",
       "next": "73647cfa-f3c7-11e9-a8bb-02420a010068",
       "previous": "e305da02-f144-11e9-a8bb-02420a010068"
      },
      {
       "current": "d35e5a24-077f-11ea-a8bb-02420a010068",
       "next": "73647cfa-f3c7-11e9-a8bb-02420a010068",
       "previous": "1aeaa834-0780-11ea-a8bb-02420a010068"
      },
      {
       "current": "1d0aaaf0-0a97-11ea-896e-02420a010068",
       "next": "1d0aac30-0a97-11ea-896e-02420a010068",
       "previous": "1d0aa9a6-0a97-11ea-896e-02420a010068"
      },
      {
       "current": "1d0aaaf0-0a97-11ea-896e-02420a010068",
       "next": "1d0aac30-0a97-11ea-896e-02420a010068",
       "previous": "1d09fa7e-0a97-11ea-896e-02420a010068"
      },
      {
       "current": "1d0aaaf0-0a97-11ea-896e-02420a010068",
       "next": "1d0aac30-0a97-11ea-896e-02420a010068",
       "previous": "8df37110-251e-11ea-ad6d-02420a0101f7"
      }
     ],
     "next": "17f9b302-30db-11ea-984f-02420a0101cc",
     "previous": "17f9b03c-30db-11ea-984f-02420a0101cc"
    },
    "lc_wrapper": {
     "log_history": [
      "/home/14999410x94c69e/08a/.log/20191115/20191115-171317-0646.log",
      "/home/14999410x94c69e/08a/.log/20191115/20191115-171322-0108.log",
      "/home/14999410x94c69e/08a/.log/20191115/20191115-171619-0446.log",
      "/home/14999410x94c69e/08a/.log/20191115/20191115-172453-0860.log",
      "/home/14999410x94c69e/08a/.log/20191115/20191115-172509-0949.log",
      "/home/14999410x94c69e/08a/.log/20191115/20191115-172518-0550.log",
      "/home/14999410x94c69e/08a/.log/20191115/20191115-172533-0772.log",
      "/home/14999410x94c69e/08a/.log/20191115/20191115-173819-0742.log",
      "/home/14999410x94c69e/08a/.log/20191115/20191115-173936-0913.log",
      "/home/14999410x94c69e/08a/.log/20191118/20191118-141758-0993.log",
      "/home/14999410x94c69e/08a/.log/20191120/20191120-165957-0930.log",
      "/home/14999410x94c69e/13a/.log/20191223/20191223-095122-0870.log",
      "/home/14999410x94c69e/13a/.log/20191223/20191223-095125-0433.log",
      "/home/14999410x94c69e/13a/.log/20191223/20191223-095129-0678.log",
      "/home/14999410x94c69e/13a/.log/20191223/20191223-095131-0121.log",
      "/home/14999410x94c69e/13a/.log/20191223/20191223-095132-0486.log",
      "/home/14999410x94c69e/13a/.log/20191223/20191223-095242-0498.log",
      "/home/14999410x94c69e/13a/.log/20191223/20191223-095252-0205.log",
      "/home/14999410x94c69e/13a/.log/20191223/20191223-095513-0812.log",
      "/home/14999410x94c69e/13a/.log/20191224/20191224-165529-0977.log"
     ]
    }
   },
   "outputs": [],
   "source": [
    "# そのまま評価すること\n",
    "for i in range(10):\n",
    "    print(next_step2())"
   ]
  },
  {
   "cell_type": "markdown",
   "metadata": {
    "lc_cell_meme": {
     "current": "17f9b302-30db-11ea-984f-02420a0101cc",
     "history": [
      {
       "current": "73647cfa-f3c7-11e9-a8bb-02420a010068",
       "next": "9b753200-f144-11e9-a8bb-02420a010068",
       "previous": "e305da02-f144-11e9-a8bb-02420a010068"
      },
      {
       "current": "73647cfa-f3c7-11e9-a8bb-02420a010068",
       "next": "9b75334a-f144-11e9-a8bb-02420a010068",
       "previous": "e305da02-f144-11e9-a8bb-02420a010068"
      },
      {
       "current": "73647cfa-f3c7-11e9-a8bb-02420a010068",
       "next": "d8f12a80-06b6-11ea-a8bb-02420a010068",
       "previous": "e305da02-f144-11e9-a8bb-02420a010068"
      },
      {
       "current": "73647cfa-f3c7-11e9-a8bb-02420a010068",
       "next": "d8f12a80-06b6-11ea-a8bb-02420a010068",
       "previous": "d35e5a24-077f-11ea-a8bb-02420a010068"
      },
      {
       "current": "73647cfa-f3c7-11e9-a8bb-02420a010068",
       "next": "628b57ba-0780-11ea-a8bb-02420a010068",
       "previous": "d35e5a24-077f-11ea-a8bb-02420a010068"
      },
      {
       "current": "73647cfa-f3c7-11e9-a8bb-02420a010068",
       "next": "628b567a-0780-11ea-a8bb-02420a010068",
       "previous": "d35e5a24-077f-11ea-a8bb-02420a010068"
      },
      {
       "current": "1d0aac30-0a97-11ea-896e-02420a010068",
       "next": "1d0aada2-0a97-11ea-896e-02420a010068",
       "previous": "1d0aaaf0-0a97-11ea-896e-02420a010068"
      },
      {
       "current": "1d0aac30-0a97-11ea-896e-02420a010068",
       "next": "1d0a6ac2-0a97-11ea-896e-02420a010068",
       "previous": "1d0aaaf0-0a97-11ea-896e-02420a010068"
      }
     ],
     "next": "17f9b456-30db-11ea-984f-02420a0101cc",
     "previous": "17f9b1b8-30db-11ea-984f-02420a0101cc"
    }
   },
   "source": [
    "出力例(同じにはならないので注意）\n",
    "\n",
    "(0.688496727213502, 0.7252394477800395) <br>\n",
    "(-0.7047206878201762, -0.7094848498440666)<br>\n",
    "(-0.7839620093338882, -0.620808801420512)<br>\n",
    "(0.21903710026306705, 0.9757165309188663)<br>\n",
    "(-0.5070588542109007, 0.8619114330175279)<br>\n",
    "(0.9727704398448119, 0.23177073017128624)<br>\n",
    "(-0.9041428851617936, 0.42723019932035183)<br>\n",
    "(0.8519291339382407, -0.5236570927116707)<br>\n",
    "(-0.9384980310594586, -0.3452845865333689)<br>\n",
    "(0.9171933673776673, -0.39844237580660935)"
   ]
  },
  {
   "cell_type": "markdown",
   "metadata": {
    "lc_cell_meme": {
     "current": "17f9b456-30db-11ea-984f-02420a0101cc",
     "history": [
      {
       "current": "9b75334a-f144-11e9-a8bb-02420a010068",
       "next": "53eefc90-f144-11e9-a8bb-02420a010068",
       "previous": "53eefb28-f144-11e9-a8bb-02420a010068"
      },
      {
       "current": "9b75334a-f144-11e9-a8bb-02420a010068",
       "next": "e305dc8c-f144-11e9-a8bb-02420a010068",
       "previous": "e305db60-f144-11e9-a8bb-02420a010068"
      },
      {
       "current": "9b75334a-f144-11e9-a8bb-02420a010068",
       "next": "9b75334a-f144-11e9-a8bb-02420a010068",
       "previous": "0c6caf52-f144-11e9-a8bb-02420a010068"
      },
      {
       "current": "9b75334a-f144-11e9-a8bb-02420a010068",
       "next": "9b75334a-f144-11e9-a8bb-02420a010068",
       "previous": "9b75334a-f144-11e9-a8bb-02420a010068"
      },
      {
       "current": "9b75334a-f144-11e9-a8bb-02420a010068",
       "next": "9b75334a-f144-11e9-a8bb-02420a010068",
       "previous": "0c6caf52-f144-11e9-a8bb-02420a010068"
      },
      {
       "current": "9b75334a-f144-11e9-a8bb-02420a010068",
       "next": "1337a826-f182-11e9-a8bb-02420a010068",
       "previous": "0c6caf52-f144-11e9-a8bb-02420a010068"
      },
      {
       "current": "9b75334a-f144-11e9-a8bb-02420a010068",
       "next": "e305d6e2-f144-11e9-a8bb-02420a010068",
       "previous": "0c6caf52-f144-11e9-a8bb-02420a010068"
      },
      {
       "current": "9b75334a-f144-11e9-a8bb-02420a010068",
       "next": "628b53dc-0780-11ea-a8bb-02420a010068",
       "previous": "0c6caf52-f144-11e9-a8bb-02420a010068"
      },
      {
       "current": "1d0a6ac2-0a97-11ea-896e-02420a010068",
       "next": "1d0a6c16-0a97-11ea-896e-02420a010068",
       "previous": "1d0a68ba-0a97-11ea-896e-02420a010068"
      },
      {
       "current": "1d0a6ac2-0a97-11ea-896e-02420a010068",
       "next": "1d0aa9a6-0a97-11ea-896e-02420a010068",
       "previous": "1d0a6ac2-0a97-11ea-896e-02420a010068"
      },
      {
       "current": "1d0a6ac2-0a97-11ea-896e-02420a010068",
       "next": "1d0aa9a6-0a97-11ea-896e-02420a010068",
       "previous": "1d0aa9a6-0a97-11ea-896e-02420a010068"
      },
      {
       "current": "1d0a6ac2-0a97-11ea-896e-02420a010068",
       "next": "1d0aa9a6-0a97-11ea-896e-02420a010068",
       "previous": "e0ccd04a-251c-11ea-ad6d-02420a0101f7"
      },
      {
       "current": "1d0a6ac2-0a97-11ea-896e-02420a010068",
       "next": "1d09f7ea-0a97-11ea-896e-02420a010068",
       "previous": "e0ccd04a-251c-11ea-ad6d-02420a0101f7"
      },
      {
       "current": "1d0a6ac2-0a97-11ea-896e-02420a010068",
       "next": "1d09f7ea-0a97-11ea-896e-02420a010068",
       "previous": "e0ccd04a-251c-11ea-ad6d-02420a0101f7"
      },
      {
       "current": "1d0a6ac2-0a97-11ea-896e-02420a010068",
       "next": "1d0ab392-0a97-11ea-896e-02420a010068",
       "previous": "1d0ab248-0a97-11ea-896e-02420a010068"
      },
      {
       "current": "1d0a6ac2-0a97-11ea-896e-02420a010068",
       "next": "1d0ab392-0a97-11ea-896e-02420a010068",
       "previous": "1d0ab248-0a97-11ea-896e-02420a010068"
      },
      {
       "current": "1d0a6ac2-0a97-11ea-896e-02420a010068",
       "next": "1d0ab392-0a97-11ea-896e-02420a010068",
       "previous": "1d0ab248-0a97-11ea-896e-02420a010068"
      },
      {
       "current": "1d0a6ac2-0a97-11ea-896e-02420a010068",
       "next": "1d0ab392-0a97-11ea-896e-02420a010068",
       "previous": "1d0ab248-0a97-11ea-896e-02420a010068"
      },
      {
       "current": "1d0a6ac2-0a97-11ea-896e-02420a010068",
       "next": "1d0ab392-0a97-11ea-896e-02420a010068",
       "previous": "1d0ab248-0a97-11ea-896e-02420a010068"
      },
      {
       "current": "1d0a6ac2-0a97-11ea-896e-02420a010068",
       "next": "1d0ab392-0a97-11ea-896e-02420a010068",
       "previous": "1d0ab0ae-0a97-11ea-896e-02420a010068"
      },
      {
       "current": "1d0a6ac2-0a97-11ea-896e-02420a010068",
       "next": "1d0ab392-0a97-11ea-896e-02420a010068",
       "previous": "1d0ab0ae-0a97-11ea-896e-02420a010068"
      },
      {
       "current": "1d0a6ac2-0a97-11ea-896e-02420a010068",
       "next": "1d0ab392-0a97-11ea-896e-02420a010068",
       "previous": "1d0ab0ae-0a97-11ea-896e-02420a010068"
      },
      {
       "current": "1d0a6ac2-0a97-11ea-896e-02420a010068",
       "next": "1d0ab392-0a97-11ea-896e-02420a010068",
       "previous": "1d0ab0ae-0a97-11ea-896e-02420a010068"
      },
      {
       "current": "1d0a6ac2-0a97-11ea-896e-02420a010068",
       "next": "1d0ab392-0a97-11ea-896e-02420a010068",
       "previous": "1d0ab0ae-0a97-11ea-896e-02420a010068"
      },
      {
       "current": "1d0a6ac2-0a97-11ea-896e-02420a010068",
       "next": "1d0ab392-0a97-11ea-896e-02420a010068",
       "previous": "1d0ab0ae-0a97-11ea-896e-02420a010068"
      },
      {
       "current": "1d0a6ac2-0a97-11ea-896e-02420a010068",
       "next": "1d0ab392-0a97-11ea-896e-02420a010068",
       "previous": "1d0ab0ae-0a97-11ea-896e-02420a010068"
      },
      {
       "current": "1d0a6ac2-0a97-11ea-896e-02420a010068",
       "next": "1d0aada2-0a97-11ea-896e-02420a010068",
       "previous": "1d0ab0ae-0a97-11ea-896e-02420a010068"
      },
      {
       "current": "1d0a6ac2-0a97-11ea-896e-02420a010068",
       "next": "1d0aada2-0a97-11ea-896e-02420a010068",
       "previous": "1d0ab0ae-0a97-11ea-896e-02420a010068"
      },
      {
       "current": "1d0a6ac2-0a97-11ea-896e-02420a010068",
       "next": "1d0aada2-0a97-11ea-896e-02420a010068",
       "previous": "1d0ab0ae-0a97-11ea-896e-02420a010068"
      },
      {
       "current": "1d0a6ac2-0a97-11ea-896e-02420a010068",
       "next": "1d0aada2-0a97-11ea-896e-02420a010068",
       "previous": "1d0ab0ae-0a97-11ea-896e-02420a010068"
      },
      {
       "current": "1d0a6ac2-0a97-11ea-896e-02420a010068",
       "next": "1d0aada2-0a97-11ea-896e-02420a010068",
       "previous": "1d0ab0ae-0a97-11ea-896e-02420a010068"
      },
      {
       "current": "1d0a6ac2-0a97-11ea-896e-02420a010068",
       "next": "1d0aada2-0a97-11ea-896e-02420a010068",
       "previous": "1d0ab0ae-0a97-11ea-896e-02420a010068"
      },
      {
       "current": "1d0a6ac2-0a97-11ea-896e-02420a010068",
       "next": "1d0aada2-0a97-11ea-896e-02420a010068",
       "previous": "1d0ab0ae-0a97-11ea-896e-02420a010068"
      },
      {
       "current": "1d0a6ac2-0a97-11ea-896e-02420a010068",
       "next": "1d0aada2-0a97-11ea-896e-02420a010068",
       "previous": "1d0ab0ae-0a97-11ea-896e-02420a010068"
      },
      {
       "current": "1d0a6ac2-0a97-11ea-896e-02420a010068",
       "next": "1d0aada2-0a97-11ea-896e-02420a010068",
       "previous": "1d0ab0ae-0a97-11ea-896e-02420a010068"
      },
      {
       "current": "1d0a6ac2-0a97-11ea-896e-02420a010068",
       "next": "1d0aada2-0a97-11ea-896e-02420a010068",
       "previous": "1d0ab0ae-0a97-11ea-896e-02420a010068"
      },
      {
       "current": "1d0a6ac2-0a97-11ea-896e-02420a010068",
       "next": "1d0aada2-0a97-11ea-896e-02420a010068",
       "previous": "1d0ab0ae-0a97-11ea-896e-02420a010068"
      },
      {
       "current": "1d0a6ac2-0a97-11ea-896e-02420a010068",
       "next": "1d0aada2-0a97-11ea-896e-02420a010068",
       "previous": "1d0ab0ae-0a97-11ea-896e-02420a010068"
      },
      {
       "current": "1d0a6ac2-0a97-11ea-896e-02420a010068",
       "next": "1d0aada2-0a97-11ea-896e-02420a010068",
       "previous": "1d0ab0ae-0a97-11ea-896e-02420a010068"
      },
      {
       "current": "1d0a6ac2-0a97-11ea-896e-02420a010068",
       "next": "1d0aada2-0a97-11ea-896e-02420a010068",
       "previous": "1d0aac30-0a97-11ea-896e-02420a010068"
      }
     ],
     "next": "17f9b6cc-30db-11ea-984f-02420a0101cc",
     "previous": "17f9b302-30db-11ea-984f-02420a0101cc"
    }
   },
   "source": [
    "## 2次元の酔歩計算(教科書P109)"
   ]
  },
  {
   "cell_type": "markdown",
   "metadata": {
    "lc_cell_meme": {
     "current": "17f9b6cc-30db-11ea-984f-02420a0101cc",
     "history": [
      {
       "current": "628b567a-0780-11ea-a8bb-02420a010068",
       "next": "1aeaa834-0780-11ea-a8bb-02420a010068",
       "previous": "e305da02-f144-11e9-a8bb-02420a010068"
      },
      {
       "current": "628b567a-0780-11ea-a8bb-02420a010068",
       "next": "1aeaa834-0780-11ea-a8bb-02420a010068",
       "previous": "628b57ba-0780-11ea-a8bb-02420a010068"
      },
      {
       "current": "628b567a-0780-11ea-a8bb-02420a010068",
       "next": "1aeaa834-0780-11ea-a8bb-02420a010068",
       "previous": "73647cfa-f3c7-11e9-a8bb-02420a010068"
      },
      {
       "current": "1d0aada2-0a97-11ea-896e-02420a010068",
       "next": "1d0aaeec-0a97-11ea-896e-02420a010068",
       "previous": "1d0aac30-0a97-11ea-896e-02420a010068"
      },
      {
       "current": "1d0aada2-0a97-11ea-896e-02420a010068",
       "next": "1d0aaeec-0a97-11ea-896e-02420a010068",
       "previous": "1d0a6ac2-0a97-11ea-896e-02420a010068"
      }
     ],
     "next": "17f9b802-30db-11ea-984f-02420a0101cc",
     "previous": "17f9b456-30db-11ea-984f-02420a0101cc"
    }
   },
   "source": [
    "次のセルで、 $next\\_step2()$を使いステップごとに位置$posx, posy$を表示するプログラムを作成しなさい。\n",
    "\n",
    "1. $posy, posy$を$0$とする\n",
    "2. 以下を$5$回繰り返す\n",
    "  1. $next\\_step2()$を使い、移動距離を求めて、位置を計算する\n",
    "  2. ステップごとに、$posx$, $posy$を表示する\n"
   ]
  },
  {
   "cell_type": "code",
   "execution_count": null,
   "metadata": {
    "lc_cell_meme": {
     "current": "17f9b802-30db-11ea-984f-02420a0101cc",
     "history": [
      {
       "current": "1aeaa834-0780-11ea-a8bb-02420a010068",
       "next": "d35e5a24-077f-11ea-a8bb-02420a010068",
       "previous": "e305da02-f144-11e9-a8bb-02420a010068"
      },
      {
       "current": "1aeaa834-0780-11ea-a8bb-02420a010068",
       "next": "d35e5a24-077f-11ea-a8bb-02420a010068",
       "previous": "628b57ba-0780-11ea-a8bb-02420a010068"
      },
      {
       "current": "1aeaa834-0780-11ea-a8bb-02420a010068",
       "next": "d35e5a24-077f-11ea-a8bb-02420a010068",
       "previous": "628b567a-0780-11ea-a8bb-02420a010068"
      },
      {
       "current": "1d0aaeec-0a97-11ea-896e-02420a010068",
       "next": "1d0ab0ae-0a97-11ea-896e-02420a010068",
       "previous": "1d0aada2-0a97-11ea-896e-02420a010068"
      },
      {
       "current": "1d0aaeec-0a97-11ea-896e-02420a010068",
       "next": "1d0a6ac2-0a97-11ea-896e-02420a010068",
       "previous": "1d0aada2-0a97-11ea-896e-02420a010068"
      }
     ],
     "next": "17f9b924-30db-11ea-984f-02420a0101cc",
     "previous": "17f9b6cc-30db-11ea-984f-02420a0101cc"
    }
   },
   "outputs": [],
   "source": [
    "# 演習用入力欄\n"
   ]
  },
  {
   "cell_type": "markdown",
   "metadata": {
    "lc_cell_meme": {
     "current": "17f9b924-30db-11ea-984f-02420a0101cc",
     "history": [
      {
       "current": "9b75334a-f144-11e9-a8bb-02420a010068",
       "next": "53eefc90-f144-11e9-a8bb-02420a010068",
       "previous": "53eefb28-f144-11e9-a8bb-02420a010068"
      },
      {
       "current": "9b75334a-f144-11e9-a8bb-02420a010068",
       "next": "e305dc8c-f144-11e9-a8bb-02420a010068",
       "previous": "e305db60-f144-11e9-a8bb-02420a010068"
      },
      {
       "current": "9b75334a-f144-11e9-a8bb-02420a010068",
       "next": "9b75334a-f144-11e9-a8bb-02420a010068",
       "previous": "0c6caf52-f144-11e9-a8bb-02420a010068"
      },
      {
       "current": "9b75334a-f144-11e9-a8bb-02420a010068",
       "next": "9b75334a-f144-11e9-a8bb-02420a010068",
       "previous": "9b75334a-f144-11e9-a8bb-02420a010068"
      },
      {
       "current": "9b75334a-f144-11e9-a8bb-02420a010068",
       "next": "9b75334a-f144-11e9-a8bb-02420a010068",
       "previous": "0c6caf52-f144-11e9-a8bb-02420a010068"
      },
      {
       "current": "9b75334a-f144-11e9-a8bb-02420a010068",
       "next": "1337a826-f182-11e9-a8bb-02420a010068",
       "previous": "0c6caf52-f144-11e9-a8bb-02420a010068"
      },
      {
       "current": "9b75334a-f144-11e9-a8bb-02420a010068",
       "next": "e305d6e2-f144-11e9-a8bb-02420a010068",
       "previous": "0c6caf52-f144-11e9-a8bb-02420a010068"
      },
      {
       "current": "9b75334a-f144-11e9-a8bb-02420a010068",
       "next": "628b53dc-0780-11ea-a8bb-02420a010068",
       "previous": "0c6caf52-f144-11e9-a8bb-02420a010068"
      },
      {
       "current": "1d0a6ac2-0a97-11ea-896e-02420a010068",
       "next": "1d0a6c16-0a97-11ea-896e-02420a010068",
       "previous": "1d0a68ba-0a97-11ea-896e-02420a010068"
      },
      {
       "current": "1d0a6ac2-0a97-11ea-896e-02420a010068",
       "next": "1d0aa9a6-0a97-11ea-896e-02420a010068",
       "previous": "1d0a6ac2-0a97-11ea-896e-02420a010068"
      },
      {
       "current": "1d0a6ac2-0a97-11ea-896e-02420a010068",
       "next": "1d0aa9a6-0a97-11ea-896e-02420a010068",
       "previous": "1d0aa9a6-0a97-11ea-896e-02420a010068"
      },
      {
       "current": "1d0a6ac2-0a97-11ea-896e-02420a010068",
       "next": "1d0aa9a6-0a97-11ea-896e-02420a010068",
       "previous": "e0ccd04a-251c-11ea-ad6d-02420a0101f7"
      },
      {
       "current": "1d0a6ac2-0a97-11ea-896e-02420a010068",
       "next": "1d09f7ea-0a97-11ea-896e-02420a010068",
       "previous": "e0ccd04a-251c-11ea-ad6d-02420a0101f7"
      },
      {
       "current": "1d0a6ac2-0a97-11ea-896e-02420a010068",
       "next": "1d09f7ea-0a97-11ea-896e-02420a010068",
       "previous": "e0ccd04a-251c-11ea-ad6d-02420a0101f7"
      },
      {
       "current": "1d0a6ac2-0a97-11ea-896e-02420a010068",
       "next": "1d0ab392-0a97-11ea-896e-02420a010068",
       "previous": "1d0ab248-0a97-11ea-896e-02420a010068"
      },
      {
       "current": "1d0a6ac2-0a97-11ea-896e-02420a010068",
       "next": "1d0ab392-0a97-11ea-896e-02420a010068",
       "previous": "1d0ab248-0a97-11ea-896e-02420a010068"
      },
      {
       "current": "1d0a6ac2-0a97-11ea-896e-02420a010068",
       "next": "1d0ab392-0a97-11ea-896e-02420a010068",
       "previous": "1d0ab248-0a97-11ea-896e-02420a010068"
      },
      {
       "current": "1d0a6ac2-0a97-11ea-896e-02420a010068",
       "next": "1d0ab392-0a97-11ea-896e-02420a010068",
       "previous": "1d0ab248-0a97-11ea-896e-02420a010068"
      },
      {
       "current": "1d0a6ac2-0a97-11ea-896e-02420a010068",
       "next": "1d0ab392-0a97-11ea-896e-02420a010068",
       "previous": "1d0ab248-0a97-11ea-896e-02420a010068"
      },
      {
       "current": "1d0a6ac2-0a97-11ea-896e-02420a010068",
       "next": "1d0ab392-0a97-11ea-896e-02420a010068",
       "previous": "1d0ab0ae-0a97-11ea-896e-02420a010068"
      },
      {
       "current": "1d0a6ac2-0a97-11ea-896e-02420a010068",
       "next": "1d0ab392-0a97-11ea-896e-02420a010068",
       "previous": "1d0ab0ae-0a97-11ea-896e-02420a010068"
      },
      {
       "current": "1d0a6ac2-0a97-11ea-896e-02420a010068",
       "next": "1d0ab392-0a97-11ea-896e-02420a010068",
       "previous": "1d0ab0ae-0a97-11ea-896e-02420a010068"
      },
      {
       "current": "1d0a6ac2-0a97-11ea-896e-02420a010068",
       "next": "1d0ab392-0a97-11ea-896e-02420a010068",
       "previous": "1d0ab0ae-0a97-11ea-896e-02420a010068"
      },
      {
       "current": "1d0a6ac2-0a97-11ea-896e-02420a010068",
       "next": "1d0ab392-0a97-11ea-896e-02420a010068",
       "previous": "1d0ab0ae-0a97-11ea-896e-02420a010068"
      },
      {
       "current": "1d0a6ac2-0a97-11ea-896e-02420a010068",
       "next": "1d0ab392-0a97-11ea-896e-02420a010068",
       "previous": "1d0ab0ae-0a97-11ea-896e-02420a010068"
      },
      {
       "current": "1d0a6ac2-0a97-11ea-896e-02420a010068",
       "next": "1d0ab392-0a97-11ea-896e-02420a010068",
       "previous": "1d0ab0ae-0a97-11ea-896e-02420a010068"
      },
      {
       "current": "1d0a6ac2-0a97-11ea-896e-02420a010068",
       "next": "1d0aada2-0a97-11ea-896e-02420a010068",
       "previous": "1d0ab0ae-0a97-11ea-896e-02420a010068"
      },
      {
       "current": "1d0a6ac2-0a97-11ea-896e-02420a010068",
       "next": "1d0aada2-0a97-11ea-896e-02420a010068",
       "previous": "1d0ab0ae-0a97-11ea-896e-02420a010068"
      },
      {
       "current": "1d0a6ac2-0a97-11ea-896e-02420a010068",
       "next": "1d0aada2-0a97-11ea-896e-02420a010068",
       "previous": "1d0ab0ae-0a97-11ea-896e-02420a010068"
      },
      {
       "current": "1d0a6ac2-0a97-11ea-896e-02420a010068",
       "next": "1d0aada2-0a97-11ea-896e-02420a010068",
       "previous": "1d0ab0ae-0a97-11ea-896e-02420a010068"
      },
      {
       "current": "1d0a6ac2-0a97-11ea-896e-02420a010068",
       "next": "1d0aada2-0a97-11ea-896e-02420a010068",
       "previous": "1d0ab0ae-0a97-11ea-896e-02420a010068"
      },
      {
       "current": "1d0a6ac2-0a97-11ea-896e-02420a010068",
       "next": "1d0aada2-0a97-11ea-896e-02420a010068",
       "previous": "1d0ab0ae-0a97-11ea-896e-02420a010068"
      },
      {
       "current": "1d0a6ac2-0a97-11ea-896e-02420a010068",
       "next": "1d0aada2-0a97-11ea-896e-02420a010068",
       "previous": "1d0ab0ae-0a97-11ea-896e-02420a010068"
      },
      {
       "current": "1d0a6ac2-0a97-11ea-896e-02420a010068",
       "next": "1d0aada2-0a97-11ea-896e-02420a010068",
       "previous": "1d0ab0ae-0a97-11ea-896e-02420a010068"
      },
      {
       "current": "1d0a6ac2-0a97-11ea-896e-02420a010068",
       "next": "1d0aada2-0a97-11ea-896e-02420a010068",
       "previous": "1d0ab0ae-0a97-11ea-896e-02420a010068"
      },
      {
       "current": "1d0a6ac2-0a97-11ea-896e-02420a010068",
       "next": "1d0aada2-0a97-11ea-896e-02420a010068",
       "previous": "1d0ab0ae-0a97-11ea-896e-02420a010068"
      },
      {
       "current": "1d0a6ac2-0a97-11ea-896e-02420a010068",
       "next": "1d0aada2-0a97-11ea-896e-02420a010068",
       "previous": "1d0ab0ae-0a97-11ea-896e-02420a010068"
      },
      {
       "current": "1d0a6ac2-0a97-11ea-896e-02420a010068",
       "next": "1d0aada2-0a97-11ea-896e-02420a010068",
       "previous": "1d0ab0ae-0a97-11ea-896e-02420a010068"
      },
      {
       "current": "1d0a6ac2-0a97-11ea-896e-02420a010068",
       "next": "1d0aada2-0a97-11ea-896e-02420a010068",
       "previous": "1d0ab0ae-0a97-11ea-896e-02420a010068"
      },
      {
       "current": "1d0a6ac2-0a97-11ea-896e-02420a010068",
       "next": "1d0aada2-0a97-11ea-896e-02420a010068",
       "previous": "1d0aaeec-0a97-11ea-896e-02420a010068"
      }
     ],
     "next": "17f9ba46-30db-11ea-984f-02420a0101cc",
     "previous": "17f9b802-30db-11ea-984f-02420a0101cc"
    }
   },
   "source": [
    "## 2次元の酔歩計算の可視化(教科書P109)"
   ]
  },
  {
   "cell_type": "markdown",
   "metadata": {
    "lc_cell_meme": {
     "current": "17f9ba46-30db-11ea-984f-02420a0101cc",
     "history": [
      {
       "current": "628b567a-0780-11ea-a8bb-02420a010068",
       "next": "1aeaa834-0780-11ea-a8bb-02420a010068",
       "previous": "e305da02-f144-11e9-a8bb-02420a010068"
      },
      {
       "current": "628b567a-0780-11ea-a8bb-02420a010068",
       "next": "1aeaa834-0780-11ea-a8bb-02420a010068",
       "previous": "628b57ba-0780-11ea-a8bb-02420a010068"
      },
      {
       "current": "628b567a-0780-11ea-a8bb-02420a010068",
       "next": "1aeaa834-0780-11ea-a8bb-02420a010068",
       "previous": "73647cfa-f3c7-11e9-a8bb-02420a010068"
      },
      {
       "current": "1d0aada2-0a97-11ea-896e-02420a010068",
       "next": "1d0aaeec-0a97-11ea-896e-02420a010068",
       "previous": "1d0aac30-0a97-11ea-896e-02420a010068"
      },
      {
       "current": "1d0aada2-0a97-11ea-896e-02420a010068",
       "next": "1d0aaeec-0a97-11ea-896e-02420a010068",
       "previous": "1d0a6ac2-0a97-11ea-896e-02420a010068"
      }
     ],
     "next": "17f9bb7c-30db-11ea-984f-02420a0101cc",
     "previous": "17f9b924-30db-11ea-984f-02420a0101cc"
    }
   },
   "source": [
    "以下のセルで、$next\\_step2()$を使って、$100$ステップの位置を計算し、関数$plot()$を使って可視化しなさい。\n"
   ]
  },
  {
   "cell_type": "code",
   "execution_count": null,
   "metadata": {
    "lc_cell_meme": {
     "current": "17f9bb7c-30db-11ea-984f-02420a0101cc",
     "history": [
      {
       "current": "1aeaa834-0780-11ea-a8bb-02420a010068",
       "next": "d35e5a24-077f-11ea-a8bb-02420a010068",
       "previous": "e305da02-f144-11e9-a8bb-02420a010068"
      },
      {
       "current": "1aeaa834-0780-11ea-a8bb-02420a010068",
       "next": "d35e5a24-077f-11ea-a8bb-02420a010068",
       "previous": "628b57ba-0780-11ea-a8bb-02420a010068"
      },
      {
       "current": "1aeaa834-0780-11ea-a8bb-02420a010068",
       "next": "d35e5a24-077f-11ea-a8bb-02420a010068",
       "previous": "628b567a-0780-11ea-a8bb-02420a010068"
      },
      {
       "current": "1d0aaeec-0a97-11ea-896e-02420a010068",
       "next": "1d0ab0ae-0a97-11ea-896e-02420a010068",
       "previous": "1d0aada2-0a97-11ea-896e-02420a010068"
      },
      {
       "current": "1d0aaeec-0a97-11ea-896e-02420a010068",
       "next": "28100a90-2530-11ea-ad6d-02420a0101f7",
       "previous": "1d0aada2-0a97-11ea-896e-02420a010068"
      }
     ],
     "next": "17f9bc9e-30db-11ea-984f-02420a0101cc",
     "previous": "17f9ba46-30db-11ea-984f-02420a0101cc"
    }
   },
   "outputs": [],
   "source": [
    "# 演習用入力欄\n"
   ]
  },
  {
   "cell_type": "markdown",
   "metadata": {
    "lc_cell_meme": {
     "current": "17f9bc9e-30db-11ea-984f-02420a0101cc",
     "history": [
      {
       "current": "28100a90-2530-11ea-ad6d-02420a0101f7",
       "next": "1d0ab4dc-0a97-11ea-896e-02420a010068",
       "previous": "1d0ab392-0a97-11ea-896e-02420a010068"
      },
      {
       "current": "28100a90-2530-11ea-ad6d-02420a0101f7",
       "next": "1d0ab392-0a97-11ea-896e-02420a010068",
       "previous": "1d0ab0ae-0a97-11ea-896e-02420a010068"
      },
      {
       "current": "28100a90-2530-11ea-ad6d-02420a0101f7",
       "next": "1d0ab392-0a97-11ea-896e-02420a010068",
       "previous": "1d0aaeec-0a97-11ea-896e-02420a010068"
      }
     ],
     "next": "17f9bda2-30db-11ea-984f-02420a0101cc",
     "previous": "17f9bb7c-30db-11ea-984f-02420a0101cc"
    }
   },
   "source": [
    "ヒント\n",
    "\n",
    "教科書P110のようなグラフが表示されるはずです。<br>\n",
    "ただし、乱数なのでまったく同じになりません。<br>\n",
    "実行するたびに違う結果になります。"
   ]
  },
  {
   "cell_type": "markdown",
   "metadata": {
    "lc_cell_meme": {
     "current": "17f9bda2-30db-11ea-984f-02420a0101cc",
     "history": [
      {
       "current": "f52926a8-f180-11e9-a8bb-02420a010068",
       "next": null,
       "previous": "75bbd5b6-f151-11e9-a8bb-02420a010068"
      },
      {
       "current": "f52926a8-f180-11e9-a8bb-02420a010068",
       "next": null,
       "previous": "102262c0-f150-11e9-a8bb-02420a010068"
      },
      {
       "current": "f52926a8-f180-11e9-a8bb-02420a010068",
       "next": "ebc3b478-f3cb-11e9-a8bb-02420a010068",
       "previous": "102262c0-f150-11e9-a8bb-02420a010068"
      },
      {
       "current": "f52926a8-f180-11e9-a8bb-02420a010068",
       "next": "ebc3b478-f3cb-11e9-a8bb-02420a010068",
       "previous": "1337adbc-f182-11e9-a8bb-02420a010068"
      },
      {
       "current": "f52926a8-f180-11e9-a8bb-02420a010068",
       "next": "ebc3b478-f3cb-11e9-a8bb-02420a010068",
       "previous": "1337aa56-f182-11e9-a8bb-02420a010068"
      },
      {
       "current": "f52926a8-f180-11e9-a8bb-02420a010068",
       "next": "ebc3b478-f3cb-11e9-a8bb-02420a010068",
       "previous": "73647cfa-f3c7-11e9-a8bb-02420a010068"
      },
      {
       "current": "1d0ab392-0a97-11ea-896e-02420a010068",
       "next": "1d0ab4dc-0a97-11ea-896e-02420a010068",
       "previous": "1d0ab248-0a97-11ea-896e-02420a010068"
      },
      {
       "current": "1d0ab392-0a97-11ea-896e-02420a010068",
       "next": "1d0ab4dc-0a97-11ea-896e-02420a010068",
       "previous": "1d0a6ac2-0a97-11ea-896e-02420a010068"
      },
      {
       "current": "1d0ab392-0a97-11ea-896e-02420a010068",
       "next": "1d0ab4dc-0a97-11ea-896e-02420a010068",
       "previous": "1d0ab0ae-0a97-11ea-896e-02420a010068"
      },
      {
       "current": "1d0ab392-0a97-11ea-896e-02420a010068",
       "next": "28100a90-2530-11ea-ad6d-02420a0101f7",
       "previous": "1d0ab0ae-0a97-11ea-896e-02420a010068"
      },
      {
       "current": "1d0ab392-0a97-11ea-896e-02420a010068",
       "next": "1d0ab4dc-0a97-11ea-896e-02420a010068",
       "previous": "28100a90-2530-11ea-ad6d-02420a0101f7"
      }
     ],
     "next": "17f9bea6-30db-11ea-984f-02420a0101cc",
     "previous": "17f9bc9e-30db-11ea-984f-02420a0101cc"
    }
   },
   "source": [
    "#  以上で演習は終わりです。課題に進んでください。"
   ]
  },
  {
   "cell_type": "code",
   "execution_count": null,
   "metadata": {
    "lc_cell_meme": {
     "current": "17f9bea6-30db-11ea-984f-02420a0101cc",
     "history": [
      {
       "current": "ebc3b478-f3cb-11e9-a8bb-02420a010068",
       "next": null,
       "previous": "f52926a8-f180-11e9-a8bb-02420a010068"
      },
      {
       "current": "1d0ab4dc-0a97-11ea-896e-02420a010068",
       "next": null,
       "previous": "1d0ab392-0a97-11ea-896e-02420a010068"
      },
      {
       "current": "1d0ab4dc-0a97-11ea-896e-02420a010068",
       "next": null,
       "previous": "28100a90-2530-11ea-ad6d-02420a0101f7"
      },
      {
       "current": "1d0ab4dc-0a97-11ea-896e-02420a010068",
       "next": null,
       "previous": "1d0ab392-0a97-11ea-896e-02420a010068"
      }
     ],
     "next": null,
     "previous": "17f9bda2-30db-11ea-984f-02420a0101cc"
    }
   },
   "outputs": [],
   "source": []
  }
 ],
 "metadata": {
  "kernelspec": {
   "display_name": "Python 3",
   "language": "python",
   "name": "python3"
  },
  "language_info": {
   "file_extension": ".py",
   "mimetype": "text/x-python",
   "name": "python",
   "nbconvert_exporter": "python",
   "pygments_lexer": "ipython3",
   "version": "3.7.3"
  },
  "lc_notebook_meme": {
   "current": "17f9858a-30db-11ea-984f-02420a0101cc",
   "history": [
    "964dd774-f143-11e9-a8bb-02420a010068",
    "1d09e50c-0a97-11ea-896e-02420a010068"
   ],
   "lc_server_signature": {
    "current": {
     "notebook_dir": "/home/14999410x94c69e",
     "notebook_path": "/13",
     "server_url": "https://nb06.ecloud.nii.ac.jp/user/14999410x94c69e/",
     "signature_id": "360553ae-df66-11e9-8262-02420a010037"
    },
    "history": [
     {
      "notebook_dir": "/home/14999410x94c69e",
      "notebook_path": "/05a",
      "server_url": "https://nb06.ecloud.nii.ac.jp/user/14999410x94c69e/",
      "signature_id": "360553ae-df66-11e9-8262-02420a010037"
     },
     {
      "notebook_dir": "/home/14999410x94c69e",
      "notebook_path": "/08a",
      "server_url": "https://nb06.ecloud.nii.ac.jp/user/14999410x94c69e/",
      "signature_id": "360553ae-df66-11e9-8262-02420a010037"
     },
     {
      "notebook_dir": "/home/14999410x94c69e",
      "notebook_path": "/13a",
      "server_url": "https://nb06.ecloud.nii.ac.jp/user/14999410x94c69e/",
      "signature_id": "360553ae-df66-11e9-8262-02420a010037"
     }
    ]
   },
   "root_cells": [
    "17f98c1a-30db-11ea-984f-02420a0101cc",
    "17f98dfa-30db-11ea-984f-02420a0101cc",
    "17f98fe4-30db-11ea-984f-02420a0101cc",
    "17f9914c-30db-11ea-984f-02420a0101cc",
    "17f9925a-30db-11ea-984f-02420a0101cc",
    "17f993a4-30db-11ea-984f-02420a0101cc",
    "17f994b2-30db-11ea-984f-02420a0101cc",
    "17f995f2-30db-11ea-984f-02420a0101cc",
    "17f996f6-30db-11ea-984f-02420a0101cc",
    "17f99822-30db-11ea-984f-02420a0101cc",
    "17f99944-30db-11ea-984f-02420a0101cc",
    "17f99a66-30db-11ea-984f-02420a0101cc",
    "17f99b9c-30db-11ea-984f-02420a0101cc",
    "17f99ca0-30db-11ea-984f-02420a0101cc",
    "17f99dc2-30db-11ea-984f-02420a0101cc",
    "17f99ee4-30db-11ea-984f-02420a0101cc",
    "17f99ffc-30db-11ea-984f-02420a0101cc",
    "17f9a132-30db-11ea-984f-02420a0101cc",
    "17f9a22c-30db-11ea-984f-02420a0101cc",
    "17f9a36c-30db-11ea-984f-02420a0101cc",
    "17f9a4ac-30db-11ea-984f-02420a0101cc",
    "17f9a5d8-30db-11ea-984f-02420a0101cc",
    "17f9a6f0-30db-11ea-984f-02420a0101cc",
    "17f9a812-30db-11ea-984f-02420a0101cc",
    "17f9a9c0-30db-11ea-984f-02420a0101cc",
    "17f9ab8c-30db-11ea-984f-02420a0101cc",
    "17f9acae-30db-11ea-984f-02420a0101cc",
    "17f9adc6-30db-11ea-984f-02420a0101cc",
    "17f9af24-30db-11ea-984f-02420a0101cc",
    "17f9b03c-30db-11ea-984f-02420a0101cc",
    "17f9b1b8-30db-11ea-984f-02420a0101cc",
    "17f9b302-30db-11ea-984f-02420a0101cc",
    "17f9b456-30db-11ea-984f-02420a0101cc",
    "17f9b6cc-30db-11ea-984f-02420a0101cc",
    "17f9b802-30db-11ea-984f-02420a0101cc",
    "17f9b924-30db-11ea-984f-02420a0101cc",
    "17f9ba46-30db-11ea-984f-02420a0101cc",
    "17f9bb7c-30db-11ea-984f-02420a0101cc",
    "17f9bc9e-30db-11ea-984f-02420a0101cc",
    "17f9bda2-30db-11ea-984f-02420a0101cc",
    "17f9bea6-30db-11ea-984f-02420a0101cc"
   ]
  },
  "toc": {
   "base_numbering": 1,
   "nav_menu": {},
   "number_sections": true,
   "sideBar": true,
   "skip_h1_title": false,
   "title_cell": "Table of Contents",
   "title_sidebar": "Contents",
   "toc_cell": false,
   "toc_position": {
    "height": "calc(100% - 180px)",
    "left": "10px",
    "top": "150px",
    "width": "395.8px"
   },
   "toc_section_display": true,
   "toc_window_display": true
  }
 },
 "nbformat": 4,
 "nbformat_minor": 2
}
