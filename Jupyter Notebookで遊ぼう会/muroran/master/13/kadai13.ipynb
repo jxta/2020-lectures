{
 "cells": [
  {
   "cell_type": "markdown",
   "metadata": {
    "lc_cell_meme": {
     "current": "1fb70b80-30db-11ea-a1bb-02420a0101cc",
     "history": [
      {
       "current": "4baeeaaa-96df-11e9-8b94-e0d55ea40caf",
       "next": "4baeeaab-96df-11e9-8b94-e0d55ea40caf",
       "previous": null
      },
      {
       "current": "4baeeaaa-96df-11e9-8b94-e0d55ea40caf",
       "next": "d3724eee-ef2e-11e9-a8bb-02420a010068",
       "previous": null
      },
      {
       "current": "4ae249d8-f3c2-11e9-a610-02420a010068",
       "next": "4ae24bb8-f3c2-11e9-a610-02420a010068",
       "previous": null
      },
      {
       "current": "29622828-0a97-11ea-94e6-02420a010068",
       "next": "29622af8-0a97-11ea-94e6-02420a010068",
       "previous": null
      }
     ],
     "next": "1fb70e00-30db-11ea-a1bb-02420a0101cc",
     "previous": null
    }
   },
   "source": [
    "プログラミング入門\n",
    "# 第13回　シミュレーション（1）（課題）"
   ]
  },
  {
   "cell_type": "markdown",
   "metadata": {
    "lc_cell_meme": {
     "current": "1fb70e00-30db-11ea-a1bb-02420a0101cc",
     "history": [
      {
       "current": "d3724eee-ef2e-11e9-a8bb-02420a010068",
       "next": "4baeeaab-96df-11e9-8b94-e0d55ea40caf",
       "previous": "4baeeaaa-96df-11e9-8b94-e0d55ea40caf"
      },
      {
       "current": "4ae24bb8-f3c2-11e9-a610-02420a010068",
       "next": "4ae24e06-f3c2-11e9-a610-02420a010068",
       "previous": "4ae249d8-f3c2-11e9-a610-02420a010068"
      },
      {
       "current": "29622af8-0a97-11ea-94e6-02420a010068",
       "next": "29622f12-0a97-11ea-94e6-02420a010068",
       "previous": "29622828-0a97-11ea-94e6-02420a010068"
      }
     ],
     "next": "1fb70f86-30db-11ea-a1bb-02420a0101cc",
     "previous": "1fb70b80-30db-11ea-a1bb-02420a0101cc"
    }
   },
   "source": [
    "## 氏名"
   ]
  },
  {
   "cell_type": "markdown",
   "metadata": {
    "lc_cell_meme": {
     "current": "1fb70f86-30db-11ea-a1bb-02420a0101cc",
     "history": [
      {
       "current": "4baeeaab-96df-11e9-8b94-e0d55ea40caf",
       "next": "4baeeaac-96df-11e9-8b94-e0d55ea40caf",
       "previous": "4baeeaaa-96df-11e9-8b94-e0d55ea40caf"
      },
      {
       "current": "4baeeaab-96df-11e9-8b94-e0d55ea40caf",
       "next": "4baeeaac-96df-11e9-8b94-e0d55ea40caf",
       "previous": "d3724eee-ef2e-11e9-a8bb-02420a010068"
      },
      {
       "current": "4ae24e06-f3c2-11e9-a610-02420a010068",
       "next": "4ae24fa0-f3c2-11e9-a610-02420a010068",
       "previous": "4ae24bb8-f3c2-11e9-a610-02420a010068"
      },
      {
       "current": "29622f12-0a97-11ea-94e6-02420a010068",
       "next": "29623106-0a97-11ea-94e6-02420a010068",
       "previous": "29622af8-0a97-11ea-94e6-02420a010068"
      }
     ],
     "next": "1fb71224-30db-11ea-a1bb-02420a0101cc",
     "previous": "1fb70e00-30db-11ea-a1bb-02420a0101cc"
    }
   },
   "source": [
    "次のセルに、自分の名前と学籍番号を記入して下さい。"
   ]
  },
  {
   "cell_type": "raw",
   "metadata": {
    "lc_cell_meme": {
     "current": "1fb71224-30db-11ea-a1bb-02420a0101cc",
     "history": [
      {
       "current": "4baeeaac-96df-11e9-8b94-e0d55ea40caf",
       "next": "efa662f7-96de-11e9-8b94-e0d55ea40caf",
       "previous": "4baeeaab-96df-11e9-8b94-e0d55ea40caf"
      },
      {
       "current": "4baeeaac-96df-11e9-8b94-e0d55ea40caf",
       "next": "efa662f7-96de-11e9-8b94-e0d55ea40caf",
       "previous": "4baeeaab-96df-11e9-8b94-e0d55ea40caf"
      },
      {
       "current": "4baeeaac-96df-11e9-8b94-e0d55ea40caf",
       "next": "933950fe-96df-11e9-8b94-e0d55ea40caf",
       "previous": "4baeeaac-96df-11e9-8b94-e0d55ea40caf"
      },
      {
       "current": "4baeeaac-96df-11e9-8b94-e0d55ea40caf",
       "next": "933950fe-96df-11e9-8b94-e0d55ea40caf",
       "previous": "4baeeaac-96df-11e9-8b94-e0d55ea40caf"
      },
      {
       "current": "4baeeaac-96df-11e9-8b94-e0d55ea40caf",
       "next": "933950fe-96df-11e9-8b94-e0d55ea40caf",
       "previous": "4baeeaac-96df-11e9-8b94-e0d55ea40caf"
      },
      {
       "current": "4baeeaac-96df-11e9-8b94-e0d55ea40caf",
       "next": "933950fe-96df-11e9-8b94-e0d55ea40caf",
       "previous": "4baeeaac-96df-11e9-8b94-e0d55ea40caf"
      },
      {
       "current": "4baeeaac-96df-11e9-8b94-e0d55ea40caf",
       "next": "933950fe-96df-11e9-8b94-e0d55ea40caf",
       "previous": "4baeeaac-96df-11e9-8b94-e0d55ea40caf"
      },
      {
       "current": "4baeeaac-96df-11e9-8b94-e0d55ea40caf",
       "next": "933950fe-96df-11e9-8b94-e0d55ea40caf",
       "previous": "4baeeaac-96df-11e9-8b94-e0d55ea40caf"
      },
      {
       "current": "4baeeaac-96df-11e9-8b94-e0d55ea40caf",
       "next": "933950fe-96df-11e9-8b94-e0d55ea40caf",
       "previous": "4baeeaac-96df-11e9-8b94-e0d55ea40caf"
      },
      {
       "current": "4baeeaac-96df-11e9-8b94-e0d55ea40caf",
       "next": "933950fe-96df-11e9-8b94-e0d55ea40caf",
       "previous": "4baeeaac-96df-11e9-8b94-e0d55ea40caf"
      },
      {
       "current": "4baeeaac-96df-11e9-8b94-e0d55ea40caf",
       "next": "933950fe-96df-11e9-8b94-e0d55ea40caf",
       "previous": "4baeeaac-96df-11e9-8b94-e0d55ea40caf"
      },
      {
       "current": "4baeeaac-96df-11e9-8b94-e0d55ea40caf",
       "next": "933950fe-96df-11e9-8b94-e0d55ea40caf",
       "previous": "4baeeaac-96df-11e9-8b94-e0d55ea40caf"
      },
      {
       "current": "4baeeaac-96df-11e9-8b94-e0d55ea40caf",
       "next": "4baeeaac-96df-11e9-8b94-e0d55ea40caf",
       "previous": "4baeeaab-96df-11e9-8b94-e0d55ea40caf"
      },
      {
       "current": "4ae24fa0-f3c2-11e9-a610-02420a010068",
       "next": "4ae251b2-f3c2-11e9-a610-02420a010068",
       "previous": "4ae24e06-f3c2-11e9-a610-02420a010068"
      },
      {
       "current": "29623106-0a97-11ea-94e6-02420a010068",
       "next": "29623318-0a97-11ea-94e6-02420a010068",
       "previous": "29622f12-0a97-11ea-94e6-02420a010068"
      }
     ],
     "next": "1fb7135a-30db-11ea-a1bb-02420a0101cc",
     "previous": "1fb70f86-30db-11ea-a1bb-02420a0101cc"
    }
   },
   "source": [
    "学籍番号：　  　　　　　　　　　　氏名："
   ]
  },
  {
   "cell_type": "markdown",
   "metadata": {
    "lc_cell_meme": {
     "current": "1fb7135a-30db-11ea-a1bb-02420a0101cc",
     "history": [
      {
       "current": "4baeeaac-96df-11e9-8b94-e0d55ea40caf",
       "next": "efa662f7-96de-11e9-8b94-e0d55ea40caf",
       "previous": "4baeeaab-96df-11e9-8b94-e0d55ea40caf"
      },
      {
       "current": "4baeeaac-96df-11e9-8b94-e0d55ea40caf",
       "next": "efa662f7-96de-11e9-8b94-e0d55ea40caf",
       "previous": "4baeeaab-96df-11e9-8b94-e0d55ea40caf"
      },
      {
       "current": "4baeeaac-96df-11e9-8b94-e0d55ea40caf",
       "next": "933950fe-96df-11e9-8b94-e0d55ea40caf",
       "previous": "4baeeaac-96df-11e9-8b94-e0d55ea40caf"
      },
      {
       "current": "4baeeaac-96df-11e9-8b94-e0d55ea40caf",
       "next": "933950fe-96df-11e9-8b94-e0d55ea40caf",
       "previous": "4baeeaac-96df-11e9-8b94-e0d55ea40caf"
      },
      {
       "current": "4baeeaac-96df-11e9-8b94-e0d55ea40caf",
       "next": "933950fe-96df-11e9-8b94-e0d55ea40caf",
       "previous": "4baeeaac-96df-11e9-8b94-e0d55ea40caf"
      },
      {
       "current": "4baeeaac-96df-11e9-8b94-e0d55ea40caf",
       "next": "933950fe-96df-11e9-8b94-e0d55ea40caf",
       "previous": "4baeeaac-96df-11e9-8b94-e0d55ea40caf"
      },
      {
       "current": "4baeeaac-96df-11e9-8b94-e0d55ea40caf",
       "next": "933950fe-96df-11e9-8b94-e0d55ea40caf",
       "previous": "4baeeaac-96df-11e9-8b94-e0d55ea40caf"
      },
      {
       "current": "4baeeaac-96df-11e9-8b94-e0d55ea40caf",
       "next": "933950fe-96df-11e9-8b94-e0d55ea40caf",
       "previous": "4baeeaac-96df-11e9-8b94-e0d55ea40caf"
      },
      {
       "current": "4baeeaac-96df-11e9-8b94-e0d55ea40caf",
       "next": "933950fe-96df-11e9-8b94-e0d55ea40caf",
       "previous": "4baeeaac-96df-11e9-8b94-e0d55ea40caf"
      },
      {
       "current": "4baeeaac-96df-11e9-8b94-e0d55ea40caf",
       "next": "933950fe-96df-11e9-8b94-e0d55ea40caf",
       "previous": "4baeeaac-96df-11e9-8b94-e0d55ea40caf"
      },
      {
       "current": "4baeeaac-96df-11e9-8b94-e0d55ea40caf",
       "next": "933950fe-96df-11e9-8b94-e0d55ea40caf",
       "previous": "4baeeaac-96df-11e9-8b94-e0d55ea40caf"
      },
      {
       "current": "4baeeaac-96df-11e9-8b94-e0d55ea40caf",
       "next": "933950fe-96df-11e9-8b94-e0d55ea40caf",
       "previous": "4baeeaac-96df-11e9-8b94-e0d55ea40caf"
      },
      {
       "current": "4ae251b2-f3c2-11e9-a610-02420a010068",
       "next": "4ae2536a-f3c2-11e9-a610-02420a010068",
       "previous": "4ae24fa0-f3c2-11e9-a610-02420a010068"
      },
      {
       "current": "29623318-0a97-11ea-94e6-02420a010068",
       "next": "296235fc-0a97-11ea-94e6-02420a010068",
       "previous": "29623106-0a97-11ea-94e6-02420a010068"
      }
     ],
     "next": "1fb714a4-30db-11ea-a1bb-02420a0101cc",
     "previous": "1fb71224-30db-11ea-a1bb-02420a0101cc"
    }
   },
   "source": [
    "【進め方の注意】\n",
    "\n",
    "- 文書を読んで、手順に沿って問いに答えながら進めて下さい。\n",
    "- 課題の回答が終わったらファイルを保存して下さい。\n",
    "- 途中わからないことがあれば、教員またはTAに質問して下さい。"
   ]
  },
  {
   "cell_type": "markdown",
   "metadata": {
    "lc_cell_meme": {
     "current": "1fb714a4-30db-11ea-a1bb-02420a0101cc",
     "history": [
      {
       "current": "933950fe-96df-11e9-8b94-e0d55ea40caf",
       "next": "933950ff-96df-11e9-8b94-e0d55ea40caf",
       "previous": "4baeeaac-96df-11e9-8b94-e0d55ea40caf"
      },
      {
       "current": "4ae2536a-f3c2-11e9-a610-02420a010068",
       "next": "4ae2550e-f3c2-11e9-a610-02420a010068",
       "previous": "4ae251b2-f3c2-11e9-a610-02420a010068"
      },
      {
       "current": "296235fc-0a97-11ea-94e6-02420a010068",
       "next": "2962385e-0a97-11ea-94e6-02420a010068",
       "previous": "29623318-0a97-11ea-94e6-02420a010068"
      }
     ],
     "next": "1fb715ee-30db-11ea-a1bb-02420a0101cc",
     "previous": "1fb7135a-30db-11ea-a1bb-02420a0101cc"
    }
   },
   "source": [
    "### 注意事項"
   ]
  },
  {
   "cell_type": "markdown",
   "metadata": {
    "lc_cell_meme": {
     "current": "1fb715ee-30db-11ea-a1bb-02420a0101cc",
     "history": [
      {
       "current": "933950ff-96df-11e9-8b94-e0d55ea40caf",
       "next": "93395100-96df-11e9-8b94-e0d55ea40caf",
       "previous": "933950fe-96df-11e9-8b94-e0d55ea40caf"
      },
      {
       "current": "4ae2550e-f3c2-11e9-a610-02420a010068",
       "next": "4ae2564e-f3c2-11e9-a610-02420a010068",
       "previous": "4ae2536a-f3c2-11e9-a610-02420a010068"
      },
      {
       "current": "2962385e-0a97-11ea-94e6-02420a010068",
       "next": "29623b60-0a97-11ea-94e6-02420a010068",
       "previous": "296235fc-0a97-11ea-94e6-02420a010068"
      }
     ],
     "next": "1fb71710-30db-11ea-a1bb-02420a0101cc",
     "previous": "1fb714a4-30db-11ea-a1bb-02420a0101cc"
    }
   },
   "source": [
    "確認課題は、単位認定のための点数としてカウントします。\n",
    "\n",
    "確認課題が終わった人は、提出後に退室して構いません。\n",
    "\n",
    "終わらなくても終了時刻までに提出してください。"
   ]
  },
  {
   "cell_type": "markdown",
   "metadata": {
    "lc_cell_meme": {
     "current": "1fb71710-30db-11ea-a1bb-02420a0101cc",
     "history": [
      {
       "current": "93395100-96df-11e9-8b94-e0d55ea40caf",
       "next": "efa662f7-96de-11e9-8b94-e0d55ea40caf",
       "previous": "933950ff-96df-11e9-8b94-e0d55ea40caf"
      },
      {
       "current": "4ae2564e-f3c2-11e9-a610-02420a010068",
       "next": "4ae257ca-f3c2-11e9-a610-02420a010068",
       "previous": "4ae2550e-f3c2-11e9-a610-02420a010068"
      },
      {
       "current": "4ae2564e-f3c2-11e9-a610-02420a010068",
       "next": "82aa9d94-09c4-11ea-a8bb-02420a010068",
       "previous": "4ae2550e-f3c2-11e9-a610-02420a010068"
      },
      {
       "current": "29623b60-0a97-11ea-94e6-02420a010068",
       "next": "29623d04-0a97-11ea-94e6-02420a010068",
       "previous": "2962385e-0a97-11ea-94e6-02420a010068"
      }
     ],
     "next": "1fb71850-30db-11ea-a1bb-02420a0101cc",
     "previous": "1fb715ee-30db-11ea-a1bb-02420a0101cc"
    }
   },
   "source": [
    " # 課題 2次元の酔歩問題（移動距離もランダム）"
   ]
  },
  {
   "cell_type": "markdown",
   "metadata": {
    "lc_cell_meme": {
     "current": "1fb71850-30db-11ea-a1bb-02420a0101cc",
     "history": [
      {
       "current": "82aa9d94-09c4-11ea-a8bb-02420a010068",
       "next": "4ae257ca-f3c2-11e9-a610-02420a010068",
       "previous": "4ae2564e-f3c2-11e9-a610-02420a010068"
      },
      {
       "current": "29623d04-0a97-11ea-94e6-02420a010068",
       "next": "29623f20-0a97-11ea-94e6-02420a010068",
       "previous": "29623b60-0a97-11ea-94e6-02420a010068"
      }
     ],
     "next": "1fb71990-30db-11ea-a1bb-02420a0101cc",
     "previous": "1fb71710-30db-11ea-a1bb-02420a0101cc"
    }
   },
   "source": [
    "## 移動距離の計算"
   ]
  },
  {
   "cell_type": "markdown",
   "metadata": {
    "lc_cell_meme": {
     "current": "1fb71990-30db-11ea-a1bb-02420a0101cc",
     "history": [
      {
       "current": "efa662f7-96de-11e9-8b94-e0d55ea40caf",
       "next": "efa662f8-96de-11e9-8b94-e0d55ea40caf",
       "previous": null
      },
      {
       "current": "efa662f7-96de-11e9-8b94-e0d55ea40caf",
       "next": "efa662f8-96de-11e9-8b94-e0d55ea40caf",
       "previous": "4baeeaac-96df-11e9-8b94-e0d55ea40caf"
      },
      {
       "current": "efa662f7-96de-11e9-8b94-e0d55ea40caf",
       "next": "efa662f8-96de-11e9-8b94-e0d55ea40caf",
       "previous": "93395100-96df-11e9-8b94-e0d55ea40caf"
      },
      {
       "current": "efa662f7-96de-11e9-8b94-e0d55ea40caf",
       "next": "f8da5718-96e0-11e9-8b94-e0d55ea40caf",
       "previous": "93395100-96df-11e9-8b94-e0d55ea40caf"
      },
      {
       "current": "4ae257ca-f3c2-11e9-a610-02420a010068",
       "next": "4ae25950-f3c2-11e9-a610-02420a010068",
       "previous": "4ae2564e-f3c2-11e9-a610-02420a010068"
      },
      {
       "current": "4ae257ca-f3c2-11e9-a610-02420a010068",
       "next": "4ae25d88-f3c2-11e9-a610-02420a010068",
       "previous": "4ae2564e-f3c2-11e9-a610-02420a010068"
      },
      {
       "current": "4ae257ca-f3c2-11e9-a610-02420a010068",
       "next": "ac197b6a-09c3-11ea-a8bb-02420a010068",
       "previous": "4ae2564e-f3c2-11e9-a610-02420a010068"
      },
      {
       "current": "4ae257ca-f3c2-11e9-a610-02420a010068",
       "next": "ac197b6a-09c3-11ea-a8bb-02420a010068",
       "previous": "82aa9d94-09c4-11ea-a8bb-02420a010068"
      },
      {
       "current": "29623f20-0a97-11ea-94e6-02420a010068",
       "next": "2962410a-0a97-11ea-94e6-02420a010068",
       "previous": "29623d04-0a97-11ea-94e6-02420a010068"
      }
     ],
     "next": "1fb71a94-30db-11ea-a1bb-02420a0101cc",
     "previous": "1fb71850-30db-11ea-a1bb-02420a0101cc"
    }
   },
   "source": [
    "この2次元の酔歩では、ランダムな方向に ランダムに0-1の範囲で移動することとします。<br>\n",
    "方向を$\\theta$、移動距離を$l$としたとき、$x$, $y$方向の移動距離はそれぞれ、$l \\times cos(\\theta), l \\times sin(\\theta)$で与えられます。<br>\n",
    "\n",
    "次のセルで、乱数を使い角度$\\theta$で距離$l$移動したときの、移動距離$x,y$として2つの値を返す関数$next\\_step3()$を定義しなさい。<br>\n",
    "\n",
    "ただし、$0$から$2\\pi$までの乱数は次の式で計算できます。\n",
    "$$\n",
    "th = random.random() * math.pi * 2\n",
    "$$"
   ]
  },
  {
   "cell_type": "code",
   "execution_count": null,
   "metadata": {
    "lc_cell_meme": {
     "current": "1fb71a94-30db-11ea-a1bb-02420a0101cc",
     "history": [
      {
       "current": "ac197b6a-09c3-11ea-a8bb-02420a010068",
       "next": "ac197e30-09c3-11ea-a8bb-02420a010068",
       "previous": "4ae257ca-f3c2-11e9-a610-02420a010068"
      },
      {
       "current": "2962410a-0a97-11ea-94e6-02420a010068",
       "next": "29624312-0a97-11ea-94e6-02420a010068",
       "previous": "29623f20-0a97-11ea-94e6-02420a010068"
      },
      {
       "current": "2962410a-0a97-11ea-94e6-02420a010068",
       "next": "296244b6-0a97-11ea-94e6-02420a010068",
       "previous": "29623f20-0a97-11ea-94e6-02420a010068"
      }
     ],
     "next": "1fb71bb6-30db-11ea-a1bb-02420a0101cc",
     "previous": "1fb71990-30db-11ea-a1bb-02420a0101cc"
    }
   },
   "outputs": [],
   "source": [
    "# 課題入力欄\n",
    "import random\n",
    "import math\n",
    "def next_step3():\n",
    "    ???"
   ]
  },
  {
   "cell_type": "markdown",
   "metadata": {
    "lc_cell_meme": {
     "current": "1fb71bb6-30db-11ea-a1bb-02420a0101cc",
     "history": [
      {
       "current": "82aaa0fa-09c4-11ea-a8bb-02420a010068",
       "next": "82aaa23a-09c4-11ea-a8bb-02420a010068",
       "previous": "ac197e30-09c3-11ea-a8bb-02420a010068"
      },
      {
       "current": "82aaa0fa-09c4-11ea-a8bb-02420a010068",
       "next": "ac197b6a-09c3-11ea-a8bb-02420a010068",
       "previous": "ac197e30-09c3-11ea-a8bb-02420a010068"
      },
      {
       "current": "296244b6-0a97-11ea-94e6-02420a010068",
       "next": "29624704-0a97-11ea-94e6-02420a010068",
       "previous": "29624312-0a97-11ea-94e6-02420a010068"
      },
      {
       "current": "296244b6-0a97-11ea-94e6-02420a010068",
       "next": "29624704-0a97-11ea-94e6-02420a010068",
       "previous": "2962410a-0a97-11ea-94e6-02420a010068"
      }
     ],
     "next": "1fb71cd8-30db-11ea-a1bb-02420a0101cc",
     "previous": "1fb71a94-30db-11ea-a1bb-02420a0101cc"
    }
   },
   "source": [
    "次のセルを評価し、$next\\_step3()$を$10$回実行し、ランダムになっていることを確認しなさい"
   ]
  },
  {
   "cell_type": "code",
   "execution_count": null,
   "metadata": {
    "lc_cell_meme": {
     "current": "1fb71cd8-30db-11ea-a1bb-02420a0101cc",
     "history": [
      {
       "current": "ac197b6a-09c3-11ea-a8bb-02420a010068",
       "next": "ac197e30-09c3-11ea-a8bb-02420a010068",
       "previous": "4ae257ca-f3c2-11e9-a610-02420a010068"
      },
      {
       "current": "ac197b6a-09c3-11ea-a8bb-02420a010068",
       "next": "82aaa23a-09c4-11ea-a8bb-02420a010068",
       "previous": "82aaa0fa-09c4-11ea-a8bb-02420a010068"
      },
      {
       "current": "29624704-0a97-11ea-94e6-02420a010068",
       "next": "2962490c-0a97-11ea-94e6-02420a010068",
       "previous": "296244b6-0a97-11ea-94e6-02420a010068"
      },
      {
       "current": "29624704-0a97-11ea-94e6-02420a010068",
       "next": "29624b78-0a97-11ea-94e6-02420a010068",
       "previous": "296244b6-0a97-11ea-94e6-02420a010068"
      }
     ],
     "next": "1fb71df0-30db-11ea-a1bb-02420a0101cc",
     "previous": "1fb71bb6-30db-11ea-a1bb-02420a0101cc"
    },
    "lc_wrapper": {
     "log_history": [
      "/home/14999410x94c69e/13a/.log/20191223/20191223-140411-0452.log",
      "/home/14999410x94c69e/13a/.log/20191223/20191223-140425-0527.log",
      "/home/14999410x94c69e/13a/.log/20191223/20191223-140512-0775.log",
      "/home/14999410x94c69e/13a/.log/20191224/20191224-164933-0180.log"
     ]
    }
   },
   "outputs": [],
   "source": [
    "# そのまま評価すること\n",
    "for i in range(10):\n",
    "    print(next_step3())"
   ]
  },
  {
   "cell_type": "markdown",
   "metadata": {
    "lc_cell_meme": {
     "current": "1fb71df0-30db-11ea-a1bb-02420a0101cc",
     "history": [
      {
       "current": "11c154fa-09c5-11ea-a8bb-02420a010068",
       "next": "4ae26314-f3c2-11e9-a610-02420a010068",
       "previous": "82aaa23a-09c4-11ea-a8bb-02420a010068"
      },
      {
       "current": "11c154fa-09c5-11ea-a8bb-02420a010068",
       "next": "82aaa0fa-09c4-11ea-a8bb-02420a010068",
       "previous": "82aaa23a-09c4-11ea-a8bb-02420a010068"
      },
      {
       "current": "29624b78-0a97-11ea-94e6-02420a010068",
       "next": "29624d30-0a97-11ea-94e6-02420a010068",
       "previous": "2962490c-0a97-11ea-94e6-02420a010068"
      },
      {
       "current": "29624b78-0a97-11ea-94e6-02420a010068",
       "next": "29624d30-0a97-11ea-94e6-02420a010068",
       "previous": "29624704-0a97-11ea-94e6-02420a010068"
      }
     ],
     "next": "1fb71f1c-30db-11ea-a1bb-02420a0101cc",
     "previous": "1fb71cd8-30db-11ea-a1bb-02420a0101cc"
    }
   },
   "source": [
    "## シミュレーションの計算"
   ]
  },
  {
   "cell_type": "markdown",
   "metadata": {
    "lc_cell_meme": {
     "current": "1fb71f1c-30db-11ea-a1bb-02420a0101cc",
     "history": [
      {
       "current": "82aaa0fa-09c4-11ea-a8bb-02420a010068",
       "next": "82aaa23a-09c4-11ea-a8bb-02420a010068",
       "previous": "ac197e30-09c3-11ea-a8bb-02420a010068"
      },
      {
       "current": "82aaa0fa-09c4-11ea-a8bb-02420a010068",
       "next": "ac197b6a-09c3-11ea-a8bb-02420a010068",
       "previous": "ac197e30-09c3-11ea-a8bb-02420a010068"
      },
      {
       "current": "82aaa0fa-09c4-11ea-a8bb-02420a010068",
       "next": "ac197b6a-09c3-11ea-a8bb-02420a010068",
       "previous": "11c154fa-09c5-11ea-a8bb-02420a010068"
      },
      {
       "current": "29624d30-0a97-11ea-94e6-02420a010068",
       "next": "29624ee8-0a97-11ea-94e6-02420a010068",
       "previous": "29624b78-0a97-11ea-94e6-02420a010068"
      }
     ],
     "next": "1fb7202a-30db-11ea-a1bb-02420a0101cc",
     "previous": "1fb71df0-30db-11ea-a1bb-02420a0101cc"
    }
   },
   "source": [
    "○演習：\n",
    "\n",
    "次のセルで、 $next\\_step3()$を使いステップごとに位置$posx, posy$を表示するプログラムを作成しなさい。\n",
    "\n",
    "1. $posx, posy$を$0$とする\n",
    "2. 以下を10回繰り返す\n",
    "  1. $next\\_step3()$を使い、移動距離を求めて、位置を計算する\n",
    "  2. ステップごとに、$posx$, $posy$を表示する"
   ]
  },
  {
   "cell_type": "code",
   "execution_count": null,
   "metadata": {
    "lc_cell_meme": {
     "current": "1fb7202a-30db-11ea-a1bb-02420a0101cc",
     "history": [
      {
       "current": "ac197b6a-09c3-11ea-a8bb-02420a010068",
       "next": "ac197e30-09c3-11ea-a8bb-02420a010068",
       "previous": "4ae257ca-f3c2-11e9-a610-02420a010068"
      },
      {
       "current": "ac197b6a-09c3-11ea-a8bb-02420a010068",
       "next": "82aaa23a-09c4-11ea-a8bb-02420a010068",
       "previous": "82aaa0fa-09c4-11ea-a8bb-02420a010068"
      },
      {
       "current": "29624ee8-0a97-11ea-94e6-02420a010068",
       "next": "296250dc-0a97-11ea-94e6-02420a010068",
       "previous": "29624d30-0a97-11ea-94e6-02420a010068"
      },
      {
       "current": "29624ee8-0a97-11ea-94e6-02420a010068",
       "next": "2962544c-0a97-11ea-94e6-02420a010068",
       "previous": "29624d30-0a97-11ea-94e6-02420a010068"
      }
     ],
     "next": "1fb7212e-30db-11ea-a1bb-02420a0101cc",
     "previous": "1fb71f1c-30db-11ea-a1bb-02420a0101cc"
    }
   },
   "outputs": [],
   "source": [
    "# 演習用入力欄\n",
    "posx = 0\n",
    "posy = 0\n",
    "for i in range(10):\n",
    "    ???\n",
    "    ???\n",
    "    ???\n",
    "    print(\"posx\", posx, \"posy\", posy)"
   ]
  },
  {
   "cell_type": "markdown",
   "metadata": {
    "lc_cell_meme": {
     "current": "1fb7212e-30db-11ea-a1bb-02420a0101cc",
     "history": [
      {
       "current": "5945218a-09c5-11ea-a8bb-02420a010068",
       "next": "82aaa0fa-09c4-11ea-a8bb-02420a010068",
       "previous": "11c154fa-09c5-11ea-a8bb-02420a010068"
      },
      {
       "current": "2962544c-0a97-11ea-94e6-02420a010068",
       "next": "29625726-0a97-11ea-94e6-02420a010068",
       "previous": "29625294-0a97-11ea-94e6-02420a010068"
      },
      {
       "current": "2962544c-0a97-11ea-94e6-02420a010068",
       "next": "29625726-0a97-11ea-94e6-02420a010068",
       "previous": "296250dc-0a97-11ea-94e6-02420a010068"
      },
      {
       "current": "2962544c-0a97-11ea-94e6-02420a010068",
       "next": "29625726-0a97-11ea-94e6-02420a010068",
       "previous": "29624ee8-0a97-11ea-94e6-02420a010068"
      }
     ],
     "next": "1fb72232-30db-11ea-a1bb-02420a0101cc",
     "previous": "1fb7202a-30db-11ea-a1bb-02420a0101cc"
    }
   },
   "source": [
    "## 2次元の酔歩計算の可視化"
   ]
  },
  {
   "cell_type": "markdown",
   "metadata": {
    "lc_cell_meme": {
     "current": "1fb72232-30db-11ea-a1bb-02420a0101cc",
     "history": [
      {
       "current": "82aaa0fa-09c4-11ea-a8bb-02420a010068",
       "next": "82aaa23a-09c4-11ea-a8bb-02420a010068",
       "previous": "ac197e30-09c3-11ea-a8bb-02420a010068"
      },
      {
       "current": "82aaa0fa-09c4-11ea-a8bb-02420a010068",
       "next": "ac197b6a-09c3-11ea-a8bb-02420a010068",
       "previous": "ac197e30-09c3-11ea-a8bb-02420a010068"
      },
      {
       "current": "82aaa0fa-09c4-11ea-a8bb-02420a010068",
       "next": "ac197b6a-09c3-11ea-a8bb-02420a010068",
       "previous": "5945218a-09c5-11ea-a8bb-02420a010068"
      },
      {
       "current": "29625726-0a97-11ea-94e6-02420a010068",
       "next": "2962599c-0a97-11ea-94e6-02420a010068",
       "previous": "2962544c-0a97-11ea-94e6-02420a010068"
      }
     ],
     "next": "1fb72354-30db-11ea-a1bb-02420a0101cc",
     "previous": "1fb7212e-30db-11ea-a1bb-02420a0101cc"
    }
   },
   "source": [
    "以下のセルで、$next\\_step3()$を使って、$500$ステップの位置を計算し、関数$plot()$を使って可視化しなさい。"
   ]
  },
  {
   "cell_type": "code",
   "execution_count": null,
   "metadata": {
    "lc_cell_meme": {
     "current": "1fb72354-30db-11ea-a1bb-02420a0101cc",
     "history": [
      {
       "current": "ac197b6a-09c3-11ea-a8bb-02420a010068",
       "next": "ac197e30-09c3-11ea-a8bb-02420a010068",
       "previous": "4ae257ca-f3c2-11e9-a610-02420a010068"
      },
      {
       "current": "ac197b6a-09c3-11ea-a8bb-02420a010068",
       "next": "82aaa23a-09c4-11ea-a8bb-02420a010068",
       "previous": "82aaa0fa-09c4-11ea-a8bb-02420a010068"
      },
      {
       "current": "ac197b6a-09c3-11ea-a8bb-02420a010068",
       "next": "11c154fa-09c5-11ea-a8bb-02420a010068",
       "previous": "82aaa0fa-09c4-11ea-a8bb-02420a010068"
      },
      {
       "current": "2962599c-0a97-11ea-94e6-02420a010068",
       "next": "29625c12-0a97-11ea-94e6-02420a010068",
       "previous": "29625726-0a97-11ea-94e6-02420a010068"
      },
      {
       "current": "2962599c-0a97-11ea-94e6-02420a010068",
       "next": "ebc3a7be-2542-11ea-ad6d-02420a0101f7",
       "previous": "29625726-0a97-11ea-94e6-02420a010068"
      },
      {
       "current": "2962599c-0a97-11ea-94e6-02420a010068",
       "next": "29625dd4-0a97-11ea-94e6-02420a010068",
       "previous": "29625726-0a97-11ea-94e6-02420a010068"
      }
     ],
     "next": "1fb72458-30db-11ea-a1bb-02420a0101cc",
     "previous": "1fb72232-30db-11ea-a1bb-02420a0101cc"
    },
    "lc_wrapper": {
     "log_history": [
      "/home/14999410x94c69e/08a/.log/20191118/20191118-143651-0788.log",
      "/home/14999410x94c69e/08a/.log/20191118/20191118-143705-0116.log",
      "/home/14999410x94c69e/08a/.log/20191118/20191118-143708-0452.log",
      "/home/14999410x94c69e/08a/.log/20191118/20191118-143714-0513.log",
      "/home/14999410x94c69e/08a/.log/20191118/20191118-143751-0479.log",
      "/home/14999410x94c69e/08a/.log/20191118/20191118-143804-0913.log",
      "/home/14999410x94c69e/08a/.log/20191118/20191118-143844-0008.log",
      "/home/14999410x94c69e/08a/.log/20191118/20191118-143920-0065.log",
      "/home/14999410x94c69e/08a/.log/20191118/20191118-143932-0154.log"
     ]
    }
   },
   "outputs": [],
   "source": [
    "# 演習用入力欄\n",
    "%matplotlib inline\n",
    "import matplotlib.pyplot as plt\n",
    "posx = 0\n",
    "posy = 0\n",
    "xlist = []\n",
    "ylist = []\n",
    "for i in range(500):\n",
    "    ???"
   ]
  },
  {
   "cell_type": "markdown",
   "metadata": {
    "lc_cell_meme": {
     "current": "1fb72458-30db-11ea-a1bb-02420a0101cc",
     "history": [
      {
       "current": "1aff667a-ef2f-11e9-a8bb-02420a010068",
       "next": "8c720b22-e012-11e9-9819-02420a01003b",
       "previous": "4060f3da-96e1-11e9-8b94-e0d55ea40caf"
      },
      {
       "current": "1aff667a-ef2f-11e9-a8bb-02420a010068",
       "next": "8c720b22-e012-11e9-9819-02420a01003b",
       "previous": "f8286684-9c8f-11e9-8b94-e0d55ea40caf"
      },
      {
       "current": "4ae26314-f3c2-11e9-a610-02420a010068",
       "next": "4ae2645e-f3c2-11e9-a610-02420a010068",
       "previous": "4ae261d4-f3c2-11e9-a610-02420a010068"
      },
      {
       "current": "4ae26314-f3c2-11e9-a610-02420a010068",
       "next": "4ae2645e-f3c2-11e9-a610-02420a010068",
       "previous": "4ae26062-f3c2-11e9-a610-02420a010068"
      },
      {
       "current": "4ae26314-f3c2-11e9-a610-02420a010068",
       "next": "4ae2645e-f3c2-11e9-a610-02420a010068",
       "previous": "ac197e30-09c3-11ea-a8bb-02420a010068"
      },
      {
       "current": "4ae26314-f3c2-11e9-a610-02420a010068",
       "next": "4ae2645e-f3c2-11e9-a610-02420a010068",
       "previous": "82aaa23a-09c4-11ea-a8bb-02420a010068"
      },
      {
       "current": "4ae26314-f3c2-11e9-a610-02420a010068",
       "next": "4ae2645e-f3c2-11e9-a610-02420a010068",
       "previous": "11c154fa-09c5-11ea-a8bb-02420a010068"
      },
      {
       "current": "29625dd4-0a97-11ea-94e6-02420a010068",
       "next": "29625f78-0a97-11ea-94e6-02420a010068",
       "previous": "29625c12-0a97-11ea-94e6-02420a010068"
      },
      {
       "current": "29625dd4-0a97-11ea-94e6-02420a010068",
       "next": "29625f78-0a97-11ea-94e6-02420a010068",
       "previous": "ebc3a7be-2542-11ea-ad6d-02420a0101f7"
      },
      {
       "current": "29625dd4-0a97-11ea-94e6-02420a010068",
       "next": "29625f78-0a97-11ea-94e6-02420a010068",
       "previous": "2962599c-0a97-11ea-94e6-02420a010068"
      }
     ],
     "next": "1fb7255c-30db-11ea-a1bb-02420a0101cc",
     "previous": "1fb72354-30db-11ea-a1bb-02420a0101cc"
    }
   },
   "source": [
    "# 課題は以上です。お疲れさまでした"
   ]
  },
  {
   "cell_type": "markdown",
   "metadata": {
    "heading_collapsed": true,
    "lc_cell_meme": {
     "current": "1fb7255c-30db-11ea-a1bb-02420a0101cc",
     "history": [
      {
       "current": "8c720b22-e012-11e9-9819-02420a01003b",
       "next": "8c720ee2-e012-11e9-9819-02420a01003b",
       "previous": "4060f3da-96e1-11e9-8b94-e0d55ea40caf"
      },
      {
       "current": "8c720b22-e012-11e9-9819-02420a01003b",
       "next": "8c720ee2-e012-11e9-9819-02420a01003b",
       "previous": "1aff667a-ef2f-11e9-a8bb-02420a010068"
      },
      {
       "current": "4ae2645e-f3c2-11e9-a610-02420a010068",
       "next": "4ae2659e-f3c2-11e9-a610-02420a010068",
       "previous": "4ae26314-f3c2-11e9-a610-02420a010068"
      },
      {
       "current": "29625f78-0a97-11ea-94e6-02420a010068",
       "next": "2962611c-0a97-11ea-94e6-02420a010068",
       "previous": "29625dd4-0a97-11ea-94e6-02420a010068"
      }
     ],
     "next": "1fb7267e-30db-11ea-a1bb-02420a0101cc",
     "previous": "1fb72458-30db-11ea-a1bb-02420a0101cc"
    }
   },
   "source": [
    "## 評価結果"
   ]
  },
  {
   "cell_type": "code",
   "execution_count": null,
   "metadata": {
    "hidden": true,
    "lc_cell_meme": {
     "current": "1fb7267e-30db-11ea-a1bb-02420a0101cc",
     "history": [
      {
       "current": "8c720ee2-e012-11e9-9819-02420a01003b",
       "next": "8c721022-e012-11e9-9819-02420a01003b",
       "previous": "8c720b22-e012-11e9-9819-02420a01003b"
      },
      {
       "current": "4ae2659e-f3c2-11e9-a610-02420a010068",
       "next": "4ae266e8-f3c2-11e9-a610-02420a010068",
       "previous": "4ae2645e-f3c2-11e9-a610-02420a010068"
      },
      {
       "current": "2962611c-0a97-11ea-94e6-02420a010068",
       "next": "296262c0-0a97-11ea-94e6-02420a010068",
       "previous": "29625f78-0a97-11ea-94e6-02420a010068"
      }
     ],
     "next": "1fb72782-30db-11ea-a1bb-02420a0101cc",
     "previous": "1fb7255c-30db-11ea-a1bb-02420a0101cc"
    }
   },
   "outputs": [],
   "source": []
  },
  {
   "cell_type": "markdown",
   "metadata": {
    "lc_cell_meme": {
     "current": "1fb72782-30db-11ea-a1bb-02420a0101cc",
     "history": [
      {
       "current": "8c721022-e012-11e9-9819-02420a01003b",
       "next": "8c721130-e012-11e9-9819-02420a01003b",
       "previous": "8c720ee2-e012-11e9-9819-02420a01003b"
      },
      {
       "current": "4ae266e8-f3c2-11e9-a610-02420a010068",
       "next": "4ae2685a-f3c2-11e9-a610-02420a010068",
       "previous": "4ae2659e-f3c2-11e9-a610-02420a010068"
      },
      {
       "current": "296262c0-0a97-11ea-94e6-02420a010068",
       "next": "29626464-0a97-11ea-94e6-02420a010068",
       "previous": "2962611c-0a97-11ea-94e6-02420a010068"
      }
     ],
     "next": "1fb72886-30db-11ea-a1bb-02420a0101cc",
     "previous": "1fb7267e-30db-11ea-a1bb-02420a0101cc"
    }
   },
   "source": [
    "## コメント等"
   ]
  },
  {
   "cell_type": "code",
   "execution_count": null,
   "metadata": {
    "lc_cell_meme": {
     "current": "1fb72886-30db-11ea-a1bb-02420a0101cc",
     "history": [
      {
       "current": "8c721130-e012-11e9-9819-02420a01003b",
       "next": "4060f3db-96e1-11e9-8b94-e0d55ea40caf",
       "previous": "8c721022-e012-11e9-9819-02420a01003b"
      },
      {
       "current": "4ae2685a-f3c2-11e9-a610-02420a010068",
       "next": "4ae2699a-f3c2-11e9-a610-02420a010068",
       "previous": "4ae266e8-f3c2-11e9-a610-02420a010068"
      },
      {
       "current": "29626464-0a97-11ea-94e6-02420a010068",
       "next": "29626612-0a97-11ea-94e6-02420a010068",
       "previous": "296262c0-0a97-11ea-94e6-02420a010068"
      }
     ],
     "next": "1fb72980-30db-11ea-a1bb-02420a0101cc",
     "previous": "1fb72782-30db-11ea-a1bb-02420a0101cc"
    }
   },
   "outputs": [],
   "source": []
  },
  {
   "cell_type": "markdown",
   "metadata": {
    "lc_cell_meme": {
     "current": "1fb72980-30db-11ea-a1bb-02420a0101cc",
     "history": [
      {
       "current": "4060f3db-96e1-11e9-8b94-e0d55ea40caf",
       "next": null,
       "previous": "4060f3da-96e1-11e9-8b94-e0d55ea40caf"
      },
      {
       "current": "4060f3db-96e1-11e9-8b94-e0d55ea40caf",
       "next": null,
       "previous": "8c721130-e012-11e9-9819-02420a01003b"
      },
      {
       "current": "4ae2699a-f3c2-11e9-a610-02420a010068",
       "next": null,
       "previous": "4ae2685a-f3c2-11e9-a610-02420a010068"
      },
      {
       "current": "29626612-0a97-11ea-94e6-02420a010068",
       "next": null,
       "previous": "29626464-0a97-11ea-94e6-02420a010068"
      }
     ],
     "next": null,
     "previous": "1fb72886-30db-11ea-a1bb-02420a0101cc"
    }
   },
   "source": []
  }
 ],
 "metadata": {
  "kernelspec": {
   "display_name": "Python 3",
   "language": "python",
   "name": "python3"
  },
  "language_info": {
   "file_extension": ".py",
   "mimetype": "text/x-python",
   "name": "python",
   "nbconvert_exporter": "python",
   "pygments_lexer": "ipython3",
   "version": "3.7.3"
  },
  "lc_notebook_meme": {
   "current": "1fb704aa-30db-11ea-a1bb-02420a0101cc",
   "history": [
    "efa662f6-96de-11e9-8b94-e0d55ea40caf",
    "4ae243e8-f3c2-11e9-a610-02420a010068",
    "29621fa4-0a97-11ea-94e6-02420a010068"
   ],
   "lc_server_signature": {
    "current": {
     "notebook_dir": "/home/14999410x94c69e",
     "notebook_path": "/13",
     "server_url": "https://nb06.ecloud.nii.ac.jp/user/14999410x94c69e/",
     "signature_id": "360553ae-df66-11e9-8262-02420a010037"
    },
    "history": [
     {
      "notebook_dir": "/home/kuwata/notebooks",
      "notebook_path": "/",
      "server_url": "http://157.19.141.8:8000/user/kuwata/",
      "signature_id": "d0abe7ae-153d-11e9-9674-e0d55ea40caf"
     },
     {
      "notebook_dir": "/home/14999410x94c69e",
      "notebook_path": "/",
      "server_url": "https://nb06.ecloud.nii.ac.jp/user/14999410x94c69e/",
      "signature_id": "360553ae-df66-11e9-8262-02420a010037"
     },
     {
      "notebook_dir": "/home/14999410x94c69e",
      "notebook_path": "/04a",
      "server_url": "https://nb06.ecloud.nii.ac.jp/user/14999410x94c69e/",
      "signature_id": "360553ae-df66-11e9-8262-02420a010037"
     },
     {
      "notebook_dir": "/home/14999410x94c69e",
      "notebook_path": "/04",
      "server_url": "https://nb06.ecloud.nii.ac.jp/user/14999410x94c69e/",
      "signature_id": "360553ae-df66-11e9-8262-02420a010037"
     },
     {
      "notebook_dir": "/home/10999408x8b656d",
      "notebook_path": "/",
      "server_url": "https://nb06.ecloud.nii.ac.jp/user/10999408x8b656d/",
      "signature_id": "d393819a-dea3-11e9-afca-02420a010023"
     },
     {
      "notebook_dir": "/home/14999410x94c69e",
      "notebook_path": "/08a",
      "server_url": "https://nb06.ecloud.nii.ac.jp/user/14999410x94c69e/",
      "signature_id": "360553ae-df66-11e9-8262-02420a010037"
     },
     {
      "notebook_dir": "/home/14999410x94c69e",
      "notebook_path": "/13a",
      "server_url": "https://nb06.ecloud.nii.ac.jp/user/14999410x94c69e/",
      "signature_id": "360553ae-df66-11e9-8262-02420a010037"
     }
    ]
   },
   "root_cells": [
    "1fb70b80-30db-11ea-a1bb-02420a0101cc",
    "1fb70e00-30db-11ea-a1bb-02420a0101cc",
    "1fb70f86-30db-11ea-a1bb-02420a0101cc",
    "1fb71224-30db-11ea-a1bb-02420a0101cc",
    "1fb7135a-30db-11ea-a1bb-02420a0101cc",
    "1fb714a4-30db-11ea-a1bb-02420a0101cc",
    "1fb715ee-30db-11ea-a1bb-02420a0101cc",
    "1fb71710-30db-11ea-a1bb-02420a0101cc",
    "1fb71850-30db-11ea-a1bb-02420a0101cc",
    "1fb71990-30db-11ea-a1bb-02420a0101cc",
    "1fb71a94-30db-11ea-a1bb-02420a0101cc",
    "1fb71bb6-30db-11ea-a1bb-02420a0101cc",
    "1fb71cd8-30db-11ea-a1bb-02420a0101cc",
    "1fb71df0-30db-11ea-a1bb-02420a0101cc",
    "1fb71f1c-30db-11ea-a1bb-02420a0101cc",
    "1fb7202a-30db-11ea-a1bb-02420a0101cc",
    "1fb7212e-30db-11ea-a1bb-02420a0101cc",
    "1fb72232-30db-11ea-a1bb-02420a0101cc",
    "1fb72354-30db-11ea-a1bb-02420a0101cc",
    "1fb72458-30db-11ea-a1bb-02420a0101cc",
    "1fb7255c-30db-11ea-a1bb-02420a0101cc",
    "1fb7267e-30db-11ea-a1bb-02420a0101cc",
    "1fb72782-30db-11ea-a1bb-02420a0101cc",
    "1fb72886-30db-11ea-a1bb-02420a0101cc",
    "1fb72980-30db-11ea-a1bb-02420a0101cc"
   ]
  },
  "toc": {
   "base_numbering": 1,
   "nav_menu": {},
   "number_sections": true,
   "sideBar": true,
   "skip_h1_title": false,
   "title_cell": "Table of Contents",
   "title_sidebar": "Contents",
   "toc_cell": false,
   "toc_position": {},
   "toc_section_display": true,
   "toc_window_display": false
  }
 },
 "nbformat": 4,
 "nbformat_minor": 2
}
