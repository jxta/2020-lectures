{
 "cells": [
  {
   "cell_type": "markdown",
   "metadata": {
    "lc_cell_meme": {
     "current": "d3156ba4-e8b5-11e9-baaf-02420a010068",
     "history": [
      {
       "current": "8824c557-1d20-11e9-a9f8-e0d55ea40caf",
       "next": "8824c558-1d20-11e9-a9f8-e0d55ea40caf",
       "previous": null
      },
      {
       "current": "70589e5e-9249-11e9-ba02-02420a010063",
       "next": "7058a066-9249-11e9-ba02-02420a010063",
       "previous": null
      }
     ],
     "next": "d3156ece-e8b5-11e9-baaf-02420a010068",
     "previous": null
    }
   },
   "source": [
    "# プログラミング入門\n",
    "# 第２回　計算してみよう"
   ]
  },
  {
   "cell_type": "markdown",
   "metadata": {
    "lc_cell_meme": {
     "current": "d3156ece-e8b5-11e9-baaf-02420a010068",
     "history": [
      {
       "current": "8824c558-1d20-11e9-a9f8-e0d55ea40caf",
       "next": "8824c559-1d20-11e9-a9f8-e0d55ea40caf",
       "previous": "8824c557-1d20-11e9-a9f8-e0d55ea40caf"
      },
      {
       "current": "7058a066-9249-11e9-ba02-02420a010063",
       "next": "7058a17e-9249-11e9-ba02-02420a010063",
       "previous": "70589e5e-9249-11e9-ba02-02420a010063"
      }
     ],
     "next": "d31570b8-e8b5-11e9-baaf-02420a010068",
     "previous": "d3156ba4-e8b5-11e9-baaf-02420a010068"
    }
   },
   "source": [
    "次のセルに、自分の名前と学籍番号を記入して下さい。"
   ]
  },
  {
   "cell_type": "raw",
   "metadata": {
    "lc_cell_meme": {
     "current": "d31570b8-e8b5-11e9-baaf-02420a010068",
     "history": [
      {
       "current": "8824c559-1d20-11e9-a9f8-e0d55ea40caf",
       "next": "8824c55a-1d20-11e9-a9f8-e0d55ea40caf",
       "previous": "8824c558-1d20-11e9-a9f8-e0d55ea40caf"
      },
      {
       "current": "7058a17e-9249-11e9-ba02-02420a010063",
       "next": "7058a2be-9249-11e9-ba02-02420a010063",
       "previous": "7058a066-9249-11e9-ba02-02420a010063"
      }
     ],
     "next": "d3157270-e8b5-11e9-baaf-02420a010068",
     "previous": "d3156ece-e8b5-11e9-baaf-02420a010068"
    }
   },
   "source": [
    "学籍番号：　　　　　　　　　　　氏名："
   ]
  },
  {
   "cell_type": "markdown",
   "metadata": {
    "lc_cell_meme": {
     "current": "d3157270-e8b5-11e9-baaf-02420a010068",
     "history": [
      {
       "current": "8824c55a-1d20-11e9-a9f8-e0d55ea40caf",
       "next": "8824c55b-1d20-11e9-a9f8-e0d55ea40caf",
       "previous": "8824c559-1d20-11e9-a9f8-e0d55ea40caf"
      },
      {
       "current": "7058a2be-9249-11e9-ba02-02420a010063",
       "next": "7058a3c2-9249-11e9-ba02-02420a010063",
       "previous": "7058a17e-9249-11e9-ba02-02420a010063"
      }
     ],
     "next": "d315746e-e8b5-11e9-baaf-02420a010068",
     "previous": "d31570b8-e8b5-11e9-baaf-02420a010068"
    }
   },
   "source": [
    "【進め方の注意】\n",
    "\n",
    "- 文書を読んで、手順に沿って問いに答えながら進めて下さい。\n",
    "- 最後の確認問題を解いて、ファイルを提出して下さい。\n",
    "- 途中わからないことがあれば、教員またはTAに質問して下さい。"
   ]
  },
  {
   "cell_type": "markdown",
   "metadata": {
    "lc_cell_meme": {
     "current": "d315746e-e8b5-11e9-baaf-02420a010068",
     "history": [
      {
       "current": "8824c55b-1d20-11e9-a9f8-e0d55ea40caf",
       "next": "8824c55c-1d20-11e9-a9f8-e0d55ea40caf",
       "previous": "8824c55a-1d20-11e9-a9f8-e0d55ea40caf"
      },
      {
       "current": "7058a3c2-9249-11e9-ba02-02420a010063",
       "next": "7058a4da-9249-11e9-ba02-02420a010063",
       "previous": "7058a2be-9249-11e9-ba02-02420a010063"
      }
     ],
     "next": "d31575b8-e8b5-11e9-baaf-02420a010068",
     "previous": "d3157270-e8b5-11e9-baaf-02420a010068"
    }
   },
   "source": [
    "## 計算をしてみる\n"
   ]
  },
  {
   "cell_type": "markdown",
   "metadata": {
    "lc_cell_meme": {
     "current": "d31575b8-e8b5-11e9-baaf-02420a010068",
     "history": [
      {
       "current": "8824c55c-1d20-11e9-a9f8-e0d55ea40caf",
       "next": "8824c55d-1d20-11e9-a9f8-e0d55ea40caf",
       "previous": "8824c55b-1d20-11e9-a9f8-e0d55ea40caf"
      },
      {
       "current": "7058a4da-9249-11e9-ba02-02420a010063",
       "next": "7058a5d4-9249-11e9-ba02-02420a010063",
       "previous": "7058a3c2-9249-11e9-ba02-02420a010063"
      }
     ],
     "next": "d3157702-e8b5-11e9-baaf-02420a010068",
     "previous": "d315746e-e8b5-11e9-baaf-02420a010068"
    }
   },
   "source": [
    "○演習：次の式を評価して計算をしなさい。\n",
    "\n",
    "（セルの評価を行うには、SHIFT + RETURNを押します）\n"
   ]
  },
  {
   "cell_type": "code",
   "execution_count": null,
   "metadata": {
    "lc_cell_meme": {
     "current": "d3157702-e8b5-11e9-baaf-02420a010068",
     "history": [
      {
       "current": "8824c55d-1d20-11e9-a9f8-e0d55ea40caf",
       "next": "8824c55e-1d20-11e9-a9f8-e0d55ea40caf",
       "previous": "8824c55c-1d20-11e9-a9f8-e0d55ea40caf"
      },
      {
       "current": "7058a5d4-9249-11e9-ba02-02420a010063",
       "next": "7058a6e2-9249-11e9-ba02-02420a010063",
       "previous": "7058a4da-9249-11e9-ba02-02420a010063"
      }
     ],
     "next": "d315784c-e8b5-11e9-baaf-02420a010068",
     "previous": "d31575b8-e8b5-11e9-baaf-02420a010068"
    },
    "lc_wrapper": {
     "log_history": [
      "/home/kuwata/notebooks/.log/20190611/20190611-180433-0002.log",
      "/home/kuwataa25e07/02/.log/20190620/20190620-150240-0025.log",
      "/home/14999410x94c69e/02a/.log/20191004/20191004-165802-0976.log"
     ]
    },
    "pinned_outputs": [],
    "scrolled": true
   },
   "outputs": [],
   "source": [
    "# 計算例\n",
    "1+2"
   ]
  },
  {
   "cell_type": "markdown",
   "metadata": {
    "lc_cell_meme": {
     "current": "d315784c-e8b5-11e9-baaf-02420a010068",
     "history": [
      {
       "current": "8824c55e-1d20-11e9-a9f8-e0d55ea40caf",
       "next": "8824c55f-1d20-11e9-a9f8-e0d55ea40caf",
       "previous": "8824c55d-1d20-11e9-a9f8-e0d55ea40caf"
      },
      {
       "current": "7058a6e2-9249-11e9-ba02-02420a010063",
       "next": "7058a7dc-9249-11e9-ba02-02420a010063",
       "previous": "7058a5d4-9249-11e9-ba02-02420a010063"
      }
     ],
     "next": "d31579c8-e8b5-11e9-baaf-02420a010068",
     "previous": "d3157702-e8b5-11e9-baaf-02420a010068"
    }
   },
   "source": [
    "○演習：次のセルで、5 + 4 の計算をしなさい。"
   ]
  },
  {
   "cell_type": "code",
   "execution_count": null,
   "metadata": {
    "lc_cell_meme": {
     "current": "d31579c8-e8b5-11e9-baaf-02420a010068",
     "history": [
      {
       "current": "8824c55f-1d20-11e9-a9f8-e0d55ea40caf",
       "next": "8824c560-1d20-11e9-a9f8-e0d55ea40caf",
       "previous": "8824c55e-1d20-11e9-a9f8-e0d55ea40caf"
      },
      {
       "current": "7058a7dc-9249-11e9-ba02-02420a010063",
       "next": "7058a89a-9249-11e9-ba02-02420a010063",
       "previous": "7058a6e2-9249-11e9-ba02-02420a010063"
      }
     ],
     "next": "d3157b12-e8b5-11e9-baaf-02420a010068",
     "previous": "d315784c-e8b5-11e9-baaf-02420a010068"
    },
    "lc_wrapper": {
     "log_history": [
      "/home/kuwata/notebooks/.log/20190611/20190611-180445-0871.log",
      "/home/kuwata/notebooks/.log/20190611/20190611-180501-0104.log",
      "/home/kuwata/notebooks/.log/20190611/20190611-180516-0726.log",
      "/home/kuwata/notebooks/.log/20190611/20190611-180523-0013.log",
      "/home/kuwata/notebooks/.log/20190611/20190611-180537-0503.log",
      "/home/kuwataa25e07/02/.log/20190620/20190620-150333-0980.log",
      "/home/14999410x94c69e/02a/.log/20191004/20191004-165803-0014.log"
     ]
    },
    "pinned_outputs": []
   },
   "outputs": [],
   "source": []
  },
  {
   "cell_type": "markdown",
   "metadata": {
    "lc_cell_meme": {
     "current": "d3157b12-e8b5-11e9-baaf-02420a010068",
     "history": [
      {
       "current": "8824c560-1d20-11e9-a9f8-e0d55ea40caf",
       "next": "8824c561-1d20-11e9-a9f8-e0d55ea40caf",
       "previous": "8824c55f-1d20-11e9-a9f8-e0d55ea40caf"
      },
      {
       "current": "7058a89a-9249-11e9-ba02-02420a010063",
       "next": "7058a958-9249-11e9-ba02-02420a010063",
       "previous": "7058a7dc-9249-11e9-ba02-02420a010063"
      }
     ],
     "next": "d3157c8e-e8b5-11e9-baaf-02420a010068",
     "previous": "d31579c8-e8b5-11e9-baaf-02420a010068"
    }
   },
   "source": [
    "ヒント：結果が９になれば正解です。"
   ]
  },
  {
   "cell_type": "markdown",
   "metadata": {
    "lc_cell_meme": {
     "current": "d3157c8e-e8b5-11e9-baaf-02420a010068",
     "history": [
      {
       "current": "8824c561-1d20-11e9-a9f8-e0d55ea40caf",
       "next": "8824c562-1d20-11e9-a9f8-e0d55ea40caf",
       "previous": "8824c560-1d20-11e9-a9f8-e0d55ea40caf"
      },
      {
       "current": "7058a958-9249-11e9-ba02-02420a010063",
       "next": "7058aa16-9249-11e9-ba02-02420a010063",
       "previous": "7058a89a-9249-11e9-ba02-02420a010063"
      }
     ],
     "next": "d3157de2-e8b5-11e9-baaf-02420a010068",
     "previous": "d3157b12-e8b5-11e9-baaf-02420a010068"
    }
   },
   "source": [
    "計算には、整数でなく小数も利用することができます。"
   ]
  },
  {
   "cell_type": "markdown",
   "metadata": {
    "lc_cell_meme": {
     "current": "d3157de2-e8b5-11e9-baaf-02420a010068",
     "history": [
      {
       "current": "8824c562-1d20-11e9-a9f8-e0d55ea40caf",
       "next": "8824c563-1d20-11e9-a9f8-e0d55ea40caf",
       "previous": "8824c561-1d20-11e9-a9f8-e0d55ea40caf"
      },
      {
       "current": "7058aa16-9249-11e9-ba02-02420a010063",
       "next": "7058ab1a-9249-11e9-ba02-02420a010063",
       "previous": "7058a958-9249-11e9-ba02-02420a010063"
      }
     ],
     "next": "d3157f68-e8b5-11e9-baaf-02420a010068",
     "previous": "d3157c8e-e8b5-11e9-baaf-02420a010068"
    }
   },
   "source": [
    "○演習：次のセルで、小数を使って「$\\large 3.14 + 4.3$」計算をしなさい。\n"
   ]
  },
  {
   "cell_type": "code",
   "execution_count": null,
   "metadata": {
    "lc_cell_meme": {
     "current": "d3157f68-e8b5-11e9-baaf-02420a010068",
     "history": [
      {
       "current": "8824c563-1d20-11e9-a9f8-e0d55ea40caf",
       "next": "8824c564-1d20-11e9-a9f8-e0d55ea40caf",
       "previous": "8824c562-1d20-11e9-a9f8-e0d55ea40caf"
      },
      {
       "current": "7058ab1a-9249-11e9-ba02-02420a010063",
       "next": "7058ac50-9249-11e9-ba02-02420a010063",
       "previous": "7058aa16-9249-11e9-ba02-02420a010063"
      }
     ],
     "next": "d31580bc-e8b5-11e9-baaf-02420a010068",
     "previous": "d3157de2-e8b5-11e9-baaf-02420a010068"
    },
    "lc_wrapper": {
     "log_history": [
      "/home/kuwataa25e07/02/.log/20190620/20190620-150428-0747.log",
      "/home/14999410x94c69e/02a/.log/20191004/20191004-165803-0040.log"
     ]
    }
   },
   "outputs": [],
   "source": []
  },
  {
   "cell_type": "markdown",
   "metadata": {
    "lc_cell_meme": {
     "current": "d31580bc-e8b5-11e9-baaf-02420a010068",
     "history": [
      {
       "current": "8824c564-1d20-11e9-a9f8-e0d55ea40caf",
       "next": "8824c565-1d20-11e9-a9f8-e0d55ea40caf",
       "previous": "8824c563-1d20-11e9-a9f8-e0d55ea40caf"
      },
      {
       "current": "7058ac50-9249-11e9-ba02-02420a010063",
       "next": "7058ad0e-9249-11e9-ba02-02420a010063",
       "previous": "7058ab1a-9249-11e9-ba02-02420a010063"
      }
     ],
     "next": "d3158238-e8b5-11e9-baaf-02420a010068",
     "previous": "d3157f68-e8b5-11e9-baaf-02420a010068"
    }
   },
   "source": [
    "ヒント：結果が$7.44$になれば正解です。"
   ]
  },
  {
   "cell_type": "markdown",
   "metadata": {
    "lc_cell_meme": {
     "current": "d3158238-e8b5-11e9-baaf-02420a010068",
     "history": [
      {
       "current": "8824c565-1d20-11e9-a9f8-e0d55ea40caf",
       "next": "8824c566-1d20-11e9-a9f8-e0d55ea40caf",
       "previous": "8824c564-1d20-11e9-a9f8-e0d55ea40caf"
      },
      {
       "current": "7058ad0e-9249-11e9-ba02-02420a010063",
       "next": "7058afe8-9249-11e9-ba02-02420a010063",
       "previous": "7058ac50-9249-11e9-ba02-02420a010063"
      }
     ],
     "next": "d31583be-e8b5-11e9-baaf-02420a010068",
     "previous": "d31580bc-e8b5-11e9-baaf-02420a010068"
    }
   },
   "source": [
    "算術演算には次のようなものが使えます。\n",
    "\n",
    "|演算子|意味|例|説明|\n",
    "|:--:|:--:|:--:|:--|\n",
    "|+|加算|x + y |xにyを加える|\n",
    "|-|減算|x - y |xからyを引く|\n",
    "|*|乗算|x * y |xにyを掛ける|\n",
    "|/|除算|x / y |xをyで割る|\n",
    "|%|剰余|x % y |xをyで割った余り|\n",
    "|**|累乗（べき乗）|x ** y |xのy乗|\n"
   ]
  },
  {
   "cell_type": "markdown",
   "metadata": {
    "lc_cell_meme": {
     "current": "d31583be-e8b5-11e9-baaf-02420a010068",
     "history": [
      {
       "current": "8824c566-1d20-11e9-a9f8-e0d55ea40caf",
       "next": "8824c567-1d20-11e9-a9f8-e0d55ea40caf",
       "previous": "8824c565-1d20-11e9-a9f8-e0d55ea40caf"
      },
      {
       "current": "7058afe8-9249-11e9-ba02-02420a010063",
       "next": "7058b1f0-9249-11e9-ba02-02420a010063",
       "previous": "7058ad0e-9249-11e9-ba02-02420a010063"
      }
     ],
     "next": "d3158512-e8b5-11e9-baaf-02420a010068",
     "previous": "d3158238-e8b5-11e9-baaf-02420a010068"
    }
   },
   "source": [
    "○演習：次のセルで、算術演算を使って、「　$\\Large\\frac{3}{5}$　」を計算しなさい。\n"
   ]
  },
  {
   "cell_type": "code",
   "execution_count": null,
   "metadata": {
    "lc_cell_meme": {
     "current": "d3158512-e8b5-11e9-baaf-02420a010068",
     "history": [
      {
       "current": "8824c567-1d20-11e9-a9f8-e0d55ea40caf",
       "next": "8824c568-1d20-11e9-a9f8-e0d55ea40caf",
       "previous": "8824c566-1d20-11e9-a9f8-e0d55ea40caf"
      },
      {
       "current": "7058b1f0-9249-11e9-ba02-02420a010063",
       "next": "7058b510-9249-11e9-ba02-02420a010063",
       "previous": "7058afe8-9249-11e9-ba02-02420a010063"
      }
     ],
     "next": "d3158684-e8b5-11e9-baaf-02420a010068",
     "previous": "d31583be-e8b5-11e9-baaf-02420a010068"
    },
    "lc_wrapper": {
     "log_history": [
      "/home/14999410x94c69e/02a/.log/20191004/20191004-163447-0744.log",
      "/home/14999410x94c69e/02a/.log/20191004/20191004-165803-0069.log"
     ]
    }
   },
   "outputs": [],
   "source": []
  },
  {
   "cell_type": "markdown",
   "metadata": {
    "lc_cell_meme": {
     "current": "d3158684-e8b5-11e9-baaf-02420a010068",
     "history": [
      {
       "current": "8824c568-1d20-11e9-a9f8-e0d55ea40caf",
       "next": "8824c569-1d20-11e9-a9f8-e0d55ea40caf",
       "previous": "8824c567-1d20-11e9-a9f8-e0d55ea40caf"
      },
      {
       "current": "7058b510-9249-11e9-ba02-02420a010063",
       "next": "7058b614-9249-11e9-ba02-02420a010063",
       "previous": "7058b1f0-9249-11e9-ba02-02420a010063"
      }
     ],
     "next": "d3158800-e8b5-11e9-baaf-02420a010068",
     "previous": "d3158512-e8b5-11e9-baaf-02420a010068"
    }
   },
   "source": [
    "ヒント：結果が$0.6$になれば正解です。"
   ]
  },
  {
   "cell_type": "markdown",
   "metadata": {
    "lc_cell_meme": {
     "current": "d3158800-e8b5-11e9-baaf-02420a010068",
     "history": [
      {
       "current": "8824c569-1d20-11e9-a9f8-e0d55ea40caf",
       "next": "8824c56a-1d20-11e9-a9f8-e0d55ea40caf",
       "previous": "8824c568-1d20-11e9-a9f8-e0d55ea40caf"
      },
      {
       "current": "7058b614-9249-11e9-ba02-02420a010063",
       "next": "7058b768-9249-11e9-ba02-02420a010063",
       "previous": "7058b510-9249-11e9-ba02-02420a010063"
      }
     ],
     "next": "d315894a-e8b5-11e9-baaf-02420a010068",
     "previous": "d3158684-e8b5-11e9-baaf-02420a010068"
    }
   },
   "source": [
    "### 計算の優先順位 "
   ]
  },
  {
   "cell_type": "markdown",
   "metadata": {
    "lc_cell_meme": {
     "current": "d315894a-e8b5-11e9-baaf-02420a010068",
     "history": [
      {
       "current": "8824c56a-1d20-11e9-a9f8-e0d55ea40caf",
       "next": "8824c56b-1d20-11e9-a9f8-e0d55ea40caf",
       "previous": "8824c569-1d20-11e9-a9f8-e0d55ea40caf"
      },
      {
       "current": "7058b768-9249-11e9-ba02-02420a010063",
       "next": "7058b894-9249-11e9-ba02-02420a010063",
       "previous": "7058b614-9249-11e9-ba02-02420a010063"
      }
     ],
     "next": "d3158a94-e8b5-11e9-baaf-02420a010068",
     "previous": "d3158800-e8b5-11e9-baaf-02420a010068"
    }
   },
   "source": [
    "演算子は優先順位があって、優先順位の高い方から計算されます。\n",
    "\n",
    "演算子の優先順位は次にようになっています。\n",
    "\n",
    "|順位|演算子|\n",
    "|:--|:--:|\n",
    "|1（高）|　(　)　|\n",
    "|2　｜|　* /　|\n",
    "|3（低）|　+ -　|\n",
    "\n",
    "カッコは「(　)」だけが使えます。「{　}」や「[　]」はエラーになります。\n",
    "\n",
    "また、同じ優先順位の演算子の場合、左から計算されます。"
   ]
  },
  {
   "cell_type": "markdown",
   "metadata": {
    "lc_cell_meme": {
     "current": "d3158a94-e8b5-11e9-baaf-02420a010068",
     "history": [
      {
       "current": "8824c56b-1d20-11e9-a9f8-e0d55ea40caf",
       "next": "8824c56c-1d20-11e9-a9f8-e0d55ea40caf",
       "previous": "8824c56a-1d20-11e9-a9f8-e0d55ea40caf"
      },
      {
       "current": "7058b894-9249-11e9-ba02-02420a010063",
       "next": "7058b9e8-9249-11e9-ba02-02420a010063",
       "previous": "7058b768-9249-11e9-ba02-02420a010063"
      }
     ],
     "next": "d3158bde-e8b5-11e9-baaf-02420a010068",
     "previous": "d315894a-e8b5-11e9-baaf-02420a010068"
    }
   },
   "source": [
    "特に次のような間違えが多いので注意します。\n",
    "\n",
    "|　　数学の式　　|プログラム|間違えた場合の振る舞い|\n",
    "|:--:|:--:|:--|\n",
    "|$2a+1$|2 * a + 1|*を忘れるとエラーになる|\n",
    "|$　　(b+1)(b-1)　$|( b + 1 ) * ( b - 1 )|*を忘れるとエラーになる|\n",
    "|$\\Large\\frac{a+1}{b(b+1)}$|( a + 1 ) / (b * ( b + 1 ))|分子全体・分母全体の括弧を忘れると全く違う全く違う式になる|\n",
    "\n",
    "重要：数学の表記と違い「*」乗算演算子は省略できません。"
   ]
  },
  {
   "cell_type": "markdown",
   "metadata": {
    "lc_cell_meme": {
     "current": "d3158bde-e8b5-11e9-baaf-02420a010068",
     "history": [
      {
       "current": "8824c56c-1d20-11e9-a9f8-e0d55ea40caf",
       "next": "8824c56d-1d20-11e9-a9f8-e0d55ea40caf",
       "previous": "8824c56b-1d20-11e9-a9f8-e0d55ea40caf"
      },
      {
       "current": "7058b9e8-9249-11e9-ba02-02420a010063",
       "next": "7058bad8-9249-11e9-ba02-02420a010063",
       "previous": "7058b894-9249-11e9-ba02-02420a010063"
      }
     ],
     "next": "d3158d64-e8b5-11e9-baaf-02420a010068",
     "previous": "d3158a94-e8b5-11e9-baaf-02420a010068"
    }
   },
   "source": [
    "優先順位の例\n",
    "\n",
    "$5 + 10 * 10$\n",
    "\n",
    "かけ算の優先順位が高いので$5 + ( 10 * 10)$と解釈されます。\n",
    "\n",
    "$5 + ( 10 * 10) = 5 + 100 = 105$\n",
    "\n",
    "足し算を先に計算したい場合には、カッコで括る必要があります。\n",
    "\n",
    "$(5 + 10) * 100 = 15 * 100 = 1500$\n"
   ]
  },
  {
   "cell_type": "markdown",
   "metadata": {
    "lc_cell_meme": {
     "current": "d3158d64-e8b5-11e9-baaf-02420a010068",
     "history": [
      {
       "current": "8824c56d-1d20-11e9-a9f8-e0d55ea40caf",
       "next": "8824c56e-1d20-11e9-a9f8-e0d55ea40caf",
       "previous": "8824c56c-1d20-11e9-a9f8-e0d55ea40caf"
      },
      {
       "current": "7058bad8-9249-11e9-ba02-02420a010063",
       "next": "7058bbe6-9249-11e9-ba02-02420a010063",
       "previous": "7058b9e8-9249-11e9-ba02-02420a010063"
      }
     ],
     "next": "d3158f58-e8b5-11e9-baaf-02420a010068",
     "previous": "d3158bde-e8b5-11e9-baaf-02420a010068"
    }
   },
   "source": [
    "○演習：次のセルで、算術演算を使って、「$\\large　2 + 5 × 100$　」を計算しなさい。"
   ]
  },
  {
   "cell_type": "code",
   "execution_count": null,
   "metadata": {
    "lc_cell_meme": {
     "current": "d3158f58-e8b5-11e9-baaf-02420a010068",
     "history": [
      {
       "current": "8824c56e-1d20-11e9-a9f8-e0d55ea40caf",
       "next": "8824c56f-1d20-11e9-a9f8-e0d55ea40caf",
       "previous": "8824c56d-1d20-11e9-a9f8-e0d55ea40caf"
      },
      {
       "current": "7058bbe6-9249-11e9-ba02-02420a010063",
       "next": "7058bce0-9249-11e9-ba02-02420a010063",
       "previous": "7058bad8-9249-11e9-ba02-02420a010063"
      }
     ],
     "next": "d315917e-e8b5-11e9-baaf-02420a010068",
     "previous": "d3158d64-e8b5-11e9-baaf-02420a010068"
    },
    "lc_wrapper": {
     "log_history": [
      "/home/14999410x94c69e/02a/.log/20191004/20191004-163501-0986.log",
      "/home/14999410x94c69e/02a/.log/20191004/20191004-165803-0094.log"
     ]
    }
   },
   "outputs": [],
   "source": []
  },
  {
   "cell_type": "markdown",
   "metadata": {
    "lc_cell_meme": {
     "current": "d315917e-e8b5-11e9-baaf-02420a010068",
     "history": [
      {
       "current": "8824c56f-1d20-11e9-a9f8-e0d55ea40caf",
       "next": "8824c570-1d20-11e9-a9f8-e0d55ea40caf",
       "previous": "8824c56e-1d20-11e9-a9f8-e0d55ea40caf"
      },
      {
       "current": "7058bce0-9249-11e9-ba02-02420a010063",
       "next": "7058be16-9249-11e9-ba02-02420a010063",
       "previous": "7058bbe6-9249-11e9-ba02-02420a010063"
      }
     ],
     "next": "d31593c2-e8b5-11e9-baaf-02420a010068",
     "previous": "d3158f58-e8b5-11e9-baaf-02420a010068"
    }
   },
   "source": [
    "ヒント：結果が$502$になれば正解です。"
   ]
  },
  {
   "cell_type": "markdown",
   "metadata": {
    "lc_cell_meme": {
     "current": "d31593c2-e8b5-11e9-baaf-02420a010068",
     "history": [
      {
       "current": "8824c570-1d20-11e9-a9f8-e0d55ea40caf",
       "next": "8824c571-1d20-11e9-a9f8-e0d55ea40caf",
       "previous": "8824c56f-1d20-11e9-a9f8-e0d55ea40caf"
      },
      {
       "current": "7058be16-9249-11e9-ba02-02420a010063",
       "next": "7058c050-9249-11e9-ba02-02420a010063",
       "previous": "7058bce0-9249-11e9-ba02-02420a010063"
      }
     ],
     "next": "d3159534-e8b5-11e9-baaf-02420a010068",
     "previous": "d315917e-e8b5-11e9-baaf-02420a010068"
    }
   },
   "source": [
    "○演習：次のセルで、算術演算を使って、「\n",
    "$\\Large\\frac{2.5 ×23.1}{3.4 - 4.23}$　」を計算しなさい。"
   ]
  },
  {
   "cell_type": "code",
   "execution_count": null,
   "metadata": {
    "lc_cell_meme": {
     "current": "d3159534-e8b5-11e9-baaf-02420a010068",
     "history": [
      {
       "current": "8824c571-1d20-11e9-a9f8-e0d55ea40caf",
       "next": "8824c572-1d20-11e9-a9f8-e0d55ea40caf",
       "previous": "8824c570-1d20-11e9-a9f8-e0d55ea40caf"
      },
      {
       "current": "7058c050-9249-11e9-ba02-02420a010063",
       "next": "7058c212-9249-11e9-ba02-02420a010063",
       "previous": "7058be16-9249-11e9-ba02-02420a010063"
      }
     ],
     "next": "d31596ba-e8b5-11e9-baaf-02420a010068",
     "previous": "d31593c2-e8b5-11e9-baaf-02420a010068"
    },
    "lc_wrapper": {
     "log_history": [
      "/home/14999410x94c69e/02a/.log/20191004/20191004-163519-0566.log",
      "/home/14999410x94c69e/02a/.log/20191004/20191004-165803-0119.log"
     ]
    }
   },
   "outputs": [],
   "source": []
  },
  {
   "cell_type": "markdown",
   "metadata": {
    "lc_cell_meme": {
     "current": "d31596ba-e8b5-11e9-baaf-02420a010068",
     "history": [
      {
       "current": "8824c572-1d20-11e9-a9f8-e0d55ea40caf",
       "next": "8824c573-1d20-11e9-a9f8-e0d55ea40caf",
       "previous": "8824c571-1d20-11e9-a9f8-e0d55ea40caf"
      },
      {
       "current": "7058c212-9249-11e9-ba02-02420a010063",
       "next": "7058c30c-9249-11e9-ba02-02420a010063",
       "previous": "7058c050-9249-11e9-ba02-02420a010063"
      }
     ],
     "next": "d3159818-e8b5-11e9-baaf-02420a010068",
     "previous": "d3159534-e8b5-11e9-baaf-02420a010068"
    }
   },
   "source": [
    "ヒント：結果が$-69.578313253012$になれば正解です。\n",
    "\n",
    "ヒント：分子と分母を先に計算するように、式を書く必要があります。\n"
   ]
  },
  {
   "cell_type": "markdown",
   "metadata": {
    "lc_cell_meme": {
     "current": "d3159818-e8b5-11e9-baaf-02420a010068",
     "history": [
      {
       "current": "8824c573-1d20-11e9-a9f8-e0d55ea40caf",
       "next": "8824c574-1d20-11e9-a9f8-e0d55ea40caf",
       "previous": "8824c572-1d20-11e9-a9f8-e0d55ea40caf"
      },
      {
       "current": "7058c30c-9249-11e9-ba02-02420a010063",
       "next": "7058c4c4-9249-11e9-ba02-02420a010063",
       "previous": "7058c212-9249-11e9-ba02-02420a010063"
      }
     ],
     "next": "d31599a8-e8b5-11e9-baaf-02420a010068",
     "previous": "d31596ba-e8b5-11e9-baaf-02420a010068"
    }
   },
   "source": [
    "### 指数付き定数"
   ]
  },
  {
   "cell_type": "markdown",
   "metadata": {
    "lc_cell_meme": {
     "current": "d31599a8-e8b5-11e9-baaf-02420a010068",
     "history": [
      {
       "current": "8824c574-1d20-11e9-a9f8-e0d55ea40caf",
       "next": "8824c575-1d20-11e9-a9f8-e0d55ea40caf",
       "previous": "8824c573-1d20-11e9-a9f8-e0d55ea40caf"
      },
      {
       "current": "7058c4c4-9249-11e9-ba02-02420a010063",
       "next": "7058c668-9249-11e9-ba02-02420a010063",
       "previous": "7058c30c-9249-11e9-ba02-02420a010063"
      }
     ],
     "next": "d3159b92-e8b5-11e9-baaf-02420a010068",
     "previous": "d3159818-e8b5-11e9-baaf-02420a010068"
    }
   },
   "source": [
    "指数付き定数の表現\n",
    "\n",
    "大きな数値や極めて小さな数値を表現する場合には、「指数付き定数」を使用します。\n",
    "\n",
    "例：\n",
    "\n",
    "$123000 → 1.23×10^{5}$\n",
    "\n",
    "$0.0005  → 5×10^{-4}$\n",
    "\n",
    "Pythonの指数付き定数では「仮数部e指数部」と表記します。\n",
    "\n",
    "上記の例は、次のように表現します。\n",
    "\n",
    "\n",
    "$123000 → 1.23e5$\n",
    "\n",
    "$0.0005  → 5e-4$\n",
    "\n"
   ]
  },
  {
   "cell_type": "markdown",
   "metadata": {
    "lc_cell_meme": {
     "current": "d3159b92-e8b5-11e9-baaf-02420a010068",
     "history": [
      {
       "current": "8824c575-1d20-11e9-a9f8-e0d55ea40caf",
       "next": "8824c576-1d20-11e9-a9f8-e0d55ea40caf",
       "previous": "8824c574-1d20-11e9-a9f8-e0d55ea40caf"
      },
      {
       "current": "7058c668-9249-11e9-ba02-02420a010063",
       "next": "7058c898-9249-11e9-ba02-02420a010063",
       "previous": "7058c4c4-9249-11e9-ba02-02420a010063"
      }
     ],
     "next": "d3159d0e-e8b5-11e9-baaf-02420a010068",
     "previous": "d31599a8-e8b5-11e9-baaf-02420a010068"
    }
   },
   "source": [
    "○演習：次のセルで、指数付き定数を使って、「$\\large 1.23×10^{5} + 2.34×10^{4}$　」を計算しなさい。"
   ]
  },
  {
   "cell_type": "code",
   "execution_count": null,
   "metadata": {
    "lc_cell_meme": {
     "current": "d3159d0e-e8b5-11e9-baaf-02420a010068",
     "history": [
      {
       "current": "8824c576-1d20-11e9-a9f8-e0d55ea40caf",
       "next": "8824c577-1d20-11e9-a9f8-e0d55ea40caf",
       "previous": "8824c575-1d20-11e9-a9f8-e0d55ea40caf"
      },
      {
       "current": "7058c898-9249-11e9-ba02-02420a010063",
       "next": "7058caa0-9249-11e9-ba02-02420a010063",
       "previous": "7058c668-9249-11e9-ba02-02420a010063"
      }
     ],
     "next": "d3159e80-e8b5-11e9-baaf-02420a010068",
     "previous": "d3159b92-e8b5-11e9-baaf-02420a010068"
    },
    "lc_wrapper": {
     "log_history": [
      "/home/14999410x94c69e/02a/.log/20191004/20191004-163535-0529.log",
      "/home/14999410x94c69e/02a/.log/20191004/20191004-165803-0144.log"
     ]
    }
   },
   "outputs": [],
   "source": []
  },
  {
   "cell_type": "markdown",
   "metadata": {
    "lc_cell_meme": {
     "current": "d3159e80-e8b5-11e9-baaf-02420a010068",
     "history": [
      {
       "current": "8824c577-1d20-11e9-a9f8-e0d55ea40caf",
       "next": "8824c578-1d20-11e9-a9f8-e0d55ea40caf",
       "previous": "8824c576-1d20-11e9-a9f8-e0d55ea40caf"
      },
      {
       "current": "7058caa0-9249-11e9-ba02-02420a010063",
       "next": "7058cc3a-9249-11e9-ba02-02420a010063",
       "previous": "7058c898-9249-11e9-ba02-02420a010063"
      }
     ],
     "next": "d3159ffc-e8b5-11e9-baaf-02420a010068",
     "previous": "d3159d0e-e8b5-11e9-baaf-02420a010068"
    }
   },
   "source": [
    "ヒント：結果が$146400.0$になれば正解です。"
   ]
  },
  {
   "cell_type": "markdown",
   "metadata": {
    "lc_cell_meme": {
     "current": "d3159ffc-e8b5-11e9-baaf-02420a010068",
     "history": [
      {
       "current": "8824c578-1d20-11e9-a9f8-e0d55ea40caf",
       "next": "8824c579-1d20-11e9-a9f8-e0d55ea40caf",
       "previous": "8824c577-1d20-11e9-a9f8-e0d55ea40caf"
      },
      {
       "current": "7058cc3a-9249-11e9-ba02-02420a010063",
       "next": "7058ce7e-9249-11e9-ba02-02420a010063",
       "previous": "7058caa0-9249-11e9-ba02-02420a010063"
      }
     ],
     "next": "d315a146-e8b5-11e9-baaf-02420a010068",
     "previous": "d3159e80-e8b5-11e9-baaf-02420a010068"
    }
   },
   "source": [
    "○演習：次のセルで、指数付き定数を使って、「$\\large 1.23×10^{-5} + 2.34×10^{-4}$　」を計算しなさい。"
   ]
  },
  {
   "cell_type": "code",
   "execution_count": null,
   "metadata": {
    "lc_cell_meme": {
     "current": "d315a146-e8b5-11e9-baaf-02420a010068",
     "history": [
      {
       "current": "8824c579-1d20-11e9-a9f8-e0d55ea40caf",
       "next": "8824c57a-1d20-11e9-a9f8-e0d55ea40caf",
       "previous": "8824c578-1d20-11e9-a9f8-e0d55ea40caf"
      },
      {
       "current": "7058ce7e-9249-11e9-ba02-02420a010063",
       "next": "7058d2fc-9249-11e9-ba02-02420a010063",
       "previous": "7058cc3a-9249-11e9-ba02-02420a010063"
      }
     ],
     "next": "d315a290-e8b5-11e9-baaf-02420a010068",
     "previous": "d3159ffc-e8b5-11e9-baaf-02420a010068"
    },
    "lc_wrapper": {
     "log_history": [
      "/home/14999410x94c69e/02a/.log/20191004/20191004-163550-0265.log",
      "/home/14999410x94c69e/02a/.log/20191004/20191004-165803-0171.log"
     ]
    }
   },
   "outputs": [],
   "source": []
  },
  {
   "cell_type": "markdown",
   "metadata": {
    "lc_cell_meme": {
     "current": "d315a290-e8b5-11e9-baaf-02420a010068",
     "history": [
      {
       "current": "8824c57a-1d20-11e9-a9f8-e0d55ea40caf",
       "next": "8824c57b-1d20-11e9-a9f8-e0d55ea40caf",
       "previous": "8824c579-1d20-11e9-a9f8-e0d55ea40caf"
      },
      {
       "current": "7058d2fc-9249-11e9-ba02-02420a010063",
       "next": "7058d504-9249-11e9-ba02-02420a010063",
       "previous": "7058ce7e-9249-11e9-ba02-02420a010063"
      }
     ],
     "next": "d315a420-e8b5-11e9-baaf-02420a010068",
     "previous": "d315a146-e8b5-11e9-baaf-02420a010068"
    }
   },
   "source": [
    "ヒント：結果が$0.00024629999999999997$になれば正解です。"
   ]
  },
  {
   "cell_type": "markdown",
   "metadata": {
    "lc_cell_meme": {
     "current": "d315a420-e8b5-11e9-baaf-02420a010068",
     "history": [
      {
       "current": "8824c57b-1d20-11e9-a9f8-e0d55ea40caf",
       "next": "8824c57c-1d20-11e9-a9f8-e0d55ea40caf",
       "previous": "8824c57a-1d20-11e9-a9f8-e0d55ea40caf"
      },
      {
       "current": "7058d504-9249-11e9-ba02-02420a010063",
       "next": "7058d69e-9249-11e9-ba02-02420a010063",
       "previous": "7058d2fc-9249-11e9-ba02-02420a010063"
      }
     ],
     "next": "d315a56a-e8b5-11e9-baaf-02420a010068",
     "previous": "d315a290-e8b5-11e9-baaf-02420a010068"
    }
   },
   "source": [
    "## 数学関数の利用"
   ]
  },
  {
   "cell_type": "markdown",
   "metadata": {
    "lc_cell_meme": {
     "current": "d315a56a-e8b5-11e9-baaf-02420a010068",
     "history": [
      {
       "current": "8824c57c-1d20-11e9-a9f8-e0d55ea40caf",
       "next": "8824c57d-1d20-11e9-a9f8-e0d55ea40caf",
       "previous": "8824c57b-1d20-11e9-a9f8-e0d55ea40caf"
      },
      {
       "current": "7058d69e-9249-11e9-ba02-02420a010063",
       "next": "7058d838-9249-11e9-ba02-02420a010063",
       "previous": "7058d504-9249-11e9-ba02-02420a010063"
      }
     ],
     "next": "d315a6aa-e8b5-11e9-baaf-02420a010068",
     "previous": "d315a420-e8b5-11e9-baaf-02420a010068"
    }
   },
   "source": [
    "### 数学関数の利用のための準備"
   ]
  },
  {
   "cell_type": "markdown",
   "metadata": {
    "lc_cell_meme": {
     "current": "d315a6aa-e8b5-11e9-baaf-02420a010068",
     "history": [
      {
       "current": "8824c57d-1d20-11e9-a9f8-e0d55ea40caf",
       "next": "8824c57e-1d20-11e9-a9f8-e0d55ea40caf",
       "previous": "8824c57c-1d20-11e9-a9f8-e0d55ea40caf"
      },
      {
       "current": "7058d838-9249-11e9-ba02-02420a010063",
       "next": "7058dcd4-9249-11e9-ba02-02420a010063",
       "previous": "7058d69e-9249-11e9-ba02-02420a010063"
      }
     ],
     "next": "d315a7ea-e8b5-11e9-baaf-02420a010068",
     "previous": "d315a56a-e8b5-11e9-baaf-02420a010068"
    }
   },
   "source": [
    "数学関数を利用するためには、mathモジュールを使います。\n",
    "\n",
    "まず、Pythonのmathモジュールを使えるようにするため、インポートします。\n",
    "\n",
    "import math と書くことで、インポートができます。\n",
    "\n",
    "次のセルを評価してください。"
   ]
  },
  {
   "cell_type": "code",
   "execution_count": null,
   "metadata": {
    "lc_cell_meme": {
     "current": "d315a7ea-e8b5-11e9-baaf-02420a010068",
     "history": [
      {
       "current": "8824c57e-1d20-11e9-a9f8-e0d55ea40caf",
       "next": "8824c57f-1d20-11e9-a9f8-e0d55ea40caf",
       "previous": "8824c57d-1d20-11e9-a9f8-e0d55ea40caf"
      },
      {
       "current": "7058dcd4-9249-11e9-ba02-02420a010063",
       "next": "7058dedc-9249-11e9-ba02-02420a010063",
       "previous": "7058d838-9249-11e9-ba02-02420a010063"
      }
     ],
     "next": "d315a970-e8b5-11e9-baaf-02420a010068",
     "previous": "d315a6aa-e8b5-11e9-baaf-02420a010068"
    },
    "lc_wrapper": {
     "log_history": [
      "/home/14999410x94c69e/02a/.log/20191004/20191004-163600-0951.log",
      "/home/14999410x94c69e/02a/.log/20191004/20191004-165803-0198.log"
     ]
    }
   },
   "outputs": [],
   "source": [
    "# 数学関数を利用するためには、mathモジュールを使う\n",
    "import math"
   ]
  },
  {
   "cell_type": "markdown",
   "metadata": {
    "lc_cell_meme": {
     "current": "d315a970-e8b5-11e9-baaf-02420a010068",
     "history": [
      {
       "current": "8824c57f-1d20-11e9-a9f8-e0d55ea40caf",
       "next": "8824c580-1d20-11e9-a9f8-e0d55ea40caf",
       "previous": "8824c57e-1d20-11e9-a9f8-e0d55ea40caf"
      },
      {
       "current": "7058dedc-9249-11e9-ba02-02420a010063",
       "next": "7058dfcc-9249-11e9-ba02-02420a010063",
       "previous": "7058dcd4-9249-11e9-ba02-02420a010063"
      }
     ],
     "next": "d315aaec-e8b5-11e9-baaf-02420a010068",
     "previous": "d315a7ea-e8b5-11e9-baaf-02420a010068"
    }
   },
   "source": [
    "### 数学関数の利用方法"
   ]
  },
  {
   "cell_type": "markdown",
   "metadata": {
    "lc_cell_meme": {
     "current": "d315aaec-e8b5-11e9-baaf-02420a010068",
     "history": [
      {
       "current": "8824c580-1d20-11e9-a9f8-e0d55ea40caf",
       "next": "8824c581-1d20-11e9-a9f8-e0d55ea40caf",
       "previous": "8824c57f-1d20-11e9-a9f8-e0d55ea40caf"
      },
      {
       "current": "7058dfcc-9249-11e9-ba02-02420a010063",
       "next": "7058e08a-9249-11e9-ba02-02420a010063",
       "previous": "7058dedc-9249-11e9-ba02-02420a010063"
      }
     ],
     "next": "d315ac68-e8b5-11e9-baaf-02420a010068",
     "previous": "d315a970-e8b5-11e9-baaf-02420a010068"
    }
   },
   "source": [
    "mathモジュールのは次のような関数が含まれています。\n",
    "\n",
    "| 関数 | 式 | 関数名 | 備考 |\n",
    "| :--: | :--: | :--: | :-- |\n",
    "| べき乗 | $x^y$ | pow(x,y) | |\n",
    "| 平方根 | $\\sqrt{x}$ | sqrt(x)||\n",
    "| 正弦 | $sin {x}$ | sin(x)|角度の単位はラジアン|\n",
    "| 余弦 | $cos {x}$ | cos(x)|角度の単位はラジアン|\n",
    "| 正接 | $tan {x}$ | tan(x)|角度の単位はラジアン|\n",
    "| 定数π | $pi$ | pi ||\n",
    "| 自然対数 | $log{x}$ | log(x) | 底はe|\n",
    "| 常用対数 | $log_{10}{x}$| log10(x)| 底は10|\n",
    "| 指数関数 | $e^x$ | exp(x)||\n",
    "| 度数ラジアン変換 | - |radians(x)| 度数→ラジアンを返す |\n",
    "| ラジアン度数変換 | - | degrees(x) | ラジアン→度数を返す |\n",
    "\n",
    "【重要】これらはmathモジュールに属する関数です。これらを使うためには、関数の前に「math.」をつける必要があります。\n",
    "\n",
    "例えばsin(x)を求めるには、math.sin(x)と書く必要があります。"
   ]
  },
  {
   "cell_type": "markdown",
   "metadata": {
    "lc_cell_meme": {
     "current": "d315ac68-e8b5-11e9-baaf-02420a010068",
     "history": [
      {
       "current": "8824c581-1d20-11e9-a9f8-e0d55ea40caf",
       "next": "8824c582-1d20-11e9-a9f8-e0d55ea40caf",
       "previous": "8824c580-1d20-11e9-a9f8-e0d55ea40caf"
      },
      {
       "current": "7058e08a-9249-11e9-ba02-02420a010063",
       "next": "7058e18e-9249-11e9-ba02-02420a010063",
       "previous": "7058dfcc-9249-11e9-ba02-02420a010063"
      }
     ],
     "next": "d315ade4-e8b5-11e9-baaf-02420a010068",
     "previous": "d315aaec-e8b5-11e9-baaf-02420a010068"
    }
   },
   "source": [
    "○演習：次のセルで、数学関数を使って、「　$sin{ 30°}$　」を計算しなさい。"
   ]
  },
  {
   "cell_type": "code",
   "execution_count": null,
   "metadata": {
    "lc_cell_meme": {
     "current": "d315ade4-e8b5-11e9-baaf-02420a010068",
     "history": [
      {
       "current": "8824c582-1d20-11e9-a9f8-e0d55ea40caf",
       "next": "8824c583-1d20-11e9-a9f8-e0d55ea40caf",
       "previous": "8824c581-1d20-11e9-a9f8-e0d55ea40caf"
      },
      {
       "current": "7058e18e-9249-11e9-ba02-02420a010063",
       "next": "7058e288-9249-11e9-ba02-02420a010063",
       "previous": "7058e08a-9249-11e9-ba02-02420a010063"
      }
     ],
     "next": "d315af2e-e8b5-11e9-baaf-02420a010068",
     "previous": "d315ac68-e8b5-11e9-baaf-02420a010068"
    },
    "lc_wrapper": {
     "log_history": [
      "/home/14999410x94c69e/02a/.log/20191004/20191004-163624-0053.log",
      "/home/14999410x94c69e/02a/.log/20191004/20191004-163629-0826.log",
      "/home/14999410x94c69e/02a/.log/20191004/20191004-165803-0224.log"
     ]
    }
   },
   "outputs": [],
   "source": []
  },
  {
   "cell_type": "markdown",
   "metadata": {
    "lc_cell_meme": {
     "current": "d315af2e-e8b5-11e9-baaf-02420a010068",
     "history": [
      {
       "current": "8824c583-1d20-11e9-a9f8-e0d55ea40caf",
       "next": "8824c584-1d20-11e9-a9f8-e0d55ea40caf",
       "previous": "8824c582-1d20-11e9-a9f8-e0d55ea40caf"
      },
      {
       "current": "7058e288-9249-11e9-ba02-02420a010063",
       "next": "7058e346-9249-11e9-ba02-02420a010063",
       "previous": "7058e18e-9249-11e9-ba02-02420a010063"
      }
     ],
     "next": "d315b078-e8b5-11e9-baaf-02420a010068",
     "previous": "d315ade4-e8b5-11e9-baaf-02420a010068"
    }
   },
   "source": [
    "ヒント：度数からラジアンへの変換には、math.radians()を利用してください。答えは、$\\large\\frac{1}{2} = \\small 0.5$に近い値になります。"
   ]
  },
  {
   "cell_type": "markdown",
   "metadata": {
    "lc_cell_meme": {
     "current": "d315b078-e8b5-11e9-baaf-02420a010068",
     "history": [
      {
       "current": "8824c584-1d20-11e9-a9f8-e0d55ea40caf",
       "next": "8824c585-1d20-11e9-a9f8-e0d55ea40caf",
       "previous": "8824c583-1d20-11e9-a9f8-e0d55ea40caf"
      },
      {
       "current": "7058e346-9249-11e9-ba02-02420a010063",
       "next": "7058e404-9249-11e9-ba02-02420a010063",
       "previous": "7058e288-9249-11e9-ba02-02420a010063"
      }
     ],
     "next": "d315b1c2-e8b5-11e9-baaf-02420a010068",
     "previous": "d315af2e-e8b5-11e9-baaf-02420a010068"
    }
   },
   "source": [
    "○演習：次のセルで、数学関数を使って、「$cos{ 30°}$　」を計算しなさい。"
   ]
  },
  {
   "cell_type": "code",
   "execution_count": null,
   "metadata": {
    "lc_cell_meme": {
     "current": "d315b1c2-e8b5-11e9-baaf-02420a010068",
     "history": [
      {
       "current": "8824c585-1d20-11e9-a9f8-e0d55ea40caf",
       "next": "8824c586-1d20-11e9-a9f8-e0d55ea40caf",
       "previous": "8824c584-1d20-11e9-a9f8-e0d55ea40caf"
      },
      {
       "current": "7058e404-9249-11e9-ba02-02420a010063",
       "next": "7058e670-9249-11e9-ba02-02420a010063",
       "previous": "7058e346-9249-11e9-ba02-02420a010063"
      }
     ],
     "next": "d315b334-e8b5-11e9-baaf-02420a010068",
     "previous": "d315b078-e8b5-11e9-baaf-02420a010068"
    },
    "lc_wrapper": {
     "log_history": [
      "/home/14999410x94c69e/02a/.log/20191004/20191004-163648-0150.log",
      "/home/14999410x94c69e/02a/.log/20191004/20191004-165803-0251.log"
     ]
    }
   },
   "outputs": [],
   "source": []
  },
  {
   "cell_type": "markdown",
   "metadata": {
    "lc_cell_meme": {
     "current": "d315b334-e8b5-11e9-baaf-02420a010068",
     "history": [
      {
       "current": "8824c586-1d20-11e9-a9f8-e0d55ea40caf",
       "next": "8824c587-1d20-11e9-a9f8-e0d55ea40caf",
       "previous": "8824c585-1d20-11e9-a9f8-e0d55ea40caf"
      },
      {
       "current": "7058e670-9249-11e9-ba02-02420a010063",
       "next": "7058e828-9249-11e9-ba02-02420a010063",
       "previous": "7058e404-9249-11e9-ba02-02420a010063"
      }
     ],
     "next": "d315b4c4-e8b5-11e9-baaf-02420a010068",
     "previous": "d315b1c2-e8b5-11e9-baaf-02420a010068"
    }
   },
   "source": [
    "ヒント： 答えは、$\\large\\frac{\\sqrt{3}}{2} = \\small 0.866$に近い値になります。"
   ]
  },
  {
   "cell_type": "markdown",
   "metadata": {
    "lc_cell_meme": {
     "current": "d315b4c4-e8b5-11e9-baaf-02420a010068",
     "history": [
      {
       "current": "8824c587-1d20-11e9-a9f8-e0d55ea40caf",
       "next": "8824c588-1d20-11e9-a9f8-e0d55ea40caf",
       "previous": "8824c586-1d20-11e9-a9f8-e0d55ea40caf"
      },
      {
       "current": "7058e828-9249-11e9-ba02-02420a010063",
       "next": "7058e8f0-9249-11e9-ba02-02420a010063",
       "previous": "7058e670-9249-11e9-ba02-02420a010063"
      }
     ],
     "next": "d315b76c-e8b5-11e9-baaf-02420a010068",
     "previous": "d315b334-e8b5-11e9-baaf-02420a010068"
    }
   },
   "source": [
    "## 文字列\n"
   ]
  },
  {
   "cell_type": "markdown",
   "metadata": {
    "lc_cell_meme": {
     "current": "d315b76c-e8b5-11e9-baaf-02420a010068",
     "history": [
      {
       "current": "8824c588-1d20-11e9-a9f8-e0d55ea40caf",
       "next": "8824c589-1d20-11e9-a9f8-e0d55ea40caf",
       "previous": "8824c587-1d20-11e9-a9f8-e0d55ea40caf"
      },
      {
       "current": "7058e8f0-9249-11e9-ba02-02420a010063",
       "next": "7058e9fe-9249-11e9-ba02-02420a010063",
       "previous": "7058e828-9249-11e9-ba02-02420a010063"
      }
     ],
     "next": "d315b960-e8b5-11e9-baaf-02420a010068",
     "previous": "d315b4c4-e8b5-11e9-baaf-02420a010068"
    }
   },
   "source": [
    "### 文字列の利用"
   ]
  },
  {
   "cell_type": "markdown",
   "metadata": {
    "collapsed": true,
    "lc_cell_meme": {
     "current": "d315b960-e8b5-11e9-baaf-02420a010068",
     "history": [
      {
       "current": "8824c589-1d20-11e9-a9f8-e0d55ea40caf",
       "next": "8824c58a-1d20-11e9-a9f8-e0d55ea40caf",
       "previous": "8824c588-1d20-11e9-a9f8-e0d55ea40caf"
      },
      {
       "current": "7058e9fe-9249-11e9-ba02-02420a010063",
       "next": "7058ec60-9249-11e9-ba02-02420a010063",
       "previous": "7058e8f0-9249-11e9-ba02-02420a010063"
      }
     ],
     "next": "d315bafa-e8b5-11e9-baaf-02420a010068",
     "previous": "d315b76c-e8b5-11e9-baaf-02420a010068"
    }
   },
   "source": [
    "Pythonでは数字以外に文字を扱うことができます。\n",
    "文字の集まりを「文字列」として扱います。\n",
    "\n",
    "文字列は、ダブルクォーテーション(\"〜\")またはシングルクォーテーションで括ります。これらは引用符と呼ばれます。\n",
    "\n",
    "文字列の例：\n",
    "\n",
    "```\n",
    "\"Hello World\"\n",
    "\n",
    "'Hello Universe'\n",
    "```\n",
    "\n",
    "英数字ばかりでなく、日本語も扱うことができます。\n",
    "\n",
    "```\n",
    "\"日本語文字列\"\n",
    "```"
   ]
  },
  {
   "cell_type": "markdown",
   "metadata": {
    "lc_cell_meme": {
     "current": "d315bafa-e8b5-11e9-baaf-02420a010068",
     "history": [
      {
       "current": "8824c58a-1d20-11e9-a9f8-e0d55ea40caf",
       "next": "8824c58b-1d20-11e9-a9f8-e0d55ea40caf",
       "previous": "8824c589-1d20-11e9-a9f8-e0d55ea40caf"
      },
      {
       "current": "7058ec60-9249-11e9-ba02-02420a010063",
       "next": "7058edfa-9249-11e9-ba02-02420a010063",
       "previous": "7058e9fe-9249-11e9-ba02-02420a010063"
      }
     ],
     "next": "d315bc8a-e8b5-11e9-baaf-02420a010068",
     "previous": "d315b960-e8b5-11e9-baaf-02420a010068"
    }
   },
   "source": [
    "○演習：次のセルに、自分の名前を文字列で記載しなさい。"
   ]
  },
  {
   "cell_type": "code",
   "execution_count": null,
   "metadata": {
    "lc_cell_meme": {
     "current": "d315bc8a-e8b5-11e9-baaf-02420a010068",
     "history": [
      {
       "current": "8824c58b-1d20-11e9-a9f8-e0d55ea40caf",
       "next": "8824c58c-1d20-11e9-a9f8-e0d55ea40caf",
       "previous": "8824c58a-1d20-11e9-a9f8-e0d55ea40caf"
      },
      {
       "current": "7058edfa-9249-11e9-ba02-02420a010063",
       "next": "7058ef94-9249-11e9-ba02-02420a010063",
       "previous": "7058ec60-9249-11e9-ba02-02420a010063"
      }
     ],
     "next": "d315bde8-e8b5-11e9-baaf-02420a010068",
     "previous": "d315bafa-e8b5-11e9-baaf-02420a010068"
    },
    "lc_wrapper": {
     "log_history": [
      "/home/14999410x94c69e/02a/.log/20191004/20191004-163708-0277.log",
      "/home/14999410x94c69e/02a/.log/20191004/20191004-165803-0278.log"
     ]
    }
   },
   "outputs": [],
   "source": []
  },
  {
   "cell_type": "markdown",
   "metadata": {
    "lc_cell_meme": {
     "current": "d315bde8-e8b5-11e9-baaf-02420a010068",
     "history": [
      {
       "current": "8824c58c-1d20-11e9-a9f8-e0d55ea40caf",
       "next": "8824c58d-1d20-11e9-a9f8-e0d55ea40caf",
       "previous": "8824c58b-1d20-11e9-a9f8-e0d55ea40caf"
      },
      {
       "current": "7058ef94-9249-11e9-ba02-02420a010063",
       "next": "7058f124-9249-11e9-ba02-02420a010063",
       "previous": "7058edfa-9249-11e9-ba02-02420a010063"
      }
     ],
     "next": "d315bfb4-e8b5-11e9-baaf-02420a010068",
     "previous": "d315bc8a-e8b5-11e9-baaf-02420a010068"
    }
   },
   "source": [
    "### 複雑な文字列の作成"
   ]
  },
  {
   "cell_type": "markdown",
   "metadata": {
    "collapsed": true,
    "lc_cell_meme": {
     "current": "d315bfb4-e8b5-11e9-baaf-02420a010068",
     "history": [
      {
       "current": "8824c58d-1d20-11e9-a9f8-e0d55ea40caf",
       "next": "8824c58e-1d20-11e9-a9f8-e0d55ea40caf",
       "previous": "8824c58c-1d20-11e9-a9f8-e0d55ea40caf"
      },
      {
       "current": "7058f124-9249-11e9-ba02-02420a010063",
       "next": "7058f412-9249-11e9-ba02-02420a010063",
       "previous": "7058ef94-9249-11e9-ba02-02420a010063"
      }
     ],
     "next": "d315c20c-e8b5-11e9-baaf-02420a010068",
     "previous": "d315bde8-e8b5-11e9-baaf-02420a010068"
    }
   },
   "source": [
    "ダブルクォーテーションやシングルクォーテーション自身を文字列に入れたい場合には、バックスラッシュ「　\\　」でエスケープします。\n",
    "バックスラッシュ「　\\　」の後の文字は、ダブルクォーテーションやシングルクォーテーションであっても「普通の文字」として扱われます。\n",
    "\n",
    "```\n",
    "\"He said \\\"Hello World\\\"\" または 'He said \"Hello World\"'\n",
    "\n",
    "\"I don't know why\"  または 'I don\\'t know why'\n",
    "```"
   ]
  },
  {
   "cell_type": "markdown",
   "metadata": {
    "lc_cell_meme": {
     "current": "d315c20c-e8b5-11e9-baaf-02420a010068",
     "history": [
      {
       "current": "8824c58e-1d20-11e9-a9f8-e0d55ea40caf",
       "next": "8824c58f-1d20-11e9-a9f8-e0d55ea40caf",
       "previous": "8824c58d-1d20-11e9-a9f8-e0d55ea40caf"
      },
      {
       "current": "7058f412-9249-11e9-ba02-02420a010063",
       "next": "7058f61a-9249-11e9-ba02-02420a010063",
       "previous": "7058f124-9249-11e9-ba02-02420a010063"
      }
     ],
     "next": "d315c356-e8b5-11e9-baaf-02420a010068",
     "previous": "d315bfb4-e8b5-11e9-baaf-02420a010068"
    }
   },
   "source": [
    "○演習：次のセルに、文字列で「God said, \"Let there be light\"」を入れなさい。"
   ]
  },
  {
   "cell_type": "code",
   "execution_count": null,
   "metadata": {
    "lc_cell_meme": {
     "current": "d315c356-e8b5-11e9-baaf-02420a010068",
     "history": [
      {
       "current": "8824c58f-1d20-11e9-a9f8-e0d55ea40caf",
       "next": "8824c590-1d20-11e9-a9f8-e0d55ea40caf",
       "previous": "8824c58e-1d20-11e9-a9f8-e0d55ea40caf"
      },
      {
       "current": "7058f61a-9249-11e9-ba02-02420a010063",
       "next": "7058f89a-9249-11e9-ba02-02420a010063",
       "previous": "7058f412-9249-11e9-ba02-02420a010063"
      }
     ],
     "next": "d315c4d2-e8b5-11e9-baaf-02420a010068",
     "previous": "d315c20c-e8b5-11e9-baaf-02420a010068"
    },
    "lc_wrapper": {
     "log_history": [
      "/home/14999410x94c69e/02a/.log/20191004/20191004-163732-0750.log",
      "/home/14999410x94c69e/02a/.log/20191004/20191004-163739-0025.log",
      "/home/14999410x94c69e/02a/.log/20191004/20191004-163800-0715.log",
      "/home/14999410x94c69e/02a/.log/20191004/20191004-165803-0303.log"
     ]
    }
   },
   "outputs": [],
   "source": []
  },
  {
   "cell_type": "markdown",
   "metadata": {
    "lc_cell_meme": {
     "current": "d315c4d2-e8b5-11e9-baaf-02420a010068",
     "history": [
      {
       "current": "8824c590-1d20-11e9-a9f8-e0d55ea40caf",
       "next": "8824c591-1d20-11e9-a9f8-e0d55ea40caf",
       "previous": "8824c58f-1d20-11e9-a9f8-e0d55ea40caf"
      },
      {
       "current": "7058f89a-9249-11e9-ba02-02420a010063",
       "next": "7058fb56-9249-11e9-ba02-02420a010063",
       "previous": "7058f61a-9249-11e9-ba02-02420a010063"
      }
     ],
     "next": "d315c61c-e8b5-11e9-baaf-02420a010068",
     "previous": "d315c356-e8b5-11e9-baaf-02420a010068"
    }
   },
   "source": [
    "### 文字列同士の連結"
   ]
  },
  {
   "cell_type": "markdown",
   "metadata": {
    "lc_cell_meme": {
     "current": "d315c61c-e8b5-11e9-baaf-02420a010068",
     "history": [
      {
       "current": "8824c591-1d20-11e9-a9f8-e0d55ea40caf",
       "next": "8824c592-1d20-11e9-a9f8-e0d55ea40caf",
       "previous": "8824c590-1d20-11e9-a9f8-e0d55ea40caf"
      },
      {
       "current": "7058fb56-9249-11e9-ba02-02420a010063",
       "next": "7058fd72-9249-11e9-ba02-02420a010063",
       "previous": "7058f89a-9249-11e9-ba02-02420a010063"
      }
     ],
     "next": "d315c7ac-e8b5-11e9-baaf-02420a010068",
     "previous": "d315c4d2-e8b5-11e9-baaf-02420a010068"
    }
   },
   "source": [
    "文字列同士は「＋」演算子を使って連結することができます。\n",
    "\n",
    "```\n",
    "\"美しい\"+ \"日本語\"\n",
    "\n",
    "==> '美しい日本語'\n",
    "```"
   ]
  },
  {
   "cell_type": "markdown",
   "metadata": {
    "collapsed": true,
    "lc_cell_meme": {
     "current": "d315c7ac-e8b5-11e9-baaf-02420a010068",
     "history": [
      {
       "current": "8824c592-1d20-11e9-a9f8-e0d55ea40caf",
       "next": "8824c593-1d20-11e9-a9f8-e0d55ea40caf",
       "previous": "8824c591-1d20-11e9-a9f8-e0d55ea40caf"
      },
      {
       "current": "7058fd72-9249-11e9-ba02-02420a010063",
       "next": "7058ff16-9249-11e9-ba02-02420a010063",
       "previous": "7058fb56-9249-11e9-ba02-02420a010063"
      }
     ],
     "next": "d315c928-e8b5-11e9-baaf-02420a010068",
     "previous": "d315c61c-e8b5-11e9-baaf-02420a010068"
    }
   },
   "source": [
    "○演習：次のセルで、自分の学生番号を文字列で書いたものと、自分の名前を文字列に書いたものを「＋」演算子で連結しなさい。\n"
   ]
  },
  {
   "cell_type": "code",
   "execution_count": null,
   "metadata": {
    "lc_cell_meme": {
     "current": "d315c928-e8b5-11e9-baaf-02420a010068",
     "history": [
      {
       "current": "8824c593-1d20-11e9-a9f8-e0d55ea40caf",
       "next": "8824c594-1d20-11e9-a9f8-e0d55ea40caf",
       "previous": "8824c592-1d20-11e9-a9f8-e0d55ea40caf"
      },
      {
       "current": "7058ff16-9249-11e9-ba02-02420a010063",
       "next": "705900a6-9249-11e9-ba02-02420a010063",
       "previous": "7058fd72-9249-11e9-ba02-02420a010063"
      }
     ],
     "next": "d315ca68-e8b5-11e9-baaf-02420a010068",
     "previous": "d315c7ac-e8b5-11e9-baaf-02420a010068"
    },
    "lc_wrapper": {
     "log_history": [
      "/home/14999410x94c69e/02a/.log/20191004/20191004-163838-0962.log",
      "/home/14999410x94c69e/02a/.log/20191004/20191004-165803-0330.log"
     ]
    }
   },
   "outputs": [],
   "source": []
  },
  {
   "cell_type": "markdown",
   "metadata": {
    "lc_cell_meme": {
     "current": "d315ca68-e8b5-11e9-baaf-02420a010068",
     "history": [
      {
       "current": "8824c594-1d20-11e9-a9f8-e0d55ea40caf",
       "next": "8824c595-1d20-11e9-a9f8-e0d55ea40caf",
       "previous": "8824c593-1d20-11e9-a9f8-e0d55ea40caf"
      },
      {
       "current": "705900a6-9249-11e9-ba02-02420a010063",
       "next": "705903bc-9249-11e9-ba02-02420a010063",
       "previous": "7058ff16-9249-11e9-ba02-02420a010063"
      }
     ],
     "next": "d315cbe4-e8b5-11e9-baaf-02420a010068",
     "previous": "d315c928-e8b5-11e9-baaf-02420a010068"
    }
   },
   "source": [
    "### 文字列の繰り返し"
   ]
  },
  {
   "cell_type": "markdown",
   "metadata": {
    "lc_cell_meme": {
     "current": "d315cbe4-e8b5-11e9-baaf-02420a010068",
     "history": [
      {
       "current": "8824c595-1d20-11e9-a9f8-e0d55ea40caf",
       "next": "8824c596-1d20-11e9-a9f8-e0d55ea40caf",
       "previous": "8824c594-1d20-11e9-a9f8-e0d55ea40caf"
      },
      {
       "current": "705903bc-9249-11e9-ba02-02420a010063",
       "next": "70590772-9249-11e9-ba02-02420a010063",
       "previous": "705900a6-9249-11e9-ba02-02420a010063"
      },
      {
       "current": "705903bc-9249-11e9-ba02-02420a010063",
       "next": "705909c0-9249-11e9-ba02-02420a010063",
       "previous": "705900a6-9249-11e9-ba02-02420a010063"
      }
     ],
     "next": "d315cd56-e8b5-11e9-baaf-02420a010068",
     "previous": "d315ca68-e8b5-11e9-baaf-02420a010068"
    }
   },
   "source": [
    "文字列に数字をかけると、かけた数字だけ繰り返す文字列が生成されます。\n",
    "\n",
    "例：\n",
    "\n",
    "```\n",
    "'orz ' * 10 → 'orz orz orz orz orz orz orz orz orz orz ' \n",
    "'変' * 30 → '変変変変変変変変変変変変変変変変変変変変変変変変変変変変変変変変'\n",
    " \n",
    "```"
   ]
  },
  {
   "cell_type": "markdown",
   "metadata": {
    "lc_cell_meme": {
     "current": "d315cd56-e8b5-11e9-baaf-02420a010068",
     "history": [
      {
       "current": "8824c597-1d20-11e9-a9f8-e0d55ea40caf",
       "next": "8824c598-1d20-11e9-a9f8-e0d55ea40caf",
       "previous": "8824c596-1d20-11e9-a9f8-e0d55ea40caf"
      },
      {
       "current": "705909c0-9249-11e9-ba02-02420a010063",
       "next": "70590b5a-9249-11e9-ba02-02420a010063",
       "previous": "70590772-9249-11e9-ba02-02420a010063"
      },
      {
       "current": "705909c0-9249-11e9-ba02-02420a010063",
       "next": "70590b5a-9249-11e9-ba02-02420a010063",
       "previous": "705903bc-9249-11e9-ba02-02420a010063"
      }
     ],
     "next": "d315cea0-e8b5-11e9-baaf-02420a010068",
     "previous": "d315cbe4-e8b5-11e9-baaf-02420a010068"
    }
   },
   "source": [
    "繰り返した文字列の生成は、第３回で利用します。"
   ]
  },
  {
   "cell_type": "markdown",
   "metadata": {
    "lc_cell_meme": {
     "current": "d315cea0-e8b5-11e9-baaf-02420a010068",
     "history": [
      {
       "current": "8824c598-1d20-11e9-a9f8-e0d55ea40caf",
       "next": "8824c599-1d20-11e9-a9f8-e0d55ea40caf",
       "previous": "8824c597-1d20-11e9-a9f8-e0d55ea40caf"
      },
      {
       "current": "70590b5a-9249-11e9-ba02-02420a010063",
       "next": "70590db2-9249-11e9-ba02-02420a010063",
       "previous": "705909c0-9249-11e9-ba02-02420a010063"
      }
     ],
     "next": "d315cfea-e8b5-11e9-baaf-02420a010068",
     "previous": "d315cd56-e8b5-11e9-baaf-02420a010068"
    }
   },
   "source": [
    "○演習：　次のセルで、自分の名前を10回繰り返す文字列を作りなさい。"
   ]
  },
  {
   "cell_type": "code",
   "execution_count": null,
   "metadata": {
    "lc_cell_meme": {
     "current": "d315cfea-e8b5-11e9-baaf-02420a010068",
     "history": [
      {
       "current": "8824c599-1d20-11e9-a9f8-e0d55ea40caf",
       "next": "8824c59a-1d20-11e9-a9f8-e0d55ea40caf",
       "previous": "8824c598-1d20-11e9-a9f8-e0d55ea40caf"
      },
      {
       "current": "70590db2-9249-11e9-ba02-02420a010063",
       "next": "70590fc4-9249-11e9-ba02-02420a010063",
       "previous": "70590b5a-9249-11e9-ba02-02420a010063"
      }
     ],
     "next": "d315d15c-e8b5-11e9-baaf-02420a010068",
     "previous": "d315cea0-e8b5-11e9-baaf-02420a010068"
    },
    "lc_wrapper": {
     "log_history": [
      "/home/14999410x94c69e/02a/.log/20191004/20191004-163940-0361.log",
      "/home/14999410x94c69e/02a/.log/20191004/20191004-165803-0357.log"
     ]
    }
   },
   "outputs": [],
   "source": []
  },
  {
   "cell_type": "markdown",
   "metadata": {
    "lc_cell_meme": {
     "current": "d315d15c-e8b5-11e9-baaf-02420a010068",
     "history": [
      {
       "current": "8824c59a-1d20-11e9-a9f8-e0d55ea40caf",
       "next": "8824c59b-1d20-11e9-a9f8-e0d55ea40caf",
       "previous": "8824c599-1d20-11e9-a9f8-e0d55ea40caf"
      },
      {
       "current": "70590fc4-9249-11e9-ba02-02420a010063",
       "next": "70591154-9249-11e9-ba02-02420a010063",
       "previous": "70590db2-9249-11e9-ba02-02420a010063"
      }
     ],
     "next": "d315d2a6-e8b5-11e9-baaf-02420a010068",
     "previous": "d315cfea-e8b5-11e9-baaf-02420a010068"
    }
   },
   "source": [
    "## 変数"
   ]
  },
  {
   "cell_type": "markdown",
   "metadata": {
    "lc_cell_meme": {
     "current": "d315d2a6-e8b5-11e9-baaf-02420a010068",
     "history": [
      {
       "current": "8824c59b-1d20-11e9-a9f8-e0d55ea40caf",
       "next": "8824c59c-1d20-11e9-a9f8-e0d55ea40caf",
       "previous": "8824c59a-1d20-11e9-a9f8-e0d55ea40caf"
      },
      {
       "current": "70591154-9249-11e9-ba02-02420a010063",
       "next": "705912ee-9249-11e9-ba02-02420a010063",
       "previous": "70590fc4-9249-11e9-ba02-02420a010063"
      }
     ],
     "next": "d315d418-e8b5-11e9-baaf-02420a010068",
     "previous": "d315d15c-e8b5-11e9-baaf-02420a010068"
    }
   },
   "source": [
    "### 変数とその命名規則"
   ]
  },
  {
   "cell_type": "markdown",
   "metadata": {
    "lc_cell_meme": {
     "current": "d315d418-e8b5-11e9-baaf-02420a010068",
     "history": [
      {
       "current": "8824c59c-1d20-11e9-a9f8-e0d55ea40caf",
       "next": "8824c59d-1d20-11e9-a9f8-e0d55ea40caf",
       "previous": "8824c59b-1d20-11e9-a9f8-e0d55ea40caf"
      },
      {
       "current": "705912ee-9249-11e9-ba02-02420a010063",
       "next": "7059146a-9249-11e9-ba02-02420a010063",
       "previous": "70591154-9249-11e9-ba02-02420a010063"
      },
      {
       "current": "705912ee-9249-11e9-ba02-02420a010063",
       "next": "33c013b4-e67c-11e9-a8bb-02420a010068",
       "previous": "70591154-9249-11e9-ba02-02420a010063"
      }
     ],
     "next": "d315d58a-e8b5-11e9-baaf-02420a010068",
     "previous": "d315d2a6-e8b5-11e9-baaf-02420a010068"
    }
   },
   "source": [
    "計算に利用する数字や文字列などを格納する記憶場所を「変数」と呼びます。\n",
    "\n",
    "変数は自由に名前をつけることができますが、以下の規則があります。\n",
    "\n",
    "1. アルファベット、数字、下線（アンダースコア）を利用する\n",
    "1. 最初の一文字はかならずアルファベット\n",
    "1. アルファベットの大文字と小文字は区別される\n",
    "1. and, not, if, forなどのpythonの予約後は使えない\n",
    "\n",
    "正しい例：\n",
    "\n",
    "- `abc`\n",
    "- `no_2`\n",
    "- `x2____xyz`\n",
    "\n",
    "誤りの例：\n",
    "\n",
    "- `2a`\n",
    "- `no.2`\n",
    "- `for`\n",
    "\n",
    "注意：\n",
    "\n",
    "Pythonでは日本語の変数名も使えるが、本授業では混乱をさけるため使わないこと。\n"
   ]
  },
  {
   "cell_type": "markdown",
   "metadata": {
    "lc_cell_meme": {
     "current": "d315d58a-e8b5-11e9-baaf-02420a010068",
     "history": [
      {
       "current": "33c013b4-e67c-11e9-a8bb-02420a010068",
       "next": "33c017ba-e67c-11e9-a8bb-02420a010068",
       "previous": "705912ee-9249-11e9-ba02-02420a010063"
      }
     ],
     "next": "d315d6d4-e8b5-11e9-baaf-02420a010068",
     "previous": "d315d418-e8b5-11e9-baaf-02420a010068"
    }
   },
   "source": [
    "○演習：次のセルは変数名が誤っています。どんなエラーが出るか確認しなさい。"
   ]
  },
  {
   "cell_type": "code",
   "execution_count": null,
   "metadata": {
    "lc_cell_meme": {
     "current": "d315d6d4-e8b5-11e9-baaf-02420a010068",
     "history": [
      {
       "current": "33c017ba-e67c-11e9-a8bb-02420a010068",
       "next": "7059146a-9249-11e9-ba02-02420a010063",
       "previous": "33c013b4-e67c-11e9-a8bb-02420a010068"
      }
     ],
     "next": "d315d85a-e8b5-11e9-baaf-02420a010068",
     "previous": "d315d58a-e8b5-11e9-baaf-02420a010068"
    },
    "lc_wrapper": {
     "log_history": [
      "/home/14999410x94c69e/02a/.log/20191004/20191004-165421-0815.log",
      "/home/14999410x94c69e/02a/.log/20191004/20191004-165803-0382.log"
     ]
    }
   },
   "outputs": [],
   "source": [
    "# 誤った変数の例\n",
    "2a = 13"
   ]
  },
  {
   "cell_type": "markdown",
   "metadata": {
    "lc_cell_meme": {
     "current": "d315d85a-e8b5-11e9-baaf-02420a010068",
     "history": [
      {
       "current": "8824c59d-1d20-11e9-a9f8-e0d55ea40caf",
       "next": "8824c59e-1d20-11e9-a9f8-e0d55ea40caf",
       "previous": "8824c59c-1d20-11e9-a9f8-e0d55ea40caf"
      },
      {
       "current": "7059146a-9249-11e9-ba02-02420a010063",
       "next": "70591596-9249-11e9-ba02-02420a010063",
       "previous": "705912ee-9249-11e9-ba02-02420a010063"
      },
      {
       "current": "7059146a-9249-11e9-ba02-02420a010063",
       "next": "70591596-9249-11e9-ba02-02420a010063",
       "previous": "33c017ba-e67c-11e9-a8bb-02420a010068"
      }
     ],
     "next": "d315d9ae-e8b5-11e9-baaf-02420a010068",
     "previous": "d315d6d4-e8b5-11e9-baaf-02420a010068"
    }
   },
   "source": [
    "### 変数への代入"
   ]
  },
  {
   "cell_type": "markdown",
   "metadata": {
    "lc_cell_meme": {
     "current": "d315d9ae-e8b5-11e9-baaf-02420a010068",
     "history": [
      {
       "current": "8824c59e-1d20-11e9-a9f8-e0d55ea40caf",
       "next": "8824c59f-1d20-11e9-a9f8-e0d55ea40caf",
       "previous": "8824c59d-1d20-11e9-a9f8-e0d55ea40caf"
      },
      {
       "current": "70591596-9249-11e9-ba02-02420a010063",
       "next": "705916a4-9249-11e9-ba02-02420a010063",
       "previous": "7059146a-9249-11e9-ba02-02420a010063"
      }
     ],
     "next": "d315daee-e8b5-11e9-baaf-02420a010068",
     "previous": "d315d85a-e8b5-11e9-baaf-02420a010068"
    }
   },
   "source": [
    "変数に数値を割り当てることを「代入」と呼びます。\n",
    "\n",
    "代入には演算子「=」が使われます。"
   ]
  },
  {
   "cell_type": "markdown",
   "metadata": {
    "lc_cell_meme": {
     "current": "d315daee-e8b5-11e9-baaf-02420a010068",
     "history": [
      {
       "current": "8824c59f-1d20-11e9-a9f8-e0d55ea40caf",
       "next": "8824c5a0-1d20-11e9-a9f8-e0d55ea40caf",
       "previous": "8824c59e-1d20-11e9-a9f8-e0d55ea40caf"
      },
      {
       "current": "705916a4-9249-11e9-ba02-02420a010063",
       "next": "705917bc-9249-11e9-ba02-02420a010063",
       "previous": "70591596-9249-11e9-ba02-02420a010063"
      }
     ],
     "next": "d315dc38-e8b5-11e9-baaf-02420a010068",
     "previous": "d315d9ae-e8b5-11e9-baaf-02420a010068"
    }
   },
   "source": [
    "○演習：次のセルで、適当な変数名を決めて、その変数に数字の1234を代入しなさい。"
   ]
  },
  {
   "cell_type": "code",
   "execution_count": null,
   "metadata": {
    "lc_cell_meme": {
     "current": "d315dc38-e8b5-11e9-baaf-02420a010068",
     "history": [
      {
       "current": "8824c5a0-1d20-11e9-a9f8-e0d55ea40caf",
       "next": "8824c5a1-1d20-11e9-a9f8-e0d55ea40caf",
       "previous": "8824c59f-1d20-11e9-a9f8-e0d55ea40caf"
      },
      {
       "current": "705917bc-9249-11e9-ba02-02420a010063",
       "next": "70591956-9249-11e9-ba02-02420a010063",
       "previous": "705916a4-9249-11e9-ba02-02420a010063"
      }
     ],
     "next": "d315df6c-e8b5-11e9-baaf-02420a010068",
     "previous": "d315daee-e8b5-11e9-baaf-02420a010068"
    },
    "lc_wrapper": {
     "log_history": [
      "/home/14999410x94c69e/02a/.log/20191004/20191004-163955-0864.log",
      "/home/14999410x94c69e/02a/.log/20191004/20191004-165816-0107.log"
     ]
    }
   },
   "outputs": [],
   "source": []
  },
  {
   "cell_type": "markdown",
   "metadata": {
    "lc_cell_meme": {
     "current": "d315df6c-e8b5-11e9-baaf-02420a010068",
     "history": [
      {
       "current": "8824c5a1-1d20-11e9-a9f8-e0d55ea40caf",
       "next": "8824c5a2-1d20-11e9-a9f8-e0d55ea40caf",
       "previous": "8824c5a0-1d20-11e9-a9f8-e0d55ea40caf"
      },
      {
       "current": "70591956-9249-11e9-ba02-02420a010063",
       "next": "70591b18-9249-11e9-ba02-02420a010063",
       "previous": "705917bc-9249-11e9-ba02-02420a010063"
      }
     ],
     "next": "d315e19c-e8b5-11e9-baaf-02420a010068",
     "previous": "d315dc38-e8b5-11e9-baaf-02420a010068"
    }
   },
   "source": [
    "ヒント：代入の場合には、出力が出ません。"
   ]
  },
  {
   "cell_type": "markdown",
   "metadata": {
    "lc_cell_meme": {
     "current": "d315e19c-e8b5-11e9-baaf-02420a010068",
     "history": [
      {
       "current": "8824c5a2-1d20-11e9-a9f8-e0d55ea40caf",
       "next": "8824c5a3-1d20-11e9-a9f8-e0d55ea40caf",
       "previous": "8824c5a1-1d20-11e9-a9f8-e0d55ea40caf"
      },
      {
       "current": "70591b18-9249-11e9-ba02-02420a010063",
       "next": "70591cb2-9249-11e9-ba02-02420a010063",
       "previous": "70591956-9249-11e9-ba02-02420a010063"
      }
     ],
     "next": "d315e30e-e8b5-11e9-baaf-02420a010068",
     "previous": "d315df6c-e8b5-11e9-baaf-02420a010068"
    }
   },
   "source": [
    "○演習：次のセルで、変数「a」に数字の12.345を代入しなさい。"
   ]
  },
  {
   "cell_type": "code",
   "execution_count": null,
   "metadata": {
    "lc_cell_meme": {
     "current": "d315e30e-e8b5-11e9-baaf-02420a010068",
     "history": [
      {
       "current": "8824c5a3-1d20-11e9-a9f8-e0d55ea40caf",
       "next": "8824c5a4-1d20-11e9-a9f8-e0d55ea40caf",
       "previous": "8824c5a2-1d20-11e9-a9f8-e0d55ea40caf"
      },
      {
       "current": "70591cb2-9249-11e9-ba02-02420a010063",
       "next": "70591ef6-9249-11e9-ba02-02420a010063",
       "previous": "70591b18-9249-11e9-ba02-02420a010063"
      }
     ],
     "next": "d315e476-e8b5-11e9-baaf-02420a010068",
     "previous": "d315e19c-e8b5-11e9-baaf-02420a010068"
    },
    "lc_wrapper": {
     "log_history": [
      "/home/14999410x94c69e/02a/.log/20191004/20191004-164008-0760.log",
      "/home/14999410x94c69e/02a/.log/20191004/20191004-165818-0922.log"
     ]
    }
   },
   "outputs": [],
   "source": []
  },
  {
   "cell_type": "markdown",
   "metadata": {
    "lc_cell_meme": {
     "current": "d315e476-e8b5-11e9-baaf-02420a010068",
     "history": [
      {
       "current": "8824c5a4-1d20-11e9-a9f8-e0d55ea40caf",
       "next": "8824c5a5-1d20-11e9-a9f8-e0d55ea40caf",
       "previous": "8824c5a3-1d20-11e9-a9f8-e0d55ea40caf"
      },
      {
       "current": "70591ef6-9249-11e9-ba02-02420a010063",
       "next": "705920fe-9249-11e9-ba02-02420a010063",
       "previous": "70591cb2-9249-11e9-ba02-02420a010063"
      }
     ],
     "next": "d315e606-e8b5-11e9-baaf-02420a010068",
     "previous": "d315e30e-e8b5-11e9-baaf-02420a010068"
    }
   },
   "source": [
    "○演習：次のセルで、変数「b」に文字列の\"令和\"を代入しなさい。"
   ]
  },
  {
   "cell_type": "code",
   "execution_count": null,
   "metadata": {
    "lc_cell_meme": {
     "current": "d315e606-e8b5-11e9-baaf-02420a010068",
     "history": [
      {
       "current": "8824c5a5-1d20-11e9-a9f8-e0d55ea40caf",
       "next": "8824c5a6-1d20-11e9-a9f8-e0d55ea40caf",
       "previous": "8824c5a4-1d20-11e9-a9f8-e0d55ea40caf"
      },
      {
       "current": "705920fe-9249-11e9-ba02-02420a010063",
       "next": "70592342-9249-11e9-ba02-02420a010063",
       "previous": "70591ef6-9249-11e9-ba02-02420a010063"
      }
     ],
     "next": "d315e764-e8b5-11e9-baaf-02420a010068",
     "previous": "d315e476-e8b5-11e9-baaf-02420a010068"
    },
    "lc_wrapper": {
     "log_history": [
      "/home/14999410x94c69e/02a/.log/20191004/20191004-164048-0551.log",
      "/home/14999410x94c69e/02a/.log/20191004/20191004-165820-0976.log"
     ]
    }
   },
   "outputs": [],
   "source": []
  },
  {
   "cell_type": "markdown",
   "metadata": {
    "lc_cell_meme": {
     "current": "d315e764-e8b5-11e9-baaf-02420a010068",
     "history": [
      {
       "current": "8824c5a6-1d20-11e9-a9f8-e0d55ea40caf",
       "next": "8824c5a7-1d20-11e9-a9f8-e0d55ea40caf",
       "previous": "8824c5a5-1d20-11e9-a9f8-e0d55ea40caf"
      },
      {
       "current": "70592342-9249-11e9-ba02-02420a010063",
       "next": "7059254a-9249-11e9-ba02-02420a010063",
       "previous": "705920fe-9249-11e9-ba02-02420a010063"
      }
     ],
     "next": "d315e8cc-e8b5-11e9-baaf-02420a010068",
     "previous": "d315e606-e8b5-11e9-baaf-02420a010068"
    }
   },
   "source": [
    "### 変数の型"
   ]
  },
  {
   "cell_type": "markdown",
   "metadata": {
    "lc_cell_meme": {
     "current": "d315e8cc-e8b5-11e9-baaf-02420a010068",
     "history": [
      {
       "current": "8824c5a7-1d20-11e9-a9f8-e0d55ea40caf",
       "next": "8824c5a8-1d20-11e9-a9f8-e0d55ea40caf",
       "previous": "8824c5a6-1d20-11e9-a9f8-e0d55ea40caf"
      },
      {
       "current": "7059254a-9249-11e9-ba02-02420a010063",
       "next": "705926e4-9249-11e9-ba02-02420a010063",
       "previous": "70592342-9249-11e9-ba02-02420a010063"
      }
     ],
     "next": "d315eae8-e8b5-11e9-baaf-02420a010068",
     "previous": "d315e764-e8b5-11e9-baaf-02420a010068"
    }
   },
   "source": [
    "変数には数値、文字などの「型」があります。\n",
    "\n",
    "Pythonでは代入時に自動的に型を判別しています。\n",
    "\n",
    "数値と文字列といった、型の異なる変数同士で演算を行うとエラーになります。"
   ]
  },
  {
   "cell_type": "markdown",
   "metadata": {
    "lc_cell_meme": {
     "current": "d315eae8-e8b5-11e9-baaf-02420a010068",
     "history": [
      {
       "current": "8824c5a8-1d20-11e9-a9f8-e0d55ea40caf",
       "next": "8824c5a9-1d20-11e9-a9f8-e0d55ea40caf",
       "previous": "8824c5a7-1d20-11e9-a9f8-e0d55ea40caf"
      },
      {
       "current": "705926e4-9249-11e9-ba02-02420a010063",
       "next": "7059287e-9249-11e9-ba02-02420a010063",
       "previous": "7059254a-9249-11e9-ba02-02420a010063"
      }
     ],
     "next": "d315ec32-e8b5-11e9-baaf-02420a010068",
     "previous": "d315e8cc-e8b5-11e9-baaf-02420a010068"
    }
   },
   "source": [
    "○演習：　次のセルで、文字列型変数aに\"令和\"という文字列を代入しなさい。数値型変数bに30を代入しなさい。aとbを足したらどうかるか試しなさい。"
   ]
  },
  {
   "cell_type": "code",
   "execution_count": null,
   "metadata": {
    "lc_cell_meme": {
     "current": "d315ec32-e8b5-11e9-baaf-02420a010068",
     "history": [
      {
       "current": "8824c5a9-1d20-11e9-a9f8-e0d55ea40caf",
       "next": "8824c5aa-1d20-11e9-a9f8-e0d55ea40caf",
       "previous": "8824c5a8-1d20-11e9-a9f8-e0d55ea40caf"
      },
      {
       "current": "7059287e-9249-11e9-ba02-02420a010063",
       "next": "70592b76-9249-11e9-ba02-02420a010063",
       "previous": "705926e4-9249-11e9-ba02-02420a010063"
      }
     ],
     "next": "d315eda4-e8b5-11e9-baaf-02420a010068",
     "previous": "d315eae8-e8b5-11e9-baaf-02420a010068"
    },
    "lc_wrapper": {
     "log_history": [
      "/home/14999410x94c69e/02a/.log/20191004/20191004-165822-0986.log"
     ]
    }
   },
   "outputs": [],
   "source": []
  },
  {
   "cell_type": "markdown",
   "metadata": {
    "lc_cell_meme": {
     "current": "d315eda4-e8b5-11e9-baaf-02420a010068",
     "history": [
      {
       "current": "8824c5aa-1d20-11e9-a9f8-e0d55ea40caf",
       "next": "8824c5ab-1d20-11e9-a9f8-e0d55ea40caf",
       "previous": "8824c5a9-1d20-11e9-a9f8-e0d55ea40caf"
      },
      {
       "current": "70592b76-9249-11e9-ba02-02420a010063",
       "next": "70592f2c-9249-11e9-ba02-02420a010063",
       "previous": "7059287e-9249-11e9-ba02-02420a010063"
      }
     ],
     "next": "d315eeee-e8b5-11e9-baaf-02420a010068",
     "previous": "d315ec32-e8b5-11e9-baaf-02420a010068"
    }
   },
   "source": [
    "ヒント：エラーが出るので、どんなエラーが出たか観察すること"
   ]
  },
  {
   "cell_type": "markdown",
   "metadata": {
    "lc_cell_meme": {
     "current": "d315eeee-e8b5-11e9-baaf-02420a010068",
     "history": [
      {
       "current": "8824c5ab-1d20-11e9-a9f8-e0d55ea40caf",
       "next": "8824c5ac-1d20-11e9-a9f8-e0d55ea40caf",
       "previous": "8824c5aa-1d20-11e9-a9f8-e0d55ea40caf"
      },
      {
       "current": "70592f2c-9249-11e9-ba02-02420a010063",
       "next": "705930b2-9249-11e9-ba02-02420a010063",
       "previous": "70592b76-9249-11e9-ba02-02420a010063"
      }
     ],
     "next": "d315f038-e8b5-11e9-baaf-02420a010068",
     "previous": "d315eda4-e8b5-11e9-baaf-02420a010068"
    }
   },
   "source": [
    "### 複合演算子を使った文字列の連結"
   ]
  },
  {
   "cell_type": "markdown",
   "metadata": {
    "lc_cell_meme": {
     "current": "d315f038-e8b5-11e9-baaf-02420a010068",
     "history": [
      {
       "current": "8824c5ac-1d20-11e9-a9f8-e0d55ea40caf",
       "next": "8824c5ad-1d20-11e9-a9f8-e0d55ea40caf",
       "previous": "8824c5ab-1d20-11e9-a9f8-e0d55ea40caf"
      },
      {
       "current": "705930b2-9249-11e9-ba02-02420a010063",
       "next": "7059317a-9249-11e9-ba02-02420a010063",
       "previous": "70592f2c-9249-11e9-ba02-02420a010063"
      }
     ],
     "next": "d315f1aa-e8b5-11e9-baaf-02420a010068",
     "previous": "d315eeee-e8b5-11e9-baaf-02420a010068"
    }
   },
   "source": [
    "「複合演算子」は代入と計算を同時に行う演算子です。\n",
    "\n",
    "「+=」を使うと文字列の操作を簡単に行うことができます。\n",
    "\n",
    "```\n",
    "a = \"日本語\"\n",
    "a += \"の表現\"\n",
    "```\n",
    "\n",
    "を実行すると、 a= \"日本語の表現\"になります。"
   ]
  },
  {
   "cell_type": "markdown",
   "metadata": {
    "collapsed": true,
    "lc_cell_meme": {
     "current": "d315f1aa-e8b5-11e9-baaf-02420a010068",
     "history": [
      {
       "current": "8824c5ad-1d20-11e9-a9f8-e0d55ea40caf",
       "next": "8824c5ae-1d20-11e9-a9f8-e0d55ea40caf",
       "previous": "8824c5ac-1d20-11e9-a9f8-e0d55ea40caf"
      },
      {
       "current": "7059317a-9249-11e9-ba02-02420a010063",
       "next": "7059342c-9249-11e9-ba02-02420a010063",
       "previous": "705930b2-9249-11e9-ba02-02420a010063"
      }
     ],
     "next": "d315f2f4-e8b5-11e9-baaf-02420a010068",
     "previous": "d315f038-e8b5-11e9-baaf-02420a010068"
    }
   },
   "source": [
    "○演習：次のセルで、自分の学生番号を文字列で変数aに代入し、次に、自分の名前を文字列で書いたものを「＋＝」演算子を使って連結しなさい。\n"
   ]
  },
  {
   "cell_type": "code",
   "execution_count": null,
   "metadata": {
    "lc_cell_meme": {
     "current": "d315f2f4-e8b5-11e9-baaf-02420a010068",
     "history": [
      {
       "current": "8824c5ae-1d20-11e9-a9f8-e0d55ea40caf",
       "next": "8824c5af-1d20-11e9-a9f8-e0d55ea40caf",
       "previous": "8824c5ad-1d20-11e9-a9f8-e0d55ea40caf"
      },
      {
       "current": "7059342c-9249-11e9-ba02-02420a010063",
       "next": "70593684-9249-11e9-ba02-02420a010063",
       "previous": "7059317a-9249-11e9-ba02-02420a010063"
      }
     ],
     "next": "d315f466-e8b5-11e9-baaf-02420a010068",
     "previous": "d315f1aa-e8b5-11e9-baaf-02420a010068"
    },
    "lc_wrapper": {
     "log_history": [
      "/home/14999410x94c69e/02a/.log/20191004/20191004-164316-0992.log",
      "/home/14999410x94c69e/02a/.log/20191004/20191004-165840-0473.log"
     ]
    }
   },
   "outputs": [],
   "source": []
  },
  {
   "cell_type": "markdown",
   "metadata": {
    "lc_cell_meme": {
     "current": "d315f466-e8b5-11e9-baaf-02420a010068",
     "history": [
      {
       "current": "8824c5af-1d20-11e9-a9f8-e0d55ea40caf",
       "next": "8824c5b0-1d20-11e9-a9f8-e0d55ea40caf",
       "previous": "8824c5ae-1d20-11e9-a9f8-e0d55ea40caf"
      },
      {
       "current": "70593684-9249-11e9-ba02-02420a010063",
       "next": "705938be-9249-11e9-ba02-02420a010063",
       "previous": "7059342c-9249-11e9-ba02-02420a010063"
      }
     ],
     "next": "d315f5b0-e8b5-11e9-baaf-02420a010068",
     "previous": "d315f2f4-e8b5-11e9-baaf-02420a010068"
    }
   },
   "source": [
    "ヒント：出力は出ません。結果を出力したい場合には、次で説明するprint(a)を入れてください。"
   ]
  },
  {
   "cell_type": "markdown",
   "metadata": {
    "lc_cell_meme": {
     "current": "d315f5b0-e8b5-11e9-baaf-02420a010068",
     "history": [
      {
       "current": "8824c5b0-1d20-11e9-a9f8-e0d55ea40caf",
       "next": "8824c5b1-1d20-11e9-a9f8-e0d55ea40caf",
       "previous": "8824c5af-1d20-11e9-a9f8-e0d55ea40caf"
      },
      {
       "current": "705938be-9249-11e9-ba02-02420a010063",
       "next": "70593b20-9249-11e9-ba02-02420a010063",
       "previous": "70593684-9249-11e9-ba02-02420a010063"
      }
     ],
     "next": "d315f6f0-e8b5-11e9-baaf-02420a010068",
     "previous": "d315f466-e8b5-11e9-baaf-02420a010068"
    }
   },
   "source": [
    "## 表示関数"
   ]
  },
  {
   "cell_type": "markdown",
   "metadata": {
    "lc_cell_meme": {
     "current": "d315f6f0-e8b5-11e9-baaf-02420a010068",
     "history": [
      {
       "current": "8824c5b1-1d20-11e9-a9f8-e0d55ea40caf",
       "next": "8824c5b2-1d20-11e9-a9f8-e0d55ea40caf",
       "previous": "8824c5b0-1d20-11e9-a9f8-e0d55ea40caf"
      },
      {
       "current": "70593b20-9249-11e9-ba02-02420a010063",
       "next": "70593cba-9249-11e9-ba02-02420a010063",
       "previous": "705938be-9249-11e9-ba02-02420a010063"
      }
     ],
     "next": "d315f83a-e8b5-11e9-baaf-02420a010068",
     "previous": "d315f5b0-e8b5-11e9-baaf-02420a010068"
    }
   },
   "source": [
    "### 表示関数の利用"
   ]
  },
  {
   "cell_type": "markdown",
   "metadata": {
    "lc_cell_meme": {
     "current": "d315f83a-e8b5-11e9-baaf-02420a010068",
     "history": [
      {
       "current": "8824c5b2-1d20-11e9-a9f8-e0d55ea40caf",
       "next": "8824c5b3-1d20-11e9-a9f8-e0d55ea40caf",
       "previous": "8824c5b1-1d20-11e9-a9f8-e0d55ea40caf"
      },
      {
       "current": "70593cba-9249-11e9-ba02-02420a010063",
       "next": "70593e4a-9249-11e9-ba02-02420a010063",
       "previous": "70593b20-9249-11e9-ba02-02420a010063"
      }
     ],
     "next": "d315f9ac-e8b5-11e9-baaf-02420a010068",
     "previous": "d315f6f0-e8b5-11e9-baaf-02420a010068"
    }
   },
   "source": [
    "演習環境(Jupyter Notebook)では、最後に評価された値が出力されますが、\n",
    "途中結果などの値を表示したい場合には、表示関数print()を使います。\n",
    "\n",
    "例\n",
    "```\n",
    "print(\"Hello World\")\n",
    "```"
   ]
  },
  {
   "cell_type": "markdown",
   "metadata": {
    "lc_cell_meme": {
     "current": "d315f9ac-e8b5-11e9-baaf-02420a010068",
     "history": [
      {
       "current": "8824c5b3-1d20-11e9-a9f8-e0d55ea40caf",
       "next": "8824c5b4-1d20-11e9-a9f8-e0d55ea40caf",
       "previous": "8824c5b2-1d20-11e9-a9f8-e0d55ea40caf"
      },
      {
       "current": "70593e4a-9249-11e9-ba02-02420a010063",
       "next": "70593fd0-9249-11e9-ba02-02420a010063",
       "previous": "70593cba-9249-11e9-ba02-02420a010063"
      }
     ],
     "next": "d315faec-e8b5-11e9-baaf-02420a010068",
     "previous": "d315f83a-e8b5-11e9-baaf-02420a010068"
    }
   },
   "source": [
    "○演習：次のセルで、print()を使って自分の名前を表示しなさい。"
   ]
  },
  {
   "cell_type": "code",
   "execution_count": null,
   "metadata": {
    "lc_cell_meme": {
     "current": "d315faec-e8b5-11e9-baaf-02420a010068",
     "history": [
      {
       "current": "8824c5b4-1d20-11e9-a9f8-e0d55ea40caf",
       "next": "8824c5b5-1d20-11e9-a9f8-e0d55ea40caf",
       "previous": "8824c5b3-1d20-11e9-a9f8-e0d55ea40caf"
      },
      {
       "current": "70593fd0-9249-11e9-ba02-02420a010063",
       "next": "70594156-9249-11e9-ba02-02420a010063",
       "previous": "70593e4a-9249-11e9-ba02-02420a010063"
      }
     ],
     "next": "d315fc36-e8b5-11e9-baaf-02420a010068",
     "previous": "d315f9ac-e8b5-11e9-baaf-02420a010068"
    },
    "lc_wrapper": {
     "log_history": [
      "/home/14999410x94c69e/02a/.log/20191004/20191004-164338-0523.log",
      "/home/14999410x94c69e/02a/.log/20191004/20191004-165842-0530.log"
     ]
    }
   },
   "outputs": [],
   "source": []
  },
  {
   "cell_type": "markdown",
   "metadata": {
    "lc_cell_meme": {
     "current": "d315fc36-e8b5-11e9-baaf-02420a010068",
     "history": [
      {
       "current": "8824c5b5-1d20-11e9-a9f8-e0d55ea40caf",
       "next": "8824c5b6-1d20-11e9-a9f8-e0d55ea40caf",
       "previous": "8824c5b4-1d20-11e9-a9f8-e0d55ea40caf"
      },
      {
       "current": "70594156-9249-11e9-ba02-02420a010063",
       "next": "70594390-9249-11e9-ba02-02420a010063",
       "previous": "70593fd0-9249-11e9-ba02-02420a010063"
      }
     ],
     "next": "d315fd80-e8b5-11e9-baaf-02420a010068",
     "previous": "d315faec-e8b5-11e9-baaf-02420a010068"
    }
   },
   "source": [
    "ヒント：Out[XX]での出力でないことに注意しなさい。"
   ]
  },
  {
   "cell_type": "markdown",
   "metadata": {
    "lc_cell_meme": {
     "current": "d315fd80-e8b5-11e9-baaf-02420a010068",
     "history": [
      {
       "current": "8824c5b6-1d20-11e9-a9f8-e0d55ea40caf",
       "next": "8824c5b7-1d20-11e9-a9f8-e0d55ea40caf",
       "previous": "8824c5b5-1d20-11e9-a9f8-e0d55ea40caf"
      },
      {
       "current": "70594390-9249-11e9-ba02-02420a010063",
       "next": "70594598-9249-11e9-ba02-02420a010063",
       "previous": "70594156-9249-11e9-ba02-02420a010063"
      }
     ],
     "next": "d315fef2-e8b5-11e9-baaf-02420a010068",
     "previous": "d315fc36-e8b5-11e9-baaf-02420a010068"
    }
   },
   "source": [
    "○演習：次のセルで、print()を使って13.4 + 15の結果を表示しなさい。"
   ]
  },
  {
   "cell_type": "code",
   "execution_count": null,
   "metadata": {
    "lc_cell_meme": {
     "current": "d315fef2-e8b5-11e9-baaf-02420a010068",
     "history": [
      {
       "current": "8824c5b7-1d20-11e9-a9f8-e0d55ea40caf",
       "next": "8824c5b8-1d20-11e9-a9f8-e0d55ea40caf",
       "previous": "8824c5b6-1d20-11e9-a9f8-e0d55ea40caf"
      },
      {
       "current": "70594598-9249-11e9-ba02-02420a010063",
       "next": "7059473c-9249-11e9-ba02-02420a010063",
       "previous": "70594390-9249-11e9-ba02-02420a010063"
      }
     ],
     "next": "d316003c-e8b5-11e9-baaf-02420a010068",
     "previous": "d315fd80-e8b5-11e9-baaf-02420a010068"
    },
    "lc_wrapper": {
     "log_history": [
      "/home/14999410x94c69e/02a/.log/20191004/20191004-164351-0142.log",
      "/home/14999410x94c69e/02a/.log/20191004/20191004-165845-0840.log"
     ]
    }
   },
   "outputs": [],
   "source": []
  },
  {
   "cell_type": "markdown",
   "metadata": {
    "lc_cell_meme": {
     "current": "d316003c-e8b5-11e9-baaf-02420a010068",
     "history": [
      {
       "current": "8824c5b8-1d20-11e9-a9f8-e0d55ea40caf",
       "next": "8824c5b9-1d20-11e9-a9f8-e0d55ea40caf",
       "previous": "8824c5b7-1d20-11e9-a9f8-e0d55ea40caf"
      },
      {
       "current": "7059473c-9249-11e9-ba02-02420a010063",
       "next": "705948c2-9249-11e9-ba02-02420a010063",
       "previous": "70594598-9249-11e9-ba02-02420a010063"
      }
     ],
     "next": "d31601ae-e8b5-11e9-baaf-02420a010068",
     "previous": "d315fef2-e8b5-11e9-baaf-02420a010068"
    }
   },
   "source": [
    "ヒント：答えは、28.4。Out[XX]での出力でないことに注意しなさい。"
   ]
  },
  {
   "cell_type": "markdown",
   "metadata": {
    "lc_cell_meme": {
     "current": "d31601ae-e8b5-11e9-baaf-02420a010068",
     "history": [
      {
       "current": "8824c5b9-1d20-11e9-a9f8-e0d55ea40caf",
       "next": "8824c5ba-1d20-11e9-a9f8-e0d55ea40caf",
       "previous": "8824c5b8-1d20-11e9-a9f8-e0d55ea40caf"
      },
      {
       "current": "705948c2-9249-11e9-ba02-02420a010063",
       "next": "70594a52-9249-11e9-ba02-02420a010063",
       "previous": "7059473c-9249-11e9-ba02-02420a010063"
      }
     ],
     "next": "d316032a-e8b5-11e9-baaf-02420a010068",
     "previous": "d316003c-e8b5-11e9-baaf-02420a010068"
    }
   },
   "source": [
    "○演習：次のセルで、変数aに3.14を、変数bに$2^2$を代入し、print()を使ってa+bの答えを表示しなさい。"
   ]
  },
  {
   "cell_type": "code",
   "execution_count": null,
   "metadata": {
    "lc_cell_meme": {
     "current": "d316032a-e8b5-11e9-baaf-02420a010068",
     "history": [
      {
       "current": "8824c5ba-1d20-11e9-a9f8-e0d55ea40caf",
       "next": "8824c5bb-1d20-11e9-a9f8-e0d55ea40caf",
       "previous": "8824c5b9-1d20-11e9-a9f8-e0d55ea40caf"
      },
      {
       "current": "70594a52-9249-11e9-ba02-02420a010063",
       "next": "70594be2-9249-11e9-ba02-02420a010063",
       "previous": "705948c2-9249-11e9-ba02-02420a010063"
      }
     ],
     "next": "d3160654-e8b5-11e9-baaf-02420a010068",
     "previous": "d31601ae-e8b5-11e9-baaf-02420a010068"
    },
    "lc_wrapper": {
     "log_history": [
      "/home/14999410x94c69e/02a/.log/20191004/20191004-164425-0630.log",
      "/home/14999410x94c69e/02a/.log/20191004/20191004-164559-0644.log",
      "/home/14999410x94c69e/02a/.log/20191004/20191004-165847-0693.log"
     ]
    }
   },
   "outputs": [],
   "source": []
  },
  {
   "cell_type": "markdown",
   "metadata": {
    "lc_cell_meme": {
     "current": "d3160654-e8b5-11e9-baaf-02420a010068",
     "history": [
      {
       "current": "8824c5bb-1d20-11e9-a9f8-e0d55ea40caf",
       "next": "8824c5bc-1d20-11e9-a9f8-e0d55ea40caf",
       "previous": "8824c5ba-1d20-11e9-a9f8-e0d55ea40caf"
      },
      {
       "current": "70594be2-9249-11e9-ba02-02420a010063",
       "next": "70594d72-9249-11e9-ba02-02420a010063",
       "previous": "70594a52-9249-11e9-ba02-02420a010063"
      }
     ],
     "next": "d3160834-e8b5-11e9-baaf-02420a010068",
     "previous": "d316032a-e8b5-11e9-baaf-02420a010068"
    }
   },
   "source": [
    "ヒント：7.140000000000001が表示されれば正解"
   ]
  },
  {
   "cell_type": "markdown",
   "metadata": {
    "lc_cell_meme": {
     "current": "d3160834-e8b5-11e9-baaf-02420a010068",
     "history": [
      {
       "current": "8824c5bc-1d20-11e9-a9f8-e0d55ea40caf",
       "next": "8824c5bd-1d20-11e9-a9f8-e0d55ea40caf",
       "previous": "8824c5bb-1d20-11e9-a9f8-e0d55ea40caf"
      },
      {
       "current": "70594d72-9249-11e9-ba02-02420a010063",
       "next": "70594ef8-9249-11e9-ba02-02420a010063",
       "previous": "70594be2-9249-11e9-ba02-02420a010063"
      }
     ],
     "next": "d3160a1e-e8b5-11e9-baaf-02420a010068",
     "previous": "d3160654-e8b5-11e9-baaf-02420a010068"
    }
   },
   "source": [
    "### 数字から文字列への変換"
   ]
  },
  {
   "cell_type": "markdown",
   "metadata": {
    "lc_cell_meme": {
     "current": "d3160a1e-e8b5-11e9-baaf-02420a010068",
     "history": [
      {
       "current": "8824c5bd-1d20-11e9-a9f8-e0d55ea40caf",
       "next": "8824c5be-1d20-11e9-a9f8-e0d55ea40caf",
       "previous": "8824c5bc-1d20-11e9-a9f8-e0d55ea40caf"
      },
      {
       "current": "70594ef8-9249-11e9-ba02-02420a010063",
       "next": "7059522c-9249-11e9-ba02-02420a010063",
       "previous": "70594d72-9249-11e9-ba02-02420a010063"
      },
      {
       "current": "70594ef8-9249-11e9-ba02-02420a010063",
       "next": "705953bc-9249-11e9-ba02-02420a010063",
       "previous": "70594d72-9249-11e9-ba02-02420a010063"
      },
      {
       "current": "70594ef8-9249-11e9-ba02-02420a010063",
       "next": "5d2c84ea-e67b-11e9-a8bb-02420a010068",
       "previous": "70594d72-9249-11e9-ba02-02420a010063"
      }
     ],
     "next": "d3160bea-e8b5-11e9-baaf-02420a010068",
     "previous": "d3160834-e8b5-11e9-baaf-02420a010068"
    }
   },
   "source": [
    "str()関数を使うと、数字から文字列に変換することができます。\n",
    "\n",
    "\n",
    "例：str(13)  → '13' "
   ]
  },
  {
   "cell_type": "markdown",
   "metadata": {
    "lc_cell_meme": {
     "current": "d3160bea-e8b5-11e9-baaf-02420a010068",
     "history": [
      {
       "current": "5d2c84ea-e67b-11e9-a8bb-02420a010068",
       "next": "5d2c88fa-e67b-11e9-a8bb-02420a010068",
       "previous": "70594ef8-9249-11e9-ba02-02420a010063"
      }
     ],
     "next": "d3160d48-e8b5-11e9-baaf-02420a010068",
     "previous": "d3160a1e-e8b5-11e9-baaf-02420a010068"
    }
   },
   "source": [
    "○演習：次のセルで、変数aに12.478を代入し、print()を使ってaを文字列で表示しなさい。"
   ]
  },
  {
   "cell_type": "code",
   "execution_count": null,
   "metadata": {
    "lc_cell_meme": {
     "current": "d3160d48-e8b5-11e9-baaf-02420a010068",
     "history": [
      {
       "current": "5d2c88fa-e67b-11e9-a8bb-02420a010068",
       "next": "705953bc-9249-11e9-ba02-02420a010063",
       "previous": "5d2c84ea-e67b-11e9-a8bb-02420a010068"
      }
     ],
     "next": "d3160ea6-e8b5-11e9-baaf-02420a010068",
     "previous": "d3160bea-e8b5-11e9-baaf-02420a010068"
    },
    "lc_wrapper": {
     "log_history": [
      "/home/14999410x94c69e/02a/.log/20191004/20191004-164840-0195.log",
      "/home/14999410x94c69e/02a/.log/20191004/20191004-165850-0886.log"
     ]
    }
   },
   "outputs": [],
   "source": []
  },
  {
   "cell_type": "markdown",
   "metadata": {
    "lc_cell_meme": {
     "current": "d3160ea6-e8b5-11e9-baaf-02420a010068",
     "history": [
      {
       "current": "8824c5bf-1d20-11e9-a9f8-e0d55ea40caf",
       "next": "8824c5c0-1d20-11e9-a9f8-e0d55ea40caf",
       "previous": "8824c5be-1d20-11e9-a9f8-e0d55ea40caf"
      },
      {
       "current": "705953bc-9249-11e9-ba02-02420a010063",
       "next": "7059551a-9249-11e9-ba02-02420a010063",
       "previous": "7059522c-9249-11e9-ba02-02420a010063"
      },
      {
       "current": "705953bc-9249-11e9-ba02-02420a010063",
       "next": "7059551a-9249-11e9-ba02-02420a010063",
       "previous": "70594ef8-9249-11e9-ba02-02420a010063"
      },
      {
       "current": "705953bc-9249-11e9-ba02-02420a010063",
       "next": "7059551a-9249-11e9-ba02-02420a010063",
       "previous": "5d2c88fa-e67b-11e9-a8bb-02420a010068"
      }
     ],
     "next": "d3161090-e8b5-11e9-baaf-02420a010068",
     "previous": "d3160d48-e8b5-11e9-baaf-02420a010068"
    }
   },
   "source": [
    "○演習：次のセルで、print()を使って906 / 302 + 10の計算結果を次の形式で表示しなさい。\n",
    "\n",
    "ANSWER = 13.0"
   ]
  },
  {
   "cell_type": "code",
   "execution_count": null,
   "metadata": {
    "lc_cell_meme": {
     "current": "d3161090-e8b5-11e9-baaf-02420a010068",
     "history": [
      {
       "current": "8824c5c0-1d20-11e9-a9f8-e0d55ea40caf",
       "next": "8824c5c1-1d20-11e9-a9f8-e0d55ea40caf",
       "previous": "8824c5bf-1d20-11e9-a9f8-e0d55ea40caf"
      },
      {
       "current": "7059551a-9249-11e9-ba02-02420a010063",
       "next": "705955ec-9249-11e9-ba02-02420a010063",
       "previous": "705953bc-9249-11e9-ba02-02420a010063"
      }
     ],
     "next": "d31611da-e8b5-11e9-baaf-02420a010068",
     "previous": "d3160ea6-e8b5-11e9-baaf-02420a010068"
    },
    "lc_wrapper": {
     "log_history": [
      "/home/14999410x94c69e/02a/.log/20191004/20191004-165046-0447.log",
      "/home/14999410x94c69e/02a/.log/20191004/20191004-165050-0957.log",
      "/home/14999410x94c69e/02a/.log/20191004/20191004-165852-0816.log"
     ]
    }
   },
   "outputs": [],
   "source": []
  },
  {
   "cell_type": "markdown",
   "metadata": {
    "lc_cell_meme": {
     "current": "d31611da-e8b5-11e9-baaf-02420a010068",
     "history": [
      {
       "current": "8824c5c1-1d20-11e9-a9f8-e0d55ea40caf",
       "next": "8824c5c2-1d20-11e9-a9f8-e0d55ea40caf",
       "previous": "8824c5c0-1d20-11e9-a9f8-e0d55ea40caf"
      },
      {
       "current": "705955ec-9249-11e9-ba02-02420a010063",
       "next": "7059579a-9249-11e9-ba02-02420a010063",
       "previous": "7059551a-9249-11e9-ba02-02420a010063"
      }
     ],
     "next": "d3161356-e8b5-11e9-baaf-02420a010068",
     "previous": "d3161090-e8b5-11e9-baaf-02420a010068"
    }
   },
   "source": [
    "ヒント：str(計算式)を用います。"
   ]
  },
  {
   "cell_type": "markdown",
   "metadata": {
    "lc_cell_meme": {
     "current": "d3161356-e8b5-11e9-baaf-02420a010068",
     "history": [
      {
       "current": "8824c5c2-1d20-11e9-a9f8-e0d55ea40caf",
       "next": "8824c5c3-1d20-11e9-a9f8-e0d55ea40caf",
       "previous": "8824c5c1-1d20-11e9-a9f8-e0d55ea40caf"
      },
      {
       "current": "7059579a-9249-11e9-ba02-02420a010063",
       "next": "70595934-9249-11e9-ba02-02420a010063",
       "previous": "705955ec-9249-11e9-ba02-02420a010063"
      }
     ],
     "next": "d31614a0-e8b5-11e9-baaf-02420a010068",
     "previous": "d31611da-e8b5-11e9-baaf-02420a010068"
    }
   },
   "source": [
    "print()で複数の値を表示するには、カンマで区切ります。\n",
    "\n",
    "例\n",
    "\n",
    "```\n",
    "print(\"ANSWER=\", 888/222)\n",
    "```"
   ]
  },
  {
   "cell_type": "markdown",
   "metadata": {
    "lc_cell_meme": {
     "current": "d31614a0-e8b5-11e9-baaf-02420a010068",
     "history": [
      {
       "current": "8824c5c3-1d20-11e9-a9f8-e0d55ea40caf",
       "next": "8824c5c4-1d20-11e9-a9f8-e0d55ea40caf",
       "previous": "8824c5c2-1d20-11e9-a9f8-e0d55ea40caf"
      },
      {
       "current": "70595934-9249-11e9-ba02-02420a010063",
       "next": "70595ac4-9249-11e9-ba02-02420a010063",
       "previous": "7059579a-9249-11e9-ba02-02420a010063"
      }
     ],
     "next": "d31615ea-e8b5-11e9-baaf-02420a010068",
     "previous": "d3161356-e8b5-11e9-baaf-02420a010068"
    }
   },
   "source": [
    "○演習：次のセルで、print()の複数の表示機能を使って906 / 302 + 10の計算結果を次の形式で表示しなさい。\n",
    "\n",
    "ANSWER = 13.0"
   ]
  },
  {
   "cell_type": "code",
   "execution_count": null,
   "metadata": {
    "lc_cell_meme": {
     "current": "d31615ea-e8b5-11e9-baaf-02420a010068",
     "history": [
      {
       "current": "8824c5c4-1d20-11e9-a9f8-e0d55ea40caf",
       "next": null,
       "previous": "8824c5c3-1d20-11e9-a9f8-e0d55ea40caf"
      },
      {
       "current": "70595ac4-9249-11e9-ba02-02420a010063",
       "next": null,
       "previous": "70595934-9249-11e9-ba02-02420a010063"
      },
      {
       "current": "70595ac4-9249-11e9-ba02-02420a010063",
       "next": "ec41b678-e67b-11e9-a8bb-02420a010068",
       "previous": "70595934-9249-11e9-ba02-02420a010063"
      }
     ],
     "next": "d316172a-e8b5-11e9-baaf-02420a010068",
     "previous": "d31614a0-e8b5-11e9-baaf-02420a010068"
    },
    "lc_wrapper": {
     "log_history": [
      "/home/14999410x94c69e/02a/.log/20191004/20191004-165120-0617.log",
      "/home/14999410x94c69e/02a/.log/20191004/20191004-165855-0877.log"
     ]
    }
   },
   "outputs": [],
   "source": []
  },
  {
   "cell_type": "markdown",
   "metadata": {
    "lc_cell_meme": {
     "current": "d316172a-e8b5-11e9-baaf-02420a010068",
     "history": [
      {
       "current": "ec41b678-e67b-11e9-a8bb-02420a010068",
       "next": null,
       "previous": "70595ac4-9249-11e9-ba02-02420a010063"
      },
      {
       "current": "ec41b678-e67b-11e9-a8bb-02420a010068",
       "next": "c2c8d1b8-e67c-11e9-a8bb-02420a010068",
       "previous": "70595ac4-9249-11e9-ba02-02420a010063"
      }
     ],
     "next": null,
     "previous": "d31615ea-e8b5-11e9-baaf-02420a010068"
    }
   },
   "source": [
    "# お疲れさまでした。課題に進んでください。"
   ]
  }
 ],
 "metadata": {
  "kernelspec": {
   "display_name": "Python 3",
   "language": "python",
   "name": "python3"
  },
  "language_info": {
   "file_extension": ".py",
   "mimetype": "text/x-python",
   "name": "python",
   "nbconvert_exporter": "python",
   "pygments_lexer": "ipython3",
   "version": "3.7.3"
  },
  "lc_notebook_meme": {
   "current": "d31563fc-e8b5-11e9-baaf-02420a010068",
   "history": [
    "8824c556-1d20-11e9-a9f8-e0d55ea40caf",
    "705896c0-9249-11e9-ba02-02420a010063"
   ],
   "lc_server_signature": {
    "current": {
     "notebook_dir": "/home/14999410x94c69e",
     "notebook_path": "/02",
     "server_url": "https://nb06.ecloud.nii.ac.jp/user/14999410x94c69e/",
     "signature_id": "360553ae-df66-11e9-8262-02420a010037"
    },
    "history": [
     {
      "notebook_dir": "/home/kuwata/notebooks",
      "notebook_path": "/",
      "server_url": "http://157.19.141.8:8000/user/kuwata/",
      "signature_id": "d0abe7ae-153d-11e9-9674-e0d55ea40caf"
     },
     {
      "notebook_dir": "/home/kuwataa25e07",
      "notebook_path": "/02",
      "server_url": "https://nb02.ecloud.nii.ac.jp/user/kuwataa25e07/",
      "signature_id": "8e0bfa62-88ae-11e9-b239-02420a010019"
     },
     {
      "notebook_dir": "/home/14999410x94c69e",
      "notebook_path": "/02a",
      "server_url": "https://nb06.ecloud.nii.ac.jp/user/14999410x94c69e/",
      "signature_id": "360553ae-df66-11e9-8262-02420a010037"
     }
    ]
   },
   "root_cells": [
    "d3156ba4-e8b5-11e9-baaf-02420a010068",
    "d3156ece-e8b5-11e9-baaf-02420a010068",
    "d31570b8-e8b5-11e9-baaf-02420a010068",
    "d3157270-e8b5-11e9-baaf-02420a010068",
    "d315746e-e8b5-11e9-baaf-02420a010068",
    "d31575b8-e8b5-11e9-baaf-02420a010068",
    "d3157702-e8b5-11e9-baaf-02420a010068",
    "d315784c-e8b5-11e9-baaf-02420a010068",
    "d31579c8-e8b5-11e9-baaf-02420a010068",
    "d3157b12-e8b5-11e9-baaf-02420a010068",
    "d3157c8e-e8b5-11e9-baaf-02420a010068",
    "d3157de2-e8b5-11e9-baaf-02420a010068",
    "d3157f68-e8b5-11e9-baaf-02420a010068",
    "d31580bc-e8b5-11e9-baaf-02420a010068",
    "d3158238-e8b5-11e9-baaf-02420a010068",
    "d31583be-e8b5-11e9-baaf-02420a010068",
    "d3158512-e8b5-11e9-baaf-02420a010068",
    "d3158684-e8b5-11e9-baaf-02420a010068",
    "d3158800-e8b5-11e9-baaf-02420a010068",
    "d315894a-e8b5-11e9-baaf-02420a010068",
    "d3158a94-e8b5-11e9-baaf-02420a010068",
    "d3158bde-e8b5-11e9-baaf-02420a010068",
    "d3158d64-e8b5-11e9-baaf-02420a010068",
    "d3158f58-e8b5-11e9-baaf-02420a010068",
    "d315917e-e8b5-11e9-baaf-02420a010068",
    "d31593c2-e8b5-11e9-baaf-02420a010068",
    "d3159534-e8b5-11e9-baaf-02420a010068",
    "d31596ba-e8b5-11e9-baaf-02420a010068",
    "d3159818-e8b5-11e9-baaf-02420a010068",
    "d31599a8-e8b5-11e9-baaf-02420a010068",
    "d3159b92-e8b5-11e9-baaf-02420a010068",
    "d3159d0e-e8b5-11e9-baaf-02420a010068",
    "d3159e80-e8b5-11e9-baaf-02420a010068",
    "d3159ffc-e8b5-11e9-baaf-02420a010068",
    "d315a146-e8b5-11e9-baaf-02420a010068",
    "d315a290-e8b5-11e9-baaf-02420a010068",
    "d315a420-e8b5-11e9-baaf-02420a010068",
    "d315a56a-e8b5-11e9-baaf-02420a010068",
    "d315a6aa-e8b5-11e9-baaf-02420a010068",
    "d315a7ea-e8b5-11e9-baaf-02420a010068",
    "d315a970-e8b5-11e9-baaf-02420a010068",
    "d315aaec-e8b5-11e9-baaf-02420a010068",
    "d315ac68-e8b5-11e9-baaf-02420a010068",
    "d315ade4-e8b5-11e9-baaf-02420a010068",
    "d315af2e-e8b5-11e9-baaf-02420a010068",
    "d315b078-e8b5-11e9-baaf-02420a010068",
    "d315b1c2-e8b5-11e9-baaf-02420a010068",
    "d315b334-e8b5-11e9-baaf-02420a010068",
    "d315b4c4-e8b5-11e9-baaf-02420a010068",
    "d315b76c-e8b5-11e9-baaf-02420a010068",
    "d315b960-e8b5-11e9-baaf-02420a010068",
    "d315bafa-e8b5-11e9-baaf-02420a010068",
    "d315bc8a-e8b5-11e9-baaf-02420a010068",
    "d315bde8-e8b5-11e9-baaf-02420a010068",
    "d315bfb4-e8b5-11e9-baaf-02420a010068",
    "d315c20c-e8b5-11e9-baaf-02420a010068",
    "d315c356-e8b5-11e9-baaf-02420a010068",
    "d315c4d2-e8b5-11e9-baaf-02420a010068",
    "d315c61c-e8b5-11e9-baaf-02420a010068",
    "d315c7ac-e8b5-11e9-baaf-02420a010068",
    "d315c928-e8b5-11e9-baaf-02420a010068",
    "d315ca68-e8b5-11e9-baaf-02420a010068",
    "d315cbe4-e8b5-11e9-baaf-02420a010068",
    "d315cd56-e8b5-11e9-baaf-02420a010068",
    "d315cea0-e8b5-11e9-baaf-02420a010068",
    "d315cfea-e8b5-11e9-baaf-02420a010068",
    "d315d15c-e8b5-11e9-baaf-02420a010068",
    "d315d2a6-e8b5-11e9-baaf-02420a010068",
    "d315d418-e8b5-11e9-baaf-02420a010068",
    "d315d58a-e8b5-11e9-baaf-02420a010068",
    "d315d6d4-e8b5-11e9-baaf-02420a010068",
    "d315d85a-e8b5-11e9-baaf-02420a010068",
    "d315d9ae-e8b5-11e9-baaf-02420a010068",
    "d315daee-e8b5-11e9-baaf-02420a010068",
    "d315dc38-e8b5-11e9-baaf-02420a010068",
    "d315df6c-e8b5-11e9-baaf-02420a010068",
    "d315e19c-e8b5-11e9-baaf-02420a010068",
    "d315e30e-e8b5-11e9-baaf-02420a010068",
    "d315e476-e8b5-11e9-baaf-02420a010068",
    "d315e606-e8b5-11e9-baaf-02420a010068",
    "d315e764-e8b5-11e9-baaf-02420a010068",
    "d315e8cc-e8b5-11e9-baaf-02420a010068",
    "d315eae8-e8b5-11e9-baaf-02420a010068",
    "d315ec32-e8b5-11e9-baaf-02420a010068",
    "d315eda4-e8b5-11e9-baaf-02420a010068",
    "d315eeee-e8b5-11e9-baaf-02420a010068",
    "d315f038-e8b5-11e9-baaf-02420a010068",
    "d315f1aa-e8b5-11e9-baaf-02420a010068",
    "d315f2f4-e8b5-11e9-baaf-02420a010068",
    "d315f466-e8b5-11e9-baaf-02420a010068",
    "d315f5b0-e8b5-11e9-baaf-02420a010068",
    "d315f6f0-e8b5-11e9-baaf-02420a010068",
    "d315f83a-e8b5-11e9-baaf-02420a010068",
    "d315f9ac-e8b5-11e9-baaf-02420a010068",
    "d315faec-e8b5-11e9-baaf-02420a010068",
    "d315fc36-e8b5-11e9-baaf-02420a010068",
    "d315fd80-e8b5-11e9-baaf-02420a010068",
    "d315fef2-e8b5-11e9-baaf-02420a010068",
    "d316003c-e8b5-11e9-baaf-02420a010068",
    "d31601ae-e8b5-11e9-baaf-02420a010068",
    "d316032a-e8b5-11e9-baaf-02420a010068",
    "d3160654-e8b5-11e9-baaf-02420a010068",
    "d3160834-e8b5-11e9-baaf-02420a010068",
    "d3160a1e-e8b5-11e9-baaf-02420a010068",
    "d3160bea-e8b5-11e9-baaf-02420a010068",
    "d3160d48-e8b5-11e9-baaf-02420a010068",
    "d3160ea6-e8b5-11e9-baaf-02420a010068",
    "d3161090-e8b5-11e9-baaf-02420a010068",
    "d31611da-e8b5-11e9-baaf-02420a010068",
    "d3161356-e8b5-11e9-baaf-02420a010068",
    "d31614a0-e8b5-11e9-baaf-02420a010068",
    "d31615ea-e8b5-11e9-baaf-02420a010068",
    "d316172a-e8b5-11e9-baaf-02420a010068",
    "d3161874-e8b5-11e9-baaf-02420a010068"
   ]
  },
  "toc": {
   "base_numbering": 1,
   "nav_menu": {},
   "number_sections": true,
   "sideBar": true,
   "skip_h1_title": true,
   "title_cell": "Table of Contents",
   "title_sidebar": "Contents",
   "toc_cell": false,
   "toc_position": {
    "height": "calc(100% - 180px)",
    "left": "10px",
    "top": "150px",
    "width": "349px"
   },
   "toc_section_display": true,
   "toc_window_display": true
  }
 },
 "nbformat": 4,
 "nbformat_minor": 2
}
