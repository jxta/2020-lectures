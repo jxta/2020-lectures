{
 "cells": [
  {
   "cell_type": "markdown",
   "metadata": {
    "lc_cell_meme": {
     "current": "ff1d994c-e8b5-11e9-92a6-02420a010068",
     "history": [
      {
       "current": "8824c557-1d20-11e9-a9f8-e0d55ea40caf",
       "next": "8824c558-1d20-11e9-a9f8-e0d55ea40caf",
       "previous": null
      },
      {
       "current": "7a02fa9e-9249-11e9-a7f2-02420a010063",
       "next": "7a02fc10-9249-11e9-a7f2-02420a010063",
       "previous": null
      }
     ],
     "next": "ff1d9b7c-e8b5-11e9-92a6-02420a010068",
     "previous": null
    }
   },
   "source": [
    "# プログラミング入門\n",
    "# 第２回　計算してみよう（課題）"
   ]
  },
  {
   "cell_type": "markdown",
   "metadata": {
    "lc_cell_meme": {
     "current": "ff1d9b7c-e8b5-11e9-92a6-02420a010068",
     "history": [
      {
       "current": "8824c558-1d20-11e9-a9f8-e0d55ea40caf",
       "next": "8824c559-1d20-11e9-a9f8-e0d55ea40caf",
       "previous": "8824c557-1d20-11e9-a9f8-e0d55ea40caf"
      },
      {
       "current": "7a02fc10-9249-11e9-a7f2-02420a010063",
       "next": "7a02fcec-9249-11e9-a7f2-02420a010063",
       "previous": "7a02fa9e-9249-11e9-a7f2-02420a010063"
      }
     ],
     "next": "ff1d9d20-e8b5-11e9-92a6-02420a010068",
     "previous": "ff1d994c-e8b5-11e9-92a6-02420a010068"
    }
   },
   "source": [
    "次のセルに、自分の名前と学籍番号を記入して下さい。"
   ]
  },
  {
   "cell_type": "raw",
   "metadata": {
    "lc_cell_meme": {
     "current": "ff1d9d20-e8b5-11e9-92a6-02420a010068",
     "history": [
      {
       "current": "8824c559-1d20-11e9-a9f8-e0d55ea40caf",
       "next": "8824c55a-1d20-11e9-a9f8-e0d55ea40caf",
       "previous": "8824c558-1d20-11e9-a9f8-e0d55ea40caf"
      },
      {
       "current": "7a02fcec-9249-11e9-a7f2-02420a010063",
       "next": "7a02fdd2-9249-11e9-a7f2-02420a010063",
       "previous": "7a02fc10-9249-11e9-a7f2-02420a010063"
      }
     ],
     "next": "ff1d9ea6-e8b5-11e9-92a6-02420a010068",
     "previous": "ff1d9b7c-e8b5-11e9-92a6-02420a010068"
    }
   },
   "source": [
    "学籍番号：　　　　　　　　　　　氏名："
   ]
  },
  {
   "cell_type": "markdown",
   "metadata": {
    "lc_cell_meme": {
     "current": "ff1d9ea6-e8b5-11e9-92a6-02420a010068",
     "history": [
      {
       "current": "8824c55a-1d20-11e9-a9f8-e0d55ea40caf",
       "next": "8824c55b-1d20-11e9-a9f8-e0d55ea40caf",
       "previous": "8824c559-1d20-11e9-a9f8-e0d55ea40caf"
      },
      {
       "current": "8824c55a-1d20-11e9-a9f8-e0d55ea40caf",
       "next": "8824c5c5-1d20-11e9-a9f8-e0d55ea40caf",
       "previous": "8824c559-1d20-11e9-a9f8-e0d55ea40caf"
      },
      {
       "current": "7a02fdd2-9249-11e9-a7f2-02420a010063",
       "next": "7a02fe9a-9249-11e9-a7f2-02420a010063",
       "previous": "7a02fcec-9249-11e9-a7f2-02420a010063"
      }
     ],
     "next": "ff1d9ffa-e8b5-11e9-92a6-02420a010068",
     "previous": "ff1d9d20-e8b5-11e9-92a6-02420a010068"
    }
   },
   "source": [
    "【進め方の注意】\n",
    "\n",
    "- 文書を読んで、手順に沿って問いに答えながら進めて下さい。\n",
    "- 最後の確認問題を解いて、ファイルを提出して下さい。\n",
    "- 途中わからないことがあれば、教員またはTAに質問して下さい。"
   ]
  },
  {
   "cell_type": "markdown",
   "metadata": {
    "lc_cell_meme": {
     "current": "ff1d9ffa-e8b5-11e9-92a6-02420a010068",
     "history": [
      {
       "current": "8824c5c5-1d20-11e9-a9f8-e0d55ea40caf",
       "next": "8824c5c6-1d20-11e9-a9f8-e0d55ea40caf",
       "previous": "8824c5c4-1d20-11e9-a9f8-e0d55ea40caf"
      },
      {
       "current": "8824c5c5-1d20-11e9-a9f8-e0d55ea40caf",
       "next": "8824c5c6-1d20-11e9-a9f8-e0d55ea40caf",
       "previous": "8824c55a-1d20-11e9-a9f8-e0d55ea40caf"
      },
      {
       "current": "7a02fe9a-9249-11e9-a7f2-02420a010063",
       "next": "7a02ff76-9249-11e9-a7f2-02420a010063",
       "previous": "7a02fdd2-9249-11e9-a7f2-02420a010063"
      }
     ],
     "next": "ff1da14e-e8b5-11e9-92a6-02420a010068",
     "previous": "ff1d9ea6-e8b5-11e9-92a6-02420a010068"
    }
   },
   "source": [
    "## 確認課題"
   ]
  },
  {
   "cell_type": "markdown",
   "metadata": {
    "lc_cell_meme": {
     "current": "ff1da14e-e8b5-11e9-92a6-02420a010068",
     "history": [
      {
       "current": "8824c5c6-1d20-11e9-a9f8-e0d55ea40caf",
       "next": "8824c5c7-1d20-11e9-a9f8-e0d55ea40caf",
       "previous": "8824c5c5-1d20-11e9-a9f8-e0d55ea40caf"
      },
      {
       "current": "7a02ff76-9249-11e9-a7f2-02420a010063",
       "next": "7a030034-9249-11e9-a7f2-02420a010063",
       "previous": "7a02fe9a-9249-11e9-a7f2-02420a010063"
      }
     ],
     "next": "ff1da2d4-e8b5-11e9-92a6-02420a010068",
     "previous": "ff1d9ffa-e8b5-11e9-92a6-02420a010068"
    }
   },
   "source": [
    "### 注意事項"
   ]
  },
  {
   "cell_type": "markdown",
   "metadata": {
    "lc_cell_meme": {
     "current": "ff1da2d4-e8b5-11e9-92a6-02420a010068",
     "history": [
      {
       "current": "8824c5c7-1d20-11e9-a9f8-e0d55ea40caf",
       "next": "8824c5c8-1d20-11e9-a9f8-e0d55ea40caf",
       "previous": "8824c5c6-1d20-11e9-a9f8-e0d55ea40caf"
      },
      {
       "current": "7a030034-9249-11e9-a7f2-02420a010063",
       "next": "7a0300ca-9249-11e9-a7f2-02420a010063",
       "previous": "7a02ff76-9249-11e9-a7f2-02420a010063"
      }
     ],
     "next": "ff1da428-e8b5-11e9-92a6-02420a010068",
     "previous": "ff1da14e-e8b5-11e9-92a6-02420a010068"
    }
   },
   "source": [
    "確認課題は、単位認定のための点数としてカウントします。\n",
    "\n",
    "友達と相談せず、自分だけでやってください。\n",
    "\n",
    "確認課題が終わった人は、提出後に退室して構いません。\n",
    "\n",
    "終わらなくても終了時刻までに提出してください。\n"
   ]
  },
  {
   "cell_type": "markdown",
   "metadata": {
    "lc_cell_meme": {
     "current": "ff1da428-e8b5-11e9-92a6-02420a010068",
     "history": [
      {
       "current": "8824c5c8-1d20-11e9-a9f8-e0d55ea40caf",
       "next": "8824c5c9-1d20-11e9-a9f8-e0d55ea40caf",
       "previous": "8824c5c7-1d20-11e9-a9f8-e0d55ea40caf"
      },
      {
       "current": "7a0300ca-9249-11e9-a7f2-02420a010063",
       "next": "7a030160-9249-11e9-a7f2-02420a010063",
       "previous": "7a030034-9249-11e9-a7f2-02420a010063"
      }
     ],
     "next": "ff1da5b8-e8b5-11e9-92a6-02420a010068",
     "previous": "ff1da2d4-e8b5-11e9-92a6-02420a010068"
    }
   },
   "source": [
    "### 課題"
   ]
  },
  {
   "cell_type": "markdown",
   "metadata": {
    "lc_cell_meme": {
     "current": "ff1da5b8-e8b5-11e9-92a6-02420a010068",
     "history": [
      {
       "current": "8824c5c9-1d20-11e9-a9f8-e0d55ea40caf",
       "next": "8824c5ca-1d20-11e9-a9f8-e0d55ea40caf",
       "previous": "8824c5c8-1d20-11e9-a9f8-e0d55ea40caf"
      },
      {
       "current": "7a030160-9249-11e9-a7f2-02420a010063",
       "next": "7a0301f6-9249-11e9-a7f2-02420a010063",
       "previous": "7a0300ca-9249-11e9-a7f2-02420a010063"
      }
     ],
     "next": "ff1da702-e8b5-11e9-92a6-02420a010068",
     "previous": "ff1da428-e8b5-11e9-92a6-02420a010068"
    }
   },
   "source": [
    "次の式を計算し出力するプログラムを作成しなさい。\n",
    "\n",
    "$\\large t = 5.82 × 10^{-1} + \\Large\\frac{2s - s×cos{33s}} {s(s+2)}$\n",
    "\n",
    "1. mathモジュールをimportすること\n",
    "1. 変数sへ数値（15.6）を代入すること\n",
    "1. 変数tに計算式を入力すること\n",
    "1. 5.82×10-1 は 指数付き定数で記述\n",
    "1. 実行結果はprint()を使い、 “t=”という文字と、その右側に tの値 を表示"
   ]
  },
  {
   "cell_type": "markdown",
   "metadata": {
    "lc_cell_meme": {
     "current": "ff1da702-e8b5-11e9-92a6-02420a010068",
     "history": [
      {
       "current": "8824c5ca-1d20-11e9-a9f8-e0d55ea40caf",
       "next": "8824c5cb-1d20-11e9-a9f8-e0d55ea40caf",
       "previous": "8824c5c9-1d20-11e9-a9f8-e0d55ea40caf"
      },
      {
       "current": "7a0301f6-9249-11e9-a7f2-02420a010063",
       "next": "7a030282-9249-11e9-a7f2-02420a010063",
       "previous": "7a030160-9249-11e9-a7f2-02420a010063"
      }
     ],
     "next": "ff1da856-e8b5-11e9-92a6-02420a010068",
     "previous": "ff1da5b8-e8b5-11e9-92a6-02420a010068"
    }
   },
   "source": [
    "### 解答欄"
   ]
  },
  {
   "cell_type": "code",
   "execution_count": null,
   "metadata": {
    "lc_cell_meme": {
     "current": "ff1da856-e8b5-11e9-92a6-02420a010068",
     "history": [
      {
       "current": "8824c5cb-1d20-11e9-a9f8-e0d55ea40caf",
       "next": "8824c5cc-1d20-11e9-a9f8-e0d55ea40caf",
       "previous": "8824c5ca-1d20-11e9-a9f8-e0d55ea40caf"
      },
      {
       "current": "7a030282-9249-11e9-a7f2-02420a010063",
       "next": "7a030318-9249-11e9-a7f2-02420a010063",
       "previous": "7a0301f6-9249-11e9-a7f2-02420a010063"
      }
     ],
     "next": "ff1da9aa-e8b5-11e9-92a6-02420a010068",
     "previous": "ff1da702-e8b5-11e9-92a6-02420a010068"
    },
    "lc_wrapper": {
     "log_history": [
      "/home/14999410x94c69e/02a/.log/20191004/20191004-170157-0220.log",
      "/home/14999410x94c69e/02a/.log/20191004/20191004-170207-0572.log",
      "/home/14999410x94c69e/02a/.log/20191004/20191004-170219-0142.log"
     ]
    }
   },
   "outputs": [],
   "source": []
  },
  {
   "cell_type": "markdown",
   "metadata": {
    "lc_cell_meme": {
     "current": "ff1da9aa-e8b5-11e9-92a6-02420a010068",
     "history": [
      {
       "current": "8824c5cc-1d20-11e9-a9f8-e0d55ea40caf",
       "next": "8824c5cd-1d20-11e9-a9f8-e0d55ea40caf",
       "previous": "8824c5cb-1d20-11e9-a9f8-e0d55ea40caf"
      },
      {
       "current": "7a030318-9249-11e9-a7f2-02420a010063",
       "next": "7a0303a4-9249-11e9-a7f2-02420a010063",
       "previous": "7a030282-9249-11e9-a7f2-02420a010063"
      }
     ],
     "next": "ff1daafe-e8b5-11e9-92a6-02420a010068",
     "previous": "ff1da856-e8b5-11e9-92a6-02420a010068"
    }
   },
   "source": [
    "ヒント： t=0.7470469916173874 と表示されなければ、どこか式に誤りがあるので見直すこと。"
   ]
  },
  {
   "cell_type": "markdown",
   "metadata": {
    "heading_collapsed": true,
    "lc_cell_meme": {
     "current": "ff1daafe-e8b5-11e9-92a6-02420a010068",
     "history": [
      {
       "current": "8824c5cd-1d20-11e9-a9f8-e0d55ea40caf",
       "next": null,
       "previous": "8824c5cc-1d20-11e9-a9f8-e0d55ea40caf"
      },
      {
       "current": "7a0303a4-9249-11e9-a7f2-02420a010063",
       "next": null,
       "previous": "7a030318-9249-11e9-a7f2-02420a010063"
      },
      {
       "current": "7a0303a4-9249-11e9-a7f2-02420a010063",
       "next": "8c40d0f4-e67d-11e9-a8bb-02420a010068",
       "previous": "7a030318-9249-11e9-a7f2-02420a010063"
      }
     ],
     "next": "ff1dac98-e8b5-11e9-92a6-02420a010068",
     "previous": "ff1da9aa-e8b5-11e9-92a6-02420a010068"
    }
   },
   "source": [
    "# お疲れ様でした。本日の課題はこれで終了です。"
   ]
  },
  {
   "cell_type": "markdown",
   "metadata": {
    "hidden": true,
    "lc_cell_meme": {
     "current": "ff1dac98-e8b5-11e9-92a6-02420a010068",
     "history": [
      {
       "current": "8c40d0f4-e67d-11e9-a8bb-02420a010068",
       "next": "8c40d4c8-e67d-11e9-a8bb-02420a010068",
       "previous": "7a0303a4-9249-11e9-a7f2-02420a010063"
      }
     ],
     "next": "ff1dae50-e8b5-11e9-92a6-02420a010068",
     "previous": "ff1daafe-e8b5-11e9-92a6-02420a010068"
    }
   },
   "source": [
    "評点"
   ]
  },
  {
   "cell_type": "markdown",
   "metadata": {
    "hidden": true,
    "lc_cell_meme": {
     "current": "ff1dae50-e8b5-11e9-92a6-02420a010068",
     "history": [
      {
       "current": "8c40d4c8-e67d-11e9-a8bb-02420a010068",
       "next": "8c40d75c-e67d-11e9-a8bb-02420a010068",
       "previous": "8c40d0f4-e67d-11e9-a8bb-02420a010068"
      }
     ],
     "next": "ff1db080-e8b5-11e9-92a6-02420a010068",
     "previous": "ff1dac98-e8b5-11e9-92a6-02420a010068"
    }
   },
   "source": [
    " "
   ]
  },
  {
   "cell_type": "markdown",
   "metadata": {
    "hidden": true,
    "lc_cell_meme": {
     "current": "ff1db080-e8b5-11e9-92a6-02420a010068",
     "history": [
      {
       "current": "8c40d75c-e67d-11e9-a8bb-02420a010068",
       "next": "8c40d950-e67d-11e9-a8bb-02420a010068",
       "previous": "8c40d4c8-e67d-11e9-a8bb-02420a010068"
      }
     ],
     "next": "ff1db242-e8b5-11e9-92a6-02420a010068",
     "previous": "ff1dae50-e8b5-11e9-92a6-02420a010068"
    }
   },
   "source": [
    "コメント"
   ]
  },
  {
   "cell_type": "markdown",
   "metadata": {
    "hidden": true,
    "lc_cell_meme": {
     "current": "ff1db242-e8b5-11e9-92a6-02420a010068",
     "history": [
      {
       "current": "8c40d950-e67d-11e9-a8bb-02420a010068",
       "next": null,
       "previous": "8c40d75c-e67d-11e9-a8bb-02420a010068"
      }
     ],
     "next": null,
     "previous": "ff1db080-e8b5-11e9-92a6-02420a010068"
    }
   },
   "source": [
    " "
   ]
  }
 ],
 "metadata": {
  "kernelspec": {
   "display_name": "Python 3",
   "language": "python",
   "name": "python3"
  },
  "language_info": {
   "file_extension": ".py",
   "mimetype": "text/x-python",
   "name": "python",
   "nbconvert_exporter": "python",
   "pygments_lexer": "ipython3",
   "version": "3.7.3"
  },
  "lc_notebook_meme": {
   "current": "ff1d938e-e8b5-11e9-92a6-02420a010068",
   "history": [
    "8824c556-1d20-11e9-a9f8-e0d55ea40caf",
    "7a02f4ae-9249-11e9-a7f2-02420a010063"
   ],
   "lc_server_signature": {
    "current": {
     "notebook_dir": "/home/14999410x94c69e",
     "notebook_path": "/02",
     "server_url": "https://nb06.ecloud.nii.ac.jp/user/14999410x94c69e/",
     "signature_id": "360553ae-df66-11e9-8262-02420a010037"
    },
    "history": [
     {
      "notebook_dir": "/home/kuwata/notebooks",
      "notebook_path": "/",
      "server_url": "http://157.19.141.8:8000/user/kuwata/",
      "signature_id": "d0abe7ae-153d-11e9-9674-e0d55ea40caf"
     },
     {
      "notebook_dir": "/home/kuwataa25e07",
      "notebook_path": "/02",
      "server_url": "https://nb02.ecloud.nii.ac.jp/user/kuwataa25e07/",
      "signature_id": "8e0bfa62-88ae-11e9-b239-02420a010019"
     },
     {
      "notebook_dir": "/home/14999410x94c69e",
      "notebook_path": "/02a",
      "server_url": "https://nb06.ecloud.nii.ac.jp/user/14999410x94c69e/",
      "signature_id": "360553ae-df66-11e9-8262-02420a010037"
     }
    ]
   },
   "root_cells": [
    "ff1d994c-e8b5-11e9-92a6-02420a010068",
    "ff1d9b7c-e8b5-11e9-92a6-02420a010068",
    "ff1d9d20-e8b5-11e9-92a6-02420a010068",
    "ff1d9ea6-e8b5-11e9-92a6-02420a010068",
    "ff1d9ffa-e8b5-11e9-92a6-02420a010068",
    "ff1da14e-e8b5-11e9-92a6-02420a010068",
    "ff1da2d4-e8b5-11e9-92a6-02420a010068",
    "ff1da428-e8b5-11e9-92a6-02420a010068",
    "ff1da5b8-e8b5-11e9-92a6-02420a010068",
    "ff1da702-e8b5-11e9-92a6-02420a010068",
    "ff1da856-e8b5-11e9-92a6-02420a010068",
    "ff1da9aa-e8b5-11e9-92a6-02420a010068",
    "ff1daafe-e8b5-11e9-92a6-02420a010068",
    "ff1dac98-e8b5-11e9-92a6-02420a010068",
    "ff1dae50-e8b5-11e9-92a6-02420a010068",
    "ff1db080-e8b5-11e9-92a6-02420a010068",
    "ff1db242-e8b5-11e9-92a6-02420a010068"
   ]
  },
  "toc": {
   "base_numbering": 1,
   "nav_menu": {},
   "number_sections": true,
   "sideBar": true,
   "skip_h1_title": true,
   "title_cell": "Table of Contents",
   "title_sidebar": "Contents",
   "toc_cell": false,
   "toc_position": {
    "height": "calc(100% - 180px)",
    "left": "10px",
    "top": "150px",
    "width": "181px"
   },
   "toc_section_display": true,
   "toc_window_display": true
  }
 },
 "nbformat": 4,
 "nbformat_minor": 2
}
