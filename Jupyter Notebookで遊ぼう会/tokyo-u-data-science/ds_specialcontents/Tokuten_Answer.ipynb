{
 "cells": [
  {
   "cell_type": "markdown",
   "metadata": {
    "lc_cell_meme": {
     "current": "2e1b3f94-4264-11ea-86a9-02420a01000c",
     "next": "2e1b40a2-4264-11ea-86a9-02420a01000c",
     "previous": null
    }
   },
   "source": [
    "# 【Special Contents】 練習と総合問題解答"
   ]
  },
  {
   "cell_type": "markdown",
   "metadata": {
    "lc_cell_meme": {
     "current": "2e1b40a2-4264-11ea-86a9-02420a01000c",
     "next": "2e1b4174-4264-11ea-86a9-02420a01000c",
     "previous": "2e1b3f94-4264-11ea-86a9-02420a01000c"
    }
   },
   "source": [
    "#### <練習問題 S-1>\n",
    "\n",
    "NAND（NOT AND）関数を作成して、それがあっているかどうか確かめてください。"
   ]
  },
  {
   "cell_type": "code",
   "execution_count": 1,
   "metadata": {
    "collapsed": true,
    "lc_cell_meme": {
     "current": "2e1b4174-4264-11ea-86a9-02420a01000c",
     "next": "2e1b4232-4264-11ea-86a9-02420a01000c",
     "previous": "2e1b40a2-4264-11ea-86a9-02420a01000c"
    }
   },
   "outputs": [],
   "source": [
    "# 解答\n",
    "def nand_func(x1,x2):\n",
    "    w1 = 0.5\n",
    "    w2 = 0.5\n",
    "    theta = 0.7\n",
    "\n",
    "    tmp = x1 * w1 + x2 * w2\n",
    "    \n",
    "    # ここの条件分岐が異なる\n",
    "    if tmp >= theta:\n",
    "        return 0\n",
    "    elif tmp < theta:\n",
    "        return 1"
   ]
  },
  {
   "cell_type": "code",
   "execution_count": 2,
   "metadata": {
    "lc_cell_meme": {
     "current": "2e1b4232-4264-11ea-86a9-02420a01000c",
     "next": "2e1b42fa-4264-11ea-86a9-02420a01000c",
     "previous": "2e1b4174-4264-11ea-86a9-02420a01000c"
    }
   },
   "outputs": [
    {
     "name": "stdout",
     "output_type": "stream",
     "text": [
      "0 かつ 0: 1\n",
      "0 かつ 1: 1\n",
      "1 かつ 0: 1\n",
      "1 かつ 1: 0\n"
     ]
    }
   ],
   "source": [
    "# チェック\n",
    "print('0 かつ 0:',nand_func(0,0))\n",
    "print('0 かつ 1:',nand_func(0,1))\n",
    "print('1 かつ 0:',nand_func(1,0))\n",
    "print('1 かつ 1:',nand_func(1,1))"
   ]
  },
  {
   "cell_type": "markdown",
   "metadata": {
    "lc_cell_meme": {
     "current": "2e1b42fa-4264-11ea-86a9-02420a01000c",
     "next": "2e1b43b8-4264-11ea-86a9-02420a01000c",
     "previous": "2e1b4232-4264-11ea-86a9-02420a01000c"
    }
   },
   "source": [
    "なお、`functools.partial`を用いると、引数の一部を固定にした別の関数を作り出すことができます。以下、参考として、この機能を用いてAND回路とOR回路を実装した例を記載します。"
   ]
  },
  {
   "cell_type": "code",
   "execution_count": 3,
   "metadata": {
    "lc_cell_meme": {
     "current": "2e1b43b8-4264-11ea-86a9-02420a01000c",
     "next": "2e1b4520-4264-11ea-86a9-02420a01000c",
     "previous": "2e1b42fa-4264-11ea-86a9-02420a01000c"
    }
   },
   "outputs": [
    {
     "name": "stdout",
     "output_type": "stream",
     "text": [
      "ANDゲート\n",
      "(0, 0) 0\n",
      "(0, 1) 0\n",
      "(1, 0) 0\n",
      "(1, 1) 1\n",
      "ORゲート\n",
      "(0, 0) 0\n",
      "(0, 1) 1\n",
      "(1, 0) 1\n",
      "(1, 1) 1\n"
     ]
    }
   ],
   "source": [
    "import itertools\n",
    "from functools import partial\n",
    "import numpy as np\n",
    "\n",
    "def perceptron(x, w, theta):\n",
    "    return 1 if np.dot(x, w) > theta else 0\n",
    "\n",
    "and_gate = partial(perceptron, w=[0.6, 0.6], theta=1)\n",
    "or_gate = partial(perceptron, w=[1.1, 1.1], theta=1)\n",
    "\n",
    "print('ANDゲート')\n",
    "for i in itertools.product([0, 1], [0, 1]):\n",
    "    print(i, and_gate(i))\n",
    "    \n",
    "print('ORゲート')\n",
    "for i in itertools.product([0, 1], [0, 1]):\n",
    "    print(i, or_gate(i))"
   ]
  },
  {
   "cell_type": "markdown",
   "metadata": {
    "lc_cell_meme": {
     "current": "2e1b4520-4264-11ea-86a9-02420a01000c",
     "next": "2e1b45f2-4264-11ea-86a9-02420a01000c",
     "previous": "2e1b43b8-4264-11ea-86a9-02420a01000c"
    }
   },
   "source": [
    "#### <練習問題 S-2>\n",
    "\n",
    "14.4.1「PySpark入門」で使用したデータ「merge_student_data」に対して、`schoolsup`を含むレコードがどれだけあるかカウントしてください。"
   ]
  },
  {
   "cell_type": "code",
   "execution_count": null,
   "metadata": {
    "lc_cell_meme": {
     "current": "2e1b45f2-4264-11ea-86a9-02420a01000c",
     "next": "2e1b46ba-4264-11ea-86a9-02420a01000c",
     "previous": "2e1b4520-4264-11ea-86a9-02420a01000c"
    }
   },
   "outputs": [],
   "source": [
    "# 解答\n",
    "schoolsup_lines = merge_student_data.filter(lambda line: 'schoolsup' in line)\n",
    "schoolsup_lines.count()"
   ]
  },
  {
   "cell_type": "markdown",
   "metadata": {
    "lc_cell_meme": {
     "current": "2e1b46ba-4264-11ea-86a9-02420a01000c",
     "next": "2e1b4778-4264-11ea-86a9-02420a01000c",
     "previous": "2e1b45f2-4264-11ea-86a9-02420a01000c"
    }
   },
   "source": [
    "#### <練習問題 S-3>\n",
    "\n",
    "SparkSQLを使って、14.4.2「SparkSQL」で作成した`tmp_table`テーブルに対して、学校（`school`） ×性別（`sex`）を軸にして、それぞれのレコード数と平均年齢（ageの平均）を表示してください。\n"
   ]
  },
  {
   "cell_type": "code",
   "execution_count": 72,
   "metadata": {
    "lc_cell_meme": {
     "current": "2e1b4778-4264-11ea-86a9-02420a01000c",
     "next": "2e1b4836-4264-11ea-86a9-02420a01000c",
     "previous": "2e1b46ba-4264-11ea-86a9-02420a01000c"
    },
    "scrolled": false
   },
   "outputs": [
    {
     "name": "stdout",
     "output_type": "stream",
     "text": [
      "+------+---+---+------------------+\n",
      "|school|sex|cnt|            avgAge|\n",
      "+------+---+---+------------------+\n",
      "|    GP|  F|183|16.579234972677597|\n",
      "|    GP|  M|166|16.457831325301203|\n",
      "|    MS|  F| 25|             17.84|\n",
      "|    MS|  M| 21|18.238095238095237|\n",
      "+------+---+---+------------------+\n",
      "\n",
      "None\n"
     ]
    }
   ],
   "source": [
    "# 解答\n",
    "count_result = sqlContext.sql(\n",
    "    'select school,sex,count(*) as cnt,avg(age) as avgAge from '\n",
    "    + 'tmp_table group by school,sex order by school,sex')\n",
    "print(count_result.show())"
   ]
  },
  {
   "cell_type": "markdown",
   "metadata": {
    "lc_cell_meme": {
     "current": "2e1b4836-4264-11ea-86a9-02420a01000c",
     "next": "2e1b48fe-4264-11ea-86a9-02420a01000c",
     "previous": "2e1b4778-4264-11ea-86a9-02420a01000c"
    }
   },
   "source": [
    "## Special Contents 総合問題"
   ]
  },
  {
   "cell_type": "markdown",
   "metadata": {
    "lc_cell_meme": {
     "current": "2e1b48fe-4264-11ea-86a9-02420a01000c",
     "next": "2e1b49bc-4264-11ea-86a9-02420a01000c",
     "previous": "2e1b4836-4264-11ea-86a9-02420a01000c"
    }
   },
   "source": [
    "### ■総合問題S-1 深層学習の用語\n",
    "\n",
    "深層学習に関する以下の用語について、それぞれの役割やその意味について述べてください。また、ネットや参考文献等も使って調べてみてください。\n",
    "- パーセプトロン\n",
    "- ニューラルネットワーク\n",
    "- 勾配法\n",
    "- バッチ学習\n",
    "- ミニバッチ学習\n",
    "- 確率的勾配降下法\n",
    "- 誤差逆伝播法\n",
    "- Chainer, Theano, TensorFlow"
   ]
  },
  {
   "cell_type": "markdown",
   "metadata": {
    "lc_cell_meme": {
     "current": "2e1b49bc-4264-11ea-86a9-02420a01000c",
     "next": "2e1b4a7a-4264-11ea-86a9-02420a01000c",
     "previous": "2e1b48fe-4264-11ea-86a9-02420a01000c"
    }
   },
   "source": [
    "※解答省略"
   ]
  },
  {
   "cell_type": "markdown",
   "metadata": {
    "lc_cell_meme": {
     "current": "2e1b4a7a-4264-11ea-86a9-02420a01000c",
     "next": "2e1b4b38-4264-11ea-86a9-02420a01000c",
     "previous": "2e1b49bc-4264-11ea-86a9-02420a01000c"
    }
   },
   "source": [
    "### ■総合問題S-2 Pythonの高速化とSparkに関する用語\n",
    "\n",
    "Pythonの高速化とSparkに関する用語について、それぞれの役割や意味について述べてください。また、ネットや参考文献等も使って調べてみてください。\n",
    "- 並列処理\n",
    "- JITコンパイル\n",
    "- Cython\n",
    "- Spark\n",
    "- RDD\n",
    "- PySpark\n",
    "- SparkSQL"
   ]
  },
  {
   "cell_type": "markdown",
   "metadata": {
    "lc_cell_meme": {
     "current": "2e1b4b38-4264-11ea-86a9-02420a01000c",
     "next": null,
     "previous": "2e1b4a7a-4264-11ea-86a9-02420a01000c"
    }
   },
   "source": [
    "※解答省略"
   ]
  }
 ],
 "metadata": {
  "anaconda-cloud": {},
  "kernelspec": {
   "display_name": "Python 3",
   "language": "python",
   "name": "python3"
  },
  "language_info": {
   "file_extension": ".py",
   "mimetype": "text/x-python",
   "name": "python",
   "nbconvert_exporter": "python",
   "pygments_lexer": "ipython3",
   "version": "3.7.3"
  },
  "lc_notebook_meme": {
   "current": "2e1b3ce2-4264-11ea-86a9-02420a01000c",
   "lc_server_signature": {
    "current": {
     "notebook_dir": "/home/yoko69d621",
     "notebook_path": "/tokyo-u-data-science/ds_specialcontents",
     "server_url": "https://nb03.ecloud.nii.ac.jp/user/yoko69d621/",
     "signature_id": "5e786c6e-5fea-11e9-b810-02420a00005a"
    },
    "history": []
   }
  },
  "toc": {
   "base_numbering": 1,
   "nav_menu": {},
   "number_sections": true,
   "sideBar": true,
   "skip_h1_title": false,
   "title_cell": "Table of Contents",
   "title_sidebar": "Contents",
   "toc_cell": false,
   "toc_position": {},
   "toc_section_display": true,
   "toc_window_display": false
  }
 },
 "nbformat": 4,
 "nbformat_minor": 2
}
