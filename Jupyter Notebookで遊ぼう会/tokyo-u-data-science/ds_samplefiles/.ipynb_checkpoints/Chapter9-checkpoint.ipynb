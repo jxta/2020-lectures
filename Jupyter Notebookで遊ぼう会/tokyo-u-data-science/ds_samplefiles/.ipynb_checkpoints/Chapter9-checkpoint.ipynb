{
 "cells": [
  {
   "cell_type": "markdown",
   "metadata": {
    "lc_cell_meme": {
     "current": "dd6ab9d8-4193-11ea-86a9-02420a01000c",
     "next": "dd6ababe-4193-11ea-86a9-02420a01000c",
     "previous": null
    }
   },
   "source": [
    "# 9 機械学習の基礎（教師なし学習）"
   ]
  },
  {
   "cell_type": "markdown",
   "metadata": {
    "lc_cell_meme": {
     "current": "dd6ababe-4193-11ea-86a9-02420a01000c",
     "next": "dd6abb90-4193-11ea-86a9-02420a01000c",
     "previous": "dd6ab9d8-4193-11ea-86a9-02420a01000c"
    }
   },
   "source": [
    "9章では、教師なし学習の具体的手法について学びます。教師なし学習は、11章で説明したとおり、目的変数がない学習モデルです。本章では「クラスタリング」と「主成分分析」、「マーケットバスケット分析」について学びます。この章を通し、教師なし学習の多様な活用イメージと実行方法を理解しましょう。\n",
    "\n",
    "ゴール：教師なし学習のモデル（クラスタリング、主成分分析、マーケットバスケット分析）を使ってモデル構築や評価を正しく実行できるようになる"
   ]
  },
  {
   "cell_type": "markdown",
   "metadata": {
    "lc_cell_meme": {
     "current": "dd6abb90-4193-11ea-86a9-02420a01000c",
     "next": "dd6abc4e-4193-11ea-86a9-02420a01000c",
     "previous": "dd6ababe-4193-11ea-86a9-02420a01000c"
    }
   },
   "source": [
    "- **[9.1 教師なし学習](#9.1-教師なし学習)** \n",
    "    - [9.1.1 教師なしモデルの種類](#9.1.1-教師なしモデルの種類)\n",
    "    - [9.1.2 この章で使うライブラリのインポート](#9.1.2-この章で使うライブラリのインポート)\n",
    "<br><br>\n",
    "- **[9.2 クラスタリング](#9.2-クラスタリング)** \n",
    "    - [9.2.1 k-means法](#9.2.1-k-means法)\n",
    "    - [9.2.2 k-means法でクラスタリングする](#9.2.2-k-means法でクラスタリングする)\n",
    "    - [9.2.3 金融マーケティングデータをクラスタリングする](#9.2.3-金融マーケティングデータをクラスタリングする)   \n",
    "    - [9.2.4 エルボー法によるクラスター数の推定](#9.2.4-エルボー法によるクラスター数の推定)    \n",
    "    - [9.2.5 クラスタリング結果の解釈](#9.2.5-クラスタリング結果の解釈) \n",
    "    - [9.2.6 k-means法以外の手法](#9.2.6-k-means法以外の手法) \n",
    "<br><br>\n",
    "- **[9.3 主成分分析](#9.3-主成分分析)** \n",
    "    - [9.3.1 主成分分析を試す](#9.3.1-主成分分析を試す)\n",
    "    - [9.3.2 主成分分析の実例](#9.3.2-主成分分析の実例)\n",
    "<br><br>\n",
    "- **[9.4 マーケットバスケット分析とアソシエーションルール](#9.4-マーケットバスケット分析とアソシエーションルール)** \n",
    "    - [9.4.1 マーケットバスケット分析とは](#9.4.1-マーケットバスケット分析とは)\n",
    "    - [9.4.2 マーケットバスケット分析のためのサンプルデータを読み込む](#9.4.2-マーケットバスケット分析のためのサンプルデータを読み込む)\n",
    "    - [9.4.3 アソシエーションルール](#9.4.3-アソシエーションルール)\n",
    "<br><br>\n",
    "- **[9.5 総合問題](#9.5-総合問題)**\n",
    "    - [■ 総合問題9-1 アソシエーションルール](#■-総合問題9-1-アソシエーションルール)"
   ]
  },
  {
   "cell_type": "markdown",
   "metadata": {
    "lc_cell_meme": {
     "current": "dd6abc4e-4193-11ea-86a9-02420a01000c",
     "next": "dd6abd0c-4193-11ea-86a9-02420a01000c",
     "previous": "dd6abb90-4193-11ea-86a9-02420a01000c"
    }
   },
   "source": [
    "## 9.1 教師なし学習\n",
    "\n",
    "キーワード：クラスタリング、主成分分析、マーケットバスケット分析、アソシエーションルール\n",
    "\n",
    "教師なし学習は、8章で説明したとおり、目的変数がない学習モデルです。より良いモデル構築のため教師あり学習と併用されたり、データに潜む構造やインサイト（示唆）発見のための探索的分析手法として活用されています。本章を通し、教師なし学習の多様な活用イメージと実行方法を理解しましょう。"
   ]
  },
  {
   "cell_type": "markdown",
   "metadata": {
    "lc_cell_meme": {
     "current": "dd6abd0c-4193-11ea-86a9-02420a01000c",
     "next": "dd6abdca-4193-11ea-86a9-02420a01000c",
     "previous": "dd6abc4e-4193-11ea-86a9-02420a01000c"
    }
   },
   "source": [
    "### 9.1.1 教師なしモデルの種類\n",
    "教師なしモデルには、主に次のようなものがあり、本章でその実装方法と使い方を学びます。\n",
    "\n",
    "・クラスタリング\n",
    "\n",
    "多数のデータをいくつかの類似グループに分類する手法です。具体的には、マーケティングのアプローチで、顧客のセグメンテーション（顧客を分類すること）やターゲティング（対象を絞り込む方法）するときなどに使います。\n",
    "\n",
    "・主成分分析\n",
    "\n",
    "変数が多い場合に使う次元圧縮の手法です。元々のデータがもつ情報なるべく減らさずに、変数の数を減らしたい場合に使います。なおここでは、教師なし学習の次元圧縮について学びます。\n",
    "\n",
    "\n",
    "・マーケットバスケット分析（アソシエーションルール）\n",
    "\n",
    "スーパーマーケットやコンビニ、Webサイトでの買い物の分析によく使われて、商品を買うときの組み合わせで、どれが多いかなど分析をします。"
   ]
  },
  {
   "cell_type": "markdown",
   "metadata": {
    "lc_cell_meme": {
     "current": "dd6abdca-4193-11ea-86a9-02420a01000c",
     "next": "dd6abe92-4193-11ea-86a9-02420a01000c",
     "previous": "dd6abd0c-4193-11ea-86a9-02420a01000c"
    }
   },
   "source": [
    "### 9.1.2 この章で使うライブラリのインポート\n",
    "\n",
    "この章では、機械学習のScikit-learnをはじめ、前章まで使用した同じライブラリを使います。このようにインポートしていることを前提として進めていきます。"
   ]
  },
  {
   "cell_type": "code",
   "execution_count": 1,
   "metadata": {
    "lc_cell_meme": {
     "current": "dd6abe92-4193-11ea-86a9-02420a01000c",
     "execution_end_time": "2020-01-28T06:01:22.558932Z",
     "next": "dd6abf50-4193-11ea-86a9-02420a01000c",
     "previous": "dd6abdca-4193-11ea-86a9-02420a01000c"
    },
    "lc_wrapper": {
     "log_history": [
      "/home/yoko69d621/tokyo-u-data-science/ds_samplefiles/.log/20200128/20200128-060117-0641.log"
     ]
    }
   },
   "outputs": [
    {
     "data": {
      "text/plain": [
       "'%.3f'"
      ]
     },
     "execution_count": 1,
     "metadata": {},
     "output_type": "execute_result"
    }
   ],
   "source": [
    "# データ加工・処理・分析ライブラリ\n",
    "import numpy as np\n",
    "import numpy.random as random\n",
    "import scipy as sp\n",
    "from pandas import Series, DataFrame\n",
    "import pandas as pd\n",
    "\n",
    "# 可視化ライブラリ\n",
    "import matplotlib.pyplot as plt\n",
    "import matplotlib as mpl\n",
    "import seaborn as sns\n",
    "%matplotlib inline\n",
    "\n",
    "# 機械学習ライブラリ\n",
    "import sklearn\n",
    "\n",
    "# 小数第3位まで表示\n",
    "%precision 3"
   ]
  },
  {
   "cell_type": "markdown",
   "metadata": {
    "lc_cell_meme": {
     "current": "dd6abf50-4193-11ea-86a9-02420a01000c",
     "next": "dd6ac018-4193-11ea-86a9-02420a01000c",
     "previous": "dd6abe92-4193-11ea-86a9-02420a01000c"
    }
   },
   "source": [
    "## 9.2 クラスタリング\n",
    "キーワード：クラスタリング、k-means、k-means++、エルボー法、シルエット係数、非階層型クラスタリング、階層型クラスタリング、ハードクラスタリング、ソフトクラスタリング"
   ]
  },
  {
   "cell_type": "markdown",
   "metadata": {
    "lc_cell_meme": {
     "current": "dd6ac018-4193-11ea-86a9-02420a01000c",
     "next": "dd6ac0d6-4193-11ea-86a9-02420a01000c",
     "previous": "dd6abf50-4193-11ea-86a9-02420a01000c"
    }
   },
   "source": [
    "本節ではまず、教師なし学習の一つであるクラスタリングについて学びます。クラスタリングが扱うデータは、教師あり学習とは異なり目的変数を含みません。つまり、クラスタリングは目的変数と説明変数の関係性を表現しようとするモデル構築ではなく、データそのものに着目しそこに隠れた構造やインサイトを見つけ出すためのモデル構築と位置付けられます。\n",
    "\n",
    "そのためクラスタリングは、分析者自身が取り扱うデータの特徴を把握するための、探索的分析の第一歩として採用されることがあります。"
   ]
  },
  {
   "cell_type": "markdown",
   "metadata": {
    "lc_cell_meme": {
     "current": "dd6ac0d6-4193-11ea-86a9-02420a01000c",
     "next": "dd6ac194-4193-11ea-86a9-02420a01000c",
     "previous": "dd6ac018-4193-11ea-86a9-02420a01000c"
    }
   },
   "source": [
    "### 9.2.1 k-means法"
   ]
  },
  {
   "cell_type": "markdown",
   "metadata": {
    "lc_cell_meme": {
     "current": "dd6ac194-4193-11ea-86a9-02420a01000c",
     "next": "dd6ac248-4193-11ea-86a9-02420a01000c",
     "previous": "dd6ac0d6-4193-11ea-86a9-02420a01000c"
    }
   },
   "source": [
    "クラスタリングの目的は、与えられたデータを類似性の高いグループに分けることです。クラスターとは「集団」や「群れ」という意味です。\n",
    "\n",
    "たとえば車体形状などを持った自動車のデータ群をクラスタリングすると、軽自動車とトラックはその車体形状が違うので、異なる特徴を持った別々のクラスターに分割されるといったイメージです。\n",
    "\n",
    "クラスタリングで最も広く使われている手法は**k-means**法と呼ばれるものです。以下の図は、ある属性データ（収入、借入）をk-means法でクラスタリングした結果、顧客が3つのグループに分かれたところを示したものです。人間には自明に思えるこのようなデータのグループ化ですが、k-means法では以下の手順で実現します。\n",
    "\n"
   ]
  },
  {
   "cell_type": "markdown",
   "metadata": {
    "lc_cell_meme": {
     "current": "dd6ac248-4193-11ea-86a9-02420a01000c",
     "next": "dd6ac306-4193-11ea-86a9-02420a01000c",
     "previous": "dd6ac194-4193-11ea-86a9-02420a01000c"
    }
   },
   "source": [
    "- step1. 入力データをプロットする。\n",
    "- step2. ランダムに3つの点をプロットする。\n",
    "- step3. 各ランダム点を、クラスター1、クラスター2、クラスター3の重心点とラベリングする。\n",
    "- step4. 入力データの各点について、3つの重心点の中で最も近いものを選び、その番号を自身の所属クラスター番号とする。\n",
    "- step5. すべての入力データについてクラスター番号が決まった後、それぞれのクラスターの重心（平均）を計算する。\n",
    "- step6. step5で求めた3つの重心を新しいクラスターの重心点とする。\n",
    "- step7. step4からstep6を繰り返す。ただし、繰り返し上限回数に達するか、または重心の移動距離が十分に小さくなったら終了とする。"
   ]
  },
  {
   "cell_type": "markdown",
   "metadata": {
    "lc_cell_meme": {
     "current": "dd6ac306-4193-11ea-86a9-02420a01000c",
     "next": "dd6ac3c4-4193-11ea-86a9-02420a01000c",
     "previous": "dd6ac248-4193-11ea-86a9-02420a01000c"
    }
   },
   "source": [
    "（※図は書籍を参照してください※）"
   ]
  },
  {
   "cell_type": "markdown",
   "metadata": {
    "lc_cell_meme": {
     "current": "dd6ac3c4-4193-11ea-86a9-02420a01000c",
     "next": "dd6ac478-4193-11ea-86a9-02420a01000c",
     "previous": "dd6ac306-4193-11ea-86a9-02420a01000c"
    }
   },
   "source": [
    "Scikit-learnでk-meansを実行するには、`sklearn.cluster`モジュールの`KMeans`クラスを使います。`KMeans`クラスの初期化パラメータ（`init='random'`）を省略すると**k-means++**になります。\n",
    "\n",
    "k-means++は、k-meansで初期重心点をなるべく広げて取るように工夫した手法で、k-meansよりも安定的な結果が得られます。k-meansは先述の通り、ランダムに初期の重心点を配置するので、その影響で初期位置に偏りが生じる可能性があり、その解決を試みたのがk-means++です。\n",
    "\n",
    "他にも重心を平均（`centroid`）でなく、中央値（`medoid`）とする**k-medoids法**があります。平均は実在しないデータになりますが、このk-medoids法は中央値のため、重心位置が架空の数値をとる可能性を防げます。また外れ値による影響が少ないこともこの方法のメリットです。"
   ]
  },
  {
   "cell_type": "markdown",
   "metadata": {
    "lc_cell_meme": {
     "current": "dd6ac478-4193-11ea-86a9-02420a01000c",
     "next": "dd6ac540-4193-11ea-86a9-02420a01000c",
     "previous": "dd6ac3c4-4193-11ea-86a9-02420a01000c"
    }
   },
   "source": [
    ">**[やってみよう]**\n",
    ">\n",
    ">k-means、k-means++、k-medoidsについて調べてみましょう。それぞれのメリット、デメリットや実行方法など調べてみましょう。"
   ]
  },
  {
   "cell_type": "markdown",
   "metadata": {
    "lc_cell_meme": {
     "current": "dd6ac540-4193-11ea-86a9-02420a01000c",
     "next": "dd6ac69e-4193-11ea-86a9-02420a01000c",
     "previous": "dd6ac478-4193-11ea-86a9-02420a01000c"
    }
   },
   "source": [
    "### 9.2.2 k-means法でクラスタリングする\n",
    "\n",
    "ここでは、Scikit-learnを用いたk-means法でクラスタリングしてみます。\n",
    "\n",
    "#### 訓練データの作成\n",
    "訓練データは`sklearn.datasets`モジュールの`make_blobs`関数を使って作成するものとします。`make_blobs`関数は縦軸と横軸に各々標準偏差1.0の正規分布に従う乱数を生成する関数で、主にクラスタリング用のサンプルデータ生成に使われます。\n",
    "\n",
    "以下の例では`random_state`として10を指定しています。これは乱数を生成するためのシード（初期値）です。値を変えるとデータの分布状況が実行のたびに変わります。`make_blobs`関数には、とくに引数を与えなければ、-10から+10の範囲でランダムに2次元座標を選び、そこを中心に乱数の組を100個生成します。\n",
    "\n",
    "最後に生成した乱数をMatplotlibを使ってグラフ化しています。"
   ]
  },
  {
   "cell_type": "code",
   "execution_count": 2,
   "metadata": {
    "lc_cell_meme": {
     "current": "dd6ac69e-4193-11ea-86a9-02420a01000c",
     "execution_end_time": "2020-01-28T06:01:32.784534Z",
     "next": "dd6ac766-4193-11ea-86a9-02420a01000c",
     "previous": "dd6ac540-4193-11ea-86a9-02420a01000c"
    },
    "lc_wrapper": {
     "log_history": [
      "/home/yoko69d621/tokyo-u-data-science/ds_samplefiles/.log/20200128/20200128-060131-0784.log"
     ]
    }
   },
   "outputs": [
    {
     "data": {
      "text/plain": [
       "<matplotlib.collections.PathCollection at 0x7f16cf052048>"
      ]
     },
     "execution_count": 2,
     "metadata": {},
     "output_type": "execute_result"
    },
    {
     "data": {
      "image/png": "[encoded data removed]",
      "text/plain": [
       "<Figure size 432x288 with 1 Axes>"
      ]
     },
     "metadata": {
      "needs_background": "light"
     },
     "output_type": "display_data"
    }
   ],
   "source": [
    "# k-means法を使うためのインポート\n",
    "from sklearn.cluster import KMeans\n",
    "\n",
    "# データ取得のためのインポート\n",
    "from sklearn.datasets import make_blobs\n",
    "\n",
    "# サンプルデータ生成\n",
    "# 注意：make_blobsは2つの値を返すため、一方は使用しない「 _ 」で受け取る\n",
    "X, _ = make_blobs(random_state=10)\n",
    "\n",
    "# グラフを描画\n",
    "# colorのオプションで色付けができる\n",
    "plt.scatter(X[:,0],X[:,1],color='black')"
   ]
  },
  {
   "cell_type": "markdown",
   "metadata": {
    "lc_cell_meme": {
     "current": "dd6ac766-4193-11ea-86a9-02420a01000c",
     "next": "dd6ac82e-4193-11ea-86a9-02420a01000c",
     "previous": "dd6ac69e-4193-11ea-86a9-02420a01000c"
    }
   },
   "source": [
    "#### KMeansクラスを使ったクラスタリング\n",
    "\n",
    "k-meansモデルを使って学習し、クラスタリングした結果のそれぞれにクラスター番号を付与するプログラムは、次のようになります。クラスター番号は0から始まる整数となります。\n",
    "\n",
    "まず、`KMeans`クラスを初期化しオブジェクトを作成します。パラメータは`init='random'、n_clusters=3`と設定しています。`init`は初期化の方法です。このように`random`を設定するとk-means++ではなくk-means法となります。`n_clusters`にはクラスター数を設定します。\n",
    "\n",
    "KMeansクラスのオブジェクトを作ったら`fit`メソッドを実行します。するとクラスターの重心が計算され、`predict`メソッドを実行することでクラスター番号が予測されます。`fit`と`predict`を一連の処理として実行する`fit_predict`メソッドもありますが、基本的に構築したモデルを保存する可能性のある場合は、`fit`メソッドを単独で実施するのがよいでしょう。"
   ]
  },
  {
   "cell_type": "code",
   "execution_count": 3,
   "metadata": {
    "lc_cell_meme": {
     "current": "dd6ac82e-4193-11ea-86a9-02420a01000c",
     "execution_end_time": "2020-01-28T06:01:37.900774Z",
     "next": "dd6ac8ec-4193-11ea-86a9-02420a01000c",
     "previous": "dd6ac766-4193-11ea-86a9-02420a01000c"
    },
    "lc_wrapper": {
     "log_history": [
      "/home/yoko69d621/tokyo-u-data-science/ds_samplefiles/.log/20200128/20200128-060137-0879.log"
     ]
    }
   },
   "outputs": [],
   "source": [
    "# KMeansクラスの初期化\n",
    "kmeans = KMeans(init='random',n_clusters=3)\n",
    "\n",
    "# クラスターの重心を計算\n",
    "kmeans.fit(X)\n",
    "\n",
    "# クラスター番号を予測\n",
    "y_pred = kmeans.predict(X)"
   ]
  },
  {
   "cell_type": "markdown",
   "metadata": {
    "lc_cell_meme": {
     "current": "dd6ac8ec-4193-11ea-86a9-02420a01000c",
     "next": "dd6ac9b4-4193-11ea-86a9-02420a01000c",
     "previous": "dd6ac82e-4193-11ea-86a9-02420a01000c"
    }
   },
   "source": [
    "#### 結果の確認\n",
    "\n",
    "k-meansの学習結果をグラフ化し確認してみましょう。グラフには6章で学んだPandasのテクニックを使います。まず、`concat`でデータを結合します。x座標、y座標、クラスター番号のデータを順に横に結合するため`axis=1`と指定します。\n",
    "\n",
    "\n",
    "グラフ化は、クラスター番号ごとにデータを取り出し、色を指定して図示しています。k-means法によって、私たちが期待する通りの3つのグループにデータを分けられていることが確認できます。\n"
   ]
  },
  {
   "cell_type": "code",
   "execution_count": 4,
   "metadata": {
    "lc_cell_meme": {
     "current": "dd6ac9b4-4193-11ea-86a9-02420a01000c",
     "execution_end_time": "2020-01-28T06:01:40.739162Z",
     "next": "dd6aca7c-4193-11ea-86a9-02420a01000c",
     "previous": "dd6ac8ec-4193-11ea-86a9-02420a01000c"
    },
    "lc_wrapper": {
     "log_history": [
      "/home/yoko69d621/tokyo-u-data-science/ds_samplefiles/.log/20200128/20200128-060140-0483.log"
     ]
    }
   },
   "outputs": [
    {
     "data": {
      "image/png": "[encoded data removed]",
      "text/plain": [
       "<Figure size 432x288 with 1 Axes>"
      ]
     },
     "metadata": {
      "needs_background": "light"
     },
     "output_type": "display_data"
    }
   ],
   "source": [
    "# concatでデータを横に結合(axis=1を指定)\n",
    "merge_data = pd.concat([pd.DataFrame(X[:,0]), pd.DataFrame(X[:,1]), pd.DataFrame(y_pred)], axis=1)\n",
    "\n",
    "# 上記のデータにて、X軸をfeature1、Y軸をfeature2、クラスター番号をclusterと列名指定\n",
    "merge_data.columns = ['feature1','feature2','cluster']\n",
    "\n",
    "# クラスタリング結果のグラフ化\n",
    "ax = None\n",
    "colors = ['blue', 'red', 'green']\n",
    "for i, data in merge_data.groupby('cluster'):\n",
    "    ax = data.plot.scatter(x='feature1', y='feature2', color=colors[i],\n",
    "                                           label=f'cluster{i}', ax=ax)"
   ]
  },
  {
   "cell_type": "markdown",
   "metadata": {
    "lc_cell_meme": {
     "current": "dd6aca7c-4193-11ea-86a9-02420a01000c",
     "next": "dd6acb44-4193-11ea-86a9-02420a01000c",
     "previous": "dd6ac9b4-4193-11ea-86a9-02420a01000c"
    }
   },
   "source": [
    "### 9.2.3 金融マーケティングデータをクラスタリングする\n",
    "さてここからは、クラスタリング結果の活用イメージを深めるため、金融マーケティングデータを使ってクラスタリングを実行し、その結果を詳しくみていきましょう。\n",
    "\n",
    "#### 分析要求\n",
    "データはある金融機関のデータで、顧客が定期預金口座開設の申し込みをしたか否かの変数を含んでいます。その他の変数にはキャンペーンの実施状況、顧客の属性情報などの情報が含まれています。このデータをクライアントから受け取り、「そもそも私たちにどのような顧客がいるのかわからないので分析してほしい」という分析要求を提示されたと仮定しましょう。"
   ]
  },
  {
   "cell_type": "markdown",
   "metadata": {
    "lc_cell_meme": {
     "current": "dd6acb44-4193-11ea-86a9-02420a01000c",
     "next": "dd6accb6-4193-11ea-86a9-02420a01000c",
     "previous": "dd6aca7c-4193-11ea-86a9-02420a01000c"
    }
   },
   "source": [
    "\n",
    "教師あり学習のアプローチで考えるならば、定期預金口座開設の申し込みをしたか否かを目的変数にしてモデルを構築したいところですが、クライアントの分析要求は必ずしも目的変数を特定したものではありません。データ分析の現場では目的変数が定まらないということは珍しくなく、分析者自身がデータ理解を深めるための第一歩として教師なし学習（クラスタリング）を採用することがあります。"
   ]
  },
  {
   "cell_type": "markdown",
   "metadata": {
    "lc_cell_meme": {
     "current": "dd6accb6-4193-11ea-86a9-02420a01000c",
     "next": "dd6acd88-4193-11ea-86a9-02420a01000c",
     "previous": "dd6acb44-4193-11ea-86a9-02420a01000c"
    }
   },
   "source": [
    "#### 分析対象データのダウンロードと読み込み\n",
    "ここで対象とするデータは下記のURLで配布されている学習用のデータで、それに含まれるbank-full.csvファイルとします。\n",
    "\n",
    "http://archive.ics.uci.edu/ml/machine-learning-databases/00222/bank.zip\n",
    "\n",
    "まずはこのデータをダウンロードして展開します。3章でも同じ方法でダウンロード、ZIPファイルの解凍などを実施しました。"
   ]
  },
  {
   "cell_type": "code",
   "execution_count": 5,
   "metadata": {
    "lc_cell_meme": {
     "current": "dd6acd88-4193-11ea-86a9-02420a01000c",
     "execution_end_time": "2020-01-28T06:01:48.451263Z",
     "next": "dd6acedc-4193-11ea-86a9-02420a01000c",
     "previous": "dd6accb6-4193-11ea-86a9-02420a01000c"
    },
    "lc_wrapper": {
     "log_history": [
      "/home/yoko69d621/tokyo-u-data-science/ds_samplefiles/.log/20200128/20200128-060146-0950.log"
     ]
    }
   },
   "outputs": [],
   "source": [
    "# webからデータを取得したり、zipファイルを扱うためのライブラリをインポート\n",
    "import requests, zipfile\n",
    "import io\n",
    "\n",
    "# データがあるurl の指定\n",
    "zip_file_url = 'http://archive.ics.uci.edu/ml/machine-learning-databases/00222/bank.zip'\n",
    "\n",
    "# データを取得して展開する\n",
    "r = requests.get(zip_file_url, stream=True)\n",
    "z = zipfile.ZipFile(io.BytesIO(r.content))\n",
    "z.extractall()"
   ]
  },
  {
   "cell_type": "markdown",
   "metadata": {
    "lc_cell_meme": {
     "current": "dd6acedc-4193-11ea-86a9-02420a01000c",
     "next": "dd6acfd6-4193-11ea-86a9-02420a01000c",
     "previous": "dd6acd88-4193-11ea-86a9-02420a01000c"
    }
   },
   "source": [
    "対象データは`bank-full.csv`のため、それを読み込みます。区切り記号は`seq`パラメータで設定しています。先頭から5行を`head`で表示すると次のようになります。"
   ]
  },
  {
   "cell_type": "code",
   "execution_count": 6,
   "metadata": {
    "lc_cell_meme": {
     "current": "dd6acfd6-4193-11ea-86a9-02420a01000c",
     "execution_end_time": "2020-01-28T06:01:53.190591Z",
     "next": "dd6ad148-4193-11ea-86a9-02420a01000c",
     "previous": "dd6acedc-4193-11ea-86a9-02420a01000c"
    },
    "lc_wrapper": {
     "log_history": [
      "/home/yoko69d621/tokyo-u-data-science/ds_samplefiles/.log/20200128/20200128-060153-0098.log"
     ]
    },
    "scrolled": true
   },
   "outputs": [
    {
     "data": {
      "text/html": [
       "<div>\n",
       "<style scoped>\n",
       "    .dataframe tbody tr th:only-of-type {\n",
       "        vertical-align: middle;\n",
       "    }\n",
       "\n",
       "    .dataframe tbody tr th {\n",
       "        vertical-align: top;\n",
       "    }\n",
       "\n",
       "    .dataframe thead th {\n",
       "        text-align: right;\n",
       "    }\n",
       "</style>\n",
       "<table border=\"1\" class=\"dataframe\">\n",
       "  <thead>\n",
       "    <tr style=\"text-align: right;\">\n",
       "      <th></th>\n",
       "      <th>age</th>\n",
       "      <th>job</th>\n",
       "      <th>marital</th>\n",
       "      <th>education</th>\n",
       "      <th>default</th>\n",
       "      <th>balance</th>\n",
       "      <th>housing</th>\n",
       "      <th>loan</th>\n",
       "      <th>contact</th>\n",
       "      <th>day</th>\n",
       "      <th>month</th>\n",
       "      <th>duration</th>\n",
       "      <th>campaign</th>\n",
       "      <th>pdays</th>\n",
       "      <th>previous</th>\n",
       "      <th>poutcome</th>\n",
       "      <th>y</th>\n",
       "    </tr>\n",
       "  </thead>\n",
       "  <tbody>\n",
       "    <tr>\n",
       "      <th>0</th>\n",
       "      <td>58</td>\n",
       "      <td>management</td>\n",
       "      <td>married</td>\n",
       "      <td>tertiary</td>\n",
       "      <td>no</td>\n",
       "      <td>2143</td>\n",
       "      <td>yes</td>\n",
       "      <td>no</td>\n",
       "      <td>unknown</td>\n",
       "      <td>5</td>\n",
       "      <td>may</td>\n",
       "      <td>261</td>\n",
       "      <td>1</td>\n",
       "      <td>-1</td>\n",
       "      <td>0</td>\n",
       "      <td>unknown</td>\n",
       "      <td>no</td>\n",
       "    </tr>\n",
       "    <tr>\n",
       "      <th>1</th>\n",
       "      <td>44</td>\n",
       "      <td>technician</td>\n",
       "      <td>single</td>\n",
       "      <td>secondary</td>\n",
       "      <td>no</td>\n",
       "      <td>29</td>\n",
       "      <td>yes</td>\n",
       "      <td>no</td>\n",
       "      <td>unknown</td>\n",
       "      <td>5</td>\n",
       "      <td>may</td>\n",
       "      <td>151</td>\n",
       "      <td>1</td>\n",
       "      <td>-1</td>\n",
       "      <td>0</td>\n",
       "      <td>unknown</td>\n",
       "      <td>no</td>\n",
       "    </tr>\n",
       "    <tr>\n",
       "      <th>2</th>\n",
       "      <td>33</td>\n",
       "      <td>entrepreneur</td>\n",
       "      <td>married</td>\n",
       "      <td>secondary</td>\n",
       "      <td>no</td>\n",
       "      <td>2</td>\n",
       "      <td>yes</td>\n",
       "      <td>yes</td>\n",
       "      <td>unknown</td>\n",
       "      <td>5</td>\n",
       "      <td>may</td>\n",
       "      <td>76</td>\n",
       "      <td>1</td>\n",
       "      <td>-1</td>\n",
       "      <td>0</td>\n",
       "      <td>unknown</td>\n",
       "      <td>no</td>\n",
       "    </tr>\n",
       "    <tr>\n",
       "      <th>3</th>\n",
       "      <td>47</td>\n",
       "      <td>blue-collar</td>\n",
       "      <td>married</td>\n",
       "      <td>unknown</td>\n",
       "      <td>no</td>\n",
       "      <td>1506</td>\n",
       "      <td>yes</td>\n",
       "      <td>no</td>\n",
       "      <td>unknown</td>\n",
       "      <td>5</td>\n",
       "      <td>may</td>\n",
       "      <td>92</td>\n",
       "      <td>1</td>\n",
       "      <td>-1</td>\n",
       "      <td>0</td>\n",
       "      <td>unknown</td>\n",
       "      <td>no</td>\n",
       "    </tr>\n",
       "    <tr>\n",
       "      <th>4</th>\n",
       "      <td>33</td>\n",
       "      <td>unknown</td>\n",
       "      <td>single</td>\n",
       "      <td>unknown</td>\n",
       "      <td>no</td>\n",
       "      <td>1</td>\n",
       "      <td>no</td>\n",
       "      <td>no</td>\n",
       "      <td>unknown</td>\n",
       "      <td>5</td>\n",
       "      <td>may</td>\n",
       "      <td>198</td>\n",
       "      <td>1</td>\n",
       "      <td>-1</td>\n",
       "      <td>0</td>\n",
       "      <td>unknown</td>\n",
       "      <td>no</td>\n",
       "    </tr>\n",
       "  </tbody>\n",
       "</table>\n",
       "</div>"
      ],
      "text/plain": [
       "   age           job  marital  education default  balance housing loan  \\\n",
       "0   58    management  married   tertiary      no     2143     yes   no   \n",
       "1   44    technician   single  secondary      no       29     yes   no   \n",
       "2   33  entrepreneur  married  secondary      no        2     yes  yes   \n",
       "3   47   blue-collar  married    unknown      no     1506     yes   no   \n",
       "4   33       unknown   single    unknown      no        1      no   no   \n",
       "\n",
       "   contact  day month  duration  campaign  pdays  previous poutcome   y  \n",
       "0  unknown    5   may       261         1     -1         0  unknown  no  \n",
       "1  unknown    5   may       151         1     -1         0  unknown  no  \n",
       "2  unknown    5   may        76         1     -1         0  unknown  no  \n",
       "3  unknown    5   may        92         1     -1         0  unknown  no  \n",
       "4  unknown    5   may       198         1     -1         0  unknown  no  "
      ]
     },
     "execution_count": 6,
     "metadata": {},
     "output_type": "execute_result"
    }
   ],
   "source": [
    "#対象データを読み込み\n",
    "bank= pd.read_csv('bank-full.csv', sep=';')\n",
    "\n",
    "# 先頭の5行を表示\n",
    "bank.head()"
   ]
  },
  {
   "cell_type": "markdown",
   "metadata": {
    "lc_cell_meme": {
     "current": "dd6ad148-4193-11ea-86a9-02420a01000c",
     "next": "dd6ad22e-4193-11ea-86a9-02420a01000c",
     "previous": "dd6acfd6-4193-11ea-86a9-02420a01000c"
    }
   },
   "source": [
    "データの意味は、zipファイルに含まれているbank-names.txtに記載されています。以下に、その一部を抜粋します。Input variablesが説明変数、Output variableが目的変数ですが、ここでは目的変数を予測するかどうかは意識しないでおきましょう。`age`などの連続変数の他に、`job`や`education`といったカテゴリ変数が存在していることがわかります。"
   ]
  },
  {
   "cell_type": "markdown",
   "metadata": {
    "lc_cell_meme": {
     "current": "dd6ad22e-4193-11ea-86a9-02420a01000c",
     "next": "dd6ad300-4193-11ea-86a9-02420a01000c",
     "previous": "dd6ad148-4193-11ea-86a9-02420a01000c"
    }
   },
   "source": [
    "-Input variables:\n",
    "- ##### bank client data:\n",
    "1 - age (numeric)  \n",
    "2 - job : type of job (categorical: \"admin.\",\"unknown\",\"unemployed\",\"management\",\"housemaid\",\"entrepreneur\",\"student\",\"blue-collar\",\"self-employed\",\"retired\",\"technician\",\"services\")  \n",
    "3 - marital : marital status (categorical: \"married\",\"divorced\",\"single\"; note: \"divorced\" means divorced or widowed)  \n",
    "4 - education (categorical: \"unknown\",\"secondary\",\"primary\",\"tertiary\")  \n",
    "5 - default: has credit in default? (binary: \"yes\",\"no\")  \n",
    "6 - balance: average yearly balance, in euros (numeric)    \n",
    "7 - housing: has housing loan? (binary: \"yes\",\"no\")  \n",
    "8 - loan: has personal loan? (binary: \"yes\",\"no\")   \n",
    "- ##### related with the last contact of the current campaign:\n",
    "9 - contact: contact communication type (categorical: \"unknown\",\"telephone\",\"cellular\")   \n",
    "10 - day: last contact day of the month (numeric)  \n",
    "11 - month: last contact month of year (categorical: \"jan\", \"feb\", \"mar\", ..., \"nov\", \"dec\")  \n",
    "12 - duration: last contact duration, in seconds (numeric)  \n",
    "- ##### other attributes:\n",
    "13 - campaign: number of contacts performed during this campaign and for this client (numeric, includes last contact)  \n",
    "14 - pdays: number of days that passed by after the client was last contacted from a previous campaign (numeric, -1 means client was not previously contacted)  \n",
    "15 - previous: number of contacts performed before this campaign and for this client (numeric)  \n",
    "16 - poutcome: outcome of the previous marketing campaign (categorical: \"unknown\",\"other\",\"failure\",\"success\")  \n",
    "\n",
    "-Output variable:\n",
    "- ##### desired target\n",
    "17 - y - has the client subscribed a term deposit? (binary: \"yes\",\"no\")"
   ]
  },
  {
   "cell_type": "markdown",
   "metadata": {
    "lc_cell_meme": {
     "current": "dd6ad300-4193-11ea-86a9-02420a01000c",
     "next": "dd6ad3c8-4193-11ea-86a9-02420a01000c",
     "previous": "dd6ad22e-4193-11ea-86a9-02420a01000c"
    }
   },
   "source": [
    "#### データの整理と標準化\n",
    "データのレコード数や変数の数、欠損データを確認しておきましょう。下記のプログラムを実行することで、データは45,211行17列とわかります。また、欠損データはないことがわかります。"
   ]
  },
  {
   "cell_type": "code",
   "execution_count": 7,
   "metadata": {
    "lc_cell_meme": {
     "current": "dd6ad3c8-4193-11ea-86a9-02420a01000c",
     "execution_end_time": "2020-01-28T06:01:57.710727Z",
     "next": "dd6ad49a-4193-11ea-86a9-02420a01000c",
     "previous": "dd6ad300-4193-11ea-86a9-02420a01000c"
    },
    "lc_wrapper": {
     "log_history": [
      "/home/yoko69d621/tokyo-u-data-science/ds_samplefiles/.log/20200128/20200128-060157-0685.log"
     ]
    },
    "scrolled": true
   },
   "outputs": [
    {
     "name": "stdout",
     "output_type": "stream",
     "text": [
      "データ形式(X,y):(45211, 17)\n",
      "欠損データの数:0\n"
     ]
    }
   ],
   "source": [
    "print('データ形式(X,y):{}'.format(bank.shape))\n",
    "print('欠損データの数:{}'.format(bank.isnull().sum().sum()))"
   ]
  },
  {
   "cell_type": "markdown",
   "metadata": {
    "lc_cell_meme": {
     "current": "dd6ad49a-4193-11ea-86a9-02420a01000c",
     "next": "dd6ad562-4193-11ea-86a9-02420a01000c",
     "previous": "dd6ad3c8-4193-11ea-86a9-02420a01000c"
    }
   },
   "source": [
    "ここでは話を簡単にするため、分析対象の変数をage（年齢）、balance（年間平均残高）、campaign（今回のキャンペーンでのコンタクト回数）、previous（以前のキャンペーンでのコンタクト回数）に限定することにします。これらの変数は、それぞれ単位が異なるので、教師あり学習でも行った標準化を前処理として行います。こうすることで値の大きな変数にクラスタリングの学習が引っ張られずに済みます。"
   ]
  },
  {
   "cell_type": "code",
   "execution_count": 8,
   "metadata": {
    "lc_cell_meme": {
     "current": "dd6ad562-4193-11ea-86a9-02420a01000c",
     "execution_end_time": "2020-01-28T06:02:00.066746Z",
     "next": "dd6ad62a-4193-11ea-86a9-02420a01000c",
     "previous": "dd6ad49a-4193-11ea-86a9-02420a01000c"
    },
    "lc_wrapper": {
     "log_history": [
      "/home/yoko69d621/tokyo-u-data-science/ds_samplefiles/.log/20200128/20200128-060200-0052.log"
     ]
    }
   },
   "outputs": [],
   "source": [
    "from sklearn.preprocessing import StandardScaler\n",
    "\n",
    "# データの列の絞り込み\n",
    "bank_sub = bank[['age','balance','campaign','previous']]\n",
    "\n",
    "# 標準化\n",
    "sc = StandardScaler()\n",
    "sc.fit(bank_sub)\n",
    "bank_sub_std = sc.transform(bank_sub)"
   ]
  },
  {
   "cell_type": "code",
   "execution_count": 9,
   "metadata": {
    "lc_cell_meme": {
     "current": "dd6ad62a-4193-11ea-86a9-02420a01000c",
     "execution_end_time": "2020-01-28T06:02:03.792864Z",
     "next": "dd6ad6f2-4193-11ea-86a9-02420a01000c",
     "previous": "dd6ad562-4193-11ea-86a9-02420a01000c"
    },
    "lc_wrapper": {
     "log_history": [
      "/home/yoko69d621/tokyo-u-data-science/ds_samplefiles/.log/20200128/20200128-060203-0783.log"
     ]
    }
   },
   "outputs": [
    {
     "name": "stdout",
     "output_type": "stream",
     "text": [
      "<class 'pandas.core.frame.DataFrame'>\n",
      "RangeIndex: 45211 entries, 0 to 45210\n",
      "Data columns (total 4 columns):\n",
      "age         45211 non-null int64\n",
      "balance     45211 non-null int64\n",
      "campaign    45211 non-null int64\n",
      "previous    45211 non-null int64\n",
      "dtypes: int64(4)\n",
      "memory usage: 1.4 MB\n"
     ]
    }
   ],
   "source": [
    "bank_sub.info()"
   ]
  },
  {
   "cell_type": "markdown",
   "metadata": {
    "lc_cell_meme": {
     "current": "dd6ad6f2-4193-11ea-86a9-02420a01000c",
     "next": "dd6ad85a-4193-11ea-86a9-02420a01000c",
     "previous": "dd6ad62a-4193-11ea-86a9-02420a01000c"
    }
   },
   "source": [
    "#### クラスタリング処理\n",
    "データを標準化したら、k-meansでクラスタリング処理を実行します。ここではクラスター数を6としました。この数を決める方法ついては後程説明します。クラスタリング処理を終えたら、`kmeans`オブジェクトの`labels_`属性から、各データの所属クラスター番号を配列で取得できます。以下のプログラムでは`pandas`の`Series`オブジェクトに変換してクラスター別のデータ件数を集計し、クラスター構成を棒グラフで表示しています。"
   ]
  },
  {
   "cell_type": "code",
   "execution_count": 10,
   "metadata": {
    "lc_cell_meme": {
     "current": "dd6ad85a-4193-11ea-86a9-02420a01000c",
     "execution_end_time": "2020-01-28T06:02:07.629915Z",
     "next": "dd6ad9ae-4193-11ea-86a9-02420a01000c",
     "previous": "dd6ad6f2-4193-11ea-86a9-02420a01000c"
    },
    "lc_wrapper": {
     "log_history": [
      "/home/yoko69d621/tokyo-u-data-science/ds_samplefiles/.log/20200128/20200128-060206-0479.log"
     ]
    }
   },
   "outputs": [
    {
     "name": "stdout",
     "output_type": "stream",
     "text": [
      "0    24509\n",
      "1      221\n",
      "2     2684\n",
      "3     1380\n",
      "4    14734\n",
      "5     1683\n",
      "Name: cluster_number, dtype: int64\n"
     ]
    },
    {
     "data": {
      "text/plain": [
       "Text(0, 0.5, 'count')"
      ]
     },
     "execution_count": 10,
     "metadata": {},
     "output_type": "execute_result"
    },
    {
     "data": {
      "image/png": "[encoded data removed]",
      "text/plain": [
       "<Figure size 432x288 with 1 Axes>"
      ]
     },
     "metadata": {
      "needs_background": "light"
     },
     "output_type": "display_data"
    }
   ],
   "source": [
    "# KMeansクラスの初期化\n",
    "kmeans = KMeans(init='random', n_clusters=6, random_state=0)\n",
    "\n",
    "# クラスターの重心を計算\n",
    "kmeans.fit(bank_sub_std)\n",
    "\n",
    "# クラスター番号をpandasのSeriesオブジェクトに変換\n",
    "labels = pd.Series(kmeans.labels_, name='cluster_number')\n",
    "\n",
    "# クラスター番号と件数を表示\n",
    "print(labels.value_counts(sort=False))\n",
    "\n",
    "# グラフを描画\n",
    "ax = labels.value_counts(sort=False).plot(kind='bar')\n",
    "ax.set_xlabel('cluster number')\n",
    "ax.set_ylabel('count')"
   ]
  },
  {
   "cell_type": "markdown",
   "metadata": {
    "lc_cell_meme": {
     "current": "dd6ad9ae-4193-11ea-86a9-02420a01000c",
     "next": "dd6ada6c-4193-11ea-86a9-02420a01000c",
     "previous": "dd6ad85a-4193-11ea-86a9-02420a01000c"
    }
   },
   "source": [
    "上記の結果を見ると、クラスター0やクラスター4にいるグループが比較的多いということがわかります。"
   ]
  },
  {
   "cell_type": "markdown",
   "metadata": {
    "lc_cell_meme": {
     "current": "dd6ada6c-4193-11ea-86a9-02420a01000c",
     "next": "dd6adb2a-4193-11ea-86a9-02420a01000c",
     "previous": "dd6ad9ae-4193-11ea-86a9-02420a01000c"
    }
   },
   "source": [
    "### 9.2.4 エルボー法によるクラスター数の推定\n",
    "ここではクラスター数を6と決め打ちしましたが、クラスター数を事前に見積もる方法の1つとして**エルボー法**があります。エルボー法はクラスターの重心点とクラスター所属の各点の距離の総和に着目します。クラスター数が1つから適切な数まで増える過程では、各点がより近いクラスター重心に所属できるようになるので、この総和は相応に減少することが期待できます。\n",
    "\n",
    "一方、いったん適切な数を超えて、さらにクラスター数が増える過程では、この総和の減少度合いが低下すると予想されます。このように、クラスター数の増加に伴う重心点と各点の距離の総和の減少度合いの変わり目に着目して、適切なクラスター数を決めようと判断しようとするのがエルボー法です。"
   ]
  },
  {
   "cell_type": "markdown",
   "metadata": {
    "lc_cell_meme": {
     "current": "dd6adb2a-4193-11ea-86a9-02420a01000c",
     "next": "dd6adbe8-4193-11ea-86a9-02420a01000c",
     "previous": "dd6ada6c-4193-11ea-86a9-02420a01000c"
    }
   },
   "source": [
    "まずは、9.2.2の最初に`make_blobs`関数で生成したデータXに対してエルボー法を試します。距離の総和は`KMeans`オブジェクトの`inertia_`属性で取得できます。クラスター数1から10までの距離の総和を求めてグラフにしたのが、次の図です。\n",
    "\n",
    "結果を見るとわかるように、クラスター数が3を超えると、縦軸の減少幅が急速に低下しています。ですから、適切なクラスター数は3であると推定できます。このように距離の総和を見ると、理想的なクラスター数を境に縦軸低下の傾きが変化します。この形状がエルボー（肘）のように見えることからエルボー法と名付けられました。"
   ]
  },
  {
   "cell_type": "code",
   "execution_count": 11,
   "metadata": {
    "lc_cell_meme": {
     "current": "dd6adbe8-4193-11ea-86a9-02420a01000c",
     "execution_end_time": "2020-01-28T06:02:12.653289Z",
     "next": "dd6adc9c-4193-11ea-86a9-02420a01000c",
     "previous": "dd6adb2a-4193-11ea-86a9-02420a01000c"
    },
    "lc_wrapper": {
     "log_history": [
      "/home/yoko69d621/tokyo-u-data-science/ds_samplefiles/.log/20200128/20200128-060212-0350.log"
     ]
    }
   },
   "outputs": [
    {
     "data": {
      "text/plain": [
       "Text(0, 0.5, 'Distortion')"
      ]
     },
     "execution_count": 11,
     "metadata": {},
     "output_type": "execute_result"
    },
    {
     "data": {
      "image/png": "[encoded data removed]",
      "text/plain": [
       "<Figure size 432x288 with 1 Axes>"
      ]
     },
     "metadata": {
      "needs_background": "light"
     },
     "output_type": "display_data"
    }
   ],
   "source": [
    "# エルボー方による推定。クラスター数を1から10に増やして、それぞれの距離の総和を求める\n",
    "dist_list =[]\n",
    "for i in range(1,10):\n",
    "    kmeans= KMeans(n_clusters=i, init='random', random_state=0)\n",
    "    kmeans.fit(X)\n",
    "    dist_list.append(kmeans.inertia_)\n",
    "    \n",
    "# グラフを表示\n",
    "plt.plot(range(1,10), dist_list,marker='+')\n",
    "plt.xlabel('Number of clusters')\n",
    "plt.ylabel('Distortion')"
   ]
  },
  {
   "cell_type": "markdown",
   "metadata": {
    "lc_cell_meme": {
     "current": "dd6adc9c-4193-11ea-86a9-02420a01000c",
     "next": "dd6add5a-4193-11ea-86a9-02420a01000c",
     "previous": "dd6adbe8-4193-11ea-86a9-02420a01000c"
    }
   },
   "source": [
    "エルボー法の仕組みが分かったところで、金融期間のマーケティングデータに対してもエルボー法を試してみましょう。ここではクラスター数1から20までの距離の総和をグラフにしてみました。"
   ]
  },
  {
   "cell_type": "code",
   "execution_count": 12,
   "metadata": {
    "lc_cell_meme": {
     "current": "dd6add5a-4193-11ea-86a9-02420a01000c",
     "execution_end_time": "2020-01-28T06:03:11.502195Z",
     "next": "dd6ade18-4193-11ea-86a9-02420a01000c",
     "previous": "dd6adc9c-4193-11ea-86a9-02420a01000c"
    },
    "lc_wrapper": {
     "log_history": [
      "/home/yoko69d621/tokyo-u-data-science/ds_samplefiles/.log/20200128/20200128-060215-0484.log"
     ]
    }
   },
   "outputs": [
    {
     "data": {
      "text/plain": [
       "Text(0, 0.5, 'Distortion')"
      ]
     },
     "execution_count": 12,
     "metadata": {},
     "output_type": "execute_result"
    },
    {
     "data": {
      "image/png": "[encoded data removed]",
      "text/plain": [
       "<Figure size 432x288 with 1 Axes>"
      ]
     },
     "metadata": {
      "needs_background": "light"
     },
     "output_type": "display_data"
    }
   ],
   "source": [
    "# エルボー方による推定。クラスター数を1から20に増やして、それぞれの距離の総和を求める\n",
    "dist_list =[]\n",
    "for i in range(1,20):\n",
    "    kmeans= KMeans(n_clusters=i, init='random', random_state=0)\n",
    "    kmeans.fit(bank_sub_std)\n",
    "    dist_list.append(kmeans.inertia_)\n",
    "    \n",
    "# グラフを表示\n",
    "plt.plot(range(1,20), dist_list,marker='+')\n",
    "plt.xlabel('Number of clusters')\n",
    "plt.ylabel('Distortion')"
   ]
  },
  {
   "cell_type": "markdown",
   "metadata": {
    "lc_cell_meme": {
     "current": "dd6ade18-4193-11ea-86a9-02420a01000c",
     "next": "dd6aded6-4193-11ea-86a9-02420a01000c",
     "previous": "dd6add5a-4193-11ea-86a9-02420a01000c"
    }
   },
   "source": [
    "先の`make_blobs`関数の結果に対して実施したほど明らかではありませんが、クラスター数が5〜6付近で減少幅がやや低下していることがわかります。もしエルボー法で傾向が見られない場合は、**シルエット係数**の算出など、その他のクラスター数判断のための方法を試す、分析領域の固有知識に基づき分析対象変数を変更し、再度エルボー法にかける、またはデータの概要把握と割り切り解釈可能な範囲のクラスター数で処理を進めるなどしましょう。"
   ]
  },
  {
   "cell_type": "markdown",
   "metadata": {
    "lc_cell_meme": {
     "current": "dd6aded6-4193-11ea-86a9-02420a01000c",
     "next": "dd6adf94-4193-11ea-86a9-02420a01000c",
     "previous": "dd6ade18-4193-11ea-86a9-02420a01000c"
    }
   },
   "source": [
    ">**[やってみよう]**\n",
    ">\n",
    ">シルエット係数について調べてみましょう。"
   ]
  },
  {
   "cell_type": "markdown",
   "metadata": {
    "collapsed": true,
    "lc_cell_meme": {
     "current": "dd6adf94-4193-11ea-86a9-02420a01000c",
     "next": "dd6ae048-4193-11ea-86a9-02420a01000c",
     "previous": "dd6aded6-4193-11ea-86a9-02420a01000c"
    }
   },
   "source": [
    "### 12.2.5 クラスタリング結果の解釈\n",
    "k-means法によるクラスタリングの実行方法は以上です。ここからはクラスタリングの処理結果を利用したデータの解釈を試みたいと思います。まず金融マーケティングデータの元データに対して、先程得たクラスタリング結果を紐付けます。これによりデータの一番右に`cluster_number`という変数が追加されました。これが分類されたクラスターの番号となります。"
   ]
  },
  {
   "cell_type": "code",
   "execution_count": null,
   "metadata": {
    "lc_cell_meme": {
     "current": "dd6ae048-4193-11ea-86a9-02420a01000c",
     "next": "dd6ae11a-4193-11ea-86a9-02420a01000c",
     "previous": "dd6adf94-4193-11ea-86a9-02420a01000c"
    }
   },
   "outputs": [],
   "source": [
    "# 金融機関のデータにクラスター番号のデータを結合\n",
    "bank_with_cluster = pd.concat([bank, labels], axis=1)\n",
    "\n",
    "# 先頭の5行を表示\n",
    "bank_with_cluster.head()"
   ]
  },
  {
   "cell_type": "markdown",
   "metadata": {
    "collapsed": true,
    "lc_cell_meme": {
     "current": "dd6ae11a-4193-11ea-86a9-02420a01000c",
     "next": "dd6ae1d8-4193-11ea-86a9-02420a01000c",
     "previous": "dd6ae048-4193-11ea-86a9-02420a01000c"
    }
   },
   "source": [
    "次に、クラスター別の年齢層を確認してみます。それには6章で学んだビン分割とピボットの機能を使います。軸はクラスター番号（cluster_number）と年齢（age）です。年齢は15歳から5歳区切りを基本に、最後は65歳以上100歳未満で区切ってみます。"
   ]
  },
  {
   "cell_type": "code",
   "execution_count": null,
   "metadata": {
    "lc_cell_meme": {
     "current": "dd6ae1d8-4193-11ea-86a9-02420a01000c",
     "next": "dd6ae28c-4193-11ea-86a9-02420a01000c",
     "previous": "dd6ae11a-4193-11ea-86a9-02420a01000c"
    }
   },
   "outputs": [],
   "source": [
    "# 分割のための区切りを設定\n",
    "bins = [15,20,25,30,35,40,45,50,55,60,65,100]\n",
    "\n",
    "# 上の区切りをもとに金融機関のデータを分割し、qcut_age変数に各データの年齢層を設定\n",
    "qcut_age = pd.cut(bank_with_cluster.age, bins, right=False)\n",
    "\n",
    "# クラスタ番号と年齢層を結合\n",
    "df = pd.concat([bank_with_cluster.cluster_number, qcut_age], axis=1)\n",
    "\n",
    "# クラスタ番号と年齢層を軸に集計し、年齢層を列に設定\n",
    "cross_cluster_age = df.groupby(['cluster_number', 'age']).size().unstack().fillna(0)\n",
    "cross_cluster_age"
   ]
  },
  {
   "cell_type": "markdown",
   "metadata": {
    "collapsed": true,
    "lc_cell_meme": {
     "current": "dd6ae28c-4193-11ea-86a9-02420a01000c",
     "next": "dd6ae354-4193-11ea-86a9-02420a01000c",
     "previous": "dd6ae1d8-4193-11ea-86a9-02420a01000c"
    }
   },
   "source": [
    "以下は、それぞれの年齢区切りで何人いるかカウントしています。"
   ]
  },
  {
   "cell_type": "code",
   "execution_count": null,
   "metadata": {
    "lc_cell_meme": {
     "current": "dd6ae354-4193-11ea-86a9-02420a01000c",
     "next": "dd6ae408-4193-11ea-86a9-02420a01000c",
     "previous": "dd6ae28c-4193-11ea-86a9-02420a01000c"
    }
   },
   "outputs": [],
   "source": [
    "# 分割したデータ数をカウント\n",
    "hist_age = pd.value_counts(qcut_age)\n",
    "hist_age"
   ]
  },
  {
   "cell_type": "markdown",
   "metadata": {
    "collapsed": true,
    "lc_cell_meme": {
     "current": "dd6ae408-4193-11ea-86a9-02420a01000c",
     "next": "dd6ae4c6-4193-11ea-86a9-02420a01000c",
     "previous": "dd6ae354-4193-11ea-86a9-02420a01000c"
    }
   },
   "source": [
    "数値だけではわかりにくいので、クラスター内の年齢層割合を計算してグラフ化してみましょう。このような場面では、割合が多いほど濃くなるヒートマップを使ってグラフ化すると便利です。ヒートマップは可視化ライブラリのseabornの`heatmap`関数を使います。なお、applyとlambdaを使って、その年齢層の割合を計算しています。"
   ]
  },
  {
   "cell_type": "code",
   "execution_count": null,
   "metadata": {
    "lc_cell_meme": {
     "current": "dd6ae4c6-4193-11ea-86a9-02420a01000c",
     "next": "dd6ae584-4193-11ea-86a9-02420a01000c",
     "previous": "dd6ae408-4193-11ea-86a9-02420a01000c"
    }
   },
   "outputs": [],
   "source": [
    "sns.heatmap(cross_cluster_age.apply(lambda x : x/x.sum(), axis=1), cmap='Blues')"
   ]
  },
  {
   "cell_type": "markdown",
   "metadata": {
    "lc_cell_meme": {
     "current": "dd6ae584-4193-11ea-86a9-02420a01000c",
     "next": "dd6ae638-4193-11ea-86a9-02420a01000c",
     "previous": "dd6ae4c6-4193-11ea-86a9-02420a01000c"
    }
   },
   "source": [
    "上のヒートマップから、クラスター番号0では年齢層が30～40歳の割合が高い一方、クラスター番号4は45～60歳の割合が高くなっていることなどが確認できます。この結果から、この2つのクラスターは年齢に偏りを持ったクラスターと言えそうです。"
   ]
  },
  {
   "cell_type": "markdown",
   "metadata": {
    "collapsed": true,
    "lc_cell_meme": {
     "current": "dd6ae638-4193-11ea-86a9-02420a01000c",
     "next": "dd6ae6f6-4193-11ea-86a9-02420a01000c",
     "previous": "dd6ae584-4193-11ea-86a9-02420a01000c"
    }
   },
   "source": [
    "同様に、職業を示す変数jobについても見てみましょう。jobはageと異なりカテゴリ変数です。まずは集計してみます。クラスター番号によっては、人数が0の職業もあるため、NaNを0に置き換えています。"
   ]
  },
  {
   "cell_type": "code",
   "execution_count": null,
   "metadata": {
    "lc_cell_meme": {
     "current": "dd6ae6f6-4193-11ea-86a9-02420a01000c",
     "next": "dd6ae7b4-4193-11ea-86a9-02420a01000c",
     "previous": "dd6ae638-4193-11ea-86a9-02420a01000c"
    }
   },
   "outputs": [],
   "source": [
    "cross_cluster_job = bank_with_cluster.groupby(['cluster_number', 'job']).size().unstack().fillna(0)\n",
    "cross_cluster_job"
   ]
  },
  {
   "cell_type": "markdown",
   "metadata": {
    "lc_cell_meme": {
     "current": "dd6ae7b4-4193-11ea-86a9-02420a01000c",
     "next": "dd6ae868-4193-11ea-86a9-02420a01000c",
     "previous": "dd6ae6f6-4193-11ea-86a9-02420a01000c"
    }
   },
   "source": [
    "次に上記のヒートマップを描画してみます。"
   ]
  },
  {
   "cell_type": "code",
   "execution_count": null,
   "metadata": {
    "lc_cell_meme": {
     "current": "dd6ae868-4193-11ea-86a9-02420a01000c",
     "next": "dd6ae926-4193-11ea-86a9-02420a01000c",
     "previous": "dd6ae7b4-4193-11ea-86a9-02420a01000c"
    }
   },
   "outputs": [],
   "source": [
    "sns.heatmap(cross_cluster_job.apply(lambda x : x/x.sum(), axis=1),cmap='Reds')"
   ]
  },
  {
   "cell_type": "markdown",
   "metadata": {
    "lc_cell_meme": {
     "current": "dd6ae926-4193-11ea-86a9-02420a01000c",
     "next": "dd6ae9ee-4193-11ea-86a9-02420a01000c",
     "previous": "dd6ae868-4193-11ea-86a9-02420a01000c"
    }
   },
   "source": [
    "上のヒートマップから、クラスター番号1では特にマネジメント層の割合が高いこと、クラスタ番号0ではブルーカラー割合がやや高いことがわかります。"
   ]
  },
  {
   "cell_type": "markdown",
   "metadata": {
    "lc_cell_meme": {
     "current": "dd6ae9ee-4193-11ea-86a9-02420a01000c",
     "next": "dd6aeab6-4193-11ea-86a9-02420a01000c",
     "previous": "dd6ae926-4193-11ea-86a9-02420a01000c"
    }
   },
   "source": [
    "これまでの結果から、クラスター番号0は年齢層は30〜40歳割合が高く、ブルーカラーの人がやや多いグループ、というふうに解釈できそうです。実務においては、より多くの次元を調査することになるでしょう。ただし、むやみに集計と可視化を繰り返すのではなく、分析の結果からどのようなアクションを計画しているかなども考慮し、分析計画を練ると良いでしょう。\n",
    "\n",
    "以上簡単ではありますが、クラスタリング結果に解釈を与える流れの紹介を終えます。"
   ]
  },
  {
   "cell_type": "markdown",
   "metadata": {
    "collapsed": true,
    "lc_cell_meme": {
     "current": "dd6aeab6-4193-11ea-86a9-02420a01000c",
     "next": "dd6aeb74-4193-11ea-86a9-02420a01000c",
     "previous": "dd6ae9ee-4193-11ea-86a9-02420a01000c"
    }
   },
   "source": [
    "\n",
    "\n",
    "### 9.2.6 k-means法以外の手法\n",
    "\n",
    "最後に、クラスタリング手法の体系化について補足します。本章で学んだk-means法は**非階層型**といわれるクラスタリング手法に属していますが、それとは別に**階層型**のクラスタリング（hierarchical clustering）に属する手法があります。\n",
    "\n",
    "Scikit-learnでは`sklearn.cluster`モジュールの`AgglomerativeClustering`クラスで実行できます。系統樹図（デンドログラム：dendrogram）といった用語と合わせて調べるとよいでしょう。\n",
    "\n",
    "また、クラスタリング手法の他の分け方に**ソフトクラスタリング**があります。k-means法は**ハードクラスタリング**に分類され、それぞれのデータに対してクラスター番号は一意に決まりましたが、ソフトクラスタリングでは各クラスターへの所属確率が計算できます。たとえば、クラスター1に所属する確率は70%で、クラスター2に所属する確率は30%という感じです。\n",
    "\n",
    "顧客の趣味嗜好のクラスタリングは、ハードクラスタリングよりもソフトクラスタリングの方が理に適っているかもしれません。目的により使い分けましょう。ソフトクラスタリングは、`sklearn.mixture`モジュールの`GaussianMixture`クラスなどで実行できます。"
   ]
  },
  {
   "cell_type": "markdown",
   "metadata": {
    "lc_cell_meme": {
     "current": "dd6aeb74-4193-11ea-86a9-02420a01000c",
     "next": "dd6aec32-4193-11ea-86a9-02420a01000c",
     "previous": "dd6aeab6-4193-11ea-86a9-02420a01000c"
    }
   },
   "source": [
    ">**[やってみよう]**\n",
    ">\n",
    ">上の階層型、非階層型のクラスタリングについて調べてみましょう。また、ソフトクラスタリングやハードクラスタリングの違いやそのアプローチについて調べて、代表的な手法の実行方法を確認しましょう。 "
   ]
  },
  {
   "cell_type": "markdown",
   "metadata": {
    "lc_cell_meme": {
     "current": "dd6aec32-4193-11ea-86a9-02420a01000c",
     "next": "dd6aecf0-4193-11ea-86a9-02420a01000c",
     "previous": "dd6aeb74-4193-11ea-86a9-02420a01000c"
    }
   },
   "source": [
    "####  <練習問題 9-1>\n",
    "`sklearn.datasets`モジュールの`make_blobs`関数を使い、`random_state=52`（特に数字に意味はありません）にしてデータを生成しグラフ化してみましょう。そこからクラスタリングをしてください。いくつのグループに分けますか。また分けた後は、クラスター番号がわかるように色分けして、グラフ化してください。"
   ]
  },
  {
   "cell_type": "markdown",
   "metadata": {
    "lc_cell_meme": {
     "current": "dd6aecf0-4193-11ea-86a9-02420a01000c",
     "next": "dd6aedae-4193-11ea-86a9-02420a01000c",
     "previous": "dd6aec32-4193-11ea-86a9-02420a01000c"
    }
   },
   "source": [
    "####  <Let's Try>\n",
    "先ほど扱ったデータ`bank_sub_std`に対して、クラスター数を4にしてk-meansを実行した場合、どのような結果になるでしょうか。<練習問題 12-1>と同様に、クラスター番号を取得した後、それぞれのクラスターについての分析して特徴を読み取りましょう。またクラスター数を8にした場合はどうでしょうか。さらに、`age`、`balance`、`campaign`、`previous`以外の変数を選んだ場合はどうでしょうか。"
   ]
  },
  {
   "cell_type": "markdown",
   "metadata": {
    "lc_cell_meme": {
     "current": "dd6aedae-4193-11ea-86a9-02420a01000c",
     "next": "dd6aee62-4193-11ea-86a9-02420a01000c",
     "previous": "dd6aecf0-4193-11ea-86a9-02420a01000c"
    }
   },
   "source": [
    "## 9.3 主成分分析\n",
    "キーワード： PCA、固有値、固有ベクトル、次元削減、線形判別分析"
   ]
  },
  {
   "cell_type": "markdown",
   "metadata": {
    "lc_cell_meme": {
     "current": "dd6aee62-4193-11ea-86a9-02420a01000c",
     "next": "dd6aef2a-4193-11ea-86a9-02420a01000c",
     "previous": "dd6aedae-4193-11ea-86a9-02420a01000c"
    }
   },
   "source": [
    "本節では、主成分分析（principle component analysis、PCA）について学びます。これまで見てきた通り、データには多くの変数があります。先ほどの金融マーケティングデータにも職業や年齢などさまざまな変数がありました。説明変数と目的変数との関係性を1つ1つ見ていくことも大切ですが、説明変数の数が多くなれば、その理解にも限界がきてしまいます。\n",
    "\n",
    "主成分分析は、元データの持つ情報をできるだけ失わずに変数の数を圧縮することができるため、探索的分析の前処理や予測モデル構築時の前処理として広く使われています。なお、今回扱う主成分分析は教師なし学習の次元圧縮で、教師あり学習の次元圧縮（線形判別分析など）もありますので、興味のある方は調べてください。"
   ]
  },
  {
   "cell_type": "markdown",
   "metadata": {
    "lc_cell_meme": {
     "current": "dd6aef2a-4193-11ea-86a9-02420a01000c",
     "next": "dd6aefe8-4193-11ea-86a9-02420a01000c",
     "previous": "dd6aee62-4193-11ea-86a9-02420a01000c"
    }
   },
   "source": [
    "### 9.3.1 主成分分析を試す\n",
    "\n",
    "簡単なサンプルデータを用いて、主成分分析がどのようなものなのかを見ていきましょう。次に示すプログラムは、`RandomState`オブジェクトを使って、2変数のデータセットを生成し、各変数について標準化したものをプロットしたものです。\n",
    "\n",
    "まずは、`np.Random.RandomState(1)`としてシード（乱数の初期値）を1に設定した`RandomState`オブジェクトを作成しています。\n",
    "\n",
    "次に、この`rand`関数と`randn`関数を使って、2つの乱数を生成しています。変数間の相関係数は0.889とかなり強い相関のある変数同士であること、また標準化しているのでどちらの変数も平均が0、分散が1であることに注目してください。なお、この相関係数が高い理由を知りたい方はダウンロード特典を参考にしてください。"
   ]
  },
  {
   "cell_type": "code",
   "execution_count": null,
   "metadata": {
    "lc_cell_meme": {
     "current": "dd6aefe8-4193-11ea-86a9-02420a01000c",
     "next": "dd6af0a6-4193-11ea-86a9-02420a01000c",
     "previous": "dd6aef2a-4193-11ea-86a9-02420a01000c"
    },
    "scrolled": false
   },
   "outputs": [],
   "source": [
    "from sklearn.preprocessing import StandardScaler\n",
    "\n",
    "# RandomStateオブジェクトを作成\n",
    "sample = np.random.RandomState(1)\n",
    "\n",
    "#２つの乱数を生成\n",
    "X = np.dot(sample.rand(2, 2), sample.randn(2, 200)).T\n",
    "\n",
    "# 標準化\n",
    "sc = StandardScaler()\n",
    "X_std = sc.fit_transform(X)\n",
    "\n",
    "# 相関係数の算出とグラフ化\n",
    "print('相関係数{:.3f}:'.format(sp.stats.pearsonr(X_std[:, 0], X_std[:, 1])[0]))\n",
    "plt.scatter(X_std[:, 0], X_std[:, 1])"
   ]
  },
  {
   "cell_type": "markdown",
   "metadata": {
    "lc_cell_meme": {
     "current": "dd6af0a6-4193-11ea-86a9-02420a01000c",
     "next": "dd6af164-4193-11ea-86a9-02420a01000c",
     "previous": "dd6aefe8-4193-11ea-86a9-02420a01000c"
    }
   },
   "source": [
    "#### 主成分分析の実行\n",
    "\n",
    "主成分分析は`sklearn.decomposition`モジュールの`PCA`クラスを使うと実行できます。オブジェクトの初期化の際、変数を何次元まで圧縮したいか、つまり、抽出したい主成分の数を`n_components`として指定します。通常は元ある変数よりも小さい値を設定します（30変数を5変数に減らす、等）が、ここでは元データと同じ2と設定します。`fit`メソッドを実行することで、主成分の抽出に必要な情報が学習されます（具合的には、固有値と固有ベクトルが計算されます）。"
   ]
  },
  {
   "cell_type": "code",
   "execution_count": null,
   "metadata": {
    "lc_cell_meme": {
     "current": "dd6af164-4193-11ea-86a9-02420a01000c",
     "next": "dd6af218-4193-11ea-86a9-02420a01000c",
     "previous": "dd6af0a6-4193-11ea-86a9-02420a01000c"
    }
   },
   "outputs": [],
   "source": [
    "# インポート\n",
    "from sklearn.decomposition import PCA\n",
    "\n",
    "# 主成分分析\n",
    "pca = PCA(n_components=2)\n",
    "pca.fit(X_std)"
   ]
  },
  {
   "cell_type": "markdown",
   "metadata": {
    "lc_cell_meme": {
     "current": "dd6af218-4193-11ea-86a9-02420a01000c",
     "next": "dd6af2d6-4193-11ea-86a9-02420a01000c",
     "previous": "dd6af164-4193-11ea-86a9-02420a01000c"
    }
   },
   "source": [
    "#### 学習結果の確認\n",
    "PCAオブジェクトの学習結果を確認しましょう。以下では、`components_`属性、`explained_variacne_`属性、`explained_variance_ratio_`属性を確認します。\n",
    "\n",
    "##### ①components_属性\n",
    "`components_`属性は固有ベクトルと呼ばれるもので、主成分分析により発見された新しい特徴空間の軸の向きを表し、結果は以下になります。ベクトルの[-0.707,-0.707]が第1主成分、[-0.707,0.707]が第2主成分の向きになります。"
   ]
  },
  {
   "cell_type": "code",
   "execution_count": null,
   "metadata": {
    "lc_cell_meme": {
     "current": "dd6af2d6-4193-11ea-86a9-02420a01000c",
     "next": "dd6af43e-4193-11ea-86a9-02420a01000c",
     "previous": "dd6af218-4193-11ea-86a9-02420a01000c"
    },
    "scrolled": true
   },
   "outputs": [],
   "source": [
    "print(pca.components_)"
   ]
  },
  {
   "cell_type": "markdown",
   "metadata": {
    "lc_cell_meme": {
     "current": "dd6af43e-4193-11ea-86a9-02420a01000c",
     "next": "dd6af59c-4193-11ea-86a9-02420a01000c",
     "previous": "dd6af2d6-4193-11ea-86a9-02420a01000c"
    }
   },
   "source": [
    "#### ②explained_variance_属性\n",
    "\n",
    "`explained_variance_`属性は各主成分の分散を表します。以下を見ると、今回抽出された2つの主成分の分散が、それぞれ1.889と0.111であることがわかります。ここで分散の総和が2.0となるのは偶然ではなく、（標準化された）変数が元来有していた分散の総和と、主成分の分散の総和は一致します。つまり、分散（情報）は維持されているということです。"
   ]
  },
  {
   "cell_type": "code",
   "execution_count": null,
   "metadata": {
    "lc_cell_meme": {
     "current": "dd6af59c-4193-11ea-86a9-02420a01000c",
     "next": "dd6af66e-4193-11ea-86a9-02420a01000c",
     "previous": "dd6af43e-4193-11ea-86a9-02420a01000c"
    }
   },
   "outputs": [],
   "source": [
    "print('各主成分の分散:{}'.format(pca.explained_variance_))"
   ]
  },
  {
   "cell_type": "markdown",
   "metadata": {
    "lc_cell_meme": {
     "current": "dd6af66e-4193-11ea-86a9-02420a01000c",
     "next": "dd6af7b8-4193-11ea-86a9-02420a01000c",
     "previous": "dd6af59c-4193-11ea-86a9-02420a01000c"
    }
   },
   "source": [
    "#### ③explained_variance_ratio_属性\n",
    "`explained_variance_ratio_`属性は、各主成分が持つ分散の比率です。最初の0.945は1.889/(1.889+0.111)によって得られ、第1主成分で元のデータの94.5%の情報を保持していると読めます。"
   ]
  },
  {
   "cell_type": "code",
   "execution_count": null,
   "metadata": {
    "lc_cell_meme": {
     "current": "dd6af7b8-4193-11ea-86a9-02420a01000c",
     "next": "dd6af8bc-4193-11ea-86a9-02420a01000c",
     "previous": "dd6af66e-4193-11ea-86a9-02420a01000c"
    },
    "scrolled": true
   },
   "outputs": [],
   "source": [
    "print('各主成分の分散割合:{}'.format(pca.explained_variance_ratio_))"
   ]
  },
  {
   "cell_type": "markdown",
   "metadata": {
    "lc_cell_meme": {
     "current": "dd6af8bc-4193-11ea-86a9-02420a01000c",
     "next": "dd6af998-4193-11ea-86a9-02420a01000c",
     "previous": "dd6af7b8-4193-11ea-86a9-02420a01000c"
    }
   },
   "source": [
    "数字だけではわかりにくいので図示してみましょう。以下の矢印が主成分分析によって得られた新しい特徴空間の軸の方向です。分散が最大の方向に第1主成分が定まり、第2主成分とのベクトルに対して、お互いに直交していることがわかります。ベクトルの[-0.707,-0.707]が第1主成分、[-0.707,0.707]が第2主成分の向きでしたので、それが以下のグラフからわかります。"
   ]
  },
  {
   "cell_type": "code",
   "execution_count": null,
   "metadata": {
    "lc_cell_meme": {
     "current": "dd6af998-4193-11ea-86a9-02420a01000c",
     "next": "dd6afa60-4193-11ea-86a9-02420a01000c",
     "previous": "dd6af8bc-4193-11ea-86a9-02420a01000c"
    },
    "scrolled": true
   },
   "outputs": [],
   "source": [
    "# パラメータ設定\n",
    "arrowprops=dict(arrowstyle='->',\n",
    "                linewidth=2,\n",
    "                shrinkA=0, shrinkB=0)\n",
    "\n",
    "# 矢印を描くための関数\n",
    "def draw_vector(v0, v1):\n",
    "    plt.gca().annotate('', v1, v0, arrowprops=arrowprops)\n",
    "\n",
    "# 元のデータをプロット\n",
    "plt.scatter(X_std[:, 0], X_std[:, 1], alpha=0.2)\n",
    "\n",
    "# 主成分分析の2軸を矢印で表示する\n",
    "for length, vector in zip(pca.explained_variance_, pca.components_):\n",
    "    v = vector * 3 * np.sqrt(length)\n",
    "    draw_vector(pca.mean_, pca.mean_ + v)\n",
    "\n",
    "plt.axis('equal');"
   ]
  },
  {
   "cell_type": "markdown",
   "metadata": {
    "collapsed": true,
    "lc_cell_meme": {
     "current": "dd6afa60-4193-11ea-86a9-02420a01000c",
     "next": "dd6afb32-4193-11ea-86a9-02420a01000c",
     "previous": "dd6af998-4193-11ea-86a9-02420a01000c"
    }
   },
   "source": [
    "主成分分析については、参考書籍「A-22」「A-23」および参考URL「B-19」（A-22の英語オンライン版英語）、「B-20」も参考になります。"
   ]
  },
  {
   "cell_type": "markdown",
   "metadata": {
    "lc_cell_meme": {
     "current": "dd6afb32-4193-11ea-86a9-02420a01000c",
     "next": "dd6afbfa-4193-11ea-86a9-02420a01000c",
     "previous": "dd6afa60-4193-11ea-86a9-02420a01000c"
    }
   },
   "source": [
    "図を見て分かる通り、元の散布図に対して分散が最大になる方向のベクトルが第1主成分です。そしてその次に分散が大きい方向のベクトルが第2主成分です。第1主成分と第2主成分は直交します。\n",
    "\n",
    "ここで元の値の各点から第1主成分に垂線を下ろした点を考えます。すると元々は2変数あった値を第1主成分の軸上にマッピングでき、1変数に次元削除できます。次のような図が参考になり、たとえば$(x1,y1)$の点は、$a1$だけになって、次元数が2から1に削減されています。\n",
    "\n",
    "（※図は書籍を参照してください※）"
   ]
  },
  {
   "cell_type": "markdown",
   "metadata": {
    "lc_cell_meme": {
     "current": "dd6afbfa-4193-11ea-86a9-02420a01000c",
     "next": "dd6afccc-4193-11ea-86a9-02420a01000c",
     "previous": "dd6afb32-4193-11ea-86a9-02420a01000c"
    }
   },
   "source": [
    "詳細は省きますが、主成分の計算には固有ベクトルが使われています。下図の通り、元データが固有ベクトルによって行列変換されています。"
   ]
  },
  {
   "cell_type": "markdown",
   "metadata": {
    "lc_cell_meme": {
     "current": "dd6afccc-4193-11ea-86a9-02420a01000c",
     "next": "dd6afd94-4193-11ea-86a9-02420a01000c",
     "previous": "dd6afbfa-4193-11ea-86a9-02420a01000c"
    }
   },
   "source": [
    "（※図は書籍を参照してください※）"
   ]
  },
  {
   "cell_type": "markdown",
   "metadata": {
    "lc_cell_meme": {
     "current": "dd6afd94-4193-11ea-86a9-02420a01000c",
     "next": "dd6afe5c-4193-11ea-86a9-02420a01000c",
     "previous": "dd6afccc-4193-11ea-86a9-02420a01000c"
    }
   },
   "source": [
    "最後に補足として、次元削減のイメージをもう少し理解するために、以下の例も見ておきましょう。以下は3Dで見たときのグラフで、プロット位置によって色を分けたものです。"
   ]
  },
  {
   "cell_type": "markdown",
   "metadata": {
    "lc_cell_meme": {
     "current": "dd6afe5c-4193-11ea-86a9-02420a01000c",
     "next": "dd6affc4-4193-11ea-86a9-02420a01000c",
     "previous": "dd6afd94-4193-11ea-86a9-02420a01000c"
    }
   },
   "source": [
    "（※図は書籍を参照してください※）"
   ]
  },
  {
   "cell_type": "markdown",
   "metadata": {
    "lc_cell_meme": {
     "current": "dd6affc4-4193-11ea-86a9-02420a01000c",
     "next": "dd6b0118-4193-11ea-86a9-02420a01000c",
     "previous": "dd6afe5c-4193-11ea-86a9-02420a01000c"
    }
   },
   "source": [
    "この3次元のデータを、主成分分析を使って2次元に落とすと以下のようになります。横軸PC1が第1主成分、縦軸PC2が第2主成分の値です。3次元の時のデータ構造が残されているだけではなく、元々あった位置も反映されていることが色の連なりからわかります。このように主成分分析は、元の情報を残しつつ次元を落とすという処理を行ってくれるのです。"
   ]
  },
  {
   "cell_type": "markdown",
   "metadata": {
    "lc_cell_meme": {
     "current": "dd6b0118-4193-11ea-86a9-02420a01000c",
     "next": "dd6b01d6-4193-11ea-86a9-02420a01000c",
     "previous": "dd6affc4-4193-11ea-86a9-02420a01000c"
    }
   },
   "source": [
    "（※図は書籍を参照してください※）"
   ]
  },
  {
   "cell_type": "markdown",
   "metadata": {
    "lc_cell_meme": {
     "current": "dd6b01d6-4193-11ea-86a9-02420a01000c",
     "next": "dd6b0294-4193-11ea-86a9-02420a01000c",
     "previous": "dd6b0118-4193-11ea-86a9-02420a01000c"
    }
   },
   "source": [
    "## 9.3.2 主成分分析の実例\n",
    "主成分分析の実行方法と処理イメージについての説明は以上です。ではこの主成分分析を使って次元を圧縮することがどのような場面で役に立つのか、具体的に見ていきましょう。ここでは乳がんデータを使って、主成分分析の意義を確認します。\n",
    "\n",
    "乳がんデータは、`sklearn.datasets`の`load_breast_cancer`関数を使って読み込めます。以下に示すのは、データを実際に読み込み、目的変数（`cancer.target`）の値が「`malignant`（悪性）」か「`benign`（良性）」によって、各説明変数の分布を可視化したものです。\n",
    "\n",
    "ほとんどのヒストグラムについて、`malignant`と`benign`のデータが重なっており、このままだと悪性か良性かを見分けるためにどこに境界線を引いていいのかの判断は難しそうです。"
   ]
  },
  {
   "cell_type": "code",
   "execution_count": null,
   "metadata": {
    "lc_cell_meme": {
     "current": "dd6b0294-4193-11ea-86a9-02420a01000c",
     "next": "dd6b0352-4193-11ea-86a9-02420a01000c",
     "previous": "dd6b01d6-4193-11ea-86a9-02420a01000c"
    }
   },
   "outputs": [],
   "source": [
    "# 乳がんデータを読み込むためのインポート\n",
    "from sklearn.datasets import load_breast_cancer\n",
    "\n",
    "# 乳がんデータの取得\n",
    "cancer = load_breast_cancer()\n",
    "\n",
    "# データをmalignant（悪性）かbenign（良性）に分けるためのフィルター処理\n",
    "# malignant（悪性）はcancer.targetが0\n",
    "malignant = cancer.data[cancer.target==0]\n",
    "\n",
    "# benign（良性）はcancer.targetが0\n",
    "benign = cancer.data[cancer.target==1]\n",
    "\n",
    "#　malignant（悪性）がブルー、benign（良性）がオレンジのヒストグラム\n",
    "# 各図は、各々の説明変数（mean radiusなど）と目的変数との関係を示したヒストグラム\n",
    "fig, axes = plt.subplots(6,5,figsize=(20,20))\n",
    "ax = axes.ravel()\n",
    "for i in range(30):\n",
    "    _,bins = np.histogram(cancer.data[:,i], bins=50)\n",
    "    ax[i].hist(malignant[:,i], bins, alpha=.5)\n",
    "    ax[i].hist(benign[:,i], bins, alpha=.5)\n",
    "    ax[i].set_title(cancer.feature_names[i])\n",
    "    ax[i].set_yticks(())\n",
    "    \n",
    "# ラベルの設定\n",
    "ax[0].set_ylabel('Count')\n",
    "ax[0].legend(['malignant','benign'],loc='best')\n",
    "fig.tight_layout()"
   ]
  },
  {
   "cell_type": "markdown",
   "metadata": {
    "lc_cell_meme": {
     "current": "dd6b0352-4193-11ea-86a9-02420a01000c",
     "next": "dd6b041a-4193-11ea-86a9-02420a01000c",
     "previous": "dd6b0294-4193-11ea-86a9-02420a01000c"
    }
   },
   "source": [
    "ここで主成分分析を使い、これら20以上ある変数の次元を削減してみます。具体的には、説明変数となるデータを標準化し、主成分分析を行います。抽出する主成分の数（`n_component`）は2とします。\n",
    "\n",
    "下記のプログラムを実行して`explained_variance_ratio_`属性の値を確認すると、変数の数は2つに減るものの、元の情報の約63%（=0.443+0.19）が、第1主成分と第2主成分に凝縮されていることがわかります。\n"
   ]
  },
  {
   "cell_type": "code",
   "execution_count": null,
   "metadata": {
    "lc_cell_meme": {
     "current": "dd6b041a-4193-11ea-86a9-02420a01000c",
     "next": "dd6b04e2-4193-11ea-86a9-02420a01000c",
     "previous": "dd6b0352-4193-11ea-86a9-02420a01000c"
    }
   },
   "outputs": [],
   "source": [
    "# 標準化\n",
    "sc = StandardScaler()\n",
    "X_std = sc.fit_transform(cancer.data)\n",
    "\n",
    "# 主成分分析\n",
    "pca = PCA(n_components=2)\n",
    "pca.fit(X_std)\n",
    "X_pca = pca.transform(X_std)\n",
    "\n",
    "# 表示\n",
    "print('X_pca shape:{}'.format(X_pca.shape))\n",
    "print('Explained variance ratio:{}'.format(pca.explained_variance_ratio_))"
   ]
  },
  {
   "cell_type": "markdown",
   "metadata": {
    "lc_cell_meme": {
     "current": "dd6b04e2-4193-11ea-86a9-02420a01000c",
     "next": "dd6b0596-4193-11ea-86a9-02420a01000c",
     "previous": "dd6b041a-4193-11ea-86a9-02420a01000c"
    }
   },
   "source": [
    "上の「X_pca shape:(569, 2)」は、主成分分析をした後のデータは、569行2列（2変数）になっているのがわかります。2変数は主成分分析の数を2に設定したので、2になっています。"
   ]
  },
  {
   "cell_type": "markdown",
   "metadata": {
    "lc_cell_meme": {
     "current": "dd6b0596-4193-11ea-86a9-02420a01000c",
     "next": "dd6b0654-4193-11ea-86a9-02420a01000c",
     "previous": "dd6b04e2-4193-11ea-86a9-02420a01000c"
    }
   },
   "source": [
    "このように次元を低くしたデータを可視化してみます。まずは可視化準備のため、第1主成分と第2主成分のデータに、説明変数に対応する目的変数を紐付け、そののち良性データと悪性データに分離します。"
   ]
  },
  {
   "cell_type": "code",
   "execution_count": null,
   "metadata": {
    "lc_cell_meme": {
     "current": "dd6b0654-4193-11ea-86a9-02420a01000c",
     "next": "dd6b0712-4193-11ea-86a9-02420a01000c",
     "previous": "dd6b0596-4193-11ea-86a9-02420a01000c"
    }
   },
   "outputs": [],
   "source": [
    "# 列にラベルをつける、1つ目が第1主成分、2つ目が第2主成分\n",
    "X_pca = pd.DataFrame(X_pca, columns=['pc1','pc2'])\n",
    "\n",
    "# 上のデータに、目的変数（cancer.target）を紐づける、横に結合\n",
    "X_pca = pd.concat([X_pca, pd.DataFrame(cancer.target, columns=['target'])], axis=1)\n",
    "\n",
    "# 悪性、良性を分ける\n",
    "pca_malignant = X_pca[X_pca['target']==0]\n",
    "pca_benign = X_pca[X_pca['target']==1]"
   ]
  },
  {
   "cell_type": "markdown",
   "metadata": {
    "lc_cell_meme": {
     "current": "dd6b0712-4193-11ea-86a9-02420a01000c",
     "next": "dd6b07c6-4193-11ea-86a9-02420a01000c",
     "previous": "dd6b0654-4193-11ea-86a9-02420a01000c"
    }
   },
   "source": [
    "さてこのデータをプロットしてみるとどうなるでしょうか。以下が結果です。`malignant`（悪性）を赤、`benign`（良性）を青でプロットしています。悪性と良性の境界線が見えると思います。"
   ]
  },
  {
   "cell_type": "code",
   "execution_count": null,
   "metadata": {
    "lc_cell_meme": {
     "current": "dd6b07c6-4193-11ea-86a9-02420a01000c",
     "next": "dd6b088e-4193-11ea-86a9-02420a01000c",
     "previous": "dd6b0712-4193-11ea-86a9-02420a01000c"
    },
    "scrolled": true
   },
   "outputs": [],
   "source": [
    "# 悪性をプロット\n",
    "ax = pca_malignant.plot.scatter(x='pc1', y='pc2', color='red', label='malignant');\n",
    "\n",
    "# 良性をプロット\n",
    "pca_benign.plot.scatter(x='pc1', y='pc2', color='blue', label='benign', ax=ax);"
   ]
  },
  {
   "cell_type": "markdown",
   "metadata": {
    "lc_cell_meme": {
     "current": "dd6b088e-4193-11ea-86a9-02420a01000c",
     "next": "dd6b094c-4193-11ea-86a9-02420a01000c",
     "previous": "dd6b07c6-4193-11ea-86a9-02420a01000c"
    }
   },
   "source": [
    "このグラフを見る限り、本ケースにおいては、わずか2つの主成分で目的変数のクラスをほぼ分離できることがわかりました。変数が多くどの変数を分析に活用すべきかわからない場合などは、このように主成分分析を行い、(1)各主成分と目的変数の関係を明らかにする、(2)各主成分と元変数の関係から元変数と目的変数の関係を解釈する、などと進めるとデータ理解が進むでしょう。\n",
    "\n",
    "また主成分分析は、予測モデルを構築する際に変数の数を減らしたい場合（次元削減）にも活用できることを覚えておいてくとよいでしょう。"
   ]
  },
  {
   "cell_type": "markdown",
   "metadata": {
    "lc_cell_meme": {
     "current": "dd6b094c-4193-11ea-86a9-02420a01000c",
     "next": "dd6b0a0a-4193-11ea-86a9-02420a01000c",
     "previous": "dd6b088e-4193-11ea-86a9-02420a01000c"
    }
   },
   "source": [
    "####  <練習問題 9-2>\n",
    "`sklearn.datasets`モジュールの`load_iris`関数を使ってアヤメのデータを読み込み、iris.dataを対象に主成分分析を行ってください。ただし、抽出する主成分の数は2とします。さらに第2主成分までのデータと目的変数（`iris.target`）との関係性をグラフ化などし考察してください。"
   ]
  },
  {
   "cell_type": "markdown",
   "metadata": {
    "lc_cell_meme": {
     "current": "dd6b0a0a-4193-11ea-86a9-02420a01000c",
     "next": "dd6b0ac8-4193-11ea-86a9-02420a01000c",
     "previous": "dd6b094c-4193-11ea-86a9-02420a01000c"
    }
   },
   "source": [
    "## 9.4 マーケットバスケット分析とアソシエーションルール\n",
    "キーワード：アソシエーションルール、支持度、確信度、リフト値"
   ]
  },
  {
   "cell_type": "markdown",
   "metadata": {
    "lc_cell_meme": {
     "current": "dd6b0ac8-4193-11ea-86a9-02420a01000c",
     "next": "dd6b0b7c-4193-11ea-86a9-02420a01000c",
     "previous": "dd6b0a0a-4193-11ea-86a9-02420a01000c"
    }
   },
   "source": [
    "本節では、教師なし学習の一つである**マーケットバスケット分析（Market Basket Analysis）**を学びます。\n",
    "\n",
    "### 9.4.1 マーケットバスケット分析とは\n",
    "\n",
    "マーケットバスケット分析とは、商品Aを購入するなら商品Bを購入するというように、商品購入の際の関連性を分析するものです。スーパーなどのレジを通過するバスケットを分析の基本単位としていたことから、このように呼ばれています。バスケット分析やアソシエーション分析とも呼ばれます。\n",
    "\n",
    "マーケットバスケット分析の結果得られた、「商品Aを購入する人には商品Bも売れる」といった商品間の併売に関するルールのことを**アソシエーションルール（Association Rule）**と言います。\n",
    "\n",
    "よく取り上げられるルールに、ビールとオムツの例があります。オムツを買う父親にはビールを併売しやすい傾向があるという話で、意外な組み合わせであったことから都市伝説的に語り継がれています。\n",
    "\n",
    "消費者に対して、どのような商品を併売しやすいかは、消費財メーカーや小売業において関心の高いテーマなので、アソシエーションルールの中でも有益なルールは、マーケティングキャンペーンの設計やシンプルな推奨システムの中などで使われています。本節では、**支持度（support）**、**確信度（confidence）**、**リフト値（lift）**といった、アソシエーションルールの有益さを測る基礎的な指標を紹介します。\n"
   ]
  },
  {
   "cell_type": "markdown",
   "metadata": {
    "lc_cell_meme": {
     "current": "dd6b0b7c-4193-11ea-86a9-02420a01000c",
     "next": "dd6b0c3a-4193-11ea-86a9-02420a01000c",
     "previous": "dd6b0ac8-4193-11ea-86a9-02420a01000c"
    }
   },
   "source": [
    "### 9.4.2 マーケットバスケット分析のためのサンプルデータを読み込む\n",
    "\n",
    "以下では、7章の総合問題でも扱った購買履歴データを使って、マーケットバスケット分析を具体的に説明していきます。\n",
    "扱うデータは、以下URLからダウンロードできる`Online Retail.xlsx`というファイルです。ダウンロードして、Jupyter Notebookのファイルと同じ階層に配置してください。（下記をクリックするとダウンロードされます。また、Linuxなどの環境の場合は、wget等を使って取得しても大丈夫です。）\n",
    "\n",
    "- http://archive.ics.uci.edu/ml/machine-learning-databases/00352/Online%20Retail.xlsx\n",
    "\n",
    "購買履歴データはトランザクションデータ（※1）と言われるデータの一種です。そこでその略称の`trans`という変数名で読み込むことにします。`head`を使って先頭の5レコードを表示したものが、下記の実行例です。\n",
    "\n",
    "\n",
    "※1：購買履歴データにおけるInvoiceNoは請求書番号のようなもので、同じInvoiceNoのものは1つの請求書に掲載された明細という意味です。つまり同じInvoiceNoの商品は、その取引でまとめて購入されたという意味になります。同じInvoiceNoのものの1セットが、1取引、すなわちトランザクションです。\n",
    "\n",
    "他、環境によっては、xlrdのモジュールを用意する必要があるので、pip3 install xlrdで実行してインストールしてください。"
   ]
  },
  {
   "cell_type": "code",
   "execution_count": null,
   "metadata": {
    "lc_cell_meme": {
     "current": "dd6b0c3a-4193-11ea-86a9-02420a01000c",
     "next": "dd6b0cf8-4193-11ea-86a9-02420a01000c",
     "previous": "dd6b0b7c-4193-11ea-86a9-02420a01000c"
    }
   },
   "outputs": [],
   "source": [
    "trans = pd.read_excel('Online Retail.xlsx', sheet_name='Online Retail')\n",
    "trans.head()"
   ]
  },
  {
   "cell_type": "markdown",
   "metadata": {
    "lc_cell_meme": {
     "current": "dd6b0cf8-4193-11ea-86a9-02420a01000c",
     "next": "dd6b0db6-4193-11ea-86a9-02420a01000c",
     "previous": "dd6b0c3a-4193-11ea-86a9-02420a01000c"
    }
   },
   "source": [
    "#### データの整理と確認\n",
    "\n",
    "この購買履歴データにおいて請求書番号を示す`IncoiceNo`の先頭の1文字は、そのトランザクションの状態を示しています。「5」が通常のデータ、「C」がキャンセル、「A」が不明なデータです。まずは次のように`InoivceNo`の先頭1文字を別の`cancel_flg`という変数として追加します。追加したら、それぞれの`cancel_flg`ごとのレコード数を数えて集計します。実務において集計条件は、分析目的とデータマネジメント状態に大きく依存するので、十分に確認するようにしましょう。"
   ]
  },
  {
   "cell_type": "code",
   "execution_count": null,
   "metadata": {
    "lc_cell_meme": {
     "current": "dd6b0db6-4193-11ea-86a9-02420a01000c",
     "next": "dd6b0e74-4193-11ea-86a9-02420a01000c",
     "previous": "dd6b0cf8-4193-11ea-86a9-02420a01000c"
    }
   },
   "outputs": [],
   "source": [
    "# InoivceNoの先頭1文字をcancel_flgとして追加\n",
    "trans['cancel_flg'] = trans.InvoiceNo.map(lambda x:str(x)[0])\n",
    "\n",
    "# cancel_flgでグルーピングして集計\n",
    "trans.groupby('cancel_flg').size()"
   ]
  },
  {
   "cell_type": "markdown",
   "metadata": {
    "lc_cell_meme": {
     "current": "dd6b0e74-4193-11ea-86a9-02420a01000c",
     "next": "dd6b0f32-4193-11ea-86a9-02420a01000c",
     "previous": "dd6b0db6-4193-11ea-86a9-02420a01000c"
    }
   },
   "source": [
    "以下、通常のデータである「5」であり、かつ、`CustomerID`が欠損していないデータだけを扱うことにします。これらのデータに絞り込むため、次のようにします。もしこの処理がわからない場合は、第7章のPandasの章を復習したり、検索エンジンなどで「Pandas　フィルター」などで検索してみましょう。"
   ]
  },
  {
   "cell_type": "code",
   "execution_count": null,
   "metadata": {
    "lc_cell_meme": {
     "current": "dd6b0f32-4193-11ea-86a9-02420a01000c",
     "next": "dd6b0ff0-4193-11ea-86a9-02420a01000c",
     "previous": "dd6b0e74-4193-11ea-86a9-02420a01000c"
    }
   },
   "outputs": [],
   "source": [
    "trans = trans[(trans.cancel_flg == '5') & (trans.CustomerID.notnull())]"
   ]
  },
  {
   "cell_type": "markdown",
   "metadata": {
    "lc_cell_meme": {
     "current": "dd6b0ff0-4193-11ea-86a9-02420a01000c",
     "next": "dd6b10ae-4193-11ea-86a9-02420a01000c",
     "previous": "dd6b0f32-4193-11ea-86a9-02420a01000c"
    }
   },
   "source": [
    "### 9.4.3 アソシエーションルール\n",
    "\n",
    "データの準備ができたところで、アソシエーションルールについて説明します。\n",
    "まずは、購買回数トップ5の製品番号を確認しておきましょう。製品番号は`stockCode`列に格納されています。\n",
    "\n",
    "Pandasの`Series`オブジェクトが持つ`value_counts`メソッドを使うと、それぞれの内容別のレコード件数がデフォルトでは降順で得られます。そこで`head`を使って、上位5件を表示すると、次のようになります。"
   ]
  },
  {
   "cell_type": "code",
   "execution_count": null,
   "metadata": {
    "lc_cell_meme": {
     "current": "dd6b10ae-4193-11ea-86a9-02420a01000c",
     "next": "dd6b1176-4193-11ea-86a9-02420a01000c",
     "previous": "dd6b0ff0-4193-11ea-86a9-02420a01000c"
    }
   },
   "outputs": [],
   "source": [
    "# StockCodeごとに件数を数え、上位5件を表示\n",
    "trans['StockCode'].value_counts().head(5)"
   ]
  },
  {
   "cell_type": "markdown",
   "metadata": {
    "lc_cell_meme": {
     "current": "dd6b1176-4193-11ea-86a9-02420a01000c",
     "next": "dd6b1234-4193-11ea-86a9-02420a01000c",
     "previous": "dd6b10ae-4193-11ea-86a9-02420a01000c"
    }
   },
   "source": [
    "以下では上記のトップ5の商品のうち、第1位の「85123A」と第3位の「85099B」に関して、アソシエーションルールとその支持度、確信度、リフトについて説明していきます。"
   ]
  },
  {
   "cell_type": "markdown",
   "metadata": {
    "collapsed": true,
    "lc_cell_meme": {
     "current": "dd6b1234-4193-11ea-86a9-02420a01000c",
     "next": "dd6b12f2-4193-11ea-86a9-02420a01000c",
     "previous": "dd6b1176-4193-11ea-86a9-02420a01000c"
    }
   },
   "source": [
    "#### 支持度（support）\n",
    "\n",
    "アソシエーションルールの支持度とは、ある商品（ここでは85123A）と別の商品（85099B）が併売されたバスケットの数（`InvoiceNo`の数）、または全体に占める割合です。\n",
    "\n",
    "以下で、商品85123Aを購入するなら商品85099Bする、というアソシエーションルールの支持度を計算してみます。"
   ]
  },
  {
   "cell_type": "markdown",
   "metadata": {
    "lc_cell_meme": {
     "current": "dd6b12f2-4193-11ea-86a9-02420a01000c",
     "next": "dd6b13b0-4193-11ea-86a9-02420a01000c",
     "previous": "dd6b1234-4193-11ea-86a9-02420a01000c"
    }
   },
   "source": [
    "まず、トランザクションデータ（すべての購入データ）に登場するバスケットの数（InvoiceNoの数）をカウントします。"
   ]
  },
  {
   "cell_type": "markdown",
   "metadata": {
    "lc_cell_meme": {
     "current": "dd6b13b0-4193-11ea-86a9-02420a01000c",
     "next": "dd6b146e-4193-11ea-86a9-02420a01000c",
     "previous": "dd6b12f2-4193-11ea-86a9-02420a01000c"
    }
   },
   "source": [
    "最初に、すべての`InvoiceNo`を`trans_all`として抽出します。\n",
    "\n",
    "集合型とすることで、`InvoiceNo`を重複のない状態で保持できます。\n",
    "次に両商品を含むバスケットを`trans_ab`として抽出します。そのためには、各々の商品を含む`InvoiceNo`を同様に抽出し（下記では`trans_a`ならびに`trans_b`）、それらの積集合をとります。"
   ]
  },
  {
   "cell_type": "markdown",
   "metadata": {
    "lc_cell_meme": {
     "current": "dd6b146e-4193-11ea-86a9-02420a01000c",
     "next": "dd6b152c-4193-11ea-86a9-02420a01000c",
     "previous": "dd6b13b0-4193-11ea-86a9-02420a01000c"
    }
   },
   "source": [
    "注：なお、setは集合を扱うときに使い、重複のない要素をもつ順序なしのコレクションオブジェクトです。積集合は、両方に共通するものを取り出すことで、setでは「&」を使います。"
   ]
  },
  {
   "cell_type": "code",
   "execution_count": null,
   "metadata": {
    "lc_cell_meme": {
     "current": "dd6b152c-4193-11ea-86a9-02420a01000c",
     "next": "dd6b15ea-4193-11ea-86a9-02420a01000c",
     "previous": "dd6b146e-4193-11ea-86a9-02420a01000c"
    }
   },
   "outputs": [],
   "source": [
    "# すべてのInvoiceNoをtrans_allとして抽出\n",
    "trans_all = set(trans.InvoiceNo) \n",
    "\n",
    "# 商品85123Aを購入したデータをtrans_aとする\n",
    "trans_a = set(trans[trans['StockCode']=='85123A'].InvoiceNo)\n",
    "print(len(trans_a))\n",
    "\n",
    "# 商品85099Bを購入したデータをtrans_bとする\n",
    "trans_b = set(trans[trans['StockCode']=='85099B'].InvoiceNo)\n",
    "print(len(trans_b))\n",
    "\n",
    "# 商品85123Aおよび85099Bを購入したデータをtrans_abとする\n",
    "trans_ab = trans_a&trans_b\n",
    "print(len(trans_ab))"
   ]
  },
  {
   "cell_type": "markdown",
   "metadata": {
    "lc_cell_meme": {
     "current": "dd6b15ea-4193-11ea-86a9-02420a01000c",
     "next": "dd6b16a8-4193-11ea-86a9-02420a01000c",
     "previous": "dd6b152c-4193-11ea-86a9-02420a01000c"
    }
   },
   "source": [
    "ルールの支持度は、ルールに含まれる両商品を含むバスケットの数、または全体に占める割合です。そこで、次のようにして計算できます。"
   ]
  },
  {
   "cell_type": "code",
   "execution_count": null,
   "metadata": {
    "lc_cell_meme": {
     "current": "dd6b16a8-4193-11ea-86a9-02420a01000c",
     "next": "dd6b1766-4193-11ea-86a9-02420a01000c",
     "previous": "dd6b15ea-4193-11ea-86a9-02420a01000c"
    }
   },
   "outputs": [],
   "source": [
    "# trans_ab の、両商品を含むバスケットの数を表示\n",
    "print('両商品を含むバスケットの数:{}'.format(len(trans_ab)))\n",
    "print('両商品を含むバスケットの全体に占める割合:{:.3f}'.format(len(trans_ab)/len(trans_all)))"
   ]
  },
  {
   "cell_type": "markdown",
   "metadata": {
    "lc_cell_meme": {
     "current": "dd6b1766-4193-11ea-86a9-02420a01000c",
     "next": "dd6b181a-4193-11ea-86a9-02420a01000c",
     "previous": "dd6b16a8-4193-11ea-86a9-02420a01000c"
    }
   },
   "source": [
    "0.014という数字がでていますが、これが高いか低いかは相対的な比較になりますので、一概にはいえません。"
   ]
  },
  {
   "cell_type": "markdown",
   "metadata": {
    "lc_cell_meme": {
     "current": "dd6b181a-4193-11ea-86a9-02420a01000c",
     "next": "dd6b18e2-4193-11ea-86a9-02420a01000c",
     "previous": "dd6b1766-4193-11ea-86a9-02420a01000c"
    }
   },
   "source": [
    "一般的に支持度の小さいルールは有用性も低いことが多いことから、支持度は足切り基準として使われたりします。\n",
    "\n",
    "また支持度はルールの支持度だけではなく、ルールを構成する商品に対する支持度を計算することもあります。\n",
    "\n",
    "たとえば商品85123Aの支持度は、以下のように計算できます。ルールの支持度が必要なのか、ルールを構成する商品の支持度が必要なのか、分析目的を明確にした上で求めるようにしましょう。"
   ]
  },
  {
   "cell_type": "code",
   "execution_count": null,
   "metadata": {
    "lc_cell_meme": {
     "current": "dd6b18e2-4193-11ea-86a9-02420a01000c",
     "next": "dd6b19a0-4193-11ea-86a9-02420a01000c",
     "previous": "dd6b181a-4193-11ea-86a9-02420a01000c"
    }
   },
   "outputs": [],
   "source": [
    "print('商品85123Aのバスケットの数:{}'.format(len(trans_a)))\n",
    "print('商品85123Aを含むバスケットの全体に占める割合:{:.3f}'.format(len(trans_a)/len(trans_all)))"
   ]
  },
  {
   "cell_type": "markdown",
   "metadata": {
    "collapsed": true,
    "lc_cell_meme": {
     "current": "dd6b19a0-4193-11ea-86a9-02420a01000c",
     "next": "dd6b1b08-4193-11ea-86a9-02420a01000c",
     "previous": "dd6b18e2-4193-11ea-86a9-02420a01000c"
    }
   },
   "source": [
    "#### 確信度（confidence）\n",
    "\n",
    "確信度とは、ある商品Aの購入数をベースに、その商品Aとある商品Bの組み合わせ購買がどれくらいの割合であるのかを表します。商品85123Aを購入するなら商品85099Bも購入する、というルールの確信度は、次のように計算できます。"
   ]
  },
  {
   "cell_type": "code",
   "execution_count": null,
   "metadata": {
    "lc_cell_meme": {
     "current": "dd6b1b08-4193-11ea-86a9-02420a01000c",
     "next": "dd6b1c2a-4193-11ea-86a9-02420a01000c",
     "previous": "dd6b19a0-4193-11ea-86a9-02420a01000c"
    }
   },
   "outputs": [],
   "source": [
    "print('確信度:{:.3f}'.format(len(trans_ab)/len(trans_a)))"
   ]
  },
  {
   "cell_type": "markdown",
   "metadata": {
    "lc_cell_meme": {
     "current": "dd6b1c2a-4193-11ea-86a9-02420a01000c",
     "next": "dd6b1d1a-4193-11ea-86a9-02420a01000c",
     "previous": "dd6b1b08-4193-11ea-86a9-02420a01000c"
    }
   },
   "source": [
    "逆に、商品85099Bを購入するなら商品85123Aする、というルールの確信度は以下のようになります。"
   ]
  },
  {
   "cell_type": "code",
   "execution_count": null,
   "metadata": {
    "lc_cell_meme": {
     "current": "dd6b1d1a-4193-11ea-86a9-02420a01000c",
     "next": "dd6b1dec-4193-11ea-86a9-02420a01000c",
     "previous": "dd6b1c2a-4193-11ea-86a9-02420a01000c"
    }
   },
   "outputs": [],
   "source": [
    "print('確信度:{:.3f}'.format(len(trans_ab)/len(trans_b)))"
   ]
  },
  {
   "cell_type": "markdown",
   "metadata": {
    "lc_cell_meme": {
     "current": "dd6b1dec-4193-11ea-86a9-02420a01000c",
     "next": "dd6b1f36-4193-11ea-86a9-02420a01000c",
     "previous": "dd6b1d1a-4193-11ea-86a9-02420a01000c"
    }
   },
   "source": [
    "確信度が高いと商品間の併売が見込めるため、クロスセル（他の商品などを併せて購入してもらうこと）をさせたい場合は確信度の高い商品の中からオファー商品を決定するなどの場面で活用されます。ただし、確信度の絶対値だけでは併売傾向の判断を誤ることがあるため、次のリフト値も合わせて見るのが普通です。"
   ]
  },
  {
   "cell_type": "markdown",
   "metadata": {
    "collapsed": true,
    "lc_cell_meme": {
     "current": "dd6b1f36-4193-11ea-86a9-02420a01000c",
     "next": "dd6b2026-4193-11ea-86a9-02420a01000c",
     "previous": "dd6b1dec-4193-11ea-86a9-02420a01000c"
    }
   },
   "source": [
    "#### リフト値（lift）\n",
    "\n",
    "商品Aを購入するなら商品Bを購入するというアソシエーションルールにおいて、そのリフトとは、ルールの確信度（%）を商品Bの支持度（%）で割った値のことです。\n",
    "\n",
    "つまり、全体のバスケットに占める商品Bの購買率に対する、商品Aを購買したときの商品Bの購買率の比率がリフト値です。当然、リフト値が1.0よりも大きければ併売しやすい商品になりますし、1.0よりも小さければ併売しにくい商品と解釈できます。商品85123Aを購入するなら商品85099Bも購入する、というルールのリフトは以下のように求められます。"
   ]
  },
  {
   "cell_type": "code",
   "execution_count": null,
   "metadata": {
    "lc_cell_meme": {
     "current": "dd6b2026-4193-11ea-86a9-02420a01000c",
     "next": "dd6b20f8-4193-11ea-86a9-02420a01000c",
     "previous": "dd6b1f36-4193-11ea-86a9-02420a01000c"
    }
   },
   "outputs": [],
   "source": [
    "# 全体のバスケットに占める商品Bの購買率を計算\n",
    "support_b = len(trans_b) / len(trans_all)\n",
    "\n",
    "# 商品Aを購買したときの商品Bの購買率を計算\n",
    "confidence = len(trans_ab) / len(trans_a)\n",
    "\n",
    "# リスト値を計算\n",
    "lift = confidence / support_b\n",
    "print('lift:{:.3f}'.format(lift))"
   ]
  },
  {
   "cell_type": "markdown",
   "metadata": {
    "lc_cell_meme": {
     "current": "dd6b20f8-4193-11ea-86a9-02420a01000c",
     "next": "dd6b21c0-4193-11ea-86a9-02420a01000c",
     "previous": "dd6b2026-4193-11ea-86a9-02420a01000c"
    }
   },
   "source": [
    "確信度が高い数値でもリフト値が1.0を下回る場合は、顧客への商品推奨の根拠としては不適切かもしれません。分析の目的に照らし、確信度とリフト値を組み合わせて使うなどしましょう。\n",
    "\n",
    "以上で、バスケット分析についての説明を終えます。今回は集計対象となったデータ全体に対してアソシエーションルールを抽出しましたが、店舗エリア別、店舗タイプ別、顧客クラスター別などにルールを抽出すると、より有用性の高いルールが抽出できるかもしれないことを覚えておきましょう。"
   ]
  },
  {
   "cell_type": "markdown",
   "metadata": {
    "lc_cell_meme": {
     "current": "dd6b21c0-4193-11ea-86a9-02420a01000c",
     "next": "dd6b229c-4193-11ea-86a9-02420a01000c",
     "previous": "dd6b20f8-4193-11ea-86a9-02420a01000c"
    }
   },
   "source": [
    "####  <練習問題 9-4>\n",
    "9-4「マーケットバスケット分析とアソシエーションルール」で用いた購買履歴データを使って、その他、任意の商品の組み合わせについて、支持度、確信度、リフト値を算出してみましょう。"
   ]
  },
  {
   "cell_type": "markdown",
   "metadata": {
    "lc_cell_meme": {
     "current": "dd6b229c-4193-11ea-86a9-02420a01000c",
     "next": "dd6b2364-4193-11ea-86a9-02420a01000c",
     "previous": "dd6b21c0-4193-11ea-86a9-02420a01000c"
    }
   },
   "source": [
    "## 9.5 総合問題"
   ]
  },
  {
   "cell_type": "markdown",
   "metadata": {
    "lc_cell_meme": {
     "current": "dd6b2364-4193-11ea-86a9-02420a01000c",
     "next": null,
     "previous": "dd6b229c-4193-11ea-86a9-02420a01000c"
    }
   },
   "source": [
    "### ■ 総合問題9-1 アソシエーションルール\n",
    "9-4節で用いた購買履歴データを使って、どの商品とどの商品の組み合わせの支持度が一番高いですか？ ただし、レコード数が1,000より多い商品（`StockCode`）を対象に計算してください。\n",
    "\n",
    "（ヒント：商品の組み合わせを抽出するときは、`itertools`モジュールが便利です。この使い方などがわからない場合は、「Python itertools」で検索しましょう。）"
   ]
  }
 ],
 "metadata": {
  "anaconda-cloud": {},
  "kernelspec": {
   "display_name": "Python 3",
   "language": "python",
   "name": "python3"
  },
  "language_info": {
   "file_extension": ".py",
   "mimetype": "text/x-python",
   "name": "python",
   "nbconvert_exporter": "python",
   "pygments_lexer": "ipython3",
   "version": "3.7.3"
  },
  "lc_notebook_meme": {
   "current": "dd6ab82a-4193-11ea-86a9-02420a01000c",
   "lc_server_signature": {
    "current": {
     "notebook_dir": "/home/yoko69d621",
     "notebook_path": "/tokyo-u-data-science/ds_samplefiles",
     "server_url": "https://nb03.ecloud.nii.ac.jp/user/yoko69d621/",
     "signature_id": "5e786c6e-5fea-11e9-b810-02420a00005a"
    },
    "history": []
   }
  },
  "toc": {
   "base_numbering": 1,
   "nav_menu": {},
   "number_sections": true,
   "sideBar": true,
   "skip_h1_title": false,
   "title_cell": "Table of Contents",
   "title_sidebar": "Contents",
   "toc_cell": false,
   "toc_position": {},
   "toc_section_display": true,
   "toc_window_display": false
  }
 },
 "nbformat": 4,
 "nbformat_minor": 1
}
