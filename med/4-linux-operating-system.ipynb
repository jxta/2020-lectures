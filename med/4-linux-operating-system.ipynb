{
 "cells": [
  {
   "cell_type": "markdown",
   "metadata": {
    "lc_cell_meme": {
     "current": "3171f8a4-6178-11e9-b810-02420a00005a",
     "next": "3171f912-6178-11e9-b810-02420a00005a",
     "previous": null
    }
   },
   "source": [
    "**Linuxコマンドを使ってみよう** （Jupyter notebookのcell内では　**!**の後にLinuxコマンドを書くとコマンドが実行できる。）"
   ]
  },
  {
   "cell_type": "markdown",
   "metadata": {
    "lc_cell_meme": {
     "current": "3171f912-6178-11e9-b810-02420a00005a",
     "next": "3171f94e-6178-11e9-b810-02420a00005a",
     "previous": "3171f8a4-6178-11e9-b810-02420a00005a"
    }
   },
   "source": [
    "**curlコマンドをインストール**"
   ]
  },
  {
   "cell_type": "code",
   "execution_count": null,
   "metadata": {
    "lc_cell_meme": {
     "current": "3171f94e-6178-11e9-b810-02420a00005a",
     "next": "3171f980-6178-11e9-b810-02420a00005a",
     "previous": "3171f912-6178-11e9-b810-02420a00005a"
    }
   },
   "outputs": [],
   "source": [
    "!sudo apt-get update; sudo apt-get install curl -y"
   ]
  },
  {
   "cell_type": "markdown",
   "metadata": {
    "lc_cell_meme": {
     "current": "3171f980-6178-11e9-b810-02420a00005a",
     "next": "3171f9b2-6178-11e9-b810-02420a00005a",
     "previous": "3171f94e-6178-11e9-b810-02420a00005a"
    }
   },
   "source": [
    "**医学B 出席管理用　etherpad https://etherpad.opendev.org/p/2020-med-b-ac から　curlコマンドで情報を取得**"
   ]
  },
  {
   "cell_type": "code",
   "execution_count": null,
   "metadata": {
    "lc_cell_meme": {
     "current": "3171f9b2-6178-11e9-b810-02420a00005a",
     "next": "3171f9e4-6178-11e9-b810-02420a00005a",
     "previous": "3171f980-6178-11e9-b810-02420a00005a"
    },
    "lc_wrapper": {
     "log_history": [
      "/home/yoko69d621/textbook/med/.log/20200426/20200426-071420-0275.log",
      "/home/yoko69d621/textbook/med/.log/20200426/20200426-071441-0386.log"
     ]
    }
   },
   "outputs": [],
   "source": [
    "!curl https://etherpad.opendev.org/p/2020-med-b-ac/export/txt"
   ]
  },
  {
   "cell_type": "markdown",
   "metadata": {
    "lc_cell_meme": {
     "current": "3171f9e4-6178-11e9-b810-02420a00005a",
     "next": "3171fa16-6178-11e9-b810-02420a00005a",
     "previous": "3171f9b2-6178-11e9-b810-02420a00005a"
    }
   },
   "source": [
    "**cutコマンドで　1列目の情報だけを取り出す。　二つのコマンド（curlとcut）で pipeを通じて　データを受け渡している。pipeは　| で示す。**"
   ]
  },
  {
   "cell_type": "code",
   "execution_count": null,
   "metadata": {
    "lc_cell_meme": {
     "current": "3171fa16-6178-11e9-b810-02420a00005a",
     "next": "3171fa48-6178-11e9-b810-02420a00005a",
     "previous": "3171f9e4-6178-11e9-b810-02420a00005a"
    },
    "lc_wrapper": {
     "log_history": [
      "/home/yoko69d621/textbook/med/.log/20200426/20200426-071505-0243.log",
      "/home/yoko69d621/textbook/med/.log/20200426/20200426-071522-0571.log"
     ]
    }
   },
   "outputs": [],
   "source": [
    "!curl https://etherpad.opendev.org/p/2020-med-b-ac/export/txt|cut -c1-8 "
   ]
  },
  {
   "cell_type": "markdown",
   "metadata": {
    "lc_cell_meme": {
     "current": "3171fa48-6178-11e9-b810-02420a00005a",
     "next": "3171fa7a-6178-11e9-b810-02420a00005a",
     "previous": "3171fa16-6178-11e9-b810-02420a00005a"
    }
   },
   "source": [
    "**curlコマンドが出力する**　<br>\n",
    "% Total    % Received % Xferd  Average Speed   Time    Time     Time  Current<br>\n",
    "                                 Dload  Upload   Total   Spent    Left  Speed<br>\n",
    "100  1745  100  1745    0     0   1994      0 --:--:-- --:--:-- --:--:--  2008<br>\n",
    "**を　/dev/null　に捨ててデータから消す。**"
   ]
  },
  {
   "cell_type": "code",
   "execution_count": null,
   "metadata": {
    "lc_cell_meme": {
     "current": "3171fa7a-6178-11e9-b810-02420a00005a",
     "next": "3171faa2-6178-11e9-b810-02420a00005a",
     "previous": "3171fa48-6178-11e9-b810-02420a00005a"
    },
    "lc_wrapper": {
     "log_history": [
      "/home/yoko69d621/textbook/med/.log/20200426/20200426-071604-0195.log",
      "/home/yoko69d621/textbook/med/.log/20200426/20200426-071609-0690.log"
     ]
    }
   },
   "outputs": [],
   "source": [
    "!(curl https://etherpad.opendev.org/p/2020-med-b-ac/export/txt 2> /dev/null)|cut -c1-8 "
   ]
  },
  {
   "cell_type": "markdown",
   "metadata": {
    "lc_cell_meme": {
     "current": "3171faa2-6178-11e9-b810-02420a00005a",
     "next": "3171fad4-6178-11e9-b810-02420a00005a",
     "previous": "3171fa7a-6178-11e9-b810-02420a00005a"
    }
   },
   "source": [
    "**その週の部分だけを　headコマンドにより取り出す。　head --６４ で最初の ６４行だけを取り出すことを示す。**"
   ]
  },
  {
   "cell_type": "code",
   "execution_count": null,
   "metadata": {
    "lc_cell_meme": {
     "current": "3171fad4-6178-11e9-b810-02420a00005a",
     "next": "3171fb06-6178-11e9-b810-02420a00005a",
     "previous": "3171faa2-6178-11e9-b810-02420a00005a"
    },
    "lc_wrapper": {
     "log_history": [
      "/home/yoko69d621/textbook/med/.log/20200426/20200426-071638-0107.log",
      "/home/yoko69d621/textbook/med/.log/20200426/20200426-071722-0979.log"
     ]
    }
   },
   "outputs": [],
   "source": [
    "!(curl https://etherpad.opendev.org/p/2020-med-b-ac/export/txt 2> /dev/null)|cut -c1-8 |head -64"
   ]
  },
  {
   "cell_type": "markdown",
   "metadata": {
    "lc_cell_meme": {
     "current": "3171fb06-6178-11e9-b810-02420a00005a",
     "next": "3171fb2e-6178-11e9-b810-02420a00005a",
     "previous": "3171fad4-6178-11e9-b810-02420a00005a"
    }
   },
   "source": [
    "**出席情報の本体だけ残すために　tailコマンドで後ろから　56行残す。さらに　trコマンドで小文字を全部大文字に変換して記法を揃える。**"
   ]
  },
  {
   "cell_type": "code",
   "execution_count": null,
   "metadata": {
    "lc_cell_meme": {
     "current": "3171fb2e-6178-11e9-b810-02420a00005a",
     "next": "3171fb60-6178-11e9-b810-02420a00005a",
     "previous": "3171fb06-6178-11e9-b810-02420a00005a"
    },
    "lc_wrapper": {
     "log_history": [
      "/home/yoko69d621/textbook/med/.log/20200426/20200426-071840-0242.log"
     ]
    }
   },
   "outputs": [],
   "source": [
    "!(curl https://etherpad.opendev.org/p/2020-med-b-ac/export/txt 2> /dev/null 2> /dev/null)|cut -c1-8 |head -64|tail -56|tr [a-z] [A-Z]"
   ]
  },
  {
   "cell_type": "markdown",
   "metadata": {
    "lc_cell_meme": {
     "current": "3171fb60-6178-11e9-b810-02420a00005a",
     "next": "3171fb92-6178-11e9-b810-02420a00005a",
     "previous": "3171fb2e-6178-11e9-b810-02420a00005a"
    }
   },
   "source": [
    "**uniqコマンドにより重複排除を行う。さらにsortコマンドでアルファベット順にソートする。**"
   ]
  },
  {
   "cell_type": "code",
   "execution_count": null,
   "metadata": {
    "lc_cell_meme": {
     "current": "3171fb92-6178-11e9-b810-02420a00005a",
     "next": "3171fbc4-6178-11e9-b810-02420a00005a",
     "previous": "3171fb60-6178-11e9-b810-02420a00005a"
    },
    "lc_wrapper": {
     "log_history": [
      "/home/yoko69d621/textbook/med/.log/20200426/20200426-071908-0640.log"
     ]
    }
   },
   "outputs": [],
   "source": [
    "!(curl https://etherpad.opendev.org/p/2020-med-b-ac/export/txt 2> /dev/null 2> /dev/null)|cut -c1-8 |head -64|tail -56|tr [a-z] [A-Z]|uniq|sort"
   ]
  },
  {
   "cell_type": "markdown",
   "metadata": {
    "lc_cell_meme": {
     "current": "3171fbc4-6178-11e9-b810-02420a00005a",
     "next": "3171fbf6-6178-11e9-b810-02420a00005a",
     "previous": "3171fb92-6178-11e9-b810-02420a00005a"
    }
   },
   "source": [
    "**履修者全員のリストが入っている　/notebooks/med-b　との差分を　diffコマンドで　抽出して欠席者リストを得る。**"
   ]
  },
  {
   "cell_type": "code",
   "execution_count": null,
   "metadata": {
    "lc_cell_meme": {
     "current": "3171fbf6-6178-11e9-b810-02420a00005a",
     "next": "3171fc1e-6178-11e9-b810-02420a00005a",
     "previous": "3171fbc4-6178-11e9-b810-02420a00005a"
    },
    "lc_wrapper": {
     "log_history": [
      "/home/yoko69d621/textbook/med/.log/20200426/20200426-072225-0412.log",
      "/home/yoko69d621/textbook/med/.log/20200426/20200426-073247-0897.log",
      "/home/yoko69d621/textbook/med/.log/20200426/20200426-073313-0937.log",
      "/home/yoko69d621/textbook/med/.log/20200426/20200426-073352-0144.log"
     ]
    }
   },
   "outputs": [],
   "source": [
    "!(curl https://etherpad.opendev.org/p/2020-med-b-ac/export/txt 2> /dev/null 2> /dev/null)|cut -c1-8 |head -64|tail -56|tr [a-z] [A-Z]|uniq|sort| diff - ./med-b"
   ]
  },
  {
   "cell_type": "markdown",
   "metadata": {
    "lc_cell_meme": {
     "current": "3171fc1e-6178-11e9-b810-02420a00005a",
     "next": "3171fc50-6178-11e9-b810-02420a00005a",
     "previous": "3171fbf6-6178-11e9-b810-02420a00005a"
    }
   },
   "source": [
    "**では簡単な問題に回答して理解度チェック**"
   ]
  },
  {
   "cell_type": "markdown",
   "metadata": {
    "lc_cell_meme": {
     "current": "3171fc50-6178-11e9-b810-02420a00005a",
     "next": "3171fc82-6178-11e9-b810-02420a00005a",
     "previous": "3171fc1e-6178-11e9-b810-02420a00005a"
    }
   },
   "source": [
    "**問題１：大文字に揃えるのではなく小文字に揃えるコマンドは？**\n",
    "**出席者の学籍番号リストを小文字で出力してみましょう。**\n",
    "\n",
    "**そのコマンドを作って実行してみましょう。**"
   ]
  },
  {
   "cell_type": "code",
   "execution_count": null,
   "metadata": {
    "lc_cell_meme": {
     "current": "3171fc82-6178-11e9-b810-02420a00005a",
     "history": [
      {
       "current": "3171fc82-6178-11e9-b810-02420a00005a",
       "next": null,
       "previous": "3171fc50-6178-11e9-b810-02420a00005a"
      }
     ],
     "next": "3171fc50-6178-11e9-b810-02420a00005a",
     "previous": "3171fc50-6178-11e9-b810-02420a00005a"
    }
   },
   "outputs": [],
   "source": [
    "##ここの下の行にコマンドをコピーして実行してみてください。\n"
   ]
  },
  {
   "cell_type": "markdown",
   "metadata": {
    "lc_cell_meme": {
     "current": "3171fc50-6178-11e9-b810-02420a00005a",
     "history": [
      {
       "current": "3171fc50-6178-11e9-b810-02420a00005a",
       "next": "3171fc82-6178-11e9-b810-02420a00005a",
       "previous": "3171fc1e-6178-11e9-b810-02420a00005a"
      }
     ],
     "next": "3171fc82-6178-11e9-b810-02420a00005a",
     "previous": "3171fc82-6178-11e9-b810-02420a00005a"
    }
   },
   "source": [
    "**問題２：出席者の中からランダムに一人を選ぶコマンドは？**\n",
    "**そのコマンドを作って実行してみましょう。**"
   ]
  },
  {
   "cell_type": "code",
   "execution_count": null,
   "metadata": {
    "lc_cell_meme": {
     "current": "3171fc82-6178-11e9-b810-02420a00005a",
     "history": [
      {
       "current": "3171fc82-6178-11e9-b810-02420a00005a",
       "next": null,
       "previous": "3171fc50-6178-11e9-b810-02420a00005a"
      }
     ],
     "next": "3171fc50-6178-11e9-b810-02420a00005a",
     "previous": "3171fc50-6178-11e9-b810-02420a00005a"
    }
   },
   "outputs": [],
   "source": [
    "##ここの下の行にコマンドをコピーして実行してみてください。\n"
   ]
  },
  {
   "cell_type": "markdown",
   "metadata": {
    "lc_cell_meme": {
     "current": "3171fc50-6178-11e9-b810-02420a00005a",
     "history": [
      {
       "current": "3171fc50-6178-11e9-b810-02420a00005a",
       "next": "3171fc82-6178-11e9-b810-02420a00005a",
       "previous": "3171fc1e-6178-11e9-b810-02420a00005a"
      }
     ],
     "next": "3171fc82-6178-11e9-b810-02420a00005a",
     "previous": "3171fc82-6178-11e9-b810-02420a00005a"
    }
   },
   "source": [
    "**問題３：出席者の中からランダムに３人を選ぶコマンドは？**\n",
    "**そのコマンドを作って実行してみましょう。**"
   ]
  },
  {
   "cell_type": "code",
   "execution_count": null,
   "metadata": {
    "lc_cell_meme": {
     "current": "3171fc82-6178-11e9-b810-02420a00005a",
     "history": [
      {
       "current": "3171fc82-6178-11e9-b810-02420a00005a",
       "next": null,
       "previous": "3171fc50-6178-11e9-b810-02420a00005a"
      }
     ],
     "next": "3171fc50-6178-11e9-b810-02420a00005a",
     "previous": "3171fc50-6178-11e9-b810-02420a00005a"
    }
   },
   "outputs": [],
   "source": [
    "##ここの下の行にコマンドをコピーして実行してみてください。\n"
   ]
  },
  {
   "cell_type": "markdown",
   "metadata": {
    "lc_cell_meme": {
     "current": "3171fc50-6178-11e9-b810-02420a00005a",
     "history": [
      {
       "current": "3171fc50-6178-11e9-b810-02420a00005a",
       "next": "3171fc82-6178-11e9-b810-02420a00005a",
       "previous": "3171fc1e-6178-11e9-b810-02420a00005a"
      }
     ],
     "next": "3171fc82-6178-11e9-b810-02420a00005a",
     "previous": "3171fc82-6178-11e9-b810-02420a00005a"
    }
   },
   "source": [
    "**問題４：俳句っぽい文章を自動生成してみましょう。**\n",
    "\n",
    "**以下に置いてある５音言葉のリストと７音言葉のリストを使ってみてはどうでしょう？**\n",
    "\n",
    "**https://etherpad.opendev.org/p/word-5 と　https://etherpad.opendev.org/p/word-7 を使ってみましょう。**\n",
    "\n",
    "**もちろん　https://etherpad.opendev.org/p/word-5 と　https://etherpad.opendev.org/p/word-7　に好きな言葉を追加してもいいですよ。**\n",
    "\n",
    "**そのコマンドを作って実行してみましょう。**"
   ]
  },
  {
   "cell_type": "code",
   "execution_count": null,
   "metadata": {
    "lc_cell_meme": {
     "current": "3171fc82-6178-11e9-b810-02420a00005a",
     "history": [
      {
       "current": "3171fc82-6178-11e9-b810-02420a00005a",
       "next": null,
       "previous": "3171fc50-6178-11e9-b810-02420a00005a"
      }
     ],
     "next": "3171fc50-6178-11e9-b810-02420a00005a",
     "previous": "3171fc50-6178-11e9-b810-02420a00005a"
    }
   },
   "outputs": [],
   "source": [
    "##ここの下の行にコマンドをコピーして実行してみてください。\n"
   ]
  },
  {
   "cell_type": "markdown",
   "metadata": {
    "lc_cell_meme": {
     "current": "3171fc50-6178-11e9-b810-02420a00005a",
     "history": [
      {
       "current": "3171fc50-6178-11e9-b810-02420a00005a",
       "next": "3171fc82-6178-11e9-b810-02420a00005a",
       "previous": "3171fc1e-6178-11e9-b810-02420a00005a"
      }
     ],
     "next": "3171fc82-6178-11e9-b810-02420a00005a",
     "previous": "3171fc82-6178-11e9-b810-02420a00005a"
    }
   },
   "source": [
    "**問題５：もっと俳句っぽい文章を自動生成してみましょう。**\n",
    "**そのコマンドを作って実行してみましょう。**"
   ]
  },
  {
   "cell_type": "code",
   "execution_count": null,
   "metadata": {
    "lc_cell_meme": {
     "current": "3171fc82-6178-11e9-b810-02420a00005a",
     "next": null,
     "previous": "3171fc50-6178-11e9-b810-02420a00005a"
    }
   },
   "outputs": [],
   "source": [
    "##ここの下の行にコマンドをコピーして実行してみてください。\n"
   ]
  }
 ],
 "metadata": {
  "kernelspec": {
   "display_name": "Python 3",
   "language": "python",
   "name": "python3"
  },
  "language_info": {
   "file_extension": ".py",
   "mimetype": "text/x-python",
   "name": "python",
   "nbconvert_exporter": "python",
   "pygments_lexer": "ipython3",
   "version": "3.7.3"
  },
  "lc_notebook_meme": {
   "current": "3171f642-6178-11e9-b810-02420a00005a",
   "lc_server_signature": {
    "current": {
     "notebook_dir": "/home/yoko69d621",
     "notebook_path": "/textbook/med",
     "server_url": "https://nb03.ecloud.nii.ac.jp/user/yoko69d621/",
     "signature_id": "5e786c6e-5fea-11e9-b810-02420a00005a"
    },
    "history": [
     {
      "notebook_dir": "/home/yoko69d621",
      "notebook_path": "/textbook/nw_sec",
      "server_url": "https://nb03.ecloud.nii.ac.jp/user/yoko69d621/",
      "signature_id": "5e786c6e-5fea-11e9-b810-02420a00005a"
     }
    ]
   }
  },
  "toc": {
   "base_numbering": 1,
   "nav_menu": {},
   "number_sections": true,
   "sideBar": true,
   "skip_h1_title": false,
   "title_cell": "Table of Contents",
   "title_sidebar": "Contents",
   "toc_cell": false,
   "toc_position": {},
   "toc_section_display": true,
   "toc_window_display": false
  }
 },
 "nbformat": 4,
 "nbformat_minor": 2
}
