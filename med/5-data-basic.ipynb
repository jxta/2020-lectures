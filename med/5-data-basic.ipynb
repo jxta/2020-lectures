{
 "cells": [
  {
   "cell_type": "markdown",
   "metadata": {
    "lc_cell_meme": {
     "current": "33b30dcc-8803-11e9-8556-02420a010127",
     "next": "33b30e1c-8803-11e9-8556-02420a010127",
     "previous": null
    }
   },
   "source": [
    "![2-10](http://i.imgur.com/bCBuvkc.png)"
   ]
  },
  {
   "cell_type": "markdown",
   "metadata": {
    "lc_cell_meme": {
     "current": "33b30e1c-8803-11e9-8556-02420a010127",
     "next": "33b30e62-8803-11e9-8556-02420a010127",
     "previous": "33b30dcc-8803-11e9-8556-02420a010127"
    }
   },
   "source": [
    "**2進数から10進数への変換 （上の例）**  \n",
    "-- 0bのbはbinaryのb --"
   ]
  },
  {
   "cell_type": "code",
   "execution_count": null,
   "metadata": {
    "lc_cell_meme": {
     "current": "33b30e62-8803-11e9-8556-02420a010127",
     "next": "33b30e94-8803-11e9-8556-02420a010127",
     "previous": "33b30e1c-8803-11e9-8556-02420a010127"
    }
   },
   "outputs": [],
   "source": [
    "0b1011"
   ]
  },
  {
   "cell_type": "markdown",
   "metadata": {
    "lc_cell_meme": {
     "current": "33b30e94-8803-11e9-8556-02420a010127",
     "next": "33b30ed0-8803-11e9-8556-02420a010127",
     "previous": "33b30e62-8803-11e9-8556-02420a010127"
    }
   },
   "source": [
    "**10進数から2進数への変換 （上の例）**"
   ]
  },
  {
   "cell_type": "code",
   "execution_count": null,
   "metadata": {
    "lc_cell_meme": {
     "current": "33b30ed0-8803-11e9-8556-02420a010127",
     "next": "33b30f02-8803-11e9-8556-02420a010127",
     "previous": "33b30e94-8803-11e9-8556-02420a010127"
    }
   },
   "outputs": [],
   "source": [
    "bin(11)"
   ]
  },
  {
   "cell_type": "markdown",
   "metadata": {
    "lc_cell_meme": {
     "current": "33b30f02-8803-11e9-8556-02420a010127",
     "next": "33b30f34-8803-11e9-8556-02420a010127",
     "previous": "33b30ed0-8803-11e9-8556-02420a010127"
    }
   },
   "source": [
    "**2進数から10進数への変換 （いろいろ試してみよう）**"
   ]
  },
  {
   "cell_type": "code",
   "execution_count": null,
   "metadata": {
    "lc_cell_meme": {
     "current": "33b30f34-8803-11e9-8556-02420a010127",
     "next": "33b30f66-8803-11e9-8556-02420a010127",
     "previous": "33b30f02-8803-11e9-8556-02420a010127"
    }
   },
   "outputs": [],
   "source": [
    "0b1111"
   ]
  },
  {
   "cell_type": "markdown",
   "metadata": {
    "lc_cell_meme": {
     "current": "33b30f66-8803-11e9-8556-02420a010127",
     "next": "33b30f98-8803-11e9-8556-02420a010127",
     "previous": "33b30f34-8803-11e9-8556-02420a010127"
    }
   },
   "source": [
    "**10進数から2進数への変換 （いろいろ試してみよう**"
   ]
  },
  {
   "cell_type": "code",
   "execution_count": null,
   "metadata": {
    "lc_cell_meme": {
     "current": "33b30f98-8803-11e9-8556-02420a010127",
     "next": "33b30fca-8803-11e9-8556-02420a010127",
     "previous": "33b30f66-8803-11e9-8556-02420a010127"
    }
   },
   "outputs": [],
   "source": [
    "bin(15)"
   ]
  },
  {
   "cell_type": "markdown",
   "metadata": {
    "lc_cell_meme": {
     "current": "33b30fca-8803-11e9-8556-02420a010127",
     "next": "33b30ffc-8803-11e9-8556-02420a010127",
     "previous": "33b30f98-8803-11e9-8556-02420a010127"
    }
   },
   "source": [
    "![16-10](http://i.imgur.com/v1oFs07.png)"
   ]
  },
  {
   "cell_type": "markdown",
   "metadata": {
    "lc_cell_meme": {
     "current": "33b30ffc-8803-11e9-8556-02420a010127",
     "next": "33b3102e-8803-11e9-8556-02420a010127",
     "previous": "33b30fca-8803-11e9-8556-02420a010127"
    }
   },
   "source": [
    "**16進数から10進数への変換 （上の例）**  \n",
    "--0xのxはhexadecimalのx--"
   ]
  },
  {
   "cell_type": "code",
   "execution_count": null,
   "metadata": {
    "lc_cell_meme": {
     "current": "33b3102e-8803-11e9-8556-02420a010127",
     "next": "33b31100-8803-11e9-8556-02420a010127",
     "previous": "33b30ffc-8803-11e9-8556-02420a010127"
    }
   },
   "outputs": [],
   "source": [
    "0xA7"
   ]
  },
  {
   "cell_type": "markdown",
   "metadata": {
    "lc_cell_meme": {
     "current": "33b31100-8803-11e9-8556-02420a010127",
     "next": "33b31132-8803-11e9-8556-02420a010127",
     "previous": "33b3102e-8803-11e9-8556-02420a010127"
    }
   },
   "source": [
    "**10進数から16進数への変換 （上の例**"
   ]
  },
  {
   "cell_type": "code",
   "execution_count": null,
   "metadata": {
    "lc_cell_meme": {
     "current": "33b31132-8803-11e9-8556-02420a010127",
     "next": "33b31164-8803-11e9-8556-02420a010127",
     "previous": "33b31100-8803-11e9-8556-02420a010127"
    }
   },
   "outputs": [],
   "source": [
    "hex(167)"
   ]
  },
  {
   "cell_type": "markdown",
   "metadata": {
    "lc_cell_meme": {
     "current": "33b31164-8803-11e9-8556-02420a010127",
     "next": "33b31196-8803-11e9-8556-02420a010127",
     "previous": "33b31132-8803-11e9-8556-02420a010127"
    }
   },
   "source": [
    "**手計算でもできるから必要ないでしょうけれどあえて　16進数と2進数の相互変換をpythonで書くと**"
   ]
  },
  {
   "cell_type": "code",
   "execution_count": null,
   "metadata": {
    "lc_cell_meme": {
     "current": "33b31196-8803-11e9-8556-02420a010127",
     "next": "33b311be-8803-11e9-8556-02420a010127",
     "previous": "33b31164-8803-11e9-8556-02420a010127"
    }
   },
   "outputs": [],
   "source": [
    "bin(0x5C)"
   ]
  },
  {
   "cell_type": "code",
   "execution_count": null,
   "metadata": {
    "lc_cell_meme": {
     "current": "33b311be-8803-11e9-8556-02420a010127",
     "next": "33b311f0-8803-11e9-8556-02420a010127",
     "previous": "33b31196-8803-11e9-8556-02420a010127"
    }
   },
   "outputs": [],
   "source": [
    "hex(0b1011100)"
   ]
  },
  {
   "cell_type": "code",
   "execution_count": null,
   "metadata": {
    "lc_cell_meme": {
     "current": "33b311f0-8803-11e9-8556-02420a010127",
     "next": "33b31222-8803-11e9-8556-02420a010127",
     "previous": "33b311be-8803-11e9-8556-02420a010127"
    }
   },
   "outputs": [],
   "source": [
    "ord(\"A\"), hex(ord(\"A\"))"
   ]
  },
  {
   "cell_type": "code",
   "execution_count": null,
   "metadata": {
    "lc_cell_meme": {
     "current": "33b31222-8803-11e9-8556-02420a010127",
     "next": "33b31254-8803-11e9-8556-02420a010127",
     "previous": "33b311f0-8803-11e9-8556-02420a010127"
    }
   },
   "outputs": [],
   "source": [
    "ord(u\"あ\"), hex(ord(u\"あ\"))"
   ]
  },
  {
   "cell_type": "code",
   "execution_count": null,
   "metadata": {
    "lc_cell_meme": {
     "current": "33b31254-8803-11e9-8556-02420a010127",
     "next": "33b31286-8803-11e9-8556-02420a010127",
     "previous": "33b31222-8803-11e9-8556-02420a010127"
    }
   },
   "outputs": [],
   "source": [
    "ANSWER_1 = input(\"16進数で0xFFFFを10進数に変換するといくらになるでしょう？\")\n",
    "print(\"ANSWER_1 =\", ANSWER_1)"
   ]
  },
  {
   "cell_type": "markdown",
   "metadata": {
    "lc_cell_meme": {
     "current": "33b31286-8803-11e9-8556-02420a010127",
     "next": "33b312b8-8803-11e9-8556-02420a010127",
     "previous": "33b31254-8803-11e9-8556-02420a010127"
    }
   },
   "source": [
    "**sample.bmp**"
   ]
  },
  {
   "cell_type": "markdown",
   "metadata": {
    "lc_cell_meme": {
     "current": "33b312b8-8803-11e9-8556-02420a010127",
     "next": "33b312e0-8803-11e9-8556-02420a010127",
     "previous": "33b31286-8803-11e9-8556-02420a010127"
    }
   },
   "source": [
    "![sample.bmp](http://i.imgur.com/fSdbF5X.png)"
   ]
  },
  {
   "cell_type": "code",
   "execution_count": 1,
   "metadata": {
    "lc_cell_meme": {
     "current": "33b312e0-8803-11e9-8556-02420a010127",
     "next": "33b31312-8803-11e9-8556-02420a010127",
     "previous": "33b312b8-8803-11e9-8556-02420a010127"
    }
   },
   "outputs": [
    {
     "name": "stdout",
     "output_type": "stream",
     "text": [
      "0000000 4d42 a436 001f 0000 0000 0036 0000 0028\n",
      "0000020 0000 03c0 0000 02d0 0000 0001 0018 0000\n",
      "0000040 0000 a400 001f 0ec4 0000 0ec4 0000 0000\n",
      "0000060 0000 0000 0000 3505 1340 4136 351b 1541\n",
      "0000100 4238 4c23 3b55 6b5d 5c45 3a6e 6757 432e\n",
      "0000120 2c52 3325 1514 001a 201f 3104 003c 4f3d\n",
      "0000140 5b0f 3671 a68b 9735 17b1 8d77 590c 186a\n",
      "0000160 5c51 5e21 1964 6a67 5614 165e 473b 321d\n",
      "0000200 193b 4d49 5c23 3f64 6554 494a 3a5e 5041\n",
      "0000220 3728 2341 3428 2620 1e3a 5b40 7c41 4fa1\n",
      "0000240 ae83 3f23 0065 3521 3e0b 3249 6f62 7855\n",
      "0000260 5681 7578 7147 4b6f 8a85 823c 1088 5154\n",
      "0000300 4615 3b49 6963 7e4c 5d76 7c86 9567 5e91\n",
      "0000320 a4ae 933f 207c 4558 3c16 0b41 5239 6835\n",
      "0000340 8f7e b4ad bba6 87bb b6a7 b27e 7fd7 f3cf\n",
      "0000360 e270 4ef4 d9cf 8230 31a1 784f 5a43 3673\n",
      "0000400 6a52 3d1d 1a5e 5b3f 3a21 384c 594b 7151\n",
      "0000420 2f85 7655 1803 063d 1f05 1621 252f 361d\n",
      "0000440 0808 0014 0000 0306 1a00 0901 0012 0007\n",
      "0000460 0903 0b00 0e21 4629 2d14 0646 1d0a 0706\n",
      "0000500 1917 3326 3727 2441 3529 2319 1e31 513f\n",
      "0000520 6641 557f 8066 3e3d 144d 1e16 1303 0d1b\n",
      "0000540 2e23 230e 0534 381f 2f09 194c 6747 6333\n",
      "0000560 4881 9681 9c49 44a5 a29b 814a 5795 8c6d\n",
      "0000600 6d56 488e 987a 9b5e 6eb5 b399 6a4d 2283\n",
      "0000620 6954 6310 1473 7e6c 641b 1779 644c 3810\n",
      "0000640 1150 4932 2c12 0b42 3621 220f 1c36 4432\n",
      "0000660 3c22 124a 3b2f 2004 0f2b 3227 3522 273e\n",
      "0000700 3e32 2019 0b35 2d18 200f 1d31 3c2c 2e19\n",
      "0000720 0c3b 2d21 1308 0320 1d0d 1b0c 242f 472d\n",
      "od: write error\n",
      "od: write error: Broken pipe\n"
     ]
    }
   ],
   "source": [
    "!od -x ./images/sample.bmp|head -30"
   ]
  },
  {
   "cell_type": "markdown",
   "metadata": {
    "lc_cell_meme": {
     "current": "33b31312-8803-11e9-8556-02420a010127",
     "next": "33b31344-8803-11e9-8556-02420a010127",
     "previous": "33b312e0-8803-11e9-8556-02420a010127"
    }
   },
   "source": [
    "![sample.bnp-data](http://i.imgur.com/kMu1qwt.png)"
   ]
  },
  {
   "cell_type": "code",
   "execution_count": null,
   "metadata": {
    "lc_cell_meme": {
     "current": "33b31344-8803-11e9-8556-02420a010127",
     "next": null,
     "previous": "33b31312-8803-11e9-8556-02420a010127"
    }
   },
   "outputs": [],
   "source": [
    "ANSWER_2 = input(\"sample.bmpの左下から赤い矢印の方向に3pixel目の色をBGRの順に16進数で表現すると？\")\n",
    "print(\"ANSWER_2 =\", ANSWER_2)"
   ]
  }
 ],
 "metadata": {
  "kernelspec": {
   "display_name": "Python 3",
   "language": "python",
   "name": "python3"
  },
  "language_info": {
   "codemirror_mode": {
    "name": "ipython",
    "version": 3
   },
   "file_extension": ".py",
   "mimetype": "text/x-python",
   "name": "python",
   "nbconvert_exporter": "python",
   "pygments_lexer": "ipython3",
   "version": "3.7.3"
  },
  "lc_notebook_meme": {
   "current": "33b30c96-8803-11e9-8556-02420a010127",
   "lc_server_signature": {
    "current": {
     "notebook_dir": "/home/yoko69d621",
     "notebook_path": "/textbook/med",
     "server_url": "https://nb03.ecloud.nii.ac.jp/user/yoko69d621/",
     "signature_id": "5e786c6e-5fea-11e9-b810-02420a00005a"
    },
    "history": []
   }
  }
 },
 "nbformat": 4,
 "nbformat_minor": 2
}
