{
 "cells": [
  {
   "cell_type": "markdown",
   "metadata": {
    "lc_cell_meme": {
     "current": "310cd8d2-8803-11e9-8556-02420a010127",
     "next": "310cd94a-8803-11e9-8556-02420a010127",
     "previous": null
    }
   },
   "source": [
    "**Linuxコマンドを使って遺伝研のゲノムデータを触ってみよう** \n",
    "\n",
    "（Jupyter notebookのcell内では　**!**の後にLinuxコマンドを書くとコマンドが実行できる。）"
   ]
  },
  {
   "cell_type": "markdown",
   "metadata": {
    "lc_cell_meme": {
     "current": "310cd94a-8803-11e9-8556-02420a010127",
     "next": "310cd986-8803-11e9-8556-02420a010127",
     "previous": "310cd8d2-8803-11e9-8556-02420a010127"
    }
   },
   "source": [
    "**遺伝研のゲノムデータベース　DDBJ から FASTQ をダウンロードする方法**"
   ]
  },
  {
   "cell_type": "code",
   "execution_count": null,
   "metadata": {
    "lc_cell_meme": {
     "current": "310cd986-8803-11e9-8556-02420a010127",
     "next": "310cda94-8803-11e9-8556-02420a010127",
     "previous": "310cd94a-8803-11e9-8556-02420a010127"
    }
   },
   "outputs": [],
   "source": [
    "!wget ftp://ftp.ddbj.nig.ac.jp/ddbj_database/dra/fastq/DRA000/DRA000001/DRX000001/DRR000001.fastq.bz2 -O /tmp/DRR000001.fastq.bz2"
   ]
  },
  {
   "cell_type": "markdown",
   "metadata": {
    "lc_cell_meme": {
     "current": "310cda94-8803-11e9-8556-02420a010127",
     "next": "310cdac6-8803-11e9-8556-02420a010127",
     "previous": "310cd986-8803-11e9-8556-02420a010127"
    }
   },
   "source": [
    "**圧縮された状態のファイルサイズを見る**"
   ]
  },
  {
   "cell_type": "code",
   "execution_count": null,
   "metadata": {
    "lc_cell_meme": {
     "current": "310cdac6-8803-11e9-8556-02420a010127",
     "next": "310cdaf8-8803-11e9-8556-02420a010127",
     "previous": "310cda94-8803-11e9-8556-02420a010127"
    }
   },
   "outputs": [],
   "source": [
    "!ls -l /tmp/DRR000001.fastq.bz2"
   ]
  },
  {
   "cell_type": "markdown",
   "metadata": {
    "lc_cell_meme": {
     "current": "310cdaf8-8803-11e9-8556-02420a010127",
     "next": "310cdb2a-8803-11e9-8556-02420a010127",
     "previous": "310cdac6-8803-11e9-8556-02420a010127"
    }
   },
   "source": [
    "**bzipコマンドで圧縮されたファイルを伸張する**"
   ]
  },
  {
   "cell_type": "code",
   "execution_count": null,
   "metadata": {
    "lc_cell_meme": {
     "current": "310cdb2a-8803-11e9-8556-02420a010127",
     "next": "310cdb52-8803-11e9-8556-02420a010127",
     "previous": "310cdaf8-8803-11e9-8556-02420a010127"
    }
   },
   "outputs": [],
   "source": [
    "!bzip2 -d -v /tmp/DRR000001.fastq.bz2"
   ]
  },
  {
   "cell_type": "markdown",
   "metadata": {
    "lc_cell_meme": {
     "current": "310cdb52-8803-11e9-8556-02420a010127",
     "next": "310cdb84-8803-11e9-8556-02420a010127",
     "previous": "310cdb2a-8803-11e9-8556-02420a010127"
    }
   },
   "source": [
    "**伸張された状態のファイルサイズを見る**"
   ]
  },
  {
   "cell_type": "code",
   "execution_count": null,
   "metadata": {
    "lc_cell_meme": {
     "current": "310cdb84-8803-11e9-8556-02420a010127",
     "next": "310cdbb6-8803-11e9-8556-02420a010127",
     "previous": "310cdb52-8803-11e9-8556-02420a010127"
    }
   },
   "outputs": [],
   "source": [
    "!ls -l /tmp/DRR000001.fastq"
   ]
  },
  {
   "cell_type": "markdown",
   "metadata": {
    "lc_cell_meme": {
     "current": "310cdbb6-8803-11e9-8556-02420a010127",
     "next": "310cdbe8-8803-11e9-8556-02420a010127",
     "previous": "310cdb84-8803-11e9-8556-02420a010127"
    }
   },
   "source": [
    "**最初の部分だけ表示**"
   ]
  },
  {
   "cell_type": "code",
   "execution_count": null,
   "metadata": {
    "lc_cell_meme": {
     "current": "310cdbe8-8803-11e9-8556-02420a010127",
     "next": "310cdc10-8803-11e9-8556-02420a010127",
     "previous": "310cdbb6-8803-11e9-8556-02420a010127"
    }
   },
   "outputs": [],
   "source": [
    "!head -100 /tmp/DRR000001.fastq "
   ]
  },
  {
   "cell_type": "markdown",
   "metadata": {
    "lc_cell_meme": {
     "current": "310cdc10-8803-11e9-8556-02420a010127",
     "next": "310cdc42-8803-11e9-8556-02420a010127",
     "previous": "310cdbe8-8803-11e9-8556-02420a010127"
    }
   },
   "source": [
    "**最初の1000unitsを抽出する**"
   ]
  },
  {
   "cell_type": "code",
   "execution_count": null,
   "metadata": {
    "lc_cell_meme": {
     "current": "310cdc42-8803-11e9-8556-02420a010127",
     "next": "310cdc74-8803-11e9-8556-02420a010127",
     "previous": "310cdc10-8803-11e9-8556-02420a010127"
    }
   },
   "outputs": [],
   "source": [
    "!head -4000 /tmp/DRR000001.fastq > /tmp/1K_DRR000001.fastq"
   ]
  },
  {
   "cell_type": "markdown",
   "metadata": {
    "lc_cell_meme": {
     "current": "310cdc74-8803-11e9-8556-02420a010127",
     "next": "310cdc9c-8803-11e9-8556-02420a010127",
     "previous": "310cdc42-8803-11e9-8556-02420a010127"
    }
   },
   "source": [
    "**AAAAが含まれる unit数をカウント**"
   ]
  },
  {
   "cell_type": "code",
   "execution_count": null,
   "metadata": {
    "lc_cell_meme": {
     "current": "310cdc9c-8803-11e9-8556-02420a010127",
     "next": null,
     "previous": "310cdc74-8803-11e9-8556-02420a010127"
    }
   },
   "outputs": [],
   "source": [
    "!grep AAAA  /tmp/1K_DRR000001.fastq|wc -l"
   ]
  }
 ],
 "metadata": {
  "kernelspec": {
   "display_name": "Python 2",
   "language": "python",
   "name": "python2"
  },
  "language_info": {
   "codemirror_mode": {
    "name": "ipython",
    "version": 2
   },
   "file_extension": ".py",
   "mimetype": "text/x-python",
   "name": "python",
   "nbconvert_exporter": "python",
   "pygments_lexer": "ipython2",
   "version": "2.7.15"
  },
  "lc_notebook_meme": {
   "current": "310cd670-8803-11e9-8556-02420a010127",
   "lc_server_signature": {
    "current": {
     "notebook_dir": "/home/yoko69d621",
     "notebook_path": "/textbook/med",
     "server_url": "https://nb03.ecloud.nii.ac.jp/user/yoko69d621/",
     "signature_id": "5e786c6e-5fea-11e9-b810-02420a00005a"
    },
    "history": []
   }
  }
 },
 "nbformat": 4,
 "nbformat_minor": 2
}
