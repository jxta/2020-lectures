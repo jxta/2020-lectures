{
 "cells": [
  {
   "cell_type": "markdown",
   "metadata": {
    "lc_cell_meme": {
     "current": "7e3b552a-8803-11e9-8556-02420a010127",
     "next": "7e3b55a2-8803-11e9-8556-02420a010127",
     "previous": null
    }
   },
   "source": [
    "**network関連コマンドをインストールしよう**"
   ]
  },
  {
   "cell_type": "code",
   "execution_count": null,
   "metadata": {
    "lc_cell_meme": {
     "current": "7e3b55a2-8803-11e9-8556-02420a010127",
     "next": "7e3b55de-8803-11e9-8556-02420a010127",
     "previous": "7e3b552a-8803-11e9-8556-02420a010127"
    }
   },
   "outputs": [],
   "source": [
    "!sudo apt-get update; sudo apt-get install iproute2 iputils-ping net-tools dnsutils traceroute -y"
   ]
  },
  {
   "cell_type": "markdown",
   "metadata": {
    "lc_cell_meme": {
     "current": "7e3b55de-8803-11e9-8556-02420a010127",
     "next": "7e3b5692-8803-11e9-8556-02420a010127",
     "previous": "7e3b55a2-8803-11e9-8556-02420a010127"
    }
   },
   "source": [
    "**ipコマンドをたたいてみよう**"
   ]
  },
  {
   "cell_type": "code",
   "execution_count": null,
   "metadata": {
    "lc_cell_meme": {
     "current": "7e3b5692-8803-11e9-8556-02420a010127",
     "next": "7e3b56ce-8803-11e9-8556-02420a010127",
     "previous": "7e3b55de-8803-11e9-8556-02420a010127"
    },
    "scrolled": true
   },
   "outputs": [],
   "source": [
    "!ip addr"
   ]
  },
  {
   "cell_type": "markdown",
   "metadata": {
    "lc_cell_meme": {
     "current": "7e3b56ce-8803-11e9-8556-02420a010127",
     "next": "7e3b5700-8803-11e9-8556-02420a010127",
     "previous": "7e3b5692-8803-11e9-8556-02420a010127"
    }
   },
   "source": [
    "**ipコマンド の機能を見てみよう**"
   ]
  },
  {
   "cell_type": "code",
   "execution_count": null,
   "metadata": {
    "lc_cell_meme": {
     "current": "7e3b5700-8803-11e9-8556-02420a010127",
     "next": "7e3b5732-8803-11e9-8556-02420a010127",
     "previous": "7e3b56ce-8803-11e9-8556-02420a010127"
    }
   },
   "outputs": [],
   "source": [
    "!ip --help"
   ]
  },
  {
   "cell_type": "markdown",
   "metadata": {
    "lc_cell_meme": {
     "current": "7e3b5732-8803-11e9-8556-02420a010127",
     "next": "7e3b5764-8803-11e9-8556-02420a010127",
     "previous": "7e3b5700-8803-11e9-8556-02420a010127"
    }
   },
   "source": [
    "**pingコマンド をたたいてみよう**"
   ]
  },
  {
   "cell_type": "code",
   "execution_count": null,
   "metadata": {
    "lc_cell_meme": {
     "current": "7e3b5764-8803-11e9-8556-02420a010127",
     "next": "7e3b5796-8803-11e9-8556-02420a010127",
     "previous": "7e3b5732-8803-11e9-8556-02420a010127"
    },
    "scrolled": true
   },
   "outputs": [],
   "source": [
    "!ping 8.8.8.8 -c 5"
   ]
  },
  {
   "cell_type": "markdown",
   "metadata": {
    "lc_cell_meme": {
     "current": "7e3b5796-8803-11e9-8556-02420a010127",
     "next": "7e3b57be-8803-11e9-8556-02420a010127",
     "previous": "7e3b5764-8803-11e9-8556-02420a010127"
    }
   },
   "source": [
    "**pingコマンド の機能を見てみよう**"
   ]
  },
  {
   "cell_type": "code",
   "execution_count": null,
   "metadata": {
    "lc_cell_meme": {
     "current": "7e3b57be-8803-11e9-8556-02420a010127",
     "next": "7e3b57f0-8803-11e9-8556-02420a010127",
     "previous": "7e3b5796-8803-11e9-8556-02420a010127"
    },
    "scrolled": true
   },
   "outputs": [],
   "source": [
    "!ping"
   ]
  },
  {
   "cell_type": "markdown",
   "metadata": {
    "lc_cell_meme": {
     "current": "7e3b57f0-8803-11e9-8556-02420a010127",
     "next": "7e3b5818-8803-11e9-8556-02420a010127",
     "previous": "7e3b57be-8803-11e9-8556-02420a010127"
    }
   },
   "source": [
    "**pingコマンド でネットワーク遅延時間を測ってみよう** https://www.sinet.ad.jp/connect_service/service/ping"
   ]
  },
  {
   "cell_type": "code",
   "execution_count": null,
   "metadata": {
    "lc_cell_meme": {
     "current": "7e3b5818-8803-11e9-8556-02420a010127",
     "next": "7e3b584a-8803-11e9-8556-02420a010127",
     "previous": "7e3b57f0-8803-11e9-8556-02420a010127"
    }
   },
   "outputs": [],
   "source": [
    "!ping ping-tokyo.sinet.ad.jp -c 5"
   ]
  },
  {
   "cell_type": "code",
   "execution_count": null,
   "metadata": {
    "lc_cell_meme": {
     "current": "7e3b584a-8803-11e9-8556-02420a010127",
     "next": "7e3b587c-8803-11e9-8556-02420a010127",
     "previous": "7e3b5818-8803-11e9-8556-02420a010127"
    }
   },
   "outputs": [],
   "source": [
    "!ping ping-osaka.sinet.ad.jp -c 5"
   ]
  },
  {
   "cell_type": "code",
   "execution_count": null,
   "metadata": {
    "lc_cell_meme": {
     "current": "7e3b587c-8803-11e9-8556-02420a010127",
     "next": "7e3b58ae-8803-11e9-8556-02420a010127",
     "previous": "7e3b584a-8803-11e9-8556-02420a010127"
    }
   },
   "outputs": [],
   "source": [
    "!ping ping-yamaguchi.sinet.ad.jp -c 5"
   ]
  },
  {
   "cell_type": "code",
   "execution_count": null,
   "metadata": {
    "lc_cell_meme": {
     "current": "7e3b58ae-8803-11e9-8556-02420a010127",
     "next": "7e3b58e0-8803-11e9-8556-02420a010127",
     "previous": "7e3b587c-8803-11e9-8556-02420a010127"
    }
   },
   "outputs": [],
   "source": [
    "!ping ping-oita.sinet.ad.jp -c 5"
   ]
  },
  {
   "cell_type": "code",
   "execution_count": null,
   "metadata": {
    "lc_cell_meme": {
     "current": "7e3b58e0-8803-11e9-8556-02420a010127",
     "next": "7e3b5908-8803-11e9-8556-02420a010127",
     "previous": "7e3b58ae-8803-11e9-8556-02420a010127"
    }
   },
   "outputs": [],
   "source": [
    "!ping ping-iwate.sinet.ad.jp -c 5"
   ]
  },
  {
   "cell_type": "code",
   "execution_count": null,
   "metadata": {
    "lc_cell_meme": {
     "current": "7e3b5908-8803-11e9-8556-02420a010127",
     "next": "7e3b593a-8803-11e9-8556-02420a010127",
     "previous": "7e3b58e0-8803-11e9-8556-02420a010127"
    }
   },
   "outputs": [],
   "source": [
    "!ping ping-hokkaido.sinet.ad.jp -c 5"
   ]
  },
  {
   "cell_type": "code",
   "execution_count": null,
   "metadata": {
    "lc_cell_meme": {
     "current": "7e3b593a-8803-11e9-8556-02420a010127",
     "next": "7e3b596c-8803-11e9-8556-02420a010127",
     "previous": "7e3b5908-8803-11e9-8556-02420a010127"
    }
   },
   "outputs": [],
   "source": [
    "!ping www.imperial.ac.uk  -c 5"
   ]
  },
  {
   "cell_type": "code",
   "execution_count": null,
   "metadata": {
    "lc_cell_meme": {
     "current": "7e3b596c-8803-11e9-8556-02420a010127",
     "history": [
      {
       "current": "7e3b596c-8803-11e9-8556-02420a010127",
       "next": "7e3b5994-8803-11e9-8556-02420a010127",
       "previous": "7e3b593a-8803-11e9-8556-02420a010127"
      }
     ],
     "next": "c179d514-8803-11e9-8556-02420a010127",
     "previous": "7e3b593a-8803-11e9-8556-02420a010127"
    }
   },
   "outputs": [],
   "source": [
    "!ping www.media.mit.edu  -c 5"
   ]
  },
  {
   "cell_type": "code",
   "execution_count": null,
   "metadata": {
    "lc_cell_meme": {
     "current": "c179d514-8803-11e9-8556-02420a010127",
     "next": "7e3b5994-8803-11e9-8556-02420a010127",
     "previous": "7e3b596c-8803-11e9-8556-02420a010127"
    }
   },
   "outputs": [],
   "source": [
    "!ping www.mit.edu  -c 5"
   ]
  },
  {
   "cell_type": "markdown",
   "metadata": {
    "lc_cell_meme": {
     "current": "7e3b5994-8803-11e9-8556-02420a010127",
     "history": [
      {
       "current": "7e3b5994-8803-11e9-8556-02420a010127",
       "next": "7e3b59c6-8803-11e9-8556-02420a010127",
       "previous": "7e3b596c-8803-11e9-8556-02420a010127"
      }
     ],
     "next": "7e3b59c6-8803-11e9-8556-02420a010127",
     "previous": "c179d514-8803-11e9-8556-02420a010127"
    }
   },
   "source": [
    "**network関連コマンドをインストールしよう**"
   ]
  },
  {
   "cell_type": "code",
   "execution_count": null,
   "metadata": {
    "lc_cell_meme": {
     "current": "7e3b59c6-8803-11e9-8556-02420a010127",
     "next": "7e3b59ee-8803-11e9-8556-02420a010127",
     "previous": "7e3b5994-8803-11e9-8556-02420a010127"
    },
    "scrolled": true
   },
   "outputs": [],
   "source": [
    "!sudo apt-get update"
   ]
  },
  {
   "cell_type": "markdown",
   "metadata": {
    "lc_cell_meme": {
     "current": "7e3b59ee-8803-11e9-8556-02420a010127",
     "next": "7e3b5a20-8803-11e9-8556-02420a010127",
     "previous": "7e3b59c6-8803-11e9-8556-02420a010127"
    }
   },
   "source": [
    "**nslookupコマンド をたたいてみよう**"
   ]
  },
  {
   "cell_type": "code",
   "execution_count": null,
   "metadata": {
    "lc_cell_meme": {
     "current": "7e3b5a20-8803-11e9-8556-02420a010127",
     "next": "7e3b5a48-8803-11e9-8556-02420a010127",
     "previous": "7e3b59ee-8803-11e9-8556-02420a010127"
    },
    "scrolled": true
   },
   "outputs": [],
   "source": [
    "!nslookup www.media.gunma-u.ac.jp"
   ]
  },
  {
   "cell_type": "markdown",
   "metadata": {
    "lc_cell_meme": {
     "current": "7e3b5a48-8803-11e9-8556-02420a010127",
     "history": [
      {
       "current": "7e3b5a48-8803-11e9-8556-02420a010127",
       "next": "7e3b5a7a-8803-11e9-8556-02420a010127",
       "previous": "7e3b5a20-8803-11e9-8556-02420a010127"
      }
     ],
     "next": "5309e664-92f3-11e9-8556-02420a010127",
     "previous": "7e3b5a20-8803-11e9-8556-02420a010127"
    }
   },
   "source": [
    "**tracerouteコマンド をたたいてみよう**"
   ]
  },
  {
   "cell_type": "markdown",
   "metadata": {
    "lc_cell_meme": {
     "current": "5309e664-92f3-11e9-8556-02420a010127",
     "next": "7e3b5a7a-8803-11e9-8556-02420a010127",
     "previous": "7e3b5a48-8803-11e9-8556-02420a010127"
    }
   },
   "source": [
    "**米国　東海岸にあるMITメディアラボのサイトまでのtraceroute**"
   ]
  },
  {
   "cell_type": "code",
   "execution_count": null,
   "metadata": {
    "lc_cell_meme": {
     "current": "7e3b5a7a-8803-11e9-8556-02420a010127",
     "history": [
      {
       "current": "7e3b5a7a-8803-11e9-8556-02420a010127",
       "next": "7e3b5aac-8803-11e9-8556-02420a010127",
       "previous": "7e3b5a48-8803-11e9-8556-02420a010127"
      }
     ],
     "next": "5309e9f2-92f3-11e9-8556-02420a010127",
     "previous": "5309e664-92f3-11e9-8556-02420a010127"
    },
    "scrolled": true
   },
   "outputs": [],
   "source": [
    "!sudo traceroute -I www.media.mit.edu"
   ]
  },
  {
   "cell_type": "markdown",
   "metadata": {
    "lc_cell_meme": {
     "current": "5309e9f2-92f3-11e9-8556-02420a010127",
     "history": [
      {
       "current": "5309e9f2-92f3-11e9-8556-02420a010127",
       "next": "7e3b5aac-8803-11e9-8556-02420a010127",
       "previous": "7e3b5a7a-8803-11e9-8556-02420a010127"
      }
     ],
     "next": "686bddbe-92f3-11e9-8556-02420a010127",
     "previous": "7e3b5a7a-8803-11e9-8556-02420a010127"
    }
   },
   "source": [
    "**米国　東海岸にあるはずのMITのサイトまでのtraceroute**"
   ]
  },
  {
   "cell_type": "code",
   "execution_count": null,
   "metadata": {
    "lc_cell_meme": {
     "current": "686bddbe-92f3-11e9-8556-02420a010127",
     "next": "7e3b5aac-8803-11e9-8556-02420a010127",
     "previous": "5309e9f2-92f3-11e9-8556-02420a010127"
    }
   },
   "outputs": [],
   "source": [
    "!sudo traceroute -I www.mit.edu"
   ]
  },
  {
   "cell_type": "markdown",
   "metadata": {
    "lc_cell_meme": {
     "current": "7e3b5aac-8803-11e9-8556-02420a010127",
     "history": [
      {
       "current": "7e3b5aac-8803-11e9-8556-02420a010127",
       "next": "7e3b5ade-8803-11e9-8556-02420a010127",
       "previous": "7e3b5a7a-8803-11e9-8556-02420a010127"
      },
      {
       "current": "7e3b5aac-8803-11e9-8556-02420a010127",
       "next": "7e3b5ade-8803-11e9-8556-02420a010127",
       "previous": "5309e9f2-92f3-11e9-8556-02420a010127"
      }
     ],
     "next": "7e3b5ade-8803-11e9-8556-02420a010127",
     "previous": "686bddbe-92f3-11e9-8556-02420a010127"
    }
   },
   "source": [
    "**ping-e.sinet.ad.jpまでのネットワーク遅延は？**"
   ]
  },
  {
   "cell_type": "code",
   "execution_count": null,
   "metadata": {
    "lc_cell_meme": {
     "current": "7e3b5ade-8803-11e9-8556-02420a010127",
     "history": [
      {
       "current": "7e3b5ade-8803-11e9-8556-02420a010127",
       "next": null,
       "previous": "7e3b5aac-8803-11e9-8556-02420a010127"
      }
     ],
     "next": "91fc2d8c-8803-11e9-8556-02420a010127",
     "previous": "7e3b5aac-8803-11e9-8556-02420a010127"
    }
   },
   "outputs": [],
   "source": [
    "ANSWER_1 = input(\"PROBLEM_1= ping-e.sinet.ad.jpまでのネットワーク遅延は？\")\n",
    "print(\"ANSWER_1 ==\", ANSWER_1)"
   ]
  },
  {
   "cell_type": "markdown",
   "metadata": {
    "lc_cell_meme": {
     "current": "91fc2d8c-8803-11e9-8556-02420a010127",
     "next": "91fc2eae-8803-11e9-8556-02420a010127",
     "previous": "7e3b5ade-8803-11e9-8556-02420a010127"
    }
   },
   "source": [
    "**ping-w.sinet.ad.jpまでのネットワーク遅延は？**"
   ]
  },
  {
   "cell_type": "code",
   "execution_count": null,
   "metadata": {
    "lc_cell_meme": {
     "current": "91fc2eae-8803-11e9-8556-02420a010127",
     "next": null,
     "previous": "91fc2d8c-8803-11e9-8556-02420a010127"
    }
   },
   "outputs": [],
   "source": [
    "ANSWER_2 = input(\"PROBLEM_2= ping-w.sinet.ad.jpまでのネットワーク遅延は？\")\n",
    "print(\"ANSWER_2 ==\", ANSWER_2)"
   ]
  }
 ],
 "metadata": {
  "kernelspec": {
   "display_name": "Python 3",
   "language": "python",
   "name": "python3"
  },
  "language_info": {
   "codemirror_mode": {
    "name": "ipython",
    "version": 3
   },
   "file_extension": ".py",
   "mimetype": "text/x-python",
   "name": "python",
   "nbconvert_exporter": "python",
   "pygments_lexer": "ipython3",
   "version": "3.7.3"
  },
  "lc_notebook_meme": {
   "current": "7e3b528c-8803-11e9-8556-02420a010127",
   "lc_server_signature": {
    "current": {
     "notebook_dir": "/home/yoko69d621",
     "notebook_path": "/textbook/med",
     "server_url": "https://nb03.ecloud.nii.ac.jp/user/yoko69d621/",
     "signature_id": "5e786c6e-5fea-11e9-b810-02420a00005a"
    },
    "history": []
   }
  },
  "toc": {
   "base_numbering": 1,
   "nav_menu": {},
   "number_sections": true,
   "sideBar": true,
   "skip_h1_title": false,
   "title_cell": "Table of Contents",
   "title_sidebar": "Contents",
   "toc_cell": false,
   "toc_position": {},
   "toc_section_display": true,
   "toc_window_display": false
  }
 },
 "nbformat": 4,
 "nbformat_minor": 2
}
