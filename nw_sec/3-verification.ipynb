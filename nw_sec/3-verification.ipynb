{
 "cells": [
  {
   "cell_type": "markdown",
   "metadata": {
    "lc_cell_meme": {
     "current": "3171f980-6178-11e9-b810-02420a00005a",
     "history": [
      {
       "current": "3171f980-6178-11e9-b810-02420a00005a",
       "next": "3171f9b2-6178-11e9-b810-02420a00005a",
       "previous": "3171f94e-6178-11e9-b810-02420a00005a"
      }
     ],
     "next": "3171f9b2-6178-11e9-b810-02420a00005a",
     "previous": null
    }
   },
   "source": [
    "**５音言葉のリスト　etherpad https://etherpad.opendev.org/p/word-5 などから　curlコマンドで情報を取得**"
   ]
  },
  {
   "cell_type": "code",
   "execution_count": 2,
   "metadata": {
    "lc_cell_meme": {
     "current": "3171f9b2-6178-11e9-b810-02420a00005a",
     "execution_end_time": "2020-04-15T05:28:45.541993Z",
     "next": "3171f9e4-6178-11e9-b810-02420a00005a",
     "previous": "3171f980-6178-11e9-b810-02420a00005a"
    },
    "lc_wrapper": {
     "log_history": [
      "/home/yoko69d621/nw_sec/.log/20200415/20200415-052826-0094.log",
      "/home/yoko69d621/nw_sec/.log/20200415/20200415-052844-0156.log"
     ]
    }
   },
   "outputs": [
    {
     "name": "stdout",
     "output_type": "stream",
     "text": [
      "------------------------\r\n",
      "５音言葉のリスト\r\n",
      "------------------------\r\n",
      "アーモンド\r\n",
      "あかちゃん\r\n",
      "あかとんぼ\r\n",
      "あくりょく\r\n",
      "アドバイス\r\n",
      "あまのがわ\r\n",
      "アンケート\r\n",
      "いとでんわ\r\n",
      "イヤリング\r\n",
      "インテリア\r\n",
      "うきぶくろ\r\n",
      "うでどけい\r\n",
      "えいがかん\r\n",
      "えかきうた\r\n",
      "エネルギー\r\n",
      "\r\n",
      "\r\n",
      "\r\n",
      "\r\n"
     ]
    }
   ],
   "source": [
    "!curl https://etherpad.opendev.org/p/word-5/export/txt"
   ]
  },
  {
   "cell_type": "markdown",
   "metadata": {
    "lc_cell_meme": {
     "current": "3171f9e4-6178-11e9-b810-02420a00005a",
     "next": "3171fa16-6178-11e9-b810-02420a00005a",
     "previous": "3171f9b2-6178-11e9-b810-02420a00005a"
    }
   },
   "source": [
    "**cutコマンドで　最初の５音の情報だけを取り出す。　二つのコマンド（curlとcut）で pipeを通じて　データを受け渡している。pipeは　| で示す。**"
   ]
  },
  {
   "cell_type": "code",
   "execution_count": 10,
   "metadata": {
    "lc_cell_meme": {
     "current": "3171fa16-6178-11e9-b810-02420a00005a",
     "execution_end_time": "2020-04-15T05:31:39.128352Z",
     "next": "3171fa48-6178-11e9-b810-02420a00005a",
     "previous": "3171f9e4-6178-11e9-b810-02420a00005a"
    },
    "lc_wrapper": {
     "log_history": [
      "/home/yoko69d621/nw_sec/.log/20200415/20200415-053009-0421.log",
      "/home/yoko69d621/nw_sec/.log/20200415/20200415-053045-0142.log",
      "/home/yoko69d621/nw_sec/.log/20200415/20200415-053053-0835.log",
      "/home/yoko69d621/nw_sec/.log/20200415/20200415-053102-0155.log",
      "/home/yoko69d621/nw_sec/.log/20200415/20200415-053113-0050.log",
      "/home/yoko69d621/nw_sec/.log/20200415/20200415-053118-0339.log",
      "/home/yoko69d621/nw_sec/.log/20200415/20200415-053125-0459.log",
      "/home/yoko69d621/nw_sec/.log/20200415/20200415-053137-0724.log"
     ]
    }
   },
   "outputs": [
    {
     "name": "stdout",
     "output_type": "stream",
     "text": [
      "  % Total    % Received % Xferd  Average Speed   Time    Time     Time  Current\n",
      "                                 Dload  Upload   Total   Spent    Left  Speed\n",
      "100  4974  100  4974    0     0  10151      0 --:--:-- --:--:-- --:--:-- 10151\n",
      "------------------\n",
      "５音言葉のリ\n",
      "------------------\n",
      "アーモンド　\n",
      "あまのがわ　\n",
      "うきぶくろ　\n",
      "おうどいろ　\n",
      "オットセイ　\n",
      "おべんとう　\n",
      "かがくしゃ　\n",
      "かたぐるま　\n",
      "かみずもう　\n",
      "かんそうき　\n",
      "きゅうけい　\n",
      "キリギリス　\n",
      "けいじばん　\n",
      "こどものひ　\n",
      "サーキット　\n",
      "さかなつり　\n",
      "じどうしゃ　\n",
      "シャンプー　\n",
      "しゅくだい　\n",
      "しょうらい　\n",
      "すきまかぜ　\n",
      "すなあそび　\n",
      "スポンサー　\n",
      "たいりょう　\n",
      "たまごやき　\n",
      "チャーハン　\n",
      "ちゅうもん　\n",
      "てんじょう　\n",
      "とおりみち　\n",
      "ながれぼし　\n",
      "なんきょく　\n",
      "のうりょく　\n",
      "バスタオル　\n",
      "はなばたけ　\n",
      "はらどけい　\n",
      "ハロウィン　\n",
      "ひとりごと　\n",
      "ひややっこ　\n",
      "ファミコン　\n",
      "フラダンス　\n",
      "ほいくえん　\n",
      "ほたてがい　\n",
      "マジシャン　\n",
      "マッサージ　\n",
      "みずたまり　\n",
      "ミニトマト　\n",
      "メモちょう　\n",
      "ものわすれ　\n",
      "やきざかな　\n",
      "ゆうえんち　\n",
      "ゆきおんな　\n",
      "らっかせい　\n",
      "リクエスト　\n",
      "りょくちゃ　\n",
      "レギュラー　\n",
      "ログハウス　\n",
      "\n",
      "\n",
      "\n",
      "\n"
     ]
    }
   ],
   "source": [
    "!curl https://etherpad.opendev.org/p/word-5/export/txt|cut -c1-18"
   ]
  },
  {
   "cell_type": "markdown",
   "metadata": {
    "lc_cell_meme": {
     "current": "3171fa48-6178-11e9-b810-02420a00005a",
     "next": "3171fa7a-6178-11e9-b810-02420a00005a",
     "previous": "3171fa16-6178-11e9-b810-02420a00005a"
    }
   },
   "source": [
    "**curlコマンドが出力する**　<br>\n",
    "% Total    % Received % Xferd  Average Speed   Time    Time     Time  Current<br>\n",
    "                                 Dload  Upload   Total   Spent    Left  Speed<br>\n",
    "100  1745  100  1745    0     0   1994      0 --:--:-- --:--:-- --:--:--  2008<br>\n",
    "**を　/dev/null　に捨ててデータから消す。**"
   ]
  },
  {
   "cell_type": "code",
   "execution_count": 29,
   "metadata": {
    "lc_cell_meme": {
     "current": "3171fa7a-6178-11e9-b810-02420a00005a",
     "execution_end_time": "2020-04-15T05:57:54.953078Z",
     "next": "3171faa2-6178-11e9-b810-02420a00005a",
     "previous": "3171fa48-6178-11e9-b810-02420a00005a"
    },
    "lc_wrapper": {
     "log_history": [
      "/home/yoko69d621/nw_sec/.log/20200415/20200415-053234-0158.log",
      "/home/yoko69d621/nw_sec/.log/20200415/20200415-053250-0082.log",
      "/home/yoko69d621/nw_sec/.log/20200415/20200415-055739-0928.log",
      "/home/yoko69d621/nw_sec/.log/20200415/20200415-055747-0534.log",
      "/home/yoko69d621/nw_sec/.log/20200415/20200415-055753-0561.log"
     ]
    }
   },
   "outputs": [
    {
     "name": "stdout",
     "output_type": "stream",
     "text": [
      "------------------\r\n",
      "５音言葉のリ\r\n",
      "------------------\r\n",
      "アーモンド　\r\n",
      "あまのがわ　\r\n",
      "うきぶくろ　\r\n",
      "おうどいろ　\r\n",
      "オットセイ　\r\n",
      "おべんとう　\r\n",
      "かがくしゃ　\r\n",
      "かたぐるま　\r\n",
      "かみずもう　\r\n",
      "かんそうき　\r\n",
      "きゅうけい　\r\n",
      "キリギリス　\r\n",
      "けいじばん　\r\n",
      "こどものひ　\r\n",
      "サーキット　\r\n",
      "さかなつり　\r\n",
      "じどうしゃ　\r\n",
      "シャンプー　\r\n",
      "しゅくだい　\r\n",
      "しょうらい　\r\n",
      "すきまかぜ　\r\n",
      "すなあそび　\r\n",
      "スポンサー　\r\n",
      "たいりょう　\r\n",
      "たまごやき　\r\n",
      "チャーハン　\r\n",
      "ちゅうもん　\r\n",
      "てんじょう　\r\n",
      "とおりみち　\r\n",
      "ながれぼし　\r\n",
      "なんきょく　\r\n",
      "のうりょく　\r\n",
      "バスタオル　\r\n",
      "はなばたけ　\r\n",
      "はらどけい　\r\n",
      "ハロウィン　\r\n",
      "ひとりごと　\r\n",
      "ひややっこ　\r\n",
      "ファミコン　\r\n",
      "フラダンス　\r\n",
      "ほいくえん　\r\n",
      "ほたてがい　\r\n",
      "マジシャン　\r\n",
      "マッサージ　\r\n",
      "みずたまり　\r\n",
      "ミニトマト　\r\n",
      "メモちょう　\r\n",
      "ものわすれ　\r\n",
      "やきざかな　\r\n",
      "ゆうえんち　\r\n",
      "ゆきおんな　\r\n",
      "らっかせい　\r\n",
      "リクエスト　\r\n",
      "りょくちゃ　\r\n",
      "レギュラー　\r\n",
      "ログハウス　\r\n",
      "\r\n",
      "\r\n",
      "\r\n",
      "\r\n"
     ]
    }
   ],
   "source": [
    "!(curl https://etherpad.opendev.org/p/word-5/export/txt 2> /dev/null)|cut -c1-18"
   ]
  },
  {
   "cell_type": "markdown",
   "metadata": {
    "lc_cell_meme": {
     "current": "3171faa2-6178-11e9-b810-02420a00005a",
     "next": "3171fad4-6178-11e9-b810-02420a00005a",
     "previous": "3171fa7a-6178-11e9-b810-02420a00005a"
    }
   },
   "source": [
    "**言葉の部分だけを　tailコマンドにより取り出す。　tail -n +N #先頭からN-1行を除外する。**"
   ]
  },
  {
   "cell_type": "code",
   "execution_count": 14,
   "metadata": {
    "lc_cell_meme": {
     "current": "3171fad4-6178-11e9-b810-02420a00005a",
     "execution_end_time": "2020-04-15T05:35:38.001299Z",
     "history": [
      {
       "current": "3171fad4-6178-11e9-b810-02420a00005a",
       "next": "3171fb06-6178-11e9-b810-02420a00005a",
       "previous": "3171faa2-6178-11e9-b810-02420a00005a"
      }
     ],
     "next": "3171fc1e-6178-11e9-b810-02420a00005a",
     "previous": "3171faa2-6178-11e9-b810-02420a00005a"
    },
    "lc_wrapper": {
     "log_history": [
      "/home/yoko69d621/nw_sec/.log/20200415/20200415-053455-0954.log",
      "/home/yoko69d621/nw_sec/.log/20200415/20200415-053536-0599.log"
     ]
    }
   },
   "outputs": [
    {
     "name": "stdout",
     "output_type": "stream",
     "text": [
      "アーモンド　\r\n",
      "あまのがわ　\r\n",
      "うきぶくろ　\r\n",
      "おうどいろ　\r\n",
      "オットセイ　\r\n",
      "おべんとう　\r\n",
      "かがくしゃ　\r\n",
      "かたぐるま　\r\n",
      "かみずもう　\r\n",
      "かんそうき　\r\n",
      "きゅうけい　\r\n",
      "キリギリス　\r\n",
      "けいじばん　\r\n",
      "こどものひ　\r\n",
      "サーキット　\r\n",
      "さかなつり　\r\n",
      "じどうしゃ　\r\n",
      "シャンプー　\r\n",
      "しゅくだい　\r\n",
      "しょうらい　\r\n",
      "すきまかぜ　\r\n",
      "すなあそび　\r\n",
      "スポンサー　\r\n",
      "たいりょう　\r\n",
      "たまごやき　\r\n",
      "チャーハン　\r\n",
      "ちゅうもん　\r\n",
      "てんじょう　\r\n",
      "とおりみち　\r\n",
      "ながれぼし　\r\n",
      "なんきょく　\r\n",
      "のうりょく　\r\n",
      "バスタオル　\r\n",
      "はなばたけ　\r\n",
      "はらどけい　\r\n",
      "ハロウィン　\r\n",
      "ひとりごと　\r\n",
      "ひややっこ　\r\n",
      "ファミコン　\r\n",
      "フラダンス　\r\n",
      "ほいくえん　\r\n",
      "ほたてがい　\r\n",
      "マジシャン　\r\n",
      "マッサージ　\r\n",
      "みずたまり　\r\n",
      "ミニトマト　\r\n",
      "メモちょう　\r\n",
      "ものわすれ　\r\n",
      "やきざかな　\r\n",
      "ゆうえんち　\r\n",
      "ゆきおんな　\r\n",
      "らっかせい　\r\n",
      "リクエスト　\r\n",
      "りょくちゃ　\r\n",
      "レギュラー　\r\n",
      "ログハウス　\r\n",
      "\r\n",
      "\r\n",
      "\r\n",
      "\r\n"
     ]
    }
   ],
   "source": [
    "!(curl https://etherpad.opendev.org/p/word-5/export/txt 2> /dev/null)|cut -c1-18 |tail -n +4"
   ]
  },
  {
   "cell_type": "markdown",
   "metadata": {
    "lc_cell_meme": {
     "current": "3171fc1e-6178-11e9-b810-02420a00005a",
     "history": [
      {
       "current": "3171fc1e-6178-11e9-b810-02420a00005a",
       "next": "3171fc50-6178-11e9-b810-02420a00005a",
       "previous": "3171fbf6-6178-11e9-b810-02420a00005a"
      }
     ],
     "next": "4aedb04e-7edb-11ea-86a9-02420a01000c",
     "previous": "3171fad4-6178-11e9-b810-02420a00005a"
    }
   },
   "source": [
    "**では１行だけ取り出しましょう！**"
   ]
  },
  {
   "cell_type": "code",
   "execution_count": 68,
   "metadata": {
    "lc_cell_meme": {
     "current": "4aedb04e-7edb-11ea-86a9-02420a01000c",
     "execution_end_time": "2020-04-15T06:09:09.182276Z",
     "history": [
      {
       "current": "4aedb04e-7edb-11ea-86a9-02420a01000c",
       "next": "3171fc50-6178-11e9-b810-02420a00005a",
       "previous": "3171fc1e-6178-11e9-b810-02420a00005a"
      }
     ],
     "next": "3171fc1e-6178-11e9-b810-02420a00005a",
     "previous": "3171fc1e-6178-11e9-b810-02420a00005a"
    },
    "lc_wrapper": {
     "log_history": [
      "/home/yoko69d621/nw_sec/.log/20200415/20200415-053910-0715.log",
      "/home/yoko69d621/nw_sec/.log/20200415/20200415-053921-0876.log",
      "/home/yoko69d621/nw_sec/.log/20200415/20200415-054250-0474.log",
      "/home/yoko69d621/nw_sec/.log/20200415/20200415-055657-0911.log",
      "/home/yoko69d621/nw_sec/.log/20200415/20200415-055712-0762.log",
      "/home/yoko69d621/nw_sec/.log/20200415/20200415-055809-0490.log",
      "/home/yoko69d621/nw_sec/.log/20200415/20200415-055826-0362.log",
      "/home/yoko69d621/nw_sec/.log/20200415/20200415-055846-0290.log",
      "/home/yoko69d621/nw_sec/.log/20200415/20200415-060425-0631.log",
      "/home/yoko69d621/nw_sec/.log/20200415/20200415-060457-0787.log",
      "/home/yoko69d621/nw_sec/.log/20200415/20200415-060706-0375.log",
      "/home/yoko69d621/nw_sec/.log/20200415/20200415-060814-0496.log",
      "/home/yoko69d621/nw_sec/.log/20200415/20200415-060908-0655.log"
     ]
    }
   },
   "outputs": [],
   "source": [
    "t5=!(curl https://etherpad.opendev.org/p/word-5/export/txt 2> /dev/null)|cut -c1-18 |tail -n +4| shuf  -n 1"
   ]
  },
  {
   "cell_type": "markdown",
   "metadata": {
    "lc_cell_meme": {
     "current": "3171fc1e-6178-11e9-b810-02420a00005a",
     "history": [
      {
       "current": "3171fc1e-6178-11e9-b810-02420a00005a",
       "next": "3171fc50-6178-11e9-b810-02420a00005a",
       "previous": "3171fbf6-6178-11e9-b810-02420a00005a"
      },
      {
       "current": "3171fc1e-6178-11e9-b810-02420a00005a",
       "next": "4aedb04e-7edb-11ea-86a9-02420a01000c",
       "previous": "3171fad4-6178-11e9-b810-02420a00005a"
      }
     ],
     "next": "162cf9c0-7ede-11ea-86a9-02420a01000c",
     "previous": "4aedb04e-7edb-11ea-86a9-02420a01000c"
    }
   },
   "source": [
    "**では俳句を創り出しましょう！**"
   ]
  },
  {
   "cell_type": "code",
   "execution_count": 1,
   "metadata": {
    "lc_cell_meme": {
     "current": "162cf9c0-7ede-11ea-86a9-02420a01000c",
     "execution_end_time": "2020-05-22T02:22:44.306857Z",
     "history": [
      {
       "current": "162cf9c0-7ede-11ea-86a9-02420a01000c",
       "next": "3171fc82-6178-11e9-b810-02420a00005a",
       "previous": "4aedb04e-7edb-11ea-86a9-02420a01000c"
      }
     ],
     "next": "3171fc82-6178-11e9-b810-02420a00005a",
     "previous": "3171fc1e-6178-11e9-b810-02420a00005a"
    },
    "lc_wrapper": {
     "log_history": [
      "/home/yoko69d621/nw_sec/.log/20200415/20200415-055652-0655.log",
      "/home/yoko69d621/nw_sec/.log/20200415/20200415-055714-0311.log",
      "/home/yoko69d621/nw_sec/.log/20200415/20200415-055811-0096.log",
      "/home/yoko69d621/nw_sec/.log/20200415/20200415-055827-0891.log",
      "/home/yoko69d621/nw_sec/.log/20200415/20200415-055847-0834.log",
      "/home/yoko69d621/nw_sec/.log/20200415/20200415-060428-0735.log",
      "/home/yoko69d621/nw_sec/.log/20200415/20200415-060459-0406.log",
      "/home/yoko69d621/nw_sec/.log/20200415/20200415-060707-0913.log",
      "/home/yoko69d621/nw_sec/.log/20200415/20200415-060801-0141.log",
      "/home/yoko69d621/nw_sec/.log/20200415/20200415-060816-0020.log",
      "/home/yoko69d621/nw_sec/.log/20200415/20200415-060910-0267.log",
      "/home/yoko69d621/nw_sec/.log/20200415/20200415-061157-0399.log",
      "/home/yoko69d621/nw_sec/.log/20200415/20200415-061218-0708.log",
      "/home/yoko69d621/textbook/nw_sec/.log/20200522/20200522-022241-0233.log"
     ]
    }
   },
   "outputs": [
    {
     "name": "stdout",
     "output_type": "stream",
     "text": [
      "['すみびやき', 'コレステロール', 'きっくおふ ']\n"
     ]
    }
   ],
   "source": [
    "t5=!(curl https://etherpad.opendev.org/p/word-5/export/txt 2> /dev/null)|cut -c1-18 |tail -n +4| shuf  -n 1\n",
    "m7=!(curl https://etherpad.opendev.org/p/word-7/export/txt 2> /dev/null)|cut -c1-22 |tail -n +4| shuf  -n 1\n",
    "e5=!(curl https://etherpad.opendev.org/p/word-5/export/txt 2> /dev/null)|cut -c1-18 |tail -n +4| shuf  -n 1\n",
    "haiku=t5+m7+e5\n",
    "print(haiku)"
   ]
  },
  {
   "cell_type": "code",
   "execution_count": 72,
   "metadata": {
    "lc_cell_meme": {
     "current": "3171fc82-6178-11e9-b810-02420a00005a",
     "execution_end_time": "2020-04-15T06:09:10.285510Z",
     "history": [
      {
       "current": "3171fc82-6178-11e9-b810-02420a00005a",
       "next": null,
       "previous": "3171fc50-6178-11e9-b810-02420a00005a"
      },
      {
       "current": "3171fc82-6178-11e9-b810-02420a00005a",
       "next": "b7fed1f6-6ed1-11e9-96dc-02420a00000b",
       "previous": "3171fc50-6178-11e9-b810-02420a00005a"
      },
      {
       "current": "3171fc82-6178-11e9-b810-02420a00005a",
       "next": "b7fed1f6-6ed1-11e9-96dc-02420a00000b",
       "previous": "4aedb04e-7edb-11ea-86a9-02420a01000c"
      }
     ],
     "next": "b7fed1f6-6ed1-11e9-96dc-02420a00000b",
     "previous": "162cf9c0-7ede-11ea-86a9-02420a01000c"
    },
    "lc_wrapper": {
     "log_history": [
      "/home/yoko69d621/nw_sec/.log/20200415/20200415-055714-0323.log",
      "/home/yoko69d621/nw_sec/.log/20200415/20200415-055811-0109.log",
      "/home/yoko69d621/nw_sec/.log/20200415/20200415-055827-0905.log",
      "/home/yoko69d621/nw_sec/.log/20200415/20200415-055847-0847.log",
      "/home/yoko69d621/nw_sec/.log/20200415/20200415-060428-0748.log",
      "/home/yoko69d621/nw_sec/.log/20200415/20200415-060459-0420.log",
      "/home/yoko69d621/nw_sec/.log/20200415/20200415-060707-0926.log",
      "/home/yoko69d621/nw_sec/.log/20200415/20200415-060816-0033.log",
      "/home/yoko69d621/nw_sec/.log/20200415/20200415-060910-0280.log"
     ]
    }
   },
   "outputs": [],
   "source": [
    "##ここの下の行にコマンドをコピーして実行してみてください。\n",
    "                                             ##  ANSWER-1 (DON'T REMOVE THIS   COMMENT  AND PUT YOUR ANSWER IN FRONT OF THIS COMMENT)"
   ]
  },
  {
   "cell_type": "markdown",
   "metadata": {
    "lc_cell_meme": {
     "current": "b7fed1f6-6ed1-11e9-96dc-02420a00000b",
     "history": [
      {
       "current": "b7fed1f6-6ed1-11e9-96dc-02420a00000b",
       "next": "b7fed39a-6ed1-11e9-96dc-02420a00000b",
       "previous": "3171fc82-6178-11e9-b810-02420a00005a"
      }
     ],
     "next": "b7fed1f6-6ed1-11e9-96dc-02420a00000b",
     "previous": "3171fc82-6178-11e9-b810-02420a00005a"
    }
   },
   "source": [
    "**おまけ：　もっと俳句らしくしてみましょう！**"
   ]
  },
  {
   "cell_type": "markdown",
   "metadata": {
    "lc_cell_meme": {
     "current": "b7fed1f6-6ed1-11e9-96dc-02420a00000b",
     "history": [
      {
       "current": "b7fed1f6-6ed1-11e9-96dc-02420a00000b",
       "next": "b7fed39a-6ed1-11e9-96dc-02420a00000b",
       "previous": "3171fc82-6178-11e9-b810-02420a00005a"
      }
     ],
     "next": null,
     "previous": "b7fed1f6-6ed1-11e9-96dc-02420a00000b"
    }
   },
   "source": [
    "**おまけ：　じゃあ、短歌を作ってみましょう！**"
   ]
  }
 ],
 "metadata": {
  "kernelspec": {
   "display_name": "Python 3",
   "language": "python",
   "name": "python3"
  },
  "language_info": {
   "file_extension": ".py",
   "mimetype": "text/x-python",
   "name": "python",
   "nbconvert_exporter": "python",
   "pygments_lexer": "ipython3",
   "version": "3.7.3"
  },
  "lc_notebook_meme": {
   "current": "3171f642-6178-11e9-b810-02420a00005a",
   "lc_server_signature": {
    "current": {
     "notebook_dir": "/home/yoko69d621",
     "notebook_path": "/textbook/nw_sec",
     "server_url": "https://nb03.ecloud.nii.ac.jp/user/yoko69d621/",
     "signature_id": "5e786c6e-5fea-11e9-b810-02420a00005a"
    },
    "history": [
     {
      "notebook_dir": "/home/yoko69d621",
      "notebook_path": "/textbook/nw_sec",
      "server_url": "https://nb03.ecloud.nii.ac.jp/user/yoko69d621/",
      "signature_id": "5e786c6e-5fea-11e9-b810-02420a00005a"
     },
     {
      "notebook_dir": "/home/yoko69d621",
      "notebook_path": "/nw_sec",
      "server_url": "https://nb03.ecloud.nii.ac.jp/user/yoko69d621/",
      "signature_id": "5e786c6e-5fea-11e9-b810-02420a00005a"
     }
    ]
   }
  },
  "toc": {
   "base_numbering": 1,
   "nav_menu": {},
   "number_sections": true,
   "sideBar": true,
   "skip_h1_title": false,
   "title_cell": "Table of Contents",
   "title_sidebar": "Contents",
   "toc_cell": false,
   "toc_position": {},
   "toc_section_display": true,
   "toc_window_display": false
  }
 },
 "nbformat": 4,
 "nbformat_minor": 2
}
