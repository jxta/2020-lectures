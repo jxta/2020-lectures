{
 "cells": [
  {
   "cell_type": "markdown",
   "metadata": {
    "lc_cell_meme": {
     "current": "56f87454-ca22-11ea-bd7d-02420a010115",
     "next": "85fb564a-a2be-11e9-8556-02420a010127",
     "previous": null
    }
   },
   "source": [
    "**＜実習的実験＞**"
   ]
  },
  {
   "cell_type": "markdown",
   "metadata": {
    "lc_cell_meme": {
     "current": "85fb564a-a2be-11e9-8556-02420a010127",
     "history": [
      {
       "current": "85fb564a-a2be-11e9-8556-02420a010127",
       "next": "85fb56cc-a2be-11e9-8556-02420a010127",
       "previous": null
      }
     ],
     "next": "85fb56cc-a2be-11e9-8556-02420a010127",
     "previous": "56f87454-ca22-11ea-bd7d-02420a010115"
    }
   },
   "source": [
    "**opensslコマンドでhashしてみよう**"
   ]
  },
  {
   "cell_type": "markdown",
   "metadata": {
    "lc_cell_meme": {
     "current": "85fb56cc-a2be-11e9-8556-02420a010127",
     "next": "85fb5712-a2be-11e9-8556-02420a010127",
     "previous": "85fb564a-a2be-11e9-8556-02420a010127"
    }
   },
   "source": [
    "**helloの部分を少し変化させた文字列にするだけで全然違うハッシュ値が出力されるはず**"
   ]
  },
  {
   "cell_type": "code",
   "execution_count": null,
   "metadata": {
    "lc_cell_meme": {
     "current": "85fb5712-a2be-11e9-8556-02420a010127",
     "next": "85fb5744-a2be-11e9-8556-02420a010127",
     "previous": "85fb56cc-a2be-11e9-8556-02420a010127"
    }
   },
   "outputs": [],
   "source": [
    "!echo \"hello\" | openssl dgst -sha1"
   ]
  },
  {
   "cell_type": "code",
   "execution_count": null,
   "metadata": {
    "lc_cell_meme": {
     "current": "85fb5744-a2be-11e9-8556-02420a010127",
     "next": "85fb5780-a2be-11e9-8556-02420a010127",
     "previous": "85fb5712-a2be-11e9-8556-02420a010127"
    }
   },
   "outputs": [],
   "source": [
    "!echo \"hallo\" | openssl dgst -sha1"
   ]
  },
  {
   "cell_type": "markdown",
   "metadata": {
    "lc_cell_meme": {
     "current": "85fb5780-a2be-11e9-8556-02420a010127",
     "next": "85fb57b2-a2be-11e9-8556-02420a010127",
     "previous": "85fb5744-a2be-11e9-8556-02420a010127"
    }
   },
   "source": [
    "**文字列だけでなくイメージファイルでも同じ長さのハッシュ値**"
   ]
  },
  {
   "cell_type": "code",
   "execution_count": null,
   "metadata": {
    "lc_cell_meme": {
     "current": "85fb57b2-a2be-11e9-8556-02420a010127",
     "next": "85fb57ee-a2be-11e9-8556-02420a010127",
     "previous": "85fb5780-a2be-11e9-8556-02420a010127"
    }
   },
   "outputs": [],
   "source": [
    "!openssl dgst -sha1 web_samples/mona/nimaime.jpg"
   ]
  },
  {
   "cell_type": "code",
   "execution_count": null,
   "metadata": {
    "lc_cell_meme": {
     "current": "85fb57ee-a2be-11e9-8556-02420a010127",
     "next": "85fb5820-a2be-11e9-8556-02420a010127",
     "previous": "85fb57b2-a2be-11e9-8556-02420a010127"
    }
   },
   "outputs": [],
   "source": [
    "!openssl dgst -sha1 web_samples/mona/nimaime_kouho/doraemon.jpg"
   ]
  },
  {
   "cell_type": "markdown",
   "metadata": {
    "lc_cell_meme": {
     "current": "85fb5820-a2be-11e9-8556-02420a010127",
     "next": "85fb585c-a2be-11e9-8556-02420a010127",
     "previous": "85fb57ee-a2be-11e9-8556-02420a010127"
    }
   },
   "source": [
    "**opensslコマンドで暗号化や電子署名を体験しよう**"
   ]
  },
  {
   "cell_type": "code",
   "execution_count": null,
   "metadata": {
    "lc_cell_meme": {
     "current": "85fb585c-a2be-11e9-8556-02420a010127",
     "next": "85fb588e-a2be-11e9-8556-02420a010127",
     "previous": "85fb5820-a2be-11e9-8556-02420a010127"
    }
   },
   "outputs": [],
   "source": [
    "%%bash\n",
    "openssl genrsa -out private.key.pem \n",
    "chmod 600 private.key.pem \n",
    "openssl rsa -in private.key.pem -pubout -out public.key.pem \n",
    "echo \"PRIVATE_KEY\"\n",
    "cat private.key.pem \n",
    "echo \"PUBLIC_KEY\"\n",
    "cat public.key.pem "
   ]
  },
  {
   "cell_type": "markdown",
   "metadata": {
    "lc_cell_meme": {
     "current": "85fb588e-a2be-11e9-8556-02420a010127",
     "next": "85fb58c0-a2be-11e9-8556-02420a010127",
     "previous": "85fb585c-a2be-11e9-8556-02420a010127"
    }
   },
   "source": [
    "**message.txt を公開鍵で暗号化して message.enc を生成する**"
   ]
  },
  {
   "cell_type": "markdown",
   "metadata": {
    "lc_cell_meme": {
     "current": "85fb58c0-a2be-11e9-8556-02420a010127",
     "next": "85fb58f2-a2be-11e9-8556-02420a010127",
     "previous": "85fb588e-a2be-11e9-8556-02420a010127"
    }
   },
   "source": [
    "[message.txt](/user-redirect/edit/nw_sec/message.txt) "
   ]
  },
  {
   "cell_type": "code",
   "execution_count": null,
   "metadata": {
    "lc_cell_meme": {
     "current": "85fb58f2-a2be-11e9-8556-02420a010127",
     "next": "85fb5924-a2be-11e9-8556-02420a010127",
     "previous": "85fb58c0-a2be-11e9-8556-02420a010127"
    }
   },
   "outputs": [],
   "source": [
    "%%bash\n",
    "openssl rsautl -encrypt -pubin -inkey public.key.pem -in message.txt -out message.enc\n",
    "openssl rsautl -decrypt -inkey private.key.pem -in message.enc -out message.dec \n",
    "\n",
    "echo == message.txt ==\n",
    "cat message.txt\n",
    "echo \n",
    "echo  == message.enc == \n",
    "cat message.enc\n",
    "echo \n",
    "echo  == message.dec == \n",
    "cat message.dec\n",
    "echo "
   ]
  },
  {
   "cell_type": "markdown",
   "metadata": {
    "lc_cell_meme": {
     "current": "85fb5924-a2be-11e9-8556-02420a010127",
     "next": "85fb5956-a2be-11e9-8556-02420a010127",
     "previous": "85fb58f2-a2be-11e9-8556-02420a010127"
    }
   },
   "source": [
    "**署名ファイルを作成してみよう**"
   ]
  },
  {
   "cell_type": "code",
   "execution_count": null,
   "metadata": {
    "lc_cell_meme": {
     "current": "85fb5956-a2be-11e9-8556-02420a010127",
     "next": "85fb5988-a2be-11e9-8556-02420a010127",
     "previous": "85fb5924-a2be-11e9-8556-02420a010127"
    }
   },
   "outputs": [],
   "source": [
    "!openssl dgst -sha1 message.txt"
   ]
  },
  {
   "cell_type": "markdown",
   "metadata": {
    "lc_cell_meme": {
     "current": "85fb5988-a2be-11e9-8556-02420a010127",
     "next": "85fb59ba-a2be-11e9-8556-02420a010127",
     "previous": "85fb5956-a2be-11e9-8556-02420a010127"
    }
   },
   "source": [
    "**署名ファイルの作成（ファイルのハッシュ値を秘密鍵で暗号化する）**　　  \n",
    "164511adc08139103e492684b4cc1e9862d5dcde の 部分は各自のmessage.txtの内容で変化するので、置き換えが必要 "
   ]
  },
  {
   "cell_type": "code",
   "execution_count": null,
   "metadata": {
    "lc_cell_meme": {
     "current": "85fb59ba-a2be-11e9-8556-02420a010127",
     "next": "85fb59ec-a2be-11e9-8556-02420a010127",
     "previous": "85fb5988-a2be-11e9-8556-02420a010127"
    }
   },
   "outputs": [],
   "source": [
    "!echo \"164511adc08139103e492684b4cc1e9862d5dcde\" |openssl rsautl -sign -inkey private.key.pem > message.sig\n",
    "!cat message.sig"
   ]
  },
  {
   "cell_type": "markdown",
   "metadata": {
    "lc_cell_meme": {
     "current": "85fb59ec-a2be-11e9-8556-02420a010127",
     "next": "85fb5a28-a2be-11e9-8556-02420a010127",
     "previous": "85fb59ba-a2be-11e9-8556-02420a010127"
    }
   },
   "source": [
    "**署名の検証（署名ファイルを公開鍵で復号化する）**"
   ]
  },
  {
   "cell_type": "code",
   "execution_count": null,
   "metadata": {
    "lc_cell_meme": {
     "current": "85fb5a28-a2be-11e9-8556-02420a010127",
     "history": [
      {
       "current": "85fb5a28-a2be-11e9-8556-02420a010127",
       "next": "85fb5a5a-a2be-11e9-8556-02420a010127",
       "previous": "85fb59ec-a2be-11e9-8556-02420a010127"
      }
     ],
     "next": "9e757638-ca22-11ea-bd7d-02420a010115",
     "previous": "85fb59ec-a2be-11e9-8556-02420a010127"
    }
   },
   "outputs": [],
   "source": [
    "!openssl rsautl -verify -pubin -inkey public.key.pem -in message.sig "
   ]
  },
  {
   "cell_type": "markdown",
   "metadata": {
    "lc_cell_meme": {
     "current": "9e757638-ca22-11ea-bd7d-02420a010115",
     "next": "85fb5a5a-a2be-11e9-8556-02420a010127",
     "previous": "85fb5a28-a2be-11e9-8556-02420a010127"
    }
   },
   "source": [
    "**＜発見的実験＞**"
   ]
  },
  {
   "cell_type": "markdown",
   "metadata": {
    "lc_cell_meme": {
     "current": "85fb5a5a-a2be-11e9-8556-02420a010127",
     "history": [
      {
       "current": "85fb5a5a-a2be-11e9-8556-02420a010127",
       "next": "85fb5b2c-a2be-11e9-8556-02420a010127",
       "previous": "85fb5a28-a2be-11e9-8556-02420a010127"
      }
     ],
     "next": "85fb5b2c-a2be-11e9-8556-02420a010127",
     "previous": "9e757638-ca22-11ea-bd7d-02420a010115"
    }
   },
   "source": [
    "**sshコマンドを使ってみよう**"
   ]
  },
  {
   "cell_type": "markdown",
   "metadata": {
    "lc_cell_meme": {
     "current": "85fb5b2c-a2be-11e9-8556-02420a010127",
     "next": "85fb5b5e-a2be-11e9-8556-02420a010127",
     "previous": "85fb5a5a-a2be-11e9-8556-02420a010127"
    }
   },
   "source": [
    "**sshの鍵を設定して秘密鍵を使ってsshログインしてみる**"
   ]
  },
  {
   "cell_type": "code",
   "execution_count": null,
   "metadata": {
    "lc_cell_meme": {
     "current": "85fb5b5e-a2be-11e9-8556-02420a010127",
     "next": "85fb5b90-a2be-11e9-8556-02420a010127",
     "previous": "85fb5b2c-a2be-11e9-8556-02420a010127"
    }
   },
   "outputs": [],
   "source": [
    "!sudo apt-get update"
   ]
  },
  {
   "cell_type": "code",
   "execution_count": null,
   "metadata": {
    "lc_cell_meme": {
     "current": "85fb5b90-a2be-11e9-8556-02420a010127",
     "next": "85fb5bc2-a2be-11e9-8556-02420a010127",
     "previous": "85fb5b5e-a2be-11e9-8556-02420a010127"
    }
   },
   "outputs": [],
   "source": [
    "!sudo apt-get install ssh  -y"
   ]
  },
  {
   "cell_type": "code",
   "execution_count": null,
   "metadata": {
    "lc_cell_meme": {
     "current": "85fb5bc2-a2be-11e9-8556-02420a010127",
     "next": "85fb5bea-a2be-11e9-8556-02420a010127",
     "previous": "85fb5b90-a2be-11e9-8556-02420a010127"
    }
   },
   "outputs": [],
   "source": [
    "%%bash\n",
    "mkdir ~/keys\n",
    "ssh-keygen -P '' -f ~/keys/rsa\n",
    "chmod 0700 ~/keys"
   ]
  },
  {
   "cell_type": "code",
   "execution_count": null,
   "metadata": {
    "lc_cell_meme": {
     "current": "85fb5bea-a2be-11e9-8556-02420a010127",
     "next": "85fb5c1c-a2be-11e9-8556-02420a010127",
     "previous": "85fb5bc2-a2be-11e9-8556-02420a010127"
    }
   },
   "outputs": [],
   "source": [
    "!cat  ~/keys/rsa.pub"
   ]
  },
  {
   "cell_type": "code",
   "execution_count": null,
   "metadata": {
    "lc_cell_meme": {
     "current": "85fb5c1c-a2be-11e9-8556-02420a010127",
     "next": "85fb5c58-a2be-11e9-8556-02420a010127",
     "previous": "85fb5bea-a2be-11e9-8556-02420a010127"
    }
   },
   "outputs": [],
   "source": [
    "!mkdir -p ~/.ssh"
   ]
  },
  {
   "cell_type": "code",
   "execution_count": null,
   "metadata": {
    "lc_cell_meme": {
     "current": "85fb5c58-a2be-11e9-8556-02420a010127",
     "next": "85fb5c80-a2be-11e9-8556-02420a010127",
     "previous": "85fb5c1c-a2be-11e9-8556-02420a010127"
    }
   },
   "outputs": [],
   "source": [
    "!cat ~/keys/rsa.pub >> ~/.ssh/authorized_keys"
   ]
  },
  {
   "cell_type": "code",
   "execution_count": null,
   "metadata": {
    "lc_cell_meme": {
     "current": "85fb5c80-a2be-11e9-8556-02420a010127",
     "next": "85fb5cb2-a2be-11e9-8556-02420a010127",
     "previous": "85fb5c58-a2be-11e9-8556-02420a010127"
    }
   },
   "outputs": [],
   "source": [
    "!cat  ~/keys/rsa"
   ]
  },
  {
   "cell_type": "code",
   "execution_count": null,
   "metadata": {
    "lc_cell_meme": {
     "current": "85fb5cb2-a2be-11e9-8556-02420a010127",
     "next": "85fb5ce4-a2be-11e9-8556-02420a010127",
     "previous": "85fb5c80-a2be-11e9-8556-02420a010127"
    }
   },
   "outputs": [],
   "source": [
    "!cat ~/.ssh/authorized_keys"
   ]
  },
  {
   "cell_type": "code",
   "execution_count": null,
   "metadata": {
    "lc_cell_meme": {
     "current": "85fb5ce4-a2be-11e9-8556-02420a010127",
     "next": "85fb5d0c-a2be-11e9-8556-02420a010127",
     "previous": "85fb5cb2-a2be-11e9-8556-02420a010127"
    }
   },
   "outputs": [],
   "source": [
    "!ip addr|grep 10"
   ]
  },
  {
   "cell_type": "code",
   "execution_count": null,
   "metadata": {
    "lc_cell_meme": {
     "current": "85fb5d0c-a2be-11e9-8556-02420a010127",
     "next": "85fb5d3e-a2be-11e9-8556-02420a010127",
     "previous": "85fb5ce4-a2be-11e9-8556-02420a010127"
    },
    "scrolled": true
   },
   "outputs": [],
   "source": [
    "!whoami"
   ]
  },
  {
   "cell_type": "code",
   "execution_count": null,
   "metadata": {
    "lc_cell_meme": {
     "current": "85fb5d3e-a2be-11e9-8556-02420a010127",
     "next": "85fb5d70-a2be-11e9-8556-02420a010127",
     "previous": "85fb5d0c-a2be-11e9-8556-02420a010127"
    }
   },
   "outputs": [],
   "source": [
    "!sudo service ssh start"
   ]
  },
  {
   "cell_type": "code",
   "execution_count": null,
   "metadata": {
    "lc_cell_meme": {
     "current": "85fb5d70-a2be-11e9-8556-02420a010127",
     "next": "85fb5da2-a2be-11e9-8556-02420a010127",
     "previous": "85fb5d3e-a2be-11e9-8556-02420a010127"
    }
   },
   "outputs": [],
   "source": [
    "!ssh 10.1.1.39  -i ~/keys/rsa -o StrictHostKeyChecking=no "
   ]
  },
  {
   "cell_type": "code",
   "execution_count": null,
   "metadata": {
    "lc_cell_meme": {
     "current": "85fb5da2-a2be-11e9-8556-02420a010127",
     "next": "85fb5dca-a2be-11e9-8556-02420a010127",
     "previous": "85fb5d70-a2be-11e9-8556-02420a010127"
    }
   },
   "outputs": [],
   "source": [
    "!echo \"ssh-rsa AAAAB3NzaC1yc2EAAAADAQABAAABAQD00auC1+Vfwwiouwqx8I4Q/ArCNXEGOh7KwogQgIkPzU9eY4bBSb+3tm09DmMgCxUOBrjXOidsQG5rIN9cBYpF/72Pm2KIaCrLee2vcNat1A0Uu52THVt4EOFMOFLHDr1DWQ/qXvFbUVUSJ4uECmkUTMbk3ulX28EsY+P8T0RE230AxxzD0RbzigulKTY50ZjqpSKY8iX8lJkb/gdnXjlFkQPqCI1SI//SONtwlnGje1rnHA0aOlIgsZkP+dH0/Ssc7exEPtFFa6+rIremdO3f+RUsMqXr4pAvwqlua2kkW1oxKcXcTjbp7SEsfqtHckkYuOm88/TvhkVk3n77dXwH jovyan@119\" >> ~/.ssh/authorized_keys "
   ]
  },
  {
   "cell_type": "code",
   "execution_count": null,
   "metadata": {
    "lc_cell_meme": {
     "current": "85fb5dca-a2be-11e9-8556-02420a010127",
     "next": "85fb5dfc-a2be-11e9-8556-02420a010127",
     "previous": "85fb5da2-a2be-11e9-8556-02420a010127"
    }
   },
   "outputs": [],
   "source": [
    "!echo \"ssh-rsa AAAAB3NzaC1yc2EAAAADAQABAAABAQCcoCEqM283P2XVwekIUFYk5zi5O218Ub9CtyDwX62ZxUpiYMTL82Bve86+atonTxjuW5R+23Vu2zs9LiopBp+tVHesBZW+uAv7XrSd7PwdtuA0hnWslMV2YZFAi2kaZWGAHBhBc3qX8IW81sV3CwF94XTGNdPLrs8Qh/aMNhiZw5to1hSsw3WYzq5ZDRina6iHUtPPpBcFELEY2RzrEtgSAtSqjiwZBjxeiyx0pXG/h8QRH0YLxXIwNVTP8sH2OsYrHHQ677+1/OlwUWmLj8CdaLz4rj2hQ+1S6OyamiFvrrb0LyDv7OwpHHYAh87NOirzbAju2kz/l0BaXEndQWAt jovyan@145\"  >> ~/.ssh/authorized_keys "
   ]
  },
  {
   "cell_type": "code",
   "execution_count": null,
   "metadata": {
    "lc_cell_meme": {
     "current": "85fb5dfc-a2be-11e9-8556-02420a010127",
     "next": "85fb5e2e-a2be-11e9-8556-02420a010127",
     "previous": "85fb5dca-a2be-11e9-8556-02420a010127"
    }
   },
   "outputs": [],
   "source": [
    "!cat ~/.ssh/authorized_keys"
   ]
  },
  {
   "cell_type": "code",
   "execution_count": null,
   "metadata": {
    "lc_cell_meme": {
     "current": "85fb5e2e-a2be-11e9-8556-02420a010127",
     "history": [
      {
       "current": "85fb5e2e-a2be-11e9-8556-02420a010127",
       "next": null,
       "previous": "85fb5dfc-a2be-11e9-8556-02420a010127"
      }
     ],
     "next": "9e7579da-ca22-11ea-bd7d-02420a010115",
     "previous": "85fb5dfc-a2be-11e9-8556-02420a010127"
    }
   },
   "outputs": [],
   "source": [
    "!ip nei"
   ]
  },
  {
   "cell_type": "markdown",
   "metadata": {
    "lc_cell_meme": {
     "current": "9e7579da-ca22-11ea-bd7d-02420a010115",
     "next": null,
     "previous": "85fb5e2e-a2be-11e9-8556-02420a010127"
    }
   },
   "source": [
    "**＜検証的実験＞**\n",
    "\n",
    "グループの他のメンバーのマシンにsshでログインさせてもらいましょう！"
   ]
  }
 ],
 "metadata": {
  "kernelspec": {
   "display_name": "Python 2",
   "language": "python",
   "name": "python2"
  },
  "language_info": {
   "file_extension": ".py",
   "mimetype": "text/x-python",
   "name": "python",
   "nbconvert_exporter": "python",
   "pygments_lexer": "ipython2",
   "version": "2.7.15"
  },
  "lc_notebook_meme": {
   "current": "85fb5352-a2be-11e9-8556-02420a010127",
   "lc_server_signature": {
    "current": {
     "notebook_dir": "/home/yoko69d621",
     "notebook_path": "/textbook/nw_sec",
     "server_url": "https://nb03.ecloud.nii.ac.jp/user/yoko69d621/",
     "signature_id": "5e786c6e-5fea-11e9-b810-02420a00005a"
    },
    "history": []
   }
  },
  "toc": {
   "base_numbering": 1,
   "nav_menu": {},
   "number_sections": true,
   "sideBar": true,
   "skip_h1_title": false,
   "title_cell": "Table of Contents",
   "title_sidebar": "Contents",
   "toc_cell": false,
   "toc_position": {},
   "toc_section_display": true,
   "toc_window_display": false
  }
 },
 "nbformat": 4,
 "nbformat_minor": 2
}
