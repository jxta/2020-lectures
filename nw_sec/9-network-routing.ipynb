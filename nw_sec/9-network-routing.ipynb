{
 "cells": [
  {
   "cell_type": "markdown",
   "metadata": {
    "lc_cell_meme": {
     "current": "c47e9c7c-b68d-11ea-bd7d-02420a010115",
     "next": "ceb406ae-9196-11e9-8556-02420a010127",
     "previous": null
    }
   },
   "source": [
    "**<実習的実験＞**"
   ]
  },
  {
   "cell_type": "markdown",
   "metadata": {
    "lc_cell_meme": {
     "current": "ceb406ae-9196-11e9-8556-02420a010127",
     "history": [
      {
       "current": "ceb406ae-9196-11e9-8556-02420a010127",
       "next": "ceb4071c-9196-11e9-8556-02420a010127",
       "previous": null
      }
     ],
     "next": "ceb4071c-9196-11e9-8556-02420a010127",
     "previous": "c47e9c7c-b68d-11ea-bd7d-02420a010115"
    }
   },
   "source": [
    "**netstatコマンドで routing tableを表示**"
   ]
  },
  {
   "cell_type": "code",
   "execution_count": null,
   "metadata": {
    "lc_cell_meme": {
     "current": "ceb4071c-9196-11e9-8556-02420a010127",
     "next": "ceb40758-9196-11e9-8556-02420a010127",
     "previous": "ceb406ae-9196-11e9-8556-02420a010127"
    },
    "lc_wrapper": {
     "log_history": [
      "/home/yoko69d621/textbook/nw_sec/.log/20200625/20200625-023644-0874.log"
     ]
    }
   },
   "outputs": [],
   "source": [
    "!sudo apt-get update"
   ]
  },
  {
   "cell_type": "code",
   "execution_count": null,
   "metadata": {
    "lc_cell_meme": {
     "current": "ceb40758-9196-11e9-8556-02420a010127",
     "next": "ceb4078a-9196-11e9-8556-02420a010127",
     "previous": "ceb4071c-9196-11e9-8556-02420a010127"
    },
    "lc_wrapper": {
     "log_history": [
      "/home/yoko69d621/textbook/nw_sec/.log/20200625/20200625-023653-0622.log"
     ]
    }
   },
   "outputs": [],
   "source": [
    "!sudo apt-get install net-tools -y"
   ]
  },
  {
   "cell_type": "code",
   "execution_count": null,
   "metadata": {
    "lc_cell_meme": {
     "current": "ceb4078a-9196-11e9-8556-02420a010127",
     "next": "ceb407bc-9196-11e9-8556-02420a010127",
     "previous": "ceb40758-9196-11e9-8556-02420a010127"
    },
    "lc_wrapper": {
     "log_history": [
      "/home/yoko69d621/textbook/nw_sec/.log/20200625/20200625-023659-0822.log"
     ]
    }
   },
   "outputs": [],
   "source": [
    "!netstat -r"
   ]
  },
  {
   "cell_type": "markdown",
   "metadata": {
    "lc_cell_meme": {
     "current": "ceb407bc-9196-11e9-8556-02420a010127",
     "next": "ceb407ee-9196-11e9-8556-02420a010127",
     "previous": "ceb4078a-9196-11e9-8556-02420a010127"
    }
   },
   "source": [
    "**netstatコマンドで interfaceを表示**"
   ]
  },
  {
   "cell_type": "code",
   "execution_count": null,
   "metadata": {
    "lc_cell_meme": {
     "current": "ceb407ee-9196-11e9-8556-02420a010127",
     "next": "ceb40820-9196-11e9-8556-02420a010127",
     "previous": "ceb407bc-9196-11e9-8556-02420a010127"
    },
    "lc_wrapper": {
     "log_history": [
      "/home/yoko69d621/textbook/nw_sec/.log/20200625/20200625-023710-0630.log"
     ]
    }
   },
   "outputs": [],
   "source": [
    "!netstat -i"
   ]
  },
  {
   "cell_type": "markdown",
   "metadata": {
    "lc_cell_meme": {
     "current": "ceb40820-9196-11e9-8556-02420a010127",
     "next": "ceb40852-9196-11e9-8556-02420a010127",
     "previous": "ceb407ee-9196-11e9-8556-02420a010127"
    }
   },
   "source": [
    "**ipコマンドで 自身のIPアドレスを表示**"
   ]
  },
  {
   "cell_type": "code",
   "execution_count": null,
   "metadata": {
    "lc_cell_meme": {
     "current": "ceb40852-9196-11e9-8556-02420a010127",
     "history": [
      {
       "current": "ceb40852-9196-11e9-8556-02420a010127",
       "next": "ceb40884-9196-11e9-8556-02420a010127",
       "previous": "ceb40820-9196-11e9-8556-02420a010127"
      }
     ],
     "next": "ceb408de-9196-11e9-8556-02420a010127",
     "previous": "ceb40820-9196-11e9-8556-02420a010127"
    },
    "lc_wrapper": {
     "log_history": [
      "/home/yoko69d621/textbook/nw_sec/.log/20200625/20200625-023720-0193.log"
     ]
    }
   },
   "outputs": [],
   "source": [
    "!ip addr"
   ]
  },
  {
   "cell_type": "markdown",
   "metadata": {
    "lc_cell_meme": {
     "current": "ceb408de-9196-11e9-8556-02420a010127",
     "history": [
      {
       "current": "ceb408de-9196-11e9-8556-02420a010127",
       "next": "ceb40910-9196-11e9-8556-02420a010127",
       "previous": "ceb408b6-9196-11e9-8556-02420a010127"
      },
      {
       "current": "ceb408de-9196-11e9-8556-02420a010127",
       "next": "ceb40910-9196-11e9-8556-02420a010127",
       "previous": "35affd56-b68d-11ea-bd7d-02420a010115"
      }
     ],
     "next": "ceb40910-9196-11e9-8556-02420a010127",
     "previous": "ceb40852-9196-11e9-8556-02420a010127"
    }
   },
   "source": [
    "**ipコマンドで routing tableを表示**"
   ]
  },
  {
   "cell_type": "code",
   "execution_count": null,
   "metadata": {
    "lc_cell_meme": {
     "current": "ceb40910-9196-11e9-8556-02420a010127",
     "next": "ceb40942-9196-11e9-8556-02420a010127",
     "previous": "ceb408de-9196-11e9-8556-02420a010127"
    },
    "lc_wrapper": {
     "log_history": [
      "/home/yoko69d621/textbook/nw_sec/.log/20200625/20200625-024426-0337.log"
     ]
    }
   },
   "outputs": [],
   "source": [
    "!ip route"
   ]
  },
  {
   "cell_type": "markdown",
   "metadata": {
    "lc_cell_meme": {
     "current": "ceb40942-9196-11e9-8556-02420a010127",
     "next": "ceb4096a-9196-11e9-8556-02420a010127",
     "previous": "ceb40910-9196-11e9-8556-02420a010127"
    }
   },
   "source": [
    "**ipコマンドで routing tableを表示 (showを付けない場合と同じ）**"
   ]
  },
  {
   "cell_type": "code",
   "execution_count": null,
   "metadata": {
    "lc_cell_meme": {
     "current": "ceb4096a-9196-11e9-8556-02420a010127",
     "next": "ceb4099c-9196-11e9-8556-02420a010127",
     "previous": "ceb40942-9196-11e9-8556-02420a010127"
    },
    "lc_wrapper": {
     "log_history": [
      "/home/yoko69d621/textbook/nw_sec/.log/20200625/20200625-024500-0502.log"
     ]
    }
   },
   "outputs": [],
   "source": [
    "!ip route show"
   ]
  },
  {
   "cell_type": "markdown",
   "metadata": {
    "lc_cell_meme": {
     "current": "ceb4099c-9196-11e9-8556-02420a010127",
     "next": "ceb409ce-9196-11e9-8556-02420a010127",
     "previous": "ceb4096a-9196-11e9-8556-02420a010127"
    }
   },
   "source": [
    "**ipコマンドで 8.8.8.8へのrouting状況を表示**"
   ]
  },
  {
   "cell_type": "code",
   "execution_count": null,
   "metadata": {
    "lc_cell_meme": {
     "current": "ceb409ce-9196-11e9-8556-02420a010127",
     "next": "ceb40a00-9196-11e9-8556-02420a010127",
     "previous": "ceb4099c-9196-11e9-8556-02420a010127"
    },
    "lc_wrapper": {
     "log_history": [
      "/home/yoko69d621/textbook/nw_sec/.log/20200625/20200625-024504-0757.log"
     ]
    }
   },
   "outputs": [],
   "source": [
    "!ip route get 8.8.8.8"
   ]
  },
  {
   "cell_type": "markdown",
   "metadata": {
    "lc_cell_meme": {
     "current": "ceb40a00-9196-11e9-8556-02420a010127",
     "next": "ceb40a32-9196-11e9-8556-02420a010127",
     "previous": "ceb409ce-9196-11e9-8556-02420a010127"
    }
   },
   "source": [
    "**ipコマンドで 172.19.0.3へのrouting状況を表示**"
   ]
  },
  {
   "cell_type": "code",
   "execution_count": null,
   "metadata": {
    "lc_cell_meme": {
     "current": "ceb40a32-9196-11e9-8556-02420a010127",
     "next": "ceb40a64-9196-11e9-8556-02420a010127",
     "previous": "ceb40a00-9196-11e9-8556-02420a010127"
    },
    "lc_wrapper": {
     "log_history": [
      "/home/yoko69d621/textbook/nw_sec/.log/20200625/20200625-024510-0565.log"
     ]
    }
   },
   "outputs": [],
   "source": [
    "!ip route get 172.19.0.3"
   ]
  },
  {
   "cell_type": "markdown",
   "metadata": {
    "lc_cell_meme": {
     "current": "ceb40a64-9196-11e9-8556-02420a010127",
     "next": "ceb40a8c-9196-11e9-8556-02420a010127",
     "previous": "ceb40a32-9196-11e9-8556-02420a010127"
    }
   },
   "source": [
    "**ipコマンドで 172.19.0.4へのrouting状況を表示**"
   ]
  },
  {
   "cell_type": "code",
   "execution_count": null,
   "metadata": {
    "lc_cell_meme": {
     "current": "ceb40a8c-9196-11e9-8556-02420a010127",
     "next": "ceb40abe-9196-11e9-8556-02420a010127",
     "previous": "ceb40a64-9196-11e9-8556-02420a010127"
    },
    "lc_wrapper": {
     "log_history": [
      "/home/yoko69d621/textbook/nw_sec/.log/20200625/20200625-024536-0071.log"
     ]
    }
   },
   "outputs": [],
   "source": [
    "!ip route get 172.19.0.4"
   ]
  },
  {
   "cell_type": "markdown",
   "metadata": {
    "lc_cell_meme": {
     "current": "ceb40abe-9196-11e9-8556-02420a010127",
     "next": "ceb40af0-9196-11e9-8556-02420a010127",
     "previous": "ceb40a8c-9196-11e9-8556-02420a010127"
    }
   },
   "source": [
    "**ipコマンドで 172.19.1.3へのrouting状況を表示**"
   ]
  },
  {
   "cell_type": "code",
   "execution_count": null,
   "metadata": {
    "lc_cell_meme": {
     "current": "ceb40af0-9196-11e9-8556-02420a010127",
     "next": "ceb40b22-9196-11e9-8556-02420a010127",
     "previous": "ceb40abe-9196-11e9-8556-02420a010127"
    },
    "lc_wrapper": {
     "log_history": [
      "/home/yoko69d621/textbook/nw_sec/.log/20200625/20200625-024548-0477.log"
     ]
    }
   },
   "outputs": [],
   "source": [
    "!ip route get 172.19.1.3"
   ]
  },
  {
   "cell_type": "markdown",
   "metadata": {
    "lc_cell_meme": {
     "current": "ceb40b22-9196-11e9-8556-02420a010127",
     "next": "ceb40b54-9196-11e9-8556-02420a010127",
     "previous": "ceb40af0-9196-11e9-8556-02420a010127"
    }
   },
   "source": [
    "**ipコマンドで 172.18.0.3へのrouting状況を表示　(172.19.0.3や172.19.1.3)　へとは違うroutingになるはず**"
   ]
  },
  {
   "cell_type": "code",
   "execution_count": null,
   "metadata": {
    "lc_cell_meme": {
     "current": "ceb40b54-9196-11e9-8556-02420a010127",
     "next": "ceb40b86-9196-11e9-8556-02420a010127",
     "previous": "ceb40b22-9196-11e9-8556-02420a010127"
    },
    "lc_wrapper": {
     "log_history": [
      "/home/yoko69d621/textbook/nw_sec/.log/20200625/20200625-024555-0847.log"
     ]
    }
   },
   "outputs": [],
   "source": [
    "!ip route get 172.18.0.3"
   ]
  },
  {
   "cell_type": "markdown",
   "metadata": {
    "lc_cell_meme": {
     "current": "ceb40b86-9196-11e9-8556-02420a010127",
     "next": "ceb40bc2-9196-11e9-8556-02420a010127",
     "previous": "ceb40b54-9196-11e9-8556-02420a010127"
    }
   },
   "source": [
    "**tracerouteコマンドで最終到達地点までの　routingを表示**"
   ]
  },
  {
   "cell_type": "code",
   "execution_count": null,
   "metadata": {
    "lc_cell_meme": {
     "current": "ceb40bc2-9196-11e9-8556-02420a010127",
     "next": "ceb40bf4-9196-11e9-8556-02420a010127",
     "previous": "ceb40b86-9196-11e9-8556-02420a010127"
    }
   },
   "outputs": [],
   "source": [
    "!traceroute 172.19.0.3"
   ]
  },
  {
   "cell_type": "code",
   "execution_count": null,
   "metadata": {
    "lc_cell_meme": {
     "current": "ceb40bf4-9196-11e9-8556-02420a010127",
     "next": "ceb40c1c-9196-11e9-8556-02420a010127",
     "previous": "ceb40bc2-9196-11e9-8556-02420a010127"
    }
   },
   "outputs": [],
   "source": [
    "!sudo traceroute -I 172.20.0.3"
   ]
  },
  {
   "cell_type": "code",
   "execution_count": null,
   "metadata": {
    "lc_cell_meme": {
     "current": "ceb40c1c-9196-11e9-8556-02420a010127",
     "history": [
      {
       "current": "ceb40c1c-9196-11e9-8556-02420a010127",
       "next": "ceb40c4e-9196-11e9-8556-02420a010127",
       "previous": "ceb40bf4-9196-11e9-8556-02420a010127"
      }
     ],
     "next": "c47e9c7c-b68d-11ea-bd7d-02420a010115",
     "previous": "ceb40bf4-9196-11e9-8556-02420a010127"
    }
   },
   "outputs": [],
   "source": [
    "!sudo traceroute -I 8.8.8.8"
   ]
  },
  {
   "cell_type": "markdown",
   "metadata": {
    "lc_cell_meme": {
     "current": "c47e9c7c-b68d-11ea-bd7d-02420a010115",
     "history": [
      {
       "current": "c47e9c7c-b68d-11ea-bd7d-02420a010115",
       "next": "ceb406ae-9196-11e9-8556-02420a010127",
       "previous": null
      }
     ],
     "next": "ceb40c4e-9196-11e9-8556-02420a010127",
     "previous": "ceb40c1c-9196-11e9-8556-02420a010127"
    }
   },
   "source": [
    "**<発見的実験＞**"
   ]
  },
  {
   "cell_type": "markdown",
   "metadata": {
    "lc_cell_meme": {
     "current": "ceb40c4e-9196-11e9-8556-02420a010127",
     "history": [
      {
       "current": "ceb40c4e-9196-11e9-8556-02420a010127",
       "next": "ceb40c80-9196-11e9-8556-02420a010127",
       "previous": "ceb40c1c-9196-11e9-8556-02420a010127"
      }
     ],
     "next": "ceb40c80-9196-11e9-8556-02420a010127",
     "previous": "c47e9c7c-b68d-11ea-bd7d-02420a010115"
    }
   },
   "source": [
    "**ルーティングに関する質問です。（ディフォルトゲートウェイについて）**"
   ]
  },
  {
   "cell_type": "code",
   "execution_count": null,
   "metadata": {
    "lc_cell_meme": {
     "current": "ceb40c80-9196-11e9-8556-02420a010127",
     "history": [
      {
       "current": "ceb40c80-9196-11e9-8556-02420a010127",
       "next": null,
       "previous": "ceb40c4e-9196-11e9-8556-02420a010127"
      }
     ],
     "next": "ceb40c4e-9196-11e9-8556-02420a010127",
     "previous": "ceb40c4e-9196-11e9-8556-02420a010127"
    }
   },
   "outputs": [],
   "source": [
    "ANSWER_1 = input(\"PROBLEM_1= 自分のマシンに隣接するルータのIPアドレスは？\")\n",
    "print(\"ANSWER_1 ==\", ANSWER_1)"
   ]
  },
  {
   "cell_type": "markdown",
   "metadata": {
    "lc_cell_meme": {
     "current": "ceb40c4e-9196-11e9-8556-02420a010127",
     "history": [
      {
       "current": "ceb40c4e-9196-11e9-8556-02420a010127",
       "next": "ceb40c80-9196-11e9-8556-02420a010127",
       "previous": "ceb40c1c-9196-11e9-8556-02420a010127"
      }
     ],
     "next": "5dc524e0-9197-11e9-8556-02420a010127",
     "previous": "ceb40c80-9196-11e9-8556-02420a010127"
    }
   },
   "source": [
    "**ルーティングに関する質問です。（ルーティング追跡　traceroute）**"
   ]
  },
  {
   "cell_type": "code",
   "execution_count": null,
   "metadata": {
    "lc_cell_meme": {
     "current": "5dc524e0-9197-11e9-8556-02420a010127",
     "history": [
      {
       "current": "5dc524e0-9197-11e9-8556-02420a010127",
       "next": null,
       "previous": "ceb40c4e-9196-11e9-8556-02420a010127"
      }
     ],
     "next": "c47e9c7c-b68d-11ea-bd7d-02420a010115",
     "previous": "ceb40c4e-9196-11e9-8556-02420a010127"
    }
   },
   "outputs": [],
   "source": [
    "ANSWER_2 = input(\"PROBLEM_2= 自分のマシンから'8.8.8.8（google DNS)'まで，ルータをいくつ経由している ？\")\n",
    "print(\"ANSWER_2 ==\", ANSWER_2)"
   ]
  },
  {
   "cell_type": "markdown",
   "metadata": {
    "lc_cell_meme": {
     "current": "c47e9c7c-b68d-11ea-bd7d-02420a010115",
     "history": [
      {
       "current": "c47e9c7c-b68d-11ea-bd7d-02420a010115",
       "next": "ceb406ae-9196-11e9-8556-02420a010127",
       "previous": null
      }
     ],
     "next": null,
     "previous": "5dc524e0-9197-11e9-8556-02420a010127"
    }
   },
   "source": [
    "**<検証的実験＞**\n",
    "\n",
    "**自分のPCなどのデフォルトゲートウェイなどのルーティング情報を調べてみましょう！**\n",
    "\n",
    "**netstat -r 他**\n",
    "\n",
    "**自分のPCなどからあちらこちらへのルーティングの仕方を調べてみましょう！　インターネットに出ないで到達できるホストやインターネットに出てしまうホストなどなど**\n",
    "\n",
    "**tracetroute 他**"
   ]
  }
 ],
 "metadata": {
  "kernelspec": {
   "display_name": "Python 3",
   "language": "python",
   "name": "python3"
  },
  "language_info": {
   "file_extension": ".py",
   "mimetype": "text/x-python",
   "name": "python",
   "nbconvert_exporter": "python",
   "pygments_lexer": "ipython3",
   "version": "3.7.3"
  },
  "lc_notebook_meme": {
   "current": "ceb40460-9196-11e9-8556-02420a010127",
   "lc_server_signature": {
    "current": {
     "notebook_dir": "/home/yoko69d621",
     "notebook_path": "/textbook/nw_sec",
     "server_url": "https://nb03.ecloud.nii.ac.jp/user/yoko69d621/",
     "signature_id": "5e786c6e-5fea-11e9-b810-02420a00005a"
    },
    "history": []
   }
  },
  "toc": {
   "base_numbering": 1,
   "nav_menu": {},
   "number_sections": true,
   "sideBar": true,
   "skip_h1_title": false,
   "title_cell": "Table of Contents",
   "title_sidebar": "Contents",
   "toc_cell": false,
   "toc_position": {},
   "toc_section_display": true,
   "toc_window_display": false
  }
 },
 "nbformat": 4,
 "nbformat_minor": 2
}
