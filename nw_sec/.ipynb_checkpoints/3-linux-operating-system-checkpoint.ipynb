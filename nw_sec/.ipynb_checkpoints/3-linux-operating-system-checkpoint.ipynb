{
 "cells": [
  {
   "cell_type": "markdown",
   "metadata": {
    "lc_cell_meme": {
     "current": "5d312d00-73e9-11ea-86a9-02420a01000c",
     "next": "5401ccc6-73e9-11ea-86a9-02420a01000c",
     "previous": null
    }
   },
   "source": [
    "***【準備】　10秒ごとにこのNotebookの変更を自動保存するマジックコマンドです。***"
   ]
  },
  {
   "cell_type": "code",
   "execution_count": null,
   "metadata": {
    "lc_cell_meme": {
     "current": "5401ccc6-73e9-11ea-86a9-02420a01000c",
     "history": [
      {
       "current": "5401ccc6-73e9-11ea-86a9-02420a01000c",
       "next": "3171f8a4-6178-11e9-b810-02420a00005a",
       "previous": null
      },
      {
       "current": "5401ccc6-73e9-11ea-86a9-02420a01000c",
       "next": "3171f8a4-6178-11e9-b810-02420a00005a",
       "previous": "5d312d00-73e9-11ea-86a9-02420a01000c"
      }
     ],
     "next": "92d568a4-73e9-11ea-86a9-02420a01000c",
     "previous": "5d312d00-73e9-11ea-86a9-02420a01000c"
    },
    "lc_wrapper": {
     "log_history": [
      "/home/yoko69d621/textbook/nw_sec/.log/20200401/20200401-072038-0966.log",
      "/home/yoko69d621/textbook/nw_sec/.log/20200401/20200401-072045-0404.log",
      "/home/yoko69d621/textbook/nw_sec/.log/20200401/20200401-072051-0597.log"
     ]
    },
    "pinned_outputs": []
   },
   "outputs": [],
   "source": [
    "%autosave 10"
   ]
  },
  {
   "cell_type": "markdown",
   "metadata": {
    "lc_cell_meme": {
     "current": "92d568a4-73e9-11ea-86a9-02420a01000c",
     "history": [
      {
       "current": "92d568a4-73e9-11ea-86a9-02420a01000c",
       "next": "3171f8a4-6178-11e9-b810-02420a00005a",
       "previous": "5401ccc6-73e9-11ea-86a9-02420a01000c"
      }
     ],
     "next": "7424f76c-73ee-11ea-86a9-02420a01000c",
     "previous": "5401ccc6-73e9-11ea-86a9-02420a01000c"
    }
   },
   "source": [
    "***以下が本編です。***\n",
    "\n",
    "**以下の実験で確かめたい仮説は、「シンプルなコマンドを組合せるだけで結構色んなことが実現できる！」　です。**"
   ]
  },
  {
   "cell_type": "markdown",
   "metadata": {
    "lc_cell_meme": {
     "current": "7424f76c-73ee-11ea-86a9-02420a01000c",
     "next": "3171f8a4-6178-11e9-b810-02420a00005a",
     "previous": "92d568a4-73e9-11ea-86a9-02420a01000c"
    }
   },
   "source": [
    "***【実習的実験】***"
   ]
  },
  {
   "cell_type": "markdown",
   "metadata": {
    "lc_cell_meme": {
     "current": "3171f8a4-6178-11e9-b810-02420a00005a",
     "history": [
      {
       "current": "3171f8a4-6178-11e9-b810-02420a00005a",
       "next": "3171f912-6178-11e9-b810-02420a00005a",
       "previous": "5401ccc6-73e9-11ea-86a9-02420a01000c"
      },
      {
       "current": "3171f8a4-6178-11e9-b810-02420a00005a",
       "next": "3171f912-6178-11e9-b810-02420a00005a",
       "previous": "92d568a4-73e9-11ea-86a9-02420a01000c"
      }
     ],
     "next": "3171f912-6178-11e9-b810-02420a00005a",
     "previous": "7424f76c-73ee-11ea-86a9-02420a01000c"
    }
   },
   "source": [
    "**Linuxコマンドを使ってみよう** （Jupyter notebookのcell内では　**!**の後にLinuxコマンドを書くとコマンドが実行できる。）"
   ]
  },
  {
   "cell_type": "markdown",
   "metadata": {
    "lc_cell_meme": {
     "current": "3171f912-6178-11e9-b810-02420a00005a",
     "next": "3171f94e-6178-11e9-b810-02420a00005a",
     "previous": "3171f8a4-6178-11e9-b810-02420a00005a"
    }
   },
   "source": [
    "**curlコマンドをインストール**"
   ]
  },
  {
   "cell_type": "code",
   "execution_count": null,
   "metadata": {
    "lc_cell_meme": {
     "current": "3171f94e-6178-11e9-b810-02420a00005a",
     "next": "3171f980-6178-11e9-b810-02420a00005a",
     "previous": "3171f912-6178-11e9-b810-02420a00005a"
    }
   },
   "outputs": [],
   "source": [
    "!sudo apt-get update; sudo apt-get install curl -y"
   ]
  },
  {
   "cell_type": "markdown",
   "metadata": {
    "lc_cell_meme": {
     "current": "3171f980-6178-11e9-b810-02420a00005a",
     "next": "3171f9b2-6178-11e9-b810-02420a00005a",
     "previous": "3171f94e-6178-11e9-b810-02420a00005a"
    }
   },
   "source": [
    "**出席管理用　etherpad https://etherpad.opendev.org/p/2020-nw-sec-ac から　curlコマンドで情報を取得**"
   ]
  },
  {
   "cell_type": "code",
   "execution_count": null,
   "metadata": {
    "lc_cell_meme": {
     "current": "3171f9b2-6178-11e9-b810-02420a00005a",
     "next": "3171f9e4-6178-11e9-b810-02420a00005a",
     "previous": "3171f980-6178-11e9-b810-02420a00005a"
    }
   },
   "outputs": [],
   "source": [
    "!curl https://etherpad.opendev.org/p/2020-nw-sec-ac/export/txt"
   ]
  },
  {
   "cell_type": "markdown",
   "metadata": {
    "lc_cell_meme": {
     "current": "3171f9e4-6178-11e9-b810-02420a00005a",
     "next": "3171fa16-6178-11e9-b810-02420a00005a",
     "previous": "3171f9b2-6178-11e9-b810-02420a00005a"
    }
   },
   "source": [
    "**cutコマンドで　1列目の情報だけを取り出す。　二つのコマンド（curlとcut）で pipeを通じて　データを受け渡している。pipeは　| で示す。**"
   ]
  },
  {
   "cell_type": "code",
   "execution_count": null,
   "metadata": {
    "lc_cell_meme": {
     "current": "3171fa16-6178-11e9-b810-02420a00005a",
     "next": "3171fa48-6178-11e9-b810-02420a00005a",
     "previous": "3171f9e4-6178-11e9-b810-02420a00005a"
    }
   },
   "outputs": [],
   "source": [
    "!curl https://etherpad.opendev.org/p/2020-nw-sec-ac/export/txt|cut -c1-8 "
   ]
  },
  {
   "cell_type": "markdown",
   "metadata": {
    "lc_cell_meme": {
     "current": "3171fa48-6178-11e9-b810-02420a00005a",
     "next": "3171fa7a-6178-11e9-b810-02420a00005a",
     "previous": "3171fa16-6178-11e9-b810-02420a00005a"
    }
   },
   "source": [
    "**curlコマンドが出力する**　<br>\n",
    "% Total    % Received % Xferd  Average Speed   Time    Time     Time  Current<br>\n",
    "                                 Dload  Upload   Total   Spent    Left  Speed<br>\n",
    "100  1745  100  1745    0     0   1994      0 --:--:-- --:--:-- --:--:--  2008<br>\n",
    "**を　/dev/null　に捨ててデータから消す。**"
   ]
  },
  {
   "cell_type": "code",
   "execution_count": null,
   "metadata": {
    "lc_cell_meme": {
     "current": "3171fa7a-6178-11e9-b810-02420a00005a",
     "next": "3171faa2-6178-11e9-b810-02420a00005a",
     "previous": "3171fa48-6178-11e9-b810-02420a00005a"
    }
   },
   "outputs": [],
   "source": [
    "!(curl https://etherpad.opendev.org/p/2020-nw-sec-ac/export/txt 2> /dev/null)|cut -c1-8 "
   ]
  },
  {
   "cell_type": "markdown",
   "metadata": {
    "lc_cell_meme": {
     "current": "3171faa2-6178-11e9-b810-02420a00005a",
     "next": "3171fad4-6178-11e9-b810-02420a00005a",
     "previous": "3171fa7a-6178-11e9-b810-02420a00005a"
    }
   },
   "source": [
    "**その週の部分だけを　headコマンドにより取り出す。　head --108 で最初の 108行だけを取り出すことを示す。**"
   ]
  },
  {
   "cell_type": "code",
   "execution_count": null,
   "metadata": {
    "lc_cell_meme": {
     "current": "3171fad4-6178-11e9-b810-02420a00005a",
     "next": "3171fb06-6178-11e9-b810-02420a00005a",
     "previous": "3171faa2-6178-11e9-b810-02420a00005a"
    }
   },
   "outputs": [],
   "source": [
    "!(curl https://etherpad.opendev.org/p/2020-nw-sec-ac/export/txt 2> /dev/null)|cut -c1-8 |head -108"
   ]
  },
  {
   "cell_type": "markdown",
   "metadata": {
    "lc_cell_meme": {
     "current": "3171fb06-6178-11e9-b810-02420a00005a",
     "next": "3171fb2e-6178-11e9-b810-02420a00005a",
     "previous": "3171fad4-6178-11e9-b810-02420a00005a"
    }
   },
   "source": [
    "**出席情報の本体だけ残すために　tailコマンドで後ろから　100行残す。さらに　trコマンドで小文字を全部大文字に変換して記法を揃える。**"
   ]
  },
  {
   "cell_type": "code",
   "execution_count": null,
   "metadata": {
    "lc_cell_meme": {
     "current": "3171fb2e-6178-11e9-b810-02420a00005a",
     "next": "3171fb60-6178-11e9-b810-02420a00005a",
     "previous": "3171fb06-6178-11e9-b810-02420a00005a"
    }
   },
   "outputs": [],
   "source": [
    "!(curl https://etherpad.opendev.org/p/2020-nw-sec-ac/export/txt 2> /dev/null)|cut -c1-8 |head -108|tail -100|tr [a-z] [A-Z]"
   ]
  },
  {
   "cell_type": "markdown",
   "metadata": {
    "lc_cell_meme": {
     "current": "3171fb60-6178-11e9-b810-02420a00005a",
     "next": "3171fb92-6178-11e9-b810-02420a00005a",
     "previous": "3171fb2e-6178-11e9-b810-02420a00005a"
    }
   },
   "source": [
    "**uniqコマンドにより重複排除を行う。さらにsortコマンドでアルファベット順にソートする。**"
   ]
  },
  {
   "cell_type": "code",
   "execution_count": null,
   "metadata": {
    "lc_cell_meme": {
     "current": "3171fb92-6178-11e9-b810-02420a00005a",
     "next": "3171fbc4-6178-11e9-b810-02420a00005a",
     "previous": "3171fb60-6178-11e9-b810-02420a00005a"
    }
   },
   "outputs": [],
   "source": [
    "!(curl https://etherpad.opendev.org/p/2020-nw-sec-ac/export/txt 2> /dev/null)|cut -c1-8 |head -108|tail -100|tr [a-z] [A-Z]|uniq|sort"
   ]
  },
  {
   "cell_type": "markdown",
   "metadata": {
    "lc_cell_meme": {
     "current": "3171fbc4-6178-11e9-b810-02420a00005a",
     "next": "3171fbf6-6178-11e9-b810-02420a00005a",
     "previous": "3171fb92-6178-11e9-b810-02420a00005a"
    }
   },
   "source": [
    "**履修者全員のリストが入っている　/notebooks/nw-sec　との差分を　diffコマンドで　抽出して欠席者リストを得る。**"
   ]
  },
  {
   "cell_type": "code",
   "execution_count": null,
   "metadata": {
    "lc_cell_meme": {
     "current": "3171fbf6-6178-11e9-b810-02420a00005a",
     "history": [
      {
       "current": "3171fbf6-6178-11e9-b810-02420a00005a",
       "next": "3171fc1e-6178-11e9-b810-02420a00005a",
       "previous": "3171fbc4-6178-11e9-b810-02420a00005a"
      }
     ],
     "next": "7424f9a6-73ee-11ea-86a9-02420a01000c",
     "previous": "3171fbc4-6178-11e9-b810-02420a00005a"
    },
    "lc_wrapper": {
     "log_history": [
      "/home/yoko69d621/textbook/nw_sec/.log/20200520/20200520-044558-0879.log",
      "/home/yoko69d621/textbook/nw_sec/.log/20200520/20200520-044707-0641.log"
     ]
    }
   },
   "outputs": [],
   "source": [
    "!(curl https://etherpad.opendev.org/p/2020-nw-sec-ac/export/txt 2> /dev/null)|cut -c1-8 |head -108|tail -100|tr [a-z] [A-Z]|uniq|sort| diff - ./nw-sec"
   ]
  },
  {
   "cell_type": "markdown",
   "metadata": {
    "lc_cell_meme": {
     "current": "7424f9a6-73ee-11ea-86a9-02420a01000c",
     "next": "3171fc1e-6178-11e9-b810-02420a00005a",
     "previous": "3171fbf6-6178-11e9-b810-02420a00005a"
    }
   },
   "source": [
    "***【発見的実験】***"
   ]
  },
  {
   "cell_type": "markdown",
   "metadata": {
    "lc_cell_meme": {
     "current": "3171fc1e-6178-11e9-b810-02420a00005a",
     "history": [
      {
       "current": "3171fc1e-6178-11e9-b810-02420a00005a",
       "next": "3171fc50-6178-11e9-b810-02420a00005a",
       "previous": "3171fbf6-6178-11e9-b810-02420a00005a"
      }
     ],
     "next": "3171fc50-6178-11e9-b810-02420a00005a",
     "previous": "7424f9a6-73ee-11ea-86a9-02420a01000c"
    }
   },
   "source": [
    "**では簡単な実験をしてて理解度チェック**"
   ]
  },
  {
   "cell_type": "markdown",
   "metadata": {
    "lc_cell_meme": {
     "current": "3171fc50-6178-11e9-b810-02420a00005a",
     "next": "3171fc82-6178-11e9-b810-02420a00005a",
     "previous": "3171fc1e-6178-11e9-b810-02420a00005a"
    }
   },
   "source": [
    "**大文字に揃えるのではなく小文字に揃えるコマンドは？**\n",
    "**そのコマンドを作って実行してみましょう。**"
   ]
  },
  {
   "cell_type": "code",
   "execution_count": null,
   "metadata": {
    "lc_cell_meme": {
     "current": "3171fc82-6178-11e9-b810-02420a00005a",
     "history": [
      {
       "current": "3171fc82-6178-11e9-b810-02420a00005a",
       "next": null,
       "previous": "3171fc50-6178-11e9-b810-02420a00005a"
      },
      {
       "current": "3171fc82-6178-11e9-b810-02420a00005a",
       "next": "b7fed1f6-6ed1-11e9-96dc-02420a00000b",
       "previous": "3171fc50-6178-11e9-b810-02420a00005a"
      },
      {
       "current": "3171fc82-6178-11e9-b810-02420a00005a",
       "next": "7424fae6-73ee-11ea-86a9-02420a01000c",
       "previous": "3171fc50-6178-11e9-b810-02420a00005a"
      }
     ],
     "next": "b7fed1f6-6ed1-11e9-96dc-02420a00000b",
     "previous": "3171fc50-6178-11e9-b810-02420a00005a"
    }
   },
   "outputs": [],
   "source": [
    "##ここの下の行にコマンドをコピーして実行してみてください。\n"
   ]
  },
  {
   "cell_type": "markdown",
   "metadata": {
    "lc_cell_meme": {
     "current": "b7fed1f6-6ed1-11e9-96dc-02420a00000b",
     "history": [
      {
       "current": "b7fed1f6-6ed1-11e9-96dc-02420a00000b",
       "next": "b7fed39a-6ed1-11e9-96dc-02420a00000b",
       "previous": "3171fc82-6178-11e9-b810-02420a00005a"
      },
      {
       "current": "b7fed1f6-6ed1-11e9-96dc-02420a00000b",
       "next": "b7fed39a-6ed1-11e9-96dc-02420a00000b",
       "previous": "7424fae6-73ee-11ea-86a9-02420a01000c"
      }
     ],
     "next": "b7fed39a-6ed1-11e9-96dc-02420a00000b",
     "previous": "3171fc82-6178-11e9-b810-02420a00005a"
    }
   },
   "source": [
    "**おまけ：　出席者の中から一人を選択するコマンドというものを作ってみました。**\n",
    "\n",
    "**ランダムな順列を生成する　shuf コマンド**　\n",
    "https://linuxjm.osdn.jp/html/GNU_coreutils/man1/shuf.1.html"
   ]
  },
  {
   "cell_type": "code",
   "execution_count": null,
   "metadata": {
    "lc_cell_meme": {
     "current": "b7fed39a-6ed1-11e9-96dc-02420a00000b",
     "history": [
      {
       "current": "b7fed39a-6ed1-11e9-96dc-02420a00000b",
       "next": null,
       "previous": "b7fed1f6-6ed1-11e9-96dc-02420a00000b"
      }
     ],
     "next": "10fe84a0-73c1-11ea-86a9-02420a01000c",
     "previous": "b7fed1f6-6ed1-11e9-96dc-02420a00000b"
    },
    "lc_wrapper": {
     "log_history": [
      "/home/yoko69d621/textbook/nw_sec/.log/20200520/20200520-044439-0467.log",
      "/home/yoko69d621/textbook/nw_sec/.log/20200520/20200520-044543-0471.log"
     ]
    }
   },
   "outputs": [],
   "source": [
    "!(curl https://etherpad.opendev.org/p/2020-nw-sec-ac/export/txt 2> /dev/null) |head -108|tail -100| shuf  -n 1"
   ]
  },
  {
   "cell_type": "markdown",
   "metadata": {
    "lc_cell_meme": {
     "current": "10fe84a0-73c1-11ea-86a9-02420a01000c",
     "next": "3171fc82-6178-11e9-b810-02420a00005a",
     "previous": "b7fed39a-6ed1-11e9-96dc-02420a00000b"
    }
   },
   "source": [
    "**出席者の中から三人を選択するコマンドを作ってみましょう。**"
   ]
  },
  {
   "cell_type": "code",
   "execution_count": null,
   "metadata": {
    "lc_cell_meme": {
     "current": "3171fc82-6178-11e9-b810-02420a00005a",
     "history": [
      {
       "current": "3171fc82-6178-11e9-b810-02420a00005a",
       "next": null,
       "previous": "3171fc50-6178-11e9-b810-02420a00005a"
      },
      {
       "current": "3171fc82-6178-11e9-b810-02420a00005a",
       "next": "b7fed1f6-6ed1-11e9-96dc-02420a00000b",
       "previous": "3171fc50-6178-11e9-b810-02420a00005a"
      },
      {
       "current": "3171fc82-6178-11e9-b810-02420a00005a",
       "next": null,
       "previous": "10fe84a0-73c1-11ea-86a9-02420a01000c"
      },
      {
       "current": "3171fc82-6178-11e9-b810-02420a00005a",
       "next": "10fe84a0-73c1-11ea-86a9-02420a01000c",
       "previous": "10fe84a0-73c1-11ea-86a9-02420a01000c"
      }
     ],
     "next": "7424fae6-73ee-11ea-86a9-02420a01000c",
     "previous": "10fe84a0-73c1-11ea-86a9-02420a01000c"
    }
   },
   "outputs": [],
   "source": [
    "##ここの下の行にコマンドをコピーして実行してみてください。\n"
   ]
  },
  {
   "cell_type": "markdown",
   "metadata": {
    "lc_cell_meme": {
     "current": "7424fae6-73ee-11ea-86a9-02420a01000c",
     "history": [
      {
       "current": "7424fae6-73ee-11ea-86a9-02420a01000c",
       "next": "b7fed1f6-6ed1-11e9-96dc-02420a00000b",
       "previous": "3171fc82-6178-11e9-b810-02420a00005a"
      }
     ],
     "next": "c6bf289e-98ba-11ea-bd7d-02420a010115",
     "previous": "3171fc82-6178-11e9-b810-02420a00005a"
    }
   },
   "source": [
    "***【検証的実験】***"
   ]
  },
  {
   "cell_type": "markdown",
   "metadata": {
    "lc_cell_meme": {
     "current": "c6bf289e-98ba-11ea-bd7d-02420a010115",
     "next": "c6bf2c68-98ba-11ea-bd7d-02420a010115",
     "previous": "7424fae6-73ee-11ea-86a9-02420a01000c"
    }
   },
   "source": [
    "**俳句っぽい文章を自動生成してみましょう。**\n",
    "\n",
    "**以下に置いてある５音言葉のリストと７音言葉のリストを使ってみてはどうでしょう？**\n",
    "\n",
    "**https://etherpad.opendev.org/p/word-5 と　https://etherpad.opendev.org/p/word-7 を使ってみましょう。**\n",
    "\n",
    "**もちろん　https://etherpad.opendev.org/p/word-5 と　https://etherpad.opendev.org/p/word-7　に好きな言葉を追加してもいいですよ。**\n",
    "\n",
    "**そのコマンドを作って実行してみましょう。**"
   ]
  },
  {
   "cell_type": "code",
   "execution_count": null,
   "metadata": {
    "lc_cell_meme": {
     "current": "c6bf2c68-98ba-11ea-bd7d-02420a010115",
     "next": "c6bf2e20-98ba-11ea-bd7d-02420a010115",
     "previous": "c6bf289e-98ba-11ea-bd7d-02420a010115"
    }
   },
   "outputs": [],
   "source": [
    "##ここの下の行にコマンドをコピーして実行してみてください。\n"
   ]
  },
  {
   "cell_type": "markdown",
   "metadata": {
    "lc_cell_meme": {
     "current": "c6bf2e20-98ba-11ea-bd7d-02420a010115",
     "next": "c6bf2f06-98ba-11ea-bd7d-02420a010115",
     "previous": "c6bf2c68-98ba-11ea-bd7d-02420a010115"
    }
   },
   "source": [
    "もっと俳句っぽい文章を自動生成してみましょう。**\n",
    "**そのコマンドを作って実行してみましょう。**"
   ]
  },
  {
   "cell_type": "code",
   "execution_count": null,
   "metadata": {
    "lc_cell_meme": {
     "current": "c6bf2f06-98ba-11ea-bd7d-02420a010115",
     "next": null,
     "previous": "c6bf2e20-98ba-11ea-bd7d-02420a010115"
    }
   },
   "outputs": [],
   "source": [
    "##ここの下の行にコマンドをコピーして実行してみてください。\n"
   ]
  }
 ],
 "metadata": {
  "kernelspec": {
   "display_name": "Python 3",
   "language": "python",
   "name": "python3"
  },
  "language_info": {
   "file_extension": ".py",
   "mimetype": "text/x-python",
   "name": "python",
   "nbconvert_exporter": "python",
   "pygments_lexer": "ipython3",
   "version": "3.7.3"
  },
  "lc_notebook_meme": {
   "current": "3171f642-6178-11e9-b810-02420a00005a",
   "lc_server_signature": {
    "current": {
     "notebook_dir": "/home/yoko69d621",
     "notebook_path": "/textbook/nw_sec",
     "server_url": "https://nb03.ecloud.nii.ac.jp/user/yoko69d621/",
     "signature_id": "5e786c6e-5fea-11e9-b810-02420a00005a"
    },
    "history": []
   }
  },
  "toc": {
   "base_numbering": 1,
   "nav_menu": {},
   "number_sections": true,
   "sideBar": true,
   "skip_h1_title": false,
   "title_cell": "Table of Contents",
   "title_sidebar": "Contents",
   "toc_cell": false,
   "toc_position": {},
   "toc_section_display": true,
   "toc_window_display": false
  }
 },
 "nbformat": 4,
 "nbformat_minor": 2
}
