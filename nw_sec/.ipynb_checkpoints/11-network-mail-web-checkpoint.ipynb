{
 "cells": [
  {
   "cell_type": "markdown",
   "metadata": {
    "lc_cell_meme": {
     "current": "26429acc-bc0a-11ea-bd7d-02420a010115",
     "next": "67529d70-926f-11e9-8556-02420a010127",
     "previous": null
    }
   },
   "source": [
    "**＜実習的実験＞**"
   ]
  },
  {
   "cell_type": "markdown",
   "metadata": {
    "lc_cell_meme": {
     "current": "67529d70-926f-11e9-8556-02420a010127",
     "history": [
      {
       "current": "67529d70-926f-11e9-8556-02420a010127",
       "next": "67529dde-926f-11e9-8556-02420a010127",
       "previous": null
      }
     ],
     "next": "67529dde-926f-11e9-8556-02420a010127",
     "previous": "26429acc-bc0a-11ea-bd7d-02420a010115"
    }
   },
   "source": [
    "**Webサーバを立ち上げてみましょう**"
   ]
  },
  {
   "cell_type": "markdown",
   "metadata": {
    "lc_cell_meme": {
     "current": "67529dde-926f-11e9-8556-02420a010127",
     "next": "67529e1a-926f-11e9-8556-02420a010127",
     "previous": "67529d70-926f-11e9-8556-02420a010127"
    }
   },
   "source": [
    "**Webサーバ　ソフト　Apacheのインストール**"
   ]
  },
  {
   "cell_type": "code",
   "execution_count": null,
   "metadata": {
    "lc_cell_meme": {
     "current": "67529e1a-926f-11e9-8556-02420a010127",
     "next": "67529e56-926f-11e9-8556-02420a010127",
     "previous": "67529dde-926f-11e9-8556-02420a010127"
    },
    "lc_wrapper": {
     "log_history": [
      "/home/yoko69d621/textbook/nw_sec/.log/20200702/20200702-022912-0546.log"
     ]
    }
   },
   "outputs": [],
   "source": [
    "!sudo apt-get update"
   ]
  },
  {
   "cell_type": "code",
   "execution_count": null,
   "metadata": {
    "lc_cell_meme": {
     "current": "67529e56-926f-11e9-8556-02420a010127",
     "next": "67529e88-926f-11e9-8556-02420a010127",
     "previous": "67529e1a-926f-11e9-8556-02420a010127"
    },
    "lc_wrapper": {
     "log_history": [
      "/home/yoko69d621/textbook/nw_sec/.log/20200702/20200702-022921-0513.log"
     ]
    }
   },
   "outputs": [],
   "source": [
    "!sudo apt-get install apache2 -y"
   ]
  },
  {
   "cell_type": "markdown",
   "metadata": {
    "lc_cell_meme": {
     "current": "67529e88-926f-11e9-8556-02420a010127",
     "history": [
      {
       "current": "67529e88-926f-11e9-8556-02420a010127",
       "next": "67529eba-926f-11e9-8556-02420a010127",
       "previous": "67529e56-926f-11e9-8556-02420a010127"
      },
      {
       "current": "67529e88-926f-11e9-8556-02420a010127",
       "next": "67529e88-926f-11e9-8556-02420a010127",
       "previous": "67529e56-926f-11e9-8556-02420a010127"
      }
     ],
     "next": "67529eba-926f-11e9-8556-02420a010127",
     "previous": "67529e56-926f-11e9-8556-02420a010127"
    }
   },
   "source": [
    "**まだWebサーバが起動していないことをブラウザから確認しましょう**   \n",
    "\n",
    "https://nb03.ecloud.nii.ac.jp/user-redirect/webserver-port-80/index.html"
   ]
  },
  {
   "cell_type": "markdown",
   "metadata": {
    "lc_cell_meme": {
     "current": "67529eba-926f-11e9-8556-02420a010127",
     "next": "67529eec-926f-11e9-8556-02420a010127",
     "previous": "67529e88-926f-11e9-8556-02420a010127"
    }
   },
   "source": [
    "**Web Server 起動**"
   ]
  },
  {
   "cell_type": "code",
   "execution_count": null,
   "metadata": {
    "lc_cell_meme": {
     "current": "67529eec-926f-11e9-8556-02420a010127",
     "next": "67529f14-926f-11e9-8556-02420a010127",
     "previous": "67529eba-926f-11e9-8556-02420a010127"
    },
    "lc_wrapper": {
     "log_history": [
      "/home/yoko69d621/textbook/nw_sec/.log/20200702/20200702-022946-0785.log",
      "/home/yoko69d621/textbook/nw_sec/.log/20200702/20200702-023117-0603.log"
     ]
    }
   },
   "outputs": [],
   "source": [
    "!sudo /etc/init.d/apache2 start"
   ]
  },
  {
   "cell_type": "markdown",
   "metadata": {
    "lc_cell_meme": {
     "current": "67529f14-926f-11e9-8556-02420a010127",
     "history": [
      {
       "current": "67529f14-926f-11e9-8556-02420a010127",
       "next": "67529f50-926f-11e9-8556-02420a010127",
       "previous": "67529eec-926f-11e9-8556-02420a010127"
      }
     ],
     "next": "67529f14-926f-11e9-8556-02420a010127",
     "previous": "67529eec-926f-11e9-8556-02420a010127"
    }
   },
   "source": [
    "**Webサーバが起動していることをブラウザから確認しましょう**   \n",
    "\n",
    "https://nb03.ecloud.nii.ac.jp/user-redirect/webserver-port-80/index.html"
   ]
  },
  {
   "cell_type": "markdown",
   "metadata": {
    "lc_cell_meme": {
     "current": "67529f14-926f-11e9-8556-02420a010127",
     "history": [
      {
       "current": "67529f14-926f-11e9-8556-02420a010127",
       "next": "67529f50-926f-11e9-8556-02420a010127",
       "previous": "67529eec-926f-11e9-8556-02420a010127"
      }
     ],
     "next": "67529f50-926f-11e9-8556-02420a010127",
     "previous": "67529f14-926f-11e9-8556-02420a010127"
    }
   },
   "source": [
    "**Webサーバが起動していることをブラウザから確認しましょう**   \n",
    "\n",
    "https://nb03.ecloud.nii.ac.jp/user-redirect/proxy/8080/index.html"
   ]
  },
  {
   "cell_type": "markdown",
   "metadata": {
    "lc_cell_meme": {
     "current": "67529f50-926f-11e9-8556-02420a010127",
     "history": [
      {
       "current": "67529f50-926f-11e9-8556-02420a010127",
       "next": "67529f82-926f-11e9-8556-02420a010127",
       "previous": "67529f14-926f-11e9-8556-02420a010127"
      }
     ],
     "next": "67529fb4-926f-11e9-8556-02420a010127",
     "previous": "67529f14-926f-11e9-8556-02420a010127"
    }
   },
   "source": [
    "**HTMLファイルの書き込み権を付与**"
   ]
  },
  {
   "cell_type": "code",
   "execution_count": null,
   "metadata": {
    "lc_cell_meme": {
     "current": "67529fb4-926f-11e9-8556-02420a010127",
     "history": [
      {
       "current": "67529fb4-926f-11e9-8556-02420a010127",
       "next": "67529fe6-926f-11e9-8556-02420a010127",
       "previous": "67529f82-926f-11e9-8556-02420a010127"
      }
     ],
     "next": "67529fe6-926f-11e9-8556-02420a010127",
     "previous": "67529f50-926f-11e9-8556-02420a010127"
    },
    "lc_wrapper": {
     "log_history": [
      "/home/yoko69d621/textbook/nw_sec/.log/20200702/20200702-023042-0534.log"
     ]
    }
   },
   "outputs": [],
   "source": [
    "!sudo chmod 0777 /var/www/html "
   ]
  },
  {
   "cell_type": "markdown",
   "metadata": {
    "lc_cell_meme": {
     "current": "67529fe6-926f-11e9-8556-02420a010127",
     "next": "6752a018-926f-11e9-8556-02420a010127",
     "previous": "67529fb4-926f-11e9-8556-02420a010127"
    }
   },
   "source": [
    "**サンプルWebページ用　ファイル　test.html　を編集できます**"
   ]
  },
  {
   "cell_type": "markdown",
   "metadata": {
    "lc_cell_meme": {
     "current": "6752a018-926f-11e9-8556-02420a010127",
     "next": "6752a04a-926f-11e9-8556-02420a010127",
     "previous": "67529fe6-926f-11e9-8556-02420a010127"
    }
   },
   "source": [
    "[test.html](/user-redirect/edit/nw_sec/web_samples/test.html)"
   ]
  },
  {
   "cell_type": "markdown",
   "metadata": {
    "lc_cell_meme": {
     "current": "6752a04a-926f-11e9-8556-02420a010127",
     "next": "6752a072-926f-11e9-8556-02420a010127",
     "previous": "6752a018-926f-11e9-8556-02420a010127"
    }
   },
   "source": [
    "**サンプル htmlファイルを所定のディレクトリに配置**"
   ]
  },
  {
   "cell_type": "code",
   "execution_count": null,
   "metadata": {
    "lc_cell_meme": {
     "current": "6752a072-926f-11e9-8556-02420a010127",
     "next": "6752a0a4-926f-11e9-8556-02420a010127",
     "previous": "6752a04a-926f-11e9-8556-02420a010127"
    },
    "scrolled": true
   },
   "outputs": [],
   "source": [
    "!cp web_samples/test.html /var/www/html/test.html; cat /var/www/html/test.html"
   ]
  },
  {
   "cell_type": "markdown",
   "metadata": {
    "lc_cell_meme": {
     "current": "6752a0a4-926f-11e9-8556-02420a010127",
     "next": "6752a0d6-926f-11e9-8556-02420a010127",
     "previous": "6752a072-926f-11e9-8556-02420a010127"
    }
   },
   "source": [
    "**ブラウザからアクセスできることを確認しましょう**  \n",
    "\n",
    "https://nb03.ecloud.nii.ac.jp/user-redirect/webserver-port-80/test.html"
   ]
  },
  {
   "cell_type": "markdown",
   "metadata": {
    "lc_cell_meme": {
     "current": "6752a0d6-926f-11e9-8556-02420a010127",
     "next": "6752a108-926f-11e9-8556-02420a010127",
     "previous": "6752a0a4-926f-11e9-8556-02420a010127"
    }
   },
   "source": [
    "**サンプル webページにアクセスした際のアクセス　logを見てみよう**"
   ]
  },
  {
   "cell_type": "code",
   "execution_count": null,
   "metadata": {
    "lc_cell_meme": {
     "current": "6752a108-926f-11e9-8556-02420a010127",
     "history": [
      {
       "current": "6752a108-926f-11e9-8556-02420a010127",
       "next": "6752a130-926f-11e9-8556-02420a010127",
       "previous": "6752a0d6-926f-11e9-8556-02420a010127"
      }
     ],
     "next": "406414f0-93be-11e9-8556-02420a010127",
     "previous": "6752a0d6-926f-11e9-8556-02420a010127"
    },
    "scrolled": true
   },
   "outputs": [],
   "source": [
    "!sudo tail -10 /var/log/apache2/access.log"
   ]
  },
  {
   "cell_type": "markdown",
   "metadata": {
    "lc_cell_meme": {
     "current": "406414f0-93be-11e9-8556-02420a010127",
     "next": "6752a130-926f-11e9-8556-02420a010127",
     "previous": "6752a108-926f-11e9-8556-02420a010127"
    }
   },
   "source": [
    "**既存のWEBサイトのページをtest.htmlにコピーして、サンプルWebページにしてみましょう？ ちゃんと置き換わりましたか？**\n",
    "**例えば　https://www.media.gunma-u.ac.jp/　のコンテンツをコピーして置き換えてみましょう！**"
   ]
  },
  {
   "cell_type": "markdown",
   "metadata": {
    "lc_cell_meme": {
     "current": "6752a130-926f-11e9-8556-02420a010127",
     "history": [
      {
       "current": "6752a130-926f-11e9-8556-02420a010127",
       "next": "6752a162-926f-11e9-8556-02420a010127",
       "previous": "6752a108-926f-11e9-8556-02420a010127"
      }
     ],
     "next": "6752a162-926f-11e9-8556-02420a010127",
     "previous": "406414f0-93be-11e9-8556-02420a010127"
    }
   },
   "source": [
    "**---------------------------------------------------** <br>\n",
    "**もう少し面白いサンプルWebページを触ってみましょう**\n",
    "![boids](http://i.imgur.com/2t5YaKQ.jpg)\n",
    "\n",
    "[boidsの説明] (https://ja.wikipedia.org/wiki/ボイド_(人工生命))"
   ]
  },
  {
   "cell_type": "code",
   "execution_count": null,
   "metadata": {
    "lc_cell_meme": {
     "current": "6752a162-926f-11e9-8556-02420a010127",
     "next": "6752a194-926f-11e9-8556-02420a010127",
     "previous": "6752a130-926f-11e9-8556-02420a010127"
    }
   },
   "outputs": [],
   "source": [
    "! cd web_samples/boids;sudo cp boids.html main.js /var/www/html"
   ]
  },
  {
   "cell_type": "markdown",
   "metadata": {
    "lc_cell_meme": {
     "current": "6752a194-926f-11e9-8556-02420a010127",
     "next": "6752a1c6-926f-11e9-8556-02420a010127",
     "previous": "6752a162-926f-11e9-8556-02420a010127"
    }
   },
   "source": [
    "**ブラウザからアクセスできることを確認しましょう**  \n",
    "\n",
    "https://nb03.ecloud.nii.ac.jp/user-redirect/webserver-port-80/boids.html"
   ]
  },
  {
   "cell_type": "code",
   "execution_count": null,
   "metadata": {
    "lc_cell_meme": {
     "current": "6752a1c6-926f-11e9-8556-02420a010127",
     "next": "6752a1f8-926f-11e9-8556-02420a010127",
     "previous": "6752a194-926f-11e9-8556-02420a010127"
    }
   },
   "outputs": [],
   "source": [
    "!sudo ls -l web_samples/boids/"
   ]
  },
  {
   "cell_type": "markdown",
   "metadata": {
    "lc_cell_meme": {
     "current": "6752a1f8-926f-11e9-8556-02420a010127",
     "next": "6752a220-926f-11e9-8556-02420a010127",
     "previous": "6752a1c6-926f-11e9-8556-02420a010127"
    }
   },
   "source": [
    "[boids.html](/user-redirect/edit/nw_sec/web_samples/boids/boids.html), [main.js](/user-redirect/edit/nw_sec/web_samples/boids/main.js)"
   ]
  },
  {
   "cell_type": "markdown",
   "metadata": {
    "lc_cell_meme": {
     "current": "6752a220-926f-11e9-8556-02420a010127",
     "next": "6752a252-926f-11e9-8556-02420a010127",
     "previous": "6752a1f8-926f-11e9-8556-02420a010127"
    }
   },
   "source": [
    "**---------------------------------------------------**   <br>\n",
    "**もう少し面白いサンプルWebページを触ってみましょう**\n",
    "![tetris](http://i.imgur.com/H7qFDLx.jpg)"
   ]
  },
  {
   "cell_type": "code",
   "execution_count": null,
   "metadata": {
    "lc_cell_meme": {
     "current": "6752a252-926f-11e9-8556-02420a010127",
     "next": "6752a28e-926f-11e9-8556-02420a010127",
     "previous": "6752a220-926f-11e9-8556-02420a010127"
    }
   },
   "outputs": [],
   "source": [
    "! cd web_samples/tetris;sudo cp -r *  /var/www/html"
   ]
  },
  {
   "cell_type": "code",
   "execution_count": null,
   "metadata": {
    "lc_cell_meme": {
     "current": "6752a28e-926f-11e9-8556-02420a010127",
     "next": "6752a2b6-926f-11e9-8556-02420a010127",
     "previous": "6752a252-926f-11e9-8556-02420a010127"
    }
   },
   "outputs": [],
   "source": [
    "!sudo ls -l web_samples/tetris/js"
   ]
  },
  {
   "cell_type": "markdown",
   "metadata": {
    "lc_cell_meme": {
     "current": "6752a2b6-926f-11e9-8556-02420a010127",
     "next": "6752a2e8-926f-11e9-8556-02420a010127",
     "previous": "6752a28e-926f-11e9-8556-02420a010127"
    }
   },
   "source": [
    "[tetris.html](/user-redirect/edit/nw_sec/web_samples/tetris/tetris.html), [tetris.js](/user-redirect/edit/nw_sec/web_samples/tetris/js/tetris.js), [controller.js](/user-redirect/edit/nw_sec/web_samples/tetris/js/controller.js), [render.js](/user-redirect/edit/nw_sec/web_samples/tetris/js/render.js), [style.css](/user-redirect/edit/nw_sec/web_samples/tetris/style.css)"
   ]
  },
  {
   "cell_type": "markdown",
   "metadata": {
    "lc_cell_meme": {
     "current": "6752a2e8-926f-11e9-8556-02420a010127",
     "history": [
      {
       "current": "6752a2e8-926f-11e9-8556-02420a010127",
       "next": "6752a31a-926f-11e9-8556-02420a010127",
       "previous": "6752a2b6-926f-11e9-8556-02420a010127"
      }
     ],
     "next": "26429e28-bc0a-11ea-bd7d-02420a010115",
     "previous": "6752a2b6-926f-11e9-8556-02420a010127"
    }
   },
   "source": [
    "**ブラウザからアクセスできることを確認しましょう**  <br>\n",
    "https://nb03.ecloud.nii.ac.jp/user-redirect/webserver-port-80/tetris.html"
   ]
  },
  {
   "cell_type": "markdown",
   "metadata": {
    "lc_cell_meme": {
     "current": "26429e28-bc0a-11ea-bd7d-02420a010115",
     "next": "6752a31a-926f-11e9-8556-02420a010127",
     "previous": "6752a2e8-926f-11e9-8556-02420a010127"
    }
   },
   "source": [
    "**＜発見的実験＞**"
   ]
  },
  {
   "cell_type": "markdown",
   "metadata": {
    "lc_cell_meme": {
     "current": "6752a31a-926f-11e9-8556-02420a010127",
     "history": [
      {
       "current": "6752a31a-926f-11e9-8556-02420a010127",
       "next": null,
       "previous": "6752a2e8-926f-11e9-8556-02420a010127"
      },
      {
       "current": "6752a31a-926f-11e9-8556-02420a010127",
       "next": "aed8e654-926f-11e9-8556-02420a010127",
       "previous": "6752a2e8-926f-11e9-8556-02420a010127"
      }
     ],
     "next": "aed8e654-926f-11e9-8556-02420a010127",
     "previous": "26429e28-bc0a-11ea-bd7d-02420a010115"
    }
   },
   "source": [
    "**テトリス、うまく遊べましたか？**"
   ]
  },
  {
   "cell_type": "code",
   "execution_count": null,
   "metadata": {
    "lc_cell_meme": {
     "current": "aed8e654-926f-11e9-8556-02420a010127",
     "history": [
      {
       "current": "aed8e654-926f-11e9-8556-02420a010127",
       "next": "6752a31a-926f-11e9-8556-02420a010127",
       "previous": "6752a31a-926f-11e9-8556-02420a010127"
      }
     ],
     "next": "26429f7c-bc0a-11ea-bd7d-02420a010115",
     "previous": "6752a31a-926f-11e9-8556-02420a010127"
    }
   },
   "outputs": [],
   "source": [
    "ANSWER_1 = input(\"PROBLEM_1= yes or noでご回答ください。\")\n",
    "print(\"ANSWER_1 ==\", ANSWER_1)"
   ]
  },
  {
   "cell_type": "markdown",
   "metadata": {
    "lc_cell_meme": {
     "current": "26429f7c-bc0a-11ea-bd7d-02420a010115",
     "history": [
      {
       "current": "26429f7c-bc0a-11ea-bd7d-02420a010115",
       "next": null,
       "previous": "aed8e654-926f-11e9-8556-02420a010127"
      }
     ],
     "next": "6752a31a-926f-11e9-8556-02420a010127",
     "previous": "aed8e654-926f-11e9-8556-02420a010127"
    }
   },
   "source": [
    "**＜検証的実験＞**"
   ]
  },
  {
   "cell_type": "markdown",
   "metadata": {
    "lc_cell_meme": {
     "current": "6752a31a-926f-11e9-8556-02420a010127",
     "history": [
      {
       "current": "6752a31a-926f-11e9-8556-02420a010127",
       "next": null,
       "previous": "6752a2e8-926f-11e9-8556-02420a010127"
      },
      {
       "current": "6752a31a-926f-11e9-8556-02420a010127",
       "next": null,
       "previous": "aed8e654-926f-11e9-8556-02420a010127"
      },
      {
       "current": "6752a31a-926f-11e9-8556-02420a010127",
       "next": "aed8e654-926f-11e9-8556-02420a010127",
       "previous": "aed8e654-926f-11e9-8556-02420a010127"
      }
     ],
     "next": "aed8e654-926f-11e9-8556-02420a010127",
     "previous": "26429f7c-bc0a-11ea-bd7d-02420a010115"
    }
   },
   "source": [
    "**controller.jsを改変して、コントロールが難しくなったテトリスでうまく遊べましたか？**"
   ]
  },
  {
   "cell_type": "code",
   "execution_count": null,
   "metadata": {
    "lc_cell_meme": {
     "current": "aed8e654-926f-11e9-8556-02420a010127",
     "history": [
      {
       "current": "aed8e654-926f-11e9-8556-02420a010127",
       "next": null,
       "previous": "6752a31a-926f-11e9-8556-02420a010127"
      }
     ],
     "next": null,
     "previous": "6752a31a-926f-11e9-8556-02420a010127"
    }
   },
   "outputs": [],
   "source": [
    "ANSWER_1 = input(\"PROBLEM_2= yes or noでご回答ください。\")\n",
    "print(\"ANSWER_2 ==\", ANSWER_1)"
   ]
  }
 ],
 "metadata": {
  "kernelspec": {
   "display_name": "Python 3",
   "language": "python",
   "name": "python3"
  },
  "language_info": {
   "file_extension": ".py",
   "mimetype": "text/x-python",
   "name": "python",
   "nbconvert_exporter": "python",
   "pygments_lexer": "ipython3",
   "version": "3.7.3"
  },
  "lc_notebook_meme": {
   "current": "67529adc-926f-11e9-8556-02420a010127",
   "lc_server_signature": {
    "current": {
     "notebook_dir": "/home/yoko69d621",
     "notebook_path": "/textbook/nw_sec",
     "server_url": "https://nb03.ecloud.nii.ac.jp/user/yoko69d621/",
     "signature_id": "5e786c6e-5fea-11e9-b810-02420a00005a"
    },
    "history": []
   }
  },
  "toc": {
   "base_numbering": 1,
   "nav_menu": {},
   "number_sections": true,
   "sideBar": true,
   "skip_h1_title": false,
   "title_cell": "Table of Contents",
   "title_sidebar": "Contents",
   "toc_cell": false,
   "toc_position": {},
   "toc_section_display": true,
   "toc_window_display": false
  }
 },
 "nbformat": 4,
 "nbformat_minor": 2
}
