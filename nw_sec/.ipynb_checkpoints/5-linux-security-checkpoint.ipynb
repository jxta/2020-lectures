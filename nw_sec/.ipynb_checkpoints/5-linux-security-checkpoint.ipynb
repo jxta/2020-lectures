{
 "cells": [
  {
   "cell_type": "markdown",
   "metadata": {
    "lc_cell_meme": {
     "current": "d9dbb6c8-6be2-11e9-96dc-02420a00000b",
     "next": "d9dbb736-6be2-11e9-96dc-02420a00000b",
     "previous": null
    }
   },
   "source": [
    "**必要なネットワーク、セキュリティ関連コマンドのインストール**"
   ]
  },
  {
   "cell_type": "code",
   "execution_count": null,
   "metadata": {
    "lc_cell_meme": {
     "current": "d9dbb736-6be2-11e9-96dc-02420a00000b",
     "next": "d9dbb77c-6be2-11e9-96dc-02420a00000b",
     "previous": "d9dbb6c8-6be2-11e9-96dc-02420a00000b"
    },
    "lc_wrapper": {
     "log_history": [
      "/home/yoko69d621/textbook/nw_sec/.log/20200529/20200529-020522-0959.log",
      "/home/yoko69d621/textbook/nw_sec/.log/20200603/20200603-062429-0121.log"
     ]
    }
   },
   "outputs": [],
   "source": [
    "!sudo apt-get update"
   ]
  },
  {
   "cell_type": "code",
   "execution_count": null,
   "metadata": {
    "lc_cell_meme": {
     "current": "d9dbb77c-6be2-11e9-96dc-02420a00000b",
     "next": "d9dbb7b8-6be2-11e9-96dc-02420a00000b",
     "previous": "d9dbb736-6be2-11e9-96dc-02420a00000b"
    },
    "lc_wrapper": {
     "log_history": [
      "/home/yoko69d621/textbook/nw_sec/.log/20200529/20200529-020531-0857.log",
      "/home/yoko69d621/textbook/nw_sec/.log/20200603/20200603-062436-0877.log"
     ]
    }
   },
   "outputs": [],
   "source": [
    "!sudo apt-get install net-tools lsof nmap -y"
   ]
  },
  {
   "cell_type": "markdown",
   "metadata": {
    "lc_cell_meme": {
     "current": "d9dbb7b8-6be2-11e9-96dc-02420a00000b",
     "next": "d9dbb7f4-6be2-11e9-96dc-02420a00000b",
     "previous": "d9dbb77c-6be2-11e9-96dc-02420a00000b"
    }
   },
   "source": [
    "**netstat コマンドを使ってみよう**　\n",
    "\n",
    "名称の由来とされる「Network Statistics」の意味の通り、ネットワーク接続やルーティングの状況、ネットワークインターフェース（NIC）の状態を報告するコマンドです。 https://www.atmarkit.co.jp/ait/articles/1412/10/news003.html"
   ]
  },
  {
   "cell_type": "code",
   "execution_count": null,
   "metadata": {
    "lc_cell_meme": {
     "current": "d9dbb7f4-6be2-11e9-96dc-02420a00000b",
     "history": [
      {
       "current": "d9dbb7f4-6be2-11e9-96dc-02420a00000b",
       "next": "d9dbb826-6be2-11e9-96dc-02420a00000b",
       "previous": "d9dbb7b8-6be2-11e9-96dc-02420a00000b"
      }
     ],
     "next": "d9dbb894-6be2-11e9-96dc-02420a00000b",
     "previous": "d9dbb7b8-6be2-11e9-96dc-02420a00000b"
    },
    "lc_wrapper": {
     "log_history": [
      "/home/yoko69d621/textbook/nw_sec/.log/20200529/20200529-020545-0385.log",
      "/home/yoko69d621/textbook/nw_sec/.log/20200529/20200529-020907-0993.log",
      "/home/yoko69d621/textbook/nw_sec/.log/20200529/20200529-020921-0042.log",
      "/home/yoko69d621/textbook/nw_sec/.log/20200530/20200530-072247-0817.log",
      "/home/yoko69d621/textbook/nw_sec/.log/20200530/20200530-080707-0824.log",
      "/home/yoko69d621/textbook/nw_sec/.log/20200530/20200530-080835-0900.log"
     ]
    }
   },
   "outputs": [],
   "source": [
    "!netstat -ntl"
   ]
  },
  {
   "cell_type": "markdown",
   "metadata": {
    "lc_cell_meme": {
     "current": "d9dbb894-6be2-11e9-96dc-02420a00000b",
     "history": [
      {
       "current": "d9dbb894-6be2-11e9-96dc-02420a00000b",
       "next": "d9dbb8d0-6be2-11e9-96dc-02420a00000b",
       "previous": "d9dbb862-6be2-11e9-96dc-02420a00000b"
      }
     ],
     "next": "d9dbb8d0-6be2-11e9-96dc-02420a00000b",
     "previous": "d9dbb7f4-6be2-11e9-96dc-02420a00000b"
    }
   },
   "source": [
    "**nmapコマンド を使ってみよう**\n",
    "\n",
    "脆弱性のチェックとして非常に有効なセキュリティスキャンツールである nmapを使ってみましょう。"
   ]
  },
  {
   "cell_type": "code",
   "execution_count": null,
   "metadata": {
    "lc_cell_meme": {
     "current": "d9dbb8d0-6be2-11e9-96dc-02420a00000b",
     "next": "d9dbb90c-6be2-11e9-96dc-02420a00000b",
     "previous": "d9dbb894-6be2-11e9-96dc-02420a00000b"
    },
    "lc_wrapper": {
     "log_history": [
      "/home/yoko69d621/textbook/nw_sec/.log/20200529/20200529-021159-0647.log",
      "/home/yoko69d621/textbook/nw_sec/.log/20200529/20200529-021234-0566.log",
      "/home/yoko69d621/textbook/nw_sec/.log/20200529/20200529-022215-0381.log",
      "/home/yoko69d621/textbook/nw_sec/.log/20200530/20200530-073231-0765.log",
      "/home/yoko69d621/textbook/nw_sec/.log/20200530/20200530-080924-0237.log"
     ]
    },
    "scrolled": true
   },
   "outputs": [],
   "source": [
    "!nmap localhost"
   ]
  },
  {
   "cell_type": "markdown",
   "metadata": {
    "lc_cell_meme": {
     "current": "d9dbb90c-6be2-11e9-96dc-02420a00000b",
     "next": "d9dbb93e-6be2-11e9-96dc-02420a00000b",
     "previous": "d9dbb8d0-6be2-11e9-96dc-02420a00000b"
    }
   },
   "source": [
    "**ssh関連のプログラムをインストールしましょう**\n",
    "\n",
    "クライアント側； sudo apt-get install ssh （クライアント側ソフトウェアのインストール）\n",
    "\n",
    "サーバ側； sudo apt-get install openssh-server　（サーバ側ソフトウェアのインストール）\n",
    "\n",
    "                    sudo /etc/init.d/ssh start　（sshサーバの起動）"
   ]
  },
  {
   "cell_type": "code",
   "execution_count": null,
   "metadata": {
    "lc_cell_meme": {
     "current": "d9dbb93e-6be2-11e9-96dc-02420a00000b",
     "history": [
      {
       "current": "d9dbb93e-6be2-11e9-96dc-02420a00000b",
       "next": "d9dbb97a-6be2-11e9-96dc-02420a00000b",
       "previous": "d9dbb90c-6be2-11e9-96dc-02420a00000b"
      }
     ],
     "next": "a8df448a-a24c-11ea-bd7d-02420a010115",
     "previous": "d9dbb90c-6be2-11e9-96dc-02420a00000b"
    },
    "lc_wrapper": {
     "log_history": [
      "/home/yoko69d621/textbook/nw_sec/.log/20200529/20200529-022929-0814.log",
      "/home/yoko69d621/textbook/nw_sec/.log/20200603/20200603-062445-0332.log"
     ]
    },
    "scrolled": true
   },
   "outputs": [],
   "source": [
    "!sudo apt-get install ssh -y;  sudo apt-get install openssh-server -y; sudo /etc/init.d/ssh start"
   ]
  },
  {
   "cell_type": "markdown",
   "metadata": {
    "lc_cell_meme": {
     "current": "a8df448a-a24c-11ea-bd7d-02420a010115",
     "history": [
      {
       "current": "a8df448a-a24c-11ea-bd7d-02420a010115",
       "next": "d9dbb97a-6be2-11e9-96dc-02420a00000b",
       "previous": "d9dbb93e-6be2-11e9-96dc-02420a00000b"
      }
     ],
     "next": "d9dbb7f4-6be2-11e9-96dc-02420a00000b",
     "previous": "d9dbb93e-6be2-11e9-96dc-02420a00000b"
    }
   },
   "source": [
    "sshサーバを立ち上げましたので、ポート番号 22番が開いたはずです。　\n",
    "\n",
    "!netstat -ntl　や　nmap localhost を実施すると　さっきまで開いていなかった　22番が開いたのがわかるはずです。"
   ]
  },
  {
   "cell_type": "code",
   "execution_count": null,
   "metadata": {
    "lc_cell_meme": {
     "current": "d9dbb7f4-6be2-11e9-96dc-02420a00000b",
     "history": [
      {
       "current": "d9dbb7f4-6be2-11e9-96dc-02420a00000b",
       "next": "d9dbb826-6be2-11e9-96dc-02420a00000b",
       "previous": "d9dbb7b8-6be2-11e9-96dc-02420a00000b"
      },
      {
       "current": "d9dbb7f4-6be2-11e9-96dc-02420a00000b",
       "next": "d9dbb894-6be2-11e9-96dc-02420a00000b",
       "previous": "d9dbb7b8-6be2-11e9-96dc-02420a00000b"
      },
      {
       "current": "d9dbb7f4-6be2-11e9-96dc-02420a00000b",
       "next": "d9dbb97a-6be2-11e9-96dc-02420a00000b",
       "previous": "a8df448a-a24c-11ea-bd7d-02420a010115"
      }
     ],
     "next": "d9dbb8d0-6be2-11e9-96dc-02420a00000b",
     "previous": "a8df448a-a24c-11ea-bd7d-02420a010115"
    },
    "lc_wrapper": {
     "log_history": [
      "/home/yoko69d621/textbook/nw_sec/.log/20200529/20200529-020545-0385.log",
      "/home/yoko69d621/textbook/nw_sec/.log/20200529/20200529-020907-0993.log",
      "/home/yoko69d621/textbook/nw_sec/.log/20200529/20200529-020921-0042.log",
      "/home/yoko69d621/textbook/nw_sec/.log/20200530/20200530-072247-0817.log",
      "/home/yoko69d621/textbook/nw_sec/.log/20200530/20200530-080707-0824.log",
      "/home/yoko69d621/textbook/nw_sec/.log/20200530/20200530-080835-0900.log"
     ]
    }
   },
   "outputs": [],
   "source": [
    "!netstat -ntl"
   ]
  },
  {
   "cell_type": "code",
   "execution_count": null,
   "metadata": {
    "lc_cell_meme": {
     "current": "d9dbb8d0-6be2-11e9-96dc-02420a00000b",
     "history": [
      {
       "current": "d9dbb8d0-6be2-11e9-96dc-02420a00000b",
       "next": "d9dbb90c-6be2-11e9-96dc-02420a00000b",
       "previous": "d9dbb894-6be2-11e9-96dc-02420a00000b"
      },
      {
       "current": "d9dbb8d0-6be2-11e9-96dc-02420a00000b",
       "next": "d9dbb97a-6be2-11e9-96dc-02420a00000b",
       "previous": "d9dbb7f4-6be2-11e9-96dc-02420a00000b"
      }
     ],
     "next": "5d48a81c-a2e3-11ea-bd7d-02420a010115",
     "previous": "d9dbb7f4-6be2-11e9-96dc-02420a00000b"
    },
    "lc_wrapper": {
     "log_history": [
      "/home/yoko69d621/textbook/nw_sec/.log/20200529/20200529-021159-0647.log",
      "/home/yoko69d621/textbook/nw_sec/.log/20200529/20200529-021234-0566.log",
      "/home/yoko69d621/textbook/nw_sec/.log/20200529/20200529-022215-0381.log",
      "/home/yoko69d621/textbook/nw_sec/.log/20200530/20200530-073231-0765.log",
      "/home/yoko69d621/textbook/nw_sec/.log/20200530/20200530-080924-0237.log",
      "/home/yoko69d621/textbook/nw_sec/.log/20200530/20200530-081001-0414.log"
     ]
    },
    "scrolled": true
   },
   "outputs": [],
   "source": [
    "!nmap localhost"
   ]
  },
  {
   "cell_type": "markdown",
   "metadata": {
    "lc_cell_meme": {
     "current": "5d48a81c-a2e3-11ea-bd7d-02420a010115",
     "next": "d9dbb97a-6be2-11e9-96dc-02420a00000b",
     "previous": "d9dbb8d0-6be2-11e9-96dc-02420a00000b"
    }
   },
   "source": [
    "***【実習的実験】***"
   ]
  },
  {
   "cell_type": "markdown",
   "metadata": {
    "lc_cell_meme": {
     "current": "d9dbb97a-6be2-11e9-96dc-02420a00000b",
     "history": [
      {
       "current": "d9dbb97a-6be2-11e9-96dc-02420a00000b",
       "next": "d9dbb9ac-6be2-11e9-96dc-02420a00000b",
       "previous": "d9dbb93e-6be2-11e9-96dc-02420a00000b"
      },
      {
       "current": "d9dbb97a-6be2-11e9-96dc-02420a00000b",
       "next": "d9dbb97a-6be2-11e9-96dc-02420a00000b",
       "previous": "d9dbb93e-6be2-11e9-96dc-02420a00000b"
      },
      {
       "current": "d9dbb97a-6be2-11e9-96dc-02420a00000b",
       "next": "d9dbb97a-6be2-11e9-96dc-02420a00000b",
       "previous": "a8df448a-a24c-11ea-bd7d-02420a010115"
      },
      {
       "current": "d9dbb97a-6be2-11e9-96dc-02420a00000b",
       "next": "d9dbb97a-6be2-11e9-96dc-02420a00000b",
       "previous": "d9dbb7f4-6be2-11e9-96dc-02420a00000b"
      },
      {
       "current": "d9dbb97a-6be2-11e9-96dc-02420a00000b",
       "next": "d9dbb97a-6be2-11e9-96dc-02420a00000b",
       "previous": "d9dbb8d0-6be2-11e9-96dc-02420a00000b"
      }
     ],
     "next": "d9dbb97a-6be2-11e9-96dc-02420a00000b",
     "previous": "5d48a81c-a2e3-11ea-bd7d-02420a010115"
    }
   },
   "source": [
    "**皆さんのマシンの隣にある横山のマシンにsshでログインしてみよう　（pingしたらすぐ近いことが分かりますよ）**\n",
    "\n",
    "terminal から\n",
    "\n",
    "ssh 学籍ID (小文字）@10.1.1.21　で　横山のマシン（IPアドレスが10.1.1.21）にログインしてみましょう。　ログイン名＝学籍ID (小文字）　初期パスワード＝nwsec\n",
    "\n",
    "ログインできたら即座に初期パスワードを変更しましょう。　passwdコマンドでできます。\n"
   ]
  },
  {
   "cell_type": "markdown",
   "metadata": {
    "lc_cell_meme": {
     "current": "d9dbb97a-6be2-11e9-96dc-02420a00000b",
     "history": [
      {
       "current": "d9dbb97a-6be2-11e9-96dc-02420a00000b",
       "next": "d9dbb9ac-6be2-11e9-96dc-02420a00000b",
       "previous": "d9dbb93e-6be2-11e9-96dc-02420a00000b"
      },
      {
       "current": "d9dbb97a-6be2-11e9-96dc-02420a00000b",
       "next": "d9dbb97a-6be2-11e9-96dc-02420a00000b",
       "previous": "d9dbb93e-6be2-11e9-96dc-02420a00000b"
      }
     ],
     "next": "d9dbb97a-6be2-11e9-96dc-02420a00000b",
     "previous": "d9dbb97a-6be2-11e9-96dc-02420a00000b"
    }
   },
   "source": [
    "**新しいユーザを追加しよう**\n",
    "\n",
    "terminal から\n",
    "\n",
    "sudo adduser \"ユーザ名\"　で　ユーザ追加ができる。　（逆に　deluserで削除もできる。）\n",
    "\n",
    "パスワードの設定（例えば初期パスワードとして nwsecを設定）する、まですれば後の付加情報は　入力しないでもとりあえずOK\n",
    "\n",
    "　「adduser」は新規ユーザーを作成し、設定を決めるコマンドです。\n",
    "\n",
    "https://www.atmarkit.co.jp/ait/articles/1811/08/news037.html"
   ]
  },
  {
   "cell_type": "markdown",
   "metadata": {
    "lc_cell_meme": {
     "current": "d9dbb97a-6be2-11e9-96dc-02420a00000b",
     "history": [
      {
       "current": "d9dbb97a-6be2-11e9-96dc-02420a00000b",
       "next": "d9dbb9ac-6be2-11e9-96dc-02420a00000b",
       "previous": "d9dbb93e-6be2-11e9-96dc-02420a00000b"
      },
      {
       "current": "d9dbb97a-6be2-11e9-96dc-02420a00000b",
       "next": "d9dbb9ac-6be2-11e9-96dc-02420a00000b",
       "previous": "d9dbb97a-6be2-11e9-96dc-02420a00000b"
      },
      {
       "current": "d9dbb97a-6be2-11e9-96dc-02420a00000b",
       "next": "d9dbb97a-6be2-11e9-96dc-02420a00000b",
       "previous": "d9dbb97a-6be2-11e9-96dc-02420a00000b"
      }
     ],
     "next": "a5505038-a2e3-11ea-bd7d-02420a010115",
     "previous": "d9dbb97a-6be2-11e9-96dc-02420a00000b"
    }
   },
   "source": [
    "**新しいユーザで自分のマシンにsshでログインしよう**\n",
    "\n",
    "terminal から\n",
    "\n",
    "ssh \"ユーザ名\"@localhost で　ログイン　\n",
    "\n",
    "パスワードをさっき設定したパスワード"
   ]
  },
  {
   "cell_type": "markdown",
   "metadata": {
    "lc_cell_meme": {
     "current": "a5505038-a2e3-11ea-bd7d-02420a010115",
     "next": "d9dbb97a-6be2-11e9-96dc-02420a00000b",
     "previous": "d9dbb97a-6be2-11e9-96dc-02420a00000b"
    }
   },
   "source": [
    "***【発見的実験（追加分）】***"
   ]
  },
  {
   "cell_type": "markdown",
   "metadata": {
    "lc_cell_meme": {
     "current": "d9dbb97a-6be2-11e9-96dc-02420a00000b",
     "history": [
      {
       "current": "d9dbb97a-6be2-11e9-96dc-02420a00000b",
       "next": "d9dbb9ac-6be2-11e9-96dc-02420a00000b",
       "previous": "d9dbb93e-6be2-11e9-96dc-02420a00000b"
      },
      {
       "current": "d9dbb97a-6be2-11e9-96dc-02420a00000b",
       "next": "d9dbb97a-6be2-11e9-96dc-02420a00000b",
       "previous": "d9dbb93e-6be2-11e9-96dc-02420a00000b"
      },
      {
       "current": "d9dbb97a-6be2-11e9-96dc-02420a00000b",
       "next": "d9dbb97a-6be2-11e9-96dc-02420a00000b",
       "previous": "a8df448a-a24c-11ea-bd7d-02420a010115"
      },
      {
       "current": "d9dbb97a-6be2-11e9-96dc-02420a00000b",
       "next": "d9dbb97a-6be2-11e9-96dc-02420a00000b",
       "previous": "d9dbb7f4-6be2-11e9-96dc-02420a00000b"
      },
      {
       "current": "d9dbb97a-6be2-11e9-96dc-02420a00000b",
       "next": "d9dbb97a-6be2-11e9-96dc-02420a00000b",
       "previous": "d9dbb8d0-6be2-11e9-96dc-02420a00000b"
      },
      {
       "current": "d9dbb97a-6be2-11e9-96dc-02420a00000b",
       "next": "d9dbb97a-6be2-11e9-96dc-02420a00000b",
       "previous": "5d48a81c-a2e3-11ea-bd7d-02420a010115"
      }
     ],
     "next": "a5505038-a2e3-11ea-bd7d-02420a010115",
     "previous": "a5505038-a2e3-11ea-bd7d-02420a010115"
    }
   },
   "source": [
    "**皆さんのマシンの遠く（米国Texas Advanced Computing Center）にあるマシンにsshでログインしてみよう　（pingしたらすぐ遠いことが分かりますよ）**\n",
    "\n",
    "terminal から\n",
    "\n",
    "ssh   学籍ID (小文字）@129.114.109.136　で　米国内のマシン（IPアドレスが129.114.109.136）にログインしてみましょう。　初期パスワード＝nwsec\n",
    "\n",
    "ログインできたら即座に初期パスワードを変更しましょう。　passwdコマンドでできます。\n"
   ]
  },
  {
   "cell_type": "markdown",
   "metadata": {
    "lc_cell_meme": {
     "current": "a5505038-a2e3-11ea-bd7d-02420a010115",
     "next": "d9dbb97a-6be2-11e9-96dc-02420a00000b",
     "previous": "d9dbb97a-6be2-11e9-96dc-02420a00000b"
    }
   },
   "source": [
    "***【発見的実験】***"
   ]
  },
  {
   "cell_type": "markdown",
   "metadata": {
    "lc_cell_meme": {
     "current": "d9dbb97a-6be2-11e9-96dc-02420a00000b",
     "history": [
      {
       "current": "d9dbb97a-6be2-11e9-96dc-02420a00000b",
       "next": "d9dbb9ac-6be2-11e9-96dc-02420a00000b",
       "previous": "d9dbb93e-6be2-11e9-96dc-02420a00000b"
      },
      {
       "current": "d9dbb97a-6be2-11e9-96dc-02420a00000b",
       "next": "d9dbb9ac-6be2-11e9-96dc-02420a00000b",
       "previous": "d9dbb97a-6be2-11e9-96dc-02420a00000b"
      }
     ],
     "next": "d9dbb9ac-6be2-11e9-96dc-02420a00000b",
     "previous": "a5505038-a2e3-11ea-bd7d-02420a010115"
    }
   },
   "source": [
    "**同じグループになった人のマシンに自分が使えるユーザを作ってもらって、その人のマシンにsshでログインしよう**\n",
    "\n",
    "ssh \"作ってもらったユーザ名\"@\"その近くの人のマシンのIPアドレス\" で　ログイン　\n",
    "\n",
    "マシンのIPアドレスは ip addr というコマンドなどで分かるはず　https://etherpad.opendev.org/p/2020-nw-sec-ac　に書いているはず。\n",
    "\n",
    "これが見事出来たら、そこに作ってもらったユーザ名とログインした先のアドレスとを次のCELLに入力してください。\n",
    "\n",
    "whoコマンドで自分のマシンに今ログインしている人の一覧が見えるはず。"
   ]
  },
  {
   "cell_type": "code",
   "execution_count": null,
   "metadata": {
    "lc_cell_meme": {
     "current": "d9dbb9ac-6be2-11e9-96dc-02420a00000b",
     "history": [
      {
       "current": "d9dbb9ac-6be2-11e9-96dc-02420a00000b",
       "next": null,
       "previous": "d9dbb97a-6be2-11e9-96dc-02420a00000b"
      }
     ],
     "next": "d9dbb9ac-6be2-11e9-96dc-02420a00000b",
     "previous": "d9dbb97a-6be2-11e9-96dc-02420a00000b"
    },
    "scrolled": true
   },
   "outputs": [],
   "source": [
    "ANSWER_1 = input(\"PROBLEM_1= ユーザ名？\")\n",
    "print(\"ANSWER_1 ==\", ANSWER_1)"
   ]
  },
  {
   "cell_type": "code",
   "execution_count": null,
   "metadata": {
    "lc_cell_meme": {
     "current": "d9dbb9ac-6be2-11e9-96dc-02420a00000b",
     "history": [
      {
       "current": "d9dbb9ac-6be2-11e9-96dc-02420a00000b",
       "next": null,
       "previous": "d9dbb97a-6be2-11e9-96dc-02420a00000b"
      }
     ],
     "next": null,
     "previous": "d9dbb9ac-6be2-11e9-96dc-02420a00000b"
    },
    "scrolled": true
   },
   "outputs": [],
   "source": [
    "ANSWER_2 = input(\"PROBLEM_2= IPアドレス？\")\n",
    "print(\"ANSWER_2 ==\", ANSWER_2)"
   ]
  }
 ],
 "metadata": {
  "kernelspec": {
   "display_name": "Python 3",
   "language": "python",
   "name": "python3"
  },
  "language_info": {
   "file_extension": ".py",
   "mimetype": "text/x-python",
   "name": "python",
   "nbconvert_exporter": "python",
   "pygments_lexer": "ipython3",
   "version": "3.7.3"
  },
  "lc_notebook_meme": {
   "current": "d9dbb4de-6be2-11e9-96dc-02420a00000b",
   "lc_server_signature": {
    "current": {
     "notebook_dir": "/home/yoko69d621",
     "notebook_path": "/textbook/nw_sec",
     "server_url": "https://nb03.ecloud.nii.ac.jp/user/yoko69d621/",
     "signature_id": "5e786c6e-5fea-11e9-b810-02420a00005a"
    },
    "history": []
   }
  },
  "toc": {
   "base_numbering": 1,
   "nav_menu": {},
   "number_sections": true,
   "sideBar": true,
   "skip_h1_title": false,
   "title_cell": "Table of Contents",
   "title_sidebar": "Contents",
   "toc_cell": false,
   "toc_position": {},
   "toc_section_display": true,
   "toc_window_display": false
  }
 },
 "nbformat": 4,
 "nbformat_minor": 2
}
