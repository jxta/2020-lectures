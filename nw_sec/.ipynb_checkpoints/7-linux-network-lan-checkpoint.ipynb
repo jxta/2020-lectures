{
 "cells": [
  {
   "cell_type": "markdown",
   "metadata": {
    "lc_cell_meme": {
     "current": "c86c22a2-81a8-11e9-8556-02420a010127",
     "next": "c86c231a-81a8-11e9-8556-02420a010127",
     "previous": null
    }
   },
   "source": [
    "**tcpdumpコマンドをインストールして、 tcpdumpコマンドをたたいてみよう**\n",
    "\n",
    "https://ja.wikipedia.org/wiki/Tcpdump"
   ]
  },
  {
   "cell_type": "markdown",
   "metadata": {
    "lc_cell_meme": {
     "current": "c86c231a-81a8-11e9-8556-02420a010127",
     "next": "c86c2360-81a8-11e9-8556-02420a010127",
     "previous": "c86c22a2-81a8-11e9-8556-02420a010127"
    }
   },
   "source": [
    "**tcpdumpのインストール**"
   ]
  },
  {
   "cell_type": "code",
   "execution_count": null,
   "metadata": {
    "lc_cell_meme": {
     "current": "c86c2360-81a8-11e9-8556-02420a010127",
     "history": [
      {
       "current": "c86c2360-81a8-11e9-8556-02420a010127",
       "next": "c86c2392-81a8-11e9-8556-02420a010127",
       "previous": "c86c231a-81a8-11e9-8556-02420a010127"
      },
      {
       "current": "c86c2360-81a8-11e9-8556-02420a010127",
       "next": "8fb51cd2-81b4-11e9-8556-02420a010127",
       "previous": "c86c231a-81a8-11e9-8556-02420a010127"
      }
     ],
     "next": "525fdb64-81b5-11e9-8556-02420a010127",
     "previous": "c86c231a-81a8-11e9-8556-02420a010127"
    }
   },
   "outputs": [],
   "source": [
    "!sudo apt-get update;sudo apt-get install tcpdump -y"
   ]
  },
  {
   "cell_type": "markdown",
   "metadata": {
    "lc_cell_meme": {
     "current": "525fdb64-81b5-11e9-8556-02420a010127",
     "next": "8fb51cd2-81b4-11e9-8556-02420a010127",
     "previous": "c86c2360-81a8-11e9-8556-02420a010127"
    }
   },
   "source": [
    "**ネットワークの設定を確認してみましょう**"
   ]
  },
  {
   "cell_type": "code",
   "execution_count": null,
   "metadata": {
    "lc_cell_meme": {
     "current": "8fb51cd2-81b4-11e9-8556-02420a010127",
     "history": [
      {
       "current": "8fb51cd2-81b4-11e9-8556-02420a010127",
       "next": "c86c2392-81a8-11e9-8556-02420a010127",
       "previous": "c86c2360-81a8-11e9-8556-02420a010127"
      }
     ],
     "next": "c86c2392-81a8-11e9-8556-02420a010127",
     "previous": "525fdb64-81b5-11e9-8556-02420a010127"
    }
   },
   "outputs": [],
   "source": [
    "!ip addr"
   ]
  },
  {
   "cell_type": "markdown",
   "metadata": {
    "lc_cell_meme": {
     "current": "c86c2392-81a8-11e9-8556-02420a010127",
     "history": [
      {
       "current": "c86c2392-81a8-11e9-8556-02420a010127",
       "next": "c86c23c4-81a8-11e9-8556-02420a010127",
       "previous": "c86c2360-81a8-11e9-8556-02420a010127"
      }
     ],
     "next": "c86c23c4-81a8-11e9-8556-02420a010127",
     "previous": "8fb51cd2-81b4-11e9-8556-02420a010127"
    }
   },
   "source": [
    "**tcpdump で　30パケット分だけ　packet dump**\n",
    "\n",
    "**30パケット発生させるために　別にterminal を開いて　ping 8.8.8.8 , curl などとたたいて　packetを発生させてみよう。**\n",
    "\n",
    "**-i eth1 指定は　外部ネットワークに繋がっているインタフェースを指定**"
   ]
  },
  {
   "cell_type": "code",
   "execution_count": null,
   "metadata": {
    "lc_cell_meme": {
     "current": "c86c23c4-81a8-11e9-8556-02420a010127",
     "history": [
      {
       "current": "c86c23c4-81a8-11e9-8556-02420a010127",
       "next": "c86c23f6-81a8-11e9-8556-02420a010127",
       "previous": "c86c2392-81a8-11e9-8556-02420a010127"
      },
      {
       "current": "c86c23c4-81a8-11e9-8556-02420a010127",
       "next": "c86c2450-81a8-11e9-8556-02420a010127",
       "previous": "c86c2392-81a8-11e9-8556-02420a010127"
      }
     ],
     "next": "c86c24b4-81a8-11e9-8556-02420a010127",
     "previous": "c86c2392-81a8-11e9-8556-02420a010127"
    }
   },
   "outputs": [],
   "source": [
    "!sudo tcpdump  -i eth1 -c  30"
   ]
  },
  {
   "cell_type": "markdown",
   "metadata": {
    "lc_cell_meme": {
     "current": "c86c24b4-81a8-11e9-8556-02420a010127",
     "history": [
      {
       "current": "c86c24b4-81a8-11e9-8556-02420a010127",
       "next": "c86c24e6-81a8-11e9-8556-02420a010127",
       "previous": "c86c248c-81a8-11e9-8556-02420a010127"
      }
     ],
     "next": "c86c24e6-81a8-11e9-8556-02420a010127",
     "previous": "c86c23c4-81a8-11e9-8556-02420a010127"
    }
   },
   "source": [
    "**port 80のoutboundパケットに注目してみよう。**"
   ]
  },
  {
   "cell_type": "code",
   "execution_count": null,
   "metadata": {
    "lc_cell_meme": {
     "current": "c86c24e6-81a8-11e9-8556-02420a010127",
     "history": [
      {
       "current": "c86c24e6-81a8-11e9-8556-02420a010127",
       "next": null,
       "previous": "c86c24b4-81a8-11e9-8556-02420a010127"
      },
      {
       "current": "c86c24e6-81a8-11e9-8556-02420a010127",
       "next": "75910a28-81aa-11e9-8556-02420a010127",
       "previous": "c86c24b4-81a8-11e9-8556-02420a010127"
      }
     ],
     "next": "c86c24b4-81a8-11e9-8556-02420a010127",
     "previous": "c86c24b4-81a8-11e9-8556-02420a010127"
    }
   },
   "outputs": [],
   "source": [
    "!sudo tcpdump  dst port 80  -i eth1 -c 30"
   ]
  },
  {
   "cell_type": "markdown",
   "metadata": {
    "lc_cell_meme": {
     "current": "c86c24b4-81a8-11e9-8556-02420a010127",
     "history": [
      {
       "current": "c86c24b4-81a8-11e9-8556-02420a010127",
       "next": "c86c24e6-81a8-11e9-8556-02420a010127",
       "previous": "c86c248c-81a8-11e9-8556-02420a010127"
      },
      {
       "current": "c86c24b4-81a8-11e9-8556-02420a010127",
       "next": "c86c24e6-81a8-11e9-8556-02420a010127",
       "previous": "c86c23c4-81a8-11e9-8556-02420a010127"
      }
     ],
     "next": "75910a28-81aa-11e9-8556-02420a010127",
     "previous": "c86c24e6-81a8-11e9-8556-02420a010127"
    }
   },
   "source": [
    "**宛先が8.8.8.8のoutboundパケットに注目してみよう。**"
   ]
  },
  {
   "cell_type": "code",
   "execution_count": null,
   "metadata": {
    "lc_cell_meme": {
     "current": "75910a28-81aa-11e9-8556-02420a010127",
     "history": [
      {
       "current": "75910a28-81aa-11e9-8556-02420a010127",
       "next": null,
       "previous": "c86c24e6-81a8-11e9-8556-02420a010127"
      },
      {
       "current": "75910a28-81aa-11e9-8556-02420a010127",
       "next": null,
       "previous": "c86c24b4-81a8-11e9-8556-02420a010127"
      }
     ],
     "next": "1e84b320-81b8-11e9-8556-02420a010127",
     "previous": "c86c24b4-81a8-11e9-8556-02420a010127"
    }
   },
   "outputs": [],
   "source": [
    "!sudo tcpdump dst host 8.8.8.8 -i eth1  -c 30"
   ]
  },
  {
   "cell_type": "markdown",
   "metadata": {
    "lc_cell_meme": {
     "current": "1e84b320-81b8-11e9-8556-02420a010127",
     "history": [
      {
       "current": "1e84b320-81b8-11e9-8556-02420a010127",
       "next": "1e84b4ba-81b8-11e9-8556-02420a010127",
       "previous": "75910a28-81aa-11e9-8556-02420a010127"
      }
     ],
     "next": "ad8ef47c-81b8-11e9-8556-02420a010127",
     "previous": "75910a28-81aa-11e9-8556-02420a010127"
    }
   },
   "source": [
    "**簡単な例題を二つやってみましょう**\n",
    "\n",
    "**www.gunma-u.ac.jp へのoutboundパケットに注目してみよう。**"
   ]
  },
  {
   "cell_type": "code",
   "execution_count": null,
   "metadata": {
    "lc_cell_meme": {
     "current": "ad8ef47c-81b8-11e9-8556-02420a010127",
     "next": "1e84b4ba-81b8-11e9-8556-02420a010127",
     "previous": "1e84b320-81b8-11e9-8556-02420a010127"
    }
   },
   "outputs": [],
   "source": [
    "!tcpdump ?????"
   ]
  },
  {
   "cell_type": "code",
   "execution_count": null,
   "metadata": {
    "lc_cell_meme": {
     "current": "1e84b4ba-81b8-11e9-8556-02420a010127",
     "history": [
      {
       "current": "1e84b4ba-81b8-11e9-8556-02420a010127",
       "next": null,
       "previous": "1e84b320-81b8-11e9-8556-02420a010127"
      },
      {
       "current": "1e84b4ba-81b8-11e9-8556-02420a010127",
       "next": null,
       "previous": "ad8ef47c-81b8-11e9-8556-02420a010127"
      }
     ],
     "next": "1e84b320-81b8-11e9-8556-02420a010127",
     "previous": "ad8ef47c-81b8-11e9-8556-02420a010127"
    }
   },
   "outputs": [],
   "source": [
    "ANSWER_1 = input(\"PROBLEM_1 =　　tcpdumpコマンド: \") \n",
    "print(\"ANSWER_1 ==\", ANSWER_1)"
   ]
  },
  {
   "cell_type": "markdown",
   "metadata": {
    "lc_cell_meme": {
     "current": "1e84b320-81b8-11e9-8556-02420a010127",
     "history": [
      {
       "current": "1e84b320-81b8-11e9-8556-02420a010127",
       "next": "1e84b4ba-81b8-11e9-8556-02420a010127",
       "previous": "75910a28-81aa-11e9-8556-02420a010127"
      },
      {
       "current": "1e84b320-81b8-11e9-8556-02420a010127",
       "next": "ad8ef47c-81b8-11e9-8556-02420a010127",
       "previous": "75910a28-81aa-11e9-8556-02420a010127"
      }
     ],
     "next": "f29d078e-81b8-11e9-8556-02420a010127",
     "previous": "1e84b4ba-81b8-11e9-8556-02420a010127"
    }
   },
   "source": [
    "**もう一つ例題をやってみましょう**\n",
    "\n",
    "**ARPパケットに注目してみよう。**"
   ]
  },
  {
   "cell_type": "code",
   "execution_count": null,
   "metadata": {
    "lc_cell_meme": {
     "current": "f29d078e-81b8-11e9-8556-02420a010127",
     "next": null,
     "previous": "1e84b320-81b8-11e9-8556-02420a010127"
    }
   },
   "outputs": [],
   "source": [
    "ANSWER_2 = input(\"PROBLEM_2= 　tcpdumpコマンド: \")\n",
    "print(\"ANSWER_2 ==\", ANSWER_2)"
   ]
  }
 ],
 "metadata": {
  "kernelspec": {
   "display_name": "Python 3",
   "language": "python",
   "name": "python3"
  },
  "language_info": {
   "codemirror_mode": {
    "name": "ipython",
    "version": 3
   },
   "file_extension": ".py",
   "mimetype": "text/x-python",
   "name": "python",
   "nbconvert_exporter": "python",
   "pygments_lexer": "ipython3",
   "version": "3.7.3"
  },
  "lc_notebook_meme": {
   "current": "c86c1cda-81a8-11e9-8556-02420a010127",
   "lc_server_signature": {
    "current": {
     "notebook_dir": "/home/yoko69d621",
     "notebook_path": "/textbook/nw_sec",
     "server_url": "https://nb03.ecloud.nii.ac.jp/user/yoko69d621/",
     "signature_id": "5e786c6e-5fea-11e9-b810-02420a00005a"
    },
    "history": []
   }
  }
 },
 "nbformat": 4,
 "nbformat_minor": 2
}
