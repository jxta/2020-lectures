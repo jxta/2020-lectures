{
 "cells": [
  {
   "cell_type": "markdown",
   "metadata": {
    "lc_cell_meme": {
     "current": "1cadfac4-8736-11e9-8556-02420a010127",
     "history": [
      {
       "current": "1cadfac4-8736-11e9-8556-02420a010127",
       "next": "1cadfb3c-8736-11e9-8556-02420a010127",
       "previous": null
      }
     ],
     "next": "1cadfac4-8736-11e9-8556-02420a010127",
     "previous": null
    }
   },
   "source": [
    "**<実習的実験>**"
   ]
  },
  {
   "cell_type": "markdown",
   "metadata": {
    "lc_cell_meme": {
     "current": "1cadfac4-8736-11e9-8556-02420a010127",
     "history": [
      {
       "current": "1cadfac4-8736-11e9-8556-02420a010127",
       "next": "1cadfb3c-8736-11e9-8556-02420a010127",
       "previous": null
      }
     ],
     "next": "1cadfb3c-8736-11e9-8556-02420a010127",
     "previous": "1cadfac4-8736-11e9-8556-02420a010127"
    }
   },
   "source": [
    "**インターネット内のAS番号を見てみよう**  \n",
    "https://www.nic.ad.jp/ja/ip/as-numbers.txt を取得"
   ]
  },
  {
   "cell_type": "code",
   "execution_count": null,
   "metadata": {
    "lc_cell_meme": {
     "current": "1cadfb3c-8736-11e9-8556-02420a010127",
     "next": "1cadfb78-8736-11e9-8556-02420a010127",
     "previous": "1cadfac4-8736-11e9-8556-02420a010127"
    },
    "lc_wrapper": {
     "log_history": [
      "/home/yoko69d621/textbook/nw_sec/.log/20200622/20200622-005543-0928.log"
     ]
    }
   },
   "outputs": [],
   "source": [
    "!curl https://www.nic.ad.jp/ja/ip/as-numbers.txt"
   ]
  },
  {
   "cell_type": "markdown",
   "metadata": {
    "lc_cell_meme": {
     "current": "1cadfb78-8736-11e9-8556-02420a010127",
     "next": "1cadfbaa-8736-11e9-8556-02420a010127",
     "previous": "1cadfb3c-8736-11e9-8556-02420a010127"
    }
   },
   "source": [
    "**whoisコマンドをインストール**\n",
    "\n",
    "https://ja.wikipedia.org/wiki/WHOIS"
   ]
  },
  {
   "cell_type": "code",
   "execution_count": null,
   "metadata": {
    "lc_cell_meme": {
     "current": "1cadfbaa-8736-11e9-8556-02420a010127",
     "next": "1cadfbdc-8736-11e9-8556-02420a010127",
     "previous": "1cadfb78-8736-11e9-8556-02420a010127"
    },
    "lc_wrapper": {
     "log_history": [
      "/home/yoko69d621/textbook/nw_sec/.log/20200622/20200622-005655-0905.log"
     ]
    }
   },
   "outputs": [],
   "source": [
    "!sudo apt-get update"
   ]
  },
  {
   "cell_type": "markdown",
   "metadata": {
    "lc_cell_meme": {
     "current": "1cadfbdc-8736-11e9-8556-02420a010127",
     "next": "1cadfc0e-8736-11e9-8556-02420a010127",
     "previous": "1cadfbaa-8736-11e9-8556-02420a010127"
    }
   },
   "source": [
    "**whoisコマンドとその実行に必要な環境のインストール**"
   ]
  },
  {
   "cell_type": "code",
   "execution_count": null,
   "metadata": {
    "lc_cell_meme": {
     "current": "1cadfc0e-8736-11e9-8556-02420a010127",
     "next": "1cadfc40-8736-11e9-8556-02420a010127",
     "previous": "1cadfbdc-8736-11e9-8556-02420a010127"
    },
    "lc_wrapper": {
     "log_history": [
      "/home/yoko69d621/textbook/nw_sec/.log/20200622/20200622-005704-0305.log"
     ]
    }
   },
   "outputs": [],
   "source": [
    "!sudo apt-get install netbase -y"
   ]
  },
  {
   "cell_type": "code",
   "execution_count": null,
   "metadata": {
    "lc_cell_meme": {
     "current": "1cadfc40-8736-11e9-8556-02420a010127",
     "next": "1cadfc72-8736-11e9-8556-02420a010127",
     "previous": "1cadfc0e-8736-11e9-8556-02420a010127"
    },
    "lc_wrapper": {
     "log_history": [
      "/home/yoko69d621/textbook/nw_sec/.log/20200622/20200622-005711-0842.log"
     ]
    }
   },
   "outputs": [],
   "source": [
    "!sudo apt-get install whois -y"
   ]
  },
  {
   "cell_type": "markdown",
   "metadata": {
    "lc_cell_meme": {
     "current": "1cadfc72-8736-11e9-8556-02420a010127",
     "next": "1cadfca4-8736-11e9-8556-02420a010127",
     "previous": "1cadfc40-8736-11e9-8556-02420a010127"
    }
   },
   "source": [
    "**whoisコマンドの利用**"
   ]
  },
  {
   "cell_type": "code",
   "execution_count": null,
   "metadata": {
    "lc_cell_meme": {
     "current": "1cadfca4-8736-11e9-8556-02420a010127",
     "next": "1cadfcd6-8736-11e9-8556-02420a010127",
     "previous": "1cadfc72-8736-11e9-8556-02420a010127"
    },
    "lc_wrapper": {
     "log_history": [
      "/home/yoko69d621/textbook/nw_sec/.log/20200622/20200622-005735-0484.log"
     ]
    }
   },
   "outputs": [],
   "source": [
    "!whois -h whois.nic.ad.jp AS 2907"
   ]
  },
  {
   "cell_type": "code",
   "execution_count": null,
   "metadata": {
    "lc_cell_meme": {
     "current": "1cadfcd6-8736-11e9-8556-02420a010127",
     "next": "1cadfcfe-8736-11e9-8556-02420a010127",
     "previous": "1cadfca4-8736-11e9-8556-02420a010127"
    },
    "lc_wrapper": {
     "log_history": [
      "/home/yoko69d621/textbook/nw_sec/.log/20200622/20200622-005748-0002.log"
     ]
    },
    "scrolled": true
   },
   "outputs": [],
   "source": [
    "!whois -h whois.jprs.jp gunma-u.ac.jp"
   ]
  },
  {
   "cell_type": "code",
   "execution_count": null,
   "metadata": {
    "lc_cell_meme": {
     "current": "1cadfcfe-8736-11e9-8556-02420a010127",
     "history": [
      {
       "current": "1cadfcfe-8736-11e9-8556-02420a010127",
       "next": "1cadfd30-8736-11e9-8556-02420a010127",
       "previous": "1cadfcd6-8736-11e9-8556-02420a010127"
      }
     ],
     "next": "1cadfac4-8736-11e9-8556-02420a010127",
     "previous": "1cadfcd6-8736-11e9-8556-02420a010127"
    },
    "lc_wrapper": {
     "log_history": [
      "/home/yoko69d621/textbook/nw_sec/.log/20200622/20200622-005913-0928.log"
     ]
    },
    "scrolled": true
   },
   "outputs": [],
   "source": [
    "!whois -h whois.nic.ad.jp 157.1.207.3"
   ]
  },
  {
   "cell_type": "markdown",
   "metadata": {
    "lc_cell_meme": {
     "current": "1cadfac4-8736-11e9-8556-02420a010127",
     "history": [
      {
       "current": "1cadfac4-8736-11e9-8556-02420a010127",
       "next": "1cadfb3c-8736-11e9-8556-02420a010127",
       "previous": null
      },
      {
       "current": "1cadfac4-8736-11e9-8556-02420a010127",
       "next": "1cadfac4-8736-11e9-8556-02420a010127",
       "previous": null
      }
     ],
     "next": "1cadfd30-8736-11e9-8556-02420a010127",
     "previous": "1cadfcfe-8736-11e9-8556-02420a010127"
    }
   },
   "source": [
    "**<発見的実験>**"
   ]
  },
  {
   "cell_type": "markdown",
   "metadata": {
    "lc_cell_meme": {
     "current": "1cadfd30-8736-11e9-8556-02420a010127",
     "history": [
      {
       "current": "1cadfd30-8736-11e9-8556-02420a010127",
       "next": "1cadfd62-8736-11e9-8556-02420a010127",
       "previous": "1cadfcfe-8736-11e9-8556-02420a010127"
      }
     ],
     "next": "1cadfd62-8736-11e9-8556-02420a010127",
     "previous": "1cadfac4-8736-11e9-8556-02420a010127"
    }
   },
   "source": [
    "**では簡単な設問に回答して理解度チェック**"
   ]
  },
  {
   "cell_type": "code",
   "execution_count": null,
   "metadata": {
    "lc_cell_meme": {
     "current": "1cadfd62-8736-11e9-8556-02420a010127",
     "history": [
      {
       "current": "1cadfd62-8736-11e9-8556-02420a010127",
       "next": "1cadfd8a-8736-11e9-8556-02420a010127",
       "previous": "1cadfd30-8736-11e9-8556-02420a010127"
      }
     ],
     "next": "1661cdf0-b424-11ea-bd7d-02420a010115",
     "previous": "1cadfd30-8736-11e9-8556-02420a010127"
    }
   },
   "outputs": [],
   "source": [
    "# 自動的に回答をsaveする設定\n",
    "%autosave 10"
   ]
  },
  {
   "cell_type": "markdown",
   "metadata": {
    "lc_cell_meme": {
     "current": "1661cdf0-b424-11ea-bd7d-02420a010115",
     "history": [
      {
       "current": "1661cdf0-b424-11ea-bd7d-02420a010115",
       "next": "1cadfdbc-8736-11e9-8556-02420a010127",
       "previous": "1cadfd8a-8736-11e9-8556-02420a010127"
      }
     ],
     "next": "1cadfd8a-8736-11e9-8556-02420a010127",
     "previous": "1cadfd62-8736-11e9-8556-02420a010127"
    }
   },
   "source": [
    "**群馬大学が属しているASのAS番号は何番でしょう**\n",
    "\n",
    "**Gunet2016のネットワーク構成から想像してみてください**"
   ]
  },
  {
   "cell_type": "code",
   "execution_count": null,
   "metadata": {
    "lc_cell_meme": {
     "current": "1cadfd8a-8736-11e9-8556-02420a010127",
     "history": [
      {
       "current": "1cadfd8a-8736-11e9-8556-02420a010127",
       "next": "1cadfdbc-8736-11e9-8556-02420a010127",
       "previous": "1cadfd62-8736-11e9-8556-02420a010127"
      },
      {
       "current": "1cadfd8a-8736-11e9-8556-02420a010127",
       "next": "1661cdf0-b424-11ea-bd7d-02420a010115",
       "previous": "1cadfd62-8736-11e9-8556-02420a010127"
      }
     ],
     "next": "1661cdf0-b424-11ea-bd7d-02420a010115",
     "previous": "1661cdf0-b424-11ea-bd7d-02420a010115"
    }
   },
   "outputs": [],
   "source": [
    "ANSWER_1 = input(\"PROBLEM_1= 群馬大学が属しているASのAS番号は何番でしょう？\")\n",
    "print(\"ANSWER_1 ==\", ANSWER_1)"
   ]
  },
  {
   "cell_type": "markdown",
   "metadata": {
    "lc_cell_meme": {
     "current": "1661cdf0-b424-11ea-bd7d-02420a010115",
     "next": "1cadfdbc-8736-11e9-8556-02420a010127",
     "previous": "1cadfd8a-8736-11e9-8556-02420a010127"
    }
   },
   "source": [
    "**https://nb03.ecloud.nii.ac.jp/ にアクセスしていますけれど、このホストnb03.ecloud.nii.acのIPアドレスを調べてみましょう**\n",
    "\n",
    "**そして、そのIPアドレスの管理組織がどこかをOrganizationで、回答してください**"
   ]
  },
  {
   "cell_type": "code",
   "execution_count": null,
   "metadata": {
    "lc_cell_meme": {
     "current": "1cadfdbc-8736-11e9-8556-02420a010127",
     "history": [
      {
       "current": "1cadfdbc-8736-11e9-8556-02420a010127",
       "next": null,
       "previous": "1cadfd8a-8736-11e9-8556-02420a010127"
      },
      {
       "current": "1cadfdbc-8736-11e9-8556-02420a010127",
       "next": null,
       "previous": "1661cdf0-b424-11ea-bd7d-02420a010115"
      }
     ],
     "next": "1cadfac4-8736-11e9-8556-02420a010127",
     "previous": "1661cdf0-b424-11ea-bd7d-02420a010115"
    }
   },
   "outputs": [],
   "source": [
    "ANSWER_2 = input(\"PROBLEM_2= ホスト　nb03.ecloud.nii.acの管理組織はどこでしょう？　Organizationを回答してください。\")\n",
    "print(\"ANSWER_2 ==\", ANSWER_2)"
   ]
  },
  {
   "cell_type": "markdown",
   "metadata": {
    "lc_cell_meme": {
     "current": "1cadfac4-8736-11e9-8556-02420a010127",
     "history": [
      {
       "current": "1cadfac4-8736-11e9-8556-02420a010127",
       "next": "1cadfb3c-8736-11e9-8556-02420a010127",
       "previous": null
      },
      {
       "current": "1cadfac4-8736-11e9-8556-02420a010127",
       "next": "1cadfac4-8736-11e9-8556-02420a010127",
       "previous": null
      },
      {
       "current": "1cadfac4-8736-11e9-8556-02420a010127",
       "next": null,
       "previous": "1cadfdbc-8736-11e9-8556-02420a010127"
      }
     ],
     "next": "1661cdf0-b424-11ea-bd7d-02420a010115",
     "previous": "1cadfdbc-8736-11e9-8556-02420a010127"
    }
   },
   "source": [
    "**<検証的実験>**"
   ]
  },
  {
   "cell_type": "markdown",
   "metadata": {
    "lc_cell_meme": {
     "current": "1661cdf0-b424-11ea-bd7d-02420a010115",
     "history": [
      {
       "current": "1661cdf0-b424-11ea-bd7d-02420a010115",
       "next": "1cadfdbc-8736-11e9-8556-02420a010127",
       "previous": "1cadfd8a-8736-11e9-8556-02420a010127"
      },
      {
       "current": "1661cdf0-b424-11ea-bd7d-02420a010115",
       "next": "1cadfd8a-8736-11e9-8556-02420a010127",
       "previous": "1cadfd62-8736-11e9-8556-02420a010127"
      }
     ],
     "next": null,
     "previous": "1cadfac4-8736-11e9-8556-02420a010127"
    }
   },
   "source": [
    "**自分の端末がつながっているISPについて調べてみましょう**\n",
    "\n",
    "**まず今自分の端末に割り当てられているグローバルIPアドレスを確認してみてください**\n",
    "\n",
    "**そしてそのIPアドレスの管理組織を調べてみてください**"
   ]
  }
 ],
 "metadata": {
  "kernelspec": {
   "display_name": "Python 3",
   "language": "python",
   "name": "python3"
  },
  "language_info": {
   "file_extension": ".py",
   "mimetype": "text/x-python",
   "name": "python",
   "nbconvert_exporter": "python",
   "pygments_lexer": "ipython3",
   "version": "3.7.3"
  },
  "lc_notebook_meme": {
   "current": "1cadf7d6-8736-11e9-8556-02420a010127",
   "lc_server_signature": {
    "current": {
     "notebook_dir": "/home/yoko69d621",
     "notebook_path": "/textbook/nw_sec",
     "server_url": "https://nb03.ecloud.nii.ac.jp/user/yoko69d621/",
     "signature_id": "5e786c6e-5fea-11e9-b810-02420a00005a"
    },
    "history": []
   }
  },
  "toc": {
   "base_numbering": 1,
   "nav_menu": {},
   "number_sections": true,
   "sideBar": true,
   "skip_h1_title": false,
   "title_cell": "Table of Contents",
   "title_sidebar": "Contents",
   "toc_cell": false,
   "toc_position": {},
   "toc_section_display": true,
   "toc_window_display": false
  }
 },
 "nbformat": 4,
 "nbformat_minor": 2
}
