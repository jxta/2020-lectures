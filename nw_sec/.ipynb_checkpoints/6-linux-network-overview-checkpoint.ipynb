{
 "cells": [
  {
   "cell_type": "markdown",
   "metadata": {
    "lc_cell_meme": {
     "current": "2057f082-a53d-11ea-bd7d-02420a010115",
     "next": "49ad1fe8-76e5-11e9-96dc-02420a00000b",
     "previous": null
    }
   },
   "source": [
    "***---実習的実験---***"
   ]
  },
  {
   "cell_type": "markdown",
   "metadata": {
    "lc_cell_meme": {
     "current": "49ad1fe8-76e5-11e9-96dc-02420a00000b",
     "history": [
      {
       "current": "49ad1fe8-76e5-11e9-96dc-02420a00000b",
       "next": "49ad2056-76e5-11e9-96dc-02420a00000b",
       "previous": null
      },
      {
       "current": "49ad1fe8-76e5-11e9-96dc-02420a00000b",
       "next": "ac2f290e-76ea-11e9-96dc-02420a00000b",
       "previous": null
      },
      {
       "current": "49ad1fe8-76e5-11e9-96dc-02420a00000b",
       "next": "49ad2056-76e5-11e9-96dc-02420a00000b",
       "previous": null
      }
     ],
     "next": "49ad2056-76e5-11e9-96dc-02420a00000b",
     "previous": "2057f082-a53d-11ea-bd7d-02420a010115"
    }
   },
   "source": [
    "**ipコマンドをたたいてみよう**"
   ]
  },
  {
   "cell_type": "code",
   "execution_count": null,
   "metadata": {
    "lc_cell_meme": {
     "current": "49ad2056-76e5-11e9-96dc-02420a00000b",
     "history": [
      {
       "current": "49ad2056-76e5-11e9-96dc-02420a00000b",
       "next": "49ad209c-76e5-11e9-96dc-02420a00000b",
       "previous": "49ad1fe8-76e5-11e9-96dc-02420a00000b"
      },
      {
       "current": "49ad2056-76e5-11e9-96dc-02420a00000b",
       "next": "49ad209c-76e5-11e9-96dc-02420a00000b",
       "previous": "ac2f290e-76ea-11e9-96dc-02420a00000b"
      }
     ],
     "next": "49ad209c-76e5-11e9-96dc-02420a00000b",
     "previous": "49ad1fe8-76e5-11e9-96dc-02420a00000b"
    }
   },
   "outputs": [],
   "source": [
    "!ip addr"
   ]
  },
  {
   "cell_type": "code",
   "execution_count": null,
   "metadata": {
    "lc_cell_meme": {
     "current": "49ad209c-76e5-11e9-96dc-02420a00000b",
     "next": "49ad20ce-76e5-11e9-96dc-02420a00000b",
     "previous": "49ad2056-76e5-11e9-96dc-02420a00000b"
    }
   },
   "outputs": [],
   "source": [
    "!ip route"
   ]
  },
  {
   "cell_type": "markdown",
   "metadata": {
    "lc_cell_meme": {
     "current": "49ad20ce-76e5-11e9-96dc-02420a00000b",
     "next": "49ad210a-76e5-11e9-96dc-02420a00000b",
     "previous": "49ad209c-76e5-11e9-96dc-02420a00000b"
    }
   },
   "source": [
    "**ipコマンド の機能を見てみよう**"
   ]
  },
  {
   "cell_type": "code",
   "execution_count": null,
   "metadata": {
    "lc_cell_meme": {
     "current": "49ad210a-76e5-11e9-96dc-02420a00000b",
     "next": "49ad213c-76e5-11e9-96dc-02420a00000b",
     "previous": "49ad20ce-76e5-11e9-96dc-02420a00000b"
    }
   },
   "outputs": [],
   "source": [
    "!ip --help; true"
   ]
  },
  {
   "cell_type": "markdown",
   "metadata": {
    "lc_cell_meme": {
     "current": "49ad213c-76e5-11e9-96dc-02420a00000b",
     "next": "49ad216e-76e5-11e9-96dc-02420a00000b",
     "previous": "49ad210a-76e5-11e9-96dc-02420a00000b"
    }
   },
   "source": [
    "**pingコマンド をたたいてみよう**"
   ]
  },
  {
   "cell_type": "code",
   "execution_count": null,
   "metadata": {
    "lc_cell_meme": {
     "current": "49ad216e-76e5-11e9-96dc-02420a00000b",
     "next": "49ad21aa-76e5-11e9-96dc-02420a00000b",
     "previous": "49ad213c-76e5-11e9-96dc-02420a00000b"
    },
    "scrolled": true
   },
   "outputs": [],
   "source": [
    "!ping 8.8.8.8 -c 5"
   ]
  },
  {
   "cell_type": "markdown",
   "metadata": {
    "lc_cell_meme": {
     "current": "49ad21aa-76e5-11e9-96dc-02420a00000b",
     "next": "49ad21dc-76e5-11e9-96dc-02420a00000b",
     "previous": "49ad216e-76e5-11e9-96dc-02420a00000b"
    }
   },
   "source": [
    "**pingコマンド の機能を見てみよう**"
   ]
  },
  {
   "cell_type": "code",
   "execution_count": null,
   "metadata": {
    "lc_cell_meme": {
     "current": "49ad21dc-76e5-11e9-96dc-02420a00000b",
     "next": "49ad220e-76e5-11e9-96dc-02420a00000b",
     "previous": "49ad21aa-76e5-11e9-96dc-02420a00000b"
    },
    "scrolled": true
   },
   "outputs": [],
   "source": [
    "!ping --help; true"
   ]
  },
  {
   "cell_type": "markdown",
   "metadata": {
    "lc_cell_meme": {
     "current": "49ad220e-76e5-11e9-96dc-02420a00000b",
     "next": "49ad2240-76e5-11e9-96dc-02420a00000b",
     "previous": "49ad21dc-76e5-11e9-96dc-02420a00000b"
    }
   },
   "source": [
    "**network関連コマンドをインストールしよう**"
   ]
  },
  {
   "cell_type": "code",
   "execution_count": null,
   "metadata": {
    "lc_cell_meme": {
     "current": "49ad2240-76e5-11e9-96dc-02420a00000b",
     "next": "49ad2272-76e5-11e9-96dc-02420a00000b",
     "previous": "49ad220e-76e5-11e9-96dc-02420a00000b"
    },
    "lc_wrapper": {
     "log_history": [
      "/home/yoko69d621/textbook/nw_sec/.log/20200610/20200610-022301-0719.log"
     ]
    },
    "scrolled": true
   },
   "outputs": [],
   "source": [
    "!sudo apt-get update"
   ]
  },
  {
   "cell_type": "code",
   "execution_count": null,
   "metadata": {
    "lc_cell_meme": {
     "current": "49ad2272-76e5-11e9-96dc-02420a00000b",
     "next": "49ad22a4-76e5-11e9-96dc-02420a00000b",
     "previous": "49ad2240-76e5-11e9-96dc-02420a00000b"
    },
    "lc_wrapper": {
     "log_history": [
      "/home/yoko69d621/textbook/nw_sec/.log/20200610/20200610-022309-0170.log"
     ]
    },
    "scrolled": true
   },
   "outputs": [],
   "source": [
    "!sudo apt-get install dnsutils -y"
   ]
  },
  {
   "cell_type": "code",
   "execution_count": null,
   "metadata": {
    "lc_cell_meme": {
     "current": "49ad22a4-76e5-11e9-96dc-02420a00000b",
     "next": "49ad22d6-76e5-11e9-96dc-02420a00000b",
     "previous": "49ad2272-76e5-11e9-96dc-02420a00000b"
    },
    "lc_wrapper": {
     "log_history": [
      "/home/yoko69d621/textbook/nw_sec/.log/20200610/20200610-022316-0531.log"
     ]
    },
    "scrolled": true
   },
   "outputs": [],
   "source": [
    "!sudo apt-get install traceroute -y"
   ]
  },
  {
   "cell_type": "code",
   "execution_count": null,
   "metadata": {
    "lc_cell_meme": {
     "current": "49ad22d6-76e5-11e9-96dc-02420a00000b",
     "next": "49ad2312-76e5-11e9-96dc-02420a00000b",
     "previous": "49ad22a4-76e5-11e9-96dc-02420a00000b"
    },
    "lc_wrapper": {
     "log_history": [
      "/home/yoko69d621/textbook/nw_sec/.log/20200610/20200610-022322-0110.log"
     ]
    }
   },
   "outputs": [],
   "source": [
    "!sudo apt-get install net-tools -y"
   ]
  },
  {
   "cell_type": "markdown",
   "metadata": {
    "lc_cell_meme": {
     "current": "49ad2312-76e5-11e9-96dc-02420a00000b",
     "next": "49ad2344-76e5-11e9-96dc-02420a00000b",
     "previous": "49ad22d6-76e5-11e9-96dc-02420a00000b"
    }
   },
   "source": [
    "**nslookupコマンド をたたいてみよう**"
   ]
  },
  {
   "cell_type": "code",
   "execution_count": null,
   "metadata": {
    "lc_cell_meme": {
     "current": "49ad2344-76e5-11e9-96dc-02420a00000b",
     "history": [
      {
       "current": "49ad2344-76e5-11e9-96dc-02420a00000b",
       "next": "49ad2376-76e5-11e9-96dc-02420a00000b",
       "previous": "49ad2312-76e5-11e9-96dc-02420a00000b"
      }
     ],
     "next": "49ad2344-76e5-11e9-96dc-02420a00000b",
     "previous": "49ad2312-76e5-11e9-96dc-02420a00000b"
    },
    "scrolled": true
   },
   "outputs": [],
   "source": [
    "!nslookup www.gunma-u.ac.jp"
   ]
  },
  {
   "cell_type": "code",
   "execution_count": null,
   "metadata": {
    "lc_cell_meme": {
     "current": "49ad2344-76e5-11e9-96dc-02420a00000b",
     "history": [
      {
       "current": "49ad2344-76e5-11e9-96dc-02420a00000b",
       "next": "49ad2376-76e5-11e9-96dc-02420a00000b",
       "previous": "49ad2312-76e5-11e9-96dc-02420a00000b"
      },
      {
       "current": "49ad2344-76e5-11e9-96dc-02420a00000b",
       "next": "49ad2344-76e5-11e9-96dc-02420a00000b",
       "previous": "49ad2312-76e5-11e9-96dc-02420a00000b"
      }
     ],
     "next": "49ad2344-76e5-11e9-96dc-02420a00000b",
     "previous": "49ad2344-76e5-11e9-96dc-02420a00000b"
    },
    "scrolled": true
   },
   "outputs": [],
   "source": [
    "!nslookup www.media.gunma-u.ac.jp"
   ]
  },
  {
   "cell_type": "code",
   "execution_count": null,
   "metadata": {
    "lc_cell_meme": {
     "current": "49ad2344-76e5-11e9-96dc-02420a00000b",
     "history": [
      {
       "current": "49ad2344-76e5-11e9-96dc-02420a00000b",
       "next": "49ad2376-76e5-11e9-96dc-02420a00000b",
       "previous": "49ad2312-76e5-11e9-96dc-02420a00000b"
      }
     ],
     "next": "49ad2376-76e5-11e9-96dc-02420a00000b",
     "previous": "49ad2344-76e5-11e9-96dc-02420a00000b"
    },
    "scrolled": true
   },
   "outputs": [],
   "source": [
    "!nslookup www.mit.edu"
   ]
  },
  {
   "cell_type": "markdown",
   "metadata": {
    "lc_cell_meme": {
     "current": "49ad2376-76e5-11e9-96dc-02420a00000b",
     "next": "49ad23a8-76e5-11e9-96dc-02420a00000b",
     "previous": "49ad2344-76e5-11e9-96dc-02420a00000b"
    }
   },
   "source": [
    "**tracerouteコマンド をたたいてみよう**"
   ]
  },
  {
   "cell_type": "code",
   "execution_count": null,
   "metadata": {
    "lc_cell_meme": {
     "current": "49ad23a8-76e5-11e9-96dc-02420a00000b",
     "next": "49ad23da-76e5-11e9-96dc-02420a00000b",
     "previous": "49ad2376-76e5-11e9-96dc-02420a00000b"
    },
    "scrolled": true
   },
   "outputs": [],
   "source": [
    "!traceroute www.google.com"
   ]
  },
  {
   "cell_type": "markdown",
   "metadata": {
    "lc_cell_meme": {
     "current": "49ad23da-76e5-11e9-96dc-02420a00000b",
     "next": "49ad240c-76e5-11e9-96dc-02420a00000b",
     "previous": "49ad23a8-76e5-11e9-96dc-02420a00000b"
    }
   },
   "source": [
    "**curlコマンドをたたいてみよう**"
   ]
  },
  {
   "cell_type": "code",
   "execution_count": null,
   "metadata": {
    "lc_cell_meme": {
     "current": "49ad240c-76e5-11e9-96dc-02420a00000b",
     "next": "49ad243e-76e5-11e9-96dc-02420a00000b",
     "previous": "49ad23da-76e5-11e9-96dc-02420a00000b"
    }
   },
   "outputs": [],
   "source": [
    "!curl https://etherpad.opendev.org/p/2020-nw-sec-ac"
   ]
  },
  {
   "cell_type": "code",
   "execution_count": null,
   "metadata": {
    "lc_cell_meme": {
     "current": "49ad243e-76e5-11e9-96dc-02420a00000b",
     "history": [
      {
       "current": "49ad243e-76e5-11e9-96dc-02420a00000b",
       "next": null,
       "previous": "49ad240c-76e5-11e9-96dc-02420a00000b"
      },
      {
       "current": "49ad243e-76e5-11e9-96dc-02420a00000b",
       "next": "8ae4d6d6-76e5-11e9-96dc-02420a00000b",
       "previous": "49ad240c-76e5-11e9-96dc-02420a00000b"
      },
      {
       "current": "49ad243e-76e5-11e9-96dc-02420a00000b",
       "next": "49ad23da-76e5-11e9-96dc-02420a00000b",
       "previous": "49ad240c-76e5-11e9-96dc-02420a00000b"
      }
     ],
     "next": "2057f38e-a53d-11ea-bd7d-02420a010115",
     "previous": "49ad240c-76e5-11e9-96dc-02420a00000b"
    }
   },
   "outputs": [],
   "source": [
    "!curl https://etherpad.opendev.org/p/2020-nw-sec-ac/export/txt"
   ]
  },
  {
   "cell_type": "markdown",
   "metadata": {
    "lc_cell_meme": {
     "current": "2057f38e-a53d-11ea-bd7d-02420a010115",
     "next": "49ad23da-76e5-11e9-96dc-02420a00000b",
     "previous": "49ad243e-76e5-11e9-96dc-02420a00000b"
    }
   },
   "source": [
    "***---発見的実験---***"
   ]
  },
  {
   "cell_type": "markdown",
   "metadata": {
    "lc_cell_meme": {
     "current": "49ad23da-76e5-11e9-96dc-02420a00000b",
     "history": [
      {
       "current": "49ad23da-76e5-11e9-96dc-02420a00000b",
       "next": "49ad240c-76e5-11e9-96dc-02420a00000b",
       "previous": "49ad23a8-76e5-11e9-96dc-02420a00000b"
      },
      {
       "current": "49ad23da-76e5-11e9-96dc-02420a00000b",
       "next": "8ae4d6d6-76e5-11e9-96dc-02420a00000b",
       "previous": "49ad243e-76e5-11e9-96dc-02420a00000b"
      },
      {
       "current": "49ad23da-76e5-11e9-96dc-02420a00000b",
       "next": "8ae4d6d6-76e5-11e9-96dc-02420a00000b",
       "previous": "49ad243e-76e5-11e9-96dc-02420a00000b"
      },
      {
       "current": "49ad23da-76e5-11e9-96dc-02420a00000b",
       "next": "8ae4d6d6-76e5-11e9-96dc-02420a00000b",
       "previous": "49ad23da-76e5-11e9-96dc-02420a00000b"
      },
      {
       "current": "49ad23da-76e5-11e9-96dc-02420a00000b",
       "next": "8ae4d6d6-76e5-11e9-96dc-02420a00000b",
       "previous": "49ad23da-76e5-11e9-96dc-02420a00000b"
      },
      {
       "current": "49ad23da-76e5-11e9-96dc-02420a00000b",
       "next": "8ae4d6d6-76e5-11e9-96dc-02420a00000b",
       "previous": "49ad23da-76e5-11e9-96dc-02420a00000b"
      },
      {
       "current": "49ad23da-76e5-11e9-96dc-02420a00000b",
       "next": "8ae4d6d6-76e5-11e9-96dc-02420a00000b",
       "previous": "49ad23da-76e5-11e9-96dc-02420a00000b"
      },
      {
       "current": "49ad23da-76e5-11e9-96dc-02420a00000b",
       "next": "49ad23da-76e5-11e9-96dc-02420a00000b",
       "previous": "49ad243e-76e5-11e9-96dc-02420a00000b"
      }
     ],
     "next": "49ad23da-76e5-11e9-96dc-02420a00000b",
     "previous": "2057f38e-a53d-11ea-bd7d-02420a010115"
    }
   },
   "source": [
    "**簡単な例題を二つやってみましょう**"
   ]
  },
  {
   "cell_type": "markdown",
   "metadata": {
    "lc_cell_meme": {
     "current": "49ad23da-76e5-11e9-96dc-02420a00000b",
     "history": [
      {
       "current": "49ad23da-76e5-11e9-96dc-02420a00000b",
       "next": "49ad240c-76e5-11e9-96dc-02420a00000b",
       "previous": "49ad23a8-76e5-11e9-96dc-02420a00000b"
      },
      {
       "current": "49ad23da-76e5-11e9-96dc-02420a00000b",
       "next": "8ae4d6d6-76e5-11e9-96dc-02420a00000b",
       "previous": "49ad243e-76e5-11e9-96dc-02420a00000b"
      },
      {
       "current": "49ad23da-76e5-11e9-96dc-02420a00000b",
       "next": "8ae4d6d6-76e5-11e9-96dc-02420a00000b",
       "previous": "49ad243e-76e5-11e9-96dc-02420a00000b"
      },
      {
       "current": "49ad23da-76e5-11e9-96dc-02420a00000b",
       "next": "8ae4d6d6-76e5-11e9-96dc-02420a00000b",
       "previous": "49ad23da-76e5-11e9-96dc-02420a00000b"
      },
      {
       "current": "49ad23da-76e5-11e9-96dc-02420a00000b",
       "next": "8ae4d6d6-76e5-11e9-96dc-02420a00000b",
       "previous": "49ad23da-76e5-11e9-96dc-02420a00000b"
      },
      {
       "current": "49ad23da-76e5-11e9-96dc-02420a00000b",
       "next": "8ae4d6d6-76e5-11e9-96dc-02420a00000b",
       "previous": "49ad23da-76e5-11e9-96dc-02420a00000b"
      }
     ],
     "next": "8ae4d6d6-76e5-11e9-96dc-02420a00000b",
     "previous": "49ad23da-76e5-11e9-96dc-02420a00000b"
    }
   },
   "source": [
    "**次のサーバのIPアドレスは何でしょう？**\n",
    "\n",
    "www.mit.edu"
   ]
  },
  {
   "cell_type": "code",
   "execution_count": null,
   "metadata": {
    "lc_cell_meme": {
     "current": "8ae4d6d6-76e5-11e9-96dc-02420a00000b",
     "history": [
      {
       "current": "8ae4d6d6-76e5-11e9-96dc-02420a00000b",
       "next": "8ae4d7ee-76e5-11e9-96dc-02420a00000b",
       "previous": "49ad243e-76e5-11e9-96dc-02420a00000b"
      },
      {
       "current": "8ae4d6d6-76e5-11e9-96dc-02420a00000b",
       "next": "8ae4d7ee-76e5-11e9-96dc-02420a00000b",
       "previous": "49ad23da-76e5-11e9-96dc-02420a00000b"
      }
     ],
     "next": "49ad23da-76e5-11e9-96dc-02420a00000b",
     "previous": "49ad23da-76e5-11e9-96dc-02420a00000b"
    }
   },
   "outputs": [],
   "source": [
    "ANSWER_1 = input(\"PROBLEM_1 = IP ADDRESS: \") \n",
    "print(\"ANSWER_1 ==\", ANSWER_1)"
   ]
  },
  {
   "cell_type": "markdown",
   "metadata": {
    "lc_cell_meme": {
     "current": "49ad23da-76e5-11e9-96dc-02420a00000b",
     "history": [
      {
       "current": "49ad23da-76e5-11e9-96dc-02420a00000b",
       "next": "49ad240c-76e5-11e9-96dc-02420a00000b",
       "previous": "49ad23a8-76e5-11e9-96dc-02420a00000b"
      },
      {
       "current": "49ad23da-76e5-11e9-96dc-02420a00000b",
       "next": "8ae4d6d6-76e5-11e9-96dc-02420a00000b",
       "previous": "49ad243e-76e5-11e9-96dc-02420a00000b"
      },
      {
       "current": "49ad23da-76e5-11e9-96dc-02420a00000b",
       "next": "8ae4d6d6-76e5-11e9-96dc-02420a00000b",
       "previous": "49ad243e-76e5-11e9-96dc-02420a00000b"
      },
      {
       "current": "49ad23da-76e5-11e9-96dc-02420a00000b",
       "next": "8ae4d6d6-76e5-11e9-96dc-02420a00000b",
       "previous": "49ad23da-76e5-11e9-96dc-02420a00000b"
      },
      {
       "current": "49ad23da-76e5-11e9-96dc-02420a00000b",
       "next": "8ae4d6d6-76e5-11e9-96dc-02420a00000b",
       "previous": "49ad23da-76e5-11e9-96dc-02420a00000b"
      },
      {
       "current": "49ad23da-76e5-11e9-96dc-02420a00000b",
       "next": "8ae4d6d6-76e5-11e9-96dc-02420a00000b",
       "previous": "49ad23da-76e5-11e9-96dc-02420a00000b"
      },
      {
       "current": "49ad23da-76e5-11e9-96dc-02420a00000b",
       "next": "8ae4d6d6-76e5-11e9-96dc-02420a00000b",
       "previous": "49ad23da-76e5-11e9-96dc-02420a00000b"
      }
     ],
     "next": "8ae4d7ee-76e5-11e9-96dc-02420a00000b",
     "previous": "8ae4d6d6-76e5-11e9-96dc-02420a00000b"
    }
   },
   "source": [
    "**このサーバとの通信のネットワーク遅延（network delay)はどの程度でしょう**\n",
    "\n",
    "www.mit.edu"
   ]
  },
  {
   "cell_type": "code",
   "execution_count": null,
   "metadata": {
    "lc_cell_meme": {
     "current": "8ae4d7ee-76e5-11e9-96dc-02420a00000b",
     "history": [
      {
       "current": "8ae4d7ee-76e5-11e9-96dc-02420a00000b",
       "next": null,
       "previous": "8ae4d6d6-76e5-11e9-96dc-02420a00000b"
      },
      {
       "current": "8ae4d7ee-76e5-11e9-96dc-02420a00000b",
       "next": null,
       "previous": "49ad23da-76e5-11e9-96dc-02420a00000b"
      },
      {
       "current": "8ae4d7ee-76e5-11e9-96dc-02420a00000b",
       "next": "b0292b7a-81aa-11e9-8556-02420a010127",
       "previous": "49ad23da-76e5-11e9-96dc-02420a00000b"
      }
     ],
     "next": "49ad23da-76e5-11e9-96dc-02420a00000b",
     "previous": "49ad23da-76e5-11e9-96dc-02420a00000b"
    }
   },
   "outputs": [],
   "source": [
    "ANSWER_2 = input(\"PROBLEM_2= Network Delay\")\n",
    "print(\"ANSWER_2 ==\", ANSWER_2)"
   ]
  },
  {
   "cell_type": "markdown",
   "metadata": {
    "lc_cell_meme": {
     "current": "49ad23da-76e5-11e9-96dc-02420a00000b",
     "history": [
      {
       "current": "49ad23da-76e5-11e9-96dc-02420a00000b",
       "next": "49ad240c-76e5-11e9-96dc-02420a00000b",
       "previous": "49ad23a8-76e5-11e9-96dc-02420a00000b"
      },
      {
       "current": "49ad23da-76e5-11e9-96dc-02420a00000b",
       "next": "8ae4d6d6-76e5-11e9-96dc-02420a00000b",
       "previous": "49ad243e-76e5-11e9-96dc-02420a00000b"
      },
      {
       "current": "49ad23da-76e5-11e9-96dc-02420a00000b",
       "next": "8ae4d6d6-76e5-11e9-96dc-02420a00000b",
       "previous": "49ad243e-76e5-11e9-96dc-02420a00000b"
      },
      {
       "current": "49ad23da-76e5-11e9-96dc-02420a00000b",
       "next": "8ae4d6d6-76e5-11e9-96dc-02420a00000b",
       "previous": "49ad23da-76e5-11e9-96dc-02420a00000b"
      },
      {
       "current": "49ad23da-76e5-11e9-96dc-02420a00000b",
       "next": "8ae4d6d6-76e5-11e9-96dc-02420a00000b",
       "previous": "49ad23da-76e5-11e9-96dc-02420a00000b"
      },
      {
       "current": "49ad23da-76e5-11e9-96dc-02420a00000b",
       "next": "8ae4d6d6-76e5-11e9-96dc-02420a00000b",
       "previous": "49ad23da-76e5-11e9-96dc-02420a00000b"
      },
      {
       "current": "49ad23da-76e5-11e9-96dc-02420a00000b",
       "next": "8ae4d6d6-76e5-11e9-96dc-02420a00000b",
       "previous": "49ad23da-76e5-11e9-96dc-02420a00000b"
      },
      {
       "current": "49ad23da-76e5-11e9-96dc-02420a00000b",
       "next": null,
       "previous": "8ae4d7ee-76e5-11e9-96dc-02420a00000b"
      }
     ],
     "next": "8ae4d7ee-76e5-11e9-96dc-02420a00000b",
     "previous": "8ae4d7ee-76e5-11e9-96dc-02420a00000b"
    }
   },
   "source": [
    "**次のサーバの場合はどうでしょう？**\n",
    "\n",
    "www.media.mit.edu"
   ]
  },
  {
   "cell_type": "code",
   "execution_count": null,
   "metadata": {
    "lc_cell_meme": {
     "current": "8ae4d7ee-76e5-11e9-96dc-02420a00000b",
     "history": [
      {
       "current": "8ae4d7ee-76e5-11e9-96dc-02420a00000b",
       "next": null,
       "previous": "8ae4d6d6-76e5-11e9-96dc-02420a00000b"
      },
      {
       "current": "8ae4d7ee-76e5-11e9-96dc-02420a00000b",
       "next": null,
       "previous": "49ad23da-76e5-11e9-96dc-02420a00000b"
      },
      {
       "current": "8ae4d7ee-76e5-11e9-96dc-02420a00000b",
       "next": "b0292b7a-81aa-11e9-8556-02420a010127",
       "previous": "49ad23da-76e5-11e9-96dc-02420a00000b"
      },
      {
       "current": "8ae4d7ee-76e5-11e9-96dc-02420a00000b",
       "next": null,
       "previous": "49ad23da-76e5-11e9-96dc-02420a00000b"
      }
     ],
     "next": "2057f4e2-a53d-11ea-bd7d-02420a010115",
     "previous": "49ad23da-76e5-11e9-96dc-02420a00000b"
    }
   },
   "outputs": [],
   "source": [
    "ANSWER_3 = input(\"PROBLEM_3= Network Delay\")\n",
    "print(\"ANSWER_3 ==\", ANSWER_3)"
   ]
  },
  {
   "cell_type": "markdown",
   "metadata": {
    "lc_cell_meme": {
     "current": "2057f4e2-a53d-11ea-bd7d-02420a010115",
     "history": [
      {
       "current": "2057f4e2-a53d-11ea-bd7d-02420a010115",
       "next": null,
       "previous": "8ae4d7ee-76e5-11e9-96dc-02420a00000b"
      }
     ],
     "next": "2057f4e2-a53d-11ea-bd7d-02420a010115",
     "previous": "8ae4d7ee-76e5-11e9-96dc-02420a00000b"
    }
   },
   "source": [
    "***---検証的実験---***"
   ]
  },
  {
   "cell_type": "markdown",
   "metadata": {
    "lc_cell_meme": {
     "current": "2057f4e2-a53d-11ea-bd7d-02420a010115",
     "history": [
      {
       "current": "2057f4e2-a53d-11ea-bd7d-02420a010115",
       "next": null,
       "previous": "8ae4d7ee-76e5-11e9-96dc-02420a00000b"
      }
     ],
     "next": "67e2715c-a53d-11ea-bd7d-02420a010115",
     "previous": "2057f4e2-a53d-11ea-bd7d-02420a010115"
    }
   },
   "source": [
    "**Tracerouteコマンドの動きを想像しながら気になるサイトまでtracerouteしてみましょう**"
   ]
  },
  {
   "cell_type": "code",
   "execution_count": null,
   "metadata": {
    "lc_cell_meme": {
     "current": "67e2715c-a53d-11ea-bd7d-02420a010115",
     "next": "67e27364-a53d-11ea-bd7d-02420a010115",
     "previous": "2057f4e2-a53d-11ea-bd7d-02420a010115"
    }
   },
   "outputs": [],
   "source": []
  },
  {
   "cell_type": "code",
   "execution_count": null,
   "metadata": {
    "lc_cell_meme": {
     "current": "67e27364-a53d-11ea-bd7d-02420a010115",
     "next": "67e27490-a53d-11ea-bd7d-02420a010115",
     "previous": "67e2715c-a53d-11ea-bd7d-02420a010115"
    }
   },
   "outputs": [],
   "source": []
  },
  {
   "cell_type": "code",
   "execution_count": null,
   "metadata": {
    "lc_cell_meme": {
     "current": "67e27490-a53d-11ea-bd7d-02420a010115",
     "next": null,
     "previous": "67e27364-a53d-11ea-bd7d-02420a010115"
    }
   },
   "outputs": [],
   "source": []
  }
 ],
 "metadata": {
  "kernelspec": {
   "display_name": "Python 3",
   "language": "python",
   "name": "python3"
  },
  "language_info": {
   "file_extension": ".py",
   "mimetype": "text/x-python",
   "name": "python",
   "nbconvert_exporter": "python",
   "pygments_lexer": "ipython3",
   "version": "3.7.3"
  },
  "lc_notebook_meme": {
   "current": "49ad1d90-76e5-11e9-96dc-02420a00000b",
   "lc_server_signature": {
    "current": {
     "notebook_dir": "/home/yoko69d621",
     "notebook_path": "/textbook/nw_sec",
     "server_url": "https://nb03.ecloud.nii.ac.jp/user/yoko69d621/",
     "signature_id": "5e786c6e-5fea-11e9-b810-02420a00005a"
    },
    "history": []
   }
  },
  "toc": {
   "base_numbering": 1,
   "nav_menu": {},
   "number_sections": true,
   "sideBar": true,
   "skip_h1_title": false,
   "title_cell": "Table of Contents",
   "title_sidebar": "Contents",
   "toc_cell": false,
   "toc_position": {},
   "toc_section_display": true,
   "toc_window_display": false
  }
 },
 "nbformat": 4,
 "nbformat_minor": 2
}
