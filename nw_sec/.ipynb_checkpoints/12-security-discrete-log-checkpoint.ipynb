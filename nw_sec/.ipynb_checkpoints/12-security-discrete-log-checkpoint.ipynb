{
 "cells": [
  {
   "cell_type": "code",
   "execution_count": null,
   "metadata": {
    "lc_cell_meme": {
     "current": "a8ff1a4a-7f56-11e9-a4fd-02420a01012b",
     "history": [
      {
       "current": "a8ff1a4a-7f56-11e9-a4fd-02420a01012b",
       "next": null,
       "previous": null
      },
      {
       "current": "a8ff1a4a-7f56-11e9-a4fd-02420a01012b",
       "next": "f0f5e6f8-7f56-11e9-a4fd-02420a01012b",
       "previous": null
      }
     ],
     "next": "f0f5e82e-7f56-11e9-a4fd-02420a01012b",
     "previous": null
    }
   },
   "outputs": [],
   "source": [
    "import pandas as pd\n",
    "import numpy as np\n",
    "import matplotlib.pyplot as plt\n",
    "from pylab import *"
   ]
  },
  {
   "cell_type": "code",
   "execution_count": null,
   "metadata": {
    "lc_cell_meme": {
     "current": "f0f5e82e-7f56-11e9-a4fd-02420a01012b",
     "history": [
      {
       "current": "f0f5e82e-7f56-11e9-a4fd-02420a01012b",
       "next": "f0f5e87e-7f56-11e9-a4fd-02420a01012b",
       "previous": "f0f5e6f8-7f56-11e9-a4fd-02420a01012b"
      },
      {
       "current": "f0f5e82e-7f56-11e9-a4fd-02420a01012b",
       "next": "0eaee4f0-7f58-11e9-a4fd-02420a01012b",
       "previous": "f0f5e6f8-7f56-11e9-a4fd-02420a01012b"
      },
      {
       "current": "f0f5e82e-7f56-11e9-a4fd-02420a01012b",
       "next": "e59c8012-7f58-11e9-a4fd-02420a01012b",
       "previous": "a8ff1a4a-7f56-11e9-a4fd-02420a01012b"
      }
     ],
     "next": "52406dec-7f85-11e9-a4fd-02420a01012b",
     "previous": "a8ff1a4a-7f56-11e9-a4fd-02420a01012b"
    }
   },
   "outputs": [],
   "source": [
    "n=17\n",
    "a = 3"
   ]
  },
  {
   "cell_type": "code",
   "execution_count": null,
   "metadata": {
    "lc_cell_meme": {
     "current": "52406dec-7f85-11e9-a4fd-02420a01012b",
     "next": "e59c8012-7f58-11e9-a4fd-02420a01012b",
     "previous": "f0f5e82e-7f56-11e9-a4fd-02420a01012b"
    }
   },
   "outputs": [],
   "source": [
    "data=np.zeros((n,n))"
   ]
  },
  {
   "cell_type": "code",
   "execution_count": null,
   "metadata": {
    "lc_cell_meme": {
     "current": "e59c8012-7f58-11e9-a4fd-02420a01012b",
     "history": [
      {
       "current": "e59c8012-7f58-11e9-a4fd-02420a01012b",
       "next": "0eaee69e-7f58-11e9-a4fd-02420a01012b",
       "previous": "0eaee4f0-7f58-11e9-a4fd-02420a01012b"
      },
      {
       "current": "e59c8012-7f58-11e9-a4fd-02420a01012b",
       "next": "a649e46a-7f83-11e9-a4fd-02420a01012b",
       "previous": "0eaee4f0-7f58-11e9-a4fd-02420a01012b"
      },
      {
       "current": "e59c8012-7f58-11e9-a4fd-02420a01012b",
       "next": "0eaee69e-7f58-11e9-a4fd-02420a01012b",
       "previous": "f0f5e82e-7f56-11e9-a4fd-02420a01012b"
      }
     ],
     "next": "0eaee69e-7f58-11e9-a4fd-02420a01012b",
     "previous": "52406dec-7f85-11e9-a4fd-02420a01012b"
    }
   },
   "outputs": [],
   "source": [
    "for i in range(0,n):\n",
    "    j = (a ** i) %n\n",
    "    data[j][i] = 1"
   ]
  },
  {
   "cell_type": "code",
   "execution_count": null,
   "metadata": {
    "lc_cell_meme": {
     "current": "0eaee69e-7f58-11e9-a4fd-02420a01012b",
     "history": [
      {
       "current": "0eaee69e-7f58-11e9-a4fd-02420a01012b",
       "next": null,
       "previous": "0eaee4f0-7f58-11e9-a4fd-02420a01012b"
      },
      {
       "current": "0eaee69e-7f58-11e9-a4fd-02420a01012b",
       "next": null,
       "previous": "e59c8012-7f58-11e9-a4fd-02420a01012b"
      },
      {
       "current": "0eaee69e-7f58-11e9-a4fd-02420a01012b",
       "next": null,
       "previous": "a649e46a-7f83-11e9-a4fd-02420a01012b"
      },
      {
       "current": "0eaee69e-7f58-11e9-a4fd-02420a01012b",
       "next": "3425531e-7f84-11e9-a4fd-02420a01012b",
       "previous": "a649e46a-7f83-11e9-a4fd-02420a01012b"
      },
      {
       "current": "0eaee69e-7f58-11e9-a4fd-02420a01012b",
       "next": null,
       "previous": "e59c8012-7f58-11e9-a4fd-02420a01012b"
      },
      {
       "current": "0eaee69e-7f58-11e9-a4fd-02420a01012b",
       "next": null,
       "previous": "e59c8012-7f58-11e9-a4fd-02420a01012b"
      },
      {
       "current": "0eaee69e-7f58-11e9-a4fd-02420a01012b",
       "next": "20b55172-8005-11e9-a4fd-02420a01012b",
       "previous": "e59c8012-7f58-11e9-a4fd-02420a01012b"
      },
      {
       "current": "0eaee69e-7f58-11e9-a4fd-02420a01012b",
       "next": "00ec13da-8979-11e9-8556-02420a010127",
       "previous": "e59c8012-7f58-11e9-a4fd-02420a01012b"
      },
      {
       "current": "0eaee69e-7f58-11e9-a4fd-02420a01012b",
       "next": "73923322-897b-11e9-8556-02420a010127",
       "previous": "e59c8012-7f58-11e9-a4fd-02420a01012b"
      }
     ],
     "next": "4a032fec-897c-11e9-8556-02420a010127",
     "previous": "e59c8012-7f58-11e9-a4fd-02420a01012b"
    },
    "scrolled": false
   },
   "outputs": [],
   "source": [
    "df = pd.DataFrame(data, dtype='int')\n",
    "df"
   ]
  },
  {
   "cell_type": "code",
   "execution_count": null,
   "metadata": {
    "lc_cell_meme": {
     "current": "4a032fec-897c-11e9-8556-02420a010127",
     "history": [
      {
       "current": "4a032fec-897c-11e9-8556-02420a010127",
       "next": "73923322-897b-11e9-8556-02420a010127",
       "previous": "0eaee69e-7f58-11e9-a4fd-02420a01012b"
      },
      {
       "current": "4a032fec-897c-11e9-8556-02420a010127",
       "next": "00ec13da-8979-11e9-8556-02420a010127",
       "previous": "0eaee69e-7f58-11e9-a4fd-02420a01012b"
      }
     ],
     "next": "4a032fec-897c-11e9-8556-02420a010127",
     "previous": "0eaee69e-7f58-11e9-a4fd-02420a01012b"
    }
   },
   "outputs": [],
   "source": [
    "%%time\n",
    "n= 17\n",
    "a = 17\n",
    "values=[]\n",
    "for i in range(0,n):\n",
    "    values.append([i, (a ** i ) % n])"
   ]
  },
  {
   "cell_type": "code",
   "execution_count": null,
   "metadata": {
    "lc_cell_meme": {
     "current": "4a032fec-897c-11e9-8556-02420a010127",
     "history": [
      {
       "current": "4a032fec-897c-11e9-8556-02420a010127",
       "next": "73923322-897b-11e9-8556-02420a010127",
       "previous": "0eaee69e-7f58-11e9-a4fd-02420a01012b"
      },
      {
       "current": "4a032fec-897c-11e9-8556-02420a010127",
       "next": "00ec13da-8979-11e9-8556-02420a010127",
       "previous": "0eaee69e-7f58-11e9-a4fd-02420a01012b"
      },
      {
       "current": "4a032fec-897c-11e9-8556-02420a010127",
       "next": "00ec13da-8979-11e9-8556-02420a010127",
       "previous": "4a032fec-897c-11e9-8556-02420a010127"
      }
     ],
     "next": "4a032fec-897c-11e9-8556-02420a010127",
     "previous": "4a032fec-897c-11e9-8556-02420a010127"
    }
   },
   "outputs": [],
   "source": [
    "n= 1117\n",
    "a = 29\n",
    "values=[]\n",
    "for i in range(0,n):\n",
    "    values.append([i, (a ** i ) % n])\n",
    "    if (((a ** i) % n) == 1):\n",
    "        print(\" a **\" , i, \"= 1 (mod n) \", end=',')\n",
    "dd = pd.DataFrame(values, columns=['x','a ** x'])\n",
    "dd.plot.scatter(x='x',y='a ** x', s=2, figsize=(8,8))"
   ]
  },
  {
   "cell_type": "code",
   "execution_count": null,
   "metadata": {
    "lc_cell_meme": {
     "current": "4a032fec-897c-11e9-8556-02420a010127",
     "history": [
      {
       "current": "4a032fec-897c-11e9-8556-02420a010127",
       "next": "73923322-897b-11e9-8556-02420a010127",
       "previous": "0eaee69e-7f58-11e9-a4fd-02420a01012b"
      },
      {
       "current": "4a032fec-897c-11e9-8556-02420a010127",
       "next": "00ec13da-8979-11e9-8556-02420a010127",
       "previous": "0eaee69e-7f58-11e9-a4fd-02420a01012b"
      },
      {
       "current": "4a032fec-897c-11e9-8556-02420a010127",
       "next": "00ec13da-8979-11e9-8556-02420a010127",
       "previous": "4a032fec-897c-11e9-8556-02420a010127"
      },
      {
       "current": "4a032fec-897c-11e9-8556-02420a010127",
       "next": null,
       "previous": "20b55366-8005-11e9-a4fd-02420a01012b"
      }
     ],
     "next": null,
     "previous": "4a032fec-897c-11e9-8556-02420a010127"
    }
   },
   "outputs": [],
   "source": [
    "n_a_list = [[115, 17], [11113, 17], [11113, 13]]\n",
    "for n_a in n_a_list:\n",
    "    n = n_a[0]\n",
    "    a = n_a[1]\n",
    "    values=[]\n",
    "    a_title = \"n=\" + str(n) + \", a=\" + str(a)\n",
    "    for i in range(1,n):\n",
    "        values.append([i, (a ** i ) % n])\n",
    "        if (((a ** i) % n) == 1):\n",
    "            a_title = a_title + \" /  a**\" + str(i) + \"= 1(mod n) \"\n",
    "    dd = pd.DataFrame(values, columns=['x','a ** x'])\n",
    "    dd.plot.scatter(x='x',y='a ** x', s=2, figsize=(16,16), title = a_title)"
   ]
  }
 ],
 "metadata": {
  "kernelspec": {
   "display_name": "Python 3",
   "language": "python",
   "name": "python3"
  },
  "language_info": {
   "file_extension": ".py",
   "mimetype": "text/x-python",
   "name": "python",
   "nbconvert_exporter": "python",
   "pygments_lexer": "ipython3",
   "version": "3.7.3"
  },
  "lc_notebook_meme": {
   "current": "a8ff14d2-7f56-11e9-a4fd-02420a01012b",
   "lc_server_signature": {
    "current": {
     "notebook_dir": "/home/yoko69d621",
     "notebook_path": "/textbook/nw_sec",
     "server_url": "https://nb03.ecloud.nii.ac.jp/user/yoko69d621/",
     "signature_id": "5e786c6e-5fea-11e9-b810-02420a00005a"
    },
    "history": [
     {
      "notebook_dir": "/home/eaaca696",
      "notebook_path": "/",
      "server_url": "https://nb03.ecloud.nii.ac.jp/user/eaaca696/",
      "signature_id": "819b57f8-665a-11e9-8bf9-02420a0000c2"
     },
     {
      "notebook_dir": "/home/yoko69d621",
      "notebook_path": "/test",
      "server_url": "https://nb03.ecloud.nii.ac.jp/user/yoko69d621/",
      "signature_id": "5e786c6e-5fea-11e9-b810-02420a00005a"
     }
    ]
   }
  },
  "toc": {
   "base_numbering": 1,
   "nav_menu": {},
   "number_sections": true,
   "sideBar": true,
   "skip_h1_title": false,
   "title_cell": "Table of Contents",
   "title_sidebar": "Contents",
   "toc_cell": false,
   "toc_position": {},
   "toc_section_display": true,
   "toc_window_display": false
  }
 },
 "nbformat": 4,
 "nbformat_minor": 2
}
