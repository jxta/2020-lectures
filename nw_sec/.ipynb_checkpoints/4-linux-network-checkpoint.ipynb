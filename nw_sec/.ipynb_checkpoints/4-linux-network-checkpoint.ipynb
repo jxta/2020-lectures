{
 "cells": [
  {
   "cell_type": "markdown",
   "metadata": {
    "lc_cell_meme": {
     "current": "98eb3344-73ef-11ea-86a9-02420a01000c",
     "next": "98eb3510-73ef-11ea-86a9-02420a01000c",
     "previous": null
    }
   },
   "source": [
    "***【準備】　10秒ごとにこのNotebookの変更を自動保存する設定です。***"
   ]
  },
  {
   "cell_type": "code",
   "execution_count": null,
   "metadata": {
    "lc_cell_meme": {
     "current": "98eb3510-73ef-11ea-86a9-02420a01000c",
     "next": "98eb3600-73ef-11ea-86a9-02420a01000c",
     "previous": "98eb3344-73ef-11ea-86a9-02420a01000c"
    }
   },
   "outputs": [],
   "source": [
    "%autosave 10"
   ]
  },
  {
   "cell_type": "markdown",
   "metadata": {
    "lc_cell_meme": {
     "current": "98eb3600-73ef-11ea-86a9-02420a01000c",
     "history": [
      {
       "current": "98eb3600-73ef-11ea-86a9-02420a01000c",
       "next": "d9dbb6c8-6be2-11e9-96dc-02420a00000b",
       "previous": "98eb3510-73ef-11ea-86a9-02420a01000c"
      }
     ],
     "next": "e0701d6a-73ef-11ea-86a9-02420a01000c",
     "previous": "98eb3510-73ef-11ea-86a9-02420a01000c"
    }
   },
   "source": [
    "***以下が本編です。***\n",
    "\n",
    "**以下の実験で確かめたい仮説は、「ネットワーク上を流れるパケット速度は光の速度を超えられない！」　です。**"
   ]
  },
  {
   "cell_type": "markdown",
   "metadata": {
    "lc_cell_meme": {
     "current": "e0701d6a-73ef-11ea-86a9-02420a01000c",
     "next": "d9dbb6c8-6be2-11e9-96dc-02420a00000b",
     "previous": "98eb3600-73ef-11ea-86a9-02420a01000c"
    }
   },
   "source": [
    "***【実習的実験】***"
   ]
  },
  {
   "cell_type": "markdown",
   "metadata": {
    "lc_cell_meme": {
     "current": "d9dbb6c8-6be2-11e9-96dc-02420a00000b",
     "history": [
      {
       "current": "d9dbb6c8-6be2-11e9-96dc-02420a00000b",
       "next": "d9dbb736-6be2-11e9-96dc-02420a00000b",
       "previous": null
      },
      {
       "current": "d9dbb6c8-6be2-11e9-96dc-02420a00000b",
       "next": "d9dbb736-6be2-11e9-96dc-02420a00000b",
       "previous": "98eb3600-73ef-11ea-86a9-02420a01000c"
      }
     ],
     "next": "d9dbb736-6be2-11e9-96dc-02420a00000b",
     "previous": "e0701d6a-73ef-11ea-86a9-02420a01000c"
    }
   },
   "source": [
    "**必要なネットワーク関連コマンドのインストール**"
   ]
  },
  {
   "cell_type": "code",
   "execution_count": null,
   "metadata": {
    "lc_cell_meme": {
     "current": "d9dbb736-6be2-11e9-96dc-02420a00000b",
     "next": "d9dbb77c-6be2-11e9-96dc-02420a00000b",
     "previous": "d9dbb6c8-6be2-11e9-96dc-02420a00000b"
    },
    "lc_wrapper": {
     "log_history": [
      "/home/yoko69d621/textbook/nw_sec/.log/20200527/20200527-090315-0928.log"
     ]
    }
   },
   "outputs": [],
   "source": [
    "!sudo apt-get update"
   ]
  },
  {
   "cell_type": "code",
   "execution_count": null,
   "metadata": {
    "lc_cell_meme": {
     "current": "d9dbb77c-6be2-11e9-96dc-02420a00000b",
     "next": "d9dbb7b8-6be2-11e9-96dc-02420a00000b",
     "previous": "d9dbb736-6be2-11e9-96dc-02420a00000b"
    },
    "lc_wrapper": {
     "log_history": [
      "/home/yoko69d621/textbook/nw_sec/.log/20200527/20200527-090323-0687.log"
     ]
    }
   },
   "outputs": [],
   "source": [
    "!sudo apt-get install iproute2 iputils-ping -y"
   ]
  },
  {
   "cell_type": "markdown",
   "metadata": {
    "lc_cell_meme": {
     "current": "d9dbb7b8-6be2-11e9-96dc-02420a00000b",
     "next": "d9dbb7f4-6be2-11e9-96dc-02420a00000b",
     "previous": "d9dbb77c-6be2-11e9-96dc-02420a00000b"
    }
   },
   "source": [
    "**ipコマンドをたたいてみよう**"
   ]
  },
  {
   "cell_type": "code",
   "execution_count": null,
   "metadata": {
    "lc_cell_meme": {
     "current": "d9dbb7f4-6be2-11e9-96dc-02420a00000b",
     "next": "d9dbb826-6be2-11e9-96dc-02420a00000b",
     "previous": "d9dbb7b8-6be2-11e9-96dc-02420a00000b"
    }
   },
   "outputs": [],
   "source": [
    "!ip addr"
   ]
  },
  {
   "cell_type": "markdown",
   "metadata": {
    "lc_cell_meme": {
     "current": "d9dbb826-6be2-11e9-96dc-02420a00000b",
     "next": "d9dbb862-6be2-11e9-96dc-02420a00000b",
     "previous": "d9dbb7f4-6be2-11e9-96dc-02420a00000b"
    }
   },
   "source": [
    "**ipコマンド の機能を見てみよう**"
   ]
  },
  {
   "cell_type": "code",
   "execution_count": null,
   "metadata": {
    "lc_cell_meme": {
     "current": "d9dbb862-6be2-11e9-96dc-02420a00000b",
     "next": "d9dbb894-6be2-11e9-96dc-02420a00000b",
     "previous": "d9dbb826-6be2-11e9-96dc-02420a00000b"
    },
    "lc_wrapper": {
     "log_history": [
      "/home/yoko69d621/textbook/nw_sec/.log/20200527/20200527-090309-0807.log",
      "/home/yoko69d621/textbook/nw_sec/.log/20200527/20200527-090332-0778.log"
     ]
    }
   },
   "outputs": [],
   "source": [
    "!ip --help; true"
   ]
  },
  {
   "cell_type": "markdown",
   "metadata": {
    "lc_cell_meme": {
     "current": "d9dbb894-6be2-11e9-96dc-02420a00000b",
     "next": "d9dbb8d0-6be2-11e9-96dc-02420a00000b",
     "previous": "d9dbb862-6be2-11e9-96dc-02420a00000b"
    }
   },
   "source": [
    "**pingコマンド をたたいてみよう**"
   ]
  },
  {
   "cell_type": "code",
   "execution_count": null,
   "metadata": {
    "lc_cell_meme": {
     "current": "d9dbb8d0-6be2-11e9-96dc-02420a00000b",
     "next": "d9dbb90c-6be2-11e9-96dc-02420a00000b",
     "previous": "d9dbb894-6be2-11e9-96dc-02420a00000b"
    },
    "scrolled": true
   },
   "outputs": [],
   "source": [
    "!ping 8.8.8.8 -c 5"
   ]
  },
  {
   "cell_type": "markdown",
   "metadata": {
    "lc_cell_meme": {
     "current": "d9dbb90c-6be2-11e9-96dc-02420a00000b",
     "next": "d9dbb93e-6be2-11e9-96dc-02420a00000b",
     "previous": "d9dbb8d0-6be2-11e9-96dc-02420a00000b"
    }
   },
   "source": [
    "**pingコマンド の機能を見てみよう**"
   ]
  },
  {
   "cell_type": "code",
   "execution_count": null,
   "metadata": {
    "lc_cell_meme": {
     "current": "d9dbb93e-6be2-11e9-96dc-02420a00000b",
     "next": "d9dbb97a-6be2-11e9-96dc-02420a00000b",
     "previous": "d9dbb90c-6be2-11e9-96dc-02420a00000b"
    },
    "lc_wrapper": {
     "log_history": [
      "/home/yoko69d621/textbook/nw_sec/.log/20200527/20200527-090343-0924.log"
     ]
    },
    "scrolled": true
   },
   "outputs": [],
   "source": [
    "!ping; true"
   ]
  },
  {
   "cell_type": "markdown",
   "metadata": {
    "lc_cell_meme": {
     "current": "d9dbb97a-6be2-11e9-96dc-02420a00000b",
     "next": "d9dbb9ac-6be2-11e9-96dc-02420a00000b",
     "previous": "d9dbb93e-6be2-11e9-96dc-02420a00000b"
    }
   },
   "source": [
    "**network関連コマンドをインストールしよう**"
   ]
  },
  {
   "cell_type": "code",
   "execution_count": null,
   "metadata": {
    "lc_cell_meme": {
     "current": "d9dbb9ac-6be2-11e9-96dc-02420a00000b",
     "next": "d9dbb9de-6be2-11e9-96dc-02420a00000b",
     "previous": "d9dbb97a-6be2-11e9-96dc-02420a00000b"
    },
    "scrolled": true
   },
   "outputs": [],
   "source": [
    "!sudo apt-get update"
   ]
  },
  {
   "cell_type": "code",
   "execution_count": null,
   "metadata": {
    "lc_cell_meme": {
     "current": "d9dbb9de-6be2-11e9-96dc-02420a00000b",
     "next": "d9dbba1a-6be2-11e9-96dc-02420a00000b",
     "previous": "d9dbb9ac-6be2-11e9-96dc-02420a00000b"
    },
    "scrolled": true
   },
   "outputs": [],
   "source": [
    "!sudo apt-get install dnsutils -y"
   ]
  },
  {
   "cell_type": "code",
   "execution_count": null,
   "metadata": {
    "lc_cell_meme": {
     "current": "d9dbba1a-6be2-11e9-96dc-02420a00000b",
     "next": "d9dbba56-6be2-11e9-96dc-02420a00000b",
     "previous": "d9dbb9de-6be2-11e9-96dc-02420a00000b"
    },
    "scrolled": true
   },
   "outputs": [],
   "source": [
    "!sudo apt-get install traceroute -y"
   ]
  },
  {
   "cell_type": "markdown",
   "metadata": {
    "lc_cell_meme": {
     "current": "d9dbba56-6be2-11e9-96dc-02420a00000b",
     "next": "d9dbba88-6be2-11e9-96dc-02420a00000b",
     "previous": "d9dbba1a-6be2-11e9-96dc-02420a00000b"
    }
   },
   "source": [
    "**nslookupコマンド をたたいてみよう**"
   ]
  },
  {
   "cell_type": "code",
   "execution_count": null,
   "metadata": {
    "lc_cell_meme": {
     "current": "d9dbba88-6be2-11e9-96dc-02420a00000b",
     "next": "d9dbbaba-6be2-11e9-96dc-02420a00000b",
     "previous": "d9dbba56-6be2-11e9-96dc-02420a00000b"
    },
    "scrolled": true
   },
   "outputs": [],
   "source": [
    "!nslookup www.gunma-u.ac.jp"
   ]
  },
  {
   "cell_type": "markdown",
   "metadata": {
    "lc_cell_meme": {
     "current": "d9dbbaba-6be2-11e9-96dc-02420a00000b",
     "next": "d9dbbaf6-6be2-11e9-96dc-02420a00000b",
     "previous": "d9dbba88-6be2-11e9-96dc-02420a00000b"
    }
   },
   "source": [
    "**tracerouteコマンド をたたいてみよう**"
   ]
  },
  {
   "cell_type": "code",
   "execution_count": null,
   "metadata": {
    "lc_cell_meme": {
     "current": "d9dbbaf6-6be2-11e9-96dc-02420a00000b",
     "next": "d9dbbb28-6be2-11e9-96dc-02420a00000b",
     "previous": "d9dbbaba-6be2-11e9-96dc-02420a00000b"
    }
   },
   "outputs": [],
   "source": [
    "!traceroute --help"
   ]
  },
  {
   "cell_type": "code",
   "execution_count": null,
   "metadata": {
    "lc_cell_meme": {
     "current": "d9dbbb28-6be2-11e9-96dc-02420a00000b",
     "history": [
      {
       "current": "d9dbbb28-6be2-11e9-96dc-02420a00000b",
       "next": null,
       "previous": "d9dbbaf6-6be2-11e9-96dc-02420a00000b"
      },
      {
       "current": "d9dbbb28-6be2-11e9-96dc-02420a00000b",
       "next": "d8d80016-8734-11e9-8556-02420a010127",
       "previous": "d9dbbaf6-6be2-11e9-96dc-02420a00000b"
      },
      {
       "current": "d9dbbb28-6be2-11e9-96dc-02420a00000b",
       "next": "a06495ea-8735-11e9-8556-02420a010127",
       "previous": "d9dbbaf6-6be2-11e9-96dc-02420a00000b"
      }
     ],
     "next": "e0701f4a-73ef-11ea-86a9-02420a01000c",
     "previous": "d9dbbaf6-6be2-11e9-96dc-02420a00000b"
    },
    "scrolled": true
   },
   "outputs": [],
   "source": [
    "!sudo traceroute  -I www.google.com"
   ]
  },
  {
   "cell_type": "markdown",
   "metadata": {
    "lc_cell_meme": {
     "current": "e0701f4a-73ef-11ea-86a9-02420a01000c",
     "history": [
      {
       "current": "e0701f4a-73ef-11ea-86a9-02420a01000c",
       "next": null,
       "previous": "d8d802d2-8734-11e9-8556-02420a010127"
      },
      {
       "current": "e0701f4a-73ef-11ea-86a9-02420a01000c",
       "next": null,
       "previous": "d8d802d2-8734-11e9-8556-02420a010127"
      },
      {
       "current": "e0701f4a-73ef-11ea-86a9-02420a01000c",
       "next": null,
       "previous": "d8d802d2-8734-11e9-8556-02420a010127"
      }
     ],
     "next": "a06495ea-8735-11e9-8556-02420a010127",
     "previous": "d9dbbb28-6be2-11e9-96dc-02420a00000b"
    }
   },
   "source": [
    "***【発見的実験】***"
   ]
  },
  {
   "cell_type": "markdown",
   "metadata": {
    "lc_cell_meme": {
     "current": "a06495ea-8735-11e9-8556-02420a010127",
     "history": [
      {
       "current": "a06495ea-8735-11e9-8556-02420a010127",
       "next": "d8d80016-8734-11e9-8556-02420a010127",
       "previous": "d9dbbb28-6be2-11e9-96dc-02420a00000b"
      }
     ],
     "next": "d8d80016-8734-11e9-8556-02420a010127",
     "previous": "e0701f4a-73ef-11ea-86a9-02420a01000c"
    }
   },
   "source": [
    "**簡単な問題に答えるためにterminalとか使ってちょっと実験してみて下さい。**"
   ]
  },
  {
   "cell_type": "markdown",
   "metadata": {
    "lc_cell_meme": {
     "current": "d8d80016-8734-11e9-8556-02420a010127",
     "history": [
      {
       "current": "d8d80016-8734-11e9-8556-02420a010127",
       "next": "d8d8026e-8734-11e9-8556-02420a010127",
       "previous": "d9dbbb28-6be2-11e9-96dc-02420a00000b"
      }
     ],
     "next": "d8d8026e-8734-11e9-8556-02420a010127",
     "previous": "a06495ea-8735-11e9-8556-02420a010127"
    }
   },
   "source": [
    "**ping-e.sinet.ad.jpまでのネットワーク遅延は？**"
   ]
  },
  {
   "cell_type": "code",
   "execution_count": null,
   "metadata": {
    "lc_cell_meme": {
     "current": "d8d8026e-8734-11e9-8556-02420a010127",
     "history": [
      {
       "current": "d8d8026e-8734-11e9-8556-02420a010127",
       "next": "d8d802d2-8734-11e9-8556-02420a010127",
       "previous": "d8d80016-8734-11e9-8556-02420a010127"
      }
     ],
     "next": "d8d80016-8734-11e9-8556-02420a010127",
     "previous": "d8d80016-8734-11e9-8556-02420a010127"
    }
   },
   "outputs": [],
   "source": [
    "ANSWER_1 = input(\"PROBLEM_1= ping-e.sinet.ad.jpまでのネットワーク遅延は？\")\n",
    "print(\"ANSWER_1 ==\", ANSWER_1)"
   ]
  },
  {
   "cell_type": "markdown",
   "metadata": {
    "lc_cell_meme": {
     "current": "d8d80016-8734-11e9-8556-02420a010127",
     "history": [
      {
       "current": "d8d80016-8734-11e9-8556-02420a010127",
       "next": "d8d8026e-8734-11e9-8556-02420a010127",
       "previous": "d9dbbb28-6be2-11e9-96dc-02420a00000b"
      }
     ],
     "next": "d8d802d2-8734-11e9-8556-02420a010127",
     "previous": "d8d8026e-8734-11e9-8556-02420a010127"
    }
   },
   "source": [
    "**ping-w.sinet.ad.jpまでのネットワーク遅延は？**"
   ]
  },
  {
   "cell_type": "code",
   "execution_count": null,
   "metadata": {
    "lc_cell_meme": {
     "current": "d8d802d2-8734-11e9-8556-02420a010127",
     "history": [
      {
       "current": "d8d802d2-8734-11e9-8556-02420a010127",
       "next": null,
       "previous": "d8d8026e-8734-11e9-8556-02420a010127"
      },
      {
       "current": "d8d802d2-8734-11e9-8556-02420a010127",
       "next": null,
       "previous": "d8d80016-8734-11e9-8556-02420a010127"
      },
      {
       "current": "d8d802d2-8734-11e9-8556-02420a010127",
       "next": null,
       "previous": "d8d80016-8734-11e9-8556-02420a010127"
      },
      {
       "current": "d8d802d2-8734-11e9-8556-02420a010127",
       "next": "e0701f4a-73ef-11ea-86a9-02420a01000c",
       "previous": "d8d80016-8734-11e9-8556-02420a010127"
      }
     ],
     "next": "d8d80016-8734-11e9-8556-02420a010127",
     "previous": "d8d80016-8734-11e9-8556-02420a010127"
    }
   },
   "outputs": [],
   "source": [
    "ANSWER_2 = input(\"PROBLEM_2= ping-w.sinet.ad.jpまでのネットワーク遅延は？\")\n",
    "print(\"ANSWER_2 ==\", ANSWER_2)"
   ]
  },
  {
   "cell_type": "markdown",
   "metadata": {
    "lc_cell_meme": {
     "current": "d8d80016-8734-11e9-8556-02420a010127",
     "history": [
      {
       "current": "d8d80016-8734-11e9-8556-02420a010127",
       "next": "d8d8026e-8734-11e9-8556-02420a010127",
       "previous": "d9dbbb28-6be2-11e9-96dc-02420a00000b"
      },
      {
       "current": "d8d80016-8734-11e9-8556-02420a010127",
       "next": "d8d8026e-8734-11e9-8556-02420a010127",
       "previous": "a06495ea-8735-11e9-8556-02420a010127"
      }
     ],
     "next": "d8d802d2-8734-11e9-8556-02420a010127",
     "previous": "d8d802d2-8734-11e9-8556-02420a010127"
    }
   },
   "source": [
    "**www.imperial.ac.uk までのネットワーク遅延は？**"
   ]
  },
  {
   "cell_type": "code",
   "execution_count": null,
   "metadata": {
    "lc_cell_meme": {
     "current": "d8d802d2-8734-11e9-8556-02420a010127",
     "history": [
      {
       "current": "d8d802d2-8734-11e9-8556-02420a010127",
       "next": null,
       "previous": "d8d8026e-8734-11e9-8556-02420a010127"
      },
      {
       "current": "d8d802d2-8734-11e9-8556-02420a010127",
       "next": null,
       "previous": "d8d80016-8734-11e9-8556-02420a010127"
      },
      {
       "current": "d8d802d2-8734-11e9-8556-02420a010127",
       "next": null,
       "previous": "d8d80016-8734-11e9-8556-02420a010127"
      }
     ],
     "next": "e0701f4a-73ef-11ea-86a9-02420a01000c",
     "previous": "d8d80016-8734-11e9-8556-02420a010127"
    }
   },
   "outputs": [],
   "source": [
    "ANSWER_3 = input(\"PROBLEM_3= www.imperial.ac.uk　までのネットワーク遅延は？\")\n",
    "print(\"ANSWER_3 ==\", ANSWER_3)"
   ]
  },
  {
   "cell_type": "markdown",
   "metadata": {
    "lc_cell_meme": {
     "current": "e0701f4a-73ef-11ea-86a9-02420a01000c",
     "history": [
      {
       "current": "e0701f4a-73ef-11ea-86a9-02420a01000c",
       "next": null,
       "previous": "d8d802d2-8734-11e9-8556-02420a010127"
      },
      {
       "current": "e0701f4a-73ef-11ea-86a9-02420a01000c",
       "next": null,
       "previous": "d8d802d2-8734-11e9-8556-02420a010127"
      },
      {
       "current": "e0701f4a-73ef-11ea-86a9-02420a01000c",
       "next": null,
       "previous": "d8d802d2-8734-11e9-8556-02420a010127"
      }
     ],
     "next": "7718a35e-73f0-11ea-86a9-02420a01000c",
     "previous": "d8d802d2-8734-11e9-8556-02420a010127"
    }
   },
   "source": [
    "***【検証的実験】***"
   ]
  },
  {
   "cell_type": "markdown",
   "metadata": {
    "lc_cell_meme": {
     "current": "7718a35e-73f0-11ea-86a9-02420a01000c",
     "history": [
      {
       "current": "7718a35e-73f0-11ea-86a9-02420a01000c",
       "next": null,
       "previous": "e0701f4a-73ef-11ea-86a9-02420a01000c"
      }
     ],
     "next": "8048e150-73f0-11ea-86a9-02420a01000c",
     "previous": "e0701f4a-73ef-11ea-86a9-02420a01000c"
    }
   },
   "source": [
    "**仮説を破っているような反例を探してみましょう！**\n",
    "\n",
    "**以下に反例候補をどんどん書き出してみてください。**"
   ]
  },
  {
   "cell_type": "code",
   "execution_count": null,
   "metadata": {
    "lc_cell_meme": {
     "current": "8048e150-73f0-11ea-86a9-02420a01000c",
     "next": null,
     "previous": "7718a35e-73f0-11ea-86a9-02420a01000c"
    }
   },
   "outputs": [],
   "source": []
  }
 ],
 "metadata": {
  "kernelspec": {
   "display_name": "Python 3",
   "language": "python",
   "name": "python3"
  },
  "language_info": {
   "file_extension": ".py",
   "mimetype": "text/x-python",
   "name": "python",
   "nbconvert_exporter": "python",
   "pygments_lexer": "ipython3",
   "version": "3.7.3"
  },
  "lc_notebook_meme": {
   "current": "d9dbb4de-6be2-11e9-96dc-02420a00000b",
   "lc_server_signature": {
    "current": {
     "notebook_dir": "/home/yoko69d621",
     "notebook_path": "/textbook/nw_sec",
     "server_url": "https://nb03.ecloud.nii.ac.jp/user/yoko69d621/",
     "signature_id": "5e786c6e-5fea-11e9-b810-02420a00005a"
    },
    "history": []
   }
  },
  "toc": {
   "base_numbering": 1,
   "nav_menu": {},
   "number_sections": true,
   "sideBar": true,
   "skip_h1_title": false,
   "title_cell": "Table of Contents",
   "title_sidebar": "Contents",
   "toc_cell": false,
   "toc_position": {},
   "toc_section_display": true,
   "toc_window_display": false
  }
 },
 "nbformat": 4,
 "nbformat_minor": 2
}
