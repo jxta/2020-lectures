{
 "cells": [
  {
   "cell_type": "markdown",
   "metadata": {
    "lc_cell_meme": {
     "current": "8678ee76-9188-11e9-8556-02420a010127",
     "next": "8678eef8-9188-11e9-8556-02420a010127",
     "previous": null
    }
   },
   "source": [
    "**ルートサーバ wikiを確認してみよう**\n",
    "\n",
    "[ルートサーバ wiki](https://ja.wikipedia.org/wiki/%E3%83%AB%E3%83%BC%E3%83%88%E3%82%B5%E3%83%BC%E3%83%90)"
   ]
  },
  {
   "cell_type": "markdown",
   "metadata": {
    "lc_cell_meme": {
     "current": "8678eef8-9188-11e9-8556-02420a010127",
     "history": [
      {
       "current": "8678eef8-9188-11e9-8556-02420a010127",
       "next": "8678ef34-9188-11e9-8556-02420a010127",
       "previous": "8678ee76-9188-11e9-8556-02420a010127"
      }
     ],
     "next": "0e02a6a8-bc02-11ea-bd7d-02420a010115",
     "previous": "8678ee76-9188-11e9-8556-02420a010127"
    }
   },
   "source": [
    "**digコマンドをインストールしよう**\n",
    "\n",
    "[digコマンド wiki](https://ja.wikipedia.org/wiki/Dig_(UNIX))"
   ]
  },
  {
   "cell_type": "markdown",
   "metadata": {
    "lc_cell_meme": {
     "current": "0e02a6a8-bc02-11ea-bd7d-02420a010115",
     "next": "8678ef34-9188-11e9-8556-02420a010127",
     "previous": "8678eef8-9188-11e9-8556-02420a010127"
    }
   },
   "source": [
    "**＜実習的実験＞**"
   ]
  },
  {
   "cell_type": "code",
   "execution_count": null,
   "metadata": {
    "lc_cell_meme": {
     "current": "8678ef34-9188-11e9-8556-02420a010127",
     "history": [
      {
       "current": "8678ef34-9188-11e9-8556-02420a010127",
       "next": "8678ef66-9188-11e9-8556-02420a010127",
       "previous": "8678eef8-9188-11e9-8556-02420a010127"
      }
     ],
     "next": "8678ef66-9188-11e9-8556-02420a010127",
     "previous": "0e02a6a8-bc02-11ea-bd7d-02420a010115"
    },
    "lc_wrapper": {
     "log_history": [
      "/home/yoko69d621/textbook/nw_sec/.log/20200702/20200702-010729-0110.log"
     ]
    }
   },
   "outputs": [],
   "source": [
    "!sudo apt-get update; sudo apt-get install dnsutils -y"
   ]
  },
  {
   "cell_type": "markdown",
   "metadata": {
    "lc_cell_meme": {
     "current": "8678ef66-9188-11e9-8556-02420a010127",
     "next": "8678ef98-9188-11e9-8556-02420a010127",
     "previous": "8678ef34-9188-11e9-8556-02420a010127"
    }
   },
   "source": [
    "**digコマンドを使ってみよう**"
   ]
  },
  {
   "cell_type": "code",
   "execution_count": null,
   "metadata": {
    "lc_cell_meme": {
     "current": "8678ef98-9188-11e9-8556-02420a010127",
     "next": "8678efca-9188-11e9-8556-02420a010127",
     "previous": "8678ef66-9188-11e9-8556-02420a010127"
    },
    "lc_wrapper": {
     "log_history": [
      "/home/yoko69d621/textbook/nw_sec/.log/20200702/20200702-010855-0035.log"
     ]
    }
   },
   "outputs": [],
   "source": [
    "!dig @m.root-servers.net www.google.com"
   ]
  },
  {
   "cell_type": "code",
   "execution_count": null,
   "metadata": {
    "lc_cell_meme": {
     "current": "8678efca-9188-11e9-8556-02420a010127",
     "history": [
      {
       "current": "8678efca-9188-11e9-8556-02420a010127",
       "next": "8678eff2-9188-11e9-8556-02420a010127",
       "previous": "8678ef98-9188-11e9-8556-02420a010127"
      }
     ],
     "next": "8678efca-9188-11e9-8556-02420a010127",
     "previous": "8678ef98-9188-11e9-8556-02420a010127"
    },
    "lc_wrapper": {
     "log_history": [
      "/home/yoko69d621/textbook/nw_sec/.log/20200702/20200702-011016-0792.log"
     ]
    }
   },
   "outputs": [],
   "source": [
    "!dig @m.gtld-servers.net www.google.com"
   ]
  },
  {
   "cell_type": "code",
   "execution_count": null,
   "metadata": {
    "lc_cell_meme": {
     "current": "8678efca-9188-11e9-8556-02420a010127",
     "history": [
      {
       "current": "8678efca-9188-11e9-8556-02420a010127",
       "next": "8678eff2-9188-11e9-8556-02420a010127",
       "previous": "8678ef98-9188-11e9-8556-02420a010127"
      }
     ],
     "next": "8678eff2-9188-11e9-8556-02420a010127",
     "previous": "8678efca-9188-11e9-8556-02420a010127"
    },
    "lc_wrapper": {
     "log_history": [
      "/home/yoko69d621/textbook/nw_sec/.log/20200702/20200702-011109-0260.log"
     ]
    }
   },
   "outputs": [],
   "source": [
    "!dig @l.gtld-servers.net www.google.com"
   ]
  },
  {
   "cell_type": "code",
   "execution_count": null,
   "metadata": {
    "lc_cell_meme": {
     "current": "8678eff2-9188-11e9-8556-02420a010127",
     "next": "8678f024-9188-11e9-8556-02420a010127",
     "previous": "8678efca-9188-11e9-8556-02420a010127"
    },
    "lc_wrapper": {
     "log_history": [
      "/home/yoko69d621/textbook/nw_sec/.log/20200702/20200702-011121-0749.log"
     ]
    }
   },
   "outputs": [],
   "source": [
    "!dig @ns3.google.com www.google.com"
   ]
  },
  {
   "cell_type": "code",
   "execution_count": null,
   "metadata": {
    "lc_cell_meme": {
     "current": "8678f024-9188-11e9-8556-02420a010127",
     "next": "8678f056-9188-11e9-8556-02420a010127",
     "previous": "8678eff2-9188-11e9-8556-02420a010127"
    },
    "lc_wrapper": {
     "log_history": [
      "/home/yoko69d621/textbook/nw_sec/.log/20200702/20200702-011318-0006.log",
      "/home/yoko69d621/textbook/nw_sec/.log/20200702/20200702-011638-0586.log",
      "/home/yoko69d621/textbook/nw_sec/.log/20200702/20200702-011743-0095.log",
      "/home/yoko69d621/textbook/nw_sec/.log/20200702/20200702-011813-0444.log"
     ]
    }
   },
   "outputs": [],
   "source": [
    "!dig www.gunma-u.ac.jp"
   ]
  },
  {
   "cell_type": "code",
   "execution_count": null,
   "metadata": {
    "lc_cell_meme": {
     "current": "8678f056-9188-11e9-8556-02420a010127",
     "next": "8678f092-9188-11e9-8556-02420a010127",
     "previous": "8678f024-9188-11e9-8556-02420a010127"
    },
    "lc_wrapper": {
     "log_history": [
      "/home/yoko69d621/textbook/nw_sec/.log/20200702/20200702-011818-0646.log"
     ]
    }
   },
   "outputs": [],
   "source": [
    "!dig @8.8.8.8 www.gunma-u.ac.jp"
   ]
  },
  {
   "cell_type": "code",
   "execution_count": null,
   "metadata": {
    "lc_cell_meme": {
     "current": "8678f092-9188-11e9-8556-02420a010127",
     "history": [
      {
       "current": "8678f092-9188-11e9-8556-02420a010127",
       "next": null,
       "previous": "8678f056-9188-11e9-8556-02420a010127"
      },
      {
       "current": "8678f092-9188-11e9-8556-02420a010127",
       "next": "584cb278-9195-11e9-8556-02420a010127",
       "previous": "8678f056-9188-11e9-8556-02420a010127"
      }
     ],
     "next": "0e02a6a8-bc02-11ea-bd7d-02420a010115",
     "previous": "8678f056-9188-11e9-8556-02420a010127"
    },
    "lc_wrapper": {
     "log_history": [
      "/home/yoko69d621/textbook/nw_sec/.log/20200702/20200702-011826-0292.log"
     ]
    }
   },
   "outputs": [],
   "source": [
    "!dig @nse01.gunma-u.ac.jp www.gunma-u.ac.jp"
   ]
  },
  {
   "cell_type": "markdown",
   "metadata": {
    "lc_cell_meme": {
     "current": "0e02a6a8-bc02-11ea-bd7d-02420a010115",
     "history": [
      {
       "current": "0e02a6a8-bc02-11ea-bd7d-02420a010115",
       "next": "8678ef34-9188-11e9-8556-02420a010127",
       "previous": "8678eef8-9188-11e9-8556-02420a010127"
      },
      {
       "current": "0e02a6a8-bc02-11ea-bd7d-02420a010115",
       "next": "8678ef34-9188-11e9-8556-02420a010127",
       "previous": "8678eef8-9188-11e9-8556-02420a010127"
      },
      {
       "current": "0e02a6a8-bc02-11ea-bd7d-02420a010115",
       "next": null,
       "previous": "584cb278-9195-11e9-8556-02420a010127"
      },
      {
       "current": "0e02a6a8-bc02-11ea-bd7d-02420a010115",
       "next": null,
       "previous": "584cb278-9195-11e9-8556-02420a010127"
      },
      {
       "current": "0e02a6a8-bc02-11ea-bd7d-02420a010115",
       "next": null,
       "previous": "9d149946-bc02-11ea-bd7d-02420a010115"
      }
     ],
     "next": "584cb278-9195-11e9-8556-02420a010127",
     "previous": "8678f092-9188-11e9-8556-02420a010127"
    }
   },
   "source": [
    "**＜発見的実験＞**"
   ]
  },
  {
   "cell_type": "markdown",
   "metadata": {
    "lc_cell_meme": {
     "current": "584cb278-9195-11e9-8556-02420a010127",
     "history": [
      {
       "current": "584cb278-9195-11e9-8556-02420a010127",
       "next": "584cb55c-9195-11e9-8556-02420a010127",
       "previous": "8678f092-9188-11e9-8556-02420a010127"
      }
     ],
     "next": "584cb55c-9195-11e9-8556-02420a010127",
     "previous": "0e02a6a8-bc02-11ea-bd7d-02420a010115"
    }
   },
   "source": [
    "**日本にあるDNSルートサーバについて聞きます。**"
   ]
  },
  {
   "cell_type": "code",
   "execution_count": null,
   "metadata": {
    "lc_cell_meme": {
     "current": "584cb55c-9195-11e9-8556-02420a010127",
     "history": [
      {
       "current": "584cb55c-9195-11e9-8556-02420a010127",
       "next": null,
       "previous": "584cb278-9195-11e9-8556-02420a010127"
      }
     ],
     "next": "9fed3ada-9195-11e9-8556-02420a010127",
     "previous": "584cb278-9195-11e9-8556-02420a010127"
    }
   },
   "outputs": [],
   "source": [
    "ANSWER_1 = input(\"PROBLEM_1= 日本にあるDNSルートサーバのホスト名は？\")\n",
    "print(\"ANSWER_1 ==\", ANSWER_1)"
   ]
  },
  {
   "cell_type": "code",
   "execution_count": null,
   "metadata": {
    "lc_cell_meme": {
     "current": "9fed3ada-9195-11e9-8556-02420a010127",
     "history": [
      {
       "current": "9fed3ada-9195-11e9-8556-02420a010127",
       "next": null,
       "previous": "584cb55c-9195-11e9-8556-02420a010127"
      },
      {
       "current": "9fed3ada-9195-11e9-8556-02420a010127",
       "next": "584cb278-9195-11e9-8556-02420a010127",
       "previous": "584cb55c-9195-11e9-8556-02420a010127"
      }
     ],
     "next": "0e02a6a8-bc02-11ea-bd7d-02420a010115",
     "previous": "584cb55c-9195-11e9-8556-02420a010127"
    }
   },
   "outputs": [],
   "source": [
    "ANSWER_2 = input(\"PROBLEM_2= 日本にあるDNSルートサーバのIPアドレスは？\")\n",
    "print(\"ANSWER_2 ==\", ANSWER_2)"
   ]
  },
  {
   "cell_type": "markdown",
   "metadata": {
    "lc_cell_meme": {
     "current": "0e02a6a8-bc02-11ea-bd7d-02420a010115",
     "history": [
      {
       "current": "0e02a6a8-bc02-11ea-bd7d-02420a010115",
       "next": "8678ef34-9188-11e9-8556-02420a010127",
       "previous": "8678eef8-9188-11e9-8556-02420a010127"
      },
      {
       "current": "0e02a6a8-bc02-11ea-bd7d-02420a010115",
       "next": "8678ef34-9188-11e9-8556-02420a010127",
       "previous": "8678eef8-9188-11e9-8556-02420a010127"
      },
      {
       "current": "0e02a6a8-bc02-11ea-bd7d-02420a010115",
       "next": null,
       "previous": "584cb278-9195-11e9-8556-02420a010127"
      },
      {
       "current": "0e02a6a8-bc02-11ea-bd7d-02420a010115",
       "next": null,
       "previous": "584cb278-9195-11e9-8556-02420a010127"
      },
      {
       "current": "0e02a6a8-bc02-11ea-bd7d-02420a010115",
       "next": null,
       "previous": "9d149946-bc02-11ea-bd7d-02420a010115"
      }
     ],
     "next": "584cb278-9195-11e9-8556-02420a010127",
     "previous": "9fed3ada-9195-11e9-8556-02420a010127"
    }
   },
   "source": [
    "**＜検証的実験＞**"
   ]
  },
  {
   "cell_type": "markdown",
   "metadata": {
    "lc_cell_meme": {
     "current": "584cb278-9195-11e9-8556-02420a010127",
     "history": [
      {
       "current": "584cb278-9195-11e9-8556-02420a010127",
       "next": "584cb55c-9195-11e9-8556-02420a010127",
       "previous": "8678f092-9188-11e9-8556-02420a010127"
      },
      {
       "current": "584cb278-9195-11e9-8556-02420a010127",
       "next": "0e02a6a8-bc02-11ea-bd7d-02420a010115",
       "previous": "9fed3ada-9195-11e9-8556-02420a010127"
      },
      {
       "current": "584cb278-9195-11e9-8556-02420a010127",
       "next": "9d149946-bc02-11ea-bd7d-02420a010115",
       "previous": "9fed3ada-9195-11e9-8556-02420a010127"
      }
     ],
     "next": "9d149946-bc02-11ea-bd7d-02420a010115",
     "previous": "0e02a6a8-bc02-11ea-bd7d-02420a010115"
    }
   },
   "source": [
    "**そのDNSルートサーバから順にDNSサーバの階層をたどって自分の興味のあるサイトのIPアドレスを調べてみましょう。**"
   ]
  },
  {
   "cell_type": "code",
   "execution_count": null,
   "metadata": {
    "lc_cell_meme": {
     "current": "9d149946-bc02-11ea-bd7d-02420a010115",
     "next": null,
     "previous": "584cb278-9195-11e9-8556-02420a010127"
    },
    "lc_wrapper": {
     "log_history": [
      "/home/yoko69d621/textbook/nw_sec/.log/20200702/20200702-012326-0464.log",
      "/home/yoko69d621/textbook/nw_sec/.log/20200702/20200702-012409-0630.log"
     ]
    }
   },
   "outputs": [],
   "source": [
    "# 以下に　そのための　digコマンド　を書いて行きましょう！\n",
    "\n"
   ]
  }
 ],
 "metadata": {
  "kernelspec": {
   "display_name": "Python 3",
   "language": "python",
   "name": "python3"
  },
  "language_info": {
   "file_extension": ".py",
   "mimetype": "text/x-python",
   "name": "python",
   "nbconvert_exporter": "python",
   "pygments_lexer": "ipython3",
   "version": "3.7.3"
  },
  "lc_notebook_meme": {
   "current": "8678eba6-9188-11e9-8556-02420a010127",
   "lc_server_signature": {
    "current": {
     "notebook_dir": "/home/yoko69d621",
     "notebook_path": "/textbook/nw_sec",
     "server_url": "https://nb03.ecloud.nii.ac.jp/user/yoko69d621/",
     "signature_id": "5e786c6e-5fea-11e9-b810-02420a00005a"
    },
    "history": []
   }
  },
  "toc": {
   "base_numbering": 1,
   "nav_menu": {},
   "number_sections": true,
   "sideBar": true,
   "skip_h1_title": false,
   "title_cell": "Table of Contents",
   "title_sidebar": "Contents",
   "toc_cell": false,
   "toc_position": {},
   "toc_section_display": true,
   "toc_window_display": false
  }
 },
 "nbformat": 4,
 "nbformat_minor": 2
}
