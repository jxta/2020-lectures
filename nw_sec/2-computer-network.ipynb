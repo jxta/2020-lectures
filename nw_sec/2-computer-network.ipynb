{
 "cells": [
  {
   "cell_type": "markdown",
   "metadata": {
    "lc_cell_meme": {
     "current": "c8f3afee-60db-11e9-b810-02420a00005a",
     "next": "c8f3b05c-60db-11e9-b810-02420a00005a",
     "previous": null
    }
   },
   "source": [
    "**コンピュータネットワークを使ってみよう** （Jupyter notebookのcell内では　**!**の後にLinuxコマンドを書くとコマンドが実行できる。）"
   ]
  },
  {
   "cell_type": "markdown",
   "metadata": {
    "lc_cell_meme": {
     "current": "c8f3b05c-60db-11e9-b810-02420a00005a",
     "next": "c8f3b098-60db-11e9-b810-02420a00005a",
     "previous": "c8f3afee-60db-11e9-b810-02420a00005a"
    }
   },
   "source": [
    "**curlコマンドをインストール**　　https://ja.wikipedia.org/wiki/CURL"
   ]
  },
  {
   "cell_type": "code",
   "execution_count": null,
   "metadata": {
    "lc_cell_meme": {
     "current": "c8f3b098-60db-11e9-b810-02420a00005a",
     "next": "c8f3b0d4-60db-11e9-b810-02420a00005a",
     "previous": "c8f3b05c-60db-11e9-b810-02420a00005a"
    }
   },
   "outputs": [],
   "source": [
    "!sudo apt-get update; sudo apt-get install curl -y"
   ]
  },
  {
   "cell_type": "markdown",
   "metadata": {
    "lc_cell_meme": {
     "current": "c8f3b0d4-60db-11e9-b810-02420a00005a",
     "next": "c8f3b106-60db-11e9-b810-02420a00005a",
     "previous": "c8f3b098-60db-11e9-b810-02420a00005a"
    }
   },
   "source": [
    "**出席管理用　etherpad https://etherpad.opendev.org/p/2020-nw-sec-ac から　curlコマンドで情報を取得**"
   ]
  },
  {
   "cell_type": "code",
   "execution_count": null,
   "metadata": {
    "lc_cell_meme": {
     "current": "c8f3b106-60db-11e9-b810-02420a00005a",
     "next": "c8f3b12e-60db-11e9-b810-02420a00005a",
     "previous": "c8f3b0d4-60db-11e9-b810-02420a00005a"
    },
    "lc_wrapper": {
     "log_history": [
      "/home/yoko69d621/textbook/nw_sec/.log/20200401/20200401-022302-0654.log",
      "/home/yoko69d621/textbook/nw_sec/.log/20200401/20200401-022539-0873.log"
     ]
    }
   },
   "outputs": [],
   "source": [
    "!curl https://etherpad.opendev.org/p/2020-nw-sec-ac/export/txt"
   ]
  },
  {
   "cell_type": "markdown",
   "metadata": {
    "lc_cell_meme": {
     "current": "c8f3b12e-60db-11e9-b810-02420a00005a",
     "next": "c8f3b160-60db-11e9-b810-02420a00005a",
     "previous": "c8f3b106-60db-11e9-b810-02420a00005a"
    }
   },
   "source": [
    "**では簡単な問題に回答して理解度チェック**"
   ]
  },
  {
   "cell_type": "markdown",
   "metadata": {
    "lc_cell_meme": {
     "current": "c8f3b160-60db-11e9-b810-02420a00005a",
     "next": "c8f3b192-60db-11e9-b810-02420a00005a",
     "previous": "c8f3b12e-60db-11e9-b810-02420a00005a"
    }
   },
   "source": [
    "**【問題１】**　<br>\n",
    "**出席簿ではなくQ&Aとかがある講義のetherpadページを表示することはできますか？**　<br>\n",
    "**そのコマンドを作って実行してみましょう**"
   ]
  },
  {
   "cell_type": "code",
   "execution_count": null,
   "metadata": {
    "lc_cell_meme": {
     "current": "c8f3b192-60db-11e9-b810-02420a00005a",
     "history": [
      {
       "current": "c8f3b192-60db-11e9-b810-02420a00005a",
       "next": null,
       "previous": "c8f3b160-60db-11e9-b810-02420a00005a"
      }
     ],
     "next": "c8f3b160-60db-11e9-b810-02420a00005a",
     "previous": "c8f3b160-60db-11e9-b810-02420a00005a"
    }
   },
   "outputs": [],
   "source": [
    "##ここの下の行にコマンドを記述して実行してみてください。\n"
   ]
  },
  {
   "cell_type": "markdown",
   "metadata": {
    "lc_cell_meme": {
     "current": "c8f3b160-60db-11e9-b810-02420a00005a",
     "history": [
      {
       "current": "c8f3b160-60db-11e9-b810-02420a00005a",
       "next": "c8f3b192-60db-11e9-b810-02420a00005a",
       "previous": "c8f3b12e-60db-11e9-b810-02420a00005a"
      },
      {
       "current": "c8f3b160-60db-11e9-b810-02420a00005a",
       "next": null,
       "previous": "c8f3b192-60db-11e9-b810-02420a00005a"
      }
     ],
     "next": "c8f3b192-60db-11e9-b810-02420a00005a",
     "previous": "c8f3b192-60db-11e9-b810-02420a00005a"
    }
   },
   "source": [
    "**【問題２】**　<br>\n",
    "**!curl https://etherpad.opendev.org/p/2020-nw-sec-ac　という風にURLの最後の/export/txtを外して実行するとどうなりますか？**<br>\n",
    "**実行する前に考えて、どうなるか想像してから、実際に実行してみてください**"
   ]
  },
  {
   "cell_type": "code",
   "execution_count": null,
   "metadata": {
    "lc_cell_meme": {
     "current": "c8f3b192-60db-11e9-b810-02420a00005a",
     "history": [
      {
       "current": "c8f3b192-60db-11e9-b810-02420a00005a",
       "next": null,
       "previous": "c8f3b160-60db-11e9-b810-02420a00005a"
      },
      {
       "current": "c8f3b192-60db-11e9-b810-02420a00005a",
       "next": null,
       "previous": "c8f3b160-60db-11e9-b810-02420a00005a"
      }
     ],
     "next": "c8f3b160-60db-11e9-b810-02420a00005a",
     "previous": "c8f3b160-60db-11e9-b810-02420a00005a"
    }
   },
   "outputs": [],
   "source": [
    "##ここの下の行にコマンドを記述して実行してみてください。\n"
   ]
  },
  {
   "cell_type": "markdown",
   "metadata": {
    "lc_cell_meme": {
     "current": "c8f3b160-60db-11e9-b810-02420a00005a",
     "history": [
      {
       "current": "c8f3b160-60db-11e9-b810-02420a00005a",
       "next": "c8f3b192-60db-11e9-b810-02420a00005a",
       "previous": "c8f3b12e-60db-11e9-b810-02420a00005a"
      },
      {
       "current": "c8f3b160-60db-11e9-b810-02420a00005a",
       "next": null,
       "previous": "c8f3b192-60db-11e9-b810-02420a00005a"
      }
     ],
     "next": "c8f3b192-60db-11e9-b810-02420a00005a",
     "previous": "c8f3b192-60db-11e9-b810-02420a00005a"
    }
   },
   "source": [
    "**【問題３】**　<br>\n",
    "**curlコマンドを使って何か面白ことをやってみてください！**   参考情報：https://www.liquidweb.com/kb/fun-with-curl/"
   ]
  },
  {
   "cell_type": "code",
   "execution_count": null,
   "metadata": {
    "lc_cell_meme": {
     "current": "c8f3b192-60db-11e9-b810-02420a00005a",
     "history": [
      {
       "current": "c8f3b192-60db-11e9-b810-02420a00005a",
       "next": null,
       "previous": "c8f3b160-60db-11e9-b810-02420a00005a"
      }
     ],
     "next": null,
     "previous": "c8f3b160-60db-11e9-b810-02420a00005a"
    },
    "lc_wrapper": {
     "log_history": [
      "/home/yoko69d621/textbook/nw_sec/.log/20200511/20200511-042116-0460.log",
      "/home/yoko69d621/textbook/nw_sec/.log/20200511/20200511-042121-0701.log",
      "/home/yoko69d621/textbook/nw_sec/.log/20200511/20200511-043228-0814.log"
     ]
    }
   },
   "outputs": [],
   "source": [
    "##ここの下の行にコマンドを記述して実行してみてください。\n"
   ]
  }
 ],
 "metadata": {
  "kernelspec": {
   "display_name": "Python 3",
   "language": "python",
   "name": "python3"
  },
  "language_info": {
   "file_extension": ".py",
   "mimetype": "text/x-python",
   "name": "python",
   "nbconvert_exporter": "python",
   "pygments_lexer": "ipython3",
   "version": "3.7.3"
  },
  "lc_notebook_meme": {
   "current": "c8f3adb4-60db-11e9-b810-02420a00005a",
   "lc_server_signature": {
    "current": {
     "notebook_dir": "/home/yoko69d621",
     "notebook_path": "/textbook/nw_sec",
     "server_url": "https://nb03.ecloud.nii.ac.jp/user/yoko69d621/",
     "signature_id": "5e786c6e-5fea-11e9-b810-02420a00005a"
    },
    "history": []
   }
  },
  "toc": {
   "base_numbering": 1,
   "nav_menu": {},
   "number_sections": true,
   "sideBar": true,
   "skip_h1_title": false,
   "title_cell": "Table of Contents",
   "title_sidebar": "Contents",
   "toc_cell": false,
   "toc_position": {},
   "toc_section_display": true,
   "toc_window_display": false
  }
 },
 "nbformat": 4,
 "nbformat_minor": 2
}
