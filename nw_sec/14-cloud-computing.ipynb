{
 "cells": [
  {
   "cell_type": "markdown",
   "metadata": {
    "lc_cell_meme": {
     "current": "762cc46c-9f06-11e9-8556-02420a010127",
     "next": "762cc4ee-9f06-11e9-8556-02420a010127",
     "previous": null
    }
   },
   "source": [
    "**OpenStakc Web APIを使って仮想マシンを操作してみよう** 　　\n",
    "\n",
    "API referenceは　　\n",
    "\n",
    "https://developer.openstack.org/ja/api-guide/quick-start/　　\n",
    "\n",
    "https://developer.openstack.org/api-ref/identity/v2/　　\n",
    "\n",
    "https://developer.openstack.org/api-ref/compute/"
   ]
  },
  {
   "cell_type": "markdown",
   "metadata": {
    "lc_cell_meme": {
     "current": "762cc4ee-9f06-11e9-8556-02420a010127",
     "next": "762cc52a-9f06-11e9-8556-02420a010127",
     "previous": "762cc46c-9f06-11e9-8556-02420a010127"
    }
   },
   "source": [
    "**まず　APIを使う時の認証に必要なtokenを　usernameとpasswordを　identity manager に問い合わせて獲得** 　　\n",
    "\n",
    "token のところの　idに現れる　文字列がそれ。但し、一定時間経つと　expireするので使えなくなる　　\n",
    "\n",
    "token は以降　APIを呼び出すたびに必要となる"
   ]
  },
  {
   "cell_type": "code",
   "execution_count": null,
   "metadata": {
    "lc_cell_meme": {
     "current": "762cc52a-9f06-11e9-8556-02420a010127",
     "history": [
      {
       "current": "762cc52a-9f06-11e9-8556-02420a010127",
       "next": "762cc55c-9f06-11e9-8556-02420a010127",
       "previous": "762cc4ee-9f06-11e9-8556-02420a010127"
      }
     ],
     "next": "762cc7d2-9f06-11e9-8556-02420a010127",
     "previous": "762cc4ee-9f06-11e9-8556-02420a010127"
    }
   },
   "outputs": [],
   "source": [
    "!sudo apt-get update;sudo apt-get install curl -y"
   ]
  },
  {
   "cell_type": "code",
   "execution_count": 1,
   "metadata": {
    "lc_cell_meme": {
     "current": "762cc7d2-9f06-11e9-8556-02420a010127",
     "history": [
      {
       "current": "762cc7d2-9f06-11e9-8556-02420a010127",
       "next": null,
       "previous": "762cc7a0-9f06-11e9-8556-02420a010127"
      }
     ],
     "next": "762cc55c-9f06-11e9-8556-02420a010127",
     "previous": "762cc52a-9f06-11e9-8556-02420a010127"
    }
   },
   "outputs": [
    {
     "name": "stdout",
     "output_type": "stream",
     "text": [
      "env: OS_AUTH_URL=http://133.8.140.97:5000/v3\n",
      "env: OS_PROJECT_NAME=students\n",
      "env: OS_USERNAME=jxta\n",
      "env: OS_PASSWORD=Gunma-u#\n",
      "env: OS_PROJECT_DOMAIN_NAME=default\n",
      "env: OS_USER_DOMAIN_NAME=default\n",
      "env: NOVA_END_POINT=http://133.8.140.97:8774/v2.1/8126d5a8dd0743f9afc9a9c5975622d8\n"
     ]
    }
   ],
   "source": [
    "%env OS_AUTH_URL=http://133.8.140.97:5000/v3\n",
    "%env OS_PROJECT_NAME=students\n",
    "%env OS_USERNAME=jxta\n",
    "%env OS_PASSWORD=Gunma-u#\n",
    "%env OS_PROJECT_DOMAIN_NAME=default\n",
    "%env OS_USER_DOMAIN_NAME=default\n",
    "%env NOVA_END_POINT=http://133.8.140.97:8774/v2.1/8126d5a8dd0743f9afc9a9c5975622d8"
   ]
  },
  {
   "cell_type": "code",
   "execution_count": 2,
   "metadata": {
    "lc_cell_meme": {
     "current": "762cc55c-9f06-11e9-8556-02420a010127",
     "history": [
      {
       "current": "762cc55c-9f06-11e9-8556-02420a010127",
       "next": "762cc58e-9f06-11e9-8556-02420a010127",
       "previous": "762cc52a-9f06-11e9-8556-02420a010127"
      }
     ],
     "next": "762cc58e-9f06-11e9-8556-02420a010127",
     "previous": "762cc7d2-9f06-11e9-8556-02420a010127"
    }
   },
   "outputs": [
    {
     "name": "stdout",
     "output_type": "stream",
     "text": [
      "*   Trying 133.8.140.97:5000...\n",
      "* TCP_NODELAY set\n",
      "* Connected to 133.8.140.97 (133.8.140.97) port 5000 (#0)\n",
      "> POST /v3/auth/tokens?nocatalog HTTP/1.1\n",
      "> Host: 133.8.140.97:5000\n",
      "> User-Agent: curl/7.68.0\n",
      "> Accept: */*\n",
      "> Content-Type: application/json\n",
      "> Content-Length: 230\n",
      "> \n",
      "} [230 bytes data]\n",
      "* upload completely sent off: 230 out of 230 bytes\n",
      "* Mark bundle as not supporting multiuse\n",
      "< HTTP/1.1 201 CREATED\n",
      "< Date: Wed, 12 Aug 2020 05:08:06 GMT\n",
      "< Server: Apache\n",
      "< X-Subject-Token: gAAAAABfM3k2SHruCU3fddsMOOSXomoEuae0tELVV4EbAEUhNwP2WevvS6F5X52OpoCNDJl9usKfLE5jwpDhCAwuBot6pcjh3ehFQeN7MKm6J2ZobItBzNS8rkDDt9VSFzHxGswoo6QeOKYUdwb2OP2EFHOdmHCS3v4ih707LlcoKl6Db-7KRtg\n",
      "< Vary: X-Auth-Token\n",
      "< x-openstack-request-id: req-e301805f-dd6a-4c44-9f97-3263bd226aaf\n",
      "< Content-Length: 529\n",
      "< Content-Type: application/json\n",
      "< \n",
      "{ [529 bytes data]\n",
      "* Connection #0 to host 133.8.140.97 left intact\n",
      "{\n",
      "    \"token\": {\n",
      "        \"is_domain\": false,\n",
      "        \"methods\": [\n",
      "            \"password\"\n",
      "        ],\n",
      "        \"roles\": [\n",
      "            {\n",
      "                \"id\": \"c6dda62a37a14276b07d1936c299441a\",\n",
      "                \"name\": \"_member_\"\n",
      "            }\n",
      "        ],\n",
      "        \"expires_at\": \"2020-08-12T06:08:06.000000Z\",\n",
      "        \"project\": {\n",
      "            \"domain\": {\n",
      "                \"id\": \"default\",\n",
      "                \"name\": \"Default\"\n",
      "            },\n",
      "            \"id\": \"8126d5a8dd0743f9afc9a9c5975622d8\",\n",
      "            \"name\": \"students\"\n",
      "        },\n",
      "        \"user\": {\n",
      "            \"password_expires_at\": null,\n",
      "            \"domain\": {\n",
      "                \"id\": \"default\",\n",
      "                \"name\": \"Default\"\n",
      "            },\n",
      "            \"id\": \"f7a3f3ae2c064b8994e82363112eb752\",\n",
      "            \"name\": \"jxta\"\n",
      "        },\n",
      "        \"audit_ids\": [\n",
      "            \"k9gj6lpgSnumGLknoU5VLQ\"\n",
      "        ],\n",
      "        \"issued_at\": \"2020-08-12T05:08:06.000000Z\"\n",
      "    }\n",
      "}\n"
     ]
    }
   ],
   "source": [
    "!curl -v -s -X POST $OS_AUTH_URL/auth/tokens?nocatalog   -H \"Content-Type: application/json\"   -d '{ \"auth\": { \"identity\": { \"methods\": [\"password\"],\"password\": {\"user\": {\"domain\": {\"name\": \"'\"$OS_USER_DOMAIN_NAME\"'\"},\"name\": \"'\"$OS_USERNAME\"'\", \"password\": \"'\"$OS_PASSWORD\"'\"} } }, \"scope\": { \"project\": { \"domain\": { \"name\": \"'\"$OS_PROJECT_DOMAIN_NAME\"'\" }, \"name\":  \"'\"$OS_PROJECT_NAME\"'\" } } }}' \\\n",
    "| python -m json.tool"
   ]
  },
  {
   "cell_type": "code",
   "execution_count": 3,
   "metadata": {
    "lc_cell_meme": {
     "current": "762cc58e-9f06-11e9-8556-02420a010127",
     "next": "762cc5c0-9f06-11e9-8556-02420a010127",
     "previous": "762cc55c-9f06-11e9-8556-02420a010127"
    }
   },
   "outputs": [
    {
     "name": "stdout",
     "output_type": "stream",
     "text": [
      "env: X_Auth_Token=\"gAAAAABfM3k2SHruCU3fddsMOOSXomoEuae0tELVV4EbAEUhNwP2WevvS6F5X52OpoCNDJl9usKfLE5jwpDhCAwuBot6pcjh3ehFQeN7MKm6J2ZobItBzNS8rkDDt9VSFzHxGswoo6QeOKYUdwb2OP2EFHOdmHCS3v4ih707LlcoKl6Db-7KRtg\"\n"
     ]
    }
   ],
   "source": [
    "%env X_Auth_Token=\"gAAAAABfM3k2SHruCU3fddsMOOSXomoEuae0tELVV4EbAEUhNwP2WevvS6F5X52OpoCNDJl9usKfLE5jwpDhCAwuBot6pcjh3ehFQeN7MKm6J2ZobItBzNS8rkDDt9VSFzHxGswoo6QeOKYUdwb2OP2EFHOdmHCS3v4ih707LlcoKl6Db-7KRtg\""
   ]
  },
  {
   "cell_type": "code",
   "execution_count": 4,
   "metadata": {
    "lc_cell_meme": {
     "current": "762cc5c0-9f06-11e9-8556-02420a010127",
     "next": "762cc5f2-9f06-11e9-8556-02420a010127",
     "previous": "762cc58e-9f06-11e9-8556-02420a010127"
    }
   },
   "outputs": [
    {
     "name": "stdout",
     "output_type": "stream",
     "text": [
      "{\r\n",
      "    \"flavors\": [\r\n",
      "        {\r\n",
      "            \"id\": \"1\",\r\n",
      "            \"links\": [\r\n",
      "                {\r\n",
      "                    \"href\": \"http://133.8.140.97:8774/v2.1/8126d5a8dd0743f9afc9a9c5975622d8/flavors/1\",\r\n",
      "                    \"rel\": \"self\"\r\n",
      "                },\r\n",
      "                {\r\n",
      "                    \"href\": \"http://133.8.140.97:8774/8126d5a8dd0743f9afc9a9c5975622d8/flavors/1\",\r\n",
      "                    \"rel\": \"bookmark\"\r\n",
      "                }\r\n",
      "            ],\r\n",
      "            \"name\": \"m1.tiny\"\r\n",
      "        },\r\n",
      "        {\r\n",
      "            \"id\": \"2\",\r\n",
      "            \"links\": [\r\n",
      "                {\r\n",
      "                    \"href\": \"http://133.8.140.97:8774/v2.1/8126d5a8dd0743f9afc9a9c5975622d8/flavors/2\",\r\n",
      "                    \"rel\": \"self\"\r\n",
      "                },\r\n",
      "                {\r\n",
      "                    \"href\": \"http://133.8.140.97:8774/8126d5a8dd0743f9afc9a9c5975622d8/flavors/2\",\r\n",
      "                    \"rel\": \"bookmark\"\r\n",
      "                }\r\n",
      "            ],\r\n",
      "            \"name\": \"m1.small\"\r\n",
      "        },\r\n",
      "        {\r\n",
      "            \"id\": \"3\",\r\n",
      "            \"links\": [\r\n",
      "                {\r\n",
      "                    \"href\": \"http://133.8.140.97:8774/v2.1/8126d5a8dd0743f9afc9a9c5975622d8/flavors/3\",\r\n",
      "                    \"rel\": \"self\"\r\n",
      "                },\r\n",
      "                {\r\n",
      "                    \"href\": \"http://133.8.140.97:8774/8126d5a8dd0743f9afc9a9c5975622d8/flavors/3\",\r\n",
      "                    \"rel\": \"bookmark\"\r\n",
      "                }\r\n",
      "            ],\r\n",
      "            \"name\": \"m1.medium\"\r\n",
      "        },\r\n",
      "        {\r\n",
      "            \"id\": \"4\",\r\n",
      "            \"links\": [\r\n",
      "                {\r\n",
      "                    \"href\": \"http://133.8.140.97:8774/v2.1/8126d5a8dd0743f9afc9a9c5975622d8/flavors/4\",\r\n",
      "                    \"rel\": \"self\"\r\n",
      "                },\r\n",
      "                {\r\n",
      "                    \"href\": \"http://133.8.140.97:8774/8126d5a8dd0743f9afc9a9c5975622d8/flavors/4\",\r\n",
      "                    \"rel\": \"bookmark\"\r\n",
      "                }\r\n",
      "            ],\r\n",
      "            \"name\": \"m1.large\"\r\n",
      "        },\r\n",
      "        {\r\n",
      "            \"id\": \"5\",\r\n",
      "            \"links\": [\r\n",
      "                {\r\n",
      "                    \"href\": \"http://133.8.140.97:8774/v2.1/8126d5a8dd0743f9afc9a9c5975622d8/flavors/5\",\r\n",
      "                    \"rel\": \"self\"\r\n",
      "                },\r\n",
      "                {\r\n",
      "                    \"href\": \"http://133.8.140.97:8774/8126d5a8dd0743f9afc9a9c5975622d8/flavors/5\",\r\n",
      "                    \"rel\": \"bookmark\"\r\n",
      "                }\r\n",
      "            ],\r\n",
      "            \"name\": \"m1.xlarge\"\r\n",
      "        }\r\n",
      "    ]\r\n",
      "}\r\n"
     ]
    }
   ],
   "source": [
    "!curl -s -H  \"X-Auth-Token:$X_Auth_Token\" $NOVA_END_POINT/flavors | python -m json.tool"
   ]
  },
  {
   "cell_type": "markdown",
   "metadata": {
    "lc_cell_meme": {
     "current": "762cc5f2-9f06-11e9-8556-02420a010127",
     "next": "762cc624-9f06-11e9-8556-02420a010127",
     "previous": "762cc5c0-9f06-11e9-8556-02420a010127"
    }
   },
   "source": [
    "**server 一覧　を取得し、自分の使っている仮想マシンの　server_idを得る**"
   ]
  },
  {
   "cell_type": "code",
   "execution_count": 5,
   "metadata": {
    "lc_cell_meme": {
     "current": "762cc624-9f06-11e9-8556-02420a010127",
     "next": "762cc656-9f06-11e9-8556-02420a010127",
     "previous": "762cc5f2-9f06-11e9-8556-02420a010127"
    }
   },
   "outputs": [
    {
     "name": "stdout",
     "output_type": "stream",
     "text": [
      "{\r\n",
      "    \"servers\": [\r\n",
      "        {\r\n",
      "            \"id\": \"258fdd07-c641-421e-9667-8e38be9621a8\",\r\n",
      "            \"links\": [\r\n",
      "                {\r\n",
      "                    \"href\": \"http://133.8.140.97:8774/v2.1/8126d5a8dd0743f9afc9a9c5975622d8/servers/258fdd07-c641-421e-9667-8e38be9621a8\",\r\n",
      "                    \"rel\": \"self\"\r\n",
      "                },\r\n",
      "                {\r\n",
      "                    \"href\": \"http://133.8.140.97:8774/8126d5a8dd0743f9afc9a9c5975622d8/servers/258fdd07-c641-421e-9667-8e38be9621a8\",\r\n",
      "                    \"rel\": \"bookmark\"\r\n",
      "                }\r\n",
      "            ],\r\n",
      "            \"name\": \"yoko-777\"\r\n",
      "        }\r\n",
      "    ]\r\n",
      "}\r\n"
     ]
    }
   ],
   "source": [
    "!curl -s -H  \"X-Auth-Token:$X_Auth_Token\" $NOVA_END_POINT/servers | python -m json.tool"
   ]
  },
  {
   "cell_type": "markdown",
   "metadata": {
    "lc_cell_meme": {
     "current": "762cc656-9f06-11e9-8556-02420a010127",
     "next": "762cc67e-9f06-11e9-8556-02420a010127",
     "previous": "762cc624-9f06-11e9-8556-02420a010127"
    }
   },
   "source": [
    "**取得したserver_idを指定して、その仮想マシンの詳細情報を取得**"
   ]
  },
  {
   "cell_type": "code",
   "execution_count": 6,
   "metadata": {
    "lc_cell_meme": {
     "current": "762cc67e-9f06-11e9-8556-02420a010127",
     "next": "762cc6b0-9f06-11e9-8556-02420a010127",
     "previous": "762cc656-9f06-11e9-8556-02420a010127"
    }
   },
   "outputs": [
    {
     "name": "stdout",
     "output_type": "stream",
     "text": [
      "env: SERVER_ID=258fdd07-c641-421e-9667-8e38be9621a8\n",
      "{\n",
      "    \"server\": {\n",
      "        \"OS-EXT-STS:task_state\": null,\n",
      "        \"addresses\": {\n",
      "            \"private_network_with_DNS\": [\n",
      "                {\n",
      "                    \"OS-EXT-IPS-MAC:mac_addr\": \"fa:16:3e:26:98:2b\",\n",
      "                    \"version\": 4,\n",
      "                    \"addr\": \"192.168.102.134\",\n",
      "                    \"OS-EXT-IPS:type\": \"fixed\"\n",
      "                },\n",
      "                {\n",
      "                    \"OS-EXT-IPS-MAC:mac_addr\": \"fa:16:3e:26:98:2b\",\n",
      "                    \"version\": 4,\n",
      "                    \"addr\": \"133.8.140.235\",\n",
      "                    \"OS-EXT-IPS:type\": \"floating\"\n",
      "                }\n",
      "            ]\n",
      "        },\n",
      "        \"links\": [\n",
      "            {\n",
      "                \"href\": \"http://133.8.140.97:8774/v2.1/8126d5a8dd0743f9afc9a9c5975622d8/servers/258fdd07-c641-421e-9667-8e38be9621a8\",\n",
      "                \"rel\": \"self\"\n",
      "            },\n",
      "            {\n",
      "                \"href\": \"http://133.8.140.97:8774/8126d5a8dd0743f9afc9a9c5975622d8/servers/258fdd07-c641-421e-9667-8e38be9621a8\",\n",
      "                \"rel\": \"bookmark\"\n",
      "            }\n",
      "        ],\n",
      "        \"image\": {\n",
      "            \"id\": \"160e89b8-32fd-4732-b4bd-a1231116b3db\",\n",
      "            \"links\": [\n",
      "                {\n",
      "                    \"href\": \"http://133.8.140.97:8774/8126d5a8dd0743f9afc9a9c5975622d8/images/160e89b8-32fd-4732-b4bd-a1231116b3db\",\n",
      "                    \"rel\": \"bookmark\"\n",
      "                }\n",
      "            ]\n",
      "        },\n",
      "        \"OS-EXT-STS:vm_state\": \"active\",\n",
      "        \"OS-SRV-USG:launched_at\": \"2020-08-12T02:46:11.000000\",\n",
      "        \"flavor\": {\n",
      "            \"id\": \"2\",\n",
      "            \"links\": [\n",
      "                {\n",
      "                    \"href\": \"http://133.8.140.97:8774/8126d5a8dd0743f9afc9a9c5975622d8/flavors/2\",\n",
      "                    \"rel\": \"bookmark\"\n",
      "                }\n",
      "            ]\n",
      "        },\n",
      "        \"id\": \"258fdd07-c641-421e-9667-8e38be9621a8\",\n",
      "        \"security_groups\": [\n",
      "            {\n",
      "                \"name\": \"default\"\n",
      "            }\n",
      "        ],\n",
      "        \"user_id\": \"f7a3f3ae2c064b8994e82363112eb752\",\n",
      "        \"OS-DCF:diskConfig\": \"AUTO\",\n",
      "        \"accessIPv4\": \"\",\n",
      "        \"accessIPv6\": \"\",\n",
      "        \"progress\": 0,\n",
      "        \"OS-EXT-STS:power_state\": 1,\n",
      "        \"OS-EXT-AZ:availability_zone\": \"nova\",\n",
      "        \"config_drive\": \"\",\n",
      "        \"status\": \"ACTIVE\",\n",
      "        \"updated\": \"2020-08-12T04:29:43Z\",\n",
      "        \"hostId\": \"07b52d4ec9002729ee4a14a63b02e48213890edcabffa62a6e1d8b91\",\n",
      "        \"OS-SRV-USG:terminated_at\": null,\n",
      "        \"key_name\": \"aic-yoko\",\n",
      "        \"name\": \"yoko-777\",\n",
      "        \"created\": \"2020-08-12T02:46:00Z\",\n",
      "        \"tenant_id\": \"8126d5a8dd0743f9afc9a9c5975622d8\",\n",
      "        \"os-extended-volumes:volumes_attached\": [],\n",
      "        \"metadata\": {}\n",
      "    }\n",
      "}\n"
     ]
    }
   ],
   "source": [
    "%env SERVER_ID=258fdd07-c641-421e-9667-8e38be9621a8\n",
    "!curl -s -H  \"X-Auth-Token:$X_Auth_Token\" $NOVA_END_POINT/servers/$SERVER_ID | python -m json.tool"
   ]
  },
  {
   "cell_type": "markdown",
   "metadata": {
    "lc_cell_meme": {
     "current": "762cc6b0-9f06-11e9-8556-02420a010127",
     "next": "762cc6e2-9f06-11e9-8556-02420a010127",
     "previous": "762cc67e-9f06-11e9-8556-02420a010127"
    }
   },
   "source": [
    "**その仮想マシンの名前を変更してみましょう** \n",
    "\n",
    "**そして実際に変化していることを OpenStackのDash Boardで確認してみよう**  \n",
    "\n",
    "OpenStackのDash Board : http://133.8.140.97/dashboard"
   ]
  },
  {
   "cell_type": "code",
   "execution_count": null,
   "metadata": {
    "lc_cell_meme": {
     "current": "762cc6e2-9f06-11e9-8556-02420a010127",
     "next": "762cc714-9f06-11e9-8556-02420a010127",
     "previous": "762cc6b0-9f06-11e9-8556-02420a010127"
    }
   },
   "outputs": [],
   "source": [
    "!curl -X PUT -H \"Content-Type: application/json\" -H \"X-Auth-Token:$X_Auth_Token\"  -d '{\"server\": { \"name\" : \"yoko-7777\" }}' $NOVA_END_POINT/servers/$SERVER_ID|python -m json.tool"
   ]
  },
  {
   "cell_type": "markdown",
   "metadata": {
    "lc_cell_meme": {
     "current": "762cc714-9f06-11e9-8556-02420a010127",
     "next": "762cc73c-9f06-11e9-8556-02420a010127",
     "previous": "762cc6e2-9f06-11e9-8556-02420a010127"
    }
   },
   "source": [
    "**仮想マシンを停止してみよう**\n",
    "\n",
    "**そして実際に停止していることを OpenStackのDash Boardで確認してみよう**  \n",
    "\n",
    "**また、sshできなくなっていることを確認してみよう**\n",
    "\n",
    "OpenStackのDash Board : http://133.8.140.97/dashboard\n"
   ]
  },
  {
   "cell_type": "code",
   "execution_count": null,
   "metadata": {
    "lc_cell_meme": {
     "current": "762cc73c-9f06-11e9-8556-02420a010127",
     "next": "762cc76e-9f06-11e9-8556-02420a010127",
     "previous": "762cc714-9f06-11e9-8556-02420a010127"
    }
   },
   "outputs": [],
   "source": [
    "!curl -X POST -H \"Content-Type: application/json\" -H \"X-Auth-Token:$X_Auth_Token\"  -d '{\"os-stop\": null}' $NOVA_END_POINT/servers/$SERVER_ID/action"
   ]
  },
  {
   "cell_type": "markdown",
   "metadata": {
    "lc_cell_meme": {
     "current": "762cc76e-9f06-11e9-8556-02420a010127",
     "next": "762cc7a0-9f06-11e9-8556-02420a010127",
     "previous": "762cc73c-9f06-11e9-8556-02420a010127"
    }
   },
   "source": [
    "**仮想マシンを再稼働してみよう**\n",
    "\n",
    "**そして実際に再稼働していることを OpenStackのDash Boardで確認してみよう**  \n",
    "\n",
    "**sshが再度できるようになっていることを確認してみよう**\n",
    "\n",
    "OpenStackのDash Board : http://133.8.140.97/dashboard\n"
   ]
  },
  {
   "cell_type": "code",
   "execution_count": null,
   "metadata": {
    "lc_cell_meme": {
     "current": "762cc7a0-9f06-11e9-8556-02420a010127",
     "next": null,
     "previous": "762cc76e-9f06-11e9-8556-02420a010127"
    }
   },
   "outputs": [],
   "source": [
    "!curl -X POST -H \"Content-Type: application/json\" -H \"X-Auth-Token:$X_Auth_Token\"  -d '{\"os-start\": null}' $NOVA_END_POINT/servers/$SERVER_ID/action"
   ]
  }
 ],
 "metadata": {
  "kernelspec": {
   "display_name": "Python 3",
   "language": "python",
   "name": "python3"
  },
  "language_info": {
   "codemirror_mode": {
    "name": "ipython",
    "version": 3
   },
   "file_extension": ".py",
   "mimetype": "text/x-python",
   "name": "python",
   "nbconvert_exporter": "python",
   "pygments_lexer": "ipython3",
   "version": "3.7.6"
  },
  "lc_notebook_meme": {
   "current": "762cc0de-9f06-11e9-8556-02420a010127",
   "lc_server_signature": {
    "current": {
     "notebook_dir": "/home/yoko69d621",
     "notebook_path": "/textbook/nw_sec",
     "server_url": "https://nb03.ecloud.nii.ac.jp/user/yoko69d621/",
     "signature_id": "5e786c6e-5fea-11e9-b810-02420a00005a"
    },
    "history": []
   }
  },
  "toc": {
   "base_numbering": 1,
   "nav_menu": {},
   "number_sections": true,
   "sideBar": true,
   "skip_h1_title": false,
   "title_cell": "Table of Contents",
   "title_sidebar": "Contents",
   "toc_cell": false,
   "toc_position": {},
   "toc_section_display": true,
   "toc_window_display": false
  }
 },
 "nbformat": 4,
 "nbformat_minor": 2
}
