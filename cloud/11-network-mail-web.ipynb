{
 "cells": [
  {
   "cell_type": "markdown",
   "metadata": {
    "lc_cell_meme": {
     "current": "caeac63a-658a-11e9-b810-02420a00005a",
     "next": "caeac694-658a-11e9-b810-02420a00005a",
     "previous": null
    }
   },
   "source": [
    "**Webサーバを立ち上げてみましょう**"
   ]
  },
  {
   "cell_type": "markdown",
   "metadata": {
    "lc_cell_meme": {
     "current": "caeac694-658a-11e9-b810-02420a00005a",
     "next": "caeac6d0-658a-11e9-b810-02420a00005a",
     "previous": "caeac63a-658a-11e9-b810-02420a00005a"
    }
   },
   "source": [
    "**Webサーバ　ソフト　Apacheのインストール**"
   ]
  },
  {
   "cell_type": "code",
   "execution_count": null,
   "metadata": {
    "lc_cell_meme": {
     "current": "caeac6d0-658a-11e9-b810-02420a00005a",
     "next": "caeac702-658a-11e9-b810-02420a00005a",
     "previous": "caeac694-658a-11e9-b810-02420a00005a"
    },
    "lc_wrapper": {
     "log_history": [
      "/home/yoko69d621/cloud/.log/20191022/20191022-055144-0892.log"
     ]
    }
   },
   "outputs": [],
   "source": [
    "!sudo apt-get update"
   ]
  },
  {
   "cell_type": "code",
   "execution_count": null,
   "metadata": {
    "lc_cell_meme": {
     "current": "caeac702-658a-11e9-b810-02420a00005a",
     "next": "caeac734-658a-11e9-b810-02420a00005a",
     "previous": "caeac6d0-658a-11e9-b810-02420a00005a"
    },
    "lc_wrapper": {
     "log_history": [
      "/home/yoko69d621/cloud/.log/20191022/20191022-055158-0208.log"
     ]
    }
   },
   "outputs": [],
   "source": [
    "!sudo apt-get install apache2 -y"
   ]
  },
  {
   "cell_type": "markdown",
   "metadata": {
    "lc_cell_meme": {
     "current": "caeac734-658a-11e9-b810-02420a00005a",
     "next": "caeac75c-658a-11e9-b810-02420a00005a",
     "previous": "caeac702-658a-11e9-b810-02420a00005a"
    }
   },
   "source": [
    "**まだWebサーバが起動していないことをブラウザから確認しましょう**   \n",
    "\n",
    "https://nb03.ecloud.nii.ac.jp/user-redirect/webserver-port-80/index.html"
   ]
  },
  {
   "cell_type": "markdown",
   "metadata": {
    "lc_cell_meme": {
     "current": "caeac75c-658a-11e9-b810-02420a00005a",
     "next": "caeac78e-658a-11e9-b810-02420a00005a",
     "previous": "caeac734-658a-11e9-b810-02420a00005a"
    }
   },
   "source": [
    "**Web Server 起動**"
   ]
  },
  {
   "cell_type": "code",
   "execution_count": null,
   "metadata": {
    "lc_cell_meme": {
     "current": "caeac78e-658a-11e9-b810-02420a00005a",
     "next": "caeac7c0-658a-11e9-b810-02420a00005a",
     "previous": "caeac75c-658a-11e9-b810-02420a00005a"
    },
    "lc_wrapper": {
     "log_history": [
      "/home/yoko69d621/cloud/.log/20191022/20191022-055226-0139.log",
      "/home/yoko69d621/cloud/.log/20191022/20191022-055242-0029.log",
      "/home/yoko69d621/cloud/.log/20191022/20191022-055253-0104.log"
     ]
    }
   },
   "outputs": [],
   "source": [
    "!sudo /etc/init.d/apache2 start"
   ]
  },
  {
   "cell_type": "markdown",
   "metadata": {
    "lc_cell_meme": {
     "current": "caeac7c0-658a-11e9-b810-02420a00005a",
     "next": "caeac7f2-658a-11e9-b810-02420a00005a",
     "previous": "caeac78e-658a-11e9-b810-02420a00005a"
    }
   },
   "source": [
    "**Webサーバが起動していることをブラウザから確認しましょう**   \n",
    "\n",
    "https://nb03.ecloud.nii.ac.jp/user-redirect/webserver-port-80/index.html"
   ]
  },
  {
   "cell_type": "markdown",
   "metadata": {
    "lc_cell_meme": {
     "current": "caeac7f2-658a-11e9-b810-02420a00005a",
     "next": "caeac824-658a-11e9-b810-02420a00005a",
     "previous": "caeac7c0-658a-11e9-b810-02420a00005a"
    }
   },
   "source": [
    "**HTMLファイルの書き込み権を付与**"
   ]
  },
  {
   "cell_type": "code",
   "execution_count": null,
   "metadata": {
    "lc_cell_meme": {
     "current": "caeac824-658a-11e9-b810-02420a00005a",
     "next": "caeac856-658a-11e9-b810-02420a00005a",
     "previous": "caeac7f2-658a-11e9-b810-02420a00005a"
    }
   },
   "outputs": [],
   "source": [
    "!pwd"
   ]
  },
  {
   "cell_type": "code",
   "execution_count": null,
   "metadata": {
    "lc_cell_meme": {
     "current": "caeac856-658a-11e9-b810-02420a00005a",
     "next": "caeac888-658a-11e9-b810-02420a00005a",
     "previous": "caeac824-658a-11e9-b810-02420a00005a"
    }
   },
   "outputs": [],
   "source": [
    "!sudo chmod 0777 /var/www/html "
   ]
  },
  {
   "cell_type": "markdown",
   "metadata": {
    "lc_cell_meme": {
     "current": "caeac888-658a-11e9-b810-02420a00005a",
     "next": "caeac8ba-658a-11e9-b810-02420a00005a",
     "previous": "caeac856-658a-11e9-b810-02420a00005a"
    }
   },
   "source": [
    "**サンプルWebページ用　ファイル　test.html　を編集できます**"
   ]
  },
  {
   "cell_type": "markdown",
   "metadata": {
    "lc_cell_meme": {
     "current": "caeac8ba-658a-11e9-b810-02420a00005a",
     "next": "caeac8e2-658a-11e9-b810-02420a00005a",
     "previous": "caeac888-658a-11e9-b810-02420a00005a"
    }
   },
   "source": [
    "[test.html](/user-redirect/edit/cloud/web_samples/test.html)"
   ]
  },
  {
   "cell_type": "markdown",
   "metadata": {
    "lc_cell_meme": {
     "current": "caeac8e2-658a-11e9-b810-02420a00005a",
     "next": "caeac914-658a-11e9-b810-02420a00005a",
     "previous": "caeac8ba-658a-11e9-b810-02420a00005a"
    }
   },
   "source": [
    "**サンプル htmlファイルを所定のディレクトリに配置**"
   ]
  },
  {
   "cell_type": "code",
   "execution_count": null,
   "metadata": {
    "lc_cell_meme": {
     "current": "caeac914-658a-11e9-b810-02420a00005a",
     "next": "caeac946-658a-11e9-b810-02420a00005a",
     "previous": "caeac8e2-658a-11e9-b810-02420a00005a"
    },
    "scrolled": true
   },
   "outputs": [],
   "source": [
    "!cp web_samples/test.html /var/www/html/test.html; cat /var/www/html/test.html"
   ]
  },
  {
   "cell_type": "markdown",
   "metadata": {
    "lc_cell_meme": {
     "current": "caeac946-658a-11e9-b810-02420a00005a",
     "next": "caeac978-658a-11e9-b810-02420a00005a",
     "previous": "caeac914-658a-11e9-b810-02420a00005a"
    }
   },
   "source": [
    "**ブラウザからアクセスできることを確認しましょう**  \n",
    "\n",
    "https://nb03.ecloud.nii.ac.jp/user-redirect/webserver-port-80/test.html"
   ]
  },
  {
   "cell_type": "markdown",
   "metadata": {
    "lc_cell_meme": {
     "current": "caeac978-658a-11e9-b810-02420a00005a",
     "next": "caeac9aa-658a-11e9-b810-02420a00005a",
     "previous": "caeac946-658a-11e9-b810-02420a00005a"
    }
   },
   "source": [
    "**サンプル webページにアクセスした際のアクセス　logを見てみよう**"
   ]
  },
  {
   "cell_type": "code",
   "execution_count": null,
   "metadata": {
    "lc_cell_meme": {
     "current": "caeac9aa-658a-11e9-b810-02420a00005a",
     "next": "caeac9d2-658a-11e9-b810-02420a00005a",
     "previous": "caeac978-658a-11e9-b810-02420a00005a"
    },
    "lc_wrapper": {
     "log_history": [
      "/home/yoko69d621/cloud/.log/20191022/20191022-055315-0914.log",
      "/home/yoko69d621/cloud/.log/20191022/20191022-055401-0697.log",
      "/home/yoko69d621/cloud/.log/20191022/20191022-055513-0504.log",
      "/home/yoko69d621/cloud/.log/20191022/20191022-055945-0094.log"
     ]
    },
    "scrolled": true
   },
   "outputs": [],
   "source": [
    "!sudo tail -10 /var/log/apache2/access.log"
   ]
  },
  {
   "cell_type": "markdown",
   "metadata": {
    "lc_cell_meme": {
     "current": "caeac9d2-658a-11e9-b810-02420a00005a",
     "next": "caeaca04-658a-11e9-b810-02420a00005a",
     "previous": "caeac9aa-658a-11e9-b810-02420a00005a"
    }
   },
   "source": [
    "**---------------------------------------------------** <br>\n",
    "**もう少し面白いサンプルWebページを触ってみましょう**\n",
    "![boids](http://i.imgur.com/2t5YaKQ.jpg)\n",
    "\n",
    "[boidsの説明] (https://ja.wikipedia.org/wiki/ボイド_(人工生命))"
   ]
  },
  {
   "cell_type": "code",
   "execution_count": null,
   "metadata": {
    "lc_cell_meme": {
     "current": "caeaca04-658a-11e9-b810-02420a00005a",
     "next": "caeaca2c-658a-11e9-b810-02420a00005a",
     "previous": "caeac9d2-658a-11e9-b810-02420a00005a"
    }
   },
   "outputs": [],
   "source": [
    "! cd web_samples/boids;sudo cp boids.html main.js /var/www/html"
   ]
  },
  {
   "cell_type": "markdown",
   "metadata": {
    "lc_cell_meme": {
     "current": "caeaca2c-658a-11e9-b810-02420a00005a",
     "next": "caeaca5e-658a-11e9-b810-02420a00005a",
     "previous": "caeaca04-658a-11e9-b810-02420a00005a"
    }
   },
   "source": [
    "**ブラウザからアクセスできることを確認しましょう**  \n",
    "\n",
    "https://nb03.ecloud.nii.ac.jp/user-redirect/webserver-port-80/boids.html"
   ]
  },
  {
   "cell_type": "code",
   "execution_count": null,
   "metadata": {
    "lc_cell_meme": {
     "current": "caeaca5e-658a-11e9-b810-02420a00005a",
     "next": "caeaca90-658a-11e9-b810-02420a00005a",
     "previous": "caeaca2c-658a-11e9-b810-02420a00005a"
    }
   },
   "outputs": [],
   "source": [
    "!sudo ls -l web_samples/boids/"
   ]
  },
  {
   "cell_type": "markdown",
   "metadata": {
    "lc_cell_meme": {
     "current": "caeaca90-658a-11e9-b810-02420a00005a",
     "next": "caeacab8-658a-11e9-b810-02420a00005a",
     "previous": "caeaca5e-658a-11e9-b810-02420a00005a"
    }
   },
   "source": [
    "[boids.html](/user-redirect/edit/cloud/web_samples/boids/boids.html), [main.js](/user-redirect/edit/cloud/web_samples/boids/main.js)"
   ]
  },
  {
   "cell_type": "markdown",
   "metadata": {
    "lc_cell_meme": {
     "current": "caeacab8-658a-11e9-b810-02420a00005a",
     "next": "caeacaea-658a-11e9-b810-02420a00005a",
     "previous": "caeaca90-658a-11e9-b810-02420a00005a"
    }
   },
   "source": [
    "**---------------------------------------------------**   <br>\n",
    "**もう少し面白いサンプルWebページを触ってみましょう**\n",
    "![tetris](http://i.imgur.com/H7qFDLx.jpg)"
   ]
  },
  {
   "cell_type": "code",
   "execution_count": null,
   "metadata": {
    "lc_cell_meme": {
     "current": "caeacaea-658a-11e9-b810-02420a00005a",
     "next": "caeacb1c-658a-11e9-b810-02420a00005a",
     "previous": "caeacab8-658a-11e9-b810-02420a00005a"
    }
   },
   "outputs": [],
   "source": [
    "! cd web_samples/tetris;sudo cp -r *  /var/www/html"
   ]
  },
  {
   "cell_type": "code",
   "execution_count": null,
   "metadata": {
    "lc_cell_meme": {
     "current": "caeacb1c-658a-11e9-b810-02420a00005a",
     "next": "caeacb4e-658a-11e9-b810-02420a00005a",
     "previous": "caeacaea-658a-11e9-b810-02420a00005a"
    }
   },
   "outputs": [],
   "source": [
    "!sudo ls -l web_samples/tetris/"
   ]
  },
  {
   "cell_type": "markdown",
   "metadata": {
    "lc_cell_meme": {
     "current": "caeacb4e-658a-11e9-b810-02420a00005a",
     "next": "caeacb76-658a-11e9-b810-02420a00005a",
     "previous": "caeacb1c-658a-11e9-b810-02420a00005a"
    }
   },
   "source": [
    "[tetris.html](/user-redirect/edit/cloud/web_samples/tetris/tetris.html), [tetris.js](/user-redirect/edit/cloud/web_samples/tetris/js/tetris.js), [controller.js](/user-redirect/edit/cloud/web_samples/tetris/js/controller.js), [render.js](/user-redirect/edit/cloud/web_samples/tetris/js/render.js), [style.css](/user-redirect/edit/cloud/web_samples/tetris/style.css)"
   ]
  },
  {
   "cell_type": "markdown",
   "metadata": {
    "lc_cell_meme": {
     "current": "caeacb76-658a-11e9-b810-02420a00005a",
     "history": [
      {
       "current": "caeacb76-658a-11e9-b810-02420a00005a",
       "next": null,
       "previous": "caeacb4e-658a-11e9-b810-02420a00005a"
      }
     ],
     "next": "6221cea2-f48f-11e9-b447-02420a0102d6",
     "previous": "caeacb4e-658a-11e9-b810-02420a00005a"
    }
   },
   "source": [
    "**ブラウザからアクセスできることを確認しましょう**  <br>\n",
    "https://nb03.ecloud.nii.ac.jp/user-redirect/webserver-port-80/tetris.html"
   ]
  },
  {
   "cell_type": "markdown",
   "metadata": {
    "lc_cell_meme": {
     "current": "6221cea2-f48f-11e9-b447-02420a0102d6",
     "next": "6221d1fe-f48f-11e9-b447-02420a0102d6",
     "previous": "caeacb76-658a-11e9-b810-02420a00005a"
    }
   },
   "source": [
    "**Quiz-１**\n",
    "\n",
    "**Webサーバへのアクセスログを最近の100行分見てみましょう！**\n",
    "\n",
    "**そのためのコマンドを作って実行してみましょう。**"
   ]
  },
  {
   "cell_type": "code",
   "execution_count": null,
   "metadata": {
    "lc_cell_meme": {
     "current": "6221d1fe-f48f-11e9-b447-02420a0102d6",
     "history": [
      {
       "current": "6221d1fe-f48f-11e9-b447-02420a0102d6",
       "next": null,
       "previous": "6221cea2-f48f-11e9-b447-02420a0102d6"
      }
     ],
     "next": "f12d92ac-f48f-11e9-b447-02420a0102d6",
     "previous": "6221cea2-f48f-11e9-b447-02420a0102d6"
    }
   },
   "outputs": [],
   "source": [
    "##ここの下の行にコマンドを書いて実行してみてください。\n"
   ]
  },
  {
   "cell_type": "markdown",
   "metadata": {
    "lc_cell_meme": {
     "current": "f12d92ac-f48f-11e9-b447-02420a0102d6",
     "history": [
      {
       "current": "f12d92ac-f48f-11e9-b447-02420a0102d6",
       "next": null,
       "previous": "6221d1fe-f48f-11e9-b447-02420a0102d6"
      }
     ],
     "next": "38b0b6f4-f490-11e9-b447-02420a0102d6",
     "previous": "6221d1fe-f48f-11e9-b447-02420a0102d6"
    }
   },
   "source": [
    "**Quiz-2**\n",
    "\n",
    "**curlコマンドを使ってWebサーバへアクセスして、そのアクセスがアクセスログに出力されていることを確認しましょう！**\n",
    "\n",
    "**そのためのコマンドを作って実行してみましょう。**"
   ]
  },
  {
   "cell_type": "code",
   "execution_count": null,
   "metadata": {
    "lc_cell_meme": {
     "current": "38b0b6f4-f490-11e9-b447-02420a0102d6",
     "history": [
      {
       "current": "38b0b6f4-f490-11e9-b447-02420a0102d6",
       "next": null,
       "previous": "f12d92ac-f48f-11e9-b447-02420a0102d6"
      }
     ],
     "next": "67d178fa-f491-11e9-b447-02420a0102d6",
     "previous": "f12d92ac-f48f-11e9-b447-02420a0102d6"
    }
   },
   "outputs": [],
   "source": [
    "##ここの下の行にコマンドを書いて実行してみてください。\n"
   ]
  },
  {
   "cell_type": "markdown",
   "metadata": {
    "lc_cell_meme": {
     "current": "67d178fa-f491-11e9-b447-02420a0102d6",
     "next": "67d17c9c-f491-11e9-b447-02420a0102d6",
     "previous": "38b0b6f4-f490-11e9-b447-02420a0102d6"
    }
   },
   "source": [
    "**Quiz-3**\n",
    "\n",
    "**自分のスマートフォンからWebサーバへアクセスして、そのアクセスがアクセスログに出力されていて、クライアント情報が変化していることを確認しましょう！**\n",
    "\n",
    "**そのためのコマンドを作って実行してみましょう。**"
   ]
  },
  {
   "cell_type": "code",
   "execution_count": null,
   "metadata": {
    "lc_cell_meme": {
     "current": "67d17c9c-f491-11e9-b447-02420a0102d6",
     "next": "67d17e22-f491-11e9-b447-02420a0102d6",
     "previous": "67d178fa-f491-11e9-b447-02420a0102d6"
    }
   },
   "outputs": [],
   "source": [
    "##ここの下の行にコマンドを書いて実行してみてください。\n"
   ]
  },
  {
   "cell_type": "markdown",
   "metadata": {
    "lc_cell_meme": {
     "current": "67d17e22-f491-11e9-b447-02420a0102d6",
     "history": [
      {
       "current": "67d17e22-f491-11e9-b447-02420a0102d6",
       "next": null,
       "previous": "67d17c9c-f491-11e9-b447-02420a0102d6"
      }
     ],
     "next": "f6e0c686-f491-11e9-b447-02420a0102d6",
     "previous": "67d17c9c-f491-11e9-b447-02420a0102d6"
    }
   },
   "source": [
    "**Quiz-4**\n",
    "\n",
    "**自分で立ち上げたWebサーバで動作するテトリスで遊ぶことができましたか？**"
   ]
  },
  {
   "cell_type": "code",
   "execution_count": null,
   "metadata": {
    "lc_cell_meme": {
     "current": "f6e0c686-f491-11e9-b447-02420a0102d6",
     "history": [
      {
       "current": "f6e0c686-f491-11e9-b447-02420a0102d6",
       "next": null,
       "previous": "67d17e22-f491-11e9-b447-02420a0102d6"
      }
     ],
     "next": "3e627842-f492-11e9-b447-02420a0102d6",
     "previous": "67d17e22-f491-11e9-b447-02420a0102d6"
    },
    "lc_wrapper": {
     "log_history": [
      "/home/yoko69d621/cloud/.log/20191022/20191022-060611-0432.log"
     ]
    }
   },
   "outputs": [],
   "source": [
    "##もし答えがyesならばここの下の行のechoコマンドのnoをyesに変更してコマンド実行してみてください。答えがnoならば、そのままコマンド実行してみてください。\n",
    "!echo 'no'"
   ]
  },
  {
   "cell_type": "markdown",
   "metadata": {
    "lc_cell_meme": {
     "current": "3e627842-f492-11e9-b447-02420a0102d6",
     "next": "3e627a7c-f492-11e9-b447-02420a0102d6",
     "previous": "f6e0c686-f491-11e9-b447-02420a0102d6"
    }
   },
   "source": [
    "**Quiz-5**\n",
    "\n",
    "**自分で立ち上げたWebサーバで動作するテトリスのキーボード操作をもっと難しく改造して遊ぶことができましたか？**"
   ]
  },
  {
   "cell_type": "code",
   "execution_count": null,
   "metadata": {
    "lc_cell_meme": {
     "current": "3e627a7c-f492-11e9-b447-02420a0102d6",
     "next": null,
     "previous": "3e627842-f492-11e9-b447-02420a0102d6"
    }
   },
   "outputs": [],
   "source": [
    "##もし答えがyesならばここの下の行のechoコマンドのnoをyesに変更してコマンド実行してみてください。答えがnoならば、そのままコマンド実行してみてください。\n",
    "!echo 'no'"
   ]
  }
 ],
 "metadata": {
  "kernelspec": {
   "display_name": "Python 3",
   "language": "python",
   "name": "python3"
  },
  "language_info": {
   "file_extension": ".py",
   "mimetype": "text/x-python",
   "name": "python",
   "nbconvert_exporter": "python",
   "pygments_lexer": "ipython3",
   "version": "3.7.3"
  },
  "lc_notebook_meme": {
   "current": "caeac4aa-658a-11e9-b810-02420a00005a",
   "lc_server_signature": {
    "current": {
     "notebook_dir": "/home/yoko69d621",
     "notebook_path": "/cloud",
     "server_url": "https://nb03.ecloud.nii.ac.jp/user/yoko69d621/",
     "signature_id": "5e786c6e-5fea-11e9-b810-02420a00005a"
    },
    "history": [
     {
      "notebook_dir": "/home/yoko69d621",
      "notebook_path": "/textbook/cloud",
      "server_url": "https://nb03.ecloud.nii.ac.jp/user/yoko69d621/",
      "signature_id": "5e786c6e-5fea-11e9-b810-02420a00005a"
     }
    ]
   }
  },
  "toc": {
   "base_numbering": 1,
   "nav_menu": {},
   "number_sections": true,
   "sideBar": true,
   "skip_h1_title": false,
   "title_cell": "Table of Contents",
   "title_sidebar": "Contents",
   "toc_cell": false,
   "toc_position": {},
   "toc_section_display": true,
   "toc_window_display": false
  }
 },
 "nbformat": 4,
 "nbformat_minor": 2
}
