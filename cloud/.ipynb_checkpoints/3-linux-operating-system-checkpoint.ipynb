{
 "cells": [
  {
   "cell_type": "markdown",
   "metadata": {
    "lc_cell_meme": {
     "current": "67cd5634-6586-11e9-b810-02420a00005a",
     "next": "67cd56a2-6586-11e9-b810-02420a00005a",
     "previous": null
    }
   },
   "source": [
    "**Linuxコマンドを使ってみよう** （Jupyter notebookのcell内では　**!**の後にLinuxコマンドを書くとコマンドが実行できる。）"
   ]
  },
  {
   "cell_type": "markdown",
   "metadata": {
    "lc_cell_meme": {
     "current": "67cd56a2-6586-11e9-b810-02420a00005a",
     "next": "67cd56de-6586-11e9-b810-02420a00005a",
     "previous": "67cd5634-6586-11e9-b810-02420a00005a"
    }
   },
   "source": [
    "**curlコマンドをインストール**"
   ]
  },
  {
   "cell_type": "code",
   "execution_count": null,
   "metadata": {
    "lc_cell_meme": {
     "current": "67cd56de-6586-11e9-b810-02420a00005a",
     "next": "67cd5710-6586-11e9-b810-02420a00005a",
     "previous": "67cd56a2-6586-11e9-b810-02420a00005a"
    }
   },
   "outputs": [],
   "source": [
    "!sudo apt-get update; sudo apt-get install curl -y"
   ]
  },
  {
   "cell_type": "markdown",
   "metadata": {
    "lc_cell_meme": {
     "current": "67cd5710-6586-11e9-b810-02420a00005a",
     "next": "67cd5742-6586-11e9-b810-02420a00005a",
     "previous": "67cd56de-6586-11e9-b810-02420a00005a"
    }
   },
   "source": [
    "**出席管理用　etherpad https://etherpad.openstack.org/p/2019-cloud-ac から　curlコマンドで情報を取得**"
   ]
  },
  {
   "cell_type": "code",
   "execution_count": null,
   "metadata": {
    "lc_cell_meme": {
     "current": "67cd5742-6586-11e9-b810-02420a00005a",
     "next": "67cd576a-6586-11e9-b810-02420a00005a",
     "previous": "67cd5710-6586-11e9-b810-02420a00005a"
    }
   },
   "outputs": [],
   "source": [
    "!curl https://etherpad.openstack.org/p/2019-cloud-ac/export/txt"
   ]
  },
  {
   "cell_type": "markdown",
   "metadata": {
    "lc_cell_meme": {
     "current": "67cd576a-6586-11e9-b810-02420a00005a",
     "next": "67cd579c-6586-11e9-b810-02420a00005a",
     "previous": "67cd5742-6586-11e9-b810-02420a00005a"
    }
   },
   "source": [
    "**cutコマンドで　1列目の情報だけを取り出す。　二つのコマンド（curlとcut）で pipeを通じて　データを受け渡している。pipeは　| で示す。**"
   ]
  },
  {
   "cell_type": "code",
   "execution_count": null,
   "metadata": {
    "lc_cell_meme": {
     "current": "67cd579c-6586-11e9-b810-02420a00005a",
     "next": "67cd57ce-6586-11e9-b810-02420a00005a",
     "previous": "67cd576a-6586-11e9-b810-02420a00005a"
    }
   },
   "outputs": [],
   "source": [
    "!curl https://etherpad.openstack.org/p/2019-cloud-ac/export/txt|cut -c1-8 "
   ]
  },
  {
   "cell_type": "markdown",
   "metadata": {
    "lc_cell_meme": {
     "current": "67cd57ce-6586-11e9-b810-02420a00005a",
     "next": "67cd5800-6586-11e9-b810-02420a00005a",
     "previous": "67cd579c-6586-11e9-b810-02420a00005a"
    }
   },
   "source": [
    "**curlコマンドが出力する**　<br>\n",
    "% Total    % Received % Xferd  Average Speed   Time    Time     Time  Current<br>\n",
    "                                 Dload  Upload   Total   Spent    Left  Speed<br>\n",
    "100  1745  100  1745    0     0   1994      0 --:--:-- --:--:-- --:--:--  2008<br>\n",
    "**を　/dev/null　に捨ててデータから消す。**"
   ]
  },
  {
   "cell_type": "code",
   "execution_count": null,
   "metadata": {
    "lc_cell_meme": {
     "current": "67cd5800-6586-11e9-b810-02420a00005a",
     "next": "67cd5832-6586-11e9-b810-02420a00005a",
     "previous": "67cd57ce-6586-11e9-b810-02420a00005a"
    }
   },
   "outputs": [],
   "source": [
    "!(curl https://etherpad.openstack.org/p/2019-cloud-ac/export/txt 2> /dev/null)|cut -c1-8 "
   ]
  },
  {
   "cell_type": "markdown",
   "metadata": {
    "lc_cell_meme": {
     "current": "67cd5832-6586-11e9-b810-02420a00005a",
     "next": "67cd585a-6586-11e9-b810-02420a00005a",
     "previous": "67cd5800-6586-11e9-b810-02420a00005a"
    }
   },
   "source": [
    "**その週の部分だけを　headコマンドにより取り出す。　head --22 で最初の 22行だけを取り出すことを示す。**"
   ]
  },
  {
   "cell_type": "code",
   "execution_count": null,
   "metadata": {
    "lc_cell_meme": {
     "current": "67cd585a-6586-11e9-b810-02420a00005a",
     "next": "67cd588c-6586-11e9-b810-02420a00005a",
     "previous": "67cd5832-6586-11e9-b810-02420a00005a"
    }
   },
   "outputs": [],
   "source": [
    "!(curl https://etherpad.openstack.org/p/2019-cloud-ac/export/txt 2> /dev/null)|cut -c1-8 |head -22"
   ]
  },
  {
   "cell_type": "markdown",
   "metadata": {
    "lc_cell_meme": {
     "current": "67cd588c-6586-11e9-b810-02420a00005a",
     "next": "67cd58be-6586-11e9-b810-02420a00005a",
     "previous": "67cd585a-6586-11e9-b810-02420a00005a"
    }
   },
   "source": [
    "**出席情報の本体だけ残すために　tailコマンドで後ろから　13行残す。さらに　trコマンドで小文字を全部大文字に変換して記法を揃える**"
   ]
  },
  {
   "cell_type": "code",
   "execution_count": null,
   "metadata": {
    "lc_cell_meme": {
     "current": "67cd58be-6586-11e9-b810-02420a00005a",
     "next": "67cd58f0-6586-11e9-b810-02420a00005a",
     "previous": "67cd588c-6586-11e9-b810-02420a00005a"
    }
   },
   "outputs": [],
   "source": [
    "!(curl https://etherpad.openstack.org/p/2019-cloud-ac/export/txt 2> /dev/null)|cut -c1-8 |head -22|tail -13|tr [a-z] [A-Z]"
   ]
  },
  {
   "cell_type": "markdown",
   "metadata": {
    "lc_cell_meme": {
     "current": "67cd58f0-6586-11e9-b810-02420a00005a",
     "next": "67cd5918-6586-11e9-b810-02420a00005a",
     "previous": "67cd58be-6586-11e9-b810-02420a00005a"
    }
   },
   "source": [
    "**uniqコマンドにより重複排除を行う。さらにsortコマンドでアルファベット順にソートする。**"
   ]
  },
  {
   "cell_type": "code",
   "execution_count": null,
   "metadata": {
    "lc_cell_meme": {
     "current": "67cd5918-6586-11e9-b810-02420a00005a",
     "next": "67cd594a-6586-11e9-b810-02420a00005a",
     "previous": "67cd58f0-6586-11e9-b810-02420a00005a"
    }
   },
   "outputs": [],
   "source": [
    "!(curl https://etherpad.openstack.org/p/2019-cloud-ac/export/txt 2> /dev/null)|cut -c1-8 |head -22|tail -13|tr [a-z] [A-Z]|uniq|sort"
   ]
  },
  {
   "cell_type": "markdown",
   "metadata": {
    "lc_cell_meme": {
     "current": "67cd594a-6586-11e9-b810-02420a00005a",
     "next": "67cd597c-6586-11e9-b810-02420a00005a",
     "previous": "67cd5918-6586-11e9-b810-02420a00005a"
    }
   },
   "source": [
    "**履修者全員のリストが入っている　/notebooks/cloud　との差分を　diffコマンドで　抽出して欠席者リストを得る。**"
   ]
  },
  {
   "cell_type": "code",
   "execution_count": null,
   "metadata": {
    "lc_cell_meme": {
     "current": "67cd597c-6586-11e9-b810-02420a00005a",
     "next": null,
     "previous": "67cd594a-6586-11e9-b810-02420a00005a"
    }
   },
   "outputs": [],
   "source": [
    "!(curl https://etherpad.openstack.org/p/2019-cloud-ac/export/txt 2> /dev/null)|cut -c1-8 |head -22|tail -13|tr [a-z] [A-Z]|uniq|sort| diff - /notebooks/cloud-list"
   ]
  }
 ],
 "metadata": {
  "kernelspec": {
   "display_name": "Python 3",
   "language": "python",
   "name": "python3"
  },
  "language_info": {
   "file_extension": ".py",
   "mimetype": "text/x-python",
   "name": "python",
   "nbconvert_exporter": "python",
   "pygments_lexer": "ipython3",
   "version": "3.7.3"
  },
  "lc_notebook_meme": {
   "current": "67cd5382-6586-11e9-b810-02420a00005a",
   "lc_server_signature": {
    "current": {
     "notebook_dir": "/home/yoko69d621",
     "notebook_path": "/textbook/cloud",
     "server_url": "https://nb03.ecloud.nii.ac.jp/user/yoko69d621/",
     "signature_id": "5e786c6e-5fea-11e9-b810-02420a00005a"
    },
    "history": []
   }
  },
  "toc": {
   "base_numbering": 1,
   "nav_menu": {},
   "number_sections": true,
   "sideBar": true,
   "skip_h1_title": false,
   "title_cell": "Table of Contents",
   "title_sidebar": "Contents",
   "toc_cell": false,
   "toc_position": {},
   "toc_section_display": true,
   "toc_window_display": false
  }
 },
 "nbformat": 4,
 "nbformat_minor": 2
}
