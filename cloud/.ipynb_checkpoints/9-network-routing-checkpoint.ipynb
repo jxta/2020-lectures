{
 "cells": [
  {
   "cell_type": "markdown",
   "metadata": {
    "lc_cell_meme": {
     "current": "47bbcd34-6587-11e9-b810-02420a00005a",
     "next": "47bbcd84-6587-11e9-b810-02420a00005a",
     "previous": null
    }
   },
   "source": [
    "**netstatコマンドで routing tableを表示**"
   ]
  },
  {
   "cell_type": "code",
   "execution_count": null,
   "metadata": {
    "lc_cell_meme": {
     "current": "47bbcd84-6587-11e9-b810-02420a00005a",
     "next": "47bbcdb6-6587-11e9-b810-02420a00005a",
     "previous": "47bbcd34-6587-11e9-b810-02420a00005a"
    }
   },
   "outputs": [],
   "source": [
    "!sudo apt-get update"
   ]
  },
  {
   "cell_type": "code",
   "execution_count": null,
   "metadata": {
    "lc_cell_meme": {
     "current": "47bbcdb6-6587-11e9-b810-02420a00005a",
     "next": "47bbcde8-6587-11e9-b810-02420a00005a",
     "previous": "47bbcd84-6587-11e9-b810-02420a00005a"
    }
   },
   "outputs": [],
   "source": [
    "!sudo apt-get install net-tools -y"
   ]
  },
  {
   "cell_type": "code",
   "execution_count": null,
   "metadata": {
    "lc_cell_meme": {
     "current": "47bbcde8-6587-11e9-b810-02420a00005a",
     "next": "47bbce1a-6587-11e9-b810-02420a00005a",
     "previous": "47bbcdb6-6587-11e9-b810-02420a00005a"
    }
   },
   "outputs": [],
   "source": [
    "!netstat -r"
   ]
  },
  {
   "cell_type": "markdown",
   "metadata": {
    "lc_cell_meme": {
     "current": "47bbce1a-6587-11e9-b810-02420a00005a",
     "next": "47bbce4c-6587-11e9-b810-02420a00005a",
     "previous": "47bbcde8-6587-11e9-b810-02420a00005a"
    }
   },
   "source": [
    "**netstatコマンドで interfaceを表示**"
   ]
  },
  {
   "cell_type": "code",
   "execution_count": null,
   "metadata": {
    "lc_cell_meme": {
     "current": "47bbce4c-6587-11e9-b810-02420a00005a",
     "next": "47bbce7e-6587-11e9-b810-02420a00005a",
     "previous": "47bbce1a-6587-11e9-b810-02420a00005a"
    }
   },
   "outputs": [],
   "source": [
    "!netstat -i"
   ]
  },
  {
   "cell_type": "markdown",
   "metadata": {
    "lc_cell_meme": {
     "current": "47bbce7e-6587-11e9-b810-02420a00005a",
     "next": "47bbcea6-6587-11e9-b810-02420a00005a",
     "previous": "47bbce4c-6587-11e9-b810-02420a00005a"
    }
   },
   "source": [
    "**ipコマンドで 自身のIPアドレスを表示**"
   ]
  },
  {
   "cell_type": "code",
   "execution_count": null,
   "metadata": {
    "lc_cell_meme": {
     "current": "47bbcea6-6587-11e9-b810-02420a00005a",
     "next": "47bbced8-6587-11e9-b810-02420a00005a",
     "previous": "47bbce7e-6587-11e9-b810-02420a00005a"
    }
   },
   "outputs": [],
   "source": [
    "!ip addr"
   ]
  },
  {
   "cell_type": "markdown",
   "metadata": {
    "lc_cell_meme": {
     "current": "47bbced8-6587-11e9-b810-02420a00005a",
     "next": "47bbcf0a-6587-11e9-b810-02420a00005a",
     "previous": "47bbcea6-6587-11e9-b810-02420a00005a"
    }
   },
   "source": [
    "**ipコマンドで ARPテーブルを表示**"
   ]
  },
  {
   "cell_type": "code",
   "execution_count": null,
   "metadata": {
    "lc_cell_meme": {
     "current": "47bbcf0a-6587-11e9-b810-02420a00005a",
     "next": "47bbd0c2-6587-11e9-b810-02420a00005a",
     "previous": "47bbced8-6587-11e9-b810-02420a00005a"
    }
   },
   "outputs": [],
   "source": [
    "!ip nei"
   ]
  },
  {
   "cell_type": "markdown",
   "metadata": {
    "lc_cell_meme": {
     "current": "47bbd0c2-6587-11e9-b810-02420a00005a",
     "next": "47bbd112-6587-11e9-b810-02420a00005a",
     "previous": "47bbcf0a-6587-11e9-b810-02420a00005a"
    }
   },
   "source": [
    "**ipコマンドで routing tableを表示**"
   ]
  },
  {
   "cell_type": "code",
   "execution_count": null,
   "metadata": {
    "lc_cell_meme": {
     "current": "47bbd112-6587-11e9-b810-02420a00005a",
     "next": "47bbd144-6587-11e9-b810-02420a00005a",
     "previous": "47bbd0c2-6587-11e9-b810-02420a00005a"
    }
   },
   "outputs": [],
   "source": [
    "!ip route"
   ]
  },
  {
   "cell_type": "markdown",
   "metadata": {
    "lc_cell_meme": {
     "current": "47bbd144-6587-11e9-b810-02420a00005a",
     "next": "47bbd16c-6587-11e9-b810-02420a00005a",
     "previous": "47bbd112-6587-11e9-b810-02420a00005a"
    }
   },
   "source": [
    "**ipコマンドで routing tableを表示 (showを付けない場合と同じ）**"
   ]
  },
  {
   "cell_type": "code",
   "execution_count": null,
   "metadata": {
    "lc_cell_meme": {
     "current": "47bbd16c-6587-11e9-b810-02420a00005a",
     "next": "47bbd19e-6587-11e9-b810-02420a00005a",
     "previous": "47bbd144-6587-11e9-b810-02420a00005a"
    }
   },
   "outputs": [],
   "source": [
    "!ip route show"
   ]
  },
  {
   "cell_type": "markdown",
   "metadata": {
    "lc_cell_meme": {
     "current": "47bbd19e-6587-11e9-b810-02420a00005a",
     "next": "47bbd1d0-6587-11e9-b810-02420a00005a",
     "previous": "47bbd16c-6587-11e9-b810-02420a00005a"
    }
   },
   "source": [
    "**ipコマンドで 8.8.8.8へのrouting状況を表示**"
   ]
  },
  {
   "cell_type": "code",
   "execution_count": null,
   "metadata": {
    "lc_cell_meme": {
     "current": "47bbd1d0-6587-11e9-b810-02420a00005a",
     "next": "47bbd202-6587-11e9-b810-02420a00005a",
     "previous": "47bbd19e-6587-11e9-b810-02420a00005a"
    }
   },
   "outputs": [],
   "source": [
    "!ip route get 8.8.8.8"
   ]
  },
  {
   "cell_type": "markdown",
   "metadata": {
    "lc_cell_meme": {
     "current": "47bbd202-6587-11e9-b810-02420a00005a",
     "next": "47bbd234-6587-11e9-b810-02420a00005a",
     "previous": "47bbd1d0-6587-11e9-b810-02420a00005a"
    }
   },
   "source": [
    "**ipコマンドで 172.19.0.3へのrouting状況を表示**"
   ]
  },
  {
   "cell_type": "code",
   "execution_count": null,
   "metadata": {
    "lc_cell_meme": {
     "current": "47bbd234-6587-11e9-b810-02420a00005a",
     "next": "47bbd266-6587-11e9-b810-02420a00005a",
     "previous": "47bbd202-6587-11e9-b810-02420a00005a"
    }
   },
   "outputs": [],
   "source": [
    "!ip route get 172.19.0.3"
   ]
  },
  {
   "cell_type": "markdown",
   "metadata": {
    "lc_cell_meme": {
     "current": "47bbd266-6587-11e9-b810-02420a00005a",
     "next": "47bbd298-6587-11e9-b810-02420a00005a",
     "previous": "47bbd234-6587-11e9-b810-02420a00005a"
    }
   },
   "source": [
    "**ipコマンドで 172.19.0.4へのrouting状況を表示**"
   ]
  },
  {
   "cell_type": "code",
   "execution_count": null,
   "metadata": {
    "lc_cell_meme": {
     "current": "47bbd298-6587-11e9-b810-02420a00005a",
     "next": "47bbd2c0-6587-11e9-b810-02420a00005a",
     "previous": "47bbd266-6587-11e9-b810-02420a00005a"
    }
   },
   "outputs": [],
   "source": [
    "!ip route get 172.19.0.4"
   ]
  },
  {
   "cell_type": "markdown",
   "metadata": {
    "lc_cell_meme": {
     "current": "47bbd2c0-6587-11e9-b810-02420a00005a",
     "next": "47bbd2f2-6587-11e9-b810-02420a00005a",
     "previous": "47bbd298-6587-11e9-b810-02420a00005a"
    }
   },
   "source": [
    "**ipコマンドで 172.19.1.3へのrouting状況を表示**"
   ]
  },
  {
   "cell_type": "code",
   "execution_count": null,
   "metadata": {
    "lc_cell_meme": {
     "current": "47bbd2f2-6587-11e9-b810-02420a00005a",
     "next": "47bbd324-6587-11e9-b810-02420a00005a",
     "previous": "47bbd2c0-6587-11e9-b810-02420a00005a"
    }
   },
   "outputs": [],
   "source": [
    "!ip route get 172.19.1.3"
   ]
  },
  {
   "cell_type": "markdown",
   "metadata": {
    "lc_cell_meme": {
     "current": "47bbd324-6587-11e9-b810-02420a00005a",
     "next": "47bbd34c-6587-11e9-b810-02420a00005a",
     "previous": "47bbd2f2-6587-11e9-b810-02420a00005a"
    }
   },
   "source": [
    "**ipコマンドで 172.18.0.3へのrouting状況を表示　(172.19.0.3や172.19.1.3)　へとは違うroutingになるはず**"
   ]
  },
  {
   "cell_type": "code",
   "execution_count": null,
   "metadata": {
    "lc_cell_meme": {
     "current": "47bbd34c-6587-11e9-b810-02420a00005a",
     "next": "47bbd37e-6587-11e9-b810-02420a00005a",
     "previous": "47bbd324-6587-11e9-b810-02420a00005a"
    }
   },
   "outputs": [],
   "source": [
    "!ip route get 172.18.0.3"
   ]
  },
  {
   "cell_type": "markdown",
   "metadata": {
    "lc_cell_meme": {
     "current": "47bbd37e-6587-11e9-b810-02420a00005a",
     "next": "47bbd3ba-6587-11e9-b810-02420a00005a",
     "previous": "47bbd34c-6587-11e9-b810-02420a00005a"
    }
   },
   "source": [
    "**tracerouteコマンドで最終到達地点までの　routingを表示**"
   ]
  },
  {
   "cell_type": "code",
   "execution_count": null,
   "metadata": {
    "lc_cell_meme": {
     "current": "47bbd3ba-6587-11e9-b810-02420a00005a",
     "next": "47bbd3ec-6587-11e9-b810-02420a00005a",
     "previous": "47bbd37e-6587-11e9-b810-02420a00005a"
    }
   },
   "outputs": [],
   "source": [
    "!traceroute 172.19.0.3"
   ]
  },
  {
   "cell_type": "code",
   "execution_count": null,
   "metadata": {
    "lc_cell_meme": {
     "current": "47bbd3ec-6587-11e9-b810-02420a00005a",
     "next": "47bbd414-6587-11e9-b810-02420a00005a",
     "previous": "47bbd3ba-6587-11e9-b810-02420a00005a"
    }
   },
   "outputs": [],
   "source": [
    "!sudo traceroute -I 172.20.0.3"
   ]
  },
  {
   "cell_type": "code",
   "execution_count": null,
   "metadata": {
    "lc_cell_meme": {
     "current": "47bbd414-6587-11e9-b810-02420a00005a",
     "next": null,
     "previous": "47bbd3ec-6587-11e9-b810-02420a00005a"
    }
   },
   "outputs": [],
   "source": [
    "!sudo traceroute -I 8.8.8.8"
   ]
  }
 ],
 "metadata": {
  "kernelspec": {
   "display_name": "Python 3",
   "language": "python",
   "name": "python3"
  },
  "language_info": {
   "codemirror_mode": {
    "name": "ipython",
    "version": 3
   },
   "file_extension": ".py",
   "mimetype": "text/x-python",
   "name": "python",
   "nbconvert_exporter": "python",
   "pygments_lexer": "ipython3",
   "version": "3.7.3"
  },
  "lc_notebook_meme": {
   "current": "47bbcbfe-6587-11e9-b810-02420a00005a",
   "lc_server_signature": {
    "current": {
     "notebook_dir": "/home/yoko69d621",
     "notebook_path": "/textbook/cloud",
     "server_url": "https://nb03.ecloud.nii.ac.jp/user/yoko69d621/",
     "signature_id": "5e786c6e-5fea-11e9-b810-02420a00005a"
    },
    "history": []
   }
  }
 },
 "nbformat": 4,
 "nbformat_minor": 2
}
