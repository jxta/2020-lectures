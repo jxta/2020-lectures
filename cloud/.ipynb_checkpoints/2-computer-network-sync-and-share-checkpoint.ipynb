{
 "cells": [
  {
   "cell_type": "markdown",
   "metadata": {
    "lc_cell_meme": {
     "current": "c8f3afee-60db-11e9-b810-02420a00005a",
     "next": "c8f3b05c-60db-11e9-b810-02420a00005a",
     "previous": null
    }
   },
   "source": [
    "**コンピュータネットワークを使ってみよう** （Jupyter notebookのcell内では　**!**の後にLinuxコマンドを書くとコマンドが実行できる。）"
   ]
  },
  {
   "cell_type": "markdown",
   "metadata": {
    "lc_cell_meme": {
     "current": "c8f3b05c-60db-11e9-b810-02420a00005a",
     "next": "c8f3b098-60db-11e9-b810-02420a00005a",
     "previous": "c8f3afee-60db-11e9-b810-02420a00005a"
    }
   },
   "source": [
    "**curlコマンドをインストール**　　https://ja.wikipedia.org/wiki/CURL"
   ]
  },
  {
   "cell_type": "code",
   "execution_count": null,
   "metadata": {
    "lc_cell_meme": {
     "current": "c8f3b098-60db-11e9-b810-02420a00005a",
     "next": "c8f3b0d4-60db-11e9-b810-02420a00005a",
     "previous": "c8f3b05c-60db-11e9-b810-02420a00005a"
    }
   },
   "outputs": [],
   "source": [
    "!sudo apt-get update; sudo apt-get install curl -y"
   ]
  },
  {
   "cell_type": "markdown",
   "metadata": {
    "lc_cell_meme": {
     "current": "c8f3b0d4-60db-11e9-b810-02420a00005a",
     "next": "c8f3b106-60db-11e9-b810-02420a00005a",
     "previous": "c8f3b098-60db-11e9-b810-02420a00005a"
    }
   },
   "source": [
    "**出席管理用　etherpad https://etherpad.openstack.org/p/2019-cloud-ac から　curlコマンドで情報を取得**"
   ]
  },
  {
   "cell_type": "code",
   "execution_count": null,
   "metadata": {
    "lc_cell_meme": {
     "current": "c8f3b106-60db-11e9-b810-02420a00005a",
     "next": "c8f3b12e-60db-11e9-b810-02420a00005a",
     "previous": "c8f3b0d4-60db-11e9-b810-02420a00005a"
    }
   },
   "outputs": [],
   "source": [
    "!curl https://etherpad.openstack.org/p/2019-cloud-ac/export/txt"
   ]
  },
  {
   "cell_type": "markdown",
   "metadata": {
    "lc_cell_meme": {
     "current": "c8f3b12e-60db-11e9-b810-02420a00005a",
     "next": "c8f3b160-60db-11e9-b810-02420a00005a",
     "previous": "c8f3b106-60db-11e9-b810-02420a00005a"
    }
   },
   "source": [
    "**では簡単な設問に回答して理解度チェック**"
   ]
  },
  {
   "cell_type": "markdown",
   "metadata": {
    "lc_cell_meme": {
     "current": "c8f3b160-60db-11e9-b810-02420a00005a",
     "next": "c8f3b192-60db-11e9-b810-02420a00005a",
     "previous": "c8f3b12e-60db-11e9-b810-02420a00005a"
    }
   },
   "source": [
    "**出席簿ではなくQ&Aとかがある講義のetherpadページを表示することはできますか？**\n",
    "**そのコマンドを作って実行してみましょう**"
   ]
  },
  {
   "cell_type": "code",
   "execution_count": null,
   "metadata": {
    "lc_cell_meme": {
     "current": "c8f3b192-60db-11e9-b810-02420a00005a",
     "history": [
      {
       "current": "c8f3b192-60db-11e9-b810-02420a00005a",
       "next": null,
       "previous": "c8f3b160-60db-11e9-b810-02420a00005a"
      }
     ],
     "next": "578a1c3e-e417-11e9-8e4c-02420a0102b6",
     "previous": "c8f3b160-60db-11e9-b810-02420a00005a"
    }
   },
   "outputs": [],
   "source": [
    "##ここの下の行にコマンドをコピーして実行してみてください。\n"
   ]
  },
  {
   "cell_type": "code",
   "execution_count": null,
   "metadata": {
    "lc_cell_meme": {
     "current": "578a1c3e-e417-11e9-8e4c-02420a0102b6",
     "next": "578a1ebe-e417-11e9-8e4c-02420a0102b6",
     "previous": "c8f3b192-60db-11e9-b810-02420a00005a"
    }
   },
   "outputs": [],
   "source": [
    "periodic_draw('c8f3b192-60db-11e9-b810-02420a00005a', '20191001', 75, 5)"
   ]
  },
  {
   "cell_type": "code",
   "execution_count": null,
   "metadata": {
    "lc_cell_meme": {
     "current": "578a1ebe-e417-11e9-8e4c-02420a0102b6",
     "next": null,
     "previous": "578a1c3e-e417-11e9-8e4c-02420a0102b6"
    }
   },
   "outputs": [],
   "source": [
    "%matplotlib inline\n",
    "\n",
    "import pandas as pd\n",
    "import numpy as np\n",
    "import matplotlib.pyplot as plt\n",
    "from datetime import datetime, timedelta\n",
    "import time\n",
    "import pylab as pl\n",
    "from IPython import display as disp\n",
    "import readLCLog\n",
    "import os, sys, re, hashlib, string, tempfile, shutil, subprocess\n",
    "\n",
    "# 以下に、対象ユーザのメールアドレスを列挙してください。\n",
    "STUDENT_LIST = '''#ここから#\n",
    "yoko@gunma-u.ac.jp\n",
    "e800a001@gunma-u.ac.jp\n",
    "e800a002@gunma-u.ac.jp\n",
    "'''#ここまで# \n",
    "\n",
    "def jupyter_user_name_from_email(mail_address):\n",
    "    # Convert to lower and remove characters except alphabetic\n",
    "    wk = mail_address.split('@')\n",
    "    local_part = wk[0].lower()\n",
    "    result = re.sub(r'[^a-zA-Z]', '', local_part)\n",
    "    # Add top 6bytes of hash string\n",
    "    md5 = hashlib.md5()\n",
    "    md5.update(mail_address.encode('us-ascii'))\n",
    "    h = md5.hexdigest()[0:6]\n",
    "    result += h;\n",
    "    return result;\n",
    "        \n",
    "target_students=set()\n",
    "for line in STUDENT_LIST.splitlines():\n",
    "    s = re.sub(r'#.*$', '', line).strip()\n",
    "    if(0 < len(s)):\n",
    "        target_students.add(s)\n",
    "\n",
    "\n",
    "def periodic_draw(cell, date, rotate, interval):\n",
    "    # 矢印,BOXのプロパティを設定\n",
    "    arrow_dict = dict(arrowstyle = \"->\", color = \"saddlebrown\")\n",
    "    text_dict = dict(boxstyle = \"round\", fc = \"silver\", ec = \"black\")\n",
    "    pl.figure(figsize=(15,5))\n",
    "\n",
    "    while True:\n",
    "        try:\n",
    "            f =  !ls /home/jupyter/workspace/*/nw_sec/.log/$date/*log\n",
    "            log_df = readLCLog.readlogFiles(f)\n",
    "            cell_name_groupby = log_df.groupby('cell_name')\n",
    "            the_cell_df = cell_name_groupby.get_group(cell)\n",
    "            pl.clf()\n",
    "            \n",
    "            for student in target_students:\n",
    "                u = jupyter_user_name_from_email(student)\n",
    "                x = the_cell_df.loc[log_df['user'] == u].start_time\n",
    "                y = the_cell_df.loc[log_df['user'] == u].user\n",
    "                z = the_cell_df.loc[log_df['user'] == u].program_code\n",
    "                pl.plot(x, y, '-o',label=u)\n",
    "                for i,(k,l,m) in enumerate(zip(x,y,z)):\n",
    "                    pl.annotate(str(i+1)+': '+m.splitlines()[0],(k,l), color = \"black\", rotation = rotate, bbox = text_dict,  arrowprops = arrow_dict)\n",
    "            disp.display(pl.gcf())\n",
    "            disp.clear_output(wait=True)\n",
    "            time.sleep(interval)\n",
    "        except KeyboardInterrupt:\n",
    "            break"
   ]
  }
 ],
 "metadata": {
  "kernelspec": {
   "display_name": "Python 3",
   "language": "python",
   "name": "python3"
  },
  "language_info": {
   "file_extension": ".py",
   "mimetype": "text/x-python",
   "name": "python",
   "nbconvert_exporter": "python",
   "pygments_lexer": "ipython3",
   "version": "3.7.3"
  },
  "lc_notebook_meme": {
   "current": "c8f3adb4-60db-11e9-b810-02420a00005a",
   "lc_server_signature": {
    "current": {
     "notebook_dir": "/home/yoko69d621",
     "notebook_path": "/textbook/cloud",
     "server_url": "https://nb03.ecloud.nii.ac.jp/user/yoko69d621/",
     "signature_id": "5e786c6e-5fea-11e9-b810-02420a00005a"
    },
    "history": [
     {
      "notebook_dir": "/home/yoko69d621",
      "notebook_path": "/textbook/nw_sec",
      "server_url": "https://nb03.ecloud.nii.ac.jp/user/yoko69d621/",
      "signature_id": "5e786c6e-5fea-11e9-b810-02420a00005a"
     }
    ]
   }
  },
  "toc": {
   "base_numbering": 1,
   "nav_menu": {},
   "number_sections": true,
   "sideBar": true,
   "skip_h1_title": false,
   "title_cell": "Table of Contents",
   "title_sidebar": "Contents",
   "toc_cell": false,
   "toc_position": {},
   "toc_section_display": true,
   "toc_window_display": false
  }
 },
 "nbformat": 4,
 "nbformat_minor": 2
}
