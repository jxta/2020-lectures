{
 "cells": [
  {
   "cell_type": "markdown",
   "metadata": {
    "lc_cell_meme": {
     "current": "9022202a-658a-11e9-b810-02420a00005a",
     "next": "902220a2-658a-11e9-b810-02420a00005a",
     "previous": null
    }
   },
   "source": [
    "**ルートサーバ wikiを確認してみよう**\n",
    "[ルートサーバ wiki](https://ja.wikipedia.org/wiki/%E3%83%AB%E3%83%BC%E3%83%88%E3%82%B5%E3%83%BC%E3%83%90)"
   ]
  },
  {
   "cell_type": "markdown",
   "metadata": {
    "lc_cell_meme": {
     "current": "902220a2-658a-11e9-b810-02420a00005a",
     "next": "902220de-658a-11e9-b810-02420a00005a",
     "previous": "9022202a-658a-11e9-b810-02420a00005a"
    }
   },
   "source": [
    "**digコマンドをインストールしよう**"
   ]
  },
  {
   "cell_type": "code",
   "execution_count": null,
   "metadata": {
    "lc_cell_meme": {
     "current": "902220de-658a-11e9-b810-02420a00005a",
     "next": "90222110-658a-11e9-b810-02420a00005a",
     "previous": "902220a2-658a-11e9-b810-02420a00005a"
    }
   },
   "outputs": [],
   "source": [
    "!sudo apt-get update; sudo apt-get install dnsutils -y"
   ]
  },
  {
   "cell_type": "markdown",
   "metadata": {
    "lc_cell_meme": {
     "current": "90222110-658a-11e9-b810-02420a00005a",
     "next": "90222142-658a-11e9-b810-02420a00005a",
     "previous": "902220de-658a-11e9-b810-02420a00005a"
    }
   },
   "source": [
    "**digコマンドを使ってみよう**"
   ]
  },
  {
   "cell_type": "code",
   "execution_count": null,
   "metadata": {
    "lc_cell_meme": {
     "current": "90222142-658a-11e9-b810-02420a00005a",
     "next": "90222174-658a-11e9-b810-02420a00005a",
     "previous": "90222110-658a-11e9-b810-02420a00005a"
    }
   },
   "outputs": [],
   "source": [
    "!dig @m.root-servers.net www.google.com"
   ]
  },
  {
   "cell_type": "code",
   "execution_count": null,
   "metadata": {
    "lc_cell_meme": {
     "current": "90222174-658a-11e9-b810-02420a00005a",
     "next": "9022219c-658a-11e9-b810-02420a00005a",
     "previous": "90222142-658a-11e9-b810-02420a00005a"
    }
   },
   "outputs": [],
   "source": [
    "!dig @l.gtld-servers.net www.google.com"
   ]
  },
  {
   "cell_type": "code",
   "execution_count": null,
   "metadata": {
    "lc_cell_meme": {
     "current": "9022219c-658a-11e9-b810-02420a00005a",
     "next": "902221ce-658a-11e9-b810-02420a00005a",
     "previous": "90222174-658a-11e9-b810-02420a00005a"
    }
   },
   "outputs": [],
   "source": [
    "!dig @ns3.google.com www.google.com"
   ]
  },
  {
   "cell_type": "code",
   "execution_count": null,
   "metadata": {
    "lc_cell_meme": {
     "current": "902221ce-658a-11e9-b810-02420a00005a",
     "next": "90222200-658a-11e9-b810-02420a00005a",
     "previous": "9022219c-658a-11e9-b810-02420a00005a"
    }
   },
   "outputs": [],
   "source": [
    "!dig www.gunma-u.ac.jp"
   ]
  },
  {
   "cell_type": "code",
   "execution_count": null,
   "metadata": {
    "lc_cell_meme": {
     "current": "90222200-658a-11e9-b810-02420a00005a",
     "next": "90222228-658a-11e9-b810-02420a00005a",
     "previous": "902221ce-658a-11e9-b810-02420a00005a"
    }
   },
   "outputs": [],
   "source": [
    "!dig @8.8.8.8 www.gunma-u.ac.jp"
   ]
  },
  {
   "cell_type": "code",
   "execution_count": null,
   "metadata": {
    "lc_cell_meme": {
     "current": "90222228-658a-11e9-b810-02420a00005a",
     "next": null,
     "previous": "90222200-658a-11e9-b810-02420a00005a"
    }
   },
   "outputs": [],
   "source": [
    "!dig @nse01.gunma-u.ac.jp www.gunma-u.ac.jp"
   ]
  }
 ],
 "metadata": {
  "kernelspec": {
   "display_name": "Python 3",
   "language": "python",
   "name": "python3"
  },
  "language_info": {
   "codemirror_mode": {
    "name": "ipython",
    "version": 3
   },
   "file_extension": ".py",
   "mimetype": "text/x-python",
   "name": "python",
   "nbconvert_exporter": "python",
   "pygments_lexer": "ipython3",
   "version": "3.7.3"
  },
  "lc_notebook_meme": {
   "current": "90221e2c-658a-11e9-b810-02420a00005a",
   "lc_server_signature": {
    "current": {
     "notebook_dir": "/home/yoko69d621",
     "notebook_path": "/textbook/cloud",
     "server_url": "https://nb03.ecloud.nii.ac.jp/user/yoko69d621/",
     "signature_id": "5e786c6e-5fea-11e9-b810-02420a00005a"
    },
    "history": []
   }
  }
 },
 "nbformat": 4,
 "nbformat_minor": 2
}
