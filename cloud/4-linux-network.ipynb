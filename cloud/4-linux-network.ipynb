{
 "cells": [
  {
   "cell_type": "markdown",
   "metadata": {
    "lc_cell_meme": {
     "current": "e288cea8-6586-11e9-b810-02420a00005a",
     "next": "e288cf0c-6586-11e9-b810-02420a00005a",
     "previous": null
    }
   },
   "source": [
    "**必要なネットワーク関連コマンドのインストール**"
   ]
  },
  {
   "cell_type": "code",
   "execution_count": null,
   "metadata": {
    "lc_cell_meme": {
     "current": "e288cf0c-6586-11e9-b810-02420a00005a",
     "next": "e288cf48-6586-11e9-b810-02420a00005a",
     "previous": "e288cea8-6586-11e9-b810-02420a00005a"
    }
   },
   "outputs": [],
   "source": [
    "!sudo apt-get update"
   ]
  },
  {
   "cell_type": "code",
   "execution_count": null,
   "metadata": {
    "lc_cell_meme": {
     "current": "e288cf48-6586-11e9-b810-02420a00005a",
     "next": "e288cf7a-6586-11e9-b810-02420a00005a",
     "previous": "e288cf0c-6586-11e9-b810-02420a00005a"
    }
   },
   "outputs": [],
   "source": [
    "!sudo apt-get install iproute2 iputils-ping -y"
   ]
  },
  {
   "cell_type": "markdown",
   "metadata": {
    "lc_cell_meme": {
     "current": "e288cf7a-6586-11e9-b810-02420a00005a",
     "next": "e288cfb6-6586-11e9-b810-02420a00005a",
     "previous": "e288cf48-6586-11e9-b810-02420a00005a"
    }
   },
   "source": [
    "**ipコマンドをたたいてみよう**"
   ]
  },
  {
   "cell_type": "code",
   "execution_count": null,
   "metadata": {
    "lc_cell_meme": {
     "current": "e288cfb6-6586-11e9-b810-02420a00005a",
     "next": "e288cfe8-6586-11e9-b810-02420a00005a",
     "previous": "e288cf7a-6586-11e9-b810-02420a00005a"
    }
   },
   "outputs": [],
   "source": [
    "!ip addr"
   ]
  },
  {
   "cell_type": "markdown",
   "metadata": {
    "lc_cell_meme": {
     "current": "e288cfe8-6586-11e9-b810-02420a00005a",
     "next": "e288d01a-6586-11e9-b810-02420a00005a",
     "previous": "e288cfb6-6586-11e9-b810-02420a00005a"
    }
   },
   "source": [
    "**ipコマンド の機能を見てみよう**"
   ]
  },
  {
   "cell_type": "code",
   "execution_count": null,
   "metadata": {
    "lc_cell_meme": {
     "current": "e288d01a-6586-11e9-b810-02420a00005a",
     "next": "e288d056-6586-11e9-b810-02420a00005a",
     "previous": "e288cfe8-6586-11e9-b810-02420a00005a"
    }
   },
   "outputs": [],
   "source": [
    "!ip --help"
   ]
  },
  {
   "cell_type": "markdown",
   "metadata": {
    "lc_cell_meme": {
     "current": "e288d056-6586-11e9-b810-02420a00005a",
     "next": "e288d088-6586-11e9-b810-02420a00005a",
     "previous": "e288d01a-6586-11e9-b810-02420a00005a"
    }
   },
   "source": [
    "**pingコマンド をたたいてみよう**"
   ]
  },
  {
   "cell_type": "code",
   "execution_count": null,
   "metadata": {
    "lc_cell_meme": {
     "current": "e288d088-6586-11e9-b810-02420a00005a",
     "next": "e288d0c4-6586-11e9-b810-02420a00005a",
     "previous": "e288d056-6586-11e9-b810-02420a00005a"
    },
    "scrolled": true
   },
   "outputs": [],
   "source": [
    "!ping 8.8.8.8 -c 5"
   ]
  },
  {
   "cell_type": "markdown",
   "metadata": {
    "lc_cell_meme": {
     "current": "e288d0c4-6586-11e9-b810-02420a00005a",
     "next": "e288d0f6-6586-11e9-b810-02420a00005a",
     "previous": "e288d088-6586-11e9-b810-02420a00005a"
    }
   },
   "source": [
    "**pingコマンド の機能を見てみよう**"
   ]
  },
  {
   "cell_type": "code",
   "execution_count": null,
   "metadata": {
    "lc_cell_meme": {
     "current": "e288d0f6-6586-11e9-b810-02420a00005a",
     "next": "e288d128-6586-11e9-b810-02420a00005a",
     "previous": "e288d0c4-6586-11e9-b810-02420a00005a"
    },
    "scrolled": true
   },
   "outputs": [],
   "source": [
    "!ping"
   ]
  },
  {
   "cell_type": "markdown",
   "metadata": {
    "lc_cell_meme": {
     "current": "e288d128-6586-11e9-b810-02420a00005a",
     "next": "e288d15a-6586-11e9-b810-02420a00005a",
     "previous": "e288d0f6-6586-11e9-b810-02420a00005a"
    }
   },
   "source": [
    "**network関連コマンド(nslをインストールしよう**"
   ]
  },
  {
   "cell_type": "code",
   "execution_count": null,
   "metadata": {
    "lc_cell_meme": {
     "current": "e288d15a-6586-11e9-b810-02420a00005a",
     "next": "e288d18c-6586-11e9-b810-02420a00005a",
     "previous": "e288d128-6586-11e9-b810-02420a00005a"
    },
    "scrolled": true
   },
   "outputs": [],
   "source": [
    "!sudo apt-get update"
   ]
  },
  {
   "cell_type": "code",
   "execution_count": null,
   "metadata": {
    "lc_cell_meme": {
     "current": "e288d18c-6586-11e9-b810-02420a00005a",
     "next": "e288d1be-6586-11e9-b810-02420a00005a",
     "previous": "e288d15a-6586-11e9-b810-02420a00005a"
    },
    "scrolled": true
   },
   "outputs": [],
   "source": [
    "!sudo apt-get install dnsutils -y"
   ]
  },
  {
   "cell_type": "code",
   "execution_count": null,
   "metadata": {
    "lc_cell_meme": {
     "current": "e288d1be-6586-11e9-b810-02420a00005a",
     "next": "e288d1f0-6586-11e9-b810-02420a00005a",
     "previous": "e288d18c-6586-11e9-b810-02420a00005a"
    },
    "scrolled": true
   },
   "outputs": [],
   "source": [
    "!sudo apt-get install traceroute -y"
   ]
  },
  {
   "cell_type": "markdown",
   "metadata": {
    "lc_cell_meme": {
     "current": "e288d1f0-6586-11e9-b810-02420a00005a",
     "next": "e288d222-6586-11e9-b810-02420a00005a",
     "previous": "e288d1be-6586-11e9-b810-02420a00005a"
    }
   },
   "source": [
    "**nslookupコマンド をたたいてみよう**"
   ]
  },
  {
   "cell_type": "code",
   "execution_count": null,
   "metadata": {
    "lc_cell_meme": {
     "current": "e288d222-6586-11e9-b810-02420a00005a",
     "next": "e288d25e-6586-11e9-b810-02420a00005a",
     "previous": "e288d1f0-6586-11e9-b810-02420a00005a"
    },
    "scrolled": true
   },
   "outputs": [],
   "source": [
    "!nslookup www.gunma-u.ac.jp"
   ]
  },
  {
   "cell_type": "markdown",
   "metadata": {
    "lc_cell_meme": {
     "current": "e288d25e-6586-11e9-b810-02420a00005a",
     "next": "e288d290-6586-11e9-b810-02420a00005a",
     "previous": "e288d222-6586-11e9-b810-02420a00005a"
    }
   },
   "source": [
    "**tracerouteコマンド をたたいてみよう**"
   ]
  },
  {
   "cell_type": "code",
   "execution_count": null,
   "metadata": {
    "lc_cell_meme": {
     "current": "e288d290-6586-11e9-b810-02420a00005a",
     "next": "e288d2c2-6586-11e9-b810-02420a00005a",
     "previous": "e288d25e-6586-11e9-b810-02420a00005a"
    }
   },
   "outputs": [],
   "source": [
    "!traceroute --help"
   ]
  },
  {
   "cell_type": "code",
   "execution_count": null,
   "metadata": {
    "lc_cell_meme": {
     "current": "e288d2c2-6586-11e9-b810-02420a00005a",
     "history": [
      {
       "current": "e288d2c2-6586-11e9-b810-02420a00005a",
       "next": null,
       "previous": "e288d290-6586-11e9-b810-02420a00005a"
      }
     ],
     "next": "85610784-e706-11e9-b447-02420a0102d6",
     "previous": "e288d290-6586-11e9-b810-02420a00005a"
    },
    "scrolled": true
   },
   "outputs": [],
   "source": [
    "!sudo traceroute  -I www.google.com"
   ]
  },
  {
   "cell_type": "markdown",
   "metadata": {
    "lc_cell_meme": {
     "current": "85610784-e706-11e9-b447-02420a0102d6",
     "history": [
      {
       "current": "85610784-e706-11e9-b447-02420a0102d6",
       "next": null,
       "previous": "e288d2c2-6586-11e9-b810-02420a00005a"
      },
      {
       "current": "85610784-e706-11e9-b447-02420a0102d6",
       "next": "cce6ac94-e706-11e9-b447-02420a0102d6",
       "previous": "e288d2c2-6586-11e9-b810-02420a00005a"
      }
     ],
     "next": "9f0060b2-e707-11e9-b447-02420a0102d6",
     "previous": "e288d2c2-6586-11e9-b810-02420a00005a"
    }
   },
   "source": [
    "**Quiz-１**\n",
    "\n",
    "**自分自身のマシンへのネットワーク遅延時間をpingコマンドで測定して見ましょう！**\n",
    "\n",
    "**そのためのコマンドを作って実行してみましょう。**"
   ]
  },
  {
   "cell_type": "code",
   "execution_count": null,
   "metadata": {
    "lc_cell_meme": {
     "current": "9f0060b2-e707-11e9-b447-02420a0102d6",
     "next": "cce6ac94-e706-11e9-b447-02420a0102d6",
     "previous": "85610784-e706-11e9-b447-02420a0102d6"
    }
   },
   "outputs": [],
   "source": [
    "##ここの下の行にコマンドを書いて実行してみてください。\n"
   ]
  },
  {
   "cell_type": "markdown",
   "metadata": {
    "lc_cell_meme": {
     "current": "cce6ac94-e706-11e9-b447-02420a0102d6",
     "history": [
      {
       "current": "cce6ac94-e706-11e9-b447-02420a0102d6",
       "next": "cce6aece-e706-11e9-b447-02420a0102d6",
       "previous": "85610784-e706-11e9-b447-02420a0102d6"
      }
     ],
     "next": "9f006314-e707-11e9-b447-02420a0102d6",
     "previous": "9f0060b2-e707-11e9-b447-02420a0102d6"
    }
   },
   "source": [
    "**Quiz-2**\n",
    "\n",
    "**隣の人のマシンへのネットワーク遅延時間をpingコマンドで測定して見ましょう！**\n",
    "\n",
    "**そのためのコマンドを作って実行してみましょう。**"
   ]
  },
  {
   "cell_type": "code",
   "execution_count": null,
   "metadata": {
    "lc_cell_meme": {
     "current": "9f006314-e707-11e9-b447-02420a0102d6",
     "next": "cce6aece-e706-11e9-b447-02420a0102d6",
     "previous": "cce6ac94-e706-11e9-b447-02420a0102d6"
    }
   },
   "outputs": [],
   "source": [
    "##ここの下の行にコマンドを書いて実行してみてください。\n"
   ]
  },
  {
   "cell_type": "markdown",
   "metadata": {
    "lc_cell_meme": {
     "current": "cce6aece-e706-11e9-b447-02420a0102d6",
     "history": [
      {
       "current": "cce6aece-e706-11e9-b447-02420a0102d6",
       "next": null,
       "previous": "cce6ac94-e706-11e9-b447-02420a0102d6"
      },
      {
       "current": "cce6aece-e706-11e9-b447-02420a0102d6",
       "next": "147221e2-e707-11e9-b447-02420a0102d6",
       "previous": "cce6ac94-e706-11e9-b447-02420a0102d6"
      }
     ],
     "next": "9f006472-e707-11e9-b447-02420a0102d6",
     "previous": "9f006314-e707-11e9-b447-02420a0102d6"
    }
   },
   "source": [
    "**Quiz-3**\n",
    "\n",
    "**http://etherpad.openstack.org/p/2019-cloud へのネットワーク遅延時間をpingコマンドで測定して見ましょう！**\n",
    "\n",
    "**そのためのコマンドを作って実行してみましょう。**"
   ]
  },
  {
   "cell_type": "code",
   "execution_count": null,
   "metadata": {
    "lc_cell_meme": {
     "current": "9f006472-e707-11e9-b447-02420a0102d6",
     "next": "147221e2-e707-11e9-b447-02420a0102d6",
     "previous": "cce6aece-e706-11e9-b447-02420a0102d6"
    },
    "lc_wrapper": {
     "log_history": [
      "/home/yoko69d621/cloud/.log/20191022/20191022-061120-0201.log",
      "/home/yoko69d621/cloud/.log/20191022/20191022-061131-0580.log"
     ]
    }
   },
   "outputs": [],
   "source": [
    "##ここの下の行にコマンドを書いて実行してみてください。\n"
   ]
  },
  {
   "cell_type": "markdown",
   "metadata": {
    "lc_cell_meme": {
     "current": "147221e2-e707-11e9-b447-02420a0102d6",
     "history": [
      {
       "current": "147221e2-e707-11e9-b447-02420a0102d6",
       "next": null,
       "previous": "cce6aece-e706-11e9-b447-02420a0102d6"
      },
      {
       "current": "147221e2-e707-11e9-b447-02420a0102d6",
       "next": "5bf3bef4-e707-11e9-b447-02420a0102d6",
       "previous": "cce6aece-e706-11e9-b447-02420a0102d6"
      }
     ],
     "next": "9f0065a8-e707-11e9-b447-02420a0102d6",
     "previous": "9f006472-e707-11e9-b447-02420a0102d6"
    }
   },
   "source": [
    "**Quiz-4**\n",
    "\n",
    "**http://etherpad.openstack.org/p/2019-cloud への到達ルートを見ましょう！**\n",
    "\n",
    "**そのためのコマンドを作って実行してみましょう。**"
   ]
  },
  {
   "cell_type": "code",
   "execution_count": null,
   "metadata": {
    "lc_cell_meme": {
     "current": "9f0065a8-e707-11e9-b447-02420a0102d6",
     "next": "5bf3bef4-e707-11e9-b447-02420a0102d6",
     "previous": "147221e2-e707-11e9-b447-02420a0102d6"
    },
    "lc_wrapper": {
     "log_history": [
      "/home/yoko69d621/cloud/.log/20191022/20191022-061205-0651.log"
     ]
    }
   },
   "outputs": [],
   "source": [
    "##ここの下の行にコマンドを書いて実行してみてください。\n"
   ]
  },
  {
   "cell_type": "markdown",
   "metadata": {
    "lc_cell_meme": {
     "current": "5bf3bef4-e707-11e9-b447-02420a0102d6",
     "history": [
      {
       "current": "5bf3bef4-e707-11e9-b447-02420a0102d6",
       "next": null,
       "previous": "147221e2-e707-11e9-b447-02420a0102d6"
      }
     ],
     "next": "9f0066de-e707-11e9-b447-02420a0102d6",
     "previous": "9f0065a8-e707-11e9-b447-02420a0102d6"
    }
   },
   "source": [
    "**Quiz-5**\n",
    "\n",
    "**自分の興味のある海外のサーバへの到達ルートを見ましょう！**\n",
    "\n",
    "**そのためのコマンドを作って実行してみましょう。**"
   ]
  },
  {
   "cell_type": "code",
   "execution_count": null,
   "metadata": {
    "lc_cell_meme": {
     "current": "9f0066de-e707-11e9-b447-02420a0102d6",
     "next": null,
     "previous": "5bf3bef4-e707-11e9-b447-02420a0102d6"
    }
   },
   "outputs": [],
   "source": [
    "##ここの下の行にコマンドを書いて実行してみてください。\n"
   ]
  }
 ],
 "metadata": {
  "kernelspec": {
   "display_name": "Python 3",
   "language": "python",
   "name": "python3"
  },
  "language_info": {
   "file_extension": ".py",
   "mimetype": "text/x-python",
   "name": "python",
   "nbconvert_exporter": "python",
   "pygments_lexer": "ipython3",
   "version": "3.7.3"
  },
  "lc_notebook_meme": {
   "current": "e288cd18-6586-11e9-b810-02420a00005a",
   "lc_server_signature": {
    "current": {
     "notebook_dir": "/home/yoko69d621",
     "notebook_path": "/cloud",
     "server_url": "https://nb03.ecloud.nii.ac.jp/user/yoko69d621/",
     "signature_id": "5e786c6e-5fea-11e9-b810-02420a00005a"
    },
    "history": [
     {
      "notebook_dir": "/home/yoko69d621",
      "notebook_path": "/textbook/cloud",
      "server_url": "https://nb03.ecloud.nii.ac.jp/user/yoko69d621/",
      "signature_id": "5e786c6e-5fea-11e9-b810-02420a00005a"
     }
    ]
   }
  },
  "toc": {
   "base_numbering": 1,
   "nav_menu": {},
   "number_sections": true,
   "sideBar": true,
   "skip_h1_title": false,
   "title_cell": "Table of Contents",
   "title_sidebar": "Contents",
   "toc_cell": false,
   "toc_position": {},
   "toc_section_display": true,
   "toc_window_display": false
  }
 },
 "nbformat": 4,
 "nbformat_minor": 2
}
