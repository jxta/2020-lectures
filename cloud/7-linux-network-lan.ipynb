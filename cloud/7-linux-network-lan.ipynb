{
 "cells": [
  {
   "cell_type": "markdown",
   "metadata": {
    "lc_cell_meme": {
     "current": "2b1f38a0-6587-11e9-b810-02420a00005a",
     "next": "2b1f390e-6587-11e9-b810-02420a00005a",
     "previous": null
    }
   },
   "source": [
    "**tcpdumpコマンドをインストールして、 tcpdumpコマンドをたたいてみよう**\n",
    "\n",
    "https://ja.wikipedia.org/wiki/Tcpdump"
   ]
  },
  {
   "cell_type": "markdown",
   "metadata": {
    "lc_cell_meme": {
     "current": "2b1f390e-6587-11e9-b810-02420a00005a",
     "next": "2b1f394a-6587-11e9-b810-02420a00005a",
     "previous": "2b1f38a0-6587-11e9-b810-02420a00005a"
    }
   },
   "source": [
    "**tcpdumpのインストール**"
   ]
  },
  {
   "cell_type": "code",
   "execution_count": null,
   "metadata": {
    "lc_cell_meme": {
     "current": "2b1f394a-6587-11e9-b810-02420a00005a",
     "next": "2b1f397c-6587-11e9-b810-02420a00005a",
     "previous": "2b1f390e-6587-11e9-b810-02420a00005a"
    }
   },
   "outputs": [],
   "source": [
    "!sudo apt-get update;sudo apt-get install tcpdump -y"
   ]
  },
  {
   "cell_type": "markdown",
   "metadata": {
    "lc_cell_meme": {
     "current": "2b1f397c-6587-11e9-b810-02420a00005a",
     "next": "2b1f39ae-6587-11e9-b810-02420a00005a",
     "previous": "2b1f394a-6587-11e9-b810-02420a00005a"
    }
   },
   "source": [
    "**tcpdump で　30パケット分だけ　packet dump**"
   ]
  },
  {
   "cell_type": "code",
   "execution_count": null,
   "metadata": {
    "lc_cell_meme": {
     "current": "2b1f39ae-6587-11e9-b810-02420a00005a",
     "next": "2b1f39d6-6587-11e9-b810-02420a00005a",
     "previous": "2b1f397c-6587-11e9-b810-02420a00005a"
    }
   },
   "outputs": [],
   "source": [
    "!sudo tcpdump -c 30"
   ]
  },
  {
   "cell_type": "markdown",
   "metadata": {
    "lc_cell_meme": {
     "current": "2b1f39d6-6587-11e9-b810-02420a00005a",
     "next": "2b1f3a08-6587-11e9-b810-02420a00005a",
     "previous": "2b1f39ae-6587-11e9-b810-02420a00005a"
    }
   },
   "source": [
    "このままだと　tcpdumpの出力のための packetのdumpが大量に出て邪魔なので、その分はdumpしないようにしてみる。  \n",
    "**（133.8.69.107 は　yokoの端末の　IPアドレスなので、この部分は各自のそれに変更する必要がある。）**  \n",
    "30パケット発生させるために　別にterminal を開いて　ping 8.8.8.8 などとたたいて　packetを発生させてみよう。"
   ]
  },
  {
   "cell_type": "code",
   "execution_count": null,
   "metadata": {
    "lc_cell_meme": {
     "current": "2b1f3a08-6587-11e9-b810-02420a00005a",
     "next": "2b1f3a3a-6587-11e9-b810-02420a00005a",
     "previous": "2b1f39d6-6587-11e9-b810-02420a00005a"
    }
   },
   "outputs": [],
   "source": [
    "!ip addr"
   ]
  },
  {
   "cell_type": "code",
   "execution_count": null,
   "metadata": {
    "lc_cell_meme": {
     "current": "2b1f3a3a-6587-11e9-b810-02420a00005a",
     "next": "2b1f3a6c-6587-11e9-b810-02420a00005a",
     "previous": "2b1f3a08-6587-11e9-b810-02420a00005a"
    }
   },
   "outputs": [],
   "source": [
    "!sudo tcpdump not src or dst host 133.8.134.107 -c 5"
   ]
  },
  {
   "cell_type": "code",
   "execution_count": null,
   "metadata": {
    "lc_cell_meme": {
     "current": "2b1f3a6c-6587-11e9-b810-02420a00005a",
     "next": "2b1f3a9e-6587-11e9-b810-02420a00005a",
     "previous": "2b1f3a3a-6587-11e9-b810-02420a00005a"
    }
   },
   "outputs": [],
   "source": [
    "!sudo tcpdump -vv not src or dst host  10.255.0.2  -c 5"
   ]
  },
  {
   "cell_type": "markdown",
   "metadata": {
    "lc_cell_meme": {
     "current": "2b1f3a9e-6587-11e9-b810-02420a00005a",
     "next": "2b1f3ac6-6587-11e9-b810-02420a00005a",
     "previous": "2b1f3a6c-6587-11e9-b810-02420a00005a"
    }
   },
   "source": [
    "**port 80のoutboundパケットに注目してみよう。**"
   ]
  },
  {
   "cell_type": "code",
   "execution_count": null,
   "metadata": {
    "lc_cell_meme": {
     "current": "2b1f3ac6-6587-11e9-b810-02420a00005a",
     "next": null,
     "previous": "2b1f3a9e-6587-11e9-b810-02420a00005a"
    }
   },
   "outputs": [],
   "source": [
    "!sudo tcpdump dst port 80 -c 5"
   ]
  }
 ],
 "metadata": {
  "kernelspec": {
   "display_name": "Python 3",
   "language": "python",
   "name": "python3"
  },
  "language_info": {
   "codemirror_mode": {
    "name": "ipython",
    "version": 3
   },
   "file_extension": ".py",
   "mimetype": "text/x-python",
   "name": "python",
   "nbconvert_exporter": "python",
   "pygments_lexer": "ipython3",
   "version": "3.7.3"
  },
  "lc_notebook_meme": {
   "current": "2b1f367a-6587-11e9-b810-02420a00005a",
   "lc_server_signature": {
    "current": {
     "notebook_dir": "/home/yoko69d621",
     "notebook_path": "/textbook/cloud",
     "server_url": "https://nb03.ecloud.nii.ac.jp/user/yoko69d621/",
     "signature_id": "5e786c6e-5fea-11e9-b810-02420a00005a"
    },
    "history": []
   }
  }
 },
 "nbformat": 4,
 "nbformat_minor": 2
}
